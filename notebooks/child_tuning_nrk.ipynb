{
 "cells": [
  {
   "cell_type": "code",
   "execution_count": 4,
   "id": "f6ea7a72",
   "metadata": {
    "collapsed": true
   },
   "outputs": [
    {
     "name": "stdout",
     "output_type": "stream",
     "text": [
      "\u001b[33mWARNING: Ignoring invalid distribution -yfunctional (/home/kf/miniconda3/envs/pytorch1.7.1/lib/python3.8/site-packages)\u001b[0m\u001b[33m\n",
      "\u001b[0m\u001b[33mWARNING: Ignoring invalid distribution -yfunctional (/home/kf/miniconda3/envs/pytorch1.7.1/lib/python3.8/site-packages)\u001b[0m\u001b[33m\n",
      "\u001b[0mRequirement already satisfied: transformers in /home/kf/miniconda3/envs/pytorch1.7.1/lib/python3.8/site-packages (4.17.0)\n",
      "Requirement already satisfied: sacremoses in /home/kf/miniconda3/envs/pytorch1.7.1/lib/python3.8/site-packages (from transformers) (0.0.45)\n",
      "Requirement already satisfied: filelock in /home/kf/miniconda3/envs/pytorch1.7.1/lib/python3.8/site-packages (from transformers) (3.0.12)\n",
      "Requirement already satisfied: regex!=2019.12.17 in /home/kf/miniconda3/envs/pytorch1.7.1/lib/python3.8/site-packages (from transformers) (2021.10.8)\n",
      "Requirement already satisfied: huggingface-hub<1.0,>=0.1.0 in /home/kf/miniconda3/envs/pytorch1.7.1/lib/python3.8/site-packages (from transformers) (0.4.0)\n",
      "Requirement already satisfied: tqdm>=4.27 in /home/xd/.local/lib/python3.8/site-packages (from transformers) (4.60.0)\n",
      "Requirement already satisfied: tokenizers!=0.11.3,>=0.11.1 in /home/kf/miniconda3/envs/pytorch1.7.1/lib/python3.8/site-packages (from transformers) (0.11.6)\n",
      "Requirement already satisfied: packaging>=20.0 in /home/xd/.local/lib/python3.8/site-packages (from transformers) (20.9)\n",
      "Requirement already satisfied: pyyaml>=5.1 in /home/kf/miniconda3/envs/pytorch1.7.1/lib/python3.8/site-packages/PyYAML-6.0-py3.8-linux-x86_64.egg (from transformers) (6.0)\n",
      "Requirement already satisfied: numpy>=1.17 in /home/kf/miniconda3/envs/pytorch1.7.1/lib/python3.8/site-packages (from transformers) (1.21.2)\n",
      "Requirement already satisfied: requests in /home/kf/miniconda3/envs/pytorch1.7.1/lib/python3.8/site-packages (from transformers) (2.25.1)\n",
      "Requirement already satisfied: typing-extensions>=3.7.4.3 in /home/kf/miniconda3/envs/pytorch1.7.1/lib/python3.8/site-packages (from huggingface-hub<1.0,>=0.1.0->transformers) (4.1.1)\n",
      "Requirement already satisfied: pyparsing>=2.0.2 in /home/xd/.local/lib/python3.8/site-packages (from packaging>=20.0->transformers) (2.4.7)\n",
      "Requirement already satisfied: urllib3<1.27,>=1.21.1 in /home/kf/miniconda3/envs/pytorch1.7.1/lib/python3.8/site-packages (from requests->transformers) (1.26.4)\n",
      "Requirement already satisfied: chardet<5,>=3.0.2 in /home/kf/miniconda3/envs/pytorch1.7.1/lib/python3.8/site-packages (from requests->transformers) (4.0.0)\n",
      "Requirement already satisfied: idna<3,>=2.5 in /home/kf/miniconda3/envs/pytorch1.7.1/lib/python3.8/site-packages (from requests->transformers) (2.10)\n",
      "Requirement already satisfied: certifi>=2017.4.17 in /home/kf/miniconda3/envs/pytorch1.7.1/lib/python3.8/site-packages (from requests->transformers) (2021.10.8)\n",
      "Requirement already satisfied: six in /home/kf/miniconda3/envs/pytorch1.7.1/lib/python3.8/site-packages (from sacremoses->transformers) (1.16.0)\n",
      "Requirement already satisfied: joblib in /home/kf/miniconda3/envs/pytorch1.7.1/lib/python3.8/site-packages (from sacremoses->transformers) (1.0.1)\n",
      "Requirement already satisfied: click in /home/kf/miniconda3/envs/pytorch1.7.1/lib/python3.8/site-packages (from sacremoses->transformers) (7.1.2)\n",
      "\u001b[33mWARNING: Ignoring invalid distribution -yfunctional (/home/kf/miniconda3/envs/pytorch1.7.1/lib/python3.8/site-packages)\u001b[0m\u001b[33m\n",
      "\u001b[0m\u001b[33mWARNING: Ignoring invalid distribution -yfunctional (/home/kf/miniconda3/envs/pytorch1.7.1/lib/python3.8/site-packages)\u001b[0m\u001b[33m\n",
      "\u001b[0m\u001b[33mWARNING: Ignoring invalid distribution -yfunctional (/home/kf/miniconda3/envs/pytorch1.7.1/lib/python3.8/site-packages)\u001b[0m\u001b[33m\n",
      "\u001b[0mNote: you may need to restart the kernel to use updated packages.\n"
     ]
    }
   ],
   "source": [
    "pip install --upgrade transformers"
   ]
  },
  {
   "cell_type": "code",
   "execution_count": 8,
   "id": "0e11bc1d",
   "metadata": {
    "collapsed": true
   },
   "outputs": [
    {
     "name": "stdout",
     "output_type": "stream",
     "text": [
      "\u001b[33mWARNING: Ignoring invalid distribution -yfunctional (/home/kf/miniconda3/envs/pytorch1.7.1/lib/python3.8/site-packages)\u001b[0m\u001b[33m\n",
      "\u001b[0m\u001b[33mWARNING: Ignoring invalid distribution -yfunctional (/home/kf/miniconda3/envs/pytorch1.7.1/lib/python3.8/site-packages)\u001b[0m\u001b[33m\n",
      "\u001b[0mCollecting pyfunctional\n",
      "  Using cached PyFunctional-1.4.3-py3-none-any.whl (49 kB)\n",
      "Requirement already satisfied: dill>=0.2.5 in /home/kf/miniconda3/envs/pytorch1.7.1/lib/python3.8/site-packages (from pyfunctional) (0.3.4)\n",
      "Requirement already satisfied: tabulate<=1.0.0 in /home/kf/miniconda3/envs/pytorch1.7.1/lib/python3.8/site-packages (from pyfunctional) (0.8.9)\n",
      "\u001b[33mWARNING: Ignoring invalid distribution -yfunctional (/home/kf/miniconda3/envs/pytorch1.7.1/lib/python3.8/site-packages)\u001b[0m\u001b[33m\n",
      "\u001b[0mInstalling collected packages: pyfunctional\n",
      "\u001b[33mWARNING: Ignoring invalid distribution -yfunctional (/home/kf/miniconda3/envs/pytorch1.7.1/lib/python3.8/site-packages)\u001b[0m\u001b[33m\n",
      "\u001b[0mSuccessfully installed pyfunctional-1.4.3\n",
      "\u001b[33mWARNING: Ignoring invalid distribution -yfunctional (/home/kf/miniconda3/envs/pytorch1.7.1/lib/python3.8/site-packages)\u001b[0m\u001b[33m\n",
      "\u001b[0m\u001b[33mWARNING: Ignoring invalid distribution -yfunctional (/home/kf/miniconda3/envs/pytorch1.7.1/lib/python3.8/site-packages)\u001b[0m\u001b[33m\n",
      "\u001b[0mNote: you may need to restart the kernel to use updated packages.\n"
     ]
    }
   ],
   "source": [
    "pip install --upgrade pyfunctional"
   ]
  },
  {
   "cell_type": "code",
   "execution_count": 1,
   "id": "367b7b1e",
   "metadata": {},
   "outputs": [],
   "source": [
    "%%capture\n",
    "%run \"context_learning_nrk.ipynb\""
   ]
  },
  {
   "cell_type": "code",
   "execution_count": 1,
   "id": "7292808a",
   "metadata": {},
   "outputs": [],
   "source": [
    "from IPython import get_ipython\n",
    "%load_ext autoreload\n",
    "%autoreload 2\n",
    "\n",
    "from IPython.core.interactiveshell import InteractiveShell\n",
    "InteractiveShell.ast_node_interactivity = 'all'"
   ]
  },
  {
   "cell_type": "code",
   "execution_count": 2,
   "id": "54a886cb",
   "metadata": {},
   "outputs": [
    {
     "name": "stdout",
     "output_type": "stream",
     "text": [
      "In file_utils.py: default_cache_path = /raid/xd/.cache/torch/transformers\n"
     ]
    }
   ],
   "source": [
    "import sys\n",
    "import os\n",
    "\n",
    "os.environ['HF_HOME'] = '/raid/xd/.cache/torch'\n",
    "os.environ[\"CUDA_DEVICE_ORDER\"]=\"PCI_BUS_ID\"\n",
    "os.environ[\"CUDA_VISIBLE_DEVICES\"]=\"7\"\n",
    "from sklearn.metrics import accuracy_score, precision_recall_fscore_support\n",
    "from types import MethodType\n",
    "from tqdm import tqdm\n",
    "from collections import defaultdict, OrderedDict, Counter\n",
    "from datetime import datetime\n",
    "from io import StringIO\n",
    "from itertools import chain\n",
    "import math\n",
    "from functools import reduce\n",
    "import numpy as np \n",
    "# np.set_printoptions(threshold=np.inf)\n",
    "%matplotlib inline\n",
    "import matplotlib.pyplot as plt\n",
    "import seaborn as sns\n",
    "\n",
    "import torch\n",
    "import torch.nn as nn\n",
    "import torch.nn.functional as F \n",
    "from torch.utils.data.sampler import RandomSampler, Sampler, SequentialSampler\n",
    "from torch.utils.data.dataloader import DataLoader\n",
    "\n",
    "from transformers.data.data_collator import DataCollator, default_data_collator\n",
    "from transformers import AutoConfig, pipeline\n",
    "from transformers import RobertaForMaskedLM, RobertaTokenizer, GPT2LMHeadModel, GPT2Tokenizer, GPTNeoForCausalLM\n",
    "from transformers import T5Tokenizer, T5ForConditionalGeneration\n",
    "from transformers import HfArgumentParser, Trainer, TrainingArguments, set_seed, AdamW\n",
    "# from torch.optim.lr_scheduler import CosineAnnealingLR\n",
    "# from transformers.trainer_utils import EvaluationStrategy\n"
   ]
  },
  {
   "cell_type": "code",
   "execution_count": 3,
   "id": "7f54c226",
   "metadata": {},
   "outputs": [],
   "source": [
    "from transformers import GPT2LMHeadModel, GPT2Tokenizer, GPTNeoForCausalLM, GPTJForCausalLM"
   ]
  },
  {
   "cell_type": "code",
   "execution_count": 4,
   "id": "dd287822",
   "metadata": {},
   "outputs": [],
   "source": [
    "sys.path.insert(0, '/nas/xd/projects/PyFunctional')\n",
    "from functional import seq\n",
    "from functional.pipeline import Sequence\n",
    "from fn import _\n",
    "from collections import namedtuple "
   ]
  },
  {
   "cell_type": "code",
   "execution_count": 5,
   "id": "f14f83c8",
   "metadata": {},
   "outputs": [],
   "source": [
    "l = [('a', 1), ('b', 2), ('a', 3), ('c', 2)]"
   ]
  },
  {
   "cell_type": "code",
   "execution_count": 6,
   "id": "3e3fb3f6",
   "metadata": {},
   "outputs": [
    {
     "data": {
      "text/plain": [
       "['a', 'b', 'c']"
      ]
     },
     "execution_count": 6,
     "metadata": {},
     "output_type": "execute_result"
    }
   ],
   "source": [
    "seq(l).dom()"
   ]
  },
  {
   "cell_type": "code",
   "execution_count": 7,
   "id": "97c16cbb",
   "metadata": {},
   "outputs": [
    {
     "data": {
      "text/plain": [
       "[1, 2, 3]"
      ]
     },
     "execution_count": 7,
     "metadata": {},
     "output_type": "execute_result"
    }
   ],
   "source": [
    "seq(l).codom()"
   ]
  },
  {
   "cell_type": "code",
   "execution_count": 14,
   "id": "b27075a1",
   "metadata": {},
   "outputs": [
    {
     "data": {
      "text/plain": [
       "[1, 3]"
      ]
     },
     "execution_count": 14,
     "metadata": {},
     "output_type": "execute_result"
    }
   ],
   "source": [
    "seq(l).image('a')"
   ]
  },
  {
   "cell_type": "code",
   "execution_count": 11,
   "id": "167173b7",
   "metadata": {},
   "outputs": [
    {
     "data": {
      "text/plain": [
       "[1, 3, 2]"
      ]
     },
     "execution_count": 11,
     "metadata": {},
     "output_type": "execute_result"
    }
   ],
   "source": [
    "seq(l).image(['a', 'c'])"
   ]
  },
  {
   "cell_type": "code",
   "execution_count": 13,
   "id": "994d4e1a",
   "metadata": {},
   "outputs": [
    {
     "data": {
      "text/plain": [
       "['b', 'a', 'c']"
      ]
     },
     "execution_count": 13,
     "metadata": {},
     "output_type": "execute_result"
    }
   ],
   "source": [
    "seq(l).preimage([3, 2])"
   ]
  },
  {
   "cell_type": "code",
   "execution_count": 5,
   "id": "58cba5e2",
   "metadata": {
    "scrolled": true
   },
   "outputs": [],
   "source": [
    "from utils import *\n",
    "from child_utils import *\n",
    "from common_utils import *"
   ]
  },
  {
   "cell_type": "code",
   "execution_count": 6,
   "id": "30243f47",
   "metadata": {},
   "outputs": [],
   "source": [
    "import random"
   ]
  },
  {
   "cell_type": "code",
   "execution_count": 7,
   "id": "90f62ac5",
   "metadata": {},
   "outputs": [],
   "source": [
    "models = {}\n",
    "cache_dir = '/nas/xd/.cache/torch/transformers/'  # for models besides t5-3b/11b\n",
    "proxies = {'http': '192.168.50.1:1081'} "
   ]
  },
  {
   "cell_type": "code",
   "execution_count": 1580,
   "id": "520d34a6",
   "metadata": {
    "scrolled": true
   },
   "outputs": [
    {
     "name": "stderr",
     "output_type": "stream",
     "text": [
      "loading configuration file https://huggingface.co/EleutherAI/gpt-j-6B/resolve/main/config.json from cache at /nas/xd/.cache/torch/transformers/gpt-j-6B-config.json\n",
      "Model config GPTJConfig {\n",
      "  \"activation_function\": \"gelu_new\",\n",
      "  \"architectures\": [\n",
      "    \"GPTJForCausalLM\"\n",
      "  ],\n",
      "  \"attn_pdrop\": 0.0,\n",
      "  \"bos_token_id\": 50256,\n",
      "  \"embd_pdrop\": 0.0,\n",
      "  \"eos_token_id\": 50256,\n",
      "  \"gradient_checkpointing\": false,\n",
      "  \"initializer_range\": 0.02,\n",
      "  \"layer_norm_epsilon\": 1e-05,\n",
      "  \"model_type\": \"gptj\",\n",
      "  \"n_embd\": 4096,\n",
      "  \"n_head\": 16,\n",
      "  \"n_inner\": null,\n",
      "  \"n_layer\": 28,\n",
      "  \"n_positions\": 2048,\n",
      "  \"resid_pdrop\": 0.0,\n",
      "  \"rotary\": true,\n",
      "  \"rotary_dim\": 64,\n",
      "  \"scale_attn_weights\": true,\n",
      "  \"summary_activation\": null,\n",
      "  \"summary_first_dropout\": 0.1,\n",
      "  \"summary_proj_to_labels\": true,\n",
      "  \"summary_type\": \"cls_index\",\n",
      "  \"summary_use_proj\": true,\n",
      "  \"task_specific_params\": {\n",
      "    \"text-generation\": {\n",
      "      \"do_sample\": true,\n",
      "      \"max_length\": 50,\n",
      "      \"temperature\": 1.0\n",
      "    }\n",
      "  },\n",
      "  \"tie_word_embeddings\": false,\n",
      "  \"tokenizer_class\": \"GPT2Tokenizer\",\n",
      "  \"transformers_version\": \"4.18.0.dev0\",\n",
      "  \"use_cache\": true,\n",
      "  \"vocab_size\": 50400\n",
      "}\n",
      "\n",
      "loading weights file https://huggingface.co/EleutherAI/gpt-j-6B/resolve/main/pytorch_model.bin from cache at /nas/xd/.cache/torch/transformers/026f12960ffab80e6f4f983cd8672c6f4579e3a12d469f0cad87973e86376f78.c38ac789b8cf0cadade691fc5f5045ad1b1b47f34d438e40a578f6154f250b25\n",
      "All model checkpoint weights were used when initializing GPTJForCausalLM.\n",
      "\n",
      "All the weights of GPTJForCausalLM were initialized from the model checkpoint at EleutherAI/gpt-j-6B.\n",
      "If your task is similar to the task the model of the checkpoint was trained on, you can already use GPTJForCausalLM for predictions without further training.\n",
      "loading file https://huggingface.co/gpt2/resolve/main/vocab.json from cache at /nas/xd/.cache/torch/transformers/684fe667923972fb57f6b4dcb61a3c92763ad89882f3da5da9866baf14f2d60f.c7ed1f96aac49e745788faa77ba0a26a392643a50bb388b9c04ff469e555241f\n",
      "loading file https://huggingface.co/gpt2/resolve/main/merges.txt from cache at /nas/xd/.cache/torch/transformers/c0c761a63004025aeadd530c4c27b860ec4ecbe8a00531233de21d865a402598.5d12962c5ee615a4c803841266e9c3be9a691a924f72d395d3a6c6c81157788b\n",
      "loading file https://huggingface.co/gpt2/resolve/main/added_tokens.json from cache at None\n",
      "loading file https://huggingface.co/gpt2/resolve/main/special_tokens_map.json from cache at None\n",
      "loading file https://huggingface.co/gpt2/resolve/main/tokenizer_config.json from cache at None\n",
      "loading configuration file https://huggingface.co/gpt2/resolve/main/config.json from cache at /nas/xd/.cache/torch/transformers/fc674cd6907b4c9e933cb42d67662436b89fa9540a1f40d7c919d0109289ad01.7d2e0efa5ca20cef4fb199382111e9d3ad96fd77b849e1d4bed13a66e1336f51\n",
      "Model config GPT2Config {\n",
      "  \"_name_or_path\": \"gpt2\",\n",
      "  \"activation_function\": \"gelu_new\",\n",
      "  \"architectures\": [\n",
      "    \"GPT2LMHeadModel\"\n",
      "  ],\n",
      "  \"attn_pdrop\": 0.1,\n",
      "  \"bos_token_id\": 50256,\n",
      "  \"embd_pdrop\": 0.1,\n",
      "  \"eos_token_id\": 50256,\n",
      "  \"initializer_range\": 0.02,\n",
      "  \"layer_norm_epsilon\": 1e-05,\n",
      "  \"model_type\": \"gpt2\",\n",
      "  \"n_ctx\": 1024,\n",
      "  \"n_embd\": 768,\n",
      "  \"n_head\": 12,\n",
      "  \"n_inner\": null,\n",
      "  \"n_layer\": 12,\n",
      "  \"n_positions\": 1024,\n",
      "  \"reorder_and_upcast_attn\": false,\n",
      "  \"resid_pdrop\": 0.1,\n",
      "  \"scale_attn_by_inverse_layer_idx\": false,\n",
      "  \"scale_attn_weights\": true,\n",
      "  \"summary_activation\": null,\n",
      "  \"summary_first_dropout\": 0.1,\n",
      "  \"summary_proj_to_labels\": true,\n",
      "  \"summary_type\": \"cls_index\",\n",
      "  \"summary_use_proj\": true,\n",
      "  \"task_specific_params\": {\n",
      "    \"text-generation\": {\n",
      "      \"do_sample\": true,\n",
      "      \"max_length\": 50\n",
      "    }\n",
      "  },\n",
      "  \"transformers_version\": \"4.18.0.dev0\",\n",
      "  \"use_cache\": true,\n",
      "  \"vocab_size\": 50257\n",
      "}\n",
      "\n"
     ]
    }
   ],
   "source": [
    "model_name = \"EleutherAI/gpt-j-6B\"\n",
    "# model_name = \"EleutherAI/gpt-neo-1.3B\"\n",
    "model = GPTJForCausalLM.from_pretrained(model_name, proxies=proxies, cache_dir=cache_dir)\n",
    "# model = GPTNeoForCausalLM.from_pretrained(model_name, proxies=proxies, cache_dir=cache_dir)\n",
    "tokenizer = GPT2Tokenizer.from_pretrained('gpt2', cache_dir=cache_dir)\n",
    "models[model_name] = model, tokenizer"
   ]
  },
  {
   "cell_type": "code",
   "execution_count": 1590,
   "id": "052c1e0f",
   "metadata": {},
   "outputs": [],
   "source": [
    "prompt_token = 'Ġ!'; prompt_id = tokenizer._convert_token_to_id(prompt_token)\n",
    "bop_str = 'Instruction: '; bop_id = tokenizer.encode(bop_str)[0]  # 'Inst'\n",
    "eop_str = '. For example:'; eop_id = tokenizer.encode(eop_str)[2] # 'Ġexample'\n",
    "bos_id = tokenizer._convert_token_to_id('Ġ->')\n",
    "eos_id = tokenizer._convert_token_to_id('Ċ')\n",
    "\n",
    "\n",
    "class CHILDDataset(Dataset):\n",
    "    def __init__(self, input_strs, tokenizer):\n",
    "        if tokenizer.pad_token is None: tokenizer.pad_token = '!'\n",
    "        self.inputs = tokenizer.batch_encode_plus(input_strs, add_special_tokens=False, padding=True, return_tensors='pt')#长的截，短的补\n",
    "        input_ids = self.inputs.input_ids\n",
    "        self.labels = torch.ones_like(input_ids) * (-100)\n",
    "\n",
    "        for bi in range(input_ids.size(0)): \n",
    "            bop_idx = (input_ids[bi] == bop_id).nonzero().squeeze(1) #prompt\n",
    "            eop_idx = (input_ids[bi] == eop_id).nonzero().squeeze(1) #context\n",
    "\n",
    "            if len(bop_idx) > 0:\n",
    "                assert len(bop_idx) == 1 and len(eop_idx) == 1\n",
    "                bop_idx, eop_idx = bop_idx.item(), eop_idx.item() #取出单元素张量的元素值并返回该值，保持原元素类型不变\n",
    "                #bop: 0   eop:6\n",
    "                input_ids[bi, bop_idx: eop_idx + 2] *= -1  # use prompt embedding for prompt tokens\n",
    "  \n",
    "            bos_indices = (input_ids[bi] == bos_id).nonzero().squeeze(1)\n",
    "#             print(\"bos_indices:\",bos_indices)\n",
    "            eos_indices = (input_ids[bi] == eos_id).nonzero()[-len(bos_indices):].squeeze(1) #每一位 eos都比bos大2\n",
    "#             print(\"eos_indices:\",eos_indices)\n",
    "            for i, (bos_i, eos_i) in enumerate(zip(bos_indices.tolist(), eos_indices.tolist())):\n",
    "                assert eos_i > bos_i + 1\n",
    "                if i >= 3:  #zero-shot\n",
    "                    self.labels[bi, bos_i + 1: eos_i] = input_ids[bi, bos_i + 1: eos_i] \n",
    "        \n",
    "        \n",
    "    def re_input(self):\n",
    "        return self.inputs['input_ids']\n",
    "        \n",
    "    def __len__(self):\n",
    "        return len(self.inputs['input_ids'])\n",
    "\n",
    "    def __getitem__(self, i):\n",
    "        return {'input_ids': self.inputs['input_ids'][i],  #输入\n",
    "                'attention_mask': self.inputs['attention_mask'][i],\n",
    "                'labels': self.labels[i]}   #结果"
   ]
  },
  {
   "cell_type": "code",
   "execution_count": 609,
   "id": "62e8812e",
   "metadata": {},
   "outputs": [
    {
     "name": "stdout",
     "output_type": "stream",
     "text": [
      "{'input_ids': tensor([ -6310,  -2762,    -25, -39771,  -1022,   -734,  -5621,    -13,  -1114,\n",
      "         -1672,    -25,    198,  40245,     25,    256,   2178,   1754,     11,\n",
      "          9925,     25,    356,  25011,     72,     11,   4422,     25,    356,\n",
      "         25011,     72,     11,  23040,     25,    256,   2178,   1754,     13,\n",
      "         17635,   6510,    423,  14958,     13,    685,    439,   1220,    617,\n",
      "          1220,   4844,     60,     30,   4613,    477,    198,      0,      0]), 'attention_mask': tensor([1, 1, 1, 1, 1, 1, 1, 1, 1, 1, 1, 1, 1, 1, 1, 1, 1, 1, 1, 1, 1, 1, 1, 1,\n",
      "        1, 1, 1, 1, 1, 1, 1, 1, 1, 1, 1, 1, 1, 1, 1, 1, 1, 1, 1, 1, 1, 1, 1, 1,\n",
      "        1, 1, 1, 1, 0, 0]), 'labels': tensor([-100, -100, -100, -100, -100, -100, -100, -100, -100, -100, -100, -100,\n",
      "        -100, -100, -100, -100, -100, -100, -100, -100, -100, -100, -100, -100,\n",
      "        -100, -100, -100, -100, -100, -100, -100, -100, -100, -100, -100, -100,\n",
      "        -100, -100, -100, -100, -100, -100, -100, -100, -100, -100, -100, -100,\n",
      "        -100, -100,  477, -100, -100, -100])}\n"
     ]
    }
   ],
   "source": [
    "print(train_dataset[0])"
   ]
  },
  {
   "cell_type": "code",
   "execution_count": 9,
   "id": "2b322160",
   "metadata": {},
   "outputs": [
    {
     "data": {
      "text/plain": [
       "(4613, 198)"
      ]
     },
     "execution_count": 9,
     "metadata": {},
     "output_type": "execute_result"
    }
   ],
   "source": [
    "bos_id,eos_id"
   ]
  },
  {
   "cell_type": "code",
   "execution_count": 16,
   "id": "696ea332",
   "metadata": {},
   "outputs": [],
   "source": [
    "from child_utils import *\n",
    "torch.set_printoptions(threshold=np.inf)"
   ]
  },
  {
   "cell_type": "code",
   "execution_count": 607,
   "id": "56fcd441",
   "metadata": {},
   "outputs": [],
   "source": [
    "class WrappedEmbedding(nn.Module):\n",
    "    def __init__(self,  \n",
    "                wte: nn.Embedding,  #正常向量\n",
    "                prompt_id: int = None,\n",
    "                prompt_len: int = 10, \n",
    "                random_range: float = 0.5,\n",
    "                initialize_from_vocab: bool = True):\n",
    "        super(WrappedEmbedding, self).__init__()\n",
    "#         self.wte = wte\n",
    "#         self.prompt_id = prompt_id\n",
    "#         self.prompt_len = prompt_len\n",
    "        self.__dict__.update(locals()); del self.self #locals()以字典类型返回当前位置的全部局部变量\n",
    "        if self.prompt_id is not None: #prompt_embedding prompt词向量\n",
    "            self.prompt_embedding = nn.parameter.Parameter( #将一个不可训练的类型Tensor转换成可以训练的类型parameter\n",
    "                self.initialize_embedding(random_range, initialize_from_vocab)).to(self.wte.weight.device) #在-0.5-0.5中随机取值初始化\n",
    "        else:\n",
    "            self.prompt_embedding = nn.Embedding(self.prompt_len, self.wte.weight.size(1)).to(self.wte.weight.device)\n",
    "                                        #词典大小（总共输入多少词） 嵌入向量维度（多少维表示一个符号）\n",
    "            \n",
    "            assert initialize_from_vocab\n",
    "            self.init_prompt_embedding_()  #将wte的weight值作为初始化\n",
    "#             self.prompt_embedding.weight.data = self.initialize_embedding(random_range, initialize_from_vocab)     \n",
    " \n",
    "    def initialize_embedding(self, random_range: float = 0.5, initialize_from_vocab: bool = True):\n",
    "        if initialize_from_vocab: return self.wte.weight[:self.prompt_len].clone().detach() #返回一个新的tensor，新的tensor和原来的tensor共享数据内存，但不涉及梯度计算\n",
    "        return torch.FloatTensor(self.prompt_len, self.wte.weight.size(1)).uniform_(-random_range, random_range) #产生随机数\n",
    "    \n",
    "    def init_prompt_embedding_(self):\n",
    "#         print(self.wte.weight)\n",
    "        self.prompt_embedding.weight.data[:] = self.wte.weight[:self.prompt_len]\n",
    "\n",
    "        \n",
    "    def forward(self, input_ids):\n",
    "        if self.prompt_id is not None:\n",
    "            input_embeds = self.wte(input_ids)\n",
    "            input_embeds[input_ids == self.prompt_id] = self.prompt_embedding.expand(input_embeds.size(0), -1, -1)\n",
    "        else: # adapted from cpm-2\n",
    "            prompt_mask = input_ids < 0  #返回bool类型\n",
    "#             print(\"prompt_mask:\",prompt_mask.shape)\n",
    "            prompt_ids = -input_ids * prompt_mask #将prompt的值变为正数，其他置零\n",
    "#             print(\"prompt_ids:\",prompt_ids)\n",
    "#             print(prompt_ids < self.prompt_len)\n",
    "#             print(prompt_ids)\n",
    "            assert torch.all(prompt_ids < self.prompt_len)\n",
    "#             print(self.prompt_embedding(prompt_ids).shape)\n",
    "            p_embeds = self.prompt_embedding(prompt_ids) * prompt_mask.float().unsqueeze(-1)\n",
    "#             print(\"p_embeds:\",p_embeds.shape)\n",
    "            input_ids = input_ids * ~prompt_mask\n",
    "            w_embeds = self.wte(input_ids) * (~prompt_mask).float().unsqueeze(-1)\n",
    "#             print(\"w_embeds:\",w_embeds.shape)\n",
    "            input_embeds = w_embeds + p_embeds \n",
    "#         print(input_embeds)\n",
    "        return input_embeds"
   ]
  },
  {
   "cell_type": "code",
   "execution_count": 593,
   "id": "44b17b42",
   "metadata": {},
   "outputs": [],
   "source": [
    "# adapted from cpm-2: https://github.com/TsinghuaAI/CPM-2-Finetune/blob/master/utils.py#L133-L164\n",
    "def get_params_for_prompt_optimization(module: nn.Module): #不训练模型参数，只训练prompt_embading，这个函数是取这些参数\n",
    "    params = []\n",
    "    for t in module.named_modules():\n",
    "        if \"prompt_embedding\" in t[0]:\n",
    "            params.append({'params': [p for p in list(t[1]._parameters.values()) if p is not None]})\n",
    "    for t in module.named_parameters():\n",
    "        if \"prompt\" not in t[0]:\n",
    "            t[1].requires_grad_(False)    \n",
    "    return params\n",
    "\n",
    "def create_optimizer(model, training_args):\n",
    "    from torch.nn.parallel.distributed import DistributedDataParallel as DDP\n",
    "    while isinstance(model, (DDP, )): model = model.module\n",
    "        \n",
    "    we.init_prompt_embedding_()\n",
    "    param_groups = get_params_for_prompt_optimization(model)\n",
    "    optimizer = AdamW(param_groups, lr=training_args.learning_rate, \n",
    "                      betas=(training_args.adam_beta1, training_args.adam_beta2),eps=training_args.adam_epsilon)\n",
    "    return optimizer"
   ]
  },
  {
   "cell_type": "code",
   "execution_count": 678,
   "id": "39b4f350",
   "metadata": {
    "scrolled": true
   },
   "outputs": [],
   "source": [
    "# wte = model.get_input_embeddings() #提取 embedding 中的 词向量部分\n",
    "# if hasattr(wte, 'wte'): wte = wte.wte  # already been wrapped\n",
    "# we = WrappedEmbedding(wte, prompt_len=20000)\n",
    "# model.set_input_embeddings(we) #为词向量赋值"
   ]
  },
  {
   "cell_type": "code",
   "execution_count": 13,
   "id": "ae3bb45f",
   "metadata": {},
   "outputs": [],
   "source": [
    "def verbalize(obj):\n",
    "    if type(obj) == bool: return 'Yes' if obj else 'No'\n",
    "    return str(obj)\n",
    "\n",
    "def list2str(l): return ' '.join(str(i) for i in l)\n",
    "def pairs2str(pairs): return ', '.join(str(k) + ': ' + str(v) for k, v in pairs)\n",
    "\n",
    "def make_context_str(cxt):\n",
    "    if type(cxt) == list:\n",
    "        return pairs2str(cxt) if type(cxt[0]) == tuple and len(cxt[0]) == 2 else list2str(cxt)\n",
    "    if type(cxt) == tuple:\n",
    "        return '; '.join(make_context_str(c) for c in cxt)  # 用分号分隔context的不同部分\n",
    "    \n",
    "def make_query_str(instruction, query):\n",
    "    if instruction is None and query is None: return ''\n",
    "    s = '.'\n",
    "    if instruction is not None: s = s + ' ' + instruction\n",
    "    if query is not None:\n",
    "        if type(query) in [int, bool, str]: query = [query]\n",
    "        if type(query) == dict:# and list(query.keys())[0] != \"CS\"):  # by nrk\n",
    "            s = s + ' ' + '{' + ','.join([' replace %s with %s' % (str(k), str(v)) for k, v in query.items()]) + ' }'\n",
    "        if type(query) in [list, tuple]:\n",
    "            s = s + ' ' + ' '.join([list2str(i) if type(i) == list else str(i) for i in query])\n",
    "    return s\n",
    "\n",
    "def make_example_str(example, query2str):\n",
    "    instruction, cxt, query, ans = example\n",
    "    if type(ans) not in [Sequence, list]: ans = [ans]\n",
    "    ans = [verbalize(a) for a in ans]\n",
    "#     return '%s -> %s' % (''.join(l[0]) + make_query_str(instruction if with_instruction else None, query), ' '.join(ans))  # by nrk\n",
    "#     return '%s -> %s' % (' '.join(l) + make_query_str(instruction if with_instruction else None, query), ' '.join(ans))  # by XD\n",
    "#     return '%s -> %s' % (make_context_str(cxt) + make_query_str(instruction if with_instruction else None, query[0]), ' '.join(ans))\n",
    "    return '%s -> %s' % (make_context_str(cxt) + query2str(query), ' '.join(ans))\n",
    "\n",
    "\n",
    "def sample_rand_len(vocab, k): return sample(vocab, k=randint(1, k))"
   ]
  },
  {
   "cell_type": "code",
   "execution_count": 1015,
   "id": "df63ee7d",
   "metadata": {},
   "outputs": [],
   "source": [
    "def promptize(s):\n",
    "#     return prompt_token * len(s.split())\n",
    "    return bop_str + s + eop_str\n",
    "\n",
    "courses_vocab=[\"Sql\",\"Math\",\"English\",\"Chinese\",\"Art\",\"Music\",\"History\",\"Biology\",\"Chemistry\",\"Physics\",\"Geography\"]\n",
    "all_vocab = [\"apple\",\"pear\",\"peach\",\"grape\",\"banana\",\"pineapple\",\"lemon\",\"strawberry\",\"cola\",\"juice\",\"coffee\",\"milk\",\"wine\",\"beer\",\"whisky\",\"vodka\",\"brandy\"]\n",
    "solid_vocab=[\"apple\",\"pear\",\"peach\",\"grape\",\"banana\",\"pineapple\",\"lemon\",\"strawberry\"]\n",
    "liquid_vocab=[\"cola\",\"juice\",\"coffee\",\"milk\",\"wine\",\"beer\",\"whisky\",\"vodka\",\"brandy\"]\n",
    "names_vocab =  [i for i in string.ascii_uppercase]\n",
    "depts_vocab = [\"CS\",\"Chi\",\"Eng\",\"Mat\"]\n",
    "sl = [\"solid\"]*len(solid_vocab)+[\"liquid\"]*len(liquid_vocab)\n",
    "sl_vocab = dict(zip(all_vocab,sl))\n",
    "toys = [\"ball\",\"doll\",\"puppet\",\"weiqi\",\"chess\",\"slide\",\"diabolo\",\"plasticine\",\"tumbler\"]\n",
    "                                              #滑梯     空竹      橡皮泥      不倒翁\n",
    "boys = [\"Alex\",\"Dylan\",\"Daniel\",\"Patrick\",\"Austin\",\"Harrison\",\"Tom\",\"Neil\"]\n",
    "girls = [\"Ashley\",\"jessica\",\"Sarah\",\"Amanda\",\"Nicole\",\"Katherine\",\"Anne\",\"Eva\"]\n",
    "all = boys+girls\n",
    "bg = [\"boys\"]*len(boys)+[\"girls\"]*len(girls)\n",
    "bg_vocab = dict(zip(all,bg))\n",
    "\n",
    "all = solid_vocab+toys\n",
    "ft = [\"fruits\"]*len(solid_vocab)+[\"toys\"]*len(toys)\n",
    "ft_vocab = dict(zip(all,ft))\n",
    "\n",
    "def make_input_str(task, nrows=4, ncols=4, full_vocab=None, ans_vocab=[True, False]):\n",
    "    if full_vocab is None: full_vocab = string.ascii_uppercase + string.digits\n",
    "    transform_fn, vocab_fn, sample_fn, query_fn, query2str = task\n",
    "    instruction = transform_fn.__name__.replace('_', ' ')\n",
    "    if vocab_fn is None: vocab_fn = lambda: full_vocab\n",
    "    if query_fn is None: query_fn = lambda *_: None\n",
    "        \n",
    "    examples = []\n",
    "    query = None\n",
    "    for i in range(nrows):\n",
    "        vocab = vocab_fn()\n",
    "        l = sample_fn(vocab, k=ncols)\n",
    "        query = query_fn(l, vocab, ncols)\n",
    "        examples.append([instruction, l, query, transform_fn(l, query=query)])\n",
    "    examples = balance(examples,ans_vocab)\n",
    "\n",
    "    desc = promptize(instruction) if True else ''\n",
    "    text = '\\n'.join([make_example_str(e, query2str) for e in examples])\n",
    "    text = desc + '\\n' + text + '\\n'\n",
    "    return text"
   ]
  },
  {
   "cell_type": "code",
   "execution_count": 17,
   "id": "bd0c286b",
   "metadata": {},
   "outputs": [],
   "source": [
    "# # def balance(examples, ans_vocab=[True, False]):\n",
    "# def balance1(examples, ans_vocab):\n",
    "#     groups = seq(examples).group_by(_[-1]).map(_[1])  # 按ans分组\n",
    "# #     assert groups.len() == len(ans_vocab), '%d < %d' % (groups.len(), len(ans_vocab))  # 保证每种ans都出现\n",
    "#     min_cnt = groups.map(lambda x: len(x)).min()\n",
    "#     examples = groups.map(lambda x: sample(x, min_cnt)).flatten().list() # 每组都采样最小个数后去分组\n",
    "#     return sample(examples, len(examples))  # 重新打乱"
   ]
  },
  {
   "cell_type": "code",
   "execution_count": 1591,
   "id": "2d664342",
   "metadata": {},
   "outputs": [],
   "source": [
    "def balance(examples, ans_vocab):\n",
    "    groups = seq(examples).group_by(_[-1]).map(_[1])  # 按ans分组\n",
    "#     min_cnt = groups.map(lambda x: len(x)).min()\n",
    "    min_cnt = 2\n",
    "    if(groups.len()>3):\n",
    "        min_cnt = 2\n",
    "    elif(groups.len()==3):\n",
    "        min_cnt = 2\n",
    "    if(min_cnt > 2):\n",
    "        examples = groups.map(lambda x: sample(x, 2)).flatten().list() # 每组都采样最小个数后去分组\n",
    "        return sample(examples, len(examples))  # 重新打乱\n",
    "    else:\n",
    "        examples = groups.map(lambda x: sample(x, min_cnt)).flatten().list() # 每组都采样最小个数后去分组\n",
    "        return sample(examples, len(examples))  # 重新打乱"
   ]
  },
  {
   "cell_type": "code",
   "execution_count": 1373,
   "id": "ab80cfd2",
   "metadata": {},
   "outputs": [],
   "source": [
    "import itertools  \n",
    "def Do_all_students_choose_courses_in_a_department(cxt, query):\n",
    "    SC, CD = cxt  # SC paris: studeng-course relation, CD pairs: course-department function\n",
    "    ss, d = query  # ss: 学生子集（可以*不止两个学生*），d: 课程\n",
    "#     return seq(ss).map(lambda s: seq(SC).filter(_[0] == s).map(_[1]).intersection(CD.filter(_.[1] == d).map(_.[0])).non_empty()).all()\n",
    "    return (seq(ss)\n",
    "            .map(lambda s: seq(SC).filter(_[0] == s).map(_[1])  # 学生s选的所有课程\n",
    "                 .intersection(\n",
    "                     seq(CD).filter(_[1] == d).map(_[0])) # d系的课程\n",
    "                 .non_empty())  # s选了d系的课程\n",
    "            .all())  # 学生子集ss都选了d系的课程\n",
    "\n",
    "def all_a_sample(vocab, k):\n",
    "    S_vocab, C_vocab, D_vocab = vocab  # vocabs of students, courses, departments\n",
    "    k_S, k_C, k_D, k_SC = k  # default values: k_S = 3, k_C = 3, k_D = 2, k_SC = 5\n",
    "    S, C, D = sample(S_vocab, k_S), sample(C_vocab, k_C), sample(D_vocab, k_D)\n",
    "    \n",
    "    while len(set(CD := choices(D, k=k_C))) < k_D: continue  # ds里每个系的课都要出现\n",
    "    CD = list(zip(C, CD))  # 得到每门课所属的系\n",
    "    \n",
    "    all_SC = list(itertools.product(S, C))  # or seq(S).cartesian(C).list()\n",
    "    while seq(SC := sample(all_SC, k_SC)).map(_[0]).distinct().len() < k_S: continue  # ss里每个学生都要选课\n",
    "    return SC, CD\n",
    "\n",
    "def select_distinct(tuples, col): return seq(tuples).map(_[col]).distinct().list()\n",
    "    \n",
    "def all_a_query(cxt,vocab,k):\n",
    "    SC, CD = cxt\n",
    "    k_S, k_C, k_D, k_SC = k\n",
    "    S, D = select_distinct(SC, 0), select_distinct(CD, 1)\n",
    "#     k_ss = randint(2, len(S))\n",
    "    ss = sample(S, 2)\n",
    "    d = choice(D)\n",
    "    return ss, d\n",
    "\n",
    "def all_a_query2str(query):\n",
    "    ss, d = query\n",
    "    query_str = '%s,%s?' % (', '.join(ss[:-1]) + ' and ' + ss[-1], d)\n",
    "    return '. ' + query_str\n"
   ]
  },
  {
   "cell_type": "code",
   "execution_count": 1359,
   "id": "b8103db3",
   "metadata": {},
   "outputs": [],
   "source": [
    "def all_b(cxt, query):\n",
    "    SC, CD = cxt\n",
    "    ss,d = query\n",
    "    return (seq(CD).filter(_[1] == d).map(_[0])\n",
    "                 .difference(\n",
    "                     seq(SC).filter(_[0] == ss).map(_[1]))\n",
    "                 .empty())\n",
    "\n",
    "def all_b_sample(vocab, k):\n",
    "    S_vocab, C_vocab, D_vocab = vocab  \n",
    "    k_S, k_C, k_D, k_SC = k  # default values: k_S = 2, k_C = 3, k_D = 2, k_SC = 5\n",
    "    S, C, D = sample(S_vocab, k_S), sample(C_vocab, k_C), sample(D_vocab, k_D)\n",
    "    \n",
    "    while len(set(CD := choices(D, k=k_C))) < k_D: continue  \n",
    "    CD = list(zip(C, CD)) \n",
    "    \n",
    "    all_SC = list(itertools.product(S, C))  \n",
    "    while seq(SC := sample(all_SC, k_SC)).map(_[0]).distinct().len() < k_S: continue  # ss里每个学生都要选课\n",
    "    return SC, CD\n",
    "   \n",
    "def all_b_query(cxt,vocab,k):  # XD: 不要给qeury_fn加st参数\n",
    "    SC, CD = cxt\n",
    "    k_S, k_C, k_D, k_SC = k\n",
    "    S, D = select_distinct(SC, 0), select_distinct(CD, 1)\n",
    "#     k_ss = randint(2, len(S))  # XD: k_ss unused\n",
    "    ss = choice(S)\n",
    "    d = choice(D)\n",
    "    return ss, d\n",
    "    # XD: 不要在query_fn里转str！！这里转str，transform_fn里再解析回来，两边不是白折腾吗！\n",
    "\n",
    "def all_b_query2str(query):\n",
    "    ss, d = query\n",
    "    query_str = 'Does %s take all %s courses?' % (ss, d)\n",
    "    return '. ' + query_str\n",
    "\n",
    "\n",
    "def Is_the_intersection_of_two_sets_empty(cxt, query):\n",
    "    SC= cxt\n",
    "    s,d = query\n",
    "    return (seq(SC).filter(_[0] == s).map(_[1])\n",
    "                 .intersection(\n",
    "                     seq(SC).filter(_[0] == d).map(_[1]))\n",
    "                 .non_empty())\n",
    "\n",
    "def intersection_query(cxt,vocab,k):\n",
    "    SC= cxt\n",
    "    k_S, k_C, k_SC = k #k_s = 3, k_C = 5 , k_sc = 6\n",
    "    S = select_distinct(SC, 0)\n",
    "    s,d = sample(S,2)\n",
    "    return s, d\n",
    "\n",
    "def intersection_query2str(query):\n",
    "    s, d = query\n",
    "    query_str = \"%s,%s?\" % (s, d)\n",
    "    return '. ' + query_str\n",
    "\n",
    "def intersection_sample(vocab, k):\n",
    "    S_vocab, C_vocab = vocab  \n",
    "    k_S, k_C, k_SC = k  # k_S = 3, k_C = 5, , k_SC = 6\n",
    "    S, C= sample(S_vocab, k_S), sample(C_vocab, k_C)\n",
    "    all_SC = list(itertools.product(S, C))  \n",
    "    while seq(SC := sample(all_SC, k_SC)).map(_[0]).distinct().len() < k_S: continue \n",
    "    return SC\n",
    "\n",
    "def Is_the_first_set_a_subset_of_the_second_one(cxt, query):\n",
    "    SC= cxt\n",
    "    s,d = query\n",
    "    return (seq(SC).filter(_[0] == d).map(_[1])\n",
    "                 .union(\n",
    "                     seq(SC).filter(_[0] == s).map(_[1]))\n",
    "                 ).distinct().len()== seq(SC).filter(_[0] == d).map(_[1]).distinct().len()\n",
    "\n",
    "def complement_query(cxt,vocab,k):\n",
    "    SC= cxt\n",
    "    k_S, k_C, k_SC = k #k_s = 3, k_C = 5 , k_sc = 6\n",
    "    S = select_distinct(SC, 0)\n",
    "    s,d = sample(S,2)\n",
    "    return s, d\n",
    "\n",
    "def complement_query2str(query):\n",
    "    s, d = query\n",
    "    query_str = \"%s,%s?\" % (s, d)\n",
    "    return '. ' + query_str\n",
    "\n",
    "def complement_sample(vocab, k):\n",
    "    S_vocab, C_vocab = vocab  \n",
    "    k_S, k_C, k_SC = k  # k_S = 3, k_C = 4, k_SC = 5\n",
    "    S, C= sample(S_vocab, k_S), sample(C_vocab, k_C)\n",
    "    all_SC = list(itertools.product(S, C))  \n",
    "    while seq(SC := sample(all_SC, k_SC)).map(_[0]).distinct().len() < k_S: continue \n",
    "    return SC\n",
    "\n",
    "def Are_they_the_union_of_the_last_element(cxt, query):\n",
    "    SC, DC = cxt\n",
    "    ss,d = query\n",
    "    return (seq(ss)\n",
    "            .map(lambda s: seq(SC).filter(_[0] == s).map(_[1]) \n",
    "                 .union(\n",
    "                     seq(DC).filter(_[0] == d).map(_[1])) \n",
    "                 .distinct().len() == seq(DC).filter(_[0] == d).map(_[1]).distinct().len())  \n",
    "            .all()) \n",
    "\n",
    "def union_sample(vocab, k):\n",
    "    S_vocab, C_vocab, D_vocab = vocab  \n",
    "    k_S, k_C, k_D, k_SC = k  # k_S = 3, k_C = 4, k_D = 2, k_SC = 6\n",
    "    S, C, D = sample(S_vocab, k_S), sample(C_vocab, k_C), sample(D_vocab, k_D)\n",
    "    \n",
    "    while len(set(DC := choices(D, k=k_C))) < k_D: continue  \n",
    "    DC = list(zip(DC,C)) \n",
    "    \n",
    "    all_SC = list(itertools.product(S, C))  \n",
    "    while seq(SC := sample(all_SC, k_SC)).map(_[0]).distinct().len() < k_S: continue  \n",
    "    return SC, DC\n",
    "   \n",
    "def union_query(cxt,vocab,k): \n",
    "    SC, DC = cxt\n",
    "    k_S, k_C, k_D, k_SC = k\n",
    "    S, D = select_distinct(SC, 0), select_distinct(DC, 0)\n",
    "    k_ss = randint(2, len(S))\n",
    "    ss = sample(S, k_ss)\n",
    "    d = choice(D)\n",
    "    return ss, d\n",
    "\n",
    "def union_query2str(query):\n",
    "    ss, d = query\n",
    "    query_str = '%s,%s?' % (', '.join(ss[:-1]) + ' and ' + ss[-1], d)\n",
    "    return '. ' + query_str\n",
    "\n",
    "def Are_there_elements_belonging_to_the_same_class(cxt, query): #新建联系，把vocab和属性连起来形成新集合\n",
    "    NA, DA = cxt\n",
    "    s,d = query\n",
    "    D = seq(DA).filter(_[0] == d).map(_[1])\n",
    "    return (seq(NA).filter(_[0] == s).map(_[1]).select(lambda x: sl_vocab[x] == sl_vocab[D[0]]).any())\n",
    "      \n",
    "    \n",
    "def find_sample(vocab, k): \n",
    "    name_vocab, all_vocab = vocab\n",
    "    k_name, k_all, k_D, k_SA = k  # k_name = 3, k_all = 4, k_D = 2, k_SA = 6\n",
    "    S = list(all_vocab.keys())\n",
    "    N, A, D = sample(name_vocab, k_name), sample(S, k_all), sample(string.ascii_lowercase, k_D)\n",
    "#     D = sample(d := name_vocab.pop(name_vocab.index(a) for a in N),k_D)\n",
    "    A1 = sample(S, k_D)\n",
    "    DA = list(zip(D,A1)) \n",
    "    \n",
    "    all_NA = list(itertools.product(N, A))  \n",
    "    while seq(NA := sample(all_NA, k_SA)).map(_[0]).distinct().len() < k_name: continue  \n",
    "    return NA, DA\n",
    "   \n",
    "def find_query(cxt,vocab,k): \n",
    "    NA, DA = cxt\n",
    "    k_name, k_all, k_D, k_SA = k\n",
    "    S,D = select_distinct(NA, 0), select_distinct(DA, 0)\n",
    "    s,d = choice(S), choice(D)\n",
    "    return s, d\n",
    "\n",
    "def find_query2str(query):\n",
    "    s, d = query\n",
    "    query_str = '%s,%s?' % (s, d)\n",
    "    return '. ' + query_str\n",
    "\n",
    "\n",
    "def Are_there_any_elements_different_from_other_elements(cxt, query):\n",
    "    NA = cxt\n",
    "    ss = query\n",
    "    return (seq(ss).map(lambda s: seq(NA).filter(_[0] == s).map(_[1])\n",
    "                        .select(lambda x: sl_vocab[x])[0])\n",
    "            .distinct().len( ) == 2)\n",
    "               \n",
    "def find_dif_sample(vocab, k):\n",
    "    name_vocab, all_vocab = vocab\n",
    "    k_name, k_all, k_SA = k  # k_name = 4, k_all = 4, k_SA= 3\n",
    "    N, A = sample(name_vocab, k_name), sample(list(all_vocab.keys()), k_all) \n",
    "    NA = list(zip(N,A)) \n",
    "    return NA\n",
    "   \n",
    "def find_dif_query(cxt,vocab,k): \n",
    "    NA = cxt\n",
    "    k_name, k_all, k_NA = k\n",
    "    S = select_distinct(NA, 0)\n",
    "    ss = sample(S,k_NA)\n",
    "    return ss\n",
    "\n",
    "\n",
    "def find_dif_query2str(query):\n",
    "    ss = query\n",
    "    query_str = '%s?' % (', '.join(ss[:-1]) + ' and ' + ss[-1])\n",
    "    return '. ' + query_str\n",
    "\n"
   ]
  },
  {
   "cell_type": "code",
   "execution_count": 1360,
   "id": "464efbec",
   "metadata": {},
   "outputs": [],
   "source": [
    "def How_many_elements_are_similar_to_the_case(cxt, query):\n",
    "    s = cxt\n",
    "    q = query\n",
    "    return seq(s).filter(lambda x: sl_vocab[x] == sl_vocab[q[0]]).len()\n",
    "                     \n",
    "def count_sample(vocab, k):\n",
    "    all_vocab = vocab\n",
    "    k_cxt,k_query = k  # k_cxt = 4 ,k_query =1\n",
    "    N = list(all_vocab.keys())\n",
    "    s = sample(N, k_cxt) \n",
    "    return s\n",
    "   \n",
    "def count_query(cxt,vocab,k): \n",
    "    NA = cxt\n",
    "    k_cxt,k_query = k\n",
    "    N = list(vocab.keys())\n",
    "    q = sample(N,k_query)\n",
    "    return q\n",
    "\n",
    "def count_query2str(query):\n",
    "    q = query\n",
    "    query_str = '%s?' % (q[0])\n",
    "    return '. ' + query_str\n",
    "\n",
    "def Is_the_number_of_first_elements_greater_than_the_second_one(cxt, query):\n",
    "    s = cxt\n",
    "    q = query\n",
    "    return (seq(s).filter(lambda x: sl_vocab[x] == sl_vocab[q[0]]).len() >= len(s)/2)\n",
    "                     \n",
    "def compare_sample(vocab, k):\n",
    "    all_vocab,s_vocab,l_vocab = vocab\n",
    "    k_cxt,k_query = k  # k_cxt = 5 ,k_query =2\n",
    "    N = list(all_vocab.keys())\n",
    "    s = sample(N, k_cxt) \n",
    "    return s\n",
    "   \n",
    "def compare_query(cxt,vocab,k): \n",
    "    NA = cxt\n",
    "    all_vocab,s_vocab,l_vocab = vocab\n",
    "    k_cxt,k_query = k\n",
    "    q = sample(s_vocab,1)+sample(l_vocab,1)\n",
    "    random.shuffle(q)\n",
    "    return q\n",
    "\n",
    "def compare_query2str(query):\n",
    "    ss,q = query\n",
    "    query_str = '%s,%s?' % (ss,q)\n",
    "    return '. ' + query_str"
   ]
  },
  {
   "cell_type": "code",
   "execution_count": 1361,
   "id": "62aee837",
   "metadata": {},
   "outputs": [],
   "source": [
    "def Ascii_size_existence(l, query): return seq(l).map(_[0] > query).any()\n",
    "def Ascii_size_all(l, query): return seq(l).map(_[0] > query).all()\n",
    "def Ascii_size_None(l, query): return seq(l).filter(_[0] > query).empty()\n",
    "def ith_element(l, query=None): return seq(l).slice(1, 2)\n",
    "def ith_group(l, query=None): return seq(l).group_by(_).select(_[1]).slice(1, 2).flatten()#.distinct()# davinci F w/ and wo dist\n",
    "# def element_at_index(l, query): return seq(l).slice(query, query + 1) # davinci F\n",
    "def element_at_index(l, query): return seq(l).enumerate().filter(_[0] == query).select(_[1])\n",
    "def replace(l, query): return seq(l).map(lambda x: query.get(x, x))\n",
    "def replace_with_the_other(l, query): # davinci F\n",
    "    query = {k: (set(l) - {k}).pop() for k in l}\n",
    "    return replace(l, query)\n",
    "def replace_all_with(l, query): return seq(l).map(lambda x: query)  # davinci F?!\n",
    "def interleave_with(l, query): return seq(l).flat_map(lambda x: [x, query])  # davinci T!!\n",
    "def unique_elements(l, query=None): return seq(l).distinct() # davinci F\n",
    "def how_many_unique_elements(l, query=None): return seq(l).distinct().len()  # davinci F\n",
    "def how_many(l, query): return seq(l).filter(_ == query).len() # davinci F\n",
    "def select_same_as(l, query): return seq(l).filter(_ == query) # simpler version of how_many. davinci F\n",
    "def select_same_number_as(l, query): return seq(l).group_by(_).select(_[1]).filter(lambda x: len(x) == len(query)).flatten() # F\n",
    "def includes(l, query): return seq(l).union(seq(query)).distinct().len() == seq(l).distinct().len() # davinci F\n",
    "def is_included_by(l, query): return seq(l).difference(seq(query)).empty() # davinci F"
   ]
  },
  {
   "cell_type": "code",
   "execution_count": 1362,
   "id": "388dd77e",
   "metadata": {},
   "outputs": [],
   "source": [
    "def Compare_the_values_of_two_sets(cxt, query):\n",
    "    s = cxt\n",
    "    q = query\n",
    "    if(seq(s).filter(lambda x: sl_vocab[x] == sl_vocab[q[0]]).len() > len(s)/2):\n",
    "        return \">\"\n",
    "    elif(seq(s).filter(lambda x: sl_vocab[x] == sl_vocab[q[0]]).len() < len(s)/2):\n",
    "        return \"<\"\n",
    "    else:\n",
    "        return \"=\"\n",
    "\n",
    "def Compare_sample(vocab, k):\n",
    "    all_vocab,s_vocab,l_vocab = vocab\n",
    "    k_cxt,k_query = k  # k_cxt = 5 ,k_query =2\n",
    "    N = list(all_vocab.keys())\n",
    "    s = sample(N, k_cxt) \n",
    "    return s\n",
    "   \n",
    "def Compare_query(cxt,vocab,k): \n",
    "    NA = cxt\n",
    "    all_vocab,s_vocab,l_vocab = vocab\n",
    "    k_cxt,k_query = k\n",
    "    q = sample(s_vocab,1)+sample(l_vocab,1)\n",
    "    random.shuffle(q)\n",
    "    return q\n",
    "\n",
    "def Compare_query2str(query):\n",
    "    ss,q = query\n",
    "    query_str = '%s,%s?' % (ss,q)\n",
    "    return '. ' + query_str"
   ]
  },
  {
   "cell_type": "code",
   "execution_count": 1363,
   "id": "48028352",
   "metadata": {},
   "outputs": [],
   "source": [
    "def Relationship_between_two_sets(cxt, query): #新建联系，把vocab和属性连起来形成新集合\n",
    "    NA = cxt\n",
    "    s,q= query   #s:boys/girls  q:fruits/toys\n",
    "    name = seq(NA).filter(lambda x: bg_vocab[x[0]] == s)\n",
    "    if(seq(name).map(_[1]).filter(lambda x: ft_vocab[x] == q).len() == seq(name).len()):\n",
    "        return \"all\"\n",
    "    elif(seq(name).map(_[1]).filter(lambda x: ft_vocab[x] == q).empty()):\n",
    "        return \"none\"\n",
    "    else:\n",
    "        return \"some\"\n",
    "    \n",
    "def Relationship_sample(vocab, k): \n",
    "    name_vocab, all_vocab = vocab\n",
    "    k_name, k_all, k_SA = k  # k_name = 4, k_all = 4, k_SA = 4\n",
    "    Name = list(name_vocab.keys())\n",
    "    S = list(all_vocab.keys())\n",
    "    N, A = sample(Name, k_name), sample(S, k_all)\n",
    "#     D = sample(d := name_vocab.pop(name_vocab.index(a) for a in N),k_D)\n",
    "    \n",
    "    all_NA = list(itertools.product(N, A))  \n",
    "    while seq(NA := sample(all_NA, k_SA)).map(_[0]).distinct().len() < k_name: continue  \n",
    "    return NA\n",
    "   \n",
    "def Relationship_query(cxt,vocab,k): \n",
    "    NA = cxt\n",
    "    name_vocab, all_vocab = vocab\n",
    "    k_name, k_all, k_SA = k\n",
    "    S,D = select_distinct(NA, 0),select_distinct(NA, 1)\n",
    "    s,d = choice(S),choice(D)\n",
    "    s1,d1 = name_vocab[s],all_vocab[d]\n",
    "    return s1,d1\n",
    "\n",
    "def Relationship_query2str(query):\n",
    "    s,q = query\n",
    "    query_str = '[] %s have %s. [all / some / none]?' % (s,q)\n",
    "    return '. ' + query_str"
   ]
  },
  {
   "cell_type": "code",
   "execution_count": 1374,
   "id": "f199b53d",
   "metadata": {},
   "outputs": [],
   "source": [
    "tasks = [\n",
    "    (ith_element,            None,                               sample,    None,None),\n",
    "    (ith_group,              None, lambda vocab, k: seq(sample(vocab, k)).map(lambda x:[x]*randint(1, 3)).flatten().list(),None,None),\n",
    "    (element_at_index,       lambda: upper_letters,              sample,    lambda l,vocab,k: randint(0, min(2,len(l)-1))),\n",
    "    (replace,                None,                               sample,    lambda l,vocab,k: {choice(l): choice(vocab)}),\n",
    "    (replace_with_the_other, lambda: sample(full_vocab, 2),   lambda vocab,k: sample(vocab+choices(vocab, k=k-2),k), None),\n",
    "    (replace_all_with,       None,                               sample_rand_len, lambda l,vocab,k: choice(vocab)),\n",
    "    (interleave_with,        None,                               sample_rand_len, lambda l,vocab,k: choice(vocab)),\n",
    "    (unique_elements,        lambda: sample(upper_letters, 3),   choices,   None),\n",
    "    (how_many_unique_elements,lambda: sample(upper_letters, 3),  choices,   None),\n",
    "    (how_many,               lambda: sample(upper_letters, 3),   choices,   lambda l,vocab,k: choice(list(set(l)))),\n",
    "    (select_same_as,         lambda: sample(upper_letters, 3),   choices,   lambda l,vocab,k: choice(list(set(l)))),\n",
    "    (select_same_number_as,  None, lambda vocab, k: seq(sample(vocab, k)).map(lambda x:[x]*randint(1, 3)).flatten().list(),   \n",
    "     lambda l,vocab,k: [choice(vocab)]*randint(1, 3)),\n",
    "    (includes,               lambda: sample(upper_letters, 6),   sample,    lambda l,vocab,k: sample(vocab, 3)),\n",
    "    (is_included_by,         lambda: sample(upper_letters, 6),   sample,    lambda l,vocab,k: sample(vocab, 5)),\n",
    "    \n",
    "    (Ascii_size_None,        lambda: string.ascii_uppercase,              sample,    lambda l,vocab,k: \"Is there no element greater than %s?\" % choice(list(set(l)))),\n",
    "    (Ascii_size_all,         lambda: string.ascii_uppercase,              sample,    lambda l,vocab,k: \"Are all elements greater than %s?\" % choice(list(set(l)))),\n",
    "    (Ascii_size_existence,   lambda: string.ascii_uppercase,              sample,    lambda l,vocab,k: \"Is there an element greater than %s?\" % choice(list(set(l)))),\n",
    "    \n",
    "    (all_a,                  lambda: [names_vocab,courses_vocab,depts_vocab],     all_a_sample,    all_a_query, all_a_query2str),\n",
    "    (Do_all_students_choose_courses_in_a_department,    lambda: [names_vocab,courses_vocab,depts_vocab],     all_a_sample,    all_a_query, all_a_query2str),\n",
    "    (Compare_the_values_of_two_sets,  lambda: [sl_vocab,solid_vocab,liquid_vocab],  Compare_sample,    Compare_query, Compare_query2str),\n",
    "    (Relationship_between_two_sets,   lambda: [bg_vocab,ft_vocab],               Relationship_sample,    Relationship_query, Relationship_query2str),\n",
    "    (Is_the_intersection_of_two_sets_empty,           lambda: [string.ascii_uppercase,string.ascii_lowercase],     intersection_sample,    intersection_query, intersection_query2str),\n",
    "    (Is_the_first_set_a_subset_of_the_second_one,           lambda: [string.ascii_uppercase,string.ascii_lowercase],     complement_sample,    complement_query, complement_query2str),\n",
    "    (Are_they_the_union_of_the_last_element,                lambda: [string.ascii_uppercase,string.ascii_lowercase,depts_vocab],     union_sample,    union_query, union_query2str),\n",
    "    (Are_there_elements_belonging_to_the_same_class,            lambda: [string.ascii_uppercase,sl_vocab],      find_sample,    find_query, find_query2str ),\n",
    "    (Are_there_any_elements_different_from_other_elements,          lambda: [string.ascii_uppercase,sl_vocab],      find_dif_sample,  find_dif_query, find_dif_query2str ),\n",
    "    (How_many_elements_are_similar_to_the_case,                lambda: sl_vocab,                                      count_sample,            count_query,count_query2str),\n",
    "    (Is_the_number_of_first_elements_greater_than_the_second_one,              lambda: [sl_vocab,solid_vocab,liquid_vocab],          compare_sample,            compare_query,compare_query2str),\n",
    "]"
   ]
  },
  {
   "cell_type": "code",
   "execution_count": 1365,
   "id": "105e915f",
   "metadata": {},
   "outputs": [],
   "source": [
    "# print(make_input_str(tasks[-8], nrows=30, ncols=(4, 4, 4))) "
   ]
  },
  {
   "cell_type": "code",
   "execution_count": 664,
   "id": "91683062",
   "metadata": {},
   "outputs": [],
   "source": [
    "# print(make_input_str(tasks[-9], nrows=8, ncols=(4,2))) #比较，query中给了两个元素（固体、液体），\n",
    "                                                        #若前一个元素的类型数目大于后一个，就输出YES"
   ]
  },
  {
   "cell_type": "code",
   "execution_count": 665,
   "id": "dc45005f",
   "metadata": {},
   "outputs": [],
   "source": [
    "# print(make_input_str(tasks[-9], nrows=80, ncols=(2, 3, 2, 5))) "
   ]
  },
  {
   "cell_type": "code",
   "execution_count": 666,
   "id": "e98e87d7",
   "metadata": {},
   "outputs": [],
   "source": [
    "# print(make_input_str(tasks[-3], nrows=20, ncols=(4,4,3))) "
   ]
  },
  {
   "cell_type": "code",
   "execution_count": 667,
   "id": "6fb4988c",
   "metadata": {},
   "outputs": [],
   "source": [
    "# print(make_input_str(tasks[-4], nrows=6, ncols=(3,4,2,4)))  #找相同"
   ]
  },
  {
   "cell_type": "code",
   "execution_count": 668,
   "id": "f4070da5",
   "metadata": {},
   "outputs": [],
   "source": [
    "# print(make_input_str(tasks[-1], nrows=8, ncols=(5,2))) #比较，query中给了两个元素（固体、液体），\n",
    "                                                        #若前一个元素的类型数目大于后一个，就输出YES"
   ]
  },
  {
   "cell_type": "code",
   "execution_count": 669,
   "id": "4f3668d5",
   "metadata": {},
   "outputs": [],
   "source": [
    "# print(make_input_str(tasks[-2], nrows=30, ncols=(3,1), ans_vocab=[0,1,2,3]))    #数数，数cxt中与query中元素同类的个数\n",
    "                                                                                  #这里修改了balance函数"
   ]
  },
  {
   "cell_type": "code",
   "execution_count": 670,
   "id": "db442a52",
   "metadata": {},
   "outputs": [],
   "source": [
    "# print(make_input_str(tasks[-5], nrows=10, ncols=(3,4,2,4)))"
   ]
  },
  {
   "cell_type": "code",
   "execution_count": 671,
   "id": "eadf0bd9",
   "metadata": {},
   "outputs": [],
   "source": [
    "# print(make_input_str(tasks[-6], nrows=18, ncols=(3,11,5))) "
   ]
  },
  {
   "cell_type": "code",
   "execution_count": 672,
   "id": "c8c59a5b",
   "metadata": {},
   "outputs": [],
   "source": [
    "# print(make_input_str(tasks[-7], nrows=4, ncols=(3,4,5)))"
   ]
  },
  {
   "cell_type": "code",
   "execution_count": 1377,
   "id": "c3df9c68",
   "metadata": {},
   "outputs": [
    {
     "name": "stdout",
     "output_type": "stream",
     "text": [
      "Instruction: Do all students choose courses in a department. For example:\n",
      "L: Geography, L: English, B: Chemistry, L: Chemistry, Z: Chemistry; English: Eng, Geography: Eng, Chemistry: Mat. B and L,Eng? -> No\n",
      "J: History, O: Art, O: History, J: Math, D: History; History: CS, Art: Mat, Math: Mat. D and O,CS? -> Yes\n",
      "Z: Sql, Z: Music, P: Chemistry, P: Sql, T: Music; Sql: Eng, Music: Eng, Chemistry: Chi. P and Z,Chi? -> No\n",
      "J: Chinese, J: Music, U: Music, J: Sql, H: Chinese; Chinese: CS, Sql: Eng, Music: Eng. J and H,CS? -> Yes\n",
      "\n"
     ]
    }
   ],
   "source": [
    "# print(make_input_str(tasks[-10], nrows=100, ncols=(3, 3, 2, 5))) "
   ]
  },
  {
   "cell_type": "code",
   "execution_count": 674,
   "id": "06d90c77",
   "metadata": {},
   "outputs": [],
   "source": [
    "# print(make_input_str(tasks[-2], nrows=8, ncols=4))"
   ]
  },
  {
   "cell_type": "code",
   "execution_count": 675,
   "id": "3185653b",
   "metadata": {},
   "outputs": [],
   "source": [
    "# if n_total == 1:\n",
    "#     inputs = tokenizer.encode_plus(text, return_tensors='pt')\n",
    "#     inputs = prepare_inputs(inputs, model.device)\n",
    "#     outputs = model(**inputs, output_attentions=False)\n",
    "\n",
    "#     # assert inputs.input_ids.size(0) == 1\n",
    "#     input_ids = inputs.input_ids\n",
    "#     logits = outputs.logits\n",
    "\n",
    "#     bsz = input_ids.size(0); assert bsz == 1\n",
    "#     labels = torch.ones_like(input_ids) * (-100)\n",
    "#     for bi in range(bsz):\n",
    "#         bos_indices = (input_ids[bi] == bos_id).nonzero().squeeze(1)\n",
    "#         eos_indices = (input_ids[bi] == eos_id).nonzero()[-nrows:].squeeze(1)\n",
    "#         for i, (example, bos_i, eos_i) in enumerate(zip(examples, bos_indices.tolist(), eos_indices.tolist())):\n",
    "#             print(' ' + make_example_str(example))\n",
    "#             ans_ids = input_ids[bi, bos_i + 1: eos_i]\n",
    "#             if i >= 2: labels[bi, bos_i: eos_i - 1] = ans_ids\n",
    "#             ans_prob_dist = logits[bi, bos_i: eos_i - 1].softmax(-1)\n",
    "#             ans_probs = ans_prob_dist[torch.arange(ans_prob_dist.size(0)), ans_ids]\n",
    "#             ans_tokens = tokenizer.convert_ids_to_tokens(ans_ids)\n",
    "#             for ans_id, ans_token, ans_prob, dist in zip(ans_ids, ans_tokens, numpy(ans_probs, decimals=3), ans_prob_dist):\n",
    "#                 top1_correct = (dist.argmax() == ans_id).item()\n",
    "#                 print(('*' if top1_correct else ' ') + ans_token, ans_prob, \n",
    "#                       show_topk(*dist.topk(5), indices_fn=tokenizer.convert_ids_to_tokens)) \n",
    "#     loss = nn.CrossEntropyLoss()(logits.view(-1, logits.size(-1)), labels.view(-1))\n",
    "#     loss"
   ]
  },
  {
   "cell_type": "code",
   "execution_count": 676,
   "id": "6b5d2b45",
   "metadata": {},
   "outputs": [],
   "source": [
    "# tokenizer.convert_ids_to_tokens(617)"
   ]
  },
  {
   "cell_type": "code",
   "execution_count": 677,
   "id": "f7d6edbc",
   "metadata": {},
   "outputs": [],
   "source": [
    "# sum(s.count('Yes') for s in input_strs)\n",
    "# sum(s.count('No') for s in input_strs)\n",
    "# sum(s.count('all') for s in input_strs)\n",
    "# sum(s.count('none') for s in input_strs)\n",
    "# sum(s.count('some') for s in input_strs)\n",
    "# sum(s.count('3') for s in input_strs)"
   ]
  },
  {
   "cell_type": "code",
   "execution_count": 187,
   "id": "d64330f3",
   "metadata": {
    "scrolled": true
   },
   "outputs": [],
   "source": [
    "# [e['input_ids'] for e in train_dataset]"
   ]
  },
  {
   "cell_type": "code",
   "execution_count": 140,
   "id": "ee181c24",
   "metadata": {},
   "outputs": [],
   "source": [
    "# tokenizer.convert_ids_to_tokens(([e['input_ids'] for e in train_dataset][0]).numpy().tolist())"
   ]
  },
  {
   "cell_type": "code",
   "execution_count": 141,
   "id": "4ff9a2be",
   "metadata": {
    "scrolled": true
   },
   "outputs": [],
   "source": [
    "# print(eval_dataset.labels)"
   ]
  },
  {
   "cell_type": "code",
   "execution_count": null,
   "id": "c759bca1",
   "metadata": {},
   "outputs": [],
   "source": []
  },
  {
   "cell_type": "markdown",
   "id": "5f588b59",
   "metadata": {},
   "source": [
    "# 请从这里开始,肖老师"
   ]
  },
  {
   "cell_type": "code",
   "execution_count": 1592,
   "id": "17373019",
   "metadata": {
    "scrolled": true
   },
   "outputs": [
    {
     "name": "stdout",
     "output_type": "stream",
     "text": [
      "Instruction: Is the number of first elements greater than the second one. For example:\n",
      "whisky beer pear cola juice. grape,vodka? -> No\n",
      "brandy pineapple banana milk whisky. pineapple,coffee? -> No\n",
      "cola apple beer pineapple lemon. apple,whisky? -> Yes\n",
      "banana strawberry lemon beer brandy. peach,cola? -> Yes\n",
      "\n",
      "Instruction: Is the number of first elements greater than the second one. For example:\n",
      "beer grape cola pear wine. banana,milk? -> No\n",
      "coffee pineapple lemon pear brandy. peach,coffee? -> Yes\n",
      "vodka pear juice grape brandy. wine,grape? -> Yes\n",
      "brandy pear coffee lemon juice. banana,brandy? -> No\n",
      "\n"
     ]
    }
   ],
   "source": [
    "# n_total, n_valid = 500, 100  #全部数目，测试数目\n",
    "# n_total, n_valid = 800, 200\n",
    "n_total, n_valid = 180, 30\n",
    "# n_total, n_valid =20,4\n",
    "n_train = n_total - n_valid\n",
    "# input_strs = [make_input_str(tasks[-7], nrows=100, ncols=(3,4,5)) for __ in range(n_total)]# Is the intersection of two sets empty.\n",
    "# input_strs = [make_input_str(tasks[-3], nrows=100, ncols=(4,4,3)) for __ in range(n_total)]# Are there any elements different from other elements\n",
    "# input_strs = [make_input_str(tasks[-4], nrows=100, ncols=(3,4,2,4)) for __ in range(n_total)]# Are_there_elements_belonging_to_the_same_class\n",
    "input_strs = [make_input_str(tasks[-1], nrows=100, ncols=(5,2)) for __ in range(n_total)]#Is_the_number_of_first_elements_greater_than_the_second_one\n",
    "# input_strs = [make_input_str(tasks[-2], nrows=180, ncols=(3,1), ans_vocab=[0,1,2,3]) for __ in range(n_total)] #How_many_elements_are_similar_to_the_example\n",
    "# input_strs = [make_input_str(tasks[-5], nrows=100, ncols=(3,4,2,4)) for __ in range(n_total)] #Are_they_the_union_of_the_last_element\n",
    "# input_strs = [make_input_str(tasks[-6], nrows=200, ncols=(3,11,5)) for __ in range(n_total)]#Is the first set a subset of the second one\n",
    "# input_strs = [make_input_str(tasks[-10], nrows=100, ncols=(3, 3, 2, 5)) for __ in range(n_total)]\n",
    "# input_strs = [make_input_str(tasks[-9], nrows=100, ncols=(4,2)) for __ in range(n_total)] #Compare the values of two sets.\n",
    "# input_strs = [make_input_str(tasks[-8], nrows=100, ncols=(4, 4, 4)) for __ in range(n_total)] #Relationship between two sets.\n",
    "\n",
    "for s in sample(input_strs, 2): print(s)\n",
    "# print(input_strs)"
   ]
  },
  {
   "cell_type": "code",
   "execution_count": 1593,
   "id": "58f1d494",
   "metadata": {},
   "outputs": [],
   "source": [
    "# s,end = input_strs[0].index(\":\"),input_strs[0].index(\"For\")\n",
    "# name = input_strs[0][s+2:end]\n",
    "# import json\n",
    "# filename = './nrk/'+name\n",
    "# with open(filename,\"w\") as file_obj:\n",
    "#     json.dump(input_strs,file_obj)"
   ]
  },
  {
   "cell_type": "code",
   "execution_count": 1594,
   "id": "2e64ee95",
   "metadata": {},
   "outputs": [],
   "source": [
    "# for s in sample(text, 2): print(s)\n",
    "# n_total, n_valid = 103, 23\n",
    "# n_train = n_total - n_valid"
   ]
  },
  {
   "cell_type": "code",
   "execution_count": 1595,
   "id": "e2f80b74",
   "metadata": {},
   "outputs": [],
   "source": [
    "train_dataset = CHILDDataset(input_strs[:-n_valid], tokenizer)\n",
    "eval_dataset = CHILDDataset(input_strs[-n_valid:], tokenizer)\n",
    "# train_dataset = CHILDDataset(text[:-n_valid], tokenizer)\n",
    "# eval_dataset = CHILDDataset(text[-n_valid:], tokenizer)"
   ]
  },
  {
   "cell_type": "code",
   "execution_count": 1596,
   "id": "82ad27d7",
   "metadata": {},
   "outputs": [
    {
     "name": "stdout",
     "output_type": "stream",
     "text": [
      "4096\n"
     ]
    }
   ],
   "source": [
    "wte = model.get_input_embeddings() #提取 embedding 中的 词向量部分\n",
    "if hasattr(wte, 'wte'): wte = wte.wte  # already been wrapped\n",
    "we = WrappedEmbedding(wte, prompt_len=40000)\n",
    "model.set_input_embeddings(we) #为词向量赋值"
   ]
  },
  {
   "cell_type": "code",
   "execution_count": 1597,
   "id": "416bbc0f",
   "metadata": {},
   "outputs": [],
   "source": [
    "def compute_metrics(pred):\n",
    "    labels = []\n",
    "    bos_indices = []\n",
    "    eos_indices = []\n",
    "    preds = []\n",
    "    m = nn.Softmax(dim = -1)\n",
    "    labels_loc = pred.label_ids.argmax(-1)\n",
    "    for i in range(len(labels_loc)):\n",
    "        labels.append(pred.label_ids[i][labels_loc[i]])\n",
    "    arraypre = pred.predictions[0] # 6B\n",
    "#     arraypre = pred.predictions # 1.3B\n",
    "    predss = arraypre.argmax(-1)\n",
    "    num = \"\"\n",
    "   \n",
    "    for bi in range(predss.shape[0]):\n",
    "        num = labels_loc[bi]\n",
    "        preds.append(predss[bi, num-1:num])\n",
    "#         t = torch.from_numpy(pred.predictions[bi,num-1:num]) #1.3B\n",
    "        t = torch.from_numpy(pred.predictions[0][bi,num-1:num])  #6B\n",
    "        n = m(t)\n",
    "        ids = torch.topk(n,3)[1].numpy().tolist()  #ids   /[0] 概率\n",
    "        loc = torch.topk(n,3)[0].numpy().tolist()\n",
    "        ids = tokenizer.convert_ids_to_tokens(ids[0])\n",
    "        loc = [float('{:.4f}'.format(i)) for i in loc[0]]\n",
    "        precision = [i+\" : \"+str(j) for i,j in zip(ids,loc)]\n",
    "    acc = accuracy_score(labels, list(preds))    \n",
    "    return {\n",
    "        'accuracy': acc,\n",
    "        'precision': precision,\n",
    "    }\n"
   ]
  },
  {
   "cell_type": "code",
   "execution_count": 1598,
   "id": "d34fd7d4",
   "metadata": {},
   "outputs": [
    {
     "data": {
      "text/plain": [
       "tensor([-100, -100, -100, -100, -100, -100, -100, -100, -100, -100, -100, -100,\n",
       "        -100, -100, -100, -100, -100, -100, -100, -100, -100, -100, -100, -100,\n",
       "        -100, -100, -100, -100, -100, -100, -100, -100, -100, -100, -100, -100,\n",
       "        -100, -100, -100, -100, -100, -100, -100, -100, -100, -100, -100, -100,\n",
       "        -100, -100, -100, -100, -100, -100, -100, -100, -100, -100, -100, -100,\n",
       "        -100, -100, -100, -100, -100, -100, -100, -100, -100, -100, -100, -100,\n",
       "        -100, -100, -100, -100, -100, -100, -100, 1400, -100, -100, -100])"
      ]
     },
     "execution_count": 1598,
     "metadata": {},
     "output_type": "execute_result"
    }
   ],
   "source": [
    "eval_dataset[0]['labels']"
   ]
  },
  {
   "cell_type": "code",
   "execution_count": 1575,
   "id": "eb7bf973",
   "metadata": {},
   "outputs": [],
   "source": [
    "# def compute_metrics(pred):\n",
    "#     labels = []\n",
    "#     bos_indices = []\n",
    "#     preds = []\n",
    "#     labels_loc = pred.label_ids.argmax(-1)\n",
    "#     for i in range(len(labels_loc)):\n",
    "#         labels.append(pred.label_ids[i][labels_loc[i]])\n",
    "# #     print(labels)\n",
    "#     arraypre = pred.predictions[0] # 6B\n",
    "# # #     arraypre = pred.predictions # 1.3B\n",
    "#     print(arraypre)\n",
    "#     predss = arraypre.argmax(-1)\n",
    "#     sent = tokenizer.convert_ids_to_tokens(predss[0])\n",
    "#     sent1 = \" \".join(sent)\n",
    "#     sent1=sent1.replace(\"Ġ\",\"\")\n",
    "#     sent1=sent1.replace(\"Ċ\",\"\\n\")\n",
    "#     print(sent1)\n",
    "#     for bi in range(predss.shape[0]):\n",
    "#         for j in range(predss.shape[1]):\n",
    "#             if(predss[bi][j] == bos_id):\n",
    "#                 bos_indices.append(j)\n",
    "#         bos_i = bos_indices[-1]\n",
    "#         preds.append(predss[bi, bos_i + 1:bos_i + 2])\n",
    "    \n",
    "#     acc = accuracy_score(labels, list(preds))\n",
    "#     return {\n",
    "# #         'accuracy': acc,\n",
    "#     }\n"
   ]
  },
  {
   "cell_type": "code",
   "execution_count": 1599,
   "id": "6ebf074a",
   "metadata": {
    "scrolled": true
   },
   "outputs": [
    {
     "name": "stderr",
     "output_type": "stream",
     "text": [
      "PyTorch: setting up devices\n"
     ]
    }
   ],
   "source": [
    "training_args = TrainingArguments(output_dir=\"./models/model_name\",  #模型预测和检查点的输出目录\n",
    "    overwrite_output_dir=True, do_train=True, do_eval=True, do_predict=True, \n",
    "    per_device_train_batch_size=1, per_device_eval_batch_size=1,  #每个GPU / TPU内核/ CPU的批处理大小\n",
    "    gradient_accumulation_steps=6,eval_steps=5, \n",
    "    weight_decay=0.01, adam_beta2=0.98, adam_epsilon=1e-6,    #weight_decay要应用的权重衰减,adam_epsilon AdamW优化器的ε超参数\n",
    "    lr_scheduler_type='constant', learning_rate=0.001, num_train_epochs=1,  #learning_rate:Adam初始学习率\n",
    "    logging_strategy ='epoch',  save_steps=0,  #save_steps保存两个检查点之前的更新步骤数\n",
    "    no_cuda=True, report_to='none',  # to avoid report to wandb\n",
    "    evaluation_strategy ='steps',\n",
    "#     evaluation_strategy ='epoch'\n",
    ")"
   ]
  },
  {
   "cell_type": "code",
   "execution_count": 1600,
   "id": "ff25273c",
   "metadata": {},
   "outputs": [],
   "source": [
    "# with open(filename,\"a\") as f:\n",
    "#         f.write(str(training_args))"
   ]
  },
  {
   "cell_type": "code",
   "execution_count": 1601,
   "id": "d89c7d7b",
   "metadata": {},
   "outputs": [
    {
     "name": "stderr",
     "output_type": "stream",
     "text": [
      "/nas/xd/projects/transformers/src/transformers/optimization.py:306: FutureWarning: This implementation of AdamW is deprecated and will be removed in a future version. Use the PyTorch implementation torch.optim.AdamW instead, or set `no_deprecation_warning=True` to disable this warning\n",
      "  warnings.warn(\n"
     ]
    }
   ],
   "source": [
    "trainer = Trainer(model, training_args, train_dataset=train_dataset, eval_dataset=eval_dataset,compute_metrics=compute_metrics,\n",
    "                  optimizers=(create_optimizer(model, training_args), None))"
   ]
  },
  {
   "cell_type": "code",
   "execution_count": 1602,
   "id": "028c400f",
   "metadata": {},
   "outputs": [
    {
     "name": "stderr",
     "output_type": "stream",
     "text": [
      "***** Running Evaluation *****\n",
      "  Num examples = 30\n",
      "  Batch size = 1\n"
     ]
    },
    {
     "data": {
      "text/html": [
       "\n",
       "    <div>\n",
       "      \n",
       "      <progress value='60' max='30' style='width:300px; height:20px; vertical-align: middle;'></progress>\n",
       "      [30/30 03:01]\n",
       "    </div>\n",
       "    "
      ],
      "text/plain": [
       "<IPython.core.display.HTML object>"
      ]
     },
     "metadata": {},
     "output_type": "display_data"
    },
    {
     "data": {
      "text/plain": [
       "{'eval_loss': 0.6501192450523376,\n",
       " 'eval_accuracy': 0.7,\n",
       " 'eval_precision': ['ĠNo : 0.5911', 'ĠYes : 0.3761', 'No : 0.0041'],\n",
       " 'eval_runtime': 41.6859,\n",
       " 'eval_samples_per_second': 0.72,\n",
       " 'eval_steps_per_second': 0.72}"
      ]
     },
     "execution_count": 1602,
     "metadata": {},
     "output_type": "execute_result"
    }
   ],
   "source": [
    "trainer.evaluate() #zero-shot"
   ]
  },
  {
   "cell_type": "code",
   "execution_count": 1603,
   "id": "c5b8d21d",
   "metadata": {},
   "outputs": [
    {
     "name": "stderr",
     "output_type": "stream",
     "text": [
      "***** Running training *****\n",
      "  Num examples = 150\n",
      "  Num Epochs = 1\n",
      "  Instantaneous batch size per device = 1\n",
      "  Total train batch size (w. parallel, distributed & accumulation) = 6\n",
      "  Gradient Accumulation steps = 6\n",
      "  Total optimization steps = 25\n"
     ]
    },
    {
     "data": {
      "text/html": [
       "\n",
       "    <div>\n",
       "      \n",
       "      <progress value='25' max='25' style='width:300px; height:20px; vertical-align: middle;'></progress>\n",
       "      [25/25 09:59, Epoch 1/1]\n",
       "    </div>\n",
       "    <table border=\"1\" class=\"dataframe\">\n",
       "  <thead>\n",
       " <tr style=\"text-align: left;\">\n",
       "      <th>Step</th>\n",
       "      <th>Training Loss</th>\n",
       "      <th>Validation Loss</th>\n",
       "      <th>Accuracy</th>\n",
       "      <th>Precision</th>\n",
       "    </tr>\n",
       "  </thead>\n",
       "  <tbody>\n",
       "    <tr>\n",
       "      <td>5</td>\n",
       "      <td>No log</td>\n",
       "      <td>0.325979</td>\n",
       "      <td>0.933333</td>\n",
       "      <td>['ĠYes : 0.6455', 'ĠNo : 0.3254', 'Yes : 0.0026']</td>\n",
       "    </tr>\n",
       "    <tr>\n",
       "      <td>10</td>\n",
       "      <td>No log</td>\n",
       "      <td>0.057228</td>\n",
       "      <td>1.000000</td>\n",
       "      <td>['ĠYes : 0.9091', 'ĠNo : 0.0758', 'Ġyes : 0.0017']</td>\n",
       "    </tr>\n",
       "    <tr>\n",
       "      <td>15</td>\n",
       "      <td>No log</td>\n",
       "      <td>0.008486</td>\n",
       "      <td>1.000000</td>\n",
       "      <td>['ĠYes : 0.991', 'ĠNo : 0.0047', 'Yes : 0.001']</td>\n",
       "    </tr>\n",
       "    <tr>\n",
       "      <td>20</td>\n",
       "      <td>No log</td>\n",
       "      <td>0.003888</td>\n",
       "      <td>1.000000</td>\n",
       "      <td>['ĠYes : 0.9978', 'ĠNo : 0.0006', 'Yes : 0.0004']</td>\n",
       "    </tr>\n",
       "    <tr>\n",
       "      <td>25</td>\n",
       "      <td>No log</td>\n",
       "      <td>0.000638</td>\n",
       "      <td>1.000000</td>\n",
       "      <td>['ĠYes : 0.9997', 'Yes : 0.0001', 'Ġyes : 0.0001']</td>\n",
       "    </tr>\n",
       "  </tbody>\n",
       "</table><p>"
      ],
      "text/plain": [
       "<IPython.core.display.HTML object>"
      ]
     },
     "metadata": {},
     "output_type": "display_data"
    },
    {
     "name": "stderr",
     "output_type": "stream",
     "text": [
      "***** Running Evaluation *****\n",
      "  Num examples = 30\n",
      "  Batch size = 1\n",
      "***** Running Evaluation *****\n",
      "  Num examples = 30\n",
      "  Batch size = 1\n",
      "***** Running Evaluation *****\n",
      "  Num examples = 30\n",
      "  Batch size = 1\n",
      "***** Running Evaluation *****\n",
      "  Num examples = 30\n",
      "  Batch size = 1\n",
      "***** Running Evaluation *****\n",
      "  Num examples = 30\n",
      "  Batch size = 1\n",
      "\n",
      "\n",
      "Training completed. Do not forget to share your model on huggingface.co/models =)\n",
      "\n",
      "\n"
     ]
    },
    {
     "data": {
      "text/plain": [
       "TrainOutput(global_step=25, training_loss=0.1474924659729004, metrics={'train_runtime': 616.3794, 'train_samples_per_second': 0.243, 'train_steps_per_second': 0.041, 'total_flos': 457619995267200.0, 'train_loss': 0.1474924659729004, 'epoch': 1.0})"
      ]
     },
     "execution_count": 1603,
     "metadata": {},
     "output_type": "execute_result"
    }
   ],
   "source": [
    "trainer.train()"
   ]
  },
  {
   "cell_type": "code",
   "execution_count": 1431,
   "id": "8d29120e",
   "metadata": {},
   "outputs": [
    {
     "name": "stderr",
     "output_type": "stream",
     "text": [
      "***** Running Prediction *****\n",
      "  Num examples = 30\n",
      "  Batch size = 1\n"
     ]
    },
    {
     "data": {
      "text/html": [
       "\n",
       "    <div>\n",
       "      \n",
       "      <progress value='30' max='30' style='width:300px; height:20px; vertical-align: middle;'></progress>\n",
       "      [30/30 00:05]\n",
       "    </div>\n",
       "    "
      ],
      "text/plain": [
       "<IPython.core.display.HTML object>"
      ]
     },
     "metadata": {},
     "output_type": "display_data"
    },
    {
     "name": "stdout",
     "output_type": "stream",
     "text": [
      "{'test_loss': 0.5869720578193665, 'test_accuracy': 0.7333333333333333, 'test_precision': ['ĠNo : 0.7107', 'ĠYes : 0.2732', 'ĠNot : 0.0015'], 'test_runtime': 7.2918, 'test_samples_per_second': 4.114, 'test_steps_per_second': 4.114}\n"
     ]
    }
   ],
   "source": [
    "# input_strs = [make_input_str(tasks[-7], nrows=100, ncols=(3,4,5)) for __ in range(30)]# Is the intersection of two sets empty.\n",
    "# input_strs = [make_input_str(tasks[-3], nrows=100, ncols=(4,4,3)) for __ in range(30)]# Are there any elements different from other elements\n",
    "# input_strs = [make_input_str(tasks[-4], nrows=100, ncols=(3,4,2,4)) for __ in range(30)]# Are_there_elements_belonging_to_the_same_class\n",
    "# input_strs = [make_input_str(tasks[-1], nrows=20, ncols=(5,2)) for __ in range(130)]#Is_the_number_of_first_elements_greater_than_the_second_one\n",
    "# input_strs = [make_input_str(tasks[-2], nrows=80, ncols=(3,1), ans_vocab=[0,1,2,3]) for __ in range(30)] #How_many_elements_are_similar_to_the_example\n",
    "# input_strs = [make_input_str(tasks[-5], nrows=100, ncols=(3,4,2,4)) for __ in range(30)] #Are_they_the_union_of_the_last_element\n",
    "# input_strs = [make_input_str(tasks[-6], nrows=100, ncols=(3,11,5)) for __ in range(30)]#Is the first set a subset of the second one\n",
    "input_strs = [make_input_str(tasks[-10], nrows=100, ncols=(3, 3, 2, 5)) for __ in range(30)]\n",
    "# input_strs = [make_input_str(tasks[-9], nrows=100, ncols=(4,2)) for __ in range(30)] #Compare the values of two sets.\n",
    "# input_strs = [make_input_str(tasks[-8], nrows=100, ncols=(4, 4, 4)) for __ in range(30)] #Relationship between two sets.\n",
    "test_dataset = CHILDDataset(input_strs[:], tokenizer)\n",
    "a = trainer.predict(test_dataset) #此处新生成了测试集\n",
    "print(a.metrics)"
   ]
  },
  {
   "cell_type": "code",
   "execution_count": null,
   "id": "56d1961b",
   "metadata": {},
   "outputs": [],
   "source": []
  },
  {
   "cell_type": "code",
   "execution_count": null,
   "id": "d7ef98c4",
   "metadata": {},
   "outputs": [],
   "source": []
  },
  {
   "cell_type": "code",
   "execution_count": null,
   "id": "eedb8237",
   "metadata": {},
   "outputs": [],
   "source": []
  },
  {
   "cell_type": "code",
   "execution_count": null,
   "id": "4622d39d",
   "metadata": {},
   "outputs": [],
   "source": []
  },
  {
   "cell_type": "code",
   "execution_count": null,
   "id": "a194cd0d",
   "metadata": {},
   "outputs": [],
   "source": []
  },
  {
   "cell_type": "code",
   "execution_count": null,
   "id": "9afa17cf",
   "metadata": {},
   "outputs": [],
   "source": []
  },
  {
   "cell_type": "code",
   "execution_count": null,
   "id": "b8e6b876",
   "metadata": {},
   "outputs": [],
   "source": []
  },
  {
   "cell_type": "code",
   "execution_count": 626,
   "id": "674544c0",
   "metadata": {},
   "outputs": [
    {
     "name": "stderr",
     "output_type": "stream",
     "text": [
      "***** Running training *****\n",
      "  Num examples = 600\n",
      "  Num Epochs = 3\n",
      "  Instantaneous batch size per device = 1\n",
      "  Total train batch size (w. parallel, distributed & accumulation) = 3\n",
      "  Gradient Accumulation steps = 3\n",
      "  Total optimization steps = 600\n"
     ]
    },
    {
     "data": {
      "text/html": [
       "\n",
       "    <div>\n",
       "      \n",
       "      <progress value='201' max='600' style='width:300px; height:20px; vertical-align: middle;'></progress>\n",
       "      [201/600 1:37:40 < 3:15:50, 0.03 it/s, Epoch 1/3]\n",
       "    </div>\n",
       "    <table border=\"1\" class=\"dataframe\">\n",
       "  <thead>\n",
       " <tr style=\"text-align: left;\">\n",
       "      <th>Step</th>\n",
       "      <th>Training Loss</th>\n",
       "      <th>Validation Loss</th>\n",
       "      <th>Accuracy</th>\n",
       "      <th>Precision</th>\n",
       "    </tr>\n",
       "  </thead>\n",
       "  <tbody>\n",
       "    <tr>\n",
       "      <td>20</td>\n",
       "      <td>No log</td>\n",
       "      <td>0.767454</td>\n",
       "      <td>0.555000</td>\n",
       "      <td>['ĠNo : 0.6837', 'ĠYes : 0.2297', 'Ġyes : 0.042']</td>\n",
       "    </tr>\n",
       "    <tr>\n",
       "      <td>40</td>\n",
       "      <td>No log</td>\n",
       "      <td>0.988279</td>\n",
       "      <td>0.445000</td>\n",
       "      <td>['ĠYes : 0.8252', 'ĠNo : 0.1522', 'ĠH : 0.0115']</td>\n",
       "    </tr>\n",
       "    <tr>\n",
       "      <td>60</td>\n",
       "      <td>No log</td>\n",
       "      <td>0.745097</td>\n",
       "      <td>0.575000</td>\n",
       "      <td>['ĠNo : 0.5405', 'ĠYes : 0.4324', 'Ġyes : 0.0105']</td>\n",
       "    </tr>\n",
       "    <tr>\n",
       "      <td>80</td>\n",
       "      <td>No log</td>\n",
       "      <td>0.711160</td>\n",
       "      <td>0.550000</td>\n",
       "      <td>['ĠYes : 0.5228', 'ĠNo : 0.4729', 'Ġyes : 0.0011']</td>\n",
       "    </tr>\n",
       "    <tr>\n",
       "      <td>100</td>\n",
       "      <td>No log</td>\n",
       "      <td>0.798897</td>\n",
       "      <td>0.545000</td>\n",
       "      <td>['ĠNo : 0.7416', 'ĠYes : 0.199', 'ĠI : 0.016']</td>\n",
       "    </tr>\n",
       "    <tr>\n",
       "      <td>120</td>\n",
       "      <td>No log</td>\n",
       "      <td>0.850621</td>\n",
       "      <td>0.455000</td>\n",
       "      <td>['ĠYes : 0.5844', 'ĠNo : 0.4088', 'Ġyes : 0.0028']</td>\n",
       "    </tr>\n",
       "    <tr>\n",
       "      <td>140</td>\n",
       "      <td>No log</td>\n",
       "      <td>0.852596</td>\n",
       "      <td>0.570000</td>\n",
       "      <td>['ĠNo : 0.7922', 'ĠYes : 0.2063', 'Ġno : 0.0008']</td>\n",
       "    </tr>\n",
       "    <tr>\n",
       "      <td>160</td>\n",
       "      <td>No log</td>\n",
       "      <td>1.074910</td>\n",
       "      <td>0.590000</td>\n",
       "      <td>['ĠNo : 0.9168', 'ĠYes : 0.0606', 'Ġno : 0.0169']</td>\n",
       "    </tr>\n",
       "    <tr>\n",
       "      <td>180</td>\n",
       "      <td>No log</td>\n",
       "      <td>0.842892</td>\n",
       "      <td>0.445000</td>\n",
       "      <td>['ĠYes : 0.6652', 'ĠNo : 0.2924', 'ĠH : 0.0258']</td>\n",
       "    </tr>\n",
       "  </tbody>\n",
       "</table><p>\n",
       "    <div>\n",
       "      \n",
       "      <progress value='131' max='200' style='width:300px; height:20px; vertical-align: middle;'></progress>\n",
       "      [131/200 04:10 < 02:12, 0.52 it/s]\n",
       "    </div>\n",
       "    "
      ],
      "text/plain": [
       "<IPython.core.display.HTML object>"
      ]
     },
     "metadata": {},
     "output_type": "display_data"
    },
    {
     "name": "stderr",
     "output_type": "stream",
     "text": [
      "***** Running Evaluation *****\n",
      "  Num examples = 200\n",
      "  Batch size = 1\n",
      "***** Running Evaluation *****\n",
      "  Num examples = 200\n",
      "  Batch size = 1\n",
      "***** Running Evaluation *****\n",
      "  Num examples = 200\n",
      "  Batch size = 1\n",
      "***** Running Evaluation *****\n",
      "  Num examples = 200\n",
      "  Batch size = 1\n",
      "***** Running Evaluation *****\n",
      "  Num examples = 200\n",
      "  Batch size = 1\n",
      "***** Running Evaluation *****\n",
      "  Num examples = 200\n",
      "  Batch size = 1\n",
      "***** Running Evaluation *****\n",
      "  Num examples = 200\n",
      "  Batch size = 1\n",
      "***** Running Evaluation *****\n",
      "  Num examples = 200\n",
      "  Batch size = 1\n",
      "***** Running Evaluation *****\n",
      "  Num examples = 200\n",
      "  Batch size = 1\n",
      "***** Running Evaluation *****\n",
      "  Num examples = 200\n",
      "  Batch size = 1\n"
     ]
    },
    {
     "ename": "KeyboardInterrupt",
     "evalue": "",
     "output_type": "error",
     "traceback": [
      "\u001b[0;31m---------------------------------------------------------------------------\u001b[0m",
      "\u001b[0;31mKeyboardInterrupt\u001b[0m                         Traceback (most recent call last)",
      "\u001b[0;32m<ipython-input-626-3435b262f1ae>\u001b[0m in \u001b[0;36m<module>\u001b[0;34m\u001b[0m\n\u001b[0;32m----> 1\u001b[0;31m \u001b[0mtrainer\u001b[0m\u001b[0;34m.\u001b[0m\u001b[0mtrain\u001b[0m\u001b[0;34m(\u001b[0m\u001b[0;34m)\u001b[0m\u001b[0;34m\u001b[0m\u001b[0;34m\u001b[0m\u001b[0m\n\u001b[0m",
      "\u001b[0;32m/nas/xd/projects/transformers/src/transformers/trainer.py\u001b[0m in \u001b[0;36mtrain\u001b[0;34m(self, resume_from_checkpoint, trial, ignore_keys_for_eval, **kwargs)\u001b[0m\n\u001b[1;32m   1473\u001b[0m                     \u001b[0mself\u001b[0m\u001b[0;34m.\u001b[0m\u001b[0mcontrol\u001b[0m \u001b[0;34m=\u001b[0m \u001b[0mself\u001b[0m\u001b[0;34m.\u001b[0m\u001b[0mcallback_handler\u001b[0m\u001b[0;34m.\u001b[0m\u001b[0mon_step_end\u001b[0m\u001b[0;34m(\u001b[0m\u001b[0margs\u001b[0m\u001b[0;34m,\u001b[0m \u001b[0mself\u001b[0m\u001b[0;34m.\u001b[0m\u001b[0mstate\u001b[0m\u001b[0;34m,\u001b[0m \u001b[0mself\u001b[0m\u001b[0;34m.\u001b[0m\u001b[0mcontrol\u001b[0m\u001b[0;34m)\u001b[0m\u001b[0;34m\u001b[0m\u001b[0;34m\u001b[0m\u001b[0m\n\u001b[1;32m   1474\u001b[0m \u001b[0;34m\u001b[0m\u001b[0m\n\u001b[0;32m-> 1475\u001b[0;31m                     \u001b[0mself\u001b[0m\u001b[0;34m.\u001b[0m\u001b[0m_maybe_log_save_evaluate\u001b[0m\u001b[0;34m(\u001b[0m\u001b[0mtr_loss\u001b[0m\u001b[0;34m,\u001b[0m \u001b[0mmodel\u001b[0m\u001b[0;34m,\u001b[0m \u001b[0mtrial\u001b[0m\u001b[0;34m,\u001b[0m \u001b[0mepoch\u001b[0m\u001b[0;34m,\u001b[0m \u001b[0mignore_keys_for_eval\u001b[0m\u001b[0;34m)\u001b[0m\u001b[0;34m\u001b[0m\u001b[0;34m\u001b[0m\u001b[0m\n\u001b[0m\u001b[1;32m   1476\u001b[0m                 \u001b[0;32melse\u001b[0m\u001b[0;34m:\u001b[0m\u001b[0;34m\u001b[0m\u001b[0;34m\u001b[0m\u001b[0m\n\u001b[1;32m   1477\u001b[0m                     \u001b[0mself\u001b[0m\u001b[0;34m.\u001b[0m\u001b[0mcontrol\u001b[0m \u001b[0;34m=\u001b[0m \u001b[0mself\u001b[0m\u001b[0;34m.\u001b[0m\u001b[0mcallback_handler\u001b[0m\u001b[0;34m.\u001b[0m\u001b[0mon_substep_end\u001b[0m\u001b[0;34m(\u001b[0m\u001b[0margs\u001b[0m\u001b[0;34m,\u001b[0m \u001b[0mself\u001b[0m\u001b[0;34m.\u001b[0m\u001b[0mstate\u001b[0m\u001b[0;34m,\u001b[0m \u001b[0mself\u001b[0m\u001b[0;34m.\u001b[0m\u001b[0mcontrol\u001b[0m\u001b[0;34m)\u001b[0m\u001b[0;34m\u001b[0m\u001b[0;34m\u001b[0m\u001b[0m\n",
      "\u001b[0;32m/nas/xd/projects/transformers/src/transformers/trainer.py\u001b[0m in \u001b[0;36m_maybe_log_save_evaluate\u001b[0;34m(self, tr_loss, model, trial, epoch, ignore_keys_for_eval)\u001b[0m\n\u001b[1;32m   1600\u001b[0m         \u001b[0mmetrics\u001b[0m \u001b[0;34m=\u001b[0m \u001b[0;32mNone\u001b[0m\u001b[0;34m\u001b[0m\u001b[0;34m\u001b[0m\u001b[0m\n\u001b[1;32m   1601\u001b[0m         \u001b[0;32mif\u001b[0m \u001b[0mself\u001b[0m\u001b[0;34m.\u001b[0m\u001b[0mcontrol\u001b[0m\u001b[0;34m.\u001b[0m\u001b[0mshould_evaluate\u001b[0m\u001b[0;34m:\u001b[0m\u001b[0;34m\u001b[0m\u001b[0;34m\u001b[0m\u001b[0m\n\u001b[0;32m-> 1602\u001b[0;31m             \u001b[0mmetrics\u001b[0m \u001b[0;34m=\u001b[0m \u001b[0mself\u001b[0m\u001b[0;34m.\u001b[0m\u001b[0mevaluate\u001b[0m\u001b[0;34m(\u001b[0m\u001b[0mignore_keys\u001b[0m\u001b[0;34m=\u001b[0m\u001b[0mignore_keys_for_eval\u001b[0m\u001b[0;34m)\u001b[0m\u001b[0;34m\u001b[0m\u001b[0;34m\u001b[0m\u001b[0m\n\u001b[0m\u001b[1;32m   1603\u001b[0m             \u001b[0mself\u001b[0m\u001b[0;34m.\u001b[0m\u001b[0m_report_to_hp_search\u001b[0m\u001b[0;34m(\u001b[0m\u001b[0mtrial\u001b[0m\u001b[0;34m,\u001b[0m \u001b[0mepoch\u001b[0m\u001b[0;34m,\u001b[0m \u001b[0mmetrics\u001b[0m\u001b[0;34m)\u001b[0m\u001b[0;34m\u001b[0m\u001b[0;34m\u001b[0m\u001b[0m\n\u001b[1;32m   1604\u001b[0m \u001b[0;34m\u001b[0m\u001b[0m\n",
      "\u001b[0;32m/nas/xd/projects/transformers/src/transformers/trainer.py\u001b[0m in \u001b[0;36mevaluate\u001b[0;34m(self, eval_dataset, ignore_keys, metric_key_prefix)\u001b[0m\n\u001b[1;32m   2255\u001b[0m \u001b[0;34m\u001b[0m\u001b[0m\n\u001b[1;32m   2256\u001b[0m         \u001b[0meval_loop\u001b[0m \u001b[0;34m=\u001b[0m \u001b[0mself\u001b[0m\u001b[0;34m.\u001b[0m\u001b[0mprediction_loop\u001b[0m \u001b[0;32mif\u001b[0m \u001b[0mself\u001b[0m\u001b[0;34m.\u001b[0m\u001b[0margs\u001b[0m\u001b[0;34m.\u001b[0m\u001b[0muse_legacy_prediction_loop\u001b[0m \u001b[0;32melse\u001b[0m \u001b[0mself\u001b[0m\u001b[0;34m.\u001b[0m\u001b[0mevaluation_loop\u001b[0m\u001b[0;34m\u001b[0m\u001b[0;34m\u001b[0m\u001b[0m\n\u001b[0;32m-> 2257\u001b[0;31m         output = eval_loop(\n\u001b[0m\u001b[1;32m   2258\u001b[0m             \u001b[0meval_dataloader\u001b[0m\u001b[0;34m,\u001b[0m\u001b[0;34m\u001b[0m\u001b[0;34m\u001b[0m\u001b[0m\n\u001b[1;32m   2259\u001b[0m             \u001b[0mdescription\u001b[0m\u001b[0;34m=\u001b[0m\u001b[0;34m\"Evaluation\"\u001b[0m\u001b[0;34m,\u001b[0m\u001b[0;34m\u001b[0m\u001b[0;34m\u001b[0m\u001b[0m\n",
      "\u001b[0;32m/nas/xd/projects/transformers/src/transformers/trainer.py\u001b[0m in \u001b[0;36mevaluation_loop\u001b[0;34m(self, dataloader, description, prediction_loss_only, ignore_keys, metric_key_prefix)\u001b[0m\n\u001b[1;32m   2448\u001b[0m                     \u001b[0mlogits\u001b[0m \u001b[0;34m=\u001b[0m \u001b[0mself\u001b[0m\u001b[0;34m.\u001b[0m\u001b[0mpreprocess_logits_for_metrics\u001b[0m\u001b[0;34m(\u001b[0m\u001b[0mlogits\u001b[0m\u001b[0;34m,\u001b[0m \u001b[0mlabels\u001b[0m\u001b[0;34m)\u001b[0m\u001b[0;34m\u001b[0m\u001b[0;34m\u001b[0m\u001b[0m\n\u001b[1;32m   2449\u001b[0m                 \u001b[0mpreds_host\u001b[0m \u001b[0;34m=\u001b[0m \u001b[0mlogits\u001b[0m \u001b[0;32mif\u001b[0m \u001b[0mpreds_host\u001b[0m \u001b[0;32mis\u001b[0m \u001b[0;32mNone\u001b[0m \u001b[0;32melse\u001b[0m \u001b[0mnested_concat\u001b[0m\u001b[0;34m(\u001b[0m\u001b[0mpreds_host\u001b[0m\u001b[0;34m,\u001b[0m \u001b[0mlogits\u001b[0m\u001b[0;34m,\u001b[0m \u001b[0mpadding_index\u001b[0m\u001b[0;34m=\u001b[0m\u001b[0;34m-\u001b[0m\u001b[0;36m100\u001b[0m\u001b[0;34m)\u001b[0m\u001b[0;34m\u001b[0m\u001b[0;34m\u001b[0m\u001b[0m\n\u001b[0;32m-> 2450\u001b[0;31m             \u001b[0mself\u001b[0m\u001b[0;34m.\u001b[0m\u001b[0mcontrol\u001b[0m \u001b[0;34m=\u001b[0m \u001b[0mself\u001b[0m\u001b[0;34m.\u001b[0m\u001b[0mcallback_handler\u001b[0m\u001b[0;34m.\u001b[0m\u001b[0mon_prediction_step\u001b[0m\u001b[0;34m(\u001b[0m\u001b[0margs\u001b[0m\u001b[0;34m,\u001b[0m \u001b[0mself\u001b[0m\u001b[0;34m.\u001b[0m\u001b[0mstate\u001b[0m\u001b[0;34m,\u001b[0m \u001b[0mself\u001b[0m\u001b[0;34m.\u001b[0m\u001b[0mcontrol\u001b[0m\u001b[0;34m)\u001b[0m\u001b[0;34m\u001b[0m\u001b[0;34m\u001b[0m\u001b[0m\n\u001b[0m\u001b[1;32m   2451\u001b[0m \u001b[0;34m\u001b[0m\u001b[0m\n\u001b[1;32m   2452\u001b[0m             \u001b[0;31m# Gather all tensors and put them back on the CPU if we have done enough accumulation steps.\u001b[0m\u001b[0;34m\u001b[0m\u001b[0;34m\u001b[0m\u001b[0;34m\u001b[0m\u001b[0m\n",
      "\u001b[0;31mKeyboardInterrupt\u001b[0m: "
     ]
    }
   ],
   "source": []
  },
  {
   "cell_type": "code",
   "execution_count": null,
   "id": "572c3952",
   "metadata": {},
   "outputs": [],
   "source": [
    "input_strs = [make_input_str(tasks[-10], nrows=1, ncols=(3, 3, 2, 5)) for __ in range(200)]\n",
    "test_dataset = CHILDDataset(input_strs[:], tokenizer)\n",
    "a = trainer.predict(test_dataset) #此处新生成了测试集\n",
    "print(a.metrics)"
   ]
  },
  {
   "cell_type": "code",
   "execution_count": 565,
   "id": "11b198f1",
   "metadata": {},
   "outputs": [
    {
     "name": "stderr",
     "output_type": "stream",
     "text": [
      "***** Running training *****\n",
      "  Num examples = 600\n",
      "  Num Epochs = 3\n",
      "  Instantaneous batch size per device = 1\n",
      "  Total train batch size (w. parallel, distributed & accumulation) = 1\n",
      "  Gradient Accumulation steps = 1\n",
      "  Total optimization steps = 1800\n"
     ]
    },
    {
     "data": {
      "text/html": [
       "\n",
       "    <div>\n",
       "      \n",
       "      <progress value='1800' max='1800' style='width:300px; height:20px; vertical-align: middle;'></progress>\n",
       "      [1800/1800 1:37:06, Epoch 3/3]\n",
       "    </div>\n",
       "    <table border=\"1\" class=\"dataframe\">\n",
       "  <thead>\n",
       " <tr style=\"text-align: left;\">\n",
       "      <th>Step</th>\n",
       "      <th>Training Loss</th>\n",
       "      <th>Validation Loss</th>\n",
       "      <th>Accuracy</th>\n",
       "      <th>Precision</th>\n",
       "    </tr>\n",
       "  </thead>\n",
       "  <tbody>\n",
       "    <tr>\n",
       "      <td>500</td>\n",
       "      <td>No log</td>\n",
       "      <td>2.013127</td>\n",
       "      <td>0.405000</td>\n",
       "      <td>['Ġall : 0.9366', 'Ġsome : 0.0495', 'Ġnone : 0.0107']</td>\n",
       "    </tr>\n",
       "    <tr>\n",
       "      <td>1000</td>\n",
       "      <td>1.599500</td>\n",
       "      <td>0.940397</td>\n",
       "      <td>0.505000</td>\n",
       "      <td>['Ġsome : 0.7202', 'Ġall : 0.2014', 'Ġnone : 0.061']</td>\n",
       "    </tr>\n",
       "    <tr>\n",
       "      <td>1500</td>\n",
       "      <td>1.329000</td>\n",
       "      <td>0.786976</td>\n",
       "      <td>0.625000</td>\n",
       "      <td>['Ġsome : 0.8848', 'Ġall : 0.0949', 'Ġnone : 0.0198']</td>\n",
       "    </tr>\n",
       "  </tbody>\n",
       "</table><p>"
      ],
      "text/plain": [
       "<IPython.core.display.HTML object>"
      ]
     },
     "metadata": {},
     "output_type": "display_data"
    },
    {
     "name": "stderr",
     "output_type": "stream",
     "text": [
      "***** Running Evaluation *****\n",
      "  Num examples = 200\n",
      "  Batch size = 1\n",
      "***** Running Evaluation *****\n",
      "  Num examples = 200\n",
      "  Batch size = 1\n",
      "***** Running Evaluation *****\n",
      "  Num examples = 200\n",
      "  Batch size = 1\n",
      "\n",
      "\n",
      "Training completed. Do not forget to share your model on huggingface.co/models =)\n",
      "\n",
      "\n"
     ]
    },
    {
     "data": {
      "text/plain": [
       "TrainOutput(global_step=1800, training_loss=1.3625975206163194, metrics={'train_runtime': 5829.3937, 'train_samples_per_second': 0.309, 'train_steps_per_second': 0.309, 'total_flos': 3408479964748800.0, 'train_loss': 1.3625975206163194, 'epoch': 3.0})"
      ]
     },
     "execution_count": 565,
     "metadata": {},
     "output_type": "execute_result"
    }
   ],
   "source": [
    "trainer.train()"
   ]
  },
  {
   "cell_type": "code",
   "execution_count": 566,
   "id": "db908ba8",
   "metadata": {},
   "outputs": [
    {
     "name": "stderr",
     "output_type": "stream",
     "text": [
      "***** Running training *****\n",
      "  Num examples = 600\n",
      "  Num Epochs = 3\n",
      "  Instantaneous batch size per device = 1\n",
      "  Total train batch size (w. parallel, distributed & accumulation) = 1\n",
      "  Gradient Accumulation steps = 1\n",
      "  Total optimization steps = 1800\n"
     ]
    },
    {
     "data": {
      "text/html": [
       "\n",
       "    <div>\n",
       "      \n",
       "      <progress value='1800' max='1800' style='width:300px; height:20px; vertical-align: middle;'></progress>\n",
       "      [1800/1800 1:36:03, Epoch 3/3]\n",
       "    </div>\n",
       "    <table border=\"1\" class=\"dataframe\">\n",
       "  <thead>\n",
       " <tr style=\"text-align: left;\">\n",
       "      <th>Step</th>\n",
       "      <th>Training Loss</th>\n",
       "      <th>Validation Loss</th>\n",
       "      <th>Accuracy</th>\n",
       "      <th>Precision</th>\n",
       "    </tr>\n",
       "  </thead>\n",
       "  <tbody>\n",
       "    <tr>\n",
       "      <td>500</td>\n",
       "      <td>No log</td>\n",
       "      <td>0.934715</td>\n",
       "      <td>0.755000</td>\n",
       "      <td>['Ġsome : 0.9982', 'Ġall : 0.0012', 'Ġnone : 0.0006']</td>\n",
       "    </tr>\n",
       "    <tr>\n",
       "      <td>1000</td>\n",
       "      <td>1.186500</td>\n",
       "      <td>0.727583</td>\n",
       "      <td>0.780000</td>\n",
       "      <td>['Ġsome : 0.7231', 'Ġnone : 0.2607', 'Ġall : 0.0153']</td>\n",
       "    </tr>\n",
       "    <tr>\n",
       "      <td>1500</td>\n",
       "      <td>1.010600</td>\n",
       "      <td>0.827064</td>\n",
       "      <td>0.785000</td>\n",
       "      <td>['Ġsome : 0.9523', 'Ġall : 0.0383', 'Ġnone : 0.0093']</td>\n",
       "    </tr>\n",
       "  </tbody>\n",
       "</table><p>"
      ],
      "text/plain": [
       "<IPython.core.display.HTML object>"
      ]
     },
     "metadata": {},
     "output_type": "display_data"
    },
    {
     "name": "stderr",
     "output_type": "stream",
     "text": [
      "***** Running Evaluation *****\n",
      "  Num examples = 200\n",
      "  Batch size = 1\n",
      "***** Running Evaluation *****\n",
      "  Num examples = 200\n",
      "  Batch size = 1\n",
      "***** Running Evaluation *****\n",
      "  Num examples = 200\n",
      "  Batch size = 1\n",
      "\n",
      "\n",
      "Training completed. Do not forget to share your model on huggingface.co/models =)\n",
      "\n",
      "\n"
     ]
    },
    {
     "data": {
      "text/plain": [
       "TrainOutput(global_step=1800, training_loss=1.0477753363715279, metrics={'train_runtime': 5765.6572, 'train_samples_per_second': 0.312, 'train_steps_per_second': 0.312, 'total_flos': 3408479964748800.0, 'train_loss': 1.0477753363715279, 'epoch': 3.0})"
      ]
     },
     "execution_count": 566,
     "metadata": {},
     "output_type": "execute_result"
    }
   ],
   "source": [
    "trainer.train()"
   ]
  },
  {
   "cell_type": "code",
   "execution_count": 570,
   "id": "35186511",
   "metadata": {},
   "outputs": [
    {
     "name": "stderr",
     "output_type": "stream",
     "text": [
      "***** Running Evaluation *****\n",
      "  Num examples = 200\n",
      "  Batch size = 1\n"
     ]
    },
    {
     "data": {
      "text/html": [
       "\n",
       "    <div>\n",
       "      \n",
       "      <progress value='200' max='200' style='width:300px; height:20px; vertical-align: middle;'></progress>\n",
       "      [200/200 07:01]\n",
       "    </div>\n",
       "    "
      ],
      "text/plain": [
       "<IPython.core.display.HTML object>"
      ]
     },
     "metadata": {},
     "output_type": "display_data"
    },
    {
     "data": {
      "text/plain": [
       "{'eval_loss': 0.790144681930542,\n",
       " 'eval_accuracy': 0.765,\n",
       " 'eval_precision': ['Ġsome : 0.9556', 'Ġnone : 0.0263', 'Ġall : 0.0178'],\n",
       " 'eval_runtime': 423.9571,\n",
       " 'eval_samples_per_second': 0.472,\n",
       " 'eval_steps_per_second': 0.472,\n",
       " 'epoch': 3.0}"
      ]
     },
     "execution_count": 570,
     "metadata": {},
     "output_type": "execute_result"
    }
   ],
   "source": [
    "trainer.evaluate() "
   ]
  },
  {
   "cell_type": "code",
   "execution_count": 471,
   "id": "3f245e58",
   "metadata": {},
   "outputs": [
    {
     "name": "stderr",
     "output_type": "stream",
     "text": [
      "***** Running training *****\n",
      "  Num examples = 600\n",
      "  Num Epochs = 3\n",
      "  Instantaneous batch size per device = 1\n",
      "  Total train batch size (w. parallel, distributed & accumulation) = 1\n",
      "  Gradient Accumulation steps = 1\n",
      "  Total optimization steps = 1800\n"
     ]
    },
    {
     "data": {
      "text/html": [
       "\n",
       "    <div>\n",
       "      \n",
       "      <progress value='1637' max='1800' style='width:300px; height:20px; vertical-align: middle;'></progress>\n",
       "      [1637/1800 1:28:05 < 08:46, 0.31 it/s, Epoch 2.73/3]\n",
       "    </div>\n",
       "    <table border=\"1\" class=\"dataframe\">\n",
       "  <thead>\n",
       " <tr style=\"text-align: left;\">\n",
       "      <th>Epoch</th>\n",
       "      <th>Training Loss</th>\n",
       "      <th>Validation Loss</th>\n",
       "      <th>Accuracy</th>\n",
       "      <th>Precision</th>\n",
       "    </tr>\n",
       "  </thead>\n",
       "  <tbody>\n",
       "    <tr>\n",
       "      <td>1</td>\n",
       "      <td>1.599500</td>\n",
       "      <td>1.489557</td>\n",
       "      <td>0.415000</td>\n",
       "      <td>['Ġsome : 0.9085', 'Ġall : 0.0557', 'Ġnone : 0.021']</td>\n",
       "    </tr>\n",
       "    <tr>\n",
       "      <td>2</td>\n",
       "      <td>1.329000</td>\n",
       "      <td>0.937646</td>\n",
       "      <td>0.245000</td>\n",
       "      <td>['Ġall : 0.2118', 'Ċ : 0.2015', 'Ġ[ : 0.0646']</td>\n",
       "    </tr>\n",
       "  </tbody>\n",
       "</table><p>\n",
       "    <div>\n",
       "      \n",
       "      <progress value='1' max='200' style='width:300px; height:20px; vertical-align: middle;'></progress>\n",
       "      [  1/200 : < :]\n",
       "    </div>\n",
       "    "
      ],
      "text/plain": [
       "<IPython.core.display.HTML object>"
      ]
     },
     "metadata": {},
     "output_type": "display_data"
    },
    {
     "name": "stderr",
     "output_type": "stream",
     "text": [
      "***** Running Evaluation *****\n",
      "  Num examples = 200\n",
      "  Batch size = 1\n",
      "***** Running Evaluation *****\n",
      "  Num examples = 200\n",
      "  Batch size = 1\n"
     ]
    },
    {
     "ename": "KeyboardInterrupt",
     "evalue": "",
     "output_type": "error",
     "traceback": [
      "\u001b[0;31m---------------------------------------------------------------------------\u001b[0m",
      "\u001b[0;31mKeyboardInterrupt\u001b[0m                         Traceback (most recent call last)",
      "\u001b[0;32m<ipython-input-471-3435b262f1ae>\u001b[0m in \u001b[0;36m<module>\u001b[0;34m\u001b[0m\n\u001b[0;32m----> 1\u001b[0;31m \u001b[0mtrainer\u001b[0m\u001b[0;34m.\u001b[0m\u001b[0mtrain\u001b[0m\u001b[0;34m(\u001b[0m\u001b[0;34m)\u001b[0m\u001b[0;34m\u001b[0m\u001b[0;34m\u001b[0m\u001b[0m\n\u001b[0m",
      "\u001b[0;32m/nas/xd/projects/transformers/src/transformers/trainer.py\u001b[0m in \u001b[0;36mtrain\u001b[0;34m(self, resume_from_checkpoint, trial, ignore_keys_for_eval, **kwargs)\u001b[0m\n\u001b[1;32m   1398\u001b[0m                         \u001b[0mtr_loss_step\u001b[0m \u001b[0;34m=\u001b[0m \u001b[0mself\u001b[0m\u001b[0;34m.\u001b[0m\u001b[0mtraining_step\u001b[0m\u001b[0;34m(\u001b[0m\u001b[0mmodel\u001b[0m\u001b[0;34m,\u001b[0m \u001b[0minputs\u001b[0m\u001b[0;34m)\u001b[0m\u001b[0;34m\u001b[0m\u001b[0;34m\u001b[0m\u001b[0m\n\u001b[1;32m   1399\u001b[0m                 \u001b[0;32melse\u001b[0m\u001b[0;34m:\u001b[0m\u001b[0;34m\u001b[0m\u001b[0;34m\u001b[0m\u001b[0m\n\u001b[0;32m-> 1400\u001b[0;31m                     \u001b[0mtr_loss_step\u001b[0m \u001b[0;34m=\u001b[0m \u001b[0mself\u001b[0m\u001b[0;34m.\u001b[0m\u001b[0mtraining_step\u001b[0m\u001b[0;34m(\u001b[0m\u001b[0mmodel\u001b[0m\u001b[0;34m,\u001b[0m \u001b[0minputs\u001b[0m\u001b[0;34m)\u001b[0m\u001b[0;34m\u001b[0m\u001b[0;34m\u001b[0m\u001b[0m\n\u001b[0m\u001b[1;32m   1401\u001b[0m \u001b[0;34m\u001b[0m\u001b[0m\n\u001b[1;32m   1402\u001b[0m                 if (\n",
      "\u001b[0;32m/nas/xd/projects/transformers/src/transformers/trainer.py\u001b[0m in \u001b[0;36mtraining_step\u001b[0;34m(self, model, inputs)\u001b[0m\n\u001b[1;32m   2000\u001b[0m             \u001b[0mloss\u001b[0m \u001b[0;34m=\u001b[0m \u001b[0mself\u001b[0m\u001b[0;34m.\u001b[0m\u001b[0mdeepspeed\u001b[0m\u001b[0;34m.\u001b[0m\u001b[0mbackward\u001b[0m\u001b[0;34m(\u001b[0m\u001b[0mloss\u001b[0m\u001b[0;34m)\u001b[0m\u001b[0;34m\u001b[0m\u001b[0;34m\u001b[0m\u001b[0m\n\u001b[1;32m   2001\u001b[0m         \u001b[0;32melse\u001b[0m\u001b[0;34m:\u001b[0m\u001b[0;34m\u001b[0m\u001b[0;34m\u001b[0m\u001b[0m\n\u001b[0;32m-> 2002\u001b[0;31m             \u001b[0mloss\u001b[0m\u001b[0;34m.\u001b[0m\u001b[0mbackward\u001b[0m\u001b[0;34m(\u001b[0m\u001b[0;34m)\u001b[0m\u001b[0;34m\u001b[0m\u001b[0;34m\u001b[0m\u001b[0m\n\u001b[0m\u001b[1;32m   2003\u001b[0m \u001b[0;34m\u001b[0m\u001b[0m\n\u001b[1;32m   2004\u001b[0m         \u001b[0;32mreturn\u001b[0m \u001b[0mloss\u001b[0m\u001b[0;34m.\u001b[0m\u001b[0mdetach\u001b[0m\u001b[0;34m(\u001b[0m\u001b[0;34m)\u001b[0m\u001b[0;34m\u001b[0m\u001b[0;34m\u001b[0m\u001b[0m\n",
      "\u001b[0;32m/home/kf/miniconda3/envs/pytorch1.7.1/lib/python3.8/site-packages/torch/tensor.py\u001b[0m in \u001b[0;36mbackward\u001b[0;34m(self, gradient, retain_graph, create_graph)\u001b[0m\n\u001b[1;32m    219\u001b[0m                 \u001b[0mretain_graph\u001b[0m\u001b[0;34m=\u001b[0m\u001b[0mretain_graph\u001b[0m\u001b[0;34m,\u001b[0m\u001b[0;34m\u001b[0m\u001b[0;34m\u001b[0m\u001b[0m\n\u001b[1;32m    220\u001b[0m                 create_graph=create_graph)\n\u001b[0;32m--> 221\u001b[0;31m         \u001b[0mtorch\u001b[0m\u001b[0;34m.\u001b[0m\u001b[0mautograd\u001b[0m\u001b[0;34m.\u001b[0m\u001b[0mbackward\u001b[0m\u001b[0;34m(\u001b[0m\u001b[0mself\u001b[0m\u001b[0;34m,\u001b[0m \u001b[0mgradient\u001b[0m\u001b[0;34m,\u001b[0m \u001b[0mretain_graph\u001b[0m\u001b[0;34m,\u001b[0m \u001b[0mcreate_graph\u001b[0m\u001b[0;34m)\u001b[0m\u001b[0;34m\u001b[0m\u001b[0;34m\u001b[0m\u001b[0m\n\u001b[0m\u001b[1;32m    222\u001b[0m \u001b[0;34m\u001b[0m\u001b[0m\n\u001b[1;32m    223\u001b[0m     \u001b[0;32mdef\u001b[0m \u001b[0mregister_hook\u001b[0m\u001b[0;34m(\u001b[0m\u001b[0mself\u001b[0m\u001b[0;34m,\u001b[0m \u001b[0mhook\u001b[0m\u001b[0;34m)\u001b[0m\u001b[0;34m:\u001b[0m\u001b[0;34m\u001b[0m\u001b[0;34m\u001b[0m\u001b[0m\n",
      "\u001b[0;32m/home/kf/miniconda3/envs/pytorch1.7.1/lib/python3.8/site-packages/torch/autograd/__init__.py\u001b[0m in \u001b[0;36mbackward\u001b[0;34m(tensors, grad_tensors, retain_graph, create_graph, grad_variables)\u001b[0m\n\u001b[1;32m    128\u001b[0m         \u001b[0mretain_graph\u001b[0m \u001b[0;34m=\u001b[0m \u001b[0mcreate_graph\u001b[0m\u001b[0;34m\u001b[0m\u001b[0;34m\u001b[0m\u001b[0m\n\u001b[1;32m    129\u001b[0m \u001b[0;34m\u001b[0m\u001b[0m\n\u001b[0;32m--> 130\u001b[0;31m     Variable._execution_engine.run_backward(\n\u001b[0m\u001b[1;32m    131\u001b[0m         \u001b[0mtensors\u001b[0m\u001b[0;34m,\u001b[0m \u001b[0mgrad_tensors_\u001b[0m\u001b[0;34m,\u001b[0m \u001b[0mretain_graph\u001b[0m\u001b[0;34m,\u001b[0m \u001b[0mcreate_graph\u001b[0m\u001b[0;34m,\u001b[0m\u001b[0;34m\u001b[0m\u001b[0;34m\u001b[0m\u001b[0m\n\u001b[1;32m    132\u001b[0m         allow_unreachable=True)  # allow_unreachable flag\n",
      "\u001b[0;31mKeyboardInterrupt\u001b[0m: "
     ]
    }
   ],
   "source": [
    "trainer.train()"
   ]
  },
  {
   "cell_type": "code",
   "execution_count": 420,
   "id": "3636aca4",
   "metadata": {},
   "outputs": [
    {
     "name": "stderr",
     "output_type": "stream",
     "text": [
      "***** Running training *****\n",
      "  Num examples = 150\n",
      "  Num Epochs = 3\n",
      "  Instantaneous batch size per device = 1\n",
      "  Total train batch size (w. parallel, distributed & accumulation) = 1\n",
      "  Gradient Accumulation steps = 1\n",
      "  Total optimization steps = 450\n"
     ]
    },
    {
     "data": {
      "text/html": [
       "\n",
       "    <div>\n",
       "      \n",
       "      <progress value='450' max='450' style='width:300px; height:20px; vertical-align: middle;'></progress>\n",
       "      [450/450 23:23, Epoch 3/3]\n",
       "    </div>\n",
       "    <table border=\"1\" class=\"dataframe\">\n",
       "  <thead>\n",
       " <tr style=\"text-align: left;\">\n",
       "      <th>Epoch</th>\n",
       "      <th>Training Loss</th>\n",
       "      <th>Validation Loss</th>\n",
       "      <th>Accuracy</th>\n",
       "      <th>Precision</th>\n",
       "    </tr>\n",
       "  </thead>\n",
       "  <tbody>\n",
       "    <tr>\n",
       "      <td>1</td>\n",
       "      <td>1.446700</td>\n",
       "      <td>1.759950</td>\n",
       "      <td>0.100000</td>\n",
       "      <td>['[ : 0.2104', 'Ċ : 0.0803', 'ĠThe : 0.0177']</td>\n",
       "    </tr>\n",
       "    <tr>\n",
       "      <td>2</td>\n",
       "      <td>1.357800</td>\n",
       "      <td>1.417954</td>\n",
       "      <td>0.033333</td>\n",
       "      <td>['[ : 0.0605', 'Ċ : 0.0598', 'ĠThe : 0.0192']</td>\n",
       "    </tr>\n",
       "    <tr>\n",
       "      <td>3</td>\n",
       "      <td>1.206500</td>\n",
       "      <td>1.388849</td>\n",
       "      <td>0.033333</td>\n",
       "      <td>['[ : 0.0429', 'Ċ : 0.0392', 'ĠEx : 0.0212']</td>\n",
       "    </tr>\n",
       "  </tbody>\n",
       "</table><p>"
      ],
      "text/plain": [
       "<IPython.core.display.HTML object>"
      ]
     },
     "metadata": {},
     "output_type": "display_data"
    },
    {
     "name": "stderr",
     "output_type": "stream",
     "text": [
      "***** Running Evaluation *****\n",
      "  Num examples = 30\n",
      "  Batch size = 1\n",
      "***** Running Evaluation *****\n",
      "  Num examples = 30\n",
      "  Batch size = 1\n",
      "***** Running Evaluation *****\n",
      "  Num examples = 30\n",
      "  Batch size = 1\n",
      "\n",
      "\n",
      "Training completed. Do not forget to share your model on huggingface.co/models =)\n",
      "\n",
      "\n"
     ]
    },
    {
     "data": {
      "text/plain": [
       "TrainOutput(global_step=450, training_loss=1.336977742513021, metrics={'train_runtime': 1406.4462, 'train_samples_per_second': 0.32, 'train_steps_per_second': 0.32, 'total_flos': 836339991350400.0, 'train_loss': 1.336977742513021, 'epoch': 3.0})"
      ]
     },
     "execution_count": 420,
     "metadata": {},
     "output_type": "execute_result"
    }
   ],
   "source": [
    "trainer.train()#zero-shot"
   ]
  },
  {
   "cell_type": "code",
   "execution_count": null,
   "id": "55a89182",
   "metadata": {},
   "outputs": [],
   "source": []
  },
  {
   "cell_type": "code",
   "execution_count": 244,
   "id": "4be8df07",
   "metadata": {},
   "outputs": [
    {
     "name": "stderr",
     "output_type": "stream",
     "text": [
      "***** Running Evaluation *****\n",
      "  Num examples = 60\n",
      "  Batch size = 1\n"
     ]
    },
    {
     "data": {
      "text/html": [
       "\n",
       "    <div>\n",
       "      \n",
       "      <progress value='60' max='60' style='width:300px; height:20px; vertical-align: middle;'></progress>\n",
       "      [60/60 01:49]\n",
       "    </div>\n",
       "    "
      ],
      "text/plain": [
       "<IPython.core.display.HTML object>"
      ]
     },
     "metadata": {},
     "output_type": "display_data"
    },
    {
     "data": {
      "text/plain": [
       "{'eval_loss': 1.9290030002593994,\n",
       " 'eval_accuracy': 0.38333333333333336,\n",
       " 'eval_precision': ['Ġ< : 0.3318', 'Ġ= : 0.1213', 'Ġ> : 0.0688'],\n",
       " 'eval_runtime': 112.0946,\n",
       " 'eval_samples_per_second': 0.535,\n",
       " 'eval_steps_per_second': 0.535}"
      ]
     },
     "execution_count": 244,
     "metadata": {},
     "output_type": "execute_result"
    }
   ],
   "source": [
    "# a = trainer.predict(eval_dataset) \n",
    "# print(a.metrics)\n",
    "trainer.evaluate()"
   ]
  },
  {
   "cell_type": "code",
   "execution_count": 247,
   "id": "78bf415b",
   "metadata": {
    "scrolled": true
   },
   "outputs": [
    {
     "name": "stderr",
     "output_type": "stream",
     "text": [
      "***** Running training *****\n",
      "  Num examples = 120\n",
      "  Num Epochs = 3\n",
      "  Instantaneous batch size per device = 1\n",
      "  Total train batch size (w. parallel, distributed & accumulation) = 4\n",
      "  Gradient Accumulation steps = 4\n",
      "  Total optimization steps = 90\n"
     ]
    },
    {
     "data": {
      "text/html": [
       "\n",
       "    <div>\n",
       "      \n",
       "      <progress value='90' max='90' style='width:300px; height:20px; vertical-align: middle;'></progress>\n",
       "      [90/90 45:12, Epoch 3/3]\n",
       "    </div>\n",
       "    <table border=\"1\" class=\"dataframe\">\n",
       "  <thead>\n",
       " <tr style=\"text-align: left;\">\n",
       "      <th>Step</th>\n",
       "      <th>Training Loss</th>\n",
       "      <th>Validation Loss</th>\n",
       "      <th>Accuracy</th>\n",
       "      <th>Precision</th>\n",
       "    </tr>\n",
       "  </thead>\n",
       "  <tbody>\n",
       "    <tr>\n",
       "      <td>5</td>\n",
       "      <td>No log</td>\n",
       "      <td>1.393175</td>\n",
       "      <td>0.533333</td>\n",
       "      <td>['Ġ< : 0.2291', 'Ġ= : 0.1925', 'Ġ> : 0.0529']</td>\n",
       "    </tr>\n",
       "    <tr>\n",
       "      <td>10</td>\n",
       "      <td>No log</td>\n",
       "      <td>1.045844</td>\n",
       "      <td>0.850000</td>\n",
       "      <td>['Ġ= : 0.2322', 'Ġ< : 0.1508', 'Ġ<= : 0.0778']</td>\n",
       "    </tr>\n",
       "    <tr>\n",
       "      <td>15</td>\n",
       "      <td>No log</td>\n",
       "      <td>0.854255</td>\n",
       "      <td>0.966667</td>\n",
       "      <td>['Ġ= : 0.2734', 'Ġ< : 0.113', 'Ġ<= : 0.0956']</td>\n",
       "    </tr>\n",
       "    <tr>\n",
       "      <td>20</td>\n",
       "      <td>No log</td>\n",
       "      <td>0.689166</td>\n",
       "      <td>0.983333</td>\n",
       "      <td>['Ġ= : 0.3241', 'Ġ<= : 0.1014', 'Ġ< : 0.0973']</td>\n",
       "    </tr>\n",
       "    <tr>\n",
       "      <td>25</td>\n",
       "      <td>No log</td>\n",
       "      <td>0.543359</td>\n",
       "      <td>1.000000</td>\n",
       "      <td>['Ġ= : 0.4053', 'Ġ< : 0.089', 'Ġ<= : 0.0864']</td>\n",
       "    </tr>\n",
       "    <tr>\n",
       "      <td>30</td>\n",
       "      <td>No log</td>\n",
       "      <td>0.419969</td>\n",
       "      <td>1.000000</td>\n",
       "      <td>['Ġ= : 0.4993', 'Ġ< : 0.0756', 'Ġ<= : 0.0676']</td>\n",
       "    </tr>\n",
       "    <tr>\n",
       "      <td>35</td>\n",
       "      <td>1.017800</td>\n",
       "      <td>0.314801</td>\n",
       "      <td>1.000000</td>\n",
       "      <td>['Ġ= : 0.6129', 'Ġ< : 0.051', 'Ġ<= : 0.0489']</td>\n",
       "    </tr>\n",
       "    <tr>\n",
       "      <td>40</td>\n",
       "      <td>1.017800</td>\n",
       "      <td>0.229236</td>\n",
       "      <td>1.000000</td>\n",
       "      <td>['Ġ= : 0.718', 'Ġ== : 0.0377', 'Ġ<= : 0.0324']</td>\n",
       "    </tr>\n",
       "    <tr>\n",
       "      <td>45</td>\n",
       "      <td>1.017800</td>\n",
       "      <td>0.156373</td>\n",
       "      <td>1.000000</td>\n",
       "      <td>['Ġ= : 0.801', 'Ġ== : 0.0347', 'Ġ<= : 0.0201']</td>\n",
       "    </tr>\n",
       "    <tr>\n",
       "      <td>50</td>\n",
       "      <td>1.017800</td>\n",
       "      <td>0.102847</td>\n",
       "      <td>1.000000</td>\n",
       "      <td>['Ġ= : 0.872', 'Ġ== : 0.0275', 'Ġâī : 0.0106']</td>\n",
       "    </tr>\n",
       "    <tr>\n",
       "      <td>55</td>\n",
       "      <td>1.017800</td>\n",
       "      <td>0.065423</td>\n",
       "      <td>1.000000</td>\n",
       "      <td>['Ġ= : 0.9247', 'Ġ== : 0.0217', 'Ġâī : 0.0061']</td>\n",
       "    </tr>\n",
       "    <tr>\n",
       "      <td>60</td>\n",
       "      <td>1.017800</td>\n",
       "      <td>0.037446</td>\n",
       "      <td>1.000000</td>\n",
       "      <td>['Ġ= : 0.9609', 'Ġ== : 0.0154', '= : 0.0044']</td>\n",
       "    </tr>\n",
       "    <tr>\n",
       "      <td>65</td>\n",
       "      <td>0.197800</td>\n",
       "      <td>0.019455</td>\n",
       "      <td>1.000000</td>\n",
       "      <td>['Ġ= : 0.9854', 'Ġ== : 0.0083', '= : 0.0021']</td>\n",
       "    </tr>\n",
       "    <tr>\n",
       "      <td>70</td>\n",
       "      <td>0.197800</td>\n",
       "      <td>0.011879</td>\n",
       "      <td>1.000000</td>\n",
       "      <td>['Ġ= : 0.9905', 'Ġ== : 0.0062', '= : 0.0009']</td>\n",
       "    </tr>\n",
       "    <tr>\n",
       "      <td>75</td>\n",
       "      <td>0.197800</td>\n",
       "      <td>0.006895</td>\n",
       "      <td>1.000000</td>\n",
       "      <td>['Ġ= : 0.9935', 'Ġ== : 0.0044', 'Ġv : 0.0006']</td>\n",
       "    </tr>\n",
       "    <tr>\n",
       "      <td>80</td>\n",
       "      <td>0.197800</td>\n",
       "      <td>0.003957</td>\n",
       "      <td>1.000000</td>\n",
       "      <td>['Ġ= : 0.9957', 'Ġ== : 0.0031', '= : 0.0004']</td>\n",
       "    </tr>\n",
       "    <tr>\n",
       "      <td>85</td>\n",
       "      <td>0.197800</td>\n",
       "      <td>0.002713</td>\n",
       "      <td>1.000000</td>\n",
       "      <td>['Ġ= : 0.9968', 'Ġ== : 0.0023', '= : 0.0003']</td>\n",
       "    </tr>\n",
       "    <tr>\n",
       "      <td>90</td>\n",
       "      <td>0.197800</td>\n",
       "      <td>0.001970</td>\n",
       "      <td>1.000000</td>\n",
       "      <td>['Ġ= : 0.9974', 'Ġ== : 0.002', '= : 0.0002']</td>\n",
       "    </tr>\n",
       "  </tbody>\n",
       "</table><p>"
      ],
      "text/plain": [
       "<IPython.core.display.HTML object>"
      ]
     },
     "metadata": {},
     "output_type": "display_data"
    },
    {
     "name": "stderr",
     "output_type": "stream",
     "text": [
      "***** Running Evaluation *****\n",
      "  Num examples = 60\n",
      "  Batch size = 1\n",
      "***** Running Evaluation *****\n",
      "  Num examples = 60\n",
      "  Batch size = 1\n",
      "***** Running Evaluation *****\n",
      "  Num examples = 60\n",
      "  Batch size = 1\n",
      "***** Running Evaluation *****\n",
      "  Num examples = 60\n",
      "  Batch size = 1\n",
      "***** Running Evaluation *****\n",
      "  Num examples = 60\n",
      "  Batch size = 1\n",
      "***** Running Evaluation *****\n",
      "  Num examples = 60\n",
      "  Batch size = 1\n",
      "***** Running Evaluation *****\n",
      "  Num examples = 60\n",
      "  Batch size = 1\n",
      "***** Running Evaluation *****\n",
      "  Num examples = 60\n",
      "  Batch size = 1\n",
      "***** Running Evaluation *****\n",
      "  Num examples = 60\n",
      "  Batch size = 1\n",
      "***** Running Evaluation *****\n",
      "  Num examples = 60\n",
      "  Batch size = 1\n",
      "***** Running Evaluation *****\n",
      "  Num examples = 60\n",
      "  Batch size = 1\n",
      "***** Running Evaluation *****\n",
      "  Num examples = 60\n",
      "  Batch size = 1\n",
      "***** Running Evaluation *****\n",
      "  Num examples = 60\n",
      "  Batch size = 1\n",
      "***** Running Evaluation *****\n",
      "  Num examples = 60\n",
      "  Batch size = 1\n",
      "***** Running Evaluation *****\n",
      "  Num examples = 60\n",
      "  Batch size = 1\n",
      "***** Running Evaluation *****\n",
      "  Num examples = 60\n",
      "  Batch size = 1\n",
      "***** Running Evaluation *****\n",
      "  Num examples = 60\n",
      "  Batch size = 1\n",
      "***** Running Evaluation *****\n",
      "  Num examples = 60\n",
      "  Batch size = 1\n",
      "\n",
      "\n",
      "Training completed. Do not forget to share your model on huggingface.co/models =)\n",
      "\n",
      "\n"
     ]
    },
    {
     "data": {
      "text/plain": [
       "TrainOutput(global_step=90, training_loss=0.40800989203982885, metrics={'train_runtime': 2724.5714, 'train_samples_per_second': 0.132, 'train_steps_per_second': 0.033, 'total_flos': 770063992035840.0, 'train_loss': 0.40800989203982885, 'epoch': 3.0})"
      ]
     },
     "execution_count": 247,
     "metadata": {},
     "output_type": "execute_result"
    }
   ],
   "source": [
    "trainer.train()"
   ]
  },
  {
   "attachments": {
    "image.png": {
     "image/png": "[encoded data removed]"
    }
   },
   "cell_type": "markdown",
   "id": "3aaf1466",
   "metadata": {},
   "source": [
    "![image.png](attachment:image.png)"
   ]
  },
  {
   "cell_type": "code",
   "execution_count": 404,
   "id": "f99785d4",
   "metadata": {
    "scrolled": true
   },
   "outputs": [
    {
     "name": "stderr",
     "output_type": "stream",
     "text": [
      "***** Running training *****\n",
      "  Num examples = 120\n",
      "  Num Epochs = 2\n",
      "  Instantaneous batch size per device = 1\n",
      "  Total train batch size (w. parallel, distributed & accumulation) = 4\n",
      "  Gradient Accumulation steps = 4\n",
      "  Total optimization steps = 60\n"
     ]
    },
    {
     "data": {
      "text/html": [
       "\n",
       "    <div>\n",
       "      \n",
       "      <progress value='60' max='60' style='width:300px; height:20px; vertical-align: middle;'></progress>\n",
       "      [60/60 02:20, Epoch 2/2]\n",
       "    </div>\n",
       "    <table border=\"1\" class=\"dataframe\">\n",
       "  <thead>\n",
       " <tr style=\"text-align: left;\">\n",
       "      <th>Step</th>\n",
       "      <th>Training Loss</th>\n",
       "      <th>Validation Loss</th>\n",
       "      <th>Accuracy</th>\n",
       "      <th>Precision</th>\n",
       "    </tr>\n",
       "  </thead>\n",
       "  <tbody>\n",
       "    <tr>\n",
       "      <td>5</td>\n",
       "      <td>No log</td>\n",
       "      <td>0.809391</td>\n",
       "      <td>0.800000</td>\n",
       "      <td>['ĠYes : 0.4947', 'ĠNo : 0.4697', 'Ġyes : 0.0046']</td>\n",
       "    </tr>\n",
       "    <tr>\n",
       "      <td>10</td>\n",
       "      <td>No log</td>\n",
       "      <td>0.774605</td>\n",
       "      <td>0.783333</td>\n",
       "      <td>['ĠYes : 0.5048', 'ĠNo : 0.4587', 'Ġyes : 0.0049']</td>\n",
       "    </tr>\n",
       "    <tr>\n",
       "      <td>15</td>\n",
       "      <td>No log</td>\n",
       "      <td>0.743190</td>\n",
       "      <td>0.800000</td>\n",
       "      <td>['ĠYes : 0.5141', 'ĠNo : 0.4487', 'Ġyes : 0.0051']</td>\n",
       "    </tr>\n",
       "    <tr>\n",
       "      <td>20</td>\n",
       "      <td>No log</td>\n",
       "      <td>0.714057</td>\n",
       "      <td>0.816667</td>\n",
       "      <td>['ĠYes : 0.5212', 'ĠNo : 0.4407', 'Ġyes : 0.0054']</td>\n",
       "    </tr>\n",
       "    <tr>\n",
       "      <td>25</td>\n",
       "      <td>No log</td>\n",
       "      <td>0.685518</td>\n",
       "      <td>0.850000</td>\n",
       "      <td>['ĠYes : 0.5302', 'ĠNo : 0.4309', 'Ġyes : 0.0057']</td>\n",
       "    </tr>\n",
       "    <tr>\n",
       "      <td>30</td>\n",
       "      <td>No log</td>\n",
       "      <td>0.657588</td>\n",
       "      <td>0.866667</td>\n",
       "      <td>['ĠYes : 0.5436', 'ĠNo : 0.4169', 'Ġyes : 0.0061']</td>\n",
       "    </tr>\n",
       "    <tr>\n",
       "      <td>35</td>\n",
       "      <td>0.764600</td>\n",
       "      <td>0.630037</td>\n",
       "      <td>0.883333</td>\n",
       "      <td>['ĠYes : 0.558', 'ĠNo : 0.4022', 'Ġyes : 0.0065']</td>\n",
       "    </tr>\n",
       "    <tr>\n",
       "      <td>40</td>\n",
       "      <td>0.764600</td>\n",
       "      <td>0.603737</td>\n",
       "      <td>0.883333</td>\n",
       "      <td>['ĠYes : 0.5697', 'ĠNo : 0.3903', 'Ġyes : 0.0069']</td>\n",
       "    </tr>\n",
       "    <tr>\n",
       "      <td>45</td>\n",
       "      <td>0.764600</td>\n",
       "      <td>0.578470</td>\n",
       "      <td>0.900000</td>\n",
       "      <td>['ĠYes : 0.58', 'ĠNo : 0.38', 'Ġyes : 0.0072']</td>\n",
       "    </tr>\n",
       "    <tr>\n",
       "      <td>50</td>\n",
       "      <td>0.764600</td>\n",
       "      <td>0.553258</td>\n",
       "      <td>0.866667</td>\n",
       "      <td>['ĠYes : 0.5907', 'ĠNo : 0.3698', 'Ġyes : 0.0075']</td>\n",
       "    </tr>\n",
       "    <tr>\n",
       "      <td>55</td>\n",
       "      <td>0.764600</td>\n",
       "      <td>0.527823</td>\n",
       "      <td>0.816667</td>\n",
       "      <td>['ĠYes : 0.605', 'ĠNo : 0.3561', 'Ġyes : 0.0077']</td>\n",
       "    </tr>\n",
       "    <tr>\n",
       "      <td>60</td>\n",
       "      <td>0.764600</td>\n",
       "      <td>0.502716</td>\n",
       "      <td>0.816667</td>\n",
       "      <td>['ĠYes : 0.6219', 'ĠNo : 0.3403', 'Ġyes : 0.0077']</td>\n",
       "    </tr>\n",
       "  </tbody>\n",
       "</table><p>"
      ],
      "text/plain": [
       "<IPython.core.display.HTML object>"
      ]
     },
     "metadata": {},
     "output_type": "display_data"
    },
    {
     "name": "stderr",
     "output_type": "stream",
     "text": [
      "***** Running Evaluation *****\n",
      "  Num examples = 60\n",
      "  Batch size = 1\n",
      "***** Running Evaluation *****\n",
      "  Num examples = 60\n",
      "  Batch size = 1\n",
      "***** Running Evaluation *****\n",
      "  Num examples = 60\n",
      "  Batch size = 1\n",
      "***** Running Evaluation *****\n",
      "  Num examples = 60\n",
      "  Batch size = 1\n",
      "***** Running Evaluation *****\n",
      "  Num examples = 60\n",
      "  Batch size = 1\n",
      "***** Running Evaluation *****\n",
      "  Num examples = 60\n",
      "  Batch size = 1\n",
      "***** Running Evaluation *****\n",
      "  Num examples = 60\n",
      "  Batch size = 1\n",
      "***** Running Evaluation *****\n",
      "  Num examples = 60\n",
      "  Batch size = 1\n",
      "***** Running Evaluation *****\n",
      "  Num examples = 60\n",
      "  Batch size = 1\n",
      "***** Running Evaluation *****\n",
      "  Num examples = 60\n",
      "  Batch size = 1\n",
      "***** Running Evaluation *****\n",
      "  Num examples = 60\n",
      "  Batch size = 1\n",
      "***** Running Evaluation *****\n",
      "  Num examples = 60\n",
      "  Batch size = 1\n",
      "\n",
      "\n",
      "Training completed. Do not forget to share your model on huggingface.co/models =)\n",
      "\n",
      "\n"
     ]
    },
    {
     "data": {
      "text/plain": [
       "TrainOutput(global_step=60, training_loss=0.6793312708536784, metrics={'train_runtime': 141.0095, 'train_samples_per_second': 1.702, 'train_steps_per_second': 0.426, 'total_flos': 237937060085760.0, 'train_loss': 0.6793312708536784, 'epoch': 2.0})"
      ]
     },
     "execution_count": 404,
     "metadata": {},
     "output_type": "execute_result"
    }
   ],
   "source": [
    "trainer.train() #学习率0.0001"
   ]
  },
  {
   "cell_type": "code",
   "execution_count": 405,
   "id": "718ffe20",
   "metadata": {},
   "outputs": [
    {
     "name": "stderr",
     "output_type": "stream",
     "text": [
      "***** Running Prediction *****\n",
      "  Num examples = 70\n",
      "  Batch size = 1\n"
     ]
    },
    {
     "data": {
      "text/html": [
       "\n",
       "    <div>\n",
       "      \n",
       "      <progress value='70' max='70' style='width:300px; height:20px; vertical-align: middle;'></progress>\n",
       "      [70/70 00:07]\n",
       "    </div>\n",
       "    "
      ],
      "text/plain": [
       "<IPython.core.display.HTML object>"
      ]
     },
     "metadata": {},
     "output_type": "display_data"
    },
    {
     "name": "stdout",
     "output_type": "stream",
     "text": [
      "{'test_loss': 0.495894193649292, 'test_accuracy': 0.7142857142857143, 'test_precision': ['ĠYes : 0.5537', 'ĠNo : 0.4105', 'Ġyes : 0.0056'], 'test_runtime': 9.5288, 'test_samples_per_second': 7.346, 'test_steps_per_second': 7.346}\n"
     ]
    }
   ],
   "source": [
    "input_strs = [make_input_str(tasks[-6], nrows=80, ncols=(3,11,5)) for __ in range(70)]\n",
    "test_dataset = CHILDDataset(input_strs[:], tokenizer)\n",
    "a = trainer.predict(test_dataset) #此处新生成了测试集\n",
    "print(a.metrics)"
   ]
  },
  {
   "cell_type": "code",
   "execution_count": null,
   "id": "ee399d1a",
   "metadata": {},
   "outputs": [],
   "source": []
  },
  {
   "attachments": {
    "image.png": {
     "image/png": "[encoded data removed]"
    }
   },
   "cell_type": "markdown",
   "id": "496b45bd",
   "metadata": {},
   "source": [
    "![image.png](attachment:image.png)"
   ]
  },
  {
   "cell_type": "code",
   "execution_count": 362,
   "id": "b64d3568",
   "metadata": {
    "scrolled": true
   },
   "outputs": [
    {
     "name": "stderr",
     "output_type": "stream",
     "text": [
      "***** Running training *****\n",
      "  Num examples = 120\n",
      "  Num Epochs = 1\n",
      "  Instantaneous batch size per device = 1\n",
      "  Total train batch size (w. parallel, distributed & accumulation) = 4\n",
      "  Gradient Accumulation steps = 4\n",
      "  Total optimization steps = 30\n"
     ]
    },
    {
     "data": {
      "text/html": [
       "\n",
       "    <div>\n",
       "      \n",
       "      <progress value='30' max='30' style='width:300px; height:20px; vertical-align: middle;'></progress>\n",
       "      [30/30 01:22, Epoch 1/1]\n",
       "    </div>\n",
       "    <table border=\"1\" class=\"dataframe\">\n",
       "  <thead>\n",
       " <tr style=\"text-align: left;\">\n",
       "      <th>Step</th>\n",
       "      <th>Training Loss</th>\n",
       "      <th>Validation Loss</th>\n",
       "      <th>Accuracy</th>\n",
       "      <th>Precision</th>\n",
       "    </tr>\n",
       "  </thead>\n",
       "  <tbody>\n",
       "    <tr>\n",
       "      <td>5</td>\n",
       "      <td>No log</td>\n",
       "      <td>1.637403</td>\n",
       "      <td>0.150000</td>\n",
       "      <td>['Ġall : 0.5908', 'Ġnone : 0.2102', 'Ġsome : 0.133']</td>\n",
       "    </tr>\n",
       "    <tr>\n",
       "      <td>10</td>\n",
       "      <td>No log</td>\n",
       "      <td>1.306491</td>\n",
       "      <td>0.216667</td>\n",
       "      <td>['Ġall : 0.5281', 'Ġnone : 0.2391', 'Ġsome : 0.1668']</td>\n",
       "    </tr>\n",
       "    <tr>\n",
       "      <td>15</td>\n",
       "      <td>No log</td>\n",
       "      <td>1.064411</td>\n",
       "      <td>0.500000</td>\n",
       "      <td>['Ġall : 0.4995', 'Ġnone : 0.2304', 'Ġsome : 0.2072']</td>\n",
       "    </tr>\n",
       "    <tr>\n",
       "      <td>20</td>\n",
       "      <td>No log</td>\n",
       "      <td>0.791885</td>\n",
       "      <td>0.816667</td>\n",
       "      <td>['Ġnone : 0.4746', 'Ġall : 0.3142', 'Ġsome : 0.1544']</td>\n",
       "    </tr>\n",
       "    <tr>\n",
       "      <td>25</td>\n",
       "      <td>No log</td>\n",
       "      <td>0.492620</td>\n",
       "      <td>0.950000</td>\n",
       "      <td>['Ġnone : 0.5302', 'Ġall : 0.2921', 'Ġsome : 0.132']</td>\n",
       "    </tr>\n",
       "    <tr>\n",
       "      <td>30</td>\n",
       "      <td>No log</td>\n",
       "      <td>0.318130</td>\n",
       "      <td>0.950000</td>\n",
       "      <td>['Ġnone : 0.7519', 'Ġall : 0.1234', 'Ġsome : 0.0906']</td>\n",
       "    </tr>\n",
       "  </tbody>\n",
       "</table><p>"
      ],
      "text/plain": [
       "<IPython.core.display.HTML object>"
      ]
     },
     "metadata": {},
     "output_type": "display_data"
    },
    {
     "name": "stderr",
     "output_type": "stream",
     "text": [
      "***** Running Evaluation *****\n",
      "  Num examples = 60\n",
      "  Batch size = 1\n",
      "***** Running Evaluation *****\n",
      "  Num examples = 60\n",
      "  Batch size = 1\n",
      "***** Running Evaluation *****\n",
      "  Num examples = 60\n",
      "  Batch size = 1\n",
      "***** Running Evaluation *****\n",
      "  Num examples = 60\n",
      "  Batch size = 1\n",
      "***** Running Evaluation *****\n",
      "  Num examples = 60\n",
      "  Batch size = 1\n",
      "***** Running Evaluation *****\n",
      "  Num examples = 60\n",
      "  Batch size = 1\n",
      "\n",
      "\n",
      "Training completed. Do not forget to share your model on huggingface.co/models =)\n",
      "\n",
      "\n"
     ]
    },
    {
     "data": {
      "text/plain": [
       "TrainOutput(global_step=30, training_loss=1.1609226226806642, metrics={'train_runtime': 83.9215, 'train_samples_per_second': 1.43, 'train_steps_per_second': 0.357, 'total_flos': 144461786480640.0, 'train_loss': 1.1609226226806642, 'epoch': 1.0})"
      ]
     },
     "execution_count": 362,
     "metadata": {},
     "output_type": "execute_result"
    }
   ],
   "source": [
    "trainer.train()"
   ]
  },
  {
   "cell_type": "code",
   "execution_count": 363,
   "id": "0d2216c3",
   "metadata": {},
   "outputs": [
    {
     "name": "stderr",
     "output_type": "stream",
     "text": [
      "***** Running Prediction *****\n",
      "  Num examples = 70\n",
      "  Batch size = 1\n"
     ]
    },
    {
     "data": {
      "text/html": [
       "\n",
       "    <div>\n",
       "      \n",
       "      <progress value='70' max='70' style='width:300px; height:20px; vertical-align: middle;'></progress>\n",
       "      [70/70 00:08]\n",
       "    </div>\n",
       "    "
      ],
      "text/plain": [
       "<IPython.core.display.HTML object>"
      ]
     },
     "metadata": {},
     "output_type": "display_data"
    },
    {
     "name": "stdout",
     "output_type": "stream",
     "text": [
      "{'test_loss': 0.2498760223388672, 'test_accuracy': 0.9857142857142858, 'test_precision': ['Ġall : 0.6589', 'Ġsome : 0.2509', 'Ġnone : 0.0339'], 'test_runtime': 11.1032, 'test_samples_per_second': 6.305, 'test_steps_per_second': 6.305}\n"
     ]
    }
   ],
   "source": [
    "input_strs = [make_input_str(tasks[-8], nrows=30, ncols=(4, 4, 4)) for __ in range(70)]\n",
    "test_dataset = CHILDDataset(input_strs[:], tokenizer)\n",
    "a = trainer.predict(test_dataset) #此处新生成了测试集\n",
    "print(a.metrics)"
   ]
  },
  {
   "attachments": {
    "image.png": {
     "image/png": "[encoded data removed]"
    }
   },
   "cell_type": "markdown",
   "id": "f30f9bda",
   "metadata": {},
   "source": [
    "![image.png](attachment:image.png)"
   ]
  },
  {
   "cell_type": "code",
   "execution_count": 347,
   "id": "4389ee01",
   "metadata": {
    "scrolled": true
   },
   "outputs": [
    {
     "name": "stderr",
     "output_type": "stream",
     "text": [
      "***** Running training *****\n",
      "  Num examples = 120\n",
      "  Num Epochs = 2\n",
      "  Instantaneous batch size per device = 1\n",
      "  Total train batch size (w. parallel, distributed & accumulation) = 4\n",
      "  Gradient Accumulation steps = 4\n",
      "  Total optimization steps = 60\n"
     ]
    },
    {
     "data": {
      "text/html": [
       "\n",
       "    <div>\n",
       "      \n",
       "      <progress value='60' max='60' style='width:300px; height:20px; vertical-align: middle;'></progress>\n",
       "      [60/60 01:06, Epoch 2/2]\n",
       "    </div>\n",
       "    <table border=\"1\" class=\"dataframe\">\n",
       "  <thead>\n",
       " <tr style=\"text-align: left;\">\n",
       "      <th>Step</th>\n",
       "      <th>Training Loss</th>\n",
       "      <th>Validation Loss</th>\n",
       "      <th>Accuracy</th>\n",
       "      <th>Precision</th>\n",
       "    </tr>\n",
       "  </thead>\n",
       "  <tbody>\n",
       "    <tr>\n",
       "      <td>5</td>\n",
       "      <td>No log</td>\n",
       "      <td>0.902350</td>\n",
       "      <td>0.716667</td>\n",
       "      <td>['Ġ< : 0.3867', 'Ġ> : 0.3107', 'Ġ== : 0.0481']</td>\n",
       "    </tr>\n",
       "    <tr>\n",
       "      <td>10</td>\n",
       "      <td>No log</td>\n",
       "      <td>0.353972</td>\n",
       "      <td>0.933333</td>\n",
       "      <td>['Ġ< : 0.7527', 'Ġ> : 0.1587', 'Ġ>= : 0.012']</td>\n",
       "    </tr>\n",
       "    <tr>\n",
       "      <td>15</td>\n",
       "      <td>No log</td>\n",
       "      <td>0.071176</td>\n",
       "      <td>0.866667</td>\n",
       "      <td>['Ċ : 0.1904', '= : 0.0434', '> : 0.0326']</td>\n",
       "    </tr>\n",
       "    <tr>\n",
       "      <td>20</td>\n",
       "      <td>No log</td>\n",
       "      <td>0.008609</td>\n",
       "      <td>0.883333</td>\n",
       "      <td>['Ġ< : 0.9883', 'Ġ> : 0.0047', '< : 0.0023']</td>\n",
       "    </tr>\n",
       "    <tr>\n",
       "      <td>25</td>\n",
       "      <td>No log</td>\n",
       "      <td>0.003806</td>\n",
       "      <td>0.950000</td>\n",
       "      <td>['Ġ< : 0.9963', 'Ġ> : 0.0021', 'Ġ<- : 0.0005']</td>\n",
       "    </tr>\n",
       "    <tr>\n",
       "      <td>30</td>\n",
       "      <td>No log</td>\n",
       "      <td>0.002230</td>\n",
       "      <td>0.966667</td>\n",
       "      <td>['Ġ< : 0.9987', 'Ġ> : 0.0005', 'Ġ<- : 0.0002']</td>\n",
       "    </tr>\n",
       "    <tr>\n",
       "      <td>35</td>\n",
       "      <td>0.450500</td>\n",
       "      <td>0.001217</td>\n",
       "      <td>0.966667</td>\n",
       "      <td>['Ġ< : 0.9994', 'Ġ> : 0.0002', '< : 0.0001']</td>\n",
       "    </tr>\n",
       "    <tr>\n",
       "      <td>40</td>\n",
       "      <td>0.450500</td>\n",
       "      <td>0.000964</td>\n",
       "      <td>0.950000</td>\n",
       "      <td>['Ġ< : 0.9997', '< : 0.0001', 'Ġ> : 0.0001']</td>\n",
       "    </tr>\n",
       "    <tr>\n",
       "      <td>45</td>\n",
       "      <td>0.450500</td>\n",
       "      <td>0.000657</td>\n",
       "      <td>0.916667</td>\n",
       "      <td>['Ġ< : 0.9998', '< : 0.0001', 'Ġ<- : 0.0']</td>\n",
       "    </tr>\n",
       "    <tr>\n",
       "      <td>50</td>\n",
       "      <td>0.450500</td>\n",
       "      <td>0.000376</td>\n",
       "      <td>0.916667</td>\n",
       "      <td>['Ġ< : 0.9998', '< : 0.0001', 'Ġ<- : 0.0']</td>\n",
       "    </tr>\n",
       "    <tr>\n",
       "      <td>55</td>\n",
       "      <td>0.450500</td>\n",
       "      <td>0.000251</td>\n",
       "      <td>0.950000</td>\n",
       "      <td>['Ġ< : 0.9998', '< : 0.0001', 'Ġ<- : 0.0']</td>\n",
       "    </tr>\n",
       "    <tr>\n",
       "      <td>60</td>\n",
       "      <td>0.450500</td>\n",
       "      <td>0.000220</td>\n",
       "      <td>0.950000</td>\n",
       "      <td>['Ġ< : 0.9998', '< : 0.0001', 'Ġ<- : 0.0']</td>\n",
       "    </tr>\n",
       "  </tbody>\n",
       "</table><p>"
      ],
      "text/plain": [
       "<IPython.core.display.HTML object>"
      ]
     },
     "metadata": {},
     "output_type": "display_data"
    },
    {
     "name": "stderr",
     "output_type": "stream",
     "text": [
      "***** Running Evaluation *****\n",
      "  Num examples = 60\n",
      "  Batch size = 1\n",
      "***** Running Evaluation *****\n",
      "  Num examples = 60\n",
      "  Batch size = 1\n",
      "***** Running Evaluation *****\n",
      "  Num examples = 60\n",
      "  Batch size = 1\n",
      "***** Running Evaluation *****\n",
      "  Num examples = 60\n",
      "  Batch size = 1\n",
      "***** Running Evaluation *****\n",
      "  Num examples = 60\n",
      "  Batch size = 1\n",
      "***** Running Evaluation *****\n",
      "  Num examples = 60\n",
      "  Batch size = 1\n",
      "***** Running Evaluation *****\n",
      "  Num examples = 60\n",
      "  Batch size = 1\n",
      "***** Running Evaluation *****\n",
      "  Num examples = 60\n",
      "  Batch size = 1\n",
      "***** Running Evaluation *****\n",
      "  Num examples = 60\n",
      "  Batch size = 1\n",
      "***** Running Evaluation *****\n",
      "  Num examples = 60\n",
      "  Batch size = 1\n",
      "***** Running Evaluation *****\n",
      "  Num examples = 60\n",
      "  Batch size = 1\n",
      "***** Running Evaluation *****\n",
      "  Num examples = 60\n",
      "  Batch size = 1\n",
      "\n",
      "\n",
      "Training completed. Do not forget to share your model on huggingface.co/models =)\n",
      "\n",
      "\n"
     ]
    },
    {
     "data": {
      "text/plain": [
       "TrainOutput(global_step=60, training_loss=0.2256105103219549, metrics={'train_runtime': 66.7974, 'train_samples_per_second': 3.593, 'train_steps_per_second': 0.898, 'total_flos': 117080140677120.0, 'train_loss': 0.2256105103219549, 'epoch': 2.0})"
      ]
     },
     "execution_count": 347,
     "metadata": {},
     "output_type": "execute_result"
    }
   ],
   "source": [
    "trainer.train()"
   ]
  },
  {
   "cell_type": "code",
   "execution_count": 348,
   "id": "6326883c",
   "metadata": {},
   "outputs": [
    {
     "name": "stderr",
     "output_type": "stream",
     "text": [
      "***** Running Prediction *****\n",
      "  Num examples = 70\n",
      "  Batch size = 1\n"
     ]
    },
    {
     "data": {
      "text/html": [
       "\n",
       "    <div>\n",
       "      \n",
       "      <progress value='70' max='70' style='width:300px; height:20px; vertical-align: middle;'></progress>\n",
       "      [70/70 00:03]\n",
       "    </div>\n",
       "    "
      ],
      "text/plain": [
       "<IPython.core.display.HTML object>"
      ]
     },
     "metadata": {},
     "output_type": "display_data"
    },
    {
     "name": "stdout",
     "output_type": "stream",
     "text": [
      "{'test_loss': 0.00023217464331537485, 'test_accuracy': 0.9857142857142858, 'test_precision': ['Ġ> : 0.9995', 'Ġ= : 0.0002', 'Ġ>= : 0.0002'], 'test_runtime': 4.0984, 'test_samples_per_second': 17.08, 'test_steps_per_second': 17.08}\n"
     ]
    }
   ],
   "source": [
    "input_strs = [make_input_str(tasks[-9], nrows=40, ncols=(4,2)) for __ in range(70)] #Compare the values of two sets.\n",
    "test_dataset = CHILDDataset(input_strs[:], tokenizer)\n",
    "a = trainer.predict(test_dataset) #此处新生成了测试集\n",
    "print(a.metrics)"
   ]
  },
  {
   "attachments": {
    "image.png": {
     "image/png": "[encoded data removed]"
    }
   },
   "cell_type": "markdown",
   "id": "33a58e00",
   "metadata": {},
   "source": [
    "![image.png](attachment:image.png)"
   ]
  },
  {
   "cell_type": "code",
   "execution_count": 335,
   "id": "db574372",
   "metadata": {
    "scrolled": true
   },
   "outputs": [
    {
     "name": "stderr",
     "output_type": "stream",
     "text": [
      "***** Running training *****\n",
      "  Num examples = 120\n",
      "  Num Epochs = 2\n",
      "  Instantaneous batch size per device = 1\n",
      "  Total train batch size (w. parallel, distributed & accumulation) = 4\n",
      "  Gradient Accumulation steps = 4\n",
      "  Total optimization steps = 60\n"
     ]
    },
    {
     "data": {
      "text/html": [
       "\n",
       "    <div>\n",
       "      \n",
       "      <progress value='60' max='60' style='width:300px; height:20px; vertical-align: middle;'></progress>\n",
       "      [60/60 02:48, Epoch 2/2]\n",
       "    </div>\n",
       "    <table border=\"1\" class=\"dataframe\">\n",
       "  <thead>\n",
       " <tr style=\"text-align: left;\">\n",
       "      <th>Step</th>\n",
       "      <th>Training Loss</th>\n",
       "      <th>Validation Loss</th>\n",
       "      <th>Accuracy</th>\n",
       "      <th>Precision</th>\n",
       "    </tr>\n",
       "  </thead>\n",
       "  <tbody>\n",
       "    <tr>\n",
       "      <td>5</td>\n",
       "      <td>No log</td>\n",
       "      <td>1.613116</td>\n",
       "      <td>0.166667</td>\n",
       "      <td>['Ġall : 0.4213', 'Ġnone : 0.3368', 'Ġsome : 0.1252']</td>\n",
       "    </tr>\n",
       "    <tr>\n",
       "      <td>10</td>\n",
       "      <td>No log</td>\n",
       "      <td>1.317356</td>\n",
       "      <td>0.366667</td>\n",
       "      <td>['Ġall : 0.3742', 'Ġnone : 0.261', 'Ġsome : 0.2373']</td>\n",
       "    </tr>\n",
       "    <tr>\n",
       "      <td>15</td>\n",
       "      <td>No log</td>\n",
       "      <td>1.019361</td>\n",
       "      <td>0.683333</td>\n",
       "      <td>['Ġsome : 0.4355', 'Ġall : 0.3284', 'Ġnone : 0.1312']</td>\n",
       "    </tr>\n",
       "    <tr>\n",
       "      <td>20</td>\n",
       "      <td>No log</td>\n",
       "      <td>0.776384</td>\n",
       "      <td>0.750000</td>\n",
       "      <td>['Ġsome : 0.5721', 'Ġall : 0.3058', 'Ġnone : 0.0457']</td>\n",
       "    </tr>\n",
       "    <tr>\n",
       "      <td>25</td>\n",
       "      <td>No log</td>\n",
       "      <td>0.506797</td>\n",
       "      <td>0.883333</td>\n",
       "      <td>['Ġsome : 0.7429', 'Ġall : 0.2115', 'Ġnone : 0.0159']</td>\n",
       "    </tr>\n",
       "    <tr>\n",
       "      <td>30</td>\n",
       "      <td>No log</td>\n",
       "      <td>0.252517</td>\n",
       "      <td>0.950000</td>\n",
       "      <td>['Ġsome : 0.8991', 'Ġall : 0.0839', 'Ġnone : 0.0043']</td>\n",
       "    </tr>\n",
       "    <tr>\n",
       "      <td>35</td>\n",
       "      <td>1.089400</td>\n",
       "      <td>0.111573</td>\n",
       "      <td>0.933333</td>\n",
       "      <td>['Ġsome : 0.9627', 'Ġall : 0.0319', 'some : 0.0016']</td>\n",
       "    </tr>\n",
       "    <tr>\n",
       "      <td>40</td>\n",
       "      <td>1.089400</td>\n",
       "      <td>0.161489</td>\n",
       "      <td>0.933333</td>\n",
       "      <td>['Ġsome : 0.9923', 'Ġall : 0.0046', 'some : 0.002']</td>\n",
       "    </tr>\n",
       "    <tr>\n",
       "      <td>45</td>\n",
       "      <td>1.089400</td>\n",
       "      <td>0.075194</td>\n",
       "      <td>0.966667</td>\n",
       "      <td>['Ġsome : 0.9973', 'some : 0.0014', 'Ġall : 0.0005']</td>\n",
       "    </tr>\n",
       "    <tr>\n",
       "      <td>50</td>\n",
       "      <td>1.089400</td>\n",
       "      <td>0.094131</td>\n",
       "      <td>0.966667</td>\n",
       "      <td>['Ġsome : 0.9989', 'some : 0.0007', 'Ġall : 0.0001']</td>\n",
       "    </tr>\n",
       "    <tr>\n",
       "      <td>55</td>\n",
       "      <td>1.089400</td>\n",
       "      <td>0.081911</td>\n",
       "      <td>0.966667</td>\n",
       "      <td>['Ġsome : 0.9975', 'Ġall : 0.0019', 'some : 0.0003']</td>\n",
       "    </tr>\n",
       "    <tr>\n",
       "      <td>60</td>\n",
       "      <td>1.089400</td>\n",
       "      <td>0.083533</td>\n",
       "      <td>0.966667</td>\n",
       "      <td>['Ġsome : 0.9987', 'Ġall : 0.001', 'some : 0.0001']</td>\n",
       "    </tr>\n",
       "  </tbody>\n",
       "</table><p>"
      ],
      "text/plain": [
       "<IPython.core.display.HTML object>"
      ]
     },
     "metadata": {},
     "output_type": "display_data"
    },
    {
     "name": "stderr",
     "output_type": "stream",
     "text": [
      "***** Running Evaluation *****\n",
      "  Num examples = 60\n",
      "  Batch size = 1\n",
      "***** Running Evaluation *****\n",
      "  Num examples = 60\n",
      "  Batch size = 1\n",
      "***** Running Evaluation *****\n",
      "  Num examples = 60\n",
      "  Batch size = 1\n",
      "***** Running Evaluation *****\n",
      "  Num examples = 60\n",
      "  Batch size = 1\n",
      "***** Running Evaluation *****\n",
      "  Num examples = 60\n",
      "  Batch size = 1\n",
      "***** Running Evaluation *****\n",
      "  Num examples = 60\n",
      "  Batch size = 1\n",
      "***** Running Evaluation *****\n",
      "  Num examples = 60\n",
      "  Batch size = 1\n",
      "***** Running Evaluation *****\n",
      "  Num examples = 60\n",
      "  Batch size = 1\n",
      "***** Running Evaluation *****\n",
      "  Num examples = 60\n",
      "  Batch size = 1\n",
      "***** Running Evaluation *****\n",
      "  Num examples = 60\n",
      "  Batch size = 1\n",
      "***** Running Evaluation *****\n",
      "  Num examples = 60\n",
      "  Batch size = 1\n",
      "***** Running Evaluation *****\n",
      "  Num examples = 60\n",
      "  Batch size = 1\n",
      "\n",
      "\n",
      "Training completed. Do not forget to share your model on huggingface.co/models =)\n",
      "\n",
      "\n"
     ]
    },
    {
     "data": {
      "text/plain": [
       "TrainOutput(global_step=60, training_loss=0.641343363126119, metrics={'train_runtime': 169.1064, 'train_samples_per_second': 1.419, 'train_steps_per_second': 0.355, 'total_flos': 294588741058560.0, 'train_loss': 0.641343363126119, 'epoch': 2.0})"
      ]
     },
     "execution_count": 335,
     "metadata": {},
     "output_type": "execute_result"
    }
   ],
   "source": [
    "trainer.train() #all/none/some"
   ]
  },
  {
   "cell_type": "code",
   "execution_count": 339,
   "id": "d0dbf3df",
   "metadata": {},
   "outputs": [
    {
     "name": "stderr",
     "output_type": "stream",
     "text": [
      "***** Running Prediction *****\n",
      "  Num examples = 70\n",
      "  Batch size = 1\n"
     ]
    },
    {
     "name": "stdout",
     "output_type": "stream",
     "text": [
      "{'test_loss': 0.14028388261795044, 'test_accuracy': 0.9571428571428572, 'test_precision': ['Ġnone : 0.9996', 'Ġall : 0.0002', 'ĠNone : 0.0001'], 'test_runtime': 11.1119, 'test_samples_per_second': 6.3, 'test_steps_per_second': 6.3}\n"
     ]
    }
   ],
   "source": [
    "input_strs = [make_input_str(tasks[-8], nrows=30, ncols=(4, 4, 4)) for __ in range(70)]\n",
    "\n",
    "test_dataset = CHILDDataset(input_strs[:], tokenizer)\n",
    "a = trainer.predict(test_dataset) #此处新生成了测试集\n",
    "print(a.metrics)"
   ]
  },
  {
   "cell_type": "code",
   "execution_count": null,
   "id": "07787e6d",
   "metadata": {},
   "outputs": [],
   "source": []
  },
  {
   "cell_type": "code",
   "execution_count": null,
   "id": "6b5d51b3",
   "metadata": {},
   "outputs": [],
   "source": []
  },
  {
   "cell_type": "code",
   "execution_count": null,
   "id": "8c1ca576",
   "metadata": {},
   "outputs": [],
   "source": []
  },
  {
   "cell_type": "code",
   "execution_count": null,
   "id": "f65f8579",
   "metadata": {},
   "outputs": [],
   "source": []
  },
  {
   "cell_type": "markdown",
   "id": "17807fa2",
   "metadata": {},
   "source": [
    "# 以下为1.3B"
   ]
  },
  {
   "cell_type": "code",
   "execution_count": 520,
   "id": "d0b73e52",
   "metadata": {},
   "outputs": [
    {
     "name": "stderr",
     "output_type": "stream",
     "text": [
      "***** Running training *****\n",
      "  Num examples = 600\n",
      "  Num Epochs = 1\n",
      "  Instantaneous batch size per device = 1\n",
      "  Total train batch size (w. parallel, distributed & accumulation) = 4\n",
      "  Gradient Accumulation steps = 4\n",
      "  Total optimization steps = 150\n"
     ]
    },
    {
     "data": {
      "text/html": [
       "\n",
       "    <div>\n",
       "      \n",
       "      <progress value='150' max='150' style='width:300px; height:20px; vertical-align: middle;'></progress>\n",
       "      [150/150 47:30, Epoch 1/1]\n",
       "    </div>\n",
       "    <table border=\"1\" class=\"dataframe\">\n",
       "  <thead>\n",
       " <tr style=\"text-align: left;\">\n",
       "      <th>Step</th>\n",
       "      <th>Training Loss</th>\n",
       "      <th>Validation Loss</th>\n",
       "      <th>Accuracy</th>\n",
       "      <th>Precision</th>\n",
       "    </tr>\n",
       "  </thead>\n",
       "  <tbody>\n",
       "    <tr>\n",
       "      <td>5</td>\n",
       "      <td>No log</td>\n",
       "      <td>2.268691</td>\n",
       "      <td>0.080000</td>\n",
       "      <td>['Ġ< : 0.3805', 'Ġ> : 0.2963', 'Ġ= : 0.0412']</td>\n",
       "    </tr>\n",
       "    <tr>\n",
       "      <td>10</td>\n",
       "      <td>No log</td>\n",
       "      <td>1.962598</td>\n",
       "      <td>0.240000</td>\n",
       "      <td>['Ġ< : 0.3509', 'Ġ> : 0.3036', 'Ġ= : 0.0598']</td>\n",
       "    </tr>\n",
       "    <tr>\n",
       "      <td>15</td>\n",
       "      <td>No log</td>\n",
       "      <td>1.715217</td>\n",
       "      <td>0.350000</td>\n",
       "      <td>['Ġ< : 0.325', 'Ġ> : 0.3055', 'Ġ= : 0.0789']</td>\n",
       "    </tr>\n",
       "    <tr>\n",
       "      <td>20</td>\n",
       "      <td>No log</td>\n",
       "      <td>1.507634</td>\n",
       "      <td>0.400000</td>\n",
       "      <td>['Ġ< : 0.2969', 'Ġ> : 0.295', 'Ġ= : 0.1035']</td>\n",
       "    </tr>\n",
       "    <tr>\n",
       "      <td>25</td>\n",
       "      <td>No log</td>\n",
       "      <td>1.325548</td>\n",
       "      <td>0.430000</td>\n",
       "      <td>['Ġ> : 0.2705', 'Ġ< : 0.2639', 'Ġ= : 0.1376']</td>\n",
       "    </tr>\n",
       "    <tr>\n",
       "      <td>30</td>\n",
       "      <td>No log</td>\n",
       "      <td>1.165320</td>\n",
       "      <td>0.475000</td>\n",
       "      <td>['Ġ> : 0.2328', 'Ġ< : 0.2164', 'Ġ= : 0.1905']</td>\n",
       "    </tr>\n",
       "    <tr>\n",
       "      <td>35</td>\n",
       "      <td>No log</td>\n",
       "      <td>1.033508</td>\n",
       "      <td>0.560000</td>\n",
       "      <td>['Ġ= : 0.2538', 'Ġ> : 0.191', 'Ġ< : 0.1684']</td>\n",
       "    </tr>\n",
       "    <tr>\n",
       "      <td>40</td>\n",
       "      <td>No log</td>\n",
       "      <td>0.914868</td>\n",
       "      <td>0.610000</td>\n",
       "      <td>['Ġ= : 0.3069', 'Ġ== : 0.1876', 'Ġ> : 0.1575']</td>\n",
       "    </tr>\n",
       "    <tr>\n",
       "      <td>45</td>\n",
       "      <td>No log</td>\n",
       "      <td>0.799914</td>\n",
       "      <td>0.710000</td>\n",
       "      <td>['Ġ= : 0.3604', 'Ġ== : 0.2088', 'Ġ> : 0.127']</td>\n",
       "    </tr>\n",
       "    <tr>\n",
       "      <td>50</td>\n",
       "      <td>No log</td>\n",
       "      <td>0.684929</td>\n",
       "      <td>0.815000</td>\n",
       "      <td>['Ġ= : 0.42', 'Ġ== : 0.2177', 'Ġ> : 0.1013']</td>\n",
       "    </tr>\n",
       "    <tr>\n",
       "      <td>55</td>\n",
       "      <td>No log</td>\n",
       "      <td>0.564842</td>\n",
       "      <td>0.870000</td>\n",
       "      <td>['Ġ= : 0.4938', 'Ġ== : 0.2156', 'Ġ> : 0.0745']</td>\n",
       "    </tr>\n",
       "    <tr>\n",
       "      <td>60</td>\n",
       "      <td>No log</td>\n",
       "      <td>0.419397</td>\n",
       "      <td>0.950000</td>\n",
       "      <td>['Ġ= : 0.6228', 'Ġ== : 0.184', 'Ġ< : 0.0501']</td>\n",
       "    </tr>\n",
       "    <tr>\n",
       "      <td>65</td>\n",
       "      <td>No log</td>\n",
       "      <td>0.250815</td>\n",
       "      <td>0.915000</td>\n",
       "      <td>['Ġ= : 0.8142', 'Ġ== : 0.1015', 'Ġ< : 0.0319']</td>\n",
       "    </tr>\n",
       "    <tr>\n",
       "      <td>70</td>\n",
       "      <td>No log</td>\n",
       "      <td>0.161156</td>\n",
       "      <td>0.840000</td>\n",
       "      <td>['Ġ= : 0.8892', 'Ġ== : 0.0523', 'Ġ< : 0.036']</td>\n",
       "    </tr>\n",
       "    <tr>\n",
       "      <td>75</td>\n",
       "      <td>No log</td>\n",
       "      <td>0.114311</td>\n",
       "      <td>0.760000</td>\n",
       "      <td>['Ġ= : 0.9288', 'Ġ< : 0.0317', 'Ġ== : 0.027']</td>\n",
       "    </tr>\n",
       "    <tr>\n",
       "      <td>80</td>\n",
       "      <td>No log</td>\n",
       "      <td>0.074754</td>\n",
       "      <td>0.780000</td>\n",
       "      <td>['Ġ= : 0.9595', 'Ġ< : 0.018', 'Ġ== : 0.0147']</td>\n",
       "    </tr>\n",
       "    <tr>\n",
       "      <td>85</td>\n",
       "      <td>No log</td>\n",
       "      <td>0.052945</td>\n",
       "      <td>0.785000</td>\n",
       "      <td>['Ġ= : 0.9783', 'Ġ< : 0.0085', 'Ġ== : 0.0078']</td>\n",
       "    </tr>\n",
       "    <tr>\n",
       "      <td>90</td>\n",
       "      <td>No log</td>\n",
       "      <td>0.041773</td>\n",
       "      <td>0.790000</td>\n",
       "      <td>['Ġ= : 0.9855', 'Ġ== : 0.0054', 'Ġ< : 0.0047']</td>\n",
       "    </tr>\n",
       "    <tr>\n",
       "      <td>95</td>\n",
       "      <td>No log</td>\n",
       "      <td>0.032130</td>\n",
       "      <td>0.785000</td>\n",
       "      <td>['Ġ= : 0.9896', 'Ġ== : 0.0037', 'Ġ< : 0.0031']</td>\n",
       "    </tr>\n",
       "    <tr>\n",
       "      <td>100</td>\n",
       "      <td>No log</td>\n",
       "      <td>0.023752</td>\n",
       "      <td>0.775000</td>\n",
       "      <td>['Ġ= : 0.992', 'Ġ< : 0.0028', 'Ġ== : 0.0024']</td>\n",
       "    </tr>\n",
       "    <tr>\n",
       "      <td>105</td>\n",
       "      <td>No log</td>\n",
       "      <td>0.019589</td>\n",
       "      <td>0.785000</td>\n",
       "      <td>['Ġ= : 0.9912', 'Ġ< : 0.0039', 'Ġ== : 0.0021']</td>\n",
       "    </tr>\n",
       "    <tr>\n",
       "      <td>110</td>\n",
       "      <td>No log</td>\n",
       "      <td>0.015656</td>\n",
       "      <td>0.795000</td>\n",
       "      <td>['Ġ= : 0.9908', 'Ġ< : 0.0045', 'Ġ== : 0.0019']</td>\n",
       "    </tr>\n",
       "    <tr>\n",
       "      <td>115</td>\n",
       "      <td>No log</td>\n",
       "      <td>0.012747</td>\n",
       "      <td>0.810000</td>\n",
       "      <td>['Ġ= : 0.9894', 'Ġ< : 0.0057', 'Ġ== : 0.002']</td>\n",
       "    </tr>\n",
       "    <tr>\n",
       "      <td>120</td>\n",
       "      <td>No log</td>\n",
       "      <td>0.010128</td>\n",
       "      <td>0.825000</td>\n",
       "      <td>['Ġ= : 0.9909', 'Ġ< : 0.0047', 'Ġ== : 0.0019']</td>\n",
       "    </tr>\n",
       "    <tr>\n",
       "      <td>125</td>\n",
       "      <td>No log</td>\n",
       "      <td>0.008792</td>\n",
       "      <td>0.835000</td>\n",
       "      <td>['Ġ= : 0.9916', 'Ġ< : 0.0044', 'Ġ== : 0.0017']</td>\n",
       "    </tr>\n",
       "    <tr>\n",
       "      <td>130</td>\n",
       "      <td>No log</td>\n",
       "      <td>0.007716</td>\n",
       "      <td>0.820000</td>\n",
       "      <td>['Ġ= : 0.9928', 'Ġ< : 0.0036', 'Ġ== : 0.0015']</td>\n",
       "    </tr>\n",
       "    <tr>\n",
       "      <td>135</td>\n",
       "      <td>No log</td>\n",
       "      <td>0.006674</td>\n",
       "      <td>0.825000</td>\n",
       "      <td>['Ġ= : 0.9942', 'Ġ< : 0.0027', 'Ġ== : 0.0013']</td>\n",
       "    </tr>\n",
       "    <tr>\n",
       "      <td>140</td>\n",
       "      <td>No log</td>\n",
       "      <td>0.005871</td>\n",
       "      <td>0.830000</td>\n",
       "      <td>['Ġ= : 0.9954', 'Ġ< : 0.0019', 'Ġ== : 0.0011']</td>\n",
       "    </tr>\n",
       "    <tr>\n",
       "      <td>145</td>\n",
       "      <td>No log</td>\n",
       "      <td>0.005235</td>\n",
       "      <td>0.825000</td>\n",
       "      <td>['Ġ= : 0.9963', 'Ġ< : 0.0015', 'Ġ== : 0.0009']</td>\n",
       "    </tr>\n",
       "    <tr>\n",
       "      <td>150</td>\n",
       "      <td>No log</td>\n",
       "      <td>0.004713</td>\n",
       "      <td>0.830000</td>\n",
       "      <td>['Ġ= : 0.997', 'Ġ< : 0.0011', 'Ġ== : 0.0007']</td>\n",
       "    </tr>\n",
       "  </tbody>\n",
       "</table><p>"
      ],
      "text/plain": [
       "<IPython.core.display.HTML object>"
      ]
     },
     "metadata": {},
     "output_type": "display_data"
    },
    {
     "name": "stderr",
     "output_type": "stream",
     "text": [
      "***** Running Evaluation *****\n",
      "  Num examples = 200\n",
      "  Batch size = 1\n",
      "***** Running Evaluation *****\n",
      "  Num examples = 200\n",
      "  Batch size = 1\n",
      "***** Running Evaluation *****\n",
      "  Num examples = 200\n",
      "  Batch size = 1\n",
      "***** Running Evaluation *****\n",
      "  Num examples = 200\n",
      "  Batch size = 1\n",
      "***** Running Evaluation *****\n",
      "  Num examples = 200\n",
      "  Batch size = 1\n",
      "***** Running Evaluation *****\n",
      "  Num examples = 200\n",
      "  Batch size = 1\n",
      "***** Running Evaluation *****\n",
      "  Num examples = 200\n",
      "  Batch size = 1\n",
      "***** Running Evaluation *****\n",
      "  Num examples = 200\n",
      "  Batch size = 1\n",
      "***** Running Evaluation *****\n",
      "  Num examples = 200\n",
      "  Batch size = 1\n",
      "***** Running Evaluation *****\n",
      "  Num examples = 200\n",
      "  Batch size = 1\n",
      "***** Running Evaluation *****\n",
      "  Num examples = 200\n",
      "  Batch size = 1\n",
      "***** Running Evaluation *****\n",
      "  Num examples = 200\n",
      "  Batch size = 1\n",
      "***** Running Evaluation *****\n",
      "  Num examples = 200\n",
      "  Batch size = 1\n",
      "***** Running Evaluation *****\n",
      "  Num examples = 200\n",
      "  Batch size = 1\n",
      "***** Running Evaluation *****\n",
      "  Num examples = 200\n",
      "  Batch size = 1\n",
      "***** Running Evaluation *****\n",
      "  Num examples = 200\n",
      "  Batch size = 1\n",
      "***** Running Evaluation *****\n",
      "  Num examples = 200\n",
      "  Batch size = 1\n",
      "***** Running Evaluation *****\n",
      "  Num examples = 200\n",
      "  Batch size = 1\n",
      "***** Running Evaluation *****\n",
      "  Num examples = 200\n",
      "  Batch size = 1\n",
      "***** Running Evaluation *****\n",
      "  Num examples = 200\n",
      "  Batch size = 1\n",
      "***** Running Evaluation *****\n",
      "  Num examples = 200\n",
      "  Batch size = 1\n",
      "***** Running Evaluation *****\n",
      "  Num examples = 200\n",
      "  Batch size = 1\n",
      "***** Running Evaluation *****\n",
      "  Num examples = 200\n",
      "  Batch size = 1\n",
      "***** Running Evaluation *****\n",
      "  Num examples = 200\n",
      "  Batch size = 1\n",
      "***** Running Evaluation *****\n",
      "  Num examples = 200\n",
      "  Batch size = 1\n",
      "***** Running Evaluation *****\n",
      "  Num examples = 200\n",
      "  Batch size = 1\n",
      "***** Running Evaluation *****\n",
      "  Num examples = 200\n",
      "  Batch size = 1\n",
      "***** Running Evaluation *****\n",
      "  Num examples = 200\n",
      "  Batch size = 1\n",
      "***** Running Evaluation *****\n",
      "  Num examples = 200\n",
      "  Batch size = 1\n",
      "***** Running Evaluation *****\n",
      "  Num examples = 200\n",
      "  Batch size = 1\n",
      "\n",
      "\n",
      "Training completed. Do not forget to share your model on huggingface.co/models =)\n",
      "\n",
      "\n"
     ]
    },
    {
     "data": {
      "text/plain": [
       "TrainOutput(global_step=150, training_loss=0.6220970662434896, metrics={'train_runtime': 2852.6965, 'train_samples_per_second': 0.21, 'train_steps_per_second': 0.053, 'total_flos': 292700351692800.0, 'train_loss': 0.6220970662434896, 'epoch': 1.0})"
      ]
     },
     "execution_count": 520,
     "metadata": {},
     "output_type": "execute_result"
    }
   ],
   "source": [
    "trainer.train() #新版大于小于"
   ]
  },
  {
   "cell_type": "code",
   "execution_count": 517,
   "id": "b5f29746",
   "metadata": {},
   "outputs": [
    {
     "name": "stderr",
     "output_type": "stream",
     "text": [
      "***** Running training *****\n",
      "  Num examples = 600\n",
      "  Num Epochs = 5\n",
      "  Instantaneous batch size per device = 1\n",
      "  Total train batch size (w. parallel, distributed & accumulation) = 1\n",
      "  Gradient Accumulation steps = 1\n",
      "  Total optimization steps = 3000\n"
     ]
    },
    {
     "data": {
      "text/html": [
       "\n",
       "    <div>\n",
       "      \n",
       "      <progress value='3000' max='3000' style='width:300px; height:20px; vertical-align: middle;'></progress>\n",
       "      [3000/3000 38:40, Epoch 5/5]\n",
       "    </div>\n",
       "    <table border=\"1\" class=\"dataframe\">\n",
       "  <thead>\n",
       " <tr style=\"text-align: left;\">\n",
       "      <th>Epoch</th>\n",
       "      <th>Training Loss</th>\n",
       "      <th>Validation Loss</th>\n",
       "      <th>Accuracy</th>\n",
       "      <th>Precision</th>\n",
       "    </tr>\n",
       "  </thead>\n",
       "  <tbody>\n",
       "    <tr>\n",
       "      <td>1</td>\n",
       "      <td>0.213600</td>\n",
       "      <td>0.000075</td>\n",
       "      <td>0.905000</td>\n",
       "      <td>['Ġ= : 1.0', 'Ġ== : 0.0', '= : 0.0']</td>\n",
       "    </tr>\n",
       "    <tr>\n",
       "      <td>2</td>\n",
       "      <td>0.000000</td>\n",
       "      <td>0.000001</td>\n",
       "      <td>0.925000</td>\n",
       "      <td>['Ġ< : 0.5669', 'Ġ= : 0.4326', 'Ġ1 : 0.0003']</td>\n",
       "    </tr>\n",
       "    <tr>\n",
       "      <td>3</td>\n",
       "      <td>0.000000</td>\n",
       "      <td>0.000000</td>\n",
       "      <td>0.990000</td>\n",
       "      <td>['Ġ= : 0.6462', 'Ġ< : 0.3528', 'Ġ1 : 0.0009']</td>\n",
       "    </tr>\n",
       "    <tr>\n",
       "      <td>4</td>\n",
       "      <td>0.000000</td>\n",
       "      <td>0.000000</td>\n",
       "      <td>0.975000</td>\n",
       "      <td>['Ġ= : 0.6907', 'Ġ< : 0.3075', 'Ġ1 : 0.0016']</td>\n",
       "    </tr>\n",
       "    <tr>\n",
       "      <td>5</td>\n",
       "      <td>0.000000</td>\n",
       "      <td>0.000000</td>\n",
       "      <td>0.985000</td>\n",
       "      <td>['Ġ= : 0.9555', 'Ġ< : 0.0418', 'Ġ1 : 0.0025']</td>\n",
       "    </tr>\n",
       "  </tbody>\n",
       "</table><p>"
      ],
      "text/plain": [
       "<IPython.core.display.HTML object>"
      ]
     },
     "metadata": {},
     "output_type": "display_data"
    },
    {
     "name": "stderr",
     "output_type": "stream",
     "text": [
      "***** Running Evaluation *****\n",
      "  Num examples = 200\n",
      "  Batch size = 1\n",
      "***** Running Evaluation *****\n",
      "  Num examples = 200\n",
      "  Batch size = 1\n",
      "***** Running Evaluation *****\n",
      "  Num examples = 200\n",
      "  Batch size = 1\n",
      "***** Running Evaluation *****\n",
      "  Num examples = 200\n",
      "  Batch size = 1\n",
      "***** Running Evaluation *****\n",
      "  Num examples = 200\n",
      "  Batch size = 1\n",
      "\n",
      "\n",
      "Training completed. Do not forget to share your model on huggingface.co/models =)\n",
      "\n",
      "\n"
     ]
    },
    {
     "data": {
      "text/plain": [
       "TrainOutput(global_step=3000, training_loss=0.04272513532016455, metrics={'train_runtime': 2321.0698, 'train_samples_per_second': 1.293, 'train_steps_per_second': 1.293, 'total_flos': 1463501758464000.0, 'train_loss': 0.04272513532016455, 'epoch': 5.0})"
      ]
     },
     "execution_count": 517,
     "metadata": {},
     "output_type": "execute_result"
    }
   ],
   "source": [
    "trainer.train()"
   ]
  },
  {
   "cell_type": "code",
   "execution_count": 428,
   "id": "0effb087",
   "metadata": {},
   "outputs": [
    {
     "name": "stderr",
     "output_type": "stream",
     "text": [
      "***** Running training *****\n",
      "  Num examples = 80\n",
      "  Num Epochs = 5\n",
      "  Instantaneous batch size per device = 1\n",
      "  Total train batch size (w. parallel, distributed & accumulation) = 4\n",
      "  Gradient Accumulation steps = 4\n",
      "  Total optimization steps = 100\n"
     ]
    },
    {
     "data": {
      "text/html": [
       "\n",
       "    <div>\n",
       "      \n",
       "      <progress value='100' max='100' style='width:300px; height:20px; vertical-align: middle;'></progress>\n",
       "      [100/100 01:18, Epoch 5/5]\n",
       "    </div>\n",
       "    <table border=\"1\" class=\"dataframe\">\n",
       "  <thead>\n",
       " <tr style=\"text-align: left;\">\n",
       "      <th>Step</th>\n",
       "      <th>Training Loss</th>\n",
       "      <th>Validation Loss</th>\n",
       "      <th>Accuracy</th>\n",
       "      <th>Precision</th>\n",
       "    </tr>\n",
       "  </thead>\n",
       "  <tbody>\n",
       "    <tr>\n",
       "      <td>5</td>\n",
       "      <td>No log</td>\n",
       "      <td>0.958300</td>\n",
       "      <td>0.434783</td>\n",
       "      <td>['ĠYes : 0.6128', 'ĠNo : 0.3068', 'Ċ : 0.0132']</td>\n",
       "    </tr>\n",
       "    <tr>\n",
       "      <td>10</td>\n",
       "      <td>No log</td>\n",
       "      <td>0.846871</td>\n",
       "      <td>0.521739</td>\n",
       "      <td>['ĠYes : 0.5647', 'ĠNo : 0.3511', 'Ċ : 0.013']</td>\n",
       "    </tr>\n",
       "    <tr>\n",
       "      <td>15</td>\n",
       "      <td>No log</td>\n",
       "      <td>0.735581</td>\n",
       "      <td>0.565217</td>\n",
       "      <td>['ĠYes : 0.5048', 'ĠNo : 0.4078', 'Ċ : 0.0127']</td>\n",
       "    </tr>\n",
       "    <tr>\n",
       "      <td>20</td>\n",
       "      <td>No log</td>\n",
       "      <td>0.631494</td>\n",
       "      <td>0.739130</td>\n",
       "      <td>['ĠNo : 0.4763', 'ĠYes : 0.434', 'Ċ : 0.0122']</td>\n",
       "    </tr>\n",
       "    <tr>\n",
       "      <td>25</td>\n",
       "      <td>0.871200</td>\n",
       "      <td>0.535091</td>\n",
       "      <td>0.956522</td>\n",
       "      <td>['ĠNo : 0.5479', 'ĠYes : 0.3616', 'Ċ : 0.0114']</td>\n",
       "    </tr>\n",
       "    <tr>\n",
       "      <td>30</td>\n",
       "      <td>0.871200</td>\n",
       "      <td>0.447122</td>\n",
       "      <td>1.000000</td>\n",
       "      <td>['ĠNo : 0.6127', 'ĠYes : 0.2984', 'ĠNot : 0.0117']</td>\n",
       "    </tr>\n",
       "    <tr>\n",
       "      <td>35</td>\n",
       "      <td>0.871200</td>\n",
       "      <td>0.369237</td>\n",
       "      <td>1.000000</td>\n",
       "      <td>['ĠNo : 0.6647', 'ĠYes : 0.2502', 'ĠNot : 0.0118']</td>\n",
       "    </tr>\n",
       "    <tr>\n",
       "      <td>40</td>\n",
       "      <td>0.871200</td>\n",
       "      <td>0.299188</td>\n",
       "      <td>1.000000</td>\n",
       "      <td>['ĠNo : 0.7204', 'ĠYes : 0.1994', 'ĠNot : 0.0117']</td>\n",
       "    </tr>\n",
       "    <tr>\n",
       "      <td>45</td>\n",
       "      <td>0.473100</td>\n",
       "      <td>0.241382</td>\n",
       "      <td>1.000000</td>\n",
       "      <td>['ĠNo : 0.7807', 'ĠYes : 0.1447', 'ĠNot : 0.0116']</td>\n",
       "    </tr>\n",
       "    <tr>\n",
       "      <td>50</td>\n",
       "      <td>0.473100</td>\n",
       "      <td>0.191583</td>\n",
       "      <td>1.000000</td>\n",
       "      <td>['ĠNo : 0.8275', 'ĠYes : 0.1055', 'ĠNot : 0.0111']</td>\n",
       "    </tr>\n",
       "    <tr>\n",
       "      <td>55</td>\n",
       "      <td>0.473100</td>\n",
       "      <td>0.148883</td>\n",
       "      <td>1.000000</td>\n",
       "      <td>['ĠNo : 0.8655', 'ĠYes : 0.076', 'ĠNot : 0.0102']</td>\n",
       "    </tr>\n",
       "    <tr>\n",
       "      <td>60</td>\n",
       "      <td>0.473100</td>\n",
       "      <td>0.115086</td>\n",
       "      <td>1.000000</td>\n",
       "      <td>['ĠNo : 0.898', 'ĠYes : 0.0522', 'ĠNot : 0.0091']</td>\n",
       "    </tr>\n",
       "    <tr>\n",
       "      <td>65</td>\n",
       "      <td>0.202700</td>\n",
       "      <td>0.089776</td>\n",
       "      <td>1.000000</td>\n",
       "      <td>['ĠNo : 0.924', 'ĠYes : 0.0345', 'ĠNot : 0.0078']</td>\n",
       "    </tr>\n",
       "    <tr>\n",
       "      <td>70</td>\n",
       "      <td>0.202700</td>\n",
       "      <td>0.070885</td>\n",
       "      <td>1.000000</td>\n",
       "      <td>['ĠNo : 0.9431', 'ĠYes : 0.0226', 'ĠNot : 0.0064']</td>\n",
       "    </tr>\n",
       "    <tr>\n",
       "      <td>75</td>\n",
       "      <td>0.202700</td>\n",
       "      <td>0.056444</td>\n",
       "      <td>1.000000</td>\n",
       "      <td>['ĠNo : 0.9573', 'ĠYes : 0.0143', 'ĠNO : 0.0055']</td>\n",
       "    </tr>\n",
       "    <tr>\n",
       "      <td>80</td>\n",
       "      <td>0.202700</td>\n",
       "      <td>0.045723</td>\n",
       "      <td>1.000000</td>\n",
       "      <td>['ĠNo : 0.9676', 'ĠYes : 0.0091', 'ĠNO : 0.0049']</td>\n",
       "    </tr>\n",
       "    <tr>\n",
       "      <td>85</td>\n",
       "      <td>0.071500</td>\n",
       "      <td>0.036969</td>\n",
       "      <td>1.000000</td>\n",
       "      <td>['ĠNo : 0.9743', 'ĠYes : 0.0065', 'ĠNO : 0.0042']</td>\n",
       "    </tr>\n",
       "    <tr>\n",
       "      <td>90</td>\n",
       "      <td>0.071500</td>\n",
       "      <td>0.030143</td>\n",
       "      <td>1.000000</td>\n",
       "      <td>['ĠNo : 0.9793', 'ĠYes : 0.0048', 'ĠNO : 0.0036']</td>\n",
       "    </tr>\n",
       "    <tr>\n",
       "      <td>95</td>\n",
       "      <td>0.071500</td>\n",
       "      <td>0.024850</td>\n",
       "      <td>1.000000</td>\n",
       "      <td>['ĠNo : 0.9833', 'ĠYes : 0.0035', 'ĠNO : 0.003']</td>\n",
       "    </tr>\n",
       "    <tr>\n",
       "      <td>100</td>\n",
       "      <td>0.071500</td>\n",
       "      <td>0.020601</td>\n",
       "      <td>1.000000</td>\n",
       "      <td>['ĠNo : 0.9867', 'ĠNO : 0.0026', 'ĠYes : 0.0026']</td>\n",
       "    </tr>\n",
       "  </tbody>\n",
       "</table><p>"
      ],
      "text/plain": [
       "<IPython.core.display.HTML object>"
      ]
     },
     "metadata": {},
     "output_type": "display_data"
    },
    {
     "name": "stderr",
     "output_type": "stream",
     "text": [
      "***** Running Evaluation *****\n",
      "  Num examples = 23\n",
      "  Batch size = 1\n",
      "***** Running Evaluation *****\n",
      "  Num examples = 23\n",
      "  Batch size = 1\n",
      "***** Running Evaluation *****\n",
      "  Num examples = 23\n",
      "  Batch size = 1\n",
      "***** Running Evaluation *****\n",
      "  Num examples = 23\n",
      "  Batch size = 1\n",
      "***** Running Evaluation *****\n",
      "  Num examples = 23\n",
      "  Batch size = 1\n",
      "***** Running Evaluation *****\n",
      "  Num examples = 23\n",
      "  Batch size = 1\n",
      "***** Running Evaluation *****\n",
      "  Num examples = 23\n",
      "  Batch size = 1\n",
      "***** Running Evaluation *****\n",
      "  Num examples = 23\n",
      "  Batch size = 1\n",
      "***** Running Evaluation *****\n",
      "  Num examples = 23\n",
      "  Batch size = 1\n",
      "***** Running Evaluation *****\n",
      "  Num examples = 23\n",
      "  Batch size = 1\n",
      "***** Running Evaluation *****\n",
      "  Num examples = 23\n",
      "  Batch size = 1\n",
      "***** Running Evaluation *****\n",
      "  Num examples = 23\n",
      "  Batch size = 1\n",
      "***** Running Evaluation *****\n",
      "  Num examples = 23\n",
      "  Batch size = 1\n",
      "***** Running Evaluation *****\n",
      "  Num examples = 23\n",
      "  Batch size = 1\n",
      "***** Running Evaluation *****\n",
      "  Num examples = 23\n",
      "  Batch size = 1\n",
      "***** Running Evaluation *****\n",
      "  Num examples = 23\n",
      "  Batch size = 1\n",
      "***** Running Evaluation *****\n",
      "  Num examples = 23\n",
      "  Batch size = 1\n",
      "***** Running Evaluation *****\n",
      "  Num examples = 23\n",
      "  Batch size = 1\n",
      "***** Running Evaluation *****\n",
      "  Num examples = 23\n",
      "  Batch size = 1\n",
      "***** Running Evaluation *****\n",
      "  Num examples = 23\n",
      "  Batch size = 1\n",
      "\n",
      "\n",
      "Training completed. Do not forget to share your model on huggingface.co/models =)\n",
      "\n",
      "\n"
     ]
    },
    {
     "data": {
      "text/plain": [
       "TrainOutput(global_step=100, training_loss=0.3295187932252884, metrics={'train_runtime': 79.0369, 'train_samples_per_second': 5.061, 'train_steps_per_second': 1.265, 'total_flos': 201428199014400.0, 'train_loss': 0.3295187932252884, 'epoch': 5.0})"
      ]
     },
     "execution_count": 428,
     "metadata": {},
     "output_type": "execute_result"
    }
   ],
   "source": [
    "trainer.train()#RICA"
   ]
  },
  {
   "attachments": {
    "image.png": {
     "image/png": "[encoded data removed]"
    }
   },
   "cell_type": "markdown",
   "id": "b303a1f7",
   "metadata": {},
   "source": [
    "![image.png](attachment:image.png)"
   ]
  },
  {
   "cell_type": "code",
   "execution_count": null,
   "id": "4e8b6147",
   "metadata": {},
   "outputs": [],
   "source": [
    "Bob: apple, Emma: ball, Tom: pear, Kate: doll. [] boys have fruits. [all / some /none] -> all"
   ]
  },
  {
   "cell_type": "code",
   "execution_count": 322,
   "id": "a8784b8f",
   "metadata": {
    "scrolled": true
   },
   "outputs": [
    {
     "name": "stderr",
     "output_type": "stream",
     "text": [
      "***** Running training *****\n",
      "  Num examples = 120\n",
      "  Num Epochs = 2\n",
      "  Instantaneous batch size per device = 1\n",
      "  Total train batch size (w. parallel, distributed & accumulation) = 4\n",
      "  Gradient Accumulation steps = 4\n",
      "  Total optimization steps = 60\n"
     ]
    },
    {
     "data": {
      "text/html": [
       "\n",
       "    <div>\n",
       "      \n",
       "      <progress value='60' max='60' style='width:300px; height:20px; vertical-align: middle;'></progress>\n",
       "      [60/60 02:43, Epoch 2/2]\n",
       "    </div>\n",
       "    <table border=\"1\" class=\"dataframe\">\n",
       "  <thead>\n",
       " <tr style=\"text-align: left;\">\n",
       "      <th>Step</th>\n",
       "      <th>Training Loss</th>\n",
       "      <th>Validation Loss</th>\n",
       "      <th>Accuracy</th>\n",
       "      <th>Precision</th>\n",
       "    </tr>\n",
       "  </thead>\n",
       "  <tbody>\n",
       "    <tr>\n",
       "      <td>5</td>\n",
       "      <td>No log</td>\n",
       "      <td>1.685331</td>\n",
       "      <td>0.183333</td>\n",
       "      <td>['Ġnone : 0.409', 'Ġsome : 0.3444', 'Ġall : 0.1374']</td>\n",
       "    </tr>\n",
       "    <tr>\n",
       "      <td>10</td>\n",
       "      <td>No log</td>\n",
       "      <td>1.413242</td>\n",
       "      <td>0.183333</td>\n",
       "      <td>['Ġsome : 0.4185', 'Ġnone : 0.2715', 'Ġall : 0.1941']</td>\n",
       "    </tr>\n",
       "    <tr>\n",
       "      <td>15</td>\n",
       "      <td>No log</td>\n",
       "      <td>1.134811</td>\n",
       "      <td>0.433333</td>\n",
       "      <td>['Ġsome : 0.4374', 'Ġnone : 0.2545', 'Ġall : 0.2072']</td>\n",
       "    </tr>\n",
       "    <tr>\n",
       "      <td>20</td>\n",
       "      <td>No log</td>\n",
       "      <td>0.842482</td>\n",
       "      <td>0.800000</td>\n",
       "      <td>['Ġsome : 0.5356', 'Ġnone : 0.2035', 'Ġall : 0.188']</td>\n",
       "    </tr>\n",
       "    <tr>\n",
       "      <td>25</td>\n",
       "      <td>No log</td>\n",
       "      <td>0.525855</td>\n",
       "      <td>0.950000</td>\n",
       "      <td>['Ġsome : 0.458', 'Ġall : 0.3916', 'Ġnone : 0.0795']</td>\n",
       "    </tr>\n",
       "    <tr>\n",
       "      <td>30</td>\n",
       "      <td>No log</td>\n",
       "      <td>0.346325</td>\n",
       "      <td>0.966667</td>\n",
       "      <td>['Ġall : 0.5524', 'Ġsome : 0.3836', 'Ġnone : 0.02']</td>\n",
       "    </tr>\n",
       "    <tr>\n",
       "      <td>35</td>\n",
       "      <td>1.243300</td>\n",
       "      <td>0.167787</td>\n",
       "      <td>0.966667</td>\n",
       "      <td>['Ġall : 0.8282', 'Ġsome : 0.1313', 'Ġnone : 0.0125']</td>\n",
       "    </tr>\n",
       "    <tr>\n",
       "      <td>40</td>\n",
       "      <td>1.243300</td>\n",
       "      <td>0.137759</td>\n",
       "      <td>0.966667</td>\n",
       "      <td>['Ġall : 0.9667', 'Ġsome : 0.0233', 'Ġnone : 0.0042']</td>\n",
       "    </tr>\n",
       "    <tr>\n",
       "      <td>45</td>\n",
       "      <td>1.243300</td>\n",
       "      <td>0.145786</td>\n",
       "      <td>0.966667</td>\n",
       "      <td>['Ġall : 0.992', 'Ġsome : 0.0045', 'Ġnone : 0.0013']</td>\n",
       "    </tr>\n",
       "    <tr>\n",
       "      <td>50</td>\n",
       "      <td>1.243300</td>\n",
       "      <td>0.115180</td>\n",
       "      <td>0.983333</td>\n",
       "      <td>['Ġall : 0.999', 'Ġsome : 0.0002', 'Ġeverything : 0.0001']</td>\n",
       "    </tr>\n",
       "    <tr>\n",
       "      <td>55</td>\n",
       "      <td>1.243300</td>\n",
       "      <td>0.090202</td>\n",
       "      <td>0.966667</td>\n",
       "      <td>['Ġall : 0.9991', 'Ġsome : 0.0002', 'Ġeverything : 0.0001']</td>\n",
       "    </tr>\n",
       "    <tr>\n",
       "      <td>60</td>\n",
       "      <td>1.243300</td>\n",
       "      <td>0.101779</td>\n",
       "      <td>0.966667</td>\n",
       "      <td>['Ġall : 0.9991', 'Ġsome : 0.0002', 'Ġeverything : 0.0001']</td>\n",
       "    </tr>\n",
       "  </tbody>\n",
       "</table><p>"
      ],
      "text/plain": [
       "<IPython.core.display.HTML object>"
      ]
     },
     "metadata": {},
     "output_type": "display_data"
    },
    {
     "name": "stderr",
     "output_type": "stream",
     "text": [
      "***** Running Evaluation *****\n",
      "  Num examples = 60\n",
      "  Batch size = 1\n",
      "***** Running Evaluation *****\n",
      "  Num examples = 60\n",
      "  Batch size = 1\n",
      "***** Running Evaluation *****\n",
      "  Num examples = 60\n",
      "  Batch size = 1\n",
      "***** Running Evaluation *****\n",
      "  Num examples = 60\n",
      "  Batch size = 1\n",
      "***** Running Evaluation *****\n",
      "  Num examples = 60\n",
      "  Batch size = 1\n",
      "***** Running Evaluation *****\n",
      "  Num examples = 60\n",
      "  Batch size = 1\n",
      "***** Running Evaluation *****\n",
      "  Num examples = 60\n",
      "  Batch size = 1\n",
      "***** Running Evaluation *****\n",
      "  Num examples = 60\n",
      "  Batch size = 1\n",
      "***** Running Evaluation *****\n",
      "  Num examples = 60\n",
      "  Batch size = 1\n",
      "***** Running Evaluation *****\n",
      "  Num examples = 60\n",
      "  Batch size = 1\n",
      "***** Running Evaluation *****\n",
      "  Num examples = 60\n",
      "  Batch size = 1\n",
      "***** Running Evaluation *****\n",
      "  Num examples = 60\n",
      "  Batch size = 1\n",
      "\n",
      "\n",
      "Training completed. Do not forget to share your model on huggingface.co/models =)\n",
      "\n",
      "\n"
     ]
    },
    {
     "data": {
      "text/plain": [
       "TrainOutput(global_step=60, training_loss=0.6869547724723816, metrics={'train_runtime': 164.5481, 'train_samples_per_second': 1.459, 'train_steps_per_second': 0.365, 'total_flos': 288923572961280.0, 'train_loss': 0.6869547724723816, 'epoch': 2.0})"
      ]
     },
     "execution_count": 322,
     "metadata": {},
     "output_type": "execute_result"
    }
   ],
   "source": [
    "trainer.train()#新版，下一步进行eval判断是否过拟合"
   ]
  },
  {
   "cell_type": "code",
   "execution_count": 324,
   "id": "e539f55f",
   "metadata": {
    "scrolled": true
   },
   "outputs": [
    {
     "name": "stderr",
     "output_type": "stream",
     "text": [
      "***** Running Prediction *****\n",
      "  Num examples = 70\n",
      "  Batch size = 1\n"
     ]
    },
    {
     "data": {
      "text/html": [
       "\n",
       "    <div>\n",
       "      \n",
       "      <progress value='70' max='70' style='width:300px; height:20px; vertical-align: middle;'></progress>\n",
       "      [70/70 00:08]\n",
       "    </div>\n",
       "    "
      ],
      "text/plain": [
       "<IPython.core.display.HTML object>"
      ]
     },
     "metadata": {},
     "output_type": "display_data"
    },
    {
     "data": {
      "text/plain": [
       "PredictionOutput(predictions=array([[[ -2.6154752,  -2.1349053,  -2.182977 , ..., -11.854561 ,\n",
       "         -12.182815 ,  -5.645425 ],\n",
       "        [ -9.893254 ,  -9.906917 ,  -6.844658 , ..., -17.660763 ,\n",
       "         -19.42679  ,  -5.8024774],\n",
       "        [-10.233073 ,  -6.0077457,  -9.650581 , ..., -15.504637 ,\n",
       "         -12.419349 ,  -7.4766397],\n",
       "        ...,\n",
       "        [ -9.483704 , -12.251509 , -12.929687 , ..., -16.244257 ,\n",
       "         -17.783554 , -10.627737 ],\n",
       "        [ -9.7508545, -12.529946 , -13.271047 , ..., -16.3753   ,\n",
       "         -18.088936 , -10.525542 ],\n",
       "        [ -9.815395 , -12.724019 , -13.373404 , ..., -16.322239 ,\n",
       "         -18.43342  , -10.640594 ]],\n",
       "\n",
       "       [[ -2.6154752,  -2.1349053,  -2.182977 , ..., -11.854561 ,\n",
       "         -12.182815 ,  -5.645425 ],\n",
       "        [ -9.893254 ,  -9.906917 ,  -6.844658 , ..., -17.660763 ,\n",
       "         -19.42679  ,  -5.8024774],\n",
       "        [-10.233073 ,  -6.0077457,  -9.650581 , ..., -15.504637 ,\n",
       "         -12.419349 ,  -7.4766397],\n",
       "        ...,\n",
       "        [ -8.081008 ,  -9.932427 ,  -9.988935 , ..., -15.867159 ,\n",
       "         -16.133034 ,  -8.474252 ],\n",
       "        [ -9.024848 , -12.116056 , -11.484072 , ..., -18.105259 ,\n",
       "         -18.801184 , -10.792888 ],\n",
       "        [ -9.002754 , -12.210784 , -11.375459 , ..., -17.96338  ,\n",
       "         -18.665792 , -10.796158 ]],\n",
       "\n",
       "       [[ -2.6154752,  -2.1349053,  -2.182977 , ..., -11.854561 ,\n",
       "         -12.182815 ,  -5.645425 ],\n",
       "        [ -9.893254 ,  -9.906917 ,  -6.844658 , ..., -17.660763 ,\n",
       "         -19.42679  ,  -5.8024774],\n",
       "        [-10.233073 ,  -6.0077457,  -9.650581 , ..., -15.504637 ,\n",
       "         -12.419349 ,  -7.4766397],\n",
       "        ...,\n",
       "        [ -9.394599 , -12.088175 , -12.377286 , ..., -18.973385 ,\n",
       "         -16.950583 , -10.44739  ],\n",
       "        [ -9.460006 , -12.466824 , -12.593892 , ..., -18.749775 ,\n",
       "         -17.271353 , -10.401458 ],\n",
       "        [ -9.595964 , -12.569421 , -12.653482 , ..., -18.871183 ,\n",
       "         -17.395514 , -10.611822 ]],\n",
       "\n",
       "       ...,\n",
       "\n",
       "       [[ -2.6154752,  -2.1349053,  -2.182977 , ..., -11.854561 ,\n",
       "         -12.182815 ,  -5.645425 ],\n",
       "        [ -9.893254 ,  -9.906917 ,  -6.844658 , ..., -17.660763 ,\n",
       "         -19.42679  ,  -5.8024774],\n",
       "        [-10.233073 ,  -6.0077457,  -9.650581 , ..., -15.504637 ,\n",
       "         -12.419349 ,  -7.4766397],\n",
       "        ...,\n",
       "        [ -9.766918 , -10.30129  , -11.002708 , ..., -15.907939 ,\n",
       "         -15.474147 ,  -8.542462 ],\n",
       "        [-10.692706 , -12.77061  , -12.506186 , ..., -17.908804 ,\n",
       "         -17.50295  , -11.430364 ],\n",
       "        [-10.714382 , -13.034782 , -12.69486  , ..., -17.975897 ,\n",
       "         -17.892065 , -11.729239 ]],\n",
       "\n",
       "       [[ -2.6154752,  -2.1349053,  -2.182977 , ..., -11.854561 ,\n",
       "         -12.182815 ,  -5.645425 ],\n",
       "        [ -9.893254 ,  -9.906917 ,  -6.844658 , ..., -17.660763 ,\n",
       "         -19.42679  ,  -5.8024774],\n",
       "        [-10.233073 ,  -6.0077457,  -9.650581 , ..., -15.504637 ,\n",
       "         -12.419349 ,  -7.4766397],\n",
       "        ...,\n",
       "        [ -7.947282 ,  -9.848894 , -10.60312  , ..., -15.073279 ,\n",
       "         -14.406891 ,  -7.383639 ],\n",
       "        [ -9.222557 , -12.352813 , -12.724174 , ..., -16.326328 ,\n",
       "         -16.708838 , -10.007014 ],\n",
       "        [ -9.076795 , -12.226302 , -12.510455 , ..., -16.23913  ,\n",
       "         -16.467308 ,  -9.930661 ]],\n",
       "\n",
       "       [[ -2.6154752,  -2.1349053,  -2.182977 , ..., -11.854561 ,\n",
       "         -12.182815 ,  -5.645425 ],\n",
       "        [ -9.893254 ,  -9.906917 ,  -6.844658 , ..., -17.660763 ,\n",
       "         -19.42679  ,  -5.8024774],\n",
       "        [-10.233073 ,  -6.0077457,  -9.650581 , ..., -15.504637 ,\n",
       "         -12.419349 ,  -7.4766397],\n",
       "        ...,\n",
       "        [ -8.866354 , -11.779752 , -11.63777  , ..., -14.907818 ,\n",
       "         -17.157097 ,  -9.883159 ],\n",
       "        [ -9.503381 , -12.723607 , -12.498191 , ..., -15.3312235,\n",
       "         -18.121986 , -10.259459 ],\n",
       "        [ -9.472093 , -12.710196 , -12.495821 , ..., -15.314693 ,\n",
       "         -18.124374 , -10.231228 ]]], dtype=float32), label_ids=array([[-100, -100, -100, ..., -100, -100, -100],\n",
       "       [-100, -100, -100, ..., -100, -100, -100],\n",
       "       [-100, -100, -100, ..., -100, -100, -100],\n",
       "       ...,\n",
       "       [-100, -100, -100, ..., -100, -100, -100],\n",
       "       [-100, -100, -100, ..., -100, -100, -100],\n",
       "       [-100, -100, -100, ..., -100, -100, -100]]), metrics={'test_loss': 0.08531233668327332, 'test_accuracy': 0.9714285714285714, 'test_precision': ['Ġnone : 0.9994', 'Ġall : 0.0002', 'Ġsome : 0.0001'], 'test_runtime': 10.6394, 'test_samples_per_second': 6.579, 'test_steps_per_second': 6.579})"
      ]
     },
     "execution_count": 324,
     "metadata": {},
     "output_type": "execute_result"
    }
   ],
   "source": [
    "input_strs = [make_input_str(tasks[-8], nrows=30, ncols=(4, 4, 4)) for __ in range(70)]\n",
    "test_dataset = CHILDDataset(input_strs[:], tokenizer)\n",
    "trainer.predict(test_dataset) #此处新生成了测试集"
   ]
  },
  {
   "cell_type": "code",
   "execution_count": 109,
   "id": "59bda475",
   "metadata": {},
   "outputs": [
    {
     "name": "stderr",
     "output_type": "stream",
     "text": [
      "***** Running training *****\n",
      "  Num examples = 400\n",
      "  Num Epochs = 5\n",
      "  Instantaneous batch size per device = 1\n",
      "  Total train batch size (w. parallel, distributed & accumulation) = 1\n",
      "  Gradient Accumulation steps = 1\n",
      "  Total optimization steps = 2000\n"
     ]
    },
    {
     "data": {
      "text/html": [
       "\n",
       "    <div>\n",
       "      \n",
       "      <progress value='2000' max='2000' style='width:300px; height:20px; vertical-align: middle;'></progress>\n",
       "      [2000/2000 14:18, Epoch 5/5]\n",
       "    </div>\n",
       "    <table border=\"1\" class=\"dataframe\">\n",
       "  <thead>\n",
       " <tr style=\"text-align: left;\">\n",
       "      <th>Epoch</th>\n",
       "      <th>Training Loss</th>\n",
       "      <th>Validation Loss</th>\n",
       "      <th>Accuracy</th>\n",
       "      <th>Precision</th>\n",
       "    </tr>\n",
       "  </thead>\n",
       "  <tbody>\n",
       "    <tr>\n",
       "      <td>1</td>\n",
       "      <td>1.128200</td>\n",
       "      <td>0.775177</td>\n",
       "      <td>0.280000</td>\n",
       "      <td>['Ġsome : 0.7271', 'Ġall : 0.2295', 'Ġnone : 0.0367']</td>\n",
       "    </tr>\n",
       "    <tr>\n",
       "      <td>2</td>\n",
       "      <td>0.772900</td>\n",
       "      <td>0.624407</td>\n",
       "      <td>0.310000</td>\n",
       "      <td>['Ġsome : 0.6392', 'Ġall : 0.1931', 'Ġnone : 0.1492']</td>\n",
       "    </tr>\n",
       "    <tr>\n",
       "      <td>3</td>\n",
       "      <td>0.686500</td>\n",
       "      <td>0.728295</td>\n",
       "      <td>0.330000</td>\n",
       "      <td>['Ġsome : 0.838', 'Ġall : 0.1404', 'Ġnone : 0.0072']</td>\n",
       "    </tr>\n",
       "    <tr>\n",
       "      <td>4</td>\n",
       "      <td>0.700800</td>\n",
       "      <td>0.664520</td>\n",
       "      <td>0.330000</td>\n",
       "      <td>['Ġsome : 0.9705', 'Ġall : 0.0215', 'Ġmost : 0.0025']</td>\n",
       "    </tr>\n",
       "    <tr>\n",
       "      <td>5</td>\n",
       "      <td>0.644700</td>\n",
       "      <td>0.683085</td>\n",
       "      <td>0.330000</td>\n",
       "      <td>['Ġsome : 0.7134', 'Ġall : 0.265', 'Ġnone : 0.0138']</td>\n",
       "    </tr>\n",
       "  </tbody>\n",
       "</table><p>"
      ],
      "text/plain": [
       "<IPython.core.display.HTML object>"
      ]
     },
     "metadata": {},
     "output_type": "display_data"
    },
    {
     "name": "stderr",
     "output_type": "stream",
     "text": [
      "***** Running Evaluation *****\n",
      "  Num examples = 100\n",
      "  Batch size = 1\n",
      "***** Running Evaluation *****\n",
      "  Num examples = 100\n",
      "  Batch size = 1\n",
      "***** Running Evaluation *****\n",
      "  Num examples = 100\n",
      "  Batch size = 1\n",
      "***** Running Evaluation *****\n",
      "  Num examples = 100\n",
      "  Batch size = 1\n",
      "***** Running Evaluation *****\n",
      "  Num examples = 100\n",
      "  Batch size = 1\n",
      "\n",
      "\n",
      "Training completed. Do not forget to share your model on huggingface.co/models =)\n",
      "\n",
      "\n"
     ]
    },
    {
     "data": {
      "text/plain": [
       "TrainOutput(global_step=2000, training_loss=0.7866153259277344, metrics={'train_runtime': 858.991, 'train_samples_per_second': 2.328, 'train_steps_per_second': 2.328, 'total_flos': 4170193182720000.0, 'train_loss': 0.7866153259277344, 'epoch': 5.0})"
      ]
     },
     "execution_count": 109,
     "metadata": {},
     "output_type": "execute_result"
    }
   ],
   "source": [
    "trainer.train() #这个好像学不会，也有可能是我的prompt初始化不好"
   ]
  },
  {
   "attachments": {
    "image.png": {
     "image/png": "[encoded data removed]"
    }
   },
   "cell_type": "markdown",
   "id": "7f445dfa",
   "metadata": {},
   "source": [
    "![image.png](attachment:image.png) 这个和后面那一个是同一个问题,我测试了不同的学习率"
   ]
  },
  {
   "cell_type": "code",
   "execution_count": 289,
   "id": "b84b46fc",
   "metadata": {
    "scrolled": true
   },
   "outputs": [
    {
     "name": "stderr",
     "output_type": "stream",
     "text": [
      "***** Running training *****\n",
      "  Num examples = 120\n",
      "  Num Epochs = 3\n",
      "  Instantaneous batch size per device = 1\n",
      "  Total train batch size (w. parallel, distributed & accumulation) = 4\n",
      "  Gradient Accumulation steps = 4\n",
      "  Total optimization steps = 90\n"
     ]
    },
    {
     "data": {
      "text/html": [
       "\n",
       "    <div>\n",
       "      \n",
       "      <progress value='90' max='90' style='width:300px; height:20px; vertical-align: middle;'></progress>\n",
       "      [90/90 01:39, Epoch 3/3]\n",
       "    </div>\n",
       "    <table border=\"1\" class=\"dataframe\">\n",
       "  <thead>\n",
       " <tr style=\"text-align: left;\">\n",
       "      <th>Step</th>\n",
       "      <th>Training Loss</th>\n",
       "      <th>Validation Loss</th>\n",
       "      <th>Accuracy</th>\n",
       "      <th>Precision</th>\n",
       "    </tr>\n",
       "  </thead>\n",
       "  <tbody>\n",
       "    <tr>\n",
       "      <td>5</td>\n",
       "      <td>No log</td>\n",
       "      <td>1.702919</td>\n",
       "      <td>0.183333</td>\n",
       "      <td>['Ġ1 : 0.3931', 'Ġ0 : 0.1633', 'Ġ2 : 0.116']</td>\n",
       "    </tr>\n",
       "    <tr>\n",
       "      <td>10</td>\n",
       "      <td>No log</td>\n",
       "      <td>1.629344</td>\n",
       "      <td>0.250000</td>\n",
       "      <td>['Ġ1 : 0.4239', 'Ġ0 : 0.1463', 'Ġ4 : 0.1158']</td>\n",
       "    </tr>\n",
       "    <tr>\n",
       "      <td>15</td>\n",
       "      <td>No log</td>\n",
       "      <td>1.552879</td>\n",
       "      <td>0.400000</td>\n",
       "      <td>['Ġ1 : 0.4643', 'Ġ0 : 0.1295', 'Ġ4 : 0.1161']</td>\n",
       "    </tr>\n",
       "    <tr>\n",
       "      <td>20</td>\n",
       "      <td>No log</td>\n",
       "      <td>1.476833</td>\n",
       "      <td>0.383333</td>\n",
       "      <td>['Ġ1 : 0.5111', 'Ġ4 : 0.113', 'Ġ0 : 0.1126']</td>\n",
       "    </tr>\n",
       "    <tr>\n",
       "      <td>25</td>\n",
       "      <td>No log</td>\n",
       "      <td>1.396219</td>\n",
       "      <td>0.400000</td>\n",
       "      <td>['Ġ1 : 0.5616', 'Ġ4 : 0.108', 'Ġ0 : 0.0949']</td>\n",
       "    </tr>\n",
       "    <tr>\n",
       "      <td>30</td>\n",
       "      <td>No log</td>\n",
       "      <td>1.318351</td>\n",
       "      <td>0.433333</td>\n",
       "      <td>['Ġ1 : 0.6109', 'Ġ4 : 0.1026', 'Ġ0 : 0.0775']</td>\n",
       "    </tr>\n",
       "    <tr>\n",
       "      <td>35</td>\n",
       "      <td>1.561600</td>\n",
       "      <td>1.236830</td>\n",
       "      <td>0.466667</td>\n",
       "      <td>['Ġ1 : 0.6668', 'Ġ4 : 0.0916', 'Ġ2 : 0.0627']</td>\n",
       "    </tr>\n",
       "    <tr>\n",
       "      <td>40</td>\n",
       "      <td>1.561600</td>\n",
       "      <td>1.155091</td>\n",
       "      <td>0.533333</td>\n",
       "      <td>['Ġ1 : 0.73', 'Ġ4 : 0.0759', 'Ġ2 : 0.0509']</td>\n",
       "    </tr>\n",
       "    <tr>\n",
       "      <td>45</td>\n",
       "      <td>1.561600</td>\n",
       "      <td>1.059110</td>\n",
       "      <td>0.533333</td>\n",
       "      <td>['Ġ1 : 0.7945', 'Ġ4 : 0.0627', 'Ġ2 : 0.0378']</td>\n",
       "    </tr>\n",
       "    <tr>\n",
       "      <td>50</td>\n",
       "      <td>1.561600</td>\n",
       "      <td>0.941614</td>\n",
       "      <td>0.616667</td>\n",
       "      <td>['Ġ1 : 0.8576', 'Ġ4 : 0.0503', 'Ġ5 : 0.0265']</td>\n",
       "    </tr>\n",
       "    <tr>\n",
       "      <td>55</td>\n",
       "      <td>1.561600</td>\n",
       "      <td>0.809489</td>\n",
       "      <td>0.500000</td>\n",
       "      <td>['Ġ1 : 0.9309', 'Ġ4 : 0.0276', 'Ġ5 : 0.0159']</td>\n",
       "    </tr>\n",
       "    <tr>\n",
       "      <td>60</td>\n",
       "      <td>1.561600</td>\n",
       "      <td>0.725263</td>\n",
       "      <td>0.233333</td>\n",
       "      <td>['Ġ1 : 0.9804', 'Ġ4 : 0.0079', 'Ġ5 : 0.0059']</td>\n",
       "    </tr>\n",
       "    <tr>\n",
       "      <td>65</td>\n",
       "      <td>1.045000</td>\n",
       "      <td>0.740669</td>\n",
       "      <td>0.150000</td>\n",
       "      <td>['Ġ1 : 0.9919', 'Ġ4 : 0.0027', 'Ġ5 : 0.0024']</td>\n",
       "    </tr>\n",
       "    <tr>\n",
       "      <td>70</td>\n",
       "      <td>1.045000</td>\n",
       "      <td>0.721702</td>\n",
       "      <td>0.150000</td>\n",
       "      <td>['Ġ1 : 0.9928', '1 : 0.0025', 'Ġ4 : 0.0022']</td>\n",
       "    </tr>\n",
       "    <tr>\n",
       "      <td>75</td>\n",
       "      <td>1.045000</td>\n",
       "      <td>0.671650</td>\n",
       "      <td>0.133333</td>\n",
       "      <td>['Ġ1 : 0.9927', '1 : 0.0026', 'Ġ4 : 0.0022']</td>\n",
       "    </tr>\n",
       "    <tr>\n",
       "      <td>80</td>\n",
       "      <td>1.045000</td>\n",
       "      <td>0.616005</td>\n",
       "      <td>0.166667</td>\n",
       "      <td>['Ġ1 : 0.9933', '1 : 0.0025', 'Ġ4 : 0.002']</td>\n",
       "    </tr>\n",
       "    <tr>\n",
       "      <td>85</td>\n",
       "      <td>1.045000</td>\n",
       "      <td>0.565731</td>\n",
       "      <td>0.200000</td>\n",
       "      <td>['Ġ1 : 0.9935', '1 : 0.0023', 'Ġ4 : 0.0018']</td>\n",
       "    </tr>\n",
       "    <tr>\n",
       "      <td>90</td>\n",
       "      <td>1.045000</td>\n",
       "      <td>0.556476</td>\n",
       "      <td>0.216667</td>\n",
       "      <td>['Ġ1 : 0.996', '1 : 0.0024', 'Ġ5 : 0.0007']</td>\n",
       "    </tr>\n",
       "  </tbody>\n",
       "</table><p>"
      ],
      "text/plain": [
       "<IPython.core.display.HTML object>"
      ]
     },
     "metadata": {},
     "output_type": "display_data"
    },
    {
     "name": "stderr",
     "output_type": "stream",
     "text": [
      "***** Running Evaluation *****\n",
      "  Num examples = 60\n",
      "  Batch size = 1\n",
      "***** Running Evaluation *****\n",
      "  Num examples = 60\n",
      "  Batch size = 1\n",
      "***** Running Evaluation *****\n",
      "  Num examples = 60\n",
      "  Batch size = 1\n",
      "***** Running Evaluation *****\n",
      "  Num examples = 60\n",
      "  Batch size = 1\n",
      "***** Running Evaluation *****\n",
      "  Num examples = 60\n",
      "  Batch size = 1\n",
      "***** Running Evaluation *****\n",
      "  Num examples = 60\n",
      "  Batch size = 1\n",
      "***** Running Evaluation *****\n",
      "  Num examples = 60\n",
      "  Batch size = 1\n",
      "***** Running Evaluation *****\n",
      "  Num examples = 60\n",
      "  Batch size = 1\n",
      "***** Running Evaluation *****\n",
      "  Num examples = 60\n",
      "  Batch size = 1\n",
      "***** Running Evaluation *****\n",
      "  Num examples = 60\n",
      "  Batch size = 1\n",
      "***** Running Evaluation *****\n",
      "  Num examples = 60\n",
      "  Batch size = 1\n",
      "***** Running Evaluation *****\n",
      "  Num examples = 60\n",
      "  Batch size = 1\n",
      "***** Running Evaluation *****\n",
      "  Num examples = 60\n",
      "  Batch size = 1\n",
      "***** Running Evaluation *****\n",
      "  Num examples = 60\n",
      "  Batch size = 1\n",
      "***** Running Evaluation *****\n",
      "  Num examples = 60\n",
      "  Batch size = 1\n",
      "***** Running Evaluation *****\n",
      "  Num examples = 60\n",
      "  Batch size = 1\n",
      "***** Running Evaluation *****\n",
      "  Num examples = 60\n",
      "  Batch size = 1\n",
      "***** Running Evaluation *****\n",
      "  Num examples = 60\n",
      "  Batch size = 1\n",
      "\n",
      "\n",
      "Training completed. Do not forget to share your model on huggingface.co/models =)\n",
      "\n",
      "\n"
     ]
    },
    {
     "data": {
      "text/plain": [
       "TrainOutput(global_step=90, training_loss=1.0907849205864801, metrics={'train_runtime': 99.8499, 'train_samples_per_second': 3.605, 'train_steps_per_second': 0.901, 'total_flos': 169955042918400.0, 'train_loss': 1.0907849205864801, 'epoch': 3.0})"
      ]
     },
     "execution_count": 289,
     "metadata": {},
     "output_type": "execute_result"
    }
   ],
   "source": [
    "trainer.train()#How_many_elements_are_similar_to_the_example 学习率0.0001"
   ]
  },
  {
   "attachments": {
    "image.png": {
     "image/png": "[encoded data removed]"
    }
   },
   "cell_type": "markdown",
   "id": "382e06de",
   "metadata": {},
   "source": [
    "![image.png](attachment:image.png)"
   ]
  },
  {
   "cell_type": "code",
   "execution_count": 303,
   "id": "1ceab8b7",
   "metadata": {
    "scrolled": true
   },
   "outputs": [
    {
     "name": "stderr",
     "output_type": "stream",
     "text": [
      "***** Running training *****\n",
      "  Num examples = 800\n",
      "  Num Epochs = 3\n",
      "  Instantaneous batch size per device = 1\n",
      "  Total train batch size (w. parallel, distributed & accumulation) = 4\n",
      "  Gradient Accumulation steps = 4\n",
      "  Total optimization steps = 600\n"
     ]
    },
    {
     "data": {
      "text/html": [
       "\n",
       "    <div>\n",
       "      \n",
       "      <progress value='91' max='600' style='width:300px; height:20px; vertical-align: middle;'></progress>\n",
       "      [ 91/600 04:22 < 24:58, 0.34 it/s, Epoch 0.45/3]\n",
       "    </div>\n",
       "    <table border=\"1\" class=\"dataframe\">\n",
       "  <thead>\n",
       " <tr style=\"text-align: left;\">\n",
       "      <th>Step</th>\n",
       "      <th>Training Loss</th>\n",
       "      <th>Validation Loss</th>\n",
       "      <th>Accuracy</th>\n",
       "      <th>Precision</th>\n",
       "    </tr>\n",
       "  </thead>\n",
       "  <tbody>\n",
       "    <tr>\n",
       "      <td>5</td>\n",
       "      <td>No log</td>\n",
       "      <td>1.324453</td>\n",
       "      <td>0.605000</td>\n",
       "      <td>['Ġ1 : 0.4708', 'Ġ0 : 0.1742', 'Ġ3 : 0.1074']</td>\n",
       "    </tr>\n",
       "    <tr>\n",
       "      <td>10</td>\n",
       "      <td>No log</td>\n",
       "      <td>0.836421</td>\n",
       "      <td>0.715000</td>\n",
       "      <td>['Ġ1 : 0.9614', 'Ġ5 : 0.0082', 'Ġ0 : 0.0077']</td>\n",
       "    </tr>\n",
       "    <tr>\n",
       "      <td>15</td>\n",
       "      <td>No log</td>\n",
       "      <td>0.648392</td>\n",
       "      <td>0.185000</td>\n",
       "      <td>['Ġ1 : 0.9959', '1 : 0.0034', 'Ġ5 : 0.0004']</td>\n",
       "    </tr>\n",
       "    <tr>\n",
       "      <td>20</td>\n",
       "      <td>No log</td>\n",
       "      <td>0.241184</td>\n",
       "      <td>0.615000</td>\n",
       "      <td>['Ġ1 : 0.9981', '1 : 0.0017', 'Ġ5 : 0.0001']</td>\n",
       "    </tr>\n",
       "    <tr>\n",
       "      <td>25</td>\n",
       "      <td>No log</td>\n",
       "      <td>0.078094</td>\n",
       "      <td>0.780000</td>\n",
       "      <td>['Ġ1 : 0.9993', '1 : 0.0007', 'Ġ0 : 0.0']</td>\n",
       "    </tr>\n",
       "    <tr>\n",
       "      <td>30</td>\n",
       "      <td>No log</td>\n",
       "      <td>0.014560</td>\n",
       "      <td>0.925000</td>\n",
       "      <td>['Ġ1 : 0.9996', '1 : 0.0004', 'Ġ5 : 0.0']</td>\n",
       "    </tr>\n",
       "    <tr>\n",
       "      <td>35</td>\n",
       "      <td>No log</td>\n",
       "      <td>0.002897</td>\n",
       "      <td>0.990000</td>\n",
       "      <td>['Ġ1 : 0.9999', '1 : 0.0001', 'Ġ0 : 0.0']</td>\n",
       "    </tr>\n",
       "    <tr>\n",
       "      <td>40</td>\n",
       "      <td>No log</td>\n",
       "      <td>0.001040</td>\n",
       "      <td>1.000000</td>\n",
       "      <td>['Ġ1 : 0.9999', '1 : 0.0001', 'Ġ0 : 0.0']</td>\n",
       "    </tr>\n",
       "    <tr>\n",
       "      <td>45</td>\n",
       "      <td>No log</td>\n",
       "      <td>0.000812</td>\n",
       "      <td>1.000000</td>\n",
       "      <td>['Ġ1 : 0.9999', '1 : 0.0001', 'Ġ0 : 0.0']</td>\n",
       "    </tr>\n",
       "    <tr>\n",
       "      <td>50</td>\n",
       "      <td>No log</td>\n",
       "      <td>0.000737</td>\n",
       "      <td>1.000000</td>\n",
       "      <td>['Ġ1 : 0.9999', '1 : 0.0001', 'Ġ5 : 0.0']</td>\n",
       "    </tr>\n",
       "    <tr>\n",
       "      <td>55</td>\n",
       "      <td>No log</td>\n",
       "      <td>0.000544</td>\n",
       "      <td>1.000000</td>\n",
       "      <td>['Ġ1 : 0.9999', '1 : 0.0001', 'Ġ5 : 0.0']</td>\n",
       "    </tr>\n",
       "    <tr>\n",
       "      <td>60</td>\n",
       "      <td>No log</td>\n",
       "      <td>0.000365</td>\n",
       "      <td>1.000000</td>\n",
       "      <td>['Ġ1 : 0.9999', '1 : 0.0', 'Ġ5 : 0.0']</td>\n",
       "    </tr>\n",
       "    <tr>\n",
       "      <td>65</td>\n",
       "      <td>No log</td>\n",
       "      <td>0.000315</td>\n",
       "      <td>1.000000</td>\n",
       "      <td>['Ġ1 : 1.0', '1 : 0.0', 'Ġ5 : 0.0']</td>\n",
       "    </tr>\n",
       "    <tr>\n",
       "      <td>70</td>\n",
       "      <td>No log</td>\n",
       "      <td>0.000238</td>\n",
       "      <td>0.990000</td>\n",
       "      <td>['Ġ1 : 1.0', '1 : 0.0', 'Ġ5 : 0.0']</td>\n",
       "    </tr>\n",
       "    <tr>\n",
       "      <td>75</td>\n",
       "      <td>No log</td>\n",
       "      <td>0.000511</td>\n",
       "      <td>0.995000</td>\n",
       "      <td>['Ġ1 : 0.9998', '1 : 0.0001', 'Ġ5 : 0.0']</td>\n",
       "    </tr>\n",
       "    <tr>\n",
       "      <td>80</td>\n",
       "      <td>No log</td>\n",
       "      <td>0.000498</td>\n",
       "      <td>0.995000</td>\n",
       "      <td>['Ġ1 : 0.9998', '1 : 0.0001', 'Ġ5 : 0.0']</td>\n",
       "    </tr>\n",
       "    <tr>\n",
       "      <td>85</td>\n",
       "      <td>No log</td>\n",
       "      <td>0.000382</td>\n",
       "      <td>0.995000</td>\n",
       "      <td>['Ġ1 : 0.9998', '1 : 0.0002', 'Ġ5 : 0.0']</td>\n",
       "    </tr>\n",
       "  </tbody>\n",
       "</table><p>\n",
       "    <div>\n",
       "      \n",
       "      <progress value='86' max='200' style='width:300px; height:20px; vertical-align: middle;'></progress>\n",
       "      [ 86/200 00:04 < 00:05, 20.97 it/s]\n",
       "    </div>\n",
       "    "
      ],
      "text/plain": [
       "<IPython.core.display.HTML object>"
      ]
     },
     "metadata": {},
     "output_type": "display_data"
    },
    {
     "name": "stderr",
     "output_type": "stream",
     "text": [
      "***** Running Evaluation *****\n",
      "  Num examples = 200\n",
      "  Batch size = 1\n",
      "***** Running Evaluation *****\n",
      "  Num examples = 200\n",
      "  Batch size = 1\n",
      "***** Running Evaluation *****\n",
      "  Num examples = 200\n",
      "  Batch size = 1\n",
      "***** Running Evaluation *****\n",
      "  Num examples = 200\n",
      "  Batch size = 1\n",
      "***** Running Evaluation *****\n",
      "  Num examples = 200\n",
      "  Batch size = 1\n",
      "***** Running Evaluation *****\n",
      "  Num examples = 200\n",
      "  Batch size = 1\n",
      "***** Running Evaluation *****\n",
      "  Num examples = 200\n",
      "  Batch size = 1\n",
      "***** Running Evaluation *****\n",
      "  Num examples = 200\n",
      "  Batch size = 1\n",
      "***** Running Evaluation *****\n",
      "  Num examples = 200\n",
      "  Batch size = 1\n",
      "***** Running Evaluation *****\n",
      "  Num examples = 200\n",
      "  Batch size = 1\n",
      "***** Running Evaluation *****\n",
      "  Num examples = 200\n",
      "  Batch size = 1\n",
      "***** Running Evaluation *****\n",
      "  Num examples = 200\n",
      "  Batch size = 1\n",
      "***** Running Evaluation *****\n",
      "  Num examples = 200\n",
      "  Batch size = 1\n",
      "***** Running Evaluation *****\n",
      "  Num examples = 200\n",
      "  Batch size = 1\n",
      "***** Running Evaluation *****\n",
      "  Num examples = 200\n",
      "  Batch size = 1\n",
      "***** Running Evaluation *****\n",
      "  Num examples = 200\n",
      "  Batch size = 1\n",
      "***** Running Evaluation *****\n",
      "  Num examples = 200\n",
      "  Batch size = 1\n",
      "***** Running Evaluation *****\n",
      "  Num examples = 200\n",
      "  Batch size = 1\n"
     ]
    },
    {
     "ename": "KeyboardInterrupt",
     "evalue": "",
     "output_type": "error",
     "traceback": [
      "\u001b[0;31m---------------------------------------------------------------------------\u001b[0m",
      "\u001b[0;31mKeyboardInterrupt\u001b[0m                         Traceback (most recent call last)",
      "\u001b[0;32m<ipython-input-303-a3e071ca9d64>\u001b[0m in \u001b[0;36m<module>\u001b[0;34m\u001b[0m\n\u001b[0;32m----> 1\u001b[0;31m \u001b[0mtrainer\u001b[0m\u001b[0;34m.\u001b[0m\u001b[0mtrain\u001b[0m\u001b[0;34m(\u001b[0m\u001b[0;34m)\u001b[0m\u001b[0;31m#How_many_elements_are_similar_to_the_example 学习率0.001\u001b[0m\u001b[0;34m\u001b[0m\u001b[0;34m\u001b[0m\u001b[0m\n\u001b[0m",
      "\u001b[0;32m/nas/xd/projects/transformers/src/transformers/trainer.py\u001b[0m in \u001b[0;36mtrain\u001b[0;34m(self, resume_from_checkpoint, trial, ignore_keys_for_eval, **kwargs)\u001b[0m\n\u001b[1;32m   1473\u001b[0m                     \u001b[0mself\u001b[0m\u001b[0;34m.\u001b[0m\u001b[0mcontrol\u001b[0m \u001b[0;34m=\u001b[0m \u001b[0mself\u001b[0m\u001b[0;34m.\u001b[0m\u001b[0mcallback_handler\u001b[0m\u001b[0;34m.\u001b[0m\u001b[0mon_step_end\u001b[0m\u001b[0;34m(\u001b[0m\u001b[0margs\u001b[0m\u001b[0;34m,\u001b[0m \u001b[0mself\u001b[0m\u001b[0;34m.\u001b[0m\u001b[0mstate\u001b[0m\u001b[0;34m,\u001b[0m \u001b[0mself\u001b[0m\u001b[0;34m.\u001b[0m\u001b[0mcontrol\u001b[0m\u001b[0;34m)\u001b[0m\u001b[0;34m\u001b[0m\u001b[0;34m\u001b[0m\u001b[0m\n\u001b[1;32m   1474\u001b[0m \u001b[0;34m\u001b[0m\u001b[0m\n\u001b[0;32m-> 1475\u001b[0;31m                     \u001b[0mself\u001b[0m\u001b[0;34m.\u001b[0m\u001b[0m_maybe_log_save_evaluate\u001b[0m\u001b[0;34m(\u001b[0m\u001b[0mtr_loss\u001b[0m\u001b[0;34m,\u001b[0m \u001b[0mmodel\u001b[0m\u001b[0;34m,\u001b[0m \u001b[0mtrial\u001b[0m\u001b[0;34m,\u001b[0m \u001b[0mepoch\u001b[0m\u001b[0;34m,\u001b[0m \u001b[0mignore_keys_for_eval\u001b[0m\u001b[0;34m)\u001b[0m\u001b[0;34m\u001b[0m\u001b[0;34m\u001b[0m\u001b[0m\n\u001b[0m\u001b[1;32m   1476\u001b[0m                 \u001b[0;32melse\u001b[0m\u001b[0;34m:\u001b[0m\u001b[0;34m\u001b[0m\u001b[0;34m\u001b[0m\u001b[0m\n\u001b[1;32m   1477\u001b[0m                     \u001b[0mself\u001b[0m\u001b[0;34m.\u001b[0m\u001b[0mcontrol\u001b[0m \u001b[0;34m=\u001b[0m \u001b[0mself\u001b[0m\u001b[0;34m.\u001b[0m\u001b[0mcallback_handler\u001b[0m\u001b[0;34m.\u001b[0m\u001b[0mon_substep_end\u001b[0m\u001b[0;34m(\u001b[0m\u001b[0margs\u001b[0m\u001b[0;34m,\u001b[0m \u001b[0mself\u001b[0m\u001b[0;34m.\u001b[0m\u001b[0mstate\u001b[0m\u001b[0;34m,\u001b[0m \u001b[0mself\u001b[0m\u001b[0;34m.\u001b[0m\u001b[0mcontrol\u001b[0m\u001b[0;34m)\u001b[0m\u001b[0;34m\u001b[0m\u001b[0;34m\u001b[0m\u001b[0m\n",
      "\u001b[0;32m/nas/xd/projects/transformers/src/transformers/trainer.py\u001b[0m in \u001b[0;36m_maybe_log_save_evaluate\u001b[0;34m(self, tr_loss, model, trial, epoch, ignore_keys_for_eval)\u001b[0m\n\u001b[1;32m   1600\u001b[0m         \u001b[0mmetrics\u001b[0m \u001b[0;34m=\u001b[0m \u001b[0;32mNone\u001b[0m\u001b[0;34m\u001b[0m\u001b[0;34m\u001b[0m\u001b[0m\n\u001b[1;32m   1601\u001b[0m         \u001b[0;32mif\u001b[0m \u001b[0mself\u001b[0m\u001b[0;34m.\u001b[0m\u001b[0mcontrol\u001b[0m\u001b[0;34m.\u001b[0m\u001b[0mshould_evaluate\u001b[0m\u001b[0;34m:\u001b[0m\u001b[0;34m\u001b[0m\u001b[0;34m\u001b[0m\u001b[0m\n\u001b[0;32m-> 1602\u001b[0;31m             \u001b[0mmetrics\u001b[0m \u001b[0;34m=\u001b[0m \u001b[0mself\u001b[0m\u001b[0;34m.\u001b[0m\u001b[0mevaluate\u001b[0m\u001b[0;34m(\u001b[0m\u001b[0mignore_keys\u001b[0m\u001b[0;34m=\u001b[0m\u001b[0mignore_keys_for_eval\u001b[0m\u001b[0;34m)\u001b[0m\u001b[0;34m\u001b[0m\u001b[0;34m\u001b[0m\u001b[0m\n\u001b[0m\u001b[1;32m   1603\u001b[0m             \u001b[0mself\u001b[0m\u001b[0;34m.\u001b[0m\u001b[0m_report_to_hp_search\u001b[0m\u001b[0;34m(\u001b[0m\u001b[0mtrial\u001b[0m\u001b[0;34m,\u001b[0m \u001b[0mepoch\u001b[0m\u001b[0;34m,\u001b[0m \u001b[0mmetrics\u001b[0m\u001b[0;34m)\u001b[0m\u001b[0;34m\u001b[0m\u001b[0;34m\u001b[0m\u001b[0m\n\u001b[1;32m   1604\u001b[0m \u001b[0;34m\u001b[0m\u001b[0m\n",
      "\u001b[0;32m/nas/xd/projects/transformers/src/transformers/trainer.py\u001b[0m in \u001b[0;36mevaluate\u001b[0;34m(self, eval_dataset, ignore_keys, metric_key_prefix)\u001b[0m\n\u001b[1;32m   2255\u001b[0m \u001b[0;34m\u001b[0m\u001b[0m\n\u001b[1;32m   2256\u001b[0m         \u001b[0meval_loop\u001b[0m \u001b[0;34m=\u001b[0m \u001b[0mself\u001b[0m\u001b[0;34m.\u001b[0m\u001b[0mprediction_loop\u001b[0m \u001b[0;32mif\u001b[0m \u001b[0mself\u001b[0m\u001b[0;34m.\u001b[0m\u001b[0margs\u001b[0m\u001b[0;34m.\u001b[0m\u001b[0muse_legacy_prediction_loop\u001b[0m \u001b[0;32melse\u001b[0m \u001b[0mself\u001b[0m\u001b[0;34m.\u001b[0m\u001b[0mevaluation_loop\u001b[0m\u001b[0;34m\u001b[0m\u001b[0;34m\u001b[0m\u001b[0m\n\u001b[0;32m-> 2257\u001b[0;31m         output = eval_loop(\n\u001b[0m\u001b[1;32m   2258\u001b[0m             \u001b[0meval_dataloader\u001b[0m\u001b[0;34m,\u001b[0m\u001b[0;34m\u001b[0m\u001b[0;34m\u001b[0m\u001b[0m\n\u001b[1;32m   2259\u001b[0m             \u001b[0mdescription\u001b[0m\u001b[0;34m=\u001b[0m\u001b[0;34m\"Evaluation\"\u001b[0m\u001b[0;34m,\u001b[0m\u001b[0;34m\u001b[0m\u001b[0;34m\u001b[0m\u001b[0m\n",
      "\u001b[0;32m/nas/xd/projects/transformers/src/transformers/trainer.py\u001b[0m in \u001b[0;36mevaluation_loop\u001b[0;34m(self, dataloader, description, prediction_loss_only, ignore_keys, metric_key_prefix)\u001b[0m\n\u001b[1;32m   2429\u001b[0m \u001b[0;34m\u001b[0m\u001b[0m\n\u001b[1;32m   2430\u001b[0m             \u001b[0;31m# Prediction step\u001b[0m\u001b[0;34m\u001b[0m\u001b[0;34m\u001b[0m\u001b[0;34m\u001b[0m\u001b[0m\n\u001b[0;32m-> 2431\u001b[0;31m             \u001b[0mloss\u001b[0m\u001b[0;34m,\u001b[0m \u001b[0mlogits\u001b[0m\u001b[0;34m,\u001b[0m \u001b[0mlabels\u001b[0m \u001b[0;34m=\u001b[0m \u001b[0mself\u001b[0m\u001b[0;34m.\u001b[0m\u001b[0mprediction_step\u001b[0m\u001b[0;34m(\u001b[0m\u001b[0mmodel\u001b[0m\u001b[0;34m,\u001b[0m \u001b[0minputs\u001b[0m\u001b[0;34m,\u001b[0m \u001b[0mprediction_loss_only\u001b[0m\u001b[0;34m,\u001b[0m \u001b[0mignore_keys\u001b[0m\u001b[0;34m=\u001b[0m\u001b[0mignore_keys\u001b[0m\u001b[0;34m)\u001b[0m\u001b[0;34m\u001b[0m\u001b[0;34m\u001b[0m\u001b[0m\n\u001b[0m\u001b[1;32m   2432\u001b[0m \u001b[0;34m\u001b[0m\u001b[0m\n\u001b[1;32m   2433\u001b[0m             \u001b[0;32mif\u001b[0m \u001b[0mis_torch_tpu_available\u001b[0m\u001b[0;34m(\u001b[0m\u001b[0;34m)\u001b[0m\u001b[0;34m:\u001b[0m\u001b[0;34m\u001b[0m\u001b[0;34m\u001b[0m\u001b[0m\n",
      "\u001b[0;32m/nas/xd/projects/transformers/src/transformers/trainer.py\u001b[0m in \u001b[0;36mprediction_step\u001b[0;34m(self, model, inputs, prediction_loss_only, ignore_keys)\u001b[0m\n\u001b[1;32m   2639\u001b[0m                 \u001b[0;32mif\u001b[0m \u001b[0mhas_labels\u001b[0m\u001b[0;34m:\u001b[0m\u001b[0;34m\u001b[0m\u001b[0;34m\u001b[0m\u001b[0m\n\u001b[1;32m   2640\u001b[0m                     \u001b[0;32mwith\u001b[0m \u001b[0mself\u001b[0m\u001b[0;34m.\u001b[0m\u001b[0mautocast_smart_context_manager\u001b[0m\u001b[0;34m(\u001b[0m\u001b[0;34m)\u001b[0m\u001b[0;34m:\u001b[0m\u001b[0;34m\u001b[0m\u001b[0;34m\u001b[0m\u001b[0m\n\u001b[0;32m-> 2641\u001b[0;31m                         \u001b[0mloss\u001b[0m\u001b[0;34m,\u001b[0m \u001b[0moutputs\u001b[0m \u001b[0;34m=\u001b[0m \u001b[0mself\u001b[0m\u001b[0;34m.\u001b[0m\u001b[0mcompute_loss\u001b[0m\u001b[0;34m(\u001b[0m\u001b[0mmodel\u001b[0m\u001b[0;34m,\u001b[0m \u001b[0minputs\u001b[0m\u001b[0;34m,\u001b[0m \u001b[0mreturn_outputs\u001b[0m\u001b[0;34m=\u001b[0m\u001b[0;32mTrue\u001b[0m\u001b[0;34m)\u001b[0m\u001b[0;34m\u001b[0m\u001b[0;34m\u001b[0m\u001b[0m\n\u001b[0m\u001b[1;32m   2642\u001b[0m                     \u001b[0mloss\u001b[0m \u001b[0;34m=\u001b[0m \u001b[0mloss\u001b[0m\u001b[0;34m.\u001b[0m\u001b[0mmean\u001b[0m\u001b[0;34m(\u001b[0m\u001b[0;34m)\u001b[0m\u001b[0;34m.\u001b[0m\u001b[0mdetach\u001b[0m\u001b[0;34m(\u001b[0m\u001b[0;34m)\u001b[0m\u001b[0;34m\u001b[0m\u001b[0;34m\u001b[0m\u001b[0m\n\u001b[1;32m   2643\u001b[0m \u001b[0;34m\u001b[0m\u001b[0m\n",
      "\u001b[0;32m/nas/xd/projects/transformers/src/transformers/trainer.py\u001b[0m in \u001b[0;36mcompute_loss\u001b[0;34m(self, model, inputs, return_outputs)\u001b[0m\n\u001b[1;32m   2014\u001b[0m         \u001b[0;32melse\u001b[0m\u001b[0;34m:\u001b[0m\u001b[0;34m\u001b[0m\u001b[0;34m\u001b[0m\u001b[0m\n\u001b[1;32m   2015\u001b[0m             \u001b[0mlabels\u001b[0m \u001b[0;34m=\u001b[0m \u001b[0;32mNone\u001b[0m\u001b[0;34m\u001b[0m\u001b[0;34m\u001b[0m\u001b[0m\n\u001b[0;32m-> 2016\u001b[0;31m         \u001b[0moutputs\u001b[0m \u001b[0;34m=\u001b[0m \u001b[0mmodel\u001b[0m\u001b[0;34m(\u001b[0m\u001b[0;34m**\u001b[0m\u001b[0minputs\u001b[0m\u001b[0;34m)\u001b[0m\u001b[0;34m\u001b[0m\u001b[0;34m\u001b[0m\u001b[0m\n\u001b[0m\u001b[1;32m   2017\u001b[0m         \u001b[0;31m# Save past state if it exists\u001b[0m\u001b[0;34m\u001b[0m\u001b[0;34m\u001b[0m\u001b[0;34m\u001b[0m\u001b[0m\n\u001b[1;32m   2018\u001b[0m         \u001b[0;31m# TODO: this needs to be fixed and made cleaner later.\u001b[0m\u001b[0;34m\u001b[0m\u001b[0;34m\u001b[0m\u001b[0;34m\u001b[0m\u001b[0m\n",
      "\u001b[0;32m/home/kf/miniconda3/envs/pytorch1.7.1/lib/python3.8/site-packages/torch/nn/modules/module.py\u001b[0m in \u001b[0;36m_call_impl\u001b[0;34m(self, *input, **kwargs)\u001b[0m\n\u001b[1;32m    725\u001b[0m             \u001b[0mresult\u001b[0m \u001b[0;34m=\u001b[0m \u001b[0mself\u001b[0m\u001b[0;34m.\u001b[0m\u001b[0m_slow_forward\u001b[0m\u001b[0;34m(\u001b[0m\u001b[0;34m*\u001b[0m\u001b[0minput\u001b[0m\u001b[0;34m,\u001b[0m \u001b[0;34m**\u001b[0m\u001b[0mkwargs\u001b[0m\u001b[0;34m)\u001b[0m\u001b[0;34m\u001b[0m\u001b[0;34m\u001b[0m\u001b[0m\n\u001b[1;32m    726\u001b[0m         \u001b[0;32melse\u001b[0m\u001b[0;34m:\u001b[0m\u001b[0;34m\u001b[0m\u001b[0;34m\u001b[0m\u001b[0m\n\u001b[0;32m--> 727\u001b[0;31m             \u001b[0mresult\u001b[0m \u001b[0;34m=\u001b[0m \u001b[0mself\u001b[0m\u001b[0;34m.\u001b[0m\u001b[0mforward\u001b[0m\u001b[0;34m(\u001b[0m\u001b[0;34m*\u001b[0m\u001b[0minput\u001b[0m\u001b[0;34m,\u001b[0m \u001b[0;34m**\u001b[0m\u001b[0mkwargs\u001b[0m\u001b[0;34m)\u001b[0m\u001b[0;34m\u001b[0m\u001b[0;34m\u001b[0m\u001b[0m\n\u001b[0m\u001b[1;32m    728\u001b[0m         for hook in itertools.chain(\n\u001b[1;32m    729\u001b[0m                 \u001b[0m_global_forward_hooks\u001b[0m\u001b[0;34m.\u001b[0m\u001b[0mvalues\u001b[0m\u001b[0;34m(\u001b[0m\u001b[0;34m)\u001b[0m\u001b[0;34m,\u001b[0m\u001b[0;34m\u001b[0m\u001b[0;34m\u001b[0m\u001b[0m\n",
      "\u001b[0;32m/nas/xd/projects/transformers/src/transformers/models/gpt_neo/modeling_gpt_neo.py\u001b[0m in \u001b[0;36mforward\u001b[0;34m(self, input_ids, past_key_values, attention_mask, token_type_ids, position_ids, head_mask, inputs_embeds, labels, use_cache, output_attentions, output_hidden_states, return_dict)\u001b[0m\n\u001b[1;32m    741\u001b[0m         \u001b[0mreturn_dict\u001b[0m \u001b[0;34m=\u001b[0m \u001b[0mreturn_dict\u001b[0m \u001b[0;32mif\u001b[0m \u001b[0mreturn_dict\u001b[0m \u001b[0;32mis\u001b[0m \u001b[0;32mnot\u001b[0m \u001b[0;32mNone\u001b[0m \u001b[0;32melse\u001b[0m \u001b[0mself\u001b[0m\u001b[0;34m.\u001b[0m\u001b[0mconfig\u001b[0m\u001b[0;34m.\u001b[0m\u001b[0muse_return_dict\u001b[0m\u001b[0;34m\u001b[0m\u001b[0;34m\u001b[0m\u001b[0m\n\u001b[1;32m    742\u001b[0m \u001b[0;34m\u001b[0m\u001b[0m\n\u001b[0;32m--> 743\u001b[0;31m         transformer_outputs = self.transformer(\n\u001b[0m\u001b[1;32m    744\u001b[0m             \u001b[0minput_ids\u001b[0m\u001b[0;34m,\u001b[0m\u001b[0;34m\u001b[0m\u001b[0;34m\u001b[0m\u001b[0m\n\u001b[1;32m    745\u001b[0m             \u001b[0mpast_key_values\u001b[0m\u001b[0;34m=\u001b[0m\u001b[0mpast_key_values\u001b[0m\u001b[0;34m,\u001b[0m\u001b[0;34m\u001b[0m\u001b[0;34m\u001b[0m\u001b[0m\n",
      "\u001b[0;32m/home/kf/miniconda3/envs/pytorch1.7.1/lib/python3.8/site-packages/torch/nn/modules/module.py\u001b[0m in \u001b[0;36m_call_impl\u001b[0;34m(self, *input, **kwargs)\u001b[0m\n\u001b[1;32m    725\u001b[0m             \u001b[0mresult\u001b[0m \u001b[0;34m=\u001b[0m \u001b[0mself\u001b[0m\u001b[0;34m.\u001b[0m\u001b[0m_slow_forward\u001b[0m\u001b[0;34m(\u001b[0m\u001b[0;34m*\u001b[0m\u001b[0minput\u001b[0m\u001b[0;34m,\u001b[0m \u001b[0;34m**\u001b[0m\u001b[0mkwargs\u001b[0m\u001b[0;34m)\u001b[0m\u001b[0;34m\u001b[0m\u001b[0;34m\u001b[0m\u001b[0m\n\u001b[1;32m    726\u001b[0m         \u001b[0;32melse\u001b[0m\u001b[0;34m:\u001b[0m\u001b[0;34m\u001b[0m\u001b[0;34m\u001b[0m\u001b[0m\n\u001b[0;32m--> 727\u001b[0;31m             \u001b[0mresult\u001b[0m \u001b[0;34m=\u001b[0m \u001b[0mself\u001b[0m\u001b[0;34m.\u001b[0m\u001b[0mforward\u001b[0m\u001b[0;34m(\u001b[0m\u001b[0;34m*\u001b[0m\u001b[0minput\u001b[0m\u001b[0;34m,\u001b[0m \u001b[0;34m**\u001b[0m\u001b[0mkwargs\u001b[0m\u001b[0;34m)\u001b[0m\u001b[0;34m\u001b[0m\u001b[0;34m\u001b[0m\u001b[0m\n\u001b[0m\u001b[1;32m    728\u001b[0m         for hook in itertools.chain(\n\u001b[1;32m    729\u001b[0m                 \u001b[0m_global_forward_hooks\u001b[0m\u001b[0;34m.\u001b[0m\u001b[0mvalues\u001b[0m\u001b[0;34m(\u001b[0m\u001b[0;34m)\u001b[0m\u001b[0;34m,\u001b[0m\u001b[0;34m\u001b[0m\u001b[0;34m\u001b[0m\u001b[0m\n",
      "\u001b[0;32m/nas/xd/projects/transformers/src/transformers/models/gpt_neo/modeling_gpt_neo.py\u001b[0m in \u001b[0;36mforward\u001b[0;34m(self, input_ids, past_key_values, attention_mask, token_type_ids, position_ids, head_mask, inputs_embeds, use_cache, output_attentions, output_hidden_states, return_dict)\u001b[0m\n\u001b[1;32m    620\u001b[0m                 )\n\u001b[1;32m    621\u001b[0m             \u001b[0;32melse\u001b[0m\u001b[0;34m:\u001b[0m\u001b[0;34m\u001b[0m\u001b[0;34m\u001b[0m\u001b[0m\n\u001b[0;32m--> 622\u001b[0;31m                 outputs = block(\n\u001b[0m\u001b[1;32m    623\u001b[0m                     \u001b[0mhidden_states\u001b[0m\u001b[0;34m,\u001b[0m\u001b[0;34m\u001b[0m\u001b[0;34m\u001b[0m\u001b[0m\n\u001b[1;32m    624\u001b[0m                     \u001b[0mlayer_past\u001b[0m\u001b[0;34m=\u001b[0m\u001b[0mlayer_past\u001b[0m\u001b[0;34m,\u001b[0m\u001b[0;34m\u001b[0m\u001b[0;34m\u001b[0m\u001b[0m\n",
      "\u001b[0;32m/home/kf/miniconda3/envs/pytorch1.7.1/lib/python3.8/site-packages/torch/nn/modules/module.py\u001b[0m in \u001b[0;36m_call_impl\u001b[0;34m(self, *input, **kwargs)\u001b[0m\n\u001b[1;32m    725\u001b[0m             \u001b[0mresult\u001b[0m \u001b[0;34m=\u001b[0m \u001b[0mself\u001b[0m\u001b[0;34m.\u001b[0m\u001b[0m_slow_forward\u001b[0m\u001b[0;34m(\u001b[0m\u001b[0;34m*\u001b[0m\u001b[0minput\u001b[0m\u001b[0;34m,\u001b[0m \u001b[0;34m**\u001b[0m\u001b[0mkwargs\u001b[0m\u001b[0;34m)\u001b[0m\u001b[0;34m\u001b[0m\u001b[0;34m\u001b[0m\u001b[0m\n\u001b[1;32m    726\u001b[0m         \u001b[0;32melse\u001b[0m\u001b[0;34m:\u001b[0m\u001b[0;34m\u001b[0m\u001b[0;34m\u001b[0m\u001b[0m\n\u001b[0;32m--> 727\u001b[0;31m             \u001b[0mresult\u001b[0m \u001b[0;34m=\u001b[0m \u001b[0mself\u001b[0m\u001b[0;34m.\u001b[0m\u001b[0mforward\u001b[0m\u001b[0;34m(\u001b[0m\u001b[0;34m*\u001b[0m\u001b[0minput\u001b[0m\u001b[0;34m,\u001b[0m \u001b[0;34m**\u001b[0m\u001b[0mkwargs\u001b[0m\u001b[0;34m)\u001b[0m\u001b[0;34m\u001b[0m\u001b[0;34m\u001b[0m\u001b[0m\n\u001b[0m\u001b[1;32m    728\u001b[0m         for hook in itertools.chain(\n\u001b[1;32m    729\u001b[0m                 \u001b[0m_global_forward_hooks\u001b[0m\u001b[0;34m.\u001b[0m\u001b[0mvalues\u001b[0m\u001b[0;34m(\u001b[0m\u001b[0;34m)\u001b[0m\u001b[0;34m,\u001b[0m\u001b[0;34m\u001b[0m\u001b[0;34m\u001b[0m\u001b[0m\n",
      "\u001b[0;32m/nas/xd/projects/transformers/src/transformers/models/gpt_neo/modeling_gpt_neo.py\u001b[0m in \u001b[0;36mforward\u001b[0;34m(self, hidden_states, layer_past, attention_mask, head_mask, use_cache, output_attentions)\u001b[0m\n\u001b[1;32m    325\u001b[0m     ):\n\u001b[1;32m    326\u001b[0m         \u001b[0mresidual\u001b[0m \u001b[0;34m=\u001b[0m \u001b[0mhidden_states\u001b[0m\u001b[0;34m\u001b[0m\u001b[0;34m\u001b[0m\u001b[0m\n\u001b[0;32m--> 327\u001b[0;31m         \u001b[0mhidden_states\u001b[0m \u001b[0;34m=\u001b[0m \u001b[0mself\u001b[0m\u001b[0;34m.\u001b[0m\u001b[0mln_1\u001b[0m\u001b[0;34m(\u001b[0m\u001b[0mhidden_states\u001b[0m\u001b[0;34m)\u001b[0m\u001b[0;34m\u001b[0m\u001b[0;34m\u001b[0m\u001b[0m\n\u001b[0m\u001b[1;32m    328\u001b[0m         attn_outputs = self.attn(\n\u001b[1;32m    329\u001b[0m             \u001b[0mhidden_states\u001b[0m\u001b[0;34m,\u001b[0m\u001b[0;34m\u001b[0m\u001b[0;34m\u001b[0m\u001b[0m\n",
      "\u001b[0;32m/home/kf/miniconda3/envs/pytorch1.7.1/lib/python3.8/site-packages/torch/nn/modules/module.py\u001b[0m in \u001b[0;36m_call_impl\u001b[0;34m(self, *input, **kwargs)\u001b[0m\n\u001b[1;32m    725\u001b[0m             \u001b[0mresult\u001b[0m \u001b[0;34m=\u001b[0m \u001b[0mself\u001b[0m\u001b[0;34m.\u001b[0m\u001b[0m_slow_forward\u001b[0m\u001b[0;34m(\u001b[0m\u001b[0;34m*\u001b[0m\u001b[0minput\u001b[0m\u001b[0;34m,\u001b[0m \u001b[0;34m**\u001b[0m\u001b[0mkwargs\u001b[0m\u001b[0;34m)\u001b[0m\u001b[0;34m\u001b[0m\u001b[0;34m\u001b[0m\u001b[0m\n\u001b[1;32m    726\u001b[0m         \u001b[0;32melse\u001b[0m\u001b[0;34m:\u001b[0m\u001b[0;34m\u001b[0m\u001b[0;34m\u001b[0m\u001b[0m\n\u001b[0;32m--> 727\u001b[0;31m             \u001b[0mresult\u001b[0m \u001b[0;34m=\u001b[0m \u001b[0mself\u001b[0m\u001b[0;34m.\u001b[0m\u001b[0mforward\u001b[0m\u001b[0;34m(\u001b[0m\u001b[0;34m*\u001b[0m\u001b[0minput\u001b[0m\u001b[0;34m,\u001b[0m \u001b[0;34m**\u001b[0m\u001b[0mkwargs\u001b[0m\u001b[0;34m)\u001b[0m\u001b[0;34m\u001b[0m\u001b[0;34m\u001b[0m\u001b[0m\n\u001b[0m\u001b[1;32m    728\u001b[0m         for hook in itertools.chain(\n\u001b[1;32m    729\u001b[0m                 \u001b[0m_global_forward_hooks\u001b[0m\u001b[0;34m.\u001b[0m\u001b[0mvalues\u001b[0m\u001b[0;34m(\u001b[0m\u001b[0;34m)\u001b[0m\u001b[0;34m,\u001b[0m\u001b[0;34m\u001b[0m\u001b[0;34m\u001b[0m\u001b[0m\n",
      "\u001b[0;32m/home/kf/miniconda3/envs/pytorch1.7.1/lib/python3.8/site-packages/torch/nn/modules/normalization.py\u001b[0m in \u001b[0;36mforward\u001b[0;34m(self, input)\u001b[0m\n\u001b[1;32m    167\u001b[0m \u001b[0;34m\u001b[0m\u001b[0m\n\u001b[1;32m    168\u001b[0m     \u001b[0;32mdef\u001b[0m \u001b[0mforward\u001b[0m\u001b[0;34m(\u001b[0m\u001b[0mself\u001b[0m\u001b[0;34m,\u001b[0m \u001b[0minput\u001b[0m\u001b[0;34m:\u001b[0m \u001b[0mTensor\u001b[0m\u001b[0;34m)\u001b[0m \u001b[0;34m->\u001b[0m \u001b[0mTensor\u001b[0m\u001b[0;34m:\u001b[0m\u001b[0;34m\u001b[0m\u001b[0;34m\u001b[0m\u001b[0m\n\u001b[0;32m--> 169\u001b[0;31m         return F.layer_norm(\n\u001b[0m\u001b[1;32m    170\u001b[0m             input, self.normalized_shape, self.weight, self.bias, self.eps)\n\u001b[1;32m    171\u001b[0m \u001b[0;34m\u001b[0m\u001b[0m\n",
      "\u001b[0;32m/home/kf/miniconda3/envs/pytorch1.7.1/lib/python3.8/site-packages/torch/nn/functional.py\u001b[0m in \u001b[0;36mlayer_norm\u001b[0;34m(input, normalized_shape, weight, bias, eps)\u001b[0m\n\u001b[1;32m   2092\u001b[0m             return handle_torch_function(\n\u001b[1;32m   2093\u001b[0m                 layer_norm, (input,), input, normalized_shape, weight=weight, bias=bias, eps=eps)\n\u001b[0;32m-> 2094\u001b[0;31m     return torch.layer_norm(input, normalized_shape, weight, bias, eps,\n\u001b[0m\u001b[1;32m   2095\u001b[0m                             torch.backends.cudnn.enabled)\n\u001b[1;32m   2096\u001b[0m \u001b[0;34m\u001b[0m\u001b[0m\n",
      "\u001b[0;31mKeyboardInterrupt\u001b[0m: "
     ]
    }
   ],
   "source": [
    "trainer.train()#How_many_elements_are_similar_to_the_example 学习率0.001"
   ]
  },
  {
   "attachments": {
    "image.png": {
     "image/png": "[encoded data removed]"
    }
   },
   "cell_type": "markdown",
   "id": "32a593cd",
   "metadata": {},
   "source": [
    "![image.png](attachment:image.png)"
   ]
  },
  {
   "cell_type": "code",
   "execution_count": 126,
   "id": "be65d3ba",
   "metadata": {
    "scrolled": true
   },
   "outputs": [
    {
     "name": "stderr",
     "output_type": "stream",
     "text": [
      "***** Running training *****\n",
      "  Num examples = 120\n",
      "  Num Epochs = 2\n",
      "  Instantaneous batch size per device = 1\n",
      "  Total train batch size (w. parallel, distributed & accumulation) = 4\n",
      "  Gradient Accumulation steps = 4\n",
      "  Total optimization steps = 60\n"
     ]
    },
    {
     "data": {
      "text/html": [
       "\n",
       "    <div>\n",
       "      \n",
       "      <progress value='60' max='60' style='width:300px; height:20px; vertical-align: middle;'></progress>\n",
       "      [60/60 02:19, Epoch 2/2]\n",
       "    </div>\n",
       "    <table border=\"1\" class=\"dataframe\">\n",
       "  <thead>\n",
       " <tr style=\"text-align: left;\">\n",
       "      <th>Step</th>\n",
       "      <th>Training Loss</th>\n",
       "      <th>Validation Loss</th>\n",
       "      <th>Accuracy</th>\n",
       "      <th>Precision</th>\n",
       "    </tr>\n",
       "  </thead>\n",
       "  <tbody>\n",
       "    <tr>\n",
       "      <td>5</td>\n",
       "      <td>No log</td>\n",
       "      <td>0.565851</td>\n",
       "      <td>0.933333</td>\n",
       "      <td>['ĠYes : 0.5505', 'ĠNo : 0.4105', 'ĠNot : 0.0036']</td>\n",
       "    </tr>\n",
       "    <tr>\n",
       "      <td>10</td>\n",
       "      <td>No log</td>\n",
       "      <td>0.427244</td>\n",
       "      <td>0.966667</td>\n",
       "      <td>['ĠYes : 0.551', 'ĠNo : 0.4137', 'ĠNot : 0.0032']</td>\n",
       "    </tr>\n",
       "    <tr>\n",
       "      <td>15</td>\n",
       "      <td>No log</td>\n",
       "      <td>0.246184</td>\n",
       "      <td>1.000000</td>\n",
       "      <td>['ĠNo : 0.6102', 'ĠYes : 0.3537', 'ĠNot : 0.0041']</td>\n",
       "    </tr>\n",
       "    <tr>\n",
       "      <td>20</td>\n",
       "      <td>No log</td>\n",
       "      <td>0.077912</td>\n",
       "      <td>1.000000</td>\n",
       "      <td>['ĠNo : 0.9029', 'ĠYes : 0.0698', 'ĠNO : 0.0059']</td>\n",
       "    </tr>\n",
       "    <tr>\n",
       "      <td>25</td>\n",
       "      <td>No log</td>\n",
       "      <td>0.008714</td>\n",
       "      <td>1.000000</td>\n",
       "      <td>['ĠNo : 0.972', 'ĠYes : 0.026', 'No : 0.0011']</td>\n",
       "    </tr>\n",
       "    <tr>\n",
       "      <td>30</td>\n",
       "      <td>No log</td>\n",
       "      <td>0.001941</td>\n",
       "      <td>1.000000</td>\n",
       "      <td>['ĠNo : 0.9972', 'ĠYes : 0.002', 'No : 0.0006']</td>\n",
       "    </tr>\n",
       "    <tr>\n",
       "      <td>35</td>\n",
       "      <td>0.309400</td>\n",
       "      <td>0.001298</td>\n",
       "      <td>1.000000</td>\n",
       "      <td>['ĠNo : 0.9983', 'ĠYes : 0.0011', 'No : 0.0006']</td>\n",
       "    </tr>\n",
       "    <tr>\n",
       "      <td>40</td>\n",
       "      <td>0.309400</td>\n",
       "      <td>0.000944</td>\n",
       "      <td>1.000000</td>\n",
       "      <td>['ĠNo : 0.9984', 'ĠYes : 0.0012', 'No : 0.0004']</td>\n",
       "    </tr>\n",
       "    <tr>\n",
       "      <td>45</td>\n",
       "      <td>0.309400</td>\n",
       "      <td>0.000580</td>\n",
       "      <td>1.000000</td>\n",
       "      <td>['ĠNo : 0.9986', 'ĠYes : 0.0011', 'No : 0.0003']</td>\n",
       "    </tr>\n",
       "    <tr>\n",
       "      <td>50</td>\n",
       "      <td>0.309400</td>\n",
       "      <td>0.000306</td>\n",
       "      <td>1.000000</td>\n",
       "      <td>['ĠNo : 0.9995', 'ĠYes : 0.0002', 'No : 0.0002']</td>\n",
       "    </tr>\n",
       "    <tr>\n",
       "      <td>55</td>\n",
       "      <td>0.309400</td>\n",
       "      <td>0.000200</td>\n",
       "      <td>1.000000</td>\n",
       "      <td>['ĠNo : 0.9997', 'No : 0.0002', 'ĠYes : 0.0001']</td>\n",
       "    </tr>\n",
       "    <tr>\n",
       "      <td>60</td>\n",
       "      <td>0.309400</td>\n",
       "      <td>0.000149</td>\n",
       "      <td>1.000000</td>\n",
       "      <td>['ĠNo : 0.9998', 'No : 0.0001', 'ĠYes : 0.0']</td>\n",
       "    </tr>\n",
       "  </tbody>\n",
       "</table><p>"
      ],
      "text/plain": [
       "<IPython.core.display.HTML object>"
      ]
     },
     "metadata": {},
     "output_type": "display_data"
    },
    {
     "name": "stderr",
     "output_type": "stream",
     "text": [
      "***** Running Evaluation *****\n",
      "  Num examples = 60\n",
      "  Batch size = 1\n",
      "***** Running Evaluation *****\n",
      "  Num examples = 60\n",
      "  Batch size = 1\n",
      "***** Running Evaluation *****\n",
      "  Num examples = 60\n",
      "  Batch size = 1\n",
      "***** Running Evaluation *****\n",
      "  Num examples = 60\n",
      "  Batch size = 1\n",
      "***** Running Evaluation *****\n",
      "  Num examples = 60\n",
      "  Batch size = 1\n",
      "***** Running Evaluation *****\n",
      "  Num examples = 60\n",
      "  Batch size = 1\n",
      "***** Running Evaluation *****\n",
      "  Num examples = 60\n",
      "  Batch size = 1\n",
      "***** Running Evaluation *****\n",
      "  Num examples = 60\n",
      "  Batch size = 1\n",
      "***** Running Evaluation *****\n",
      "  Num examples = 60\n",
      "  Batch size = 1\n",
      "***** Running Evaluation *****\n",
      "  Num examples = 60\n",
      "  Batch size = 1\n",
      "***** Running Evaluation *****\n",
      "  Num examples = 60\n",
      "  Batch size = 1\n",
      "***** Running Evaluation *****\n",
      "  Num examples = 60\n",
      "  Batch size = 1\n",
      "\n",
      "\n",
      "Training completed. Do not forget to share your model on huggingface.co/models =)\n",
      "\n",
      "\n"
     ]
    },
    {
     "data": {
      "text/plain": [
       "TrainOutput(global_step=60, training_loss=0.15495672843729455, metrics={'train_runtime': 140.4687, 'train_samples_per_second': 1.709, 'train_steps_per_second': 0.427, 'total_flos': 237937060085760.0, 'train_loss': 0.15495672843729455, 'epoch': 2.0})"
      ]
     },
     "execution_count": 126,
     "metadata": {},
     "output_type": "execute_result"
    }
   ],
   "source": [
    "trainer.train()#Is the first set a subset of the second one"
   ]
  },
  {
   "attachments": {
    "image.png": {
     "image/png": "[encoded data removed]"
    }
   },
   "cell_type": "markdown",
   "id": "cf3775bb",
   "metadata": {},
   "source": [
    "![image.png](attachment:image.png)"
   ]
  },
  {
   "cell_type": "code",
   "execution_count": 87,
   "id": "95f96545",
   "metadata": {
    "scrolled": true
   },
   "outputs": [
    {
     "name": "stderr",
     "output_type": "stream",
     "text": [
      "***** Running training *****\n",
      "  Num examples = 120\n",
      "  Num Epochs = 2\n",
      "  Instantaneous batch size per device = 1\n",
      "  Total train batch size (w. parallel, distributed & accumulation) = 4\n",
      "  Gradient Accumulation steps = 4\n",
      "  Total optimization steps = 60\n"
     ]
    },
    {
     "data": {
      "text/html": [
       "\n",
       "    <div>\n",
       "      \n",
       "      <progress value='60' max='60' style='width:300px; height:20px; vertical-align: middle;'></progress>\n",
       "      [60/60 03:01, Epoch 2/2]\n",
       "    </div>\n",
       "    <table border=\"1\" class=\"dataframe\">\n",
       "  <thead>\n",
       " <tr style=\"text-align: left;\">\n",
       "      <th>Step</th>\n",
       "      <th>Training Loss</th>\n",
       "      <th>Validation Loss</th>\n",
       "      <th>Accuracy</th>\n",
       "      <th>Precision</th>\n",
       "    </tr>\n",
       "  </thead>\n",
       "  <tbody>\n",
       "    <tr>\n",
       "      <td>5</td>\n",
       "      <td>No log</td>\n",
       "      <td>0.630359</td>\n",
       "      <td>0.800000</td>\n",
       "      <td>['ĠYes : 0.6843', 'ĠNo : 0.2877', 'Ġyes : 0.0033']</td>\n",
       "    </tr>\n",
       "    <tr>\n",
       "      <td>10</td>\n",
       "      <td>No log</td>\n",
       "      <td>0.454428</td>\n",
       "      <td>0.950000</td>\n",
       "      <td>['ĠYes : 0.6684', 'ĠNo : 0.3023', 'Ġyes : 0.0027']</td>\n",
       "    </tr>\n",
       "    <tr>\n",
       "      <td>15</td>\n",
       "      <td>No log</td>\n",
       "      <td>0.305781</td>\n",
       "      <td>0.983333</td>\n",
       "      <td>['ĠYes : 0.7961', 'ĠNo : 0.18', 'Ġyes : 0.0034']</td>\n",
       "    </tr>\n",
       "    <tr>\n",
       "      <td>20</td>\n",
       "      <td>No log</td>\n",
       "      <td>0.227064</td>\n",
       "      <td>1.000000</td>\n",
       "      <td>['ĠYes : 0.8607', 'ĠNo : 0.1187', 'Ġyes : 0.0024']</td>\n",
       "    </tr>\n",
       "    <tr>\n",
       "      <td>25</td>\n",
       "      <td>No log</td>\n",
       "      <td>0.111653</td>\n",
       "      <td>1.000000</td>\n",
       "      <td>['ĠYes : 0.9648', 'ĠNo : 0.0263', 'Ġyes : 0.0019']</td>\n",
       "    </tr>\n",
       "    <tr>\n",
       "      <td>30</td>\n",
       "      <td>No log</td>\n",
       "      <td>0.041396</td>\n",
       "      <td>1.000000</td>\n",
       "      <td>['ĠYes : 0.9943', 'ĠNo : 0.0018', 'Ġyes : 0.0013']</td>\n",
       "    </tr>\n",
       "    <tr>\n",
       "      <td>35</td>\n",
       "      <td>0.393600</td>\n",
       "      <td>0.014563</td>\n",
       "      <td>1.000000</td>\n",
       "      <td>['ĠYes : 0.998', 'Yes : 0.0007', 'Ġyes : 0.0007']</td>\n",
       "    </tr>\n",
       "    <tr>\n",
       "      <td>40</td>\n",
       "      <td>0.393600</td>\n",
       "      <td>0.006093</td>\n",
       "      <td>1.000000</td>\n",
       "      <td>['ĠYes : 0.9993', 'Yes : 0.0003', 'Ġyes : 0.0002']</td>\n",
       "    </tr>\n",
       "    <tr>\n",
       "      <td>45</td>\n",
       "      <td>0.393600</td>\n",
       "      <td>0.003678</td>\n",
       "      <td>1.000000</td>\n",
       "      <td>['ĠYes : 0.9997', 'Yes : 0.0001', 'Ġyes : 0.0001']</td>\n",
       "    </tr>\n",
       "    <tr>\n",
       "      <td>50</td>\n",
       "      <td>0.393600</td>\n",
       "      <td>0.001994</td>\n",
       "      <td>1.000000</td>\n",
       "      <td>['ĠYes : 0.9999', 'Ġyes : 0.0001', 'Yes : 0.0001']</td>\n",
       "    </tr>\n",
       "    <tr>\n",
       "      <td>55</td>\n",
       "      <td>0.393600</td>\n",
       "      <td>0.001377</td>\n",
       "      <td>1.000000</td>\n",
       "      <td>['ĠYes : 0.9999', 'Ġyes : 0.0', 'Yes : 0.0']</td>\n",
       "    </tr>\n",
       "    <tr>\n",
       "      <td>60</td>\n",
       "      <td>0.393600</td>\n",
       "      <td>0.001041</td>\n",
       "      <td>1.000000</td>\n",
       "      <td>['ĠYes : 0.9999', 'Ġyes : 0.0', 'Yes : 0.0']</td>\n",
       "    </tr>\n",
       "  </tbody>\n",
       "</table><p>"
      ],
      "text/plain": [
       "<IPython.core.display.HTML object>"
      ]
     },
     "metadata": {},
     "output_type": "display_data"
    },
    {
     "name": "stderr",
     "output_type": "stream",
     "text": [
      "***** Running Evaluation *****\n",
      "  Num examples = 60\n",
      "  Batch size = 1\n",
      "***** Running Evaluation *****\n",
      "  Num examples = 60\n",
      "  Batch size = 1\n",
      "***** Running Evaluation *****\n",
      "  Num examples = 60\n",
      "  Batch size = 1\n",
      "***** Running Evaluation *****\n",
      "  Num examples = 60\n",
      "  Batch size = 1\n",
      "***** Running Evaluation *****\n",
      "  Num examples = 60\n",
      "  Batch size = 1\n",
      "***** Running Evaluation *****\n",
      "  Num examples = 60\n",
      "  Batch size = 1\n",
      "***** Running Evaluation *****\n",
      "  Num examples = 60\n",
      "  Batch size = 1\n",
      "***** Running Evaluation *****\n",
      "  Num examples = 60\n",
      "  Batch size = 1\n",
      "***** Running Evaluation *****\n",
      "  Num examples = 60\n",
      "  Batch size = 1\n",
      "***** Running Evaluation *****\n",
      "  Num examples = 60\n",
      "  Batch size = 1\n",
      "***** Running Evaluation *****\n",
      "  Num examples = 60\n",
      "  Batch size = 1\n",
      "***** Running Evaluation *****\n",
      "  Num examples = 60\n",
      "  Batch size = 1\n",
      "\n",
      "\n",
      "Training completed. Do not forget to share your model on huggingface.co/models =)\n",
      "\n",
      "\n"
     ]
    },
    {
     "data": {
      "text/plain": [
       "TrainOutput(global_step=60, training_loss=0.20048423732320467, metrics={'train_runtime': 182.4739, 'train_samples_per_second': 1.315, 'train_steps_per_second': 0.329, 'total_flos': 360682368860160.0, 'train_loss': 0.20048423732320467, 'epoch': 2.0})"
      ]
     },
     "execution_count": 87,
     "metadata": {},
     "output_type": "execute_result"
    }
   ],
   "source": [
    "trainer.train()#Are_they_the_union_of_the_last_element"
   ]
  },
  {
   "attachments": {
    "image.png": {
     "image/png": "[encoded data removed]"
    }
   },
   "cell_type": "markdown",
   "id": "7b854f12",
   "metadata": {},
   "source": [
    "![image.png](attachment:image.png)"
   ]
  },
  {
   "cell_type": "code",
   "execution_count": 701,
   "id": "a45c762e",
   "metadata": {
    "scrolled": true
   },
   "outputs": [
    {
     "name": "stderr",
     "output_type": "stream",
     "text": [
      "***** Running training *****\n",
      "  Num examples = 120\n",
      "  Num Epochs = 2\n",
      "  Instantaneous batch size per device = 1\n",
      "  Total train batch size (w. parallel, distributed & accumulation) = 4\n",
      "  Gradient Accumulation steps = 4\n",
      "  Total optimization steps = 60\n"
     ]
    },
    {
     "data": {
      "text/html": [
       "\n",
       "    <div>\n",
       "      \n",
       "      <progress value='60' max='60' style='width:300px; height:20px; vertical-align: middle;'></progress>\n",
       "      [60/60 02:05, Epoch 2/2]\n",
       "    </div>\n",
       "    <table border=\"1\" class=\"dataframe\">\n",
       "  <thead>\n",
       " <tr style=\"text-align: left;\">\n",
       "      <th>Step</th>\n",
       "      <th>Training Loss</th>\n",
       "      <th>Validation Loss</th>\n",
       "      <th>Accuracy</th>\n",
       "      <th>Precision</th>\n",
       "    </tr>\n",
       "  </thead>\n",
       "  <tbody>\n",
       "    <tr>\n",
       "      <td>5</td>\n",
       "      <td>No log</td>\n",
       "      <td>0.534460</td>\n",
       "      <td>0.800000</td>\n",
       "      <td>['ĠYes : 0.8505', 'ĠNo : 0.1164', 'Ġyes : 0.0118']</td>\n",
       "    </tr>\n",
       "    <tr>\n",
       "      <td>10</td>\n",
       "      <td>No log</td>\n",
       "      <td>0.362796</td>\n",
       "      <td>0.966667</td>\n",
       "      <td>['ĠYes : 0.796', 'ĠNo : 0.164', 'Ġyes : 0.0129']</td>\n",
       "    </tr>\n",
       "    <tr>\n",
       "      <td>15</td>\n",
       "      <td>No log</td>\n",
       "      <td>0.122334</td>\n",
       "      <td>1.000000</td>\n",
       "      <td>['ĠYes : 0.7715', 'ĠNo : 0.1456', 'Ġyes : 0.0164']</td>\n",
       "    </tr>\n",
       "    <tr>\n",
       "      <td>20</td>\n",
       "      <td>No log</td>\n",
       "      <td>0.017721</td>\n",
       "      <td>1.000000</td>\n",
       "      <td>['ĠYes : 0.9533', 'ĠYES : 0.0252', 'ĠCorrect : 0.0054']</td>\n",
       "    </tr>\n",
       "    <tr>\n",
       "      <td>25</td>\n",
       "      <td>No log</td>\n",
       "      <td>0.007206</td>\n",
       "      <td>1.000000</td>\n",
       "      <td>['ĠYes : 0.9908', 'ĠYES : 0.0045', 'Ġyes : 0.0022']</td>\n",
       "    </tr>\n",
       "    <tr>\n",
       "      <td>30</td>\n",
       "      <td>No log</td>\n",
       "      <td>0.004869</td>\n",
       "      <td>1.000000</td>\n",
       "      <td>['ĠYes : 0.9967', 'ĠYES : 0.0012', 'Ġyes : 0.0011']</td>\n",
       "    </tr>\n",
       "    <tr>\n",
       "      <td>35</td>\n",
       "      <td>0.231300</td>\n",
       "      <td>0.002163</td>\n",
       "      <td>1.000000</td>\n",
       "      <td>['ĠYes : 0.9985', 'ĠYES : 0.0008', 'Ġyes : 0.0004']</td>\n",
       "    </tr>\n",
       "    <tr>\n",
       "      <td>40</td>\n",
       "      <td>0.231300</td>\n",
       "      <td>0.000982</td>\n",
       "      <td>1.000000</td>\n",
       "      <td>['ĠYes : 0.9991', 'ĠYES : 0.0006', 'Ġyes : 0.0002']</td>\n",
       "    </tr>\n",
       "    <tr>\n",
       "      <td>45</td>\n",
       "      <td>0.231300</td>\n",
       "      <td>0.000617</td>\n",
       "      <td>1.000000</td>\n",
       "      <td>['ĠYes : 0.9994', 'ĠYES : 0.0004', 'Ġyes : 0.0001']</td>\n",
       "    </tr>\n",
       "    <tr>\n",
       "      <td>50</td>\n",
       "      <td>0.231300</td>\n",
       "      <td>0.000431</td>\n",
       "      <td>1.000000</td>\n",
       "      <td>['ĠYes : 0.9995', 'ĠYES : 0.0003', 'Ġyes : 0.0001']</td>\n",
       "    </tr>\n",
       "    <tr>\n",
       "      <td>55</td>\n",
       "      <td>0.231300</td>\n",
       "      <td>0.000318</td>\n",
       "      <td>1.000000</td>\n",
       "      <td>['ĠYes : 0.9996', 'ĠYES : 0.0003', 'Ġyes : 0.0001']</td>\n",
       "    </tr>\n",
       "    <tr>\n",
       "      <td>60</td>\n",
       "      <td>0.231300</td>\n",
       "      <td>0.000266</td>\n",
       "      <td>1.000000</td>\n",
       "      <td>['ĠYes : 0.9997', 'ĠYES : 0.0002', 'ĠNo : 0.0']</td>\n",
       "    </tr>\n",
       "  </tbody>\n",
       "</table><p>"
      ],
      "text/plain": [
       "<IPython.core.display.HTML object>"
      ]
     },
     "metadata": {},
     "output_type": "display_data"
    },
    {
     "name": "stderr",
     "output_type": "stream",
     "text": [
      "***** Running Evaluation *****\n",
      "  Num examples = 60\n",
      "  Batch size = 1\n",
      "***** Running Evaluation *****\n",
      "  Num examples = 60\n",
      "  Batch size = 1\n",
      "***** Running Evaluation *****\n",
      "  Num examples = 60\n",
      "  Batch size = 1\n",
      "***** Running Evaluation *****\n",
      "  Num examples = 60\n",
      "  Batch size = 1\n",
      "***** Running Evaluation *****\n",
      "  Num examples = 60\n",
      "  Batch size = 1\n",
      "***** Running Evaluation *****\n",
      "  Num examples = 60\n",
      "  Batch size = 1\n",
      "***** Running Evaluation *****\n",
      "  Num examples = 60\n",
      "  Batch size = 1\n",
      "***** Running Evaluation *****\n",
      "  Num examples = 60\n",
      "  Batch size = 1\n",
      "***** Running Evaluation *****\n",
      "  Num examples = 60\n",
      "  Batch size = 1\n",
      "***** Running Evaluation *****\n",
      "  Num examples = 60\n",
      "  Batch size = 1\n",
      "***** Running Evaluation *****\n",
      "  Num examples = 60\n",
      "  Batch size = 1\n",
      "***** Running Evaluation *****\n",
      "  Num examples = 60\n",
      "  Batch size = 1\n",
      "\n",
      "\n",
      "Training completed. Do not forget to share your model on huggingface.co/models =)\n",
      "\n",
      "\n"
     ]
    },
    {
     "data": {
      "text/plain": [
       "TrainOutput(global_step=60, training_loss=0.11609306757648787, metrics={'train_runtime': 126.1428, 'train_samples_per_second': 1.903, 'train_steps_per_second': 0.476, 'total_flos': 160513096089600.0, 'train_loss': 0.11609306757648787, 'epoch': 2.0})"
      ]
     },
     "execution_count": 701,
     "metadata": {},
     "output_type": "execute_result"
    }
   ],
   "source": [
    "trainer.train() #Is_the_number_of_first_elements_greater_than_the_second_one"
   ]
  },
  {
   "attachments": {
    "image.png": {
     "image/png": "[encoded data removed]"
    }
   },
   "cell_type": "markdown",
   "id": "f6e5ebd4",
   "metadata": {},
   "source": [
    "![image.png](attachment:image.png)"
   ]
  },
  {
   "cell_type": "code",
   "execution_count": 583,
   "id": "2f952d4a",
   "metadata": {},
   "outputs": [
    {
     "name": "stderr",
     "output_type": "stream",
     "text": [
      "***** Running training *****\n",
      "  Num examples = 120\n",
      "  Num Epochs = 4\n",
      "  Instantaneous batch size per device = 1\n",
      "  Total train batch size (w. parallel, distributed & accumulation) = 4\n",
      "  Gradient Accumulation steps = 4\n",
      "  Total optimization steps = 120\n"
     ]
    },
    {
     "data": {
      "text/html": [
       "\n",
       "    <div>\n",
       "      \n",
       "      <progress value='120' max='120' style='width:300px; height:20px; vertical-align: middle;'></progress>\n",
       "      [120/120 05:45, Epoch 4/4]\n",
       "    </div>\n",
       "    <table border=\"1\" class=\"dataframe\">\n",
       "  <thead>\n",
       " <tr style=\"text-align: left;\">\n",
       "      <th>Step</th>\n",
       "      <th>Training Loss</th>\n",
       "      <th>Validation Loss</th>\n",
       "      <th>Accuracy</th>\n",
       "      <th>Precision</th>\n",
       "    </tr>\n",
       "  </thead>\n",
       "  <tbody>\n",
       "    <tr>\n",
       "      <td>5</td>\n",
       "      <td>No log</td>\n",
       "      <td>0.657310</td>\n",
       "      <td>0.716667</td>\n",
       "      <td>['ĠYes : 0.5609', 'ĠNo : 0.3697', 'Ġyes : 0.0115']</td>\n",
       "    </tr>\n",
       "    <tr>\n",
       "      <td>10</td>\n",
       "      <td>No log</td>\n",
       "      <td>0.522732</td>\n",
       "      <td>0.816667</td>\n",
       "      <td>['ĠYes : 0.6058', 'ĠNo : 0.3322', 'Ġyes : 0.0115']</td>\n",
       "    </tr>\n",
       "    <tr>\n",
       "      <td>15</td>\n",
       "      <td>No log</td>\n",
       "      <td>0.372633</td>\n",
       "      <td>0.933333</td>\n",
       "      <td>['ĠYes : 0.6927', 'ĠNo : 0.2519', 'Ġyes : 0.0138']</td>\n",
       "    </tr>\n",
       "    <tr>\n",
       "      <td>20</td>\n",
       "      <td>No log</td>\n",
       "      <td>0.162410</td>\n",
       "      <td>1.000000</td>\n",
       "      <td>['ĠYes : 0.7421', 'ĠNo : 0.1301', 'Ġyes : 0.0298']</td>\n",
       "    </tr>\n",
       "    <tr>\n",
       "      <td>25</td>\n",
       "      <td>No log</td>\n",
       "      <td>0.044629</td>\n",
       "      <td>1.000000</td>\n",
       "      <td>['ĠYes : 0.8988', 'ĠCorrect : 0.0194', 'Ġyes : 0.0164']</td>\n",
       "    </tr>\n",
       "    <tr>\n",
       "      <td>30</td>\n",
       "      <td>No log</td>\n",
       "      <td>0.008334</td>\n",
       "      <td>1.000000</td>\n",
       "      <td>['ĠYes : 0.9599', 'YES : 0.0099', 'ĠYES : 0.0075']</td>\n",
       "    </tr>\n",
       "    <tr>\n",
       "      <td>35</td>\n",
       "      <td>0.373800</td>\n",
       "      <td>0.003780</td>\n",
       "      <td>1.000000</td>\n",
       "      <td>['ĠYes : 0.9918', 'YES : 0.0028', 'Ġyes : 0.0021']</td>\n",
       "    </tr>\n",
       "    <tr>\n",
       "      <td>40</td>\n",
       "      <td>0.373800</td>\n",
       "      <td>0.001884</td>\n",
       "      <td>1.000000</td>\n",
       "      <td>['ĠYes : 0.9891', 'ĠYES : 0.0026', 'Ġyes : 0.0022']</td>\n",
       "    </tr>\n",
       "    <tr>\n",
       "      <td>45</td>\n",
       "      <td>0.373800</td>\n",
       "      <td>0.001950</td>\n",
       "      <td>1.000000</td>\n",
       "      <td>['ĠYes : 0.9783', 'ĠYES : 0.0056', 'ĠCorrect : 0.0051']</td>\n",
       "    </tr>\n",
       "    <tr>\n",
       "      <td>50</td>\n",
       "      <td>0.373800</td>\n",
       "      <td>0.001387</td>\n",
       "      <td>1.000000</td>\n",
       "      <td>['ĠYes : 0.9822', 'ĠCorrect : 0.0047', 'ĠYES : 0.0044']</td>\n",
       "    </tr>\n",
       "    <tr>\n",
       "      <td>55</td>\n",
       "      <td>0.373800</td>\n",
       "      <td>0.000872</td>\n",
       "      <td>1.000000</td>\n",
       "      <td>['ĠYes : 0.9899', 'ĠCorrect : 0.0027', 'ĠYES : 0.0023']</td>\n",
       "    </tr>\n",
       "    <tr>\n",
       "      <td>60</td>\n",
       "      <td>0.373800</td>\n",
       "      <td>0.000613</td>\n",
       "      <td>1.000000</td>\n",
       "      <td>['ĠYes : 0.9947', 'ĠCorrect : 0.0013', 'ĠYES : 0.0012']</td>\n",
       "    </tr>\n",
       "    <tr>\n",
       "      <td>65</td>\n",
       "      <td>0.001900</td>\n",
       "      <td>0.000479</td>\n",
       "      <td>1.000000</td>\n",
       "      <td>['ĠYes : 0.9971', 'Ġyes : 0.0007', 'ĠYES : 0.0006']</td>\n",
       "    </tr>\n",
       "    <tr>\n",
       "      <td>70</td>\n",
       "      <td>0.001900</td>\n",
       "      <td>0.000400</td>\n",
       "      <td>1.000000</td>\n",
       "      <td>['ĠYes : 0.9982', 'Ġyes : 0.0005', 'ĠYES : 0.0004']</td>\n",
       "    </tr>\n",
       "    <tr>\n",
       "      <td>75</td>\n",
       "      <td>0.001900</td>\n",
       "      <td>0.000342</td>\n",
       "      <td>1.000000</td>\n",
       "      <td>['ĠYes : 0.9985', 'Ġyes : 0.0004', 'ĠYES : 0.0003']</td>\n",
       "    </tr>\n",
       "    <tr>\n",
       "      <td>80</td>\n",
       "      <td>0.001900</td>\n",
       "      <td>0.000299</td>\n",
       "      <td>1.000000</td>\n",
       "      <td>['ĠYes : 0.9987', 'Ġyes : 0.0004', 'ĠYES : 0.0003']</td>\n",
       "    </tr>\n",
       "    <tr>\n",
       "      <td>85</td>\n",
       "      <td>0.001900</td>\n",
       "      <td>0.000268</td>\n",
       "      <td>1.000000</td>\n",
       "      <td>['ĠYes : 0.9989', 'Ġyes : 0.0003', 'ĠYES : 0.0002']</td>\n",
       "    </tr>\n",
       "    <tr>\n",
       "      <td>90</td>\n",
       "      <td>0.001900</td>\n",
       "      <td>0.000244</td>\n",
       "      <td>1.000000</td>\n",
       "      <td>['ĠYes : 0.9989', 'Ġyes : 0.0003', 'ĠYES : 0.0002']</td>\n",
       "    </tr>\n",
       "    <tr>\n",
       "      <td>95</td>\n",
       "      <td>0.000200</td>\n",
       "      <td>0.000222</td>\n",
       "      <td>1.000000</td>\n",
       "      <td>['ĠYes : 0.999', 'Ġyes : 0.0003', 'ĠYES : 0.0002']</td>\n",
       "    </tr>\n",
       "    <tr>\n",
       "      <td>100</td>\n",
       "      <td>0.000200</td>\n",
       "      <td>0.000205</td>\n",
       "      <td>1.000000</td>\n",
       "      <td>['ĠYes : 0.999', 'Ġyes : 0.0003', 'ĠYES : 0.0002']</td>\n",
       "    </tr>\n",
       "    <tr>\n",
       "      <td>105</td>\n",
       "      <td>0.000200</td>\n",
       "      <td>0.000192</td>\n",
       "      <td>1.000000</td>\n",
       "      <td>['ĠYes : 0.999', 'Ġyes : 0.0003', 'ĠYES : 0.0002']</td>\n",
       "    </tr>\n",
       "    <tr>\n",
       "      <td>110</td>\n",
       "      <td>0.000200</td>\n",
       "      <td>0.000180</td>\n",
       "      <td>1.000000</td>\n",
       "      <td>['ĠYes : 0.9991', 'Ġyes : 0.0002', 'ĠYES : 0.0002']</td>\n",
       "    </tr>\n",
       "    <tr>\n",
       "      <td>115</td>\n",
       "      <td>0.000200</td>\n",
       "      <td>0.000168</td>\n",
       "      <td>1.000000</td>\n",
       "      <td>['ĠYes : 0.9991', 'Ġyes : 0.0002', 'ĠYES : 0.0002']</td>\n",
       "    </tr>\n",
       "    <tr>\n",
       "      <td>120</td>\n",
       "      <td>0.000200</td>\n",
       "      <td>0.000156</td>\n",
       "      <td>1.000000</td>\n",
       "      <td>['ĠYes : 0.9991', 'Ġyes : 0.0002', 'ĠYES : 0.0002']</td>\n",
       "    </tr>\n",
       "  </tbody>\n",
       "</table><p>"
      ],
      "text/plain": [
       "<IPython.core.display.HTML object>"
      ]
     },
     "metadata": {},
     "output_type": "display_data"
    },
    {
     "name": "stderr",
     "output_type": "stream",
     "text": [
      "***** Running Evaluation *****\n",
      "  Num examples = 60\n",
      "  Batch size = 1\n",
      "***** Running Evaluation *****\n",
      "  Num examples = 60\n",
      "  Batch size = 1\n",
      "***** Running Evaluation *****\n",
      "  Num examples = 60\n",
      "  Batch size = 1\n",
      "***** Running Evaluation *****\n",
      "  Num examples = 60\n",
      "  Batch size = 1\n",
      "***** Running Evaluation *****\n",
      "  Num examples = 60\n",
      "  Batch size = 1\n",
      "***** Running Evaluation *****\n",
      "  Num examples = 60\n",
      "  Batch size = 1\n",
      "***** Running Evaluation *****\n",
      "  Num examples = 60\n",
      "  Batch size = 1\n",
      "***** Running Evaluation *****\n",
      "  Num examples = 60\n",
      "  Batch size = 1\n",
      "***** Running Evaluation *****\n",
      "  Num examples = 60\n",
      "  Batch size = 1\n",
      "***** Running Evaluation *****\n",
      "  Num examples = 60\n",
      "  Batch size = 1\n",
      "***** Running Evaluation *****\n",
      "  Num examples = 60\n",
      "  Batch size = 1\n",
      "***** Running Evaluation *****\n",
      "  Num examples = 60\n",
      "  Batch size = 1\n",
      "***** Running Evaluation *****\n",
      "  Num examples = 60\n",
      "  Batch size = 1\n",
      "***** Running Evaluation *****\n",
      "  Num examples = 60\n",
      "  Batch size = 1\n",
      "***** Running Evaluation *****\n",
      "  Num examples = 60\n",
      "  Batch size = 1\n",
      "***** Running Evaluation *****\n",
      "  Num examples = 60\n",
      "  Batch size = 1\n",
      "***** Running Evaluation *****\n",
      "  Num examples = 60\n",
      "  Batch size = 1\n",
      "***** Running Evaluation *****\n",
      "  Num examples = 60\n",
      "  Batch size = 1\n",
      "***** Running Evaluation *****\n",
      "  Num examples = 60\n",
      "  Batch size = 1\n",
      "***** Running Evaluation *****\n",
      "  Num examples = 60\n",
      "  Batch size = 1\n",
      "***** Running Evaluation *****\n",
      "  Num examples = 60\n",
      "  Batch size = 1\n",
      "***** Running Evaluation *****\n",
      "  Num examples = 60\n",
      "  Batch size = 1\n",
      "***** Running Evaluation *****\n",
      "  Num examples = 60\n",
      "  Batch size = 1\n",
      "***** Running Evaluation *****\n",
      "  Num examples = 60\n",
      "  Batch size = 1\n",
      "\n",
      "\n",
      "Training completed. Do not forget to share your model on huggingface.co/models =)\n",
      "\n",
      "\n"
     ]
    },
    {
     "data": {
      "text/plain": [
       "TrainOutput(global_step=120, training_loss=0.09400786680247014, metrics={'train_runtime': 345.9893, 'train_samples_per_second': 1.387, 'train_steps_per_second': 0.347, 'total_flos': 558963252264960.0, 'train_loss': 0.09400786680247014, 'epoch': 4.0})"
      ]
     },
     "execution_count": 583,
     "metadata": {},
     "output_type": "execute_result"
    }
   ],
   "source": [
    "trainer.train() #Are_there_elements_belonging_to_the_same_class"
   ]
  },
  {
   "attachments": {
    "image.png": {
     "image/png": "[encoded data removed]"
    }
   },
   "cell_type": "markdown",
   "id": "f6b1db78",
   "metadata": {},
   "source": [
    "![image.png](attachment:image.png)"
   ]
  },
  {
   "cell_type": "code",
   "execution_count": 558,
   "id": "13f9d454",
   "metadata": {},
   "outputs": [
    {
     "name": "stderr",
     "output_type": "stream",
     "text": [
      "***** Running training *****\n",
      "  Num examples = 120\n",
      "  Num Epochs = 4\n",
      "  Instantaneous batch size per device = 1\n",
      "  Total train batch size (w. parallel, distributed & accumulation) = 4\n",
      "  Gradient Accumulation steps = 4\n",
      "  Total optimization steps = 120\n"
     ]
    },
    {
     "data": {
      "text/html": [
       "\n",
       "    <div>\n",
       "      \n",
       "      <progress value='120' max='120' style='width:300px; height:20px; vertical-align: middle;'></progress>\n",
       "      [120/120 04:44, Epoch 4/4]\n",
       "    </div>\n",
       "    <table border=\"1\" class=\"dataframe\">\n",
       "  <thead>\n",
       " <tr style=\"text-align: left;\">\n",
       "      <th>Step</th>\n",
       "      <th>Training Loss</th>\n",
       "      <th>Validation Loss</th>\n",
       "      <th>Accuracy</th>\n",
       "      <th>Precision</th>\n",
       "    </tr>\n",
       "  </thead>\n",
       "  <tbody>\n",
       "    <tr>\n",
       "      <td>5</td>\n",
       "      <td>No log</td>\n",
       "      <td>0.544517</td>\n",
       "      <td>0.866667</td>\n",
       "      <td>['ĠYes : 0.6329', 'ĠNo : 0.3283', 'Ġyes : 0.0081']</td>\n",
       "    </tr>\n",
       "    <tr>\n",
       "      <td>10</td>\n",
       "      <td>No log</td>\n",
       "      <td>0.374620</td>\n",
       "      <td>0.966667</td>\n",
       "      <td>['ĠYes : 0.4946', 'ĠNo : 0.4608', 'Ġyes : 0.0064']</td>\n",
       "    </tr>\n",
       "    <tr>\n",
       "      <td>15</td>\n",
       "      <td>No log</td>\n",
       "      <td>0.220799</td>\n",
       "      <td>1.000000</td>\n",
       "      <td>['ĠNo : 0.6041', 'ĠYes : 0.3498', 'ĠNot : 0.0074']</td>\n",
       "    </tr>\n",
       "    <tr>\n",
       "      <td>20</td>\n",
       "      <td>No log</td>\n",
       "      <td>0.137133</td>\n",
       "      <td>1.000000</td>\n",
       "      <td>['ĠNo : 0.6921', 'ĠYes : 0.2828', 'ĠNot : 0.005']</td>\n",
       "    </tr>\n",
       "    <tr>\n",
       "      <td>25</td>\n",
       "      <td>No log</td>\n",
       "      <td>0.051933</td>\n",
       "      <td>1.000000</td>\n",
       "      <td>['ĠNo : 0.9036', 'ĠYes : 0.0765', 'ĠNot : 0.0047']</td>\n",
       "    </tr>\n",
       "    <tr>\n",
       "      <td>30</td>\n",
       "      <td>No log</td>\n",
       "      <td>0.027002</td>\n",
       "      <td>1.000000</td>\n",
       "      <td>['ĠNo : 0.9828', 'ĠYes : 0.009', 'ĠNot : 0.0019']</td>\n",
       "    </tr>\n",
       "    <tr>\n",
       "      <td>35</td>\n",
       "      <td>0.297800</td>\n",
       "      <td>0.010745</td>\n",
       "      <td>1.000000</td>\n",
       "      <td>['ĠNo : 0.9959', 'ĠYes : 0.0021', 'ĠNO : 0.0004']</td>\n",
       "    </tr>\n",
       "    <tr>\n",
       "      <td>40</td>\n",
       "      <td>0.297800</td>\n",
       "      <td>0.005314</td>\n",
       "      <td>1.000000</td>\n",
       "      <td>['ĠNo : 0.9985', 'ĠYes : 0.0004', 'No : 0.0003']</td>\n",
       "    </tr>\n",
       "    <tr>\n",
       "      <td>45</td>\n",
       "      <td>0.297800</td>\n",
       "      <td>0.002164</td>\n",
       "      <td>1.000000</td>\n",
       "      <td>['ĠNo : 0.9975', 'ĠYes : 0.002', 'No : 0.0002']</td>\n",
       "    </tr>\n",
       "    <tr>\n",
       "      <td>50</td>\n",
       "      <td>0.297800</td>\n",
       "      <td>0.000907</td>\n",
       "      <td>1.000000</td>\n",
       "      <td>['ĠNo : 0.9994', 'ĠYes : 0.0004', 'No : 0.0002']</td>\n",
       "    </tr>\n",
       "    <tr>\n",
       "      <td>55</td>\n",
       "      <td>0.297800</td>\n",
       "      <td>0.001774</td>\n",
       "      <td>1.000000</td>\n",
       "      <td>['ĠNo : 0.9997', 'No : 0.0002', 'ĠNO : 0.0']</td>\n",
       "    </tr>\n",
       "    <tr>\n",
       "      <td>60</td>\n",
       "      <td>0.297800</td>\n",
       "      <td>0.001985</td>\n",
       "      <td>1.000000</td>\n",
       "      <td>['ĠNo : 0.9996', 'No : 0.0002', 'ĠNO : 0.0001']</td>\n",
       "    </tr>\n",
       "    <tr>\n",
       "      <td>65</td>\n",
       "      <td>0.006100</td>\n",
       "      <td>0.000495</td>\n",
       "      <td>1.000000</td>\n",
       "      <td>['ĠNo : 0.9998', 'No : 0.0001', 'ĠNos : 0.0']</td>\n",
       "    </tr>\n",
       "    <tr>\n",
       "      <td>70</td>\n",
       "      <td>0.006100</td>\n",
       "      <td>0.000337</td>\n",
       "      <td>1.000000</td>\n",
       "      <td>['ĠNo : 0.9999', 'No : 0.0001', 'ĠNos : 0.0']</td>\n",
       "    </tr>\n",
       "    <tr>\n",
       "      <td>75</td>\n",
       "      <td>0.006100</td>\n",
       "      <td>0.000301</td>\n",
       "      <td>0.983333</td>\n",
       "      <td>['ĠNo : 0.9999', 'No : 0.0001', 'ĠNos : 0.0']</td>\n",
       "    </tr>\n",
       "    <tr>\n",
       "      <td>80</td>\n",
       "      <td>0.006100</td>\n",
       "      <td>0.000256</td>\n",
       "      <td>0.983333</td>\n",
       "      <td>['ĠNo : 0.9998', 'ĠNos : 0.0001', 'No : 0.0001']</td>\n",
       "    </tr>\n",
       "    <tr>\n",
       "      <td>85</td>\n",
       "      <td>0.006100</td>\n",
       "      <td>0.000201</td>\n",
       "      <td>0.983333</td>\n",
       "      <td>['ĠNo : 0.9999', 'ĠNos : 0.0001', 'No : 0.0']</td>\n",
       "    </tr>\n",
       "    <tr>\n",
       "      <td>90</td>\n",
       "      <td>0.006100</td>\n",
       "      <td>0.000162</td>\n",
       "      <td>1.000000</td>\n",
       "      <td>['ĠNo : 0.9999', 'No : 0.0', 'ĠNos : 0.0']</td>\n",
       "    </tr>\n",
       "    <tr>\n",
       "      <td>95</td>\n",
       "      <td>0.000400</td>\n",
       "      <td>0.000139</td>\n",
       "      <td>1.000000</td>\n",
       "      <td>['ĠNo : 0.9999', 'No : 0.0', 'ĠNos : 0.0']</td>\n",
       "    </tr>\n",
       "    <tr>\n",
       "      <td>100</td>\n",
       "      <td>0.000400</td>\n",
       "      <td>0.000123</td>\n",
       "      <td>1.000000</td>\n",
       "      <td>['ĠNo : 1.0', 'No : 0.0', 'ĠNos : 0.0']</td>\n",
       "    </tr>\n",
       "    <tr>\n",
       "      <td>105</td>\n",
       "      <td>0.000400</td>\n",
       "      <td>0.000112</td>\n",
       "      <td>1.000000</td>\n",
       "      <td>['ĠNo : 1.0', 'No : 0.0', 'ĠNos : 0.0']</td>\n",
       "    </tr>\n",
       "    <tr>\n",
       "      <td>110</td>\n",
       "      <td>0.000400</td>\n",
       "      <td>0.000103</td>\n",
       "      <td>1.000000</td>\n",
       "      <td>['ĠNo : 1.0', 'No : 0.0', 'ĠNos : 0.0']</td>\n",
       "    </tr>\n",
       "    <tr>\n",
       "      <td>115</td>\n",
       "      <td>0.000400</td>\n",
       "      <td>0.000095</td>\n",
       "      <td>1.000000</td>\n",
       "      <td>['ĠNo : 1.0', 'No : 0.0', 'ĠNos : 0.0']</td>\n",
       "    </tr>\n",
       "    <tr>\n",
       "      <td>120</td>\n",
       "      <td>0.000400</td>\n",
       "      <td>0.000088</td>\n",
       "      <td>1.000000</td>\n",
       "      <td>['ĠNo : 1.0', 'No : 0.0', 'ĠNos : 0.0']</td>\n",
       "    </tr>\n",
       "  </tbody>\n",
       "</table><p>"
      ],
      "text/plain": [
       "<IPython.core.display.HTML object>"
      ]
     },
     "metadata": {},
     "output_type": "display_data"
    },
    {
     "name": "stderr",
     "output_type": "stream",
     "text": [
      "***** Running Evaluation *****\n",
      "  Num examples = 60\n",
      "  Batch size = 1\n",
      "***** Running Evaluation *****\n",
      "  Num examples = 60\n",
      "  Batch size = 1\n",
      "***** Running Evaluation *****\n",
      "  Num examples = 60\n",
      "  Batch size = 1\n",
      "***** Running Evaluation *****\n",
      "  Num examples = 60\n",
      "  Batch size = 1\n",
      "***** Running Evaluation *****\n",
      "  Num examples = 60\n",
      "  Batch size = 1\n",
      "***** Running Evaluation *****\n",
      "  Num examples = 60\n",
      "  Batch size = 1\n",
      "***** Running Evaluation *****\n",
      "  Num examples = 60\n",
      "  Batch size = 1\n",
      "***** Running Evaluation *****\n",
      "  Num examples = 60\n",
      "  Batch size = 1\n",
      "***** Running Evaluation *****\n",
      "  Num examples = 60\n",
      "  Batch size = 1\n",
      "***** Running Evaluation *****\n",
      "  Num examples = 60\n",
      "  Batch size = 1\n",
      "***** Running Evaluation *****\n",
      "  Num examples = 60\n",
      "  Batch size = 1\n",
      "***** Running Evaluation *****\n",
      "  Num examples = 60\n",
      "  Batch size = 1\n",
      "***** Running Evaluation *****\n",
      "  Num examples = 60\n",
      "  Batch size = 1\n",
      "***** Running Evaluation *****\n",
      "  Num examples = 60\n",
      "  Batch size = 1\n",
      "***** Running Evaluation *****\n",
      "  Num examples = 60\n",
      "  Batch size = 1\n",
      "***** Running Evaluation *****\n",
      "  Num examples = 60\n",
      "  Batch size = 1\n",
      "***** Running Evaluation *****\n",
      "  Num examples = 60\n",
      "  Batch size = 1\n",
      "***** Running Evaluation *****\n",
      "  Num examples = 60\n",
      "  Batch size = 1\n",
      "***** Running Evaluation *****\n",
      "  Num examples = 60\n",
      "  Batch size = 1\n",
      "***** Running Evaluation *****\n",
      "  Num examples = 60\n",
      "  Batch size = 1\n",
      "***** Running Evaluation *****\n",
      "  Num examples = 60\n",
      "  Batch size = 1\n",
      "***** Running Evaluation *****\n",
      "  Num examples = 60\n",
      "  Batch size = 1\n",
      "***** Running Evaluation *****\n",
      "  Num examples = 60\n",
      "  Batch size = 1\n",
      "***** Running Evaluation *****\n",
      "  Num examples = 60\n",
      "  Batch size = 1\n",
      "\n",
      "\n",
      "Training completed. Do not forget to share your model on huggingface.co/models =)\n",
      "\n",
      "\n"
     ]
    },
    {
     "data": {
      "text/plain": [
       "TrainOutput(global_step=120, training_loss=0.07609481129911728, metrics={'train_runtime': 285.0569, 'train_samples_per_second': 1.684, 'train_steps_per_second': 0.421, 'total_flos': 460767005245440.0, 'train_loss': 0.07609481129911728, 'epoch': 4.0})"
      ]
     },
     "execution_count": 558,
     "metadata": {},
     "output_type": "execute_result"
    }
   ],
   "source": [
    "trainer.train() # Are there any elements different from other elements"
   ]
  },
  {
   "cell_type": "markdown",
   "id": "05194514",
   "metadata": {},
   "source": [
    "# 到这为止,肖老师"
   ]
  },
  {
   "cell_type": "code",
   "execution_count": null,
   "id": "4cf45755",
   "metadata": {},
   "outputs": [],
   "source": []
  },
  {
   "cell_type": "code",
   "execution_count": null,
   "id": "e92e5961",
   "metadata": {},
   "outputs": [],
   "source": []
  },
  {
   "cell_type": "code",
   "execution_count": null,
   "id": "8ee3d9aa",
   "metadata": {},
   "outputs": [],
   "source": []
  },
  {
   "cell_type": "code",
   "execution_count": null,
   "id": "932a9fc8",
   "metadata": {},
   "outputs": [],
   "source": []
  },
  {
   "cell_type": "code",
   "execution_count": null,
   "id": "44cc331d",
   "metadata": {},
   "outputs": [],
   "source": []
  },
  {
   "cell_type": "code",
   "execution_count": null,
   "id": "f98dc49e",
   "metadata": {},
   "outputs": [],
   "source": []
  },
  {
   "cell_type": "code",
   "execution_count": 369,
   "id": "defcf260",
   "metadata": {},
   "outputs": [
    {
     "name": "stderr",
     "output_type": "stream",
     "text": [
      "***** Running training *****\n",
      "  Num examples = 120\n",
      "  Num Epochs = 4\n",
      "  Instantaneous batch size per device = 1\n",
      "  Total train batch size (w. parallel, distributed & accumulation) = 4\n",
      "  Gradient Accumulation steps = 4\n",
      "  Total optimization steps = 120\n"
     ]
    },
    {
     "data": {
      "text/html": [
       "\n",
       "    <div>\n",
       "      \n",
       "      <progress value='120' max='120' style='width:300px; height:20px; vertical-align: middle;'></progress>\n",
       "      [120/120 04:51, Epoch 4/4]\n",
       "    </div>\n",
       "    <table border=\"1\" class=\"dataframe\">\n",
       "  <thead>\n",
       " <tr style=\"text-align: left;\">\n",
       "      <th>Step</th>\n",
       "      <th>Training Loss</th>\n",
       "      <th>Validation Loss</th>\n",
       "      <th>Accuracy</th>\n",
       "      <th>Precision</th>\n",
       "    </tr>\n",
       "  </thead>\n",
       "  <tbody>\n",
       "    <tr>\n",
       "      <td>5</td>\n",
       "      <td>No log</td>\n",
       "      <td>0.628385</td>\n",
       "      <td>0.766667</td>\n",
       "      <td>['ĠNo : 0.6177', 'ĠYes : 0.3371', 'ĠNot : 0.0044']</td>\n",
       "    </tr>\n",
       "    <tr>\n",
       "      <td>10</td>\n",
       "      <td>No log</td>\n",
       "      <td>0.493046</td>\n",
       "      <td>0.816667</td>\n",
       "      <td>['ĠNo : 0.7238', 'ĠYes : 0.2425', 'ĠNot : 0.0032']</td>\n",
       "    </tr>\n",
       "    <tr>\n",
       "      <td>15</td>\n",
       "      <td>No log</td>\n",
       "      <td>0.325506</td>\n",
       "      <td>1.000000</td>\n",
       "      <td>['ĠNo : 0.8506', 'ĠYes : 0.1233', 'ĠNot : 0.0029']</td>\n",
       "    </tr>\n",
       "    <tr>\n",
       "      <td>20</td>\n",
       "      <td>No log</td>\n",
       "      <td>0.178578</td>\n",
       "      <td>1.000000</td>\n",
       "      <td>['ĠNo : 0.9265', 'ĠYes : 0.058', 'ĠNot : 0.0018']</td>\n",
       "    </tr>\n",
       "    <tr>\n",
       "      <td>25</td>\n",
       "      <td>No log</td>\n",
       "      <td>0.043850</td>\n",
       "      <td>1.000000</td>\n",
       "      <td>['ĠNo : 0.9722', 'ĠYes : 0.0222', 'No : 0.0011']</td>\n",
       "    </tr>\n",
       "    <tr>\n",
       "      <td>30</td>\n",
       "      <td>No log</td>\n",
       "      <td>0.009887</td>\n",
       "      <td>1.000000</td>\n",
       "      <td>['ĠNo : 0.9972', 'ĠYes : 0.0014', 'No : 0.001']</td>\n",
       "    </tr>\n",
       "    <tr>\n",
       "      <td>35</td>\n",
       "      <td>0.356400</td>\n",
       "      <td>0.003472</td>\n",
       "      <td>1.000000</td>\n",
       "      <td>['ĠNo : 0.9985', 'No : 0.001', 'ĠYes : 0.0004']</td>\n",
       "    </tr>\n",
       "    <tr>\n",
       "      <td>40</td>\n",
       "      <td>0.356400</td>\n",
       "      <td>0.001365</td>\n",
       "      <td>1.000000</td>\n",
       "      <td>['ĠNo : 0.9991', 'No : 0.0008', 'ĠYes : 0.0001']</td>\n",
       "    </tr>\n",
       "    <tr>\n",
       "      <td>45</td>\n",
       "      <td>0.356400</td>\n",
       "      <td>0.000747</td>\n",
       "      <td>1.000000</td>\n",
       "      <td>['ĠNo : 0.9995', 'No : 0.0005', 'ĠYes : 0.0']</td>\n",
       "    </tr>\n",
       "    <tr>\n",
       "      <td>50</td>\n",
       "      <td>0.356400</td>\n",
       "      <td>0.000489</td>\n",
       "      <td>1.000000</td>\n",
       "      <td>['ĠNo : 0.9997', 'No : 0.0003', 'ĠYes : 0.0']</td>\n",
       "    </tr>\n",
       "    <tr>\n",
       "      <td>55</td>\n",
       "      <td>0.356400</td>\n",
       "      <td>0.000362</td>\n",
       "      <td>1.000000</td>\n",
       "      <td>['ĠNo : 0.9998', 'No : 0.0002', 'ĠYes : 0.0']</td>\n",
       "    </tr>\n",
       "    <tr>\n",
       "      <td>60</td>\n",
       "      <td>0.356400</td>\n",
       "      <td>0.000265</td>\n",
       "      <td>1.000000</td>\n",
       "      <td>['ĠNo : 0.9998', 'No : 0.0002', 'ĠYes : 0.0']</td>\n",
       "    </tr>\n",
       "    <tr>\n",
       "      <td>65</td>\n",
       "      <td>0.001800</td>\n",
       "      <td>0.000209</td>\n",
       "      <td>1.000000</td>\n",
       "      <td>['ĠNo : 0.9998', 'No : 0.0001', 'ĠYes : 0.0']</td>\n",
       "    </tr>\n",
       "    <tr>\n",
       "      <td>70</td>\n",
       "      <td>0.001800</td>\n",
       "      <td>0.000174</td>\n",
       "      <td>1.000000</td>\n",
       "      <td>['ĠNo : 0.9999', 'No : 0.0001', 'ĠYes : 0.0']</td>\n",
       "    </tr>\n",
       "    <tr>\n",
       "      <td>75</td>\n",
       "      <td>0.001800</td>\n",
       "      <td>0.000148</td>\n",
       "      <td>1.000000</td>\n",
       "      <td>['ĠNo : 0.9999', 'No : 0.0001', 'ĠYes : 0.0']</td>\n",
       "    </tr>\n",
       "    <tr>\n",
       "      <td>80</td>\n",
       "      <td>0.001800</td>\n",
       "      <td>0.000131</td>\n",
       "      <td>1.000000</td>\n",
       "      <td>['ĠNo : 0.9999', 'No : 0.0001', 'ĠYes : 0.0']</td>\n",
       "    </tr>\n",
       "    <tr>\n",
       "      <td>85</td>\n",
       "      <td>0.001800</td>\n",
       "      <td>0.000114</td>\n",
       "      <td>1.000000</td>\n",
       "      <td>['ĠNo : 0.9999', 'No : 0.0001', 'ĠYes : 0.0']</td>\n",
       "    </tr>\n",
       "    <tr>\n",
       "      <td>90</td>\n",
       "      <td>0.001800</td>\n",
       "      <td>0.000103</td>\n",
       "      <td>1.000000</td>\n",
       "      <td>['ĠNo : 0.9999', 'No : 0.0001', 'ĠYes : 0.0']</td>\n",
       "    </tr>\n",
       "    <tr>\n",
       "      <td>95</td>\n",
       "      <td>0.000100</td>\n",
       "      <td>0.000094</td>\n",
       "      <td>1.000000</td>\n",
       "      <td>['ĠNo : 0.9999', 'No : 0.0001', 'ĠYes : 0.0']</td>\n",
       "    </tr>\n",
       "    <tr>\n",
       "      <td>100</td>\n",
       "      <td>0.000100</td>\n",
       "      <td>0.000087</td>\n",
       "      <td>1.000000</td>\n",
       "      <td>['ĠNo : 0.9999', 'No : 0.0001', 'ĠYes : 0.0']</td>\n",
       "    </tr>\n",
       "    <tr>\n",
       "      <td>105</td>\n",
       "      <td>0.000100</td>\n",
       "      <td>0.000081</td>\n",
       "      <td>1.000000</td>\n",
       "      <td>['ĠNo : 0.9999', 'No : 0.0001', 'ĠYes : 0.0']</td>\n",
       "    </tr>\n",
       "    <tr>\n",
       "      <td>110</td>\n",
       "      <td>0.000100</td>\n",
       "      <td>0.000077</td>\n",
       "      <td>1.000000</td>\n",
       "      <td>['ĠNo : 0.9999', 'No : 0.0001', 'ĠYes : 0.0']</td>\n",
       "    </tr>\n",
       "    <tr>\n",
       "      <td>115</td>\n",
       "      <td>0.000100</td>\n",
       "      <td>0.000071</td>\n",
       "      <td>1.000000</td>\n",
       "      <td>['ĠNo : 0.9999', 'No : 0.0001', 'ĠYes : 0.0']</td>\n",
       "    </tr>\n",
       "    <tr>\n",
       "      <td>120</td>\n",
       "      <td>0.000100</td>\n",
       "      <td>0.000066</td>\n",
       "      <td>1.000000</td>\n",
       "      <td>['ĠNo : 0.9999', 'No : 0.0001', 'ĠYes : 0.0']</td>\n",
       "    </tr>\n",
       "  </tbody>\n",
       "</table><p>"
      ],
      "text/plain": [
       "<IPython.core.display.HTML object>"
      ]
     },
     "metadata": {},
     "output_type": "display_data"
    },
    {
     "name": "stderr",
     "output_type": "stream",
     "text": [
      "***** Running Evaluation *****\n",
      "  Num examples = 60\n",
      "  Batch size = 1\n",
      "***** Running Evaluation *****\n",
      "  Num examples = 60\n",
      "  Batch size = 1\n",
      "***** Running Evaluation *****\n",
      "  Num examples = 60\n",
      "  Batch size = 1\n",
      "***** Running Evaluation *****\n",
      "  Num examples = 60\n",
      "  Batch size = 1\n",
      "***** Running Evaluation *****\n",
      "  Num examples = 60\n",
      "  Batch size = 1\n",
      "***** Running Evaluation *****\n",
      "  Num examples = 60\n",
      "  Batch size = 1\n",
      "***** Running Evaluation *****\n",
      "  Num examples = 60\n",
      "  Batch size = 1\n",
      "***** Running Evaluation *****\n",
      "  Num examples = 60\n",
      "  Batch size = 1\n",
      "***** Running Evaluation *****\n",
      "  Num examples = 60\n",
      "  Batch size = 1\n",
      "***** Running Evaluation *****\n",
      "  Num examples = 60\n",
      "  Batch size = 1\n",
      "***** Running Evaluation *****\n",
      "  Num examples = 60\n",
      "  Batch size = 1\n",
      "***** Running Evaluation *****\n",
      "  Num examples = 60\n",
      "  Batch size = 1\n",
      "***** Running Evaluation *****\n",
      "  Num examples = 60\n",
      "  Batch size = 1\n",
      "***** Running Evaluation *****\n",
      "  Num examples = 60\n",
      "  Batch size = 1\n",
      "***** Running Evaluation *****\n",
      "  Num examples = 60\n",
      "  Batch size = 1\n",
      "***** Running Evaluation *****\n",
      "  Num examples = 60\n",
      "  Batch size = 1\n",
      "***** Running Evaluation *****\n",
      "  Num examples = 60\n",
      "  Batch size = 1\n",
      "***** Running Evaluation *****\n",
      "  Num examples = 60\n",
      "  Batch size = 1\n",
      "***** Running Evaluation *****\n",
      "  Num examples = 60\n",
      "  Batch size = 1\n",
      "***** Running Evaluation *****\n",
      "  Num examples = 60\n",
      "  Batch size = 1\n",
      "***** Running Evaluation *****\n",
      "  Num examples = 60\n",
      "  Batch size = 1\n",
      "***** Running Evaluation *****\n",
      "  Num examples = 60\n",
      "  Batch size = 1\n",
      "***** Running Evaluation *****\n",
      "  Num examples = 60\n",
      "  Batch size = 1\n",
      "***** Running Evaluation *****\n",
      "  Num examples = 60\n",
      "  Batch size = 1\n",
      "\n",
      "\n",
      "Training completed. Do not forget to share your model on huggingface.co/models =)\n",
      "\n",
      "\n"
     ]
    },
    {
     "data": {
      "text/plain": [
       "TrainOutput(global_step=120, training_loss=0.08959315906201179, metrics={'train_runtime': 291.8731, 'train_samples_per_second': 1.645, 'train_steps_per_second': 0.411, 'total_flos': 464543783976960.0, 'train_loss': 0.08959315906201179, 'epoch': 4.0})"
      ]
     },
     "execution_count": 369,
     "metadata": {},
     "output_type": "execute_result"
    }
   ],
   "source": [
    "trainer.train()  #Is the intersection of two sets empty"
   ]
  },
  {
   "cell_type": "code",
   "execution_count": null,
   "id": "1924bb8b",
   "metadata": {},
   "outputs": [],
   "source": []
  },
  {
   "cell_type": "code",
   "execution_count": 142,
   "id": "5c8280f9",
   "metadata": {},
   "outputs": [],
   "source": [
    "# for s in sample(input_strss, 2): print(s)"
   ]
  },
  {
   "cell_type": "code",
   "execution_count": 245,
   "id": "c5866a68",
   "metadata": {},
   "outputs": [
    {
     "name": "stderr",
     "output_type": "stream",
     "text": [
      "/nas/xd/projects/transformers/src/transformers/optimization.py:306: FutureWarning: This implementation of AdamW is deprecated and will be removed in a future version. Use the PyTorch implementation torch.optim.AdamW instead, or set `no_deprecation_warning=True` to disable this warning\n",
      "  warnings.warn(\n"
     ]
    }
   ],
   "source": [
    "trainer = Trainer(model, training_args, train_dataset=train_dataset, eval_dataset=eval_data,compute_metrics=compute_metrics,\n",
    "                  optimizers=(create_optimizer(model, training_args), None))"
   ]
  },
  {
   "cell_type": "code",
   "execution_count": 143,
   "id": "576bd99a",
   "metadata": {},
   "outputs": [],
   "source": [
    "# trainer.predict(test_dataset)\n",
    "# print(metic.predictions.shape)\n",
    "# print(metic.label_ids.shape)"
   ]
  },
  {
   "cell_type": "code",
   "execution_count": 62,
   "id": "b36a4448",
   "metadata": {},
   "outputs": [
    {
     "name": "stderr",
     "output_type": "stream",
     "text": [
      "***** Running Evaluation *****\n",
      "  Num examples = 200\n",
      "  Batch size = 1\n"
     ]
    },
    {
     "data": {
      "text/html": [
       "\n",
       "    <div>\n",
       "      \n",
       "      <progress value='400' max='200' style='width:300px; height:20px; vertical-align: middle;'></progress>\n",
       "      [200/200 04:01]\n",
       "    </div>\n",
       "    "
      ],
      "text/plain": [
       "<IPython.core.display.HTML object>"
      ]
     },
     "metadata": {},
     "output_type": "display_data"
    },
    {
     "data": {
      "text/plain": [
       "{'eval_loss': 0.8268557786941528,\n",
       " 'eval_accuracy': 0.465,\n",
       " 'eval_runtime': 46.7481,\n",
       " 'eval_samples_per_second': 4.278,\n",
       " 'eval_steps_per_second': 4.278}"
      ]
     },
     "execution_count": 62,
     "metadata": {},
     "output_type": "execute_result"
    }
   ],
   "source": [
    "trainer.evaluate() #没有训练的"
   ]
  },
  {
   "cell_type": "code",
   "execution_count": 144,
   "id": "b8124295",
   "metadata": {},
   "outputs": [],
   "source": [
    "# trainer.train()"
   ]
  },
  {
   "cell_type": "code",
   "execution_count": 145,
   "id": "ed5f9004",
   "metadata": {},
   "outputs": [],
   "source": [
    "# trainer.evaluate()"
   ]
  },
  {
   "cell_type": "code",
   "execution_count": 146,
   "id": "fa031f6b",
   "metadata": {},
   "outputs": [],
   "source": [
    "# trainer.train()"
   ]
  },
  {
   "cell_type": "code",
   "execution_count": 147,
   "id": "604c7d4a",
   "metadata": {},
   "outputs": [],
   "source": [
    "# trainer.train()"
   ]
  },
  {
   "cell_type": "code",
   "execution_count": 148,
   "id": "a25fdc51",
   "metadata": {
    "scrolled": true
   },
   "outputs": [],
   "source": [
    "# predictions = trainer.predict(eval_dataset)\n",
    "# print(predictions)"
   ]
  },
  {
   "cell_type": "code",
   "execution_count": 149,
   "id": "dfc647b9",
   "metadata": {},
   "outputs": [],
   "source": [
    "# print(predictions.predictions.shape)"
   ]
  },
  {
   "cell_type": "code",
   "execution_count": 117,
   "id": "e236386b",
   "metadata": {},
   "outputs": [
    {
     "name": "stderr",
     "output_type": "stream",
     "text": [
      "***** Running Prediction *****\n",
      "  Num examples = 40\n",
      "  Batch size = 1\n"
     ]
    },
    {
     "name": "stdout",
     "output_type": "stream",
     "text": [
      "(40, 149, 50257) (40, 149)\n"
     ]
    }
   ],
   "source": [
    "predictions = trainer.predict(train_dataset)\n",
    "print(predictions.predictions.shape, predictions.label_ids.shape)"
   ]
  },
  {
   "cell_type": "code",
   "execution_count": 150,
   "id": "567c4433",
   "metadata": {},
   "outputs": [],
   "source": [
    "# preds1 = predictions.label_ids\n",
    "# preds2 = predictions.predictions\n",
    "# print(preds1,preds2)"
   ]
  },
  {
   "cell_type": "code",
   "execution_count": 151,
   "id": "c00d277f",
   "metadata": {},
   "outputs": [],
   "source": [
    "# trainer.train()\n",
    "#"
   ]
  },
  {
   "cell_type": "code",
   "execution_count": 152,
   "id": "7802388e",
   "metadata": {},
   "outputs": [],
   "source": [
    "# trainer.train()"
   ]
  },
  {
   "cell_type": "code",
   "execution_count": 153,
   "id": "8ea5fc8d",
   "metadata": {
    "scrolled": true
   },
   "outputs": [],
   "source": [
    "# trainer.evaluate()"
   ]
  },
  {
   "cell_type": "code",
   "execution_count": 154,
   "id": "f0ea5e10",
   "metadata": {},
   "outputs": [],
   "source": [
    "# trainer.train()"
   ]
  },
  {
   "cell_type": "code",
   "execution_count": 81,
   "id": "b37a9874",
   "metadata": {},
   "outputs": [
    {
     "data": {
      "text/plain": [
       "True"
      ]
     },
     "execution_count": 81,
     "metadata": {},
     "output_type": "execute_result"
    }
   ],
   "source": [
    "trainer.place_model_on_device"
   ]
  },
  {
   "cell_type": "code",
   "execution_count": 82,
   "id": "9b4b3eca",
   "metadata": {},
   "outputs": [],
   "source": [
    "def get_prev(elem):\n",
    "    i, v = elem\n",
    "    return _l[i - 1] if i > 0 else None\n",
    "\n",
    "false = lambda *_: False\n",
    "true  = lambda *_: True"
   ]
  },
  {
   "cell_type": "code",
   "execution_count": 83,
   "id": "721cb66f",
   "metadata": {},
   "outputs": [],
   "source": [
    "Element = namedtuple('Element', 'index value')\n",
    "_l = 'A B C B'.split()\n",
    "n = len(_l)\n",
    "# l = [Element._make(e) for e in enumerate(l)]\n",
    "l = seq(_l)\n",
    "l = l.enumerate().map(Element._make)"
   ]
  },
  {
   "cell_type": "code",
   "execution_count": 85,
   "id": "9f22f664",
   "metadata": {},
   "outputs": [
    {
     "data": {
      "text/html": [
       "<table>\n",
       "<thead>\n",
       "<tr><th style=\"text-align: right;\">  index</th><th>value  </th></tr>\n",
       "</thead>\n",
       "<tbody>\n",
       "<tr><td style=\"text-align: right;\">      0</td><td>A      </td></tr>\n",
       "<tr><td style=\"text-align: right;\">      1</td><td>B      </td></tr>\n",
       "<tr><td style=\"text-align: right;\">      2</td><td>C      </td></tr>\n",
       "<tr><td style=\"text-align: right;\">      3</td><td>B      </td></tr>\n",
       "</tbody>\n",
       "</table>"
      ],
      "text/plain": [
       "[Element(index=0, value='A'), Element(index=1, value='B'), Element(index=2, value='C'), Element(index=3, value='B')]"
      ]
     },
     "execution_count": 85,
     "metadata": {},
     "output_type": "execute_result"
    },
    {
     "data": {
      "text/plain": [
       "['C']"
      ]
     },
     "execution_count": 85,
     "metadata": {},
     "output_type": "execute_result"
    },
    {
     "data": {
      "text/plain": [
       "['b']"
      ]
     },
     "execution_count": 85,
     "metadata": {},
     "output_type": "execute_result"
    },
    {
     "data": {
      "text/plain": [
       "[2]"
      ]
     },
     "execution_count": 85,
     "metadata": {},
     "output_type": "execute_result"
    },
    {
     "data": {
      "text/plain": [
       "['C', 'A', 'B', 'B']"
      ]
     },
     "execution_count": 85,
     "metadata": {},
     "output_type": "execute_result"
    },
    {
     "data": {
      "text/plain": [
       "['B', 'B', 'C', 'A']"
      ]
     },
     "execution_count": 85,
     "metadata": {},
     "output_type": "execute_result"
    },
    {
     "data": {
      "text/html": [
       "<table>\n",
       "<thead>\n",
       "<tr><th style=\"text-align: right;\">  index</th><th>value  </th></tr>\n",
       "</thead>\n",
       "<tbody>\n",
       "<tr><td style=\"text-align: right;\">      0</td><td>A      </td></tr>\n",
       "<tr><td style=\"text-align: right;\">      1</td><td>A      </td></tr>\n",
       "<tr><td style=\"text-align: right;\">      2</td><td>C      </td></tr>\n",
       "<tr><td style=\"text-align: right;\">      3</td><td>B      </td></tr>\n",
       "</tbody>\n",
       "</table>"
      ],
      "text/plain": [
       "[Element(index=0, value='A'), Element(index=1, value='A'), Element(index=2, value='C'), Element(index=3, value='B')]"
      ]
     },
     "execution_count": 85,
     "metadata": {},
     "output_type": "execute_result"
    },
    {
     "data": {
      "text/plain": [
       "False"
      ]
     },
     "execution_count": 85,
     "metadata": {},
     "output_type": "execute_result"
    },
    {
     "data": {
      "text/plain": [
       "['A', 'B', 'B', 'C', 'C']"
      ]
     },
     "execution_count": 85,
     "metadata": {},
     "output_type": "execute_result"
    },
    {
     "data": {
      "text/plain": [
       "[1, 1, 2, 1, 2, 3]"
      ]
     },
     "execution_count": 85,
     "metadata": {},
     "output_type": "execute_result"
    },
    {
     "data": {
      "text/plain": [
       "['B']"
      ]
     },
     "execution_count": 85,
     "metadata": {},
     "output_type": "execute_result"
    },
    {
     "data": {
      "text/plain": [
       "['B']"
      ]
     },
     "execution_count": 85,
     "metadata": {},
     "output_type": "execute_result"
    }
   ],
   "source": [
    "l.map(lambda x: {'B': 'D'}.get(x, x))\n",
    "\n",
    "l.filter(lambda x: get_prev(x) == 'B').select(_.value)\n",
    "\n",
    "find_fn = _.index == 1\n",
    "l.filter(find_fn).select(_.value).map(lower)\n",
    "\n",
    "find_fn = _.value == 'C'\n",
    "l.filter(find_fn).select(_.index)\n",
    "\n",
    "# move x to first\n",
    "update_filter = _.value == 'C'\n",
    "get_new = lambda x: -1\n",
    "l.map(lambda x: Element(update_fn(x, 'index'), x.value)).order_by(_.index).select(_.value)\n",
    "\n",
    "# swap first and last\n",
    "update_filter = true\n",
    "get_new = lambda x: {0: n - 1, n - 1: 0}.get(x.index, x.index)\n",
    "l.map(lambda x: Element(update_fn(x, 'index'), x.value)).order_by(_.index).select(_.value)\n",
    "\n",
    "# get inbetween == drop_while + take_while?\n",
    "\n",
    "# update by index to its prev\n",
    "update_filter = _.index == 1\n",
    "get_new = lambda x: get_prev(x)\n",
    "def update_fn(x, update_field): return get_new(x) if update_filter(x) else getattr(x, update_field)\n",
    "l.map(lambda x: Element(x.index, update_fn(x, 'value')))\n",
    "\n",
    "# if two adjacent elements by indices are equal\n",
    "l.filter(lambda x: x.index in [0, 1]).select(_.value).distinct().len() == 1\n",
    "\n",
    "seq('A B C B C'.split()).group_by(_).select(_[1]).flatten()\n",
    "\n",
    "# count occurance till current\n",
    "seq('A B A C B A'.split()).inits().reverse().tail().map(lambda x: x.filter(_ == x.last()).len())\n",
    "\n",
    "# find special\n",
    "seq('A B A A'.split()).count_by_value().filter(_[1] == 1).select(_[0])\n",
    "\n",
    "# generalized find special\n",
    "seq('A A B C C D D'.split()).group_by(_).map(lambda x: (x[0], len(x[1]))).filter(_[1] == 1).select(_[0])"
   ]
  },
  {
   "cell_type": "code",
   "execution_count": null,
   "id": "49b3e124",
   "metadata": {},
   "outputs": [],
   "source": []
  }
 ],
 "metadata": {
  "kernelspec": {
   "display_name": "Python 3",
   "language": "python",
   "name": "python3"
  },
  "language_info": {
   "codemirror_mode": {
    "name": "ipython",
    "version": 3
   },
   "file_extension": ".py",
   "mimetype": "text/x-python",
   "name": "python",
   "nbconvert_exporter": "python",
   "pygments_lexer": "ipython3",
   "version": "3.8.12"
  }
 },
 "nbformat": 4,
 "nbformat_minor": 5
}
