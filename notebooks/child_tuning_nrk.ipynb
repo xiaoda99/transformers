{
 "cells": [
  {
   "cell_type": "code",
   "execution_count": 4,
   "id": "f6ea7a72",
   "metadata": {
    "collapsed": true
   },
   "outputs": [
    {
     "name": "stdout",
     "output_type": "stream",
     "text": [
      "\u001b[33mWARNING: Ignoring invalid distribution -yfunctional (/home/kf/miniconda3/envs/pytorch1.7.1/lib/python3.8/site-packages)\u001b[0m\u001b[33m\n",
      "\u001b[0m\u001b[33mWARNING: Ignoring invalid distribution -yfunctional (/home/kf/miniconda3/envs/pytorch1.7.1/lib/python3.8/site-packages)\u001b[0m\u001b[33m\n",
      "\u001b[0mRequirement already satisfied: transformers in /home/kf/miniconda3/envs/pytorch1.7.1/lib/python3.8/site-packages (4.17.0)\n",
      "Requirement already satisfied: sacremoses in /home/kf/miniconda3/envs/pytorch1.7.1/lib/python3.8/site-packages (from transformers) (0.0.45)\n",
      "Requirement already satisfied: filelock in /home/kf/miniconda3/envs/pytorch1.7.1/lib/python3.8/site-packages (from transformers) (3.0.12)\n",
      "Requirement already satisfied: regex!=2019.12.17 in /home/kf/miniconda3/envs/pytorch1.7.1/lib/python3.8/site-packages (from transformers) (2021.10.8)\n",
      "Requirement already satisfied: huggingface-hub<1.0,>=0.1.0 in /home/kf/miniconda3/envs/pytorch1.7.1/lib/python3.8/site-packages (from transformers) (0.4.0)\n",
      "Requirement already satisfied: tqdm>=4.27 in /home/xd/.local/lib/python3.8/site-packages (from transformers) (4.60.0)\n",
      "Requirement already satisfied: tokenizers!=0.11.3,>=0.11.1 in /home/kf/miniconda3/envs/pytorch1.7.1/lib/python3.8/site-packages (from transformers) (0.11.6)\n",
      "Requirement already satisfied: packaging>=20.0 in /home/xd/.local/lib/python3.8/site-packages (from transformers) (20.9)\n",
      "Requirement already satisfied: pyyaml>=5.1 in /home/kf/miniconda3/envs/pytorch1.7.1/lib/python3.8/site-packages/PyYAML-6.0-py3.8-linux-x86_64.egg (from transformers) (6.0)\n",
      "Requirement already satisfied: numpy>=1.17 in /home/kf/miniconda3/envs/pytorch1.7.1/lib/python3.8/site-packages (from transformers) (1.21.2)\n",
      "Requirement already satisfied: requests in /home/kf/miniconda3/envs/pytorch1.7.1/lib/python3.8/site-packages (from transformers) (2.25.1)\n",
      "Requirement already satisfied: typing-extensions>=3.7.4.3 in /home/kf/miniconda3/envs/pytorch1.7.1/lib/python3.8/site-packages (from huggingface-hub<1.0,>=0.1.0->transformers) (4.1.1)\n",
      "Requirement already satisfied: pyparsing>=2.0.2 in /home/xd/.local/lib/python3.8/site-packages (from packaging>=20.0->transformers) (2.4.7)\n",
      "Requirement already satisfied: urllib3<1.27,>=1.21.1 in /home/kf/miniconda3/envs/pytorch1.7.1/lib/python3.8/site-packages (from requests->transformers) (1.26.4)\n",
      "Requirement already satisfied: chardet<5,>=3.0.2 in /home/kf/miniconda3/envs/pytorch1.7.1/lib/python3.8/site-packages (from requests->transformers) (4.0.0)\n",
      "Requirement already satisfied: idna<3,>=2.5 in /home/kf/miniconda3/envs/pytorch1.7.1/lib/python3.8/site-packages (from requests->transformers) (2.10)\n",
      "Requirement already satisfied: certifi>=2017.4.17 in /home/kf/miniconda3/envs/pytorch1.7.1/lib/python3.8/site-packages (from requests->transformers) (2021.10.8)\n",
      "Requirement already satisfied: six in /home/kf/miniconda3/envs/pytorch1.7.1/lib/python3.8/site-packages (from sacremoses->transformers) (1.16.0)\n",
      "Requirement already satisfied: joblib in /home/kf/miniconda3/envs/pytorch1.7.1/lib/python3.8/site-packages (from sacremoses->transformers) (1.0.1)\n",
      "Requirement already satisfied: click in /home/kf/miniconda3/envs/pytorch1.7.1/lib/python3.8/site-packages (from sacremoses->transformers) (7.1.2)\n",
      "\u001b[33mWARNING: Ignoring invalid distribution -yfunctional (/home/kf/miniconda3/envs/pytorch1.7.1/lib/python3.8/site-packages)\u001b[0m\u001b[33m\n",
      "\u001b[0m\u001b[33mWARNING: Ignoring invalid distribution -yfunctional (/home/kf/miniconda3/envs/pytorch1.7.1/lib/python3.8/site-packages)\u001b[0m\u001b[33m\n",
      "\u001b[0m\u001b[33mWARNING: Ignoring invalid distribution -yfunctional (/home/kf/miniconda3/envs/pytorch1.7.1/lib/python3.8/site-packages)\u001b[0m\u001b[33m\n",
      "\u001b[0mNote: you may need to restart the kernel to use updated packages.\n"
     ]
    }
   ],
   "source": [
    "pip install --upgrade transformers"
   ]
  },
  {
   "cell_type": "code",
   "execution_count": 335,
   "id": "0faf2697",
   "metadata": {},
   "outputs": [
    {
     "data": {
      "text/plain": [
       "'3.8.12 | packaged by conda-forge | (default, Jan 30 2022, 23:53:36) \\n[GCC 9.4.0]'"
      ]
     },
     "execution_count": 335,
     "metadata": {},
     "output_type": "execute_result"
    }
   ],
   "source": [
    "sys.version"
   ]
  },
  {
   "cell_type": "code",
   "execution_count": 8,
   "id": "0e11bc1d",
   "metadata": {
    "collapsed": true
   },
   "outputs": [
    {
     "name": "stdout",
     "output_type": "stream",
     "text": [
      "\u001b[33mWARNING: Ignoring invalid distribution -yfunctional (/home/kf/miniconda3/envs/pytorch1.7.1/lib/python3.8/site-packages)\u001b[0m\u001b[33m\n",
      "\u001b[0m\u001b[33mWARNING: Ignoring invalid distribution -yfunctional (/home/kf/miniconda3/envs/pytorch1.7.1/lib/python3.8/site-packages)\u001b[0m\u001b[33m\n",
      "\u001b[0mCollecting pyfunctional\n",
      "  Using cached PyFunctional-1.4.3-py3-none-any.whl (49 kB)\n",
      "Requirement already satisfied: dill>=0.2.5 in /home/kf/miniconda3/envs/pytorch1.7.1/lib/python3.8/site-packages (from pyfunctional) (0.3.4)\n",
      "Requirement already satisfied: tabulate<=1.0.0 in /home/kf/miniconda3/envs/pytorch1.7.1/lib/python3.8/site-packages (from pyfunctional) (0.8.9)\n",
      "\u001b[33mWARNING: Ignoring invalid distribution -yfunctional (/home/kf/miniconda3/envs/pytorch1.7.1/lib/python3.8/site-packages)\u001b[0m\u001b[33m\n",
      "\u001b[0mInstalling collected packages: pyfunctional\n",
      "\u001b[33mWARNING: Ignoring invalid distribution -yfunctional (/home/kf/miniconda3/envs/pytorch1.7.1/lib/python3.8/site-packages)\u001b[0m\u001b[33m\n",
      "\u001b[0mSuccessfully installed pyfunctional-1.4.3\n",
      "\u001b[33mWARNING: Ignoring invalid distribution -yfunctional (/home/kf/miniconda3/envs/pytorch1.7.1/lib/python3.8/site-packages)\u001b[0m\u001b[33m\n",
      "\u001b[0m\u001b[33mWARNING: Ignoring invalid distribution -yfunctional (/home/kf/miniconda3/envs/pytorch1.7.1/lib/python3.8/site-packages)\u001b[0m\u001b[33m\n",
      "\u001b[0mNote: you may need to restart the kernel to use updated packages.\n"
     ]
    }
   ],
   "source": [
    "pip install --upgrade pyfunctional"
   ]
  },
  {
   "cell_type": "code",
   "execution_count": 308,
   "id": "367b7b1e",
   "metadata": {},
   "outputs": [],
   "source": [
    "%%capture\n",
    "%run \"context_learning_nrk.ipynb\""
   ]
  },
  {
   "cell_type": "code",
   "execution_count": 309,
   "id": "9398a888",
   "metadata": {},
   "outputs": [
    {
     "name": "stdout",
     "output_type": "stream",
     "text": [
      "Instruction: Is this sentence correct. For example:\n",
      "A should be easier to melt than B because B is hotter. Is that right? -> No\n",
      "\n"
     ]
    }
   ],
   "source": [
    "text1 = text\n",
    "print(text1[0])"
   ]
  },
  {
   "cell_type": "code",
   "execution_count": 1,
   "id": "7292808a",
   "metadata": {},
   "outputs": [],
   "source": [
    "from IPython import get_ipython\n",
    "%load_ext autoreload\n",
    "%autoreload 2\n",
    "\n",
    "from IPython.core.interactiveshell import InteractiveShell\n",
    "InteractiveShell.ast_node_interactivity = 'all'"
   ]
  },
  {
   "cell_type": "code",
   "execution_count": 13,
   "id": "54a886cb",
   "metadata": {},
   "outputs": [],
   "source": [
    "import sys\n",
    "import os\n",
    "\n",
    "os.environ['HF_HOME'] = '/raid/xd/.cache/torch'\n",
    "os.environ[\"CUDA_DEVICE_ORDER\"]=\"PCI_BUS_ID\"\n",
    "os.environ[\"CUDA_VISIBLE_DEVICES\"]=\"7\"\n",
    "import random\n",
    "from sklearn.metrics import accuracy_score, precision_recall_fscore_support\n",
    "from types import MethodType\n",
    "from tqdm import tqdm\n",
    "from collections import defaultdict, OrderedDict, Counter\n",
    "from datetime import datetime\n",
    "from io import StringIO\n",
    "from itertools import chain\n",
    "import math\n",
    "from functools import reduce\n",
    "import numpy as np \n",
    "# np.set_printoptions(threshold=np.inf)\n",
    "%matplotlib inline\n",
    "import matplotlib.pyplot as plt\n",
    "import seaborn as sns\n",
    "\n",
    "import torch\n",
    "import torch.nn as nn\n",
    "import torch.nn.functional as F \n",
    "from torch.utils.data.sampler import RandomSampler, Sampler, SequentialSampler\n",
    "from torch.utils.data.dataloader import DataLoader\n",
    "\n",
    "from transformers.data.data_collator import DataCollator, default_data_collator\n",
    "from transformers import AutoConfig, pipeline\n",
    "from transformers import RobertaForMaskedLM, RobertaTokenizer, GPT2LMHeadModel, GPT2Tokenizer, GPTNeoForCausalLM, AutoModelForCausalLM\n",
    "from transformers import T5Tokenizer, T5ForConditionalGeneration\n",
    "from transformers import HfArgumentParser, Trainer, TrainingArguments, set_seed, AdamW\n",
    "# from torch.optim.lr_scheduler import CosineAnnealingLR\n",
    "# from transformers.trainer_utils import EvaluationStrategy\n"
   ]
  },
  {
   "cell_type": "code",
   "execution_count": 6,
   "id": "7f54c226",
   "metadata": {},
   "outputs": [],
   "source": [
    "from transformers import GPT2LMHeadModel, GPT2Tokenizer, GPTNeoForCausalLM, GPTJForCausalLM"
   ]
  },
  {
   "cell_type": "code",
   "execution_count": 7,
   "id": "dd287822",
   "metadata": {},
   "outputs": [],
   "source": [
    "sys.path.insert(0, '/nas/xd/projects/PyFunctional')\n",
    "from functional import seq\n",
    "from functional.pipeline import Sequence\n",
    "from fn import _\n",
    "from collections import namedtuple \n",
    "import sys\n",
    "# sys.path.insert(0, '/nas/xd/projects/transformers/src/transformers')\n",
    "import os\n",
    "# device_mappings = {0: 1, 1: 5, 2: 6, 3: 7, 4: 2, 5: 3, 6: 0, 1: 4}\n",
    "# os.environ[\"CUDA_VISIBLE_DEVICES\"] = str(device_mappings[2])\n",
    "\n",
    "import random\n",
    "import string\n",
    "from collections import defaultdict, OrderedDict\n",
    "from itertools import product, chain\n",
    "import math\n",
    "import numpy as np\n",
    "from pattern.en import comparative\n",
    "import types"
   ]
  },
  {
   "cell_type": "code",
   "execution_count": 348,
   "id": "a2a577ee",
   "metadata": {},
   "outputs": [],
   "source": [
    "sys.path.insert(0, '/nas/xd/projects/PyFunctional')\n",
    "from functional import seq\n",
    "from functional.pipeline import Sequence\n",
    "from fn import _\n",
    "from collections import namedtuple \n",
    "import sys\n",
    "# sys.path.insert(0, '/nas/xd/projects/transformers/src/transformers')\n",
    "import os"
   ]
  },
  {
   "cell_type": "code",
   "execution_count": 347,
   "id": "7d5907ae",
   "metadata": {},
   "outputs": [],
   "source": [
    "import torch\n",
    "from torch import nn\n",
    "import torch.nn.functional as F\n",
    "from torch.nn import CrossEntropyLoss, MSELoss\n",
    "import openai\n",
    "openai.api_key = open('/nas/xd/projects/openai_api_keys.txt').readlines()[-1].split()[0]"
   ]
  },
  {
   "cell_type": "code",
   "execution_count": 338,
   "id": "86a17aee",
   "metadata": {},
   "outputs": [
    {
     "name": "stdout",
     "output_type": "stream",
     "text": [
      "Instruction: Do all students choose courses in a department. For example:\n",
      "D: Chinese, U: Art, A: Art, U: Chinese, D: Art; Art: Chi, Chinese: Eng, Physics: Eng. A and U,Chi? -> Yes\n",
      "\n",
      "Instruction: Do all students choose courses in a department. For example:\n",
      "C: Sql, H: Physics, H: Sql, H: Chemistry, K: Sql; Sql: Chi, Physics: Chi, Chemistry: Eng. H and C,Eng? -> No\n",
      "\n"
     ]
    }
   ],
   "source": [
    "n_total, n_valid =2,1\n",
    "n_train = n_total - n_valid\n",
    "# input_strs = [make_input_str(tasks[-7], nrows=1, ncols=(3,4,5)) for __ in range(n_total)]# Is the intersection of two sets empty.\n",
    "# input_strs = [make_input_str(tasks[-3], nrows=1, ncols=(4,4,3)) for __ in range(n_total)]# Are there any elements different from other elements\n",
    "# input_strs = [make_input_str(tasks[-4], nrows=1, ncols=(3,4,2,4)) for __ in range(n_total)]# Are_there_elements_belonging_to_the_same_class\n",
    "# input_strs = [make_input_str(tasks[-1], nrows=1, ncols=(5,2)) for __ in range(n_total)]#Is_the_number_of_first_elements_greater_than_the_second_one\n",
    "# input_strs = [make_input_str(tasks[-2], nrows=1, ncols=(3,1), ans_vocab=[0,1,2,3]) for __ in range(n_total)] #How_many_elements_are_similar_to_the_example\n",
    "# input_strs = [make_input_str(tasks[-5], nrows=1, ncols=(3,4,2,4)) for __ in range(n_total)] #Are_they_the_union_of_the_last_element\n",
    "# input_strs = [make_input_str(tasks[-6], nrows=1, ncols=(3,11,5)) for __ in range(n_total)]#Is the first set a subset of the second one\n",
    "input_strs = [make_input_str(tasks[-10], nrows=1, ncols=(3, 3, 2, 5)) for __ in range(n_total)]\n",
    "# input_strs = [make_input_str(tasks[-9], nrows=1, ncols=(4,2)) for __ in range(n_total)] #Compare the values of two sets.\n",
    "# input_strs = [make_input_str(tasks[-8], nrows=1, ncols=(4, 4, 4)) for __ in range(n_total)] #Relationship between two sets.\n",
    "\n",
    "for s in sample(input_strs, 2): print(s)"
   ]
  },
  {
   "cell_type": "code",
   "execution_count": 339,
   "id": "21465a1e",
   "metadata": {},
   "outputs": [],
   "source": [
    "def get_model_fn(engine):  # XD\n",
    "    def fn(text):\n",
    "        return openai.Completion.create(engine=engine, prompt=text, max_tokens=1, echo=True, logprobs=5).choices[0]\n",
    "    return fn\n",
    "\n",
    "engines = ['davinci', 'curie']\n",
    "for engine in engines:\n",
    "    model_name = 'openai_api_' + engine\n",
    "#     model = lambda x: openai.Completion.create(engine=engine, prompt=x, max_tokens=0, echo=True, logprobs=5).choices[0]\n",
    "    model = get_model_fn(engine)\n",
    "    models[model_name] = model, tokenizer\n",
    "    \n",
    "# model_name = 'openai_api_davinci'\n",
    "model_name = 'openai_api_curie'\n",
    "model, tokenizer = models[model_name]"
   ]
  },
  {
   "cell_type": "code",
   "execution_count": 317,
   "id": "bf3af01a",
   "metadata": {},
   "outputs": [
    {
     "data": {
      "text/plain": [
       "dict_keys(['EleutherAI/gpt-j-6B'])"
      ]
     },
     "execution_count": 317,
     "metadata": {},
     "output_type": "execute_result"
    }
   ],
   "source": [
    "models.keys()"
   ]
  },
  {
   "cell_type": "code",
   "execution_count": 341,
   "id": "693f563f",
   "metadata": {},
   "outputs": [],
   "source": [
    "def get_prob_dist(d, topk=5): return {k: round(math.exp(v), 3) for k, v in sorted(d.items(), key=lambda x: x[1], reverse=True)[:topk]}"
   ]
  },
  {
   "cell_type": "code",
   "execution_count": 342,
   "id": "77d1817b",
   "metadata": {},
   "outputs": [],
   "source": [
    "def get_ans_indices0(input_ids):\n",
    "    bos_id = tokenizer._convert_token_to_id('Ġ->')\n",
    "    eos_id = tokenizer._convert_token_to_id('Ċ')\n",
    "    bos_indices = (input_ids == bos_id).nonzero().squeeze(1).tolist()\n",
    "    eos_indices = (input_ids == eos_id).nonzero()[-len(bos_indices):].squeeze(1).tolist()\n",
    "    return bos_indices, eos_indices\n",
    "\n",
    "# def get_ans_indices1(input_ids):\n",
    "#     bos_id = tokenizer._convert_token_to_id('?')\n",
    "# #     print(\"bos_id\",bos_id)\n",
    "#     eos_id = tokenizer._convert_token_to_id('Ċ')\n",
    "#     period_ids = [tokenizer._convert_token_to_id('.'), tokenizer._convert_token_to_id('Ġ.')]\n",
    "# #     print(\"period_ids:\",period_ids)\n",
    "# #     l_bracket_id, r_bracket_id = tokenizer._convert_token_to_id('Ġ['), tokenizer._convert_token_to_id('Ġ]')\n",
    "# #     print(\"l_bracket_id\",l_bracket_id)\n",
    "# #     print(\"r_bracket_id:\",r_bracket_id)\n",
    "#     eos_indices = (input_ids == eos_id).nonzero().squeeze(1).tolist() #.nonezero()取非零元素坐标\n",
    "# #     print(\"eos_indices0:\",eos_indices)\n",
    "#     eos_indices = [i - 1 if input_ids[i - 1] in period_ids else i for i in eos_indices]\n",
    "# #     print(\"eos_indices1:\",eos_indices)\n",
    "# #     eos_indices = [i - 1 if input_ids[i - 1] == r_bracket_id else i for i in eos_indices]\n",
    "# #     print(\"eos_indices2:\",eos_indices)\n",
    "    \n",
    "#     def find_bos_index(start_i):\n",
    "#         for bos_i in range(start_i, start_i - 3, -1):\n",
    "# #             if input_ids[bos_i] == bos_id or input_ids[bos_i] == l_bracket_id and input_ids[bos_i - 1] == bos_id:\n",
    "#             if input_ids[bos_i] == bos_id:\n",
    "#                 if bos_i != start_i: print('subtokens:', tokenizer.convert_ids_to_tokens(input_ids[bos_i + 1: start_i + 2]))\n",
    "#                 return bos_i\n",
    "#         assert False\n",
    "#     bos_indices = [find_bos_index(i - 2) for i in eos_indices]\n",
    "# #     print(\"bos:\",bos_indices)\n",
    "# #     print(\"eos:\",eos_indices)\n",
    "#     return bos_indices, eos_indices"
   ]
  },
  {
   "cell_type": "code",
   "execution_count": 353,
   "id": "bb474e98",
   "metadata": {},
   "outputs": [],
   "source": [
    "correct_num = 0\n",
    "def predict(model, text, ans_indices_fn, topk=5, return_reduced_loss=False, verbose=True):\n",
    "    use_openai_api = type(model) in [types.MethodType, types.FunctionType]  # openai.Completion.create\n",
    "    print(\"[]\",[types.MethodType, types.FunctionType])\n",
    "    print(\"type(model):\",type(model))\n",
    "    inputs = tokenizer.encode_plus(text, return_tensors='pt')\n",
    "    print(inputs)\n",
    "    input_ids = inputs.input_ids\n",
    "#     print(input_ids)\n",
    "    bsz = input_ids.size(0)\n",
    "#     print(\"bsz = \",bsz)\n",
    "    labels = torch.ones_like(input_ids) * (-100)\n",
    "    if use_openai_api:\n",
    "        assert bsz == 1\n",
    "#         outputs = model(engine=engine, prompt=text, max_tokens=0, echo=True, logprobs=5).choices[0].logprobs\n",
    "        outputs = model(text).logprobs  # XD\n",
    "        ans_nlls = []\n",
    "    else:\n",
    "        inputs = prepare_inputs(inputs, model.device)\n",
    "        outputs = model(**inputs, output_attentions=False)\n",
    "        logits = outputs.logits\n",
    "    for bi in range(bsz):\n",
    "\n",
    "        bos_indices, eos_indices = ans_indices_fn(input_ids[bi])\n",
    "#         print(\"input_ids :\",input_ids[bi])\n",
    "#         print(\"ans_indices_fn:\",ans_indices_fn(input_ids[bi]))\n",
    "#         print(\"bos_indices:\",bos_indices)\n",
    "#         print(\"eos_indices:\",eos_indices)\n",
    "        examples = text.strip().split('\\n')\n",
    "#         print(\"bos_indices:\",bos_indices)\n",
    "        print(\"examples:\",examples)\n",
    "        assert len(bos_indices) == len(examples)-1, '%d != %d' % (len(bos_indices), len(examples))\n",
    "        num = 0\n",
    "        for i, (example, bos_i, eos_i) in enumerate(zip(examples, bos_indices, eos_indices)):\n",
    "#             if verbose: print(' ' + example, end='\\t')\n",
    "            ans_ids = input_ids[bi, bos_i + 1: eos_i]\n",
    "            print(\"ans_ids:\",ans_ids)\n",
    "            labels[bi, bos_i: eos_i - 1] = ans_ids\n",
    "            if use_openai_api:\n",
    "                ans_prob_dist = [get_prob_dist(d, topk=topk) for d in outputs.top_logprobs[bos_i + 1: eos_i]]\n",
    "                ans_probs = [math.exp(lp) for lp in outputs.token_logprobs[bos_i + 1: eos_i]]\n",
    "                ans_nlls += [-lp for lp in outputs.token_logprobs[bos_i + 1: eos_i]]\n",
    "            else:\n",
    "                ans_prob_dist = logits[bi, bos_i: eos_i - 1].softmax(-1)\n",
    "                ans_probs = ans_prob_dist[torch.arange(ans_prob_dist.size(0)), ans_ids]\n",
    "            ans_tokens = tokenizer.convert_ids_to_tokens(ans_ids)\n",
    "            num += 1\n",
    "            for ans_id, ans_token, ans_prob, dist in zip(ans_ids, ans_tokens, numpy(ans_probs, decimals=3), ans_prob_dist):\n",
    "                top1_correct = max(dist.items(), key=lambda x: x[1])[0] == ans_token.replace('Ġ', ' ') \\\n",
    "                    if use_openai_api else (dist.argmax() == ans_id).item()  \n",
    "                \n",
    "                if verbose:\n",
    "                    if(num == 1 and top1_correct):\n",
    "                        global correct_num\n",
    "                        correct_num += 1\n",
    "                    if(len(ans_tokens) <= 1):\n",
    "#                         if(top1_correct):\n",
    "#                             dictlocation1[example] = 1\n",
    "                        print(('！！！' if top1_correct else ' ') + ans_token, ans_prob, \n",
    "                              dist if use_openai_api else show_topk(*dist.topk(topk), indices_fn=tokenizer.convert_ids_to_tokens)) \n",
    "                        \n",
    "                    else:\n",
    "                        pass\n",
    "    if use_openai_api:\n",
    "        loss = ans_nlls if return_reduced_loss else sum(ans_nlls) / len(ans_nlls)\n",
    "    else:\n",
    "        loss = nn.CrossEntropyLoss()(logits.view(-1, logits.size(-1)), labels.view(-1)) if return_reduced_loss \\\n",
    "            else nn.CrossEntropyLoss(reduction='none')(logits.view(-1, logits.size(-1)), labels.view(-1))[labels.view(-1)>=0].tolist()\n",
    "    return loss"
   ]
  },
  {
   "cell_type": "code",
   "execution_count": 354,
   "id": "f49b21a5",
   "metadata": {},
   "outputs": [
    {
     "name": "stdout",
     "output_type": "stream",
     "text": [
      "2\n",
      "Instruction: Do all students choose courses in a department. For example:\n",
      "D: Chinese, U: Art, A: Art, U: Chinese, D: Art; Art: Chi, Chinese: Eng, Physics: Eng. A and U,Chi? -> Yes\n",
      "\n"
     ]
    }
   ],
   "source": [
    "print(len(input_strs))\n",
    "print(input_strs[0])"
   ]
  },
  {
   "cell_type": "code",
   "execution_count": 355,
   "id": "490ff768",
   "metadata": {
    "scrolled": true
   },
   "outputs": [
    {
     "name": "stdout",
     "output_type": "stream",
     "text": [
      "[] [<class 'method'>, <class 'function'>]\n",
      "type(model): <class 'function'>\n",
      "{'input_ids': tensor([[ 6310,  2762,    25,  2141,   477,  2444,  3853, 10902,   287,   257,\n",
      "          5011,    13,  1114,  1672,    25,   198,    35,    25,  3999,    11,\n",
      "           471,    25,  3683,    11,   317,    25,  3683,    11,   471,    25,\n",
      "          3999,    11,   360,    25,  3683,    26,  3683,    25, 21380,    11,\n",
      "          3999,    25,  1985,    11, 23123,    25,  1985,    13,   317,   290,\n",
      "           471,    11,  1925,    72,    30,  4613,  3363,   198]]), 'attention_mask': tensor([[1, 1, 1, 1, 1, 1, 1, 1, 1, 1, 1, 1, 1, 1, 1, 1, 1, 1, 1, 1, 1, 1, 1, 1,\n",
      "         1, 1, 1, 1, 1, 1, 1, 1, 1, 1, 1, 1, 1, 1, 1, 1, 1, 1, 1, 1, 1, 1, 1, 1,\n",
      "         1, 1, 1, 1, 1, 1, 1, 1, 1, 1]])}\n",
      "examples: ['Instruction: Do all students choose courses in a department. For example:', 'D: Chinese, U: Art, A: Art, U: Chinese, D: Art; Art: Chi, Chinese: Eng, Physics: Eng. A and U,Chi? -> Yes']\n",
      "ans_ids: tensor([3363])\n",
      " ĠYes 0.008 {' A': 0.086, ' U': 0.047, ' D': 0.037, ' Art': 0.031, ' Eng': 0.025}\n"
     ]
    },
    {
     "data": {
      "text/plain": [
       "4.8359756"
      ]
     },
     "execution_count": 355,
     "metadata": {},
     "output_type": "execute_result"
    },
    {
     "name": "stdout",
     "output_type": "stream",
     "text": [
      "[] [<class 'method'>, <class 'function'>]\n",
      "type(model): <class 'function'>\n",
      "{'input_ids': tensor([[ 6310,  2762,    25,  2141,   477,  2444,  3853, 10902,   287,   257,\n",
      "          5011,    13,  1114,  1672,    25,   198,    34,    25,   311, 13976,\n",
      "            11,   367,    25, 23123,    11,   367,    25,   311, 13976,    11,\n",
      "           367,    25, 27867,    11,   509,    25,   311, 13976,    26,   311,\n",
      "         13976,    25, 21380,    11, 23123,    25, 21380,    11, 27867,    25,\n",
      "          1985,    13,   367,   290,   327,    11,  7936,    30,  4613,  1400,\n",
      "           198]]), 'attention_mask': tensor([[1, 1, 1, 1, 1, 1, 1, 1, 1, 1, 1, 1, 1, 1, 1, 1, 1, 1, 1, 1, 1, 1, 1, 1,\n",
      "         1, 1, 1, 1, 1, 1, 1, 1, 1, 1, 1, 1, 1, 1, 1, 1, 1, 1, 1, 1, 1, 1, 1, 1,\n",
      "         1, 1, 1, 1, 1, 1, 1, 1, 1, 1, 1, 1, 1]])}\n",
      "examples: ['Instruction: Do all students choose courses in a department. For example:', 'C: Sql, H: Physics, H: Sql, H: Chemistry, K: Sql; Sql: Chi, Physics: Chi, Chemistry: Eng. H and C,Eng? -> No']\n",
      "ans_ids: tensor([1400])\n",
      " ĠNo 0.018 {' H': 0.067, ' S': 0.056, ' Eng': 0.045, ' C': 0.03, ' K': 0.026}\n"
     ]
    },
    {
     "data": {
      "text/plain": [
       "3.990212"
      ]
     },
     "execution_count": 355,
     "metadata": {},
     "output_type": "execute_result"
    }
   ],
   "source": [
    "correct_num = 0\n",
    "for i in input_strs:\n",
    "# for i in text1:\n",
    "    text = i\n",
    "    predict(model, text, get_ans_indices0, verbose=True, topk=5)"
   ]
  },
  {
   "cell_type": "markdown",
   "id": "58c1fe66",
   "metadata": {},
   "source": [
    "# 从这里开始"
   ]
  },
  {
   "cell_type": "code",
   "execution_count": 8,
   "id": "58cba5e2",
   "metadata": {
    "scrolled": true
   },
   "outputs": [],
   "source": [
    "from utils import *\n",
    "from child_utils import *\n",
    "from common_utils import *\n",
    "from model_utils import *"
   ]
  },
  {
   "cell_type": "code",
   "execution_count": 10,
   "id": "90f62ac5",
   "metadata": {},
   "outputs": [],
   "source": [
    "models = {}\n",
    "# cache_dir = '/nas/xd/.cache/torch/transformers/'  # for models besides t5-3b/11b\n",
    "cache_dir = '/mnt/nvme1/xd/.cache/torch/transformers/'  # for gpt-j-6B on elderberry\n",
    "proxies = {'http': '192.168.50.1:1081'} "
   ]
  },
  {
   "cell_type": "code",
   "execution_count": 14,
   "id": "520d34a6",
   "metadata": {
    "scrolled": true
   },
   "outputs": [],
   "source": [
    "model_name = \"EleutherAI/gpt-j-6B\"\n",
    "# model_name = \"EleutherAI/gpt-neo-1.3B\"\n",
    "# model = GPTJForCausalLM.from_pretrained(model_name, proxies=proxies, cache_dir=cache_dir)\n",
    "model = AutoModelForCausalLM.from_pretrained(model_name, proxies=proxies, cache_dir=cache_dir)\n",
    "tokenizer = GPT2Tokenizer.from_pretrained('gpt2', cache_dir=cache_dir)\n",
    "models[model_name] = model, tokenizer"
   ]
  },
  {
   "cell_type": "code",
   "execution_count": 15,
   "id": "830ce082",
   "metadata": {},
   "outputs": [],
   "source": [
    "_ = model.eval()\n",
    "unify(model)\n",
    "blocks = model.transformer.h\n",
    "attn = blocks[0].attn\n",
    "ln_f = model.transformer.ln_f\n",
    "L, H, embed_dim = len(blocks), attn.num_heads, attn.embed_dim\n",
    "\n",
    "_we = model.transformer.wte.weight.data.t()\n",
    "_wu = model.lm_head.weight.data"
   ]
  },
  {
   "cell_type": "code",
   "execution_count": 58,
   "id": "0e50583a",
   "metadata": {},
   "outputs": [
    {
     "data": {
      "text/plain": [
       "GPTJAttention(\n",
       "  (attn_dropout): Dropout(p=0.0, inplace=False)\n",
       "  (resid_dropout): Dropout(p=0.0, inplace=False)\n",
       "  (k_proj): Linear(in_features=4096, out_features=4096, bias=False)\n",
       "  (v_proj): Linear(in_features=4096, out_features=4096, bias=False)\n",
       "  (q_proj): Linear(in_features=4096, out_features=4096, bias=False)\n",
       "  (out_proj): Linear(in_features=4096, out_features=4096, bias=False)\n",
       ")"
      ]
     },
     "execution_count": 58,
     "metadata": {},
     "output_type": "execute_result"
    }
   ],
   "source": [
    "attn"
   ]
  },
  {
   "cell_type": "code",
   "execution_count": 59,
   "id": "c128d0b0",
   "metadata": {},
   "outputs": [
    {
     "data": {
      "text/plain": [
       "LayerNorm((4096,), eps=1e-05, elementwise_affine=True)"
      ]
     },
     "execution_count": 59,
     "metadata": {},
     "output_type": "execute_result"
    }
   ],
   "source": [
    "ln_f"
   ]
  },
  {
   "cell_type": "code",
   "execution_count": 61,
   "id": "cd64c2dd",
   "metadata": {},
   "outputs": [
    {
     "data": {
      "text/plain": [
       "28"
      ]
     },
     "execution_count": 61,
     "metadata": {},
     "output_type": "execute_result"
    },
    {
     "data": {
      "text/plain": [
       "16"
      ]
     },
     "execution_count": 61,
     "metadata": {},
     "output_type": "execute_result"
    }
   ],
   "source": [
    "L\n",
    "H"
   ]
  },
  {
   "cell_type": "code",
   "execution_count": 23,
   "id": "d82cfd61",
   "metadata": {},
   "outputs": [
    {
     "data": {
      "text/plain": [
       "torch.Size([50400, 4096])"
      ]
     },
     "execution_count": 23,
     "metadata": {},
     "output_type": "execute_result"
    }
   ],
   "source": [
    "_wu.size()"
   ]
  },
  {
   "cell_type": "code",
   "execution_count": 383,
   "id": "e9eaa03e",
   "metadata": {},
   "outputs": [],
   "source": [
    "def T(f): return lambda x: f(x.T).T\n",
    "mlp = lambda x: mlp_forward(blocks[0], x)\n",
    "v = we.size(1) #// 2\n",
    "_we, _wu = we[:, :v], wu[:v]\n",
    "with torch.no_grad(): _e = mlp(_we.T) + _we.T"
   ]
  },
  {
   "cell_type": "code",
   "execution_count": 377,
   "id": "fa500964",
   "metadata": {},
   "outputs": [],
   "source": [
    "layer, head = 3, 14 # prev ov: 13-9, next num ov: 14-13, next word ov: 13-4, prepend space ov: 18-3/17-10, isa ov: 14-7, antonym ov: 16-14, copy ov 13-2\n",
    "wq, wk, wv, wo = get_head_weights(model, layer, head, transpose=True)\n",
    "with torch.no_grad():\n",
    "    eq = ek = e = blocks[layer].ln_1(_e)\n",
    "    # A, B = _wu, ln_f(e @ wv @ wo)\n",
    "    A, B = _wu @ wo.T, e @ wv\n",
    "    q, k = eq @ wq, ek @ wk"
   ]
  },
  {
   "cell_type": "code",
   "execution_count": 378,
   "id": "03263be5",
   "metadata": {},
   "outputs": [],
   "source": [
    "qk = True\n",
    "with torch.no_grad():  # ve,ed,de,ev->vv\n",
    "    # _m = ln(mlp(_we.T)) @ (wq.T @ wk) @ T(ln)(T(mlp)(_we)) if qk else _wu @ T(ln_f)(wo @ (wv @ T(ln)(T(mlp)(_we))))\n",
    "    _m = q @ k.T if qk else _wu @ ln_f(B @ wo).T"
   ]
  },
  {
   "cell_type": "code",
   "execution_count": 379,
   "id": "a5d69be8",
   "metadata": {},
   "outputs": [
    {
     "data": {
      "text/plain": [
       "-0.31937023997306824"
      ]
     },
     "execution_count": 379,
     "metadata": {},
     "output_type": "execute_result"
    },
    {
     "data": {
      "image/png": "[encoded data removed]",
      "text/plain": [
       "<Figure size 432x288 with 1 Axes>"
      ]
     },
     "metadata": {
      "needs_background": "light"
     },
     "output_type": "display_data"
    }
   ],
   "source": [
    "plot_eigv((k.T @ q).eig()[0] if qk else (B.T @ A).eig()[0], start_i=1)"
   ]
  },
  {
   "cell_type": "code",
   "execution_count": 380,
   "id": "801cf7e3",
   "metadata": {},
   "outputs": [],
   "source": [
    "m = _m  # q->k, output->input\n",
    "# m = _m.T  # k->q, input->output\n",
    "values, indices = m.topk(10)"
   ]
  },
  {
   "cell_type": "code",
   "execution_count": 381,
   "id": "d258e52b",
   "metadata": {
    "scrolled": true
   },
   "outputs": [
    {
     "name": "stdout",
     "output_type": "stream",
     "text": [
      "ĠHouth {'ĠKurdistan': 39, 'ĠRohingya': 39, 'ĠPKK': 39, 'ĠSaddam': 38, 'ĠKuwait': 38, 'ĠYosemite': 37}\n",
      "ĠKurdistan {'ĠCrimean': 40, 'Brazil': 39, 'ĠBrazil': 39, 'ĠPKK': 38, 'ĠBelarus': 37, 'ĠBurma': 37}\n",
      "ĠMehran {'ĠIceland': 39, 'ĠHungary': 39, 'ĠKashmir': 38, 'Iraq': 38, 'ĠBurma': 37, 'ĠIraqi': 36}\n",
      "ĠMcMaster {'ĠAuckland': 42, 'ĠMakoto': 38, 'ĠAlaska': 38, 'ĠMassachusetts': 36, 'ĠMcGregor': 35, 'Iowa': 33}\n",
      "Ġ-- {'âĢĶâĢĶ': 55, 'âĢĵ': 36, 'ĠâĢĶ': 35, ',âĢĶ': 34, '\"âĢĶ': 33, 'âĢĶ': 33}\n",
      "ĠHoms {'ĠPakistan': 40, 'ĠMyanmar': 39, 'Pakistan': 38, 'ĠRohingya': 37, 'ĠPakistani': 36, 'ĠYemeni': 31}\n",
      "ĠTrey {'ĠTsarnaev': 40, 'ĠTrayvon': 39, 'ĠTakeru': 38, 'ĠTobias': 36, 'ĠYamato': 33, 'utherford': 32}\n",
      "ĠOkin {'ĠOmar': 39, 'Iowa': 37, 'ĠIowa': 37, 'ĠEdmonton': 36, 'ĠMyanmar': 33, 'ĠLibyan': 32}\n",
      "ĠOmaha {'Liverpool': 36, 'ortmund': 36, 'ĠOklahoma': 35, 'lahoma': 35, 'ĠAuckland': 34, 'ĠEverton': 33}\n",
      "ĠSinai {'ĠIceland': 46, 'ĠIcelandic': 42, 'ĠAlaska': 33, 'ĠOkinawa': 33, 'ĠSasuke': 32, 'ĠSamoa': 31}\n",
      "ĠHawth {'Houston': 38, 'ĠHartford': 37, 'ĠSheffield': 33, 'ĠYosemite': 33, 'ĠHarrington': 33, 'ĠHalifax': 33}\n",
      "ĠHond {'ĠHalifax': 37, 'ĠJonas': 37, 'ĠKarachi': 35, 'ĠHirosh': 35, 'Liverpool': 32, 'ĠYosemite': 32}\n",
      "ĠSamar {'ĠSasuke': 36, 'ĠSomalia': 36, 'ĠSaiyan': 35, 'ĠSomali': 33, 'ĠSapphire': 32, 'ĠYugoslavia': 32}\n",
      "...? {'âĢ¦âĢ¦': 42, 'âĢ¦.': 35, '????': 35, 'Ġ..........': 34, 'âĢ¦âĢ¦âĢ¦âĢ¦': 32, 'âĢĶâĢĶ': 31}\n",
      "ĠBray {'Minnesota': 38, 'Colorado': 35, 'Graham': 35, 'ĠBradford': 33, 'ĠBryce': 32, 'ĠEdmonton': 31}\n",
      "stanbul {'ĠIceland': 35, 'ĠBrazil': 34, 'ĠIcelandic': 33, 'ĠHungary': 32, 'Brazil': 32, 'ĠBihar': 32}\n",
      "ĠKislyak {'ĠKashmir': 38, 'ĠKuwait': 34, 'ĠPKK': 32, 'ĠBahrain': 32, 'ĠLibyan': 32, 'ĠCatalonia': 31}\n",
      "ĠBenghazi {'ĠYanuk': 39, 'ĠKuwait': 36, 'ĠBurma': 33, 'ĠMubarak': 32, 'ĠYosemite': 31, 'ĠYanukovych': 31}\n",
      "ĠMosul {'ĠBelarus': 37, 'ĠMyanmar': 37, 'ĠKurdistan': 33, 'ĠSasuke': 32, 'ĠYugoslav': 31, 'ĠRwanda': 30}\n",
      "ĠTacoma {'ĠIowa': 36, 'ĠAlaska': 36, 'Iowa': 36, 'ĠMassachusetts': 33, 'Alabama': 31, 'ĠTasman': 31}\n",
      "ĠStamford {'ĠMerkel': 38, 'Boston': 35, 'ĠGrassley': 34, 'Denver': 32, 'Liverpool': 31, 'Arsenal': 31}\n",
      "ĠWichita {'ĠAsheville': 35, 'ĠIowa': 34, 'ĠTasman': 32, 'ĠDayton': 32, 'ĠTasmania': 31, 'ĠBundy': 31}\n",
      "ĠThom {'ĠNaruto': 35, 'ĠYamato': 34, 'ĠMakoto': 33, 'ĠTrayvon': 32, 'ĠKinnikuman': 31, 'ĠTwain': 31}\n",
      "ĠTripoli {'ĠPakistan': 36, 'ĠTunisia': 33, 'zbollah': 32, 'Pakistan': 32, 'ĠGaza': 32, 'ĠPKK': 32}\n",
      "ĠIstanbul {'ĠIceland': 38, 'ĠIcelandic': 36, 'ĠHungarian': 34, 'ĠHungary': 33, 'ĠYugoslavia': 30, 'imbabwe': 30}\n",
      "ĠBulgar {'ĠBudapest': 38, 'ĠIceland': 36, 'ĠIcelandic': 35, 'ĠGaddafi': 32, 'ĠBaltic': 32, 'Brazil': 32}\n",
      "ĠManit {'achusetts': 38, 'ĠMassachusetts': 35, 'Boston': 33, 'ĠIowa': 31, 'ĠEverton': 31, 'ĠMilan': 31}\n",
      "ĠBermuda {'Miami': 35, 'Denver': 33, 'ĠIceland': 32, 'Dallas': 31, 'ĠMalays': 31, 'ĠDortmund': 31}\n",
      "ĠKuala {'ĠKuwait': 36, 'Karl': 33, 'ĠAuckland': 31, 'Liverpool': 31, 'ĠLuxembourg': 30, 'agascar': 30}\n",
      "ĠZub {'ĠGaddafi': 35, 'ĠYanuk': 33, 'ĠStarbucks': 32, 'ĠShinra': 32, 'ĠEverton': 31, 'ĠYosemite': 30}\n",
      "ĠZamb {'ĠDortmund': 37, 'ortmund': 35, 'ĠDaytona': 32, 'ĠOslo': 31, 'ĠSasuke': 31, 'ĠLeeds': 30}\n",
      "Ġsnowball {'ĠStarcraft': 33, 'ĠFinland': 33, 'Ġfracking': 32, 'ĠSpock': 32, 'ĠYosemite': 32, 'ĠMarlins': 30}\n",
      "ĠBaton {'ĠBrazil': 36, 'Alabama': 34, 'Brazil': 33, 'Minnesota': 32, 'Arizona': 31, 'ĠAlabama': 30}\n",
      "ĠGreenberg {'Graham': 35, 'ĠGraham': 33, 'Tesla': 33, 'ĠTesla': 32, 'ĠIceland': 31, 'ĠGF': 31}\n",
      "ĠTurkish {'ĠBudapest': 37, 'ĠIceland': 32, 'ĠKerala': 31, 'ĠHungarian': 31, 'imbabwe': 31, 'ĠHungary': 30}\n",
      "ĠYellowstone {'ĠYosemite': 35, 'ĠAlaska': 34, 'ĠBaltic': 33, 'ĠMyanmar': 32, 'ĠBurma': 31, 'ĠIowa': 30}\n",
      "ĠMalk {'Michigan': 35, 'ĠMichigan': 34, 'braska': 33, 'Kansas': 32, 'Minnesota': 30, 'ĠMerlin': 30}\n",
      "ĠÂŃ {'âĪĴ': 43, '--': 34, 'Ġ--': 32, 'ĠâĢĵ': 31, 'ĠâĪĴ': 29, 'Ì¶': 28}\n",
      "ĠRohing {'ĠKurdistan': 40, 'ĠRomania': 34, 'ĠIceland': 33, 'ĠBelarus': 31, 'ĠYugoslavia': 30, 'ĠSakura': 28}\n",
      "ĠChinatown {'ĠKuwait': 34, 'Houston': 32, 'ĠTaiwanese': 32, 'ĠDickinson': 30, 'ĠCzech': 30, 'ĠPKK': 30}\n",
      "ĠCrimean {'ĠIceland': 33, 'ĠTunisia': 32, 'ĠCzech': 32, 'ĠCuba': 31, 'ĠRomania': 31, 'ĠYugoslavia': 30}\n",
      "ĠSpock {'ĠShinji': 35, 'Samsung': 34, 'Pokemon': 32, 'ĠOswald': 30, 'ĠYugoslav': 30, 'PokÃ©mon': 30}\n",
      "ĠWinc {'ĠJaguars': 32, 'ĠSasuke': 32, 'ĠWolverine': 32, 'Jamie': 31, 'ĠJamie': 31, 'ĠTimberwolves': 30}\n",
      "ĠSherman {'ĠHarrington': 36, 'ĠHSBC': 34, 'ĠFischer': 31, 'ĠGraham': 30, 'ĠHegel': 30, 'ĠGreenpeace': 30}\n",
      "ĠKurdish {'ĠKerala': 33, 'imbabwe': 32, 'ĠSudan': 31, 'ĠKenya': 31, 'ĠRwanda': 31, 'ĠCrimean': 30}\n",
      "ĠNewfoundland {'Denver': 38, 'ortmund': 35, 'Miami': 30, 'Chicago': 30, 'ĠDortmund': 30, 'Iowa': 29}\n",
      "ĠBoko {'ĠKuwait': 36, 'é»Ĵ': 32, 'ĠKarachi': 32, 'ĠBundy': 31, 'ĠBuffalo': 31, 'ĠIceland': 30}\n",
      "ĠTasman {'Iowa': 34, 'Dallas': 33, 'ĠDallas': 33, 'ĠIowa': 33, 'ĠMinneapolis': 29, 'ĠTulsa': 29}\n",
      "ĠâĢ¦\" {'âĢ¦âĢ¦': 40, '......': 39, 'âĢĶâĢĶ': 34, '....': 31, '.....': 29, 'âĢ¦.': 27}\n",
      "ĠKyle {'ĠSasuke': 34, 'ĠKira': 33, 'ĠGaddafi': 33, 'ĠOswald': 31, 'ĠTsarnaev': 30, 'ĠYanuk': 29}\n",
      "ĠCuomo {'ĠCincinnati': 34, 'Detroit': 33, 'Chicago': 32, 'ĠDetroit': 31, 'ĠMilan': 30, 'Houston': 30}\n",
      "ĠPunjab {'ĠPakistan': 36, 'Pakistan': 35, 'zbollah': 32, 'ĠPakistani': 30, 'Pokemon': 30, 'imbabwe': 30}\n",
      "ĠâĢİ {'ĠâĶľ': 41, 'âĵĺ': 31, '\\\\\\\\\\\\\\\\\\\\\\\\\\\\\\\\': 31, 'Ġ______': 30, 'âĢĶâĢĶ': 30, 'ě': 29}\n",
      "ĠMississ {'Minnesota': 34, 'ĠMinnesota': 32, 'Liverpool': 31, 'ĠMaine': 31, 'ĠMaryland': 30, 'ĠMurdoch': 29}\n",
      "ĠKathleen {'Kate': 34, 'ĠMakoto': 32, 'ĠKatie': 32, 'ĠThiel': 31, 'ĠKate': 30, 'ĠTsarnaev': 30}\n",
      "ĠMcCabe {'ĠGaddafi': 39, 'ĠMubarak': 31, 'ĠGreenpeace': 30, 'ĠPetraeus': 30, 'ĠTrayvon': 30, 'ĠSaddam': 29}\n",
      "Ġ2600 {'Ġ320': 34, 'Ġ321': 32, 'Ġ372': 32, 'Ġ1050': 31, 'Ġ1070': 30, 'Ġ1600': 29}\n",
      "ĠTud {'ĠVoldemort': 36, 'Terry': 32, 'ĠTerry': 31, 'ĠTasmania': 31, 'ĠTsarnaev': 30, 'ĠTata': 30}\n",
      "ĠDund {'Denver': 33, 'Dallas': 31, 'ĠDartmouth': 31, 'ĠDuncan': 31, 'Boston': 30, 'ĠDylan': 29}\n",
      "foundland {'Denver': 36, 'ortmund': 34, 'ĠFinland': 33, 'ĠIceland': 29, 'ĠFinnish': 29, 'imbabwe': 28}\n",
      "ĠBannon {'ĠBundy': 35, 'ĠOswald': 32, 'ĠTruman': 31, 'ĠNaruto': 31, 'Batman': 30, 'ĠTrayvon': 28}\n",
      "ĠKling {'ĠSasuke': 32, 'ĠNaruto': 31, 'Jamie': 31, 'ĠClarkson': 30, 'ĠKrishna': 30, 'Karl': 30}\n",
      "Ġswast {'ĠYosemite': 34, 'Samsung': 33, 'ĠScythe': 31, 'Pokemon': 30, 'ĠKinnikuman': 30, 'ĠSpokane': 29}\n",
      "ĠLoll {'Liverpool': 42, 'ĠLiverpool': 34, 'ĠLibyan': 30, 'ĠClaude': 29, 'Lewis': 29, 'ĠEverton': 28}\n",
      "ĠCind {'ĠSirius': 34, 'ĠYosemite': 32, 'ĠTunisia': 32, 'ĠHorton': 30, 'ĠIceland': 30, 'ĠSasuke': 29}\n",
      "ĠPhar {'PokÃ©mon': 33, 'ĠWhitman': 32, 'ĠAristotle': 32, 'ĠHomer': 31, 'ĠYosemite': 30, 'ĠIowa': 29}\n",
      "ĠNavajo {'ĠVenezuela': 32, 'ĠGaddafi': 32, 'ĠYosemite': 32, 'Pokemon': 31, 'ĠKuwait': 29, 'ĠVenezuelan': 29}\n",
      "ĠWoody {'ĠBowie': 36, 'ĠYosemite': 32, 'ĠWarhammer': 32, 'ĠByron': 29, 'ĠWhitman': 29, 'ĠBradford': 29}\n",
      "ĠHuck {'ĠEverton': 34, 'ĠShinra': 31, 'ĠHowell': 30, 'ĠKinnikuman': 30, 'ĠWeasley': 29, 'ĠSeahawks': 29}\n",
      "ĠCologne {'ĠHungary': 32, 'ĠHungarian': 31, 'ĠKazakhstan': 31, 'ĠIcelandic': 30, 'ĠChilean': 30, 'ĠIceland': 30}\n",
      "ĠVaugh {'ĠEverton': 38, 'Virginia': 34, 'Liverpool': 32, 'Wisconsin': 29, 'Jamie': 29, 'Williams': 29}\n",
      "ĠTunis {'Brazil': 32, 'ĠBrazil': 31, 'Turkey': 31, 'imbabwe': 30, 'ĠBurma': 30, 'ĠMyanmar': 30}\n",
      "ĠWolver {'Liverpool': 35, 'ĠEverton': 34, 'Minnesota': 30, 'ĠWillie': 30, 'Wisconsin': 29, 'ĠLiverpool': 28}\n",
      "ĠSiberia {'ĠIcelandic': 35, 'ĠIceland': 33, 'ĠSomalia': 32, 'ĠFinnish': 30, 'ĠFinland': 29, 'ĠSomali': 28}\n",
      "ĠVulcan {'ĠShinra': 35, 'ĠArkham': 33, 'ĠTsarnaev': 30, 'Pokemon': 30, 'ĠKorra': 29, 'ĠClarkson': 29}\n",
      "ĠBav {'ĠBaylor': 34, 'Atlanta': 32, 'ĠPittsburgh': 30, 'Iowa': 30, 'ĠMassachusetts': 29, 'Baltimore': 28}\n",
      "ĠKhalid {'ĠKashmir': 39, 'ĠSasuke': 33, 'ĠKazakhstan': 32, 'ĠGaddafi': 28, 'ĠLibya': 28, 'ĠKuwait': 27}\n",
      "ĠBalk {'ĠBaltic': 35, 'zbollah': 32, 'ĠIceland': 30, 'ortmund': 30, 'ĠIcelandic': 30, 'Syrian': 28}\n",
      "ĠGarfield {'ĠGaddafi': 34, 'ĠHermes': 33, 'ĠGideon': 32, 'ĠHarrington': 30, 'ĠFlint': 29, 'ĠFritz': 29}\n",
      "ĠRocky {'ĠWarhammer': 35, 'ĠYosemite': 35, 'ĠMarlins': 30, 'ĠPokÃ©mon': 29, 'ĠKnicks': 28, 'ĠJacksonville': 28}\n",
      "Ġ.... {'.......': 37, 'âĢ¦': 33, '........': 33, 'Ġ......': 30, 'âĢ¦âĢ¦': 30, '.........': 27}\n",
      "ĠSchwarzenegger {'Arsenal': 33, 'ĠAustin': 32, 'ĠArsenal': 30, 'Austin': 30, 'ĠBrazil': 29, 'Iowa': 28}\n",
      "ĠSiberian {'ĠIcelandic': 37, 'ĠIceland': 35, 'ĠSomalia': 31, 'ĠMyanmar': 29, 'ĠHungarian': 28, 'ĠTsarnaev': 28}\n",
      "ĠHayward {'ĠYosemite': 32, 'ĠYamato': 31, 'ĠEverton': 30, 'ĠHalifax': 30, 'ĠGujarat': 30, 'ĠNebraska': 29}\n",
      "ĠKeystone {'ĠKonami': 33, 'ĠKashmir': 30, 'ĠArkham': 30, 'ĠLennon': 30, 'ĠKinnikuman': 29, 'ĠKenya': 28}\n",
      "ĠâĢĵ {'Ġ---': 33, 'ĠâĢĶ': 31, 'âĢĶâĢĶ': 30, '---': 30, '----': 28, '.âĢĶ': 28}\n",
      "ĠBrus {'ĠBundy': 34, 'ĠBrock': 31, 'Florida': 29, 'ĠBrazil': 28, 'Colorado': 28, 'ĠBaird': 28}\n",
      "ĠKarachi {'ĠTsarnaev': 32, 'ĠKerala': 30, 'ĠChennai': 30, 'ĠKashmir': 29, 'ĠSaddam': 29, 'ĠHungary': 29}\n",
      "ĠJem {'Jamie': 31, 'ĠJonas': 31, 'Jenn': 30, 'Jimmy': 29, 'Jonathan': 29, 'ĠSpock': 29}\n",
      "ĠJol {'Liverpool': 38, 'ĠLiverpool': 31, 'Jamie': 29, 'Joshua': 29, 'ĠJonas': 28, 'ĠLEGO': 28}\n",
      "ĠCornell {'ĠAuckland': 34, 'ĠIchigo': 30, 'ĠCatalonia': 29, 'ĠBundy': 29, 'ĠOswald': 29, 'ĠYosemite': 28}\n",
      "ĠSne {'ĠSirius': 32, 'ĠSpock': 31, 'ĠSapphire': 31, 'Samsung': 30, 'ĠSailor': 29, 'ĠSanford': 28}\n",
      "...) {'âĢ¦âĢ¦': 38, 'âĢ¦.': 32, 'âĢ¦..': 31, '......': 30, 'Ġ..........': 28, '.....': 27}\n",
      "ĠAnaheim {'Miami': 32, 'ĠYamato': 30, 'Iowa': 30, 'ĠAlaska': 29, 'Jamie': 29, 'ĠAmon': 29}\n",
      "ĠSwed {'ĠIcelandic': 32, 'ĠSheffield': 29, 'Atlanta': 29, 'Liverpool': 29, 'ĠFrankfurt': 29, 'ĠYosemite': 29}\n",
      "ĠAmbro {'Iowa': 33, 'ĠIowa': 31, 'ĠBihar': 30, 'ĠBaltic': 29, 'ĠMassachusetts': 29, 'ĠBurma': 28}\n",
      "ĠToledo {'ĠTsarnaev': 36, 'ĠCosby': 30, 'ĠVoldemort': 30, 'ĠOswald': 28, 'ĠTrayvon': 28, 'ĠMalfoy': 28}\n",
      "ĠGreenwald {'ĠKurdistan': 37, 'ĠFinland': 32, 'Liverpool': 30, 'ĠGhana': 28, 'ĠLiverpool': 28, 'ĠLibya': 27}\n",
      "ĠSno {'ĠShinji': 33, 'ĠShinra': 33, 'ĠSanford': 30, 'ĠFinnish': 28, 'ĠSasuke': 28, 'Samsung': 27}\n",
      "Ġher {'His': 34, 'ĠHis': 34, 'He': 32, 'Ġhis': 31, 'ĠHe': 30, 'ĠHIS': 30}\n",
      "âĢ¦\" {'âĢ¦âĢ¦': 37, '.....': 31, '......': 31, 'âĢĶâĢĶ': 29, '.......': 29, 'ï¿½ï¿½ï¿½': 27}\n",
      "ĠSask {'Liverpool': 32, 'Alabama': 31, 'Syrian': 31, 'ĠPharaoh': 28, 'Wisconsin': 28, 'ĠAlabama': 28}\n",
      "ĠGre {'Graham': 36, 'ĠGriffith': 36, 'ĠGraham': 31, 'ĠSoros': 29, 'ĠAbram': 27, 'ĠSapphire': 26}\n",
      "ĠPriebus {'ĠKurdistan': 31, 'negie': 30, 'ĠUkip': 29, 'ĠHungarian': 29, 'ĠScythe': 29, 'ĠRutgers': 28}\n",
      "ĠHamb {'Houston': 33, 'Miami': 31, 'Iowa': 29, 'ĠIowa': 29, 'ĠMilwaukee': 29, 'ĠBuffalo': 28}\n",
      "ĠScion {'ĠAlaska': 32, 'ĠSpock': 31, 'ĠProtoss': 30, 'ĠSpaceX': 30, 'ĠBundy': 28, 'ĠKinnikuman': 28}\n",
      "ĠYel {'ĠEverton': 34, 'ĠYosemite': 30, 'ĠYugoslavia': 29, 'ĠIceland': 29, 'ĠLucy': 28, 'ĠLuther': 27}\n",
      "ĠKev {'ĠJonas': 34, 'ĠOswald': 31, 'ĠKrishna': 30, 'ĠPKK': 28, 'ĠMyanmar': 28, 'ĠKoen': 27}\n",
      "Ġ- {'.âĢĵ': 35, 'âĪĴ': 31, 'ĠâĢĵ': 30, 'Ġ--': 30, 'ĠâĢĶ': 28, 'âĢĵ': 28}\n",
      "?! {'Ġ???': 41, '?????': 36, '???': 34, '????': 34, '!!!!': 27, '??': 27}\n",
      "ĠSikh {'ĠSasuke': 32, 'ĠFinnish': 30, 'ĠPKK': 29, 'Syrian': 29, 'ĠFinland': 28, 'ĠKazakhstan': 28}\n",
      "ĠKobe {'ĠYosemite': 34, 'ĠRohingya': 34, 'ĠBurma': 29, 'ĠMyanmar': 29, 'ĠKardashian': 28, 'ĠKentucky': 27}\n",
      "ĠWoodward {'ĠYosemite': 35, 'ĠDayton': 30, 'ĠDickinson': 29, 'Wisconsin': 28, 'ĠSanford': 28, 'Houston': 27}\n",
      "ĠJama {'Rachel': 32, 'ergus': 29, 'Liverpool': 28, 'Jonathan': 28, 'Joshua': 28, 'ĠIowa': 28}\n",
      "ĠCopenhagen {'Michigan': 31, 'ĠFinnish': 30, 'ĠCzech': 30, 'ĠScandinavian': 30, 'ĠFinland': 29, 'ĠMichigan': 28}\n",
      "ĠWim {'ĠEverton': 34, 'ĠDayton': 29, 'Liverpool': 29, 'ĠSunderland': 28, 'ĠDurant': 28, 'ĠTasmania': 27}\n",
      "ĠLindsey {'Liverpool': 34, 'Detroit': 29, 'ĠIceland': 29, 'ĠYosemite': 28, 'ĠRedmond': 28, 'ĠLisbon': 28}\n",
      "ĠBaghd {'ĠKazakhstan': 32, 'ĠBahrain': 30, 'ĠAlaska': 30, 'ĠArmenia': 28, 'ĠArmenian': 28, 'ĠKuwait': 28}\n",
      "ĠNaples {'ĠParagu': 30, 'ĠPeru': 29, 'uvian': 29, 'ĠHungarian': 29, 'ĠBrazilian': 29, 'ĠArgentine': 29}\n",
      "ĠTaj {'ĠTasmania': 32, 'ĠYamato': 31, 'ĠTsarnaev': 30, 'ĠTrayvon': 28, 'Liverpool': 28, 'Tyler': 27}\n",
      "Ġscorp {'ĠSakura': 31, 'ĠMourinho': 30, 'ĠCind': 30, 'ĠArkham': 29, 'ĠSapphire': 28, 'ĠSith': 28}\n",
      "ĠTosh {'ĠTrayvon': 31, 'ĠTakeru': 30, 'ĠTerry': 29, 'ĠTasmania': 29, 'Terry': 29, 'ĠShinra': 28}\n",
      "ĠJeb {'ĠGhostbusters': 33, 'ĠGujarat': 31, 'ĠCerberus': 30, 'Detroit': 28, 'ĠTolkien': 28, 'ĠRohingya': 27}\n",
      "ĠHermes {'ĠSasuke': 31, 'ĠArkham': 31, 'ĠYosemite': 30, 'ĠMonsanto': 28, 'ĠOswald': 28, 'ĠYamato': 28}\n",
      "ĠUkrainian {'ĠYugoslavia': 31, 'ĠYugoslav': 30, 'ĠIowa': 29, 'Iowa': 29, 'ĠTulsa': 28, 'ĠBudapest': 28}\n",
      "ĠBraz {'Liverpool': 32, 'ĠBrendan': 30, 'ĠSubaru': 29, 'Arsenal': 29, 'ĠBaltic': 28, 'ĠLeeds': 27}\n",
      "ĠRw {'ĠYugoslav': 33, 'ĠOkinawa': 31, 'ĠYugoslavia': 31, 'ĠBurma': 30, 'imbabwe': 29, 'ĠYemen': 27}\n",
      "ĠBulg {'ĠBundy': 35, 'ĠBudapest': 32, 'ĠLuffy': 31, 'ĠAlaska': 28, 'ĠIchigo': 28, 'ĠBruno': 27}\n",
      "ĠNey {'ĠAuckland': 32, 'ĠYamato': 31, 'ĠBundy': 30, 'ĠNaruto': 30, 'ĠMakoto': 28, 'ĠAvery': 27}\n",
      "ĠYanuk {'ĠBundy': 32, 'ĠYamato': 30, 'ĠEverton': 30, 'ĠKuwait': 29, 'ĠArmenia': 28, 'ĠMyanmar': 28}\n",
      "ĠLatvia {'ĠScandinavian': 33, 'ĠMilan': 31, 'ĠOswald': 29, 'ĠIcelandic': 28, 'uvian': 28, 'ĠIceland': 28}\n",
      "ĠPetraeus {'ĠArgentine': 31, 'ĠPalestinian': 31, 'Palestinian': 30, 'ĠArgentina': 28, 'ĠCatalonia': 28, 'Ġcannabinoid': 28}\n",
      "ĠTobias {'ĠCherokee': 30, 'ĠWeston': 30, 'ĠWeasley': 30, 'ĠHermione': 29, 'ĠThiel': 29, 'ĠTrayvon': 27}\n",
      "ĠJordanian {'ĠOkinawa': 30, 'Pakistan': 29, 'Iowa': 29, 'ĠAuckland': 29, 'ĠIceland': 29, 'ĠJacksonville': 28}\n",
      "... {'âĢ¦.': 34, 'âĢ¦âĢ¦': 34, 'âĢ¦..': 33, 'âĢ¦.\"': 32, 'Ġ......': 30, 'ĠâĢ¦': 27}\n",
      "ĠBetsy {'ĠWeasley': 33, 'ĠThiel': 30, 'ĠTsarnaev': 29, 'ĠVoldemort': 28, 'ĠWellington': 27, 'ĠFrieza': 27}\n",
      "ĠNewtown {'Iowa': 33, 'ĠIowa': 32, 'ĠNiagara': 28, 'ĠMyanmar': 28, 'ĠMiliband': 28, 'Minnesota': 27}\n",
      "ĠKathy {'Kate': 33, 'ĠKate': 30, 'Karl': 28, 'ĠTsarnaev': 27, 'ĠKerala': 27, 'ĠRohingya': 27}\n",
      "ĠPompe {'ĠMonsanto': 31, 'Pokemon': 31, 'ĠVoldemort': 29, 'ĠPeru': 28, 'ĠMyanmar': 28, 'ĠGaza': 27}\n",
      "ĠBohem {'ortmund': 32, 'ĠBombay': 31, 'Boston': 29, 'anyahu': 27, 'ĠIceland': 27, 'ĠEverton': 27}\n",
      "ĠTucson {'ĠMakoto': 30, 'ĠRohingya': 30, 'ĠTulsa': 29, 'ĠSamoa': 28, 'ĠCanary': 28, 'ĠCherokee': 28}\n",
      "ĠUrug {'ĠNeville': 32, 'ĠMilan': 30, 'ĠMourinho': 30, 'ĠIceland': 29, 'Italy': 28, 'ĠIcelandic': 27}\n",
      "ĠScand {'ĠSlovenia': 30, 'ĠYugoslavia': 30, 'ĠSpock': 29, 'ĠYugoslav': 29, 'ĠEstonia': 28, 'ĠFinnish': 28}\n",
      "ĠChattanooga {'ĠIowa': 32, 'ĠDayton': 29, 'Iowa': 29, 'Chicago': 29, 'ĠTulsa': 28, 'Boston': 27}\n",
      "ĠUtah {'ĠTulsa': 34, 'ĠTasmania': 31, 'Iowa': 29, 'ĠChennai': 27, 'ĠDaytona': 27, 'ĠTanzania': 27}\n",
      "ĠZimmerman {'ĠShinra': 38, 'ĠJinn': 31, 'ĠSasuke': 27, 'aterasu': 27, 'ĠKyoto': 27, 'Denver': 27}\n",
      "ĠâĢĶ {'âĢĵâĢĵ': 36, 'âĢĶâĢĶ': 32, 'Ġ--': 31, 'ĠâĢĵ': 30, '--': 30, 'ĠâĪĴ': 27}\n",
      "ĠMorsi {'Pokemon': 30, 'ĠRohingya': 29, 'ĠMadagascar': 29, 'ĠSikh': 29, 'ĠLebanese': 28, 'ĠShinra': 27}\n",
      "ĠTumblr {'Pokemon': 37, 'ĠPokemon': 31, 'Ġpokemon': 31, 'ĠPKK': 28, 'ortmund': 27, 'ĠMourinho': 26}\n",
      "ĠSyracuse {'ĠArkansas': 31, 'ĠYamato': 31, 'ĠSakuya': 29, 'ĠSacramento': 28, 'ĠCameroon': 27, 'ĠIowa': 27}\n",
      "ĠSkinner {'ĠSpock': 32, 'ĠSasuke': 30, 'ĠHearthstone': 29, 'ĠBundy': 28, 'ĠChomsky': 28, 'ĠSaras': 27}\n",
      "ĠPapua {'ĠRohingya': 32, 'ĠPakistani': 30, 'ĠPakistan': 30, 'ĠSikh': 28, 'ĠMyanmar': 28, 'Pakistan': 27}\n",
      "ĠCosby {'ĠScythe': 30, 'ĠSora': 30, 'ĠCooke': 29, 'ĠOrlando': 29, 'ĠCroat': 28, 'ĠCanter': 27}\n",
      "ĠSamson {'ĠShawn': 30, 'ĠSora': 29, 'ĠYosemite': 29, 'ĠSasuke': 29, 'ĠSpock': 28, 'ĠMilan': 28}\n",
      "ĠDunham {'ĠDayton': 31, 'Houston': 31, 'ĠDumbledore': 30, 'ĠSpock': 27, 'Minnesota': 27, 'ĠDwight': 26}\n",
      "ĠNex {'ĠAlaska': 29, 'ĠNaomi': 29, 'ĠNorwegian': 28, 'ĠFinnish': 28, 'Ġasteroid': 28, 'ĠYamato': 27}\n",
      "ĠBahÃ¡ {'ĠAuckland': 34, 'ĠWinnipeg': 29, 'Iraq': 28, 'Arsenal': 28, 'ĠEverton': 27, 'ĠMyanmar': 27}\n",
      "ĠHitchcock {'ĠHastings': 32, 'ĠHarrington': 31, 'ĠOswald': 28, 'ĠHarvey': 27, 'ĠHaas': 27, 'ĠHSBC': 27}\n",
      "ĠSaras {'ĠSapphire': 31, 'ĠSamoa': 29, 'ĠSirius': 29, 'ĠArgentine': 29, 'ĠYosemite': 28, 'ĠAlaska': 28}\n",
      "ĠBuzz {'ĠDolphin': 29, 'ĠBigfoot': 29, 'ĠNaruto': 28, 'ĠBosh': 28, 'ortmund': 28, 'ĠArmageddon': 28}\n",
      "ĠMahm {'ĠMakoto': 33, 'ĠGaddafi': 30, 'ĠMilan': 28, 'ĠSomalia': 28, 'ĠSasuke': 27, 'Michigan': 27}\n",
      "ĠCanad {'ĠAuckland': 31, 'Alabama': 30, 'ĠAlabama': 30, 'Wisconsin': 28, 'ĠJacksonville': 27, 'Boston': 27}\n",
      "ĠScandinav {'ĠFinnish': 33, 'ĠFinland': 30, 'ĠIceland': 29, 'ĠIcelandic': 29, 'ĠBudapest': 27, 'ĠYugoslav': 26}\n",
      "ĠKurds {'ĠKerala': 29, 'ĠKenya': 29, 'ĠPKK': 29, 'ĠHungarian': 28, 'ĠBudapest': 27, 'imbabwe': 27}\n",
      "ĠParagu {'ĠArgentine': 36, 'ĠCatalonia': 30, 'ĠArgentina': 28, 'ĠTunisia': 27, 'ĠBelfast': 27, 'ĠChilean': 27}\n",
      "ĠKoz {'ĠYosemite': 33, 'ĠPorsche': 30, 'ĠOswald': 30, 'ĠEverton': 28, 'Howard': 26, 'Tesla': 26}\n",
      "âĢĳ {'âĪĴ': 35, 'âĢĶâĢĶ': 35, 'ĠâĪĴ': 34, 'âĢĶ': 29, '--': 27, ')âĢĶ': 26}\n",
      "ĠBlumenthal {'ĠBaird': 32, 'Miami': 31, 'Denver': 28, 'ĠBelfast': 27, 'Graham': 27, 'ĠBudapest': 27}\n",
      ")... {'âĢ¦âĢ¦': 36, 'âĢ¦.': 31, 'âĢ¦..': 30, 'Ġ......': 28, 'ĠâĢ¦': 27, 'âĢ¦.\"': 26}\n",
      "ĠThames {'ĠIceland': 32, 'ĠChennai': 31, 'Boston': 31, 'ĠHalifax': 29, 'ĠSydney': 29, 'ĠIcelandic': 26}\n",
      "ĠBombay {'Michigan': 33, 'ĠMichigan': 31, 'Iowa': 31, 'ĠIowa': 30, 'ĠBrazil': 27, 'Detroit': 26}\n",
      "merga {'imbabwe': 33, 'ĠKenya': 31, 'ĠKenyan': 27, 'Iran': 27, 'ĠZimbabwe': 27, 'ĠKabul': 26}\n",
      "ĠBabylon {'ĠYugoslav': 31, 'ĠBrazilian': 29, 'ĠLibyan': 28, 'ĠYugoslavia': 27, 'Syrian': 27, 'ĠColombian': 27}\n",
      "ĠOttoman {'imbabwe': 33, 'ĠOkinawa': 31, 'ĠTunisia': 27, 'Pakistan': 27, 'Syria': 27, 'Syrian': 26}\n",
      "ĠBungie {'ĠGoku': 33, 'ĠHannibal': 33, 'ĠSpock': 30, 'Arsenal': 28, 'ĠWellington': 26, 'ĠYosemite': 26}\n",
      "ĠDalai {'ĠYosemite': 31, 'Germany': 29, 'ĠKurdistan': 28, 'ĠIceland': 27, 'ĠLatvia': 27, 'ĠBangladesh': 27}\n",
      "ĠNationwide {'ĠScandinav': 30, 'Ġnorthwestern': 29, 'ĠAuckland': 29, 'ĠScandinavian': 29, 'ĠOkinawa': 27, 'ĠBrazilian': 27}\n",
      "ĠPandora {'ĠYosemite': 33, 'Pokemon': 31, 'PokÃ©mon': 31, 'duino': 27, 'ĠPokemon': 26, 'ĠOculus': 26}\n",
      "ĠBuckley {'ĠBelichick': 31, 'ĠBYU': 31, 'Graham': 29, 'ĠCarnegie': 28, 'ĠGraham': 27, 'ĠSoros': 26}\n",
      "ĠNik {'ĠYosemite': 34, 'ĠOkinawa': 32, 'ĠKuwait': 30, 'ĠNaruto': 28, 'ĠKinnikuman': 28, 'ĠOswald': 26}\n",
      "ĠMahmoud {'ĠGaddafi': 37, 'ĠMcCann': 32, 'ĠMcGregor': 29, 'ĠLibya': 28, 'ĠLibyan': 27, 'ĠSaddam': 26}\n",
      "ĠMoroccan {'ĠIceland': 31, 'ĠIcelandic': 31, 'imbabwe': 30, 'ĠOkinawa': 27, 'ĠZimbabwe': 26, 'ĠArgentine': 26}\n",
      "ĠBurr {'ĠBundy': 39, 'ĠTsarnaev': 29, 'ĠTrayvon': 28, 'ĠGhostbusters': 27, 'ĠVoldemort': 27, 'ĠFrieza': 26}\n",
      "Ġ802 {'Ġ2048': 29, 'Ġ392': 28, 'Ġ420': 28, 'Ġ390': 28, 'Ġ388': 28, 'Ġ196': 27}\n",
      "ĠHera {'ĠIceland': 34, 'ĠOswald': 31, 'ĠIcelandic': 31, 'ĠHiroshima': 26, 'ĠHarrington': 26, 'ĠHungarian': 26}\n",
      "ĠLeth {'ĠEverton': 30, 'Karl': 29, 'ĠLudwig': 28, 'ĠFenrir': 28, 'ĠSirius': 28, 'Lewis': 27}\n",
      "ĠSeattle {'ĠYosemite': 30, 'ĠDayton': 29, 'ĠSylv': 28, 'ĠWichita': 28, 'ĠTasmania': 27, 'ĠTsarnaev': 27}\n",
      "ĠErdogan {'ĠHungarian': 30, 'Germany': 28, 'ĠFinnish': 28, 'ĠHungary': 27, 'ĠHawaii': 27, 'ĠIceland': 27}\n",
      "ĠRiyadh {'ĠKashmir': 29, 'ĠIraqi': 28, 'Alabama': 28, 'imbabwe': 28, 'ĠSaddam': 28, 'ĠHiroshima': 27}\n",
      "ĠMiddles {'ĠChomsky': 32, 'ĠIceland': 31, 'ĠIcelandic': 28, 'ĠHalifax': 27, 'ĠKarachi': 27, 'ĠSantiago': 26}\n",
      "ĠHick {'Graham': 35, 'Howard': 31, 'ĠGraham': 30, 'ĠHutchinson': 29, 'ĠHowell': 26, 'ĠHoward': 25}\n",
      "ĠBulgarian {'ĠIcelandic': 31, 'ĠBudapest': 30, 'ĠIceland': 30, 'ĠBaltic': 28, 'ĠAuckland': 27, 'ĠBundy': 26}\n",
      "âĢ¦) {'......': 32, '........': 29, '___': 29, '.....': 28, '.......': 27, 'Ġ..........': 27}\n",
      "ĠHonolulu {'ĠHalifax': 31, 'ĠDayton': 31, 'ĠYosemite': 29, 'Iowa': 28, 'Miami': 27, 'lahoma': 27}\n",
      "Ġmosa {'racuse': 34, 'ĠBelarus': 30, 'ĠSamoa': 30, 'ĠRohingya': 29, 'ĠYosemite': 26, 'ĠBaltic': 25}\n",
      "ĠNikol {'ĠPKK': 30, 'ĠJinn': 29, 'ĠOswald': 29, 'ĠLibyan': 29, 'ĠKuwait': 27, 'ĠPyrrha': 26}\n",
      "ĠOlympia {'ĠIceland': 32, 'lahoma': 30, 'ĠYosemite': 29, 'ĠIcelandic': 29, 'ĠOklahoma': 28, 'ĠAkron': 27}\n",
      "ĠBoise {'Boston': 34, 'Denver': 31, 'ĠCornell': 28, 'Colorado': 27, 'ĠBoston': 27, 'ĠBradford': 27}\n",
      "ĠBald {'ĠBrad': 30, 'Brad': 29, 'Denver': 29, 'Dallas': 27, 'ĠDustin': 27, 'ĠBowie': 27}\n",
      "ĠAfgh {'ĠBurma': 31, 'ĠPKK': 29, 'ĠMyanmar': 28, 'ĠKurdistan': 28, 'ĠGaddafi': 27, 'Iowa': 27}\n",
      "ĠXan {'ĠIchigo': 32, 'ĠAvery': 30, 'ĠPyrrha': 29, 'ĠYamato': 27, 'ĠMakoto': 27, 'ĠEverton': 26}\n",
      "ĠGork {'ĠSpock': 31, 'ĠHaskell': 29, 'ĠKuwait': 28, 'Arsenal': 27, 'Minnesota': 27, 'Lewis': 27}\n",
      "ĠKrist {'ĠRamsey': 30, 'ĠKira': 29, 'ĠKerala': 29, 'Karl': 27, 'ĠKumar': 26, 'ĠRohingya': 26}\n",
      "ĠBott {'ĠBolton': 36, 'ĠBundy': 33, 'ĠBradford': 32, 'ĠBolt': 25, 'ĠDolphin': 25, 'Graham': 25}\n",
      "Ġtsun {'ĠYosemite': 39, 'Pokemon': 29, 'ĠSylv': 26, 'ĠMyanmar': 26, 'ĠSpokane': 25, 'Samsung': 25}\n",
      "Ġ9000 {'Ġ980': 32, 'Ġ960': 29, 'Ġ911': 29, 'Ġ470': 27, 'Ġ999': 26, 'Ġ501': 26}\n",
      "ĠKinn {'ĠKendall': 34, 'ĠKuwait': 30, 'ĠOswald': 28, 'ĠCyrus': 27, 'ĠHaas': 26, 'ĠChomsky': 26}\n",
      "ĠHispan {'ĠPharaoh': 32, 'Syrian': 30, 'ĠRohingya': 27, 'ĠSaiyan': 27, 'ĠRohing': 27, 'ĠBurma': 26}\n",
      "ĠSph {'ĠSirius': 33, 'ĠSpock': 29, 'ĠIchigo': 27, 'ĠSatoshi': 26, 'ĠSherlock': 26, 'ĠIcelandic': 26}\n",
      "ĠBulgaria {'ĠBudapest': 31, 'ĠBaltic': 29, 'ĠGaddafi': 28, 'ĠCatalonia': 28, 'ĠIcelandic': 26, 'Brazil': 26}\n",
      "ĠLerner {'ĠALEC': 39, 'ĠGaddafi': 29, 'ĠKinnikuman': 27, 'ĠLilith': 26, 'ĠUkip': 26, 'ĠMerlin': 25}\n",
      "ĠBrisbane {'Alabama': 32, 'Boston': 32, 'ĠAlabama': 28, 'ĠMassachusetts': 27, 'achusetts': 27, 'Minnesota': 26}\n",
      "ĠStef {'ĠSirius': 31, 'ĠSweeney': 30, 'ĠTasmania': 27, 'ĠYugoslavia': 27, 'ĠSoros': 26, 'ĠStephens': 26}\n",
      "ĠJosh {'Jamie': 32, 'ĠJamie': 31, 'ĠOswald': 29, 'ĠPyrrha': 27, 'ĠPharaoh': 26, 'ĠBowie': 26}\n",
      "ĠZionist {'ĠShinra': 36, 'ĠPKK': 29, 'ĠIceland': 27, 'ĠHiroshima': 27, 'ĠIcelandic': 26, 'ĠIsraeli': 26}\n",
      "ĠYuk {'ĠKuwait': 31, 'Liverpool': 31, 'ĠAuckland': 30, 'ĠYosemite': 28, 'ĠYamato': 27, 'ĠRohingya': 26}\n",
      "ĠDoug {'ĠBruno': 29, 'Denver': 28, 'ĠDickinson': 28, 'ĠDesmond': 28, 'ĠCooke': 27, 'ĠGerrard': 26}\n",
      "ĠRove {'ĠOswald': 32, 'ĠGoddard': 29, 'ĠYosemite': 28, 'ĠNiagara': 27, 'ĠSpock': 27, 'ĠShinra': 26}\n",
      "Ġ334 {'Ġ388': 30, 'Ġ386': 29, 'Ġ392': 28, 'Ġ390': 28, 'Ġ396': 27, 'Ġ412': 26}\n",
      "ĠBul {'ĠBundy': 31, 'ĠMakoto': 28, 'ĠBigfoot': 28, 'ĠWichita': 27, 'ĠAustin': 27, 'ĠBowie': 26}\n",
      "ĠArnold {'ĠAngus': 31, 'ĠBrendan': 29, 'ĠHarrington': 28, 'ĠUnicorn': 27, 'ĠBradford': 27, 'Ġcannabinoid': 26}\n",
      "ĠKodi {'ĠJonas': 29, 'ĠYosemite': 29, 'Liverpool': 28, 'ĠIceland': 28, 'ĠMcCartney': 26, 'ĠEverton': 26}\n",
      "Ġtyph {'ĠNaruto': 30, 'ĠIchigo': 29, 'ĠXiang': 27, 'ĠSirius': 27, 'ĠZhu': 27, 'ĠTulsa': 26}\n",
      "ĠKirk {'ĠKrishna': 31, 'ĠKuwait': 30, 'ĠKristen': 29, 'ĠKushner': 28, 'ĠArkham': 26, 'Jamie': 25}\n",
      "ĠJoh {'ĠJonas': 36, 'ĠJacksonville': 30, 'ĠIcelandic': 29, 'ĠIceland': 27, 'ĠYosemite': 25, 'ĠKerala': 25}\n",
      "ĠCalgary {'ĠBurma': 29, 'ĠGhana': 27, 'Colorado': 27, 'ĠCameroon': 27, 'Kansas': 27, 'ĠAuckland': 27}\n",
      "ĠTup {'Kyle': 28, 'ĠKinnikuman': 28, 'lahoma': 28, 'ĠOklahoma': 27, 'Magikarp': 27, 'Thompson': 27}\n",
      "ĠRouhani {'ĠPakistan': 30, 'Pakistan': 29, 'ĠTruman': 27, 'ĠRwanda': 27, 'Syrian': 26, 'ĠBrazil': 26}\n",
      "ĠSwords {'ĠTsarnaev': 32, 'ĠShinra': 29, 'ĠStarfleet': 27, 'ĠSeahawks': 27, 'ĠShanahan': 26, 'ĠYanuk': 26}\n",
      "ĠPhill {'ĠSpock': 34, 'ĠDickinson': 28, 'ĠPicard': 27, 'ĠPittsburgh': 27, 'Liverpool': 26, 'ĠLuxembourg': 25}\n",
      "ĠNug {'ĠMakoto': 31, 'Pokemon': 30, 'ĠMcGregor': 29, 'ĠAmos': 27, 'ĠWeasley': 26, 'ĠMachina': 25}\n",
      "ĠKiw {'Iowa': 30, 'ĠIowa': 30, 'Liverpool': 27, 'ĠNewcastle': 27, 'Michigan': 26, 'Wisconsin': 26}\n",
      "ĠIre {'ĠKejriwal': 29, 'jriwal': 28, 'ĠXCOM': 27, 'ĠALEC': 27, 'ĠRamadan': 27, 'ĠIceland': 26}\n",
      "ĠShinzo {'ĠEdmonton': 28, 'ĠFinnish': 28, 'ĠSpokane': 28, 'ĠYosemite': 27, 'ĠKazakhstan': 27, 'Denver': 26}\n",
      "ĠYaz {'ĠYosemite': 31, 'ĠShinra': 30, 'ĠYs': 28, 'ĠYuri': 27, 'ĠJudah': 27, 'ĠYemeni': 26}\n",
      "ĠSark {'ĠPharaoh': 32, 'ĠSasuke': 31, 'ĠYamato': 29, 'ĠStarbucks': 27, 'ĠYugoslavia': 26, 'ĠSomalia': 24}\n",
      "Â·Â· {'......': 30, 'Ġ......': 30, 'âĢ¦âĢ¦': 29, '.......': 28, '........': 26, 'âĢĶâĢĶâĢĶâĢĶâĢĶâĢĶâĢĶâĢĶâĢĶâĢĶâĢĶâĢĶâĢĶâĢĶâĢĶâĢĶ': 26}\n",
      "ĠImran {'ĠIceland': 28, 'ĠBelarus': 28, 'ĠKurdistan': 28, 'ĠKuwait': 28, 'ĠMyanmar': 27, 'ĠAfghanistan': 26}\n",
      "ĠNathan {'ĠNaruto': 34, 'ĠNigel': 28, 'ĠOswald': 27, 'ĠTrayvon': 27, 'ĠSpock': 26, 'ĠHannibal': 25}\n",
      "ĠSparks {'ĠUncharted': 29, 'Pokemon': 29, 'ĠScandinavian': 28, 'ĠSatoshi': 28, 'ĠWarhammer': 27, 'ĠGhostbusters': 27}\n",
      "ĠSaudi {'ĠKashmir': 31, 'ĠYosemite': 29, 'ĠSomalia': 28, 'ĠAssy': 27, 'imbabwe': 26, 'ĠSahara': 25}\n",
      "ĠVegeta {'ĠGaddafi': 33, 'ĠTsarnaev': 31, 'ĠGael': 28, 'ergus': 27, 'ĠSavannah': 26, 'ĠYosemite': 25}\n",
      "ĠBerm {'Miami': 30, 'ĠAuckland': 27, 'ĠYamato': 27, 'ĠBaylor': 27, 'ĠIchigo': 26, 'Dallas': 26}\n",
      "ĠGuam {'ĠYosemite': 30, 'ĠMilan': 29, 'ĠGaza': 28, 'ĠKuwait': 27, 'ĠShinra': 27, 'ĠNissan': 26}\n",
      "Ġ...\" {'âĢ¦.': 35, 'âĢ¦': 33, 'âĢ¦âĢ¦': 30, 'âĢ¦..': 27, 'âĢ¦\"': 26, 'âĢ¦.\"': 24}\n",
      "ĠNaz {'PokÃ©mon': 30, 'ĠNigerian': 29, 'ĠScandinavian': 28, 'ĠNorwegian': 27, 'ĠAlaska': 26, 'ĠArgentine': 25}\n",
      "ĠMarco {'ĠGaddafi': 32, 'ĠMubarak': 29, 'ĠCatalonia': 28, 'ĠArgentine': 27, 'ĠCarth': 26, 'ĠLibyan': 26}\n",
      "ĠZeus {'ĠYosemite': 31, 'ĠPyrrha': 31, 'Pokemon': 28, 'ĠShinra': 27, 'ĠAkron': 27, 'ĠOswald': 26}\n",
      "ĠBowman {'ĠBundy': 37, 'ĠCowboy': 27, 'ĠAuckland': 27, 'ĠDortmund': 26, 'ĠBallard': 25, 'ĠDeadpool': 25}\n",
      "ĠBangkok {'Brazil': 29, 'ĠHungarian': 28, 'ĠBrazil': 28, 'ĠBrazilian': 27, 'ĠArgentine': 26, 'ĠMyanmar': 26}\n",
      "ĠTibet {'ĠTurkish': 31, 'ĠIcelandic': 29, 'ĠKerala': 27, 'ĠIceland': 26, 'Pokemon': 26, 'ĠTsarnaev': 26}\n",
      "ĠMubarak {'ĠSpock': 32, 'ĠBurma': 29, 'ĠMyanmar': 29, 'ĠPakistan': 27, 'ĠHungarian': 26, 'ĠHungary': 25}\n",
      "ĠKessler {'ĠViking': 28, 'Karl': 28, 'ĠWenger': 27, 'ĠGaddafi': 27, 'ĠJamie': 27, 'Jamie': 27}\n",
      "ĠCalais {'ĠCatalonia': 29, 'ĠHungary': 28, 'ĠHungarian': 28, 'ĠBihar': 28, 'ĠBelarus': 26, 'ĠBrazil': 26}\n",
      "ĠDull {'ĠDRAG': 28, 'ĠDraco': 28, 'ĠLeeds': 28, 'ĠBYU': 27, 'ĠDamien': 26, 'Drag': 26}\n",
      "ĠMalik {'ĠLibyan': 32, 'ĠLibya': 32, 'ĠKuwait': 26, 'zbollah': 26, 'ĠPKK': 26, 'ĠGaddafi': 25}\n",
      "...\" {'âĢ¦âĢ¦': 34, 'âĢ¦.': 32, 'âĢ¦.\"': 31, 'âĢ¦..': 29, 'ĠâĢ¦\"': 26, 'âĢ¦\"': 23}\n",
      "ĠHyder {'ĠDhabi': 29, 'ĠHawaii': 29, 'ĠHawaiian': 27, 'Arizona': 27, 'ĠCzech': 27, 'Irish': 26}\n",
      "ĠJay {'ĠYosemite': 33, 'ĠJPMorgan': 28, 'ĠJacksonville': 27, 'Joshua': 27, 'Liverpool': 26, 'ĠRochester': 26}\n",
      "ĠNunes {'Syrian': 31, 'ĠNaruto': 29, 'ĠShinra': 28, 'ĠTanzania': 27, 'ĠOkinawa': 25, 'ĠTunisia': 25}\n",
      "ĠCooke {'ĠCornwall': 31, 'ĠCeltics': 28, 'ĠCrosby': 27, 'ĠEverton': 26, 'ĠCeltic': 26, 'Liverpool': 26}\n",
      "ĠBosnia {'ĠYugoslav': 31, 'ĠIceland': 29, 'ĠBudapest': 28, 'ĠBaltic': 27, 'ĠSamoa': 26, 'ĠIcelandic': 26}\n",
      "ĠBowser {'ĠDayton': 30, 'ĠSpokane': 28, 'Dallas': 28, 'Boston': 26, 'ĠAkron': 26, 'Denver': 26}\n",
      "ĠTsarnaev {'Kyle': 29, 'ĠSpock': 28, 'ĠSasuke': 28, 'ĠNaruto': 27, 'ĠVegeta': 26, 'ĠKinnikuman': 26}\n",
      "ĠSean {'ĠOswald': 32, 'ĠYugoslavia': 30, 'ĠYugoslav': 30, 'ĠSeymour': 29, 'ĠOsama': 25, 'ĠSirius': 24}\n",
      "ĠUtt {'ĠTulsa': 31, 'ĠEverton': 29, 'ĠTsarnaev': 29, 'ĠStarbucks': 27, 'ijuana': 26, 'ĠYosemite': 25}\n",
      "ĠThor {'ĠTsarnaev': 29, 'ĠWitcher': 28, 'ĠMinotaur': 27, 'ĠSirius': 27, 'ĠChristina': 26, 'ĠYamato': 26}\n",
      "ĠTulsa {'ĠDayton': 30, 'ĠYosemite': 30, 'ĠMakoto': 28, 'Alabama': 27, 'ĠYamato': 26, 'ĠAlabama': 25}\n",
      "ĠHaw {'Howard': 30, 'ĠYosemite': 29, 'ĠHod': 29, 'Miami': 28, 'Houston': 27, 'ĠEverton': 26}\n",
      "ĠSwedish {'ĠOslo': 29, 'ĠHelsinki': 28, 'ĠSwitzerland': 27, 'ĠIcelandic': 27, 'ĠIceland': 26, 'ĠFrankfurt': 26}\n",
      "ĠJonathan {'ĠPyrrha': 33, 'ĠJohann': 28, 'ĠOswald': 27, 'ĠHermione': 27, 'ĠJonas': 27, 'ĠJinn': 26}\n",
      "ĠMecca {'Egypt': 30, 'ĠEgyptian': 29, 'ĠYosemite': 27, 'ĠHaitian': 26, 'ĠBahrain': 26, 'ĠShinra': 26}\n",
      "ĠGund {'ĠGaddafi': 33, 'Graham': 28, 'ĠSpock': 27, 'ĠSasuke': 27, 'Howard': 26, 'Samsung': 25}\n",
      "ĠBab {'ĠBradford': 31, 'Brad': 30, 'ĠBundy': 28, 'ĠBrad': 27, 'ĠAbram': 26, 'ĠBuffy': 25}\n",
      "ĠJeff {'Jamie': 32, 'ĠJamie': 30, 'ĠEsther': 27, 'ĠSeymour': 27, 'ĠJPMorgan': 26, 'ĠDavidson': 25}\n",
      "ĠKardash {'ĠKuwait': 32, 'ĠYosemite': 32, 'ĠMyanmar': 27, 'ĠAuckland': 26, 'ĠEverton': 25, 'ĠIceland': 25}\n",
      "apeake {'Colorado': 29, 'Alabama': 27, 'Samsung': 27, 'Detroit': 27, 'ĠHawaii': 26, 'Iowa': 26}\n",
      "ĠGerr {'ĠSpock': 32, 'ĠGilmore': 31, 'ĠBundy': 28, 'ĠEdmonton': 28, 'ĠGarfield': 25, 'ĠRazer': 24}\n",
      "Ġ--- {'ĠâĢĵ': 38, 'âĢĶâĢĶ': 31, 'âĢĶ': 28, 'âĢĵ': 27, '.âĢĵ': 26, 'âĢĶâĢĶâĢĶâĢĶ': 26}\n",
      "ĠShawn {'ĠAlaska': 29, 'ĠSask': 29, 'Scotland': 27, 'Jamie': 26, 'ĠRochester': 26, 'ĠArkansas': 26}\n",
      "ĠLongh {'ĠLeeds': 29, 'ĠWellington': 29, 'Lewis': 29, 'ĠNewcastle': 28, 'Liverpool': 27, 'ĠEverton': 27}\n",
      "ĠOhio {'ĠAuckland': 33, 'ĠTulsa': 28, 'ĠJacksonville': 27, 'ĠCincinnati': 26, 'ĠIndianapolis': 26, 'ĠOmaha': 25}\n",
      "ĠNikola {'ĠMakoto': 32, 'ĠOswald': 30, 'ĠAlaska': 27, 'ĠOnePlus': 26, 'ĠMyanmar': 25, 'ĠKuwait': 25}\n",
      "Ġ<[ {'Ġ[\"': 28, 'Ġ[(': 27, 'Ġ[[': 27, 'Ġ[': 27, '[\"': 27, \"Ġ['\": 26}\n",
      "ĠBaghdad {'ĠPakistan': 30, 'ĠAfghan': 29, 'ĠBrazil': 27, 'ĠMyanmar': 27, 'Pakistan': 26, 'ĠArgentine': 25}\n",
      "ĠWolfgang {'ĠWenger': 30, 'Arsenal': 29, 'Pokemon': 29, 'ĠEverton': 27, 'ĠArsenal': 26, 'Liverpool': 25}\n",
      "ĠBerks {'ĠYamato': 32, 'ĠBudapest': 31, 'ĠBrah': 27, 'ĠBuffalo': 26, 'ĠIceland': 25, 'ĠYosemite': 25}\n",
      "ĠHawaii {'ĠYosemite': 31, 'Miami': 29, 'ortmund': 28, 'ĠHalifax': 27, 'ĠAuckland': 25, 'ĠBelfast': 25}\n",
      "ĠOsw {'ĠVerizon': 31, 'ĠEverton': 29, 'Wolf': 27, 'ĠSnowden': 26, 'ĠOslo': 26, 'ĠNorway': 26}\n",
      "ĠConstantinople {'ĠBelarus': 29, 'ĠCzech': 28, 'ĠBrazil': 28, 'ĠCatalonia': 27, 'ĠFinland': 26, 'Brazil': 26}\n",
      "ĠLazarus {'Liverpool': 31, 'ĠALEC': 28, 'ĠShinra': 27, 'ĠDeadpool': 26, 'ĠHalifax': 26, 'ĠLiverpool': 26}\n",
      "Ġ388 {'Ġ329': 28, 'Ġ328': 28, 'Ġ318': 27, 'Ġ331': 27, 'Ġ419': 26, 'Ġ314': 25}\n",
      "ĠNAFTA {'ĠAlaska': 28, 'ĠNintendo': 27, 'Pokemon': 27, 'ĠAuckland': 27, 'ĠSingapore': 26, 'ĠFinnish': 26}\n",
      "ĠFresno {'Colorado': 30, 'Florida': 30, 'Iowa': 26, 'ĠEdmonton': 26, 'Rachel': 25, 'ĠEcuador': 25}\n",
      "ĠNero {'ĠChilean': 28, 'ĠALEC': 27, 'ĠChennai': 27, 'Brazil': 27, 'Ġcannabinoid': 26, 'ĠIcelandic': 26}\n",
      "ĠKazakh {'ĠMyanmar': 31, 'ĠYosemite': 29, 'ĠKurdistan': 27, 'ĠYanukovych': 26, 'ĠIceland': 26, 'é»Ĵ': 25}\n",
      "ĠSuz {'ĠOslo': 31, 'ĠSasuke': 31, 'ĠOsama': 26, 'ĠYuri': 26, 'ĠOswald': 25, 'ĠSydney': 25}\n",
      "ĠKaty {'ĠTanzania': 30, 'ĠKlopp': 28, 'ĠYosemite': 28, 'Liverpool': 27, 'ĠKaren': 26, 'ĠYamato': 25}\n",
      "ĠSicily {'ĠSamoa': 29, 'ĠIceland': 28, 'ĠMilan': 27, 'ĠEcuador': 27, 'Saudi': 27, 'ĠIcelandic': 25}\n",
      "ĠFleming {'ĠFenrir': 29, 'ĠVoldemort': 29, 'ĠFrankfurt': 29, 'ĠMonsanto': 27, 'ĠMalfoy': 26, 'Pokemon': 25}\n",
      "ĠLair {'ĠLeeds': 32, 'Liverpool': 28, 'ĠRochester': 27, 'ĠLarson': 27, 'ĠLucy': 25, 'ĠLawrence': 25}\n",
      "ĠSchneider {'ĠSpock': 40, 'ĠStarcraft': 28, 'Graham': 27, 'ĠGraham': 25, 'ĠSasuke': 25, 'ĠWraith': 24}\n",
      "ĠBelfast {'ĠNebraska': 29, 'Alabama': 28, 'braska': 27, 'ĠArkansas': 27, 'Iowa': 26, 'ĠAlabama': 26}\n",
      "ĠCrowley {'Pokemon': 30, 'ĠAuckland': 29, 'ĠVoldemort': 27, 'PokÃ©mon': 27, 'ĠWarhammer': 26, 'ĠEdmonton': 25}\n",
      "Ġcorrid {'ĠColombia': 31, 'ĠCatalonia': 31, 'ĠTunisia': 28, 'ĠColombian': 26, 'Brazil': 26, 'ĠBrazil': 24}\n",
      "ĠCorker {'ĠCarlton': 28, 'Russell': 26, 'ĠCornell': 26, 'ĠRochester': 26, 'ĠRussell': 26, 'ĠClarkson': 26}\n",
      "ĠHopkins {'Graham': 33, 'ĠHarrington': 28, 'ĠGraham': 27, 'ĠHammond': 26, 'ĠMoose': 26, 'ĠSasuke': 25}\n",
      "ĠDeVos {'Pokemon': 29, 'ĠLSU': 28, 'Georgia': 27, 'Atlanta': 26, 'ĠFresno': 26, 'ĠAtlanta': 26}\n",
      "ĠSpokane {'ĠCopenhagen': 29, 'ĠScandinavian': 28, 'ĠWarsaw': 27, 'ĠRagnar': 27, 'Syrian': 26, 'ĠPharaoh': 26}\n",
      "ĠHarlem {'ĠAuckland': 31, 'ĠYosemite': 30, 'Boston': 26, 'ĠCopenhagen': 26, 'Houston': 26, 'ĠHalifax': 25}\n",
      "ĠJude {'ĠIceland': 29, 'ĠHector': 27, 'ĠPyrrha': 27, 'ĠIcelandic': 27, 'ĠAssange': 26, 'PokÃ©mon': 26}\n",
      "ĠBronx {'ĠYosemite': 34, 'ĠAuckland': 27, 'apeake': 26, 'Denver': 26, 'Houston': 26, 'Boston': 25}\n",
      "ĠSaddam {'ĠMyanmar': 27, 'ĠIowa': 27, 'ĠBrazil': 27, 'ĠPakistan': 27, 'ĠTennessee': 26, 'ĠHungary': 26}\n",
      "ĠNath {'ĠJonas': 30, 'ĠNathaniel': 29, 'ĠVoldemort': 27, 'ĠAuckland': 27, 'Russell': 26, 'ĠSpock': 25}\n",
      "ĠSidney {'ĠArkansas': 30, 'ĠSirius': 29, 'ĠSanford': 28, 'ĠALEC': 26, 'ĠSasuke': 26, 'ĠErica': 25}\n",
      "ĠBrist {'ĠBrock': 30, 'ĠChallenger': 30, 'ĠBurk': 26, 'ĠLebanese': 26, 'ĠBundy': 25, 'ĠBeirut': 25}\n",
      "Ġ3000 {'Ġ333': 29, 'Ġ330': 29, 'Ġ365': 27, 'Ġ320': 27, 'Ġ560': 26, 'Ġ331': 26}\n",
      "ĠHayes {'ĠHastings': 30, 'ĠAuckland': 30, 'ĠYamato': 28, 'ĠSheffield': 27, 'ĠHSBC': 26, 'ĠYamaha': 25}\n",
      "ĠClapper {'ĠActivision': 30, 'ĠCameroon': 29, 'ĠCarlton': 28, 'Pokemon': 28, 'PokÃ©mon': 26, 'ĠChevron': 26}\n",
      "ĠSmy {'ĠShea': 35, 'ĠYamato': 33, 'ĠStarbucks': 28, 'ĠShinji': 24, 'ĠSwanson': 24, 'Sony': 24}\n",
      ")-- {'âĢĶâĢĶ': 36, ')âĢĶ': 28, 'âĢĶ': 27, 'ĠâĢĶ': 27, 'âĪĴ': 25, '\"âĢĶ': 24}\n",
      "ĠZoro {'ĠYosemite': 28, 'ĠVenezuelan': 28, 'ĠMayweather': 27, 'ĠGaddafi': 26, 'ĠRomanian': 26, 'ĠIcelandic': 26}\n",
      "ĠSnape {'ĠSwedish': 29, 'ĠTennessee': 28, 'ĠSanford': 27, 'ĠScandinavian': 27, 'ĠSweden': 27, 'ĠSabres': 27}\n",
      "ĠBuckingham {'ĠEverton': 29, 'Abyss': 29, 'ĠDeadpool': 27, 'ĠCowboy': 27, 'ĠMcCann': 26, 'ĠDolphin': 25}\n",
      "ĠMcAuliffe {'racuse': 29, 'ĠMinnesota': 29, 'Minnesota': 27, 'Boston': 27, 'Georgia': 25, 'ĠGeorgia': 25}\n",
      "Ġpopcorn {'Pokemon': 31, 'PokÃ©mon': 27, 'ĠPokÃ©mon': 26, 'ĠMourinho': 25, 'ĠIchigo': 25, 'ĠPyrrha': 25}\n",
      "ĠJab {'amaru': 29, 'ĠChromebook': 27, 'ĠKabul': 26, 'ĠTaliban': 26, 'ĠKejriwal': 26, 'ĠNaruto': 25}\n",
      "ĠSlav {'ĠIcelandic': 31, 'ĠGaddafi': 29, 'ĠIceland': 28, 'ĠNorway': 26, 'ĠNorwegian': 25, 'ĠOslo': 25}\n",
      "ĠShepard {'ĠEsther': 29, 'ĠYosemite': 28, 'ĠSouthampton': 27, 'ĠTimberwolves': 27, 'ĠShinra': 26, 'ĠOswald': 26}\n",
      "ĠGohan {'ĠYosemite': 30, 'ĠGideon': 29, 'ergus': 29, 'ĠGaga': 28, 'ĠGaddafi': 27, 'ĠHaku': 26}\n",
      "ĠMusk {'ĠMonsanto': 32, 'ĠStarbucks': 28, 'ĠYosemite': 27, 'ĠSpock': 26, 'ĠHermes': 25, 'Samsung': 24}\n",
      "ĠYamato {'ĠYosemite': 37, 'ĠShinra': 27, 'ĠTunisia': 27, 'ĠYanuk': 26, 'ĠEverton': 26, 'Iraq': 24}\n",
      "ĠSweden {'ĠHelsinki': 29, 'ĠScandinavian': 27, 'ĠWichita': 26, 'ĠOslo': 26, 'ĠSwitzerland': 26, 'ĠBudapest': 26}\n",
      "ĠBirmingham {'Minnesota': 29, 'ĠNebraska': 29, 'braska': 27, 'ĠBaylor': 26, 'ĠGideon': 25, 'ĠMinneapolis': 25}\n",
      "ĠBobby {'Brad': 34, 'ĠBrad': 30, 'Brandon': 28, 'Austin': 26, 'ĠBradley': 25, 'James': 24}\n",
      "ĠWynne {'Chicago': 28, 'Liverpool': 28, 'Colorado': 26, 'Michigan': 26, 'ĠConnecticut': 26, 'ĠYorkshire': 25}\n",
      "ĠHearthstone {'ichita': 33, 'ĠIceland': 30, 'Boston': 27, 'ĠWichita': 26, 'ĠSweden': 25, 'ĠBaltic': 25}\n",
      "ĠVick {'ĠKuwait': 33, 'ĠSpock': 29, 'dinand': 26, 'ĠWalton': 25, 'ĠPyrrha': 25, 'ĠPetraeus': 25}\n",
      "Ġeuph {'Pokemon': 29, 'ĠOrwell': 29, 'ĠHebdo': 28, 'PokÃ©mon': 27, 'ĠXCOM': 25, 'ThumbnailImage': 25}\n",
      "ĠLuk {'Liverpool': 36, 'ĠSpock': 29, 'ĠLowell': 26, 'ĠLiverpool': 25, 'ĠLibya': 25, 'ĠLibyan': 25}\n",
      "ĠFairfax {'ĠDartmouth': 34, 'ĠRutgers': 29, 'Florida': 27, 'ĠHarvard': 26, 'ĠAlaska': 25, 'Minnesota': 24}\n",
      "ĠMonteneg {'ĠIceland': 34, 'ĠIcelandic': 30, 'ĠOslo': 25, 'ĠScandinavian': 25, 'racuse': 25, 'Brazil': 25}\n",
      "ĠThur {'Karl': 29, 'ĠSeymour': 28, 'ĠTsarnaev': 27, 'ĠTyson': 26, 'ĠHayward': 25, 'ĠTwain': 25}\n",
      "ĠSiber {'ĠSasuke': 30, 'ĠSubaru': 30, 'aterasu': 26, 'ĠSapphire': 25, 'ĠSuzuki': 25, 'ĠIcelandic': 25}\n",
      "ĠMumbai {'Michigan': 30, 'ĠIowa': 28, 'Iowa': 28, 'ĠMichigan': 26, 'ĠMyanmar': 26, 'ĠTsarnaev': 25}\n",
      "ĠKushner {'ĠUkip': 31, 'ĠSpock': 30, 'Kate': 26, 'Kansas': 26, 'ĠKristen': 25, 'ĠYanuk': 25}\n",
      "ĠNewman {'ĠAuckland': 28, 'ĠNathaniel': 27, 'ĠJonas': 27, 'ĠMakoto': 27, 'ĠAmos': 26, 'Minnesota': 25}\n",
      "Ġspons {'ĠPKK': 30, 'Ġbandits': 30, 'ĠSpock': 28, 'ĠBigfoot': 25, 'ĠSpartan': 25, 'ĠUncharted': 25}\n",
      "ĠBethlehem {'ĠTsarnaev': 29, 'ĠFrankenstein': 28, 'ĠIcelandic': 26, 'ĠJupiter': 26, 'ĠSpock': 25, 'ĠFinland': 25}\n",
      "ĠHimal {'ĠIceland': 34, 'ĠIcelandic': 30, 'ĠBangladesh': 26, 'ĠKerala': 25, 'ĠHawaii': 24, 'Minnesota': 24}\n",
      "ĠJonah {'ĠOswald': 39, 'ĠShinra': 30, 'ĠYosemite': 27, 'ĠNeville': 25, 'ĠJinn': 24, 'ĠSakuya': 23}\n",
      "ĠSnow {'ĠYosemite': 30, 'ĠSanford': 27, 'ĠCosmos': 26, 'ĠIceland': 26, 'ĠScandinavian': 26, 'ĠShea': 26}\n",
      "ĠKear {'Liverpool': 31, 'Karl': 27, 'Kansas': 26, 'ĠArkansas': 26, 'ĠKuwait': 26, 'ĠKentucky': 25}\n",
      "ĠRiy {'ĠSomalia': 28, 'ĠIran': 27, 'ĠPeru': 26, 'ĠLibya': 26, 'ĠRochester': 26, 'ĠBundy': 25}\n",
      "ĠHank {'ĠHarrington': 33, 'Graham': 32, 'ĠGraham': 28, 'ĠLeeds': 25, 'ĠSeymour': 25, 'Howard': 23}\n",
      "ĠMarse {'ĠYosemite': 32, 'ĠMaryland': 28, 'Colorado': 27, 'lahoma': 25, 'braska': 25, 'Alabama': 25}\n",
      "ĠChand {'Colorado': 29, 'Dallas': 28, 'Denver': 26, 'ĠDayton': 26, 'ĠCanary': 25, 'Christopher': 25}\n",
      "ĠJuno {'Liverpool': 33, 'ĠJacksonville': 30, 'ĠCherokee': 27, 'ĠYosemite': 25, 'ĠIceland': 25, 'ĠJohann': 24}\n",
      "ĠFarn {'Magikarp': 29, 'Pokemon': 28, 'ĠGaddafi': 27, 'ĠSpock': 26, 'ĠHannibal': 25, 'ĠGundam': 25}\n",
      "ĠHogwarts {'ĠJenner': 31, 'Samsung': 27, 'Iowa': 27, 'ĠIceland': 27, 'Boston': 27, 'ĠCornell': 26}\n",
      "ĠManila {'ĠBrazil': 28, 'Michigan': 27, 'ĠBrazilian': 27, 'ĠMichigan': 26, 'ĠHungarian': 26, 'ĠLibyan': 26}\n",
      "ĠSomali {'Syrian': 29, 'imbabwe': 27, 'ĠPakistan': 27, 'ĠIceland': 26, 'ĠYugoslav': 26, 'Iran': 26}\n",
      "ĠBYU {'ĠEverton': 31, 'Pokemon': 29, 'ĠYamato': 28, 'ĠYosemite': 27, 'ĠOswald': 25, 'ĠHaku': 24}\n",
      "ĠGhostbusters {'Iowa': 32, 'ĠIowa': 29, 'hesda': 26, 'Boston': 26, 'ĠHSBC': 25, 'ĠWellington': 24}\n",
      "ĠShoals {'ĠKuwait': 31, 'ĠYosemite': 30, 'ĠHastings': 27, 'ĠShinra': 26, 'ĠCyrus': 25, 'Joshua': 25}\n",
      "ĠSusan {'ĠWeasley': 30, 'ĠSora': 27, 'ĠMcGregor': 26, 'ĠUSL': 26, 'ĠMakoto': 25, 'ĠMcCann': 25}\n",
      "ĠStarg {'PokÃ©mon': 32, 'Pokemon': 30, 'ĠSpock': 28, 'ĠPokÃ©mon': 27, 'ĠYosemite': 27, 'Ġdinosaurs': 24}\n",
      "ĠNato {'ĠNASCAR': 29, 'lahoma': 29, 'ĠOklahoma': 28, 'ĠNorwegian': 26, 'ĠAlaska': 25, 'ĠYugoslavia': 25}\n",
      "ĠSabres {'ĠDortmund': 28, 'ortmund': 28, 'ĠNASCAR': 28, 'ĠDaytona': 27, 'ĠBundy': 26, 'ĠMilwaukee': 24}\n",
      "ĠHasan {'ĠKabul': 26, 'ĠAfghan': 26, 'ĠKuwait': 26, 'Iraq': 26, 'ĠAngus': 26, 'ĠGideon': 26}\n",
      "ĠBirch {'ĠBradford': 28, 'ĠMarlins': 27, 'ĠBaylor': 27, 'Miami': 27, 'ĠWolverine': 26, 'ĠBigfoot': 25}\n",
      "ĠRosenstein {'ĠGreenpeace': 28, 'ĠSpock': 28, 'ĠRagnar': 28, 'ĠBruno': 27, 'ĠFinland': 26, 'Brazil': 26}\n",
      "ĠDraco {'ĠMarlins': 29, 'Minnesota': 27, 'ĠRutgers': 26, 'ĠRomania': 26, 'ĠMaryland': 26, 'ĠArkansas': 25}\n",
      "ĠKhal {'ĠKazakhstan': 31, 'Kansas': 28, 'ĠKuwait': 26, 'ĠKerala': 26, 'ĠHugo': 26, 'ĠHayden': 24}\n",
      "ĠBram {'Jamie': 32, 'ĠJamie': 28, 'Dallas': 27, 'ĠBrooks': 25, 'Alabama': 25, 'ĠBowie': 25}\n",
      "ĠEnder {'ĠEverton': 29, 'ĠEmerson': 28, 'Arsenal': 27, 'Iowa': 27, 'ĠNaomi': 25, 'ĠEdmund': 25}\n",
      "ĠPhantom {'ĠMayweather': 29, 'ĠSpock': 27, 'ĠYosemite': 27, 'ĠEminem': 26, 'ĠSaddam': 25, 'ĠShinra': 25}\n",
      "ĠKent {'ĠMakoto': 37, 'ĠTsarnaev': 26, 'ĠCullen': 25, 'ĠKristen': 25, 'ĠYosemite': 25, 'ĠMcGregor': 24}\n",
      "ĠManhattan {'ĠManila': 29, 'ĠMilan': 29, 'ortmund': 27, 'Boston': 27, 'ĠMelbourne': 25, 'ĠMumbai': 25}\n",
      "Ġflo {'ĠCrush': 31, 'ĠLep': 30, 'Ġtides': 26, 'ĠSunderland': 26, 'ĠMarse': 26, 'ĠKinnikuman': 25}\n",
      "ĠWeinstein {'ĠGreenpeace': 29, 'ĠWhitman': 28, 'ĠYamato': 26, 'negie': 26, 'ĠBerkshire': 25, 'ĠIceland': 25}\n",
      "ĠBoo {'ĠBuckingham': 28, 'ĠBruno': 28, 'ĠBradford': 26, 'ĠDartmouth': 26, 'ĠBuffy': 25, 'ĠBristol': 25}\n",
      "ĠGrizz {'ĠWenger': 30, 'ĠSoros': 28, 'ĠStarfleet': 27, 'ĠWalton': 26, 'ĠBihar': 25, 'ĠTsarnaev': 24}\n",
      "Ġtodd {'PokÃ©mon': 27, 'ĠTulsa': 27, 'ĠTommy': 26, 'ĠYamato': 26, 'ĠTimberwolves': 25, 'ĠOwl': 25}\n",
      "ĠRih {'ĠYosemite': 31, 'ĠBradford': 29, 'ĠRochester': 27, 'ĠGilbert': 26, 'ĠKarachi': 26, 'ĠPakistan': 25}\n",
      "ĠNetanyahu {'ĠOswald': 29, 'imbabwe': 28, 'ĠPakistan': 28, 'ĠMilan': 26, 'ĠHirosh': 26, 'Iraq': 25}\n",
      "\\- {'âĪĴ': 29, 'ĠâĪĴ': 27, '--': 27, 'Ġ--': 26, 'âĢĶ': 26, 'ĠâĢĶ': 25}\n",
      "ĠCohen {'ĠSasuke': 28, 'ĠHungarian': 28, 'ĠPharaoh': 27, 'ĠHelsinki': 26, 'ĠBudapest': 25, 'ĠGreenpeace': 25}\n",
      "ĠChero {'ĠSyracuse': 30, 'ĠIowa': 27, 'ĠIceland': 26, 'Iowa': 26, 'ĠRochester': 25, 'ĠScythe': 25}\n",
      "ĠQur {'ĠLibyan': 32, 'ĠLibya': 31, 'ĠGaddafi': 31, 'ĠYanukovych': 25, 'Iran': 25, 'ĠKarachi': 23}\n",
      "Ġ319 {'Ġ388': 27, 'Ġ333': 26, 'Ġ911': 26, 'Ġ135': 26, 'Ġ27': 25, 'Ġ69': 25}\n",
      "ĠLeigh {'Liverpool': 28, 'Laura': 27, 'ĠLaura': 27, 'ĠLivingston': 27, 'ĠSullivan': 25, 'Lewis': 25}\n",
      "ĠTampa {'Iowa': 31, 'ĠIowa': 30, 'Boston': 26, 'ĠDartmouth': 25, 'ĠAuckland': 25, 'ĠFlint': 24}\n",
      "ĠKath {'ĠKerala': 29, 'ĠRohingya': 28, 'Karl': 27, 'ĠKumar': 26, 'ĠMyanmar': 26, 'ĠMakoto': 25}\n",
      "ĠKimberly {'Kate': 30, 'Jamie': 28, 'ĠKate': 27, 'ĠKatie': 26, 'ĠYanuk': 26, 'ĠJamie': 26}\n",
      "Ġ##### {'âĸĳâĸĳ': 32, 'Ġï¿½ï¿½ï¿½ï¿½ï¿½ï¿½ï¿½ï¿½': 30, 'âĢĶâĢĶâĢĶâĢĶâĢĶâĢĶâĢĶâĢĶ': 28, '\\\\\\\\\\\\\\\\\\\\\\\\\\\\\\\\': 27, '////': 25, 'âĢĶâĢĶâĢĶâĢĶâĢĶâĢĶâĢĶâĢĶâĢĶâĢĶâĢĶâĢĶâĢĶâĢĶâĢĶâĢĶ': 24}\n",
      "ĠHuff {'Howard': 32, 'ĠHarrington': 31, 'ĠZhu': 27, 'ĠHoward': 25, 'ĠHopkins': 24, 'ĠHudson': 24}\n",
      "ĠHait {'ortmund': 29, 'ĠRohingya': 29, 'ĠTanzania': 27, 'ĠChad': 26, 'ĠHalifax': 25, 'ĠTunisia': 24}\n",
      "ĠLann {'ĠLawrence': 29, 'Liverpool': 29, 'ĠLouisville': 28, 'ĠJonas': 27, 'ĠLucius': 27, 'ĠSirius': 25}\n",
      "ĠClancy {'ĠSasuke': 28, 'ĠCavs': 26, 'ĠTrayvon': 26, 'ĠKashmir': 26, 'ĠCarth': 25, 'ĠTsarnaev': 25}\n",
      "Ġskysc {'ĠTottenham': 28, 'ĠStarbucks': 27, 'ĠSunderland': 26, 'ĠEverton': 26, 'ĠSydney': 25, 'Samsung': 25}\n",
      "ĠSnowden {'ĠSpock': 36, 'PokÃ©mon': 28, 'ĠNeptune': 25, 'ĠStarfleet': 25, 'Pokemon': 24, 'ĠEstonia': 24}\n",
      "ĠNigerian {'ĠNepal': 29, 'ĠBudapest': 27, 'ĠKazakhstan': 27, 'ĠIceland': 27, 'imbabwe': 26, 'ĠKerala': 25}\n",
      "Ġhis {'She': 32, 'ĠShe': 30, 'Her': 28, 'ĠTheir': 25, 'Their': 24, 'ĠHer': 24}\n",
      "ĠTurnbull {'ĠIowa': 28, 'Boston': 26, 'Detroit': 26, 'ĠWinnipeg': 26, 'Iowa': 25, 'Liverpool': 25}\n",
      "ĠQuebec {'ĠCalgary': 27, 'Chicago': 27, 'Dallas': 26, 'Iowa': 26, 'ĠMinneapolis': 26, 'ĠBrisbane': 25}\n",
      "ĠRaqqa {'ĠGaddafi': 30, 'ĠPKK': 27, 'ĠRwanda': 26, 'ĠLibya': 26, 'ĠAfghanistan': 25, 'zbollah': 25}\n",
      "ĠUncharted {'ĠMurdoch': 30, 'Liverpool': 28, 'ĠDPRK': 27, 'ĠSirius': 26, 'ĠShinra': 24, 'ĠSpock': 24}\n",
      "ĠMediterranean {'ĠIcelandic': 31, 'ĠIceland': 27, 'ĠMilan': 25, 'ĠManila': 25, 'atican': 25, 'ĠArgentine': 25}\n",
      "ĠShay {'ĠIchigo': 28, 'ĠKrishna': 27, 'ĠIceland': 27, 'ĠKira': 27, 'ĠYosemite': 26, 'Liverpool': 25}\n",
      "ĠBudd {'ĠSpock': 33, 'ĠUncharted': 28, 'ĠDolphin': 28, 'ĠBradford': 26, 'ĠBundy': 24, 'ĠJPMorgan': 24}\n",
      "Kyle {'ĠGaddafi': 27, 'ĠSasuke': 27, 'ĠKira': 27, 'ĠOswald': 26, 'Samsung': 25, 'Detroit': 25}\n",
      "ĠSteele {'ĠCeltics': 28, 'Boston': 27, 'ĠTCU': 26, 'ĠTwain': 26, 'ĠDartmouth': 25, 'ĠSocrates': 25}\n",
      "Ġ329 {'Ġ318': 31, 'Ġ317': 28, 'Ġ414': 25, 'Ġ530': 25, 'Ġ303': 25, 'Ġ320': 25}\n",
      "ĠUg {'ĠUAE': 28, 'ĠCroat': 27, 'ocobo': 26, 'ĠYosemite': 26, 'ĠChocobo': 26, 'ĠMakoto': 25}\n",
      "ĠTibetan {'ĠBangladesh': 28, 'ĠIceland': 27, 'ĠBaltic': 27, 'ĠKerala': 26, 'ĠBurma': 25, 'ĠNaruto': 25}\n",
      "ĠDane {'Kyle': 29, 'Liverpool': 27, 'Detroit': 26, 'Minnesota': 25, 'Davis': 25, 'Denver': 25}\n",
      "ĠAram {'Jamie': 34, 'ĠJamie': 28, 'ĠUriel': 26, 'ĠAmos': 25, 'ĠRohingya': 24, 'Muslim': 24}\n",
      "Ġshorth {'ĠSanford': 30, 'ĠLithuania': 29, 'ĠTasmania': 25, 'ĠLithuan': 25, 'ĠSaudi': 24, 'ĠSkinner': 24}\n",
      "ĠPence {'ĠOswald': 28, 'ĠGujarat': 26, 'ĠOsborne': 26, 'ĠKavanaugh': 26, 'ĠPruitt': 25, 'ĠMonsanto': 25}\n",
      "ĠLyn {'ĠLilith': 30, 'ĠLily': 26, 'ĠLloyd': 25, 'ĠKrishna': 25, 'ĠPyrrha': 25, 'ĠCullen': 25}\n",
      "ĠMcInt {'ĠMakoto': 28, 'ĠBurr': 27, 'ĠCrosby': 26, 'Liverpool': 26, 'ĠChomsky': 25, 'ĠCaldwell': 25}\n",
      "ĠZack {'ĠJamie': 30, 'Jamie': 30, 'ĠEverton': 28, 'ĠSasuke': 27, 'ĠTsarnaev': 24, 'ĠSanford': 24}\n",
      "ĠJoseph {'ĠPikachu': 28, 'ĠJamie': 27, 'Jamie': 27, 'ĠJedi': 26, 'Pokemon': 25, 'ĠJaune': 24}\n",
      "ĠNeal {'ĠNaruto': 33, 'ĠBundy': 27, 'ĠSasuke': 27, 'ĠHarrington': 25, 'ĠNigel': 25, 'ĠVoldemort': 24}\n",
      "ĠRusty {'ĠTsarnaev': 32, 'ĠBundy': 30, 'ĠDeadpool': 27, 'ĠYosemite': 25, 'ĠPyrrha': 25, 'ĠSpaceX': 25}\n",
      "ĠKubrick {'ĠJenner': 30, 'ĠYosemite': 29, 'ĠSpock': 28, 'ĠKorra': 26, 'ĠGaddafi': 24, 'ĠMakoto': 24}\n",
      "ĠLuxembourg {'ĠMilan': 32, 'Denver': 29, 'Liverpool': 26, 'Toronto': 25, 'ĠDublin': 24, 'ĠDenver': 24}\n",
      "ouston {'Iowa': 30, 'ĠIowa': 27, 'ĠDhabi': 26, 'Alabama': 26, 'ĠArgentine': 26, 'Virginia': 24}\n",
      "ĠLomb {'Liverpool': 28, 'zbollah': 27, 'ĠLuxembourg': 26, 'ĠLiverpool': 25, 'ĠLabyrinth': 25, 'ĠLynn': 25}\n",
      "ĠSher {'ĠSchwartz': 27, 'ĠSaunders': 27, 'Sch': 26, 'ĠSasuke': 26, 'ĠAshton': 25, 'ĠSchw': 25}\n",
      "ĠBangl {'ĠBelfast': 27, 'ĠAuckland': 26, 'ĠYosemite': 26, 'Denver': 26, 'ĠSudan': 26, 'ĠTasmania': 25}\n",
      "ĠMcMahon {'Arsenal': 31, 'ĠWinnipeg': 26, 'Liverpool': 26, 'ĠArsenal': 26, 'ĠKonami': 25, 'ĠAuckland': 24}\n",
      "ĠBrowne {'Graham': 29, 'Alabama': 27, 'Atlanta': 26, 'ĠLeeds': 26, 'ĠCeltics': 25, 'Boston': 25}\n",
      "ĠJolly {'ĠYosemite': 31, 'ĠShinra': 31, 'Liverpool': 25, 'ĠHeidi': 25, 'ĠLeBron': 25, 'ĠLEGO': 24}\n",
      "âĢĶ {'Ġ--': 32, 'ĠâĢĵ': 31, 'âĢĳ': 26, '.âĢĵ': 26, '--': 25, '.--': 25}\n",
      "ĠYiannopoulos {'ĠUkip': 29, 'ĠLibyan': 27, 'ĠNaruto': 27, 'ĠMcCann': 25, 'ĠLibya': 25, 'Pokemon': 24}\n",
      "ĠKham {'ĠMakoto': 33, 'Kansas': 26, 'ĠKerala': 26, 'ĠIowa': 26, 'ĠOklahoma': 24, 'ĠAkron': 24}\n",
      "ĠSacramento {'Colorado': 30, 'ĠColorado': 26, 'ĠPennsylvania': 25, 'ĠEgyptian': 25, 'ĠEgypt': 25, 'ĠMassachusetts': 25}\n",
      "ĠMorocco {'imbabwe': 30, 'ĠIcelandic': 27, 'ĠArgentine': 27, 'ĠZimbabwe': 27, 'ĠIceland': 25, 'ĠOkinawa': 25}\n",
      "ĠLoki {'ĠKentucky': 29, 'ĠPyrrha': 28, 'ĠSweden': 25, 'ĠTennessee': 25, 'ĠJenner': 25, 'ĠKristen': 25}\n",
      "_-_ {'âĢ¢âĢ¢': 31, '___': 31, 'Ġ--': 28, 'âĢĶâĢĶ': 25, 'ĠâĢĶ': 25, 'âĢĶ': 23}\n",
      "ĠYose {'Joshua': 27, 'ĠEcuador': 27, 'ĠSakura': 26, 'amaru': 26, 'ĠEdmonton': 25, 'ĠJonas': 25}\n",
      "ĠSirius {'Pokemon': 31, 'ĠRadeon': 27, 'PokÃ©mon': 27, 'Samsung': 26, 'ĠAlaska': 24, 'ĠYosemite': 24}\n",
      "ĠSlay {'Liverpool': 30, 'ĠEverton': 28, 'ĠLiverpool': 26, 'Sony': 25, 'Pokemon': 24, 'Laura': 24}\n",
      "ĠGMOs {'Pokemon': 38, 'ĠPokemon': 37, 'Ġpokemon': 35, 'okemon': 24, 'ĠPokÃ©mon': 22, 'ĠOdin': 22}\n",
      "ĠDowning {'Minnesota': 28, 'Scotland': 27, 'ĠCincinnati': 26, 'ĠNebraska': 26, 'Liverpool': 26, 'ĠRutgers': 25}\n",
      "ĠBeaver {'ĠWyoming': 27, 'Minnesota': 26, 'Liverpool': 26, 'Wisconsin': 26, 'ortmund': 25, 'ĠNebraska': 25}\n",
      "ĠGallup {'Graham': 29, 'ĠGraham': 29, 'ĠGaga': 27, 'ĠPanasonic': 27, 'ĠYosemite': 25, 'ĠMyanmar': 24}\n",
      "ĠKaf {'ĠHaskell': 28, 'ĠKenny': 27, 'ĠSpock': 27, 'Magikarp': 25, 'ĠFerdinand': 25, 'ĠJinn': 25}\n",
      "ĠKarn {'ĠYosemite': 30, 'ĠIceland': 26, 'ĠNewcastle': 26, 'ĠKorra': 25, 'ĠAlaska': 25, 'ĠIcelandic': 24}\n",
      "ĠLone {'Liverpool': 36, 'ĠLynn': 29, 'ĠLiverpool': 27, 'ĠEverton': 26, 'ĠLucy': 25, 'ĠSHAR': 22}\n",
      "ĠSas {'ĠSapphire': 29, 'ĠSora': 28, 'ĠSirius': 27, 'Scar': 27, 'ĠScarlet': 25, 'ãĤ·ãĥ£': 25}\n",
      "ĠHiggins {'Graham': 31, 'ĠShea': 28, 'ĠGraham': 27, 'ĠDartmouth': 25, 'ĠSheridan': 24, 'ĠJinn': 24}\n",
      "ĠTaliban {'ĠPakistan': 29, 'Pokemon': 28, 'ĠBurma': 26, 'ĠGaza': 26, 'ĠTanzania': 25, 'ĠNaruto': 25}\n",
      "ĠBoone {'ĠBundy': 29, 'ĠVoldemort': 28, 'ĠYosemite': 26, 'ĠFukushima': 26, 'ĠAuckland': 26, 'ĠTsarnaev': 24}\n",
      "ĠBuddy {'ĠBradford': 27, 'ĠUncharted': 26, 'Brad': 26, 'ĠJPMorgan': 26, 'ĠBradley': 26, 'ĠChomsky': 24}\n",
      "ĠBuffalo {'Iowa': 31, 'ĠIowa': 28, 'Boston': 27, 'ĠBowie': 26, 'ĠMilwaukee': 24, 'ĠHastings': 24}\n",
      "ĠSchne {'ĠSpock': 31, 'ĠSomalia': 27, 'ĠSirius': 27, 'ĠSyracuse': 26, 'ĠAlaska': 25, 'ĠFinnish': 24}\n",
      "ĠIdlib {'ĠIceland': 31, 'ĠMyanmar': 28, 'ĠIcelandic': 25, 'imbabwe': 25, 'ĠTunisia': 25, 'ĠAfghan': 24}\n",
      "ĠJon {'ĠOswald': 34, 'ĠJohann': 26, 'ĠJacksonville': 26, 'ĠYosemite': 26, 'ĠPyrrha': 25, 'Jackson': 24}\n",
      "ĠKashmir {'ĠKerala': 28, 'ĠKurdistan': 28, 'ĠKuwait': 26, 'ĠPKK': 25, 'ĠGhana': 25, 'ĠJinn': 24}\n",
      "ĠLebanese {'erala': 29, 'ĠBurma': 28, 'ĠKerala': 27, 'ĠIceland': 26, 'ĠJinn': 25, 'Iowa': 24}\n",
      "ĠNorton {'ĠNaruto': 33, 'Minnesota': 29, 'NetMessage': 26, 'ĠSamoa': 25, 'ĠAlaska': 24, 'PokÃ©mon': 23}\n",
      "ĠGreenwich {'ĠMerkel': 29, 'ĠYosemite': 27, 'Graham': 26, 'ĠIceland': 25, 'ĠHSBC': 24, 'ĠGotham': 24}\n",
      "ĠFraz {'ĠDarth': 28, 'ĠFaust': 27, 'ĠSpock': 27, 'ĠPluto': 25, 'ĠPharaoh': 25, 'ĠFerdinand': 25}\n",
      "ĠEsk {'ĠMakoto': 28, 'ĠOslo': 27, 'ĠSheffield': 26, 'ĠYosemite': 26, 'ĠWeasley': 25, 'ĠYamato': 25}\n",
      "ĠNiger {'ĠHungarian': 28, 'ĠBelarus': 27, 'Brazil': 27, 'ĠYugoslav': 25, 'ĠHungary': 25, 'ĠIceland': 25}\n",
      "ĠFrankfurt {'Iowa': 31, 'ĠIowa': 28, 'ĠHungarian': 26, 'ĠHungary': 26, 'Wisconsin': 26, 'Michigan': 25}\n",
      "ĠTasmania {'Iowa': 29, 'Dallas': 28, 'ĠIowa': 26, 'ĠTulsa': 25, 'Boston': 25, 'ĠMinneapolis': 24}\n",
      "ĠNotting {'ĠOswald': 28, 'Liverpool': 27, 'ĠLynn': 27, 'ĠKuwait': 27, 'ĠLibyan': 26, 'ĠLibya': 23}\n",
      "ĠGalile {'Iowa': 26, 'Minnesota': 26, 'ĠSakura': 26, 'Liverpool': 26, 'Magikarp': 26, 'ĠMakoto': 25}\n",
      "ĠMontana {'ĠTsarnaev': 26, 'ĠMcCann': 26, 'ĠAuckland': 25, 'ĠBrisbane': 25, 'ĠDortmund': 25, 'ĠMoines': 25}\n",
      "ĠStrauss {'ĠSpartan': 32, 'ĠStarfleet': 29, 'ĠBundy': 26, 'ĠBaltic': 25, 'ĠSinclair': 25, 'ĠSpock': 24}\n",
      "ĠJordan {'ĠJinn': 31, 'ĠShinra': 27, 'ĠDaredevil': 25, 'ĠCherokee': 25, 'ĠYamato': 24, 'Dallas': 24}\n",
      "ĠKuh {'ĠMcCoy': 29, 'Karl': 26, 'ĠMakoto': 26, 'ĠBradford': 25, 'Howard': 25, 'ĠKardashian': 24}\n",
      "ĠBrian {'Batman': 29, 'Graham': 28, 'ĠMcGregor': 27, 'ĠBatman': 26, 'ĠBombay': 24, 'ĠTsarnaev': 24}\n",
      "Ġtorped {'ĠTunisia': 29, 'imbabwe': 26, 'ĠMilan': 26, 'ĠPKK': 25, 'ĠTanzania': 25, 'ĠVoldemort': 24}\n",
      "ĠKhan {'ĠKyoto': 29, 'ĠMakoto': 27, 'Karl': 26, 'ĠJinn': 26, 'ĠKuwait': 25, 'ĠOswald': 24}\n",
      "ĠShiv {'Jessica': 28, 'ĠSomalia': 28, 'ĠDavidson': 26, 'Syrian': 25, 'ĠJonas': 24, 'Iowa': 24}\n",
      "ĠOklahoma {'ĠAuckland': 28, 'ĠCincinnati': 27, 'ĠMinneapolis': 27, 'Detroit': 25, 'ĠJacksonville': 25, 'ĠDayton': 24}\n",
      "ĠRee {'Liverpool': 29, 'ĠAlexis': 29, 'ĠRodriguez': 27, 'ĠRochester': 24, 'ĠBrendan': 24, 'Rachel': 24}\n",
      "?!\" {'????': 32, '!!!!': 32, 'Ġ???': 31, '?????': 30, '???': 27, '!!!!!': 24}\n",
      "ĠPles {'ĠSpock': 35, 'zbollah': 27, 'PokÃ©mon': 25, 'ĠPikachu': 25, 'ĠPluto': 24, 'ĠBundy': 23}\n",
      "ĠKidd {'ĠYosemite': 31, 'ĠKrishna': 30, 'Jamie': 25, 'ĠDumbledore': 25, 'ĠDamien': 24, 'ĠSherlock': 24}\n",
      "ĠBerlin {'ĠHungarian': 30, 'ĠArgentine': 27, 'ĠLibyan': 26, 'ĠIcelandic': 25, 'ĠGaddafi': 24, 'ĠBudapest': 24}\n",
      "ĠRita {'ĠALEC': 28, 'ĠPyrrha': 26, 'Rachel': 26, 'ĠRyder': 26, 'ĠTsarnaev': 25, 'ĠKristen': 24}\n",
      "ĠKramer {'Graham': 27, 'Karl': 27, 'ĠKira': 26, 'ĠKlopp': 26, 'ĠWenger': 25, 'Russell': 24}\n",
      "Ġtheir {'Our': 29, 'ĠOur': 28, 'Ġour': 26, 'ĠWe': 26, 'We': 26, 'ĠThe': 25}\n",
      "ĠKurd {'ĠKenya': 27, 'ĠKosovo': 26, 'Saudi': 25, 'ĠKenyan': 25, 'ĠHungary': 25, 'ĠIceland': 25}\n",
      "ĠBeirut {'ĠRohingya': 27, 'ĠBurma': 27, 'ĠYugoslav': 25, 'Alabama': 25, 'ĠTasmania': 25, 'ĠLibyan': 24}\n",
      "ĠHawaiian {'ĠHalifax': 35, 'ĠAuckland': 28, 'Iowa': 25, 'ĠIceland': 24, 'ĠBelfast': 24, 'ĠYosemite': 23}\n",
      "ĠZurich {'ĠFinland': 27, 'ĠShinra': 26, 'ĠFinnish': 26, 'ĠHawaiian': 25, 'ĠHungarian': 25, 'ĠFukushima': 25}\n",
      "ĠKhe {'ĠKuwait': 30, 'ĠKazakhstan': 26, 'ĠMyanmar': 25, 'Houston': 25, 'ĠKarachi': 25, 'ĠKazakh': 24}\n",
      "ĠJack {'ĠJamie': 29, 'Jamie': 29, 'PokÃ©mon': 26, 'ĠKrishna': 26, 'ĠJonas': 25, 'Brad': 24}\n",
      "ĠZup {'ĠHerod': 27, 'Utah': 26, 'ĠPharaoh': 26, 'ĠSirius': 25, 'Karl': 25, 'ĠUtah': 25}\n",
      "ĠKoch {'ĠKinnikuman': 28, 'Scar': 27, 'ĠCanter': 27, 'Kansas': 26, 'Tesla': 24, 'ĠYosemite': 23}\n",
      "ĠSpencer {'ĠSpock': 26, 'ĠSagan': 26, 'ĠSanford': 26, 'ĠSasuke': 26, 'ĠSapphire': 25, 'ĠSaul': 25}\n",
      "ĠHamp {'Howard': 34, 'Graham': 28, 'ĠHoward': 27, 'Emily': 25, 'ĠHSBC': 24, 'ĠYamaha': 23}\n",
      "ĠPodesta {'ĠPKK': 29, 'ĠTasmania': 26, 'ĠGaddafi': 26, 'ĠRomania': 25, 'ĠTunisia': 24, 'ottenham': 24}\n",
      "ĠByz {'ĠBelarus': 31, 'ĠYugoslav': 28, 'ĠTolkien': 26, 'ĠMilan': 24, 'ĠTsarnaev': 24, 'ĠLithuania': 23}\n",
      "Thom {'ĠYamato': 29, 'Terry': 28, 'ĠMakoto': 26, 'ĠNaruto': 25, 'ĠTerry': 24, 'ĠTrayvon': 24}\n",
      "ĠArabian {'Iraq': 30, 'Egypt': 27, 'Pakistan': 26, 'Iran': 26, 'ĠPakistan': 25, 'ĠEgypt': 24}\n",
      "ĠTul {'ĠLuffy': 26, 'ĠLucius': 26, 'ĠMakoto': 26, 'ĠHugh': 26, 'Terry': 26, 'ĠVoldemort': 24}\n",
      "ĠBethesda {'ĠSpock': 29, 'ĠBaltic': 28, 'Arsenal': 26, 'ĠTanzania': 25, 'ĠBundy': 25, 'ĠTruman': 24}\n",
      "ĠBerkeley {'ĠAuckland': 31, 'Abyss': 26, 'ĠIceland': 25, 'ĠWinnipeg': 25, 'ĠWichita': 24, 'ĠCalgary': 24}\n",
      "ĠCleveland {'Iowa': 27, 'ĠCornwall': 27, 'ĠIowa': 26, 'ĠArkansas': 26, 'ĠDartmouth': 25, 'Florida': 25}\n",
      "ĠSah {'ĠSomalia': 35, 'ĠSaudi': 27, 'ĠYemeni': 27, 'Saudi': 25, 'ĠScandinavian': 24, 'ĠSomali': 23}\n",
      "ĠRuth {'ĠMcGregor': 29, 'ĠALEC': 26, 'ĠBundy': 25, 'ĠRory': 25, 'ĠRonaldo': 24, 'ĠWeasley': 24}\n",
      "ĠPerth {'ĠTasmania': 29, 'Boston': 26, 'ĠAuckland': 25, 'ĠAlaska': 25, 'ĠYosemite': 24, 'ĠMilwaukee': 24}\n",
      "ĠHammond {'ĠAuckland': 28, 'ĠDayton': 27, 'ĠSunderland': 26, 'Liverpool': 24, 'ĠHalifax': 24, 'Michigan': 24}\n",
      "ĠSydney {'ĠYamato': 27, 'Minnesota': 26, 'Alabama': 25, 'Boston': 25, 'ĠAlaska': 25, 'Iowa': 25}\n",
      "ĠSaud {'ĠIcelandic': 27, 'ĠYosemite': 27, 'ĠStarbucks': 25, 'ĠYugoslav': 25, 'ĠYugoslavia': 24, 'ĠSasuke': 24}\n",
      "ĠBrock {'Minnesota': 29, 'ĠSpock': 27, 'Alabama': 27, 'Brad': 24, 'ĠArkansas': 24, 'Colorado': 23}\n",
      "ĠKlu {'ĠLucy': 28, 'Lewis': 26, 'Graham': 26, 'ĠIowa': 26, 'ĠHayden': 26, 'ĠKristen': 25}\n",
      "ĠPesh {'ĠSnowden': 27, 'ĠSasuke': 26, 'Iowa': 26, 'Texas': 25, 'ĠTsarnaev': 25, 'ĠBihar': 25}\n",
      "Ġ292 {'Ġ389': 27, 'Ġ390': 26, 'Ġ388': 25, 'Ġ331': 25, 'Ġ396': 25, 'Ġ386': 25}\n",
      "ĠTyph {'PokÃ©mon': 30, 'ĠYosemite': 26, 'ĠZhu': 25, 'ĠNaruto': 25, 'ĠSirius': 25, 'ĠIchigo': 24}\n",
      "Ġ323 {'Ġ333': 27, 'Ġ331': 27, 'Ġ233': 26, 'Ġ337': 25, 'Ġ433': 24, 'Ġ318': 24}\n",
      "ĠLynd {'ĠSirius': 38, 'ĠDayton': 27, 'Liverpool': 25, 'ĠLarson': 24, 'ĠLibya': 23, 'ĠLydia': 22}\n",
      "ĠSheila {'ĠYanuk': 28, 'ĠHancock': 27, 'ĠThiel': 26, 'ĠSapphire': 24, 'ĠOswald': 24, 'ĠBecky': 24}\n",
      "ĠErit {'ĠErica': 27, 'ĠTunisia': 26, 'ĠYugoslav': 25, 'ĠBelarus': 25, 'ĠIcelandic': 25, 'ĠRomania': 24}\n",
      "ĠÂ {'âĢĶâĢĶ': 31, 'Ġ--': 27, 'âĢĶâĢĶâĢĶâĢĶ': 27, 'âĢĶ': 25, 'ĠâĢĶ': 25, 'ï¿½ï¿½ï¿½': 24}\n",
      "ĠKorra {'Liverpool': 30, 'ĠArsenal': 30, 'Arsenal': 29, 'ĠKentucky': 24, 'ĠKuwait': 24, 'ĠLiverpool': 23}\n",
      "ĠZig {'ĠShinra': 31, 'ĠZoro': 29, 'ĠYosemite': 28, 'ĠZhu': 24, 'ĠPharaoh': 24, 'ĠIchigo': 24}\n",
      "ĠJustin {'ĠCherokee': 29, 'ĠJamie': 26, 'Jamie': 25, 'ĠKinnikuman': 25, 'ĠTsarnaev': 25, 'ĠWeasley': 24}\n",
      "ĠNeh {'utherford': 28, 'negie': 27, 'ĠShinra': 25, 'Syrian': 24, 'ĠKazakhstan': 24, 'ĠAuckland': 24}\n",
      "ĠKrishna {'Karl': 29, 'ĠShinra': 27, 'ĠKerala': 26, 'ĠKarl': 25, 'ĠIceland': 24, 'ĠPyrrha': 24}\n",
      "ĠCeltic {'ĠIceland': 31, 'ĠIcelandic': 31, 'ĠHungarian': 24, 'ĠCanberra': 24, 'ĠBrazil': 24, 'ĠHungary': 23}\n",
      "Ġ7000 {'Ġ1600': 27, 'Ġ1700': 27, 'Ġ1050': 26, 'ĠEverton': 25, 'Ġ980': 25, 'Ġ750': 24}\n",
      "âĢķ {'âĢĶâĢĶ': 32, 'ĠâĢĵ': 29, 'ï¿½ï¿½ï¿½': 28, 'âĢ¢âĢ¢': 26, 'âĢĶâĢĶâĢĶâĢĶ': 25, 'Ġ--': 24}\n",
      "ĠWhe {'Houston': 29, 'ĠBowie': 28, 'ĠWolfgang': 27, 'ĠHouston': 24, 'ĠOwl': 24, 'ĠMilwaukee': 24}\n",
      "Ġ261 {'Ġ333': 27, 'Ġ321': 26, 'Ġ319': 26, 'Ġ331': 25, 'Ġ329': 25, 'Ġ322': 25}\n",
      "ĠJohnston {'ĠJacksonville': 35, 'Liverpool': 27, 'ĠArkansas': 26, 'Graham': 24, 'Howard': 24, 'ĠShawn': 24}\n",
      "ĠSax {'ĠSirius': 32, 'ĠYosemite': 27, 'ĠSantiago': 27, 'ĠCopenhagen': 25, 'ĠRipple': 24, 'ĠAuckland': 23}\n",
      "ĠHercules {'ĠFenrir': 27, 'ĠAkron': 27, 'ĠThiel': 26, 'ĠAbyssal': 26, 'ĠHarrington': 24, 'ĠShinji': 24}\n",
      "ĠShogun {'ĠKuwait': 28, 'ĠKashmir': 27, 'ĠBaylor': 26, 'ĠYosemite': 26, 'ĠOklahoma': 24, 'ĠKarachi': 23}\n",
      "ĠYugoslav {'ĠIcelandic': 29, 'ĠIceland': 29, 'ĠBaltic': 27, 'ĠOslo': 26, 'ĠKosovo': 25, 'ĠPyrrha': 23}\n",
      "ĠLal {'Liverpool': 31, 'Lewis': 30, 'ĠALEC': 26, 'ĠLucius': 25, 'ĠLewis': 23, 'ĠLiverpool': 23}\n",
      "ĠCatal {'ĠBrazil': 29, 'Italy': 26, 'agascar': 26, 'ĠYugoslavia': 25, 'ĠArgentine': 25, 'Brazil': 24}\n",
      "ĠKentucky {'ĠIowa': 27, 'ĠKerala': 26, 'ĠBrisbane': 26, 'ĠYosemite': 25, 'Iowa': 25, 'ĠDetroit': 24}\n",
      "ĠYanukovych {'ĠBrazil': 33, 'Brazil': 26, 'ĠNASCAR': 24, 'ĠAkron': 24, 'ĠBundy': 24, 'ĠIceland': 24}\n",
      "ĠMadd {'Liverpool': 29, 'Michigan': 27, 'ĠMaryland': 26, 'Alabama': 24, 'Minnesota': 24, 'ĠMichigan': 24}\n",
      "ĠRouse {'ĠBundy': 32, 'ĠRudd': 27, 'ĠWeasley': 26, 'ĠRyder': 25, 'ĠFrog': 24, 'Liverpool': 24}\n",
      "ĠSlov {'Liverpool': 29, 'ĠWarsaw': 27, 'ĠOslo': 26, 'ĠYugoslav': 26, 'ĠNorway': 24, 'ĠLatvia': 23}\n",
      "ĠKush {'ĠKrishna': 27, 'ĠGaddafi': 27, 'ĠKinnikuman': 26, 'ĠStarbucks': 25, 'ĠKira': 25, 'ĠSpock': 24}\n",
      "ĠKabul {'ĠKuwait': 28, 'ĠBelarus': 27, 'ĠMyanmar': 27, 'zbollah': 26, 'Syrian': 24, 'ĠPKK': 24}\n",
      "ĠSharon {'Jamie': 27, 'ĠIceland': 26, 'ĠIcelandic': 25, 'ĠJamie': 25, 'ĠSasha': 24, 'ĠTsarnaev': 24}\n",
      "ĠBhar {'Albert': 27, 'ĠBradford': 27, 'ĠBahrain': 25, 'ĠAuckland': 25, 'ĠKuwait': 24, 'ĠYosemite': 24}\n",
      "ĠAzerb {'ĠBundy': 28, 'ĠAlaska': 27, 'ĠDhabi': 26, 'ĠChad': 25, 'ĠSirius': 24, 'ĠSudan': 24}\n",
      "Ġ.......... {'âĢ¦\"': 34, 'âĢ¦': 32, '.............': 24, ')...': 24, 'âĢ¦)': 24, '...': 23}\n",
      "Ġ808 {'Ġ780': 27, 'Ġ390': 27, 'Ġ392': 26, 'Ġ408': 25, 'Ġ820': 24, 'Ġ114': 24}\n",
      "ĠGord {'Graham': 29, 'ĠHarrington': 27, 'ĠGraham': 26, 'Liverpool': 26, 'ĠEverton': 24, 'ĠRodriguez': 24}\n",
      "ĠNing {'ĠYosemite': 27, 'ĠMyanmar': 26, 'ĠKorra': 25, 'Pokemon': 25, 'ĠPyrrha': 25, 'PokÃ©mon': 24}\n",
      "ĠWinnipeg {'ĠIowa': 29, 'Iowa': 28, 'ĠJacksonville': 25, 'ĠWichita': 24, 'Wisconsin': 24, 'Boston': 24}\n",
      "ĠIndones {'ĠIceland': 31, 'ĠIcelandic': 30, 'ĠOkinawa': 30, 'ĠYosemite': 25, 'ĠManila': 24, 'ĠKerala': 22}\n",
      "ĠLaurel {'Liverpool': 27, 'ĠLennon': 26, 'ĠAlonso': 25, 'ĠLarson': 25, 'ĠAuckland': 25, 'ĠShinra': 24}\n",
      "ĠRagnar {'ĠBrazil': 32, 'Brazil': 30, 'ĠLatvia': 25, 'ĠMilan': 24, 'ĠSpock': 23, 'ĠGaddafi': 23}\n",
      "ĠLaksh {'ĠLibyan': 28, 'ĠKuwait': 27, 'Karl': 27, 'ĠLibya': 26, 'Liverpool': 26, 'Jamie': 23}\n",
      "ĠTom {'ĠTrayvon': 32, 'ĠTsarnaev': 26, 'ĠTommy': 26, 'ĠWeasley': 24, 'Pokemon': 23, 'ĠSnape': 23}\n",
      "ĠKuro {'ĠOswald': 31, 'ĠYosemite': 27, 'ĠKuwait': 26, 'ĠYugoslavia': 25, 'ĠSapphire': 24, 'ĠKira': 23}\n",
      "ĠOrwell {'ĠEdmund': 31, 'ĠOswald': 27, 'Ġ1902': 27, 'Ġ1910': 25, 'ĠYosemite': 23, 'Ġ1904': 23}\n",
      "ĠâĢķ {'âĢĶâĢĶ': 37, 'âĢĶ': 29, '--': 26, 'âĢĶ\"': 25, 'âĢĶâĢĶâĢĶâĢĶ': 22, 'Ġ\"': 22}\n",
      "ĠSting {'ĠYosemite': 27, 'ĠSpock': 26, 'ĠMurdoch': 26, 'ĠSasuke': 25, 'ĠTwain': 24, 'ĠBundy': 24}\n",
      "ĠSidd {'ĠYugoslavia': 30, 'ĠSirius': 26, 'ĠSasuke': 26, 'ĠSpock': 26, 'ĠSora': 26, 'ĠXiaomi': 25}\n",
      "ĠChuck {'ĠBrisbane': 28, 'ĠAsheville': 26, 'Batman': 25, 'Liverpool': 25, 'ĠPistons': 24, 'ĠBungie': 24}\n",
      "ĠBaltic {'ĠIcelandic': 27, 'ĠIceland': 26, 'ĠSwitzerland': 26, 'ĠFinland': 25, 'zbollah': 25, 'ĠFinnish': 24}\n",
      "ĠMcCull {'ĠChao': 29, 'ĠChomsky': 26, 'ĠCohn': 26, 'ĠCrosby': 24, 'ĠPluto': 24, 'ĠRochester': 23}\n",
      "ĠPhoenix {'Iowa': 28, 'ĠPyrrha': 26, 'ĠHanna': 25, 'ĠPapua': 24, 'ĠSaddam': 24, 'ĠTasmania': 24}\n",
      "ĠYugoslavia {'ĠBaltic': 30, 'ĠIcelandic': 29, 'ĠIceland': 28, 'ĠShinra': 26, 'ĠTrotsky': 23, 'ĠPyrrha': 23}\n",
      "ĠStoke {'ĠPittsburgh': 30, 'Boston': 25, 'sburgh': 25, 'Houston': 25, 'ĠSpock': 25, 'Wisconsin': 24}\n",
      "ĠSind {'ĠSirius': 27, 'ĠIsaac': 26, 'ĠJonas': 25, 'ĠXiang': 25, 'ĠSasuke': 25, 'ĠShinra': 24}\n",
      "ĠBritann {'ĠBrisbane': 28, 'ĠIowa': 25, 'ĠBrazil': 25, 'ĠAuckland': 25, 'ĠBaltic': 24, 'ĠGujarat': 24}\n",
      "ĠMLG {'ĠPokemon': 30, 'Pokemon': 28, 'ĠYosemite': 26, 'Ġpokemon': 25, 'ĠKlopp': 24, 'ĠMMA': 23}\n",
      "ĠShank {'ĠHayden': 28, 'ĠSchwartz': 26, 'ĠStarcraft': 25, 'ĠSheffield': 25, 'ĠSergei': 24, 'ĠSasuke': 24}\n",
      "ĠLeban {'Liverpool': 30, 'ĠEverton': 25, 'ĠKuwait': 25, 'ĠLeeds': 24, 'anyahu': 24, 'akeru': 24}\n",
      "ĠHannity {'ĠHirosh': 27, 'Howard': 26, 'ĠShinra': 25, 'ĠYosemite': 25, 'Boston': 24, 'ĠSherlock': 24}\n",
      "ĠZed {'ĠVoldemort': 28, 'PokÃ©mon': 26, 'ĠJaune': 25, 'ĠPyrrha': 24, 'ĠTsarnaev': 24, 'ĠSirius': 24}\n",
      "ĠEuph {'ĠEmmanuel': 27, 'ĠDhabi': 27, 'ĠHebdo': 26, 'ĠHawaiian': 24, 'ĠEmerson': 24, 'ĠEthiopia': 24}\n",
      "ĠSloan {'Sony': 27, 'Samsung': 27, 'Liverpool': 25, 'ĠArkansas': 24, 'ĠSouthampton': 24, 'Simon': 24}\n",
      "ĠLug {'ĠLeBron': 26, 'ĠLyons': 26, 'ĠPluto': 25, 'Graham': 25, 'ĠMcGregor': 25, 'ĠLibya': 24}\n",
      "ĠAlban {'ĠDhabi': 30, 'ĠAlgeria': 26, 'zbollah': 25, 'ĠBrazil': 24, 'ĠIceland': 24, 'ĠArgentina': 24}\n",
      "âĢĶ\" {'Ġ--': 30, 'ĠâĢķ': 29, 'ĠâĢĵ': 29, '--': 23, 'âĢĶâĢĶ': 23, 'ĠâĢĶ': 23}\n",
      "ĠShia {'ĠSomalia': 30, 'Syrian': 28, 'ĠMorocco': 25, 'ĠMoroccan': 25, 'ĠYugoslav': 24, 'ĠSahara': 23}\n",
      "ĠGron {'Virginia': 29, 'Alabama': 29, 'ĠGriffith': 25, 'Iowa': 25, 'ĠIowa': 24, 'Lewis': 23}\n",
      "ĠHawai {'ĠYosemite': 30, 'ĠHalifax': 30, 'Houston': 26, 'ĠHod': 24, 'ĠAuckland': 24, 'ĠIceland': 23}\n",
      "ĠGeh {'Pokemon': 27, 'Graham': 26, 'Magikarp': 26, 'ĠGHC': 24, 'ĠGuerrero': 24, 'ĠHaskell': 24}\n",
      "ĠTob {'ĠWeasley': 26, 'ĠMakoto': 26, 'ĠYamato': 25, 'ĠEverton': 24, 'ĠSpock': 24, 'ĠKinnikuman': 24}\n",
      "ĠNelson {'ĠOswald': 31, 'ĠMakoto': 28, 'ĠPyrrha': 26, 'ĠNeville': 24, 'ĠDayton': 24, 'ĠStephens': 23}\n",
      "ĠIndiana {'ĠIceland': 28, 'ĠAuckland': 27, 'ĠJacksonville': 27, 'ĠIcelandic': 26, 'Iowa': 24, 'Atlanta': 22}\n",
      "ĠBaltimore {'ĠDayton': 27, 'Alabama': 26, 'Austin': 25, 'Boston': 25, 'ĠAustin': 25, 'ĠArkansas': 23}\n",
      "ĠWick {'ĠSkinner': 32, 'ĠYugoslavia': 24, 'ĠYanuk': 24, 'ĠWeston': 24, 'Minnesota': 24, 'ĠWallace': 23}\n",
      "ĠSwitzerland {'ĠIcelandic': 29, 'ĠBudapest': 28, 'ĠTsarnaev': 27, 'ĠWichita': 24, 'ĠIceland': 23, 'ĠVienna': 23}\n",
      "ĠPennsylvania {'ĠAuckland': 28, 'ĠBrisbane': 27, 'ĠWinnipeg': 26, 'Iowa': 25, 'ĠPerth': 24, 'ĠMelbourne': 24}\n",
      "ĠBrigham {'Alabama': 26, 'Minnesota': 25, 'Jamie': 25, 'Wisconsin': 25, 'ĠYemeni': 24, 'ĠAuckland': 24}\n",
      "ĠYosh {'ĠPharaoh': 27, 'Karl': 27, 'ĠShinra': 26, 'ĠKira': 26, 'ĠYosemite': 24, 'ĠEverton': 23}\n",
      "ĠChatt {'ĠCrosby': 29, 'ĠHSBC': 26, 'ĠBradford': 25, 'ĠBundy': 25, 'Harry': 25, 'ĠHarry': 23}\n",
      "ĠBarcl {'ĠBundy': 35, 'Austin': 25, 'ĠBruno': 25, 'ĠGaddafi': 25, 'ĠBradford': 24, 'ĠSacramento': 22}\n",
      "ĠDwight {'ĠDurham': 30, 'ĠIrvine': 29, 'ĠHalifax': 25, 'ĠEdmund': 23, 'ĠDayton': 23, 'ĠBradford': 23}\n",
      "Ġ432 {'Ġ312': 26, 'Ġ416': 26, 'Ġ316': 26, 'Ġ353': 24, 'Ġ560': 24, 'Ġ313': 24}\n",
      "ĠPhant {'ĠSpock': 35, 'ĠHannibal': 25, 'PokÃ©mon': 25, 'ĠSirius': 24, 'ĠHermione': 24, 'aepernick': 23}\n",
      "ĠUkraine {'ĠYugoslav': 28, 'ĠYugoslavia': 26, 'Iowa': 25, 'ĠIowa': 25, 'ĠKyoto': 24, 'Houston': 24}\n",
      "ĠVenom {'ĠVoldemort': 28, 'ĠDarth': 27, 'ĠVader': 26, 'ĠSaddam': 25, 'ĠGundam': 24, 'ĠGaddafi': 23}\n",
      "ĠKathryn {'ĠMakoto': 29, 'ĠYamato': 27, 'ĠPyrrha': 25, 'ĠAkron': 24, 'ĠNaruto': 24, 'Samsung': 24}\n",
      "ĠPegasus {'PokÃ©mon': 27, 'ĠWitcher': 26, 'ĠStarcraft': 25, 'ĠGhostbusters': 24, 'ĠOptimus': 24, 'Pokemon': 23}\n",
      "ĠBarth {'Graham': 27, 'ĠTsarnaev': 26, 'ĠBundy': 25, 'ĠBuffalo': 25, 'ĠBacon': 25, 'ĠMinotaur': 25}\n",
      "ĠChaff {'zbollah': 26, 'ĠJPMorgan': 25, 'ĠChallenger': 25, 'ĠSasuke': 25, 'ĠScythe': 25, 'ĠMakoto': 24}\n",
      "Nusra {'ĠPKK': 27, 'ĠRwanda': 26, 'Syrian': 26, 'ĠKurdistan': 25, 'ĠBelarus': 25, 'zbollah': 24}\n",
      "ĠMaryland {'Dallas': 31, 'ĠDallas': 25, 'ĠAuckland': 25, 'ĠDetroit': 24, 'Detroit': 24, 'ĠDayton': 23}\n",
      "âĢ¦ {'Ġ......': 31, 'Ġ....': 27, '........': 26, '.....': 24, '......': 24, 'âĢ¦âĢ¦': 24}\n",
      "ĠBrighton {'Minnesota': 29, 'ĠDayton': 28, 'Denver': 24, 'Graham': 24, 'Atlanta': 24, 'Baltimore': 24}\n",
      "ĠMissouri {'Seattle': 27, 'Miami': 25, 'ĠMinneapolis': 25, 'ĠJacksonville': 25, 'ĠBelfast': 24, 'Dallas': 24}\n",
      "ĠSimpson {'ĠPetr': 27, 'ĠShinra': 26, 'ĠJudah': 26, 'ĠStephens': 25, 'ĠConnie': 24, 'ĠSophia': 24}\n",
      "ĠHouston {'ĠDamien': 26, 'ĠEverton': 25, 'ĠBrisbane': 25, 'ĠThames': 25, 'ĠHalifax': 24, 'Jamie': 24}\n",
      "Ġsled {'ĠIceland': 29, 'ĠIcelandic': 28, 'ĠSpeedway': 26, 'ĠWichita': 25, 'ĠHearthstone': 24, 'ĠSunderland': 23}\n",
      "Ġmosqu {'ĠMyanmar': 27, 'ĠSith': 26, 'ĠBurma': 26, 'ãģ®éŃĶ': 25, 'Iran': 25, 'ĠTsarnaev': 24}\n",
      "ĠSanford {'ĠUncharted': 27, 'ĠSamoa': 26, 'ĠDamian': 26, 'ĠDamien': 26, 'ĠFenrir': 25, 'ĠDaytona': 24}\n",
      "ĠStockholm {'Brazil': 26, 'ĠYugoslavia': 26, 'ĠBrazil': 25, 'Liverpool': 25, 'Boston': 25, 'ĠYugoslav': 24}\n",
      "ĠKirst {'ĠKendall': 30, 'ĠKira': 26, 'Liverpool': 25, 'ĠLennon': 24, 'Karl': 24, 'ĠLucy': 23}\n",
      "ĠCork {'ĠIowa': 28, 'Iowa': 28, 'Houston': 25, 'Kansas': 24, 'Michigan': 24, 'Austin': 23}\n",
      "ĠCincinnati {'ĠIowa': 29, 'Iowa': 29, 'ĠTsarnaev': 28, 'ĠDamien': 24, 'ĠMassachusetts': 24, 'ĠGujarat': 23}\n",
      "Ġ?) {'???': 28, '?': 28, ')?': 28, 'Ġ)))': 25, 'Ġ???': 25, '????': 23}\n",
      "ĠAlic {'ĠLucius': 27, 'ĠAlexis': 27, 'Alexander': 27, 'ĠALEC': 26, 'ĠAmelia': 26, 'ĠStarbucks': 25}\n",
      "ĠLexington {'Minnesota': 28, 'Liverpool': 27, 'ĠMarcel': 25, 'ĠMaine': 24, 'ĠTasmania': 24, 'ĠMakoto': 24}\n",
      "ĠCanberra {'ĠAuckland': 30, 'ĠIowa': 28, 'Iowa': 27, 'ĠAlaska': 26, 'Wisconsin': 23, 'Michigan': 23}\n",
      "ĠBoh {'Houston': 27, 'Boston': 25, 'ĠBradford': 24, 'ĠDayton': 24, 'Iowa': 24, 'ĠJPMorgan': 24}\n",
      "ĠPharaoh {'ĠIceland': 27, 'ĠChennai': 26, 'Pokemon': 25, 'ĠOkinawa': 24, 'ĠIcelandic': 24, 'ĠGoku': 23}\n",
      "ĠNiagara {'ĠKuwait': 27, 'ĠIceland': 27, 'ĠAuckland': 25, 'ĠAlaska': 25, 'ĠEdmonton': 24, 'ĠScandinavian': 23}\n",
      "ĠWhitman {'ĠHutchinson': 28, 'ĠTasmania': 26, 'ĠTasman': 26, 'ĠEverton': 25, 'ĠMurdoch': 24, 'ĠTottenham': 23}\n",
      "ĠIbrahim {'ĠPakistan': 29, 'Pakistan': 27, 'Iraq': 26, 'ĠHiroshima': 24, 'ĠAfghan': 23, 'ĠIraqi': 23}\n",
      "ĠMaurit {'ĠMilan': 26, 'ĠPeru': 25, 'ĠLima': 25, 'ĠLucia': 25, 'ĠMosul': 24, 'ĠHungarian': 24}\n",
      "ĠBlitz {'Liverpool': 30, 'Miami': 25, 'ĠWichita': 25, 'ĠByron': 24, 'Boston': 24, 'Arsenal': 23}\n",
      "ĠKlingon {'ĠFenrir': 31, 'ĠKuwait': 25, 'ĠYanuk': 24, 'ĠPKK': 24, 'ĠShinra': 24, 'ĠBurma': 23}\n",
      "ĠScandinavian {'ĠIcelandic': 32, 'ĠIceland': 31, 'ĠShinra': 24, 'ĠYugoslav': 23, 'Brazil': 22, 'ĠBrazil': 22}\n",
      "ĠYog {'ĠYamato': 31, 'ĠYosemite': 26, 'ĠWarhammer': 25, 'Pokemon': 24, 'ĠIchigo': 23, 'ãĥĺãĥ©': 23}\n",
      "ĠBing {'ĠRothschild': 27, 'ĠBundy': 26, 'ĠArkham': 26, 'ĠKinnikuman': 24, 'ĠBruno': 24, 'ĠIchigo': 24}\n",
      "ĠSandy {'ĠYosemite': 28, 'Samsung': 26, 'ĠSasuke': 25, 'ĠSamantha': 25, 'ĠYamato': 24, 'Dallas': 24}\n",
      "ĠVanderbilt {'Dallas': 27, 'Denver': 27, 'ĠAuckland': 24, 'ĠDayton': 24, 'ĠShinra': 23, 'ĠDevon': 23}\n",
      "ĠShea {'ĠShinra': 29, 'ĠYosemite': 29, 'ĠSapphire': 24, 'ĠHannah': 24, 'Pokemon': 24, 'ĠSasuke': 23}\n",
      "ĠBarr {'ĠBelarus': 28, 'ĠAbram': 26, 'Albert': 25, 'Wisconsin': 25, 'ĠRutgers': 25, 'ĠBristol': 23}\n",
      "ĠJefferson {'ĠArkansas': 28, 'ĠAustin': 25, 'ĠHarrington': 25, 'Austin': 24, 'ĠGrassley': 24, 'ĠDavidson': 24}\n",
      "ĠAustria {'ĠIcelandic': 29, 'Atlanta': 28, 'ĠIceland': 25, 'ĠScandinavian': 25, 'ĠBaltic': 25, 'ĠArgentine': 23}\n",
      "ĠCoinbase {'Arsenal': 27, 'Minecraft': 27, 'Liverpool': 25, 'ĠMonsanto': 24, 'ĠKurdistan': 23, 'ĠLennon': 23}\n",
      "Ġ232 {'Ġ312': 27, 'Ġ333': 26, 'Ġ322': 24, 'Ġ336': 24, 'Ġ318': 24, 'Ġ316': 24}\n",
      "ĠAkron {'ĠAlaska': 29, 'ĠEdmonton': 27, 'ĠAuckland': 27, 'ĠArgentine': 23, 'ĠLibya': 23, 'ĠBaltic': 23}\n",
      "-\" {'âĪĴ': 29, '\"âĢĶ': 28, 'ĠâĪĴ': 27, 'âĢĶ': 26, ')âĢĶ': 24, 'ĠâĢĶ': 23}\n",
      "ĠToronto {'ĠTasmania': 28, 'ĠMassachusetts': 25, 'ĠMoines': 24, 'ĠTsarnaev': 24, 'ĠBrisbane': 24, 'Iowa': 23}\n",
      "ĠMalays {'ĠMyanmar': 27, 'ĠIceland': 26, 'ĠBurma': 24, 'Alabama': 24, 'ĠLibyan': 24, 'Turkey': 23}\n",
      "ĠGotham {'ĠYosemite': 27, 'Houston': 26, 'Boston': 26, 'Liverpool': 25, 'ĠHouston': 24, 'Chicago': 24}\n",
      "ĠTeg {'ĠMakoto': 29, 'ĠTakeru': 26, 'ĠWeasley': 25, 'Terry': 25, 'Minnesota': 24, 'Georgia': 23}\n",
      "Ġ332 {'Ġ312': 28, 'Ġ272': 25, 'Ġ412': 25, 'Ġ314': 24, 'Ġ303': 24, 'Ġ304': 24}\n",
      "ĠBosh {'ĠSacramento': 27, 'ĠBundy': 26, 'ĠBruno': 26, 'ĠBerkeley': 25, 'ĠCyrus': 24, 'Boston': 24}\n",
      "ĠJane {'Jamie': 28, 'Jessica': 25, 'ĠJamie': 25, 'ĠPyrrha': 25, 'Jenn': 24, 'ĠMurdoch': 24}\n",
      "ĠKatherine {'Kate': 29, 'Karl': 26, 'ĠKatie': 26, 'ĠMakoto': 25, 'ĠKarl': 24, 'ĠTrayvon': 23}\n",
      "ĠLisbon {'ĠCzech': 28, 'Italy': 28, 'ĠBrazil': 26, 'ĠItaly': 26, 'ĠFinland': 24, 'ĠCatalonia': 23}\n",
      "Ġ132 {'Ġ303': 28, 'Ġ316': 26, 'Ġ323': 24, 'Ġ304': 24, 'Ġ318': 24, 'Ġ322': 23}\n",
      "ĠTodd {'ĠToledo': 25, 'ĠKnicks': 25, 'PokÃ©mon': 25, 'ĠCowboy': 24, 'ĠTheodore': 24, 'ĠNaruto': 24}\n",
      "ĠKasich {'Denver': 28, 'Syrian': 25, 'Brandon': 24, 'ĠKerala': 24, 'Iowa': 24, 'atchewan': 23}\n",
      "ĠTurks {'ĠIceland': 27, 'ĠHungarian': 26, 'ĠIcelandic': 25, 'ĠHungary': 24, 'ĠTanzania': 23, 'ĠKosovo': 23}\n",
      "ĠBarney {'ĠTsarnaev': 30, 'ĠBundy': 26, 'ĠBuffett': 25, 'ĠBerkshire': 25, 'ĠRyzen': 23, 'ĠBaylor': 23}\n",
      "ĠFranÃ§ {'Italy': 28, 'Brazil': 27, 'Florida': 26, 'Liverpool': 26, 'ĠBrazil': 26, 'ĠItaly': 22}\n",
      "ĠNoah {'ĠYosemite': 29, 'ĠGhostbusters': 26, 'Pokemon': 26, 'ĠUFOs': 25, 'ĠSkywalker': 24, 'ĠSirius': 23}\n",
      "ĠHirosh {'ĠIceland': 29, 'Iowa': 28, 'ĠIowa': 27, 'ĠEdmonton': 24, 'ĠHermes': 23, 'ĠAlaska': 23}\n",
      "ĠBryce {'Seattle': 26, 'ĠBosh': 25, 'ĠBrisbane': 25, 'ĠBombay': 25, 'ĠJPMorgan': 24, 'Dallas': 24}\n",
      "Ġshe {'He': 28, 'ĠHis': 28, 'ĠHe': 28, 'His': 27, 'Ġhis': 25, 'ĠHIS': 23}\n",
      "Ġgrizz {'ĠRohingya': 28, 'ĠBradford': 26, 'Graham': 24, 'ĠBaltic': 24, 'ĠHaskell': 24, 'ĠHungarian': 24}\n",
      "ĠPist {'ĠSpock': 29, 'Pokemon': 26, 'ĠSnape': 24, 'ĠSpears': 24, 'ĠSapphire': 23, 'ĠPavel': 23}\n",
      "ĠMontreal {'Iowa': 31, 'ĠIowa': 27, 'ortmund': 25, 'ĠManila': 23, 'ĠAuckland': 23, 'Colorado': 22}\n",
      "ĠPeggy {'ĠGaga': 31, 'ĠKlopp': 24, 'Liverpool': 24, 'PokÃ©mon': 23, 'ĠPearce': 23, 'Pokemon': 23}\n",
      "ĠHeidi {'ĠYosemite': 28, 'ĠIceland': 27, 'ĠGhostbusters': 26, 'ĠHiroshima': 25, 'ĠHobbit': 25, 'Detroit': 23}\n",
      "ĠIndianapolis {'Iowa': 29, 'ĠArkansas': 27, 'Michigan': 27, 'ĠIowa': 26, 'ĠJacksonville': 23, 'ĠMichigan': 22}\n",
      "Ġhim {'She': 30, 'ĠShe': 29, 'Her': 26, 'ĠSHE': 23, 'ĠTheir': 23, 'ĠHer': 22}\n",
      "ĠHind {'Howard': 31, 'Graham': 27, 'ĠJonas': 24, 'ĠHoward': 23, 'ĠGraham': 23, 'ĠHarold': 23}\n",
      "ĠSpicer {'ĠGreenpeace': 29, 'ĠTasman': 27, 'ĠTakeru': 25, 'ĠScythe': 24, 'ĠUkip': 23, 'ĠSasuke': 23}\n",
      "ĠAaron {'ĠAlaska': 29, 'Jamie': 26, 'ĠMakoto': 26, 'ĠAuckland': 24, 'ĠTrayvon': 24, 'ĠNaruto': 23}\n",
      "ĠGoddard {'ĠIceland': 29, 'ĠFrankenstein': 26, 'ĠHalifax': 26, 'ĠGaddafi': 25, 'ĠMarlins': 24, 'ĠFerguson': 23}\n",
      "Ġ409 {'Ġ1050': 25, 'Ġ502': 25, 'Ġ950': 25, 'Ġ504': 24, 'Ġ396': 24, 'Ġ428': 24}\n",
      "ĠAlger {'ĠMadagascar': 26, 'ĠEthiopia': 25, 'ĠAngelo': 25, 'ĠAlbania': 24, 'ĠArmenia': 24, 'ĠIceland': 24}\n",
      "Ġ529 {'Ġ560': 29, 'Ġ530': 26, 'Ġ318': 23, '960': 23, 'Ġ96': 23, 'Ġ503': 23}\n",
      "Ġkinderg {'ĠIowa': 30, 'Iowa': 29, 'ĠMyanmar': 25, 'ĠBurma': 24, 'ĠKonami': 23, 'ĠKelley': 22}\n",
      "ĠShar {'ĠMurdoch': 29, 'ĠYugoslavia': 25, 'ĠSylv': 25, 'ĠShelby': 24, 'ĠSora': 24, 'ĠAkira': 24}\n",
      "ĠBuk {'ĠBigfoot': 25, 'ĠBundy': 25, 'ĠBYU': 25, 'Minnesota': 24, 'Boston': 24, 'ĠBurma': 24}\n",
      "ĠRhode {'Dallas': 27, 'ĠRochester': 25, 'ĠAuckland': 25, 'ĠLeeds': 25, 'ĠPolaris': 24, 'Portland': 24}\n",
      "ĠIdaho {'Dallas': 27, 'Boston': 25, 'Detroit': 25, 'Chicago': 24, 'ĠDallas': 24, 'ĠCincinnati': 23}\n",
      "ĠYok {'ĠYamato': 30, 'ĠYun': 27, 'ĠAlaska': 25, 'ĠLucas': 25, 'ĠYosemite': 25, 'ĠYosh': 23}\n",
      "ĠWizards {'Pokemon': 32, 'ĠShinra': 26, 'Ġpokemon': 26, 'ĠPokemon': 24, 'ĠStarcraft': 23, 'ĠPokÃ©mon': 22}\n",
      "ĠAust {'ĠYamato': 29, 'ĠCherokee': 26, 'Atlanta': 26, 'ĠDartmouth': 25, 'ĠAchilles': 24, 'ĠAmtrak': 23}\n",
      "ĠShelby {'ĠTsarnaev': 30, 'ĠTrayvon': 26, 'ĠCrosby': 26, 'Harry': 24, 'ĠHitman': 23, 'ĠHector': 22}\n",
      ".>> {'ĠâĹı': 30, 'âĹı': 26, '`.': 25, 'Ġ???': 24, '???': 24, '>>>>': 23}\n",
      "ĠKoh {'Kansas': 26, 'ĠKerala': 25, 'Pokemon': 25, 'ĠMakoto': 24, 'Liverpool': 24, 'ĠOswald': 23}\n",
      "ĠMour {'ĠBundy': 30, 'ĠMcDonald': 29, 'ĠLiberia': 24, 'ĠSpock': 23, 'ĠBuckingham': 23, 'ĠMcCarthy': 23}\n",
      "ĠRaleigh {'ĠNebraska': 26, 'ĠIowa': 25, 'ĠHarrington': 25, 'Iowa': 24, 'ĠBaltic': 24, 'ĠBrad': 24}\n",
      "oldemort {'Pokemon': 31, 'Denver': 29, 'PokÃ©mon': 25, 'Kyle': 23, 'ĠPokÃ©mon': 23, 'ergus': 22}\n",
      "ĠManz {'ĠAlaska': 30, 'ĠTsarnaev': 26, 'ĠEverton': 25, 'ĠLibyan': 24, 'ĠMarlins': 23, 'ĠHannibal': 23}\n",
      "ĠCitiz {'ĠCornell': 28, 'ĠCatalonia': 26, 'Liverpool': 24, 'racuse': 24, 'negie': 24, 'conservancy': 24}\n",
      "Ġ560 {'522': 30, 'Ġ502': 27, 'Ġ504': 25, 'Ġ530': 24, 'Ġ570': 23, 'Ġ505': 22}\n",
      "ĠSebast {'ĠStarbucks': 29, 'ĠYugoslavia': 28, 'ĠPharaoh': 25, 'ĠYugoslav': 25, 'Syrian': 24, 'ĠSapphire': 24}\n",
      "Ġamph {'ĠHebdo': 30, 'ĠManila': 28, 'ĠIchigo': 25, 'ĠYemeni': 24, 'ĠDhabi': 23, 'ĠAbyssal': 23}\n",
      "ĠKoen {'ĠGaddafi': 27, 'ĠJinn': 26, 'ĠEverton': 26, 'ĠOswald': 24, 'ĠStarbucks': 23, 'ĠKelley': 23}\n",
      "ĠBerk {'ĠBundy': 27, 'ĠBarnett': 26, 'ĠBaltic': 25, 'ĠYosemite': 24, 'ĠYamato': 23, 'ĠBYU': 23}\n",
      "ĠHiro {'ĠOswald': 29, 'Liverpool': 27, 'Joshua': 24, 'ĠRochester': 24, 'ĠEverton': 24, 'Hart': 23}\n",
      "ĠBernie {'ĠBruno': 26, 'ĠHannibal': 26, 'ĠTrotsky': 25, 'ĠSaddam': 24, 'ĠSomalia': 23, 'ĠBelarus': 23}\n",
      "ĠKristen {'ĠIceland': 28, 'ĠYosemite': 28, 'ĠKira': 26, 'ĠIcelandic': 25, 'ĠSpock': 23, 'Liverpool': 22}\n",
      "ĠChomsky {'ĠYanukovych': 26, 'ĠLibyan': 25, 'ĠCuomo': 24, 'ĠKerala': 24, 'Virginia': 24, 'Karl': 24}\n",
      "Jonathan {'ĠPyrrha': 30, 'ĠOswald': 26, 'ĠJinn': 25, 'ĠJonas': 25, 'ĠJohann': 24, 'ĠShinra': 23}\n",
      "ĠSheffield {'ĠIceland': 25, 'ĠIcelandic': 25, 'Detroit': 25, 'ĠHungary': 25, 'Kansas': 24, 'Boston': 24}\n",
      "ĠSao {'ĠSamoa': 28, 'ĠYugoslavia': 26, 'ĠSyracuse': 25, 'ĠEverton': 25, 'ĠArgentine': 24, 'ĠYugoslav': 24}\n",
      "ĠKash {'ĠMakoto': 33, 'ĠKuwait': 27, 'ĠIchigo': 25, 'ĠVoldemort': 24, 'Jamie': 24, 'Kyle': 22}\n",
      "ĠHatt {'ĠBradford': 29, 'ĠDayton': 24, 'ĠHume': 24, 'ĠTsarnaev': 24, 'ĠJamie': 24, 'Jamie': 23}\n",
      "ĠMilan {'ĠArgentine': 30, 'ĠIcelandic': 28, 'ĠIceland': 25, 'ĠLithuan': 23, 'ĠLebanese': 23, 'ĠLibyan': 23}\n",
      "Ġ630 {'Ġ320': 27, 'Ġ333': 25, 'Ġ303': 25, 'Ġ323': 24, 'Ġ980': 24, '320': 23}\n",
      "ĠTwe {'ĠWorcester': 30, 'ĠSanford': 27, 'ĠTheodore': 25, 'ĠTyson': 24, 'ĠTrayvon': 24, 'ĠYamato': 23}\n",
      "ĠAuburn {'ĠYamato': 26, 'SpaceEngineers': 25, 'Boston': 24, 'Iowa': 24, 'ĠEdmonton': 24, 'ĠAlaska': 24}\n",
      "Ġ\"âĢ¦ {'âĢĶ\"': 27, 'âĢ¦âĢ¦': 26, '......': 26, 'Ġ......': 25, 'âĢĶâĢĶ': 25, '........': 24}\n",
      "ĠAustrian {'ĠIcelandic': 31, 'ĠIceland': 28, 'Iowa': 26, 'ĠBudapest': 24, 'ĠScandinavian': 23, 'Atlanta': 23}\n",
      "Ġ'' {'Ġ`': 28, 'ãĢİ': 26, 'Ġ\\\\\"': 26, '`': 24, 'Ġ``': 24, 'Ġ\"\"\"': 23}\n",
      "Ġï¿½ {'ĠâĢĵ': 28, 'ÙĲ': 26, 'âĢĭâĢĭ': 25, 'âĢĶ': 25, 'âĢĶâĢĶ': 25, '--': 23}\n",
      "ĠSheldon {'Samsung': 28, 'Scar': 25, 'Arsenal': 25, 'ĠLeeds': 24, 'ĠHull': 24, 'ĠShanahan': 23}\n",
      "raltar {'Denver': 25, 'Brazil': 25, 'ĠBrazil': 25, 'ĠBrazilian': 24, 'ĠHungarian': 24, 'ĠIceland': 24}\n",
      "ĠNun {'ĠNewcastle': 27, 'Syrian': 26, 'ĠNaruto': 24, 'ĠNaples': 24, 'Pokemon': 23, 'ĠPluto': 23}\n",
      "ĠStev {'ĠWeasley': 28, 'ĠSoros': 27, 'ĠTrotsky': 25, 'PokÃ©mon': 24, 'Pokemon': 23, 'ĠVoldemort': 23}\n",
      "ĠHoover {'Houston': 25, 'ĠOswald': 25, 'Boston': 25, 'ĠHarrington': 25, 'ĠJPMorgan': 24, 'ĠHalifax': 24}\n",
      "ĠArizona {'Dallas': 32, 'ĠDaytona': 26, 'ĠArkham': 24, 'ĠShinra': 24, 'ĠDallas': 23, 'ĠTrayvon': 22}\n",
      "ĠShelley {'ĠIceland': 26, 'ĠScarlett': 25, 'ĠCorsair': 24, 'ĠIcelandic': 24, 'ĠHarrington': 23, 'ĠHastings': 23}\n",
      "ĠHob {'ĠBowie': 27, 'ĠHastings': 26, 'Howard': 26, 'ĠWolfgang': 23, 'ĠHSBC': 23, 'ĠDeadpool': 23}\n",
      "ĠCohn {'Pokemon': 27, 'ĠEdmonton': 25, 'PokÃ©mon': 25, 'ĠIraqi': 24, 'Liverpool': 24, 'ĠVoldemort': 24}\n",
      "ãĥĺ {'ĠHanna': 25, 'ĠOswald': 25, 'ĠHiroshima': 24, 'ĠEverest': 24, 'ĠCherokee': 24, 'ĠEverton': 24}\n",
      "ĠGregg {'Graham': 27, 'ĠGideon': 26, 'ĠGreenpeace': 25, 'ĠGraham': 24, 'ĠGaddafi': 24, 'ĠGreenwood': 23}\n",
      "ĠCain {'ĠKinnikuman': 28, 'ĠAngus': 27, 'ĠCowboy': 25, 'ĠRohingya': 24, 'ĠShinra': 23, 'ĠYosemite': 23}\n",
      "ĠSpielberg {'ĠDisney': 28, 'ĠSpock': 25, 'Disney': 25, 'ĠMonsanto': 25, 'ĠVolvo': 23, 'Denver': 23}\n",
      "ĠAbrams {'Liverpool': 30, 'Arsenal': 27, 'ĠAuckland': 27, 'ĠLiverpool': 23, 'ĠBrendan': 23, 'Denver': 22}\n",
      "ĠRober {'ĠEdmonton': 28, 'ĠRag': 25, 'Rh': 25, 'ĠFraser': 25, 'ĠGaddafi': 24, 'ĠRochester': 24}\n",
      "ĠCatalonia {'ĠBrazil': 27, 'ĠArgentine': 26, 'Italy': 25, 'Brazil': 24, 'ĠItaly': 23, 'ĠTsarnaev': 23}\n",
      "ĠWisconsin {'Boston': 28, 'Dallas': 25, 'ĠWichita': 25, 'Seattle': 24, 'ortmund': 24, 'ĠBrisbane': 23}\n",
      "Ġ264 {'Ġ323': 26, 'Ġ321': 26, 'Ġ322': 25, 'Ġ319': 24, 'Ġ320': 24, 'Ġ530': 23}\n",
      "ĠGat {'agascar': 29, 'dinand': 26, 'Graham': 25, 'ĠGraves': 25, 'ĠFerdinand': 24, 'ĠMadagascar': 23}\n",
      "ĠRosen {'ĠBrendan': 26, 'ĠSapphire': 26, 'ĠALEC': 25, 'ĠSinclair': 25, 'Liverpool': 25, 'Sony': 23}\n",
      "ĠStafford {'ĠSpock': 35, 'ĠSanford': 28, 'ĠStarfleet': 25, 'ĠDaytona': 22, 'ĠGaddafi': 21, 'ĠUncharted': 21}\n",
      "Ġ331 {'Ġ411': 25, 'Ġ412': 25, 'Ġ911': 24, 'Ġ413': 23, 'Ġ321': 23, 'Ġ416': 23}\n",
      "Ġskim {'ĠYosemite': 28, 'ĠSpock': 26, 'ĠVoldemort': 25, 'ĠShark': 24, 'ĠSapphire': 23, 'ĠSparkle': 23}\n",
      "ĠLumia {'ĠLatvia': 28, 'anchester': 26, 'ĠLyndon': 25, 'ĠIceland': 24, 'ĠLithuan': 23, 'Liverpool': 23}\n",
      "ĠDartmouth {'Iowa': 28, 'ĠIowa': 25, 'ĠNSW': 24, 'ĠEverton': 24, 'Brandon': 23, 'Dallas': 23}\n",
      "ĠAleppo {'ĠMyanmar': 28, 'ĠSaddam': 25, 'ĠPakistan': 25, 'ĠKuwait': 25, 'ĠRohingya': 24, 'Pakistan': 23}\n",
      "ĠChurchill {'ĠBaylor': 29, 'ĠBuchanan': 26, 'ĠTruman': 25, 'Clinton': 24, 'Boston': 24, 'Virginia': 23}\n",
      "ĠCoyotes {'ĠShinra': 26, 'ĠYosemite': 26, 'ĠBuffy': 25, 'ĠIceland': 25, 'ĠHitman': 24, 'ĠIchigo': 23}\n",
      "ĠSlate {'ĠShinra': 26, 'ĠRarity': 25, 'Brazil': 25, 'ĠSakura': 25, 'ĠSanford': 23, 'ĠScandinavian': 23}\n",
      "Ġtarg {'ĠTakeru': 27, 'ĠSpock': 25, 'ĠAngus': 25, 'ĠMinotaur': 24, 'ĠNaruto': 24, 'ĠScythe': 23}\n",
      "ĠKahn {'ĠSheffield': 28, 'ĠAuckland': 26, 'Liverpool': 25, 'ĠHannibal': 24, 'ĠMurdoch': 24, 'ĠMakoto': 24}\n",
      "ĠMeow {'Pokemon': 37, 'ĠPokemon': 27, 'ĠAuckland': 24, 'ĠMakoto': 23, 'Ġpokemon': 23, 'PokÃ©mon': 22}\n",
      "ĠChocobo {'ĠHungary': 29, 'ĠHungarian': 25, 'ĠBrazil': 24, 'ĠTsarnaev': 24, 'Pokemon': 24, 'ĠKuwait': 23}\n",
      "ĠKKK {'ĠKrishna': 31, 'ĠKyoto': 27, 'Pokemon': 26, 'ĠKL': 25, 'ĠYosemite': 23, 'ĠKuwait': 22}\n",
      "ĠDenver {'Iowa': 28, 'Michigan': 25, 'Detroit': 25, 'ĠDayton': 24, 'ĠIowa': 24, 'ĠMichigan': 23}\n",
      "ĠClara {'ĠPyrrha': 27, 'ĠALEC': 27, 'ĠGaddafi': 26, 'ĠSyracuse': 24, 'ĠCatalonia': 22, 'ĠMcGregor': 22}\n",
      "ĠWyoming {'Pokemon': 32, 'ĠShinra': 29, 'Seattle': 24, 'ĠDayton': 23, 'ĠArkham': 22, 'Houston': 21}\n",
      "-- {'ĠâĢĶ': 29, 'âĢĶâĢĶ': 28, '\"âĢĶ': 27, 'âĢĶ': 23, 'ĠâĢķ': 22, '.âĢĶ': 22}\n",
      "ĠCla {'ĠCynthia': 28, 'ĠBruno': 26, 'ĠCanter': 25, 'ĠClara': 24, 'ĠAuckland': 23, 'ĠCleveland': 23}\n",
      "ĠSpears {'ĠBigfoot': 27, 'ĠGhostbusters': 26, 'SpaceEngineers': 24, 'ĠSchneider': 24, 'ĠFritz': 23, 'ĠHungarian': 23}\n",
      "ĠBran {'Graham': 26, 'Arsenal': 25, 'Boston': 25, 'Batman': 24, 'Liverpool': 24, 'ĠScarlett': 23}\n",
      "ĠBund {'ĠBurk': 31, 'Boston': 29, 'ĠBradford': 26, 'Brandon': 24, 'ĠBruno': 22, 'Bruce': 21}\n",
      "ĠShinji {'ĠSpock': 32, 'ĠSasuke': 29, 'ĠNaruto': 23, 'ĠTsarnaev': 23, 'ĠJonas': 23, 'ĠGaddafi': 22}\n",
      "ĠFilip {'ĠPKK': 27, 'ĠGaddafi': 26, 'ĠLibya': 24, 'ĠIceland': 24, 'Liverpool': 24, 'ĠDhabi': 23}\n",
      "ĠMattis {'ĠTerry': 25, 'ĠBrendan': 24, 'ĠDamien': 24, 'ĠMonsanto': 24, 'ĠTasman': 23, 'ĠCooke': 23}\n",
      "ĠDelaware {'Dallas': 36, 'ĠDallas': 29, 'Denver': 23, 'Seattle': 23, 'Detroit': 22, 'Boston': 22}\n",
      "Ġ... {'âĢ¦.': 32, 'âĢ¦': 27, 'âĢ¦..': 26, 'âĢ¦âĢ¦': 26, 'âĢ¦.\"': 23, '......': 22}\n",
      "ĠAuckland {'Alabama': 30, 'achusetts': 26, 'ĠAlabama': 25, 'ĠArkansas': 24, 'Iowa': 23, 'Colorado': 22}\n",
      "ĠJohns {'ĠJonas': 26, 'Jonathan': 25, 'Joshua': 25, 'ĠJacksonville': 24, 'Jackson': 23, 'ĠJonathan': 23}\n",
      "ĠGab {'ĠSpock': 25, 'ĠTakeru': 24, 'Liverpool': 24, 'ĠGarcia': 24, 'ĠKira': 24, 'ĠIchigo': 23}\n",
      "ĠTurkey {'ĠBudapest': 27, 'ĠHelsinki': 25, 'ĠHungarian': 24, 'ĠIceland': 24, 'ĠVienna': 23, 'ĠBosnia': 23}\n",
      "ĠRohingya {'ĠKurdistan': 29, 'Iraq': 25, 'Iran': 25, 'ĠSakura': 22, 'imbabwe': 22, 'ĠRomania': 22}\n",
      "ĠBrooklyn {'ĠCopenhagen': 26, 'ĠBrisbane': 25, 'ĠBaylor': 24, 'Minnesota': 24, 'racuse': 24, 'ortmund': 23}\n",
      "ĠBayern {'Minnesota': 28, 'ĠKerala': 25, 'ĠIceland': 24, 'ĠBudapest': 24, 'Iowa': 23, 'ĠIowa': 23}\n",
      "ĠHonduras {'ĠHalifax': 27, 'ĠHungarian': 25, 'ĠYugoslav': 24, 'ĠHarrington': 24, 'ĠIcelandic': 24, 'ĠTsarnaev': 23}\n",
      "ĠFranken {'ĠHearthstone': 26, 'ĠFrederick': 26, 'ĠSapphire': 25, 'Pokemon': 24, 'ĠDeadpool': 23, 'ĠKinnikuman': 23}\n",
      "ĠPac {'ĠPorsche': 28, 'ĠPortsmouth': 27, 'Anthony': 23, 'ĠSpaceX': 23, 'ĠMonsanto': 23, 'PokÃ©mon': 23}\n",
      "ĠMoose {'Pokemon': 28, 'Denver': 26, 'ĠIceland': 25, 'ĠAuckland': 23, 'ĠYosemite': 23, 'ĠCyrus': 23}\n",
      "ĠPoc {'Pokemon': 27, 'Liverpool': 25, 'ĠPortsmouth': 24, 'Portland': 24, 'Syrian': 24, 'ĠPetra': 24}\n",
      "ĠChandler {'ĠTrayvon': 30, 'ĠClockwork': 27, 'ĠCanter': 24, 'ĠYanuk': 23, 'ĠMalays': 23, 'ĠDayton': 23}\n",
      "ĠLibyan {'imbabwe': 27, 'ĠPakistan': 26, 'ĠLebanese': 24, 'ĠKarachi': 24, 'Pakistan': 24, 'ĠPeru': 23}\n",
      "ĠVaughan {'ĠTownsend': 25, 'ĠStarbucks': 25, 'ĠTulsa': 24, 'ĠVerizon': 24, 'ĠWeasley': 24, 'Scotland': 23}\n",
      "ĠTed {'ĠTakeru': 28, 'ĠKinnikuman': 27, 'ĠALEC': 25, 'ĠRTX': 25, 'ĠDaytona': 24, 'ĠScythe': 22}\n",
      "Ġ131 {'Ġ333': 26, 'Ġ303': 25, 'Ġ2100': 25, 'Ġ212': 24, '211': 24, 'Ġ211': 23}\n",
      "ĠWellington {'ĠArkansas': 28, 'Minnesota': 27, 'Alabama': 25, 'Wisconsin': 23, 'Kansas': 23, 'Iowa': 22}\n",
      "ĠNATO {'Pokemon': 28, 'ĠNorwegian': 25, 'ĠYosemite': 24, 'ĠNASCAR': 23, 'ĠMyanmar': 23, 'Iowa': 23}\n",
      "ĠRaj {'Rachel': 26, 'Colorado': 25, 'ĠArkansas': 24, 'ĠBrazil': 23, 'ĠRochester': 23, 'ĠBrazilian': 23}\n",
      "ĠSaiyan {'ĠIceland': 31, 'ĠIcelandic': 26, 'ĠEdmonton': 24, 'ĠSpock': 24, 'ĠErdogan': 22, 'ergus': 22}\n",
      "Ġ6 {'03': 25, 'Ġ02': 25, 'Ġ09': 24, '02': 24, 'Ġ03': 23, '08': 23}\n",
      "ĠBots {'ĠTrayvon': 27, 'ĠBundy': 27, 'ĠYamato': 25, 'ĠAkron': 24, 'ĠTsarnaev': 24, 'ĠLuffy': 23}\n",
      "ĠCzech {'ĠOslo': 28, 'ĠBudapest': 25, 'ĠIcelandic': 24, 'ĠIceland': 24, 'ĠArgentine': 23, 'ĠCincinnati': 23}\n",
      "ĠVoldemort {'Pokemon': 28, 'ĠOswald': 26, 'ĠWitcher': 24, 'ĠLuther': 24, 'ĠTennessee': 23, 'ĠJenner': 23}\n",
      "ĠYPG {'Pokemon': 25, 'ĠKuwait': 25, 'ĠRohingya': 25, 'ĠPKK': 25, 'ĠShinra': 23, 'ĠKurdistan': 23}\n",
      "ĠUpton {'Iowa': 26, 'ĠIowa': 24, 'ĠAkron': 24, 'ĠDayton': 24, 'ĠYosemite': 23, 'Minnesota': 23}\n",
      "ĠWembley {'ĠEdmonton': 28, 'Liverpool': 26, 'Wisconsin': 24, 'ĠMassachusetts': 24, 'ĠWinnipeg': 23, 'ĠFinland': 23}\n",
      "ĠAdelaide {'Alabama': 29, 'Atlanta': 27, 'Iowa': 25, 'Denver': 23, 'ĠIceland': 22, 'ĠAlabama': 22}\n",
      "ĠSkyrim {'ĠIceland': 27, 'ĠYosemite': 25, 'ĠIcelandic': 24, 'ĠShinra': 24, 'ĠKerala': 23, 'ĠNorway': 23}\n",
      "ĠVermont {'Dallas': 26, 'ĠWichita': 25, 'ĠTulsa': 24, 'ĠDayton': 24, 'ĠWellington': 23, 'ĠMcCann': 23}\n",
      "Ġ308 {'Ġ530': 25, 'Ġ336': 24, 'Ġ335': 24, 'Ġ388': 24, 'Ġ347': 24, '544': 23}\n",
      "ĠAres {'ĠArkansas': 28, 'ĠAbram': 26, 'Alabama': 25, 'Colorado': 23, 'ĠAlaska': 23, 'Alexander': 22}\n",
      "ĠVlad {'Jamie': 29, 'Liverpool': 27, 'ĠJamie': 25, 'Dallas': 23, 'ĠKuwait': 23, 'ĠLuxembourg': 22}\n",
      "ĠFranz {'ĠStarfleet': 25, 'ĠArgentine': 25, 'ĠAlonso': 25, 'ĠSpock': 24, 'Liverpool': 23, 'ĠDaytona': 23}\n",
      "ĠShim {'ĠShinra': 26, 'ĠSapphire': 26, 'ĠSammy': 24, 'ĠShaw': 24, 'ĠSomalia': 23, 'ĠHuck': 23}\n",
      "ĠObi {'ĠArkansas': 26, 'ĠMyanmar': 25, 'ĠJacksonville': 25, 'Pakistan': 24, 'ĠGideon': 24, 'ĠOklahoma': 23}\n",
      "ĠHuss {'ĠSheffield': 28, 'ĠYugoslav': 27, 'ĠZhu': 25, 'ĠSkinner': 23, 'ĠHannibal': 23, 'ĠHib': 22}\n",
      "ĠUkrain {'ĠIraqi': 25, 'ĠKerala': 25, 'ĠYugoslav': 24, 'ĠKuwait': 24, 'ĠSomalia': 24, 'ĠHungarian': 23}\n",
      "Ġ608 {'Ġ520': 26, '517': 24, 'Ġ701': 24, '520': 24, 'Ġ502': 24, '522': 23}\n",
      "ĠThai {'ĠChennai': 29, 'Iowa': 26, 'ĠTasmania': 23, 'ĠTulsa': 23, 'ĠAsheville': 22, 'ĠIowa': 22}\n",
      "hattan {'ortmund': 27, 'ĠManila': 27, 'Boston': 25, 'ĠMilan': 25, 'ĠYosemite': 24, 'ĠSydney': 22}\n",
      "ĠBonnie {'ĠAuckland': 29, 'ĠNebraska': 25, 'ĠWellington': 25, 'ĠBundy': 23, 'ĠIcelandic': 23, 'ĠJPMorgan': 23}\n",
      "ĠYosemite {'ĠYamato': 32, 'ĠAlaska': 28, 'Minecraft': 26, 'aterasu': 23, 'ĠEverton': 22, 'ĠOslo': 21}\n",
      "ĠPolaris {'Pokemon': 29, 'ĠAleppo': 25, 'PokÃ©mon': 25, 'ĠPokemon': 24, 'ĠFrieza': 23, 'Ġpokemon': 22}\n",
      "ĠCanter {'ĠPittsburgh': 26, 'Denver': 25, 'ĠLouisville': 25, 'ĠOregon': 24, 'Colorado': 23, 'ĠAuckland': 23}\n",
      "Ġits {'She': 25, 'He': 25, 'ĠShe': 24, 'ĠHe': 24, 'His': 24, 'ĠHis': 24}\n",
      "ĠChennai {'ĠKerala': 25, 'Michigan': 25, 'ĠIowa': 24, 'Iowa': 24, 'ĠMalays': 24, 'Colorado': 24}\n",
      "ĠSund {'ĠYosemite': 32, 'ĠStarbucks': 26, 'ĠYugoslavia': 26, 'ĠSirius': 23, 'ĠSylv': 23, 'ĠSpock': 22}\n",
      "ĠGreece {'ĠIceland': 30, 'ĠIcelandic': 30, 'ĠYosemite': 26, 'ĠBudapest': 23, 'ĠHelsinki': 22, 'ĠAkron': 22}\n",
      "ĠHollande {'Denver': 26, 'Liverpool': 26, 'ĠLiverpool': 25, 'ĠCincinnati': 24, 'ĠDenver': 24, 'ĠVienna': 23}\n",
      "Ġ191 {'Ġ2100': 27, 'Ġ208': 25, 'Ġ209': 23, 'Ġ221': 23, 'Ġ212': 23, '2200': 23}\n",
      "ĠMcCorm {'ĠRochester': 30, 'ĠMerlin': 24, 'ĠSaunders': 23, 'ĠGaddafi': 23, 'ĠSirius': 23, 'ĠMakoto': 23}\n",
      "ĠLuxem {'Colorado': 26, 'ĠMilan': 25, 'Greek': 25, 'Liverpool': 25, 'Alabama': 23, 'urdue': 22}\n"
     ]
    },
    {
     "name": "stdout",
     "output_type": "stream",
     "text": [
      "Ġ``( {'((': 28, 'Ġ((': 27, 'âĢĶ\"': 27, 'âĢĶ': 26, 'Ġ[(': 22, 'Ġ\"': 22}\n",
      "ÃĤ {'âĢ¦âĢ¦âĢ¦âĢ¦': 31, 'è¦ļéĨĴ': 26, 'ÙĲ': 24, 'ï¿½ï¿½ï¿½': 24, '////': 24, 'âĢİ': 23}\n",
      "ĠBern {'ĠBundy': 30, 'ĠArkansas': 26, 'ĠMyanmar': 24, 'ĠBurma': 23, 'ĠYugoslavia': 22, 'Florida': 22}\n",
      "ĠKrypt {'Liverpool': 28, 'ĠPorsche': 25, 'ĠLydia': 24, 'Howard': 23, 'PokÃ©mon': 23, 'ĠKarin': 23}\n",
      "ĠKeller {'ĠALEC': 28, 'ĠOswald': 25, 'ĠEdmund': 24, 'ĠLloyd': 24, 'ĠAngus': 23, 'ĠLaksh': 22}\n",
      "Ġ263 {'Ġ321': 25, 'Ġ331': 24, 'Ġ326': 24, 'Ġ329': 24, 'Ġ333': 24, 'Ġ323': 23}\n",
      "ĠJanet {'ĠTsarnaev': 29, 'ĠTasmania': 26, 'ĠChristina': 25, 'ĠALEC': 23, 'ĠNatalie': 23, 'ĠDartmouth': 22}\n",
      "ĠRoma {'ĠEcuador': 29, 'Russia': 26, 'ĠRomania': 24, 'Syrian': 24, 'ĠBelarus': 23, 'ĠALEC': 22}\n",
      "ĠBaal {'ĠYugoslav': 27, 'ĠBahrain': 27, 'ĠPyrrha': 25, 'Brazil': 24, 'ĠAuckland': 22, 'ĠBrazilian': 22}\n",
      "ĠMacron {'ĠMilan': 29, 'ĠAuckland': 24, 'Colorado': 24, 'agascar': 24, 'Michigan': 23, 'ancouver': 23}\n",
      "ĠLindsay {'Detroit': 26, 'Liverpool': 26, 'ĠDartmouth': 25, 'ĠDayton': 24, 'ĠDetroit': 23, 'ĠLeicester': 23}\n",
      "ĠKand {'ĠSasuke': 26, 'ĠTsarnaev': 25, 'Kansas': 24, 'ĠKuwait': 24, 'ĠShinra': 23, 'Pokemon': 23}\n",
      "ĠKyr {'ĠRohingya': 26, 'ĠYosemite': 25, 'ĠNaruto': 24, 'ĠOslo': 23, 'ĠNavajo': 23, 'ĠYamato': 23}\n",
      "ĠAugusta {'ĠIowa': 35, 'Iowa': 33, 'Graham': 23, 'ĠGrassley': 23, 'ĠEmerson': 21, 'ĠGujarat': 21}\n",
      "ĠBabel {'ĠBelarus': 28, 'ĠLabyrinth': 25, 'ĠLithuan': 24, 'ĠTsarnaev': 24, 'yrinth': 24, 'Ġlabyrinth': 22}\n",
      "ĠMormons {'Pokemon': 28, 'lahoma': 26, 'ĠMourinho': 24, 'oreAnd': 24, 'ĠSakuya': 23, 'ĠNSW': 23}\n",
      "ĠSonny {'ĠOswald': 30, 'ĠSora': 28, 'ĠPyrrha': 24, 'ĠYugoslavia': 23, 'ĠUncharted': 22, 'ĠSasuke': 22}\n",
      "ĠStan {'ĠNathaniel': 25, 'ĠMurdoch': 24, 'ĠSanford': 24, 'Liverpool': 23, 'ĠSpock': 23, 'ĠSunderland': 23}\n",
      "ĠSheen {'ĠOswald': 26, 'ĠYamato': 25, 'ĠYosemite': 25, 'ĠSaiyan': 24, 'ĠSapphire': 24, 'ĠScythe': 22}\n",
      "ĠBruce {'ĠSpock': 26, 'ĠAlaska': 24, 'ĠCowboy': 24, 'ĠStarfleet': 24, 'ĠEstonia': 23, 'ĠBundy': 23}\n",
      "ĠShaun {'ĠSpock': 33, 'ĠSirius': 25, 'Liverpool': 24, 'ĠSanford': 23, 'ĠKira': 23, 'ĠSeymour': 22}\n",
      "Ġ111 {'Ġ307': 26, 'Ġ202': 24, 'Ġ306': 24, 'Ġ206': 24, 'Ġ319': 24, 'Ġ302': 23}\n",
      "ĠTroy {'ĠYuri': 26, 'ĠCosby': 24, 'ĠIchigo': 24, 'ĠYosemite': 24, 'ĠBYU': 23, 'ĠRyzen': 23}\n",
      "ĠALEC {'Arsenal': 28, 'Liverpool': 27, 'ĠArsenal': 24, 'ĠAlexis': 23, 'ĠAlonso': 23, 'ĠIceland': 22}\n",
      "ĠRockefeller {'ĠBundy': 28, 'ĠBruno': 28, 'ĠRobertson': 25, 'ĠHarrington': 22, 'ĠRag': 22, 'ĠBelgian': 22}\n",
      "Ġ10000 {'Ġ1050': 32, 'Ġ1100': 26, 'Ġ1200': 25, 'Ġ1600': 23, 'Ġ1070': 22, 'Ġ980': 22}\n",
      "Ġ1600 {'Ġ560': 31, 'Ġ1050': 26, 'Ġ1070': 25, 'Ġ202': 22, 'Ġ502': 22, 'Ġ530': 22}\n",
      "ĠBallard {'ĠBelfast': 26, 'ĠChilean': 25, 'ĠSunderland': 25, 'ĠGaddafi': 24, 'ĠYosemite': 24, 'ĠTsarnaev': 24}\n",
      "ĠTarant {'ĠTrayvon': 27, 'ĠNASCAR': 26, 'ĠDaytona': 24, 'ĠPrague': 24, 'ĠSpock': 22, 'ĠTyson': 22}\n",
      "ĠKraft {'Pokemon': 29, 'ĠPokemon': 27, 'Magikarp': 24, 'ĠBradford': 24, 'ĠJPMorgan': 22, 'Howard': 22}\n",
      "ĠBuck {'ĠBYU': 28, 'Graham': 26, 'Liverpool': 24, 'ĠMcGregor': 23, 'ĠBowie': 23, 'ĠAsheville': 22}\n",
      "ĠIndy {'Liverpool': 34, 'ĠJacksonville': 23, 'ĠArgentine': 23, 'Ireland': 23, 'ĠLiverpool': 23, 'ĠYosemite': 22}\n",
      "ĠBuffy {'Boston': 25, 'ĠYosemite': 24, 'ĠAvery': 24, 'ĠCrosby': 24, 'ĠDortmund': 23, 'ortmund': 23}\n",
      "ĠJer {'ĠJonas': 36, 'ĠJarvis': 25, 'ĠKira': 24, 'ĠSheffield': 24, 'Rachel': 21, 'ĠIchigo': 21}\n",
      "Ġ318 {'Ġ911': 25, 'Ġ328': 25, 'Ġ388': 24, 'Ġ428': 24, 'Ġ365': 24, 'Ġ396': 23}\n",
      "ĠSpani {'ĠArgentina': 27, 'ĠArgentine': 27, 'Brazil': 25, 'ĠLisbon': 23, 'ĠPortuguese': 22, 'Atlanta': 22}\n",
      "ĠLamar {'ĠLabyrinth': 27, 'ĠALEC': 26, 'ĠAlaska': 25, 'Laura': 24, 'Liverpool': 23, 'Jamie': 22}\n",
      "ĠLank {'Liverpool': 31, 'ĠLeeds': 26, 'ĠLiverpool': 25, 'ĠLeicester': 23, 'ĠKerala': 23, 'ĠLatvia': 22}\n",
      "ĠGordon {'ĠFlint': 27, 'Graham': 27, 'ĠGideon': 27, 'ĠDartmouth': 22, 'ĠAlaska': 22, 'Howard': 22}\n",
      "ĠSapp {'ĠStarcraft': 26, 'ĠYamaha': 26, 'ĠAbram': 25, 'ĠSk': 23, 'ĠJacksonville': 23, 'ĠAlaska': 23}\n",
      "ĠShanahan {'ĠSpock': 30, 'ĠGaddafi': 24, 'ĠHitman': 24, 'ĠSasuke': 23, 'ĠTwain': 23, 'ĠShinra': 22}\n",
      "ĠAntioch {'Iraq': 27, 'zbollah': 25, 'ĠDamien': 24, 'ĠSasuke': 24, 'ĠPKK': 23, 'ĠVoldemort': 23}\n",
      "ĠThiel {'Tesla': 26, 'ĠStarCraft': 26, 'ĠZhu': 23, 'Boston': 23, 'ĠAuckland': 23, 'Samsung': 23}\n",
      "ĠArmenian {'Iran': 27, 'Pakistan': 26, 'ĠPakistan': 26, 'imbabwe': 25, 'Brazil': 24, 'Iraq': 22}\n",
      "ĠYue {'ĠIchigo': 26, 'ĠYosemite': 24, 'ĠYemeni': 24, 'ĠEverton': 23, 'ĠAleppo': 23, 'Emily': 23}\n",
      "ĠIzan {'Iowa': 26, 'ĠIowa': 25, 'ĠEdmonton': 25, 'ĠDhabi': 23, 'ĠBrazil': 23, 'ĠIceland': 23}\n",
      "Ġ5000 {'Ġ1050': 26, 'Ġ560': 25, 'Ġ501': 24, 'Ġ750': 24, 'Ġ470': 23, 'Ġ500': 23}\n",
      "ĠGriff {'ĠSpock': 26, 'ĠPetraeus': 25, 'ĠCornell': 24, 'ĠStarfleet': 23, 'ĠGallagher': 23, 'ĠRockefeller': 23}\n",
      "ĠAlps {'ĠIcelandic': 32, 'ĠIceland': 31, 'ĠHungarian': 26, 'ĠScandinavian': 25, 'ĠHungary': 22, 'ĠSomalia': 22}\n",
      "ĠAlberta {'Atlanta': 26, 'ĠAtlanta': 25, 'ĠAuckland': 25, 'ĠPerth': 24, 'Baltimore': 23, 'ĠJacksonville': 22}\n",
      "ĠFlynn {'ĠAlaska': 25, 'ĠPokemon': 24, 'ĠSpock': 24, 'ĠHannibal': 24, 'Pokemon': 24, 'ĠGundam': 23}\n",
      "Ġ' {\"Ġ\\\\'\": 28, \"\\\\'\": 26, 'Ġ``': 25, 'Ġ`': 25, '`.': 25, 'Ġ\\\\\"': 23}\n",
      "ĠJacqu {'Jamie': 31, 'ĠJamie': 29, 'Liverpool': 29, 'ĠPortsmouth': 21, 'ĠIrving': 21, 'Kelly': 21}\n",
      "ĠKers {'ĠBowie': 26, 'ĠOswald': 26, 'ĠKira': 25, 'Russell': 24, 'Lewis': 23, 'alkyrie': 22}\n",
      "ĠDuterte {'Denver': 28, 'ĠEcuador': 25, 'ĠCincinnati': 24, 'ĠDenver': 23, 'ĠDubai': 23, 'ĠDhabi': 23}\n",
      "ĠBaldwin {'ĠBrad': 26, 'ĠDortmund': 24, 'ĠBosh': 24, 'Liverpool': 24, 'ĠBihar': 24, 'ortmund': 23}\n",
      "ĠOrtiz {'Pokemon': 27, 'ĠOswald': 25, 'ĠAuckland': 24, 'ĠUlster': 24, 'ĠToronto': 23, 'Toronto': 23}\n",
      "ĠGary {'ĠDouglas': 25, 'ĠMcGregor': 25, 'ĠYosemite': 25, 'ĠTrayvon': 23, 'ĠKinnikuman': 23, 'ĠHannibal': 23}\n",
      "ĠJasper {'ĠIceland': 30, 'ĠIcelandic': 29, 'ĠAndreas': 24, 'ĠMcCartney': 23, 'ĠDubai': 22, 'Jamie': 21}\n",
      "Ġsiph {'ĠSasuke': 26, 'ĠVoldemort': 25, 'ĠSpaceX': 24, 'Ġasteroid': 24, 'ĠSnape': 23, 'ĠFenrir': 23}\n",
      "Ġ6000 {'Ġ1050': 26, 'Ġ1100': 25, 'Ġ701': 24, 'Ġ1600': 24, 'Ġ369': 23, 'Ġ1200': 22}\n",
      "ĠFulton {'ĠShinra': 25, 'ĠTulsa': 25, 'Pokemon': 24, 'ĠTrayvon': 24, 'ĠFenrir': 23, 'Austin': 23}\n",
      "ĠOz {'ĠDaytona': 28, 'ĠYosemite': 25, 'ĠYamato': 25, 'ĠYemen': 24, 'ĠYemeni': 23, 'ĠOswald': 23}\n",
      "ĠHuffington {'ĠGideon': 25, 'Liverpool': 25, 'ĠYosemite': 24, 'ĠHiggins': 24, 'ĠMcCann': 24, 'ĠHarrington': 24}\n",
      "ĠTurk {'ĠIceland': 26, 'ĠYosemite': 25, 'ĠTanzania': 24, 'ĠTrayvon': 23, 'Minnesota': 23, 'ĠIcelandic': 23}\n",
      "ĠSchwe {'ĠSwedish': 27, 'ĠGreenpeace': 27, 'Graham': 24, 'Liverpool': 24, 'Boston': 22, 'ĠWenger': 22}\n",
      "ĠVentura {'Eva': 29, 'ĠEva': 27, 'Susan': 24, 'ĠStarbucks': 23, 'ĠAudrey': 23, 'ĠVienna': 22}\n",
      "ĠKeen {'Jamie': 27, 'ĠKatie': 26, 'ĠJamie': 25, 'ĠDamien': 24, 'ĠKash': 23, 'ĠHayden': 23}\n",
      "ĠLur {'ĠLibya': 32, 'ĠPluto': 27, 'ĠLibyan': 25, 'Liverpool': 23, 'Laura': 23, 'ĠLloyd': 21}\n",
      "ĠHorowitz {'ĠDayton': 27, 'ĠOswald': 25, 'ĠOmaha': 24, 'ĠGaddafi': 24, 'ĠHitman': 24, 'ĠYosemite': 22}\n",
      "ĠEmanuel {'Liverpool': 26, 'ĠEdmund': 26, 'Arsenal': 25, 'ĠUkip': 23, 'Germany': 23, 'ĠTruman': 22}\n",
      "ĠNebraska {'ortmund': 30, 'ĠBelfast': 25, 'Liverpool': 24, 'ĠAuckland': 24, 'ĠEverton': 24, 'ĠKlopp': 23}\n",
      "ĠFranch {'ĠGaddafi': 30, 'ĠFlint': 26, 'addafi': 23, 'anchester': 23, 'Liverpool': 23, 'ĠFerdinand': 22}\n",
      "Ġhamm {'ĠBigfoot': 27, 'ĠHawk': 25, 'ĠHitman': 25, 'ĠMarlins': 24, 'ĠBuffalo': 23, 'ĠHaku': 22}\n",
      "Ġ580 {'Ġ560': 26, 'Ġ701': 25, 'Ġ900': 24, 'Ġ1800': 23, 'Ġ800': 23, 'Ġ700': 23}\n",
      "ĠLil {'ĠLucius': 31, 'ĠLucy': 30, 'ĠPluto': 26, 'ĠLydia': 24, 'ĠLowell': 23, 'Lewis': 21}\n",
      "ĠMcKay {'Liverpool': 32, 'ĠLiverpool': 28, 'ĠOswald': 24, 'Wisconsin': 23, 'ĠYosemite': 22, 'ĠArkansas': 21}\n",
      "ĠTw {'ĠYamato': 28, 'ĠBowie': 26, 'ĠTulsa': 25, 'ĠTommy': 23, 'ĠHume': 22, 'ĠTrayvon': 22}\n",
      "ĠSutton {'Sony': 26, 'ĠStephens': 26, 'ĠYosemite': 26, 'ĠStarbucks': 24, 'ĠComcast': 23, 'ĠMonsanto': 23}\n",
      "ĠYoshi {'Iowa': 25, 'ĠRohingya': 24, 'ĠTsarnaev': 24, 'ĠAkron': 24, 'ĠIchigo': 24, 'ĠDayton': 24}\n",
      "ĠFarage {'ĠNorwegian': 25, 'ĠFinnish': 25, 'Michigan': 25, 'ĠAfghanistan': 24, 'ĠNorway': 24, 'ĠAfghan': 23}\n",
      "ĠBlooming {'Liverpool': 32, 'ĠLEGO': 27, 'ĠLiverpool': 26, 'ĠBleach': 24, 'ĠEverton': 22, 'ĠBurma': 21}\n",
      "ĠMuslim {'Syrian': 25, 'zbollah': 24, 'ĠPKK': 24, 'Iraq': 24, 'ĠMalays': 23, 'Iran': 23}\n",
      "ĠCanterbury {'ĠMalays': 26, 'Denver': 26, 'Dallas': 24, 'ĠSasuke': 23, 'Colorado': 23, 'ĠDetroit': 22}\n",
      "Ġ231 {'Ġ272': 26, 'Ġ333': 25, 'Ġ263': 24, 'Ġ313': 23, 'Ġ309': 22, 'Ġ335': 22}\n",
      "ĠChristy {'ĠLeeds': 29, 'Dallas': 25, 'ĠCamden': 23, 'ĠDallas': 23, 'ĠBaylor': 23, 'ĠBradford': 22}\n",
      "ĠKum {'Lewis': 28, 'ĠMakoto': 27, 'ĠYosemite': 26, 'Liverpool': 22, 'Karl': 22, 'ĠKerala': 22}\n",
      "ĠOlson {'racuse': 28, 'Liverpool': 26, 'ĠOswald': 26, 'ĠOrlando': 24, 'ĠOslo': 23, 'ĠSyracuse': 22}\n",
      "Ġ4090 {'Ġ500': 25, 'Ġ499': 25, 'Ġ999': 24, 'Ġ480': 24, 'Ġ420': 23, 'Ġ501': 23}\n",
      "ĠNim {'ĠShinra': 28, 'ĠNaruto': 25, 'ĠYugoslav': 24, 'ĠSirius': 23, 'ĠMakoto': 22, 'ĠNightmare': 22}\n",
      "ĠHermione {'ĠALEC': 27, 'ĠKinnikuman': 25, 'ĠOswald': 25, 'ĠMourinho': 23, 'ĠGaddafi': 23, 'ĠMilan': 22}\n",
      "Ġ276 {'Ġ72': 25, 'Ġ272': 25, 'Ġ372': 23, 'Ġ358': 23, 'Ġ374': 23, 'Ġ322': 23}\n",
      "ĠColumb {'Dallas': 25, 'Graham': 24, 'ĠBrazilian': 24, 'ĠArgentine': 24, 'ĠMarcel': 23, 'Denver': 23}\n",
      "ĠYates {'ĠTakeru': 26, 'ĠYamato': 25, 'ĠGalileo': 25, 'ĠNaruto': 23, 'ĠEverton': 23, 'ĠCherokee': 22}\n",
      "ĠSoph {'ĠSamantha': 25, 'ĠSailor': 24, 'ĠSatoshi': 24, 'ĠSocrates': 23, 'ĠSwedish': 23, 'ĠSanford': 23}\n",
      "ĠSchwarz {'ĠSpock': 26, 'ĠSydney': 25, 'ĠPerth': 25, 'ĠRochester': 24, 'ĠSanford': 23, 'ĠWyoming': 22}\n",
      "ĠWong {'Liverpool': 28, 'ortmund': 24, 'ĠAuckland': 23, 'ĠScarborough': 23, 'ĠDayton': 23, 'ĠLibya': 22}\n",
      "ĠEston {'ĠHungarian': 26, 'Turkey': 25, 'ĠIceland': 25, 'ĠBudapest': 23, 'ĠIcelandic': 23, 'stanbul': 23}\n",
      "Ġslate {'ĠSimpsons': 26, 'Ġsquirrel': 24, 'ĠRarity': 23, 'ĠChocobo': 23, 'ĠSquirrel': 23, 'ĠSpeedway': 23}\n",
      "ĠRoosevelt {'Denver': 25, 'Dallas': 24, 'ĠHarrington': 24, 'ĠBrooks': 24, 'ĠDayton': 23, 'Wisconsin': 23}\n",
      "ĠSamantha {'ĠSora': 32, 'ĠSirius': 24, 'Samsung': 23, 'ĠPyrrha': 22, 'ĠSylv': 22, 'ĠSimpsons': 22}\n",
      "ĠMcM {'Liverpool': 28, 'ĠCamden': 24, 'Manchester': 24, 'Boston': 23, 'ĠLiverpool': 23, 'ĠMercedes': 22}\n",
      "ĠNirvana {'ĠYosemite': 24, 'ĠNiagara': 24, 'ĠNaruto': 24, 'ĠFinland': 24, 'ĠKinnikuman': 24, 'ĠOswald': 24}\n",
      "ĠKris {'utherford': 26, 'ĠOswald': 26, 'ĠYosemite': 24, 'ĠKazakhstan': 23, 'ĠKuwait': 23, 'ĠRutherford': 22}\n",
      "ĠLaz {'Liverpool': 27, 'alkyrie': 25, 'ĠAlonso': 25, 'ĠJonas': 23, 'Ġlinen': 23, 'ĠOslo': 22}\n",
      "Ġ304 {'Ġ388': 30, 'Ġ426': 23, '522': 23, 'Ġ326': 23, '533': 23, 'Ġ416': 22}\n",
      "ĠWillow {'ĠHastings': 26, 'Liverpool': 24, 'ĠNiagara': 24, 'ĠPyrrha': 23, 'ĠKnicks': 23, 'Wolf': 23}\n",
      "Ġ0004 {'Ġ2048': 29, 'ĠPKK': 24, 'ĠTsarnaev': 23, 'Ġï¿½ï¿½ï¿½ï¿½ï¿½ï¿½ï¿½ï¿½': 23, 'Ġ980': 22, 'ĠVoldemort': 22}\n",
      "ĠHerm {'ĠMilan': 25, 'ĠHearthstone': 25, 'ĠHicks': 24, 'ĠHannibal': 24, 'ĠMcDonald': 22, 'ĠHein': 22}\n",
      "racuse {'ĠArgentine': 25, 'ĠRochester': 24, 'lahoma': 24, 'ĠSamoa': 23, 'Dallas': 23, 'Florida': 23}\n",
      "ĠRahman {'ĠPakistan': 27, 'Pakistan': 27, 'ĠSomalia': 27, 'ĠPakistani': 22, 'ĠIraqi': 22, 'ĠLibyan': 22}\n",
      "ĠLynn {'ĠALEC': 28, 'ĠDumbledore': 26, 'ĠLennon': 23, 'Elsa': 23, 'ĠSiberian': 22, 'ĠShinra': 22}\n",
      "ĠGiul {'Liverpool': 28, 'ĠCatalonia': 27, 'racuse': 24, 'ĠLuxembourg': 24, 'ĠLiverpool': 23, 'ĠLibyan': 21}\n",
      "ĠJere {'ĠSirius': 31, 'ĠPetraeus': 25, 'ĠSpock': 23, 'ĠDumbledore': 23, 'ĠOswald': 23, 'ĠIcelandic': 22}\n",
      "ĠHayden {'ĠCherokee': 28, 'ĠYosemite': 27, 'ĠHalifax': 26, 'ĠUncharted': 23, 'ĠArkham': 22, 'ĠAlaska': 22}\n",
      "ĠAzerbai {'ĠBelarus': 28, 'ĠIceland': 27, 'Brazil': 25, 'ĠYugoslav': 23, 'ĠYanuk': 23, 'ĠAssy': 23}\n",
      "ĠMolly {'ĠLeBron': 28, 'ĠMilwaukee': 24, 'ĠMourinho': 23, 'ĠMakoto': 23, 'ĠCavs': 23, 'ĠCarrie': 22}\n",
      "ĠSaban {'Samsung': 27, 'ĠYosemite': 27, 'ĠLennon': 24, 'ĠPKK': 23, 'ĠMilan': 23, 'ĠChennai': 22}\n",
      "ĠBellev {'ĠVerizon': 24, 'Boston': 24, 'ĠEverton': 24, 'Lewis': 23, 'ĠWellington': 23, 'ĠBaylor': 23}\n",
      "ĠChow {'ĠCincinnati': 27, 'ĠTulsa': 26, 'Boston': 25, 'ĠDayton': 23, 'ĠHalifax': 22, 'Chicago': 22}\n",
      "ĠPolk {'ĠShinra': 27, 'ĠChinatown': 25, 'ĠPluto': 24, 'Liverpool': 24, 'ĠCincinnati': 23, 'ĠSanford': 23}\n",
      "ĠOmar {'ĠOswald': 25, 'ĠArgentine': 25, 'Syrian': 25, 'ĠArgentina': 23, 'ĠElvis': 23, 'ĠArkansas': 22}\n",
      "ĠHighlander {'ĠHalifax': 30, 'ĠLeeds': 28, 'Graham': 23, 'Iowa': 22, 'Liverpool': 22, 'Karl': 22}\n",
      "ĠArabic {'Iran': 26, 'ĠArgentine': 25, 'ĠGaddafi': 24, 'imbabwe': 23, 'Iraq': 23, 'ĠAuckland': 22}\n",
      "ĠHerod {'Disney': 25, 'ĠIceland': 24, 'ĠAristotle': 24, 'ĠSakura': 24, 'ĠHector': 23, 'ĠDisney': 23}\n",
      "ĠBuddh {'Boston': 29, 'ĠBYU': 26, 'Alabama': 24, 'Graham': 23, 'Denver': 23, 'ĠCornell': 22}\n",
      "ĠKimmel {'ĠKuwait': 30, 'ĠYosemite': 24, 'ĠKatie': 24, 'Jamie': 23, 'ĠSasuke': 22, 'ĠZhu': 22}\n",
      "Ġsling {'ĠSpeedway': 26, 'ĠSpock': 26, 'ĠScythe': 23, 'Pokemon': 23, 'ĠStarcraft': 22, 'ĠShinra': 22}\n",
      "ĠSerbian {'ĠIcelandic': 26, 'ĠIceland': 24, 'anyahu': 24, 'zbollah': 24, 'ĠScandinavian': 24, 'ĠCrimean': 22}\n",
      "Ġjihadist {'ĠKashmir': 26, 'ĠIceland': 25, 'ĠIcelandic': 25, 'ĠKarachi': 23, 'ĠCrimean': 23, 'ĠPKK': 23}\n",
      "Ġ405 {'Ġ1050': 26, 'Ġ2100': 23, 'Ġ502': 23, 'Ġ525': 23, '517': 23, '533': 23}\n",
      "Ġ271 {'Ġ306': 24, 'Ġ307': 24, 'Ġ319': 24, 'Ġ388': 23, 'Ġ277': 23, 'Ġ322': 23}\n",
      "Ġ'[ {'Ġ``': 26, 'Ġ[[': 25, '[[': 24, '`.': 24, '``': 23, \".''\": 22}\n",
      "ĠNaruto {'ĠMyanmar': 26, 'ĠYosemite': 26, 'ĠOswald': 24, 'ĠKuwait': 23, 'ĠChennai': 23, 'ĠYuan': 22}\n",
      "ĠBlackburn {'ĠYamato': 25, 'ĠYugoslavia': 24, 'ĠBowie': 24, 'ĠBradford': 24, 'ĠJudah': 23, 'ĠOslo': 22}\n",
      "ĠPole {'ĠPetra': 27, 'Liverpool': 26, 'ĠYosemite': 23, 'ĠJacksonville': 23, 'ĠNiagara': 22, 'Portland': 22}\n",
      "ĠDoomsday {'Pokemon': 28, 'Disney': 26, 'ĠDisney': 24, 'ĠKinnikuman': 23, 'Denver': 22, 'ĠWitcher': 22}\n",
      "Ġseism {'EStream': 27, 'ĠSirius': 26, 'ĠSergei': 25, 'nuclear': 25, 'ĠYosemite': 23, 'ĠSiberian': 22}\n",
      "ĠNorse {'ĠScandinavian': 25, 'ĠFinland': 24, 'ĠShinra': 24, 'ĠFinnish': 24, 'ĠNorwegian': 23, 'Syrian': 23}\n",
      "ĠSpringfield {'ĠFraser': 26, 'ĠGideon': 26, 'Florida': 25, 'Colorado': 24, 'ĠArkansas': 22, 'ĠHarrington': 22}\n",
      "ĠSyri {'ĠSiberian': 27, 'ĠSomalia': 26, 'ĠYugoslav': 25, 'ĠYugoslavia': 24, 'ĠTunisia': 23, 'ĠYemen': 22}\n",
      "Ġ465 {'Ġ499': 25, 'Ġ650': 25, 'Ġ550': 24, 'Ġ700': 23, 'Ġ560': 23, 'Ġ339': 23}\n",
      "ĠHoffman {'ĠEverton': 26, 'ĠLeicester': 26, 'icester': 24, 'Liverpool': 24, 'ĠHegel': 22, 'ĠHammond': 22}\n",
      "ĠABE {'ĠAfghanistan': 29, 'ĠAuckland': 25, 'ĠDhabi': 25, 'ĠAfghan': 24, 'ĠKabul': 23, 'Arsenal': 22}\n",
      "ĠKaren {'ĠKelley': 27, 'ĠKatie': 26, 'ĠKate': 23, 'Kate': 23, 'ĠKuwait': 23, 'ĠPyrrha': 23}\n",
      "ĠMagn {'ĠMakoto': 27, 'ĠAlaska': 24, 'Liverpool': 23, 'ĠNathaniel': 23, 'Minnesota': 23, 'ĠArkham': 22}\n",
      "ĠBarack {'Arsenal': 26, 'Liverpool': 25, 'Iowa': 23, 'ĠArgentine': 23, 'ĠJacksonville': 23, 'Alabama': 22}\n",
      "ãĤ· {'ĠCatalonia': 26, 'ĠGreenpeace': 25, 'ĠCroatian': 24, 'ĠHuawei': 23, 'ĠYamaha': 23, 'ĠScythe': 22}\n",
      "ĠMcH {'ĠVoldemort': 27, 'Harry': 27, 'ĠMurdoch': 23, 'ĠManson': 23, 'ĠHarry': 22, 'ĠMakoto': 22}\n",
      "ĠGinger {'ĠHayden': 27, 'ĠIceland': 26, 'Jamie': 25, 'Graham': 23, 'ĠIcelandic': 23, 'ĠSapphire': 23}\n",
      "ĠKingston {'ĠKashmir': 27, 'ĠRohingya': 27, 'ĠYosemite': 26, 'ĠTasmania': 25, 'ĠNewcastle': 22, 'ĠMyanmar': 21}\n",
      "ĠOakland {'ĠYosemite': 28, 'ĠArkansas': 26, 'ĠDartmouth': 25, 'Boston': 22, 'ĠAuckland': 22, 'ĠBaylor': 22}\n",
      "ĠSeymour {'ĠSpock': 30, 'ĠWeasley': 24, 'ĠWeston': 23, 'ĠDeadpool': 23, 'ĠSapphire': 22, 'ĠSamson': 22}\n",
      "ĠHels {'ĠIceland': 31, 'ĠIcelandic': 28, 'ĠOslo': 24, 'ĠHaas': 23, 'ĠEverton': 23, 'ĠHampshire': 22}\n",
      "Ġ262 {'Ġ365': 24, 'Ġ321': 24, 'Ġ374': 23, 'Ġ322': 23, 'Ġ396': 23, 'Ġ326': 23}\n",
      "ĠBarrett {'Alabama': 25, 'Dallas': 25, 'ĠAlaska': 24, 'Minnesota': 24, 'Boston': 23, 'Atlanta': 23}\n",
      "ĠCardiff {'Alabama': 27, 'ĠAlabama': 24, 'ĠQueensland': 24, 'Colorado': 23, 'achusetts': 22, 'Florida': 22}\n",
      "ĠJulio {'ĠOswald': 25, 'ĠLebanese': 25, 'ĠLisbon': 23, 'ĠBeirut': 23, 'ĠIcelandic': 23, 'ĠChilean': 22}\n",
      "Chuck {'Graham': 26, 'Liverpool': 26, 'ĠBrisbane': 25, 'Boston': 24, 'Batman': 24, 'ĠPistons': 23}\n",
      "ĠMcCl {'Liverpool': 26, 'ĠCohn': 26, 'ĠLiverpool': 23, 'ĠCuomo': 23, 'ĠChao': 23, 'ĠEverton': 23}\n",
      "Ġ341 {'Ġ433': 25, 'Ġ416': 24, 'Ġ414': 24, 'Ġ315': 23, 'Ġ385': 23, 'Ġ421': 23}\n",
      "ĠSpart {'ĠSanford': 26, 'ĠIcelandic': 24, 'ĠStarcraft': 23, 'Brazil': 23, 'ĠSapphire': 23, 'ĠSpock': 22}\n",
      "ĠLund {'Liverpool': 29, 'ĠKinnikuman': 25, 'ĠLennon': 24, 'ĠLSU': 24, 'ĠLiverpool': 22, 'ĠKerala': 22}\n",
      "ĠHudson {'ĠHalifax': 26, 'ĠHyder': 25, 'ĠSydney': 25, 'Iowa': 22, 'India': 22, 'ĠIowa': 22}\n",
      "ġ {'æŃ¦': 29, 'ĠKurdistan': 26, 'akeru': 23, 'ĠRarity': 23, 'ĠWarhammer': 23, 'ĠWTO': 21}\n",
      "Ġ296 {'Ġ388': 28, 'Ġ390': 25, 'Ġ352': 23, 'Ġ318': 23, 'Ġ396': 22, 'Ġ329': 22}\n",
      "ĠGow {'ĠOslo': 25, 'ĠGotham': 24, 'ĠSoros': 24, 'ĠBradford': 23, 'ĠTulsa': 23, 'Graham': 23}\n",
      "ĠJerry {'ĠDouglas': 27, 'ĠGiles': 24, 'ĠOswald': 23, 'ĠZimmerman': 23, 'ĠTrayvon': 23, 'ĠDaytona': 22}\n",
      "ĠVaj {'ĠYugoslav': 29, 'ĠNaruto': 26, 'ĠDaytona': 26, 'ĠYugoslavia': 24, 'Minecraft': 21, 'ĠYamato': 21}\n",
      "ĠMull {'ĠMakoto': 27, 'ĠVoldemort': 26, 'ĠMorty': 24, 'ĠBelfast': 24, 'Miami': 24, 'ĠRohingya': 21}\n",
      "ĠLou {'ĠLeBron': 25, 'Liverpool': 24, 'ĠLucius': 24, 'Lewis': 24, 'ĠVoldemort': 23, 'ĠOswald': 23}\n",
      "ĠLisa {'ĠPyrrha': 28, 'Jamie': 24, 'ĠJamie': 24, 'ĠSailor': 23, 'ĠJinn': 22, 'ĠKristen': 22}\n",
      "ĠBers {'ortmund': 31, 'ĠDortmund': 28, 'ĠBundy': 23, 'Austin': 23, 'ĠAustin': 22, 'ĠBarton': 21}\n",
      "ĠKah {'Jamie': 26, 'ĠMakoto': 26, 'ĠKrishna': 25, 'ĠJamie': 25, 'ĠHussein': 23, 'ĠHaku': 22}\n",
      "ĠMcGee {'ĠGaddafi': 24, 'ĠGoku': 24, 'ĠALEC': 24, 'ĠAmelia': 24, 'ĠOswald': 24, 'ĠAuckland': 23}\n",
      "ĠJal {'Liverpool': 26, 'Joshua': 25, 'ĠKashmir': 24, 'ĠJoshua': 23, 'ĠJinn': 22, 'ĠJonas': 22}\n",
      "ĠHebrew {'ĠGhana': 29, 'imbabwe': 26, 'ĠIceland': 23, 'Jamie': 23, 'ĠPKK': 22, 'ĠHiroshima': 22}\n",
      "Ġ299 {'Ġ318': 26, 'Ġ390': 25, 'Ġ530': 24, 'Ġ570': 23, 'Ġ389': 23, 'Ġ372': 22}\n",
      "ĠArpaio {'ĠArkansas': 28, 'ĠJacksonville': 25, 'Pakistan': 25, 'ĠRochester': 23, 'ĠPakistan': 22, 'ĠPakistani': 22}\n",
      "ĠOkinawa {'ĠLibyan': 25, 'ĠHungarian': 24, 'ĠMyanmar': 23, 'Pakistan': 23, 'ĠPakistan': 23, 'ĠLibya': 23}\n",
      "ĠDresden {'Denver': 27, 'ĠDayton': 26, 'Detroit': 24, 'ĠIcelandic': 23, 'ĠShinra': 22, 'ĠIceland': 22}\n",
      "ĠPoe {'Pokemon': 31, 'PokÃ©mon': 26, 'ĠPortsmouth': 26, 'ĠPokemon': 22, 'ĠPokÃ©mon': 22, 'ĠClarkson': 22}\n"
     ]
    }
   ],
   "source": [
    "show_topk.indices_fn = tokenizer.convert_ids_to_tokens\n",
    "for i in values.mean(1).topk(1000).indices.tolist():\n",
    "    print(tokenizer.convert_ids_to_tokens(i), show_topk(values[i][:6].long(), indices[i][:6]))"
   ]
  },
  {
   "cell_type": "code",
   "execution_count": 382,
   "id": "d7da0142",
   "metadata": {},
   "outputs": [
    {
     "name": "stdout",
     "output_type": "stream",
     "text": [
      "ĠChinese\n"
     ]
    },
    {
     "data": {
      "text/plain": [
       "{'ĠIcelandic': 24.352,\n",
       " 'ĠKerala': 23.704,\n",
       " 'ĠJakarta': 23.631,\n",
       " 'ĠHiroshima': 23.234,\n",
       " 'ĠIceland': 22.886,\n",
       " 'ĠShinra': 22.554,\n",
       " 'ĠManila': 22.424,\n",
       " 'ĠTaiwanese': 22.05,\n",
       " 'ichita': 21.933,\n",
       " 'ĠBangkok': 21.846,\n",
       " 'The': 21.8,\n",
       " 'ĠHelsinki': 21.667,\n",
       " 'ĠHungarian': 21.122,\n",
       " 'This': 20.668,\n",
       " 'ĠSingapore': 20.531,\n",
       " 'Houston': 20.418,\n",
       " 'ĠCzech': 20.297,\n",
       " 'ĠBudapest': 20.188,\n",
       " 'ĠSwitzerland': 19.915,\n",
       " 'ĠIchigo': 19.882}"
      ]
     },
     "execution_count": 382,
     "metadata": {},
     "output_type": "execute_result"
    }
   ],
   "source": [
    "i = tokenizer.encode(' Chinese')[0]; print(tokenizer.convert_ids_to_tokens(i))\n",
    "show_topk(*m[i].topk(20))"
   ]
  },
  {
   "cell_type": "code",
   "execution_count": null,
   "id": "c168801f",
   "metadata": {},
   "outputs": [],
   "source": []
  },
  {
   "cell_type": "code",
   "execution_count": 9,
   "id": "052c1e0f",
   "metadata": {},
   "outputs": [],
   "source": [
    "prompt_token = 'Ġ!'; prompt_id = tokenizer._convert_token_to_id(prompt_token)\n",
    "bop_str = 'Instruction: '; bop_id = tokenizer.encode(bop_str)[0]  # 'Inst'\n",
    "eop_str = '. For example:'; eop_id = tokenizer.encode(eop_str)[2] # 'Ġexample'\n",
    "bos_id = tokenizer._convert_token_to_id('Ġ->')\n",
    "eos_id = tokenizer._convert_token_to_id('Ċ')\n",
    "\n",
    "\n",
    "class CHILDDataset(Dataset):\n",
    "    def __init__(self, input_strs, tokenizer):\n",
    "        if tokenizer.pad_token is None: tokenizer.pad_token = '!'\n",
    "        self.inputs = tokenizer.batch_encode_plus(input_strs, add_special_tokens=False, padding=True, return_tensors='pt')#长的截，短的补\n",
    "        input_ids = self.inputs.input_ids\n",
    "        self.labels = torch.ones_like(input_ids) * (-100)\n",
    "\n",
    "        for bi in range(input_ids.size(0)): \n",
    "            bop_idx = (input_ids[bi] == bop_id).nonzero().squeeze(1) #prompt\n",
    "            eop_idx = (input_ids[bi] == eop_id).nonzero().squeeze(1) #context\n",
    "\n",
    "            if len(bop_idx) > 0:\n",
    "                assert len(bop_idx) == 1 and len(eop_idx) == 1\n",
    "                bop_idx, eop_idx = bop_idx.item(), eop_idx.item() #取出单元素张量的元素值并返回该值，保持原元素类型不变\n",
    "                #bop: 0   eop:6\n",
    "                input_ids[bi, bop_idx: eop_idx + 2] *= -1  # use prompt embedding for prompt tokens\n",
    "  \n",
    "            bos_indices = (input_ids[bi] == bos_id).nonzero().squeeze(1)\n",
    "#             print(\"bos_indices:\",bos_indices)\n",
    "            eos_indices = (input_ids[bi] == eos_id).nonzero()[-len(bos_indices):].squeeze(1) #每一位 eos都比bos大2\n",
    "#             print(\"eos_indices:\",eos_indices)\n",
    "            for i, (bos_i, eos_i) in enumerate(zip(bos_indices.tolist(), eos_indices.tolist())):\n",
    "                assert eos_i > bos_i + 1\n",
    "                if i >= 0:  #zero-shot\n",
    "                    self.labels[bi, bos_i + 1: eos_i] = input_ids[bi, bos_i + 1: eos_i] \n",
    "        \n",
    "        \n",
    "    def re_input(self):\n",
    "        return self.inputs['input_ids']\n",
    "        \n",
    "    def __len__(self):\n",
    "        return len(self.inputs['input_ids'])\n",
    "\n",
    "    def __getitem__(self, i):\n",
    "        return {'input_ids': self.inputs['input_ids'][i],  #输入\n",
    "                'attention_mask': self.inputs['attention_mask'][i],\n",
    "                'labels': self.labels[i]}   #结果"
   ]
  },
  {
   "cell_type": "code",
   "execution_count": 10,
   "id": "2b322160",
   "metadata": {},
   "outputs": [
    {
     "data": {
      "text/plain": [
       "(4613, 198)"
      ]
     },
     "execution_count": 10,
     "metadata": {},
     "output_type": "execute_result"
    }
   ],
   "source": [
    "bos_id,eos_id"
   ]
  },
  {
   "cell_type": "code",
   "execution_count": 11,
   "id": "696ea332",
   "metadata": {},
   "outputs": [],
   "source": [
    "from child_utils import *\n",
    "torch.set_printoptions(threshold=np.inf)"
   ]
  },
  {
   "cell_type": "code",
   "execution_count": 12,
   "id": "56fcd441",
   "metadata": {},
   "outputs": [],
   "source": [
    "class WrappedEmbedding(nn.Module):\n",
    "    def __init__(self,  \n",
    "                wte: nn.Embedding,  #正常向量\n",
    "                prompt_id: int = None,\n",
    "                prompt_len: int = 10, \n",
    "                random_range: float = 0.5,\n",
    "                initialize_from_vocab: bool = True):\n",
    "        super(WrappedEmbedding, self).__init__()\n",
    "#         self.wte = wte\n",
    "#         self.prompt_id = prompt_id\n",
    "#         self.prompt_len = prompt_len\n",
    "        self.__dict__.update(locals()); del self.self #locals()以字典类型返回当前位置的全部局部变量\n",
    "        if self.prompt_id is not None: #prompt_embedding prompt词向量\n",
    "            self.prompt_embedding = nn.parameter.Parameter( #将一个不可训练的类型Tensor转换成可以训练的类型parameter\n",
    "                self.initialize_embedding(random_range, initialize_from_vocab)).to(self.wte.weight.device) #在-0.5-0.5中随机取值初始化\n",
    "        else:\n",
    "            self.prompt_embedding = nn.Embedding(self.prompt_len, self.wte.weight.size(1)).to(self.wte.weight.device)\n",
    "                                        #词典大小（总共输入多少词） 嵌入向量维度（多少维表示一个符号）\n",
    "            \n",
    "            assert initialize_from_vocab\n",
    "            self.init_prompt_embedding_()  #将wte的weight值作为初始化\n",
    "#             self.prompt_embedding.weight.data = self.initialize_embedding(random_range, initialize_from_vocab)     \n",
    " \n",
    "    def initialize_embedding(self, random_range: float = 0.5, initialize_from_vocab: bool = True):\n",
    "        if initialize_from_vocab: return self.wte.weight[:self.prompt_len].clone().detach() #返回一个新的tensor，新的tensor和原来的tensor共享数据内存，但不涉及梯度计算\n",
    "        return torch.FloatTensor(self.prompt_len, self.wte.weight.size(1)).uniform_(-random_range, random_range) #产生随机数\n",
    "    \n",
    "    def init_prompt_embedding_(self):\n",
    "#         print(self.wte.weight)\n",
    "        self.prompt_embedding.weight.data[:] = self.wte.weight[:self.prompt_len]\n",
    "\n",
    "        \n",
    "    def forward(self, input_ids):\n",
    "        if self.prompt_id is not None:\n",
    "            input_embeds = self.wte(input_ids)\n",
    "            input_embeds[input_ids == self.prompt_id] = self.prompt_embedding.expand(input_embeds.size(0), -1, -1)\n",
    "        else: # adapted from cpm-2\n",
    "            prompt_mask = input_ids < 0  #返回bool类型\n",
    "#             print(\"prompt_mask:\",prompt_mask.shape)\n",
    "            prompt_ids = -input_ids * prompt_mask #将prompt的值变为正数，其他置零\n",
    "#             print(\"prompt_ids:\",prompt_ids)\n",
    "#             print(prompt_ids < self.prompt_len)\n",
    "#             print(prompt_ids)\n",
    "            assert torch.all(prompt_ids < self.prompt_len)\n",
    "#             print(self.prompt_embedding(prompt_ids).shape)\n",
    "            p_embeds = self.prompt_embedding(prompt_ids) * prompt_mask.float().unsqueeze(-1)\n",
    "#             print(\"p_embeds:\",p_embeds.shape)\n",
    "            input_ids = input_ids * ~prompt_mask\n",
    "            w_embeds = self.wte(input_ids) * (~prompt_mask).float().unsqueeze(-1)\n",
    "#             print(\"w_embeds:\",w_embeds.shape)\n",
    "            input_embeds = w_embeds + p_embeds \n",
    "#         print(input_embeds)\n",
    "        return input_embeds"
   ]
  },
  {
   "cell_type": "code",
   "execution_count": 13,
   "id": "44b17b42",
   "metadata": {},
   "outputs": [],
   "source": [
    "# adapted from cpm-2: https://github.com/TsinghuaAI/CPM-2-Finetune/blob/master/utils.py#L133-L164    #不训练模型参数，只训练prompt_embading，这个函数是取这些参数\n",
    "def get_params_for_prompt_optimization(module: nn.Module): \n",
    "    params = []\n",
    "    for t in module.named_modules():\n",
    "        if \"prompt_embedding\" in t[0]:\n",
    "            params.append({'params': [p for p in list(t[1]._parameters.values()) if p is not None]})\n",
    "    for t in module.named_parameters():\n",
    "        if \"prompt\" not in t[0]:\n",
    "            t[1].requires_grad_(False)    \n",
    "    return params\n",
    "\n",
    "def create_optimizer(model, training_args):\n",
    "    from torch.nn.parallel.distributed import DistributedDataParallel as DDP\n",
    "    while isinstance(model, (DDP, )): model = model.module\n",
    "        \n",
    "    we.init_prompt_embedding_()\n",
    "    param_groups = get_params_for_prompt_optimization(model)\n",
    "    optimizer = AdamW(param_groups, lr=training_args.learning_rate, \n",
    "                      betas=(training_args.adam_beta1, training_args.adam_beta2),eps=training_args.adam_epsilon)\n",
    "    return optimizer"
   ]
  },
  {
   "cell_type": "code",
   "execution_count": 14,
   "id": "39b4f350",
   "metadata": {
    "scrolled": true
   },
   "outputs": [],
   "source": [
    "# wte = model.get_input_embeddings() #提取 embedding 中的 词向量部分\n",
    "# if hasattr(wte, 'wte'): wte = wte.wte  # already been wrapped\n",
    "# we = WrappedEmbedding(wte, prompt_len=20000)\n",
    "# model.set_input_embeddings(we) #为词向量赋值"
   ]
  },
  {
   "cell_type": "code",
   "execution_count": 15,
   "id": "ae3bb45f",
   "metadata": {},
   "outputs": [],
   "source": [
    "def verbalize(obj):\n",
    "    if type(obj) == bool: return 'Yes' if obj else 'No'\n",
    "    return str(obj)\n",
    "\n",
    "def list2str(l): return ' '.join(str(i) for i in l)\n",
    "def pairs2str(pairs): return ', '.join(str(k) + ': ' + str(v) for k, v in pairs)\n",
    "\n",
    "def make_context_str(cxt):\n",
    "    if type(cxt) == list:\n",
    "        return pairs2str(cxt) if type(cxt[0]) == tuple and len(cxt[0]) == 2 else list2str(cxt)\n",
    "    if type(cxt) == tuple:\n",
    "        return '; '.join(make_context_str(c) for c in cxt)  # 用分号分隔context的不同部分\n",
    "    \n",
    "def make_query_str(instruction, query):\n",
    "    if instruction is None and query is None: return ''\n",
    "    s = '.'\n",
    "    if instruction is not None: s = s + ' ' + instruction\n",
    "    if query is not None:\n",
    "        if type(query) in [int, bool, str]: query = [query]\n",
    "        if type(query) == dict:# and list(query.keys())[0] != \"CS\"):  # by nrk\n",
    "            s = s + ' ' + '{' + ','.join([' replace %s with %s' % (str(k), str(v)) for k, v in query.items()]) + ' }'\n",
    "        if type(query) in [list, tuple]:\n",
    "            s = s + ' ' + ' '.join([list2str(i) if type(i) == list else str(i) for i in query])\n",
    "    return s\n",
    "\n",
    "def make_example_str(example, query2str):\n",
    "    instruction, cxt, query, ans = example\n",
    "    if type(ans) not in [Sequence, list]: ans = [ans]\n",
    "    ans = [verbalize(a) for a in ans]\n",
    "#     return '%s -> %s' % (''.join(l[0]) + make_query_str(instruction if with_instruction else None, query), ' '.join(ans))  # by nrk\n",
    "#     return '%s -> %s' % (' '.join(l) + make_query_str(instruction if with_instruction else None, query), ' '.join(ans))  # by XD\n",
    "#     return '%s -> %s' % (make_context_str(cxt) + make_query_str(instruction if with_instruction else None, query[0]), ' '.join(ans))\n",
    "    return '%s -> %s' % (make_context_str(cxt) + query2str(query), ' '.join(ans))\n",
    "\n",
    "\n",
    "def sample_rand_len(vocab, k): return sample(vocab, k=randint(1, k))"
   ]
  },
  {
   "cell_type": "code",
   "execution_count": 27,
   "id": "df63ee7d",
   "metadata": {},
   "outputs": [],
   "source": [
    "def promptize(s):\n",
    "#     return prompt_token * len(s.split())\n",
    "    return bop_str + s + eop_str\n",
    "\n",
    "courses_vocab=[\"Sql\",\"Math\",\"English\",\"Chinese\",\"Art\",\"Music\",\"History\",\"Biology\",\"Chemistry\",\"Physics\",\"Geography\"]\n",
    "all_vocab = [\"apple\",\"pear\",\"peach\",\"grape\",\"banana\",\"pineapple\",\"lemon\",\"strawberry\",\"cola\",\"juice\",\"coffee\",\"milk\",\"wine\",\"beer\",\"whisky\",\"vodka\",\"brandy\"]\n",
    "solid_vocab=[\"apple\",\"pear\",\"peach\",\"grape\",\"banana\",\"pineapple\",\"lemon\",\"strawberry\"]\n",
    "liquid_vocab=[\"cola\",\"juice\",\"coffee\",\"milk\",\"wine\",\"beer\",\"whisky\",\"vodka\",\"brandy\"]\n",
    "names_vocab =  [i for i in string.ascii_uppercase]\n",
    "depts_vocab = [\"CS\",\"Chi\",\"Eng\",\"Mat\"]\n",
    "sl = [\"solid\"]*len(solid_vocab)+[\"liquid\"]*len(liquid_vocab)\n",
    "sl_vocab = dict(zip(all_vocab,sl))\n",
    "toys = [\"ball\",\"doll\",\"puppet\",\"weiqi\",\"chess\",\"slide\",\"diabolo\",\"plasticine\",\"tumbler\"]\n",
    "                                              #滑梯     空竹      橡皮泥      不倒翁\n",
    "boys = [\"Alex\",\"Dylan\",\"Daniel\",\"Patrick\",\"Austin\",\"Harrison\",\"Tom\",\"Neil\"]\n",
    "girls = [\"Ashley\",\"jessica\",\"Sarah\",\"Amanda\",\"Nicole\",\"Katherine\",\"Anne\",\"Eva\"]\n",
    "all = boys+girls\n",
    "bg = [\"boys\"]*len(boys)+[\"girls\"]*len(girls)\n",
    "bg_vocab = dict(zip(all,bg))\n",
    "\n",
    "all = solid_vocab+toys\n",
    "ft = [\"fruits\"]*len(solid_vocab)+[\"toys\"]*len(toys)\n",
    "ft_vocab = dict(zip(all,ft))\n",
    "\n",
    "def make_input_str(task, nrows=4, ncols=4, full_vocab=None, ans_vocab=[True, False]):\n",
    "    if full_vocab is None: full_vocab = string.ascii_uppercase + string.digits\n",
    "    transform_fn, vocab_fn, sample_fn, query_fn, query2str = task\n",
    "    instruction = transform_fn.__name__.replace('_', ' ')\n",
    "    if vocab_fn is None: vocab_fn = lambda: full_vocab\n",
    "    if query_fn is None: query_fn = lambda *_: None\n",
    "        \n",
    "    examples = []\n",
    "    query = None\n",
    "    for i in range(nrows):\n",
    "        vocab = vocab_fn()\n",
    "        l = sample_fn(vocab, k=ncols)\n",
    "        query = query_fn(l, vocab, ncols)\n",
    "        examples.append([instruction, l, query, transform_fn(l, query=query)])\n",
    "#     examples = balance(examples,ans_vocab)\n",
    "\n",
    "    desc = promptize(instruction) if True else ''\n",
    "    text = '\\n'.join([make_example_str(e, query2str) for e in examples])\n",
    "    text = desc + '\\n' + text + '\\n'\n",
    "    return text"
   ]
  },
  {
   "cell_type": "code",
   "execution_count": 17,
   "id": "bd0c286b",
   "metadata": {},
   "outputs": [],
   "source": [
    "# # def balance(examples, ans_vocab=[True, False]):\n",
    "# def balance1(examples, ans_vocab):\n",
    "#     groups = seq(examples).group_by(_[-1]).map(_[1])  # 按ans分组\n",
    "# #     assert groups.len() == len(ans_vocab), '%d < %d' % (groups.len(), len(ans_vocab))  # 保证每种ans都出现\n",
    "#     min_cnt = groups.map(lambda x: len(x)).min()\n",
    "#     examples = groups.map(lambda x: sample(x, min_cnt)).flatten().list() # 每组都采样最小个数后去分组\n",
    "#     return sample(examples, len(examples))  # 重新打乱"
   ]
  },
  {
   "cell_type": "code",
   "execution_count": 18,
   "id": "2d664342",
   "metadata": {},
   "outputs": [],
   "source": [
    "def balance(examples, ans_vocab):\n",
    "    groups = seq(examples).group_by(_[-1]).map(_[1])  # 按ans分组\n",
    "#     min_cnt = groups.map(lambda x: len(x)).min()\n",
    "    min_cnt =3\n",
    "    if(groups.len()>3):\n",
    "        min_cnt = 3\n",
    "    elif(groups.len()==3):\n",
    "        min_cnt = 3\n",
    "    if(min_cnt > 2):\n",
    "        examples = groups.map(lambda x: sample(x, 3)).flatten().list() # 每组都采样最小个数后去分组\n",
    "        return sample(examples, len(examples))  # 重新打乱\n",
    "    else:\n",
    "        examples = groups.map(lambda x: sample(x, min_cnt)).flatten().list() # 每组都采样最小个数后去分组\n",
    "        return sample(examples, len(examples))  # 重新打乱"
   ]
  },
  {
   "cell_type": "code",
   "execution_count": 19,
   "id": "ab80cfd2",
   "metadata": {},
   "outputs": [],
   "source": [
    "import itertools  \n",
    "def Do_all_students_choose_courses_in_a_department(cxt, query):\n",
    "    SC, CD = cxt  # SC paris: studeng-course relation, CD pairs: course-department function\n",
    "    ss, d = query  # ss: 学生子集（可以*不止两个学生*），d: 课程\n",
    "#     return seq(ss).map(lambda s: seq(SC).filter(_[0] == s).map(_[1]).intersection(CD.filter(_.[1] == d).map(_.[0])).non_empty()).all()\n",
    "    return (seq(ss)\n",
    "            .map(lambda s: seq(SC).filter(_[0] == s).map(_[1])  # 学生s选的所有课程\n",
    "                 .intersection(\n",
    "                     seq(CD).filter(_[1] == d).map(_[0])) # d系的课程\n",
    "                 .non_empty())  # s选了d系的课程\n",
    "            .all())  # 学生子集ss都选了d系的课程\n",
    "\n",
    "def all_a_sample(vocab, k):\n",
    "    S_vocab, C_vocab, D_vocab = vocab  # vocabs of students, courses, departments\n",
    "    k_S, k_C, k_D, k_SC = k  # default values: k_S = 3, k_C = 3, k_D = 2, k_SC = 5\n",
    "    S, C, D = sample(S_vocab, k_S), sample(C_vocab, k_C), sample(D_vocab, k_D)\n",
    "    \n",
    "    while len(set(CD := choices(D, k=k_C))) < k_D: continue  # ds里每个系的课都要出现\n",
    "    CD = list(zip(C, CD))  # 得到每门课所属的系\n",
    "    \n",
    "    all_SC = list(itertools.product(S, C))  # or seq(S).cartesian(C).list()\n",
    "    while seq(SC := sample(all_SC, k_SC)).map(_[0]).distinct().len() < k_S: continue  # ss里每个学生都要选课\n",
    "    return SC, CD\n",
    "\n",
    "def select_distinct(tuples, col): return seq(tuples).map(_[col]).distinct().list()\n",
    "    \n",
    "def all_a_query(cxt,vocab,k):\n",
    "    SC, CD = cxt\n",
    "    k_S, k_C, k_D, k_SC = k\n",
    "    S, D = select_distinct(SC, 0), select_distinct(CD, 1)\n",
    "#     k_ss = randint(2, len(S))\n",
    "    ss = sample(S, 2)\n",
    "    d = choice(D)\n",
    "    return ss, d\n",
    "\n",
    "def all_a_query2str(query):\n",
    "    ss, d = query\n",
    "    query_str = '%s,%s?' % (', '.join(ss[:-1]) + ' and ' + ss[-1], d)\n",
    "    return '. ' + query_str\n"
   ]
  },
  {
   "cell_type": "code",
   "execution_count": 20,
   "id": "b8103db3",
   "metadata": {},
   "outputs": [],
   "source": [
    "def all_b(cxt, query):\n",
    "    SC, CD = cxt\n",
    "    ss,d = query\n",
    "    return (seq(CD).filter(_[1] == d).map(_[0])\n",
    "                 .difference(\n",
    "                     seq(SC).filter(_[0] == ss).map(_[1]))\n",
    "                 .empty())\n",
    "\n",
    "def all_b_sample(vocab, k):\n",
    "    S_vocab, C_vocab, D_vocab = vocab  \n",
    "    k_S, k_C, k_D, k_SC = k  # default values: k_S = 2, k_C = 3, k_D = 2, k_SC = 5\n",
    "    S, C, D = sample(S_vocab, k_S), sample(C_vocab, k_C), sample(D_vocab, k_D)\n",
    "    \n",
    "    while len(set(CD := choices(D, k=k_C))) < k_D: continue  \n",
    "    CD = list(zip(C, CD)) \n",
    "    \n",
    "    all_SC = list(itertools.product(S, C))  \n",
    "    while seq(SC := sample(all_SC, k_SC)).map(_[0]).distinct().len() < k_S: continue  # ss里每个学生都要选课\n",
    "    return SC, CD\n",
    "   \n",
    "def all_b_query(cxt,vocab,k):  # XD: 不要给qeury_fn加st参数\n",
    "    SC, CD = cxt\n",
    "    k_S, k_C, k_D, k_SC = k\n",
    "    S, D = select_distinct(SC, 0), select_distinct(CD, 1)\n",
    "#     k_ss = randint(2, len(S))  # XD: k_ss unused\n",
    "    ss = choice(S)\n",
    "    d = choice(D)\n",
    "    return ss, d\n",
    "    # XD: 不要在query_fn里转str！！这里转str，transform_fn里再解析回来，两边不是白折腾吗！\n",
    "\n",
    "def all_b_query2str(query):\n",
    "    ss, d = query\n",
    "    query_str = 'Does %s take all %s courses?' % (ss, d)\n",
    "    return '. ' + query_str\n",
    "\n",
    "\n",
    "def Is_the_intersection_of_two_sets_empty(cxt, query):\n",
    "    SC= cxt\n",
    "    s,d = query\n",
    "    return (seq(SC).filter(_[0] == s).map(_[1])\n",
    "                 .intersection(\n",
    "                     seq(SC).filter(_[0] == d).map(_[1]))\n",
    "                 .non_empty())\n",
    "\n",
    "def intersection_query(cxt,vocab,k):\n",
    "    SC= cxt\n",
    "    k_S, k_C, k_SC = k #k_s = 3, k_C = 5 , k_sc = 6\n",
    "    S = select_distinct(SC, 0)\n",
    "    s,d = sample(S,2)\n",
    "    return s, d\n",
    "\n",
    "def intersection_query2str(query):\n",
    "    s, d = query\n",
    "    query_str = \"%s,%s?\" % (s, d)\n",
    "    return '. ' + query_str\n",
    "\n",
    "def intersection_sample(vocab, k):\n",
    "    S_vocab, C_vocab = vocab  \n",
    "    k_S, k_C, k_SC = k  # k_S = 3, k_C = 5, , k_SC = 6\n",
    "    S, C= sample(S_vocab, k_S), sample(C_vocab, k_C)\n",
    "    all_SC = list(itertools.product(S, C))  \n",
    "    while seq(SC := sample(all_SC, k_SC)).map(_[0]).distinct().len() < k_S: continue \n",
    "    return SC\n",
    "\n",
    "def Is_the_first_set_a_subset_of_the_second_one(cxt, query):\n",
    "    SC= cxt\n",
    "    s,d = query\n",
    "    return (seq(SC).filter(_[0] == d).map(_[1])\n",
    "                 .union(\n",
    "                     seq(SC).filter(_[0] == s).map(_[1]))\n",
    "                 ).distinct().len()== seq(SC).filter(_[0] == d).map(_[1]).distinct().len()\n",
    "\n",
    "def complement_query(cxt,vocab,k):\n",
    "    SC= cxt\n",
    "    k_S, k_C, k_SC = k #k_s = 3, k_C = 5 , k_sc = 6\n",
    "    S = select_distinct(SC, 0)\n",
    "    s,d = sample(S,2)\n",
    "    return s, d\n",
    "\n",
    "def complement_query2str(query):\n",
    "    s, d = query\n",
    "    query_str = \"%s,%s?\" % (s, d)\n",
    "    return '. ' + query_str\n",
    "\n",
    "def complement_sample(vocab, k):\n",
    "    S_vocab, C_vocab = vocab  \n",
    "    k_S, k_C, k_SC = k  # k_S = 3, k_C = 4, k_SC = 5\n",
    "    S, C= sample(S_vocab, k_S), sample(C_vocab, k_C)\n",
    "    all_SC = list(itertools.product(S, C))  \n",
    "    while seq(SC := sample(all_SC, k_SC)).map(_[0]).distinct().len() < k_S: continue \n",
    "    return SC\n",
    "\n",
    "def Are_they_the_union_of_the_last_element(cxt, query):\n",
    "    SC, DC = cxt\n",
    "    ss,d = query\n",
    "    return (seq(ss)\n",
    "            .map(lambda s: seq(SC).filter(_[0] == s).map(_[1]) \n",
    "                 .union(\n",
    "                     seq(DC).filter(_[0] == d).map(_[1])) \n",
    "                 .distinct().len() == seq(DC).filter(_[0] == d).map(_[1]).distinct().len())  \n",
    "            .all()) \n",
    "\n",
    "def union_sample(vocab, k):\n",
    "    S_vocab, C_vocab, D_vocab = vocab  \n",
    "    k_S, k_C, k_D, k_SC = k  # k_S = 3, k_C = 4, k_D = 2, k_SC = 6\n",
    "    S, C, D = sample(S_vocab, k_S), sample(C_vocab, k_C), sample(D_vocab, k_D)\n",
    "    \n",
    "    while len(set(DC := choices(D, k=k_C))) < k_D: continue  \n",
    "    DC = list(zip(DC,C)) \n",
    "    \n",
    "    all_SC = list(itertools.product(S, C))  \n",
    "    while seq(SC := sample(all_SC, k_SC)).map(_[0]).distinct().len() < k_S: continue  \n",
    "    return SC, DC\n",
    "   \n",
    "def union_query(cxt,vocab,k): \n",
    "    SC, DC = cxt\n",
    "    k_S, k_C, k_D, k_SC = k\n",
    "    S, D = select_distinct(SC, 0), select_distinct(DC, 0)\n",
    "    k_ss = randint(2, len(S))\n",
    "    ss = sample(S, k_ss)\n",
    "    d = choice(D)\n",
    "    return ss, d\n",
    "\n",
    "def union_query2str(query):\n",
    "    ss, d = query\n",
    "    query_str = '%s,%s?' % (', '.join(ss[:-1]) + ' and ' + ss[-1], d)\n",
    "    return '. ' + query_str\n",
    "\n",
    "def Are_there_elements_belonging_to_the_same_class(cxt, query): #新建联系，把vocab和属性连起来形成新集合\n",
    "    NA, DA = cxt\n",
    "    s,d = query\n",
    "    D = seq(DA).filter(_[0] == d).map(_[1])\n",
    "    return (seq(NA).filter(_[0] == s).map(_[1]).select(lambda x: sl_vocab[x] == sl_vocab[D[0]]).any())\n",
    "      \n",
    "    \n",
    "def find_sample(vocab, k): \n",
    "    name_vocab, all_vocab = vocab\n",
    "    k_name, k_all, k_D, k_SA = k  # k_name = 3, k_all = 4, k_D = 2, k_SA = 6\n",
    "    S = list(all_vocab.keys())\n",
    "    N, A, D = sample(name_vocab, k_name), sample(S, k_all), sample(string.ascii_lowercase, k_D)\n",
    "#     D = sample(d := name_vocab.pop(name_vocab.index(a) for a in N),k_D)\n",
    "    A1 = sample(S, k_D)\n",
    "    DA = list(zip(D,A1)) \n",
    "    \n",
    "    all_NA = list(itertools.product(N, A))  \n",
    "    while seq(NA := sample(all_NA, k_SA)).map(_[0]).distinct().len() < k_name: continue  \n",
    "    return NA, DA\n",
    "   \n",
    "def find_query(cxt,vocab,k): \n",
    "    NA, DA = cxt\n",
    "    k_name, k_all, k_D, k_SA = k\n",
    "    S,D = select_distinct(NA, 0), select_distinct(DA, 0)\n",
    "    s,d = choice(S), choice(D)\n",
    "    return s, d\n",
    "\n",
    "def find_query2str(query):\n",
    "    s, d = query\n",
    "    query_str = '%s,%s?' % (s, d)\n",
    "    return '. ' + query_str\n",
    "\n",
    "\n",
    "def Are_there_any_elements_different_from_other_elements(cxt, query):\n",
    "    NA = cxt\n",
    "    ss = query\n",
    "    return (seq(ss).map(lambda s: seq(NA).filter(_[0] == s).map(_[1])\n",
    "                        .select(lambda x: sl_vocab[x])[0])\n",
    "            .distinct().len( ) == 2)\n",
    "               \n",
    "def find_dif_sample(vocab, k):\n",
    "    name_vocab, all_vocab = vocab\n",
    "    k_name, k_all, k_SA = k  # k_name = 4, k_all = 4, k_SA= 3\n",
    "    N, A = sample(name_vocab, k_name), sample(list(all_vocab.keys()), k_all) \n",
    "    NA = list(zip(N,A)) \n",
    "    return NA\n",
    "   \n",
    "def find_dif_query(cxt,vocab,k): \n",
    "    NA = cxt\n",
    "    k_name, k_all, k_NA = k\n",
    "    S = select_distinct(NA, 0)\n",
    "    ss = sample(S,k_NA)\n",
    "    return ss\n",
    "\n",
    "\n",
    "def find_dif_query2str(query):\n",
    "    ss = query\n",
    "    query_str = '%s?' % (', '.join(ss[:-1]) + ' and ' + ss[-1])\n",
    "    return '. ' + query_str\n",
    "\n"
   ]
  },
  {
   "cell_type": "code",
   "execution_count": 21,
   "id": "464efbec",
   "metadata": {},
   "outputs": [],
   "source": [
    "def How_many_elements_are_similar_to_the_case(cxt, query):\n",
    "    s = cxt\n",
    "    q = query\n",
    "    return seq(s).filter(lambda x: sl_vocab[x] == sl_vocab[q[0]]).len()\n",
    "                     \n",
    "def count_sample(vocab, k):\n",
    "    all_vocab = vocab\n",
    "    k_cxt,k_query = k  # k_cxt = 4 ,k_query =1\n",
    "    N = list(all_vocab.keys())\n",
    "    s = sample(N, k_cxt) \n",
    "    return s\n",
    "   \n",
    "def count_query(cxt,vocab,k): \n",
    "    NA = cxt\n",
    "    k_cxt,k_query = k\n",
    "    N = list(vocab.keys())\n",
    "    q = sample(N,k_query)\n",
    "    return q\n",
    "\n",
    "def count_query2str(query):\n",
    "    q = query\n",
    "    query_str = '%s?' % (q[0])\n",
    "    return '. ' + query_str\n",
    "\n",
    "def Is_the_number_of_first_elements_greater_than_the_second_one(cxt, query):\n",
    "    s = cxt\n",
    "    q = query\n",
    "    return (seq(s).filter(lambda x: sl_vocab[x] == sl_vocab[q[0]]).len() >= len(s)/2)\n",
    "                     \n",
    "def compare_sample(vocab, k):\n",
    "    all_vocab,s_vocab,l_vocab = vocab\n",
    "    k_cxt,k_query = k  # k_cxt = 5 ,k_query =2\n",
    "    N = list(all_vocab.keys())\n",
    "    s = sample(N, k_cxt) \n",
    "    return s\n",
    "   \n",
    "def compare_query(cxt,vocab,k): \n",
    "    NA = cxt\n",
    "    all_vocab,s_vocab,l_vocab = vocab\n",
    "    k_cxt,k_query = k\n",
    "    q = sample(s_vocab,1)+sample(l_vocab,1)\n",
    "    random.shuffle(q)\n",
    "    return q\n",
    "\n",
    "def compare_query2str(query):\n",
    "    ss,q = query\n",
    "    query_str = '%s,%s?' % (ss,q)\n",
    "    return '. ' + query_str"
   ]
  },
  {
   "cell_type": "code",
   "execution_count": 22,
   "id": "62aee837",
   "metadata": {},
   "outputs": [],
   "source": [
    "def Ascii_size_existence(l, query): return seq(l).map(_[0] > query).any()\n",
    "def Ascii_size_all(l, query): return seq(l).map(_[0] > query).all()\n",
    "def Ascii_size_None(l, query): return seq(l).filter(_[0] > query).empty()\n",
    "def ith_element(l, query=None): return seq(l).slice(1, 2)\n",
    "def ith_group(l, query=None): return seq(l).group_by(_).select(_[1]).slice(1, 2).flatten()#.distinct()# davinci F w/ and wo dist\n",
    "# def element_at_index(l, query): return seq(l).slice(query, query + 1) # davinci F\n",
    "def element_at_index(l, query): return seq(l).enumerate().filter(_[0] == query).select(_[1])\n",
    "def replace(l, query): return seq(l).map(lambda x: query.get(x, x))\n",
    "def replace_with_the_other(l, query): # davinci F\n",
    "    query = {k: (set(l) - {k}).pop() for k in l}\n",
    "    return replace(l, query)\n",
    "def replace_all_with(l, query): return seq(l).map(lambda x: query)  # davinci F?!\n",
    "def interleave_with(l, query): return seq(l).flat_map(lambda x: [x, query])  # davinci T!!\n",
    "def unique_elements(l, query=None): return seq(l).distinct() # davinci F\n",
    "def how_many_unique_elements(l, query=None): return seq(l).distinct().len()  # davinci F\n",
    "def how_many(l, query): return seq(l).filter(_ == query).len() # davinci F\n",
    "def select_same_as(l, query): return seq(l).filter(_ == query) # simpler version of how_many. davinci F\n",
    "def select_same_number_as(l, query): return seq(l).group_by(_).select(_[1]).filter(lambda x: len(x) == len(query)).flatten() # F\n",
    "def includes(l, query): return seq(l).union(seq(query)).distinct().len() == seq(l).distinct().len() # davinci F\n",
    "def is_included_by(l, query): return seq(l).difference(seq(query)).empty() # davinci F"
   ]
  },
  {
   "cell_type": "code",
   "execution_count": 23,
   "id": "388dd77e",
   "metadata": {},
   "outputs": [],
   "source": [
    "def Compare_the_values_of_two_sets(cxt, query):\n",
    "    s = cxt\n",
    "    q = query\n",
    "    if(seq(s).filter(lambda x: sl_vocab[x] == sl_vocab[q[0]]).len() > len(s)/2):\n",
    "        return \">\"\n",
    "    elif(seq(s).filter(lambda x: sl_vocab[x] == sl_vocab[q[0]]).len() < len(s)/2):\n",
    "        return \"<\"\n",
    "    else:\n",
    "        return \"=\"\n",
    "\n",
    "def Compare_sample(vocab, k):\n",
    "    all_vocab,s_vocab,l_vocab = vocab\n",
    "    k_cxt,k_query = k  # k_cxt = 5 ,k_query =2\n",
    "    N = list(all_vocab.keys())\n",
    "    s = sample(N, k_cxt) \n",
    "    return s\n",
    "   \n",
    "def Compare_query(cxt,vocab,k): \n",
    "    NA = cxt\n",
    "    all_vocab,s_vocab,l_vocab = vocab\n",
    "    k_cxt,k_query = k\n",
    "    q = sample(s_vocab,1)+sample(l_vocab,1)\n",
    "    random.shuffle(q)\n",
    "    return q\n",
    "\n",
    "def Compare_query2str(query):\n",
    "    ss,q = query\n",
    "    query_str = '%s,%s?' % (ss,q)\n",
    "    return '. ' + query_str"
   ]
  },
  {
   "cell_type": "code",
   "execution_count": 24,
   "id": "48028352",
   "metadata": {},
   "outputs": [],
   "source": [
    "def Relationship_between_two_sets(cxt, query): #新建联系，把vocab和属性连起来形成新集合\n",
    "    NA = cxt\n",
    "    s,q= query   #s:boys/girls  q:fruits/toys\n",
    "    name = seq(NA).filter(lambda x: bg_vocab[x[0]] == s)\n",
    "    if(seq(name).map(_[1]).filter(lambda x: ft_vocab[x] == q).len() == seq(name).len()):\n",
    "        return \"all\"\n",
    "    elif(seq(name).map(_[1]).filter(lambda x: ft_vocab[x] == q).empty()):\n",
    "        return \"none\"\n",
    "    else:\n",
    "        return \"some\"\n",
    "    \n",
    "def Relationship_sample(vocab, k): \n",
    "    name_vocab, all_vocab = vocab\n",
    "    k_name, k_all, k_SA = k  # k_name = 4, k_all = 4, k_SA = 4\n",
    "    Name = list(name_vocab.keys())\n",
    "    S = list(all_vocab.keys())\n",
    "    N, A = sample(Name, k_name), sample(S, k_all)\n",
    "#     D = sample(d := name_vocab.pop(name_vocab.index(a) for a in N),k_D)\n",
    "    \n",
    "    all_NA = list(itertools.product(N, A))  \n",
    "    while seq(NA := sample(all_NA, k_SA)).map(_[0]).distinct().len() < k_name: continue  \n",
    "    return NA\n",
    "   \n",
    "def Relationship_query(cxt,vocab,k): \n",
    "    NA = cxt\n",
    "    name_vocab, all_vocab = vocab\n",
    "    k_name, k_all, k_SA = k\n",
    "    S,D = select_distinct(NA, 0),select_distinct(NA, 1)\n",
    "    s,d = choice(S),choice(D)\n",
    "    s1,d1 = name_vocab[s],all_vocab[d]\n",
    "    return s1,d1\n",
    "\n",
    "def Relationship_query2str(query):\n",
    "    s,q = query\n",
    "    query_str = '[] %s have %s. [all / some / none]?' % (s,q)\n",
    "    return '. ' + query_str"
   ]
  },
  {
   "cell_type": "code",
   "execution_count": 25,
   "id": "f199b53d",
   "metadata": {},
   "outputs": [],
   "source": [
    "tasks = [\n",
    "    (ith_element,            None,                               sample,    None,None),\n",
    "    (ith_group,              None, lambda vocab, k: seq(sample(vocab, k)).map(lambda x:[x]*randint(1, 3)).flatten().list(),None,None),\n",
    "    (element_at_index,       lambda: upper_letters,              sample,    lambda l,vocab,k: randint(0, min(2,len(l)-1))),\n",
    "    (replace,                None,                               sample,    lambda l,vocab,k: {choice(l): choice(vocab)}),\n",
    "    (replace_with_the_other, lambda: sample(full_vocab, 2),   lambda vocab,k: sample(vocab+choices(vocab, k=k-2),k), None),\n",
    "    (replace_all_with,       None,                               sample_rand_len, lambda l,vocab,k: choice(vocab)),\n",
    "    (interleave_with,        None,                               sample_rand_len, lambda l,vocab,k: choice(vocab)),\n",
    "    (unique_elements,        lambda: sample(upper_letters, 3),   choices,   None),\n",
    "    (how_many_unique_elements,lambda: sample(upper_letters, 3),  choices,   None),\n",
    "    (how_many,               lambda: sample(upper_letters, 3),   choices,   lambda l,vocab,k: choice(list(set(l)))),\n",
    "    (select_same_as,         lambda: sample(upper_letters, 3),   choices,   lambda l,vocab,k: choice(list(set(l)))),\n",
    "    (select_same_number_as,  None, lambda vocab, k: seq(sample(vocab, k)).map(lambda x:[x]*randint(1, 3)).flatten().list(),   \n",
    "     lambda l,vocab,k: [choice(vocab)]*randint(1, 3)),\n",
    "    (includes,               lambda: sample(upper_letters, 6),   sample,    lambda l,vocab,k: sample(vocab, 3)),\n",
    "    (is_included_by,         lambda: sample(upper_letters, 6),   sample,    lambda l,vocab,k: sample(vocab, 5)),\n",
    "    \n",
    "    (Ascii_size_None,        lambda: string.ascii_uppercase,              sample,    lambda l,vocab,k: \"Is there no element greater than %s?\" % choice(list(set(l)))),\n",
    "    (Ascii_size_all,         lambda: string.ascii_uppercase,              sample,    lambda l,vocab,k: \"Are all elements greater than %s?\" % choice(list(set(l)))),\n",
    "    (Ascii_size_existence,   lambda: string.ascii_uppercase,              sample,    lambda l,vocab,k: \"Is there an element greater than %s?\" % choice(list(set(l)))),\n",
    "    \n",
    "#     (all_a,                  lambda: [names_vocab,courses_vocab,depts_vocab],     all_a_sample,    all_a_query, all_a_query2str),\n",
    "    (Do_all_students_choose_courses_in_a_department,    lambda: [names_vocab,courses_vocab,depts_vocab],     all_a_sample,    all_a_query, all_a_query2str),\n",
    "    (Compare_the_values_of_two_sets,  lambda: [sl_vocab,solid_vocab,liquid_vocab],  Compare_sample,    Compare_query, Compare_query2str),\n",
    "    (Relationship_between_two_sets,   lambda: [bg_vocab,ft_vocab],               Relationship_sample,    Relationship_query, Relationship_query2str),\n",
    "    (Is_the_intersection_of_two_sets_empty,           lambda: [string.ascii_uppercase,string.ascii_lowercase],     intersection_sample,    intersection_query, intersection_query2str),\n",
    "    (Is_the_first_set_a_subset_of_the_second_one,           lambda: [string.ascii_uppercase,string.ascii_lowercase],     complement_sample,    complement_query, complement_query2str),\n",
    "    (Are_they_the_union_of_the_last_element,                lambda: [string.ascii_uppercase,string.ascii_lowercase,depts_vocab],     union_sample,    union_query, union_query2str),\n",
    "    (Are_there_elements_belonging_to_the_same_class,            lambda: [string.ascii_uppercase,sl_vocab],      find_sample,    find_query, find_query2str ),\n",
    "    (Are_there_any_elements_different_from_other_elements,          lambda: [string.ascii_uppercase,sl_vocab],      find_dif_sample,  find_dif_query, find_dif_query2str ),\n",
    "    (How_many_elements_are_similar_to_the_case,                lambda: sl_vocab,                                      count_sample,            count_query,count_query2str),\n",
    "    (Is_the_number_of_first_elements_greater_than_the_second_one,              lambda: [sl_vocab,solid_vocab,liquid_vocab],          compare_sample,            compare_query,compare_query2str),\n",
    "]"
   ]
  },
  {
   "cell_type": "code",
   "execution_count": 1365,
   "id": "105e915f",
   "metadata": {},
   "outputs": [],
   "source": [
    "# print(make_input_str(tasks[-8], nrows=30, ncols=(4, 4, 4))) "
   ]
  },
  {
   "cell_type": "code",
   "execution_count": 664,
   "id": "91683062",
   "metadata": {},
   "outputs": [],
   "source": [
    "# print(make_input_str(tasks[-9], nrows=8, ncols=(4,2))) #比较，query中给了两个元素（固体、液体），\n",
    "                                                        #若前一个元素的类型数目大于后一个，就输出YES"
   ]
  },
  {
   "cell_type": "code",
   "execution_count": 665,
   "id": "dc45005f",
   "metadata": {},
   "outputs": [],
   "source": [
    "# print(make_input_str(tasks[-9], nrows=80, ncols=(2, 3, 2, 5))) "
   ]
  },
  {
   "cell_type": "code",
   "execution_count": 460,
   "id": "e98e87d7",
   "metadata": {},
   "outputs": [
    {
     "name": "stdout",
     "output_type": "stream",
     "text": [
      "Instruction: Are there any elements different from other elements. For example:\n",
      "M: beer, N: pear, B: milk, G: peach. N, B and G? -> Yes\n",
      "F: juice, P: cola, E: coffee, G: pineapple. F, P and E? -> No\n",
      "U: grape, C: whisky, Z: juice, T: beer. Z, C and T? -> No\n",
      "H: whisky, R: apple, L: strawberry, O: brandy. R, L and O? -> Yes\n",
      "V: juice, W: brandy, P: coffee, O: banana. O, W and P? -> Yes\n",
      "H: banana, J: pineapple, E: coffee, G: grape. H, G and J? -> No\n",
      "\n"
     ]
    }
   ],
   "source": [
    "print(make_input_str(tasks[-3], nrows=80, ncols=(4,4,3))) "
   ]
  },
  {
   "cell_type": "code",
   "execution_count": 462,
   "id": "6fb4988c",
   "metadata": {},
   "outputs": [
    {
     "name": "stdout",
     "output_type": "stream",
     "text": [
      "Instruction: Are there elements belonging to the same class. For example:\n",
      "P: banana, P: brandy, I: brandy, U: peach; v: grape, b: wine. I,b? -> Yes\n",
      "K: whisky, P: apple, K: cola, L: apple; v: whisky, a: strawberry. K,a? -> No\n",
      "R: pear, R: cola, E: strawberry, M: cola; q: pear, h: vodka. E,h? -> No\n",
      "N: pineapple, Z: pineapple, C: coffee, C: juice; p: lemon, j: milk. N,p? -> Yes\n",
      "E: beer, J: milk, I: peach, I: beer; j: peach, n: banana. E,j? -> No\n",
      "R: grape, P: grape, P: juice, N: grape; k: milk, n: vodka. P,k? -> Yes\n",
      "\n"
     ]
    }
   ],
   "source": [
    "print(make_input_str(tasks[-4], nrows=100, ncols=(3,4,2,4)))  #找相同"
   ]
  },
  {
   "cell_type": "code",
   "execution_count": 668,
   "id": "f4070da5",
   "metadata": {},
   "outputs": [],
   "source": [
    "# print(make_input_str(tasks[-1], nrows=8, ncols=(5,2))) #比较，query中给了两个元素（固体、液体），\n",
    "                                                        #若前一个元素的类型数目大于后一个，就输出YES"
   ]
  },
  {
   "cell_type": "code",
   "execution_count": 669,
   "id": "4f3668d5",
   "metadata": {},
   "outputs": [],
   "source": [
    "# print(make_input_str(tasks[-2], nrows=30, ncols=(3,1), ans_vocab=[0,1,2,3]))    #数数，数cxt中与query中元素同类的个数\n",
    "                                                                                  #这里修改了balance函数"
   ]
  },
  {
   "cell_type": "code",
   "execution_count": 670,
   "id": "db442a52",
   "metadata": {},
   "outputs": [],
   "source": [
    "# print(make_input_str(tasks[-5], nrows=10, ncols=(3,4,2,4)))"
   ]
  },
  {
   "cell_type": "code",
   "execution_count": 671,
   "id": "eadf0bd9",
   "metadata": {},
   "outputs": [],
   "source": [
    "# print(make_input_str(tasks[-6], nrows=18, ncols=(3,11,5))) "
   ]
  },
  {
   "cell_type": "code",
   "execution_count": 672,
   "id": "c8c59a5b",
   "metadata": {},
   "outputs": [],
   "source": [
    "# print(make_input_str(tasks[-7], nrows=4, ncols=(3,4,5)))"
   ]
  },
  {
   "cell_type": "code",
   "execution_count": 1377,
   "id": "c3df9c68",
   "metadata": {},
   "outputs": [
    {
     "name": "stdout",
     "output_type": "stream",
     "text": [
      "Instruction: Do all students choose courses in a department. For example:\n",
      "L: Geography, L: English, B: Chemistry, L: Chemistry, Z: Chemistry; English: Eng, Geography: Eng, Chemistry: Mat. B and L,Eng? -> No\n",
      "J: History, O: Art, O: History, J: Math, D: History; History: CS, Art: Mat, Math: Mat. D and O,CS? -> Yes\n",
      "Z: Sql, Z: Music, P: Chemistry, P: Sql, T: Music; Sql: Eng, Music: Eng, Chemistry: Chi. P and Z,Chi? -> No\n",
      "J: Chinese, J: Music, U: Music, J: Sql, H: Chinese; Chinese: CS, Sql: Eng, Music: Eng. J and H,CS? -> Yes\n",
      "\n"
     ]
    }
   ],
   "source": [
    "# print(make_input_str(tasks[-10], nrows=100, ncols=(3, 3, 2, 5))) "
   ]
  },
  {
   "cell_type": "code",
   "execution_count": 674,
   "id": "06d90c77",
   "metadata": {},
   "outputs": [],
   "source": [
    "# print(make_input_str(tasks[-2], nrows=8, ncols=4))"
   ]
  },
  {
   "cell_type": "code",
   "execution_count": 675,
   "id": "3185653b",
   "metadata": {},
   "outputs": [],
   "source": [
    "# if n_total == 1:\n",
    "#     inputs = tokenizer.encode_plus(text, return_tensors='pt')\n",
    "#     inputs = prepare_inputs(inputs, model.device)\n",
    "#     outputs = model(**inputs, output_attentions=False)\n",
    "\n",
    "#     # assert inputs.input_ids.size(0) == 1\n",
    "#     input_ids = inputs.input_ids\n",
    "#     logits = outputs.logits\n",
    "\n",
    "#     bsz = input_ids.size(0); assert bsz == 1\n",
    "#     labels = torch.ones_like(input_ids) * (-100)\n",
    "#     for bi in range(bsz):\n",
    "#         bos_indices = (input_ids[bi] == bos_id).nonzero().squeeze(1)\n",
    "#         eos_indices = (input_ids[bi] == eos_id).nonzero()[-nrows:].squeeze(1)\n",
    "#         for i, (example, bos_i, eos_i) in enumerate(zip(examples, bos_indices.tolist(), eos_indices.tolist())):\n",
    "#             print(' ' + make_example_str(example))\n",
    "#             ans_ids = input_ids[bi, bos_i + 1: eos_i]\n",
    "#             if i >= 2: labels[bi, bos_i: eos_i - 1] = ans_ids\n",
    "#             ans_prob_dist = logits[bi, bos_i: eos_i - 1].softmax(-1)\n",
    "#             ans_probs = ans_prob_dist[torch.arange(ans_prob_dist.size(0)), ans_ids]\n",
    "#             ans_tokens = tokenizer.convert_ids_to_tokens(ans_ids)\n",
    "#             for ans_id, ans_token, ans_prob, dist in zip(ans_ids, ans_tokens, numpy(ans_probs, decimals=3), ans_prob_dist):\n",
    "#                 top1_correct = (dist.argmax() == ans_id).item()\n",
    "#                 print(('*' if top1_correct else ' ') + ans_token, ans_prob, \n",
    "#                       show_topk(*dist.topk(5), indices_fn=tokenizer.convert_ids_to_tokens)) \n",
    "#     loss = nn.CrossEntropyLoss()(logits.view(-1, logits.size(-1)), labels.view(-1))\n",
    "#     loss"
   ]
  },
  {
   "cell_type": "code",
   "execution_count": 676,
   "id": "6b5d2b45",
   "metadata": {},
   "outputs": [],
   "source": [
    "# tokenizer.convert_ids_to_tokens(617)"
   ]
  },
  {
   "cell_type": "code",
   "execution_count": 677,
   "id": "f7d6edbc",
   "metadata": {},
   "outputs": [],
   "source": [
    "# sum(s.count('Yes') for s in input_strs)\n",
    "# sum(s.count('No') for s in input_strs)\n",
    "# sum(s.count('all') for s in input_strs)\n",
    "# sum(s.count('none') for s in input_strs)\n",
    "# sum(s.count('some') for s in input_strs)\n",
    "# sum(s.count('3') for s in input_strs)"
   ]
  },
  {
   "cell_type": "code",
   "execution_count": 187,
   "id": "d64330f3",
   "metadata": {
    "scrolled": true
   },
   "outputs": [],
   "source": [
    "# [e['input_ids'] for e in train_dataset]"
   ]
  },
  {
   "cell_type": "code",
   "execution_count": 140,
   "id": "ee181c24",
   "metadata": {},
   "outputs": [],
   "source": [
    "# tokenizer.convert_ids_to_tokens(([e['input_ids'] for e in train_dataset][0]).numpy().tolist())"
   ]
  },
  {
   "cell_type": "code",
   "execution_count": 141,
   "id": "4ff9a2be",
   "metadata": {
    "scrolled": true
   },
   "outputs": [],
   "source": [
    "# print(eval_dataset.labels)"
   ]
  },
  {
   "cell_type": "code",
   "execution_count": null,
   "id": "c759bca1",
   "metadata": {},
   "outputs": [],
   "source": []
  },
  {
   "cell_type": "markdown",
   "id": "5f588b59",
   "metadata": {},
   "source": [
    "# 请从这里开始,肖老师"
   ]
  },
  {
   "cell_type": "code",
   "execution_count": 297,
   "id": "17373019",
   "metadata": {
    "scrolled": true
   },
   "outputs": [
    {
     "name": "stdout",
     "output_type": "stream",
     "text": [
      "Instruction: Relationship between two sets. For example:\n",
      "Daniel: lemon, Ashley: grape, Amanda: grape, Harrison: pear. [] boys have fruits. [all / some / none]? -> all\n",
      "\n",
      "Instruction: Relationship between two sets. For example:\n",
      "Sarah: lemon, Alex: peach, Harrison: grape, Eva: plasticine. [] boys have toys. [all / some / none]? -> none\n",
      "\n"
     ]
    }
   ],
   "source": [
    "# n_total, n_valid = 500, 100  #全部数目，测试数目\n",
    "# n_total, n_valid = 800, 200\n",
    "n_total, n_valid = 180, 30\n",
    "# n_total, n_valid =4,2\n",
    "n_train = n_total - n_valid\n",
    "# input_strs = [make_input_str(tasks[-7], nrows=1, ncols=(3,4,5)) for __ in range(n_total)]# Is the intersection of two sets empty.\n",
    "# input_strs = [make_input_str(tasks[-3], nrows=1, ncols=(4,4,3)) for __ in range(n_total)]# Are there any elements different from other elements\n",
    "# input_strs = [make_input_str(tasks[-4], nrows=1, ncols=(3,4,2,4)) for __ in range(n_total)]# Are_there_elements_belonging_to_the_same_class\n",
    "# input_strs = [make_input_str(tasks[-1], nrows=1, ncols=(5,2)) for __ in range(n_total)]#Is_the_number_of_first_elements_greater_than_the_second_one\n",
    "# input_strs = [make_input_str(tasks[-2], nrows=1, ncols=(3,1), ans_vocab=[0,1,2,3]) for __ in range(n_total)] #How_many_elements_are_similar_to_the_example\n",
    "# input_strs = [make_input_str(tasks[-5], nrows=1, ncols=(3,4,2,4)) for __ in range(n_total)] #Are_they_the_union_of_the_last_element\n",
    "# input_strs = [make_input_str(tasks[-6], nrows=1, ncols=(3,11,5)) for __ in range(n_total)]#Is the first set a subset of the second one\n",
    "# input_strs = [make_input_str(tasks[-10], nrows=1, ncols=(3, 3, 2, 5)) for __ in range(n_total)]\n",
    "# input_strs = [make_input_str(tasks[-9], nrows=1, ncols=(4,2)) for __ in range(n_total)] #Compare the values of two sets.\n",
    "input_strs = [make_input_str(tasks[-8], nrows=1, ncols=(4, 4, 4)) for __ in range(n_total)] #Relationship between two sets.\n",
    "\n",
    "for s in sample(input_strs, 2): print(s)\n",
    "# print(input_strs)"
   ]
  },
  {
   "cell_type": "code",
   "execution_count": 113,
   "id": "58f1d494",
   "metadata": {},
   "outputs": [],
   "source": [
    "# s,end = input_strs[0].index(\":\"),input_strs[0].index(\"For\")\n",
    "# name = input_strs[0][s+2:end]\n",
    "# import json\n",
    "# filename = './nrk/'+name\n",
    "# with open(filename,\"w\") as file_obj:\n",
    "#     json.dump(input_strs,file_obj)"
   ]
  },
  {
   "cell_type": "code",
   "execution_count": 311,
   "id": "2e64ee95",
   "metadata": {},
   "outputs": [
    {
     "name": "stdout",
     "output_type": "stream",
     "text": [
      "Instruction: Is this sentence correct. For example:\n",
      "A is less difficult to carry than B because A is smaller. Is that right? -> Yes\n",
      "\n",
      "Instruction: Is this sentence correct. For example:\n",
      "A is more dangerous to look at than B because A is less luminous. Is that right? -> No\n",
      "\n"
     ]
    }
   ],
   "source": [
    "for s in sample(text, 2): print(s)\n",
    "n_total, n_valid = 180, 30\n",
    "n_train = n_total - n_valid\n",
    "text = text[:180]"
   ]
  },
  {
   "cell_type": "code",
   "execution_count": 323,
   "id": "e2f80b74",
   "metadata": {},
   "outputs": [
    {
     "name": "stderr",
     "output_type": "stream",
     "text": [
      "Using pad_token, but it is not set yet.\n"
     ]
    }
   ],
   "source": [
    "# train_dataset = CHILDDataset(input_strs[:-n_valid], tokenizer)\n",
    "# eval_dataset = CHILDDataset(input_strs[-n_valid:], tokenizer)\n",
    "train_dataset = CHILDDataset(text[:-n_valid], tokenizer)\n",
    "eval_dataset = CHILDDataset(text[-n_valid:], tokenizer)"
   ]
  },
  {
   "cell_type": "code",
   "execution_count": 324,
   "id": "82ad27d7",
   "metadata": {},
   "outputs": [],
   "source": [
    "wte = model.get_input_embeddings() #提取 embedding 中的 词向量部分\n",
    "if hasattr(wte, 'wte'): wte = wte.wte  # already been wrapped\n",
    "we = WrappedEmbedding(wte, prompt_len=40000)\n",
    "model.set_input_embeddings(we) #为词向量赋值"
   ]
  },
  {
   "cell_type": "code",
   "execution_count": 325,
   "id": "416bbc0f",
   "metadata": {},
   "outputs": [],
   "source": [
    "def compute_metrics(pred):\n",
    "    labels = []\n",
    "    bos_indices = []\n",
    "    eos_indices = []\n",
    "    preds = []\n",
    "    m = nn.Softmax(dim = -1)\n",
    "    labels_loc = pred.label_ids.argmax(-1)\n",
    "    for i in range(len(labels_loc)):\n",
    "        labels.append(pred.label_ids[i][labels_loc[i]])\n",
    "                                                                                 #     arraypre = pred.predictions[0] # 6B\n",
    "    arraypre = pred.predictions                                                                              # 1.3B\n",
    "    predss = arraypre.argmax(-1)\n",
    "    num = \"\"\n",
    "   \n",
    "    for bi in range(predss.shape[0]):\n",
    "        num = labels_loc[bi]\n",
    "        preds.append(predss[bi, num-1:num]) \n",
    "        t = torch.from_numpy(pred.predictions[bi,num-1:num])                        #1.3B\n",
    "                                                                                    #         t = torch.from_numpy(pred.predictions[0][bi,num-1:num])  #6B\n",
    "        n = m(t)\n",
    "        ids = torch.topk(n,3)[1].numpy().tolist()                                              #ids   /[0] 概率\n",
    "        loc = torch.topk(n,3)[0].numpy().tolist()\n",
    "                                                                                                 #         print(ids)\n",
    "        ids = tokenizer.convert_ids_to_tokens(ids[0])\n",
    "        loc = [float('{:.4f}'.format(i)) for i in loc[0]]\n",
    "        precision = [i+\" : \"+str(j) for i,j in zip(ids,loc)]\n",
    "    acc = accuracy_score(labels, list(preds))    \n",
    "    return {\n",
    "        'accuracy': acc,\n",
    "        'precision': precision,\n",
    "    }\n"
   ]
  },
  {
   "cell_type": "code",
   "execution_count": 326,
   "id": "d34fd7d4",
   "metadata": {},
   "outputs": [
    {
     "data": {
      "text/plain": [
       "tensor([-100, -100, -100, -100, -100, -100, -100, -100, -100, -100, -100, -100,\n",
       "        -100, -100, -100, -100, -100, -100, -100, -100, -100, -100, -100, -100,\n",
       "        -100, -100, -100, -100, -100, -100, -100, 3363, -100, -100, -100, -100,\n",
       "        -100, -100])"
      ]
     },
     "execution_count": 326,
     "metadata": {},
     "output_type": "execute_result"
    }
   ],
   "source": [
    "eval_dataset[0]['labels']"
   ]
  },
  {
   "cell_type": "code",
   "execution_count": 316,
   "id": "eb7bf973",
   "metadata": {},
   "outputs": [],
   "source": [
    "# def compute_metrics(pred):\n",
    "#     labels = []\n",
    "#     bos_indices = []\n",
    "#     preds = []\n",
    "#     labels_loc = pred.label_ids.argmax(-1)\n",
    "#     for i in range(len(labels_loc)):\n",
    "#         labels.append(pred.label_ids[i][labels_loc[i]])\n",
    "# #     print(labels)\n",
    "#     arraypre = pred.predictions[0] # 6B\n",
    "# # #     arraypre = pred.predictions # 1.3B\n",
    "#     print(arraypre)\n",
    "#     predss = arraypre.argmax(-1)\n",
    "#     sent = tokenizer.convert_ids_to_tokens(predss[0])\n",
    "#     sent1 = \" \".join(sent)\n",
    "#     sent1=sent1.replace(\"Ġ\",\"\")\n",
    "#     sent1=sent1.replace(\"Ċ\",\"\\n\")\n",
    "#     print(sent1)\n",
    "#     for bi in range(predss.shape[0]):\n",
    "#         for j in range(predss.shape[1]):\n",
    "#             if(predss[bi][j] == bos_id):\n",
    "#                 bos_indices.append(j)\n",
    "#         bos_i = bos_indices[-1]\n",
    "#         preds.append(predss[bi, bos_i + 1:bos_i + 2])\n",
    "    \n",
    "#     acc = accuracy_score(labels, list(preds))\n",
    "#     return {\n",
    "# #         'accuracy': acc,\n",
    "#     }\n"
   ]
  },
  {
   "cell_type": "code",
   "execution_count": 327,
   "id": "6ebf074a",
   "metadata": {
    "scrolled": true
   },
   "outputs": [
    {
     "name": "stderr",
     "output_type": "stream",
     "text": [
      "PyTorch: setting up devices\n"
     ]
    }
   ],
   "source": [
    "training_args = TrainingArguments(output_dir=\"./models/model_name\",                                                             #模型预测和检查点的输出目录\n",
    "    overwrite_output_dir=True, do_train=True, do_eval=True, do_predict=True, \n",
    "    per_device_train_batch_size=1, per_device_eval_batch_size=1,                                                  #每个GPU / TPU内核/ CPU的批处理大小\n",
    "    gradient_accumulation_steps=6,eval_steps=5, \n",
    "    weight_decay=0.001, adam_beta2=0.98, adam_epsilon=1e-6,                                      #weight_decay要应用的权重衰减,adam_epsilon AdamW优化器的ε超参数\n",
    "    lr_scheduler_type='constant', learning_rate=0.001, num_train_epochs=5,                                  #learning_rate:Adam初始学习率\n",
    "    logging_strategy ='epoch',  save_steps=0,                                             #save_steps保存两个检查点之前的更新步骤数\n",
    "    no_cuda=True, report_to='none',                                                         # to avoid report to wandb\n",
    "    evaluation_strategy ='steps',\n",
    "#     evaluation_strategy ='epoch'\n",
    ")"
   ]
  },
  {
   "cell_type": "code",
   "execution_count": 328,
   "id": "ff25273c",
   "metadata": {},
   "outputs": [],
   "source": [
    "# with open(filename,\"a\") as f:\n",
    "#         f.write(str(training_args))"
   ]
  },
  {
   "cell_type": "code",
   "execution_count": 329,
   "id": "d89c7d7b",
   "metadata": {},
   "outputs": [
    {
     "name": "stderr",
     "output_type": "stream",
     "text": [
      "/nas/xd/projects/transformers/src/transformers/optimization.py:306: FutureWarning: This implementation of AdamW is deprecated and will be removed in a future version. Use the PyTorch implementation torch.optim.AdamW instead, or set `no_deprecation_warning=True` to disable this warning\n",
      "  warnings.warn(\n"
     ]
    }
   ],
   "source": [
    "trainer = Trainer(model, training_args, train_dataset=train_dataset, eval_dataset=eval_dataset,compute_metrics=compute_metrics,\n",
    "                  optimizers=(create_optimizer(model, training_args), None))"
   ]
  },
  {
   "cell_type": "code",
   "execution_count": 330,
   "id": "0aa95c7d",
   "metadata": {},
   "outputs": [
    {
     "name": "stderr",
     "output_type": "stream",
     "text": [
      "***** Running Evaluation *****\n",
      "  Num examples = 30\n",
      "  Batch size = 1\n"
     ]
    },
    {
     "data": {
      "text/html": [
       "\n",
       "    <div>\n",
       "      \n",
       "      <progress value='60' max='30' style='width:300px; height:20px; vertical-align: middle;'></progress>\n",
       "      [30/30 01:58]\n",
       "    </div>\n",
       "    "
      ],
      "text/plain": [
       "<IPython.core.display.HTML object>"
      ]
     },
     "metadata": {},
     "output_type": "display_data"
    },
    {
     "data": {
      "text/plain": [
       "{'eval_loss': 3.5578513145446777,\n",
       " 'eval_accuracy': 0.0,\n",
       " 'eval_precision': ['ĠA : 0.1883', 'ĠIs : 0.059', 'ĠB : 0.0472'],\n",
       " 'eval_runtime': 9.2024,\n",
       " 'eval_samples_per_second': 3.26,\n",
       " 'eval_steps_per_second': 3.26}"
      ]
     },
     "execution_count": 330,
     "metadata": {},
     "output_type": "execute_result"
    }
   ],
   "source": [
    "trainer.evaluate()"
   ]
  },
  {
   "cell_type": "code",
   "execution_count": 331,
   "id": "c5b8d21d",
   "metadata": {
    "scrolled": false
   },
   "outputs": [
    {
     "name": "stderr",
     "output_type": "stream",
     "text": [
      "***** Running training *****\n",
      "  Num examples = 150\n",
      "  Num Epochs = 5\n",
      "  Instantaneous batch size per device = 1\n",
      "  Total train batch size (w. parallel, distributed & accumulation) = 1\n",
      "  Gradient Accumulation steps = 1\n",
      "  Total optimization steps = 750\n"
     ]
    },
    {
     "data": {
      "text/html": [
       "\n",
       "    <div>\n",
       "      \n",
       "      <progress value='750' max='750' style='width:300px; height:20px; vertical-align: middle;'></progress>\n",
       "      [750/750 09:14, Epoch 5/5]\n",
       "    </div>\n",
       "    <table border=\"1\" class=\"dataframe\">\n",
       "  <thead>\n",
       " <tr style=\"text-align: left;\">\n",
       "      <th>Epoch</th>\n",
       "      <th>Training Loss</th>\n",
       "      <th>Validation Loss</th>\n",
       "      <th>Accuracy</th>\n",
       "      <th>Precision</th>\n",
       "    </tr>\n",
       "  </thead>\n",
       "  <tbody>\n",
       "    <tr>\n",
       "      <td>1</td>\n",
       "      <td>1.616900</td>\n",
       "      <td>1.304838</td>\n",
       "      <td>0.566667</td>\n",
       "      <td>['ĠYes : 0.6459', 'ĠNo : 0.1877', 'Ġ[ : 0.0194']</td>\n",
       "    </tr>\n",
       "    <tr>\n",
       "      <td>2</td>\n",
       "      <td>2.889400</td>\n",
       "      <td>13.196543</td>\n",
       "      <td>0.000000</td>\n",
       "      <td>['ĊĊ : 0.1545', 'Ċ : 0.1327', '\\\\ : 0.0873']</td>\n",
       "    </tr>\n",
       "    <tr>\n",
       "      <td>3</td>\n",
       "      <td>10.558700</td>\n",
       "      <td>12.672831</td>\n",
       "      <td>0.000000</td>\n",
       "      <td>['Ġthe : 0.1758', 'Ġof : 0.0498', '- : 0.0434']</td>\n",
       "    </tr>\n",
       "    <tr>\n",
       "      <td>4</td>\n",
       "      <td>9.712600</td>\n",
       "      <td>9.770533</td>\n",
       "      <td>0.000000</td>\n",
       "      <td>['Ġ : 0.273', 'Ġthe : 0.0731', 'Ġlike : 0.035']</td>\n",
       "    </tr>\n",
       "    <tr>\n",
       "      <td>5</td>\n",
       "      <td>4.668000</td>\n",
       "      <td>2.120934</td>\n",
       "      <td>0.433333</td>\n",
       "      <td>['ĠNo : 0.1628', 'ĠYes : 0.1345', 'Ġthe : 0.0488']</td>\n",
       "    </tr>\n",
       "  </tbody>\n",
       "</table><p>"
      ],
      "text/plain": [
       "<IPython.core.display.HTML object>"
      ]
     },
     "metadata": {},
     "output_type": "display_data"
    },
    {
     "name": "stderr",
     "output_type": "stream",
     "text": [
      "***** Running Evaluation *****\n",
      "  Num examples = 30\n",
      "  Batch size = 1\n",
      "***** Running Evaluation *****\n",
      "  Num examples = 30\n",
      "  Batch size = 1\n",
      "***** Running Evaluation *****\n",
      "  Num examples = 30\n",
      "  Batch size = 1\n",
      "***** Running Evaluation *****\n",
      "  Num examples = 30\n",
      "  Batch size = 1\n",
      "***** Running Evaluation *****\n",
      "  Num examples = 30\n",
      "  Batch size = 1\n",
      "\n",
      "\n",
      "Training completed. Do not forget to share your model on huggingface.co/models =)\n",
      "\n",
      "\n"
     ]
    },
    {
     "data": {
      "text/plain": [
       "TrainOutput(global_step=750, training_loss=5.889138916015625, metrics={'train_runtime': 554.7103, 'train_samples_per_second': 1.352, 'train_steps_per_second': 1.352, 'total_flos': 224246237184000.0, 'train_loss': 5.889138916015625, 'epoch': 5.0})"
      ]
     },
     "execution_count": 331,
     "metadata": {},
     "output_type": "execute_result"
    }
   ],
   "source": [
    "trainer.train()"
   ]
  },
  {
   "cell_type": "code",
   "execution_count": 76,
   "id": "90777ed1",
   "metadata": {},
   "outputs": [
    {
     "name": "stderr",
     "output_type": "stream",
     "text": [
      "***** Running Prediction *****\n",
      "  Num examples = 10\n",
      "  Batch size = 1\n"
     ]
    },
    {
     "data": {
      "text/html": [
       "\n",
       "    <div>\n",
       "      \n",
       "      <progress value='10' max='10' style='width:300px; height:20px; vertical-align: middle;'></progress>\n",
       "      [10/10 00:02]\n",
       "    </div>\n",
       "    "
      ],
      "text/plain": [
       "<IPython.core.display.HTML object>"
      ]
     },
     "metadata": {},
     "output_type": "display_data"
    },
    {
     "name": "stdout",
     "output_type": "stream",
     "text": [
      "{'test_loss': 0.735599160194397, 'test_accuracy': 0.5, 'test_precision': ['ĠYes : 0.6578', 'ĠNo : 0.3009', 'Ġyes : 0.0071'], 'test_runtime': 3.1062, 'test_samples_per_second': 3.219, 'test_steps_per_second': 3.219}\n"
     ]
    }
   ],
   "source": [
    "test_dataset = CHILDDataset(text[:10], tokenizer)\n",
    "a = trainer.predict(test_dataset) #此处新生成了测试集\n",
    "print(a.metrics)"
   ]
  },
  {
   "cell_type": "code",
   "execution_count": 101,
   "id": "8d29120e",
   "metadata": {},
   "outputs": [
    {
     "name": "stderr",
     "output_type": "stream",
     "text": [
      "***** Running Prediction *****\n",
      "  Num examples = 30\n",
      "  Batch size = 1\n"
     ]
    },
    {
     "name": "stdout",
     "output_type": "stream",
     "text": [
      "{'test_loss': 0.0003098619054071605, 'test_accuracy': 1.0, 'test_precision': ['ĠNo : 0.9999', 'No : 0.0', 'Ġ : 0.0'], 'test_runtime': 50.5283, 'test_samples_per_second': 0.594, 'test_steps_per_second': 0.594}\n"
     ]
    }
   ],
   "source": [
    "# input_strs = [make_input_str(tasks[-7], nrows=100, ncols=(3,4,5)) for __ in range(30)]# Is the intersection of two sets empty.\n",
    "# input_strs = [make_input_str(tasks[-3], nrows=100, ncols=(4,4,3)) for __ in range(30)]# Are there any elements different from other elements\n",
    "# input_strs = [make_input_str(tasks[-4], nrows=100, ncols=(3,4,2,4)) for __ in range(30)]# Are_there_elements_belonging_to_the_same_class\n",
    "# input_strs = [make_input_str(tasks[-1], nrows=120, ncols=(5,2)) for __ in range(30)]#Is_the_number_of_first_elements_greater_than_the_second_one\n",
    "# input_strs = [make_input_str(tasks[-2], nrows=80, ncols=(3,1), ans_vocab=[0,1,2,3]) for __ in range(30)] #How_many_elements_are_similar_to_the_example\n",
    "# input_strs = [make_input_str(tasks[-5], nrows=100, ncols=(3,4,2,4)) for __ in range(30)] #Are_they_the_union_of_the_last_element\n",
    "# input_strs = [make_input_str(tasks[-6], nrows=100, ncols=(3,11,5)) for __ in range(30)]#Is the first set a subset of the second one\n",
    "# input_strs = [make_input_str(tasks[-10], nrows=100, ncols=(3, 3, 2, 5)) for __ in range(30)]\n",
    "# input_strs = [make_input_str(tasks[-9], nrows=100, ncols=(4,2)) for __ in range(30)] #Compare the values of two sets.\n",
    "# input_strs = [make_input_str(tasks[-8], nrows=100, ncols=(4, 4, 4)) for __ in range(30)] #Relationship between two sets.\n",
    "test_dataset = CHILDDataset(input_strs[:], tokenizer)\n",
    "a = trainer.predict(test_dataset) #此处新生成了测试集\n",
    "print(a.metrics)"
   ]
  },
  {
   "cell_type": "code",
   "execution_count": null,
   "id": "56d1961b",
   "metadata": {},
   "outputs": [],
   "source": []
  },
  {
   "cell_type": "code",
   "execution_count": null,
   "id": "d7ef98c4",
   "metadata": {},
   "outputs": [],
   "source": []
  },
  {
   "cell_type": "code",
   "execution_count": null,
   "id": "eedb8237",
   "metadata": {},
   "outputs": [],
   "source": []
  },
  {
   "cell_type": "code",
   "execution_count": null,
   "id": "4622d39d",
   "metadata": {},
   "outputs": [],
   "source": []
  },
  {
   "cell_type": "code",
   "execution_count": null,
   "id": "a194cd0d",
   "metadata": {},
   "outputs": [],
   "source": []
  },
  {
   "cell_type": "code",
   "execution_count": null,
   "id": "9afa17cf",
   "metadata": {},
   "outputs": [],
   "source": []
  },
  {
   "cell_type": "code",
   "execution_count": null,
   "id": "b8e6b876",
   "metadata": {},
   "outputs": [],
   "source": []
  },
  {
   "cell_type": "code",
   "execution_count": 81,
   "id": "b37a9874",
   "metadata": {},
   "outputs": [
    {
     "data": {
      "text/plain": [
       "True"
      ]
     },
     "execution_count": 81,
     "metadata": {},
     "output_type": "execute_result"
    }
   ],
   "source": [
    "trainer.place_model_on_device"
   ]
  },
  {
   "cell_type": "code",
   "execution_count": 82,
   "id": "9b4b3eca",
   "metadata": {},
   "outputs": [],
   "source": [
    "def get_prev(elem):\n",
    "    i, v = elem\n",
    "    return _l[i - 1] if i > 0 else None\n",
    "\n",
    "false = lambda *_: False\n",
    "true  = lambda *_: True"
   ]
  },
  {
   "cell_type": "code",
   "execution_count": 83,
   "id": "721cb66f",
   "metadata": {},
   "outputs": [],
   "source": [
    "Element = namedtuple('Element', 'index value')\n",
    "_l = 'A B C B'.split()\n",
    "n = len(_l)\n",
    "# l = [Element._make(e) for e in enumerate(l)]\n",
    "l = seq(_l)\n",
    "l = l.enumerate().map(Element._make)"
   ]
  },
  {
   "cell_type": "code",
   "execution_count": 85,
   "id": "9f22f664",
   "metadata": {},
   "outputs": [
    {
     "data": {
      "text/html": [
       "<table>\n",
       "<thead>\n",
       "<tr><th style=\"text-align: right;\">  index</th><th>value  </th></tr>\n",
       "</thead>\n",
       "<tbody>\n",
       "<tr><td style=\"text-align: right;\">      0</td><td>A      </td></tr>\n",
       "<tr><td style=\"text-align: right;\">      1</td><td>B      </td></tr>\n",
       "<tr><td style=\"text-align: right;\">      2</td><td>C      </td></tr>\n",
       "<tr><td style=\"text-align: right;\">      3</td><td>B      </td></tr>\n",
       "</tbody>\n",
       "</table>"
      ],
      "text/plain": [
       "[Element(index=0, value='A'), Element(index=1, value='B'), Element(index=2, value='C'), Element(index=3, value='B')]"
      ]
     },
     "execution_count": 85,
     "metadata": {},
     "output_type": "execute_result"
    },
    {
     "data": {
      "text/plain": [
       "['C']"
      ]
     },
     "execution_count": 85,
     "metadata": {},
     "output_type": "execute_result"
    },
    {
     "data": {
      "text/plain": [
       "['b']"
      ]
     },
     "execution_count": 85,
     "metadata": {},
     "output_type": "execute_result"
    },
    {
     "data": {
      "text/plain": [
       "[2]"
      ]
     },
     "execution_count": 85,
     "metadata": {},
     "output_type": "execute_result"
    },
    {
     "data": {
      "text/plain": [
       "['C', 'A', 'B', 'B']"
      ]
     },
     "execution_count": 85,
     "metadata": {},
     "output_type": "execute_result"
    },
    {
     "data": {
      "text/plain": [
       "['B', 'B', 'C', 'A']"
      ]
     },
     "execution_count": 85,
     "metadata": {},
     "output_type": "execute_result"
    },
    {
     "data": {
      "text/html": [
       "<table>\n",
       "<thead>\n",
       "<tr><th style=\"text-align: right;\">  index</th><th>value  </th></tr>\n",
       "</thead>\n",
       "<tbody>\n",
       "<tr><td style=\"text-align: right;\">      0</td><td>A      </td></tr>\n",
       "<tr><td style=\"text-align: right;\">      1</td><td>A      </td></tr>\n",
       "<tr><td style=\"text-align: right;\">      2</td><td>C      </td></tr>\n",
       "<tr><td style=\"text-align: right;\">      3</td><td>B      </td></tr>\n",
       "</tbody>\n",
       "</table>"
      ],
      "text/plain": [
       "[Element(index=0, value='A'), Element(index=1, value='A'), Element(index=2, value='C'), Element(index=3, value='B')]"
      ]
     },
     "execution_count": 85,
     "metadata": {},
     "output_type": "execute_result"
    },
    {
     "data": {
      "text/plain": [
       "False"
      ]
     },
     "execution_count": 85,
     "metadata": {},
     "output_type": "execute_result"
    },
    {
     "data": {
      "text/plain": [
       "['A', 'B', 'B', 'C', 'C']"
      ]
     },
     "execution_count": 85,
     "metadata": {},
     "output_type": "execute_result"
    },
    {
     "data": {
      "text/plain": [
       "[1, 1, 2, 1, 2, 3]"
      ]
     },
     "execution_count": 85,
     "metadata": {},
     "output_type": "execute_result"
    },
    {
     "data": {
      "text/plain": [
       "['B']"
      ]
     },
     "execution_count": 85,
     "metadata": {},
     "output_type": "execute_result"
    },
    {
     "data": {
      "text/plain": [
       "['B']"
      ]
     },
     "execution_count": 85,
     "metadata": {},
     "output_type": "execute_result"
    }
   ],
   "source": [
    "l.map(lambda x: {'B': 'D'}.get(x, x))\n",
    "\n",
    "l.filter(lambda x: get_prev(x) == 'B').select(_.value)\n",
    "\n",
    "find_fn = _.index == 1\n",
    "l.filter(find_fn).select(_.value).map(lower)\n",
    "\n",
    "find_fn = _.value == 'C'\n",
    "l.filter(find_fn).select(_.index)\n",
    "\n",
    "# move x to first\n",
    "update_filter = _.value == 'C'\n",
    "get_new = lambda x: -1\n",
    "l.map(lambda x: Element(update_fn(x, 'index'), x.value)).order_by(_.index).select(_.value)\n",
    "\n",
    "# swap first and last\n",
    "update_filter = true\n",
    "get_new = lambda x: {0: n - 1, n - 1: 0}.get(x.index, x.index)\n",
    "l.map(lambda x: Element(update_fn(x, 'index'), x.value)).order_by(_.index).select(_.value)\n",
    "\n",
    "# get inbetween == drop_while + take_while?\n",
    "\n",
    "# update by index to its prev\n",
    "update_filter = _.index == 1\n",
    "get_new = lambda x: get_prev(x)\n",
    "def update_fn(x, update_field): return get_new(x) if update_filter(x) else getattr(x, update_field)\n",
    "l.map(lambda x: Element(x.index, update_fn(x, 'value')))\n",
    "\n",
    "# if two adjacent elements by indices are equal\n",
    "l.filter(lambda x: x.index in [0, 1]).select(_.value).distinct().len() == 1\n",
    "\n",
    "seq('A B C B C'.split()).group_by(_).select(_[1]).flatten()\n",
    "\n",
    "# count occurance till current\n",
    "seq('A B A C B A'.split()).inits().reverse().tail().map(lambda x: x.filter(_ == x.last()).len())\n",
    "\n",
    "# find special\n",
    "seq('A B A A'.split()).count_by_value().filter(_[1] == 1).select(_[0])\n",
    "\n",
    "# generalized find special\n",
    "seq('A A B C C D D'.split()).group_by(_).map(lambda x: (x[0], len(x[1]))).filter(_[1] == 1).select(_[0])"
   ]
  },
  {
   "cell_type": "code",
   "execution_count": null,
   "id": "49b3e124",
   "metadata": {},
   "outputs": [],
   "source": []
  }
 ],
 "metadata": {
  "kernelspec": {
   "display_name": "Python 3",
   "language": "python",
   "name": "python3"
  },
  "language_info": {
   "codemirror_mode": {
    "name": "ipython",
    "version": 3
   },
   "file_extension": ".py",
   "mimetype": "text/x-python",
   "name": "python",
   "nbconvert_exporter": "python",
   "pygments_lexer": "ipython3",
   "version": "3.8.12"
  }
 },
 "nbformat": 4,
 "nbformat_minor": 5
}
