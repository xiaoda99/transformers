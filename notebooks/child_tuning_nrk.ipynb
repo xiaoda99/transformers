{
 "cells": [
  {
   "cell_type": "code",
   "execution_count": 4,
   "id": "f6ea7a72",
   "metadata": {
    "collapsed": true
   },
   "outputs": [
    {
     "name": "stdout",
     "output_type": "stream",
     "text": [
      "\u001b[33mWARNING: Ignoring invalid distribution -yfunctional (/home/kf/miniconda3/envs/pytorch1.7.1/lib/python3.8/site-packages)\u001b[0m\u001b[33m\n",
      "\u001b[0m\u001b[33mWARNING: Ignoring invalid distribution -yfunctional (/home/kf/miniconda3/envs/pytorch1.7.1/lib/python3.8/site-packages)\u001b[0m\u001b[33m\n",
      "\u001b[0mRequirement already satisfied: transformers in /home/kf/miniconda3/envs/pytorch1.7.1/lib/python3.8/site-packages (4.17.0)\n",
      "Requirement already satisfied: sacremoses in /home/kf/miniconda3/envs/pytorch1.7.1/lib/python3.8/site-packages (from transformers) (0.0.45)\n",
      "Requirement already satisfied: filelock in /home/kf/miniconda3/envs/pytorch1.7.1/lib/python3.8/site-packages (from transformers) (3.0.12)\n",
      "Requirement already satisfied: regex!=2019.12.17 in /home/kf/miniconda3/envs/pytorch1.7.1/lib/python3.8/site-packages (from transformers) (2021.10.8)\n",
      "Requirement already satisfied: huggingface-hub<1.0,>=0.1.0 in /home/kf/miniconda3/envs/pytorch1.7.1/lib/python3.8/site-packages (from transformers) (0.4.0)\n",
      "Requirement already satisfied: tqdm>=4.27 in /home/xd/.local/lib/python3.8/site-packages (from transformers) (4.60.0)\n",
      "Requirement already satisfied: tokenizers!=0.11.3,>=0.11.1 in /home/kf/miniconda3/envs/pytorch1.7.1/lib/python3.8/site-packages (from transformers) (0.11.6)\n",
      "Requirement already satisfied: packaging>=20.0 in /home/xd/.local/lib/python3.8/site-packages (from transformers) (20.9)\n",
      "Requirement already satisfied: pyyaml>=5.1 in /home/kf/miniconda3/envs/pytorch1.7.1/lib/python3.8/site-packages/PyYAML-6.0-py3.8-linux-x86_64.egg (from transformers) (6.0)\n",
      "Requirement already satisfied: numpy>=1.17 in /home/kf/miniconda3/envs/pytorch1.7.1/lib/python3.8/site-packages (from transformers) (1.21.2)\n",
      "Requirement already satisfied: requests in /home/kf/miniconda3/envs/pytorch1.7.1/lib/python3.8/site-packages (from transformers) (2.25.1)\n",
      "Requirement already satisfied: typing-extensions>=3.7.4.3 in /home/kf/miniconda3/envs/pytorch1.7.1/lib/python3.8/site-packages (from huggingface-hub<1.0,>=0.1.0->transformers) (4.1.1)\n",
      "Requirement already satisfied: pyparsing>=2.0.2 in /home/xd/.local/lib/python3.8/site-packages (from packaging>=20.0->transformers) (2.4.7)\n",
      "Requirement already satisfied: urllib3<1.27,>=1.21.1 in /home/kf/miniconda3/envs/pytorch1.7.1/lib/python3.8/site-packages (from requests->transformers) (1.26.4)\n",
      "Requirement already satisfied: chardet<5,>=3.0.2 in /home/kf/miniconda3/envs/pytorch1.7.1/lib/python3.8/site-packages (from requests->transformers) (4.0.0)\n",
      "Requirement already satisfied: idna<3,>=2.5 in /home/kf/miniconda3/envs/pytorch1.7.1/lib/python3.8/site-packages (from requests->transformers) (2.10)\n",
      "Requirement already satisfied: certifi>=2017.4.17 in /home/kf/miniconda3/envs/pytorch1.7.1/lib/python3.8/site-packages (from requests->transformers) (2021.10.8)\n",
      "Requirement already satisfied: six in /home/kf/miniconda3/envs/pytorch1.7.1/lib/python3.8/site-packages (from sacremoses->transformers) (1.16.0)\n",
      "Requirement already satisfied: joblib in /home/kf/miniconda3/envs/pytorch1.7.1/lib/python3.8/site-packages (from sacremoses->transformers) (1.0.1)\n",
      "Requirement already satisfied: click in /home/kf/miniconda3/envs/pytorch1.7.1/lib/python3.8/site-packages (from sacremoses->transformers) (7.1.2)\n",
      "\u001b[33mWARNING: Ignoring invalid distribution -yfunctional (/home/kf/miniconda3/envs/pytorch1.7.1/lib/python3.8/site-packages)\u001b[0m\u001b[33m\n",
      "\u001b[0m\u001b[33mWARNING: Ignoring invalid distribution -yfunctional (/home/kf/miniconda3/envs/pytorch1.7.1/lib/python3.8/site-packages)\u001b[0m\u001b[33m\n",
      "\u001b[0m\u001b[33mWARNING: Ignoring invalid distribution -yfunctional (/home/kf/miniconda3/envs/pytorch1.7.1/lib/python3.8/site-packages)\u001b[0m\u001b[33m\n",
      "\u001b[0mNote: you may need to restart the kernel to use updated packages.\n"
     ]
    }
   ],
   "source": [
    "pip install --upgrade transformers"
   ]
  },
  {
   "cell_type": "code",
   "execution_count": 335,
   "id": "0faf2697",
   "metadata": {},
   "outputs": [
    {
     "data": {
      "text/plain": [
       "'3.8.12 | packaged by conda-forge | (default, Jan 30 2022, 23:53:36) \\n[GCC 9.4.0]'"
      ]
     },
     "execution_count": 335,
     "metadata": {},
     "output_type": "execute_result"
    }
   ],
   "source": [
    "sys.version"
   ]
  },
  {
   "cell_type": "code",
   "execution_count": 8,
   "id": "0e11bc1d",
   "metadata": {
    "collapsed": true
   },
   "outputs": [
    {
     "name": "stdout",
     "output_type": "stream",
     "text": [
      "\u001b[33mWARNING: Ignoring invalid distribution -yfunctional (/home/kf/miniconda3/envs/pytorch1.7.1/lib/python3.8/site-packages)\u001b[0m\u001b[33m\n",
      "\u001b[0m\u001b[33mWARNING: Ignoring invalid distribution -yfunctional (/home/kf/miniconda3/envs/pytorch1.7.1/lib/python3.8/site-packages)\u001b[0m\u001b[33m\n",
      "\u001b[0mCollecting pyfunctional\n",
      "  Using cached PyFunctional-1.4.3-py3-none-any.whl (49 kB)\n",
      "Requirement already satisfied: dill>=0.2.5 in /home/kf/miniconda3/envs/pytorch1.7.1/lib/python3.8/site-packages (from pyfunctional) (0.3.4)\n",
      "Requirement already satisfied: tabulate<=1.0.0 in /home/kf/miniconda3/envs/pytorch1.7.1/lib/python3.8/site-packages (from pyfunctional) (0.8.9)\n",
      "\u001b[33mWARNING: Ignoring invalid distribution -yfunctional (/home/kf/miniconda3/envs/pytorch1.7.1/lib/python3.8/site-packages)\u001b[0m\u001b[33m\n",
      "\u001b[0mInstalling collected packages: pyfunctional\n",
      "\u001b[33mWARNING: Ignoring invalid distribution -yfunctional (/home/kf/miniconda3/envs/pytorch1.7.1/lib/python3.8/site-packages)\u001b[0m\u001b[33m\n",
      "\u001b[0mSuccessfully installed pyfunctional-1.4.3\n",
      "\u001b[33mWARNING: Ignoring invalid distribution -yfunctional (/home/kf/miniconda3/envs/pytorch1.7.1/lib/python3.8/site-packages)\u001b[0m\u001b[33m\n",
      "\u001b[0m\u001b[33mWARNING: Ignoring invalid distribution -yfunctional (/home/kf/miniconda3/envs/pytorch1.7.1/lib/python3.8/site-packages)\u001b[0m\u001b[33m\n",
      "\u001b[0mNote: you may need to restart the kernel to use updated packages.\n"
     ]
    }
   ],
   "source": [
    "pip install --upgrade pyfunctional"
   ]
  },
  {
   "cell_type": "code",
   "execution_count": 308,
   "id": "367b7b1e",
   "metadata": {},
   "outputs": [],
   "source": [
    "%%capture\n",
    "%run \"context_learning_nrk.ipynb\""
   ]
  },
  {
   "cell_type": "code",
   "execution_count": 309,
   "id": "9398a888",
   "metadata": {},
   "outputs": [
    {
     "name": "stdout",
     "output_type": "stream",
     "text": [
      "Instruction: Is this sentence correct. For example:\n",
      "A should be easier to melt than B because B is hotter. Is that right? -> No\n",
      "\n"
     ]
    }
   ],
   "source": [
    "text1 = text\n",
    "print(text1[0])"
   ]
  },
  {
   "cell_type": "code",
   "execution_count": 1,
   "id": "7292808a",
   "metadata": {},
   "outputs": [],
   "source": [
    "from IPython import get_ipython\n",
    "%load_ext autoreload\n",
    "%autoreload 2\n",
    "\n",
    "from IPython.core.interactiveshell import InteractiveShell\n",
    "InteractiveShell.ast_node_interactivity = 'all'"
   ]
  },
  {
   "cell_type": "code",
   "execution_count": 13,
   "id": "54a886cb",
   "metadata": {},
   "outputs": [],
   "source": [
    "import sys\n",
    "import os\n",
    "\n",
    "os.environ['HF_HOME'] = '/raid/xd/.cache/torch'\n",
    "os.environ[\"CUDA_DEVICE_ORDER\"]=\"PCI_BUS_ID\"\n",
    "os.environ[\"CUDA_VISIBLE_DEVICES\"]=\"7\"\n",
    "import random\n",
    "from sklearn.metrics import accuracy_score, precision_recall_fscore_support\n",
    "from types import MethodType\n",
    "from tqdm import tqdm\n",
    "from collections import defaultdict, OrderedDict, Counter\n",
    "from datetime import datetime\n",
    "from io import StringIO\n",
    "from itertools import chain\n",
    "import math\n",
    "from functools import reduce\n",
    "import numpy as np \n",
    "# np.set_printoptions(threshold=np.inf)\n",
    "%matplotlib inline\n",
    "import matplotlib.pyplot as plt\n",
    "import seaborn as sns\n",
    "\n",
    "import torch\n",
    "import torch.nn as nn\n",
    "import torch.nn.functional as F \n",
    "from torch.utils.data.sampler import RandomSampler, Sampler, SequentialSampler\n",
    "from torch.utils.data.dataloader import DataLoader\n",
    "\n",
    "from transformers.data.data_collator import DataCollator, default_data_collator\n",
    "from transformers import AutoConfig, pipeline\n",
    "from transformers import RobertaForMaskedLM, RobertaTokenizer, GPT2LMHeadModel, GPT2Tokenizer, GPTNeoForCausalLM, AutoModelForCausalLM\n",
    "from transformers import T5Tokenizer, T5ForConditionalGeneration\n",
    "from transformers import HfArgumentParser, Trainer, TrainingArguments, set_seed, AdamW\n",
    "# from torch.optim.lr_scheduler import CosineAnnealingLR\n",
    "# from transformers.trainer_utils import EvaluationStrategy\n"
   ]
  },
  {
   "cell_type": "code",
   "execution_count": 6,
   "id": "7f54c226",
   "metadata": {},
   "outputs": [],
   "source": [
    "from transformers import GPT2LMHeadModel, GPT2Tokenizer, GPTNeoForCausalLM, GPTJForCausalLM"
   ]
  },
  {
   "cell_type": "code",
   "execution_count": 7,
   "id": "dd287822",
   "metadata": {},
   "outputs": [],
   "source": [
    "sys.path.insert(0, '/nas/xd/projects/PyFunctional')\n",
    "from functional import seq\n",
    "from functional.pipeline import Sequence\n",
    "from fn import _\n",
    "from collections import namedtuple \n",
    "import sys\n",
    "# sys.path.insert(0, '/nas/xd/projects/transformers/src/transformers')\n",
    "import os\n",
    "# device_mappings = {0: 1, 1: 5, 2: 6, 3: 7, 4: 2, 5: 3, 6: 0, 1: 4}\n",
    "# os.environ[\"CUDA_VISIBLE_DEVICES\"] = str(device_mappings[2])\n",
    "\n",
    "import random\n",
    "import string\n",
    "from collections import defaultdict, OrderedDict\n",
    "from itertools import product, chain\n",
    "import math\n",
    "import numpy as np\n",
    "from pattern.en import comparative\n",
    "import types"
   ]
  },
  {
   "cell_type": "code",
   "execution_count": 348,
   "id": "a2a577ee",
   "metadata": {},
   "outputs": [],
   "source": [
    "sys.path.insert(0, '/nas/xd/projects/PyFunctional')\n",
    "from functional import seq\n",
    "from functional.pipeline import Sequence\n",
    "from fn import _\n",
    "from collections import namedtuple \n",
    "import sys\n",
    "# sys.path.insert(0, '/nas/xd/projects/transformers/src/transformers')\n",
    "import os"
   ]
  },
  {
   "cell_type": "code",
   "execution_count": 347,
   "id": "7d5907ae",
   "metadata": {},
   "outputs": [],
   "source": [
    "import torch\n",
    "from torch import nn\n",
    "import torch.nn.functional as F\n",
    "from torch.nn import CrossEntropyLoss, MSELoss\n",
    "import openai\n",
    "openai.api_key = open('/nas/xd/projects/openai_api_keys.txt').readlines()[-1].split()[0]"
   ]
  },
  {
   "cell_type": "code",
   "execution_count": 338,
   "id": "86a17aee",
   "metadata": {},
   "outputs": [
    {
     "name": "stdout",
     "output_type": "stream",
     "text": [
      "Instruction: Do all students choose courses in a department. For example:\n",
      "D: Chinese, U: Art, A: Art, U: Chinese, D: Art; Art: Chi, Chinese: Eng, Physics: Eng. A and U,Chi? -> Yes\n",
      "\n",
      "Instruction: Do all students choose courses in a department. For example:\n",
      "C: Sql, H: Physics, H: Sql, H: Chemistry, K: Sql; Sql: Chi, Physics: Chi, Chemistry: Eng. H and C,Eng? -> No\n",
      "\n"
     ]
    }
   ],
   "source": [
    "n_total, n_valid =2,1\n",
    "n_train = n_total - n_valid\n",
    "# input_strs = [make_input_str(tasks[-7], nrows=1, ncols=(3,4,5)) for __ in range(n_total)]# Is the intersection of two sets empty.\n",
    "# input_strs = [make_input_str(tasks[-3], nrows=1, ncols=(4,4,3)) for __ in range(n_total)]# Are there any elements different from other elements\n",
    "# input_strs = [make_input_str(tasks[-4], nrows=1, ncols=(3,4,2,4)) for __ in range(n_total)]# Are_there_elements_belonging_to_the_same_class\n",
    "# input_strs = [make_input_str(tasks[-1], nrows=1, ncols=(5,2)) for __ in range(n_total)]#Is_the_number_of_first_elements_greater_than_the_second_one\n",
    "# input_strs = [make_input_str(tasks[-2], nrows=1, ncols=(3,1), ans_vocab=[0,1,2,3]) for __ in range(n_total)] #How_many_elements_are_similar_to_the_example\n",
    "# input_strs = [make_input_str(tasks[-5], nrows=1, ncols=(3,4,2,4)) for __ in range(n_total)] #Are_they_the_union_of_the_last_element\n",
    "# input_strs = [make_input_str(tasks[-6], nrows=1, ncols=(3,11,5)) for __ in range(n_total)]#Is the first set a subset of the second one\n",
    "input_strs = [make_input_str(tasks[-10], nrows=1, ncols=(3, 3, 2, 5)) for __ in range(n_total)]\n",
    "# input_strs = [make_input_str(tasks[-9], nrows=1, ncols=(4,2)) for __ in range(n_total)] #Compare the values of two sets.\n",
    "# input_strs = [make_input_str(tasks[-8], nrows=1, ncols=(4, 4, 4)) for __ in range(n_total)] #Relationship between two sets.\n",
    "\n",
    "for s in sample(input_strs, 2): print(s)"
   ]
  },
  {
   "cell_type": "code",
   "execution_count": 339,
   "id": "21465a1e",
   "metadata": {},
   "outputs": [],
   "source": [
    "def get_model_fn(engine):  # XD\n",
    "    def fn(text):\n",
    "        return openai.Completion.create(engine=engine, prompt=text, max_tokens=1, echo=True, logprobs=5).choices[0]\n",
    "    return fn\n",
    "\n",
    "engines = ['davinci', 'curie']\n",
    "for engine in engines:\n",
    "    model_name = 'openai_api_' + engine\n",
    "#     model = lambda x: openai.Completion.create(engine=engine, prompt=x, max_tokens=0, echo=True, logprobs=5).choices[0]\n",
    "    model = get_model_fn(engine)\n",
    "    models[model_name] = model, tokenizer\n",
    "    \n",
    "# model_name = 'openai_api_davinci'\n",
    "model_name = 'openai_api_curie'\n",
    "model, tokenizer = models[model_name]"
   ]
  },
  {
   "cell_type": "code",
   "execution_count": 317,
   "id": "bf3af01a",
   "metadata": {},
   "outputs": [
    {
     "data": {
      "text/plain": [
       "dict_keys(['EleutherAI/gpt-j-6B'])"
      ]
     },
     "execution_count": 317,
     "metadata": {},
     "output_type": "execute_result"
    }
   ],
   "source": [
    "models.keys()"
   ]
  },
  {
   "cell_type": "code",
   "execution_count": 341,
   "id": "693f563f",
   "metadata": {},
   "outputs": [],
   "source": [
    "def get_prob_dist(d, topk=5): return {k: round(math.exp(v), 3) for k, v in sorted(d.items(), key=lambda x: x[1], reverse=True)[:topk]}"
   ]
  },
  {
   "cell_type": "code",
   "execution_count": 342,
   "id": "77d1817b",
   "metadata": {},
   "outputs": [],
   "source": [
    "def get_ans_indices0(input_ids):\n",
    "    bos_id = tokenizer._convert_token_to_id('Ġ->')\n",
    "    eos_id = tokenizer._convert_token_to_id('Ċ')\n",
    "    bos_indices = (input_ids == bos_id).nonzero().squeeze(1).tolist()\n",
    "    eos_indices = (input_ids == eos_id).nonzero()[-len(bos_indices):].squeeze(1).tolist()\n",
    "    return bos_indices, eos_indices\n",
    "\n",
    "# def get_ans_indices1(input_ids):\n",
    "#     bos_id = tokenizer._convert_token_to_id('?')\n",
    "# #     print(\"bos_id\",bos_id)\n",
    "#     eos_id = tokenizer._convert_token_to_id('Ċ')\n",
    "#     period_ids = [tokenizer._convert_token_to_id('.'), tokenizer._convert_token_to_id('Ġ.')]\n",
    "# #     print(\"period_ids:\",period_ids)\n",
    "# #     l_bracket_id, r_bracket_id = tokenizer._convert_token_to_id('Ġ['), tokenizer._convert_token_to_id('Ġ]')\n",
    "# #     print(\"l_bracket_id\",l_bracket_id)\n",
    "# #     print(\"r_bracket_id:\",r_bracket_id)\n",
    "#     eos_indices = (input_ids == eos_id).nonzero().squeeze(1).tolist() #.nonezero()取非零元素坐标\n",
    "# #     print(\"eos_indices0:\",eos_indices)\n",
    "#     eos_indices = [i - 1 if input_ids[i - 1] in period_ids else i for i in eos_indices]\n",
    "# #     print(\"eos_indices1:\",eos_indices)\n",
    "# #     eos_indices = [i - 1 if input_ids[i - 1] == r_bracket_id else i for i in eos_indices]\n",
    "# #     print(\"eos_indices2:\",eos_indices)\n",
    "    \n",
    "#     def find_bos_index(start_i):\n",
    "#         for bos_i in range(start_i, start_i - 3, -1):\n",
    "# #             if input_ids[bos_i] == bos_id or input_ids[bos_i] == l_bracket_id and input_ids[bos_i - 1] == bos_id:\n",
    "#             if input_ids[bos_i] == bos_id:\n",
    "#                 if bos_i != start_i: print('subtokens:', tokenizer.convert_ids_to_tokens(input_ids[bos_i + 1: start_i + 2]))\n",
    "#                 return bos_i\n",
    "#         assert False\n",
    "#     bos_indices = [find_bos_index(i - 2) for i in eos_indices]\n",
    "# #     print(\"bos:\",bos_indices)\n",
    "# #     print(\"eos:\",eos_indices)\n",
    "#     return bos_indices, eos_indices"
   ]
  },
  {
   "cell_type": "code",
   "execution_count": 353,
   "id": "bb474e98",
   "metadata": {},
   "outputs": [],
   "source": [
    "correct_num = 0\n",
    "def predict(model, text, ans_indices_fn, topk=5, return_reduced_loss=False, verbose=True):\n",
    "    use_openai_api = type(model) in [types.MethodType, types.FunctionType]  # openai.Completion.create\n",
    "    print(\"[]\",[types.MethodType, types.FunctionType])\n",
    "    print(\"type(model):\",type(model))\n",
    "    inputs = tokenizer.encode_plus(text, return_tensors='pt')\n",
    "    print(inputs)\n",
    "    input_ids = inputs.input_ids\n",
    "#     print(input_ids)\n",
    "    bsz = input_ids.size(0)\n",
    "#     print(\"bsz = \",bsz)\n",
    "    labels = torch.ones_like(input_ids) * (-100)\n",
    "    if use_openai_api:\n",
    "        assert bsz == 1\n",
    "#         outputs = model(engine=engine, prompt=text, max_tokens=0, echo=True, logprobs=5).choices[0].logprobs\n",
    "        outputs = model(text).logprobs  # XD\n",
    "        ans_nlls = []\n",
    "    else:\n",
    "        inputs = prepare_inputs(inputs, model.device)\n",
    "        outputs = model(**inputs, output_attentions=False)\n",
    "        logits = outputs.logits\n",
    "    for bi in range(bsz):\n",
    "\n",
    "        bos_indices, eos_indices = ans_indices_fn(input_ids[bi])\n",
    "#         print(\"input_ids :\",input_ids[bi])\n",
    "#         print(\"ans_indices_fn:\",ans_indices_fn(input_ids[bi]))\n",
    "#         print(\"bos_indices:\",bos_indices)\n",
    "#         print(\"eos_indices:\",eos_indices)\n",
    "        examples = text.strip().split('\\n')\n",
    "#         print(\"bos_indices:\",bos_indices)\n",
    "        print(\"examples:\",examples)\n",
    "        assert len(bos_indices) == len(examples)-1, '%d != %d' % (len(bos_indices), len(examples))\n",
    "        num = 0\n",
    "        for i, (example, bos_i, eos_i) in enumerate(zip(examples, bos_indices, eos_indices)):\n",
    "#             if verbose: print(' ' + example, end='\\t')\n",
    "            ans_ids = input_ids[bi, bos_i + 1: eos_i]\n",
    "            print(\"ans_ids:\",ans_ids)\n",
    "            labels[bi, bos_i: eos_i - 1] = ans_ids\n",
    "            if use_openai_api:\n",
    "                ans_prob_dist = [get_prob_dist(d, topk=topk) for d in outputs.top_logprobs[bos_i + 1: eos_i]]\n",
    "                ans_probs = [math.exp(lp) for lp in outputs.token_logprobs[bos_i + 1: eos_i]]\n",
    "                ans_nlls += [-lp for lp in outputs.token_logprobs[bos_i + 1: eos_i]]\n",
    "            else:\n",
    "                ans_prob_dist = logits[bi, bos_i: eos_i - 1].softmax(-1)\n",
    "                ans_probs = ans_prob_dist[torch.arange(ans_prob_dist.size(0)), ans_ids]\n",
    "            ans_tokens = tokenizer.convert_ids_to_tokens(ans_ids)\n",
    "            num += 1\n",
    "            for ans_id, ans_token, ans_prob, dist in zip(ans_ids, ans_tokens, numpy(ans_probs, decimals=3), ans_prob_dist):\n",
    "                top1_correct = max(dist.items(), key=lambda x: x[1])[0] == ans_token.replace('Ġ', ' ') \\\n",
    "                    if use_openai_api else (dist.argmax() == ans_id).item()  \n",
    "                \n",
    "                if verbose:\n",
    "                    if(num == 1 and top1_correct):\n",
    "                        global correct_num\n",
    "                        correct_num += 1\n",
    "                    if(len(ans_tokens) <= 1):\n",
    "#                         if(top1_correct):\n",
    "#                             dictlocation1[example] = 1\n",
    "                        print(('！！！' if top1_correct else ' ') + ans_token, ans_prob, \n",
    "                              dist if use_openai_api else show_topk(*dist.topk(topk), indices_fn=tokenizer.convert_ids_to_tokens)) \n",
    "                        \n",
    "                    else:\n",
    "                        pass\n",
    "    if use_openai_api:\n",
    "        loss = ans_nlls if return_reduced_loss else sum(ans_nlls) / len(ans_nlls)\n",
    "    else:\n",
    "        loss = nn.CrossEntropyLoss()(logits.view(-1, logits.size(-1)), labels.view(-1)) if return_reduced_loss \\\n",
    "            else nn.CrossEntropyLoss(reduction='none')(logits.view(-1, logits.size(-1)), labels.view(-1))[labels.view(-1)>=0].tolist()\n",
    "    return loss"
   ]
  },
  {
   "cell_type": "code",
   "execution_count": 354,
   "id": "f49b21a5",
   "metadata": {},
   "outputs": [
    {
     "name": "stdout",
     "output_type": "stream",
     "text": [
      "2\n",
      "Instruction: Do all students choose courses in a department. For example:\n",
      "D: Chinese, U: Art, A: Art, U: Chinese, D: Art; Art: Chi, Chinese: Eng, Physics: Eng. A and U,Chi? -> Yes\n",
      "\n"
     ]
    }
   ],
   "source": [
    "print(len(input_strs))\n",
    "print(input_strs[0])"
   ]
  },
  {
   "cell_type": "code",
   "execution_count": 355,
   "id": "490ff768",
   "metadata": {
    "scrolled": true
   },
   "outputs": [
    {
     "name": "stdout",
     "output_type": "stream",
     "text": [
      "[] [<class 'method'>, <class 'function'>]\n",
      "type(model): <class 'function'>\n",
      "{'input_ids': tensor([[ 6310,  2762,    25,  2141,   477,  2444,  3853, 10902,   287,   257,\n",
      "          5011,    13,  1114,  1672,    25,   198,    35,    25,  3999,    11,\n",
      "           471,    25,  3683,    11,   317,    25,  3683,    11,   471,    25,\n",
      "          3999,    11,   360,    25,  3683,    26,  3683,    25, 21380,    11,\n",
      "          3999,    25,  1985,    11, 23123,    25,  1985,    13,   317,   290,\n",
      "           471,    11,  1925,    72,    30,  4613,  3363,   198]]), 'attention_mask': tensor([[1, 1, 1, 1, 1, 1, 1, 1, 1, 1, 1, 1, 1, 1, 1, 1, 1, 1, 1, 1, 1, 1, 1, 1,\n",
      "         1, 1, 1, 1, 1, 1, 1, 1, 1, 1, 1, 1, 1, 1, 1, 1, 1, 1, 1, 1, 1, 1, 1, 1,\n",
      "         1, 1, 1, 1, 1, 1, 1, 1, 1, 1]])}\n",
      "examples: ['Instruction: Do all students choose courses in a department. For example:', 'D: Chinese, U: Art, A: Art, U: Chinese, D: Art; Art: Chi, Chinese: Eng, Physics: Eng. A and U,Chi? -> Yes']\n",
      "ans_ids: tensor([3363])\n",
      " ĠYes 0.008 {' A': 0.086, ' U': 0.047, ' D': 0.037, ' Art': 0.031, ' Eng': 0.025}\n"
     ]
    },
    {
     "data": {
      "text/plain": [
       "4.8359756"
      ]
     },
     "execution_count": 355,
     "metadata": {},
     "output_type": "execute_result"
    },
    {
     "name": "stdout",
     "output_type": "stream",
     "text": [
      "[] [<class 'method'>, <class 'function'>]\n",
      "type(model): <class 'function'>\n",
      "{'input_ids': tensor([[ 6310,  2762,    25,  2141,   477,  2444,  3853, 10902,   287,   257,\n",
      "          5011,    13,  1114,  1672,    25,   198,    34,    25,   311, 13976,\n",
      "            11,   367,    25, 23123,    11,   367,    25,   311, 13976,    11,\n",
      "           367,    25, 27867,    11,   509,    25,   311, 13976,    26,   311,\n",
      "         13976,    25, 21380,    11, 23123,    25, 21380,    11, 27867,    25,\n",
      "          1985,    13,   367,   290,   327,    11,  7936,    30,  4613,  1400,\n",
      "           198]]), 'attention_mask': tensor([[1, 1, 1, 1, 1, 1, 1, 1, 1, 1, 1, 1, 1, 1, 1, 1, 1, 1, 1, 1, 1, 1, 1, 1,\n",
      "         1, 1, 1, 1, 1, 1, 1, 1, 1, 1, 1, 1, 1, 1, 1, 1, 1, 1, 1, 1, 1, 1, 1, 1,\n",
      "         1, 1, 1, 1, 1, 1, 1, 1, 1, 1, 1, 1, 1]])}\n",
      "examples: ['Instruction: Do all students choose courses in a department. For example:', 'C: Sql, H: Physics, H: Sql, H: Chemistry, K: Sql; Sql: Chi, Physics: Chi, Chemistry: Eng. H and C,Eng? -> No']\n",
      "ans_ids: tensor([1400])\n",
      " ĠNo 0.018 {' H': 0.067, ' S': 0.056, ' Eng': 0.045, ' C': 0.03, ' K': 0.026}\n"
     ]
    },
    {
     "data": {
      "text/plain": [
       "3.990212"
      ]
     },
     "execution_count": 355,
     "metadata": {},
     "output_type": "execute_result"
    }
   ],
   "source": [
    "correct_num = 0\n",
    "for i in input_strs:\n",
    "# for i in text1:\n",
    "    text = i\n",
    "    predict(model, text, get_ans_indices0, verbose=True, topk=5)"
   ]
  },
  {
   "cell_type": "markdown",
   "id": "58c1fe66",
   "metadata": {},
   "source": [
    "# 从这里开始"
   ]
  },
  {
   "cell_type": "code",
   "execution_count": 8,
   "id": "58cba5e2",
   "metadata": {
    "scrolled": true
   },
   "outputs": [],
   "source": [
    "from utils import *\n",
    "from child_utils import *\n",
    "from common_utils import *\n",
    "from model_utils import *"
   ]
  },
  {
   "cell_type": "code",
   "execution_count": 10,
   "id": "90f62ac5",
   "metadata": {},
   "outputs": [],
   "source": [
    "models = {}\n",
    "# cache_dir = '/nas/xd/.cache/torch/transformers/'  # for models besides t5-3b/11b\n",
    "cache_dir = '/mnt/nvme1/xd/.cache/torch/transformers/'  # for gpt-j-6B on elderberry\n",
    "proxies = {'http': '192.168.50.1:1081'} "
   ]
  },
  {
   "cell_type": "code",
   "execution_count": 14,
   "id": "520d34a6",
   "metadata": {
    "scrolled": true
   },
   "outputs": [],
   "source": [
    "model_name = \"EleutherAI/gpt-j-6B\"\n",
    "# model_name = \"EleutherAI/gpt-neo-1.3B\"\n",
    "# model = GPTJForCausalLM.from_pretrained(model_name, proxies=proxies, cache_dir=cache_dir)\n",
    "model = AutoModelForCausalLM.from_pretrained(model_name, proxies=proxies, cache_dir=cache_dir)\n",
    "tokenizer = GPT2Tokenizer.from_pretrained('gpt2', cache_dir=cache_dir)\n",
    "models[model_name] = model, tokenizer"
   ]
  },
  {
   "cell_type": "code",
   "execution_count": 15,
   "id": "830ce082",
   "metadata": {},
   "outputs": [],
   "source": [
    "_ = model.eval()\n",
    "unify(model)\n",
    "blocks = model.transformer.h\n",
    "attn = blocks[0].attn\n",
    "ln_f = model.transformer.ln_f\n",
    "L, H, embed_dim = len(blocks), attn.num_heads, attn.embed_dim\n",
    "\n",
    "_we = model.transformer.wte.weight.data.t()\n",
    "_wu = model.lm_head.weight.data"
   ]
  },
  {
   "cell_type": "code",
   "execution_count": 58,
   "id": "0e50583a",
   "metadata": {},
   "outputs": [
    {
     "data": {
      "text/plain": [
       "GPTJAttention(\n",
       "  (attn_dropout): Dropout(p=0.0, inplace=False)\n",
       "  (resid_dropout): Dropout(p=0.0, inplace=False)\n",
       "  (k_proj): Linear(in_features=4096, out_features=4096, bias=False)\n",
       "  (v_proj): Linear(in_features=4096, out_features=4096, bias=False)\n",
       "  (q_proj): Linear(in_features=4096, out_features=4096, bias=False)\n",
       "  (out_proj): Linear(in_features=4096, out_features=4096, bias=False)\n",
       ")"
      ]
     },
     "execution_count": 58,
     "metadata": {},
     "output_type": "execute_result"
    }
   ],
   "source": [
    "attn"
   ]
  },
  {
   "cell_type": "code",
   "execution_count": 59,
   "id": "c128d0b0",
   "metadata": {},
   "outputs": [
    {
     "data": {
      "text/plain": [
       "LayerNorm((4096,), eps=1e-05, elementwise_affine=True)"
      ]
     },
     "execution_count": 59,
     "metadata": {},
     "output_type": "execute_result"
    }
   ],
   "source": [
    "ln_f"
   ]
  },
  {
   "cell_type": "code",
   "execution_count": 61,
   "id": "cd64c2dd",
   "metadata": {},
   "outputs": [
    {
     "data": {
      "text/plain": [
       "28"
      ]
     },
     "execution_count": 61,
     "metadata": {},
     "output_type": "execute_result"
    },
    {
     "data": {
      "text/plain": [
       "16"
      ]
     },
     "execution_count": 61,
     "metadata": {},
     "output_type": "execute_result"
    }
   ],
   "source": [
    "L\n",
    "H"
   ]
  },
  {
   "cell_type": "code",
   "execution_count": 23,
   "id": "d82cfd61",
   "metadata": {},
   "outputs": [
    {
     "data": {
      "text/plain": [
       "torch.Size([50400, 4096])"
      ]
     },
     "execution_count": 23,
     "metadata": {},
     "output_type": "execute_result"
    }
   ],
   "source": [
    "_wu.size()"
   ]
  },
  {
   "cell_type": "code",
   "execution_count": 383,
   "id": "ef8becf4",
   "metadata": {},
   "outputs": [],
   "source": [
    "def T(f): return lambda x: f(x.T).T\n",
    "mlp = lambda x: mlp_forward(blocks[0], x)\n",
    "v = we.size(1) #// 2\n",
    "_we, _wu = we[:, :v], wu[:v]\n",
    "with torch.no_grad(): _e = mlp(_we.T) + _we.T"
   ]
  },
  {
   "cell_type": "code",
   "execution_count": 1621,
   "id": "dc605c26",
   "metadata": {},
   "outputs": [
    {
     "data": {
      "text/plain": [
       "50400"
      ]
     },
     "execution_count": 1621,
     "metadata": {},
     "output_type": "execute_result"
    }
   ],
   "source": [
    "v"
   ]
  },
  {
   "cell_type": "code",
   "execution_count": 2258,
   "id": "9a94c107",
   "metadata": {},
   "outputs": [],
   "source": [
    "layer, head = 14, 7# prev ov: 13-9, next num ov: 14-13, next word ov: 13-4, prepend space ov: 18-3/17-10, isa ov: 14-7, antonym ov: 16-14, copy ov 13-2\n",
    "wq, wk, wv, wo = get_head_weights(model, layer, head, transpose=True)\n",
    "with torch.no_grad():\n",
    "    eq = ek = e = blocks[layer].ln_1(_e)\n",
    "    # A, B = _wu, ln_f(e @ wv @ wo)\n",
    "    A, B = _wu @ wo.T, e @ wv\n",
    "    q, k = eq @ wq, ek @ wk"
   ]
  },
  {
   "cell_type": "code",
   "execution_count": 2265,
   "id": "a7f6529b",
   "metadata": {},
   "outputs": [],
   "source": [
    "qk = False\n",
    "with torch.no_grad():  # ve,ed,de,ev->vv\n",
    "    # _m = ln(mlp(_we.T)) @ (wq.T @ wk) @ T(ln)(T(mlp)(_we)) if qk else _wu @ T(ln_f)(wo @ (wv @ T(ln)(T(mlp)(_we))))\n",
    "    _m = q @ k.T if qk else _wu @ ln_f(B @ wo).T"
   ]
  },
  {
   "cell_type": "code",
   "execution_count": 2266,
   "id": "459d21eb",
   "metadata": {},
   "outputs": [
    {
     "data": {
      "text/plain": [
       "0.9097989797592163"
      ]
     },
     "execution_count": 2266,
     "metadata": {},
     "output_type": "execute_result"
    },
    {
     "data": {
      "image/png": "[encoded data removed]",
      "text/plain": [
       "<Figure size 432x288 with 1 Axes>"
      ]
     },
     "metadata": {
      "needs_background": "light"
     },
     "output_type": "display_data"
    }
   ],
   "source": [
    "plot_eigv((k.T @ q).eig()[0] if qk else (B.T @ A).eig()[0], start_i=1)"
   ]
  },
  {
   "cell_type": "code",
   "execution_count": 2271,
   "id": "801cf7e3",
   "metadata": {},
   "outputs": [],
   "source": [
    "# m = _m  # q->k, output->input\n",
    "m = _m.T  # k->q, input->output\n",
    "values, indices = m.topk(10)"
   ]
  },
  {
   "cell_type": "code",
   "execution_count": 2272,
   "id": "d258e52b",
   "metadata": {
    "scrolled": false
   },
   "outputs": [
    {
     "name": "stdout",
     "output_type": "stream",
     "text": [
      "Ġsize {'Ġsize': 56, 'Ġsizes': 55, 'ĠSize': 52, 'size': 51, 'Ġsized': 49, 'Size': 49}\n",
      "ĠSize {'Ġsize': 54, 'Ġsizes': 53, 'ĠSize': 51, 'size': 50, 'Ġsized': 48, 'Size': 48}\n",
      "Size {'Ġsize': 53, 'Ġsizes': 52, 'ĠSize': 51, 'size': 50, 'Ġsized': 48, 'Size': 48}\n",
      "Ġsizes {'Ġsizes': 55, 'Ġsize': 52, 'ĠSize': 49, 'size': 47, 'Ġsized': 47, 'Size': 46}\n",
      "Ġsized {'Ġsizes': 53, 'Ġsize': 50, 'Ġsized': 49, 'ĠSize': 48, 'size': 46, 'Size': 45}\n",
      "Ġlevel {'Ġlevel': 53, 'level': 51, 'Level': 51, 'ĠLevel': 48, 'Ġlevels': 48, 'levels': 45}\n",
      "sized {'Ġsizes': 52, 'Ġsize': 50, 'Ġsized': 49, 'ĠSize': 47, 'size': 45, 'Size': 44}\n",
      "size {'Ġsizes': 52, 'Ġsize': 51, 'ĠSize': 48, 'size': 47, 'Ġsized': 47, 'Size': 45}\n",
      "Level {'level': 51, 'Ġlevel': 51, 'Level': 50, 'ĠLevel': 47, 'Ġlevels': 46, 'levels': 45}\n",
      "ĠLevel {'Ġlevel': 51, 'Level': 50, 'level': 50, 'ĠLevel': 47, 'Ġlevels': 46, 'levels': 44}\n",
      "Ġsmaller {'Ġsizes': 50, 'Ġsize': 49, 'Ġsized': 46, 'ĠSize': 44, 'Ġsmaller': 44, 'Ġlarger': 44}\n",
      "Ġlarger {'Ġsizes': 50, 'Ġsize': 50, 'Ġsized': 45, 'Ġlarger': 44, 'ĠSize': 44, 'Ġsmaller': 43}\n",
      "level {'Ġlevel': 50, 'level': 49, 'Level': 49, 'ĠLevel': 46, 'Ġlevels': 45, 'levels': 43}\n",
      "Large {'Ġsize': 49, 'Ġsizes': 48, 'Ġsized': 45, 'ĠSize': 43, 'Ġlarger': 42, 'size': 42}\n",
      "Ġsmall {'Ġsize': 47, 'Ġsizes': 47, 'Ġsized': 44, 'Ġlarger': 43, 'ĠSize': 43, 'size': 42}\n",
      "Ġlevels {'Ġlevels': 48, 'Ġlevel': 48, 'Level': 47, 'levels': 46, 'level': 46, 'ĠLevels': 44}\n",
      "large {'Ġsize': 49, 'Ġsizes': 48, 'Ġsized': 45, 'ĠSize': 44, 'size': 42, 'Ġlarger': 41}\n",
      "ĠSmall {'Ġsizes': 47, 'Ġsize': 47, 'Ġsized': 44, 'ĠSize': 43, 'Ġlarger': 42, 'Ġsmaller': 42}\n",
      "ĠLarge {'Ġsize': 48, 'Ġsizes': 48, 'Ġsized': 44, 'ĠSize': 43, 'size': 42, 'Ġlarger': 41}\n",
      "Ġlarge {'Ġsize': 48, 'Ġsizes': 47, 'Ġsized': 44, 'Ġlarger': 42, 'ĠSize': 42, 'size': 41}\n",
      "Small {'Ġsizes': 46, 'Ġsize': 46, 'Ġsized': 43, 'ĠSize': 42, 'Ġlarger': 42, 'Ġsmaller': 41}\n",
      "ĠLevels {'Level': 46, 'Ġlevels': 46, 'levels': 46, 'Ġlevel': 45, 'level': 44, 'ĠLevels': 43}\n",
      "small {'Ġsize': 45, 'Ġsizes': 45, 'Ġsized': 42, 'Ġlarger': 42, 'ĠSize': 41, 'size': 40}\n",
      "Ġlength {'Ġlength': 52, 'Ġlengths': 48, 'length': 45, 'ĠLength': 43, 'Length': 42, 'Ġshorter': 40}\n",
      "Weight {'Ġweight': 48, 'weight': 45, 'Weight': 43, 'Ġweights': 42, 'ĠWeight': 42, 'Ġweigh': 38}\n",
      "Ġbigger {'Ġsizes': 46, 'Ġsize': 46, 'ĠSize': 41, 'Ġlarger': 40, 'Ġsized': 40, 'size': 40}\n",
      "Ġsmallest {'Ġsizes': 45, 'Ġsize': 44, 'Ġsmaller': 42, 'Ġsized': 41, 'Ġlarger': 40, 'ĠSize': 40}\n",
      "ĠWeight {'Ġweight': 47, 'weight': 44, 'Ġweights': 42, 'Weight': 42, 'ĠWeight': 41, 'weights': 38}\n",
      "weight {'Ġweight': 48, 'weight': 45, 'Ġweights': 42, 'Weight': 42, 'ĠWeight': 41, 'weights': 38}\n",
      "Ġsizing {'Ġsizes': 47, 'Ġsize': 46, 'ĠSize': 43, 'Ġsized': 43, 'size': 42, 'Size': 39}\n",
      "Ġweight {'Ġweight': 48, 'weight': 44, 'Ġweights': 43, 'ĠWeight': 41, 'Weight': 41, 'weights': 38}\n",
      "arger {'Ġsizes': 45, 'Ġsize': 45, 'Ġsized': 41, 'Ġlarger': 41, 'size': 39, 'ĠSize': 39}\n",
      "ĠLEVEL {'level': 46, 'Level': 45, 'Ġlevel': 44, 'levels': 43, 'Ġlevels': 43, 'ĠLevel': 40}\n",
      "Ġbig {'Ġsize': 45, 'Ġsizes': 45, 'Ġsized': 41, 'Ġlarger': 40, 'ĠSize': 40, 'Ġsmaller': 39}\n",
      "Ġlargest {'Ġsizes': 45, 'Ġsize': 44, 'Ġlarger': 40, 'Ġsized': 40, 'Ġsmaller': 40, 'ĠSize': 39}\n",
      "Ġlong {'Ġlonger': 46, 'Ġshorter': 45, 'Ġlength': 43, 'Ġlongest': 39, 'Ġlengths': 39, 'length': 37}\n",
      "% {'Ġpercentage': 45, 'Ġpercentages': 44, 'percent': 43, 'Ġpercent': 42, 'ĠPercentage': 40, 'ĠPercent': 38}\n",
      "Ġspeed {'Ġspeed': 46, 'speed': 43, 'Ġspeeds': 41, 'Ġslower': 40, 'ĠSpeed': 40, 'Speed': 39}\n",
      "levels {'Ġlevels': 44, 'Level': 43, 'Ġlevel': 43, 'level': 42, 'levels': 42, 'ĠLevels': 40}\n",
      "Ġweights {'Ġweight': 45, 'Ġweights': 44, 'weight': 42, 'Weight': 40, 'weights': 39, 'ĠWeight': 39}\n",
      "Ġlengths {'Ġlength': 48, 'Ġlengths': 48, 'length': 44, 'Length': 40, 'ĠLength': 40, 'Ġshorter': 38}\n",
      "length {'Ġlength': 50, 'Ġlengths': 47, 'length': 44, 'ĠLength': 41, 'Length': 41, 'Ġshorter': 36}\n",
      "ĠLong {'Ġlonger': 45, 'Ġlength': 43, 'Ġshorter': 43, 'Ġlongest': 39, 'Ġlengths': 38, 'length': 37}\n",
      "Ġbiggest {'Ġsize': 42, 'Ġsizes': 41, 'Ġlarger': 39, 'Ġsmaller': 39, 'Ġsized': 38, 'ĠSize': 37}\n",
      "Ġshorter {'Ġshorter': 45, 'Ġlength': 43, 'Ġlengths': 41, 'Ġlonger': 39, 'length': 38, 'Ġshortest': 36}\n",
      "Ġrate {'Ġrate': 47, 'Ġrates': 43, 'Rate': 43, 'rate': 43, 'ĠRate': 41, 'ĠRates': 38}\n",
      "Ġdate {'Ġdate': 47, 'Ġdates': 46, 'date': 42, 'ĠDate': 39, 'ĠDates': 38, 'Date': 38}\n",
      "largest {'Ġsizes': 43, 'Ġsize': 42, 'Ġlarger': 38, 'ĠSize': 38, 'Ġsmaller': 38, 'Ġsized': 37}\n",
      "Long {'Ġlonger': 45, 'Ġshorter': 42, 'Ġlength': 41, 'Ġlongest': 39, 'Ġlengths': 37, 'length': 35}\n",
      "Ġblack {'Ġcolor': 44, 'Ġcolors': 40, 'Ġcolour': 40, 'Ġcolored': 39, 'color': 39, 'ĠColor': 36}\n",
      "Ġweak {'Ġstrength': 43, 'strength': 41, 'Ġstronger': 40, 'Ġstrong': 38, 'Ġweaker': 38, 'Ġstrengths': 37}\n",
      "speed {'Ġspeed': 44, 'speed': 43, 'Ġspeeds': 39, 'ĠSpeed': 39, 'Speed': 38, 'Ġslower': 38}\n",
      "SIZE {'Ġsize': 42, 'Ġsizes': 42, 'ĠSize': 40, 'size': 40, 'Ġsized': 39, 'Size': 38}\n",
      "Ġweighted {'Ġweight': 43, 'weight': 42, 'Ġweights': 40, 'Weight': 40, 'ĠWeight': 38, 'weights': 36}\n",
      "Ġfast {'Ġspeed': 42, 'Ġslower': 40, 'Ġspeeds': 38, 'Ġslow': 38, 'speed': 37, 'Ġfaster': 36}\n",
      "ĠRate {'Ġrate': 46, 'Rate': 43, 'Ġrates': 42, 'rate': 42, 'ĠRate': 41, 'ĠRates': 38}\n",
      "Ġrates {'Ġrate': 46, 'Ġrates': 45, 'Rate': 41, 'rate': 41, 'ĠRate': 40, 'ĠRates': 39}\n",
      "ĠDate {'Ġdate': 45, 'Ġdates': 45, 'date': 42, 'ĠDate': 39, 'Date': 38, 'ĠDates': 38}\n",
      "Ġnumber {'Ġnumber': 43, 'Ġnumbers': 42, 'number': 41, 'Number': 40, 'ĠNumber': 38, 'ĠNUM': 35}\n",
      "Ġpercent {'Ġpercentages': 42, 'Ġpercentage': 42, 'percent': 41, 'Ġpercent': 39, 'ĠPercentage': 38, 'ĠPercent': 37}\n",
      "young {'Ġage': 47, 'Ġaged': 41, 'Ġages': 40, 'ĠAge': 38, 'Age': 37, 'Ġolder': 35}\n",
      "date {'Ġdate': 45, 'Ġdates': 45, 'date': 41, 'ĠDate': 38, 'ĠDates': 38, 'Date': 37}\n",
      "Ġfaster {'Ġslower': 43, 'Ġspeed': 40, 'Ġspeeds': 39, 'Ġfaster': 38, 'Ġslow': 37, 'speed': 37}\n",
      "Ġhigher {'Ġhigher': 44, 'higher': 41, 'Ġhighest': 39, 'Higher': 38, 'highest': 36, 'ĠHigher': 34}\n",
      "weights {'Ġweight': 44, 'weight': 42, 'Ġweights': 40, 'Weight': 39, 'ĠWeight': 37, 'weights': 37}\n",
      "Ġyoung {'Ġage': 46, 'Ġaged': 40, 'Ġages': 39, 'ĠAge': 38, 'Age': 36, 'Ġaging': 35}\n",
      "ĠPercent {'Ġpercentages': 42, 'percent': 41, 'Ġpercentage': 41, 'Ġpercent': 38, 'Percent': 38, 'ĠPercent': 38}\n",
      "Speed {'Ġspeed': 44, 'speed': 41, 'Ġspeeds': 39, 'ĠSpeed': 38, 'Ġslower': 37, 'Speed': 37}\n",
      "Length {'Ġlength': 47, 'Ġlengths': 45, 'length': 43, 'Length': 39, 'ĠLength': 39, 'Ġshorter': 35}\n",
      "Date {'Ġdate': 44, 'Ġdates': 44, 'date': 41, 'ĠDate': 38, 'Date': 38, 'ĠDates': 38}\n",
      "Ġheavier {'Ġheavier': 42, 'Ġweight': 40, 'weight': 38, 'Ġweights': 37, 'Ġheaviest': 36, 'Ġweigh': 35}\n",
      "Ġ% {'Ġpercentage': 42, 'Ġpercentages': 41, 'Ġpercent': 39, 'percent': 39, 'ĠPercentage': 37, 'ĠPercent': 35}\n",
      "ĠSpeed {'Ġspeed': 43, 'speed': 41, 'Ġspeeds': 39, 'ĠSpeed': 38, 'Speed': 37, 'Ġslower': 37}\n",
      "Percent {'Ġpercentages': 41, 'Ġpercentage': 41, 'percent': 40, 'Ġpercent': 39, 'ĠPercentage': 38, 'Percent': 37}\n",
      "ĠLength {'Ġlength': 46, 'Ġlengths': 43, 'length': 42, 'Length': 39, 'ĠLength': 39, 'Ġshorter': 35}\n",
      "Ġslow {'Ġspeed': 41, 'Ġslower': 39, 'Ġspeeds': 39, 'speed': 37, 'Ġslow': 36, 'Ġfaster': 36}\n",
      "Ġoversized {'Ġsized': 41, 'Ġsizes': 41, 'Ġsize': 40, 'size': 38, 'ĠSize': 37, 'sized': 36}\n",
      "Weak {'Ġstrength': 39, 'strength': 38, 'Ġstronger': 38, 'Ġweaker': 37, 'Ġstrong': 36, 'Ġweak': 36}\n",
      "Ġlonger {'Ġlonger': 43, 'Ġshorter': 40, 'Ġlength': 40, 'Ġlengths': 37, 'Ġlongest': 37, 'length': 36}\n",
      "Ġleveled {'Level': 42, 'level': 41, 'Ġlevel': 39, 'ĠLevel': 39, 'Ġlevels': 36, 'ĠLevels': 36}\n",
      "Ġnumbers {'Ġnumbers': 44, 'Ġnumber': 39, 'number': 38, 'Number': 37, 'Numbers': 36, 'ĠNumbers': 35}\n",
      "ĠWeak {'Ġstrength': 40, 'strength': 39, 'Ġstronger': 38, 'Ġweaker': 36, 'Ġstrong': 35, 'Ġweak': 35}\n",
      "Ġfastest {'Ġslower': 40, 'Ġspeed': 40, 'Ġspeeds': 38, 'speed': 37, 'Ġfaster': 35, 'Speed': 35}\n",
      "Ġpercentages {'Ġpercentages': 43, 'Ġpercentage': 40, 'percent': 40, 'Ġpercent': 38, 'ĠPercentage': 38, 'ĠPercent': 36}\n",
      "Ġslower {'Ġslower': 42, 'Ġspeed': 39, 'Ġspeeds': 37, 'Ġfaster': 37, 'speed': 36, 'Ġslow': 36}\n",
      "Ġdates {'Ġdates': 46, 'Ġdate': 43, 'ĠDates': 39, 'date': 38, 'ĠDate': 36, 'dates': 36}\n",
      "Ġtiny {'Ġsize': 40, 'Ġsizes': 40, 'Ġsized': 37, 'ĠSize': 36, 'size': 36, 'Ġlarger': 35}\n",
      "Ġheavy {'Ġweight': 40, 'Ġheavier': 39, 'weight': 37, 'Ġweights': 37, 'Ġheaviest': 35, 'Weight': 35}\n",
      "Ġbrown {'Ġcolor': 41, 'Ġcolour': 39, 'Ġcolored': 36, 'Ġcolors': 36, 'color': 36, 'ĠColor': 35}\n",
      "percent {'Ġpercentage': 40, 'Ġpercentages': 40, 'percent': 39, 'Ġpercent': 38, 'ĠPercentage': 37, 'ĠPercent': 36}\n",
      "Ġname {'Ġname': 43, 'Ġnames': 40, 'name': 39, 'ĠNAME': 35, 'names': 34, 'Name': 34}\n",
      "Ġlongest {'Ġlength': 41, 'Ġshorter': 39, 'Ġlonger': 38, 'Ġlengths': 38, 'Ġlongest': 37, 'length': 35}\n",
      "Ġold {'Ġage': 45, 'Ġaged': 39, 'Ġages': 38, 'ĠAge': 36, 'Age': 36, 'Ġyounger': 35}\n",
      "ĠFast {'Ġspeed': 40, 'Ġslower': 38, 'Ġslow': 37, 'speed': 37, 'Ġspeeds': 36, 'Speed': 35}\n",
      "Ġgray {'Ġcolor': 42, 'Ġcolour': 38, 'color': 37, 'Ġcolors': 37, 'Ġcolored': 37, 'Ġcolours': 33}\n",
      "Ġweighed {'Ġweight': 40, 'weight': 39, 'Weight': 38, 'ĠWeight': 36, 'Ġweigh': 36, 'Ġweights': 35}\n",
      "Ġpositive {'Ġpositive': 43, 'ĠPositive': 39, 'positive': 39, 'Ġnegative': 38, 'negative': 36, 'Ġpositives': 35}\n",
      "Higher {'Ġhigher': 42, 'higher': 41, 'Higher': 38, 'Ġhighest': 37, 'highest': 37, 'ĠHigher': 33}\n",
      "black {'Ġcolor': 42, 'Ġcolors': 38, 'Ġcolour': 38, 'Ġcolored': 37, 'color': 36, 'ĠColor': 34}\n",
      "Ġposition {'Ġposition': 45, 'ĠPosition': 42, 'position': 41, 'Ġpositions': 40, 'Position': 40, 'Ġpositioning': 33}\n",
      "Ġweighs {'Ġweight': 40, 'weight': 39, 'Weight': 37, 'Ġweigh': 36, 'ĠWeight': 35, 'Ġweights': 35}\n",
      "Ġweighing {'Ġweight': 39, 'weight': 38, 'Ġweigh': 37, 'Weight': 37, 'Ġweighing': 36, 'ĠWeight': 35}\n",
      "ĠHigher {'Ġhigher': 42, 'higher': 41, 'Ġhighest': 38, 'Higher': 37, 'highest': 36, 'ĠHigher': 33}\n",
      "Ġweigh {'Ġweight': 41, 'weight': 38, 'Weight': 37, 'Ġweigh': 36, 'ĠWeight': 36, 'Ġweights': 35}\n",
      "higher {'Ġhigher': 42, 'higher': 40, 'Ġhighest': 38, 'Higher': 37, 'highest': 36, 'ĠHigher': 34}\n",
      "Ġage {'Ġage': 45, 'Ġages': 41, 'ĠAge': 38, 'Age': 37, 'Ġaged': 37, 'Ġyounger': 33}\n",
      "Ġred {'Ġcolor': 41, 'Ġcolour': 38, 'Ġcolors': 37, 'Ġcolored': 36, 'color': 35, 'Ġcolours': 35}\n",
      "lvl {'level': 41, 'Level': 40, 'levels': 38, 'Ġlevel': 38, 'Ġlevels': 36, 'ĠLevel': 35}\n",
      "ĠBig {'Ġsizes': 40, 'Ġsize': 40, 'Ġsized': 37, 'ĠSize': 36, 'Ġlarger': 36, 'Ġsmaller': 35}\n",
      "Fast {'Ġspeed': 41, 'Ġslower': 37, 'Ġslow': 36, 'Ġspeeds': 36, 'speed': 36, 'Speed': 35}\n",
      "Ġpositioned {'Ġposition': 41, 'ĠPosition': 40, 'position': 39, 'Position': 38, 'Ġpositioning': 38, 'Ġpositions': 36}\n",
      "Ġnamed {'Ġname': 43, 'Ġnames': 41, 'name': 37, 'Ġnaming': 36, 'ĠNAME': 34, 'Name': 34}\n",
      "Ġcolors {'Ġcolor': 41, 'Ġcolors': 40, 'Ġcolour': 37, 'Ġcolours': 37, 'color': 35, 'Ġcolored': 34}\n",
      "ĠRates {'Ġrate': 44, 'Ġrates': 43, 'Rate': 40, 'rate': 40, 'ĠRate': 39, 'ĠRates': 38}\n",
      "slow {'Ġspeed': 39, 'Ġslower': 38, 'Ġslow': 37, 'Ġspeeds': 37, 'speed': 36, 'Ġfaster': 34}\n",
      "%, {'Ġpercentage': 40, 'Ġpercentages': 40, 'percent': 39, 'Ġpercent': 37, 'ĠPercentage': 37, 'Percent': 35}\n",
      "Ġwhite {'Ġcolor': 42, 'Ġcolour': 38, 'color': 37, 'Ġcolored': 37, 'Ġcolors': 36, 'ĠColor': 35}\n",
      "Ġnegative {'Ġpositive': 42, 'Ġnegative': 40, 'positive': 38, 'ĠPositive': 37, 'negative': 36, 'ĠNegative': 34}\n",
      "Ġcolor {'Ġcolor': 41, 'Ġcolors': 39, 'Ġcolour': 38, 'color': 36, 'Ġcolours': 35, 'Ġcolored': 34}\n",
      "Ġheaviest {'Ġheavier': 40, 'Ġweight': 39, 'Ġheaviest': 38, 'weight': 36, 'Ġweights': 35, 'Weight': 34}\n",
      "Ġenlarg {'Ġsize': 42, 'Ġsizes': 41, 'ĠSize': 38, 'Ġsized': 36, 'size': 36, 'Size': 35}\n",
      "ĠDates {'Ġdates': 45, 'Ġdate': 42, 'ĠDates': 39, 'date': 38, 'dates': 37, 'ĠDate': 35}\n",
      "Ġenlarge {'Ġsize': 41, 'Ġsizes': 39, 'ĠSize': 37, 'size': 36, 'Ġsized': 36, 'Size': 35}\n",
      "weak {'Ġstrength': 39, 'Ġstronger': 38, 'strength': 37, 'Ġstrong': 36, 'Ġweaker': 36, 'strong': 34}\n",
      "Ġrapid {'Ġslower': 41, 'Ġslow': 38, 'Ġspeed': 38, 'Ġfaster': 34, 'slow': 34, 'ĠSlow': 34}\n",
      "Ġpositions {'Ġposition': 43, 'Ġpositions': 41, 'ĠPosition': 41, 'position': 40, 'Position': 39, 'Ġpositioning': 34}\n",
      "Ġhuge {'Ġsize': 39, 'Ġsizes': 38, 'Ġsized': 38, 'Ġlarger': 35, 'size': 35, 'ĠSize': 35}\n",
      "Ġpercentage {'Ġpercentage': 40, 'Ġpercentages': 40, 'percent': 40, 'Ġpercent': 37, 'ĠPercentage': 37, 'ĠPercent': 35}\n",
      "Ġtype {'Ġtype': 39, 'ĠType': 38, 'Ġtypes': 37, 'type': 36, 'ĠTypes': 35, 'ĠTYPE': 34}\n",
      "Ġnames {'Ġnames': 42, 'Ġname': 41, 'name': 37, 'names': 35, 'ĠNAME': 34, 'ĠNames': 33}\n",
      "Ġspeeds {'Ġspeed': 41, 'Ġspeeds': 39, 'speed': 39, 'Ġslower': 37, 'ĠSpeed': 35, 'Speed': 35}\n",
      "ĠBlack {'Ġcolor': 41, 'Ġcolour': 37, 'Ġcolors': 37, 'Ġcolored': 36, 'color': 36, 'ĠColor': 34}\n",
      "Ġblue {'Ġcolor': 40, 'Ġcolors': 39, 'Ġcolour': 37, 'color': 35, 'Ġcolours': 35, 'Ġcolored': 34}\n",
      "Ġlocation {'Ġlocation': 43, 'location': 41, 'ĠLocation': 41, 'Location': 41, 'Ġlocations': 37, 'ĠLocations': 35}\n",
      "ĠLONG {'Ġlonger': 41, 'Ġshorter': 40, 'Ġlength': 39, 'Ġlengths': 36, 'Ġlongest': 36, 'length': 33}\n",
      "long {'Ġlonger': 41, 'Ġshorter': 39, 'Ġlength': 38, 'Ġlongest': 36, 'Ġlengths': 34, 'Ġlong': 34}\n",
      "ĠPercentage {'Ġpercentages': 40, 'percent': 40, 'Ġpercentage': 40, 'ĠPercentage': 37, 'Ġpercent': 36, 'Percent': 36}\n",
      "Ġlvl {'Ġlevel': 40, 'level': 39, 'Level': 39, 'ĠLevel': 38, 'Ġlevels': 36, 'levels': 35}\n",
      "tiny {'Ġsizes': 39, 'Ġsize': 39, 'ĠSize': 36, 'size': 36, 'Ġsized': 36, 'Ġsmaller': 34}\n",
      "Ġwider {'Ġnarrower': 39, 'Ġwider': 39, 'Ġwidth': 36, 'Ġnarrow': 35, 'Ġwidest': 35, 'Ġwide': 34}\n",
      "ĠHuge {'Ġsize': 39, 'Ġsizes': 38, 'Ġsized': 38, 'ĠSize': 35, 'size': 34, 'sized': 33}\n",
      "Ġbroader {'Ġnarrower': 42, 'Ġwider': 38, 'Ġnarrow': 37, 'Ġwidth': 36, 'Ġbroader': 35, 'Ġwidest': 33}\n",
      "ĠBIG {'Ġsize': 38, 'Ġsizes': 38, 'Ġsized': 35, 'Ġlarger': 35, 'ĠSize': 35, 'Ġbigger': 35}\n",
      "Ġcolored {'Ġcolor': 39, 'Ġcolors': 37, 'Ġcolour': 36, 'Ġcolored': 36, 'Ġcolours': 34, 'color': 34}\n",
      "ĠFaster {'Ġslower': 39, 'Ġspeed': 38, 'Ġfaster': 36, 'Ġspeeds': 36, 'speed': 35, 'Ġslow': 34}\n",
      "ĠFrequ {'Ġfrequency': 47, 'frequency': 43, 'ĠFrequency': 43, 'Ġfrequencies': 41, 'ĠFrequ': 34, 'Ġfrequent': 33}\n",
      "Ġcost {'Ġcosts': 41, 'Ġcost': 41, 'cost': 39, 'Cost': 36, 'ĠCosts': 35, 'ĠCost': 34}\n",
      "Age {'Ġage': 44, 'Ġages': 41, 'ĠAge': 37, 'Age': 36, 'Ġaged': 36, 'Ġyounger': 31}\n",
      "Ġrapidly {'Ġslower': 42, 'Ġslow': 40, 'Slow': 35, 'slow': 35, 'Ġspeed': 35, 'ĠSlow': 34}\n",
      "ĠAge {'Ġage': 43, 'Ġages': 40, 'ĠAge': 37, 'Age': 36, 'Ġaged': 36, 'Ġyounger': 32}\n",
      "Ġgrey {'Ġcolor': 40, 'Ġcolour': 37, 'Ġcolored': 36, 'color': 36, 'Ġcolors': 36, 'Ġcoloured': 33}\n",
      "%. {'Ġpercentage': 39, 'Ġpercentages': 38, 'percent': 38, 'Ġpercent': 36, 'ĠPercentage': 36, 'Percent': 34}\n",
      "Ġhigh {'Ġhigher': 38, 'Ġhigh': 36, 'low': 36, 'Ġlow': 35, 'Ġhighest': 35, 'higher': 34}\n",
      "Ġlightweight {'Ġweight': 40, 'weight': 38, 'Weight': 36, 'Ġheavier': 36, 'Ġweights': 35, 'ĠWeight': 35}\n",
      "ĠHeavy {'Ġweight': 38, 'Ġheavier': 37, 'weight': 37, 'Ġweights': 34, 'Weight': 34, 'Ġheaviest': 33}\n",
      "ĠColors {'Ġcolor': 39, 'Ġcolors': 39, 'Ġcolour': 36, 'Ġcolours': 35, 'color': 34, 'Ġcolored': 33}\n",
      "ĠNumber {'Ġnumbers': 38, 'Ġnumber': 38, 'Number': 38, 'number': 37, 'ĠNumber': 35, 'Numbers': 33}\n",
      "%- {'Ġpercentage': 39, 'percent': 38, 'Ġpercent': 38, 'Ġpercentages': 37, 'ĠPercentage': 35, 'Percent': 33}\n",
      "negative {'Ġpositive': 41, 'Ġnegative': 39, 'positive': 36, 'ĠPositive': 36, 'negative': 35, 'ĠNegative': 33}\n",
      "ĠLocation {'Ġlocation': 42, 'location': 41, 'ĠLocation': 40, 'Location': 40, 'Ġlocations': 37, 'ĠLocations': 34}\n",
      "Ġgigantic {'Ġsizes': 39, 'Ġsize': 38, 'Ġsized': 38, 'ĠSize': 34, 'Ġsmaller': 33, 'size': 33}\n",
      "strong {'Ġstrength': 37, 'Ġstronger': 36, 'strength': 35, 'weak': 35, 'Ġstrong': 34, 'strong': 34}\n",
      "Ġshort {'Ġshorter': 38, 'Ġlength': 38, 'Ġlonger': 36, 'Ġlengths': 35, 'length': 34, 'Ġshort': 34}\n",
      "ĠColour {'Ġcolor': 39, 'Ġcolors': 38, 'Ġcolour': 36, 'Ġcolours': 34, 'Ġcolored': 34, 'color': 34}\n",
      "Ġdated {'Ġdates': 40, 'Ġdate': 40, 'Ġdated': 37, 'date': 36, 'ĠDate': 34, 'ĠDates': 34}\n",
      "Ġcosts {'Ġcosts': 42, 'Ġcost': 39, 'cost': 39, 'ĠCosts': 35, 'Cost': 35, 'ĠCost': 33}\n",
      "ĠHUGE {'Ġsize': 38, 'Ġsizes': 37, 'Ġsized': 36, 'size': 34, 'Ġlarger': 34, 'ĠSize': 33}\n",
      "Heavy {'Ġweight': 38, 'Ġheavier': 37, 'weight': 36, 'Ġheaviest': 34, 'Weight': 33, 'Ġweights': 33}\n",
      "Ġdimensions {'Ġdimensions': 43, 'Ġdimension': 41, 'ĠDimensions': 38, 'ĠDimension': 35, 'Ġdimensional': 35, 'dimension': 34}\n",
      "Old {'Ġage': 43, 'Ġaged': 37, 'ĠAge': 36, 'Ġages': 35, 'Age': 35, 'Ġolder': 32}\n",
      "Ġstrong {'Ġstrength': 37, 'Ġstronger': 36, 'strength': 35, 'Ġweaker': 34, 'Ġstrong': 34, 'weak': 34}\n",
      "Ġquickly {'Ġslower': 42, 'Ġslow': 39, 'Ġspeed': 35, 'ĠSlow': 34, 'Ġfaster': 34, 'Slow': 33}\n",
      "Ġstrength {'Ġstrength': 43, 'strength': 40, 'Ġstrengths': 37, 'ĠStrength': 36, 'Strength': 35, 'Ġstronger': 32}\n",
      "number {'Ġnumber': 39, 'Ġnumbers': 37, 'number': 37, 'Number': 37, 'ĠNumber': 36, 'ĠNUM': 33}\n",
      "Ġpower {'power': 41, 'Ġpower': 41, 'Power': 37, 'ĠPower': 37, 'Ġpowers': 33, 'ĠPOWER': 33}\n",
      "Black {'Ġcolor': 40, 'Ġcolour': 36, 'Ġcolors': 36, 'Ġcolored': 35, 'color': 35, 'ĠColor': 33}\n",
      "Ġmaximum {'Ġmaximum': 40, 'maximum': 38, 'Ġmax': 36, 'Maximum': 35, 'max': 35, 'ĠMaximum': 34}\n",
      "ĠCost {'Ġcosts': 41, 'Ġcost': 39, 'cost': 39, 'Cost': 35, 'ĠCosts': 35, 'ĠCost': 33}\n",
      "ĠBLACK {'Ġcolor': 39, 'Ġcolour': 36, 'Ġcolored': 36, 'color': 35, 'Ġcolors': 35, 'ĠColor': 33}\n",
      "ĠValues {'Ġvalues': 40, 'Ġvalue': 39, 'value': 37, 'values': 36, 'ĠValues': 35, 'ĠValue': 33}\n",
      "Ġvalues {'Ġvalue': 40, 'Ġvalues': 40, 'value': 38, 'values': 35, 'ĠValues': 34, 'ĠValue': 33}\n",
      "ĠLen {'Ġlength': 42, 'length': 39, 'Length': 39, 'ĠLength': 38, 'Ġlengths': 36, 'Ġlonger': 30}\n",
      "colour {'Ġcolor': 39, 'Ġcolors': 37, 'Ġcolour': 36, 'Ġcolored': 35, 'color': 34, 'Ġcolours': 33}\n",
      "Ġcolour {'Ġcolor': 39, 'Ġcolors': 37, 'Ġcolour': 36, 'color': 34, 'Ġcolored': 34, 'Ġcolours': 33}\n",
      "ĠPosition {'Ġposition': 42, 'ĠPosition': 40, 'Position': 39, 'Ġpositions': 38, 'position': 38, 'Ġpositioning': 33}\n",
      "ĠOld {'Ġage': 42, 'Ġaged': 37, 'ĠAge': 35, 'Age': 35, 'Ġages': 35, 'Ġolder': 33}\n",
      "Position {'Ġposition': 41, 'ĠPosition': 41, 'Position': 39, 'Ġpositions': 38, 'position': 38, 'Ġpositioning': 33}\n",
      "Ġtypes {'Ġtypes': 38, 'Ġtype': 37, 'ĠType': 35, 'ĠTypes': 34, 'types': 34, 'type': 33}\n",
      "Ġbroad {'Ġnarrower': 38, 'Ġnarrow': 37, 'Ġwider': 35, 'Ġwidth': 34, 'Ġbroad': 34, 'Ġbroader': 33}\n",
      "Ġshorten {'Ġshorter': 38, 'Ġlength': 38, 'length': 36, 'Ġlengths': 35, 'Ġlonger': 35, 'ĠLength': 33}\n",
      "heavy {'Ġweight': 38, 'weight': 36, 'Ġheavier': 36, 'Ġweights': 35, 'Weight': 33, 'Ġweigh': 33}\n",
      "Ġlocations {'Ġlocation': 41, 'ĠLocation': 39, 'Ġlocations': 39, 'location': 39, 'Location': 39, 'ĠLocations': 36}\n",
      "Rate {'Ġrate': 41, 'Rate': 39, 'rate': 39, 'ĠRate': 38, 'Ġrates': 38, 'rates': 35}\n",
      "ĠWide {'Ġwider': 37, 'Ġnarrower': 37, 'Ġwidth': 36, 'Ġwide': 35, 'Ġnarrow': 34, 'Ġwidest': 33}\n",
      "Ġyellow {'Ġcolor': 39, 'Ġcolour': 37, 'color': 34, 'Ġcolors': 34, 'Ġcolored': 34, 'Ġcoloured': 32}\n",
      "Ġweaker {'Ġstronger': 38, 'Ġstrength': 37, 'Ġweaker': 37, 'strength': 36, 'Ġweakest': 32, 'Ġstrengths': 32}\n",
      "ĠStrong {'Ġstrength': 36, 'strength': 36, 'Ġstronger': 35, 'weak': 34, 'Ġweaker': 33, 'Ġstrong': 33}\n",
      "colored {'Ġcolor': 38, 'Ġcolors': 36, 'Ġcolour': 35, 'Ġcolored': 35, 'color': 34, 'Ġcolours': 33}\n",
      "cost {'Ġcosts': 41, 'Ġcost': 39, 'cost': 39, 'Cost': 35, 'ĠCosts': 34, 'ĠCost': 32}\n",
      "Ġaged {'Ġage': 40, 'Ġaged': 39, 'Ġages': 37, 'Ġaging': 33, 'Age': 33, 'ĠAge': 33}\n",
      "ĠNegative {'Ġpositive': 40, 'Ġnegative': 38, 'positive': 36, 'ĠPositive': 35, 'negative': 35, 'ĠNegative': 33}\n",
      "Ġweakest {'Ġweaker': 37, 'Ġstrength': 37, 'Ġstronger': 35, 'strength': 35, 'Ġweakest': 35, 'Ġstrengths': 33}\n",
      "fast {'Ġspeed': 38, 'Ġslower': 36, 'Ġslow': 35, 'Ġspeeds': 34, 'Speed': 33, 'speed': 33}\n",
      "ĠTiny {'Ġsizes': 38, 'Ġsize': 38, 'Ġsized': 36, 'ĠSize': 35, 'size': 34, 'sized': 33}\n",
      "Ġpink {'Ġcolor': 39, 'Ġcolour': 36, 'color': 35, 'Ġcolors': 34, 'Ġcolored': 34, 'Color': 33}\n",
      "Ġwiden {'Ġnarrower': 38, 'Ġwidened': 35, 'Ġnarrow': 34, 'Ġwidth': 34, 'Ġwiden': 34, 'Ġwider': 34}\n",
      "Ġnaming {'Ġname': 40, 'Ġnames': 38, 'Ġnaming': 35, 'name': 35, 'ĠNAME': 33, 'ĠName': 32}\n",
      "named {'Ġname': 41, 'Ġnames': 38, 'name': 35, 'Ġnaming': 33, 'ĠNAME': 33, 'Name': 32}\n",
      "Ġhighest {'Ġhighest': 40, 'Ġhigher': 38, 'highest': 37, 'higher': 35, 'Higher': 32, 'ĠHighest': 32}\n",
      "huge {'Ġsize': 38, 'Ġsizes': 36, 'Ġsized': 35, 'Ġsmaller': 34, 'size': 33, 'Ġlarger': 33}\n",
      "Ġslows {'Ġspeed': 38, 'speed': 36, 'Ġslower': 36, 'Ġspeeds': 35, 'Speed': 32, 'ĠSpeed': 32}\n",
      "%; {'Ġpercentage': 39, 'Ġpercentages': 38, 'percent': 37, 'Ġpercent': 36, 'ĠPercentage': 35, 'ĠPercent': 33}\n",
      "ĠSlow {'Ġspeed': 38, 'Ġslower': 36, 'Ġspeeds': 35, 'speed': 34, 'Ġslow': 34, 'Ġfaster': 32}\n",
      "%% {'Ġpercentage': 38, 'percent': 37, 'Ġpercentages': 37, 'Ġpercent': 35, 'ĠPercentage': 34, 'Percent': 33}\n",
      "Ġgreen {'Ġcolor': 38, 'Ġcolour': 36, 'Ġcolors': 34, 'Ġcolored': 34, 'color': 33, 'Ġcolours': 32}\n",
      "Ġpurple {'Ġcolor': 38, 'Ġcolour': 36, 'Ġcolors': 35, 'color': 34, 'Ġcolored': 33, 'ĠColor': 32}\n",
      "type {'Ġtype': 36, 'Ġtypes': 35, 'type': 35, 'ĠType': 35, 'types': 33, 'ĠTypes': 33}\n",
      "Ġdeep {'Ġdepth': 39, 'depth': 38, 'Ġdeeper': 36, 'Ġdepths': 35, 'ĠDepth': 34, 'Depth': 33}\n",
      "ĠCosts {'Ġcosts': 41, 'cost': 38, 'Ġcost': 37, 'Cost': 35, 'ĠCosts': 35, 'ĠCost': 32}\n",
      "big {'Ġsize': 38, 'Ġsizes': 38, 'Ġlarger': 34, 'ĠSize': 33, 'Ġsmaller': 33, 'Ġsized': 33}\n",
      "ĠBlue {'Ġcolor': 38, 'Ġcolors': 37, 'Ġcolour': 35, 'color': 33, 'Ġcolours': 33, 'Ġcolored': 32}\n",
      "ĠPositive {'Ġpositive': 39, 'positive': 37, 'ĠPositive': 36, 'Ġnegative': 35, 'negative': 33, 'Ġpositives': 32}\n",
      "Ġcoloured {'Ġcolor': 37, 'Ġcolors': 35, 'Ġcolored': 35, 'Ġcolour': 35, 'color': 33, 'Ġcoloured': 32}\n",
      "Ġnarrower {'Ġnarrower': 38, 'Ġwidth': 37, 'Ġwider': 35, 'Ġnarrow': 34, 'width': 33, 'ĠWidth': 32}\n",
      "Ġdimensional {'Ġdimension': 41, 'Ġdimensions': 38, 'Ġdimensional': 36, 'dimension': 35, 'ĠDimension': 34, 'ĠDimensions': 33}\n",
      "Ġstrengths {'Ġstrength': 40, 'Ġstrengths': 38, 'strength': 38, 'ĠStrength': 34, 'Strength': 34, 'Ġstronger': 31}\n",
      "Ġlowest {'Ġhigher': 38, 'Ġhighest': 37, 'Ġlowest': 35, 'higher': 35, 'highest': 34, 'Ġlow': 31}\n",
      "ĠRed {'Ġcolor': 38, 'Ġcolour': 35, 'Ġcolors': 35, 'color': 33, 'Ġcolours': 33, 'Ġcolored': 33}\n",
      "Ġcolours {'Ġcolor': 38, 'Ġcolors': 37, 'Ġcolour': 35, 'Ġcolours': 34, 'color': 33, 'Ġcolored': 33}\n",
      "%: {'percent': 38, 'Ġpercentage': 37, 'Ġpercentages': 37, 'Ġpercent': 35, 'ĠPercentage': 35, 'Percent': 33}\n",
      "Ġdeeper {'Ġdepth': 39, 'depth': 39, 'Ġdeeper': 37, 'ĠDepth': 36, 'Depth': 35, 'Ġdepths': 34}\n",
      "Ġstronger {'Ġstronger': 39, 'Ġweaker': 36, 'Ġstrength': 35, 'strength': 35, 'Ġstrongest': 31, 'Ġweakest': 31}\n",
      "power {'power': 40, 'Ġpower': 39, 'Power': 36, 'ĠPower': 35, 'ĠPOWER': 32, 'Ġpowers': 32}\n",
      "ĠDimensions {'Ġdimensions': 40, 'Ġdimension': 38, 'ĠDimensions': 36, 'ĠDimension': 35, 'dimension': 33, 'Ġdimensional': 33}\n",
      "Ġpace {'Ġspeed': 37, 'Ġslower': 36, 'speed': 35, 'Ġspeeds': 34, 'Ġslow': 33, 'Speed': 32}\n",
      "Ġyounger {'Ġage': 41, 'Ġages': 37, 'Ġaged': 35, 'ĠAge': 34, 'Ġolder': 32, 'Age': 32}\n",
      "%) {'Ġpercentage': 39, 'Ġpercentages': 38, 'percent': 36, 'ĠPercentage': 35, 'Ġpercent': 34, 'ĠPercent': 32}\n",
      "Ġvalue {'Ġvalue': 42, 'value': 39, 'ĠValue': 35, 'Ġvalues': 34, 'Value': 33, 'Ġvalued': 32}\n",
      "Strong {'Ġstrength': 35, 'Ġstronger': 35, 'strength': 35, 'Ġweaker': 33, 'Ġstrong': 33, 'weak': 33}\n",
      "ĠMaximum {'Ġmaximum': 39, 'maximum': 37, 'Ġmax': 35, 'Maximum': 35, 'max': 34, 'ĠMaximum': 33}\n",
      "Ġwide {'Ġwider': 37, 'Ġnarrower': 36, 'Ġwide': 35, 'Ġnarrow': 34, 'Ġwidth': 33, 'Ġwidest': 32}\n",
      "Wide {'Ġwider': 36, 'Ġnarrower': 36, 'Ġwidth': 35, 'Ġwide': 33, 'Ġwidest': 33, 'Ġnarrow': 33}\n",
      "Number {'Ġnumber': 37, 'Number': 36, 'number': 36, 'Ġnumbers': 36, 'ĠNumber': 35, 'ĠNUM': 31}\n",
      "%\" {'Ġpercentage': 38, 'Ġpercentages': 38, 'percent': 37, 'Ġpercent': 34, 'ĠPercentage': 34, 'Percent': 33}\n",
      "Ġslowing {'Ġspeed': 37, 'speed': 35, 'Ġslower': 35, 'Ġspeeds': 33, 'Ġslow': 33, 'slow': 32}\n",
      "ĠDimension {'Ġdimension': 39, 'Ġdimensions': 38, 'dimension': 35, 'ĠDimension': 34, 'ĠDimensions': 34, 'Ġdimensional': 33}\n",
      "Ġleveling {'Level': 38, 'Ġlevel': 37, 'level': 37, 'ĠLevel': 36, 'Ġlevels': 33, 'ĠLevels': 32}\n",
      "ength {'Ġlength': 42, 'length': 39, 'Ġlengths': 37, 'Length': 37, 'ĠLength': 35, 'Ġshorter': 32}\n",
      "Ġsizeof {'Ġsize': 38, 'Ġsizes': 36, 'size': 36, 'Size': 35, 'ĠSize': 35, 'Ġsized': 34}\n",
      "Cost {'Ġcosts': 40, 'Ġcost': 38, 'cost': 38, 'Cost': 35, 'ĠCosts': 34, 'ĠCost': 31}\n",
      "ĠHigh {'Ġhigher': 36, 'low': 34, 'higher': 33, 'Ġhigh': 33, 'Ġhighest': 33, 'Ġlow': 33}\n",
      "Ġaging {'Ġage': 40, 'Ġaged': 36, 'Ġages': 35, 'Ġaging': 34, 'Ġageing': 33, 'Age': 33}\n",
      "Power {'power': 40, 'Ġpower': 39, 'Power': 36, 'ĠPower': 36, 'ĠPOWER': 32, 'Ġpowers': 31}\n",
      "Ġnarrow {'Ġnarrower': 37, 'Ġnarrow': 36, 'Ġwidth': 36, 'Ġwider': 33, 'width': 32, 'Ġwidened': 32}\n",
      "location {'Ġlocation': 40, 'location': 40, 'ĠLocation': 39, 'Location': 38, 'Ġlocations': 33, 'ĠLocations': 32}\n",
      "Values {'Ġvalues': 40, 'Ġvalue': 37, 'values': 36, 'value': 35, 'ĠValues': 34, 'ĠValue': 31}\n",
      "Ġfrequency {'Ġfrequency': 47, 'frequency': 45, 'Ġfrequencies': 42, 'ĠFrequency': 40, 'ĠFrequ': 28, 'requency': 28}\n",
      "ĠShort {'Ġshorter': 37, 'Ġlonger': 35, 'Ġlength': 34, 'Ġlengths': 34, 'Ġshort': 33, 'short': 31}\n",
      "High {'Ġhigher': 35, 'low': 35, 'Ġlow': 33, 'high': 33, 'Ġhigh': 33, 'Ġhighest': 33}\n",
      "positive {'Ġpositive': 39, 'positive': 36, 'ĠPositive': 36, 'Ġnegative': 35, 'negative': 33, 'Ġpositives': 31}\n",
      "Ġweakness {'Ġstrength': 37, 'strength': 36, 'ĠStrength': 33, 'Ġstronger': 32, 'Ġstrengths': 32, 'Ġweak': 32}\n",
      "dimension {'Ġdimension': 41, 'Ġdimensions': 38, 'dimension': 35, 'Ġdimensional': 33, 'ĠDimension': 33, 'ĠDimensions': 32}\n",
      "%), {'Ġpercentages': 37, 'Ġpercentage': 37, 'percent': 36, 'ĠPercentage': 35, 'Ġpercent': 33, 'ĠPercent': 32}\n",
      "Ġfemale {'Ġgender': 37, 'Ġmale': 35, 'gender': 34, 'ĠGender': 32, 'Ġfemale': 32, 'Ġgenders': 32}\n",
      "Ġcoloring {'Ġcolor': 38, 'Ġcolors': 35, 'Ġcolour': 35, 'Ġcolored': 33, 'Ġcoloring': 32, 'color': 32}\n",
      "ĠPower {'power': 40, 'Ġpower': 39, 'Power': 36, 'ĠPower': 35, 'ĠPOWER': 31, 'Ġpowers': 31}\n",
      "Ġlower {'Ġhigher': 38, 'higher': 34, 'Ġlower': 34, 'Ġhighest': 34, 'Ġlow': 32, 'Ġlowest': 32}\n",
      "ĠColor {'Ġcolor': 37, 'Ġcolors': 35, 'Ġcolour': 34, 'color': 33, 'Ġcolored': 32, 'Ġcolours': 32}\n",
      "dimensional {'Ġdimension': 40, 'Ġdimensions': 36, 'Ġdimensional': 35, 'dimension': 34, 'ĠDimension': 33, 'dim': 32}\n",
      "maximum {'Ġmaximum': 39, 'maximum': 37, 'Ġmax': 35, 'Maximum': 33, 'ĠMaximum': 33, 'max': 33}\n",
      "Ġstrongest {'Ġstronger': 36, 'Ġweaker': 35, 'Ġstrength': 34, 'Ġstrongest': 33, 'strength': 33, 'Ġweakest': 32}\n",
      "Ġlighter {'Ġheavier': 39, 'Ġweight': 35, 'Ġlighter': 33, 'Ġweights': 33, 'weight': 32, 'Ġheaviest': 31}\n",
      "Ġfrequent {'Ġfrequency': 41, 'frequency': 40, 'ĠFrequency': 38, 'Ġfrequencies': 35, 'Ġfrequent': 35, 'ĠFrequ': 31}\n",
      "ĠFemale {'Ġgender': 36, 'Ġmale': 34, 'gender': 34, 'Gender': 32, 'ĠGender': 32, 'male': 31}\n",
      "short {'Ġshorter': 37, 'Ġlonger': 35, 'Ġlength': 33, 'Ġshort': 33, 'Ġlengths': 32, 'short': 32}\n",
      "Ġdimension {'Ġdimension': 40, 'Ġdimensions': 38, 'ĠDimension': 35, 'ĠDimensions': 34, 'dimension': 34, 'Ġdimensional': 32}\n",
      "Ġages {'Ġage': 41, 'Ġages': 39, 'ĠAge': 35, 'Age': 33, 'Ġaged': 33, 'ĠAges': 30}\n",
      "strength {'Ġstrength': 41, 'strength': 38, 'Ġstrengths': 35, 'ĠStrength': 34, 'Strength': 34, 'Ġstronger': 30}\n",
      "name {'Ġname': 39, 'Ġnames': 36, 'name': 35, 'ĠNAME': 33, 'Name': 31, 'ĠName': 31}\n",
      "brown {'Ġcolor': 36, 'Ġcolour': 35, 'Ġcolored': 33, 'color': 33, 'Ġcolors': 32, 'ĠColour': 31}\n",
      "blue {'Ġcolor': 37, 'Ġcolors': 35, 'Ġcolour': 34, 'Ġcolours': 32, 'color': 32, 'Ġcolored': 32}\n",
      "Ġ\"% {'percent': 37, 'Ġpercentage': 36, 'Ġpercent': 36, 'Ġpercentages': 34, 'ĠPercentage': 33, 'ĠPercent': 32}\n",
      "Len {'Ġlength': 40, 'length': 37, 'ĠLength': 36, 'Length': 36, 'Ġlengths': 36, 'Ġlonger': 30}\n",
      "Ġmax {'Ġmaximum': 37, 'maximum': 36, 'Ġmax': 35, 'max': 34, 'Maximum': 34, 'ĠMaximum': 32}\n",
      "gray {'Ġcolor': 37, 'Ġcolour': 34, 'Ġcolored': 34, 'color': 34, 'Ġcolors': 33, 'Ġcoloured': 31}\n",
      "Maximum {'Ġmaximum': 38, 'maximum': 36, 'Ġmax': 35, 'max': 34, 'Maximum': 33, 'ĠMaximum': 32}\n",
      "Ġshortened {'Ġshorter': 35, 'Ġlength': 35, 'Ġlengths': 34, 'length': 33, 'Ġshortened': 32, 'Ġlonger': 31}\n",
      "Ġquicker {'Ġslower': 40, 'Ġslow': 36, 'Ġfaster': 34, 'Ġspeed': 32, 'slow': 31, 'Ġquicker': 31}\n",
      "Location {'Ġlocation': 38, 'ĠLocation': 38, 'location': 38, 'Location': 37, 'Ġlocations': 34, 'ĠLocations': 32}\n",
      "Ġageing {'Ġage': 39, 'Ġaged': 35, 'Ġages': 34, 'Ġaging': 33, 'Age': 32, 'Ġageing': 32}\n",
      "Ġlengthy {'Ġshorter': 37, 'Ġlonger': 36, 'Ġlength': 36, 'Ġlengthy': 32, 'length': 31, 'Ġlengths': 30}\n",
      "Ġenlarged {'Ġsizes': 37, 'Ġsize': 36, 'Ġsized': 35, 'ĠSize': 33, 'size': 31, 'sized': 31}\n",
      "Ġyouthful {'Ġage': 40, 'Ġaged': 36, 'Ġages': 35, 'Ġaging': 32, 'ĠAge': 31, 'Age': 31}\n",
      "highest {'Ġhighest': 38, 'highest': 36, 'Ġhigher': 35, 'higher': 34, 'ĠHighest': 32, 'Higher': 31}\n",
      "ĠNamed {'Ġname': 37, 'Ġnames': 37, 'name': 33, 'Ġnaming': 32, 'Name': 32, 'Ġnamed': 30}\n",
      "Ġbroaden {'Ġnarrower': 37, 'Ġnarrow': 33, 'Ġwider': 32, 'Ġwidened': 32, 'Ġwidth': 32, 'Ġwiden': 32}\n",
      "color {'Ġcolor': 38, 'Ġcolors': 34, 'Ġcolour': 34, 'color': 33, 'Ġcolored': 31, 'Color': 31}\n",
      "Deep {'depth': 37, 'Ġdepth': 36, 'Ġdeeper': 34, 'ĠDepth': 33, 'Depth': 33, 'Ġdepths': 33}\n",
      "Name {'Ġname': 37, 'name': 36, 'Ġnames': 35, 'ĠNAME': 32, 'Name': 31, 'names': 31}\n",
      "Ġslowly {'Ġslower': 37, 'Ġslow': 35, 'Ġspeed': 34, 'Slow': 32, 'speed': 31, 'Ġspeeds': 31}\n",
      "Ġolder {'Ġage': 39, 'Ġages': 34, 'ĠAge': 33, 'Ġolder': 32, 'Ġaged': 32, 'Age': 32}\n",
      "Slow {'Ġspeed': 36, 'Ġslower': 34, 'speed': 33, 'Ġspeeds': 33, 'Ġslow': 32, 'ĠSpeed': 30}\n",
      "yellow {'Ġcolor': 36, 'Ġcolour': 35, 'Ġcolored': 33, 'color': 33, 'Ġcolors': 32, 'Ġcoloured': 31}\n",
      "ĠTime {'Ġtime': 35, 'Time': 34, 'time': 34, 'ĠTime': 34, 'Ġtimes': 31, 'TIME': 31}\n",
      "ĠValue {'Ġvalue': 40, 'value': 38, 'ĠValue': 33, 'Ġvalues': 32, 'Value': 32, 'Ġvalued': 31}\n",
      "Ġshortest {'Ġshorter': 38, 'Ġlength': 34, 'Ġshortest': 34, 'Ġlengths': 34, 'Ġlonger': 32, 'length': 31}\n",
      "Ġslowed {'Ġspeed': 36, 'speed': 34, 'Ġspeeds': 33, 'Ġslower': 33, 'Speed': 31, 'ĠSpeed': 31}\n",
      "Ġenormous {'Ġsize': 36, 'Ġsized': 34, 'Ġsizes': 34, 'ĠSize': 32, 'Ġlarger': 31, 'size': 31}\n",
      "Big {'Ġsize': 35, 'Ġsizes': 35, 'Ġlarger': 33, 'Ġsmaller': 32, 'Ġbigger': 32, 'Ġsized': 31}\n",
      "Ġsizeable {'Ġsizes': 35, 'Ġsize': 34, 'Ġsized': 33, 'ĠSize': 32, 'Size': 32, 'Ġlarger': 32}\n",
      "values {'Ġvalues': 37, 'Ġvalue': 37, 'value': 35, 'values': 33, 'ĠValue': 31, 'ĠValues': 31}\n",
      "Ġpositioning {'Ġposition': 38, 'ĠPosition': 37, 'Ġpositioning': 36, 'position': 35, 'Position': 35, 'Ġpositions': 33}\n",
      "ĠTypes {'Ġtypes': 35, 'ĠType': 33, 'Ġtype': 33, 'types': 33, 'ĠTypes': 32, 'Type': 31}\n",
      "ĠYoung {'Ġage': 40, 'Ġaged': 35, 'Ġages': 34, 'ĠAge': 32, 'Age': 31, 'Ġaging': 31}\n",
      "white {'Ġcolor': 37, 'Ġcolored': 33, 'Ġcolour': 33, 'color': 33, 'Ġcolors': 32, 'ĠColor': 32}\n",
      "ĠHIGH {'Ġhigher': 35, 'low': 33, 'Ġhighest': 32, 'Ġlow': 32, 'higher': 32, 'Ġhigh': 32}\n",
      "Blue {'Ġcolor': 36, 'Ġcolors': 35, 'Ġcolour': 34, 'Ġcolours': 32, 'color': 32, 'ĠColor': 31}\n",
      "ĠWhite {'Ġcolor': 38, 'Ġcolour': 34, 'Ġcolored': 33, 'color': 33, 'ĠColor': 32, 'Ġcolors': 32}\n",
      "Ġcheap {'Ġexpensive': 33, 'Ġinexpensive': 32, 'Ġcheaply': 32, 'expensive': 32, 'cost': 32, 'Ġcheap': 32}\n",
      "ĠLow {'Ġlow': 35, 'low': 35, 'Ġhigher': 34, 'Ġhighest': 31, 'Low': 31, 'Ġhigh': 31}\n",
      "Ġsafety {'Ġsafe': 35, 'Ġsafety': 34, 'safe': 34, 'safety': 32, 'Ġunsafe': 32, 'Safe': 30}\n",
      "Young {'Ġage': 40, 'Ġaged': 35, 'Ġages': 34, 'ĠAge': 32, 'Age': 31, 'Ġolder': 30}\n",
      "time {'Ġtime': 35, 'time': 34, 'Time': 33, 'ĠTime': 33, 'Ġtimes': 33, 'Ġtim': 31}\n",
      "total {'Ġtotal': 39, 'total': 38, 'Ġtotals': 36, 'Total': 35, 'ĠTotal': 34, 'ĠTOTAL': 34}\n",
      "ĠFrequency {'Ġfrequency': 44, 'frequency': 44, 'Ġfrequencies': 40, 'ĠFrequency': 38, 'ĠFrequ': 27, 'requency': 27}\n",
      "Ġfrequencies {'Ġfrequency': 45, 'frequency': 43, 'Ġfrequencies': 42, 'ĠFrequency': 38, 'requency': 27, 'ĠFrequ': 27}\n",
      "Ġtime {'Ġtime': 35, 'time': 34, 'Ġtimes': 33, 'Time': 33, 'ĠTime': 33, 'TIME': 30}\n",
      "Ġlow {'Ġlow': 36, 'low': 35, 'Ġhigher': 34, 'Low': 31, 'Ġhigh': 31, 'higher': 30}\n",
      "Ġsizable {'Ġsizes': 36, 'Ġsize': 34, 'Ġsized': 33, 'Ġlarger': 32, 'ĠSize': 32, 'size': 30}\n",
      "ĠDeep {'depth': 37, 'Ġdepth': 37, 'Ġdeeper': 34, 'ĠDepth': 33, 'Depth': 33, 'Ġdepths': 32}\n",
      "high {'Ġhigher': 34, 'low': 33, 'Ġlow': 33, 'Ġhighest': 32, 'Ġhigh': 32, 'higher': 32}\n",
      "Ġsafe {'Ġsafe': 36, 'safe': 36, 'Ġunsafe': 32, 'Safe': 32, 'ĠSafe': 31, 'Ġsafer': 30}\n",
      "Short {'Ġshorter': 36, 'Ġlonger': 34, 'Ġlength': 34, 'Ġlengths': 33, 'Ġshort': 31, 'short': 30}\n",
      "Ġ(% {'Ġpercentage': 36, 'Ġpercentages': 35, 'percent': 35, 'Ġpercent': 34, 'ĠPercentage': 32, 'Percent': 30}\n",
      "deep {'depth': 36, 'Ġdepth': 36, 'Ġdeeper': 34, 'ĠDepth': 33, 'Depth': 32, 'Ġdepths': 31}\n",
      "requent {'Ġfrequency': 41, 'frequency': 39, 'ĠFrequency': 38, 'Ġfrequencies': 35, 'Ġfrequent': 32, 'ĠFrequ': 31}\n",
      "Ġoverweight {'Ġweight': 37, 'weight': 36, 'Weight': 33, 'Ġweights': 31, 'ĠWeight': 31, 'weights': 30}\n",
      "Ġfemales {'Ġgender': 35, 'Ġmale': 34, 'gender': 32, 'Ġmales': 31, 'Ġgenders': 31, 'Ġfemale': 31}\n",
      "Ġvelocity {'Ġspeed': 37, 'speed': 36, 'Speed': 33, 'Ġspeeds': 32, 'Ġslower': 31, 'ĠSpeed': 31}\n",
      "Ġshallow {'Ġdepth': 38, 'depth': 37, 'Ġdepths': 34, 'ĠDepth': 33, 'Ġdeeper': 33, 'Depth': 32}\n",
      "ĠHighest {'Ġhighest': 37, 'highest': 36, 'Ġhigher': 34, 'higher': 32, 'ĠHighest': 31, 'Higher': 30}\n",
      "Ġspeedy {'Ġspeed': 35, 'Ġslower': 34, 'speed': 34, 'Ġslow': 32, 'Ġspeedy': 30, 'Speed': 30}\n",
      "broad {'Ġnarrower': 36, 'Ġnarrow': 34, 'Ġbroad': 33, 'Ġwider': 31, 'Ġwidth': 31, 'Ġbroader': 31}\n",
      "Value {'Ġvalue': 39, 'value': 37, 'Ġvalues': 32, 'ĠValue': 32, 'Value': 30, 'Ġvalued': 30}\n",
      "Ġprice {'Ġprice': 36, 'price': 35, 'Ġpriced': 32, 'Ġprices': 31, 'Ġcost': 30, 'Price': 30}\n",
      "ĠName {'Ġname': 36, 'name': 35, 'Ġnames': 35, 'Name': 31, 'ĠNAME': 31, 'ĠName': 30}\n",
      "Ġ(%) {'Ġpercentages': 36, 'Ġpercentage': 36, 'percent': 34, 'ĠPercentage': 33, 'Ġpercent': 32, 'ĠPercent': 32}\n",
      "Ġfrequ {'Ġfrequency': 41, 'frequency': 41, 'Ġfrequencies': 37, 'ĠFrequency': 37, 'Ġfrequ': 32, 'ĠFrequ': 28}\n",
      "grey {'Ġcolor': 36, 'Ġcolored': 33, 'color': 33, 'Ġcolour': 33, 'Ġcolors': 32, 'Color': 30}\n",
      "Type {'Ġtype': 33, 'Ġtypes': 33, 'type': 32, 'ĠType': 32, 'types': 31, 'Type': 31}\n",
      "Ġinexpensive {'Ġcosts': 34, 'cost': 32, 'Ġexpensive': 32, 'Ġcostly': 32, 'Ġcost': 32, 'expensive': 31}\n",
      "Ġlen {'Ġlength': 40, 'length': 36, 'Ġlengths': 35, 'Length': 35, 'ĠLength': 35, 'len': 28}\n",
      "Price {'Ġprice': 36, 'price': 35, 'Ġprices': 32, 'Price': 32, 'Ġpriced': 31, 'Ġpricing': 31}\n",
      "ĠNumbers {'Ġnumbers': 38, 'Numbers': 33, 'Number': 33, 'number': 32, 'Ġnumber': 32, 'ĠNumbers': 31}\n",
      "ĠLocations {'Ġlocation': 37, 'location': 36, 'Ġlocations': 36, 'Location': 35, 'ĠLocation': 35, 'ĠLocations': 33}\n",
      "requency {'Ġfrequency': 44, 'frequency': 43, 'Ġfrequencies': 40, 'ĠFrequency': 38, 'requency': 28, 'ĠFrequ': 27}\n",
      "Color {'Ġcolor': 35, 'Ġcolors': 34, 'Ġcolour': 33, 'color': 31, 'Ġcolours': 31, 'Color': 30}\n",
      "ĠType {'Ġtype': 34, 'ĠType': 33, 'Ġtypes': 33, 'type': 32, 'ĠTYPE': 31, 'Type': 30}\n",
      "ĠSafe {'Ġsafe': 35, 'safe': 35, 'Safe': 33, 'Ġunsafe': 32, 'ĠSafe': 31, 'Ġsafety': 30}\n",
      "ĠPOWER {'power': 38, 'Ġpower': 36, 'Power': 34, 'ĠPower': 34, 'ĠPOWER': 30, 'powers': 29}\n",
      "Ġwidening {'Ġnarrower': 34, 'Ġwidened': 33, 'Ġwider': 32, 'Ġwiden': 32, 'Ġwidth': 31, 'Ġnarrow': 31}\n",
      "Safe {'safe': 35, 'Ġsafe': 35, 'Safe': 33, 'Ġunsafe': 32, 'ĠSafe': 31, 'safety': 30}\n",
      "ĠCheap {'cost': 33, 'Ġcost': 32, 'Ġcosts': 32, 'expensive': 31, 'Ġexpensive': 31, 'Ġinexpensive': 31}\n",
      "White {'Ġcolor': 37, 'Ġcolour': 33, 'Ġcolored': 32, 'color': 32, 'ĠColor': 31, 'Ġcolors': 31}\n",
      "ĠGreen {'Ġcolor': 36, 'Ġcolour': 34, 'Ġcolored': 33, 'Ġcolors': 32, 'color': 31, 'Ġcoloured': 30}\n",
      "Red {'Ġcolor': 35, 'Ġcolour': 33, 'Ġcolors': 33, 'Ġcolored': 31, 'Ġcolours': 31, 'color': 31}\n",
      "ĠYounger {'Ġage': 39, 'Ġages': 35, 'Ġaged': 33, 'ĠAge': 31, 'Age': 30, 'Ġolder': 30}\n",
      "ĠRED {'Ġcolor': 35, 'Ġcolored': 33, 'Ġcolour': 33, 'Ġcolors': 32, 'color': 31, 'Ġcoloured': 30}\n",
      "Ġquick {'Ġslower': 37, 'Ġslow': 36, 'slow': 32, 'ĠSlow': 30, 'Ġfaster': 30, 'Slow': 29}\n",
      "value {'Ġvalue': 39, 'value': 37, 'ĠValue': 32, 'Ġvalues': 32, 'Value': 31, 'Ġvalued': 29}\n",
      "Ġrange {'Ġrange': 42, 'Ġranges': 41, 'range': 39, 'ĠRange': 37, 'Range': 37, 'Ġranged': 25}\n",
      "Strength {'Ġstrength': 38, 'strength': 37, 'Ġstrengths': 34, 'Strength': 33, 'ĠStrength': 33, 'Ġstronger': 28}\n",
      "Ġduration {'Ġduration': 40, 'duration': 37, 'ĠDuration': 36, 'Duration': 35, 'Ġlonger': 33, 'Ġshorter': 27}\n",
      "Ġwidened {'Ġnarrower': 34, 'Ġwidened': 33, 'Ġwider': 33, 'Ġwiden': 32, 'Ġnarrow': 31, 'Ġwidth': 30}\n",
      "Ġwidth {'Ġwidth': 38, 'width': 34, 'ĠWidth': 32, 'Ġnarrower': 32, 'Ġwider': 31, 'Width': 30}\n",
      "Types {'Ġtypes': 34, 'Ġtype': 33, 'ĠType': 32, 'types': 31, 'ĠTypes': 31, 'type': 31}\n",
      "Ġnegatively {'Ġpositive': 38, 'Ġnegative': 35, 'positive': 33, 'ĠPositive': 32, 'Ġpositives': 31, 'negative': 30}\n",
      "Ġwarmer {'Ġtemperature': 36, 'Ġcolder': 34, 'Ġtemperatures': 34, 'ĠTemperature': 32, 'Ġwarmer': 32, 'Temperature': 29}\n",
      "Ġwidest {'Ġnarrower': 35, 'Ġwidest': 34, 'Ġwidth': 34, 'Ġwider': 33, 'width': 31, 'Ġnarrow': 30}\n",
      "Ġfew {'Ġnumber': 39, 'number': 35, 'Number': 34, 'ĠNumber': 32, 'Ġnumbers': 32, 'Ġfewer': 30}\n",
      "%). {'Ġpercentage': 36, 'Ġpercentages': 35, 'percent': 35, 'ĠPercentage': 33, 'Ġpercent': 32, 'Percent': 31}\n",
      "ĠRapid {'Ġslower': 35, 'Ġslow': 33, 'Ġspeed': 32, 'Slow': 32, 'ĠSlow': 31, 'slow': 31}\n",
      "Ġorange {'Ġcolor': 35, 'Ġcolour': 34, 'Ġcolored': 33, 'Ġcolors': 31, 'color': 31, 'Ġcoloured': 30}\n",
      "Ġpowers {'Ġpower': 36, 'power': 35, 'Ġpowers': 33, 'Power': 32, 'ĠPower': 32, 'powers': 31}\n",
      "imensional {'Ġdimension': 38, 'Ġdimensional': 34, 'Ġdimensions': 34, 'dimension': 31, 'dimensional': 31, 'ĠDimension': 30}\n",
      "Ġcheaply {'cost': 32, 'Ġcost': 32, 'Ġcosts': 31, 'Ġcheaply': 31, 'Ġexpensive': 31, 'Ġcostly': 31}\n",
      "Ġexpensive {'Ġcosts': 35, 'Ġcost': 34, 'cost': 32, 'Ġexpensive': 32, 'Ġinexpensive': 30, 'Ġcostly': 30}\n",
      "ĠStrength {'Ġstrength': 38, 'strength': 36, 'Ġstrengths': 34, 'ĠStrength': 34, 'Strength': 33, 'Ġstronger': 29}\n",
      "peed {'Ġspeed': 36, 'speed': 34, 'Speed': 32, 'Ġspeeds': 32, 'ĠSpeed': 32, 'Ġslower': 31}\n",
      "Ġnegatives {'Ġpositive': 36, 'positive': 33, 'Ġnegative': 33, 'Ġpositives': 33, 'negative': 31, 'Ġnegatives': 30}\n",
      "old {'Ġage': 39, 'Ġaged': 34, 'Ġages': 32, 'Age': 32, 'Ġyounger': 31, 'ĠAge': 31}\n",
      "Time {'Ġtime': 34, 'Time': 33, 'time': 33, 'ĠTime': 32, 'TIME': 31, 'ĠTIME': 30}\n",
      "ĠOlder {'Ġage': 38, 'Ġages': 33, 'Age': 32, 'ĠAge': 31, 'Ġaged': 31, 'Ġolder': 31}\n",
      "Ġleng {'Ġlength': 36, 'Ġlengths': 33, 'length': 33, 'Length': 31, 'Ġshorter': 31, 'Ġleng': 31}\n",
      "Ġelderly {'Ġage': 38, 'Ġaged': 34, 'Ġages': 32, 'Ġaging': 31, 'Age': 30, 'ĠAge': 30}\n",
      "Ġindex {'Ġindex': 43, 'index': 40, 'Ġindexes': 39, 'ĠIndex': 37, 'Index': 37, 'Ġindices': 37}\n",
      "ĠPurple {'Ġcolor': 35, 'Ġcolour': 33, 'Ġcolors': 32, 'Ġcolored': 31, 'color': 30, 'Ġcolours': 30}\n",
      "Ġweakening {'Ġstrength': 35, 'strength': 34, 'Ġstronger': 32, 'Ġweaker': 32, 'ĠStrength': 30, 'Ġweakened': 30}\n",
      "ĠWidth {'Ġwidth': 38, 'width': 36, 'ĠWidth': 33, 'Width': 33, 'Ġnarrower': 31, 'Ġwider': 29}\n",
      "direction {'Ġdirection': 41, 'Ġdirections': 39, 'direction': 37, 'ĠDirection': 35, 'ĠDirections': 29, 'Ġdirectional': 29}\n",
      "Ġdirection {'Ġdirection': 42, 'Ġdirections': 40, 'direction': 37, 'ĠDirection': 35, 'Ġdirectional': 29, 'ĠDirections': 28}\n",
      "Ġmany {'Ġnumber': 39, 'number': 36, 'Number': 33, 'ĠNumber': 32, 'Ġnumbers': 30, 'ĠNUM': 29}\n",
      "Ġexpenses {'Ġcosts': 38, 'cost': 35, 'Ġcost': 33, 'ĠCosts': 31, 'Cost': 30, 'Ġexpenses': 30}\n",
      "Ġindices {'index': 40, 'Ġindex': 40, 'Ġindices': 38, 'Ġindexes': 38, 'Index': 37, 'ĠIndex': 37}\n",
      "Female {'Ġgender': 34, 'Ġmale': 32, 'gender': 32, 'Gender': 30, 'ĠGender': 30, 'male': 30}\n",
      "Ġspeeding {'Ġspeed': 36, 'speed': 34, 'Ġspeeds': 33, 'ĠSpeed': 32, 'Speed': 31, 'Ġslower': 30}\n",
      "Ġcostly {'Ġcosts': 35, 'Ġcost': 34, 'cost': 33, 'Ġcostly': 30, 'Ġexpensive': 30, 'Cost': 30}\n",
      "ĠWHITE {'Ġcolor': 36, 'Ġcolour': 32, 'Ġcolored': 32, 'color': 32, 'Ġcolors': 30, 'ĠColor': 30}\n",
      "safety {'Ġsafety': 34, 'Ġsafe': 33, 'safe': 33, 'safety': 32, 'Ġunsafe': 30, 'Safety': 29}\n",
      "Ġtotal {'Ġtotal': 39, 'total': 37, 'Ġtotals': 34, 'Total': 34, 'ĠTotal': 33, 'ĠTOTAL': 32}\n",
      "Ġcount {'Ġcount': 37, 'Ġcounts': 36, 'Ġcounting': 32, 'count': 31, 'Ġcounted': 31, 'Count': 30}\n",
      "ĠNames {'Ġnames': 37, 'Ġname': 34, 'names': 31, 'name': 31, 'ĠNames': 29, 'Ġnaming': 29}\n",
      "types {'Ġtypes': 34, 'Ġtype': 33, 'types': 32, 'ĠTypes': 31, 'ĠType': 31, 'type': 30}\n",
      "Ġweaken {'Ġstrength': 35, 'strength': 34, 'Ġstronger': 32, 'Ġweaker': 31, 'ĠStrength': 30, 'Strength': 29}\n",
      "Yellow {'Ġcolor': 34, 'Ġcolour': 33, 'Ġcolored': 31, 'Ġcolors': 31, 'color': 30, 'Ġcolours': 29}\n",
      "frequency {'Ġfrequency': 44, 'frequency': 42, 'Ġfrequencies': 39, 'ĠFrequency': 37, 'ĠFrequ': 26, 'requency': 26}\n",
      "ĠCount {'Ġcount': 36, 'Ġcounts': 35, 'count': 32, 'Ġcounting': 31, 'Count': 30, 'Ġcounted': 29}\n",
      "Low {'Ġlow': 34, 'low': 34, 'Ġhigher': 32, 'Ġhighest': 31, 'Low': 30, 'Ġlowest': 29}\n",
      "ĠPrices {'Ġprice': 33, 'Ġprices': 33, 'price': 33, 'Ġpriced': 31, 'Price': 30, 'Ġpricing': 30}\n",
      "Ġshaped {'Ġshape': 40, 'shape': 36, 'Ġshapes': 35, 'Ġshaped': 33, 'ĠShape': 33, 'Shape': 31}\n",
      "Ġyoungest {'Ġage': 38, 'Ġages': 34, 'ĠAge': 31, 'Ġaged': 31, 'Age': 30, 'Ġolder': 30}\n",
      "Ġmale {'Ġgender': 34, 'Ġmale': 33, 'gender': 31, 'Ġgenders': 30, 'Ġmales': 30, 'Ġfemale': 29}\n",
      "Ġhefty {'Ġweight': 36, 'weight': 33, 'Ġweights': 32, 'Ġheavier': 31, 'Weight': 30, 'ĠWeight': 29}\n",
      "ĠYellow {'Ġcolor': 34, 'Ġcolour': 33, 'Ġcolors': 31, 'Ġcolored': 31, 'color': 30, 'Ġcolours': 29}\n",
      "Ġweakened {'Ġstrength': 34, 'strength': 34, 'Ġstronger': 31, 'Ġweaker': 31, 'Ġweakened': 30, 'ĠStrength': 30}\n",
      "Ġbalance {'balance': 36, 'Ġbalance': 34, 'Balance': 33, 'ĠBalance': 31, 'Ġbalanced': 30, 'Ġbalances': 30}\n",
      "Ġprices {'Ġprice': 34, 'Ġprices': 33, 'Ġpriced': 32, 'price': 32, 'Ġpricing': 30, 'priced': 29}\n",
      "Ġheavyweight {'Ġweight': 34, 'weight': 33, 'Ġheavier': 32, 'Ġweights': 30, 'ĠWeight': 30, 'Ġweigh': 29}\n",
      "TIME {'Ġtime': 33, 'Time': 33, 'ĠTime': 32, 'time': 32, 'TIME': 31, 'ĠTIME': 30}\n",
      "expensive {'Ġcosts': 33, 'Ġexpensive': 32, 'cost': 31, 'Ġcost': 31, 'expensive': 31, 'Ġcostly': 30}\n",
      "ĠSlowly {'Ġslower': 34, 'Ġslow': 32, 'Ġspeed': 32, 'Slow': 31, 'Ġspeeds': 30, 'speed': 29}\n",
      "Ġwarm {'Ġtemperature': 36, 'ĠTemperature': 33, 'Ġtemperatures': 33, 'Ġcolder': 31, 'Ġwarmer': 29, 'Temperature': 29}\n",
      "max {'Ġmaximum': 35, 'maximum': 34, 'max': 32, 'Ġmax': 32, 'Maximum': 32, 'ĠMaximum': 30}\n",
      "Ġdistance {'Ġdistance': 41, 'Ġdistances': 38, 'distance': 37, 'ĠDistance': 36, 'Distance': 35, 'Ġdistant': 24}\n",
      "Ġshape {'Ġshape': 43, 'shape': 38, 'Ġshapes': 36, 'ĠShape': 34, 'Shape': 32, 'Ġshaped': 30}\n",
      "å¤§ {'Ġsize': 35, 'Ġsizes': 33, 'Ġsized': 33, 'size': 31, 'ĠSize': 30, 'Size': 29}\n",
      "umbers {'Ġnumbers': 36, 'Ġnumber': 33, 'Number': 32, 'number': 32, 'Numbers': 31, 'ĠNumber': 30}\n",
      "ĠMany {'Ġnumber': 38, 'number': 35, 'Number': 33, 'ĠNumber': 31, 'Ġfewer': 29, 'Ġnumbers': 29}\n",
      "Ġscale {'Ġscale': 42, 'Ġscales': 38, 'Scale': 36, 'scale': 36, 'ĠScale': 36, 'Ġscaling': 26}\n",
      "quick {'Ġslower': 35, 'Ġslow': 34, 'ĠSlow': 30, 'slow': 30, 'Slow': 29, 'Ġfaster': 29}\n",
      "Ġdelayed {'Ġdelayed': 35, 'Ġdelay': 34, 'delay': 32, 'Ġdelays': 31, 'Ġtiming': 30, 'ĠDelay': 30}\n",
      "Ġlimits {'Ġlimits': 36, 'Ġlimit': 32, 'limits': 32, 'ĠLimits': 31, 'limit': 31, 'Limit': 28}\n",
      "Ġlimit {'Ġlimits': 35, 'Ġlimit': 33, 'limits': 31, 'ĠLimits': 31, 'limit': 30, 'Limit': 28}\n",
      "ĠDirection {'Ġdirection': 42, 'Ġdirections': 39, 'direction': 37, 'ĠDirection': 35, 'ĠDirections': 29, 'Ġdirectional': 28}\n",
      "Ġdistances {'Ġdistances': 40, 'Ġdistance': 40, 'distance': 37, 'Distance': 35, 'ĠDistance': 35, 'Ġdistant': 23}\n",
      "Ġstrengthens {'Ġstrength': 34, 'strength': 33, 'Ġstronger': 32, 'ĠStrength': 30, 'Ġweaker': 30, 'Strength': 30}\n",
      "ĠDuration {'Ġduration': 39, 'duration': 36, 'Duration': 35, 'ĠDuration': 35, 'Ġlonger': 31, 'Ġtime': 26}\n",
      "price {'Ġprice': 34, 'price': 34, 'Ġprices': 30, 'Price': 30, 'Ġpriced': 30, 'Ġpricing': 29}\n",
      "female {'Ġgender': 33, 'Ġmale': 33, 'gender': 31, 'Ġfemale': 30, 'Ġmales': 29, 'male': 29}\n",
      "ĠPrice {'Ġprice': 33, 'price': 33, 'Ġprices': 30, 'Price': 30, 'Ġcost': 29, 'Ġpricing': 29}\n",
      "dated {'Ġdates': 33, 'Ġdate': 33, 'date': 33, 'Ġdated': 32, 'ĠDate': 30, 'dates': 30}\n",
      "ĠLimit {'Ġlimits': 34, 'limits': 32, 'Ġlimit': 32, 'ĠLimits': 31, 'limit': 31, 'Limit': 29}\n",
      "Enlarge {'Ġsize': 34, 'ĠSize': 32, 'size': 32, 'Ġsizes': 31, 'Ġsized': 31, 'Size': 30}\n",
      "ĠTOTAL {'total': 37, 'Ġtotal': 36, 'Total': 33, 'ĠTOTAL': 32, 'Ġtotals': 32, 'ĠTotal': 31}\n",
      "Ġfrequently {'Ġfrequency': 37, 'frequency': 36, 'ĠFrequency': 34, 'Ġfrequent': 33, 'Ġfrequencies': 32, 'ĠFrequ': 28}\n",
      "Ġday {'Ġday': 33, 'Ġdays': 32, 'day': 31, 'days': 31, 'Ġdate': 29, 'ĠDay': 29}\n",
      "Ġcolossal {'Ġsizes': 34, 'Ġsize': 33, 'Ġsized': 32, 'ĠSize': 30, 'size': 30, 'Size': 30}\n",
      "%] {'percent': 34, 'Ġpercentage': 33, 'Ġpercentages': 33, 'Ġpercent': 31, 'ĠPercentage': 30, 'Percent': 29}\n",
      "Ġdiameter {'Ġsizes': 34, 'Ġsize': 33, 'Ġdiameter': 31, 'ĠSize': 30, 'size': 30, 'Ġsized': 29}\n",
      "ĠBalance {'balance': 36, 'Ġbalance': 34, 'Balance': 32, 'ĠBalance': 31, 'Ġbalances': 31, 'balanced': 29}\n",
      "Ġpercentile {'percent': 34, 'Ġpercentages': 33, 'Ġpercentage': 32, 'Ġpercent': 31, 'ĠPercent': 31, 'Percent': 31}\n",
      "wide {'Ġwider': 34, 'Ġwide': 32, 'Ġnarrower': 31, 'Ġwidth': 30, 'Ġnarrow': 29, 'Ġbroader': 29}\n",
      "Ġhotter {'Ġtemperature': 36, 'ĠTemperature': 33, 'Ġtemperatures': 32, 'Temperature': 31, 'Ġcolder': 30, 'Ġhotter': 30}\n",
      "powers {'power': 34, 'Ġpower': 34, 'Power': 31, 'Ġpowers': 31, 'powers': 31, 'ĠPower': 30}\n",
      "Ġtimed {'Ġtimed': 35, 'Ġtiming': 33, 'tim': 32, 'Ġtim': 30, 'ĠTime': 29, 'time': 28}\n",
      "green {'Ġcolor': 34, 'Ġcolour': 32, 'Ġcolored': 30, 'Ġcolors': 30, 'color': 30, 'ĠColor': 28}\n",
      "safe {'safe': 33, 'Ġsafe': 33, 'Safe': 31, 'Ġunsafe': 30, 'ĠSafe': 29, 'Ġsafety': 29}\n",
      "idth {'Ġwidth': 36, 'width': 34, 'Ġnarrower': 31, 'ĠWidth': 30, 'Width': 30, 'Ġnarrow': 28}\n",
      "Ġslowdown {'Ġspeed': 33, 'Ġslower': 32, 'speed': 31, 'Ġslowed': 30, 'Ġfaster': 29, 'Ġslowdown': 29}\n",
      "Ġdelay {'Ġdelay': 35, 'Ġdelays': 32, 'delay': 32, 'Ġdelayed': 31, 'Ġtim': 30, 'Ġtiming': 30}\n",
      "ĠAging {'Ġage': 36, 'Ġages': 33, 'Ġaged': 32, 'Ġaging': 31, 'Age': 30, 'Ġageing': 30}\n",
      "Ġpositives {'Ġpositive': 35, 'Ġpositives': 33, 'positive': 32, 'ĠPositive': 32, 'Ġnegative': 30, 'negative': 29}\n",
      "Ġsafer {'safe': 33, 'Ġsafer': 33, 'Ġsafe': 33, 'Ġsafety': 30, 'safety': 29, 'Ġunsafe': 29}\n",
      "ĠGREEN {'Ġcolor': 35, 'Ġcolour': 33, 'Ġcolored': 32, 'Ġcolors': 30, 'Ġcoloured': 29, 'color': 29}\n",
      "Ġranked {'rank': 32, 'ranked': 32, 'Ġrank': 31, 'Ġranked': 31, 'Rank': 31, 'Ġranking': 30}\n",
      "Ġsafest {'Ġsafer': 32, 'Ġsafe': 32, 'safe': 31, 'Ġsafety': 30, 'Ġunsafe': 29, 'safety': 29}\n",
      "%); {'Ġpercentage': 34, 'Ġpercentages': 33, 'percent': 33, 'ĠPercentage': 31, 'Ġpercent': 31, 'ĠPercent': 29}\n",
      "Ġwomen {'Ġgender': 33, 'Ġmale': 32, 'gender': 30, 'Ġfemale': 30, 'male': 29, 'Ġmales': 29}\n",
      "Ġswiftly {'Ġslower': 36, 'Ġslow': 33, 'Ġspeed': 31, 'speed': 30, 'Slow': 28, 'ĠSlow': 28}\n",
      "Ġnarrowing {'Ġnarrower': 34, 'Ġnarrow': 32, 'Ġwidened': 31, 'Ġwiden': 30, 'Ġwider': 29, 'Ġnarrowed': 28}\n",
      "Names {'Ġnames': 36, 'Ġname': 34, 'name': 30, 'names': 29, 'Ġnaming': 29, 'ĠNAME': 28}\n",
      "ĠTotal {'Ġtotal': 37, 'total': 36, 'Total': 34, 'Ġtotals': 33, 'ĠTotal': 32, 'ĠTOTAL': 32}\n",
      "index {'Ġindex': 41, 'index': 40, 'Ġindexes': 37, 'Index': 36, 'ĠIndex': 35, 'Ġindices': 34}\n",
      "ĠIndex {'Ġindex': 40, 'index': 39, 'Ġindexes': 37, 'Index': 37, 'ĠIndex': 36, 'Ġindices': 35}\n",
      "Limit {'Ġlimits': 34, 'limits': 31, 'Ġlimit': 31, 'ĠLimits': 31, 'limit': 30, 'Limit': 28}\n",
      "Ġlongevity {'Ġlonger': 34, 'Ġlongest': 33, 'Ġlength': 31, 'Ġshorter': 31, 'Ġduration': 31, 'duration': 27}\n",
      "ĠWomen {'Ġgender': 33, 'gender': 31, 'Ġmale': 31, 'male': 29, 'Gender': 29, 'Ġgenders': 29}\n",
      "Ġmaximal {'Ġmaximum': 34, 'Ġmaximal': 32, 'Ġmax': 32, 'maximum': 31, 'max': 30, 'Maximum': 29}\n",
      "Ġoften {'Ġfrequency': 36, 'frequency': 34, 'Ġfrequent': 34, 'ĠFrequency': 33, 'Ġfrequencies': 29, 'ĠFrequ': 27}\n",
      "ĠFemales {'Ġgender': 33, 'Ġmale': 31, 'gender': 31, 'male': 29, 'Gender': 29, 'Ġmales': 29}\n",
      "Ġshrunk {'Ġsizes': 33, 'Ġsize': 32, 'ĠSize': 32, 'Size': 31, 'Ġsized': 31, 'size': 31}\n"
     ]
    },
    {
     "name": "stdout",
     "output_type": "stream",
     "text": [
      "ĠTYPE {'Ġtype': 32, 'ĠType': 32, 'Ġtypes': 31, 'type': 30, 'ĠTYPE': 29, 'types': 29}\n",
      "Ġaccelerate {'Ġspeed': 32, 'Ġslower': 31, 'speed': 31, 'Ġspeeds': 30, 'Ġslow': 29, 'Ġfaster': 29}\n",
      "ENGTH {'Ġlength': 37, 'length': 36, 'Ġlengths': 35, 'Length': 32, 'ĠLength': 31, 'Ġshorter': 27}\n",
      "Ġtall {'Ġheight': 33, 'Ġtaller': 33, 'height': 30, 'Ġtall': 30, 'tall': 30, 'Ġtallest': 29}\n",
      "ĠTIME {'Time': 32, 'Ġtime': 32, 'time': 31, 'ĠTime': 31, 'TIME': 30, 'Ġtimes': 29}\n",
      "Women {'Ġgender': 33, 'Ġmale': 32, 'gender': 31, 'Ġfemale': 29, 'male': 29, 'Ġmales': 29}\n",
      "ĠGray {'Ġcolor': 35, 'Ġcolour': 32, 'Ġcolored': 31, 'color': 30, 'Ġcolors': 30, 'Ġcoloured': 28}\n",
      "Ġdirections {'Ġdirection': 40, 'Ġdirections': 39, 'ĠDirection': 34, 'direction': 34, 'ĠDirections': 29, 'Ġdirectional': 28}\n",
      "Ġoriented {'Ġorientation': 37, 'Ġorient': 35, 'orient': 32, 'Ġoriented': 32, 'Ġdirection': 28, 'oriented': 27}\n",
      "distance {'Ġdistance': 39, 'distance': 37, 'Ġdistances': 36, 'ĠDistance': 35, 'Distance': 35, 'Ġproximity': 23}\n",
      "Ġheavily {'Ġheavier': 34, 'Ġweight': 33, 'Ġheavy': 30, 'weight': 30, 'Ġheaviest': 29, 'heavy': 28}\n",
      "Ġresize {'Ġsizes': 35, 'ĠSize': 33, 'Ġsize': 32, 'Size': 32, 'size': 31, 'Ġsized': 29}\n",
      "Ġnegativity {'Ġpositive': 34, 'Ġnegative': 33, 'negative': 31, 'positive': 31, 'ĠPositive': 30, 'ĠNegative': 30}\n",
      "Ġstrengthen {'Ġstrength': 34, 'strength': 33, 'Ġstronger': 31, 'Strength': 30, 'ĠStrength': 30, 'Ġweaker': 28}\n",
      "Ġpositional {'Ġposition': 36, 'ĠPosition': 33, 'position': 33, 'Position': 33, 'Ġpositions': 31, 'Ġpositional': 30}\n",
      "TYPE {'Ġtype': 32, 'ĠType': 31, 'Ġtypes': 31, 'type': 30, 'ĠTYPE': 30, 'TYPE': 29}\n",
      "ĠBroad {'Ġnarrower': 32, 'Ġwidth': 31, 'Ġbroad': 31, 'Ġnarrow': 31, 'Ġwider': 29, 'Ġwidest': 28}\n",
      "Numbers {'Ġnumbers': 36, 'Numbers': 33, 'ĠNumbers': 31, 'Number': 30, 'number': 29, 'Ġnumber': 29}\n",
      "Safety {'Ġsafety': 32, 'Ġsafe': 32, 'safe': 31, 'safety': 30, 'Ġunsafe': 29, 'Safety': 28}\n",
      "Ġyear {'Ġyear': 37, 'year': 33, 'ĠYear': 33, 'Year': 32, 'ĠYEAR': 28, 'Ġyears': 28}\n",
      "Ġshapes {'Ġshape': 40, 'Ġshapes': 36, 'shape': 36, 'ĠShape': 32, 'Shape': 30, 'Ġshaped': 30}\n",
      "Ġcounting {'Ġcount': 34, 'Ġcounts': 33, 'Ġcounting': 32, 'count': 31, 'Ġcounted': 29, 'Count': 29}\n",
      "ĠSafety {'Ġsafe': 32, 'Ġsafety': 32, 'safe': 31, 'safety': 30, 'Ġunsafe': 29, 'Safety': 28}\n",
      "Ġelong {'Ġlength': 35, 'Ġlengths': 32, 'Ġshorter': 31, 'Ġlonger': 30, 'ĠLength': 29, 'length': 29}\n",
      "Scale {'Ġscale': 40, 'scale': 37, 'Scale': 37, 'Ġscales': 35, 'ĠScale': 34, 'Ġscaled': 26}\n",
      "ĠDAY {'days': 32, 'Ġdays': 31, 'day': 31, 'Ġday': 30, 'Days': 30, 'Day': 29}\n",
      "often {'Ġfrequency': 36, 'frequency': 35, 'Ġfrequent': 33, 'ĠFrequency': 32, 'Ġfrequencies': 30, 'ĠFrequ': 27}\n",
      "Ġtemperatures {'Ġtemperature': 36, 'Ġtemperatures': 35, 'ĠTemperature': 33, 'Temperature': 29, 'ĠTemper': 29, 'Ġcolder': 27}\n",
      "Ġstable {'Ġstable': 38, 'Ġstability': 35, 'stable': 34, 'Ġunstable': 33, 'ĠStability': 30, 'Ġstabilized': 26}\n",
      "ĠDay {'Ġday': 32, 'day': 32, 'Ġdays': 31, 'days': 30, 'Day': 30, 'Days': 29}\n",
      "ĠWarm {'Ġtemperature': 34, 'ĠTemperature': 30, 'Ġcolder': 30, 'Ġtemperatures': 30, 'Ġwarmer': 30, 'Temperature': 28}\n",
      "Ġgiant {'Ġsizes': 33, 'Ġsize': 33, 'Ġsized': 32, 'size': 30, 'Size': 29, 'ĠSize': 29}\n",
      "Max {'maximum': 33, 'Ġmaximum': 33, 'max': 31, 'Ġmax': 31, 'Maximum': 30, 'ĠMaximum': 29}\n",
      "iameter {'Ġsizes': 34, 'Ġsize': 32, 'Ġdiameter': 30, 'ĠSize': 29, 'Ġsized': 29, 'Size': 28}\n",
      "Ġrenamed {'Ġname': 34, 'Ġnames': 32, 'name': 30, 'Ġnaming': 29, 'ĠNAME': 28, 'ĠName': 28}\n",
      "Ġcosting {'Ġcosts': 34, 'cost': 33, 'Ġcost': 32, 'ĠCosts': 29, 'Cost': 29, 'Ġcosting': 27}\n",
      "ĠMax {'maximum': 32, 'Ġmaximum': 31, 'Ġmax': 31, 'max': 31, 'Maximum': 30, 'ĠMaximum': 29}\n",
      "Ġgender {'Ġgender': 34, 'Ġmale': 32, 'Ġgenders': 30, 'gender': 30, 'ĠGender': 28, 'Gender': 28}\n",
      "Ġnarrowed {'Ġnarrower': 34, 'Ġnarrow': 31, 'Ġwidened': 31, 'Ġwiden': 29, 'Ġnarrowed': 28, 'Ġwidth': 28}\n",
      "Ġversion {'Ġversion': 34, 'version': 33, 'Ġversions': 33, 'ĠVersion': 31, 'Version': 29, 'versions': 28}\n",
      "Ġunstable {'Ġstable': 37, 'Ġstability': 35, 'stable': 33, 'Ġunstable': 32, 'ĠStability': 30, 'Ġstabilized': 26}\n",
      "Range {'Ġrange': 39, 'range': 38, 'Ġranges': 36, 'Range': 36, 'ĠRange': 36, 'ranged': 24}\n",
      "limit {'Ġlimits': 34, 'ĠLimits': 31, 'limits': 31, 'Ġlimit': 31, 'limit': 29, 'Ġlimitations': 27}\n",
      "ĠFive {'Ġnumber': 38, 'number': 36, 'Number': 32, 'ĠNumber': 31, 'Ġnumbers': 30, 'ĠNUM': 26}\n",
      "Many {'Ġnumber': 37, 'number': 34, 'Number': 32, 'ĠNumber': 30, 'ĠNUM': 28, 'Ġfewer': 28}\n",
      "Ġtemperature {'Ġtemperature': 36, 'Ġtemperatures': 35, 'ĠTemperature': 33, 'Temperature': 30, 'ĠTemper': 28, 'Ġcolder': 27}\n",
      "ĠRange {'Ġranges': 38, 'Ġrange': 38, 'range': 38, 'Range': 35, 'ĠRange': 35, 'ranged': 23}\n",
      "Seven {'Ġnumber': 37, 'number': 35, 'Ġnumbers': 32, 'Number': 31, 'ĠNumber': 31, 'Ġnumbered': 26}\n",
      "ĠAmount {'amount': 38, 'Ġamount': 38, 'Ġamounts': 36, 'ĠAmount': 36, 'Amount': 34, 'Ġquantity': 25}\n",
      "Ġsimple {'Ġcomplexity': 34, 'Ġcomplex': 30, 'complex': 30, 'Ġsimplicity': 29, 'ĠComplex': 29, 'Ġsimpler': 28}\n",
      "count {'Ġcount': 35, 'Ġcounts': 34, 'count': 30, 'Ġcounting': 30, 'Ġcounted': 29, 'Count': 29}\n",
      "Ġimbalance {'balance': 32, 'Ġimbalance': 32, 'Ġbalanced': 31, 'Ġbalance': 31, 'balanced': 31, 'Balance': 28}\n",
      "Ġpounds {'Ġweight': 34, 'weight': 32, 'Ġweights': 31, 'ĠWeight': 30, 'Weight': 30, 'weights': 27}\n",
      "Ġfewer {'Ġnumber': 35, 'number': 34, 'Number': 31, 'Ġnumbers': 30, 'ĠNumber': 30, 'Ġfewer': 28}\n",
      "Ġpositively {'Ġpositive': 36, 'positive': 32, 'ĠPositive': 31, 'Ġnegative': 31, 'Ġpositives': 29, 'negative': 28}\n",
      "Ġdepth {'Ġdepth': 35, 'depth': 35, 'ĠDepth': 32, 'Depth': 30, 'Ġdeeper': 30, 'Ġdepths': 28}\n",
      "ĠNAME {'Ġname': 34, 'name': 33, 'Ġnames': 31, 'ĠNAME': 30, 'Name': 28, 'ĠName': 28}\n",
      "Ġlarg {'Ġsize': 31, 'Ġlarger': 31, 'Ġsizes': 30, 'Ġsized': 29, 'size': 29, 'Ġbigger': 29}\n",
      "Ġdelaying {'Ġdelay': 33, 'delay': 32, 'Ġdelayed': 31, 'Ġdelays': 30, 'tim': 29, 'Ġtiming': 29}\n",
      "day {'Ġday': 31, 'day': 31, 'Ġdays': 30, 'days': 30, 'Days': 28, 'Day': 28}\n",
      "dates {'Ġdates': 35, 'Ġdate': 33, 'date': 33, 'dates': 32, 'ĠDates': 30, 'Date': 29}\n",
      "Ġswift {'Ġslower': 34, 'Ġspeed': 31, 'Ġslow': 31, 'Ġfaster': 29, 'speed': 29, 'Speed': 28}\n",
      "Ġlimited {'limited': 32, 'Ġlimited': 32, 'Limited': 30, 'Ġlimits': 29, 'Ġunlimited': 28, 'Ġlimitation': 28}\n",
      "Ġranges {'Ġranges': 39, 'Ġrange': 38, 'range': 36, 'ĠRange': 34, 'Range': 33, 'Ġranged': 24}\n",
      "perature {'Ġtemperature': 36, 'Ġtemperatures': 35, 'ĠTemperature': 33, 'Temperature': 30, 'ĠTemper': 28, 'Ġcolder': 27}\n",
      "lower {'Ġhigher': 34, 'Ġlower': 31, 'higher': 31, 'Ġlowest': 29, 'Ġhighest': 29, 'Ġlow': 29}\n",
      "ĠGiant {'Ġsizes': 34, 'Ġsize': 32, 'Ġsized': 31, 'size': 30, 'ĠSize': 29, 'Size': 28}\n",
      "Ġnine {'Ġnumber': 36, 'number': 33, 'Ġnumbers': 32, 'Number': 31, 'ĠNumber': 31, 'ĠNUM': 26}\n",
      "Ġprolonged {'Ġlonger': 37, 'Ġshorter': 32, 'Ġlongest': 30, 'Ġduration': 28, 'Ġprolonged': 28, 'Ġlength': 27}\n",
      "Pos {'Ġposition': 33, 'Ġpositions': 31, 'Position': 30, 'position': 30, 'ĠPosition': 30, 'Pos': 28}\n",
      "Ġstature {'Ġsizes': 33, 'Ġsize': 32, 'Ġsized': 31, 'size': 30, 'ĠSize': 29, 'sized': 28}\n",
      "ĠLimits {'Ġlimits': 34, 'limits': 32, 'Ġlimit': 31, 'limit': 30, 'ĠLimits': 30, 'Limit': 27}\n",
      "Ġvalued {'Ġvalue': 33, 'Ġvalued': 33, 'value': 32, 'valued': 32, 'ĠValue': 29, 'Value': 27}\n",
      "Ġquickest {'Ġslower': 36, 'Ġslow': 32, 'Ġfaster': 30, 'Ġspeed': 28, 'slow': 28, 'Ġfastest': 27}\n",
      "shape {'Ġshape': 40, 'shape': 36, 'Ġshapes': 35, 'ĠShape': 32, 'Shape': 30, 'Ġshaped': 28}\n",
      "Ġstability {'Ġstability': 37, 'Ġstable': 36, 'stable': 34, 'Ġunstable': 31, 'ĠStability': 31, 'Ġinstability': 26}\n",
      "Ġstrengthening {'Ġstrength': 33, 'strength': 33, 'Strength': 30, 'Ġstronger': 30, 'ĠStrength': 29, 'Ġweaker': 28}\n",
      "Ġdating {'Ġdates': 34, 'Ġdate': 33, 'date': 31, 'dates': 30, 'Date': 28, 'ĠDates': 28}\n",
      "ranked {'ranked': 32, 'rank': 32, 'Ġranked': 31, 'Ġrank': 31, 'Rank': 29, 'Ġranking': 29}\n",
      "many {'Ġnumber': 37, 'number': 34, 'Number': 30, 'ĠNumber': 29, 'Ġfewer': 28, 'ĠNUM': 28}\n",
      "Lower {'Ġhigher': 33, 'Ġlower': 32, 'higher': 30, 'Ġlowest': 29, 'Ġlow': 29, 'Ġhighest': 28}\n",
      "ĠShape {'Ġshape': 40, 'shape': 37, 'Ġshapes': 34, 'ĠShape': 33, 'Shape': 31, 'Ġshaped': 28}\n",
      "Green {'Ġcolor': 33, 'Ġcolour': 31, 'Ġcolored': 30, 'Ġcolors': 29, 'Ġcoloured': 28, 'color': 28}\n",
      "Ġweaknesses {'strength': 31, 'Ġstrength': 31, 'Ġstrengths': 30, 'weak': 29, 'Ġweakness': 28, 'Ġweak': 28}\n",
      "len {'Ġlength': 37, 'Ġlengths': 35, 'length': 34, 'Length': 32, 'ĠLength': 31, 'Ġshorter': 25}\n",
      "larg {'Ġsize': 31, 'Ġsizes': 31, 'larg': 30, 'size': 29, 'ĠSize': 29, 'Ġlarger': 28}\n",
      "Ġtimely {'Ġtim': 32, 'Ġtiming': 32, 'Ġtimed': 31, 'Ġtimely': 31, 'Ġdelayed': 28, 'tim': 28}\n",
      "ĠOften {'Ġfrequency': 34, 'frequency': 33, 'Ġfrequent': 33, 'ĠFrequency': 31, 'Ġfrequencies': 29, 'ĠFrequ': 27}\n",
      "Ġcrimson {'Ġcolor': 31, 'Ġcolour': 30, 'Ġcolors': 29, 'color': 29, 'ĠColor': 28, 'Color': 28}\n",
      "Broad {'Ġnarrower': 32, 'Ġbroad': 31, 'broad': 30, 'Ġnarrow': 30, 'Ġbroader': 28, 'Ġwider': 28}\n",
      "Ġstrongly {'Ġstronger': 31, 'Ġstrong': 30, 'Ġweaker': 30, 'Ġweak': 29, 'weak': 29, 'strong': 28}\n",
      "ĠScale {'Ġscale': 39, 'Scale': 36, 'scale': 35, 'Ġscales': 35, 'ĠScale': 34, 'Ġscaled': 25}\n",
      "ĠLOW {'Ġlow': 34, 'low': 33, 'Ġhigher': 30, 'Low': 29, 'ĠLow': 29, 'Ġhigh': 27}\n",
      "Brown {'Ġcolor': 32, 'Ġcolour': 31, 'color': 29, 'Ġcolored': 29, 'Ġcolors': 29, 'ĠColor': 28}\n",
      "ĠVelocity {'speed': 34, 'Ġspeed': 33, 'Speed': 30, 'Ġslower': 29, 'Ġspeeds': 28, 'ĠSpeed': 28}\n",
      "delay {'Ġdelay': 33, 'delay': 32, 'Ġdelayed': 31, 'Ġdelays': 30, 'Ġtiming': 29, 'ĠDelay': 28}\n",
      "Ġnumbering {'Ġnumbers': 32, 'Ġnumbering': 31, 'Ġnumber': 29, 'Ġnumbered': 29, 'number': 29, 'Number': 29}\n",
      "orange {'Ġcolor': 32, 'Ġcolour': 31, 'Ġcolored': 30, 'Ġcolors': 29, 'color': 28, 'Ġcoloured': 28}\n",
      "Ġlbs {'Ġweight': 33, 'weight': 32, 'ĠWeight': 30, 'Weight': 30, 'Ġweights': 29, 'weights': 27}\n",
      "ĠSeven {'Ġnumber': 36, 'number': 35, 'Number': 31, 'Ġnumbers': 31, 'ĠNumber': 30, 'NUM': 25}\n",
      "Ġlb {'Ġweight': 32, 'Ġweights': 31, 'weight': 30, 'ĠWeight': 29, 'Weight': 29, 'Ġweigh': 28}\n",
      "Ġdelays {'Ġdelay': 33, 'Ġdelays': 31, 'Ġdelayed': 31, 'delay': 30, 'Ġtiming': 29, 'Ġtim': 28}\n",
      "Ġmales {'Ġgender': 31, 'Ġmale': 31, 'Ġmales': 30, 'gender': 29, 'Ġgenders': 28, 'male': 28}\n",
      "Ġprolong {'Ġlonger': 35, 'Ġshorter': 33, 'Ġlongest': 30, 'Ġduration': 28, 'Ġlength': 27, 'Ġleng': 27}\n",
      "Ġsafely {'Ġsafe': 32, 'safe': 31, 'Ġunsafe': 31, 'Safe': 30, 'Ġsafely': 29, 'ĠSafe': 29}\n",
      "Ġfemin {'Ġgender': 32, 'Ġmale': 31, 'gender': 30, 'Ġmales': 29, 'Ġgenders': 28, 'Ġfemale': 27}\n",
      "Ġdepths {'Ġdepth': 33, 'depth': 33, 'ĠDepth': 31, 'Ġdepths': 31, 'Depth': 30, 'Ġdeeper': 29}\n",
      "Ġpos {'Ġposition': 32, 'Pos': 31, 'Ġpositions': 30, 'Position': 29, 'ĠPosition': 28, 'pos': 28}\n",
      "Ġorient {'Ġorientation': 35, 'Ġorient': 32, 'Ġdirection': 29, 'ĠDirection': 28, 'orient': 28, 'ĠOrient': 28}\n",
      "Ġcolder {'Ġtemperature': 33, 'Ġcolder': 31, 'Ġwarmer': 30, 'Ġtemperatures': 29, 'ĠTemperature': 29, 'Temperature': 27}\n",
      "ĠPos {'Ġposition': 33, 'Position': 31, 'Ġpositions': 31, 'ĠPosition': 29, 'position': 29, 'Ġpositioning': 28}\n",
      "ĠDirections {'Ġdirection': 36, 'Ġdirections': 36, 'direction': 32, 'ĠDirection': 32, 'ĠDirections': 29, 'Ġdirectional': 27}\n",
      "Ġrename {'Ġname': 32, 'Ġnames': 32, 'name': 29, 'Ġnaming': 29, 'names': 28, 'ĠNAME': 28}\n",
      "Ġclock {'Ġtimed': 33, 'Ġtim': 31, 'Ġtiming': 30, 'tim': 28, 'Ġclocks': 28, 'Ġtime': 28}\n",
      "Index {'Ġindex': 39, 'index': 38, 'Ġindexes': 35, 'Index': 35, 'ĠIndex': 34, 'Ġindices': 33}\n",
      "ĠDelay {'Ġdelay': 33, 'Ġdelayed': 31, 'Ġdelays': 31, 'delay': 31, 'ĠDelay': 29, 'Ġtiming': 28}\n",
      "Ġexpense {'Ġcosts': 34, 'cost': 33, 'Ġcost': 32, 'Cost': 29, 'ĠCosts': 27, 'Ġexpense': 27}\n",
      "ĠSimple {'Ġcomplexity': 34, 'complex': 30, 'Ġcomplex': 30, 'ĠComplex': 28, 'Ġsimplicity': 28, 'Ġsimpler': 28}\n",
      "ĠMale {'Ġgender': 32, 'Ġmale': 30, 'gender': 30, 'Gender': 28, 'ĠGender': 28, 'male': 28}\n",
      "male {'Ġgender': 32, 'Ġmale': 31, 'gender': 29, 'Ġgenders': 28, 'Ġmales': 28, 'male': 28}\n",
      "Ġkilograms {'weight': 33, 'Ġweight': 33, 'Weight': 31, 'ĠWeight': 29, 'Ġweights': 29, 'Ġweighing': 27}\n",
      "ĠGender {'Ġgender': 33, 'gender': 31, 'Ġmale': 30, 'Gender': 29, 'Ġgenders': 29, 'ĠGender': 29}\n",
      "Ġranging {'Ġrange': 37, 'Ġranges': 36, 'range': 34, 'ĠRange': 34, 'Range': 33, 'Ġranged': 24}\n",
      "Ġhot {'Ġtemperature': 34, 'Ġtemperatures': 32, 'ĠTemperature': 30, 'Temperature': 29, 'Ġcolder': 27, 'Ġcold': 27}\n",
      "irection {'Ġdirection': 39, 'Ġdirections': 36, 'direction': 33, 'ĠDirection': 33, 'ĠDirections': 27, 'Ġdirectional': 26}\n",
      "lbs {'Ġweight': 32, 'weight': 31, 'Ġweights': 30, 'ĠWeight': 29, 'Weight': 29, 'Ġweigh': 27}\n",
      "Ġtallest {'Ġtaller': 32, 'Ġheight': 31, 'Ġtallest': 31, 'height': 30, 'Ġheights': 28, 'Height': 28}\n",
      "Amount {'amount': 38, 'Ġamount': 37, 'Ġamounts': 36, 'ĠAmount': 36, 'Amount': 33, 'Ġquantities': 22}\n",
      "Three {'Ġnumber': 38, 'number': 35, 'Number': 32, 'ĠNumber': 31, 'Ġnumbers': 29, 'ĠNUM': 25}\n",
      "powered {'power': 32, 'Ġpower': 30, 'powered': 30, 'Ġpowered': 29, 'Power': 29, 'ĠPower': 29}\n",
      "names {'Ġnames': 34, 'Ġname': 33, 'name': 29, 'ĠNAME': 28, 'names': 28, 'ĠNames': 27}\n",
      "Ġloc {'Ġlocation': 34, 'Location': 32, 'location': 31, 'Ġlocations': 30, 'ĠLocation': 29, 'Ġloc': 27}\n",
      "Ġversions {'Ġversion': 33, 'Ġversions': 33, 'version': 32, 'ĠVersion': 29, 'Version': 28, 'versions': 27}\n",
      "Ġcheaper {'Ġcheaper': 31, 'cost': 30, 'Ġcosts': 29, 'Ġcost': 29, 'expensive': 28, 'Ġexpensive': 28}\n",
      "ĠLower {'Ġhigher': 33, 'Ġlower': 31, 'higher': 30, 'Ġlowest': 28, 'Ġlow': 28, 'Ġhighest': 27}\n",
      "Ġtotals {'Ġtotals': 36, 'Ġtotal': 33, 'total': 32, 'Total': 30, 'ĠTotal': 30, 'ĠTOTAL': 30}\n",
      "Five {'Ġnumber': 37, 'number': 35, 'Number': 31, 'ĠNumber': 30, 'Ġnumbers': 29, 'ĠNUM': 25}\n",
      "Shape {'Ġshape': 39, 'shape': 36, 'Ġshapes': 34, 'ĠShape': 32, 'Shape': 31, 'Ġshaped': 28}\n",
      "ĠDepth {'depth': 34, 'Ġdepth': 34, 'ĠDepth': 32, 'Depth': 31, 'Ġdeeper': 29, 'Ġdepths': 28}\n",
      "ĠDating {'Ġdates': 33, 'Ġdate': 31, 'date': 30, 'ĠDates': 29, 'dates': 29, 'Date': 28}\n",
      "ĠDistance {'Ġdistance': 38, 'distance': 36, 'Ġdistances': 35, 'ĠDistance': 34, 'Distance': 34, 'Ġdistant': 22}\n",
      "Total {'Ġtotal': 35, 'total': 35, 'Total': 32, 'Ġtotals': 32, 'ĠTOTAL': 31, 'ĠTotal': 31}\n",
      "Ġpricing {'Ġpricing': 30, 'Ġpriced': 30, 'Ġprice': 30, 'price': 30, 'Ġprices': 28, 'priced': 28}\n",
      "Width {'Ġwidth': 35, 'width': 34, 'Width': 31, 'ĠWidth': 30, 'Ġnarrower': 28, 'Ġwider': 27}\n",
      "rate {'Ġrate': 34, 'Rate': 33, 'rate': 31, 'Ġrates': 31, 'ĠRate': 30, 'rates': 28}\n",
      "Ġcheapest {'Ġcheaper': 32, 'Ġcheapest': 30, 'Ġinexpensive': 28, 'Ġcheap': 28, 'Ġcost': 28, 'Ġexpensive': 28}\n",
      "Gender {'Ġgender': 33, 'Ġmale': 30, 'gender': 30, 'Ġgenders': 29, 'Gender': 28, 'ĠGender': 28}\n",
      "low {'Ġhigher': 31, 'low': 30, 'Ġlow': 30, 'Ġhighest': 29, 'Ġhigh': 28, 'higher': 28}\n",
      "Distance {'Ġdistance': 37, 'distance': 35, 'Ġdistances': 35, 'Distance': 35, 'ĠDistance': 34, 'Ġproximity': 22}\n",
      "Ġdeepest {'Ġdepth': 33, 'depth': 32, 'Depth': 31, 'ĠDepth': 30, 'Ġdeeper': 30, 'Ġdepths': 29}\n",
      "Ġbroadly {'Ġnarrower': 35, 'Ġnarrow': 32, 'Ġwider': 29, 'Ġbroad': 28, 'Ġwidest': 27, 'Ġbroader': 27}\n",
      "Ġcolorful {'Ġcolor': 32, 'Ġcolors': 30, 'Ġcolour': 29, 'color': 29, 'Color': 28, 'ĠColor': 28}\n",
      "Ġgrade {'Ġgrade': 36, 'grade': 34, 'Ġgrades': 32, 'ĠGrade': 29, 'Grade': 29, 'grades': 25}\n",
      "ĠPowers {'Ġpower': 32, 'power': 32, 'Ġpowers': 31, 'Power': 30, 'powers': 29, 'ĠPower': 29}\n",
      "Ġlightly {'Ġheavier': 32, 'Ġweight': 32, 'Ġweights': 29, 'weight': 29, 'Weight': 27, 'Ġweighed': 27}\n",
      "range {'Ġrange': 37, 'Ġranges': 36, 'range': 36, 'ĠRange': 34, 'Range': 34, 'ranged': 23}\n",
      "balance {'balance': 33, 'Ġbalance': 32, 'Balance': 30, 'Ġbalances': 29, 'ĠBalance': 29, 'balanced': 28}\n",
      "duration {'Ġduration': 36, 'duration': 33, 'Duration': 32, 'ĠDuration': 32, 'Ġlonger': 30, 'Ġshorter': 25}\n",
      "Ġyouth {'Ġage': 36, 'Ġaged': 32, 'Ġages': 31, 'ĠAge': 28, 'Age': 27, 'Ġaging': 27}\n",
      "Ġindexes {'Ġindex': 38, 'Ġindexes': 37, 'index': 36, 'Ġindices': 35, 'ĠIndex': 34, 'Index': 33}\n",
      "Ġcent {'percent': 32, 'Ġpercentage': 32, 'Ġpercentages': 31, 'Ġpercent': 30, 'ĠPercentage': 28, 'ĠPercent': 27}\n",
      "Simple {'Ġcomplexity': 32, 'complex': 29, 'Ġcomplex': 29, 'Ġsimplicity': 28, 'Ġsimpler': 28, 'ĠComplex': 27}\n",
      "ĠQuick {'Ġslower': 34, 'Ġslow': 32, 'ĠSlow': 29, 'Ġfaster': 28, 'slow': 28, 'Ġspeed': 26}\n",
      "Ġranged {'Ġrange': 36, 'Ġranges': 35, 'range': 34, 'Range': 33, 'ĠRange': 32, 'ranged': 25}\n",
      "Ġpowering {'power': 33, 'Ġpower': 32, 'Power': 30, 'ĠPower': 29, 'Ġpowered': 28, 'powered': 27}\n",
      "Ġblacks {'Ġcolor': 33, 'Ġcolour': 30, 'Ġcolored': 30, 'color': 30, 'Ġcolors': 28, 'ĠColor': 27}\n",
      "Ġwarmth {'Ġtemperature': 33, 'Ġwarmth': 31, 'Ġcolder': 29, 'Ġwarmer': 29, 'ĠTemperature': 28, 'Ġtemperatures': 28}\n",
      "Ġamount {'Ġamount': 39, 'amount': 37, 'ĠAmount': 36, 'Ġamounts': 35, 'Amount': 32, 'Ġquantity': 25}\n",
      "num {'Ġnumber': 30, 'Number': 30, 'number': 30, 'ĠNumber': 29, 'Ġnumbers': 29, 'num': 27}\n",
      "ĠTemperature {'Ġtemperature': 34, 'Ġtemperatures': 34, 'ĠTemperature': 32, 'Temperature': 29, 'ĠTemper': 28, 'Ġcolder': 26}\n",
      "Count {'Ġcount': 33, 'Ġcounts': 31, 'count': 31, 'Ġcounting': 28, 'Count': 28, 'Ġcounted': 27}\n",
      "Ġcyan {'Ġcolor': 32, 'Ġcolour': 30, 'Ġcolored': 30, 'Ġcolors': 28, 'color': 27, 'Ġcoloured': 27}\n",
      "Ġlocated {'ĠLocation': 31, 'Ġlocation': 31, 'Ġlocated': 30, 'Location': 30, 'location': 29, 'Ġposition': 27}\n",
      "GREEN {'Ġcolor': 32, 'Ġcolour': 31, 'Ġcolored': 30, 'color': 28, 'Ġcolors': 28, 'Ġcoloured': 27}\n",
      "valued {'valued': 32, 'Ġvalued': 32, 'Ġvalue': 32, 'value': 31, 'ĠValue': 28, 'Ġvalues': 27}\n",
      "Ġmasculine {'Ġgender': 31, 'Ġmasculine': 31, 'Ġmale': 29, 'gender': 29, 'Ġmasculinity': 28, 'ĠGender': 26}\n",
      "iatures {'Ġsizes': 32, 'Ġsize': 31, 'Ġsized': 30, 'ĠSize': 29, 'size': 28, 'Size': 27}\n",
      "Ġseven {'Ġnumber': 36, 'number': 33, 'Ġnumbers': 31, 'Number': 30, 'ĠNumber': 29, 'Ġnumbered': 25}\n",
      "stable {'Ġstable': 36, 'Ġstability': 33, 'stable': 33, 'Ġunstable': 31, 'ĠStability': 28, 'Ġstabilized': 26}\n",
      "shaped {'Ġshape': 37, 'shape': 34, 'Ġshapes': 32, 'Ġshaped': 32, 'ĠShape': 28, 'Shape': 28}\n",
      "depth {'depth': 34, 'Ġdepth': 34, 'ĠDepth': 31, 'Depth': 30, 'Ġdeeper': 29, 'Ġdepths': 26}\n",
      "simple {'Ġcomplexity': 32, 'Ġcomplex': 29, 'complex': 29, 'Ġsimplicity': 28, 'ĠComplex': 28, 'Ġsimple': 27}\n",
      "Ġlows {'low': 32, 'Ġlow': 30, 'Ġhigher': 30, 'higher': 28, 'Ġhigh': 27, 'Low': 27}\n",
      "Ġcold {'Ġtemperature': 32, 'Ġtemperatures': 30, 'Ġcolder': 29, 'Ġwarmer': 28, 'ĠTemperature': 28, 'Ġwarmth': 27}\n",
      "Ġcounted {'Ġcounts': 34, 'Ġcount': 33, 'Ġcounted': 31, 'count': 30, 'Ġcounting': 29, 'Count': 28}\n",
      "Ġbalancing {'balance': 32, 'Ġbalance': 32, 'Balance': 29, 'balanced': 28, 'Ġbalanced': 28, 'Ġbalances': 28}\n",
      "women {'Ġmale': 31, 'Ġgender': 30, 'gender': 29, 'Ġmales': 28, 'Ġfemale': 28, 'male': 28}\n",
      "Ġunnamed {'Ġnames': 33, 'Ġname': 32, 'Ġnaming': 29, 'Ġnamed': 28, 'name': 27, 'names': 27}\n",
      "Gray {'Ġcolor': 32, 'Ġcolour': 30, 'Ġcolored': 30, 'color': 28, 'Ġcolors': 28, 'Ġcoloured': 27}\n",
      "Ġamounts {'Ġamounts': 36, 'Ġamount': 36, 'amount': 35, 'ĠAmount': 34, 'Amount': 30, 'Ġquantities': 27}\n",
      "Ġdeeply {'Ġdepth': 33, 'depth': 31, 'Ġdeeper': 29, 'ĠDepth': 29, 'Ġdepths': 28, 'Depth': 28}\n",
      "Ġteenager {'Ġage': 37, 'Ġages': 32, 'Ġaged': 30, 'Age': 28, 'ĠAge': 27, 'Ġyounger': 26}\n",
      "Ġfive {'Ġnumber': 37, 'number': 34, 'Number': 30, 'ĠNumber': 30, 'Ġnumbers': 29, 'ĠNUM': 25}\n",
      "Ġgrades {'Ġgrade': 34, 'Ġgrades': 33, 'grade': 33, 'Grade': 28, 'ĠGrade': 28, 'grades': 26}\n",
      "Ġminiature {'Ġsizes': 33, 'Ġsize': 31, 'Ġsized': 31, 'Ġsmaller': 28, 'size': 27, 'Ġlarger': 27}\n",
      "Often {'Ġfrequent': 33, 'Ġfrequency': 32, 'frequency': 32, 'ĠFrequency': 29, 'Ġfrequencies': 27, 'ĠFrequ': 26}\n",
      "Ġshrink {'Ġsizes': 32, 'Ġsize': 31, 'ĠSize': 31, 'Size': 28, 'Ġsized': 28, 'size': 28}\n",
      "Ġhighs {'Ġhigher': 30, 'low': 29, 'high': 29, 'higher': 28, 'Ġhighest': 28, 'Ġhigh': 28}\n",
      "Duration {'Ġduration': 35, 'duration': 34, 'Duration': 33, 'ĠDuration': 32, 'Ġlonger': 27, 'Ġtime': 25}\n",
      "Ġpowered {'Ġpowered': 31, 'power': 31, 'Ġpower': 29, 'Power': 29, 'powered': 28, 'ĠPower': 28}\n",
      "Ġseldom {'Ġfrequency': 34, 'frequency': 33, 'ĠFrequency': 32, 'Ġfrequencies': 31, 'Ġfrequent': 28, 'ĠFrequ': 26}\n",
      "ĠNum {'Number': 30, 'Ġnumbers': 29, 'number': 29, 'Ġnumber': 29, 'ĠNumber': 28, 'ĠNUM': 27}\n",
      "Ġmini {'Ġsmaller': 31, 'Ġsized': 30, 'Ġsizes': 30, 'Ġsize': 29, 'Ġlarger': 28, 'size': 27}\n",
      "scale {'Ġscale': 39, 'Scale': 35, 'Ġscales': 34, 'scale': 34, 'ĠScale': 33, 'Ġscaled': 23}\n",
      "ĠkHz {'Ġfrequency': 35, 'Ġfrequencies': 35, 'frequency': 35, 'ĠFrequency': 32, 'Hz': 26, 'ĠHz': 25}\n",
      "Ġsped {'speed': 31, 'Ġspeed': 31, 'Ġslower': 29, 'Ġspeeds': 28, 'Speed': 28, 'ĠSpeed': 27}\n",
      "Ġshorts {'Ġlengths': 31, 'Ġlength': 30, 'length': 29, 'Ġshorter': 29, 'Length': 28, 'ĠLength': 27}\n",
      "Ranked {'Rank': 31, 'rank': 31, 'ranked': 30, 'Ġrank': 29, 'ranking': 27, 'Ġranked': 27}\n",
      "Ġmoniker {'Ġname': 33, 'Ġnames': 30, 'name': 29, 'Ġmoniker': 28, 'ĠNAME': 28, 'names': 27}\n",
      "Ġtaller {'Ġtaller': 32, 'Ġheight': 31, 'height': 30, 'ĠHeight': 28, 'Height': 27, 'Ġtallest': 26}\n",
      "Ġoutweigh {'Ġweight': 30, 'Ġweigh': 29, 'weight': 28, 'Ġweighing': 28, 'Ġweights': 27, 'Weight': 27}\n",
      "ĠClock {'Ġtimed': 30, 'Ġclock': 30, 'Ġtim': 30, 'Ġclocks': 29, 'Ġtiming': 28, 'tim': 28}\n",
      "Ġstrengthened {'strength': 32, 'Ġstrength': 31, 'ĠStrength': 29, 'Ġstronger': 28, 'Strength': 28, 'Ġweaker': 26}\n",
      "Ġinstability {'Ġstability': 35, 'Ġstable': 34, 'stable': 32, 'Ġunstable': 30, 'ĠStability': 29, 'Ġinstability': 28}\n",
      "Ġbreadth {'Ġwidth': 32, 'Ġnarrower': 30, 'Ġwider': 28, 'Ġbreadth': 28, 'width': 28, 'Ġnarrow': 27}\n",
      "width {'Ġwidth': 34, 'width': 32, 'ĠWidth': 29, 'Width': 28, 'Ġnarrower': 28, 'Ġwider': 28}\n",
      "Ġoldest {'Ġage': 33, 'Ġoldest': 30, 'Ġages': 29, 'Ġolder': 28, 'Ġaged': 27, 'ĠAge': 27}\n",
      "Temperature {'Ġtemperature': 34, 'Ġtemperatures': 33, 'ĠTemperature': 32, 'Temperature': 29, 'ĠTemper': 27, 'Ġcolder': 25}\n",
      "Ġcounts {'Ġcounts': 34, 'Ġcount': 33, 'count': 29, 'Ġcounted': 29, 'Ġcounting': 29, 'Count': 28}\n",
      "requently {'Ġfrequency': 35, 'frequency': 34, 'ĠFrequency': 32, 'Ġfrequencies': 30, 'Ġfrequent': 29, 'ĠFrequ': 27}\n",
      "Ġbalances {'balance': 33, 'Ġbalance': 32, 'Ġbalances': 30, 'Balance': 29, 'ĠBalance': 29, 'Ġbalanced': 27}\n",
      "Ġchilly {'Ġtemperature': 32, 'Ġcolder': 30, 'Ġtemperatures': 30, 'ĠTemperature': 29, 'Temperature': 28, 'Ġwarmer': 27}\n",
      "Ġgenders {'Ġgender': 33, 'Ġgenders': 29, 'gender': 29, 'Ġmale': 28, 'ĠGender': 28, 'Gender': 27}\n",
      "Day {'Ġday': 30, 'Ġdays': 30, 'day': 30, 'days': 29, 'Day': 28, 'Days': 27}\n",
      "Ġdays {'Ġdays': 33, 'days': 31, 'Days': 29, 'ĠDays': 28, 'Ġdates': 28, 'Ġday': 26}\n",
      "Quick {'Ġslower': 32, 'Ġslow': 31, 'ĠSlow': 28, 'slow': 27, 'Ġspeed': 27, 'Ġfast': 26}\n",
      "ĠGrade {'Ġgrade': 35, 'grade': 33, 'Ġgrades': 31, 'ĠGrade': 28, 'Grade': 28, 'grades': 25}\n",
      "Ġcooler {'Ġtemperature': 32, 'Ġcooler': 28, 'Ġtemperatures': 28, 'ĠTemperature': 28, 'Ġwarmer': 28, 'Ġcolder': 27}\n",
      "Ġ2015 {'Ġyear': 32, 'Year': 32, 'ĠYear': 32, 'year': 29, 'Ġdate': 27, 'Ġdates': 26}\n",
      "today {'Ġdate': 32, 'date': 30, 'Ġdates': 30, 'day': 27, 'Ġday': 27, 'ĠDates': 26}\n",
      "Ġmasses {'Ġweight': 33, 'weight': 30, 'Ġweights': 29, 'Weight': 28, 'Ġheavier': 27, 'ĠWeight': 26}\n",
      "DAY {'days': 30, 'day': 30, 'Ġdays': 30, 'Ġday': 29, 'Days': 28, 'Day': 27}\n",
      "Ġdark {'Ġdarker': 31, 'Ġdark': 31, 'Ġdarkness': 29, 'Ġdarkened': 28, 'Ġcolor': 27, 'dark': 26}\n",
      "Ġtimestamp {'Ġtimestamp': 31, 'tim': 30, 'Ġtim': 29, 'Time': 28, 'time': 28, 'ĠTime': 26}\n",
      "Ġlocate {'Ġlocation': 33, 'Location': 31, 'location': 31, 'ĠLocation': 31, 'Ġlocate': 27, 'Ġlocated': 27}\n",
      "ossal {'Ġsizes': 31, 'Ġsize': 31, 'Ġsized': 30, 'Size': 29, 'size': 28, 'ĠSize': 27}\n",
      "ĠMales {'Ġgender': 31, 'gender': 29, 'Ġmale': 29, 'Ġmales': 28, 'Ġgenders': 28, 'male': 27}\n",
      "Limited {'limited': 30, 'Ġlimited': 30, 'Limited': 28, 'Ġlimits': 28, 'Ġunlimited': 27, 'Ġlimitation': 26}\n",
      "Ġvaluable {'Ġvalue': 31, 'Ġvalued': 30, 'value': 29, 'Ġvaluable': 28, 'Ġworth': 27, 'valued': 27}\n",
      "Ġ%% {'percent': 32, 'Ġpercentage': 30, 'Ġpercentages': 29, 'Ġpercent': 29, 'Percent': 28, 'ĠPercentage': 27}\n",
      "ĠRanking {'rank': 32, 'Rank': 29, 'Ġrank': 29, 'Ġranking': 29, 'ranked': 29, 'ranking': 28}\n",
      "ĠNine {'Ġnumber': 35, 'number': 32, 'Number': 30, 'Ġnumbers': 29, 'ĠNumber': 29, 'NUM': 24}\n",
      "Ġlowers {'Ġhigher': 32, 'higher': 31, 'Ġlow': 28, 'Ġlower': 28, 'low': 27, 'Higher': 26}\n",
      "Ġdistant {'Ġdistance': 33, 'distance': 30, 'Ġdistant': 29, 'ĠDistance': 28, 'Ġdistances': 28, 'Distance': 27}\n",
      "ĠGrey {'Ġcolor': 32, 'Ġcolored': 29, 'color': 29, 'Ġcolour': 29, 'Ġcolors': 26, 'Ġcoloured': 26}\n",
      "ĠThree {'Ġnumber': 36, 'number': 33, 'Number': 30, 'ĠNumber': 29, 'Ġnumbers': 28, 'ĠNUM': 24}\n",
      "terday {'Ġdate': 30, 'days': 29, 'Ġdates': 29, 'date': 28, 'Ġdays': 28, 'Ġday': 27}\n",
      "Ġenergy {'Ġenergy': 37, 'energy': 34, 'Ġenergies': 32, 'ĠEnergy': 30, 'Energy': 29, 'Ġenergetic': 24}\n",
      "Ġthin {'Ġthickness': 33, 'Ġthicker': 32, 'Ġthinner': 31, 'Ġthin': 30, 'Ġthick': 29, 'ĠThick': 27}\n",
      "ĠRanked {'ranked': 30, 'rank': 30, 'Rank': 29, 'Ġrank': 28, 'Ġranked': 28, 'ranking': 27}\n",
      "Year {'Ġyear': 34, 'Year': 32, 'year': 32, 'ĠYear': 31, 'ĠYEAR': 27, 'Ġyears': 25}\n",
      "ĠYEAR {'Ġyear': 33, 'year': 31, 'Year': 30, 'ĠYear': 30, 'ĠYEAR': 28, 'Ġyears': 25}\n",
      "Ġcool {'Ġtemperature': 31, 'ĠTemperature': 28, 'Ġcooler': 27, 'Ġtemperatures': 27, 'cool': 27, 'warm': 27}\n",
      "ĠMAX {'Ġmaximum': 30, 'maximum': 30, 'max': 29, 'Ġmax': 29, 'Maximum': 28, 'ĠMAX': 26}\n",
      "days {'Ġdays': 31, 'Ġdates': 29, 'days': 29, 'Days': 28, 'Ġdate': 27, 'Ġday': 26}\n",
      "Ġviolet {'Ġcolor': 32, 'Ġcolour': 30, 'Ġcolors': 29, 'Ġcolours': 27, 'color': 27, 'Ġcolored': 27}\n",
      "Ġrarely {'Ġfrequency': 33, 'frequency': 32, 'Ġfrequencies': 30, 'ĠFrequency': 30, 'Ġfrequent': 27, 'ĠFrequ': 25}\n",
      "dating {'Ġdates': 31, 'Ġdate': 30, 'date': 29, 'dates': 28, 'Date': 27, 'Ġdated': 27}\n",
      "Ġlimiting {'Ġlimits': 30, 'Ġlimit': 28, 'limit': 28, 'limits': 28, 'ĠLimits': 27, 'Ġlimiting': 26}\n",
      "Ġtim {'Ġtim': 31, 'tim': 29, 'time': 28, 'Ġtiming': 27, 'Ġtime': 27, 'Ġtimed': 26}\n",
      "oriented {'Ġorientation': 34, 'Ġorient': 32, 'Ġoriented': 31, 'orient': 30, 'oriented': 26, 'Ġdirection': 26}\n",
      "ĠHz {'frequency': 36, 'Ġfrequency': 35, 'Ġfrequencies': 34, 'ĠFrequency': 33, 'Hz': 24, 'ĠHz': 24}\n",
      "ĠTall {'Ġtaller': 31, 'Ġheight': 29, 'Ġtall': 28, 'tall': 28, 'Ġsizes': 27, 'height': 26}\n",
      "Ġunsafe {'Ġsafe': 31, 'safe': 30, 'Ġunsafe': 28, 'Safe': 27, 'Ġsafer': 27, 'Ġsafety': 27}\n",
      "Ġrequired {'required': 32, 'Ġrequired': 30, 'ĠRequired': 28, 'Required': 27, 'Ġrequirement': 27, 'needed': 26}\n",
      "ĠThin {'Ġthickness': 32, 'Ġthicker': 31, 'Ġthinner': 30, 'Ġthin': 30, 'Ġthick': 29, 'ĠThick': 27}\n",
      "%%%% {'percent': 30, 'Ġpercentage': 30, 'Ġpercentages': 29, 'ĠPercentage': 28, 'Ġpercent': 28, 'ĠPercent': 27}\n",
      "kHz {'Ġfrequency': 35, 'Ġfrequencies': 34, 'frequency': 34, 'ĠFrequency': 32, 'Hz': 24, 'ĠHz': 24}\n",
      "ighed {'Ġweight': 32, 'weight': 31, 'Weight': 29, 'ĠWeight': 28, 'Ġweights': 27, 'Ġweigh': 26}\n",
      "ĠTemp {'Ġtemperature': 32, 'Ġtemperatures': 31, 'ĠTemperature': 29, 'Ġcolder': 27, 'Temperature': 27, 'tem': 26}\n",
      "Cold {'Ġtemperature': 29, 'Ġwarmer': 28, 'Ġtemperatures': 28, 'Ġwarmth': 28, 'Ġcolder': 27, 'Ġwarm': 27}\n",
      "ĠHot {'Ġtemperature': 32, 'Ġtemperatures': 29, 'ĠTemperature': 28, 'Temperature': 28, 'Ġwarmer': 26, 'Ġwarm': 26}\n",
      "Ġtiming {'Ġtiming': 38, 'Ġtim': 30, 'Ġtimed': 29, 'tim': 29, 'ĠTim': 27, 'Ġdelay': 25}\n",
      "ĠPowered {'power': 30, 'Ġpowered': 29, 'powered': 29, 'Power': 29, 'Ġpower': 28, 'ĠPower': 26}\n",
      "Ġrequirement {'Ġrequirements': 33, 'Ġrequirement': 31, 'ĠRequirements': 28, 'Requirements': 28, 'required': 27, 'requ': 26}\n",
      "Ġownership {'Ġownership': 36, 'owners': 31, 'Ġowned': 29, 'ĠOwners': 28, 'owned': 28, 'owner': 25}\n",
      "Ġmass {'Ġweight': 33, 'weight': 29, 'Weight': 28, 'Ġweights': 28, 'Ġheavier': 27, 'ĠWeight': 26}\n",
      "Ġdestabil {'Ġstability': 33, 'Ġstable': 32, 'Ġunstable': 30, 'stable': 29, 'ĠStability': 29, 'Ġstabil': 25}\n",
      "Ġyears {'Ġyears': 31, 'Ġyear': 30, 'years': 28, 'year': 27, 'Year': 27, 'Ġdecades': 26}\n",
      "priced {'Ġpriced': 31, 'priced': 29, 'Ġprice': 28, 'price': 27, 'Ġprices': 27, 'Ġcosts': 26}\n",
      "Ġstabil {'Ġstable': 32, 'Ġstability': 32, 'stable': 30, 'Ġunstable': 28, 'ĠStability': 26, 'Ġstabilized': 26}\n",
      "Ġmode {'Ġmode': 37, 'mode': 33, 'Ġmodes': 33, 'ĠMode': 32, 'Mode': 31, 'MODE': 31}\n",
      "NAME {'Ġname': 32, 'name': 30, 'Ġnames': 29, 'ĠNAME': 28, 'NAME': 27, 'names': 26}\n",
      "Ġwhites {'Ġcolor': 32, 'ĠColor': 28, 'color': 28, 'Ġcolored': 28, 'Ġcolour': 28, 'Ġcolors': 27}\n",
      "Ġpriced {'Ġpriced': 30, 'price': 28, 'Ġprice': 28, 'priced': 28, 'Ġprices': 27, 'Ġcosts': 27}\n",
      "Ġthree {'Ġnumber': 36, 'number': 32, 'Number': 30, 'ĠNumber': 29, 'Ġnumbers': 28, 'ĠNUM': 24}\n",
      "Ġfeminine {'Ġmasculine': 30, 'Ġgender': 29, 'Ġmale': 28, 'Ġmasculinity': 27, 'gender': 27, 'Ġfeminine': 27}\n",
      "juven {'Ġage': 34, 'Ġages': 30, 'Age': 29, 'Ġaged': 29, 'ĠAge': 29, 'Ġaging': 24}\n",
      "ĠFour {'Ġnumber': 36, 'number': 33, 'ĠNumber': 30, 'Number': 30, 'Ġnumbers': 27, 'ĠNUM': 24}\n",
      "Ġrating {'Ġrating': 32, 'Ġrated': 30, 'Ġratings': 27, 'rating': 27, 'Rating': 27, 'ĠRating': 26}\n",
      "Ġarea {'Ġarea': 33, 'area': 30, 'Ġareas': 30, 'ĠArea': 28, 'Area': 28, 'ĠAreas': 25}\n",
      "score {'Ġscore': 33, 'score': 31, 'Ġscores': 30, 'ĠScore': 27, 'Ġscoring': 27, 'scoring': 26}\n",
      "Male {'Ġgender': 30, 'Ġmale': 28, 'gender': 28, 'male': 27, 'Ġmales': 26, 'ĠGender': 26}\n",
      "Ġscales {'Ġscales': 36, 'Ġscale': 35, 'Scale': 32, 'ĠScale': 30, 'scale': 30, 'Ġscaling': 23}\n",
      "Ġratio {'Ġratio': 39, 'Ġratios': 39, 'ĠRatio': 34, 'rat': 30, 'Rat': 29, 'ĠRat': 22}\n",
      "Ġhottest {'Ġtemperature': 31, 'Ġwarmer': 29, 'Ġcolder': 28, 'Ġtemperatures': 28, 'Ġhotter': 28, 'ĠTemperature': 28}\n",
      "Ġefficient {'Ġefficiency': 33, 'Ġefficient': 30, 'Ġinefficient': 30, 'Ġeffic': 29, 'ĠEfficiency': 27, 'efficiency': 27}\n",
      "ĠLAR {'Ġsize': 29, 'Ġsizes': 29, 'size': 28, 'Ġsmaller': 28, 'Ġlarger': 27, 'Ġsized': 27}\n",
      "ĠGHz {'Ġfrequencies': 35, 'Ġfrequency': 35, 'frequency': 35, 'ĠFrequency': 31, 'Hz': 23, 'ĠHz': 23}\n",
      "Version {'version': 32, 'Ġversion': 32, 'ĠVersion': 29, 'Ġversions': 28, 'Version': 28, 'VERSION': 25}\n",
      "Ġcompletely {'Ġcomplete': 30, 'Ġincomplete': 29, 'Ġpartial': 28, 'Ġfully': 27, 'Ġpartially': 27, 'Complete': 26}\n",
      "Ġpriorit {'Ġpriority': 34, 'priority': 34, 'Ġpriorities': 34, 'Ġpriorit': 29, 'ĠPriority': 29, 'Ġprioritize': 23}\n",
      "Hz {'frequency': 36, 'Ġfrequency': 35, 'Ġfrequencies': 34, 'ĠFrequency': 31, 'Hz': 24, 'ĠHz': 23}\n",
      "Balance {'balance': 32, 'Ġbalance': 30, 'Balance': 30, 'ĠBalance': 29, 'Ġbalances': 28, 'balanced': 26}\n",
      "hours {'Ġhours': 33, 'Ġhour': 30, 'ĠHours': 30, 'hours': 30, 'Hours': 27, 'hour': 26}\n",
      "Ġaddress {'Ġaddress': 35, 'Ġaddresses': 34, 'address': 31, 'ĠAddress': 30, 'Address': 28, 'Ġaddressed': 25}\n",
      "ĠMultiple {'multiple': 30, 'Multiple': 29, 'Ġmultiple': 29, 'single': 27, 'ĠMultiple': 27, 'Ġsingle': 26}\n",
      "Ġratios {'Ġratios': 40, 'Ġratio': 39, 'ĠRatio': 33, 'rat': 30, 'Rat': 28, 'ĠRat': 22}\n",
      "Grey {'Ġcolor': 31, 'color': 29, 'Ġcolour': 29, 'Ġcolored': 28, 'Ġcoloured': 26, 'Ġcolors': 26}\n",
      "Ġyoungsters {'Ġage': 33, 'Ġages': 29, 'Ġaged': 28, 'Age': 27, 'ĠAge': 26, 'Ġolder': 26}\n",
      "EED {'Ġspeed': 30, 'speed': 29, 'Ġspeeds': 27, 'Ġslower': 27, 'ĠSpeed': 27, 'slow': 27}\n",
      "Ġorientation {'Ġorientation': 37, 'Ġorient': 32, 'orient': 29, 'Ġoriented': 29, 'Ġdirection': 25, 'ĠOrient': 24}\n",
      "Ġvast {'Ġsize': 29, 'Ġsized': 29, 'Ġsizes': 29, 'Ġlarger': 27, 'ĠSize': 27, 'size': 26}\n",
      "cold {'Ġtemperature': 30, 'Ġtemperatures': 28, 'Ġwarmth': 27, 'Ġwarm': 27, 'Ġwarmer': 27, 'warm': 26}\n",
      "ĠSeveral {'Ġnumber': 35, 'number': 30, 'Number': 29, 'ĠNumber': 27, 'ĠNUM': 25, 'num': 25}\n",
      "Ġareas {'Ġarea': 32, 'Ġareas': 32, 'area': 29, 'Area': 27, 'ĠArea': 26, 'ĠAreas': 26}\n",
      "Ġmultiple {'multiple': 30, 'Ġmultiple': 29, 'Multiple': 28, 'ĠMultiple': 27, 'single': 26, 'Ġnumber': 26}\n",
      "Ġyesterday {'Ġday': 30, 'Ġdate': 28, 'Ġdates': 28, 'Ġdays': 28, 'days': 27, 'day': 27}\n",
      "Ġability {'Ġcapability': 31, 'Ġcapabilities': 30, 'Ġabilities': 29, 'Ġability': 29, 'ĠAbility': 27, 'Ability': 27}\n",
      "Ġfocus {'focus': 31, 'Ġfocus': 31, 'Ġfocused': 30, 'focused': 28, 'Focus': 27, 'Ġfoc': 26}\n",
      "Ġyouths {'Ġage': 33, 'Ġaged': 31, 'Ġages': 29, 'Age': 26, 'ĠAge': 26, 'Ġaging': 25}\n",
      "elong {'Ġlonger': 32, 'Ġlength': 30, 'Ġshorter': 28, 'Ġlengths': 28, 'Ġlongest': 26, 'Ġleng': 25}\n",
      "Ġproportions {'Ġproportions': 33, 'Ġpercentages': 32, 'Ġproportion': 29, 'Ġpercentage': 27, 'percent': 26, 'Ġpercent': 25}\n",
      "ĠYear {'Ġyear': 33, 'year': 31, 'Year': 30, 'ĠYear': 30, 'ĠYEAR': 26, 'Ġyearly': 25}\n",
      "Ġtimetable {'tim': 30, 'Ġtiming': 29, 'Ġtimetable': 28, 'Ġtimed': 28, 'Ġtim': 27, 'Tim': 25}\n",
      "Ġcapability {'Ġcapabilities': 33, 'Ġcapability': 33, 'Ġabilities': 29, 'Ġability': 27, 'Ġcapacity': 26, 'Ġcapacities': 26}\n",
      "ĠCold {'Ġtemperature': 29, 'Ġwarmer': 29, 'Ġtemperatures': 28, 'Ġcolder': 27, 'Ġwarmth': 27, 'Ġwarm': 26}\n",
      "Ġpricey {'Ġcosts': 28, 'Ġcost': 28, 'cost': 28, 'expensive': 27, 'Ġexpensive': 27, 'Ġpriced': 27}\n",
      "Versions {'version': 30, 'Ġversion': 29, 'Ġversions': 29, 'Version': 28, 'ĠVersion': 28, 'versions': 26}\n",
      "Ġteenage {'Ġage': 35, 'Ġages': 31, 'Ġaged': 29, 'Age': 28, 'ĠAge': 28, 'ĠAges': 24}\n",
      "Ġmasculinity {'Ġgender': 30, 'Ġmasculine': 30, 'Ġmasculinity': 28, 'gender': 27, 'Ġmale': 26, 'Ġmascul': 25}\n",
      "Depth {'depth': 33, 'Ġdepth': 32, 'ĠDepth': 30, 'Depth': 29, 'Ġdeeper': 27, 'Ġdepths': 26}\n",
      "Ġstatus {'Ġstatus': 43, 'status': 42, 'ĠStatus': 38, 'Status': 37, 'STAT': 21, 'ĠSTAT': 20}\n",
      "ĠTwo {'Ġnumber': 34, 'number': 31, 'Number': 29, 'ĠNumber': 28, 'Ġnumbers': 27, 'Ġmultiple': 24}\n",
      "ĠYesterday {'Ġday': 29, 'Ġdates': 28, 'Ġdate': 28, 'day': 27, 'date': 27, 'Ġdays': 26}\n",
      "Ġdeepen {'depth': 31, 'Ġdepth': 31, 'ĠDepth': 29, 'Ġdeeper': 29, 'Depth': 28, 'Ġdepths': 25}\n",
      "limited {'Ġlimited': 30, 'limited': 30, 'Limited': 28, 'Ġunlimited': 26, 'ĠLimited': 26, 'Ġlimits': 26}\n",
      "warm {'Ġtemperature': 31, 'ĠTemperature': 28, 'Ġcolder': 27, 'Ġtemperatures': 26, 'Ġwarmer': 26, 'Temperature': 26}\n",
      "completely {'Ġcomplete': 29, 'Ġfully': 28, 'Ġincomplete': 27, 'Ġpartial': 27, 'Complete': 27, 'Ġcompletely': 26}\n",
      "Nine {'Ġnumber': 33, 'number': 31, 'Number': 29, 'ĠNumber': 28, 'Ġnumbers': 28, 'NUM': 24}\n",
      "Ġmph {'Ġspeed': 32, 'speed': 31, 'Ġspeeds': 30, 'Speed': 27, 'Ġslower': 27, 'ĠSpeed': 27}\n",
      "ĠAges {'Ġages': 33, 'Ġage': 32, 'ĠAge': 29, 'Age': 28, 'ĠAges': 27, 'Ġaged': 25}\n",
      "Ġranking {'rank': 30, 'Ġrank': 30, 'Rank': 28, 'Ġranking': 27, 'ranked': 27, 'ranking': 26}\n",
      "Clock {'Ġclock': 29, 'Ġtimed': 29, 'Ġclocks': 28, 'Ġtim': 27, 'Ġtiming': 27, 'clock': 26}\n",
      "ĠAvailability {'Ġavailability': 32, 'availability': 30, 'ĠAvailability': 28, 'available': 28, 'Availability': 27, 'Available': 26}\n",
      "Ġtimeframe {'Ġtimeframe': 32, 'Ġtim': 29, 'Ġtime': 27, 'Ġtiming': 27, 'Ġtimelines': 25, 'tim': 25}\n",
      "address {'Ġaddress': 35, 'Ġaddresses': 33, 'address': 31, 'ĠAddress': 30, 'Address': 29, 'Ġaddressed': 24}\n",
      "Ġaffirmative {'Ġpositive': 32, 'Ġnegative': 29, 'positive': 28, 'negative': 28, 'ĠPositive': 28, 'ĠNegative': 26}\n",
      "Multiple {'multiple': 30, 'Ġmultiple': 29, 'Multiple': 29, 'ĠMultiple': 27, 'single': 27, 'Ġsingle': 26}\n",
      "Ġavailable {'available': 31, 'Ġavailable': 30, 'Ġavailability': 29, 'availability': 27, 'Available': 27, 'Ġunavailable': 26}\n",
      "ĠTim {'Ġtiming': 30, 'Ġtimed': 30, 'tim': 30, 'Ġtim': 30, 'ĠTim': 26, 'Tim': 25}\n",
      "Several {'Ġnumber': 35, 'number': 31, 'Number': 29, 'ĠNumber': 27, 'ĠNUM': 24, 'Ġmultiple': 24}\n",
      "Ġspots {'Ġlocations': 32, 'Ġlocation': 31, 'ĠLocation': 29, 'ĠLocations': 29, 'location': 28, 'Location': 27}\n",
      "true {'Ġfalse': 29, 'false': 28, 'Ġtrue': 27, 'ĠFalse': 27, 'False': 26, 'ĠTrue': 26}\n",
      "Ġcolourful {'Ġcolor': 30, 'Ġcolors': 28, 'Ġcolour': 27, 'color': 27, 'Color': 27, 'ĠColor': 26}\n",
      "pound {'Ġweight': 31, 'weight': 29, 'Ġweights': 29, 'ĠWeight': 28, 'Weight': 27, 'Ġweighing': 25}\n",
      "multiple {'multiple': 30, 'Ġmultiple': 29, 'Multiple': 28, 'ĠMultiple': 27, 'single': 25, 'Ġmultipl': 25}\n",
      "Ġtimer {'Ġtim': 28, 'tim': 27, 'Ġtimed': 27, 'Ġtime': 27, 'time': 27, 'Ġtimer': 26}\n",
      "Ġdimin {'Ġsize': 30, 'Ġsizes': 29, 'Ġsmaller': 29, 'Ġsized': 28, 'ĠSize': 27, 'sized': 25}\n",
      "MAX {'Ġmaximum': 30, 'maximum': 29, 'Maximum': 29, 'max': 28, 'Ġmax': 26, 'ĠMaximum': 26}\n",
      "ĠPink {'Ġcolor': 31, 'Ġcolour': 29, 'color': 28, 'colour': 26, 'Color': 26, 'Ġcolored': 25}\n",
      "Ġincomplete {'Ġcomplete': 30, 'Ġincomplete': 29, 'complete': 28, 'Complete': 28, 'Ġfull': 27, 'ĠComplete': 27}\n",
      "Ġwarmed {'Ġtemperature': 30, 'ĠTemperature': 28, 'Ġtemperatures': 27, 'Ġwarmer': 26, 'Ġcolder': 26, 'Ġwarm': 26}\n",
      "Ġplaces {'Ġlocations': 32, 'Ġlocation': 30, 'ĠLocations': 28, 'location': 27, 'ĠLocation': 27, 'Location': 26}\n",
      "Ġbalanced {'Ġbalanced': 30, 'balance': 29, 'balanced': 29, 'Ġbalance': 28, 'Balance': 27, 'Ġbalances': 26}\n",
      "Quantity {'Ġquantity': 29, 'amount': 29, 'Ġamount': 29, 'Ġquantities': 28, 'Ġamounts': 27, 'ĠAmount': 26}\n",
      "Ġsite {'location': 32, 'Ġlocation': 31, 'Location': 31, 'Ġlocations': 30, 'ĠLocations': 29, 'ĠLocation': 28}\n",
      "Ġenorm {'Ġsize': 29, 'Ġsized': 28, 'size': 28, 'ĠSize': 27, 'Ġsizes': 26, 'Size': 26}\n",
      "Energy {'Ġenergy': 36, 'energy': 33, 'Ġenergies': 30, 'ĠEnergy': 29, 'Energy': 28, 'Ġenergetic': 23}\n",
      "lb {'Ġweight': 29, 'Ġweights': 29, 'Weight': 28, 'weight': 27, 'weights': 27, 'Ġweigh': 26}\n",
      "Ġwoman {'Ġmale': 30, 'Ġgender': 29, 'Ġfemale': 27, 'gender': 27, 'male': 26, 'Ġmales': 25}\n",
      "Ġupper {'Ġlower': 30, 'Ġhigher': 29, 'Ġupper': 27, 'Ġlow': 27, 'Ġhighest': 26, 'Ġlowest': 26}\n",
      "Ġoccasionally {'Ġfrequency': 31, 'frequency': 31, 'Ġfrequencies': 30, 'Ġfrequent': 29, 'ĠFrequency': 28, 'ĠFrequ': 26}\n",
      "COLOR {'Ġcolor': 31, 'Ġcolour': 28, 'Ġcolors': 27, 'color': 27, 'Ġcolored': 26, 'Color': 26}\n",
      "Ġwidely {'Ġnarrower': 30, 'Ġwider': 29, 'Ġwidest': 29, 'Ġnarrow': 28, 'Ġwide': 28, 'Ġwidening': 24}\n",
      "ĠRequirements {'Ġrequirements': 34, 'Requirements': 31, 'ĠRequirements': 29, 'Ġrequirement': 28, 'requ': 25, 'required': 24}\n",
      "dim {'dim': 31, 'Ġdimension': 29, 'Ġdimensions': 28, 'dimension': 28, 'Dim': 26, 'ĠDimension': 26}\n",
      "tall {'Ġheight': 30, 'Ġtaller': 29, 'height': 29, 'tall': 28, 'Ġtall': 27, 'ĠHeight': 26}\n",
      "Ġ2009 {'Ġyear': 32, 'ĠYear': 30, 'Year': 30, 'year': 28, 'Ġdate': 26, 'ĠYEAR': 24}\n",
      "year {'Ġyear': 32, 'year': 30, 'Year': 29, 'ĠYear': 29, 'Ġyears': 26, 'ĠYEAR': 25}\n",
      "Ġscore {'Ġscore': 32, 'Ġscores': 30, 'score': 29, 'ĠScore': 27, 'Ġscoring': 26, 'ĠScores': 26}\n",
      "Ġnearer {'Ġcloser': 29, 'Ġnearer': 29, 'Ġdistance': 28, 'Ġdistances': 27, 'Ġclosest': 26, 'distance': 26}\n",
      "gender {'Ġgender': 30, 'gender': 29, 'Ġmale': 28, 'Ġgenders': 27, 'Gender': 27, 'ĠGender': 27}\n",
      "ĠStability {'Ġstability': 35, 'Ġstable': 33, 'stable': 31, 'Ġunstable': 29, 'ĠStability': 29, 'Ġinstability': 24}\n",
      "clock {'Ġtiming': 30, 'Ġtimed': 29, 'Ġtim': 29, 'tim': 28, 'Ġclock': 26, 'Ġclocks': 25}\n",
      "Ġcomplete {'Ġcomplete': 32, 'Ġincomplete': 31, 'complete': 30, 'Ġfull': 27, 'Complete': 26, 'ĠComplete': 25}\n",
      "Ġplaced {'Ġposition': 28, 'Ġplacement': 28, 'Ġplaced': 27, 'Ġpositioned': 27, 'position': 27, 'Ġpositioning': 26}\n",
      "Ġavailability {'Ġavailability': 32, 'availability': 29, 'available': 28, 'ĠAvailability': 28, 'Availability': 27, 'Ġavailable': 27}\n",
      "Ġheight {'Ġheight': 33, 'height': 31, 'ĠHeight': 29, 'Height': 28, 'Ġheights': 27, 'Ġtaller': 27}\n",
      "ĠFemin {'Ġgender': 30, 'gender': 28, 'Ġmale': 28, 'Ġgenders': 26, 'male': 25, 'Ġmasculine': 25}\n",
      "Ġtimeline {'Ġtimeline': 30, 'Ġtimelines': 29, 'Ġtimeframe': 28, 'Ġtiming': 27, 'Ġtime': 26, 'Ġtim': 25}\n",
      "ĠTrue {'Ġfalse': 29, 'ĠFalse': 28, 'false': 28, 'False': 27, 'Ġtrue': 26, 'ĠTrue': 26}\n",
      "required {'required': 31, 'Ġrequired': 27, 'ĠRequired': 27, 'requ': 26, 'needed': 26, 'Required': 26}\n",
      "Ġfully {'Ġfull': 31, 'Ġfully': 29, 'ĠFULL': 27, 'Ġincomplete': 26, 'Ġcomplete': 26, 'Ġpartial': 26}\n",
      "amount {'amount': 37, 'Ġamount': 35, 'ĠAmount': 33, 'Ġamounts': 33, 'Amount': 30, 'Ġquantity': 22}\n",
      "Ġmonth {'Ġmonth': 30, 'Ġmonths': 29, 'month': 26, 'months': 26, 'ĠMonth': 26, 'ĠMonths': 26}\n",
      "Ġrequirements {'Ġrequirements': 34, 'Requirements': 29, 'ĠRequirements': 29, 'Ġrequirement': 28, 'requ': 25, 'required': 25}\n",
      "ĠBrown {'Ġcolor': 30, 'Ġcolour': 29, 'color': 27, 'Ġcolored': 26, 'Ġcolors': 26, 'ĠColor': 26}\n",
      "MHz {'Ġfrequencies': 34, 'Ġfrequency': 34, 'frequency': 33, 'ĠFrequency': 28, 'MHz': 23, 'Ġspeeds': 23}\n",
      "Ġamber {'Ġcolor': 30, 'Ġcolour': 29, 'Ġcolors': 27, 'Ġcolored': 27, 'ĠColour': 26, 'Ġcolours': 25}\n",
      "Yesterday {'Ġdate': 29, 'Ġday': 28, 'Ġdates': 27, 'date': 27, 'day': 27, 'days': 26}\n",
      "ĠWoman {'Ġgender': 29, 'Ġmale': 29, 'gender': 28, 'male': 26, 'Gender': 26, 'Ġfemale': 26}\n",
      "ĠRatio {'Ġratios': 39, 'Ġratio': 38, 'ĠRatio': 33, 'rat': 30, 'Rat': 28, 'ĠRat': 22}\n",
      "Ġhours {'Ġhours': 32, 'ĠHours': 29, 'hours': 29, 'Ġhour': 29, 'Hours': 26, 'hour': 25}\n",
      "ĠStatus {'Ġstatus': 42, 'status': 42, 'ĠStatus': 38, 'Status': 37, 'STAT': 21, 'ĠSTAT': 20}\n",
      "Ġsimpler {'Ġcomplexity': 31, 'Ġsimpler': 31, 'Ġcomplexities': 26, 'Ġsimplicity': 26, 'complex': 26, 'Ġsimple': 25}\n",
      "hemoth {'Ġsize': 28, 'Ġsized': 27, 'Ġsmaller': 27, 'Ġlarger': 26, 'size': 26, 'Ġsizes': 26}\n",
      "Minimum {'Ġminimum': 30, 'minimum': 29, 'maximum': 28, 'Ġmaximum': 27, 'max': 27, 'ĠMinimum': 25}\n",
      "ĠDegree {'degree': 36, 'Ġdegrees': 33, 'ĠDegree': 32, 'Ġdegree': 32, 'deg': 27, 'ĠDeg': 23}\n",
      "Ġmacro {'Ġsize': 29, 'Ġsized': 28, 'Ġsizes': 28, 'Ġsmaller': 26, 'Ġlarger': 25, 'sized': 25}\n",
      "Grade {'Ġgrade': 32, 'grade': 31, 'Ġgrades': 29, 'Grade': 26, 'ĠGrade': 26, 'degree': 24}\n",
      "Ġpowerless {'power': 31, 'Ġpower': 30, 'Power': 28, 'ĠPower': 27, 'ĠPOWER': 26, 'powerful': 25}\n",
      "grade {'Ġgrade': 33, 'grade': 32, 'Ġgrades': 28, 'Grade': 26, 'ĠGrade': 26, 'degree': 23}\n",
      "Ġgrand {'Ġlarger': 29, 'Ġsize': 27, 'Ġbigger': 27, 'Ġsmaller': 27, 'Ġsizes': 26, 'Ġsized': 25}\n",
      "Ġplace {'Ġlocation': 30, 'Ġlocations': 30, 'location': 28, 'ĠLocations': 26, 'ĠLocation': 26, 'Location': 26}\n",
      "OTAL {'total': 32, 'Ġtotal': 31, 'Total': 29, 'ĠTOTAL': 29, 'ĠTotal': 28, 'Ġtotals': 28}\n",
      "Mini {'Ġsmaller': 30, 'Ġsized': 28, 'Ġsizes': 28, 'Ġsize': 27, 'Ġlarger': 26, 'sized': 25}\n",
      "Ġreason {'Ġreasons': 32, 'Ġreason': 29, 'Reason': 28, 'reason': 27, 'ĠReasons': 27, 'Ġmotives': 25}\n",
      "Ġsideways {'Ġdirection': 32, 'direction': 30, 'Ġdirections': 29, 'Ġdirectional': 26, 'Ġorientation': 26, 'Ġsideways': 26}\n",
      "Ġminimum {'Ġminimum': 30, 'minimum': 29, 'maximum': 27, 'Ġmaximum': 27, 'max': 26, 'ĠMinimum': 25}\n",
      "Ġpriorities {'Ġpriorities': 36, 'priority': 34, 'Ġpriority': 33, 'ĠPriority': 29, 'Ġpriorit': 27, 'Ġprioritize': 24}\n",
      "å¥³ {'Ġmale': 29, 'Ġgender': 28, 'Ġfemale': 27, 'male': 27, 'gender': 26, 'Ġmales': 25}\n",
      "Ġgrow {'Ġsize': 30, 'Ġsizes': 28, 'size': 28, 'Size': 27, 'Ġsized': 27, 'ĠSize': 26}\n",
      "Hot {'Ġtemperature': 31, 'Ġtemperatures': 28, 'ĠTemperature': 28, 'Temperature': 27, 'Ġwarm': 25, 'Ġcold': 25}\n",
      "Ġpowerful {'powerful': 29, 'power': 28, 'Ġpowerful': 27, 'Ġstrength': 26, 'Ġweaker': 26, 'strength': 26}\n",
      "ĠPricing {'Ġprice': 27, 'Ġpricing': 27, 'Ġpriced': 27, 'price': 27, 'Ġprices': 26, 'ĠPricing': 26}\n",
      "Ġseveral {'Ġnumber': 34, 'number': 29, 'Number': 28, 'ĠNumber': 26, 'Ġmultiple': 25, 'ĠNUM': 24}\n",
      "Ġreasons {'Ġreasons': 33, 'Ġmotives': 27, 'ĠReasons': 27, 'Reason': 27, 'Ġreason': 26, 'Ġmotivations': 26}\n",
      "Ġrecently {'Ġdates': 31, 'Ġdate': 31, 'Ġdated': 30, 'date': 27, 'dates': 27, 'ĠDate': 25}\n",
      "Ġnumbered {'Ġnumbers': 30, 'Ġnumbered': 29, 'Ġnumbering': 27, 'Numbers': 26, 'number': 25, 'ĠNumbers': 25}\n",
      "Ġeight {'Ġnumber': 33, 'number': 31, 'Number': 28, 'ĠNumber': 28, 'Ġnumbers': 27, 'ĠNUM': 24}\n",
      "Ġclocks {'Ġtimed': 30, 'Ġclocks': 29, 'Ġtim': 28, 'Ġclock': 27, 'Ġtime': 25, 'Ġtiming': 25}\n",
      "dark {'Ġdarker': 29, 'Ġdarkness': 29, 'Ġdark': 28, 'Ġdarkened': 26, 'dark': 26, 'Ġdarkest': 25}\n",
      "Ġdangers {'Ġrisks': 27, 'Ġdanger': 27, 'Ġdangers': 27, 'safe': 26, 'risk': 26, 'Ġsafe': 26}\n",
      "region {'Ġregion': 30, 'region': 27, 'Ġregions': 27, 'Region': 27, 'Ġarea': 26, 'ĠRegion': 26}\n",
      "Ġlimitation {'Ġlimitations': 29, 'limited': 28, 'Ġlimitation': 27, 'Ġlimits': 26, 'limit': 26, 'Ġlimit': 25}\n",
      "ĠNUM {'Ġnumbers': 29, 'Number': 27, 'number': 26, 'ĠNumber': 26, 'NUM': 26, 'ĠNUM': 26}\n",
      "Ġdarkness {'Ġdarkness': 29, 'Ġdarker': 28, 'Ġdark': 27, 'Ġdarkened': 26, 'Ġdarkest': 25, 'dark': 25}\n",
      "Two {'Ġnumber': 34, 'number': 31, 'Number': 28, 'ĠNumber': 27, 'Ġnumbers': 26, 'Ġmultiple': 23}\n",
      "ĠYouth {'Ġage': 33, 'Ġages': 29, 'Ġaged': 29, 'ĠAge': 26, 'Age': 25, 'Ġaging': 24}\n",
      "Ġpriority {'priority': 32, 'Ġpriority': 32, 'Ġpriorities': 30, 'ĠPriority': 28, 'Ġpriorit': 26, 'highest': 23}\n",
      "energy {'Ġenergy': 35, 'energy': 33, 'Ġenergies': 30, 'ĠEnergy': 28, 'Energy': 28, 'Ġenergetic': 23}\n",
      "Ġfull {'Ġfull': 33, 'ĠFULL': 27, 'ĠFull': 27, 'Ġfuller': 26, 'Full': 26, 'full': 25}\n",
      "Ġoft {'Ġfrequency': 33, 'frequency': 32, 'ĠFrequency': 31, 'Ġfrequencies': 31, 'ĠFrequ': 26, 'Ġfrequent': 25}\n",
      "Ġunlimited {'Ġunlimited': 30, 'Ġlimited': 27, 'Ġlimits': 27, 'limited': 27, 'Ġlimit': 26, 'limit': 26}\n",
      "Ġ2012 {'Ġyear': 31, 'ĠYear': 30, 'Year': 30, 'year': 27, 'Ġdate': 25, 'Ġdates': 25}\n",
      "Ġyoungster {'Ġage': 33, 'Ġages': 30, 'Ġaged': 28, 'Ġolder': 25, 'ĠAge': 25, 'Age': 25}\n",
      "Ġsexes {'Ġgender': 29, 'Ġmale': 28, 'Ġgenders': 26, 'Ġsexes': 26, 'gender': 26, 'Ġfemale': 25}\n",
      "ĠElev {'Level': 28, 'ĠLevel': 27, 'level': 26, 'Ġheights': 26, 'Ġlevel': 26, 'levels': 26}\n",
      "ĠTimeline {'Ġtimeline': 29, 'Ġtimelines': 28, 'Ġtiming': 28, 'Ġtim': 27, 'tim': 26, 'Ġtimeframe': 26}\n",
      "ĠEnergy {'Ġenergy': 35, 'energy': 32, 'Ġenergies': 30, 'ĠEnergy': 28, 'Energy': 28, 'Ġenerg': 22}\n",
      "Ġcomplexity {'Ġcomplexity': 35, 'Ġcomplexities': 30, 'complex': 26, 'Ġsimplicity': 26, 'ĠComplex': 25, 'Ġcomplex': 25}\n",
      "Ġteenagers {'Ġage': 34, 'Ġages': 29, 'Ġaged': 28, 'Age': 26, 'ĠAge': 26, 'Ġyounger': 24}\n",
      "hour {'Ġhours': 30, 'Ġhour': 29, 'hours': 28, 'hour': 27, 'ĠHours': 27, 'Hours': 24}\n",
      "Years {'Ġyears': 29, 'Ġyear': 28, 'years': 27, 'Ġdecades': 26, 'Ġages': 25, 'year': 25}\n",
      "Ġfocused {'Ġfocused': 30, 'Ġfocus': 28, 'focused': 28, 'focus': 28, 'Ġfoc': 26, 'Focus': 25}\n",
      "Ġrank {'Ġrank': 33, 'rank': 31, 'Rank': 28, 'Ġranks': 26, 'ĠRank': 26, 'Ġranked': 24}\n",
      "Ġregions {'Ġregion': 28, 'Ġregions': 27, 'region': 26, 'Region': 26, 'Ġlocation': 26, 'Ġarea': 26}\n",
      "Ġnum {'Number': 28, 'Ġnumber': 28, 'Ġnumbers': 27, 'number': 27, 'ĠNumber': 27, 'ĠNUM': 25}\n",
      "Ġnumer {'Ġnumbers': 31, 'ĠNumbers': 27, 'Ġnumber': 27, 'ĠNUM': 26, 'ĠNumber': 26, 'Numbers': 25}\n",
      "Ġtoday {'Ġdate': 28, 'Ġday': 28, 'Ġdates': 27, 'date': 26, 'day': 26, 'Day': 26}\n",
      "ĠScore {'Ġscore': 31, 'Ġscores': 29, 'score': 28, 'ĠScore': 26, 'Ġscoring': 25, 'Ġscored': 25}\n",
      "Ġproportion {'Ġpercentages': 30, 'Ġproportions': 29, 'Ġproportion': 29, 'Ġpercentage': 28, 'percent': 26, 'Ġpercent': 25}\n",
      "Ġaccelerated {'Ġspeed': 28, 'speed': 27, 'Ġslower': 27, 'Ġspeeds': 27, 'Ġslow': 26, 'slow': 25}\n",
      "balanced {'Ġbalanced': 28, 'balance': 28, 'balanced': 28, 'Ġbalance': 28, 'Balance': 26, 'ĠBalance': 25}\n",
      "Ġoverpower {'Ġstrength': 29, 'strength': 28, 'power': 27, 'Ġstronger': 27, 'Ġweaker': 26, 'Ġpower': 26}\n",
      "Ġ2011 {'Ġyear': 30, 'ĠYear': 29, 'Year': 29, 'year': 27, 'Ġdates': 26, 'Ġdate': 25}\n",
      "Ġratings {'Ġrating': 30, 'Ġratings': 29, 'Ġrated': 29, 'ĠRatings': 26, 'rating': 25, 'Rating': 25}\n",
      "ĠLimited {'limited': 29, 'Limited': 28, 'Ġlimited': 28, 'Ġlimits': 26, 'ĠLimited': 25, 'ĠLIMITED': 25}\n",
      "Ġcapabilities {'Ġcapabilities': 34, 'Ġcapability': 31, 'Ġabilities': 29, 'Ġability': 25, 'Ability': 24, 'Ġcapacities': 24}\n",
      "Ġschedule {'Ġschedules': 34, 'Ġschedule': 34, 'Ġscheduling': 30, 'Ġtimetable': 25, 'ĠSchedule': 25, 'ĠSched': 24}\n",
      "ĠMass {'Ġweight': 32, 'weight': 29, 'Weight': 27, 'Ġweights': 27, 'ĠWeight': 24, 'Ġweigh': 24}\n",
      "Ġhour {'Ġhours': 30, 'Ġhour': 29, 'ĠHours': 28, 'hours': 27, 'hour': 26, 'Hours': 24}\n",
      "Ġlimitations {'Ġlimitations': 31, 'Ġlimitation': 28, 'limited': 27, 'Ġlimits': 27, 'Ġlimited': 25, 'Ġlimit': 25}\n",
      "Ġolds {'Ġage': 32, 'Ġaged': 27, 'Age': 27, 'Ġages': 27, 'Ġyounger': 25, 'ĠAge': 25}\n",
      "minimum {'Ġminimum': 30, 'minimum': 29, 'ĠMinimum': 26, 'Ġmaximum': 26, 'maximum': 26, 'max': 24}\n",
      "Ġregion {'Ġregion': 30, 'Ġregions': 27, 'region': 27, 'Region': 27, 'ĠRegion': 26, 'Ġarea': 26}\n",
      "Ġtemp {'Ġtemperature': 30, 'Ġtemperatures': 28, 'ĠTemperature': 28, 'Ġcolder': 26, 'tem': 25, 'Temperature': 25}\n",
      "ousands {'number': 30, 'Ġnumber': 30, 'Number': 29, 'Ġnumbers': 27, 'ĠNumber': 25, 'NUM': 24}\n",
      "Ġfees {'Ġfees': 31, 'Ġfee': 30, 'Ġcosts': 29, 'Ġcost': 28, 'cost': 26, 'ĠCosts': 24}\n",
      "Days {'Ġdays': 31, 'days': 30, 'Days': 29, 'ĠDays': 27, 'Ġdates': 25, 'day': 25}\n",
      "ĠWhites {'Ġcolor': 31, 'ĠColor': 27, 'color': 27, 'Ġcolour': 27, 'Color': 26, 'Ġcolored': 26}\n",
      "Ġheat {'Ġtemperature': 30, 'Ġtemperatures': 29, 'ĠTemperature': 27, 'Ġwarmer': 25, 'Temperature': 25, 'Ġwarm': 24}\n",
      "Ġrequire {'required': 29, 'Ġrequired': 28, 'ĠRequired': 27, 'Required': 26, 'Ġrequire': 25, 'require': 25}\n",
      "oliath {'Ġsizes': 29, 'Ġsized': 29, 'Ġsize': 29, 'Ġsmaller': 27, 'ĠSize': 27, 'Size': 24}\n",
      "FontSize {'Ġsizes': 29, 'ĠSize': 28, 'size': 27, 'Ġsize': 27, 'Size': 26, 'Ġsized': 26}\n",
      "ĠNumerous {'Ġnumber': 31, 'number': 30, 'Number': 29, 'Ġnumbers': 26, 'Ġfewer': 26, 'ĠNumber': 25}\n",
      "ĠVersion {'Ġversion': 30, 'version': 30, 'Ġversions': 28, 'ĠVersion': 27, 'Version': 27, 'VERSION': 24}\n",
      "Ġfee {'Ġfee': 32, 'Ġfees': 31, 'Ġcost': 27, 'Ġcosts': 27, 'cost': 26, 'ĠFees': 24}\n",
      "Ġefficiently {'Ġefficiency': 31, 'Ġefficient': 29, 'Ġeffic': 28, 'Ġinefficient': 27, 'ĠEfficiency': 26, 'efficient': 25}\n",
      "Ġ2010 {'Ġyear': 31, 'ĠYear': 29, 'Year': 29, 'year': 28, 'Ġdate': 24, 'ĠYEAR': 24}\n",
      "Ġcomplexities {'Ġcomplexity': 34, 'Ġcomplexities': 32, 'Ġsimplicity': 26, 'complex': 25, 'Ġcomplex': 24, 'Ġcomplicated': 23}\n",
      "ĠPriority {'priority': 32, 'Ġpriority': 31, 'Ġpriorities': 30, 'ĠPriority': 29, 'Ġpriorit': 26, 'highest': 23}\n",
      "Pink {'Ġcolor': 30, 'Ġcolour': 28, 'color': 28, 'colour': 26, 'Ġcolored': 25, 'Color': 25}\n",
      "Ġrestrictions {'Ġrestrictions': 31, 'Ġunrestricted': 27, 'Ġrestriction': 27, 'Ġrestricted': 26, 'Ġlimitations': 25, 'Ġconstraints': 25}\n",
      "Ġcapacity {'Ġcapacity': 35, 'Ġcapacities': 34, 'capacity': 33, 'ĠCapacity': 31, 'Ġcapability': 24, 'Ġcapabilities': 24}\n",
      "Ġacceleration {'speed': 29, 'Ġspeed': 28, 'Ġslow': 26, 'slow': 26, 'Speed': 26, 'Ġslower': 26}\n",
      "ĠPace {'Ġslower': 29, 'Ġspeed': 28, 'Ġslow': 27, 'speed': 26, 'slow': 25, 'Ġspeeds': 25}\n",
      "ĠComplex {'Ġcomplexity': 33, 'complex': 29, 'Ġcomplex': 28, 'ĠComplex': 27, 'Ġcomplexities': 27, 'Ġcomplicated': 24}\n",
      "Ġscores {'Ġscores': 31, 'Ġscore': 30, 'score': 28, 'ĠScores': 26, 'ĠScore': 26, 'Ġscoring': 25}\n",
      "ĠReasons {'Ġreasons': 31, 'ĠReasons': 27, 'Ġmotives': 27, 'Ġmotivations': 26, 'Reason': 26, 'Ġreason': 26}\n",
      "Ġtrue {'Ġfalse': 28, 'false': 27, 'Ġtrue': 26, 'ĠFalse': 26, 'bool': 25, 'False': 25}\n",
      "status {'Ġstatus': 41, 'status': 41, 'ĠStatus': 37, 'Status': 36, 'STAT': 21, 'ĠSTAT': 20}\n",
      "Hour {'Ġhours': 30, 'Ġhour': 29, 'hours': 27, 'ĠHours': 27, 'hour': 27, 'Hours': 24}\n",
      "Ġused {'Ġuse': 29, 'Ġuses': 29, 'use': 27, 'Ġutil': 25, 'Ġutilize': 25, 'util': 25}\n",
      "Ġtier {'Level': 29, 'level': 29, 'Ġlevel': 28, 'ĠLevel': 26, 'levels': 26, 'Ġlevels': 25}\n",
      "ĠMHz {'Ġfrequencies': 34, 'Ġfrequency': 33, 'frequency': 33, 'ĠFrequency': 28, 'MHz': 24, 'ĠMHz': 23}\n",
      "ĠArea {'Ġarea': 30, 'area': 29, 'Ġareas': 28, 'Area': 28, 'ĠArea': 26, 'ĠAreas': 24}\n",
      "Ġsix {'Ġnumber': 33, 'number': 31, 'Number': 28, 'ĠNumber': 27, 'Ġnumbers': 26, 'ĠNUM': 23}\n"
     ]
    }
   ],
   "source": [
    "show_topk.indices_fn = tokenizer.convert_ids_to_tokens\n",
    "ans1 = []\n",
    "for i in values.mean(1).topk(1000).indices.tolist():\n",
    "    ans = tokenizer.convert_ids_to_tokens(i), show_topk(values[i][:6].long(), indices[i][:6])\n",
    "#     ans1.append([ans,i])\n",
    "\n",
    "    print(tokenizer.convert_ids_to_tokens(i), show_topk(values[i][:6].long(), indices[i][:6]))"
   ]
  },
  {
   "cell_type": "code",
   "execution_count": 2254,
   "id": "b77e6029",
   "metadata": {},
   "outputs": [
    {
     "name": "stdout",
     "output_type": "stream",
     "text": [
      "Ġtwo\n"
     ]
    },
    {
     "data": {
      "text/plain": [
       "{'Ġone': 24.855,\n",
       " 'ĠOne': 22.681,\n",
       " 'ĠONE': 21.291,\n",
       " 'One': 18.157,\n",
       " 'Ġ1': 17.088,\n",
       " 'ĠAES': 14.547,\n",
       " 'Ġ111': 13.401,\n",
       " 'Ġsingle': 13.278,\n",
       " 'ĠSingle': 12.865,\n",
       " '2': 12.689,\n",
       " 'one': 12.552,\n",
       " 'Ġdouble': 11.956,\n",
       " 'Ġ2': 11.948,\n",
       " 'Ġsecond': 11.904,\n",
       " 'ĠPAT': 11.855,\n",
       " 'ĠJanuary': 11.801,\n",
       " '1': 11.693,\n",
       " 'Ġsing': 11.555,\n",
       " 'ĠRead': 11.532,\n",
       " 'Ġ1911': 11.428}"
      ]
     },
     "execution_count": 2254,
     "metadata": {},
     "output_type": "execute_result"
    }
   ],
   "source": [
    "i = tokenizer.encode(' two')[0]; \n",
    "print(tokenizer.convert_ids_to_tokens(i))\n",
    "show_topk(*m[i].topk(20))"
   ]
  },
  {
   "cell_type": "code",
   "execution_count": null,
   "id": "45ed7510",
   "metadata": {},
   "outputs": [],
   "source": [
    "# ans1"
   ]
  },
  {
   "cell_type": "code",
   "execution_count": null,
   "id": "c168801f",
   "metadata": {},
   "outputs": [],
   "source": []
  },
  {
   "cell_type": "code",
   "execution_count": 9,
   "id": "052c1e0f",
   "metadata": {},
   "outputs": [],
   "source": [
    "prompt_token = 'Ġ!'; prompt_id = tokenizer._convert_token_to_id(prompt_token)\n",
    "bop_str = 'Instruction: '; bop_id = tokenizer.encode(bop_str)[0]  # 'Inst'\n",
    "eop_str = '. For example:'; eop_id = tokenizer.encode(eop_str)[2] # 'Ġexample'\n",
    "bos_id = tokenizer._convert_token_to_id('Ġ->')\n",
    "eos_id = tokenizer._convert_token_to_id('Ċ')\n",
    "\n",
    "\n",
    "class CHILDDataset(Dataset):\n",
    "    def __init__(self, input_strs, tokenizer):\n",
    "        if tokenizer.pad_token is None: tokenizer.pad_token = '!'\n",
    "        self.inputs = tokenizer.batch_encode_plus(input_strs, add_special_tokens=False, padding=True, return_tensors='pt')#长的截，短的补\n",
    "        input_ids = self.inputs.input_ids\n",
    "        self.labels = torch.ones_like(input_ids) * (-100)\n",
    "\n",
    "        for bi in range(input_ids.size(0)): \n",
    "            bop_idx = (input_ids[bi] == bop_id).nonzero().squeeze(1) #prompt\n",
    "            eop_idx = (input_ids[bi] == eop_id).nonzero().squeeze(1) #context\n",
    "\n",
    "            if len(bop_idx) > 0:\n",
    "                assert len(bop_idx) == 1 and len(eop_idx) == 1\n",
    "                bop_idx, eop_idx = bop_idx.item(), eop_idx.item() #取出单元素张量的元素值并返回该值，保持原元素类型不变\n",
    "                #bop: 0   eop:6\n",
    "                input_ids[bi, bop_idx: eop_idx + 2] *= -1  # use prompt embedding for prompt tokens\n",
    "  \n",
    "            bos_indices = (input_ids[bi] == bos_id).nonzero().squeeze(1)\n",
    "#             print(\"bos_indices:\",bos_indices)\n",
    "            eos_indices = (input_ids[bi] == eos_id).nonzero()[-len(bos_indices):].squeeze(1) #每一位 eos都比bos大2\n",
    "#             print(\"eos_indices:\",eos_indices)\n",
    "            for i, (bos_i, eos_i) in enumerate(zip(bos_indices.tolist(), eos_indices.tolist())):\n",
    "                assert eos_i > bos_i + 1\n",
    "                if i >= 0:  #zero-shot\n",
    "                    self.labels[bi, bos_i + 1: eos_i] = input_ids[bi, bos_i + 1: eos_i] \n",
    "        \n",
    "        \n",
    "    def re_input(self):\n",
    "        return self.inputs['input_ids']\n",
    "        \n",
    "    def __len__(self):\n",
    "        return len(self.inputs['input_ids'])\n",
    "\n",
    "    def __getitem__(self, i):\n",
    "        return {'input_ids': self.inputs['input_ids'][i],  #输入\n",
    "                'attention_mask': self.inputs['attention_mask'][i],\n",
    "                'labels': self.labels[i]}   #结果"
   ]
  },
  {
   "cell_type": "code",
   "execution_count": 10,
   "id": "2b322160",
   "metadata": {},
   "outputs": [
    {
     "data": {
      "text/plain": [
       "(4613, 198)"
      ]
     },
     "execution_count": 10,
     "metadata": {},
     "output_type": "execute_result"
    }
   ],
   "source": [
    "bos_id,eos_id"
   ]
  },
  {
   "cell_type": "code",
   "execution_count": 11,
   "id": "696ea332",
   "metadata": {},
   "outputs": [],
   "source": [
    "from child_utils import *\n",
    "torch.set_printoptions(threshold=np.inf)"
   ]
  },
  {
   "cell_type": "code",
   "execution_count": 12,
   "id": "56fcd441",
   "metadata": {},
   "outputs": [],
   "source": [
    "class WrappedEmbedding(nn.Module):\n",
    "    def __init__(self,  \n",
    "                wte: nn.Embedding,  #正常向量\n",
    "                prompt_id: int = None,\n",
    "                prompt_len: int = 10, \n",
    "                random_range: float = 0.5,\n",
    "                initialize_from_vocab: bool = True):\n",
    "        super(WrappedEmbedding, self).__init__()\n",
    "#         self.wte = wte\n",
    "#         self.prompt_id = prompt_id\n",
    "#         self.prompt_len = prompt_len\n",
    "        self.__dict__.update(locals()); del self.self #locals()以字典类型返回当前位置的全部局部变量\n",
    "        if self.prompt_id is not None: #prompt_embedding prompt词向量\n",
    "            self.prompt_embedding = nn.parameter.Parameter( #将一个不可训练的类型Tensor转换成可以训练的类型parameter\n",
    "                self.initialize_embedding(random_range, initialize_from_vocab)).to(self.wte.weight.device) #在-0.5-0.5中随机取值初始化\n",
    "        else:\n",
    "            self.prompt_embedding = nn.Embedding(self.prompt_len, self.wte.weight.size(1)).to(self.wte.weight.device)\n",
    "                                        #词典大小（总共输入多少词） 嵌入向量维度（多少维表示一个符号）\n",
    "            \n",
    "            assert initialize_from_vocab\n",
    "            self.init_prompt_embedding_()  #将wte的weight值作为初始化\n",
    "#             self.prompt_embedding.weight.data = self.initialize_embedding(random_range, initialize_from_vocab)     \n",
    " \n",
    "    def initialize_embedding(self, random_range: float = 0.5, initialize_from_vocab: bool = True):\n",
    "        if initialize_from_vocab: return self.wte.weight[:self.prompt_len].clone().detach() #返回一个新的tensor，新的tensor和原来的tensor共享数据内存，但不涉及梯度计算\n",
    "        return torch.FloatTensor(self.prompt_len, self.wte.weight.size(1)).uniform_(-random_range, random_range) #产生随机数\n",
    "    \n",
    "    def init_prompt_embedding_(self):\n",
    "#         print(self.wte.weight)\n",
    "        self.prompt_embedding.weight.data[:] = self.wte.weight[:self.prompt_len]\n",
    "\n",
    "        \n",
    "    def forward(self, input_ids):\n",
    "        if self.prompt_id is not None:\n",
    "            input_embeds = self.wte(input_ids)\n",
    "            input_embeds[input_ids == self.prompt_id] = self.prompt_embedding.expand(input_embeds.size(0), -1, -1)\n",
    "        else: # adapted from cpm-2\n",
    "            prompt_mask = input_ids < 0  #返回bool类型\n",
    "#             print(\"prompt_mask:\",prompt_mask.shape)\n",
    "            prompt_ids = -input_ids * prompt_mask #将prompt的值变为正数，其他置零\n",
    "#             print(\"prompt_ids:\",prompt_ids)\n",
    "#             print(prompt_ids < self.prompt_len)\n",
    "#             print(prompt_ids)\n",
    "            assert torch.all(prompt_ids < self.prompt_len)\n",
    "#             print(self.prompt_embedding(prompt_ids).shape)\n",
    "            p_embeds = self.prompt_embedding(prompt_ids) * prompt_mask.float().unsqueeze(-1)\n",
    "#             print(\"p_embeds:\",p_embeds.shape)\n",
    "            input_ids = input_ids * ~prompt_mask\n",
    "            w_embeds = self.wte(input_ids) * (~prompt_mask).float().unsqueeze(-1)\n",
    "#             print(\"w_embeds:\",w_embeds.shape)\n",
    "            input_embeds = w_embeds + p_embeds \n",
    "#         print(input_embeds)\n",
    "        return input_embeds"
   ]
  },
  {
   "cell_type": "code",
   "execution_count": 13,
   "id": "44b17b42",
   "metadata": {},
   "outputs": [],
   "source": [
    "# adapted from cpm-2: https://github.com/TsinghuaAI/CPM-2-Finetune/blob/master/utils.py#L133-L164    #不训练模型参数，只训练prompt_embading，这个函数是取这些参数\n",
    "def get_params_for_prompt_optimization(module: nn.Module): \n",
    "    params = []\n",
    "    for t in module.named_modules():\n",
    "        if \"prompt_embedding\" in t[0]:\n",
    "            params.append({'params': [p for p in list(t[1]._parameters.values()) if p is not None]})\n",
    "    for t in module.named_parameters():\n",
    "        if \"prompt\" not in t[0]:\n",
    "            t[1].requires_grad_(False)    \n",
    "    return params\n",
    "\n",
    "def create_optimizer(model, training_args):\n",
    "    from torch.nn.parallel.distributed import DistributedDataParallel as DDP\n",
    "    while isinstance(model, (DDP, )): model = model.module\n",
    "        \n",
    "    we.init_prompt_embedding_()\n",
    "    param_groups = get_params_for_prompt_optimization(model)\n",
    "    optimizer = AdamW(param_groups, lr=training_args.learning_rate, \n",
    "                      betas=(training_args.adam_beta1, training_args.adam_beta2),eps=training_args.adam_epsilon)\n",
    "    return optimizer"
   ]
  },
  {
   "cell_type": "code",
   "execution_count": 14,
   "id": "39b4f350",
   "metadata": {
    "scrolled": true
   },
   "outputs": [],
   "source": [
    "# wte = model.get_input_embeddings() #提取 embedding 中的 词向量部分\n",
    "# if hasattr(wte, 'wte'): wte = wte.wte  # already been wrapped\n",
    "# we = WrappedEmbedding(wte, prompt_len=20000)\n",
    "# model.set_input_embeddings(we) #为词向量赋值"
   ]
  },
  {
   "cell_type": "code",
   "execution_count": 15,
   "id": "ae3bb45f",
   "metadata": {},
   "outputs": [],
   "source": [
    "def verbalize(obj):\n",
    "    if type(obj) == bool: return 'Yes' if obj else 'No'\n",
    "    return str(obj)\n",
    "\n",
    "def list2str(l): return ' '.join(str(i) for i in l)\n",
    "def pairs2str(pairs): return ', '.join(str(k) + ': ' + str(v) for k, v in pairs)\n",
    "\n",
    "def make_context_str(cxt):\n",
    "    if type(cxt) == list:\n",
    "        return pairs2str(cxt) if type(cxt[0]) == tuple and len(cxt[0]) == 2 else list2str(cxt)\n",
    "    if type(cxt) == tuple:\n",
    "        return '; '.join(make_context_str(c) for c in cxt)  # 用分号分隔context的不同部分\n",
    "    \n",
    "def make_query_str(instruction, query):\n",
    "    if instruction is None and query is None: return ''\n",
    "    s = '.'\n",
    "    if instruction is not None: s = s + ' ' + instruction\n",
    "    if query is not None:\n",
    "        if type(query) in [int, bool, str]: query = [query]\n",
    "        if type(query) == dict:# and list(query.keys())[0] != \"CS\"):  # by nrk\n",
    "            s = s + ' ' + '{' + ','.join([' replace %s with %s' % (str(k), str(v)) for k, v in query.items()]) + ' }'\n",
    "        if type(query) in [list, tuple]:\n",
    "            s = s + ' ' + ' '.join([list2str(i) if type(i) == list else str(i) for i in query])\n",
    "    return s\n",
    "\n",
    "def make_example_str(example, query2str):\n",
    "    instruction, cxt, query, ans = example\n",
    "    if type(ans) not in [Sequence, list]: ans = [ans]\n",
    "    ans = [verbalize(a) for a in ans]\n",
    "#     return '%s -> %s' % (''.join(l[0]) + make_query_str(instruction if with_instruction else None, query), ' '.join(ans))  # by nrk\n",
    "#     return '%s -> %s' % (' '.join(l) + make_query_str(instruction if with_instruction else None, query), ' '.join(ans))  # by XD\n",
    "#     return '%s -> %s' % (make_context_str(cxt) + make_query_str(instruction if with_instruction else None, query[0]), ' '.join(ans))\n",
    "    return '%s -> %s' % (make_context_str(cxt) + query2str(query), ' '.join(ans))\n",
    "\n",
    "\n",
    "def sample_rand_len(vocab, k): return sample(vocab, k=randint(1, k))"
   ]
  },
  {
   "cell_type": "code",
   "execution_count": 27,
   "id": "df63ee7d",
   "metadata": {},
   "outputs": [],
   "source": [
    "def promptize(s):\n",
    "#     return prompt_token * len(s.split())\n",
    "    return bop_str + s + eop_str\n",
    "\n",
    "courses_vocab=[\"Sql\",\"Math\",\"English\",\"Chinese\",\"Art\",\"Music\",\"History\",\"Biology\",\"Chemistry\",\"Physics\",\"Geography\"]\n",
    "all_vocab = [\"apple\",\"pear\",\"peach\",\"grape\",\"banana\",\"pineapple\",\"lemon\",\"strawberry\",\"cola\",\"juice\",\"coffee\",\"milk\",\"wine\",\"beer\",\"whisky\",\"vodka\",\"brandy\"]\n",
    "solid_vocab=[\"apple\",\"pear\",\"peach\",\"grape\",\"banana\",\"pineapple\",\"lemon\",\"strawberry\"]\n",
    "liquid_vocab=[\"cola\",\"juice\",\"coffee\",\"milk\",\"wine\",\"beer\",\"whisky\",\"vodka\",\"brandy\"]\n",
    "names_vocab =  [i for i in string.ascii_uppercase]\n",
    "depts_vocab = [\"CS\",\"Chi\",\"Eng\",\"Mat\"]\n",
    "sl = [\"solid\"]*len(solid_vocab)+[\"liquid\"]*len(liquid_vocab)\n",
    "sl_vocab = dict(zip(all_vocab,sl))\n",
    "toys = [\"ball\",\"doll\",\"puppet\",\"weiqi\",\"chess\",\"slide\",\"diabolo\",\"plasticine\",\"tumbler\"]\n",
    "                                              #滑梯     空竹      橡皮泥      不倒翁\n",
    "boys = [\"Alex\",\"Dylan\",\"Daniel\",\"Patrick\",\"Austin\",\"Harrison\",\"Tom\",\"Neil\"]\n",
    "girls = [\"Ashley\",\"jessica\",\"Sarah\",\"Amanda\",\"Nicole\",\"Katherine\",\"Anne\",\"Eva\"]\n",
    "all = boys+girls\n",
    "bg = [\"boys\"]*len(boys)+[\"girls\"]*len(girls)\n",
    "bg_vocab = dict(zip(all,bg))\n",
    "\n",
    "all = solid_vocab+toys\n",
    "ft = [\"fruits\"]*len(solid_vocab)+[\"toys\"]*len(toys)\n",
    "ft_vocab = dict(zip(all,ft))\n",
    "\n",
    "def make_input_str(task, nrows=4, ncols=4, full_vocab=None, ans_vocab=[True, False]):\n",
    "    if full_vocab is None: full_vocab = string.ascii_uppercase + string.digits\n",
    "    transform_fn, vocab_fn, sample_fn, query_fn, query2str = task\n",
    "    instruction = transform_fn.__name__.replace('_', ' ')\n",
    "    if vocab_fn is None: vocab_fn = lambda: full_vocab\n",
    "    if query_fn is None: query_fn = lambda *_: None\n",
    "        \n",
    "    examples = []\n",
    "    query = None\n",
    "    for i in range(nrows):\n",
    "        vocab = vocab_fn()\n",
    "        l = sample_fn(vocab, k=ncols)\n",
    "        query = query_fn(l, vocab, ncols)\n",
    "        examples.append([instruction, l, query, transform_fn(l, query=query)])\n",
    "#     examples = balance(examples,ans_vocab)\n",
    "\n",
    "    desc = promptize(instruction) if True else ''\n",
    "    text = '\\n'.join([make_example_str(e, query2str) for e in examples])\n",
    "    text = desc + '\\n' + text + '\\n'\n",
    "    return text"
   ]
  },
  {
   "cell_type": "code",
   "execution_count": 17,
   "id": "bd0c286b",
   "metadata": {},
   "outputs": [],
   "source": [
    "# # def balance(examples, ans_vocab=[True, False]):\n",
    "# def balance1(examples, ans_vocab):\n",
    "#     groups = seq(examples).group_by(_[-1]).map(_[1])  # 按ans分组\n",
    "# #     assert groups.len() == len(ans_vocab), '%d < %d' % (groups.len(), len(ans_vocab))  # 保证每种ans都出现\n",
    "#     min_cnt = groups.map(lambda x: len(x)).min()\n",
    "#     examples = groups.map(lambda x: sample(x, min_cnt)).flatten().list() # 每组都采样最小个数后去分组\n",
    "#     return sample(examples, len(examples))  # 重新打乱"
   ]
  },
  {
   "cell_type": "code",
   "execution_count": 18,
   "id": "2d664342",
   "metadata": {},
   "outputs": [],
   "source": [
    "def balance(examples, ans_vocab):\n",
    "    groups = seq(examples).group_by(_[-1]).map(_[1])  # 按ans分组\n",
    "#     min_cnt = groups.map(lambda x: len(x)).min()\n",
    "    min_cnt =3\n",
    "    if(groups.len()>3):\n",
    "        min_cnt = 3\n",
    "    elif(groups.len()==3):\n",
    "        min_cnt = 3\n",
    "    if(min_cnt > 2):\n",
    "        examples = groups.map(lambda x: sample(x, 3)).flatten().list() # 每组都采样最小个数后去分组\n",
    "        return sample(examples, len(examples))  # 重新打乱\n",
    "    else:\n",
    "        examples = groups.map(lambda x: sample(x, min_cnt)).flatten().list() # 每组都采样最小个数后去分组\n",
    "        return sample(examples, len(examples))  # 重新打乱"
   ]
  },
  {
   "cell_type": "code",
   "execution_count": 19,
   "id": "ab80cfd2",
   "metadata": {},
   "outputs": [],
   "source": [
    "import itertools  \n",
    "def Do_all_students_choose_courses_in_a_department(cxt, query):\n",
    "    SC, CD = cxt  # SC paris: studeng-course relation, CD pairs: course-department function\n",
    "    ss, d = query  # ss: 学生子集（可以*不止两个学生*），d: 课程\n",
    "#     return seq(ss).map(lambda s: seq(SC).filter(_[0] == s).map(_[1]).intersection(CD.filter(_.[1] == d).map(_.[0])).non_empty()).all()\n",
    "    return (seq(ss)\n",
    "            .map(lambda s: seq(SC).filter(_[0] == s).map(_[1])  # 学生s选的所有课程\n",
    "                 .intersection(\n",
    "                     seq(CD).filter(_[1] == d).map(_[0])) # d系的课程\n",
    "                 .non_empty())  # s选了d系的课程\n",
    "            .all())  # 学生子集ss都选了d系的课程\n",
    "\n",
    "def all_a_sample(vocab, k):\n",
    "    S_vocab, C_vocab, D_vocab = vocab  # vocabs of students, courses, departments\n",
    "    k_S, k_C, k_D, k_SC = k  # default values: k_S = 3, k_C = 3, k_D = 2, k_SC = 5\n",
    "    S, C, D = sample(S_vocab, k_S), sample(C_vocab, k_C), sample(D_vocab, k_D)\n",
    "    \n",
    "    while len(set(CD := choices(D, k=k_C))) < k_D: continue  # ds里每个系的课都要出现\n",
    "    CD = list(zip(C, CD))  # 得到每门课所属的系\n",
    "    \n",
    "    all_SC = list(itertools.product(S, C))  # or seq(S).cartesian(C).list()\n",
    "    while seq(SC := sample(all_SC, k_SC)).map(_[0]).distinct().len() < k_S: continue  # ss里每个学生都要选课\n",
    "    return SC, CD\n",
    "\n",
    "def select_distinct(tuples, col): return seq(tuples).map(_[col]).distinct().list()\n",
    "    \n",
    "def all_a_query(cxt,vocab,k):\n",
    "    SC, CD = cxt\n",
    "    k_S, k_C, k_D, k_SC = k\n",
    "    S, D = select_distinct(SC, 0), select_distinct(CD, 1)\n",
    "#     k_ss = randint(2, len(S))\n",
    "    ss = sample(S, 2)\n",
    "    d = choice(D)\n",
    "    return ss, d\n",
    "\n",
    "def all_a_query2str(query):\n",
    "    ss, d = query\n",
    "    query_str = '%s,%s?' % (', '.join(ss[:-1]) + ' and ' + ss[-1], d)\n",
    "    return '. ' + query_str\n"
   ]
  },
  {
   "cell_type": "code",
   "execution_count": 20,
   "id": "b8103db3",
   "metadata": {},
   "outputs": [],
   "source": [
    "def all_b(cxt, query):\n",
    "    SC, CD = cxt\n",
    "    ss,d = query\n",
    "    return (seq(CD).filter(_[1] == d).map(_[0])\n",
    "                 .difference(\n",
    "                     seq(SC).filter(_[0] == ss).map(_[1]))\n",
    "                 .empty())\n",
    "\n",
    "def all_b_sample(vocab, k):\n",
    "    S_vocab, C_vocab, D_vocab = vocab  \n",
    "    k_S, k_C, k_D, k_SC = k  # default values: k_S = 2, k_C = 3, k_D = 2, k_SC = 5\n",
    "    S, C, D = sample(S_vocab, k_S), sample(C_vocab, k_C), sample(D_vocab, k_D)\n",
    "    \n",
    "    while len(set(CD := choices(D, k=k_C))) < k_D: continue  \n",
    "    CD = list(zip(C, CD)) \n",
    "    \n",
    "    all_SC = list(itertools.product(S, C))  \n",
    "    while seq(SC := sample(all_SC, k_SC)).map(_[0]).distinct().len() < k_S: continue  # ss里每个学生都要选课\n",
    "    return SC, CD\n",
    "   \n",
    "def all_b_query(cxt,vocab,k):  # XD: 不要给qeury_fn加st参数\n",
    "    SC, CD = cxt\n",
    "    k_S, k_C, k_D, k_SC = k\n",
    "    S, D = select_distinct(SC, 0), select_distinct(CD, 1)\n",
    "#     k_ss = randint(2, len(S))  # XD: k_ss unused\n",
    "    ss = choice(S)\n",
    "    d = choice(D)\n",
    "    return ss, d\n",
    "    # XD: 不要在query_fn里转str！！这里转str，transform_fn里再解析回来，两边不是白折腾吗！\n",
    "\n",
    "def all_b_query2str(query):\n",
    "    ss, d = query\n",
    "    query_str = 'Does %s take all %s courses?' % (ss, d)\n",
    "    return '. ' + query_str\n",
    "\n",
    "\n",
    "def Is_the_intersection_of_two_sets_empty(cxt, query):\n",
    "    SC= cxt\n",
    "    s,d = query\n",
    "    return (seq(SC).filter(_[0] == s).map(_[1])\n",
    "                 .intersection(\n",
    "                     seq(SC).filter(_[0] == d).map(_[1]))\n",
    "                 .non_empty())\n",
    "\n",
    "def intersection_query(cxt,vocab,k):\n",
    "    SC= cxt\n",
    "    k_S, k_C, k_SC = k #k_s = 3, k_C = 5 , k_sc = 6\n",
    "    S = select_distinct(SC, 0)\n",
    "    s,d = sample(S,2)\n",
    "    return s, d\n",
    "\n",
    "def intersection_query2str(query):\n",
    "    s, d = query\n",
    "    query_str = \"%s,%s?\" % (s, d)\n",
    "    return '. ' + query_str\n",
    "\n",
    "def intersection_sample(vocab, k):\n",
    "    S_vocab, C_vocab = vocab  \n",
    "    k_S, k_C, k_SC = k  # k_S = 3, k_C = 5, , k_SC = 6\n",
    "    S, C= sample(S_vocab, k_S), sample(C_vocab, k_C)\n",
    "    all_SC = list(itertools.product(S, C))  \n",
    "    while seq(SC := sample(all_SC, k_SC)).map(_[0]).distinct().len() < k_S: continue \n",
    "    return SC\n",
    "\n",
    "def Is_the_first_set_a_subset_of_the_second_one(cxt, query):\n",
    "    SC= cxt\n",
    "    s,d = query\n",
    "    return (seq(SC).filter(_[0] == d).map(_[1])\n",
    "                 .union(\n",
    "                     seq(SC).filter(_[0] == s).map(_[1]))\n",
    "                 ).distinct().len()== seq(SC).filter(_[0] == d).map(_[1]).distinct().len()\n",
    "\n",
    "def complement_query(cxt,vocab,k):\n",
    "    SC= cxt\n",
    "    k_S, k_C, k_SC = k #k_s = 3, k_C = 5 , k_sc = 6\n",
    "    S = select_distinct(SC, 0)\n",
    "    s,d = sample(S,2)\n",
    "    return s, d\n",
    "\n",
    "def complement_query2str(query):\n",
    "    s, d = query\n",
    "    query_str = \"%s,%s?\" % (s, d)\n",
    "    return '. ' + query_str\n",
    "\n",
    "def complement_sample(vocab, k):\n",
    "    S_vocab, C_vocab = vocab  \n",
    "    k_S, k_C, k_SC = k  # k_S = 3, k_C = 4, k_SC = 5\n",
    "    S, C= sample(S_vocab, k_S), sample(C_vocab, k_C)\n",
    "    all_SC = list(itertools.product(S, C))  \n",
    "    while seq(SC := sample(all_SC, k_SC)).map(_[0]).distinct().len() < k_S: continue \n",
    "    return SC\n",
    "\n",
    "def Are_they_the_union_of_the_last_element(cxt, query):\n",
    "    SC, DC = cxt\n",
    "    ss,d = query\n",
    "    return (seq(ss)\n",
    "            .map(lambda s: seq(SC).filter(_[0] == s).map(_[1]) \n",
    "                 .union(\n",
    "                     seq(DC).filter(_[0] == d).map(_[1])) \n",
    "                 .distinct().len() == seq(DC).filter(_[0] == d).map(_[1]).distinct().len())  \n",
    "            .all()) \n",
    "\n",
    "def union_sample(vocab, k):\n",
    "    S_vocab, C_vocab, D_vocab = vocab  \n",
    "    k_S, k_C, k_D, k_SC = k  # k_S = 3, k_C = 4, k_D = 2, k_SC = 6\n",
    "    S, C, D = sample(S_vocab, k_S), sample(C_vocab, k_C), sample(D_vocab, k_D)\n",
    "    \n",
    "    while len(set(DC := choices(D, k=k_C))) < k_D: continue  \n",
    "    DC = list(zip(DC,C)) \n",
    "    \n",
    "    all_SC = list(itertools.product(S, C))  \n",
    "    while seq(SC := sample(all_SC, k_SC)).map(_[0]).distinct().len() < k_S: continue  \n",
    "    return SC, DC\n",
    "   \n",
    "def union_query(cxt,vocab,k): \n",
    "    SC, DC = cxt\n",
    "    k_S, k_C, k_D, k_SC = k\n",
    "    S, D = select_distinct(SC, 0), select_distinct(DC, 0)\n",
    "    k_ss = randint(2, len(S))\n",
    "    ss = sample(S, k_ss)\n",
    "    d = choice(D)\n",
    "    return ss, d\n",
    "\n",
    "def union_query2str(query):\n",
    "    ss, d = query\n",
    "    query_str = '%s,%s?' % (', '.join(ss[:-1]) + ' and ' + ss[-1], d)\n",
    "    return '. ' + query_str\n",
    "\n",
    "def Are_there_elements_belonging_to_the_same_class(cxt, query): #新建联系，把vocab和属性连起来形成新集合\n",
    "    NA, DA = cxt\n",
    "    s,d = query\n",
    "    D = seq(DA).filter(_[0] == d).map(_[1])\n",
    "    return (seq(NA).filter(_[0] == s).map(_[1]).select(lambda x: sl_vocab[x] == sl_vocab[D[0]]).any())\n",
    "      \n",
    "    \n",
    "def find_sample(vocab, k): \n",
    "    name_vocab, all_vocab = vocab\n",
    "    k_name, k_all, k_D, k_SA = k  # k_name = 3, k_all = 4, k_D = 2, k_SA = 6\n",
    "    S = list(all_vocab.keys())\n",
    "    N, A, D = sample(name_vocab, k_name), sample(S, k_all), sample(string.ascii_lowercase, k_D)\n",
    "#     D = sample(d := name_vocab.pop(name_vocab.index(a) for a in N),k_D)\n",
    "    A1 = sample(S, k_D)\n",
    "    DA = list(zip(D,A1)) \n",
    "    \n",
    "    all_NA = list(itertools.product(N, A))  \n",
    "    while seq(NA := sample(all_NA, k_SA)).map(_[0]).distinct().len() < k_name: continue  \n",
    "    return NA, DA\n",
    "   \n",
    "def find_query(cxt,vocab,k): \n",
    "    NA, DA = cxt\n",
    "    k_name, k_all, k_D, k_SA = k\n",
    "    S,D = select_distinct(NA, 0), select_distinct(DA, 0)\n",
    "    s,d = choice(S), choice(D)\n",
    "    return s, d\n",
    "\n",
    "def find_query2str(query):\n",
    "    s, d = query\n",
    "    query_str = '%s,%s?' % (s, d)\n",
    "    return '. ' + query_str\n",
    "\n",
    "\n",
    "def Are_there_any_elements_different_from_other_elements(cxt, query):\n",
    "    NA = cxt\n",
    "    ss = query\n",
    "    return (seq(ss).map(lambda s: seq(NA).filter(_[0] == s).map(_[1])\n",
    "                        .select(lambda x: sl_vocab[x])[0])\n",
    "            .distinct().len( ) == 2)\n",
    "               \n",
    "def find_dif_sample(vocab, k):\n",
    "    name_vocab, all_vocab = vocab\n",
    "    k_name, k_all, k_SA = k  # k_name = 4, k_all = 4, k_SA= 3\n",
    "    N, A = sample(name_vocab, k_name), sample(list(all_vocab.keys()), k_all) \n",
    "    NA = list(zip(N,A)) \n",
    "    return NA\n",
    "   \n",
    "def find_dif_query(cxt,vocab,k): \n",
    "    NA = cxt\n",
    "    k_name, k_all, k_NA = k\n",
    "    S = select_distinct(NA, 0)\n",
    "    ss = sample(S,k_NA)\n",
    "    return ss\n",
    "\n",
    "\n",
    "def find_dif_query2str(query):\n",
    "    ss = query\n",
    "    query_str = '%s?' % (', '.join(ss[:-1]) + ' and ' + ss[-1])\n",
    "    return '. ' + query_str\n",
    "\n"
   ]
  },
  {
   "cell_type": "code",
   "execution_count": 21,
   "id": "464efbec",
   "metadata": {},
   "outputs": [],
   "source": [
    "def How_many_elements_are_similar_to_the_case(cxt, query):\n",
    "    s = cxt\n",
    "    q = query\n",
    "    return seq(s).filter(lambda x: sl_vocab[x] == sl_vocab[q[0]]).len()\n",
    "                     \n",
    "def count_sample(vocab, k):\n",
    "    all_vocab = vocab\n",
    "    k_cxt,k_query = k  # k_cxt = 4 ,k_query =1\n",
    "    N = list(all_vocab.keys())\n",
    "    s = sample(N, k_cxt) \n",
    "    return s\n",
    "   \n",
    "def count_query(cxt,vocab,k): \n",
    "    NA = cxt\n",
    "    k_cxt,k_query = k\n",
    "    N = list(vocab.keys())\n",
    "    q = sample(N,k_query)\n",
    "    return q\n",
    "\n",
    "def count_query2str(query):\n",
    "    q = query\n",
    "    query_str = '%s?' % (q[0])\n",
    "    return '. ' + query_str\n",
    "\n",
    "def Is_the_number_of_first_elements_greater_than_the_second_one(cxt, query):\n",
    "    s = cxt\n",
    "    q = query\n",
    "    return (seq(s).filter(lambda x: sl_vocab[x] == sl_vocab[q[0]]).len() >= len(s)/2)\n",
    "                     \n",
    "def compare_sample(vocab, k):\n",
    "    all_vocab,s_vocab,l_vocab = vocab\n",
    "    k_cxt,k_query = k  # k_cxt = 5 ,k_query =2\n",
    "    N = list(all_vocab.keys())\n",
    "    s = sample(N, k_cxt) \n",
    "    return s\n",
    "   \n",
    "def compare_query(cxt,vocab,k): \n",
    "    NA = cxt\n",
    "    all_vocab,s_vocab,l_vocab = vocab\n",
    "    k_cxt,k_query = k\n",
    "    q = sample(s_vocab,1)+sample(l_vocab,1)\n",
    "    random.shuffle(q)\n",
    "    return q\n",
    "\n",
    "def compare_query2str(query):\n",
    "    ss,q = query\n",
    "    query_str = '%s,%s?' % (ss,q)\n",
    "    return '. ' + query_str"
   ]
  },
  {
   "cell_type": "code",
   "execution_count": 22,
   "id": "62aee837",
   "metadata": {},
   "outputs": [],
   "source": [
    "def Ascii_size_existence(l, query): return seq(l).map(_[0] > query).any()\n",
    "def Ascii_size_all(l, query): return seq(l).map(_[0] > query).all()\n",
    "def Ascii_size_None(l, query): return seq(l).filter(_[0] > query).empty()\n",
    "def ith_element(l, query=None): return seq(l).slice(1, 2)\n",
    "def ith_group(l, query=None): return seq(l).group_by(_).select(_[1]).slice(1, 2).flatten()#.distinct()# davinci F w/ and wo dist\n",
    "# def element_at_index(l, query): return seq(l).slice(query, query + 1) # davinci F\n",
    "def element_at_index(l, query): return seq(l).enumerate().filter(_[0] == query).select(_[1])\n",
    "def replace(l, query): return seq(l).map(lambda x: query.get(x, x))\n",
    "def replace_with_the_other(l, query): # davinci F\n",
    "    query = {k: (set(l) - {k}).pop() for k in l}\n",
    "    return replace(l, query)\n",
    "def replace_all_with(l, query): return seq(l).map(lambda x: query)  # davinci F?!\n",
    "def interleave_with(l, query): return seq(l).flat_map(lambda x: [x, query])  # davinci T!!\n",
    "def unique_elements(l, query=None): return seq(l).distinct() # davinci F\n",
    "def how_many_unique_elements(l, query=None): return seq(l).distinct().len()  # davinci F\n",
    "def how_many(l, query): return seq(l).filter(_ == query).len() # davinci F\n",
    "def select_same_as(l, query): return seq(l).filter(_ == query) # simpler version of how_many. davinci F\n",
    "def select_same_number_as(l, query): return seq(l).group_by(_).select(_[1]).filter(lambda x: len(x) == len(query)).flatten() # F\n",
    "def includes(l, query): return seq(l).union(seq(query)).distinct().len() == seq(l).distinct().len() # davinci F\n",
    "def is_included_by(l, query): return seq(l).difference(seq(query)).empty() # davinci F"
   ]
  },
  {
   "cell_type": "code",
   "execution_count": 23,
   "id": "388dd77e",
   "metadata": {},
   "outputs": [],
   "source": [
    "def Compare_the_values_of_two_sets(cxt, query):\n",
    "    s = cxt\n",
    "    q = query\n",
    "    if(seq(s).filter(lambda x: sl_vocab[x] == sl_vocab[q[0]]).len() > len(s)/2):\n",
    "        return \">\"\n",
    "    elif(seq(s).filter(lambda x: sl_vocab[x] == sl_vocab[q[0]]).len() < len(s)/2):\n",
    "        return \"<\"\n",
    "    else:\n",
    "        return \"=\"\n",
    "\n",
    "def Compare_sample(vocab, k):\n",
    "    all_vocab,s_vocab,l_vocab = vocab\n",
    "    k_cxt,k_query = k  # k_cxt = 5 ,k_query =2\n",
    "    N = list(all_vocab.keys())\n",
    "    s = sample(N, k_cxt) \n",
    "    return s\n",
    "   \n",
    "def Compare_query(cxt,vocab,k): \n",
    "    NA = cxt\n",
    "    all_vocab,s_vocab,l_vocab = vocab\n",
    "    k_cxt,k_query = k\n",
    "    q = sample(s_vocab,1)+sample(l_vocab,1)\n",
    "    random.shuffle(q)\n",
    "    return q\n",
    "\n",
    "def Compare_query2str(query):\n",
    "    ss,q = query\n",
    "    query_str = '%s,%s?' % (ss,q)\n",
    "    return '. ' + query_str"
   ]
  },
  {
   "cell_type": "code",
   "execution_count": 24,
   "id": "48028352",
   "metadata": {},
   "outputs": [],
   "source": [
    "def Relationship_between_two_sets(cxt, query): #新建联系，把vocab和属性连起来形成新集合\n",
    "    NA = cxt\n",
    "    s,q= query   #s:boys/girls  q:fruits/toys\n",
    "    name = seq(NA).filter(lambda x: bg_vocab[x[0]] == s)\n",
    "    if(seq(name).map(_[1]).filter(lambda x: ft_vocab[x] == q).len() == seq(name).len()):\n",
    "        return \"all\"\n",
    "    elif(seq(name).map(_[1]).filter(lambda x: ft_vocab[x] == q).empty()):\n",
    "        return \"none\"\n",
    "    else:\n",
    "        return \"some\"\n",
    "    \n",
    "def Relationship_sample(vocab, k): \n",
    "    name_vocab, all_vocab = vocab\n",
    "    k_name, k_all, k_SA = k  # k_name = 4, k_all = 4, k_SA = 4\n",
    "    Name = list(name_vocab.keys())\n",
    "    S = list(all_vocab.keys())\n",
    "    N, A = sample(Name, k_name), sample(S, k_all)\n",
    "#     D = sample(d := name_vocab.pop(name_vocab.index(a) for a in N),k_D)\n",
    "    \n",
    "    all_NA = list(itertools.product(N, A))  \n",
    "    while seq(NA := sample(all_NA, k_SA)).map(_[0]).distinct().len() < k_name: continue  \n",
    "    return NA\n",
    "   \n",
    "def Relationship_query(cxt,vocab,k): \n",
    "    NA = cxt\n",
    "    name_vocab, all_vocab = vocab\n",
    "    k_name, k_all, k_SA = k\n",
    "    S,D = select_distinct(NA, 0),select_distinct(NA, 1)\n",
    "    s,d = choice(S),choice(D)\n",
    "    s1,d1 = name_vocab[s],all_vocab[d]\n",
    "    return s1,d1\n",
    "\n",
    "def Relationship_query2str(query):\n",
    "    s,q = query\n",
    "    query_str = '[] %s have %s. [all / some / none]?' % (s,q)\n",
    "    return '. ' + query_str"
   ]
  },
  {
   "cell_type": "code",
   "execution_count": 25,
   "id": "f199b53d",
   "metadata": {},
   "outputs": [],
   "source": [
    "tasks = [\n",
    "    (ith_element,            None,                               sample,    None,None),\n",
    "    (ith_group,              None, lambda vocab, k: seq(sample(vocab, k)).map(lambda x:[x]*randint(1, 3)).flatten().list(),None,None),\n",
    "    (element_at_index,       lambda: upper_letters,              sample,    lambda l,vocab,k: randint(0, min(2,len(l)-1))),\n",
    "    (replace,                None,                               sample,    lambda l,vocab,k: {choice(l): choice(vocab)}),\n",
    "    (replace_with_the_other, lambda: sample(full_vocab, 2),   lambda vocab,k: sample(vocab+choices(vocab, k=k-2),k), None),\n",
    "    (replace_all_with,       None,                               sample_rand_len, lambda l,vocab,k: choice(vocab)),\n",
    "    (interleave_with,        None,                               sample_rand_len, lambda l,vocab,k: choice(vocab)),\n",
    "    (unique_elements,        lambda: sample(upper_letters, 3),   choices,   None),\n",
    "    (how_many_unique_elements,lambda: sample(upper_letters, 3),  choices,   None),\n",
    "    (how_many,               lambda: sample(upper_letters, 3),   choices,   lambda l,vocab,k: choice(list(set(l)))),\n",
    "    (select_same_as,         lambda: sample(upper_letters, 3),   choices,   lambda l,vocab,k: choice(list(set(l)))),\n",
    "    (select_same_number_as,  None, lambda vocab, k: seq(sample(vocab, k)).map(lambda x:[x]*randint(1, 3)).flatten().list(),   \n",
    "     lambda l,vocab,k: [choice(vocab)]*randint(1, 3)),\n",
    "    (includes,               lambda: sample(upper_letters, 6),   sample,    lambda l,vocab,k: sample(vocab, 3)),\n",
    "    (is_included_by,         lambda: sample(upper_letters, 6),   sample,    lambda l,vocab,k: sample(vocab, 5)),\n",
    "    \n",
    "    (Ascii_size_None,        lambda: string.ascii_uppercase,              sample,    lambda l,vocab,k: \"Is there no element greater than %s?\" % choice(list(set(l)))),\n",
    "    (Ascii_size_all,         lambda: string.ascii_uppercase,              sample,    lambda l,vocab,k: \"Are all elements greater than %s?\" % choice(list(set(l)))),\n",
    "    (Ascii_size_existence,   lambda: string.ascii_uppercase,              sample,    lambda l,vocab,k: \"Is there an element greater than %s?\" % choice(list(set(l)))),\n",
    "    \n",
    "#     (all_a,                  lambda: [names_vocab,courses_vocab,depts_vocab],     all_a_sample,    all_a_query, all_a_query2str),\n",
    "    (Do_all_students_choose_courses_in_a_department,    lambda: [names_vocab,courses_vocab,depts_vocab],     all_a_sample,    all_a_query, all_a_query2str),\n",
    "    (Compare_the_values_of_two_sets,  lambda: [sl_vocab,solid_vocab,liquid_vocab],  Compare_sample,    Compare_query, Compare_query2str),\n",
    "    (Relationship_between_two_sets,   lambda: [bg_vocab,ft_vocab],               Relationship_sample,    Relationship_query, Relationship_query2str),\n",
    "    (Is_the_intersection_of_two_sets_empty,           lambda: [string.ascii_uppercase,string.ascii_lowercase],     intersection_sample,    intersection_query, intersection_query2str),\n",
    "    (Is_the_first_set_a_subset_of_the_second_one,           lambda: [string.ascii_uppercase,string.ascii_lowercase],     complement_sample,    complement_query, complement_query2str),\n",
    "    (Are_they_the_union_of_the_last_element,                lambda: [string.ascii_uppercase,string.ascii_lowercase,depts_vocab],     union_sample,    union_query, union_query2str),\n",
    "    (Are_there_elements_belonging_to_the_same_class,            lambda: [string.ascii_uppercase,sl_vocab],      find_sample,    find_query, find_query2str ),\n",
    "    (Are_there_any_elements_different_from_other_elements,          lambda: [string.ascii_uppercase,sl_vocab],      find_dif_sample,  find_dif_query, find_dif_query2str ),\n",
    "    (How_many_elements_are_similar_to_the_case,                lambda: sl_vocab,                                      count_sample,            count_query,count_query2str),\n",
    "    (Is_the_number_of_first_elements_greater_than_the_second_one,              lambda: [sl_vocab,solid_vocab,liquid_vocab],          compare_sample,            compare_query,compare_query2str),\n",
    "]"
   ]
  },
  {
   "cell_type": "code",
   "execution_count": 1365,
   "id": "105e915f",
   "metadata": {},
   "outputs": [],
   "source": [
    "# print(make_input_str(tasks[-8], nrows=30, ncols=(4, 4, 4))) "
   ]
  },
  {
   "cell_type": "code",
   "execution_count": 664,
   "id": "91683062",
   "metadata": {},
   "outputs": [],
   "source": [
    "# print(make_input_str(tasks[-9], nrows=8, ncols=(4,2))) #比较，query中给了两个元素（固体、液体），\n",
    "                                                        #若前一个元素的类型数目大于后一个，就输出YES"
   ]
  },
  {
   "cell_type": "code",
   "execution_count": 665,
   "id": "dc45005f",
   "metadata": {},
   "outputs": [],
   "source": [
    "# print(make_input_str(tasks[-9], nrows=80, ncols=(2, 3, 2, 5))) "
   ]
  },
  {
   "cell_type": "code",
   "execution_count": 460,
   "id": "e98e87d7",
   "metadata": {},
   "outputs": [
    {
     "name": "stdout",
     "output_type": "stream",
     "text": [
      "Instruction: Are there any elements different from other elements. For example:\n",
      "M: beer, N: pear, B: milk, G: peach. N, B and G? -> Yes\n",
      "F: juice, P: cola, E: coffee, G: pineapple. F, P and E? -> No\n",
      "U: grape, C: whisky, Z: juice, T: beer. Z, C and T? -> No\n",
      "H: whisky, R: apple, L: strawberry, O: brandy. R, L and O? -> Yes\n",
      "V: juice, W: brandy, P: coffee, O: banana. O, W and P? -> Yes\n",
      "H: banana, J: pineapple, E: coffee, G: grape. H, G and J? -> No\n",
      "\n"
     ]
    }
   ],
   "source": [
    "print(make_input_str(tasks[-3], nrows=80, ncols=(4,4,3))) "
   ]
  },
  {
   "cell_type": "code",
   "execution_count": 462,
   "id": "6fb4988c",
   "metadata": {},
   "outputs": [
    {
     "name": "stdout",
     "output_type": "stream",
     "text": [
      "Instruction: Are there elements belonging to the same class. For example:\n",
      "P: banana, P: brandy, I: brandy, U: peach; v: grape, b: wine. I,b? -> Yes\n",
      "K: whisky, P: apple, K: cola, L: apple; v: whisky, a: strawberry. K,a? -> No\n",
      "R: pear, R: cola, E: strawberry, M: cola; q: pear, h: vodka. E,h? -> No\n",
      "N: pineapple, Z: pineapple, C: coffee, C: juice; p: lemon, j: milk. N,p? -> Yes\n",
      "E: beer, J: milk, I: peach, I: beer; j: peach, n: banana. E,j? -> No\n",
      "R: grape, P: grape, P: juice, N: grape; k: milk, n: vodka. P,k? -> Yes\n",
      "\n"
     ]
    }
   ],
   "source": [
    "print(make_input_str(tasks[-4], nrows=100, ncols=(3,4,2,4)))  #找相同"
   ]
  },
  {
   "cell_type": "code",
   "execution_count": 668,
   "id": "f4070da5",
   "metadata": {},
   "outputs": [],
   "source": [
    "# print(make_input_str(tasks[-1], nrows=8, ncols=(5,2))) #比较，query中给了两个元素（固体、液体），\n",
    "                                                        #若前一个元素的类型数目大于后一个，就输出YES"
   ]
  },
  {
   "cell_type": "code",
   "execution_count": 669,
   "id": "4f3668d5",
   "metadata": {},
   "outputs": [],
   "source": [
    "# print(make_input_str(tasks[-2], nrows=30, ncols=(3,1), ans_vocab=[0,1,2,3]))    #数数，数cxt中与query中元素同类的个数\n",
    "                                                                                  #这里修改了balance函数"
   ]
  },
  {
   "cell_type": "code",
   "execution_count": 670,
   "id": "db442a52",
   "metadata": {},
   "outputs": [],
   "source": [
    "# print(make_input_str(tasks[-5], nrows=10, ncols=(3,4,2,4)))"
   ]
  },
  {
   "cell_type": "code",
   "execution_count": 671,
   "id": "eadf0bd9",
   "metadata": {},
   "outputs": [],
   "source": [
    "# print(make_input_str(tasks[-6], nrows=18, ncols=(3,11,5))) "
   ]
  },
  {
   "cell_type": "code",
   "execution_count": 672,
   "id": "c8c59a5b",
   "metadata": {},
   "outputs": [],
   "source": [
    "# print(make_input_str(tasks[-7], nrows=4, ncols=(3,4,5)))"
   ]
  },
  {
   "cell_type": "code",
   "execution_count": 1377,
   "id": "c3df9c68",
   "metadata": {},
   "outputs": [
    {
     "name": "stdout",
     "output_type": "stream",
     "text": [
      "Instruction: Do all students choose courses in a department. For example:\n",
      "L: Geography, L: English, B: Chemistry, L: Chemistry, Z: Chemistry; English: Eng, Geography: Eng, Chemistry: Mat. B and L,Eng? -> No\n",
      "J: History, O: Art, O: History, J: Math, D: History; History: CS, Art: Mat, Math: Mat. D and O,CS? -> Yes\n",
      "Z: Sql, Z: Music, P: Chemistry, P: Sql, T: Music; Sql: Eng, Music: Eng, Chemistry: Chi. P and Z,Chi? -> No\n",
      "J: Chinese, J: Music, U: Music, J: Sql, H: Chinese; Chinese: CS, Sql: Eng, Music: Eng. J and H,CS? -> Yes\n",
      "\n"
     ]
    }
   ],
   "source": [
    "# print(make_input_str(tasks[-10], nrows=100, ncols=(3, 3, 2, 5))) "
   ]
  },
  {
   "cell_type": "code",
   "execution_count": 674,
   "id": "06d90c77",
   "metadata": {},
   "outputs": [],
   "source": [
    "# print(make_input_str(tasks[-2], nrows=8, ncols=4))"
   ]
  },
  {
   "cell_type": "code",
   "execution_count": 675,
   "id": "3185653b",
   "metadata": {},
   "outputs": [],
   "source": [
    "# if n_total == 1:\n",
    "#     inputs = tokenizer.encode_plus(text, return_tensors='pt')\n",
    "#     inputs = prepare_inputs(inputs, model.device)\n",
    "#     outputs = model(**inputs, output_attentions=False)\n",
    "\n",
    "#     # assert inputs.input_ids.size(0) == 1\n",
    "#     input_ids = inputs.input_ids\n",
    "#     logits = outputs.logits\n",
    "\n",
    "#     bsz = input_ids.size(0); assert bsz == 1\n",
    "#     labels = torch.ones_like(input_ids) * (-100)\n",
    "#     for bi in range(bsz):\n",
    "#         bos_indices = (input_ids[bi] == bos_id).nonzero().squeeze(1)\n",
    "#         eos_indices = (input_ids[bi] == eos_id).nonzero()[-nrows:].squeeze(1)\n",
    "#         for i, (example, bos_i, eos_i) in enumerate(zip(examples, bos_indices.tolist(), eos_indices.tolist())):\n",
    "#             print(' ' + make_example_str(example))\n",
    "#             ans_ids = input_ids[bi, bos_i + 1: eos_i]\n",
    "#             if i >= 2: labels[bi, bos_i: eos_i - 1] = ans_ids\n",
    "#             ans_prob_dist = logits[bi, bos_i: eos_i - 1].softmax(-1)\n",
    "#             ans_probs = ans_prob_dist[torch.arange(ans_prob_dist.size(0)), ans_ids]\n",
    "#             ans_tokens = tokenizer.convert_ids_to_tokens(ans_ids)\n",
    "#             for ans_id, ans_token, ans_prob, dist in zip(ans_ids, ans_tokens, numpy(ans_probs, decimals=3), ans_prob_dist):\n",
    "#                 top1_correct = (dist.argmax() == ans_id).item()\n",
    "#                 print(('*' if top1_correct else ' ') + ans_token, ans_prob, \n",
    "#                       show_topk(*dist.topk(5), indices_fn=tokenizer.convert_ids_to_tokens)) \n",
    "#     loss = nn.CrossEntropyLoss()(logits.view(-1, logits.size(-1)), labels.view(-1))\n",
    "#     loss"
   ]
  },
  {
   "cell_type": "code",
   "execution_count": 676,
   "id": "6b5d2b45",
   "metadata": {},
   "outputs": [],
   "source": [
    "# tokenizer.convert_ids_to_tokens(617)"
   ]
  },
  {
   "cell_type": "code",
   "execution_count": 677,
   "id": "f7d6edbc",
   "metadata": {},
   "outputs": [],
   "source": [
    "# sum(s.count('Yes') for s in input_strs)\n",
    "# sum(s.count('No') for s in input_strs)\n",
    "# sum(s.count('all') for s in input_strs)\n",
    "# sum(s.count('none') for s in input_strs)\n",
    "# sum(s.count('some') for s in input_strs)\n",
    "# sum(s.count('3') for s in input_strs)"
   ]
  },
  {
   "cell_type": "code",
   "execution_count": 187,
   "id": "d64330f3",
   "metadata": {
    "scrolled": true
   },
   "outputs": [],
   "source": [
    "# [e['input_ids'] for e in train_dataset]"
   ]
  },
  {
   "cell_type": "code",
   "execution_count": 140,
   "id": "ee181c24",
   "metadata": {},
   "outputs": [],
   "source": [
    "# tokenizer.convert_ids_to_tokens(([e['input_ids'] for e in train_dataset][0]).numpy().tolist())"
   ]
  },
  {
   "cell_type": "code",
   "execution_count": 141,
   "id": "4ff9a2be",
   "metadata": {
    "scrolled": true
   },
   "outputs": [],
   "source": [
    "# print(eval_dataset.labels)"
   ]
  },
  {
   "cell_type": "code",
   "execution_count": null,
   "id": "c759bca1",
   "metadata": {},
   "outputs": [],
   "source": []
  },
  {
   "cell_type": "markdown",
   "id": "5f588b59",
   "metadata": {},
   "source": [
    "# 请从这里开始,肖老师"
   ]
  },
  {
   "cell_type": "code",
   "execution_count": 297,
   "id": "17373019",
   "metadata": {
    "scrolled": true
   },
   "outputs": [
    {
     "name": "stdout",
     "output_type": "stream",
     "text": [
      "Instruction: Relationship between two sets. For example:\n",
      "Daniel: lemon, Ashley: grape, Amanda: grape, Harrison: pear. [] boys have fruits. [all / some / none]? -> all\n",
      "\n",
      "Instruction: Relationship between two sets. For example:\n",
      "Sarah: lemon, Alex: peach, Harrison: grape, Eva: plasticine. [] boys have toys. [all / some / none]? -> none\n",
      "\n"
     ]
    }
   ],
   "source": [
    "# n_total, n_valid = 500, 100  #全部数目，测试数目\n",
    "# n_total, n_valid = 800, 200\n",
    "n_total, n_valid = 180, 30\n",
    "# n_total, n_valid =4,2\n",
    "n_train = n_total - n_valid\n",
    "# input_strs = [make_input_str(tasks[-7], nrows=1, ncols=(3,4,5)) for __ in range(n_total)]# Is the intersection of two sets empty.\n",
    "# input_strs = [make_input_str(tasks[-3], nrows=1, ncols=(4,4,3)) for __ in range(n_total)]# Are there any elements different from other elements\n",
    "# input_strs = [make_input_str(tasks[-4], nrows=1, ncols=(3,4,2,4)) for __ in range(n_total)]# Are_there_elements_belonging_to_the_same_class\n",
    "# input_strs = [make_input_str(tasks[-1], nrows=1, ncols=(5,2)) for __ in range(n_total)]#Is_the_number_of_first_elements_greater_than_the_second_one\n",
    "# input_strs = [make_input_str(tasks[-2], nrows=1, ncols=(3,1), ans_vocab=[0,1,2,3]) for __ in range(n_total)] #How_many_elements_are_similar_to_the_example\n",
    "# input_strs = [make_input_str(tasks[-5], nrows=1, ncols=(3,4,2,4)) for __ in range(n_total)] #Are_they_the_union_of_the_last_element\n",
    "# input_strs = [make_input_str(tasks[-6], nrows=1, ncols=(3,11,5)) for __ in range(n_total)]#Is the first set a subset of the second one\n",
    "# input_strs = [make_input_str(tasks[-10], nrows=1, ncols=(3, 3, 2, 5)) for __ in range(n_total)]\n",
    "# input_strs = [make_input_str(tasks[-9], nrows=1, ncols=(4,2)) for __ in range(n_total)] #Compare the values of two sets.\n",
    "input_strs = [make_input_str(tasks[-8], nrows=1, ncols=(4, 4, 4)) for __ in range(n_total)] #Relationship between two sets.\n",
    "\n",
    "for s in sample(input_strs, 2): print(s)\n",
    "# print(input_strs)"
   ]
  },
  {
   "cell_type": "code",
   "execution_count": 113,
   "id": "58f1d494",
   "metadata": {},
   "outputs": [],
   "source": [
    "# s,end = input_strs[0].index(\":\"),input_strs[0].index(\"For\")\n",
    "# name = input_strs[0][s+2:end]\n",
    "# import json\n",
    "# filename = './nrk/'+name\n",
    "# with open(filename,\"w\") as file_obj:\n",
    "#     json.dump(input_strs,file_obj)"
   ]
  },
  {
   "cell_type": "code",
   "execution_count": 311,
   "id": "2e64ee95",
   "metadata": {},
   "outputs": [
    {
     "name": "stdout",
     "output_type": "stream",
     "text": [
      "Instruction: Is this sentence correct. For example:\n",
      "A is less difficult to carry than B because A is smaller. Is that right? -> Yes\n",
      "\n",
      "Instruction: Is this sentence correct. For example:\n",
      "A is more dangerous to look at than B because A is less luminous. Is that right? -> No\n",
      "\n"
     ]
    }
   ],
   "source": [
    "for s in sample(text, 2): print(s)\n",
    "n_total, n_valid = 180, 30\n",
    "n_train = n_total - n_valid\n",
    "text = text[:180]"
   ]
  },
  {
   "cell_type": "code",
   "execution_count": 323,
   "id": "e2f80b74",
   "metadata": {},
   "outputs": [
    {
     "name": "stderr",
     "output_type": "stream",
     "text": [
      "Using pad_token, but it is not set yet.\n"
     ]
    }
   ],
   "source": [
    "# train_dataset = CHILDDataset(input_strs[:-n_valid], tokenizer)\n",
    "# eval_dataset = CHILDDataset(input_strs[-n_valid:], tokenizer)\n",
    "train_dataset = CHILDDataset(text[:-n_valid], tokenizer)\n",
    "eval_dataset = CHILDDataset(text[-n_valid:], tokenizer)"
   ]
  },
  {
   "cell_type": "code",
   "execution_count": 324,
   "id": "82ad27d7",
   "metadata": {},
   "outputs": [],
   "source": [
    "wte = model.get_input_embeddings() #提取 embedding 中的 词向量部分\n",
    "if hasattr(wte, 'wte'): wte = wte.wte  # already been wrapped\n",
    "we = WrappedEmbedding(wte, prompt_len=40000)\n",
    "model.set_input_embeddings(we) #为词向量赋值"
   ]
  },
  {
   "cell_type": "code",
   "execution_count": 325,
   "id": "416bbc0f",
   "metadata": {},
   "outputs": [],
   "source": [
    "def compute_metrics(pred):\n",
    "    labels = []\n",
    "    bos_indices = []\n",
    "    eos_indices = []\n",
    "    preds = []\n",
    "    m = nn.Softmax(dim = -1)\n",
    "    labels_loc = pred.label_ids.argmax(-1)\n",
    "    for i in range(len(labels_loc)):\n",
    "        labels.append(pred.label_ids[i][labels_loc[i]])\n",
    "                                                                                 #     arraypre = pred.predictions[0] # 6B\n",
    "    arraypre = pred.predictions                                                                              # 1.3B\n",
    "    predss = arraypre.argmax(-1)\n",
    "    num = \"\"\n",
    "   \n",
    "    for bi in range(predss.shape[0]):\n",
    "        num = labels_loc[bi]\n",
    "        preds.append(predss[bi, num-1:num]) \n",
    "        t = torch.from_numpy(pred.predictions[bi,num-1:num])                        #1.3B\n",
    "                                                                                    #         t = torch.from_numpy(pred.predictions[0][bi,num-1:num])  #6B\n",
    "        n = m(t)\n",
    "        ids = torch.topk(n,3)[1].numpy().tolist()                                              #ids   /[0] 概率\n",
    "        loc = torch.topk(n,3)[0].numpy().tolist()\n",
    "                                                                                                 #         print(ids)\n",
    "        ids = tokenizer.convert_ids_to_tokens(ids[0])\n",
    "        loc = [float('{:.4f}'.format(i)) for i in loc[0]]\n",
    "        precision = [i+\" : \"+str(j) for i,j in zip(ids,loc)]\n",
    "    acc = accuracy_score(labels, list(preds))    \n",
    "    return {\n",
    "        'accuracy': acc,\n",
    "        'precision': precision,\n",
    "    }\n"
   ]
  },
  {
   "cell_type": "code",
   "execution_count": 326,
   "id": "d34fd7d4",
   "metadata": {},
   "outputs": [
    {
     "data": {
      "text/plain": [
       "tensor([-100, -100, -100, -100, -100, -100, -100, -100, -100, -100, -100, -100,\n",
       "        -100, -100, -100, -100, -100, -100, -100, -100, -100, -100, -100, -100,\n",
       "        -100, -100, -100, -100, -100, -100, -100, 3363, -100, -100, -100, -100,\n",
       "        -100, -100])"
      ]
     },
     "execution_count": 326,
     "metadata": {},
     "output_type": "execute_result"
    }
   ],
   "source": [
    "eval_dataset[0]['labels']"
   ]
  },
  {
   "cell_type": "code",
   "execution_count": 316,
   "id": "eb7bf973",
   "metadata": {},
   "outputs": [],
   "source": [
    "# def compute_metrics(pred):\n",
    "#     labels = []\n",
    "#     bos_indices = []\n",
    "#     preds = []\n",
    "#     labels_loc = pred.label_ids.argmax(-1)\n",
    "#     for i in range(len(labels_loc)):\n",
    "#         labels.append(pred.label_ids[i][labels_loc[i]])\n",
    "# #     print(labels)\n",
    "#     arraypre = pred.predictions[0] # 6B\n",
    "# # #     arraypre = pred.predictions # 1.3B\n",
    "#     print(arraypre)\n",
    "#     predss = arraypre.argmax(-1)\n",
    "#     sent = tokenizer.convert_ids_to_tokens(predss[0])\n",
    "#     sent1 = \" \".join(sent)\n",
    "#     sent1=sent1.replace(\"Ġ\",\"\")\n",
    "#     sent1=sent1.replace(\"Ċ\",\"\\n\")\n",
    "#     print(sent1)\n",
    "#     for bi in range(predss.shape[0]):\n",
    "#         for j in range(predss.shape[1]):\n",
    "#             if(predss[bi][j] == bos_id):\n",
    "#                 bos_indices.append(j)\n",
    "#         bos_i = bos_indices[-1]\n",
    "#         preds.append(predss[bi, bos_i + 1:bos_i + 2])\n",
    "    \n",
    "#     acc = accuracy_score(labels, list(preds))\n",
    "#     return {\n",
    "# #         'accuracy': acc,\n",
    "#     }\n"
   ]
  },
  {
   "cell_type": "code",
   "execution_count": 327,
   "id": "6ebf074a",
   "metadata": {
    "scrolled": true
   },
   "outputs": [
    {
     "name": "stderr",
     "output_type": "stream",
     "text": [
      "PyTorch: setting up devices\n"
     ]
    }
   ],
   "source": [
    "training_args = TrainingArguments(output_dir=\"./models/model_name\",                                                             #模型预测和检查点的输出目录\n",
    "    overwrite_output_dir=True, do_train=True, do_eval=True, do_predict=True, \n",
    "    per_device_train_batch_size=1, per_device_eval_batch_size=1,                                                  #每个GPU / TPU内核/ CPU的批处理大小\n",
    "    gradient_accumulation_steps=6,eval_steps=5, \n",
    "    weight_decay=0.001, adam_beta2=0.98, adam_epsilon=1e-6,                                      #weight_decay要应用的权重衰减,adam_epsilon AdamW优化器的ε超参数\n",
    "    lr_scheduler_type='constant', learning_rate=0.001, num_train_epochs=5,                                  #learning_rate:Adam初始学习率\n",
    "    logging_strategy ='epoch',  save_steps=0,                                             #save_steps保存两个检查点之前的更新步骤数\n",
    "    no_cuda=True, report_to='none',                                                         # to avoid report to wandb\n",
    "    evaluation_strategy ='steps',\n",
    "#     evaluation_strategy ='epoch'\n",
    ")"
   ]
  },
  {
   "cell_type": "code",
   "execution_count": 328,
   "id": "ff25273c",
   "metadata": {},
   "outputs": [],
   "source": [
    "# with open(filename,\"a\") as f:\n",
    "#         f.write(str(training_args))"
   ]
  },
  {
   "cell_type": "code",
   "execution_count": 329,
   "id": "d89c7d7b",
   "metadata": {},
   "outputs": [
    {
     "name": "stderr",
     "output_type": "stream",
     "text": [
      "/nas/xd/projects/transformers/src/transformers/optimization.py:306: FutureWarning: This implementation of AdamW is deprecated and will be removed in a future version. Use the PyTorch implementation torch.optim.AdamW instead, or set `no_deprecation_warning=True` to disable this warning\n",
      "  warnings.warn(\n"
     ]
    }
   ],
   "source": [
    "trainer = Trainer(model, training_args, train_dataset=train_dataset, eval_dataset=eval_dataset,compute_metrics=compute_metrics,\n",
    "                  optimizers=(create_optimizer(model, training_args), None))"
   ]
  },
  {
   "cell_type": "code",
   "execution_count": 330,
   "id": "0aa95c7d",
   "metadata": {},
   "outputs": [
    {
     "name": "stderr",
     "output_type": "stream",
     "text": [
      "***** Running Evaluation *****\n",
      "  Num examples = 30\n",
      "  Batch size = 1\n"
     ]
    },
    {
     "data": {
      "text/html": [
       "\n",
       "    <div>\n",
       "      \n",
       "      <progress value='60' max='30' style='width:300px; height:20px; vertical-align: middle;'></progress>\n",
       "      [30/30 01:58]\n",
       "    </div>\n",
       "    "
      ],
      "text/plain": [
       "<IPython.core.display.HTML object>"
      ]
     },
     "metadata": {},
     "output_type": "display_data"
    },
    {
     "data": {
      "text/plain": [
       "{'eval_loss': 3.5578513145446777,\n",
       " 'eval_accuracy': 0.0,\n",
       " 'eval_precision': ['ĠA : 0.1883', 'ĠIs : 0.059', 'ĠB : 0.0472'],\n",
       " 'eval_runtime': 9.2024,\n",
       " 'eval_samples_per_second': 3.26,\n",
       " 'eval_steps_per_second': 3.26}"
      ]
     },
     "execution_count": 330,
     "metadata": {},
     "output_type": "execute_result"
    }
   ],
   "source": [
    "trainer.evaluate()"
   ]
  },
  {
   "cell_type": "code",
   "execution_count": 331,
   "id": "c5b8d21d",
   "metadata": {
    "scrolled": false
   },
   "outputs": [
    {
     "name": "stderr",
     "output_type": "stream",
     "text": [
      "***** Running training *****\n",
      "  Num examples = 150\n",
      "  Num Epochs = 5\n",
      "  Instantaneous batch size per device = 1\n",
      "  Total train batch size (w. parallel, distributed & accumulation) = 1\n",
      "  Gradient Accumulation steps = 1\n",
      "  Total optimization steps = 750\n"
     ]
    },
    {
     "data": {
      "text/html": [
       "\n",
       "    <div>\n",
       "      \n",
       "      <progress value='750' max='750' style='width:300px; height:20px; vertical-align: middle;'></progress>\n",
       "      [750/750 09:14, Epoch 5/5]\n",
       "    </div>\n",
       "    <table border=\"1\" class=\"dataframe\">\n",
       "  <thead>\n",
       " <tr style=\"text-align: left;\">\n",
       "      <th>Epoch</th>\n",
       "      <th>Training Loss</th>\n",
       "      <th>Validation Loss</th>\n",
       "      <th>Accuracy</th>\n",
       "      <th>Precision</th>\n",
       "    </tr>\n",
       "  </thead>\n",
       "  <tbody>\n",
       "    <tr>\n",
       "      <td>1</td>\n",
       "      <td>1.616900</td>\n",
       "      <td>1.304838</td>\n",
       "      <td>0.566667</td>\n",
       "      <td>['ĠYes : 0.6459', 'ĠNo : 0.1877', 'Ġ[ : 0.0194']</td>\n",
       "    </tr>\n",
       "    <tr>\n",
       "      <td>2</td>\n",
       "      <td>2.889400</td>\n",
       "      <td>13.196543</td>\n",
       "      <td>0.000000</td>\n",
       "      <td>['ĊĊ : 0.1545', 'Ċ : 0.1327', '\\\\ : 0.0873']</td>\n",
       "    </tr>\n",
       "    <tr>\n",
       "      <td>3</td>\n",
       "      <td>10.558700</td>\n",
       "      <td>12.672831</td>\n",
       "      <td>0.000000</td>\n",
       "      <td>['Ġthe : 0.1758', 'Ġof : 0.0498', '- : 0.0434']</td>\n",
       "    </tr>\n",
       "    <tr>\n",
       "      <td>4</td>\n",
       "      <td>9.712600</td>\n",
       "      <td>9.770533</td>\n",
       "      <td>0.000000</td>\n",
       "      <td>['Ġ : 0.273', 'Ġthe : 0.0731', 'Ġlike : 0.035']</td>\n",
       "    </tr>\n",
       "    <tr>\n",
       "      <td>5</td>\n",
       "      <td>4.668000</td>\n",
       "      <td>2.120934</td>\n",
       "      <td>0.433333</td>\n",
       "      <td>['ĠNo : 0.1628', 'ĠYes : 0.1345', 'Ġthe : 0.0488']</td>\n",
       "    </tr>\n",
       "  </tbody>\n",
       "</table><p>"
      ],
      "text/plain": [
       "<IPython.core.display.HTML object>"
      ]
     },
     "metadata": {},
     "output_type": "display_data"
    },
    {
     "name": "stderr",
     "output_type": "stream",
     "text": [
      "***** Running Evaluation *****\n",
      "  Num examples = 30\n",
      "  Batch size = 1\n",
      "***** Running Evaluation *****\n",
      "  Num examples = 30\n",
      "  Batch size = 1\n",
      "***** Running Evaluation *****\n",
      "  Num examples = 30\n",
      "  Batch size = 1\n",
      "***** Running Evaluation *****\n",
      "  Num examples = 30\n",
      "  Batch size = 1\n",
      "***** Running Evaluation *****\n",
      "  Num examples = 30\n",
      "  Batch size = 1\n",
      "\n",
      "\n",
      "Training completed. Do not forget to share your model on huggingface.co/models =)\n",
      "\n",
      "\n"
     ]
    },
    {
     "data": {
      "text/plain": [
       "TrainOutput(global_step=750, training_loss=5.889138916015625, metrics={'train_runtime': 554.7103, 'train_samples_per_second': 1.352, 'train_steps_per_second': 1.352, 'total_flos': 224246237184000.0, 'train_loss': 5.889138916015625, 'epoch': 5.0})"
      ]
     },
     "execution_count": 331,
     "metadata": {},
     "output_type": "execute_result"
    }
   ],
   "source": [
    "trainer.train()"
   ]
  },
  {
   "cell_type": "code",
   "execution_count": 76,
   "id": "90777ed1",
   "metadata": {},
   "outputs": [
    {
     "name": "stderr",
     "output_type": "stream",
     "text": [
      "***** Running Prediction *****\n",
      "  Num examples = 10\n",
      "  Batch size = 1\n"
     ]
    },
    {
     "data": {
      "text/html": [
       "\n",
       "    <div>\n",
       "      \n",
       "      <progress value='10' max='10' style='width:300px; height:20px; vertical-align: middle;'></progress>\n",
       "      [10/10 00:02]\n",
       "    </div>\n",
       "    "
      ],
      "text/plain": [
       "<IPython.core.display.HTML object>"
      ]
     },
     "metadata": {},
     "output_type": "display_data"
    },
    {
     "name": "stdout",
     "output_type": "stream",
     "text": [
      "{'test_loss': 0.735599160194397, 'test_accuracy': 0.5, 'test_precision': ['ĠYes : 0.6578', 'ĠNo : 0.3009', 'Ġyes : 0.0071'], 'test_runtime': 3.1062, 'test_samples_per_second': 3.219, 'test_steps_per_second': 3.219}\n"
     ]
    }
   ],
   "source": [
    "test_dataset = CHILDDataset(text[:10], tokenizer)\n",
    "a = trainer.predict(test_dataset) #此处新生成了测试集\n",
    "print(a.metrics)"
   ]
  },
  {
   "cell_type": "code",
   "execution_count": 101,
   "id": "8d29120e",
   "metadata": {},
   "outputs": [
    {
     "name": "stderr",
     "output_type": "stream",
     "text": [
      "***** Running Prediction *****\n",
      "  Num examples = 30\n",
      "  Batch size = 1\n"
     ]
    },
    {
     "name": "stdout",
     "output_type": "stream",
     "text": [
      "{'test_loss': 0.0003098619054071605, 'test_accuracy': 1.0, 'test_precision': ['ĠNo : 0.9999', 'No : 0.0', 'Ġ : 0.0'], 'test_runtime': 50.5283, 'test_samples_per_second': 0.594, 'test_steps_per_second': 0.594}\n"
     ]
    }
   ],
   "source": [
    "# input_strs = [make_input_str(tasks[-7], nrows=100, ncols=(3,4,5)) for __ in range(30)]# Is the intersection of two sets empty.\n",
    "# input_strs = [make_input_str(tasks[-3], nrows=100, ncols=(4,4,3)) for __ in range(30)]# Are there any elements different from other elements\n",
    "# input_strs = [make_input_str(tasks[-4], nrows=100, ncols=(3,4,2,4)) for __ in range(30)]# Are_there_elements_belonging_to_the_same_class\n",
    "# input_strs = [make_input_str(tasks[-1], nrows=120, ncols=(5,2)) for __ in range(30)]#Is_the_number_of_first_elements_greater_than_the_second_one\n",
    "# input_strs = [make_input_str(tasks[-2], nrows=80, ncols=(3,1), ans_vocab=[0,1,2,3]) for __ in range(30)] #How_many_elements_are_similar_to_the_example\n",
    "# input_strs = [make_input_str(tasks[-5], nrows=100, ncols=(3,4,2,4)) for __ in range(30)] #Are_they_the_union_of_the_last_element\n",
    "# input_strs = [make_input_str(tasks[-6], nrows=100, ncols=(3,11,5)) for __ in range(30)]#Is the first set a subset of the second one\n",
    "# input_strs = [make_input_str(tasks[-10], nrows=100, ncols=(3, 3, 2, 5)) for __ in range(30)]\n",
    "# input_strs = [make_input_str(tasks[-9], nrows=100, ncols=(4,2)) for __ in range(30)] #Compare the values of two sets.\n",
    "# input_strs = [make_input_str(tasks[-8], nrows=100, ncols=(4, 4, 4)) for __ in range(30)] #Relationship between two sets.\n",
    "test_dataset = CHILDDataset(input_strs[:], tokenizer)\n",
    "a = trainer.predict(test_dataset) #此处新生成了测试集\n",
    "print(a.metrics)"
   ]
  },
  {
   "cell_type": "code",
   "execution_count": null,
   "id": "56d1961b",
   "metadata": {},
   "outputs": [],
   "source": []
  },
  {
   "cell_type": "code",
   "execution_count": null,
   "id": "d7ef98c4",
   "metadata": {},
   "outputs": [],
   "source": []
  },
  {
   "cell_type": "code",
   "execution_count": null,
   "id": "eedb8237",
   "metadata": {},
   "outputs": [],
   "source": []
  },
  {
   "cell_type": "code",
   "execution_count": null,
   "id": "4622d39d",
   "metadata": {},
   "outputs": [],
   "source": []
  },
  {
   "cell_type": "code",
   "execution_count": null,
   "id": "a194cd0d",
   "metadata": {},
   "outputs": [],
   "source": []
  },
  {
   "cell_type": "code",
   "execution_count": null,
   "id": "9afa17cf",
   "metadata": {},
   "outputs": [],
   "source": []
  },
  {
   "cell_type": "code",
   "execution_count": null,
   "id": "b8e6b876",
   "metadata": {},
   "outputs": [],
   "source": []
  },
  {
   "cell_type": "code",
   "execution_count": 81,
   "id": "b37a9874",
   "metadata": {},
   "outputs": [
    {
     "data": {
      "text/plain": [
       "True"
      ]
     },
     "execution_count": 81,
     "metadata": {},
     "output_type": "execute_result"
    }
   ],
   "source": [
    "trainer.place_model_on_device"
   ]
  },
  {
   "cell_type": "code",
   "execution_count": 82,
   "id": "9b4b3eca",
   "metadata": {},
   "outputs": [],
   "source": [
    "def get_prev(elem):\n",
    "    i, v = elem\n",
    "    return _l[i - 1] if i > 0 else None\n",
    "\n",
    "false = lambda *_: False\n",
    "true  = lambda *_: True"
   ]
  },
  {
   "cell_type": "code",
   "execution_count": 83,
   "id": "721cb66f",
   "metadata": {},
   "outputs": [],
   "source": [
    "Element = namedtuple('Element', 'index value')\n",
    "_l = 'A B C B'.split()\n",
    "n = len(_l)\n",
    "# l = [Element._make(e) for e in enumerate(l)]\n",
    "l = seq(_l)\n",
    "l = l.enumerate().map(Element._make)"
   ]
  },
  {
   "cell_type": "code",
   "execution_count": 85,
   "id": "9f22f664",
   "metadata": {},
   "outputs": [
    {
     "data": {
      "text/html": [
       "<table>\n",
       "<thead>\n",
       "<tr><th style=\"text-align: right;\">  index</th><th>value  </th></tr>\n",
       "</thead>\n",
       "<tbody>\n",
       "<tr><td style=\"text-align: right;\">      0</td><td>A      </td></tr>\n",
       "<tr><td style=\"text-align: right;\">      1</td><td>B      </td></tr>\n",
       "<tr><td style=\"text-align: right;\">      2</td><td>C      </td></tr>\n",
       "<tr><td style=\"text-align: right;\">      3</td><td>B      </td></tr>\n",
       "</tbody>\n",
       "</table>"
      ],
      "text/plain": [
       "[Element(index=0, value='A'), Element(index=1, value='B'), Element(index=2, value='C'), Element(index=3, value='B')]"
      ]
     },
     "execution_count": 85,
     "metadata": {},
     "output_type": "execute_result"
    },
    {
     "data": {
      "text/plain": [
       "['C']"
      ]
     },
     "execution_count": 85,
     "metadata": {},
     "output_type": "execute_result"
    },
    {
     "data": {
      "text/plain": [
       "['b']"
      ]
     },
     "execution_count": 85,
     "metadata": {},
     "output_type": "execute_result"
    },
    {
     "data": {
      "text/plain": [
       "[2]"
      ]
     },
     "execution_count": 85,
     "metadata": {},
     "output_type": "execute_result"
    },
    {
     "data": {
      "text/plain": [
       "['C', 'A', 'B', 'B']"
      ]
     },
     "execution_count": 85,
     "metadata": {},
     "output_type": "execute_result"
    },
    {
     "data": {
      "text/plain": [
       "['B', 'B', 'C', 'A']"
      ]
     },
     "execution_count": 85,
     "metadata": {},
     "output_type": "execute_result"
    },
    {
     "data": {
      "text/html": [
       "<table>\n",
       "<thead>\n",
       "<tr><th style=\"text-align: right;\">  index</th><th>value  </th></tr>\n",
       "</thead>\n",
       "<tbody>\n",
       "<tr><td style=\"text-align: right;\">      0</td><td>A      </td></tr>\n",
       "<tr><td style=\"text-align: right;\">      1</td><td>A      </td></tr>\n",
       "<tr><td style=\"text-align: right;\">      2</td><td>C      </td></tr>\n",
       "<tr><td style=\"text-align: right;\">      3</td><td>B      </td></tr>\n",
       "</tbody>\n",
       "</table>"
      ],
      "text/plain": [
       "[Element(index=0, value='A'), Element(index=1, value='A'), Element(index=2, value='C'), Element(index=3, value='B')]"
      ]
     },
     "execution_count": 85,
     "metadata": {},
     "output_type": "execute_result"
    },
    {
     "data": {
      "text/plain": [
       "False"
      ]
     },
     "execution_count": 85,
     "metadata": {},
     "output_type": "execute_result"
    },
    {
     "data": {
      "text/plain": [
       "['A', 'B', 'B', 'C', 'C']"
      ]
     },
     "execution_count": 85,
     "metadata": {},
     "output_type": "execute_result"
    },
    {
     "data": {
      "text/plain": [
       "[1, 1, 2, 1, 2, 3]"
      ]
     },
     "execution_count": 85,
     "metadata": {},
     "output_type": "execute_result"
    },
    {
     "data": {
      "text/plain": [
       "['B']"
      ]
     },
     "execution_count": 85,
     "metadata": {},
     "output_type": "execute_result"
    },
    {
     "data": {
      "text/plain": [
       "['B']"
      ]
     },
     "execution_count": 85,
     "metadata": {},
     "output_type": "execute_result"
    }
   ],
   "source": [
    "l.map(lambda x: {'B': 'D'}.get(x, x))\n",
    "\n",
    "l.filter(lambda x: get_prev(x) == 'B').select(_.value)\n",
    "\n",
    "find_fn = _.index == 1\n",
    "l.filter(find_fn).select(_.value).map(lower)\n",
    "\n",
    "find_fn = _.value == 'C'\n",
    "l.filter(find_fn).select(_.index)\n",
    "\n",
    "# move x to first\n",
    "update_filter = _.value == 'C'\n",
    "get_new = lambda x: -1\n",
    "l.map(lambda x: Element(update_fn(x, 'index'), x.value)).order_by(_.index).select(_.value)\n",
    "\n",
    "# swap first and last\n",
    "update_filter = true\n",
    "get_new = lambda x: {0: n - 1, n - 1: 0}.get(x.index, x.index)\n",
    "l.map(lambda x: Element(update_fn(x, 'index'), x.value)).order_by(_.index).select(_.value)\n",
    "\n",
    "# get inbetween == drop_while + take_while?\n",
    "\n",
    "# update by index to its prev\n",
    "update_filter = _.index == 1\n",
    "get_new = lambda x: get_prev(x)\n",
    "def update_fn(x, update_field): return get_new(x) if update_filter(x) else getattr(x, update_field)\n",
    "l.map(lambda x: Element(x.index, update_fn(x, 'value')))\n",
    "\n",
    "# if two adjacent elements by indices are equal\n",
    "l.filter(lambda x: x.index in [0, 1]).select(_.value).distinct().len() == 1\n",
    "\n",
    "seq('A B C B C'.split()).group_by(_).select(_[1]).flatten()\n",
    "\n",
    "# count occurance till current\n",
    "seq('A B A C B A'.split()).inits().reverse().tail().map(lambda x: x.filter(_ == x.last()).len())\n",
    "\n",
    "# find special\n",
    "seq('A B A A'.split()).count_by_value().filter(_[1] == 1).select(_[0])\n",
    "\n",
    "# generalized find special\n",
    "seq('A A B C C D D'.split()).group_by(_).map(lambda x: (x[0], len(x[1]))).filter(_[1] == 1).select(_[0])"
   ]
  },
  {
   "cell_type": "code",
   "execution_count": null,
   "id": "49b3e124",
   "metadata": {},
   "outputs": [],
   "source": []
  }
 ],
 "metadata": {
  "kernelspec": {
   "display_name": "Python 3",
   "language": "python",
   "name": "python3"
  },
  "language_info": {
   "codemirror_mode": {
    "name": "ipython",
    "version": 3
   },
   "file_extension": ".py",
   "mimetype": "text/x-python",
   "name": "python",
   "nbconvert_exporter": "python",
   "pygments_lexer": "ipython3",
   "version": "3.8.12"
  }
 },
 "nbformat": 4,
 "nbformat_minor": 5
}
