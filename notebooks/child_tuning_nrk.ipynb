{
 "cells": [
  {
   "cell_type": "code",
   "execution_count": 4,
   "id": "f6ea7a72",
   "metadata": {
    "collapsed": true
   },
   "outputs": [
    {
     "name": "stdout",
     "output_type": "stream",
     "text": [
      "\u001b[33mWARNING: Ignoring invalid distribution -yfunctional (/home/kf/miniconda3/envs/pytorch1.7.1/lib/python3.8/site-packages)\u001b[0m\u001b[33m\n",
      "\u001b[0m\u001b[33mWARNING: Ignoring invalid distribution -yfunctional (/home/kf/miniconda3/envs/pytorch1.7.1/lib/python3.8/site-packages)\u001b[0m\u001b[33m\n",
      "\u001b[0mRequirement already satisfied: transformers in /home/kf/miniconda3/envs/pytorch1.7.1/lib/python3.8/site-packages (4.17.0)\n",
      "Requirement already satisfied: sacremoses in /home/kf/miniconda3/envs/pytorch1.7.1/lib/python3.8/site-packages (from transformers) (0.0.45)\n",
      "Requirement already satisfied: filelock in /home/kf/miniconda3/envs/pytorch1.7.1/lib/python3.8/site-packages (from transformers) (3.0.12)\n",
      "Requirement already satisfied: regex!=2019.12.17 in /home/kf/miniconda3/envs/pytorch1.7.1/lib/python3.8/site-packages (from transformers) (2021.10.8)\n",
      "Requirement already satisfied: huggingface-hub<1.0,>=0.1.0 in /home/kf/miniconda3/envs/pytorch1.7.1/lib/python3.8/site-packages (from transformers) (0.4.0)\n",
      "Requirement already satisfied: tqdm>=4.27 in /home/xd/.local/lib/python3.8/site-packages (from transformers) (4.60.0)\n",
      "Requirement already satisfied: tokenizers!=0.11.3,>=0.11.1 in /home/kf/miniconda3/envs/pytorch1.7.1/lib/python3.8/site-packages (from transformers) (0.11.6)\n",
      "Requirement already satisfied: packaging>=20.0 in /home/xd/.local/lib/python3.8/site-packages (from transformers) (20.9)\n",
      "Requirement already satisfied: pyyaml>=5.1 in /home/kf/miniconda3/envs/pytorch1.7.1/lib/python3.8/site-packages/PyYAML-6.0-py3.8-linux-x86_64.egg (from transformers) (6.0)\n",
      "Requirement already satisfied: numpy>=1.17 in /home/kf/miniconda3/envs/pytorch1.7.1/lib/python3.8/site-packages (from transformers) (1.21.2)\n",
      "Requirement already satisfied: requests in /home/kf/miniconda3/envs/pytorch1.7.1/lib/python3.8/site-packages (from transformers) (2.25.1)\n",
      "Requirement already satisfied: typing-extensions>=3.7.4.3 in /home/kf/miniconda3/envs/pytorch1.7.1/lib/python3.8/site-packages (from huggingface-hub<1.0,>=0.1.0->transformers) (4.1.1)\n",
      "Requirement already satisfied: pyparsing>=2.0.2 in /home/xd/.local/lib/python3.8/site-packages (from packaging>=20.0->transformers) (2.4.7)\n",
      "Requirement already satisfied: urllib3<1.27,>=1.21.1 in /home/kf/miniconda3/envs/pytorch1.7.1/lib/python3.8/site-packages (from requests->transformers) (1.26.4)\n",
      "Requirement already satisfied: chardet<5,>=3.0.2 in /home/kf/miniconda3/envs/pytorch1.7.1/lib/python3.8/site-packages (from requests->transformers) (4.0.0)\n",
      "Requirement already satisfied: idna<3,>=2.5 in /home/kf/miniconda3/envs/pytorch1.7.1/lib/python3.8/site-packages (from requests->transformers) (2.10)\n",
      "Requirement already satisfied: certifi>=2017.4.17 in /home/kf/miniconda3/envs/pytorch1.7.1/lib/python3.8/site-packages (from requests->transformers) (2021.10.8)\n",
      "Requirement already satisfied: six in /home/kf/miniconda3/envs/pytorch1.7.1/lib/python3.8/site-packages (from sacremoses->transformers) (1.16.0)\n",
      "Requirement already satisfied: joblib in /home/kf/miniconda3/envs/pytorch1.7.1/lib/python3.8/site-packages (from sacremoses->transformers) (1.0.1)\n",
      "Requirement already satisfied: click in /home/kf/miniconda3/envs/pytorch1.7.1/lib/python3.8/site-packages (from sacremoses->transformers) (7.1.2)\n",
      "\u001b[33mWARNING: Ignoring invalid distribution -yfunctional (/home/kf/miniconda3/envs/pytorch1.7.1/lib/python3.8/site-packages)\u001b[0m\u001b[33m\n",
      "\u001b[0m\u001b[33mWARNING: Ignoring invalid distribution -yfunctional (/home/kf/miniconda3/envs/pytorch1.7.1/lib/python3.8/site-packages)\u001b[0m\u001b[33m\n",
      "\u001b[0m\u001b[33mWARNING: Ignoring invalid distribution -yfunctional (/home/kf/miniconda3/envs/pytorch1.7.1/lib/python3.8/site-packages)\u001b[0m\u001b[33m\n",
      "\u001b[0mNote: you may need to restart the kernel to use updated packages.\n"
     ]
    }
   ],
   "source": [
    "pip install --upgrade transformers"
   ]
  },
  {
   "cell_type": "code",
   "execution_count": 335,
   "id": "0faf2697",
   "metadata": {},
   "outputs": [
    {
     "data": {
      "text/plain": [
       "'3.8.12 | packaged by conda-forge | (default, Jan 30 2022, 23:53:36) \\n[GCC 9.4.0]'"
      ]
     },
     "execution_count": 335,
     "metadata": {},
     "output_type": "execute_result"
    }
   ],
   "source": [
    "sys.version"
   ]
  },
  {
   "cell_type": "code",
   "execution_count": 8,
   "id": "0e11bc1d",
   "metadata": {
    "collapsed": true
   },
   "outputs": [
    {
     "name": "stdout",
     "output_type": "stream",
     "text": [
      "\u001b[33mWARNING: Ignoring invalid distribution -yfunctional (/home/kf/miniconda3/envs/pytorch1.7.1/lib/python3.8/site-packages)\u001b[0m\u001b[33m\n",
      "\u001b[0m\u001b[33mWARNING: Ignoring invalid distribution -yfunctional (/home/kf/miniconda3/envs/pytorch1.7.1/lib/python3.8/site-packages)\u001b[0m\u001b[33m\n",
      "\u001b[0mCollecting pyfunctional\n",
      "  Using cached PyFunctional-1.4.3-py3-none-any.whl (49 kB)\n",
      "Requirement already satisfied: dill>=0.2.5 in /home/kf/miniconda3/envs/pytorch1.7.1/lib/python3.8/site-packages (from pyfunctional) (0.3.4)\n",
      "Requirement already satisfied: tabulate<=1.0.0 in /home/kf/miniconda3/envs/pytorch1.7.1/lib/python3.8/site-packages (from pyfunctional) (0.8.9)\n",
      "\u001b[33mWARNING: Ignoring invalid distribution -yfunctional (/home/kf/miniconda3/envs/pytorch1.7.1/lib/python3.8/site-packages)\u001b[0m\u001b[33m\n",
      "\u001b[0mInstalling collected packages: pyfunctional\n",
      "\u001b[33mWARNING: Ignoring invalid distribution -yfunctional (/home/kf/miniconda3/envs/pytorch1.7.1/lib/python3.8/site-packages)\u001b[0m\u001b[33m\n",
      "\u001b[0mSuccessfully installed pyfunctional-1.4.3\n",
      "\u001b[33mWARNING: Ignoring invalid distribution -yfunctional (/home/kf/miniconda3/envs/pytorch1.7.1/lib/python3.8/site-packages)\u001b[0m\u001b[33m\n",
      "\u001b[0m\u001b[33mWARNING: Ignoring invalid distribution -yfunctional (/home/kf/miniconda3/envs/pytorch1.7.1/lib/python3.8/site-packages)\u001b[0m\u001b[33m\n",
      "\u001b[0mNote: you may need to restart the kernel to use updated packages.\n"
     ]
    }
   ],
   "source": [
    "pip install --upgrade pyfunctional"
   ]
  },
  {
   "cell_type": "code",
   "execution_count": 308,
   "id": "367b7b1e",
   "metadata": {},
   "outputs": [],
   "source": [
    "%%capture\n",
    "%run \"context_learning_nrk.ipynb\""
   ]
  },
  {
   "cell_type": "code",
   "execution_count": 309,
   "id": "9398a888",
   "metadata": {},
   "outputs": [
    {
     "name": "stdout",
     "output_type": "stream",
     "text": [
      "Instruction: Is this sentence correct. For example:\n",
      "A should be easier to melt than B because B is hotter. Is that right? -> No\n",
      "\n"
     ]
    }
   ],
   "source": [
    "text1 = text\n",
    "print(text1[0])"
   ]
  },
  {
   "cell_type": "code",
   "execution_count": 1,
   "id": "7292808a",
   "metadata": {},
   "outputs": [],
   "source": [
    "from IPython import get_ipython\n",
    "%load_ext autoreload\n",
    "%autoreload 2\n",
    "\n",
    "from IPython.core.interactiveshell import InteractiveShell\n",
    "InteractiveShell.ast_node_interactivity = 'all'"
   ]
  },
  {
   "cell_type": "code",
   "execution_count": 13,
   "id": "54a886cb",
   "metadata": {},
   "outputs": [],
   "source": [
    "import sys\n",
    "import os\n",
    "\n",
    "os.environ['HF_HOME'] = '/raid/xd/.cache/torch'\n",
    "os.environ[\"CUDA_DEVICE_ORDER\"]=\"PCI_BUS_ID\"\n",
    "os.environ[\"CUDA_VISIBLE_DEVICES\"]=\"7\"\n",
    "import random\n",
    "from sklearn.metrics import accuracy_score, precision_recall_fscore_support\n",
    "from types import MethodType\n",
    "from tqdm import tqdm\n",
    "from collections import defaultdict, OrderedDict, Counter\n",
    "from datetime import datetime\n",
    "from io import StringIO\n",
    "from itertools import chain\n",
    "import math\n",
    "from functools import reduce\n",
    "import numpy as np \n",
    "# np.set_printoptions(threshold=np.inf)\n",
    "%matplotlib inline\n",
    "import matplotlib.pyplot as plt\n",
    "import seaborn as sns\n",
    "\n",
    "import torch\n",
    "import torch.nn as nn\n",
    "import torch.nn.functional as F \n",
    "from torch.utils.data.sampler import RandomSampler, Sampler, SequentialSampler\n",
    "from torch.utils.data.dataloader import DataLoader\n",
    "\n",
    "from transformers.data.data_collator import DataCollator, default_data_collator\n",
    "from transformers import AutoConfig, pipeline\n",
    "from transformers import RobertaForMaskedLM, RobertaTokenizer, GPT2LMHeadModel, GPT2Tokenizer, GPTNeoForCausalLM, AutoModelForCausalLM\n",
    "from transformers import T5Tokenizer, T5ForConditionalGeneration\n",
    "from transformers import HfArgumentParser, Trainer, TrainingArguments, set_seed, AdamW\n",
    "# from torch.optim.lr_scheduler import CosineAnnealingLR\n",
    "# from transformers.trainer_utils import EvaluationStrategy\n"
   ]
  },
  {
   "cell_type": "code",
   "execution_count": 6,
   "id": "7f54c226",
   "metadata": {},
   "outputs": [],
   "source": [
    "from transformers import GPT2LMHeadModel, GPT2Tokenizer, GPTNeoForCausalLM, GPTJForCausalLM"
   ]
  },
  {
   "cell_type": "code",
   "execution_count": 7,
   "id": "dd287822",
   "metadata": {},
   "outputs": [],
   "source": [
    "sys.path.insert(0, '/nas/xd/projects/PyFunctional')\n",
    "from functional import seq\n",
    "from functional.pipeline import Sequence\n",
    "from fn import _\n",
    "from collections import namedtuple \n",
    "import sys\n",
    "# sys.path.insert(0, '/nas/xd/projects/transformers/src/transformers')\n",
    "import os\n",
    "# device_mappings = {0: 1, 1: 5, 2: 6, 3: 7, 4: 2, 5: 3, 6: 0, 1: 4}\n",
    "# os.environ[\"CUDA_VISIBLE_DEVICES\"] = str(device_mappings[2])\n",
    "\n",
    "import random\n",
    "import string\n",
    "from collections import defaultdict, OrderedDict\n",
    "from itertools import product, chain\n",
    "import math\n",
    "import numpy as np\n",
    "from pattern.en import comparative\n",
    "import types"
   ]
  },
  {
   "cell_type": "code",
   "execution_count": 348,
   "id": "a2a577ee",
   "metadata": {},
   "outputs": [],
   "source": [
    "sys.path.insert(0, '/nas/xd/projects/PyFunctional')\n",
    "from functional import seq\n",
    "from functional.pipeline import Sequence\n",
    "from fn import _\n",
    "from collections import namedtuple \n",
    "import sys\n",
    "# sys.path.insert(0, '/nas/xd/projects/transformers/src/transformers')\n",
    "import os"
   ]
  },
  {
   "cell_type": "code",
   "execution_count": 347,
   "id": "7d5907ae",
   "metadata": {},
   "outputs": [],
   "source": [
    "import torch\n",
    "from torch import nn\n",
    "import torch.nn.functional as F\n",
    "from torch.nn import CrossEntropyLoss, MSELoss\n",
    "import openai\n",
    "openai.api_key = open('/nas/xd/projects/openai_api_keys.txt').readlines()[-1].split()[0]"
   ]
  },
  {
   "cell_type": "code",
   "execution_count": 338,
   "id": "86a17aee",
   "metadata": {},
   "outputs": [
    {
     "name": "stdout",
     "output_type": "stream",
     "text": [
      "Instruction: Do all students choose courses in a department. For example:\n",
      "D: Chinese, U: Art, A: Art, U: Chinese, D: Art; Art: Chi, Chinese: Eng, Physics: Eng. A and U,Chi? -> Yes\n",
      "\n",
      "Instruction: Do all students choose courses in a department. For example:\n",
      "C: Sql, H: Physics, H: Sql, H: Chemistry, K: Sql; Sql: Chi, Physics: Chi, Chemistry: Eng. H and C,Eng? -> No\n",
      "\n"
     ]
    }
   ],
   "source": [
    "n_total, n_valid =2,1\n",
    "n_train = n_total - n_valid\n",
    "# input_strs = [make_input_str(tasks[-7], nrows=1, ncols=(3,4,5)) for __ in range(n_total)]# Is the intersection of two sets empty.\n",
    "# input_strs = [make_input_str(tasks[-3], nrows=1, ncols=(4,4,3)) for __ in range(n_total)]# Are there any elements different from other elements\n",
    "# input_strs = [make_input_str(tasks[-4], nrows=1, ncols=(3,4,2,4)) for __ in range(n_total)]# Are_there_elements_belonging_to_the_same_class\n",
    "# input_strs = [make_input_str(tasks[-1], nrows=1, ncols=(5,2)) for __ in range(n_total)]#Is_the_number_of_first_elements_greater_than_the_second_one\n",
    "# input_strs = [make_input_str(tasks[-2], nrows=1, ncols=(3,1), ans_vocab=[0,1,2,3]) for __ in range(n_total)] #How_many_elements_are_similar_to_the_example\n",
    "# input_strs = [make_input_str(tasks[-5], nrows=1, ncols=(3,4,2,4)) for __ in range(n_total)] #Are_they_the_union_of_the_last_element\n",
    "# input_strs = [make_input_str(tasks[-6], nrows=1, ncols=(3,11,5)) for __ in range(n_total)]#Is the first set a subset of the second one\n",
    "input_strs = [make_input_str(tasks[-10], nrows=1, ncols=(3, 3, 2, 5)) for __ in range(n_total)]\n",
    "# input_strs = [make_input_str(tasks[-9], nrows=1, ncols=(4,2)) for __ in range(n_total)] #Compare the values of two sets.\n",
    "# input_strs = [make_input_str(tasks[-8], nrows=1, ncols=(4, 4, 4)) for __ in range(n_total)] #Relationship between two sets.\n",
    "\n",
    "for s in sample(input_strs, 2): print(s)"
   ]
  },
  {
   "cell_type": "code",
   "execution_count": 339,
   "id": "21465a1e",
   "metadata": {},
   "outputs": [],
   "source": [
    "def get_model_fn(engine):  # XD\n",
    "    def fn(text):\n",
    "        return openai.Completion.create(engine=engine, prompt=text, max_tokens=1, echo=True, logprobs=5).choices[0]\n",
    "    return fn\n",
    "\n",
    "engines = ['davinci', 'curie']\n",
    "for engine in engines:\n",
    "    model_name = 'openai_api_' + engine\n",
    "#     model = lambda x: openai.Completion.create(engine=engine, prompt=x, max_tokens=0, echo=True, logprobs=5).choices[0]\n",
    "    model = get_model_fn(engine)\n",
    "    models[model_name] = model, tokenizer\n",
    "    \n",
    "# model_name = 'openai_api_davinci'\n",
    "model_name = 'openai_api_curie'\n",
    "model, tokenizer = models[model_name]"
   ]
  },
  {
   "cell_type": "code",
   "execution_count": 317,
   "id": "bf3af01a",
   "metadata": {},
   "outputs": [
    {
     "data": {
      "text/plain": [
       "dict_keys(['EleutherAI/gpt-j-6B'])"
      ]
     },
     "execution_count": 317,
     "metadata": {},
     "output_type": "execute_result"
    }
   ],
   "source": [
    "models.keys()"
   ]
  },
  {
   "cell_type": "code",
   "execution_count": 341,
   "id": "693f563f",
   "metadata": {},
   "outputs": [],
   "source": [
    "def get_prob_dist(d, topk=5): return {k: round(math.exp(v), 3) for k, v in sorted(d.items(), key=lambda x: x[1], reverse=True)[:topk]}"
   ]
  },
  {
   "cell_type": "code",
   "execution_count": 342,
   "id": "77d1817b",
   "metadata": {},
   "outputs": [],
   "source": [
    "def get_ans_indices0(input_ids):\n",
    "    bos_id = tokenizer._convert_token_to_id('Ġ->')\n",
    "    eos_id = tokenizer._convert_token_to_id('Ċ')\n",
    "    bos_indices = (input_ids == bos_id).nonzero().squeeze(1).tolist()\n",
    "    eos_indices = (input_ids == eos_id).nonzero()[-len(bos_indices):].squeeze(1).tolist()\n",
    "    return bos_indices, eos_indices\n",
    "\n",
    "# def get_ans_indices1(input_ids):\n",
    "#     bos_id = tokenizer._convert_token_to_id('?')\n",
    "# #     print(\"bos_id\",bos_id)\n",
    "#     eos_id = tokenizer._convert_token_to_id('Ċ')\n",
    "#     period_ids = [tokenizer._convert_token_to_id('.'), tokenizer._convert_token_to_id('Ġ.')]\n",
    "# #     print(\"period_ids:\",period_ids)\n",
    "# #     l_bracket_id, r_bracket_id = tokenizer._convert_token_to_id('Ġ['), tokenizer._convert_token_to_id('Ġ]')\n",
    "# #     print(\"l_bracket_id\",l_bracket_id)\n",
    "# #     print(\"r_bracket_id:\",r_bracket_id)\n",
    "#     eos_indices = (input_ids == eos_id).nonzero().squeeze(1).tolist() #.nonezero()取非零元素坐标\n",
    "# #     print(\"eos_indices0:\",eos_indices)\n",
    "#     eos_indices = [i - 1 if input_ids[i - 1] in period_ids else i for i in eos_indices]\n",
    "# #     print(\"eos_indices1:\",eos_indices)\n",
    "# #     eos_indices = [i - 1 if input_ids[i - 1] == r_bracket_id else i for i in eos_indices]\n",
    "# #     print(\"eos_indices2:\",eos_indices)\n",
    "    \n",
    "#     def find_bos_index(start_i):\n",
    "#         for bos_i in range(start_i, start_i - 3, -1):\n",
    "# #             if input_ids[bos_i] == bos_id or input_ids[bos_i] == l_bracket_id and input_ids[bos_i - 1] == bos_id:\n",
    "#             if input_ids[bos_i] == bos_id:\n",
    "#                 if bos_i != start_i: print('subtokens:', tokenizer.convert_ids_to_tokens(input_ids[bos_i + 1: start_i + 2]))\n",
    "#                 return bos_i\n",
    "#         assert False\n",
    "#     bos_indices = [find_bos_index(i - 2) for i in eos_indices]\n",
    "# #     print(\"bos:\",bos_indices)\n",
    "# #     print(\"eos:\",eos_indices)\n",
    "#     return bos_indices, eos_indices"
   ]
  },
  {
   "cell_type": "code",
   "execution_count": 353,
   "id": "bb474e98",
   "metadata": {},
   "outputs": [],
   "source": [
    "correct_num = 0\n",
    "def predict(model, text, ans_indices_fn, topk=5, return_reduced_loss=False, verbose=True):\n",
    "    use_openai_api = type(model) in [types.MethodType, types.FunctionType]  # openai.Completion.create\n",
    "    print(\"[]\",[types.MethodType, types.FunctionType])\n",
    "    print(\"type(model):\",type(model))\n",
    "    inputs = tokenizer.encode_plus(text, return_tensors='pt')\n",
    "    print(inputs)\n",
    "    input_ids = inputs.input_ids\n",
    "#     print(input_ids)\n",
    "    bsz = input_ids.size(0)\n",
    "#     print(\"bsz = \",bsz)\n",
    "    labels = torch.ones_like(input_ids) * (-100)\n",
    "    if use_openai_api:\n",
    "        assert bsz == 1\n",
    "#         outputs = model(engine=engine, prompt=text, max_tokens=0, echo=True, logprobs=5).choices[0].logprobs\n",
    "        outputs = model(text).logprobs  # XD\n",
    "        ans_nlls = []\n",
    "    else:\n",
    "        inputs = prepare_inputs(inputs, model.device)\n",
    "        outputs = model(**inputs, output_attentions=False)\n",
    "        logits = outputs.logits\n",
    "    for bi in range(bsz):\n",
    "\n",
    "        bos_indices, eos_indices = ans_indices_fn(input_ids[bi])\n",
    "#         print(\"input_ids :\",input_ids[bi])\n",
    "#         print(\"ans_indices_fn:\",ans_indices_fn(input_ids[bi]))\n",
    "#         print(\"bos_indices:\",bos_indices)\n",
    "#         print(\"eos_indices:\",eos_indices)\n",
    "        examples = text.strip().split('\\n')\n",
    "#         print(\"bos_indices:\",bos_indices)\n",
    "        print(\"examples:\",examples)\n",
    "        assert len(bos_indices) == len(examples)-1, '%d != %d' % (len(bos_indices), len(examples))\n",
    "        num = 0\n",
    "        for i, (example, bos_i, eos_i) in enumerate(zip(examples, bos_indices, eos_indices)):\n",
    "#             if verbose: print(' ' + example, end='\\t')\n",
    "            ans_ids = input_ids[bi, bos_i + 1: eos_i]\n",
    "            print(\"ans_ids:\",ans_ids)\n",
    "            labels[bi, bos_i: eos_i - 1] = ans_ids\n",
    "            if use_openai_api:\n",
    "                ans_prob_dist = [get_prob_dist(d, topk=topk) for d in outputs.top_logprobs[bos_i + 1: eos_i]]\n",
    "                ans_probs = [math.exp(lp) for lp in outputs.token_logprobs[bos_i + 1: eos_i]]\n",
    "                ans_nlls += [-lp for lp in outputs.token_logprobs[bos_i + 1: eos_i]]\n",
    "            else:\n",
    "                ans_prob_dist = logits[bi, bos_i: eos_i - 1].softmax(-1)\n",
    "                ans_probs = ans_prob_dist[torch.arange(ans_prob_dist.size(0)), ans_ids]\n",
    "            ans_tokens = tokenizer.convert_ids_to_tokens(ans_ids)\n",
    "            num += 1\n",
    "            for ans_id, ans_token, ans_prob, dist in zip(ans_ids, ans_tokens, numpy(ans_probs, decimals=3), ans_prob_dist):\n",
    "                top1_correct = max(dist.items(), key=lambda x: x[1])[0] == ans_token.replace('Ġ', ' ') \\\n",
    "                    if use_openai_api else (dist.argmax() == ans_id).item()  \n",
    "                \n",
    "                if verbose:\n",
    "                    if(num == 1 and top1_correct):\n",
    "                        global correct_num\n",
    "                        correct_num += 1\n",
    "                    if(len(ans_tokens) <= 1):\n",
    "#                         if(top1_correct):\n",
    "#                             dictlocation1[example] = 1\n",
    "                        print(('！！！' if top1_correct else ' ') + ans_token, ans_prob, \n",
    "                              dist if use_openai_api else show_topk(*dist.topk(topk), indices_fn=tokenizer.convert_ids_to_tokens)) \n",
    "                        \n",
    "                    else:\n",
    "                        pass\n",
    "    if use_openai_api:\n",
    "        loss = ans_nlls if return_reduced_loss else sum(ans_nlls) / len(ans_nlls)\n",
    "    else:\n",
    "        loss = nn.CrossEntropyLoss()(logits.view(-1, logits.size(-1)), labels.view(-1)) if return_reduced_loss \\\n",
    "            else nn.CrossEntropyLoss(reduction='none')(logits.view(-1, logits.size(-1)), labels.view(-1))[labels.view(-1)>=0].tolist()\n",
    "    return loss"
   ]
  },
  {
   "cell_type": "code",
   "execution_count": 354,
   "id": "f49b21a5",
   "metadata": {},
   "outputs": [
    {
     "name": "stdout",
     "output_type": "stream",
     "text": [
      "2\n",
      "Instruction: Do all students choose courses in a department. For example:\n",
      "D: Chinese, U: Art, A: Art, U: Chinese, D: Art; Art: Chi, Chinese: Eng, Physics: Eng. A and U,Chi? -> Yes\n",
      "\n"
     ]
    }
   ],
   "source": [
    "print(len(input_strs))\n",
    "print(input_strs[0])"
   ]
  },
  {
   "cell_type": "code",
   "execution_count": 355,
   "id": "490ff768",
   "metadata": {
    "scrolled": true
   },
   "outputs": [
    {
     "name": "stdout",
     "output_type": "stream",
     "text": [
      "[] [<class 'method'>, <class 'function'>]\n",
      "type(model): <class 'function'>\n",
      "{'input_ids': tensor([[ 6310,  2762,    25,  2141,   477,  2444,  3853, 10902,   287,   257,\n",
      "          5011,    13,  1114,  1672,    25,   198,    35,    25,  3999,    11,\n",
      "           471,    25,  3683,    11,   317,    25,  3683,    11,   471,    25,\n",
      "          3999,    11,   360,    25,  3683,    26,  3683,    25, 21380,    11,\n",
      "          3999,    25,  1985,    11, 23123,    25,  1985,    13,   317,   290,\n",
      "           471,    11,  1925,    72,    30,  4613,  3363,   198]]), 'attention_mask': tensor([[1, 1, 1, 1, 1, 1, 1, 1, 1, 1, 1, 1, 1, 1, 1, 1, 1, 1, 1, 1, 1, 1, 1, 1,\n",
      "         1, 1, 1, 1, 1, 1, 1, 1, 1, 1, 1, 1, 1, 1, 1, 1, 1, 1, 1, 1, 1, 1, 1, 1,\n",
      "         1, 1, 1, 1, 1, 1, 1, 1, 1, 1]])}\n",
      "examples: ['Instruction: Do all students choose courses in a department. For example:', 'D: Chinese, U: Art, A: Art, U: Chinese, D: Art; Art: Chi, Chinese: Eng, Physics: Eng. A and U,Chi? -> Yes']\n",
      "ans_ids: tensor([3363])\n",
      " ĠYes 0.008 {' A': 0.086, ' U': 0.047, ' D': 0.037, ' Art': 0.031, ' Eng': 0.025}\n"
     ]
    },
    {
     "data": {
      "text/plain": [
       "4.8359756"
      ]
     },
     "execution_count": 355,
     "metadata": {},
     "output_type": "execute_result"
    },
    {
     "name": "stdout",
     "output_type": "stream",
     "text": [
      "[] [<class 'method'>, <class 'function'>]\n",
      "type(model): <class 'function'>\n",
      "{'input_ids': tensor([[ 6310,  2762,    25,  2141,   477,  2444,  3853, 10902,   287,   257,\n",
      "          5011,    13,  1114,  1672,    25,   198,    34,    25,   311, 13976,\n",
      "            11,   367,    25, 23123,    11,   367,    25,   311, 13976,    11,\n",
      "           367,    25, 27867,    11,   509,    25,   311, 13976,    26,   311,\n",
      "         13976,    25, 21380,    11, 23123,    25, 21380,    11, 27867,    25,\n",
      "          1985,    13,   367,   290,   327,    11,  7936,    30,  4613,  1400,\n",
      "           198]]), 'attention_mask': tensor([[1, 1, 1, 1, 1, 1, 1, 1, 1, 1, 1, 1, 1, 1, 1, 1, 1, 1, 1, 1, 1, 1, 1, 1,\n",
      "         1, 1, 1, 1, 1, 1, 1, 1, 1, 1, 1, 1, 1, 1, 1, 1, 1, 1, 1, 1, 1, 1, 1, 1,\n",
      "         1, 1, 1, 1, 1, 1, 1, 1, 1, 1, 1, 1, 1]])}\n",
      "examples: ['Instruction: Do all students choose courses in a department. For example:', 'C: Sql, H: Physics, H: Sql, H: Chemistry, K: Sql; Sql: Chi, Physics: Chi, Chemistry: Eng. H and C,Eng? -> No']\n",
      "ans_ids: tensor([1400])\n",
      " ĠNo 0.018 {' H': 0.067, ' S': 0.056, ' Eng': 0.045, ' C': 0.03, ' K': 0.026}\n"
     ]
    },
    {
     "data": {
      "text/plain": [
       "3.990212"
      ]
     },
     "execution_count": 355,
     "metadata": {},
     "output_type": "execute_result"
    }
   ],
   "source": [
    "correct_num = 0\n",
    "for i in input_strs:\n",
    "# for i in text1:\n",
    "    text = i\n",
    "    predict(model, text, get_ans_indices0, verbose=True, topk=5)"
   ]
  },
  {
   "cell_type": "markdown",
   "id": "58c1fe66",
   "metadata": {},
   "source": [
    "# 从这里开始"
   ]
  },
  {
   "cell_type": "code",
   "execution_count": 8,
   "id": "58cba5e2",
   "metadata": {
    "scrolled": true
   },
   "outputs": [],
   "source": [
    "from utils import *\n",
    "from child_utils import *\n",
    "from common_utils import *\n",
    "from model_utils import *"
   ]
  },
  {
   "cell_type": "code",
   "execution_count": 10,
   "id": "90f62ac5",
   "metadata": {},
   "outputs": [],
   "source": [
    "models = {}\n",
    "# cache_dir = '/nas/xd/.cache/torch/transformers/'  # for models besides t5-3b/11b\n",
    "cache_dir = '/mnt/nvme1/xd/.cache/torch/transformers/'  # for gpt-j-6B on elderberry\n",
    "proxies = {'http': '192.168.50.1:1081'} "
   ]
  },
  {
   "cell_type": "code",
   "execution_count": 14,
   "id": "520d34a6",
   "metadata": {
    "scrolled": true
   },
   "outputs": [],
   "source": [
    "model_name = \"EleutherAI/gpt-j-6B\"\n",
    "# model_name = \"EleutherAI/gpt-neo-1.3B\"\n",
    "# model = GPTJForCausalLM.from_pretrained(model_name, proxies=proxies, cache_dir=cache_dir)\n",
    "model = AutoModelForCausalLM.from_pretrained(model_name, proxies=proxies, cache_dir=cache_dir)\n",
    "tokenizer = GPT2Tokenizer.from_pretrained('gpt2', cache_dir=cache_dir)\n",
    "models[model_name] = model, tokenizer"
   ]
  },
  {
   "cell_type": "code",
   "execution_count": 15,
   "id": "830ce082",
   "metadata": {},
   "outputs": [],
   "source": [
    "_ = model.eval()\n",
    "unify(model)\n",
    "blocks = model.transformer.h\n",
    "attn = blocks[0].attn\n",
    "ln_f = model.transformer.ln_f\n",
    "L, H, embed_dim = len(blocks), attn.num_heads, attn.embed_dim\n",
    "\n",
    "_we = model.transformer.wte.weight.data.t()\n",
    "_wu = model.lm_head.weight.data"
   ]
  },
  {
   "cell_type": "code",
   "execution_count": 58,
   "id": "0e50583a",
   "metadata": {},
   "outputs": [
    {
     "data": {
      "text/plain": [
       "GPTJAttention(\n",
       "  (attn_dropout): Dropout(p=0.0, inplace=False)\n",
       "  (resid_dropout): Dropout(p=0.0, inplace=False)\n",
       "  (k_proj): Linear(in_features=4096, out_features=4096, bias=False)\n",
       "  (v_proj): Linear(in_features=4096, out_features=4096, bias=False)\n",
       "  (q_proj): Linear(in_features=4096, out_features=4096, bias=False)\n",
       "  (out_proj): Linear(in_features=4096, out_features=4096, bias=False)\n",
       ")"
      ]
     },
     "execution_count": 58,
     "metadata": {},
     "output_type": "execute_result"
    }
   ],
   "source": [
    "attn"
   ]
  },
  {
   "cell_type": "code",
   "execution_count": 59,
   "id": "c128d0b0",
   "metadata": {},
   "outputs": [
    {
     "data": {
      "text/plain": [
       "LayerNorm((4096,), eps=1e-05, elementwise_affine=True)"
      ]
     },
     "execution_count": 59,
     "metadata": {},
     "output_type": "execute_result"
    }
   ],
   "source": [
    "ln_f"
   ]
  },
  {
   "cell_type": "code",
   "execution_count": 61,
   "id": "cd64c2dd",
   "metadata": {},
   "outputs": [
    {
     "data": {
      "text/plain": [
       "28"
      ]
     },
     "execution_count": 61,
     "metadata": {},
     "output_type": "execute_result"
    },
    {
     "data": {
      "text/plain": [
       "16"
      ]
     },
     "execution_count": 61,
     "metadata": {},
     "output_type": "execute_result"
    }
   ],
   "source": [
    "L\n",
    "H"
   ]
  },
  {
   "cell_type": "code",
   "execution_count": 23,
   "id": "d82cfd61",
   "metadata": {},
   "outputs": [
    {
     "data": {
      "text/plain": [
       "torch.Size([50400, 4096])"
      ]
     },
     "execution_count": 23,
     "metadata": {},
     "output_type": "execute_result"
    }
   ],
   "source": [
    "_wu.size()"
   ]
  },
  {
   "cell_type": "code",
   "execution_count": 383,
   "id": "ef8becf4",
   "metadata": {},
   "outputs": [],
   "source": [
    "def T(f): return lambda x: f(x.T).T\n",
    "mlp = lambda x: mlp_forward(blocks[0], x)\n",
    "v = we.size(1) #// 2\n",
    "_we, _wu = we[:, :v], wu[:v]\n",
    "with torch.no_grad(): _e = mlp(_we.T) + _we.T"
   ]
  },
  {
   "cell_type": "code",
   "execution_count": 1621,
   "id": "dc605c26",
   "metadata": {},
   "outputs": [
    {
     "data": {
      "text/plain": [
       "50400"
      ]
     },
     "execution_count": 1621,
     "metadata": {},
     "output_type": "execute_result"
    }
   ],
   "source": [
    "v"
   ]
  },
  {
   "cell_type": "code",
   "execution_count": 2202,
   "id": "9a94c107",
   "metadata": {},
   "outputs": [],
   "source": [
    "layer, head = 13, 4# prev ov: 13-9, next num ov: 14-13, next word ov: 13-4, prepend space ov: 18-3/17-10, isa ov: 14-7, antonym ov: 16-14, copy ov 13-2\n",
    "wq, wk, wv, wo = get_head_weights(model, layer, head, transpose=True)\n",
    "with torch.no_grad():\n",
    "    eq = ek = e = blocks[layer].ln_1(_e)\n",
    "    # A, B = _wu, ln_f(e @ wv @ wo)\n",
    "    A, B = _wu @ wo.T, e @ wv\n",
    "    q, k = eq @ wq, ek @ wk"
   ]
  },
  {
   "cell_type": "code",
   "execution_count": 2203,
   "id": "a7f6529b",
   "metadata": {},
   "outputs": [],
   "source": [
    "qk = True\n",
    "with torch.no_grad():  # ve,ed,de,ev->vv\n",
    "    # _m = ln(mlp(_we.T)) @ (wq.T @ wk) @ T(ln)(T(mlp)(_we)) if qk else _wu @ T(ln_f)(wo @ (wv @ T(ln)(T(mlp)(_we))))\n",
    "    _m = q @ k.T if qk else _wu @ ln_f(B @ wo).T"
   ]
  },
  {
   "cell_type": "code",
   "execution_count": 2204,
   "id": "459d21eb",
   "metadata": {},
   "outputs": [
    {
     "data": {
      "text/plain": [
       "-0.27435773611068726"
      ]
     },
     "execution_count": 2204,
     "metadata": {},
     "output_type": "execute_result"
    },
    {
     "data": {
      "image/png": "[encoded data removed]",
      "text/plain": [
       "<Figure size 432x288 with 1 Axes>"
      ]
     },
     "metadata": {
      "needs_background": "light"
     },
     "output_type": "display_data"
    }
   ],
   "source": [
    "plot_eigv((k.T @ q).eig()[0] if qk else (B.T @ A).eig()[0], start_i=1)"
   ]
  },
  {
   "cell_type": "code",
   "execution_count": 2205,
   "id": "801cf7e3",
   "metadata": {},
   "outputs": [],
   "source": [
    "m = _m  # q->k, output->input\n",
    "# m = _m.T  # k->q, input->output\n",
    "values, indices = m.topk(10)"
   ]
  },
  {
   "cell_type": "code",
   "execution_count": 2206,
   "id": "d258e52b",
   "metadata": {
    "scrolled": false
   },
   "outputs": [
    {
     "name": "stdout",
     "output_type": "stream",
     "text": [
      "olithic {'ĠLakers': 39, 'ĠPackers': 38, 'ĠClippers': 38, 'ĠAliens': 38, 'ĠBolton': 37, 'Barn': 37}\n",
      "ĠHouth {'Ġfireball': 41, 'ĠBrawl': 39, 'ĠGarr': 38, 'ĠRampage': 38, 'ĠCompton': 36, 'Ġstewards': 36}\n",
      "artisan {'Ġgreenhouse': 41, 'Ġghetto': 40, 'Ġgraveyard': 38, 'Ġblacklist': 36, 'Ġwildfires': 36, 'ĠFlood': 36}\n",
      "merga {'Ġplutonium': 37, 'Ġfireball': 37, 'Ġpessim': 37, 'Ġlevers': 37, 'ĠTitanium': 37, 'Ġhob': 37}\n",
      "vette {'Ġslug': 39, 'Ġhierarch': 37, 'Ġemph': 37, 'Ġtempor': 35, 'Ġcaric': 35, 'Ġkale': 35}\n",
      "Ġtherap {'Ġchipset': 37, 'ĠCarnage': 37, 'Ġceilings': 36, 'ĠDAC': 36, 'Ġ1995': 36, 'Ġ1990': 36}\n",
      "ĠJazeera {'Ġpersecut': 37, 'Ġcaric': 37, 'ĠLegions': 37, 'ĠCarnage': 36, 'ĠMorg': 36, 'ĠTitanium': 35}\n",
      "azeera {'Ġsimulac': 36, 'ĠLerner': 36, 'ĠChambers': 36, 'Ġsquee': 36, 'ĠFeldman': 36, 'ĠShattered': 36}\n",
      "ĠTayyip {'Ġpessim': 37, 'ĠElise': 37, 'Ġrunoff': 36, 'ĠKling': 36, 'ĠSears': 36, 'ĠMead': 35}\n",
      "ĠTucson {'ĠFeldman': 41, 'Ġlooms': 36, 'ĠRumble': 35, 'ĠShard': 35, 'ĠSpells': 34, 'ĠBlades': 34}\n",
      "oodoo {'Ġshy': 37, 'ĠWarlock': 36, 'ĠCompact': 35, 'ĠMcKin': 35, 'ĠMend': 35, 'ĠSemi': 35}\n",
      "inational {'ĠSpock': 36, 'ĠWhites': 35, 'Ġtrickle': 35, 'ĠHDL': 35, 'ĠKlein': 35, 'ĠHispanics': 35}\n",
      "ĠArpaio {'ĠKling': 38, 'ĠEverett': 36, 'Ġstewards': 36, 'ĠSting': 35, 'Ġroaring': 35, 'Ġwhispering': 34}\n",
      "ĠAmateur {'ĠLash': 39, 'ĠHolt': 36, 'Ġ\"âĢ¦': 35, 'ĠSears': 35, 'ĠLever': 34, 'Ġbuzz': 34}\n",
      "oliath {'ĠiCloud': 37, 'ĠDolphin': 36, 'ĠCrusher': 36, 'ĠButter': 35, 'Ġclitor': 34, 'ĠZot': 34}\n",
      "ĠTsarnaev {'ĠGillespie': 37, 'Ġunim': 36, 'ĠBalk': 36, 'Ġwhisper': 34, 'ĠMesa': 34, 'ĠKling': 34}\n",
      "ĠDhabi {'ĠLivingston': 37, 'ĠSpock': 36, 'ĠFeldman': 35, 'ĠHoover': 35, 'ĠHulk': 34, 'ĠRhino': 34}\n",
      "Semitic {'ĠNorton': 37, 'ĠLowell': 36, 'ĠMoonlight': 36, 'ĠRhino': 35, 'ĠMoff': 35, 'ĠLimbaugh': 34}\n",
      "Saharan {'ĠEverton': 36, 'Ġdexter': 36, 'ĠBravo': 35, 'ĠAlibaba': 34, 'ĠLimbaugh': 34, 'ĠAndrea': 34}\n",
      "ĠCanaveral {'Ġ178': 36, 'Ġ560': 36, 'Ġfinalists': 35, 'Ġ600': 35, 'Ġ570': 34, 'Ġ800': 34}\n",
      "ĠTOTAL {'ĠBoeing': 35, 'ĠHoover': 35, 'ĠMcCoy': 34, 'ĠYPG': 34, 'ĠClyde': 34, 'ĠLakers': 34}\n",
      "isan {'Ġworldview': 35, 'Ġbilingual': 35, 'ĠPDT': 35, 'Ġovernight': 35, 'Ġyawn': 34, 'Ġdaytime': 34}\n",
      "cour {'Ġchuckled': 35, 'Ġfleeting': 35, 'Ġuninterrupted': 35, 'Ġinnocuous': 34, 'Ġbenign': 34, 'Ġgritty': 34}\n",
      "ordial {'Ġfireball': 36, 'Ġgreenhouse': 35, 'Ġbombshell': 34, 'ĠShirley': 34, 'ĠDucks': 34, 'Ġshelling': 33}\n",
      "olyn {'ĠHearthstone': 35, 'Ġhandshake': 35, 'ĠWarlock': 34, 'ĠBronx': 34, 'ĠTyphoon': 34, 'ĠTempest': 33}\n",
      "ĠJordanian {'Ġstewards': 38, 'Ġblessings': 37, 'ĠChambers': 35, 'Ġbullies': 34, 'ĠCoulter': 33, 'Ġintimidation': 33}\n",
      "Ġabundantly {'Ġchuckled': 37, 'ĠCunning': 34, 'Ġcompuls': 34, 'ĠCarnage': 34, 'ĠSpock': 34, 'ĠLockheed': 33}\n",
      "ĠKlingon {'Ġstewards': 37, 'Ġroaring': 35, 'ĠSpears': 34, 'Ġcompuls': 34, 'ĠWrestle': 33, 'Ġblessings': 33}\n",
      "Ġcounterproductive {'Ġbreeze': 37, 'ĠLoft': 36, 'Ġstewards': 35, 'ĠShard': 34, 'Ġhandshake': 33, 'ĠLash': 33}\n",
      "ĠYanuk {'ĠEliot': 37, 'Ġpessim': 35, 'ĠEverett': 35, 'Ġlucid': 34, 'ĠLith': 34, 'ĠTempest': 33}\n",
      "roup {'Ġpessimistic': 36, 'Ġharrowing': 34, 'Ġflashy': 34, 'ĠMinneapolis': 34, 'Ġpessim': 33, 'ĠShattered': 33}\n",
      "Ġthoughtful {'Ġmetaphor': 35, 'ĠChambers': 34, 'Ġmetaphors': 34, 'ĠGOODMAN': 34, 'Ġroommate': 34, 'Ġsituational': 33}\n",
      "ĠAstron {'ĠNorthwestern': 35, 'Ġstewards': 34, 'Ġsituational': 34, 'ĠEdmonton': 34, 'Ġfinalists': 34, 'Ġmosaic': 33}\n",
      "Sham {'ĠGalileo': 37, 'ĠMoonlight': 34, 'ĠLimbaugh': 34, 'ĠCarnage': 33, 'ĠTyphoon': 33, 'Ġmountainous': 33}\n",
      "Ġcounterterrorism {'ĠLoft': 38, 'Ġsquee': 34, 'ĠShard': 34, 'ĠWelch': 33, 'ĠLounge': 33, 'Ġcompuls': 33}\n",
      "ĠActivision {'ĠSpock': 37, 'ĠCarnage': 35, 'ĠFeldman': 34, 'ĠMarsh': 34, 'ĠWillow': 33, 'ĠCrusher': 33}\n",
      "ocobo {'Ġsquee': 37, 'Ġdisg': 36, 'ĠCarnage': 34, 'Ġkale': 34, 'Ġnarciss': 33, 'Ġtampering': 33}\n",
      "Qaida {'Ġpessim': 36, 'Ġoptimism': 34, 'Ġnegatives': 34, 'Ġblessings': 33, 'Ġblacklist': 33, 'Ġunderside': 33}\n",
      "ĠTrayvon {'ĠHuang': 37, 'ĠMead': 35, 'ĠElise': 34, 'ĠFeldman': 33, 'Ġ\"âĢ¦': 33, 'ĠRutherford': 32}\n",
      "Ġartisan {'Ġlaud': 37, 'Ġsquee': 35, 'Ġshun': 34, 'ĠLoft': 33, 'Ġblitz': 33, 'ĠHoover': 32}\n",
      "ĠArabian {'ĠSparks': 36, 'ĠLords': 35, 'ĠRomeo': 33, 'ĠSpears': 33, 'ĠDodd': 33, 'ĠSneak': 33}\n",
      "Ġsuburbs {'ĠLoft': 37, 'Ġleng': 35, 'ĠLash': 33, 'Ġ0004': 33, 'Ġ7000': 33, 'ĠMeng': 33}\n",
      "Ġcontin {'ĠMIA': 38, 'ĠGSL': 35, 'Ġbuffs': 34, 'ĠLash': 34, 'ĠHUD': 32, 'ĠFSA': 32}\n",
      "atown {'Ġsquee': 35, 'Ġmillennials': 34, 'Ġ7000': 33, 'ĠSlovenia': 33, 'Ġharassed': 33, 'Ġ5000': 33}\n",
      "ĠHispan {'ĠMahjong': 36, 'Ġsquee': 34, 'ĠAmbro': 33, 'Ġsimul': 33, 'ĠBore': 33, 'Ġesoteric': 33}\n",
      "usra {'ĠRhodes': 37, 'Ġpessim': 35, 'Ġpessimistic': 34, 'ĠGilbert': 33, 'Ġblacklist': 32, 'ĠChambers': 32}\n",
      "ĠNetanyahu {'Ġstewards': 39, 'Ġchatter': 33, 'Ġlounge': 33, 'ĠRampage': 33, 'ĠSpock': 33, 'Ġglam': 32}\n",
      "Ġsuburb {'ĠLivingston': 36, 'ĠJolly': 34, 'ĠMiko': 33, 'ĠLash': 33, 'ĠLoft': 33, 'ĠBrigham': 33}\n",
      "arnaev {'ĠSharif': 35, 'ĠBalk': 34, 'ĠNuggets': 33, 'ĠHalifax': 33, 'ĠUlster': 33, 'ĠGSL': 33}\n",
      "Ġjihadist {'Ġpiping': 34, 'ĠChambers': 34, 'ĠRampage': 33, 'ĠHulk': 33, 'Ġapprehens': 33, 'Ġblitz': 33}\n",
      "ayson {'ĠWikiLeaks': 34, 'ĠHoover': 34, 'ĠLatvia': 33, 'Ġlivestream': 33, 'Ġeyewitness': 33, 'ĠZerg': 33}\n",
      "orf {'Ġsquee': 35, 'Ġ2048': 34, 'Ġsemifinals': 34, 'Ġ6000': 34, 'Ġ1500': 33, 'Ġ5000': 33}\n",
      "Ġsuburban {'ĠWeaver': 35, 'ĠBrigham': 34, 'ĠLoft': 34, 'ĠDarius': 33, 'ĠHaley': 33, 'ĠLeia': 33}\n",
      "ĠPrimordial {'ĠZig': 36, 'ĠWindsor': 35, 'ĠCloak': 34, 'Ġlounge': 33, 'ĠHamp': 32, 'ĠHulk': 32}\n",
      "ĠVegeta {'Ġpessim': 37, 'Ġpunching': 34, 'Ġgreenhouse': 34, 'Ġpunches': 33, 'ĠCarnage': 32, 'Ġfireball': 32}\n",
      "ĠThroughout {'Ġ2007': 34, 'Ġ1989': 34, 'Ġ2006': 33, 'Ġ1998': 33, 'Ġ2005': 33, 'Ġ2015': 33}\n",
      "Ġvain {'Ġchuckled': 34, 'ĠPanasonic': 34, 'Ġmillennials': 33, 'Ġworldview': 33, 'Ġnarcissistic': 33, 'ĠTsukuyomi': 32}\n",
      "Ġunfounded {'ĠChambers': 35, 'ĠWarlock': 34, 'ĠBoeing': 33, 'ĠShattered': 33, 'ĠGlover': 32, 'Ġammunition': 32}\n",
      "ĠYamato {'Ġrushing': 36, 'Ġsquee': 34, 'Ġcoc': 33, 'Ġstew': 33, 'Ġsucking': 33, 'Ġpund': 32}\n",
      "ĠEaster {'Magikarp': 36, 'ĠGuam': 34, 'ĠWeasley': 33, 'ĠYorker': 33, 'Ġmayhem': 32, 'Ġorcs': 32}\n",
      "ardon {'ĠCrusher': 35, 'ĠGSL': 34, 'ĠMahjong': 34, 'ĠFeldman': 33, 'ĠLounge': 32, 'Ġsemifinals': 32}\n",
      "ĠHaunted {'Ġ2400': 33, 'Ġ2024': 33, 'Ġ2500': 33, 'ĠMahjong': 33, 'Ġ2048': 33, 'Ġ0004': 33}\n",
      "Ġlandsl {'Ġ960': 34, '990': 34, 'ĠFridays': 33, 'Ġmosaic': 32, 'Ġ780': 32, 'Ġ1901': 32}\n",
      "ietal {'ĠTyphoon': 35, 'Ġbilateral': 34, 'ĠHearthstone': 33, 'Ġcharcoal': 32, 'Ġhilar': 32, 'Ġriddled': 32}\n",
      "anyahu {'Ġstewards': 35, 'Ġsweeping': 34, 'ĠHearthstone': 33, 'Ġsquee': 33, 'Ġsidewalks': 32, 'ĠHardcore': 32}\n",
      "Ġinsurgents {'ĠGarry': 35, 'ĠPebble': 34, 'Ġtrickle': 33, 'ĠHoover': 33, 'ĠDoodle': 32, 'Ġgall': 32}\n",
      "uddin {'ĠTyphoon': 35, 'ĠLockheed': 33, 'ĠGSL': 33, 'ĠTempest': 33, 'ĠNRL': 32, 'ĠSkype': 32}\n",
      "ĠYemeni {'Ġfireball': 34, 'Ġbullies': 34, 'Ġmayhem': 33, 'Ġnursery': 33, 'ĠLords': 33, 'Ġgoblins': 32}\n",
      "ĠCutter {'ĠMahjong': 34, 'ĠMiko': 34, 'Ġ1500': 32, 'ĠShard': 32, 'ĠSims': 32, 'Ġ2048': 32}\n",
      "Destroy {'ĠStanford': 36, 'ĠDickens': 32, 'ĠMatthews': 32, 'Ġmixer': 32, 'ĠWelch': 32, 'ĠPhilips': 32}\n",
      "umper {'ĠLivingston': 34, 'Ġbilingual': 34, 'Ġcooper': 34, 'Ġreciprocal': 32, 'Ġrural': 32, 'Ġpessimistic': 32}\n",
      "Ġreminis {'ĠScand': 34, 'ĠBuk': 33, 'Ġunorthodox': 33, 'Ġbroccoli': 33, 'ĠLockheed': 33, 'ĠShelley': 32}\n",
      "Haunted {'ĠGSL': 38, 'Ġ2048': 33, 'Ġ0004': 33, 'ĠYamato': 32, 'Ġ2022': 32, 'Ġ2024': 31}\n",
      "ishers {'Ġcollateral': 34, 'Ġroaring': 33, 'ĠSting': 32, 'ĠClayton': 32, 'ĠMIA': 32, 'ĠHutchinson': 32}\n",
      "akedown {'ĠCompton': 33, 'ĠLevi': 33, 'ĠEmmanuel': 32, 'ĠMuller': 32, 'ĠChambers': 32, 'ĠGupta': 32}\n",
      "Ġfirsthand {'Ġdisparity': 35, 'ĠMechanics': 34, 'ĠElemental': 33, 'ĠEnhancement': 32, 'ĠChambers': 32, 'ĠDemons': 32}\n",
      "landers {'ĠHoover': 35, 'ĠEverton': 33, 'Ġunchecked': 32, 'Ġsorely': 32, 'Ġdubious': 32, 'ĠBravo': 32}\n",
      "Ġperpetual {'ĠLyon': 35, 'ĠWelch': 33, 'ĠRazer': 33, 'ĠDustin': 33, 'ĠLoft': 32, 'ĠHoover': 31}\n",
      "January {'Ġ2010': 35, 'Ġ2005': 34, 'Ġ2006': 34, 'Ġ2007': 33, 'Ġ2004': 32, 'Ġ2012': 31}\n",
      "ĠCanberra {'ĠFeldman': 37, 'ĠSparks': 33, 'ĠRosenstein': 33, 'ĠRampage': 32, 'Ġfireball': 32, 'ĠSpears': 31}\n",
      "ummies {'Ġbilingual': 36, 'ĠVisa': 33, 'ĠTyphoon': 33, 'ĠMIA': 32, 'Ġlymph': 31, 'ĠCLSID': 31}\n",
      "ĠZimmerman {'Ġ\"âĢ¦': 36, 'ĠChambers': 34, 'Ġchuckle': 32, 'Ġscoff': 32, 'Ġstewards': 31, 'Ġharassed': 31}\n",
      "ĠSomalia {'Ġtrickle': 34, 'ĠTyphoon': 33, 'ĠLegions': 33, 'ĠMoonlight': 32, 'ĠCarnage': 32, 'ĠBrigham': 31}\n",
      "Ġshred {'Ġbrig': 34, 'ĠBaird': 33, 'ĠChambers': 33, 'ĠColossus': 33, 'ĠWarlock': 32, 'ĠStanford': 32}\n",
      "Ġsalv {'Ġmanic': 35, 'ĠGarry': 34, 'ĠHugo': 33, 'ĠMIA': 33, 'Ġflanked': 31, 'ĠMiko': 31}\n",
      "ãģ¾ {'Ġ1956': 34, '561': 33, 'Ġsquee': 33, 'Ġ1905': 32, 'Ġwrists': 32, 'Ġcheeks': 32}\n",
      "iotic {'Ġ960': 34, 'Ġunchecked': 33, 'Ġpeacefully': 33, 'ĠMaxwell': 33, 'ĠShirley': 32, 'Ġ1500': 31}\n",
      "ĠOprah {'ĠHorde': 35, 'ĠLaurent': 33, 'ĠPrelude': 32, 'ĠKris': 32, 'ĠDeluxe': 32, 'ĠQian': 32}\n",
      "Ġexhaustive {'ĠChambers': 36, 'ĠLoft': 33, 'ĠLockheed': 32, 'ĠHolt': 31, 'ĠWarlock': 31, 'ĠMechanics': 31}\n",
      "Ġfeudal {'Ġmosaic': 33, 'ĠLegions': 33, 'ĠJolly': 32, 'ĠYamato': 32, 'ĠBaird': 32, 'Ġriddled': 32}\n",
      "Ġmature {'ĠCambodia': 33, 'ĠBaird': 32, 'ĠBoeing': 32, 'ĠLatvia': 32, 'ĠBolivia': 32, 'Ġkale': 32}\n",
      "Qaeda {'Ġchuckled': 34, 'Ġnegatives': 33, 'Ġbilateral': 32, 'Ġoptimism': 32, 'Ġmetaphors': 32, 'Ġhilar': 32}\n",
      "Ġdebunked {'ĠStanford': 34, 'ĠDartmouth': 33, 'ĠIEEE': 33, 'ĠKirin': 32, 'ĠBoeing': 32, 'ĠOnePlus': 31}\n",
      "Ġspontaneous {'ĠLords': 33, 'ĠDodd': 33, 'ĠRowe': 33, 'ĠLeah': 32, 'ĠLloyd': 32, 'ĠSpears': 31}\n",
      "ĠGreene {'ĠMahjong': 33, 'Ġmayhem': 32, 'ĠVolks': 32, 'Ġsemifinals': 32, 'ĠKirin': 32, 'ĠFeldman': 32}\n",
      "hedral {'Ġbilingual': 35, 'Ġninety': 33, 'Ġ9000': 32, 'Ġ2400': 32, 'Ġ800': 31, 'Ġ2500': 31}\n",
      "Instant {'ĠRosenstein': 33, 'ĠZika': 33, 'ĠFeldman': 33, 'ĠHoover': 33, 'ĠErica': 31, 'ĠUlster': 31}\n",
      "psey {'ĠiCloud': 36, 'ãĥīãĥ©ãĤ´ãĥ³': 34, 'ĠKlingon': 33, 'ĠGSL': 32, 'Flickr': 32, 'ĠSkype': 31}\n",
      "Untitled {'ĠWarlock': 33, 'ĠStarCraft': 33, 'Ġwizards': 32, 'ĠHearthstone': 32, 'ĠChambers': 32, 'ĠRhodes': 32}\n",
      "azaki {'Ġflora': 34, 'Ġblessings': 33, 'Ġpiping': 33, 'Ġpessimistic': 32, 'Ġbuffs': 32, 'Ġbilingual': 31}\n",
      "ĠJanuary {'Ġ2005': 35, 'Ġ2006': 34, 'Ġ2010': 34, 'Ġ2007': 32, 'Ġ2004': 32, '2004': 31}\n",
      "ĠSham {'ĠLowell': 34, 'ĠChandra': 32, 'ĠGalileo': 32, 'ĠMoonlight': 32, 'Ġmillennials': 32, 'ĠTsukuyomi': 31}\n",
      "Ġfortun {'ĠEmerald': 32, 'Ġlooms': 32, 'ĠKush': 32, 'Ġaeros': 32, 'ĠJaune': 32, 'Ġbunk': 32}\n",
      "argon {'ĠCarnage': 33, 'ĠHulk': 32, 'Ġmidrange': 32, 'Ġorphans': 32, 'Ġdwarves': 32, 'Ġcoward': 32}\n",
      "ĠSomali {'ĠLegions': 34, 'Ġbullies': 33, 'Ġlegions': 32, 'Ġfireball': 32, 'ĠRhino': 32, 'ĠElephant': 31}\n",
      "atoon {'Ġchuckled': 33, 'Ġteasing': 32, 'Ġsquee': 32, 'Ġslug': 32, 'Ġteased': 32, 'ĠHearthstone': 31}\n",
      "ĠChaser {'ĠMahjong': 33, 'ĠKinnikuman': 32, 'Ġstewards': 32, 'ĠMaxim': 32, 'Ġweap': 32, 'ĠMeng': 31}\n",
      "sburgh {'ĠFeldman': 34, 'Ġchimpanzees': 33, 'ĠLug': 33, 'ĠDuff': 33, 'ĠLavrov': 31, 'ĠWarlock': 31}\n",
      "hound {'Ġmelanch': 34, 'Ġmockery': 33, 'Ġbarracks': 32, 'Ġdisg': 32, 'Ġsquee': 32, 'Ġrivalry': 31}\n",
      "ommel {'Ġpowdered': 34, 'Ġnons': 33, 'ĠCarnage': 32, 'Ġkale': 32, 'Ġspacious': 32, 'Ġrushing': 31}\n",
      "ĠLone {'ĠMcCull': 34, 'Ġsemifinals': 32, 'ĠWarlock': 32, 'Ġharassed': 32, 'ĠPaddock': 32, 'Ġharassment': 32}\n",
      "ĠTurnbull {'Ġbree': 34, 'ĠMead': 34, 'ĠGoff': 33, 'ĠLash': 31, 'ĠHuang': 31, 'ĠBalt': 31}\n",
      "ĠSemin {'ĠBleach': 33, 'ĠPackers': 32, 'ĠFrieza': 32, 'Ġharassed': 32, 'ĠBuff': 32, 'Ġbuffs': 32}\n",
      "ĠPaso {'Ġsquee': 35, 'ĠSears': 33, 'Ġflora': 33, 'ĠMead': 32, 'Ġyawn': 32, 'ĠLegions': 31}\n",
      "ĠMattis {'Ġmayhem': 36, 'ĠRampage': 34, 'ĠSears': 32, 'ĠMayhem': 31, 'Ġranc': 31, 'ĠLeth': 31}\n",
      "Ġtotalitarian {'Ġroommate': 33, 'Ġstewards': 32, 'Ġmeddling': 32, 'Ġshenanigans': 32, 'Ġrunoff': 32, 'Ġchanting': 31}\n",
      "oppable {'ĠGilmore': 34, 'ĠHume': 32, 'ĠMelbourne': 31, 'ĠGSL': 31, 'ĠKling': 31, 'ĠCamel': 31}\n",
      "Ġmountainous {'ĠWindsor': 33, 'ĠWarlock': 32, 'ĠTosh': 32, 'ĠBowling': 32, 'ĠPerth': 32, 'Ġstewards': 31}\n",
      "ĠYanukovych {'Ġpessim': 33, 'Ġ1500': 33, 'Ġ1700': 33, 'Ġchuckled': 33, 'Ġincarn': 32, 'Ġesoteric': 31}\n",
      "obiles {'ĠGSL': 34, 'ĠHoover': 33, 'ĠLoft': 32, 'ĠHume': 32, 'Ġkale': 32, 'ĠDodd': 31}\n",
      "inth {'ĠHearthstone': 35, 'Ġbuffalo': 33, 'Ġbroccoli': 33, 'ĠHoover': 32, 'Ġbilingual': 31, 'ĠDartmouth': 31}\n",
      "ĠSturgeon {'ĠFeldman': 36, 'ĠClicker': 33, 'Ġsyll': 32, 'Ġcompuls': 32, 'Ġlounge': 31, 'Ġmish': 30}\n",
      "Ġreactive {'ĠLash': 33, 'ĠGSL': 33, 'Ġbarley': 33, 'ĠFrieza': 33, 'ĠLilith': 31, 'ĠBentley': 30}\n",
      "ĠAssad {'Ġmosaic': 34, 'Ġchuckled': 33, 'Ġroaring': 32, 'Ġmosa': 32, 'Ġwhirlwind': 32, 'ĠTyphoon': 31}\n",
      "profit {'Ġbilingual': 34, 'Ġfireball': 32, 'ĠDemonic': 32, 'ĠLovely': 32, 'Ġmilliseconds': 31, 'Ġvehemently': 31}\n",
      "oÄŁan {'Ġmosa': 33, 'Ġpessim': 32, 'Ġstewards': 32, 'Ġsquee': 32, 'Ġupstream': 31, 'ĠLevi': 31}\n",
      "ĠMerry {'ĠWarlock': 34, 'Ġ<[': 33, 'ĠFleming': 32, 'ĠColeman': 32, 'Ġ780': 31, 'ĠSears': 31}\n",
      "ells {'ĠTrinity': 33, 'ĠHulk': 33, 'ĠJoker': 32, 'ĠMIA': 32, 'ĠScion': 31, 'ĠDaredevil': 31}\n",
      "pit {'ĠWarlock': 34, 'Ġreminiscent': 33, 'Ġdubious': 32, 'ĠMIA': 32, 'Ġmockery': 32, 'Ġmislead': 31}\n",
      "Ġindemn {'ĠRampage': 33, 'ĠLivingston': 33, 'ĠMacArthur': 32, 'ĠKling': 31, 'ĠGall': 31, 'ĠPhilipp': 31}\n",
      "ĠIslamist {'ĠRadar': 34, 'Ġlounge': 32, 'Ġfireball': 32, 'ĠSears': 32, 'ĠTyphoon': 31, 'Ġflora': 31}\n",
      "ĠStarcraft {'ĠStun': 32, 'ĠRampage': 32, 'ĠMuller': 32, 'ĠFeldman': 32, 'ĠSnapchat': 32, 'Ġshimmer': 31}\n",
      "ĠWasserman {'Ġunim': 34, 'ĠUriel': 33, 'ĠChimera': 33, 'ĠGSL': 31, 'ĠWCS': 31, 'ĠShard': 31}\n",
      "Ġunsuccessfully {'ĠAwoken': 33, 'ĠWarlock': 33, 'ĠLambert': 32, 'ĠLash': 32, 'mbudsman': 32, 'ĠCarnage': 31}\n",
      "ĠCrimea {'Ġ0004': 33, 'Ġ1280': 32, 'ĠLegions': 32, 'Ġ780': 32, 'Ġ760': 31, 'Ġ1440': 31}\n",
      "ickson {'ĠGSL': 34, 'ĠNRL': 33, 'ĠMIA': 32, 'Ġlandsl': 32, 'ĠSAL': 31, 'ĠLug': 31}\n",
      "berman {'Ġbilingual': 35, 'ĠSloven': 33, 'ĠDwight': 32, 'Ġkale': 32, 'ĠHispanics': 31, 'ĠDodd': 30}\n",
      "ĠRapids {'ĠMew': 34, 'ĠGohan': 33, 'ĠDemonic': 32, 'ĠLazarus': 32, 'ĠGoo': 31, 'ĠMagicka': 31}\n",
      "Ġdevout {'ĠYamaha': 33, 'ĠBoeing': 33, 'ĠMiko': 32, 'ĠFowler': 32, 'ĠDustin': 31, 'ĠFitz': 31}\n",
      "ĠShaman {'Ġcharism': 34, 'ĠOpportun': 32, 'Ġooz': 32, 'Ġlaud': 32, 'Ġobliter': 31, 'Ġrecol': 31}\n",
      "Ġgroundwater {'Ġfacilit': 35, 'ĠLoft': 33, 'Ġdisparity': 32, 'ĠShant': 31, 'Ġseiz': 31, 'Ġharrowing': 31}\n",
      "eland {'Ġmechanically': 34, 'Ġbenign': 32, 'Ġbilingual': 32, 'Ġexcruciating': 31, 'Ġknowingly': 31, 'Ġmindful': 31}\n",
      "Ġhomegrown {'ĠDustin': 32, 'ĠMills': 32, 'ĠSears': 32, 'ĠChambers': 32, 'ĠSparks': 31, 'ĠClifford': 31}\n",
      "ĠChaff {'ĠFnatic': 32, 'ĠMahjong': 32, 'ĠLegions': 32, 'ĠYamato': 32, 'ĠTCU': 32, 'ĠYPG': 31}\n",
      "Ġtomb {'ĠLindsay': 33, 'ĠScully': 32, 'Ġdexter': 32, 'Ġintrusive': 31, 'Ġflanked': 31, 'ĠRohing': 31}\n",
      "Ġsandy {'ĠHoover': 33, 'ĠWarlock': 32, 'Ġfeds': 32, 'ĠFellowship': 32, 'Ġnationals': 31, 'Ġderailed': 31}\n",
      "ĠKepler {'Ġlounge': 36, 'Ġstewards': 35, 'ĠLounge': 33, 'Ġcompuls': 32, 'Ġsouven': 32, 'Ġdisparity': 29}\n",
      "ihadi {'Ġenclave': 35, 'ĠCarnage': 33, 'Ġfodder': 32, 'Ġdisparity': 31, 'Ġpiping': 31, 'Ġapprehens': 31}\n",
      "ĠSuzanne {'Ġ\"âĢ¦': 38, 'Ġhob': 32, 'ĠMald': 32, 'ĠKling': 31, 'ĠGHC': 31, 'ĠZig': 30}\n",
      "Ġunstoppable {'ĠClayton': 34, 'ĠShard': 34, 'ĠBoeing': 32, 'ĠFeld': 31, 'ĠHoover': 31, 'ĠClan': 31}\n",
      "ocytes {'Ġ0004': 33, 'Ġbilateral': 32, 'ĠMIA': 32, 'Ġcollateral': 31, 'Ġbilingual': 31, 'Ġreciprocal': 31}\n",
      "oub {'ĠPortsmouth': 33, 'Ġmountainous': 32, 'ĠClyde': 32, 'Ġsponge': 32, 'ĠGarry': 31, 'Ġsquee': 31}\n",
      "Ġtaxable {'ĠPhillips': 34, 'ĠLegions': 33, 'ĠMorales': 32, 'ĠMedline': 31, 'Ġlegions': 31, 'Ġcoerced': 31}\n",
      "Ġbackyard {'ĠLoft': 33, 'ĠChambers': 32, 'Ġkale': 32, 'ĠLivingston': 32, 'ĠHelm': 31, 'ĠBoeing': 31}\n",
      "intage {'ĠGSL': 33, 'Ġfireball': 33, 'ĠFlash': 31, 'ĠLash': 31, 'Ġflashes': 31, 'Ġcheering': 31}\n",
      "ĠHoliday {'ĠFeldman': 35, 'Ġfinalists': 32, 'ĠRosenberg': 32, 'ĠRosenstein': 32, 'ĠWarlock': 31, 'ĠPaige': 31}\n",
      "fman {'Ġsquee': 34, 'ĠLabyrinth': 33, 'ĠWasteland': 32, 'ĠRosenberg': 31, 'Ġresidency': 31, 'Ġgrandchildren': 31}\n",
      "Ġcontinual {'Ġfallout': 33, 'ĠSparks': 32, 'Ġstrikeouts': 32, 'ĠCarnage': 32, 'ĠYamaha': 31, 'ĠLoft': 31}\n",
      "Ġcontiguous {'ĠBowling': 35, 'Ġcrackdown': 32, 'ĠLoft': 31, 'Ġblitz': 31, 'ĠBlitz': 31, 'Ġearthquakes': 31}\n",
      "ĠNeedless {'Ġfireball': 34, 'ĠTyphoon': 32, 'ĠShattered': 31, 'ĠWichita': 31, 'ĠGoblin': 31, 'ĠBlades': 31}\n",
      "ĠErdogan {'Ġstewards': 34, 'ĠStew': 33, 'Ġstew': 32, 'Ġpessim': 32, 'Ġmosaic': 32, 'Ġclam': 30}\n",
      "ĠRober {'\".[': 34, 'ĠLegions': 32, 'ĠChambers': 32, 'ĠGSL': 31, 'ĠHamp': 31, 'Ġstewards': 31}\n",
      "Ġmissionaries {'Ġkale': 33, 'ĠGSL': 32, 'Ġsquee': 32, 'Ġsidebar': 31, 'Ġmidway': 31, 'Ġsemifinals': 31}\n",
      "ikarp {'Ġsquee': 36, 'Ġ1440': 34, 'ĠPDT': 31, 'ĠWCS': 31, 'Ġflirt': 31, 'Ġ2024': 30}\n",
      "Ġbooster {'ĠMavericks': 32, 'Ġordeal': 32, 'ĠCavaliers': 32, 'ĠJord': 32, 'Ġstrikeouts': 31, 'ĠClippers': 31}\n",
      "ĠBerserker {'ĠLoft': 33, 'ĠPolk': 32, 'ĠSemin': 31, 'ĠSkype': 31, 'ĠSlovenia': 31, 'ĠOPT': 31}\n",
      "Ġsails {'ĠGillespie': 34, 'ĠUtt': 33, 'Ġpessim': 33, 'ĠMahjong': 31, 'ĠMiko': 31, 'Ġnightmares': 30}\n",
      "ĠIdlib {'Ġsquee': 36, 'Ġmosaic': 33, 'Ġsyll': 32, 'ĠTyphoon': 31, 'ĠCarnage': 31, 'ĠYoshi': 30}\n",
      "arthy {'ĠGSL': 35, 'ĠTerran': 31, 'ĠKlingon': 31, 'ĠBeijing': 31, 'ĠMelbourne': 31, 'ĠArmstrong': 31}\n",
      "Ġundercover {'ĠSears': 35, 'Ġsoph': 33, 'Ġmidrange': 31, 'Ġlavish': 31, 'Ġvigorous': 31, 'ĠLynd': 31}\n",
      "Ġsocioeconomic {'ĠLegions': 33, 'Ġrevelations': 32, 'Ġvigilant': 32, 'Ġhegemony': 32, 'Ġconsensus': 31, 'Ġmisconceptions': 30}\n",
      "Ġcottage {'Ġstorylines': 33, 'ĠFlash': 32, 'Ġtestimonies': 32, 'Ġflashes': 31, 'Ġfleeting': 31, 'Ġgrooming': 31}\n",
      "ĠSatanic {'ĠRyder': 33, 'ĠFelix': 33, 'ĠShowtime': 32, 'ĠSlovenia': 31, 'Ġlockout': 31, 'Ġroaring': 31}\n",
      "ĠIslamists {'Ġfireball': 32, 'Ġfallout': 32, 'ĠCarnage': 32, 'ĠRadar': 31, 'ĠSparks': 31, 'ĠSting': 31}\n",
      "actus {'Ġkale': 33, 'Ġroaring': 32, 'Ġsidebar': 32, 'Ġnons': 31, 'Ġflashbacks': 31, 'Ġparanoia': 31}\n",
      "ĠAston {'ĠRyder': 34, 'ĠSpock': 32, 'ĠRidley': 32, 'ĠWarlock': 31, 'ĠLockheed': 31, 'ĠMub': 31}\n",
      "Ġdiligent {'ĠTyphoon': 34, 'ĠMIA': 32, 'ĠBoeing': 32, 'Ġlounge': 31, 'Ġcabal': 31, 'Ġstewards': 30}\n",
      "Ġlighthouse {'ĠMIA': 35, 'Ġslay': 32, 'Ġenvy': 31, 'Ġslaying': 31, 'Ġteasing': 31, 'Ġharassed': 30}\n",
      "oney {'ĠWarlock': 33, 'ĠASUS': 32, 'ĠMLG': 32, 'ĠLockheed': 32, 'ĠClippers': 31, 'ĠFSA': 31}\n",
      "ameless {'ĠMIA': 35, 'ĠSharif': 32, 'Ġfallout': 32, 'ĠSlug': 32, 'Ġcompuls': 30, 'ĠSears': 30}\n",
      "ĠMinecraft {'ĠGalileo': 35, 'ĠShim': 32, 'Ġbroccoli': 32, 'ĠSasuke': 32, 'Ġkale': 32, 'ĠLeia': 30}\n",
      "Original {'ĠGSL': 33, 'ĠWarlock': 32, 'ĠBoeing': 32, 'ĠMcGee': 31, 'ĠLori': 31, 'ĠMeng': 31}\n",
      "Ġamateur {'ĠLash': 34, 'ĠSears': 32, 'Ġalarmed': 31, 'Ġgearing': 31, 'ĠLoft': 31, 'ĠAlert': 31}\n",
      "ĠSurvive {'Ġ470': 33, 'ĠSlovenia': 32, 'ĠBolivia': 32, 'Ġbilingual': 32, 'ĠHegel': 31, 'Ġ1400': 31}\n",
      "azon {'Ġstewards': 33, 'ĠMoonlight': 31, 'ĠFeldman': 31, 'Ġhilar': 31, 'Ġsoph': 31, 'Ġbilingual': 31}\n",
      "iberal {'ĠHume': 36, 'ĠChambers': 35, 'ĠFeld': 33, 'ĠTyphoon': 31, 'ĠChandler': 30, 'ĠCohen': 29}\n",
      "ĠBuffett {'Ġfireball': 33, 'ĠLegions': 32, 'Ġwhistle': 32, 'Ġkale': 31, 'ĠLash': 31, 'ĠHulk': 31}\n",
      "ĠManitoba {'Ġfireball': 33, 'Ġwarp': 32, 'Ġsidebar': 32, 'Ġswoop': 31, 'ĠXiao': 30, 'ĠSears': 30}\n",
      "aditional {'ĠGSL': 33, 'ĠChambers': 32, 'ĠSparks': 32, 'ĠSpock': 31, 'ĠKling': 31, 'ĠLoft': 30}\n",
      "ĠTotal {'ĠMacArthur': 33, 'ĠHoover': 33, 'ĠYamaha': 32, 'ĠLaurel': 31, 'ĠKushner': 30, 'ĠMcCoy': 30}\n",
      "ĠContinued {'ĠPaddock': 33, 'ĠKosovo': 32, 'ĠLockheed': 31, 'ĠYamaha': 31, 'ĠLivingston': 31, 'ĠHoover': 31}\n",
      "Ġadoptive {'ĠLockheed': 33, 'Ġcompuls': 33, 'ĠLash': 32, 'ĠShard': 31, 'Ġstewards': 31, 'ĠWarlock': 30}\n",
      "ĠCostume {'ĠLynd': 35, 'ĠSloan': 32, 'ĠMead': 31, 'ĠSears': 31, 'ĠKlein': 30, 'ĠGall': 30}\n",
      "Ġaddon {'ĠChandler': 33, 'ĠShant': 32, 'ĠHume': 31, 'ĠWander': 31, 'ĠGamergate': 31, 'ĠFowler': 31}\n",
      "ĠHollande {'ĠGuang': 34, 'ĠBung': 34, 'ĠUltr': 31, 'ĠPebble': 31, 'Ġbung': 30, 'ĠKling': 30}\n",
      "ĠAvalon {'ĠWillow': 32, 'ĠWarlock': 32, 'ĠHulk': 32, 'ĠLana': 31, 'ĠKling': 31, 'ĠRohing': 30}\n",
      "amas {'Ġminors': 32, 'Ġwhistle': 32, 'Ġgrandchildren': 32, 'ĠTyphoon': 32, 'ĠWarehouse': 31, 'ĠCLSID': 31}\n",
      "ĠRevision {'ĠBarack': 33, 'Ġbilingual': 32, 'Ġbrethren': 31, 'ĠWarlock': 31, 'Ġfinalists': 31, 'ĠGSL': 30}\n",
      "founded {'ĠStanford': 34, 'ĠBrigham': 32, 'Ġhysterical': 31, 'ĠHume': 31, 'ĠBravo': 31, 'Ġbilingual': 30}\n",
      "Ġrefill {'ĠRohing': 33, 'ĠHezbollah': 32, 'ĠMahjong': 32, 'ĠDalai': 31, 'ĠLivingston': 31, 'Ġjihad': 31}\n",
      "ĠAlvin {'ĠWarlock': 34, 'Ġfireball': 33, 'ĠFrieza': 33, 'ĠGalileo': 32, 'ĠUlster': 30, 'ĠHearthstone': 30}\n",
      "ython {'Ġstewards': 34, 'Ġrunoff': 33, 'Ġmainline': 31, 'Ġchuckled': 30, 'Ġlivestream': 30, 'ĠConsulting': 30}\n",
      "Ġheadlights {'ĠMahjong': 35, 'Ġ0004': 31, 'ĠRohing': 31, 'ĠOMG': 30, 'Ġunman': 30, 'ĠTyphoon': 30}\n",
      "ĠLarson {'Ġstewards': 34, 'Ġmosaic': 33, 'ĠShant': 31, 'Ġsponge': 31, 'ĠSlack': 31, 'Ġbree': 30}\n",
      "atsuki {'ĠFeldman': 32, 'ĠWindsor': 32, 'Ġemulator': 32, 'ĠHoover': 32, 'Ġhob': 31, 'ĠGSL': 31}\n",
      "icken {'ĠAlchemist': 32, 'Ġnarcissistic': 31, 'Ġsubclass': 31, 'Ġmidrange': 31, 'Ġrescind': 31, 'ĠLumia': 31}\n",
      "enegger {'Ġlivestream': 33, 'ĠLimbaugh': 31, 'ĠKling': 31, 'ĠShowtime': 31, 'Ġrunoff': 31, 'Ġgmaxwell': 30}\n",
      "Ġgrown {'ĠClippers': 34, 'ĠChromebook': 32, 'ĠPhotoshop': 31, 'ĠLegions': 30, 'Ġhandcuffs': 30, 'Ġelephants': 30}\n",
      "ĠSalvation {'Ġ0004': 35, 'Ġpund': 33, 'ĠGarry': 31, 'ĠSlug': 31, 'ĠKling': 30, 'ĠWarlock': 30}\n",
      "ryu {'Ġpesticide': 33, 'ĠLabyrinth': 32, 'Ġpesticides': 32, 'Ġfireball': 31, 'ĠRampage': 31, 'Ġmountainous': 31}\n",
      "iscal {'Wednesday': 33, 'Ġcollateral': 32, 'Friday': 31, 'Tuesday': 31, 'Ġcompuls': 31, 'Thursday': 31}\n",
      "Ġaboriginal {'ĠPolk': 34, 'ĠLoft': 32, 'Ġravaged': 32, 'Ġlounge': 31, 'ĠSpock': 31, 'ĠJaguars': 30}\n",
      "Ġcreamy {'ĠWarlock': 32, 'ĠDominion': 32, 'ĠShard': 32, 'ĠHume': 31, 'ĠCourier': 31, 'ĠPersona': 30}\n",
      "assis {'Ġtotality': 32, 'Ġcollateral': 32, 'Ġexacerbated': 31, 'ĠHoover': 31, 'ĠFeldman': 31, 'ĠEverett': 31}\n",
      "ĠCumm {'ĠYPG': 37, 'ĠSpock': 33, 'ĠLuffy': 32, 'ĠKorra': 31, 'ĠKislyak': 30, 'Ġsponge': 30}\n",
      "bidden {'ĠHoover': 32, 'ĠHolt': 32, 'ĠRosenberg': 32, 'ĠCohen': 31, 'ĠWelch': 31, 'ĠMoonlight': 30}\n",
      "ĠSakuya {'ĠPDT': 33, 'ĠYaz': 32, 'ĠLimbaugh': 31, 'ĠMead': 31, 'ĠHolt': 31, 'ĠDayton': 30}\n",
      "ĠVintage {'ĠLash': 32, 'ĠMeier': 32, 'ĠFlash': 32, 'Ġkale': 31, 'Ġlash': 31, 'ĠKling': 31}\n",
      "Ġfestive {'ĠWander': 32, 'Ġcompuls': 32, 'ĠSparks': 31, 'ĠLowell': 31, 'Ġflashbacks': 31, 'ĠWarlock': 31}\n",
      "ĠMiscellaneous {'ĠLoft': 32, 'ĠLash': 32, 'ĠChambers': 32, 'ĠWatson': 31, 'Ġkale': 31, 'Ġwindshield': 31}\n",
      "Ġautumn {'Ġchuckled': 33, 'ĠLoft': 31, 'Ġbree': 31, 'ĠSneak': 31, 'ĠBaird': 31, 'ĠLaurel': 30}\n",
      "Ġoxidative {'ĠLords': 32, 'Ġborderline': 31, 'ĠChambers': 31, 'ĠChronicles': 31, 'ĠGhosts': 31, 'Ġlounge': 31}\n",
      "ĠDarren {'Ġ960': 33, 'ĠZub': 33, 'ĠWalton': 31, 'ĠHolt': 31, 'ĠYPG': 30, 'ĠWillow': 30}\n",
      "ĠTradable {'ĠPicard': 35, 'ĠChambers': 32, 'ĠBarber': 32, 'ĠCohen': 31, 'ĠMerlin': 30, 'ĠFloyd': 30}\n",
      "Ġmatured {'Ġcollateral': 32, 'ĠClippers': 31, 'ĠElephant': 31, 'ĠFern': 31, 'Ġbilingual': 31, 'Ġworldview': 30}\n",
      "ĠContin {'ĠLash': 36, 'ĠPebble': 31, 'ĠSkype': 30, 'ĠYPG': 30, 'ĠMeng': 30, 'ĠSergio': 30}\n",
      "Ġlasted {'ĠMonday': 33, 'ĠSaturday': 32, 'ĠFridays': 32, 'Ġunilaterally': 31, 'ĠWednesday': 31, 'ËĪ': 31}\n",
      "iren {'ĠTyphoon': 33, 'Ġwoo': 32, 'ĠKlein': 32, 'ĠBung': 31, 'ĠHoover': 30, 'ĠMaul': 30}\n",
      "timer {'Ġkale': 32, 'ĠDSL': 31, 'ĠDalai': 31, 'ĠGSL': 31, 'ĠDLC': 31, 'ĠLich': 31}\n",
      "Ġfamine {'Ġpessim': 33, 'ĠHezbollah': 32, 'Ġjealousy': 31, 'Ġretaliation': 30, 'ĠShowtime': 30, 'Ġchuckled': 30}\n",
      "aneers {'Ġkale': 34, 'ĠGSL': 33, 'Ġglam': 32, 'ĠChad': 31, 'ĠWCS': 31, 'Ġmidrange': 30}\n",
      "ĠGilmore {'Ġstewards': 33, 'ĠScythe': 31, 'Ġscoff': 31, 'ĠRena': 31, 'ĠSlay': 30, 'ĠRampage': 30}\n",
      "ãĤī {'Ġfive': 33, 'Ġsix': 32, 'ĠTHREE': 31, 'ĠFridays': 31, 'Five': 31, 'Ġfour': 30}\n",
      "ĠIrish {'ĠShowtime': 33, 'ĠWarlock': 32, 'Ġroommate': 31, 'ĠTownsend': 31, 'ĠClippers': 31, 'ĠWatson': 30}\n",
      "ĠMcCabe {'ĠDebor': 32, 'ĠFrieza': 32, 'ĠMaul': 31, 'ĠRahul': 31, 'ĠHuang': 30, 'ĠHorus': 30}\n",
      "sama {'ĠLivingston': 33, 'ĠHoover': 33, 'ĠLimbaugh': 31, 'ĠEverett': 31, 'ĠOccupy': 30, 'ĠFreud': 30}\n",
      "Ġvast {'ĠLegions': 34, 'ĠDominion': 33, 'ĠWarlock': 31, 'Ġbilingual': 30, 'ĠDemonic': 30, 'ĠHume': 30}\n",
      "Ġgunmen {'ĠLoft': 33, 'ĠWarlock': 32, 'ĠSears': 31, 'ĠFeldman': 31, 'ĠSkype': 30, 'ĠPanasonic': 30}\n",
      "ĠXeon {'ĠPicard': 34, 'ĠGuang': 32, 'ĠKlein': 32, 'ĠRomero': 31, 'ĠPixie': 30, 'ĠGrayson': 30}\n",
      "ionics {'ĠNorthwestern': 32, 'Ġ9000': 32, 'Ġ10000': 32, 'Ġunaccompanied': 31, 'Ġbilingual': 30, 'Ġ6000': 30}\n",
      "rt {'ĠClint': 31, 'ĠMIA': 31, 'ĠHearthstone': 31, 'ĠHume': 31, 'ĠLyon': 31, 'ĠHoover': 31}\n",
      "olkien {'ĠKling': 36, 'Ġ\"âĢ¦': 32, 'ĠTyphoon': 31, 'ĠHulk': 30, 'ĠBosh': 30, 'Ġroaring': 30}\n",
      "Ġunison {'ĠCrusher': 33, 'Ġtrolls': 32, 'ĠMIA': 31, 'Ġcrackdown': 31, 'Ġzoning': 30, 'ĠLoft': 30}\n",
      "ocious {'ĠKlingon': 34, 'Ġclitor': 33, 'Ġunicorn': 31, 'Ġmixer': 30, 'Ġsponge': 30, 'Ġsitcom': 30}\n",
      "igsaw {'Ġscissors': 33, 'ĠSessions': 33, 'Ġflora': 32, 'ĠChambers': 31, 'Ġdaughters': 30, 'Ġgranddaughter': 30}\n",
      "Ġmultinational {'Ġsheep': 32, 'ĠHeather': 31, 'Ġflares': 31, 'ĠSheep': 31, 'ĠClippers': 30, 'ĠClifford': 30}\n",
      "Ġreactors {'Ġenlight': 33, 'Ġsquee': 32, 'Ġknowingly': 31, 'ĠClayton': 31, 'Ġtriglycer': 30, 'Ġsweating': 30}\n",
      "OTAL {'ĠKubrick': 33, 'ĠHoover': 32, 'ĠBoeing': 32, 'ĠKlingon': 31, 'ĠZig': 30, 'ĠBMW': 30}\n",
      "dullah {'ĠSting': 33, 'ĠTempest': 33, 'Ġstewards': 31, 'ĠSparks': 30, 'Ġhob': 30, 'Ġmosaic': 30}\n",
      "ĠCthulhu {'Ġ0004': 32, 'Ġeman': 32, 'ĠWarlock': 31, 'ĠSchl': 31, 'Ġmosaic': 30, 'Ġnib': 30}\n",
      "ĠCrimean {'ĠLegions': 35, 'Ġfireball': 34, 'ĠMalik': 31, 'ĠDemonic': 30, 'ĠTyphoon': 30, 'ĠAmir': 30}\n",
      "Ġindigenous {'ĠChandler': 34, 'Ġlounge': 32, 'ĠPhelps': 31, 'ĠSears': 31, 'ĠWarlock': 30, 'ĠBraun': 30}\n",
      "ĠCourtney {'ĠShard': 37, 'ĠXue': 33, 'ĠHolt': 32, 'ĠZub': 30, 'Ġmosa': 29, 'ĠBalt': 29}\n",
      "ĠOsama {'ĠBlitz': 33, 'Ġfireball': 32, 'ĠBrawl': 31, 'Ġspilling': 31, 'Ġfilib': 30, 'ĠGrimm': 30}\n",
      "Ġnonprofit {'ĠSears': 32, 'ĠFloyd': 32, 'Ġbilingual': 31, 'ĠHick': 31, 'Ġshards': 30, 'ĠLance': 30}\n",
      "Ġadjourn {'ĠHulk': 38, 'Ġminors': 30, 'Ġceilings': 30, 'Ġproletariat': 30, 'ĠLatvia': 30, 'ĠBoeing': 30}\n",
      "oter {'ĠShattered': 31, 'Ġbilingual': 31, 'ĠHearthstone': 31, 'Ġunorthodox': 31, 'Ġsandwic': 31, 'Ġunconventional': 30}\n",
      "Ġrall {'ĠPersona': 33, 'ĠTempest': 31, 'ĠMiko': 30, 'ĠAura': 30, 'ĠBalt': 30, 'ĠGaia': 30}\n",
      "ottesville {'ĠZerg': 32, 'Ġhavoc': 32, 'ĠLug': 31, 'ĠShim': 31, 'ĠLunar': 31, 'ĠSlay': 31}\n",
      "aska {'Ġsquee': 37, 'ĠMoonlight': 32, 'ĠTsarnaev': 31, 'Ġcountdown': 30, 'Ġblacklist': 29, 'Ġsemin': 29}\n",
      "Ġamulet {'ĠGSL': 35, 'ĠCarnage': 32, 'ĠWarlock': 32, 'Ġcaric': 30, 'Ġsyll': 30, 'ĠRohing': 30}\n",
      "Ġtruthful {'Ġmisconceptions': 34, 'ĠMaxim': 31, 'Ġfilibuster': 31, 'Ġconcurrently': 30, 'Ġdelusions': 30, 'Ġcontemplation': 30}\n",
      "istan {'ĠHoover': 34, 'ĠNish': 31, 'Ġsweating': 31, 'Ġbuffs': 30, 'ĠReincarnated': 30, 'ĠHume': 30}\n",
      "ĠVanilla {'ĠSears': 34, 'ĠWarlock': 31, 'ĠFeldman': 31, 'ĠHacker': 30, 'ĠGamergate': 30, 'Ġselfies': 30}\n",
      "mberg {'ĠCrusher': 32, 'ĠSpears': 31, 'ĠDare': 31, 'ĠGSL': 31, 'ĠSlay': 30, 'Ġslime': 30}\n",
      "ĠStartup {'ĠFeldman': 34, 'ĠZig': 33, 'Ġ9000': 31, 'ĠDustin': 30, 'ĠErie': 30, 'ĠDarius': 30}\n",
      "ĠFranÃ§ois {'ĠPebble': 33, 'ĠFeldman': 32, 'ĠLabyrinth': 31, 'ĠRosenberg': 30, 'ĠPlymouth': 30, 'ĠEdmonton': 30}\n",
      "Ġsham {'ĠMahjong': 34, 'ĠGalileo': 33, 'ĠChandra': 31, 'Ġbilingual': 31, 'ĠLimbaugh': 30, 'ĠLegions': 30}\n",
      "Ġboosters {'ĠVanderbilt': 33, 'Ġkale': 32, 'ĠClippers': 30, 'ĠGlock': 30, 'ĠWarlock': 30, 'ĠCompton': 30}\n",
      "Ġpaternal {'Ġoptimism': 33, 'Ġversatility': 33, 'Ġcompuls': 31, 'ĠLoft': 30, 'Ġhegemony': 30, 'Ġaggression': 30}\n",
      "Ġconquest {'Ġseamlessly': 32, 'ĠLoft': 32, 'ĠJolly': 31, 'ĠBarr': 30, 'ĠErie': 30, 'ĠBlitz': 30}\n",
      "amiya {'Ġpund': 32, 'Ġwhisk': 32, 'Ġwip': 31, 'Ġhurd': 30, 'Ġsnippet': 30, 'ĠSharif': 30}\n",
      "ĠMouse {'Ġsemifinals': 32, 'Ġbilingual': 32, 'ĠWarlock': 31, 'ĠClippers': 31, 'Ġnightmares': 31, 'ĠLabyrinth': 30}\n",
      "ĠHussein {'ĠSlack': 31, 'Ġcoerced': 31, 'ĠSting': 31, 'ĠChimera': 31, 'ĠAlchemist': 31, 'Ġtrickle': 30}\n",
      "Assad {'Ġchuckled': 33, 'Ġmosaic': 32, 'Ġmosa': 31, 'Ġrejoice': 30, 'Ġroaring': 30, 'Ġmainline': 30}\n",
      "ĠDirectorate {'ĠMcGr': 32, 'ĠFeldman': 32, 'ĠSnapchat': 31, 'Ġfireball': 30, 'ĠEverett': 30, 'ĠFrenchman': 30}\n",
      "ĠGut {'ĠHorde': 33, 'ĠYPG': 32, 'ĠOculus': 31, 'ĠFrieza': 30, 'ĠFleming': 30, 'ĠDominion': 30}\n",
      "Ġauthentic {'ĠVanderbilt': 33, 'ĠLash': 32, 'ĠBoeing': 31, 'ĠBaird': 30, 'ĠSears': 30, 'Ġlash': 30}\n",
      "ĠAttorney {'Ġcharism': 32, 'Ġegreg': 31, 'Ġsquee': 31, 'Ġlaud': 31, 'ĠSlay': 31, 'Ġtampering': 30}\n",
      "inosaur {'ĠHoover': 33, 'Ġhandshake': 33, 'Ġslug': 31, 'Ġpodcast': 30, 'Ġbattlefield': 30, 'Ġheartbeat': 30}\n",
      "ĠPersia {'ĠSneak': 32, 'ĠSwan': 32, 'Ġlandsl': 32, 'Ġlounge': 32, 'ĠLoft': 30, 'ĠSloan': 30}\n",
      "Ġ(?, {'ĠTyphoon': 37, 'ĠKlein': 32, 'ĠValencia': 31, 'ĠLyon': 31, 'ĠJaune': 29, 'ĠLyft': 29}\n",
      "ĠCabrera {'ĠKris': 32, 'ĠShard': 31, 'ĠOsh': 31, 'ĠKling': 31, 'ĠJaune': 30, 'ĠHeath': 30}\n",
      "ĠAsgard {'ĠDustin': 34, 'ĠShinzo': 31, 'ĠEllison': 31, 'ĠLoft': 30, 'ĠMahjong': 30, 'ĠMiko': 30}\n",
      "ĠMalta {'ĠGillespie': 33, '\".[': 32, 'ĠHeather': 30, 'Ġ2010': 30, 'ĠMelvin': 30, 'ĠXiaomi': 30}\n",
      "ĠWooden {'ĠHolt': 32, 'ĠWarlock': 32, 'Ġtripod': 30, 'ĠJarrett': 30, 'ĠGuang': 30, 'ĠRyder': 30}\n",
      "Cour {'ĠLivingston': 33, 'ĠShattered': 32, 'ĠRidley': 32, 'ĠCarnage': 31, 'Ġchuckled': 30, 'ĠUriel': 30}\n",
      "Attorney {'Ġcharism': 33, 'Ġegreg': 33, 'Ġtampering': 31, 'ĠRampage': 30, 'ĠBrookings': 30, 'ĠValiant': 30}\n",
      "ĠMountains {'ĠGillespie': 32, 'ĠGalileo': 32, 'ĠHuffPost': 31, 'ĠHume': 31, 'ĠHoover': 30, 'ĠKira': 30}\n",
      "Ġbaseless {'ĠJaguars': 32, 'ĠNorthwestern': 31, 'ĠChandra': 31, 'ĠTyphoon': 30, 'ĠClippers': 30, 'ĠMeredith': 30}\n",
      "ĠGohan {'ĠMead': 33, 'Ġunim': 31, 'ĠRumble': 31, 'ĠLunar': 30, 'Ġcompuls': 30, 'ĠRampage': 30}\n",
      "idays {'ĠEverett': 32, 'ĠLatvia': 31, 'ĠFeldman': 31, 'ĠBaylor': 30, 'ĠBrookings': 30, 'ĠYamaha': 30}\n",
      "umbledore {'Ġreciprocal': 33, 'Ġsweeping': 32, 'Ġsquee': 30, 'Ġcollateral': 30, 'Ġtempor': 30, 'Ġpict': 30}\n",
      "Ġlightsaber {'Ġteasing': 33, 'Ġfallout': 31, 'Ġdissertation': 31, 'ĠHobby': 30, 'Ġcrackdown': 30, 'ĠCarnage': 30}\n",
      "ĠFreem {'ĠLash': 36, 'ĠUtt': 33, 'ĠYamato': 31, 'ĠHulk': 30, 'ĠLynd': 30, 'ĠAmbrose': 30}\n",
      "ĠBombs {'ĠGSL': 33, 'ĠGohan': 31, 'ĠMiko': 30, 'ĠYPG': 30, 'ĠKeane': 30, 'ĠBowie': 30}\n",
      "Ġlone {'Ġdestroyer': 31, 'ophobia': 31, 'traumatic': 31, 'ĠDemonic': 30, 'ĠWarlock': 30, 'Ġsemifinals': 30}\n",
      "Ġpremature {'Ġharassed': 34, 'ĠShattered': 31, 'Ġkale': 31, 'Ġharassment': 30, 'Ġstewards': 30, 'ĠZerg': 29}\n",
      "Ġendemic {'Ġlounge': 32, 'ĠBashar': 31, 'ĠMacArthur': 31, 'Ġfentanyl': 30, 'ĠRamsay': 30, 'ĠSloan': 30}\n",
      "Ġutilitarian {'ĠLash': 33, 'ĠPolk': 32, 'ĠPalm': 31, 'ĠShim': 31, 'Ġcrackdown': 31, 'Ġswoop': 29}\n",
      "Ġintestinal {'ĠWatson': 32, 'ĠSparks': 31, 'ĠBoeing': 31, 'Ġfireball': 31, 'Ġrubble': 30, 'ĠRandolph': 30}\n",
      "ĠPatron {'ĠMiddles': 33, 'ĠHick': 32, 'ĠBlaz': 30, 'ĠFrieza': 30, 'ĠFeldman': 30, 'ĠEstonia': 30}\n",
      "ummy {'Ġbilingual': 35, 'ĠTyphoon': 32, 'Ġharassed': 30, 'ĠMIA': 30, 'Ġharassing': 30, 'Ġteasing': 29}\n",
      "Ġneedless {'ĠShattered': 33, 'Ġfireball': 31, 'Ġovershadowed': 30, 'ĠTyphoon': 30, 'Ġenhancements': 30, 'Ġbullying': 30}\n",
      "Ġutopian {'Ġfireball': 34, 'ĠWarlock': 32, 'Ġlogistics': 31, 'ĠBowling': 30, 'Ġfolklore': 30, 'Ġscrambling': 29}\n",
      "Total {'ĠHoover': 32, 'ĠYamaha': 31, 'ĠLaurel': 31, 'ĠMcCoy': 31, 'ĠScully': 30, 'ĠBowman': 30}\n",
      "habi {'ĠWarlock': 31, 'ĠCarnage': 31, 'ĠSparks': 30, 'Ġdaytime': 30, 'ĠMoonlight': 30, 'ĠChambers': 30}\n",
      "Ġbaseline {'Ġdissidents': 32, 'ĠSlack': 31, 'ĠEminem': 31, 'Ġwizard': 31, 'Ġclutter': 30, 'ĠBoeing': 30}\n",
      "ĠRasmussen {'Ġmacros': 31, 'ĠConcern': 31, 'Ġhavoc': 31, 'Ġhegemony': 30, 'Ġstewards': 30, 'ĠStun': 30}\n",
      "hesive {'Ġbilingual': 33, 'Ġminors': 31, 'ĠSparks': 31, 'ĠBowling': 31, 'ĠMaxim': 30, 'ĠSloven': 29}\n",
      "Ġrusty {'Ġfilibuster': 32, 'Ġblacklist': 32, 'Ġfrontline': 31, 'Ġstewards': 31, 'ĠLegions': 30, 'Ġbunker': 30}\n",
      "Ġunlawfully {'Ġejected': 33, 'Ġtampering': 31, 'Ġdemolished': 31, 'Ġovershadowed': 30, 'ĠEnhancement': 30, 'Ġcrippled': 30}\n",
      "ĠSUV {'ĠGillespie': 33, 'ĠHoover': 32, 'ĠCarnage': 32, 'ĠRyder': 31, 'ĠNemesis': 29, 'ĠFeldman': 29}\n",
      "Ġterrorist {'Ġmosaic': 33, 'Ġoverlay': 31, 'ĠChambers': 31, 'ĠClan': 31, 'Ġslashing': 30, 'ĠFeldman': 29}\n",
      "ĠFebruary {'Ġ2010': 33, 'Ġ2006': 32, 'Ġ2005': 32, 'Ġ2007': 30, '2010': 30, 'Ġ2004': 29}\n",
      "Ġbasin {'Ġunorthodox': 32, 'ĠPDT': 31, 'ĠDemonic': 31, 'ĠOrwell': 31, 'ĠIlluminati': 30, 'Ġunilaterally': 30}\n",
      "asus {'Ġfrontline': 33, 'ĠDemonic': 31, 'ĠHighlands': 31, 'Ġlymph': 30, 'Ġcolleg': 30, 'ĠShattered': 30}\n",
      "Ġinsightful {'ĠLabyrinth': 32, 'Ġstewards': 32, 'Ġlounge': 31, 'Ġtempor': 31, 'Ġhierarchical': 30, 'ĠChambers': 30}\n",
      "Semitism {'Ġdele': 32, 'Ġbung': 31, 'ĠShard': 31, 'ĠCloak': 30, 'ĠDoodle': 30, 'ĠLowell': 30}\n",
      "Start {'ĠHoover': 32, 'ĠErica': 32, 'ĠRyder': 31, 'ĠiCloud': 30, 'ĠDennis': 29, 'ĠMahjong': 29}\n",
      "Ġlegitimately {'Ġcrippled': 32, 'Ġharrowing': 31, 'Ġovershadowed': 31, 'Ġcoerced': 30, 'Ġsoftened': 30, 'Ġfearful': 30}\n",
      "essert {'ĠGSL': 34, 'ĠFiji': 31, 'ĠShanghai': 31, 'ĠVanderbilt': 31, 'ĠBaylor': 29, 'ĠCherokee': 29}\n",
      "ĠVictorian {'ĠHoover': 32, 'ĠFeldman': 32, 'ĠLash': 31, 'ĠDropbox': 30, 'ĠGoddard': 30, 'ĠSneak': 29}\n",
      "Ġrept {'Ġcompuls': 37, 'Ġmaniac': 31, 'ĠRampage': 30, 'ĠAmbrose': 30, 'Ġrampage': 30, 'Ġmaneuvers': 29}\n",
      "Ġsouthwestern {'ĠGentleman': 33, 'ĠLords': 32, 'ĠUriel': 30, 'ĠMasters': 30, 'Ġstewards': 30, 'ĠKath': 30}\n",
      "arton {'ĠWalton': 32, 'ĠFeldman': 31, 'Ġfurry': 31, 'ĠZerg': 30, 'ĠAliens': 30, 'ĠProtoss': 30}\n",
      "ĠMartian {'ĠLegions': 32, 'ĠYPG': 31, 'userc': 31, 'Ġ\"âĢ¦': 30, 'ĠDropbox': 30, 'ĠPetraeus': 30}\n",
      "Ancient {'ĠGSL': 31, 'ĠRove': 31, 'ĠZhao': 31, 'ĠHorde': 30, 'ĠGarry': 30, 'ĠBlackburn': 30}\n",
      "OTH {'ĠHearthstone': 34, 'ĠWarlock': 33, 'ĠDropbox': 31, 'ĠAboriginal': 30, 'ĠDresden': 30, 'Ġforeskin': 29}\n",
      "ĠBecome {'ĠYPG': 35, 'ĠLegions': 32, 'ĠWarlock': 31, 'Ġminors': 30, 'Ġgrandchildren': 29, 'ĠKlein': 29}\n",
      "otent {'Ġmidrange': 31, 'Ġbroccoli': 31, 'Ġfireball': 31, 'Ġlandslide': 30, 'Ġbilingual': 30, 'Ġstewards': 30}\n",
      "ÙĴ {'ĠSubaru': 32, 'ĠShia': 31, 'ĠSunni': 31, 'NVIDIA': 30, 'ĠTrotsky': 30, 'ĠFnatic': 30}\n",
      "Ġinnate {'Ġdisparity': 32, 'Ġcompuls': 31, 'Ġpeacefully': 31, 'Ġhegemony': 31, 'Ġemphatically': 30, 'Ġlogistical': 30}\n",
      "Ġdangling {'ĠLegions': 32, 'Ġfireball': 31, 'ĠChambers': 30, 'Ġkale': 30, 'Ġhegemony': 30, 'Ġturrets': 30}\n",
      "ĠAires {'ĠSlay': 32, 'ĠLash': 32, 'ĠGillespie': 31, 'ĠWarlock': 30, 'ĠSparks': 30, 'ĠPaddock': 30}\n",
      "Ġhashtag {'ĠNemesis': 33, 'ĠCarnage': 32, 'ĠTsukuyomi': 30, 'ĠWarlock': 30, 'ĠRampage': 29, 'Ġpessim': 29}\n",
      "ĠSaiyan {'ĠBlumenthal': 33, 'Ġplumbing': 31, 'Ġnineteenth': 31, 'ĠLivingston': 30, 'ĠGoldstein': 29, 'ĠGSL': 29}\n",
      "ĠMadagascar {'ĠLegions': 32, 'ĠTosh': 32, 'Ġunim': 31, 'Ġsyll': 31, 'ĠKlein': 31, 'ĠOmni': 30}\n",
      "adeon {'Ġlightly': 34, 'ĠLoft': 31, 'Ġsquee': 31, 'ĠChall': 30, 'Ġeuphem': 29, 'Ġcompuls': 29}\n",
      "ĠCosby {'Ġ0004': 32, 'Ġroaring': 32, 'ĠRoland': 31, 'Ġprelim': 30, 'ĠRampage': 30, 'ĠKling': 29}\n",
      "ibur {'ĠHoover': 31, 'Ġlandsl': 31, 'Ġmoderately': 30, 'Ġvomit': 30, 'Ġfilib': 30, 'Ġdispers': 30}\n",
      "DonaldTrump {'Ġsquee': 33, 'ĠLynd': 32, 'Ġmayhem': 31, 'ĠKling': 31, 'Ġbuffs': 29, 'Ġpodcast': 29}\n",
      "Â®, {'ĠSasuke': 32, 'ĠLyft': 32, 'ĠSpock': 31, 'ĠJaune': 31, 'ĠDarius': 30, 'ĠWarlock': 29}\n",
      "Ġdisg {'ĠLockheed': 32, 'ĠHoover': 32, 'ĠKirin': 31, 'ĠGarrison': 30, 'ĠLowell': 30, 'ĠFern': 29}\n",
      "iterranean {'Ġwhistle': 31, 'Ġfireball': 31, 'Ġstewards': 31, 'ĠHeather': 30, 'Ġsinners': 30, 'ĠMug': 30}\n",
      "Nusra {'Ġblacklist': 32, 'Ġpessim': 32, 'ĠScully': 32, 'ĠGoldstein': 30, 'ĠChambers': 29, 'ĠHoover': 29}\n",
      "ĠManafort {'ĠGSL': 33, 'ĠGuang': 32, 'ĠYue': 31, 'ĠZig': 30, 'Ġshorth': 29, 'ĠMalik': 29}\n",
      "ĠDestroy {'ĠStanford': 32, 'ĠHughes': 31, 'ĠMalik': 31, 'ĠChambers': 30, 'ĠBarnett': 30, 'ĠLindsay': 29}\n",
      "Ġbur {'ĠJaune': 34, 'ĠWarlock': 32, 'ĠLegions': 31, 'ĠCarbuncle': 30, 'ĠHorde': 29, 'ĠShard': 29}\n",
      "ãģ£ {'Ġbilingual': 36, 'Ġmidrange': 34, 'Ġvegetarian': 30, 'Ġnonviolent': 30, 'Ġcentrist': 29, 'Ġhalfway': 28}\n",
      "Ġrotten {'ĠHoover': 31, 'ĠBoeing': 31, 'ĠHilton': 30, 'ĠHulk': 30, 'ĠMcGregor': 30, 'ĠHuffPost': 30}\n",
      "ĠCoh {'ĠYPG': 32, 'ĠUlster': 32, 'ĠBashar': 31, 'ĠLyon': 30, 'ĠGoff': 30, 'ĠGibbs': 29}\n",
      "Ġkindred {'Ġlooms': 32, 'ĠHastings': 31, 'ĠZack': 31, 'Ġbreeze': 31, 'ĠDrew': 30, 'Ġstewards': 29}\n",
      "ĠUndead {'ĠChandler': 31, 'ĠChimera': 31, 'ĠPaddock': 31, 'ĠGamergate': 30, 'ĠBucket': 30, 'ĠChambers': 30}\n",
      "ĠPirate {'ĠWarlock': 32, 'Ġstewards': 31, 'Ġshun': 30, 'Ġceilings': 30, 'Ġdwind': 29, 'ĠGSL': 29}\n",
      "Ġitiner {'ĠScythe': 32, 'ĠMarsh': 31, 'ĠCarnage': 30, 'Ġsoph': 30, 'ĠLunar': 30, 'Ġsheltered': 30}\n",
      "ilitarian {'ĠHelm': 31, 'ĠChambers': 31, 'ĠShrine': 30, 'ĠSloven': 30, 'ĠLoft': 30, 'ĠPolk': 30}\n",
      "ossal {'ĠWalton': 32, 'ĠHispanics': 30, 'ĠTunis': 30, 'ĠGibbs': 30, 'ĠWheeler': 30, 'Ġbilingual': 30}\n",
      "ĠStephan {'ĠYPG': 33, 'ĠCarnage': 31, 'ĠKis': 30, 'Ġbroccoli': 30, 'Ġspores': 30, 'ĠHRC': 30}\n",
      "anship {'Ġdaytime': 33, 'ĠHearthstone': 31, 'Ġfireball': 31, 'Ġbilingual': 30, 'SourceFile': 30, 'ĠKazakh': 29}\n",
      "ãĥĥ {'ĠKaplan': 33, 'Ġmidrange': 32, 'Ġbilingual': 31, 'ĠYates': 30, 'Ġsemifinals': 29, 'ĠMcKenzie': 29}\n",
      "ĠInvestigative {'Ġ0004': 32, 'ĠLegions': 31, 'Ġcompuls': 31, 'ĠGOODMAN': 31, 'Ġblessings': 30, 'ĠHezbollah': 30}\n",
      "ĠInstant {'ĠMacArthur': 32, 'ĠRosenstein': 32, 'ĠFeldman': 32, 'ĠZika': 29, 'ĠSkype': 29, 'ĠPackers': 29}\n",
      "Ġdistinctive {'ĠMalik': 33, 'ĠPicard': 32, 'ĠSpock': 30, 'ĠZhang': 29, 'ĠClippers': 29, 'Ġlounge': 29}\n",
      "eston {'Ġshotgun': 30, 'ĠBrawl': 30, 'Ġlivestream': 30, 'ĠLimbaugh': 30, 'ĠGillespie': 30, 'ĠZerg': 30}\n",
      "ramids {'Ġharassed': 32, 'Ġharassing': 32, 'Ġhassle': 30, 'Ġmessy': 30, 'ĠWander': 29, 'Ġharassment': 29}\n",
      "amoto {'Ġcrushing': 32, 'Ġsquee': 32, 'Ġunchecked': 30, 'Ġfuss': 29, 'Ġnons': 29, 'Ġexclaim': 29}\n",
      "Ġtextual {'ĠFeldman': 32, 'ĠEnhancement': 31, 'Ġoverweight': 30, 'ĠAlert': 30, 'ĠMonday': 30, 'Ġejected': 30}\n",
      "Ġsimultane {'ĠRampage': 32, 'ĠLash': 31, 'Ġnib': 30, 'Ġslug': 30, 'ĠWarlock': 30, 'ĠKling': 29}\n",
      "ĠCreek {'ĠMahjong': 32, 'ĠWarlock': 31, 'ĠHearthstone': 31, 'ĠGraveyard': 30, 'ĠWerewolf': 30, 'ĠSkype': 30}\n",
      "Ġcrowdfunding {'Ġsyll': 31, 'ĠLever': 31, 'ĠShim': 31, 'ĠHeather': 30, 'ĠLash': 30, 'ĠHume': 30}\n",
      "Ġcoordinated {'ĠFarmer': 33, 'ĠSheep': 31, 'ĠHobbit': 30, 'Ġwidow': 29, 'ĠFarmers': 29, 'Ġsheep': 29}\n",
      "Ġintestine {'ĠBoeing': 31, 'ĠZerg': 31, 'ĠPanasonic': 30, 'ĠTyphoon': 30, 'ĠPaddock': 30, 'ĠHearthstone': 29}\n",
      "ĠQuentin {'ĠLash': 32, 'ĠGoff': 31, 'ĠZub': 31, 'Ġ\"âĢ¦': 30, 'ĠPaddock': 30, 'ĠPebble': 29}\n",
      "Ġreprinted {'ĠLivingston': 33, 'ĠGoff': 31, 'Ġgorilla': 31, 'ĠWarlock': 30, 'Ġunman': 30, 'ĠDalai': 30}\n",
      "Detroit {'Ġlivestream': 32, 'Ġ0004': 31, 'ĠBLM': 30, 'ĠHuang': 30, 'ĠHearthstone': 30, 'ĠMoonlight': 30}\n",
      "Ġparchment {'Ġroommate': 31, 'ĠElder': 31, 'ĠSuarez': 30, 'Ġshorth': 30, 'Ġbadges': 30, 'Ġdexter': 29}\n",
      "ĠHarvest {'ĠWarlock': 33, 'ĠWiz': 32, 'ĠShant': 30, 'ĠPixie': 30, 'ĠDustin': 29, 'ĠWCS': 29}\n",
      "vo {'Ġfireball': 32, 'Ġmillennials': 31, 'ĠHearthstone': 31, 'Ġmicrobiome': 31, 'Ġlightsaber': 29, 'Ġmountainous': 29}\n",
      "ONEY {'ĠiCloud': 32, 'ĠASUS': 32, 'ĠHoover': 31, 'ĠLivingston': 30, 'ĠBoeing': 29, 'ĠYamaha': 29}\n",
      "sk {'Ġsquee': 31, 'ĠMahjong': 30, 'Ġchimpanzees': 30, 'ĠiCloud': 30, 'ĠCunning': 30, 'Ġbilingual': 30}\n",
      "ĠScarlet {'ĠYamaha': 31, 'ĠMalik': 30, 'ĠBale': 30, 'ĠWillow': 30, 'ĠYPG': 30, 'ĠXander': 29}\n",
      "ourmet {'Ġstewards': 33, 'ĠSpock': 31, 'ĠReserv': 31, 'Ġpowdered': 31, 'Ġlinguistic': 29, 'Ġwording': 29}\n",
      "Ġattentive {'ĠZeus': 31, 'ĠBoeing': 31, 'ĠLash': 30, 'ĠLegions': 30, 'ĠLith': 30, 'ĠLoft': 30}\n",
      "ãĤ¤ {'ĠKling': 31, 'Ġkale': 31, 'Ġwhistle': 31, 'ĠKlingon': 30, 'Ġbreat': 30, 'ĠMoonlight': 29}\n",
      "ĠOPEC {'Ġgranddaughter': 31, 'ĠWerewolf': 31, 'Ġslug': 30, 'Ġbutterflies': 30, 'ĠSwordsman': 30, 'Ġroomm': 29}\n",
      "anton {'ĠMIA': 33, 'ĠMidwest': 31, 'Ġsituational': 31, 'Ġ0004': 30, 'ĠStarCraft': 30, 'Ġlame': 29}\n",
      "ottage {'Ġcollateral': 31, 'Ġcooper': 30, 'ĠGOODMAN': 30, 'ĠCommentary': 30, 'Ġwebcam': 30, 'ĠMcMaster': 30}\n",
      "ĠCameroon {'ĠWillow': 33, 'Ġcollateral': 30, 'ĠFowler': 30, 'ĠKlein': 30, 'Ġkale': 30, 'ĠMagnus': 29}\n",
      "ĠProsper {'ĠRift': 31, 'ĠWillow': 30, 'Ġunim': 30, 'ĠElm': 30, 'ĠShim': 30, 'ĠWarlock': 29}\n",
      "ĠIssa {'Ġchuckled': 33, 'ĠRosenberg': 31, 'ĠSchwarz': 30, 'ĠWerewolf': 30, 'Ġsamurai': 29, 'Ġshenanigans': 29}\n",
      "Ġprototypes {'ĠLongh': 37, 'ĠShant': 34, 'Ġbilingual': 29, 'Ġshorth': 29, 'ĠEverest': 29, 'Ġlame': 28}\n",
      "iland {'Ġstewards': 33, 'ĠCarnage': 30, 'Ġreeling': 30, 'Ġlavish': 30, 'Ġroaring': 30, 'Ġremorse': 29}\n",
      "ĠGrip {'Ġ7000': 31, 'Ġ2400': 31, 'Ġ0004': 31, 'Ġ2500': 31, 'Ġ1500': 31, 'Ġ4000': 29}\n",
      "chen {'Ġpessimistic': 33, 'ĠSubaru': 31, 'ĠHorde': 30, 'ĠiCloud': 30, 'ĠZerg': 29, 'Ġpassively': 29}\n",
      "Ġholiday {'ĠFeldman': 32, 'ĠSchwartz': 30, 'ĠNorthwestern': 30, 'ĠSparks': 30, 'ĠGoddard': 30, 'Ġshenanigans': 29}\n",
      "emade {'ĠWarlock': 32, 'ĠFeld': 31, 'ĠEstonia': 30, 'ĠGSL': 30, 'ĠFeldman': 30, 'Ġkale': 29}\n",
      "ĠGutenberg {'ĠLoft': 34, 'ĠZac': 30, 'ĠMeng': 30, 'Ġshun': 30, 'ĠWink': 29, 'ĠLash': 29}\n",
      "termin {'ĠZerg': 31, 'Ġbilingual': 30, 'Ġshorth': 30, 'Ġvomiting': 30, 'ĠShattered': 30, 'ĠHoover': 29}\n",
      "ĠNewtown {'ĠFSA': 32, 'ĠFeldman': 31, 'Ġ\"âĢ¦': 30, 'ĠHulk': 29, 'ĠSears': 29, 'ĠLivingston': 29}\n",
      "Ġwrongful {'ĠDropbox': 31, 'ĠLegions': 31, 'ĠClippers': 31, 'ĠGarland': 30, 'Ġoverlay': 29, 'Ġslashing': 29}\n",
      "ĠAudrey {'ĠShard': 32, 'ĠStevens': 31, 'ĠRohing': 30, 'ĠGiles': 30, 'ĠPolk': 29, 'ĠHolt': 29}\n",
      "abby {'ĠDartmouth': 33, 'ĠSloan': 31, 'ĠWarlock': 31, 'Ġkale': 29, 'ĠChevron': 29, 'ĠCherokee': 29}\n",
      "Ġstarvation {'Ġpessim': 32, 'Ġcoerced': 30, 'Ġdisparity': 30, 'ĠKessler': 30, 'ĠRout': 30, 'Ġoptimism': 29}\n",
      "Ġtul {'ĠAndromeda': 32, 'romeda': 31, 'ĠLunar': 30, 'ĠCarnage': 30, 'ĠLionel': 30, 'ĠTyphoon': 29}\n",
      "ordon {'Ġhavoc': 31, 'Ġbullies': 31, 'Ġmockery': 30, 'Ġshenanigans': 30, 'ĠChallenger': 30, 'ĠHulk': 29}\n",
      "Ġshepherd {'ĠYiannopoulos': 33, 'ĠPDT': 32, 'Ġadvant': 30, 'ĠCarnage': 29, 'ĠOblivion': 29, 'ĠWeasley': 29}\n",
      "Ġunlawful {'Ġejected': 31, 'Ġhandshake': 30, 'Ġchuckled': 30, 'Ġslashing': 30, 'Ġdestroyer': 29, 'ĠClippers': 29}\n",
      "cur {'ĠTsukuyomi': 32, 'Ġmagically': 31, 'ĠShattered': 31, 'Ġnervously': 30, 'Ġorally': 29, 'Ġnarcissistic': 29}\n",
      "ĠMosul {'Ġhaunt': 30, 'Ġhavoc': 30, 'ĠTyphoon': 30, 'Ġwhirlwind': 30, 'Ġcharcoal': 30, 'Ġhob': 29}\n",
      "ĠLieberman {'Ġbuffs': 32, 'ĠSting': 31, 'ĠKling': 31, 'ĠGuang': 30, 'ĠXue': 30, 'ĠShel': 29}\n",
      "ĠPrescott {'ĠGSL': 31, 'ĠLash': 30, 'Ġswarm': 30, 'ĠPaddock': 30, 'ĠGoff': 30, 'ĠWarlock': 29}\n",
      "ĠSpur {'ĠFrieza': 32, 'ĠJolly': 32, 'ĠJamie': 29, 'ĠRandy': 29, 'ĠClint': 29, 'ĠSergio': 29}\n",
      "Chicken {'Ġsquee': 32, 'ĠLAR': 31, 'ĠWarlock': 31, 'ĠYPG': 31, 'ĠShard': 29, 'Ġsyll': 29}\n",
      "ĠScarlett {'ĠFeldman': 31, 'ĠXuan': 31, 'ĠGohan': 30, 'ĠTrey': 30, 'ĠWillow': 30, 'ĠLash': 29}\n",
      "Ġdelicious {'ĠRandall': 31, 'ĠRyder': 30, 'ĠUriel': 30, 'ĠWheeler': 30, 'Ġfireball': 30, 'ĠGoddard': 29}\n",
      "Ã¯ve {'ĠYorker': 31, 'ĠEdmonton': 30, 'ĠMechanics': 30, 'ĠCooperative': 30, 'ĠYamaha': 30, 'ĠBahrain': 29}\n",
      "Ġmainline {'ĠSlovenia': 32, 'ĠSloven': 31, 'ĠSkype': 31, 'Ġtortured': 30, 'ĠZerg': 30, 'ĠGalileo': 29}\n",
      "usional {'ĠChambers': 32, 'Ġfacets': 31, 'ĠSlack': 31, 'Ġtotality': 30, 'Ġheartbeat': 29, 'Ġmetaphor': 29}\n",
      "Ġprototype {'ĠShant': 34, 'ĠLongh': 32, 'Ġbilingual': 31, 'ĠEverest': 30, 'ĠCrusher': 29, 'ĠLeigh': 28}\n",
      "ĠSaban {'ĠFeldman': 32, 'Ġmosa': 32, 'Ġmosaic': 32, 'HCR': 32, 'ĠLegions': 29, 'Ġ960': 28}\n",
      "olitan {'Ġfilibuster': 32, 'ĠWii': 31, 'Ġdodged': 30, 'Ġfilib': 30, 'Ġkale': 29, 'Ġdodging': 29}\n",
      "erenn {'ĠHoover': 32, 'ĠVanderbilt': 30, 'Ġflanked': 30, 'Ġcooper': 30, 'ĠiCloud': 29, 'Ġfilibuster': 29}\n",
      "ĠCONTIN {'ĠLash': 31, 'ĠBashar': 31, 'Ġdisparity': 30, 'Ġstewards': 30, 'Ġroommate': 30, 'Ġdisparities': 29}\n",
      "ĠMassive {'ĠBolivia': 32, 'ĠTempest': 31, 'ĠFowler': 30, 'ĠWillow': 30, 'ĠHolt': 30, 'ĠJarrett': 29}\n",
      "Ġwhopping {'ĠCanary': 32, 'ĠQuint': 31, 'ĠVisa': 30, 'Ġbilingual': 30, 'ĠWarlock': 29, 'Ġris': 29}\n",
      "Minecraft {'ĠGalileo': 37, 'ĠSasuke': 30, 'Ġbroccoli': 29, 'ĠShattered': 29, 'ĠSemi': 29, 'ĠShelley': 29}\n",
      "ĠGins {'ĠTempest': 31, 'ĠValiant': 31, 'ĠRampage': 30, 'ĠLockheed': 30, 'ĠFrieza': 30, 'ĠAmtrak': 29}\n",
      "Ġbitcoin {'ĠLegions': 34, 'ĠCarnage': 33, 'ĠFeldman': 31, 'ĠMasquerade': 29, 'ĠScion': 28, 'ĠWarlock': 28}\n",
      "ĠQaeda {'Ġsquee': 30, 'Ġplutonium': 30, 'Ġpessim': 30, 'Ġoptimism': 30, 'Ġmarquee': 29, 'Ġblacklist': 29}\n",
      "Ġoutcry {'Ġpessim': 32, 'ĠKirin': 32, 'ĠWelch': 31, 'ĠHoover': 30, 'ĠPhillips': 29, 'ĠGarry': 28}\n",
      "oxin {'ĠMoonlight': 32, 'Ġtotality': 32, 'ĠLunar': 30, 'ĠReloaded': 29, 'ĠCarnage': 29, 'Ġsemifinals': 29}\n",
      "MR {'Ġbuffet': 31, 'ĠTsukuyomi': 30, 'ĠShant': 30, 'ĠLivingston': 30, 'ĠZerg': 30, 'ĠShattered': 29}\n",
      "tx {'ĠFeldman': 32, 'ĠCarnage': 31, 'ĠWarlock': 30, 'ĠMaxim': 30, 'Ġsquee': 30, 'ĠSwordsman': 29}\n",
      "ĠIoT {'ĠShant': 31, 'ĠLoren': 30, 'ĠSpock': 30, 'ĠRandall': 30, 'ĠCarnage': 29, 'Ġlounge': 29}\n",
      "Ġlimestone {'ĠWarlock': 34, 'ĠShant': 31, 'ĠAlchemist': 30, 'Ġorphans': 30, 'Ġwhis': 30, 'Ġbullies': 28}\n",
      "lyss {'Ġ2600': 32, 'Ġ2400': 32, 'Ġ780': 31, 'Ġ1500': 29, 'Ġ960': 29, 'Ġ1700': 29}\n",
      "ĠEthiopian {'Ġlounge': 33, 'Ġmountainous': 31, 'Ġladies': 31, 'ĠSpears': 30, 'ĠLadies': 29, 'Ġvigilant': 29}\n",
      "Ġpermissible {'ĠLoft': 31, 'ĠLash': 30, 'ĠWarlock': 30, 'ĠTempest': 30, 'Ġsidebar': 30, 'ĠRhodes': 29}\n",
      "ĠSantorum {'Ġsimul': 34, 'ĠTyphoon': 31, 'Ġfireball': 30, 'Ġstewards': 29, 'ĠKling': 29, 'Ġcac': 29}\n",
      "Palestinian {'Ġfireball': 32, 'Ġblessings': 30, 'Ġstewards': 30, 'Ġwhistle': 30, 'Ġchuckled': 29, 'Ġcartels': 29}\n",
      "ulet {'ĠWednesday': 31, 'Ġgorilla': 30, 'ĠZerg': 30, 'uania': 29, 'ĠZig': 29, 'ĠSlovenia': 29}\n",
      "ĠImmunity {'ĠHoover': 31, 'ĠGHC': 31, 'ĠZig': 31, 'ĠLimbaugh': 30, 'ĠWarlock': 30, 'ĠMahjong': 29}\n",
      "ĠLibre {'Ġ\"âĢ¦': 32, 'Ġ980': 31, 'Ġ2048': 30, 'Ġ395': 29, 'Ġ960': 29, 'ĠMcKay': 29}\n",
      "ĠBur {'ĠJaune': 33, 'ĠWarlock': 31, 'ĠLegions': 30, 'ĠKirin': 30, 'ĠRampage': 29, 'ĠKessler': 29}\n",
      "serial {'Ġbilingual': 32, 'Ġtwitch': 31, 'Ġcompuls': 30, 'ĠHoover': 29, 'Ġpassionately': 29, 'Ġgrossly': 29}\n",
      "irgin {'ĠMidwest': 32, 'ĠHispanics': 31, 'Ġmillennials': 31, 'ĠMelanie': 29, 'Ġbilingual': 29, 'ĠLatinos': 29}\n",
      "Ġjihadists {'Ġoverlay': 31, 'Ġgall': 30, 'Ġsquee': 30, 'Ġoverlapping': 30, 'Ġrunoff': 30, 'Ġoverlap': 29}\n",
      "qus {'Ġempath': 32, 'Ġsquee': 31, 'Ġmindfulness': 31, 'ĠShattered': 30, 'Ġsuperheroes': 29, 'Ġdisingen': 29}\n",
      "ĠSupplement {'ĠLash': 34, 'ĠZig': 33, 'ĠKlein': 30, 'ĠHeather': 29, 'ĠBashar': 29, 'ĠLivingston': 28}\n",
      "Ġcertific {'ĠFeldman': 33, 'ĠLords': 31, 'ĠGSL': 30, 'ĠUriel': 29, 'ĠKlein': 29, 'ĠKling': 29}\n",
      "Ġlimitless {'ĠSnapchat': 31, 'ĠNorthwestern': 30, 'Ġwetlands': 30, 'ĠLatvia': 30, 'ĠPanthers': 29, 'ĠPackers': 29}\n",
      "ĠDebor {'Ġhig': 32, 'ĠTempest': 32, 'ĠLegions': 30, 'Ġbilingual': 29, 'Ġlump': 29, 'Ġglyphosate': 29}\n",
      "Ġsecession {'ĠGrimm': 33, 'ĠTsukuyomi': 31, 'ĠMahjong': 30, 'ĠLash': 29, 'ĠCarnage': 29, 'ĠKling': 29}\n",
      "Ġretrospective {'ĠLash': 36, 'ĠWelch': 31, 'ĠGarry': 30, 'ĠShim': 29, 'ĠClint': 28, 'ĠFloyd': 28}\n",
      "Ġsynagogue {'Ġcompuls': 31, 'Ġovershadowed': 30, 'Ġharassed': 30, 'Ġsquee': 30, 'Ġdwind': 29, 'Ġvigilant': 29}\n",
      "Tokens {'ĠCarnage': 32, 'ĠiCloud': 31, 'ĠHoover': 30, 'ĠHolocaust': 30, 'Ġmosaic': 29, 'ĠGamergate': 29}\n",
      "Ġperenn {'Ġcompuls': 32, 'ĠGSL': 32, 'Ġbilingual': 31, 'Ġflanked': 31, 'ĠOCD': 30, 'ĠESL': 28}\n",
      "ultan {'Ġsquee': 33, 'ĠFeldman': 31, 'Ġbuffet': 30, 'ĠGSL': 30, 'Ġmeddling': 30, 'ĠCarnage': 29}\n",
      "olulu {'ĠCherokee': 32, 'Ġfireball': 32, 'ĠComet': 29, 'ĠTempest': 29, 'ĠTaliban': 29, 'ĠSting': 29}\n",
      "ĠYellowstone {'Ġdisparity': 32, 'Ġeyewitness': 31, 'Ġgoblin': 30, 'Ġpodcasts': 30, 'Ġsquirrel': 29, 'ĠKling': 29}\n",
      "Ġincite {'ĠBoeing': 33, 'Ġbuzz': 30, 'ĠLivingston': 30, 'ĠTsukuyomi': 30, 'ĠTyphoon': 29, 'Ġpandemonium': 29}\n",
      "Ġspinach {'Ġfallout': 30, 'ĠMIA': 30, 'Ġcrackdown': 30, 'ĠRumble': 30, 'ĠLimbaugh': 30, 'ĠHorde': 29}\n",
      "February {'Ġ2010': 32, 'Ġ2006': 32, 'Ġ2005': 31, 'Ġ2007': 30, 'Ġ2011': 29, 'Ġ2004': 28}\n",
      "monton {'ĠFeldman': 31, 'ĠBleach': 30, 'ĠNeander': 30, 'ĠBoeing': 30, 'Ġlounge': 29, 'Ġbullies': 29}\n",
      "Ġentire {'Ġceilings': 32, 'Ġstash': 30, 'Ġsmartphones': 30, 'ĠWarlock': 29, 'Ġsheep': 29, 'ĠSheep': 29}\n",
      "Ġunforeseen {'ĠLockheed': 32, 'Ġvocabulary': 30, 'ĠSchwarz': 30, 'ĠTrinity': 30, 'Ġhierarch': 29, 'ĠPortsmouth': 29}\n",
      "ĠGron {'ĠSpock': 30, 'ĠAlexis': 30, 'ĠSamantha': 30, 'ĠHarrington': 30, 'ĠYPG': 30, 'ĠMalik': 29}\n",
      "ĠScholarship {'ĠZig': 32, 'ĠLash': 31, 'ĠLynd': 30, 'ĠArmageddon': 29, 'ĠBrad': 29, 'ĠUriel': 29}\n",
      "ificent {'ĠLoft': 33, 'ĠKling': 32, 'ĠKlein': 30, 'Ġbursting': 30, 'Ġflora': 29, 'Ġtempor': 29}\n",
      "esan {'Ġharrowing': 31, 'Ġemphatically': 30, 'ĠRampage': 30, 'Ġunorthodox': 29, 'Ġexcerpt': 29, 'Ġdisparity': 29}\n",
      "Ġor {'Ġpolygamy': 33, 'Ġbilingual': 32, 'ĠShattered': 30, 'Ġvegetarian': 29, 'ĠWarlock': 29, 'Ġnightmares': 29}\n",
      "letico {'Ġmechanically': 30, 'Ġsmooth': 30, 'Ġmechan': 30, 'Ġcooper': 30, 'Ġsquee': 30, 'Ġgodd': 30}\n",
      "ĠFrancois {'ĠFeldman': 33, 'ĠPetraeus': 32, 'ĠAke': 31, 'ĠLabyrinth': 30, 'ĠYPG': 29, 'ĠSting': 28}\n",
      "Ġrenewable {'ĠZig': 33, 'ĠFeldman': 31, 'ĠCarnage': 30, 'ĠChambers': 30, 'ĠErie': 30, 'ĠWarlock': 29}\n",
      "Ġscreenplay {'ĠFeldman': 32, 'Ġgranddaughter': 31, 'Ġupstairs': 31, 'ĠShard': 30, 'ĠHume': 29, 'ĠKris': 29}\n",
      "Actually {'Ġroaring': 32, 'ĠLash': 31, 'Ġwhispers': 30, 'Ġwhisper': 30, 'Ġstewards': 29, 'Ġwhispering': 29}\n",
      "entary {'ĠDodd': 31, 'ĠChandra': 30, 'ĠZerg': 30, 'ĠProtoss': 30, 'ĠBangl': 30, 'ĠYamaha': 29}\n",
      "Ġinstallments {'Ġsquee': 32, 'ĠCarnage': 31, 'ĠBashar': 31, 'Ġ\"âĢ¦': 30, 'ĠGall': 29, 'Ġgasped': 29}\n",
      "sin {'Ġpassionately': 31, 'Ġnarcissistic': 31, 'Ġwillingly': 30, 'Ġcompost': 29, 'Ġecosystem': 29, 'Ġharassed': 29}\n",
      "Ġcopyrighted {'Ġstewards': 30, 'Ġfirsthand': 30, 'Ġfireball': 30, 'Ġwink': 29, 'Ġ0004': 29, 'ĠLash': 29}\n",
      "ĠIndianapolis {'ĠRosenstein': 32, 'Ġrunoff': 31, 'ĠFeldman': 30, 'ĠPlayboy': 30, 'Ġfallout': 29, 'ĠShowtime': 29}\n",
      "Ġblackmail {'ĠSloan': 30, 'Ġquint': 30, 'ĠGarrett': 30, 'ĠChandra': 30, 'ĠRazer': 29, 'ĠCousins': 29}\n",
      "Ġchapel {'Ġdexter': 30, 'ĠFeng': 30, 'ĠScully': 30, 'ĠOblivion': 29, 'Ġpessim': 29, 'ĠXCOM': 29}\n",
      "ĠOttoman {'Ġvigilant': 30, 'ĠKris': 30, 'ĠTosh': 30, 'Ġwoo': 30, 'ĠGrimm': 30, 'ĠBravo': 29}\n",
      "loads {'Ġemphatically': 33, 'ĠHoover': 31, 'ĠChevron': 30, 'Ġbilingual': 29, 'ĠMaxim': 29, 'Ġsquee': 29}\n",
      "sv {'Ġ[+': 32, 'ĠMoonlight': 31, 'Ġflashbacks': 30, 'Ġ0004': 29, 'Ġbilingual': 29, 'Ġnightmares': 29}\n",
      "Ġcostumes {'ĠSears': 31, 'ĠLynd': 31, 'ĠSloan': 31, 'ĠFrieza': 30, 'ĠShard': 30, 'ĠBaylor': 29}\n",
      "Effective {'ĠLegions': 31, 'ĠKush': 30, 'ĠHoover': 30, 'ĠMaul': 29, 'Ġswoop': 29, 'Ġlandsl': 29}\n",
      "Ġwildfires {'ĠFeldman': 30, 'ĠDeluxe': 30, 'ĠChambers': 30, 'Ġchuckled': 30, 'Ġroaring': 29, 'Ġmosaic': 29}\n",
      "Ġappellate {'ĠLash': 33, 'Ġoffspring': 32, 'Ġenclave': 29, 'Ġdwellings': 29, 'ĠWarlock': 29, 'ĠHull': 29}\n",
      "arten {'Ġsquee': 33, 'Ġkale': 31, 'ĠSneak': 30, 'ĠZerg': 29, 'ĠCLSID': 29, 'ĠUSC': 29}\n",
      "ĠStay {'ĠHispanics': 32, 'ĠTyphoon': 31, 'ĠZerg': 30, 'ĠMahjong': 30, 'ĠCorey': 29, 'ĠEstonia': 29}\n",
      "Bur {'ĠKessler': 31, 'ĠWarlock': 31, 'ĠCamden': 30, 'ĠJaune': 30, 'ĠLegions': 28, 'ĠHoover': 28}\n",
      "Ġneocons {'Ġdisparity': 33, 'Ġrunoff': 30, 'ĠRampage': 30, 'Ġscoff': 29, 'Ġdisparities': 29, 'Ġfodder': 29}\n",
      "borgh {'ĠLithuania': 31, 'ĠBulgar': 31, 'ĠBronx': 30, 'ĠTibetan': 30, 'ĠLivingston': 29, 'ĠKling': 29}\n",
      "ĠTreasurer {'ĠLivingston': 31, 'ĠMagnus': 30, 'ĠHoover': 29, 'ĠPDT': 29, 'ĠLambert': 29, 'ĠMeier': 29}\n",
      "Ġtraumatic {'ĠLegions': 31, 'ĠAlphabet': 30, 'ĠEchoes': 30, 'ĠIvory': 30, 'Ġsidebar': 29, 'ĠElephant': 29}\n",
      "ĠRohing {'ĠGauntlet': 31, 'ĠTempest': 30, 'Ġtaunt': 30, 'ĠGarr': 29, 'ĠBalt': 29, 'ĠTyphoon': 29}\n",
      "rust {'Ġstewards': 31, 'Ġbilingual': 30, 'Ġunim': 30, 'Ġdubious': 30, 'Ġchimpanzees': 29, 'Ġmultim': 29}\n",
      "ĠXiaomi {'ĠKahn': 31, 'ĠGohan': 30, 'ĠDalai': 30, 'ĠHulk': 29, 'ĠKlein': 29, 'Ġhob': 29}\n",
      "aghd {'Ġbroccoli': 32, 'Ġfodder': 31, 'ĠFiji': 30, 'ĠCarnage': 30, 'Ġchimpanzees': 29, 'ĠKimberly': 28}\n",
      "ĠGhostbusters {'Ġ0004': 33, 'ĠYamato': 31, 'Ġ7000': 30, 'ĠShard': 30, 'Ġ10000': 29, 'ĠBrigham': 29}\n",
      "Hispanic {'Ġstewards': 33, 'ĠBrigham': 32, 'ĠFANTASY': 30, 'ĠLegions': 29, 'ĠLoren': 29, 'ĠBowling': 28}\n",
      "ĠSpoon {'ĠHighlands': 33, 'ĠGohan': 30, 'ĠJaune': 30, 'ĠBashar': 29, 'ĠLabyrinth': 29, 'ĠLegions': 29}\n",
      "Ġstarve {'ĠClippers': 31, 'ĠGiuliani': 30, 'ĠGillespie': 30, 'ĠHilton': 29, 'ĠHume': 29, 'ĠCambodia': 29}\n",
      "Ġinstantaneous {'Ġcrackdown': 32, 'ĠLockheed': 32, 'Ġbuffs': 30, 'ĠNuggets': 29, 'Ġshards': 29, 'ĠDropbox': 29}\n",
      "thora {'Ġgrinning': 32, 'Ġtrim': 31, 'ĠMuller': 30, 'ĠShim': 30, 'Ġsquee': 30, 'Ġchant': 29}\n",
      "urban {'Ġharassed': 34, 'ĠSheep': 30, 'Ġsheep': 30, 'Ġharassment': 29, 'Ġharassing': 29, 'xiety': 29}\n",
      "ĠTownship {'Ġ1500': 31, 'Ġchuckled': 30, 'Ġ2500': 30, 'Ġ5000': 29, 'Ġ1600': 29, 'laughs': 29}\n",
      "Ġprolific {'ĠWink': 31, 'ĠLakers': 30, 'Ġwink': 29, 'ĠCanary': 29, 'ĠElm': 29, 'ĠGree': 29}\n",
      "ĠAntiqu {'ĠRosenstein': 35, '956': 30, 'Ġ950': 29, 'ĠRNC': 29, 'Ġ960': 29, 'ĠFowler': 29}\n",
      "ĠDunham {'ĠShard': 32, 'Ġstewards': 29, 'ĠGuang': 29, 'Ġwhisper': 29, 'ĠPebble': 29, 'ĠScythe': 29}\n",
      "older {'Ġfearful': 32, 'Ġmidfield': 30, 'Ġbilingual': 30, 'Ġfortnight': 30, 'Ġbilateral': 29, 'Ġbearded': 29}\n",
      "Ġadvertisements {'ĠLash': 34, 'ĠLeigh': 30, 'ĠFeldman': 30, 'ĠKushner': 29, 'ĠCarnage': 29, 'ĠHulk': 29}\n",
      "Ġvenom {'ĠDeluxe': 31, 'Ġbilingual': 31, 'ĠLivingston': 30, 'ĠMIA': 30, 'ĠLockheed': 29, 'ĠMahjong': 29}\n",
      "ĠNormandy {'Ġunim': 31, 'ĠCanter': 31, 'ĠGuang': 31, 'ĠRohing': 29, 'ĠWelch': 29, 'ĠSlay': 29}\n",
      "ĠVader {'ĠYPG': 32, 'ĠMcCull': 32, 'Ġcompuls': 31, 'Ġsquee': 29, 'Ġmosaic': 29, 'Ġshimmer': 29}\n",
      "worms {'ĠGSL': 35, 'Ġsquee': 30, 'ĠMaxim': 29, '-[': 29, 'Ġcooper': 29, 'ĠMcGregor': 29}\n",
      "Ġcruising {'ĠDalai': 31, 'ĠBashar': 30, 'Ġmosa': 30, 'ĠLia': 29, 'ĠMississ': 29, 'ĠFern': 29}\n",
      "ĠNieto {'ĠGall': 34, 'Ġgall': 31, 'Gall': 31, 'ĠDalai': 30, 'Ġlounge': 28, 'Ġecological': 28}\n",
      "ĠOttawa {'ĠFeldman': 37, 'ĠKlein': 32, 'ĠGoo': 31, 'Ġ0004': 30, 'ĠGaia': 28, 'Ġsquee': 28}\n",
      "Ġcannibal {'ĠLoft': 31, 'ĠRampage': 30, 'Ġoutburst': 30, 'ĠRhino': 30, 'ĠLever': 30, 'Ġrampage': 29}\n",
      "Ġmassively {'Ġhijacked': 30, 'Ġrestraints': 30, 'Ġcrackdown': 29, 'ĠEnhancement': 29, 'ĠWheeler': 29, 'Ġflashbacks': 29}\n",
      "FontSize {'ĠGrimm': 31, 'ĠYoshi': 31, 'Ġsquee': 31, 'ĠBohem': 30, 'ĠKlein': 29, 'Ġtempor': 29}\n",
      "aign {'ĠHearthstone': 32, 'ĠDropbox': 30, 'Ġcollateral': 30, 'ĠHeidi': 30, 'ĠNetflix': 30, 'ĠBrookings': 29}\n",
      "Ġnurture {'Ġbreeze': 31, 'ĠPicard': 30, 'ĠChambers': 30, 'ĠLever': 29, 'Ġfacet': 29, 'ĠSchwarz': 29}\n",
      "ĠPinball {'ĠBarry': 32, 'ĠRyder': 30, 'ĠWarlock': 30, 'ĠAlchemist': 30, 'ĠHoover': 29, 'ĠLyon': 29}\n",
      "ĠCuban {'?!\"': 33, 'ĠOro': 30, 'Ġ4090': 30, 'ĠLegions': 30, 'ĠElise': 28, '\".[': 28}\n",
      "Ġcharcoal {'Ġstewards': 33, 'Ġroommate': 31, 'Ġstorytelling': 30, 'Ġroaring': 29, 'Ġburglary': 29, 'Ġlounge': 29}\n",
      "oenix {'ĠSting': 32, 'Ġlounge': 31, 'ĠFreed': 29, 'ĠLoft': 29, 'Ġwor': 29, 'Ġslug': 29}\n",
      "ĠDirty {'ĠWarlock': 32, 'ĠChambers': 31, 'ĠMarines': 30, 'ĠSears': 29, 'ĠSpears': 29, 'Ġmarines': 28}\n",
      "ĠAncient {'ĠRosenstein': 31, 'ĠGarry': 30, 'ĠPaddock': 29, 'ĠZhao': 29, 'ĠHorde': 29, 'ĠRove': 29}\n",
      "ĠCanaver {'ĠYPG': 34, 'ĠXCOM': 31, 'ĠGSL': 31, 'Ġsemifinals': 29, 'ĠGauntlet': 28, 'Ġcompuls': 28}\n",
      "Ġonward {'ĠHolt': 31, 'ĠLars': 30, 'ĠCarnage': 30, 'ĠAlexis': 29, 'ĠBarry': 29, 'ĠPyrrha': 29}\n",
      "Ġguideline {'ĠBoeing': 33, 'ĠQualcomm': 29, 'ĠFrieza': 29, 'ĠEstonia': 29, 'ĠZerg': 29, 'ĠSurvivor': 29}\n",
      "ĠSunshine {'ĠWCS': 31, 'ĠWarlock': 29, 'ĠAsus': 29, 'ĠHegel': 29, 'ĠTrey': 29, 'ĠErica': 29}\n",
      "steen {'Ġbilingual': 34, 'Ġfurry': 30, 'Ġcipher': 29, 'ĠResidential': 29, 'Ġhumid': 29, 'Ġhierarch': 29}\n",
      "Ġrecursive {'ĠLash': 32, 'ĠWelch': 32, 'ĠShard': 30, 'ĠChambers': 29, 'ĠLoft': 29, 'ĠMeh': 28}\n",
      "Ġstarving {'ĠHilton': 31, 'ĠNeptune': 30, 'ĠCurtis': 30, 'ĠMeng': 29, 'ĠClippers': 29, 'ĠHegel': 29}\n",
      "contin {'Ġdisparity': 31, 'ĠSplash': 30, 'Ġstewards': 30, 'Ġelephant': 29, 'Ġopio': 29, 'ĠHoover': 29}\n",
      "amaz {'Ġdexter': 30, 'ĠDoodle': 30, 'ĠClyde': 30, 'ĠDrake': 29, 'ĠVulkan': 29, 'ĠSubaru': 29}\n",
      "ĠSpiral {'ĠLords': 30, 'ĠMori': 30, 'ĠLloyd': 30, 'ĠWesley': 29, 'Ġstewards': 29, 'ĠKlingon': 29}\n",
      "Ġforth {'Ġplutonium': 32, 'ĠLambert': 32, 'ĠWiggins': 31, 'ĠKimberly': 29, 'Ġbuffs': 28, 'ĠPhilips': 28}\n",
      "asion {'ĠHoover': 31, 'ĠGSL': 31, 'ĠTosh': 31, 'Ġsquee': 29, 'ĠLoft': 29, 'ĠMoonlight': 28}\n",
      "Ġderail {'ĠGuang': 31, 'ĠLindsay': 30, 'ĠiCloud': 29, 'ĠQian': 29, 'ĠHoover': 29, 'ĠSass': 29}\n",
      "ĠSetTextColor {'ĠPhen': 32, 'Ġpokemon': 30, 'ĠZig': 30, 'ĠShen': 29, 'ĠGSL': 29, 'Ġhob': 29}\n",
      "Ġwarships {'Ġunchecked': 31, 'ĠSkype': 30, 'Ġwhistle': 29, 'Ġtampering': 29, 'Ġjealousy': 29, 'ĠTempest': 29}\n",
      "Ġja {'Ġbitterness': 30, 'ĠLancaster': 30, 'ĠKubrick': 30, 'ĠLindsay': 29, 'Ġchuckled': 29, 'ĠTyphoon': 29}\n",
      "cott {'ĠHearthstone': 33, 'ĠKira': 30, 'ĠGoff': 29, 'ĠLivingston': 29, 'ĠOlympia': 29, 'ĠTsukuyomi': 29}\n",
      "Ġperennial {'Ġstewards': 31, 'Ġfilibuster': 30, 'Ġshy': 30, 'Ġhooks': 30, 'Ġhooked': 29, 'Ġfeds': 29}\n",
      "ĠReb {'ĠLegions': 31, 'Ġstewards': 30, 'ĠWarlock': 30, 'ĠKirin': 30, 'ĠTyphoon': 29, 'Ġsemifinals': 28}\n",
      "terrorism {'ĠDeluxe': 31, 'Ġmosaic': 31, 'Ġunchecked': 30, 'Ġdele': 30, 'Ġsquee': 30, 'Ġfrontline': 29}\n",
      "Ġbudding {'ĠLivingston': 32, 'ĠWarlock': 30, 'ĠLevant': 29, 'ĠShard': 29, 'ĠKelvin': 29, 'ĠTempest': 29}\n",
      "ĠCabin {'ĠMiko': 30, 'ĠYamato': 30, 'ĠRohing': 29, 'ĠKira': 29, 'Ġ0004': 29, 'ĠPeng': 29}\n",
      "Ġoutright {'ĠShattered': 32, 'Ġmorphed': 30, 'ĠDustin': 30, 'Ġvaping': 29, 'Ġsarcast': 29, 'ĠSnapchat': 29}\n",
      "htar {'Ġ2024': 32, 'Ġ525': 30, 'Ġ2500': 30, 'Ġ2400': 29, 'Ġ175': 29, 'Ġ2048': 29}\n",
      "ĠJuice {'Ġfireball': 30, 'Ġgreenhouse': 30, 'ĠDalai': 29, 'Ġpersecut': 29, 'ĠOber': 29, 'ĠLaurent': 29}\n",
      "ilitary {'ĠPortsmouth': 32, 'ĠPittsburgh': 30, 'Ġhalfway': 30, 'ĠEdmonton': 29, 'Ġhalftime': 29, 'ĠBaylor': 29}\n",
      "ĠHilbert {'ĠWarlock': 31, 'Ġsleeves': 30, 'ĠWCS': 29, 'ĠZot': 29, 'ĠSting': 29, 'Ġlumber': 29}\n",
      "grown {'ĠClippers': 31, 'ĠiCloud': 30, 'ĠLadies': 30, 'ĠLegions': 29, 'Ġladies': 29, 'Ġbilingual': 29}\n",
      "ĠRosen {'ĠCanucks': 31, 'ĠFeldman': 30, 'ĠOblivion': 30, 'Ġhandcuffs': 30, 'ĠYPG': 29, 'Ġfilibuster': 29}\n",
      "ĠGrail {'Ġstandoff': 31, 'Ġ448': 30, 'Ġ525': 29, 'Ġ413': 29, 'Ġ15': 29, 'Ġ365': 29}\n",
      "Christmas {'ĠSears': 31, 'ĠWarlock': 30, 'ĠZerg': 30, 'ĠKris': 29, 'ĠGohan': 29, 'ĠSneak': 29}\n",
      "veland {'ĠPeng': 30, 'Ġ4000': 30, 'ĠMoonlight': 30, 'Ġ7000': 29, 'Ġ10000': 29, 'Ġ2500': 29}\n",
      "ĠFirefly {'Ġlandsl': 33, 'Ġadvant': 32, 'Ġlounge': 30, 'Ġsyll': 29, 'Ġdisadvant': 28, 'ĠGSL': 28}\n",
      "ĠHannity {'Ġrecol': 31, 'Ġsyll': 31, 'Ġsquee': 30, 'ĠDeluxe': 30, 'Ġstereotypes': 29, 'Ġtactile': 29}\n",
      "ĠShinji {'ĠGillespie': 32, 'Ġclen': 31, 'ĠBalt': 31, 'Ġneighb': 30, 'Ġbearded': 29, 'Ġagg': 28}\n",
      "Ġdelusional {'Ġmetaphor': 31, 'Ġstewards': 31, 'Ġcoerced': 30, 'Ġhierarch': 29, 'Ġhegemony': 29, 'Ġconscientious': 28}\n",
      "Ġsalient {'ĠLivingston': 31, 'ĠFeldman': 30, 'Ġtrivia': 30, 'Ġrecol': 29, 'ĠSlovenia': 29, 'ĠMehran': 29}\n",
      "bb {'ĠShattered': 31, 'ĠLivingston': 30, 'ĠWarlock': 30, 'Ġsquee': 30, 'ĠTyphoon': 29, 'ĠHume': 28}\n"
     ]
    },
    {
     "name": "stdout",
     "output_type": "stream",
     "text": [
      "ĠRusty {'ĠWarlock': 30, 'Ġbarr': 30, 'ĠKis': 30, 'ĠLash': 29, 'ĠChambers': 29, 'Ġhob': 29}\n",
      "inness {'Ġstewards': 34, 'ĠPreview': 32, 'ĠSears': 32, 'ĠTyphoon': 28, 'Ġmockery': 28, 'Ġdisparity': 28}\n",
      "ĠGrayson {'ĠTempest': 31, 'ĠNeander': 30, 'ĠHulk': 30, 'ĠMead': 29, 'ĠLeban': 29, 'ĠFeldman': 29}\n",
      "ĠVeronica {'ĠLash': 34, 'ĠFrieza': 29, 'ĠDalai': 29, 'ĠHolt': 29, 'ĠGamergate': 28, 'ĠXue': 28}\n",
      "ĠMountain {'Ġ7000': 32, 'Ġ9000': 31, 'ĠHughes': 29, 'ĠSnapchat': 29, 'ĠSkype': 29, 'Ġ1700': 29}\n",
      "abba {'Ġsquee': 31, 'ĠZerg': 30, 'Ġsandbox': 30, 'Ġchuckled': 30, 'ĠTyphoon': 29, 'Ġplutonium': 28}\n",
      "ĠDou {'ĠPortsmouth': 31, 'ĠMcGregor': 30, 'ĠTempest': 29, 'ĠPearce': 29, 'ĠFukushima': 29, 'ĠWellington': 29}\n",
      "ĠNaked {'ĠYPG': 32, 'ĠHorde': 32, 'ĠHuffPost': 31, 'ĠForbes': 29, 'Ġfilibuster': 29, 'ĠYiannopoulos': 28}\n",
      "ĠHidden {'ĠWarlock': 31, 'ĠRamsay': 31, 'ĠLindsay': 30, 'ĠHolt': 29, 'ĠBaird': 29, 'Ġ\"âĢ¦': 28}\n",
      "ĠRational {'Ġstewards': 35, 'ĠWarlock': 31, 'Ġcompuls': 29, 'Ġhavoc': 29, 'Ġshenanigans': 28, 'ĠArchangel': 28}\n",
      "entin {'Ġroommate': 30, 'ĠHearthstone': 29, 'Ġ2048': 29, 'ĠGSL': 29, 'Ġmidrange': 29, 'ĠHoover': 29}\n",
      "Ġbou {'ĠLloyd': 32, 'ĠDartmouth': 30, 'ĠWarlock': 30, 'ĠDalai': 30, 'ĠRiverside': 29, 'ĠBrookings': 29}\n",
      "Ġgown {'ĠClippers': 32, 'ĠNemesis': 30, 'ĠLivingston': 30, 'ĠMIA': 29, 'ĠPanasonic': 29, 'ĠOnePlus': 28}\n",
      "Ġgrassroots {'ĠWarlock': 31, 'Ġstewards': 31, 'ĠRemastered': 29, 'ĠGOODMAN': 29, 'ĠSears': 29, 'Ġmechanically': 29}\n",
      "ulum {'Ġoverweight': 32, 'Ġsquee': 31, 'Ġfirmware': 29, 'Ġstewards': 29, 'Ġbilingual': 29, 'Ġharassed': 29}\n",
      "ĠMarketable {'ĠFeld': 31, 'ĠHume': 31, 'ĠSparks': 30, 'ĠZig': 29, 'ĠLambert': 29, 'Ġflora': 29}\n",
      "Ġencompass {'Ġkale': 33, 'ĠGlock': 30, 'Ġdisparity': 29, 'ĠGSL': 29, 'Ġdolphins': 29, 'ĠChambers': 28}\n",
      "Ġshallow {'ĠLounge': 31, 'Ġkilograms': 30, 'ĠWarlock': 29, 'Ġkilometers': 29, 'ĠYorker': 29, 'Ġgoblins': 29}\n",
      "Ġcircadian {'Ġcoerced': 32, 'Ġlounge': 32, 'Ġstewards': 32, 'Ġbandwidth': 28, 'Ġcompuls': 28, 'Ġlooms': 28}\n",
      "ĠAshe {'Ġ1700': 32, 'Ġ2400': 30, 'Ġ1500': 30, 'Ġ0004': 29, 'Ġ1600': 29, 'Ġ1100': 28}\n",
      "Ġterrorists {'Ġmosaic': 33, 'Ġoverlay': 30, 'Ġlame': 30, 'ĠDoodle': 29, 'Ġsquee': 29, 'Ġunchecked': 28}\n",
      "ĠNanto {'ĠGSL': 31, 'Ġfireball': 30, 'Ġwebcam': 30, 'ĠGarfield': 29, 'ĠYPG': 29, 'ĠTyphoon': 29}\n",
      "Ġbombings {'ĠDartmouth': 32, 'ĠGillespie': 32, 'ĠGoddard': 31, 'ĠGSL': 29, 'ĠLerner': 28, 'ĠBravo': 28}\n",
      "ĠLauren {'ĠGohan': 30, 'ĠHRC': 30, 'ĠOswald': 30, 'ĠDruid': 29, 'ĠWatson': 29, 'ĠShard': 29}\n",
      "ĠGreenland {'Ġ0004': 32, 'Ġunim': 30, 'Ġ2400': 30, 'ĠJaguars': 29, 'ĠSith': 29, 'Ġ1200': 28}\n",
      "ĠIslands {'Ġ1500': 33, 'ĠMahjong': 31, 'Ġ2400': 31, 'Ġ2500': 29, 'Ġ570': 28, '1600': 28}\n",
      "Ġlasting {'Ġ2400': 32, 'ĠFridays': 32, 'Ġ2500': 30, 'Ġ0004': 29, 'Ġ1600': 28, 'Ġ570': 28}\n",
      "ĠHeist {'ĠBravo': 30, 'ĠDuo': 30, 'Ġgodd': 30, 'Ġcompuls': 30, 'ĠShard': 30, 'ĠBene': 29}\n",
      "Detailed {'ĠArchangel': 32, 'ĠGentleman': 29, 'ĠUSAF': 29, 'Ġgrandson': 29, 'ĠReincarnated': 29, 'Ġgentleman': 29}\n",
      "ĠTampa {'ĠCarnage': 33, 'ĠLimbaugh': 30, 'ĠPaddock': 29, 'ĠWeir': 29, 'ĠTsarnaev': 29, 'ĠEllison': 29}\n",
      "Ġsubsidies {'ĠHeather': 31, 'ĠMonday': 30, 'ĠGaia': 30, 'Ġrecol': 29, 'Ġmosaic': 29, 'Ġfem': 29}\n",
      "Ġtaxp {'Ġcrossover': 31, 'Ġwording': 29, 'ĠBrawl': 29, 'ĠJolly': 29, 'ĠClicker': 29, 'Ġsandwic': 29}\n",
      "ĠErit {'Ġstewards': 31, 'Ġvigilant': 30, 'Ġbolst': 30, 'Ġlounge': 29, 'ĠRampage': 29, 'ĠTempest': 28}\n",
      "Reb {'Ġsquee': 33, 'ĠGSL': 30, 'Ġbilingual': 29, 'Ġsponge': 29, 'Ġlounge': 29, 'ĠLuna': 28}\n",
      "ĠEternal {'ĠLockheed': 31, 'ĠGarry': 30, 'ĠTammy': 30, 'ĠKling': 29, 'ĠGrimes': 29, 'ĠLyndon': 29}\n",
      "Ġsentient {'ĠLash': 34, 'ĠShard': 31, 'ĠClan': 30, 'ĠRhodes': 29, 'ĠBowling': 29, 'ĠMiko': 28}\n",
      "ĠKurdish {'Ġstewards': 35, 'Ġlounge': 31, 'ĠSpirit': 29, 'Ġbreeze': 28, 'Ġdestroyer': 28, 'ĠWarlock': 28}\n",
      "Ġmouse {'Ġbilingual': 33, 'ĠTsukuyomi': 30, 'ĠWarlock': 30, 'ĠErie': 29, 'ĠClippers': 29, 'Ġsemifinals': 29}\n",
      "Ġmunicipality {'Ġsquee': 32, 'ĠFeng': 30, 'ĠLoft': 30, 'ĠWeiss': 30, 'Ġkale': 29, 'ĠZig': 28}\n",
      "Ġreap {'ĠLoft': 31, 'ĠBlitz': 30, 'Ġfireball': 29, 'Ġstewards': 29, 'ĠArmageddon': 29, 'Ġpessim': 29}\n",
      "Ġhither {'Ġflanked': 32, 'Ġbarbaric': 31, 'Ġsandwic': 29, 'Ġunilaterally': 29, 'Ġunconventional': 29, 'Ġnicknamed': 28}\n",
      "ĠGuantanamo {'ĠLegions': 30, 'ĠBung': 30, 'Ġ0004': 29, 'Ġhilar': 29, 'Ġhegemony': 29, 'ĠWarlock': 29}\n",
      "Ġaerial {'ĠCarnage': 31, 'ĠShard': 30, 'ĠLegions': 29, 'ĠRampage': 29, 'ĠHulk': 29, 'ĠQuadro': 29}\n",
      "Ġlang {'ĠScion': 33, 'Ġ\"âĢ¦': 30, 'ĠWarlock': 30, 'ĠBashar': 29, 'ĠOnePlus': 29, 'ĠHulk': 28}\n",
      "ĠMarketplace {'ĠHeather': 32, 'ĠGohan': 30, 'ĠTrey': 29, 'ĠPeng': 29, 'Ġgranddaughter': 29, 'ĠZig': 28}\n",
      "ĠTokens {'ĠHoover': 32, 'ĠLivingston': 30, 'ĠFeldman': 30, 'ĠCarnage': 29, 'ĠMaxim': 29, 'ĠYiannopoulos': 29}\n",
      "ĠOversight {'ĠGalileo': 30, 'Ġ0004': 30, 'ĠRhodes': 30, 'ĠChattanooga': 30, 'ĠFrenchman': 29, 'ĠMacDonald': 28}\n",
      "Ġmantle {'ĠSlate': 32, 'Ġ2100': 31, 'Ġsimul': 29, 'ĠOnePlus': 29, 'Ġ702': 28, 'Ġ0004': 28}\n",
      "ĠCOUR {'ĠLyon': 32, 'ĠFrieza': 31, 'ĠLivingston': 29, 'ĠOblivion': 29, 'ĠSparks': 29, 'ĠUriel': 28}\n",
      "ĠMoines {'Ġrunoff': 30, 'Ġlivestream': 30, 'ĠHearthstone': 30, 'Ġejected': 29, 'Ġdisparity': 29, 'Ġeject': 29}\n",
      "Ġinvincible {'ĠZig': 32, 'ĠLoft': 30, 'ĠHimal': 30, 'ĠNord': 29, 'Ġfireball': 29, 'ĠWindsor': 29}\n",
      "ello {'ĠZerg': 32, 'ĠHearthstone': 32, 'ĠGarry': 31, 'ĠWarlock': 30, 'ĠTobias': 28, 'ĠPanasonic': 28}\n",
      "inelli {'ĠSlovenia': 34, 'ĠLatvia': 34, 'Ġ0004': 28, 'ĠLithuania': 28, 'ĠHispanics': 28, 'ĠVancouver': 28}\n",
      "Ġtotal {'ĠHoover': 30, 'ĠHughes': 30, 'ĠNuggets': 29, 'ĠLindsay': 29, 'ĠLaurel': 29, 'Ġoverlay': 29}\n",
      "unicip {'Ġsquee': 34, 'Ġbree': 29, 'Ġspoiler': 29, 'ĠBlades': 29, 'ĠSussex': 28, 'ĠMIA': 28}\n",
      "ĠForgotten {'ĠHod': 30, 'ĠKlein': 30, 'ĠWarlock': 30, 'ĠLambert': 29, 'ĠFeldman': 29, 'ĠHume': 29}\n",
      "Ġtrustworthy {'ĠLegions': 30, 'ĠMedline': 30, 'ĠChambers': 30, 'ĠShim': 30, 'ĠMaxim': 29, 'ĠMalik': 29}\n",
      "ĠTsukuyomi {'Ġfireball': 32, 'ĠGSL': 31, 'ĠFeld': 30, 'ĠCalder': 29, 'ĠSpock': 28, 'ĠAmbro': 28}\n",
      "Traditional {'ĠICC': 30, 'ĠKis': 30, 'ĠKira': 29, 'ĠBleach': 29, 'Ġharassed': 29, 'ĠCherokee': 29}\n",
      "ĠTillerson {'ĠFeldman': 31, 'ĠRohing': 30, 'ĠMerch': 29, 'ĠMarsh': 29, 'ĠDodd': 29, 'ĠGarr': 29}\n",
      "amen {'ĠZerg': 31, 'ĠHoover': 31, 'ĠBowie': 30, 'ĠPanasonic': 30, 'ĠLatvia': 29, 'ĠMessi': 28}\n",
      "ĠOriginal {'ĠBashar': 30, 'ĠWarlock': 30, 'ĠBoeing': 30, 'Ġ\"âĢ¦': 30, 'ĠLori': 29, 'ĠHughes': 29}\n",
      "oral {'Ġintimidation': 31, 'Ġharassed': 30, 'Ġchimpan': 29, 'Ġpercussion': 29, 'Ġalarming': 29, 'Ġoverweight': 29}\n",
      "ĠInterstellar {'Ġturrets': 31, 'Ġrubble': 29, 'Ġstewards': 29, 'Ġturret': 29, 'Ġmosaic': 29, 'Ġmosa': 29}\n",
      "Ġhomemade {'ĠWarlock': 32, 'ĠZub': 30, 'ĠQuint': 29, 'ĠSlay': 29, 'ĠHolt': 29, 'ĠRadar': 28}\n",
      "shed {'Ġbere': 31, 'Ġbrill': 30, 'Ġnihil': 29, 'ĠChandra': 29, 'Ġbullies': 29, 'ĠKessler': 29}\n",
      "Ġshowcased {'ĠChambers': 31, 'ĠAnders': 30, 'ĠGalileo': 29, 'ĠKlein': 29, 'ĠChandra': 29, 'ĠHume': 29}\n",
      "Ġholidays {'ĠEverett': 30, 'ĠZerg': 30, 'ĠGoddard': 29, 'ĠFeldman': 29, 'ĠRiverside': 29, 'ĠSparks': 29}\n",
      "otine {'Ġdebris': 30, 'Ġfleeting': 29, 'ĠPrimordial': 29, 'Ġpandemonium': 29, 'Ġcushion': 29, 'Ġtempor': 29}\n",
      "ĠMcCartney {'ĠHolt': 33, 'ĠDodd': 30, 'ĠXuan': 29, 'ĠLash': 29, 'Ġ\"âĢ¦': 29, 'ĠShepard': 28}\n",
      "ortium {'ĠLivingston': 32, 'Ġindoors': 30, 'ĠLynd': 29, 'ĠFrenchman': 29, 'Ġovershadowed': 28, 'Ġjealousy': 28}\n",
      "Ġconquer {'ĠHalifax': 30, 'Ġbadges': 29, 'ĠLoft': 29, 'ĠHuffPost': 29, 'ĠLeeds': 29, 'ĠBravo': 29}\n",
      "Ġsalad {'ĠCarnage': 33, 'ĠSparks': 30, 'ĠHowe': 29, 'ĠGoddard': 29, 'Ġmayhem': 28, 'ĠKush': 28}\n",
      "vernight {'Ġmixer': 30, 'Ġstewards': 29, 'Ġfirmware': 29, 'ĠThread': 29, 'Ġflickering': 29, 'Ġcrashing': 29}\n",
      "Ġvolcanic {'ĠZerg': 33, 'ĠNeptune': 30, 'Ġkale': 29, 'ĠKris': 29, 'ĠHispanics': 29, 'ĠRamsay': 28}\n",
      "Ġsimplistic {'ĠHoover': 32, 'ĠWarlock': 31, 'ĠLockheed': 29, 'Ġlounge': 29, 'ĠLash': 29, 'ĠWaves': 28}\n",
      "BUR {'ĠLuna': 30, 'ĠRidley': 30, 'ĠWarlock': 29, 'ĠHoover': 29, 'ĠJaune': 29, 'ĠSharif': 29}\n",
      "Ġcontag {'ĠGlock': 30, 'ĠSears': 30, 'ĠLash': 29, 'ĠRift': 29, 'Ġ203': 29, 'ĠAirbus': 29}\n",
      "Throughout {'Ġ2007': 30, 'Ġ2015': 30, 'Ġ2006': 29, 'Ġ1989': 29, 'Ġ2005': 29, 'Ġ1998': 28}\n",
      "Ġdeepen {'ĠYPG': 33, 'ĠPaddock': 31, 'ĠHolt': 29, 'Ġpessimistic': 29, 'ĠRohing': 29, 'ĠZerg': 28}\n",
      "ĠDelicious {'ĠPeng': 30, 'ĠGohan': 29, 'ĠRahman': 29, 'ĠBrad': 29, 'ĠBaird': 29, 'ĠKimber': 29}\n",
      "ĠHasan {'ĠMelee': 32, 'ĠRumble': 31, 'ĠTempest': 30, 'ĠFelix': 28, 'Ġremix': 28, 'ĠLash': 28}\n",
      "Ġretail {'ĠSneak': 30, 'ĠHue': 30, 'Ġboon': 29, 'Ġdisparity': 29, 'ĠShant': 29, 'ĠWatson': 29}\n",
      "ĠSupplemental {'ĠYPG': 31, 'ĠKnox': 30, 'ĠZig': 30, 'ĠNXT': 30, 'ĠLegions': 30, 'ĠAliens': 28}\n",
      "Ġimmature {'ĠWarlock': 31, 'Ġvocabulary': 30, 'Ġlounge': 29, 'Ġenclave': 29, 'Ġdwelling': 29, 'Ġdisparity': 29}\n",
      "ĠLoot {'Ġ0004': 32, 'ĠWarlock': 31, 'ĠCarnage': 30, 'ĠShard': 30, 'ĠOnePlus': 29, 'Ġ000000': 28}\n",
      "itimate {'Ġchimpanzees': 32, 'Ġgreenhouse': 30, 'Ġminors': 29, 'Ġcounterterrorism': 29, 'Ġfearful': 28, 'Ġfilibuster': 28}\n",
      "ĠCassidy {'ĠLegions': 31, 'Ġlegions': 30, 'ĠOsw': 29, 'ĠLash': 29, 'ĠTempest': 29, 'ĠElm': 28}\n",
      "ĠNorton {'Ġmindful': 30, 'Ġstewards': 29, 'ĠConcern': 29, 'ĠShim': 29, 'Ġworldview': 29, 'ĠFeldman': 29}\n",
      "Ġexting {'ĠHearthstone': 31, 'ĠWarlock': 31, 'ĠGSL': 29, 'ĠMour': 29, 'ĠMahjong': 29, 'Ġbroccoli': 29}\n",
      "secut {'ĠZerg': 30, 'ĠNRL': 30, 'Ġnodding': 29, 'ĠTyphoon': 29, 'Ġhaze': 29, 'ĠBlades': 29}\n",
      "ORPG {'Ġstewards': 31, 'ĠHume': 29, 'ĠBravo': 29, 'ĠHeather': 29, 'Ġoverest': 29, 'ĠSasuke': 28}\n",
      "ĠDirective {'Ġ920': 30, 'Ġ980': 29, 'Ġ440': 29, 'Ġ960': 29, 'Ġ680': 29, 'Ġmosaic': 29}\n",
      "Cur {'ĠShattered': 33, 'ĠTsukuyomi': 32, 'Ġorally': 29, 'Ġfearful': 29, 'ĠpartName': 29, 'ĠWarlock': 28}\n",
      "ĠSustainable {'ĠHoover': 31, 'ĠWelch': 30, 'ĠGSL': 30, 'ĠHulk': 29, 'ĠChambers': 28, 'ĠReich': 28}\n",
      "ascar {'ĠNightmare': 29, 'ĠLash': 29, 'Ġweeping': 29, 'ĠLunch': 29, 'Ġhelium': 29, 'Ġpessim': 29}\n",
      "ĠCarth {'ĠWarp': 31, 'Ġsquee': 30, 'Ġdexter': 29, 'å¥': 29, 'ĠFowler': 29, 'ĠRandall': 28}\n",
      "appers {'ĠLithuania': 31, 'ĠCLSID': 30, 'ĠLithuan': 30, 'Ġsquee': 29, 'ĠGSL': 29, 'ĠKling': 28}\n",
      "ĠGotham {'ĠShard': 33, 'Ê': 30, 'Ġdiscord': 29, 'ĠGoo': 29, 'Ġscoff': 28, 'ĠMead': 28}\n",
      "ĠCoup {'Ġ580': 31, 'Ġ0004': 30, 'ĠYPG': 29, 'Ġ570': 29, 'ĠHeidi': 29, 'ĠFeldman': 28}\n",
      "ĠBitcoins {'ĠWarlock': 31, 'ĠLegions': 31, 'ĠCarnage': 30, 'ĠOmni': 29, 'ĠHume': 28, 'ĠShattered': 28}\n",
      "Ġcompassionate {'Ġsyll': 31, 'Ġwording': 30, 'Ġhierarch': 30, 'ĠRush': 29, 'ĠSpeech': 29, 'ĠLash': 29}\n",
      "antam {'ĠGSL': 31, 'Ġsquee': 30, 'ĠLoft': 29, 'ĠStun': 29, 'ĠStall': 29, 'ĠSSD': 28}\n",
      "ĠTraditional {'ĠKis': 30, 'ĠBoeing': 30, 'ĠWarlock': 29, 'ĠLash': 29, 'ĠGlow': 29, 'ĠFeldman': 28}\n",
      "Ġcellular {'ĠRemastered': 32, 'Ġblessings': 30, 'Ġstrikeouts': 29, 'Ġwidgets': 29, 'Ġwithdrawals': 29, 'Ġhostilities': 28}\n",
      "ĠElon {'ĠiCloud': 30, 'ĠLunar': 30, 'ĠRNC': 29, 'ĠEverett': 29, 'Ġ1440': 29, 'ĠSnapdragon': 29}\n",
      "Ġcavalry {'ĠLockheed': 30, 'ĠShim': 30, 'ĠLivingston': 29, 'ĠSkype': 29, 'ĠShard': 29, 'ĠSneak': 29}\n",
      "Ġrentals {'ĠLoft': 31, 'ĠLash': 30, 'ĠGoff': 30, 'ĠBarber': 29, 'ĠEverest': 29, 'ĠZig': 29}\n",
      "ĠRothschild {'ĠYamato': 30, 'ĠLash': 30, 'ĠHolt': 29, 'ĠEstonia': 29, 'ĠZam': 29, 'Ġsatellite': 28}\n",
      "traumatic {'ĠLegions': 30, 'ĠMinerva': 30, 'Ġneutron': 29, 'ĠAlphabet': 29, 'ĠHarmony': 29, 'ĠEstonia': 28}\n",
      "amon {'Ġnursery': 34, 'Ġbilingual': 32, 'Ġnicknamed': 29, 'ĠPanasonic': 29, 'ĠFrieza': 28, 'ĠBung': 28}\n",
      "ĠMaher {'ĠGrimm': 33, 'ĠGIF': 31, 'ĠShard': 29, 'ĠTempest': 29, 'ĠPrelude': 28, 'ĠQian': 28}\n",
      "Ġpreferential {'ĠShant': 31, 'ĠShard': 30, 'Ġstewards': 30, 'Ġlounge': 29, 'Ġchant': 29, 'ĠNoct': 28}\n",
      "Ġsinful {'Ġsolidarity': 33, 'Ġflashbacks': 30, 'Ġdelusions': 29, 'Ġroaring': 29, 'Ġquarantine': 28, 'Ġvocabulary': 28}\n",
      "Ġand {'Ġbilingual': 31, 'ĠShattered': 30, 'ĠCarnage': 30, 'Ġsemifinals': 29, 'Ġhorrified': 28, 'ĠRemastered': 28}\n",
      "Ġtumultuous {'Ġstewards': 32, 'Ġdisparity': 29, 'ĠWindsor': 29, 'ĠSparks': 29, 'Ġejected': 29, 'ĠSears': 29}\n",
      "sword {'Ġsquee': 31, 'ĠBravo': 30, 'Ġhilar': 29, 'Ġtampering': 29, 'Ġplutonium': 29, 'Ġcafeteria': 28}\n",
      "Ġmainstream {'ĠGalileo': 31, 'ĠHume': 30, 'ĠFleming': 30, 'ĠMelanie': 30, 'ĠFletcher': 28, 'ĠSheridan': 28}\n",
      "brainer {'Ġcoerc': 30, 'Ġradios': 30, 'Ġapprehens': 29, 'Ġhandshake': 29, 'Ġsimultane': 28, 'ĠRhodes': 28}\n",
      "ichen {'ĠHulk': 31, 'ĠCarnage': 30, 'ĠShant': 30, 'Ġshenanigans': 29, 'ĠVenom': 29, 'ĠZerg': 29}\n",
      "ĠOkinawa {'Ġfireball': 33, 'Ġstewards': 30, 'Ġhob': 28, 'Ġsquee': 28, 'Ġpessim': 28, 'Ġkilograms': 28}\n",
      "nexpected {'ĠHDL': 31, 'ĠGlover': 31, 'ĠKessler': 29, 'ĠShattered': 29, 'ĠCloak': 29, 'ĠShards': 28}\n",
      "axies {'Ġmosaic': 31, 'ĠTosh': 30, 'ĠPlayboy': 30, 'ĠDartmouth': 29, 'ĠBrookings': 29, 'Ġsidebar': 29}\n",
      "Ġstarship {'ĠYPG': 30, 'ĠOpportun': 29, 'ĠFeldman': 29, 'ĠSergio': 29, 'ĠTobias': 29, 'ĠGreenwood': 29}\n",
      "ĠSamantha {'ĠPicard': 31, 'ĠRhodes': 30, 'ĠHolt': 29, 'ĠPaddock': 29, 'ĠFrieza': 29, 'ĠYiannopoulos': 28}\n",
      "ongyang {'Ġnipples': 30, 'Ġcigars': 29, 'Ġbearded': 29, 'Ġhaze': 29, 'Ġbree': 29, 'ĠHume': 29}\n",
      "ĠLump {'ĠYPG': 34, 'ĠFnatic': 29, 'ĠComey': 29, 'ĠGSL': 29, 'ĠClint': 28, 'ĠiCloud': 28}\n",
      "ĠSchwarzenegger {'ĠKling': 31, 'ĠLash': 31, 'ĠGohan': 30, 'Ġwhim': 29, 'Ġlull': 28, 'Ġkale': 28}\n",
      "ĠKathryn {'ĠYiannopoulos': 31, 'ĠZot': 29, 'ĠHick': 29, 'ĠSpears': 29, 'ĠShard': 29, 'ĠRumble': 28}\n",
      "Ġiterator {'Ġconcurrently': 32, 'Ġoverlay': 30, 'Ġflourished': 29, 'Ġnons': 29, 'Ġrundown': 29, 'Ġresent': 28}\n",
      "ĠConnecticut {'ĠGoff': 31, 'ĠLash': 30, 'ĠSparks': 30, 'ĠLivingston': 29, 'ĠGOODMAN': 29, 'ĠFeldman': 29}\n",
      "ĠBernardino {'ĠiCloud': 30, 'ĠKlein': 30, 'ĠYPG': 29, 'ĠLoft': 29, 'ĠOlympia': 29, 'ĠWindsor': 28}\n",
      "llular {'Ġplutonium': 31, 'Ġmortar': 30, 'ĠBlumenthal': 29, 'ĠAlibaba': 28, 'ĠSlovenia': 28, 'ĠYugoslavia': 28}\n",
      "Ġcoup {'Ġ0004': 35, 'Ġ2048': 31, 'Ġ7000': 28, 'Ġ1400': 28, 'Ġ1500': 28, 'Ġ580': 28}\n",
      "ĠOman {'ĠCarnage': 30, 'ĠFeldman': 29, 'ĠGrimm': 29, 'Ġfallout': 29, 'ĠGoff': 28, 'ĠLords': 28}\n",
      "ĠKarachi {'ĠGoo': 31, 'ĠXue': 30, 'ĠFeldman': 29, 'ĠGillespie': 29, 'ĠSting': 28, 'ĠHoover': 28}\n",
      "adian {'Ġbullies': 32, 'Ġharassed': 31, 'Ġlounge': 29, 'Ġfireball': 29, 'Ġharass': 28, 'Ġmockery': 28}\n",
      "ĠAdventure {'ĠWillow': 31, 'ĠHeather': 30, 'ĠGarry': 29, 'ĠLash': 29, 'ĠPeng': 28, 'ĠBosh': 28}\n",
      "ĠAden {'ĠMaul': 31, 'ĠFeldman': 30, 'ĠCarnage': 29, 'Ġriff': 29, 'Ġgoblins': 29, 'ĠTyphoon': 28}\n",
      "ĠContinue {'ĠPaddock': 30, 'ĠLindsay': 30, 'ĠYorker': 29, 'ĠYamaha': 29, 'ĠLivingston': 29, 'ĠRyder': 28}\n",
      "estinal {'Ġplutonium': 31, 'Ġchimpanzees': 30, 'ĠWatson': 29, 'ĠKirby': 29, 'ĠHearthstone': 28, 'ĠWooden': 28}\n",
      "ĠLibyan {'Ġceilings': 30, 'Ġmayhem': 29, 'Ġhavoc': 29, 'Ġwreckage': 29, 'ĠCarnage': 29, 'Ġfireball': 29}\n",
      "Ġcessation {'ĠMonday': 30, 'ĠLash': 30, 'Ġonlook': 29, 'ĠPaddock': 29, 'Ġkale': 29, 'ĠLatvia': 29}\n",
      "ĠLuffy {'Ġstewards': 33, 'Ġrecount': 32, 'Ġfireball': 31, 'Ġfacilit': 29, 'Ġsquee': 27, 'Ġnursery': 27}\n",
      "Ġpriceless {'ĠLoft': 33, 'ĠHolt': 32, 'Ġcompuls': 29, 'Ġelector': 29, 'ĠAnders': 28, 'Ġhobbies': 28}\n",
      "ĠWarren {'ĠQian': 31, 'ĠShard': 31, 'ĠBale': 30, 'ĠHector': 29, 'Ġ\"âĢ¦': 29, 'ĠGoff': 28}\n",
      "ĠAirbnb {'ĠWarlock': 30, 'ĠRampage': 30, 'ĠShattered': 29, 'ĠWerewolf': 29, 'ĠKessler': 29, 'ĠGrimm': 28}\n",
      "Ġadventurous {'ĠLash': 31, 'ĠBrigham': 31, 'Ġmosa': 30, 'ĠHolo': 28, 'Ġstewards': 28, 'ĠBots': 28}\n",
      "Ġpastoral {'Ġcompuls': 32, 'Ġintimidation': 30, 'Ġwithdrawals': 29, 'Ġsituational': 28, 'Ġwaning': 28, 'Ġravaged': 28}\n",
      "Ġartillery {'Ġroaring': 31, 'Ġriddled': 30, 'Ġteaser': 30, 'Ġloopholes': 30, 'ĠFeldman': 29, 'ĠStronghold': 28}\n",
      "Ġbestselling {'Ġsyll': 31, 'ĠKlein': 30, 'ĠCamel': 29, 'Ġcamel': 29, 'Ġrook': 29, 'ĠLongh': 29}\n",
      "ĠCarlson {'ĠLoft': 31, 'Ġsponge': 31, 'ĠXue': 30, 'Ġslog': 29, 'ĠGSL': 28, 'ĠSneak': 28}\n",
      "ĠScientology {'Ġadvant': 30, 'Ġbilingual': 30, 'Ġpersuasive': 29, 'Ġmosaic': 29, 'Ġstewards': 29, 'ĠOber': 29}\n",
      "ailable {'ĠBis': 31, 'Ġchanting': 30, 'Ġbis': 29, 'ĠChambers': 29, 'Ġchant': 28, 'ĠDemonic': 28}\n",
      "ĠParadise {'ĠGSL': 33, 'ĠWarlock': 30, 'ĠMcCull': 29, 'Ġ\"âĢ¦': 29, 'ĠLash': 28, 'ĠZerg': 28}\n",
      "ĠWilhelm {'ĠMcCull': 32, 'Ġceiling': 30, 'ĠSheila': 28, 'ĠTosh': 28, 'Ġunin': 28, 'Ġafar': 28}\n",
      "Ġairplanes {'Ġmosaic': 30, 'Ġkale': 30, 'Ġrelocation': 29, 'Ġchuckled': 29, 'ĠOblivion': 28, 'ĠWorcester': 28}\n",
      "ĠStarter {'ĠHoover': 33, 'ĠLambert': 31, 'ĠKush': 29, 'ĠNirvana': 28, 'ĠHume': 28, 'ĠNicol': 28}\n",
      "Ġfanatic {'ĠHume': 32, 'ĠDebor': 30, 'ĠHolt': 29, 'Ġclich': 29, 'ĠHaley': 28, 'ĠMesa': 28}\n",
      "à© {'ĠShant': 31, 'ĠCarnage': 30, 'Ġroommate': 29, 'ĠColiseum': 29, 'Ġturrets': 28, 'Ġbattered': 28}\n",
      "Ġstray {'ĠWaves': 34, 'ĠKis': 32, 'ĠLegions': 31, 'Ġlegions': 28, 'Ġdolphins': 28, 'ĠPicard': 27}\n",
      "ĠUkip {'Ġsquee': 31, 'Ġfireball': 31, 'Ġceilings': 30, 'Ġdisparity': 30, 'Ġmayhem': 28, 'Ġrunoff': 28}\n",
      "pson {'ĠHearthstone': 31, 'Ġdubious': 30, 'Ġmidrange': 29, 'ĠDemonic': 29, 'ĠGemini': 28, 'ĠMIA': 28}\n",
      "Ġweeds {'ĠMerch': 32, 'ĠMIA': 31, 'ĠRecap': 29, 'Ġoverl': 29, 'ĠKardash': 28, 'Ġfilibuster': 28}\n",
      "Ġhorribly {'Ġcoerced': 31, 'Ġremix': 30, 'Ġblessings': 29, 'Ġdemoral': 29, 'Ġbitterness': 29, 'Ġfurry': 28}\n",
      "ĠIntelligent {'Ġstewards': 32, 'ĠHezbollah': 29, 'ĠStanford': 29, 'ĠWillow': 29, 'Ġfinalists': 28, 'ĠHighlands': 28}\n",
      "ĠPrometheus {'ĠShim': 30, 'ĠLords': 30, 'ĠPaddock': 29, 'ĠKushner': 29, 'ĠLloyd': 29, 'ĠBrigham': 29}\n",
      "ĠKrugman {'ĠLash': 32, \"'-\": 29, 'ĠSpock': 29, 'ĠShard': 28, 'Ġlash': 28, 'âĢĵ': 28}\n",
      ";;;;;;;;;;;; {'ĠClippers': 31, 'ĠKling': 30, 'ĠNeander': 30, 'ĠMcCull': 29, 'ĠPanthers': 29, 'ĠYoshi': 28}\n",
      "ĠRomantic {'Ġgrassroots': 32, 'Ġflashbacks': 30, 'Ġstewards': 29, 'Ġbadge': 28, 'ĠBrigham': 28, 'Ġcounselors': 28}\n",
      "Ġhydrogen {'ĠDropbox': 30, 'ĠOverwatch': 30, 'ĠHearthstone': 30, 'Ġstewards': 29, 'ĠTwitch': 29, 'Ġoverlay': 28}\n",
      "Ġharvesting {'Ġlash': 30, 'ĠRarity': 29, 'ĠLash': 29, 'ĠFern': 29, 'ĠFeldman': 29, 'ĠMarsh': 29}\n",
      "redit {'ĠCarnage': 33, 'ĠWarlock': 31, 'ĠHulk': 30, 'Ġtotality': 28, 'ĠOMG': 28, 'Ġ<@': 28}\n",
      "racuse {'ĠWOM': 30, 'Ġfrog': 30, 'ĠLyft': 29, 'ĠLithuania': 29, 'ĠZerg': 29, 'Ġfrogs': 29}\n",
      "ĠHaram {'Ġinciner': 30, 'ĠDresden': 29, 'Ġdexter': 29, 'ĠSlovenia': 29, 'ĠNeptune': 28, 'Ġstewards': 28}\n",
      "ĠCour {'ĠLivingston': 30, 'ĠLambert': 29, 'ĠJolly': 29, 'ĠRidley': 29, 'ĠFeldman': 28, 'ĠLyon': 28}\n",
      "ĠBenghazi {'ĠYamato': 30, 'Ġmockery': 29, 'Ġrunoff': 29, 'Ġmosaic': 29, 'Ġblessings': 29, 'Ġpessimistic': 29}\n",
      "ĠPlayoff {'ĠGohan': 33, 'ĠFeldman': 32, 'ĠSpock': 29, 'ĠLash': 28, 'ĠZig': 28, 'ĠKlein': 28}\n",
      "Ġtownship {'Ġ1500': 31, 'Ġ525': 30, 'Ġ0004': 29, 'Ġ1600': 29, 'Ġ1700': 29, 'Ġ2500': 28}\n",
      "lington {'Ġstewards': 31, 'ĠWarlock': 29, 'ĠWasteland': 29, 'ĠRobotics': 28, 'ĠHearthstone': 28, 'ĠSlay': 28}\n",
      "Ġmurderous {'Ġintrusive': 30, 'ĠHolt': 29, 'Ġhegemony': 29, 'Ġstronghold': 29, 'Ġnarcissistic': 28, 'ĠCLSID': 28}\n",
      "teness {'Ġcooperating': 30, 'ĠMadagascar': 29, 'ĠHispanics': 29, 'Ġmisconceptions': 29, 'Ġbilingual': 29, 'Ġcoerced': 29}\n",
      "ĠBUR {'ĠJaune': 32, 'ĠWarlock': 30, 'ĠWally': 29, 'ĠRidley': 29, 'ĠRosenberg': 28, 'ĠDianne': 28}\n",
      "ĠFerdinand {'ĠKling': 30, 'ĠLoft': 29, 'Ġroaring': 29, 'ĠGoo': 29, 'Ġlaud': 28, 'ĠLeth': 28}\n",
      "comment {'ĠGSL': 34, 'Ġfinalists': 30, 'ĠHume': 30, 'ĠTsukuyomi': 29, 'ĠWarlock': 29, 'Ġvomiting': 28}\n",
      "ormons {'Ġpessim': 31, 'Ġsquee': 30, 'Ġ\"âĢ¦': 29, 'Ġstewards': 29, 'Ġslug': 28, 'Ġeyewitness': 28}\n",
      "active {'ĠLimbaugh': 31, 'ĠHoover': 29, 'Ġplutonium': 29, 'ĠBashar': 29, 'ĠKlingon': 29, 'ĠTosh': 28}\n",
      "Ġcurtail {'ĠHuffPost': 30, 'ĠPicard': 29, 'Ġlogistical': 29, 'ĠHume': 29, 'Ġ920': 28, 'ĠBoeing': 28}\n",
      "ĠDalai {'Ġstewards': 30, 'Ġsyll': 29, 'ĠHorde': 29, 'Ġremix': 29, 'ĠLegions': 29, 'ĠWarlock': 28}\n",
      "mson {'ĠFeldman': 31, 'Ġorphans': 30, 'ĠWarlock': 30, 'ĠSwordsman': 29, 'ĠShattered': 28, 'Ġflora': 28}\n",
      "Ġintangible {'ĠWarehouse': 30, 'ĠWarlock': 30, 'ĠLoft': 29, 'Ġwhistleblower': 29, 'ĠBowling': 28, 'ĠHelm': 28}\n",
      "ĠTooth {'Ġstewards': 29, 'ĠWarlock': 29, 'ĠNemesis': 29, 'ĠRyder': 29, 'ĠValiant': 29, 'ĠConfederation': 28}\n",
      "apult {'ĠGSL': 31, 'ĠFeldman': 30, 'ĠWarlock': 29, 'ĠLivingston': 29, 'Ġhorrend': 29, 'ĠTobias': 28}\n",
      "Ġnewcom {'Ġsquee': 33, 'ĠLivingston': 32, 'ĠHearthstone': 31, 'Ġbilingual': 30, 'Ġpepp': 27, 'ĠHume': 27}\n",
      "Ġcourts {'ĠShattered': 32, 'Ġcrippled': 29, 'ĠRemastered': 29, 'Ġgrinning': 29, 'Ġunchecked': 28, 'Ġflanked': 28}\n",
      "Ġarson {'Ġlounge': 31, 'Ġmosaic': 31, 'Ġprelim': 30, 'Ġroaring': 29, 'Ġslay': 29, 'ĠLounge': 28}\n",
      "groups {'Ġlame': 33, 'ĠShattered': 30, 'ĠFletcher': 28, 'Ġcooper': 28, 'Ġharmless': 28, 'ĠHearthstone': 28}\n",
      "Ġintentional {'Ġslashing': 30, 'Ġflanked': 29, 'Ġcountdown': 29, 'Ġroommate': 29, 'Ġdodged': 29, 'Ġmockery': 28}\n",
      "odynamic {'Ġdwelling': 30, 'Ġminors': 29, 'Ġweep': 29, 'Ġwidow': 29, 'Ġsmartphones': 28, 'Ġdividends': 28}\n",
      "Ġharvested {'ĠWarlock': 30, 'Ġdisparity': 29, 'ĠCompass': 29, 'Ġflares': 29, 'ĠDemonic': 29, 'Ġdisparities': 29}\n",
      "Ġenvironmentalists {'ĠLockheed': 32, 'ĠGlow': 30, 'Ġshenanigans': 29, 'ĠShim': 29, 'Ġhavoc': 29, 'ĠLAR': 28}\n",
      "Ġlimp {'ĠCarnage': 30, 'ĠNine': 30, 'Ġnine': 30, 'ĠAwoken': 29, 'Ġmosaic': 28, 'ĠLegions': 28}\n",
      "ĠInsp {'ĠBrooke': 31, 'ĠDustin': 29, 'ĠShirley': 29, 'ĠLowell': 29, 'ĠGoldstein': 29, 'Ġdisparity': 28}\n",
      "ĠIDF {'ĠShattered': 30, 'Ġharassed': 29, 'Ġscoff': 29, 'ĠRampage': 29, 'Ġstewards': 28, 'Ġchuckled': 28}\n",
      "anamo {'Ġhilar': 32, 'Ġblacklist': 31, 'Ġsquee': 30, 'Ġfireball': 30, 'ĠFeldman': 28, 'Ġchuckled': 28}\n",
      "Ġintentionally {'Ġslashing': 30, 'Ġslashed': 29, 'Ġroaring': 29, 'Ġblessings': 29, 'Ġorphans': 29, 'Ġharassed': 28}\n",
      "Ġairplane {'Ġceilings': 32, 'Ġslashing': 30, 'Ġhandshake': 29, 'Ġceiling': 29, 'ĠBrawl': 28, 'Ġdwindling': 28}\n",
      "Ġscraps {'ĠGuan': 31, 'ĠHulk': 31, 'ĠMub': 29, 'ĠKirin': 29, 'ĠMour': 28, 'ĠDoodle': 28}\n",
      "ĠRohingya {'Ġfireball': 32, 'ĠTempest': 31, 'ĠBots': 30, 'ĠRealm': 30, 'Ġlounge': 28, 'auntlets': 27}\n",
      "ĠTactical {'Ġcompuls': 31, 'Ġcrackdown': 29, 'Ġweep': 29, 'ĠMaxim': 28, 'Ġloopholes': 28, 'Ġvomiting': 28}\n",
      "Ġhect {'ĠRasmussen': 35, 'ĠUSL': 30, 'ĠMandal': 29, 'Ġsimul': 29, 'ĠMagicka': 29, 'Ġsandwic': 28}\n",
      "ĠLegisl {'ĠDresden': 30, 'Ġoverlapping': 30, 'ĠShattered': 29, 'ĠRosenstein': 29, 'ĠRampage': 28, 'Ġstunned': 28}\n",
      "Ġsoutheastern {'ĠGork': 29, 'Ġgobl': 29, 'ĠSlovenia': 29, 'ĠLanc': 29, 'ĠWeasley': 29, 'ĠDalai': 28}\n",
      "ĠIsabel {'ĠWarlock': 32, 'ĠGarfield': 32, 'ĠWCS': 30, 'ĠGSL': 28, 'ĠWillow': 28, 'ĠHearthstone': 28}\n",
      "ĠIndigenous {'ĠSears': 31, 'ĠChambers': 30, 'Ġlounge': 30, 'ĠChandler': 29, 'Ġgranddaughter': 28, 'ĠBrothers': 28}\n",
      "angler {'ĠKlingon': 32, 'Ġplutonium': 29, 'ĠLivingston': 29, 'ĠHulk': 28, 'ĠSicily': 28, 'ĠUEFA': 28}\n",
      "ĠMazda {'ĠHulk': 29, 'ĠSpock': 29, 'ĠKling': 29, 'ĠShutdown': 29, 'ĠTrooper': 29, 'Ġshutdown': 28}\n",
      "Ġhearty {'ĠPicard': 30, 'Ġpoker': 29, 'ĠLizard': 29, 'ĠLounge': 29, 'ĠMaul': 29, 'Ġlightsaber': 28}\n",
      "ãĥĺãĥ© {'Ġdisg': 31, 'Ġremix': 30, 'Ġsanitation': 29, 'ĠKlingon': 29, 'Ġchuckled': 28, 'ĠFeldman': 28}\n",
      "ĠTribunal {'ĠGoodwin': 34, 'ĠPicard': 30, 'ĠGOODMAN': 30, 'ĠGaia': 29, 'ĠKeane': 29, 'ĠGoodman': 27}\n",
      "Ġcopyright {'Ġelbows': 30, 'Ġlivestream': 30, 'Ġroaring': 29, 'Ġlightly': 29, 'Ġstewards': 29, 'Ġrunoff': 28}\n",
      "fam {'ĠZerg': 30, 'Ġoverweight': 30, 'Ġ1952': 29, 'ĠLatvia': 29, 'ĠSharif': 29, 'ĠHalifax': 28}\n",
      "ĠUntil {'utterstock': 29, 'ĠHeather': 29, 'ĠHeidi': 29, 'Ġ1956': 29, 'ileen': 29, 'ĠEdison': 28}\n",
      "ĠHarbour {'ĠFeldman': 30, 'ĠKris': 29, 'ĠKling': 29, 'ĠFeng': 29, 'Ġsorcerer': 28, 'ĠElise': 28}\n",
      "issan {'Ġpersecut': 33, 'ĠYPG': 30, 'ĠCarnage': 30, 'Ġcheckpoint': 28, 'ĠGork': 28, 'ĠSlovenia': 28}\n",
      "Ġguidelines {'ĠBoeing': 30, 'ĠMahjong': 30, 'Ġplutonium': 28, 'ĠFrieza': 28, 'ĠMinneapolis': 28, 'ĠLancaster': 28}\n",
      "apeake {'ĠSpears': 32, 'Ġwhisk': 29, 'Ġteasing': 29, 'ĠPony': 29, 'Ġfoll': 29, 'ĠSpicer': 28}\n",
      "ilian {'Ġtyres': 30, 'Ġbuffs': 30, 'Ġhandcuffs': 30, 'ĠWarlock': 28, 'Ġguts': 28, 'ĠAshes': 28}\n",
      "umbnail {'ĠYorker': 31, 'ĠCanaan': 29, 'ĠFey': 29, 'ĠGSL': 29, 'ĠLevant': 28, 'ĠEstonia': 28}\n",
      "Ġprofitable {'ĠSears': 32, 'ĠSonia': 30, 'ĠLash': 29, 'ĠErica': 29, 'ĠShard': 28, 'ĠShelley': 28}\n",
      "ĠLumpur {'ĠFeld': 30, 'ĠSharif': 30, 'ĠShant': 30, 'ĠHulk': 29, 'Ġharassed': 28, 'Ġkale': 28}\n",
      "Ġgreedy {'ĠBoeing': 31, 'ĠClan': 30, 'ĠDemonic': 29, 'ĠLadies': 28, 'ĠSenators': 28, 'Ġonboard': 28}\n",
      "ĠSiber {'Ġbree': 30, 'ĠChaff': 29, 'ĠAllied': 29, 'ĠLynd': 29, 'Ġcompuls': 29, 'ĠCarnage': 28}\n",
      "ĠGordon {'Ġ\"âĢ¦': 34, 'ĠMalik': 30, 'ĠRutherford': 29, 'ĠXue': 28, 'ĠGillespie': 28, 'ĠOwen': 28}\n",
      "Ġhelium {'Ġfallout': 31, 'Ġeject': 29, 'Ġoverflow': 29, 'ĠEmber': 28, 'Ġmayhem': 28, 'Ġlumber': 28}\n",
      "Ġredevelop {'ĠWarlock': 32, 'ĠScully': 30, 'ĠKorra': 28, 'ĠCanaan': 28, 'ĠChambers': 28, 'ĠHulk': 28}\n",
      "yton {'Ġstewards': 32, 'ĠSpock': 30, 'ĠErie': 30, 'Ġsweeping': 29, 'ĠSneak': 28, 'ĠHearthstone': 28}\n",
      "ĠSymb {'ĠWarlock': 31, 'ĠKlingon': 30, 'ĠYPG': 30, 'Ġbilingual': 28, 'ĠWillow': 28, 'ĠHodg': 28}\n",
      "Ġreusable {'Ġhob': 30, 'ĠFeld': 29, 'ĠClan': 29, 'ĠTempest': 29, 'ĠLash': 29, 'ĠHolo': 28}\n",
      "ĠEnix {'ĠSasuke': 29, 'Ġdoub': 29, 'ĠMcCull': 29, 'ĠSaturdays': 29, 'Ġbilingual': 29, 'Ġgravy': 29}\n",
      "Send {'ĠHoover': 30, 'ĠGSL': 30, 'ĠGoddard': 29, 'Ġgoblins': 28, 'ĠYoshi': 28, 'ĠLloyd': 28}\n",
      "Ġcaves {'ĠZerg': 31, 'ĠMahjong': 31, 'ĠBYU': 30, 'ĠBrookings': 29, 'ĠShinzo': 29, 'ĠYPG': 28}\n",
      "Ġrepealed {'ĠMahjong': 30, 'ĠLambert': 30, 'ĠHulk': 29, 'ĠPanasonic': 29, 'ĠHearthstone': 29, 'ĠSaturdays': 28}\n",
      "ĠGuidelines {'Ġgranddaughter': 31, 'ĠBoeing': 29, 'Ġgrandchildren': 29, 'ĠOber': 28, 'ĠShattered': 28, 'ĠOsaka': 28}\n",
      "Ġplentiful {'ĠBoeing': 35, 'ĠMarlins': 29, 'ĠKis': 29, 'ĠZerg': 29, 'ĠAirbus': 29, 'ĠWarlock': 28}\n",
      "Authent {'ĠWarlock': 32, 'ĠFeldman': 31, 'ĠFowler': 29, 'ĠDeng': 29, 'ĠShelley': 28, 'ĠRosenstein': 28}\n",
      "ĠPetraeus {'Ġlounge': 32, 'ĠLash': 31, 'Ġpessim': 30, 'Ġrundown': 28, 'Ġlooms': 28, 'Ġwhim': 27}\n",
      "ĠTripoli {'Ġharassed': 32, 'ĠCarnage': 29, 'ĠTyphoon': 29, 'Ġrejoice': 29, 'ĠMuller': 29, 'Ġshenanigans': 28}\n",
      "ĠCatalonia {'Ġdaytime': 30, 'Ġunim': 29, 'ĠGuang': 29, 'ĠXin': 29, 'Ġdele': 28, ':-': 28}\n",
      "Ġdeepening {'ĠHolt': 30, 'Ġoptimism': 30, 'ĠHuang': 30, 'ĠRamsay': 29, 'ĠPaddock': 29, 'ĠLindsay': 28}\n",
      "Ġvaccines {'Ġcrippled': 30, 'Ġsquee': 29, 'ĠErie': 29, 'ĠLoren': 29, 'ĠOmaha': 29, 'Ġhavoc': 28}\n",
      "Ġfreaking {'ĠQuint': 31, 'ĠTempest': 30, 'ĠKessler': 28, 'ĠWarlock': 28, 'Ġwhistlebl': 28, 'ĠAlchemist': 28}\n",
      "otropic {'ĠBrus': 31, 'ĠGSL': 29, 'ĠHearthstone': 29, 'ĠHobbit': 29, 'ĠHispanics': 28, 'ĠMahjong': 28}\n",
      "ipeg {'ĠHearthstone': 33, 'Ġchimpanzees': 28, 'ĠLovecraft': 28, 'ĠGreenberg': 28, 'Ġcosmos': 28, 'Ġcoral': 28}\n",
      "ĠVoldemort {'Ġshimmer': 31, 'ĠShim': 30, 'ĠBravo': 29, 'ĠMalik': 28, 'Ġmosaic': 28, 'Ġhilar': 28}\n",
      "aretz {'Ġstere': 31, 'ĠHardcore': 30, 'Ġpodcasts': 29, 'ĠHearthstone': 29, 'ĠKardash': 28, 'Ġhobbies': 28}\n",
      "ĠGaia {'Ġsyll': 32, 'Ġmanag': 31, 'Ġpersecut': 30, 'ĠTrib': 28, 'ĠLords': 27, 'Ġmish': 27}\n",
      "ĠShoals {'ĠCinderella': 31, 'ĠPanasonic': 30, 'ĠUriel': 29, 'ĠLatvia': 29, 'ĠPDT': 29, 'ĠMahjong': 28}\n",
      "Ġmassive {'ĠBolivia': 31, 'ĠWarlock': 30, 'ĠWillow': 29, 'ĠBalkans': 28, 'ĠHughes': 28, 'ĠFowler': 28}\n",
      "ĠAntarctic {'ĠLegions': 33, 'Ġsoph': 29, 'Ġtrickle': 29, 'Ġsimul': 28, 'Ġmosa': 28, '\".[': 28}\n",
      "ĠGolden {'ĠFSA': 31, 'ĠValiant': 30, 'ĠShard': 29, 'ĠWarlock': 29, 'ĠHilton': 28, 'ĠCIS': 28}\n",
      "Ġscholarly {'Ġdexter': 31, 'Ġcompuls': 31, 'Ġbadges': 29, 'Ġblessings': 29, 'Ġstewards': 28, 'Ġroommate': 28}\n",
      "Ġbarbaric {'ĠShard': 32, 'ĠDominion': 30, 'ĠWindsor': 29, 'ĠLoch': 29, 'ĠHorde': 29, 'Ġdestroyer': 28}\n",
      "Ġimpuls {'ĠRamsay': 30, 'ĠCarnage': 30, 'ĠShard': 30, 'ĠHoover': 29, 'ĠSlay': 29, 'ĠBrigham': 27}\n",
      "ghazi {'Ġpessim': 32, 'Ġvigilant': 30, 'Ġreceptive': 29, 'Ġhysteria': 29, 'Ġdexter': 29, 'Ġpessimistic': 28}\n",
      "Ġoxygen {'Ġmountainous': 29, 'ĠTempest': 29, 'ĠRobotics': 29, 'Ġnicotine': 29, 'Ġejected': 29, 'Ġradioactive': 29}\n",
      "ĠDetroit {'ĠBLM': 30, 'Ġlivestream': 30, 'Ġ0004': 29, 'ĠShowtime': 29, 'ĠHuang': 28, 'ĠPebble': 28}\n",
      "avin {'ĠStarCraft': 31, 'Ġbuffet': 29, 'ĠFrieza': 29, 'Ġhavoc': 29, 'ĠKinnikuman': 28, 'ĠMahjong': 28}\n",
      "ĠMunicip {'Ġ0004': 32, 'ĠZig': 30, 'Ġ701': 29, '703': 28, 'Ġ1600': 28, 'Ġ1700': 28}\n",
      "Ġdefund {'ĠChambers': 34, 'ĠArmageddon': 29, 'ĠShard': 29, 'umenthal': 29, 'ĠLumia': 29, 'orough': 27}\n",
      "Ġsunlight {'ĠHilton': 31, 'ĠBravo': 30, 'ĠKlein': 30, 'ĠHoover': 29, 'ĠSasuke': 28, 'Ġcooper': 28}\n",
      "worm {'ĠGSL': 32, 'Ġcartels': 29, 'ĠLyon': 28, 'ĠMcGregor': 28, 'ĠChambers': 28, 'ĠMaxim': 28}\n",
      "Ġuninterrupted {'ĠFairy': 29, 'Ġfairy': 29, 'Ġlandsl': 29, 'ĠShattered': 29, 'ĠLash': 28, 'ĠLoft': 28}\n",
      "Ġblacklist {'Ġkale': 32, 'ĠLeia': 31, 'ĠMelanie': 29, 'ĠDodd': 28, 'Ġsquee': 28, 'ĠGree': 28}\n",
      "Continue {'ĠLivingston': 32, 'ĠYoshi': 30, 'ĠRyder': 29, 'ĠYamaha': 29, 'ĠPaddock': 28, 'ĠLockheed': 27}\n",
      "Ġantioxid {'Ġcharism': 32, 'Ġmuscular': 30, 'Ġhobbies': 29, 'Ġstewards': 28, 'ĠBoeing': 28, 'Ġfairy': 28}\n",
      "Ġabundant {'Ġsheep': 30, 'ĠBoeing': 29, 'ĠHornets': 29, 'ĠSlovenia': 29, 'Ġchuckled': 28, 'ĠFrenchman': 28}\n",
      "ĠFilipino {'Ġstash': 32, 'ĠShowtime': 30, 'ĠWarlock': 29, 'Ġstewards': 28, 'Ġroaring': 28, 'Ġheadsets': 28}\n",
      "Ġtimber {'ĠBerkshire': 31, 'ĠPlymouth': 30, 'ĠMasquerade': 28, 'ĠBridgewater': 28, 'Ġbree': 28, 'ĠAwakens': 28}\n",
      "expensive {'ĠMidlands': 30, 'Ġkale': 29, 'ĠLivingston': 29, 'ĠBoeing': 29, 'ĠBohem': 29, 'ĠMeng': 28}\n",
      "Ġstolen {'ĠMalik': 30, 'Ġkale': 29, 'ĠHuffPost': 29, 'ĠOculus': 29, 'Ġgif': 28, 'Ġgoggles': 28}\n",
      "WH {'ĠHearthstone': 33, 'ĠWarlock': 29, 'ĠCambodia': 29, 'ĠClyde': 28, 'ĠRidley': 28, 'ĠAwakens': 28}\n",
      "terrorist {'Ġsquee': 29, 'Ġbedrock': 29, 'Ġoverlapping': 29, 'Ġmosaic': 29, 'ĠChambers': 28, 'Ġblacklist': 28}\n",
      "ĠWoody {'ĠAwakens': 30, 'ĠPratt': 29, 'ĠRampage': 29, 'ĠKorra': 28, 'ĠRiverside': 28, 'ĠNemesis': 28}\n",
      "Ġfoundation {'ĠHoover': 32, 'ĠOblivion': 31, 'ĠLindsay': 29, 'ĠWeiner': 28, 'ĠOwen': 27, 'ĠSneak': 27}\n",
      "abad {'ĠHulk': 33, 'ĠBowie': 29, 'ĠBravo': 28, 'ĠMaul': 28, 'Ġshrimp': 28, 'ĠLuna': 28}\n",
      "Professor {'ĠLambert': 30, 'ĠLash': 29, 'ĠWillow': 29, 'ĠHolt': 28, 'ĠShant': 28, 'ĠLyon': 28}\n",
      "Ġsubur {'Ġsandwic': 32, 'ĠHearthstone': 30, 'ĠHume': 29, 'Ġfireball': 28, 'ĠFrieza': 28, 'ĠMahjong': 28}\n",
      "stained {'Ġbilingual': 32, 'ĠMIA': 30, 'ĠHoover': 28, 'Ġorally': 28, 'Ġnons': 28, 'ĠSnapchat': 28}\n",
      "TM {'ĠBronx': 33, 'ĠHulk': 30, 'ĠHume': 29, 'ĠFreeBSD': 28, 'Ġkale': 28, 'ĠShattered': 28}\n",
      "ĠRetrieved {'ĠHale': 30, 'ĠFloyd': 29, 'ĠValiant': 29, 'ĠRyder': 29, 'ĠGoff': 29, 'Ġscoff': 28}\n",
      "roe {'Ġunilaterally': 30, 'Ġbilateral': 30, 'Ġbilingual': 29, 'Ġlivestream': 29, 'Ġmillennial': 28, 'Ġemphatically': 28}\n",
      "ĠBarbarian {'ĠPhilipp': 30, 'ĠShard': 30, 'ĠRhino': 29, 'ĠKling': 29, 'ĠHick': 28, 'Ġblitz': 28}\n",
      "ĠAbyssal {'ĠKris': 31, 'ĠKling': 30, 'ĠPodesta': 29, 'ĠDianne': 29, 'ĠMeng': 28, 'ĠBots': 28}\n",
      "ĠChapel {'Ġtransgress': 30, 'ĠZerg': 30, 'ĠAkira': 29, 'ĠFeng': 29, 'ĠSasuke': 28, 'ĠJaune': 28}\n",
      "ĠHerrera {'ĠWCS': 31, 'ĠBeng': 30, 'ĠGSL': 30, 'ĠXuan': 29, 'ĠWarlock': 28, 'Ġlounge': 28}\n",
      "ãĥīãĥ© {'ĠXuan': 31, 'ĠSneak': 30, 'Ġnons': 29, 'Ġpessim': 28, 'ĠZub': 28, 'ĠEverett': 28}\n",
      "journal {'Ġconcurrently': 30, 'Ġnegativity': 29, 'Ġantidepressants': 29, 'Ġoverload': 28, 'Ġstrokes': 28, 'Ġbitters': 28}\n",
      "Ġlongitudinal {'ĠChambers': 30, 'ĠKling': 30, 'Ġplutonium': 29, 'Ġstewards': 28, 'ĠHulk': 28, 'ĠHearthstone': 28}\n",
      "Fal {'ĠLegions': 30, 'ĠLuna': 29, 'ĠRicky': 29, 'ĠDeluxe': 29, 'ĠPortsmouth': 28, 'ĠKubrick': 28}\n",
      "Ġultraviolet {'ĠLash': 31, 'ĠLivingston': 29, 'Ġlounge': 29, 'ĠGarg': 29, 'ĠCarnage': 28, 'ĠSpock': 28}\n",
      "Ġfruitful {'ĠMidlands': 29, 'ĠWarlock': 29, 'Ġverbally': 28, 'Ġspirituality': 28, 'ãĥīãĥ©ãĤ´ãĥ³': 28, 'Ġvocabulary': 28}\n",
      "ĠISIL {'ĠRampage': 32, 'Ġchuckled': 30, 'Ġfireball': 29, 'Ġsquee': 28, 'Ġmockery': 28, 'Ġvalleys': 28}\n",
      "utter {'Ġceilings': 31, 'Ġbitterness': 29, 'Ġriddled': 28, 'Ġcollide': 28, 'Ġcompuls': 28, 'Ġgrappling': 28}\n",
      "Ġreputable {'ĠSpock': 30, 'ĠLash': 29, 'ĠLoft': 29, 'ĠLith': 28, 'Ġkale': 28, 'ĠShard': 28}\n",
      "aminer {'ĠSloven': 32, 'Ġbuzz': 30, 'ĠSlov': 29, 'Ġsquee': 28, 'ĠBolton': 28, 'Ġbuzzing': 28}\n",
      "Ġcensored {'Ġmosaic': 30, 'ĠTsukuyomi': 30, 'Ġlandsl': 29, 'Ġ920': 29, 'ĠLia': 28, 'Ġkale': 28}\n",
      "ĠOriental {'ĠSparks': 30, 'ĠFeldman': 29, 'Ġgranddaughter': 29, 'ĠHeath': 29, 'ĠGibbs': 28, 'ĠDustin': 28}\n",
      "ĠJarvis {'ĠSharif': 32, 'ĠSonia': 30, 'ĠSchwar': 29, 'ĠRohing': 28, 'Ġdwind': 28, 'Ġsoph': 28}\n",
      "Ġvigorously {'Ġbenevolent': 29, 'Ġhijacked': 29, 'Ġcensored': 29, 'Ġteasing': 29, 'Ġslashing': 28, 'Ġfallout': 28}\n",
      "\"/> {'ĠSeaf': 30, 'ĠSasuke': 29, 'ĠTyphoon': 29, 'ĠCarnage': 28, 'Ġmayhem': 28, 'Ġshenanigans': 28}\n",
      "ibaba {'Ġ1800': 30, 'Ġsquee': 30, 'Ġ2048': 30, 'Ġ2024': 29, 'Ġ1280': 28, 'Ġ392': 28}\n",
      "otypes {'Ġlame': 30, 'Ġnons': 30, 'Ġunchecked': 30, 'Ġveiled': 29, 'Ġleng': 29, 'Ġmanic': 27}\n",
      "ĠAbdullah {'ĠGrimm': 30, 'ĠGiles': 29, 'ĠGHC': 29, 'Ġstewards': 29, 'Ġsnipp': 28, 'ĠShant': 28}\n",
      "Ġcinematic {'ĠRift': 30, 'Ġhassle': 29, 'ĠAllan': 29, 'Ġshutter': 29, 'ĠBorderlands': 28, 'ĠUlster': 28}\n",
      "ĠTimber {'ĠWarlock': 30, 'ĠAwakens': 30, 'ĠRyder': 29, 'ĠHoover': 28, 'ĠLegions': 28, 'ĠBridgewater': 28}\n",
      "Ġcarbohydrates {'ĠSparks': 30, 'ĠPlayboy': 29, 'ĠRiverside': 29, 'ĠSantana': 29, 'ĠClippers': 29, 'ĠSheep': 28}\n",
      "Ġdefamation {'ĠOmni': 30, 'ĠLoft': 29, 'Ġvigilant': 29, 'ĠMeng': 29, 'Ġmosaic': 28, 'Ġprelim': 28}\n",
      "Ġlessons {'Ġcooper': 32, 'Ġsquee': 30, 'Ġtwentieth': 28, 'Ġcoerced': 28, 'Ġhorizontally': 28, 'Ġmechanically': 28}\n",
      "Ġfisherman {'ĠLash': 30, 'ĠHoover': 30, 'ĠTosh': 30, 'ĠWally': 29, 'ĠShant': 28, 'ĠZub': 28}\n",
      "Ġgigantic {'ĠHispanics': 29, 'ĠGlock': 29, 'Ġflashbacks': 29, 'ĠBolivia': 29, 'ĠBrookings': 29, 'ĠBoeing': 29}\n",
      "ĠPayton {'ĠShard': 31, 'ĠWCS': 30, 'ĠGHC': 28, 'ĠPicard': 28, 'ĠGoff': 28, 'ĠWarlock': 28}\n",
      "Ġinsurrection {'Ġmidway': 30, 'Ġtrickle': 30, 'ĠGarry': 29, 'Ġroaring': 28, 'ĠLoft': 28, 'Ġmosaic': 28}\n",
      "ĠKurds {'Ġstewards': 31, 'Ġsponge': 30, 'Ġdestroyer': 29, 'ĠTyphoon': 28, 'Ġrejoice': 28, 'ĠHulk': 28}\n",
      "ĠHappy {'ĠWarlock': 33, 'Ġ\"âĢ¦': 30, 'Ġ2008': 28, 'ĠGSL': 28, 'ĠKling': 28, 'ĠHorde': 27}\n",
      "ĠWasteland {'ĠShim': 34, 'ĠLyon': 33, 'ĠBolton': 30, 'ĠMuller': 28, 'ĠShelley': 27, 'ĠHume': 27}\n",
      "Ġbombed {'ĠDeluxe': 32, 'ĠClippers': 29, 'ĠSnapchat': 29, 'ĠMiko': 28, 'ĠChattanooga': 28, 'ĠLindsay': 28}\n",
      "Ġnewfound {'ĠBoeing': 30, 'ĠHolt': 30, 'ĠDustin': 29, 'ĠClippers': 28, 'ĠElise': 28, 'ĠHeather': 28}\n",
      "ĠVancouver {'ĠSears': 30, 'ĠLash': 30, 'ĠShowtime': 30, 'ĠFeldman': 29, 'ĠShard': 29, 'ĠWelch': 28}\n",
      "angible {'ĠBleach': 29, 'ĠBulgarian': 29, 'ĠNavajo': 29, 'ĠLoft': 29, 'ĠStarCraft': 28, 'ĠBLM': 28}\n",
      "Ġbombing {'ĠLerner': 31, 'ĠPaige': 30, 'ĠDeluxe': 29, 'ĠGillespie': 28, 'ĠFeldman': 28, 'ĠDalai': 28}\n",
      "ansk {'Ġpopup': 31, 'Ġmidrange': 29, 'Ġunilaterally': 29, 'Ġbroccoli': 29, 'Ġsquee': 28, 'Ġblacklist': 28}\n",
      "Ġrebels {'ĠHoover': 34, 'ĠOlson': 29, 'Ġsquee': 28, 'ĠHume': 28, 'ĠLyndon': 28, 'ĠClint': 28}\n",
      "dain {'Ġchuckled': 31, 'Ġsquee': 30, 'Ġcompuls': 30, 'ĠCarnage': 28, 'Ġmockery': 28, 'Ġboon': 28}\n",
      "TEXTURE {'Ġkale': 34, 'ĠSasuke': 30, 'ĠZig': 30, 'ĠChad': 29, 'Ġlightsaber': 28, 'ĠXuan': 27}\n",
      "agogue {'Ġsquee': 32, 'ĠComprehensive': 29, 'Ġspacious': 29, 'Ġmidrange': 29, 'Ġcomprehens': 29, 'Ġshenanigans': 28}\n",
      "ĠTasmania {'ĠLoft': 30, 'ĠShim': 29, 'ĠLiang': 29, 'ĠGilbert': 29, 'ĠFeld': 28, 'ĠCohen': 28}\n",
      "ĠKislyak {'Ġcompuls': 30, 'Ġroaring': 30, 'ĠRampage': 29, 'Ġdwind': 29, 'Ġcharism': 28, 'Ġshimmer': 28}\n",
      "Ġcompulsory {'ĠLoft': 30, 'ĠWander': 29, 'Ġwhisper': 29, 'ĠLash': 29, 'ĠTyphoon': 29, 'ĠLith': 28}\n",
      "onut {'ĠHearthstone': 32, 'ĠWarlock': 31, 'ĠiCloud': 28, 'ĠHoover': 28, 'ĠGSL': 28, 'ĠStarCraft': 28}\n",
      "SourceFile {'ĠGrimm': 31, 'ĠHulk': 30, 'ĠHoover': 30, 'ĠFeld': 29, 'ĠLimbaugh': 28, 'ĠHume': 27}\n",
      "abul {'Ġsquee': 34, 'ĠShant': 29, 'ĠSpock': 29, 'ĠHulk': 29, 'ĠDemonic': 29, 'ĠTyphoon': 27}\n",
      "ĠCaucasian {'ĠSparks': 31, 'Ġminors': 30, 'ĠLoft': 29, 'ĠLash': 29, 'Ġindoors': 29, 'ĠFarmers': 28}\n",
      "depth {'ĠTsukuyomi': 31, 'Ġlivestream': 31, 'Ġbilingual': 29, 'Ġpragmatic': 28, 'Ġstewards': 28, 'Ġuninterrupted': 28}\n",
      "Ġmodular {'ĠSasuke': 31, 'ĠWarlock': 31, 'ĠEighth': 29, 'ĠZerg': 29, 'Ġgraveyard': 28, 'ĠWander': 27}\n",
      "Ġfanbase {'ĠHume': 32, 'Ġsquee': 29, 'ĠMiko': 29, 'ĠShattered': 29, 'ĠHeather': 28, 'ĠLynd': 28}\n",
      "yrights {'Ġpessim': 30, 'Ġunim': 29, 'Ġslashing': 29, 'Ġtempor': 29, 'Ġroaring': 28, 'Ġdoub': 28}\n",
      "Ġunanimous {'ĠLoft': 30, 'Ġstewards': 30, 'ĠSlack': 30, 'ĠRouse': 29, 'ĠPolk': 28, 'ĠMIA': 28}\n",
      "Ġuntil {'ĠShattered': 29, 'ĠEdison': 29, 'Susan': 29, 'Ġ1956': 29, 'ĠDick': 29, 'mbudsman': 29}\n",
      "Ġcarbohydrate {'Ġsnippets': 30, 'Ġoffspring': 29, 'ĠPlayboy': 29, 'Ġsituational': 29, 'Ġfantasies': 29, 'ĠFighters': 28}\n",
      "ĠChicken {'ĠWarlock': 31, 'ĠYPG': 30, 'ĠShard': 29, 'ĠKirin': 29, 'ĠLAR': 29, 'ĠLoren': 28}\n",
      "ĠWarhammer {'Ġseiz': 34, 'ĠCrusher': 32, 'ĠMalik': 29, 'ĠAllan': 28, 'ĠChatt': 28, 'ĠSach': 27}\n",
      "ĠArthur {'ĠHolt': 31, 'ĠSneak': 30, 'ĠXue': 28, 'ĠMcGee': 28, 'ĠQian': 28, 'ĠGreenwood': 28}\n",
      "Neill {'ĠHoover': 32, 'Ġsquee': 30, 'Ġlivestream': 28, 'Ġslug': 28, 'Ġmulticultural': 28, 'ĠHearthstone': 28}\n",
      "Ġbombs {'ĠShard': 31, 'ĠKira': 29, 'ĠMeng': 29, 'ĠShirley': 28, 'ĠTsukuyomi': 28, 'ĠLori': 28}\n",
      "ĠWinning {'ĠBoeing': 31, 'ĠChambers': 29, 'ĠBashar': 29, 'ĠDayton': 29, 'ĠFridays': 29, 'ĠASUS': 28}\n",
      "Ġhabitable {'ĠShard': 32, 'ĠLoft': 30, 'ĠKling': 30, 'ĠLaksh': 29, 'Ġsyll': 28, 'ĠSoph': 27}\n",
      "Ġterrestrial {'Ġoverweight': 29, 'Ġovershadowed': 29, 'Ġcrackdown': 29, 'ĠBadge': 29, 'Ġbadges': 28, 'Ġwhistle': 28}\n",
      "Ġmicrobiota {'Ġsquee': 30, 'Ġdisparity': 30, 'Ġscoff': 29, 'Ġdwelling': 28, 'ĠLoft': 28, 'ĠLever': 28}\n",
      "Ġfullback {'ĠLivingston': 32, 'Ġkale': 30, 'ĠGalileo': 30, 'Ġtempor': 28, 'ĠLaurel': 28, 'ĠFeldman': 28}\n",
      "Ġturnout {'Ġpessim': 33, 'Ġhaze': 30, 'Ġbree': 29, 'Ġoccult': 28, 'Ġpessimistic': 28, 'ĠMeng': 28}\n",
      "Ġintact {'ĠWerewolf': 34, 'Ġchimpanzees': 29, 'Ġprimates': 29, 'ĠLegions': 28, 'ĠMahjong': 28, 'ĠSubcommittee': 28}\n",
      "ĠArab {'Ġblessings': 31, 'Ġchuckled': 29, 'Ġdelusion': 29, 'ĠMiko': 29, 'ĠSparks': 28, 'ĠAndrea': 28}\n",
      "ĠPastebin {'ĠSlovenia': 30, 'ĠMahjong': 30, 'ĠGarr': 29, 'ĠMayhem': 28, 'Ġkale': 28, 'ĠScion': 28}\n",
      "ĠSalad {'ĠHowe': 30, 'ĠArmageddon': 29, 'ĠHulk': 29, 'ĠCarnage': 29, 'ĠGrimm': 28, 'ĠBlitz': 28}\n",
      "Warren {'ĠShard': 32, 'ĠQian': 30, 'ĠBale': 29, 'Ġ\"âĢ¦': 29, 'ĠHector': 28, 'ĠHolt': 28}\n",
      "osen {'Ġfilibuster': 34, 'Ġbilingual': 30, 'Ġhandcuffs': 29, 'Ġhandcuffed': 28, 'ĠTyphoon': 28, 'ĠTsukuyomi': 28}\n",
      "Ġdisadvant {'ĠLash': 31, 'ĠSpock': 31, 'Ġkale': 30, 'ĠPolk': 29, 'ĠLoft': 28, 'ĠWelch': 27}\n",
      "Ġroadmap {'Ġcompuls': 30, 'ĠFeldman': 29, 'Ġgrandchildren': 29, 'Ġpessim': 29, 'ĠSlovenia': 28, 'Ġhilar': 28}\n",
      "ĠBilly {'ĠShard': 30, 'ĠRosenstein': 29, 'ĠPolk': 29, 'ĠZub': 29, 'ĠWarlock': 28, 'ĠOlson': 28}\n",
      "restrial {'Ġcrushing': 29, 'Ġfleeting': 29, 'ĠHoover': 29, 'Ġstewards': 28, 'Ġuniformly': 28, 'ĠCrusher': 28}\n",
      "ĠSavage {'ĠGoff': 30, 'ĠLoft': 30, 'ĠPaige': 29, 'ĠMeier': 28, 'ĠMaul': 28, 'ĠAlert': 28}\n",
      "usercontent {'ĠGSL': 32, 'ĠKik': 29, 'ĠPlayboy': 29, 'ĠAFC': 28, 'Ġstorylines': 28, 'ĠWCS': 28}\n",
      "gran {'ĠMahmoud': 29, 'ĠCarnage': 29, 'ĠLoft': 29, 'ĠPanasonic': 28, 'ĠWarlock': 28, 'ĠRidley': 28}\n",
      "ARDIS {'Ġmislead': 30, 'Ġmockery': 29, 'Ġhandshake': 29, 'ĠHeck': 28, 'ĠChevron': 28, 'ĠSherman': 28}\n",
      "rogen {'Ġmilitias': 30, 'Ġunilaterally': 30, 'Ġmindfulness': 29, 'ĠDirectX': 28, 'Ġwhistlebl': 28, 'Ġcollateral': 27}\n",
      "Ġredevelopment {'ĠCanary': 31, 'ĠWarlock': 30, 'ĠScully': 29, 'ĠSonia': 29, 'ĠShepard': 28, 'ĠCanter': 28}\n",
      "estones {'Ġadvant': 33, 'Ġdiplom': 30, 'Ġhurd': 28, 'Ġhemor': 28, 'ĠNish': 28, 'Ġunman': 28}\n",
      "Ġanonymously {'Ġoverwhel': 32, 'Ġroaring': 29, 'Ġoverwhelmed': 29, 'Ġbitterness': 28, 'Ġdemoral': 28, 'Ġintrusive': 28}\n",
      "Ġenlight {'Ġcramped': 30, 'Ġmosaic': 29, 'ĠLivingston': 29, 'ĠNortheast': 29, 'ĠChambers': 28, 'Ġbilingual': 28}\n",
      "Ġsail {'Ġpessim': 34, 'Ġbilingual': 29, 'Ġnightmares': 29, 'ĠGillespie': 28, '-[': 28, 'ĠYiannopoulos': 27}\n",
      "Hidden {'ĠWarlock': 29, 'ĠGoddard': 29, 'ĠLindsay': 29, 'ĠRamsay': 29, 'ĠLoft': 28, 'ĠGSL': 28}\n",
      "ĠCurt {'ĠLaurel': 29, 'ĠSpears': 29, 'ĠKira': 29, 'ĠBowen': 29, 'ĠSith': 29, 'ĠSonia': 28}\n",
      "Ġunmanned {'ĠBots': 35, 'Ġblitz': 29, 'ĠSears': 28, 'ĠBlitz': 28, 'ĠLever': 28, 'ĠQuake': 27}\n",
      "Adam {'Ġ\"âĢ¦': 32, 'ĠFrey': 30, 'ĠNorris': 29, 'ĠHorde': 29, 'ĠSlay': 27, 'ĠZub': 27}\n",
      "Ġpotent {'ĠDemonic': 30, 'ĠLegions': 29, 'Ġceilings': 29, 'ĠMerlin': 28, 'Ġmountainous': 28, 'ĠYamaha': 28}\n",
      "ĠCorvette {'ĠAbram': 30, 'ĠLash': 30, 'ĠLords': 29, 'Ġhandshake': 29, 'ĠBots': 29, 'Ġheav': 28}\n",
      "bon {'ĠBashar': 30, 'ĠShattered': 29, 'Ġcowardly': 28, 'Ġsquee': 28, 'ĠRove': 28, 'Ġmetaphors': 28}\n",
      "ĠAshley {'ĠGork': 31, 'ĠYPG': 31, 'ĠKorra': 29, 'ĠWarlock': 28, 'ĠNemesis': 28, 'ĠHorde': 28}\n",
      "group {'Ġlame': 29, 'ĠShattered': 29, 'Ġfearful': 29, 'ĠHearthstone': 29, 'Ġmosa': 29, 'ĠMelee': 29}\n",
      "xual {'ĠYamaha': 29, 'ĠArmageddon': 29, 'Ġintimidating': 28, 'ĠHearthstone': 28, 'ĠRiverside': 28, 'ĠPortsmouth': 28}\n",
      "ĠYemen {'ĠMoonlight': 30, 'ĠChimera': 30, 'ĠShant': 29, 'Ġplutonium': 28, 'ĠBlitz': 28, 'Ġsquee': 28}\n",
      "ason {'ĠShattered': 30, 'Ġfleeting': 30, 'Ġcollateral': 29, 'Ġoutnumbered': 28, 'Ġunchecked': 28, 'Ġfireball': 28}\n",
      "ModLoader {'Ġkale': 30, 'Ġshaved': 30, 'ĠKling': 30, 'ĠHume': 28, 'ĠRhodes': 28, 'ĠPortsmouth': 28}\n",
      "essler {'Ġforeskin': 33, 'ĠAboriginal': 30, 'Ġbandwagon': 29, 'Ġgastrointestinal': 28, 'Ġlivestream': 28, 'Ġeyewitness': 28}\n",
      "umni {'ĠMIA': 34, 'Ġlandsl': 29, 'ĠClippers': 28, 'Ġbalk': 28, 'Ġmockery': 28, 'Ġflirt': 28}\n",
      "reditation {'ĠSprite': 31, 'ĠWorcester': 29, 'ĠSpock': 29, 'Ġsituational': 28, 'ĠSprint': 28, 'ĠLoft': 28}\n",
      "Ġtextbooks {'Ġpessim': 30, 'ĠOculus': 29, 'ĠLash': 29, 'Ġcrippled': 28, 'ĠFeldman': 28, 'ĠNeptune': 28}\n",
      "ĠHerod {'ĠXue': 29, 'Ġvib': 29, 'ĠYaz': 28, 'ĠYue': 28, 'ĠRohing': 28, 'ĠKling': 28}\n",
      "ĠSamoa {'ĠCloak': 30, 'ĠGoff': 29, '?\".': 29, '!\".': 29, '\".[': 29, \"'?\": 28}\n",
      "isSpecial {'ĠLash': 31, 'ĠKling': 30, 'ĠHDL': 30, 'ĠLug': 28, 'ĠGrimm': 28, 'ĠGoldberg': 28}\n",
      "ĠDoomsday {'ĠGall': 29, 'ĠCrusher': 28, 'ĠDickens': 28, 'ĠGupta': 28, 'ĠBale': 28, 'ĠKling': 28}\n",
      "uitous {'Ġfireball': 32, 'Ġsidelines': 29, 'Ġflickering': 29, 'Ġhandshake': 28, 'Ġmeasles': 28, 'Ġhelium': 27}\n",
      "ĠEtsy {'ĠShant': 32, 'ĠShard': 31, 'ĠGrimm': 31, 'ĠShim': 30, 'Ġsimulac': 27, 'ĠLuo': 26}\n",
      "roups {'Ġlame': 30, 'ĠYoshi': 29, 'ĠShattered': 29, 'Ġpessimistic': 29, 'Ġcooper': 29, 'ĠBMC': 28}\n",
      "ĠSimpsons {'ĠKling': 30, 'ĠSneak': 30, 'ĠWarlock': 29, 'ĠGSL': 28, 'Ġroaring': 28, 'Ġrushing': 28}\n",
      "isher {'ĠHearthstone': 29, 'Ġ358': 29, 'Ġ580': 29, 'Ġ660': 28, 'ĠSkype': 28, 'Ġ960': 28}\n",
      "Ġsad {'ĠLegions': 31, 'ĠTsukuyomi': 31, 'ĠWarlock': 29, 'ĠRyder': 29, 'ĠPanasonic': 28, 'ĠChimera': 27}\n",
      "ĠCinnamon {'Ġflashback': 29, 'Ġflashbacks': 29, 'ĠPrelude': 29, 'ĠRohing': 29, 'ĠYPG': 28, 'ĠFSA': 28}\n",
      "ĠHoney {'ĠWarlock': 31, 'ĠForbes': 29, 'Ġ\"âĢ¦': 29, 'ĠFnatic': 28, 'ĠClippers': 28, 'ĠASUS': 28}\n",
      "rogens {'ĠUSC': 30, 'Ġcowardly': 29, 'ĠSubaru': 29, 'Ġunilaterally': 28, 'Ġpolygamy': 28, 'Ġwhistle': 28}\n",
      "Mouse {'Ġbilingual': 32, 'Ġsemifinals': 31, 'ĠClippers': 29, 'ĠGSL': 28, 'ĠWarlock': 28, 'ĠLabyrinth': 27}\n",
      "Ġanonymous {'ĠTyphoon': 29, 'Ġsemifinals': 29, 'Ġmixer': 29, 'Ġfireball': 28, 'ĠFeld': 28, 'ĠHearth': 28}\n",
      "Ġpineapple {'ĠWarlock': 32, 'Ġwebcam': 31, 'ĠSass': 29, 'ĠSneak': 29, 'ĠSkype': 28, 'Ġfireball': 28}\n",
      "Ġabsentee {'Ġscoff': 29, 'æŃ¦': 29, 'ĠCarnage': 29, 'ĠZoom': 29, 'Ġwor': 29, 'Ġroam': 28}\n",
      "Ġguise {'Ġsandwic': 30, 'ĠBravo': 30, 'ĠMahjong': 29, 'ĠNorthwestern': 29, 'Ġridic': 28, 'ĠShattered': 27}\n",
      "ieft {'ĠMahjong': 31, 'Ġmulticultural': 29, 'ĠMcCull': 29, 'ĠBangl': 29, 'Ġsquee': 28, 'ĠOccupy': 27}\n",
      "Ġretweet {'ĠLivingston': 30, 'ĠErie': 30, 'ĠMahjong': 29, 'ĠLazarus': 29, 'ĠLyon': 28, 'ĠLancaster': 28}\n",
      "ĠKasich {'ĠSears': 29, 'Ġgrinning': 29, 'Ġflora': 29, 'ĠChambers': 29, 'Ġnursery': 28, 'Ġfireball': 28}\n",
      "Ġromantic {'Ġbadge': 30, 'Ġflashbacks': 29, 'Ġgrassroots': 29, 'Ġbadges': 28, 'Ġdwelling': 28, 'Ġdividends': 28}\n",
      "Ġhemorrh {'ĠSting': 31, 'ĠHorde': 30, 'ĠPaddock': 29, 'ĠCLSID': 28, 'Ġremix': 28, 'ĠSlayer': 27}\n",
      "Ġharvest {'ĠWarlock': 31, 'ĠSneak': 29, 'ĠQuint': 29, 'ĠFeldman': 28, 'ĠHuffPost': 28, 'ĠDemonic': 28}\n",
      "rahim {'ĠiCloud': 29, 'ĠHearthstone': 29, 'Ġclubhouse': 29, 'ĠGSL': 29, 'ĠLindsay': 28, 'ĠPaddock': 28}\n",
      "Ġrenewed {'ĠLatvia': 30, 'ĠLithuania': 30, 'ĠGalileo': 29, 'ĠLivingston': 29, 'ĠChambers': 28, 'ĠHalifax': 28}\n",
      "Ġmourning {'ĠLoft': 30, 'ĠLash': 30, 'Ġeaves': 28, 'Ġloopholes': 28, 'Ġpessim': 28, 'ĠLaksh': 28}\n",
      "olith {'Ġcollateral': 30, 'Ġnostalgia': 29, 'ĠBarber': 28, 'ĠWarlock': 28, 'Ġsleeves': 28, 'Ġretreating': 28}\n",
      "ĠDamien {'ĠYPG': 31, 'ĠOwen': 31, 'ĠGuang': 30, 'ĠHorde': 29, 'ĠHolt': 28, 'ĠFreeman': 27}\n",
      "upid {'ĠWarlock': 29, 'Ġ7000': 29, 'ĠEmerald': 29, 'ĠPortsmouth': 29, 'ĠWerewolf': 29, 'ĠMcKay': 28}\n",
      "Ġlonely {'Ġgimmick': 29, 'ĠCompton': 29, 'Ġpessim': 29, 'Ġrook': 29, 'ĠBlitz': 28, 'Ġfilibuster': 28}\n"
     ]
    }
   ],
   "source": [
    "show_topk.indices_fn = tokenizer.convert_ids_to_tokens\n",
    "ans1 = []\n",
    "for i in values.mean(1).topk(1000).indices.tolist():\n",
    "    ans = tokenizer.convert_ids_to_tokens(i), show_topk(values[i][:6].long(), indices[i][:6])\n",
    "#     ans1.append([ans,i])\n",
    "    print(tokenizer.convert_ids_to_tokens(i), show_topk(values[i][:6].long(), indices[i][:6]))"
   ]
  },
  {
   "cell_type": "code",
   "execution_count": 2082,
   "id": "b77e6029",
   "metadata": {},
   "outputs": [
    {
     "name": "stdout",
     "output_type": "stream",
     "text": [
      "Ġ1999\n"
     ]
    },
    {
     "data": {
      "text/plain": [
       "{'ï¿½': 4.999,\n",
       " 'Ġï¿½': 4.998,\n",
       " 'ĕ': 4.957,\n",
       " 'Ġ---': 4.874,\n",
       " 'Ġ03': 4.84,\n",
       " '---': 4.776,\n",
       " 'Ġtorn': 4.757,\n",
       " 'Ġ{{': 4.67,\n",
       " 'ĠTens': 4.661,\n",
       " 'Ġ193': 4.654,\n",
       " 'Ġ05': 4.601,\n",
       " 'Ġten': 4.567,\n",
       " 'âĦ¢:': 4.549,\n",
       " 'Ġ+---': 4.509,\n",
       " 'Ġ06': 4.509,\n",
       " 'ĠâĪĴ': 4.504,\n",
       " 'Ġ02': 4.486,\n",
       " 'orne': 4.482,\n",
       " 'Ġ\\\\\"': 4.466,\n",
       " 'Ġtransformative': 4.463}"
      ]
     },
     "execution_count": 2082,
     "metadata": {},
     "output_type": "execute_result"
    }
   ],
   "source": [
    "i = tokenizer.encode(' 1999')[0]; \n",
    "print(tokenizer.convert_ids_to_tokens(i))\n",
    "show_topk(*m[i].topk(20))"
   ]
  },
  {
   "cell_type": "code",
   "execution_count": null,
   "id": "45ed7510",
   "metadata": {},
   "outputs": [],
   "source": [
    "# ans1"
   ]
  },
  {
   "cell_type": "code",
   "execution_count": null,
   "id": "c168801f",
   "metadata": {},
   "outputs": [],
   "source": []
  },
  {
   "cell_type": "code",
   "execution_count": 9,
   "id": "052c1e0f",
   "metadata": {},
   "outputs": [],
   "source": [
    "prompt_token = 'Ġ!'; prompt_id = tokenizer._convert_token_to_id(prompt_token)\n",
    "bop_str = 'Instruction: '; bop_id = tokenizer.encode(bop_str)[0]  # 'Inst'\n",
    "eop_str = '. For example:'; eop_id = tokenizer.encode(eop_str)[2] # 'Ġexample'\n",
    "bos_id = tokenizer._convert_token_to_id('Ġ->')\n",
    "eos_id = tokenizer._convert_token_to_id('Ċ')\n",
    "\n",
    "\n",
    "class CHILDDataset(Dataset):\n",
    "    def __init__(self, input_strs, tokenizer):\n",
    "        if tokenizer.pad_token is None: tokenizer.pad_token = '!'\n",
    "        self.inputs = tokenizer.batch_encode_plus(input_strs, add_special_tokens=False, padding=True, return_tensors='pt')#长的截，短的补\n",
    "        input_ids = self.inputs.input_ids\n",
    "        self.labels = torch.ones_like(input_ids) * (-100)\n",
    "\n",
    "        for bi in range(input_ids.size(0)): \n",
    "            bop_idx = (input_ids[bi] == bop_id).nonzero().squeeze(1) #prompt\n",
    "            eop_idx = (input_ids[bi] == eop_id).nonzero().squeeze(1) #context\n",
    "\n",
    "            if len(bop_idx) > 0:\n",
    "                assert len(bop_idx) == 1 and len(eop_idx) == 1\n",
    "                bop_idx, eop_idx = bop_idx.item(), eop_idx.item() #取出单元素张量的元素值并返回该值，保持原元素类型不变\n",
    "                #bop: 0   eop:6\n",
    "                input_ids[bi, bop_idx: eop_idx + 2] *= -1  # use prompt embedding for prompt tokens\n",
    "  \n",
    "            bos_indices = (input_ids[bi] == bos_id).nonzero().squeeze(1)\n",
    "#             print(\"bos_indices:\",bos_indices)\n",
    "            eos_indices = (input_ids[bi] == eos_id).nonzero()[-len(bos_indices):].squeeze(1) #每一位 eos都比bos大2\n",
    "#             print(\"eos_indices:\",eos_indices)\n",
    "            for i, (bos_i, eos_i) in enumerate(zip(bos_indices.tolist(), eos_indices.tolist())):\n",
    "                assert eos_i > bos_i + 1\n",
    "                if i >= 0:  #zero-shot\n",
    "                    self.labels[bi, bos_i + 1: eos_i] = input_ids[bi, bos_i + 1: eos_i] \n",
    "        \n",
    "        \n",
    "    def re_input(self):\n",
    "        return self.inputs['input_ids']\n",
    "        \n",
    "    def __len__(self):\n",
    "        return len(self.inputs['input_ids'])\n",
    "\n",
    "    def __getitem__(self, i):\n",
    "        return {'input_ids': self.inputs['input_ids'][i],  #输入\n",
    "                'attention_mask': self.inputs['attention_mask'][i],\n",
    "                'labels': self.labels[i]}   #结果"
   ]
  },
  {
   "cell_type": "code",
   "execution_count": 10,
   "id": "2b322160",
   "metadata": {},
   "outputs": [
    {
     "data": {
      "text/plain": [
       "(4613, 198)"
      ]
     },
     "execution_count": 10,
     "metadata": {},
     "output_type": "execute_result"
    }
   ],
   "source": [
    "bos_id,eos_id"
   ]
  },
  {
   "cell_type": "code",
   "execution_count": 11,
   "id": "696ea332",
   "metadata": {},
   "outputs": [],
   "source": [
    "from child_utils import *\n",
    "torch.set_printoptions(threshold=np.inf)"
   ]
  },
  {
   "cell_type": "code",
   "execution_count": 12,
   "id": "56fcd441",
   "metadata": {},
   "outputs": [],
   "source": [
    "class WrappedEmbedding(nn.Module):\n",
    "    def __init__(self,  \n",
    "                wte: nn.Embedding,  #正常向量\n",
    "                prompt_id: int = None,\n",
    "                prompt_len: int = 10, \n",
    "                random_range: float = 0.5,\n",
    "                initialize_from_vocab: bool = True):\n",
    "        super(WrappedEmbedding, self).__init__()\n",
    "#         self.wte = wte\n",
    "#         self.prompt_id = prompt_id\n",
    "#         self.prompt_len = prompt_len\n",
    "        self.__dict__.update(locals()); del self.self #locals()以字典类型返回当前位置的全部局部变量\n",
    "        if self.prompt_id is not None: #prompt_embedding prompt词向量\n",
    "            self.prompt_embedding = nn.parameter.Parameter( #将一个不可训练的类型Tensor转换成可以训练的类型parameter\n",
    "                self.initialize_embedding(random_range, initialize_from_vocab)).to(self.wte.weight.device) #在-0.5-0.5中随机取值初始化\n",
    "        else:\n",
    "            self.prompt_embedding = nn.Embedding(self.prompt_len, self.wte.weight.size(1)).to(self.wte.weight.device)\n",
    "                                        #词典大小（总共输入多少词） 嵌入向量维度（多少维表示一个符号）\n",
    "            \n",
    "            assert initialize_from_vocab\n",
    "            self.init_prompt_embedding_()  #将wte的weight值作为初始化\n",
    "#             self.prompt_embedding.weight.data = self.initialize_embedding(random_range, initialize_from_vocab)     \n",
    " \n",
    "    def initialize_embedding(self, random_range: float = 0.5, initialize_from_vocab: bool = True):\n",
    "        if initialize_from_vocab: return self.wte.weight[:self.prompt_len].clone().detach() #返回一个新的tensor，新的tensor和原来的tensor共享数据内存，但不涉及梯度计算\n",
    "        return torch.FloatTensor(self.prompt_len, self.wte.weight.size(1)).uniform_(-random_range, random_range) #产生随机数\n",
    "    \n",
    "    def init_prompt_embedding_(self):\n",
    "#         print(self.wte.weight)\n",
    "        self.prompt_embedding.weight.data[:] = self.wte.weight[:self.prompt_len]\n",
    "\n",
    "        \n",
    "    def forward(self, input_ids):\n",
    "        if self.prompt_id is not None:\n",
    "            input_embeds = self.wte(input_ids)\n",
    "            input_embeds[input_ids == self.prompt_id] = self.prompt_embedding.expand(input_embeds.size(0), -1, -1)\n",
    "        else: # adapted from cpm-2\n",
    "            prompt_mask = input_ids < 0  #返回bool类型\n",
    "#             print(\"prompt_mask:\",prompt_mask.shape)\n",
    "            prompt_ids = -input_ids * prompt_mask #将prompt的值变为正数，其他置零\n",
    "#             print(\"prompt_ids:\",prompt_ids)\n",
    "#             print(prompt_ids < self.prompt_len)\n",
    "#             print(prompt_ids)\n",
    "            assert torch.all(prompt_ids < self.prompt_len)\n",
    "#             print(self.prompt_embedding(prompt_ids).shape)\n",
    "            p_embeds = self.prompt_embedding(prompt_ids) * prompt_mask.float().unsqueeze(-1)\n",
    "#             print(\"p_embeds:\",p_embeds.shape)\n",
    "            input_ids = input_ids * ~prompt_mask\n",
    "            w_embeds = self.wte(input_ids) * (~prompt_mask).float().unsqueeze(-1)\n",
    "#             print(\"w_embeds:\",w_embeds.shape)\n",
    "            input_embeds = w_embeds + p_embeds \n",
    "#         print(input_embeds)\n",
    "        return input_embeds"
   ]
  },
  {
   "cell_type": "code",
   "execution_count": 13,
   "id": "44b17b42",
   "metadata": {},
   "outputs": [],
   "source": [
    "# adapted from cpm-2: https://github.com/TsinghuaAI/CPM-2-Finetune/blob/master/utils.py#L133-L164    #不训练模型参数，只训练prompt_embading，这个函数是取这些参数\n",
    "def get_params_for_prompt_optimization(module: nn.Module): \n",
    "    params = []\n",
    "    for t in module.named_modules():\n",
    "        if \"prompt_embedding\" in t[0]:\n",
    "            params.append({'params': [p for p in list(t[1]._parameters.values()) if p is not None]})\n",
    "    for t in module.named_parameters():\n",
    "        if \"prompt\" not in t[0]:\n",
    "            t[1].requires_grad_(False)    \n",
    "    return params\n",
    "\n",
    "def create_optimizer(model, training_args):\n",
    "    from torch.nn.parallel.distributed import DistributedDataParallel as DDP\n",
    "    while isinstance(model, (DDP, )): model = model.module\n",
    "        \n",
    "    we.init_prompt_embedding_()\n",
    "    param_groups = get_params_for_prompt_optimization(model)\n",
    "    optimizer = AdamW(param_groups, lr=training_args.learning_rate, \n",
    "                      betas=(training_args.adam_beta1, training_args.adam_beta2),eps=training_args.adam_epsilon)\n",
    "    return optimizer"
   ]
  },
  {
   "cell_type": "code",
   "execution_count": 14,
   "id": "39b4f350",
   "metadata": {
    "scrolled": true
   },
   "outputs": [],
   "source": [
    "# wte = model.get_input_embeddings() #提取 embedding 中的 词向量部分\n",
    "# if hasattr(wte, 'wte'): wte = wte.wte  # already been wrapped\n",
    "# we = WrappedEmbedding(wte, prompt_len=20000)\n",
    "# model.set_input_embeddings(we) #为词向量赋值"
   ]
  },
  {
   "cell_type": "code",
   "execution_count": 15,
   "id": "ae3bb45f",
   "metadata": {},
   "outputs": [],
   "source": [
    "def verbalize(obj):\n",
    "    if type(obj) == bool: return 'Yes' if obj else 'No'\n",
    "    return str(obj)\n",
    "\n",
    "def list2str(l): return ' '.join(str(i) for i in l)\n",
    "def pairs2str(pairs): return ', '.join(str(k) + ': ' + str(v) for k, v in pairs)\n",
    "\n",
    "def make_context_str(cxt):\n",
    "    if type(cxt) == list:\n",
    "        return pairs2str(cxt) if type(cxt[0]) == tuple and len(cxt[0]) == 2 else list2str(cxt)\n",
    "    if type(cxt) == tuple:\n",
    "        return '; '.join(make_context_str(c) for c in cxt)  # 用分号分隔context的不同部分\n",
    "    \n",
    "def make_query_str(instruction, query):\n",
    "    if instruction is None and query is None: return ''\n",
    "    s = '.'\n",
    "    if instruction is not None: s = s + ' ' + instruction\n",
    "    if query is not None:\n",
    "        if type(query) in [int, bool, str]: query = [query]\n",
    "        if type(query) == dict:# and list(query.keys())[0] != \"CS\"):  # by nrk\n",
    "            s = s + ' ' + '{' + ','.join([' replace %s with %s' % (str(k), str(v)) for k, v in query.items()]) + ' }'\n",
    "        if type(query) in [list, tuple]:\n",
    "            s = s + ' ' + ' '.join([list2str(i) if type(i) == list else str(i) for i in query])\n",
    "    return s\n",
    "\n",
    "def make_example_str(example, query2str):\n",
    "    instruction, cxt, query, ans = example\n",
    "    if type(ans) not in [Sequence, list]: ans = [ans]\n",
    "    ans = [verbalize(a) for a in ans]\n",
    "#     return '%s -> %s' % (''.join(l[0]) + make_query_str(instruction if with_instruction else None, query), ' '.join(ans))  # by nrk\n",
    "#     return '%s -> %s' % (' '.join(l) + make_query_str(instruction if with_instruction else None, query), ' '.join(ans))  # by XD\n",
    "#     return '%s -> %s' % (make_context_str(cxt) + make_query_str(instruction if with_instruction else None, query[0]), ' '.join(ans))\n",
    "    return '%s -> %s' % (make_context_str(cxt) + query2str(query), ' '.join(ans))\n",
    "\n",
    "\n",
    "def sample_rand_len(vocab, k): return sample(vocab, k=randint(1, k))"
   ]
  },
  {
   "cell_type": "code",
   "execution_count": 27,
   "id": "df63ee7d",
   "metadata": {},
   "outputs": [],
   "source": [
    "def promptize(s):\n",
    "#     return prompt_token * len(s.split())\n",
    "    return bop_str + s + eop_str\n",
    "\n",
    "courses_vocab=[\"Sql\",\"Math\",\"English\",\"Chinese\",\"Art\",\"Music\",\"History\",\"Biology\",\"Chemistry\",\"Physics\",\"Geography\"]\n",
    "all_vocab = [\"apple\",\"pear\",\"peach\",\"grape\",\"banana\",\"pineapple\",\"lemon\",\"strawberry\",\"cola\",\"juice\",\"coffee\",\"milk\",\"wine\",\"beer\",\"whisky\",\"vodka\",\"brandy\"]\n",
    "solid_vocab=[\"apple\",\"pear\",\"peach\",\"grape\",\"banana\",\"pineapple\",\"lemon\",\"strawberry\"]\n",
    "liquid_vocab=[\"cola\",\"juice\",\"coffee\",\"milk\",\"wine\",\"beer\",\"whisky\",\"vodka\",\"brandy\"]\n",
    "names_vocab =  [i for i in string.ascii_uppercase]\n",
    "depts_vocab = [\"CS\",\"Chi\",\"Eng\",\"Mat\"]\n",
    "sl = [\"solid\"]*len(solid_vocab)+[\"liquid\"]*len(liquid_vocab)\n",
    "sl_vocab = dict(zip(all_vocab,sl))\n",
    "toys = [\"ball\",\"doll\",\"puppet\",\"weiqi\",\"chess\",\"slide\",\"diabolo\",\"plasticine\",\"tumbler\"]\n",
    "                                              #滑梯     空竹      橡皮泥      不倒翁\n",
    "boys = [\"Alex\",\"Dylan\",\"Daniel\",\"Patrick\",\"Austin\",\"Harrison\",\"Tom\",\"Neil\"]\n",
    "girls = [\"Ashley\",\"jessica\",\"Sarah\",\"Amanda\",\"Nicole\",\"Katherine\",\"Anne\",\"Eva\"]\n",
    "all = boys+girls\n",
    "bg = [\"boys\"]*len(boys)+[\"girls\"]*len(girls)\n",
    "bg_vocab = dict(zip(all,bg))\n",
    "\n",
    "all = solid_vocab+toys\n",
    "ft = [\"fruits\"]*len(solid_vocab)+[\"toys\"]*len(toys)\n",
    "ft_vocab = dict(zip(all,ft))\n",
    "\n",
    "def make_input_str(task, nrows=4, ncols=4, full_vocab=None, ans_vocab=[True, False]):\n",
    "    if full_vocab is None: full_vocab = string.ascii_uppercase + string.digits\n",
    "    transform_fn, vocab_fn, sample_fn, query_fn, query2str = task\n",
    "    instruction = transform_fn.__name__.replace('_', ' ')\n",
    "    if vocab_fn is None: vocab_fn = lambda: full_vocab\n",
    "    if query_fn is None: query_fn = lambda *_: None\n",
    "        \n",
    "    examples = []\n",
    "    query = None\n",
    "    for i in range(nrows):\n",
    "        vocab = vocab_fn()\n",
    "        l = sample_fn(vocab, k=ncols)\n",
    "        query = query_fn(l, vocab, ncols)\n",
    "        examples.append([instruction, l, query, transform_fn(l, query=query)])\n",
    "#     examples = balance(examples,ans_vocab)\n",
    "\n",
    "    desc = promptize(instruction) if True else ''\n",
    "    text = '\\n'.join([make_example_str(e, query2str) for e in examples])\n",
    "    text = desc + '\\n' + text + '\\n'\n",
    "    return text"
   ]
  },
  {
   "cell_type": "code",
   "execution_count": 17,
   "id": "bd0c286b",
   "metadata": {},
   "outputs": [],
   "source": [
    "# # def balance(examples, ans_vocab=[True, False]):\n",
    "# def balance1(examples, ans_vocab):\n",
    "#     groups = seq(examples).group_by(_[-1]).map(_[1])  # 按ans分组\n",
    "# #     assert groups.len() == len(ans_vocab), '%d < %d' % (groups.len(), len(ans_vocab))  # 保证每种ans都出现\n",
    "#     min_cnt = groups.map(lambda x: len(x)).min()\n",
    "#     examples = groups.map(lambda x: sample(x, min_cnt)).flatten().list() # 每组都采样最小个数后去分组\n",
    "#     return sample(examples, len(examples))  # 重新打乱"
   ]
  },
  {
   "cell_type": "code",
   "execution_count": 18,
   "id": "2d664342",
   "metadata": {},
   "outputs": [],
   "source": [
    "def balance(examples, ans_vocab):\n",
    "    groups = seq(examples).group_by(_[-1]).map(_[1])  # 按ans分组\n",
    "#     min_cnt = groups.map(lambda x: len(x)).min()\n",
    "    min_cnt =3\n",
    "    if(groups.len()>3):\n",
    "        min_cnt = 3\n",
    "    elif(groups.len()==3):\n",
    "        min_cnt = 3\n",
    "    if(min_cnt > 2):\n",
    "        examples = groups.map(lambda x: sample(x, 3)).flatten().list() # 每组都采样最小个数后去分组\n",
    "        return sample(examples, len(examples))  # 重新打乱\n",
    "    else:\n",
    "        examples = groups.map(lambda x: sample(x, min_cnt)).flatten().list() # 每组都采样最小个数后去分组\n",
    "        return sample(examples, len(examples))  # 重新打乱"
   ]
  },
  {
   "cell_type": "code",
   "execution_count": 19,
   "id": "ab80cfd2",
   "metadata": {},
   "outputs": [],
   "source": [
    "import itertools  \n",
    "def Do_all_students_choose_courses_in_a_department(cxt, query):\n",
    "    SC, CD = cxt  # SC paris: studeng-course relation, CD pairs: course-department function\n",
    "    ss, d = query  # ss: 学生子集（可以*不止两个学生*），d: 课程\n",
    "#     return seq(ss).map(lambda s: seq(SC).filter(_[0] == s).map(_[1]).intersection(CD.filter(_.[1] == d).map(_.[0])).non_empty()).all()\n",
    "    return (seq(ss)\n",
    "            .map(lambda s: seq(SC).filter(_[0] == s).map(_[1])  # 学生s选的所有课程\n",
    "                 .intersection(\n",
    "                     seq(CD).filter(_[1] == d).map(_[0])) # d系的课程\n",
    "                 .non_empty())  # s选了d系的课程\n",
    "            .all())  # 学生子集ss都选了d系的课程\n",
    "\n",
    "def all_a_sample(vocab, k):\n",
    "    S_vocab, C_vocab, D_vocab = vocab  # vocabs of students, courses, departments\n",
    "    k_S, k_C, k_D, k_SC = k  # default values: k_S = 3, k_C = 3, k_D = 2, k_SC = 5\n",
    "    S, C, D = sample(S_vocab, k_S), sample(C_vocab, k_C), sample(D_vocab, k_D)\n",
    "    \n",
    "    while len(set(CD := choices(D, k=k_C))) < k_D: continue  # ds里每个系的课都要出现\n",
    "    CD = list(zip(C, CD))  # 得到每门课所属的系\n",
    "    \n",
    "    all_SC = list(itertools.product(S, C))  # or seq(S).cartesian(C).list()\n",
    "    while seq(SC := sample(all_SC, k_SC)).map(_[0]).distinct().len() < k_S: continue  # ss里每个学生都要选课\n",
    "    return SC, CD\n",
    "\n",
    "def select_distinct(tuples, col): return seq(tuples).map(_[col]).distinct().list()\n",
    "    \n",
    "def all_a_query(cxt,vocab,k):\n",
    "    SC, CD = cxt\n",
    "    k_S, k_C, k_D, k_SC = k\n",
    "    S, D = select_distinct(SC, 0), select_distinct(CD, 1)\n",
    "#     k_ss = randint(2, len(S))\n",
    "    ss = sample(S, 2)\n",
    "    d = choice(D)\n",
    "    return ss, d\n",
    "\n",
    "def all_a_query2str(query):\n",
    "    ss, d = query\n",
    "    query_str = '%s,%s?' % (', '.join(ss[:-1]) + ' and ' + ss[-1], d)\n",
    "    return '. ' + query_str\n"
   ]
  },
  {
   "cell_type": "code",
   "execution_count": 20,
   "id": "b8103db3",
   "metadata": {},
   "outputs": [],
   "source": [
    "def all_b(cxt, query):\n",
    "    SC, CD = cxt\n",
    "    ss,d = query\n",
    "    return (seq(CD).filter(_[1] == d).map(_[0])\n",
    "                 .difference(\n",
    "                     seq(SC).filter(_[0] == ss).map(_[1]))\n",
    "                 .empty())\n",
    "\n",
    "def all_b_sample(vocab, k):\n",
    "    S_vocab, C_vocab, D_vocab = vocab  \n",
    "    k_S, k_C, k_D, k_SC = k  # default values: k_S = 2, k_C = 3, k_D = 2, k_SC = 5\n",
    "    S, C, D = sample(S_vocab, k_S), sample(C_vocab, k_C), sample(D_vocab, k_D)\n",
    "    \n",
    "    while len(set(CD := choices(D, k=k_C))) < k_D: continue  \n",
    "    CD = list(zip(C, CD)) \n",
    "    \n",
    "    all_SC = list(itertools.product(S, C))  \n",
    "    while seq(SC := sample(all_SC, k_SC)).map(_[0]).distinct().len() < k_S: continue  # ss里每个学生都要选课\n",
    "    return SC, CD\n",
    "   \n",
    "def all_b_query(cxt,vocab,k):  # XD: 不要给qeury_fn加st参数\n",
    "    SC, CD = cxt\n",
    "    k_S, k_C, k_D, k_SC = k\n",
    "    S, D = select_distinct(SC, 0), select_distinct(CD, 1)\n",
    "#     k_ss = randint(2, len(S))  # XD: k_ss unused\n",
    "    ss = choice(S)\n",
    "    d = choice(D)\n",
    "    return ss, d\n",
    "    # XD: 不要在query_fn里转str！！这里转str，transform_fn里再解析回来，两边不是白折腾吗！\n",
    "\n",
    "def all_b_query2str(query):\n",
    "    ss, d = query\n",
    "    query_str = 'Does %s take all %s courses?' % (ss, d)\n",
    "    return '. ' + query_str\n",
    "\n",
    "\n",
    "def Is_the_intersection_of_two_sets_empty(cxt, query):\n",
    "    SC= cxt\n",
    "    s,d = query\n",
    "    return (seq(SC).filter(_[0] == s).map(_[1])\n",
    "                 .intersection(\n",
    "                     seq(SC).filter(_[0] == d).map(_[1]))\n",
    "                 .non_empty())\n",
    "\n",
    "def intersection_query(cxt,vocab,k):\n",
    "    SC= cxt\n",
    "    k_S, k_C, k_SC = k #k_s = 3, k_C = 5 , k_sc = 6\n",
    "    S = select_distinct(SC, 0)\n",
    "    s,d = sample(S,2)\n",
    "    return s, d\n",
    "\n",
    "def intersection_query2str(query):\n",
    "    s, d = query\n",
    "    query_str = \"%s,%s?\" % (s, d)\n",
    "    return '. ' + query_str\n",
    "\n",
    "def intersection_sample(vocab, k):\n",
    "    S_vocab, C_vocab = vocab  \n",
    "    k_S, k_C, k_SC = k  # k_S = 3, k_C = 5, , k_SC = 6\n",
    "    S, C= sample(S_vocab, k_S), sample(C_vocab, k_C)\n",
    "    all_SC = list(itertools.product(S, C))  \n",
    "    while seq(SC := sample(all_SC, k_SC)).map(_[0]).distinct().len() < k_S: continue \n",
    "    return SC\n",
    "\n",
    "def Is_the_first_set_a_subset_of_the_second_one(cxt, query):\n",
    "    SC= cxt\n",
    "    s,d = query\n",
    "    return (seq(SC).filter(_[0] == d).map(_[1])\n",
    "                 .union(\n",
    "                     seq(SC).filter(_[0] == s).map(_[1]))\n",
    "                 ).distinct().len()== seq(SC).filter(_[0] == d).map(_[1]).distinct().len()\n",
    "\n",
    "def complement_query(cxt,vocab,k):\n",
    "    SC= cxt\n",
    "    k_S, k_C, k_SC = k #k_s = 3, k_C = 5 , k_sc = 6\n",
    "    S = select_distinct(SC, 0)\n",
    "    s,d = sample(S,2)\n",
    "    return s, d\n",
    "\n",
    "def complement_query2str(query):\n",
    "    s, d = query\n",
    "    query_str = \"%s,%s?\" % (s, d)\n",
    "    return '. ' + query_str\n",
    "\n",
    "def complement_sample(vocab, k):\n",
    "    S_vocab, C_vocab = vocab  \n",
    "    k_S, k_C, k_SC = k  # k_S = 3, k_C = 4, k_SC = 5\n",
    "    S, C= sample(S_vocab, k_S), sample(C_vocab, k_C)\n",
    "    all_SC = list(itertools.product(S, C))  \n",
    "    while seq(SC := sample(all_SC, k_SC)).map(_[0]).distinct().len() < k_S: continue \n",
    "    return SC\n",
    "\n",
    "def Are_they_the_union_of_the_last_element(cxt, query):\n",
    "    SC, DC = cxt\n",
    "    ss,d = query\n",
    "    return (seq(ss)\n",
    "            .map(lambda s: seq(SC).filter(_[0] == s).map(_[1]) \n",
    "                 .union(\n",
    "                     seq(DC).filter(_[0] == d).map(_[1])) \n",
    "                 .distinct().len() == seq(DC).filter(_[0] == d).map(_[1]).distinct().len())  \n",
    "            .all()) \n",
    "\n",
    "def union_sample(vocab, k):\n",
    "    S_vocab, C_vocab, D_vocab = vocab  \n",
    "    k_S, k_C, k_D, k_SC = k  # k_S = 3, k_C = 4, k_D = 2, k_SC = 6\n",
    "    S, C, D = sample(S_vocab, k_S), sample(C_vocab, k_C), sample(D_vocab, k_D)\n",
    "    \n",
    "    while len(set(DC := choices(D, k=k_C))) < k_D: continue  \n",
    "    DC = list(zip(DC,C)) \n",
    "    \n",
    "    all_SC = list(itertools.product(S, C))  \n",
    "    while seq(SC := sample(all_SC, k_SC)).map(_[0]).distinct().len() < k_S: continue  \n",
    "    return SC, DC\n",
    "   \n",
    "def union_query(cxt,vocab,k): \n",
    "    SC, DC = cxt\n",
    "    k_S, k_C, k_D, k_SC = k\n",
    "    S, D = select_distinct(SC, 0), select_distinct(DC, 0)\n",
    "    k_ss = randint(2, len(S))\n",
    "    ss = sample(S, k_ss)\n",
    "    d = choice(D)\n",
    "    return ss, d\n",
    "\n",
    "def union_query2str(query):\n",
    "    ss, d = query\n",
    "    query_str = '%s,%s?' % (', '.join(ss[:-1]) + ' and ' + ss[-1], d)\n",
    "    return '. ' + query_str\n",
    "\n",
    "def Are_there_elements_belonging_to_the_same_class(cxt, query): #新建联系，把vocab和属性连起来形成新集合\n",
    "    NA, DA = cxt\n",
    "    s,d = query\n",
    "    D = seq(DA).filter(_[0] == d).map(_[1])\n",
    "    return (seq(NA).filter(_[0] == s).map(_[1]).select(lambda x: sl_vocab[x] == sl_vocab[D[0]]).any())\n",
    "      \n",
    "    \n",
    "def find_sample(vocab, k): \n",
    "    name_vocab, all_vocab = vocab\n",
    "    k_name, k_all, k_D, k_SA = k  # k_name = 3, k_all = 4, k_D = 2, k_SA = 6\n",
    "    S = list(all_vocab.keys())\n",
    "    N, A, D = sample(name_vocab, k_name), sample(S, k_all), sample(string.ascii_lowercase, k_D)\n",
    "#     D = sample(d := name_vocab.pop(name_vocab.index(a) for a in N),k_D)\n",
    "    A1 = sample(S, k_D)\n",
    "    DA = list(zip(D,A1)) \n",
    "    \n",
    "    all_NA = list(itertools.product(N, A))  \n",
    "    while seq(NA := sample(all_NA, k_SA)).map(_[0]).distinct().len() < k_name: continue  \n",
    "    return NA, DA\n",
    "   \n",
    "def find_query(cxt,vocab,k): \n",
    "    NA, DA = cxt\n",
    "    k_name, k_all, k_D, k_SA = k\n",
    "    S,D = select_distinct(NA, 0), select_distinct(DA, 0)\n",
    "    s,d = choice(S), choice(D)\n",
    "    return s, d\n",
    "\n",
    "def find_query2str(query):\n",
    "    s, d = query\n",
    "    query_str = '%s,%s?' % (s, d)\n",
    "    return '. ' + query_str\n",
    "\n",
    "\n",
    "def Are_there_any_elements_different_from_other_elements(cxt, query):\n",
    "    NA = cxt\n",
    "    ss = query\n",
    "    return (seq(ss).map(lambda s: seq(NA).filter(_[0] == s).map(_[1])\n",
    "                        .select(lambda x: sl_vocab[x])[0])\n",
    "            .distinct().len( ) == 2)\n",
    "               \n",
    "def find_dif_sample(vocab, k):\n",
    "    name_vocab, all_vocab = vocab\n",
    "    k_name, k_all, k_SA = k  # k_name = 4, k_all = 4, k_SA= 3\n",
    "    N, A = sample(name_vocab, k_name), sample(list(all_vocab.keys()), k_all) \n",
    "    NA = list(zip(N,A)) \n",
    "    return NA\n",
    "   \n",
    "def find_dif_query(cxt,vocab,k): \n",
    "    NA = cxt\n",
    "    k_name, k_all, k_NA = k\n",
    "    S = select_distinct(NA, 0)\n",
    "    ss = sample(S,k_NA)\n",
    "    return ss\n",
    "\n",
    "\n",
    "def find_dif_query2str(query):\n",
    "    ss = query\n",
    "    query_str = '%s?' % (', '.join(ss[:-1]) + ' and ' + ss[-1])\n",
    "    return '. ' + query_str\n",
    "\n"
   ]
  },
  {
   "cell_type": "code",
   "execution_count": 21,
   "id": "464efbec",
   "metadata": {},
   "outputs": [],
   "source": [
    "def How_many_elements_are_similar_to_the_case(cxt, query):\n",
    "    s = cxt\n",
    "    q = query\n",
    "    return seq(s).filter(lambda x: sl_vocab[x] == sl_vocab[q[0]]).len()\n",
    "                     \n",
    "def count_sample(vocab, k):\n",
    "    all_vocab = vocab\n",
    "    k_cxt,k_query = k  # k_cxt = 4 ,k_query =1\n",
    "    N = list(all_vocab.keys())\n",
    "    s = sample(N, k_cxt) \n",
    "    return s\n",
    "   \n",
    "def count_query(cxt,vocab,k): \n",
    "    NA = cxt\n",
    "    k_cxt,k_query = k\n",
    "    N = list(vocab.keys())\n",
    "    q = sample(N,k_query)\n",
    "    return q\n",
    "\n",
    "def count_query2str(query):\n",
    "    q = query\n",
    "    query_str = '%s?' % (q[0])\n",
    "    return '. ' + query_str\n",
    "\n",
    "def Is_the_number_of_first_elements_greater_than_the_second_one(cxt, query):\n",
    "    s = cxt\n",
    "    q = query\n",
    "    return (seq(s).filter(lambda x: sl_vocab[x] == sl_vocab[q[0]]).len() >= len(s)/2)\n",
    "                     \n",
    "def compare_sample(vocab, k):\n",
    "    all_vocab,s_vocab,l_vocab = vocab\n",
    "    k_cxt,k_query = k  # k_cxt = 5 ,k_query =2\n",
    "    N = list(all_vocab.keys())\n",
    "    s = sample(N, k_cxt) \n",
    "    return s\n",
    "   \n",
    "def compare_query(cxt,vocab,k): \n",
    "    NA = cxt\n",
    "    all_vocab,s_vocab,l_vocab = vocab\n",
    "    k_cxt,k_query = k\n",
    "    q = sample(s_vocab,1)+sample(l_vocab,1)\n",
    "    random.shuffle(q)\n",
    "    return q\n",
    "\n",
    "def compare_query2str(query):\n",
    "    ss,q = query\n",
    "    query_str = '%s,%s?' % (ss,q)\n",
    "    return '. ' + query_str"
   ]
  },
  {
   "cell_type": "code",
   "execution_count": 22,
   "id": "62aee837",
   "metadata": {},
   "outputs": [],
   "source": [
    "def Ascii_size_existence(l, query): return seq(l).map(_[0] > query).any()\n",
    "def Ascii_size_all(l, query): return seq(l).map(_[0] > query).all()\n",
    "def Ascii_size_None(l, query): return seq(l).filter(_[0] > query).empty()\n",
    "def ith_element(l, query=None): return seq(l).slice(1, 2)\n",
    "def ith_group(l, query=None): return seq(l).group_by(_).select(_[1]).slice(1, 2).flatten()#.distinct()# davinci F w/ and wo dist\n",
    "# def element_at_index(l, query): return seq(l).slice(query, query + 1) # davinci F\n",
    "def element_at_index(l, query): return seq(l).enumerate().filter(_[0] == query).select(_[1])\n",
    "def replace(l, query): return seq(l).map(lambda x: query.get(x, x))\n",
    "def replace_with_the_other(l, query): # davinci F\n",
    "    query = {k: (set(l) - {k}).pop() for k in l}\n",
    "    return replace(l, query)\n",
    "def replace_all_with(l, query): return seq(l).map(lambda x: query)  # davinci F?!\n",
    "def interleave_with(l, query): return seq(l).flat_map(lambda x: [x, query])  # davinci T!!\n",
    "def unique_elements(l, query=None): return seq(l).distinct() # davinci F\n",
    "def how_many_unique_elements(l, query=None): return seq(l).distinct().len()  # davinci F\n",
    "def how_many(l, query): return seq(l).filter(_ == query).len() # davinci F\n",
    "def select_same_as(l, query): return seq(l).filter(_ == query) # simpler version of how_many. davinci F\n",
    "def select_same_number_as(l, query): return seq(l).group_by(_).select(_[1]).filter(lambda x: len(x) == len(query)).flatten() # F\n",
    "def includes(l, query): return seq(l).union(seq(query)).distinct().len() == seq(l).distinct().len() # davinci F\n",
    "def is_included_by(l, query): return seq(l).difference(seq(query)).empty() # davinci F"
   ]
  },
  {
   "cell_type": "code",
   "execution_count": 23,
   "id": "388dd77e",
   "metadata": {},
   "outputs": [],
   "source": [
    "def Compare_the_values_of_two_sets(cxt, query):\n",
    "    s = cxt\n",
    "    q = query\n",
    "    if(seq(s).filter(lambda x: sl_vocab[x] == sl_vocab[q[0]]).len() > len(s)/2):\n",
    "        return \">\"\n",
    "    elif(seq(s).filter(lambda x: sl_vocab[x] == sl_vocab[q[0]]).len() < len(s)/2):\n",
    "        return \"<\"\n",
    "    else:\n",
    "        return \"=\"\n",
    "\n",
    "def Compare_sample(vocab, k):\n",
    "    all_vocab,s_vocab,l_vocab = vocab\n",
    "    k_cxt,k_query = k  # k_cxt = 5 ,k_query =2\n",
    "    N = list(all_vocab.keys())\n",
    "    s = sample(N, k_cxt) \n",
    "    return s\n",
    "   \n",
    "def Compare_query(cxt,vocab,k): \n",
    "    NA = cxt\n",
    "    all_vocab,s_vocab,l_vocab = vocab\n",
    "    k_cxt,k_query = k\n",
    "    q = sample(s_vocab,1)+sample(l_vocab,1)\n",
    "    random.shuffle(q)\n",
    "    return q\n",
    "\n",
    "def Compare_query2str(query):\n",
    "    ss,q = query\n",
    "    query_str = '%s,%s?' % (ss,q)\n",
    "    return '. ' + query_str"
   ]
  },
  {
   "cell_type": "code",
   "execution_count": 24,
   "id": "48028352",
   "metadata": {},
   "outputs": [],
   "source": [
    "def Relationship_between_two_sets(cxt, query): #新建联系，把vocab和属性连起来形成新集合\n",
    "    NA = cxt\n",
    "    s,q= query   #s:boys/girls  q:fruits/toys\n",
    "    name = seq(NA).filter(lambda x: bg_vocab[x[0]] == s)\n",
    "    if(seq(name).map(_[1]).filter(lambda x: ft_vocab[x] == q).len() == seq(name).len()):\n",
    "        return \"all\"\n",
    "    elif(seq(name).map(_[1]).filter(lambda x: ft_vocab[x] == q).empty()):\n",
    "        return \"none\"\n",
    "    else:\n",
    "        return \"some\"\n",
    "    \n",
    "def Relationship_sample(vocab, k): \n",
    "    name_vocab, all_vocab = vocab\n",
    "    k_name, k_all, k_SA = k  # k_name = 4, k_all = 4, k_SA = 4\n",
    "    Name = list(name_vocab.keys())\n",
    "    S = list(all_vocab.keys())\n",
    "    N, A = sample(Name, k_name), sample(S, k_all)\n",
    "#     D = sample(d := name_vocab.pop(name_vocab.index(a) for a in N),k_D)\n",
    "    \n",
    "    all_NA = list(itertools.product(N, A))  \n",
    "    while seq(NA := sample(all_NA, k_SA)).map(_[0]).distinct().len() < k_name: continue  \n",
    "    return NA\n",
    "   \n",
    "def Relationship_query(cxt,vocab,k): \n",
    "    NA = cxt\n",
    "    name_vocab, all_vocab = vocab\n",
    "    k_name, k_all, k_SA = k\n",
    "    S,D = select_distinct(NA, 0),select_distinct(NA, 1)\n",
    "    s,d = choice(S),choice(D)\n",
    "    s1,d1 = name_vocab[s],all_vocab[d]\n",
    "    return s1,d1\n",
    "\n",
    "def Relationship_query2str(query):\n",
    "    s,q = query\n",
    "    query_str = '[] %s have %s. [all / some / none]?' % (s,q)\n",
    "    return '. ' + query_str"
   ]
  },
  {
   "cell_type": "code",
   "execution_count": 25,
   "id": "f199b53d",
   "metadata": {},
   "outputs": [],
   "source": [
    "tasks = [\n",
    "    (ith_element,            None,                               sample,    None,None),\n",
    "    (ith_group,              None, lambda vocab, k: seq(sample(vocab, k)).map(lambda x:[x]*randint(1, 3)).flatten().list(),None,None),\n",
    "    (element_at_index,       lambda: upper_letters,              sample,    lambda l,vocab,k: randint(0, min(2,len(l)-1))),\n",
    "    (replace,                None,                               sample,    lambda l,vocab,k: {choice(l): choice(vocab)}),\n",
    "    (replace_with_the_other, lambda: sample(full_vocab, 2),   lambda vocab,k: sample(vocab+choices(vocab, k=k-2),k), None),\n",
    "    (replace_all_with,       None,                               sample_rand_len, lambda l,vocab,k: choice(vocab)),\n",
    "    (interleave_with,        None,                               sample_rand_len, lambda l,vocab,k: choice(vocab)),\n",
    "    (unique_elements,        lambda: sample(upper_letters, 3),   choices,   None),\n",
    "    (how_many_unique_elements,lambda: sample(upper_letters, 3),  choices,   None),\n",
    "    (how_many,               lambda: sample(upper_letters, 3),   choices,   lambda l,vocab,k: choice(list(set(l)))),\n",
    "    (select_same_as,         lambda: sample(upper_letters, 3),   choices,   lambda l,vocab,k: choice(list(set(l)))),\n",
    "    (select_same_number_as,  None, lambda vocab, k: seq(sample(vocab, k)).map(lambda x:[x]*randint(1, 3)).flatten().list(),   \n",
    "     lambda l,vocab,k: [choice(vocab)]*randint(1, 3)),\n",
    "    (includes,               lambda: sample(upper_letters, 6),   sample,    lambda l,vocab,k: sample(vocab, 3)),\n",
    "    (is_included_by,         lambda: sample(upper_letters, 6),   sample,    lambda l,vocab,k: sample(vocab, 5)),\n",
    "    \n",
    "    (Ascii_size_None,        lambda: string.ascii_uppercase,              sample,    lambda l,vocab,k: \"Is there no element greater than %s?\" % choice(list(set(l)))),\n",
    "    (Ascii_size_all,         lambda: string.ascii_uppercase,              sample,    lambda l,vocab,k: \"Are all elements greater than %s?\" % choice(list(set(l)))),\n",
    "    (Ascii_size_existence,   lambda: string.ascii_uppercase,              sample,    lambda l,vocab,k: \"Is there an element greater than %s?\" % choice(list(set(l)))),\n",
    "    \n",
    "#     (all_a,                  lambda: [names_vocab,courses_vocab,depts_vocab],     all_a_sample,    all_a_query, all_a_query2str),\n",
    "    (Do_all_students_choose_courses_in_a_department,    lambda: [names_vocab,courses_vocab,depts_vocab],     all_a_sample,    all_a_query, all_a_query2str),\n",
    "    (Compare_the_values_of_two_sets,  lambda: [sl_vocab,solid_vocab,liquid_vocab],  Compare_sample,    Compare_query, Compare_query2str),\n",
    "    (Relationship_between_two_sets,   lambda: [bg_vocab,ft_vocab],               Relationship_sample,    Relationship_query, Relationship_query2str),\n",
    "    (Is_the_intersection_of_two_sets_empty,           lambda: [string.ascii_uppercase,string.ascii_lowercase],     intersection_sample,    intersection_query, intersection_query2str),\n",
    "    (Is_the_first_set_a_subset_of_the_second_one,           lambda: [string.ascii_uppercase,string.ascii_lowercase],     complement_sample,    complement_query, complement_query2str),\n",
    "    (Are_they_the_union_of_the_last_element,                lambda: [string.ascii_uppercase,string.ascii_lowercase,depts_vocab],     union_sample,    union_query, union_query2str),\n",
    "    (Are_there_elements_belonging_to_the_same_class,            lambda: [string.ascii_uppercase,sl_vocab],      find_sample,    find_query, find_query2str ),\n",
    "    (Are_there_any_elements_different_from_other_elements,          lambda: [string.ascii_uppercase,sl_vocab],      find_dif_sample,  find_dif_query, find_dif_query2str ),\n",
    "    (How_many_elements_are_similar_to_the_case,                lambda: sl_vocab,                                      count_sample,            count_query,count_query2str),\n",
    "    (Is_the_number_of_first_elements_greater_than_the_second_one,              lambda: [sl_vocab,solid_vocab,liquid_vocab],          compare_sample,            compare_query,compare_query2str),\n",
    "]"
   ]
  },
  {
   "cell_type": "code",
   "execution_count": 1365,
   "id": "105e915f",
   "metadata": {},
   "outputs": [],
   "source": [
    "# print(make_input_str(tasks[-8], nrows=30, ncols=(4, 4, 4))) "
   ]
  },
  {
   "cell_type": "code",
   "execution_count": 664,
   "id": "91683062",
   "metadata": {},
   "outputs": [],
   "source": [
    "# print(make_input_str(tasks[-9], nrows=8, ncols=(4,2))) #比较，query中给了两个元素（固体、液体），\n",
    "                                                        #若前一个元素的类型数目大于后一个，就输出YES"
   ]
  },
  {
   "cell_type": "code",
   "execution_count": 665,
   "id": "dc45005f",
   "metadata": {},
   "outputs": [],
   "source": [
    "# print(make_input_str(tasks[-9], nrows=80, ncols=(2, 3, 2, 5))) "
   ]
  },
  {
   "cell_type": "code",
   "execution_count": 460,
   "id": "e98e87d7",
   "metadata": {},
   "outputs": [
    {
     "name": "stdout",
     "output_type": "stream",
     "text": [
      "Instruction: Are there any elements different from other elements. For example:\n",
      "M: beer, N: pear, B: milk, G: peach. N, B and G? -> Yes\n",
      "F: juice, P: cola, E: coffee, G: pineapple. F, P and E? -> No\n",
      "U: grape, C: whisky, Z: juice, T: beer. Z, C and T? -> No\n",
      "H: whisky, R: apple, L: strawberry, O: brandy. R, L and O? -> Yes\n",
      "V: juice, W: brandy, P: coffee, O: banana. O, W and P? -> Yes\n",
      "H: banana, J: pineapple, E: coffee, G: grape. H, G and J? -> No\n",
      "\n"
     ]
    }
   ],
   "source": [
    "print(make_input_str(tasks[-3], nrows=80, ncols=(4,4,3))) "
   ]
  },
  {
   "cell_type": "code",
   "execution_count": 462,
   "id": "6fb4988c",
   "metadata": {},
   "outputs": [
    {
     "name": "stdout",
     "output_type": "stream",
     "text": [
      "Instruction: Are there elements belonging to the same class. For example:\n",
      "P: banana, P: brandy, I: brandy, U: peach; v: grape, b: wine. I,b? -> Yes\n",
      "K: whisky, P: apple, K: cola, L: apple; v: whisky, a: strawberry. K,a? -> No\n",
      "R: pear, R: cola, E: strawberry, M: cola; q: pear, h: vodka. E,h? -> No\n",
      "N: pineapple, Z: pineapple, C: coffee, C: juice; p: lemon, j: milk. N,p? -> Yes\n",
      "E: beer, J: milk, I: peach, I: beer; j: peach, n: banana. E,j? -> No\n",
      "R: grape, P: grape, P: juice, N: grape; k: milk, n: vodka. P,k? -> Yes\n",
      "\n"
     ]
    }
   ],
   "source": [
    "print(make_input_str(tasks[-4], nrows=100, ncols=(3,4,2,4)))  #找相同"
   ]
  },
  {
   "cell_type": "code",
   "execution_count": 668,
   "id": "f4070da5",
   "metadata": {},
   "outputs": [],
   "source": [
    "# print(make_input_str(tasks[-1], nrows=8, ncols=(5,2))) #比较，query中给了两个元素（固体、液体），\n",
    "                                                        #若前一个元素的类型数目大于后一个，就输出YES"
   ]
  },
  {
   "cell_type": "code",
   "execution_count": 669,
   "id": "4f3668d5",
   "metadata": {},
   "outputs": [],
   "source": [
    "# print(make_input_str(tasks[-2], nrows=30, ncols=(3,1), ans_vocab=[0,1,2,3]))    #数数，数cxt中与query中元素同类的个数\n",
    "                                                                                  #这里修改了balance函数"
   ]
  },
  {
   "cell_type": "code",
   "execution_count": 670,
   "id": "db442a52",
   "metadata": {},
   "outputs": [],
   "source": [
    "# print(make_input_str(tasks[-5], nrows=10, ncols=(3,4,2,4)))"
   ]
  },
  {
   "cell_type": "code",
   "execution_count": 671,
   "id": "eadf0bd9",
   "metadata": {},
   "outputs": [],
   "source": [
    "# print(make_input_str(tasks[-6], nrows=18, ncols=(3,11,5))) "
   ]
  },
  {
   "cell_type": "code",
   "execution_count": 672,
   "id": "c8c59a5b",
   "metadata": {},
   "outputs": [],
   "source": [
    "# print(make_input_str(tasks[-7], nrows=4, ncols=(3,4,5)))"
   ]
  },
  {
   "cell_type": "code",
   "execution_count": 1377,
   "id": "c3df9c68",
   "metadata": {},
   "outputs": [
    {
     "name": "stdout",
     "output_type": "stream",
     "text": [
      "Instruction: Do all students choose courses in a department. For example:\n",
      "L: Geography, L: English, B: Chemistry, L: Chemistry, Z: Chemistry; English: Eng, Geography: Eng, Chemistry: Mat. B and L,Eng? -> No\n",
      "J: History, O: Art, O: History, J: Math, D: History; History: CS, Art: Mat, Math: Mat. D and O,CS? -> Yes\n",
      "Z: Sql, Z: Music, P: Chemistry, P: Sql, T: Music; Sql: Eng, Music: Eng, Chemistry: Chi. P and Z,Chi? -> No\n",
      "J: Chinese, J: Music, U: Music, J: Sql, H: Chinese; Chinese: CS, Sql: Eng, Music: Eng. J and H,CS? -> Yes\n",
      "\n"
     ]
    }
   ],
   "source": [
    "# print(make_input_str(tasks[-10], nrows=100, ncols=(3, 3, 2, 5))) "
   ]
  },
  {
   "cell_type": "code",
   "execution_count": 674,
   "id": "06d90c77",
   "metadata": {},
   "outputs": [],
   "source": [
    "# print(make_input_str(tasks[-2], nrows=8, ncols=4))"
   ]
  },
  {
   "cell_type": "code",
   "execution_count": 675,
   "id": "3185653b",
   "metadata": {},
   "outputs": [],
   "source": [
    "# if n_total == 1:\n",
    "#     inputs = tokenizer.encode_plus(text, return_tensors='pt')\n",
    "#     inputs = prepare_inputs(inputs, model.device)\n",
    "#     outputs = model(**inputs, output_attentions=False)\n",
    "\n",
    "#     # assert inputs.input_ids.size(0) == 1\n",
    "#     input_ids = inputs.input_ids\n",
    "#     logits = outputs.logits\n",
    "\n",
    "#     bsz = input_ids.size(0); assert bsz == 1\n",
    "#     labels = torch.ones_like(input_ids) * (-100)\n",
    "#     for bi in range(bsz):\n",
    "#         bos_indices = (input_ids[bi] == bos_id).nonzero().squeeze(1)\n",
    "#         eos_indices = (input_ids[bi] == eos_id).nonzero()[-nrows:].squeeze(1)\n",
    "#         for i, (example, bos_i, eos_i) in enumerate(zip(examples, bos_indices.tolist(), eos_indices.tolist())):\n",
    "#             print(' ' + make_example_str(example))\n",
    "#             ans_ids = input_ids[bi, bos_i + 1: eos_i]\n",
    "#             if i >= 2: labels[bi, bos_i: eos_i - 1] = ans_ids\n",
    "#             ans_prob_dist = logits[bi, bos_i: eos_i - 1].softmax(-1)\n",
    "#             ans_probs = ans_prob_dist[torch.arange(ans_prob_dist.size(0)), ans_ids]\n",
    "#             ans_tokens = tokenizer.convert_ids_to_tokens(ans_ids)\n",
    "#             for ans_id, ans_token, ans_prob, dist in zip(ans_ids, ans_tokens, numpy(ans_probs, decimals=3), ans_prob_dist):\n",
    "#                 top1_correct = (dist.argmax() == ans_id).item()\n",
    "#                 print(('*' if top1_correct else ' ') + ans_token, ans_prob, \n",
    "#                       show_topk(*dist.topk(5), indices_fn=tokenizer.convert_ids_to_tokens)) \n",
    "#     loss = nn.CrossEntropyLoss()(logits.view(-1, logits.size(-1)), labels.view(-1))\n",
    "#     loss"
   ]
  },
  {
   "cell_type": "code",
   "execution_count": 676,
   "id": "6b5d2b45",
   "metadata": {},
   "outputs": [],
   "source": [
    "# tokenizer.convert_ids_to_tokens(617)"
   ]
  },
  {
   "cell_type": "code",
   "execution_count": 677,
   "id": "f7d6edbc",
   "metadata": {},
   "outputs": [],
   "source": [
    "# sum(s.count('Yes') for s in input_strs)\n",
    "# sum(s.count('No') for s in input_strs)\n",
    "# sum(s.count('all') for s in input_strs)\n",
    "# sum(s.count('none') for s in input_strs)\n",
    "# sum(s.count('some') for s in input_strs)\n",
    "# sum(s.count('3') for s in input_strs)"
   ]
  },
  {
   "cell_type": "code",
   "execution_count": 187,
   "id": "d64330f3",
   "metadata": {
    "scrolled": true
   },
   "outputs": [],
   "source": [
    "# [e['input_ids'] for e in train_dataset]"
   ]
  },
  {
   "cell_type": "code",
   "execution_count": 140,
   "id": "ee181c24",
   "metadata": {},
   "outputs": [],
   "source": [
    "# tokenizer.convert_ids_to_tokens(([e['input_ids'] for e in train_dataset][0]).numpy().tolist())"
   ]
  },
  {
   "cell_type": "code",
   "execution_count": 141,
   "id": "4ff9a2be",
   "metadata": {
    "scrolled": true
   },
   "outputs": [],
   "source": [
    "# print(eval_dataset.labels)"
   ]
  },
  {
   "cell_type": "code",
   "execution_count": null,
   "id": "c759bca1",
   "metadata": {},
   "outputs": [],
   "source": []
  },
  {
   "cell_type": "markdown",
   "id": "5f588b59",
   "metadata": {},
   "source": [
    "# 请从这里开始,肖老师"
   ]
  },
  {
   "cell_type": "code",
   "execution_count": 297,
   "id": "17373019",
   "metadata": {
    "scrolled": true
   },
   "outputs": [
    {
     "name": "stdout",
     "output_type": "stream",
     "text": [
      "Instruction: Relationship between two sets. For example:\n",
      "Daniel: lemon, Ashley: grape, Amanda: grape, Harrison: pear. [] boys have fruits. [all / some / none]? -> all\n",
      "\n",
      "Instruction: Relationship between two sets. For example:\n",
      "Sarah: lemon, Alex: peach, Harrison: grape, Eva: plasticine. [] boys have toys. [all / some / none]? -> none\n",
      "\n"
     ]
    }
   ],
   "source": [
    "# n_total, n_valid = 500, 100  #全部数目，测试数目\n",
    "# n_total, n_valid = 800, 200\n",
    "n_total, n_valid = 180, 30\n",
    "# n_total, n_valid =4,2\n",
    "n_train = n_total - n_valid\n",
    "# input_strs = [make_input_str(tasks[-7], nrows=1, ncols=(3,4,5)) for __ in range(n_total)]# Is the intersection of two sets empty.\n",
    "# input_strs = [make_input_str(tasks[-3], nrows=1, ncols=(4,4,3)) for __ in range(n_total)]# Are there any elements different from other elements\n",
    "# input_strs = [make_input_str(tasks[-4], nrows=1, ncols=(3,4,2,4)) for __ in range(n_total)]# Are_there_elements_belonging_to_the_same_class\n",
    "# input_strs = [make_input_str(tasks[-1], nrows=1, ncols=(5,2)) for __ in range(n_total)]#Is_the_number_of_first_elements_greater_than_the_second_one\n",
    "# input_strs = [make_input_str(tasks[-2], nrows=1, ncols=(3,1), ans_vocab=[0,1,2,3]) for __ in range(n_total)] #How_many_elements_are_similar_to_the_example\n",
    "# input_strs = [make_input_str(tasks[-5], nrows=1, ncols=(3,4,2,4)) for __ in range(n_total)] #Are_they_the_union_of_the_last_element\n",
    "# input_strs = [make_input_str(tasks[-6], nrows=1, ncols=(3,11,5)) for __ in range(n_total)]#Is the first set a subset of the second one\n",
    "# input_strs = [make_input_str(tasks[-10], nrows=1, ncols=(3, 3, 2, 5)) for __ in range(n_total)]\n",
    "# input_strs = [make_input_str(tasks[-9], nrows=1, ncols=(4,2)) for __ in range(n_total)] #Compare the values of two sets.\n",
    "input_strs = [make_input_str(tasks[-8], nrows=1, ncols=(4, 4, 4)) for __ in range(n_total)] #Relationship between two sets.\n",
    "\n",
    "for s in sample(input_strs, 2): print(s)\n",
    "# print(input_strs)"
   ]
  },
  {
   "cell_type": "code",
   "execution_count": 113,
   "id": "58f1d494",
   "metadata": {},
   "outputs": [],
   "source": [
    "# s,end = input_strs[0].index(\":\"),input_strs[0].index(\"For\")\n",
    "# name = input_strs[0][s+2:end]\n",
    "# import json\n",
    "# filename = './nrk/'+name\n",
    "# with open(filename,\"w\") as file_obj:\n",
    "#     json.dump(input_strs,file_obj)"
   ]
  },
  {
   "cell_type": "code",
   "execution_count": 311,
   "id": "2e64ee95",
   "metadata": {},
   "outputs": [
    {
     "name": "stdout",
     "output_type": "stream",
     "text": [
      "Instruction: Is this sentence correct. For example:\n",
      "A is less difficult to carry than B because A is smaller. Is that right? -> Yes\n",
      "\n",
      "Instruction: Is this sentence correct. For example:\n",
      "A is more dangerous to look at than B because A is less luminous. Is that right? -> No\n",
      "\n"
     ]
    }
   ],
   "source": [
    "for s in sample(text, 2): print(s)\n",
    "n_total, n_valid = 180, 30\n",
    "n_train = n_total - n_valid\n",
    "text = text[:180]"
   ]
  },
  {
   "cell_type": "code",
   "execution_count": 323,
   "id": "e2f80b74",
   "metadata": {},
   "outputs": [
    {
     "name": "stderr",
     "output_type": "stream",
     "text": [
      "Using pad_token, but it is not set yet.\n"
     ]
    }
   ],
   "source": [
    "# train_dataset = CHILDDataset(input_strs[:-n_valid], tokenizer)\n",
    "# eval_dataset = CHILDDataset(input_strs[-n_valid:], tokenizer)\n",
    "train_dataset = CHILDDataset(text[:-n_valid], tokenizer)\n",
    "eval_dataset = CHILDDataset(text[-n_valid:], tokenizer)"
   ]
  },
  {
   "cell_type": "code",
   "execution_count": 324,
   "id": "82ad27d7",
   "metadata": {},
   "outputs": [],
   "source": [
    "wte = model.get_input_embeddings() #提取 embedding 中的 词向量部分\n",
    "if hasattr(wte, 'wte'): wte = wte.wte  # already been wrapped\n",
    "we = WrappedEmbedding(wte, prompt_len=40000)\n",
    "model.set_input_embeddings(we) #为词向量赋值"
   ]
  },
  {
   "cell_type": "code",
   "execution_count": 325,
   "id": "416bbc0f",
   "metadata": {},
   "outputs": [],
   "source": [
    "def compute_metrics(pred):\n",
    "    labels = []\n",
    "    bos_indices = []\n",
    "    eos_indices = []\n",
    "    preds = []\n",
    "    m = nn.Softmax(dim = -1)\n",
    "    labels_loc = pred.label_ids.argmax(-1)\n",
    "    for i in range(len(labels_loc)):\n",
    "        labels.append(pred.label_ids[i][labels_loc[i]])\n",
    "                                                                                 #     arraypre = pred.predictions[0] # 6B\n",
    "    arraypre = pred.predictions                                                                              # 1.3B\n",
    "    predss = arraypre.argmax(-1)\n",
    "    num = \"\"\n",
    "   \n",
    "    for bi in range(predss.shape[0]):\n",
    "        num = labels_loc[bi]\n",
    "        preds.append(predss[bi, num-1:num]) \n",
    "        t = torch.from_numpy(pred.predictions[bi,num-1:num])                        #1.3B\n",
    "                                                                                    #         t = torch.from_numpy(pred.predictions[0][bi,num-1:num])  #6B\n",
    "        n = m(t)\n",
    "        ids = torch.topk(n,3)[1].numpy().tolist()                                              #ids   /[0] 概率\n",
    "        loc = torch.topk(n,3)[0].numpy().tolist()\n",
    "                                                                                                 #         print(ids)\n",
    "        ids = tokenizer.convert_ids_to_tokens(ids[0])\n",
    "        loc = [float('{:.4f}'.format(i)) for i in loc[0]]\n",
    "        precision = [i+\" : \"+str(j) for i,j in zip(ids,loc)]\n",
    "    acc = accuracy_score(labels, list(preds))    \n",
    "    return {\n",
    "        'accuracy': acc,\n",
    "        'precision': precision,\n",
    "    }\n"
   ]
  },
  {
   "cell_type": "code",
   "execution_count": 326,
   "id": "d34fd7d4",
   "metadata": {},
   "outputs": [
    {
     "data": {
      "text/plain": [
       "tensor([-100, -100, -100, -100, -100, -100, -100, -100, -100, -100, -100, -100,\n",
       "        -100, -100, -100, -100, -100, -100, -100, -100, -100, -100, -100, -100,\n",
       "        -100, -100, -100, -100, -100, -100, -100, 3363, -100, -100, -100, -100,\n",
       "        -100, -100])"
      ]
     },
     "execution_count": 326,
     "metadata": {},
     "output_type": "execute_result"
    }
   ],
   "source": [
    "eval_dataset[0]['labels']"
   ]
  },
  {
   "cell_type": "code",
   "execution_count": 316,
   "id": "eb7bf973",
   "metadata": {},
   "outputs": [],
   "source": [
    "# def compute_metrics(pred):\n",
    "#     labels = []\n",
    "#     bos_indices = []\n",
    "#     preds = []\n",
    "#     labels_loc = pred.label_ids.argmax(-1)\n",
    "#     for i in range(len(labels_loc)):\n",
    "#         labels.append(pred.label_ids[i][labels_loc[i]])\n",
    "# #     print(labels)\n",
    "#     arraypre = pred.predictions[0] # 6B\n",
    "# # #     arraypre = pred.predictions # 1.3B\n",
    "#     print(arraypre)\n",
    "#     predss = arraypre.argmax(-1)\n",
    "#     sent = tokenizer.convert_ids_to_tokens(predss[0])\n",
    "#     sent1 = \" \".join(sent)\n",
    "#     sent1=sent1.replace(\"Ġ\",\"\")\n",
    "#     sent1=sent1.replace(\"Ċ\",\"\\n\")\n",
    "#     print(sent1)\n",
    "#     for bi in range(predss.shape[0]):\n",
    "#         for j in range(predss.shape[1]):\n",
    "#             if(predss[bi][j] == bos_id):\n",
    "#                 bos_indices.append(j)\n",
    "#         bos_i = bos_indices[-1]\n",
    "#         preds.append(predss[bi, bos_i + 1:bos_i + 2])\n",
    "    \n",
    "#     acc = accuracy_score(labels, list(preds))\n",
    "#     return {\n",
    "# #         'accuracy': acc,\n",
    "#     }\n"
   ]
  },
  {
   "cell_type": "code",
   "execution_count": 327,
   "id": "6ebf074a",
   "metadata": {
    "scrolled": true
   },
   "outputs": [
    {
     "name": "stderr",
     "output_type": "stream",
     "text": [
      "PyTorch: setting up devices\n"
     ]
    }
   ],
   "source": [
    "training_args = TrainingArguments(output_dir=\"./models/model_name\",                                                             #模型预测和检查点的输出目录\n",
    "    overwrite_output_dir=True, do_train=True, do_eval=True, do_predict=True, \n",
    "    per_device_train_batch_size=1, per_device_eval_batch_size=1,                                                  #每个GPU / TPU内核/ CPU的批处理大小\n",
    "    gradient_accumulation_steps=6,eval_steps=5, \n",
    "    weight_decay=0.001, adam_beta2=0.98, adam_epsilon=1e-6,                                      #weight_decay要应用的权重衰减,adam_epsilon AdamW优化器的ε超参数\n",
    "    lr_scheduler_type='constant', learning_rate=0.001, num_train_epochs=5,                                  #learning_rate:Adam初始学习率\n",
    "    logging_strategy ='epoch',  save_steps=0,                                             #save_steps保存两个检查点之前的更新步骤数\n",
    "    no_cuda=True, report_to='none',                                                         # to avoid report to wandb\n",
    "    evaluation_strategy ='steps',\n",
    "#     evaluation_strategy ='epoch'\n",
    ")"
   ]
  },
  {
   "cell_type": "code",
   "execution_count": 328,
   "id": "ff25273c",
   "metadata": {},
   "outputs": [],
   "source": [
    "# with open(filename,\"a\") as f:\n",
    "#         f.write(str(training_args))"
   ]
  },
  {
   "cell_type": "code",
   "execution_count": 329,
   "id": "d89c7d7b",
   "metadata": {},
   "outputs": [
    {
     "name": "stderr",
     "output_type": "stream",
     "text": [
      "/nas/xd/projects/transformers/src/transformers/optimization.py:306: FutureWarning: This implementation of AdamW is deprecated and will be removed in a future version. Use the PyTorch implementation torch.optim.AdamW instead, or set `no_deprecation_warning=True` to disable this warning\n",
      "  warnings.warn(\n"
     ]
    }
   ],
   "source": [
    "trainer = Trainer(model, training_args, train_dataset=train_dataset, eval_dataset=eval_dataset,compute_metrics=compute_metrics,\n",
    "                  optimizers=(create_optimizer(model, training_args), None))"
   ]
  },
  {
   "cell_type": "code",
   "execution_count": 330,
   "id": "0aa95c7d",
   "metadata": {},
   "outputs": [
    {
     "name": "stderr",
     "output_type": "stream",
     "text": [
      "***** Running Evaluation *****\n",
      "  Num examples = 30\n",
      "  Batch size = 1\n"
     ]
    },
    {
     "data": {
      "text/html": [
       "\n",
       "    <div>\n",
       "      \n",
       "      <progress value='60' max='30' style='width:300px; height:20px; vertical-align: middle;'></progress>\n",
       "      [30/30 01:58]\n",
       "    </div>\n",
       "    "
      ],
      "text/plain": [
       "<IPython.core.display.HTML object>"
      ]
     },
     "metadata": {},
     "output_type": "display_data"
    },
    {
     "data": {
      "text/plain": [
       "{'eval_loss': 3.5578513145446777,\n",
       " 'eval_accuracy': 0.0,\n",
       " 'eval_precision': ['ĠA : 0.1883', 'ĠIs : 0.059', 'ĠB : 0.0472'],\n",
       " 'eval_runtime': 9.2024,\n",
       " 'eval_samples_per_second': 3.26,\n",
       " 'eval_steps_per_second': 3.26}"
      ]
     },
     "execution_count": 330,
     "metadata": {},
     "output_type": "execute_result"
    }
   ],
   "source": [
    "trainer.evaluate()"
   ]
  },
  {
   "cell_type": "code",
   "execution_count": 331,
   "id": "c5b8d21d",
   "metadata": {
    "scrolled": false
   },
   "outputs": [
    {
     "name": "stderr",
     "output_type": "stream",
     "text": [
      "***** Running training *****\n",
      "  Num examples = 150\n",
      "  Num Epochs = 5\n",
      "  Instantaneous batch size per device = 1\n",
      "  Total train batch size (w. parallel, distributed & accumulation) = 1\n",
      "  Gradient Accumulation steps = 1\n",
      "  Total optimization steps = 750\n"
     ]
    },
    {
     "data": {
      "text/html": [
       "\n",
       "    <div>\n",
       "      \n",
       "      <progress value='750' max='750' style='width:300px; height:20px; vertical-align: middle;'></progress>\n",
       "      [750/750 09:14, Epoch 5/5]\n",
       "    </div>\n",
       "    <table border=\"1\" class=\"dataframe\">\n",
       "  <thead>\n",
       " <tr style=\"text-align: left;\">\n",
       "      <th>Epoch</th>\n",
       "      <th>Training Loss</th>\n",
       "      <th>Validation Loss</th>\n",
       "      <th>Accuracy</th>\n",
       "      <th>Precision</th>\n",
       "    </tr>\n",
       "  </thead>\n",
       "  <tbody>\n",
       "    <tr>\n",
       "      <td>1</td>\n",
       "      <td>1.616900</td>\n",
       "      <td>1.304838</td>\n",
       "      <td>0.566667</td>\n",
       "      <td>['ĠYes : 0.6459', 'ĠNo : 0.1877', 'Ġ[ : 0.0194']</td>\n",
       "    </tr>\n",
       "    <tr>\n",
       "      <td>2</td>\n",
       "      <td>2.889400</td>\n",
       "      <td>13.196543</td>\n",
       "      <td>0.000000</td>\n",
       "      <td>['ĊĊ : 0.1545', 'Ċ : 0.1327', '\\\\ : 0.0873']</td>\n",
       "    </tr>\n",
       "    <tr>\n",
       "      <td>3</td>\n",
       "      <td>10.558700</td>\n",
       "      <td>12.672831</td>\n",
       "      <td>0.000000</td>\n",
       "      <td>['Ġthe : 0.1758', 'Ġof : 0.0498', '- : 0.0434']</td>\n",
       "    </tr>\n",
       "    <tr>\n",
       "      <td>4</td>\n",
       "      <td>9.712600</td>\n",
       "      <td>9.770533</td>\n",
       "      <td>0.000000</td>\n",
       "      <td>['Ġ : 0.273', 'Ġthe : 0.0731', 'Ġlike : 0.035']</td>\n",
       "    </tr>\n",
       "    <tr>\n",
       "      <td>5</td>\n",
       "      <td>4.668000</td>\n",
       "      <td>2.120934</td>\n",
       "      <td>0.433333</td>\n",
       "      <td>['ĠNo : 0.1628', 'ĠYes : 0.1345', 'Ġthe : 0.0488']</td>\n",
       "    </tr>\n",
       "  </tbody>\n",
       "</table><p>"
      ],
      "text/plain": [
       "<IPython.core.display.HTML object>"
      ]
     },
     "metadata": {},
     "output_type": "display_data"
    },
    {
     "name": "stderr",
     "output_type": "stream",
     "text": [
      "***** Running Evaluation *****\n",
      "  Num examples = 30\n",
      "  Batch size = 1\n",
      "***** Running Evaluation *****\n",
      "  Num examples = 30\n",
      "  Batch size = 1\n",
      "***** Running Evaluation *****\n",
      "  Num examples = 30\n",
      "  Batch size = 1\n",
      "***** Running Evaluation *****\n",
      "  Num examples = 30\n",
      "  Batch size = 1\n",
      "***** Running Evaluation *****\n",
      "  Num examples = 30\n",
      "  Batch size = 1\n",
      "\n",
      "\n",
      "Training completed. Do not forget to share your model on huggingface.co/models =)\n",
      "\n",
      "\n"
     ]
    },
    {
     "data": {
      "text/plain": [
       "TrainOutput(global_step=750, training_loss=5.889138916015625, metrics={'train_runtime': 554.7103, 'train_samples_per_second': 1.352, 'train_steps_per_second': 1.352, 'total_flos': 224246237184000.0, 'train_loss': 5.889138916015625, 'epoch': 5.0})"
      ]
     },
     "execution_count": 331,
     "metadata": {},
     "output_type": "execute_result"
    }
   ],
   "source": [
    "trainer.train()"
   ]
  },
  {
   "cell_type": "code",
   "execution_count": 76,
   "id": "90777ed1",
   "metadata": {},
   "outputs": [
    {
     "name": "stderr",
     "output_type": "stream",
     "text": [
      "***** Running Prediction *****\n",
      "  Num examples = 10\n",
      "  Batch size = 1\n"
     ]
    },
    {
     "data": {
      "text/html": [
       "\n",
       "    <div>\n",
       "      \n",
       "      <progress value='10' max='10' style='width:300px; height:20px; vertical-align: middle;'></progress>\n",
       "      [10/10 00:02]\n",
       "    </div>\n",
       "    "
      ],
      "text/plain": [
       "<IPython.core.display.HTML object>"
      ]
     },
     "metadata": {},
     "output_type": "display_data"
    },
    {
     "name": "stdout",
     "output_type": "stream",
     "text": [
      "{'test_loss': 0.735599160194397, 'test_accuracy': 0.5, 'test_precision': ['ĠYes : 0.6578', 'ĠNo : 0.3009', 'Ġyes : 0.0071'], 'test_runtime': 3.1062, 'test_samples_per_second': 3.219, 'test_steps_per_second': 3.219}\n"
     ]
    }
   ],
   "source": [
    "test_dataset = CHILDDataset(text[:10], tokenizer)\n",
    "a = trainer.predict(test_dataset) #此处新生成了测试集\n",
    "print(a.metrics)"
   ]
  },
  {
   "cell_type": "code",
   "execution_count": 101,
   "id": "8d29120e",
   "metadata": {},
   "outputs": [
    {
     "name": "stderr",
     "output_type": "stream",
     "text": [
      "***** Running Prediction *****\n",
      "  Num examples = 30\n",
      "  Batch size = 1\n"
     ]
    },
    {
     "name": "stdout",
     "output_type": "stream",
     "text": [
      "{'test_loss': 0.0003098619054071605, 'test_accuracy': 1.0, 'test_precision': ['ĠNo : 0.9999', 'No : 0.0', 'Ġ : 0.0'], 'test_runtime': 50.5283, 'test_samples_per_second': 0.594, 'test_steps_per_second': 0.594}\n"
     ]
    }
   ],
   "source": [
    "# input_strs = [make_input_str(tasks[-7], nrows=100, ncols=(3,4,5)) for __ in range(30)]# Is the intersection of two sets empty.\n",
    "# input_strs = [make_input_str(tasks[-3], nrows=100, ncols=(4,4,3)) for __ in range(30)]# Are there any elements different from other elements\n",
    "# input_strs = [make_input_str(tasks[-4], nrows=100, ncols=(3,4,2,4)) for __ in range(30)]# Are_there_elements_belonging_to_the_same_class\n",
    "# input_strs = [make_input_str(tasks[-1], nrows=120, ncols=(5,2)) for __ in range(30)]#Is_the_number_of_first_elements_greater_than_the_second_one\n",
    "# input_strs = [make_input_str(tasks[-2], nrows=80, ncols=(3,1), ans_vocab=[0,1,2,3]) for __ in range(30)] #How_many_elements_are_similar_to_the_example\n",
    "# input_strs = [make_input_str(tasks[-5], nrows=100, ncols=(3,4,2,4)) for __ in range(30)] #Are_they_the_union_of_the_last_element\n",
    "# input_strs = [make_input_str(tasks[-6], nrows=100, ncols=(3,11,5)) for __ in range(30)]#Is the first set a subset of the second one\n",
    "# input_strs = [make_input_str(tasks[-10], nrows=100, ncols=(3, 3, 2, 5)) for __ in range(30)]\n",
    "# input_strs = [make_input_str(tasks[-9], nrows=100, ncols=(4,2)) for __ in range(30)] #Compare the values of two sets.\n",
    "# input_strs = [make_input_str(tasks[-8], nrows=100, ncols=(4, 4, 4)) for __ in range(30)] #Relationship between two sets.\n",
    "test_dataset = CHILDDataset(input_strs[:], tokenizer)\n",
    "a = trainer.predict(test_dataset) #此处新生成了测试集\n",
    "print(a.metrics)"
   ]
  },
  {
   "cell_type": "code",
   "execution_count": null,
   "id": "56d1961b",
   "metadata": {},
   "outputs": [],
   "source": []
  },
  {
   "cell_type": "code",
   "execution_count": null,
   "id": "d7ef98c4",
   "metadata": {},
   "outputs": [],
   "source": []
  },
  {
   "cell_type": "code",
   "execution_count": null,
   "id": "eedb8237",
   "metadata": {},
   "outputs": [],
   "source": []
  },
  {
   "cell_type": "code",
   "execution_count": null,
   "id": "4622d39d",
   "metadata": {},
   "outputs": [],
   "source": []
  },
  {
   "cell_type": "code",
   "execution_count": null,
   "id": "a194cd0d",
   "metadata": {},
   "outputs": [],
   "source": []
  },
  {
   "cell_type": "code",
   "execution_count": null,
   "id": "9afa17cf",
   "metadata": {},
   "outputs": [],
   "source": []
  },
  {
   "cell_type": "code",
   "execution_count": null,
   "id": "b8e6b876",
   "metadata": {},
   "outputs": [],
   "source": []
  },
  {
   "cell_type": "code",
   "execution_count": 81,
   "id": "b37a9874",
   "metadata": {},
   "outputs": [
    {
     "data": {
      "text/plain": [
       "True"
      ]
     },
     "execution_count": 81,
     "metadata": {},
     "output_type": "execute_result"
    }
   ],
   "source": [
    "trainer.place_model_on_device"
   ]
  },
  {
   "cell_type": "code",
   "execution_count": 82,
   "id": "9b4b3eca",
   "metadata": {},
   "outputs": [],
   "source": [
    "def get_prev(elem):\n",
    "    i, v = elem\n",
    "    return _l[i - 1] if i > 0 else None\n",
    "\n",
    "false = lambda *_: False\n",
    "true  = lambda *_: True"
   ]
  },
  {
   "cell_type": "code",
   "execution_count": 83,
   "id": "721cb66f",
   "metadata": {},
   "outputs": [],
   "source": [
    "Element = namedtuple('Element', 'index value')\n",
    "_l = 'A B C B'.split()\n",
    "n = len(_l)\n",
    "# l = [Element._make(e) for e in enumerate(l)]\n",
    "l = seq(_l)\n",
    "l = l.enumerate().map(Element._make)"
   ]
  },
  {
   "cell_type": "code",
   "execution_count": 85,
   "id": "9f22f664",
   "metadata": {},
   "outputs": [
    {
     "data": {
      "text/html": [
       "<table>\n",
       "<thead>\n",
       "<tr><th style=\"text-align: right;\">  index</th><th>value  </th></tr>\n",
       "</thead>\n",
       "<tbody>\n",
       "<tr><td style=\"text-align: right;\">      0</td><td>A      </td></tr>\n",
       "<tr><td style=\"text-align: right;\">      1</td><td>B      </td></tr>\n",
       "<tr><td style=\"text-align: right;\">      2</td><td>C      </td></tr>\n",
       "<tr><td style=\"text-align: right;\">      3</td><td>B      </td></tr>\n",
       "</tbody>\n",
       "</table>"
      ],
      "text/plain": [
       "[Element(index=0, value='A'), Element(index=1, value='B'), Element(index=2, value='C'), Element(index=3, value='B')]"
      ]
     },
     "execution_count": 85,
     "metadata": {},
     "output_type": "execute_result"
    },
    {
     "data": {
      "text/plain": [
       "['C']"
      ]
     },
     "execution_count": 85,
     "metadata": {},
     "output_type": "execute_result"
    },
    {
     "data": {
      "text/plain": [
       "['b']"
      ]
     },
     "execution_count": 85,
     "metadata": {},
     "output_type": "execute_result"
    },
    {
     "data": {
      "text/plain": [
       "[2]"
      ]
     },
     "execution_count": 85,
     "metadata": {},
     "output_type": "execute_result"
    },
    {
     "data": {
      "text/plain": [
       "['C', 'A', 'B', 'B']"
      ]
     },
     "execution_count": 85,
     "metadata": {},
     "output_type": "execute_result"
    },
    {
     "data": {
      "text/plain": [
       "['B', 'B', 'C', 'A']"
      ]
     },
     "execution_count": 85,
     "metadata": {},
     "output_type": "execute_result"
    },
    {
     "data": {
      "text/html": [
       "<table>\n",
       "<thead>\n",
       "<tr><th style=\"text-align: right;\">  index</th><th>value  </th></tr>\n",
       "</thead>\n",
       "<tbody>\n",
       "<tr><td style=\"text-align: right;\">      0</td><td>A      </td></tr>\n",
       "<tr><td style=\"text-align: right;\">      1</td><td>A      </td></tr>\n",
       "<tr><td style=\"text-align: right;\">      2</td><td>C      </td></tr>\n",
       "<tr><td style=\"text-align: right;\">      3</td><td>B      </td></tr>\n",
       "</tbody>\n",
       "</table>"
      ],
      "text/plain": [
       "[Element(index=0, value='A'), Element(index=1, value='A'), Element(index=2, value='C'), Element(index=3, value='B')]"
      ]
     },
     "execution_count": 85,
     "metadata": {},
     "output_type": "execute_result"
    },
    {
     "data": {
      "text/plain": [
       "False"
      ]
     },
     "execution_count": 85,
     "metadata": {},
     "output_type": "execute_result"
    },
    {
     "data": {
      "text/plain": [
       "['A', 'B', 'B', 'C', 'C']"
      ]
     },
     "execution_count": 85,
     "metadata": {},
     "output_type": "execute_result"
    },
    {
     "data": {
      "text/plain": [
       "[1, 1, 2, 1, 2, 3]"
      ]
     },
     "execution_count": 85,
     "metadata": {},
     "output_type": "execute_result"
    },
    {
     "data": {
      "text/plain": [
       "['B']"
      ]
     },
     "execution_count": 85,
     "metadata": {},
     "output_type": "execute_result"
    },
    {
     "data": {
      "text/plain": [
       "['B']"
      ]
     },
     "execution_count": 85,
     "metadata": {},
     "output_type": "execute_result"
    }
   ],
   "source": [
    "l.map(lambda x: {'B': 'D'}.get(x, x))\n",
    "\n",
    "l.filter(lambda x: get_prev(x) == 'B').select(_.value)\n",
    "\n",
    "find_fn = _.index == 1\n",
    "l.filter(find_fn).select(_.value).map(lower)\n",
    "\n",
    "find_fn = _.value == 'C'\n",
    "l.filter(find_fn).select(_.index)\n",
    "\n",
    "# move x to first\n",
    "update_filter = _.value == 'C'\n",
    "get_new = lambda x: -1\n",
    "l.map(lambda x: Element(update_fn(x, 'index'), x.value)).order_by(_.index).select(_.value)\n",
    "\n",
    "# swap first and last\n",
    "update_filter = true\n",
    "get_new = lambda x: {0: n - 1, n - 1: 0}.get(x.index, x.index)\n",
    "l.map(lambda x: Element(update_fn(x, 'index'), x.value)).order_by(_.index).select(_.value)\n",
    "\n",
    "# get inbetween == drop_while + take_while?\n",
    "\n",
    "# update by index to its prev\n",
    "update_filter = _.index == 1\n",
    "get_new = lambda x: get_prev(x)\n",
    "def update_fn(x, update_field): return get_new(x) if update_filter(x) else getattr(x, update_field)\n",
    "l.map(lambda x: Element(x.index, update_fn(x, 'value')))\n",
    "\n",
    "# if two adjacent elements by indices are equal\n",
    "l.filter(lambda x: x.index in [0, 1]).select(_.value).distinct().len() == 1\n",
    "\n",
    "seq('A B C B C'.split()).group_by(_).select(_[1]).flatten()\n",
    "\n",
    "# count occurance till current\n",
    "seq('A B A C B A'.split()).inits().reverse().tail().map(lambda x: x.filter(_ == x.last()).len())\n",
    "\n",
    "# find special\n",
    "seq('A B A A'.split()).count_by_value().filter(_[1] == 1).select(_[0])\n",
    "\n",
    "# generalized find special\n",
    "seq('A A B C C D D'.split()).group_by(_).map(lambda x: (x[0], len(x[1]))).filter(_[1] == 1).select(_[0])"
   ]
  },
  {
   "cell_type": "code",
   "execution_count": null,
   "id": "49b3e124",
   "metadata": {},
   "outputs": [],
   "source": []
  }
 ],
 "metadata": {
  "kernelspec": {
   "display_name": "Python 3",
   "language": "python",
   "name": "python3"
  },
  "language_info": {
   "codemirror_mode": {
    "name": "ipython",
    "version": 3
   },
   "file_extension": ".py",
   "mimetype": "text/x-python",
   "name": "python",
   "nbconvert_exporter": "python",
   "pygments_lexer": "ipython3",
   "version": "3.8.12"
  }
 },
 "nbformat": 4,
 "nbformat_minor": 5
}
