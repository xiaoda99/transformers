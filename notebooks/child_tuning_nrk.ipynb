{
 "cells": [
  {
   "cell_type": "code",
   "execution_count": 4,
   "id": "f6ea7a72",
   "metadata": {
    "collapsed": true
   },
   "outputs": [
    {
     "name": "stdout",
     "output_type": "stream",
     "text": [
      "\u001b[33mWARNING: Ignoring invalid distribution -yfunctional (/home/kf/miniconda3/envs/pytorch1.7.1/lib/python3.8/site-packages)\u001b[0m\u001b[33m\n",
      "\u001b[0m\u001b[33mWARNING: Ignoring invalid distribution -yfunctional (/home/kf/miniconda3/envs/pytorch1.7.1/lib/python3.8/site-packages)\u001b[0m\u001b[33m\n",
      "\u001b[0mRequirement already satisfied: transformers in /home/kf/miniconda3/envs/pytorch1.7.1/lib/python3.8/site-packages (4.17.0)\n",
      "Requirement already satisfied: sacremoses in /home/kf/miniconda3/envs/pytorch1.7.1/lib/python3.8/site-packages (from transformers) (0.0.45)\n",
      "Requirement already satisfied: filelock in /home/kf/miniconda3/envs/pytorch1.7.1/lib/python3.8/site-packages (from transformers) (3.0.12)\n",
      "Requirement already satisfied: regex!=2019.12.17 in /home/kf/miniconda3/envs/pytorch1.7.1/lib/python3.8/site-packages (from transformers) (2021.10.8)\n",
      "Requirement already satisfied: huggingface-hub<1.0,>=0.1.0 in /home/kf/miniconda3/envs/pytorch1.7.1/lib/python3.8/site-packages (from transformers) (0.4.0)\n",
      "Requirement already satisfied: tqdm>=4.27 in /home/xd/.local/lib/python3.8/site-packages (from transformers) (4.60.0)\n",
      "Requirement already satisfied: tokenizers!=0.11.3,>=0.11.1 in /home/kf/miniconda3/envs/pytorch1.7.1/lib/python3.8/site-packages (from transformers) (0.11.6)\n",
      "Requirement already satisfied: packaging>=20.0 in /home/xd/.local/lib/python3.8/site-packages (from transformers) (20.9)\n",
      "Requirement already satisfied: pyyaml>=5.1 in /home/kf/miniconda3/envs/pytorch1.7.1/lib/python3.8/site-packages/PyYAML-6.0-py3.8-linux-x86_64.egg (from transformers) (6.0)\n",
      "Requirement already satisfied: numpy>=1.17 in /home/kf/miniconda3/envs/pytorch1.7.1/lib/python3.8/site-packages (from transformers) (1.21.2)\n",
      "Requirement already satisfied: requests in /home/kf/miniconda3/envs/pytorch1.7.1/lib/python3.8/site-packages (from transformers) (2.25.1)\n",
      "Requirement already satisfied: typing-extensions>=3.7.4.3 in /home/kf/miniconda3/envs/pytorch1.7.1/lib/python3.8/site-packages (from huggingface-hub<1.0,>=0.1.0->transformers) (4.1.1)\n",
      "Requirement already satisfied: pyparsing>=2.0.2 in /home/xd/.local/lib/python3.8/site-packages (from packaging>=20.0->transformers) (2.4.7)\n",
      "Requirement already satisfied: urllib3<1.27,>=1.21.1 in /home/kf/miniconda3/envs/pytorch1.7.1/lib/python3.8/site-packages (from requests->transformers) (1.26.4)\n",
      "Requirement already satisfied: chardet<5,>=3.0.2 in /home/kf/miniconda3/envs/pytorch1.7.1/lib/python3.8/site-packages (from requests->transformers) (4.0.0)\n",
      "Requirement already satisfied: idna<3,>=2.5 in /home/kf/miniconda3/envs/pytorch1.7.1/lib/python3.8/site-packages (from requests->transformers) (2.10)\n",
      "Requirement already satisfied: certifi>=2017.4.17 in /home/kf/miniconda3/envs/pytorch1.7.1/lib/python3.8/site-packages (from requests->transformers) (2021.10.8)\n",
      "Requirement already satisfied: six in /home/kf/miniconda3/envs/pytorch1.7.1/lib/python3.8/site-packages (from sacremoses->transformers) (1.16.0)\n",
      "Requirement already satisfied: joblib in /home/kf/miniconda3/envs/pytorch1.7.1/lib/python3.8/site-packages (from sacremoses->transformers) (1.0.1)\n",
      "Requirement already satisfied: click in /home/kf/miniconda3/envs/pytorch1.7.1/lib/python3.8/site-packages (from sacremoses->transformers) (7.1.2)\n",
      "\u001b[33mWARNING: Ignoring invalid distribution -yfunctional (/home/kf/miniconda3/envs/pytorch1.7.1/lib/python3.8/site-packages)\u001b[0m\u001b[33m\n",
      "\u001b[0m\u001b[33mWARNING: Ignoring invalid distribution -yfunctional (/home/kf/miniconda3/envs/pytorch1.7.1/lib/python3.8/site-packages)\u001b[0m\u001b[33m\n",
      "\u001b[0m\u001b[33mWARNING: Ignoring invalid distribution -yfunctional (/home/kf/miniconda3/envs/pytorch1.7.1/lib/python3.8/site-packages)\u001b[0m\u001b[33m\n",
      "\u001b[0mNote: you may need to restart the kernel to use updated packages.\n"
     ]
    }
   ],
   "source": [
    "pip install --upgrade transformers"
   ]
  },
  {
   "cell_type": "code",
   "execution_count": 8,
   "id": "0e11bc1d",
   "metadata": {
    "collapsed": true
   },
   "outputs": [
    {
     "name": "stdout",
     "output_type": "stream",
     "text": [
      "\u001b[33mWARNING: Ignoring invalid distribution -yfunctional (/home/kf/miniconda3/envs/pytorch1.7.1/lib/python3.8/site-packages)\u001b[0m\u001b[33m\n",
      "\u001b[0m\u001b[33mWARNING: Ignoring invalid distribution -yfunctional (/home/kf/miniconda3/envs/pytorch1.7.1/lib/python3.8/site-packages)\u001b[0m\u001b[33m\n",
      "\u001b[0mCollecting pyfunctional\n",
      "  Using cached PyFunctional-1.4.3-py3-none-any.whl (49 kB)\n",
      "Requirement already satisfied: dill>=0.2.5 in /home/kf/miniconda3/envs/pytorch1.7.1/lib/python3.8/site-packages (from pyfunctional) (0.3.4)\n",
      "Requirement already satisfied: tabulate<=1.0.0 in /home/kf/miniconda3/envs/pytorch1.7.1/lib/python3.8/site-packages (from pyfunctional) (0.8.9)\n",
      "\u001b[33mWARNING: Ignoring invalid distribution -yfunctional (/home/kf/miniconda3/envs/pytorch1.7.1/lib/python3.8/site-packages)\u001b[0m\u001b[33m\n",
      "\u001b[0mInstalling collected packages: pyfunctional\n",
      "\u001b[33mWARNING: Ignoring invalid distribution -yfunctional (/home/kf/miniconda3/envs/pytorch1.7.1/lib/python3.8/site-packages)\u001b[0m\u001b[33m\n",
      "\u001b[0mSuccessfully installed pyfunctional-1.4.3\n",
      "\u001b[33mWARNING: Ignoring invalid distribution -yfunctional (/home/kf/miniconda3/envs/pytorch1.7.1/lib/python3.8/site-packages)\u001b[0m\u001b[33m\n",
      "\u001b[0m\u001b[33mWARNING: Ignoring invalid distribution -yfunctional (/home/kf/miniconda3/envs/pytorch1.7.1/lib/python3.8/site-packages)\u001b[0m\u001b[33m\n",
      "\u001b[0mNote: you may need to restart the kernel to use updated packages.\n"
     ]
    }
   ],
   "source": [
    "pip install --upgrade pyfunctional"
   ]
  },
  {
   "cell_type": "code",
   "execution_count": 1,
   "id": "7292808a",
   "metadata": {},
   "outputs": [],
   "source": [
    "from IPython import get_ipython\n",
    "%load_ext autoreload\n",
    "%autoreload 2\n",
    "\n",
    "from IPython.core.interactiveshell import InteractiveShell\n",
    "InteractiveShell.ast_node_interactivity = 'all'"
   ]
  },
  {
   "cell_type": "code",
   "execution_count": 2,
   "id": "54a886cb",
   "metadata": {},
   "outputs": [],
   "source": [
    "import sys\n",
    "import os\n",
    "os.environ['HF_HOME'] = '/raid/xd/.cache/torch'\n",
    "os.environ[\"CUDA_DEVICE_ORDER\"]=\"PCI_BUS_ID\"\n",
    "os.environ[\"CUDA_VISIBLE_DEVICES\"]=\"6\"\n",
    "\n",
    "from types import MethodType\n",
    "from tqdm import tqdm\n",
    "from collections import defaultdict, OrderedDict, Counter\n",
    "from datetime import datetime\n",
    "from io import StringIO\n",
    "from itertools import chain\n",
    "import math\n",
    "from functools import reduce\n",
    "\n",
    "%matplotlib inline\n",
    "import matplotlib.pyplot as plt\n",
    "import seaborn as sns\n",
    "\n",
    "import torch\n",
    "import torch.nn as nn\n",
    "import torch.nn.functional as F \n",
    "from torch.utils.data.sampler import RandomSampler, Sampler, SequentialSampler\n",
    "from torch.utils.data.dataloader import DataLoader\n",
    "\n",
    "from transformers.data.data_collator import DataCollator, default_data_collator\n",
    "from transformers import AutoConfig, pipeline\n",
    "from transformers import RobertaForMaskedLM, RobertaTokenizer, GPT2LMHeadModel, GPT2Tokenizer, GPTNeoForCausalLM\n",
    "from transformers import T5Tokenizer, T5ForConditionalGeneration\n",
    "from transformers import HfArgumentParser, Trainer, TrainingArguments, set_seed, AdamW\n",
    "# from torch.optim.lr_scheduler import CosineAnnealingLR\n",
    "# from transformers.trainer_utils import EvaluationStrategy"
   ]
  },
  {
   "cell_type": "code",
   "execution_count": 3,
   "id": "dd287822",
   "metadata": {},
   "outputs": [],
   "source": [
    "from functional import seq\n",
    "from functional.pipeline import Sequence\n",
    "from fn import _\n",
    "from collections import namedtuple "
   ]
  },
  {
   "cell_type": "code",
   "execution_count": 4,
   "id": "58cba5e2",
   "metadata": {
    "scrolled": true
   },
   "outputs": [],
   "source": [
    "from utils import *\n",
    "from child_utils import *\n",
    "from common_utils import *"
   ]
  },
  {
   "cell_type": "code",
   "execution_count": 5,
   "id": "30243f47",
   "metadata": {},
   "outputs": [],
   "source": [
    "import random"
   ]
  },
  {
   "cell_type": "code",
   "execution_count": 6,
   "id": "90f62ac5",
   "metadata": {},
   "outputs": [],
   "source": [
    "models = {}\n",
    "cache_dir = '/nas/xd/.cache/torch/transformers/'  # for models besides t5-3b/11b\n",
    "proxies = {'http': '192.168.50.1:1081'} "
   ]
  },
  {
   "cell_type": "code",
   "execution_count": 7,
   "id": "520d34a6",
   "metadata": {
    "scrolled": true
   },
   "outputs": [],
   "source": [
    "model_name = \"EleutherAI/gpt-neo-2.7B\"\n",
    "model = GPTNeoForCausalLM.from_pretrained(model_name, proxies=proxies, cache_dir=cache_dir)\n",
    "tokenizer = GPT2Tokenizer.from_pretrained('gpt2', cache_dir=cache_dir)\n",
    "models[model_name] = model, tokenizer"
   ]
  },
  {
   "cell_type": "code",
   "execution_count": 8,
   "id": "052c1e0f",
   "metadata": {},
   "outputs": [],
   "source": [
    "prompt_token = 'Ġ!'; prompt_id = tokenizer._convert_token_to_id(prompt_token)\n",
    "bop_str = 'Instruction: '; bop_id = tokenizer.encode(bop_str)[0]  # 'Inst'\n",
    "eop_str = '. For example:'; eop_id = tokenizer.encode(eop_str)[2] # 'Ġexample'\n",
    "bos_id = tokenizer._convert_token_to_id('Ġ->')\n",
    "eos_id = tokenizer._convert_token_to_id('Ċ')\n",
    "\n",
    "\n",
    "class CHILDDataset(Dataset):\n",
    "    def __init__(self, input_strs, tokenizer):\n",
    "        if tokenizer.pad_token is None: tokenizer.pad_token = '!'\n",
    "        self.inputs = tokenizer.batch_encode_plus(input_strs, add_special_tokens=False, padding=True, return_tensors='pt')\n",
    "        input_ids = self.inputs.input_ids\n",
    "        self.labels = torch.ones_like(input_ids) * (-100)\n",
    "        for bi in range(input_ids.size(0)): #bi 0-127 0-63\n",
    "            bop_idx = (input_ids[bi] == bop_id).nonzero().squeeze(1)\n",
    "            eop_idx = (input_ids[bi] == eop_id).nonzero().squeeze(1)\n",
    "            if len(bop_idx) > 0:\n",
    "                assert len(bop_idx) == 1 and len(eop_idx) == 1\n",
    "                bop_idx, eop_idx = bop_idx.item(), eop_idx.item() #取出单元素张量的元素值并返回该值，保持原元素类型不变\n",
    "                #bop: 0   eop:6\n",
    "                input_ids[bi, bop_idx: eop_idx + 2] *= -1  # use prompt embedding for prompt tokens\n",
    "  \n",
    "            bos_indices = (input_ids[bi] == bos_id).nonzero().squeeze(1)\n",
    "#             print(\"bos_indices:\",bos_indices)\n",
    "            eos_indices = (input_ids[bi] == eos_id).nonzero()[-len(bos_indices):].squeeze(1) #每一位 eos都比bos大2\n",
    "#             print(\"eos_indices:\",eos_indices)\n",
    "            for i, (bos_i, eos_i) in enumerate(zip(bos_indices.tolist(), eos_indices.tolist())):\n",
    "                assert eos_i > bos_i + 1\n",
    "                if i >= 2: self.labels[bi, bos_i + 1: eos_i] = input_ids[bi, bos_i + 1: eos_i] #为什么大于1时，才进行替换？\n",
    "                    \n",
    "    def re_input(self):\n",
    "        return self.inputs['input_ids']\n",
    "        \n",
    "    def __len__(self):\n",
    "        return len(self.inputs['input_ids'])\n",
    "\n",
    "    def __getitem__(self, i):\n",
    "        return {'input_ids': self.inputs['input_ids'][i],  #输入\n",
    "                'attention_mask': self.inputs['attention_mask'][i],\n",
    "                'labels': self.labels[i]}   #结果"
   ]
  },
  {
   "cell_type": "code",
   "execution_count": 114,
   "id": "696ea332",
   "metadata": {},
   "outputs": [],
   "source": [
    "from child_utils import *\n",
    "torch.set_printoptions(threshold=np.inf)"
   ]
  },
  {
   "cell_type": "code",
   "execution_count": 118,
   "id": "56fcd441",
   "metadata": {},
   "outputs": [],
   "source": [
    "class WrappedEmbedding(nn.Module):\n",
    "    def __init__(self,  \n",
    "                wte: nn.Embedding,  #正常向量\n",
    "                prompt_id: int = None,\n",
    "                prompt_len: int = 10, \n",
    "                random_range: float = 0.5,\n",
    "                initialize_from_vocab: bool = True):\n",
    "        super(WrappedEmbedding, self).__init__()\n",
    "#         self.wte = wte\n",
    "#         self.prompt_id = prompt_id\n",
    "#         self.prompt_len = prompt_len\n",
    "        self.__dict__.update(locals()); del self.self #locals()以字典类型返回当前位置的全部局部变量\n",
    "        if self.prompt_id is not None: #prompt_embedding prompt词向量\n",
    "            self.prompt_embedding = nn.parameter.Parameter( #将一个不可训练的类型Tensor转换成可以训练的类型parameter\n",
    "                self.initialize_embedding(random_range, initialize_from_vocab)).to(self.wte.weight.device) #在-0.5-0.5中随机取值初始化\n",
    "        else:\n",
    "            self.prompt_embedding = nn.Embedding(self.prompt_len, self.wte.weight.size(1)).to(self.wte.weight.device)\n",
    "                                        #词典大小（总共输入多少词） 嵌入向量维度（多少维表示一个符号）\n",
    "            assert initialize_from_vocab\n",
    "            self.init_prompt_embedding_()  #将wte的weight值作为初始化\n",
    "#             self.prompt_embedding.weight.data = self.initialize_embedding(random_range, initialize_from_vocab)     \n",
    " \n",
    "    def initialize_embedding(self, random_range: float = 0.5, initialize_from_vocab: bool = True):\n",
    "        if initialize_from_vocab: return self.wte.weight[:self.prompt_len].clone().detach() #返回一个新的tensor，新的tensor和原来的tensor共享数据内存，但不涉及梯度计算\n",
    "        return torch.FloatTensor(self.prompt_len, self.wte.weight.size(1)).uniform_(-random_range, random_range) #产生随机数\n",
    "    \n",
    "    def init_prompt_embedding_(self):\n",
    "        self.prompt_embedding.weight.data[:] = self.wte.weight[:self.prompt_len]\n",
    "        \n",
    "        \n",
    "    def forward(self, input_ids):\n",
    "        if self.prompt_id is not None:\n",
    "            input_embeds = self.wte(input_ids)\n",
    "            input_embeds[input_ids == self.prompt_id] = self.prompt_embedding.expand(input_embeds.size(0), -1, -1)\n",
    "        else: # adapted from cpm-2\n",
    "            prompt_mask = input_ids < 0\n",
    "            prompt_ids = -input_ids * prompt_mask\n",
    "            assert torch.all(prompt_ids < self.prompt_len)\n",
    "            p_embeds = self.prompt_embedding(prompt_ids) * prompt_mask.float().unsqueeze(-1)\n",
    "            input_ids = input_ids * ~prompt_mask\n",
    "            w_embeds = self.wte(input_ids) * (~prompt_mask).float().unsqueeze(-1)\n",
    "            input_embeds = w_embeds + p_embeds\n",
    "        return input_embeds"
   ]
  },
  {
   "cell_type": "code",
   "execution_count": 119,
   "id": "44b17b42",
   "metadata": {},
   "outputs": [],
   "source": [
    "# adapted from cpm-2: https://github.com/TsinghuaAI/CPM-2-Finetune/blob/master/utils.py#L133-L164\n",
    "def get_params_for_prompt_optimization(module: nn.Module): #不训练模型参数，只训练prompt_embading，这个函数是取这些参数\n",
    "    params = []\n",
    "    for t in module.named_modules():\n",
    "        if \"prompt_embedding\" in t[0]:\n",
    "            params.append({'params': [p for p in list(t[1]._parameters.values()) if p is not None]})\n",
    "    for t in module.named_parameters():\n",
    "        if \"prompt\" not in t[0]:\n",
    "            t[1].requires_grad_(False)    \n",
    "    return params\n",
    "\n",
    "def create_optimizer(model, training_args):\n",
    "    from torch.nn.parallel.distributed import DistributedDataParallel as DDP\n",
    "    while isinstance(model, (DDP, )): model = model.module\n",
    "        \n",
    "    we.init_prompt_embedding_()\n",
    "    param_groups = get_params_for_prompt_optimization(model)\n",
    "    optimizer = AdamW(param_groups, lr=training_args.learning_rate, \n",
    "                      betas=(training_args.adam_beta1, training_args.adam_beta2),eps=training_args.adam_epsilon)\n",
    "    return optimizer"
   ]
  },
  {
   "cell_type": "code",
   "execution_count": 126,
   "id": "39b4f350",
   "metadata": {},
   "outputs": [],
   "source": [
    "wte = model.get_input_embeddings() #提取 embedding 中的 词向量部分\n",
    "if hasattr(wte, 'wte'): wte = wte.wte  # already been wrapped\n",
    "we = WrappedEmbedding(wte, prompt_len=20000)\n",
    "# WrappedEmbedding(wte, prompt_len=10000).forward(CHILDDataset(input_strs[:-n_valid], tokenizer).re_input())\n",
    "model.set_input_embeddings(we) #为词向量赋值"
   ]
  },
  {
   "cell_type": "code",
   "execution_count": 13,
   "id": "ae3bb45f",
   "metadata": {},
   "outputs": [],
   "source": [
    "def verbalize(obj):\n",
    "    if type(obj) == bool: return 'Yes' if obj else 'No'\n",
    "    return str(obj)\n",
    "\n",
    "def list2str(l): return ' '.join(str(i) for i in l)\n",
    "def pairs2str(pairs): return ', '.join(str(k) + ': ' + str(v) for k, v in pairs)\n",
    "\n",
    "def make_context_str(cxt):\n",
    "    if type(cxt) == list:\n",
    "        return pairs2str(cxt) if type(cxt[0]) == tuple and len(cxt[0]) == 2 else list2str(cxt)\n",
    "    if type(cxt) == tuple:\n",
    "        return '; '.join(make_context_str(c) for c in cxt)  # 用分号分隔context的不同部分\n",
    "    \n",
    "def make_query_str(instruction, query):\n",
    "    if instruction is None and query is None: return ''\n",
    "    s = '.'\n",
    "    if instruction is not None: s = s + ' ' + instruction\n",
    "    if query is not None:\n",
    "        if type(query) in [int, bool, str]: query = [query]\n",
    "        if type(query) == dict:# and list(query.keys())[0] != \"CS\"):  # by nrk\n",
    "            s = s + ' ' + '{' + ','.join([' replace %s with %s' % (str(k), str(v)) for k, v in query.items()]) + ' }'\n",
    "        if type(query) in [list, tuple]:\n",
    "            s = s + ' ' + ' '.join([list2str(i) if type(i) == list else str(i) for i in query])\n",
    "    return s\n",
    "\n",
    "def make_example_str(example, query2str):\n",
    "    instruction, cxt, query, ans = example\n",
    "    if type(ans) not in [Sequence, list]: ans = [ans]\n",
    "    ans = [verbalize(a) for a in ans]\n",
    "#     return '%s -> %s' % (''.join(l[0]) + make_query_str(instruction if with_instruction else None, query), ' '.join(ans))  # by nrk\n",
    "#     return '%s -> %s' % (' '.join(l) + make_query_str(instruction if with_instruction else None, query), ' '.join(ans))  # by XD\n",
    "#     return '%s -> %s' % (make_context_str(cxt) + make_query_str(instruction if with_instruction else None, query[0]), ' '.join(ans))\n",
    "    return '%s -> %s' % (make_context_str(cxt) + query2str(query), ' '.join(ans))\n",
    "\n",
    "\n",
    "def sample_rand_len(vocab, k): return sample(vocab, k=randint(1, k))"
   ]
  },
  {
   "cell_type": "code",
   "execution_count": 14,
   "id": "df63ee7d",
   "metadata": {},
   "outputs": [],
   "source": [
    "def promptize(s):\n",
    "#     return prompt_token * len(s.split())\n",
    "    return bop_str + s + eop_str\n",
    "\n",
    "courses_vocab=[\"Sql\",\"Math\",\"English\",\"Chinese\",\"Art\",\"Music\",\"History\",\"Biology\",\"Chemistry\",\"Physics\",\"Geography\"]\n",
    "all_vocab = [\"apple\",\"pear\",\"peach\",\"grape\",\"banana\",\"pineapple\",\"lemon\",\"strawberry\",\"cola\",\"juice\",\"coffee\",\"milk\",\"wine\",\"beer\",\"whisky\",\"vodka\",\"brandy\"]\n",
    "solid_vocab=[\"apple\",\"pear\",\"peach\",\"grape\",\"banana\",\"pineapple\",\"lemon\",\"strawberry\"]\n",
    "liquid_vocab=[\"cola\",\"juice\",\"coffee\",\"milk\",\"wine\",\"beer\",\"whisky\",\"vodka\",\"brandy\"]\n",
    "names_vocab =  [i for i in string.ascii_uppercase]\n",
    "depts_vocab = [\"CS\",\"Chi\",\"Eng\",\"Mat\"]\n",
    "sl = [\"solid\"]*len(solid_vocab)+[\"liquid\"]*len(liquid_vocab)\n",
    "sl_vocab = dict(zip(all_vocab,sl))\n",
    "\n",
    "def make_input_str(task, nrows=4, ncols=4, full_vocab=None, ans_vocab=[True, False]):\n",
    "    if full_vocab is None: full_vocab = string.ascii_uppercase + string.digits\n",
    "    transform_fn, vocab_fn, sample_fn, query_fn, query2str = task\n",
    "    instruction = transform_fn.__name__.replace('_', ' ')\n",
    "    if vocab_fn is None: vocab_fn = lambda: full_vocab\n",
    "    if query_fn is None: query_fn = lambda *_: None\n",
    "        \n",
    "    examples = []\n",
    "    query = None\n",
    "    for i in range(nrows):\n",
    "        vocab = vocab_fn()\n",
    "        l = sample_fn(vocab, k=ncols)\n",
    "        query = query_fn(l, vocab, ncols)\n",
    "        examples.append([instruction, l, query, transform_fn(l, query=query)])\n",
    "    examples = balance(examples,ans_vocab)\n",
    "\n",
    "    desc = promptize(instruction) if True else ''\n",
    "    text = '\\n'.join([make_example_str(e, query2str) for e in examples])\n",
    "    text = desc + '\\n' + text + '\\n'\n",
    "    return text"
   ]
  },
  {
   "cell_type": "code",
   "execution_count": 15,
   "id": "bd0c286b",
   "metadata": {},
   "outputs": [],
   "source": [
    "# def balance(examples, ans_vocab=[True, False]):\n",
    "def balance(examples, ans_vocab):\n",
    "    groups = seq(examples).group_by(_[-1]).map(_[1])  # 按ans分组\n",
    "    assert groups.len() == len(ans_vocab), '%d < %d' % (groups.len(), len(ans_vocab))  # 保证每种ans都出现\n",
    "    min_cnt = groups.map(lambda x: len(x)).min()\n",
    "    examples = groups.map(lambda x: sample(x, min_cnt)).flatten().list() # 每组都采样最小个数后去分组\n",
    "    return sample(examples, len(examples))  # 重新打乱"
   ]
  },
  {
   "cell_type": "code",
   "execution_count": 39,
   "id": "2f75834f",
   "metadata": {
    "collapsed": true
   },
   "outputs": [
    {
     "ename": "NameError",
     "evalue": "name 'tasks' is not defined",
     "output_type": "error",
     "traceback": [
      "\u001b[0;31m---------------------------------------------------------------------------\u001b[0m",
      "\u001b[0;31mNameError\u001b[0m                                 Traceback (most recent call last)",
      "\u001b[0;32m<ipython-input-39-e250ac18b8ad>\u001b[0m in \u001b[0;36m<module>\u001b[0;34m\u001b[0m\n\u001b[0;32m----> 1\u001b[0;31m \u001b[0mtask\u001b[0m \u001b[0;34m=\u001b[0m \u001b[0mtasks\u001b[0m\u001b[0;34m[\u001b[0m\u001b[0;34m-\u001b[0m\u001b[0;36m8\u001b[0m\u001b[0;34m]\u001b[0m\u001b[0;34m\u001b[0m\u001b[0;34m\u001b[0m\u001b[0m\n\u001b[0m\u001b[1;32m      2\u001b[0m \u001b[0mtransform_fn\u001b[0m\u001b[0;34m,\u001b[0m \u001b[0mvocab_fn\u001b[0m\u001b[0;34m,\u001b[0m \u001b[0msample_fn\u001b[0m\u001b[0;34m,\u001b[0m \u001b[0mquery_fn\u001b[0m\u001b[0;34m,\u001b[0m \u001b[0mquery2str\u001b[0m \u001b[0;34m=\u001b[0m \u001b[0mtask\u001b[0m\u001b[0;34m\u001b[0m\u001b[0;34m\u001b[0m\u001b[0m\n\u001b[1;32m      3\u001b[0m \u001b[0mvocab\u001b[0m \u001b[0;34m=\u001b[0m \u001b[0mvocab_fn\u001b[0m\u001b[0;34m(\u001b[0m\u001b[0;34m)\u001b[0m\u001b[0;34m\u001b[0m\u001b[0;34m\u001b[0m\u001b[0m\n\u001b[1;32m      4\u001b[0m \u001b[0mncols\u001b[0m \u001b[0;34m=\u001b[0m \u001b[0;34m(\u001b[0m\u001b[0;36m3\u001b[0m\u001b[0;34m,\u001b[0m \u001b[0;36m3\u001b[0m\u001b[0;34m,\u001b[0m \u001b[0;36m2\u001b[0m\u001b[0;34m,\u001b[0m \u001b[0;36m5\u001b[0m\u001b[0;34m)\u001b[0m\u001b[0;34m\u001b[0m\u001b[0;34m\u001b[0m\u001b[0m\n\u001b[1;32m      5\u001b[0m \u001b[0ml\u001b[0m \u001b[0;34m=\u001b[0m \u001b[0msample_fn\u001b[0m\u001b[0;34m(\u001b[0m\u001b[0mvocab\u001b[0m\u001b[0;34m,\u001b[0m \u001b[0mk\u001b[0m\u001b[0;34m=\u001b[0m\u001b[0mncols\u001b[0m\u001b[0;34m)\u001b[0m\u001b[0;34m\u001b[0m\u001b[0;34m\u001b[0m\u001b[0m\n",
      "\u001b[0;31mNameError\u001b[0m: name 'tasks' is not defined"
     ]
    }
   ],
   "source": [
    "task = tasks[-8]\n",
    "transform_fn, vocab_fn, sample_fn, query_fn, query2str = task\n",
    "vocab = vocab_fn()\n",
    "ncols = (3, 3, 2, 5)\n",
    "l = sample_fn(vocab, k=ncols)\n",
    "SC, CD = l\n",
    "query = query_fn(l, vocab, ncols)\n",
    "ss, d = query"
   ]
  },
  {
   "cell_type": "code",
   "execution_count": 2817,
   "id": "8d1946dd",
   "metadata": {},
   "outputs": [
    {
     "data": {
      "text/plain": [
       "['Y', 'W', 'I']"
      ]
     },
     "execution_count": 2817,
     "metadata": {},
     "output_type": "execute_result"
    }
   ],
   "source": [
    "ss"
   ]
  },
  {
   "cell_type": "code",
   "execution_count": 16,
   "id": "ab80cfd2",
   "metadata": {},
   "outputs": [],
   "source": [
    "import itertools  \n",
    "def all_a(cxt, query):\n",
    "    SC, CD = cxt  # SC paris: studeng-course relation, CD pairs: course-department function\n",
    "    ss, d = query  # ss: 学生子集（可以*不止两个学生*），d: 课程\n",
    "#     return seq(ss).map(lambda s: seq(SC).filter(_[0] == s).map(_[1]).intersection(CD.filter(_.[1] == d).map(_.[0])).non_empty()).all()\n",
    "    return (seq(ss)\n",
    "            .map(lambda s: seq(SC).filter(_[0] == s).map(_[1])  # 学生s选的所有课程\n",
    "                 .intersection(\n",
    "                     seq(CD).filter(_[1] == d).map(_[0])) # d系的课程\n",
    "                 .non_empty())  # s选了d系的课程\n",
    "            .all())  # 学生子集ss都选了d系的课程\n",
    "\n",
    "def all_a_sample(vocab, k):\n",
    "    S_vocab, C_vocab, D_vocab = vocab  # vocabs of students, courses, departments\n",
    "    k_S, k_C, k_D, k_SC = k  # default values: k_S = 3, k_C = 3, k_D = 2, k_SC = 5\n",
    "    S, C, D = sample(S_vocab, k_S), sample(C_vocab, k_C), sample(D_vocab, k_D)\n",
    "    \n",
    "    while len(set(CD := choices(D, k=k_C))) < k_D: continue  # ds里每个系的课都要出现\n",
    "    CD = list(zip(C, CD))  # 得到每门课所属的系\n",
    "    \n",
    "    all_SC = list(itertools.product(S, C))  # or seq(S).cartesian(C).list()\n",
    "    while seq(SC := sample(all_SC, k_SC)).map(_[0]).distinct().len() < k_S: continue  # ss里每个学生都要选课\n",
    "    return SC, CD\n",
    "\n",
    "def select_distinct(tuples, col): return seq(tuples).map(_[col]).distinct().list()\n",
    "    \n",
    "def all_a_query(cxt,vocab,k):\n",
    "    SC, CD = cxt\n",
    "    k_S, k_C, k_D, k_SC = k\n",
    "    S, D = select_distinct(SC, 0), select_distinct(CD, 1)\n",
    "    k_ss = randint(2, len(S))\n",
    "    ss = sample(S, k_ss)\n",
    "    d = choice(D)\n",
    "    return ss, d\n",
    "\n",
    "def all_a_query2str(query):\n",
    "    ss, d = query\n",
    "    query_str = 'Do %s all take %s courses?' % (', '.join(ss[:-1]) + ' and ' + ss[-1], d)\n",
    "    return '. ' + query_str"
   ]
  },
  {
   "cell_type": "code",
   "execution_count": 17,
   "id": "b8103db3",
   "metadata": {},
   "outputs": [],
   "source": [
    "#nrk\n",
    "def all_b(cxt, query):\n",
    "    SC, CD = cxt\n",
    "#     ss,d = str_solve(query)  # XD: 不要在transform_fn里做解析\n",
    "    ss,d = query\n",
    "    return (seq(CD).filter(_[1] == d).map(_[0])\n",
    "                 .difference(\n",
    "                     seq(SC).filter(_[0] == ss).map(_[1]))\n",
    "                 .empty())\n",
    "\n",
    "def all_b_sample(vocab, k):\n",
    "    S_vocab, C_vocab, D_vocab = vocab  \n",
    "    k_S, k_C, k_D, k_SC = k  # default values: k_S = 2, k_C = 3, k_D = 2, k_SC = 5\n",
    "    S, C, D = sample(S_vocab, k_S), sample(C_vocab, k_C), sample(D_vocab, k_D)\n",
    "    \n",
    "    while len(set(CD := choices(D, k=k_C))) < k_D: continue  \n",
    "    CD = list(zip(C, CD)) \n",
    "    \n",
    "    all_SC = list(itertools.product(S, C))  \n",
    "    while seq(SC := sample(all_SC, k_SC)).map(_[0]).distinct().len() < k_S: continue  # ss里每个学生都要选课\n",
    "    return SC, CD\n",
    "   \n",
    "def all_b_query(cxt,vocab,k):  # XD: 不要给qeury_fn加st参数\n",
    "    SC, CD = cxt\n",
    "    k_S, k_C, k_D, k_SC = k\n",
    "    S, D = select_distinct(SC, 0), select_distinct(CD, 1)\n",
    "#     k_ss = randint(2, len(S))  # XD: k_ss unused\n",
    "    ss = choice(S)\n",
    "    d = choice(D)\n",
    "    return ss, d\n",
    "    # XD: 不要在query_fn里转str！！这里转str，transform_fn里再解析回来，两边不是白折腾吗！\n",
    "\n",
    "def all_b_query2str(query):\n",
    "    ss, d = query\n",
    "    query_str = 'Does %s take all %s courses?' % (ss, d)\n",
    "    return '. ' + query_str\n",
    "\n",
    "\n",
    "def intersection(cxt, query):\n",
    "    SC= cxt\n",
    "    s,d = query\n",
    "    return (seq(SC).filter(_[0] == s).map(_[1])\n",
    "                 .intersection(\n",
    "                     seq(SC).filter(_[0] == d).map(_[1]))\n",
    "                 .non_empty())\n",
    "\n",
    "def intersection_query(cxt,vocab,k):\n",
    "    SC= cxt\n",
    "    k_S, k_C, k_SC = k #k_s = 3, k_C = 5 , k_sc = 6\n",
    "    S = select_distinct(SC, 0)\n",
    "    s,d = sample(S,2)\n",
    "    return s, d\n",
    "\n",
    "def intersection_query2str(query):\n",
    "    s, d = query\n",
    "    query_str = \"Is there an intersection between %s and %s?\" % (s, d)\n",
    "    return '. ' + query_str\n",
    "\n",
    "def intersection_sample(vocab, k):\n",
    "    S_vocab, C_vocab = vocab  \n",
    "    k_S, k_C, k_SC = k  # k_S = 3, k_C = 5, , k_SC = 6\n",
    "    S, C= sample(S_vocab, k_S), sample(C_vocab, k_C)\n",
    "    all_SC = list(itertools.product(S, C))  \n",
    "    while seq(SC := sample(all_SC, k_SC)).map(_[0]).distinct().len() < k_S: continue \n",
    "    return SC\n",
    "\n",
    "def complement(cxt, query):\n",
    "    SC= cxt\n",
    "    s,d = query\n",
    "    return (seq(SC).filter(_[0] == d).map(_[1])\n",
    "                 .union(\n",
    "                     seq(SC).filter(_[0] == s).map(_[1]))\n",
    "                 ).distinct().len()== seq(SC).filter(_[0] == d).map(_[1]).distinct().len()\n",
    "\n",
    "def complement_query(cxt,vocab,k):\n",
    "    SC= cxt\n",
    "    k_S, k_C, k_SC = k #k_s = 3, k_C = 5 , k_sc = 6\n",
    "    S = select_distinct(SC, 0)\n",
    "    s,d = sample(S,2)\n",
    "    return s, d\n",
    "\n",
    "def complement_query2str(query):\n",
    "    s, d = query\n",
    "    query_str = \"Is %s a subset of %s?\" % (s, d)\n",
    "    return '. ' + query_str\n",
    "\n",
    "def complement_sample(vocab, k):\n",
    "    S_vocab, C_vocab = vocab  \n",
    "    k_S, k_C, k_SC = k  # k_S = 3, k_C = 4, k_SC = 5\n",
    "    S, C= sample(S_vocab, k_S), sample(C_vocab, k_C)\n",
    "    all_SC = list(itertools.product(S, C))  \n",
    "    while seq(SC := sample(all_SC, k_SC)).map(_[0]).distinct().len() < k_S: continue \n",
    "    return SC\n",
    "\n",
    "def union(cxt, query):\n",
    "    SC, DC = cxt\n",
    "    ss,d = query\n",
    "    return (seq(ss)\n",
    "            .map(lambda s: seq(SC).filter(_[0] == s).map(_[1]) \n",
    "                 .union(\n",
    "                     seq(DC).filter(_[0] == d).map(_[1])) \n",
    "                 .distinct().len() == seq(DC).filter(_[0] == d).map(_[1]).distinct().len())  \n",
    "            .all()) \n",
    "\n",
    "def union_sample(vocab, k):\n",
    "    S_vocab, C_vocab, D_vocab = vocab  \n",
    "    k_S, k_C, k_D, k_SC = k  # k_S = 3, k_C = 4, k_D = 2, k_SC = 6\n",
    "    S, C, D = sample(S_vocab, k_S), sample(C_vocab, k_C), sample(D_vocab, k_D)\n",
    "    \n",
    "    while len(set(DC := choices(D, k=k_C))) < k_D: continue  \n",
    "    DC = list(zip(DC,C)) \n",
    "    \n",
    "    all_SC = list(itertools.product(S, C))  \n",
    "    while seq(SC := sample(all_SC, k_SC)).map(_[0]).distinct().len() < k_S: continue  \n",
    "    return SC, DC\n",
    "   \n",
    "def union_query(cxt,vocab,k): \n",
    "    SC, DC = cxt\n",
    "    k_S, k_C, k_D, k_SC = k\n",
    "    S, D = select_distinct(SC, 0), select_distinct(DC, 0)\n",
    "    k_ss = randint(2, len(S))\n",
    "    ss = sample(S, k_ss)\n",
    "    d = choice(D)\n",
    "    return ss, d\n",
    "\n",
    "def union_query2str(query):\n",
    "    ss, d = query\n",
    "    query_str = 'Is the union of %s a subset of %s?' % (', '.join(ss[:-1]) + ' and ' + ss[-1], d)\n",
    "    return '. ' + query_str\n",
    "\n",
    "def find_same(cxt, query): #新建联系，把vocab和属性连起来形成新集合\n",
    "    NA, DA = cxt\n",
    "    s,d = query\n",
    "    D = seq(DA).filter(_[0] == d).map(_[1])\n",
    "    return (seq(NA).filter(_[0] == s).map(_[1]).select(lambda x: sl_vocab[x] == sl_vocab[D[0]]).any())\n",
    "      \n",
    "    \n",
    "def find_sample(vocab, k): \n",
    "    name_vocab, all_vocab = vocab\n",
    "    k_name, k_all, k_D, k_SA = k  # k_name = 3, k_all = 4, k_D = 2, k_SA = 6\n",
    "    S = list(all_vocab.keys())\n",
    "    N, A, D = sample(name_vocab, k_name), sample(S, k_all), sample(string.ascii_lowercase, k_D)\n",
    "#     D = sample(d := name_vocab.pop(name_vocab.index(a) for a in N),k_D)\n",
    "    A1 = sample(S, k_D)\n",
    "    DA = list(zip(D,A1)) \n",
    "    \n",
    "    all_NA = list(itertools.product(N, A))  \n",
    "    while seq(NA := sample(all_NA, k_SA)).map(_[0]).distinct().len() < k_name: continue  \n",
    "    return NA, DA\n",
    "   \n",
    "def find_query(cxt,vocab,k): \n",
    "    NA, DA = cxt\n",
    "    k_name, k_all, k_D, k_SA = k\n",
    "    S,D = select_distinct(NA, 0), select_distinct(DA, 0)\n",
    "    s,d = choice(S), choice(D)\n",
    "    return s, d\n",
    "\n",
    "def find_query2str(query):\n",
    "    s, d = query\n",
    "    query_str = 'Is there an element in %s that belongs to the same class as %s?' % (s, d)\n",
    "    return '. ' + query_str\n",
    "\n",
    "\n",
    "def find_differ(cxt, query):\n",
    "    NA = cxt\n",
    "    ss = query\n",
    "    return (seq(ss).map(lambda s: seq(NA).filter(_[0] == s).map(_[1])\n",
    "                        .select(lambda x: sl_vocab[x])[0])\n",
    "            .distinct().len( ) == 2)\n",
    "               \n",
    "def find_dif_sample(vocab, k):\n",
    "    name_vocab, all_vocab = vocab\n",
    "    k_name, k_all, k_SA = k  # k_name = 4, k_all = 4, k_SA= 3\n",
    "    N, A = sample(name_vocab, k_name), sample(list(all_vocab.keys()), k_all) \n",
    "    NA = list(zip(N,A)) \n",
    "    return NA\n",
    "   \n",
    "def find_dif_query(cxt,vocab,k): \n",
    "    NA = cxt\n",
    "    k_name, k_all, k_NA = k\n",
    "    S = select_distinct(NA, 0)\n",
    "    ss = sample(S,k_NA)\n",
    "    return ss\n",
    "\n",
    "\n",
    "def find_dif_query2str(query):\n",
    "    ss = query\n",
    "    query_str = 'Are there any elements different from other elements in %s?' % (', '.join(ss[:-1]) + ' and ' + ss[-1])\n",
    "    return '. ' + query_str\n",
    "\n"
   ]
  },
  {
   "cell_type": "markdown",
   "id": "4a84330e",
   "metadata": {},
   "source": [
    "# 本次添加的代码在下面   2022/3/16"
   ]
  },
  {
   "cell_type": "code",
   "execution_count": 18,
   "id": "464efbec",
   "metadata": {},
   "outputs": [],
   "source": [
    "def count(cxt, query):\n",
    "    s = cxt\n",
    "    q = query\n",
    "    return seq(s).filter(lambda x: sl_vocab[x] == sl_vocab[q[0]]).len()\n",
    "                     \n",
    "def count_sample(vocab, k):\n",
    "    all_vocab = vocab\n",
    "    k_cxt,k_query = k  # k_cxt = 4 ,k_query =1\n",
    "    N = list(all_vocab.keys())\n",
    "    s = sample(N, k_cxt) \n",
    "    return s\n",
    "   \n",
    "def count_query(cxt,vocab,k): \n",
    "    NA = cxt\n",
    "    k_cxt,k_query = k\n",
    "    N = list(vocab.keys())\n",
    "    q = sample(N,k_query)\n",
    "    return q\n",
    "\n",
    "def count_query2str(query):\n",
    "    q = query\n",
    "    query_str = 'How many elements are similar to %s?' % (q[0])\n",
    "    return '. ' + query_str\n",
    "\n",
    "def compare(cxt, query):\n",
    "    s = cxt\n",
    "    q = query\n",
    "    return (seq(s).filter(lambda x: sl_vocab[x] == sl_vocab[q[0]]).len() >= len(s)/2)\n",
    "                     \n",
    "def compare_sample(vocab, k):\n",
    "    all_vocab,s_vocab,l_vocab = vocab\n",
    "    k_cxt,k_query = k  # k_cxt = 5 ,k_query =2\n",
    "    N = list(all_vocab.keys())\n",
    "    s = sample(N, k_cxt) \n",
    "    return s\n",
    "   \n",
    "def compare_query(cxt,vocab,k): \n",
    "    NA = cxt\n",
    "    all_vocab,s_vocab,l_vocab = vocab\n",
    "    k_cxt,k_query = k\n",
    "    q = sample(s_vocab,1)+sample(l_vocab,1)\n",
    "    random.shuffle(q)\n",
    "    return q\n",
    "\n",
    "def compare_query2str(query):\n",
    "    ss,q = query\n",
    "    query_str = 'Is the quantity similar to %s greater than that of %s?' % (q[0],q[1])\n",
    "    return '. ' + query_str"
   ]
  },
  {
   "cell_type": "code",
   "execution_count": 19,
   "id": "62aee837",
   "metadata": {},
   "outputs": [],
   "source": [
    "def Ascii_size_existence(l, query): return seq(l).map(_[0] > query).any()\n",
    "def Ascii_size_all(l, query): return seq(l).map(_[0] > query).all()\n",
    "def Ascii_size_None(l, query): return seq(l).filter(_[0] > query).empty()\n",
    "def ith_element(l, query=None): return seq(l).slice(1, 2)\n",
    "def ith_group(l, query=None): return seq(l).group_by(_).select(_[1]).slice(1, 2).flatten()#.distinct()# davinci F w/ and wo dist\n",
    "# def element_at_index(l, query): return seq(l).slice(query, query + 1) # davinci F\n",
    "def element_at_index(l, query): return seq(l).enumerate().filter(_[0] == query).select(_[1])\n",
    "def replace(l, query): return seq(l).map(lambda x: query.get(x, x))\n",
    "def replace_with_the_other(l, query): # davinci F\n",
    "    query = {k: (set(l) - {k}).pop() for k in l}\n",
    "    return replace(l, query)\n",
    "def replace_all_with(l, query): return seq(l).map(lambda x: query)  # davinci F?!\n",
    "def interleave_with(l, query): return seq(l).flat_map(lambda x: [x, query])  # davinci T!!\n",
    "def unique_elements(l, query=None): return seq(l).distinct() # davinci F\n",
    "def how_many_unique_elements(l, query=None): return seq(l).distinct().len()  # davinci F\n",
    "def how_many(l, query): return seq(l).filter(_ == query).len() # davinci F\n",
    "def select_same_as(l, query): return seq(l).filter(_ == query) # simpler version of how_many. davinci F\n",
    "def select_same_number_as(l, query): return seq(l).group_by(_).select(_[1]).filter(lambda x: len(x) == len(query)).flatten() # F\n",
    "def includes(l, query): return seq(l).union(seq(query)).distinct().len() == seq(l).distinct().len() # davinci F\n",
    "def is_included_by(l, query): return seq(l).difference(seq(query)).empty() # davinci F"
   ]
  },
  {
   "cell_type": "code",
   "execution_count": 20,
   "id": "f199b53d",
   "metadata": {},
   "outputs": [],
   "source": [
    "tasks = [\n",
    "    (ith_element,            None,                               sample,    None,None),\n",
    "    (ith_group,              None, lambda vocab, k: seq(sample(vocab, k)).map(lambda x:[x]*randint(1, 3)).flatten().list(),None,None),\n",
    "    (element_at_index,       lambda: upper_letters,              sample,    lambda l,vocab,k: randint(0, min(2,len(l)-1))),\n",
    "    (replace,                None,                               sample,    lambda l,vocab,k: {choice(l): choice(vocab)}),\n",
    "    (replace_with_the_other, lambda: sample(full_vocab, 2),   lambda vocab,k: sample(vocab+choices(vocab, k=k-2),k), None),\n",
    "    (replace_all_with,       None,                               sample_rand_len, lambda l,vocab,k: choice(vocab)),\n",
    "    (interleave_with,        None,                               sample_rand_len, lambda l,vocab,k: choice(vocab)),\n",
    "    (unique_elements,        lambda: sample(upper_letters, 3),   choices,   None),\n",
    "    (how_many_unique_elements,lambda: sample(upper_letters, 3),  choices,   None),\n",
    "    (how_many,               lambda: sample(upper_letters, 3),   choices,   lambda l,vocab,k: choice(list(set(l)))),\n",
    "    (select_same_as,         lambda: sample(upper_letters, 3),   choices,   lambda l,vocab,k: choice(list(set(l)))),\n",
    "    (select_same_number_as,  None, lambda vocab, k: seq(sample(vocab, k)).map(lambda x:[x]*randint(1, 3)).flatten().list(),   \n",
    "     lambda l,vocab,k: [choice(vocab)]*randint(1, 3)),\n",
    "    (includes,               lambda: sample(upper_letters, 6),   sample,    lambda l,vocab,k: sample(vocab, 3)),\n",
    "    (is_included_by,         lambda: sample(upper_letters, 6),   sample,    lambda l,vocab,k: sample(vocab, 5)),\n",
    "    \n",
    "    (Ascii_size_None,        lambda: upper_letters,              sample,    lambda l,vocab,k: \"Is there no element greater than %s?\" % choice(list(set(l)))),\n",
    "    (Ascii_size_all,         lambda: upper_letters,              sample,    lambda l,vocab,k: \"Are all elements greater than %s?\" % choice(list(set(l)))),\n",
    "    (Ascii_size_existence,   lambda: upper_letters,              sample,    lambda l,vocab,k: \"Is there an element greater than %s?\" % choice(list(set(l)))),\n",
    "    \n",
    "    (all_a,                  lambda: [names_vocab,courses_vocab,depts_vocab],     all_a_sample,    all_a_query, all_a_query2str),\n",
    "    (all_b,                  lambda: [names_vocab,courses_vocab,depts_vocab],     all_b_sample,    all_b_query, all_b_query2str),\n",
    "    (intersection,           lambda: [upper_letters,string.ascii_lowercase],     intersection_sample,    intersection_query, intersection_query2str),\n",
    "    (complement,           lambda: [upper_letters,string.ascii_lowercase],     complement_sample,    complement_query, complement_query2str),\n",
    "    (union,                lambda: [upper_letters,string.ascii_lowercase,depts_vocab],     union_sample,    union_query, union_query2str),\n",
    "    (find_same,            lambda: [upper_letters,sl_vocab],      find_sample,    find_query, find_query2str ),\n",
    "    (find_differ,          lambda: [upper_letters,sl_vocab],      find_dif_sample,  find_dif_query, find_dif_query2str ),\n",
    "    (count,                lambda: sl_vocab,                                      count_sample,            count_query,count_query2str),\n",
    "    (compare,              lambda: [sl_vocab,solid_vocab,liquid_vocab],          compare_sample,            compare_query,compare_query2str),\n",
    "]"
   ]
  },
  {
   "attachments": {
    "image.png": {
     "image/png": "[encoded data removed]"
    }
   },
   "cell_type": "markdown",
   "id": "8ca20270",
   "metadata": {},
   "source": [
    "![image.png](attachment:image.png)"
   ]
  },
  {
   "cell_type": "code",
   "execution_count": 46,
   "id": "e98e87d7",
   "metadata": {},
   "outputs": [
    {
     "name": "stdout",
     "output_type": "stream",
     "text": [
      "Instruction: find differ. For example:\n",
      "M: brandy, R: vodka, H: lemon, D: strawberry. Are there any elements different from other elements in D, M and H? -> Yes\n",
      "R: pineapple, S: apple, G: coffee, C: whisky. Are there any elements different from other elements in G, C and R? -> Yes\n",
      "S: peach, D: pineapple, J: strawberry, F: pear. Are there any elements different from other elements in D, F and S? -> No\n",
      "P: apple, H: pear, T: beer, E: coffee. Are there any elements different from other elements in H, T and E? -> Yes\n",
      "L: pear, M: banana, J: strawberry, D: peach. Are there any elements different from other elements in L, D and J? -> No\n",
      "H: peach, A: pear, C: strawberry, B: banana. Are there any elements different from other elements in B, C and A? -> No\n",
      "B: vodka, E: brandy, X: coffee, S: milk. Are there any elements different from other elements in E, X and S? -> No\n",
      "B: vodka, S: juice, W: pineapple, T: banana. Are there any elements different from other elements in S, T and W? -> Yes\n",
      "\n"
     ]
    }
   ],
   "source": [
    "print(make_input_str(tasks[-3], nrows=8, ncols=(4,4,3))) "
   ]
  },
  {
   "attachments": {
    "image.png": {
     "image/png": "[encoded data removed]"
    }
   },
   "cell_type": "markdown",
   "id": "affea386",
   "metadata": {},
   "source": [
    "![image.png](attachment:image.png)"
   ]
  },
  {
   "cell_type": "code",
   "execution_count": 28,
   "id": "6fb4988c",
   "metadata": {},
   "outputs": [
    {
     "name": "stdout",
     "output_type": "stream",
     "text": [
      "Instruction: find same. For example:\n",
      "E: juice, M: wine, M: banana, A: juice; b: vodka, d: whisky. Is there an element in M that belongs to the same class as b? -> Yes\n",
      "L: milk, X: milk, M: beer, X: vodka; n: wine, o: apple. Is there an element in L that belongs to the same class as o? -> No\n",
      "\n"
     ]
    }
   ],
   "source": [
    "print(make_input_str(tasks[-4], nrows=6, ncols=(3,4,2,4)))  #找相同"
   ]
  },
  {
   "cell_type": "code",
   "execution_count": 29,
   "id": "f4070da5",
   "metadata": {},
   "outputs": [
    {
     "name": "stdout",
     "output_type": "stream",
     "text": [
      "Instruction: compare. For example:\n",
      "pear lemon peach vodka beer. Is the quantity similar to c greater than that of o? -> Yes\n",
      "juice cola pineapple whisky wine. Is the quantity similar to w greater than that of i? -> No\n",
      "grape juice cola apple banana. Is the quantity similar to g greater than that of r? -> No\n",
      "coffee peach juice whisky apple. Is the quantity similar to g greater than that of r? -> Yes\n",
      "\n"
     ]
    }
   ],
   "source": [
    "print(make_input_str(tasks[-1], nrows=8, ncols=(5,2))) #比较，query中给了两个元素（固体、液体），\n",
    "                                                        #若前一个元素的类型数目大于后一个，就输出YES"
   ]
  },
  {
   "cell_type": "code",
   "execution_count": 30,
   "id": "4f3668d5",
   "metadata": {},
   "outputs": [
    {
     "name": "stdout",
     "output_type": "stream",
     "text": [
      "Instruction: count. For example:\n",
      "pear peach brandy. How many elements are similar to vodka? -> 1\n",
      "apple grape banana. How many elements are similar to coffee? -> 0\n",
      "beer milk cola. How many elements are similar to juice? -> 3\n",
      "cola pineapple juice. How many elements are similar to juice? -> 2\n",
      "\n"
     ]
    }
   ],
   "source": [
    "print(make_input_str(tasks[-2], nrows=10, ncols=(3,1), ans_vocab=[0,1,2,3]))    #数数，数cxt中与query中元素同类的个数\n",
    "                                                                                  #这里修改了balance函数"
   ]
  },
  {
   "cell_type": "code",
   "execution_count": 31,
   "id": "db442a52",
   "metadata": {},
   "outputs": [
    {
     "name": "stdout",
     "output_type": "stream",
     "text": [
      "Instruction: union. For example:\n",
      "A: w, X: a, M: a, M: w; Eng: a, CS: q, Eng: w, CS: v. Is the union of M, A and X a subset of Eng? -> Yes\n",
      "R: k, M: a, E: k, R: a; Mat: a, Eng: t, Mat: v, Mat: k. Is the union of E and R a subset of Eng? -> No\n",
      "\n"
     ]
    }
   ],
   "source": [
    "print(make_input_str(tasks[-5], nrows=18, ncols=(3,4,2,4))) "
   ]
  },
  {
   "cell_type": "code",
   "execution_count": 32,
   "id": "eadf0bd9",
   "metadata": {},
   "outputs": [
    {
     "name": "stdout",
     "output_type": "stream",
     "text": [
      "Instruction: complement. For example:\n",
      "C: l, H: p, J: s, J: m, H: l. Is C a subset of H? -> Yes\n",
      "S: y, J: o, S: q, R: q, J: r. Is R a subset of J? -> No\n",
      "L: x, T: n, L: w, L: u, A: s. Is T a subset of L? -> No\n",
      "F: h, S: z, D: h, D: r, S: u. Is F a subset of D? -> Yes\n",
      "X: e, X: v, W: g, G: e, X: n. Is G a subset of X? -> Yes\n",
      "B: w, E: y, B: k, P: d, E: r. Is P a subset of E? -> No\n",
      "X: v, S: f, X: w, C: q, C: y. Is S a subset of C? -> No\n",
      "W: p, B: r, G: x, W: r, W: c. Is B a subset of W? -> Yes\n",
      "\n"
     ]
    }
   ],
   "source": [
    "print(make_input_str(tasks[-6], nrows=18, ncols=(3,11,5))) "
   ]
  },
  {
   "cell_type": "code",
   "execution_count": 57,
   "id": "c8c59a5b",
   "metadata": {},
   "outputs": [
    {
     "name": "stdout",
     "output_type": "stream",
     "text": [
      "Instruction: intersection. For example:\n",
      "M: e, M: j, P: d, M: d, C: t. Is there an intersection between M and P? -> Yes\n",
      "G: p, H: p, J: r, G: u, H: r. Is there an intersection between J and G? -> No\n",
      "\n"
     ]
    }
   ],
   "source": [
    "print(make_input_str(tasks[-7], nrows=4, ncols=(3,4,5)))"
   ]
  },
  {
   "cell_type": "code",
   "execution_count": 51,
   "id": "105e915f",
   "metadata": {},
   "outputs": [
    {
     "name": "stdout",
     "output_type": "stream",
     "text": [
      "Instruction: all b. For example:\n",
      "H: English, W: English, H: Math, S: Math, W: History; English: Chi, Math: Chi, History: Eng. Does S take all Chi courses? -> No\n",
      "M: History, S: Art, Z: Chemistry, M: Chemistry, M: Art; Art: Eng, History: CS, Chemistry: Eng. Does M take all CS courses? -> Yes\n",
      "\n"
     ]
    }
   ],
   "source": [
    "print(make_input_str(tasks[-8], nrows=8, ncols=(3, 3, 2, 5))) "
   ]
  },
  {
   "cell_type": "code",
   "execution_count": null,
   "id": "c3df9c68",
   "metadata": {},
   "outputs": [],
   "source": []
  },
  {
   "cell_type": "code",
   "execution_count": null,
   "id": "7e420842",
   "metadata": {},
   "outputs": [],
   "source": []
  },
  {
   "cell_type": "code",
   "execution_count": 1009,
   "id": "6f1f6307",
   "metadata": {},
   "outputs": [],
   "source": [
    "courses = ['Math', 'Chem', \"Algebra\"]\n",
    "depts = ['CS', 'Phy']"
   ]
  },
  {
   "cell_type": "code",
   "execution_count": 1028,
   "id": "67b27b7a",
   "metadata": {},
   "outputs": [
    {
     "data": {
      "text/plain": [
       "[('Phy', 'Math'), ('CS', 'Chem'), ('Phy', 'Algebra')]"
      ]
     },
     "execution_count": 1028,
     "metadata": {},
     "output_type": "execute_result"
    }
   ],
   "source": [
    "list(zip(random.choices(depts, k=len(courses)), courses))"
   ]
  },
  {
   "cell_type": "code",
   "execution_count": 1036,
   "id": "bde21d4a",
   "metadata": {},
   "outputs": [
    {
     "name": "stderr",
     "output_type": "stream",
     "text": [
      "[autoreload of pkg_resources failed: Traceback (most recent call last):\n",
      "  File \"/home/xd/.local/lib/python3.8/site-packages/IPython/extensions/autoreload.py\", line 245, in check\n",
      "    superreload(m, reload, self.old_objects)\n",
      "  File \"/home/xd/.local/lib/python3.8/site-packages/IPython/extensions/autoreload.py\", line 394, in superreload\n",
      "    module = reload(module)\n",
      "  File \"/home/kf/miniconda3/envs/pytorch1.7.1/lib/python3.8/imp.py\", line 314, in reload\n",
      "    return importlib.reload(module)\n",
      "  File \"/home/kf/miniconda3/envs/pytorch1.7.1/lib/python3.8/importlib/__init__.py\", line 169, in reload\n",
      "    _bootstrap._exec(spec, module)\n",
      "  File \"<frozen importlib._bootstrap>\", line 604, in _exec\n",
      "  File \"<frozen importlib._bootstrap_external>\", line 783, in exec_module\n",
      "  File \"<frozen importlib._bootstrap>\", line 219, in _call_with_frames_removed\n",
      "  File \"/home/kf/miniconda3/envs/pytorch1.7.1/lib/python3.8/site-packages/pkg_resources/__init__.py\", line 3082, in <module>\n",
      "    class RequirementParseError(packaging.requirements.InvalidRequirement):\n",
      "AttributeError: module 'pkg_resources._vendor.packaging' has no attribute 'requirements'\n",
      "]\n"
     ]
    },
    {
     "data": {
      "text/plain": [
       "['ĠC', '_', 'language']"
      ]
     },
     "execution_count": 1036,
     "metadata": {},
     "output_type": "execute_result"
    }
   ],
   "source": [
    "tokenizer.tokenize(' C_language')"
   ]
  },
  {
   "cell_type": "code",
   "execution_count": 927,
   "id": "bea4157b",
   "metadata": {
    "scrolled": true
   },
   "outputs": [
    {
     "name": "stdout",
     "output_type": "stream",
     "text": [
      "Instruction: all. For example:\n",
      "B:Math A:Analytcal_Chemistry B:Physics A:Linear_Algebra CS:Math CS:Analytcal_Chemistry. Do A,B all choose CS courses? -> Yes\n",
      "A:Art CS:Analytcal_Chemistry B:Biology B:English CS:Biology A:Analytcal_Chemistry. Do A,B all choose CS courses? -> Yes\n",
      "A:General_Chemistry CS:General_Chemistry CS:Environmental_Monitoring A:Environmental_Monitoring B:Sql B:C_language. Do A,B all choose CS courses? -> No\n",
      "B:Math B:Sql A:History CS:Math A:Physics CS:History. Do A,B all choose CS courses? -> Yes\n",
      "A:Physics B:History A:Biology CS:Physics CS:History B:General_Chemistry. Do A,B all choose CS courses? -> Yes\n",
      "A:Analytcal_Chemistry B:Chinese CS:General_Chemistry CS:Sql B:Sql A:General_Chemistry. Do A,B all choose CS courses? -> Yes\n",
      "A:Sql CS:Music B:Environmental_Monitoring CS:Sql A:Music B:English. Do A,B all choose CS courses? -> No\n",
      "B:Geography A:Math B:Physics CS:Math A:General_Chemistry CS:Geography. Do A,B all choose CS courses? -> Yes\n",
      "\n"
     ]
    }
   ],
   "source": [
    "print(make_input_str(tasks[-6], nrows=8, ncols=6)) #AB两人是否全部选了CS课程"
   ]
  },
  {
   "cell_type": "code",
   "execution_count": null,
   "id": "5be7fe06",
   "metadata": {},
   "outputs": [],
   "source": []
  },
  {
   "cell_type": "code",
   "execution_count": 169,
   "id": "06d90c77",
   "metadata": {},
   "outputs": [
    {
     "name": "stdout",
     "output_type": "stream",
     "text": [
      "Instruction: all. For example:\n",
      "CS:Analytcal_Chemistry A:Chinese B:Linear_Algebra A:Math. Do A,B all choose CS courses? -> Yes\n",
      "CS:Environmental_Monitoring CS:C_language B:C_language A:Environmental_Monitoring. Do A,B all choose CS courses? -> No\n",
      "A:Linear_Algebra CS:General_Chemistry B:Physics B:Art. Do A,B all choose CS courses? -> Yes\n",
      "A:Geography CS:Biology B:Environmental_Monitoring B:C_language. Do A,B all choose CS courses? -> Yes\n",
      "B:Art CS:Art CS:Music A:Operating_Systems. Do A,B all choose CS courses? -> No\n",
      "CS:Physics B:General_Chemistry A:Chinese CS:Chinese. Do A,B all choose CS courses? -> No\n",
      "CS:Linear_Algebra CS:Music B:Music B:Geography. Do A,B all choose CS courses? -> No\n",
      "A:Linear_Algebra B:General_Chemistry CS:C_language A:Math. Do A,B all choose CS courses? -> Yes\n",
      "\n"
     ]
    }
   ],
   "source": [
    "print(make_input_str(tasks[-2], nrows=8, ncols=4))"
   ]
  },
  {
   "cell_type": "code",
   "execution_count": 72,
   "id": "17373019",
   "metadata": {
    "collapsed": true
   },
   "outputs": [
    {
     "name": "stdout",
     "output_type": "stream",
     "text": [
      "['Instruction: intersection. For example:\\nM: n, P: n, P: w, E: c, P: s. Is there an intersection between E and P? -> No\\nL: m, L: k, W: k, W: d, P: s. Is there an intersection between P and W? -> No\\nR: s, B: t, S: b, R: b, B: e. Is there an intersection between S and B? -> No\\nF: x, G: x, G: r, T: x, G: q. Is there an intersection between F and T? -> Yes\\nR: r, R: d, F: d, B: i, F: r. Is there an intersection between R and B? -> No\\nH: v, C: v, C: o, H: z, G: v. Is there an intersection between G and H? -> Yes\\nG: j, H: j, L: h, L: b, H: h. Is there an intersection between H and G? -> Yes\\nS: w, L: q, S: q, J: w, J: q. Is there an intersection between J and L? -> Yes\\nT: c, F: c, T: r, R: c, F: x. Is there an intersection between F and T? -> Yes\\nR: e, L: n, F: e, R: j, R: v. Is there an intersection between L and F? -> No\\n', 'Instruction: intersection. For example:\\nP: b, E: b, P: e, E: q, R: d. Is there an intersection between P and R? -> No\\nS: j, I: z, I: a, B: j, B: z. Is there an intersection between I and B? -> Yes\\nH: p, H: w, E: r, H: r, T: u. Is there an intersection between H and T? -> No\\nD: d, S: y, P: r, S: d, D: s. Is there an intersection between S and D? -> Yes\\nX: x, X: k, D: x, B: k, D: k. Is there an intersection between X and D? -> Yes\\nG: m, W: u, C: m, W: d, G: o. Is there an intersection between W and G? -> No\\n', 'Instruction: intersection. For example:\\nS: h, M: n, M: a, I: n, S: p. Is there an intersection between S and M? -> No\\nX: g, M: y, I: x, M: g, M: x. Is there an intersection between X and I? -> No\\nL: s, P: s, L: a, L: m, R: d. Is there an intersection between L and P? -> Yes\\nT: m, T: s, T: v, A: a, G: a. Is there an intersection between G and T? -> No\\nC: v, S: j, C: f, S: v, H: f. Is there an intersection between S and H? -> No\\nX: e, X: v, W: v, W: e, A: v. Is there an intersection between A and X? -> Yes\\nT: k, W: x, B: t, T: t, W: k. Is there an intersection between W and T? -> Yes\\nB: r, C: r, J: i, B: c, J: r. Is there an intersection between C and J? -> Yes\\n', 'Instruction: intersection. For example:\\nH: k, H: m, S: k, C: l, H: h. Is there an intersection between C and S? -> No\\nH: i, C: m, T: i, T: t, T: w. Is there an intersection between T and H? -> Yes\\nT: m, J: m, J: c, X: m, J: o. Is there an intersection between J and T? -> Yes\\nM: m, F: v, M: v, F: e, C: l. Is there an intersection between F and C? -> No\\nS: p, I: j, I: a, I: s, F: a. Is there an intersection between F and I? -> Yes\\nW: v, W: e, S: g, S: q, F: q. Is there an intersection between S and W? -> No\\nX: e, I: t, I: c, T: u, T: e. Is there an intersection between X and I? -> No\\nB: j, B: i, B: g, H: i, G: i. Is there an intersection between B and H? -> Yes\\n', 'Instruction: intersection. For example:\\nH: r, L: q, L: d, X: d, H: d. Is there an intersection between H and X? -> Yes\\nX: c, X: e, X: o, B: c, I: c. Is there an intersection between B and I? -> Yes\\nL: j, R: u, G: l, L: a, L: u. Is there an intersection between G and L? -> No\\nS: q, L: q, E: c, S: a, L: t. Is there an intersection between E and L? -> No\\nI: o, G: y, C: e, G: e, C: o. Is there an intersection between G and I? -> No\\nG: w, G: r, F: m, F: p, B: r. Is there an intersection between G and B? -> Yes\\nJ: r, L: n, R: r, R: c, J: c. Is there an intersection between L and J? -> No\\nS: q, S: k, R: a, J: r, S: r. Is there an intersection between J and S? -> Yes\\n', 'Instruction: intersection. For example:\\nP: u, F: m, F: e, S: e, S: m. Is there an intersection between P and F? -> No\\nM: e, E: z, R: r, M: r, M: z. Is there an intersection between E and R? -> No\\nR: k, T: p, T: w, F: a, F: p. Is there an intersection between T and F? -> Yes\\nC: c, G: v, E: y, G: y, E: p. Is there an intersection between E and C? -> No\\nP: r, E: r, P: h, X: k, X: r. Is there an intersection between P and X? -> Yes\\nI: x, H: w, B: w, I: w, H: x. Is there an intersection between I and H? -> Yes\\n', 'Instruction: intersection. For example:\\nC: n, D: c, I: n, D: n, C: q. Is there an intersection between D and I? -> Yes\\nX: q, H: n, H: q, C: q, X: h. Is there an intersection between X and C? -> Yes\\nC: o, B: g, C: v, P: g, B: c. Is there an intersection between P and C? -> No\\nH: w, H: t, J: d, W: e, W: t. Is there an intersection between J and H? -> No\\nW: f, B: n, S: q, B: f, S: b. Is there an intersection between S and B? -> No\\nF: n, X: n, F: v, D: n, D: p. Is there an intersection between X and D? -> Yes\\nT: o, H: o, H: a, J: o, T: v. Is there an intersection between T and J? -> Yes\\nT: v, E: s, E: v, R: a, R: s. Is there an intersection between R and T? -> No\\nB: t, B: l, A: l, A: t, R: t. Is there an intersection between A and R? -> Yes\\nB: b, T: b, B: e, J: l, T: d. Is there an intersection between T and J? -> No\\n', 'Instruction: intersection. For example:\\nX: d, X: x, P: j, A: d, P: x. Is there an intersection between P and X? -> Yes\\nI: n, X: n, I: s, X: m, G: d. Is there an intersection between G and I? -> No\\nT: u, T: y, A: y, E: k, A: l. Is there an intersection between T and E? -> No\\nD: j, J: k, H: k, J: v, D: k. Is there an intersection between D and J? -> Yes\\nG: n, P: t, P: m, T: b, T: t. Is there an intersection between P and G? -> No\\nW: r, D: m, I: f, I: r, D: r. Is there an intersection between W and D? -> Yes\\n', 'Instruction: intersection. For example:\\nD: i, S: i, S: j, L: j, S: b. Is there an intersection between D and S? -> Yes\\nW: b, J: l, R: b, J: f, W: l. Is there an intersection between R and J? -> No\\nM: f, B: i, B: y, M: q, A: q. Is there an intersection between M and B? -> No\\nP: h, I: k, I: t, P: t, M: t. Is there an intersection between P and I? -> Yes\\nH: d, H: n, I: k, P: n, H: k. Is there an intersection between H and P? -> Yes\\nT: x, M: x, M: o, T: t, A: n. Is there an intersection between A and M? -> No\\nD: g, T: a, H: d, D: a, H: a. Is there an intersection between H and D? -> Yes\\nW: q, E: x, S: z, W: x, S: q. Is there an intersection between S and E? -> No\\n', 'Instruction: intersection. For example:\\nH: g, S: l, H: a, H: l, L: o. Is there an intersection between L and H? -> No\\nT: h, W: e, W: m, T: p, I: h. Is there an intersection between T and I? -> Yes\\nL: u, T: e, T: f, D: a, T: u. Is there an intersection between T and D? -> No\\nG: k, X: p, W: k, W: h, W: n. Is there an intersection between W and X? -> No\\nC: w, E: w, G: w, E: c, G: u. Is there an intersection between E and G? -> Yes\\nH: n, A: g, H: x, C: i, A: n. Is there an intersection between A and H? -> Yes\\n', 'Instruction: intersection. For example:\\nC: g, G: a, P: d, G: m, C: m. Is there an intersection between P and C? -> No\\nH: f, H: g, F: f, H: q, A: g. Is there an intersection between F and H? -> Yes\\nG: c, G: f, T: g, G: n, M: f. Is there an intersection between M and T? -> No\\nR: e, M: m, R: m, R: k, T: e. Is there an intersection between T and R? -> Yes\\nX: b, I: u, I: y, B: y, X: u. Is there an intersection between X and B? -> No\\nX: h, I: y, P: y, X: e, I: h. Is there an intersection between I and X? -> Yes\\nL: w, J: w, L: y, L: i, R: i. Is there an intersection between J and R? -> No\\nG: i, G: u, B: z, H: z, B: i. Is there an intersection between G and B? -> Yes\\nH: k, J: r, J: k, T: z, T: j. Is there an intersection between H and T? -> No\\nD: y, I: q, D: q, M: r, M: q. Is there an intersection between M and I? -> Yes\\n', 'Instruction: intersection. For example:\\nT: s, S: n, S: g, R: g, R: n. Is there an intersection between T and R? -> No\\nP: t, M: h, P: e, S: e, P: y. Is there an intersection between M and P? -> No\\nX: f, H: f, S: y, S: f, X: e. Is there an intersection between S and X? -> Yes\\nW: x, B: j, W: j, X: w, B: w. Is there an intersection between W and X? -> No\\nB: v, D: v, P: q, D: u, D: e. Is there an intersection between P and D? -> No\\nL: d, A: d, A: s, M: d, A: x. Is there an intersection between M and A? -> Yes\\nX: l, B: j, X: h, A: j, X: j. Is there an intersection between X and B? -> Yes\\nM: w, C: b, F: d, F: w, C: w. Is there an intersection between C and M? -> Yes\\n', 'Instruction: intersection. For example:\\nM: g, R: v, M: c, A: g, R: g. Is there an intersection between R and A? -> Yes\\nT: p, R: p, H: p, T: y, H: n. Is there an intersection between T and R? -> Yes\\nG: b, B: n, A: w, A: b, B: o. Is there an intersection between A and B? -> No\\nM: z, S: z, I: j, M: x, I: x. Is there an intersection between I and S? -> No\\nW: r, L: c, C: r, L: k, W: k. Is there an intersection between C and L? -> No\\nL: d, X: g, L: p, X: d, C: p. Is there an intersection between C and L? -> Yes\\n', 'Instruction: intersection. For example:\\nE: p, G: p, B: z, B: m, B: p. Is there an intersection between B and G? -> Yes\\nG: e, L: s, T: s, T: e, T: u. Is there an intersection between G and L? -> No\\nB: g, R: x, B: x, G: g, R: i. Is there an intersection between G and B? -> Yes\\nG: p, G: f, F: t, H: m, G: t. Is there an intersection between G and F? -> Yes\\nL: b, L: g, F: q, F: u, T: g. Is there an intersection between F and L? -> No\\nD: d, S: c, D: x, E: x, S: i. Is there an intersection between D and S? -> No\\n', 'Instruction: intersection. For example:\\nP: g, C: o, R: o, C: q, R: l. Is there an intersection between C and R? -> Yes\\nM: r, L: l, F: r, L: r, M: l. Is there an intersection between F and L? -> Yes\\nP: r, F: c, C: r, P: c, C: w. Is there an intersection between P and C? -> Yes\\nW: k, J: k, J: t, T: k, W: s. Is there an intersection between W and T? -> Yes\\nH: z, F: q, G: l, G: e, F: e. Is there an intersection between F and H? -> No\\nS: h, M: f, J: h, M: q, S: s. Is there an intersection between M and S? -> No\\nX: t, E: a, E: d, C: a, C: p. Is there an intersection between C and X? -> No\\nM: k, X: k, E: t, M: t, X: w. Is there an intersection between X and E? -> No\\n', 'Instruction: intersection. For example:\\nB: g, A: w, T: g, T: o, B: u. Is there an intersection between A and B? -> No\\nL: y, E: l, T: j, E: j, L: o. Is there an intersection between E and T? -> Yes\\nC: y, G: d, W: y, C: d, G: a. Is there an intersection between G and W? -> No\\nE: v, L: b, L: x, W: v, W: a. Is there an intersection between W and E? -> Yes\\nD: z, W: n, P: i, W: i, P: z. Is there an intersection between D and W? -> No\\nC: p, C: u, A: b, M: u, A: u. Is there an intersection between A and C? -> Yes\\nL: i, L: w, R: i, E: j, E: i. Is there an intersection between L and R? -> Yes\\nS: a, C: a, S: t, C: l, I: q. Is there an intersection between I and C? -> No\\n', 'Instruction: intersection. For example:\\nE: a, X: y, G: a, E: k, G: k. Is there an intersection between X and G? -> No\\nA: f, I: o, L: o, I: f, L: z. Is there an intersection between A and L? -> No\\nF: q, J: q, J: d, F: a, H: q. Is there an intersection between H and F? -> Yes\\nH: c, H: k, S: k, S: c, L: l. Is there an intersection between H and L? -> No\\nC: h, L: h, P: h, L: z, P: z. Is there an intersection between L and C? -> Yes\\nH: g, H: t, A: g, D: p, H: h. Is there an intersection between D and H? -> No\\nH: c, W: s, H: s, W: g, B: s. Is there an intersection between W and B? -> Yes\\nR: f, R: c, M: c, L: c, M: o. Is there an intersection between M and R? -> Yes\\n', 'Instruction: intersection. For example:\\nW: h, W: d, P: i, T: k, P: d. Is there an intersection between P and T? -> No\\nE: x, X: u, X: h, E: i, B: h. Is there an intersection between X and B? -> Yes\\nC: h, C: n, R: e, L: h, L: c. Is there an intersection between R and L? -> No\\nP: k, B: g, S: g, B: k, P: g. Is there an intersection between P and S? -> Yes\\nR: x, M: x, M: r, D: r, D: z. Is there an intersection between D and R? -> No\\nF: p, B: k, B: y, G: k, B: s. Is there an intersection between B and F? -> No\\nF: b, B: b, H: b, H: s, F: v. Is there an intersection between H and F? -> Yes\\nF: m, S: b, M: b, S: m, F: b. Is there an intersection between F and M? -> Yes\\n', 'Instruction: intersection. For example:\\nF: s, E: d, P: s, E: g, F: d. Is there an intersection between E and P? -> No\\nB: k, G: j, G: k, E: r, E: j. Is there an intersection between G and E? -> Yes\\nM: x, A: q, G: e, G: x, G: q. Is there an intersection between A and G? -> Yes\\nE: d, B: j, E: q, B: q, D: d. Is there an intersection between D and B? -> No\\nH: v, H: o, S: e, H: e, T: e. Is there an intersection between S and H? -> Yes\\nS: t, S: x, S: e, M: t, B: j. Is there an intersection between B and S? -> No\\nW: l, A: f, R: f, W: f, R: l. Is there an intersection between A and R? -> Yes\\nD: c, H: c, H: n, E: c, H: m. Is there an intersection between H and D? -> Yes\\nB: a, X: a, B: j, S: q, X: i. Is there an intersection between X and S? -> No\\nH: g, H: y, W: i, W: g, R: o. Is there an intersection between W and R? -> No\\n', 'Instruction: intersection. For example:\\nL: i, L: o, A: t, J: t, A: i. Is there an intersection between L and J? -> No\\nC: d, B: d, C: o, C: c, T: o. Is there an intersection between T and B? -> No\\nH: k, S: y, H: y, W: y, H: s. Is there an intersection between H and S? -> Yes\\nM: m, B: y, M: z, E: m, B: l. Is there an intersection between E and M? -> Yes\\nW: m, B: l, J: k, B: u, B: k. Is there an intersection between J and B? -> Yes\\nR: u, R: s, B: c, L: i, L: s. Is there an intersection between R and B? -> No\\nF: m, E: m, M: m, F: c, E: v. Is there an intersection between E and M? -> Yes\\nD: u, B: p, B: t, H: c, B: u. Is there an intersection between B and H? -> No\\n', 'Instruction: intersection. For example:\\nW: d, L: o, P: d, P: o, W: t. Is there an intersection between W and P? -> Yes\\nH: i, H: y, A: l, S: j, H: j. Is there an intersection between S and H? -> Yes\\nD: b, B: u, B: l, B: t, I: l. Is there an intersection between D and I? -> No\\nE: w, T: v, G: u, T: f, E: f. Is there an intersection between T and G? -> No\\n', 'Instruction: intersection. For example:\\nI: g, G: g, A: c, I: n, A: r. Is there an intersection between A and I? -> No\\nP: u, P: i, C: r, P: b, J: b. Is there an intersection between C and J? -> No\\nL: c, B: d, L: q, E: e, B: e. Is there an intersection between L and B? -> No\\nH: q, R: q, R: i, F: q, R: w. Is there an intersection between R and H? -> Yes\\nM: f, M: l, C: v, M: v, A: v. Is there an intersection between A and M? -> Yes\\nD: w, W: v, D: v, I: w, W: w. Is there an intersection between W and D? -> Yes\\n', 'Instruction: intersection. For example:\\nC: o, M: u, M: j, H: o, H: j. Is there an intersection between C and H? -> Yes\\nR: j, R: z, D: g, W: z, R: c. Is there an intersection between D and W? -> No\\nX: x, X: j, D: h, B: x, B: k. Is there an intersection between D and X? -> No\\nA: p, G: m, R: f, G: f, G: p. Is there an intersection between G and R? -> Yes\\nS: y, J: p, J: k, P: u, S: p. Is there an intersection between J and P? -> No\\nJ: a, C: k, A: a, A: k, J: p. Is there an intersection between J and A? -> Yes\\n', 'Instruction: intersection. For example:\\nH: y, P: y, X: s, P: z, H: i. Is there an intersection between P and H? -> Yes\\nH: r, H: m, H: t, I: w, L: w. Is there an intersection between I and H? -> No\\nC: i, C: h, C: g, B: f, D: h. Is there an intersection between D and B? -> No\\nB: d, X: d, W: m, B: m, X: m. Is there an intersection between W and B? -> Yes\\nG: f, R: f, H: l, R: l, H: j. Is there an intersection between R and G? -> Yes\\nH: u, M: a, H: v, J: u, H: x. Is there an intersection between H and J? -> Yes\\nC: u, L: c, F: q, L: q, F: c. Is there an intersection between C and L? -> No\\nJ: m, A: n, G: p, A: b, J: n. Is there an intersection between G and J? -> No\\n', 'Instruction: intersection. For example:\\nD: y, B: e, B: a, D: a, A: e. Is there an intersection between D and A? -> No\\nM: w, S: h, S: w, M: h, A: h. Is there an intersection between S and A? -> Yes\\nL: j, L: n, H: r, H: n, F: n. Is there an intersection between L and H? -> Yes\\nE: u, E: k, E: f, H: f, A: a. Is there an intersection between H and A? -> No\\nB: q, L: e, R: e, R: i, L: q. Is there an intersection between R and B? -> No\\nG: r, W: g, G: n, G: g, D: g. Is there an intersection between W and G? -> Yes\\nL: p, T: v, L: t, C: p, C: z. Is there an intersection between L and T? -> No\\nI: s, I: l, T: l, X: s, T: s. Is there an intersection between T and X? -> Yes\\nD: d, D: o, D: i, P: l, H: o. Is there an intersection between P and D? -> No\\nW: o, W: s, X: n, M: n, M: s. Is there an intersection between X and M? -> Yes\\n', 'Instruction: intersection. For example:\\nG: a, H: p, R: p, G: v, R: g. Is there an intersection between R and G? -> No\\nS: y, I: p, S: s, X: p, S: z. Is there an intersection between I and S? -> No\\nH: w, I: a, T: w, I: i, I: w. Is there an intersection between H and I? -> Yes\\nI: i, P: p, X: e, I: e, X: p. Is there an intersection between I and X? -> Yes\\nX: m, R: g, L: f, L: x, R: f. Is there an intersection between X and L? -> No\\nT: d, E: d, E: a, P: a, P: z. Is there an intersection between E and T? -> Yes\\nX: h, B: w, R: d, R: f, B: f. Is there an intersection between B and X? -> No\\nG: k, G: c, C: q, X: k, X: q. Is there an intersection between C and G? -> No\\nT: a, T: v, P: z, T: z, X: z. Is there an intersection between T and X? -> Yes\\nJ: d, D: y, M: d, J: e, M: y. Is there an intersection between J and M? -> Yes\\n', 'Instruction: intersection. For example:\\nM: n, I: n, L: h, L: g, M: h. Is there an intersection between M and I? -> Yes\\nE: d, I: g, D: d, D: v, I: s. Is there an intersection between D and I? -> No\\n', 'Instruction: intersection. For example:\\nJ: p, L: s, D: s, L: p, D: p. Is there an intersection between J and D? -> Yes\\nL: q, E: g, L: e, M: q, L: g. Is there an intersection between M and E? -> No\\nD: j, D: z, W: d, T: j, T: z. Is there an intersection between D and W? -> No\\nR: h, R: p, T: h, D: h, D: p. Is there an intersection between T and D? -> Yes\\nR: q, T: e, F: t, F: q, T: p. Is there an intersection between R and F? -> Yes\\nL: a, L: v, E: y, J: v, L: n. Is there an intersection between E and J? -> No\\nW: j, J: b, J: s, G: s, J: u. Is there an intersection between J and G? -> Yes\\nW: k, W: a, L: k, L: a, T: k. Is there an intersection between T and L? -> Yes\\nL: x, C: k, L: i, L: k, B: x. Is there an intersection between B and C? -> No\\nR: i, I: i, R: n, D: n, D: f. Is there an intersection between D and I? -> No\\n', 'Instruction: intersection. For example:\\nA: x, H: v, A: c, D: c, A: e. Is there an intersection between H and A? -> No\\nF: w, D: x, R: w, D: k, D: w. Is there an intersection between D and F? -> Yes\\nM: p, D: j, C: j, C: p, D: s. Is there an intersection between C and D? -> Yes\\nE: l, E: q, L: u, F: v, E: u. Is there an intersection between E and F? -> No\\nD: q, D: j, L: u, X: u, L: f. Is there an intersection between X and D? -> No\\nD: f, M: c, M: o, W: f, W: o. Is there an intersection between W and M? -> Yes\\n', 'Instruction: intersection. For example:\\nA: i, A: e, H: c, W: e, H: d. Is there an intersection between H and A? -> No\\nE: x, M: x, F: x, E: o, M: k. Is there an intersection between F and E? -> Yes\\nH: z, I: z, I: s, G: k, I: k. Is there an intersection between H and I? -> Yes\\nM: e, L: p, L: z, E: e, E: w. Is there an intersection between M and L? -> No\\nE: p, F: p, E: q, L: p, L: q. Is there an intersection between E and L? -> Yes\\nF: p, I: z, I: w, F: h, M: p. Is there an intersection between I and F? -> No\\n', 'Instruction: intersection. For example:\\nW: s, D: q, C: s, D: e, D: n. Is there an intersection between C and D? -> No\\nI: n, C: u, B: i, C: n, B: w. Is there an intersection between I and B? -> No\\nM: h, R: f, H: f, R: h, R: q. Is there an intersection between R and M? -> Yes\\nD: p, D: u, X: u, X: k, M: u. Is there an intersection between M and D? -> Yes\\nR: t, A: g, E: t, E: g, E: u. Is there an intersection between R and A? -> No\\nR: w, W: n, W: w, T: t, R: e. Is there an intersection between W and R? -> Yes\\nR: l, R: m, R: n, X: n, S: m. Is there an intersection between X and R? -> Yes\\nR: e, T: e, P: n, P: f, T: f. Is there an intersection between T and R? -> Yes\\nX: z, C: a, X: l, S: a, C: m. Is there an intersection between C and X? -> No\\nW: f, W: a, C: s, D: s, D: n. Is there an intersection between W and C? -> No\\n', 'Instruction: intersection. For example:\\nD: r, S: y, L: r, L: c, D: c. Is there an intersection between D and L? -> Yes\\nM: q, C: q, C: w, P: l, M: i. Is there an intersection between P and C? -> No\\nE: i, L: h, M: i, L: m, E: h. Is there an intersection between E and M? -> Yes\\nA: x, L: i, A: j, A: y, S: j. Is there an intersection between A and L? -> No\\nH: b, A: e, M: r, H: a, A: r. Is there an intersection between H and M? -> No\\nC: m, I: x, M: p, C: x, I: j. Is there an intersection between I and C? -> Yes\\nX: c, W: b, M: c, X: b, W: o. Is there an intersection between M and W? -> No\\nS: e, S: u, J: u, J: n, D: u. Is there an intersection between J and S? -> Yes\\n', 'Instruction: intersection. For example:\\nL: v, I: d, I: v, I: f, G: h. Is there an intersection between G and I? -> No\\nT: m, T: i, X: m, X: s, D: m. Is there an intersection between X and T? -> Yes\\nM: x, T: m, I: d, T: d, M: m. Is there an intersection between M and T? -> Yes\\nH: q, R: d, H: z, R: a, T: a. Is there an intersection between H and T? -> No\\n', 'Instruction: intersection. For example:\\nF: o, T: o, B: o, T: q, F: q. Is there an intersection between B and T? -> Yes\\nJ: m, E: b, L: b, E: w, L: w. Is there an intersection between L and J? -> No\\nJ: z, P: z, J: q, S: g, J: w. Is there an intersection between J and P? -> Yes\\nR: j, R: a, W: z, R: c, F: c. Is there an intersection between W and F? -> No\\nA: o, D: o, D: u, A: u, P: w. Is there an intersection between A and D? -> Yes\\nB: z, X: j, D: j, X: z, X: v. Is there an intersection between X and D? -> Yes\\nE: m, E: s, E: q, L: n, D: m. Is there an intersection between L and E? -> No\\nA: d, A: c, I: d, D: g, A: a. Is there an intersection between D and A? -> No\\n', 'Instruction: intersection. For example:\\nP: p, E: h, I: f, I: h, P: z. Is there an intersection between I and P? -> No\\nI: y, W: s, W: h, J: h, J: l. Is there an intersection between J and I? -> No\\nG: i, J: l, J: o, R: i, G: l. Is there an intersection between R and G? -> Yes\\nG: i, I: p, R: p, G: y, R: y. Is there an intersection between R and I? -> Yes\\nT: n, T: k, E: n, E: w, P: w. Is there an intersection between T and E? -> Yes\\nM: y, T: o, M: m, E: q, E: o. Is there an intersection between M and T? -> No\\nC: v, G: k, G: p, B: x, B: p. Is there an intersection between C and G? -> No\\nI: s, I: m, J: w, B: m, J: m. Is there an intersection between J and B? -> Yes\\n', 'Instruction: intersection. For example:\\nL: u, L: f, H: a, R: a, L: a. Is there an intersection between H and R? -> Yes\\nE: a, C: a, C: w, H: n, E: w. Is there an intersection between E and H? -> No\\nI: v, D: u, E: v, E: e, D: e. Is there an intersection between E and I? -> Yes\\nI: p, I: b, H: p, R: j, R: b. Is there an intersection between H and R? -> No\\nL: c, L: w, R: z, G: w, L: f. Is there an intersection between G and R? -> No\\nR: j, M: s, R: n, T: e, M: j. Is there an intersection between M and R? -> Yes\\n', 'Instruction: intersection. For example:\\nF: t, F: s, X: e, W: q, W: s. Is there an intersection between W and X? -> No\\nD: a, W: q, P: p, P: q, P: a. Is there an intersection between D and P? -> Yes\\nL: i, J: c, F: f, F: c, J: f. Is there an intersection between J and F? -> Yes\\nG: u, L: u, G: j, B: j, B: d. Is there an intersection between L and G? -> Yes\\nG: f, G: d, G: z, D: o, E: z. Is there an intersection between G and D? -> No\\nI: r, T: t, P: t, P: r, T: f. Is there an intersection between P and I? -> Yes\\nW: p, T: n, D: n, D: u, D: x. Is there an intersection between W and D? -> No\\nX: m, X: d, M: a, L: n, M: d. Is there an intersection between X and L? -> No\\n', 'Instruction: intersection. For example:\\nT: e, H: c, T: m, I: c, I: e. Is there an intersection between T and I? -> Yes\\nJ: z, L: z, T: y, J: u, T: b. Is there an intersection between T and L? -> No\\nD: v, S: n, S: d, A: d, A: n. Is there an intersection between A and S? -> Yes\\nA: d, H: h, H: m, H: t, D: m. Is there an intersection between D and A? -> No\\nC: h, M: t, M: h, F: j, F: y. Is there an intersection between C and M? -> Yes\\nW: v, A: e, W: d, H: d, W: n. Is there an intersection between A and W? -> No\\n', 'Instruction: intersection. For example:\\nS: x, F: z, S: z, F: c, D: o. Is there an intersection between D and S? -> No\\nR: w, E: l, R: c, J: c, R: g. Is there an intersection between J and E? -> No\\nC: a, C: r, S: a, A: t, A: a. Is there an intersection between S and C? -> Yes\\nX: s, X: d, E: s, X: e, H: s. Is there an intersection between H and X? -> Yes\\n', 'Instruction: intersection. For example:\\nS: x, C: f, E: x, E: c, S: c. Is there an intersection between S and E? -> Yes\\nT: o, G: o, G: p, G: y, C: z. Is there an intersection between G and T? -> Yes\\nX: y, E: w, X: k, I: w, I: y. Is there an intersection between X and E? -> No\\nL: v, E: j, F: h, F: w, F: v. Is there an intersection between E and F? -> No\\nT: h, D: g, S: h, S: g, D: h. Is there an intersection between D and S? -> Yes\\nS: h, S: t, M: o, M: h, C: n. Is there an intersection between C and S? -> No\\nH: l, G: q, G: d, B: d, B: l. Is there an intersection between H and G? -> No\\nI: l, C: w, C: g, J: g, J: l. Is there an intersection between J and I? -> Yes\\n', 'Instruction: intersection. For example:\\nA: n, T: w, T: z, T: n, S: m. Is there an intersection between T and A? -> Yes\\nS: w, W: f, F: w, S: b, F: b. Is there an intersection between F and W? -> No\\nA: t, L: o, L: t, L: a, H: a. Is there an intersection between H and L? -> Yes\\nW: v, F: u, D: x, F: x, D: n. Is there an intersection between F and D? -> Yes\\nP: q, W: q, R: w, W: w, P: v. Is there an intersection between R and P? -> No\\nG: b, G: r, S: b, T: y, S: y. Is there an intersection between G and S? -> Yes\\nP: m, A: a, P: u, F: a, A: l. Is there an intersection between P and A? -> No\\nF: h, P: g, E: h, F: t, F: w. Is there an intersection between P and F? -> No\\n', 'Instruction: intersection. For example:\\nB: j, C: k, B: n, F: m, C: j. Is there an intersection between B and F? -> No\\nT: p, E: g, G: a, T: z, G: p. Is there an intersection between G and T? -> Yes\\nB: f, W: f, F: j, W: g, F: g. Is there an intersection between B and W? -> Yes\\nE: h, E: o, A: v, A: o, R: v. Is there an intersection between E and R? -> No\\nE: t, H: v, J: v, J: o, H: t. Is there an intersection between J and E? -> No\\nM: y, R: y, R: z, R: c, S: u. Is there an intersection between R and M? -> Yes\\nG: s, E: g, S: z, S: d, E: d. Is there an intersection between E and S? -> Yes\\nL: r, C: c, C: w, E: r, L: q. Is there an intersection between L and C? -> No\\nL: k, J: j, X: k, L: i, J: k. Is there an intersection between X and J? -> Yes\\nD: f, J: l, D: l, C: f, C: a. Is there an intersection between C and J? -> No\\n', 'Instruction: intersection. For example:\\nW: a, I: k, I: p, S: p, S: k. Is there an intersection between W and S? -> No\\nB: x, P: s, B: g, H: x, H: g. Is there an intersection between P and H? -> No\\nC: u, T: t, C: k, R: q, R: t. Is there an intersection between C and T? -> No\\nW: e, G: y, G: e, D: t, G: i. Is there an intersection between W and G? -> Yes\\nM: d, J: f, R: d, M: f, M: i. Is there an intersection between R and J? -> No\\nS: t, H: t, M: t, H: w, M: m. Is there an intersection between M and H? -> Yes\\nD: e, C: r, C: z, D: z, H: m. Is there an intersection between C and D? -> Yes\\nA: l, A: u, H: l, M: b, M: x. Is there an intersection between H and A? -> Yes\\n', 'Instruction: intersection. For example:\\nE: x, J: r, G: y, E: r, E: h. Is there an intersection between G and J? -> No\\nS: l, H: f, H: m, S: m, J: l. Is there an intersection between H and J? -> No\\nL: t, F: x, X: x, X: e, F: a. Is there an intersection between L and F? -> No\\nS: h, A: i, A: f, W: i, W: s. Is there an intersection between W and A? -> Yes\\nG: q, G: z, R: q, R: j, J: z. Is there an intersection between R and G? -> Yes\\nD: z, R: p, R: o, R: z, X: o. Is there an intersection between D and R? -> Yes\\n', 'Instruction: intersection. For example:\\nH: n, T: r, H: r, E: o, T: e. Is there an intersection between H and T? -> Yes\\nG: i, D: i, L: m, G: q, D: l. Is there an intersection between L and G? -> No\\n', 'Instruction: intersection. For example:\\nI: n, I: s, L: c, T: d, I: c. Is there an intersection between L and T? -> No\\nA: v, P: f, P: z, A: z, C: f. Is there an intersection between C and A? -> No\\nT: n, H: q, B: h, H: h, B: n. Is there an intersection between B and H? -> Yes\\nE: x, S: b, R: x, S: x, S: e. Is there an intersection between E and S? -> Yes\\nD: s, D: o, L: s, D: x, J: v. Is there an intersection between L and J? -> No\\nT: z, A: b, H: x, A: z, T: b. Is there an intersection between H and A? -> No\\nR: o, L: o, R: v, I: a, R: a. Is there an intersection between L and R? -> Yes\\nC: s, C: x, M: x, M: y, W: n. Is there an intersection between M and C? -> Yes\\n', 'Instruction: intersection. For example:\\nE: k, H: k, H: e, T: e, E: j. Is there an intersection between H and T? -> Yes\\nI: l, I: v, T: d, A: r, I: d. Is there an intersection between I and A? -> No\\nG: p, I: p, C: q, G: g, I: g. Is there an intersection between G and C? -> No\\nX: r, X: u, F: e, F: u, P: a. Is there an intersection between P and X? -> No\\nT: p, T: m, E: w, E: m, B: w. Is there an intersection between T and E? -> Yes\\nB: r, S: p, A: t, B: l, B: t. Is there an intersection between B and A? -> Yes\\n', 'Instruction: intersection. For example:\\nI: o, I: z, J: o, P: u, P: c. Is there an intersection between I and P? -> No\\nF: z, T: m, H: z, F: j, T: b. Is there an intersection between F and H? -> Yes\\nF: g, F: j, R: y, E: j, F: y. Is there an intersection between R and E? -> No\\nG: j, G: n, A: t, W: j, W: n. Is there an intersection between W and G? -> Yes\\nW: v, R: v, R: q, W: g, A: v. Is there an intersection between A and W? -> Yes\\nG: k, I: p, I: n, E: n, E: p. Is there an intersection between E and G? -> No\\n', 'Instruction: intersection. For example:\\nA: n, B: n, P: n, P: l, A: r. Is there an intersection between B and A? -> Yes\\nA: r, D: d, F: u, D: g, A: d. Is there an intersection between A and F? -> No\\nE: n, R: x, M: t, M: e, R: n. Is there an intersection between M and E? -> No\\nC: d, J: d, I: x, I: d, J: a. Is there an intersection between J and C? -> Yes\\nB: s, E: s, B: y, P: a, E: a. Is there an intersection between P and B? -> No\\nL: y, E: e, L: e, D: e, L: o. Is there an intersection between L and E? -> Yes\\nP: z, A: z, A: f, L: r, A: p. Is there an intersection between L and P? -> No\\nC: h, D: v, C: m, I: h, I: z. Is there an intersection between I and C? -> Yes\\n', 'Instruction: intersection. For example:\\nD: k, M: f, D: v, D: o, E: k. Is there an intersection between E and M? -> No\\nM: d, I: j, B: j, M: j, I: p. Is there an intersection between M and B? -> Yes\\n', 'Instruction: intersection. For example:\\nX: o, L: e, L: n, P: e, X: g. Is there an intersection between X and P? -> No\\nR: w, B: y, T: x, B: q, R: q. Is there an intersection between T and R? -> No\\nS: c, C: d, S: p, X: c, X: d. Is there an intersection between S and X? -> Yes\\nG: e, S: j, A: j, G: j, S: g. Is there an intersection between A and S? -> Yes\\nL: s, B: u, L: z, L: u, W: z. Is there an intersection between W and L? -> Yes\\nF: j, F: m, H: v, H: d, R: j. Is there an intersection between R and H? -> No\\nE: d, F: i, F: e, B: d, E: e. Is there an intersection between E and B? -> Yes\\nM: n, S: n, E: z, S: k, M: o. Is there an intersection between M and E? -> No\\n', 'Instruction: intersection. For example:\\nF: w, F: k, I: k, M: v, M: w. Is there an intersection between M and I? -> No\\nF: v, T: v, F: d, H: v, H: d. Is there an intersection between T and H? -> Yes\\nE: f, C: y, M: y, M: h, M: f. Is there an intersection between E and C? -> No\\nD: c, D: j, A: c, A: y, S: c. Is there an intersection between S and A? -> Yes\\nX: h, W: h, X: e, C: e, C: r. Is there an intersection between C and W? -> No\\nF: c, J: b, F: o, J: o, R: k. Is there an intersection between R and F? -> No\\nT: o, L: l, T: j, S: l, L: j. Is there an intersection between T and L? -> Yes\\nD: t, C: r, D: r, T: t, D: b. Is there an intersection between T and D? -> Yes\\n', 'Instruction: intersection. For example:\\nA: s, B: g, G: m, A: g, G: k. Is there an intersection between A and G? -> No\\nX: m, X: f, J: f, J: v, R: v. Is there an intersection between X and R? -> No\\nL: g, A: j, T: g, L: q, A: g. Is there an intersection between L and T? -> Yes\\nE: h, E: b, P: b, W: h, P: h. Is there an intersection between E and P? -> Yes\\nE: s, G: r, G: v, E: a, S: a. Is there an intersection between E and G? -> No\\nL: v, F: y, F: f, L: y, R: v. Is there an intersection between L and F? -> Yes\\nT: m, G: s, T: s, L: s, G: d. Is there an intersection between L and T? -> Yes\\nH: y, T: c, M: e, H: c, H: a. Is there an intersection between M and H? -> No\\n', 'Instruction: intersection. For example:\\nC: e, P: u, C: t, A: e, A: t. Is there an intersection between P and A? -> No\\nT: t, J: t, T: g, B: f, J: g. Is there an intersection between B and T? -> No\\nH: o, H: q, L: n, M: q, L: q. Is there an intersection between L and H? -> Yes\\nJ: i, M: i, M: q, W: i, W: w. Is there an intersection between M and W? -> Yes\\nH: j, H: x, H: y, A: y, J: j. Is there an intersection between H and J? -> Yes\\nI: q, S: w, S: z, B: w, S: v. Is there an intersection between I and B? -> No\\n', 'Instruction: intersection. For example:\\nJ: p, D: p, J: q, C: p, J: g. Is there an intersection between J and C? -> Yes\\nR: t, X: y, L: t, R: y, L: y. Is there an intersection between L and X? -> Yes\\nD: v, S: y, S: x, C: h, D: h. Is there an intersection between C and S? -> No\\nH: c, H: s, D: q, G: q, H: g. Is there an intersection between D and H? -> No\\nL: s, J: s, S: s, S: m, S: u. Is there an intersection between J and S? -> Yes\\nE: q, G: x, G: r, R: r, G: f. Is there an intersection between E and R? -> No\\n', 'Instruction: intersection. For example:\\nH: o, L: r, G: r, H: z, H: v. Is there an intersection between L and H? -> No\\nI: y, I: u, G: u, I: c, X: u. Is there an intersection between G and X? -> Yes\\nX: b, S: l, X: l, B: r, B: b. Is there an intersection between X and S? -> Yes\\nL: l, L: f, M: v, L: v, I: f. Is there an intersection between M and I? -> No\\nI: b, I: d, G: h, L: d, G: d. Is there an intersection between L and G? -> Yes\\nL: u, A: o, L: o, A: y, R: s. Is there an intersection between R and A? -> No\\nS: a, W: m, I: w, S: u, S: m. Is there an intersection between I and W? -> No\\nA: k, J: y, D: y, J: u, D: k. Is there an intersection between D and J? -> Yes\\n', 'Instruction: intersection. For example:\\nE: e, P: e, W: k, P: k, W: g. Is there an intersection between E and P? -> Yes\\nP: x, P: n, D: m, M: n, P: m. Is there an intersection between M and D? -> No\\nP: d, P: i, R: d, R: i, X: q. Is there an intersection between R and X? -> No\\nE: d, P: d, P: v, E: g, A: g. Is there an intersection between P and E? -> Yes\\nS: f, G: f, S: c, I: c, G: c. Is there an intersection between I and G? -> Yes\\nD: z, J: z, J: q, G: u, D: q. Is there an intersection between J and G? -> No\\n', 'Instruction: intersection. For example:\\nC: t, R: t, L: u, L: k, R: d. Is there an intersection between L and C? -> No\\nW: a, W: e, J: v, I: e, I: v. Is there an intersection between J and I? -> Yes\\nA: j, G: s, A: m, E: j, G: h. Is there an intersection between E and A? -> Yes\\nA: f, A: s, W: s, P: f, W: f. Is there an intersection between P and W? -> Yes\\nX: s, M: s, M: v, G: p, M: u. Is there an intersection between X and G? -> No\\nM: a, G: t, H: i, M: i, G: u. Is there an intersection between G and M? -> No\\nW: d, L: d, W: k, X: k, L: u. Is there an intersection between L and X? -> No\\nE: m, E: y, L: m, W: m, L: a. Is there an intersection between L and E? -> Yes\\n', 'Instruction: intersection. For example:\\nL: d, L: z, X: z, R: z, L: r. Is there an intersection between L and R? -> Yes\\nW: w, L: v, J: d, J: c, J: w. Is there an intersection between J and W? -> Yes\\nB: n, B: g, S: g, B: c, G: c. Is there an intersection between S and G? -> No\\nI: z, T: a, I: x, D: s, D: a. Is there an intersection between I and T? -> No\\n', 'Instruction: intersection. For example:\\nF: g, F: o, B: h, B: f, L: g. Is there an intersection between F and B? -> No\\nT: k, M: e, T: y, G: e, M: j. Is there an intersection between T and M? -> No\\nD: w, D: t, R: j, E: m, E: w. Is there an intersection between E and D? -> Yes\\nG: g, J: g, G: p, J: x, H: g. Is there an intersection between G and H? -> Yes\\n', 'Instruction: intersection. For example:\\nA: d, A: s, H: d, F: c, H: s. Is there an intersection between F and A? -> No\\nM: h, X: h, X: j, X: x, J: x. Is there an intersection between X and J? -> Yes\\nM: g, H: k, M: b, M: k, B: c. Is there an intersection between M and B? -> No\\nB: z, P: u, P: z, E: w, B: r. Is there an intersection between B and P? -> Yes\\n', 'Instruction: intersection. For example:\\nD: h, D: e, D: b, H: b, B: b. Is there an intersection between D and B? -> Yes\\nI: h, D: u, W: z, W: h, I: f. Is there an intersection between W and I? -> Yes\\nL: v, T: m, E: c, E: v, L: t. Is there an intersection between T and E? -> No\\nR: z, F: k, W: z, W: k, W: c. Is there an intersection between W and F? -> Yes\\nT: z, J: h, S: e, T: n, J: e. Is there an intersection between S and T? -> No\\nS: x, I: b, P: x, P: l, P: c. Is there an intersection between I and P? -> No\\nW: s, W: a, D: y, D: w, E: w. Is there an intersection between W and E? -> No\\nP: g, E: g, H: k, P: h, E: k. Is there an intersection between P and E? -> Yes\\n', 'Instruction: intersection. For example:\\nB: n, B: p, H: p, B: i, S: i. Is there an intersection between B and S? -> Yes\\nR: l, R: m, A: m, R: h, X: t. Is there an intersection between R and X? -> No\\nG: p, A: v, J: w, A: w, J: c. Is there an intersection between G and A? -> No\\nT: g, T: h, A: h, T: c, H: d. Is there an intersection between A and H? -> No\\nH: t, A: u, H: u, R: u, A: z. Is there an intersection between H and R? -> Yes\\nE: y, E: u, M: y, E: i, H: y. Is there an intersection between E and M? -> Yes\\n', 'Instruction: intersection. For example:\\nD: i, H: e, H: i, L: v, D: v. Is there an intersection between L and D? -> Yes\\nS: k, X: e, S: e, L: z, S: j. Is there an intersection between S and X? -> Yes\\nC: w, P: i, P: d, X: i, P: w. Is there an intersection between P and X? -> Yes\\nP: v, P: t, P: l, D: t, G: l. Is there an intersection between G and P? -> Yes\\nT: z, T: u, R: u, R: r, M: z. Is there an intersection between T and M? -> Yes\\nP: p, W: m, W: y, P: v, L: m. Is there an intersection between L and P? -> No\\nT: p, A: r, S: j, A: j, S: r. Is there an intersection between S and T? -> No\\nA: v, D: h, G: r, G: b, A: b. Is there an intersection between A and D? -> No\\nG: r, G: p, L: r, W: k, G: g. Is there an intersection between W and G? -> No\\nW: j, J: i, H: j, H: g, H: r. Is there an intersection between J and W? -> No\\n', 'Instruction: intersection. For example:\\nI: y, W: i, W: d, I: j, H: y. Is there an intersection between W and I? -> No\\nD: x, G: r, G: l, E: t, D: t. Is there an intersection between E and D? -> Yes\\nF: r, W: r, P: i, P: x, W: m. Is there an intersection between P and F? -> No\\nC: d, P: u, G: d, C: u, P: d. Is there an intersection between P and G? -> Yes\\n', 'Instruction: intersection. For example:\\nB: f, F: h, M: h, B: p, M: f. Is there an intersection between M and F? -> Yes\\nF: o, C: o, I: f, I: i, F: n. Is there an intersection between I and F? -> No\\nP: h, I: b, I: f, P: b, W: b. Is there an intersection between W and P? -> Yes\\nJ: x, I: o, S: x, J: c, S: c. Is there an intersection between I and J? -> No\\nS: w, G: b, S: k, G: w, B: g. Is there an intersection between B and G? -> No\\nJ: p, F: a, J: f, A: p, A: s. Is there an intersection between J and A? -> Yes\\n', 'Instruction: intersection. For example:\\nW: q, T: l, W: s, T: a, X: q. Is there an intersection between T and X? -> No\\nW: a, C: v, C: a, L: r, L: v. Is there an intersection between W and C? -> Yes\\nJ: h, A: h, A: j, D: j, D: p. Is there an intersection between D and J? -> No\\nI: p, M: y, M: f, M: h, T: f. Is there an intersection between I and T? -> No\\nW: u, R: c, B: l, W: c, R: l. Is there an intersection between B and R? -> Yes\\nJ: d, X: l, J: s, T: c, J: l. Is there an intersection between J and X? -> Yes\\n', 'Instruction: intersection. For example:\\nJ: z, T: g, J: a, S: a, S: z. Is there an intersection between S and T? -> No\\nC: d, C: r, X: d, R: r, C: p. Is there an intersection between X and C? -> Yes\\nA: q, H: q, M: n, M: q, A: t. Is there an intersection between H and A? -> Yes\\nT: a, T: f, E: f, B: y, E: a. Is there an intersection between T and B? -> No\\nE: h, E: k, J: c, E: a, I: a. Is there an intersection between J and I? -> No\\nG: d, C: d, G: p, R: u, C: u. Is there an intersection between R and C? -> Yes\\nA: k, B: e, A: v, A: q, C: v. Is there an intersection between A and B? -> No\\nT: u, W: u, W: l, T: r, H: l. Is there an intersection between H and T? -> No\\nH: u, H: d, C: a, I: d, I: a. Is there an intersection between H and I? -> Yes\\nM: b, J: u, J: b, G: b, M: m. Is there an intersection between M and J? -> Yes\\n', 'Instruction: intersection. For example:\\nL: r, D: h, D: r, E: l, E: h. Is there an intersection between L and D? -> Yes\\nL: w, T: b, W: b, W: j, T: d. Is there an intersection between L and W? -> No\\nF: d, B: s, B: d, F: w, L: w. Is there an intersection between B and F? -> Yes\\nG: u, P: n, G: n, B: u, G: m. Is there an intersection between P and B? -> No\\nD: c, R: a, R: z, D: n, T: n. Is there an intersection between T and R? -> No\\nW: y, L: p, I: y, L: q, I: p. Is there an intersection between I and L? -> Yes\\nR: n, A: k, A: b, A: t, S: t. Is there an intersection between R and S? -> No\\nF: e, F: o, S: c, L: c, L: m. Is there an intersection between S and L? -> Yes\\n', 'Instruction: intersection. For example:\\nL: c, A: x, A: b, L: k, C: b. Is there an intersection between L and A? -> No\\nP: n, A: n, A: j, B: z, P: z. Is there an intersection between A and B? -> No\\nJ: o, J: r, L: x, L: r, C: o. Is there an intersection between C and J? -> Yes\\nG: e, E: h, L: e, G: t, L: h. Is there an intersection between L and G? -> Yes\\nF: y, G: n, G: y, L: m, L: q. Is there an intersection between L and F? -> No\\nW: p, W: t, P: t, B: n, B: p. Is there an intersection between B and W? -> Yes\\nH: j, I: s, S: s, H: s, S: i. Is there an intersection between S and H? -> Yes\\nL: z, A: z, L: o, A: o, C: z. Is there an intersection between L and C? -> Yes\\nF: n, T: l, F: e, T: r, C: r. Is there an intersection between F and C? -> No\\nD: l, D: m, E: h, I: l, I: n. Is there an intersection between I and E? -> No\\n', 'Instruction: intersection. For example:\\nM: b, M: k, P: k, C: b, M: h. Is there an intersection between P and M? -> Yes\\nJ: y, J: s, T: z, D: z, J: q. Is there an intersection between T and D? -> Yes\\nH: l, H: k, G: k, I: m, G: g. Is there an intersection between I and H? -> No\\nG: x, G: d, W: x, X: d, X: c. Is there an intersection between W and X? -> No\\n', 'Instruction: intersection. For example:\\nC: g, W: b, W: g, J: m, C: r. Is there an intersection between C and W? -> Yes\\nS: r, F: d, S: z, M: z, M: r. Is there an intersection between M and F? -> No\\nT: m, F: w, T: f, G: f, F: f. Is there an intersection between F and G? -> Yes\\nX: c, S: c, D: a, S: r, X: r. Is there an intersection between X and D? -> No\\nP: k, X: c, B: c, P: f, P: e. Is there an intersection between X and P? -> No\\nM: z, T: c, C: c, M: t, T: r. Is there an intersection between C and T? -> Yes\\nJ: p, S: p, I: s, I: q, S: s. Is there an intersection between S and J? -> Yes\\nW: a, C: a, L: k, W: k, C: y. Is there an intersection between C and L? -> No\\nR: d, E: o, D: o, D: i, D: t. Is there an intersection between D and E? -> Yes\\nE: r, E: b, X: j, X: p, H: b. Is there an intersection between H and X? -> No\\n', 'Instruction: intersection. For example:\\nS: t, H: w, X: p, X: t, H: y. Is there an intersection between H and X? -> No\\nI: i, B: i, A: i, A: x, A: o. Is there an intersection between B and A? -> Yes\\nE: g, E: y, C: x, P: u, C: u. Is there an intersection between E and C? -> No\\nG: c, D: l, G: l, P: l, P: p. Is there an intersection between G and P? -> Yes\\nG: r, I: i, S: i, G: d, G: z. Is there an intersection between S and I? -> Yes\\nI: a, I: h, L: v, L: m, A: m. Is there an intersection between I and A? -> No\\n', 'Instruction: intersection. For example:\\nL: a, J: n, C: r, J: a, J: b. Is there an intersection between C and L? -> No\\nH: w, T: v, I: w, I: c, H: a. Is there an intersection between I and T? -> No\\nP: k, P: b, P: l, G: k, E: o. Is there an intersection between G and P? -> Yes\\nS: m, S: u, D: j, W: u, S: p. Is there an intersection between W and D? -> No\\nM: b, W: u, B: e, B: g, M: u. Is there an intersection between W and B? -> No\\nP: p, C: p, P: i, T: f, C: f. Is there an intersection between C and T? -> Yes\\nB: e, C: e, C: u, C: m, P: u. Is there an intersection between B and C? -> Yes\\nR: n, M: o, C: o, C: n, C: w. Is there an intersection between M and C? -> Yes\\n', 'Instruction: intersection. For example:\\nR: a, F: q, J: q, J: a, R: o. Is there an intersection between F and R? -> No\\nC: v, W: v, W: b, H: v, H: s. Is there an intersection between C and H? -> Yes\\nC: v, D: v, C: w, I: v, I: w. Is there an intersection between D and I? -> Yes\\nP: q, G: p, G: m, S: d, S: m. Is there an intersection between P and G? -> No\\n', 'Instruction: intersection. For example:\\nL: c, R: c, R: g, R: m, F: g. Is there an intersection between L and F? -> No\\nC: f, R: b, R: c, L: f, C: b. Is there an intersection between L and C? -> Yes\\nX: t, P: l, X: o, L: l, X: u. Is there an intersection between L and P? -> Yes\\nD: u, J: a, W: e, J: u, D: e. Is there an intersection between J and W? -> No\\nX: w, X: n, E: w, X: g, D: q. Is there an intersection between E and D? -> No\\nM: j, E: o, W: b, W: m, W: j. Is there an intersection between W and M? -> Yes\\n', 'Instruction: intersection. For example:\\nH: o, J: o, H: p, F: n, H: t. Is there an intersection between H and F? -> No\\nJ: x, J: s, H: s, B: n, H: n. Is there an intersection between J and H? -> Yes\\nW: x, W: f, E: g, E: f, R: g. Is there an intersection between W and R? -> No\\nP: p, A: d, R: c, R: d, R: v. Is there an intersection between R and P? -> No\\nC: d, J: s, I: s, J: d, I: d. Is there an intersection between I and J? -> Yes\\nH: p, G: p, G: z, L: z, L: p. Is there an intersection between G and H? -> Yes\\nF: b, F: x, H: r, X: b, X: x. Is there an intersection between F and H? -> No\\nL: d, A: k, E: h, E: d, A: h. Is there an intersection between E and L? -> Yes\\n', 'Instruction: intersection. For example:\\nG: x, A: z, C: b, G: b, G: z. Is there an intersection between C and G? -> Yes\\nF: g, F: x, H: z, I: x, F: t. Is there an intersection between H and I? -> No\\nW: l, E: l, E: b, W: i, S: i. Is there an intersection between S and W? -> Yes\\nX: p, W: p, X: s, F: y, F: d. Is there an intersection between X and F? -> No\\n', 'Instruction: intersection. For example:\\nD: p, B: p, B: z, D: o, R: o. Is there an intersection between R and D? -> Yes\\nB: x, X: x, D: i, X: u, X: o. Is there an intersection between X and D? -> No\\nJ: w, L: l, B: y, B: w, L: y. Is there an intersection between J and B? -> Yes\\nR: f, L: l, R: a, G: a, G: i. Is there an intersection between L and G? -> No\\n', 'Instruction: intersection. For example:\\nI: q, L: r, G: w, I: w, I: s. Is there an intersection between I and L? -> No\\nR: w, M: x, M: w, F: w, R: m. Is there an intersection between R and M? -> Yes\\nS: x, X: x, B: x, X: c, B: c. Is there an intersection between S and B? -> Yes\\nM: a, M: z, M: f, P: g, X: z. Is there an intersection between P and M? -> No\\nF: y, J: s, M: s, F: s, J: y. Is there an intersection between F and J? -> Yes\\nL: r, P: f, P: h, D: f, L: l. Is there an intersection between L and P? -> No\\n', 'Instruction: intersection. For example:\\nG: g, X: j, G: y, D: p, X: g. Is there an intersection between G and D? -> No\\nA: o, C: g, F: c, F: g, A: g. Is there an intersection between F and C? -> Yes\\nA: v, X: v, X: f, X: r, P: l. Is there an intersection between P and X? -> No\\nG: y, R: r, A: y, A: b, G: m. Is there an intersection between A and G? -> Yes\\nJ: x, G: g, J: g, M: g, J: r. Is there an intersection between J and G? -> Yes\\nS: t, D: y, D: e, A: y, D: t. Is there an intersection between A and S? -> No\\nJ: b, J: i, F: d, M: p, J: d. Is there an intersection between M and F? -> No\\nM: a, I: d, M: d, I: a, W: a. Is there an intersection between I and M? -> Yes\\n', 'Instruction: intersection. For example:\\nS: t, S: m, H: e, F: e, F: m. Is there an intersection between H and S? -> No\\nF: c, F: u, L: k, S: c, S: k. Is there an intersection between S and F? -> Yes\\nS: q, M: o, H: o, M: q, S: c. Is there an intersection between S and M? -> Yes\\nJ: a, R: a, I: l, R: s, J: l. Is there an intersection between R and I? -> No\\n', 'Instruction: intersection. For example:\\nJ: q, G: j, J: o, I: j, I: w. Is there an intersection between J and I? -> No\\nW: d, G: i, W: i, G: b, R: i. Is there an intersection between W and R? -> Yes\\nR: j, S: g, S: j, R: g, T: x. Is there an intersection between R and T? -> No\\nF: l, F: w, T: w, C: o, T: o. Is there an intersection between F and T? -> Yes\\n', 'Instruction: intersection. For example:\\nP: c, D: q, A: q, A: t, A: e. Is there an intersection between A and P? -> No\\nS: t, B: d, L: m, S: m, B: u. Is there an intersection between L and S? -> Yes\\nE: u, E: i, G: c, E: c, X: c. Is there an intersection between G and X? -> Yes\\nH: x, G: e, A: n, A: x, H: n. Is there an intersection between G and A? -> No\\nH: t, H: q, W: q, H: u, B: u. Is there an intersection between W and B? -> No\\nM: r, B: g, R: r, R: d, M: d. Is there an intersection between B and M? -> No\\nB: d, J: p, J: d, L: b, B: b. Is there an intersection between L and B? -> Yes\\nH: q, P: q, I: e, H: t, I: q. Is there an intersection between I and H? -> Yes\\n', 'Instruction: intersection. For example:\\nT: a, G: x, P: a, P: n, P: s. Is there an intersection between G and T? -> No\\nP: r, L: w, L: r, P: p, X: w. Is there an intersection between P and X? -> No\\nI: l, J: l, A: b, I: y, I: p. Is there an intersection between A and I? -> No\\nH: z, H: u, X: z, A: z, A: u. Is there an intersection between H and X? -> Yes\\nJ: e, T: i, A: i, J: z, T: z. Is there an intersection between A and J? -> No\\nC: i, H: f, E: f, C: g, C: f. Is there an intersection between C and H? -> Yes\\nM: g, E: p, W: g, W: s, E: g. Is there an intersection between M and W? -> Yes\\nG: f, J: v, S: v, J: f, S: d. Is there an intersection between J and G? -> Yes\\n', 'Instruction: intersection. For example:\\nM: h, M: t, H: h, M: b, L: h. Is there an intersection between M and H? -> Yes\\nP: c, P: v, P: s, S: s, B: q. Is there an intersection between S and B? -> No\\nM: k, C: t, L: t, C: k, L: e. Is there an intersection between M and C? -> Yes\\nX: x, J: j, S: h, S: d, J: x. Is there an intersection between S and J? -> No\\nE: b, E: w, B: c, B: b, X: c. Is there an intersection between B and X? -> Yes\\nI: w, F: x, B: x, B: z, F: w. Is there an intersection between B and I? -> No\\n', 'Instruction: intersection. For example:\\nF: h, G: g, R: h, R: g, G: h. Is there an intersection between R and G? -> Yes\\nX: s, P: y, T: y, T: z, P: s. Is there an intersection between X and P? -> Yes\\nD: a, I: m, D: m, S: y, I: h. Is there an intersection between I and S? -> No\\nR: r, R: d, F: r, H: g, H: d. Is there an intersection between R and F? -> Yes\\nE: a, R: h, B: x, E: h, B: r. Is there an intersection between R and B? -> No\\nL: g, H: t, H: q, H: v, X: g. Is there an intersection between H and L? -> No\\nI: v, G: m, G: v, I: m, A: l. Is there an intersection between A and I? -> No\\nX: h, S: r, X: p, S: p, R: r. Is there an intersection between R and S? -> Yes\\n', 'Instruction: intersection. For example:\\nT: p, M: s, T: z, M: z, L: p. Is there an intersection between L and M? -> No\\nT: i, W: i, A: y, W: z, W: p. Is there an intersection between T and W? -> Yes\\nW: l, B: m, W: o, B: c, A: m. Is there an intersection between B and A? -> Yes\\nH: l, F: b, I: l, F: z, I: z. Is there an intersection between H and F? -> No\\nB: g, M: m, I: d, B: c, I: m. Is there an intersection between I and M? -> Yes\\nP: f, P: u, X: f, X: u, A: w. Is there an intersection between A and P? -> No\\nP: x, W: x, P: d, P: e, C: h. Is there an intersection between C and W? -> No\\nB: n, B: x, J: x, H: w, J: w. Is there an intersection between J and H? -> Yes\\n', 'Instruction: intersection. For example:\\nX: v, D: v, W: a, D: n, X: n. Is there an intersection between X and W? -> No\\nT: m, J: m, W: w, J: t, W: m. Is there an intersection between W and T? -> Yes\\nD: a, F: f, I: s, I: m, F: m. Is there an intersection between D and F? -> No\\nX: z, X: m, S: m, M: z, S: t. Is there an intersection between X and S? -> Yes\\nP: p, G: p, R: c, R: s, P: q. Is there an intersection between P and G? -> Yes\\nF: m, F: i, C: m, P: d, F: v. Is there an intersection between F and P? -> No\\n', 'Instruction: intersection. For example:\\nT: d, P: m, P: s, M: m, T: m. Is there an intersection between P and M? -> Yes\\nS: b, B: m, B: b, M: p, S: m. Is there an intersection between M and B? -> No\\n', 'Instruction: intersection. For example:\\nI: e, H: g, P: a, I: g, P: g. Is there an intersection between P and I? -> Yes\\nE: y, J: y, E: k, D: a, E: a. Is there an intersection between D and J? -> No\\nS: y, H: f, T: f, S: w, S: s. Is there an intersection between H and S? -> No\\nA: c, G: i, T: m, A: m, G: m. Is there an intersection between T and A? -> Yes\\nX: y, B: v, X: b, A: y, A: h. Is there an intersection between A and X? -> Yes\\nH: x, S: l, S: r, S: x, C: l. Is there an intersection between H and C? -> No\\n', 'Instruction: intersection. For example:\\nP: d, G: d, P: k, I: a, G: k. Is there an intersection between I and P? -> No\\nB: e, B: u, B: k, G: k, H: j. Is there an intersection between B and H? -> No\\nG: n, P: k, G: a, I: k, P: n. Is there an intersection between P and I? -> Yes\\nJ: j, R: j, R: b, X: x, J: q. Is there an intersection between J and X? -> No\\nR: c, T: c, X: c, X: t, T: t. Is there an intersection between R and T? -> Yes\\nJ: s, D: h, M: h, D: s, J: m. Is there an intersection between M and D? -> Yes\\n', 'Instruction: intersection. For example:\\nM: f, P: f, S: p, M: t, P: s. Is there an intersection between S and M? -> No\\nI: x, H: a, H: l, T: p, H: p. Is there an intersection between T and H? -> Yes\\nS: k, B: a, H: b, B: b, H: a. Is there an intersection between B and S? -> No\\nF: l, I: j, T: l, F: g, I: z. Is there an intersection between I and F? -> No\\nL: i, W: i, W: v, P: t, L: t. Is there an intersection between P and L? -> Yes\\nW: l, X: a, B: i, X: w, B: l. Is there an intersection between B and W? -> Yes\\nD: p, E: p, E: u, E: z, A: t. Is there an intersection between D and E? -> Yes\\nJ: i, J: m, A: i, R: b, J: b. Is there an intersection between R and A? -> No\\n', 'Instruction: intersection. For example:\\nE: y, E: o, F: d, W: z, W: d. Is there an intersection between E and F? -> No\\nD: j, D: u, E: w, H: g, H: w. Is there an intersection between D and H? -> No\\nD: j, G: p, G: j, G: o, M: j. Is there an intersection between D and M? -> Yes\\nJ: v, B: v, B: z, J: z, T: a. Is there an intersection between B and J? -> Yes\\nD: b, D: y, H: r, H: b, J: o. Is there an intersection between J and D? -> No\\nT: w, T: r, G: w, I: t, T: m. Is there an intersection between I and G? -> No\\nT: r, E: a, E: y, A: r, A: a. Is there an intersection between T and A? -> Yes\\nI: s, T: w, I: w, I: v, D: s. Is there an intersection between I and T? -> Yes\\n', 'Instruction: intersection. For example:\\nJ: i, C: q, T: c, C: i, C: c. Is there an intersection between J and C? -> Yes\\nI: b, J: u, I: z, J: n, X: n. Is there an intersection between X and I? -> No\\nC: w, X: w, T: r, T: w, X: r. Is there an intersection between X and T? -> Yes\\nL: w, X: v, L: a, W: w, W: k. Is there an intersection between L and X? -> No\\n', 'Instruction: intersection. For example:\\nX: i, D: i, H: b, X: p, H: i. Is there an intersection between X and H? -> Yes\\nJ: a, J: t, X: a, M: l, X: t. Is there an intersection between M and J? -> No\\nC: w, C: s, H: r, C: r, P: r. Is there an intersection between P and C? -> Yes\\nF: m, X: m, S: w, F: w, S: m. Is there an intersection between S and X? -> Yes\\nR: h, A: j, F: m, A: h, A: i. Is there an intersection between R and F? -> No\\nD: j, C: p, C: e, D: m, F: j. Is there an intersection between D and C? -> No\\n', 'Instruction: intersection. For example:\\nW: r, T: b, W: b, A: r, W: e. Is there an intersection between A and T? -> No\\nB: w, S: q, S: w, H: y, S: y. Is there an intersection between S and B? -> Yes\\nE: q, R: b, E: b, W: o, R: m. Is there an intersection between W and R? -> No\\nR: r, A: q, I: i, I: d, A: d. Is there an intersection between I and R? -> No\\nG: p, G: z, H: n, X: p, X: z. Is there an intersection between X and G? -> Yes\\nB: k, W: r, W: w, T: w, B: w. Is there an intersection between W and T? -> Yes\\nC: c, J: o, J: z, I: o, J: c. Is there an intersection between C and I? -> No\\nW: r, F: s, F: w, W: s, H: s. Is there an intersection between F and H? -> Yes\\n', 'Instruction: intersection. For example:\\nC: m, C: t, S: p, C: p, J: m. Is there an intersection between S and J? -> No\\nH: w, B: k, T: k, T: o, T: w. Is there an intersection between H and T? -> Yes\\nE: h, E: q, M: q, B: h, E: l. Is there an intersection between E and B? -> Yes\\nE: b, M: n, E: s, M: s, R: s. Is there an intersection between E and R? -> Yes\\nF: x, E: x, E: y, E: e, H: z. Is there an intersection between E and H? -> No\\nG: u, E: h, E: t, X: u, X: j. Is there an intersection between E and X? -> No\\n', 'Instruction: intersection. For example:\\nG: p, G: a, R: x, P: p, R: a. Is there an intersection between G and R? -> Yes\\nR: d, B: o, E: u, E: o, E: x. Is there an intersection between B and R? -> No\\nF: s, E: q, H: k, E: k, H: q. Is there an intersection between E and H? -> Yes\\nE: r, S: b, E: p, S: r, F: p. Is there an intersection between F and S? -> No\\n', 'Instruction: intersection. For example:\\nL: e, L: b, C: b, H: l, L: z. Is there an intersection between H and C? -> No\\nR: w, B: m, G: m, G: l, R: l. Is there an intersection between R and B? -> No\\nM: v, M: e, W: d, M: s, D: v. Is there an intersection between W and M? -> No\\nH: t, A: u, X: t, A: b, H: r. Is there an intersection between X and H? -> Yes\\nH: i, M: y, H: y, M: i, A: u. Is there an intersection between M and H? -> Yes\\nS: u, W: u, T: u, T: m, W: c. Is there an intersection between S and T? -> Yes\\n', 'Instruction: intersection. For example:\\nT: s, L: u, I: u, I: p, I: s. Is there an intersection between T and L? -> No\\nP: u, P: a, M: u, M: m, F: a. Is there an intersection between F and M? -> No\\nT: h, G: h, A: h, T: v, G: a. Is there an intersection between A and T? -> Yes\\nW: i, I: i, W: g, I: t, D: t. Is there an intersection between W and I? -> Yes\\nT: b, T: u, J: t, L: t, T: x. Is there an intersection between L and J? -> Yes\\nW: t, W: d, S: f, J: f, J: d. Is there an intersection between W and S? -> No\\n', 'Instruction: intersection. For example:\\nL: a, D: c, W: o, D: a, W: r. Is there an intersection between D and L? -> Yes\\nE: w, M: x, E: x, W: x, M: e. Is there an intersection between E and W? -> Yes\\nA: b, E: r, B: q, A: r, A: q. Is there an intersection between B and E? -> No\\nL: z, W: e, W: p, L: p, M: t. Is there an intersection between M and L? -> No\\nD: d, H: c, D: x, H: d, M: c. Is there an intersection between D and M? -> No\\nX: v, X: p, P: p, C: t, C: v. Is there an intersection between X and C? -> Yes\\nG: y, C: y, C: f, G: f, B: f. Is there an intersection between C and B? -> Yes\\nJ: a, J: h, I: h, J: j, F: a. Is there an intersection between F and I? -> No\\n', 'Instruction: intersection. For example:\\nR: r, P: u, R: q, B: r, B: q. Is there an intersection between P and R? -> No\\nE: o, E: e, E: q, T: m, B: o. Is there an intersection between B and T? -> No\\nD: f, P: i, P: q, D: q, J: q. Is there an intersection between P and J? -> Yes\\nE: o, X: o, X: h, X: l, W: l. Is there an intersection between W and X? -> Yes\\nX: e, H: y, W: c, W: y, X: s. Is there an intersection between X and W? -> No\\nH: v, J: f, R: n, R: s, H: f. Is there an intersection between H and J? -> Yes\\nB: z, A: z, L: z, A: i, A: t. Is there an intersection between A and B? -> Yes\\nE: d, J: d, C: m, E: t, J: h. Is there an intersection between E and J? -> Yes\\nB: t, L: m, B: o, L: t, F: o. Is there an intersection between L and F? -> No\\nM: w, B: d, D: d, D: w, B: p. Is there an intersection between B and M? -> No\\n', 'Instruction: intersection. For example:\\nD: v, C: l, R: b, D: l, D: d. Is there an intersection between R and D? -> No\\nA: g, P: v, A: s, H: g, H: v. Is there an intersection between A and H? -> Yes\\nR: h, R: c, E: c, E: h, A: f. Is there an intersection between R and E? -> Yes\\nF: t, G: f, J: g, F: x, G: g. Is there an intersection between F and G? -> No\\n', 'Instruction: intersection. For example:\\nI: l, W: s, W: l, G: s, I: h. Is there an intersection between I and G? -> No\\nW: f, R: r, A: f, W: r, W: x. Is there an intersection between A and R? -> No\\nR: d, A: i, G: i, G: d, G: b. Is there an intersection between A and G? -> Yes\\nP: t, W: m, W: t, E: m, W: f. Is there an intersection between P and E? -> No\\nB: u, H: l, B: a, G: u, G: t. Is there an intersection between B and G? -> Yes\\nW: k, E: r, R: r, W: r, R: f. Is there an intersection between E and R? -> Yes\\nP: x, H: x, P: f, H: f, C: f. Is there an intersection between C and P? -> Yes\\nB: d, L: i, S: d, B: p, S: i. Is there an intersection between B and L? -> No\\nS: y, E: i, H: t, E: t, S: s. Is there an intersection between H and E? -> Yes\\nE: e, W: e, W: l, R: z, E: a. Is there an intersection between E and R? -> No\\n', 'Instruction: intersection. For example:\\nS: x, P: d, H: i, S: i, P: i. Is there an intersection between P and H? -> Yes\\nR: i, D: y, D: q, P: y, D: m. Is there an intersection between R and D? -> No\\nC: l, C: e, C: u, X: u, G: u. Is there an intersection between G and C? -> Yes\\nB: r, S: m, J: y, J: m, S: y. Is there an intersection between J and B? -> No\\n', 'Instruction: intersection. For example:\\nH: j, H: f, E: f, E: j, M: d. Is there an intersection between M and H? -> No\\nP: i, J: o, D: p, P: p, J: p. Is there an intersection between P and D? -> Yes\\nP: b, X: w, X: b, P: m, R: n. Is there an intersection between P and R? -> No\\nF: l, B: g, T: l, B: l, B: s. Is there an intersection between F and B? -> Yes\\nP: r, W: e, A: z, W: r, A: c. Is there an intersection between A and W? -> No\\nT: b, E: b, E: f, T: f, P: b. Is there an intersection between T and E? -> Yes\\nA: p, F: p, W: x, A: w, F: w. Is there an intersection between F and A? -> Yes\\nR: d, E: r, J: d, R: y, E: t. Is there an intersection between R and E? -> No\\n', 'Instruction: intersection. For example:\\nC: w, H: d, M: v, C: d, H: v. Is there an intersection between M and C? -> No\\nB: b, J: n, W: b, B: n, J: q. Is there an intersection between J and B? -> Yes\\nD: m, I: b, I: o, G: k, D: o. Is there an intersection between G and I? -> No\\nD: n, L: e, J: k, J: f, D: f. Is there an intersection between L and J? -> No\\nW: n, W: d, X: t, W: e, F: e. Is there an intersection between X and F? -> No\\nS: j, M: s, S: p, M: j, T: p. Is there an intersection between M and S? -> Yes\\nI: u, M: d, G: y, G: k, G: d. Is there an intersection between G and M? -> Yes\\nG: d, H: h, G: c, M: y, H: c. Is there an intersection between G and H? -> Yes\\n', 'Instruction: intersection. For example:\\nH: t, W: u, F: g, W: d, H: u. Is there an intersection between F and W? -> No\\nX: s, X: y, X: v, J: y, E: y. Is there an intersection between J and X? -> Yes\\nT: k, B: e, I: b, T: q, T: e. Is there an intersection between I and T? -> No\\nB: c, B: v, S: o, S: z, C: c. Is there an intersection between B and C? -> Yes\\nC: m, M: m, M: z, X: m, C: z. Is there an intersection between X and M? -> Yes\\nM: n, M: o, L: o, L: a, R: r. Is there an intersection between R and M? -> No\\nE: r, H: q, L: u, L: x, E: q. Is there an intersection between L and H? -> No\\nD: j, T: g, D: g, A: g, A: j. Is there an intersection between A and T? -> Yes\\n', 'Instruction: intersection. For example:\\nG: w, G: j, G: d, C: d, M: w. Is there an intersection between G and C? -> Yes\\nT: q, P: a, P: n, T: r, W: r. Is there an intersection between T and P? -> No\\nD: t, B: t, D: g, B: w, I: t. Is there an intersection between I and B? -> Yes\\nB: h, P: y, B: e, H: e, P: q. Is there an intersection between H and P? -> No\\nD: t, T: i, D: i, X: t, T: p. Is there an intersection between D and X? -> Yes\\nH: y, E: t, J: t, E: e, J: e. Is there an intersection between H and E? -> No\\nC: c, B: p, B: c, B: y, P: q. Is there an intersection between B and P? -> No\\nD: x, D: d, I: x, D: c, W: x. Is there an intersection between W and D? -> Yes\\n', 'Instruction: intersection. For example:\\nD: w, X: w, L: w, L: s, D: s. Is there an intersection between X and D? -> Yes\\nX: k, X: c, S: c, E: l, X: h. Is there an intersection between E and S? -> No\\nJ: d, J: a, P: n, F: d, F: u. Is there an intersection between F and P? -> No\\nD: t, I: q, J: q, I: p, D: f. Is there an intersection between J and I? -> Yes\\nG: c, F: e, R: c, G: p, F: p. Is there an intersection between R and F? -> No\\nA: b, B: i, D: h, D: b, A: z. Is there an intersection between A and D? -> Yes\\nX: t, T: o, P: h, T: t, T: y. Is there an intersection between P and T? -> No\\nX: f, J: e, X: e, P: f, X: v. Is there an intersection between X and P? -> Yes\\n', 'Instruction: intersection. For example:\\nL: r, L: j, G: h, W: r, G: r. Is there an intersection between L and G? -> Yes\\nJ: m, L: z, J: j, E: p, J: z. Is there an intersection between E and J? -> No\\nA: u, H: d, E: l, E: p, E: u. Is there an intersection between A and E? -> Yes\\nR: s, R: e, R: x, J: e, E: q. Is there an intersection between E and R? -> No\\nE: u, E: w, E: n, T: w, C: n. Is there an intersection between T and C? -> No\\nJ: n, L: n, C: q, C: n, L: q. Is there an intersection between C and L? -> Yes\\n', 'Instruction: intersection. For example:\\nB: z, L: j, C: j, B: j, L: z. Is there an intersection between C and L? -> Yes\\nM: o, J: d, J: e, M: q, A: q. Is there an intersection between J and A? -> No\\nS: x, F: b, T: b, F: s, S: s. Is there an intersection between F and S? -> Yes\\nF: l, A: e, D: c, D: e, F: e. Is there an intersection between F and A? -> Yes\\nM: h, S: h, M: y, B: h, M: d. Is there an intersection between B and S? -> Yes\\nS: u, S: l, X: t, X: n, L: n. Is there an intersection between S and L? -> No\\nX: f, F: f, E: u, X: a, F: e. Is there an intersection between E and F? -> No\\nG: k, P: f, G: b, P: y, W: k. Is there an intersection between W and G? -> Yes\\nH: t, A: t, P: w, A: y, P: f. Is there an intersection between P and A? -> No\\nL: a, M: a, R: g, L: p, L: g. Is there an intersection between M and R? -> No\\n', 'Instruction: intersection. For example:\\nL: g, B: g, W: j, B: l, W: l. Is there an intersection between W and B? -> Yes\\nB: w, M: s, M: w, M: g, C: s. Is there an intersection between B and C? -> No\\nT: j, T: d, H: d, E: j, E: d. Is there an intersection between H and E? -> Yes\\nG: k, X: b, X: l, E: n, E: k. Is there an intersection between X and G? -> No\\n', 'Instruction: intersection. For example:\\nA: q, F: q, F: b, F: d, T: b. Is there an intersection between F and T? -> Yes\\nX: o, F: n, X: l, R: l, X: h. Is there an intersection between F and R? -> No\\nG: r, B: q, T: r, B: b, T: b. Is there an intersection between G and T? -> Yes\\nW: m, W: j, C: m, M: e, W: e. Is there an intersection between C and M? -> No\\nS: x, A: i, J: d, J: i, J: x. Is there an intersection between A and J? -> Yes\\nJ: u, F: f, C: u, J: f, F: b. Is there an intersection between C and J? -> Yes\\nB: k, B: b, W: p, I: j, I: k. Is there an intersection between W and I? -> No\\nX: p, X: i, X: j, A: r, S: p. Is there an intersection between X and A? -> No\\nR: q, S: k, S: u, X: q, R: k. Is there an intersection between S and R? -> Yes\\nD: d, H: k, T: q, H: m, T: d. Is there an intersection between D and H? -> No\\n', 'Instruction: intersection. For example:\\nC: v, D: v, C: m, L: b, D: b. Is there an intersection between C and L? -> No\\nD: j, M: c, X: j, M: m, X: c. Is there an intersection between X and D? -> Yes\\nG: l, G: r, B: r, M: f, B: l. Is there an intersection between G and M? -> No\\nE: s, E: k, C: s, R: k, R: s. Is there an intersection between C and E? -> Yes\\nI: t, H: t, M: r, M: s, H: r. Is there an intersection between H and M? -> Yes\\nF: j, F: c, B: j, S: h, B: c. Is there an intersection between S and F? -> No\\n', 'Instruction: intersection. For example:\\nB: h, G: h, G: a, T: a, B: q. Is there an intersection between T and B? -> No\\nJ: o, L: z, L: j, F: j, J: z. Is there an intersection between F and J? -> No\\nT: f, T: d, L: d, W: v, L: s. Is there an intersection between L and T? -> Yes\\nL: s, L: o, H: o, C: z, H: s. Is there an intersection between C and H? -> No\\nG: i, R: o, R: f, A: o, R: i. Is there an intersection between A and R? -> Yes\\nD: q, L: p, D: w, W: q, W: s. Is there an intersection between L and W? -> No\\nT: k, P: k, T: v, E: v, T: l. Is there an intersection between E and T? -> Yes\\nC: h, S: f, S: x, H: f, C: x. Is there an intersection between S and C? -> Yes\\n', 'Instruction: intersection. For example:\\nS: w, S: c, H: w, S: q, P: w. Is there an intersection between S and H? -> Yes\\nR: f, G: s, R: x, C: x, C: s. Is there an intersection between C and G? -> Yes\\nW: r, X: b, X: r, X: n, S: b. Is there an intersection between W and X? -> Yes\\nC: k, D: k, J: g, D: m, D: h. Is there an intersection between J and C? -> No\\nI: w, I: a, L: l, M: a, L: p. Is there an intersection between I and L? -> No\\nA: c, C: d, D: f, A: d, D: c. Is there an intersection between D and C? -> No\\nC: f, M: f, R: v, C: b, R: b. Is there an intersection between M and C? -> Yes\\nF: y, T: h, W: h, T: y, T: z. Is there an intersection between F and W? -> No\\n', 'Instruction: intersection. For example:\\nW: k, H: b, H: j, W: o, X: k. Is there an intersection between H and X? -> No\\nD: v, H: h, D: h, D: g, R: h. Is there an intersection between H and R? -> Yes\\nI: a, B: f, I: l, E: l, E: b. Is there an intersection between B and E? -> No\\nM: g, H: o, B: g, H: z, B: r. Is there an intersection between H and B? -> No\\nB: d, C: k, B: w, A: k, C: d. Is there an intersection between B and C? -> Yes\\nL: q, A: y, L: a, W: a, W: k. Is there an intersection between A and L? -> No\\nJ: u, M: t, J: t, D: u, J: m. Is there an intersection between D and J? -> Yes\\nG: x, S: q, G: l, S: g, T: l. Is there an intersection between S and G? -> No\\nX: y, X: d, G: o, P: d, G: d. Is there an intersection between G and X? -> Yes\\nL: x, P: x, X: e, P: e, L: e. Is there an intersection between L and P? -> Yes\\n', 'Instruction: intersection. For example:\\nJ: x, W: h, J: t, R: h, W: f. Is there an intersection between W and J? -> No\\nA: k, M: p, A: t, I: t, I: k. Is there an intersection between A and M? -> No\\nJ: z, R: b, A: u, A: z, J: b. Is there an intersection between A and R? -> No\\nT: g, A: g, A: e, T: r, J: g. Is there an intersection between A and J? -> Yes\\nS: y, S: d, P: d, C: t, S: t. Is there an intersection between S and P? -> Yes\\nJ: w, J: q, S: z, J: z, X: w. Is there an intersection between J and S? -> Yes\\nX: u, X: j, C: i, C: s, S: j. Is there an intersection between C and X? -> No\\nF: c, C: n, X: c, F: b, X: u. Is there an intersection between C and F? -> No\\nE: u, S: c, E: v, B: c, B: q. Is there an intersection between S and B? -> Yes\\nJ: o, M: b, M: a, W: c, W: o. Is there an intersection between J and W? -> Yes\\n', 'Instruction: intersection. For example:\\nI: d, W: u, F: u, I: p, F: p. Is there an intersection between W and I? -> No\\nI: t, B: b, W: j, W: h, B: j. Is there an intersection between W and I? -> No\\nC: c, W: v, P: v, P: r, C: v. Is there an intersection between C and W? -> Yes\\nR: b, S: p, S: o, R: p, H: q. Is there an intersection between S and R? -> Yes\\nF: x, I: z, P: x, P: j, F: j. Is there an intersection between I and P? -> No\\nC: l, B: v, B: l, C: v, L: m. Is there an intersection between C and L? -> No\\nM: b, C: b, C: q, W: q, W: p. Is there an intersection between C and W? -> Yes\\nA: p, L: p, A: h, D: j, D: h. Is there an intersection between A and L? -> Yes\\n', 'Instruction: intersection. For example:\\nA: c, A: p, E: c, I: c, E: o. Is there an intersection between A and I? -> Yes\\nL: g, F: v, F: d, D: v, F: m. Is there an intersection between D and F? -> Yes\\nE: u, E: y, P: u, P: g, M: y. Is there an intersection between M and P? -> No\\nH: e, J: v, H: g, H: q, L: v. Is there an intersection between H and J? -> No\\nH: n, J: b, H: x, T: e, J: n. Is there an intersection between T and H? -> No\\nJ: e, M: w, H: e, J: f, M: f. Is there an intersection between H and J? -> Yes\\n', 'Instruction: intersection. For example:\\nL: q, H: q, L: f, B: c, H: f. Is there an intersection between H and B? -> No\\nH: s, R: y, R: s, X: y, X: g. Is there an intersection between X and R? -> Yes\\nR: g, R: n, B: g, P: g, P: p. Is there an intersection between B and P? -> Yes\\nI: c, A: y, A: c, D: i, D: z. Is there an intersection between D and A? -> No\\n', 'Instruction: intersection. For example:\\nS: x, R: x, H: g, H: x, R: d. Is there an intersection between S and H? -> Yes\\nD: r, P: e, M: e, M: v, D: h. Is there an intersection between P and D? -> No\\nW: m, I: m, R: m, I: x, I: s. Is there an intersection between W and R? -> Yes\\nI: q, I: m, F: f, P: q, F: m. Is there an intersection between F and P? -> No\\nP: q, J: z, P: s, E: q, J: c. Is there an intersection between E and P? -> Yes\\nM: w, P: w, W: j, W: i, P: i. Is there an intersection between W and M? -> No\\n', 'Instruction: intersection. For example:\\nF: w, C: s, I: z, F: z, I: s. Is there an intersection between C and F? -> No\\nD: h, R: q, D: o, H: x, H: o. Is there an intersection between D and H? -> Yes\\nD: v, M: v, T: s, M: s, M: e. Is there an intersection between M and T? -> Yes\\nX: l, A: u, S: t, S: u, A: h. Is there an intersection between X and S? -> No\\nW: a, T: a, W: v, R: q, T: g. Is there an intersection between W and T? -> Yes\\nI: r, J: o, I: x, J: r, C: n. Is there an intersection between C and I? -> No\\n', 'Instruction: intersection. For example:\\nW: n, W: s, T: t, T: v, E: v. Is there an intersection between T and E? -> Yes\\nP: l, P: d, I: e, X: f, X: e. Is there an intersection between X and P? -> No\\nJ: u, W: u, G: r, J: e, W: r. Is there an intersection between G and J? -> No\\nC: q, C: a, R: e, L: a, L: e. Is there an intersection between C and L? -> Yes\\nG: e, X: q, X: m, X: n, D: n. Is there an intersection between G and X? -> No\\nX: m, X: r, X: p, G: t, L: m. Is there an intersection between G and L? -> No\\nS: c, J: o, C: j, J: j, J: c. Is there an intersection between S and J? -> Yes\\nP: l, G: l, S: l, G: m, S: o. Is there an intersection between S and P? -> Yes\\n', 'Instruction: intersection. For example:\\nX: x, X: l, B: x, X: r, W: h. Is there an intersection between X and W? -> No\\nA: m, S: j, T: j, A: j, S: c. Is there an intersection between T and S? -> Yes\\nF: s, P: i, F: v, S: i, S: s. Is there an intersection between P and S? -> Yes\\nR: a, T: z, P: z, T: j, P: j. Is there an intersection between R and P? -> No\\nA: m, H: z, D: s, A: s, H: m. Is there an intersection between A and H? -> Yes\\nI: j, I: f, P: f, I: s, F: i. Is there an intersection between P and F? -> No\\n', 'Instruction: intersection. For example:\\nI: u, I: w, H: w, S: w, I: n. Is there an intersection between H and I? -> Yes\\nP: q, I: q, I: u, P: i, R: q. Is there an intersection between R and I? -> Yes\\nG: u, G: t, B: u, D: s, B: t. Is there an intersection between G and D? -> No\\nD: e, B: z, C: p, C: c, D: c. Is there an intersection between C and B? -> No\\nB: i, B: f, G: q, G: i, T: i. Is there an intersection between T and B? -> Yes\\nX: t, I: b, X: b, I: e, W: y. Is there an intersection between I and W? -> No\\nC: v, M: z, S: f, S: y, M: f. Is there an intersection between C and S? -> No\\nJ: n, I: b, M: w, M: n, I: n. Is there an intersection between J and I? -> Yes\\n', 'Instruction: intersection. For example:\\nW: p, G: w, L: w, G: q, W: w. Is there an intersection between G and W? -> Yes\\nX: f, W: s, X: g, T: f, X: y. Is there an intersection between W and T? -> No\\nT: n, T: q, F: q, A: q, F: t. Is there an intersection between F and A? -> Yes\\nX: r, E: r, E: s, X: q, G: d. Is there an intersection between G and X? -> No\\n', 'Instruction: intersection. For example:\\nH: x, X: x, X: m, H: u, R: u. Is there an intersection between H and R? -> Yes\\nH: o, H: e, P: o, P: s, T: e. Is there an intersection between T and H? -> Yes\\nM: b, X: q, J: m, X: g, J: q. Is there an intersection between X and M? -> No\\nG: n, G: x, J: w, X: c, J: n. Is there an intersection between J and X? -> No\\nX: w, X: f, X: i, T: f, S: w. Is there an intersection between S and T? -> No\\nM: n, L: n, M: z, L: t, J: w. Is there an intersection between L and M? -> Yes\\n', 'Instruction: intersection. For example:\\nI: h, T: u, T: b, J: h, I: u. Is there an intersection between T and I? -> Yes\\nE: l, M: r, T: r, T: p, T: c. Is there an intersection between T and M? -> Yes\\nC: e, X: c, R: e, X: b, X: w. Is there an intersection between C and X? -> No\\nS: n, S: f, M: f, G: n, M: y. Is there an intersection between M and G? -> No\\nX: g, A: q, S: r, A: g, X: r. Is there an intersection between S and A? -> No\\nG: d, X: j, G: x, E: x, G: j. Is there an intersection between G and X? -> Yes\\nF: e, B: e, B: r, F: p, G: b. Is there an intersection between B and G? -> No\\nL: z, F: t, F: o, B: t, F: y. Is there an intersection between B and F? -> Yes\\n', 'Instruction: intersection. For example:\\nX: s, P: s, H: j, P: x, H: o. Is there an intersection between H and P? -> No\\nH: i, S: s, S: p, P: i, H: t. Is there an intersection between H and P? -> Yes\\nT: r, M: f, M: l, L: r, L: f. Is there an intersection between T and M? -> No\\nP: e, J: d, D: e, D: s, J: e. Is there an intersection between D and J? -> Yes\\nR: l, D: l, D: u, T: l, R: x. Is there an intersection between T and D? -> Yes\\nX: k, T: d, H: x, T: k, H: k. Is there an intersection between X and H? -> Yes\\nB: h, D: k, B: d, E: h, B: p. Is there an intersection between D and B? -> No\\nC: j, G: f, L: f, G: j, L: p. Is there an intersection between L and G? -> Yes\\nB: m, J: g, J: m, B: c, P: a. Is there an intersection between B and P? -> No\\nM: x, G: r, M: c, M: r, P: c. Is there an intersection between P and G? -> No\\n', 'Instruction: intersection. For example:\\nR: w, T: h, L: p, T: w, R: h. Is there an intersection between L and T? -> No\\nD: m, L: r, X: k, D: r, D: s. Is there an intersection between X and L? -> No\\nE: e, X: i, X: a, E: l, I: a. Is there an intersection between X and I? -> Yes\\nI: j, T: q, T: s, T: d, P: d. Is there an intersection between I and P? -> No\\nT: s, D: p, S: m, T: m, S: s. Is there an intersection between S and D? -> No\\nC: h, D: x, C: d, D: d, H: x. Is there an intersection between H and D? -> Yes\\nW: m, L: m, G: u, G: m, G: l. Is there an intersection between W and L? -> Yes\\nF: o, T: o, F: x, X: c, F: c. Is there an intersection between T and F? -> Yes\\n', 'Instruction: intersection. For example:\\nS: f, B: f, B: h, W: i, W: k. Is there an intersection between B and W? -> No\\nJ: d, R: z, R: t, R: d, D: z. Is there an intersection between D and J? -> No\\nE: m, W: i, W: m, P: s, E: s. Is there an intersection between P and E? -> Yes\\nX: q, D: c, X: o, F: q, X: c. Is there an intersection between X and F? -> Yes\\n', 'Instruction: intersection. For example:\\nB: v, B: e, A: e, A: v, W: a. Is there an intersection between A and W? -> No\\nS: v, T: v, S: s, I: s, S: e. Is there an intersection between T and S? -> Yes\\nH: j, E: n, W: q, W: n, H: q. Is there an intersection between H and W? -> Yes\\nR: a, P: o, F: i, F: o, R: t. Is there an intersection between R and P? -> No\\n', 'Instruction: intersection. For example:\\nL: c, C: z, L: b, J: z, C: x. Is there an intersection between C and L? -> No\\nT: z, T: b, T: j, J: j, X: z. Is there an intersection between X and T? -> Yes\\nI: u, X: s, I: x, I: r, L: u. Is there an intersection between X and I? -> No\\nL: n, A: u, E: u, A: n, L: q. Is there an intersection between E and A? -> Yes\\nX: q, P: d, F: n, F: d, X: f. Is there an intersection between F and P? -> Yes\\nI: f, A: z, A: y, I: q, J: y. Is there an intersection between I and J? -> No\\nD: p, S: p, W: x, D: i, S: w. Is there an intersection between S and W? -> No\\nP: n, S: g, G: s, S: s, S: h. Is there an intersection between S and G? -> Yes\\nS: w, W: i, W: w, C: o, S: i. Is there an intersection between S and C? -> No\\nC: s, I: s, F: s, C: i, I: j. Is there an intersection between F and I? -> Yes\\n', 'Instruction: intersection. For example:\\nM: e, H: v, M: w, D: w, M: v. Is there an intersection between D and H? -> No\\nH: h, H: t, S: h, L: h, S: u. Is there an intersection between L and H? -> Yes\\nC: y, A: o, A: h, A: w, T: y. Is there an intersection between T and C? -> Yes\\nT: s, X: v, B: j, T: j, B: v. Is there an intersection between X and T? -> No\\nR: f, X: w, J: f, X: y, J: g. Is there an intersection between X and J? -> No\\nL: f, G: y, G: h, T: f, L: h. Is there an intersection between L and G? -> Yes\\n', 'Instruction: intersection. For example:\\nD: m, M: u, D: n, W: u, M: m. Is there an intersection between W and M? -> Yes\\nG: u, L: z, D: u, G: q, L: u. Is there an intersection between G and L? -> Yes\\nP: u, H: u, P: e, P: c, D: e. Is there an intersection between P and D? -> Yes\\nR: d, W: v, J: v, R: f, W: d. Is there an intersection between J and R? -> No\\nP: h, B: m, B: x, S: h, B: t. Is there an intersection between S and B? -> No\\nF: u, F: h, T: u, T: h, W: w. Is there an intersection between F and W? -> No\\nP: x, W: y, W: h, B: s, W: s. Is there an intersection between B and P? -> No\\nB: l, A: l, A: m, X: p, X: m. Is there an intersection between B and A? -> Yes\\n', 'Instruction: intersection. For example:\\nS: e, T: p, T: h, T: m, A: p. Is there an intersection between T and S? -> No\\nT: z, M: z, D: d, D: z, M: w. Is there an intersection between T and M? -> Yes\\nF: q, J: y, F: y, F: s, M: q. Is there an intersection between M and J? -> No\\nJ: g, M: a, M: v, D: a, M: t. Is there an intersection between M and J? -> No\\nC: z, P: l, I: z, C: l, I: l. Is there an intersection between P and C? -> Yes\\nP: w, L: s, J: s, L: r, P: t. Is there an intersection between P and J? -> No\\nC: h, C: y, R: t, R: h, B: t. Is there an intersection between B and R? -> Yes\\nC: j, R: r, P: s, P: j, C: s. Is there an intersection between C and R? -> No\\nC: q, X: z, X: s, B: j, C: j. Is there an intersection between B and C? -> Yes\\nF: m, B: n, F: n, B: c, P: m. Is there an intersection between F and P? -> Yes\\n', 'Instruction: intersection. For example:\\nF: x, M: h, A: h, F: k, A: k. Is there an intersection between M and F? -> No\\nA: w, A: s, X: r, M: p, A: r. Is there an intersection between A and M? -> No\\nP: m, B: w, B: d, M: m, M: d. Is there an intersection between B and M? -> Yes\\nG: x, W: s, G: g, A: s, A: x. Is there an intersection between G and A? -> Yes\\nW: q, E: i, W: o, H: q, E: o. Is there an intersection between E and H? -> No\\nD: y, E: t, D: b, H: t, H: y. Is there an intersection between E and H? -> Yes\\n', 'Instruction: intersection. For example:\\nA: n, S: u, A: s, A: h, W: n. Is there an intersection between A and S? -> No\\nB: b, R: n, B: o, R: b, M: e. Is there an intersection between R and B? -> Yes\\nP: z, D: g, D: e, M: e, P: e. Is there an intersection between M and P? -> Yes\\nC: e, C: b, A: w, S: a, A: b. Is there an intersection between C and A? -> Yes\\nA: h, A: l, J: o, J: f, T: h. Is there an intersection between J and A? -> No\\nC: h, B: b, B: s, L: o, C: s. Is there an intersection between C and L? -> No\\nR: l, E: x, E: r, R: k, L: l. Is there an intersection between L and R? -> Yes\\nJ: w, A: f, P: m, J: h, A: m. Is there an intersection between J and P? -> No\\n', 'Instruction: intersection. For example:\\nS: e, D: a, W: g, D: e, W: e. Is there an intersection between D and W? -> Yes\\nT: k, G: y, G: q, P: q, G: k. Is there an intersection between G and P? -> Yes\\nH: o, D: y, R: l, R: y, D: p. Is there an intersection between D and H? -> No\\nW: w, P: y, W: a, P: w, F: d. Is there an intersection between W and F? -> No\\n', 'Instruction: intersection. For example:\\nE: n, H: v, A: d, H: b, A: b. Is there an intersection between H and E? -> No\\nA: j, A: k, L: j, P: g, P: k. Is there an intersection between L and A? -> Yes\\nA: m, M: e, R: y, R: e, M: m. Is there an intersection between M and A? -> Yes\\nD: c, I: i, T: z, T: k, T: i. Is there an intersection between D and I? -> No\\nF: m, R: m, F: b, I: b, F: o. Is there an intersection between I and R? -> No\\nT: d, E: b, E: d, L: d, T: b. Is there an intersection between L and E? -> Yes\\n', 'Instruction: intersection. For example:\\nH: x, H: n, X: n, T: t, H: q. Is there an intersection between H and T? -> No\\nJ: z, J: o, G: p, G: a, D: a. Is there an intersection between G and J? -> No\\nF: s, J: u, W: r, J: s, W: s. Is there an intersection between W and F? -> Yes\\nJ: v, W: p, L: z, J: h, W: h. Is there an intersection between J and L? -> No\\nR: d, R: h, B: v, B: z, M: h. Is there an intersection between R and M? -> Yes\\nG: x, W: a, W: s, C: x, C: s. Is there an intersection between G and C? -> Yes\\nE: r, E: t, E: z, F: z, M: t. Is there an intersection between M and F? -> No\\nW: s, W: r, F: s, B: n, W: i. Is there an intersection between W and F? -> Yes\\n', 'Instruction: intersection. For example:\\nC: n, G: r, C: r, J: r, G: n. Is there an intersection between C and J? -> Yes\\nI: c, F: w, F: o, X: g, X: w. Is there an intersection between F and X? -> Yes\\nP: h, W: m, P: m, B: h, P: q. Is there an intersection between P and B? -> Yes\\nP: j, J: e, J: i, T: f, T: j. Is there an intersection between T and J? -> No\\nM: l, M: n, I: f, M: f, R: h. Is there an intersection between R and I? -> No\\nB: i, W: f, B: x, X: v, X: f. Is there an intersection between X and B? -> No\\n', 'Instruction: intersection. For example:\\nM: h, W: q, W: z, G: q, M: z. Is there an intersection between M and G? -> No\\nS: b, J: y, C: y, C: i, J: b. Is there an intersection between S and C? -> No\\nT: m, T: t, I: f, J: t, I: s. Is there an intersection between J and I? -> No\\nR: u, J: n, C: n, C: u, C: t. Is there an intersection between C and R? -> Yes\\nE: o, E: k, H: k, E: t, B: r. Is there an intersection between E and H? -> Yes\\nM: w, M: b, E: r, F: w, E: b. Is there an intersection between M and F? -> Yes\\n', 'Instruction: intersection. For example:\\nJ: e, J: a, J: h, A: x, W: a. Is there an intersection between A and J? -> No\\nI: b, E: b, I: g, E: r, T: g. Is there an intersection between E and T? -> No\\nD: e, M: e, A: e, D: k, M: h. Is there an intersection between A and D? -> Yes\\nR: i, T: i, X: z, R: h, T: z. Is there an intersection between T and R? -> Yes\\nF: d, B: i, F: o, B: d, H: q. Is there an intersection between H and F? -> No\\nJ: n, E: r, J: c, I: r, J: r. Is there an intersection between E and I? -> Yes\\nJ: x, J: d, I: o, J: z, B: o. Is there an intersection between B and J? -> No\\nC: u, I: k, H: b, I: w, I: b. Is there an intersection between I and C? -> No\\nF: k, J: q, F: s, J: k, H: k. Is there an intersection between F and J? -> Yes\\nE: n, L: h, L: n, X: b, E: h. Is there an intersection between L and E? -> Yes\\n', 'Instruction: intersection. For example:\\nJ: o, B: g, J: v, B: v, S: v. Is there an intersection between J and B? -> Yes\\nR: y, R: q, R: c, S: y, P: y. Is there an intersection between R and P? -> Yes\\nG: b, G: s, B: s, B: b, J: s. Is there an intersection between G and B? -> Yes\\nX: m, X: c, H: l, R: l, R: w. Is there an intersection between H and X? -> No\\nI: l, F: z, P: z, P: p, F: p. Is there an intersection between F and I? -> No\\nM: r, S: r, M: w, S: c, L: r. Is there an intersection between M and S? -> Yes\\nD: f, D: w, B: f, B: c, E: w. Is there an intersection between B and E? -> No\\nE: y, P: x, E: x, P: y, B: y. Is there an intersection between E and B? -> Yes\\nH: v, X: j, J: o, J: v, J: j. Is there an intersection between H and X? -> No\\nD: k, S: f, D: v, C: f, S: h. Is there an intersection between D and S? -> No\\n', 'Instruction: intersection. For example:\\nJ: q, R: q, J: g, W: f, J: f. Is there an intersection between W and R? -> No\\nM: v, A: r, A: g, M: r, J: r. Is there an intersection between M and A? -> Yes\\nA: p, F: r, S: p, F: f, F: p. Is there an intersection between A and F? -> Yes\\nI: y, C: t, C: a, S: q, S: t. Is there an intersection between I and C? -> No\\n', 'Instruction: intersection. For example:\\nP: t, P: f, L: q, L: e, F: e. Is there an intersection between P and F? -> No\\nT: z, L: h, C: h, C: z, T: f. Is there an intersection between L and C? -> Yes\\nS: f, A: i, A: f, S: i, J: y. Is there an intersection between S and J? -> No\\nC: s, S: f, S: c, H: f, C: e. Is there an intersection between C and H? -> No\\nW: j, G: j, R: j, G: u, R: a. Is there an intersection between W and G? -> Yes\\nT: y, M: i, T: i, I: i, M: w. Is there an intersection between I and T? -> Yes\\n', 'Instruction: intersection. For example:\\nJ: a, X: a, S: b, X: x, J: y. Is there an intersection between J and S? -> No\\nH: a, H: l, X: g, X: a, F: a. Is there an intersection between X and H? -> Yes\\nJ: v, J: p, M: e, I: d, I: p. Is there an intersection between I and J? -> Yes\\nH: k, H: g, A: g, A: z, S: k. Is there an intersection between A and H? -> Yes\\nS: s, W: p, W: t, W: s, B: t. Is there an intersection between B and S? -> No\\nR: u, C: u, B: a, C: w, R: h. Is there an intersection between C and B? -> No\\nC: d, L: r, D: m, L: m, C: r. Is there an intersection between L and D? -> Yes\\nF: l, R: r, S: h, S: n, F: r. Is there an intersection between S and R? -> No\\n', 'Instruction: intersection. For example:\\nL: l, L: j, G: d, S: j, S: w. Is there an intersection between S and G? -> No\\nS: q, F: i, E: i, E: l, F: w. Is there an intersection between S and F? -> No\\nE: o, B: m, W: m, B: o, E: m. Is there an intersection between B and W? -> Yes\\nX: f, P: k, P: a, P: f, G: k. Is there an intersection between G and X? -> No\\nL: i, L: c, B: v, B: c, S: i. Is there an intersection between S and L? -> Yes\\nH: k, M: s, M: e, I: s, M: k. Is there an intersection between H and M? -> Yes\\nM: h, G: h, M: j, M: t, S: h. Is there an intersection between G and M? -> Yes\\nB: c, H: c, H: j, I: u, I: o. Is there an intersection between I and H? -> No\\n', 'Instruction: intersection. For example:\\nM: c, P: f, M: s, P: i, R: s. Is there an intersection between R and M? -> Yes\\nW: o, P: f, E: z, P: c, W: z. Is there an intersection between P and W? -> No\\nH: f, H: o, P: f, H: x, J: f. Is there an intersection between J and P? -> Yes\\nA: m, M: k, M: m, J: k, M: b. Is there an intersection between J and A? -> No\\nS: x, H: g, X: g, X: q, S: q. Is there an intersection between X and H? -> Yes\\nD: x, M: o, M: u, D: o, W: t. Is there an intersection between M and W? -> No\\n', 'Instruction: intersection. For example:\\nL: b, J: x, I: p, I: x, L: x. Is there an intersection between I and J? -> Yes\\nT: b, F: z, F: p, T: p, D: v. Is there an intersection between F and D? -> No\\nX: d, X: w, C: r, F: w, F: d. Is there an intersection between C and X? -> No\\nC: u, J: t, X: k, X: t, X: i. Is there an intersection between X and J? -> Yes\\nL: c, T: r, C: r, C: e, T: z. Is there an intersection between T and C? -> Yes\\nM: u, E: z, M: z, I: u, M: x. Is there an intersection between I and E? -> No\\nH: p, I: p, I: q, J: p, I: y. Is there an intersection between J and H? -> Yes\\nP: g, I: x, P: w, L: g, P: z. Is there an intersection between L and I? -> No\\n', 'Instruction: intersection. For example:\\nS: o, J: g, J: o, R: k, R: o. Is there an intersection between S and R? -> Yes\\nD: y, I: y, C: n, I: n, D: n. Is there an intersection between I and C? -> Yes\\nF: v, A: h, W: v, W: c, W: t. Is there an intersection between F and W? -> Yes\\nH: l, M: i, I: w, H: i, H: e. Is there an intersection between H and M? -> Yes\\nB: w, B: o, L: w, D: o, D: s. Is there an intersection between L and D? -> No\\nM: f, P: f, D: v, M: p, M: d. Is there an intersection between P and D? -> No\\nH: v, A: v, I: u, H: e, A: e. Is there an intersection between H and I? -> No\\nJ: o, I: f, T: f, I: e, T: e. Is there an intersection between T and J? -> No\\nX: l, B: n, F: b, B: b, X: n. Is there an intersection between X and F? -> No\\nM: e, S: j, S: e, M: h, G: h. Is there an intersection between G and M? -> Yes\\n', 'Instruction: intersection. For example:\\nC: i, H: a, B: k, C: a, B: p. Is there an intersection between H and B? -> No\\nA: q, D: k, A: k, P: k, P: s. Is there an intersection between P and A? -> Yes\\nC: s, D: s, D: u, D: f, G: z. Is there an intersection between G and C? -> No\\nH: g, C: s, G: v, H: a, C: g. Is there an intersection between H and C? -> Yes\\nA: h, F: l, F: h, A: e, M: h. Is there an intersection between M and F? -> Yes\\nE: q, T: g, L: q, E: g, T: u. Is there an intersection between L and T? -> No\\nR: u, I: x, I: i, P: u, R: p. Is there an intersection between R and I? -> No\\nG: o, D: r, G: r, B: u, G: u. Is there an intersection between D and G? -> Yes\\n', 'Instruction: intersection. For example:\\nR: n, R: t, F: i, J: x, F: x. Is there an intersection between J and F? -> Yes\\nG: i, M: i, I: g, I: p, G: z. Is there an intersection between G and I? -> No\\nB: o, S: y, L: t, S: v, L: y. Is there an intersection between B and S? -> No\\nD: c, D: g, X: c, D: x, E: x. Is there an intersection between E and D? -> Yes\\n', 'Instruction: intersection. For example:\\nC: e, E: u, E: i, P: v, C: v. Is there an intersection between C and E? -> No\\nM: t, X: r, X: x, X: t, B: x. Is there an intersection between X and M? -> Yes\\nA: i, W: y, I: i, W: i, W: b. Is there an intersection between W and A? -> Yes\\nE: w, W: d, F: w, W: w, F: d. Is there an intersection between F and E? -> Yes\\nS: t, W: j, W: t, H: q, W: f. Is there an intersection between W and S? -> Yes\\nD: s, I: s, D: h, E: h, D: l. Is there an intersection between E and I? -> No\\nH: s, W: d, D: b, W: s, H: b. Is there an intersection between D and W? -> No\\nX: x, X: n, X: b, A: p, R: p. Is there an intersection between A and X? -> No\\n', 'Instruction: intersection. For example:\\nD: e, T: t, T: y, M: e, M: y. Is there an intersection between T and D? -> No\\nE: n, T: n, E: l, A: l, E: b. Is there an intersection between T and A? -> No\\nM: m, B: i, X: i, X: m, X: t. Is there an intersection between M and X? -> Yes\\nR: s, F: s, J: s, R: y, F: y. Is there an intersection between J and R? -> Yes\\nI: i, C: a, E: i, C: s, E: x. Is there an intersection between C and I? -> No\\nJ: w, M: n, W: q, M: q, W: w. Is there an intersection between J and W? -> Yes\\nH: j, H: b, F: y, H: n, W: y. Is there an intersection between H and W? -> No\\nI: w, I: x, I: q, A: w, C: x. Is there an intersection between C and I? -> Yes\\n', 'Instruction: intersection. For example:\\nR: v, G: v, R: z, C: z, C: v. Is there an intersection between G and R? -> Yes\\nD: j, F: y, X: l, D: l, X: j. Is there an intersection between F and D? -> No\\nR: e, J: c, R: b, I: c, J: e. Is there an intersection between R and I? -> No\\nB: o, H: n, H: o, G: n, H: d. Is there an intersection between H and B? -> Yes\\nX: m, P: s, P: b, R: s, R: m. Is there an intersection between R and P? -> Yes\\nW: c, L: j, W: j, A: e, W: u. Is there an intersection between A and L? -> No\\nA: w, F: w, G: w, G: a, A: t. Is there an intersection between G and A? -> Yes\\nL: q, E: q, W: u, E: x, W: p. Is there an intersection between W and L? -> No\\n', 'Instruction: intersection. For example:\\nX: m, F: v, G: c, G: v, G: m. Is there an intersection between G and X? -> Yes\\nX: j, M: w, M: v, X: v, T: j. Is there an intersection between T and M? -> No\\n', 'Instruction: intersection. For example:\\nH: v, I: b, S: t, S: j, S: b. Is there an intersection between S and H? -> No\\nS: t, D: b, I: t, D: a, S: b. Is there an intersection between I and S? -> Yes\\nX: u, R: e, R: t, X: t, S: u. Is there an intersection between S and R? -> No\\nL: d, A: f, A: c, T: f, L: c. Is there an intersection between T and A? -> Yes\\nW: d, L: m, P: l, L: j, P: j. Is there an intersection between P and W? -> No\\nP: c, H: s, H: b, C: c, P: y. Is there an intersection between C and P? -> Yes\\n', 'Instruction: intersection. For example:\\nT: b, T: f, H: x, T: n, X: x. Is there an intersection between H and T? -> No\\nR: l, J: p, A: v, J: v, J: x. Is there an intersection between A and J? -> Yes\\n', 'Instruction: intersection. For example:\\nP: d, P: x, W: x, W: d, F: m. Is there an intersection between P and F? -> No\\nM: p, C: y, L: k, L: y, M: k. Is there an intersection between C and M? -> No\\nH: i, P: d, H: d, H: v, M: v. Is there an intersection between P and H? -> Yes\\nA: q, L: q, D: s, A: v, L: s. Is there an intersection between L and A? -> Yes\\nP: i, P: h, S: p, P: j, D: h. Is there an intersection between S and D? -> No\\nR: c, W: g, R: g, W: m, J: m. Is there an intersection between W and J? -> Yes\\nP: l, T: s, P: h, F: t, T: l. Is there an intersection between F and P? -> No\\nH: x, L: c, X: x, H: c, X: f. Is there an intersection between H and X? -> Yes\\n', 'Instruction: intersection. For example:\\nC: a, C: j, R: a, R: j, L: w. Is there an intersection between C and L? -> No\\nX: s, W: e, R: s, R: e, W: o. Is there an intersection between X and W? -> No\\nG: w, G: k, A: k, L: i, G: x. Is there an intersection between A and L? -> No\\nS: m, M: m, X: u, X: m, M: o. Is there an intersection between X and M? -> Yes\\nE: p, I: p, I: q, A: a, E: q. Is there an intersection between I and A? -> No\\nS: v, X: p, X: r, I: v, I: r. Is there an intersection between I and S? -> Yes\\nC: z, S: b, S: z, I: z, I: o. Is there an intersection between I and S? -> Yes\\nH: f, G: f, C: f, C: e, G: n. Is there an intersection between C and G? -> Yes\\n', 'Instruction: intersection. For example:\\nA: j, F: i, A: b, L: z, F: j. Is there an intersection between L and A? -> No\\nE: p, E: h, E: m, D: p, B: m. Is there an intersection between B and D? -> No\\nF: b, X: p, R: o, X: o, F: o. Is there an intersection between X and F? -> Yes\\nH: x, C: x, S: a, C: a, S: s. Is there an intersection between H and S? -> No\\nJ: k, B: k, T: k, J: x, J: m. Is there an intersection between B and J? -> Yes\\nF: n, F: y, R: y, P: y, F: q. Is there an intersection between R and P? -> Yes\\nG: i, E: n, A: n, A: w, E: w. Is there an intersection between G and E? -> No\\nC: g, F: f, P: f, C: p, C: d. Is there an intersection between P and F? -> Yes\\nX: b, X: f, X: h, A: b, E: b. Is there an intersection between X and A? -> Yes\\nW: x, H: y, W: a, S: x, W: i. Is there an intersection between H and W? -> No\\n', 'Instruction: intersection. For example:\\nF: x, J: a, T: h, J: b, T: a. Is there an intersection between J and F? -> No\\nA: d, D: w, D: d, C: g, C: w. Is there an intersection between C and D? -> Yes\\nJ: u, J: s, X: w, X: u, G: s. Is there an intersection between G and X? -> No\\nD: u, D: t, G: b, M: u, M: b. Is there an intersection between M and G? -> Yes\\nB: m, B: i, E: r, W: r, W: m. Is there an intersection between E and B? -> No\\nC: l, J: o, C: r, D: w, C: o. Is there an intersection between C and D? -> No\\nC: v, C: f, B: a, B: e, S: a. Is there an intersection between S and B? -> Yes\\nE: f, G: e, X: e, G: f, E: d. Is there an intersection between G and X? -> Yes\\n', 'Instruction: intersection. For example:\\nA: b, B: b, G: m, A: o, B: v. Is there an intersection between B and G? -> No\\nE: z, I: k, J: l, I: z, I: c. Is there an intersection between J and I? -> No\\nM: q, S: q, D: q, S: v, S: d. Is there an intersection between M and D? -> Yes\\nD: a, F: k, D: b, J: k, F: b. Is there an intersection between F and D? -> Yes\\nS: m, G: y, F: y, G: a, S: y. Is there an intersection between S and F? -> Yes\\nJ: h, S: f, A: f, S: b, A: h. Is there an intersection between S and J? -> No\\nA: h, T: h, A: z, T: z, G: h. Is there an intersection between G and T? -> Yes\\nX: g, X: d, J: f, B: q, X: f. Is there an intersection between X and B? -> No\\n', 'Instruction: intersection. For example:\\nF: t, F: c, G: h, G: t, I: t. Is there an intersection between I and F? -> Yes\\nR: b, R: x, L: w, H: s, L: x. Is there an intersection between H and L? -> No\\nH: k, S: k, H: f, D: p, S: p. Is there an intersection between H and D? -> No\\nP: v, S: v, S: w, R: t, R: j. Is there an intersection between P and R? -> No\\nI: r, P: o, R: p, P: r, R: r. Is there an intersection between I and P? -> Yes\\nL: n, E: y, R: y, R: e, R: g. Is there an intersection between E and R? -> Yes\\n', 'Instruction: intersection. For example:\\nF: f, P: d, J: c, P: f, F: d. Is there an intersection between J and F? -> No\\nJ: u, J: c, I: c, J: j, W: j. Is there an intersection between J and W? -> Yes\\nW: u, S: u, S: m, W: a, C: a. Is there an intersection between S and C? -> No\\nM: t, M: q, D: h, G: w, D: q. Is there an intersection between M and G? -> No\\nI: f, I: j, S: z, F: j, S: f. Is there an intersection between S and I? -> Yes\\nT: x, C: m, R: x, C: u, C: x. Is there an intersection between T and R? -> Yes\\nR: g, D: w, D: g, T: w, T: a. Is there an intersection between T and D? -> Yes\\nF: x, R: w, B: w, F: k, R: k. Is there an intersection between B and R? -> Yes\\nP: z, J: g, P: h, P: l, H: h. Is there an intersection between P and J? -> No\\nH: i, F: l, B: l, H: d, B: d. Is there an intersection between H and F? -> No\\n', 'Instruction: intersection. For example:\\nG: n, G: m, A: h, F: n, A: m. Is there an intersection between A and F? -> No\\nE: p, R: i, L: p, E: a, L: a. Is there an intersection between R and E? -> No\\nX: h, D: o, X: a, D: h, M: a. Is there an intersection between D and M? -> No\\nH: p, I: p, I: c, H: c, L: d. Is there an intersection between L and H? -> No\\nR: z, R: m, R: l, J: l, D: l. Is there an intersection between D and J? -> Yes\\nJ: z, H: x, J: p, R: p, J: u. Is there an intersection between J and R? -> Yes\\nS: e, S: w, E: v, W: q, E: e. Is there an intersection between S and E? -> Yes\\nB: v, W: f, B: g, B: a, X: a. Is there an intersection between W and B? -> No\\nB: d, D: d, D: p, J: x, J: d. Is there an intersection between B and J? -> Yes\\nG: d, C: b, S: i, S: b, S: d. Is there an intersection between G and S? -> Yes\\n', 'Instruction: intersection. For example:\\nI: m, T: l, F: x, F: f, I: f. Is there an intersection between F and I? -> Yes\\nP: e, G: z, P: z, A: e, P: w. Is there an intersection between G and A? -> No\\nW: r, W: j, H: r, W: e, X: r. Is there an intersection between X and W? -> Yes\\nS: q, X: x, E: w, X: o, E: x. Is there an intersection between X and S? -> No\\n', 'Instruction: intersection. For example:\\nH: u, J: q, J: h, X: q, H: d. Is there an intersection between H and J? -> No\\nC: m, C: n, M: n, F: q, C: q. Is there an intersection between C and M? -> Yes\\nX: p, X: q, S: j, X: i, G: i. Is there an intersection between S and X? -> No\\nF: v, S: e, F: e, F: i, E: e. Is there an intersection between S and E? -> Yes\\nJ: f, J: p, E: m, J: o, S: o. Is there an intersection between E and J? -> No\\nS: g, S: e, R: k, M: k, M: m. Is there an intersection between M and R? -> Yes\\nA: o, W: e, B: o, A: v, A: e. Is there an intersection between A and B? -> Yes\\nC: q, C: b, W: b, W: e, G: t. Is there an intersection between W and C? -> Yes\\nT: l, P: r, P: l, T: o, X: r. Is there an intersection between T and X? -> No\\nP: j, D: w, S: d, S: w, D: h. Is there an intersection between D and P? -> No\\n', 'Instruction: intersection. For example:\\nP: s, C: i, P: y, P: i, D: n. Is there an intersection between D and C? -> No\\nB: a, J: j, L: n, L: x, J: x. Is there an intersection between B and J? -> No\\nL: v, C: y, P: b, L: y, L: b. Is there an intersection between C and P? -> No\\nD: w, C: y, J: e, C: w, C: e. Is there an intersection between C and D? -> Yes\\nD: a, D: b, B: a, D: f, J: a. Is there an intersection between D and J? -> Yes\\nW: v, W: n, W: x, D: p, L: v. Is there an intersection between L and D? -> No\\nX: d, F: m, E: d, E: g, X: u. Is there an intersection between X and E? -> Yes\\nB: x, B: g, L: d, G: d, B: m. Is there an intersection between L and G? -> Yes\\n', 'Instruction: intersection. For example:\\nF: u, R: s, R: d, F: s, W: u. Is there an intersection between W and R? -> No\\nD: i, S: i, D: z, W: z, W: m. Is there an intersection between S and W? -> No\\nR: u, E: t, P: u, E: u, E: x. Is there an intersection between R and P? -> Yes\\nB: b, I: b, R: d, B: d, R: t. Is there an intersection between R and B? -> Yes\\n', 'Instruction: intersection. For example:\\nS: t, F: u, S: k, S: u, J: t. Is there an intersection between J and F? -> No\\nR: j, R: n, T: l, L: j, R: l. Is there an intersection between T and L? -> No\\nF: e, T: j, T: z, W: d, W: e. Is there an intersection between W and F? -> Yes\\nW: f, A: u, H: r, H: u, A: f. Is there an intersection between W and A? -> Yes\\nI: b, E: k, E: d, E: o, C: o. Is there an intersection between I and C? -> No\\nE: i, E: k, E: b, C: k, B: b. Is there an intersection between B and E? -> Yes\\nL: v, T: v, H: s, T: a, T: z. Is there an intersection between T and L? -> Yes\\nB: y, R: p, B: p, L: k, L: s. Is there an intersection between B and L? -> No\\n', 'Instruction: intersection. For example:\\nW: x, G: w, W: f, G: i, E: x. Is there an intersection between E and G? -> No\\nM: g, T: l, P: m, M: m, T: m. Is there an intersection between M and T? -> Yes\\nX: s, A: b, A: d, G: d, G: s. Is there an intersection between A and X? -> No\\nB: s, E: u, E: k, H: u, H: k. Is there an intersection between E and H? -> Yes\\nL: d, A: h, L: z, A: w, C: h. Is there an intersection between C and A? -> Yes\\nL: o, L: f, D: f, H: r, L: r. Is there an intersection between D and H? -> No\\nA: h, X: t, X: r, A: o, H: h. Is there an intersection between H and X? -> No\\nX: p, X: t, S: s, D: t, X: s. Is there an intersection between S and X? -> Yes\\n', 'Instruction: intersection. For example:\\nF: x, J: m, W: m, F: m, W: x. Is there an intersection between F and J? -> Yes\\nA: z, P: g, P: j, P: i, I: j. Is there an intersection between A and P? -> No\\nW: i, C: i, P: i, C: m, P: m. Is there an intersection between W and C? -> Yes\\nR: n, R: f, H: f, S: v, H: p. Is there an intersection between H and S? -> No\\n', 'Instruction: intersection. For example:\\nX: u, S: u, S: e, S: v, J: v. Is there an intersection between X and J? -> No\\nX: v, F: w, F: y, C: y, F: h. Is there an intersection between C and F? -> Yes\\nA: m, L: c, L: b, J: c, A: b. Is there an intersection between L and A? -> Yes\\nT: k, T: b, S: k, T: z, L: b. Is there an intersection between L and T? -> Yes\\nC: v, C: h, H: h, H: z, B: z. Is there an intersection between H and B? -> Yes\\nA: u, S: s, F: s, F: h, F: u. Is there an intersection between S and F? -> Yes\\nM: n, D: p, E: o, E: m, M: m. Is there an intersection between M and D? -> No\\nX: o, S: w, I: o, X: m, X: n. Is there an intersection between S and X? -> No\\nX: b, M: b, M: k, X: k, R: f. Is there an intersection between R and M? -> No\\nA: l, I: l, P: v, I: r, A: o. Is there an intersection between P and A? -> No\\n', 'Instruction: intersection. For example:\\nF: t, A: s, P: i, P: t, F: s. Is there an intersection between P and F? -> Yes\\nE: m, F: u, E: y, X: u, E: b. Is there an intersection between E and F? -> No\\nA: b, P: r, P: o, P: h, M: h. Is there an intersection between P and A? -> No\\nC: b, E: b, E: y, F: p, E: v. Is there an intersection between E and C? -> Yes\\n', 'Instruction: intersection. For example:\\nR: u, C: p, C: u, C: l, G: g. Is there an intersection between C and G? -> No\\nH: k, J: k, R: u, H: u, R: n. Is there an intersection between R and H? -> Yes\\nP: e, L: e, D: e, L: a, D: a. Is there an intersection between D and P? -> Yes\\nM: n, M: y, T: j, L: g, L: y. Is there an intersection between L and T? -> No\\nR: l, R: z, I: l, A: c, A: f. Is there an intersection between I and R? -> Yes\\nH: q, R: g, R: q, H: g, S: g. Is there an intersection between S and H? -> Yes\\nJ: i, D: f, J: b, L: f, D: m. Is there an intersection between D and J? -> No\\nD: y, L: t, T: j, L: y, T: k. Is there an intersection between D and T? -> No\\n', 'Instruction: intersection. For example:\\nW: n, M: m, M: j, W: w, T: j. Is there an intersection between W and M? -> No\\nM: p, C: v, M: m, D: v, D: p. Is there an intersection between C and M? -> No\\nF: s, R: s, R: z, S: t, S: z. Is there an intersection between S and R? -> Yes\\nR: q, G: d, H: d, H: z, G: k. Is there an intersection between H and R? -> No\\nE: p, B: l, B: p, E: m, A: p. Is there an intersection between E and A? -> Yes\\nC: d, J: d, C: w, J: y, E: w. Is there an intersection between E and C? -> Yes\\n', 'Instruction: intersection. For example:\\nB: e, H: t, M: e, M: h, M: d. Is there an intersection between M and B? -> Yes\\nM: n, L: n, B: d, L: k, M: u. Is there an intersection between M and L? -> Yes\\nE: g, L: z, L: g, X: b, E: i. Is there an intersection between X and L? -> No\\nI: e, D: d, D: e, A: t, A: d. Is there an intersection between D and I? -> Yes\\nM: h, I: m, S: u, I: u, I: h. Is there an intersection between M and I? -> Yes\\nB: n, T: z, X: z, T: s, X: s. Is there an intersection between X and B? -> No\\nB: x, R: d, R: o, D: y, D: o. Is there an intersection between D and B? -> No\\nH: c, T: h, H: h, H: n, G: v. Is there an intersection between G and H? -> No\\n', 'Instruction: intersection. For example:\\nJ: h, I: e, I: k, J: e, P: u. Is there an intersection between P and J? -> No\\nJ: w, L: w, P: w, J: l, J: h. Is there an intersection between J and P? -> Yes\\nA: u, S: f, A: h, G: h, S: u. Is there an intersection between G and S? -> No\\nH: h, I: n, P: u, I: u, P: n. Is there an intersection between P and I? -> Yes\\nH: h, G: x, H: t, R: h, R: d. Is there an intersection between G and R? -> No\\nX: n, M: f, G: l, M: m, X: m. Is there an intersection between X and M? -> Yes\\n', 'Instruction: intersection. For example:\\nL: h, L: k, H: r, A: r, A: k. Is there an intersection between L and A? -> Yes\\nW: t, X: o, X: t, X: h, A: o. Is there an intersection between A and W? -> No\\nW: l, M: o, R: o, R: a, R: l. Is there an intersection between M and W? -> No\\nX: r, X: t, R: r, R: t, E: e. Is there an intersection between X and E? -> No\\nX: c, X: p, A: w, H: w, X: t. Is there an intersection between X and A? -> No\\nP: u, C: z, C: u, P: q, T: u. Is there an intersection between C and T? -> Yes\\nT: w, C: m, R: w, R: m, T: q. Is there an intersection between R and T? -> Yes\\nB: m, X: m, X: c, B: a, T: m. Is there an intersection between X and T? -> Yes\\n', 'Instruction: intersection. For example:\\nL: x, L: a, A: x, T: j, T: u. Is there an intersection between A and T? -> No\\nD: m, B: q, H: s, D: s, H: q. Is there an intersection between D and H? -> Yes\\nM: k, F: k, C: b, C: k, M: b. Is there an intersection between M and F? -> Yes\\nE: a, X: x, F: x, F: a, F: v. Is there an intersection between E and X? -> No\\nG: l, S: l, T: a, G: q, S: d. Is there an intersection between S and T? -> No\\nA: n, B: y, B: a, A: a, R: a. Is there an intersection between R and A? -> Yes\\nW: m, T: m, D: s, D: c, W: s. Is there an intersection between D and W? -> Yes\\nC: z, P: u, P: z, P: r, F: r. Is there an intersection between P and C? -> Yes\\nW: b, W: t, P: h, P: t, G: l. Is there an intersection between G and P? -> No\\nI: b, D: r, I: d, R: r, D: q. Is there an intersection between D and I? -> No\\n', 'Instruction: intersection. For example:\\nE: y, C: s, R: x, R: y, E: p. Is there an intersection between R and C? -> No\\nX: v, S: v, S: p, M: a, M: z. Is there an intersection between X and M? -> No\\nP: o, X: b, X: y, B: b, P: b. Is there an intersection between X and P? -> Yes\\nH: x, H: h, P: x, D: k, P: k. Is there an intersection between H and D? -> No\\nH: y, C: a, T: d, T: y, C: y. Is there an intersection between T and C? -> Yes\\nB: x, B: c, L: x, E: x, B: h. Is there an intersection between E and L? -> Yes\\n', 'Instruction: intersection. For example:\\nA: g, G: w, J: x, G: g, A: x. Is there an intersection between G and J? -> No\\nW: d, T: c, S: d, S: c, S: q. Is there an intersection between W and S? -> Yes\\nW: f, T: l, T: v, R: q, T: q. Is there an intersection between W and T? -> No\\nE: o, H: i, M: i, H: o, M: r. Is there an intersection between M and H? -> Yes\\nT: h, T: z, L: z, F: h, F: e. Is there an intersection between F and T? -> Yes\\nA: h, G: x, X: s, G: s, G: j. Is there an intersection between G and A? -> No\\nF: y, A: g, C: g, C: q, A: q. Is there an intersection between C and F? -> No\\nA: l, W: t, E: s, E: t, A: s. Is there an intersection between E and W? -> Yes\\nL: z, W: l, L: l, W: n, B: v. Is there an intersection between B and L? -> No\\nL: m, I: p, L: j, D: s, L: s. Is there an intersection between D and L? -> Yes\\n', 'Instruction: intersection. For example:\\nD: d, L: r, L: d, X: r, X: b. Is there an intersection between L and D? -> Yes\\nF: t, L: f, P: f, P: t, L: i. Is there an intersection between F and L? -> No\\nF: m, F: s, F: d, W: q, R: d. Is there an intersection between F and W? -> No\\nW: y, M: f, M: y, P: y, W: f. Is there an intersection between P and W? -> Yes\\nA: b, P: b, J: q, J: d, P: q. Is there an intersection between J and P? -> Yes\\nP: z, P: q, L: s, L: m, S: z. Is there an intersection between S and L? -> No\\n', 'Instruction: intersection. For example:\\nT: w, H: w, T: f, H: f, D: u. Is there an intersection between D and H? -> No\\nW: u, J: o, I: u, W: h, W: q. Is there an intersection between J and W? -> No\\nD: l, D: h, B: h, J: l, B: c. Is there an intersection between D and J? -> Yes\\nM: p, I: s, P: s, P: r, M: s. Is there an intersection between M and I? -> Yes\\nC: n, E: q, R: c, E: n, C: q. Is there an intersection between R and C? -> No\\nL: j, L: c, I: j, L: x, F: x. Is there an intersection between F and L? -> Yes\\nS: g, L: t, S: t, C: u, S: u. Is there an intersection between S and C? -> Yes\\nS: p, G: p, G: d, D: u, S: u. Is there an intersection between G and D? -> No\\n', 'Instruction: intersection. For example:\\nP: j, P: s, G: m, H: s, G: s. Is there an intersection between G and P? -> Yes\\nC: n, W: p, I: s, W: n, C: a. Is there an intersection between W and I? -> No\\nH: n, X: n, E: q, H: l, E: l. Is there an intersection between H and X? -> Yes\\nX: l, L: h, L: q, X: k, T: h. Is there an intersection between T and L? -> Yes\\nL: o, H: b, D: o, D: w, H: y. Is there an intersection between H and L? -> No\\nB: w, C: v, T: v, B: v, C: a. Is there an intersection between T and C? -> Yes\\nP: o, G: f, B: f, G: b, P: b. Is there an intersection between B and P? -> No\\nP: o, I: y, S: y, S: q, I: g. Is there an intersection between I and P? -> No\\n', 'Instruction: intersection. For example:\\nG: u, G: m, E: u, C: u, E: s. Is there an intersection between G and E? -> Yes\\nC: q, H: r, A: q, A: k, A: r. Is there an intersection between H and C? -> No\\nT: b, H: l, X: b, H: q, X: q. Is there an intersection between T and H? -> No\\nD: t, G: h, D: h, C: h, G: t. Is there an intersection between C and G? -> Yes\\nT: p, T: n, J: p, J: n, G: p. Is there an intersection between G and J? -> Yes\\nD: s, G: e, D: e, M: e, G: o. Is there an intersection between G and M? -> Yes\\nL: x, L: g, D: d, F: x, F: l. Is there an intersection between D and L? -> No\\nX: y, X: c, L: c, W: i, W: g. Is there an intersection between W and L? -> No\\n']\n"
     ]
    }
   ],
   "source": [
    "n_total, n_valid = 192, 64  #全部数目，测试数目\n",
    "n_train = n_total - n_valid\n",
    "input_strs = [make_input_str(tasks[-7], nrows=10, ncols=(3,4,5)) for __ in range(n_total)]\n",
    "# input_strs = [make_input_str(tasks[4], nrows=4, ncols=5) for __ in range(n_total)]\n",
    "# for s in sample(input_strs, 3): print(s)\n",
    "print(input_strs)"
   ]
  },
  {
   "cell_type": "code",
   "execution_count": 73,
   "id": "f7d6edbc",
   "metadata": {},
   "outputs": [
    {
     "data": {
      "text/plain": [
       "672"
      ]
     },
     "execution_count": 73,
     "metadata": {},
     "output_type": "execute_result"
    },
    {
     "data": {
      "text/plain": [
       "672"
      ]
     },
     "execution_count": 73,
     "metadata": {},
     "output_type": "execute_result"
    }
   ],
   "source": [
    "sum(s.count('Yes') for s in input_strs)\n",
    "sum(s.count('No') for s in input_strs)"
   ]
  },
  {
   "cell_type": "code",
   "execution_count": 75,
   "id": "e2f80b74",
   "metadata": {},
   "outputs": [],
   "source": [
    "train_dataset = CHILDDataset(input_strs[:-n_valid], tokenizer)\n",
    "eval_dataset = CHILDDataset(input_strs[-n_valid:], tokenizer)\n"
   ]
  },
  {
   "cell_type": "code",
   "execution_count": 76,
   "id": "91d9f555",
   "metadata": {},
   "outputs": [
    {
     "name": "stdout",
     "output_type": "stream",
     "text": [
      "192\n"
     ]
    }
   ],
   "source": [
    "print(n_total)"
   ]
  },
  {
   "cell_type": "code",
   "execution_count": 77,
   "id": "3185653b",
   "metadata": {},
   "outputs": [],
   "source": [
    "if n_total == 1:\n",
    "    inputs = tokenizer.encode_plus(text, return_tensors='pt')\n",
    "    inputs = prepare_inputs(inputs, model.device)\n",
    "    outputs = model(**inputs, output_attentions=False)\n",
    "\n",
    "    # assert inputs.input_ids.size(0) == 1\n",
    "    input_ids = inputs.input_ids\n",
    "    logits = outputs.logits\n",
    "\n",
    "    bsz = input_ids.size(0); assert bsz == 1\n",
    "    labels = torch.ones_like(input_ids) * (-100)\n",
    "    for bi in range(bsz):\n",
    "        bos_indices = (input_ids[bi] == bos_id).nonzero().squeeze(1)\n",
    "        eos_indices = (input_ids[bi] == eos_id).nonzero()[-nrows:].squeeze(1)\n",
    "        for i, (example, bos_i, eos_i) in enumerate(zip(examples, bos_indices.tolist(), eos_indices.tolist())):\n",
    "            print(' ' + make_example_str(example))\n",
    "            ans_ids = input_ids[bi, bos_i + 1: eos_i]\n",
    "            if i >= 2: labels[bi, bos_i: eos_i - 1] = ans_ids\n",
    "            ans_prob_dist = logits[bi, bos_i: eos_i - 1].softmax(-1)\n",
    "            ans_probs = ans_prob_dist[torch.arange(ans_prob_dist.size(0)), ans_ids]\n",
    "            ans_tokens = tokenizer.convert_ids_to_tokens(ans_ids)\n",
    "            for ans_id, ans_token, ans_prob, dist in zip(ans_ids, ans_tokens, numpy(ans_probs, decimals=3), ans_prob_dist):\n",
    "                top1_correct = (dist.argmax() == ans_id).item()\n",
    "                print(('*' if top1_correct else ' ') + ans_token, ans_prob, \n",
    "                      show_topk(*dist.topk(5), indices_fn=tokenizer.convert_ids_to_tokens)) \n",
    "    loss = nn.CrossEntropyLoss()(logits.view(-1, logits.size(-1)), labels.view(-1))\n",
    "    loss"
   ]
  },
  {
   "cell_type": "code",
   "execution_count": 129,
   "id": "6ebf074a",
   "metadata": {},
   "outputs": [
    {
     "name": "stderr",
     "output_type": "stream",
     "text": [
      "PyTorch: setting up devices\n"
     ]
    }
   ],
   "source": [
    "training_args = TrainingArguments(output_dir=\"./models/model_name\",  #模型预测和检查点的输出目录\n",
    "    overwrite_output_dir=True, do_train=True, do_eval=True,\n",
    "    per_device_train_batch_size=16, per_device_eval_batch_size=16,  #每个GPU / TPU内核/ CPU的批处理大小\n",
    "    weight_decay=0.01, adam_beta2=0.98, adam_epsilon=1e-6,    #weight_decay要应用的权重衰减,adam_epsilon AdamW优化器的ε超参数\n",
    "    lr_scheduler_type='constant', learning_rate=5e-4, num_train_epochs=4,  #learning_rate:Adam初始学习率\n",
    "    logging_strategy ='epoch', evaluation_strategy ='epoch', save_steps=0,  #save_steps保存两个检查点之前的更新步骤数\n",
    "    no_cuda=True, report_to='none',  # to avoid report to wandb\n",
    ")"
   ]
  },
  {
   "cell_type": "code",
   "execution_count": 130,
   "id": "d89c7d7b",
   "metadata": {},
   "outputs": [],
   "source": [
    "trainer = Trainer(model, training_args, train_dataset=train_dataset, eval_dataset=eval_dataset,\n",
    "                  optimizers=(create_optimizer(model, training_args), None))"
   ]
  },
  {
   "cell_type": "code",
   "execution_count": 127,
   "id": "74343a15",
   "metadata": {},
   "outputs": [
    {
     "name": "stderr",
     "output_type": "stream",
     "text": [
      "***** Running training *****\n",
      "  Num examples = 128\n",
      "  Num Epochs = 4\n",
      "  Instantaneous batch size per device = 16\n",
      "  Total train batch size (w. parallel, distributed & accumulation) = 16\n",
      "  Gradient Accumulation steps = 1\n",
      "  Total optimization steps = 32\n"
     ]
    },
    {
     "data": {
      "text/html": [
       "\n",
       "    <div>\n",
       "      \n",
       "      <progress value='32' max='32' style='width:300px; height:20px; vertical-align: middle;'></progress>\n",
       "      [32/32 34:57, Epoch 4/4]\n",
       "    </div>\n",
       "    <table border=\"1\" class=\"dataframe\">\n",
       "  <thead>\n",
       " <tr style=\"text-align: left;\">\n",
       "      <th>Epoch</th>\n",
       "      <th>Training Loss</th>\n",
       "      <th>Validation Loss</th>\n",
       "    </tr>\n",
       "  </thead>\n",
       "  <tbody>\n",
       "    <tr>\n",
       "      <td>1</td>\n",
       "      <td>0.855200</td>\n",
       "      <td>0.879110</td>\n",
       "    </tr>\n",
       "    <tr>\n",
       "      <td>2</td>\n",
       "      <td>0.857800</td>\n",
       "      <td>0.879110</td>\n",
       "    </tr>\n",
       "    <tr>\n",
       "      <td>3</td>\n",
       "      <td>0.855500</td>\n",
       "      <td>0.879110</td>\n",
       "    </tr>\n",
       "    <tr>\n",
       "      <td>4</td>\n",
       "      <td>0.857000</td>\n",
       "      <td>0.879110</td>\n",
       "    </tr>\n",
       "  </tbody>\n",
       "</table><p>"
      ],
      "text/plain": [
       "<IPython.core.display.HTML object>"
      ]
     },
     "metadata": {},
     "output_type": "display_data"
    },
    {
     "name": "stderr",
     "output_type": "stream",
     "text": [
      "***** Running Evaluation *****\n",
      "  Num examples = 64\n",
      "  Batch size = 16\n",
      "***** Running Evaluation *****\n",
      "  Num examples = 64\n",
      "  Batch size = 16\n",
      "***** Running Evaluation *****\n",
      "  Num examples = 64\n",
      "  Batch size = 16\n",
      "***** Running Evaluation *****\n",
      "  Num examples = 64\n",
      "  Batch size = 16\n",
      "\n",
      "\n",
      "Training completed. Do not forget to share your model on huggingface.co/models =)\n",
      "\n",
      "\n"
     ]
    },
    {
     "data": {
      "text/plain": [
       "TrainOutput(global_step=32, training_loss=0.8563694357872009, metrics={'train_runtime': 2163.2805, 'train_samples_per_second': 0.237, 'train_steps_per_second': 0.015, 'total_flos': 2674345778872320.0, 'train_loss': 0.8563694357872009, 'epoch': 4.0})"
      ]
     },
     "execution_count": 127,
     "metadata": {},
     "output_type": "execute_result"
    }
   ],
   "source": [
    "trainer.train()"
   ]
  },
  {
   "cell_type": "code",
   "execution_count": 128,
   "id": "8ea5fc8d",
   "metadata": {},
   "outputs": [
    {
     "name": "stderr",
     "output_type": "stream",
     "text": [
      "***** Running Evaluation *****\n",
      "  Num examples = 64\n",
      "  Batch size = 16\n"
     ]
    },
    {
     "data": {
      "text/html": [
       "\n",
       "    <div>\n",
       "      \n",
       "      <progress value='4' max='4' style='width:300px; height:20px; vertical-align: middle;'></progress>\n",
       "      [4/4 01:16]\n",
       "    </div>\n",
       "    "
      ],
      "text/plain": [
       "<IPython.core.display.HTML object>"
      ]
     },
     "metadata": {},
     "output_type": "display_data"
    },
    {
     "data": {
      "text/plain": [
       "{'eval_loss': 0.8791098594665527,\n",
       " 'eval_runtime': 102.8425,\n",
       " 'eval_samples_per_second': 0.622,\n",
       " 'eval_steps_per_second': 0.039,\n",
       " 'epoch': 4.0}"
      ]
     },
     "execution_count": 128,
     "metadata": {},
     "output_type": "execute_result"
    }
   ],
   "source": [
    "trainer.evaluate()"
   ]
  },
  {
   "cell_type": "code",
   "execution_count": null,
   "id": "42fae969",
   "metadata": {},
   "outputs": [
    {
     "name": "stderr",
     "output_type": "stream",
     "text": [
      "***** Running training *****\n",
      "  Num examples = 128\n",
      "  Num Epochs = 4\n",
      "  Instantaneous batch size per device = 16\n",
      "  Total train batch size (w. parallel, distributed & accumulation) = 16\n",
      "  Gradient Accumulation steps = 1\n",
      "  Total optimization steps = 32\n"
     ]
    },
    {
     "data": {
      "text/html": [
       "\n",
       "    <div>\n",
       "      \n",
       "      <progress value='25' max='32' style='width:300px; height:20px; vertical-align: middle;'></progress>\n",
       "      [25/32 23:38 < 07:11, 0.02 it/s, Epoch 3/4]\n",
       "    </div>\n",
       "    <table border=\"1\" class=\"dataframe\">\n",
       "  <thead>\n",
       " <tr style=\"text-align: left;\">\n",
       "      <th>Epoch</th>\n",
       "      <th>Training Loss</th>\n",
       "      <th>Validation Loss</th>\n",
       "    </tr>\n",
       "  </thead>\n",
       "  <tbody>\n",
       "    <tr>\n",
       "      <td>1</td>\n",
       "      <td>0.813200</td>\n",
       "      <td>0.782872</td>\n",
       "    </tr>\n",
       "    <tr>\n",
       "      <td>2</td>\n",
       "      <td>0.745500</td>\n",
       "      <td>0.728745</td>\n",
       "    </tr>\n",
       "  </tbody>\n",
       "</table><p>\n",
       "    <div>\n",
       "      \n",
       "      <progress value='3' max='4' style='width:300px; height:20px; vertical-align: middle;'></progress>\n",
       "      [3/4 00:50 < 00:25, 0.04 it/s]\n",
       "    </div>\n",
       "    "
      ],
      "text/plain": [
       "<IPython.core.display.HTML object>"
      ]
     },
     "metadata": {},
     "output_type": "display_data"
    },
    {
     "name": "stderr",
     "output_type": "stream",
     "text": [
      "***** Running Evaluation *****\n",
      "  Num examples = 64\n",
      "  Batch size = 16\n",
      "***** Running Evaluation *****\n",
      "  Num examples = 64\n",
      "  Batch size = 16\n",
      "***** Running Evaluation *****\n",
      "  Num examples = 64\n",
      "  Batch size = 16\n"
     ]
    }
   ],
   "source": [
    "trainer.train()"
   ]
  },
  {
   "cell_type": "code",
   "execution_count": null,
   "id": "7b938383",
   "metadata": {},
   "outputs": [],
   "source": []
  },
  {
   "cell_type": "code",
   "execution_count": 81,
   "id": "b37a9874",
   "metadata": {},
   "outputs": [
    {
     "data": {
      "text/plain": [
       "True"
      ]
     },
     "execution_count": 81,
     "metadata": {},
     "output_type": "execute_result"
    }
   ],
   "source": [
    "trainer.place_model_on_device"
   ]
  },
  {
   "cell_type": "code",
   "execution_count": 82,
   "id": "9b4b3eca",
   "metadata": {},
   "outputs": [],
   "source": [
    "def get_prev(elem):\n",
    "    i, v = elem\n",
    "    return _l[i - 1] if i > 0 else None\n",
    "\n",
    "false = lambda *_: False\n",
    "true  = lambda *_: True"
   ]
  },
  {
   "cell_type": "code",
   "execution_count": 83,
   "id": "721cb66f",
   "metadata": {},
   "outputs": [],
   "source": [
    "Element = namedtuple('Element', 'index value')\n",
    "_l = 'A B C B'.split()\n",
    "n = len(_l)\n",
    "# l = [Element._make(e) for e in enumerate(l)]\n",
    "l = seq(_l)\n",
    "l = l.enumerate().map(Element._make)"
   ]
  },
  {
   "cell_type": "code",
   "execution_count": 85,
   "id": "9f22f664",
   "metadata": {},
   "outputs": [
    {
     "data": {
      "text/html": [
       "<table>\n",
       "<thead>\n",
       "<tr><th style=\"text-align: right;\">  index</th><th>value  </th></tr>\n",
       "</thead>\n",
       "<tbody>\n",
       "<tr><td style=\"text-align: right;\">      0</td><td>A      </td></tr>\n",
       "<tr><td style=\"text-align: right;\">      1</td><td>B      </td></tr>\n",
       "<tr><td style=\"text-align: right;\">      2</td><td>C      </td></tr>\n",
       "<tr><td style=\"text-align: right;\">      3</td><td>B      </td></tr>\n",
       "</tbody>\n",
       "</table>"
      ],
      "text/plain": [
       "[Element(index=0, value='A'), Element(index=1, value='B'), Element(index=2, value='C'), Element(index=3, value='B')]"
      ]
     },
     "execution_count": 85,
     "metadata": {},
     "output_type": "execute_result"
    },
    {
     "data": {
      "text/plain": [
       "['C']"
      ]
     },
     "execution_count": 85,
     "metadata": {},
     "output_type": "execute_result"
    },
    {
     "data": {
      "text/plain": [
       "['b']"
      ]
     },
     "execution_count": 85,
     "metadata": {},
     "output_type": "execute_result"
    },
    {
     "data": {
      "text/plain": [
       "[2]"
      ]
     },
     "execution_count": 85,
     "metadata": {},
     "output_type": "execute_result"
    },
    {
     "data": {
      "text/plain": [
       "['C', 'A', 'B', 'B']"
      ]
     },
     "execution_count": 85,
     "metadata": {},
     "output_type": "execute_result"
    },
    {
     "data": {
      "text/plain": [
       "['B', 'B', 'C', 'A']"
      ]
     },
     "execution_count": 85,
     "metadata": {},
     "output_type": "execute_result"
    },
    {
     "data": {
      "text/html": [
       "<table>\n",
       "<thead>\n",
       "<tr><th style=\"text-align: right;\">  index</th><th>value  </th></tr>\n",
       "</thead>\n",
       "<tbody>\n",
       "<tr><td style=\"text-align: right;\">      0</td><td>A      </td></tr>\n",
       "<tr><td style=\"text-align: right;\">      1</td><td>A      </td></tr>\n",
       "<tr><td style=\"text-align: right;\">      2</td><td>C      </td></tr>\n",
       "<tr><td style=\"text-align: right;\">      3</td><td>B      </td></tr>\n",
       "</tbody>\n",
       "</table>"
      ],
      "text/plain": [
       "[Element(index=0, value='A'), Element(index=1, value='A'), Element(index=2, value='C'), Element(index=3, value='B')]"
      ]
     },
     "execution_count": 85,
     "metadata": {},
     "output_type": "execute_result"
    },
    {
     "data": {
      "text/plain": [
       "False"
      ]
     },
     "execution_count": 85,
     "metadata": {},
     "output_type": "execute_result"
    },
    {
     "data": {
      "text/plain": [
       "['A', 'B', 'B', 'C', 'C']"
      ]
     },
     "execution_count": 85,
     "metadata": {},
     "output_type": "execute_result"
    },
    {
     "data": {
      "text/plain": [
       "[1, 1, 2, 1, 2, 3]"
      ]
     },
     "execution_count": 85,
     "metadata": {},
     "output_type": "execute_result"
    },
    {
     "data": {
      "text/plain": [
       "['B']"
      ]
     },
     "execution_count": 85,
     "metadata": {},
     "output_type": "execute_result"
    },
    {
     "data": {
      "text/plain": [
       "['B']"
      ]
     },
     "execution_count": 85,
     "metadata": {},
     "output_type": "execute_result"
    }
   ],
   "source": [
    "l.map(lambda x: {'B': 'D'}.get(x, x))\n",
    "\n",
    "l.filter(lambda x: get_prev(x) == 'B').select(_.value)\n",
    "\n",
    "find_fn = _.index == 1\n",
    "l.filter(find_fn).select(_.value).map(lower)\n",
    "\n",
    "find_fn = _.value == 'C'\n",
    "l.filter(find_fn).select(_.index)\n",
    "\n",
    "# move x to first\n",
    "update_filter = _.value == 'C'\n",
    "get_new = lambda x: -1\n",
    "l.map(lambda x: Element(update_fn(x, 'index'), x.value)).order_by(_.index).select(_.value)\n",
    "\n",
    "# swap first and last\n",
    "update_filter = true\n",
    "get_new = lambda x: {0: n - 1, n - 1: 0}.get(x.index, x.index)\n",
    "l.map(lambda x: Element(update_fn(x, 'index'), x.value)).order_by(_.index).select(_.value)\n",
    "\n",
    "# get inbetween == drop_while + take_while?\n",
    "\n",
    "# update by index to its prev\n",
    "update_filter = _.index == 1\n",
    "get_new = lambda x: get_prev(x)\n",
    "def update_fn(x, update_field): return get_new(x) if update_filter(x) else getattr(x, update_field)\n",
    "l.map(lambda x: Element(x.index, update_fn(x, 'value')))\n",
    "\n",
    "# if two adjacent elements by indices are equal\n",
    "l.filter(lambda x: x.index in [0, 1]).select(_.value).distinct().len() == 1\n",
    "\n",
    "seq('A B C B C'.split()).group_by(_).select(_[1]).flatten()\n",
    "\n",
    "# count occurance till current\n",
    "seq('A B A C B A'.split()).inits().reverse().tail().map(lambda x: x.filter(_ == x.last()).len())\n",
    "\n",
    "# find special\n",
    "seq('A B A A'.split()).count_by_value().filter(_[1] == 1).select(_[0])\n",
    "\n",
    "# generalized find special\n",
    "seq('A A B C C D D'.split()).group_by(_).map(lambda x: (x[0], len(x[1]))).filter(_[1] == 1).select(_[0])"
   ]
  },
  {
   "cell_type": "code",
   "execution_count": null,
   "id": "49b3e124",
   "metadata": {},
   "outputs": [],
   "source": []
  }
 ],
 "metadata": {
  "kernelspec": {
   "display_name": "Python 3",
   "language": "python",
   "name": "python3"
  },
  "language_info": {
   "codemirror_mode": {
    "name": "ipython",
    "version": 3
   },
   "file_extension": ".py",
   "mimetype": "text/x-python",
   "name": "python",
   "nbconvert_exporter": "python",
   "pygments_lexer": "ipython3",
   "version": "3.8.12"
  }
 },
 "nbformat": 4,
 "nbformat_minor": 5
}
