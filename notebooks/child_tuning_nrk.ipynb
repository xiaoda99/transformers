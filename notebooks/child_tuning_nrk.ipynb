{
 "cells": [
  {
   "cell_type": "code",
   "execution_count": 4,
   "id": "f6ea7a72",
   "metadata": {
    "collapsed": true
   },
   "outputs": [
    {
     "name": "stdout",
     "output_type": "stream",
     "text": [
      "\u001b[33mWARNING: Ignoring invalid distribution -yfunctional (/home/kf/miniconda3/envs/pytorch1.7.1/lib/python3.8/site-packages)\u001b[0m\u001b[33m\n",
      "\u001b[0m\u001b[33mWARNING: Ignoring invalid distribution -yfunctional (/home/kf/miniconda3/envs/pytorch1.7.1/lib/python3.8/site-packages)\u001b[0m\u001b[33m\n",
      "\u001b[0mRequirement already satisfied: transformers in /home/kf/miniconda3/envs/pytorch1.7.1/lib/python3.8/site-packages (4.17.0)\n",
      "Requirement already satisfied: sacremoses in /home/kf/miniconda3/envs/pytorch1.7.1/lib/python3.8/site-packages (from transformers) (0.0.45)\n",
      "Requirement already satisfied: filelock in /home/kf/miniconda3/envs/pytorch1.7.1/lib/python3.8/site-packages (from transformers) (3.0.12)\n",
      "Requirement already satisfied: regex!=2019.12.17 in /home/kf/miniconda3/envs/pytorch1.7.1/lib/python3.8/site-packages (from transformers) (2021.10.8)\n",
      "Requirement already satisfied: huggingface-hub<1.0,>=0.1.0 in /home/kf/miniconda3/envs/pytorch1.7.1/lib/python3.8/site-packages (from transformers) (0.4.0)\n",
      "Requirement already satisfied: tqdm>=4.27 in /home/xd/.local/lib/python3.8/site-packages (from transformers) (4.60.0)\n",
      "Requirement already satisfied: tokenizers!=0.11.3,>=0.11.1 in /home/kf/miniconda3/envs/pytorch1.7.1/lib/python3.8/site-packages (from transformers) (0.11.6)\n",
      "Requirement already satisfied: packaging>=20.0 in /home/xd/.local/lib/python3.8/site-packages (from transformers) (20.9)\n",
      "Requirement already satisfied: pyyaml>=5.1 in /home/kf/miniconda3/envs/pytorch1.7.1/lib/python3.8/site-packages/PyYAML-6.0-py3.8-linux-x86_64.egg (from transformers) (6.0)\n",
      "Requirement already satisfied: numpy>=1.17 in /home/kf/miniconda3/envs/pytorch1.7.1/lib/python3.8/site-packages (from transformers) (1.21.2)\n",
      "Requirement already satisfied: requests in /home/kf/miniconda3/envs/pytorch1.7.1/lib/python3.8/site-packages (from transformers) (2.25.1)\n",
      "Requirement already satisfied: typing-extensions>=3.7.4.3 in /home/kf/miniconda3/envs/pytorch1.7.1/lib/python3.8/site-packages (from huggingface-hub<1.0,>=0.1.0->transformers) (4.1.1)\n",
      "Requirement already satisfied: pyparsing>=2.0.2 in /home/xd/.local/lib/python3.8/site-packages (from packaging>=20.0->transformers) (2.4.7)\n",
      "Requirement already satisfied: urllib3<1.27,>=1.21.1 in /home/kf/miniconda3/envs/pytorch1.7.1/lib/python3.8/site-packages (from requests->transformers) (1.26.4)\n",
      "Requirement already satisfied: chardet<5,>=3.0.2 in /home/kf/miniconda3/envs/pytorch1.7.1/lib/python3.8/site-packages (from requests->transformers) (4.0.0)\n",
      "Requirement already satisfied: idna<3,>=2.5 in /home/kf/miniconda3/envs/pytorch1.7.1/lib/python3.8/site-packages (from requests->transformers) (2.10)\n",
      "Requirement already satisfied: certifi>=2017.4.17 in /home/kf/miniconda3/envs/pytorch1.7.1/lib/python3.8/site-packages (from requests->transformers) (2021.10.8)\n",
      "Requirement already satisfied: six in /home/kf/miniconda3/envs/pytorch1.7.1/lib/python3.8/site-packages (from sacremoses->transformers) (1.16.0)\n",
      "Requirement already satisfied: joblib in /home/kf/miniconda3/envs/pytorch1.7.1/lib/python3.8/site-packages (from sacremoses->transformers) (1.0.1)\n",
      "Requirement already satisfied: click in /home/kf/miniconda3/envs/pytorch1.7.1/lib/python3.8/site-packages (from sacremoses->transformers) (7.1.2)\n",
      "\u001b[33mWARNING: Ignoring invalid distribution -yfunctional (/home/kf/miniconda3/envs/pytorch1.7.1/lib/python3.8/site-packages)\u001b[0m\u001b[33m\n",
      "\u001b[0m\u001b[33mWARNING: Ignoring invalid distribution -yfunctional (/home/kf/miniconda3/envs/pytorch1.7.1/lib/python3.8/site-packages)\u001b[0m\u001b[33m\n",
      "\u001b[0m\u001b[33mWARNING: Ignoring invalid distribution -yfunctional (/home/kf/miniconda3/envs/pytorch1.7.1/lib/python3.8/site-packages)\u001b[0m\u001b[33m\n",
      "\u001b[0mNote: you may need to restart the kernel to use updated packages.\n"
     ]
    }
   ],
   "source": [
    "pip install --upgrade transformers"
   ]
  },
  {
   "cell_type": "code",
   "execution_count": 335,
   "id": "0faf2697",
   "metadata": {},
   "outputs": [
    {
     "data": {
      "text/plain": [
       "'3.8.12 | packaged by conda-forge | (default, Jan 30 2022, 23:53:36) \\n[GCC 9.4.0]'"
      ]
     },
     "execution_count": 335,
     "metadata": {},
     "output_type": "execute_result"
    }
   ],
   "source": [
    "sys.version"
   ]
  },
  {
   "cell_type": "code",
   "execution_count": 8,
   "id": "0e11bc1d",
   "metadata": {
    "collapsed": true
   },
   "outputs": [
    {
     "name": "stdout",
     "output_type": "stream",
     "text": [
      "\u001b[33mWARNING: Ignoring invalid distribution -yfunctional (/home/kf/miniconda3/envs/pytorch1.7.1/lib/python3.8/site-packages)\u001b[0m\u001b[33m\n",
      "\u001b[0m\u001b[33mWARNING: Ignoring invalid distribution -yfunctional (/home/kf/miniconda3/envs/pytorch1.7.1/lib/python3.8/site-packages)\u001b[0m\u001b[33m\n",
      "\u001b[0mCollecting pyfunctional\n",
      "  Using cached PyFunctional-1.4.3-py3-none-any.whl (49 kB)\n",
      "Requirement already satisfied: dill>=0.2.5 in /home/kf/miniconda3/envs/pytorch1.7.1/lib/python3.8/site-packages (from pyfunctional) (0.3.4)\n",
      "Requirement already satisfied: tabulate<=1.0.0 in /home/kf/miniconda3/envs/pytorch1.7.1/lib/python3.8/site-packages (from pyfunctional) (0.8.9)\n",
      "\u001b[33mWARNING: Ignoring invalid distribution -yfunctional (/home/kf/miniconda3/envs/pytorch1.7.1/lib/python3.8/site-packages)\u001b[0m\u001b[33m\n",
      "\u001b[0mInstalling collected packages: pyfunctional\n",
      "\u001b[33mWARNING: Ignoring invalid distribution -yfunctional (/home/kf/miniconda3/envs/pytorch1.7.1/lib/python3.8/site-packages)\u001b[0m\u001b[33m\n",
      "\u001b[0mSuccessfully installed pyfunctional-1.4.3\n",
      "\u001b[33mWARNING: Ignoring invalid distribution -yfunctional (/home/kf/miniconda3/envs/pytorch1.7.1/lib/python3.8/site-packages)\u001b[0m\u001b[33m\n",
      "\u001b[0m\u001b[33mWARNING: Ignoring invalid distribution -yfunctional (/home/kf/miniconda3/envs/pytorch1.7.1/lib/python3.8/site-packages)\u001b[0m\u001b[33m\n",
      "\u001b[0mNote: you may need to restart the kernel to use updated packages.\n"
     ]
    }
   ],
   "source": [
    "pip install --upgrade pyfunctional"
   ]
  },
  {
   "cell_type": "code",
   "execution_count": 308,
   "id": "367b7b1e",
   "metadata": {},
   "outputs": [],
   "source": [
    "%%capture\n",
    "%run \"context_learning_nrk.ipynb\""
   ]
  },
  {
   "cell_type": "code",
   "execution_count": 309,
   "id": "9398a888",
   "metadata": {},
   "outputs": [
    {
     "name": "stdout",
     "output_type": "stream",
     "text": [
      "Instruction: Is this sentence correct. For example:\n",
      "A should be easier to melt than B because B is hotter. Is that right? -> No\n",
      "\n"
     ]
    }
   ],
   "source": [
    "text1 = text\n",
    "print(text1[0])"
   ]
  },
  {
   "cell_type": "code",
   "execution_count": 1,
   "id": "7292808a",
   "metadata": {},
   "outputs": [],
   "source": [
    "from IPython import get_ipython\n",
    "%load_ext autoreload\n",
    "%autoreload 2\n",
    "\n",
    "from IPython.core.interactiveshell import InteractiveShell\n",
    "InteractiveShell.ast_node_interactivity = 'all'"
   ]
  },
  {
   "cell_type": "code",
   "execution_count": 13,
   "id": "54a886cb",
   "metadata": {},
   "outputs": [],
   "source": [
    "import sys\n",
    "import os\n",
    "\n",
    "os.environ['HF_HOME'] = '/raid/xd/.cache/torch'\n",
    "os.environ[\"CUDA_DEVICE_ORDER\"]=\"PCI_BUS_ID\"\n",
    "os.environ[\"CUDA_VISIBLE_DEVICES\"]=\"7\"\n",
    "import random\n",
    "from sklearn.metrics import accuracy_score, precision_recall_fscore_support\n",
    "from types import MethodType\n",
    "from tqdm import tqdm\n",
    "from collections import defaultdict, OrderedDict, Counter\n",
    "from datetime import datetime\n",
    "from io import StringIO\n",
    "from itertools import chain\n",
    "import math\n",
    "from functools import reduce\n",
    "import numpy as np \n",
    "# np.set_printoptions(threshold=np.inf)\n",
    "%matplotlib inline\n",
    "import matplotlib.pyplot as plt\n",
    "import seaborn as sns\n",
    "\n",
    "import torch\n",
    "import torch.nn as nn\n",
    "import torch.nn.functional as F \n",
    "from torch.utils.data.sampler import RandomSampler, Sampler, SequentialSampler\n",
    "from torch.utils.data.dataloader import DataLoader\n",
    "\n",
    "from transformers.data.data_collator import DataCollator, default_data_collator\n",
    "from transformers import AutoConfig, pipeline\n",
    "from transformers import RobertaForMaskedLM, RobertaTokenizer, GPT2LMHeadModel, GPT2Tokenizer, GPTNeoForCausalLM, AutoModelForCausalLM\n",
    "from transformers import T5Tokenizer, T5ForConditionalGeneration\n",
    "from transformers import HfArgumentParser, Trainer, TrainingArguments, set_seed, AdamW\n",
    "# from torch.optim.lr_scheduler import CosineAnnealingLR\n",
    "# from transformers.trainer_utils import EvaluationStrategy\n"
   ]
  },
  {
   "cell_type": "code",
   "execution_count": 6,
   "id": "7f54c226",
   "metadata": {},
   "outputs": [],
   "source": [
    "from transformers import GPT2LMHeadModel, GPT2Tokenizer, GPTNeoForCausalLM, GPTJForCausalLM"
   ]
  },
  {
   "cell_type": "code",
   "execution_count": 7,
   "id": "dd287822",
   "metadata": {},
   "outputs": [],
   "source": [
    "sys.path.insert(0, '/nas/xd/projects/PyFunctional')\n",
    "from functional import seq\n",
    "from functional.pipeline import Sequence\n",
    "from fn import _\n",
    "from collections import namedtuple \n",
    "import sys\n",
    "# sys.path.insert(0, '/nas/xd/projects/transformers/src/transformers')\n",
    "import os\n",
    "# device_mappings = {0: 1, 1: 5, 2: 6, 3: 7, 4: 2, 5: 3, 6: 0, 1: 4}\n",
    "# os.environ[\"CUDA_VISIBLE_DEVICES\"] = str(device_mappings[2])\n",
    "\n",
    "import random\n",
    "import string\n",
    "from collections import defaultdict, OrderedDict\n",
    "from itertools import product, chain\n",
    "import math\n",
    "import numpy as np\n",
    "from pattern.en import comparative\n",
    "import types"
   ]
  },
  {
   "cell_type": "code",
   "execution_count": 348,
   "id": "a2a577ee",
   "metadata": {},
   "outputs": [],
   "source": [
    "sys.path.insert(0, '/nas/xd/projects/PyFunctional')\n",
    "from functional import seq\n",
    "from functional.pipeline import Sequence\n",
    "from fn import _\n",
    "from collections import namedtuple \n",
    "import sys\n",
    "# sys.path.insert(0, '/nas/xd/projects/transformers/src/transformers')\n",
    "import os"
   ]
  },
  {
   "cell_type": "code",
   "execution_count": 347,
   "id": "7d5907ae",
   "metadata": {},
   "outputs": [],
   "source": [
    "import torch\n",
    "from torch import nn\n",
    "import torch.nn.functional as F\n",
    "from torch.nn import CrossEntropyLoss, MSELoss\n",
    "import openai\n",
    "openai.api_key = open('/nas/xd/projects/openai_api_keys.txt').readlines()[-1].split()[0]"
   ]
  },
  {
   "cell_type": "code",
   "execution_count": 338,
   "id": "86a17aee",
   "metadata": {},
   "outputs": [
    {
     "name": "stdout",
     "output_type": "stream",
     "text": [
      "Instruction: Do all students choose courses in a department. For example:\n",
      "D: Chinese, U: Art, A: Art, U: Chinese, D: Art; Art: Chi, Chinese: Eng, Physics: Eng. A and U,Chi? -> Yes\n",
      "\n",
      "Instruction: Do all students choose courses in a department. For example:\n",
      "C: Sql, H: Physics, H: Sql, H: Chemistry, K: Sql; Sql: Chi, Physics: Chi, Chemistry: Eng. H and C,Eng? -> No\n",
      "\n"
     ]
    }
   ],
   "source": [
    "n_total, n_valid =2,1\n",
    "n_train = n_total - n_valid\n",
    "# input_strs = [make_input_str(tasks[-7], nrows=1, ncols=(3,4,5)) for __ in range(n_total)]# Is the intersection of two sets empty.\n",
    "# input_strs = [make_input_str(tasks[-3], nrows=1, ncols=(4,4,3)) for __ in range(n_total)]# Are there any elements different from other elements\n",
    "# input_strs = [make_input_str(tasks[-4], nrows=1, ncols=(3,4,2,4)) for __ in range(n_total)]# Are_there_elements_belonging_to_the_same_class\n",
    "# input_strs = [make_input_str(tasks[-1], nrows=1, ncols=(5,2)) for __ in range(n_total)]#Is_the_number_of_first_elements_greater_than_the_second_one\n",
    "# input_strs = [make_input_str(tasks[-2], nrows=1, ncols=(3,1), ans_vocab=[0,1,2,3]) for __ in range(n_total)] #How_many_elements_are_similar_to_the_example\n",
    "# input_strs = [make_input_str(tasks[-5], nrows=1, ncols=(3,4,2,4)) for __ in range(n_total)] #Are_they_the_union_of_the_last_element\n",
    "# input_strs = [make_input_str(tasks[-6], nrows=1, ncols=(3,11,5)) for __ in range(n_total)]#Is the first set a subset of the second one\n",
    "input_strs = [make_input_str(tasks[-10], nrows=1, ncols=(3, 3, 2, 5)) for __ in range(n_total)]\n",
    "# input_strs = [make_input_str(tasks[-9], nrows=1, ncols=(4,2)) for __ in range(n_total)] #Compare the values of two sets.\n",
    "# input_strs = [make_input_str(tasks[-8], nrows=1, ncols=(4, 4, 4)) for __ in range(n_total)] #Relationship between two sets.\n",
    "\n",
    "for s in sample(input_strs, 2): print(s)"
   ]
  },
  {
   "cell_type": "code",
   "execution_count": 339,
   "id": "21465a1e",
   "metadata": {},
   "outputs": [],
   "source": [
    "def get_model_fn(engine):  # XD\n",
    "    def fn(text):\n",
    "        return openai.Completion.create(engine=engine, prompt=text, max_tokens=1, echo=True, logprobs=5).choices[0]\n",
    "    return fn\n",
    "\n",
    "engines = ['davinci', 'curie']\n",
    "for engine in engines:\n",
    "    model_name = 'openai_api_' + engine\n",
    "#     model = lambda x: openai.Completion.create(engine=engine, prompt=x, max_tokens=0, echo=True, logprobs=5).choices[0]\n",
    "    model = get_model_fn(engine)\n",
    "    models[model_name] = model, tokenizer\n",
    "    \n",
    "# model_name = 'openai_api_davinci'\n",
    "model_name = 'openai_api_curie'\n",
    "model, tokenizer = models[model_name]"
   ]
  },
  {
   "cell_type": "code",
   "execution_count": 340,
   "id": "bf3af01a",
   "metadata": {},
   "outputs": [
    {
     "data": {
      "text/plain": [
       "dict_keys(['EleutherAI/gpt-neo-1.3B', 'EleutherAI/gpt-j-6B', 'openai_api_davinci', 'openai_api_curie'])"
      ]
     },
     "execution_count": 340,
     "metadata": {},
     "output_type": "execute_result"
    }
   ],
   "source": [
    "models.keys()"
   ]
  },
  {
   "cell_type": "code",
   "execution_count": 341,
   "id": "693f563f",
   "metadata": {},
   "outputs": [],
   "source": [
    "def get_prob_dist(d, topk=5): return {k: round(math.exp(v), 3) for k, v in sorted(d.items(), key=lambda x: x[1], reverse=True)[:topk]}"
   ]
  },
  {
   "cell_type": "code",
   "execution_count": 342,
   "id": "77d1817b",
   "metadata": {},
   "outputs": [],
   "source": [
    "def get_ans_indices0(input_ids):\n",
    "    bos_id = tokenizer._convert_token_to_id('Ġ->')\n",
    "    eos_id = tokenizer._convert_token_to_id('Ċ')\n",
    "    bos_indices = (input_ids == bos_id).nonzero().squeeze(1).tolist()\n",
    "    eos_indices = (input_ids == eos_id).nonzero()[-len(bos_indices):].squeeze(1).tolist()\n",
    "    return bos_indices, eos_indices\n",
    "\n",
    "# def get_ans_indices1(input_ids):\n",
    "#     bos_id = tokenizer._convert_token_to_id('?')\n",
    "# #     print(\"bos_id\",bos_id)\n",
    "#     eos_id = tokenizer._convert_token_to_id('Ċ')\n",
    "#     period_ids = [tokenizer._convert_token_to_id('.'), tokenizer._convert_token_to_id('Ġ.')]\n",
    "# #     print(\"period_ids:\",period_ids)\n",
    "# #     l_bracket_id, r_bracket_id = tokenizer._convert_token_to_id('Ġ['), tokenizer._convert_token_to_id('Ġ]')\n",
    "# #     print(\"l_bracket_id\",l_bracket_id)\n",
    "# #     print(\"r_bracket_id:\",r_bracket_id)\n",
    "#     eos_indices = (input_ids == eos_id).nonzero().squeeze(1).tolist() #.nonezero()取非零元素坐标\n",
    "# #     print(\"eos_indices0:\",eos_indices)\n",
    "#     eos_indices = [i - 1 if input_ids[i - 1] in period_ids else i for i in eos_indices]\n",
    "# #     print(\"eos_indices1:\",eos_indices)\n",
    "# #     eos_indices = [i - 1 if input_ids[i - 1] == r_bracket_id else i for i in eos_indices]\n",
    "# #     print(\"eos_indices2:\",eos_indices)\n",
    "    \n",
    "#     def find_bos_index(start_i):\n",
    "#         for bos_i in range(start_i, start_i - 3, -1):\n",
    "# #             if input_ids[bos_i] == bos_id or input_ids[bos_i] == l_bracket_id and input_ids[bos_i - 1] == bos_id:\n",
    "#             if input_ids[bos_i] == bos_id:\n",
    "#                 if bos_i != start_i: print('subtokens:', tokenizer.convert_ids_to_tokens(input_ids[bos_i + 1: start_i + 2]))\n",
    "#                 return bos_i\n",
    "#         assert False\n",
    "#     bos_indices = [find_bos_index(i - 2) for i in eos_indices]\n",
    "# #     print(\"bos:\",bos_indices)\n",
    "# #     print(\"eos:\",eos_indices)\n",
    "#     return bos_indices, eos_indices"
   ]
  },
  {
   "cell_type": "code",
   "execution_count": 353,
   "id": "bb474e98",
   "metadata": {},
   "outputs": [],
   "source": [
    "correct_num = 0\n",
    "def predict(model, text, ans_indices_fn, topk=5, return_reduced_loss=False, verbose=True):\n",
    "    use_openai_api = type(model) in [types.MethodType, types.FunctionType]  # openai.Completion.create\n",
    "    print(\"[]\",[types.MethodType, types.FunctionType])\n",
    "    print(\"type(model):\",type(model))\n",
    "    inputs = tokenizer.encode_plus(text, return_tensors='pt')\n",
    "    print(inputs)\n",
    "    input_ids = inputs.input_ids\n",
    "#     print(input_ids)\n",
    "    bsz = input_ids.size(0)\n",
    "#     print(\"bsz = \",bsz)\n",
    "    labels = torch.ones_like(input_ids) * (-100)\n",
    "    if use_openai_api:\n",
    "        assert bsz == 1\n",
    "#         outputs = model(engine=engine, prompt=text, max_tokens=0, echo=True, logprobs=5).choices[0].logprobs\n",
    "        outputs = model(text).logprobs  # XD\n",
    "        ans_nlls = []\n",
    "    else:\n",
    "        inputs = prepare_inputs(inputs, model.device)\n",
    "        outputs = model(**inputs, output_attentions=False)\n",
    "        logits = outputs.logits\n",
    "    for bi in range(bsz):\n",
    "\n",
    "        bos_indices, eos_indices = ans_indices_fn(input_ids[bi])\n",
    "#         print(\"input_ids :\",input_ids[bi])\n",
    "#         print(\"ans_indices_fn:\",ans_indices_fn(input_ids[bi]))\n",
    "#         print(\"bos_indices:\",bos_indices)\n",
    "#         print(\"eos_indices:\",eos_indices)\n",
    "        examples = text.strip().split('\\n')\n",
    "#         print(\"bos_indices:\",bos_indices)\n",
    "        print(\"examples:\",examples)\n",
    "        assert len(bos_indices) == len(examples)-1, '%d != %d' % (len(bos_indices), len(examples))\n",
    "        num = 0\n",
    "        for i, (example, bos_i, eos_i) in enumerate(zip(examples, bos_indices, eos_indices)):\n",
    "#             if verbose: print(' ' + example, end='\\t')\n",
    "            ans_ids = input_ids[bi, bos_i + 1: eos_i]\n",
    "            print(\"ans_ids:\",ans_ids)\n",
    "            labels[bi, bos_i: eos_i - 1] = ans_ids\n",
    "            if use_openai_api:\n",
    "                ans_prob_dist = [get_prob_dist(d, topk=topk) for d in outputs.top_logprobs[bos_i + 1: eos_i]]\n",
    "                ans_probs = [math.exp(lp) for lp in outputs.token_logprobs[bos_i + 1: eos_i]]\n",
    "                ans_nlls += [-lp for lp in outputs.token_logprobs[bos_i + 1: eos_i]]\n",
    "            else:\n",
    "                ans_prob_dist = logits[bi, bos_i: eos_i - 1].softmax(-1)\n",
    "                ans_probs = ans_prob_dist[torch.arange(ans_prob_dist.size(0)), ans_ids]\n",
    "            ans_tokens = tokenizer.convert_ids_to_tokens(ans_ids)\n",
    "            num += 1\n",
    "            for ans_id, ans_token, ans_prob, dist in zip(ans_ids, ans_tokens, numpy(ans_probs, decimals=3), ans_prob_dist):\n",
    "                top1_correct = max(dist.items(), key=lambda x: x[1])[0] == ans_token.replace('Ġ', ' ') \\\n",
    "                    if use_openai_api else (dist.argmax() == ans_id).item()  \n",
    "                \n",
    "                if verbose:\n",
    "                    if(num == 1 and top1_correct):\n",
    "                        global correct_num\n",
    "                        correct_num += 1\n",
    "                    if(len(ans_tokens) <= 1):\n",
    "#                         if(top1_correct):\n",
    "#                             dictlocation1[example] = 1\n",
    "                        print(('！！！' if top1_correct else ' ') + ans_token, ans_prob, \n",
    "                              dist if use_openai_api else show_topk(*dist.topk(topk), indices_fn=tokenizer.convert_ids_to_tokens)) \n",
    "                        \n",
    "                    else:\n",
    "                        pass\n",
    "    if use_openai_api:\n",
    "        loss = ans_nlls if return_reduced_loss else sum(ans_nlls) / len(ans_nlls)\n",
    "    else:\n",
    "        loss = nn.CrossEntropyLoss()(logits.view(-1, logits.size(-1)), labels.view(-1)) if return_reduced_loss \\\n",
    "            else nn.CrossEntropyLoss(reduction='none')(logits.view(-1, logits.size(-1)), labels.view(-1))[labels.view(-1)>=0].tolist()\n",
    "    return loss"
   ]
  },
  {
   "cell_type": "code",
   "execution_count": 354,
   "id": "f49b21a5",
   "metadata": {},
   "outputs": [
    {
     "name": "stdout",
     "output_type": "stream",
     "text": [
      "2\n",
      "Instruction: Do all students choose courses in a department. For example:\n",
      "D: Chinese, U: Art, A: Art, U: Chinese, D: Art; Art: Chi, Chinese: Eng, Physics: Eng. A and U,Chi? -> Yes\n",
      "\n"
     ]
    }
   ],
   "source": [
    "print(len(input_strs))\n",
    "print(input_strs[0])"
   ]
  },
  {
   "cell_type": "code",
   "execution_count": 355,
   "id": "490ff768",
   "metadata": {
    "scrolled": true
   },
   "outputs": [
    {
     "name": "stdout",
     "output_type": "stream",
     "text": [
      "[] [<class 'method'>, <class 'function'>]\n",
      "type(model): <class 'function'>\n",
      "{'input_ids': tensor([[ 6310,  2762,    25,  2141,   477,  2444,  3853, 10902,   287,   257,\n",
      "          5011,    13,  1114,  1672,    25,   198,    35,    25,  3999,    11,\n",
      "           471,    25,  3683,    11,   317,    25,  3683,    11,   471,    25,\n",
      "          3999,    11,   360,    25,  3683,    26,  3683,    25, 21380,    11,\n",
      "          3999,    25,  1985,    11, 23123,    25,  1985,    13,   317,   290,\n",
      "           471,    11,  1925,    72,    30,  4613,  3363,   198]]), 'attention_mask': tensor([[1, 1, 1, 1, 1, 1, 1, 1, 1, 1, 1, 1, 1, 1, 1, 1, 1, 1, 1, 1, 1, 1, 1, 1,\n",
      "         1, 1, 1, 1, 1, 1, 1, 1, 1, 1, 1, 1, 1, 1, 1, 1, 1, 1, 1, 1, 1, 1, 1, 1,\n",
      "         1, 1, 1, 1, 1, 1, 1, 1, 1, 1]])}\n",
      "examples: ['Instruction: Do all students choose courses in a department. For example:', 'D: Chinese, U: Art, A: Art, U: Chinese, D: Art; Art: Chi, Chinese: Eng, Physics: Eng. A and U,Chi? -> Yes']\n",
      "ans_ids: tensor([3363])\n",
      " ĠYes 0.008 {' A': 0.086, ' U': 0.047, ' D': 0.037, ' Art': 0.031, ' Eng': 0.025}\n"
     ]
    },
    {
     "data": {
      "text/plain": [
       "4.8359756"
      ]
     },
     "execution_count": 355,
     "metadata": {},
     "output_type": "execute_result"
    },
    {
     "name": "stdout",
     "output_type": "stream",
     "text": [
      "[] [<class 'method'>, <class 'function'>]\n",
      "type(model): <class 'function'>\n",
      "{'input_ids': tensor([[ 6310,  2762,    25,  2141,   477,  2444,  3853, 10902,   287,   257,\n",
      "          5011,    13,  1114,  1672,    25,   198,    34,    25,   311, 13976,\n",
      "            11,   367,    25, 23123,    11,   367,    25,   311, 13976,    11,\n",
      "           367,    25, 27867,    11,   509,    25,   311, 13976,    26,   311,\n",
      "         13976,    25, 21380,    11, 23123,    25, 21380,    11, 27867,    25,\n",
      "          1985,    13,   367,   290,   327,    11,  7936,    30,  4613,  1400,\n",
      "           198]]), 'attention_mask': tensor([[1, 1, 1, 1, 1, 1, 1, 1, 1, 1, 1, 1, 1, 1, 1, 1, 1, 1, 1, 1, 1, 1, 1, 1,\n",
      "         1, 1, 1, 1, 1, 1, 1, 1, 1, 1, 1, 1, 1, 1, 1, 1, 1, 1, 1, 1, 1, 1, 1, 1,\n",
      "         1, 1, 1, 1, 1, 1, 1, 1, 1, 1, 1, 1, 1]])}\n",
      "examples: ['Instruction: Do all students choose courses in a department. For example:', 'C: Sql, H: Physics, H: Sql, H: Chemistry, K: Sql; Sql: Chi, Physics: Chi, Chemistry: Eng. H and C,Eng? -> No']\n",
      "ans_ids: tensor([1400])\n",
      " ĠNo 0.018 {' H': 0.067, ' S': 0.056, ' Eng': 0.045, ' C': 0.03, ' K': 0.026}\n"
     ]
    },
    {
     "data": {
      "text/plain": [
       "3.990212"
      ]
     },
     "execution_count": 355,
     "metadata": {},
     "output_type": "execute_result"
    }
   ],
   "source": [
    "correct_num = 0\n",
    "for i in input_strs:\n",
    "# for i in text1:\n",
    "    text = i\n",
    "    predict(model, text, get_ans_indices0, verbose=True, topk=5)"
   ]
  },
  {
   "cell_type": "markdown",
   "id": "58c1fe66",
   "metadata": {},
   "source": [
    "# 从这里开始"
   ]
  },
  {
   "cell_type": "code",
   "execution_count": 8,
   "id": "58cba5e2",
   "metadata": {
    "scrolled": true
   },
   "outputs": [],
   "source": [
    "from utils import *\n",
    "from child_utils import *\n",
    "from common_utils import *\n",
    "from model_utils import *"
   ]
  },
  {
   "cell_type": "code",
   "execution_count": 10,
   "id": "90f62ac5",
   "metadata": {},
   "outputs": [],
   "source": [
    "models = {}\n",
    "cache_dir = '/nas/xd/.cache/torch/transformers/'  # for models besides t5-3b/11b\n",
    "proxies = {'http': '192.168.50.1:1081'} "
   ]
  },
  {
   "cell_type": "code",
   "execution_count": 14,
   "id": "520d34a6",
   "metadata": {
    "scrolled": true
   },
   "outputs": [],
   "source": [
    "model_name = \"EleutherAI/gpt-j-6B\"\n",
    "# model_name = \"EleutherAI/gpt-neo-1.3B\"\n",
    "# model = GPTJForCausalLM.from_pretrained(model_name, proxies=proxies, cache_dir=cache_dir)\n",
    "model = AutoModelForCausalLM.from_pretrained(model_name, proxies=proxies, cache_dir=cache_dir)\n",
    "tokenizer = GPT2Tokenizer.from_pretrained('gpt2', cache_dir=cache_dir)\n",
    "models[model_name] = model, tokenizer"
   ]
  },
  {
   "cell_type": "code",
   "execution_count": 15,
   "id": "830ce082",
   "metadata": {},
   "outputs": [],
   "source": [
    "_ = model.eval()\n",
    "unify(model)\n",
    "blocks = model.transformer.h\n",
    "attn = blocks[0].attn\n",
    "ln_f = model.transformer.ln_f\n",
    "L, H, embed_dim = len(blocks), attn.num_heads, attn.embed_dim\n",
    "\n",
    "_we = model.transformer.wte.weight.data.t()\n",
    "_wu = model.lm_head.weight.data"
   ]
  },
  {
   "cell_type": "code",
   "execution_count": 58,
   "id": "0e50583a",
   "metadata": {},
   "outputs": [
    {
     "data": {
      "text/plain": [
       "GPTJAttention(\n",
       "  (attn_dropout): Dropout(p=0.0, inplace=False)\n",
       "  (resid_dropout): Dropout(p=0.0, inplace=False)\n",
       "  (k_proj): Linear(in_features=4096, out_features=4096, bias=False)\n",
       "  (v_proj): Linear(in_features=4096, out_features=4096, bias=False)\n",
       "  (q_proj): Linear(in_features=4096, out_features=4096, bias=False)\n",
       "  (out_proj): Linear(in_features=4096, out_features=4096, bias=False)\n",
       ")"
      ]
     },
     "execution_count": 58,
     "metadata": {},
     "output_type": "execute_result"
    }
   ],
   "source": [
    "attn"
   ]
  },
  {
   "cell_type": "code",
   "execution_count": 59,
   "id": "c128d0b0",
   "metadata": {},
   "outputs": [
    {
     "data": {
      "text/plain": [
       "LayerNorm((4096,), eps=1e-05, elementwise_affine=True)"
      ]
     },
     "execution_count": 59,
     "metadata": {},
     "output_type": "execute_result"
    }
   ],
   "source": [
    "ln_f"
   ]
  },
  {
   "cell_type": "code",
   "execution_count": 61,
   "id": "cd64c2dd",
   "metadata": {},
   "outputs": [
    {
     "data": {
      "text/plain": [
       "28"
      ]
     },
     "execution_count": 61,
     "metadata": {},
     "output_type": "execute_result"
    },
    {
     "data": {
      "text/plain": [
       "16"
      ]
     },
     "execution_count": 61,
     "metadata": {},
     "output_type": "execute_result"
    }
   ],
   "source": [
    "L\n",
    "H\n"
   ]
  },
  {
   "cell_type": "code",
   "execution_count": 23,
   "id": "d82cfd61",
   "metadata": {},
   "outputs": [
    {
     "data": {
      "text/plain": [
       "torch.Size([50400, 4096])"
      ]
     },
     "execution_count": 23,
     "metadata": {},
     "output_type": "execute_result"
    }
   ],
   "source": [
    "_wu.size()"
   ]
  },
  {
   "cell_type": "code",
   "execution_count": 16,
   "id": "c18dd516",
   "metadata": {},
   "outputs": [],
   "source": [
    "def T(f): return lambda x: f(x.T).T"
   ]
  },
  {
   "cell_type": "code",
   "execution_count": 53,
   "id": "84d0ddb4",
   "metadata": {},
   "outputs": [],
   "source": [
    "layer, head = 3, 1\n",
    "wq, wk, wv, wo = get_head_weights(model, layer, head)\n",
    "mlp = lambda x: mlp_forward(blocks[0], x)\n",
    "ln = blocks[layer].ln_1\n",
    "v = _we.size(1) #// 2\n",
    "we, wu = _we[:, :v], _wu[:v]"
   ]
  },
  {
   "cell_type": "code",
   "execution_count": 71,
   "id": "b8566873",
   "metadata": {},
   "outputs": [],
   "source": [
    "qk = False\n",
    "with torch.no_grad():  # ve,ed,de,ev->vv\n",
    "    _m = ln(mlp(we.T)) @ (wq.T @ wk) @ T(ln)(T(mlp)(we)) if qk else wu @ T(ln_f)(wo @ wv @ T(ln)(T(mlp)(we)))"
   ]
  },
  {
   "cell_type": "code",
   "execution_count": 77,
   "id": "801cf7e3",
   "metadata": {},
   "outputs": [],
   "source": [
    "m = _m  # q->k, output->input\n",
    "# m = _m.T  # k->q, input->output\n",
    "values, indices = m.topk(10)"
   ]
  },
  {
   "cell_type": "code",
   "execution_count": 78,
   "id": "d258e52b",
   "metadata": {
    "scrolled": true
   },
   "outputs": [
    {
     "name": "stdout",
     "output_type": "stream",
     "text": [
      "Ġnor {'not': 34, 'Ġnot': 34, 'Not': 33, 'ĠNot': 32, 'NOT': 31, 'ĠNOT': 29, 'Neither': 29, 'ĠNeither': 28, 'Ġneither': 28, 'Ġno': 25}\n",
      "Ġanymore {'Ġnot': 29, 'not': 27, 'ĠNot': 26, 'Not': 26, 'Ġcannot': 25, 'ĠNOT': 24, 'NOT': 24, 'Ġno': 24, 'ĠCannot': 24, 'annot': 23}\n",
      "> {'Ġ\"<': 25, '<': 24, '</': 24, 'Ġ<': 24, '.</': 24, 'Ġ</': 24, ')</': 23, '.<': 22, '\"></': 22, '></': 22}\n",
      "Ġever {'Ġholiest': 24, 'Ġdarkest': 23, 'Ġdeepest': 22, 'ĠWorst': 22, 'Ġlargest': 22, 'Ġlowest': 22, 'liest': 22, 'most': 22, 'st': 22, 'Ġtallest': 21}\n",
      "nor {'Ġnot': 24, 'Not': 24, 'not': 23, 'ĠNot': 22, 'Neither': 22, 'ĠNeither': 22, 'ĠNOT': 21, 'Ġneither': 20, 'NOT': 19, 'No': 19}\n",
      "Ġthan {'more': 23, 'Ġclearer': 23, 'Ġstronger': 22, 'Ġmore': 22, 'Ġsimpler': 21, 'Ġbetter': 21, 'better': 21, 'Ġsmoother': 21, 'Ġcheaper': 20, 'Ġhealthier': 20}\n",
      "}: {'{{': 22, 'Ġ{{': 21, '({': 21, '{': 21, 'Ġ{\\\\': 21, '={': 21, 'Ġ({': 21, 'Ġ${': 20, '{\\\\': 20, '}{': 20}\n",
      ">\" {'</': 22, '.</': 22, 'Ġ\"<': 21, 'Ġ<': 21, 'Ġ</': 21, '<': 21, ')</': 20, '.<': 20, '></': 20, 'Ġ><': 20}\n",
      ">[ {'<': 22, 'Ġ<': 22, 'Ġ><': 22, 'Ġ\"<': 22, '.<': 21, 'Ġ(<': 20, '\\\\<': 20, '><': 20, '\"><': 19, '</': 19}\n",
      ">) {'></': 22, '.</': 22, 'Ġ</': 21, '</': 21, '\"></': 21, ')</': 19, 'Ġ\"<': 19, 'Ġ<': 19, 'Ġ(<': 18, '<': 18}\n",
      ">( {'Ġ\"<': 21, 'Ġ</': 21, 'Ġ<': 20, '</': 20, '\"></': 20, '<': 20, ')</': 19, 'Ġ(<': 19, '></': 19, 'Ġ><': 19}\n",
      "ĠEVER {'st': 20, 'Ġlargest': 20, 'most': 20, 'Ġbiggest': 20, 'ĠWorst': 19, 'Ġnever': 19, 'Ġworst': 19, 'Ġdeadliest': 19, 'Ġdarkest': 19, 'ĠNo': 19}\n",
      "Ġwhatsoever {'Ġno': 22, 'No': 21, 'no': 20, 'ĠNo': 20, 'ĠNO': 20, 'ĠNone': 19, 'None': 19, 'none': 18, 'NO': 18, 'Ġnone': 17}\n",
      ">: {'Ġ(<': 20, '<': 20, 'Ġ\"<': 20, '.</': 20, '</': 19, 'Ġ<': 19, '.<': 19, '></': 19, ')</': 19, '><': 18}\n",
      "}{ {'{{': 20, '(){': 20, 'Ġ{{': 19, '({': 19, 'Ġ\"{': 19, 'Ġ{:': 19, '={': 19, '{': 19, 'Ġ({': 19, '){': 19}\n",
      "} {'{{': 21, 'Ġ{{': 20, '({': 19, '={': 19, 'Ġ({': 19, 'Ġ{:': 19, ':{': 19, '${': 19, 'Ġ{\\\\': 18, '{': 18}\n",
      ">, {'</': 20, '.</': 20, 'Ġ\"<': 19, ')</': 19, 'Ġ</': 19, 'Ġ<': 19, '<': 18, '\"></': 18, '></': 18, 'Ġ(<': 18}\n",
      "}; {'{{': 20, 'Ġ{': 19, '{': 19, '({': 19, 'Ġ{{': 19, 'Ġ${': 19, '}{': 19, '){': 18, 'Ġ{\\\\': 18, '{\\\\': 18}\n",
      ">] {'Ġ<': 20, 'Ġ\"<': 19, '<': 19, 'Ġ</': 19, 'Ġ(<': 19, '><': 19, '</': 18, 'Ġ><': 18, '.<': 18, '\"><': 18}\n",
      "than {'Ġstronger': 21, 'ĠHigher': 19, 'Ġbigger': 19, 'Ġmore': 19, 'Ġshorter': 19, 'Ġhigher': 18, 'Ġquicker': 18, 'Higher': 18, 'Ġhealthier': 18, 'Ġclearer': 18}\n",
      ">< {'.</': 19, ')</': 19, '</': 18, 'Ġ<': 18, 'Ġ</': 18, '<': 18, 'Ġ\"<': 18, '></': 18, '.<': 17, 'Ġ(<': 17}\n",
      "}. {'({': 18, '{{': 18, ':{': 18, 'Ġ{:': 18, 'Ġ${': 18, 'Ġ{{': 18, '={': 17, 'Ġ\"{': 17, '{': 17, 'Ġ{\\\\': 17}\n",
      "></ {'.</': 20, '</': 19, 'Ġ</': 19, '></': 19, ')</': 19, 'Ġ(<': 17, 'Ġ<': 17, '\"><': 16, '><': 16, '.<': 16}\n",
      "ever {'ĠWorst': 19, 'Ġtoughest': 18, 'most': 18, 'Ġdarkest': 18, 'Ġhardest': 17, 'ĠMost': 17, 'ĠFavorite': 17, 'Ġdeepest': 17, 'Ġheaviest': 17, 'Most': 17}\n",
      "Ġanywhere {'Ġneither': 18, 'Ġno': 18, 'never': 18, 'Neither': 18, 'ĠNeither': 17, 'Ġnever': 17, 'ĠNever': 17, 'ĠNO': 17, 'ĠNo': 17, 'NO': 17}\n",
      "}) {'{{': 18, '({': 18, 'Ġ({': 18, ':{': 18, 'Ġ{{': 17, '}{': 17, 'Ġ{\\\\': 17, '{\\\\': 17, '{': 17, 'Ġ${': 17}\n",
      "}\" {'{{': 19, 'Ġ\"{': 18, 'Ġ{{': 18, '={': 17, '){': 17, '({': 17, 'Ġ({': 17, '{': 17, ':{': 17, '(){': 16}\n",
      "}, {'{{': 19, 'Ġ{{': 18, '({': 17, 'Ġ({': 17, '${': 17, 'Ġ${': 17, '(){': 17, '{': 17, ':{': 16, '){': 16}\n",
      "_> {'<': 18, 'Ġ\"<': 18, 'Ġ</': 17, '</': 17, '.</': 17, 'Ġ<': 17, 'Ġ(<': 16, '.<': 16, '></': 16, '\\\\<': 16}\n",
      "Ġimaginable {'iest': 18, 'Ġhardest': 17, 'liest': 17, 'Ġsimplest': 17, 'Ġholiest': 17, 'Ġdeadliest': 17, 'Ġtoughest': 16, 'hest': 16, 'Ġfastest': 16, 'Ġeasiest': 16}\n",
      "/> {'Ġ\"<': 19, 'Ġ<': 18, 'Ġ(<': 18, '><': 17, '<': 17, 'Ġ><': 17, '.<': 16, '\"><': 16, '\\\\<': 15, 'Ġ</': 13}\n",
      "}\\ {'{{': 19, 'Ġ{{': 18, 'Ġ({': 16, '({': 16, 'Ġ{:': 16, '}{': 16, ':{': 16, 'Ġ{\\\\': 16, '{': 16, '={': 16}\n",
      "? {'Which': 18, 'which': 18, 'who': 17, 'ĠWhich': 17, 'Ġwho': 16, 'Ġwhich': 16, 'WHO': 16, 'Should': 16, 'Who': 15, 'ĠWho': 15}\n",
      ">. {'Ġ<': 17, 'Ġ\"<': 17, '<': 17, '</': 17, 'Ġ</': 16, '.</': 16, '\\\\<': 16, ')</': 16, '\"></': 15, 'Ġ(<': 15}\n",
      "Ġ} {'{{': 18, '={': 18, ':{': 16, 'Ġ{{': 16, '{': 16, '({': 16, 'Ġ({': 16, 'Ġ{:': 15, '(){': 15, '{\\\\': 15}\n",
      "Ġany {'annot': 17, 'Ġneither': 17, 'ĠCannot': 17, 'Ġcannot': 17, 'Neither': 16, 'ĠNeither': 16, 'never': 15, 'NOT': 15, 'Ġnot': 15, 'Ġnever': 15}\n",
      "ĠNor {'Neither': 17, 'ĠNeither': 17, 'Ġneither': 16, 'Not': 16, 'Ġnot': 16, 'ĠCannot': 15, 'ĠNot': 15, 'NOT': 15, 'not': 15, 'annot': 14}\n",
      "}); {'{{': 17, '({': 17, 'Ġ{{': 16, 'Ġ({': 16, 'Ġ${': 16, '){': 15, 'Ġ{': 15, '={': 15, '{': 15, 'Ġ{\\\\': 15}\n",
      "Ġfreely {'Ġpermits': 16, 'Ġallows': 16, 'Ġallowed': 16, 'Ġallowing': 16, 'Ġallow': 16, 'Allow': 15, 'ĠAllows': 15, 'Ġpermitting': 15, 'Ġpermit': 15, 'Ġpermitted': 15}\n",
      "Ġanything {'Ġneither': 18, 'ĠNeither': 17, 'Neither': 17, 'Ġcannot': 16, 'ĠCannot': 15, 'nob': 15, 'annot': 15, 'Ġnot': 14, 'Nob': 14, 'Ġdont': 14}\n",
      "Ġanyone {'annot': 18, 'Ġcannot': 18, 'ĠCannot': 17, 'ĠNeither': 15, 'Neither': 15, 'Ġneither': 15, 'Ġcant': 14, 'ĠUnable': 14, 'Ġunable': 14, 'idon': 13}\n",
      ")( {'Ġ[(': 17, '.(': 16, '-(': 16, '](': 16, 'Ġ(': 15, '\"(': 15, '=(': 15, 'Ġ``(': 14, 'Ġ\"(': 14, '+(': 14}\n",
      "Ġanybody {'Ġcannot': 18, 'ĠCannot': 18, 'annot': 18, 'Ġcant': 16, 'ĠCant': 14, 'Ġneither': 13, 'ĠNeither': 13, 'Ġnever': 13, 'never': 13, 'Ġnone': 13}\n",
      "ĠThan {'Ġstronger': 17, 'more': 16, 'Ġshorter': 15, 'Ġmore': 15, 'ĠMore': 15, 'Ġclearer': 15, 'Ġhealthier': 14, 'Ġcheaper': 14, 'Ġbetter': 14, 'better': 14}\n",
      "]: {'([': 16, \"Ġ'[\": 15, 'Ġ([': 15, 'Ġ[': 15, '\":[': 15, '],[': 15, '=[': 14, '>[': 14, ')[': 14, '][': 14}\n",
      "Ġexcept {'nothing': 16, 'Nothing': 15, 'Ġnothing': 15, 'ĠNothing': 15, 'Simply': 14, 'mere': 14, 'No': 14, 'Ġno': 14, 'Neither': 14, 'ĠSimply': 14}\n",
      "]( {'\":[': 16, '\"[': 15, '([': 15, 'Ġ([': 15, 'Ġ[': 15, \"Ġ'[\": 15, '-[': 14, '=[': 14, '.\"[': 14, '>[': 14}\n",
      ")! {'(': 16, 'Ġ(': 15, 'Ġ(-': 15, '-(': 14, 'Ġ\"(': 14, '(-': 14, '>(': 14, '_(': 14, \"Ġ'(\": 14, '/(': 14}\n",
      "] {'Ġ[': 15, \"Ġ'[\": 15, '([': 15, '\":[': 15, 'Ġ\"[': 14, '\"[': 14, 'Ġ([': 14, '=[': 14, ')[': 14, '[': 13}\n",
      "?: {'who': 16, 'which': 15, 'ĠWHO': 15, 'WHO': 15, 'Ġwho': 15, 'Who': 14, 'ĠWho': 14, 'Which': 14, 'ĠWhich': 14, 'Ġwhich': 13}\n",
      "Ġdetail {'described': 16, 'Ġdescribe': 16, 'Ġdescribed': 16, 'Ġexplained': 14, 'Ġdescribes': 14, 'Ġdescribing': 14, 'specified': 13, 'Ġgloss': 13, 'Ġquantify': 13, 'Ġaccounting': 13}\n",
      "Ġvarious {'iations': 17, 'ages': 15, 'agements': 14, 'llers': 14, 'Ġjets': 14, 'izations': 14, 'isations': 14, 'loads': 14, 'rations': 14, 'ulations': 14}\n",
      "][ {'\":[': 15, 'Ġ[': 15, \"Ġ'[\": 15, ':[': 14, '\"[': 14, '=[': 14, '>[': 14, '.\"[': 14, ')[': 14, '[': 14}\n",
      "?, {'who': 16, 'which': 15, 'Ġwho': 15, 'ĠWHO': 14, 'Should': 14, 'Which': 14, 'Who': 14, 'WHO': 14, 'ĠWho': 13, 'ĠWhich': 13}\n",
      "Ġunlimited {'Ġallows': 15, 'allowed': 15, 'ĠAllows': 14, 'Ġallowable': 14, 'allows': 14, 'Ġallowed': 14, 'Ġallow': 14, 'Allow': 14, 'Ġallowance': 13, 'Ġpermits': 13}\n",
      "Ġbulk {'activated': 16, 'rypted': 15, 'derived': 14, 'Ġcontracting': 14, 'generated': 14, 'Ġleased': 14, 'Ġdisgusted': 14, 'depending': 14, 'generation': 13, 'Ġdepending': 13}\n",
      "?] {'Ġ[': 15, '\":[': 15, '\"[': 15, \"Ġ'[\": 14, '[': 14, '=[': 14, '([': 14, '-[': 13, 'Ġ\"[': 13, 'Ġ([': 13}\n",
      ")</ {'_(': 16, 'Ġ[(': 15, '>(': 15, '\"(': 14, 'Ġ(': 14, '.(': 14, '(': 13, '((': 13, 'Ġ\"(': 13, '](': 12}\n",
      "%] {'Ġ[': 15, '=[': 15, '([': 15, \"Ġ'[\": 14, 'Ġ([': 14, ':[': 14, 'Ġ\"[': 14, '-[': 13, '[': 13, '\"[': 12}\n",
      ":] {'([': 17, 'Ġ([': 17, 'Ġ[': 14, '\":[': 13, \"Ġ'[\": 13, 'Ġ\"[': 13, '=[': 13, ')[': 13, '-[': 13, '[[': 12}\n",
      "Ġinto {'Ġsucked': 15, 'Ġinfiltrated': 14, 'Ġsucking': 14, 'Ġsmuggling': 14, 'Ġinfiltrate': 14, 'Ġmerging': 14, 'Ġinfiltration': 13, 'Ġtransformed': 13, 'Ġiniti': 13, 'Ġpouring': 13}\n",
      "Nor {'Ġnot': 16, 'Not': 15, 'ĠNot': 14, 'Ġnever': 14, 'annot': 14, 'not': 13, \"'t\": 13, 'ĠNOT': 13, 'Ġneither': 13, 'ĠNever': 13}\n",
      "ĠANY {'annot': 15, 'Ġcannot': 15, 'Ġneither': 15, 'ĠCannot': 15, 'Neither': 14, 'ĠNeither': 14, 'Ġnever': 13, 'never': 13, 'Ġnone': 12, 'Ġno': 12}\n",
      "Ġeither {'Ġunregulated': 16, 'not': 15, 'Ġnot': 15, 'ĠNot': 14, 'atars': 13, 'Not': 13, 'ĠNOT': 13, 'NOT': 13, 'nothing': 13, 'Ġunmarked': 12}\n",
      "*, {'Ġ*': 17, '***': 15, 'Ġ***': 15, '.*': 14, 'Ġ_': 13, '*': 13, 'Ġ[*': 13, '(*': 13, '****': 12, 'Ġ___': 12}\n",
      "ĠEver {'ĠWorst': 14, 'Ġlowest': 14, 'most': 14, 'Ġslightest': 14, 'never': 14, 'Ġsmallest': 13, 'Ġbiggest': 13, 'cest': 13, 'liest': 13, 'lest': 13}\n",
      "Ġcompared {'Ġweaker': 15, 'Ġlighter': 14, 'lower': 14, 'ĠWorse': 14, 'Ġsmaller': 13, 'Ġpale': 13, 'Ġslower': 13, 'Ġinferior': 13, 'ĠLower': 13, 'Ġpoorer': 13}\n",
      "*) {'Ġ*': 16, '***': 15, 'Ġ(*': 15, 'Ġ***': 15, '(*': 14, 'Ġ[*': 13, 'Ġ_': 13, '*': 11, '.*': 11, '*.': 11}\n",
      "Ġthrough {'Ġconveyed': 15, 'Ġcommute': 14, 'Ġcommuting': 14, 'Ġconvey': 14, 'Ġtransmitting': 14, 'Ġtransmitted': 14, 'Ġsmuggling': 13, 'feeding': 13, 'sponsored': 13, 'Ġcommunicating': 13}\n",
      "*: {'Ġ*': 16, 'Ġ***': 15, 'Ġ[*': 15, '***': 14, 'Ġ_': 14, 'Ġ**': 14, '(*': 12, 'Ġ(*': 12, '*': 12, '****': 12}\n",
      "]+ {\"Ġ'[\": 16, 'Ġ[': 14, 'Ġ\"[': 14, '\"[': 13, '=[': 13, '([': 13, 'Ġ([': 13, '[': 13, '\":[': 13, ')[': 13}\n",
      "*. {'Ġ*': 17, 'Ġ***': 15, '***': 14, '.*': 14, '*': 13, 'Ġ_': 13, '(*': 12, 'Ġ___': 12, 'Ġ(*': 12, 'Ġ[*': 12}\n",
      ")' {'/(': 14, '-(': 14, '=(': 14, 'Ġ[(': 14, '>(': 13, '+(': 13, 'Ġ(-': 13, 'Ġ$(': 13, '((': 13, '(': 13}\n",
      "},\" {'{{': 15, 'Ġ{{': 14, '(){': 14, '){': 14, '{': 14, 'Ġ{': 13, 'Ġ\"{': 13, '{\\\\': 13, '({': 12, 'Ġ{\\\\': 12}\n",
      "Ġvia {'Ġdispatched': 15, 'ifled': 14, 'Ġconveyed': 13, 'introdu': 13, 'ãģĵ': 13, 'Ġcommunicating': 13, 'Ġintroducing': 13, 'Ġintroduce': 13, 'Ġintroduced': 13, 'Ġcomplying': 13}\n",
      "...] {'([': 15, 'Ġ([': 15, 'Ġ[': 14, '\":[': 14, '=[': 13, '-[': 13, ':[': 13, ').[': 12, '>[': 12, ',[': 12}\n",
      "Ġunchanged {'Ġremains': 15, 'Ġremaining': 14, 'Ġremain': 14, 'Ġpersists': 14, 'Ġremained': 13, 'ĠRemain': 13, 'Ġpersist': 13, 'Ġsurvives': 13, 'Ġretention': 13, 'Ġretaining': 12}\n",
      "tun {'ĠSingapore': 15, 'Ġbooze': 14, 'ĠChili': 13, 'beans': 13, 'Ġintox': 13, 'ĠVince': 13, 'bean': 13, 'ĠWildcats': 13, 'ĠStoke': 13, 'ĠBeer': 13}\n",
      "anything {'Ġneither': 14, 'nar': 14, 'Ġnob': 14, 'ĠNeither': 14, 'Nob': 13, 'ĠNob': 13, 'Neither': 13, 'Ġdont': 13, 'Ġno': 12, 'Ġnot': 12}\n",
      "rand {'Ġbats': 14, 'bats': 14, 'ĠBat': 14, 'Ġgrit': 13, 'Ġearthqu': 13, 'Bat': 13, 'Ġglasses': 13, 'ĠID': 13, 'ĠBurnett': 13, 'Ġcanv': 12}\n",
      "Ġtowards {'Ġglide': 14, 'Ġdrifting': 14, 'Ġdrift': 13, 'Ġdrifted': 13, 'Flow': 13, 'Ġsliding': 13, 'Ġprogressing': 13, 'Ġflowed': 13, 'flow': 12, 'Ġskim': 12}\n",
      "umi {'ĠLantern': 15, 'ĠAshes': 14, 'Star': 14, 'ĠStar': 13, 'Ġchord': 13, 'Ġdashboard': 13, 'ĠTowers': 13, 'Ġlantern': 13, 'ĠSTAR': 12, 'Ġfireball': 12}\n",
      "Ġinter {'Roaming': 14, 'ray': 14, 'olls': 14, 'Ġsoaring': 13, 'ĠFlickr': 13, 'atars': 13, 'rays': 13, 'maid': 13, 'rawling': 12, 'flying': 12}\n",
      "ĠDer {'Ġlivestock': 14, 'Ġpolicemen': 13, 'ĠAnimals': 13, 'esian': 13, 'ikers': 13, 'cester': 13, 'Ġtroops': 13, 'bike': 13, 'Ġautomobile': 13, 'Ġsocialists': 13}\n",
      "Ġni {'ĠNot': 13, 'Ġneither': 13, 'Ġnot': 13, 'NOT': 13, 'ĠNeither': 13, 'ĠNone': 13, 'Neither': 13, 'not': 13, 'Not': 13, 'nor': 12}\n",
      "gn {'ĠAth': 14, 'ĠAc': 14, 'ĠSar': 13, 'Ġelectr': 13, 'Ġ159': 13, 'ĠCor': 13, 'ĠLar': 13, 'ĠSCH': 13, 'ĠAlc': 13, 'ĠBh': 12}\n",
      "]' {\"Ġ'[\": 15, 'Ġ\"[': 14, '\"[': 14, ')[': 13, 'Ġ[': 13, '>[': 13, '\":[': 12, '[_': 12, '[': 12, '([': 12}\n",
      "gran {'ĠJab': 16, 'ĠSchultz': 14, 'Fla': 14, 'ĠJeremy': 13, 'CHAR': 13, 'Dig': 13, 'ĠSaturn': 12, 'ĠDig': 12, 'asant': 12, 'ANT': 12}\n",
      "counter {'ĠArc': 14, 'ARC': 13, 'arc': 13, 'Ġspar': 13, 'ĠCAM': 13, 'ĠCAR': 13, 'Arc': 13, 'CAR': 13, 'ĠSTAR': 13, 'Ġspaceship': 12}\n",
      "...? {'Should': 14, 'Would': 14, 'ĠShould': 14, 'Could': 13, 'Does': 13, 'Will': 13, 'would': 13, 'Whether': 13, 'ĠCould': 13, 'ĠWould': 12}\n",
      "!] {'Ġ[': 14, '\"[': 14, \"Ġ'[\": 14, '[': 13, '=[': 13, '>[': 13, 'ahn': 13, 'Ġ\"[': 12, '\":[': 12, '([': 12}\n",
      "Ġaway {'Ġdrifting': 14, 'Ġcanned': 14, 'Ġmigrating': 14, 'Ġretreat': 13, 'Ġretreating': 13, 'Ġmigrated': 13, 'Ġbanished': 12, 'Ġpostpone': 12, 'Ġmigrate': 12, 'Ġpostponed': 12}\n",
      "Ġwarrant {'Ġsufficiently': 14, 'ufficient': 14, 'Ġenough': 13, 'ĠEnough': 13, 'Enough': 13, 'sufficient': 13, 'Ġsufficient': 13, 'enough': 13, 'icient': 12, 'Ġinsufficient': 12}\n",
      "Ġ(& {'ultimate': 15, 'Ġsubstantive': 14, 'ĠLast': 13, 'Ġsupplementary': 13, 'Last': 13, 'constitutional': 13, 'last': 13, 'Ġtougher': 12, 'Ġprohibited': 12, 'Ġimpossible': 12}\n",
      "Ġlonger {'Ġstaying': 14, 'stay': 13, 'Ġstay': 13, 'ĠStay': 13, 'Ġstayed': 13, 'Stay': 13, 'Ġstays': 13, 'Ġremain': 12, 'Ġremained': 12, 'Ġremains': 12}\n",
      "Ġtoward {'Ġdrifting': 13, 'Ġdrift': 13, 'Ġglide': 13, 'Ġmigration': 13, 'Ġprogressing': 13, 'motion': 13, 'Ġadvancing': 13, 'gression': 13, 'ĠMigration': 12, 'ĠMotion': 12}\n",
      "bur {'ĠGoth': 14, 'ĠRough': 13, 'ĠHann': 13, 'Ġ73': 13, 'ĠSchultz': 13, 'ĠOtt': 13, 'ĠSunday': 13, 'ĠSaturday': 13, 'Ġ52': 13, 'Ġ68': 13}\n",
      "Ġfur {'neutral': 14, 'clad': 13, 'network': 13, 'Ġflavorful': 13, 'dry': 13, 'Ġcoated': 13, 'Ġcrawled': 13, 'Ġcarpet': 13, 'Ġmoist': 13, 'Ġcrawling': 13}\n",
      "Ġsanity {'keep': 14, 'keeping': 13, 'Keeping': 13, 'Ġkeeps': 13, 'Ġkeep': 13, 'Ġkept': 13, 'kept': 13, 'keepers': 13, 'Keep': 12, 'Ġkeeping': 12}\n",
      "Ġslightest {'Not': 14, 'Ġnot': 14, 'not': 14, 'Ġingen': 14, 'Ġno': 13, 'ĠNot': 13, \"'t\": 12, 'Ġnever': 12, 'never': 12, 'no': 11}\n",
      "fur {'Ġjuvenile': 14, 'ĠGrand': 13, 'ĠNordic': 13, 'ĠCrusader': 13, 'ĠScandinavian': 13, 'ĠDistrict': 13, 'Ġearthly': 13, 'ĠLGBTQ': 13, 'ĠLafayette': 13, 'ĠLGBT': 13}\n",
      "Ġpoints {'asus': 15, 'Ĝ': 15, 'İ': 15, 'NULL': 12, 'Ð°': 12, 'Å«': 12, 'Ð¸': 12, 'nah': 12, '519': 12, '518': 12}\n",
      "lim {'Ġ334': 14, '334': 13, 'Ġ254': 13, 'Ġ157': 13, '154': 13, 'Ġ158': 13, 'Ġ154': 13, 'Ġ162': 12, '254': 12, 'Ġ161': 12}\n",
      "far {'ĠSX': 14, 'ĠIntern': 14, 'Intern': 13, 'Ġintern': 13, 'ĠCann': 12, 'Ġbean': 12, 'ĠJoshua': 12, 'ĠBean': 12, 'Ġgor': 12, 'Ġty': 12}\n",
      "Ġpurposes {'Ġwearable': 13, 'earable': 13, 'employed': 13, 'Ġusable': 13, 'Ġreused': 13, 'Ġutilizing': 13, 'ĠUsing': 13, 'Ġemployed': 13, 'Ġreusable': 12, 'Using': 12}\n",
      "Ġor {'Ġneither': 15, 'Neither': 15, 'ĠNeither': 15, 'ither': 13, 'either': 13, 'never': 12, 'Either': 11, 'NOT': 11, 'not': 11, 'Ġeither': 11}\n",
      "?? {'who': 14, 'WHO': 13, 'ĠWHO': 13, 'Who': 13, 'Ġwho': 13, 'ĠWho': 13, 'which': 13, 'Which': 12, 'ĠWhich': 12, 'ãģª': 12}\n",
      "Ġonline {'Ġdetectable': 15, 'inguishable': 14, 'erning': 13, 'etooth': 13, '520': 12, 'offset': 12, 'ustainable': 12, 'sponsored': 12, 'Ġmonitored': 12, 'Ġexhibiting': 12}\n",
      "depth {'Dig': 15, 'ĠDig': 14, 'ĠStri': 13, 'ĠPhD': 13, 'ĠTodd': 12, 'ãĤ¸': 12, 'ĠGeek': 12, 'ĠUlt': 12, 'Ġgeek': 12, 'ĠAnn': 12}\n",
      "Ġy {'ceivable': 14, 'Ġimaginable': 13, 'Ġcommuting': 13, 'Ġcommencement': 13, 'Ġconceivable': 13, 'ensing': 12, 'irled': 12, 'Ġunimaginable': 12, 'Ġbrowsing': 12, 'foreseen': 12}\n",
      "FG {'Ġoste': 13, 'ĠeBay': 13, 'ĠRaptors': 13, 'ĠYi': 13, 'ĠOsiris': 13, 'ĠOU': 13, 'ĠSixers': 13, 'ĠAki': 12, 'ĠEid': 12, 'Ġsol': 12}\n",
      "Ġplease {'can': 14, 'Could': 14, 'could': 13, 'CAN': 13, 'Can': 13, 'ĠCould': 13, 'ĠCan': 13, 'Ġcan': 12, 'Ġcould': 11, 'May': 11}\n",
      "Ever {'Ġnever': 14, 'never': 13, 'Ġmost': 13, 'most': 13, 'Ġutmost': 13, 'ĠNever': 13, 'ĠMost': 13, 'Ġtoughest': 13, 'aple': 12, 'Ġlowest': 12}\n",
      "]\" {'\"[': 14, '\":[': 13, 'Ġ\"[': 13, 'Ġ[': 13, \"Ġ'[\": 13, '=[': 12, ')[': 12, '([': 12, '[': 12, ').[': 12}\n",
      "Ġ}; {'{{': 14, '({': 14, '={': 13, '{': 13, 'Ġ${': 13, ':{': 13, 'Ġ{': 12, '}{': 12, '){': 12, 'ms': 12}\n",
      "Ġexcess {'Ġbarren': 14, 'Ġmiserable': 13, 'Ġhorrible': 13, 'Ġrainy': 13, 'Ġsinful': 13, 'dry': 12, 'Ġsucks': 12, 'Ġferocious': 12, 'Ġdreadful': 12, 'Ġobnoxious': 12}\n",
      "Ġaccess {'Ġallows': 14, 'Ġallowing': 14, 'allowed': 14, 'Ġallowance': 13, 'Ġallow': 12, 'Ġallowed': 12, 'token': 12, 'allows': 12, 'Ġenables': 12, 'ĠAllows': 12}\n",
      ")âĢĶ {'.(': 14, 'Ġ(': 14, '(': 14, 'Ġ[(': 14, '\"(': 13, \"Ġ'(\": 12, '_(': 12, 'Ġ\"(': 12, '-(': 11, '>(': 11}\n",
      "Ġenough {'Ġcannot': 14, 'ĠCannot': 13, 'Ġhardly': 13, 'ĠNot': 13, 'Ġnot': 13, 'Not': 13, 'Ġcant': 13, 'not': 12, 'annot': 12, 'NOT': 11}\n",
      "Ġonto {'Ġflowing': 14, 'Ġprojecting': 14, 'Ġpouring': 13, 'Ġtransgress': 13, 'Ġtransmitting': 12, 'Ġthrowing': 12, 'Ġmerging': 12, 'Ġinjected': 12, 'Ġspew': 12, 'Ġinserted': 12}\n",
      "platform {'ĠSingapore': 13, 'ĠIowa': 13, 'ĠBarack': 13, 'ĠSQ': 13, 'ĠIndy': 13, 'ĠSidd': 13, 'ĠJS': 12, 'ĠBannon': 12, 'ĠStar': 12, 'ĠTek': 12}\n",
      "*** {'Ġ_': 14, 'Ġ***': 13, 'Ġ*': 13, '***': 13, 'Ġ**': 13, 'Ġ[*': 12, 'Ġ(*': 12, ')*': 12, '*****': 12, '*': 12}\n",
      "ĠCar {'isol': 14, 'olated': 13, 'ulic': 13, 'username': 13, 'olation': 13, 'Ġisol': 12, 'ĠNorwich': 12, 'userc': 12, 'separ': 12, 'izu': 12}\n",
      "hidden {'Ġsv': 13, 'ĠGn': 13, 'ĠSch': 13, 'ĠIgn': 13, 'ĠHab': 13, 'ĠHep': 13, 'ĠIw': 12, 'ĠEC': 12, 'ĠMi': 12, 'ĠIP': 12}\n",
      "details {'ĠSS': 14, 'ĠJS': 13, 'ĠNarr': 13, 'ĠLake': 13, 'ĠSQ': 13, 'ĠPict': 12, 'Ts': 12, 'arak': 12, 'ĠChak': 12, 'ĠGn': 12}\n",
      "trap {'Ġburger': 13, 'Ġburgers': 13, 'ĠWatergate': 13, 'ĠSatanic': 13, 'ĠBurger': 13, 'ĠTurtles': 13, 'ĠLantern': 12, 'ĠFlare': 12, 'ĠBannon': 12, 'ĠChromebook': 12}\n",
      "Ġpossible {'Ġsafest': 14, 'Ġholiest': 13, 'iest': 13, 'liest': 13, 'lest': 13, 'Ġsimplest': 12, 'Ġfastest': 12, 'chest': 12, 'erest': 12, 'Ġcoolest': 12}\n",
      "bg {'ĠMars': 14, 'ĠCHR': 13, 'ĠMartian': 13, 'Mars': 13, 'Ġpot': 12, 'ĠShir': 12, 'Ġther': 12, 'ĠGry': 12, 'ĠMarsh': 12, 'ĠSchwarz': 12}\n",
      "desc {'Bah': 13, 'ĠSCH': 13, 'ĠIMP': 13, 'ĠLIB': 13, 'ĠPh': 13, 'ĠSS': 13, 'ĠUr': 12, 'ĠAud': 12, 'Ġbathrooms': 12, 'ĠBMC': 12}\n",
      "Ġ{ {'Ġappliance': 14, '778': 13, 'beam': 13, '1111': 12, 'Ġhose': 12, 'ĠFSA': 12, 'introdu': 12, 'remlin': 12, '478': 12, 'feed': 12}\n",
      "Ġheight {'Ġunderstatement': 14, 'Ġdeity': 14, 'nia': 13, 'Ġturret': 13, 'ĠDeity': 13, 'ilia': 12, 'allah': 12, 'Ġrooftop': 12, 'Ġmirrored': 12, 'lene': 12}\n",
      ", {'Ġmiserable': 13, 'earable': 13, 'Ġdismal': 13, 'Ġgloomy': 13, 'blade': 13, 'bably': 12, 'fee': 12, 'ission': 12, 'idious': 12, 'Ġdemoral': 12}\n",
      "pop {'ĠINV': 14, 'ĠSemi': 13, 'ĠSear': 13, 'ĠSN': 13, 'ĠMaximum': 12, 'ĠSwe': 12, 'Maximum': 12, 'Ġabsor': 12, 'ĠNP': 12, 'Ġsemic': 12}\n",
      "Ġ}) {'({': 14, '{{': 14, 'Ġ({': 13, ':{': 13, '={': 13, '{\\\\': 12, 'Ġ${': 12, '{': 12, 'Ġ{{': 12, 'Ġ{\\\\': 12}\n",
      "pun {'Ġbean': 14, 'ĠRestaurant': 13, 'Ġsandbox': 13, 'Ġlunch': 13, 'beans': 13, 'Ġsemif': 12, 'ĠBean': 12, 'ĠRHP': 12, 'ĠLunch': 12, 'Ġsoup': 12}\n",
      "Ġ< {'Nor': 14, 'Ġinvitation': 14, 'Ġinvitations': 13, 'ĠPetition': 12, 'Ġinvites': 12, 'Ġinviting': 12, 'ifling': 12, 'ĠNor': 12, 'Ġimproper': 12, 'Ġcaliber': 12}\n",
      "Ġar {'gay': 14, 'Ġgay': 13, 'opia': 13, 'Ġpupil': 12, 'ipal': 12, 'Ġatheist': 12, 'acist': 12, 'earable': 12, 'opian': 12, 'Gay': 12}\n",
      "commun {'ĠTw': 14, 'ĠHath': 13, 'ĠIntern': 13, 'Ġath': 13, 'ĠTW': 13, 'Ġintern': 12, 'ĠNek': 12, 'ĠNAT': 12, 'ĠAnt': 12, 'ĠNe': 12}\n",
      "Ġbehalf {'Ġlegislation': 14, 'Ġbattling': 13, 'Ġcooperating': 13, 'Ġfought': 13, 'Ġwork': 13, 'Ġcooperate': 12, 'Ġdeeds': 12, 'Ġcombat': 12, 'Ġlawsuit': 12, 'Ġfights': 12}\n",
      "ĠâĢ {'mares': 13, 'ifled': 13, 'imentary': 13, 'static': 13, 'Ġsworn': 12, 'potion': 12, 'Semitism': 12, 'CLOSE': 12, 'ahime': 12, 'Ġsilk': 12}\n",
      "Ġloss {'Ġremorse': 14, 'aliation': 13, '340': 13, 'anoia': 13, 'Ġretribution': 12, 'ĠWARNING': 12, 'Ġwarning': 12, '148': 12, 'Ġindemn': 12, '172': 12}\n",
      "uel {'ĠMinneapolis': 14, 'innamon': 13, 'desktop': 13, 'Ġbreakfast': 13, 'ĠBreakfast': 12, 'ĠTeen': 12, 'neapolis': 12, 'Ġsoup': 12, 'MIC': 12, 'Ġteaspoon': 12}\n",
      "* {'***': 14, 'Ġ*': 13, '****': 13, 'retion': 13, 'Ġ***': 13, '.*': 12, 'Ġ_': 12, 'lus': 12, 'Ġ___': 11, '*': 11}\n",
      "Ġmass {'Ġpowering': 15, 'Ġpowered': 13, 'bringer': 13, 'power': 12, 'Ġfollowers': 12, 'ollower': 12, 'accompanied': 12, 'powered': 12, 'Ġpowers': 12, 'Ġentrances': 12}\n",
      "through {'Ġtransmitted': 14, 'Ġchannel': 13, 'Ġtransmission': 13, 'Ġpenetrating': 13, 'Ġconvey': 12, 'Ġconveyed': 12, 'Ġdelve': 12, 'Ġpenetrate': 12, 'Ġoutreach': 12, 'ĠTransmission': 12}\n",
      "Ġnaked {'Ġinvisible': 14, 'Ġvisible': 14, 'imet': 13, 'visible': 13, 'entary': 12, 'Ġappearing': 12, 'Ġunimaginable': 12, 'Ġdisappearing': 12, 'ceivable': 12, 'Ġexhibited': 12}\n",
      "Ġ?) {'Ġ[(': 15, '((': 14, 'Ġ((': 13, 'Ġ(': 13, '\"(': 12, ')(': 12, '+(': 12, 'ċ': 11, '/(': 11, 'ĠClerk': 11}\n",
      "Ġbackstage {'Ġhatch': 14, 'Ġpopup': 13, 'Ġbunny': 13, 'Ġhatched': 13, 'Ġsly': 12, 'Ġblues': 12, 'led': 12, 'Ġdoorstep': 12, 'Ġcreeping': 12, 'Ġstrut': 12}\n",
      "dig {'Ġkcal': 13, 'ĠBrian': 13, 'ĠCong': 13, 'ĠJean': 12, 'ĠDion': 12, 'Ġelectr': 12, 'ĠChap': 12, 'Brian': 12, 'ĠSkin': 12, 'ĠTravis': 12}\n",
      "cus {'359': 13, '178': 13, '358': 13, '158': 13, '179': 13, '159': 12, '016': 12, '173': 12, 'Ġ178': 12, 'Ġ159': 12}\n",
      "Ġindefinitely {'ĠRemain': 13, 'Ġdetained': 13, 'Ġretains': 13, 'prison': 12, 'Ġendured': 12, 'Ġretain': 12, 'Ġsurvives': 12, 'Ġretaining': 12, 'Ġsurvived': 12, 'Ġwithheld': 12}\n",
      "Ġthroughout {'Ġcontinually': 14, 'Ġexisted': 13, 'Ġcontinual': 13, 'Ġpersistent': 13, 'Ġpervasive': 12, 'Ġabound': 12, 'Ġperman': 12, 'Ġubiquitous': 12, 'Ġcontinuous': 12, 'existing': 12}\n",
      "Ġexisting {'Ġintegrated': 14, 'Ġcloning': 13, 'Ġcoordinated': 13, 'Ġintegrating': 13, 'breeding': 12, 'structed': 12, 'Ġnormalized': 12, 'Ġintegrates': 12, 'ĠIntegrated': 12, 'Ġintegration': 12}\n",
      "fi {'ĠCHR': 14, 'ĠGlock': 13, 'ĠADHD': 13, 'ĠJesuit': 12, 'ĠEps': 12, 'ĠBarth': 12, 'ĠTHC': 12, 'ĠOpenGL': 12, 'android': 12, 'ĠBelg': 12}\n",
      "Ġdetails {'Ġscarce': 13, '070': 13, 'ca': 13, 'Ġdescribe': 12, 'Ġflesh': 12, '052': 12, 'cfg': 12, 'Ġbare': 12, 'Ġscarcely': 12, 'Ġdunno': 12}\n",
      "EFF {'Ñ': 14, 'ĠLl': 13, 'ãĤ¿': 13, 'ĠArts': 12, 'ĠNJ': 12, 'ãĥ': 12, 'ĠWheel': 12, 'ĠYas': 12, 'ĠNaw': 12, 'ĠTai': 12}\n",
      "ĠInter {'rowing': 13, 'Ġbiking': 13, 'feeding': 13, 'uary': 13, 'delete': 12, 'Ġdining': 12, 'Ġbriefings': 12, 'abbling': 12, 'feed': 12, 'leted': 12}\n",
      "zero {'ĠNek': 15, 'Ġelectr': 14, 'ĠArc': 13, 'Ġskysc': 12, 'Ġlightsaber': 12, 'ĠZip': 12, 'ĠExec': 12, 'Ġtr': 12, 'Ġp': 11, 'Ġcir': 11}\n",
      "?' {'who': 14, 'Who': 13, 'Ġwho': 13, 'ĠWho': 13, 'Which': 12, 'which': 12, 'Should': 12, 'ĠWhich': 12, '¿': 11, 'heet': 11}\n",
      "Ġwall {'Ġsuck': 13, 'athing': 13, 'usting': 13, 'Ġbombing': 13, 'Ġbudding': 12, 'thritis': 12, 'Ġsucks': 12, 'Ġcrater': 12, 'Ġcramped': 12, 'Ġsmashing': 12}\n",
      "ĠDepth {'Ġgrandma': 13, 'Ġsatellite': 13, 'Ġbattery': 13, 'Ġsatellites': 13, 'Ġstudio': 12, 'ĠRomania': 12, 'cester': 12, '655': 12, 'atellite': 12, 'Ġbatteries': 12}\n",
      "pattern {'ĠDJ': 13, 'Ġlobster': 13, 'Ġchocolate': 13, 'ĠJC': 12, 'bj': 12, 'WC': 12, 'JC': 12, 'Ġvodka': 12, 'Ġdetector': 12, 'ĠDJs': 12}\n",
      "ĠAnt {'iceps': 13, 'Ġcommuter': 13, 'Ġcommuters': 13, 'Software': 12, 'Ġloan': 12, 'Ġcreeping': 12, 'endon': 12, 'Ġroommate': 12, 'Ġstudent': 12, 'boys': 12}\n",
      "Ġaloud {'Ġsaying': 13, 'Ġshouting': 13, 'Ġshouted': 12, 'said': 12, 'Ġspeaking': 12, 'Ġsaid': 12, 'Ġpronoun': 12, 'Ġshout': 12, 'Ġcommanded': 12, 'Ġspoken': 12}\n",
      "MP {'Ġstride': 13, 'ĠWalk': 13, 'Walk': 13, 'Ġhike': 13, 'Ġstrides': 12, 'Ġwalks': 12, 'walk': 12, 'BUS': 12, 'ĠSwim': 12, 'ĠBus': 12}\n",
      "Ġpure {'female': 13, 'unit': 13, 'bey': 13, 'hiba': 13, 'sem': 12, 'entary': 12, 'lein': 12, 'liament': 12, 'umes': 12, 'Ġunit': 12}\n",
      "male {'Tw': 13, 'ĠTW': 13, 'Ġsk': 12, 'Ġtw': 12, 'ĠDew': 12, 'Ġscor': 12, 'ĠTw': 12, 'TW': 12, 'Ġdisc': 12, 'Ġbod': 12}\n",
      "Ġsince {'First': 13, 'ĠFirst': 13, 'first': 13, 'ultimate': 13, 'Ġfirst': 12, 'eenth': 12, 'latest': 12, 'Ġintolerable': 12, 'Ġbeen': 12, 'ĠFIRST': 12}\n",
      "): {'.(': 14, '>(': 13, '](': 13, 'Ġ(-': 13, 'Ġ``(': 12, 'Ġ[(': 12, 'Ġ(': 12, '(-': 12, '-(': 12, \"Ġ'(\": 11}\n",
      "Ġconceivable {'iest': 14, 'Ġfastest': 13, 'Ġeasiest': 13, 'Ġsimplest': 12, 'liest': 12, 'Ġtoughest': 12, 'worst': 12, 'Ġhardest': 12, 'Ġcoolest': 12, 'hest': 12}\n",
      "tz {'152': 13, '153': 13, 'ĠStam': 12, 'Ġ152': 12, '007': 12, 'Ġ153': 12, 'ĠPist': 12, '1976': 12, '154': 12, 'ĠMarijuana': 12}\n",
      "tm {'Ġlegalize': 14, 'Ġsavior': 13, 'Ġignor': 13, 'Ġdisreg': 12, 'Ġantioxidants': 12, 'Ġantioxidant': 12, 'Ġunconstitutional': 12, 'ĠSavior': 12, 'Ġillegal': 12, 'Ġerroneous': 11}\n",
      "Ġroute {'mediated': 13, 'Ġmediated': 13, 'affected': 13, 'going': 13, 'Ġaffected': 12, 'Ġgone': 12, 'Going': 12, 'go': 12, 'Ġevac': 12, 'Ġeffected': 12}\n",
      "ĠBul {'Ġmarrow': 14, 'noon': 12, 'Ġvitro': 12, 'Meat': 12, 'meat': 12, 'Ġmeat': 12, 'ĠMeat': 12, 'Ġlivestock': 12, 'chin': 12, 'atoon': 12}\n",
      "fal {'Ġpr': 13, 'Ġxml': 13, 'Ġmic': 12, 'ĠÏ': 12, 'Ġjs': 12, 'ĠSUP': 12, 'ĠGT': 12, 'ĠKo': 12, 'ĠPhant': 12, 'ĠRobin': 12}\n",
      "yo {'Ġswing': 14, 'Ġgist': 13, 'Ġswinging': 13, 'Ġswings': 12, 'ĠGalaxy': 12, 'Ġsway': 12, 'ĠPhiladelphia': 12, 'ĠSwing': 12, 'ĠSerbia': 11, 'ĠIDE': 11}\n",
      "const {'ĠNut': 13, 'Ġwat': 13, 'Nut': 12, 'Ġnut': 12, 'Ġtab': 12, 'Pa': 12, 'ĠTX': 12, 'ĠAPI': 12, 'Ġpa': 12, 'ĠSATA': 12}\n",
      "stri {'ĠPrague': 14, 'ĠBaltimore': 13, 'ĠShaw': 12, 'ĠSchwarzenegger': 12, 'ĠVince': 12, 'ĠCave': 12, 'ĠHarvard': 12, 'ĠBatman': 12, 'ĠBeast': 12, 'ĠIndianapolis': 12}\n",
      "Ġother {'Ġcontemporaries': 13, 'llers': 13, 'brids': 12, 'Ġfollowers': 12, 'Ġseekers': 12, 'Ġechoes': 12, 'igators': 12, 'naires': 12, 'ators': 12, 'Ġdissidents': 12}\n",
      "jug {'ĠHunger': 15, 'Tax': 12, 'ĠKentucky': 12, 'ĠAustria': 12, 'ĠCobb': 12, 'ĠAustrian': 12, 'ĠDUI': 12, 'ĠSQ': 12, 'Ġvom': 12, 'ĠTax': 12}\n",
      "ĠSem {'ebus': 14, 'atsuki': 12, 'tube': 12, 'assis': 12, 'osh': 12, 'Ġmolecule': 12, 'aeus': 12, 'band': 12, 'itech': 12, 'berus': 12}\n",
      "< {'Ġprope': 14, 'Ġheavens': 14, 'Ġatmosp': 12, 'Nor': 12, 'Ġsilly': 12, 'Ġfaire': 12, 'Ġatmosphere': 12, 'ĠAtmosp': 12, 'authent': 11, 'Ġ=================': 11}\n",
      "Ġafford {'Could': 14, 'Ġcan': 13, 'Ġcould': 13, 'could': 13, 'ĠCould': 13, 'can': 12, 'ĠCan': 11, 'CAN': 11, 'Can': 11, 'ossibly': 11}\n",
      "ĠFar {'Ġmagistrate': 13, 'Ġintimate': 13, 'Ġintimacy': 13, 'ifax': 13, 'member': 12, 'istrate': 12, 'elia': 12, 'ulic': 12, 'Ġsatellite': 12, 'pty': 12}\n",
      "Ġsafe {'kept': 14, 'keeping': 13, 'Ġkept': 13, 'Ġkeeping': 12, 'Keeping': 12, 'Ġkeeps': 12, 'Ġkeep': 12, 'ĠKeeping': 12, 'Keep': 11, 'keep': 11}\n",
      "Depth {'Ġmarg': 14, 'Ġmidrange': 12, 'ĠNeptune': 12, 'Mill': 12, 'ĠMidlands': 12, 'ĠMill': 12, 'Ġtr': 12, 'ĠFr': 12, 'ĠDeg': 12, 'ĠStri': 12}\n",
      "ĠTun {'Ġbooze': 13, 'Ġpine': 13, '595': 13, '1969': 12, '1967': 12, 'ppelin': 12, 'ĠChocolate': 12, 'Ġtrout': 12, '261': 12, 'Ġbeer': 12}\n",
      "Ġfine {'building': 13, 'Ġbuilding': 13, 'Ġbrew': 13, 'Ġrebuilding': 12, 'Ġmanufacturing': 12, 'rown': 12, 'Ġamounted': 12, 'Ġbrewing': 12, 'build': 12, 'Ġcomposing': 11}\n",
      "fet {'Ġintern': 13, 'ĠContents': 13, 'Ġbeginners': 13, 'Ġcontributor': 12, 'Ġbeginner': 12, 'ĠIntern': 12, 'intern': 12, 'Contents': 12, 'Ġcannabis': 12, 'ĠNationals': 11}\n",
      "Ġstate {'nets': 13, 'cot': 12, 'acha': 12, 'technology': 12, 'ctl': 12, 'endix': 12, 'flies': 12, 'igm': 12, 'bill': 12, 'fly': 12}\n",
      "ĠDj {'Ġbeer': 13, 'Ġlivestock': 13, 'Ġbrewer': 13, 'Ġsettlers': 13, 'Ġbrewery': 12, 'Ġbrewers': 12, 'beer': 12, 'Ġinmate': 12, 'achi': 12, 'Ġmolecule': 12}\n",
      "EV {'ĠNeb': 13, 'ĠTenn': 13, 'ĠKarn': 13, 'ĠNaw': 13, 'ĠLl': 12, 'ĠSax': 12, 'ĠBan': 12, 'ĠFla': 12, 'ĠAW': 12, 'ĠSr': 11}\n",
      "--> {'Ġoffseason': 14, 'ĠRebirth': 13, 'Ġgeneration': 13, 'actionDate': 13, 'birth': 12, 'Ġ424': 12, 'uilding': 12, 'Ġinception': 12, '.</': 11, 'Ġgenerate': 11}\n",
      "Ġpurpose {'employed': 14, 'Ġunemployed': 14, 'Ġbreastfeeding': 13, 'Ġemployed': 13, 'wid': 12, 'Ġemploying': 12, '116': 12, 'Ġemploy': 11, 'Ġemploys': 11, 'Ġhither': 11}\n",
      "Ġali {'obia': 13, 'Ġwhining': 13, 'bestos': 13, 'mingham': 12, 'Ġconsultation': 12, 'bitious': 12, 'Ġconsulting': 12, 'uctive': 12, 'spection': 12, 'Ġworrying': 12}\n",
      "Ġrival {'Ġhostile': 14, 'Ġanimosity': 13, 'ophob': 13, 'Ġgloom': 12, 'Ġgloomy': 12, 'dain': 12, 'Ġunbel': 12, 'Ġintoler': 12, 'Ġhostility': 11, 'Ġvillains': 11}\n",
      "Ġax {'claw': 14, 'sounding': 13, 'lord': 13, 'Ġsounding': 12, 'lis': 12, 'lords': 12, 'either': 11, 'sound': 11, 'claimed': 11, 'Ġsmells': 11}\n",
      "spe {'ĠChristina': 13, 'Ġcrappy': 13, 'ĠJustin': 13, 'Justin': 12, 'Ġchrist': 12, 'ĠJesus': 12, 'Jessica': 12, 'ĠSchultz': 12, 'Ġcrazy': 12, 'Christ': 12}\n",
      "Ġentry {'Ġwarranted': 13, 'Ġallowable': 13, 'Ġlimitless': 13, 'Ġineligible': 13, 'Ġbarred': 12, 'Ġproverbial': 12, 'Ġpermissible': 12, 'Ġprevention': 12, 'Ġrightful': 11, 'Ġprohibited': 11}\n",
      "shared {'Ġdev': 15, 'ĠNV': 12, 'ĠMars': 12, 'Ġsv': 12, 'ĠAve': 12, 'ĠAD': 12, 'Ve': 12, 'ĠBC': 12, 'ĠET': 12, 'Ġpav': 12}\n",
      "mos {'ĠTHR': 14, 'ĠLT': 13, 'ĠADHD': 12, 'ĠDT': 12, 'ĠDP': 12, 'LT': 12, 'Ġmitochondrial': 12, 'ĠSM': 12, 'Ġrc': 11, 'ĠET': 11}\n",
      "ĠCounter {'Ġretina': 13, 'ocamp': 13, 'Ġgalleries': 13, 'Ġcapsule': 12, 'ctuary': 12, 'Ġcolonization': 12, 'arantine': 12, 'ĠParadise': 12, 'gallery': 12, 'APE': 12}\n",
      "ĠState {'ctl': 14, 'anus': 13, 'naires': 12, 'otech': 12, 'ĠProtocol': 12, 'acea': 12, 'Ġinformants': 12, 'ocol': 12, 'elines': 12, 'omet': 12}\n",
      "??? {'which': 13, 'Which': 13, 'who': 13, 'ĠWhich': 12, 'Who': 12, 'ĠWHO': 12, 'Ġwho': 12, 'ĠWho': 12, 'WHO': 12, 'Ġwhich': 12}\n",
      "dd {'orc': 13, 'ĠChampionships': 13, 'ãĥ´ãĤ¡': 13, 'Ġpanties': 12, 'Ġlantern': 12, 'imeter': 12, 'ĠDecember': 12, 'December': 12, 'Ġgarage': 12, 'inch': 12}\n",
      "Ġfreedom {'Ġallowance': 14, 'Ġallows': 13, 'Ġallow': 12, 'Ġallowing': 12, 'allows': 12, 'Ġallowed': 12, 'allowed': 12, 'Ġallowances': 12, 'Ġlasts': 12, 'Ġlets': 11}\n",
      "Ġearnest {'Ġbegun': 13, 'Ġbegan': 13, 'started': 12, 'Ġbegins': 12, 'Starting': 12, 'Ġbegin': 12, 'Ġstarted': 12, 'Ġstart': 12, 'ĠStarted': 12, 'start': 12}\n",
      "hr {'ĠSocrates': 13, 'ĠShiva': 13, 'ĠMarijuana': 12, 'ĠCannabis': 12, 'Ġcannabis': 12, 'ĠSeah': 12, 'Ġstare': 12, 'Ġnitrogen': 12, 'ĠStarter': 12, 'Ġstarters': 12}\n",
      ":: {'207': 13, '137': 13, '268': 13, '676': 13, 'Ġ207': 12, '672': 12, 'Ġ399': 12, '452': 12, 'Ġ137': 12, '009': 12}\n",
      "ĠDeg {'Ġwrestlers': 14, 'ĠCanadians': 13, 'ĠSponsor': 12, 'Ġwrestler': 12, 'ĠPokemon': 12, 'ĠRobots': 12, 'planes': 12, 'Ġpilots': 12, 'ania': 12, 'Ġprophets': 12}\n",
      "stre {'ĠMacintosh': 13, 'Ġwiki': 13, 'Ġcolumnist': 12, 'ĠSym': 12, 'Ġcocoa': 12, 'Ġsys': 12, 'ĠBib': 12, 'ĠSirius': 12, 'Ġcabbage': 12, 'Ġtypew': 12}\n",
      "Ġpop {'Ġsmelled': 14, 'Ġsensation': 14, 'Ġsmelling': 13, 'Ġfeeling': 12, 'Ġsmell': 12, 'Ġreceptor': 12, 'Ġheresy': 12, 'umed': 11, 'Ġsmells': 11, 'Ġsounded': 11}\n",
      "Ġability {'depending': 14, 'Ġdepending': 13, 'benefit': 13, 'Ġbenefiting': 12, 'Ġbenefit': 12, 'Ġhonest': 12, 'ĠBenefit': 12, 'Ġbenefited': 12, 'Ġhonesty': 12, 'Ġincapac': 12}\n",
      "Ġep {'Ġnovice': 14, 'luent': 13, 'brids': 12, 'Ġparanormal': 12, 'etheus': 12, 'Ġbeginner': 12, 'rower': 12, 'Ġgoblin': 12, 'Ġfluent': 12, 'aneers': 12}\n",
      "Ġinput {'paid': 13, 'allowed': 13, 'due': 13, 'Ġpaid': 12, 'Ġflavored': 12, 'Ġfuelled': 12, 'Ġsecular': 12, 'Ġpays': 12, 'hibited': 12, 'mere': 11}\n",
      "trop {'ĠTut': 14, 'Ġimm': 13, 'ĠMo': 12, 'Ġpav': 12, 'Mo': 12, 'Ġsv': 12, 'ĠCinderella': 12, 'ĠBenedict': 12, 'Ġbuff': 12, 'ĠSne': 12}\n",
      "lime {'ĠMant': 13, 'ĠSh': 13, 'ĠAUT': 12, 'Sh': 12, 'ĠTS': 12, 'ĠAlt': 12, 'ĠBU': 12, 'ĠTF': 12, 'Ġsh': 12, 'ĠDew': 12}\n",
      "mut {'ĠAb': 14, 'Ab': 13, 'Ġab': 13, 'Ġobsc': 12, 'Ġfs': 12, 'Ob': 12, 'Ġscarf': 12, 'ĠPink': 12, 'fs': 11, 'ĠAbs': 11}\n",
      "Ġwrapping {'Ġescaping': 13, 'Ġescapes': 12, 'Ġescape': 12, 'escape': 12, 'Ġcapturing': 12, 'cover': 12, 'Ġescaped': 12, 'Ġdrew': 12, 'ĠEscape': 12, 'Ġhandwritten': 12}\n",
      "ĠGe {'mission': 13, 'Ġcatalogue': 12, 'clock': 12, 'Ġtextbook': 12, 'Ġaffidavit': 12, 'naires': 12, 'orescent': 12, 'Ġlockdown': 12, 'generation': 12, 'ĠCoalition': 12}\n",
      "zer {'ĠContra': 14, 'ĠAthena': 12, 'ĠEF': 12, 'Ġcartridges': 12, 'ĠCeres': 12, 'dB': 12, 'ĠDetroit': 12, 'ĠConstantin': 12, 'atars': 12, 'annabin': 12}\n",
      "Ġorder {'ĠGMO': 13, 'Ġpaid': 12, 'cent': 12, 'paid': 12, 'paying': 12, 'Ġcrates': 12, 'owed': 12, 'Ġpaying': 12, 'Ġbreed': 12, 'ĠPossible': 12}\n",
      "Ãº {'grim': 13, 'Ġmagistrate': 13, 'Point': 13, 'anza': 13, 'alsh': 12, 'Ġspectacular': 12, 'istrate': 12, 'Ġauthent': 12, 'Ġsham': 12, 'ĠBlaze': 11}\n",
      "Ġotherwise {'Ġdismal': 14, 'cano': 12, 'Ġvastly': 12, 'Ġmiserable': 12, 'Ġescaped': 12, 'Ġplutonium': 12, 'Ġescapes': 12, 'Ġprevailed': 11, 'Ġwretched': 11, 'Ġmisery': 11}\n",
      "vs {'PK': 13, 'ĠKING': 13, 'ĠVlad': 12, 'ĠKing': 12, 'ĠBit': 12, 'ĠChun': 12, 'ĠJA': 12, 'ĠPot': 12, 'ĠCrown': 12, 'Ire': 12}\n",
      "Ġcode {'orporated': 13, 'token': 12, 'encrypted': 12, 'Ġannot': 12, 'mounted': 12, 'notations': 12, 'coins': 12, 'Ġincorporated': 12, 'Tokens': 12, 'registered': 12}\n",
      "ĠFre {'Ġtravellers': 13, 'inis': 13, 'ctl': 12, 'Ġtrustee': 12, 'Ġbrethren': 12, 'Ġtrustees': 12, 'Ġcommittees': 12, 'Ġpredecessors': 12, 'bringer': 12, 'committee': 12}\n",
      "zig {'Ġpuck': 13, 'ĠBW': 13, 'ĠRays': 12, 'ĠBeir': 12, 'ĠCarr': 12, 'ĠBung': 12, 'BW': 12, 'ĠSession': 12, 'ĠOR': 12, 'ĠdB': 12}\n",
      "Ġrespect {'independence': 12, 'Ġindepend': 12, 'Ġindependence': 12, 'Ġneutrality': 12, 'Ġslack': 12, 'Independent': 12, 'Ġmoderation': 12, 'utral': 12, 'Ġstability': 12, 'ibility': 12}\n",
      "Ġz {'516': 13, '517': 13, '515': 12, 'ariat': 12, 'Token': 12, '518': 12, 'lette': 12, '510': 12, 'opian': 12, '519': 12}\n",
      "Ġbos {'Ġ1961': 14, 'Ġ1861': 13, 'Ġ1960': 12, '1960': 12, 'Ġ1940': 12, 'Ġ1910': 12, 'Ġ1912': 11, 'Ġ1913': 11, 'Ġ1958': 11, 'Ġ1963': 11}\n",
      "ĠGon {'acci': 13, 'aque': 12, 'Ġwhopping': 12, 'uki': 12, 'Ġlicking': 12, 'Ġromance': 12, 'ĠBravo': 12, 'ĠOops': 12, 'Ġassault': 12, 'Ġintimid': 12}\n",
      "*/ {'Ġ*': 15, '.*': 14, '*': 13, '***': 13, 'Ġ***': 12, 'Ġ_': 11, ')*': 11, '*.': 11, '(*': 10, 'Ġbake': 10}\n",
      "Ġ/> {'Ġ\"<': 14, '><': 13, 'Ġ<': 13, 'Ġ><': 13, '\"><': 12, '<': 12, '\\\\<': 12, 'Ġ(<': 12, '.<': 10, 'Ġpotential': 9}\n",
      "names {'ĠIowa': 13, 'ä¹': 13, 'ĠIP': 12, 'ĠPark': 12, 'ĠIk': 12, 'Ġbathrooms': 12, 'ĠTP': 12, 'ĠID': 12, 'ĠSF': 12, 'Ġtoilets': 12}\n",
      "Ġbundle {'Ġrelieved': 13, 'Ġconsolation': 13, 'Ġpeace': 12, 'Ġransom': 12, 'arson': 12, 'peace': 12, 'Ġescaping': 12, 'excluding': 12, 'Ġescaped': 12, 'Peace': 12}\n",
      "ih {'ĠESL': 14, 'eq': 12, 'Ġnib': 12, 'ĠBarton': 12, 'ĠTobias': 12, 'Fig': 12, 'Ġeq': 12, 'ĠADC': 12, 'db': 12, 'ĠRef': 12}\n",
      "deep {'ĠLEG': 12, 'ĠUlt': 12, 'ĠStab': 12, 'Ġenc': 12, 'ĠDig': 12, 'Ġpenn': 12, 'ĠISS': 12, 'Ġultras': 12, 'ĠRSA': 12, 'ĠTER': 12}\n",
      "Ġdiv {'Ġparasites': 13, 'Ġliquids': 13, 'Ġtattoos': 12, 'Ġinclusive': 12, 'licensed': 12, 'Ġemissions': 12, 'Ġadjoining': 12, 'Ġbadges': 12, 'Ġminimizing': 12, 'Ġinscribed': 12}\n",
      "GEN {'ĠCheong': 14, 'ĠTay': 12, 'ĠStephenson': 12, 'ĠYe': 12, 'ĠTAG': 12, 'ĠStev': 12, 'ĠAxe': 12, 'ĠSTE': 12, 'Ġste': 12, 'ĠPCIe': 11}\n",
      "ĠPR {'sponsored': 14, 'mable': 13, 'ONSORED': 12, 'ittance': 12, 'Ġsubsidized': 12, 'eking': 11, 'Ġfluorescent': 11, 'allowed': 11, 'utral': 11, 'paid': 11}\n",
      "sy {'mop': 13, 'fp': 13, 'FP': 12, 'ĠStadium': 12, 'Bat': 12, 'Ġdop': 12, 'Ġpot': 12, 'Intern': 12, 'olf': 12, 'ĠFP': 12}\n",
      "iman {'ãĥ«': 13, 'ĠRBI': 13, 'ĠBurger': 13, 'pound': 12, 'ĠRonnie': 12, 'Ġstake': 12, 'Ġpound': 11, 'hiro': 11, 'Alan': 11, 'Ġwhopping': 11}\n",
      "vers {'avor': 12, 'ĠBudapest': 12, 'ĠVlad': 12, 'ĠLuxembourg': 12, 'ĠSlovakia': 12, 'Ġgreatness': 12, 'ĠAsgard': 12, 'ĠLancaster': 12, 'ĠHungary': 12, 'Ġardu': 12}\n",
      "Ġunnamed {'Ġmercenaries': 13, 'iots': 13, 'inos': 12, 'Ġtroopers': 12, 'usercontent': 12, 'Ġpsychologists': 12, 'children': 12, 'daughter': 12, 'landers': 12, 'Ġdaughter': 12}\n",
      "Ġothers {'esides': 13, 'onductor': 13, 'yond': 13, 'ollower': 12, 'Ġbeside': 12, 'behind': 12, 'between': 12, 'Ġechoed': 12, 'comings': 11, 'Ġbeyond': 11}\n",
      "ĠIm {'landers': 14, 'atars': 13, 'Ġtourists': 12, 'Ġtiles': 12, 'arching': 12, 'Ġsatellites': 12, 'Ġinvaders': 12, 'Ġlicensee': 11, 'Ġtravelers': 11, 'ĠShips': 11}\n",
      "fg {'ĠShack': 13, 'Mars': 13, 'ĠMars': 12, 'Dex': 12, 'Ġsquats': 12, 'ĠHut': 12, 'Sat': 12, 'ĠSeth': 11, 'Ġsit': 11, 'Ġannihil': 11}\n",
      "?\" {'who': 13, 'which': 13, 'ãģª': 12, 'Which': 12, '¿': 12, 'WHO': 12, 'Ġwho': 12, 'ĠWhich': 12, 'Ġwat': 12, '::::::::': 11}\n",
      "egg {'ĠBowser': 13, 'ĠFell': 13, 'Cass': 12, 'ĠCass': 12, 'ĠPluto': 12, 'ĠSatoshi': 12, 'ĠBaker': 12, 'ĠSeth': 12, 'ĠMuk': 12, 'Ġpancakes': 11}\n",
      "Ġmissing {'Ġviolating': 14, 'Ġlone': 13, 'Ġviolated': 13, 'Ġviolate': 13, 'Ġviolates': 13, 'ecd': 12, '887': 11, '87': 11, '870': 11, 'Ġbreached': 11}\n",
      "cul {'ĠMars': 13, 'ĠStar': 13, 'ĠGoldberg': 12, 'Mars': 12, 'ĠInterstellar': 12, 'Star': 12, 'ĠBalkans': 12, 'ĠSatoshi': 12, 'ĠDusk': 11, 'ĠRagnarok': 11}\n",
      "ĠTunnel {'ĠBengals': 13, 'ophobia': 13, 'ĠChili': 12, 'peed': 12, 'obia': 12, 'ĠPasadena': 12, 'é»Ĵ': 12, 'borough': 12, 'python': 12, 'ĠBoat': 11}\n",
      "ĠLap {'Ġtrio': 13, 'opter': 13, 'Ġsurgeons': 12, 'Ġastronaut': 12, 'ĠOfficers': 12, 'Ġtroopers': 12, 'Ġcaptains': 12, 'Ġwarships': 12, 'Ġofficers': 11, 'ozo': 11}\n",
      "?), {'which': 13, 'Which': 13, 'Ġwhich': 12, 'ĠWhich': 12, 'Should': 12, 'who': 12, 'Was': 12, 'Were': 12, 'Ġwho': 11, 'Will': 11}\n",
      "Ġfrom {'Ġemissions': 13, 'generated': 13, 'Ġemission': 12, 'Ġgenerates': 12, 'Ġemitted': 12, 'escape': 12, 'Ġescape': 12, 'Ġgenerate': 11, 'boarding': 11, 'Ġemitting': 11}\n",
      "]; {'Ġ[': 14, '[': 13, ')[': 13, '\":[': 13, '=[': 13, '.\"[': 11, \"Ġ'[\": 11, '\"[': 11, '>[': 11, 'Ġ([': 11}\n",
      "Ġcomputer {'510': 13, '516': 13, '712': 12, '214': 12, '213': 12, '460': 12, '489': 12, '216': 12, '206': 12, '376': 11}\n",
      "ĠDog {'elected': 14, 'uled': 13, 'Ġsailed': 12, 'uded': 12, 'Ġelected': 12, 'IRED': 12, 'opted': 11, 'oping': 11, 'pected': 11, 'lambda': 11}\n",
      "Counter {'isine': 14, 'fters': 13, 'ĠBret': 12, 'arc': 12, 'Ġdocks': 12, 'ĠShield': 12, 'Cath': 12, 'thouse': 11, 'ĠMarlins': 11, 'ĠiTunes': 11}\n",
      "bal {'Ġlightsaber': 13, 'Opp': 13, 'ä¹': 12, 'Ġplayground': 12, 'Ġantiv': 12, 'Ġenc': 12, 'ĠStadium': 12, 'ĠShop': 12, 'Ġstick': 11, '\\\\\\\\\\\\\\\\\\\\\\\\\\\\\\\\\\\\\\\\\\\\\\\\\\\\\\\\\\\\\\\\': 11}\n",
      "hus {'Medium': 13, 'cephal': 12, 'ĠMedium': 12, 'Ġneighborhood': 12, 'Ġneighbourhood': 12, 'High': 12, 'ĠHome': 12, 'ĠElectric': 12, 'Home': 12, 'Ġcoastline': 11}\n",
      "hung {'ĠTasmania': 13, 'ĠTown': 13, 'ĠPakistani': 12, 'ĠFUN': 12, 'ĠTownship': 12, 'ĠPakistan': 12, 'ĠCharacter': 12, 'ĠBelarus': 12, 'ĠMagic': 11, 'Ġtownship': 11}\n",
      "Ġfire {'ĠLighting': 14, 'lighting': 13, 'ntax': 12, 'Ġlighting': 12, 'Ġcrate': 12, 'Ġsculpture': 12, 'Ġengulf': 12, 'Ġsensation': 11, 'quart': 11, 'Ġculmination': 11}\n",
      ")... {'((': 13, '/(': 12, 'Ġ(': 12, '\"(': 12, 'Ġ[(': 12, 'Ġ((': 12, '(': 12, '*/(': 11, 'Ġ$(': 11, 'Ġ(-': 11}\n",
      "Ġdue {'Ġdepressed': 13, 'Ġestranged': 13, 'Ġdeclining': 12, 'Ġdeclined': 12, 'Ġsuppressed': 12, 'Ġdecreased': 12, 'Ġcollapses': 12, 'Ġdwindling': 12, 'Ġdegrading': 12, 'Ġdiscouraged': 12}\n",
      "put {'Ġdism': 13, 'Ġwhis': 13, 'ĠWh': 13, 'Ġchrom': 13, 'Ġmeth': 12, 'Ġultr': 12, 'ĠVS': 11, 'Ġextraord': 11, 'ĠOl': 11, 'ĠOz': 11}\n",
      "Ġob {'nuclear': 12, 'Honest': 12, 'etooth': 12, 'Ġsilk': 12, 'Ġsmelled': 12, 'utral': 12, 'helial': 12, 'neutral': 12, 'ĠBluetooth': 12, 'amina': 12}\n",
      "ĠHun {'Week': 14, 'atari': 13, 'gram': 12, 'oreal': 12, 'tap': 12, 'ixtape': 12, 'week': 11, 'liam': 11, 'alions': 11, 'Ġgram': 11}\n",
      "?). {'Should': 14, 'ĠShould': 13, 'who': 12, 'which': 12, 'Who': 12, 'Which': 12, 'ĠWho': 12, 'Ġwho': 11, 'ĠWhich': 11, 'Ġwhich': 11}\n",
      "Ġball {'ipper': 13, 'Ġsucking': 13, 'Ġsucked': 12, 'Ġcaptain': 12, 'Ġmotor': 12, 'UME': 12, 'terrorist': 12, 'Ġsuck': 12, 'ĠMecca': 11, 'Ġsucks': 11}\n",
      "eval {'Ġpot': 13, 'Ġscheduling': 12, 'Ġoven': 12, 'Ġsched': 12, 'Ġskillet': 12, 'ĠTennis': 12, 'Ġsoup': 12, 'Ġseated': 12, 'auldron': 12, 'Ġsit': 11}\n",
      "ĠAus {'Ġship': 13, 'boat': 12, 'Ġspaceship': 12, 'Ġlady': 12, 'men': 12, 'Ġships': 12, 'women': 12, 'Ġladies': 12, 'ĠShips': 12, 'ĠLady': 12}\n",
      "ĠMess {'beer': 13, 'ĠPigs': 12, 'Ġtourists': 12, 'atellite': 12, 'Ġpigs': 12, 'imeters': 12, 'ĠTrials': 12, 'Ġviewership': 12, 'ĠTelescope': 11, 'jee': 11}\n",
      "ĠViol {'chy': 13, '477': 12, '675': 12, '877': 12, 'ĠKlux': 12, '677': 12, '885': 12, 'Ġ276': 12, '1977': 12, '272': 11}\n",
      "Ġproperties {'447': 13, '516': 13, '568': 13, '492': 12, '506': 12, '488': 12, '473': 12, 'ifled': 12, 'Ġ448': 11, '446': 11}\n",
      "ĠAr {'tiny': 13, 'Ġparamilitary': 13, 'amia': 13, 'ĠSummoner': 12, 'ĠSpartans': 12, 'ulia': 12, 'Ġmicroscopic': 12, 'Ġmorale': 12, 'sponsored': 12, 'ĠColonel': 11}\n",
      "mess {'ĠHate': 13, 'ãĤµ': 12, 'rev': 12, 'ĠDJs': 12, 'Ġtut': 12, 'ĠDarth': 12, 'Ġlightsaber': 12, 'æµ': 12, 'ĠDJ': 12, 'bott': 12}\n",
      ")\" {'\"(': 14, 'Ġ(': 13, '.(': 12, '-(': 12, '(': 12, '=(': 12, 'Ġ[(': 12, 'Ġ\"(': 11, '>(': 11, 'Ġ(-': 11}\n",
      "omin {'Cast': 14, 'ĠCast': 13, 'Throw': 12, 'ĠCasting': 12, 'CAST': 12, 'shoot': 12, 'throw': 12, 'Ġcast': 12, 'Shot': 12, 'ĠDagger': 12}\n",
      "sett {'Psy': 13, 'ĠTS': 12, 'ĠJournalism': 12, 'Ġsm': 12, 'owder': 12, 'Ġdisc': 12, 'ĠPsy': 12, 'ĠTanaka': 11, 'ĠSingapore': 11, 'ĠGene': 11}\n",
      "ĠMin {'Ġcanon': 13, 'omet': 13, 'imet': 12, 'Ġminion': 12, 'stros': 12, 'Ġinmate': 12, 'oided': 12, 'Ġbattalion': 11, 'meter': 11, 'canon': 11}\n",
      "eg {'ĠRaptors': 13, 'ĠColossus': 13, 'ĠSith': 12, 'ĠApostles': 12, 'ĠSLI': 12, 'ĠCarnage': 12, 'ĠGators': 12, 'ĠSummers': 12, 'ĠOrion': 12, 'Session': 11}\n",
      "ĠAxel {'arers': 13, 'Ġjournalists': 13, 'Ġsalesman': 12, 'razen': 12, 'Ġsermon': 12, 'Ġhikers': 12, 'Ġreporters': 12, 'raph': 11, 'las': 11, 'ĠRider': 11}\n",
      "Ġus {'icious': 13, 'Ġvile': 12, 'Ġglorious': 12, 'Ġfluorescent': 12, 'noxious': 12, 'Ġwonderful': 12, 'Ġaquarium': 12, 'icides': 12, 'Ġdreadful': 12, 'ĠVolcano': 11}\n",
      "Ġlinear {'206': 13, '207': 13, '217': 13, '205': 12, '517': 12, '209': 12, '212': 11, 'Ġ206': 11, 'Ġ217': 11, 'Ġ207': 11}\n",
      "ĠMes {'Ġsailors': 12, 'asus': 12, 'Ġpipe': 12, 'ĠCompanies': 12, 'ĠPhoenix': 12, 'cats': 12, 'Ġborrowers': 12, 'Ġslaves': 12, 'Dallas': 12, 'Ġlambda': 12}\n",
      "ĠEly {'urrence': 12, 'rigan': 12, 'chid': 12, 'ounty': 12, 'ĠPremiership': 12, 'minster': 12, 'iership': 12, 'Ġpawn': 12, 'rification': 12, 'ydia': 12}\n",
      "impl {'ĠRazor': 15, 'Politics': 13, 'olitics': 12, 'ĠPolitics': 12, 'ĠOak': 12, 'Ġrazor': 12, 'itars': 11, 'Ab': 11, 'azor': 11, 'itol': 11}\n",
      "broad {'Ġdist': 15, 'Dist': 13, 'ĠDist': 13, 'Ġchunk': 13, 'SourceFile': 11, 'Ġeaves': 11, 'MIC': 11, 'dist': 11, 'ĠDISTR': 11, 'Ġchunks': 11}\n",
      "Ġ] {'\":[': 13, '([': 12, '=[': 12, '\"[': 12, 'Ġ[': 12, '][': 12, 'Ġ([': 12, '>[': 12, \"Ġ'[\": 11, '-[': 11}\n",
      "offset {'ĠEv': 13, 'Ġgre': 12, 'ĠSB': 12, 'ĠSty': 12, 'ĠSn': 12, 'ĠSolar': 12, 'Ġsn': 12, 'ĠAud': 12, 'ĠSeth': 11, 'ĠGre': 11}\n",
      "default {'Ban': 13, 'ĠAres': 13, 'idelines': 12, 'ĠBars': 12, 'Ġlegs': 12, 'ĠBan': 12, 'ĠStoke': 12, 'Ġavenues': 12, 'Ab': 11, 'ĠHorizons': 11}\n",
      "der {'Ġpsychiatrists': 13, 'ĠPatricia': 12, 'ĠMas': 12, 'Ġpsychiatrist': 12, 'Mas': 12, 'Ġstare': 12, 'Ġsnack': 12, 'Ġpsychosis': 12, 'ĠTanzania': 12, 'ĠLOOK': 11}\n",
      "Ġpat {'ĠCerberus': 14, 'berus': 13, 'Ġexiting': 13, 'Ġquitting': 12, 'termin': 12, 'Ġiniti': 11, 'Ġsucking': 11, 'Ġshaved': 11, 'laus': 11, 'Ġending': 11}\n",
      "Ġnowadays {'Ġrarely': 13, 'ĠUsually': 12, 'ĠOften': 12, 'Ġseldom': 12, 'Ġusually': 12, 'Often': 12, 'Ġinevitably': 12, 'Usually': 12, 'Ġinvariably': 11, 'usually': 11}\n",
      "?! {'who': 13, 'which': 13, 'Which': 12, 'Ġwho': 12, 'ĠWhich': 12, 'Who': 12, 'ĠWho': 12, 'Ġwhich': 11, 'ãģª': 11, 'WHO': 11}\n",
      "background {'Ġmatt': 13, 'ĠChr': 12, 'Ġwinter': 12, 'ĠGonz': 12, 'ĠTut': 12, 'ĠTasmania': 12, 'ĠScotch': 11, 'ĠJuven': 11, 'ĠFri': 11, 'ĠBarn': 11}\n",
      "mods {'ĠFat': 13, 'ĠTS': 13, 'ĠLotus': 13, 'ĠReds': 12, 'ĠSan': 12, 'ĠEsk': 12, 'ASC': 11, 'ĠBatt': 11, 'ĠASC': 11, 'ĠHenderson': 11}\n",
      "?) {'which': 13, '((': 12, 'Ġ((': 12, 'Which': 12, '\"(': 12, 'Ġ(-': 12, 'ĠWhich': 12, 'Ġ[(': 12, '::::::::': 11, 'Should': 11}\n",
      "ppe {'ĠGators': 13, 'ĠKnicks': 13, 'ĠVacc': 12, 'ĠRutgers': 12, 'ĠKrishna': 12, 'ĠGuns': 12, 'ĠDor': 12, 'ĠSantos': 11, 'ĠSym': 11, 'ĠHutchinson': 11}\n",
      "Ġ... {'awaited': 14, 'Lastly': 13, 'Finally': 12, 'ĠLastly': 12, 'porary': 12, 'Ġtemporarily': 12, 'ĠFinally': 11, 'Ġexternally': 11, 'Ĝ': 11, 'Ġfinally': 11}\n",
      "Ġcounter {'met': 14, 'MET': 14, 'ĠCoco': 12, 'Ġsanctuary': 12, 'canon': 12, 'Ġ********************************': 11, 'ined': 11, 'Ġparamilitary': 11, 'Ġretina': 11, 'inic': 11}\n",
      "Ġuninterrupted {'Ġendure': 15, 'Ġendured': 15, 'Ġsurvives': 12, 'Ġsurviving': 11, 'Ġsurvived': 11, 'Ġwithstand': 11, 'Ġenduring': 11, 'Ġtolerate': 11, 'Ġlasted': 11, 'ĠSurvive': 11}\n",
      "Ġdepth {'ĠLexington': 13, 'Ġblanket': 12, 'Ġmortg': 12, 'Ġecho': 12, 'Ġgeek': 12, 'ĠCemetery': 12, 'Ġburying': 12, 'Ġcemetery': 12, 'echo': 12, 'Ġmole': 11}\n",
      "Ġamong {'Ġdivides': 13, 'Ġsurplus': 13, 'cludes': 13, 'Ġunmatched': 12, 'Ġunsuspecting': 12, 'CLUS': 12, 'balanced': 12, 'Ġbalances': 11, 'clude': 11, 'includes': 11}\n",
      "FE {'Ġterrestrial': 13, 'ĠNadu': 13, 'ĠSoda': 12, 'Ġsport': 12, 'ĠAirlines': 12, 'ĠRider': 12, 'ĠOdin': 12, 'Ġmedicine': 12, 'ĠSport': 12, 'ĠVisa': 12}\n",
      "Ġenvy {'Ġtax': 13, 'ĠTax': 13, 'Ġhex': 13, 'Ġlex': 13, 'ĠLor': 11, 'Tax': 11, 'Ġholy': 11, 'Ġdespised': 11, 'tax': 11, 'ĠHex': 11}\n",
      "Ġdifferent {'Ġuniverses': 13, 'Ġdisruptions': 12, 'Ġbreakup': 12, 'neys': 12, 'Ġecosystems': 12, 'ases': 12, 'llers': 12, 'artments': 12, 'breaks': 11, 'ses': 11}\n",
      "Ġopportunity {'ĠFrontier': 13, 'Ġafforded': 13, 'ĠProvides': 13, 'ĠProvided': 12, 'giving': 12, 'Ġafford': 12, 'Giving': 11, 'ĠGateway': 11, 'provided': 11, 'ĠProvide': 11}\n",
      "gi {'zilla': 13, 'cigarette': 13, 'ĠManchester': 13, 'Manchester': 12, 'ĠPsychiatry': 12, 'ĠLGBT': 11, 'hhhh': 11, 'Ġhipp': 11, 'ĠDesktop': 11, 'ĠLiverpool': 11}\n",
      "Ġpro {'sponsored': 13, 'Ġoppressed': 12, 'Ġtolerated': 12, 'producing': 12, 'Ġbursting': 12, 'leased': 12, 'Ġdissatisfied': 12, 'goers': 12, 'produced': 12, 'whelming': 11}\n",
      "bl {'Ġrhet': 13, 'ĠHQ': 12, 'Ġ425': 12, 'ĠPink': 12, 'ĠChronic': 12, 'Ġsynagogue': 12, 'Ġ127': 12, 'ĠPhD': 12, 'Ġ268': 12, 'Ġsemantic': 12}\n",
      "zo {'Philadelphia': 13, 'ĠGators': 12, 'Ġsynagogue': 12, 'ĠSlaughter': 12, 'RR': 12, 'cock': 12, 'ĠPhiladelphia': 12, 'ĠDeath': 12, 'baum': 11, 'Death': 11}\n",
      "Ġradio {'Ġinhibitor': 14, 'canon': 13, 'ntax': 12, 'ceptor': 12, 'mere': 11, 'igion': 11, 'Ġcaptive': 11, 'ĠArtificial': 11, 'azel': 11, 'ificial': 11}\n",
      "Ġspace {'claimed': 13, 'Ġswearing': 13, 'Ġprayed': 13, 'Ġpray': 12, 'Ġpraying': 12, 'limited': 11, 'Ġclaiming': 11, 'Ġsworn': 11, 'Ġboasting': 11, 'mediated': 11}\n",
      "Ġprocess {'inspired': 12, 'Ġstimulated': 12, 'Ġengaged': 12, 'Ġdisgusted': 12, 'Ġstimul': 12, 'Ġstimulate': 12, 'Ġcontrolling': 12, 'Ġstimulation': 12, 'infect': 12, 'inducing': 12}\n",
      "Ġunless {'ueless': 13, 'Ġnegligible': 13, 'Ġno': 12, 'Ġcannot': 12, 'Ġingen': 12, 'Ġnil': 12, 'Ġimmutable': 12, 'Ġincomprehensible': 11, 'nob': 11, 'ĠNOT': 11}\n",
      "Ġforever {'Ġbanished': 13, 'prison': 13, 'Ġenslaved': 12, 'Ġprison': 12, 'Ġexiled': 12, 'ĠRemain': 12, 'Ġdoomed': 11, 'ĠPrison': 11, 'Ġimprison': 11, 'Ġimprisonment': 11}\n",
      "Ġdeath {'Ġchiefs': 14, 'athed': 13, 'tale': 13, 'Ġravaged': 12, 'washed': 11, 'Ġgruesome': 11, 'chief': 11, 'Ġhorrors': 11, 'Ġransomware': 11, 'melon': 11}\n",
      "ĠGrav {'PET': 13, 'Ġsheep': 13, 'ĠAircraft': 13, 'ĠSheep': 12, 'ĠPET': 12, 'ĠWisconsin': 11, 'ĠBritain': 11, 'ĠMcMahon': 11, 'ĠGoing': 11, 'ĠLyft': 11}\n",
      "ĠEle {'Ġbattalion': 14, 'munition': 13, 'atoon': 12, 'ĠBattalion': 12, 'herer': 12, 'aird': 12, 'Ġsettlers': 11, 'ĠFranchise': 11, 'Ġfreelance': 11, 'affiliated': 11}\n",
      "pat {'Ġdecap': 14, 'ĠSchultz': 12, 'ĠKKK': 12, '^^': 12, 'ĠChomsky': 12, 'ĠSto': 12, 'ĠNept': 11, 'Ġjailed': 11, 'ĠShut': 11, 'Ġfreeze': 11}\n",
      "ĠOB {'democratic': 12, 'Ġdemocracy': 12, 'Ġlucrative': 12, 'edient': 12, 'Ġdemocratic': 12, 'ailable': 12, 'ossible': 12, 'ocrat': 12, 'legal': 12, 'Ġreusable': 11}\n",
      "balanced {'ĠIntern': 14, 'Intern': 12, 'ĠTenth': 12, 'ĠTH': 12, 'ĠAud': 12, 'ĠSen': 12, 'ĠINTER': 12, 'ĠSamp': 12, 'ĠSidd': 11, 'ãĥ´ãĤ¡': 11}\n",
      "Ġsports {'Ġpredominant': 13, 'ustomed': 13, 'main': 12, 'primary': 12, 'Ġadmin': 12, 'ummy': 12, 'itty': 11, 'Ġmain': 11, 'Ġrarely': 11, 'Ġdominant': 11}\n",
      "ĠDum {'ĠPikachu': 13, 'chin': 12, 'Ġlieutenant': 12, 'opter': 12, 'Joshua': 12, 'Russ': 12, 'ĠLieutenant': 12, 'ĠDustin': 12, 'utenant': 11, 'ĸļ': 11}\n",
      "ĠCru {'boats': 12, 'ĠVector': 12, 'Ġboats': 12, 'vector': 12, 'ocobo': 12, 'cale': 12, 'Ġcable': 12, 'Ġvectors': 12, 'boat': 12, 'Ġvector': 11}\n",
      "ce {'ĠGoddard': 13, 'Ġchuck': 12, 'eor': 12, 'ĠInquis': 12, 'Opp': 12, 'Intern': 12, 'Stan': 12, 'ĠBeans': 12, 'ĠAdventures': 11, 'Ġtamp': 11}\n",
      "mad {'ĠVII': 13, 'ĠYu': 12, 'ĠBenny': 12, 'ĠBelle': 12, 'ĠAmon': 12, 'ĠQuan': 12, 'ĠSeven': 11, 'ĠVIII': 11, 'ĠIII': 11, 'ãĥĳ': 11}\n",
      "Ġfinding {'Ġobstruction': 14, 'Ġobstruct': 13, 'Ġreaff': 12, 'Ġthwart': 12, 'Ġthwarted': 12, 'Ġhinder': 11, 'Ġstemmed': 11, 'Ġinvaded': 11, 'blocking': 11, 'Ġfrustrated': 11}\n",
      "]) {'([': 13, 'Ġ([': 13, '\":[': 12, 'Ġ[': 12, '][': 12, '\"[': 12, 'ack': 11, '=[': 11, \"Ġ'[\": 11, 'Ġ\"[': 11}\n",
      "Ġattent {'hold': 13, 'Ġgripped': 12, 'held': 12, 'Ġsealed': 12, 'Ġgripping': 12, 'holding': 12, 'ĠHeld': 12, 'Ġheld': 11, 'Ġgrasped': 11, 'ĠHold': 11}\n",
      "Ġsemi {'Ġmaid': 13, 'abee': 12, 'Ġgown': 12, 'bp': 12, 'allion': 12, 'ĠPiece': 12, 'maid': 12, 'piece': 11, 'cot': 11, 'aus': 11}\n",
      "exclusive {'Ġprot': 14, 'Ġpro': 13, 'ĠFut': 12, 'ĠGH': 12, 'ĠUlt': 12, 'ĠPro': 11, 'ĠProt': 11, 'Ġsac': 11, 'ãĥĨ': 11, 'PRO': 11}\n",
      ")? {'>(': 14, '=(': 12, 'Ġ\"(': 12, 'Ġ(': 12, '-(': 12, '\"(': 12, '_(': 12, '(': 11, \"Ġ'(\": 11, '+(': 11}\n",
      "guard {'ĠBat': 13, 'ĠSat': 12, 'ĠBi': 12, 'ĠSec': 12, 'ĠIntern': 12, 'ĠInter': 12, 'Bat': 12, 'Ġantip': 11, 'ĠUT': 11, 'ĠBannon': 11}\n",
      "thread {'Ġlamp': 12, 'Ġmicrophone': 12, 'ĠIntern': 12, 'Ġlightsaber': 12, 'ĠSar': 12, 'ĠMic': 12, 'ĠSchn': 12, 'ĠGarc': 12, 'Ġpsychopath': 11, 'ĠLamp': 11}\n",
      "proc {'ĠBean': 13, 'ĠTF': 12, 'FUN': 12, 'ĠFUN': 12, 'Ġtx': 12, 'Adventure': 12, 'ĠAdventure': 11, 'ĠVeh': 11, 'ĠFun': 11, 'ĠPortable': 11}\n",
      "ĠPM {'cular': 12, 'hibition': 12, 'onnaissance': 12, 'ceptor': 12, 'Ġpesticide': 12, 'Ġspores': 12, 'icrobial': 12, 'opter': 11, 'Ġplutonium': 11, 'ydia': 11}\n",
      "ĠAe {'Ġcaval': 12, 'Ġembryos': 12, 'Ġsheep': 12, 'Ġmamm': 12, 'Ġswarm': 12, 'Ġrockets': 12, 'boat': 12, 'RET': 11, 'Ġpeas': 11, 'Ġboats': 11}\n",
      "into {'Ġcloning': 12, 'Ġsucked': 12, 'Ġdoping': 12, 'Ġven': 12, 'Ġintegration': 12, 'sent': 12, 'Ġinserted': 12, 'Ġtransf': 12, 'Ġpouring': 11, 'Ġmerge': 11}\n",
      "gra {'ĠShang': 12, 'ĠSchultz': 12, 'Ġwaist': 12, 'ĠBake': 12, 'Ġcat': 12, 'Ġwiret': 12, 'ĠHamas': 12, 'ĠBat': 12, 'ĠShak': 11, 'Ġtape': 11}\n",
      "Hz {'Ġcannabis': 13, 'ĠMarijuana': 12, 'Ġmarijuana': 12, 'ĠPlaystation': 12, 'Ġfactory': 12, 'ĠLauncher': 12, 'Ġlauncher': 12, 'arijuana': 11, 'Ġsynagogue': 11, 'Ġfactories': 11}\n",
      "][/ {'\":[': 12, 'Ġ[': 12, '([': 12, '-[': 12, '.[': 12, '\"[': 12, '[': 12, 'Ġ([': 12, \"Ġ'[\": 12, ')[': 11}\n",
      "Ġinability {'Error': 13, 'Ġshortcomings': 12, 'errors': 12, 'fail': 12, 'error': 12, 'Ġfailings': 12, 'raints': 11, 'Ġdrawbacks': 11, 'Ġthwarted': 11, 'Problem': 11}\n",
      "Ġexistence {'iminary': 12, 'Ġspurious': 12, 'Ġunconditional': 12, 'Ġpreliminary': 12, 'arlane': 12, 'eless': 12, 'ennial': 11, 'Ġrudimentary': 11, 'Ġhonestly': 11, 'few': 11}\n",
      "Ġconst {'usal': 13, 'Ġvision': 12, 'Ġplumbing': 12, 'Ġsuck': 12, 'Ġlight': 12, 'Ġsensation': 11, 'uture': 11, 'result': 11, 'collar': 11, 'bearing': 11}\n",
      "Ġfree {'Ġletting': 13, 'Ġlets': 12, 'Ġcannot': 12, 'Ġescaped': 12, 'ĠCannot': 12, 'Ġallowing': 12, 'Ġlet': 12, 'Ġcould': 11, 'Ġallowance': 11, 'Ġcouldn': 11}\n",
      "ĠQu {'delete': 13, 'ĠTrooper': 12, 'oslav': 12, 'Ġapplicants': 12, 'immigration': 12, 'Ġinadvert': 12, 'Ġstrap': 12, 'Ġdislike': 11, 'Ġtrooper': 11, 'Ġtroopers': 11}\n",
      "ĠTr {'ofi': 12, 'beer': 12, 'onnaissance': 12, 'axter': 12, 'Ġslang': 12, 'Ġloot': 12, 'igun': 11, 'bike': 11, 'ĠSheep': 11, 'mone': 11}\n",
      "Ġ? {'Should': 12, 'ifling': 12, 'Could': 12, 'who': 12, 'which': 12, 'aii': 12, '¿': 12, 'could': 12, 'Ġcouldn': 11, 'wk': 11}\n",
      "Ġfavor {'Ġlessen': 13, 'Ġreversal': 12, 'Ġdownturn': 12, 'Ġbias': 12, 'posed': 12, 'Ġwaive': 12, 'ĠSwing': 12, 'Ġskewed': 11, 'gradient': 11, 'apse': 11}\n",
      "go {'Ġ134': 12, 'ĠYankee': 12, 'Ġsulfur': 12, 'Ġ116': 12, 'Ġ268': 12, 'ĠDeath': 12, 'Ġ164': 12, 'ĠPay': 12, 'ĠStar': 11, 'Ġ153': 11}\n",
      "ĠUT {'oting': 14, 'ffield': 12, 'ectomy': 12, 'uation': 12, 'xit': 12, 'delete': 12, 'hibition': 11, 'ogging': 11, 'Ġsteril': 11, 'emort': 11}\n",
      "Ġpoint {'Ĝ': 14, 'borne': 13, 'horn': 12, 'ÂŃ': 12, 'introdu': 11, 'uces': 11, 'İ': 11, 'cool': 11, 'breaker': 11, 'cone': 11}\n",
      "ĠBot {'488': 13, '585': 12, '578': 12, '885': 12, '985': 12, '478': 12, '477': 11, '466': 11, 'opter': 11, '588': 11}\n",
      "irin {'ĠKra': 14, 'ĠShiva': 12, 'Ġtc': 12, 'Ġhist': 12, 'ĠKub': 12, 'ĠTTC': 11, 'ĠTurbo': 11, 'Ġtheir': 11, 'ĠCultural': 11, 'Ġcultural': 11}\n",
      "PO {'ĠNaw': 13, 'ĠOy': 13, 'ĠNTS': 12, 'å¤©': 12, 'ĠABS': 12, 'ĠMage': 11, 'ĠAki': 11, 'ĠAW': 11, 'ĠTrent': 11, 'ĠEagles': 11}\n",
      "ĠNil {'Ġtroopers': 14, 'Ġpilots': 12, 'Ġbombers': 12, 'Ġpuppies': 12, 'Ġtrooper': 12, 'Ġfathers': 11, 'ĠSoldiers': 11, 'iod': 11, 'Ġpilot': 11, 'Ġinfants': 11}\n",
      "Ġtent {'aved': 13, 'cum': 12, 'ooked': 12, 'conference': 12, 'knit': 12, 'faced': 11, 'wick': 11, 'ovo': 11, 'ensed': 11, 'involved': 11}\n",
      "Ġunequ {'Ġresembles': 13, 'Ġresembled': 13, 'Ġresemble': 13, 'Ġfateful': 12, 'Ġresembling': 12, 'Ġaffects': 11, 'Ġrecounts': 11, 'Ġunravel': 11, 'Ġaffecting': 11, 'Ġfortunate': 11}\n",
      "Ġfaster {'Ġarising': 13, 'Ġcrawled': 12, 'Ġcorrupted': 12, 'Ġgrowing': 12, 'Ġreborn': 12, 'Ġtransforming': 12, 'ĠMush': 11, 'Ġgrow': 11, 'Ġgrows': 11, 'Ġenhancing': 11}\n",
      "ĠLight {'ĠBalloon': 14, 'Ġlineup': 13, 'Ġcaravan': 12, 'Ġballoon': 12, 'Ġbiking': 11, 'Ġtrooper': 11, 'Ġtrio': 11, 'ĠRobo': 11, 'Ġsquadron': 11, 'Ġsimulator': 11}\n",
      "ibi {'ĠKlaus': 13, 'Ġkicks': 12, 'ĠFaw': 12, 'Ġscares': 12, 'Ġglare': 12, 'oad': 12, 'Ġkicked': 11, 'Ġpunches': 11, 'Ġkicker': 11, 'Ġbruises': 11}\n",
      "mp {'Ġ232': 12, 'Ġ266': 12, 'Ġ249': 12, 'Ġpav': 12, 'Ġ239': 12, 'ĠBooker': 12, 'Ġ268': 12, 'Iowa': 12, 'Ġ267': 12, 'Ġ237': 11}\n",
      "ima {'ĠHatch': 14, 'ĠSabbath': 14, 'ĠShogun': 12, 'RPG': 12, 'icket': 11, 'ĠDowns': 11, 'Ġlame': 11, 'ĠRoman': 11, 'Ġbronze': 11, 'orc': 11}\n",
      "ĠProc {'ãĤ¤ãĥĪ': 12, 'uania': 12, 'ĠRica': 12, 'idon': 12, '459': 12, 'lesh': 12, 'ibia': 12, 'Ġpassively': 12, 'successfully': 12, 'VIDIA': 11}\n",
      "Ġproper {'Ġdissatisfied': 13, 'Ġguide': 12, 'Ġunpaid': 12, 'Ġsatisfies': 12, 'Ġembodies': 11, 'Ġunrelated': 11, 'Ġmediated': 11, 'Ġforbidden': 11, 'Ġunaccompanied': 11, 'plement': 11}\n",
      "ĠHoll {'ãĥ¼ãĥ³': 13, 'oscope': 12, 'rador': 12, 'mission': 12, 'ren': 12, 'chel': 11, 'ãĥ¼': 11, 'atorium': 11, 'Ġpoetry': 11, 'ĠCommercial': 11}\n",
      "Ġloudly {'Ġsinging': 13, 'Ġsings': 13, 'Ġsing': 12, 'Ġexclaimed': 12, 'Ġsang': 12, 'Ġsung': 12, 'Ġexclaim': 11, 'Ġlament': 11, 'Ġshouts': 11, 'Ġmentioned': 11}\n",
      "Ġentrance {'lucent': 12, 'Ġproverbial': 12, 'Ġbarred': 12, 'Ġblackout': 12, 'Ġsilenced': 12, 'Ġbarring': 12, 'Ġundisclosed': 12, 'Ġunderrated': 11, 'Ġobscure': 11, 'Ġprohibiting': 11}\n",
      "Ġunrestricted {'Ġallowing': 13, 'Ġallows': 13, 'ĠAllows': 12, 'Allow': 12, 'Ġallowed': 12, 'Ġpermits': 12, 'Ġallow': 11, 'allows': 11, 'Ġallowable': 11, 'Ġpermitting': 11}\n",
      "classic {'ĠCont': 14, 'Cont': 13, 'ĠET': 12, 'ĠSep': 12, 'ĠMas': 12, 'ĠFa': 11, 'ĠTH': 11, 'ĠPAR': 11, 'ĠRip': 11, 'ĠJan': 11}\n",
      "Ġir {'Ġseemingly': 13, 'imentary': 12, 'agon': 12, 'bley': 12, 'Ġalike': 12, 'Ġfetal': 11, 'arden': 11, 'standard': 11, 'atars': 11, 'iji': 11}\n",
      ";} {'({': 13, '{{': 12, 'Ġ{\\\\': 12, ':{': 12, '{\\\\': 12, 'Ġ{{': 11, 'Ġ({': 11, '){': 11, '}{': 11, '={': 11}\n",
      "ĠAW {'government': 12, 'Ġsovereign': 12, 'Ġsovereignty': 12, 'Ġdictator': 12, 'ographers': 12, 'Ġdemocracies': 12, 'ignty': 12, 'ĠCameron': 11, 'vernment': 11, 'Ġpermissions': 11}\n",
      "Ġexternally {'Ġunspecified': 13, 'Ġunnoticed': 13, 'Ġunregulated': 12, 'ĠRegardless': 12, 'Ġsynchronized': 12, 'respective': 12, 'Ġknowledgeable': 11, 'Ġunaffected': 11, 'Regardless': 11, 'variable': 11}\n",
      "rez {'Mass': 13, 'Hunter': 12, 'ĠTelevision': 12, 'ĠSatoshi': 12, 'ĠYouth': 12, 'alsh': 11, 'GI': 11, 'ĠMass': 11, 'ash': 11, 'ĠCell': 11}\n",
      "Ġbandwidth {'mediated': 12, 'Ġoppression': 12, 'Ġceiling': 12, 'limit': 12, 'Ġconstraint': 12, 'ĠCompensation': 12, 'Ġslavery': 11, 'independence': 11, 'limited': 11, 'Ġaffordability': 11}\n",
      "register {'ĠFile': 13, 'ARE': 12, 'ĠOrb': 12, 'ĠEvent': 12, 'ĠID': 12, 'ĠMust': 12, 'ĠGalaxy': 11, 'ĠARE': 11, 'ĠBat': 11, 'ĠEco': 11}\n",
      "Ġalive {'ĠSurvive': 13, 'Ġforgotten': 12, 'Ġforgetting': 12, 'ĠInclude': 12, 'Ġforget': 12, 'Ġsurvived': 12, 'ĠForgotten': 11, 'Ġsurvive': 11, 'Ġsurvives': 11, 'Ġdisappears': 11}\n",
      "ĠVia {'Ġfaked': 12, '199': 12, 'Ġpurified': 12, 'dale': 12, '197': 12, 'ĠPikachu': 12, 'omez': 12, 'Ġpoking': 11, 'Ġpoked': 11, 'Ġemailed': 11}\n",
      "]- {\"Ġ'[\": 13, '([': 12, '=[': 12, 'Ġ[': 12, 'Ġ([': 12, '\":[': 12, '\"[': 11, 'Ġ\"[': 11, 'Ġ<[': 11, '>[': 11}\n",
      "gard {'Ġsuc': 12, 'ĠDis': 12, 'ĠViet': 12, 'Ġant': 12, 'ĠCath': 12, 'arenthood': 12, 'Ġthyroid': 12, 'Ġres': 12, 'ĠGob': 12, 'ĠAnt': 11}\n",
      "gor {'Ġ166': 12, 'Ġ172': 12, 'Ġcrus': 12, 'ĠThanksgiving': 12, 'Ġ163': 12, 'ĠAshes': 11, 'Ġ167': 11, 'Ġdism': 11, 'Ġ173': 11, 'ashed': 11}\n",
      "Ġpol {'fiction': 13, 'ission': 13, 'iation': 12, 'breaking': 12, 'Ġfracture': 11, 'broken': 11, 'ĠBroken': 11, 'sex': 11, 'abetes': 11, 'Turn': 11}\n",
      "ĠTowers {'ĠGuy': 13, 'minist': 13, 'guy': 12, 'mann': 12, 'ĠLavrov': 12, 'ĠJihad': 11, 'ĠGuinea': 11, 'ĠAustralians': 11, 'afi': 11, 'ĠLumpur': 11}\n",
      "ĠBund {'Ġliquor': 12, 'username': 12, 'afi': 12, 'Ġvehicle': 12, 'Ġusername': 12, 'SHIP': 12, 'arson': 12, 'amia': 12, 'Ġautomakers': 11, 'ilo': 11}\n",
      "ub {'Nut': 13, 'ĠNut': 12, 'ĠStatus': 12, 'ĠNir': 12, 'Ear': 12, 'Ġstatus': 11, 'ĠRhino': 11, 'Ġmalnutrition': 11, 'Ġhang': 11, 'Ġhanging': 11}\n",
      "ĠMar {'Ġmorale': 12, 'edience': 12, 'Ġmillennial': 12, 'ilion': 12, 'etition': 12, 'collection': 12, 'Ġpatron': 12, 'uristic': 12, 'ipient': 11, 'telling': 11}\n",
      "tail {'Ġbat': 14, 'ĠBat': 13, 'Bat': 12, 'ĠCrist': 12, 'Ġgri': 11, 'iamond': 11, 'ĠKoh': 11, 'Ïĥ': 11, 'ĠSB': 11, 'ĠLOG': 11}\n",
      "comm {'ĠUE': 13, 'ĠAP': 13, 'ĠNAT': 12, 'Ġpot': 12, 'ĠME': 12, 'ĠSU': 11, 'ĠSu': 11, 'ĠPot': 11, 'ĠFE': 11, 'Ġrat': 11}\n",
      "sid {'ĠMatth': 13, 'Ġbung': 13, 'Ġhurd': 12, 'Ġpitching': 12, 'ĠBung': 11, 'Ġpot': 11, 'ĠCind': 11, 'ĠSynd': 11, 'bub': 11, 'Buzz': 11}\n",
      "Ġpseud {'brids': 13, 'zik': 12, '469': 12, 'phony': 12, '468': 11, '526': 11, 'owners': 11, '523': 11, 'inition': 11, '560': 11}\n",
      "xc {'772': 13, 'Ġ411': 12, 'Ġ409': 12, '-----------': 11, '779': 11, '808': 11, '773': 11, '778': 11, '411': 11, '760': 11}\n",
      "Ġmaterial {'ivil': 12, 'opian': 12, 'Southern': 12, 'Ġcoronary': 12, 'outher': 12, 'ĠSouthern': 12, 'Ġprimitive': 11, 'Ġcomprised': 11, 'Ġunpaid': 11, 'Ġconnector': 11}\n",
      "Ġ* {'sponsored': 13, '772': 12, 'asus': 12, 'ÂłÂłÂłÂłÂłÂłÂłÂł': 12, '478': 12, 'lus': 11, 'Ġinhibition': 11, 'ospons': 11, 'ĠPamela': 11, '774': 11}\n",
      "Ġtra {'Â½': 13, 'Ġerupted': 12, 'Ġlicking': 12, 'Ġlick': 12, 'aling': 12, 'eling': 12, 'imentary': 11, 'athed': 11, 'ĠHorus': 11, 'pled': 11}\n",
      "Ġmultiple {'iations': 14, 'Ġemitting': 13, 'verning': 12, 'Ġemits': 12, 'elected': 12, 'canon': 11, 'ounding': 11, 'owed': 11, 'according': 11, 'Ġsmells': 11}\n",
      "Ġinterf {'Ġentrances': 12, 'Ġspores': 12, 'onia': 12, 'rely': 12, 'ependence': 12, 'always': 12, 'rawling': 12, 'ortality': 12, 'Ġcontinual': 11, 'oned': 11}\n",
      "Ġloc {'ceptor': 12, '548': 12, '949': 12, '549': 12, '517': 12, '987': 12, '047': 11, '519': 11, '019': 11, 'atican': 11}\n",
      "Ġpar {'Classic': 12, 'classic': 12, 'ocrine': 12, 'Ġamateur': 12, 'Meta': 12, 'Ġmetaphysical': 11, 'inals': 11, 'ioxid': 11, 'sighted': 11, 'conference': 11}\n",
      "âĢ {'aura': 14, 'eanor': 12, 'aurus': 12, 'issors': 12, 'Ġatheism': 12, 'ŃĶ': 11, 'obia': 11, '¶ħ': 11, '¿½': 11, 'Ġruth': 11}\n",
      "ĠAP {'ihadi': 12, 'gow': 12, 'ollower': 12, 'mission': 12, 'oting': 12, 'crow': 12, 'digital': 11, 'Ġliteracy': 11, 'potion': 11, 'etition': 11}\n",
      "Ġstrict {'Ġheld': 13, 'Ġholds': 12, 'held': 12, 'Ġholding': 12, 'holding': 12, 'ĠHolding': 11, 'Ġhold': 11, 'Limited': 11, 'ĠLimited': 11, 'Ġlimited': 11}\n",
      "tu {'ĠEs': 12, 'Ġoccult': 12, 'Ġmic': 12, 'ĠENT': 12, 'rist': 12, 'ĠQue': 12, 'Ġche': 11, 'Santa': 11, 'ĠSanta': 11, 'uy': 11}\n",
      "Ġsem {'aeus': 14, 'acus': 13, 'Bee': 12, 'luent': 11, 'Ġgown': 11, 'acted': 11, 'Ġtreaties': 11, 'ilogy': 11, 'emet': 11, 'Ġbracelet': 11}\n",
      "Ġmode {'return': 13, 'Ġtransition': 12, 'loading': 12, 'exit': 12, 'Ġreturn': 12, 'Ġicon': 11, 'deen': 11, 'terrorist': 11, 'Ġtoxin': 11, 'ee': 11}\n",
      "Ġtun {'Ġbooze': 12, 'Ġdynasty': 12, 'Ġemissions': 12, 'ilia': 12, 'Ġastronomical': 12, 'Ġsuperstar': 12, 'Ġmonarch': 11, 'Ġgorge': 11, 'Ġsparkling': 11, 'ĠPepsi': 11}\n",
      "Ġlest {'ĠBeware': 12, 'Ġthreaten': 12, 'isites': 12, 'Ġsidebar': 12, 'icter': 11, 'humane': 11, 'Ġamulet': 11, 'Ġantidote': 11, 'Ġdesired': 11, 'Ġbeware': 11}\n",
      "Ġelsewhere {'Ġreciprocal': 12, 'rocal': 12, 'Various': 12, 'other': 12, 'Ġsetbacks': 11, 'Ġmovements': 11, 'Ġvarious': 11, 'ĠVarious': 11, 'Ġmigrating': 11, 'Ġdiffering': 11}\n",
      "ĠVarious {'boats': 13, 'alions': 13, 'lves': 12, 'ĠDolphins': 12, 'ilers': 11, 'Ġboats': 11, 'Ġbombers': 11, 'ĠTexans': 11, 'olphins': 11, 'iations': 11}\n",
      "ĠLa {'members': 13, 'opter': 12, 'ozy': 12, 'itime': 12, 'ifax': 11, 'Ġmaritime': 11, 'Ġgentleman': 11, 'itty': 11, 'Ġcomrade': 11, 'ãĥ¼': 11}\n",
      "misc {'ĠShiva': 12, 'ĠAssy': 12, 'ĠSQ': 12, 'Ġlegs': 12, 'ĠSpark': 12, 'ĠLunar': 11, 'Ġslender': 11, 'GL': 11, 'ĠGL': 11, 'ĠSchl': 11}\n",
      "poor {'ĠSadly': 13, 'Ġbash': 12, 'Ġsadly': 12, 'Sadly': 12, 'ĠSlam': 12, 'Unfortunately': 12, 'Ġunfortunately': 11, 'Ġcre': 11, 'ĠRash': 11, 'ĠUnfortunately': 11}\n",
      "ĠJew {'sequence': 12, 'itud': 12, 'period': 12, 'Role': 12, 'Ġbasis': 12, 'Ġcontingent': 11, 'animal': 11, 'atomic': 11, 'role': 11, 'spot': 11}\n",
      "ĠDy {'rius': 13, 'rost': 12, 'onnaissance': 12, 'ittance': 12, 'ania': 11, 'ida': 11, 'idding': 11, 'Ship': 11, 'irmation': 11, 'ĠMontana': 11}\n",
      "Ġdef {'gay': 14, 'genic': 12, 'omial': 12, 'ormon': 12, 'ormonal': 11, 'unity': 11, 'erial': 11, 'pieces': 11, 'Ġcharitable': 11, 'struction': 11}\n",
      "vic {'rypt': 13, 'Ġvendor': 13, 'Ġbooze': 12, 'ĠXbox': 12, 'ĠEssex': 11, 'Ġchuck': 11, 'Ġvendors': 11, 'ĠCruiser': 11, 'Ġspices': 11, 'ĠSonic': 11}\n",
      "fun {'Ġbean': 12, 'ĠShoot': 12, 'ĠLaunch': 12, 'ĠLaun': 12, 'ĠSut': 12, 'Ġshoot': 12, 'ĠBean': 11, 'Ġtatt': 11, 'shoot': 11, 'UT': 11}\n",
      "ĠIR {'alloween': 13, 'Ġsupremacist': 12, 'Ġminiature': 12, 'uberty': 12, 'Ġtribal': 12, 'imentary': 12, 'uncle': 11, 'ieval': 11, 'Ġbadges': 11, 'imately': 11}\n",
      "gen {'ĠeSports': 12, 'ĠBean': 12, 'ĠStephenson': 12, 'ĠChips': 12, 'ĠGoddard': 12, 'Ġchassis': 12, 'ĠShepard': 12, 'ĠAi': 11, 'Ġip': 11, 'ĠPCs': 11}\n",
      "ger {'ĠMarijuana': 13, 'Ġmarijuana': 12, 'ĠAre': 12, 'Ġcannabis': 12, 'ARE': 12, 'ĠAm': 12, 'ĠARE': 11, 'ĠIs': 11, 'Ġam': 11, 'ombat': 11}\n",
      "ĠParent {'ĠScripture': 13, 'ĠÂłĠÂłĠÂłĠÂł': 12, 'ĠLucia': 12, 'Ġstraps': 12, 'Ġaboard': 12, 'Ġstrap': 12, 'Ġveterinarian': 11, 'Ġcryptography': 11, 'ocobo': 11, 'Ġauthorization': 11}\n",
      "Ġat {'NULL': 12, 'Ġgaping': 12, 'Ġdismal': 12, 'åħī': 12, 'athing': 12, 'mere': 11, 'atars': 11, 'boarding': 11, '920': 11, '970': 11}\n",
      "rum {'Ġnightclub': 12, 'desktop': 12, 'akespeare': 12, 'Ġemotionally': 12, 'ĠShowtime': 12, 'ĠShakespeare': 12, 'ĠDomestic': 11, 'Netflix': 11, 'ĠEntertainment': 11, 'ĠFriday': 11}\n",
      "Ġ[ {'opian': 13, 'erning': 12, 'boarding': 12, 'ceptor': 12, 'arton': 12, 'cox': 11, '478': 11, 'Streamer': 11, 'oslav': 11, 'Ġcaval': 11}\n",
      "console {'Ġtut': 13, 'ĠDJ': 13, 'FI': 12, 'Ġnm': 11, 'ĠIntern': 11, 'ĠDJs': 11, 'ãĤ»': 11, 'ĠScot': 11, 'å¯': 11, 'Intern': 11}\n",
      "Ġchar {'ĠLegions': 14, 'Ġendless': 13, 'Ġwholly': 13, 'Ġexternally': 11, 'Ġconsoles': 11, 'erous': 11, 'Ġemission': 11, 'atible': 11, 'consuming': 11, 'Ġinfinite': 11}\n",
      "Ġpocket {'Ġbitten': 15, 'Ġbiting': 14, 'Ġbites': 12, 'Ġbite': 11, 'Ġrelie': 11, 'Ġcanned': 11, 'bite': 11, 'Ġsuck': 11, 'cool': 10, 'Ġkitten': 10}\n",
      "su {'Ġdunk': 13, 'ĠDungeons': 12, 'Ġcrank': 12, 'Ġturbines': 12, 'Ġchuck': 11, 'Ġbuttocks': 11, 'Ġmixer': 11, 'Ġsuck': 11, 'ĠSnape': 11, 'ĠSke': 11}\n",
      "ctrl {'Ġintern': 14, 'ĠIntern': 13, 'Intern': 13, 'Ġcr': 11, 'Ġsched': 11, 'Ġclar': 11, 'ĠWik': 11, 'Ġthumbs': 11, 'ãĥ´ãĤ¡': 11, 'ĠLic': 11}\n",
      "Ġquick {'got': 13, 'aley': 12, 'gotten': 12, 'Son': 12, 'get': 12, 'Ġgotten': 12, 'hp': 11, 'getting': 11, 'chan': 11, 'Ġgot': 11}\n",
      "soever {'ĠNo': 13, 'Ġno': 13, 'No': 12, 'no': 12, 'gest': 12, 'Ġmost': 11, 'ĠAnyway': 11, 'Ġanyway': 11, 'ĠNone': 11, 'Ġnever': 11}\n",
      "ĠBast {'Ġpatron': 13, 'Ġhomicide': 12, 'Ġpatrons': 12, 'Ġvitro': 12, 'genre': 12, 'otaur': 12, 'adiator': 11, 'Ġvisitor': 11, 'Ġsubscriber': 11, 'resident': 11}\n",
      "bre {'ãĥ´ãĤ¡': 12, '367': 12, 'ĠCthulhu': 12, 'Ġlich': 12, 'ĠLean': 12, 'ĠAnti': 11, 'ĠClar': 11, 'ĠBeta': 11, 'ĠGuinness': 11, 'Dig': 11}\n",
      "Ġder {'eson': 12, 'claimed': 12, 'Ġprisoner': 12, 'Ġfeared': 12, 'girls': 12, 'wordpress': 11, 'istine': 11, 'missible': 11, 'chemist': 11, 'Ġprisoners': 11}\n",
      "-) {'.(': 13, 'Ġ((': 13, '((': 12, 'Ġ(': 12, 'Ġ(-': 12, 'Ġ[(': 12, ')(': 12, 'Ġ``(': 11, '=(': 10, '(': 10}\n",
      "ĠBak {'ido': 13, 'atus': 13, 'ahu': 12, 'inea': 12, 'encia': 12, 'edin': 11, 'inia': 11, 'iton': 11, 'usa': 11, 'itus': 11}\n",
      "Ġtem {'escent': 12, 'oking': 12, 'Ġdescendant': 12, 'uberty': 12, 'ormonal': 12, 'ocrine': 11, 'lit': 11, 'Ġvegetarian': 11, 'rophic': 11, 'gay': 11}\n",
      "Ġdial {'generated': 13, 'eling': 12, 'Ġoverloaded': 12, 'activated': 11, 'Ø©': 11, 'Ġgeneration': 11, 'generation': 11, 'ixed': 11, 'Ġprimed': 11, 'ilia': 11}\n",
      "Ġintegrity {'Ġdepends': 13, 'Ġdepended': 13, 'Ġdepend': 12, 'Ġdepending': 12, 'depending': 12, 'ĠDepending': 11, 'Ġtrusts': 11, 'Ġtrusting': 11, 'Ġrelies': 10, 'Nor': 10}\n",
      "ĠMer {'uko': 13, 'ĠWitnesses': 13, 'Ġhelicopters': 12, 'Ġnearly': 12, 'Ġteams': 11, 'ĠSkype': 11, 'oky': 11, 'Ġwitnesses': 11, 'Ġcoral': 11, 'ĠTeams': 11}\n",
      "Ġut {'Ġemission': 12, 'Ġemitted': 12, 'Ġvisas': 12, 'isites': 12, 'Ġemissions': 12, 'Ġairborne': 12, 'ntax': 12, 'Ġcaptcha': 11, 'atars': 11, 'elia': 11}\n",
      "ĠDem {'idon': 13, 'Â½': 13, 'Ġlender': 12, 'Ġcreditor': 11, 'isol': 11, 'Ġ309': 11, 'Ġlenders': 11, 'Ġbackers': 11, 'bringer': 11, '609': 11}\n",
      "Ġgen {'Ġappliances': 13, 'berries': 12, 'Ġappliance': 12, 'insky': 11, 'Ġenthusiast': 11, 'unit': 11, 'brids': 11, 'Ġoperators': 11, 'bies': 11, 'Ġfleets': 11}\n",
      "Ġnon {'Ġfluent': 12, 'borne': 12, 'lite': 12, 'laden': 12, 'loo': 12, 'Ġdissatisfied': 11, 'Ġvalley': 11, 'Ġglowing': 11, 'global': 11, 'Ġbenevolent': 11}\n",
      "ĠFire {'ologne': 13, 'CENT': 12, 'waukee': 12, 'ellation': 12, 'ĠCamden': 12, 'arcer': 11, 'dose': 11, 'ntax': 11, 'Ġsimul': 11, 'Ġvaccination': 11}\n",
      "Ġanyway {'asured': 13, 'Ġaddicted': 12, 'Ġamazing': 12, 'Ġaddictive': 12, 'Ġmeasurable': 11, 'Ġsinful': 11, 'Ġphysi': 11, 'Ġincomprehensible': 11, 'Ġexperimented': 11, 'Ġsentient': 11}\n",
      "ĠAy {'Ġmolecule': 12, 'Ġtribal': 12, 'Ġmolecules': 12, 'Ġcommuter': 12, 'ikers': 12, 'Ġcommuters': 11, 'ĠRiders': 11, 'SHIP': 11, 'Ġbicycles': 11, 'Ġbicycle': 11}\n",
      "Ġ&& {'Ġempowered': 13, 'ceptive': 13, 'Ġbenevolent': 12, 'Ġempowering': 12, 'Ġauthorized': 11, 'Ġempower': 11, 'ols': 11, 'powered': 11, 'Ġwise': 11, 'chard': 11}\n",
      "tar {'ĠGuant': 13, 'ĠAP': 12, 'ĠSusp': 12, 'Ġap': 12, 'Ġtamp': 12, 'Ġscar': 11, 'Ġip': 11, 'iping': 11, 'ĠBat': 11, 'ĠIP': 11}\n",
      "Ġacross {'Ġsprawling': 14, 'Ġstaggering': 12, 'Ġflowing': 12, 'Ġcommuting': 12, 'rawl': 12, 'Ġcrawling': 11, 'rawling': 11, 'Ġroaming': 11, 'Ġsailing': 11, 'Ġrunning': 11}\n",
      "Ġfucking {'ĠDestroy': 13, 'Ġdemol': 12, 'olition': 12, 'Ġdemolition': 12, 'Ġdestroy': 12, 'Ġdestroys': 11, 'Destroy': 11, 'Ġabolished': 11, 'Ġamateur': 11, 'Ġdestroying': 11}\n",
      "cre {'ĠConsumer': 13, 'ĠSatoshi': 12, 'Consumer': 12, 'Hyp': 12, 'hyp': 12, 'ĠSin': 11, 'ĠErr': 11, 'Cl': 11, 'ISSION': 11, 'ĠDiss': 11}\n",
      "Ġcommercial {'Ġunemployed': 13, 'Ġunauthorized': 12, 'Ġunemployment': 12, 'Ġuninterrupted': 11, 'Ġunsustainable': 11, 'Ġunpaid': 11, 'Ġfearful': 11, 'ither': 11, 'liness': 11, 'Ġunknown': 11}\n",
      "Ġwider {'Stretch': 12, 'retch': 12, 'Ġstretching': 12, 'Ġstretch': 12, 'ĠStretch': 12, 'Ġspacing': 12, 'Ġdistribut': 11, 'Ġdiffusion': 11, 'GGGG': 11, 'Ġextending': 11}\n",
      "Ġmon {'aternity': 12, 'Ġbenevolent': 12, 'erning': 12, 'Ġglued': 12, 'bred': 12, 'paying': 12, 'paid': 11, 'Ġcompensated': 11, 'Ġunpaid': 11, 'ivia': 11}\n",
      "ins {'ĠBatman': 13, 'Batman': 13, 'Ġignor': 12, 'ĠVlad': 12, 'ĠSod': 11, 'ĠBuddha': 11, 'ĠAssy': 11, 'Chip': 11, 'Ġtoilet': 11, 'David': 11}\n",
      "poll {'ãĤ¿': 13, 'Ġchrist': 12, 'Ġsensors': 12, 'ĠCHRIST': 12, 'Sensor': 11, 'christ': 11, 'tch': 11, 'Found': 11, 'Ġdifficult': 11, 'ĠToxic': 11}\n",
      "Ġbeyond {'Ġconcerned': 12, 'Ġfraught': 12, 'Ġcontinues': 12, 'cerned': 12, 'ĠContin': 11, 'Ġcontinuing': 11, 'Ġunprotected': 11, 'Ġinnoc': 11, 'ĠContinued': 11, 'Ġcontinue': 11}\n",
      "Ġall {'Ġunpaid': 12, 'Ġbarren': 12, 'imov': 12, 'Ġdissatisfied': 12, 'Ġforbidden': 11, 'imentary': 11, 'ibu': 11, 'bye': 11, 'axter': 11, 'Ġsorely': 11}\n",
      "Ġe {'ĠIbid': 13, 'ĠStrait': 12, 'electric': 12, 'sov': 12, 'ĠPCIe': 11, 'earable': 11, 'opian': 11, 'ĠSiberian': 11, '========': 11, 'ĠPacific': 11}\n",
      "Ġsecret {'sponsored': 13, 'Ġskirts': 12, 'iated': 12, 'funded': 12, 'Ġunmanned': 12, 'Ġskirt': 11, 'Ġunanswered': 11, 'eded': 11, 'Ġfluent': 11, 'oided': 11}\n",
      "Ġloud {'Ġexclaim': 12, 'Ġcrying': 12, 'Ġsings': 12, 'Ġexclaimed': 12, 'Ġsing': 11, 'Ġcried': 11, 'Ġswearing': 11, 'Ġmoaning': 11, 'Ġsinging': 11, 'Ġmoan': 11}\n",
      "Ġas {'Ġdetectable': 12, 'Ġobnoxious': 12, 'Ġferocious': 12, 'Ġmiserable': 12, 'earable': 12, 'Ġdismal': 12, 'Ġunwelcome': 11, 'Ġwearable': 11, 'usable': 11, 'Ġfearsome': 11}\n",
      "ra {'ĠXi': 12, 'xml': 12, 'Pot': 12, 'chi': 12, 'ĠFinch': 12, 'ch': 11, 'ĠGuru': 11, 'olar': 11, 'ĠJaw': 11, 'NJ': 11}\n",
      "Details {'ĠNarr': 13, 'Ġsq': 12, 'ĠNak': 12, 'Ý': 12, 'ß': 11, 'ì': 11, 'ðŁ': 11, 'Mc': 11, 'Ġmc': 11, 'ĠPict': 11}\n",
      "Ġstuff {'fee': 13, 'chemy': 12, 'Ġferocious': 12, 'asuring': 12, 'ĠMasonic': 12, 'ahime': 11, 'naires': 11, 'Ġchiefs': 11, 'Ġmetaphysical': 11, 'Ġhormone': 11}\n",
      "Ġlevel {'Ġrestoring': 13, 'Ġculminating': 12, 'Ġrestoration': 12, 'Ġrestores': 12, 'Ġrestored': 11, 'Ġculminated': 11, 'raising': 11, 'Ġrestore': 11, 'puted': 11, 'puting': 11}\n",
      "Ġlack {'error': 12, 'Error': 12, 'Ġdement': 12, 'Ġfrustration': 12, 'Ġfrustrated': 12, 'Ġdeceive': 11, 'Ġthwart': 11, 'Ġperplex': 11, 'Ġerror': 11, 'errors': 11}\n",
      "us {'Bat': 13, 'Ġbats': 12, 'Ġdarn': 12, 'Ġbat': 11, 'Ġintox': 11, 'ĠTasmania': 11, 'juven': 11, 'ĠBat': 11, 'Ġlake': 11, 'Star': 11}\n",
      "Ġ@ {'ãĥ¼': 12, 'liam': 12, 'backer': 12, 'Ġbuzzing': 12, 'feed': 11, '´': 11, 'lord': 11, 'offer': 11, 'estation': 11, 'Ġdissatisfied': 11}\n",
      "Ġbe {'may': 13, 'ĠMAY': 13, 'Ġmay': 12, 'May': 11, 'must': 11, 'Must': 11, 'ĠMUST': 11, 'ĠMight': 11, 'ĠMay': 11, 'ĠMust': 11}\n",
      "Ġanti {'aled': 13, 'sponsored': 13, 'iliated': 12, 'Ġshrouded': 11, 'ustomed': 11, 'alion': 11, 'encrypted': 11, 'dominated': 11, 'generated': 11, 'Ġarmoured': 11}\n",
      "cum {'ĠTasmania': 12, 'ĠEmperor': 12, 'Ġcelestial': 12, 'Ġemperor': 12, 'Ġbean': 11, 'ĠDorothy': 11, 'ĠDay': 11, 'ĠDemocracy': 11, 'ĠHomeland': 11, 'ĠEarth': 11}\n",
      "kos {'Ġdh': 12, 'Ġnud': 12, 'ĠCth': 12, 'ĠAJ': 12, 'Ġbash': 11, 'ĠBor': 11, 'ĠSN': 11, 'ĠWW': 11, 'ĠFY': 11, 'Ġbisc': 11}\n",
      "Ġtunnel {'obia': 12, 'Ġallergy': 12, 'ophobia': 12, 'Ġinhibition': 12, 'smoking': 12, 'minist': 12, 'hibition': 11, 'ĠBihar': 11, 'Ġanimosity': 11, 'terror': 11}\n",
      "Ġalone {'south': 13, 'ĠAmnesty': 12, 'Ġnotwithstanding': 12, 'uin': 12, 'ross': 11, 'ĠBeyond': 11, 'contained': 11, 'Ġsideways': 11, 'ĠAcross': 11, 'Across': 11}\n",
      "\"] {'[\"': 12, 'Ġ[\"': 12, 'ovation': 12, \"['\": 12, \"Ġ['\": 12, 'shift': 12, 'auld': 11, 'Ġ[': 11, '\"[': 11, '\":[\"': 11}\n",
      "iro {'Qaeda': 12, 'ĠInk': 12, 'ĠCisco': 12, 'Dub': 12, 'ĠClash': 12, 'Ġdissenting': 11, 'razen': 11, 'ĠPis': 11, 'Nap': 11, 'ĠTrent': 11}\n",
      "Ġac {'ifled': 12, 'ariat': 12, 'leased': 12, 'athing': 12, 'Ġcomplimentary': 12, 'Ġvain': 11, 'ansom': 11, 'eling': 11, 'Ġwretched': 11, 'Ġoath': 11}\n",
      "Ġmemory {'Ġreservoir': 13, 'Ġrepositories': 12, 'container': 12, 'Ġcached': 12, 'Ġconfined': 11, 'Ġrepository': 11, 'Ġsanctuary': 11, 'Ġconfines': 11, 'Ġrelic': 11, 'Ġcontainer': 11}\n",
      "Ġdeeper {'Ġdug': 12, 'dig': 12, 'Ġdig': 12, 'Ġsprawling': 12, 'Ġbranching': 12, 'Ġecc': 11, 'Dig': 11, 'Ġnipple': 11, 'Ġmig': 11, 'Ġmultic': 11}\n",
      "ho {'ĠSri': 12, 'ĠGalaxy': 12, 'ĠKazakhstan': 12, 'éĹ': 12, 'Ġ124': 12, 'ĠScy': 12, 'Ġmisdemeanor': 11, 'Thor': 11, 'ĠPAL': 11, 'Ġthor': 11}\n",
      "v {'ĠIntern': 12, 'ĠPot': 12, 'Intern': 12, 'ĠAthletics': 12, 'Ġpot': 12, 'Ġintern': 11, 'ĠNut': 11, 'EEK': 11, 'Pot': 11, 'ĠPeer': 11}\n",
      "strip {'Ġwitches': 13, 'Ġdevil': 12, 'Ġpav': 12, 'Ġindecent': 12, 'oliath': 11, 'Ġwitchcraft': 11, 'Ġmassac': 11, 'ĠWitch': 11, 'ĠAngels': 11, 'Ġlightsaber': 11}\n",
      "ĠLy {'Ġpigs': 13, 'ombies': 12, 'icidal': 12, 'Ġminers': 12, 'Ġsod': 11, 'Lenin': 11, 'olini': 11, 'ifling': 11, 'resso': 11, 'ĠZombies': 11}\n",
      "Deep {'ĠPAT': 13, 'ĠSprint': 12, 'ĠStab': 12, 'ĠLCS': 12, 'Ġdecomp': 12, 'Ġpat': 11, 'ĠMort': 11, 'Ġoffline': 11, 'Ġsprint': 11, 'Ġpenn': 11}\n",
      "ĠMarch {'night': 13, 'imental': 13, 'ilion': 12, 'Night': 11, 'Ġnights': 11, 'Ġnight': 11, 'Ġafternoon': 11, 'Ġnightly': 11, 'noon': 11, 'romptu': 11}\n",
      "balance {'ĠIntern': 13, 'Intern': 12, 'Sec': 12, 'ĠSen': 12, 'ĠFeb': 11, 'Jer': 11, 'Ġneck': 11, 'ĠFE': 11, 'ĠSec': 11, 'Ġbur': 11}\n",
      "pb {'ĠMd': 12, 'Ġ*': 12, 'ĠCup': 12, 'ĠWho': 12, 'Euro': 11, 'Who': 11, '*': 11, 'ĠIntern': 11, 'ĠWHO': 11, 'ĠHamas': 11}\n",
      "Ġloop {'ÂŃ': 13, '19': 13, '20': 12, '519': 12, '/-': 11, 'ĠÂŃ': 11, 'Ĵ': 11, 'Pacific': 11, '¶ħ': 11, 'ormon': 11}\n",
      "iere {'itability': 13, 'ularity': 13, 'intensity': 12, 'cular': 11, 'eworthy': 11, 'idious': 11, 'BILITIES': 11, 'Ġintensity': 11, 'atibility': 11, 'itism': 11}\n",
      "plug {'ĠRJ': 13, 'ĠJP': 12, 'ĠSupp': 12, 'ĠTI': 11, 'ĠVol': 11, 'ĠSin': 11, 'ĠIPS': 11, 'ĠGi': 11, 'ĠDj': 11, 'ĠIk': 11}\n",
      "Ġfull {'Ġsatisfying': 13, 'Ġincorporating': 13, 'Ġincorporated': 12, 'Ġincorporate': 12, 'Ġincorporates': 11, 'Ġintegrated': 11, 'Ġcivic': 11, 'orporated': 11, 'Ġpowered': 11, 'leased': 11}\n",
      "ĠCom {'Ġfollower': 13, 'ollower': 12, 'oner': 12, 'remote': 12, 'ĠRobots': 12, 'Ġbadges': 11, 'username': 11, 'imeo': 11, 'Agent': 11, 'Ġdelegation': 11}\n",
      "Ġbell {'Ġsmell': 14, 'Ġsmelled': 13, 'Ġsmells': 12, 'Ġsmelling': 12, 'Ġsucking': 11, 'oad': 11, 'Ġsensation': 11, 'Ġscanned': 11, 'tain': 10, 'Ġstink': 10}\n",
      "Ġord {'Ġatrocities': 12, 'bians': 12, 'Ġsectarian': 12, 'ucking': 12, 'Ġlesbians': 11, 'Ġcannabinoids': 11, 'Ġskulls': 11, 'Ġunimaginable': 11, 'Ġmutations': 11, 'Ġwhales': 11}\n",
      "system {'ĠIntern': 13, 'Intern': 12, 'ĠD': 12, 'ĠNat': 11, 'ĠSUP': 11, 'ĠSup': 11, 'ĠWat': 11, 'ĠAm': 11, 'Ġd': 11, 'ĠDion': 11}\n",
      "ĠChrist {'ĠContracts': 12, 'alions': 12, 'contract': 12, 'Ġcontract': 12, 'ĠContract': 12, 'aiden': 11, 'month': 11, 'omet': 11, 'SHIP': 11, 'Ġcontracts': 11}\n",
      "eb {'Ġconsulate': 12, 'ĠCHR': 12, 'ãĥĬ': 12, 'ĠPortable': 12, 'ÏĢ': 11, 'Ġcir': 11, 'irrel': 11, 'ĠCand': 11, 'Ġprot': 11, 'Ġsquirrel': 11}\n",
      "OFF {'Ġalt': 12, 'Ġelig': 12, 'ĠiT': 12, 'Ġpot': 12, 'ĠUT': 12, 'ĠAlt': 12, 'ĠPot': 12, 'ĠRiy': 11, 'ĠMIC': 11, 'Ġgre': 11}\n",
      "Ġanew {'Ġinitialized': 12, 'Ġfounded': 12, 'Ġformed': 12, 'initialized': 11, 'started': 11, 'ablished': 11, 'Ġintroduces': 11, 'established': 11, 'Ġestablished': 11, 'Ġconfronted': 11}\n",
      "NE {'Ġheartbeat': 13, 'cigarettes': 12, 'Ġinstructions': 12, 'ĠInstructions': 12, 'Ġstorylines': 12, 'estyle': 11, 'ĠBehavioral': 11, 'Ġinstruction': 11, 'Ġbehavioural': 11, 'Ġsidewalks': 11}\n",
      "Ġtotal {'bringer': 12, 'excluding': 12, 'oenix': 12, 'blade': 12, 'borne': 12, 'contained': 11, 'olar': 11, 'akura': 11, 'Ġproportion': 11, 'Ġcomprised': 11}\n",
      "Ġbody {'breaker': 13, 'Ġinsulated': 12, 'obi': 12, 'ĠGibson': 12, 'stained': 11, 'Ġbreaker': 11, 'breakers': 11, 'Ġdisgusted': 11, 'borne': 11, 'branded': 11}\n",
      "Ġscope {'Ġinfused': 12, 'Ġincorporated': 12, 'Ġincorporating': 12, 'Limited': 12, 'Ġunlimited': 11, 'Ġincorporates': 11, 'limited': 11, 'Ġinterpreting': 11, 'Ġconstrued': 11, 'orporated': 11}\n",
      "ĠPars {'ĸļ': 12, 'Ġclans': 12, 'birds': 12, 'Ġgangs': 12, 'Ġthence': 12, 'lords': 11, 'Ġsquads': 11, 'landers': 11, 'rology': 11, 'mology': 11}\n",
      "wrap {'ĠJournals': 13, 'ĠMassachusetts': 12, 'ĠSlov': 12, 'ĠPortug': 12, 'Conf': 11, 'ĠHungary': 11, 'ĠRomania': 11, 'ĠJugg': 11, 'Ã©r': 11, 'ĠSlovakia': 11}\n",
      "apps {'ĠCP': 13, 'ĠSX': 13, 'Ġsust': 12, 'Ġsuc': 11, 'ĠAud': 11, 'scl': 11, 'ĠTX': 11, 'Ġdop': 11, 'ĠRF': 11, 'ĠDAC': 11}\n",
      "Ġcurrent {'Ġdissatisfied': 13, 'Ġbeliever': 12, 'Ġconsoles': 12, 'paralleled': 12, 'Ġconsolation': 11, 'Ġsupplements': 11, 'Ġcanonical': 11, 'oenix': 11, 'Ġunaffected': 11, 'Ġinclusive': 11}\n",
      "ĠFront {'Ġpartnership': 12, 'Ġpartnering': 12, 'ĠIdeally': 12, 'Ġpartner': 12, 'Ġpartnered': 11, 'ĠPartner': 11, 'aturday': 11, 'Ġpartners': 11, 'alker': 11, 'Ġpartnerships': 11}\n",
      "Der {'ĠPatricia': 12, 'ĠAmanda': 12, 'ĠNina': 12, 'Michelle': 12, 'ĠNancy': 11, 'ĠCory': 11, 'ĠRachel': 11, 'ĠLorenzo': 11, 'olitical': 11, 'ĠMichelle': 11}\n",
      "ĠTer {'bringer': 12, 'ĠPets': 12, 'ĠRelative': 12, 'affiliated': 12, 'ĠBrigade': 11, 'Ġdonor': 11, 'ĠTarget': 11, 'plane': 11, 'ĠEntityItem': 11, 'ĠSquad': 11}\n",
      "Ġaut {'bright': 13, 'sighted': 12, 'Ġplutonium': 12, 'Ġfluorescent': 12, 'may': 11, 'Ġbright': 11, 'Ġshining': 11, '514': 11, 'result': 11, 'Ġvolcano': 11}\n",
      "ĠHand {'kie': 13, 'nce': 12, 'Ġcruiser': 12, 'Ship': 12, 'pak': 11, '602': 11, '772': 11, 'ĠImage': 11, 'ECH': 11, 'Ġship': 11}\n",
      "ĠGran {'Ġvitro': 12, 'Ġradiation': 12, 'IDENT': 12, 'omet': 12, 'idation': 12, 'uation': 11, 'ATION': 11, 'ĠWiFi': 11, 'MG': 11, 'ĠRadiation': 11}\n",
      "bridge {'Ġenvelope': 13, 'Ġforum': 12, 'forums': 12, 'ĠForum': 12, 'Ġcup': 11, 'Ġforums': 11, 'ĠSmile': 11, 'Ġinteract': 11, 'forum': 11, 'velop': 11}\n",
      "ĠRed {'ikarp': 12, 'olphin': 12, 'Ġspoof': 12, 'meric': 12, 'Ġunmanned': 12, 'kie': 11, 'helm': 11, 'hoe': 11, 'ober': 11, 'onite': 11}\n",
      "ĠTrap {'Ġbamboo': 12, 'Ġcannabis': 12, 'Ġlivestock': 12, 'Ġturtles': 12, 'ĠDropbox': 12, 'Ġcrowdfunding': 11, 'iceps': 11, 'Ġpistols': 11, 'ĠHearthstone': 11, 'ĠLuffy': 11}\n",
      "ĠLand {'ryu': 13, 'nec': 13, 'ARP': 12, 'asus': 11, 'atu': 11, 'nis': 11, 'lus': 11, 'usc': 11, 'Ġcannabinoid': 11, 'Ġbattalion': 11}\n",
      "Ġplace {'Ġbound': 12, 'Ġseizing': 12, 'Ġseized': 12, 'Ġseize': 12, 'imming': 11, 'bound': 11, 'Ġtrespass': 11, 'ighting': 11, 'ĠBound': 11, 'erning': 11}\n",
      "Ġmini {'Ġexperimented': 13, 'Ġexperiment': 13, 'Ġsimulate': 12, 'Ġexperimental': 11, 'imental': 11, 'sponsored': 11, 'aled': 11, 'imeo': 11, 'Ġexperimenting': 11, 'imet': 11}\n",
      "Ġmin {'agan': 13, 'Ġcanon': 13, 'olini': 11, 'canon': 11, 'Ġspores': 11, 'Ġinfinite': 11, 'Ġcruiser': 11, 'Ġgamers': 11, 'inet': 11, 'iful': 11}\n",
      "Ġger {'onge': 12, 'ather': 12, 'types': 12, 'athering': 12, 'ould': 11, 'hed': 11, 'genic': 11, 'chid': 11, 'aternity': 11, 'Ġwet': 11}\n",
      "Ġfar {'CHA': 12, 'VEL': 12, 'ĠOrlando': 12, 'Remote': 12, 'lando': 12, 'global': 12, 'ĠRemote': 11, 'TL': 11, 'av': 11, 'Ġintimate': 11}\n",
      "Ġstatus {'Ġinforming': 12, 'Ġinformed': 12, 'Ġassured': 12, 'illusion': 12, 'Ġassures': 11, 'Ġrestoring': 11, 'ĠReturning': 11, 'Ġassert': 11, 'Ġalleviate': 11, 'Ġdisillusion': 11}\n",
      "iel {'ĠMontreal': 14, 'MJ': 12, 'ĠPetersburg': 12, 'ĠBrussels': 11, 'British': 11, 'ãĤĭ': 11, 'ĠWatergate': 11, 'China': 11, 'Nazi': 11, 'Arch': 11}\n",
      "Ġ100 {'limit': 13, 'limited': 12, 'atars': 12, 'Ġlimited': 11, 'Ġconfines': 11, 'Limit': 11, 'Ġlimitation': 11, 'ĠLimit': 11, 'Limited': 11, 'Ġlimitations': 11}\n",
      "detail {'Mark': 13, 'ĠMark': 12, 'Ġmarkedly': 12, 'ĠJS': 12, 'adata': 11, 'Socket': 11, 'STD': 11, 'mark': 11, 'Ġmark': 11, 'ĠJava': 11}\n",
      "quick {'ĠKath': 12, 'Ġap': 12, 'Ap': 12, 'ĠEv': 12, 'Ġev': 12, 'Ear': 11, 'Ġext': 11, 'ĠIv': 11, 'QB': 11, 'Ġak': 11}\n",
      "PU {'Ġsuppression': 12, 'Ġjuven': 12, 'Ġfol': 12, 'Ġselectively': 12, 'ĠFEC': 11, 'ONSORED': 11, 'Ġtamp': 11, 'Ġpassively': 11, 'Ġsubsidized': 11, 'ĠSLI': 11}\n",
      "ĠRe {'ãĥ¼': 13, 'ebus': 13, 'gee': 12, 'attle': 12, 'ikarp': 11, 'Ġslang': 11, 'acey': 11, 'omet': 11, 'ylene': 10, 'gae': 10}\n",
      "ĠInterface {'ĠPetition': 12, 'culation': 12, 'Ġpetitioner': 12, 'rase': 12, 'Ġbiking': 12, 'oping': 11, 'lic': 11, 'struction': 11, 'worn': 11, 'rowing': 11}\n",
      "ern {'Ġinvaluable': 14, 'authent': 12, 'Ġintolerable': 12, 'Ġinconvenience': 11, 'Ġpurpose': 11, 'forum': 11, 'Ġprovince': 11, 'Ġundesirable': 11, 'Ġvaluable': 11, 'ĠApply': 11}\n",
      "ĠIsh {'en': 13, 'enne': 12, 'uren': 11, 'ez': 11, 'iven': 11, 'zen': 11, 'uben': 11, 'ten': 11, 'bt': 11, 'lic': 11}\n"
     ]
    },
    {
     "name": "stdout",
     "output_type": "stream",
     "text": [
      "gate {'onent': 13, 'Ġwindshield': 12, 'apult': 12, 'Ġcholesterol': 12, 'Ġbat': 12, 'Ġposit': 12, 'Ġlatch': 11, 'Ġcapacitor': 11, 'Ġtang': 11, 'Ġgrit': 11}\n",
      "sr {'rs': 12, 'Ġbreakfast': 12, 'Ġyuan': 12, 'Ġknees': 12, 'Ġlegs': 11, 'urches': 11, 'anch': 11, 'Ġspat': 11, 'Mars': 11, 'ĠScand': 11}\n",
      "Ġrestrict {'holding': 13, 'Ġholding': 12, 'Ġheld': 12, 'ĠHolding': 12, 'held': 12, 'Ġhold': 12, 'Ġholds': 11, 'ĠHeld': 11, 'hold': 10, 'Hold': 10}\n",
      "zel {'ĠJeremiah': 12, 'ĠSamar': 12, 'LB': 12, 'ĠLB': 12, 'ĠDay': 11, 'Ġexch': 11, 'RR': 11, 'Ġsupper': 11, 'ĠSerbia': 11, 'ĠTR': 11}\n",
      "Ġoriginal {'lite': 13, '712': 12, 'mobile': 11, 'aii': 11, '514': 11, 'endon': 11, 'Mobile': 11, 'Ġnucleus': 11, '211': 11, 'Ġinsurers': 11}\n",
      "Ġkn {'rypted': 15, 'affiliated': 12, 'sponsored': 11, 'achev': 11, 'ected': 11, 'signed': 11, 'iliated': 11, 'ited': 11, 'structed': 11, 'ocker': 11}\n",
      "ĠRh {'Romney': 12, 'ppelin': 12, 'ampton': 11, 'Facebook': 11, 'Ġcows': 11, 'Thousands': 11, 'ĠLyft': 11, 'beer': 11, 'ĠEmployees': 11, 'osaurs': 11}\n",
      "**** {'***': 14, 'Ġ***': 13, 'Ġ*': 12, 'Ġ**': 12, 'Ġ_': 11, 'Ġ(*': 11, 'lesiastical': 11, ')*': 11, 'Ġ[|': 10, 'Ġ[*': 10}\n",
      "mo {'ĠDent': 13, 'ĠIV': 12, 'Ġcup': 12, 'ml': 12, 'bf': 11, 'TOR': 11, 'Ġtablespoons': 11, 'IV': 11, 'matically': 11, 'ĠMole': 11}\n",
      "Ġtab {'foreseen': 12, 'Created': 12, 'loaded': 12, 'Ġerected': 12, 'added': 11, 'Ġauthorised': 11, 'Added': 11, 'Ġinserted': 11, 'ĠAdded': 11, 'generated': 11}\n",
      "ieg {'Ġemoji': 12, 'Beer': 12, 'Coin': 12, 'ĠEater': 12, 'ĠPoker': 12, 'istors': 11, 'oby': 11, 'coin': 11, 'Mike': 11, 'Ġtransistor': 11}\n",
      "System {'Ġwa': 13, 'ĠED': 12, 'ĠSER': 12, 'Ġd': 12, 'ĠWat': 11, 'ãĤ¡': 11, 'Ġur': 11, 'Ġaer': 11, 'ĠAc': 11, 'Ġpra': 11}\n",
      "ĠPro {'510': 12, 'tick': 12, 'Ġsilk': 12, 'ĠCable': 12, 'ĸļ': 11, 'idium': 11, 'ibo': 11, 'idian': 11, 'tech': 11, '470': 11}\n",
      "Ġrest {'ocal': 12, '$,': 12, 'affiliated': 12, 'conference': 12, '³': 11, 'claimed': 11, 'Ñı': 11, 'ormon': 11, 'eling': 11, '\"],': 11}\n",
      "ax {'ĠShang': 13, 'ĠLara': 12, 'ĠKremlin': 12, 'eland': 11, 'ĠShah': 11, 'va': 11, 'ĠNiagara': 11, 'sounding': 11, 'ĠArabia': 11, 'Ġsr': 11}\n",
      "Ġhands {'imentary': 13, 'aternity': 12, 'meat': 11, 'ĠRelic': 11, 'foundation': 11, 'Ġgenital': 11, 'Ġbreed': 11, 'Ġconson': 11, 'meal': 11, 'Ġcanon': 11}\n",
      "Ġbehind {'Ġhamstring': 14, 'EVA': 12, 'glomer': 12, 'ĠHuck': 12, 'Ġbikini': 11, 'Ġembryonic': 11, 'Ġapprentices': 11, 'Alan': 11, 'Ġcaves': 11, 'ĠSomers': 11}\n",
      "Ġpopular {'luent': 14, 'Ġmushroom': 12, 'undle': 12, 'genre': 11, 'volume': 11, 'latable': 11, 'umen': 11, 'utterstock': 11, 'breaker': 11, 'weed': 11}\n",
      "opp {'ĠPrairie': 12, 'ĠInterstellar': 12, 'Eastern': 12, 'ĠDarth': 11, 'ĠStadium': 11, 'ĠBerkshire': 11, 'ĠBarrier': 11, 'daq': 11, 'ĠBeach': 11, 'ĠIndy': 11}\n",
      "ĠPent {'Ġchickens': 12, 'asus': 12, 'Ġspons': 12, 'oultry': 11, 'Ġlivestock': 11, 'Ġpoultry': 11, 'PHOTOS': 11, 'ĠSerge': 11, 'sponsored': 11, 'ircraft': 11}\n",
      "Ġdraft {'fitted': 12, 'treated': 12, 'Ġstained': 12, 'stained': 12, 'cised': 11, 'Ġfitted': 11, 'Ġfluorescent': 11, 'fitting': 11, 'fits': 11, 'Ġsilenced': 11}\n",
      "Ġmim {'bred': 13, 'fiction': 13, 'Ġtrilogy': 12, 'igree': 11, 'Ġfiction': 11, 'liberal': 11, 'inated': 11, 'ocrine': 11, 'chel': 11, 'azaki': 11}\n",
      "ĠStraight {'Ġbamboo': 12, 'Ġshoe': 12, 'imon': 12, 'ĠTrek': 11, 'Ġbicycles': 11, 'bike': 11, 'Ġpamph': 11, 'Ġmonk': 11, 'Ġshoes': 11, 'Ġorcs': 11}\n",
      "Ġby {'sponsored': 13, 'Ġeffected': 12, 'lated': 12, 'Created': 11, 'Ġinfected': 11, 'Ġdisgusted': 11, 'amed': 11, 'borne': 11, 'Ġindicated': 11, 'Ġsilenced': 11}\n",
      "effect {'ĠVW': 12, 'Ġsm': 12, 'ĠArena': 12, 'ĠShak': 12, '},{\"': 11, 'ĠRub': 11, 'ĠTAM': 11, 'Ġrub': 11, 'ĠSham': 11, 'ĠSym': 11}\n",
      "ĠMed {'enzie': 13, 'onnaissance': 12, 'omet': 12, 'Ġleased': 11, 'ãĥ¼': 11, 'eri': 11, 'elia': 11, 'ydia': 11, 'lance': 11, 'zik': 11}\n",
      "art {'ĠNeptune': 13, 'Ġmitochondrial': 12, 'City': 12, 'ĠPhD': 12, 'ĠADHD': 11, 'Ġpsychiatrist': 11, 'ĠRocket': 11, 'ĠNCAA': 11, 'desktop': 11, 'ĠMarijuana': 11}\n",
      "Ġred {'elia': 13, 'olphin': 12, 'meric': 12, 'oother': 11, 'Ġunmanned': 11, 'helm': 11, 'heny': 11, 'Ġbloody': 11, 'Ġbuffalo': 11, 'sylv': 11}\n",
      "du {'Ġtopping': 12, 'Ġheck': 12, 'Ġhates': 12, 'Ġpiss': 12, 'Ġstub': 11, 'Ġbearded': 11, 'Ġscra': 11, 'Ġexceeds': 11, 'Ġcrowned': 11, 'Ġhating': 11}\n",
      "ĠBj {'lords': 13, 'Ġlords': 12, 'Ġheirs': 12, 'ĠLords': 11, 'holders': 11, 'lord': 11, 'units': 11, 'Ġclaimants': 11, 'Ġallies': 11, 'hers': 11}\n",
      "ĠDane {'ĠMembers': 13, 'Ġmembers': 12, 'oultry': 12, 'Members': 12, 'Ġmolecules': 11, 'otta': 11, 'uits': 11, 'Ġlords': 11, 'members': 11, 'Ġtrucks': 11}\n",
      "Ġsometimes {'depending': 13, 'Depending': 13, 'ĠDepending': 13, 'Ġdepending': 12, 'bett': 12, 'oley': 11, 'ERN': 11, 'DERR': 10, 'mal': 10, 'MN': 10}\n",
      "Ġbasics {'got': 12, 'gets': 12, 'Ġgets': 12, 'İ': 12, 'getting': 11, 'ĠGets': 11, 'Getting': 11, 'get': 11, 'Ġgot': 11, 'GET': 11}\n",
      "ĠScan {'Ã¼': 13, 'Ġaroused': 13, 'Ġpine': 12, 'south': 11, 'opy': 11, 'Ġmeal': 11, 'noon': 11, 'morning': 11, 'Ã³': 11, 'sex': 11}\n",
      "ĠBound {'Simon': 13, 'ĠGilmore': 12, 'ogan': 12, 'Ġcomply': 12, 'bike': 11, 'Therefore': 11, 'oler': 11, 'ĠGuatemala': 11, 'ĠTherefore': 11, 'ĠSimon': 11}\n",
      "pair {'ĠIGN': 12, 'Ġinciner': 12, 'Ġenc': 12, 'IZ': 12, 'Ġdespise': 11, '166': 11, 'PRO': 11, 'ĠSTAR': 11, 'Bern': 11, 'Sc': 11}\n",
      "kr {'ĠPrix': 13, 'ĠMarc': 12, 'ĠNate': 12, 'ĠJersey': 12, 'Marc': 12, 'ĠCapcom': 11, 'ĠPlayoffs': 11, 'ĠNASCAR': 11, 'ĠBrexit': 11, 'ĠBorderlands': 11}\n",
      "'> {'Ġsaline': 13, 'Ġoffseason': 12, \"='\": 12, 'Ġwetlands': 12, 'Ġpreseason': 11, 'ĠTamil': 11, '</': 11, 'Disk': 11, 'Ġplastics': 11, 'Ġdisk': 11}\n",
      "Ġthemselves {'Ġcowardly': 13, 'eto': 12, 'uxe': 12, 'Ġcourtesy': 12, 'ITE': 11, 'Ġoblivious': 11, 'ĠAshley': 11, 'mite': 11, 'tesy': 11, 'inside': 11}\n",
      "ĠHill {'aled': 13, 'liner': 12, 'poon': 11, 'song': 11, 'piration': 11, 'liners': 11, 'winner': 11, 'Ġsong': 11, 'phot': 11, 'ĠRiders': 11}\n",
      "ĠUs {'Ġtroopers': 12, 'vae': 12, 'auts': 12, 'icks': 12, 'lves': 12, 'ĠTrojan': 11, 'cakes': 11, 'olls': 11, 'olen': 11, 'Ġideally': 11}\n",
      "Ġdesign {'Ġallowed': 13, 'allowed': 12, 'ĠAllows': 12, 'Ġallows': 12, 'Ġallow': 12, 'Ġallowing': 11, 'Ġunemployed': 11, 'Allow': 11, 'mit': 11, 'Ġletting': 11}\n",
      "Ġthin {'Ġprinted': 13, 'printed': 13, 'Ġprinting': 12, 'ĠPrinted': 12, 'ected': 11, 'Ġprint': 11, 'Ġemerged': 11, 'produced': 11, 'Ġprints': 11, 'generated': 10}\n",
      "Ġsonic {'Ġviability': 13, 'Ġsustainability': 13, 'Ġfirepower': 11, 'ulnerability': 11, 'ability': 11, 'iability': 11, 'Ġstability': 11, 'Ġvulnerability': 11, 'Ġfreedoms': 11, 'Ġfreedom': 11}\n",
      "kt {'ĠSally': 12, 'ĠSounders': 12, 'ĠCarnival': 12, 'ĠHearthstone': 12, 'ĠChamberlain': 12, 'ĠPanthers': 11, 'ĠHatch': 11, 'ĠCarter': 11, 'ĠSatan': 11, 'ĠSaturn': 11}\n",
      "render {'Ġinf': 13, 'Ġbrill': 12, 'ĠTemp': 12, 'ĠSund': 12, 'Ġimp': 11, 'Ġinj': 11, 'tic': 11, 'Ġtemp': 11, 'ĠBrut': 11, 'op': 11}\n",
      "ĠTape {'Ġanimal': 14, 'animal': 12, 'ĠAnimal': 12, 'ĠPik': 11, 'Ġhectares': 11, 'Animal': 11, 'Ġanimals': 11, 'Â¯Â¯Â¯Â¯Â¯Â¯Â¯Â¯': 11, 'ĠAnimals': 11, 'ĠLGBT': 11}\n",
      "Ġintact {'Ġsurvives': 13, 'Ġwithstand': 12, 'Ġupholding': 12, 'Ġendure': 11, 'Ġuphold': 11, 'Ġtolerate': 11, 'Ġsurvive': 11, 'ĠSurvive': 11, 'Ġsurvived': 11, 'Ġendured': 11}\n",
      "Ġpent {'ĠBaxter': 12, 'imentary': 12, 'axter': 12, 'Ġaffiliated': 12, 'affiliated': 11, 'offer': 11, 'Ġcomplimentary': 11, 'Ġreinstated': 11, 'Ġransomware': 11, 'athing': 10}\n",
      "Ġmor {'Ġmicrobiome': 12, 'apist': 12, 'Ġcaliphate': 11, 'fed': 11, 'Ġbeverage': 11, 'primary': 11, 'Ġbead': 11, 'Ġbeans': 11, 'Ġsocialist': 11, 'Ġprimaries': 11}\n",
      "Ring {'ĠW': 12, 'ĠCF': 12, 'ĠEsk': 12, 'ĠiP': 12, 'Ġs': 11, 'ĠK': 11, 'ĠWorld': 11, 'ĠTT': 11, 'ĠS': 11, 'ĠExper': 11}\n",
      "fall {'Ġtablespoons': 13, 'Ġtablespoon': 13, 'Ġforks': 12, 'Ġemoji': 12, 'ĠDAY': 11, 'Day': 11, 'ĠGMO': 11, 'ĠBucs': 11, 'fork': 11, 'poons': 11}\n",
      "wards {'ĠGest': 12, 'Ġdifferentiation': 12, 'Ġgest': 12, 'Ġgesture': 11, 'ĠTurning': 11, 'ĠTurn': 11, 'Ġturn': 11, 'ĠTransgender': 11, 'ĠBundesliga': 11, 'Turn': 11}\n",
      "Ġwherever {'on': 12, 'Ġatop': 12, 'Ġtrailed': 12, 'Ġalong': 12, 'Deploy': 11, 'Follow': 11, 'ĠFollow': 11, 'Ġorbiting': 11, 'regate': 11, 'upon': 11}\n",
      "ĠGl {'Ġplatoon': 13, 'Ġbattalion': 12, 'Ġboat': 12, 'ylon': 11, 'Ġclient': 11, 'Ġ1917': 11, 'alions': 11, 'boat': 11, 'ĠBoat': 11, 'Ġairplane': 11}\n",
      "ĠTus {'Ġpupil': 12, 'ixture': 12, 'Ġpupils': 12, 'Ġgland': 12, 'Ġpigment': 11, 'Ġcement': 11, 'pipe': 11, '501': 11, 'Ġtrophy': 11, 'Ġpipe': 11}\n",
      "Ġhandles {'how': 12, 'HOW': 12, '197': 12, 'Ġhow': 12, '397': 11, 'How': 11, 'ĠHow': 11, 'ĠHOW': 11, '684': 11, '213': 11}\n",
      "Ġqu {'jected': 12, 'Ġdissatisfied': 12, 'affiliated': 12, 'Ġwretched': 11, 'Apply': 11, 'Ġapplicant': 11, 'earable': 11, 'cott': 11, 'thereal': 11, 'Ġapplicants': 11}\n",
      "ĠEp {'plugin': 13, 'plugins': 13, 'Ġromance': 12, 'Ġplugins': 11, 'assin': 11, 'orses': 11, 'Ġplugin': 11, 'brids': 11, 'ĠPegasus': 11, 'ception': 11}\n",
      "cn {'Ġultr': 13, 'ĠZen': 12, 'ĠSym': 11, 'Ġcher': 11, 'nar': 11, 'Ġwww': 11, 'Ġlegs': 11, 'ĠNar': 11, 'Ġvowel': 11, 'ĠNas': 11}\n",
      "Ġmis {'Battery': 13, 'bag': 12, 'akery': 12, 'plugin': 11, 'imei': 11, 'rylic': 11, 'ĠBayer': 11, 'ixtures': 11, 'grain': 11, 'yeah': 11}\n",
      "Ġband {'Ġmitigation': 12, 'Ġinfographic': 12, 'amiliar': 12, 'Ġelectronic': 12, 'utterstock': 11, 'ipper': 11, 'Ġslang': 11, 'Ġsatisfaction': 11, 'producing': 11, 'Ġfamiliarity': 11}\n",
      "aux {'ĠStruggle': 14, 'Ġstruggling': 12, 'Ġglitches': 11, 'Ġmissiles': 11, 'Ġlaunchers': 11, 'Ġstruggle': 11, 'Ġstruggled': 11, 'Ġobjected': 11, 'Ġtherapists': 11, 'Ġmissile': 11}\n",
      "easy {'ĠÃ©': 12, 'ĠChap': 12, 'ĠMAG': 12, 'ĠAlvin': 12, 'ĠSH': 11, 'ĠBec': 11, 'ĠGW': 11, 'ĠAre': 11, 'Ġrs': 11, 'ĠARE': 11}\n",
      "Ġa {'sponsored': 12, 'ernal': 12, 'earable': 12, 'borne': 11, 'åħī': 11, 'boarding': 11, 'asus': 11, 'maid': 11, 'wald': 11, 'contained': 11}\n",
      "hots {'ĠPolar': 13, 'Ġpolar': 13, 'ĠTerrit': 12, 'ĠISS': 11, 'ĠAntarctica': 11, 'ĠBlackhawks': 11, 'ĠTree': 11, 'ĠLauder': 11, 'Solar': 11, 'ĠSword': 11}\n",
      "ĠKon {'Ġfirmware': 12, 'Ġsermon': 12, 'ament': 12, 'agonists': 12, 'canon': 11, 'Ġspam': 11, 'Produ': 11, 'Ġpatron': 11, 'company': 11, 'dose': 11}\n",
      "Ġhardly {'So': 13, 'ĠSo': 13, 'Ġso': 12, 'so': 11, 'SO': 11, 'ĠSO': 11, 'ICT': 11, 'Thus': 11, 'facebook': 11, 'Ġsuch': 10}\n",
      "Ġconstant {'roph': 12, 'Ġbeacon': 12, 'ĠBearing': 12, 'athing': 11, 'treatment': 11, 'Ġsensory': 11, 'otics': 11, 'kie': 11, 'reatment': 11, 'Ġbiomark': 11}\n",
      "tur {'ĠShiva': 13, 'ĠSha': 12, 'ĠSX': 12, 'ĠSanta': 11, 'irrel': 11, 'nar': 11, 'Santa': 11, 'ĠSatanic': 11, 'Ġsq': 11, 'ĠDj': 11}\n",
      "ĠAlpine {'Ġdaughter': 12, 'Ġpuppy': 12, 'Ġcottage': 12, 'arette': 12, 'Ġshoe': 11, 'daughter': 11, 'ĠDuel': 11, 'ĠDog': 11, 'Ġkid': 11, 'Ġclubhouse': 11}\n",
      "iris {'ĠVul': 12, 'ĠSchultz': 12, 'ĠShiv': 12, 'ch': 11, 'ĠKet': 11, 'Crypt': 11, 'ĠVIII': 11, 'ĠAbstract': 11, 'ĠShad': 11, 'ĠChrysler': 11}\n",
      "Ġextant {'paralleled': 14, 'Ġparallels': 12, 'Ġillegitimate': 11, 'Ġnonpartisan': 11, 'aldo': 11, 'Ġcanonical': 11, 'alogue': 11, 'Ġunparalleled': 11, 'Ġunregulated': 11, 'Ġhardcore': 11}\n",
      "fed {'Ġlegalizing': 12, 'Ġlegalize': 12, 'Ġlegalized': 12, 'ĠGothic': 11, 'ĠOrganic': 11, 'Ġentert': 11, 'Ġfledgling': 11, 'Ġanarch': 11, 'Ġkinderg': 11, 'ĠAnch': 11}\n",
      "Ġna {'Ġevident': 12, 'Ġsmell': 12, 'ileen': 12, 'Ġsmells': 12, 'Ġpuzzle': 11, 'Ġsemen': 11, 'Ġreadable': 11, 'Ġconceivable': 11, 'Ġdismal': 11, 'Ġexam': 11}\n",
      "oo {'Stat': 13, 'STAT': 12, 'stad': 12, 'ĠStern': 12, 'Ġstatist': 11, 'ĠConstantinople': 11, 'ourmet': 11, 'engine': 11, 'utra': 11, '234': 10}\n",
      "yg {'ĠStern': 12, 'ĠSetTextColor': 12, 'ĠPOS': 12, 'Ġeurozone': 12, 'Ġteasp': 11, 'ĠPoint': 11, 'ĠStr': 11, 'ĠGrav': 11, 'ĠBah': 11, 'Ġgrav': 11}\n",
      "rh {'ĠDevin': 12, 'ĠBott': 12, 'Ġtw': 12, 'ĠSingapore': 11, 'iPhone': 11, 'ĠSym': 11, 'Ġrs': 11, 'Ġbott': 11, 'ĠRs': 11, 'ĠPat': 11}\n",
      "*/( {'*': 13, ')*': 12, 'Ġ*': 12, '(*': 11, '.*': 11, 'Ġ[*': 11, 'iddle': 11, '***': 11, 'Ġ*.': 11, 'Ġ(*': 10}\n",
      "dat {'ĠTian': 12, 'ĠSingapore': 12, 'ĠScand': 11, 'Ġsn': 11, 'ĠVenus': 11, 'ĠSear': 11, 'ĠTex': 11, 'Ġzoo': 11, 'sn': 11, 'ĠLou': 11}\n",
      "par {'ĠMinotaur': 12, 'ĠMMO': 12, 'ĠOlympics': 12, 'ĠIslamist': 11, 'Senior': 11, 'ĠSenior': 11, 'ĠGators': 11, 'ĠZeus': 11, 'Chief': 11, 'ĠJunior': 11}\n",
      "ĠAnge {'cell': 12, 'ĠCell': 12, 'ĠBulletin': 12, 'Ġsquadron': 11, 'Ġcircle': 11, 'Ġmarrow': 11, 'Ġballoon': 11, 'ĠLetter': 11, 'Ġanecd': 11, 'Letter': 11}\n",
      "Ġwal {'aughter': 13, 'gay': 13, 'daughter': 12, 'Ġyogurt': 12, 'puff': 11, 'Gay': 11, 'ustration': 11, 'vention': 11, 'Ġdaughter': 10, 'aughters': 10}\n",
      "bolt {'ĠHatch': 12, 'ĠSwiss': 12, 'ĠBj': 11, 'ĠRussian': 11, 'Ġstick': 11, 'Ġscarf': 11, 'ĠStick': 11, 'Ġsleeves': 11, 'ĠHardcore': 11, 'ĠSlav': 11}\n",
      "split {'black': 13, 'Black': 12, 'Ġblack': 12, 'ĠBlack': 11, 'Ġclinical': 11, 'ĠScotland': 11, 'ĠBLACK': 11, 'Beaut': 11, 'Scotland': 11, 'ĠBeaut': 11}\n",
      "unin {'ĠFY': 12, 'Ġdc': 12, 'ĠMK': 12, 'Ġsulfur': 12, 'ĠDC': 12, 'ĠNash': 11, 'Ġobstacles': 11, 'ĠTN': 11, 'onomous': 11, 'Ġyellow': 11}\n",
      "bow {'Ġhinges': 13, 'Ġcurl': 12, 'Ġclinch': 12, 'ĠCurve': 12, 'Ġtwists': 11, 'ĠCliff': 11, 'Ġtwist': 11, 'Chapter': 11, 'ĠArc': 11, 'Ġcurls': 11}\n",
      "COM {'ĠDays': 12, 'Ġtd': 12, 'ĠTicket': 12, 'ĠTIME': 12, 'ĠTIM': 11, 'Ġday': 11, 'ĠTime': 11, 'ĠSTEP': 11, 'ĠChance': 11, 'ĠDay': 11}\n",
      "ĠCommentary {'VERTIS': 14, 'Advertisements': 13, 'Document': 12, 'ĠPosts': 11, 'Documents': 11, 'Ġadvertisement': 11, 'Ġattachments': 11, 'Ġdeadlines': 11, 'ĠDeadline': 10, 'ĠDocument': 10}\n",
      "Ġpad {'Ġreceptors': 14, 'Ġreceptor': 13, 'Ġstained': 12, 'itated': 11, 'Ġwhales': 11, 'ĠLect': 11, 'ĠVulcan': 11, 'authored': 11, 'Ġglued': 11, 'ĠWhedon': 11}\n",
      "ĠSilk {'ĠPamela': 12, 'abee': 12, 'Bee': 12, 'Ġphysician': 12, 'apeake': 11, 'Ġlaser': 11, 'bee': 11, 'Ġtrooper': 11, 'Ġflock': 11, 'ĠTrooper': 11}\n",
      "Ġwalls {'loving': 13, 'athing': 12, 'Ġbudding': 12, 'Ġcramped': 12, 'Ġdolphins': 11, 'Ġsuck': 11, 'Ġoppressed': 11, 'Ġlasers': 11, 'athed': 11, 'Ġglared': 11}\n",
      "ĠSemi {'Ġcollusion': 12, 'bp': 12, 'liner': 12, 'amp': 12, 'abilia': 11, 'Ġhorse': 11, 'aped': 11, 'aling': 11, 'Ġsheet': 11, 'AMP': 11}\n",
      "FF {'ĠMMA': 14, 'ĠArts': 13, 'ĠLabs': 12, 'ĠSDK': 11, 'Ġstreets': 11, 'PU': 11, 'ĠTrails': 11, 'ĠSports': 11, 'GF': 11, 'ĠUniversity': 11}\n",
      "Ġvar {'Ġclaimants': 12, 'bees': 12, 'owners': 12, '533': 12, 'Ġpartisans': 11, 'Ġbelievers': 11, '466': 11, '501': 11, '517': 11, '522': 11}\n",
      "Ġnest {'Ġsounded': 13, 'sound': 13, 'Ġsounds': 12, 'Ġsound': 11, 'krit': 11, 'Sound': 11, 'Ġblankets': 11, 'ocl': 11, 'iths': 11, 'audio': 11}\n",
      "ĠâĢĶ {'door': 13, 'Ġunilateral': 12, 'doors': 12, 'Ġministerial': 11, 'Ġevangelical': 11, 'Ġvoluntary': 11, 'Ġdoors': 11, 'Ġinvitation': 11, 'Ġsideways': 11, 'Ġinvitations': 11}\n",
      "don {'ĠMars': 13, 'Ġgore': 12, 'Star': 12, 'ĠSF': 12, 'Mars': 11, 'ĠSTAR': 11, 'ãĥ´ãĤ¡': 11, 'ĠStar': 11, 'ĠGuardian': 11, 'Social': 11}\n",
      "=\" {'enser': 13, '\"><': 12, 'sac': 11, '><': 11, 'Ġwhere': 11, 'Â¯Â¯Â¯Â¯Â¯Â¯Â¯Â¯Â¯Â¯Â¯Â¯Â¯Â¯Â¯Â¯': 11, 'dose': 11, 'Ġdorm': 11, 'Ġ><': 11, 'oom': 11}\n",
      ")] {'Ġ[(': 13, '_(': 12, '\":[': 12, '>(': 11, ')(': 11, '\"(': 11, '.(': 11, '-(': 11, '(': 10, '(-': 10}\n",
      "Ġtrade {'itimate': 12, 'Ġrightful': 12, 'Ġlegitimate': 12, 'claimed': 12, 'Ġlucrative': 11, 'Ġlawful': 11, 'avorable': 11, 'licensed': 11, 'sponsored': 11, 'Ġprofitable': 11}\n",
      "Ġgoodness {'perhaps': 13, 'maybe': 12, 'Perhaps': 12, 'Maybe': 12, 'Ġmaybe': 11, 'ĠPerhaps': 11, 'Ġperhaps': 11, 'probably': 11, 'ĠMaybe': 11, 'oru': 10}\n",
      "ĠMis {'Ġparasitic': 13, 'Ġbattalion': 12, 'Battery': 12, 'bag': 12, 'Ġoutnumbered': 11, 'ortium': 11, 'Ġslang': 11, 'Ġbattery': 11, 'ĠBattery': 11, 'backer': 10}\n",
      "Ġpole {'split': 13, 'auld': 12, 'Split': 11, 'breaking': 11, 'winning': 11, 'allic': 11, 'Ġhomers': 11, 'Ġpatron': 11, 'amiya': 11, 'silver': 11}\n",
      "Ġse {'Ġsemen': 12, 'imet': 12, 'ibu': 12, 'kie': 11, 'emet': 11, 'going': 11, 'maid': 11, '571': 11, 'chief': 11, 'ectomy': 11}\n",
      "ĠSham {'Ġlyn': 13, 'rero': 12, 'gee': 12, 'Ġcolonel': 11, 'Ġdidn': 11, 'Ġknights': 11, 'Ġdishon': 11, 'Ġtriumphant': 11, 'eki': 11, 'Ġcaptain': 11}\n",
      "Ġtemplate {'Ġsynthetic': 12, 'ĠEngineers': 12, 'Ġgeneration': 12, 'Ġengineer': 12, 'AAAAAAAA': 11, 'Ġengineered': 11, 'Ġgenerating': 11, 'ommod': 11, 'erning': 11, 'generation': 11}\n",
      "si {'Ġheck': 13, 'Ġhangs': 12, 'Ġaesthetics': 12, 'Ġhang': 11, 'Ġestab': 11, 'ĠTam': 11, 'Ġhanging': 11, 'Ġpee': 11, 'Bah': 11, 'Ġhung': 11}\n",
      "kh {'ĠStar': 13, 'mor': 12, 'ĠSalvador': 12, 'ĠICE': 11, 'ĠSTAR': 11, 'ĠVenus': 11, 'Ġmarginally': 11, 'ĠSally': 11, 'ĠJupiter': 11, 'ĠMPH': 11}\n",
      "unic {'Ġabsolute': 12, 'Ġpand': 12, 'Ġcatast': 12, 'pard': 12, 'Ġward': 12, 'Ġutterly': 11, 'Ġpret': 11, 'ĠParad': 11, 'Ġinf': 11, 'Ġordeal': 11}\n",
      "GER {'ĠWeather': 13, 'ĠAm': 12, 'ĠAre': 11, 'ĠWill': 11, 'ĠDo': 11, 'Ġweather': 11, 'ĠNut': 11, 'ĠIs': 11, 'ĠSkies': 11, 'Am': 10}\n",
      ">> {'Ġacidic': 12, 'ĠMagn': 12, '</': 12, 'Ġ</': 12, 'Ġfav': 12, 'Magn': 11, '.</': 11, 'Ġantiv': 11, 'ĠLatest': 11, 'Ġicing': 11}\n",
      "ĠComput {'480': 12, '595': 12, 'Ġ480': 12, '477': 11, '387': 11, '590': 11, '780': 11, '675': 11, '594': 11, '579': 11}\n",
      "material {'Ġanal': 12, 'ĠPsychiatric': 12, 'Ġearthly': 12, 'ĠADHD': 12, 'Ġphysic': 11, 'ĠSouthern': 11, 'ĠTechn': 11, 'ĠAdv': 11, 'ĠMental': 11, 'Ġpsychiatric': 11}\n",
      "ĠGemini {'ĠRosen': 13, 'ĠCruise': 12, 'Ġshore': 12, 'Ġgunned': 11, 'ĠKuro': 11, 'ĠLash': 11, 'ĠJersey': 11, 'Ġcruise': 11, 'Ġpine': 11, 'ĠRept': 11}\n",
      "ĠLevant {'boats': 12, 'Ġboat': 12, 'Ġboats': 12, 'ĠBoat': 12, 'boat': 12, 'dust': 11, 'ĠPokÃ©mon': 11, 'idia': 11, 'okemon': 11, 'PokÃ©mon': 10}\n",
      "Ġhum {'ĠIrwin': 12, 'masters': 12, 'perors': 12, 'external': 12, 'innie': 12, 'owler': 11, 'Ġfactory': 11, 'Jonathan': 11, 'remlin': 11, 'viks': 11}\n",
      "Ġcertain {'financial': 12, 'gay': 12, 'phthal': 12, 'ality': 11, 'Ġincompetent': 11, 'nia': 11, 'ower': 11, 'Ġbenevolent': 11, 'Beyond': 11, 'nell': 11}\n",
      "ĠSte {'arson': 13, 'Ġcaptain': 12, 'SHIP': 12, 'ĠShip': 12, 'Captain': 11, 'ĠCaptain': 11, 'Ship': 11, 'ĠShirt': 11, 'boat': 11, 'Small': 11}\n",
      "Ġfrag {'ĠLarson': 13, 'daughter': 12, 'arson': 12, 'Ġbeard': 12, 'Ġreverence': 11, 'ĠCoat': 11, 'brother': 11, '................................': 11, 'Brandon': 11, 'lain': 11}\n",
      "termin {'ĠAlvarez': 12, 'ãĤ¨': 12, 'ĠShaw': 12, 'alsh': 12, 'ĠHash': 12, 'ĠZhang': 11, 'ĠMat': 11, 'Hash': 11, 'ĠHutch': 11, 'ĠSU': 11}\n",
      "ĠGrand {'Ġmicrobiome': 12, 'enance': 12, 'iliate': 12, 'Ġroommate': 12, 'acterial': 11, 'Ġborrower': 11, 'committee': 11, 'ARDIS': 11, 'Ġecosystem': 11, 'enser': 11}\n",
      "Ġaround {'Ġconflicting': 12, 'Ġswirling': 12, 'athering': 12, 'Ġmeetings': 12, 'eting': 11, 'Ġmeeting': 11, 'irled': 11, 'ĠMeeting': 11, 'Ġflowing': 11, 'Ġmirrored': 10}\n",
      "ĠLor {'chid': 12, 'aquin': 12, 'opter': 12, 'oultry': 11, 'Ġkinetic': 11, 'utic': 11, 'autical': 11, 'onna': 11, 'Ġweave': 11, 'olin': 11}\n",
      "Ġthen {'if': 13, 'Ġshave': 12, 'If': 11, 'ifled': 11, 'umph': 11, 'SM': 11, 'sm': 11, 'ĠIf': 11, 'Ġif': 11, 'aclysm': 11}\n",
      "Ġsum {'ylene': 12, 'command': 12, 'allic': 12, 'Ġcaptain': 12, 'Ġcommand': 11, 'Ġcaptains': 11, 'ormon': 11, 'bringer': 11, 'Ġcaptcha': 10, 'rina': 10}\n",
      "priority {'ĠHub': 12, 'ĠRank': 12, 'Rank': 12, 'Ġestab': 12, 'Ġ149': 12, 'Ġ124': 11, 'Hub': 11, 'ĠRa': 11, 'Ġ153': 11, 'Ġrg': 11}\n",
      "inter {'Ġstaring': 12, 'ilet': 12, 'Ġtoilet': 11, 'smoking': 11, 'sd': 11, 'iggs': 11, 'Ġlogin': 11, 'Ġbarbecue': 11, 'fs': 11, 'ĠChips': 11}\n",
      "yet {\"'t\": 12, 'Ġnot': 12, 'ĠPenguin': 12, 'Not': 12, 'Ġnob': 11, 'ĠNot': 11, 'iest': 11, 'Ġembr': 11, 'Nob': 11, 'not': 11}\n",
      "Sent {'Ġhunting': 12, 'Ġhunt': 12, 'Ġpostseason': 12, 'Ġoct': 12, 'Ġplayoffs': 11, 'ĠLIVE': 11, 'Ġhunted': 11, 'Dig': 11, 'Ġcod': 11, 'Ġlive': 11}\n",
      "Ġ\"' {'Ġdreaming': 12, 'Ġprescribing': 12, 'Ġconstructive': 12, 'Ġpromised': 11, 'Ġdreamed': 11, 'Ġequitable': 11, 'Ġchanted': 11, 'smart': 11, 'Ġadvisable': 11, 'Ġchanting': 11}\n",
      "Loader {'ĠBern': 12, 'ĠSeaf': 12, 'Bern': 12, 'ĠIN': 12, 'ĠIn': 11, 'Ġwinter': 11, 'ĠSIM': 11, 'Ġinning': 11, 'Ġtx': 11, 'ĠP': 11}\n",
      "Ġ> {'ĠLicense': 12, 'Ġcaf': 12, '<': 11, 'Ġbreath': 11, 'Ġfav': 11, 'mosp': 11, 'External': 11, 'Ġethn': 11, 'Ġ><': 11, 'Ġ<=': 11}\n",
      "ĠCo {'Ġappalling': 12, 'Ġbailout': 12, 'security': 12, 'Ġawful': 11, 'ONDON': 11, 'constitutional': 11, 'SHIP': 11, 'ĸļ': 11, 'monary': 11, 'Ġconfidential': 11}\n",
      "Ġforming {'Ġinvolve': 13, 'Ġinvolves': 12, 'involved': 12, 'Ġinvolvement': 12, 'Ġinvolved': 11, 'Ġinvolving': 11, 'Ġdevoted': 11, 'Ġinfluence': 10, 'particip': 10, 'ĠInvasion': 10}\n",
      "Ġproperty {'Ġclaiming': 13, 'claimed': 12, 'Ġprediction': 12, 'Ġpredicting': 11, 'Ġinvoking': 11, 'Ġpredict': 11, 'Ġsuspicion': 11, 'Ġpraying': 11, 'Ġdemanding': 11, 'Ġidea': 11}\n",
      "Ġtriple {'stained': 12, 'limited': 12, 'owed': 12, 'aved': 11, 'weed': 11, 'numbered': 11, 'Limited': 11, 'ĠProhibition': 11, 'aining': 11, 'limit': 11}\n",
      "cent {'Ġgene': 12, '122': 12, 'emetery': 12, '166': 12, 'aniel': 11, 'Ġ122': 11, 'Ġsunglasses': 11, 'Ġsubst': 11, 'CPU': 11, 'Ġ124': 11}\n",
      ">>> {'</': 13, 'Ġ</': 12, '.</': 12, '></': 11, 'Ġ<': 11, '\"></': 11, ')</': 11, 'ãĥĩãĤ£': 11, 'ĠMagn': 11, 'ë': 11}\n",
      "ĠGen {'Ġbeams': 12, 'igun': 12, 'Ġcontractor': 11, 'asus': 11, 'Products': 11, 'Ġpesticide': 11, 'Ġcontractors': 11, 'gee': 11, 'ĠPikachu': 11, 'ĠUsers': 11}\n",
      "rome {'BI': 12, 'Ġchrist': 12, 'Jr': 12, 'People': 11, 'sky': 11, 'qi': 11, 'Sky': 11, 'ĠDevils': 11, 'Ġmice': 11, 'ĠMalone': 11}\n",
      "Ġpoor {'ĠSadly': 12, 'cre': 12, 'Sadly': 11, 'Ġcrashing': 11, 'breaker': 11, 'Crash': 11, 'breakers': 11, 'Ġcrashed': 11, 'Ġfilthy': 11, 'Ġkiller': 11}\n",
      "yt {'ĠSymphony': 13, 'ĠCosmos': 12, 'Ġorchestra': 12, 'Ġgospel': 11, 'ĠOrchestra': 11, 'ĠGospel': 11, 'ospel': 11, 'Ġconcert': 11, 'Ġconcurrently': 11, 'Ġbroadband': 11}\n",
      "kid {'ĠBasics': 12, 'Ġmethodological': 12, 'ĠEns': 12, 'Ġethos': 11, 'ĠFir': 11, 'Ġears': 11, 'Ġcriterion': 11, 'ĠPriority': 11, 'ĠIntern': 11, 'ĠReason': 11}\n",
      "Ġlongest {'Ġlasting': 13, 'wa': 12, 'ultimate': 11, 'Ġenduring': 11, 'Ġchiefs': 11, 'ĠSurvive': 11, 'Wa': 11, 'Surv': 11, 'mit': 11, 'aida': 11}\n",
      "Ġhardest {'hitting': 13, 'Ġhits': 12, 'Ġhit': 12, 'Ġhitting': 12, 'those': 11, 'Hit': 11, 'ĠHit': 11, 'hit': 11, 'ĠHits': 10, 'Ġthose': 10}\n",
      "Ġpartial {'sei': 12, 'iii': 12, 'edin': 11, 'ii': 11, 'compl': 11, 'degree': 11, 'Ġconsensual': 11, 'Ġsole': 11, 'ãĥŃ': 11, 'ucci': 11}\n",
      "Ġ {'chemist': 13, 'Nor': 12, 'NOT': 12, 'Ġdissatisfied': 11, 'Ġplutonium': 11, 'Ġawful': 11, 'chev': 11, 'Ġunwelcome': 11, 'bidden': 11, 'Ġparadise': 11}\n",
      "Ġdeb {'Ġrife': 12, 'Ġsometimes': 12, 'ĠSometimes': 12, 'sometimes': 11, 'Ġtoxin': 11, 'often': 11, 'opia': 11, 'requently': 11, '********': 11, 'ortion': 11}\n",
      "ĠBom {'chnology': 12, 'Ġvivo': 12, 'ulatory': 12, 'ocyte': 11, 'Ġpatient': 11, 'otyp': 11, 'irus': 11, 'Ġtherapy': 11, 'iency': 11, 'ĠTherapy': 11}\n",
      "Ġgu {'Ġdining': 12, 'Ġstaffed': 12, 'helm': 12, 'immune': 11, 'earable': 11, 'Ġtherapy': 11, 'Ġstocked': 11, 'aston': 11, 'Ġstocking': 11, 'Ġdoping': 11}\n",
      "Ġfurther {'ocry': 12, 'Ġ1921': 12, 'Ġdrawn': 12, 'Ġdodging': 11, 'Ġskeptics': 11, 'ĠDrawn': 11, 'Ġskept': 11, 'Ġdiscouraging': 11, 'Ġevangelical': 11, 'ocal': 11}\n",
      "Ġim {'sponsored': 12, 'Ġinvited': 12, 'Ġinviting': 12, 'ĠSponsor': 11, 'Ġsmuggled': 11, 'Ġtempted': 11, 'Ġwarped': 11, 'elected': 11, 'Ġsponsor': 11, 'Ġelected': 11}\n",
      "son {'awatts': 12, 'ãĥĬ': 12, 'ĠKelvin': 12, 'Knight': 11, 'Ġpopcorn': 11, 'ĠBarnett': 11, 'Santa': 11, 'Karl': 11, 'umann': 11, 'ĠCharisma': 11}\n",
      "Ġ}, {'{{': 13, '({': 12, 'Ġ({': 12, ':{': 12, '(){': 11, 'Ġ${': 11, '${': 11, 'Ġ{{': 11, '={': 11, '{\\\\': 11}\n",
      ") {'.(': 13, '](': 12, '\"(': 12, '/(': 11, '-(': 11, 'Ġ[(': 11, 'Ġ:(': 11, '>(': 11, '_(': 11, '0000000': 11}\n",
      "IM {'ĠLap': 12, 'ĠLav': 12, 'ĠRune': 12, 'stairs': 11, 'ĠChap': 11, 'Ġhashing': 11, 'Ġlap': 11, 'ĠLau': 11, 'ĠSass': 11, 'ĠLab': 11}\n",
      "Ġtrace {'Ġdiagonal': 13, 'sson': 12, '519': 11, 'icone': 11, 'iani': 11, 'ridden': 11, '516': 11, 'Ġ520': 11, 'ih': 11, 'inic': 11}\n",
      "Ġpossibilities {'Ġoutdoors': 13, 'Pacific': 13, 'ĠPacific': 12, 'ĠOutdoor': 11, '016': 11, 'avers': 11, 'Ġoutdoor': 11, '240': 11, 'Ģ': 11, '16': 11}\n",
      "stuff {'Ġoutstanding': 13, 'ĠMad': 12, 'Ġgigantic': 11, 'ĠPhD': 11, 'ĠHigh': 11, 'Ġcrowned': 11, 'bad': 11, 'ĠGut': 11, 'Ġsuperb': 11, 'ĠBAD': 11}\n",
      "chan {'ĠHarvard': 12, 'Ġtin': 12, 'Ġwiki': 12, 'Ġmess': 11, 'biz': 11, 'ĠLeicester': 11, 'Beat': 11, 'Ġwhipped': 11, 'ĠPsych': 11, 'ĠPat': 11}\n",
      "Ġearlier {'foreseen': 13, 'cold': 11, 'Ġlacking': 11, 'Ġunseen': 11, 'Ġunforeseen': 11, 'nt': 11, 'lated': 11, 'Ġimaginable': 11, 'Ġunimaginable': 11, 'Ġcold': 11}\n",
      "size {'Ġwhales': 12, 'ĠSha': 12, 'ĠCOP': 12, 'ĠRip': 12, 'ĠFa': 11, 'ĠRoc': 11, 'ĠLic': 11, 'ĠLab': 11, 'ĠRat': 11, 'ĠLancet': 11}\n",
      "Ġintellig {'ĠChocolate': 12, 'ocolate': 12, 'Ġbooze': 12, 'Ġchocolate': 11, 'ĠFlickr': 11, 'Ġliquor': 11, 'Ġcoughing': 11, 'Ġpulmonary': 11, 'Ġpharmacy': 11, 'Trust': 10}\n",
      "Ġthru {'feeding': 12, 'Ġsailing': 12, 'Ġconveyed': 12, 'Ġtransmitted': 12, 'Ġtransmitting': 11, 'Ġfeeding': 11, 'Ġsailed': 11, 'Ġtransmission': 11, 'Ġirrigation': 11, 'Ġcruising': 11}\n",
      "context {'Earth': 13, 'ĠEarth': 12, 'ĠUT': 12, 'ĠCook': 12, 'Iowa': 11, 'Ġinspected': 11, 'Ġinspect': 11, 'ĠIowa': 11, 'ĠSavannah': 11, 'ĠISS': 11}\n",
      "ĠHor {'ylon': 12, 'Ġshotgun': 12, 'imon': 12, 'rams': 12, 'Ġbeer': 11, 'ĠBabylon': 11, 'beer': 11, 'Ġboasting': 11, 'Ġboast': 11, 'ouse': 11}\n",
      "ĠShades {'Ġtourist': 13, 'Tap': 11, 'Sport': 11, 'Ġtap': 11, 'Ġtrip': 11, 'Foot': 11, 'ĠTap': 11, 'Ġtrainer': 11, 'ĠPhotoshop': 11, 'ĠDemocracy': 11}\n",
      "ĠDetail {'igh': 12, 'ĠDeck': 12, 'alach': 12, 'Catalog': 11, 'MAS': 11, 'ĠKappa': 11, 'ocaly': 11, 'ĠXY': 11, 'ĠTestament': 11, 'ĠMAS': 11}\n",
      "var {'ĠHoo': 12, 'ĠNaw': 11, 'Ġsmokers': 11, 'ĠSanders': 11, 'ĠShiite': 11, 'ĠHSBC': 11, 'Ġausp': 11, 'shaw': 11, 'çĲ': 11, 'ĠMalone': 11}\n",
      "Ġprism {'Ġshining': 12, 'Ġglared': 12, 'Ġgazing': 12, 'Ġgaze': 12, 'Ġgazed': 11, 'look': 11, 'ĠLOOK': 11, 'looking': 11, 'Play': 11, 'PLAY': 11}\n",
      "Ġorigin {'unit': 12, 'opian': 11, 'Ġmonkeys': 11, 'iox': 11, 'sighted': 11, 'inational': 11, 'idae': 11, 'erion': 11, 'Ġtigers': 11, 'ilia': 11}\n",
      "ĠAnti {'aled': 12, 'ItemImage': 12, 'Ġcomplainant': 12, 'ospons': 11, 'Ġlineman': 11, 'Ġproduct': 11, 'encrypted': 11, 'Ġencrypted': 11, 'atorial': 11, 'ĠSpons': 11}\n",
      "ucc {'ĠMarlins': 12, 'ĠSalvador': 12, 'Ġdoomed': 12, 'ĠVampire': 11, 'socket': 11, 'ĠNept': 11, 'ĠChamberlain': 11, 'ĠImam': 11, 'ĠDamian': 11, 'ĠWerewolf': 11}\n",
      "eye {'ĠLOOK': 12, 'Ġlook': 12, 'Ġlooked': 12, 'Ġlooks': 11, 'ĠUltra': 11, 'ĠLook': 11, 'ĠTerra': 11, 'Ġultra': 11, 'Ġlooking': 10, 'Ultra': 10}\n",
      "Ġtop {'sighted': 14, 'aeus': 12, 'imeo': 11, 'served': 11, 'Ġsurveyed': 11, 'oked': 11, 'earable': 11, 'Ġknots': 11, 'Ġlights': 11, 'Ġfluorescent': 11}\n",
      "hing {'ĠTau': 13, 'Ġpsych': 12, 'Ġgastro': 12, 'ĠCortex': 11, 'Ġwhistle': 11, 'psych': 11, 'ĠElectric': 11, 'ĠSym': 11, 'ĠPsych': 11, 'Ġconvent': 11}\n",
      "Ġisolation {'baby': 13, '48': 13, 'hiba': 12, 'borne': 11, 'username': 11, '18': 11, '44': 11, 'okia': 11, 'Baby': 11, '52': 11}\n",
      "ĠHel {'ady': 12, 'lp': 12, 'phone': 12, 'iam': 12, 'mission': 11, 'hesion': 11, 'ardon': 11, 'adi': 11, 'ĠPhone': 11, 'Ġphone': 10}\n",
      "Ġwide {'wald': 12, 'shed': 12, 'wick': 11, 'retch': 11, 'Ġsheds': 11, 'mud': 11, 'idem': 11, 'Ġshed': 11, 'Ġvalley': 11, 'Ġlawn': 11}\n",
      "Ġsou {'meet': 13, 'Meet': 12, 'ĠMeet': 12, 'eteria': 12, 'imet': 11, 'Ġmeet': 11, 'ikini': 11, 'MET': 11, 'met': 11, 'Ġmeets': 10}\n",
      "Ġdr {'meter': 12, 'zin': 12, 'lining': 11, 'line': 11, 'agon': 11, 'Ġline': 11, 'iation': 11, 'onet': 11, 'omet': 11, 'degree': 11}\n",
      "Ġwidest {'bear': 12, 'Ġdistribut': 12, 'Ġbunny': 12, 'bearing': 11, 'wings': 11, 'Ġswath': 11, 'spread': 11, 'Ġdistributing': 11, 'Ġdistribute': 11, 'Ġbear': 11}\n",
      "Upload {'ĠJac': 12, 'Ñģ': 12, 'Ġath': 12, 'ĠMAS': 12, 'Ġdou': 11, 'Ġ252': 11, 'Jac': 11, 'Ġnep': 11, 'Ġsam': 11, 'Ġfem': 11}\n",
      "ilk {'Ġbreakfast': 12, 'Rock': 12, 'ĠJavascript': 12, 'Ġflavor': 11, 'ĠBreakfast': 11, 'Ġflavour': 11, 'ĠSweden': 11, 'ĠMetal': 11, 'ĠListen': 11, 'ĠInk': 11}\n",
      "Ġstates {'fly': 13, 'luent': 12, 'flies': 12, 'axter': 11, 'flying': 11, 'berries': 11, 'worms': 11, 'beam': 11, 'ishers': 11, 'ot': 11}\n",
      "sing {'ãĥĲ': 12, 'Fran': 12, 'Princ': 11, 'Arch': 11, 'ĠKron': 11, 'ĠChan': 11, 'Mon': 11, 'archive': 11, 'George': 11, 'ĠPrinc': 11}\n",
      "Ġowing {'Strange': 12, 'Ġabnormal': 12, 'ĠStrange': 12, 'Ġabsurd': 11, 'Ġinaccurate': 11, 'Ġabsurdity': 11, 'Ġerroneous': 11, 'Ġstrange': 11, 'Ġdefective': 11, 'Ġdegener': 11}\n",
      "Ġunders {'ĠBased': 12, 'Ġbased': 12, 'Ġdependent': 12, 'Ġdepending': 12, 'Ġresidency': 11, 'depending': 11, 'Ġbudding': 11, 'Ġdepend': 11, 'OUGH': 11, 'Ġpriesthood': 11}\n",
      "cho {'Ġdop': 13, 'Ġâĺħ': 12, 'Ġwhipping': 12, 'Ġbat': 12, 'ĠChips': 11, 'dding': 11, 'Ġwhipped': 11, 'Tex': 10, 'ãĤ¼': 10, 'Ġimpe': 10}\n",
      "ĠLab {'Ġairplane': 12, 'asus': 12, 'amia': 12, 'sponsored': 12, 'Ġrental': 11, 'ĠSponsor': 11, 'Ġleased': 11, 'Ġcockpit': 11, 'Ĳ': 11, 'Ġairplanes': 11}\n",
      "ĠES {'afi': 12, 'uki': 12, 'orah': 12, 'borne': 11, 'olia': 11, 'amia': 11, 'eller': 11, 'boards': 11, 'ita': 11, 'unit': 11}\n",
      "Ġhex {'Ġsubscribed': 13, 'display': 12, 'Ġfreezer': 11, 'Ġsubscribing': 11, 'Ġheadlined': 11, 'Ġcapped': 11, 'Ġsubscribe': 11, 'Ġtotaling': 11, 'Ġcontainment': 11, 'Ġsubscription': 11}\n",
      "ĠP {'Ġamateur': 12, 'onite': 12, 'Ġunofficial': 11, 'ormon': 11, 'earable': 11, 'atinum': 11, 'backer': 11, 'lord': 11, '780': 11, 'Ġunpaid': 11}\n",
      "obs {'ABC': 12, 'ĠSkin': 12, 'ĠABC': 12, 'Chapter': 11, 'ochond': 11, 'Ġarche': 11, 'Filename': 11, 'SN': 11, 'ĠBaseType': 11, 'ĠScar': 11}\n",
      "uv {'ĠKevin': 12, 'Kevin': 12, 'ĠJD': 11, 'ĠSant': 11, 'Ġchar': 11, 'ĠJava': 11, 'Ġthereto': 11, 'ĠJason': 11, 'ĠSEN': 11, 'ĠVikings': 11}\n",
      "Ġunexpectedly {'dn': 12, 'amen': 12, 'Ġincoming': 12, 'Miss': 11, 'ĠMissing': 11, 'Missing': 11, 'ĠMiss': 11, 'Crash': 11, 'Ġstumbled': 11, 'Ġbombshell': 11}\n",
      "Ċ {'asus': 12, 'atars': 12, 'ifling': 11, 'boards': 11, 'isites': 11, 'ĠImpossible': 11, 'Cola': 11, '772': 11, 'Ġmillennium': 11, 'ofi': 11}\n",
      "hire {'Ġfs': 12, 'ĠISIS': 12, 'ĠToy': 12, 'ĠGalaxy': 12, 'sha': 11, 'aker': 11, 'ĠAph': 11, 'ĠJar': 11, 'ĠApache': 11, 'ĠTok': 11}\n",
      "wait {'idd': 13, 'ĠIQ': 12, 'engu': 12, 'IND': 12, 'EEK': 12, 'usk': 11, 'cn': 10, 'ĠBOOK': 10, 'ĠID': 10, 'enz': 10}\n",
      "ĠArk {'seat': 12, 'movie': 12, 'ĠHelmet': 12, 'gado': 12, 'ĠPlato': 11, 'film': 11, 'video': 11, 'daughter': 11, 'children': 11, 'ĠSeat': 11}\n",
      "tin {'ĠTHR': 13, 'ĠCrit': 12, 'Station': 12, 'ĠPOW': 11, 'ĠTJ': 11, 'ĠLoc': 11, 'ĠStep': 11, 'Loc': 11, 'ĠBarber': 11, 'ĠSym': 11}\n",
      "Ġ\" {'Ġadmission': 12, 'Ġtrespass': 12, 'bidden': 12, 'calling': 12, 'excluding': 11, 'Ġstormed': 11, 'Ġforbidden': 11, 'Ġbuzzing': 11, 'Ġsmuggled': 11, 'Ġcannon': 11}\n",
      "REG {'ĠSpice': 12, 'ĠDD': 12, 'ĠTH': 12, 'ĠFunk': 12, 'ĠJPEG': 11, 'ĠCOL': 11, 'ĠHealth': 11, 'ĠFIL': 11, 'ĠV': 11, 'ĠMerchants': 11}\n",
      "ĠIsrael {'Ġhelicopters': 12, 'aida': 12, 'ocobo': 12, 'emale': 11, 'Ġservants': 11, 'ida': 11, 'al': 11, 'eeds': 11, 'gee': 11, 'igree': 11}\n",
      "Ġpool {'ĠAshes': 12, 'Ġspeculated': 12, 'Ġcomplimentary': 12, 'foreseen': 11, 'Ġreflective': 11, 'Ġcontemplated': 11, 'Ġemission': 11, 'Ġreflected': 11, 'Ġentertained': 11, 'Ġtasting': 11}\n",
      "Ġgaps {'Ġleak': 13, 'Isa': 12, 'Ġleaking': 12, 'ĠBrooklyn': 11, 'ĠLeah': 11, 'ĠCarbuncle': 11, 'Ġleakage': 11, 'Ġleaks': 11, 'Ġcavity': 11, 'aah': 10}\n",
      "ello {'538': 12, 'Ġreside': 11, 'UE': 11, 'ATOR': 11, '422': 11, '419': 11, 'Ġpuberty': 11, '389': 11, '798': 11, 'Ġresiding': 11}\n",
      "bots {'Ġantiv': 12, 'Ġantib': 12, 'Ġantim': 12, 'Ġant': 11, '127': 11, '088': 11, 'Ġanti': 11, 'Ġantip': 11, 'ĠBAD': 11, '128': 11}\n",
      "Ġ\"< {'Ġenlarged': 12, 'Ġblasphemy': 12, 'Ġimitation': 12, 'Ġrecycled': 11, 'iatures': 11, 'Ġappropriated': 11, 'Ġprescriptions': 11, 'hemy': 11, 'Ġcropped': 11, 'Ġpremature': 11}\n",
      "tel {'ACC': 13, 'ĠACC': 12, 'Imm': 12, 'å½': 11, 'ITCH': 11, 'ĠTut': 11, 'ĠImm': 11, 'ĠArist': 11, 'ĠMatth': 11, 'Occ': 11}\n",
      "ĠLoss {'ĠTrace': 12, 'quarter': 12, '280': 12, 'ĠWARNING': 11, '885': 11, 'Ġtimestamp': 11, 'ulz': 11, 'WARNING': 11, 'EMOTE': 11, 'ĠParagu': 11}\n",
      "Ġdegree {'isites': 12, 'ioned': 12, 'generated': 11, 'Ġtransformer': 11, 'modules': 11, 'matter': 11, 'bender': 11, 'justice': 11, 'Ġdemoral': 11, 'otional': 11}\n",
      "ĠNar {'ĠKung': 12, 'Ġplatoon': 12, 'ĠScourge': 12, 'Ġchoke': 11, 'Ġcanon': 11, 'ixture': 11, 'ĠClan': 11, 'athed': 11, 'ogan': 11, 'ĠBolt': 11}\n",
      "Ġparent {'isure': 12, '687': 12, 'Ġpowered': 12, 'Ġallowance': 11, 'allowed': 11, 'onductor': 11, 'powered': 11, 'inia': 11, 'Ġcryptography': 11, '712': 11}\n",
      "ĠG {'asus': 12, 'omet': 12, '522': 12, 'ower': 11, '612': 11, 'achi': 11, '747': 11, 'rost': 11, 'democracy': 11, 'Ġcannabinoid': 11}\n",
      "aca {'laughter': 13, 'Ġlaugh': 11, 'Congress': 11, 'Ġburger': 11, 'ĠDome': 11, 'session': 11, 'France': 11, 'ĠProfession': 11, 'ĠAlbum': 11, 'Release': 11}\n",
      "Ġdisk {'ubuntu': 13, 'email': 12, 'maid': 11, 'Ġoppression': 11, 'Ġemission': 11, 'Ġsmell': 11, 'Ġsmelled': 11, 'Ġfluent': 11, 'untu': 11, 'Ġmajesty': 11}\n",
      "ĠMang {'Ġvow': 12, 'Ġstrap': 12, 'Ġswear': 12, 'Ġoath': 12, 'Ġapproximation': 11, 'ĠPorn': 11, 'cert': 11, 'Ġcertification': 11, 'cation': 11, 'pse': 10}\n",
      "ĠId {'oxin': 12, 'idium': 12, 'Ġtroopers': 12, 'ormons': 11, 'acet': 11, 'moral': 11, 'ibo': 11, 'ormon': 11, 'box': 11, 'olin': 11}\n",
      "pe {'ĠCynthia': 12, 'ĠLoren': 12, 'ĠMTV': 12, 'ĠDee': 12, 'Ġteaspoon': 11, 'Eric': 11, 'lance': 11, 'Ġsmoked': 11, 'Ġrake': 11, 'laughs': 11}\n",
      "'] {'([': 12, '\"[': 12, \"Ġ'[\": 12, '\":[': 12, '=[': 12, 'Ġ([': 11, 'Ġ[': 11, 'Ġ\"[': 11, '\":[\"': 11, '[': 10}\n",
      "lat {'ĠChap': 12, 'Ġslab': 12, 'Ġchap': 12, 'Ġlaps': 12, 'ichick': 11, 'Ġpants': 11, 'Ġthigh': 11, 'ĠSith': 11, 'ĠLisp': 11, 'ĠShannon': 11}\n",
      "Ġsignal {'ieft': 12, 'ines': 12, 'ahn': 11, 'rans': 11, 'arna': 11, 'uminati': 11, 'Ġdepended': 11, 'arre': 11, 'icons': 11, 'amia': 11}\n",
      ")- {'Ġ[(': 12, '_(': 12, '=(': 11, '(': 11, '/(': 11, '-(': 11, 'Ġ``(': 11, '.(': 11, '](': 11, 'Ġ(': 11}\n",
      "t {'Ġoccult': 13, 'ĠIowa': 11, 'chedel': 11, 'Iowa': 11, 'aer': 11, 'ĠBirch': 11, 'Jean': 11, 'Ġdunk': 11, 'beans': 11, 'ĠBurger': 11}\n",
      "Ġdisproportion {'udd': 14, 'ully': 12, 'usters': 11, 'ĠHacker': 11, 'Ġreflective': 11, 'ĠCluster': 11, 'uster': 11, 'stud': 11, 'Ġcluster': 11, 'writer': 11}\n",
      "ĠInterior {'ĠBrigade': 13, 'erry': 12, 'Ġmicrobiome': 12, 'ESSION': 11, 'opsy': 11, 'worms': 11, 'session': 11, 'Ġspokesperson': 11, 'Ġgithub': 11, 'edi': 11}\n",
      "ĠGent {'nec': 12, 'boat': 12, 'ĠCompany': 12, 'ĠCrew': 11, 'ĠOwner': 11, 'rodu': 11, 'Ġdye': 11, 'company': 11, 'Ġapplicant': 11, 'ĠVendor': 11}\n",
      "Ġdemand {'uclear': 13, 'Angelo': 12, 'yson': 11, 'coe': 11, 'ĠContract': 11, 'sama': 11, 'ji': 11, 'Contract': 11, 'luent': 11, 'yl': 11}\n",
      "event {'Ġbur': 14, 'Bur': 13, 'Ġresur': 11, 'ĠBUR': 11, 'ĠBur': 11, 'ĠLL': 11, 'ĠSod': 11, 'Ġir': 11, 'Ġsm': 10, 'ĠLug': 10}\n",
      "ĠSh {'product': 12, 'asus': 12, 'Product': 12, 'products': 11, 'ĠProduct': 11, 'Ġproduct': 11, 'elia': 11, 'fee': 11, 'Ġdissatisfaction': 11, 'Ġdispleasure': 11}\n",
      "nm {'Ġlaunchers': 12, 'Ġlauncher': 12, 'ĠAthletics': 11, 'Ġshootings': 11, 'ĠShooting': 11, 'ĠCarlos': 11, 'launch': 11, 'Ġlaunches': 11, 'ollah': 11, 'Death': 11}\n",
      "Eye {'ĠBlack': 12, 'ĠLOOK': 11, 'ĠVisual': 11, 'ĠMil': 11, 'Ġlook': 11, 'ĠSpectrum': 11, 'Ġlooks': 11, 'ĠLook': 11, 'ĠRad': 11, 'Ġblack': 11}\n",
      "ĠComp {'Ġguideline': 13, 'eline': 12, 'mission': 11, 'ItemImage': 11, 'IFIED': 11, 'Ġbooze': 11, 'omet': 11, 'hibition': 11, 'ISSION': 11, 'Ġcharter': 11}\n",
      "993 {'ĠAirbus': 13, 'ĠDw': 12, 'ĠOu': 11, 'ĠAES': 11, 'Ġune': 11, 'ĠVander': 11, 'ĠUd': 11, 'ĠAST': 11, 'ĠNichols': 11, 'Ġtablespoons': 11}\n",
      "ick {'Ġtopp': 12, 'Bottom': 12, 'bottom': 12, 'Ultimately': 11, 'ĠUltimately': 11, 'Ġcornerback': 11, 'ĠNottingham': 11, 'icester': 11, 'ĠNiagara': 11, 'center': 10}\n",
      "oft {'ĠBatman': 12, 'ĠPit': 11, 'ĠGerrard': 11, 'ĠSunderland': 11, 'ĠBert': 11, 'ĠFat': 11, 'ĠGeorgetown': 11, 'ĠTrent': 11, 'ĠFinch': 11, 'Batman': 11}\n",
      "Ġcar {'generated': 12, 'Ġunaccompanied': 12, 'ĠÂłĠÂłĠÂłĠÂłĠÂłĠÂłĠÂłĠÂł': 12, 'sectional': 11, 'olated': 11, 'collection': 11, 'users': 11, 'Ġextinguished': 11, 'Ġunemployed': 11, 'USER': 11}\n",
      "Ġfor {'mere': 12, 'missible': 12, 'powered': 12, 'sponsored': 11, '478': 11, 'ither': 11, 'earable': 11, 'Ġpowered': 11, 'Ġinvaluable': 11, 'raid': 11}\n",
      "ĠHan {'ĸļ': 14, 'Å«': 11, 'ĠJonas': 11, 'ilers': 11, 'Ġvaping': 11, 'ryu': 11, 'Ġusername': 11, 'Â¯Â¯Â¯Â¯': 11, 'boats': 11, 'username': 11}\n",
      "Ġneither {'Ġnot': 13, 'not': 12, 'aus': 11, 'Ġunaff': 11, 'Ġunsur': 11, 'Not': 11, 'soc': 11, 'essel': 11, 'ĠNOT': 11, 'ĠNot': 11}\n",
      "ĠCod {'adra': 12, 'phone': 12, 'imize': 12, 'lon': 11, 'duino': 11, 'near': 11, 'uron': 11, 'Ġadjoining': 11, 'ibel': 11, 'Ġbattalion': 11}\n",
      "FI {'Ġphot': 12, 'Ġslee': 12, 'ĠNeuroscience': 11, 'ĠHeck': 11, 'Ġinclusive': 11, 'ĠCarnage': 11, 'Ġnick': 11, 'skin': 11, 'ĠScand': 11, 'ĠICE': 11}\n",
      "gar {'ĠSolar': 13, 'Solar': 12, 'ĠDesktop': 11, 'ĠGOLD': 11, '031': 11, 'ĠOrion': 11, 'Ġrc': 11, 'ĠOsc': 11, 'Ġcrowned': 11, 'ĠSatoshi': 11}\n",
      "ĠArt {'oran': 12, 'ino': 12, 'bike': 12, 'Ġminion': 11, 'ardon': 11, 'anted': 11, 'athi': 11, 'llah': 11, 'Ġforeign': 11, 'Ġbike': 11}\n",
      "?\", {'which': 12, 'Was': 12, 'Should': 12, 'who': 12, 'Does': 11, 'Which': 11, 'ĠWhich': 11, 'Ġwho': 11, 'Ġwhich': 10, 'ĠShould': 10}\n",
      "Ġ\"_ {'ĠAdded': 12, 'ĠAdding': 11, 'Ġadded': 11, 'Added': 11, 'Ġadditions': 11, 'Ġaddition': 11, 'aditional': 11, 'Ġadding': 11, 'ĠMandatory': 11, 'ĠAdd': 11}\n",
      "yy {'MODE': 12, 'ĠSurface': 11, 'ĠStreet': 11, 'Ġstance': 11, 'Ġsurface': 11, 'Ġcampus': 11, 'ĠCampus': 11, 'Ġlisteners': 11, 'Ġstreet': 11, 'campus': 11}\n",
      "inet {'iPhone': 12, 'ĠXbox': 12, 'Xbox': 12, 'ĠATP': 11, 'ĠMPH': 11, 'ĠKindle': 11, 'inch': 11, 'Ġcand': 11, 'ĠiPod': 11, 'cm': 11}\n",
      "def {'adium': 12, 'Luke': 11, 'ĠLiz': 11, 'WC': 11, 'ĠLuke': 11, 'Ġclassroom': 11, 'inness': 11, 'ĠWC': 11, 'Ġeducational': 11, 'ĠRichardson': 11}\n",
      "ee {'Ġworsh': 13, 'bank': 12, 'Ġbanking': 11, 'ĠDrink': 11, 'ĠParadise': 11, 'Ġturbine': 11, 'ĠStarbucks': 11, 'Ġbeverage': 11, 'desktop': 11, 'Stay': 11}\n",
      "ĠMP {'ariat': 13, 'Ġhormones': 12, 'ridor': 12, 'ormonal': 11, 'ollower': 11, 'ceptor': 11, 'iquette': 11, 'opian': 11, 'backer': 11, 'Ġhormone': 11}\n",
      "ici {'ĠADHD': 13, 'orange': 12, 'ptive': 11, 'beans': 11, 'ipolar': 11, 'Ġfluorescent': 11, 'Ġinterfere': 11, 'inkle': 11, 'ricular': 11, 'Timer': 10}\n",
      "agon {'elaide': 13, 'opausal': 12, 'ĠCentauri': 11, 'ĠKickstarter': 11, 'ĠCynthia': 11, 'Profile': 11, 'erto': 11, 'thia': 11, 'uberty': 11, 'Adventure': 11}\n",
      "Ġti {'earable': 13, 'Ġunbearable': 12, 'icable': 12, 'Ġwearable': 11, 'worthy': 11, 'pleasant': 11, 'Ġfeasible': 11, 'Ġuneasy': 11, 'Ġdetectable': 11, 'Ġintangible': 11}\n",
      "Ġproceeds {'ĠTory': 12, 'Ry': 12, 'Ġ1800': 11, '701': 11, 'Ġ2050': 11, 'Ġ1860': 11, '703': 11, 'Ġ2100': 11, 'ĠSioux': 11, 'Ġ7000': 11}\n",
      "Ġcac {'ifled': 12, 'enary': 12, 'ayed': 11, 'arded': 11, 'lated': 11, 'Ġunmarked': 11, 'ardless': 11, 'lectic': 11, 'registered': 11, 'ranged': 11}\n",
      ")-- {'Ġ[(': 13, 'Ġ``(': 12, '=(': 12, 'Ġ$(': 11, 'Ġ(': 11, '(': 11, 'Ġ((': 11, '.(': 11, '-(': 10, '((': 10}\n",
      "ĠCall {'Afee': 12, 'oward': 12, 'Ġretweet': 12, 'Ġvitro': 11, 'Ġcouncill': 11, 'Ġspam': 11, 'ĠPikachu': 11, 'ormon': 11, 'ounty': 10, 'ĠWarranty': 10}\n",
      "Ġauto {'Ġsmell': 12, 'crow': 11, 'flying': 11, 'sighted': 11, 'result': 11, 'ctl': 11, 'Ġsmelling': 11, 'chemist': 11, 'payment': 11, 'Ġemission': 11}\n",
      "ĠAhead {'ĠOEM': 12, 'Ġsongs': 12, 'ĠPorn': 12, 'Ġsong': 11, 'Ġpornographic': 11, 'ĠNRA': 11, 'ĠSongs': 11, 'Sex': 11, 'osponsors': 11, 'ĠBride': 11}\n",
      "Ġamongst {'Ġdivides': 12, 'Ġunmatched': 12, 'Ġassorted': 12, 'Ġunsuspecting': 11, 'Ġdividing': 11, 'Ġsegregated': 11, 'Ġwandered': 11, 'picked': 11, 'tracks': 11, 'Ġdivide': 11}\n",
      "ĠStory {'ĠPanther': 12, 'Ġbicycl': 12, 'Ġgunshot': 12, 'otor': 12, 'ilage': 11, 'ilion': 11, 'OSH': 11, 'ĠLoren': 11, 'Ġcaptain': 11, 'Ġknocks': 11}\n",
      "ĠPP {'ollower': 13, 'backer': 12, 'Ġchemotherapy': 12, 'urrency': 11, 'mission': 11, 'Option': 11, 'Ġsupporter': 11, 'Ġinstructional': 11, 'otherapy': 11, 'ertility': 11}\n",
      "sed {'ĠExc': 12, 'Ġcath': 12, 'Ġbapt': 11, 'exc': 11, 'Ġexc': 11, 'Ġtoilets': 11, 'Ġfingers': 11, 'Exc': 11, 'christ': 11, 'ĠTr': 11}\n",
      "AF {'ĠSummer': 12, 'STATE': 12, 'ĠVale': 11, 'ĠNut': 11, 'ĠJade': 11, 'Summer': 11, 'desktop': 11, 'Ġearthly': 11, 'ĠAutumn': 11, 'ĠSod': 11}\n",
      "ĠArg {'Ġrecru': 13, 'Ġpurchaser': 12, 'Ġinvestor': 11, 'gow': 11, 'Ġinvestors': 11, 'Ġrecruitment': 11, 'Ġcountryside': 11, 'Ġlawn': 11, 'alions': 11, 'Ġbuyers': 11}\n",
      "Ġpert {'cible': 13, 'idable': 12, 'sensitive': 11, 'iable': 11, 'Ġstable': 11, 'vable': 11, 'Ġsensitive': 11, 'achable': 11, 'Ġbloody': 11, 'ceptive': 10}\n",
      "ĠGer {'athering': 12, 'Ġmeetings': 12, 'ĠCoalition': 11, 'ĠGathering': 11, 'Ġspacing': 11, 'Ġcrowd': 11, 'ĠExpect': 11, 'Ġgreeting': 11, 'Ġbreathed': 11, 'athered': 11}\n",
      "fing {'ĠHash': 13, 'ĠBurger': 12, 'Ġanch': 11, 'Ġsque': 11, 'Ġparking': 11, 'ĠHampshire': 11, 'Ġburger': 11, 'ĠSwiss': 11, 'Ġbur': 11, 'ĠRidge': 11}\n",
      "dc {'Ġpav': 13, 'Ġundergrad': 12, 'ĠTennis': 12, 'Ġenglish': 11, 'ĠSidd': 11, 'ĠBooker': 11, 'aer': 11, 'ĠMartin': 11, 'ĠNina': 11, 'ĠEnglish': 11}\n",
      "Ġbl {'ocide': 12, 'delete': 12, 'ildo': 11, 'Â©': 11, 'ĵĺ': 11, 'sudo': 11, 'boot': 11, 'olition': 11, 'kie': 11, 'Ġdomination': 11}\n",
      "ĠLot {'ĠTakeru': 12, 'Ł': 12, 'Ġcrew': 11, 'ensical': 11, 'ĠTRUE': 11, 'ÃĽÃĽ': 11, 'Ġgamer': 11, 'Ġhelium': 11, 'abyte': 11, 'omon': 11}\n",
      "ĠSing {'member': 12, 'ron': 12, 'Ġminion': 11, 'compan': 11, 'ĠHarrison': 11, 'Ġcaptain': 11, 'ĠTrooper': 11, 'Ġbeasts': 11, 'ony': 11, 'SON': 11}\n",
      "ĠOrgan {'ĠCharter': 14, 'Ġcharter': 14, 'omet': 11, 'oting': 11, 'inition': 10, 'retion': 10, 'olation': 10, 'ĠPlate': 10, 'fer': 10, 'plate': 10}\n",
      "Ġsudden {'Ġoverwhelmed': 12, 'shock': 12, 'Ġbreaker': 11, 'prising': 11, 'breakers': 11, 'Ġstartled': 11, 'Ġshocked': 11, 'interrupted': 11, 'Ġsurprise': 11, 'Ġsurprised': 11}\n",
      "ĠNe {'Ġbrackets': 13, 'Ġpassers': 12, 'goers': 12, 'bys': 11, 'lp': 11, 'ammers': 11, 'bies': 11, 'Ġbicycles': 11, 'sem': 11, 'finals': 11}\n",
      "Ġproc {'Therefore': 12, 'ustainable': 12, 'ĠTherefore': 11, 'Ġovere': 11, 'successfully': 11, 'Support': 11, 'compatible': 11, 'Ġbiotech': 11, 'Ġinfinite': 11, 'tech': 11}\n",
      "ĠSeries {'gae': 14, 'THER': 11, 'akov': 11, 'ATTLE': 11, 'bots': 11, 'uther': 11, 'Ġspam': 11, 'uine': 11, 'ther': 11, 'combe': 10}\n",
      "Ġcent {'mate': 12, 'ennial': 12, 'imus': 12, 'Ġpalate': 12, 'Ġhomebrew': 12, 'Ġreplica': 11, 'Ġemblem': 11, 'Ġmerger': 11, 'generation': 11, 'Ġgeneration': 10}\n",
      "Ġrep {'Ġacre': 13, 'acre': 13, 'wald': 12, 'akh': 11, 'mere': 11, 'velt': 11, 'Ġunemployed': 11, 'cakes': 11, 'Ġpeach': 10, 'hester': 10}\n",
      "uez {'Stan': 12, 'ĠBuddh': 12, 'ĠBowling': 12, 'Pitt': 12, 'ĠTruck': 11, 'ĠBuddhist': 11, 'ĠVert': 11, 'ĠThrust': 11, 'ĠNug': 10, 'ĠBicycle': 10}\n",
      "ross {'ĠPulitzer': 12, 'Fuck': 12, 'rehend': 12, 'alian': 11, 'ĠFuck': 11, 'Ġdrown': 11, 'Root': 11, 'topic': 11, 'Ġinitiating': 11, 'Ġsheer': 10}\n",
      "Ġ|| {'Ġpalms': 14, 'Ġpalm': 12, 'cakes': 11, 'Ġempowering': 11, 'Ġ!': 11, 'Ġ323': 11, '398': 11, 'Ġ402': 11, 'ables': 10, '583': 10}\n",
      "ĠSav {'omet': 13, 'osh': 12, 'ptin': 12, 'ilot': 11, 'opter': 11, 'cle': 11, 'aged': 11, 'backer': 11, 'icka': 11, 'cular': 11}\n",
      "Ġcounters {'MET': 13, 'met': 12, 'isites': 12, 'Ġcorps': 11, 'Loader': 11, 'vine': 11, 'beam': 11, 'ĠMET': 11, 'oco': 11, 'oad': 10}\n",
      "Ġsto {'Ġ2050': 12, '80': 12, '2010': 11, '20': 11, 'Play': 11, '1920': 11, '803': 11, '75': 11, '820': 11, '2005': 11}\n",
      ",) {'Ġ[(': 14, '((': 13, 'Ġ((': 13, 'Ġ(': 11, '.(': 11, '/(': 10, ')(': 10, 'Ġ``(': 10, '=(': 10, '>(': 10}\n",
      "Ġunknown {'eh': 12, 'ifled': 12, 'ssh': 12, 'ä¹ĭ': 11, 'VPN': 11, 'brids': 11, 'Lair': 11, 'mediated': 11, 'ryu': 11, 'Ġ>=': 11}\n",
      "]] {'Ġtack': 12, '[[': 12, 'Ġ[[': 11, 'Ġ\"[': 11, '\":[': 11, 'Ġ[': 11, 'ack': 11, '-[': 11, '[_': 11, 'Ġ****': 11}\n",
      "aid {'ĠStard': 12, 'ĠStras': 12, 'ĠNewark': 12, 'ĠTimbers': 11, 'urches': 11, 'Pitt': 11, 'Platform': 11, 'Obj': 11, 'ĠEssex': 11, 'rak': 11}\n",
      "ĠGeneral {'Ġcommittee': 13, 'Ġpamphlet': 11, 'Ġcommittees': 11, 'ĠCommittee': 11, 'committee': 11, 'Ġnearer': 11, 'ĠCommittees': 11, 'ittee': 11, 'Ġfinal': 11, 'ittees': 10}\n",
      "ĠInstrument {'Ġvaccines': 14, 'Ġvaccine': 14, 'Ġvaccinations': 12, 'Ġliquor': 11, 'Ġcoral': 10, 'Provider': 10, 'Ġhotline': 10, 'Ġvaccination': 10, 'munition': 10, 'Ġentitlement': 10}\n",
      "ĠUng {'Ġhalfway': 12, 'Ġcoil': 12, 'Ġsquadron': 11, 'Ġtroopers': 11, 'Ġtrip': 11, 'Ġcomrade': 11, 'Ġcrew': 11, 'Ġcoils': 11, 'Ġchores': 11, 'Ġgirlfriend': 11}\n",
      "ĠOmn {'ATURE': 12, 'Ġchores': 12, 'Ġgladly': 11, 'utory': 11, 'ĠEverest': 11, 'Ġrainbow': 11, 'Ġvowed': 11, 'ath': 11, 'bly': 11, 'ATH': 10}\n",
      "Ġshorthand {'Ġknown': 12, 'Ġindicated': 12, 'Ġdefined': 11, 'Ġsigns': 11, 'ized': 11, 'known': 11, 'Introduced': 11, 'Ġdefines': 11, 'Ġsignaled': 11, 'Ġexpresses': 11}\n",
      "Sources {'ĠAust': 13, 'ĠCoul': 13, 'Ġdisag': 12, 'ĠOCD': 11, 'ĠSequ': 11, 'Ġunatt': 11, 'Ġgarn': 11, 'ĠJacqu': 11, 'Ġforests': 11, 'Deb': 11}\n",
      "Ġinline {'Ġexhibiting': 13, 'lighting': 12, 'Ġexhibited': 12, 'Ġlighting': 11, 'Ġproducing': 11, 'Ġlight': 11, 'Ġdecoration': 11, 'light': 11, 'shown': 10, 'Ġsignature': 10}\n",
      "Ġprobe {'Ġcomplying': 13, 'ĠGleaming': 12, 'Ĝ': 12, '469': 11, 'Ġcomply': 11, 'Ġsmelled': 11, 'Ġunequiv': 11, 'maxwell': 11, 'Ġcomplied': 10, 'Ġscent': 10}\n",
      "kg {'Ġ122': 12, 'Ġ102': 12, 'Ġ106': 12, 'Ġ76': 11, 'Ġ158': 11, 'Ġ109': 11, 'Ġ101': 11, 'Ġ124': 11, 'Ġ116': 11, 'Ġ104': 11}\n",
      "ff {'ĠLabs': 12, 'ĠGators': 12, 'ĠWar': 12, 'IDs': 12, 'Ġbathrooms': 11, 'Wars': 11, 'War': 11, 'ĠRPGs': 11, 'ĠSchultz': 11, 'Ġdesk': 10}\n",
      "ĠForward {'abies': 12, 'ippy': 12, 'Ġpoem': 11, 'ibo': 11, 'ĠPATH': 11, 'ograp': 11, 'rador': 11, 'packages': 11, 'ĠTicket': 11, 'song': 11}\n",
      "ĠSM {'ardon': 11, 'lighting': 11, 'ormonal': 11, 'independence': 11, 'orescence': 11, 'itiz': 11, 'İ': 11, 'boarding': 11, 'Light': 11, 'democratic': 11}\n",
      "Ġinstrument {'ofi': 12, 'Ġvaccines': 12, 'Ġvaccine': 12, 'Ġgases': 11, 'Ġvaccinations': 11, 'Ġcoral': 11, 'species': 11, 'light': 11, 'luent': 11, '604': 10}\n",
      "Ġbecause {'negative': 12, 'Ġcoercive': 12, 'Ġfrightening': 12, 'Ġintolerable': 11, 'Ġimprobable': 11, 'Ġreluctantly': 11, 'Ġdismal': 11, 'Ġnegative': 11, 'Ġbleak': 11, 'Ġunwelcome': 11}\n",
      "Ġn {'507': 12, 'earable': 12, 'canon': 12, 'mitter': 11, 'beam': 11, 'asus': 11, 'generation': 11, 'quished': 11, 'abyte': 11, 'lane': 11}\n",
      "Ġh {'amsung': 12, 'Ġpiping': 12, 'ppelin': 12, 'axter': 11, 'earable': 11, 'opian': 11, 'aley': 11, 'iosis': 11, 'Ġhomebrew': 11, 'athing': 11}\n",
      "EY {'ĠK': 12, 'ĠMcK': 12, 'ĠPwr': 11, 'ĠNAACP': 11, 'ãĥ': 11, 'ĠYas': 11, 'ĠSch': 11, 'Â': 11, 'ĠNES': 11, 'Ġrad': 11}\n",
      ".} {'{{': 12, 'Ġ{{': 12, 'Ġ{\\\\': 12, 'Ġ{:': 12, '({': 11, 'Ġ({': 11, '{\\\\': 11, 'Ġ{': 11, '{': 10, '={': 10}\n",
      "ĠVideo {'792': 12, '572': 12, '591': 11, '374': 11, '776': 11, 'Ġ354': 11, 'landers': 11, 'Ġmilitar': 11, '771': 11, '354': 11}\n",
      "Ġpara {'isites': 12, 'Ġsentient': 12, 'icious': 11, 'Ġinhibitor': 11, 'remote': 11, 'ocent': 11, 'plugin': 11, 'Ġminion': 11, 'isite': 11, 'agonal': 11}\n",
      "DE {'Ġbaskets': 12, 'Ġbatter': 12, 'Ġbasket': 11, 'Nut': 11, 'Ġnut': 11, 'ĠNut': 11, 'ĠSeahawks': 11, 'ĠEggs': 11, 'Ġboots': 11, 'Ġeggs': 10}\n",
      "ĠHaj {'ĠCommittees': 12, 'ĠCommittee': 12, 'icians': 12, 'Ġcommittee': 11, 'Ġgentlemen': 11, 'Ġcommittees': 11, 'cars': 11, 'days': 11, 'Ġbicycles': 11, 'DAY': 11}\n",
      "Ġter {'bringer': 13, 'emet': 12, 'beam': 11, 'ALSE': 11, 'Ġartif': 11, 'Ġunmanned': 11, 'erning': 11, 'piece': 11, 'pse': 11, 'rawn': 11}\n",
      "yu {'Ġlun': 12, 'ĠSpir': 12, 'ĠPSP': 12, 'ĠPJ': 11, 'Ġsusp': 11, 'bj': 11, 'Ġsw': 11, 'Ġnib': 11, 'ĠSPI': 11, 'ĠLaun': 11}\n",
      "among {'Ġdivides': 13, 'Ġpartitions': 12, 'nick': 11, 'Ġpartition': 11, 'Ġdivide': 11, 'Ġobstacles': 11, 'Ġunmatched': 11, 'Ġcohesive': 11, 'Ġselects': 10, 'Ġallocate': 10}\n",
      "ĠInfinity {'ulia': 12, 'owa': 12, 'Ġminion': 11, 'Ġcapita': 11, 'aiden': 11, 'alkyrie': 11, 'ady': 11, '758': 11, '757': 11, 'Ġminions': 11}\n",
      "vale {'Ġpepper': 13, 'Ġpeppers': 12, 'Ġpist': 11, 'ĠHelmet': 11, 'Ġdisqual': 11, 'Ġfoothold': 11, 'ĠPepper': 11, 'Ġshowcases': 11, 'Ġtruck': 11, 'Ġexhib': 11}\n",
      "ĠASC {'Ġdignity': 12, 'ansom': 12, 'cong': 12, 'LP': 11, 'Doctors': 11, 'ducers': 11, 'ĠDoctors': 11, 'ĠPDT': 11, 'Ġpursuant': 11, 'dk': 11}\n",
      "peg {'Intern': 12, 'ĠIntern': 11, 'ĠKet': 11, 'Ġshel': 11, 'ĠDele': 11, 'ĠDex': 11, 'ĠLock': 11, 'ĠCrypt': 11, 'ĠBurger': 11, 'eping': 11}\n",
      "Ġcaused {'Ġoppressed': 12, 'Ġoppress': 12, 'Ġinsidious': 12, 'Ġgloom': 11, 'Ġintrusion': 11, 'Ġintrusive': 11, 'Ġoppression': 11, 'Ġintolerable': 11, 'Ġgloomy': 11, 'Ġbarrier': 10}\n",
      "Ġfederally {'Ġunlawful': 12, 'Ġunlawfully': 12, 'Ġstunning': 12, 'Ġuncomfortable': 11, 'cedented': 11, 'Ġunprecedented': 11, 'Ġoutrageous': 11, 'Ġunparalleled': 11, 'Ġunauthorized': 11, 'Ġunreasonable': 11}\n",
      "Ġden {'¶ħ': 13, 'åħī': 12, 'choes': 11, 'ilia': 11, 'methyl': 11, 'wp': 11, 'ergus': 11, 'cham': 11, 'Ä«': 11, 'Ķ': 11}\n",
      "Ġbound {'Ġgeneral': 12, 'oler': 12, 'Therefore': 12, 'Global': 12, 'general': 12, 'llor': 11, 'global': 11, 'oooooooo': 11, 'Ġsimulate': 11, 'ĠCato': 11}\n",
      "dam {'ĠElizabeth': 13, 'Elizabeth': 13, 'ĠSenior': 11, 'IST': 11, 'Intern': 11, 'ĠAAP': 11, 'ĠIntern': 11, 'ĠESL': 11, 'ĠIRS': 10, 'ĠDIS': 10}\n",
      "idan {'ĠNate': 13, 'ĠBrah': 11, 'ãĥīãĥ©': 11, 'ĠBruno': 11, 'Ġbatter': 11, 'ĠJury': 11, 'ĠZhang': 11, 'ĠZhao': 11, 'ĠPanthers': 11, 'Ġbatters': 11}\n",
      "Ġref {'edin': 12, 'iol': 12, 'aeus': 12, 'ory': 12, 'cul': 11, 'ofi': 11, 'cre': 11, 'atism': 11, 'ana': 11, 'ocry': 11}\n",
      "sty {'ĠETF': 12, 'ĠSchultz': 12, 'bean': 11, 'ĠShaw': 11, 'etr': 11, 'quet': 11, 'ĠBetty': 11, 'ulz': 11, 'ĠBret': 11, 'Ġplatforms': 11}\n",
      "Ġsub {'oenix': 13, 'ryu': 12, 'urga': 11, 'ĠSakura': 11, 'ĠSouthampton': 11, 'Ġoutbreak': 11, 'Phoenix': 11, 'olphin': 11, 'ĠGallup': 11, 'lus': 11}\n",
      "mem {'Ġbrunch': 12, 'Ġpsychiatrist': 12, 'Ġacademy': 12, 'ĠAcademy': 11, 'ĠFeast': 11, 'Ġsupper': 11, 'Ġlunch': 11, 'Ġcathedral': 11, 'Ġfeast': 11, 'Ġcharitable': 11}\n",
      "Ġvol {'ifling': 13, 'ifled': 13, 'chard': 11, 'outside': 11, 'ofi': 11, 'Ġsmell': 11, 'ĥ': 11, 'ãĤĮ': 10, 'rowing': 10, 'leck': 10}\n",
      "ĠHorn {'morning': 13, 'ombo': 13, 'Ġmorning': 11, 'ĠSkype': 11, 'Ġcows': 11, 'Ġkilomet': 11, 'ogan': 11, 'ĠDamascus': 11, 'noon': 10, 'rat': 10}\n",
      "cer {'Ġchuck': 12, 'Ġfs': 12, 'ĠJer': 12, 'Ġvectors': 11, 'Ġterrorists': 11, 'Ġthrows': 11, 'Ġtf': 11, 'ĠCHR': 11, 'Jer': 11, 'fs': 11}\n",
      "Cod {'Ġdrop': 12, 'ĠReduce': 11, 'Ġreducing': 11, 'Ġdrops': 11, 'ĠChop': 11, 'Ġdecreasing': 11, 'Ġdisapp': 11, 'Ġincl': 11, 'Ġreduce': 11, 'Ġdropped': 11}\n",
      "ĠFields {'olon': 14, 'rican': 12, 'ony': 12, 'gm': 11, 'ONY': 11, 'ameron': 11, 'onies': 10, 'munition': 10, 'ãĤ´ãĥ³': 10, 'Email': 10}\n",
      "ĠÃ {'earable': 12, 'ibia': 12, 'asus': 12, 'ĠPegasus': 11, 'ollah': 11, 'abilia': 11, 'Ġlights': 11, 'rences': 11, 'Ġelectricity': 11, 'arta': 11}\n",
      "Hi {'ĠMag': 12, 'ĠMAG': 12, 'éĹ': 11, 'Mag': 11, 'ĠChap': 11, 'Ġphot': 11, 'ĠMagn': 11, 'Ġmag': 11, 'ĠTAG': 11, 'MAG': 11}\n",
      "Ġterminal {'generation': 14, 'Ġabstraction': 12, 'aeus': 12, 'generated': 11, 'Ġgeneration': 11, 'nutrition': 11, 'IENCE': 10, 'ience': 10, 'positive': 10, 'Ġgenerated': 10}\n",
      "+) {'((': 13, 'Ġ(': 13, 'Ġ((': 12, 'Ġ(-': 11, '.(': 11, '-(': 11, 'Content': 11, '=(': 10, 'ĠArms': 10, '(-': 10}\n",
      "Ġmem {'Ġtyrant': 12, 'compatible': 12, 'atible': 11, 'tesy': 11, 'affiliated': 11, 'rible': 11, 'Ġcourtesy': 11, 'Ġcharitable': 11, 'Ġincompatible': 11, 'Ġwicked': 11}\n",
      "stand {'ĠWitches': 12, 'ĠSikh': 11, 'Ġearthly': 11, 'WHO': 11, 'ĠPlanet': 11, 'Ġwitches': 11, 'ĠVietnam': 11, 'ĠAlcohol': 11, 'ĠWHO': 11, 'Planet': 11}\n",
      "ĠAg {'cients': 13, 'gee': 12, 'elia': 12, 'breeding': 11, 'Ġ457': 11, 'ĠPatreon': 11, 'ulic': 11, 'reon': 11, 'Ġ950': 10, 'Ġ920': 10}\n",
      "tt {'ĠSunderland': 12, 'Ġ172': 12, '252': 11, '129': 11, 'Ġ125': 11, 'Ġpreval': 11, 'Ġ252': 11, 'Ġ126': 11, 'Ġ129': 11, 'Ġ122': 11}\n",
      "Ġtrim {'fit': 12, 'Ġfitting': 12, 'fitting': 12, 'broken': 12, 'Ġfitted': 11, 'Ġbroke': 11, 'fitted': 11, 'Ġbroken': 11, 'Ġfit': 11, 'ĠBroken': 10}\n",
      "src {'Ġsulph': 13, 'Ġsulf': 12, 'ant': 11, 'lycer': 11, 'Ġsulfur': 11, 'Ġvert': 11, 'ĠUrs': 11, 'Mer': 11, 'ope': 10, 'Ġpept': 10}\n",
      "ĠDE {'orset': 13, 'olini': 12, 'arlane': 12, 'ament': 11, 'edience': 11, 'ĠMongolia': 11, 'nut': 10, 'Ġgamer': 10, 'inoa': 10, 'eston': 10}\n",
      "Ġthat {'illusion': 12, 'ibble': 12, 'Ġillusion': 12, 'phase': 11, 'affected': 11, 'light': 11, 'inyl': 11, 'Ġconcept': 11, 'sect': 11, 'Ġdisgusted': 11}\n",
      "Ġmixed {'506': 13, '221': 11, '501': 11, '706': 11, 'Ĝ': 11, '806': 11, 'oley': 11, '421': 11, '745': 11, '920': 11}\n",
      "isu {'Ġwww': 13, 'Ġsym': 12, 'www': 12, 'ĠGuan': 11, 'ĠDerek': 11, 'ĠWhite': 11, 'ĠHumph': 11, 'Ġlake': 10, 'ĠPsychiat': 10, 'Ġchimpan': 10}\n",
      "Ġab {'ayn': 13, '¯': 12, 'idal': 11, 'sighted': 11, 'Ġcivic': 11, 'reys': 11, 'Ġdystopian': 11, 'lene': 11, 'ioxid': 10, 'Ġsuck': 10}\n",
      "Ġpart {'containing': 12, 'sectional': 12, 'Ġsymptom': 11, 'Ġdisgusted': 11, 'contained': 11, 'conference': 11, 'Ġbriefing': 11, 'roph': 11, 'Ġsecrecy': 11, 'Ġcontained': 11}\n",
      "quin {'ĠActress': 13, 'Ġstrikers': 12, 'Ġshooter': 11, 'Ġmusician': 11, 'ĠStrike': 11, 'ĠShooter': 11, 'Ġdriver': 11, 'ĠShark': 11, 'ĠVictims': 11, 'ĠThief': 11}\n",
      "dead {'Ġditch': 12, 'ĠPitch': 12, 'Ġlightsaber': 11, 'ĠBud': 11, 'Ġcateg': 11, 'ĠSB': 11, 'ĠSnow': 11, 'sb': 11, 'ĠStard': 11, 'ĠPeaks': 11}\n",
      "rat {'ĠBannon': 12, 'ĠSchultz': 12, 'Ġcath': 11, 'ĠBunker': 11, 'ĠFinger': 11, 'Wednesday': 11, 'ĠDay': 11, 'Ġadmon': 11, 'Day': 11, 'inch': 11}\n",
      "ĠOD {'Ġmeasurable': 13, 'ostic': 12, 'igible': 11, 'ieval': 11, 'genic': 11, 'erous': 11, 'visible': 11, 'luent': 11, 'uable': 11, 'mable': 11}\n",
      "ĠPress {'inea': 13, 'otech': 12, 'ousel': 11, 'usa': 11, 'cies': 11, 'ctl': 11, 'hua': 11, 'opter': 11, 'ĠChance': 10, 'Ġadoption': 10}\n",
      "tis {'ĠWat': 12, 'ĠSeek': 12, 'ĠCr': 12, 'ĠLooking': 11, 'ĠSJ': 11, 'ĠEc': 11, 'Cra': 11, 'ĠJac': 11, 'Ġcr': 11, 'Ġsugars': 11}\n",
      "Ġeconomy {'Ġfinanced': 12, 'Ġaccomplished': 12, 'Ġfinancing': 11, 'foundation': 11, 'impact': 11, 'Ġhelmets': 11, 'Ġfinance': 11, 'Ġmaintenance': 11, 'Ġaffects': 11, 'connection': 11}\n",
      "Ġcurrently {'Ġdissatisfied': 13, 'ĠCree': 12, 'Ġinsecure': 11, 'lean': 11, 'obia': 11, 'Ġatheism': 11, 'Ġlows': 11, 'vari': 11, 'Ġgloomy': 11, 'avis': 11}\n",
      "Ġiter {'âĢİ': 13, 'ÂŃ': 12, 'style': 11, 'fff': 11, 'Ġreign': 11, 'ternally': 11, 'urga': 11, '00000000': 10, 'berries': 10, 'âĢĭ': 10}\n",
      "gan {'ĠKara': 13, 'Florida': 12, 'ĠFlorida': 12, 'ĠLarry': 12, 'ĠGEAR': 11, 'ĠGear': 11, 'ĠCaliforn': 11, 'ĠTexas': 10, 'Larry': 10, 'ĠTennessee': 10}\n",
      "Ġplaces {'oley': 12, 'iona': 12, 'ixture': 12, 'boarding': 11, 'athering': 11, 'Ġfractures': 11, 'nah': 11, 'agements': 11, 'Ġbites': 11, '568': 11}\n",
      "tex {'ĠStamp': 13, 'ĠAvatar': 12, 'Ġstamp': 12, 'ËĪ': 11, 'ĠMuhammad': 11, 'ĠJesuit': 11, 'hammad': 11, 'Ġbarbecue': 11, 'ĠCLSID': 10, 'Ġmosque': 10}\n",
      "angel {'Termin': 13, 'termin': 12, 'Ġtermin': 12, 'ĠTermin': 12, 'Ġendings': 11, 'aby': 11, 'Ġdisappearing': 10, 'Ġdisenfranch': 10, 'ĠApocalypse': 10, 'ĠScarlett': 10}\n",
      "Ġal {'imov': 13, 'sighted': 13, 'Ġheadset': 12, 'oplan': 11, 'Ġheadsets': 11, 'mares': 11, 'opian': 11, 'aved': 10, 'cox': 10, 'itime': 10}\n",
      "ĠGr {'recy': 13, 'Ġcouncill': 12, 'reon': 12, 'ONY': 11, 'Ġdioxide': 11, 'ioxide': 11, 'ĠPuzz': 11, 'izzard': 11, 'etition': 10, 'ombo': 10}\n",
      "Compare {'ĠTex': 13, 'Ġrhet': 12, '720': 12, 'Tex': 11, 'Ġ720': 11, 'ĠStarg': 11, 'Ġepis': 11, 'ĠFT': 11, 'ĠStat': 11, 'ĠANG': 11}\n",
      "Ġ! {'missive': 12, 'Ġeligible': 12, 'ronic': 12, 'ifling': 11, 'eligible': 11, 'onomous': 11, 'Ġsupremacist': 11, 'Ġineligible': 11, 'maybe': 11, 'Ġcannabinoid': 10}\n",
      "be {'ĠFinch': 12, 'ĠGaw': 12, 'ĠRIS': 12, 'ISSION': 11, 'ĠSTAR': 11, 'Ġjaw': 11, 'ĠFate': 11, 'ĠCup': 11, 'CEPT': 11, 'Ġwitchcraft': 11}\n",
      ". {'hedon': 12, 'ocalypse': 11, 'omsday': 11, '¶ħ': 11, 'eless': 11, 'Ġscept': 11, 'Ġparalysis': 11, 'Ġventilation': 11, 'vable': 11, 'infect': 11}\n",
      "Ġand {'Ġmiserable': 12, 'Ġspores': 12, 'ernal': 11, 'earable': 11, 'asus': 11, 'Ġplutonium': 11, 'kie': 11, 'imentary': 11, 'mosp': 11, 'lethal': 11}\n",
      "ĠMad {'opian': 12, 'inka': 12, 'opter': 11, 'lon': 11, 'uka': 11, 'hod': 11, 'aptop': 11, 'aned': 11, 'foreseen': 11, 'ola': 11}\n",
      "DATA {'ĠLl': 14, 'ĠWat': 12, 'ĠScy': 11, 'ĠCI': 11, 'ĠJes': 11, 'Ġposs': 11, 'ĠECO': 11, 'ĠNay': 11, 'ĠSci': 11, 'ĠKKK': 11}\n",
      "Ġinsufficient {'Ġfrustrated': 12, 'Ġobstruction': 11, 'Ġfrust': 11, 'Ġviolating': 11, 'Ġoppressed': 11, 'Ġthwarted': 11, 'Ġviolates': 11, 'Ġthwart': 11, 'Ġfrustration': 11, 'Ġlacking': 11}\n",
      "ix {'Nit': 13, 'cigarette': 12, 'Nap': 11, 'ĠDiablo': 11, 'Ġnit': 11, 'nit': 11, 'ĠNit': 11, 'Ġsubp': 11, 'cigarettes': 11, '514': 11}\n",
      "ĠFut {'ĠLamar': 13, 'uca': 12, 'ecast': 11, 'Ġextradition': 11, 'Ġenroll': 11, 'sam': 11, 'hiba': 11, 'Ġvisa': 11, 'ayn': 11, 'Ġdashboard': 10}\n",
      "Mods {'ĠStard': 13, 'ĠLat': 11, 'ĠFey': 11, 'ĠFlav': 11, 'ĠJing': 11, 'ĠTS': 11, 'Ġbrown': 11, 'ĠDevils': 11, 'ĠGoth': 11, 'ĠIce': 11}\n",
      "Ġrange {'nuts': 12, 'imeo': 11, 'gay': 11, 'ffee': 11, 'Light': 11, 'ickson': 11, 'light': 11, 'enson': 11, 'term': 11, 'kinson': 11}\n",
      "tri {'ĠWH': 12, 'WH': 12, 'Intern': 12, 'ĠIntern': 11, 'ĠCHR': 11, 'ĠXML': 11, 'ĠIM': 11, 'Ġintern': 11, 'ĠStarter': 11, 'ĠXbox': 11}\n",
      "Ġcontent {'ophile': 12, 'ilia': 12, 'Ġdissatisfied': 11, 'idon': 11, 'Ġinsepar': 11, 'Ġfulfilled': 11, 'Ġrichness': 11, 'Ġbarren': 11, 'Ġsatisfied': 11, 'eless': 11}\n",
      "Ġfun {'ume': 12, 'Ġchau': 12, 'umes': 12, 'esque': 11, 'bie': 11, 'Ġemitted': 11, 'auto': 11, 'Ġbean': 11, 'Ġemit': 11, 'inged': 11}\n",
      "Hand {'Ġ428': 12, 'Ġ208': 12, 'Ġ640': 12, 'á¹': 11, 'Ġmk': 11, 'Ġ608': 11, '635': 11, 'Ġ610': 11, 'Ġ412': 11, 'Ġ525': 11}\n",
      "med {'Phil': 12, 'Ġphil': 12, 'ãĥ´ãĤ¡': 12, 'ĠPhil': 11, 'ĠPhilos': 11, 'Ġrap': 11, 'Philadelphia': 11, 'Ġphr': 11, 'inness': 11, 'ĠDele': 10}\n",
      "ĠDeath {'athed': 13, 'ĠTrilogy': 13, 'ĠMercenary': 12, 'Ġbundled': 11, 'ĠDRM': 11, 'Ġincrim': 11, 'melon': 11, 'ĠSalad': 11, 'Ġgag': 10, 'ĠPompe': 10}\n",
      "native {'Ġirre': 13, 'ĠIng': 12, 'Ġunfor': 11, 'Ġunres': 11, 'Ġey': 11, 'Ġsty': 11, 'ĠAch': 11, 'Ġast': 11, 'Bur': 11, 'Sin': 11}\n",
      "Ġtogether {'Ġgathers': 12, 'athering': 12, 'Ġunite': 12, 'Ġgathered': 11, 'Ġmelting': 11, 'Ġmelted': 11, 'Ġgathering': 11, 'ĠGathering': 11, 'Ġgather': 10, 'hered': 10}\n",
      "rip {'Sym': 13, 'Su': 12, 'Enh': 12, 'Ver': 11, 'Ġstere': 11, 'Ġphen': 11, 'Ġantioxid': 11, 'Ġsubst': 11, 'ĠSym': 11, 'biz': 10}\n",
      "ĠPol {'onnaissance': 12, 'cence': 11, 'mission': 11, 'olation': 11, 'rero': 11, 'vey': 11, 'ĠDiscord': 11, 'Doctors': 11, 'Single': 11, 'stration': 11}\n",
      "GET {'ĠErd': 14, 'ĠNewsweek': 11, 'Clinton': 11, 'Ġresolutions': 11, 'Ġsche': 11, 'Ġroof': 11, 'ĠClinton': 11, 'ĠOU': 11, 'Edward': 11, 'ĠNBC': 10}\n",
      "Ġbreadth {'Ġbreadth': 12, 'Ġexpanding': 12, 'Ġexpand': 12, 'ĠExtension': 12, 'ĠExtend': 12, 'Ġextension': 11, 'Ġextending': 11, 'Ġdepths': 11, 'Ġextensions': 11, 'Ġexpands': 10}\n",
      "Ġherein {'ĠIncluding': 12, 'Ġincluding': 11, 'Ġincluded': 11, 'including': 11, 'Includes': 11, 'ĠIncludes': 11, 'Ġinclude': 11, 'Ġalluded': 11, 'ĠNevada': 11, 'ĠInclude': 11}\n",
      "chn {'ĠWinchester': 12, 'ĠLansing': 12, 'Ġsymp': 11, 'ĠMalone': 11, 'ĠSimmons': 11, 'ĠFerguson': 11, 'ĠLSD': 11, 'Ġsupra': 11, 'ĠStamp': 11, 'Ġinternship': 11}\n",
      "Ġfigure {'Ġsummar': 12, 'Ġsummarize': 12, 'ained': 12, 'Ġsummarized': 11, 'otted': 11, 'contained': 11, 'Ġconsolidated': 11, 'Ġsummarizes': 10, 'cone': 10, 'Ġdevoted': 10}\n",
      "certain {'inness': 12, 'ĠNeb': 12, 'ĠSPORTS': 11, 'ĠOntario': 11, 'ĠShakespeare': 11, 'Ġexceptional': 11, 'Ġquickest': 11, 'Ġnaughty': 11, 'ĠSchwarzenegger': 11, 'ĠNebraska': 11}\n",
      "~ {'Ġ(=': 12, 'Ġ408': 12, 'Ġ608': 12, 'Ġ407': 11, 'Ġyea': 11, 'Ġ208': 11, '~': 11, 'Ġsuprem': 11, 'Ġ209': 11, 'Ġ808': 11}\n",
      "ĠSc {'esm': 12, 'infect': 12, 'Ġkilomet': 11, 'ologne': 11, 'compan': 11, 'morning': 11, 'ACP': 11, 'acet': 11, 'ĠCologne': 11, 'FML': 11}\n",
      "Ġinside {'Ġinsulated': 12, 'Ġcrates': 11, 'Ġsurfing': 11, 'Ġexhibitions': 11, 'Ġprofessions': 11, 'Ġsuppl': 11, 'Ġshining': 11, 'ĠAdvertising': 11, 'Ġbreeds': 11, 'Ġbriefings': 11}\n",
      "Ġsize {'Ġwhales': 12, 'cent': 12, 'Ġhomegrown': 11, 'Ġgay': 11, 'allion': 11, 'cence': 11, 'Factory': 11, 'Ġdwarves': 11, 'Ġminiature': 11, 'Ġcrates': 11}\n",
      "Ġwaves {'Ġcaval': 12, 'issan': 12, 'Ġqueen': 11, 'RAL': 11, 'mph': 11, 'Fra': 11, 'Flying': 11, 'comings': 11, 'ĠReflex': 11, 'Ġcaptains': 11}\n",
      "abi {'ĠHalo': 11, 'Ġculinary': 11, 'Brown': 11, 'ĠAnalytics': 11, 'ĠRazor': 11, 'ĠSAS': 11, 'ĠSith': 11, 'ĠSalt': 11, 'ĠFiscal': 11, 'ĠShank': 11}\n",
      "Comm {'ĠNAT': 12, 'ĠNIGHT': 12, 'ĠiPod': 12, 'Ġnight': 12, 'ĠNight': 11, 'Ġnights': 11, 'ĠNights': 11, 'Ġnat': 11, 'Ġteasp': 10, 'Ġign': 10}\n",
      "Ġnative {'Ġgrieving': 13, 'Ġintolerance': 12, 'Ġrepairs': 11, 'Ġappliances': 11, 'Ġresistant': 11, 'eyed': 11, 'rieving': 11, 'Ġintoler': 11, 'Ġhideous': 10, 'Ġforgiving': 10}\n",
      "car {'Ġproletarian': 12, 'nian': 12, 'Ġpsychiatrist': 12, 'USER': 12, 'Intern': 11, 'Ġpsychiatrists': 10, 'Ġundergraduate': 10, 'GGGGGGGG': 10, 'ĠBirch': 10, 'user': 10}\n",
      "Ġfavoring {'Ġskew': 13, 'Ġbias': 12, 'gradient': 12, 'Ġbiases': 12, 'Ġbiased': 11, 'Ġskewed': 10, 'Ġswing': 10, 'Ġgradient': 10, 'Ġswaps': 10, 'posed': 10}\n",
      "cr {'Ġlightsaber': 13, 'orc': 12, 'sche': 12, 'Ġintern': 11, 'Ġinterns': 11, 'ernandez': 10, 'ĠAlternatively': 10, 'Ġpitching': 10, 'ĠVersus': 10, 'ĠShaun': 10}\n",
      "Ġdeep {'Ġsector': 11, 'Ġmile': 11, 'Ġunmarried': 11, 'Roaming': 11, 'Ġfragment': 11, 'ĠMalta': 11, 'Ġrelig': 11, 'mile': 11, 'Ġsectarian': 11, 'Ġsubsidiary': 11}\n",
      "reflect {'ĠJan': 12, 'ĠGuinness': 12, 'Ġarch': 11, 'ĠTV': 11, 'Ġâĺħ': 11, 'ĠEV': 11, 'ĠTower': 11, 'Batman': 11, 'ĠBatman': 11, 'ITCH': 11}\n",
      "Ġimp {'Ġdisgusted': 12, 'mmm': 11, 'mares': 11, 'cli': 11, 'ä¸ī': 11, 'atars': 11, 'slice': 11, 'uin': 11, 'å£«': 11, 'Ġrumored': 11}\n",
      "Ġcarrier {'Ġinhibitor': 12, 'apply': 12, 'iologist': 11, 'uscript': 11, 'backer': 11, 'Ð°': 11, 'Ġbreaker': 11, '169': 11, '151': 11, '469': 11}\n",
      "Ġform {'Ġunited': 12, 'Ġunite': 12, 'Ġconsolidated': 12, 'ilogy': 11, 'Ġrestore': 11, 'Ġhomeowner': 11, 'united': 11, 'callback': 11, 'Ġsummarize': 11, 'bound': 10}\n",
      "Ġvirtual {'70710': 12, '690': 12, 'bearing': 11, 'Ġ580': 11, '580': 11, '688': 11, '685': 11, '710': 11, 'flies': 11, '687': 11}\n",
      "Ġitself {'eless': 12, 'nox': 12, 'Amazing': 12, 'Ġoffended': 11, 'ĠComed': 11, 'Ġdisgusted': 11, 'adeon': 11, 'Ġoblivious': 11, 'Ġcourtesy': 11, 'Ġstunning': 11}\n",
      "Ġfat {'ainers': 12, 'Ġslaves': 12, 'hiba': 12, 'ainer': 11, 'entin': 11, 'Container': 11, 'Ġslavery': 11, 'Ġbasin': 11, 'enton': 10, 'olean': 10}\n",
      "Ġway {'lated': 12, 'Ġembodied': 12, 'Ġmanifested': 12, 'Ġembodies': 11, 'Ġoriented': 11, 'Ġcoupled': 11, 'Initialized': 11, 'itialized': 11, 'Ġcommuting': 11, 'affected': 11}\n",
      "ĠJordan {'allion': 12, 'alions': 12, 'Ġpatrons': 11, 'Motor': 11, 'Ġsquadron': 11, 'idental': 11, 'idium': 11, 'utenant': 11, 'otor': 11, 'animal': 11}\n",
      "... {'chedel': 12, 'Ġcannot': 12, 'Ġintolerable': 11, 'ĠCannot': 11, 'Ġcannabinoid': 11, 'annot': 11, 'awaited': 11, 'Ġintangible': 11, 'mosp': 11, 'Ġfearsome': 11}\n",
      "ĠDen {'achi': 12, 'kish': 12, 'iji': 11, 'oller': 11, 'ogan': 11, 'atal': 11, 'chid': 11, '478': 11, 'hello': 11, 'Morning': 10}\n",
      "Ġbelow {'Ġdissatisfied': 13, 'acca': 12, 'Ġincom': 11, 'Ġpathetic': 11, 'Ġgastrointestinal': 11, 'Ġcoerc': 11, 'Ġunsatisf': 11, 'Ġskelet': 11, 'Ġsatisfying': 11, 'sectional': 11}\n",
      "yon {'pointer': 12, 'poon': 12, 'Ġvertically': 11, 'ĠTer': 11, 'Ġstraw': 11, 'Pod': 11, 'Ġantidote': 11, 'pod': 11, 'ĠVector': 11, 'Hor': 11}\n",
      "pu {'ĠPale': 12, 'Ġant': 11, 'ĠSalt': 11, 'ĠMarsh': 11, 'ĠMarijuana': 11, 'ĠModer': 11, 'Ġstagnant': 11, 'Ġseniors': 11, 'Ġflavorful': 11, 'ĠGlock': 11}\n",
      "rolling {'Ġepit': 13, 'Ġcir': 12, 'Ġsus': 11, 'Ġsod': 11, 'ĠENT': 11, 'Ġhamb': 11, 'Ġdj': 11, 'Ġchi': 11, 'ĠMek': 11, 'ĠMeg': 11}\n",
      "Ġprivate {'imentary': 12, 'Ġspores': 12, 'Ġallowance': 12, 'romptu': 11, 'vine': 11, 'clusive': 11, 'Ġleases': 11, 'edin': 11, 'anya': 10, 'ibu': 10}\n",
      "Ġrelative {'Ġconferences': 13, 'Ġagencies': 12, 'conference': 11, 'Ġconference': 11, 'Ġbriefings': 11, 'Ġfleets': 11, 'Ġincidents': 11, 'Ġinterval': 11, 'Ġfactions': 11, 'Ġleases': 11}\n",
      "Ġuseless {'Ġruins': 12, 'Ġwarped': 12, 'Ġdamned': 11, 'Ġdisabling': 11, 'Ġdefied': 11, 'Ġfilthy': 11, 'Ġdamning': 11, 'Ġdespise': 11, 'Ġdoom': 11, 'Ġdoomed': 11}\n",
      "Ġfresh {'Ġcomeback': 13, 'Ġstarting': 12, 'Ġrestart': 11, 'Ġresumed': 11, 'Ġrenew': 11, 'started': 11, 'start': 11, 'Ġreopen': 11, 'Ġinvoked': 11, 'Ġstarts': 11}\n",
      "ki {'ĠPepper': 12, 'Ġteens': 12, 'Ġteen': 12, 'Ġ156': 11, 'Ġ57': 11, 'ĠPhiladelphia': 11, 'Ġ40': 11, 'ĠZup': 11, 'Ġjuvenile': 10, 'Ġ52': 10}\n",
      "Ġlouder {'Ġyells': 12, 'Ġyelled': 12, 'Ġshouted': 11, 'Ġscreamed': 11, 'Ġyell': 11, 'Ġyelling': 11, 'Ġshout': 11, 'Ġscream': 11, 'Ġshouts': 11, 'Ġscreams': 10}\n",
      "Ġyet {'not': 13, 'Ġnot': 13, 'NOT': 11, 'Not': 11, \"'t\": 11, 'ĠNot': 11, 'Ġno': 11, 'Nob': 10, 'Ġunparalleled': 10, 'annot': 10}\n",
      "ĠV {'helm': 12, 'Ġinhibitor': 12, 'chard': 11, 'beam': 11, 'imov': 11, 'unit': 11, 'otor': 11, 'ĳå£«': 11, 'edient': 11, 'luent': 11}\n",
      "VO {'ĠFine': 13, 'Fine': 12, 'Ġfine': 12, 'Ġbonus': 12, 'Ġokay': 11, 'ĠEssentially': 11, 'ĠBonus': 10, 'ĠLiberty': 10, 'ĠSwanson': 10, 'Ġprosper': 10}\n",
      "Ġcause {'Ġrebellion': 12, 'bable': 12, 'Ġrebel': 11, 'Ġhiatus': 11, 'Ġobedient': 11, 'Ġunreliable': 11, 'Ġobstruct': 11, 'Ġuphe': 11, 'LOD': 11, 'Ġbinds': 11}\n",
      "dom {'Ġturret': 12, 'Ġshakes': 12, 'Ġshake': 11, 'Ġtestosterone': 11, 'Ġwaging': 11, 'Ġglam': 11, 'topic': 11, 'Ġumbrella': 11, 'Ġtitled': 11, 'Ġinterns': 11}\n",
      "Ġusing {'Ġreintrodu': 12, 'Ġconception': 12, 'Ġconveyed': 11, 'Ġsounded': 11, 'Ġconceptions': 11, 'Ġconvey': 11, 'introdu': 11, 'down': 11, 'Ġback': 11, 'Ġconceivable': 10}\n",
      "jar {'Ġalcoholism': 12, 'Ġvodka': 12, 'ĠBeer': 11, 'ĠJupiter': 11, 'ĠAUD': 11, 'Ġvomit': 11, 'ĠCann': 11, 'ĠISIS': 11, 'éŃĶ': 11, 'vati': 11}\n",
      "loss {'Ġstigma': 12, 'udge': 11, 'Ġguilt': 11, 'Ġtan': 11, 'Ġpenal': 11, 'Ġtimestamp': 11, 'Ġfirewall': 11, 'ĠHeader': 11, 'ĠDamian': 11, 'ĠStraw': 11}\n",
      "Ġorgan {'ioxid': 13, 'loader': 12, 'Parser': 11, 'variable': 11, 'nutrition': 11, 'lys': 11, 'phy': 11, 'byte': 11, 'erva': 11, 'Ġcarniv': 10}\n",
      "fn {'Ġsleep': 12, 'Ġpark': 12, 'ĠMate': 11, 'Ġmic': 11, 'ĠMartian': 11, 'Ġmicrophone': 11, 'ĠWh': 11, 'ĠPark': 11, 'ĠGoddard': 11, 'ĠBurger': 11}\n",
      "kens {'Sunday': 13, 'ĠSunday': 12, 'ĠApollo': 11, 'ĠSundays': 11, 'ĠBaby': 11, 'ĠTonight': 11, 'Monday': 11, 'Tuesday': 11, 'Ġneon': 10, 'ĠCold': 10}\n",
      "Ġcontrol {'free': 12, 'Ġfree': 12, 'powered': 11, 'Ġpowered': 11, 'Ġconsensual': 11, 'Ġfreedom': 11, 'Ġallowances': 11, 'Ġimpartial': 11, 'Ġallowance': 11, 'enabled': 11}\n",
      "outer {'ĠLance': 12, 'Jer': 12, 'ĠDJ': 11, 'Ġeyebrows': 11, 'Ġfe': 11, 'ĠDJs': 11, 'Ġear': 11, 'ĠIntern': 11, 'Ġspears': 11, 'ĠDing': 11}\n",
      "Ġoverdose {'ĠDEAD': 12, 'dead': 12, 'lucent': 11, 'Ġholiday': 11, 'Dead': 11, 'sea': 11, 'Ġdead': 11, 'ĠDeaths': 11, 'ĠDead': 11, 'Ġdeaths': 10}\n",
      "Ġest {'degree': 12, 'chief': 11, 'blade': 11, 'beam': 11, 'vale': 11, 'management': 11, 'equality': 11, 'sama': 11, 'helm': 11, 'Ġderby': 11}\n",
      "inn {'ĠVlad': 14, 'ĠToy': 12, 'ĠFuk': 11, 'Ġssh': 11, 'ssh': 11, 'ĠRSA': 11, 'ĠBoston': 10, 'ĠPharaoh': 10, 'Dub': 10, 'á¹': 10}\n",
      "Ġbasic {'İ': 13, 'Ġcomprised': 12, 'sofar': 12, 'Ġsupplements': 11, 'Ġsupplement': 11, 'ãĤĬ': 11, 'tains': 11, 'ciplinary': 10, 'got': 10, 'itution': 10}\n",
      "Ġhand {'kie': 14, 'Ġsilenced': 12, 'ĠSakura': 12, 'Ġseize': 11, 'ibu': 11, 'Ġseized': 11, 'Ġdyed': 10, 'Ġgrasped': 10, 'crop': 10, 'Ġapprehend': 10}\n",
      "Ġshops {'Ġunmanned': 13, 'Ġunpopular': 12, 'Ġunemployed': 12, 'Ġunavailable': 12, 'popular': 11, 'igenous': 11, 'Ġuncommon': 10, 'Ġrare': 10, 'Ġmuscular': 10, 'arcity': 10}\n",
      "pad {'Intern': 12, 'ĠWatergate': 12, 'ĠBub': 12, 'Ġintern': 11, 'dump': 11, 'ĠWikileaks': 11, 'ottesville': 11, 'ĠIntern': 11, 'ĠPunk': 11, 'NPR': 11}\n",
      "felt {'ĠClar': 11, 'ĠBen': 11, 'ĠIch': 11, 'ĠBel': 11, 'Ġlik': 11, 'ĠGT': 11, 'ĠAJ': 11, 'Ġdisc': 11, 'ĠRip': 11, 'ĠKaw': 11}\n",
      "Ġincom {'expensive': 12, 'female': 12, 'powerful': 11, 'ustainable': 11, 'ĠPassive': 11, 'Ġexpensive': 11, '690': 11, 'Ġcreepy': 11, '790': 11, '516': 11}\n",
      "Ġserial {'gae': 13, 'agent': 13, 'iol': 12, 'abilia': 11, 'isites': 11, 'Ġannotations': 11, 'Ġremedies': 11, 'Ġsubscription': 11, 'Ġappliances': 10, 'ilia': 10}\n",
      "ĠBass {'ĠPVC': 12, 'isively': 12, 'winner': 11, 'inky': 11, 'jo': 11, 'vict': 11, 'incent': 11, 'Ġpink': 11, 'ici': 11, 'Ġnegligent': 10}\n",
      "range {'ĠGuns': 12, 'IZ': 11, 'ĠWeapons': 11, 'ĠWiz': 11, 'ICK': 11, 'ĠShane': 11, 'ĠStamp': 11, 'ĠGuinness': 11, 'ĠRonnie': 11, 'SN': 11}\n",
      "MORE {'Step': 13, 'ĠStep': 12, 'ĠEas': 12, 'ĠSteps': 12, 'STEP': 11, 'step': 11, 'Ġeas': 10, 'ĠThings': 10, 'ĠStrategies': 10, 'Ġstep': 10}\n",
      "Ġfortunes {'Ġchange': 12, 'change': 12, 'Ġchanged': 11, 'ĠChange': 11, 'Ġconducive': 11, 'Change': 11, 'Ġchanges': 11, 'Ġmoder': 11, 'Ġchanging': 11, 'changed': 11}\n",
      "chip {'MIC': 12, 'Ġoccult': 11, 'ĠMental': 11, 'ĠMIC': 11, 'Ġmental': 11, 'ĠGREEN': 11, 'Ġepidemic': 11, 'Ġobsc': 11, 'ĠRed': 11, 'ĠRacial': 11}\n",
      "Ġagain {'Inside': 13, 'inside': 13, 'sama': 11, 'ĠInside': 11, 'Meet': 11, 'Problem': 11, 'Unlike': 10, 'negative': 10, 'conference': 10, 'Ġinside': 10}\n",
      "bet {'ĠBooker': 13, 'ĠUncommon': 11, 'Ġquirky': 11, 'Ġmoderation': 11, 'Ġmoderate': 11, 'moderate': 11, 'Ġlighter': 11, 'ĠOlympic': 11, 'ĠRecording': 11, 'Ġpreferably': 11}\n",
      "mort {'David': 13, 'ĠDavid': 13, 'ĠJes': 11, 'ĠCrist': 11, 'ĠBEL': 11, 'ĠDav': 10, 'Sorry': 10, 'ĠGeneva': 10, 'ĠLenin': 10, 'ĠChev': 10}\n",
      "ĠEnglish {'oller': 12, 'arette': 12, 'ogan': 11, 'romy': 11, 'goers': 11, 'Ġreadable': 11, 'eller': 11, 'Ġcomprehens': 11, 'external': 11, 'Ġcommuters': 11}\n",
      "pard {'ooks': 13, 'ĠMah': 12, 'ĠPoss': 12, 'ĠCRE': 12, 'ĠWh': 11, 'Ġ(<': 10, 'ĠOnt': 10, 'Mah': 10, 'ĠPsych': 10, 'è¿': 10}\n",
      "Ġo {'oley': 12, 'Ġhormones': 12, 'chard': 11, 'committee': 11, 'boards': 11, 'Ġamenities': 11, 'module': 11, 'luent': 11, 'llers': 11, 'ĠCommittees': 11}\n"
     ]
    }
   ],
   "source": [
    "show_topk.indices_fn = tokenizer.convert_ids_to_tokens\n",
    "for i in values.mean(1).topk(1000).indices.tolist():\n",
    "    print(tokenizer.convert_ids_to_tokens(i), show_topk(values[i].long(), indices[i]))"
   ]
  },
  {
   "cell_type": "code",
   "execution_count": 76,
   "id": "d7da0142",
   "metadata": {},
   "outputs": [
    {
     "name": "stdout",
     "output_type": "stream",
     "text": [
      "ĠKorea\n"
     ]
    },
    {
     "data": {
      "text/plain": [
       "{'FE': 10.633,\n",
       " 'trap': 10.056,\n",
       " 'ĠChips': 9.777,\n",
       " 'ĠDj': 9.575,\n",
       " 'hots': 9.554,\n",
       " 'ĠTowers': 9.467,\n",
       " 'ĠFore': 9.299,\n",
       " 'Com': 9.146,\n",
       " 'ĠDer': 9.14,\n",
       " 'chip': 8.955,\n",
       " 'ĠTraps': 8.915,\n",
       " 'ĠBal': 8.655,\n",
       " 'ĠLAPD': 8.592,\n",
       " 'Israeli': 8.586,\n",
       " 'ĠChop': 8.574,\n",
       " 'ĠDark': 8.557,\n",
       " 'ĠGloria': 8.521,\n",
       " 'wash': 8.483,\n",
       " 'Fore': 8.448,\n",
       " 'ĠLos': 8.403}"
      ]
     },
     "execution_count": 76,
     "metadata": {},
     "output_type": "execute_result"
    }
   ],
   "source": [
    "i = tokenizer.encode(' Korea')[0]; print(tokenizer.convert_ids_to_tokens(i))\n",
    "show_topk(*m[i].topk(20))"
   ]
  },
  {
   "cell_type": "code",
   "execution_count": null,
   "id": "8faf80cf",
   "metadata": {},
   "outputs": [],
   "source": []
  },
  {
   "cell_type": "code",
   "execution_count": null,
   "id": "c168801f",
   "metadata": {},
   "outputs": [],
   "source": []
  },
  {
   "cell_type": "code",
   "execution_count": 9,
   "id": "052c1e0f",
   "metadata": {},
   "outputs": [],
   "source": [
    "prompt_token = 'Ġ!'; prompt_id = tokenizer._convert_token_to_id(prompt_token)\n",
    "bop_str = 'Instruction: '; bop_id = tokenizer.encode(bop_str)[0]  # 'Inst'\n",
    "eop_str = '. For example:'; eop_id = tokenizer.encode(eop_str)[2] # 'Ġexample'\n",
    "bos_id = tokenizer._convert_token_to_id('Ġ->')\n",
    "eos_id = tokenizer._convert_token_to_id('Ċ')\n",
    "\n",
    "\n",
    "class CHILDDataset(Dataset):\n",
    "    def __init__(self, input_strs, tokenizer):\n",
    "        if tokenizer.pad_token is None: tokenizer.pad_token = '!'\n",
    "        self.inputs = tokenizer.batch_encode_plus(input_strs, add_special_tokens=False, padding=True, return_tensors='pt')#长的截，短的补\n",
    "        input_ids = self.inputs.input_ids\n",
    "        self.labels = torch.ones_like(input_ids) * (-100)\n",
    "\n",
    "        for bi in range(input_ids.size(0)): \n",
    "            bop_idx = (input_ids[bi] == bop_id).nonzero().squeeze(1) #prompt\n",
    "            eop_idx = (input_ids[bi] == eop_id).nonzero().squeeze(1) #context\n",
    "\n",
    "            if len(bop_idx) > 0:\n",
    "                assert len(bop_idx) == 1 and len(eop_idx) == 1\n",
    "                bop_idx, eop_idx = bop_idx.item(), eop_idx.item() #取出单元素张量的元素值并返回该值，保持原元素类型不变\n",
    "                #bop: 0   eop:6\n",
    "                input_ids[bi, bop_idx: eop_idx + 2] *= -1  # use prompt embedding for prompt tokens\n",
    "  \n",
    "            bos_indices = (input_ids[bi] == bos_id).nonzero().squeeze(1)\n",
    "#             print(\"bos_indices:\",bos_indices)\n",
    "            eos_indices = (input_ids[bi] == eos_id).nonzero()[-len(bos_indices):].squeeze(1) #每一位 eos都比bos大2\n",
    "#             print(\"eos_indices:\",eos_indices)\n",
    "            for i, (bos_i, eos_i) in enumerate(zip(bos_indices.tolist(), eos_indices.tolist())):\n",
    "                assert eos_i > bos_i + 1\n",
    "                if i >= 0:  #zero-shot\n",
    "                    self.labels[bi, bos_i + 1: eos_i] = input_ids[bi, bos_i + 1: eos_i] \n",
    "        \n",
    "        \n",
    "    def re_input(self):\n",
    "        return self.inputs['input_ids']\n",
    "        \n",
    "    def __len__(self):\n",
    "        return len(self.inputs['input_ids'])\n",
    "\n",
    "    def __getitem__(self, i):\n",
    "        return {'input_ids': self.inputs['input_ids'][i],  #输入\n",
    "                'attention_mask': self.inputs['attention_mask'][i],\n",
    "                'labels': self.labels[i]}   #结果"
   ]
  },
  {
   "cell_type": "code",
   "execution_count": 10,
   "id": "2b322160",
   "metadata": {},
   "outputs": [
    {
     "data": {
      "text/plain": [
       "(4613, 198)"
      ]
     },
     "execution_count": 10,
     "metadata": {},
     "output_type": "execute_result"
    }
   ],
   "source": [
    "bos_id,eos_id"
   ]
  },
  {
   "cell_type": "code",
   "execution_count": 11,
   "id": "696ea332",
   "metadata": {},
   "outputs": [],
   "source": [
    "from child_utils import *\n",
    "torch.set_printoptions(threshold=np.inf)"
   ]
  },
  {
   "cell_type": "code",
   "execution_count": 12,
   "id": "56fcd441",
   "metadata": {},
   "outputs": [],
   "source": [
    "class WrappedEmbedding(nn.Module):\n",
    "    def __init__(self,  \n",
    "                wte: nn.Embedding,  #正常向量\n",
    "                prompt_id: int = None,\n",
    "                prompt_len: int = 10, \n",
    "                random_range: float = 0.5,\n",
    "                initialize_from_vocab: bool = True):\n",
    "        super(WrappedEmbedding, self).__init__()\n",
    "#         self.wte = wte\n",
    "#         self.prompt_id = prompt_id\n",
    "#         self.prompt_len = prompt_len\n",
    "        self.__dict__.update(locals()); del self.self #locals()以字典类型返回当前位置的全部局部变量\n",
    "        if self.prompt_id is not None: #prompt_embedding prompt词向量\n",
    "            self.prompt_embedding = nn.parameter.Parameter( #将一个不可训练的类型Tensor转换成可以训练的类型parameter\n",
    "                self.initialize_embedding(random_range, initialize_from_vocab)).to(self.wte.weight.device) #在-0.5-0.5中随机取值初始化\n",
    "        else:\n",
    "            self.prompt_embedding = nn.Embedding(self.prompt_len, self.wte.weight.size(1)).to(self.wte.weight.device)\n",
    "                                        #词典大小（总共输入多少词） 嵌入向量维度（多少维表示一个符号）\n",
    "            \n",
    "            assert initialize_from_vocab\n",
    "            self.init_prompt_embedding_()  #将wte的weight值作为初始化\n",
    "#             self.prompt_embedding.weight.data = self.initialize_embedding(random_range, initialize_from_vocab)     \n",
    " \n",
    "    def initialize_embedding(self, random_range: float = 0.5, initialize_from_vocab: bool = True):\n",
    "        if initialize_from_vocab: return self.wte.weight[:self.prompt_len].clone().detach() #返回一个新的tensor，新的tensor和原来的tensor共享数据内存，但不涉及梯度计算\n",
    "        return torch.FloatTensor(self.prompt_len, self.wte.weight.size(1)).uniform_(-random_range, random_range) #产生随机数\n",
    "    \n",
    "    def init_prompt_embedding_(self):\n",
    "#         print(self.wte.weight)\n",
    "        self.prompt_embedding.weight.data[:] = self.wte.weight[:self.prompt_len]\n",
    "\n",
    "        \n",
    "    def forward(self, input_ids):\n",
    "        if self.prompt_id is not None:\n",
    "            input_embeds = self.wte(input_ids)\n",
    "            input_embeds[input_ids == self.prompt_id] = self.prompt_embedding.expand(input_embeds.size(0), -1, -1)\n",
    "        else: # adapted from cpm-2\n",
    "            prompt_mask = input_ids < 0  #返回bool类型\n",
    "#             print(\"prompt_mask:\",prompt_mask.shape)\n",
    "            prompt_ids = -input_ids * prompt_mask #将prompt的值变为正数，其他置零\n",
    "#             print(\"prompt_ids:\",prompt_ids)\n",
    "#             print(prompt_ids < self.prompt_len)\n",
    "#             print(prompt_ids)\n",
    "            assert torch.all(prompt_ids < self.prompt_len)\n",
    "#             print(self.prompt_embedding(prompt_ids).shape)\n",
    "            p_embeds = self.prompt_embedding(prompt_ids) * prompt_mask.float().unsqueeze(-1)\n",
    "#             print(\"p_embeds:\",p_embeds.shape)\n",
    "            input_ids = input_ids * ~prompt_mask\n",
    "            w_embeds = self.wte(input_ids) * (~prompt_mask).float().unsqueeze(-1)\n",
    "#             print(\"w_embeds:\",w_embeds.shape)\n",
    "            input_embeds = w_embeds + p_embeds \n",
    "#         print(input_embeds)\n",
    "        return input_embeds"
   ]
  },
  {
   "cell_type": "code",
   "execution_count": 13,
   "id": "44b17b42",
   "metadata": {},
   "outputs": [],
   "source": [
    "# adapted from cpm-2: https://github.com/TsinghuaAI/CPM-2-Finetune/blob/master/utils.py#L133-L164    #不训练模型参数，只训练prompt_embading，这个函数是取这些参数\n",
    "def get_params_for_prompt_optimization(module: nn.Module): \n",
    "    params = []\n",
    "    for t in module.named_modules():\n",
    "        if \"prompt_embedding\" in t[0]:\n",
    "            params.append({'params': [p for p in list(t[1]._parameters.values()) if p is not None]})\n",
    "    for t in module.named_parameters():\n",
    "        if \"prompt\" not in t[0]:\n",
    "            t[1].requires_grad_(False)    \n",
    "    return params\n",
    "\n",
    "def create_optimizer(model, training_args):\n",
    "    from torch.nn.parallel.distributed import DistributedDataParallel as DDP\n",
    "    while isinstance(model, (DDP, )): model = model.module\n",
    "        \n",
    "    we.init_prompt_embedding_()\n",
    "    param_groups = get_params_for_prompt_optimization(model)\n",
    "    optimizer = AdamW(param_groups, lr=training_args.learning_rate, \n",
    "                      betas=(training_args.adam_beta1, training_args.adam_beta2),eps=training_args.adam_epsilon)\n",
    "    return optimizer"
   ]
  },
  {
   "cell_type": "code",
   "execution_count": 14,
   "id": "39b4f350",
   "metadata": {
    "scrolled": true
   },
   "outputs": [],
   "source": [
    "# wte = model.get_input_embeddings() #提取 embedding 中的 词向量部分\n",
    "# if hasattr(wte, 'wte'): wte = wte.wte  # already been wrapped\n",
    "# we = WrappedEmbedding(wte, prompt_len=20000)\n",
    "# model.set_input_embeddings(we) #为词向量赋值"
   ]
  },
  {
   "cell_type": "code",
   "execution_count": 15,
   "id": "ae3bb45f",
   "metadata": {},
   "outputs": [],
   "source": [
    "def verbalize(obj):\n",
    "    if type(obj) == bool: return 'Yes' if obj else 'No'\n",
    "    return str(obj)\n",
    "\n",
    "def list2str(l): return ' '.join(str(i) for i in l)\n",
    "def pairs2str(pairs): return ', '.join(str(k) + ': ' + str(v) for k, v in pairs)\n",
    "\n",
    "def make_context_str(cxt):\n",
    "    if type(cxt) == list:\n",
    "        return pairs2str(cxt) if type(cxt[0]) == tuple and len(cxt[0]) == 2 else list2str(cxt)\n",
    "    if type(cxt) == tuple:\n",
    "        return '; '.join(make_context_str(c) for c in cxt)  # 用分号分隔context的不同部分\n",
    "    \n",
    "def make_query_str(instruction, query):\n",
    "    if instruction is None and query is None: return ''\n",
    "    s = '.'\n",
    "    if instruction is not None: s = s + ' ' + instruction\n",
    "    if query is not None:\n",
    "        if type(query) in [int, bool, str]: query = [query]\n",
    "        if type(query) == dict:# and list(query.keys())[0] != \"CS\"):  # by nrk\n",
    "            s = s + ' ' + '{' + ','.join([' replace %s with %s' % (str(k), str(v)) for k, v in query.items()]) + ' }'\n",
    "        if type(query) in [list, tuple]:\n",
    "            s = s + ' ' + ' '.join([list2str(i) if type(i) == list else str(i) for i in query])\n",
    "    return s\n",
    "\n",
    "def make_example_str(example, query2str):\n",
    "    instruction, cxt, query, ans = example\n",
    "    if type(ans) not in [Sequence, list]: ans = [ans]\n",
    "    ans = [verbalize(a) for a in ans]\n",
    "#     return '%s -> %s' % (''.join(l[0]) + make_query_str(instruction if with_instruction else None, query), ' '.join(ans))  # by nrk\n",
    "#     return '%s -> %s' % (' '.join(l) + make_query_str(instruction if with_instruction else None, query), ' '.join(ans))  # by XD\n",
    "#     return '%s -> %s' % (make_context_str(cxt) + make_query_str(instruction if with_instruction else None, query[0]), ' '.join(ans))\n",
    "    return '%s -> %s' % (make_context_str(cxt) + query2str(query), ' '.join(ans))\n",
    "\n",
    "\n",
    "def sample_rand_len(vocab, k): return sample(vocab, k=randint(1, k))"
   ]
  },
  {
   "cell_type": "code",
   "execution_count": 27,
   "id": "df63ee7d",
   "metadata": {},
   "outputs": [],
   "source": [
    "def promptize(s):\n",
    "#     return prompt_token * len(s.split())\n",
    "    return bop_str + s + eop_str\n",
    "\n",
    "courses_vocab=[\"Sql\",\"Math\",\"English\",\"Chinese\",\"Art\",\"Music\",\"History\",\"Biology\",\"Chemistry\",\"Physics\",\"Geography\"]\n",
    "all_vocab = [\"apple\",\"pear\",\"peach\",\"grape\",\"banana\",\"pineapple\",\"lemon\",\"strawberry\",\"cola\",\"juice\",\"coffee\",\"milk\",\"wine\",\"beer\",\"whisky\",\"vodka\",\"brandy\"]\n",
    "solid_vocab=[\"apple\",\"pear\",\"peach\",\"grape\",\"banana\",\"pineapple\",\"lemon\",\"strawberry\"]\n",
    "liquid_vocab=[\"cola\",\"juice\",\"coffee\",\"milk\",\"wine\",\"beer\",\"whisky\",\"vodka\",\"brandy\"]\n",
    "names_vocab =  [i for i in string.ascii_uppercase]\n",
    "depts_vocab = [\"CS\",\"Chi\",\"Eng\",\"Mat\"]\n",
    "sl = [\"solid\"]*len(solid_vocab)+[\"liquid\"]*len(liquid_vocab)\n",
    "sl_vocab = dict(zip(all_vocab,sl))\n",
    "toys = [\"ball\",\"doll\",\"puppet\",\"weiqi\",\"chess\",\"slide\",\"diabolo\",\"plasticine\",\"tumbler\"]\n",
    "                                              #滑梯     空竹      橡皮泥      不倒翁\n",
    "boys = [\"Alex\",\"Dylan\",\"Daniel\",\"Patrick\",\"Austin\",\"Harrison\",\"Tom\",\"Neil\"]\n",
    "girls = [\"Ashley\",\"jessica\",\"Sarah\",\"Amanda\",\"Nicole\",\"Katherine\",\"Anne\",\"Eva\"]\n",
    "all = boys+girls\n",
    "bg = [\"boys\"]*len(boys)+[\"girls\"]*len(girls)\n",
    "bg_vocab = dict(zip(all,bg))\n",
    "\n",
    "all = solid_vocab+toys\n",
    "ft = [\"fruits\"]*len(solid_vocab)+[\"toys\"]*len(toys)\n",
    "ft_vocab = dict(zip(all,ft))\n",
    "\n",
    "def make_input_str(task, nrows=4, ncols=4, full_vocab=None, ans_vocab=[True, False]):\n",
    "    if full_vocab is None: full_vocab = string.ascii_uppercase + string.digits\n",
    "    transform_fn, vocab_fn, sample_fn, query_fn, query2str = task\n",
    "    instruction = transform_fn.__name__.replace('_', ' ')\n",
    "    if vocab_fn is None: vocab_fn = lambda: full_vocab\n",
    "    if query_fn is None: query_fn = lambda *_: None\n",
    "        \n",
    "    examples = []\n",
    "    query = None\n",
    "    for i in range(nrows):\n",
    "        vocab = vocab_fn()\n",
    "        l = sample_fn(vocab, k=ncols)\n",
    "        query = query_fn(l, vocab, ncols)\n",
    "        examples.append([instruction, l, query, transform_fn(l, query=query)])\n",
    "#     examples = balance(examples,ans_vocab)\n",
    "\n",
    "    desc = promptize(instruction) if True else ''\n",
    "    text = '\\n'.join([make_example_str(e, query2str) for e in examples])\n",
    "    text = desc + '\\n' + text + '\\n'\n",
    "    return text"
   ]
  },
  {
   "cell_type": "code",
   "execution_count": 17,
   "id": "bd0c286b",
   "metadata": {},
   "outputs": [],
   "source": [
    "# # def balance(examples, ans_vocab=[True, False]):\n",
    "# def balance1(examples, ans_vocab):\n",
    "#     groups = seq(examples).group_by(_[-1]).map(_[1])  # 按ans分组\n",
    "# #     assert groups.len() == len(ans_vocab), '%d < %d' % (groups.len(), len(ans_vocab))  # 保证每种ans都出现\n",
    "#     min_cnt = groups.map(lambda x: len(x)).min()\n",
    "#     examples = groups.map(lambda x: sample(x, min_cnt)).flatten().list() # 每组都采样最小个数后去分组\n",
    "#     return sample(examples, len(examples))  # 重新打乱"
   ]
  },
  {
   "cell_type": "code",
   "execution_count": 18,
   "id": "2d664342",
   "metadata": {},
   "outputs": [],
   "source": [
    "def balance(examples, ans_vocab):\n",
    "    groups = seq(examples).group_by(_[-1]).map(_[1])  # 按ans分组\n",
    "#     min_cnt = groups.map(lambda x: len(x)).min()\n",
    "    min_cnt =3\n",
    "    if(groups.len()>3):\n",
    "        min_cnt = 3\n",
    "    elif(groups.len()==3):\n",
    "        min_cnt = 3\n",
    "    if(min_cnt > 2):\n",
    "        examples = groups.map(lambda x: sample(x, 3)).flatten().list() # 每组都采样最小个数后去分组\n",
    "        return sample(examples, len(examples))  # 重新打乱\n",
    "    else:\n",
    "        examples = groups.map(lambda x: sample(x, min_cnt)).flatten().list() # 每组都采样最小个数后去分组\n",
    "        return sample(examples, len(examples))  # 重新打乱"
   ]
  },
  {
   "cell_type": "code",
   "execution_count": 19,
   "id": "ab80cfd2",
   "metadata": {},
   "outputs": [],
   "source": [
    "import itertools  \n",
    "def Do_all_students_choose_courses_in_a_department(cxt, query):\n",
    "    SC, CD = cxt  # SC paris: studeng-course relation, CD pairs: course-department function\n",
    "    ss, d = query  # ss: 学生子集（可以*不止两个学生*），d: 课程\n",
    "#     return seq(ss).map(lambda s: seq(SC).filter(_[0] == s).map(_[1]).intersection(CD.filter(_.[1] == d).map(_.[0])).non_empty()).all()\n",
    "    return (seq(ss)\n",
    "            .map(lambda s: seq(SC).filter(_[0] == s).map(_[1])  # 学生s选的所有课程\n",
    "                 .intersection(\n",
    "                     seq(CD).filter(_[1] == d).map(_[0])) # d系的课程\n",
    "                 .non_empty())  # s选了d系的课程\n",
    "            .all())  # 学生子集ss都选了d系的课程\n",
    "\n",
    "def all_a_sample(vocab, k):\n",
    "    S_vocab, C_vocab, D_vocab = vocab  # vocabs of students, courses, departments\n",
    "    k_S, k_C, k_D, k_SC = k  # default values: k_S = 3, k_C = 3, k_D = 2, k_SC = 5\n",
    "    S, C, D = sample(S_vocab, k_S), sample(C_vocab, k_C), sample(D_vocab, k_D)\n",
    "    \n",
    "    while len(set(CD := choices(D, k=k_C))) < k_D: continue  # ds里每个系的课都要出现\n",
    "    CD = list(zip(C, CD))  # 得到每门课所属的系\n",
    "    \n",
    "    all_SC = list(itertools.product(S, C))  # or seq(S).cartesian(C).list()\n",
    "    while seq(SC := sample(all_SC, k_SC)).map(_[0]).distinct().len() < k_S: continue  # ss里每个学生都要选课\n",
    "    return SC, CD\n",
    "\n",
    "def select_distinct(tuples, col): return seq(tuples).map(_[col]).distinct().list()\n",
    "    \n",
    "def all_a_query(cxt,vocab,k):\n",
    "    SC, CD = cxt\n",
    "    k_S, k_C, k_D, k_SC = k\n",
    "    S, D = select_distinct(SC, 0), select_distinct(CD, 1)\n",
    "#     k_ss = randint(2, len(S))\n",
    "    ss = sample(S, 2)\n",
    "    d = choice(D)\n",
    "    return ss, d\n",
    "\n",
    "def all_a_query2str(query):\n",
    "    ss, d = query\n",
    "    query_str = '%s,%s?' % (', '.join(ss[:-1]) + ' and ' + ss[-1], d)\n",
    "    return '. ' + query_str\n"
   ]
  },
  {
   "cell_type": "code",
   "execution_count": 20,
   "id": "b8103db3",
   "metadata": {},
   "outputs": [],
   "source": [
    "def all_b(cxt, query):\n",
    "    SC, CD = cxt\n",
    "    ss,d = query\n",
    "    return (seq(CD).filter(_[1] == d).map(_[0])\n",
    "                 .difference(\n",
    "                     seq(SC).filter(_[0] == ss).map(_[1]))\n",
    "                 .empty())\n",
    "\n",
    "def all_b_sample(vocab, k):\n",
    "    S_vocab, C_vocab, D_vocab = vocab  \n",
    "    k_S, k_C, k_D, k_SC = k  # default values: k_S = 2, k_C = 3, k_D = 2, k_SC = 5\n",
    "    S, C, D = sample(S_vocab, k_S), sample(C_vocab, k_C), sample(D_vocab, k_D)\n",
    "    \n",
    "    while len(set(CD := choices(D, k=k_C))) < k_D: continue  \n",
    "    CD = list(zip(C, CD)) \n",
    "    \n",
    "    all_SC = list(itertools.product(S, C))  \n",
    "    while seq(SC := sample(all_SC, k_SC)).map(_[0]).distinct().len() < k_S: continue  # ss里每个学生都要选课\n",
    "    return SC, CD\n",
    "   \n",
    "def all_b_query(cxt,vocab,k):  # XD: 不要给qeury_fn加st参数\n",
    "    SC, CD = cxt\n",
    "    k_S, k_C, k_D, k_SC = k\n",
    "    S, D = select_distinct(SC, 0), select_distinct(CD, 1)\n",
    "#     k_ss = randint(2, len(S))  # XD: k_ss unused\n",
    "    ss = choice(S)\n",
    "    d = choice(D)\n",
    "    return ss, d\n",
    "    # XD: 不要在query_fn里转str！！这里转str，transform_fn里再解析回来，两边不是白折腾吗！\n",
    "\n",
    "def all_b_query2str(query):\n",
    "    ss, d = query\n",
    "    query_str = 'Does %s take all %s courses?' % (ss, d)\n",
    "    return '. ' + query_str\n",
    "\n",
    "\n",
    "def Is_the_intersection_of_two_sets_empty(cxt, query):\n",
    "    SC= cxt\n",
    "    s,d = query\n",
    "    return (seq(SC).filter(_[0] == s).map(_[1])\n",
    "                 .intersection(\n",
    "                     seq(SC).filter(_[0] == d).map(_[1]))\n",
    "                 .non_empty())\n",
    "\n",
    "def intersection_query(cxt,vocab,k):\n",
    "    SC= cxt\n",
    "    k_S, k_C, k_SC = k #k_s = 3, k_C = 5 , k_sc = 6\n",
    "    S = select_distinct(SC, 0)\n",
    "    s,d = sample(S,2)\n",
    "    return s, d\n",
    "\n",
    "def intersection_query2str(query):\n",
    "    s, d = query\n",
    "    query_str = \"%s,%s?\" % (s, d)\n",
    "    return '. ' + query_str\n",
    "\n",
    "def intersection_sample(vocab, k):\n",
    "    S_vocab, C_vocab = vocab  \n",
    "    k_S, k_C, k_SC = k  # k_S = 3, k_C = 5, , k_SC = 6\n",
    "    S, C= sample(S_vocab, k_S), sample(C_vocab, k_C)\n",
    "    all_SC = list(itertools.product(S, C))  \n",
    "    while seq(SC := sample(all_SC, k_SC)).map(_[0]).distinct().len() < k_S: continue \n",
    "    return SC\n",
    "\n",
    "def Is_the_first_set_a_subset_of_the_second_one(cxt, query):\n",
    "    SC= cxt\n",
    "    s,d = query\n",
    "    return (seq(SC).filter(_[0] == d).map(_[1])\n",
    "                 .union(\n",
    "                     seq(SC).filter(_[0] == s).map(_[1]))\n",
    "                 ).distinct().len()== seq(SC).filter(_[0] == d).map(_[1]).distinct().len()\n",
    "\n",
    "def complement_query(cxt,vocab,k):\n",
    "    SC= cxt\n",
    "    k_S, k_C, k_SC = k #k_s = 3, k_C = 5 , k_sc = 6\n",
    "    S = select_distinct(SC, 0)\n",
    "    s,d = sample(S,2)\n",
    "    return s, d\n",
    "\n",
    "def complement_query2str(query):\n",
    "    s, d = query\n",
    "    query_str = \"%s,%s?\" % (s, d)\n",
    "    return '. ' + query_str\n",
    "\n",
    "def complement_sample(vocab, k):\n",
    "    S_vocab, C_vocab = vocab  \n",
    "    k_S, k_C, k_SC = k  # k_S = 3, k_C = 4, k_SC = 5\n",
    "    S, C= sample(S_vocab, k_S), sample(C_vocab, k_C)\n",
    "    all_SC = list(itertools.product(S, C))  \n",
    "    while seq(SC := sample(all_SC, k_SC)).map(_[0]).distinct().len() < k_S: continue \n",
    "    return SC\n",
    "\n",
    "def Are_they_the_union_of_the_last_element(cxt, query):\n",
    "    SC, DC = cxt\n",
    "    ss,d = query\n",
    "    return (seq(ss)\n",
    "            .map(lambda s: seq(SC).filter(_[0] == s).map(_[1]) \n",
    "                 .union(\n",
    "                     seq(DC).filter(_[0] == d).map(_[1])) \n",
    "                 .distinct().len() == seq(DC).filter(_[0] == d).map(_[1]).distinct().len())  \n",
    "            .all()) \n",
    "\n",
    "def union_sample(vocab, k):\n",
    "    S_vocab, C_vocab, D_vocab = vocab  \n",
    "    k_S, k_C, k_D, k_SC = k  # k_S = 3, k_C = 4, k_D = 2, k_SC = 6\n",
    "    S, C, D = sample(S_vocab, k_S), sample(C_vocab, k_C), sample(D_vocab, k_D)\n",
    "    \n",
    "    while len(set(DC := choices(D, k=k_C))) < k_D: continue  \n",
    "    DC = list(zip(DC,C)) \n",
    "    \n",
    "    all_SC = list(itertools.product(S, C))  \n",
    "    while seq(SC := sample(all_SC, k_SC)).map(_[0]).distinct().len() < k_S: continue  \n",
    "    return SC, DC\n",
    "   \n",
    "def union_query(cxt,vocab,k): \n",
    "    SC, DC = cxt\n",
    "    k_S, k_C, k_D, k_SC = k\n",
    "    S, D = select_distinct(SC, 0), select_distinct(DC, 0)\n",
    "    k_ss = randint(2, len(S))\n",
    "    ss = sample(S, k_ss)\n",
    "    d = choice(D)\n",
    "    return ss, d\n",
    "\n",
    "def union_query2str(query):\n",
    "    ss, d = query\n",
    "    query_str = '%s,%s?' % (', '.join(ss[:-1]) + ' and ' + ss[-1], d)\n",
    "    return '. ' + query_str\n",
    "\n",
    "def Are_there_elements_belonging_to_the_same_class(cxt, query): #新建联系，把vocab和属性连起来形成新集合\n",
    "    NA, DA = cxt\n",
    "    s,d = query\n",
    "    D = seq(DA).filter(_[0] == d).map(_[1])\n",
    "    return (seq(NA).filter(_[0] == s).map(_[1]).select(lambda x: sl_vocab[x] == sl_vocab[D[0]]).any())\n",
    "      \n",
    "    \n",
    "def find_sample(vocab, k): \n",
    "    name_vocab, all_vocab = vocab\n",
    "    k_name, k_all, k_D, k_SA = k  # k_name = 3, k_all = 4, k_D = 2, k_SA = 6\n",
    "    S = list(all_vocab.keys())\n",
    "    N, A, D = sample(name_vocab, k_name), sample(S, k_all), sample(string.ascii_lowercase, k_D)\n",
    "#     D = sample(d := name_vocab.pop(name_vocab.index(a) for a in N),k_D)\n",
    "    A1 = sample(S, k_D)\n",
    "    DA = list(zip(D,A1)) \n",
    "    \n",
    "    all_NA = list(itertools.product(N, A))  \n",
    "    while seq(NA := sample(all_NA, k_SA)).map(_[0]).distinct().len() < k_name: continue  \n",
    "    return NA, DA\n",
    "   \n",
    "def find_query(cxt,vocab,k): \n",
    "    NA, DA = cxt\n",
    "    k_name, k_all, k_D, k_SA = k\n",
    "    S,D = select_distinct(NA, 0), select_distinct(DA, 0)\n",
    "    s,d = choice(S), choice(D)\n",
    "    return s, d\n",
    "\n",
    "def find_query2str(query):\n",
    "    s, d = query\n",
    "    query_str = '%s,%s?' % (s, d)\n",
    "    return '. ' + query_str\n",
    "\n",
    "\n",
    "def Are_there_any_elements_different_from_other_elements(cxt, query):\n",
    "    NA = cxt\n",
    "    ss = query\n",
    "    return (seq(ss).map(lambda s: seq(NA).filter(_[0] == s).map(_[1])\n",
    "                        .select(lambda x: sl_vocab[x])[0])\n",
    "            .distinct().len( ) == 2)\n",
    "               \n",
    "def find_dif_sample(vocab, k):\n",
    "    name_vocab, all_vocab = vocab\n",
    "    k_name, k_all, k_SA = k  # k_name = 4, k_all = 4, k_SA= 3\n",
    "    N, A = sample(name_vocab, k_name), sample(list(all_vocab.keys()), k_all) \n",
    "    NA = list(zip(N,A)) \n",
    "    return NA\n",
    "   \n",
    "def find_dif_query(cxt,vocab,k): \n",
    "    NA = cxt\n",
    "    k_name, k_all, k_NA = k\n",
    "    S = select_distinct(NA, 0)\n",
    "    ss = sample(S,k_NA)\n",
    "    return ss\n",
    "\n",
    "\n",
    "def find_dif_query2str(query):\n",
    "    ss = query\n",
    "    query_str = '%s?' % (', '.join(ss[:-1]) + ' and ' + ss[-1])\n",
    "    return '. ' + query_str\n",
    "\n"
   ]
  },
  {
   "cell_type": "code",
   "execution_count": 21,
   "id": "464efbec",
   "metadata": {},
   "outputs": [],
   "source": [
    "def How_many_elements_are_similar_to_the_case(cxt, query):\n",
    "    s = cxt\n",
    "    q = query\n",
    "    return seq(s).filter(lambda x: sl_vocab[x] == sl_vocab[q[0]]).len()\n",
    "                     \n",
    "def count_sample(vocab, k):\n",
    "    all_vocab = vocab\n",
    "    k_cxt,k_query = k  # k_cxt = 4 ,k_query =1\n",
    "    N = list(all_vocab.keys())\n",
    "    s = sample(N, k_cxt) \n",
    "    return s\n",
    "   \n",
    "def count_query(cxt,vocab,k): \n",
    "    NA = cxt\n",
    "    k_cxt,k_query = k\n",
    "    N = list(vocab.keys())\n",
    "    q = sample(N,k_query)\n",
    "    return q\n",
    "\n",
    "def count_query2str(query):\n",
    "    q = query\n",
    "    query_str = '%s?' % (q[0])\n",
    "    return '. ' + query_str\n",
    "\n",
    "def Is_the_number_of_first_elements_greater_than_the_second_one(cxt, query):\n",
    "    s = cxt\n",
    "    q = query\n",
    "    return (seq(s).filter(lambda x: sl_vocab[x] == sl_vocab[q[0]]).len() >= len(s)/2)\n",
    "                     \n",
    "def compare_sample(vocab, k):\n",
    "    all_vocab,s_vocab,l_vocab = vocab\n",
    "    k_cxt,k_query = k  # k_cxt = 5 ,k_query =2\n",
    "    N = list(all_vocab.keys())\n",
    "    s = sample(N, k_cxt) \n",
    "    return s\n",
    "   \n",
    "def compare_query(cxt,vocab,k): \n",
    "    NA = cxt\n",
    "    all_vocab,s_vocab,l_vocab = vocab\n",
    "    k_cxt,k_query = k\n",
    "    q = sample(s_vocab,1)+sample(l_vocab,1)\n",
    "    random.shuffle(q)\n",
    "    return q\n",
    "\n",
    "def compare_query2str(query):\n",
    "    ss,q = query\n",
    "    query_str = '%s,%s?' % (ss,q)\n",
    "    return '. ' + query_str"
   ]
  },
  {
   "cell_type": "code",
   "execution_count": 22,
   "id": "62aee837",
   "metadata": {},
   "outputs": [],
   "source": [
    "def Ascii_size_existence(l, query): return seq(l).map(_[0] > query).any()\n",
    "def Ascii_size_all(l, query): return seq(l).map(_[0] > query).all()\n",
    "def Ascii_size_None(l, query): return seq(l).filter(_[0] > query).empty()\n",
    "def ith_element(l, query=None): return seq(l).slice(1, 2)\n",
    "def ith_group(l, query=None): return seq(l).group_by(_).select(_[1]).slice(1, 2).flatten()#.distinct()# davinci F w/ and wo dist\n",
    "# def element_at_index(l, query): return seq(l).slice(query, query + 1) # davinci F\n",
    "def element_at_index(l, query): return seq(l).enumerate().filter(_[0] == query).select(_[1])\n",
    "def replace(l, query): return seq(l).map(lambda x: query.get(x, x))\n",
    "def replace_with_the_other(l, query): # davinci F\n",
    "    query = {k: (set(l) - {k}).pop() for k in l}\n",
    "    return replace(l, query)\n",
    "def replace_all_with(l, query): return seq(l).map(lambda x: query)  # davinci F?!\n",
    "def interleave_with(l, query): return seq(l).flat_map(lambda x: [x, query])  # davinci T!!\n",
    "def unique_elements(l, query=None): return seq(l).distinct() # davinci F\n",
    "def how_many_unique_elements(l, query=None): return seq(l).distinct().len()  # davinci F\n",
    "def how_many(l, query): return seq(l).filter(_ == query).len() # davinci F\n",
    "def select_same_as(l, query): return seq(l).filter(_ == query) # simpler version of how_many. davinci F\n",
    "def select_same_number_as(l, query): return seq(l).group_by(_).select(_[1]).filter(lambda x: len(x) == len(query)).flatten() # F\n",
    "def includes(l, query): return seq(l).union(seq(query)).distinct().len() == seq(l).distinct().len() # davinci F\n",
    "def is_included_by(l, query): return seq(l).difference(seq(query)).empty() # davinci F"
   ]
  },
  {
   "cell_type": "code",
   "execution_count": 23,
   "id": "388dd77e",
   "metadata": {},
   "outputs": [],
   "source": [
    "def Compare_the_values_of_two_sets(cxt, query):\n",
    "    s = cxt\n",
    "    q = query\n",
    "    if(seq(s).filter(lambda x: sl_vocab[x] == sl_vocab[q[0]]).len() > len(s)/2):\n",
    "        return \">\"\n",
    "    elif(seq(s).filter(lambda x: sl_vocab[x] == sl_vocab[q[0]]).len() < len(s)/2):\n",
    "        return \"<\"\n",
    "    else:\n",
    "        return \"=\"\n",
    "\n",
    "def Compare_sample(vocab, k):\n",
    "    all_vocab,s_vocab,l_vocab = vocab\n",
    "    k_cxt,k_query = k  # k_cxt = 5 ,k_query =2\n",
    "    N = list(all_vocab.keys())\n",
    "    s = sample(N, k_cxt) \n",
    "    return s\n",
    "   \n",
    "def Compare_query(cxt,vocab,k): \n",
    "    NA = cxt\n",
    "    all_vocab,s_vocab,l_vocab = vocab\n",
    "    k_cxt,k_query = k\n",
    "    q = sample(s_vocab,1)+sample(l_vocab,1)\n",
    "    random.shuffle(q)\n",
    "    return q\n",
    "\n",
    "def Compare_query2str(query):\n",
    "    ss,q = query\n",
    "    query_str = '%s,%s?' % (ss,q)\n",
    "    return '. ' + query_str"
   ]
  },
  {
   "cell_type": "code",
   "execution_count": 24,
   "id": "48028352",
   "metadata": {},
   "outputs": [],
   "source": [
    "def Relationship_between_two_sets(cxt, query): #新建联系，把vocab和属性连起来形成新集合\n",
    "    NA = cxt\n",
    "    s,q= query   #s:boys/girls  q:fruits/toys\n",
    "    name = seq(NA).filter(lambda x: bg_vocab[x[0]] == s)\n",
    "    if(seq(name).map(_[1]).filter(lambda x: ft_vocab[x] == q).len() == seq(name).len()):\n",
    "        return \"all\"\n",
    "    elif(seq(name).map(_[1]).filter(lambda x: ft_vocab[x] == q).empty()):\n",
    "        return \"none\"\n",
    "    else:\n",
    "        return \"some\"\n",
    "    \n",
    "def Relationship_sample(vocab, k): \n",
    "    name_vocab, all_vocab = vocab\n",
    "    k_name, k_all, k_SA = k  # k_name = 4, k_all = 4, k_SA = 4\n",
    "    Name = list(name_vocab.keys())\n",
    "    S = list(all_vocab.keys())\n",
    "    N, A = sample(Name, k_name), sample(S, k_all)\n",
    "#     D = sample(d := name_vocab.pop(name_vocab.index(a) for a in N),k_D)\n",
    "    \n",
    "    all_NA = list(itertools.product(N, A))  \n",
    "    while seq(NA := sample(all_NA, k_SA)).map(_[0]).distinct().len() < k_name: continue  \n",
    "    return NA\n",
    "   \n",
    "def Relationship_query(cxt,vocab,k): \n",
    "    NA = cxt\n",
    "    name_vocab, all_vocab = vocab\n",
    "    k_name, k_all, k_SA = k\n",
    "    S,D = select_distinct(NA, 0),select_distinct(NA, 1)\n",
    "    s,d = choice(S),choice(D)\n",
    "    s1,d1 = name_vocab[s],all_vocab[d]\n",
    "    return s1,d1\n",
    "\n",
    "def Relationship_query2str(query):\n",
    "    s,q = query\n",
    "    query_str = '[] %s have %s. [all / some / none]?' % (s,q)\n",
    "    return '. ' + query_str"
   ]
  },
  {
   "cell_type": "code",
   "execution_count": 25,
   "id": "f199b53d",
   "metadata": {},
   "outputs": [],
   "source": [
    "tasks = [\n",
    "    (ith_element,            None,                               sample,    None,None),\n",
    "    (ith_group,              None, lambda vocab, k: seq(sample(vocab, k)).map(lambda x:[x]*randint(1, 3)).flatten().list(),None,None),\n",
    "    (element_at_index,       lambda: upper_letters,              sample,    lambda l,vocab,k: randint(0, min(2,len(l)-1))),\n",
    "    (replace,                None,                               sample,    lambda l,vocab,k: {choice(l): choice(vocab)}),\n",
    "    (replace_with_the_other, lambda: sample(full_vocab, 2),   lambda vocab,k: sample(vocab+choices(vocab, k=k-2),k), None),\n",
    "    (replace_all_with,       None,                               sample_rand_len, lambda l,vocab,k: choice(vocab)),\n",
    "    (interleave_with,        None,                               sample_rand_len, lambda l,vocab,k: choice(vocab)),\n",
    "    (unique_elements,        lambda: sample(upper_letters, 3),   choices,   None),\n",
    "    (how_many_unique_elements,lambda: sample(upper_letters, 3),  choices,   None),\n",
    "    (how_many,               lambda: sample(upper_letters, 3),   choices,   lambda l,vocab,k: choice(list(set(l)))),\n",
    "    (select_same_as,         lambda: sample(upper_letters, 3),   choices,   lambda l,vocab,k: choice(list(set(l)))),\n",
    "    (select_same_number_as,  None, lambda vocab, k: seq(sample(vocab, k)).map(lambda x:[x]*randint(1, 3)).flatten().list(),   \n",
    "     lambda l,vocab,k: [choice(vocab)]*randint(1, 3)),\n",
    "    (includes,               lambda: sample(upper_letters, 6),   sample,    lambda l,vocab,k: sample(vocab, 3)),\n",
    "    (is_included_by,         lambda: sample(upper_letters, 6),   sample,    lambda l,vocab,k: sample(vocab, 5)),\n",
    "    \n",
    "    (Ascii_size_None,        lambda: string.ascii_uppercase,              sample,    lambda l,vocab,k: \"Is there no element greater than %s?\" % choice(list(set(l)))),\n",
    "    (Ascii_size_all,         lambda: string.ascii_uppercase,              sample,    lambda l,vocab,k: \"Are all elements greater than %s?\" % choice(list(set(l)))),\n",
    "    (Ascii_size_existence,   lambda: string.ascii_uppercase,              sample,    lambda l,vocab,k: \"Is there an element greater than %s?\" % choice(list(set(l)))),\n",
    "    \n",
    "#     (all_a,                  lambda: [names_vocab,courses_vocab,depts_vocab],     all_a_sample,    all_a_query, all_a_query2str),\n",
    "    (Do_all_students_choose_courses_in_a_department,    lambda: [names_vocab,courses_vocab,depts_vocab],     all_a_sample,    all_a_query, all_a_query2str),\n",
    "    (Compare_the_values_of_two_sets,  lambda: [sl_vocab,solid_vocab,liquid_vocab],  Compare_sample,    Compare_query, Compare_query2str),\n",
    "    (Relationship_between_two_sets,   lambda: [bg_vocab,ft_vocab],               Relationship_sample,    Relationship_query, Relationship_query2str),\n",
    "    (Is_the_intersection_of_two_sets_empty,           lambda: [string.ascii_uppercase,string.ascii_lowercase],     intersection_sample,    intersection_query, intersection_query2str),\n",
    "    (Is_the_first_set_a_subset_of_the_second_one,           lambda: [string.ascii_uppercase,string.ascii_lowercase],     complement_sample,    complement_query, complement_query2str),\n",
    "    (Are_they_the_union_of_the_last_element,                lambda: [string.ascii_uppercase,string.ascii_lowercase,depts_vocab],     union_sample,    union_query, union_query2str),\n",
    "    (Are_there_elements_belonging_to_the_same_class,            lambda: [string.ascii_uppercase,sl_vocab],      find_sample,    find_query, find_query2str ),\n",
    "    (Are_there_any_elements_different_from_other_elements,          lambda: [string.ascii_uppercase,sl_vocab],      find_dif_sample,  find_dif_query, find_dif_query2str ),\n",
    "    (How_many_elements_are_similar_to_the_case,                lambda: sl_vocab,                                      count_sample,            count_query,count_query2str),\n",
    "    (Is_the_number_of_first_elements_greater_than_the_second_one,              lambda: [sl_vocab,solid_vocab,liquid_vocab],          compare_sample,            compare_query,compare_query2str),\n",
    "]"
   ]
  },
  {
   "cell_type": "code",
   "execution_count": 1365,
   "id": "105e915f",
   "metadata": {},
   "outputs": [],
   "source": [
    "# print(make_input_str(tasks[-8], nrows=30, ncols=(4, 4, 4))) "
   ]
  },
  {
   "cell_type": "code",
   "execution_count": 664,
   "id": "91683062",
   "metadata": {},
   "outputs": [],
   "source": [
    "# print(make_input_str(tasks[-9], nrows=8, ncols=(4,2))) #比较，query中给了两个元素（固体、液体），\n",
    "                                                        #若前一个元素的类型数目大于后一个，就输出YES"
   ]
  },
  {
   "cell_type": "code",
   "execution_count": 665,
   "id": "dc45005f",
   "metadata": {},
   "outputs": [],
   "source": [
    "# print(make_input_str(tasks[-9], nrows=80, ncols=(2, 3, 2, 5))) "
   ]
  },
  {
   "cell_type": "code",
   "execution_count": 460,
   "id": "e98e87d7",
   "metadata": {},
   "outputs": [
    {
     "name": "stdout",
     "output_type": "stream",
     "text": [
      "Instruction: Are there any elements different from other elements. For example:\n",
      "M: beer, N: pear, B: milk, G: peach. N, B and G? -> Yes\n",
      "F: juice, P: cola, E: coffee, G: pineapple. F, P and E? -> No\n",
      "U: grape, C: whisky, Z: juice, T: beer. Z, C and T? -> No\n",
      "H: whisky, R: apple, L: strawberry, O: brandy. R, L and O? -> Yes\n",
      "V: juice, W: brandy, P: coffee, O: banana. O, W and P? -> Yes\n",
      "H: banana, J: pineapple, E: coffee, G: grape. H, G and J? -> No\n",
      "\n"
     ]
    }
   ],
   "source": [
    "print(make_input_str(tasks[-3], nrows=80, ncols=(4,4,3))) "
   ]
  },
  {
   "cell_type": "code",
   "execution_count": 462,
   "id": "6fb4988c",
   "metadata": {},
   "outputs": [
    {
     "name": "stdout",
     "output_type": "stream",
     "text": [
      "Instruction: Are there elements belonging to the same class. For example:\n",
      "P: banana, P: brandy, I: brandy, U: peach; v: grape, b: wine. I,b? -> Yes\n",
      "K: whisky, P: apple, K: cola, L: apple; v: whisky, a: strawberry. K,a? -> No\n",
      "R: pear, R: cola, E: strawberry, M: cola; q: pear, h: vodka. E,h? -> No\n",
      "N: pineapple, Z: pineapple, C: coffee, C: juice; p: lemon, j: milk. N,p? -> Yes\n",
      "E: beer, J: milk, I: peach, I: beer; j: peach, n: banana. E,j? -> No\n",
      "R: grape, P: grape, P: juice, N: grape; k: milk, n: vodka. P,k? -> Yes\n",
      "\n"
     ]
    }
   ],
   "source": [
    "print(make_input_str(tasks[-4], nrows=100, ncols=(3,4,2,4)))  #找相同"
   ]
  },
  {
   "cell_type": "code",
   "execution_count": 668,
   "id": "f4070da5",
   "metadata": {},
   "outputs": [],
   "source": [
    "# print(make_input_str(tasks[-1], nrows=8, ncols=(5,2))) #比较，query中给了两个元素（固体、液体），\n",
    "                                                        #若前一个元素的类型数目大于后一个，就输出YES"
   ]
  },
  {
   "cell_type": "code",
   "execution_count": 669,
   "id": "4f3668d5",
   "metadata": {},
   "outputs": [],
   "source": [
    "# print(make_input_str(tasks[-2], nrows=30, ncols=(3,1), ans_vocab=[0,1,2,3]))    #数数，数cxt中与query中元素同类的个数\n",
    "                                                                                  #这里修改了balance函数"
   ]
  },
  {
   "cell_type": "code",
   "execution_count": 670,
   "id": "db442a52",
   "metadata": {},
   "outputs": [],
   "source": [
    "# print(make_input_str(tasks[-5], nrows=10, ncols=(3,4,2,4)))"
   ]
  },
  {
   "cell_type": "code",
   "execution_count": 671,
   "id": "eadf0bd9",
   "metadata": {},
   "outputs": [],
   "source": [
    "# print(make_input_str(tasks[-6], nrows=18, ncols=(3,11,5))) "
   ]
  },
  {
   "cell_type": "code",
   "execution_count": 672,
   "id": "c8c59a5b",
   "metadata": {},
   "outputs": [],
   "source": [
    "# print(make_input_str(tasks[-7], nrows=4, ncols=(3,4,5)))"
   ]
  },
  {
   "cell_type": "code",
   "execution_count": 1377,
   "id": "c3df9c68",
   "metadata": {},
   "outputs": [
    {
     "name": "stdout",
     "output_type": "stream",
     "text": [
      "Instruction: Do all students choose courses in a department. For example:\n",
      "L: Geography, L: English, B: Chemistry, L: Chemistry, Z: Chemistry; English: Eng, Geography: Eng, Chemistry: Mat. B and L,Eng? -> No\n",
      "J: History, O: Art, O: History, J: Math, D: History; History: CS, Art: Mat, Math: Mat. D and O,CS? -> Yes\n",
      "Z: Sql, Z: Music, P: Chemistry, P: Sql, T: Music; Sql: Eng, Music: Eng, Chemistry: Chi. P and Z,Chi? -> No\n",
      "J: Chinese, J: Music, U: Music, J: Sql, H: Chinese; Chinese: CS, Sql: Eng, Music: Eng. J and H,CS? -> Yes\n",
      "\n"
     ]
    }
   ],
   "source": [
    "# print(make_input_str(tasks[-10], nrows=100, ncols=(3, 3, 2, 5))) "
   ]
  },
  {
   "cell_type": "code",
   "execution_count": 674,
   "id": "06d90c77",
   "metadata": {},
   "outputs": [],
   "source": [
    "# print(make_input_str(tasks[-2], nrows=8, ncols=4))"
   ]
  },
  {
   "cell_type": "code",
   "execution_count": 675,
   "id": "3185653b",
   "metadata": {},
   "outputs": [],
   "source": [
    "# if n_total == 1:\n",
    "#     inputs = tokenizer.encode_plus(text, return_tensors='pt')\n",
    "#     inputs = prepare_inputs(inputs, model.device)\n",
    "#     outputs = model(**inputs, output_attentions=False)\n",
    "\n",
    "#     # assert inputs.input_ids.size(0) == 1\n",
    "#     input_ids = inputs.input_ids\n",
    "#     logits = outputs.logits\n",
    "\n",
    "#     bsz = input_ids.size(0); assert bsz == 1\n",
    "#     labels = torch.ones_like(input_ids) * (-100)\n",
    "#     for bi in range(bsz):\n",
    "#         bos_indices = (input_ids[bi] == bos_id).nonzero().squeeze(1)\n",
    "#         eos_indices = (input_ids[bi] == eos_id).nonzero()[-nrows:].squeeze(1)\n",
    "#         for i, (example, bos_i, eos_i) in enumerate(zip(examples, bos_indices.tolist(), eos_indices.tolist())):\n",
    "#             print(' ' + make_example_str(example))\n",
    "#             ans_ids = input_ids[bi, bos_i + 1: eos_i]\n",
    "#             if i >= 2: labels[bi, bos_i: eos_i - 1] = ans_ids\n",
    "#             ans_prob_dist = logits[bi, bos_i: eos_i - 1].softmax(-1)\n",
    "#             ans_probs = ans_prob_dist[torch.arange(ans_prob_dist.size(0)), ans_ids]\n",
    "#             ans_tokens = tokenizer.convert_ids_to_tokens(ans_ids)\n",
    "#             for ans_id, ans_token, ans_prob, dist in zip(ans_ids, ans_tokens, numpy(ans_probs, decimals=3), ans_prob_dist):\n",
    "#                 top1_correct = (dist.argmax() == ans_id).item()\n",
    "#                 print(('*' if top1_correct else ' ') + ans_token, ans_prob, \n",
    "#                       show_topk(*dist.topk(5), indices_fn=tokenizer.convert_ids_to_tokens)) \n",
    "#     loss = nn.CrossEntropyLoss()(logits.view(-1, logits.size(-1)), labels.view(-1))\n",
    "#     loss"
   ]
  },
  {
   "cell_type": "code",
   "execution_count": 676,
   "id": "6b5d2b45",
   "metadata": {},
   "outputs": [],
   "source": [
    "# tokenizer.convert_ids_to_tokens(617)"
   ]
  },
  {
   "cell_type": "code",
   "execution_count": 677,
   "id": "f7d6edbc",
   "metadata": {},
   "outputs": [],
   "source": [
    "# sum(s.count('Yes') for s in input_strs)\n",
    "# sum(s.count('No') for s in input_strs)\n",
    "# sum(s.count('all') for s in input_strs)\n",
    "# sum(s.count('none') for s in input_strs)\n",
    "# sum(s.count('some') for s in input_strs)\n",
    "# sum(s.count('3') for s in input_strs)"
   ]
  },
  {
   "cell_type": "code",
   "execution_count": 187,
   "id": "d64330f3",
   "metadata": {
    "scrolled": true
   },
   "outputs": [],
   "source": [
    "# [e['input_ids'] for e in train_dataset]"
   ]
  },
  {
   "cell_type": "code",
   "execution_count": 140,
   "id": "ee181c24",
   "metadata": {},
   "outputs": [],
   "source": [
    "# tokenizer.convert_ids_to_tokens(([e['input_ids'] for e in train_dataset][0]).numpy().tolist())"
   ]
  },
  {
   "cell_type": "code",
   "execution_count": 141,
   "id": "4ff9a2be",
   "metadata": {
    "scrolled": true
   },
   "outputs": [],
   "source": [
    "# print(eval_dataset.labels)"
   ]
  },
  {
   "cell_type": "code",
   "execution_count": null,
   "id": "c759bca1",
   "metadata": {},
   "outputs": [],
   "source": []
  },
  {
   "cell_type": "markdown",
   "id": "5f588b59",
   "metadata": {},
   "source": [
    "# 请从这里开始,肖老师"
   ]
  },
  {
   "cell_type": "code",
   "execution_count": 297,
   "id": "17373019",
   "metadata": {
    "scrolled": true
   },
   "outputs": [
    {
     "name": "stdout",
     "output_type": "stream",
     "text": [
      "Instruction: Relationship between two sets. For example:\n",
      "Daniel: lemon, Ashley: grape, Amanda: grape, Harrison: pear. [] boys have fruits. [all / some / none]? -> all\n",
      "\n",
      "Instruction: Relationship between two sets. For example:\n",
      "Sarah: lemon, Alex: peach, Harrison: grape, Eva: plasticine. [] boys have toys. [all / some / none]? -> none\n",
      "\n"
     ]
    }
   ],
   "source": [
    "# n_total, n_valid = 500, 100  #全部数目，测试数目\n",
    "# n_total, n_valid = 800, 200\n",
    "n_total, n_valid = 180, 30\n",
    "# n_total, n_valid =4,2\n",
    "n_train = n_total - n_valid\n",
    "# input_strs = [make_input_str(tasks[-7], nrows=1, ncols=(3,4,5)) for __ in range(n_total)]# Is the intersection of two sets empty.\n",
    "# input_strs = [make_input_str(tasks[-3], nrows=1, ncols=(4,4,3)) for __ in range(n_total)]# Are there any elements different from other elements\n",
    "# input_strs = [make_input_str(tasks[-4], nrows=1, ncols=(3,4,2,4)) for __ in range(n_total)]# Are_there_elements_belonging_to_the_same_class\n",
    "# input_strs = [make_input_str(tasks[-1], nrows=1, ncols=(5,2)) for __ in range(n_total)]#Is_the_number_of_first_elements_greater_than_the_second_one\n",
    "# input_strs = [make_input_str(tasks[-2], nrows=1, ncols=(3,1), ans_vocab=[0,1,2,3]) for __ in range(n_total)] #How_many_elements_are_similar_to_the_example\n",
    "# input_strs = [make_input_str(tasks[-5], nrows=1, ncols=(3,4,2,4)) for __ in range(n_total)] #Are_they_the_union_of_the_last_element\n",
    "# input_strs = [make_input_str(tasks[-6], nrows=1, ncols=(3,11,5)) for __ in range(n_total)]#Is the first set a subset of the second one\n",
    "# input_strs = [make_input_str(tasks[-10], nrows=1, ncols=(3, 3, 2, 5)) for __ in range(n_total)]\n",
    "# input_strs = [make_input_str(tasks[-9], nrows=1, ncols=(4,2)) for __ in range(n_total)] #Compare the values of two sets.\n",
    "input_strs = [make_input_str(tasks[-8], nrows=1, ncols=(4, 4, 4)) for __ in range(n_total)] #Relationship between two sets.\n",
    "\n",
    "for s in sample(input_strs, 2): print(s)\n",
    "# print(input_strs)"
   ]
  },
  {
   "cell_type": "code",
   "execution_count": 113,
   "id": "58f1d494",
   "metadata": {},
   "outputs": [],
   "source": [
    "# s,end = input_strs[0].index(\":\"),input_strs[0].index(\"For\")\n",
    "# name = input_strs[0][s+2:end]\n",
    "# import json\n",
    "# filename = './nrk/'+name\n",
    "# with open(filename,\"w\") as file_obj:\n",
    "#     json.dump(input_strs,file_obj)"
   ]
  },
  {
   "cell_type": "code",
   "execution_count": 311,
   "id": "2e64ee95",
   "metadata": {},
   "outputs": [
    {
     "name": "stdout",
     "output_type": "stream",
     "text": [
      "Instruction: Is this sentence correct. For example:\n",
      "A is less difficult to carry than B because A is smaller. Is that right? -> Yes\n",
      "\n",
      "Instruction: Is this sentence correct. For example:\n",
      "A is more dangerous to look at than B because A is less luminous. Is that right? -> No\n",
      "\n"
     ]
    }
   ],
   "source": [
    "for s in sample(text, 2): print(s)\n",
    "n_total, n_valid = 180, 30\n",
    "n_train = n_total - n_valid\n",
    "text = text[:180]"
   ]
  },
  {
   "cell_type": "code",
   "execution_count": 323,
   "id": "e2f80b74",
   "metadata": {},
   "outputs": [
    {
     "name": "stderr",
     "output_type": "stream",
     "text": [
      "Using pad_token, but it is not set yet.\n"
     ]
    }
   ],
   "source": [
    "# train_dataset = CHILDDataset(input_strs[:-n_valid], tokenizer)\n",
    "# eval_dataset = CHILDDataset(input_strs[-n_valid:], tokenizer)\n",
    "train_dataset = CHILDDataset(text[:-n_valid], tokenizer)\n",
    "eval_dataset = CHILDDataset(text[-n_valid:], tokenizer)"
   ]
  },
  {
   "cell_type": "code",
   "execution_count": 324,
   "id": "82ad27d7",
   "metadata": {},
   "outputs": [],
   "source": [
    "wte = model.get_input_embeddings() #提取 embedding 中的 词向量部分\n",
    "if hasattr(wte, 'wte'): wte = wte.wte  # already been wrapped\n",
    "we = WrappedEmbedding(wte, prompt_len=40000)\n",
    "model.set_input_embeddings(we) #为词向量赋值"
   ]
  },
  {
   "cell_type": "code",
   "execution_count": 325,
   "id": "416bbc0f",
   "metadata": {},
   "outputs": [],
   "source": [
    "def compute_metrics(pred):\n",
    "    labels = []\n",
    "    bos_indices = []\n",
    "    eos_indices = []\n",
    "    preds = []\n",
    "    m = nn.Softmax(dim = -1)\n",
    "    labels_loc = pred.label_ids.argmax(-1)\n",
    "    for i in range(len(labels_loc)):\n",
    "        labels.append(pred.label_ids[i][labels_loc[i]])\n",
    "                                                                                 #     arraypre = pred.predictions[0] # 6B\n",
    "    arraypre = pred.predictions                                                                              # 1.3B\n",
    "    predss = arraypre.argmax(-1)\n",
    "    num = \"\"\n",
    "   \n",
    "    for bi in range(predss.shape[0]):\n",
    "        num = labels_loc[bi]\n",
    "        preds.append(predss[bi, num-1:num]) \n",
    "        t = torch.from_numpy(pred.predictions[bi,num-1:num])                        #1.3B\n",
    "                                                                                    #         t = torch.from_numpy(pred.predictions[0][bi,num-1:num])  #6B\n",
    "        n = m(t)\n",
    "        ids = torch.topk(n,3)[1].numpy().tolist()                                              #ids   /[0] 概率\n",
    "        loc = torch.topk(n,3)[0].numpy().tolist()\n",
    "                                                                                                 #         print(ids)\n",
    "        ids = tokenizer.convert_ids_to_tokens(ids[0])\n",
    "        loc = [float('{:.4f}'.format(i)) for i in loc[0]]\n",
    "        precision = [i+\" : \"+str(j) for i,j in zip(ids,loc)]\n",
    "    acc = accuracy_score(labels, list(preds))    \n",
    "    return {\n",
    "        'accuracy': acc,\n",
    "        'precision': precision,\n",
    "    }\n"
   ]
  },
  {
   "cell_type": "code",
   "execution_count": 326,
   "id": "d34fd7d4",
   "metadata": {},
   "outputs": [
    {
     "data": {
      "text/plain": [
       "tensor([-100, -100, -100, -100, -100, -100, -100, -100, -100, -100, -100, -100,\n",
       "        -100, -100, -100, -100, -100, -100, -100, -100, -100, -100, -100, -100,\n",
       "        -100, -100, -100, -100, -100, -100, -100, 3363, -100, -100, -100, -100,\n",
       "        -100, -100])"
      ]
     },
     "execution_count": 326,
     "metadata": {},
     "output_type": "execute_result"
    }
   ],
   "source": [
    "eval_dataset[0]['labels']"
   ]
  },
  {
   "cell_type": "code",
   "execution_count": 316,
   "id": "eb7bf973",
   "metadata": {},
   "outputs": [],
   "source": [
    "# def compute_metrics(pred):\n",
    "#     labels = []\n",
    "#     bos_indices = []\n",
    "#     preds = []\n",
    "#     labels_loc = pred.label_ids.argmax(-1)\n",
    "#     for i in range(len(labels_loc)):\n",
    "#         labels.append(pred.label_ids[i][labels_loc[i]])\n",
    "# #     print(labels)\n",
    "#     arraypre = pred.predictions[0] # 6B\n",
    "# # #     arraypre = pred.predictions # 1.3B\n",
    "#     print(arraypre)\n",
    "#     predss = arraypre.argmax(-1)\n",
    "#     sent = tokenizer.convert_ids_to_tokens(predss[0])\n",
    "#     sent1 = \" \".join(sent)\n",
    "#     sent1=sent1.replace(\"Ġ\",\"\")\n",
    "#     sent1=sent1.replace(\"Ċ\",\"\\n\")\n",
    "#     print(sent1)\n",
    "#     for bi in range(predss.shape[0]):\n",
    "#         for j in range(predss.shape[1]):\n",
    "#             if(predss[bi][j] == bos_id):\n",
    "#                 bos_indices.append(j)\n",
    "#         bos_i = bos_indices[-1]\n",
    "#         preds.append(predss[bi, bos_i + 1:bos_i + 2])\n",
    "    \n",
    "#     acc = accuracy_score(labels, list(preds))\n",
    "#     return {\n",
    "# #         'accuracy': acc,\n",
    "#     }\n"
   ]
  },
  {
   "cell_type": "code",
   "execution_count": 327,
   "id": "6ebf074a",
   "metadata": {
    "scrolled": true
   },
   "outputs": [
    {
     "name": "stderr",
     "output_type": "stream",
     "text": [
      "PyTorch: setting up devices\n"
     ]
    }
   ],
   "source": [
    "training_args = TrainingArguments(output_dir=\"./models/model_name\",                                                             #模型预测和检查点的输出目录\n",
    "    overwrite_output_dir=True, do_train=True, do_eval=True, do_predict=True, \n",
    "    per_device_train_batch_size=1, per_device_eval_batch_size=1,                                                  #每个GPU / TPU内核/ CPU的批处理大小\n",
    "    gradient_accumulation_steps=6,eval_steps=5, \n",
    "    weight_decay=0.001, adam_beta2=0.98, adam_epsilon=1e-6,                                      #weight_decay要应用的权重衰减,adam_epsilon AdamW优化器的ε超参数\n",
    "    lr_scheduler_type='constant', learning_rate=0.001, num_train_epochs=5,                                  #learning_rate:Adam初始学习率\n",
    "    logging_strategy ='epoch',  save_steps=0,                                             #save_steps保存两个检查点之前的更新步骤数\n",
    "    no_cuda=True, report_to='none',                                                         # to avoid report to wandb\n",
    "    evaluation_strategy ='steps',\n",
    "#     evaluation_strategy ='epoch'\n",
    ")"
   ]
  },
  {
   "cell_type": "code",
   "execution_count": 328,
   "id": "ff25273c",
   "metadata": {},
   "outputs": [],
   "source": [
    "# with open(filename,\"a\") as f:\n",
    "#         f.write(str(training_args))"
   ]
  },
  {
   "cell_type": "code",
   "execution_count": 329,
   "id": "d89c7d7b",
   "metadata": {},
   "outputs": [
    {
     "name": "stderr",
     "output_type": "stream",
     "text": [
      "/nas/xd/projects/transformers/src/transformers/optimization.py:306: FutureWarning: This implementation of AdamW is deprecated and will be removed in a future version. Use the PyTorch implementation torch.optim.AdamW instead, or set `no_deprecation_warning=True` to disable this warning\n",
      "  warnings.warn(\n"
     ]
    }
   ],
   "source": [
    "trainer = Trainer(model, training_args, train_dataset=train_dataset, eval_dataset=eval_dataset,compute_metrics=compute_metrics,\n",
    "                  optimizers=(create_optimizer(model, training_args), None))"
   ]
  },
  {
   "cell_type": "code",
   "execution_count": 330,
   "id": "0aa95c7d",
   "metadata": {},
   "outputs": [
    {
     "name": "stderr",
     "output_type": "stream",
     "text": [
      "***** Running Evaluation *****\n",
      "  Num examples = 30\n",
      "  Batch size = 1\n"
     ]
    },
    {
     "data": {
      "text/html": [
       "\n",
       "    <div>\n",
       "      \n",
       "      <progress value='60' max='30' style='width:300px; height:20px; vertical-align: middle;'></progress>\n",
       "      [30/30 01:58]\n",
       "    </div>\n",
       "    "
      ],
      "text/plain": [
       "<IPython.core.display.HTML object>"
      ]
     },
     "metadata": {},
     "output_type": "display_data"
    },
    {
     "data": {
      "text/plain": [
       "{'eval_loss': 3.5578513145446777,\n",
       " 'eval_accuracy': 0.0,\n",
       " 'eval_precision': ['ĠA : 0.1883', 'ĠIs : 0.059', 'ĠB : 0.0472'],\n",
       " 'eval_runtime': 9.2024,\n",
       " 'eval_samples_per_second': 3.26,\n",
       " 'eval_steps_per_second': 3.26}"
      ]
     },
     "execution_count": 330,
     "metadata": {},
     "output_type": "execute_result"
    }
   ],
   "source": [
    "trainer.evaluate()"
   ]
  },
  {
   "cell_type": "code",
   "execution_count": 331,
   "id": "c5b8d21d",
   "metadata": {
    "scrolled": false
   },
   "outputs": [
    {
     "name": "stderr",
     "output_type": "stream",
     "text": [
      "***** Running training *****\n",
      "  Num examples = 150\n",
      "  Num Epochs = 5\n",
      "  Instantaneous batch size per device = 1\n",
      "  Total train batch size (w. parallel, distributed & accumulation) = 1\n",
      "  Gradient Accumulation steps = 1\n",
      "  Total optimization steps = 750\n"
     ]
    },
    {
     "data": {
      "text/html": [
       "\n",
       "    <div>\n",
       "      \n",
       "      <progress value='750' max='750' style='width:300px; height:20px; vertical-align: middle;'></progress>\n",
       "      [750/750 09:14, Epoch 5/5]\n",
       "    </div>\n",
       "    <table border=\"1\" class=\"dataframe\">\n",
       "  <thead>\n",
       " <tr style=\"text-align: left;\">\n",
       "      <th>Epoch</th>\n",
       "      <th>Training Loss</th>\n",
       "      <th>Validation Loss</th>\n",
       "      <th>Accuracy</th>\n",
       "      <th>Precision</th>\n",
       "    </tr>\n",
       "  </thead>\n",
       "  <tbody>\n",
       "    <tr>\n",
       "      <td>1</td>\n",
       "      <td>1.616900</td>\n",
       "      <td>1.304838</td>\n",
       "      <td>0.566667</td>\n",
       "      <td>['ĠYes : 0.6459', 'ĠNo : 0.1877', 'Ġ[ : 0.0194']</td>\n",
       "    </tr>\n",
       "    <tr>\n",
       "      <td>2</td>\n",
       "      <td>2.889400</td>\n",
       "      <td>13.196543</td>\n",
       "      <td>0.000000</td>\n",
       "      <td>['ĊĊ : 0.1545', 'Ċ : 0.1327', '\\\\ : 0.0873']</td>\n",
       "    </tr>\n",
       "    <tr>\n",
       "      <td>3</td>\n",
       "      <td>10.558700</td>\n",
       "      <td>12.672831</td>\n",
       "      <td>0.000000</td>\n",
       "      <td>['Ġthe : 0.1758', 'Ġof : 0.0498', '- : 0.0434']</td>\n",
       "    </tr>\n",
       "    <tr>\n",
       "      <td>4</td>\n",
       "      <td>9.712600</td>\n",
       "      <td>9.770533</td>\n",
       "      <td>0.000000</td>\n",
       "      <td>['Ġ : 0.273', 'Ġthe : 0.0731', 'Ġlike : 0.035']</td>\n",
       "    </tr>\n",
       "    <tr>\n",
       "      <td>5</td>\n",
       "      <td>4.668000</td>\n",
       "      <td>2.120934</td>\n",
       "      <td>0.433333</td>\n",
       "      <td>['ĠNo : 0.1628', 'ĠYes : 0.1345', 'Ġthe : 0.0488']</td>\n",
       "    </tr>\n",
       "  </tbody>\n",
       "</table><p>"
      ],
      "text/plain": [
       "<IPython.core.display.HTML object>"
      ]
     },
     "metadata": {},
     "output_type": "display_data"
    },
    {
     "name": "stderr",
     "output_type": "stream",
     "text": [
      "***** Running Evaluation *****\n",
      "  Num examples = 30\n",
      "  Batch size = 1\n",
      "***** Running Evaluation *****\n",
      "  Num examples = 30\n",
      "  Batch size = 1\n",
      "***** Running Evaluation *****\n",
      "  Num examples = 30\n",
      "  Batch size = 1\n",
      "***** Running Evaluation *****\n",
      "  Num examples = 30\n",
      "  Batch size = 1\n",
      "***** Running Evaluation *****\n",
      "  Num examples = 30\n",
      "  Batch size = 1\n",
      "\n",
      "\n",
      "Training completed. Do not forget to share your model on huggingface.co/models =)\n",
      "\n",
      "\n"
     ]
    },
    {
     "data": {
      "text/plain": [
       "TrainOutput(global_step=750, training_loss=5.889138916015625, metrics={'train_runtime': 554.7103, 'train_samples_per_second': 1.352, 'train_steps_per_second': 1.352, 'total_flos': 224246237184000.0, 'train_loss': 5.889138916015625, 'epoch': 5.0})"
      ]
     },
     "execution_count": 331,
     "metadata": {},
     "output_type": "execute_result"
    }
   ],
   "source": [
    "trainer.train()"
   ]
  },
  {
   "cell_type": "code",
   "execution_count": 76,
   "id": "90777ed1",
   "metadata": {},
   "outputs": [
    {
     "name": "stderr",
     "output_type": "stream",
     "text": [
      "***** Running Prediction *****\n",
      "  Num examples = 10\n",
      "  Batch size = 1\n"
     ]
    },
    {
     "data": {
      "text/html": [
       "\n",
       "    <div>\n",
       "      \n",
       "      <progress value='10' max='10' style='width:300px; height:20px; vertical-align: middle;'></progress>\n",
       "      [10/10 00:02]\n",
       "    </div>\n",
       "    "
      ],
      "text/plain": [
       "<IPython.core.display.HTML object>"
      ]
     },
     "metadata": {},
     "output_type": "display_data"
    },
    {
     "name": "stdout",
     "output_type": "stream",
     "text": [
      "{'test_loss': 0.735599160194397, 'test_accuracy': 0.5, 'test_precision': ['ĠYes : 0.6578', 'ĠNo : 0.3009', 'Ġyes : 0.0071'], 'test_runtime': 3.1062, 'test_samples_per_second': 3.219, 'test_steps_per_second': 3.219}\n"
     ]
    }
   ],
   "source": [
    "test_dataset = CHILDDataset(text[:10], tokenizer)\n",
    "a = trainer.predict(test_dataset) #此处新生成了测试集\n",
    "print(a.metrics)"
   ]
  },
  {
   "cell_type": "code",
   "execution_count": 101,
   "id": "8d29120e",
   "metadata": {},
   "outputs": [
    {
     "name": "stderr",
     "output_type": "stream",
     "text": [
      "***** Running Prediction *****\n",
      "  Num examples = 30\n",
      "  Batch size = 1\n"
     ]
    },
    {
     "name": "stdout",
     "output_type": "stream",
     "text": [
      "{'test_loss': 0.0003098619054071605, 'test_accuracy': 1.0, 'test_precision': ['ĠNo : 0.9999', 'No : 0.0', 'Ġ : 0.0'], 'test_runtime': 50.5283, 'test_samples_per_second': 0.594, 'test_steps_per_second': 0.594}\n"
     ]
    }
   ],
   "source": [
    "# input_strs = [make_input_str(tasks[-7], nrows=100, ncols=(3,4,5)) for __ in range(30)]# Is the intersection of two sets empty.\n",
    "# input_strs = [make_input_str(tasks[-3], nrows=100, ncols=(4,4,3)) for __ in range(30)]# Are there any elements different from other elements\n",
    "# input_strs = [make_input_str(tasks[-4], nrows=100, ncols=(3,4,2,4)) for __ in range(30)]# Are_there_elements_belonging_to_the_same_class\n",
    "# input_strs = [make_input_str(tasks[-1], nrows=120, ncols=(5,2)) for __ in range(30)]#Is_the_number_of_first_elements_greater_than_the_second_one\n",
    "# input_strs = [make_input_str(tasks[-2], nrows=80, ncols=(3,1), ans_vocab=[0,1,2,3]) for __ in range(30)] #How_many_elements_are_similar_to_the_example\n",
    "# input_strs = [make_input_str(tasks[-5], nrows=100, ncols=(3,4,2,4)) for __ in range(30)] #Are_they_the_union_of_the_last_element\n",
    "# input_strs = [make_input_str(tasks[-6], nrows=100, ncols=(3,11,5)) for __ in range(30)]#Is the first set a subset of the second one\n",
    "# input_strs = [make_input_str(tasks[-10], nrows=100, ncols=(3, 3, 2, 5)) for __ in range(30)]\n",
    "# input_strs = [make_input_str(tasks[-9], nrows=100, ncols=(4,2)) for __ in range(30)] #Compare the values of two sets.\n",
    "# input_strs = [make_input_str(tasks[-8], nrows=100, ncols=(4, 4, 4)) for __ in range(30)] #Relationship between two sets.\n",
    "test_dataset = CHILDDataset(input_strs[:], tokenizer)\n",
    "a = trainer.predict(test_dataset) #此处新生成了测试集\n",
    "print(a.metrics)"
   ]
  },
  {
   "cell_type": "code",
   "execution_count": null,
   "id": "56d1961b",
   "metadata": {},
   "outputs": [],
   "source": []
  },
  {
   "cell_type": "code",
   "execution_count": null,
   "id": "d7ef98c4",
   "metadata": {},
   "outputs": [],
   "source": []
  },
  {
   "cell_type": "code",
   "execution_count": null,
   "id": "eedb8237",
   "metadata": {},
   "outputs": [],
   "source": []
  },
  {
   "cell_type": "code",
   "execution_count": null,
   "id": "4622d39d",
   "metadata": {},
   "outputs": [],
   "source": []
  },
  {
   "cell_type": "code",
   "execution_count": null,
   "id": "a194cd0d",
   "metadata": {},
   "outputs": [],
   "source": []
  },
  {
   "cell_type": "code",
   "execution_count": null,
   "id": "9afa17cf",
   "metadata": {},
   "outputs": [],
   "source": []
  },
  {
   "cell_type": "code",
   "execution_count": null,
   "id": "b8e6b876",
   "metadata": {},
   "outputs": [],
   "source": []
  },
  {
   "cell_type": "code",
   "execution_count": 81,
   "id": "b37a9874",
   "metadata": {},
   "outputs": [
    {
     "data": {
      "text/plain": [
       "True"
      ]
     },
     "execution_count": 81,
     "metadata": {},
     "output_type": "execute_result"
    }
   ],
   "source": [
    "trainer.place_model_on_device"
   ]
  },
  {
   "cell_type": "code",
   "execution_count": 82,
   "id": "9b4b3eca",
   "metadata": {},
   "outputs": [],
   "source": [
    "def get_prev(elem):\n",
    "    i, v = elem\n",
    "    return _l[i - 1] if i > 0 else None\n",
    "\n",
    "false = lambda *_: False\n",
    "true  = lambda *_: True"
   ]
  },
  {
   "cell_type": "code",
   "execution_count": 83,
   "id": "721cb66f",
   "metadata": {},
   "outputs": [],
   "source": [
    "Element = namedtuple('Element', 'index value')\n",
    "_l = 'A B C B'.split()\n",
    "n = len(_l)\n",
    "# l = [Element._make(e) for e in enumerate(l)]\n",
    "l = seq(_l)\n",
    "l = l.enumerate().map(Element._make)"
   ]
  },
  {
   "cell_type": "code",
   "execution_count": 85,
   "id": "9f22f664",
   "metadata": {},
   "outputs": [
    {
     "data": {
      "text/html": [
       "<table>\n",
       "<thead>\n",
       "<tr><th style=\"text-align: right;\">  index</th><th>value  </th></tr>\n",
       "</thead>\n",
       "<tbody>\n",
       "<tr><td style=\"text-align: right;\">      0</td><td>A      </td></tr>\n",
       "<tr><td style=\"text-align: right;\">      1</td><td>B      </td></tr>\n",
       "<tr><td style=\"text-align: right;\">      2</td><td>C      </td></tr>\n",
       "<tr><td style=\"text-align: right;\">      3</td><td>B      </td></tr>\n",
       "</tbody>\n",
       "</table>"
      ],
      "text/plain": [
       "[Element(index=0, value='A'), Element(index=1, value='B'), Element(index=2, value='C'), Element(index=3, value='B')]"
      ]
     },
     "execution_count": 85,
     "metadata": {},
     "output_type": "execute_result"
    },
    {
     "data": {
      "text/plain": [
       "['C']"
      ]
     },
     "execution_count": 85,
     "metadata": {},
     "output_type": "execute_result"
    },
    {
     "data": {
      "text/plain": [
       "['b']"
      ]
     },
     "execution_count": 85,
     "metadata": {},
     "output_type": "execute_result"
    },
    {
     "data": {
      "text/plain": [
       "[2]"
      ]
     },
     "execution_count": 85,
     "metadata": {},
     "output_type": "execute_result"
    },
    {
     "data": {
      "text/plain": [
       "['C', 'A', 'B', 'B']"
      ]
     },
     "execution_count": 85,
     "metadata": {},
     "output_type": "execute_result"
    },
    {
     "data": {
      "text/plain": [
       "['B', 'B', 'C', 'A']"
      ]
     },
     "execution_count": 85,
     "metadata": {},
     "output_type": "execute_result"
    },
    {
     "data": {
      "text/html": [
       "<table>\n",
       "<thead>\n",
       "<tr><th style=\"text-align: right;\">  index</th><th>value  </th></tr>\n",
       "</thead>\n",
       "<tbody>\n",
       "<tr><td style=\"text-align: right;\">      0</td><td>A      </td></tr>\n",
       "<tr><td style=\"text-align: right;\">      1</td><td>A      </td></tr>\n",
       "<tr><td style=\"text-align: right;\">      2</td><td>C      </td></tr>\n",
       "<tr><td style=\"text-align: right;\">      3</td><td>B      </td></tr>\n",
       "</tbody>\n",
       "</table>"
      ],
      "text/plain": [
       "[Element(index=0, value='A'), Element(index=1, value='A'), Element(index=2, value='C'), Element(index=3, value='B')]"
      ]
     },
     "execution_count": 85,
     "metadata": {},
     "output_type": "execute_result"
    },
    {
     "data": {
      "text/plain": [
       "False"
      ]
     },
     "execution_count": 85,
     "metadata": {},
     "output_type": "execute_result"
    },
    {
     "data": {
      "text/plain": [
       "['A', 'B', 'B', 'C', 'C']"
      ]
     },
     "execution_count": 85,
     "metadata": {},
     "output_type": "execute_result"
    },
    {
     "data": {
      "text/plain": [
       "[1, 1, 2, 1, 2, 3]"
      ]
     },
     "execution_count": 85,
     "metadata": {},
     "output_type": "execute_result"
    },
    {
     "data": {
      "text/plain": [
       "['B']"
      ]
     },
     "execution_count": 85,
     "metadata": {},
     "output_type": "execute_result"
    },
    {
     "data": {
      "text/plain": [
       "['B']"
      ]
     },
     "execution_count": 85,
     "metadata": {},
     "output_type": "execute_result"
    }
   ],
   "source": [
    "l.map(lambda x: {'B': 'D'}.get(x, x))\n",
    "\n",
    "l.filter(lambda x: get_prev(x) == 'B').select(_.value)\n",
    "\n",
    "find_fn = _.index == 1\n",
    "l.filter(find_fn).select(_.value).map(lower)\n",
    "\n",
    "find_fn = _.value == 'C'\n",
    "l.filter(find_fn).select(_.index)\n",
    "\n",
    "# move x to first\n",
    "update_filter = _.value == 'C'\n",
    "get_new = lambda x: -1\n",
    "l.map(lambda x: Element(update_fn(x, 'index'), x.value)).order_by(_.index).select(_.value)\n",
    "\n",
    "# swap first and last\n",
    "update_filter = true\n",
    "get_new = lambda x: {0: n - 1, n - 1: 0}.get(x.index, x.index)\n",
    "l.map(lambda x: Element(update_fn(x, 'index'), x.value)).order_by(_.index).select(_.value)\n",
    "\n",
    "# get inbetween == drop_while + take_while?\n",
    "\n",
    "# update by index to its prev\n",
    "update_filter = _.index == 1\n",
    "get_new = lambda x: get_prev(x)\n",
    "def update_fn(x, update_field): return get_new(x) if update_filter(x) else getattr(x, update_field)\n",
    "l.map(lambda x: Element(x.index, update_fn(x, 'value')))\n",
    "\n",
    "# if two adjacent elements by indices are equal\n",
    "l.filter(lambda x: x.index in [0, 1]).select(_.value).distinct().len() == 1\n",
    "\n",
    "seq('A B C B C'.split()).group_by(_).select(_[1]).flatten()\n",
    "\n",
    "# count occurance till current\n",
    "seq('A B A C B A'.split()).inits().reverse().tail().map(lambda x: x.filter(_ == x.last()).len())\n",
    "\n",
    "# find special\n",
    "seq('A B A A'.split()).count_by_value().filter(_[1] == 1).select(_[0])\n",
    "\n",
    "# generalized find special\n",
    "seq('A A B C C D D'.split()).group_by(_).map(lambda x: (x[0], len(x[1]))).filter(_[1] == 1).select(_[0])"
   ]
  },
  {
   "cell_type": "code",
   "execution_count": null,
   "id": "49b3e124",
   "metadata": {},
   "outputs": [],
   "source": []
  }
 ],
 "metadata": {
  "kernelspec": {
   "display_name": "Python 3",
   "language": "python",
   "name": "python3"
  },
  "language_info": {
   "codemirror_mode": {
    "name": "ipython",
    "version": 3
   },
   "file_extension": ".py",
   "mimetype": "text/x-python",
   "name": "python",
   "nbconvert_exporter": "python",
   "pygments_lexer": "ipython3",
   "version": "3.8.12"
  }
 },
 "nbformat": 4,
 "nbformat_minor": 5
}
