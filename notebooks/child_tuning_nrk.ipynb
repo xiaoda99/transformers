{
 "cells": [
  {
   "cell_type": "code",
   "execution_count": 4,
   "id": "f6ea7a72",
   "metadata": {
    "collapsed": true
   },
   "outputs": [
    {
     "name": "stdout",
     "output_type": "stream",
     "text": [
      "\u001b[33mWARNING: Ignoring invalid distribution -yfunctional (/home/kf/miniconda3/envs/pytorch1.7.1/lib/python3.8/site-packages)\u001b[0m\u001b[33m\n",
      "\u001b[0m\u001b[33mWARNING: Ignoring invalid distribution -yfunctional (/home/kf/miniconda3/envs/pytorch1.7.1/lib/python3.8/site-packages)\u001b[0m\u001b[33m\n",
      "\u001b[0mRequirement already satisfied: transformers in /home/kf/miniconda3/envs/pytorch1.7.1/lib/python3.8/site-packages (4.17.0)\n",
      "Requirement already satisfied: sacremoses in /home/kf/miniconda3/envs/pytorch1.7.1/lib/python3.8/site-packages (from transformers) (0.0.45)\n",
      "Requirement already satisfied: filelock in /home/kf/miniconda3/envs/pytorch1.7.1/lib/python3.8/site-packages (from transformers) (3.0.12)\n",
      "Requirement already satisfied: regex!=2019.12.17 in /home/kf/miniconda3/envs/pytorch1.7.1/lib/python3.8/site-packages (from transformers) (2021.10.8)\n",
      "Requirement already satisfied: huggingface-hub<1.0,>=0.1.0 in /home/kf/miniconda3/envs/pytorch1.7.1/lib/python3.8/site-packages (from transformers) (0.4.0)\n",
      "Requirement already satisfied: tqdm>=4.27 in /home/xd/.local/lib/python3.8/site-packages (from transformers) (4.60.0)\n",
      "Requirement already satisfied: tokenizers!=0.11.3,>=0.11.1 in /home/kf/miniconda3/envs/pytorch1.7.1/lib/python3.8/site-packages (from transformers) (0.11.6)\n",
      "Requirement already satisfied: packaging>=20.0 in /home/xd/.local/lib/python3.8/site-packages (from transformers) (20.9)\n",
      "Requirement already satisfied: pyyaml>=5.1 in /home/kf/miniconda3/envs/pytorch1.7.1/lib/python3.8/site-packages/PyYAML-6.0-py3.8-linux-x86_64.egg (from transformers) (6.0)\n",
      "Requirement already satisfied: numpy>=1.17 in /home/kf/miniconda3/envs/pytorch1.7.1/lib/python3.8/site-packages (from transformers) (1.21.2)\n",
      "Requirement already satisfied: requests in /home/kf/miniconda3/envs/pytorch1.7.1/lib/python3.8/site-packages (from transformers) (2.25.1)\n",
      "Requirement already satisfied: typing-extensions>=3.7.4.3 in /home/kf/miniconda3/envs/pytorch1.7.1/lib/python3.8/site-packages (from huggingface-hub<1.0,>=0.1.0->transformers) (4.1.1)\n",
      "Requirement already satisfied: pyparsing>=2.0.2 in /home/xd/.local/lib/python3.8/site-packages (from packaging>=20.0->transformers) (2.4.7)\n",
      "Requirement already satisfied: urllib3<1.27,>=1.21.1 in /home/kf/miniconda3/envs/pytorch1.7.1/lib/python3.8/site-packages (from requests->transformers) (1.26.4)\n",
      "Requirement already satisfied: chardet<5,>=3.0.2 in /home/kf/miniconda3/envs/pytorch1.7.1/lib/python3.8/site-packages (from requests->transformers) (4.0.0)\n",
      "Requirement already satisfied: idna<3,>=2.5 in /home/kf/miniconda3/envs/pytorch1.7.1/lib/python3.8/site-packages (from requests->transformers) (2.10)\n",
      "Requirement already satisfied: certifi>=2017.4.17 in /home/kf/miniconda3/envs/pytorch1.7.1/lib/python3.8/site-packages (from requests->transformers) (2021.10.8)\n",
      "Requirement already satisfied: six in /home/kf/miniconda3/envs/pytorch1.7.1/lib/python3.8/site-packages (from sacremoses->transformers) (1.16.0)\n",
      "Requirement already satisfied: joblib in /home/kf/miniconda3/envs/pytorch1.7.1/lib/python3.8/site-packages (from sacremoses->transformers) (1.0.1)\n",
      "Requirement already satisfied: click in /home/kf/miniconda3/envs/pytorch1.7.1/lib/python3.8/site-packages (from sacremoses->transformers) (7.1.2)\n",
      "\u001b[33mWARNING: Ignoring invalid distribution -yfunctional (/home/kf/miniconda3/envs/pytorch1.7.1/lib/python3.8/site-packages)\u001b[0m\u001b[33m\n",
      "\u001b[0m\u001b[33mWARNING: Ignoring invalid distribution -yfunctional (/home/kf/miniconda3/envs/pytorch1.7.1/lib/python3.8/site-packages)\u001b[0m\u001b[33m\n",
      "\u001b[0m\u001b[33mWARNING: Ignoring invalid distribution -yfunctional (/home/kf/miniconda3/envs/pytorch1.7.1/lib/python3.8/site-packages)\u001b[0m\u001b[33m\n",
      "\u001b[0mNote: you may need to restart the kernel to use updated packages.\n"
     ]
    }
   ],
   "source": [
    "pip install --upgrade transformers"
   ]
  },
  {
   "cell_type": "code",
   "execution_count": 335,
   "id": "0faf2697",
   "metadata": {},
   "outputs": [
    {
     "data": {
      "text/plain": [
       "'3.8.12 | packaged by conda-forge | (default, Jan 30 2022, 23:53:36) \\n[GCC 9.4.0]'"
      ]
     },
     "execution_count": 335,
     "metadata": {},
     "output_type": "execute_result"
    }
   ],
   "source": [
    "sys.version"
   ]
  },
  {
   "cell_type": "code",
   "execution_count": 8,
   "id": "0e11bc1d",
   "metadata": {
    "collapsed": true
   },
   "outputs": [
    {
     "name": "stdout",
     "output_type": "stream",
     "text": [
      "\u001b[33mWARNING: Ignoring invalid distribution -yfunctional (/home/kf/miniconda3/envs/pytorch1.7.1/lib/python3.8/site-packages)\u001b[0m\u001b[33m\n",
      "\u001b[0m\u001b[33mWARNING: Ignoring invalid distribution -yfunctional (/home/kf/miniconda3/envs/pytorch1.7.1/lib/python3.8/site-packages)\u001b[0m\u001b[33m\n",
      "\u001b[0mCollecting pyfunctional\n",
      "  Using cached PyFunctional-1.4.3-py3-none-any.whl (49 kB)\n",
      "Requirement already satisfied: dill>=0.2.5 in /home/kf/miniconda3/envs/pytorch1.7.1/lib/python3.8/site-packages (from pyfunctional) (0.3.4)\n",
      "Requirement already satisfied: tabulate<=1.0.0 in /home/kf/miniconda3/envs/pytorch1.7.1/lib/python3.8/site-packages (from pyfunctional) (0.8.9)\n",
      "\u001b[33mWARNING: Ignoring invalid distribution -yfunctional (/home/kf/miniconda3/envs/pytorch1.7.1/lib/python3.8/site-packages)\u001b[0m\u001b[33m\n",
      "\u001b[0mInstalling collected packages: pyfunctional\n",
      "\u001b[33mWARNING: Ignoring invalid distribution -yfunctional (/home/kf/miniconda3/envs/pytorch1.7.1/lib/python3.8/site-packages)\u001b[0m\u001b[33m\n",
      "\u001b[0mSuccessfully installed pyfunctional-1.4.3\n",
      "\u001b[33mWARNING: Ignoring invalid distribution -yfunctional (/home/kf/miniconda3/envs/pytorch1.7.1/lib/python3.8/site-packages)\u001b[0m\u001b[33m\n",
      "\u001b[0m\u001b[33mWARNING: Ignoring invalid distribution -yfunctional (/home/kf/miniconda3/envs/pytorch1.7.1/lib/python3.8/site-packages)\u001b[0m\u001b[33m\n",
      "\u001b[0mNote: you may need to restart the kernel to use updated packages.\n"
     ]
    }
   ],
   "source": [
    "pip install --upgrade pyfunctional"
   ]
  },
  {
   "cell_type": "code",
   "execution_count": 308,
   "id": "367b7b1e",
   "metadata": {},
   "outputs": [],
   "source": [
    "%%capture\n",
    "%run \"context_learning_nrk.ipynb\""
   ]
  },
  {
   "cell_type": "code",
   "execution_count": 309,
   "id": "9398a888",
   "metadata": {},
   "outputs": [
    {
     "name": "stdout",
     "output_type": "stream",
     "text": [
      "Instruction: Is this sentence correct. For example:\n",
      "A should be easier to melt than B because B is hotter. Is that right? -> No\n",
      "\n"
     ]
    }
   ],
   "source": [
    "text1 = text\n",
    "print(text1[0])"
   ]
  },
  {
   "cell_type": "code",
   "execution_count": 1,
   "id": "7292808a",
   "metadata": {},
   "outputs": [],
   "source": [
    "from IPython import get_ipython\n",
    "%load_ext autoreload\n",
    "%autoreload 2\n",
    "\n",
    "from IPython.core.interactiveshell import InteractiveShell\n",
    "InteractiveShell.ast_node_interactivity = 'all'"
   ]
  },
  {
   "cell_type": "code",
   "execution_count": 13,
   "id": "54a886cb",
   "metadata": {},
   "outputs": [],
   "source": [
    "import sys\n",
    "import os\n",
    "\n",
    "os.environ['HF_HOME'] = '/raid/xd/.cache/torch'\n",
    "os.environ[\"CUDA_DEVICE_ORDER\"]=\"PCI_BUS_ID\"\n",
    "os.environ[\"CUDA_VISIBLE_DEVICES\"]=\"7\"\n",
    "import random\n",
    "from sklearn.metrics import accuracy_score, precision_recall_fscore_support\n",
    "from types import MethodType\n",
    "from tqdm import tqdm\n",
    "from collections import defaultdict, OrderedDict, Counter\n",
    "from datetime import datetime\n",
    "from io import StringIO\n",
    "from itertools import chain\n",
    "import math\n",
    "from functools import reduce\n",
    "import numpy as np \n",
    "# np.set_printoptions(threshold=np.inf)\n",
    "%matplotlib inline\n",
    "import matplotlib.pyplot as plt\n",
    "import seaborn as sns\n",
    "\n",
    "import torch\n",
    "import torch.nn as nn\n",
    "import torch.nn.functional as F \n",
    "from torch.utils.data.sampler import RandomSampler, Sampler, SequentialSampler\n",
    "from torch.utils.data.dataloader import DataLoader\n",
    "\n",
    "from transformers.data.data_collator import DataCollator, default_data_collator\n",
    "from transformers import AutoConfig, pipeline\n",
    "from transformers import RobertaForMaskedLM, RobertaTokenizer, GPT2LMHeadModel, GPT2Tokenizer, GPTNeoForCausalLM, AutoModelForCausalLM\n",
    "from transformers import T5Tokenizer, T5ForConditionalGeneration\n",
    "from transformers import HfArgumentParser, Trainer, TrainingArguments, set_seed, AdamW\n",
    "# from torch.optim.lr_scheduler import CosineAnnealingLR\n",
    "# from transformers.trainer_utils import EvaluationStrategy\n"
   ]
  },
  {
   "cell_type": "code",
   "execution_count": 6,
   "id": "7f54c226",
   "metadata": {},
   "outputs": [],
   "source": [
    "from transformers import GPT2LMHeadModel, GPT2Tokenizer, GPTNeoForCausalLM, GPTJForCausalLM"
   ]
  },
  {
   "cell_type": "code",
   "execution_count": 7,
   "id": "dd287822",
   "metadata": {},
   "outputs": [],
   "source": [
    "sys.path.insert(0, '/nas/xd/projects/PyFunctional')\n",
    "from functional import seq\n",
    "from functional.pipeline import Sequence\n",
    "from fn import _\n",
    "from collections import namedtuple \n",
    "import sys\n",
    "# sys.path.insert(0, '/nas/xd/projects/transformers/src/transformers')\n",
    "import os\n",
    "# device_mappings = {0: 1, 1: 5, 2: 6, 3: 7, 4: 2, 5: 3, 6: 0, 1: 4}\n",
    "# os.environ[\"CUDA_VISIBLE_DEVICES\"] = str(device_mappings[2])\n",
    "\n",
    "import random\n",
    "import string\n",
    "from collections import defaultdict, OrderedDict\n",
    "from itertools import product, chain\n",
    "import math\n",
    "import numpy as np\n",
    "from pattern.en import comparative\n",
    "import types"
   ]
  },
  {
   "cell_type": "code",
   "execution_count": 348,
   "id": "a2a577ee",
   "metadata": {},
   "outputs": [],
   "source": [
    "sys.path.insert(0, '/nas/xd/projects/PyFunctional')\n",
    "from functional import seq\n",
    "from functional.pipeline import Sequence\n",
    "from fn import _\n",
    "from collections import namedtuple \n",
    "import sys\n",
    "# sys.path.insert(0, '/nas/xd/projects/transformers/src/transformers')\n",
    "import os"
   ]
  },
  {
   "cell_type": "code",
   "execution_count": 347,
   "id": "7d5907ae",
   "metadata": {},
   "outputs": [],
   "source": [
    "import torch\n",
    "from torch import nn\n",
    "import torch.nn.functional as F\n",
    "from torch.nn import CrossEntropyLoss, MSELoss\n",
    "import openai\n",
    "openai.api_key = open('/nas/xd/projects/openai_api_keys.txt').readlines()[-1].split()[0]"
   ]
  },
  {
   "cell_type": "code",
   "execution_count": 338,
   "id": "86a17aee",
   "metadata": {},
   "outputs": [
    {
     "name": "stdout",
     "output_type": "stream",
     "text": [
      "Instruction: Do all students choose courses in a department. For example:\n",
      "D: Chinese, U: Art, A: Art, U: Chinese, D: Art; Art: Chi, Chinese: Eng, Physics: Eng. A and U,Chi? -> Yes\n",
      "\n",
      "Instruction: Do all students choose courses in a department. For example:\n",
      "C: Sql, H: Physics, H: Sql, H: Chemistry, K: Sql; Sql: Chi, Physics: Chi, Chemistry: Eng. H and C,Eng? -> No\n",
      "\n"
     ]
    }
   ],
   "source": [
    "n_total, n_valid =2,1\n",
    "n_train = n_total - n_valid\n",
    "# input_strs = [make_input_str(tasks[-7], nrows=1, ncols=(3,4,5)) for __ in range(n_total)]# Is the intersection of two sets empty.\n",
    "# input_strs = [make_input_str(tasks[-3], nrows=1, ncols=(4,4,3)) for __ in range(n_total)]# Are there any elements different from other elements\n",
    "# input_strs = [make_input_str(tasks[-4], nrows=1, ncols=(3,4,2,4)) for __ in range(n_total)]# Are_there_elements_belonging_to_the_same_class\n",
    "# input_strs = [make_input_str(tasks[-1], nrows=1, ncols=(5,2)) for __ in range(n_total)]#Is_the_number_of_first_elements_greater_than_the_second_one\n",
    "# input_strs = [make_input_str(tasks[-2], nrows=1, ncols=(3,1), ans_vocab=[0,1,2,3]) for __ in range(n_total)] #How_many_elements_are_similar_to_the_example\n",
    "# input_strs = [make_input_str(tasks[-5], nrows=1, ncols=(3,4,2,4)) for __ in range(n_total)] #Are_they_the_union_of_the_last_element\n",
    "# input_strs = [make_input_str(tasks[-6], nrows=1, ncols=(3,11,5)) for __ in range(n_total)]#Is the first set a subset of the second one\n",
    "input_strs = [make_input_str(tasks[-10], nrows=1, ncols=(3, 3, 2, 5)) for __ in range(n_total)]\n",
    "# input_strs = [make_input_str(tasks[-9], nrows=1, ncols=(4,2)) for __ in range(n_total)] #Compare the values of two sets.\n",
    "# input_strs = [make_input_str(tasks[-8], nrows=1, ncols=(4, 4, 4)) for __ in range(n_total)] #Relationship between two sets.\n",
    "\n",
    "for s in sample(input_strs, 2): print(s)"
   ]
  },
  {
   "cell_type": "code",
   "execution_count": 339,
   "id": "21465a1e",
   "metadata": {},
   "outputs": [],
   "source": [
    "def get_model_fn(engine):  # XD\n",
    "    def fn(text):\n",
    "        return openai.Completion.create(engine=engine, prompt=text, max_tokens=1, echo=True, logprobs=5).choices[0]\n",
    "    return fn\n",
    "\n",
    "engines = ['davinci', 'curie']\n",
    "for engine in engines:\n",
    "    model_name = 'openai_api_' + engine\n",
    "#     model = lambda x: openai.Completion.create(engine=engine, prompt=x, max_tokens=0, echo=True, logprobs=5).choices[0]\n",
    "    model = get_model_fn(engine)\n",
    "    models[model_name] = model, tokenizer\n",
    "    \n",
    "# model_name = 'openai_api_davinci'\n",
    "model_name = 'openai_api_curie'\n",
    "model, tokenizer = models[model_name]"
   ]
  },
  {
   "cell_type": "code",
   "execution_count": 340,
   "id": "bf3af01a",
   "metadata": {},
   "outputs": [
    {
     "data": {
      "text/plain": [
       "dict_keys(['EleutherAI/gpt-neo-1.3B', 'EleutherAI/gpt-j-6B', 'openai_api_davinci', 'openai_api_curie'])"
      ]
     },
     "execution_count": 340,
     "metadata": {},
     "output_type": "execute_result"
    }
   ],
   "source": [
    "models.keys()"
   ]
  },
  {
   "cell_type": "code",
   "execution_count": 341,
   "id": "693f563f",
   "metadata": {},
   "outputs": [],
   "source": [
    "def get_prob_dist(d, topk=5): return {k: round(math.exp(v), 3) for k, v in sorted(d.items(), key=lambda x: x[1], reverse=True)[:topk]}"
   ]
  },
  {
   "cell_type": "code",
   "execution_count": 342,
   "id": "77d1817b",
   "metadata": {},
   "outputs": [],
   "source": [
    "def get_ans_indices0(input_ids):\n",
    "    bos_id = tokenizer._convert_token_to_id('Ġ->')\n",
    "    eos_id = tokenizer._convert_token_to_id('Ċ')\n",
    "    bos_indices = (input_ids == bos_id).nonzero().squeeze(1).tolist()\n",
    "    eos_indices = (input_ids == eos_id).nonzero()[-len(bos_indices):].squeeze(1).tolist()\n",
    "    return bos_indices, eos_indices\n",
    "\n",
    "# def get_ans_indices1(input_ids):\n",
    "#     bos_id = tokenizer._convert_token_to_id('?')\n",
    "# #     print(\"bos_id\",bos_id)\n",
    "#     eos_id = tokenizer._convert_token_to_id('Ċ')\n",
    "#     period_ids = [tokenizer._convert_token_to_id('.'), tokenizer._convert_token_to_id('Ġ.')]\n",
    "# #     print(\"period_ids:\",period_ids)\n",
    "# #     l_bracket_id, r_bracket_id = tokenizer._convert_token_to_id('Ġ['), tokenizer._convert_token_to_id('Ġ]')\n",
    "# #     print(\"l_bracket_id\",l_bracket_id)\n",
    "# #     print(\"r_bracket_id:\",r_bracket_id)\n",
    "#     eos_indices = (input_ids == eos_id).nonzero().squeeze(1).tolist() #.nonezero()取非零元素坐标\n",
    "# #     print(\"eos_indices0:\",eos_indices)\n",
    "#     eos_indices = [i - 1 if input_ids[i - 1] in period_ids else i for i in eos_indices]\n",
    "# #     print(\"eos_indices1:\",eos_indices)\n",
    "# #     eos_indices = [i - 1 if input_ids[i - 1] == r_bracket_id else i for i in eos_indices]\n",
    "# #     print(\"eos_indices2:\",eos_indices)\n",
    "    \n",
    "#     def find_bos_index(start_i):\n",
    "#         for bos_i in range(start_i, start_i - 3, -1):\n",
    "# #             if input_ids[bos_i] == bos_id or input_ids[bos_i] == l_bracket_id and input_ids[bos_i - 1] == bos_id:\n",
    "#             if input_ids[bos_i] == bos_id:\n",
    "#                 if bos_i != start_i: print('subtokens:', tokenizer.convert_ids_to_tokens(input_ids[bos_i + 1: start_i + 2]))\n",
    "#                 return bos_i\n",
    "#         assert False\n",
    "#     bos_indices = [find_bos_index(i - 2) for i in eos_indices]\n",
    "# #     print(\"bos:\",bos_indices)\n",
    "# #     print(\"eos:\",eos_indices)\n",
    "#     return bos_indices, eos_indices"
   ]
  },
  {
   "cell_type": "code",
   "execution_count": 353,
   "id": "bb474e98",
   "metadata": {},
   "outputs": [],
   "source": [
    "correct_num = 0\n",
    "def predict(model, text, ans_indices_fn, topk=5, return_reduced_loss=False, verbose=True):\n",
    "    use_openai_api = type(model) in [types.MethodType, types.FunctionType]  # openai.Completion.create\n",
    "    print(\"[]\",[types.MethodType, types.FunctionType])\n",
    "    print(\"type(model):\",type(model))\n",
    "    inputs = tokenizer.encode_plus(text, return_tensors='pt')\n",
    "    print(inputs)\n",
    "    input_ids = inputs.input_ids\n",
    "#     print(input_ids)\n",
    "    bsz = input_ids.size(0)\n",
    "#     print(\"bsz = \",bsz)\n",
    "    labels = torch.ones_like(input_ids) * (-100)\n",
    "    if use_openai_api:\n",
    "        assert bsz == 1\n",
    "#         outputs = model(engine=engine, prompt=text, max_tokens=0, echo=True, logprobs=5).choices[0].logprobs\n",
    "        outputs = model(text).logprobs  # XD\n",
    "        ans_nlls = []\n",
    "    else:\n",
    "        inputs = prepare_inputs(inputs, model.device)\n",
    "        outputs = model(**inputs, output_attentions=False)\n",
    "        logits = outputs.logits\n",
    "    for bi in range(bsz):\n",
    "\n",
    "        bos_indices, eos_indices = ans_indices_fn(input_ids[bi])\n",
    "#         print(\"input_ids :\",input_ids[bi])\n",
    "#         print(\"ans_indices_fn:\",ans_indices_fn(input_ids[bi]))\n",
    "#         print(\"bos_indices:\",bos_indices)\n",
    "#         print(\"eos_indices:\",eos_indices)\n",
    "        examples = text.strip().split('\\n')\n",
    "#         print(\"bos_indices:\",bos_indices)\n",
    "        print(\"examples:\",examples)\n",
    "        assert len(bos_indices) == len(examples)-1, '%d != %d' % (len(bos_indices), len(examples))\n",
    "        num = 0\n",
    "        for i, (example, bos_i, eos_i) in enumerate(zip(examples, bos_indices, eos_indices)):\n",
    "#             if verbose: print(' ' + example, end='\\t')\n",
    "            ans_ids = input_ids[bi, bos_i + 1: eos_i]\n",
    "            print(\"ans_ids:\",ans_ids)\n",
    "            labels[bi, bos_i: eos_i - 1] = ans_ids\n",
    "            if use_openai_api:\n",
    "                ans_prob_dist = [get_prob_dist(d, topk=topk) for d in outputs.top_logprobs[bos_i + 1: eos_i]]\n",
    "                ans_probs = [math.exp(lp) for lp in outputs.token_logprobs[bos_i + 1: eos_i]]\n",
    "                ans_nlls += [-lp for lp in outputs.token_logprobs[bos_i + 1: eos_i]]\n",
    "            else:\n",
    "                ans_prob_dist = logits[bi, bos_i: eos_i - 1].softmax(-1)\n",
    "                ans_probs = ans_prob_dist[torch.arange(ans_prob_dist.size(0)), ans_ids]\n",
    "            ans_tokens = tokenizer.convert_ids_to_tokens(ans_ids)\n",
    "            num += 1\n",
    "            for ans_id, ans_token, ans_prob, dist in zip(ans_ids, ans_tokens, numpy(ans_probs, decimals=3), ans_prob_dist):\n",
    "                top1_correct = max(dist.items(), key=lambda x: x[1])[0] == ans_token.replace('Ġ', ' ') \\\n",
    "                    if use_openai_api else (dist.argmax() == ans_id).item()  \n",
    "                \n",
    "                if verbose:\n",
    "                    if(num == 1 and top1_correct):\n",
    "                        global correct_num\n",
    "                        correct_num += 1\n",
    "                    if(len(ans_tokens) <= 1):\n",
    "#                         if(top1_correct):\n",
    "#                             dictlocation1[example] = 1\n",
    "                        print(('！！！' if top1_correct else ' ') + ans_token, ans_prob, \n",
    "                              dist if use_openai_api else show_topk(*dist.topk(topk), indices_fn=tokenizer.convert_ids_to_tokens)) \n",
    "                        \n",
    "                    else:\n",
    "                        pass\n",
    "    if use_openai_api:\n",
    "        loss = ans_nlls if return_reduced_loss else sum(ans_nlls) / len(ans_nlls)\n",
    "    else:\n",
    "        loss = nn.CrossEntropyLoss()(logits.view(-1, logits.size(-1)), labels.view(-1)) if return_reduced_loss \\\n",
    "            else nn.CrossEntropyLoss(reduction='none')(logits.view(-1, logits.size(-1)), labels.view(-1))[labels.view(-1)>=0].tolist()\n",
    "    return loss"
   ]
  },
  {
   "cell_type": "code",
   "execution_count": 354,
   "id": "f49b21a5",
   "metadata": {},
   "outputs": [
    {
     "name": "stdout",
     "output_type": "stream",
     "text": [
      "2\n",
      "Instruction: Do all students choose courses in a department. For example:\n",
      "D: Chinese, U: Art, A: Art, U: Chinese, D: Art; Art: Chi, Chinese: Eng, Physics: Eng. A and U,Chi? -> Yes\n",
      "\n"
     ]
    }
   ],
   "source": [
    "print(len(input_strs))\n",
    "print(input_strs[0])"
   ]
  },
  {
   "cell_type": "code",
   "execution_count": 355,
   "id": "490ff768",
   "metadata": {
    "scrolled": true
   },
   "outputs": [
    {
     "name": "stdout",
     "output_type": "stream",
     "text": [
      "[] [<class 'method'>, <class 'function'>]\n",
      "type(model): <class 'function'>\n",
      "{'input_ids': tensor([[ 6310,  2762,    25,  2141,   477,  2444,  3853, 10902,   287,   257,\n",
      "          5011,    13,  1114,  1672,    25,   198,    35,    25,  3999,    11,\n",
      "           471,    25,  3683,    11,   317,    25,  3683,    11,   471,    25,\n",
      "          3999,    11,   360,    25,  3683,    26,  3683,    25, 21380,    11,\n",
      "          3999,    25,  1985,    11, 23123,    25,  1985,    13,   317,   290,\n",
      "           471,    11,  1925,    72,    30,  4613,  3363,   198]]), 'attention_mask': tensor([[1, 1, 1, 1, 1, 1, 1, 1, 1, 1, 1, 1, 1, 1, 1, 1, 1, 1, 1, 1, 1, 1, 1, 1,\n",
      "         1, 1, 1, 1, 1, 1, 1, 1, 1, 1, 1, 1, 1, 1, 1, 1, 1, 1, 1, 1, 1, 1, 1, 1,\n",
      "         1, 1, 1, 1, 1, 1, 1, 1, 1, 1]])}\n",
      "examples: ['Instruction: Do all students choose courses in a department. For example:', 'D: Chinese, U: Art, A: Art, U: Chinese, D: Art; Art: Chi, Chinese: Eng, Physics: Eng. A and U,Chi? -> Yes']\n",
      "ans_ids: tensor([3363])\n",
      " ĠYes 0.008 {' A': 0.086, ' U': 0.047, ' D': 0.037, ' Art': 0.031, ' Eng': 0.025}\n"
     ]
    },
    {
     "data": {
      "text/plain": [
       "4.8359756"
      ]
     },
     "execution_count": 355,
     "metadata": {},
     "output_type": "execute_result"
    },
    {
     "name": "stdout",
     "output_type": "stream",
     "text": [
      "[] [<class 'method'>, <class 'function'>]\n",
      "type(model): <class 'function'>\n",
      "{'input_ids': tensor([[ 6310,  2762,    25,  2141,   477,  2444,  3853, 10902,   287,   257,\n",
      "          5011,    13,  1114,  1672,    25,   198,    34,    25,   311, 13976,\n",
      "            11,   367,    25, 23123,    11,   367,    25,   311, 13976,    11,\n",
      "           367,    25, 27867,    11,   509,    25,   311, 13976,    26,   311,\n",
      "         13976,    25, 21380,    11, 23123,    25, 21380,    11, 27867,    25,\n",
      "          1985,    13,   367,   290,   327,    11,  7936,    30,  4613,  1400,\n",
      "           198]]), 'attention_mask': tensor([[1, 1, 1, 1, 1, 1, 1, 1, 1, 1, 1, 1, 1, 1, 1, 1, 1, 1, 1, 1, 1, 1, 1, 1,\n",
      "         1, 1, 1, 1, 1, 1, 1, 1, 1, 1, 1, 1, 1, 1, 1, 1, 1, 1, 1, 1, 1, 1, 1, 1,\n",
      "         1, 1, 1, 1, 1, 1, 1, 1, 1, 1, 1, 1, 1]])}\n",
      "examples: ['Instruction: Do all students choose courses in a department. For example:', 'C: Sql, H: Physics, H: Sql, H: Chemistry, K: Sql; Sql: Chi, Physics: Chi, Chemistry: Eng. H and C,Eng? -> No']\n",
      "ans_ids: tensor([1400])\n",
      " ĠNo 0.018 {' H': 0.067, ' S': 0.056, ' Eng': 0.045, ' C': 0.03, ' K': 0.026}\n"
     ]
    },
    {
     "data": {
      "text/plain": [
       "3.990212"
      ]
     },
     "execution_count": 355,
     "metadata": {},
     "output_type": "execute_result"
    }
   ],
   "source": [
    "correct_num = 0\n",
    "for i in input_strs:\n",
    "# for i in text1:\n",
    "    text = i\n",
    "    predict(model, text, get_ans_indices0, verbose=True, topk=5)"
   ]
  },
  {
   "cell_type": "markdown",
   "id": "58c1fe66",
   "metadata": {},
   "source": [
    "# 从这里开始"
   ]
  },
  {
   "cell_type": "code",
   "execution_count": 8,
   "id": "58cba5e2",
   "metadata": {
    "scrolled": true
   },
   "outputs": [],
   "source": [
    "from utils import *\n",
    "from child_utils import *\n",
    "from common_utils import *\n",
    "from model_utils import *"
   ]
  },
  {
   "cell_type": "code",
   "execution_count": 10,
   "id": "90f62ac5",
   "metadata": {},
   "outputs": [],
   "source": [
    "models = {}\n",
    "cache_dir = '/nas/xd/.cache/torch/transformers/'  # for models besides t5-3b/11b\n",
    "proxies = {'http': '192.168.50.1:1081'} "
   ]
  },
  {
   "cell_type": "code",
   "execution_count": 14,
   "id": "520d34a6",
   "metadata": {
    "scrolled": true
   },
   "outputs": [],
   "source": [
    "model_name = \"EleutherAI/gpt-j-6B\"\n",
    "# model_name = \"EleutherAI/gpt-neo-1.3B\"\n",
    "# model = GPTJForCausalLM.from_pretrained(model_name, proxies=proxies, cache_dir=cache_dir)\n",
    "model = AutoModelForCausalLM.from_pretrained(model_name, proxies=proxies, cache_dir=cache_dir)\n",
    "tokenizer = GPT2Tokenizer.from_pretrained('gpt2', cache_dir=cache_dir)\n",
    "models[model_name] = model, tokenizer"
   ]
  },
  {
   "cell_type": "code",
   "execution_count": 15,
   "id": "830ce082",
   "metadata": {},
   "outputs": [],
   "source": [
    "_ = model.eval()\n",
    "unify(model)\n",
    "blocks = model.transformer.h\n",
    "attn = blocks[0].attn\n",
    "ln_f = model.transformer.ln_f\n",
    "L, H, embed_dim = len(blocks), attn.num_heads, attn.embed_dim\n",
    "\n",
    "_we = model.transformer.wte.weight.data.t()\n",
    "_wu = model.lm_head.weight.data"
   ]
  },
  {
   "cell_type": "code",
   "execution_count": 58,
   "id": "0e50583a",
   "metadata": {},
   "outputs": [
    {
     "data": {
      "text/plain": [
       "GPTJAttention(\n",
       "  (attn_dropout): Dropout(p=0.0, inplace=False)\n",
       "  (resid_dropout): Dropout(p=0.0, inplace=False)\n",
       "  (k_proj): Linear(in_features=4096, out_features=4096, bias=False)\n",
       "  (v_proj): Linear(in_features=4096, out_features=4096, bias=False)\n",
       "  (q_proj): Linear(in_features=4096, out_features=4096, bias=False)\n",
       "  (out_proj): Linear(in_features=4096, out_features=4096, bias=False)\n",
       ")"
      ]
     },
     "execution_count": 58,
     "metadata": {},
     "output_type": "execute_result"
    }
   ],
   "source": [
    "attn"
   ]
  },
  {
   "cell_type": "code",
   "execution_count": 59,
   "id": "c128d0b0",
   "metadata": {},
   "outputs": [
    {
     "data": {
      "text/plain": [
       "LayerNorm((4096,), eps=1e-05, elementwise_affine=True)"
      ]
     },
     "execution_count": 59,
     "metadata": {},
     "output_type": "execute_result"
    }
   ],
   "source": [
    "ln_f"
   ]
  },
  {
   "cell_type": "code",
   "execution_count": 61,
   "id": "cd64c2dd",
   "metadata": {},
   "outputs": [
    {
     "data": {
      "text/plain": [
       "28"
      ]
     },
     "execution_count": 61,
     "metadata": {},
     "output_type": "execute_result"
    },
    {
     "data": {
      "text/plain": [
       "16"
      ]
     },
     "execution_count": 61,
     "metadata": {},
     "output_type": "execute_result"
    }
   ],
   "source": [
    "L\n",
    "H"
   ]
  },
  {
   "cell_type": "code",
   "execution_count": 23,
   "id": "d82cfd61",
   "metadata": {},
   "outputs": [
    {
     "data": {
      "text/plain": [
       "torch.Size([50400, 4096])"
      ]
     },
     "execution_count": 23,
     "metadata": {},
     "output_type": "execute_result"
    }
   ],
   "source": [
    "_wu.size()"
   ]
  },
  {
   "cell_type": "code",
   "execution_count": 16,
   "id": "c18dd516",
   "metadata": {},
   "outputs": [],
   "source": [
    "def T(f): return lambda x: f(x.T).T"
   ]
  },
  {
   "cell_type": "code",
   "execution_count": 304,
   "id": "84d0ddb4",
   "metadata": {},
   "outputs": [],
   "source": [
    "layer, head = 3, 1\n",
    "wq, wk, wv, wo = get_head_weights(model, layer, head)\n",
    "mlp = lambda x: mlp_forward(blocks[0], x)\n",
    "ln = blocks[layer].ln_1\n",
    "v = _we.size(1) #// 2\n",
    "we, wu = _we[:, :v], _wu[:v]"
   ]
  },
  {
   "cell_type": "code",
   "execution_count": 305,
   "id": "b8566873",
   "metadata": {},
   "outputs": [],
   "source": [
    "qk = True\n",
    "with torch.no_grad():  # ve,ed,de,ev->vv\n",
    "    _m = ln(mlp(we.T)) @ (wq.T @ wk) @ T(ln)(T(mlp)(we)) if qk else wu @ T(ln_f)(wo @ wv @ T(ln)(T(mlp)(we)))"
   ]
  },
  {
   "cell_type": "code",
   "execution_count": 306,
   "id": "801cf7e3",
   "metadata": {},
   "outputs": [],
   "source": [
    "# m = _m  # q->k, output->input\n",
    "m = _m.T  # k->q, input->output\n",
    "values, indices = m.topk(10)"
   ]
  },
  {
   "cell_type": "code",
   "execution_count": 307,
   "id": "d258e52b",
   "metadata": {
    "scrolled": true
   },
   "outputs": [
    {
     "name": "stdout",
     "output_type": "stream",
     "text": [
      "}}} {'Ġso': 62, 'ĠSO': 60, 'Ġwee': 59, 'Ġthus': 59, 'Ġevery': 58, 'ĠCOURT': 58, 'Ġcer': 57, 'Ġnevertheless': 57, 'Ġguides': 57, 'Ġeither': 57}\n",
      "ottest {'Ġever': 65, 'ĠEVER': 63, 'ĠEver': 62, 'Ġsince': 58, 'Ġuntil': 57, 'Ġso': 55, 'Ġtill': 54, 'Ġyet': 53, 'Ġthroughout': 53, 'Ġthus': 52}\n",
      ")))) {'}{': 61, 'Ġthus': 59, 'Ġ{\\\\': 58, 'Ġso': 58, 'Ġonce': 57, 'Ġevery': 57, 'Ġmoreover': 57, '[\"': 56, 'Ġcoinc': 55, 'Ġ\"{': 55}\n",
      "~ {'jah': 62, 'zh': 60, 'NEWS': 57, 'Voice': 57, 'enh': 56, 'xb': 56, 'Beg': 55, 'Tar': 55, 'regon': 55, 'Lago': 55}\n",
      "Ġ}} {'ĠSO': 60, 'Ġso': 60, 'Ġcoinc': 57, 'Ġwand': 56, 'Ġwow': 56, 'Ġeasily': 55, 'Ġç': 55, 'Yeah': 55, 'ĠSHARES': 55, 'Ġyeah': 55}\n",
      "Ġ(~ {'zh': 61, 'MSN': 57, 'Ire': 57, 'Ùİ': 56, 'Voice': 55, 'è¦ļéĨĴ': 55, 'aiman': 54, 'Ö¼': 54, '?????-': 54, 'ocry': 53}\n",
      ">] {'Ġevery': 60, 'Ġappre': 56, 'ĠEvery': 56, 'Ġwell': 55, 'gov': 55, 'ĠEVERY': 54, 'ĠSHARES': 53, 'erest': 53, 'ĠEST': 53, 'MSN': 52}\n",
      "}} {'Ġso': 59, 'ĠSO': 57, 'Ġevery': 55, 'ĠCOURT': 54, 'Ġthus': 53, 'Ġeither': 53, 'Ġnevertheless': 52, 'Ġanswered': 52, 'Ġput': 52, 'Ġviews': 52}\n",
      "},{\" {'ĠRarity': 59, 'gov': 58, 'ĠAbram': 54, 'Ġrav': 54, 'Ã¡': 53, 'UTERS': 52, 'ĳå£«': 52, 'Ġ1911': 52, 'ĠSiri': 51, 'ĠIRC': 51}\n",
      "Ġ))) {'}{': 58, 'Ġthus': 54, 'Ġso': 54, 'ãĤĴ': 54, 'Ġ{\\\\': 53, '](': 52, 'Ġcoinc': 52, 'Ġmoreover': 52, 'ãĤī': 51, 'Ġever': 51}\n",
      "[_ {'ĠReuters': 56, 'Via': 56, 'Reuters': 55, 'gov': 55, 'regon': 52, 'Ġcoinc': 52, 'ĠVia': 52, 'UTERS': 51, 'ĠIre': 51, 'cedented': 51}\n",
      "=~ {'displayText': 54, 'Ire': 54, 'zh': 53, 'oÄŁan': 53, 'azeera': 53, 'Christmas': 52, 'Ġso': 51, 'Elsa': 51, 'dayName': 51, 'ãĥ¬': 50}\n",
      ">[ {'ĠRarity': 55, 'ĠVia': 55, 'Ġuntil': 53, 'Ã¡': 53, 'ĠUntil': 52, 'Via': 52, 'Ġvia': 51, 'Until': 51, 'cedented': 50, 'gov': 50}\n",
      "))) {'Ġevery': 54, '}{': 53, 'ãĤĴ': 53, 'Ġthus': 52, 'Ġ{\\\\': 52, 'Ġonly': 51, 'Ġso': 51, 'Ġcoinc': 51, 'Ġjust': 51, 'Ġanswered': 50}\n",
      "ĠGreatest {'ĠEVER': 61, 'ĠEver': 59, 'Ġever': 58, 'Ġforever': 55, 'ĠForever': 51, 'Ġthus': 50, 'Ever': 50, 'Ġyet': 46, 'Ġanywhere': 44, 'Ġso': 44}\n",
      "\":{\" {'ĠRarity': 54, 'ĠClash': 54, 'laughs': 53, 'Ġprotr': 52, 'ĠHits': 52, 'actionDate': 52, 'Ġincom': 51, 'ĠInvalid': 50, 'ĠIST': 50, 'cedented': 50}\n",
      "Ġ~ {'zh': 57, 'Ùİ': 53, 'jah': 53, 'Voice': 51, 'Lago': 51, 'regon': 51, 'aiman': 51, 'Christmas': 50, '«ĺ': 50, 'displayText': 50}\n",
      "Ġ//[ {'Ġvia': 59, 'Via': 57, 'ĠVia': 57, 'ĠReuters': 54, 'ĠRarity': 49, 'orough': 48, 'via': 48, 'Ġcram': 48, 'ĠIre': 48, 'Ġcongress': 48}\n",
      "]} {'Ġso': 54, 'ĠSO': 53, 'Ġwee': 53, 'Ġappre': 52, 'gov': 51, 'Ġevery': 51, 'Ġnevertheless': 50, 'ĠVotes': 50, 'Ġcoinc': 50, 'ĠReuters': 50}\n",
      "Ġcirculated {'Ġthroughout': 64, 'Ġamong': 61, 'Ġamongst': 60, 'Ġaround': 55, 'among': 50, 'Ġalong': 46, 'Ġbetween': 46, 'Around': 44, 'ĠThroughout': 44, 'Ġwidely': 44}\n",
      "}) {'Ġevery': 57, 'Ġnever': 52, 'ĠAbsolutely': 51, 'ĠEvery': 51, 'Ġeveryone': 51, 'Ġappre': 51, 'Ġonly': 50, 'Ġimmediately': 50, 'Ġwhere': 50, 'ĠHon': 50}\n",
      "Ġdeferred {'Ġuntil': 60, 'Ġtill': 59, 'ĠTill': 54, 'ĠUntil': 52, 'Until': 52, 'Ġtil': 51, 'until': 51, 'Ġforever': 49, 'Ġindefinitely': 43, 'ĠTil': 42}\n",
      "------------------------ {'edIn': 56, 'Ġthus': 54, 'Ġso': 54, 'Ġwhen': 53, 'umn': 51, 'Ġimb': 50, 'gov': 49, 'Ġpracticable': 49, 'Ġcyn': 48, 'ritten': 48}\n",
      "},\" {'ĠRarity': 56, 'Ġwhoever': 55, 'Ġevery': 51, 'ĠMoy': 50, 'ĠCitadel': 50, 'Ġsoon': 50, 'omever': 49, 'ĠWhoever': 49, 'Ġextent': 49, 'ĠSHARES': 48}\n",
      "ĠChanged {'Ġforever': 54, 'ĠForever': 54, 'Ġradically': 51, 'Ġdramatically': 50, 'Ġdrastically': 50, 'Ġaccordingly': 50, 'Ġrepeatedly': 49, 'Ġfrequently': 49, 'Ġsince': 48, 'Ġfrom': 48}\n",
      "Ġ)) {'Ġthus': 53, 'Ġevery': 52, 'Ġso': 52, 'ãĤĴ': 51, 'Ġcoinc': 50, 'ãĤĤ': 49, 'ãĤī': 49, 'Ġever': 48, 'Ġ{\\\\': 48, 'icker': 48}\n",
      "]] {'Ġappre': 51, 'Ġcoinc': 51, 'Ġevery': 51, 'Ġonly': 50, 'Ġso': 50, 'Ġonce': 50, 'ĠReuters': 50, 'ĠSO': 49, 'ĠELE': 49, 'gov': 49}\n",
      "Ġ[| {'ĠReuters': 51, 'ĠIre': 51, 'laughs': 50, 'ĠKoen': 50, 'MSN': 50, 'ĠCOURT': 49, 'ĠSHARES': 49, 'Laughs': 49, 'ĠSere': 49, 'Ġspeeches': 48}\n",
      "Changed {'Ġaccordingly': 54, 'Ġforever': 52, 'ĠForever': 51, 'Ġovernight': 51, 'Ġevery': 51, 'ĠEVERY': 48, 'Every': 47, 'Ġalong': 47, 'agically': 47, 'ĠEvery': 47}\n",
      "Ġ<[ {'ĠRarity': 54, 'zh': 53, 'ĠReuters': 52, 'ĠREUTERS': 49, 'UTERS': 49, 'url': 48, 'Ã¡': 48, 'ĠChamp': 47, 'ĠResidents': 47, 'ĠMEP': 47}\n",
      ">) {'Ġevery': 55, 'Ġimmediately': 51, 'ĠImmediately': 50, 'ĠEvery': 49, 'Ġeveryone': 49, 'Every': 48, 'gov': 48, 'Ġonly': 48, 'ãĤĴ': 48, 'Ġrarely': 48}\n",
      "=[ {'ĠVia': 57, 'Via': 55, 'ĠRarity': 51, 'ĠReuters': 51, 'Ġvia': 49, 'ĠEST': 47, 'Ġtimestamp': 46, 'Ġgasp': 46, 'Ġasc': 46, 'Ã¡': 45}\n",
      ">< {'ĠSHARES': 57, 'Ġcer': 50, 'gov': 50, 'enegger': 49, 'ĠKasich': 49, 'ĠRarity': 48, 'ĠBloomberg': 48, 'Ġappre': 47, 'uggest': 47, 'ĠSting': 46}\n",
      "\")) {'Ġthus': 53, 'Ġso': 52, 'Ġanswered': 49, 'Ġjust': 49, 'Ġevery': 49, 'Ġmoreover': 48, 'ãĤĴ': 48, 'Ġseen': 47, 'Ġcer': 47, 'Ġever': 47}\n",
      "Ġ)] {'Ġso': 53, 'ĠSO': 52, 'ĠEST': 51, 'Ġthus': 49, 'ĠITS': 48, 'REE': 48, 'Ġever': 47, 'gov': 47, 'ĠOH': 47, 'Ġmoreover': 47}\n",
      "\":[{\" {'Ã¡': 52, 'gov': 52, 'æĪ': 49, 'ĠIre': 48, 'azeera': 48, 'again': 48, 'ĠRarity': 48, 'Ġagain': 48, 'ĠIRC': 48, 'ĠReuters': 48}\n",
      "\"/> {'Ġcer': 53, 'isf': 49, 'nered': 49, 'erest': 49, 'ĠEST': 48, 'Ġevery': 48, 'ĠHon': 48, 'Ġso': 48, 'Ġquickly': 48, 'Ġwhoever': 48}\n",
      "Ġ``( {'ĠBL': 52, 'zh': 52, '=#': 51, 'Ã¢': 50, 'CRIP': 49, 'displayText': 48, 'jah': 47, 'ews': 47, 'uese': 47, 'UTERS': 46}\n",
      "Ġ{* {'nesday': 51, 'ĠAbram': 49, 'azeera': 49, 'ĠIre': 49, 'ĠSHARES': 49, 'Ġemer': 49, 'æĪ': 48, 'Bloomberg': 48, 'SourceFile': 48, 'gov': 48}\n",
      "Ġ-------------------- {'Ġso': 59, 'Ġwhen': 52, 'gov': 49, 'ĠSO': 49, 'ãĤŃ': 47, 'pread': 47, 'Ġevery': 47, 'ĠSo': 46, 'Ġonce': 46, 'ĠWHEN': 45}\n",
      "ĠMaking {'Ġjealous': 59, 'Ġpalpable': 49, 'solete': 49, 'ĠDane': 48, 'Ġpal': 48, 'Ġconspicuous': 48, 'Ġobsolete': 48, 'Ġunbearable': 47, 'Ġmiserable': 46, 'Ġincomprehensible': 46}\n",
      "}{ {'æĪ': 55, 'gov': 52, 'ĠGMT': 49, 'ĠRarity': 48, 'Ġcool': 48, 'ĠHyd': 48, 'cedented': 47, 'ĠPrelude': 47, 'ĠSO': 47, 'ĠLook': 47}\n",
      "Ġdarkest {'Ġever': 59, 'ĠEVER': 57, 'ĠEver': 57, 'Ġforever': 49, 'Ever': 46, 'Ġpracticable': 45, 'Ġyet': 45, 'ĠForever': 44, 'Ġstill': 43, 'Ġpalpable': 41}\n",
      "\"}],\" {'ĠFriends': 50, 'gov': 49, 'Ġmerit': 49, 'ĠCause': 49, 'aughs': 49, 'Friends': 48, 'angers': 48, 'Ġanyone': 48, 'roads': 48, 'ĠHits': 47}\n",
      "Ġdiffered {'Ġprofoundly': 52, 'Ġradically': 51, 'Ġtremendously': 50, 'Ġdramatically': 49, 'Ġdrastically': 49, 'Ġgreatly': 48, 'Ġbetween': 48, 'Ġenormously': 46, 'Ġvastly': 46, 'Ġsocially': 45}\n",
      ")} {'Ġso': 54, 'ĠSO': 51, 'Ġevery': 49, 'Ġanswered': 49, 'Ġcer': 47, 'Ġappre': 47, 'nered': 47, 'ĠSo': 47, 'Ġdodged': 47, 'Ġwee': 46}\n",
      "changed {'Ġforever': 55, 'ĠForever': 52, 'Ġaccordingly': 49, 'Ġso': 49, 'Ġprofoundly': 47, 'Ġfrequently': 47, 'Ġradically': 47, 'Ġfrom': 46, 'Ġrepeatedly': 46, 'Ġmutually': 45}\n",
      "Ġtallest {'ĠEver': 58, 'ĠEVER': 57, 'Ġever': 57, 'Ever': 50, 'Ġanywhere': 46, 'Ġyet': 45, 'Ġforever': 43, 'Ġso': 43, 'ever': 42, 'Ġthroughout': 42}\n",
      "\"},\" {'Ġso': 51, 'gov': 50, 'Ġwhoever': 49, 'ews': 49, 'Ġmotto': 48, 'Ġthereof': 48, 'atever': 47, 'ĠCause': 47, 'ĠSO': 47, 'Ġover': 47}\n",
      "Ġcoolest {'ĠEVER': 55, 'Ġever': 54, 'Ġso': 52, 'ĠEver': 51, 'Ġthus': 48, 'Ġyet': 46, 'Ġroadside': 46, 'Ġforever': 45, 'Ever': 44, 'Ġanywhere': 42}\n",
      "Ġ}) {'Ġnever': 51, 'Ġevery': 50, 'ont': 48, 'Ġcoinc': 48, 'Ġso': 48, 'ĠAbsolutely': 48, 'ĠNever': 47, 'Ġimmediately': 47, 'Ġalways': 47, 'gov': 47}\n",
      "whose {'ĠSandy': 51, 'ĠMicha': 51, 'ĠBenny': 50, 'ĠSandra': 48, 'ĠKeynes': 48, 'ĠNapoleon': 47, 'ĠPence': 47, 'ĠDane': 47, 'ĠSere': 46, 'ĠJohnny': 46}\n",
      "--------------- {'Ġso': 54, 'Ġwhen': 50, 'Ġappre': 48, 'ãĤŃ': 48, 'Ġonce': 47, 'gov': 47, 'Ġwee': 47, 'Ġimb': 46, 'Ġwithout': 46, 'ĠInnov': 46}\n",
      "-------------------- {'Ġwhen': 52, 'Ġso': 51, 'gov': 49, 'ãĤŃ': 47, 'umn': 47, 'Ġcyn': 47, 'ãģª': 47, 'Ġlive': 47, 'pract': 46, 'Ġcred': 46}\n",
      ">( {'ĠReuters': 51, 'ĠRarity': 49, 'ĠSiri': 49, 'ĠConst': 49, 'Ġevery': 48, 'ĠCNN': 47, 'Ġtimestamp': 47, 'UTERS': 47, 'azeera': 46, 'Ġimpressions': 46}\n",
      "Ġchanged {'Ġradically': 51, 'ĠForever': 50, 'Ġforever': 50, 'Ġdramatically': 48, 'Ġprofoundly': 48, 'Ġdrastically': 48, 'Ġaccordingly': 47, 'Ġso': 46, 'Ġfrequently': 46, 'Ġfrom': 45}\n",
      "ĠChanging {'Ġaccordingly': 52, 'ĠForever': 50, 'Ġforever': 49, 'Ġradically': 48, 'Ġprecon': 48, 'Ġdrastically': 47, 'Ġdramatically': 47, 'Ġso': 46, 'Ġmid': 46, 'Ġfrequently': 46}\n",
      "Ġholiest {'Ġever': 58, 'ĠEver': 56, 'ĠEVER': 52, 'Ġforever': 52, 'ĠForever': 48, 'Ever': 48, 'Ġexcept': 43, 'Ġevery': 43, 'ever': 40, 'except': 40}\n",
      "Ġpostpone {'Ġtill': 56, 'Ġuntil': 56, 'Ġforever': 49, 'ĠTill': 48, 'ĠUntil': 47, 'Until': 47, 'Ġtil': 47, 'until': 46, 'ĠTil': 41, 'Ġindefinitely': 41}\n",
      "Ġpostponed {'Ġuntil': 56, 'Ġtill': 55, 'Ġforever': 51, 'Until': 46, 'ĠUntil': 46, 'ĠTill': 45, 'until': 45, 'Ġwhile': 45, 'Ġtil': 44, 'Ġindefinitely': 44}\n",
      "ileged {'Ġover': 57, 'ĠOVER': 54, 'ĠOver': 53, 'Over': 50, 'OVER': 48, 'over': 45, 'pread': 44, 'Ġprivately': 44, 'Ġimmediately': 42, 'Ġcombat': 40}\n",
      "(_ {'ĠReuters': 53, 'azeera': 52, 'Reuters': 50, 'ews': 48, 'Sound': 47, 'GMT': 46, 'Ġbreeze': 46, 'INTON': 46, 'ĠGW': 45, 'ĠGazette': 45}\n",
      "Made {'Ġjealous': 54, 'Ġobsolete': 50, 'Ġincomprehensible': 49, 'Ġunthinkable': 49, 'solete': 47, 'Ġirresistible': 46, 'Ġunbearable': 46, 'Ġconspicuous': 46, 'usable': 46, 'Ġbelievable': 45}\n",
      "Ġhottest {'ĠEver': 52, 'Ġso': 52, 'Ġever': 51, 'ĠEVER': 50, 'Ġthus': 49, 'Ġroadside': 45, 'ĠTru': 45, 'thus': 44, 'Ever': 44, 'Ġanywhere': 43}\n",
      "]= {'Ġwee': 49, 'ĠIST': 49, 'Ġso': 48, 'ĠSHARES': 48, 'ĠReuters': 48, 'Ġthanks': 47, 'Ġwhen': 47, 'Ġbriefs': 47, 'Ġidle': 47, 'ĠSO': 46}\n",
      "{\" {'SourceFile': 52, 'rief': 49, 'edIn': 49, 'onse': 47, 'cedented': 47, 'UTERS': 47, 'æĪ': 47, 'ĠASAP': 46, 'actionDate': 46, 'MSN': 46}\n",
      "Ġinconsistencies {'Ġamong': 59, 'among': 51, 'ĠAmong': 50, 'Ġamongst': 49, 'Ġbetween': 48, 'ĠBetween': 46, 'Among': 46, 'Ġduring': 43, 'Ġamidst': 42, 'Between': 41}\n",
      "estyles {'ĠOVER': 60, 'Ġover': 58, 'ĠOver': 51, 'OVER': 50, 'Over': 48, 'Ġovers': 47, 'over': 43, 'Ġalong': 40, 'Ġacross': 39, 'Ġround': 39}\n",
      "handled {'Ġprofessionally': 51, 'Ġimproperly': 49, 'Ġresponsibly': 48, 'Ġtechnically': 48, 'Ġfavorably': 47, 'Ġcreatively': 47, 'Ġeconomically': 47, 'Ġmedically': 47, 'Ġmorally': 46, 'ologically': 46}\n",
      ")) {'Ġso': 51, 'Ġevery': 49, 'Ġanswered': 49, 'Ġthus': 48, 'Ġcer': 47, 'Ġmoreover': 47, 'ãĤĴ': 47, 'Ġconst': 46, 'Ġjust': 45, 'Ġplunged': 45}\n",
      "Ġdeadliest {'ĠEVER': 55, 'Ġever': 54, 'Ġforever': 52, 'ĠEver': 50, 'Ġpeac': 45, 'Ġroadside': 45, 'Ġunderstandably': 45, 'Ġcommercially': 44, 'Ever': 43, 'Ġremotely': 42}\n",
      "\"},{\" {'gov': 52, 'ĠRarity': 51, 'Ġrav': 50, 'æĪ': 48, 'ĠMcKin': 48, 'ĠIRC': 46, 'Ã¡': 45, 'ĠCLR': 45, 'ĠBRE': 45, 'ĠSiri': 44}\n",
      "ĠMade {'Ġjealous': 54, 'solete': 50, 'Ġobsolete': 50, 'Ġunthinkable': 49, 'ĠDane': 48, 'Ġconspicuous': 46, 'Ġredundant': 45, 'Ġincomprehensible': 44, 'Ġirresistible': 44, 'Ġunbearable': 44}\n",
      "Ġ]) {'Ġevery': 51, 'Ġnever': 49, 'Ġeveryone': 48, 'Ġamazingly': 48, 'Ġnobody': 47, 'Ġsomeone': 46, 'Ġever': 46, 'gov': 46, 'Ġrarely': 46, 'Ġonly': 46}\n",
      "---------------- {'Ġwhen': 51, 'gov': 50, 'edIn': 49, 'Ġso': 49, 'Ġonce': 48, 'Ġwhoever': 47, 'Ġevery': 46, 'Ġcred': 45, 'æĺ¯': 45, 'Ġcyn': 44}\n",
      "}\" {'ĠCOURT': 49, 'Ġpree': 48, 'Ġnever': 48, 'Ġcoinc': 48, 'Ġevery': 47, 'Ġwhoever': 47, 'ĠMoy': 47, 'Ġinitially': 46, 'Ġinitial': 46, 'Ġcyn': 46}\n",
      "rendered {'Ġincomprehensible': 50, 'Ġinactive': 48, 'solete': 48, 'Ġuseless': 48, 'Ġvacant': 47, 'Ġunst': 46, 'Ġidle': 46, 'Ġsenseless': 46, 'Ġmeaningless': 46, 'redibly': 45}\n",
      "Ġ/> {'ĠReuters': 50, 'Ġwell': 48, 'Ġquickly': 48, 'ĠSHARES': 47, 'Ġoh': 47, 'ĠIST': 46, 'ĠHon': 46, 'icker': 46, 'Ġwisely': 46, 'Reuters': 46}\n",
      "liest {'Ġever': 54, 'ĠEVER': 53, 'ĠEver': 51, 'Ġanywhere': 49, 'Ġyet': 47, 'Ġbelievable': 45, 'Ġanyone': 43, 'Ġso': 43, 'Ever': 42, 'Ġamong': 42}\n",
      "ĠProtection {'ĠAgainst': 54, 'Against': 51, 'Ġfrom': 50, 'Ġagainst': 49, 'ĠFrom': 48, 'From': 47, 'against': 43, 'ĠFROM': 43, 'Ġduring': 42, 'Ġform': 41}\n",
      "Ġtoughest {'Ġever': 56, 'ĠEVER': 55, 'ĠEver': 54, 'Ġso': 46, 'Ever': 45, 'Ġpeac': 43, 'Ġforever': 43, 'Ġyet': 42, 'Ġcommercially': 42, 'Ġthus': 42}\n",
      "Ġ{\" {'SourceFile': 49, 'ĠPrelude': 48, 'gov': 47, 'edIn': 47, 'actionDate': 47, 'æĪ': 47, 'cedented': 46, 'rief': 46, 'ĠSHARES': 46, 'ilot': 46}\n",
      "ĠMarketable {'Ġwithout': 56, 'ĠWITHOUT': 54, 'Without': 51, 'ĠWithout': 51, 'without': 50, 'Ġunaccompanied': 42, 'Via': 42, 'Ġalone': 41, 'Ġimperson': 40, 'Ġcommercially': 40}\n",
      "Ġhandled {'Ġfavorably': 53, 'Ġharshly': 49, 'Ġpositively': 48, 'Ġhonestly': 46, 'Ġintimately': 46, 'Ġpersonally': 46, 'Ġprofessionally': 45, 'Ġcreatively': 45, 'Ġpeacefully': 45, 'Ġobjectively': 45}\n",
      "ĠMakes {'Ġjealous': 58, 'ĠImpossible': 48, 'Ġcontagious': 47, 'Ġhabitable': 46, 'solete': 45, 'Ġincomprehensible': 45, 'Ġmiserable': 45, 'Ġobsolete': 45, 'Ġpalpable': 45, 'Ġunbearable': 44}\n",
      "Ġ}; {'Ġwithout': 49, 'Ġso': 49, 'Ġagain': 48, 'Ġappre': 48, 'Ġcool': 46, 'Ġpree': 46, 'Ġchance': 46, 'Ġmotto': 46, 'gov': 45, 'Ġthereof': 45}\n",
      "=\" {'Ġever': 48, 'Ġwhoever': 48, 'ĠRarity': 47, 'ĠReuters': 47, 'Ġappre': 46, 'ĠSandy': 46, 'Whoever': 46, 'ĠEver': 46, 'ĠNever': 46, 'ĠSHARES': 46}\n",
      "Ġ[\" {'Via': 48, 'Until': 47, 'Ġuntil': 47, 'ĠUntil': 47, 'UTERS': 46, 'Reuters': 46, 'ĠVia': 46, 'Advertisements': 46, 'until': 46, 'ĠReuters': 45}\n",
      "orporated {'Ġinto': 54, 'ĠInto': 53, 'ĠINTO': 51, 'edIn': 48, 'Ġduring': 46, 'Ġamong': 46, 'into': 44, 'Ġin': 41, 'Ġamongst': 41, 'Ġwhen': 41}\n",
      "=\"# {'Ġturnout': 48, 'ews': 48, 'ĠSHARES': 48, 'Ġtide': 47, 'Ġappre': 47, 'ĠESV': 46, 'ä¹': 45, 'ĠReuters': 45, 'ĠSere': 45, 'Ġnewsp': 45}\n",
      "ActionCode {'Ġliked': 49, 'Ġso': 49, 'Ġaggressive': 48, 'Ġagainst': 48, 'Ġlike': 47, 'Ġdazzling': 46, 'Ġlikes': 46, 'Ġdespise': 45, 'Ġwhis': 44, 'Ġhated': 44}\n",
      "Everyone {'Ġexcept': 52, 'ĠExcept': 51, 'except': 48, 'Ġever': 47, 'Except': 47, 'CEPT': 45, 'ĠEver': 45, 'ĠEVER': 45, 'Ġcredited': 43, 'ĠBUT': 42}\n",
      "Ġunavoidable {'Ġunless': 53, 'Unless': 51, 'Ġwhile': 51, 'Ġwithout': 48, 'unless': 46, 'while': 46, 'ĠUnless': 43, 'ĠWITHOUT': 42, 'Ġexcept': 42, 'Ġwhilst': 41}\n",
      "ĠDiscrimination {'ĠAgainst': 59, 'Ġagainst': 57, 'Against': 53, 'against': 52, 'Ġwhen': 45, 'ĠAGA': 43, 'ĠWhen': 40, 'Ġcontra': 39, 'Ġbecause': 38, 'Ġtoward': 38}\n",
      "Ġwhose {'ĠSandy': 50, 'ĠMicha': 49, 'ĠBenny': 49, 'ĠKeynes': 46, 'ĠBabe': 46, 'ĠSere': 45, 'ĠDanielle': 45, 'ĠReuters': 45, 'ĠSandra': 45, 'ĠNapoleon': 45}\n",
      "}); {'Ġnever': 49, 'Ġso': 47, 'Ġnevertheless': 47, 'Ġwithout': 47, 'Ġevery': 47, 'Ġwhoever': 46, 'Ġpree': 46, 'Ġrarely': 45, 'Ġalthough': 45, 'Ġmoreover': 45}\n",
      "[[ {'ĠReuters': 52, 'Ã¡': 48, 'æĪ': 48, 'ĠYorker': 47, 'Reuters': 46, 'UTERS': 45, 'Ġcoinc': 45, 'regon': 44, 'ĠKasich': 44, 'ĠMÃ©': 44}\n",
      "Ġ)); {'Ġevery': 49, 'Ġso': 48, 'Ġthus': 47, 'Ġwhis': 47, 'Ġmoreover': 47, 'ãĤī': 46, 'Ġcf': 45, 'æĪ': 45, 'regon': 44, '[\"': 44}\n",
      "Ġ[& {'Ġemer': 49, 'ĠIre': 49, 'Ġparliament': 48, 'Ġgar': 47, 'Ġcyn': 46, 'Ġindisc': 46, 'Ġuncont': 46, 'Ġindis': 45, 'Ġundes': 44, 'Ġvia': 44}\n",
      "\\\"> {'Ġevery': 49, 'Ġnot': 48, 'Ġnever': 48, 'Ġeveryone': 47, 'gov': 46, 'Ġever': 46, 'Ġvers': 45, 'ĠEvery': 45, 'Ġalways': 45, 'Ġcoinc': 45}\n",
      "largest {'ĠEver': 50, 'Ġso': 49, 'Ġever': 49, 'ĠEVER': 48, 'Ġthus': 48, 'Ġyet': 45, 'Ġoverwhelmingly': 45, 'Ġlawfully': 44, 'Ġhonestly': 43, 'Ġvisibly': 43}\n",
      "\":[\" {'Until': 52, 'ĠUntil': 51, 'Ġuntil': 47, 'ĠVia': 46, 'Via': 46, 'until': 46, 'ĠWet': 45, 'Ġicy': 45, 'ĠIce': 43, 'Ġasync': 42}\n",
      "Ġbrightest {'ĠEVER': 57, 'Ġever': 55, 'ĠEver': 53, 'Ġso': 44, 'Ġyet': 43, 'Ever': 43, 'Ġroadside': 42, 'Ġpalpable': 42, 'Ġvisibly': 42, 'ankind': 40}\n",
      "]) {'Ġevery': 49, 'Ġmoreover': 46, 'Ġanswered': 46, 'Ġso': 46, 'Ġnever': 46, 'Ġcoinc': 46, 'Ġplunged': 46, 'Ġimmediately': 46, 'Ġ{\\\\': 45, 'Ġthus': 45}\n",
      ">>>> {'ĠReuters': 49, 'Bloomberg': 47, '):': 47, 'ĠBloomberg': 46, 'Ġcoinc': 46, 'Ġstud': 46, 'Ġquickly': 45, 'Ġagain': 45, 'Ġautomatically': 45, 'Ġemer': 44}\n",
      "Ġmade {'Ġjealous': 56, 'Ġobsolete': 48, 'Ġirresistible': 46, 'Ġpalpable': 45, 'Ġincomprehensible': 45, 'Ġhabitable': 45, 'Ġconspicuous': 44, 'Ġunthinkable': 44, 'Ġmiserable': 44, 'solete': 44}\n",
      ")] {'Ġso': 54, 'ĠSO': 51, 'ĠIST': 45, 'ĠSHARES': 45, 'ĠSo': 44, 'Ġcer': 44, 'ĠCFR': 44, 'ĠCOURT': 44, 'ĠCree': 44, 'Ġmoreover': 44}\n",
      "Ġbusiest {'Ġever': 54, 'ĠEver': 51, 'ĠEVER': 50, 'Ġforever': 46, 'Ġso': 45, 'adays': 44, 'Ġthroughout': 44, 'Ever': 44, 'Ġwithout': 42, 'Ġsince': 42}\n",
      "venants {'Ġnever': 54, 'ĠNever': 51, 'Never': 48, 'ĠNEVER': 47, 'never': 46, 'Ġnot': 45, 'ĠIST': 43, 'Ġagainst': 43, 'Ġsilent': 43, 'Ġmidway': 42}\n",
      "=\\\" {'ĠRarity': 56, 'Ġwee': 46, 'Ġever': 46, 'ĠEver': 46, 'ä¹': 45, 'ĠSandy': 45, 'earances': 45, 'ĠReuters': 44, 'Bloomberg': 44, 'æĪ': 44}\n",
      "Ġheadquartered {'Ġnear': 52, 'Near': 52, 'ĠNear': 50, 'ĠAround': 46, 'Ġamong': 46, 'near': 44, 'Ġaround': 44, 'Ġamongst': 43, 'Around': 43, 'Ġhere': 42}\n",
      "Ġremained {'Ġthroughout': 55, 'Ġidle': 49, 'Ġdormant': 47, 'Ġstagnant': 45, 'Throughout': 45, 'Ġvacant': 44, 'Ġinactive': 44, 'itialized': 44, 'Ġforever': 43, 'Ġconstantly': 43}\n",
      "ĠExposure {'Ġduring': 52, 'Ġthrough': 48, 'Ġvia': 47, 'ĠDuring': 46, 'ĠThrough': 45, 'Ġthru': 45, 'during': 45, 'During': 45, 'Ġwhile': 45, 'Ġto': 42}\n",
      "Ġ}, {'Ġso': 51, 'ĠSO': 47, 'Ġquickly': 47, 'Ġeasily': 46, 'gov': 46, 'Ġautomatically': 46, 'Ġfast': 45, 'Ġagain': 45, 'Ġwhose': 44, 'æĪ': 44}\n",
      "Ġbestselling {'Ġamong': 55, 'Ġamongst': 50, 'ĠEVER': 48, 'Ġroadside': 48, 'Ġever': 46, 'Ġthroughout': 44, 'among': 43, 'ĠEver': 42, 'Ġweekday': 42, 'Ġ1889': 41}\n",
      "Ġ<@ {'azeera': 55, 'ĠRarity': 48, 'Ġcram': 47, 'Ġstandalone': 46, 'Photos': 46, 'Ġappre': 44, 'ĠReuters': 44, 'enegger': 44, 'opus': 44, 'ĠMcM': 43}\n",
      "Making {'Ġjealous': 55, 'Ġobsolete': 46, 'solete': 46, 'Ġpal': 45, 'ĠDane': 45, 'Ġincomprehensible': 45, 'Ġconspicuous': 45, 'Ġimperson': 44, 'Ġpalpable': 44, 'Ġbelievable': 44}\n",
      "Ġbiggest {'ĠEver': 52, 'ĠEVER': 52, 'Ġever': 51, 'Ġso': 48, 'Ġforever': 45, 'Ġthus': 45, 'Ever': 45, 'risis': 41, 'Ġroadside': 41, 'ankind': 39}\n",
      "?] {'Ġcoinc': 49, 'ĠEST': 48, 'Ġappre': 48, 'ĠCOURT': 47, 'ĠITS': 45, 'ĠReuters': 45, 'Ġevery': 45, 'ĠOH': 44, 'ĠOB': 44, 'ĠEX': 44}\n",
      "{{ {'æĪ': 50, 'cedented': 46, 'gov': 46, 'Ġcrown': 46, 'Ġcool': 46, 'dayName': 46, 'SourceFile': 45, 'Ġturnout': 45, 'Ġunderage': 45, 'Ġcurs': 44}\n",
      "={ {'ĠRarity': 48, 'cedented': 48, 'actionDate': 48, 'æĪ': 47, 'ername': 46, 'azeera': 45, 'Ġturnout': 45, 'Ġwee': 44, 'ThumbnailImage': 44, 'displayText': 44}\n",
      "\"], {'Ġso': 50, 'Ġquickly': 46, 'Ġwee': 46, 'Ġwell': 46, 'Ġwhoever': 46, 'Ġimmediately': 45, 'gov': 45, 'Ġcoinc': 45, 'Ġevery': 45, 'ĠReuters': 45}\n",
      "Ġ{{ {'æĪ': 51, 'gov': 49, 'Ġturnout': 46, 'dayName': 45, 'SourceFile': 45, 'Ġcrown': 45, 'Ġlapse': 44, 'cedented': 44, 'Ġcool': 44, 'laughs': 44}\n",
      "Changing {'ĠForever': 50, 'Ġaccordingly': 49, 'Ġprecon': 47, 'Ġforever': 47, 'Ġso': 46, 'Ġmid': 45, 'Ġprofoundly': 44, 'Ġradically': 43, 'Ġmutually': 43, 'atically': 43}\n",
      "Ġ()) {'Ġsust': 47, 'Ġbesides': 47, 'Ġoverriding': 47, 'Ġthus': 46, 'Ġmoreover': 46, 'Ġcoinc': 45, 'esides': 45, 'ĠSHARES': 45, 'Ġfirst': 45, 'Ġwhere': 45}\n",
      "Ġ[/ {'gov': 50, 'å°': 48, 'ĠElm': 47, 'ĠCitadel': 45, 'åľ': 45, 'azeera': 45, 'MSN': 45, 'Commun': 44, 'Ġsweater': 44, 'gex': 44}\n",
      "Ġmakes {'Ġjealous': 57, 'Ġpalpable': 47, 'Ġcontagious': 46, 'Ġhabitable': 45, 'Ġirresistible': 44, 'Ġmiserable': 44, 'ceivable': 44, 'Ġobsolete': 44, 'Ġincomprehensible': 43, 'Ġbelievable': 43}\n",
      "\":\"\"},{\" {'Ġever': 51, 'Ġduring': 47, 'Ġalways': 46, 'ĠEVER': 45, 'Ġmash': 45, 'Ġnever': 45, 'Ġweekday': 45, 'ĠEver': 45, 'gov': 45, 'Ġincom': 44}\n",
      "Ġaffecting {'Ġnegatively': 51, 'Ġharshly': 47, 'Ġpositively': 47, 'Ġprofoundly': 47, 'Ġtremendously': 46, 'Ġfavorably': 45, 'Ġmorally': 44, 'Ġgreatly': 43, 'Ġenormously': 43, 'Ġdramatically': 43}\n",
      "]); {'Ġso': 48, 'Ġmoreover': 48, 'Ġthus': 47, 'Ġcer': 45, 'Ġanswered': 45, 'ĠHon': 45, 'Ġspotted': 45, 'Ġjust': 44, 'Ġwee': 44, 'Ġnevertheless': 44}\n",
      ")</ {'Ġeveryone': 49, 'Ġevery': 48, 'Ġcer': 47, 'Ġeach': 47, 'Each': 45, 'azeera': 45, 'everyone': 44, 'ĠEach': 44, 'Ġeverybody': 44, 'CRE': 43}\n",
      "Ġ>>> {'ĠReuters': 52, 'Bloomberg': 52, 'ĠBloomberg': 48, 'gov': 44, 'ĠREUTERS': 44, 'Reuters': 44, 'ĠFortune': 43, 'Ġlightly': 43, 'Ġanybody': 43, 'ĠRarity': 43}\n",
      "ichever {'ĠTru': 48, 'banks': 48, 'ews': 47, 'ĠSnowden': 45, 'Ġsweater': 45, 'ĠReuters': 45, 'ĠPats': 45, 'ĠRolls': 44, 'Ġsoundtrack': 44, 'Ġspotted': 44}\n",
      "Ġmaking {'Ġjealous': 57, 'Ġpalpable': 47, 'solete': 45, 'Ġobsolete': 45, 'Ġconspicuous': 44, 'Ġcontagious': 44, 'Ġmiserable': 44, 'Ġhabitable': 43, 'Ġpal': 43, 'ĠFamous': 43}\n",
      "ĠTravels {'Ġalong': 48, 'Ġacross': 48, 'Ġthroughout': 47, 'Ġamongst': 47, 'Ġalongside': 46, 'Ġamong': 45, 'Ġwidely': 44, 'Ġabroad': 43, 'Ġnear': 43, 'ĠAcross': 43}\n",
      "Ġachievable {'Ġwithout': 56, 'ĠWITHOUT': 52, 'ĠWithout': 50, 'Without': 50, 'without': 48, 'Ġalone': 44, 'Ġstandalone': 41, 'Ġsimultaneously': 39, 'Ġprivately': 38, 'Ġseparately': 37}\n",
      ";} {'Ġso': 49, 'Ġwee': 47, 'Ġnevertheless': 46, 'Ġensu': 46, 'ĠSHARES': 45, 'Ġmoreover': 45, 'Ġwhis': 45, 'Ġaccordingly': 44, 'ĠSO': 44, 'Ġquickly': 44}\n",
      "ĠHighest {'Ġso': 50, 'Ġever': 48, 'ĠEVER': 47, 'Ġamong': 47, 'ĠEver': 46, 'Ġvisibly': 44, 'Ġpalpable': 44, 'Ġthus': 43, 'Ġamongst': 43, 'Ġanywhere': 42}\n",
      "ĠMake {'Ġjealous': 57, 'Ġobsolete': 47, 'solete': 47, 'Ġpalpable': 46, 'Ġhabitable': 45, 'Ġmiserable': 43, 'Ġreactive': 43, 'Ġirresistible': 43, 'Ġpal': 43, 'Ġhabitual': 43}\n",
      "Ġ\"$ {'ĠConst': 48, 'Ire': 47, 'Ġthereof': 46, 'Ġcongr': 46, 'ĠSandy': 46, 'History': 45, 'ISIS': 45, 'ĠMississ': 44, 'ĠISIS': 44, 'edIn': 44}\n",
      "Ġrendered {'solete': 49, 'Ġincomprehensible': 48, 'Ġuseless': 47, 'Ġinactive': 46, 'Ġworthless': 45, 'pless': 45, 'Ġidle': 44, 'Ġobsolete': 44, 'Ġineligible': 43, 'Ġmeaningless': 43}\n",
      "Ġclashed {'Ġrepeatedly': 47, 'Ġequally': 47, 'Ġprofoundly': 46, 'Ġmidway': 45, 'Ġvividly': 45, 'Ġenormously': 45, 'Ġpainfully': 45, 'Ġfavorably': 45, 'Ġmorally': 44, 'atically': 44}\n",
      "-------------- {'Ġso': 50, 'Ġappre': 48, 'Ġwhen': 47, 'Ġwee': 46, 'Ġprest': 46, 'ĠInnov': 45, 'gov': 43, 'ĠWhis': 43, 'Ġfortunately': 43, 'Ġonce': 43}\n",
      "=\"/ {'Reuters': 49, 'ĠReuters': 48, 'ews': 48, 'onew': 47, 'azeera': 46, 'jah': 44, 'Ġnobody': 44, 'Trivia': 43, 'zh': 43, 'Ġtits': 43}\n",
      "protect {'ĠAgainst': 54, 'Against': 51, 'From': 49, 'ĠFrom': 48, 'Ġfrom': 47, 'Ġagainst': 47, 'against': 44, 'ĠFROM': 41, 'from': 38, 'Ġform': 36}\n",
      ">>\\ {'Ġsharply': 47, 'ĠReuters': 47, 'Ġhotly': 47, 'Ġboldly': 45, 'Ġresponsibly': 45, 'Ġquickly': 45, 'Ġimmediately': 44, 'ĠImmediately': 44, 'Ġlightly': 44, 'ĠAbsolutely': 44}\n",
      "\":[ {'ĠGazette': 48, 'ä¹': 47, 'ĠWet': 47, 'æĪ': 45, 'ews': 45, 'ĠIST': 45, 'Ġgasp': 45, 'Ġasync': 44, 'ĠSel': 44, 'Ġsharply': 44}\n",
      "paralleled {'Ġthroughout': 53, 'Ġever': 46, 'Ġamong': 46, 'ĠThroughout': 46, 'Ġamongst': 45, 'Ġduring': 44, 'Ġforever': 44, 'Ġsince': 44, 'ĠEVER': 42, 'Ġbetween': 42}\n",
      "ĠKeeping {'Ġinactive': 48, 'ĠHidden': 47, 'itialized': 46, 'ĠFrozen': 45, 'Ġsober': 45, 'Hidden': 45, 'Ġstagnant': 44, 'Ġfrozen': 44, 'Ġvacant': 44, 'cookie': 43}\n",
      "ĠShowdown {'Ġamong': 49, 'Ġamongst': 47, 'Ġagainst': 47, 'Ġbefore': 47, 'ĠAgainst': 45, 'Ġamidst': 44, 'Against': 44, 'Ġduring': 43, 'ĠBEFORE': 43, 'ĠAmong': 43}\n",
      ")); {'Ġso': 49, 'Ġthus': 47, 'Ġmoreover': 46, 'Ġcer': 45, 'Ġanswered': 45, 'nered': 44, 'Ġspotted': 44, 'Ġwithout': 44, 'ĠHon': 43, 'Ġwee': 43}\n",
      "Ġunchanged {'Ġsince': 53, 'since': 48, 'Ġfrom': 46, 'ĠExcept': 45, 'Ġexcept': 44, 'Ġduring': 44, 'ĠSince': 43, 'Ġuntil': 43, 'except': 43, 'Ġever': 42}\n",
      "inguishable {'Ġfrom': 53, 'From': 46, 'atically': 46, 'ĠFROM': 44, 'from': 44, 'Ġmorally': 44, 'Ġforever': 43, 'Ġstatically': 43, 'Ġcommercially': 43, 'ĠFrom': 43}\n",
      "Ġshifted {'Ġso': 50, 'Ġtowards': 48, 'Ġinward': 46, 'Ġhalfway': 45, 'Ġvers': 45, 'Ġslightly': 44, 'Ġtoward': 44, 'Ġradically': 44, 'Ġidle': 43, 'Ġbadly': 43}\n",
      "************ {'Ġso': 50, 'Ġevery': 47, 'asio': 46, 'Ġper': 46, 'Ġagain': 45, 'Ġalone': 44, 'Ġduring': 44, 'asper': 43, 'Ġpier': 42, 'ĠOsc': 42}\n",
      "affected {'Ġnegatively': 47, 'Ġgreatly': 46, 'Ġmorally': 46, 'Ġtremendously': 46, 'Ġprofoundly': 46, 'Ġterribly': 45, 'Ġpositively': 44, 'Ġradically': 44, 'Ġcreatively': 43, 'Ġvividly': 43}\n",
      "Ġnumbered {'Ġamongst': 55, 'Ġamong': 53, 'Ġwithin': 47, 'Ġamidst': 45, 'among': 42, 'Ġprivately': 42, 'Ġfavorably': 42, 'Ġnarrowly': 41, 'Ġcommercially': 41, 'Ġhistorically': 40}\n",
      "}; {'Ġwithout': 46, 'Ġcer': 46, 'Ġagain': 45, 'Ġwhoever': 45, 'Ġnevertheless': 45, 'ĠHon': 45, 'Ġso': 44, 'Ġrecognized': 44, 'Ġmotto': 44, 'Ġcool': 44}\n",
      "Ġ} {'Ġso': 51, 'ĠSO': 46, 'Ġappre': 46, 'Ġanswered': 45, 'Ġdodged': 44, 'Ġcoinc': 44, 'gov': 44, 'Ġroadside': 43, 'ĠCOURT': 43, 'Ġviews': 43}\n",
      "Ġlargest {'ĠEver': 48, 'Ġever': 48, 'ĠEVER': 48, 'Ġso': 47, 'Ġthus': 45, 'Ġyet': 44, 'Ġoverwhelmingly': 43, 'Ġforever': 42, 'Ġvisibly': 42, 'Ġhonestly': 41}\n",
      "Ġexpanded {'Ġso': 48, 'Ġcomprehens': 48, 'Ġenormously': 47, 'Ġprofoundly': 47, 'Ġdramatically': 45, 'Ġtremendously': 45, 'Ġdrastically': 44, 'Ġvastly': 43, 'agically': 42, 'Ġconsiderably': 42}\n",
      "Ġprecedence {'Ġover': 56, 'ĠOVER': 52, 'ĠOver': 49, 'Over': 46, 'OVER': 45, 'over': 42, 'Ġovers': 41, 'Ġthan': 40, 'Ġduring': 38, 'Ġthen': 38}\n",
      "Ġ'[ {'ĠRarity': 47, 'UTERS': 46, 'ĠELE': 45, 'ĠUSAF': 45, 'å°': 45, 'cedented': 45, 'MSN': 44, 'ĠEST': 44, 'Via': 44, 'ĠRy': 44}\n",
      "numbered {'Ġfavorably': 48, 'Ġamongst': 46, 'Ġsuccessfully': 45, 'Ġhistorically': 45, 'Ġwithin': 44, 'Ġprivately': 44, 'Ġnarrowly': 44, 'Ġamong': 44, 'Ġvividly': 43, 'orically': 43}\n",
      "Ġtrending {'Ġtowards': 52, 'Ġtoward': 50, 'ĠTowards': 45, 'Ġduring': 44, 'Ġaggressively': 44, 'Ġwhen': 44, 'Ġthroughout': 43, 'isively': 43, 'atically': 42, 'Ġamongst': 42}\n",
      "Ġcirculate {'Ġthroughout': 58, 'Ġamong': 52, 'Ġamongst': 49, 'Ġaround': 45, 'ĠThroughout': 43, 'Throughout': 43, 'Ġalong': 40, 'among': 40, 'Around': 39, 'Ġvia': 39}\n",
      "Ġ[[ {'ĠReuters': 48, 'Ã¡': 47, 'Ġpor': 46, 'æĪ': 45, 'ĠYorker': 45, 'Via': 44, 'Ġpar': 44, 'UTERS': 43, 'gov': 43, 'regon': 42}\n",
      "Ġskewed {'Ġtowards': 49, 'Ġbadly': 48, 'Ġinward': 47, 'Ġtoward': 45, 'ĠTowards': 45, 'Ġprofoundly': 43, 'Ġoutward': 43, 'Ġagainst': 43, 'Against': 42, 'Ġso': 42}\n",
      "Ġresembled {'Ġtremendously': 48, 'Ġenormously': 48, 'Ġprofoundly': 47, 'Ġimmensely': 45, 'Ġgreatly': 45, 'Ġclosely': 43, 'Ġnarrowly': 43, 'Ġequally': 42, 'Ġpoorly': 42, 'Ġfavorably': 42}\n",
      "'] {'Ġever': 47, 'ĠCOURT': 46, 'ĠEST': 45, 'ĠHot': 45, 'ĠSO': 45, 'Ġonce': 44, 'Ġcoinc': 44, 'Ġeasily': 44, 'Ġappre': 44, 'ĠIST': 44}\n",
      "makes {'Ġjealous': 51, 'Ġincomprehensible': 45, 'ceivable': 45, 'Ġcontagious': 45, 'Ġhabitable': 45, 'Ġobsolete': 43, 'Ġavailable': 43, 'Ġbelievable': 43, 'Ġmiserable': 43, 'Ġpalpable': 43}\n",
      "ĠEveryone {'Ġexcept': 51, 'ĠExcept': 49, 'except': 47, 'Except': 45, 'Ġever': 45, 'CEPT': 43, 'Ġbesides': 42, 'Ġcredited': 42, 'ĠEver': 41, 'ĠEVER': 41}\n",
      "/> {'Ġproperly': 46, 'zh': 46, 'Ġquickly': 46, 'Ġregularly': 46, 'Ġheavily': 45, 'Ġwell': 44, 'Ġuniformly': 44, 'Ġpoorly': 44, 'Ġeveryone': 43, 'ottest': 43}\n",
      "Ġimpacted {'Ġnegatively': 51, 'Ġpositively': 46, 'Ġmorally': 45, 'Ġprofoundly': 45, 'Ġenormously': 44, 'Ġequally': 44, 'Ġfavorably': 44, 'Ġtremendously': 43, 'Ġcommercially': 43, 'Ġfinancially': 42}\n",
      "Ġincorporation {'Ġinto': 55, 'ĠInto': 52, 'ĠINTO': 49, 'into': 47, 'edIn': 43, 'Ġduring': 42, 'Ġin': 41, 'Ġwhen': 39, 'Ġamong': 39, 'Ġwhile': 38}\n",
      "ĠTemporary {'Ġuntil': 50, 'Ġwithout': 47, 'ĠWITHOUT': 47, 'Ġwhile': 46, 'ĠUntil': 44, 'Ġduring': 44, 'Ġtill': 42, 'Ġwhilst': 42, 'Ġpending': 42, 'ĠWithout': 41}\n",
      "Everything {'Ġexcept': 48, 'ĠExcept': 47, 'ĠEVER': 47, 'Ġever': 46, 'Except': 45, 'Ġbesides': 45, 'ĠEver': 43, 'except': 42, 'esides': 42, 'Ġexce': 41}\n",
      "made {'Ġjealous': 49, 'Ġincomprehensible': 46, 'Ġobsolete': 46, 'Ġconspicuous': 45, 'Ġunthinkable': 44, 'Ġhabitable': 43, 'Ġbelievable': 43, 'Ġpear': 43, 'Ġimmutable': 43, 'ĠFamous': 42}\n",
      "Ġinaccessible {'Ġwithout': 49, 'Ġearly': 47, 'Ġvia': 45, 'Ġimmediately': 45, 'Ġpersonally': 44, 'Ġalone': 44, 'ĠWithout': 43, 'Ġduring': 43, 'Ġsilently': 43, 'ĠWITHOUT': 43}\n",
      "*) {'Ġevery': 47, 'ont': 47, 'ãĤĴ': 45, 'Ġever': 45, 'Ġnever': 44, 'Ġappre': 44, 'Ġputs': 44, 'Ġonly': 44, 'Ġ!=': 43, 'gov': 43}\n",
      ")| {'ĠRefugees': 46, 'aughs': 45, 'icker': 45, 'Ġwee': 45, 'ĠSO': 44, 'ĠIRC': 44, 'Ġcer': 44, 'Ġso': 44, 'ĠSere': 44, 'Ġrefugees': 44}\n",
      "(( {'aryn': 46, 'ĠYorker': 46, 'regon': 45, 'ĠReuters': 45, 'azeera': 45, 'Via': 44, 'Ġfl': 44, 'ĠVia': 43, 'ĠISIS': 43, 'Guest': 43}\n",
      ".} {'Ġso': 47, 'ĠSO': 46, 'Ġalone': 44, 'Ġwee': 44, 'ĠSHARES': 44, 'ĠSo': 44, 'ĠIST': 44, 'ĠREUTERS': 44, 'UTERS': 43, 'ĠEDT': 43}\n",
      "\"]=> {'Ġcoinc': 48, 'ĠIre': 46, 'ĠRarity': 45, 'æĪ': 45, 'Ġstud': 44, 'Ġinaccur': 44, 'ĠMR': 44, 'Ġpree': 43, 'Ire': 43, 'Ġcatchy': 42}\n",
      "checked {'Ġamongst': 50, 'Against': 47, 'Ġagainst': 46, 'Ġamong': 46, 'ĠAgainst': 45, 'Ġexplicitly': 43, 'Ġbeforehand': 42, 'Ġthoroughly': 42, 'Ġvividly': 42, 'Ġagain': 41}\n",
      "Ġunused {'Ġuntil': 49, 'Ġagain': 47, 'Ġunless': 46, 'Ġrepeatedly': 44, 'Ġexcept': 44, 'except': 43, 'ĠExcept': 43, 'Ġtill': 43, 'Ġterribly': 43, 'Ġresponsibly': 42}\n",
      "Ġpitted {'Against': 61, 'Ġagainst': 58, 'ĠAgainst': 57, 'against': 56, 'Ġcontra': 40, 'Ġversus': 37, 'Ġcontro': 35, 'Ġequally': 34, 'Ġcombat': 33, 'Ġvs': 32}\n",
      "Ġaddressed {'Ġindividually': 47, 'Ġfavorably': 47, 'Ġobjectively': 45, 'orically': 45, 'Ġrespectfully': 45, 'Ġpositively': 44, 'atically': 43, 'Ġpersonally': 43, 'Ġprivately': 43, 'Ġhonestly': 41}\n",
      "changing {'Ġforever': 48, 'Ġaccordingly': 47, 'ĠForever': 47, 'Ġso': 45, 'Ġrepeatedly': 44, 'Ġmutually': 43, 'atically': 43, 'Ġradically': 42, 'Ġduring': 42, 'Ġprogressively': 42}\n",
      "Ġ([ {'ĠReuters': 50, 'ĠVia': 48, 'Via': 48, 'UTERS': 46, 'Reuters': 43, 'ĠREUTERS': 43, 'Ġwhoever': 42, 'Ġbreeze': 41, 'orough': 41, 'Ġvia': 41}\n",
      "Ġ(< {'ĠSHARES': 48, 'azeera': 46, 'Ġappre': 46, 'MSN': 44, 'Ġsterling': 44, 'Ġeng': 44, 'ĠReuters': 44, 'Ġ1986': 43, 'UTERS': 43, 'Ġcer': 42}\n",
      "%] {'Ġevery': 46, 'Ġcoinc': 46, 'Ġthereof': 45, 'Ġamong': 44, 'Ġeasily': 44, 'Ġinitially': 44, 'Ġquickly': 44, 'Ġwithout': 44, 'Ġamazingly': 43, 'Ġamongst': 43}\n",
      "Enhanced {'Ġover': 49, 'Ġbeyond': 48, 'ĠOVER': 47, 'ĠBeyond': 45, 'Ġcomprehens': 44, 'Beyond': 43, 'ĠOver': 42, 'ĠThrough': 42, 'Ġdramatically': 42, 'Ġenormously': 41}\n",
      "} {'Ġso': 50, 'ĠSO': 47, 'Ġappre': 44, 'Ġwhoever': 44, 'Ġevery': 43, 'Ġcer': 43, 'Ġanswered': 43, 'Ġnevertheless': 43, 'Ġwhere': 42, 'Ġwee': 42}\n",
      "ensable {'Ġsimultaneously': 48, 'Ġduring': 48, 'Ġthus': 46, 'Ġwee': 44, 'Ġwhis': 44, 'Ġwhile': 43, 'Ġcombat': 43, 'Ġwhenever': 42, 'Ġwithout': 42, 'Ġobjectively': 42}\n",
      "ournaments {'Ġduring': 50, 'Ġamong': 48, 'ĠDuring': 47, 'Ġamongst': 45, 'During': 44, 'Ġthroughout': 44, 'during': 41, 'Ġonce': 41, 'Ġever': 41, 'Ġamidst': 41}\n",
      ")=( {'Ġwee': 46, 'regon': 45, 'azeera': 45, 'ĠReuters': 45, 'ĠRarity': 44, 'ont': 44, 'ĠIST': 43, 'ĠVia': 43, 'Via': 43, 'Ġtimestamp': 43}\n",
      "Ġcontinued {'Ġthroughout': 53, 'Ġeven': 47, 'even': 45, 'Ġunaffected': 44, 'ĠEVEN': 44, 'Ġuntil': 42, 'Ġindefinitely': 42, 'Ġnonetheless': 42, 'Ġforever': 42, 'Ġafterward': 41}\n",
      "[\" {'Ġuntil': 46, 'Reuters': 45, 'Until': 45, 'Via': 45, 'ĠUntil': 44, 'UTERS': 44, 'ĠReuters': 44, 'ĠVia': 44, 'until': 43, 'Ġwhoever': 41}\n",
      "}\\ {'Ġso': 48, 'gov': 46, 'Ġnevertheless': 45, 'ĠSO': 45, 'Ġevery': 44, 'Ġeither': 44, 'Ġuntouched': 43, 'Ġwee': 42, 'Ġappre': 42, 'Ġwhile': 42}\n",
      "ãĢĳ {'ĠSO': 50, 'Ġcoinc': 49, 'gov': 46, 'Ġso': 45, 'Ġextent': 43, 'ĠIRC': 42, 'ĠPRO': 42, 'Ġfewer': 42, 'ĠOB': 42, 'Ġconst': 42}\n",
      "Ġchanging {'ĠForever': 48, 'Ġforever': 47, 'Ġaccordingly': 45, 'Ġdramatically': 44, 'Ġradically': 44, 'Ġprecon': 43, 'Ġdrastically': 43, 'Ġso': 43, 'Ġprofoundly': 43, 'Ġmid': 43}\n",
      "\"> {'gov': 49, 'Ġpree': 46, 'Ġevery': 45, 'const': 43, 'Ġwhoever': 43, 'Ġeveryone': 43, 'Ġcer': 43, 'Ġcoinc': 43, 'Ġalways': 43, 'ĠKasich': 43}\n",
      "]- {'Ġappre': 48, 'ĠSHARES': 47, 'Ġcoinc': 45, 'gov': 45, 'Ġso': 45, 'Ġroadside': 43, 'ĠRarity': 43, 'æĪ': 42, 'azeera': 42, 'regon': 42}\n",
      "iqueness {'Ġamong': 58, 'Ġamongst': 53, 'among': 48, 'ĠAmong': 46, 'Among': 45, 'Ġwithin': 43, 'Ġamidst': 39, 'ĠWithin': 38, 'within': 36, 'Ġamid': 34}\n",
      "Ġ] {'Ġcoinc': 49, 'Ġappre': 46, 'gov': 46, 'const': 43, 'å°': 43, 'Ġnever': 43, 'Ġconst': 43, 'Ġevery': 43, 'Ġonce': 42, 'ĠConst': 42}\n",
      "Ġ|-- {'ideshow': 54, 'ĠReuters': 49, 'Bloomberg': 44, 'ĠMÃ©': 44, 'Reuters': 42, 'thumbnails': 42, 'Ġsweater': 42, 'ĠREUTERS': 41, 'SPONSORED': 41, 'Ġroadside': 41}\n",
      "Ġ()); {'Ġbesides': 46, 'Ġmoreover': 46, 'Ġamong': 45, 'Ġvo': 45, 'Ġfox': 44, 'Ġwithout': 43, 'Ġdiscovered': 43, 'esides': 43, 'Ġwell': 43, 'Ġvict': 42}\n",
      ">>> {'ĠReuters': 53, 'Bloomberg': 45, 'ĠREUTERS': 44, 'azeera': 44, 'Ġever': 43, 'ĠBloomberg': 43, 'Reuters': 43, 'Ġ86': 42, 'ĠPract': 41, 'ĠMoy': 41}\n",
      "Ġ[+ {'ĠIre': 49, 'æĪ': 48, 'ãĥĺ': 45, 'ews': 44, 'cedented': 43, 'ibli': 43, 'adena': 43, 'ername': 42, 'ĠImp': 42, 'UTERS': 42}\n",
      "make {'Ġjealous': 52, 'Ġhabitable': 46, 'Ġobsolete': 45, 'Ġbelievable': 44, 'Ġpalpable': 43, 'solete': 42, 'Ġpracticable': 42, 'Ġmiserable': 42, 'Ġcontagious': 41, 'cible': 41}\n",
      "---------- {'Ġso': 50, 'Ġwhen': 49, 'Ġmiser': 47, 'Ġvividly': 43, 'Ġcatch': 42, 'ä¸į': 42, 'Ġimper': 42, 'Ġhappily': 42, 'Ġharshly': 42, 'Ġfavorably': 42}\n",
      "_( {'Ġbreeze': 48, 'Sound': 46, 'ĠReuters': 45, 'UTERS': 44, 'Ġhotly': 44, 'Ġvividly': 44, 'ont': 43, 'Ġquickly': 42, 'hot': 42, 'ĠHot': 42}\n",
      "}: {'ĠSO': 47, 'ĠCOURT': 47, 'Ġtempered': 45, 'Ġso': 45, 'ĠSHARES': 44, 'ĠHon': 43, 'Ġnevertheless': 43, 'ĠConversation': 43, 'Ġwee': 42, 'ĠVo': 42}\n",
      "Keeping {'Ġinactive': 49, 'Ġsober': 46, 'ĠFrozen': 44, 'itialized': 44, 'Ġfrozen': 43, 'ĠHidden': 43, 'Ġstagnant': 43, 'Ġunst': 42, 'Ġidle': 42, 'Ġbusy': 42}\n",
      ":[ {'ĠReuters': 45, 'ĠIre': 45, 'ĠEST': 45, 'Via': 45, 'Ġcoinc': 44, 'ĠRarity': 44, 'ĠVia': 44, 'ĠKoen': 43, 'Ġpree': 43, 'ĠSting': 43}\n",
      "Ġdiffers {'Ġradically': 47, 'Ġprofoundly': 47, 'Ġdramatically': 47, 'Ġtremendously': 46, 'Ġdrastically': 43, 'Ġbetween': 42, 'Ġgreatly': 42, 'Ġphysically': 42, 'Ġvastly': 42, 'Ġfavorably': 42}\n",
      "Ġ}); {'Ġpree': 48, 'Ġso': 47, 'Ġwithout': 45, 'Ġnever': 45, 'Ġappre': 43, 'Ġwhoever': 43, 'Ġalways': 43, 'Ġnevertheless': 42, 'Ġcoinc': 42, 'ĠSO': 42}\n",
      "Everybody {'Ġexcept': 50, 'ĠExcept': 47, 'except': 45, 'Except': 44, 'CEPT': 44, 'Ġever': 44, 'ĠBUT': 42, 'ĠEVER': 41, 'Ġbelievable': 41, 'Ġbesides': 41}\n",
      "Ġimpacting {'Ġnegatively': 50, 'Ġpositively': 46, 'Ġmorally': 45, 'Ġenormously': 44, 'Ġdramatically': 43, 'Ġequally': 43, 'Ġfavorably': 43, 'Ġprofoundly': 43, 'Ġharshly': 41, 'Ġupon': 41}\n",
      "ĠChecking {'Against': 51, 'ĠAgainst': 47, 'Ġagainst': 46, 'Ġamongst': 46, 'against': 43, 'aturdays': 43, 'Ġevery': 43, 'Every': 42, 'Ġrepeatedly': 40, 'every': 39}\n",
      "Ġ($ {'ĠReuters': 47, 'regon': 45, 'Ġuntouched': 45, 'MSN': 44, 'Ire': 43, 'Ġalone': 43, 'azeera': 43, 'Ġindependently': 43, 'UTERS': 43, 'ISIS': 43}\n",
      "($ {'ĠReuters': 49, 'azeera': 47, 'regon': 45, 'Ġso': 45, 'omever': 43, 'Ġtimestamp': 42, 'Ġwhoever': 42, 'Reuters': 42, 'ĠUSAF': 42, 'Ġbreeze': 42}\n",
      "Ġ[( {'regon': 46, 'Via': 45, 'Ġprotr': 44, 'arij': 44, 'ĠSpicer': 44, 'ĠCOURT': 44, 'ĠSere': 43, 'imov': 43, 'UTERS': 43, 'digy': 43}\n",
      ">\" {'Ġquickly': 45, 'ĠHelpful': 45, 'Ġcoinc': 45, 'Ġimproperly': 44, 'Ġappre': 43, 'Ġinitially': 43, 'Ġevery': 43, 'ĠSHARES': 43, 'Ġeveryone': 43, 'ĠMish': 43}\n",
      "Ġ(> {'Ġwhoever': 46, 'Ġbreeze': 46, 'ĠKiss': 45, 'Ġprotr': 44, 'Ġsharply': 44, 'Ġcoinc': 44, 'Ġblessings': 43, 'Ġappre': 43, 'Ġskinny': 42, 'ĠReuters': 42}\n",
      "everyone {'Ġexcept': 49, 'ĠExcept': 48, 'except': 47, 'Except': 45, 'CEPT': 45, 'Ġever': 43, 'Ġbesides': 42, 'ĠEVER': 41, 'ĠBUT': 40, 'ĠEver': 39}\n",
      "Ġviolated {'Ġprofoundly': 49, 'Ġmorally': 44, 'orically': 44, 'Ġcreatively': 44, 'Ġenormously': 44, 'Ġrepeatedly': 43, 'Ġfinancially': 43, 'Ġpainfully': 43, 'Ġutterly': 42, 'Ġequally': 42}\n",
      "ĠContinued {'Ġthroughout': 53, 'Ġwithout': 45, 'Ġeven': 45, 'ĠEVEN': 44, 'even': 43, 'ĠWITHOUT': 43, 'ĠThroughout': 43, 'Throughout': 41, 'Ġuntil': 41, 'Ġbeyond': 41}\n",
      "Congratulations {'Ġon': 52, 'ĠON': 48, 'Ġupon': 47, 'ĠOn': 47, 'On': 46, 'upon': 41, 'ĠUpon': 41, 'Upon': 39, 'Ġonto': 39, 'enary': 39}\n",
      "\">< {'ĠSHARES': 48, 'Ġappre': 46, 'Ġcer': 45, 'Ġcoinc': 44, 'ĠReuters': 44, 'ĠRarity': 43, 'gov': 43, 'ĠConn': 42, 'ĠBiden': 41, 'ä¹': 41}\n",
      "Ġoldest {'ĠEver': 49, 'Ġever': 47, 'Ġstill': 46, 'ĠEVER': 45, 'Ġunsolved': 44, 'Ġuntreated': 43, 'Ġuntouched': 41, 'Ġtaxable': 41, 'Ġyet': 41, 'Still': 41}\n",
      "]: {'Ġcool': 46, 'ĠSO': 46, 'Ġtempered': 46, 'ĠPrelude': 44, 'Ġso': 44, 'Ġimmediately': 43, 'ĠEST': 43, 'ews': 42, 'ĠThroughout': 42, 'Ġthroughout': 42}\n",
      "Ġ(_ {'ĠReuters': 48, 'Via': 46, 'ĠVia': 45, 'Reuters': 45, 'azeera': 45, 'regon': 43, 'Ġvia': 42, 'ews': 42, 'UTERS': 41, 'onte': 41}\n",
      "Ġredistributed {'Ġequally': 50, 'Ġthroughout': 45, 'Ġnarrowly': 45, 'Ġaround': 45, 'Ġfrequently': 43, 'Ġfavorably': 43, 'Ġwidely': 42, 'Ġinward': 42, 'Ġalong': 41, 'Ġaccordingly': 41}\n",
      "usercontent {'Ġtill': 50, 'Ġuntil': 49, 'Ġthroughout': 48, 'Ġthrough': 44, 'until': 43, 'Ġduring': 42, 'ĠUntil': 42, 'ĠTill': 41, 'Ġthru': 40, 'Ġwithout': 40}\n",
      "([ {'ĠReuters': 52, 'ĠVia': 48, 'Via': 47, 'ĠREUTERS': 43, 'Reuters': 43, 'UTERS': 43, 'ĠKasich': 41, 'ĠKS': 40, 'ä¹': 40, 'ĠBond': 40}\n",
      "ĠDifferences {'Ġbetween': 52, 'ĠBetween': 47, 'Ġamong': 47, 'ĠAmong': 44, 'between': 44, 'Between': 42, 'ixt': 41, 'Ġdepending': 41, 'Ġagainst': 40, 'among': 40}\n",
      "posure {'Ġduring': 52, 'ĠDuring': 45, 'Ġthrough': 45, 'Ġwhile': 44, 'Ġvia': 43, 'during': 43, 'Ġthru': 42, 'During': 42, 'ĠThrough': 41, 'Ġwhilst': 40}\n",
      "Ġ\"< {'ĠSHARES': 53, 'ĠRarity': 51, 'Ġappre': 44, 'Ġsterling': 43, 'zh': 42, 'NEWS': 41, 'azeera': 41, 'Bloomberg': 41, 'Ġcram': 41, 'Ġdramatic': 40}\n",
      "Ġpercentile {'Ġamong': 53, 'Ġamongst': 52, 'ĠAmong': 45, 'among': 45, 'Among': 41, 'Ġfar': 41, 'Ġwithin': 40, 'Ġhistorically': 40, 'Ġturnout': 40, 'Ġmysteriously': 39}\n",
      ".>> {'ĠReuters': 51, 'ĠREUTERS': 45, 'Bloomberg': 45, 'UTERS': 43, 'Ġappre': 43, 'Ġreads': 42, 'Ġwisely': 42, 'ĠFavor': 42, 'ĠBloomberg': 42, 'Reuters': 42}\n",
      ").[ {'Via': 46, 'ĠEST': 45, 'Ġvia': 45, 'æ°': 45, 'ĠVia': 44, 'cedented': 43, 'Ġsque': 43, 'ĠReuters': 42, 'UTERS': 42, 'orough': 42}\n",
      "Ġterminated {'Ġmorally': 49, 'Ġpoorly': 48, 'Ġutterly': 45, 'Ġmidway': 45, 'atically': 44, 'Ġbadly': 42, 'Ġhalfway': 42, 'Ġprofoundly': 41, 'Ġhorribly': 41, 'Ġharshly': 41}\n",
      "\".[ {'Ġplayable': 45, 'ĠRy': 45, 'ĠEST': 44, 'laughs': 44, 'Ġexcept': 44, 'Ġfl': 43, 'Ġvict': 43, 'Ġmirac': 43, 'Ġple': 43, 'cedented': 43}\n",
      "\"],\" {'gov': 47, 'Ġmeantime': 44, 'Ġpree': 44, 'solete': 43, 'gex': 43, 'roads': 43, 'anwhile': 43, 'ĠRarity': 43, 'Ġeff': 43, 'Until': 42}\n",
      "Ġdeepest {'Ġever': 50, 'ĠEVER': 46, 'ĠEver': 46, 'Ġroadside': 45, 'Ġamong': 44, 'Ġstill': 43, 'Ġyet': 41, 'ankind': 41, 'Ġanyone': 40, 'Ġanywhere': 40}\n",
      "{\\ {'cedented': 47, 'æĪ': 46, 'gov': 45, 'dayName': 44, 'SourceFile': 44, 'ambers': 43, 'azeera': 42, 'Ġuntouched': 42, 'inness': 42, 'Ġcool': 42}\n",
      "Ġdefer {'Ġtill': 52, 'Ġuntil': 49, 'ĠTill': 47, 'Ġtil': 45, 'ĠUntil': 45, 'Until': 44, 'until': 42, 'ĠTil': 39, 'Ġforever': 39, 'Ġindefinitely': 35}\n",
      "protection {'ĠAgainst': 48, 'Ġfrom': 47, 'Ġagainst': 47, 'Against': 46, 'From': 45, 'ĠFrom': 44, 'against': 41, 'ĠFROM': 40, 'Ġduring': 40, 'ĠDuring': 38}\n",
      "accessible {'Ġvia': 50, 'Ġfrom': 44, 'Ġthrough': 44, 'ĠVia': 44, 'Ġimmediately': 44, 'Ġearly': 43, 'Via': 42, 'Ġforever': 42, 'Ġsilently': 42, 'Ġwithout': 42}\n",
      "ĠCompleted {'Ġindependently': 45, 'Ġsimultaneously': 45, 'Ġhonestly': 44, 'Ġpositively': 44, 'Ġwithout': 44, 'Ġvividly': 43, 'Ġpersonally': 43, 'Ġamazingly': 43, 'Ġactively': 42, 'Ġmedically': 42}\n",
      ")[ {'ĠReuters': 46, 'gov': 44, 'Via': 44, 'Ġcoinc': 44, 'ĠVia': 44, 'regon': 43, 'ĠEST': 43, 'Ã¡': 43, 'Ġvia': 42, 'Ġeng': 42}\n",
      "=] {'Ġthereof': 48, 'Ġalone': 45, 'ont': 44, 'Ġwhen': 44, 'ĠIST': 43, 'É': 43, 'ĠWHERE': 43, 'Ġitself': 42, 'Ġwhere': 42, 'å°': 42}\n",
      ",[ {'Via': 48, 'Ġvia': 46, 'ĠVia': 46, 'UTERS': 44, 'ĠReuters': 44, 'ixtures': 44, 'Ã¡': 42, 'Ã¢': 41, 'æ°': 40, 'ĠYorker': 40}\n",
      "Ġuniqueness {'Ġamong': 60, 'Ġamongst': 54, 'among': 51, 'ĠAmong': 49, 'Among': 47, 'Ġwithin': 40, 'Ġamidst': 35, 'ĠWithin': 34, 'within': 34, 'Ġbetween': 32}\n",
      "yssey {'Ġalong': 47, 'Ġthrough': 46, 'Ġthroughout': 46, 'ĠThrough': 45, 'Ġamong': 45, 'Ġacross': 42, 'Ġround': 42, 'Ġpast': 41, 'Through': 41, 'Ġovertime': 41}\n",
      "...) {'Ġevery': 51, 'Ġcoinc': 44, 'Ġmany': 44, 'Ġonce': 43, 'ĠEvery': 43, 'Ġrarely': 43, 'Ġmor': 42, 'ews': 42, 'Ġoften': 42, 'äº': 42}\n",
      "...] {'Ġpree': 46, 'Ġamong': 45, 'ĠEST': 45, 'Ġcoinc': 45, 'Ġso': 45, 'æĪ': 43, 'ĠIST': 42, 'ĠPrelude': 42, 'Ġonce': 42, 'Ġsyn': 42}\n",
      "imentary {'Ġevery': 52, 'ĠEVERY': 46, 'ĠEvery': 44, 'Ġyet': 43, 'every': 43, 'Ġeveryone': 42, 'Ġthoroughly': 42, 'Ġquickly': 41, 'Ġimmediately': 41, 'Ġexpressly': 41}\n",
      "/) {'ont': 45, 'OST': 45, 'ĠOH': 45, 'Ġimmediately': 44, 'ĠAbsolutely': 44, 'Ġcoinc': 43, 'Ġevery': 43, 'absolutely': 42, 'ãĤī': 42, 'gov': 42}\n",
      "------------- {'Ġso': 50, 'Ġwhen': 45, 'Ġimb': 44, 'Ġfortunately': 43, 'Ġvividly': 43, 'ĠInnov': 42, 'gov': 42, 'Ġwee': 42, 'Ġappre': 42, 'Ġidle': 42}\n",
      "Ġ], {'Ġso': 47, 'Ġagain': 47, 'Ġcoinc': 44, 'Ġonce': 43, 'gov': 43, 'Ġevery': 43, 'icker': 42, 'Ġcool': 42, 'Ġfast': 42, 'Ġappre': 42}\n",
      "ometime {'Ġduring': 48, 'Ġbesides': 46, 'Ġnear': 44, 'ĠDuring': 43, 'Ġsince': 43, 'Ġover': 43, 'Ġamidst': 42, 'ĠFallon': 42, 'Ġbetween': 42, 'ĠOver': 42}\n",
      "Nothing {'Ġexcept': 47, 'Ġbesides': 46, 'ĠEVER': 45, 'soever': 44, 'Ġwhis': 43, 'except': 43, 'Ġever': 42, 'esides': 42, 'Except': 42, 'Ġyet': 42}\n",
      "=$ {'ĠRarity': 46, 'ername': 45, 'ongevity': 45, 'cker': 44, 'Ġcer': 43, 'ĠSandy': 43, 'Ġherself': 43, 'Ire': 43, 'Ġwee': 42, 'Ġhimself': 42}\n",
      "ĠChanges {'ĠForever': 46, 'Ġduring': 46, 'Ġsince': 44, 'Ġradically': 44, 'Ġovernight': 43, 'Ġtowards': 43, 'Ġaccordingly': 43, 'Ġforever': 43, 'Ġdramatically': 42, 'ĠDuring': 42}\n",
      "ĠRated {'Ġroadside': 47, 'Ġmerciless': 47, 'redibly': 44, 'Ġamongst': 43, 'Ġby': 43, 'Ġsenseless': 43, 'Ġamong': 42, 'Ġamazingly': 42, 'Ġidle': 42, 'Ġpoorly': 42}\n",
      "Ġ---------------- {'Ġso': 52, 'Ġwhen': 46, 'Ġonce': 44, 'gov': 44, 'ĠSO': 43, 'ĠSo': 42, 'regon': 41, 'pread': 41, 'ãĤŃ': 41, 'ĠSHARES': 40}\n",
      "%\" {'ĠRarity': 45, 'ĠCOURT': 45, 'Ġappre': 45, 'Advertisements': 44, 'ĠSpicer': 43, 'Ġcoinc': 43, 'ĠPew': 43, 'Ġinitially': 42, 'ĠCOUR': 42, 'ĠXer': 42}\n",
      "][ {'ĠReuters': 47, 'ĠEST': 47, 'gov': 45, 'Ġasc': 44, 'UTERS': 43, 'Ġuntouched': 42, 'ĠPrelude': 42, 'ĠAbram': 42, 'regon': 42, 'ĠELE': 41}\n",
      "Ġcirculating {'Ġthroughout': 57, 'Ġamong': 51, 'Ġamongst': 50, 'ĠThroughout': 41, 'Ġaround': 41, 'Ġthrough': 40, 'among': 39, 'Throughout': 39, 'Ġalong': 39, 'Ġbetween': 37}\n",
      "],[ {'ĠVia': 45, 'ĠReuters': 45, 'Ã¡': 44, 'Via': 44, 'ĠYorker': 43, 'Ġvia': 43, 'ĠSandy': 43, 'æĪ': 43, 'Ġidentity': 42, 'ĠRarity': 42}\n",
      "\"} {'Ġso': 46, 'ĠSO': 46, 'Ġever': 43, 'Ġimmediately': 43, 'ĠCOURT': 43, 'Ġappre': 43, 'ĠReuters': 43, 'gov': 42, 'Ġmerit': 42, 'Ġnever': 42}\n",
      "ĠEnhanced {'Ġso': 46, 'Ġcomprehens': 45, 'Ġover': 44, 'ĠOVER': 44, 'Ġbeyond': 44, 'redibly': 43, 'Ġenormously': 43, 'Ġdramatically': 42, 'Ġtremendously': 41, 'Ġgreatly': 40}\n",
      "ĠNothing {'Ġbesides': 48, 'Ġexcept': 47, 'ĠEVER': 45, 'esides': 43, 'except': 43, 'Except': 42, 'Ġever': 42, 'ĠExcept': 41, 'soever': 41, 'Ġyet': 41}\n",
      "Completed {'Ġsimultaneously': 47, 'Ġvividly': 46, 'Ġwithout': 44, 'Ġpersonally': 43, 'Ġindependently': 43, 'Ġbadly': 42, 'Ġduring': 42, 'ĠImmediately': 42, 'Ġduly': 42, 'Ġactively': 41}\n",
      "Ġcontinues {'Ġeven': 47, 'Ġthroughout': 47, 'even': 46, 'ĠEVEN': 45, 'Ġunaffected': 45, 'Even': 43, 'Ġforever': 41, 'ĠEven': 40, 'Ġnonetheless': 40, 'Ġlater': 38}\n",
      "ItemImage {'Ġthrough': 48, 'Ġso': 45, 'Ġthru': 45, 'Ġvia': 44, 'ĠVia': 43, 'Ġfrom': 42, 'Ġincess': 42, 'Ġevery': 42, 'Ġthus': 41, 'ĠThrough': 40}\n",
      "Ġ<+ {'æĪ': 46, 'ĠKislyak': 45, 'ĠRarity': 44, 'ĠITV': 44, 'zh': 43, 'ĠREUTERS': 43, 'ĠReuters': 42, 'azeera': 42, 'Ġsting': 41, 'ãĥĺ': 41}\n",
      "Ġ<!-- {'ĠIST': 46, 'ĠWW': 46, 'ĠWet': 45, 'Until': 44, 'MSN': 44, 'ĠRarity': 43, 'ĠSO': 43, 'Whoever': 42, 'Photos': 41, 'Exactly': 40}\n",
      "oppable {'Ġexcept': 48, 'Ġnonetheless': 47, 'Ġwithout': 45, 'Ġnevertheless': 43, 'except': 42, 'ĠExcept': 42, 'Ġonly': 41, 'Ġgoto': 41, 'Ġimmediately': 41, 'Ġeven': 41}\n",
      "%); {'Ġwee': 44, 'Ġthus': 43, 'Ġso': 43, 'Ġmoreover': 43, 'Ġrecognized': 43, 'ĠHon': 43, 'Ġimmediately': 43, 'erest': 43, 'Ġrecognised': 43, 'Ġuneven': 43}\n",
      "Ġuninterrupted {'Ġduring': 48, 'By': 44, 'Ġwhile': 44, 'Ġby': 43, 'ĠDuring': 43, 'During': 43, 'Ġuntil': 42, 'ĠBy': 42, 'Ġpor': 41, 'ĠBY': 41}\n",
      "-[ {'ĠReuters': 48, 'Via': 46, 'orough': 44, 'ĠVia': 43, 'ĠCodex': 42, 'UTERS': 42, 'Reuters': 42, 'ĠRarity': 41, 'ĠMSNBC': 41, 'ĠREUTERS': 41}\n",
      "keeping {'Ġinactive': 47, 'ĠFrozen': 46, 'Ġfrozen': 45, 'Ġunst': 44, 'Ġbusy': 43, 'Ġsober': 42, 'Ġstagnant': 42, 'Ġlucid': 41, 'ĠHidden': 41, 'Ġhidden': 41}\n",
      "Ġ(( {'ĠYorker': 45, 'ĠReuters': 45, 'ĠISIS': 44, 'ĠCON': 43, 'ĠIST': 43, 'ĠVia': 43, 'Via': 42, 'Ġbreeze': 42, 'Ġwhoever': 42, 'omever': 42}\n",
      ")), {'Ġso': 47, 'Ġcer': 45, 'Ġanswered': 44, 'Ġthus': 43, 'Ġevery': 42, 'Ġimmediately': 42, 'Ġcrown': 42, 'Ġeng': 42, 'Ġmoreover': 42, 'Ġrecognised': 41}\n",
      "Ġdistributor {'Ġamong': 52, 'Ġamongst': 47, 'Ġthroughout': 44, 'Ġacross': 42, 'Near': 42, 'among': 42, 'Ġwidely': 41, 'Ġworldwide': 41, 'ĠNationwide': 40, 'Ġnear': 40}\n",
      "rimination {'Ġagainst': 55, 'ĠAgainst': 51, 'against': 48, 'Against': 46, 'Ġwhen': 43, 'Ġduring': 42, 'Ġtoward': 36, 'Ġtowards': 36, 'ĠDuring': 36, 'ĠAGA': 36}\n",
      ".\") {'ĠOH': 46, 'Ġanswered': 44, 'ĠITS': 44, 'Ġevery': 44, 'Ġcoinc': 43, 'ĠMet': 42, 'Ġthus': 42, 'ĠEST': 42, 'ĠIST': 42, 'Ġwee': 41}\n",
      "Ġreconcil {'Ġherself': 47, 'Ġhimself': 46, 'Ġourselves': 44, 'Ġmyself': 44, 'Ġthemselves': 43, 'Ġyourself': 43, 'Ġitself': 42, 'Ġoneself': 42, 'Ġyourselves': 40, 'ĠYourself': 40}\n",
      "Ġpits {'Against': 56, 'Ġagainst': 55, 'ĠAgainst': 54, 'against': 52, 'Ġcontro': 42, 'Ġcontra': 40, 'ĠContra': 35, 'Ġfeas': 33, 'Ġversus': 32, 'Ġhonestly': 31}\n",
      "Ġheaviest {'Ġever': 48, 'ĠEVER': 48, 'Ġso': 48, 'Ġyet': 45, 'ĠEver': 44, 'Ġanywhere': 43, 'Ġstill': 41, 'Ġamong': 39, 'ĠSO': 37, 'Ġpalpable': 37}\n",
      "porary {'Ġuntil': 52, 'ĠUntil': 45, 'Ġwhile': 44, 'Ġpending': 43, 'Ġtill': 43, 'Ġduring': 42, 'Ġwithout': 41, 'until': 41, 'Until': 41, 'Ġwhilst': 40}\n",
      "[/ {'å°': 46, 'regon': 44, 'cedented': 44, 'gex': 44, 'MSN': 43, 'Roaming': 43, 'laughs': 42, 'userc': 42, 'ĠCitadel': 42, 'gov': 41}\n",
      "continue {'Ġthroughout': 49, 'ĠEVEN': 45, 'Ġeven': 44, 'even': 43, 'ĠThroughout': 43, 'Ġlater': 42, 'ĠLater': 42, 'Even': 42, 'Throughout': 41, 'ĠEven': 39}\n",
      "Ġescaped {'Ġuntreated': 46, 'Ġuntouched': 46, 'Ġmorally': 44, 'Ġunnoticed': 44, 'Ġlightly': 43, 'Ġwithout': 43, 'Ġthrough': 42, 'Ġunaffected': 41, 'ĠWITHOUT': 41, 'Ġprofoundly': 41}\n",
      "ĠForgotten {'Ġuntil': 46, 'Ġamong': 46, 'Ġamongst': 45, 'Ġforever': 45, 'ĠForever': 42, 'Ġamidst': 42, 'Ġamid': 42, 'Ġvividly': 41, 'Ġso': 41, 'ĠEver': 40}\n",
      "discrimination {'Ġagainst': 53, 'ĠAgainst': 52, 'against': 47, 'Against': 46, 'ĠAGA': 42, 'Ġwhen': 41, 'Ġcontra': 39, 'Ġtoward': 37, 'Ġtowards': 37, 'Ġduring': 36}\n",
      "'> {'Ġevery': 45, 'gov': 44, 'æĪ': 44, 'ĠHot': 44, 'Ġwhoever': 43, 'Ġsharply': 43, 'Ġpree': 42, 'Ġregularly': 42, 'Ġnever': 41, 'Ġeveryone': 41}\n",
      "Ġexposure {'Ġduring': 49, 'Ġthrough': 45, 'Ġvia': 44, 'Ġwhile': 43, 'ĠDuring': 42, 'during': 42, 'During': 41, 'ĠThrough': 41, 'Ġthru': 41, 'Ġwhilst': 40}\n",
      "{ {'cedented': 45, 'æĪ': 45, 'dayName': 45, 'gov': 44, 'Ġappe': 43, 'SourceFile': 42, 'ĠSere': 42, 'actionDate': 41, 'Ġsunrise': 41, 'Ġcool': 41}\n",
      "Ġthanked {'Ġgenerously': 46, 'Ġremarkably': 45, 'Ġprofoundly': 44, 'Ġfor': 43, 'Ġtremendously': 43, 'Ġrepeatedly': 42, 'Ġequally': 42, 'Ġvividly': 42, 'Ġoverwhelmingly': 41, 'Ġbitterly': 41}\n",
      "Ġchecked {'Against': 49, 'Ġagainst': 48, 'ĠAgainst': 46, 'Ġamongst': 46, 'against': 44, 'Ġamong': 41, 'Ġbeforehand': 40, 'Ġagain': 40, 'Ġrepeatedly': 38, 'atically': 38}\n",
      "kept {'Ġinactive': 49, 'Ġstagnant': 47, 'Ġfrozen': 44, 'Ġquiet': 44, 'Ġsober': 43, 'Ġidle': 43, 'Ġhidden': 41, 'quiet': 40, 'Ġbusy': 40, 'Ġdormant': 40}\n",
      "Ġchang {'Ġprecon': 48, 'Ġforever': 47, 'ĠForever': 45, 'Ġmutually': 44, 'Ġso': 42, 'Ġaccordingly': 41, 'Ġradically': 41, 'å¥': 41, 'Ġfriendship': 41, 'Ġdrastically': 41}\n",
      "Ġeffected {'Ġharshly': 47, 'Ġcommercially': 45, 'Ġnegatively': 44, 'Ġemotionally': 44, 'Ġmorally': 44, 'Ġautomatically': 42, 'Ġspiritually': 42, 'Ġsimilarly': 41, 'Ġbadly': 41, 'Ġfinancially': 41}\n",
      "Ġcontinuing {'Ġeven': 45, 'ĠEVEN': 45, 'even': 45, 'Ġthroughout': 45, 'Ġuntil': 44, 'Ġnonetheless': 42, 'Even': 41, 'Ġtill': 41, 'Ġnevertheless': 41, 'Ġunaffected': 40}\n",
      "Ġrendering {'pless': 46, 'Ġuseless': 45, 'solete': 44, 'Ġvacant': 43, 'Ġunst': 43, 'Ġincomprehensible': 42, 'Ġworthless': 42, 'seless': 41, 'umsy': 41, 'Ġvisibly': 40}\n",
      "SPONSORED {'edIn': 47, 'Ġbeforehand': 46, 'Ġuntil': 44, 'ĠBY': 43, 'Ġtill': 43, 'Ġbecause': 42, 'BY': 42, 'ĠTill': 41, 'ĠBy': 41, 'Ġduring': 41}\n",
      "Ġ-------------------------------- {'Ġso': 47, 'regon': 47, 'Ġinnoc': 44, 'CRE': 44, 'gov': 43, 'Ã¢': 42, 'sth': 41, 'Ã¡': 40, 'ä½¿': 40, 'Ġidle': 40}\n",
      "\\) {'Ġnever': 45, 'Ġevery': 45, 'Ġrarely': 44, 'Ġwhere': 44, 'ĠIST': 43, 'nered': 42, 'ĠNever': 42, 'ĠNEVER': 41, 'Ġcer': 41, 'ĠWHERE': 41}\n",
      "Ġmodified {'Ġso': 49, 'Ġradically': 45, 'Ġaccordingly': 44, 'Ġmorally': 43, 'Ġalong': 43, 'Ġcomprehens': 41, 'Ġdrastically': 41, 'Ġprofoundly': 41, 'atically': 41, 'Ġgeographically': 41}\n",
      "){ {'æĪ': 48, 'Ġappe': 47, 'Ġso': 44, 'Ġcer': 43, 'ĠSO': 42, 'cedented': 41, 'gov': 41, 'Ġbricks': 41, 'ooks': 40, 'Ġflashback': 40}\n",
      "*/( {'Sound': 45, 'ĠPrelude': 44, 'gov': 44, 'Ġuntouched': 43, 'Ġen': 43, 'Ġsound': 42, 'icker': 42, 'Ġsounds': 42, 'esy': 42, 'ont': 42}\n",
      "Ġ({ {'Ġflashback': 45, 'æĪ': 45, 'gov': 44, 'ĠKiss': 43, 'dayName': 42, 'UTERS': 42, 'Ġimperson': 42, 'ĠBlitz': 42, 'Ġsunrise': 41, 'Ġagain': 41}\n",
      "restricted {'Ġonly': 45, 'Ġmerely': 44, 'Ġwithin': 44, 'Ġmainly': 43, 'ĠONLY': 43, 'Ġmere': 43, 'Ġyourself': 43, 'Ġsimply': 41, 'Ġutterly': 41, 'Ġyourselves': 41}\n",
      "Ġapplicable {'Ġregularly': 46, 'Ġequally': 46, 'Ġfrequently': 45, 'Ġsimultaneously': 43, 'Ġsimilarly': 42, 'Ġcommercially': 42, 'Ġnormally': 42, 'Ġsilently': 42, 'orically': 41, 'Ġpersonally': 40}\n",
      "Ġaffected {'Ġnegatively': 47, 'Ġprofoundly': 45, 'Ġgreatly': 43, 'Ġpositively': 43, 'Ġmorally': 43, 'Ġradically': 42, 'Ġsimilarly': 42, 'Ġtremendously': 42, 'Ġequally': 40, 'Ġcreatively': 40}\n",
      "Ġfragmented {'Ġalong': 48, 'Ġso': 48, 'Ġoverly': 42, 'Ġenormously': 42, 'Ġpoorly': 42, 'Ġbeyond': 41, 'Ġinto': 41, 'Ġprofoundly': 41, 'Ġtoo': 41, 'Ġaround': 41}\n",
      "\"] {'Ġappre': 46, 'ĠSO': 45, 'Ġso': 43, 'Ġwhis': 43, 'ĠJim': 43, 'Ġcoinc': 42, 'Ġstuck': 42, 'gov': 42, 'ĠSere': 41, 'ĠCOURT': 41}\n",
      "Ġkeeping {'ĠFrozen': 45, 'Ġfrozen': 44, 'Ġstagnant': 43, 'Hidden': 43, 'Ġinactive': 43, 'itialized': 42, 'ĠHidden': 42, 'hidden': 42, 'Ġsober': 41, 'Ġbusy': 41}\n",
      "Ġterminating {'Ġpoorly': 49, 'Ġmorally': 45, 'Ġutterly': 44, 'Ġharshly': 43, 'Ġhorribly': 42, 'redibly': 41, 'Ġhalfway': 41, 'Ġmidway': 41, 'atically': 40, 'Ġbadly': 40}\n",
      "_> {'const': 46, 'Ġconst': 45, 'Ġquickly': 45, 'Ġcoinc': 43, 'ĠHon': 42, 'Ġregularly': 42, 'Ġwell': 42, 'ĠConst': 42, 'ĠImmediately': 41, 'ĠWell': 41}\n",
      "Ġ*) {'Ġcer': 46, 'Ġevery': 46, 'ãĤĴ': 44, 'Ġtechnical': 44, 'technical': 43, 'Ġnever': 41, 'Ġalmost': 41, 'uckles': 41, 'Ġuntouched': 41, 'æĪ': 40}\n",
      "></ {'infeld': 46, 'ä¸į': 45, 'Each': 44, 'ĠConn': 43, 'Neill': 42, 'Ġeach': 42, 'Ġevery': 42, 'ĠEach': 41, 'ideshow': 41, 'ĠSHARES': 41}\n",
      "Ġ[' {'Via': 46, 'UTERS': 46, 'gov': 43, 'ĠVia': 43, 'MSN': 43, 'roads': 41, 'ĠStuff': 41, 'onse': 41, 'Ġincom': 41, 'actionDate': 41}\n",
      "ONSORED {'Ġthrough': 44, 'Ġduring': 44, 'BY': 43, 'ĠThrough': 43, 'ĠBY': 43, 'Through': 43, 'ĠBy': 42, 'through': 42, 'ĠINTO': 42, 'Ġbeforehand': 41}\n",
      "Ġ.) {'Ġevery': 49, 'Ġalone': 45, 'ĠEST': 44, 'ĠIST': 43, 'ĠEVERY': 43, 'ĠEvery': 42, 'Ġnever': 41, 'Ġonly': 40, 'Ġrepeatedly': 40, 'Ġwhenever': 40}\n",
      "<< {'ä¹': 50, 'Ire': 46, 'Tar': 42, 'ont': 42, 'ĠLegs': 42, 'Ġesc': 41, 'Ġcram': 41, 'ĠPrelude': 41, 'ĠÅ': 41, 'avascript': 40}\n",
      "Ġdelaying {'Ġforever': 49, 'Ġuntil': 46, 'Ġtill': 43, 'Ġwhile': 43, 'Ġindefinitely': 43, 'ĠForever': 42, 'Ġwhilst': 41, 'Ġawhile': 41, 'ĠUntil': 39, 'until': 39}\n",
      "Ġvaried {'Ġamong': 46, 'Ġbetween': 46, 'ĠBetween': 43, 'Ġamongst': 43, 'Ġalong': 43, 'Ġequally': 42, 'Ġcomprehens': 42, 'Between': 41, 'Along': 40, 'Ġprofoundly': 40}\n",
      "ĠKeep {'ĠFrozen': 46, 'Ġfrozen': 44, 'Hidden': 43, 'ĠHidden': 43, 'Ġstagnant': 42, 'Ġinactive': 42, 'hidden': 42, 'itialized': 42, 'rozen': 41, 'Ġhidden': 40}\n",
      "ources {'Ġbesides': 50, 'Ġamong': 43, 'esides': 43, 'Ġpersonally': 42, 'Ġequally': 42, 'Ġoverly': 42, 'Ġdisproportionately': 42, 'Ġamongst': 41, 'Ġexcept': 41, 'Ġoverfl': 41}\n",
      "Ġaborted {'Ġmidway': 51, 'Ġwhen': 47, 'Ġhalfway': 45, 'Ġbecause': 43, 'Ġwithout': 43, 'Ġbadly': 43, 'Ġprematurely': 41, 'Ġuntil': 39, 'Ġpoorly': 38, 'Ġunless': 37}\n",
      "Ġ?) {'Ġevery': 48, 'ĠIST': 47, 'OST': 43, 'ĠEvery': 41, 'ĠITS': 41, 'ĠEVERY': 41, 'ĠRarity': 41, 'Ġrarely': 41, 'ĠEST': 41, 'Ġabsolutely': 41}\n",
      "Ġdiscriminated {'Ġagainst': 47, 'Ġwhen': 44, 'ĠAgainst': 44, 'Ġfavorably': 43, 'Ġpoorly': 43, 'Ġradically': 42, 'Ġbased': 41, 'Ġharshly': 41, 'Ġbecause': 41, 'against': 40}\n",
      "ĠModified {'Ġso': 53, 'Ġmedically': 44, 'Ġaccordingly': 43, 'Ġradically': 42, 'Ġalong': 42, 'Ġprofoundly': 41, 'Ġsomewhat': 40, 'Ġfavorably': 40, 'Ġmorally': 40, 'Ġafter': 40}\n",
      "Ġdiscrepancies {'Ġamong': 50, 'Ġbetween': 46, 'ĠBetween': 45, 'ĠAmong': 44, 'among': 43, 'Ġamongst': 41, 'Between': 40, 'between': 40, 'Among': 38, 'Ġagainst': 38}\n",
      ")= {'ĠIST': 43, 'Ġwee': 43, 'Ġanswered': 43, 'ĠRarity': 43, 'ĠSHARES': 43, 'azeera': 43, 'Ġcer': 42, 'Ġappre': 42, 'Ġso': 41, 'Ġidle': 41}\n",
      "shapeshifter {'Ġso': 47, 'Ġalong': 45, 'Ġthroughout': 45, 'Ġduring': 45, 'Ġinto': 42, 'Ġnotably': 42, 'Ġevery': 41, 'Ġaccordingly': 40, 'Ġgeographically': 39, 'Ġvividly': 39}\n",
      "Ġinserting {'Ġbetween': 46, 'Ġhere': 45, 'Ġwee': 43, 'between': 43, 'Near': 42, 'Ġso': 42, 'Between': 42, 'Ġinto': 41, 'Ġbefore': 41, 'Ġunderneath': 41}\n",
      "+) {'Ġevery': 47, 'Ġonly': 44, 'Ġalmost': 44, 'æĪ': 43, 'Ġwhere': 42, 'Ġrarely': 41, 'ĠOVER': 41, 'Ġupon': 41, 'Ġmoreover': 41, 'ãģķ': 41}\n",
      "Ġ][ {'Ġpref': 47, 'Ġprest': 45, 'ĠEST': 44, 'gov': 43, 'ĠELE': 41, 'Ã¡': 41, 'Ġincom': 41, 'Ġunchecked': 41, 'ĠConst': 41, 'Ġuntouched': 40}\n",
      "----------- {'Ġso': 49, 'Ġwhen': 46, 'Ġmiser': 45, 'Ġwee': 42, 'Ġimper': 41, 'edIn': 41, 'Ġharshly': 41, 'ä¸į': 40, 'Ġhappily': 40, 'Ġcoinc': 40}\n",
      "Ġindistinguishable {'Ġfrom': 51, 'From': 45, 'Ġwithout': 45, 'from': 42, 'ĠFrom': 42, 'ĠFROM': 41, 'Ġform': 40, 'Ġbefore': 40, 'Ġbeforehand': 40, 'ĠExcept': 40}\n",
      "Ġtranspired {'agically': 44, 'Ġwidely': 44, 'Ġduring': 44, 'Ġwithout': 43, 'Ġconstantly': 42, 'Ġthroughout': 42, 'Ġfrequently': 42, 'Ġnear': 42, 'Ġbefore': 41, 'Ġagain': 41}\n",
      "acted {'Ġduring': 46, 'atically': 43, 'Ġprofessionally': 43, 'Ġbefore': 42, 'Ġso': 42, 'Ġkindly': 42, 'Ġcommonly': 42, 'Ġindependently': 42, 'Ġsilently': 42, 'Ġwhile': 41}\n",
      "ĠCheney {'Ġuntil': 48, 'Ġtill': 47, 'ĠTill': 44, 'ĠUntil': 43, 'until': 42, 'Around': 41, 'Until': 41, 'Ġthroughout': 40, 'ĠAround': 40, 'Ġaround': 39}\n",
      "ourney {'Ġalong': 46, 'Ġthrough': 44, 'Ġtoward': 44, 'Ġtowards': 44, 'Ġthroughout': 42, 'Ġhere': 42, 'Ġthru': 41, 'ĠTowards': 41, 'ĠThrough': 41, 'Ġduring': 40}\n",
      "!] {'Ġalone': 45, 'ĠITS': 45, 'Ġcoinc': 45, 'ĠATF': 43, 'ĠEST': 42, 'ĠOH': 41, 'Ġappre': 41, 'ont': 40, 'itten': 40, 'Ġuntouched': 40}\n",
      "Ġdistributors {'Ġamong': 50, 'Ġthroughout': 48, 'Ġamongst': 44, 'Ġacross': 44, 'among': 41, 'Ġwidely': 41, 'Ġbetween': 39, 'Ġworldwide': 39, 'ĠAcross': 39, 'Ġalong': 39}\n",
      ">> {'ĠReuters': 50, 'Bloomberg': 44, 'ĠBarack': 43, 'ĠBiden': 42, 'Ġme': 41, 'Ġeveryone': 41, 'ĠIre': 41, 'laughs': 41, 'ĠREUTERS': 40, 'ĠBloomberg': 40}\n",
      "ocumented {'Ġvividly': 48, 'Ġcomprehens': 43, 'Ġover': 43, 'redibly': 42, 'Ġthoroughly': 42, 'ĠOVER': 42, 'Ġduring': 42, 'Ġthrough': 41, 'Ġso': 40, 'Ġthru': 40}\n",
      "=\"\" {'ĠReuters': 46, 'ĠSHARES': 45, 'CEPT': 44, 'Ġexcept': 43, 'Reuters': 43, 'ĠRarity': 41, 'ĠREUTERS': 41, 'arah': 41, 'Ġteaser': 40, 'Ġtimestamp': 40}\n",
      "Ġpeaked {'Ġaround': 48, 'Ġat': 47, 'Around': 45, 'Ġnear': 45, 'Ġbefore': 42, 'ĠAround': 42, 'Ġbeside': 39, 'Ġduring': 39, 'around': 38, 'Ġoverwhelmingly': 38}\n",
      "ĠThank {'Ġfor': 46, 'Ġremarkably': 45, 'Ġtremendously': 44, 'Ġprofoundly': 44, 'Ġhorribly': 42, 'Ġterribly': 42, 'Ġamazingly': 42, 'Ġoverwhelmingly': 40, 'Ġshockingly': 39, 'Ġthoroughly': 39}\n",
      "Ġincomplete {'Ġwithout': 50, 'ĠWITHOUT': 44, 'Ġuntil': 44, 'Without': 43, 'without': 42, 'ĠWithout': 42, 'Ġmidday': 40, 'Ġwhen': 40, 'Ġunless': 39, 'ĠUntil': 38}\n",
      "keep {'Ġfrozen': 46, 'ĠFrozen': 44, 'Ġquiet': 43, 'Ġstagnant': 43, 'Ġinactive': 42, 'hidden': 42, 'Ġhidden': 42, 'ĠHidden': 41, 'Hidden': 41, 'rozen': 40}\n",
      "Ġ(Â£ {'azeera': 47, 'éĥ': 43, 'ĠPrelude': 43, 'artney': 42, 'cdn': 42, 'regon': 42, 'Ire': 41, 'SourceFile': 41, 'entle': 41, 'ONDON': 41}\n",
      "gest {'ĠEVER': 53, 'Ġever': 52, 'ĠEver': 51, 'Ġforever': 43, 'Ever': 41, 'Ġso': 38, 'ĠForever': 38, 'Ġthus': 36, 'Ġamong': 35, 'Ġanywhere': 34}\n",
      "Ġyoungest {'ĠEVER': 48, 'Ġever': 48, 'ĠEver': 46, 'Ġyet': 44, 'ankind': 41, 'Ġsporting': 41, 'Ġpracticable': 39, 'redibly': 39, 'Ġso': 39, 'Ġstill': 37}\n",
      "Ġdiscrimination {'Ġagainst': 53, 'ĠAgainst': 52, 'against': 47, 'Against': 46, 'Ġwhen': 41, 'ĠAGA': 38, 'Ġtoward': 37, 'Ġtowards': 36, 'Ġcontra': 36, 'Ġbecause': 36}\n",
      "ĠPremiere {'edIn': 44, 'Near': 44, 'Ġduring': 44, 'Ġhere': 43, 'Ġwhore': 42, 'ĠUSAF': 42, 'Ġatop': 41, 'During': 41, 'ĠNear': 41, 'during': 40}\n",
      "Ġprecautions {'ĠAgainst': 55, 'Ġagainst': 54, 'Against': 52, 'against': 51, 'INST': 37, 'Ġignoring': 36, 'Ġminim': 35, 'Ġcontra': 35, 'Ġminimizing': 34, 'rav': 34}\n",
      "'); {'Ġthus': 44, 'Ġpree': 43, 'Ġso': 43, 'Ġcer': 42, 'Ġvo': 42, 'Ġmoreover': 42, 'Ġanswered': 42, 'Ġwee': 41, 'Ġuntouched': 41, 'Ġwhoever': 41}\n",
      "^{ {'cedented': 44, 'actionDate': 44, 'Ġeff': 43, 'æĪ': 42, 'Ġflashback': 42, 'ĠReal': 42, 'ĠLifetime': 42, 'ĠIST': 41, 'ĠSere': 41, 'ĠSHARES': 41}\n",
      "!-- {'Until': 47, 'ĠWW': 46, 'ĠIST': 43, 'Ġaest': 43, 'ĠSO': 43, 'ĠUntil': 41, 'Ġso': 40, 'Ġnevertheless': 40, 'ĠRarity': 40, 'ĠCitadel': 39}\n",
      "Ġexchanged {'Ġfor': 47, 'Ġbetween': 46, 'ĠBetween': 42, 'Ġamong': 42, 'ĠFOR': 42, 'Ġforever': 41, 'Ġamongst': 41, 'Between': 40, 'Ġagainst': 40, 'for': 40}\n",
      "Ġinterconnected {'Ġvia': 51, 'Via': 46, 'ĠVia': 45, 'Ġthrough': 45, 'via': 44, 'Ġby': 41, 'Ġso': 38, 'ĠThrough': 38, 'Through': 37, 'Ġthru': 36}\n",
      "ailability {'Ġthrough': 47, 'Ġthroughout': 47, 'Ġthru': 45, 'ĠThrough': 44, 'Ġduring': 43, 'Ġvia': 41, 'Through': 40, 'Ġagainst': 39, 'through': 38, 'Ġplugs': 38}\n",
      "ĠIncreased {'Ġenormously': 45, 'ĠFranken': 45, 'ĠOVER': 44, 'Ġover': 44, 'Ġbeyond': 43, 'Ġtremendously': 41, 'Ġdramatically': 41, 'ĠBeyond': 40, 'Ġvastly': 39, 'Ġdrastically': 39}\n",
      "Ġ================= {'Ġso': 46, 'ĠMist': 45, 'Ġwhen': 45, 'Ġwhoever': 43, 'ĠSHARES': 41, 'When': 41, 'æĸ¹': 41, 'ĠIST': 40, 'ĠWHEN': 40, 'ãģª': 40}\n",
      ">: {'gov': 44, 'ĠReuters': 44, 'ĠRarity': 43, 'Reuters': 43, 'Ġvers': 42, 'Ire': 42, 'ĠIre': 41, 'yna': 41, 'Ġme': 41, 'ĠSandy': 41}\n",
      "quartered {'Ġamong': 50, 'Ġnear': 48, 'Near': 46, 'Ġamongst': 45, 'ĠNear': 44, 'among': 40, 'near': 40, 'ĠAmong': 38, 'Ġrepeatedly': 36, 'Ġalong': 36}\n",
      "ĠâĶľâĶĢâĶĢ {'ĠMoose': 47, 'ĠNewsweek': 45, 'ĠRarity': 44, 'ĠReuters': 42, 'ĠBahÃ¡': 42, 'ĠElm': 41, 'ĠAbram': 41, 'Bloomberg': 40, 'ĠASAP': 39, 'ĠSharia': 39}\n",
      ":{ {'æĪ': 46, 'ĠRarity': 44, 'Ġincom': 43, 'Ġpree': 43, 'ĠCharl': 42, 'ĠWE': 41, 'Ġeff': 41, 'ĠMaple': 41, 'ĠSHARES': 40, 'dayName': 40}\n",
      "()); {'Ġso': 46, 'Ġmoreover': 44, 'Ġevery': 43, 'Ġthus': 42, 'Ġvo': 42, 'ĠOH': 42, 'Ġjust': 41, 'Ġwhoever': 41, 'Ġfl': 41, 'Ġfurthermore': 41}\n",
      "Ġtightened {'Ġcomprehens': 46, 'Ġso': 45, 'Ġequally': 43, 'Ġsimultaneously': 42, 'Ġenormously': 42, 'Ġconstantly': 41, 'Ġwee': 41, 'Ġtremendously': 41, 'Ġagain': 41, 'Ġforever': 40}\n",
      "ĠLeaving {'ĠEmpty': 46, 'iless': 43, 'Ġunl': 43, 'Ġunst': 42, 'Ġidle': 42, 'Ġalone': 42, 'Ġuntreated': 42, 'Ġvacant': 42, 'Ġveiled': 41, 'Ġdormant': 40}\n",
      "Make {'Ġjealous': 51, 'Ġpalpable': 43, 'Ġhabitable': 43, 'Ġobsolete': 41, 'Ġreactive': 41, 'Ġbelievable': 41, 'Ġporous': 40, 'solete': 40, 'Ġirresistible': 40, 'Ġcontagious': 40}\n",
      "ĠSomehow {'Ġbesides': 50, 'esides': 48, 'Ġstuck': 42, 'Ġdispro': 41, 'Ġappre': 40, 'Ġalong': 40, 'Ġmisunder': 40, 'Ġstops': 40, 'Ġtranspired': 39, 'Ġspotted': 39}\n",
      "Ġundefeated {'Ġthroughout': 47, 'Ġuntil': 47, 'Ġsince': 44, 'Ġever': 43, 'Ġso': 41, 'Ġduring': 41, 'Ġexcept': 40, 'ĠEVER': 40, 'except': 39, 'Ġunless': 38}\n",
      "Ġkept {'Ġinactive': 47, 'Ġstagnant': 47, 'itialized': 45, 'Ġidle': 43, 'Ġfrozen': 41, 'Ġbusy': 40, 'Ġdormant': 40, 'Ġcloudy': 40, 'Ġquiet': 39, 'Ġsober': 38}\n",
      "Ġparticipated {'Ġdigitally': 44, 'Ġactively': 44, 'Ġpositively': 44, 'Ġobjectively': 43, 'Ġindependently': 42, 'Ġvividly': 42, 'Ġsystematically': 40, 'Ġprofoundly': 40, 'Ġequally': 40, 'agically': 39}\n",
      "</ {'Ġcer': 46, 'Ġeveryone': 43, 'azeera': 43, 'ĠConn': 42, 'ĠSharia': 41, 'Ġevery': 41, 'ĠSHARES': 41, 'everyone': 41, 'Everybody': 40, 'infeld': 40}\n",
      "ambers {'Ġover': 49, 'ĠOVER': 46, 'Ġamong': 43, 'Ġovers': 43, 'Ġsilently': 41, 'ĠOver': 40, 'Ġacross': 40, 'Ġoverl': 40, 'Ġoverlooked': 40, 'Ġbesides': 39}\n",
      "Ġ\"_ {'ĠSandy': 44, 'ĠReuters': 44, 'ĠHits': 43, 'Reuters': 43, 'MSN': 42, 'UTERS': 42, 'ĠHighlander': 41, 'ĠSere': 41, 'cdn': 41, 'ISIS': 40}\n",
      "\"></ {'infeld': 45, 'Ġevery': 44, 'Ġeveryone': 43, 'ä¸į': 43, 'Each': 42, 'ĠEach': 41, 'Every': 41, 'Ġeach': 40, 'ideshow': 40, 'Ġuniformly': 40}\n",
      "Ġsmallest {'Ġever': 45, 'Ġso': 44, 'ĠEVER': 43, 'ankind': 43, 'Ġpracticable': 42, 'ĠEver': 42, 'Ġstill': 41, 'Ġpalpable': 41, 'Ġbelievable': 40, 'Ġundeniably': 40}\n",
      "]( {'ĠReuters': 44, 'ĠIST': 44, 'Ġcram': 43, 'MSN': 42, 'ĠGW': 42, 'ĠNYT': 41, 'Ġuntouched': 41, 'ĠSO': 41, 'Ġwee': 40, 'ĠSHARES': 40}\n",
      "Ġ\"@ {'azeera': 46, 'jah': 43, 'Trivia': 42, 'Ġwhen': 42, 'emporary': 42, 'Reuters': 42, 'sofar': 41, 'Ġwee': 41, 'ĠReuters': 41, 'cedented': 41}\n",
      "Ġenhancements {'Ġbeyond': 46, 'Ġover': 46, 'ĠOVER': 46, 'Ġnotably': 42, 'Ġremarkably': 42, 'Ġoverfl': 40, 'Ġdramatically': 40, 'yond': 39, 'ĠOver': 39, 'Ġduring': 39}\n",
      "------------ {'Ġwhen': 44, 'Ġso': 43, 'ĠInnov': 42, 'Ġcyn': 42, 'Ġimb': 42, 'Ġcatch': 41, 'Ġappre': 41, 'Ġfortunately': 41, 'Ġwee': 41, 'Ġimper': 41}\n",
      "Ġexceeded {'Ġenormously': 49, 'Ġtremendously': 44, 'Ġprofoundly': 43, 'Ġgreatly': 41, 'Ġconsiderably': 41, 'Ġwidely': 41, 'Ġby': 41, 'ĠBY': 40, 'ĠBy': 40, 'Ġrepeatedly': 40}\n",
      "Ġreconcile {'Ġherself': 46, 'Ġhimself': 44, 'Ġmyself': 44, 'Ġyourself': 43, 'Ġthemselves': 42, 'Ġourselves': 42, 'ĠYourself': 41, 'Ġwith': 40, 'Ġitself': 39, 'With': 39}\n",
      "Already {'Before': 49, 'ĠBEFORE': 47, 'Ġbefore': 47, 'ĠBefore': 43, 'Ġunderway': 40, 'Ġwhen': 39, 'before': 39, 'umn': 39, 'During': 39, 'Ġduring': 38}\n",
      "Ġunaffected {'Ġmorally': 44, 'Ġradically': 44, 'except': 43, 'Ġhowever': 43, 'Ġexcept': 43, 'ĠExcept': 41, 'Ġnegatively': 41, 'Ġunless': 41, 'Ġthus': 40, 'Ġprofoundly': 39}\n",
      "Ġpersisted {'Ġthroughout': 54, 'ĠThroughout': 44, 'Ġindefinitely': 43, 'Throughout': 43, 'Ġthrough': 41, 'Ġforever': 40, 'Ġeven': 39, 'Ġunaffected': 39, 'Ġnonetheless': 39, 'even': 38}\n",
      "ĠImprovement {'Ġover': 47, 'ĠOVER': 46, 'ĠOver': 42, 'ĠThrough': 42, 'Ġalong': 42, 'Ġthrough': 42, 'Ġthru': 41, 'Ġbeyond': 41, 'Ġduring': 39, 'Through': 39}\n",
      "Ġincreased {'Ġenormously': 46, 'Ġover': 43, 'Ġbeyond': 43, 'Ġtremendously': 43, 'ĠOVER': 42, 'Ġvastly': 42, 'Ġconsiderably': 41, 'Ġradically': 40, 'Ġdrastically': 40, 'Ġprofoundly': 40}\n",
      ")* {'Ġcer': 44, 'icker': 43, 'omever': 43, 'Ġevery': 42, 'Ġso': 42, 'ont': 41, 'gov': 41, 'ĠPrelude': 41, 'ĠSiri': 41, 'Listener': 41}\n",
      "Ġdistinguishes {'Ġfrom': 51, 'From': 44, 'from': 42, 'Ġmorally': 42, 'ĠFROM': 41, 'ĠFrom': 40, 'Ġform': 40, 'Ġbiologically': 40, 'Ġyourselves': 39, 'Ġsocially': 39}\n",
      "actionDate {'Ġduring': 45, 'Ġbefore': 44, 'Ġearlier': 42, 'Ġ1984': 42, 'Ġyesterday': 42, 'Ġ1893': 41, 'Ġ1974': 41, 'Ġ1976': 41, 'Ġ1889': 41, 'Ġago': 41}\n",
      "Ġsurvives {'Ġuntouched': 49, 'Ġunaffected': 45, 'ternally': 43, 'Ġintact': 43, 'Ġunchanged': 42, 'Ġunst': 41, 'Ġuntreated': 40, 'Ġunnoticed': 39, 'Ġunab': 39, 'Ġmorally': 39}\n",
      "Ġdeteriorated {'Ġover': 45, 'ĠOVER': 45, 'Ġthrough': 43, 'Ġinto': 43, 'Ġgreatly': 43, 'ĠThrough': 40, 'Through': 40, 'Ġpoorly': 40, 'Ġradically': 40, 'Ġalong': 40}\n",
      "Ġaffects {'Ġnegatively': 50, 'Ġpositively': 44, 'Ġharshly': 43, 'Ġtremendously': 43, 'Ġmorally': 42, 'Ġequally': 40, 'Ġdramatically': 39, 'Ġenormously': 39, 'Ġfavorably': 39, 'Ġsimilarly': 39}\n",
      "Ġsegregated {'Ġprofoundly': 43, 'Ġutterly': 43, 'Ġpoorly': 42, 'Ġequally': 42, 'Ġhalfway': 42, 'Ġaccordingly': 42, 'Ġsocially': 42, 'Ġso': 41, 'Ġgeographically': 41, 'Ġmidway': 41}\n",
      "Ġchose {'Ġrandomly': 48, 'Ġamong': 46, 'Ġover': 44, 'ĠOVER': 42, 'Ġamongst': 41, 'Ġbecause': 41, 'Ġoverr': 40, 'Ġwisely': 40, 'Ġinstead': 39, 'Ġdeliberately': 39}\n",
      "Sources {'Ġpersonally': 44, 'Ġregularly': 43, 'Ġaudible': 43, 'Ġdelicate': 43, 'Ġculp': 42, 'Ġwidely': 42, 'Ġmorally': 41, 'Ġcommonly': 41, 'Ġoverly': 41, 'Ġworldly': 40}\n",
      "Ġhardest {'Ġever': 49, 'ĠEver': 47, 'ĠEVER': 46, 'Ġso': 45, 'Ġyet': 40, 'Ever': 39, 'Ġread': 38, 'cipled': 38, 'ĠTru': 38, 'Ġthus': 38}\n",
      "Ġ>< {'Ġcoinc': 48, 'ĠREUTERS': 44, 'ĠSHARES': 42, 'ĠBloomberg': 41, 'ĠSting': 41, 'ĠCONC': 41, 'ĠKasich': 41, 'Bloomberg': 40, 'ĠJoey': 40, 'ĠGMT': 40}\n",
      "Ġ($) {'Reuters': 44, 'Ã¢': 43, 'ĠSHARES': 42, 'CRE': 42, 'MSN': 41, 'ideshow': 41, 'Ġitself': 41, 'Ġsterling': 41, 'ĠReuters': 41, 'ĠMEP': 41}\n",
      "Ġfastest {'Ġso': 48, 'ĠEVER': 45, 'Ġthus': 44, 'Ġever': 43, 'ĠEver': 43, 'Ġwand': 40, 'Ġpalpable': 39, 'ĠTru': 39, 'Ġpeac': 39, 'Ġpracticable': 39}\n",
      "reviewed {'Ġfavorably': 48, 'Ġvividly': 45, 'Ġfinely': 44, 'Ġcomprehens': 43, 'Ġthoroughly': 42, 'Ġclosely': 40, 'Ġidle': 40, 'Ġmorally': 39, 'Ġhonestly': 38, 'Ġamazingly': 38}\n",
      "Change {'ĠForever': 50, 'Ġforever': 46, 'Ġso': 42, 'Ġaccordingly': 42, 'Ġfrom': 41, 'ĠMood': 41, 'ĠINTO': 40, 'agically': 39, 'ĠFROM': 38, 'Ġmid': 38}\n",
      "Ġ'( {'Ġbreeze': 45, 'ixtures': 45, 'cdn': 44, 'Ġindisc': 44, 'ĠPrelude': 42, 'UTERS': 40, 'ĠBL': 40, 'zh': 40, 'Å': 39, 'Ġsn': 39}\n",
      "Ġvaries {'Ġamong': 46, 'Ġbetween': 44, 'ĠBetween': 43, 'Ġalong': 42, 'Ġamongst': 41, 'Ġequally': 41, 'Ġenormously': 41, 'Ġtremendously': 40, 'Between': 40, 'Ġprofoundly': 40}\n",
      "priority {'Ġover': 49, 'Ġduring': 46, 'ĠOVER': 46, 'ĠOver': 44, 'Over': 41, 'ĠDuring': 40, 'Ġonce': 39, 'Ġovercome': 38, 'Ġoverfl': 38, 'During': 37}\n",
      "()) {'Ġevery': 46, 'Ġanswered': 42, 'Ġimmediately': 42, 'Ġso': 41, 'Ġamazing': 41, 'Ġjust': 41, 'ĠOH': 41, 'Ġcoinc': 41, 'Ġever': 41, 'Ġthus': 41}\n",
      "ĠChosen {'Ġrandomly': 46, 'Ġamong': 46, 'Ġbecause': 45, 'Ġaccordingly': 41, 'Ġnonetheless': 40, 'ĠAbram': 40, 'Ġso': 40, 'Ġimproperly': 40, 'Ġnevertheless': 40, 'Ġprivately': 40}\n",
      "Changes {'Ġduring': 44, 'Ġalong': 43, 'Ġovernight': 42, 'ĠAlong': 42, 'ĠDuring': 41, 'ĠForever': 41, 'ĠOVER': 41, 'ĠMidnight': 41, 'Ġover': 41, 'Ġtowards': 40}\n",
      "PDATE {'Ġduring': 46, 'ĠDuring': 44, 'During': 42, 'Ġspotted': 42, 'Ġupon': 42, 'Ġsubtly': 41, 'Ġthroughout': 40, 'Ġafterward': 40, 'Ġever': 40, 'Ġmemory': 40}\n",
      "Ġbegan {'Ġonce': 45, 'Ġimmediately': 44, 'Ġhalfway': 43, 'once': 42, 'mediately': 42, 'Ġunaffected': 41, 'Ġuntreated': 41, 'Ġearly': 40, 'Ġstarving': 40, 'Ġagain': 40}\n",
      "]+ {'Ġcoinc': 44, 'æĪ': 43, 'Ġso': 43, 'Ġsharply': 42, 'ĠPrelude': 42, 'ISIS': 42, 'ultane': 40, 'Ġviews': 40, 'ĠSO': 40, 'ĠReuters': 40}\n",
      "ĠProtect {'ĠAgainst': 50, 'Against': 50, 'From': 44, 'ĠFrom': 43, 'Ġfrom': 42, 'Ġagainst': 41, 'ĠConst': 38, 'against': 37, 'ĠFROM': 37, 'Ġsurg': 35}\n",
      "Ġkeeps {'Ġstagnant': 44, 'Ġfrozen': 44, 'Ġinactive': 44, 'ĠFrozen': 42, 'itialized': 42, 'Hidden': 41, 'ĠHidden': 41, 'hidden': 40, 'rozen': 40, 'Ġhidden': 40}\n",
      "Missing {'Ġpainfully': 48, 'Ġvividly': 45, 'ribly': 44, 'redibly': 43, 'Ġprofoundly': 41, 'Ġutterly': 39, 'Ġneatly': 39, 'Ġhorribly': 39, 'Ġthoroughly': 39, 'Ġpolitely': 38}\n",
      "Ġswung {'Ġagainst': 45, 'Ġtowards': 45, 'redibly': 42, 'against': 42, 'Against': 41, 'Ġbackwards': 41, 'ĠAgainst': 41, 'ĠTowards': 40, 'Ġtoward': 40, 'Ġradically': 40}\n",
      "Ġculminated {'Ġvividly': 50, 'Ġhotly': 44, 'Ġmidway': 43, 'Ġnear': 43, 'Ġhalfway': 42, 'Ġwonderfully': 40, 'Ġpoorly': 40, 'Ġtragically': 39, 'akespe': 38, 'Ġbadly': 38}\n",
      "Ġbillionaire {'Ġbesides': 47, 'Ġthroughout': 45, 'Ġoverfl': 45, 'esides': 43, 'Ġroadside': 41, 'Ġoverpower': 40, 'Ġimmediately': 40, 'Ġoutside': 39, 'Ġcombat': 39, 'Ġnonetheless': 38}\n",
      "Ġmake {'Ġjealous': 52, 'Ġpalpable': 43, 'Ġhabitable': 43, 'Ġirresistible': 41, 'Ġobsolete': 41, 'Ġmiserable': 40, 'Ġbelievable': 40, 'Ġcontagious': 39, 'Ġconspicuous': 39, 'solete': 39}\n",
      "Ġconflicted {'Ġamong': 47, 'Ġprofoundly': 42, 'Ġconcerning': 42, 'Ġyourselves': 42, 'Ġbetween': 42, 'Ġamongst': 41, 'Ġmorally': 41, 'ĠBetween': 41, 'among': 40, 'Ġequally': 39}\n",
      "ĠMORE {'ĠThan': 50, 'Ġdan': 46, 'Ġthen': 45, 'ĠThen': 40, 'than': 40, 'Ġthan': 40, 'Then': 40, 'Ġtan': 39, 'Ġevery': 38, 'tan': 38}\n",
      "ĠLocated {'Near': 48, 'ĠNear': 44, 'Ġroadside': 43, 'Ġnear': 43, 'Ġbeside': 42, 'Ġwee': 40, 'Ġsocially': 40, 'Ġremotely': 39, 'Ġamongst': 39, 'Ġbetween': 39}\n",
      ")). {'Ġthus': 48, 'Ġso': 47, 'Ġanswered': 42, 'Ġmoreover': 41, 'Ġroadside': 41, 'Ġwee': 40, 'Ġnevertheless': 40, 'Ġlikewise': 39, 'ĠSO': 39, 'Reuters': 39}\n",
      "orest {'Ġsurvive': 43, 'Ġperenn': 43, 'Ġuntil': 42, 'Ġwithout': 42, 'Ġthroughout': 42, 'Ġever': 41, 'Ġpaycheck': 41, 'Ġtill': 41, 'Ġerase': 40, 'Ġexcuse': 40}\n",
      "edIn {'Ġuncons': 43, 'Ġsufficiently': 42, 'Ġpoorly': 42, 'Ġmiser': 42, 'Ġmidrange': 42, 'Ġfasting': 42, 'Ġunsuccessfully': 41, 'Ġpeacefully': 41, 'Ġwell': 41, 'Ġinactive': 40}\n",
      "ĠEverything {'Ġexcept': 46, 'ĠExcept': 45, 'Except': 44, 'Ġexce': 42, 'Ġbesides': 42, 'except': 40, 'ĠEVER': 40, 'Ġever': 39, 'Ġeats': 39, 'esides': 38}\n",
      "-------------------------------- {'Ġimb': 44, 'Ġfortunately': 43, 'ĠCert': 42, 'Ġevery': 42, 'Ġwhen': 41, 'gov': 41, 'Ġcred': 41, 'Cert': 40, 'Ġso': 40, 'Ġthus': 40}\n",
      "Ġmanifested {'Ġvividly': 44, 'Ġhonestly': 44, 'Ġharshly': 43, 'Ġmorally': 42, 'Ġobjectively': 42, 'Ġalone': 40, 'orically': 40, 'Ġfavorably': 40, 'Ġdigitally': 40, 'Ġphysically': 40}\n",
      ":] {'Ġcoinc': 46, 'ĠEST': 42, 'ĠIST': 42, 'ĠSO': 42, 'Ġwee': 41, 'ĠSHARES': 41, 'Ġthereof': 41, 'Ġpree': 40, 'Ġso': 40, 'Ġeng': 40}\n",
      "Thanks {'Ġfor': 46, 'Ġnevertheless': 45, 'Ġprofoundly': 43, 'Ġforever': 42, 'Ġbut': 42, 'for': 41, 'Ġnonetheless': 40, 'Ġgreatly': 39, 'Ġmasters': 39, 'Ġpour': 38}\n",
      "highest {'Ġever': 47, 'ĠEVER': 45, 'Ġso': 45, 'ĠEver': 41, 'Ġamong': 41, 'Ġvisibly': 41, 'Ġthus': 40, 'Ġanywhere': 39, 'Ġpalpable': 38, 'Ġhonestly': 38}\n",
      "Ġbegins {'Ġimmediately': 44, 'Ġhalfway': 44, 'Ġonce': 43, 'Ġmidway': 42, 'mediately': 42, 'once': 41, 'Ġmidday': 41, 'Ġunbeaten': 40, 'Ġnowhere': 40, 'Ġagain': 39}\n",
      "ĠIntegrated {'Ġinto': 49, 'ĠInto': 47, 'ĠINTO': 44, 'Ġso': 42, 'Ġonto': 41, 'Ġcomprehens': 41, 'Ġthoroughly': 41, 'Through': 38, 'into': 37, 'Ġalong': 37}\n",
      "Ġunsustainable {'Ġunless': 46, 'Ġwithout': 46, 'Unless': 43, 'Ġuntil': 41, 'Ġwhen': 41, 'Without': 40, 'unless': 40, 'ĠWithout': 40, 'ĠWITHOUT': 39, 'without': 39}\n",
      "Ġ<< {'ä¹': 48, 'ĠÅ': 42, 'ĠOtherwise': 42, 'Tar': 41, 'Å': 41, 'Ire': 41, 'Otherwise': 41, 'Exactly': 40, 'ont': 40, 'Ġesc': 40}\n",
      "Ġunprotected {'ĠAgainst': 50, 'Against': 49, 'Ġagainst': 49, 'against': 44, 'Ġexcept': 39, 'Ġby': 38, 'ught': 37, 'Ġunless': 37, 'except': 36, 'Ġuntil': 36}\n",
      "''; {'Ġover': 44, 'Ġovers': 44, 'ĠOVER': 44, 'ĠSpicer': 41, 'Ġwithout': 41, 'Ġoverflow': 41, 'ĠReuters': 40, 'Ġwell': 40, 'Ġquickly': 40, 'Ġalas': 40}\n",
      "ĠEverybody {'Ġexcept': 48, 'ĠExcept': 45, 'except': 44, 'Except': 44, 'CEPT': 42, 'Ġbesides': 40, 'ĠBUT': 38, 'Ġever': 38, 'Ġeven': 38, 'ĠEVEN': 37}\n",
      "Ġ< {'ĠRarity': 46, 'ĠSHARES': 45, 'gov': 42, 'Ġcer': 41, 'ĠSting': 41, 'ĠSandy': 41, 'Ġalone': 40, 'ĠKH': 40, 'ĠIRC': 40, 'ĠEP': 40}\n",
      "Ġ); {'Ġso': 45, 'Ġthus': 42, 'Ġvo': 42, 'Ġcoinc': 41, 'Ġmoreover': 41, 'Ġpree': 41, 'Ġcer': 41, 'Ġappre': 41, 'Ġanswered': 41, 'ĠHon': 40}\n",
      "[] {'CEPT': 44, 'Except': 43, 'Ġexcept': 42, 'å°': 42, 'Ġappre': 42, 'Ġpref': 41, 'ĠUSAF': 41, 'ĠMEP': 40, 'æĸ¹': 40, 'ĠExcept': 40}\n",
      "Ġ]; {'æĪ': 44, 'Ġso': 43, 'Ġagain': 43, 'Ġcoinc': 42, 'Ġfast': 42, 'ĠReuters': 42, 'Ġappre': 41, 'Ġpree': 40, 'Ġever': 40, 'Ġcool': 39}\n",
      "aundering {'Ġthroughout': 46, 'Ġthru': 46, 'Ġthrough': 46, 'ĠThrough': 45, 'Ġalong': 41, 'Through': 40, 'Ġtrough': 38, 'Ġduring': 38, 'through': 38, 'Ġsince': 37}\n",
      "Favorite {'ĠEver': 45, 'Ġso': 43, 'Ġever': 43, 'Ġduring': 42, 'ĠEVER': 42, 'Ġroadside': 41, 'Ġamong': 41, 'Ever': 39, 'ankind': 39, 'Ġbesides': 39}\n",
      "Ġaltered {'Ġso': 45, 'Ġprofoundly': 43, 'Ġradically': 43, 'Ġdramatically': 43, 'Ġdrastically': 41, 'Ġaccordingly': 41, 'Ġdynamically': 40, 'Ġcomprehens': 40, 'Ġsignificantly': 40, 'Ġfrom': 38}\n",
      "ĠPreferred {'Ġover': 50, 'ĠOVER': 44, 'Ġbecause': 44, 'Ġovers': 42, 'Ġoverhe': 40, 'ĠOver': 40, 'Ġthen': 40, 'Over': 38, 'Ġnonetheless': 38, 'Ġever': 38}\n",
      "Ġcontinue {'Ġthroughout': 48, 'Ġeven': 44, 'ĠEVEN': 43, 'even': 42, 'Ġunaffected': 41, 'Even': 41, 'Ġlater': 40, 'ĠThroughout': 39, 'Ġforever': 39, 'Throughout': 38}\n",
      "\"); {'Ġanswered': 42, 'Ġwee': 42, 'ĠOH': 42, 'Ġcer': 42, 'Ġvo': 41, 'nered': 41, 'Ġmoreover': 41, 'Ġso': 41, 'Ġspotted': 41, 'Ġrecognized': 40}\n",
      "Ġunsolved {'Ġwithout': 48, 'ĠWithout': 42, 'Ġunless': 42, 'ĠWITHOUT': 42, 'Ġtechnically': 41, 'Ġlawfully': 41, 'Ġexcept': 40, 'Ġpractically': 40, 'Ġresponsibly': 40, 'Ġautomatically': 40}\n",
      "adjusted {'Ġso': 51, 'Ġaccordingly': 44, 'Ġmorally': 44, 'Ġequally': 42, 'Ġmutually': 40, 'Ġalike': 40, 'Ġsimilarly': 39, 'Ġinward': 39, 'Ġforever': 37, 'Ġenormously': 37}\n",
      "Ġdiscriminate {'Ġagainst': 48, 'ĠAgainst': 47, 'against': 43, 'Against': 43, 'Ġwhen': 42, 'Ġbased': 41, 'Ġharshly': 38, 'Ġsocially': 38, 'Ġbetween': 37, 'Ġfavorably': 36}\n",
      "Ġ--------- {'Ġso': 46, 'Ġimb': 44, 'Ġcool': 42, 'Ġimper': 41, 'Ġidle': 41, 'Ġtimely': 40, 'Ġroadside': 40, 'Ġwhen': 40, 'comed': 40, 'Ġrapidly': 40}\n",
      "Ġearliest {'Ġbelievable': 47, 'Ġpalpable': 46, 'Ġever': 41, 'Ġnewcomer': 41, 'Ġconcess': 41, 'Ġpracticable': 40, 'cipled': 40, 'Ġyet': 40, 'Ġanywhere': 40, 'Ġnewcomers': 39}\n",
      "everything {'Ġexcept': 47, 'ĠExcept': 45, 'Except': 44, 'Ġbesides': 44, 'except': 41, 'Ġexce': 40, 'ĠEVER': 39, 'esides': 38, 'Ġeats': 38, 'Ġever': 38}\n",
      "Ġprogressed {'Ġtowards': 46, 'Ġalong': 44, 'Ġthrough': 42, 'Ġtoward': 42, 'Ġpast': 41, 'Ġbeyond': 40, 'ĠThrough': 40, 'ĠTowards': 39, 'Ġthru': 39, 'orically': 39}\n",
      "ĠShared {'Ġamongst': 50, 'Ġamong': 50, 'Ġbetween': 44, 'among': 42, 'Between': 41, 'ĠBetween': 41, 'between': 39, 'ĠAmong': 36, 'Ġequally': 36, 'Ġacross': 35}\n",
      "iest {'ĠEVER': 48, 'ĠEver': 47, 'Ġever': 46, 'Ġforever': 41, 'Ġyet': 41, 'Ġso': 39, 'Ġanywhere': 39, 'Ever': 39, 'ĠForever': 38, 'Ġpending': 37}\n",
      "Ġ</ {'Ġeveryone': 43, 'Ġevery': 42, 'Everybody': 41, 'ãĥĺ': 41, 'Ġhim': 41, 'å°': 41, 'ideshow': 41, 'Ġcer': 41, 'ĠMicha': 41, 'Ġhimself': 41}\n",
      "Ġenclave {'Ġamong': 45, 'Near': 45, 'Ġnear': 45, 'Ġamongst': 41, 'ĠNear': 41, 'ĠInside': 40, 'Ġhere': 40, 'Ġinside': 40, 'Ġunderneath': 39, 'Ġwithin': 38}\n",
      "urized {'Ġso': 45, 'Ġmedically': 43, 'Ġbadly': 43, 'Ġcomprehens': 42, 'Ġaccordingly': 41, 'Ġmorally': 41, 'Ġagain': 39, 'Ġfavorably': 39, 'Ġcommercially': 39, 'Ġhonestly': 38}\n",
      "Ġdistinguished {'Ġfrom': 50, 'From': 42, 'Ġamong': 42, 'Ġamongst': 42, 'ĠFROM': 41, 'from': 40, 'ĠFrom': 40, 'atically': 39, 'Ġhistorically': 39, 'Ġmorally': 38}\n",
      "\"}, {'Ġso': 45, 'Ġwhoever': 42, 'Ġquickly': 41, 'Ġagain': 41, 'Ġevery': 41, 'gov': 41, 'ĠSO': 41, 'Ġwee': 40, 'Ġnever': 40, 'Ġeng': 40}\n",
      "ĠThousand {'Ġalone': 44, 'Ġinitially': 42, 'Ġprofoundly': 42, 'Ġroadside': 41, 'Ġterribly': 41, 'Ġhistorically': 41, 'ĠImmediately': 41, 'Ġautomatically': 40, 'Ġcommonly': 40, 'Ġpersonally': 40}\n",
      "ĠWrath {'Ġagainst': 49, 'ĠAgainst': 48, 'Against': 46, 'against': 41, 'ĠTowards': 39, 'Ġinward': 39, 'Ġduring': 38, 'Ġequally': 38, 'Ġoutward': 37, 'Ġregularly': 37}\n",
      "Ġselective {'Ġamong': 50, 'Ġamongst': 47, 'ĠAmong': 46, 'among': 46, 'Among': 43, 'Ġbased': 39, 'Ġnonetheless': 38, 'Ġnevertheless': 35, 'Ġbecause': 35, 'Ġso': 34}\n",
      "Available {'Ġfreely': 47, 'Ġcheaply': 45, 'Ġregularly': 42, 'Ġinexpensive': 42, 'Ġcheap': 41, 'Ġroadside': 40, 'Ġthru': 40, 'Ġthroughout': 40, 'Ġthrough': 39, 'Ġcommercially': 38}\n",
      "Ġsurvived {'Ġuntouched': 48, 'Ġunnoticed': 42, 'Ġunaffected': 42, 'Ġuntreated': 41, 'ternally': 41, 'Ġunst': 41, 'Ġunchanged': 40, 'Ġpeacefully': 40, 'Ġunchecked': 39, 'Ġwithout': 39}\n",
      "ĠDestroyer {'Ġwee': 47, 'Ġduring': 43, 'Ġsubtly': 42, 'Ġvisibly': 42, 'Ġwaterways': 41, 'Ġtimely': 41, 'redibly': 40, 'Ġthrough': 39, 'ĠThrough': 39, 'Ġvascular': 39}\n",
      "ĠPreservation {'ĠThrough': 47, 'Ġthru': 44, 'Through': 44, 'Ġthrough': 43, 'Ġduring': 41, 'ĠDuring': 41, 'Ġuntil': 40, 'During': 39, 'Ġthroughout': 38, 'ĠUntil': 37}\n",
      "ĠConverted {'Ġinto': 50, 'ĠINTO': 46, 'ĠInto': 46, 'into': 43, 'Ġso': 41, 'ĠDane': 39, 'Ġbetween': 38, 'Ġagain': 36, 'Ġusing': 36, 'Ġcurrency': 36}\n",
      "allowed {'Ġwithout': 45, 'Ġuntouched': 43, 'Ġsway': 43, 'Ġunrestricted': 41, 'Ġroadside': 41, 'Ġrefuel': 40, 'Ġunchecked': 40, 'Ġbreathe': 40, 'Ġuntold': 39, 'Ġuntreated': 39}\n",
      "Ġalienated {'Ġprofoundly': 49, 'Ġmorally': 44, 'Ġby': 42, 'Ġtremendously': 41, 'Ġradically': 41, 'Ġsocially': 41, 'Ġimmensely': 39, 'Ġmutually': 38, 'Ġcreatively': 38, 'By': 38}\n",
      "Ġindirectly {'Ġthrough': 48, 'Ġvia': 46, 'Ġthru': 45, 'ĠThrough': 44, 'Through': 41, 'Via': 41, 'ĠVia': 40, 'through': 37, 'regon': 36, 'Ġso': 34}\n",
      "Nobody {'Ġever': 43, 'Ġbesides': 43, 'ĠEVER': 43, 'Ġexcept': 43, 'except': 42, 'Ġanymore': 40, 'CEPT': 40, 'ĠEver': 40, 'ĠExcept': 39, 'soever': 39}\n",
      "Ġprotecting {'Against': 47, 'ĠAgainst': 46, 'From': 44, 'Ġfrom': 43, 'Ġagainst': 42, 'ĠFrom': 41, 'against': 39, 'Ġform': 37, 'ĠFROM': 36, 'from': 35}\n",
      "ĠAmendments {'Ġduring': 44, 'Ġthereto': 44, 'ĠConst': 43, 'ĠDuring': 42, 'Ġtowards': 42, 'Ġaccordingly': 41, 'ĠMoose': 40, 'During': 40, 'Ġwhen': 39, 'ĠIncluded': 38}\n",
      "Ġgradual {'Ġuntil': 51, 'Ġtill': 46, 'Until': 44, 'until': 44, 'ĠUntil': 44, 'Ġwhilst': 39, 'Ġwhile': 38, 'ĠTill': 36, 'Ġduring': 36, 'ews': 33}\n",
      "Ġadvantages {'ĠOVER': 50, 'Ġover': 50, 'ĠOver': 45, 'OVER': 44, 'Over': 44, 'over': 39, 'Ġinclude': 39, 'Ġoverr': 34, 'Ġoverfl': 33, 'Ġovers': 33}\n",
      "Ġelapsed {'Ġwithout': 51, 'Ġsince': 45, 'without': 43, 'ĠWITHOUT': 42, 'Ġwhile': 42, 'since': 40, 'Ġwhilst': 38, 'Without': 38, 'ĠWithout': 37, 'Ġbefore': 35}\n",
      "Ġenjoyed {'Ġequally': 48, 'Ġimmensely': 48, 'Ġprofoundly': 44, 'Ġtremendously': 42, 'Ġsimultaneously': 41, 'Ġenormously': 40, 'Ġso': 37, 'Ġwidely': 37, 'Ġwhile': 37, 'Ġthoroughly': 36}\n",
      "Ġexposures {'Ġduring': 47, 'Ġthrough': 46, 'Ġvia': 45, 'Ġthru': 42, 'ĠThrough': 41, 'during': 40, 'ĠDuring': 39, 'Ġwhile': 38, 'During': 37, 'Ġto': 37}\n",
      "Ġreusable {'Ġwhenever': 44, 'Ġuntil': 43, 'Ġevery': 42, 'Ġwithout': 42, 'Ġforever': 42, 'Ġthroughout': 42, 'Ġeveryday': 40, 'Ġanytime': 39, 'Ġregularly': 39, 'Ġper': 38}\n",
      "\") {'Ġanswered': 43, 'ĠCOURT': 42, 'Ġthus': 41, 'Ġimmediately': 41, 'Ġnever': 41, 'Ġrarely': 41, 'ĠOH': 41, 'Ġcoinc': 41, 'Ġseen': 41, 'Ġjust': 41}\n",
      ";;;;;;;;;;;; {'Ġso': 47, 'ĠSO': 44, 'Ġwhist': 42, 'ãģĤ': 42, 'ĠConst': 41, 'chal': 40, 'ĠSo': 39, 'ãĥĥ': 39, 'ĠBRE': 38, 'Ġprest': 38}\n",
      "Ġ{: {'Ġturnout': 44, 'gov': 42, 'ĠIST': 42, 'SourceFile': 42, 'Ġmiser': 41, 'cedented': 41, 'ĠCOURT': 40, 'æĪ': 40, 'ĠCommons': 40, 'Ġsweater': 39}\n",
      "Ġ\"+ {'Ġsharply': 45, 'Ġrapidly': 41, 'ĠReuters': 41, 'Ġregularly': 41, 'Ġdramatically': 41, 'Ġsincerely': 41, 'Ġquickly': 41, 'ews': 40, 'ĠRarity': 40, 'Ire': 40}\n",
      "Ġunidentified {'Ġamong': 47, 'Ġamongst': 47, 'Ġamidst': 42, 'Ġbeforehand': 41, 'Ġobjectively': 41, 'ught': 40, 'among': 40, 'Ġduring': 38, 'Ġequally': 38, 'Ġnationally': 37}\n",
      "}, {'Ġso': 44, 'Ġnevertheless': 43, 'Ġwee': 41, 'Ġcer': 41, 'Ġwhoever': 41, 'Ġevery': 41, 'Ġimmediately': 40, 'Ġbalance': 40, 'gov': 40, 'ĠRarity': 39}\n",
      "Ġprotections {'Ġagainst': 47, 'ĠAgainst': 47, 'Ġfrom': 44, 'Against': 43, 'against': 43, 'Ġduring': 40, 'ĠFROM': 37, 'Ġaest': 37, 'Ġform': 36, 'ĠFrom': 36}\n",
      "ãĢĲ {'æĪ': 43, 'ĠAbram': 43, 'UTERS': 43, 'ĠReuters': 42, 'ĠEST': 41, 'ĠMeadows': 40, 'Roaming': 40, 'gov': 40, 'ĠOVER': 40, 'Ġwee': 40}\n",
      "derived {'Ġsilently': 46, 'Ġthrough': 45, 'Ġobjectively': 42, 'Ġthru': 41, 'ĠThrough': 40, 'Ġvia': 40, 'Through': 40, 'atically': 40, 'ĠVia': 39, 'Ġautomatically': 38}\n",
      "ĠCoalition {'Against': 47, 'Ġagainst': 47, 'ĠAgainst': 46, 'against': 42, 'Ġamong': 40, 'Near': 39, 'Ġfor': 38, 'ĠFOR': 38, 'Ġfore': 38, 'éĥ': 37}\n",
      "ĳå£« {'Ġuntil': 45, 'Ġwhis': 44, 'Ġso': 44, 'Ġuntouched': 42, 'Ġdocks': 40, 'Ġrecognised': 39, 'Ġnearby': 39, 'Ġdock': 39, 'ĠMÃ©': 39, 'Ġexcept': 38}\n",
      "thank {'Ġfor': 47, 'Ġremarkably': 45, 'for': 41, 'Ġprofoundly': 41, 'Ġtremendously': 40, 'ĠFOR': 40, 'Ġwisely': 39, 'Ġforever': 39, 'Ġthoroughly': 39, 'Ġbitterly': 38}\n",
      "itored {'Ġthroughout': 42, 'Ġthrough': 42, 'ĠReuters': 41, 'Ġthoroughly': 41, 'Ġever': 41, 'Ġduring': 41, 'ĠThrough': 41, 'Ġexcessively': 41, 'Ġobjectively': 40, 'Ġsimultaneously': 40}\n",
      "]; {'ĠReuters': 43, 'Ġso': 43, 'adena': 42, 'Ġcf': 41, 'Ġalternating': 41, 'Ġmoreover': 41, 'Ġcoinc': 40, 'Ġcer': 40, 'ĠSandy': 40, 'Ġappre': 40}\n",
      "modified {'Ġso': 49, 'Ġalong': 43, 'Ġaccordingly': 42, 'Ġmedically': 40, 'atically': 40, 'Ġhalfway': 40, 'Ġhowever': 40, 'Ġmorally': 39, 'Ġby': 39, 'Ġonce': 39}\n",
      "ĠRevenge {'Against': 45, 'ĠAgainst': 45, 'Ġagainst': 44, 'Ġupon': 44, 'ĠUpon': 42, 'against': 40, 'Ġon': 39, 'ĠOn': 37, 'On': 37, 'Upon': 37}\n",
      "Ġdistributed {'Ġamong': 45, 'Ġequally': 45, 'Ġamongst': 43, 'Ġevenly': 41, 'Ġthroughout': 40, 'Ġwidely': 40, 'Ġalong': 39, 'among': 39, 'Ġharshly': 39, 'Ġacross': 39}\n",
      "Ġ[* {'gov': 45, 'ĠReuters': 44, 'Reuters': 43, 'ĠAbram': 41, 'MSN': 41, 'ĠYorker': 40, 'ĠRarity': 40, 'UTERS': 40, 'azeera': 38, 'ĠIre': 38}\n",
      "]\" {'Ġcoinc': 46, 'Ġpree': 42, 'ĠCOURT': 42, 'Ġevery': 41, 'Ġappre': 41, 'ĠReuters': 40, 'Ġviews': 40, 'Ġanswered': 40, 'ĠCOUR': 40, 'Ġcyn': 38}\n",
      "displayText {'Ġduring': 45, 'Ġthrough': 44, 'Ġin': 42, 'Ġbefore': 41, 'ĠAmazing': 40, 'ĠIN': 40, 'Ġevery': 40, 'ĠAssist': 40, 'Ġso': 39, 'ĠBEFORE': 39}\n",
      "Ġtweaked {'Ġaccordingly': 44, 'Ġso': 42, 'Ġconsiderably': 41, 'Ġdramatically': 41, 'Ġmutually': 41, 'Ġprofoundly': 41, 'atically': 40, 'Ġtremendously': 40, 'Ġgreatly': 40, 'Ġsignificantly': 40}\n",
      "Ġunbeaten {'Ġthroughout': 49, 'Ġever': 45, 'ĠEVER': 45, 'Ġuntil': 43, 'ĠEver': 41, 'Ġexcept': 41, 'except': 39, 'Ġsince': 37, 'CEPT': 35, 'Ġamongst': 35}\n",
      "Ġprotection {'ĠAgainst': 49, 'Against': 48, 'Ġagainst': 47, 'against': 43, 'Ġfrom': 41, 'From': 39, 'ĠFrom': 38, 'Ġduring': 36, 'Ġcontra': 35, 'Ġform': 35}\n",
      "inguished {'Ġforever': 46, 'Ġfrom': 44, 'Ġby': 43, 'atically': 41, 'Ġthereby': 40, 'Ġthrough': 40, 'Ġvividly': 40, 'Ġthroughout': 39, 'Ġthus': 39, 'Ġhistorically': 39}\n",
      "ĠDirectorate {'ĠThrough': 43, 'ĠVia': 42, 'ĠIgn': 42, 'ĠBusiness': 42, 'riminal': 41, 'Through': 40, 'Ġmorally': 40, 'Ġspiritually': 40, 'ĠCriminal': 39, 'ĠBrend': 39}\n",
      "Ġ================================= {'Ġso': 52, 'Ġwhen': 41, 'Ġthus': 41, 'MSN': 40, 'Ùİ': 40, 'Ġprofoundly': 40, 'pread': 39, 'ä½¿': 39, 'ĠAIDS': 39, 'Ġfavorably': 39}\n",
      "ĠIncreases {'ĠOVER': 45, 'Ġenormously': 44, 'Ġover': 43, 'Ġbeyond': 42, 'ĠOver': 40, 'ĠFranken': 40, 'Ġdramatically': 40, 'Ġtremendously': 39, 'Ġvastly': 38, 'ĠBeyond': 38}\n",
      "Ġwealthiest {'ankind': 46, 'Ġthus': 44, 'Ġever': 43, 'Ġfar': 42, 'Ġso': 41, 'ĠEver': 41, 'ĠEVER': 39, 'Ġpossibly': 39, 'Ġbesides': 38, 'Ġcurrently': 38}\n",
      ".[ {'Via': 44, 'ĠEST': 43, 'ĠReuters': 42, 'ĠVia': 42, 'UTERS': 41, 'Ġvia': 41, 'ĠBL': 39, 'æ°': 39, 'Ã¡': 39, 'Ġstud': 39}\n",
      "ĠCannot {'ĠEver': 43, 'Ġwithout': 43, 'Ġanymore': 42, 'Ġunless': 41, 'Ġforesee': 41, 'Ġsave': 41, 'ĠEVER': 41, 'ĠWITHOUT': 39, 'ĠEngineer': 39, 'Ġlawfully': 39}\n",
      "Ġhappened {'Ġfrequently': 44, 'Ġrepeatedly': 44, 'Ġconstantly': 43, 'Ġregularly': 42, 'Ġsimultaneously': 42, 'Ġautomatically': 41, 'Ġcontinuously': 40, 'ternally': 38, 'agically': 38, 'Ġagain': 37}\n",
      "Ġstrongest {'ĠEVER': 46, 'Ġever': 46, 'Ġso': 43, 'ĠEver': 43, 'Ġforever': 42, 'Ġyet': 39, 'ankind': 38, 'Ġroadside': 38, 'Ġanytime': 37, 'Ġanywhere': 37}\n",
      "ĠImprovements {'ĠOVER': 49, 'Ġover': 49, 'ĠOver': 45, 'Over': 39, 'Ġbeyond': 39, 'Ġnotably': 38, 'Ġalong': 38, 'OVER': 37, 'ĠBeyond': 37, 'Ġduring': 37}\n",
      "Ġunparalleled {'Ġthus': 44, 'Ġduring': 42, 'Ġin': 42, 'Ġbefore': 41, 'Ġbeforehand': 41, 'Ġyet': 40, 'Ġuntil': 40, 'Ġthereby': 40, 'Ġthroughout': 40, 'Ġamong': 39}\n",
      "Ġshifts {'Ġtowards': 44, 'Ġinward': 43, 'Ġidle': 42, 'Ġso': 42, 'Ġtoward': 41, 'Ġhalfway': 40, 'Ġagainst': 40, 'Ġfortunes': 40, 'Ġindist': 39, 'Ġmidway': 39}\n",
      "Ġmisplaced {'Ġamong': 46, 'Ġamongst': 46, 'among': 43, 'Ġbeside': 42, 'Ġbetween': 40, 'Ġonto': 40, 'Ġamidst': 39, 'ĠBetween': 38, 'Between': 38, 'Ġprofoundly': 37}\n",
      "Ġfullest {'Ġexcept': 43, 'Ġpalpable': 43, 'Ġpracticable': 42, 'ĠExcept': 42, 'Ġforeseeable': 41, 'Ġanywhere': 40, 'Ġbelievable': 40, 'Ġyet': 40, 'except': 39, 'Ġanyone': 39}\n",
      "Ġuninsured {'Ġuntil': 48, 'Ġunless': 44, 'Ġforever': 41, 'until': 40, 'Ġsince': 40, 'Ġagainst': 40, 'Ġexcept': 39, 'unless': 39, 'ĠUntil': 39, 'against': 39}\n",
      "Ġweakest {'ankind': 43, 'Ġever': 43, 'Ġamong': 43, 'ĠEVER': 43, 'Ġso': 41, 'ĠEver': 41, 'Ġamongst': 41, 'ĠBarack': 39, 'Ġforever': 38, 'ĠMankind': 37}\n",
      "idespread {'Ġamong': 49, 'Ġthroughout': 48, 'Ġacross': 45, 'Ġamongst': 44, 'among': 41, 'ĠAcross': 38, 'ĠAmong': 37, 'Across': 36, 'Ġoutside': 36, 'Ġalong': 35}\n",
      "Ġoutnumbered {'Ġprofoundly': 45, 'Near': 42, 'Ġtill': 41, 'Ġwidely': 41, 'Ġvastly': 41, 'Ġforever': 41, 'Ġamong': 40, 'Ġnear': 40, 'Ġuntil': 40, 'Ġfar': 39}\n",
      "ĠRetrieved {'Ġimmediately': 45, 'Ġfrom': 44, 'Ġearly': 43, 'Ġprivately': 41, 'Ġprematurely': 40, 'From': 40, 'Ġinstinctively': 39, 'Ġhalfway': 39, 'mediately': 38, 'Ġforcefully': 38}\n",
      "Ġ\"{ {'Ġindisc': 42, 'ĠRarity': 42, 'ĠCharl': 41, 'Ġappe': 41, 'Ġsunrise': 41, 'dayName': 41, 'cedented': 41, 'ĠSHARES': 40, 'Ġunl': 40, 'Ġimperson': 40}\n",
      "nothing {'Ġexcept': 45, 'Ġbesides': 44, 'Except': 42, 'except': 42, 'ĠEVER': 41, 'ĠExcept': 40, 'soever': 40, 'esides': 39, 'Ġyet': 38, 'Ġever': 38}\n",
      "Ġreplaced {'Ġwith': 47, 'with': 42, 'With': 42, 'Ġprofoundly': 41, 'ĠWITH': 40, 'Ġby': 40, 'ĠWith': 40, 'Ġwid': 40, 'Ġpar': 39, 'ĠBY': 37}\n",
      "Ġindispensable {'Ġforever': 45, 'Ġduring': 44, 'Ġbefore': 43, 'Ġearly': 42, 'Ġsimultaneously': 41, 'Ġwhen': 40, 'ĠBEFORE': 39, 'Ġuntreated': 38, 'Ġwhile': 38, 'Ġwee': 38}\n",
      "Ġ$( {'ĠReuters': 43, 'regon': 43, 'UTERS': 42, 'Reuters': 41, 'SourceFile': 40, 'azeera': 40, 'ĠCNN': 40, 'Ġprotr': 40, 'ĠCOURT': 39, 'ISIS': 39}\n",
      "Ġbenefited {'Ġenormously': 45, 'Ġtremendously': 43, 'Ġspiritually': 42, 'Ġmorally': 41, 'Ġgreatly': 40, 'Ġdramatically': 40, 'Ġimmensely': 40, 'orically': 40, 'Ġprofoundly': 40, 'Ġequally': 39}\n",
      "ĠAffairs {'Ġspiritually': 45, 'Ġhistorically': 43, 'ternally': 41, 'Ġbadly': 40, 'Ġcommercially': 40, 'ĠExcept': 40, 'ĠHistorically': 40, 'Ġinternationally': 40, 'Ġsocially': 39, 'Ġdigitally': 39}\n",
      "Ġdistributing {'Ġevenly': 44, 'Ġequally': 43, 'Ġthroughout': 43, 'Ġharshly': 42, 'Ġwidely': 41, 'Ġamong': 41, 'Ġnarrowly': 39, 'ĠNationwide': 39, 'Ġalong': 38, 'Ġacross': 38}\n",
      "Ġrelocated {'Ġmidway': 44, 'Near': 43, 'Ġhalfway': 43, 'Ġso': 42, 'Ġalong': 40, 'Ġnear': 40, 'Ġoutside': 40, 'Ġbeyond': 39, 'ĠNear': 38, 'Ġbeside': 38}\n",
      "ĠExtended {'Ġso': 47, 'Ġbeyond': 45, 'Ġtill': 44, 'Ġuntil': 43, 'Ġcomprehens': 40, 'ĠFranken': 39, '«': 38, 'ĠBeyond': 37, 'redibly': 37, 'ĠDane': 37}\n",
      "^ {'quest': 44, 'ãĥ¬': 43, 'Spirit': 42, 'NAT': 41, 'pty': 40, 'Aust': 40, 'Ġcer': 40, 'Voice': 39, 'Nat': 39, 'Ire': 39}\n",
      "Ġimprovements {'Ġover': 50, 'ĠOVER': 48, 'ĠOver': 45, 'Over': 40, 'Ġalong': 39, 'Ġovers': 38, 'Ġbeyond': 38, 'OVER': 37, 'Ġduring': 37, 'over': 36}\n",
      "Ġoblivious {'Ġuntil': 49, 'Until': 46, 'ĠUntil': 45, 'until': 43, 'Ġtill': 40, 'ouver': 39, 'Ġanybody': 37, 'Ġunless': 37, 'Unless': 36, 'Ġthereof': 36}\n",
      "Ġ[*] {'Ġappre': 45, 'gov': 42, 'ĠReuters': 42, 'Reuters': 41, 'Ġincom': 40, 'azeera': 40, 'UTERS': 40, 'ĠCOURT': 39, 'uy': 39, 'Ġuntouched': 39}\n",
      "Ġpeaks {'Ġat': 48, 'Ġnear': 45, 'Ġaround': 42, 'Ġearly': 40, 'Ġrarely': 40, 'Ġduring': 39, 'Ġfrequently': 39, 'Ġimmediately': 38, 'Ġoverwhelmingly': 38, 'Around': 38}\n",
      "Ġlasted {'Ġbefore': 51, 'Ġuntil': 44, 'Ġwithout': 40, 'Ġtill': 40, 'ĠBEFORE': 40, 'before': 40, 'Ġuntouched': 39, 'Ġthroughout': 39, 'Ġamongst': 37, 'Ġunnoticed': 37}\n",
      "ridden {'Ġso': 46, 'Ġwithout': 46, 'Ġforever': 43, 'ĠWITHOUT': 41, 'Ġnonetheless': 40, 'Ġnevertheless': 40, 'Ġuntil': 39, 'Ġtill': 39, 'Ġcomprehens': 38, 'Ġidle': 37}\n",
      "Ġraged {'Ġthroughout': 48, 'Ġat': 46, 'Ġaround': 41, 'Ġacross': 41, 'Ġalong': 39, 'Round': 39, 'Ġagainst': 39, 'Ġround': 39, 'Around': 39, 'Ġamongst': 38}\n",
      "checks {'Against': 49, 'Ġagainst': 48, 'ĠAgainst': 46, 'against': 45, 'Ġamongst': 41, 'Ġamong': 37, 'ĠTwice': 37, 'Ġoverfl': 35, 'INST': 35, 'Ġbeforehand': 34}\n",
      ")]. {'Ġso': 47, 'Ġthus': 44, 'Ġroadside': 42, 'ĠSO': 41, 'Ġwee': 40, 'Ġmoreover': 40, 'Ġeng': 39, 'ĠSo': 39, 'Ġpree': 38, 'Ġsimilarly': 38}\n",
      "Ġ[- {'ĠReuters': 43, 'gov': 42, 'MSN': 42, 'æĪ': 41, 'ĠSpicer': 40, 'azeera': 40, 'uy': 40, 'Ġappre': 40, 'ĠGazette': 40, 'ĠCOURT': 39}\n",
      "________________________________ {'Ġso': 47, 'Ġevery': 43, 'Ġvividly': 43, 'ĠSo': 41, 'Every': 41, 'ĠEVERY': 39, 'ĠEvery': 39, 'So': 39, 'every': 38, 'Ġeasily': 38}\n",
      "Ġinserts {'Ġhere': 44, 'Near': 42, 'Ġnear': 42, 'Ġbetween': 42, 'Ġbefore': 41, 'Ġtherein': 41, 'Ġinto': 40, 'between': 39, 'Ġwee': 38, 'Ġat': 38}\n",
      "\":\"/ {'azeera': 46, 'dayName': 43, 'Trivia': 41, 'zh': 40, 'archives': 40, 'ItemImage': 40, 'laughs': 39, 'itage': 39, 'åľ': 39, 'regon': 39}\n",
      "Increased {'ĠOVER': 44, 'Ġenormously': 43, 'Ġover': 43, 'ĠFranken': 42, 'Ġbeyond': 41, 'Ġvastly': 40, 'Ġtremendously': 39, 'Ġovers': 39, 'ĠBeyond': 39, 'redibly': 37}\n",
      "Ġextends {'Ġthroughout': 50, 'Ġbeyond': 42, 'ĠNationwide': 42, 'Ġalong': 42, 'ĠWorldwide': 41, 'Ġacross': 39, 'Ġinfinitely': 38, 'Ġtill': 38, 'Ġworldwide': 38, 'Ġnationwide': 37}\n",
      "ĠEntered {'Ġinto': 45, 'Ġunsc': 44, 'ĠInto': 41, 'Ġcrawl': 41, 'Ġforcefully': 40, 'Ġliterally': 40, 'Ġcomprehens': 39, 'ĠPri': 39, 'Ġthrough': 39, 'Ġuntreated': 39}\n",
      "=/ {'azeera': 46, 'ername': 44, 'ĠIST': 41, 'ibli': 40, 'ews': 40, 'Ġappre': 40, 'ĠRarity': 39, 'onet': 39, 'ĠReuters': 39, 'ĠÃĸ': 39}\n",
      "Ġremaining {'Ġidle': 44, 'Ġstagnant': 43, 'Ġimmutable': 42, 'Ġthroughout': 42, 'Ġunchecked': 41, 'Ġvacant': 39, 'Ġamidst': 39, 'pless': 39, 'Ġsober': 39, 'Ġwhile': 38}\n",
      "]' {'Ġevery': 43, 'Ġfeas': 42, 'Ġpree': 41, 'Ġalone': 41, 'Ġsoon': 40, 'Ġquickly': 40, 'ĠGazette': 40, 'Ġcoinc': 40, 'ĠStuff': 40, 'erest': 40}\n",
      "Ġflowed {'Ġtowards': 44, 'Ġalong': 43, 'Ġthrough': 43, 'Ġtoward': 43, 'Ġsilently': 42, 'Ġthroughout': 40, 'Ġvers': 39, 'Ġinward': 38, 'atically': 38, 'ĠThrough': 37}\n",
      "ĠOthers {'Ġbesides': 48, 'Ġwidely': 45, 'esides': 41, 'Ġequally': 41, 'Ġaffected': 40, 'Ġevenly': 39, 'Ġbeside': 39, 'Ġbetter': 39, 'Ġlike': 39, 'Ġinvolved': 37}\n",
      "Ġceased {'Ġaltogether': 47, 'Ġbeing': 42, 'Ġhalfway': 42, 'Ġmidway': 41, 'Ġimmediately': 40, 'Ġutterly': 40, 'Ġsuddenly': 40, 'Ġcompletely': 39, 'Ġbefore': 38, 'Ġabruptly': 38}\n",
      "Ġtemporary {'Ġuntil': 46, 'Ġwhile': 44, 'Ġduring': 41, 'Ġwhilst': 41, 'Ġwithout': 41, 'Ġpending': 40, 'ĠUntil': 40, 'ĠWITHOUT': 39, 'Ġtill': 37, 'while': 37}\n",
      "Ġsupremacy {'Ġover': 51, 'ĠOVER': 46, 'Ġamong': 45, 'Ġamongst': 39, 'Ġovers': 38, 'OVER': 38, 'Ġoverfl': 38, 'ĠOver': 38, 'Ġthroughout': 37, 'Over': 36}\n",
      "Ġhighest {'Ġever': 46, 'Ġso': 44, 'ĠEVER': 43, 'ĠEver': 41, 'Ġvisibly': 40, 'Ġpalpable': 40, 'Ġamong': 39, 'Ġthus': 39, 'Ġanywhere': 38, 'Ġyet': 37}\n",
      "Ġgreatest {'ĠEVER': 47, 'Ġever': 46, 'ĠEver': 44, 'Ġforever': 42, 'Ġso': 40, 'Ġthus': 40, 'ĠForever': 38, 'risis': 37, 'Ever': 37, 'ankind': 37}\n",
      "Ġreplaces {'Ġwith': 46, 'with': 43, 'With': 43, 'ĠWith': 42, 'ĠWITH': 41, 'Ġprofoundly': 40, 'Ġby': 39, 'Ġcompletely': 39, 'Ġpar': 37, 'ĠBy': 37}\n",
      "Ġmisleading {'Ġconcerning': 47, 'Ġwhen': 44, 'cerning': 42, 'Ġregarding': 41, 'Ġtowards': 40, 'Ġmedically': 39, 'Ġprofoundly': 39, 'Ġbecause': 39, 'ouver': 38, 'Ġinto': 38}\n",
      "Ġdiscredited {'redibly': 45, 'Ġenormously': 43, 'Ġutterly': 42, 'Ġprofoundly': 41, 'Ġmorally': 41, 'Ġequally': 40, 'Ġtotally': 39, 'Ġamong': 38, 'ternally': 38, 'Ġso': 38}\n",
      "[' {'UTERS': 45, 'MSN': 42, 'Reuters': 42, 'aby': 41, 'Via': 41, 'ĠReuters': 40, 'ĠCitadel': 40, 'ĠYorkers': 39, 'roads': 39, 'Ġ1986': 38}\n",
      "Ġselects {'Ġamong': 47, 'Ġrandomly': 46, 'among': 43, 'Ġamongst': 43, 'Ġrandom': 40, 'Among': 39, 'Ġwisely': 38, 'ĠAmong': 38, 'Ġbased': 37, 'Ġnevertheless': 37}\n",
      "................................................................ {'Ġso': 49, 'æĸ¹': 43, 'ĠJUST': 41, 'ĠSo': 41, 'ĠEVERY': 40, 'Ġevery': 39, 'Ġthus': 38, 'Ġduring': 38, 'Ġvia': 38, 'Ġjust': 38}\n",
      "++) {'ãĤĴ': 43, 'Ġimmediately': 42, 'Ġthereof': 41, 'Ġmoreover': 41, 'Ġduring': 40, 'Ġwhere': 40, 'Ġwhen': 40, 'Ġalone': 40, 'Ġalong': 40, 'Ġthus': 39}\n",
      "Ġstopped {'Ġcold': 47, 'Ġmidway': 46, 'Ġhalfway': 44, 'ĠCold': 40, 'Cold': 39, 'Ġcoinc': 39, 'Ġcompletely': 39, 'cold': 38, 'Ġroadside': 37, 'Ġmids': 37}\n",
      "pleted {'Ġvividly': 42, 'Ġsimultaneously': 41, 'Ġamazingly': 41, 'Ġhonestly': 41, 'Ġpeacefully': 41, 'Ġrapidly': 41, 'Ġwithout': 40, 'Ġequally': 40, 'Ġpoorly': 40, 'Ġevenly': 39}\n",
      "Ġwithholding {'Ġuntil': 48, 'Ġtill': 44, 'Ġforever': 43, 'ĠUntil': 42, 'Ġfrom': 41, 'Until': 39, 'until': 38, 'ĠUSAF': 37, 'Ġpending': 37, 'ĠFROM': 36}\n",
      "Ġ{\\ {'æĪ': 43, 'cedented': 43, 'gov': 42, 'SourceFile': 42, 'dayName': 41, 'aiman': 40, 'inness': 39, 'Ġuntouched': 39, 'azeera': 39, 'ĠCitadel': 38}\n",
      "REDACTED {'Ġuntil': 46, 'Ġduring': 42, 'Ġwhenever': 42, 'Ġforever': 40, 'anish': 40, 'Ġbecause': 40, 'Ġtill': 40, 'Ġwhen': 39, 'Ġsimultaneously': 39, 'ĠTill': 38}\n",
      "livious {'Ġuntil': 49, 'ĠUntil': 46, 'Until': 45, 'until': 43, 'ĠTill': 41, 'Ġtill': 40, 'ouver': 36, 'Ġunless': 36, 'ĠTil': 35, 'Ġanybody': 35}\n",
      "?) {'Ġevery': 45, 'ĠITS': 42, 'ĠIST': 41, 'Ġcoinc': 41, 'ĠATF': 40, 'ĠCOURT': 39, 'ĠEVERY': 39, 'Ġeach': 39, 'Ġmany': 39, 'Ġwhere': 39}\n",
      "ĠThanks {'Ġprofoundly': 45, 'Ġfor': 44, 'Ġnevertheless': 43, 'Ġforever': 43, 'for': 39, 'Ġremarkably': 39, 'Ġtremendously': 39, 'Ġgreatly': 39, 'Ġoverwhelmingly': 38, 'Ġnonetheless': 38}\n",
      "Ġslowdown {'Ġduring': 48, 'Ġwhilst': 43, 'Ġwhile': 43, 'Ġas': 40, 'ĠDuring': 40, 'Ġ1976': 39, 'Ġ1977': 39, 'Ġbeneath': 39, 'Ġbecause': 38, 'Ġunder': 38}\n",
      "Ġmeaningless {'Ġwithout': 46, 'Ġcommercially': 44, 'Ġunless': 40, 'Without': 40, 'ĠWithout': 40, 'Ġhistorically': 39, 'ĠWITHOUT': 39, 'ankind': 39, 'Unless': 39, 'without': 37}\n",
      "occupied {'Ġpersonally': 42, 'Ġyourselves': 42, 'Ġmyself': 41, 'Ġduring': 41, 'Ġequally': 41, 'Ġyourself': 40, 'Ġalone': 40, 'ĠBy': 40, 'Ġsimultaneously': 39, 'Ġactively': 39}\n",
      "ilated {'Ġso': 44, 'Ġfavorably': 42, 'Ġthus': 42, 'Ġalong': 41, 'Ġamazingly': 40, 'Ġpoorly': 40, 'Ġbadly': 40, 'Ġcomprehens': 39, 'Ġsimilarly': 39, 'Ġwonderfully': 39}\n",
      "ĠImpossible {'Ġunless': 47, 'Unless': 47, 'unless': 41, 'Ġwithout': 41, 'ĠUnless': 40, 'Ġbecause': 40, 'ĠWITHOUT': 39, 'Ġforesee': 37, 'Ġexcept': 37, 'combat': 36}\n",
      ".] {'Ġso': 45, 'ĠSO': 43, 'ĠIST': 41, 'Ġthus': 41, 'ĠSHARES': 40, 'ĠSo': 40, 'ĠOH': 40, 'Ġaffected': 38, 'ĠEST': 38, 'itten': 38}\n",
      ")/ {'Ġso': 43, 'Ġeng': 41, 'azeera': 41, 'adena': 41, 'Ġwell': 40, 'Ġcer': 40, 'ĠReuters': 40, 'MSN': 40, 'Reuters': 40, 'ews': 39}\n",
      "Ġwithdrew {'Ġforcibly': 44, 'Ġforcefully': 43, 'Ġseamlessly': 41, 'redibly': 40, 'Ġinto': 40, 'Ġmorally': 40, 'Ġlegally': 40, 'agically': 39, 'Ġradically': 39, 'Ġamazingly': 39}\n",
      "Anything {'Ġbesides': 51, 'esides': 46, 'Ġso': 41, 'Ġroadside': 40, 'Ġalong': 39, 'Besides': 38, 'Ġbeside': 38, 'ĠBesides': 38, 'Ġbelievable': 37, 'Ġputs': 37}\n",
      ".\"[ {'ĠEST': 43, 'Ã¡': 41, 'Via': 41, 'æ°': 41, 'ĠReuters': 41, 'ĠRy': 40, 'UTERS': 40, 'ĠVia': 39, 'ews': 39, 'orough': 39}\n",
      "Versions {'Ġwithout': 47, 'ĠWithout': 44, 'Without': 43, 'ĠWITHOUT': 41, 'Ġbefore': 39, 'Ġrecognized': 39, 'without': 39, 'Ġrecognised': 38, 'Ġbeforehand': 37, 'Ġutilized': 37}\n",
      "ĠPriority {'Ġover': 49, 'ĠOver': 46, 'ĠOVER': 45, 'Over': 42, 'Ġovers': 38, 'Ġoverw': 37, 'OVER': 37, 'Ġoverr': 37, 'over': 37, 'Ġoverl': 37}\n",
      "Ġenhances {'Ġtremendously': 44, 'Ġdramatically': 42, 'Ġenormously': 42, 'Ġremarkably': 41, 'Ġsignificantly': 40, 'Ġgreatly': 40, 'Ġbeyond': 40, 'Ġvastly': 39, 'Ġcomprehens': 39, 'ĠOVER': 38}\n",
      "thora {'Ġthroughout': 49, 'Ġamong': 48, 'Ġacross': 41, 'ĠThroughout': 41, 'Ġover': 40, 'Ġovers': 39, 'Ġamongst': 39, 'ĠOVER': 37, 'Throughout': 36, 'Ġdazzling': 35}\n",
      "Ġrestricted {'Ġso': 43, 'Ġonly': 42, 'Ġmerely': 42, 'Ġutterly': 41, 'Ġmere': 40, 'Ġsimply': 40, 'Ġpurely': 40, 'Ġwithin': 39, 'ĠONLY': 39, 'Ġmainly': 39}\n",
      "Ġincreases {'Ġenormously': 44, 'Ġbeyond': 43, 'Ġtremendously': 42, 'ĠOVER': 41, 'Ġover': 41, 'Ġvastly': 40, 'Ġdramatically': 40, 'Ġconsiderably': 39, 'Ġradically': 37, 'Ġozone': 37}\n",
      "(* {'azeera': 45, 'ĠReuters': 44, 'ĠSiri': 42, 'MSN': 41, 'Reuters': 40, 'GMT': 39, 'UTERS': 39, 'Bloomberg': 38, 'ĠFranken': 38, 'ĠJonas': 38}\n",
      "Ġdiscrepancy {'Ġbetween': 46, 'Ġamong': 45, 'ĠBetween': 43, 'between': 40, 'Ġagainst': 40, 'Between': 39, 'among': 39, 'Ġamongst': 38, 'ternally': 37, 'ixt': 37}\n",
      "Ġexpands {'Ġcomprehens': 44, 'Ġenormously': 43, 'Ġdramatically': 43, 'Ġconsiderably': 41, 'Ġdrastically': 40, 'Ġwidely': 39, 'Ġtremendously': 39, 'Ġvastly': 39, 'Ġprofoundly': 39, 'Ġgreatly': 38}\n",
      "ĠMigration {'Ġtowards': 48, 'Ġtoward': 44, 'Ġalong': 42, 'Ġfrom': 41, 'ĠTowards': 41, 'Ġduring': 40, 'Ġvers': 39, 'ĠFROM': 37, 'From': 37, 'Ġunto': 36}\n",
      "added {'ĠTogether': 45, 'Ġtogether': 44, 'Ġtill': 42, 'Ġtil': 41, 'Ġprematurely': 40, 'Ġbeforehand': 40, 'Ġuntil': 38, 'Ġso': 38, 'Ġregularly': 38, 'Ġthereto': 38}\n",
      ";;;; {'Ġthroughout': 44, '¥ŀ': 43, 'ĠREUTERS': 41, 'ĠThroughout': 41, 'ĠRound': 41, 'Throughout': 40, 'Ġuntil': 39, 'Round': 39, 'ĠReuters': 38, '«': 38}\n",
      "Ġ\\( {'Ġbreeze': 46, 'ĠRarity': 45, 'ĠReuters': 43, 'è¦ļéĨĴ': 41, 'UTERS': 40, 'ĠGHC': 38, 'zh': 38, 'laughs': 38, 'æĪ': 38, 'Ġuntouched': 38}\n",
      "Ġ/* {'ĠSO': 43, 'omever': 42, 'gov': 41, 'Roaming': 41, 'MSN': 40, 'Whoever': 40, 'Ġso': 40, 'SO': 40, 'Ġwhoever': 39, 'jah': 37}\n",
      "apply {'Ġthroughout': 53, 'Ġequally': 43, 'Ġevenly': 40, 'ĠThroughout': 40, 'Throughout': 39, 'Ġregularly': 39, 'Ġwherever': 39, 'Ġacross': 38, 'Ġfrequently': 37, 'Ġwidely': 36}\n",
      "Ġprevalent {'Ġamong': 51, 'Ġthroughout': 46, 'Ġamongst': 43, 'Ġover': 42, 'among': 41, 'ĠAmong': 38, 'ĠOVER': 36, 'Among': 36, 'Ġacross': 35, 'ĠThroughout': 35}\n",
      "Ġdiscriminating {'Ġagainst': 45, 'Ġwhen': 42, 'ĠAgainst': 42, 'Ġamong': 40, 'Ġbased': 40, 'Against': 39, 'against': 39, 'Ġharshly': 39, 'Ġamongst': 39, 'Ġyourselves': 39}\n",
      "Ġoccurring {'Ġwithout': 44, 'Ġfrequently': 44, 'Ġamong': 42, 'Ġagain': 41, 'Ġamongst': 40, 'Ġnear': 40, 'Ġregularly': 39, 'ĠWITHOUT': 39, 'Ġrepeatedly': 38, 'Ġsimultaneously': 38}\n",
      "Ġsmartest {'ĠEver': 47, 'ĠEVER': 46, 'Ġever': 44, 'Ġso': 40, 'ankind': 39, 'Ever': 39, 'ĠMankind': 38, 'Ġthus': 38, 'Ġyet': 37, 'Ġanywhere': 37}\n",
      "still {'Ġdespite': 45, 'Ġnotwithstanding': 43, 'Despite': 42, 'Ġeven': 41, 'ĠDespite': 40, 'ĠEVEN': 40, 'Ġappre': 40, 'despite': 39, 'withstanding': 37, 'Ġalthough': 37}\n",
      "Thank {'Ġfor': 46, 'Ġremarkably': 44, 'Ġprofoundly': 43, 'Ġtremendously': 41, 'Ġwisely': 39, 'for': 39, 'Ġpour': 38, 'Ġnevertheless': 38, 'Ġhorribly': 38, 'Ġamazingly': 38}\n",
      "ĠSources {'Ġbesides': 43, 'Ġpersonally': 42, 'Ġoverly': 42, 'Ġdelicate': 41, 'Ġwidely': 40, 'Ġamong': 39, 'Ġexcept': 39, 'Ġexempt': 39, 'Ġaudible': 39, 'Ġculp': 39}\n",
      "Ġselectively {'Ġamong': 50, 'among': 47, 'Ġamongst': 46, 'ĠAmong': 46, 'Among': 45, 'Ġoverlooked': 36, 'Ġignores': 34, 'userc': 34, 'Ġdepending': 33, 'Ġbased': 33}\n",
      "unknown {'Ġuntil': 48, 'Ġbeforehand': 45, 'Ġtill': 43, 'Ġunless': 40, 'Ġduring': 40, 'Until': 39, 'ĠUntil': 39, 'until': 37, 'Ġyet': 37, 'Ġthroughout': 36}\n",
      "Required {'ĠOtherwise': 43, 'Otherwise': 42, 'Ġthoroughly': 42, 'Ġbefore': 42, 'Ġcommercially': 42, 'Ġevery': 39, 'Ġsincerely': 39, 'Ġlegally': 39, 'ĠVisa': 38, 'Ġsimultaneously': 38}\n",
      "Ġpreceded {'Ġby': 45, 'ĠBY': 41, 'Ġpar': 41, 'Ġpor': 41, 'ĠBy': 40, 'Ġfar': 40, 'Ġprofoundly': 39, 'By': 39, 'Ġhalfway': 38, 'Ġsincerely': 38}\n",
      "Ġdelayed {'Ġforever': 44, 'Ġwhile': 42, 'Ġbeyond': 42, 'Ġuntil': 41, 'Ġawhile': 40, 'Ġso': 40, 'Ġidle': 39, 'Ġwhilst': 39, 'Ġtill': 39, 'ĠForever': 38}\n",
      "ĠHandling {'Ġfavorably': 43, 'Ġpositively': 43, 'Ġpersonally': 42, 'Ġharshly': 41, 'Ġcreatively': 40, 'Ġequally': 40, 'Ġpoorly': 39, 'Ġprofessionally': 39, 'Ġresponsibly': 38, 'Ġawkwardly': 38}\n",
      "ĠUnable {'Ġwithout': 49, 'ĠWithout': 42, 'ĠWITHOUT': 42, 'Ġremotely': 41, 'without': 40, 'Ġsilently': 40, 'Ġalone': 38, 'Without': 38, 'Ġinstinctively': 37, 'ect': 36}\n",
      "ĠCertified {'Ġthrough': 43, 'ĠThrough': 41, 'Through': 41, 'Ġbeforehand': 41, 'Ġwee': 41, 'Ġthoroughly': 40, 'Ġthru': 40, 'Ġvia': 39, 'Via': 39, 'Ġso': 38}\n",
      "ĠCrusade {'Ġagainst': 46, 'ĠAgainst': 42, 'Ġtowards': 42, 'Ġtoward': 41, 'ĠTowards': 41, 'Against': 40, 'against': 40, 'Ġamong': 38, 'Ġcontra': 37, 'Ġthroughout': 37}\n",
      "Ġadjustable {'Ġso': 44, 'Ġwithout': 42, 'Ġmutually': 42, 'Ġmorally': 41, 'Ġequally': 40, 'Ġaccordingly': 40, 'Ġeconomically': 40, 'Ġforever': 39, 'ĠWITHOUT': 39, 'Ġsimilarly': 39}\n",
      "Ġchecking {'Against': 45, 'Ġagainst': 43, 'Ġamongst': 42, 'ĠAgainst': 41, 'against': 40, 'Ġbeforehand': 39, 'Ġevery': 39, 'aturdays': 38, 'Every': 38, 'ĠTwice': 38}\n",
      "Ġresponded {'Ġpositively': 45, 'Ġfavorably': 45, 'Ġmorally': 43, 'Ġnegatively': 40, 'Ġby': 40, 'Ġsimilarly': 40, 'Ġradically': 38, 'Ġmutually': 38, 'Ġthus': 38, 'Ġmedically': 37}\n",
      "}. {'Ġwee': 42, 'Ġso': 42, 'Ġthus': 41, 'ĠIST': 40, 'ĠSO': 40, 'ĠCOURT': 40, 'Ġnevertheless': 40, 'ĠSHARES': 39, 'UTERS': 39, 'Ġpree': 39}\n",
      "Ġrelocation {'Ġmidway': 44, 'Ġoutside': 43, 'Ġabroad': 42, 'Ġhalfway': 42, 'Ġbeyond': 41, 'ĠOutside': 39, 'Outside': 39, 'Ġthereto': 38, 'Ġso': 38, 'Ġhere': 38}\n",
      "[ {'ĠReuters': 45, 'Via': 43, 'ĠRarity': 41, 'ĠVia': 40, 'Reuters': 40, 'UTERS': 40, 'ĠEST': 39, 'gov': 39, 'pty': 38, 'Ġcoinc': 38}\n",
      "making {'Ġjealous': 50, 'Ġobsolete': 40, 'Ġbelievable': 40, 'solete': 40, 'Ġincomprehensible': 40, 'ĠDane': 39, 'Ġconspicuous': 39, 'Ġhabitable': 38, 'Ġconst': 38, 'Ġlook': 38}\n",
      "ĠReached {'Ġquickly': 45, 'Ġsimultaneously': 44, 'Ġwithout': 42, 'Ġnarrowly': 40, 'Ġfirsthand': 40, 'Ġsooner': 39, 'Ġprematurely': 39, 'Ġthoroughly': 38, 'Ġindirectly': 38, 'Ġonly': 38}\n",
      "Ġcentered {'Ġaround': 46, 'Around': 45, 'Ġamong': 45, 'ĠAround': 44, 'Ġamongst': 44, 'Ġnear': 38, 'among': 36, 'Round': 35, 'Ġround': 35, 'Ġbetween': 34}\n",
      "Closure {'Ġwithout': 49, 'ĠWITHOUT': 44, 'ĠWithout': 42, 'Ġduring': 42, 'without': 40, 'Without': 39, 'Ġunder': 39, 'Ġbeforehand': 36, 'esides': 36, 'Ġoutside': 35}\n",
      "ĠAdjusted {'Ġso': 50, 'Ġaccordingly': 45, 'Ġmorally': 43, 'Ġsimilarly': 40, 'Ġequally': 39, 'Ġuniquely': 39, 'Ġprofoundly': 37, 'atically': 36, 'Ġlikewise': 36, 'Ġmutually': 36}\n",
      "ousand {'Ġregularly': 43, 'Ġevenly': 42, 'Ġimmediately': 42, 'Ġsilently': 41, 'Ġalone': 40, 'Ġannually': 40, 'Ġcommonly': 40, 'ĠImmediately': 39, 'Ġinitially': 39, 'Ġinstantly': 38}\n",
      "Ranked {'Ġso': 44, 'Ġamongst': 43, 'Ġamong': 42, 'redibly': 41, 'ĠSO': 40, 'ĠAmong': 40, 'Among': 39, 'Ġpoorly': 39, 'among': 38, 'bably': 38}\n",
      "ĠBetter {'Ġdan': 48, 'Ġthen': 45, 'Then': 42, 'ĠThen': 40, 'han': 40, 'ĠThan': 40, 'Ġthan': 39, 'ĠTHEN': 37, 'than': 36, 'then': 36}\n",
      "Ġrenders {'solete': 43, 'pless': 42, 'Ġuseless': 42, 'Ġincomprehensible': 42, 'Ġunst': 40, 'Ġworthless': 40, 'Ġineligible': 39, 'seless': 38, 'Ġtaxable': 38, 'Ġredundant': 38}\n",
      "(){ {'æĪ': 42, 'Ġappe': 42, 'Ġpree': 40, 'Ã¢': 40, 'ĠSO': 40, 'ĠOH': 40, 'Ġunab': 40, 'Ġshocking': 40, 'Ġindis': 40, 'isf': 39}\n",
      "Ġmissed {'Ġbecause': 45, 'Ġprofoundly': 44, 'because': 40, 'Ġenormously': 40, 'Ġbadly': 40, 'Ġutterly': 39, 'Ġhorribly': 39, 'Ġso': 39, 'Ġby': 38, 'Ġtimely': 38}\n",
      "ĠLocations {'Ġhalfway': 43, 'Ġbeside': 41, 'Near': 41, 'ĠNear': 41, 'Ġculp': 41, 'Ġnear': 40, 'Ġon': 40, 'ĠON': 39, 'Ġmidway': 39, 'Ġoutside': 39}\n",
      "verages {'Ġthroughout': 45, 'Ġagainst': 43, 'Ġonce': 42, 'ĠAgainst': 41, 'Ġacross': 40, 'Ġduring': 40, 'against': 39, 'Ġever': 39, 'once': 38, 'Ġsilently': 37}\n",
      "/* {'Ġso': 42, 'Ġwhoever': 42, 'Whoever': 42, 'omever': 42, 'ĠSO': 42, 'gov': 40, 'ĠWhoever': 39, 'ECD': 39, 'MSN': 38, 'ĠKH': 38}\n",
      "ĠJourney {'ĠThrough': 42, 'ĠTowards': 41, 'Ġtowards': 41, 'Ġthrough': 41, 'Ġtoward': 41, 'Through': 40, 'Round': 40, 'Ġfrom': 40, 'Ġalong': 39, 'ĠRound': 37}\n",
      "Ġarose {'Ġagain': 47, 'Ġmedically': 41, 'Ġuniquely': 40, 'Ġnaturally': 40, 'Ġpeacefully': 39, 'Ġunnoticed': 39, 'Ġautomatically': 39, 'Ġrandomly': 39, 'Ġcombat': 39, 'Ġunexpectedly': 39}\n",
      "Ġ) {'Ġevery': 42, 'Ġcoinc': 41, 'Ġappre': 41, 'Ġimmediately': 41, 'Ġanyone': 40, 'Ġanswered': 40, 'Ġwhere': 40, 'Ġso': 40, 'Ġeveryone': 39, 'Ġconst': 39}\n",
      "Asked {'Ġrepeatedly': 45, 'Ġsquarely': 45, 'Round': 42, 'Ġexplicitly': 41, 'Ġbluntly': 39, 'Ġagain': 39, 'Ġpolitely': 38, 'Ġdefinitively': 38, 'Ġduring': 37, 'Ġwhom': 37}\n",
      "Ġbranches {'Ġsilently': 44, 'Ġwidely': 42, 'Ġcombat': 41, 'Ġrepeatedly': 40, 'Ġmorally': 40, 'Ġcommonly': 40, 'Ġalong': 39, 'Ġneedy': 39, 'Ġrav': 39, 'Ġtowards': 38}\n",
      "Ġshielded {'ĠAgainst': 44, 'Against': 43, 'Ġcomprehens': 43, 'Ġthoroughly': 41, 'Ġagainst': 40, 'Ġfrom': 40, 'Ġforever': 39, 'Ġradically': 38, 'Ġso': 38, 'Ġmorally': 37}\n",
      "ipples {'Ġthroughout': 47, 'Ġwidely': 41, 'Ġlawfully': 41, 'Ġthrough': 41, 'Ġonce': 40, 'Ġequally': 39, 'Ġacross': 38, 'Ġaround': 38, 'Ġwell': 38, 'Ġbesides': 38}\n",
      "Activity {'Ġtowards': 43, 'ĠTowards': 43, 'Ġtoward': 42, 'Ġagainst': 42, 'Ġduring': 40, 'oward': 40, 'ĠAgainst': 39, 'Ġwithout': 38, 'against': 38, 'ĠDuring': 37}\n",
      "ĠTrilogy {'Ġwee': 43, 'Ġduring': 42, 'Ġwhile': 41, 'ociated': 41, 'ĠCran': 40, 'Ġroadside': 40, 'Ġbefore': 40, 'Ġappe': 39, 'Ġconcerning': 39, 'Ġbesides': 38}\n",
      "Taking {'Ġliterally': 45, 'Ġseriously': 43, 'Ġpersonally': 42, 'literally': 42, 'Ġsalt': 42, 'ĠSalt': 39, 'Ġsaliva': 38, 'Word': 37, 'Ġhostages': 37, 'Ġill': 37}\n",
      "ĠHighlander {'Ġso': 50, 'ĠSO': 45, 'Ġamong': 42, 'Ġamongst': 41, 'ĠSo': 40, 'ĠBarack': 37, 'ĠWinn': 37, 'so': 37, 'among': 36, 'Ġbarely': 36}\n",
      "Ġ]. {'Ġthus': 43, 'Ġso': 42, 'ĠSandy': 41, 'Ġroadside': 40, 'ĠReuters': 40, 'Ġamazingly': 40, 'Ġappre': 39, 'Ġlightly': 39, 'Ġonce': 39, 'Ġwell': 38}\n",
      "ĠpartName {'Ġalong': 47, 'Ġconcerning': 43, 'Ġbefore': 43, 'Ġamong': 40, '«': 39, 'Ġwithout': 39, 'Ġaround': 39, 'Ġso': 38, 'ĠAlong': 37, 'Ġduring': 37}\n",
      "unique {'Ġamong': 52, 'Ġamongst': 48, 'among': 44, 'ĠAmong': 44, 'Among': 42, 'Ġwithin': 38, 'ĠWithin': 35, 'Ġamidst': 34, 'Ġamid': 32, 'Ġweekday': 31}\n",
      "Ġprerequisite {'Ġbefore': 51, 'ĠBEFORE': 46, 'Before': 40, 'ĠBefore': 40, 'Ġevery': 40, 'Ġunab': 38, 'ä½¿': 37, 'Ġlif': 37, 'Ġfor': 37, 'Ġsomeone': 36}\n",
      "Ġunstoppable {'Ġexcept': 42, 'Ġwithout': 42, 'except': 42, 'Ġwithin': 42, 'combat': 41, 'Ġunless': 40, 'Ġunder': 39, 'Ġplug': 39, 'Ġerupt': 38, 'Ġoust': 37}\n",
      "Ġsqueezed {'Ġbetween': 48, 'between': 42, 'ĠBetween': 42, 'ixt': 41, 'Between': 40, 'Ġsocially': 40, 'Ġsenseless': 38, 'Ġbeneath': 37, 'Ġwee': 37, 'Ġvisibly': 36}\n",
      "Ġpercentages {'Ġamong': 46, 'Ġamongst': 43, 'ĠAmong': 41, 'among': 40, 'Among': 40, 'ĠWHO': 40, 'Ġwho': 40, 'Ġvisibly': 38, 'Ġwhose': 38, 'olars': 37}\n",
      "Located {'Near': 46, 'Ġnear': 43, 'ĠNear': 43, 'Ġamongst': 41, 'Ġbeside': 41, 'Ġamong': 40, 'Ġroadside': 39, 'Ġsocially': 37, 'Ġdisproportionately': 36, 'Ġremotely': 36}\n",
      "Ġincorporated {'Ġinto': 46, 'edIn': 45, 'ĠInto': 41, 'Ġso': 41, 'ĠINTO': 40, 'Ġin': 39, 'Ġliterally': 39, 'Ġwhen': 38, 'Ġmeas': 37, 'Ġseamlessly': 37}\n",
      "Ġswitches {'Ġsyn': 43, 'Ġmid': 43, 'igm': 42, 'Ġidle': 41, 'ĠMid': 40, 'Ġfrequently': 40, 'syn': 40, 'Ġamong': 38, 'Ġprecon': 38, 'Ġabst': 37}\n",
      "Ġdisappeared {'Ġforever': 43, 'Ġwithout': 42, 'Ġthrough': 41, 'Ġinto': 41, 'Ġamidst': 40, 'ĠWITHOUT': 39, 'aneously': 39, 'Ġduring': 39, 'Ġunderneath': 39, 'Ġunder': 38}\n",
      "ĠGained {'ĠThrough': 42, 'Ġthrough': 42, 'agically': 41, 'Ġvividly': 41, 'Ġsince': 40, 'Through': 40, 'Ġmagically': 39, 'Ġduring': 39, 'Ġinstinctively': 39, 'Ġprematurely': 39}\n",
      "({ {'æĪ': 43, 'dayName': 42, 'ĠBlitz': 42, 'Ġflashback': 40, 'ĠReuters': 40, 'UTERS': 40, 'ĠCitadel': 40, 'azeera': 39, 'ambers': 39, 'åľ': 39}\n",
      "igrated {'Ġalong': 44, 'Ġover': 43, 'ĠOVER': 41, 'Ġtowards': 41, 'Ġso': 40, 'Ġsilently': 40, 'Ġvia': 39, 'Ġprofoundly': 38, 'Ġunder': 38, 'Ġunders': 38}\n",
      "ĠChange {'ĠForever': 45, 'Ġso': 43, 'Ġforever': 43, 'Ġfrom': 41, 'Ġaccordingly': 40, 'ĠMood': 39, 'Ġtowards': 38, 'Ġmid': 38, 'Ġradically': 37, 'agically': 37}\n",
      "Ġincorporating {'Ġinto': 48, 'ĠInto': 45, 'ĠINTO': 42, 'into': 41, 'Ġseamlessly': 40, 'edIn': 39, 'Ġtherein': 38, 'Ġliterally': 36, 'Ġmyself': 36, 'Ġduring': 36}\n",
      "udder {'Ġhonestly': 43, 'Ġevery': 42, 'Ġsilently': 41, 'Ġtooth': 41, 'Ġsimultaneously': 41, 'Ġheartfelt': 39, 'Ġsubtly': 39, 'Ġamazingly': 39, 'Ġnear': 39, 'Ġunderneath': 38}\n",
      ".): {'ĠSO': 44, 'Ġso': 43, 'Reuters': 41, 'Ġwr': 41, 'Ġcer': 39, 'Ġanswered': 39, 'adena': 39, 'ĠGazette': 39, 'ĠRUN': 39, 'ĠOH': 38}\n",
      "ibrary {'Ġuntil': 46, 'Ġthroughout': 41, 'Ġwhis': 41, 'Ġwithout': 40, 'Ġever': 40, 'Ġtill': 40, 'ĠEVER': 39, 'ĠUSAF': 38, 'Until': 38, 'english': 37}\n",
      "Ġtrillion {'Ġoverfl': 46, 'Ġthroughout': 43, 'Ġover': 41, 'Ġoverwhelmingly': 41, 'Ġthrough': 40, 'Ġhonestly': 38, 'redibly': 38, 'ĠInterstate': 38, 'ĠOVER': 38, 'ĠBroadway': 38}\n",
      "ĠWidow {'Ġmisunder': 51, 'Ġduly': 43, 'Ġoverfl': 43, 'Ġbeforehand': 38, 'Ġinflu': 38, 'Ġamong': 38, 'Ġusur': 38, 'ĠDesire': 38, 'Ġinaccur': 38, 'Ġamid': 37}\n",
      "Ġactivation {'Ġduring': 48, 'Ġvia': 44, 'Ġthrough': 43, 'during': 40, 'Ġthru': 39, 'ĠThrough': 39, 'Ġwhen': 38, 'ĠDuring': 38, 'via': 36, 'During': 36}\n",
      "Ġapplies {'Ġequally': 45, 'Ġfrequently': 41, 'Ġthroughout': 41, 'Ġwidely': 41, 'Ġevenly': 40, 'Ġrepeatedly': 39, 'Ġconstantly': 39, 'Ġmorally': 39, 'Ġresponsibly': 38, 'Ġregularly': 38}\n",
      "------------------------------------------------ {'Ġso': 45, 'umn': 42, 'gov': 40, 'Ġimm': 40, 'Ġthus': 40, 'pread': 40, 'Ġappre': 39, 'MSN': 39, 'Ġrevers': 39, 'ĠCert': 39}\n",
      "insured {'Ġagainst': 49, 'ĠAgainst': 48, 'Against': 48, 'against': 45, 'Ġforever': 38, 'Ġthoroughly': 36, 'Ġmorally': 35, 'Ġthorough': 35, 'Ġeconomically': 34, 'Ġgenerously': 34}\n",
      "Ġcommenced {'Ġimmediately': 45, 'mediately': 43, 'Ġearly': 41, 'ĠImmediately': 40, 'Ġhalfway': 40, 'Ġuntreated': 40, 'Ġduring': 39, 'edIn': 38, 'Ġstarving': 38, 'Ġmidway': 38}\n",
      "Adding {'ĠTogether': 49, 'Ġtogether': 44, 'Ġtil': 41, 'Ġwee': 40, 'together': 38, 'Ġprematurely': 38, 'Ġtill': 38, 'Ġensu': 38, 'Together': 38, 'Ġregularly': 37}\n",
      "Ġavoided {'Ġcompletely': 48, 'Ġtotally': 44, 'Ġentirely': 43, 'Ġutterly': 40, 'Ġforever': 39, 'Ġaltogether': 38, 'completely': 38, 'Ġbecause': 38, 'Ġpor': 37, 'Ġuntil': 37}\n",
      "Ġthanking {'Ġfor': 45, 'Ġgenerously': 42, 'Ġremarkably': 41, 'Ġthoroughly': 40, 'Ġprofoundly': 40, 'for': 40, 'Ġcalmly': 39, 'redibly': 39, 'ĠFOR': 37, 'Ġhorribly': 37}\n",
      "ĠCongratulations {'Ġon': 48, 'Ġupon': 45, 'ĠON': 43, 'On': 40, 'ĠOn': 39, 'upon': 39, 'Upon': 38, 'Ġonto': 37, 'ĠUpon': 37, 'Ġcram': 34}\n",
      "Ġdeliberations {'Ġamong': 48, 'Ġamongst': 43, 'Ġagainst': 42, 'among': 40, 'against': 40, 'Ġamidst': 40, 'ĠAmong': 38, 'Ġamid': 37, 'Against': 37, 'Among': 37}\n",
      "_{ {'ĠIST': 43, 'cedented': 42, 'ĠSO': 42, 'ĠSHARES': 40, 'Sound': 40, 'Ġso': 39, 'ambers': 39, 'ĠReal': 39, 'ĠChase': 39, 'æĪ': 38}\n",
      "dozen {'Ġamazingly': 44, 'Ġsorely': 42, 'Ġtimely': 42, 'Ġhorribly': 40, 'Ġimmediately': 39, 'Ġthoroughly': 39, 'Ġwonderfully': 39, 'Ġduring': 38, 'Ġterribly': 38, 'ãĤ¤': 38}\n",
      "improve {'Ġover': 49, 'ĠOVER': 49, 'ĠOver': 44, 'Over': 41, 'Ġovers': 39, 'Ġalong': 38, 'OVER': 35, 'Ġthrough': 35, 'ĠThrough': 35, 'Ġlongevity': 34}\n",
      "Ġ$_ {'UTERS': 45, 'archives': 44, 'regon': 40, 'Reuters': 40, 'rossover': 40, 'ĠReuters': 39, 'atisf': 39, 'Ire': 38, 'ongevity': 38, 'azeera': 38}\n",
      "teness {'Ġwhilst': 43, 'Ġuntil': 42, 'Ġwhile': 41, 'Ġso': 40, 'Ġvividly': 40, 'Ġmainly': 39, 'Ġtill': 39, 'Ġamong': 39, 'Ġchiefly': 39, 'Ġamongst': 38}\n",
      "Ġstrengthened {'ĠOVER': 45, 'Ġover': 44, 'Ġbeyond': 42, 'Ġagain': 39, 'Ġso': 39, 'Ġcomprehens': 39, 'Ġrepeatedly': 39, 'Ġtremendously': 38, 'redibly': 38, 'ĠOver': 37}\n",
      "âĢ¦] {'Ġappre': 45, 'Ġpree': 41, 'ĠEST': 40, 'Ġsyn': 40, 'ĠIST': 40, 'ĠBEFORE': 39, 'Ġso': 39, 'Ġcoinc': 39, 'Ġbefore': 39, 'ĠCFR': 38}\n",
      "ĠRankings {'Ġamong': 49, 'Ġamongst': 46, 'ĠAmong': 43, 'among': 41, 'Among': 41, 'Ġunder': 36, 'Early': 36, 'Near': 36, 'Ġduring': 36, 'Ġ1977': 35}\n",
      "Ġunchecked {'Ġbeforehand': 45, 'Ġamongst': 43, 'Against': 42, 'Ġamong': 41, 'ĠAgainst': 41, 'Ġafore': 40, 'Ġagainst': 39, 'Ġcomprehens': 37, 'Ġamidst': 37, 'Ġamid': 37}\n",
      "licts {'Ġamong': 44, 'ĠOverse': 43, 'ĠAgainst': 41, 'Ġagainst': 41, 'Ġduring': 39, 'Ġoverl': 39, 'Ġoverfl': 39, 'Ġoverd': 39, 'Ġheavily': 38, 'ĠOVER': 38}\n",
      "ĠReduced {'Ġfertility': 42, 'Ġduly': 42, 'agically': 41, 'Ġsimply': 40, 'Ġdrastically': 40, 'Ġso': 40, 'redibly': 40, 'Ġsubtly': 39, 'Ġdramatically': 39, 'inness': 39}\n",
      "Ġ\\(\\ {'Ġbreeze': 45, 'ĠRarity': 43, 'ĠEDT': 41, 'ĠReuters': 40, 'onis': 40, 'ĠHits': 39, 'Ġanyone': 39, 'Ġfans': 38, 'Ġeveryone': 38, 'Ġponies': 38}\n",
      "ĠBecame {'Ġprofessionally': 40, 'Ġsimultaneously': 40, 'Ġwee': 40, 'Ġbilingual': 40, 'Ġmelancholy': 40, 'Ġduring': 40, 'Ġwhen': 40, 'Ġgenuinely': 40, 'Ġimmediately': 39, 'Ġimmutable': 39}\n",
      "Ġunderestimated {'Ġbecause': 45, 'Ġby': 42, 'Ġat': 41, 'Ġfeas': 40, 'because': 39, 'Ġscientifically': 39, 'Ġbeforehand': 39, 'Ġwhen': 38, 'Ġtechnically': 38, 'Ġenormously': 38}\n",
      "Ġexceptions {'Ġwhen': 47, 'Ġduring': 43, 'When': 40, 'ĠWhen': 40, 'Ġuntreated': 39, 'when': 39, 'ĠDuring': 39, 'Ġnever': 39, 'Ġwhenever': 37, 'Ġamong': 37}\n",
      "Ġexcess {'Ġover': 48, 'ĠOVER': 44, 'OVER': 41, 'ĠOver': 41, 'Ġoverfl': 40, 'Over': 39, 'Ġovers': 38, 'over': 37, 'Ġoverl': 35, 'overs': 35}\n",
      ",) {'Ġsubst': 42, 'Ġevery': 42, 'Ġcoinc': 42, 'æĪ': 41, 'Ġcer': 40, 'Ġwhis': 39, 'Ġeveryone': 38, 'gov': 38, 'Ġimmediately': 38, 'CRE': 38}\n",
      "=' {'Ġso': 43, 'ĠSO': 41, 'ĠRarity': 41, 'ĠSHARES': 40, 'Ġtimestamp': 40, 'ĠSandy': 39, 'ĠHits': 39, 'Elsa': 39, 'Ġappre': 39, 'ĠKasich': 39}\n",
      "Ġimproved {'Ġover': 46, 'ĠOVER': 44, 'Ġdramatically': 40, 'Ġbeyond': 40, 'Ġso': 39, 'ĠOver': 38, 'Ġenormously': 38, 'Ġprofoundly': 38, 'Ġalong': 38, 'Ġovers': 38}\n",
      "Ġworsened {'Ġlongevity': 42, 'Ġalong': 42, 'Ġfinancially': 41, 'Ġgreatly': 40, 'Ġhabitable': 40, 'Ġmedically': 39, 'Ġcomprehens': 39, 'Ġso': 39, 'Ġcontinuously': 39, 'Ġenormously': 39}\n",
      "Ġglanced {'Ġamongst': 46, 'UTERS': 41, 'Ġtowards': 41, 'ĠTowards': 40, 'Round': 39, 'ĠFrequ': 39, 'Ġtoward': 39, 'Ġamong': 38, 'Ġat': 38, 'Ġcomprehens': 38}\n",
      "Ġ): {'Ġso': 41, 'Ġcer': 40, 'Ġanswered': 40, 'æĪ': 40, 'ĠSO': 40, 'Ġnever': 40, 'Ġtripled': 40, 'Ġcoinc': 39, 'Ġcongr': 39, 'ĠCOURT': 39}\n",
      "available {'Ġthroughout': 43, 'Ġthrough': 42, 'Ġthru': 41, 'Ġfreely': 41, 'Ġinexpensive': 40, 'Ġcheaply': 40, 'Ġcommercially': 39, 'Ġcheap': 38, 'ĠThrough': 38, 'Through': 37}\n",
      "ĠIncluded {'Ġamong': 52, 'Ġamongst': 50, 'among': 43, 'Ġamidst': 38, 'ĠAmong': 37, 'Ġwithin': 37, 'Ġalongside': 36, 'Ġbehind': 36, 'edIn': 36, 'ĠBehind': 35}\n",
      "changes {'ĠForever': 43, 'Ġduring': 41, 'Ġbetween': 41, 'Ġforever': 41, 'Ġinto': 40, 'Ġrepeatedly': 39, 'Ġfrom': 39, 'Ġaccordingly': 39, 'ĠBetween': 38, 'Ġover': 38}\n",
      "> {'Whoever': 43, 'Ġwhoever': 42, 'Ġcram': 41, 'ĠWhoever': 41, 'ĠReuters': 39, 'ĠRarity': 39, 'ĠImmediately': 39, 'Ġhowever': 39, 'gov': 38, 'Ġme': 38}\n",
      "Ġinsertion {'Ġhere': 45, 'Ġbetween': 44, 'Ġinto': 41, 'between': 41, 'Between': 39, 'Ġonto': 39, 'Ġso': 38, 'ĠBetween': 38, 'ĠINTO': 38, 'Ġbeneath': 37}\n",
      "Ġshifting {'Ġso': 47, 'Ġvers': 42, 'Ġtowards': 42, 'Ġfortunes': 41, 'Ġinward': 39, 'Ġslightly': 38, 'Ġtoward': 38, 'Ġbadly': 38, 'ĠViews': 37, 'Ġalong': 37}\n",
      "< {'ĠSHARES': 46, 'ĠRarity': 46, 'Ġappre': 41, 'ĠREUTERS': 40, 'Ġcer': 39, 'ĠKasich': 38, 'ĠConn': 38, 'ĠReuters': 38, 'ĠSting': 38, 'ĠIRC': 37}\n",
      "ĠGoals {'Ġnever': 44, 'ĠNever': 44, 'ĠAgainst': 42, 'Never': 41, 'ĠNEVER': 40, 'Ġagainst': 40, 'Against': 39, 'ĠIgnore': 37, 'Ġavoid': 37, 'ĠRemain': 36}\n",
      "gressive {'Ġso': 43, 'Ġthroughout': 42, 'Ġwhilst': 41, 'Ġalthough': 40, 'Ġwhile': 40, 'Ġduring': 39, 'Ġovers': 39, 'Ġsubtly': 39, 'Ġwhen': 39, 'Ġuntil': 38}\n",
      "=( {'azeera': 41, 'Via': 41, 'ĠVia': 40, 'ĠBL': 40, 'ĠReuters': 40, 'ĠIST': 40, 'regon': 39, 'ĠRarity': 39, 'Ġwee': 39, 'Guest': 39}\n",
      "Ġpriority {'Ġover': 49, 'ĠOVER': 45, 'ĠOver': 43, 'Over': 41, 'OVER': 38, 'Ġovercoming': 38, 'Ġovers': 37, 'over': 36, 'Ġovercome': 36, 'Ġoverl': 35}\n",
      "Ġdisadvantaged {'Ġfinancially': 44, 'Ġsexually': 41, 'Ġagainst': 41, 'Ġmorally': 40, 'ĠAgainst': 40, 'Ġeconomically': 39, 'Ġcommercially': 39, 'orically': 39, 'Ġsocially': 38, 'Ġprofoundly': 38}\n",
      "efeated {'Ġthroughout': 48, 'Ġever': 43, 'Ġso': 43, 'Ġduring': 43, 'Ġsince': 41, 'Ġuntil': 38, 'ĠEVER': 38, 'Ġwhilst': 36, 'Ġunbelievably': 35, 'Ġwhile': 35}\n",
      "Ġunsupported {'Ġuntil': 46, 'By': 45, 'ĠBy': 43, 'Ġby': 40, 'ĠUntil': 39, 'Ġthroughout': 38, 'Until': 38, 'éĥ': 37, 'until': 37, 'redibly': 37}\n",
      "ĠPercentage {'Ġamong': 44, 'Ġamongst': 43, 'Ġvisibly': 40, 'Ġherself': 40, 'Ġwho': 40, 'Ġyourself': 39, 'Ġmyself': 39, 'ĠAmong': 38, 'Ġhimself': 38, 'Ġyourselves': 38}\n",
      "Ġ\"/ {'ews': 43, 'ĠReuters': 41, 'Ġquickly': 40, 'Reuters': 40, 'azeera': 40, 'onew': 40, 'NEWS': 39, 'archives': 39, 'dayName': 39, 'Trivia': 38}\n",
      "Č {'ĠCert': 45, 'ĠSO': 43, 'ĠORIG': 40, 'ĠSHARES': 40, 'ĠEST': 39, 'ĠFallon': 39, 'ĠCOURT': 39, 'ĠEX': 38, 'ĠCTR': 38, 'ĠOB': 38}\n",
      "Statement {'Ġduring': 45, 'ĠDuring': 45, 'Ġconcerning': 43, 'Ġintimate': 40, 'Ġthus': 39, 'During': 39, 'cerning': 38, '«': 37, 'Ġmorally': 36, 'Ġso': 36}\n",
      "Ġ> {'ĠJohnny': 42, 'ĠRarity': 41, 'ĠReuters': 40, 'zh': 40, 'gov': 40, 'Whoever': 40, 'Ġwhoever': 40, 'ĠBUT': 39, 'ĠWhoever': 39, 'regon': 38}\n",
      "Better {'Ġdan': 47, 'Ġthen': 46, 'Then': 42, 'ĠThen': 41, 'ĠThan': 39, 'Ġthan': 38, 'ĠTHEN': 37, 'then': 37, 'han': 36, 'than': 35}\n",
      "Ġ{} {'ĠFallon': 41, 'CEPT': 40, 'ItemImage': 40, 'ThumbnailImage': 40, 'Ġturnout': 40, 'dayName': 40, 'ĠSere': 39, 'Ġensu': 39, 'laughs': 39, 'Ġinev': 39}\n",
      "tailed {'Ġequally': 43, 'Ġbadly': 41, 'Ġfavorably': 41, 'Ġvividly': 40, 'Ġmorally': 40, 'Ġremotely': 39, 'Ġhalfway': 39, 'Ġwithout': 39, 'Ġcomprehens': 38, 'Ġonce': 38}\n",
      "Neither {'ĠEver': 46, 'Ġever': 41, 'ĠCursed': 41, 'ĠEVER': 40, 'Ġbelievable': 40, 'Ġeff': 39, 'Ġaffected': 38, 'Ġaddressed': 38, 'Ġexhausted': 38, 'Ġbothers': 37}\n",
      "ĠReplace {'With': 45, 'Ġwith': 44, 'ĠWith': 43, 'with': 42, 'ĠWITH': 40, 'Ġpar': 38, 'Ġwid': 37, 'Ġby': 37, 'ĠBy': 36, 'Ġcompletely': 36}\n",
      "(\" {'ĠReuters': 44, 'Ġwhoever': 42, 'Reuters': 41, 'Sound': 41, 'ĠSpicer': 40, 'SourceFile': 38, 'ĠEDT': 38, 'ĠSO': 38, 'omever': 38, 'ĠWhoever': 38}\n",
      "Ġwhichever {'ews': 43, 'ĠTru': 41, 'banks': 40, 'ĠHits': 40, 'Ġspotted': 40, 'Ġpriorities': 39, 'pires': 39, 'ĠResidents': 39, 'ecided': 39, 'ĠDoors': 39}\n",
      "\":\" {'ĠPract': 42, 'ĠRarity': 41, 'ĠKat': 41, 'ĠHelpful': 40, 'ĠQur': 40, 'ĠFallon': 39, 'ĠIST': 39, 'æĪ': 39, 'ĠSpicer': 39, 'ĠKoen': 39}\n",
      "Ġshortened {'Ġso': 46, 'Ġwithout': 40, 'Ġidle': 40, 'Ġmidway': 40, 'Ġhalfway': 40, 'Ġbeyond': 39, 'Ġutterly': 39, 'Ġby': 39, 'redibly': 38, 'Ġprofoundly': 38}\n",
      "Ġdecreased {'Ġenormously': 44, 'Ġprofoundly': 42, 'Ġdrastically': 40, 'Ġconsiderably': 40, 'Ġradically': 39, 'Ġfertility': 39, 'Ġvastly': 39, 'Ġtremendously': 39, 'Ġdramatically': 39, 'Ġfrom': 38}\n",
      "Ġbenefiting {'Ġenormously': 44, 'Ġmorally': 43, 'Ġharshly': 40, 'Ġtremendously': 40, 'Ġemotionally': 40, 'orically': 39, 'Ġequally': 39, 'Ġprofoundly': 38, 'Ġdramatically': 38, 'Ġspiritually': 38}\n",
      "Ġdifferences {'Ġbetween': 49, 'ĠBetween': 44, 'between': 42, 'Ġdepending': 40, 'Between': 40, 'ixt': 39, 'Ġamong': 39, 'Ġsexes': 36, 'Ġsocially': 35, 'Ġphysically': 35}\n",
      ">. {'Ġregularly': 44, 'Trivia': 42, 'ĠSHARES': 41, 'ĠIST': 41, 'ĠAlexis': 40, 'ĠSandy': 40, 'ĠReuters': 38, 'ĠEsther': 38, 'ĠJohnny': 38, 'ĠRarity': 37}\n",
      "Includes {'Ġamong': 47, 'Ġamongst': 46, 'Ġinto': 40, 'ĠINTO': 39, 'Ġshockingly': 39, 'Ġtherein': 38, 'Ġso': 38, 'ĠInto': 38, 'Ġeverything': 37, 'Ġalongside': 37}\n",
      "Ġunderrated {'Ġamong': 44, 'Ġbecause': 42, 'Ġso': 41, 'Ġamongst': 40, 'Ġby': 40, 'Among': 40, 'among': 39, 'ĠAmong': 38, 'ught': 37, 'Ġuntil': 37}\n",
      "ospace {'Ġamong': 49, 'Ġbetween': 42, 'Ġamongst': 41, 'Ġoverfl': 40, 'among': 39, 'Ġafter': 39, 'Ġso': 38, 'Ġamid': 38, 'Ġamidst': 37, 'Ġbeforehand': 37}\n",
      "autions {'Ġagainst': 49, 'ĠAgainst': 47, 'against': 45, 'Against': 44, 'Ġduring': 37, 'Ġprevent': 36, 'Ġignored': 36, 'Ġprevented': 35, 'Ġconcerning': 35, 'Ġnever': 34}\n",
      "missing {'Ġpainfully': 44, 'Ġutterly': 44, 'redibly': 43, 'ribly': 41, 'Ġvividly': 40, 'Ġprofoundly': 38, 'Ġterribly': 38, 'Ġso': 37, 'Ġovertly': 37, 'Ġhorribly': 36}\n",
      "Ġprotects {'ĠAgainst': 47, 'Against': 46, 'Ġagainst': 43, 'Ġfrom': 41, 'against': 39, 'From': 39, 'ĠFrom': 37, 'Ġform': 37, 'ĠFROM': 34, 'Ġradically': 34}\n",
      "Ġconvertible {'Ġmorally': 44, 'Ġwithout': 44, 'ĠWITHOUT': 42, 'Without': 39, 'without': 39, 'atically': 39, 'Ġstatically': 38, 'ĠWithout': 38, 'Ġmedically': 38, 'Ġprofoundly': 38}\n",
      "Ġcrore {'Ġevery': 44, 'Ġpersonally': 41, 'Ġsubtly': 40, 'Ġimmediately': 40, 'Ġalone': 40, 'Ġrepeatedly': 39, 'Ġthroughout': 39, 'Ġconstantly': 39, 'Ġwee': 38, 'Ġanyway': 38}\n",
      "ĠSpoiler {'Ġappe': 42, 'ĠBloody': 42, 'Ġso': 41, 'ĠRemain': 41, 'Ġambiguous': 40, 'Ġbrazen': 39, 'Ġdisbel': 38, 'Ġwee': 38, 'ĠSo': 38, 'ĠConst': 38}\n",
      "Ġshielding {'ĠAgainst': 45, 'Against': 44, 'Ġagainst': 41, 'Ġform': 41, 'Ġfrom': 39, 'Ġforever': 39, 'Ġmorally': 38, 'against': 38, 'From': 37, 'Ġcold': 36}\n",
      "Ġanonymity {'Ġbecause': 43, 'Ġamong': 43, 'Ġunder': 41, 'Ġbehind': 41, 'Ġamidst': 39, 'Ġwithin': 39, 'Ġamongst': 39, 'Ġduring': 38, 'Ġinside': 37, 'because': 36}\n",
      "Ġhurts {'Ġprofoundly': 43, 'Ġtremendously': 42, 'Ġrepeatedly': 42, 'Ġmorally': 41, 'Ġequally': 41, 'Ġenormously': 41, 'Ġvisibly': 37, 'Ġfinancially': 37, 'Ġsimultaneously': 37, 'Ġterribly': 36}\n",
      "ĠDifficulty {'Ġlawfully': 41, 'Ġcombat': 41, 'cipled': 41, 'Ġtechnically': 40, 'Ġbecause': 40, 'Ġsimultaneously': 39, 'Living': 39, 'seeing': 39, 'Ġfinancially': 39, 'Ġknowing': 38}\n",
      "ĠSharing {'Ġequally': 43, 'Ġamongst': 42, 'Ġamong': 41, 'Ġsocially': 41, 'Ġprivately': 40, 'Ġpublicly': 40, 'Ġopenly': 38, 'Ġbetween': 38, 'Ġglobally': 37, 'Ġfreely': 37}\n",
      ".< {'ĠSHARES': 46, 'zh': 40, 'URI': 40, 'ĠREUTERS': 40, 'Ġappre': 40, 'UTERS': 39, 'ĠRarity': 39, 'Ġsterling': 38, 'Ġeng': 38, 'ĠIST': 38}\n",
      "Ġhandles {'Ġfavorably': 43, 'Ġpositively': 42, 'Ġharshly': 40, 'Ġhonestly': 40, 'Ġpersonally': 40, 'Ġequally': 40, 'Ġcreatively': 39, 'Ġmagically': 38, 'Ġtechnically': 38, 'Ġresponsibly': 38}\n",
      "ĠFinals {'Ġbefore': 50, 'ĠBEFORE': 44, 'Before': 44, 'ĠBefore': 41, 'before': 39, 'Ġpre': 38, 'Ġduring': 37, 'Ġcomprehens': 36, 'ĠUSAF': 34, 'Ġagainst': 34}\n",
      "ĠBegins {'Ġimmediately': 44, 'Ġhalfway': 41, 'ĠTuesday': 40, 'Ġmidway': 39, 'Ġmidday': 39, 'ĠMonday': 39, 'mediately': 39, 'Ġnowhere': 39, 'ĠWednesday': 38, 'Ġearly': 38}\n",
      "ĠVortex {'Ġround': 42, 'ĠOverse': 41, 'Ġso': 41, 'round': 41, 'Ġwee': 39, 'redibly': 39, 'Ġpret': 39, 'Ġnear': 39, 'Round': 38, 'Ġconce': 38}\n",
      "Ġwidest {'ĠEVER': 44, 'Ġever': 44, 'ĠEver': 43, 'Ġso': 43, 'Ġamong': 38, 'ĠTru': 37, 'Ġthroughout': 37, 'Ġroadside': 37, 'ĠWorldwide': 37, 'Ever': 36}\n",
      "Ġredacted {'Ġuntil': 41, 'Ġtill': 41, 'Ġbeforehand': 41, 'Ġwhen': 40, 'Ġafterward': 40, 'Ġtooth': 40, 'Ġafter': 40, 'Ġwhenever': 38, 'Ġbecause': 38, 'Ġforever': 38}\n",
      "ishy {'Ġso': 46, 'Ġthoroughly': 42, 'Ġprofoundly': 40, 'Ġnonetheless': 40, 'Ġwee': 39, 'Ġnevertheless': 39, 'Ġwell': 38, 'Ġevery': 38, 'Ġutterly': 38, 'ĠPear': 38}\n",
      "Ġpierced {'Ġprofoundly': 44, 'redibly': 44, 'Ġcomprehens': 43, 'Ġpainfully': 39, 'Ġthrough': 39, 'ĠThrough': 38, 'Ġequally': 38, 'Ġtremendously': 38, 'Ġwidely': 37, 'Ġdeeply': 37}\n",
      "ĠDistribution {'Ġamong': 47, 'Ġamongst': 44, 'among': 41, 'Ġbetween': 40, 'Ġequally': 39, 'Ġworldwide': 38, 'ĠNationwide': 37, 'Ġacross': 37, 'Ġwidely': 37, 'ĠAmong': 37}\n",
      "Ġlowest {'Ġever': 49, 'ĠEVER': 49, 'ĠEver': 44, 'Ġso': 40, 'Ġwhis': 36, 'Ġstill': 36, 'Ġvisibly': 36, 'ceivable': 36, 'Ġthus': 35, 'Ġforever': 35}\n",
      "orst {'Ġever': 46, 'ĠEVER': 45, 'Ġsince': 44, 'ĠEver': 43, 'Ġamong': 40, 'Ġbecause': 38, 'Ġthroughout': 37, 'Ġalthough': 36, 'Ġlivelihood': 36, 'Ġso': 35}\n",
      "Ġpriorities {'Ġover': 48, 'ĠOVER': 45, 'ĠOver': 42, 'Ġovercome': 40, 'Over': 39, 'Ġagainst': 37, 'OVER': 37, 'Ġavoid': 37, 'Ġinclude': 36, 'ĠAgainst': 35}\n",
      "Ġunexplained {'Ġwithout': 48, 'ĠWithout': 41, 'Ġunless': 40, 'Ġtechnically': 39, 'ĠWITHOUT': 39, 'Ġbesides': 39, 'Ġwithin': 38, 'without': 38, 'Ġalone': 37, 'Ġindependently': 37}\n",
      "Ġmigrated {'Ġtowards': 47, 'Ġalong': 46, 'Ġtoward': 43, 'Ġsilently': 39, 'ĠTowards': 39, 'Ġfrequently': 38, 'Ġvers': 37, 'Ġupstream': 37, 'Ġduring': 36, 'along': 35}\n",
      "ãĢİ {'Ġfeas': 44, 'INTON': 40, 'cedented': 40, 'ĠParadise': 40, 'ĠMeadows': 39, 'azeera': 39, 'ĠPrelude': 39, 'ĠSO': 38, 'ĠCOURT': 38, 'ĠCON': 38}\n",
      "Ġprivileged {'Ġover': 47, 'ĠOVER': 44, 'Over': 41, 'ĠOver': 41, 'OVER': 40, 'Ġbeing': 38, 'pread': 38, 'Ġcombat': 37, 'ouver': 36, 'Ġimmediately': 36}\n",
      "gettable {'Ġforever': 47, 'Ġever': 43, 'Ġroadside': 40, 'Ġevery': 39, 'Ġthroughout': 39, 'ĠEVER': 38, 'Ġsimultaneously': 38, 'Ġalone': 38, 'Ġduring': 37, 'Ġwithout': 37}\n",
      "ĠMust {'Ġsurvive': 43, 'Ġfore': 42, 'Ġlawfully': 41, 'Ġbefore': 41, 'Ġpree': 39, 'Before': 39, 'Otherwise': 39, 'Ġundergo': 38, 'Ġtakeoff': 38, 'ĠOtherwise': 38}\n",
      "Ġswitched {'Ġso': 43, 'Ġfrequently': 42, 'agically': 41, 'Ġdrastically': 40, 'Ġidle': 39, 'Ġsilently': 39, 'Ġconstantly': 38, 'Ġbecause': 38, 'Ġprofoundly': 38, 'Ġabst': 38}\n",
      "ĠConversion {'Ġinto': 46, 'ĠInto': 45, 'ĠINTO': 43, 'Ġunto': 43, 'into': 40, 'Ġtil': 37, 'Ġelectric': 36, 'Ġto': 36, 'Ġsed': 35, 'Ġthru': 35}\n",
      "ĠKeystone {'Ġthrough': 47, 'ĠThrough': 43, 'Through': 41, 'Ġapost': 40, 'Ġthroughout': 39, 'atisf': 39, 'Ġalong': 37, 'Ġappet': 37, 'Ġvia': 37, 'Ġthru': 36}\n",
      "Ġ\"[ {'ĠRarity': 41, 'ĠReuters': 41, 'ĠBL': 40, 'UTERS': 40, 'ews': 39, 'ĠCrown': 39, 'ĠEST': 39, 'ĠUSAF': 39, 'Via': 39, 'ĠConst': 38}\n",
      "protected {'ĠAgainst': 43, 'Ġfrom': 42, 'Ġagainst': 42, 'Against': 40, 'Ġvividly': 40, 'From': 40, 'ĠFrom': 37, 'Ġby': 37, 'against': 37, 'Ġstatically': 36}\n",
      "ivable {'Ġwithout': 42, 'Ġcommercially': 41, 'Ġsilently': 40, 'Ġupon': 40, 'Ġhonestly': 40, 'Ġalone': 39, 'Ġthus': 39, 'Ġobjectively': 39, 'Ġcommonly': 38, 'Ġsincerely': 38}\n",
      "Unknown {'Ġunless': 45, 'Ġuntil': 44, 'ĠExcept': 40, 'Ġexcept': 39, 'Ġbeforehand': 39, 'Ġtill': 38, 'Except': 38, 'Ġduring': 38, 'Unless': 38, 'Ġyet': 37}\n",
      "Ġbillion {'Ġoverwhelmingly': 42, 'Ġoverfl': 42, 'Ġthroughout': 40, 'Ġworldwide': 40, 'ĠUSAF': 40, 'ĠBroadway': 39, 'Ġcrossover': 39, 'Ġenormously': 38, 'ĠWorldwide': 38, 'Ġuniversally': 38}\n",
      "ĠDrawn {'Ġrandomly': 43, 'atically': 42, 'Ġinward': 41, 'Ġautomatically': 39, 'Ġdisproportionately': 39, 'Ġagain': 39, 'Ġradically': 39, 'Ġregularly': 38, 'Ġprofoundly': 38, 'Ġsilently': 38}\n",
      "Ġdeepening {'ĠThames': 43, 'Ġcomprehens': 42, 'Ġconstellation': 41, 'Ġbeyond': 40, 'Ġwee': 39, 'Ġcontinental': 39, 'Ġmenstru': 38, 'ĠCrimson': 38, 'ĠFranken': 38, 'ĠHorizons': 38}\n",
      "ĠRemoved {'Ġso': 43, 'Ġthrough': 40, 'Ġvia': 40, 'Ġmorally': 40, 'Via': 40, 'Ġprematurely': 39, 'Ġsilently': 39, 'agically': 39, 'ĠVia': 39, 'Ġthoroughly': 38}\n",
      "Something {'Ġbesides': 48, 'esides': 46, 'Ġnamely': 40, 'Ġduring': 39, 'Ġalong': 39, 'Ġunusually': 38, 'Besides': 38, 'Ġroadside': 37, 'ĠBesides': 36, 'Ġlikes': 36}\n",
      "Ġpresided {'Ġover': 52, 'ĠOVER': 45, 'ĠOver': 42, 'Ġovers': 40, 'Over': 37, 'Ġat': 37, 'Ġbefore': 36, 'Ġoverc': 36, 'edIn': 35, 'Ġalong': 35}\n",
      "Ġredesigned {'Ġso': 45, 'Ġaccordingly': 45, 'Ġcomprehens': 42, 'atically': 40, 'Ġafter': 38, 'Ġdrastically': 38, 'agically': 38, 'Ġradically': 37, 'Ġnarrowly': 37, 'Ġmorally': 36}\n",
      "arious {'Ġthus': 42, 'ĠReuters': 42, 'ĠThrough': 41, 'Ġalong': 40, 'Reuters': 39, 'ĠREUTERS': 39, 'Ġthrough': 39, 'Through': 38, 'Ġmounted': 38, 'UTERS': 38}\n",
      "Someone {'Ġbesides': 50, 'Ġcredited': 45, 'Ġindependently': 40, 'Ġunaffected': 40, 'esides': 38, 'Ġbeside': 38, 'Ġdreamed': 36, 'Ġevery': 36, 'Ġspotted': 36, 'Ġoverlooked': 36}\n",
      "Ġpersists {'Ġthroughout': 53, 'ĠThroughout': 44, 'Throughout': 42, 'Ġunaffected': 38, 'Ġforever': 37, 'Ġunab': 37, 'Ġindefinitely': 37, 'Ġnotwithstanding': 36, 'Ġeven': 36, 'even': 35}\n",
      "ĠUpdated {'Ġaccordingly': 44, 'Ġso': 44, 'Ġevery': 40, 'agically': 39, 'Ġregularly': 39, 'Ġconstantly': 39, 'Ġalong': 38, 'Ġdaily': 38, 'every': 38, 'Ġthus': 37}\n",
      "ĠisEnabled {'Ġso': 43, 'Ġby': 41, 'Ġagainst': 40, 'Ġyet': 40, 'Ġimperson': 40, 'Ġuntil': 39, 'against': 39, 'ĠBY': 38, 'Ġparas': 38, 'Against': 37}\n",
      "Ġcongratulations {'Ġupon': 45, 'Ġon': 44, 'ĠON': 41, 'Upon': 40, 'ĠUpon': 40, 'ĠOn': 39, 'On': 39, 'upon': 38, 'Ġfirsthand': 36, 'ouver': 34}\n",
      "Ġresorted {'Ġwhen': 44, 'Ġduring': 41, 'Ġagain': 41, 'Ġwithout': 40, 'Ġonce': 39, 'Ġbecause': 38, 'Ġafterward': 38, 'Ġfrequently': 38, 'Ġmere': 38, 'mere': 38}\n",
      "Ġcontinuously {'Ġthroughout': 48, 'Ġwhile': 42, 'Ġduring': 42, 'ĠThroughout': 39, 'Ġwhilst': 38, 'During': 38, 'ĠDuring': 37, 'Ġuntil': 37, 'during': 37, 'while': 37}\n",
      "=# {'Ġturnout': 47, 'ĠIST': 42, 'ĠEDT': 40, 'CRE': 39, 'ĠEST': 39, 'ThumbnailImage': 38, 'ĠNEVER': 38, 'ername': 38, 'ĠSHARES': 37, 'Ġappre': 37}\n",
      "Ġstayed {'Ġforever': 47, 'Ġidle': 46, 'ternally': 41, 'Ġthroughout': 40, 'Ġinactive': 38, 'Ġlong': 38, 'itialized': 38, 'Ġuntil': 36, 'Ġconstantly': 36, 'Ġpast': 36}\n",
      "Ġrespected {'Ġequally': 45, 'Ġprofoundly': 43, 'Ġimmensely': 42, 'Ġamong': 41, 'Ġenormously': 40, 'Ġcomprehens': 38, 'Ġamongst': 37, 'Ġtremendously': 37, 'Ġgreatly': 37, 'Ġuniquely': 36}\n",
      "Ġeveryone {'Ġexcept': 47, 'ĠExcept': 45, 'except': 44, 'Except': 42, 'CEPT': 40, 'Ġbesides': 38, 'Ġever': 36, 'ĠBUT': 36, 'Ġexce': 34, 'Ġcredited': 34}\n",
      "Ġdiffer {'Ġprofoundly': 45, 'Ġtremendously': 42, 'Ġradically': 41, 'Ġdramatically': 40, 'Ġbetween': 40, 'Ġsocially': 39, 'Ġdrastically': 38, 'Ġvastly': 37, 'Ġphysically': 37, 'Ġenormously': 37}\n",
      "ĠImpact {'Ġupon': 45, 'Ġon': 45, 'ĠON': 43, 'ĠOn': 42, 'ĠUpon': 42, 'On': 38, 'Upon': 38, 'Ġonto': 35, 'Ġnegatively': 35, 'Ġbadly': 33}\n",
      "shared {'Ġamong': 47, 'Ġamongst': 46, 'Ġbetween': 41, 'Ġthroughout': 40, 'among': 40, 'between': 37, 'Between': 37, 'ĠBetween': 36, 'Ġacross': 36, 'Ġvividly': 35}\n",
      "Legend {'Ġamong': 45, 'ĠAmong': 43, 'Ġbesides': 41, 'Ġamongst': 41, 'Ġnevertheless': 39, 'Ġnonetheless': 39, 'Among': 38, 'Ġpretext': 37, 'Besides': 36, 'Ġsatisf': 35}\n",
      "ĠShadows {'Ġoverfl': 47, 'Ġamongst': 46, 'Ġamong': 43, 'Ġmisunder': 38, 'Ġamidst': 38, 'Ġoverl': 38, 'ĠContin': 38, 'Near': 37, 'ĠAmong': 36, 'Ġfore': 36}\n",
      "Ġsmuggled {'Ġinto': 45, 'Ġamong': 42, 'ĠINTO': 40, 'Ġalong': 40, 'Ġamongst': 39, 'Ġashore': 39, 'Ġinland': 39, 'into': 38, 'Ġinside': 38, 'among': 37}\n",
      "Without {'ĠEver': 46, 'Ġever': 44, 'Ġsatisf': 41, 'ĠEVER': 41, 'Ġtimely': 39, 'Ġanywhere': 38, 'Ġit': 37, 'Ġseeing': 36, 'Ġstaffing': 36, 'Ġintervening': 35}\n",
      "Ġdarkened {'Ġcomprehens': 44, 'Ġso': 42, 'Ġprofoundly': 41, 'Ġidle': 40, 'Ġtremendously': 39, 'Ġunder': 39, 'Ġforever': 39, 'Ġwithout': 37, 'Ġimmensely': 37, 'Ġmedically': 37}\n",
      "Ġgrievances {'ĠAgainst': 52, 'Ġagainst': 50, 'Against': 49, 'against': 45, 'Ġversus': 35, 'Ġcontra': 34, 'ĠAGA': 33, 'INST': 33, 'ĠAmong': 32, 'ĠRemain': 32}\n",
      "okÃ© {'Ġbadly': 45, 'Ġless': 42, 'Ġsorely': 39, 'Ġoverfl': 39, 'Ġstrongly': 39, 'Ġstud': 38, 'Ġnever': 38, 'Ġharshly': 38, 'Ġinstead': 38, 'Ġquickly': 37}\n",
      "ricted {'Ġso': 44, 'Ġprofoundly': 41, 'Ġwithin': 40, 'Ġonly': 40, 'Ġequally': 39, 'Ġpoorly': 39, 'Ġlikewise': 39, 'Ġwee': 38, 'ĠONLY': 38, 'Ġmainly': 38}\n",
      "ĠFailed {'Ġsilently': 42, 'Ġvividly': 41, 'Ġactively': 41, 'Ġpolitely': 39, 'Ġlawfully': 39, 'Ġregularly': 39, 'Ġreliably': 39, 'Ġproperly': 39, 'Ġsimultaneously': 39, 'Ġconstantly': 38}\n",
      "================================ {'Ġso': 47, 'Ġimb': 41, 'MSN': 40, 'Ġthus': 40, 'ĠCert': 39, 'Ġfortunately': 39, 'Ġwhen': 38, 'Cert': 38, 'Ġcred': 38, 'ĠSO': 36}\n",
      "/_ {'Reuters': 42, 'checks': 41, 'NEWS': 41, 'azeera': 40, 'kw': 39, 'archives': 39, 'ĠReuters': 39, 'UTERS': 38, 'Laughs': 38, 'regon': 37}\n",
      "availability {'Ġthru': 45, 'Ġfreely': 42, 'Ġthrough': 40, 'Ġduring': 39, 'Ġcommercially': 38, 'Ġvia': 38, 'Ġthroughout': 38, 'Ġonline': 38, 'ĠThrough': 38, 'ternally': 37}\n"
     ]
    },
    {
     "name": "stdout",
     "output_type": "stream",
     "text": [
      "Ġadvantageous {'Ġcommercially': 43, 'Ġprofoundly': 41, 'Ġover': 41, 'Ġcombat': 40, 'orically': 40, 'ĠOVER': 39, 'Ġtechnically': 38, 'Ġgreatly': 38, 'combat': 37, 'Ġequally': 37}\n",
      "ĠGerard {'ĠDun': 42, 'ĠCoun': 41, 'ĠScot': 41, 'ĠTon': 40, 'ĠCons': 40, 'ĠWil': 39, 'Ġwhis': 39, 'ĠLans': 38, 'ĠSinn': 38, 'ĠWal': 37}\n",
      "ĠMUST {'Ġbecause': 43, 'Otherwise': 41, 'because': 41, 'Because': 40, 'Ġfore': 40, 'ĠOtherwise': 39, 'Ġsurvive': 38, 'achev': 38, 'Ġsatisfy': 37, 'Before': 37}\n",
      "idable {'Ġsince': 41, 'Ġlook': 40, 'Ġobjectively': 40, 'Ġexcuse': 40, 'Ġupon': 40, 'Ġuntil': 39, 'Ġspy': 39, 'Ġmates': 39, 'Ġbeforehand': 38, 'Ġrelationships': 38}\n",
      "Ġ.......... {'Ġso': 45, 'æĸ¹': 41, 'ĠMÃ©': 39, 'ĠdÃ©': 39, 'ĠSTUD': 39, 'ĠSO': 39, 'ŃĶ': 38, 'Ġwidely': 38, 'ĠKev': 38, 'ĠOsc': 37}\n",
      "Ġdistribution {'Ġamong': 45, 'Ġamongst': 41, 'Ġacross': 40, 'Ġequally': 40, 'among': 40, 'Ġthroughout': 39, 'Ġbetween': 39, 'Ġworldwide': 38, 'between': 37, 'Ġwidely': 36}\n",
      "Ġexercised {'Ġrepeatedly': 43, 'Ġtremendously': 41, 'Ġwidely': 40, 'Ġharshly': 40, 'Ġequally': 39, 'Ġhonestly': 38, 'Ġvividly': 38, 'Ġpassionately': 38, 'Ġonce': 38, 'Ġseldom': 38}\n",
      "ĠTaking {'Ġliterally': 45, 'Ġseriously': 44, 'literally': 42, 'Ġpersonally': 41, 'Ġsalt': 41, 'ĠSalt': 38, 'Ġhostages': 37, 'Seriously': 36, 'Ġbadly': 36, 'Ġill': 36}\n",
      "Ġturnover {'Ġduring': 42, 'Ġthrough': 41, 'Ġsince': 41, 'Ġinto': 41, 'Ġtowards': 39, 'Ġaround': 38, 'Ġbetween': 38, 'ĠThrough': 38, 'Ġhere': 38, 'Ġthru': 38}\n",
      "organized {'Ġso': 45, 'Ġbadly': 44, 'Ġnarrowly': 41, 'Ġprofoundly': 39, 'Ġalong': 38, 'Ġaccordingly': 38, 'Ġpoorly': 38, 'ĠINTO': 38, 'Ġinto': 38, 'Ġcomprehens': 36}\n",
      "ĠRequired {'ĠOtherwise': 46, 'Otherwise': 44, 'Ġthoroughly': 42, 'Ġlegally': 39, 'Ġotherwise': 38, 'Ġsurvive': 38, 'Ġtimely': 37, 'Ġbefore': 37, 'ĠVisa': 37, 'Ġlawfully': 37}\n",
      "Ġdisparities {'Ġamong': 48, 'ĠAmong': 42, 'among': 41, 'Ġbetween': 40, 'Ġamongst': 39, 'Ġagainst': 38, 'ĠBetween': 37, 'Among': 37, 'Ġsocially': 36, 'Ġdepending': 36}\n",
      "emade {'Ġincomprehensible': 43, 'Ġcomprehens': 42, 'usable': 40, 'Ġincess': 40, 'Ġcontagious': 39, 'Ġimmutable': 39, 'Ġirresistible': 39, 'Ġforever': 38, 'Ġimperson': 37, 'Ġevery': 37}\n",
      "Ġexpanding {'Ġcomprehens': 43, 'Ġprofoundly': 42, 'Ġdramatically': 42, 'Ġenormously': 41, 'Ġdrastically': 39, 'Ġconsiderably': 38, 'Ġevenly': 37, 'Ġtremendously': 37, 'agically': 37, 'Ġso': 37}\n",
      "Ġnewer {'Ġevery': 45, 'Ġthen': 44, 'ĠThan': 42, 'Then': 40, 'Ġthan': 40, 'Ġgraduates': 37, 'ĠThen': 37, 'then': 37, 'Ġeach': 36, 'Ġstarters': 36}\n",
      "ĠContinue {'Ġforever': 44, 'Ġindefinitely': 44, 'Ġunaffected': 42, 'Ġthroughout': 40, 'Ġuntil': 39, 'ĠEVEN': 38, 'ternally': 38, 'Ġeven': 37, 'even': 37, 'ĠForever': 36}\n",
      "Ġindirect {'Ġthrough': 47, 'ĠThrough': 45, 'Ġthru': 44, 'Ġvia': 41, 'Through': 41, 'ĠVia': 37, 'Via': 35, 'regon': 35, 'Ġalong': 35, 'Ġonward': 34}\n",
      "Ġquestionable {'Ġwhether': 45, 'ĠWhether': 41, 'iminary': 39, 'Ġtechnically': 39, 'Ġvalidity': 39, 'Ġpreliminary': 39, 'Ġfeasibility': 38, 'whether': 38, 'Whether': 38, 'Ġmorally': 38}\n",
      "gencies {'Ġduring': 43, 'Ġwhen': 42, 'Ġover': 41, 'Ġthroughout': 41, 'ĠOVER': 40, 'Ġat': 39, 'Ġhear': 38, 'Ġwhenever': 37, 'ĠDuring': 37, 'Ġculp': 37}\n",
      "Anyone {'Ġbesides': 47, 'Ġcredited': 42, 'Ġbelievable': 41, 'Ġplayable': 38, 'Ġexcept': 38, 'Ġever': 38, 'Ġpont': 38, 'esides': 38, 'Ġaffected': 37, 'Ġunaffected': 37}\n",
      "emonium {'Ġbetween': 43, 'Ġwithout': 42, 'Ġbefore': 40, 'Ġamong': 40, 'Ġconcerning': 40, 'Ġduring': 39, 'ween': 39, 'Ġevery': 38, 'Ġunto': 37, 'Ġsupports': 37}\n",
      "Ġhoused {'Ġamongst': 43, 'Ġnear': 42, 'Ġamong': 41, 'Ġalong': 40, 'Ġalongside': 40, 'Near': 39, 'Ġwithin': 38, 'Ġneatly': 37, 'Ġthroughout': 37, 'Ġbetween': 37}\n",
      "Ġunforgettable {'Ġforever': 51, 'ankind': 40, 'Ġsunrise': 39, 'ĠForever': 39, 'Ġweekday': 38, 'Ġprofoundly': 38, 'Ġwhile': 38, 'Ġuntil': 37, 'Ġevery': 37, 'Ġthus': 37}\n",
      "ruciating {'Ġuntil': 43, 'Ġduring': 42, 'Ġsimultaneously': 41, 'Ġsince': 40, 'Ġever': 39, 'Ġwhilst': 38, 'Ġthroughout': 38, 'Ġwhile': 38, 'Ġso': 38, 'Ġtill': 38}\n",
      "Ġpreferable {'Ġover': 47, 'ĠOVER': 44, 'Ġovers': 42, 'Ġevery': 39, 'Ġbecause': 38, 'OVER': 37, 'over': 37, 'Ġever': 37, 'Over': 37, 'overs': 36}\n",
      "Supported {'Ġthoroughly': 43, 'Ġvividly': 41, 'Ġwell': 40, 'Ġgenuinely': 40, 'redibly': 39, 'Ġsufficiently': 39, 'Ġsincerely': 38, 'orough': 38, 'Ġprofoundly': 38, 'Ġscientifically': 37}\n",
      "ĠShattered {'Ġso': 48, 'Ġprofoundly': 46, 'Ġutterly': 44, 'Ġforever': 38, 'Ġoverly': 37, 'So': 36, 'Ġvividly': 36, 'so': 36, 'agically': 36, 'Ġseamlessly': 36}\n",
      "Initialized {'Ġagain': 48, 'Ġso': 45, 'Ġtwice': 40, 'again': 39, 'Ġonce': 38, 'Ġanytime': 38, 'Ġtimes': 37, 'Ġwithout': 37, 'Ġevery': 36, 'Ġthus': 35}\n",
      "Continue {'Ġforever': 49, 'Ġindefinitely': 44, 'ĠForever': 41, 'ternally': 41, 'Ġthroughout': 38, 'Ġeverlasting': 37, 'Ġuntil': 37, 'ĠEVEN': 36, 'Ġunaffected': 36, 'Ġafter': 35}\n",
      "Ġkeep {'itialized': 41, 'ĠFrozen': 41, 'Ġstagnant': 41, 'Ġfrozen': 41, 'hidden': 40, 'Ġinactive': 39, 'Hidden': 39, 'Ġbusy': 38, 'ĠHidden': 37, 'rozen': 37}\n",
      "Ġlacked {'Ġprofoundly': 43, 'Ġtotally': 41, 'Ġcompletely': 40, 'Ġpolitely': 39, 'Ġaltogether': 39, 'Ġsincerely': 39, 'ribly': 39, 'Ġbadly': 38, 'Ġthoroughly': 38, 'Ġsubtly': 38}\n",
      "Ġtravelled {'Ġalong': 42, 'Ġsilently': 41, 'Ġwidely': 41, 'Ġregularly': 39, 'Ġthrough': 39, 'Ġtowards': 39, 'Ġupstream': 39, 'Ġfrequently': 39, 'Ġtoward': 38, 'Ġactively': 37}\n",
      "Ġshowdown {'Ġagainst': 44, 'Ġbefore': 44, 'Near': 41, 'Ġnear': 41, 'ĠNear': 39, 'against': 38, 'ĠBEFORE': 37, 'ĠAgainst': 37, 'Ġamidst': 37, 'Against': 36}\n",
      "ĠDelay {'Ġwhile': 44, 'Ġforever': 43, 'Ġuntil': 42, 'Ġwhilst': 41, 'Ġtill': 39, 'ĠForever': 38, 'Ġawhile': 37, 'ĠUntil': 37, 'Ġbeyond': 36, 'while': 36}\n",
      "Ġnarrowed {'Ġidle': 42, 'Ġprofoundly': 41, 'Ġcomprehens': 41, 'redibly': 40, 'Ġso': 40, 'Ġgeographically': 39, 'Ġcommons': 38, 'Ġutterly': 37, 'Ġyourselves': 37, 'Ġenormously': 37}\n",
      "Ġleaving {'Ġuntreated': 41, 'Ġvacant': 41, 'iless': 40, 'Ġidle': 40, 'ĠEmpty': 40, 'Ġunl': 39, 'Ġunst': 38, 'Ġuntouched': 38, 'Ġunaffected': 38, 'Ġstagnant': 38}\n",
      "Ġplacement {'Ġbeside': 49, 'Ġalongside': 46, 'Ġso': 40, 'Ġoutside': 38, 'Ġnear': 38, 'Ġbetween': 37, 'Near': 37, 'Ġatop': 37, 'Ġbesides': 36, 'ĠBetween': 35}\n",
      "ĠMastery {'ĠWITHOUT': 44, 'Ġwithout': 43, 'ĠWithout': 43, 'Without': 40, 'Ġover': 39, 'ĠThrough': 39, 'Ġthrough': 37, 'ĠOVER': 37, 'ĠOver': 36, 'Through': 35}\n",
      "Rated {'Ġidle': 44, 'Ġamong': 43, 'Among': 42, 'Ġamongst': 41, 'ĠAmong': 39, 'ĠIdle': 38, 'Ġsenseless': 37, 'among': 37, 'Ġphony': 37, 'Ġbaseless': 35}\n",
      "Ġoccurrences {'Ġduring': 43, 'Ġamong': 43, 'Ġamongst': 41, 'Ġnear': 39, 'Ġonce': 39, 'Ġwhen': 38, 'during': 38, 'Ġthroughout': 38, 'Ġbefore': 38, 'once': 37}\n",
      "Ġaddressing {'Ġindividually': 46, 'Ġfavorably': 41, 'Ġpositively': 40, 'Ġpersonally': 40, 'Ġrespectfully': 39, 'Ġobjectively': 39, 'orically': 38, 'ividually': 37, 'Ġmyself': 37, 'Ġthoroughly': 37}\n",
      "Ġchanges {'ĠForever': 41, 'Ġaccordingly': 41, 'Ġradically': 40, 'Ġduring': 39, 'ĠMood': 39, 'Ġso': 39, 'Ġsince': 39, 'Ġnotably': 39, 'Ġrepeatedly': 39, 'Ġdramatically': 39}\n",
      "activation {'Ġduring': 46, 'Ġthru': 44, 'Ġvia': 44, 'Ġthrough': 42, 'ĠThrough': 38, 'during': 37, 'ĠDuring': 36, 'Ġby': 35, 'Ġvisibly': 35, 'During': 35}\n",
      "Introduced {'Ġ1982': 43, 'Ġvia': 41, 'Ġ1977': 41, 'Ġduring': 40, 'anish': 38, 'Ġ1978': 38, 'Ġ1972': 38, 'Ġ1987': 38, 'Ġ1984': 38, 'Ġprivately': 38}\n",
      "Ġsafeguard {'ĠAgainst': 49, 'Against': 48, 'Ġagainst': 47, 'against': 42, 'ĠConst': 40, 'Ġfrom': 36, 'Ġduring': 34, 'Ġcontra': 34, 'Ġwhenever': 32, 'Ġwhen': 32}\n",
      "Ġexchange {'Ġfor': 46, 'ĠFOR': 44, 'Ġamong': 42, 'Ġbetween': 41, 'for': 39, 'Ġamongst': 39, 'ĠBetween': 37, 'Between': 35, 'Ġduring': 35, 'Ġthroughout': 35}\n",
      "Ġsoftened {'Ġprofoundly': 47, 'Ġequally': 42, 'Ġutterly': 40, 'Ġso': 40, 'Ġmedically': 38, 'Ġsocially': 38, 'Ġpoorly': 37, 'Ġless': 37, 'Ġsubtly': 37, 'Ġwidely': 37}\n",
      "omsday {'Ġbefore': 48, 'Ġwithout': 46, 'ĠBEFORE': 41, 'ĠWITHOUT': 39, 'ĠBefore': 37, 'ĠWithout': 37, 'ĠJanuary': 37, 'Ġinexper': 36, 'Before': 36, 'Ġearly': 35}\n",
      "Ġchambers {'Ġamong': 42, 'Ġnear': 41, 'Ġamongst': 41, 'Ġhigh': 40, 'Ġwithin': 39, 'Ġoverlooked': 38, 'Ġwee': 38, 'Ġalongside': 38, 'Ġalone': 38, 'Ġoverlooking': 37}\n",
      "arest {'ĠEver': 47, 'Ġever': 46, 'ĠEVER': 45, 'Ever': 38, 'Ġyet': 38, 'Ġpracticable': 37, 'Ġso': 37, 'Ġregularly': 35, 'Ġrife': 35, 'Ġtimely': 34}\n",
      "Ġdelays {'Ġwhile': 44, 'Ġwhilst': 43, 'Ġforever': 41, 'Ġawhile': 40, 'Ġbeyond': 40, 'Ġtill': 39, 'Ġuntil': 38, 'vernight': 37, 'Ġduring': 36, 'while': 35}\n",
      "ĠNobody {'Ġbesides': 42, 'ĠEVER': 41, 'Ġever': 41, 'Ġcredited': 40, 'Ġexcept': 39, 'ĠEver': 39, 'CEPT': 39, 'except': 38, 'Ġanymore': 37, 'ĠExcept': 37}\n",
      "Ġcounts {'Ġamongst': 51, 'Ġamong': 50, 'Ġtowards': 41, 'ĠAmong': 39, 'among': 37, 'Among': 36, 'Ġas': 36, 'Ġtoward': 35, 'Ġfist': 34, 'Ġmainly': 33}\n",
      "Ġexchanges {'Ġfor': 45, 'Ġamong': 45, 'ĠFOR': 43, 'Ġamongst': 40, 'Ġbetween': 39, 'for': 38, 'Ġthroughout': 38, 'ĠBetween': 35, 'Ġinto': 35, 'among': 34}\n",
      "/$ {'Ġquickly': 41, 'Ġherself': 41, 'Ġhimself': 41, 'regon': 40, 'Ġnow': 40, 'Ġhim': 39, 'Ġme': 38, 'KI': 38, 'æĪ': 37, 'Ġmyself': 37}\n",
      "ĠNoir {'Ġuntil': 46, 'ĠUntil': 42, 'ĠTill': 41, 'Ġtill': 41, 'Until': 41, 'until': 39, 'since': 37, 'Ġduring': 36, 'Ġsince': 36, 'ĠDuring': 34}\n",
      "Knowing {'Ġbeforehand': 45, 'Ġsincerely': 41, 'Ġinstinctively': 40, 'Ġimplicitly': 39, 'Ġwell': 39, 'Ġexplicitly': 38, 'Ġscientifically': 38, 'Ġthoroughly': 37, 'Ġautomatically': 37, 'Ġunequivocally': 37}\n",
      "Ġhappens {'Ġfrequently': 45, 'Ġregularly': 43, 'Ġrepeatedly': 41, 'Ġautomatically': 40, 'Ġwithout': 39, 'Ġconstantly': 38, 'Ġsimultaneously': 37, 'Ġcontinuously': 37, 'Ġanytime': 36, 'Ġagain': 36}\n",
      "Ġundefined {'Ġuntil': 47, 'Ġbeforehand': 42, 'Ġunless': 40, 'Ġduring': 39, 'Until': 38, 'Ġtill': 38, 'ĠUntil': 38, 'until': 37, 'Ġbefore': 37, 'Ġthroughout': 37}\n",
      "Allows {'Ġsway': 43, 'Ġuntouched': 42, 'Ġuntold': 41, 'omnia': 40, 'Ġuntreated': 39, 'Ġunrestricted': 39, 'Ġunnoticed': 38, 'Ġscripted': 38, 'azeera': 37, 'Ġunchecked': 35}\n",
      "Ġclustered {'Round': 41, 'Around': 41, 'Ġaround': 41, 'Ġunderneath': 40, 'Ġnear': 39, 'Ġunder': 39, 'Ġbeneath': 38, 'Ġbehind': 38, 'ĠAround': 38, 'Near': 38}\n",
      "!) {'Ġcoinc': 45, 'ĠITS': 41, 'Ġevery': 41, 'Ġanswered': 39, 'Ġconst': 38, 'const': 38, 'ĠIST': 38, 'Ġcer': 38, 'Ġroadside': 37, 'Ġalone': 37}\n",
      "ishable {'Ġnonetheless': 42, 'Ġwithout': 42, 'Ġforever': 41, 'Ġthus': 40, 'Ġstatically': 39, 'Ġnevertheless': 38, 'atically': 38, 'Ġsimilarly': 38, 'Ġby': 37, 'Ġhowever': 36}\n",
      "ĠChecks {'Against': 49, 'ĠAgainst': 47, 'Ġagainst': 47, 'against': 45, 'Ġamongst': 39, 'Ġamong': 34, 'Ġbeforehand': 33, 'aturdays': 33, 'Ġconcerning': 32, 'Ġoverfl': 32}\n",
      "PDATED {'Ġaccordingly': 46, 'Ġso': 42, 'Ġwhen': 41, 'Ġalong': 38, 'Ġwhenever': 38, 'ĠWITH': 38, 'Ġconstantly': 37, 'Ġonce': 37, 'Along': 37, 'Ġmidnight': 37}\n",
      "ĠMovement {'Ġtowards': 46, 'Ġtoward': 42, 'Ġduring': 40, 'ĠTowards': 40, 'Ġwhen': 39, 'Ġamong': 38, 'Ġwhile': 38, 'ĠThrough': 37, 'Ġthrough': 36, 'Ġso': 36}\n",
      "ãĢı {'Ġcoinc': 43, 'ĠSO': 40, 'ont': 40, 'ĠHighlander': 39, 'Roaming': 39, 'ultane': 39, 'Ġso': 38, 'COMPLE': 38, 'ĠPRO': 37, 'ĠCOURT': 37}\n",
      "iddled {'Ġso': 43, 'Ġamongst': 43, 'Ġamong': 41, 'Ġwithout': 40, 'Ġwhile': 39, 'ĠWITHOUT': 39, 'Ġwhilst': 38, 'Ġsimultaneously': 37, 'Ġcomprehens': 36, 'Ġresponsibly': 35}\n",
      "Ġ), {'Ġso': 42, 'Ġcoinc': 40, 'Ġanswered': 40, 'Ġconst': 39, 'Ġimmediately': 39, 'Ġevery': 39, 'Ġwhoever': 39, 'Ġbreeze': 38, 'Ġclearly': 38, 'Ġwell': 38}\n",
      "Ġinserted {'Ġbetween': 44, 'between': 41, 'Ġso': 41, 'Ġhere': 40, 'Between': 39, 'Ġbefore': 38, 'Ġroadside': 38, 'Ġinto': 37, 'ĠBetween': 37, 'Near': 36}\n",
      "%) {'Ġimmediately': 41, 'Ġcer': 40, 'ĠHon': 40, 'ĠCOUR': 40, 'nered': 39, 'Ġwhose': 39, 'Ġnear': 39, 'Ġthereof': 38, 'ĠRarity': 38, 'Ġamong': 38}\n",
      "Ġresponsibilities {'Ġpersonally': 42, 'ternally': 40, 'ologically': 40, 'Ġdigitally': 40, 'Ġcommunal': 40, 'Personally': 39, 'Ġmainly': 39, 'ĠPersonally': 38, 'olars': 37, 'Ġtowards': 37}\n",
      "Ġremain {'Ġthroughout': 51, 'Throughout': 43, 'ĠThroughout': 40, 'itialized': 38, 'Ġdormant': 38, 'Ġstagnant': 38, 'Ġidle': 37, 'Ġeverlasting': 37, 'Ġvacant': 35, 'Ġforever': 35}\n",
      "Ġcopyrighted {'Ġutterly': 41, 'Ġnonetheless': 41, 'Ġabsolutely': 40, 'Ġuntreated': 39, 'Ġagain': 39, 'Ġnevertheless': 39, 'Ġundes': 39, 'Ġimmediately': 38, 'Ġprofoundly': 38, 'Ġexpressly': 37}\n",
      "Ġwithheld {'Ġforever': 47, 'Ġuntil': 44, 'Ġtill': 40, 'Ġpending': 39, 'Ġcompletely': 38, 'Ġsocially': 38, 'Ġidle': 37, 'Ġcommons': 36, 'Ġtotally': 36, 'Ġso': 36}\n",
      "ĠLiberation {'ĠThrough': 43, 'From': 41, 'Ġfrom': 41, 'ĠFrom': 40, 'Through': 39, 'ĠFROM': 39, 'Ġthrough': 38, 'ĠVia': 37, 'Ġthru': 37, 'Ġvia': 36}\n",
      "Ġcategorized {'Ġamong': 42, 'Ġamongst': 41, 'Ġfavorably': 41, 'Ġas': 41, 'Ġso': 41, 'Ġpoorly': 39, 'among': 38, 'Ġinto': 37, 'ĠINTO': 37, 'Ġsocially': 36}\n",
      "Ġenhancing {'Ġtremendously': 43, 'Ġenormously': 42, 'Ġremarkably': 41, 'Ġbeyond': 41, 'Ġso': 40, 'Ġsufficiently': 37, 'Ġgreatly': 37, 'Ġdramatically': 37, 'Ġcomprehens': 37, 'redibly': 36}\n",
      "ivalent {'Ġalong': 41, 'Ġduring': 41, 'Ġthroughout': 40, 'Ġacross': 39, 'Ġwithin': 39, 'Ġaboard': 39, 'Ġthereto': 38, 'Ġsounding': 38, 'Ġsince': 38, 'Ġconcerning': 37}\n",
      "From {'Ġtil': 51, 'ornings': 40, 'Ġappearances': 39, 'Ġcomplexion': 38, 'Ġwee': 38, 'Ġtill': 38, 'ĠTil': 37, 'ĠMoses': 37, 'ews': 37, 'pty': 37}\n",
      "') {'Ġevery': 42, 'Ġanswered': 40, 'Ġever': 40, 'Ġimmediately': 39, 'ãĤĴ': 39, 'Ġnever': 39, 'Ġcer': 38, 'Ġnear': 38, 'Ġsolved': 38, 'Ġthus': 38}\n",
      "Ġfundamentalist {'Ġuntreated': 47, 'edIn': 41, 'Ġrelationships': 40, 'Ġso': 39, 'Ġwhen': 38, 'Ġrelationship': 38, 'ĠKoen': 37, 'Ġincom': 37, 'Ġhimself': 37, 'Ġcomprehens': 37}\n",
      "?). {'Ġthus': 42, 'Ġso': 42, 'Ġlikewise': 40, 'Ġevery': 39, 'ĠCOURT': 39, 'Ġsimilarly': 39, 'Ġwidely': 39, 'Ġregularly': 38, 'Ġfinely': 37, 'Ġsubtly': 37}\n",
      "Ġprogresses {'Ġtowards': 43, 'Ġalong': 42, 'Ġover': 41, 'Ġpast': 41, 'Ġtoward': 40, 'Ġthrough': 38, 'ĠOVER': 37, 'Ġagainst': 37, 'Ġvers': 37, 'Ġovers': 36}\n",
      "Ġdiscontinued {'Ġmidway': 44, 'Ġwhen': 43, 'Ġafter': 41, 'Ġhalfway': 40, 'Ġwee': 39, 'Ġduring': 38, 'Ġearly': 37, 'Ġprematurely': 37, 'Ġonce': 36, 'Ġutterly': 35}\n",
      "Ġminced {'Ġso': 43, 'Ġtogether': 43, 'Ġpainfully': 41, 'Ġbadly': 40, 'Ġvividly': 39, 'ĠTogether': 38, 'Ġfavorably': 37, 'Ġwonderfully': 37, 'Ġequally': 37, 'ogether': 37}\n",
      "Ġuntouched {'Ġuntil': 48, 'ĠUntil': 41, 'Ġsince': 40, 'Until': 39, 'Ġbadly': 38, 'until': 38, 'Ġtill': 38, 'Ġnegatively': 37, 'Ġsatisf': 37, 'Ġduring': 36}\n",
      "oided {'Ġcompletely': 46, 'Ġentirely': 41, 'Ġwhile': 39, 'Ġuntil': 39, 'Ġidle': 38, 'redibly': 38, 'Ġutterly': 38, 'Ġunless': 38, 'Ġterribly': 38, 'Ġaltogether': 37}\n",
      "Ġexpired {'Ġwithout': 47, 'without': 40, 'ĠWithout': 40, 'ĠWITHOUT': 39, 'Ġearly': 39, 'Ġbefore': 38, 'Ġwee': 38, 'Without': 38, 'Ġwhen': 36, 'Ġthrough': 36}\n",
      "Ġoccurred {'Ġfrequently': 44, 'Ġwithout': 40, 'Ġconstantly': 40, 'Ġsimultaneously': 39, 'Ġwhen': 38, 'Ġalone': 38, 'Ġnear': 38, 'Ġregularly': 38, 'Ġrepeatedly': 38, 'Ġautomatically': 38}\n",
      "Ġsolved {'atically': 45, 'Ġhonestly': 41, 'Ġcreatively': 41, 'Ġpositively': 39, 'Ġscientifically': 38, 'atively': 38, 'Ġcalmly': 37, 'orically': 37, 'Ġfavorably': 37, 'Ġgenerously': 37}\n",
      "iliated {'Ġso': 42, 'Ġbadly': 41, 'Ġvia': 41, 'Ġwell': 40, 'Ġthus': 39, 'Ġgenerously': 38, 'Ġcorrectly': 38, 'ĠVia': 38, 'Ġpoorly': 37, 'Ġprofoundly': 37}\n",
      "Ġrigged {'Ġso': 48, 'Ġbadly': 43, 'Ġpoorly': 41, 'Ġmorally': 39, 'Ġcomprehens': 37, 'redibly': 37, 'Ġhorribly': 37, 'Ġresponsibly': 37, 'Ġterribly': 36, 'Ġprofoundly': 36}\n",
      "ĠVoid {'Ġbefore': 49, 'Ġoverfl': 46, 'Ġwhere': 41, 'Ġwithout': 39, 'ĠBEFORE': 38, 'Ġnear': 37, 'Ġamong': 36, 'before': 36, 'ĠBefore': 35, 'Ġfl': 35}\n",
      "Ġhelping {'Ġovercome': 46, 'Ġcombat': 40, 'Ġoust': 40, 'Ġerase': 40, 'Ġtraverse': 40, 'Ġreconnect': 38, 'Ġcompress': 37, 'Ġobjectively': 37, 'Ġselect': 37, 'Ġinitialize': 37}\n",
      "Ġchooses {'Ġamong': 44, 'Ġrandomly': 43, 'Ġover': 40, 'Ġamongst': 39, 'ĠOVER': 39, 'among': 38, 'Ġwisely': 38, 'Ġovers': 37, 'Ġbased': 37, 'Ġimproperly': 36}\n",
      "ĠWanted {'Ġbadly': 44, 'Ġso': 43, 'Ġrepealed': 41, 'Ġpolled': 39, 'Ġjailed': 38, 'Ġthoroughly': 38, 'Ġported': 37, 'reated': 37, 'ĠIncluded': 37, 'Ġoust': 37}\n",
      "Unique {'Ġamong': 50, 'Ġamongst': 49, 'ĠAmong': 45, 'Among': 44, 'among': 43, 'ankind': 33, 'Ġobjectively': 33, 'Ġwithin': 31, 'Ġbecause': 31, 'ĠWithin': 31}\n",
      "Ġrotated {'Ġso': 47, 'Ġtowards': 44, 'Ġtill': 39, 'Ġtoward': 39, 'Ġonce': 38, 'Ġuntil': 38, 'Ġmutually': 37, 'Ġvers': 37, 'Ġaround': 37, 'Ġconcerning': 36}\n",
      "Ġexited {'Ġmorally': 47, 'iless': 41, 'Ġbadly': 39, 'Ġhorribly': 39, 'Ġpoorly': 39, 'redibly': 38, 'Ġamazingly': 37, 'Ġresponsibly': 37, 'Ġgenerously': 37, 'Ġlightly': 37}\n",
      "Ġ\"' {'ĠHits': 43, 'Ġcongress': 40, 'ĠNever': 39, 'ĠRarity': 39, 'Never': 39, 'ĠIST': 39, 'immer': 39, 'ĠNEVER': 38, 'Ġappre': 38, 'azeera': 38}\n",
      "Ġattended {'Ġobjectively': 43, 'Ġrepeatedly': 41, 'Ġactively': 41, 'Ġpersonally': 39, 'Ġregularly': 39, 'Ġinstinctively': 39, 'Ġsimultaneously': 38, 'Ġwidely': 38, 'Ġsincerely': 37, 'Ġconstantly': 37}\n",
      "Ġcentralized {'Ġamong': 47, 'Ġamongst': 43, 'Ġalong': 41, 'Ġamidst': 40, 'Ġbehind': 39, 'Ġprofoundly': 38, 'Ġnear': 38, 'among': 36, 'Ġonto': 35, 'Ġamid': 34}\n",
      "Ġacted {'Ġfavorably': 41, 'Ġprofessionally': 40, 'Ġlike': 40, 'Ġremotely': 39, 'Ġbefore': 39, 'Like': 39, 'Ġharshly': 38, 'ĠLike': 38, 'ĠLIKE': 38, 'Ġaggressively': 38}\n",
      "Ġrestriction {'Ġonly': 45, 'ĠONLY': 43, 'Ġmerely': 40, 'ĠOnly': 39, 'Only': 38, 'Ġutterly': 38, 'Ġsimply': 38, 'Ġduring': 38, 'only': 37, 'Ġbecause': 35}\n",
      "olicited {'Ġanyone': 40, 'Ġcommercially': 40, 'Ġcomprehens': 40, 'Ġanybody': 39, 'Ġteammates': 39, 'Ġagain': 39, 'Ġcommunal': 38, 'Ġcontemporaries': 38, 'Ġcommuters': 38, 'Ġequally': 38}\n",
      "Ġcommandments {'Ġnever': 44, 'ĠNever': 44, 'Never': 41, 'ĠNEVER': 41, 'never': 38, '«': 37, 'ĠAlways': 37, 'Ġalways': 37, 'ĠALWAYS': 36, 'Ġabst': 36}\n",
      "Ġattained {'Ġwithout': 47, 'ĠWITHOUT': 43, 'ĠWithout': 40, 'Without': 40, 'without': 40, 'Ġsimultaneously': 38, 'Ġthrough': 38, 'Ġsilently': 36, 'Ġalone': 35, 'Ġautomatically': 35}\n",
      "latest {'Ġtill': 41, 'Ġavailable': 41, 'Ġever': 40, 'Ġoccurrences': 39, 'Ġuntil': 39, 'ĠAvailable': 39, 'Ġattend': 38, 'Ġunanswered': 38, 'Ġconstellation': 38, 'Ġhit': 38}\n",
      "annot {'Ġwithout': 42, 'Ġundes': 41, 'Ġyet': 40, 'Ġexcept': 40, 'ĠYet': 39, 'Ġanymore': 39, 'Ġsave': 38, 'except': 38, 'ĠWITHOUT': 38, 'Ġremotely': 37}\n",
      "cedented {'Ġthroughout': 50, 'Ġsince': 46, 'Ġcram': 40, 'ĠThroughout': 38, 'Ġso': 38, 'Ġever': 37, 'Ġacross': 36, 'Ġuntil': 35, 'Ġalthough': 35, 'Throughout': 35}\n",
      "ĠCrusader {'ĠAgainst': 47, 'Ġagainst': 46, 'Against': 46, 'ĠAGA': 41, 'against': 40, 'Ġoverfl': 37, 'Ġamong': 37, 'ĠDisapp': 33, 'Ġcontra': 32, 'Ã¼r': 31}\n",
      "ĠTransformation {'Ġinto': 46, 'ĠINTO': 44, 'ĠInto': 44, 'Ġunto': 44, 'into': 37, 'Ġduring': 36, 'Ġso': 36, 'Ġwhen': 36, 'Ġsed': 34, 'Ġonto': 34}\n",
      "centered {'Around': 44, 'Ġaround': 44, 'ĠAround': 43, 'Ġamong': 42, 'Ġamongst': 39, 'Ġnear': 38, 'Near': 36, 'Ġround': 36, 'Ġamidst': 35, 'Ġon': 34}\n",
      "destroy {'Ġutterly': 46, 'Ġcompletely': 44, 'Ġterribly': 41, 'Ġthoroughly': 39, 'Ġvividly': 38, 'Ġtotally': 38, 'Ġhorribly': 36, 'ĠASAP': 36, 'Ġduring': 36, 'Ġlawfully': 36}\n",
      "ĠStatement {'Ġduring': 45, 'ĠDuring': 42, 'Ġintimate': 41, 'Ġconcerning': 40, 'Ġnever': 38, 'Ġthus': 38, 'Ġbefore': 37, 'During': 37, 'ĠNever': 37, 'Ġtechnically': 36}\n",
      "(& {'ĠReuters': 43, 'Sound': 41, 'Ġfeas': 40, 'Ġcoinc': 40, 'Ġbreeze': 39, 'onis': 38, 'azeera': 38, 'Ġspirited': 38, 'regon': 37, 'Ġsunrise': 37}\n",
      ":\" {'ĠEVER': 41, 'Ġever': 41, 'ĠSandy': 41, 'ĠEver': 40, 'jah': 39, 'ĠCOURT': 38, 'ĠSHARES': 38, 'ĠIST': 38, 'ĠMoy': 38, 'Ġâī': 37}\n",
      "Ġviolating {'Ġprofoundly': 44, 'Ġmorally': 40, 'Ġcreatively': 40, 'orically': 39, 'Ġfinancially': 38, 'Ġrepeatedly': 38, 'Ġutterly': 38, 'Ġsubtly': 38, 'atically': 38, 'Ġpositively': 38}\n",
      "Ġmaintained {'Ġthroughout': 49, 'Throughout': 42, 'ĠThroughout': 40, 'Ġidle': 39, 'Ġindefinitely': 39, 'Ġthrough': 38, 'Ġinactive': 37, 'ĠThrough': 36, 'Ġmutually': 35, 'Ġsober': 35}\n",
      "//////////////// {'umni': 42, 'Ġappre': 41, 'Ġso': 40, 'Ġwip': 39, 'ksh': 39, 'CRE': 38, 'erest': 38, 'ĠTRE': 38, 'uy': 37, 'ĠHOT': 37}\n",
      "isible {'Ġwithout': 50, 'ĠWITHOUT': 40, 'ĠWithout': 40, 'without': 39, 'Ġso': 39, 'Ġthus': 37, 'Ġalthough': 37, 'Ġthrough': 36, 'Ġforever': 36, 'Ġwhile': 36}\n",
      "Ġsorted {'Ġpoorly': 44, 'Ġinto': 41, 'Ġso': 40, 'Ġfavorably': 40, 'Ġimproperly': 39, 'Ġprematurely': 39, 'Ġcomprehens': 37, 'Ġharshly': 37, 'Ġaccordingly': 37, 'Ġbadly': 36}\n",
      "interrupted {'Ġmidway': 42, 'Ġduring': 42, 'ĠBY': 39, 'ornings': 39, 'Ġby': 39, 'Ġwhen': 39, 'Ġmidday': 39, 'Ġhalfway': 38, 'BY': 38, 'By': 36}\n",
      "Ġflourished {'Ġbeyond': 42, 'Ġtremendously': 41, 'Ġwithin': 40, 'Ġwithout': 40, 'Ġequally': 39, 'redibly': 38, 'Ġunder': 38, 'Ġenormously': 38, 'Ġnear': 37, 'Ġamong': 37}\n",
      "ĠSupported {'Ġvividly': 40, 'Ġgenuinely': 40, 'redibly': 40, 'Ġmorally': 40, 'Ġlegally': 39, 'Ġscientifically': 39, 'Ġthoroughly': 39, 'Ġtechnically': 38, 'Ġprofoundly': 38, 'orough': 37}\n",
      "=- {'azeera': 42, 'Ġso': 42, 'ĠRarity': 41, 'ĠReuters': 40, 'ItemImage': 39, 'ĠSHARES': 39, 'ĠIST': 38, 'Ġbestselling': 37, 'ews': 37, 'ĠSO': 37}\n",
      "emale {'Ġso': 44, 'Ġduring': 42, 'Ġwhile': 40, 'Ġamong': 39, 'Ġuntil': 38, 'Ġever': 38, 'Ġthroughout': 38, 'Ġevery': 37, 'Ġwhilst': 37, 'Ġpending': 37}\n",
      "Footnote {'Ġthroughout': 42, '!/': 41, 'ä¸į': 41, 'Ġnever': 40, 'Ġwithout': 38, 'Ġfollows': 38, 'aus': 38, 'Ġduring': 38, 'Ġregularly': 38, '):': 38}\n",
      "orthy {'Ġmuch': 42, 'Ġless': 40, 'Ġequally': 40, 'Ġwhen': 39, 'Ġbadly': 39, 'Ġtimely': 38, 'Ġonly': 38, 'Ġso': 38, 'Ġregularly': 38, 'Ġwithout': 38}\n",
      "Ġstarts {'Ġunbeaten': 42, 'fresh': 41, 'Ġfresh': 40, 'Ġundefeated': 40, 'efeated': 40, 'Ġuntreated': 39, 'Ġstarving': 37, 'Ġunaffected': 37, 'Ġempty': 37, 'Ġmidday': 37}\n",
      "Ġ>> {'ĠReuters': 49, 'Reuters': 40, 'ĠBarack': 39, 'Bloomberg': 38, 'zh': 38, 'ĠJim': 38, 'ĠREUTERS': 38, 'ĠIre': 37, 'ĠKerry': 37, 'ĠAbram': 36}\n",
      "ĠProgress {'Ġtowards': 45, 'Ġtoward': 41, 'Ġalong': 40, 'ĠTowards': 39, 'Ġagainst': 38, 'Ġthru': 38, 'Ġthrough': 38, 'Ġsince': 37, 'ĠThrough': 37, 'ĠAgainst': 37}\n",
      "Increase {'ĠOVER': 45, 'Ġover': 44, 'ĠOver': 41, 'Ġbeyond': 40, 'Over': 37, 'Ġenormously': 37, 'ĠFranken': 37, 'ĠBeyond': 36, 'agically': 36, 'vernight': 36}\n",
      "Ġpercentage {'Ġamong': 42, 'Ġamongst': 41, 'Ġvisibly': 40, 'ĠWHO': 39, 'Ġherself': 39, 'Ġwho': 39, 'Ġhimself': 37, 'Ġyourself': 37, 'Ġmyself': 37, 'Ġcorrectly': 37}\n",
      "licensed {'Ġso': 51, 'Ġthus': 43, 'Ġamong': 39, 'Ġunder': 39, 'Ġcommercially': 38, 'Ġnonetheless': 37, 'Ġamongst': 36, 'Ġimperson': 36, 'combat': 36, 'Ġagain': 36}\n",
      "Choose {'Ġover': 43, 'ĠOVER': 43, 'ĠOver': 40, 'Ġrandomly': 40, 'Ġamong': 39, 'Over': 39, 'OVER': 38, 'Ġwisely': 36, 'Ġovers': 36, 'among': 35}\n",
      "Ġlimbo {'Ġbetween': 45, 'Ġamong': 42, 'Ġunder': 41, 'Ġamid': 39, 'Ġamidst': 39, 'Ġamongst': 39, 'between': 39, 'ĠBetween': 37, 'ternally': 34, 'Ġbeneath': 34}\n",
      "'), {'Ġwell': 40, 'Ġcer': 40, 'Ġso': 39, 'Ġwhoever': 39, 'Ġwee': 39, 'Ġsque': 39, 'Ġevery': 39, 'Ġimmediately': 39, 'Ġairs': 38, 'Ġcrown': 38}\n",
      "ĠWitnesses {'Ġagain': 44, 'Ġrav': 41, 'Ġtun': 41, 'Ġagainst': 40, 'Ġspl': 38, 'Ġappre': 38, 'Ġcounteract': 37, 'Ġcombat': 37, 'Ġeffected': 37, 'pread': 37}\n",
      "ĠHidden {'Ġamongst': 46, 'Ġamong': 44, 'Ġbehind': 39, 'Ġbeneath': 38, 'Ġamidst': 38, 'Ġforever': 38, 'Ġunderneath': 37, 'Ġso': 36, 'Ġmisunder': 36, 'Ġroadside': 36}\n",
      "================ {'Ġso': 42, 'Ġwhen': 41, 'ĠSHARES': 40, 'Ġimb': 39, 'Ġwith': 38, 'Ġwould': 38, 'Ġaud': 38, 'Ġcred': 38, 'Ġcyn': 37, 'ä¹ĭ': 37}\n",
      "-| {'ĠVelvet': 40, 'Reuters': 40, 'Laughs': 40, 'Bloomberg': 39, 'Ġso': 39, 'ĠYorker': 39, 'edIn': 39, 'ĠSO': 38, 'ĠReuters': 38, 'ĠREUTERS': 37}\n",
      "Ġhomicides {'Ġduring': 46, 'ĠDuring': 41, 'during': 40, 'During': 40, 'Ġby': 39, 'Ġwhile': 38, 'Ġonce': 38, 'Ġwhilst': 37, 'ĠBy': 36, 'Ġwhen': 35}\n",
      "ĠLeaves {'Ġdormant': 42, 'Ġveiled': 41, 'Ġuntreated': 41, 'Ġstagnant': 40, 'Ġidle': 40, 'Ġambiguous': 38, 'Ġstunned': 37, 'Ġvague': 37, 'Ġvacant': 37, 'Ġunse': 37}\n",
      "rored {'Ġprofoundly': 41, 'Ġevery': 41, 'Ġcontinuously': 40, 'Ġrepeatedly': 39, 'Ġbadly': 39, 'Ġpassionately': 38, 'Ġfrequently': 38, 'Ġvastly': 38, 'Ġonce': 38, 'Ġcommonly': 38}\n",
      "umerable {'Ġonce': 44, 'Ġsimultaneously': 42, 'Ġevery': 39, 'Ġuntil': 39, 'Ġimmediately': 38, 'Ġnever': 38, 'Ġquickly': 38, 'Ġsilently': 38, 'Ġduring': 37, 'Ġthroughout': 36}\n",
      "aughters {'Ġby': 44, 'ĠBy': 40, 'Ġsilently': 39, 'Ġnever': 39, 'ĠBY': 38, 'BY': 38, 'Ġquickly': 38, 'Ġimmediately': 38, 'By': 38, 'Ġfast': 37}\n",
      "Ġfictitious {'Ġamong': 47, 'Ġamongst': 42, 'Ġwithin': 41, 'Ġforever': 39, 'ĠAmong': 38, 'Ġso': 37, 'Ġbehind': 37, 'among': 37, 'Ġyet': 36, 'Ġbesides': 35}\n",
      "Ġ(\" {'ĠReuters': 43, 'ĠSHARES': 41, 'ĠPrelude': 41, 'Reuters': 39, 'ĠYorker': 39, 'ĠEDT': 38, 'Ġwhoever': 38, 'UTERS': 37, 'Sound': 37, 'MSN': 37}\n",
      "Ġallowable {'Ġwithout': 44, 'Ġuntreated': 41, 'Ġuntouched': 39, 'Ġexcuse': 39, 'Ġunchecked': 39, 'Ġalone': 39, 'Ġunnoticed': 38, 'Ġanonymity': 38, 'Ġstandalone': 37, 'Ġroadside': 36}\n",
      "repeat {'Ġthroughout': 43, 'Ġuntil': 43, 'Ġforever': 43, 'Ġtill': 39, 'Ġevery': 38, 'Ġtwice': 38, 'Ġsometime': 37, 'Ġconstantly': 37, 'Ġtimes': 35, 'Ġever': 35}\n",
      "Ġlongest {'ĠEver': 42, 'Ġever': 40, 'ĠEVER': 40, 'Ġso': 39, 'ankind': 39, 'Ġpracticable': 39, 'Ġyet': 39, 'Ġstill': 38, 'ĠTru': 37, 'Ġwithout': 37}\n",
      "ynamic {'Ġthroughout': 42, 'Ġduring': 42, 'Ġhowever': 40, 'Ġwithout': 40, 'Ġwee': 38, 'ĠThroughout': 38, 'ĠDuring': 38, 'Ġnotwithstanding': 37, 'Ġnevertheless': 37, 'Ġalong': 37}\n",
      "ĠAnything {'Ġbesides': 50, 'esides': 45, 'Ġso': 39, 'Ġbeside': 39, 'Ġroadside': 38, 'Besides': 37, 'Ġalong': 37, 'ĠBesides': 36, 'Ġexcept': 34, 'Ġyet': 34}\n",
      "ĠShift {'Ġtowards': 43, 'ĠTowards': 40, 'Ġso': 39, 'Ġagainst': 39, 'Ġinward': 39, 'Ġtoward': 39, 'Against': 39, 'ĠAgainst': 38, 'Ġhalfway': 36, 'ost': 36}\n",
      "Ġwithdrawing {'Ġforcibly': 41, 'Ġmorally': 40, 'Ġinto': 40, 'Ġforcefully': 39, 'Ġrapidly': 39, 'redibly': 38, 'Ġutterly': 38, 'Ġwhen': 38, 'Ġlegally': 37, 'Ġcomprehens': 37}\n",
      "Ġexceeds {'Ġenormously': 46, 'Ġtremendously': 41, 'Ġgreatly': 40, 'Ġprofoundly': 40, 'Ġconsiderably': 40, 'Ġdramatically': 37, 'ĠBy': 37, 'Ġwidely': 37, 'Ġimmensely': 36, 'Ġhonestly': 36}\n",
      "ĠAllows {'Ġwithout': 43, 'Ġsway': 42, 'Ġunrestricted': 41, 'Ġuntouched': 40, 'Ġuntold': 40, 'ĠWITHOUT': 38, 'Ġunnoticed': 37, 'Ġuntreated': 36, 'Ġuninterrupted': 36, 'without': 36}\n",
      "Ġsnapshots {'Ġduring': 44, 'Ġonce': 41, 'Ġwee': 40, 'Ġwhen': 39, 'Ġat': 38, 'Ġbefore': 38, 'Ġsimultaneously': 37, 'once': 37, 'ĠBEFORE': 37, 'Ġcoinc': 37}\n",
      "Ġpredominant {'Ġamong': 46, 'Ġthroughout': 44, 'Ġamongst': 42, 'Ġover': 40, 'ankind': 37, 'Ġduring': 37, 'among': 36, 'ĠOVER': 36, 'Ġworldwide': 35, 'Ġinstead': 35}\n",
      "Ġaccessories {'Ġlike': 42, 'Ġincluding': 41, 'Ġduring': 40, 'Ġappe': 39, 'Ġbesides': 39, 'Ġpersonally': 39, 'Ġwhile': 39, 'Ġspiritually': 38, 'Ġinclude': 37, 'Ġrav': 36}\n",
      "Ġeverybody {'Ġexcept': 45, 'except': 43, 'ĠExcept': 42, 'Except': 41, 'Ġbesides': 40, 'CEPT': 40, 'Ġever': 35, 'ĠBUT': 34, 'ĠEVEN': 34, 'Ġaffected': 34}\n",
      "Keys {'Ġimproperly': 41, 'Ġimmediately': 40, 'Ġquickly': 39, 'Ġsilently': 39, 'Ġsuccessfully': 39, 'Ġinadvertently': 39, 'Ġproperly': 38, 'Ġresponsibly': 38, 'ĠImmediately': 38, 'Ġcorrectly': 38}\n",
      "Ġresidual {'Ġduring': 43, 'Ġafter': 42, 'Ġwithin': 41, 'Ġbesides': 41, 'Ġamidst': 39, 'Ġstill': 38, 'Ġthroughout': 37, 'Ġwee': 36, 'esides': 36, 'Ġafterward': 36}\n",
      "Ġ). {'Ġthus': 43, 'Ġso': 42, 'Ġpree': 39, 'ĠSandy': 38, 'Ġclearly': 38, 'Ġwell': 38, 'Reuters': 38, 'Ġroadside': 37, 'Ġcoinc': 37, 'ĠCOURT': 37}\n",
      "Ġexecutable {'Ġwithout': 46, 'ĠWithout': 43, 'ĠWITHOUT': 43, 'Without': 41, 'without': 39, 'Via': 37, 'ĠVia': 37, 'Ġalone': 34, 'Ġvia': 34, 'Ġindependently': 34}\n",
      "¶æ {'tif': 41, 'Ġuntil': 41, 'Ġexcept': 39, 'Ġever': 39, 'Ġbadly': 39, 'ä¸į': 38, 'Ġtill': 38, 'Ã¢': 38, 'Ġyet': 38, 'wy': 37}\n",
      ":( {'ĠKoen': 41, 'Ġuntouched': 40, 'regon': 40, 'azeera': 40, 'Ġeng': 39, 'ĠCOURT': 38, 'ĠSHARES': 38, 'Ġthroughout': 38, 'æĪ': 38, 'ĠIST': 37}\n",
      "Ġdividing {'Ġprofoundly': 43, 'Ġequally': 43, 'agically': 40, 'Ġamong': 39, 'atically': 39, 'Ġsocially': 39, 'Ġby': 39, 'Ġsexually': 38, 'Ġfavorably': 35, 'Ġpoorly': 34}\n",
      "(- {'ĠReuters': 42, 'azeera': 42, 'ĠSpicer': 41, 'apixel': 38, 'Ġso': 38, 'MSN': 38, 'inness': 38, 'Ġbreeze': 38, 'ĠFallon': 37, 'ĠEDT': 37}\n",
      "Ġ------- {'Ġso': 43, 'Ġimb': 41, 'Ġidle': 40, 'Ġcool': 39, 'Ġtimely': 39, 'ĠMAY': 38, 'Ġwidely': 37, 'ĠTradable': 37, 'Ġmainly': 37, 'Ġalone': 37}\n",
      "Ġcommittees {'Ġwithout': 44, 'ĠWithout': 42, 'Without': 40, 'ĠWITHOUT': 39, 'Ġimmediately': 39, 'ĠImmediately': 37, 'without': 37, 'mediately': 37, 'mediate': 37, 'Ġwhose': 37}\n",
      "Ġunbearable {'Ġwithout': 47, 'ĠWITHOUT': 41, 'Ġunless': 40, 'ankind': 39, 'Ġuntreated': 39, 'ĠWithout': 38, 'Without': 38, 'without': 37, 'Ġanyone': 35, 'Ġforever': 35}\n",
      "Left {'Ġalone': 44, 'Ġidle': 42, 'Ġuntreated': 42, 'Ġwithout': 39, 'ĠAlone': 38, 'ĠIdle': 38, 'Ġtimeless': 37, 'ĠEmpty': 37, 'iless': 36, 'Ġunaffected': 36}\n",
      "Ġchampioned {'Ġover': 46, 'ĠOVER': 44, 'Ġovers': 43, 'OVER': 40, 'ĠOver': 39, 'Over': 37, 'Ġthroughout': 37, 'over': 35, 'Ġamong': 34, 'ternally': 34}\n",
      "] {'Ġappre': 40, 'ĠIST': 40, 'ĠSHARES': 40, 'ĠCOURT': 39, 'Ġcoinc': 39, 'ĠEST': 39, 'Ġimmediately': 39, 'gov': 39, 'Ġso': 38, 'MSN': 38}\n",
      "undred {'Ġimmediately': 44, 'ĠImmediately': 42, 'Ġsorely': 40, 'ĠBroadway': 39, 'Ġinitially': 38, 'mediately': 38, 'Ġpersonally': 37, 'Ġoverwhelmingly': 37, 'Ġcommonly': 37, 'Ġequally': 36}\n",
      "Ġhappening {'Ġfrequently': 42, 'Ġregularly': 41, 'Ġagain': 41, 'Ġrepeatedly': 40, 'ternally': 38, 'Ġconstantly': 38, 'Ġautomatically': 38, 'Ġwithout': 38, 'again': 37, 'Ġalone': 36}\n"
     ]
    }
   ],
   "source": [
    "show_topk.indices_fn = tokenizer.convert_ids_to_tokens\n",
    "for i in values.mean(1).topk(1000).indices.tolist():\n",
    "    print(tokenizer.convert_ids_to_tokens(i), show_topk(values[i].long(), indices[i]))"
   ]
  },
  {
   "cell_type": "code",
   "execution_count": 312,
   "id": "d7da0142",
   "metadata": {},
   "outputs": [
    {
     "name": "stdout",
     "output_type": "stream",
     "text": [
      "Ġwhen\n"
     ]
    },
    {
     "data": {
      "text/plain": [
       "{'ĠSandy': 27.942,\n",
       " 'ĠAbram': 27.527,\n",
       " 'UTERS': 27.386,\n",
       " 'ews': 26.741,\n",
       " 'Reuters': 26.527,\n",
       " 'ĠCOURT': 25.488,\n",
       " 'ĠRolls': 25.068,\n",
       " 'ĠReuters': 24.729,\n",
       " 'ĠREUTERS': 23.902,\n",
       " 'orns': 23.83,\n",
       " 'ĠBond': 23.738,\n",
       " 'ĠBurns': 23.598,\n",
       " 'Ġcool': 23.47,\n",
       " 'ĠHastings': 23.366,\n",
       " 'Ġhits': 23.023,\n",
       " 'licts': 22.615,\n",
       " 'ĠKerry': 22.505,\n",
       " 'ĠAgo': 22.504,\n",
       " 'ĠHits': 22.41,\n",
       " 'ĠYorkers': 22.395}"
      ]
     },
     "execution_count": 312,
     "metadata": {},
     "output_type": "execute_result"
    }
   ],
   "source": [
    "i = tokenizer.encode(' when')[0]; print(tokenizer.convert_ids_to_tokens(i))\n",
    "show_topk(*m[i].topk(20))"
   ]
  },
  {
   "cell_type": "code",
   "execution_count": null,
   "id": "c168801f",
   "metadata": {},
   "outputs": [],
   "source": []
  },
  {
   "cell_type": "code",
   "execution_count": 9,
   "id": "052c1e0f",
   "metadata": {},
   "outputs": [],
   "source": [
    "prompt_token = 'Ġ!'; prompt_id = tokenizer._convert_token_to_id(prompt_token)\n",
    "bop_str = 'Instruction: '; bop_id = tokenizer.encode(bop_str)[0]  # 'Inst'\n",
    "eop_str = '. For example:'; eop_id = tokenizer.encode(eop_str)[2] # 'Ġexample'\n",
    "bos_id = tokenizer._convert_token_to_id('Ġ->')\n",
    "eos_id = tokenizer._convert_token_to_id('Ċ')\n",
    "\n",
    "\n",
    "class CHILDDataset(Dataset):\n",
    "    def __init__(self, input_strs, tokenizer):\n",
    "        if tokenizer.pad_token is None: tokenizer.pad_token = '!'\n",
    "        self.inputs = tokenizer.batch_encode_plus(input_strs, add_special_tokens=False, padding=True, return_tensors='pt')#长的截，短的补\n",
    "        input_ids = self.inputs.input_ids\n",
    "        self.labels = torch.ones_like(input_ids) * (-100)\n",
    "\n",
    "        for bi in range(input_ids.size(0)): \n",
    "            bop_idx = (input_ids[bi] == bop_id).nonzero().squeeze(1) #prompt\n",
    "            eop_idx = (input_ids[bi] == eop_id).nonzero().squeeze(1) #context\n",
    "\n",
    "            if len(bop_idx) > 0:\n",
    "                assert len(bop_idx) == 1 and len(eop_idx) == 1\n",
    "                bop_idx, eop_idx = bop_idx.item(), eop_idx.item() #取出单元素张量的元素值并返回该值，保持原元素类型不变\n",
    "                #bop: 0   eop:6\n",
    "                input_ids[bi, bop_idx: eop_idx + 2] *= -1  # use prompt embedding for prompt tokens\n",
    "  \n",
    "            bos_indices = (input_ids[bi] == bos_id).nonzero().squeeze(1)\n",
    "#             print(\"bos_indices:\",bos_indices)\n",
    "            eos_indices = (input_ids[bi] == eos_id).nonzero()[-len(bos_indices):].squeeze(1) #每一位 eos都比bos大2\n",
    "#             print(\"eos_indices:\",eos_indices)\n",
    "            for i, (bos_i, eos_i) in enumerate(zip(bos_indices.tolist(), eos_indices.tolist())):\n",
    "                assert eos_i > bos_i + 1\n",
    "                if i >= 0:  #zero-shot\n",
    "                    self.labels[bi, bos_i + 1: eos_i] = input_ids[bi, bos_i + 1: eos_i] \n",
    "        \n",
    "        \n",
    "    def re_input(self):\n",
    "        return self.inputs['input_ids']\n",
    "        \n",
    "    def __len__(self):\n",
    "        return len(self.inputs['input_ids'])\n",
    "\n",
    "    def __getitem__(self, i):\n",
    "        return {'input_ids': self.inputs['input_ids'][i],  #输入\n",
    "                'attention_mask': self.inputs['attention_mask'][i],\n",
    "                'labels': self.labels[i]}   #结果"
   ]
  },
  {
   "cell_type": "code",
   "execution_count": 10,
   "id": "2b322160",
   "metadata": {},
   "outputs": [
    {
     "data": {
      "text/plain": [
       "(4613, 198)"
      ]
     },
     "execution_count": 10,
     "metadata": {},
     "output_type": "execute_result"
    }
   ],
   "source": [
    "bos_id,eos_id"
   ]
  },
  {
   "cell_type": "code",
   "execution_count": 11,
   "id": "696ea332",
   "metadata": {},
   "outputs": [],
   "source": [
    "from child_utils import *\n",
    "torch.set_printoptions(threshold=np.inf)"
   ]
  },
  {
   "cell_type": "code",
   "execution_count": 12,
   "id": "56fcd441",
   "metadata": {},
   "outputs": [],
   "source": [
    "class WrappedEmbedding(nn.Module):\n",
    "    def __init__(self,  \n",
    "                wte: nn.Embedding,  #正常向量\n",
    "                prompt_id: int = None,\n",
    "                prompt_len: int = 10, \n",
    "                random_range: float = 0.5,\n",
    "                initialize_from_vocab: bool = True):\n",
    "        super(WrappedEmbedding, self).__init__()\n",
    "#         self.wte = wte\n",
    "#         self.prompt_id = prompt_id\n",
    "#         self.prompt_len = prompt_len\n",
    "        self.__dict__.update(locals()); del self.self #locals()以字典类型返回当前位置的全部局部变量\n",
    "        if self.prompt_id is not None: #prompt_embedding prompt词向量\n",
    "            self.prompt_embedding = nn.parameter.Parameter( #将一个不可训练的类型Tensor转换成可以训练的类型parameter\n",
    "                self.initialize_embedding(random_range, initialize_from_vocab)).to(self.wte.weight.device) #在-0.5-0.5中随机取值初始化\n",
    "        else:\n",
    "            self.prompt_embedding = nn.Embedding(self.prompt_len, self.wte.weight.size(1)).to(self.wte.weight.device)\n",
    "                                        #词典大小（总共输入多少词） 嵌入向量维度（多少维表示一个符号）\n",
    "            \n",
    "            assert initialize_from_vocab\n",
    "            self.init_prompt_embedding_()  #将wte的weight值作为初始化\n",
    "#             self.prompt_embedding.weight.data = self.initialize_embedding(random_range, initialize_from_vocab)     \n",
    " \n",
    "    def initialize_embedding(self, random_range: float = 0.5, initialize_from_vocab: bool = True):\n",
    "        if initialize_from_vocab: return self.wte.weight[:self.prompt_len].clone().detach() #返回一个新的tensor，新的tensor和原来的tensor共享数据内存，但不涉及梯度计算\n",
    "        return torch.FloatTensor(self.prompt_len, self.wte.weight.size(1)).uniform_(-random_range, random_range) #产生随机数\n",
    "    \n",
    "    def init_prompt_embedding_(self):\n",
    "#         print(self.wte.weight)\n",
    "        self.prompt_embedding.weight.data[:] = self.wte.weight[:self.prompt_len]\n",
    "\n",
    "        \n",
    "    def forward(self, input_ids):\n",
    "        if self.prompt_id is not None:\n",
    "            input_embeds = self.wte(input_ids)\n",
    "            input_embeds[input_ids == self.prompt_id] = self.prompt_embedding.expand(input_embeds.size(0), -1, -1)\n",
    "        else: # adapted from cpm-2\n",
    "            prompt_mask = input_ids < 0  #返回bool类型\n",
    "#             print(\"prompt_mask:\",prompt_mask.shape)\n",
    "            prompt_ids = -input_ids * prompt_mask #将prompt的值变为正数，其他置零\n",
    "#             print(\"prompt_ids:\",prompt_ids)\n",
    "#             print(prompt_ids < self.prompt_len)\n",
    "#             print(prompt_ids)\n",
    "            assert torch.all(prompt_ids < self.prompt_len)\n",
    "#             print(self.prompt_embedding(prompt_ids).shape)\n",
    "            p_embeds = self.prompt_embedding(prompt_ids) * prompt_mask.float().unsqueeze(-1)\n",
    "#             print(\"p_embeds:\",p_embeds.shape)\n",
    "            input_ids = input_ids * ~prompt_mask\n",
    "            w_embeds = self.wte(input_ids) * (~prompt_mask).float().unsqueeze(-1)\n",
    "#             print(\"w_embeds:\",w_embeds.shape)\n",
    "            input_embeds = w_embeds + p_embeds \n",
    "#         print(input_embeds)\n",
    "        return input_embeds"
   ]
  },
  {
   "cell_type": "code",
   "execution_count": 13,
   "id": "44b17b42",
   "metadata": {},
   "outputs": [],
   "source": [
    "# adapted from cpm-2: https://github.com/TsinghuaAI/CPM-2-Finetune/blob/master/utils.py#L133-L164    #不训练模型参数，只训练prompt_embading，这个函数是取这些参数\n",
    "def get_params_for_prompt_optimization(module: nn.Module): \n",
    "    params = []\n",
    "    for t in module.named_modules():\n",
    "        if \"prompt_embedding\" in t[0]:\n",
    "            params.append({'params': [p for p in list(t[1]._parameters.values()) if p is not None]})\n",
    "    for t in module.named_parameters():\n",
    "        if \"prompt\" not in t[0]:\n",
    "            t[1].requires_grad_(False)    \n",
    "    return params\n",
    "\n",
    "def create_optimizer(model, training_args):\n",
    "    from torch.nn.parallel.distributed import DistributedDataParallel as DDP\n",
    "    while isinstance(model, (DDP, )): model = model.module\n",
    "        \n",
    "    we.init_prompt_embedding_()\n",
    "    param_groups = get_params_for_prompt_optimization(model)\n",
    "    optimizer = AdamW(param_groups, lr=training_args.learning_rate, \n",
    "                      betas=(training_args.adam_beta1, training_args.adam_beta2),eps=training_args.adam_epsilon)\n",
    "    return optimizer"
   ]
  },
  {
   "cell_type": "code",
   "execution_count": 14,
   "id": "39b4f350",
   "metadata": {
    "scrolled": true
   },
   "outputs": [],
   "source": [
    "# wte = model.get_input_embeddings() #提取 embedding 中的 词向量部分\n",
    "# if hasattr(wte, 'wte'): wte = wte.wte  # already been wrapped\n",
    "# we = WrappedEmbedding(wte, prompt_len=20000)\n",
    "# model.set_input_embeddings(we) #为词向量赋值"
   ]
  },
  {
   "cell_type": "code",
   "execution_count": 15,
   "id": "ae3bb45f",
   "metadata": {},
   "outputs": [],
   "source": [
    "def verbalize(obj):\n",
    "    if type(obj) == bool: return 'Yes' if obj else 'No'\n",
    "    return str(obj)\n",
    "\n",
    "def list2str(l): return ' '.join(str(i) for i in l)\n",
    "def pairs2str(pairs): return ', '.join(str(k) + ': ' + str(v) for k, v in pairs)\n",
    "\n",
    "def make_context_str(cxt):\n",
    "    if type(cxt) == list:\n",
    "        return pairs2str(cxt) if type(cxt[0]) == tuple and len(cxt[0]) == 2 else list2str(cxt)\n",
    "    if type(cxt) == tuple:\n",
    "        return '; '.join(make_context_str(c) for c in cxt)  # 用分号分隔context的不同部分\n",
    "    \n",
    "def make_query_str(instruction, query):\n",
    "    if instruction is None and query is None: return ''\n",
    "    s = '.'\n",
    "    if instruction is not None: s = s + ' ' + instruction\n",
    "    if query is not None:\n",
    "        if type(query) in [int, bool, str]: query = [query]\n",
    "        if type(query) == dict:# and list(query.keys())[0] != \"CS\"):  # by nrk\n",
    "            s = s + ' ' + '{' + ','.join([' replace %s with %s' % (str(k), str(v)) for k, v in query.items()]) + ' }'\n",
    "        if type(query) in [list, tuple]:\n",
    "            s = s + ' ' + ' '.join([list2str(i) if type(i) == list else str(i) for i in query])\n",
    "    return s\n",
    "\n",
    "def make_example_str(example, query2str):\n",
    "    instruction, cxt, query, ans = example\n",
    "    if type(ans) not in [Sequence, list]: ans = [ans]\n",
    "    ans = [verbalize(a) for a in ans]\n",
    "#     return '%s -> %s' % (''.join(l[0]) + make_query_str(instruction if with_instruction else None, query), ' '.join(ans))  # by nrk\n",
    "#     return '%s -> %s' % (' '.join(l) + make_query_str(instruction if with_instruction else None, query), ' '.join(ans))  # by XD\n",
    "#     return '%s -> %s' % (make_context_str(cxt) + make_query_str(instruction if with_instruction else None, query[0]), ' '.join(ans))\n",
    "    return '%s -> %s' % (make_context_str(cxt) + query2str(query), ' '.join(ans))\n",
    "\n",
    "\n",
    "def sample_rand_len(vocab, k): return sample(vocab, k=randint(1, k))"
   ]
  },
  {
   "cell_type": "code",
   "execution_count": 27,
   "id": "df63ee7d",
   "metadata": {},
   "outputs": [],
   "source": [
    "def promptize(s):\n",
    "#     return prompt_token * len(s.split())\n",
    "    return bop_str + s + eop_str\n",
    "\n",
    "courses_vocab=[\"Sql\",\"Math\",\"English\",\"Chinese\",\"Art\",\"Music\",\"History\",\"Biology\",\"Chemistry\",\"Physics\",\"Geography\"]\n",
    "all_vocab = [\"apple\",\"pear\",\"peach\",\"grape\",\"banana\",\"pineapple\",\"lemon\",\"strawberry\",\"cola\",\"juice\",\"coffee\",\"milk\",\"wine\",\"beer\",\"whisky\",\"vodka\",\"brandy\"]\n",
    "solid_vocab=[\"apple\",\"pear\",\"peach\",\"grape\",\"banana\",\"pineapple\",\"lemon\",\"strawberry\"]\n",
    "liquid_vocab=[\"cola\",\"juice\",\"coffee\",\"milk\",\"wine\",\"beer\",\"whisky\",\"vodka\",\"brandy\"]\n",
    "names_vocab =  [i for i in string.ascii_uppercase]\n",
    "depts_vocab = [\"CS\",\"Chi\",\"Eng\",\"Mat\"]\n",
    "sl = [\"solid\"]*len(solid_vocab)+[\"liquid\"]*len(liquid_vocab)\n",
    "sl_vocab = dict(zip(all_vocab,sl))\n",
    "toys = [\"ball\",\"doll\",\"puppet\",\"weiqi\",\"chess\",\"slide\",\"diabolo\",\"plasticine\",\"tumbler\"]\n",
    "                                              #滑梯     空竹      橡皮泥      不倒翁\n",
    "boys = [\"Alex\",\"Dylan\",\"Daniel\",\"Patrick\",\"Austin\",\"Harrison\",\"Tom\",\"Neil\"]\n",
    "girls = [\"Ashley\",\"jessica\",\"Sarah\",\"Amanda\",\"Nicole\",\"Katherine\",\"Anne\",\"Eva\"]\n",
    "all = boys+girls\n",
    "bg = [\"boys\"]*len(boys)+[\"girls\"]*len(girls)\n",
    "bg_vocab = dict(zip(all,bg))\n",
    "\n",
    "all = solid_vocab+toys\n",
    "ft = [\"fruits\"]*len(solid_vocab)+[\"toys\"]*len(toys)\n",
    "ft_vocab = dict(zip(all,ft))\n",
    "\n",
    "def make_input_str(task, nrows=4, ncols=4, full_vocab=None, ans_vocab=[True, False]):\n",
    "    if full_vocab is None: full_vocab = string.ascii_uppercase + string.digits\n",
    "    transform_fn, vocab_fn, sample_fn, query_fn, query2str = task\n",
    "    instruction = transform_fn.__name__.replace('_', ' ')\n",
    "    if vocab_fn is None: vocab_fn = lambda: full_vocab\n",
    "    if query_fn is None: query_fn = lambda *_: None\n",
    "        \n",
    "    examples = []\n",
    "    query = None\n",
    "    for i in range(nrows):\n",
    "        vocab = vocab_fn()\n",
    "        l = sample_fn(vocab, k=ncols)\n",
    "        query = query_fn(l, vocab, ncols)\n",
    "        examples.append([instruction, l, query, transform_fn(l, query=query)])\n",
    "#     examples = balance(examples,ans_vocab)\n",
    "\n",
    "    desc = promptize(instruction) if True else ''\n",
    "    text = '\\n'.join([make_example_str(e, query2str) for e in examples])\n",
    "    text = desc + '\\n' + text + '\\n'\n",
    "    return text"
   ]
  },
  {
   "cell_type": "code",
   "execution_count": 17,
   "id": "bd0c286b",
   "metadata": {},
   "outputs": [],
   "source": [
    "# # def balance(examples, ans_vocab=[True, False]):\n",
    "# def balance1(examples, ans_vocab):\n",
    "#     groups = seq(examples).group_by(_[-1]).map(_[1])  # 按ans分组\n",
    "# #     assert groups.len() == len(ans_vocab), '%d < %d' % (groups.len(), len(ans_vocab))  # 保证每种ans都出现\n",
    "#     min_cnt = groups.map(lambda x: len(x)).min()\n",
    "#     examples = groups.map(lambda x: sample(x, min_cnt)).flatten().list() # 每组都采样最小个数后去分组\n",
    "#     return sample(examples, len(examples))  # 重新打乱"
   ]
  },
  {
   "cell_type": "code",
   "execution_count": 18,
   "id": "2d664342",
   "metadata": {},
   "outputs": [],
   "source": [
    "def balance(examples, ans_vocab):\n",
    "    groups = seq(examples).group_by(_[-1]).map(_[1])  # 按ans分组\n",
    "#     min_cnt = groups.map(lambda x: len(x)).min()\n",
    "    min_cnt =3\n",
    "    if(groups.len()>3):\n",
    "        min_cnt = 3\n",
    "    elif(groups.len()==3):\n",
    "        min_cnt = 3\n",
    "    if(min_cnt > 2):\n",
    "        examples = groups.map(lambda x: sample(x, 3)).flatten().list() # 每组都采样最小个数后去分组\n",
    "        return sample(examples, len(examples))  # 重新打乱\n",
    "    else:\n",
    "        examples = groups.map(lambda x: sample(x, min_cnt)).flatten().list() # 每组都采样最小个数后去分组\n",
    "        return sample(examples, len(examples))  # 重新打乱"
   ]
  },
  {
   "cell_type": "code",
   "execution_count": 19,
   "id": "ab80cfd2",
   "metadata": {},
   "outputs": [],
   "source": [
    "import itertools  \n",
    "def Do_all_students_choose_courses_in_a_department(cxt, query):\n",
    "    SC, CD = cxt  # SC paris: studeng-course relation, CD pairs: course-department function\n",
    "    ss, d = query  # ss: 学生子集（可以*不止两个学生*），d: 课程\n",
    "#     return seq(ss).map(lambda s: seq(SC).filter(_[0] == s).map(_[1]).intersection(CD.filter(_.[1] == d).map(_.[0])).non_empty()).all()\n",
    "    return (seq(ss)\n",
    "            .map(lambda s: seq(SC).filter(_[0] == s).map(_[1])  # 学生s选的所有课程\n",
    "                 .intersection(\n",
    "                     seq(CD).filter(_[1] == d).map(_[0])) # d系的课程\n",
    "                 .non_empty())  # s选了d系的课程\n",
    "            .all())  # 学生子集ss都选了d系的课程\n",
    "\n",
    "def all_a_sample(vocab, k):\n",
    "    S_vocab, C_vocab, D_vocab = vocab  # vocabs of students, courses, departments\n",
    "    k_S, k_C, k_D, k_SC = k  # default values: k_S = 3, k_C = 3, k_D = 2, k_SC = 5\n",
    "    S, C, D = sample(S_vocab, k_S), sample(C_vocab, k_C), sample(D_vocab, k_D)\n",
    "    \n",
    "    while len(set(CD := choices(D, k=k_C))) < k_D: continue  # ds里每个系的课都要出现\n",
    "    CD = list(zip(C, CD))  # 得到每门课所属的系\n",
    "    \n",
    "    all_SC = list(itertools.product(S, C))  # or seq(S).cartesian(C).list()\n",
    "    while seq(SC := sample(all_SC, k_SC)).map(_[0]).distinct().len() < k_S: continue  # ss里每个学生都要选课\n",
    "    return SC, CD\n",
    "\n",
    "def select_distinct(tuples, col): return seq(tuples).map(_[col]).distinct().list()\n",
    "    \n",
    "def all_a_query(cxt,vocab,k):\n",
    "    SC, CD = cxt\n",
    "    k_S, k_C, k_D, k_SC = k\n",
    "    S, D = select_distinct(SC, 0), select_distinct(CD, 1)\n",
    "#     k_ss = randint(2, len(S))\n",
    "    ss = sample(S, 2)\n",
    "    d = choice(D)\n",
    "    return ss, d\n",
    "\n",
    "def all_a_query2str(query):\n",
    "    ss, d = query\n",
    "    query_str = '%s,%s?' % (', '.join(ss[:-1]) + ' and ' + ss[-1], d)\n",
    "    return '. ' + query_str\n"
   ]
  },
  {
   "cell_type": "code",
   "execution_count": 20,
   "id": "b8103db3",
   "metadata": {},
   "outputs": [],
   "source": [
    "def all_b(cxt, query):\n",
    "    SC, CD = cxt\n",
    "    ss,d = query\n",
    "    return (seq(CD).filter(_[1] == d).map(_[0])\n",
    "                 .difference(\n",
    "                     seq(SC).filter(_[0] == ss).map(_[1]))\n",
    "                 .empty())\n",
    "\n",
    "def all_b_sample(vocab, k):\n",
    "    S_vocab, C_vocab, D_vocab = vocab  \n",
    "    k_S, k_C, k_D, k_SC = k  # default values: k_S = 2, k_C = 3, k_D = 2, k_SC = 5\n",
    "    S, C, D = sample(S_vocab, k_S), sample(C_vocab, k_C), sample(D_vocab, k_D)\n",
    "    \n",
    "    while len(set(CD := choices(D, k=k_C))) < k_D: continue  \n",
    "    CD = list(zip(C, CD)) \n",
    "    \n",
    "    all_SC = list(itertools.product(S, C))  \n",
    "    while seq(SC := sample(all_SC, k_SC)).map(_[0]).distinct().len() < k_S: continue  # ss里每个学生都要选课\n",
    "    return SC, CD\n",
    "   \n",
    "def all_b_query(cxt,vocab,k):  # XD: 不要给qeury_fn加st参数\n",
    "    SC, CD = cxt\n",
    "    k_S, k_C, k_D, k_SC = k\n",
    "    S, D = select_distinct(SC, 0), select_distinct(CD, 1)\n",
    "#     k_ss = randint(2, len(S))  # XD: k_ss unused\n",
    "    ss = choice(S)\n",
    "    d = choice(D)\n",
    "    return ss, d\n",
    "    # XD: 不要在query_fn里转str！！这里转str，transform_fn里再解析回来，两边不是白折腾吗！\n",
    "\n",
    "def all_b_query2str(query):\n",
    "    ss, d = query\n",
    "    query_str = 'Does %s take all %s courses?' % (ss, d)\n",
    "    return '. ' + query_str\n",
    "\n",
    "\n",
    "def Is_the_intersection_of_two_sets_empty(cxt, query):\n",
    "    SC= cxt\n",
    "    s,d = query\n",
    "    return (seq(SC).filter(_[0] == s).map(_[1])\n",
    "                 .intersection(\n",
    "                     seq(SC).filter(_[0] == d).map(_[1]))\n",
    "                 .non_empty())\n",
    "\n",
    "def intersection_query(cxt,vocab,k):\n",
    "    SC= cxt\n",
    "    k_S, k_C, k_SC = k #k_s = 3, k_C = 5 , k_sc = 6\n",
    "    S = select_distinct(SC, 0)\n",
    "    s,d = sample(S,2)\n",
    "    return s, d\n",
    "\n",
    "def intersection_query2str(query):\n",
    "    s, d = query\n",
    "    query_str = \"%s,%s?\" % (s, d)\n",
    "    return '. ' + query_str\n",
    "\n",
    "def intersection_sample(vocab, k):\n",
    "    S_vocab, C_vocab = vocab  \n",
    "    k_S, k_C, k_SC = k  # k_S = 3, k_C = 5, , k_SC = 6\n",
    "    S, C= sample(S_vocab, k_S), sample(C_vocab, k_C)\n",
    "    all_SC = list(itertools.product(S, C))  \n",
    "    while seq(SC := sample(all_SC, k_SC)).map(_[0]).distinct().len() < k_S: continue \n",
    "    return SC\n",
    "\n",
    "def Is_the_first_set_a_subset_of_the_second_one(cxt, query):\n",
    "    SC= cxt\n",
    "    s,d = query\n",
    "    return (seq(SC).filter(_[0] == d).map(_[1])\n",
    "                 .union(\n",
    "                     seq(SC).filter(_[0] == s).map(_[1]))\n",
    "                 ).distinct().len()== seq(SC).filter(_[0] == d).map(_[1]).distinct().len()\n",
    "\n",
    "def complement_query(cxt,vocab,k):\n",
    "    SC= cxt\n",
    "    k_S, k_C, k_SC = k #k_s = 3, k_C = 5 , k_sc = 6\n",
    "    S = select_distinct(SC, 0)\n",
    "    s,d = sample(S,2)\n",
    "    return s, d\n",
    "\n",
    "def complement_query2str(query):\n",
    "    s, d = query\n",
    "    query_str = \"%s,%s?\" % (s, d)\n",
    "    return '. ' + query_str\n",
    "\n",
    "def complement_sample(vocab, k):\n",
    "    S_vocab, C_vocab = vocab  \n",
    "    k_S, k_C, k_SC = k  # k_S = 3, k_C = 4, k_SC = 5\n",
    "    S, C= sample(S_vocab, k_S), sample(C_vocab, k_C)\n",
    "    all_SC = list(itertools.product(S, C))  \n",
    "    while seq(SC := sample(all_SC, k_SC)).map(_[0]).distinct().len() < k_S: continue \n",
    "    return SC\n",
    "\n",
    "def Are_they_the_union_of_the_last_element(cxt, query):\n",
    "    SC, DC = cxt\n",
    "    ss,d = query\n",
    "    return (seq(ss)\n",
    "            .map(lambda s: seq(SC).filter(_[0] == s).map(_[1]) \n",
    "                 .union(\n",
    "                     seq(DC).filter(_[0] == d).map(_[1])) \n",
    "                 .distinct().len() == seq(DC).filter(_[0] == d).map(_[1]).distinct().len())  \n",
    "            .all()) \n",
    "\n",
    "def union_sample(vocab, k):\n",
    "    S_vocab, C_vocab, D_vocab = vocab  \n",
    "    k_S, k_C, k_D, k_SC = k  # k_S = 3, k_C = 4, k_D = 2, k_SC = 6\n",
    "    S, C, D = sample(S_vocab, k_S), sample(C_vocab, k_C), sample(D_vocab, k_D)\n",
    "    \n",
    "    while len(set(DC := choices(D, k=k_C))) < k_D: continue  \n",
    "    DC = list(zip(DC,C)) \n",
    "    \n",
    "    all_SC = list(itertools.product(S, C))  \n",
    "    while seq(SC := sample(all_SC, k_SC)).map(_[0]).distinct().len() < k_S: continue  \n",
    "    return SC, DC\n",
    "   \n",
    "def union_query(cxt,vocab,k): \n",
    "    SC, DC = cxt\n",
    "    k_S, k_C, k_D, k_SC = k\n",
    "    S, D = select_distinct(SC, 0), select_distinct(DC, 0)\n",
    "    k_ss = randint(2, len(S))\n",
    "    ss = sample(S, k_ss)\n",
    "    d = choice(D)\n",
    "    return ss, d\n",
    "\n",
    "def union_query2str(query):\n",
    "    ss, d = query\n",
    "    query_str = '%s,%s?' % (', '.join(ss[:-1]) + ' and ' + ss[-1], d)\n",
    "    return '. ' + query_str\n",
    "\n",
    "def Are_there_elements_belonging_to_the_same_class(cxt, query): #新建联系，把vocab和属性连起来形成新集合\n",
    "    NA, DA = cxt\n",
    "    s,d = query\n",
    "    D = seq(DA).filter(_[0] == d).map(_[1])\n",
    "    return (seq(NA).filter(_[0] == s).map(_[1]).select(lambda x: sl_vocab[x] == sl_vocab[D[0]]).any())\n",
    "      \n",
    "    \n",
    "def find_sample(vocab, k): \n",
    "    name_vocab, all_vocab = vocab\n",
    "    k_name, k_all, k_D, k_SA = k  # k_name = 3, k_all = 4, k_D = 2, k_SA = 6\n",
    "    S = list(all_vocab.keys())\n",
    "    N, A, D = sample(name_vocab, k_name), sample(S, k_all), sample(string.ascii_lowercase, k_D)\n",
    "#     D = sample(d := name_vocab.pop(name_vocab.index(a) for a in N),k_D)\n",
    "    A1 = sample(S, k_D)\n",
    "    DA = list(zip(D,A1)) \n",
    "    \n",
    "    all_NA = list(itertools.product(N, A))  \n",
    "    while seq(NA := sample(all_NA, k_SA)).map(_[0]).distinct().len() < k_name: continue  \n",
    "    return NA, DA\n",
    "   \n",
    "def find_query(cxt,vocab,k): \n",
    "    NA, DA = cxt\n",
    "    k_name, k_all, k_D, k_SA = k\n",
    "    S,D = select_distinct(NA, 0), select_distinct(DA, 0)\n",
    "    s,d = choice(S), choice(D)\n",
    "    return s, d\n",
    "\n",
    "def find_query2str(query):\n",
    "    s, d = query\n",
    "    query_str = '%s,%s?' % (s, d)\n",
    "    return '. ' + query_str\n",
    "\n",
    "\n",
    "def Are_there_any_elements_different_from_other_elements(cxt, query):\n",
    "    NA = cxt\n",
    "    ss = query\n",
    "    return (seq(ss).map(lambda s: seq(NA).filter(_[0] == s).map(_[1])\n",
    "                        .select(lambda x: sl_vocab[x])[0])\n",
    "            .distinct().len( ) == 2)\n",
    "               \n",
    "def find_dif_sample(vocab, k):\n",
    "    name_vocab, all_vocab = vocab\n",
    "    k_name, k_all, k_SA = k  # k_name = 4, k_all = 4, k_SA= 3\n",
    "    N, A = sample(name_vocab, k_name), sample(list(all_vocab.keys()), k_all) \n",
    "    NA = list(zip(N,A)) \n",
    "    return NA\n",
    "   \n",
    "def find_dif_query(cxt,vocab,k): \n",
    "    NA = cxt\n",
    "    k_name, k_all, k_NA = k\n",
    "    S = select_distinct(NA, 0)\n",
    "    ss = sample(S,k_NA)\n",
    "    return ss\n",
    "\n",
    "\n",
    "def find_dif_query2str(query):\n",
    "    ss = query\n",
    "    query_str = '%s?' % (', '.join(ss[:-1]) + ' and ' + ss[-1])\n",
    "    return '. ' + query_str\n",
    "\n"
   ]
  },
  {
   "cell_type": "code",
   "execution_count": 21,
   "id": "464efbec",
   "metadata": {},
   "outputs": [],
   "source": [
    "def How_many_elements_are_similar_to_the_case(cxt, query):\n",
    "    s = cxt\n",
    "    q = query\n",
    "    return seq(s).filter(lambda x: sl_vocab[x] == sl_vocab[q[0]]).len()\n",
    "                     \n",
    "def count_sample(vocab, k):\n",
    "    all_vocab = vocab\n",
    "    k_cxt,k_query = k  # k_cxt = 4 ,k_query =1\n",
    "    N = list(all_vocab.keys())\n",
    "    s = sample(N, k_cxt) \n",
    "    return s\n",
    "   \n",
    "def count_query(cxt,vocab,k): \n",
    "    NA = cxt\n",
    "    k_cxt,k_query = k\n",
    "    N = list(vocab.keys())\n",
    "    q = sample(N,k_query)\n",
    "    return q\n",
    "\n",
    "def count_query2str(query):\n",
    "    q = query\n",
    "    query_str = '%s?' % (q[0])\n",
    "    return '. ' + query_str\n",
    "\n",
    "def Is_the_number_of_first_elements_greater_than_the_second_one(cxt, query):\n",
    "    s = cxt\n",
    "    q = query\n",
    "    return (seq(s).filter(lambda x: sl_vocab[x] == sl_vocab[q[0]]).len() >= len(s)/2)\n",
    "                     \n",
    "def compare_sample(vocab, k):\n",
    "    all_vocab,s_vocab,l_vocab = vocab\n",
    "    k_cxt,k_query = k  # k_cxt = 5 ,k_query =2\n",
    "    N = list(all_vocab.keys())\n",
    "    s = sample(N, k_cxt) \n",
    "    return s\n",
    "   \n",
    "def compare_query(cxt,vocab,k): \n",
    "    NA = cxt\n",
    "    all_vocab,s_vocab,l_vocab = vocab\n",
    "    k_cxt,k_query = k\n",
    "    q = sample(s_vocab,1)+sample(l_vocab,1)\n",
    "    random.shuffle(q)\n",
    "    return q\n",
    "\n",
    "def compare_query2str(query):\n",
    "    ss,q = query\n",
    "    query_str = '%s,%s?' % (ss,q)\n",
    "    return '. ' + query_str"
   ]
  },
  {
   "cell_type": "code",
   "execution_count": 22,
   "id": "62aee837",
   "metadata": {},
   "outputs": [],
   "source": [
    "def Ascii_size_existence(l, query): return seq(l).map(_[0] > query).any()\n",
    "def Ascii_size_all(l, query): return seq(l).map(_[0] > query).all()\n",
    "def Ascii_size_None(l, query): return seq(l).filter(_[0] > query).empty()\n",
    "def ith_element(l, query=None): return seq(l).slice(1, 2)\n",
    "def ith_group(l, query=None): return seq(l).group_by(_).select(_[1]).slice(1, 2).flatten()#.distinct()# davinci F w/ and wo dist\n",
    "# def element_at_index(l, query): return seq(l).slice(query, query + 1) # davinci F\n",
    "def element_at_index(l, query): return seq(l).enumerate().filter(_[0] == query).select(_[1])\n",
    "def replace(l, query): return seq(l).map(lambda x: query.get(x, x))\n",
    "def replace_with_the_other(l, query): # davinci F\n",
    "    query = {k: (set(l) - {k}).pop() for k in l}\n",
    "    return replace(l, query)\n",
    "def replace_all_with(l, query): return seq(l).map(lambda x: query)  # davinci F?!\n",
    "def interleave_with(l, query): return seq(l).flat_map(lambda x: [x, query])  # davinci T!!\n",
    "def unique_elements(l, query=None): return seq(l).distinct() # davinci F\n",
    "def how_many_unique_elements(l, query=None): return seq(l).distinct().len()  # davinci F\n",
    "def how_many(l, query): return seq(l).filter(_ == query).len() # davinci F\n",
    "def select_same_as(l, query): return seq(l).filter(_ == query) # simpler version of how_many. davinci F\n",
    "def select_same_number_as(l, query): return seq(l).group_by(_).select(_[1]).filter(lambda x: len(x) == len(query)).flatten() # F\n",
    "def includes(l, query): return seq(l).union(seq(query)).distinct().len() == seq(l).distinct().len() # davinci F\n",
    "def is_included_by(l, query): return seq(l).difference(seq(query)).empty() # davinci F"
   ]
  },
  {
   "cell_type": "code",
   "execution_count": 23,
   "id": "388dd77e",
   "metadata": {},
   "outputs": [],
   "source": [
    "def Compare_the_values_of_two_sets(cxt, query):\n",
    "    s = cxt\n",
    "    q = query\n",
    "    if(seq(s).filter(lambda x: sl_vocab[x] == sl_vocab[q[0]]).len() > len(s)/2):\n",
    "        return \">\"\n",
    "    elif(seq(s).filter(lambda x: sl_vocab[x] == sl_vocab[q[0]]).len() < len(s)/2):\n",
    "        return \"<\"\n",
    "    else:\n",
    "        return \"=\"\n",
    "\n",
    "def Compare_sample(vocab, k):\n",
    "    all_vocab,s_vocab,l_vocab = vocab\n",
    "    k_cxt,k_query = k  # k_cxt = 5 ,k_query =2\n",
    "    N = list(all_vocab.keys())\n",
    "    s = sample(N, k_cxt) \n",
    "    return s\n",
    "   \n",
    "def Compare_query(cxt,vocab,k): \n",
    "    NA = cxt\n",
    "    all_vocab,s_vocab,l_vocab = vocab\n",
    "    k_cxt,k_query = k\n",
    "    q = sample(s_vocab,1)+sample(l_vocab,1)\n",
    "    random.shuffle(q)\n",
    "    return q\n",
    "\n",
    "def Compare_query2str(query):\n",
    "    ss,q = query\n",
    "    query_str = '%s,%s?' % (ss,q)\n",
    "    return '. ' + query_str"
   ]
  },
  {
   "cell_type": "code",
   "execution_count": 24,
   "id": "48028352",
   "metadata": {},
   "outputs": [],
   "source": [
    "def Relationship_between_two_sets(cxt, query): #新建联系，把vocab和属性连起来形成新集合\n",
    "    NA = cxt\n",
    "    s,q= query   #s:boys/girls  q:fruits/toys\n",
    "    name = seq(NA).filter(lambda x: bg_vocab[x[0]] == s)\n",
    "    if(seq(name).map(_[1]).filter(lambda x: ft_vocab[x] == q).len() == seq(name).len()):\n",
    "        return \"all\"\n",
    "    elif(seq(name).map(_[1]).filter(lambda x: ft_vocab[x] == q).empty()):\n",
    "        return \"none\"\n",
    "    else:\n",
    "        return \"some\"\n",
    "    \n",
    "def Relationship_sample(vocab, k): \n",
    "    name_vocab, all_vocab = vocab\n",
    "    k_name, k_all, k_SA = k  # k_name = 4, k_all = 4, k_SA = 4\n",
    "    Name = list(name_vocab.keys())\n",
    "    S = list(all_vocab.keys())\n",
    "    N, A = sample(Name, k_name), sample(S, k_all)\n",
    "#     D = sample(d := name_vocab.pop(name_vocab.index(a) for a in N),k_D)\n",
    "    \n",
    "    all_NA = list(itertools.product(N, A))  \n",
    "    while seq(NA := sample(all_NA, k_SA)).map(_[0]).distinct().len() < k_name: continue  \n",
    "    return NA\n",
    "   \n",
    "def Relationship_query(cxt,vocab,k): \n",
    "    NA = cxt\n",
    "    name_vocab, all_vocab = vocab\n",
    "    k_name, k_all, k_SA = k\n",
    "    S,D = select_distinct(NA, 0),select_distinct(NA, 1)\n",
    "    s,d = choice(S),choice(D)\n",
    "    s1,d1 = name_vocab[s],all_vocab[d]\n",
    "    return s1,d1\n",
    "\n",
    "def Relationship_query2str(query):\n",
    "    s,q = query\n",
    "    query_str = '[] %s have %s. [all / some / none]?' % (s,q)\n",
    "    return '. ' + query_str"
   ]
  },
  {
   "cell_type": "code",
   "execution_count": 25,
   "id": "f199b53d",
   "metadata": {},
   "outputs": [],
   "source": [
    "tasks = [\n",
    "    (ith_element,            None,                               sample,    None,None),\n",
    "    (ith_group,              None, lambda vocab, k: seq(sample(vocab, k)).map(lambda x:[x]*randint(1, 3)).flatten().list(),None,None),\n",
    "    (element_at_index,       lambda: upper_letters,              sample,    lambda l,vocab,k: randint(0, min(2,len(l)-1))),\n",
    "    (replace,                None,                               sample,    lambda l,vocab,k: {choice(l): choice(vocab)}),\n",
    "    (replace_with_the_other, lambda: sample(full_vocab, 2),   lambda vocab,k: sample(vocab+choices(vocab, k=k-2),k), None),\n",
    "    (replace_all_with,       None,                               sample_rand_len, lambda l,vocab,k: choice(vocab)),\n",
    "    (interleave_with,        None,                               sample_rand_len, lambda l,vocab,k: choice(vocab)),\n",
    "    (unique_elements,        lambda: sample(upper_letters, 3),   choices,   None),\n",
    "    (how_many_unique_elements,lambda: sample(upper_letters, 3),  choices,   None),\n",
    "    (how_many,               lambda: sample(upper_letters, 3),   choices,   lambda l,vocab,k: choice(list(set(l)))),\n",
    "    (select_same_as,         lambda: sample(upper_letters, 3),   choices,   lambda l,vocab,k: choice(list(set(l)))),\n",
    "    (select_same_number_as,  None, lambda vocab, k: seq(sample(vocab, k)).map(lambda x:[x]*randint(1, 3)).flatten().list(),   \n",
    "     lambda l,vocab,k: [choice(vocab)]*randint(1, 3)),\n",
    "    (includes,               lambda: sample(upper_letters, 6),   sample,    lambda l,vocab,k: sample(vocab, 3)),\n",
    "    (is_included_by,         lambda: sample(upper_letters, 6),   sample,    lambda l,vocab,k: sample(vocab, 5)),\n",
    "    \n",
    "    (Ascii_size_None,        lambda: string.ascii_uppercase,              sample,    lambda l,vocab,k: \"Is there no element greater than %s?\" % choice(list(set(l)))),\n",
    "    (Ascii_size_all,         lambda: string.ascii_uppercase,              sample,    lambda l,vocab,k: \"Are all elements greater than %s?\" % choice(list(set(l)))),\n",
    "    (Ascii_size_existence,   lambda: string.ascii_uppercase,              sample,    lambda l,vocab,k: \"Is there an element greater than %s?\" % choice(list(set(l)))),\n",
    "    \n",
    "#     (all_a,                  lambda: [names_vocab,courses_vocab,depts_vocab],     all_a_sample,    all_a_query, all_a_query2str),\n",
    "    (Do_all_students_choose_courses_in_a_department,    lambda: [names_vocab,courses_vocab,depts_vocab],     all_a_sample,    all_a_query, all_a_query2str),\n",
    "    (Compare_the_values_of_two_sets,  lambda: [sl_vocab,solid_vocab,liquid_vocab],  Compare_sample,    Compare_query, Compare_query2str),\n",
    "    (Relationship_between_two_sets,   lambda: [bg_vocab,ft_vocab],               Relationship_sample,    Relationship_query, Relationship_query2str),\n",
    "    (Is_the_intersection_of_two_sets_empty,           lambda: [string.ascii_uppercase,string.ascii_lowercase],     intersection_sample,    intersection_query, intersection_query2str),\n",
    "    (Is_the_first_set_a_subset_of_the_second_one,           lambda: [string.ascii_uppercase,string.ascii_lowercase],     complement_sample,    complement_query, complement_query2str),\n",
    "    (Are_they_the_union_of_the_last_element,                lambda: [string.ascii_uppercase,string.ascii_lowercase,depts_vocab],     union_sample,    union_query, union_query2str),\n",
    "    (Are_there_elements_belonging_to_the_same_class,            lambda: [string.ascii_uppercase,sl_vocab],      find_sample,    find_query, find_query2str ),\n",
    "    (Are_there_any_elements_different_from_other_elements,          lambda: [string.ascii_uppercase,sl_vocab],      find_dif_sample,  find_dif_query, find_dif_query2str ),\n",
    "    (How_many_elements_are_similar_to_the_case,                lambda: sl_vocab,                                      count_sample,            count_query,count_query2str),\n",
    "    (Is_the_number_of_first_elements_greater_than_the_second_one,              lambda: [sl_vocab,solid_vocab,liquid_vocab],          compare_sample,            compare_query,compare_query2str),\n",
    "]"
   ]
  },
  {
   "cell_type": "code",
   "execution_count": 1365,
   "id": "105e915f",
   "metadata": {},
   "outputs": [],
   "source": [
    "# print(make_input_str(tasks[-8], nrows=30, ncols=(4, 4, 4))) "
   ]
  },
  {
   "cell_type": "code",
   "execution_count": 664,
   "id": "91683062",
   "metadata": {},
   "outputs": [],
   "source": [
    "# print(make_input_str(tasks[-9], nrows=8, ncols=(4,2))) #比较，query中给了两个元素（固体、液体），\n",
    "                                                        #若前一个元素的类型数目大于后一个，就输出YES"
   ]
  },
  {
   "cell_type": "code",
   "execution_count": 665,
   "id": "dc45005f",
   "metadata": {},
   "outputs": [],
   "source": [
    "# print(make_input_str(tasks[-9], nrows=80, ncols=(2, 3, 2, 5))) "
   ]
  },
  {
   "cell_type": "code",
   "execution_count": 460,
   "id": "e98e87d7",
   "metadata": {},
   "outputs": [
    {
     "name": "stdout",
     "output_type": "stream",
     "text": [
      "Instruction: Are there any elements different from other elements. For example:\n",
      "M: beer, N: pear, B: milk, G: peach. N, B and G? -> Yes\n",
      "F: juice, P: cola, E: coffee, G: pineapple. F, P and E? -> No\n",
      "U: grape, C: whisky, Z: juice, T: beer. Z, C and T? -> No\n",
      "H: whisky, R: apple, L: strawberry, O: brandy. R, L and O? -> Yes\n",
      "V: juice, W: brandy, P: coffee, O: banana. O, W and P? -> Yes\n",
      "H: banana, J: pineapple, E: coffee, G: grape. H, G and J? -> No\n",
      "\n"
     ]
    }
   ],
   "source": [
    "print(make_input_str(tasks[-3], nrows=80, ncols=(4,4,3))) "
   ]
  },
  {
   "cell_type": "code",
   "execution_count": 462,
   "id": "6fb4988c",
   "metadata": {},
   "outputs": [
    {
     "name": "stdout",
     "output_type": "stream",
     "text": [
      "Instruction: Are there elements belonging to the same class. For example:\n",
      "P: banana, P: brandy, I: brandy, U: peach; v: grape, b: wine. I,b? -> Yes\n",
      "K: whisky, P: apple, K: cola, L: apple; v: whisky, a: strawberry. K,a? -> No\n",
      "R: pear, R: cola, E: strawberry, M: cola; q: pear, h: vodka. E,h? -> No\n",
      "N: pineapple, Z: pineapple, C: coffee, C: juice; p: lemon, j: milk. N,p? -> Yes\n",
      "E: beer, J: milk, I: peach, I: beer; j: peach, n: banana. E,j? -> No\n",
      "R: grape, P: grape, P: juice, N: grape; k: milk, n: vodka. P,k? -> Yes\n",
      "\n"
     ]
    }
   ],
   "source": [
    "print(make_input_str(tasks[-4], nrows=100, ncols=(3,4,2,4)))  #找相同"
   ]
  },
  {
   "cell_type": "code",
   "execution_count": 668,
   "id": "f4070da5",
   "metadata": {},
   "outputs": [],
   "source": [
    "# print(make_input_str(tasks[-1], nrows=8, ncols=(5,2))) #比较，query中给了两个元素（固体、液体），\n",
    "                                                        #若前一个元素的类型数目大于后一个，就输出YES"
   ]
  },
  {
   "cell_type": "code",
   "execution_count": 669,
   "id": "4f3668d5",
   "metadata": {},
   "outputs": [],
   "source": [
    "# print(make_input_str(tasks[-2], nrows=30, ncols=(3,1), ans_vocab=[0,1,2,3]))    #数数，数cxt中与query中元素同类的个数\n",
    "                                                                                  #这里修改了balance函数"
   ]
  },
  {
   "cell_type": "code",
   "execution_count": 670,
   "id": "db442a52",
   "metadata": {},
   "outputs": [],
   "source": [
    "# print(make_input_str(tasks[-5], nrows=10, ncols=(3,4,2,4)))"
   ]
  },
  {
   "cell_type": "code",
   "execution_count": 671,
   "id": "eadf0bd9",
   "metadata": {},
   "outputs": [],
   "source": [
    "# print(make_input_str(tasks[-6], nrows=18, ncols=(3,11,5))) "
   ]
  },
  {
   "cell_type": "code",
   "execution_count": 672,
   "id": "c8c59a5b",
   "metadata": {},
   "outputs": [],
   "source": [
    "# print(make_input_str(tasks[-7], nrows=4, ncols=(3,4,5)))"
   ]
  },
  {
   "cell_type": "code",
   "execution_count": 1377,
   "id": "c3df9c68",
   "metadata": {},
   "outputs": [
    {
     "name": "stdout",
     "output_type": "stream",
     "text": [
      "Instruction: Do all students choose courses in a department. For example:\n",
      "L: Geography, L: English, B: Chemistry, L: Chemistry, Z: Chemistry; English: Eng, Geography: Eng, Chemistry: Mat. B and L,Eng? -> No\n",
      "J: History, O: Art, O: History, J: Math, D: History; History: CS, Art: Mat, Math: Mat. D and O,CS? -> Yes\n",
      "Z: Sql, Z: Music, P: Chemistry, P: Sql, T: Music; Sql: Eng, Music: Eng, Chemistry: Chi. P and Z,Chi? -> No\n",
      "J: Chinese, J: Music, U: Music, J: Sql, H: Chinese; Chinese: CS, Sql: Eng, Music: Eng. J and H,CS? -> Yes\n",
      "\n"
     ]
    }
   ],
   "source": [
    "# print(make_input_str(tasks[-10], nrows=100, ncols=(3, 3, 2, 5))) "
   ]
  },
  {
   "cell_type": "code",
   "execution_count": 674,
   "id": "06d90c77",
   "metadata": {},
   "outputs": [],
   "source": [
    "# print(make_input_str(tasks[-2], nrows=8, ncols=4))"
   ]
  },
  {
   "cell_type": "code",
   "execution_count": 675,
   "id": "3185653b",
   "metadata": {},
   "outputs": [],
   "source": [
    "# if n_total == 1:\n",
    "#     inputs = tokenizer.encode_plus(text, return_tensors='pt')\n",
    "#     inputs = prepare_inputs(inputs, model.device)\n",
    "#     outputs = model(**inputs, output_attentions=False)\n",
    "\n",
    "#     # assert inputs.input_ids.size(0) == 1\n",
    "#     input_ids = inputs.input_ids\n",
    "#     logits = outputs.logits\n",
    "\n",
    "#     bsz = input_ids.size(0); assert bsz == 1\n",
    "#     labels = torch.ones_like(input_ids) * (-100)\n",
    "#     for bi in range(bsz):\n",
    "#         bos_indices = (input_ids[bi] == bos_id).nonzero().squeeze(1)\n",
    "#         eos_indices = (input_ids[bi] == eos_id).nonzero()[-nrows:].squeeze(1)\n",
    "#         for i, (example, bos_i, eos_i) in enumerate(zip(examples, bos_indices.tolist(), eos_indices.tolist())):\n",
    "#             print(' ' + make_example_str(example))\n",
    "#             ans_ids = input_ids[bi, bos_i + 1: eos_i]\n",
    "#             if i >= 2: labels[bi, bos_i: eos_i - 1] = ans_ids\n",
    "#             ans_prob_dist = logits[bi, bos_i: eos_i - 1].softmax(-1)\n",
    "#             ans_probs = ans_prob_dist[torch.arange(ans_prob_dist.size(0)), ans_ids]\n",
    "#             ans_tokens = tokenizer.convert_ids_to_tokens(ans_ids)\n",
    "#             for ans_id, ans_token, ans_prob, dist in zip(ans_ids, ans_tokens, numpy(ans_probs, decimals=3), ans_prob_dist):\n",
    "#                 top1_correct = (dist.argmax() == ans_id).item()\n",
    "#                 print(('*' if top1_correct else ' ') + ans_token, ans_prob, \n",
    "#                       show_topk(*dist.topk(5), indices_fn=tokenizer.convert_ids_to_tokens)) \n",
    "#     loss = nn.CrossEntropyLoss()(logits.view(-1, logits.size(-1)), labels.view(-1))\n",
    "#     loss"
   ]
  },
  {
   "cell_type": "code",
   "execution_count": 676,
   "id": "6b5d2b45",
   "metadata": {},
   "outputs": [],
   "source": [
    "# tokenizer.convert_ids_to_tokens(617)"
   ]
  },
  {
   "cell_type": "code",
   "execution_count": 677,
   "id": "f7d6edbc",
   "metadata": {},
   "outputs": [],
   "source": [
    "# sum(s.count('Yes') for s in input_strs)\n",
    "# sum(s.count('No') for s in input_strs)\n",
    "# sum(s.count('all') for s in input_strs)\n",
    "# sum(s.count('none') for s in input_strs)\n",
    "# sum(s.count('some') for s in input_strs)\n",
    "# sum(s.count('3') for s in input_strs)"
   ]
  },
  {
   "cell_type": "code",
   "execution_count": 187,
   "id": "d64330f3",
   "metadata": {
    "scrolled": true
   },
   "outputs": [],
   "source": [
    "# [e['input_ids'] for e in train_dataset]"
   ]
  },
  {
   "cell_type": "code",
   "execution_count": 140,
   "id": "ee181c24",
   "metadata": {},
   "outputs": [],
   "source": [
    "# tokenizer.convert_ids_to_tokens(([e['input_ids'] for e in train_dataset][0]).numpy().tolist())"
   ]
  },
  {
   "cell_type": "code",
   "execution_count": 141,
   "id": "4ff9a2be",
   "metadata": {
    "scrolled": true
   },
   "outputs": [],
   "source": [
    "# print(eval_dataset.labels)"
   ]
  },
  {
   "cell_type": "code",
   "execution_count": null,
   "id": "c759bca1",
   "metadata": {},
   "outputs": [],
   "source": []
  },
  {
   "cell_type": "markdown",
   "id": "5f588b59",
   "metadata": {},
   "source": [
    "# 请从这里开始,肖老师"
   ]
  },
  {
   "cell_type": "code",
   "execution_count": 297,
   "id": "17373019",
   "metadata": {
    "scrolled": true
   },
   "outputs": [
    {
     "name": "stdout",
     "output_type": "stream",
     "text": [
      "Instruction: Relationship between two sets. For example:\n",
      "Daniel: lemon, Ashley: grape, Amanda: grape, Harrison: pear. [] boys have fruits. [all / some / none]? -> all\n",
      "\n",
      "Instruction: Relationship between two sets. For example:\n",
      "Sarah: lemon, Alex: peach, Harrison: grape, Eva: plasticine. [] boys have toys. [all / some / none]? -> none\n",
      "\n"
     ]
    }
   ],
   "source": [
    "# n_total, n_valid = 500, 100  #全部数目，测试数目\n",
    "# n_total, n_valid = 800, 200\n",
    "n_total, n_valid = 180, 30\n",
    "# n_total, n_valid =4,2\n",
    "n_train = n_total - n_valid\n",
    "# input_strs = [make_input_str(tasks[-7], nrows=1, ncols=(3,4,5)) for __ in range(n_total)]# Is the intersection of two sets empty.\n",
    "# input_strs = [make_input_str(tasks[-3], nrows=1, ncols=(4,4,3)) for __ in range(n_total)]# Are there any elements different from other elements\n",
    "# input_strs = [make_input_str(tasks[-4], nrows=1, ncols=(3,4,2,4)) for __ in range(n_total)]# Are_there_elements_belonging_to_the_same_class\n",
    "# input_strs = [make_input_str(tasks[-1], nrows=1, ncols=(5,2)) for __ in range(n_total)]#Is_the_number_of_first_elements_greater_than_the_second_one\n",
    "# input_strs = [make_input_str(tasks[-2], nrows=1, ncols=(3,1), ans_vocab=[0,1,2,3]) for __ in range(n_total)] #How_many_elements_are_similar_to_the_example\n",
    "# input_strs = [make_input_str(tasks[-5], nrows=1, ncols=(3,4,2,4)) for __ in range(n_total)] #Are_they_the_union_of_the_last_element\n",
    "# input_strs = [make_input_str(tasks[-6], nrows=1, ncols=(3,11,5)) for __ in range(n_total)]#Is the first set a subset of the second one\n",
    "# input_strs = [make_input_str(tasks[-10], nrows=1, ncols=(3, 3, 2, 5)) for __ in range(n_total)]\n",
    "# input_strs = [make_input_str(tasks[-9], nrows=1, ncols=(4,2)) for __ in range(n_total)] #Compare the values of two sets.\n",
    "input_strs = [make_input_str(tasks[-8], nrows=1, ncols=(4, 4, 4)) for __ in range(n_total)] #Relationship between two sets.\n",
    "\n",
    "for s in sample(input_strs, 2): print(s)\n",
    "# print(input_strs)"
   ]
  },
  {
   "cell_type": "code",
   "execution_count": 113,
   "id": "58f1d494",
   "metadata": {},
   "outputs": [],
   "source": [
    "# s,end = input_strs[0].index(\":\"),input_strs[0].index(\"For\")\n",
    "# name = input_strs[0][s+2:end]\n",
    "# import json\n",
    "# filename = './nrk/'+name\n",
    "# with open(filename,\"w\") as file_obj:\n",
    "#     json.dump(input_strs,file_obj)"
   ]
  },
  {
   "cell_type": "code",
   "execution_count": 311,
   "id": "2e64ee95",
   "metadata": {},
   "outputs": [
    {
     "name": "stdout",
     "output_type": "stream",
     "text": [
      "Instruction: Is this sentence correct. For example:\n",
      "A is less difficult to carry than B because A is smaller. Is that right? -> Yes\n",
      "\n",
      "Instruction: Is this sentence correct. For example:\n",
      "A is more dangerous to look at than B because A is less luminous. Is that right? -> No\n",
      "\n"
     ]
    }
   ],
   "source": [
    "for s in sample(text, 2): print(s)\n",
    "n_total, n_valid = 180, 30\n",
    "n_train = n_total - n_valid\n",
    "text = text[:180]"
   ]
  },
  {
   "cell_type": "code",
   "execution_count": 323,
   "id": "e2f80b74",
   "metadata": {},
   "outputs": [
    {
     "name": "stderr",
     "output_type": "stream",
     "text": [
      "Using pad_token, but it is not set yet.\n"
     ]
    }
   ],
   "source": [
    "# train_dataset = CHILDDataset(input_strs[:-n_valid], tokenizer)\n",
    "# eval_dataset = CHILDDataset(input_strs[-n_valid:], tokenizer)\n",
    "train_dataset = CHILDDataset(text[:-n_valid], tokenizer)\n",
    "eval_dataset = CHILDDataset(text[-n_valid:], tokenizer)"
   ]
  },
  {
   "cell_type": "code",
   "execution_count": 324,
   "id": "82ad27d7",
   "metadata": {},
   "outputs": [],
   "source": [
    "wte = model.get_input_embeddings() #提取 embedding 中的 词向量部分\n",
    "if hasattr(wte, 'wte'): wte = wte.wte  # already been wrapped\n",
    "we = WrappedEmbedding(wte, prompt_len=40000)\n",
    "model.set_input_embeddings(we) #为词向量赋值"
   ]
  },
  {
   "cell_type": "code",
   "execution_count": 325,
   "id": "416bbc0f",
   "metadata": {},
   "outputs": [],
   "source": [
    "def compute_metrics(pred):\n",
    "    labels = []\n",
    "    bos_indices = []\n",
    "    eos_indices = []\n",
    "    preds = []\n",
    "    m = nn.Softmax(dim = -1)\n",
    "    labels_loc = pred.label_ids.argmax(-1)\n",
    "    for i in range(len(labels_loc)):\n",
    "        labels.append(pred.label_ids[i][labels_loc[i]])\n",
    "                                                                                 #     arraypre = pred.predictions[0] # 6B\n",
    "    arraypre = pred.predictions                                                                              # 1.3B\n",
    "    predss = arraypre.argmax(-1)\n",
    "    num = \"\"\n",
    "   \n",
    "    for bi in range(predss.shape[0]):\n",
    "        num = labels_loc[bi]\n",
    "        preds.append(predss[bi, num-1:num]) \n",
    "        t = torch.from_numpy(pred.predictions[bi,num-1:num])                        #1.3B\n",
    "                                                                                    #         t = torch.from_numpy(pred.predictions[0][bi,num-1:num])  #6B\n",
    "        n = m(t)\n",
    "        ids = torch.topk(n,3)[1].numpy().tolist()                                              #ids   /[0] 概率\n",
    "        loc = torch.topk(n,3)[0].numpy().tolist()\n",
    "                                                                                                 #         print(ids)\n",
    "        ids = tokenizer.convert_ids_to_tokens(ids[0])\n",
    "        loc = [float('{:.4f}'.format(i)) for i in loc[0]]\n",
    "        precision = [i+\" : \"+str(j) for i,j in zip(ids,loc)]\n",
    "    acc = accuracy_score(labels, list(preds))    \n",
    "    return {\n",
    "        'accuracy': acc,\n",
    "        'precision': precision,\n",
    "    }\n"
   ]
  },
  {
   "cell_type": "code",
   "execution_count": 326,
   "id": "d34fd7d4",
   "metadata": {},
   "outputs": [
    {
     "data": {
      "text/plain": [
       "tensor([-100, -100, -100, -100, -100, -100, -100, -100, -100, -100, -100, -100,\n",
       "        -100, -100, -100, -100, -100, -100, -100, -100, -100, -100, -100, -100,\n",
       "        -100, -100, -100, -100, -100, -100, -100, 3363, -100, -100, -100, -100,\n",
       "        -100, -100])"
      ]
     },
     "execution_count": 326,
     "metadata": {},
     "output_type": "execute_result"
    }
   ],
   "source": [
    "eval_dataset[0]['labels']"
   ]
  },
  {
   "cell_type": "code",
   "execution_count": 316,
   "id": "eb7bf973",
   "metadata": {},
   "outputs": [],
   "source": [
    "# def compute_metrics(pred):\n",
    "#     labels = []\n",
    "#     bos_indices = []\n",
    "#     preds = []\n",
    "#     labels_loc = pred.label_ids.argmax(-1)\n",
    "#     for i in range(len(labels_loc)):\n",
    "#         labels.append(pred.label_ids[i][labels_loc[i]])\n",
    "# #     print(labels)\n",
    "#     arraypre = pred.predictions[0] # 6B\n",
    "# # #     arraypre = pred.predictions # 1.3B\n",
    "#     print(arraypre)\n",
    "#     predss = arraypre.argmax(-1)\n",
    "#     sent = tokenizer.convert_ids_to_tokens(predss[0])\n",
    "#     sent1 = \" \".join(sent)\n",
    "#     sent1=sent1.replace(\"Ġ\",\"\")\n",
    "#     sent1=sent1.replace(\"Ċ\",\"\\n\")\n",
    "#     print(sent1)\n",
    "#     for bi in range(predss.shape[0]):\n",
    "#         for j in range(predss.shape[1]):\n",
    "#             if(predss[bi][j] == bos_id):\n",
    "#                 bos_indices.append(j)\n",
    "#         bos_i = bos_indices[-1]\n",
    "#         preds.append(predss[bi, bos_i + 1:bos_i + 2])\n",
    "    \n",
    "#     acc = accuracy_score(labels, list(preds))\n",
    "#     return {\n",
    "# #         'accuracy': acc,\n",
    "#     }\n"
   ]
  },
  {
   "cell_type": "code",
   "execution_count": 327,
   "id": "6ebf074a",
   "metadata": {
    "scrolled": true
   },
   "outputs": [
    {
     "name": "stderr",
     "output_type": "stream",
     "text": [
      "PyTorch: setting up devices\n"
     ]
    }
   ],
   "source": [
    "training_args = TrainingArguments(output_dir=\"./models/model_name\",                                                             #模型预测和检查点的输出目录\n",
    "    overwrite_output_dir=True, do_train=True, do_eval=True, do_predict=True, \n",
    "    per_device_train_batch_size=1, per_device_eval_batch_size=1,                                                  #每个GPU / TPU内核/ CPU的批处理大小\n",
    "    gradient_accumulation_steps=6,eval_steps=5, \n",
    "    weight_decay=0.001, adam_beta2=0.98, adam_epsilon=1e-6,                                      #weight_decay要应用的权重衰减,adam_epsilon AdamW优化器的ε超参数\n",
    "    lr_scheduler_type='constant', learning_rate=0.001, num_train_epochs=5,                                  #learning_rate:Adam初始学习率\n",
    "    logging_strategy ='epoch',  save_steps=0,                                             #save_steps保存两个检查点之前的更新步骤数\n",
    "    no_cuda=True, report_to='none',                                                         # to avoid report to wandb\n",
    "    evaluation_strategy ='steps',\n",
    "#     evaluation_strategy ='epoch'\n",
    ")"
   ]
  },
  {
   "cell_type": "code",
   "execution_count": 328,
   "id": "ff25273c",
   "metadata": {},
   "outputs": [],
   "source": [
    "# with open(filename,\"a\") as f:\n",
    "#         f.write(str(training_args))"
   ]
  },
  {
   "cell_type": "code",
   "execution_count": 329,
   "id": "d89c7d7b",
   "metadata": {},
   "outputs": [
    {
     "name": "stderr",
     "output_type": "stream",
     "text": [
      "/nas/xd/projects/transformers/src/transformers/optimization.py:306: FutureWarning: This implementation of AdamW is deprecated and will be removed in a future version. Use the PyTorch implementation torch.optim.AdamW instead, or set `no_deprecation_warning=True` to disable this warning\n",
      "  warnings.warn(\n"
     ]
    }
   ],
   "source": [
    "trainer = Trainer(model, training_args, train_dataset=train_dataset, eval_dataset=eval_dataset,compute_metrics=compute_metrics,\n",
    "                  optimizers=(create_optimizer(model, training_args), None))"
   ]
  },
  {
   "cell_type": "code",
   "execution_count": 330,
   "id": "0aa95c7d",
   "metadata": {},
   "outputs": [
    {
     "name": "stderr",
     "output_type": "stream",
     "text": [
      "***** Running Evaluation *****\n",
      "  Num examples = 30\n",
      "  Batch size = 1\n"
     ]
    },
    {
     "data": {
      "text/html": [
       "\n",
       "    <div>\n",
       "      \n",
       "      <progress value='60' max='30' style='width:300px; height:20px; vertical-align: middle;'></progress>\n",
       "      [30/30 01:58]\n",
       "    </div>\n",
       "    "
      ],
      "text/plain": [
       "<IPython.core.display.HTML object>"
      ]
     },
     "metadata": {},
     "output_type": "display_data"
    },
    {
     "data": {
      "text/plain": [
       "{'eval_loss': 3.5578513145446777,\n",
       " 'eval_accuracy': 0.0,\n",
       " 'eval_precision': ['ĠA : 0.1883', 'ĠIs : 0.059', 'ĠB : 0.0472'],\n",
       " 'eval_runtime': 9.2024,\n",
       " 'eval_samples_per_second': 3.26,\n",
       " 'eval_steps_per_second': 3.26}"
      ]
     },
     "execution_count": 330,
     "metadata": {},
     "output_type": "execute_result"
    }
   ],
   "source": [
    "trainer.evaluate()"
   ]
  },
  {
   "cell_type": "code",
   "execution_count": 331,
   "id": "c5b8d21d",
   "metadata": {
    "scrolled": false
   },
   "outputs": [
    {
     "name": "stderr",
     "output_type": "stream",
     "text": [
      "***** Running training *****\n",
      "  Num examples = 150\n",
      "  Num Epochs = 5\n",
      "  Instantaneous batch size per device = 1\n",
      "  Total train batch size (w. parallel, distributed & accumulation) = 1\n",
      "  Gradient Accumulation steps = 1\n",
      "  Total optimization steps = 750\n"
     ]
    },
    {
     "data": {
      "text/html": [
       "\n",
       "    <div>\n",
       "      \n",
       "      <progress value='750' max='750' style='width:300px; height:20px; vertical-align: middle;'></progress>\n",
       "      [750/750 09:14, Epoch 5/5]\n",
       "    </div>\n",
       "    <table border=\"1\" class=\"dataframe\">\n",
       "  <thead>\n",
       " <tr style=\"text-align: left;\">\n",
       "      <th>Epoch</th>\n",
       "      <th>Training Loss</th>\n",
       "      <th>Validation Loss</th>\n",
       "      <th>Accuracy</th>\n",
       "      <th>Precision</th>\n",
       "    </tr>\n",
       "  </thead>\n",
       "  <tbody>\n",
       "    <tr>\n",
       "      <td>1</td>\n",
       "      <td>1.616900</td>\n",
       "      <td>1.304838</td>\n",
       "      <td>0.566667</td>\n",
       "      <td>['ĠYes : 0.6459', 'ĠNo : 0.1877', 'Ġ[ : 0.0194']</td>\n",
       "    </tr>\n",
       "    <tr>\n",
       "      <td>2</td>\n",
       "      <td>2.889400</td>\n",
       "      <td>13.196543</td>\n",
       "      <td>0.000000</td>\n",
       "      <td>['ĊĊ : 0.1545', 'Ċ : 0.1327', '\\\\ : 0.0873']</td>\n",
       "    </tr>\n",
       "    <tr>\n",
       "      <td>3</td>\n",
       "      <td>10.558700</td>\n",
       "      <td>12.672831</td>\n",
       "      <td>0.000000</td>\n",
       "      <td>['Ġthe : 0.1758', 'Ġof : 0.0498', '- : 0.0434']</td>\n",
       "    </tr>\n",
       "    <tr>\n",
       "      <td>4</td>\n",
       "      <td>9.712600</td>\n",
       "      <td>9.770533</td>\n",
       "      <td>0.000000</td>\n",
       "      <td>['Ġ : 0.273', 'Ġthe : 0.0731', 'Ġlike : 0.035']</td>\n",
       "    </tr>\n",
       "    <tr>\n",
       "      <td>5</td>\n",
       "      <td>4.668000</td>\n",
       "      <td>2.120934</td>\n",
       "      <td>0.433333</td>\n",
       "      <td>['ĠNo : 0.1628', 'ĠYes : 0.1345', 'Ġthe : 0.0488']</td>\n",
       "    </tr>\n",
       "  </tbody>\n",
       "</table><p>"
      ],
      "text/plain": [
       "<IPython.core.display.HTML object>"
      ]
     },
     "metadata": {},
     "output_type": "display_data"
    },
    {
     "name": "stderr",
     "output_type": "stream",
     "text": [
      "***** Running Evaluation *****\n",
      "  Num examples = 30\n",
      "  Batch size = 1\n",
      "***** Running Evaluation *****\n",
      "  Num examples = 30\n",
      "  Batch size = 1\n",
      "***** Running Evaluation *****\n",
      "  Num examples = 30\n",
      "  Batch size = 1\n",
      "***** Running Evaluation *****\n",
      "  Num examples = 30\n",
      "  Batch size = 1\n",
      "***** Running Evaluation *****\n",
      "  Num examples = 30\n",
      "  Batch size = 1\n",
      "\n",
      "\n",
      "Training completed. Do not forget to share your model on huggingface.co/models =)\n",
      "\n",
      "\n"
     ]
    },
    {
     "data": {
      "text/plain": [
       "TrainOutput(global_step=750, training_loss=5.889138916015625, metrics={'train_runtime': 554.7103, 'train_samples_per_second': 1.352, 'train_steps_per_second': 1.352, 'total_flos': 224246237184000.0, 'train_loss': 5.889138916015625, 'epoch': 5.0})"
      ]
     },
     "execution_count": 331,
     "metadata": {},
     "output_type": "execute_result"
    }
   ],
   "source": [
    "trainer.train()"
   ]
  },
  {
   "cell_type": "code",
   "execution_count": 76,
   "id": "90777ed1",
   "metadata": {},
   "outputs": [
    {
     "name": "stderr",
     "output_type": "stream",
     "text": [
      "***** Running Prediction *****\n",
      "  Num examples = 10\n",
      "  Batch size = 1\n"
     ]
    },
    {
     "data": {
      "text/html": [
       "\n",
       "    <div>\n",
       "      \n",
       "      <progress value='10' max='10' style='width:300px; height:20px; vertical-align: middle;'></progress>\n",
       "      [10/10 00:02]\n",
       "    </div>\n",
       "    "
      ],
      "text/plain": [
       "<IPython.core.display.HTML object>"
      ]
     },
     "metadata": {},
     "output_type": "display_data"
    },
    {
     "name": "stdout",
     "output_type": "stream",
     "text": [
      "{'test_loss': 0.735599160194397, 'test_accuracy': 0.5, 'test_precision': ['ĠYes : 0.6578', 'ĠNo : 0.3009', 'Ġyes : 0.0071'], 'test_runtime': 3.1062, 'test_samples_per_second': 3.219, 'test_steps_per_second': 3.219}\n"
     ]
    }
   ],
   "source": [
    "test_dataset = CHILDDataset(text[:10], tokenizer)\n",
    "a = trainer.predict(test_dataset) #此处新生成了测试集\n",
    "print(a.metrics)"
   ]
  },
  {
   "cell_type": "code",
   "execution_count": 101,
   "id": "8d29120e",
   "metadata": {},
   "outputs": [
    {
     "name": "stderr",
     "output_type": "stream",
     "text": [
      "***** Running Prediction *****\n",
      "  Num examples = 30\n",
      "  Batch size = 1\n"
     ]
    },
    {
     "name": "stdout",
     "output_type": "stream",
     "text": [
      "{'test_loss': 0.0003098619054071605, 'test_accuracy': 1.0, 'test_precision': ['ĠNo : 0.9999', 'No : 0.0', 'Ġ : 0.0'], 'test_runtime': 50.5283, 'test_samples_per_second': 0.594, 'test_steps_per_second': 0.594}\n"
     ]
    }
   ],
   "source": [
    "# input_strs = [make_input_str(tasks[-7], nrows=100, ncols=(3,4,5)) for __ in range(30)]# Is the intersection of two sets empty.\n",
    "# input_strs = [make_input_str(tasks[-3], nrows=100, ncols=(4,4,3)) for __ in range(30)]# Are there any elements different from other elements\n",
    "# input_strs = [make_input_str(tasks[-4], nrows=100, ncols=(3,4,2,4)) for __ in range(30)]# Are_there_elements_belonging_to_the_same_class\n",
    "# input_strs = [make_input_str(tasks[-1], nrows=120, ncols=(5,2)) for __ in range(30)]#Is_the_number_of_first_elements_greater_than_the_second_one\n",
    "# input_strs = [make_input_str(tasks[-2], nrows=80, ncols=(3,1), ans_vocab=[0,1,2,3]) for __ in range(30)] #How_many_elements_are_similar_to_the_example\n",
    "# input_strs = [make_input_str(tasks[-5], nrows=100, ncols=(3,4,2,4)) for __ in range(30)] #Are_they_the_union_of_the_last_element\n",
    "# input_strs = [make_input_str(tasks[-6], nrows=100, ncols=(3,11,5)) for __ in range(30)]#Is the first set a subset of the second one\n",
    "# input_strs = [make_input_str(tasks[-10], nrows=100, ncols=(3, 3, 2, 5)) for __ in range(30)]\n",
    "# input_strs = [make_input_str(tasks[-9], nrows=100, ncols=(4,2)) for __ in range(30)] #Compare the values of two sets.\n",
    "# input_strs = [make_input_str(tasks[-8], nrows=100, ncols=(4, 4, 4)) for __ in range(30)] #Relationship between two sets.\n",
    "test_dataset = CHILDDataset(input_strs[:], tokenizer)\n",
    "a = trainer.predict(test_dataset) #此处新生成了测试集\n",
    "print(a.metrics)"
   ]
  },
  {
   "cell_type": "code",
   "execution_count": null,
   "id": "56d1961b",
   "metadata": {},
   "outputs": [],
   "source": []
  },
  {
   "cell_type": "code",
   "execution_count": null,
   "id": "d7ef98c4",
   "metadata": {},
   "outputs": [],
   "source": []
  },
  {
   "cell_type": "code",
   "execution_count": null,
   "id": "eedb8237",
   "metadata": {},
   "outputs": [],
   "source": []
  },
  {
   "cell_type": "code",
   "execution_count": null,
   "id": "4622d39d",
   "metadata": {},
   "outputs": [],
   "source": []
  },
  {
   "cell_type": "code",
   "execution_count": null,
   "id": "a194cd0d",
   "metadata": {},
   "outputs": [],
   "source": []
  },
  {
   "cell_type": "code",
   "execution_count": null,
   "id": "9afa17cf",
   "metadata": {},
   "outputs": [],
   "source": []
  },
  {
   "cell_type": "code",
   "execution_count": null,
   "id": "b8e6b876",
   "metadata": {},
   "outputs": [],
   "source": []
  },
  {
   "cell_type": "code",
   "execution_count": 81,
   "id": "b37a9874",
   "metadata": {},
   "outputs": [
    {
     "data": {
      "text/plain": [
       "True"
      ]
     },
     "execution_count": 81,
     "metadata": {},
     "output_type": "execute_result"
    }
   ],
   "source": [
    "trainer.place_model_on_device"
   ]
  },
  {
   "cell_type": "code",
   "execution_count": 82,
   "id": "9b4b3eca",
   "metadata": {},
   "outputs": [],
   "source": [
    "def get_prev(elem):\n",
    "    i, v = elem\n",
    "    return _l[i - 1] if i > 0 else None\n",
    "\n",
    "false = lambda *_: False\n",
    "true  = lambda *_: True"
   ]
  },
  {
   "cell_type": "code",
   "execution_count": 83,
   "id": "721cb66f",
   "metadata": {},
   "outputs": [],
   "source": [
    "Element = namedtuple('Element', 'index value')\n",
    "_l = 'A B C B'.split()\n",
    "n = len(_l)\n",
    "# l = [Element._make(e) for e in enumerate(l)]\n",
    "l = seq(_l)\n",
    "l = l.enumerate().map(Element._make)"
   ]
  },
  {
   "cell_type": "code",
   "execution_count": 85,
   "id": "9f22f664",
   "metadata": {},
   "outputs": [
    {
     "data": {
      "text/html": [
       "<table>\n",
       "<thead>\n",
       "<tr><th style=\"text-align: right;\">  index</th><th>value  </th></tr>\n",
       "</thead>\n",
       "<tbody>\n",
       "<tr><td style=\"text-align: right;\">      0</td><td>A      </td></tr>\n",
       "<tr><td style=\"text-align: right;\">      1</td><td>B      </td></tr>\n",
       "<tr><td style=\"text-align: right;\">      2</td><td>C      </td></tr>\n",
       "<tr><td style=\"text-align: right;\">      3</td><td>B      </td></tr>\n",
       "</tbody>\n",
       "</table>"
      ],
      "text/plain": [
       "[Element(index=0, value='A'), Element(index=1, value='B'), Element(index=2, value='C'), Element(index=3, value='B')]"
      ]
     },
     "execution_count": 85,
     "metadata": {},
     "output_type": "execute_result"
    },
    {
     "data": {
      "text/plain": [
       "['C']"
      ]
     },
     "execution_count": 85,
     "metadata": {},
     "output_type": "execute_result"
    },
    {
     "data": {
      "text/plain": [
       "['b']"
      ]
     },
     "execution_count": 85,
     "metadata": {},
     "output_type": "execute_result"
    },
    {
     "data": {
      "text/plain": [
       "[2]"
      ]
     },
     "execution_count": 85,
     "metadata": {},
     "output_type": "execute_result"
    },
    {
     "data": {
      "text/plain": [
       "['C', 'A', 'B', 'B']"
      ]
     },
     "execution_count": 85,
     "metadata": {},
     "output_type": "execute_result"
    },
    {
     "data": {
      "text/plain": [
       "['B', 'B', 'C', 'A']"
      ]
     },
     "execution_count": 85,
     "metadata": {},
     "output_type": "execute_result"
    },
    {
     "data": {
      "text/html": [
       "<table>\n",
       "<thead>\n",
       "<tr><th style=\"text-align: right;\">  index</th><th>value  </th></tr>\n",
       "</thead>\n",
       "<tbody>\n",
       "<tr><td style=\"text-align: right;\">      0</td><td>A      </td></tr>\n",
       "<tr><td style=\"text-align: right;\">      1</td><td>A      </td></tr>\n",
       "<tr><td style=\"text-align: right;\">      2</td><td>C      </td></tr>\n",
       "<tr><td style=\"text-align: right;\">      3</td><td>B      </td></tr>\n",
       "</tbody>\n",
       "</table>"
      ],
      "text/plain": [
       "[Element(index=0, value='A'), Element(index=1, value='A'), Element(index=2, value='C'), Element(index=3, value='B')]"
      ]
     },
     "execution_count": 85,
     "metadata": {},
     "output_type": "execute_result"
    },
    {
     "data": {
      "text/plain": [
       "False"
      ]
     },
     "execution_count": 85,
     "metadata": {},
     "output_type": "execute_result"
    },
    {
     "data": {
      "text/plain": [
       "['A', 'B', 'B', 'C', 'C']"
      ]
     },
     "execution_count": 85,
     "metadata": {},
     "output_type": "execute_result"
    },
    {
     "data": {
      "text/plain": [
       "[1, 1, 2, 1, 2, 3]"
      ]
     },
     "execution_count": 85,
     "metadata": {},
     "output_type": "execute_result"
    },
    {
     "data": {
      "text/plain": [
       "['B']"
      ]
     },
     "execution_count": 85,
     "metadata": {},
     "output_type": "execute_result"
    },
    {
     "data": {
      "text/plain": [
       "['B']"
      ]
     },
     "execution_count": 85,
     "metadata": {},
     "output_type": "execute_result"
    }
   ],
   "source": [
    "l.map(lambda x: {'B': 'D'}.get(x, x))\n",
    "\n",
    "l.filter(lambda x: get_prev(x) == 'B').select(_.value)\n",
    "\n",
    "find_fn = _.index == 1\n",
    "l.filter(find_fn).select(_.value).map(lower)\n",
    "\n",
    "find_fn = _.value == 'C'\n",
    "l.filter(find_fn).select(_.index)\n",
    "\n",
    "# move x to first\n",
    "update_filter = _.value == 'C'\n",
    "get_new = lambda x: -1\n",
    "l.map(lambda x: Element(update_fn(x, 'index'), x.value)).order_by(_.index).select(_.value)\n",
    "\n",
    "# swap first and last\n",
    "update_filter = true\n",
    "get_new = lambda x: {0: n - 1, n - 1: 0}.get(x.index, x.index)\n",
    "l.map(lambda x: Element(update_fn(x, 'index'), x.value)).order_by(_.index).select(_.value)\n",
    "\n",
    "# get inbetween == drop_while + take_while?\n",
    "\n",
    "# update by index to its prev\n",
    "update_filter = _.index == 1\n",
    "get_new = lambda x: get_prev(x)\n",
    "def update_fn(x, update_field): return get_new(x) if update_filter(x) else getattr(x, update_field)\n",
    "l.map(lambda x: Element(x.index, update_fn(x, 'value')))\n",
    "\n",
    "# if two adjacent elements by indices are equal\n",
    "l.filter(lambda x: x.index in [0, 1]).select(_.value).distinct().len() == 1\n",
    "\n",
    "seq('A B C B C'.split()).group_by(_).select(_[1]).flatten()\n",
    "\n",
    "# count occurance till current\n",
    "seq('A B A C B A'.split()).inits().reverse().tail().map(lambda x: x.filter(_ == x.last()).len())\n",
    "\n",
    "# find special\n",
    "seq('A B A A'.split()).count_by_value().filter(_[1] == 1).select(_[0])\n",
    "\n",
    "# generalized find special\n",
    "seq('A A B C C D D'.split()).group_by(_).map(lambda x: (x[0], len(x[1]))).filter(_[1] == 1).select(_[0])"
   ]
  },
  {
   "cell_type": "code",
   "execution_count": null,
   "id": "49b3e124",
   "metadata": {},
   "outputs": [],
   "source": []
  }
 ],
 "metadata": {
  "kernelspec": {
   "display_name": "Python 3",
   "language": "python",
   "name": "python3"
  },
  "language_info": {
   "codemirror_mode": {
    "name": "ipython",
    "version": 3
   },
   "file_extension": ".py",
   "mimetype": "text/x-python",
   "name": "python",
   "nbconvert_exporter": "python",
   "pygments_lexer": "ipython3",
   "version": "3.8.12"
  }
 },
 "nbformat": 4,
 "nbformat_minor": 5
}
