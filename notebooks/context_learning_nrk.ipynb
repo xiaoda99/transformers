{
 "cells": [
  {
   "cell_type": "code",
   "execution_count": 41,
   "id": "1073d36f",
   "metadata": {},
   "outputs": [],
   "source": [
    "import random"
   ]
  },
  {
   "cell_type": "code",
   "execution_count": 292,
   "id": "aa9d6afd",
   "metadata": {},
   "outputs": [
    {
     "name": "stdout",
     "output_type": "stream",
     "text": [
      "3.8.12 | packaged by conda-forge | (default, Jan 30 2022, 23:53:36) \n",
      "[GCC 9.4.0]\n"
     ]
    }
   ],
   "source": [
    "import sys\n",
    "print(sys.version)"
   ]
  },
  {
   "cell_type": "code",
   "execution_count": 162,
   "id": "ea7a474c",
   "metadata": {},
   "outputs": [],
   "source": [
    "def find_b(data):\n",
    "    j = \"\"\n",
    "    text = data.split(\" \")\n",
    "    loc_k = text.index(\"A\")+2\n",
    "    loc_d = text.index(\"than\")\n",
    "    for i in range(loc_k,loc_d):\n",
    "        j += text[i]\n",
    "        j += \" \"\n",
    "    return j.strip();\n",
    "    \n",
    "def replace(string):\n",
    "    text = string.split(\" \")\n",
    "    text1 = []\n",
    "    for i in dictfan.keys():\n",
    "        if(i in string):\n",
    "\n",
    "            string = string.replace(i,dictfan[i])\n",
    "            break\n",
    "    return string\n",
    "\n",
    "def create_text1(b,data):\n",
    "    text = []\n",
    "    letter = \"\"\n",
    "    string = \"\"\n",
    "    letter_list = data.split(\" \")\n",
    "    for i in range(letter_list.index(\"so\")+1,len(letter_list)-1):\n",
    "        letter += letter_list[i]\n",
    "        letter += \" \"\n",
    "    letter += \"B\"\n",
    "\n",
    "    text.append(letter)\n",
    "    text.append(\"because\")\n",
    "    text.append(\"A\")\n",
    "    letter = \"\"\n",
    "    for i in range(letter_list.index(\"A\")+1,letter_list.index(\"than\")):\n",
    "        letter += letter_list[i]\n",
    "        if(i == letter_list.index(\"than\")-1):\n",
    "            letter += \".\"\n",
    "        else:\n",
    "            letter += \" \"\n",
    "    text.append(letter)  \n",
    "\n",
    "    string += \" \".join(text)\n",
    "    string += \" Is that right? -> Yes\"\n",
    "    string = \"\".join(string[:1].upper() + string[1:])\n",
    "    return string"
   ]
  },
  {
   "cell_type": "code",
   "execution_count": 163,
   "id": "da57c7a6",
   "metadata": {},
   "outputs": [],
   "source": [
    "def create_text2(b,data):\n",
    "    text = []\n",
    "    letter = \"\"\n",
    "    string = \"\"\n",
    "    letter_list = data.split(\" \")\n",
    "    for i in range(letter_list.index(\"so\")+1,len(letter_list)-1):\n",
    "        letter += letter_list[i]\n",
    "        letter += \" \"\n",
    "    letter += \"B\"\n",
    "    text.append(letter)\n",
    "    text.append(\"because\")\n",
    "    text.append(\"B\")\n",
    "    letter = \"\"\n",
    "    for i in range(letter_list.index(\"A\")+1,letter_list.index(\"than\")):\n",
    "        letter += letter_list[i]\n",
    "        if(i == letter_list.index(\"than\")-1):\n",
    "            letter += \".\"\n",
    "        else:\n",
    "            letter += \" \"\n",
    "    letter = replace(letter)\n",
    "    text.append(letter)  \n",
    "\n",
    "    string += \" \".join(text)\n",
    "    string += \" Is that right? -> Yes\"\n",
    "    string = \"\".join(string[:1].upper() + string[1:])\n",
    "    return string    "
   ]
  },
  {
   "cell_type": "code",
   "execution_count": 164,
   "id": "e66b8762",
   "metadata": {},
   "outputs": [],
   "source": [
    "def create_text3(b,data):\n",
    "    text = []\n",
    "    letter = \"\"\n",
    "    string = \"\"\n",
    "    letter_list = data.split(\" \")\n",
    "    for i in range(letter_list.index(\"so\")+1,len(letter_list)-1):\n",
    "        letter += letter_list[i]\n",
    "        letter += \" \"\n",
    "    letter += \"B\"\n",
    "    letter = replace(letter)\n",
    "    text.append(letter)\n",
    "    text.append(\"because\")\n",
    "    text.append(\"A\")\n",
    "    letter = \"\"\n",
    "    for i in range(letter_list.index(\"A\")+1,letter_list.index(\"than\")):\n",
    "        letter += letter_list[i]\n",
    "        if(i == letter_list.index(\"than\")-1):\n",
    "            letter += \".\"\n",
    "        else:\n",
    "            letter += \" \"\n",
    "    letter = replace(letter)\n",
    "    text.append(letter)  \n",
    "\n",
    "    string += \" \".join(text)\n",
    "    string += \" Is that right? -> Yes\"\n",
    "    string = \"\".join(string[:1].upper() + string[1:])\n",
    "    return string    "
   ]
  },
  {
   "cell_type": "code",
   "execution_count": 165,
   "id": "6cacff9b",
   "metadata": {},
   "outputs": [],
   "source": [
    "def create_text4(b,data):\n",
    "    text = []\n",
    "    letter = \"\"\n",
    "    string = \"\"\n",
    "    letter_list = data.split(\" \")\n",
    "    for i in range(letter_list.index(\"so\")+1,len(letter_list)-1):\n",
    "        letter += letter_list[i]\n",
    "        letter += \" \"\n",
    "    letter += \"B\"\n",
    "    letter = replace(letter)\n",
    "    text.append(letter)\n",
    "    text.append(\"because\")\n",
    "    text.append(\"B\")\n",
    "    letter = \"\"\n",
    "    for i in range(letter_list.index(\"A\")+1,letter_list.index(\"than\")):\n",
    "        letter += letter_list[i]\n",
    "        if(i == letter_list.index(\"than\")-1):\n",
    "            letter += \".\"\n",
    "        else:\n",
    "            letter += \" \"\n",
    "    text.append(letter)  \n",
    "\n",
    "    string += \" \".join(text)\n",
    "    string += \" Is that right? -> Yes\"\n",
    "    string = \"\".join(string[:1].upper() + string[1:])\n",
    "    return string "
   ]
  },
  {
   "cell_type": "code",
   "execution_count": 166,
   "id": "de4c4c95",
   "metadata": {},
   "outputs": [],
   "source": [
    "def create_text5(b,data):\n",
    "    text = []\n",
    "    letter = \"\"\n",
    "    string = \"\"\n",
    "    letter_list = data.split(\" \")\n",
    "    for i in range(letter_list.index(\"so\")+1,len(letter_list)-1):\n",
    "        letter += letter_list[i]\n",
    "        letter += \" \"\n",
    "    letter += \"B\"\n",
    "    \n",
    "    text.append(letter)\n",
    "    text.append(\"because\")\n",
    "    text.append(\"A\")\n",
    "    letter = \"\"\n",
    "    for i in range(letter_list.index(\"A\")+1,letter_list.index(\"than\")):\n",
    "        letter += letter_list[i]\n",
    "        if(i == letter_list.index(\"than\")-1):\n",
    "            letter += \".\"\n",
    "        else:\n",
    "            letter += \" \"\n",
    "    letter = replace(letter)\n",
    "    text.append(letter)  \n",
    "\n",
    "    string += \" \".join(text)\n",
    "    string += \" Is that right? -> No\"\n",
    "    string = \"\".join(string[:1].upper() + string[1:])\n",
    "    return string   "
   ]
  },
  {
   "cell_type": "code",
   "execution_count": 167,
   "id": "3e0e27b6",
   "metadata": {},
   "outputs": [],
   "source": [
    "def create_text6(b,data):\n",
    "    text = []\n",
    "    letter = \"\"\n",
    "    string = \"\"\n",
    "    letter_list = data.split(\" \")\n",
    "    for i in range(letter_list.index(\"so\")+1,len(letter_list)-1):\n",
    "        letter += letter_list[i]\n",
    "        letter += \" \"\n",
    "    letter += \"B\"\n",
    "    \n",
    "    text.append(letter)\n",
    "    text.append(\"because\")\n",
    "    text.append(\"B\")\n",
    "    letter = \"\"\n",
    "    for i in range(letter_list.index(\"A\")+1,letter_list.index(\"than\")):\n",
    "        letter += letter_list[i]\n",
    "        if(i == letter_list.index(\"than\")-1):\n",
    "            letter += \".\"\n",
    "        else:\n",
    "            letter += \" \"\n",
    "    \n",
    "    text.append(letter)  \n",
    "\n",
    "    string += \" \".join(text)\n",
    "    string += \" Is that right? -> No\"\n",
    "    string = \"\".join(string[:1].upper() + string[1:])\n",
    "    return string    "
   ]
  },
  {
   "cell_type": "code",
   "execution_count": 168,
   "id": "64a30f2f",
   "metadata": {},
   "outputs": [],
   "source": [
    "def create_text7(b,data):\n",
    "    text = []\n",
    "    letter = \"\"\n",
    "    string = \"\"\n",
    "    letter_list = data.split(\" \")\n",
    "    for i in range(letter_list.index(\"so\")+1,len(letter_list)-1):\n",
    "        letter += letter_list[i]\n",
    "        letter += \" \"\n",
    "    letter += \"B\"\n",
    "    letter = replace(letter)\n",
    "    text.append(letter)\n",
    "    text.append(\"because\")\n",
    "    text.append(\"A\")\n",
    "    letter = \"\"\n",
    "    for i in range(letter_list.index(\"A\")+1,letter_list.index(\"than\")):\n",
    "        letter += letter_list[i]\n",
    "        if(i == letter_list.index(\"than\")-1):\n",
    "            letter += \".\"\n",
    "        else:\n",
    "            letter += \" \"\n",
    "    \n",
    "    text.append(letter)  \n",
    "    string += \" \".join(text)\n",
    "    string += \" Is that right? -> No\"\n",
    "    string = \"\".join(string[:1].upper() + string[1:])\n",
    "    return string    "
   ]
  },
  {
   "cell_type": "code",
   "execution_count": 169,
   "id": "3be5200e",
   "metadata": {},
   "outputs": [],
   "source": [
    "def create_text8(b,data):\n",
    "    text = []\n",
    "    letter = \"\"\n",
    "    string = \"\"\n",
    "    letter_list = data.split(\" \")\n",
    "    for i in range(letter_list.index(\"so\")+1,len(letter_list)-1):\n",
    "        letter += letter_list[i]\n",
    "        letter += \" \"\n",
    "    letter += \"B\"\n",
    "    letter = replace(letter)\n",
    "    text.append(letter)\n",
    "    text.append(\"because\")\n",
    "    text.append(\"B\")\n",
    "    letter = \"\"\n",
    "    for i in range(letter_list.index(\"A\")+1,letter_list.index(\"than\")):\n",
    "        letter += letter_list[i]\n",
    "        if(i == letter_list.index(\"than\")-1):\n",
    "            letter += \".\"\n",
    "        else:\n",
    "            letter += \" \"\n",
    "    letter = replace(letter)\n",
    "    text.append(letter)  \n",
    "    string += \" \".join(text)\n",
    "    string += \" Is that right? -> No\"\n",
    "    string = \"\".join(string[:1].upper() + string[1:])\n",
    "    return string    "
   ]
  },
  {
   "cell_type": "code",
   "execution_count": 170,
   "id": "7b7e349c",
   "metadata": {},
   "outputs": [],
   "source": [
    "dictfan = {}\n",
    "dictfan[\"smaller\"] = \"bigger\"\n",
    "dictfan[\"heavier\"] = \"lighter\"\n",
    "dictfan[\"denser\"] = \"sparser\"\n",
    "dictfan[\"wider\"] = \"narrower\"\n",
    "dictfan[\"hotter\"] = \"cooler\"\n",
    "dictfan[\"tougher\"] = \"softer\"\n",
    "dictfan[\"harder\"] = \"easier\"\n",
    "dictfan[\"taller\"] = \"shorter\"\n",
    "dictfan[\"lighter\"] = \"heavier\"\n",
    "dictfan[\"better\"] = \"worse\"\n",
    "dictfan[\"less\"] = \"more\"\n",
    "dictfan[\"more\"] = \"less\"\n",
    "dictfan[\"shorter\"] = \"taller\"\n",
    "dictfan[\"larger\"] = \"smaller\"\n",
    "dictfan[\"easier\"] = \"harder\"\n",
    "dictfan[\"worse\"] = \"better\""
   ]
  },
  {
   "cell_type": "code",
   "execution_count": 223,
   "id": "442ed078",
   "metadata": {},
   "outputs": [
    {
     "name": "stdout",
     "output_type": "stream",
     "text": [
      "['A will have a easier time failing than B because A has more dedication. Is that right? -> No', 'A is worse for keeping things out of reach than B because B is shorter. Is that right? -> No', 'A should withstand piercing more easily than B because B is sparser. Is that right? -> Yes', 'A is less comfortable than B because A is easier. Is that right? -> No', 'A will cast a more lengthy shadow than B because B is taller. Is that right? -> No', 'A finds it harder to be productive than B because B is able to concentrate less. Is that right? -> No', 'A is worse for keeping things out of reach than B because A is shorter. Is that right? -> Yes', 'A finds it harder to be at ease than B because A has more work. Is that right? -> Yes']\n"
     ]
    }
   ],
   "source": [
    "import pandas as pd\n",
    "import random\n",
    "LT4_c = []\n",
    "df = pd.read_excel('LT4.xlsx')\n",
    "LT4_change = []\n",
    "for i in range(0,26):\n",
    "    data1 = list(df.loc[i].values)\n",
    "    LT4_c.append(find_b(data1[0]))\n",
    "    LT4_change.append(create_text1(find_b(data1[0]),data1[0]))\n",
    "    LT4_change.append(create_text2(find_b(data1[0]),data1[0]))\n",
    "    LT4_change.append(create_text3(find_b(data1[0]),data1[0]))\n",
    "    LT4_change.append(create_text4(find_b(data1[0]),data1[0]))\n",
    "    LT4_change.append(create_text5(find_b(data1[0]),data1[0]))\n",
    "    LT4_change.append(create_text6(find_b(data1[0]),data1[0]))\n",
    "    LT4_change.append(create_text7(find_b(data1[0]),data1[0]))\n",
    "    LT4_change.append(create_text8(find_b(data1[0]),data1[0]))\n",
    "    \n",
    "random.shuffle(LT4_change)\n",
    "flag = 0\n",
    "text = []\n",
    "sentence = []\n",
    "for i in range(0,len(LT4_change)):\n",
    "    text.append(LT4_change[i])\n",
    "    flag += 1\n",
    "    if(flag == 8):\n",
    "        sentence.append(text)\n",
    "        flag = 0\n",
    "        text = []\n",
    "    \n",
    "sentence.append(text)\n",
    "print(sentence[0])"
   ]
  },
  {
   "cell_type": "code",
   "execution_count": 285,
   "id": "422c9f92",
   "metadata": {},
   "outputs": [],
   "source": [
    "a = [\"\\n\".join(sentence[i]) for i in range(len(sentence)) ]"
   ]
  },
  {
   "cell_type": "code",
   "execution_count": 286,
   "id": "7aea01f6",
   "metadata": {},
   "outputs": [],
   "source": [
    "b = \"\\n\".join(a)\n",
    "b1 = b.split(\"\\n\")"
   ]
  },
  {
   "cell_type": "code",
   "execution_count": 226,
   "id": "1d6ca3c4",
   "metadata": {},
   "outputs": [],
   "source": [
    "Yes = []\n",
    "No = []\n",
    "for i in b1:\n",
    "    if(i.find(\"Yes\")>0):\n",
    "        Yes.append(i)\n",
    "    else:\n",
    "        No.append(i)"
   ]
  },
  {
   "cell_type": "code",
   "execution_count": 227,
   "id": "90f48c22",
   "metadata": {},
   "outputs": [],
   "source": [
    "random.shuffle(Yes)\n",
    "random.shuffle(No)"
   ]
  },
  {
   "cell_type": "code",
   "execution_count": 279,
   "id": "f0fd7df6",
   "metadata": {},
   "outputs": [],
   "source": [
    "# text = []\n",
    "# text1 = []\n",
    "# b = []\n",
    "# for i,j in zip(Yes,No):\n",
    "#     b.append(i)\n",
    "#     b.append(j)\n",
    "# for i,j in enumerate(b):\n",
    "#     if(i%6 == 0 and i!=0):\n",
    "#         random.shuffle(text1)\n",
    "#         text1.append(\"Instruction: Is this sentence correct. For example:\")\n",
    "#         text1.reverse()\n",
    "#         text.append(\"\\n\".join(text1))\n",
    "#         text1 = []\n",
    "#     text1.append(j)"
   ]
  },
  {
   "cell_type": "code",
   "execution_count": 287,
   "id": "f016c723",
   "metadata": {},
   "outputs": [],
   "source": [
    "text = []\n",
    "text1 = []\n",
    "for i in b1:\n",
    "    text1.append(\"Instruction: Is this sentence correct. For example:\")\n",
    "    text1.append(i)\n",
    "    text.append(\"\\n\".join(text1))\n",
    "    text1 = []\n",
    "# print(text[0])"
   ]
  },
  {
   "cell_type": "code",
   "execution_count": 288,
   "id": "1b6b8c1d",
   "metadata": {},
   "outputs": [],
   "source": [
    "for i in range(len(text)):\n",
    "    text[i] += \"\\n\""
   ]
  },
  {
   "cell_type": "code",
   "execution_count": 289,
   "id": "f293ab88",
   "metadata": {},
   "outputs": [],
   "source": [
    "for i,j in enumerate(text):\n",
    "    text[i] = j.replace(\"\\n\\n\",\"\\n\")"
   ]
  },
  {
   "cell_type": "code",
   "execution_count": 290,
   "id": "df6d06c5",
   "metadata": {},
   "outputs": [
    {
     "name": "stdout",
     "output_type": "stream",
     "text": [
      "Instruction: Is this sentence correct. For example:\n",
      "A will have a easier time failing than B because A has more dedication. Is that right? -> No\n",
      "\n"
     ]
    }
   ],
   "source": [
    "print(text[0])"
   ]
  },
  {
   "cell_type": "code",
   "execution_count": 291,
   "id": "901a29c3",
   "metadata": {},
   "outputs": [
    {
     "data": {
      "text/plain": [
       "209"
      ]
     },
     "execution_count": 291,
     "metadata": {},
     "output_type": "execute_result"
    }
   ],
   "source": [
    "len(text)"
   ]
  },
  {
   "cell_type": "code",
   "execution_count": null,
   "id": "91ecb384",
   "metadata": {},
   "outputs": [],
   "source": []
  }
 ],
 "metadata": {
  "kernelspec": {
   "display_name": "Python 3",
   "language": "python",
   "name": "python3"
  },
  "language_info": {
   "codemirror_mode": {
    "name": "ipython",
    "version": 3
   },
   "file_extension": ".py",
   "mimetype": "text/x-python",
   "name": "python",
   "nbconvert_exporter": "python",
   "pygments_lexer": "ipython3",
   "version": "3.8.12"
  }
 },
 "nbformat": 4,
 "nbformat_minor": 5
}
