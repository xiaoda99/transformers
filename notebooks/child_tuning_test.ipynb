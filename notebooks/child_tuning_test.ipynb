{
 "cells": [
  {
   "cell_type": "code",
   "execution_count": 107,
   "id": "20655be0",
   "metadata": {},
   "outputs": [
    {
     "name": "stdout",
     "output_type": "stream",
     "text": [
      "The autoreload extension is already loaded. To reload it, use:\n",
      "  %reload_ext autoreload\n"
     ]
    }
   ],
   "source": [
    "from IPython import get_ipython\n",
    "%load_ext autoreload\n",
    "%autoreload 2\n",
    "\n",
    "from IPython.core.interactiveshell import InteractiveShell\n",
    "InteractiveShell.ast_node_interactivity = 'all'  #'last', 'last_expr'"
   ]
  },
  {
   "cell_type": "code",
   "execution_count": 108,
   "id": "21ec68c6",
   "metadata": {},
   "outputs": [],
   "source": [
    "import sys\n",
    "sys.path.insert(0, '/nas/xd/projects/transformers/src')\n",
    "import os\n",
    "os.environ['HF_HOME'] = '/raid3/xd/.cache/torch'  # deliberately set this wrong path to avoid migrating cache\n",
    "os.environ[\"CUDA_DEVICE_ORDER\"]=\"PCI_BUS_ID\"\n",
    "# os.environ[\"CUDA_VISIBLE_DEVICES\"]=\"8,7\"\n",
    "\n",
    "from types import MethodType\n",
    "from tqdm import tqdm\n",
    "from collections import defaultdict, OrderedDict, Counter\n",
    "from datetime import datetime\n",
    "from io import StringIO\n",
    "from dataclasses import dataclass, fields, asdict\n",
    "import itertools\n",
    "from itertools import chain, product\n",
    "import math\n",
    "from functools import reduce, partial\n",
    "from collections.abc import Iterable\n",
    "from collections import namedtuple \n",
    "import traceback\n",
    "import pickle, gzip\n",
    "\n",
    "# from multiprocessing import Pool\n",
    "# from torch.multiprocessing import Pool\n",
    "# torch.multiprocessing.set_start_method('spawn', force=True)\n",
    "from multiprocessing.dummy import Pool\n",
    "\n",
    "%matplotlib inline\n",
    "import matplotlib.pyplot as plt\n",
    "import seaborn as sns\n",
    "\n",
    "import torch\n",
    "import torch.nn as nn\n",
    "import torch.nn.functional as F \n",
    "from torch.utils.data.sampler import RandomSampler, Sampler, SequentialSampler\n",
    "from torch.utils.data.dataloader import DataLoader\n",
    "\n",
    "# from transformers.data.data_collator import DataCollator, default_data_collator\n",
    "from transformers import AutoConfig, AutoModelForCausalLM, AutoTokenizer, GPT2Tokenizer#, pipeline\n",
    "# from transformers import RobertaForMaskedLM, RobertaTokenizer, GPT2LMHeadModel, GPT2Tokenizer, GPTNeoForCausalLM\n",
    "# from transformers import T5Tokenizer, T5TokenizerFast, T5ForConditionalGeneration\n",
    "# from transformers import HfArgumentParser, Trainer, TrainingArguments, set_seed, AdamW"
   ]
  },
  {
   "cell_type": "code",
   "execution_count": 109,
   "id": "0e24480e",
   "metadata": {},
   "outputs": [],
   "source": [
    "sys.path.insert(0, '/nas/xd/projects/PyFunctional')\n",
    "from functional import seq\n",
    "from functional.pipeline import Sequence\n",
    "from fn import _ as __"
   ]
  },
  {
   "cell_type": "code",
   "execution_count": 110,
   "id": "457df7b2",
   "metadata": {},
   "outputs": [
    {
     "name": "stdout",
     "output_type": "stream",
     "text": [
      "common_utils ... done 0:00:00.000028\n",
      "utils ... done 0:00:00.000022\n",
      "child_utils ... done 0:00:00.000068\n",
      "tasks ... done 0:00:00.000030\n",
      "model_utils_copy ... done 0:00:00.000065\n",
      "weight_analysis ... done 0:00:00.000021\n"
     ]
    }
   ],
   "source": [
    "from common_utils import Timer\n",
    "with Timer('common_utils'): from common_utils import *\n",
    "with Timer('utils'): from utils import *\n",
    "with Timer('child_utils'): from child_utils_copy import *\n",
    "from child_utils_copy import _cxt2str, _item2str, _s\n",
    "from child_frames import *\n",
    "with Timer('tasks'): from tasks import *\n",
    "with Timer('model_utils_copy'): from model_utils_copy import *\n",
    "with Timer('weight_analysis'): from weight_analysis import *"
   ]
  },
  {
   "cell_type": "code",
   "execution_count": 111,
   "id": "1b8b5708",
   "metadata": {},
   "outputs": [],
   "source": [
    "torch.set_grad_enabled(False);"
   ]
  },
  {
   "cell_type": "code",
   "execution_count": 112,
   "id": "0457425e",
   "metadata": {},
   "outputs": [],
   "source": [
    "models = {}\n",
    "cache_dir = '/nas/xd/.cache/torch/transformers/'  # for models besides t5-3b/11b\n",
    "#cache_dir='/nas/wab/.cache/huggingface/transformers'\n",
    "# cache_dir = '/mnt/nvme1/xd/.cache/torch/transformers/'  # for gpt-j-6B on elderberry\n",
    "proxies = {'http': '192.168.50.1:1081'} "
   ]
  },
  {
   "cell_type": "code",
   "execution_count": 161,
   "id": "17e322a2",
   "metadata": {},
   "outputs": [
    {
     "name": "stdout",
     "output_type": "stream",
     "text": [
      "gpt2-medium/cpu ... done 0:00:33.093611\n"
     ]
    }
   ],
   "source": [
    "# curl -x http://192.168.50.1:1081 -L -O [-C -] https://huggingface.co/google/ul2/resolve/main/pytorch_model.bin  # -C for 断点续传\n",
    "s2s_model_names = ['','google/t5-xl-lm-adapt', 'google/t5-xxl-lm-adapt', 'bigscience/T0p', 'bigscience/T0_3B', \n",
    "    'allenai/tk-instruct-3b-pos', 'allenai/tk-instruct-3b-def-pos', 'google/ul2']#wab\n",
    "gpt_model_names = ['gpt2/cpu','gpt2-medium/cpu','gpt2-xl/cpu','EleutherAI/gpt-j-6B/cpu',]\n",
    "\n",
    "for model_name in gpt_model_names[1:2]:#, 'gpt2-xl', 'EleutherAI/gpt-neo-1.3B', 'KoboldAI/fairseq-dense-6.7B']:\n",
    "    if model_name in models: continue\n",
    "    with Timer(model_name):\n",
    "        model_cls = AutoModelForCausalLM if any(s in model_name for s in ['gpt', 'fairseq-dense']) else T5ForConditionalGeneration\n",
    "        # _cache_dir = cache_dir.replace('/nas/', '/nas2/') if 'gpt' not in model_name else cache_dir\n",
    "        kwargs = dict(cache_dir=cache_dir, proxies=proxies, low_cpu_mem_usage=True)\n",
    "        if '/cpu' in model_name or 'gpt-j' not in model_name and 'gpt-neox' not in model_name:\n",
    "            model = model_cls.from_pretrained(model_name.replace('/cpu', ''), cache_dir=cache_dir, proxies=proxies)\n",
    "        elif 'gpt-j' in model_name:\n",
    "            device = 0\n",
    "            model = model_cls.from_pretrained(model_name, revision=\"float16\", torch_dtype=torch.float16, **kwargs).to(device)\n",
    "        elif 'gpt-neox' in model_name:\n",
    "            device = 7; device_map = {'gpt_neox': device, 'embed_out': device}\n",
    "            model = model_cls.from_pretrained(model_name, device_map=device_map, load_in_8bit=True, **kwargs)\n",
    "        if hasattr(model.config, 'use_cache'): model.config.use_cache = False  # save GPU mem\n",
    "        # if model_name in ['EleutherAI/gpt-neox-20b']: model = model.half()\n",
    "        tokenizer = AutoTokenizer.from_pretrained(model_name.replace('/cpu', ''), cache_dir=cache_dir)\n",
    "        unify(model)\n",
    "        models[model_name] = model, tokenizer#, device"
   ]
  },
  {
   "cell_type": "code",
   "execution_count": 160,
   "id": "bec645ac",
   "metadata": {},
   "outputs": [
    {
     "data": {
      "text/plain": [
       "dict_keys(['gpt2/cpu'])"
      ]
     },
     "execution_count": 160,
     "metadata": {},
     "output_type": "execute_result"
    }
   ],
   "source": [
    "models.keys()"
   ]
  },
  {
   "cell_type": "code",
   "execution_count": 162,
   "id": "a6cdacb6",
   "metadata": {},
   "outputs": [],
   "source": [
    "model_name = gpt_model_names[1]\n",
    "# model_name = engines[-1]\n",
    "model, tokenizer = models[model_name]"
   ]
  },
  {
   "cell_type": "code",
   "execution_count": 163,
   "id": "c527aabf",
   "metadata": {},
   "outputs": [],
   "source": [
    "blocks = model.transformer.h\n",
    "for i, b in enumerate(blocks): b.layer = i\n",
    "ln_f = model.transformer.ln_f\n",
    "L, H, embed_dim = len(blocks), blocks[0].attn.num_heads, blocks[0].attn.embed_dim\n",
    "\n",
    "# we = model.transformer.wte.weight.data\n",
    "# wu = model.lm_head.weight.data\n",
    "\n",
    "# es = [we]\n",
    "# for b in blocks[:1]: es.append(es[-1] + mlp_forward(b, es[-1]))\n",
    "# model.es = es\n",
    "# weBTAs = [es[i].T @ es[i] for i in range(2)]\n",
    "# model.weBTAs = weBTAs"
   ]
  },
  {
   "cell_type": "code",
   "execution_count": 164,
   "id": "9a7ecb28",
   "metadata": {
    "collapsed": true
   },
   "outputs": [
    {
     "name": "stdout",
     "output_type": "stream",
     "text": [
      "cloning GPT2Block0.ln_1 to cuda:2 ... done 0:00:00.016454\n",
      "cloning GPT2Attention.out_proj to cuda:2 ... done 0:00:00.003004\n",
      "cloning GPT2Block1.ln_1 to cuda:2 ... done 0:00:00.000772\n",
      "cloning GPT2Attention.out_proj to cuda:2 ... done 0:00:00.002742\n",
      "cloning GPT2Block2.ln_1 to cuda:2 ... done 0:00:00.001378\n",
      "cloning GPT2Attention.out_proj to cuda:2 ... done 0:00:00.005332\n",
      "cloning GPT2Block3.ln_1 to cuda:2 ... done 0:00:00.001060\n",
      "cloning GPT2Attention.out_proj to cuda:2 ... done 0:00:00.004018\n",
      "cloning GPT2Block4.ln_1 to cuda:2 ... done 0:00:00.000327\n",
      "cloning GPT2Attention.out_proj to cuda:2 ... done 0:00:00.002065\n",
      "cloning GPT2Block5.ln_1 to cuda:2 ... done 0:00:00.000590\n",
      "cloning GPT2Attention.out_proj to cuda:2 ... done 0:00:00.002045\n",
      "cloning GPT2Block6.ln_1 to cuda:2 ... done 0:00:00.000677\n",
      "cloning GPT2Attention.out_proj to cuda:2 ... done 0:00:00.002071\n",
      "cloning GPT2Block7.ln_1 to cuda:2 ... done 0:00:00.000670\n",
      "cloning GPT2Attention.out_proj to cuda:2 ... done 0:00:00.002047\n",
      "cloning GPT2Block8.ln_1 to cuda:2 ... done 0:00:00.000659\n",
      "cloning GPT2Attention.out_proj to cuda:2 ... done 0:00:00.002092\n",
      "cloning GPT2Block9.ln_1 to cuda:2 ... done 0:00:00.000660\n",
      "cloning GPT2Attention.out_proj to cuda:2 ... done 0:00:00.002070\n",
      "cloning GPT2Block10.ln_1 to cuda:2 ... done 0:00:00.000678\n",
      "cloning GPT2Attention.out_proj to cuda:2 ... done 0:00:00.002149\n",
      "cloning GPT2Block11.ln_1 to cuda:2 ... done 0:00:00.000667\n",
      "cloning GPT2Attention.out_proj to cuda:2 ... done 0:00:00.002154\n",
      "cloning GPT2Block12.ln_1 to cuda:2 ... done 0:00:00.000661\n",
      "cloning GPT2Attention.out_proj to cuda:2 ... done 0:00:00.001923\n",
      "cloning GPT2Block13.ln_1 to cuda:2 ... done 0:00:00.000683\n",
      "cloning GPT2Attention.out_proj to cuda:2 ... done 0:00:00.001951\n",
      "cloning GPT2Block14.ln_1 to cuda:2 ... done 0:00:00.000666\n",
      "cloning GPT2Attention.out_proj to cuda:2 ... done 0:00:00.002113\n",
      "cloning GPT2Block15.ln_1 to cuda:2 ... done 0:00:00.000649\n",
      "cloning GPT2Attention.out_proj to cuda:2 ... done 0:00:00.001841\n",
      "cloning GPT2Block16.ln_1 to cuda:2 ... done 0:00:00.000684\n",
      "cloning GPT2Attention.out_proj to cuda:2 ... done 0:00:00.002102\n",
      "cloning GPT2Block17.ln_1 to cuda:2 ... done 0:00:00.000659\n",
      "cloning GPT2Attention.out_proj to cuda:2 ... done 0:00:00.001883\n",
      "cloning GPT2Block18.ln_1 to cuda:2 ... done 0:00:00.000655\n",
      "cloning GPT2Attention.out_proj to cuda:2 ... done 0:00:00.002011\n",
      "cloning GPT2Block19.ln_1 to cuda:2 ... done 0:00:00.000665\n",
      "cloning GPT2Attention.out_proj to cuda:2 ... done 0:00:00.002098\n",
      "cloning GPT2Block20.ln_1 to cuda:2 ... done 0:00:00.000675\n",
      "cloning GPT2Attention.out_proj to cuda:2 ... done 0:00:00.002087\n",
      "cloning GPT2Block21.ln_1 to cuda:2 ... done 0:00:00.000658\n",
      "cloning GPT2Attention.out_proj to cuda:2 ... done 0:00:00.001880\n",
      "cloning GPT2Block22.ln_1 to cuda:2 ... done 0:00:00.000657\n",
      "cloning GPT2Attention.out_proj to cuda:2 ... done 0:00:00.001869\n",
      "cloning GPT2Block23.ln_1 to cuda:2 ... done 0:00:00.000656\n",
      "cloning GPT2Attention.out_proj to cuda:2 ... done 0:00:00.001862\n",
      "cloning GPT2Model.ln_f to cuda:2 ... done 0:00:00.000659\n",
      "cloning GPT2LMHeadModel.lm_head to cuda:2 ... done 0:00:00.033738\n",
      "mem_usage before / after clone_model_to: [87, 194, 848] / [234, 294, 948]\n"
     ]
    }
   ],
   "source": [
    "device = torch.device('cuda:2')\n",
    "_ = clone_model_to(model, device)"
   ]
  },
  {
   "cell_type": "code",
   "execution_count": null,
   "id": "556d73f8",
   "metadata": {},
   "outputs": [],
   "source": []
  },
  {
   "cell_type": "code",
   "execution_count": 117,
   "id": "82dfee26",
   "metadata": {},
   "outputs": [
    {
     "name": "stderr",
     "output_type": "stream",
     "text": [
      "/nas/xd/projects/transformers/notebooks/lzt/Easy-Transformer/easy_transformer/ioi_dataset.py:770: UserWarning: Some groups have less than 5 prompts, they have lengths [1, 2, 2, 3, 3, 2, 4, 1, 1]\n",
      "  f\"Some groups have less than 5 prompts, they have lengths {small_groups}\"\n"
     ]
    }
   ],
   "source": [
    "sys.path.insert(0, '/nas/xd/projects/transformers/notebooks/lzt/Easy-Transformer/easy_transformer')\n",
    "from ioi_dataset import (\n",
    "    IOIDataset,\n",
    ")\n",
    "N = 50\n",
    "tokenizer.pad_token = tokenizer.eos_token\n",
    "ioi_dataset = IOIDataset(\n",
    "    prompt_type=\"mixed\",\n",
    "    N=N,\n",
    "    tokenizer=tokenizer,\n",
    "    prepend_bos=False,\n",
    ") "
   ]
  },
  {
   "cell_type": "code",
   "execution_count": 166,
   "id": "2764a980",
   "metadata": {},
   "outputs": [],
   "source": [
    "r1 = None\n",
    "result = {}"
   ]
  },
  {
   "cell_type": "code",
   "execution_count": 167,
   "id": "333de8e3",
   "metadata": {},
   "outputs": [
    {
     "name": "stdout",
     "output_type": "stream",
     "text": [
      "After Christine and Joseph went to the restaurant, Christine gave a bone to Joseph\n",
      "\n",
      "In generate_and_predict_batch: predict ... done 0:00:01.104074\n"
     ]
    },
    {
     "data": {
      "image/png": "[encoded data removed]",
      "text/plain": [
       "<Figure size 640x480 with 1 Axes>"
      ]
     },
     "metadata": {},
     "output_type": "display_data"
    }
   ],
   "source": [
    "r1, all_examples = generate_and_predict_batch(model, tokenizer, task= None, nrows=1, k_shot=0, batch_size=10,ioi_dataset = ioi_dataset,\n",
    "                                        trim=False, result=r1, verbose=False)"
   ]
  },
  {
   "cell_type": "code",
   "execution_count": 168,
   "id": "d36b55d4",
   "metadata": {
    "collapsed": true
   },
   "outputs": [
    {
     "name": "stdout",
     "output_type": "stream",
     "text": [
      "*ĠJoseph 0.355 {'ĠJoseph': 0.355, 'Ġthe': 0.138, 'Ġher': 0.076} \t After Christine and Joseph went to the restaurant, Christine gave a bone to Joseph *ĠJoseph:-79.895 ĠChristine:-84.334\n",
      "1.0356634855270386 1.0\n"
     ]
    },
    {
     "data": {
      "image/png": "[encoded data removed]",
      "text/plain": [
       "<Figure size 1000x240 with 2 Axes>"
      ]
     },
     "metadata": {},
     "output_type": "display_data"
    },
    {
     "name": "stdout",
     "output_type": "stream",
     "text": [
      "*ĠNathan 0.637 {'ĠNathan': 0.637, 'Ġhim': 0.101, 'Ġme': 0.083} \t Then, Nathan and Emily had a long argument, and afterwards Emily said to Nathan *ĠNathan:-38.228 ĠEmily:-43.141\n",
      "0.4516431391239166 1.0\n"
     ]
    },
    {
     "data": {
      "image/png": "[encoded data removed]",
      "text/plain": [
       "<Figure size 1000x240 with 2 Axes>"
      ]
     },
     "metadata": {},
     "output_type": "display_data"
    },
    {
     "name": "stdout",
     "output_type": "stream",
     "text": [
      "*ĠKyle 0.412 {'ĠKyle': 0.412, 'Ġthe': 0.155, 'Ġa': 0.054} \t Then, Joseph and Kyle went to the store. Joseph gave a snack to Kyle *ĠKyle:-72.961 ĠJoseph:-75.827\n",
      "0.8862001299858093 1.0\n"
     ]
    },
    {
     "data": {
      "image/png": "[encoded data removed]",
      "text/plain": [
       "<Figure size 1000x240 with 2 Axes>"
      ]
     },
     "metadata": {},
     "output_type": "display_data"
    },
    {
     "name": "stdout",
     "output_type": "stream",
     "text": [
      "*ĠDaniel 0.284 {'ĠDaniel': 0.284, 'Ġthe': 0.159, 'Ġa': 0.102} \t Then, Daniel and Rachel were working at the store. Rachel decided to give a snack to Daniel *ĠDaniel:-82.596 ĠRachel:-85.594\n",
      "1.2581300735473633 1.0\n"
     ]
    },
    {
     "data": {
      "image/png": "[encoded data removed]",
      "text/plain": [
       "<Figure size 1000x240 with 2 Axes>"
      ]
     },
     "metadata": {},
     "output_type": "display_data"
    },
    {
     "name": "stdout",
     "output_type": "stream",
     "text": [
      "*ĠDavid 0.444 {'ĠDavid': 0.444, 'Ġhis': 0.068, 'Ġthe': 0.057} \t Then, Charles and David had a lot of fun at the store. Charles gave a necklace to David *ĠDavid:-71.268 ĠCharles:-74.813\n",
      "0.8123545050621033 1.0\n"
     ]
    },
    {
     "data": {
      "image/png": "[encoded data removed]",
      "text/plain": [
       "<Figure size 1000x240 with 2 Axes>"
      ]
     },
     "metadata": {},
     "output_type": "display_data"
    },
    {
     "name": "stdout",
     "output_type": "stream",
     "text": [
      "*ĠSarah 0.552 {'ĠSarah': 0.552, 'ĠRachel': 0.061, 'Ġa': 0.038} \t Then, Rachel and Sarah had a lot of fun at the store. Rachel gave a necklace to Sarah *ĠSarah:-74.160 ĠRachel:-76.362\n",
      "0.5946812033653259 1.0\n"
     ]
    },
    {
     "data": {
      "image/png": "[encoded data removed]",
      "text/plain": [
       "<Figure size 1000x240 with 2 Axes>"
      ]
     },
     "metadata": {},
     "output_type": "display_data"
    },
    {
     "name": "stdout",
     "output_type": "stream",
     "text": [
      "*ĠMelissa 0.289 {'ĠMelissa': 0.289, 'Ġhis': 0.156, 'Ġher': 0.125} \t When Paul and Melissa got a basketball at the garden, Paul decided to give it to Melissa *ĠMelissa:-43.444 ĠPaul:-47.112\n",
      "1.2400552034378052 1.0\n"
     ]
    },
    {
     "data": {
      "image/png": "[encoded data removed]",
      "text/plain": [
       "<Figure size 1000x240 with 2 Axes>"
      ]
     },
     "metadata": {},
     "output_type": "display_data"
    },
    {
     "name": "stdout",
     "output_type": "stream",
     "text": [
      "*ĠNicole 0.696 {'ĠNicole': 0.696, 'Ġme': 0.123, 'Ġher': 0.06} \t Then, Courtney and Nicole had a long argument, and afterwards Courtney said to Nicole *ĠNicole:-55.245 ĠCourtney:-61.214\n",
      "0.36293551325798035 1.0\n"
     ]
    },
    {
     "data": {
      "image/png": "[encoded data removed]",
      "text/plain": [
       "<Figure size 1000x240 with 2 Axes>"
      ]
     },
     "metadata": {},
     "output_type": "display_data"
    },
    {
     "name": "stdout",
     "output_type": "stream",
     "text": [
      "*ĠAmanda 0.372 {'ĠAmanda': 0.372, 'Ġthe': 0.105, 'Ġa': 0.066} \t Then, Amanda and Allison had a lot of fun at the restaurant. Allison gave a snack to Amanda *ĠAmanda:-76.666 ĠAllison:-79.665\n",
      "0.9887467622756958 1.0\n"
     ]
    },
    {
     "data": {
      "image/png": "[encoded data removed]",
      "text/plain": [
       "<Figure size 1000x240 with 2 Axes>"
      ]
     },
     "metadata": {},
     "output_type": "display_data"
    },
    {
     "name": "stdout",
     "output_type": "stream",
     "text": [
      "*ĠJose 0.627 {'ĠJose': 0.627, 'ĠJeffrey': 0.05, 'Ġthe': 0.043} \t After Jose and Jeffrey went to the hospital, Jeffrey gave a drink to Jose *ĠJose:-95.241 ĠJeffrey:-97.760\n",
      "0.46733585000038147 1.0\n"
     ]
    },
    {
     "data": {
      "image/png": "[encoded data removed]",
      "text/plain": [
       "<Figure size 1000x240 with 2 Axes>"
      ]
     },
     "metadata": {},
     "output_type": "display_data"
    },
    {
     "data": {
      "text/plain": [
       "(0.809774586558342, 1.0)"
      ]
     },
     "execution_count": 168,
     "metadata": {},
     "output_type": "execute_result"
    }
   ],
   "source": [
    "show_predictions_by_data_tuples(model, tokenizer, r1.data_tuples, k_shot=0)"
   ]
  },
  {
   "cell_type": "code",
   "execution_count": 169,
   "id": "1fe561ad",
   "metadata": {
    "scrolled": false
   },
   "outputs": [
    {
     "name": "stdout",
     "output_type": "stream",
     "text": [
      "attribute_tree ... In attribute_tree: attribute_step , topk=10 ... done 0:00:00.202820\n",
      "In attribute_tree: attribute_step stage2  ... done 0:00:00.052522\n",
      "In _add_node: add @1 20-7 67 B->A0 95/58 attn/ans0s\n",
      "In _add_node: add @2 15-14 63 B->A0 97/59 attn/ans0s\n",
      "In _add_node: add @4 16-15 60 B->A0 99/43 attn/ans0s\n",
      "In _add_node: add @5 20-0 48 B->A0 96/37 attn/ans0s\n",
      "In _add_node: add @7 18-5 42 B->A0 99/53 attn/ans0s\n",
      "In _add_node: add @8 19-15 30 B->A0 84/37 attn/ans0s\n",
      "In _add_node: add @0 19-1 100 B->s2 82/44 attn/example\n",
      "In _add_node: add @3 21-7 61 B->s2+ 48/21 attn/example\n",
      "In _add_node: add @6 12-3 43 B->s2 88/56 attn/example\n",
      "In _add_node: add @407 22-14 -86 B->A0/63/0 attn/ans0s\n",
      "In _add_node: add @397 18-9 -6 B->A0/58/0 attn/ans0s\n",
      "In _add_node: add @[1,2,4,5,7,8,9] 20-7,15-14,16-15,20-0,18-5,19-15,20-6 27 B->A0 64\n",
      "In _add_node: add @[0,3,6] 19-1,21-7,12-3 unk 0\n",
      "In _add_node: add @[1,2,4,5,7,8]  B->A0 attn/ans0s\n",
      "In _add_node: add 18-9,22-14 B->A0 attn/ans0s\n",
      "In attribute_tree: attribute_step @[1,2,4,5,7,8]  B->A0 attn/ans0s, topk=8 ... done 0:00:00.393842\n",
      "In attribute_tree: attribute_step stage2 @[1,2,4,5,7,8]  B->A0 attn/ans0s ... done 0:00:00.167408\n",
      "In _add_node: add @0 12-3 100 B->s2 91/56\n",
      "In _add_node: add @[0,2,3,6,7] 12-3,13-4 22,13-13 20,14-5 9,14-15 9 B->s2 41\n",
      "In _add_node: add @[1,4,5] 15-14 23,16-15 13,17-4 12 B->A0 16\n",
      "In _add_node: add 12-3 B->s2\n",
      "In attribute_tree: attribute_step 12-3 B->s2, topk=5 ... done 0:00:00.266131\n",
      "In attribute_tree: attribute_step stage2 12-3 B->s2 ... done 0:00:00.172088\n",
      "In _add_node: add @1 7-2 72 s2->s1+ 94/78\n",
      "In _add_node: add @2 9-3 43 s2->s1+ 46/21\n",
      "In _add_node: add @4 6-15 33 s2->s1+ 33/66\n",
      "In _add_node: add @0 0-16 100 s2->s2/100\n",
      "In _add_node: add @3 6-4 38 s2->s1 88/49\n",
      "In _add_node: add @[1,2,4] 7-2 72,9-3 43,6-15 33 s2->s1+ 35\n",
      "In _add_node: add @[0] 0-16 100 s2->s2 20\n",
      "In _add_node: add @[3] 6-4 38 s2->s1 16\n",
      "In attribute_tree: attribute_step 18-9,22-14 B->A0 attn/ans0s, topk=9 ... done 0:00:00.245395\n",
      "In attribute_tree: attribute_step stage2 18-9,22-14 B->A0 attn/ans0s ... done 0:00:00.072356\n",
      "In _add_node: add @1 15-14 89 B->A0 97/59\n",
      "In _add_node: add @2 16-15 73 B->A0 98/43\n",
      "In _add_node: add @4 17-4 43 B->A0 67/21\n",
      "In _add_node: add @0 12-3 100 B->s2 88/56\n",
      "In _add_node: add @3 19-1 52 B->s2 81/44\n",
      "In _add_node: add @5 21-7 38 B->s2+ 48/21\n",
      "In _add_node: add @[1,2,4,6,8] 15-14,16-15,17-4,20-7 28,18-5 16 B->A0 42\n",
      "In _add_node: add @[0,3,7] 12-3,19-1,15-8 19 B->s2 24\n",
      "In _add_node: add @[5] 21-7 B->s2+ 5\n",
      "In _add_node: add 12-3,19-1 B->s2\n",
      "In attribute_tree: attribute_step 12-3,19-1 B->s2, topk=8 ... done 0:00:00.251279\n",
      "In attribute_tree: attribute_step stage2 12-3,19-1 B->s2 ... done 0:00:00.097516\n",
      "In _add_node: add @0 0-16 100 s2->s2/100\n",
      "In _add_node: add @[0,1,2,4,6,7] 0-16 100,12-16,11-16,1-16,5-16,14-16 s2->s2 76\n",
      "In _add_node: add @[3] 7-2 s2->s1+ 11\n",
      "In _add_node: add @[5] 6-4 s2->s1 10\n",
      "done 0:00:02.128763\n"
     ]
    }
   ],
   "source": [
    "if True or r1.root is None: r1.root = add_node(None, layer=L, label_type='labels')\n",
    "r1.root = attribute_tree_on(r1.data_tuples, model, r1.root, 1, topk=10, k_shot=0, mix=True, device=device, verbose=True)"
   ]
  },
  {
   "cell_type": "code",
   "execution_count": 170,
   "id": "6cde2341",
   "metadata": {
    "scrolled": false
   },
   "outputs": [
    {
     "name": "stdout",
     "output_type": "stream",
     "text": [
      " ┌@[1,2,4,5,7,8,9] 20-7,15-14,16-15,20-0,18-5,19-15,20-6 27 B->A0 64\n",
      " ├@[0,3,6] 19-1,21-7,12-3 unk 0\n",
      " ├@1 20-7 67 B->A0 95/58 attn/ans0s\n",
      " ├@2 15-14 63 B->A0 97/59 attn/ans0s\n",
      " ├@4 16-15 60 B->A0 99/43 attn/ans0s\n",
      " ├@5 20-0 48 B->A0 96/37 attn/ans0s\n",
      " ├@7 18-5 42 B->A0 99/53 attn/ans0s\n",
      " ├@8 19-15 30 B->A0 84/37 attn/ans0s\n",
      " ├@397 18-9 -6 B->A0/58/0 attn/ans0s\n",
      " ├@407 22-14 -86 B->A0/63/0 attn/ans0s\n",
      " ├@0 19-1 100 B->s2 82/44 attn/example\n",
      " ├@3 21-7 61 B->s2+ 48/21 attn/example\n",
      " ├@6 12-3 43 B->s2 88/56 attn/example\n",
      " ┤\n",
      " │                                ┌@[0,2,3,6,7] 12-3,13-4 22,13-13 20,14-5 9,14-15 9 B->s2 41\n",
      " │                                ├@[1,4,5] 15-14 23,16-15 13,17-4 12 B->A0 16\n",
      " │                                ├@0 12-3 100 B->s2 91/56\n",
      " ├@[1,2,4,5,7,8]  B->A0 attn/ans0s┤\n",
      " │                                │          ┌@[1,2,4] 7-2 72,9-3 43,6-15 33 s2->s1+ 35\n",
      " │                                │          ├@[0] 0-16 100 s2->s2 20\n",
      " │                                │          ├@[3] 6-4 38 s2->s1 16\n",
      " │                                │          ├@1 7-2 72 s2->s1+ 94/78\n",
      " │                                └12-3 B->s2┤\n",
      " │                                           ├@2 9-3 43 s2->s1+ 46/21\n",
      " │                                           ├@4 6-15 33 s2->s1+ 33/66\n",
      " │                                           ├@0 0-16 100 s2->s2/100\n",
      " │                                           └@3 6-4 38 s2->s1 88/49\n",
      " │                           ┌@[1,2,4,6,8] 15-14,16-15,17-4,20-7 28,18-5 16 B->A0 42\n",
      " │                           ├@[0,3,7] 12-3,19-1,15-8 19 B->s2 24\n",
      " │                           ├@[5] 21-7 B->s2+ 5\n",
      " │                           ├@1 15-14 89 B->A0 97/59\n",
      " │                           ├@2 16-15 73 B->A0 98/43\n",
      " │                           ├@4 17-4 43 B->A0 67/21\n",
      " │                           ├@0 12-3 100 B->s2 88/56\n",
      " └18-9,22-14 B->A0 attn/ans0s┤\n",
      "                             ├@3 19-1 52 B->s2 81/44\n",
      "                             ├@5 21-7 38 B->s2+ 48/21\n",
      "                             │               ┌@[0,1,2,4,6,7] 0-16 100,12-16,11-16,1-16,5-16,14-16 s2->s2 76\n",
      "                             │               ├@[3] 7-2 s2->s1+ 11\n",
      "                             └12-3,19-1 B->s2┤\n",
      "                                             ├@[5] 6-4 s2->s1 10\n",
      "                                             └@0 0-16 100 s2->s2/100\n"
     ]
    }
   ],
   "source": [
    "print_tree(r1.root)"
   ]
  },
  {
   "cell_type": "code",
   "execution_count": null,
   "id": "ed72fb3c",
   "metadata": {},
   "outputs": [],
   "source": [
    "node = r1.root.children[-1]\n",
    "plot_attn_attrs(r1.data_tuples[:1], model, tokenizer, node, topi=[0], attn_patterns=['B->S'], k_shot=0)"
   ]
  }
 ],
 "metadata": {
  "kernelspec": {
   "display_name": "Python 3",
   "language": "python",
   "name": "python3"
  },
  "language_info": {
   "codemirror_mode": {
    "name": "ipython",
    "version": 3
   },
   "file_extension": ".py",
   "mimetype": "text/x-python",
   "name": "python",
   "nbconvert_exporter": "python",
   "pygments_lexer": "ipython3",
   "version": "3.7.11"
  }
 },
 "nbformat": 4,
 "nbformat_minor": 5
}
