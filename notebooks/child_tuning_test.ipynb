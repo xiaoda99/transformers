{
 "cells": [
  {
   "cell_type": "code",
   "execution_count": 1,
   "id": "20655be0",
   "metadata": {},
   "outputs": [],
   "source": [
    "from IPython import get_ipython\n",
    "%load_ext autoreload\n",
    "%autoreload 2\n",
    "\n",
    "from IPython.core.interactiveshell import InteractiveShell\n",
    "InteractiveShell.ast_node_interactivity = 'all'  #'last', 'last_expr'"
   ]
  },
  {
   "cell_type": "code",
   "execution_count": 2,
   "id": "21ec68c6",
   "metadata": {},
   "outputs": [
    {
     "name": "stdout",
     "output_type": "stream",
     "text": [
      "In file_utils.py: default_cache_path = /raid3/xd/.cache/torch/hub\n"
     ]
    }
   ],
   "source": [
    "import sys\n",
    "sys.path.insert(0, '/nas/xd/projects/transformers/src')\n",
    "import os\n",
    "os.environ['HF_HOME'] = '/raid3/xd/.cache/torch'  # deliberately set this wrong path to avoid migrating cache\n",
    "os.environ[\"CUDA_DEVICE_ORDER\"]=\"PCI_BUS_ID\"\n",
    "# os.environ[\"CUDA_VISIBLE_DEVICES\"]=\"8,7\"\n",
    "\n",
    "from types import MethodType\n",
    "from tqdm import tqdm\n",
    "from collections import defaultdict, OrderedDict, Counter\n",
    "from datetime import datetime\n",
    "from io import StringIO\n",
    "from dataclasses import dataclass, fields, asdict\n",
    "import itertools\n",
    "from itertools import chain, product\n",
    "import math\n",
    "from functools import reduce, partial\n",
    "from collections.abc import Iterable\n",
    "from collections import namedtuple \n",
    "import traceback\n",
    "import pickle, gzip\n",
    "\n",
    "# from multiprocessing import Pool\n",
    "# from torch.multiprocessing import Pool\n",
    "# torch.multiprocessing.set_start_method('spawn', force=True)\n",
    "from multiprocessing.dummy import Pool\n",
    "\n",
    "%matplotlib inline\n",
    "import matplotlib.pyplot as plt\n",
    "import seaborn as sns\n",
    "\n",
    "import torch\n",
    "import torch.nn as nn\n",
    "import torch.nn.functional as F \n",
    "from torch.utils.data.sampler import RandomSampler, Sampler, SequentialSampler\n",
    "from torch.utils.data.dataloader import DataLoader\n",
    "\n",
    "# from transformers.data.data_collator import DataCollator, default_data_collator\n",
    "from transformers import AutoConfig, AutoModelForCausalLM, AutoTokenizer, GPT2Tokenizer#, pipeline\n",
    "# from transformers import RobertaForMaskedLM, RobertaTokenizer, GPT2LMHeadModel, GPT2Tokenizer, GPTNeoForCausalLM\n",
    "# from transformers import T5Tokenizer, T5TokenizerFast, T5ForConditionalGeneration\n",
    "# from transformers import HfArgumentParser, Trainer, TrainingArguments, set_seed, AdamW"
   ]
  },
  {
   "cell_type": "code",
   "execution_count": 3,
   "id": "0e24480e",
   "metadata": {},
   "outputs": [],
   "source": [
    "sys.path.insert(0, '/nas/xd/projects/PyFunctional')\n",
    "from functional import seq\n",
    "from functional.pipeline import Sequence\n",
    "from fn import _ as __"
   ]
  },
  {
   "cell_type": "code",
   "execution_count": 4,
   "id": "457df7b2",
   "metadata": {},
   "outputs": [
    {
     "name": "stdout",
     "output_type": "stream",
     "text": [
      "common_utils ... done 0:00:00.000027\n",
      "utils ... done 0:00:00.002300\n",
      "child_utils ... Loading tokenizer ... done 0:00:06.943508\n",
      "done 0:00:13.282706\n",
      "tasks ... done 0:00:00.001304\n",
      "model_utils_copy ... done 0:00:00.834448\n",
      "weight_analysis ... done 0:00:00.000028\n"
     ]
    }
   ],
   "source": [
    "from common_utils import Timer\n",
    "with Timer('common_utils'): from common_utils import *\n",
    "with Timer('utils'): from utils import *\n",
    "with Timer('child_utils'): from child_utils import *\n",
    "from child_utils import _cxt2str, _item2str, _s\n",
    "from child_frames import *\n",
    "with Timer('tasks'): from tasks import *\n",
    "with Timer('model_utils_copy'): from model_utils_copy import *\n",
    "with Timer('weight_analysis'): from weight_analysis import *"
   ]
  },
  {
   "cell_type": "code",
   "execution_count": 5,
   "id": "1b8b5708",
   "metadata": {},
   "outputs": [],
   "source": [
    "torch.set_grad_enabled(False);"
   ]
  },
  {
   "cell_type": "code",
   "execution_count": 6,
   "id": "0457425e",
   "metadata": {},
   "outputs": [],
   "source": [
    "models = {}\n",
    "cache_dir = '/nas/xd/.cache/torch/transformers/'  # for models besides t5-3b/11b\n",
    "#cache_dir='/nas/wab/.cache/huggingface/transformers'\n",
    "# cache_dir = '/mnt/nvme1/xd/.cache/torch/transformers/'  # for gpt-j-6B on elderberry\n",
    "proxies = {'http': '192.168.50.1:1081'} "
   ]
  },
  {
   "cell_type": "code",
   "execution_count": 7,
   "id": "17e322a2",
   "metadata": {},
   "outputs": [
    {
     "name": "stdout",
     "output_type": "stream",
     "text": [
      "gpt2/cpu ... done 0:00:08.087979\n",
      "EleutherAI/gpt-j-6B/cpu ... done 0:03:22.364742\n"
     ]
    }
   ],
   "source": [
    "# curl -x http://192.168.50.1:1081 -L -O [-C -] https://huggingface.co/google/ul2/resolve/main/pytorch_model.bin  # -C for 断点续传\n",
    "s2s_model_names = ['','google/t5-xl-lm-adapt', 'google/t5-xxl-lm-adapt', 'bigscience/T0p', 'bigscience/T0_3B', \n",
    "    'allenai/tk-instruct-3b-pos', 'allenai/tk-instruct-3b-def-pos', 'google/ul2']#wab\n",
    "gpt_model_names = ['gpt2/cpu','gpt2-medium/cpu','gpt2-xl/cpu','EleutherAI/gpt-j-6B/cpu',]\n",
    "\n",
    "for model_name in gpt_model_names[1:2]:#, 'gpt2-xl', 'EleutherAI/gpt-neo-1.3B', 'KoboldAI/fairseq-dense-6.7B']:\n",
    "    if model_name in models: continue\n",
    "    with Timer(model_name):\n",
    "        model_cls = AutoModelForCausalLM if any(s in model_name for s in ['gpt', 'fairseq-dense']) else T5ForConditionalGeneration\n",
    "        # _cache_dir = cache_dir.replace('/nas/', '/nas2/') if 'gpt' not in model_name else cache_dir\n",
    "        kwargs = dict(cache_dir=cache_dir, proxies=proxies, low_cpu_mem_usage=True)\n",
    "        if '/cpu' in model_name or 'gpt-j' not in model_name and 'gpt-neox' not in model_name:\n",
    "            model = model_cls.from_pretrained(model_name.replace('/cpu', ''), cache_dir=cache_dir, proxies=proxies)\n",
    "        elif 'gpt-j' in model_name:\n",
    "            device = 0\n",
    "            model = model_cls.from_pretrained(model_name, revision=\"float16\", torch_dtype=torch.float16, **kwargs).to(device)\n",
    "        elif 'gpt-neox' in model_name:\n",
    "            device = 7; device_map = {'gpt_neox': device, 'embed_out': device}\n",
    "            model = model_cls.from_pretrained(model_name, device_map=device_map, load_in_8bit=True, **kwargs)\n",
    "        if hasattr(model.config, 'use_cache'): model.config.use_cache = False  # save GPU mem\n",
    "        # if model_name in ['EleutherAI/gpt-neox-20b']: model = model.half()\n",
    "        tokenizer = AutoTokenizer.from_pretrained(model_name.replace('/cpu', ''), cache_dir=cache_dir)\n",
    "        unify(model)\n",
    "        models[model_name] = model, tokenizer#, device"
   ]
  },
  {
   "cell_type": "code",
   "execution_count": 8,
   "id": "a6cdacb6",
   "metadata": {},
   "outputs": [],
   "source": [
    "model_name = gpt_model_names[3]\n",
    "# model_name = engines[-1]\n",
    "model, tokenizer = models[model_name]"
   ]
  },
  {
   "cell_type": "code",
   "execution_count": 9,
   "id": "c527aabf",
   "metadata": {},
   "outputs": [],
   "source": [
    "blocks = model.transformer.h\n",
    "for i, b in enumerate(blocks): b.layer = i\n",
    "ln_f = model.transformer.ln_f\n",
    "L, H, embed_dim = len(blocks), blocks[0].attn.num_heads, blocks[0].attn.embed_dim\n",
    "\n",
    "# we = model.transformer.wte.weight.data\n",
    "# wu = model.lm_head.weight.data\n",
    "\n",
    "# es = [we]\n",
    "# for b in blocks[:1]: es.append(es[-1] + mlp_forward(b, es[-1]))\n",
    "# model.es = es\n",
    "# weBTAs = [es[i].T @ es[i] for i in range(2)]\n",
    "# model.weBTAs = weBTAs"
   ]
  },
  {
   "cell_type": "code",
   "execution_count": 10,
   "id": "9a7ecb28",
   "metadata": {
    "collapsed": true
   },
   "outputs": [
    {
     "name": "stdout",
     "output_type": "stream",
     "text": [
      "cloning GPTJBlock0.ln_1 to cuda:3 ... done 0:00:01.729739\n",
      "cloning GPTJAttention.out_proj to cuda:3 ... done 0:00:00.027848\n",
      "cloning GPTJBlock1.ln_1 to cuda:3 ... done 0:00:00.000881\n",
      "cloning GPTJAttention.out_proj to cuda:3 ... done 0:00:00.019879\n",
      "cloning GPTJBlock2.ln_1 to cuda:3 ... done 0:00:00.000753\n",
      "cloning GPTJAttention.out_proj to cuda:3 ... done 0:00:00.018630\n",
      "cloning GPTJBlock3.ln_1 to cuda:3 ... done 0:00:00.000733\n",
      "cloning GPTJAttention.out_proj to cuda:3 ... done 0:00:00.017020\n",
      "cloning GPTJBlock4.ln_1 to cuda:3 ... done 0:00:00.000735\n",
      "cloning GPTJAttention.out_proj to cuda:3 ... done 0:00:00.017115\n",
      "cloning GPTJBlock5.ln_1 to cuda:3 ... done 0:00:00.000736\n",
      "cloning GPTJAttention.out_proj to cuda:3 ... done 0:00:00.016989\n",
      "cloning GPTJBlock6.ln_1 to cuda:3 ... done 0:00:00.000481\n",
      "cloning GPTJAttention.out_proj to cuda:3 ... done 0:00:00.016997\n",
      "cloning GPTJBlock7.ln_1 to cuda:3 ... done 0:00:00.000740\n",
      "cloning GPTJAttention.out_proj to cuda:3 ... done 0:00:00.016976\n",
      "cloning GPTJBlock8.ln_1 to cuda:3 ... done 0:00:00.000734\n",
      "cloning GPTJAttention.out_proj to cuda:3 ... done 0:00:00.017126\n",
      "cloning GPTJBlock9.ln_1 to cuda:3 ... done 0:00:00.000728\n",
      "cloning GPTJAttention.out_proj to cuda:3 ... done 0:00:00.016914\n",
      "cloning GPTJBlock10.ln_1 to cuda:3 ... done 0:00:00.000729\n",
      "cloning GPTJAttention.out_proj to cuda:3 ... done 0:00:00.017433\n",
      "cloning GPTJBlock11.ln_1 to cuda:3 ... done 0:00:00.000625\n",
      "cloning GPTJAttention.out_proj to cuda:3 ... done 0:00:00.016926\n",
      "cloning GPTJBlock12.ln_1 to cuda:3 ... done 0:00:00.000738\n",
      "cloning GPTJAttention.out_proj to cuda:3 ... done 0:00:00.017158\n",
      "cloning GPTJBlock13.ln_1 to cuda:3 ... done 0:00:00.000734\n",
      "cloning GPTJAttention.out_proj to cuda:3 ... done 0:00:00.016985\n",
      "cloning GPTJBlock14.ln_1 to cuda:3 ... done 0:00:00.000576\n",
      "cloning GPTJAttention.out_proj to cuda:3 ... done 0:00:00.017009\n",
      "cloning GPTJBlock15.ln_1 to cuda:3 ... done 0:00:00.000580\n",
      "cloning GPTJAttention.out_proj to cuda:3 ... done 0:00:00.017018\n",
      "cloning GPTJBlock16.ln_1 to cuda:3 ... done 0:00:00.000731\n",
      "cloning GPTJAttention.out_proj to cuda:3 ... done 0:00:00.017162\n",
      "cloning GPTJBlock17.ln_1 to cuda:3 ... done 0:00:00.000731\n",
      "cloning GPTJAttention.out_proj to cuda:3 ... done 0:00:00.016993\n",
      "cloning GPTJBlock18.ln_1 to cuda:3 ... done 0:00:00.000733\n",
      "cloning GPTJAttention.out_proj to cuda:3 ... done 0:00:00.016960\n",
      "cloning GPTJBlock19.ln_1 to cuda:3 ... done 0:00:00.000721\n",
      "cloning GPTJAttention.out_proj to cuda:3 ... done 0:00:00.016943\n",
      "cloning GPTJBlock20.ln_1 to cuda:3 ... done 0:00:00.000736\n",
      "cloning GPTJAttention.out_proj to cuda:3 ... done 0:00:00.017118\n",
      "cloning GPTJBlock21.ln_1 to cuda:3 ... done 0:00:00.000726\n",
      "cloning GPTJAttention.out_proj to cuda:3 ... done 0:00:00.016969\n",
      "cloning GPTJBlock22.ln_1 to cuda:3 ... done 0:00:00.000737\n",
      "cloning GPTJAttention.out_proj to cuda:3 ... done 0:00:00.017398\n",
      "cloning GPTJBlock23.ln_1 to cuda:3 ... done 0:00:00.000627\n",
      "cloning GPTJAttention.out_proj to cuda:3 ... done 0:00:00.016971\n",
      "cloning GPTJBlock24.ln_1 to cuda:3 ... done 0:00:00.000738\n",
      "cloning GPTJAttention.out_proj to cuda:3 ... done 0:00:00.017121\n",
      "cloning GPTJBlock25.ln_1 to cuda:3 ... done 0:00:00.000723\n",
      "cloning GPTJAttention.out_proj to cuda:3 ... done 0:00:00.017026\n",
      "cloning GPTJBlock26.ln_1 to cuda:3 ... done 0:00:00.000816\n",
      "cloning GPTJAttention.out_proj to cuda:3 ... done 0:00:00.017031\n",
      "cloning GPTJBlock27.ln_1 to cuda:3 ... done 0:00:00.000726\n",
      "cloning GPTJAttention.out_proj to cuda:3 ... done 0:00:00.017002\n",
      "cloning GPTJModel.ln_f to cuda:3 ... done 0:00:00.000729\n",
      "cloning GPTJForCausalLM.lm_head to cuda:3 ... done 0:00:00.186166\n",
      "mem_usage before / after clone_model_to: [0, 0, 654] / [1290, 1292, 1946]\n"
     ]
    }
   ],
   "source": [
    "device = torch.device('cuda:2')\n",
    "_ = clone_model_to(model, device)"
   ]
  },
  {
   "cell_type": "code",
   "execution_count": 11,
   "id": "82dfee26",
   "metadata": {},
   "outputs": [
    {
     "name": "stderr",
     "output_type": "stream",
     "text": [
      "/nas/xd/projects/transformers/notebooks/wab/Easy-Transformer/easy_transformer/ioi_dataset.py:770: UserWarning: Some groups have less than 5 prompts, they have lengths [1, 2, 2, 1, 2, 3, 4, 4, 2]\n",
      "  f\"Some groups have less than 5 prompts, they have lengths {small_groups}\"\n"
     ]
    }
   ],
   "source": [
    "sys.path.insert(0, '/nas/xd/projects/transformers/notebooks/wab/Easy-Transformer/easy_transformer')\n",
    "from ioi_dataset import (\n",
    "    IOIDataset,\n",
    ")\n",
    "N = 50\n",
    "tokenizer.pad_token = tokenizer.eos_token\n",
    "ioi_dataset = IOIDataset(\n",
    "    prompt_type=\"mixed\",\n",
    "    N=N,\n",
    "    tokenizer=tokenizer,\n",
    "    prepend_bos=False,\n",
    ") "
   ]
  },
  {
   "cell_type": "code",
   "execution_count": 12,
   "id": "2764a980",
   "metadata": {},
   "outputs": [],
   "source": [
    "r1 = None\n",
    "result = {}"
   ]
  },
  {
   "cell_type": "code",
   "execution_count": 15,
   "id": "45e19130",
   "metadata": {
    "scrolled": true
   },
   "outputs": [
    {
     "name": "stdout",
     "output_type": "stream",
     "text": [
      " ĠSamantha 0.012 {'Ġthe': 0.218, 'Ġhis': 0.129, 'Ġa': 0.013} \t Then, Nathan and Samantha were thinking about going to the house. Nathan wanted to give a ring to Samantha *ĠSamantha:12.586 ĠNathan:9.876\n",
      "4.41807746887207 0.0\n"
     ]
    },
    {
     "data": {
      "image/png": "[encoded data removed]",
      "text/plain": [
       "<Figure size 1000x240 with 2 Axes>"
      ]
     },
     "metadata": {},
     "output_type": "display_data"
    },
    {
     "name": "stdout",
     "output_type": "stream",
     "text": [
      "*ĠMelissa 0.272 {'ĠMelissa': 0.272, 'Ġthe': 0.216, 'Ġhis': 0.098} \t Then, Melissa and Jason had a lot of fun at the restaurant. Jason gave a bone to Melissa *ĠMelissa:15.441 ĠJason:10.954\n",
      "1.3017468452453613 1.0\n"
     ]
    },
    {
     "data": {
      "image/png": "[encoded data removed]",
      "text/plain": [
       "<Figure size 1000x240 with 2 Axes>"
      ]
     },
     "metadata": {},
     "output_type": "display_data"
    },
    {
     "name": "stdout",
     "output_type": "stream",
     "text": [
      " ĠAlexander 0.038 {'Ġhis': 0.221, 'Ġthe': 0.21, 'Ċ': 0.078} \t Then, Alexander and Charles went to the garden. Charles gave a kiss to Alexander *ĠAlexander:14.157 ĠCharles:11.107\n",
      "3.280935287475586 0.0\n"
     ]
    },
    {
     "data": {
      "image/png": "[encoded data removed]",
      "text/plain": [
       "<Figure size 1000x240 with 2 Axes>"
      ]
     },
     "metadata": {},
     "output_type": "display_data"
    },
    {
     "name": "stdout",
     "output_type": "stream",
     "text": [
      " ĠElizabeth 0.007 {'Ġthe': 0.237, 'Ġher': 0.146, 'Ġa': 0.05} \t Then, Elizabeth and Michelle were thinking about going to the garden. Michelle wanted to give a ring to Elizabeth *ĠElizabeth:11.843 ĠMichelle:10.642\n",
      "4.9645915031433105 0.0\n"
     ]
    },
    {
     "data": {
      "image/png": "[encoded data removed]",
      "text/plain": [
       "<Figure size 1000x240 with 2 Axes>"
      ]
     },
     "metadata": {},
     "output_type": "display_data"
    },
    {
     "name": "stdout",
     "output_type": "stream",
     "text": [
      " ĠBrandon 0.035 {'Ġthe': 0.365, 'Ġall': 0.071, 'Ġa': 0.051} \t Then, Samantha and Brandon had a lot of fun at the station. Samantha gave a snack to Brandon *ĠBrandon:13.981 ĠSamantha:9.326\n",
      "3.3465194702148438 0.0\n"
     ]
    },
    {
     "data": {
      "image/png": "[encoded data removed]",
      "text/plain": [
       "<Figure size 1000x240 with 2 Axes>"
      ]
     },
     "metadata": {},
     "output_type": "display_data"
    },
    {
     "name": "stdout",
     "output_type": "stream",
     "text": [
      " ĠBryan 0.175 {'Ġa': 0.221, 'ĠBryan': 0.175, 'Ġthe': 0.125} \t Then, Bryan and Thomas were working at the hospital. Thomas decided to give a kiss to Bryan *ĠBryan:15.406 ĠThomas:9.843\n",
      "1.744580864906311 0.0\n"
     ]
    },
    {
     "data": {
      "image/png": "[encoded data removed]",
      "text/plain": [
       "<Figure size 1000x240 with 2 Axes>"
      ]
     },
     "metadata": {},
     "output_type": "display_data"
    },
    {
     "name": "stdout",
     "output_type": "stream",
     "text": [
      "*ĠRyan 0.366 {'ĠRyan': 0.366, 'Ġthe': 0.095, 'Ġher': 0.079} \t Then, Ryan and Laura were working at the garden. Laura decided to give a basketball to Ryan *ĠRyan:15.921 ĠLaura:11.216\n",
      "1.0037858486175537 1.0\n"
     ]
    },
    {
     "data": {
      "image/png": "[encoded data removed]",
      "text/plain": [
       "<Figure size 1000x240 with 2 Axes>"
      ]
     },
     "metadata": {},
     "output_type": "display_data"
    },
    {
     "name": "stdout",
     "output_type": "stream",
     "text": [
      "*ĠMichelle 0.337 {'ĠMichelle': 0.337, 'Ġthe': 0.202, 'Ġa': 0.06} \t Then, Michelle and Heather went to the garden. Heather gave a drink to Michelle *ĠMichelle:15.773 ĠHeather:9.727\n",
      "1.087210774421692 1.0\n"
     ]
    },
    {
     "data": {
      "image/png": "[encoded data removed]",
      "text/plain": [
       "<Figure size 1000x240 with 2 Axes>"
      ]
     },
     "metadata": {},
     "output_type": "display_data"
    },
    {
     "name": "stdout",
     "output_type": "stream",
     "text": [
      " ĠKevin 0.015 {'Ġthe': 0.279, 'Ġher': 0.112, 'ĠOfficer': 0.015} \t Then, Kevin and Katie were thinking about going to the station. Katie wanted to give a kiss to Kevin *ĠKevin:13.026 ĠKatie:10.807\n",
      "4.209329128265381 0.0\n"
     ]
    },
    {
     "data": {
      "image/png": "[encoded data removed]",
      "text/plain": [
       "<Figure size 1000x240 with 2 Axes>"
      ]
     },
     "metadata": {},
     "output_type": "display_data"
    },
    {
     "name": "stdout",
     "output_type": "stream",
     "text": [
      " ĠKatherine 0.113 {'Ġthe': 0.128, 'Ġme': 0.123, 'ĠKatherine': 0.113} \t When Katherine and Bryan got a computer at the station, Bryan decided to give it to Katherine *ĠKatherine:14.901 ĠBryan:9.510\n",
      "2.178746461868286 0.0\n"
     ]
    },
    {
     "data": {
      "image/png": "[encoded data removed]",
      "text/plain": [
       "<Figure size 1000x240 with 2 Axes>"
      ]
     },
     "metadata": {},
     "output_type": "display_data"
    },
    {
     "data": {
      "text/plain": [
       "(2.7535523653030394, 0.3)"
      ]
     },
     "execution_count": 15,
     "metadata": {},
     "output_type": "execute_result"
    }
   ],
   "source": [
    "show_predictions_by_data_tuples(model, tokenizer, r1.data_tuples, k_shot=0)"
   ]
  },
  {
   "cell_type": "code",
   "execution_count": 20,
   "id": "658b968f",
   "metadata": {},
   "outputs": [],
   "source": [
    "cxt, query, cands, *_ = all_examples[0][0]"
   ]
  },
  {
   "cell_type": "code",
   "execution_count": 23,
   "id": "66a6d6f2",
   "metadata": {},
   "outputs": [
    {
     "data": {
      "text/plain": [
       "('IO', 'IO-1', 'IO+1')"
      ]
     },
     "execution_count": 23,
     "metadata": {},
     "output_type": "execute_result"
    },
    {
     "data": {
      "text/plain": [
       "{'IO': tensor(4),\n",
       " 'IO-1': tensor(3),\n",
       " 'IO+1': tensor(5),\n",
       " 'S': tensor(2),\n",
       " 'S-1': tensor(1),\n",
       " 'S+1': tensor(3),\n",
       " 'S2': tensor(13),\n",
       " 'end': tensor(19),\n",
       " 'starts': tensor(0),\n",
       " 'punct': tensor(12)}"
      ]
     },
     "execution_count": 23,
     "metadata": {},
     "output_type": "execute_result"
    }
   ],
   "source": [
    "cxt, query, cands\n",
    "all_examples[0][0]"
   ]
  },
  {
   "cell_type": "code",
   "execution_count": 13,
   "id": "333de8e3",
   "metadata": {
    "collapsed": true
   },
   "outputs": [
    {
     "name": "stdout",
     "output_type": "stream",
     "text": [
      "Then, Nathan and Samantha were thinking about going to the house. Nathan wanted to give a ring to Samantha\n",
      "\n",
      "In generate_and_predict_batch: predict ... labels = tensor([[ -100,  -100,  -100,  -100,  -100,  -100,  -100,  -100,  -100,  -100,\n",
      "          -100,  -100,  -100,  -100,  -100,  -100,  -100,  -100,  -100, 34778,\n",
      "          -100,  -100]])\n",
      "labels_mask = tensor([[0, 0, 0, 0, 0, 0, 0, 0, 0, 0, 0, 0, 0, 0, 0, 0, 0, 0, 0, 1, 0, 0]])\n",
      "new labels = tensor([[ -100,  -100,  -100,  -100,  -100,  -100,  -100,  -100,  -100,  -100,\n",
      "          -100,  -100,  -100,  -100,  -100,  -100,  -100,  -100,  -100, 34778,\n",
      "          -100,  -100]])\n",
      "labels = tensor([[ -100,  -100,  -100,  -100,  -100,  -100,  -100,  -100,  -100,  -100,\n",
      "          -100,  -100,  -100,  -100,  -100,  -100,  -100,  -100, 24164,  -100,\n",
      "          -100]])\n",
      "labels_mask = tensor([[0, 0, 0, 0, 0, 0, 0, 0, 0, 0, 0, 0, 0, 0, 0, 0, 0, 0, 1, 0, 0]])\n",
      "new labels = tensor([[ -100,  -100,  -100,  -100,  -100,  -100,  -100,  -100,  -100,  -100,\n",
      "          -100,  -100,  -100,  -100,  -100,  -100,  -100,  -100, 24164,  -100,\n",
      "          -100]])\n",
      "labels = tensor([[ -100,  -100,  -100,  -100,  -100,  -100,  -100,  -100,  -100,  -100,\n",
      "          -100,  -100,  -100,  -100, 10009,  -100,  -100]])\n",
      "labels_mask = tensor([[0, 0, 0, 0, 0, 0, 0, 0, 0, 0, 0, 0, 0, 0, 1, 0, 0]])\n",
      "new labels = tensor([[ -100,  -100,  -100,  -100,  -100,  -100,  -100,  -100,  -100,  -100,\n",
      "          -100,  -100,  -100,  -100, 10009,  -100,  -100]])\n",
      "labels = tensor([[ -100,  -100,  -100,  -100,  -100,  -100,  -100,  -100,  -100,  -100,\n",
      "          -100,  -100,  -100,  -100,  -100,  -100,  -100,  -100,  -100, 10674,\n",
      "          -100,  -100]])\n",
      "labels_mask = tensor([[0, 0, 0, 0, 0, 0, 0, 0, 0, 0, 0, 0, 0, 0, 0, 0, 0, 0, 0, 1, 0, 0]])\n",
      "new labels = tensor([[ -100,  -100,  -100,  -100,  -100,  -100,  -100,  -100,  -100,  -100,\n",
      "          -100,  -100,  -100,  -100,  -100,  -100,  -100,  -100,  -100, 10674,\n",
      "          -100,  -100]])\n",
      "labels = tensor([[ -100,  -100,  -100,  -100,  -100,  -100,  -100,  -100,  -100,  -100,\n",
      "          -100,  -100,  -100,  -100,  -100,  -100,  -100,  -100, 14328,  -100,\n",
      "          -100]])\n",
      "labels_mask = tensor([[0, 0, 0, 0, 0, 0, 0, 0, 0, 0, 0, 0, 0, 0, 0, 0, 0, 0, 1, 0, 0]])\n",
      "new labels = tensor([[ -100,  -100,  -100,  -100,  -100,  -100,  -100,  -100,  -100,  -100,\n",
      "          -100,  -100,  -100,  -100,  -100,  -100,  -100,  -100, 14328,  -100,\n",
      "          -100]])\n",
      "labels = tensor([[ -100,  -100,  -100,  -100,  -100,  -100,  -100,  -100,  -100,  -100,\n",
      "          -100,  -100,  -100,  -100,  -100,  -100,  -100, 17857,  -100,  -100]])\n",
      "labels_mask = tensor([[0, 0, 0, 0, 0, 0, 0, 0, 0, 0, 0, 0, 0, 0, 0, 0, 0, 1, 0, 0]])\n",
      "new labels = tensor([[ -100,  -100,  -100,  -100,  -100,  -100,  -100,  -100,  -100,  -100,\n",
      "          -100,  -100,  -100,  -100,  -100,  -100,  -100, 17857,  -100,  -100]])\n",
      "labels = tensor([[-100, -100, -100, -100, -100, -100, -100, -100, -100, -100, -100, -100,\n",
      "         -100, -100, -100, -100, -100, 6047, -100, -100]])\n",
      "labels_mask = tensor([[0, 0, 0, 0, 0, 0, 0, 0, 0, 0, 0, 0, 0, 0, 0, 0, 0, 1, 0, 0]])\n",
      "new labels = tensor([[-100, -100, -100, -100, -100, -100, -100, -100, -100, -100, -100, -100,\n",
      "         -100, -100, -100, -100, -100, 6047, -100, -100]])\n",
      "labels = tensor([[ -100,  -100,  -100,  -100,  -100,  -100,  -100,  -100,  -100,  -100,\n",
      "          -100,  -100,  -100,  -100, 16738,  -100,  -100]])\n",
      "labels_mask = tensor([[0, 0, 0, 0, 0, 0, 0, 0, 0, 0, 0, 0, 0, 0, 1, 0, 0]])\n",
      "new labels = tensor([[ -100,  -100,  -100,  -100,  -100,  -100,  -100,  -100,  -100,  -100,\n",
      "          -100,  -100,  -100,  -100, 16738,  -100,  -100]])\n",
      "labels = tensor([[-100, -100, -100, -100, -100, -100, -100, -100, -100, -100, -100, -100,\n",
      "         -100, -100, -100, -100, -100, -100, -100, 7939, -100, -100]])\n",
      "labels_mask = tensor([[0, 0, 0, 0, 0, 0, 0, 0, 0, 0, 0, 0, 0, 0, 0, 0, 0, 0, 0, 1, 0, 0]])\n",
      "new labels = tensor([[-100, -100, -100, -100, -100, -100, -100, -100, -100, -100, -100, -100,\n",
      "         -100, -100, -100, -100, -100, -100, -100, 7939, -100, -100]])\n",
      "labels = tensor([[ -100,  -100,  -100,  -100,  -100,  -100,  -100,  -100,  -100,  -100,\n",
      "          -100,  -100,  -100,  -100,  -100,  -100, 32719,  -100,  -100]])\n",
      "labels_mask = tensor([[0, 0, 0, 0, 0, 0, 0, 0, 0, 0, 0, 0, 0, 0, 0, 0, 1, 0, 0]])\n",
      "new labels = tensor([[ -100,  -100,  -100,  -100,  -100,  -100,  -100,  -100,  -100,  -100,\n",
      "          -100,  -100,  -100,  -100,  -100,  -100, 32719,  -100,  -100]])\n",
      "done 0:00:17.790535\n"
     ]
    },
    {
     "data": {
      "image/png": "[encoded data removed]",
      "text/plain": [
       "<Figure size 640x480 with 1 Axes>"
      ]
     },
     "metadata": {},
     "output_type": "display_data"
    }
   ],
   "source": [
    "r1, all_examples = generate_and_predict_batch(model, tokenizer, task= None, nrows=1, k_shot=0, batch_size=10,ioi_dataset = ioi_dataset,\n",
    "                                        trim=False, result=r1, verbose=False)"
   ]
  },
  {
   "cell_type": "code",
   "execution_count": 16,
   "id": "1fe561ad",
   "metadata": {
    "scrolled": false
   },
   "outputs": [
    {
     "name": "stdout",
     "output_type": "stream",
     "text": [
      "attribute_tree ... In attribute_tree: attribute_step , topk=10 ... done 0:00:01.591686\n",
      "In attribute_tree: attribute_step stage2  ... done 0:00:00.060798\n",
      "In _add_node: add @0 19-6 100 B->A0 97/37 attn/ans0s\n",
      "In _add_node: add @2 21-6 46 B->A0 46/30 attn/ans0s\n",
      "In _add_node: add @4 20-8 33 B->A0 98/27 attn/ans0s\n",
      "In _add_node: add @1 20-2 68 B->s2 94/67 attn/example\n",
      "In _add_node: add @3 13-4 34 B->s2 88/34 attn/example\n",
      "In _add_node: add @5 24-10 31 B->s2+ 36/10 attn/example\n",
      "In _add_node: add @475 21-15 -40 B->A0/43/0 attn/ans0s\n",
      "In _add_node: add @20 14-6 10 B->A0/30/0 attn/ans0s\n",
      "In _add_node: add @[0,2,4,6,8] 19-6,21-6,20-8,16-0 28,19-12 18 B->A0 34\n",
      "In _add_node: add @[1,3,7,9] 20-2,13-4,21-2 26,16-9 17 B->s2 22\n",
      "In _add_node: add @[5] 24-10 B->s2+ 3\n",
      "In _add_node: add 19-6,21-6,20-8 B->A0 attn/ans0s\n",
      "In _add_node: add 14-6,21-15 B->A0 attn/ans0s\n",
      "In attribute_tree: attribute_step 19-6,21-6,20-8 B->A0 attn/ans0s, topk=8 ... done 0:00:00.432658\n",
      "In attribute_tree: attribute_step stage2 19-6,21-6,20-8 B->A0 attn/ans0s ... done 0:00:00.147299\n",
      "In _add_node: add @0 13-4 100 B->s2 89/34\n",
      "In _add_node: add @2 11-15 44 B->s2 61/14\n",
      "In _add_node: add @4 15-11 42 B->s2 27/6\n",
      "In _add_node: add @5 14-13 30 B->s2 31/12\n",
      "In _add_node: add @3 18-9 43 B->B 60/25\n",
      "In _add_node: add @1 13-2 65 B->A0+ 73/28\n",
      "In _add_node: add @[0,2,4,5,7] 13-4,11-15,15-11,14-13,16-9 25 B->s2 34\n",
      "In _add_node: add @[3,6] 18-9,18-16 29 B->B 22\n",
      "In _add_node: add @[1] 13-2 B->A0+ 7\n",
      "In attribute_tree: attribute_step 14-6,21-15 B->A0 attn/ans0s, topk=8 ... done 0:00:00.315320\n",
      "In attribute_tree: attribute_step stage2 14-6,21-15 B->A0 attn/ans0s ... done 0:00:00.105666\n",
      "In _add_node: add @1 19-6 76 B->A0 96/37\n",
      "In _add_node: add @3 20-8 43 B->A0 98/27\n",
      "In _add_node: add @0 13-4 100 B->s2 90/34\n",
      "In _add_node: add @4 11-15 39 B->s2 59/14\n",
      "In _add_node: add @2 13-2 43 B->A0+ 70/28\n",
      "In _add_node: add @[1,3,6,7] 19-6,20-8,16-0 20,19-12 18 B->A0 39\n",
      "In _add_node: add @[0,4,5] 13-4,11-15,20-2 23 B->s2 24\n",
      "In _add_node: add @[2] 13-2 B->A0+ 10\n",
      "done 0:00:02.817165\n"
     ]
    }
   ],
   "source": [
    "if True or r1.root is None: r1.root = add_node(None, layer=L, label_type='labels')\n",
    "r1.root = attribute_tree_on(r1.data_tuples, model, r1.root, 0, topk=10, k_shot=0, mix=True, device=device, verbose=True)"
   ]
  },
  {
   "cell_type": "code",
   "execution_count": 17,
   "id": "6cde2341",
   "metadata": {
    "scrolled": false
   },
   "outputs": [
    {
     "name": "stdout",
     "output_type": "stream",
     "text": [
      " ┌@[0,2,3,4,5,9] 19-6,19-0,20-8,21-14,16-0,14-6 29 B->A0 20\n",
      " ├@[8] 25-16 B->B 10\n",
      " ├@[1,6,7] 20-2,13-4,21-2 B->s2 5\n",
      " ├@0 19-6 100 B->A0 38/35 attn/ans0s\n",
      " ├@2 19-0 53 B->A0 39/37 attn/ans0s\n",
      " ├@3 20-8 47 B->A0 39/27 attn/ans0s\n",
      " ├@4 21-14 44 B->A0 17/15 attn/ans0s\n",
      " ├@5 16-0 37 B->A0 39/14 attn/ans0s\n",
      " ├@474 24-6 -34 B->A0/31/0 attn/ans0s\n",
      " ├@475 21-15 -46 B->A0/46/0 attn/ans0s\n",
      " ├@8 25-16 34 B->B/100\n",
      " ├@1 20-2 60 B->s2 37/68 attn/example\n",
      " ├@6 13-4 37 B->s2 38/48 attn/example\n",
      " ├@7 21-2 34 B->s2 38/52 attn/example\n",
      " ┤\n",
      " │                              ┌@[4,5] 18-16,18-9 25 B->B 17\n",
      " │                              ├@[0,1,3,6] 13-4,11-15,15-11,14-13 18 B->s2 14\n",
      " │                              ├@[7] 17-9 15 B->s1 3\n",
      " │                              ├@[2] 13-2 unk 0\n",
      " │                              ├@4 18-16 32 B->B/100\n",
      " │                              ├@0 13-4 100 B->s2 37/48\n",
      " │                              ├@1 11-15 65 B->s2 32/20\n",
      " │                              ├@3 15-11 39 B->s2 13/6\n",
      " │                              ├@2 13-2 51 B->A0 19/8\n",
      " ├@[0,2,3,4,5]  B->A0 attn/ans0s┤\n",
      " │                              │                      ┌@[0,3,4] 9-5 100,11-12 86,0-16 80 s2->s2 26\n",
      " │                              │                      ├@[1] 8-7 94 s2->s1 5\n",
      " │                              │                      ├@[2] 7-9 92 unk 0\n",
      " │                              │                      ├@0 9-5 100 s2->s2 13/41\n",
      " │                              └13-4,11-15,15-11 B->s2┤\n",
      " │                                                     ├@3 11-12 86 s2->s2 12/30\n",
      " │                                                     ├@4 0-16 80 s2->s2/100\n",
      " │                                                     ├@1 8-7 94 s2->s1 21/71\n",
      " │                                                     └@2 7-9 92 s2->s1+ 0/2\n",
      " │                           ┌@[0,1,2,5,6,7] 19-6,19-0,20-8,16-0,20-6 22,16-12 21 B->A0 58\n",
      " │                           ├@[3,4] 20-2,13-4 B->s2 14\n",
      " │                           ├@[8] 13-2 19 B->A0+ 10\n",
      " │                           ├@0 19-6 100 B->A0 97/35\n",
      " │                           ├@1 19-0 60 B->A0 92/37\n",
      " │                           ├@2 20-8 52 B->A0 98/27\n",
      " └24-6,21-15 B->A0 attn/ans0s┤\n",
      "                             ├@5 16-0 38 B->A0 96/14\n",
      "                             ├@3 20-2 46 B->s2 91/68\n",
      "                             ├@4 13-4 39 B->s2 92/48\n",
      "                             │               ┌@:7 0-16 100,11-16 32,9-16,12-16,15-16,5-16,17-16 s2->s2 100\n",
      "                             └20-2,13-4 B->s2┤\n",
      "                                             ├@0 0-16 100 s2->s2/100\n",
      "                                             └@1 11-16 32 s2->s2/100\n"
     ]
    }
   ],
   "source": [
    "print_tree(r1.root)"
   ]
  },
  {
   "cell_type": "code",
   "execution_count": null,
   "id": "ed72fb3c",
   "metadata": {},
   "outputs": [],
   "source": [
    "node = r1.root.children[-1]\n",
    "plot_attn_attrs(r1.data_tuples[:1], model, tokenizer, node, topi=[0], attn_patterns=['B->S'], k_shot=0)"
   ]
  }
 ],
 "metadata": {
  "kernelspec": {
   "display_name": "Python 3",
   "language": "python",
   "name": "python3"
  },
  "language_info": {
   "codemirror_mode": {
    "name": "ipython",
    "version": 3
   },
   "file_extension": ".py",
   "mimetype": "text/x-python",
   "name": "python",
   "nbconvert_exporter": "python",
   "pygments_lexer": "ipython3",
   "version": "3.7.11"
  }
 },
 "nbformat": 4,
 "nbformat_minor": 5
}
