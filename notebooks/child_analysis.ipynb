{
 "cells": [
  {
   "cell_type": "code",
   "execution_count": null,
   "metadata": {},
   "outputs": [],
   "source": [
    "from IPython import get_ipython\n",
    "%load_ext autoreload\n",
    "%autoreload 2\n",
    "\n",
    "from IPython.core.interactiveshell import InteractiveShell\n",
    "InteractiveShell.ast_node_interactivity = 'all'"
   ]
  },
  {
   "cell_type": "code",
   "execution_count": null,
   "metadata": {},
   "outputs": [],
   "source": [
    "%matplotlib inline\n",
    "import matplotlib.pyplot as plt\n",
    "import seaborn as sns\n",
    "\n",
    "import sys\n",
    "import os\n",
    "import time\n",
    "os.environ['HF_HOME'] = '/raid/xd/.cache/torch'\n",
    "from types import MethodType\n",
    "from tqdm import tqdm\n",
    "from collections import defaultdict, OrderedDict, Counter, namedtuple\n",
    "from datetime import datetime\n",
    "from io import StringIO\n",
    "from itertools import chain, product, combinations, cycle\n",
    "import math\n",
    "from functools import reduce, partial\n",
    "from collections.abc import Iterable\n",
    "import pickle, gzip\n",
    "\n",
    "import numpy as np\n",
    "import pandas as pd\n",
    "from scipy.stats.stats import pearsonr"
   ]
  },
  {
   "cell_type": "code",
   "execution_count": null,
   "metadata": {},
   "outputs": [],
   "source": [
    "import torch\n",
    "import torch.nn as nn\n",
    "from torch.nn import BCEWithLogitsLoss, CrossEntropyLoss\n",
    "import torch.nn.functional as F \n",
    "from torch.utils.data.sampler import RandomSampler, Sampler, SequentialSampler\n",
    "from torch.utils.data.dataloader import DataLoader\n",
    "import torch.optim as optim\n",
    "\n",
    "# sys.path.insert(0, '/nas/xd/projects/transformers/src')\n",
    "from transformers.data.data_collator import DataCollator, default_data_collator\n",
    "from transformers import AutoConfig, AutoModelForCausalLM, AutoTokenizer, pipeline\n",
    "from transformers import RobertaForMaskedLM, RobertaTokenizer, GPT2LMHeadModel, GPT2Tokenizer, GPTNeoForCausalLM\n",
    "from transformers import T5Tokenizer, T5ForConditionalGeneration\n",
    "\n",
    "from transformers.models.gpt2.modeling_gpt2 import GPT2Attention\n",
    "from transformers.models.gpt_neo.modeling_gpt_neo import GPTNeoSelfAttention\n",
    "from transformers.models.gptj.modeling_gptj import GPTJAttention, GPTJBlock\n",
    "from transformers.models.xglm.modeling_xglm import XGLMAttention\n",
    "\n",
    "from transformers import HfArgumentParser, Trainer, TrainingArguments, set_seed\n",
    "# from transformers.trainer_utils import EvaluationStrategy"
   ]
  },
  {
   "cell_type": "code",
   "execution_count": null,
   "metadata": {},
   "outputs": [],
   "source": [
    "from sklearn.manifold import TSNE, MDS\n",
    "from sklearn.decomposition import PCA"
   ]
  },
  {
   "cell_type": "code",
   "execution_count": null,
   "metadata": {},
   "outputs": [],
   "source": [
    "import einops\n",
    "from einops import rearrange"
   ]
  },
  {
   "cell_type": "code",
   "execution_count": null,
   "metadata": {},
   "outputs": [],
   "source": [
    "sys.path.insert(0, '/nas/xd/projects/pptree')\n",
    "from pptree import Node, print_tree"
   ]
  },
  {
   "cell_type": "code",
   "execution_count": null,
   "metadata": {},
   "outputs": [],
   "source": [
    "from child_utils import *\n",
    "from common_utils import *\n",
    "from model_utils import *"
   ]
  },
  {
   "cell_type": "code",
   "execution_count": null,
   "metadata": {},
   "outputs": [],
   "source": [
    "models = {}\n",
    "cache_dir = '/nas/xd/.cache/torch/transformers/'  # for models besides t5-3b/11b\n",
    "proxies = {'http': '192.168.50.1:1081'} "
   ]
  },
  {
   "cell_type": "code",
   "execution_count": null,
   "metadata": {},
   "outputs": [],
   "source": [
    "# model_name = \"EleutherAI/gpt-neo-1.3B\"\n",
    "for model_name in ['gpt2-large', \n",
    "            'gpt2-xl', 'EleutherAI/gpt-neo-1.3B',  # = babbage\n",
    "            'EleutherAI/gpt-j-6B', 'KoboldAI/fairseq-dense-6.7B', # = curie \n",
    "            'KoboldAI/fairseq-dense-13B']:\n",
    "    if model_name not in models:\n",
    "        with Timer(model_name):\n",
    "            model = AutoModelForCausalLM.from_pretrained(model_name, cache_dir=cache_dir)  \n",
    "            tokenizer = AutoTokenizer.from_pretrained(model_name, cache_dir=cache_dir)\n",
    "            models[model_name] = model, tokenizer"
   ]
  },
  {
   "cell_type": "code",
   "execution_count": null,
   "metadata": {},
   "outputs": [],
   "source": [
    "# model_name = 'gpt2-large'  # medium / large /xl\n",
    "model_name = 'EleutherAI/gpt-j-6B' # gpt-j-6B, gpt-neo-1.3B/2.7B\n",
    "model, tokenizer = models[model_name]\n",
    "_ = model.eval()\n",
    "\n",
    "masked_lm = tokenizer.mask_token is not None and len(tokenizer.additional_special_tokens) == 0\n",
    "if masked_lm:\n",
    "    mask_token = tokenizer.mask_token  # '<mask>' for roberta\n",
    "elif len(tokenizer.additional_special_tokens) > 0:\n",
    "    mask_token = tokenizer.additional_special_tokens[0]  # '<extra_id_0>' for t5\n",
    "else:\n",
    "    mask_token = ''  # for gpt2\n",
    "if masked_lm: nlp = pipeline('fill-mask', model=model, tokenizer=tokenizer, top_k=5)"
   ]
  },
  {
   "cell_type": "code",
   "execution_count": 2915,
   "metadata": {},
   "outputs": [],
   "source": [
    "for block in model.transformer.h: _ = block.attn.to('cuda')\n",
    "# _ = model.transformer.wte.to('cuda')"
   ]
  },
  {
   "cell_type": "code",
   "execution_count": null,
   "metadata": {},
   "outputs": [],
   "source": [
    "for block in model.transformer.h: _ = block.attn.to('cpu')\n",
    "_ = model.transformer.wte.to('cpu')"
   ]
  },
  {
   "cell_type": "code",
   "execution_count": null,
   "metadata": {},
   "outputs": [],
   "source": [
    "unify(model)\n",
    "blocks = model.transformer.h\n",
    "attn0 = blocks[0].attn\n",
    "ln_f = model.transformer.ln_f\n",
    "L, H, embed_dim = len(blocks), attn0.num_heads, attn0.embed_dim\n",
    "\n",
    "we = model.transformer.wte.weight.data\n",
    "# wp = model.transformer.wpe.weight.t()\n",
    "wu = model.lm_head.weight.data"
   ]
  },
  {
   "cell_type": "code",
   "execution_count": null,
   "metadata": {},
   "outputs": [],
   "source": [
    "# def T(f): return lambda x: f(x.T).T\n",
    "mlp = lambda x: mlp_forward(blocks[0], x)\n",
    "v = we.size(1) #// 2\n",
    "# _we, _wu = we[:, :v], wu[:v]\n",
    "# with torch.no_grad(): _e = mlp(_we.T) + _we.T"
   ]
  },
  {
   "cell_type": "code",
   "execution_count": null,
   "metadata": {},
   "outputs": [],
   "source": [
    "with torch.no_grad():\n",
    "    _e = [we]\n",
    "#     for b in blocks[:10]: _e.append(_e[-1] + mlp_forward(b, _e[-1]))\n",
    "    for b in blocks[:1]: _e.append(_e[-1] + mlp_forward(b, _e[-1].to('cpu')).to(we.device))"
   ]
  },
  {
   "cell_type": "code",
   "execution_count": null,
   "metadata": {},
   "outputs": [],
   "source": [
    "a = o.attentions[12][0, 10]\n",
    "sim = torch.einsum('lhij->lh', (torch.cat(o.attentions) + 1e-9).log() * a * torch.ones_like(a).tril())\n",
    "list(zip(*topk_md(sim, 10)))"
   ]
  },
  {
   "cell_type": "code",
   "execution_count": null,
   "metadata": {},
   "outputs": [],
   "source": [
    "list(zip(*topk_md(sim, 10)))"
   ]
  },
  {
   "cell_type": "code",
   "execution_count": null,
   "metadata": {},
   "outputs": [],
   "source": [
    "l = 10\n",
    "for text, examples, inputs, tokens, bos_indices, eos_indices, answers, labels, o, attn_attr in data_tuples[:1]:\n",
    "    for k in range(H // 4):\n",
    "        # print(layer, k * 2, k * 2 + 1)\n",
    "        fig, axs = plt.subplots(1, 4, sharex=False, sharey=False, figsize=(20, 5))\n",
    "        h = k * 4 + 0; plot_attn(o.attentions[l][0, h], tokens, ax=axs[0])\n",
    "        h = k * 4 + 1; plot_attn(o.attentions[l][0, h], tokens, ax=axs[1])\n",
    "        h = k * 4 + 2; plot_attn(o.attentions[l][0, h], tokens, ax=axs[2])\n",
    "        h = k * 4 + 3; plot_attn(o.attentions[l][0, h], tokens, ax=axs[3])"
   ]
  },
  {
   "cell_type": "markdown",
   "metadata": {},
   "source": [
    "## Amplification"
   ]
  },
  {
   "cell_type": "code",
   "execution_count": null,
   "metadata": {},
   "outputs": [],
   "source": [
    "def test(model, data_tuples, verbose=False, **kwargs):\n",
    "    losses = []\n",
    "    for data_tuple in data_tuples[:]:\n",
    "        text, examples, inputs, tokens, bos_indices, eos_indices, answers, labels, o, attn_attr = data_tuple[:]\n",
    "        loss, _ = show_predictions(text, examples, tokenizer, o.logits, bos_indices, eos_indices, answers, labels, \n",
    "                    topk=3, loss_reduction='mean', show_range=range(k_shot, len(examples)), sep='\\t', verbose=verbose)\n",
    "        if verbose: print('loss =', loss)\n",
    "        \n",
    "        from_layer, _ = kwargs['special_head']  # 12\n",
    "        hidden_states = o.hidden_states[from_layer]\n",
    "        o2 = forward(model, inputs, labels=labels, attribute_layer=from_layer, hidden_states=hidden_states, **kwargs)\n",
    "        loss2, _ = show_predictions(text, examples, tokenizer, o2.logits, bos_indices, eos_indices, answers, labels, \n",
    "                    topk=3, loss_reduction='mean', show_range=range(k_shot, len(examples)), sep='\\t', verbose=verbose)\n",
    "        if verbose: print('loss2 =', loss2, '\\n')\n",
    "        losses.append(loss2.item())\n",
    "    losses = torch.Tensor(losses)\n",
    "    print('losses =', losses)\n",
    "    return losses.mean()"
   ]
  },
  {
   "cell_type": "code",
   "execution_count": null,
   "metadata": {},
   "outputs": [],
   "source": [
    "12-10*3,\n",
    "0.47\n",
    "\n",
    "12-10*3, threshold=5., base_multiplier=1.5\n",
    "tensor([0.0230, 0.0119, 1.2052, 0.2945, 0.0157, 0.0597, 0.0702, 0.5085, 0.2899,\n",
    "        0.0326, 0.0408, 1.1831, 0.0516, 0.6363, 0.5234, 2.5790, 0.0979, 0.5943])\n",
    "tensor(0.4565)\n",
    "12-10*3, threshold=3., base_multiplier=1.5\n",
    "tensor([0.0227, 0.0109, 1.2108, 0.2642, 0.0151, 0.0506, 0.0595, 0.5087, 0.3540,\n",
    "        0.0263, 0.0336, 1.1175, 0.0426, 0.7020, 0.5188, 2.5127, 0.0997, 0.4610])\n",
    "tensor(0.4450)\n",
    "12-10*3, threshold=1., base_multiplier=1.5\n",
    "tensor([0.0216, 0.0131, 1.2596, 0.3078, 0.0212, 0.0453, 0.0745, 0.7034, 0.2971,\n",
    "        0.0242, 0.0579, 0.9990, 0.0391, 0.7800, 0.4985, 2.7309, 0.1179, 0.4555])\n",
    "tensor(0.4693)\n",
    "\n",
    "12-10*1, threshold=5., base_multiplier=1.5\n",
    "tensor([0.0280, 0.0179, 1.5402, 0.6329, 0.0368, 0.1095, 0.1551, 0.9999, 0.4408,\n",
    "        0.0323, 0.0402, 0.8825, 0.0553, 0.5654, 0.6607, 2.1981, 0.1345, 0.7474])\n",
    "tensor(0.5154)\n",
    "12-10*1, threshold=10., base_multiplier=1.5\n",
    "tensor([0.0276, 0.0188, 1.5444, 0.5967, 0.0475, 0.0998, 0.1569, 1.0300, 0.4510,\n",
    "        0.0330, 0.0390, 0.8318, 0.0685, 0.6363, 0.7036, 2.2156, 0.1415, 0.7441])\n",
    "tensor(0.5214)\n",
    "12-10*1, threshold=10., base_multiplier=2.0\n",
    "tensor([0.0272, 0.0174, 1.5211, 0.5767, 0.0467, 0.0894, 0.1517, 0.9618, 0.4449,\n",
    "        0.0375, 0.0390, 0.8318, 0.0626, 0.6357, 0.7095, 2.2156, 0.1410, 0.7165])\n",
    "tensor(0.5126)\n",
    "\n",
    "12-10*3, threshold=5., base_multiplier=1.5 opt\n",
    "tensor([0.0239, 0.0128, 1.1290, 0.2517, 0.0170, 0.0526, 0.0707, 0.5806, 0.3219,\n",
    "        0.0238, 0.0440, 0.9224, 0.0427, 0.7748, 0.5562, 2.6125, 0.1175, 0.4395])\n",
    "tensor(0.4441)\n",
    "\n",
    "8-1*1, threshold=5., base_multiplier=1.5 opt\n",
    "tensor([0.0287, 0.0160, 1.5901, 0.6175, 0.0296, 0.0746, 0.1242, 0.9194, 0.5042,\n",
    "        0.0330, 0.0492, 0.7875, 0.0552, 0.6154, 0.6522, 2.2360, 0.1363, 0.6757])\n",
    "tensor(0.5080)"
   ]
  },
  {
   "cell_type": "code",
   "execution_count": null,
   "metadata": {},
   "outputs": [],
   "source": [
    "test(model, data_tuples, special_head=(12, 10), wv=wv1, wo=wo1*0, special_head_multiplier=2.,\n",
    "    multiplied_layers=range(13, L), attr_threshold=5., base_multiplier=1.5, verbose=True)"
   ]
  },
  {
   "cell_type": "code",
   "execution_count": null,
   "metadata": {},
   "outputs": [],
   "source": [
    "label_mask = (labels != -100).squeeze(0)#.fill_(1)\n",
    "for layer in range(13, L):\n",
    "    block = blocks[layer]\n",
    "    mask = torch.ones(1, H, L, H + 2, o.cat_hidden_states.size(-2)); mask[:, :, layer:] = 0 # bnloi\n",
    "    x = {'mask': mask}  \n",
    "    attn_labels = torch.einsum('bnij,bnj->bnij', o.attentions[layer],\n",
    "                    o.head_inputs[layer].norm(dim=-1)) # bnje->bnj\n",
    "    attn_labels = attn_labels / attn_labels.sum(-1, keepdim=True)  # bnij->bni1\n",
    "    fwd_fn = partial(cat_attn_forward, cat_hidden_states=o.cat_hidden_states, \n",
    "                sum_hidden_states=o.hidden_states[layer], attn_labels=attn_labels)\n",
    "    attr, ys, logits = _attribute(fwd_fn, block, x, num_points=3)\n",
    "    # print(ys)\n",
    "\n",
    "    a = attr['mask']  # nloi\n",
    "    # a = a[:, :, :, label_mask] # nloi->nlok\n",
    "    a2 = torch.add(a[:, 8, 1, :], a[:, 12, 10, :]) # nk\n",
    "    if a2[:, label_mask].max() > 1:\n",
    "        print('layer', layer)\n",
    "        _a2 = a2.clone(); _a2[0, 0] = 1; _ = sns.heatmap(_a2 * (_a2 >= 1) * label_mask); plt.show()\n",
    "        print((_a2 * (_a2 >= 1) * label_mask).view(-1).topk(5)[0])\n",
    "        for head in range(H):\n",
    "            if a2[head].max() > 1:\n",
    "                print(f'{layer}-{head}')\n",
    "                plot_attn(o.attentions[layer][0, head], tokens); plt.show()"
   ]
  },
  {
   "cell_type": "code",
   "execution_count": null,
   "metadata": {},
   "outputs": [],
   "source": [
    "a = attr['mask']  # nloi\n",
    "a = a[:, :, :, (labels != -100).squeeze(0)] # nloi->nlok\n",
    "ratio = ((a[:, 8, 1, :] + a[:, 12, 10, :]) / torch.einsum('nlok->nk', a.abs()))\n",
    "b = einops.reduce(a, 'n l o k -> n k', 'max') == torch.maximum(a[:, 8, 1, :], a[:, 12, 10, :])\n",
    "_ = sns.heatmap(ratio)\n",
    "head_output_norm = o.head_outputs[layer][0, :, (labels != -100).squeeze(0)].norm(dim=-1)\n",
    "_ = sns.heatmap(head_output_norm)"
   ]
  },
  {
   "cell_type": "markdown",
   "metadata": {},
   "source": [
    "K-composition: $\\text{Id} \\otimes A^{h_{-1}} \\otimes (W_E^T W_{QK}^h W_{OV}^{h_{-1}} W_E)$, measured by Frobenius norm ratio:  \n",
    "$||W_{QK}^{h_2}W_{OV}^{h_1}||_F \\mathbin{/} (||W_{QK}^{h_2}||_F ||W_{OV}^{h_1}||_F)$\n",
    "\n",
    "$||W_{QK}^{h_2}W_{OV}^{h_1}W_{OV}^{h_0}||_F \\mathbin{/} (||W_{QK}^{h_2}||_F ||W_{OV}^{h_1}||_F ||W_{OV}^{h_0}||_F)$"
   ]
  },
  {
   "cell_type": "code",
   "execution_count": null,
   "metadata": {},
   "outputs": [],
   "source": [
    "def v_comp(WOV, l0, h0, l1, h1): return ((WOV[l1][h1] @ WOV[l0][h0]).norm() / WOV[l1][h1].norm() / WOV[l0][h0].norm()).item()\n",
    "def q_comp(WQK, WOV, l0, h0, l1, h1): return ((WQK[l1][h1] @ WOV[l0][h0]).norm() / WQK[l1][h1].norm() / WOV[l0][h0].norm()).item()\n",
    "def vq_comp(WQK, WOV, l0, h0, l1, h1, l2, h2):\n",
    "    return ((WQK[l2][h2] @ WOV[l1][h1] @ WOV[l0][h0]).norm() / WQK[l2][h2].norm() / WOV[l1][h1].norm() / WOV[l0][h0].norm()).item()"
   ]
  },
  {
   "cell_type": "code",
   "execution_count": null,
   "metadata": {},
   "outputs": [],
   "source": [
    "WQK = [[combine_weights(get_head_weights(model, l, h), qk=True) for h in range(H)] for l in tqdm(range(L))]\n",
    "WOV = [[combine_weights(get_head_weights(model, l, h), qk=False) for h in range(H)] for l in tqdm(range(L))]\n",
    "WQKN = [[WQK[l][h].norm() for h in range(H)] for l in tqdm(range(L))]\n",
    "WOVN = [[WOV[l][h].norm() for h in range(H)] for l in tqdm(range(L))]"
   ]
  },
  {
   "cell_type": "code",
   "execution_count": null,
   "metadata": {},
   "outputs": [],
   "source": [
    "vq_comps = np.zeros((H, H))\n",
    "nvq_comps = np.zeros((H, H))\n",
    "l1, h1 = 12, 10\n",
    "for l0 in range(3, 4):\n",
    "    for h0 in tqdm(range(H)):\n",
    "        # print(f'{l0}-{h0}', end=' ')\n",
    "        wov01 = WOV[l1][h1] @ WOV[l0][h0]\n",
    "        # norm01 = WOV[l1][h1].norm() * WOV[l0][h0].norm()\n",
    "        norm01 = WOVN[l1][h1] * WOVN[l0][h0]\n",
    "        for l2 in range(13, 14):\n",
    "            for h2 in range(H):\n",
    "                vq_comps[h0, h2] = (WQK[l2][h2].T @ wov01).norm() #/ WQKN[l2][h2] / norm01\n",
    "                nvq_comps[h0, h2] = vq_comps[h0, h2] / WQKN[l2][h2] / norm01\n",
    "    # print()\n",
    "tensor = torch.Tensor(vq_comps)\n",
    "values, indices = tensor.flatten().topk(10)\n",
    "list(zip(values, *np.unravel_index(indices.numpy(), tensor.shape)))"
   ]
  },
  {
   "cell_type": "markdown",
   "metadata": {},
   "source": [
    "## Head geometry visualization"
   ]
  },
  {
   "cell_type": "code",
   "execution_count": null,
   "metadata": {},
   "outputs": [],
   "source": [
    "def add_ws(model, ws, w2i, w_type, start_layer, end_layer, H):\n",
    "    offset = len(w2i)\n",
    "    dL = end_layer - start_layer\n",
    "    n_ws = dL * H\n",
    "    w_types = [w_type] * n_ws\n",
    "    layers, heads = np.unravel_index(range(n_ws), (dL, H))\n",
    "    layers = layers + start_layer\n",
    "    w2i.update(OrderedDict(zip(\n",
    "        zip(w_types, layers, heads),  # key, e.g. ('o', 2, 11)\n",
    "        range(offset, offset + n_ws))))  # value, e.g. 0+43\n",
    "    w_idx, transpose = ['q', 'k', 'v', 'o'].index(w_type), w_type == 'o'\n",
    "    _ws = torch.cat([get_head_weights(model, l, transpose=transpose)[w_idx] for l in range(start_layer, end_layer)])  # l*nde->(ln)de\n",
    "    ws = _ws if ws is None else torch.cat([ws, _ws])\n",
    "    return ws, w2i"
   ]
  },
  {
   "cell_type": "code",
   "execution_count": null,
   "metadata": {},
   "outputs": [],
   "source": [
    "ws, w2i = None, OrderedDict()\n",
    "ws, w2i = add_ws(model, ws, w2i, 'o', 0, 13+1, H)\n",
    "ws, w2i = add_ws(model, ws, w2i, 'q', 9, L, H)\n",
    "ws, w2i = add_ws(model, ws, w2i, 'v', 8, 13+1, H)"
   ]
  },
  {
   "cell_type": "code",
   "execution_count": null,
   "metadata": {},
   "outputs": [],
   "source": [
    "_distance, distance = get_affinities(ws, ws)\n",
    "tsne = TSNE(n_components=2, metric='precomputed')\n",
    "result = tsne.fit_transform(_distance)"
   ]
  },
  {
   "cell_type": "code",
   "execution_count": null,
   "metadata": {},
   "outputs": [],
   "source": [
    "# _ = plt.figure(figsize=(20, 10))\n",
    "fig, ax = plt.subplots(figsize=(20, 10))\n",
    "\n",
    "for cond, color in [([i for (m_type, l, h), i in w2i.items() if m_type == 'o' and l < 8], 'g'),\n",
    "                    ([i for (m_type, l, h), i in w2i.items() if m_type == 'q' and 12 < l < 24], 'r')]:\n",
    "    _ = plt.scatter(x=result[:, 0][cond], y=result[:, 1][cond], marker='.', color=color)\n",
    "# _ = ax.scatter(x=result[:, 0], y=result[:, 1], marker='.')\n",
    "\n",
    "for w_type, l, h in [('v', 12, 10), ('v', 8, 1), ('v', 8, 0), ('v', 8, 15), ('v', 11, 1),\n",
    "                    ('o', 12, 10), ('o', 8, 1), ('o', 8, 0), ('o', 8, 15), ('o', 11, 1)]:\n",
    "    i = w2i[(w_type, l, h)]\n",
    "    _ = ax.annotate(f'{w_type}-{l}-{h}', (result[i, 0], result[i, 1]), color='g' if w_type == 'v' else 'r')"
   ]
  },
  {
   "cell_type": "code",
   "execution_count": null,
   "metadata": {},
   "outputs": [],
   "source": [
    "ov_mask = einops.repeat(torch.BoolTensor([True, False]), 'b -> b l n', l=L, n=H)\n",
    "qk_mask = einops.repeat(torch.BoolTensor([False, True]), 'b -> b l n', l=L, n=H)\n",
    "# gt_l0_mask = einops.repeat(torch.ones(L, L) - torch.tril(torch.ones(L, L)) * 1, 'l0 l1 ->l0 n0 l1 n1 k', n0=H, n1=H, k=2).bool()\n",
    "gt_l0_mask = einops.repeat(torch.ones(L, L) - torch.tril(torch.ones(L, L)) * 1, 'l0 l1 ->l0 n0 l1 n1', n0=H, n1=H).bool()\n",
    "def layer_mask(l): mask = torch.zeros(L, H).bool(); mask[l] = True; return mask\n",
    "\n",
    "mask = torch.zeros(2, L, H).bool()"
   ]
  },
  {
   "cell_type": "code",
   "execution_count": null,
   "metadata": {},
   "outputs": [],
   "source": [
    "embed_outputs = {}"
   ]
  },
  {
   "cell_type": "code",
   "execution_count": null,
   "metadata": {},
   "outputs": [],
   "source": [
    "_=plt.hist(qk_score[mask[1]].numpy(), bins=20)"
   ]
  },
  {
   "cell_type": "code",
   "execution_count": 2706,
   "metadata": {},
   "outputs": [],
   "source": [
    "hds.kqovOV += [(3, 9), (4, 6), (13, 11)]"
   ]
  },
  {
   "cell_type": "code",
   "execution_count": 2704,
   "metadata": {},
   "outputs": [
    {
     "data": {
      "image/png": "[encoded data removed]",
      "text/plain": [
       "<Figure size 1440x864 with 1 Axes>"
      ]
     },
     "metadata": {
      "needs_background": "light"
     },
     "output_type": "display_data"
    }
   ],
   "source": [
    "_ = plt.figure(figsize=(20, 12));\n",
    "x, y = eigvs.eqke[..., 0], pos_score\n",
    "mask0 = layer_mask(range(1, 20)) & (y < 0.1) & (x > 0.)\n",
    "_ = plt.plot(x[mask0], y[mask0], '.')\n",
    "for l, h in mask0.nonzero().numpy():\n",
    "    if True or (l, h) in hds.kqovOV: _ = plt.annotate(f'{l}-{h}', (x[l, h], y[l, h]), color='b' if (l, h) in hds.kqovOV else 'k')"
   ]
  },
  {
   "cell_type": "code",
   "execution_count": 2733,
   "metadata": {},
   "outputs": [
    {
     "data": {
      "text/plain": [
       "[(8, 1), (12, 10), (13, 13), (15, 7), (16, 7), (11, 0)]"
      ]
     },
     "execution_count": 2733,
     "metadata": {},
     "output_type": "execute_result"
    }
   ],
   "source": [
    "hds.kqOVov  # for ov, 16-7 is good, 11-0 is very good. but for qk, 16-7 is worse than 15-7, 11-0 is the worst!\n",
    "# 15-7 is bad\n",
    "# 16-7 is good, kqOVOV composable with 13-11"
   ]
  },
  {
   "cell_type": "code",
   "execution_count": 2734,
   "metadata": {},
   "outputs": [],
   "source": [
    "# t00, t01, t11 = eigvs.evoove, eigvs.ekqovove, eigvs.eqkkqe\n",
    "t00, t01, t11 = eigvs.evoove, eigvs.ekqOVove[(15, 5)], eigvs.eqkkqe\n",
    "# t00, t01, t11 = eigvs.evoove, eigvs.ekqovovove[((l0, h0), (l1, h1))], eigvs.eqkkqe\n",
    "eigvs4 = small_to_big_pairwise_sim_tensor(t00, t01, t11)\n",
    "qk_score = [eigvs.eqke[..., 0], eigvs.uovE][1]\n",
    "l1 = 15\n",
    "mask[0] = layer_mask(range(2, l1)) #& (pos_score < 0.05) & (eigvs.eqke[...,0] > 0.5)\n",
    "mask[1] = layer_mask(range(l1 + 1, L)) & (eigvs.uovE > 0.5) & (pos_score < 0.1)\n",
    "embed_outputs['ekqovove'] = [embed_by_pairwise_sim_tensor(eigvs4[..., i], mask) for i in [0, 1]] + [mask]"
   ]
  },
  {
   "cell_type": "code",
   "execution_count": 2735,
   "metadata": {},
   "outputs": [
    {
     "data": {
      "image/png": "[encoded data removed]",
      "text/plain": [
       "<Figure size 1440x864 with 1 Axes>"
      ]
     },
     "metadata": {
      "needs_background": "light"
     },
     "output_type": "display_data"
    }
   ],
   "source": [
    "outputs = embed_outputs['ekqovove']; use_reality = 0\n",
    "result, mask = outputs[int(use_reality)], outputs[-1]\n",
    "\n",
    "fig, ax = plt.subplots(figsize=(20, 12))\n",
    "ov_score = [eigvs.eqke[...,0], pos_score][1]\n",
    "qk_score = [eigvs.eqke[..., 0], eigvs.uovE, pos_score][1]\n",
    "_ = plt.scatter(*tuple(result[0, mask[0]].T), marker='o', c=ov_score[mask[0]], cmap='viridis_r')\n",
    "_ = plt.scatter(*tuple(result[1, mask[1]].T), marker='v', c=qk_score[mask[1]], cmap='Reds')\n",
    "for l, h in mask[0].nonzero().numpy():\n",
    "    if (l, h) in hds.kqovOV: _ = ax.annotate(f'{l}-{h}', result[0, l, h], color='b')\n",
    "# k_comp_heads, same_qk_heads = [(6, 10), (5, 4), (3, 11)], [(8, 7), (6, 2), (1, 7), (6, 7), (8, 13), (10, 7)]  # (4, 0), (3, 9)"
   ]
  },
  {
   "cell_type": "code",
   "execution_count": 2530,
   "metadata": {},
   "outputs": [],
   "source": [
    "todo_heads = [(18, 5), (19, 6), (18, 13), (14, 6), (19, 1), (17, 1), (19, 0), (17, 9),\n",
    "              (17, 5), (15, 5), (13, 9)]\n",
    "# 14-6 bad\n",
    "# 15-5 strange"
   ]
  },
  {
   "cell_type": "code",
   "execution_count": null,
   "metadata": {},
   "outputs": [],
   "source": [
    "head2 = (19, 15)\n",
    "(eigvs.uovE[head2], torch.Tensor([plot_eigv(prod, plot=False)[0] for _, prod in \n",
    "        iweightprod(model, [hds.kqovOV[:-2], (12, 10), head2], 'e vo vo qk e', weBTA=weBTAs[0])]))"
   ]
  },
  {
   "cell_type": "code",
   "execution_count": null,
   "metadata": {},
   "outputs": [],
   "source": [
    "hds.KQovov\n",
    "# {k: (pos_score[k],) + v for k, v in hds.KQovov.items()}"
   ]
  },
  {
   "cell_type": "code",
   "execution_count": 2558,
   "metadata": {},
   "outputs": [],
   "source": [
    "# eigvs4 = small_to_big_pairwise_sim_tensor(eigvs.voov, eigvs.qkov, eigvs.qkkq)\n",
    "eigvs4 = small_to_big_pairwise_sim_tensor(eigvs.evoove, eigvs.eqkove, eigvs.eqkkqe)\n",
    "# eigvs4 = small_to_big_pairwise_sim_tensor(eigvs.evoove, eigvs.eqkove, eigvs.eqkkqe)\n",
    "mask = ov_mask & layer_mask(range(1, 20)) | qk_mask & layer_mask(range(3, 20))\n",
    "embed_outputs['eqkove'] = [embed_by_pairwise_sim_tensor(eigvs4[..., i], mask) for i in [0, 1]] + [mask]"
   ]
  },
  {
   "cell_type": "code",
   "execution_count": 2528,
   "metadata": {},
   "outputs": [
    {
     "data": {
      "text/plain": [
       "[((16, 7), tensor(0.0457), tensor(0.9951), 0.98865277),\n",
       " ((15, 7), tensor(0.0482), tensor(0.9753), 0.9853302),\n",
       " ((18, 5), tensor(0.0677), tensor(0.9833), 0.9802951),\n",
       " ((14, 6), tensor(0.0921), tensor(0.8779), 0.9800596),\n",
       " ((19, 6), tensor(0.0473), tensor(0.9852), 0.9728503),\n",
       " ((22, 14), tensor(0.0505), tensor(0.9393), 0.9668276),\n",
       " ((18, 13), tensor(0.0611), tensor(0.9325), 0.9620222),\n",
       " ((24, 11), tensor(0.0428), tensor(0.2573), 0.96042097),\n",
       " ((19, 1), tensor(0.0756), tensor(0.8728), 0.9584423),\n",
       " ((17, 1), tensor(0.0675), tensor(0.8784), 0.95820975),\n",
       " ((23, 2), tensor(0.0361), tensor(0.7724), 0.9560908),\n",
       " ((22, 5), tensor(0.0478), tensor(0.9942), 0.95529544),\n",
       " ((19, 0), tensor(0.0640), tensor(0.9412), 0.9547842),\n",
       " ((17, 9), tensor(0.0759), tensor(0.9107), 0.9541881),\n",
       " ((22, 4), tensor(0.0471), tensor(0.9606), 0.94833314)]"
      ]
     },
     "execution_count": 2528,
     "metadata": {},
     "output_type": "execute_result"
    }
   ],
   "source": [
    "[(head, pos_score[head], eigvs.uovE[head], v) for head, v in \n",
    "     get_knn(eigvs.eqkove[..., use_reality] * gt_l0_mask, [(12, 12),], topk=15, sim_threshold=0.8).items()]"
   ]
  },
  {
   "cell_type": "code",
   "execution_count": 2529,
   "metadata": {},
   "outputs": [
    {
     "data": {
      "text/plain": [
       "[((12, 10), tensor(0.0420), tensor(0.9601), 0.9933756),\n",
       " ((15, 7), tensor(0.0482), tensor(0.9753), 0.9716811),\n",
       " ((17, 5), tensor(0.0401), tensor(0.7289), 0.9611347),\n",
       " ((13, 13), tensor(0.0339), tensor(0.9344), 0.9565794),\n",
       " ((14, 6), tensor(0.0921), tensor(0.8779), 0.9401148),\n",
       " ((26, 13), tensor(0.0497), tensor(0.2504), 0.93656677),\n",
       " ((16, 7), tensor(0.0457), tensor(0.9951), 0.9277052),\n",
       " ((15, 5), tensor(0.0530), tensor(0.7712), 0.918713),\n",
       " ((22, 7), tensor(0.0607), tensor(0.6626), 0.91125286),\n",
       " ((13, 0), tensor(0.1552), tensor(0.0315), 0.9055322),\n",
       " ((20, 1), tensor(0.0539), tensor(0.6715), 0.9019865),\n",
       " ((25, 3), tensor(0.0455), tensor(0.9369), 0.89917505),\n",
       " ((13, 9), tensor(0.0533), tensor(0.6766), 0.89889956),\n",
       " ((24, 0), tensor(0.0549), tensor(0.3860), 0.8952093),\n",
       " ((22, 5), tensor(0.0478), tensor(0.9942), 0.89125496)]"
      ]
     },
     "execution_count": 2529,
     "metadata": {},
     "output_type": "execute_result"
    }
   ],
   "source": [
    "[(head, pos_score[head], eigvs.uovE[head], v) for head, v in \n",
    "     get_knn(eigvs.eqkove[..., use_reality] * gt_l0_mask, [(10, 4),], topk=15, sim_threshold=0.8).items()]"
   ]
  },
  {
   "cell_type": "code",
   "execution_count": 2657,
   "metadata": {},
   "outputs": [
    {
     "data": {
      "text/plain": [
       "(array([11,  7, 10, 10, 12, 11,  9,  6, 15,  8]),\n",
       " array([11, 11,  4, 11, 12,  5,  5,  1, 13, 12]),\n",
       " array([0.9805672 , 0.95725864, 0.9565794 , 0.94977695, 0.9477071 ,\n",
       "        0.94044596, 0.92341095, 0.91489214, 0.9099381 , 0.8962975 ],\n",
       "       dtype=float32),\n",
       " array([0.3678885 , 0.573958  , 0.9267423 , 0.3241048 , 0.6542016 ,\n",
       "        0.5387182 , 0.5770337 , 0.37738788, 0.30173954, 0.14588423],\n",
       "       dtype=float32))"
      ]
     },
     "execution_count": 2657,
     "metadata": {},
     "output_type": "execute_result"
    }
   ],
   "source": [
    "add_rows(topk_md(eigvs.eqkove[:, :, 13, 13, 0], 10), pos_score)"
   ]
  },
  {
   "cell_type": "code",
   "execution_count": 2578,
   "metadata": {},
   "outputs": [
    {
     "data": {
      "text/plain": [
       "(array([10, 11, 11, 10,  7, 12,  3,  9,  5,  7]),\n",
       " array([ 4,  5, 11, 11, 11, 12,  5,  5,  6, 14]),\n",
       " array([0.9933756 , 0.9717935 , 0.9573813 , 0.9453931 , 0.9352966 ,\n",
       "        0.9327186 , 0.93183106, 0.9194853 , 0.9132154 , 0.91105247],\n",
       "       dtype=float32),\n",
       " array([0.9267423, 0.5387182, 0.3678885, 0.3241048, 0.573958 , 0.6542016,\n",
       "        0.8296661, 0.5770337, 0.6043932, 0.5204992], dtype=float32))"
      ]
     },
     "execution_count": 2578,
     "metadata": {},
     "output_type": "execute_result"
    }
   ],
   "source": [
    "add_rows(topk_md(eigvs.eqkove[:, :, 12, 10, 0], 10), pos_score)"
   ]
  },
  {
   "cell_type": "code",
   "execution_count": 2589,
   "metadata": {},
   "outputs": [
    {
     "data": {
      "text/plain": [
       "(array([12, 11, 10, 14, 11, 10, 15,  5,  6,  3]),\n",
       " array([12, 11, 11,  9, 12,  4, 13,  6,  1,  5]),\n",
       " array([0.98865277, 0.96679175, 0.9461144 , 0.94406074, 0.9368196 ,\n",
       "        0.9277052 , 0.9177019 , 0.91160303, 0.9104574 , 0.89909726],\n",
       "       dtype=float32),\n",
       " array([0.6542016 , 0.3678885 , 0.3241048 , 0.57883555, 0.15507938,\n",
       "        0.9267423 , 0.30173954, 0.6043932 , 0.37738788, 0.8296661 ],\n",
       "       dtype=float32))"
      ]
     },
     "execution_count": 2589,
     "metadata": {},
     "output_type": "execute_result"
    }
   ],
   "source": [
    "add_rows(topk_md(eigvs.eqkove[:, :, 16, 7, 0], 10), pos_score)"
   ]
  },
  {
   "cell_type": "code",
   "execution_count": 2661,
   "metadata": {},
   "outputs": [
    {
     "data": {
      "text/plain": [
       "tensor(0.8779)"
      ]
     },
     "execution_count": 2661,
     "metadata": {},
     "output_type": "execute_result"
    },
    {
     "data": {
      "text/plain": [
       "(array([12, 11, 14, 10, 10, 11, 12, 10,  8,  5]),\n",
       " array([12, 11,  9,  4, 11, 12, 14,  7,  7,  6]),\n",
       " array([0.9800596 , 0.96504056, 0.94595677, 0.9401148 , 0.93652654,\n",
       "        0.9184492 , 0.9183606 , 0.91306275, 0.911153  , 0.90324837],\n",
       "       dtype=float32),\n",
       " array([0.6542016 , 0.3678885 , 0.57883555, 0.9267423 , 0.3241048 ,\n",
       "        0.15507938, 0.14889172, 0.01612516, 0.01951163, 0.6043932 ],\n",
       "       dtype=float32))"
      ]
     },
     "execution_count": 2661,
     "metadata": {},
     "output_type": "execute_result"
    }
   ],
   "source": [
    "l, h = 14, 6; eigvs.uovE[l, h]; add_rows(topk_md(eigvs.eqkove[:, :, l, h, 0], 10), pos_score)"
   ]
  },
  {
   "cell_type": "code",
   "execution_count": 2660,
   "metadata": {},
   "outputs": [
    {
     "data": {
      "text/plain": [
       "tensor(0.7712)"
      ]
     },
     "execution_count": 2660,
     "metadata": {},
     "output_type": "execute_result"
    },
    {
     "data": {
      "text/plain": [
       "(array([10, 12, 10, 11, 15, 12, 14, 11, 25,  7]),\n",
       " array([ 4, 12, 11,  4,  5, 14, 11,  5, 14, 11]),\n",
       " array([0.918713  , 0.8804465 , 0.8804227 , 0.85991365, 0.8471698 ,\n",
       "        0.84646374, 0.83451766, 0.8158573 , 0.8128914 , 0.7930714 ],\n",
       "       dtype=float32),\n",
       " array([0.9267423 , 0.6542016 , 0.3241048 , 0.07543314, 0.05296095,\n",
       "        0.14889172, 0.08198965, 0.5387182 , 0.04089521, 0.573958  ],\n",
       "       dtype=float32))"
      ]
     },
     "execution_count": 2660,
     "metadata": {},
     "output_type": "execute_result"
    }
   ],
   "source": [
    "l, h = 15, 5; eigvs.uovE[l, h]; add_rows(topk_md(eigvs.eqkove[:, :, l, h, 0], 10), pos_score)"
   ]
  },
  {
   "cell_type": "code",
   "execution_count": 2576,
   "metadata": {},
   "outputs": [
    {
     "data": {
      "image/png": "[encoded data removed]",
      "text/plain": [
       "<Figure size 1440x864 with 1 Axes>"
      ]
     },
     "metadata": {
      "needs_background": "light"
     },
     "output_type": "display_data"
    }
   ],
   "source": [
    "outputs = embed_outputs['eqkove']; use_reality = 0\n",
    "result, mask = outputs[int(use_reality)], outputs[-1]\n",
    "\n",
    "fig, ax = plt.subplots(figsize=(20, 12))\n",
    "ov_score = [eigvs.uovE, pos_score][1]  # rescale(qk[:, :, 1], 0.4).numpy()\n",
    "qk_score = eigvs.eqke[..., 0]\n",
    "_ = plt.scatter(*tuple(result[0, mask[0]].T), marker='o', c=ov_score[mask[0]], cmap='Reds')#  'RdYlBu_r')\n",
    "_ = plt.scatter(*tuple(result[1, mask[1]].T), marker='v', c=qk_score[mask[1]], cmap='BrBG')\n",
    "for b, l, h in (mask & (pos_score > 0.3)).nonzero().numpy():\n",
    "    # if (l, h) not in [(1, 0), (2, 11), (12, 12)]: continue\n",
    "    if b == 0: _ = ax.annotate(f'{l}-{h}', result[b, l, h], color='r' if b==0 else 'm', alpha=pos_score[l, h].item())\n",
    "# cond = qk_score > 0.8\n",
    "# # https://datavizpyr.com/connect-paired-points-with-lines-scatter-plot-matplotlib/\n",
    "# x, y = zip(result[0][mask[0] & cond].T, result[1][mask[1] & cond].T)\n",
    "# _=plt.plot(torch.stack(x), torch.stack(y), color='k', alpha=0.2)\n",
    "# for (l, h), v in list(get_knn(eigvs.eqkove[..., use_reality] * gt_l0_mask, [(10, 4), (2, 11), (3, 5)]).items()) + [((11, 0), 1)]:\n",
    "#     _ = ax.annotate(f'{l}-{h}', result[1, l, h], color='b', alpha=1 or rescale(v, 0.9))\n",
    "#     _ = ax.annotate(f'{l}-{h}', result[0, l, h], color='g', alpha=1 or rescale(v, 0.9))\n",
    "for (l, h) in todo_heads[:0] + hds.kqOVov[:3] + [(11, 0)]:\n",
    "    alpha = 1 if (l, h) in hds.kqOVov[:3] else 0.5\n",
    "    _ = ax.annotate(f'{l}-{h}', result[1, l, h], color='g', alpha=alpha)\n",
    "    _ = ax.annotate(f'{l}-{h}', result[0, l, h], color='k', alpha=alpha)\n",
    "for (l, h) in [(10, 11), (7, 11), (10, 14), (9, 9)]: _ = ax.annotate(f'{l}-{h}', result[0, l, h], color='b')"
   ]
  },
  {
   "cell_type": "code",
   "execution_count": null,
   "metadata": {},
   "outputs": [],
   "source": [
    "eigvs4 = small_to_big_pairwise_sim_tensor(eigvs.evoove, eigvs.eqkove, eigvs.eqkkqe)\n",
    "mask = qk_mask & layer_mask(range(3, 16))\n",
    "result0 = embed_by_pairwise_sim_tensor(eigvs4[..., 0], mask)\n",
    "result1 = embed_by_pairwise_sim_tensor(eigvs4[..., 1], mask)\n",
    "embed_outputs['eqkkqe'] = (result0, result1, mask)"
   ]
  },
  {
   "cell_type": "code",
   "execution_count": null,
   "metadata": {},
   "outputs": [],
   "source": [
    "_=plt.hist(qk_score[mask[1]].numpy(), bins=20)"
   ]
  },
  {
   "cell_type": "code",
   "execution_count": null,
   "metadata": {},
   "outputs": [],
   "source": [
    "outputs = embed_outputs['eqkkqe']; use_reality = 0\n",
    "result, mask = outputs[int(use_reality)], outputs[-1]\n",
    "\n",
    "fig, ax = plt.subplots(figsize=(20, 12))\n",
    "qk_score = qk[...,0]\n",
    "_ = plt.scatter(*tuple(result[1][mask[1]].T), marker='o', c=qk_score[mask[1]], cmap='RdBu_r')\n",
    "for l, h in heads.KQQK:\n",
    "    _ = ax.annotate(f'{l}-{h}', result[1, l, h], color='k')"
   ]
  },
  {
   "cell_type": "code",
   "execution_count": null,
   "metadata": {},
   "outputs": [],
   "source": [
    "ws = weightprod(model, [(2, 11), (3, 5)], 'vo ov', return_ws=True)\n",
    "rws = [torch.randn_like(w) for w in ws]\n",
    "i = 2; A, B = reduce(torch.matmul, rws[:i]), reduce(torch.matmul, rws[i:])\n",
    "denorm = A.norm() * B.norm()\n",
    "(A @ B).norm() / denorm"
   ]
  },
  {
   "cell_type": "code",
   "execution_count": null,
   "metadata": {},
   "outputs": [],
   "source": [
    "top_pos_heads = [(2, 11), (3, 5), (12, 12), (10, 4)]\n",
    "top_same_qk_heads = [(1, 7), (3, 9), (6, 2), (7, 9), (8, 7), (8, 13)]"
   ]
  },
  {
   "cell_type": "code",
   "execution_count": null,
   "metadata": {},
   "outputs": [],
   "source": [
    "eigvs.qk = compute_eigvs(model, [all_heads_by_layer], 'kq')\n",
    "eigvs.eqke = compute_eigvs(model, [all_heads_by_layer], 'e kq e', weBTA=weBTAs[0])\n",
    "eigvs.uovE = eigv_positivity[:, :, 1]"
   ]
  },
  {
   "cell_type": "code",
   "execution_count": null,
   "metadata": {},
   "outputs": [],
   "source": [
    "hds.KQovov = {}"
   ]
  },
  {
   "cell_type": "code",
   "execution_count": null,
   "metadata": {},
   "outputs": [],
   "source": [
    "head2 = (22, 14)\n",
    "if head2 not in hds.KQovov:\n",
    "    hds.KQovov[head2] = (eigvs.uovE[head2], torch.Tensor([plot_eigv(prod, plot=False)[0] for _, prod in \n",
    "                            iweightprod(model, [hds.kqovOV[:-2], (12, 10), head2], 'e vo vo qk e', weBTA=weBTAs[0])]))\n",
    "    print(hds.KQovov[head2])"
   ]
  },
  {
   "cell_type": "markdown",
   "metadata": {},
   "source": [
    "## kqovovov"
   ]
  },
  {
   "cell_type": "code",
   "execution_count": 3012,
   "metadata": {},
   "outputs": [
    {
     "name": "stdout",
     "output_type": "stream",
     "text": [
      "(12, 10)\n"
     ]
    },
    {
     "name": "stderr",
     "output_type": "stream",
     "text": [
      "100%|██████████| 4/4 [00:05<00:00,  1.39s/it]\n"
     ]
    },
    {
     "data": {
      "text/plain": [
       "tensor(0.8294)"
      ]
     },
     "execution_count": 3012,
     "metadata": {},
     "output_type": "execute_result"
    },
    {
     "data": {
      "image/png": "[encoded data removed]",
      "text/plain": [
       "<Figure size 432x288 with 1 Axes>"
      ]
     },
     "metadata": {
      "needs_background": "light"
     },
     "output_type": "display_data"
    }
   ],
   "source": [
    "head1 = hds.kqOVov[1]; print(head1)\n",
    "\n",
    "KQovov_cond = (eigvs.uovE > 0.6) & (pos_score < 0.1)\n",
    "KQovov = [(l, h) for l, h in (layer_mask(range(head1[0] + 1, L)) & KQovov_cond).nonzero().numpy()]\n",
    "\n",
    "vs = compute_eigvs(model, [hds.kqovOV[:4], head1, KQovov], 'e vo vo qk e', weBTA=weBTAs[0])[..., 0]\n",
    "x = vs[vs != 0]; x.mean(); _=plt.hist(x.numpy(), bins=20)"
   ]
  },
  {
   "cell_type": "code",
   "execution_count": 3013,
   "metadata": {},
   "outputs": [
    {
     "name": "stderr",
     "output_type": "stream",
     "text": [
      "100%|██████████| 4/4 [00:07<00:00,  1.75s/it]\n"
     ]
    },
    {
     "data": {
      "image/png": "[encoded data removed]",
      "text/plain": [
       "<Figure size 864x108 with 4 Axes>"
      ]
     },
     "metadata": {
      "needs_background": "light"
     },
     "output_type": "display_data"
    }
   ],
   "source": [
    "vs = compute_eigvs(model, [hds.QKov, head1, KQovov], 'e vo vo qk e', weBTA=weBTAs[0])[..., 0]\n",
    "nrows, ncols = 1, len(hds.QKov); fig, axs = plt.subplots(nrows, ncols, sharey=True, sharex=True, figsize=(12, 1.5))\n",
    "for i, head in enumerate(hds.QKov):\n",
    "    # print(head)\n",
    "    x = vs[head][vs[head] != 0]\n",
    "    ax = axs[i]\n",
    "    _=ax.hist(x.numpy(), bins=20); _=ax.set_title(f'{head} {round(x.mean().item(), 3)}')"
   ]
  },
  {
   "cell_type": "code",
   "execution_count": 3015,
   "metadata": {},
   "outputs": [
    {
     "name": "stdout",
     "output_type": "stream",
     "text": [
      "(3, 6)\n"
     ]
    },
    {
     "data": {
      "text/plain": [
       "[(8, 7), (6, 2), (6, 7), (10, 7)]"
      ]
     },
     "execution_count": 3015,
     "metadata": {},
     "output_type": "execute_result"
    },
    {
     "data": {
      "text/plain": [
       "tensor([ 0.8180, -0.1356,  0.8746,  0.7359])"
      ]
     },
     "execution_count": 3015,
     "metadata": {},
     "output_type": "execute_result"
    }
   ],
   "source": [
    "head0 = hds.QKov[3]; print(head0)\n",
    "hds.kqovOV[:4]\n",
    "torch.Tensor([plot_eigv(prod, plot=False)[0] for head, prod in iweightprod(model, [head0, hds.kqovOV[:4]], 'e vo ov e', weBTA=weBTAs[0])])"
   ]
  },
  {
   "cell_type": "code",
   "execution_count": 3016,
   "metadata": {},
   "outputs": [
    {
     "name": "stderr",
     "output_type": "stream",
     "text": [
      "100%|██████████| 48/48 [01:07<00:00,  1.40s/it]\n"
     ]
    }
   ],
   "source": [
    "vs = compute_eigvs(model, [heads_in_layers(0, head0[0]), head0, head1, KQovov], 'e vo vo vo qk e', weBTA=weBTAs[0])[..., 0]"
   ]
  },
  {
   "cell_type": "code",
   "execution_count": 3017,
   "metadata": {
    "scrolled": false
   },
   "outputs": [
    {
     "name": "stdout",
     "output_type": "stream",
     "text": [
      "(2, 7) tensor(0.4283) tensor([ 0.9262, -0.5480, -0.7804,  0.8749])\n",
      "(2, 6) tensor(0.2466) tensor([0.8645, 0.6617, 0.5862, 0.8188])\n",
      "(2, 15) tensor(0.1175) tensor([ 0.7764, -0.8304, -0.3706,  0.7647])\n",
      "(1, 4) tensor(0.3150) tensor([-0.5120, -0.1751, -0.8090,  0.6616])\n",
      "(0, 0) tensor(0.2984) tensor([0.9003, 0.5156, 0.7520, 0.7421])\n",
      "(2, 9) tensor(0.2042) tensor([ 0.6855,  0.2858, -0.3577,  0.7110])\n",
      "(1, 5) tensor(0.0535) tensor([ 0.7358, -0.4647,  0.1587,  0.6801])\n",
      "(0, 7) tensor(0.4213) tensor([-0.8936,  0.4105, -0.7548, -0.8617])\n",
      "(1, 12) tensor(0.1436) tensor([-0.5772,  0.9153,  0.0203, -0.8904])\n",
      "(2, 2) tensor(0.1362) tensor([ 0.2106,  0.7240, -0.3803, -0.5852])\n"
     ]
    },
    {
     "data": {
      "image/png": "[encoded data removed]",
      "text/plain": [
       "<Figure size 864x288 with 10 Axes>"
      ]
     },
     "metadata": {
      "needs_background": "light"
     },
     "output_type": "display_data"
    }
   ],
   "source": [
    "nrows, ncols = 2, 5; fig, axs = plt.subplots(nrows, ncols, sharex=True, sharey=True, figsize=(12, 4))\n",
    "for i, head_1 in enumerate(zip(*topk_md(vs.sum(dim=(-2, -1)), 10)[:2])):\n",
    "    print(head_1, pos_score[head_1],\n",
    "        torch.Tensor([plot_eigv(prod, plot=False)[0] for head, prod in iweightprod(\n",
    "            model, [head_1, head0, hds.kqovOV[:4]], 'e vo vo ov e', weBTA=weBTAs[0])]))\n",
    "    x = vs[head_1][vs[head_1] != 0]\n",
    "    ax = axs[i // ncols, i % ncols]\n",
    "    _=ax.hist(x.numpy(), bins=20)\n",
    "    _=ax.set_title(f'{head_1} {round(x.mean().item(), 4)}')#; plt.show()"
   ]
  },
  {
   "cell_type": "markdown",
   "metadata": {},
   "source": [
    "## Affinity analysis"
   ]
  },
  {
   "cell_type": "code",
   "execution_count": null,
   "metadata": {},
   "outputs": [],
   "source": [
    "_affinities = torch.zeros((L, L, H, H))\n",
    "affinities = torch.zeros((L, L, H, H))\n",
    "for l0 in tqdm(range(0, l1)):\n",
    "    for l2 in range(l1 + 1, L):\n",
    "        if True:\n",
    "        # with Timer(f'layer{l0}-layer{l2}'):\n",
    "            wv0, wo0 = get_head_weights(model, l0, transpose=True)[2:]\n",
    "            wq2, wk2 = get_head_weights(model, l2, transpose=True)[:2]\n",
    "            wv0, wo0, wq2, wk2 = wv0.to('cuda'), wo0.to('cuda'), wq2.to('cuda'), wk2.to('cuda')\n",
    "            with torch.no_grad():\n",
    "                a, na = get_affinities3(wv0 @ wo0, _wvo, wq2 @ wk2.transpose(-2, -1))\n",
    "            a, na = a.to('cpu'), na.to('cpu')\n",
    "            _affinities[l0, l2] = a.squeeze(1)  # m1o->mo\n",
    "            affinities[l0, l2] = na.squeeze(1)  # m1o->mo\n",
    "\n",
    "_affinities, affinities = rearrange(_affinities, 'k l m n -> k m l n'), rearrange(affinities, 'k l m n -> k m l n')\n",
    "np.savez_compressed(f'affinities{l1}-{h1}.npz', a=_affinities.numpy(), na=affinities.numpy())"
   ]
  },
  {
   "cell_type": "code",
   "execution_count": null,
   "metadata": {},
   "outputs": [],
   "source": [
    "data = np.load(f'affinities{l1}-{h1}.npz')\n",
    "affinities = torch.Tensor(data['na'])\n",
    "# topk_md(torch.einsum('kmln->km', affinities), 20)  # klmn->km/ln\n",
    "# fig, ax = plt.subplots(figsize=(20, 10))\n",
    "# _ = sns.heatmap(rearrange(affinities[: l1, :, l1 + 1: L], 'l0 h0 l2 h2 -> (l0 h0) (l2 h2)'), ax=ax)"
   ]
  },
  {
   "cell_type": "code",
   "execution_count": null,
   "metadata": {},
   "outputs": [],
   "source": [
    "[(l, h, v, eigv_positivity[l, h]) for l, h, v in zip(*topk_md(torch.einsum('kmln->ln', affinities), 10))]"
   ]
  },
  {
   "cell_type": "code",
   "execution_count": null,
   "metadata": {},
   "outputs": [],
   "source": [
    "[(l, h, v, eigv_positivity[l, h], k_comp_max[l, h]) for l, h, v in zip(*topk_md(torch.einsum('kmln->km', affinities), 20))]"
   ]
  },
  {
   "cell_type": "code",
   "execution_count": null,
   "metadata": {},
   "outputs": [],
   "source": [
    "[((l, h), count, eigv_positivity[l, h]) for (l, h), count in Counter(\n",
    "    zip(*np.unravel_index(affinities.view(-1).topk(200).indices, affinities.size())[:2])).most_common()]"
   ]
  },
  {
   "cell_type": "code",
   "execution_count": null,
   "metadata": {},
   "outputs": [],
   "source": [
    "for l0, h0, l2, h2 in zip(*np.unravel_index(affinities.view(-1).topk(100).indices, affinities.size())):\n",
    "    if True: #(l0, h0) == (8, 7) and (l2, h2) == (22, 5):\n",
    "        wv0, wo0 = get_head_weights(model, l0, h0, transpose=True)[2:]\n",
    "        wq2, wk2 = get_head_weights(model, l2, h2, transpose=True)[:2]\n",
    "        q, kT = (wv0 @ wo0 @ wv1 @ wo1 @ wq2), wk2.T\n",
    "        eigv_pos = plot_eigv((kT @ q).eig()[0], plot=False)\n",
    "        print(f'{l0}-{h0}, {l2}-{h2}', eigv_pos, eigv_positivity[l2, h2])"
   ]
  },
  {
   "cell_type": "code",
   "execution_count": null,
   "metadata": {},
   "outputs": [],
   "source": [
    "na0 = get_ov_affinities(model, l1, wv1, wo1, range(l1))"
   ]
  },
  {
   "cell_type": "code",
   "execution_count": null,
   "metadata": {},
   "outputs": [],
   "source": [
    "[(i, f'{l0}-{h0}', k_comp_max[l0, h0], eigv_positivity[l0, h0], pos_heads2val.get((l0, h0)))\n",
    "    for i, (l0, h0) in enumerate(zip(*topk_md(na0, 10)[:2]))]"
   ]
  },
  {
   "cell_type": "code",
   "execution_count": null,
   "metadata": {},
   "outputs": [],
   "source": [
    "n_heads2=40\n",
    "na2 = get_qk_affinities(model, l1, wv1, wo1, range(l1 + 1, L))\n",
    "heads2 = list(zip(*topk_md(na2, n_heads2)[:2]))\n",
    "# heads2 = [(3, 11), (8, 1), (12, 10), (13, 13), (14, 6), (15, 7), (16, 7)]\n",
    "# heads2 = [(13, 2), (14, 6), (16, 6)]"
   ]
  },
  {
   "cell_type": "code",
   "execution_count": null,
   "metadata": {},
   "outputs": [],
   "source": [
    "for l0, h0 in heads0:\n",
    "    wq0, wk0 = get_head_weights(model, l0, h0, transpose=True)[:2]\n",
    "    ln0 = blocks[l0].ln_1\n",
    "    print(l0, h0, eigv_positivity[l0, h0], get_eigv_pos(wk0.T @ wq0), get_eigv_pos((_e[1] @ wk0).T @ (_e[1] @ wq0)), get_eigv_pos((ln0(_e[1]) @ wk0).T @ (ln0(_e[1]) @ wq0)))"
   ]
  },
  {
   "cell_type": "code",
   "execution_count": null,
   "metadata": {},
   "outputs": [],
   "source": [
    "add_attr(topk_md(na0, 100, zipped=True), [eigv_positivity_noln[:, :, [0, 2]], pos_score, k_comp_wmean])"
   ]
  },
  {
   "cell_type": "code",
   "execution_count": null,
   "metadata": {},
   "outputs": [],
   "source": [
    "# n_heads0=20\n",
    "# na0 = get_qk_affinities(model, l1, wv1, wo1, range(l1 + 1, L))\n",
    "# na0 = get_ov_affinities(model, l1, wv1, wo1, range(l1))\n",
    "# heads0 = list(zip(*topk_md(na0, n_heads0)[:2]))\n",
    "heads0 = [(3, 6), (3, 11), (4, 8), (6, 10)]\n",
    "# heads0 = [(4, 1), (6, 15), (8, 13), (10, 1)]  # eigv_pos012 < -0.8\n",
    "# heads0 = [(3, 6), (3, 12), (4, 6), (4, 0), (6, 10), (8, 1)] # k_comp_wmean > 0.2\n",
    "# heads0 = [(1, 7), (3, 9), (6, 2), (6, 7), (8, 7), (10, 7)] # k_comp_wmean < 0.2 and eigv_pos > 0, i.e. the good ones\n",
    "heads2 = [(13, 2), (14, 6)]"
   ]
  },
  {
   "cell_type": "code",
   "execution_count": null,
   "metadata": {},
   "outputs": [],
   "source": [
    "eigv_pos012 = compute_eigv_pos012(model, l1, h1, wv1, wo1, heads0, heads2,\n",
    "    eigv_positivity, heads_1=None, use_ln=True, _e=_e[0], verbose=True)"
   ]
  },
  {
   "cell_type": "code",
   "execution_count": null,
   "metadata": {},
   "outputs": [],
   "source": [
    "del compute_eigv_pos012\n",
    "from model_utils import compute_eigv_pos012"
   ]
  },
  {
   "cell_type": "code",
   "execution_count": null,
   "metadata": {},
   "outputs": [],
   "source": [
    "eigv_pos012 = compute_eigv_pos012(model, l1, h1, wv1, wo1, [(6, 10)], heads2,\n",
    "    eigv_positivity, heads_1=[(5, 1)], use_ln=True, _e=_e[0], verbose=True)"
   ]
  },
  {
   "cell_type": "code",
   "execution_count": null,
   "metadata": {},
   "outputs": [],
   "source": [
    "l1, h1 = 12, 10; wv1, wo1 = get_head_weights(model, l1, h1, transpose=True)[2:]"
   ]
  },
  {
   "cell_type": "code",
   "execution_count": null,
   "metadata": {},
   "outputs": [],
   "source": [
    "add_attr([(l0, h0, l2, h2, torch.Tensor(eigv_pos)) for (l0, h0, l2, h2), eigv_pos in eigv_positivity012[l1, h1].items()\n",
    "    if pos_score[l0, h0] < 0.2 and k_comp_wmean_ln[l0, h0] > 0.2], eigv_positivity_noln)"
   ]
  },
  {
   "cell_type": "code",
   "execution_count": null,
   "metadata": {},
   "outputs": [],
   "source": [
    "x, y = zip(*[(eigv_pos[1], pos_score[l0, h0]) for (l0, h0, l2, h2), eigv_pos in eigv_positivity012[l1, h1].items()\n",
    "    if pos_score[l0, h0] < 0.045 and k_comp_wmean_ln[l0, h0] < 0.2])\n",
    "_ = plt.figure(figsize=(20, 10)); _ = plt.scatter(x, y, marker='.', alpha=0.3)"
   ]
  },
  {
   "cell_type": "code",
   "execution_count": null,
   "metadata": {},
   "outputs": [],
   "source": [
    "_ = plt.hist(x, bins=20)"
   ]
  },
  {
   "cell_type": "code",
   "execution_count": null,
   "metadata": {},
   "outputs": [],
   "source": [
    "n_intermediary_heads = 100\n",
    "# n_heads0, n_heads2 = 20, 40  # gpt2-large\n",
    "# n_heads0, n_heads2 = 15, 30  # gpt-j\n",
    "n_heads0, n_heads2 = 100, 40  # gpt-j\n",
    "# eigv_positivity012 = {}\n",
    "# maybe_intermediary_heads = list(zip(*topk_md(k_comp_max, n_intermediary_heads)[:2]))\n",
    "# maybe_intermediary_heads = [(l1, h1) for l1, h1 in maybe_intermediary_heads if 0 < l1 < L - 1]\n",
    "maybe_intermediary_heads = [(12, 10)] # [(8, 1), (13, 13)]\n",
    "# maybe_intermediary_heads = list(zip(*topk_md(conductivity, 20)[:2]))\n",
    "for l1, h1 in (maybe_intermediary_heads):\n",
    "    wv1, wo1 = get_head_weights(model, l1, h1, transpose=True)[2:]\n",
    "    na0 = get_ov_affinities(model, l1, wv1, wo1, range(l1))\n",
    "    heads0 = list(zip(*topk_md(na0, n_heads0)[:2]))\n",
    "    na2 = get_qk_affinities(model, l1, wv1, wo1, range(l1 + 1, L))\n",
    "    heads2 = list(zip(*topk_md(na2, n_heads2)[:2]))\n",
    "    eigv_pos012 = compute_eigv_pos012(model, l1, h1, wv1, wo1, heads0, heads2, \n",
    "        eigv_positivity, use_ln=True, _e=_e[0], verbose=False)\n",
    "    eigv_positivity012[l1, h1] = eigv_pos012"
   ]
  },
  {
   "cell_type": "code",
   "execution_count": null,
   "metadata": {},
   "outputs": [],
   "source": [
    "eigv_positivity012_ln = eigv_positivity012"
   ]
  },
  {
   "cell_type": "code",
   "execution_count": null,
   "metadata": {},
   "outputs": [],
   "source": [
    "# with gzip.open(f'eigv_positivity012_{model_name.split(\"/\")[-1]}.pkl.gz', 'wb') as f:\n",
    "#     pickle.dump(eigv_positivity012, f)\n",
    "with gzip.open(f'eigv_positivity012_{model_name.split(\"/\")[-1]}.pkl.gz', 'rb') as f:\n",
    "    eigv_positivity012 = pickle.load(f)"
   ]
  },
  {
   "cell_type": "code",
   "execution_count": null,
   "metadata": {},
   "outputs": [],
   "source": [
    "conductivity = torch.zeros(L, H)\n",
    "for l, h in eigv_positivity012:\n",
    "    conductivity[l, h] = get_conductivity(eigv_positivity012, l, h)"
   ]
  },
  {
   "cell_type": "code",
   "execution_count": null,
   "metadata": {},
   "outputs": [],
   "source": [
    "names, affinity_val, eigv_pos_ov, k_comp = zip(*[(f'{l}-{h}', v, eigv_positivity[l, h, 1].item(), k_comp_max[l, h].item()) \n",
    "        for l, h, v in zip(*topk_md(na2, 50))])\n",
    "# plt.figure(figsize=(16, 10))\n",
    "plt.gca().set_aspect('equal', adjustable='box')\n",
    "_ = plt.scatter(x=eigv_pos_ov, y=k_comp, marker='.', alpha=affinity_val)"
   ]
  },
  {
   "cell_type": "markdown",
   "metadata": {},
   "source": [
    "## Positional heads & K-compositions"
   ]
  },
  {
   "cell_type": "code",
   "execution_count": null,
   "metadata": {},
   "outputs": [],
   "source": [
    "plt.figure(figsize=(10, 10))\n",
    "plt.gca().set_aspect('equal', adjustable='box')\n",
    "_ = plt.scatter(x=eigv_positivity[:, :, 1].view(-1), y=k_comp_max.view(-1), marker='.')#, alpha=affinity_val)"
   ]
  },
  {
   "cell_type": "code",
   "execution_count": null,
   "metadata": {},
   "outputs": [],
   "source": [
    "pos_score = get_positional_score(model)"
   ]
  },
  {
   "cell_type": "code",
   "execution_count": null,
   "metadata": {},
   "outputs": [],
   "source": [
    "positional_heads = topk_md(pos_score, 60, zipped=True) # 60 for gpt-j\n",
    "positional_heads = sorted(positional_heads, key=lambda x: x[-1], reverse=True)  # sorted by value\n",
    "positional_heads = sorted(positional_heads, key=lambda x: x[0]) # then by layer\n",
    "positional_heads\n",
    "pos_heads2val = OrderedDict(((l, h), v) for l, h, v in positional_heads)"
   ]
  },
  {
   "cell_type": "code",
   "execution_count": null,
   "metadata": {},
   "outputs": [],
   "source": [
    "for l, h, v in sorted(positional_heads, key=lambda x: x[-1], reverse=True):\n",
    "    wv, wo = get_head_weights(model, l, h, transpose=True)[2:]\n",
    "    print(f'{l}-{h}', v, eigv_positivity[l, h], get_eigv_pos(wo @ wv))"
   ]
  },
  {
   "cell_type": "code",
   "execution_count": null,
   "metadata": {},
   "outputs": [],
   "source": [
    "l1, h1 = 12, 10; wv1, wo1 = get_head_weights(model, l1, h1, transpose=False)[2:]"
   ]
  },
  {
   "cell_type": "code",
   "execution_count": null,
   "metadata": {},
   "outputs": [],
   "source": [
    "# all_heads = [(l, h) for l in range(l1//2, l1) for h in range(H)]\n",
    "heads0 = [(l, h) for l, h, _ in positional_heads]\n",
    "# heads0 = set(all_heads) - set(heads0)"
   ]
  },
  {
   "cell_type": "code",
   "execution_count": null,
   "metadata": {},
   "outputs": [],
   "source": [
    "wvs0, wos0 = zip(*[get_head_weights(model, l, h, transpose=True)[2:] for l, h in heads0])\n",
    "wvs0 = rearrange(list(wvs0), 'b e d -> b e d')\n",
    "wos0 = rearrange(list(wos0), 'b d e -> b d e')\n",
    "# heads0_outputs = rearrange([blocks[l].ln_1(_e[1]) for l, _ in heads0], 'b v e -> b v e')\n",
    "heads0_outputs = rearrange([_e[0] for l, _ in heads0], 'b v e -> b v e')\n",
    "heads0_outputs = heads0_outputs @ wvs0 @ wos0  # bve,bed,bde->bve"
   ]
  },
  {
   "cell_type": "code",
   "execution_count": null,
   "metadata": {},
   "outputs": [],
   "source": [
    "k_compositions = torch.zeros(L, H, len(heads0))\n",
    "for l1 in tqdm(range(L)):\n",
    "    # ln_e = blocks[l1].ln_1(_e[1])\n",
    "    # ln_heads0_outputs = blocks[l1].ln_1(heads0_outputs)\n",
    "    ln_e = _e[0]\n",
    "    ln_heads0_outputs = heads0_outputs\n",
    "    for h1 in range(H):\n",
    "        if l1 == 0:\n",
    "            eigv_pos = [0. for _ in range(len(heads0))]\n",
    "        else:\n",
    "            wq1, wk1, wv1, wo1 = get_head_weights(model, l1, h1, transpose=True)\n",
    "            q = ln_e @ wq1\n",
    "            k = ln_heads0_outputs @ wk1\n",
    "            M = k.transpose(-2, -1) @ q   # bdv,vd->bdd\n",
    "            eigv_pos = [get_eigv_pos(m) for m in M]\n",
    "            eigv_pos = [ep if l < l1 else 0. for ep, (l, _) in zip(eigv_pos, heads0)]\n",
    "        k_compositions[l1, h1] = torch.Tensor(eigv_pos)"
   ]
  },
  {
   "cell_type": "code",
   "execution_count": null,
   "metadata": {},
   "outputs": [],
   "source": [
    "plot_k_comp([(3, 11), (4, 8), (6, 10), (12, 10)], k_compositions_noln, pos_heads2val)"
   ]
  },
  {
   "cell_type": "code",
   "execution_count": null,
   "metadata": {},
   "outputs": [],
   "source": [
    "weBTAs = [_e[i].T @ _e[i] for i in range(2)]\n",
    "weBTAs = [e.to(attn0.k_proj.weight.device) for e in weBTAs]\n",
    "# weBTAs = [e.to('cpu') for e in weBTAs]"
   ]
  },
  {
   "cell_type": "code",
   "execution_count": null,
   "metadata": {},
   "outputs": [],
   "source": [
    "all_heads = list(product(range(L), range(H)))\n",
    "all_heads_by_layer = [(l, None) for l in range(L)]\n",
    "def heads_in_layers(layer_start, layer_stop, H=H): return list(product(range(layer_start, layer_stop), range(H)))"
   ]
  },
  {
   "cell_type": "code",
   "execution_count": null,
   "metadata": {},
   "outputs": [],
   "source": [
    "heads = [all_heads, all_heads]\n",
    "get_l1_start = lambda l: 0\n",
    "pattern, weBTA = 'vo kq', None\n",
    "# pattern, weBTA = 'e vo kq e', weBTAs[0]\n",
    "# pattern, weBTA = 'E vo kq E', weBTAs[1]\n",
    "with torch.no_grad(): _eigvs = compute_eigvs(model, heads, pattern, weBTA=weBTA, get_l1_start=get_l1_start)\n",
    "rpattern = pattern.replace(' ', '')[::-1]\n",
    "np.savez_compressed(f'{model_name.split(\"/\")[-1]}/eigvs_{rpattern}.npz', d=_eigvs.half())\n",
    "eigvs[rpattern] = _eigvs"
   ]
  },
  {
   "cell_type": "code",
   "execution_count": null,
   "metadata": {},
   "outputs": [],
   "source": [
    "from model_utils import Heads\n",
    "heads = Heads()"
   ]
  },
  {
   "cell_type": "code",
   "execution_count": 2894,
   "metadata": {},
   "outputs": [],
   "source": [
    "hds.QKov = k_comp_heads = [(6, 10), (4, 8), (3, 11), (3, 6)]\n",
    "hds.KQQK = hds.kqovOV = same_qk_heads = [(8, 7), (6, 2), (6, 7), (10, 7), (8, 13), (1, 7)]\n",
    "hds.kqOVov = intermediary_heads = [(8, 1), (12, 10), (13, 13), (15, 7), (16, 7), (11, 0)]"
   ]
  },
  {
   "cell_type": "code",
   "execution_count": null,
   "metadata": {},
   "outputs": [],
   "source": []
  },
  {
   "cell_type": "code",
   "execution_count": null,
   "metadata": {},
   "outputs": [],
   "source": [
    "l1, h1 = 8, 7\n",
    "# l1, h1 = 6, 2\n",
    "_eigvs = compute_eigvs(model, [(l1, h1), k_comp_heads, all_heads], 'e vo ov ov e', weBTA=weBTAs[0], l1_range_fn=lambda l0: range(0, l0))"
   ]
  },
  {
   "cell_type": "code",
   "execution_count": null,
   "metadata": {},
   "outputs": [],
   "source": [
    "plot_eigv(weightprod(model, [(6, 7), (6, 2)], 'e vo ov e', weBTA=weBTAs[0]), start_i=1)"
   ]
  },
  {
   "cell_type": "code",
   "execution_count": null,
   "metadata": {},
   "outputs": [],
   "source": [
    "l0, h0 = 4, 8\n",
    "eigvs.evoove[l0, h0, l1, h1]\n",
    "add_rows(topk_md(_eigvs[l0, h0, :, :, 0], 5), pos_score)"
   ]
  },
  {
   "cell_type": "code",
   "execution_count": null,
   "metadata": {},
   "outputs": [],
   "source": [
    "eigvs = Eigovs()\n",
    "for pattern in ['voov', 'qkkq', 'qkov']:\n",
    "    for we_str in ['', 'e', 'E']:\n",
    "        _pattern = we_str + pattern + we_str\n",
    "        setattr(eigvs, _pattern, torch.Tensor(np.load(f'{model_name.split(\"/\")[-1]}/eigvs_{_pattern}.npz')['d']))"
   ]
  },
  {
   "cell_type": "code",
   "execution_count": null,
   "metadata": {},
   "outputs": [],
   "source": [
    "rpattern = 'qkkq'\n",
    "# rpattern = 'voov'\n",
    "# rpattern = 'qkov'\n",
    "_eigvs = torch.Tensor(np.load(f'{model_name.split(\"/\")[-1]}/eigvs_{rpattern + \"_fro\"}.npz')['d'])\n",
    "if rpattern == rpattern[::-1]: _eigvs = complete_tril(_eigvs)\n",
    "setattr(eigvs, rpattern + '_fro', _eigvs)"
   ]
  },
  {
   "cell_type": "code",
   "execution_count": null,
   "metadata": {},
   "outputs": [],
   "source": [
    "# plt.figure(figsize=(20,10))\n",
    "x, y = eigvs.qkov[..., 0].view(-1), eigvs.qkov_fro[..., 0].view(-1)\n",
    "# x, y = x[x ]\n",
    "_ = plt.hist(x.numpy(), bins=40); plt.show()\n",
    "_ = plt.hist(y.numpy(), bins=40); plt.show()\n",
    "_ = plt.scatter(x, y, '.', alpha=0.05); plt.show()"
   ]
  },
  {
   "cell_type": "code",
   "execution_count": 2595,
   "metadata": {},
   "outputs": [],
   "source": [
    "rpattern = 'ekqOVove'\n",
    "if not hasattr(eigvs, rpattern): setattr(eigvs, rpattern, {})\n",
    "for l, h in todo_heads + [(12, 10)]:\n",
    "# for l, h in hds.kqOVov:\n",
    "#     if (l, h) not in [(11, 0)]: continue\n",
    "    getattr(eigvs, rpattern)[(l, h)] = torch.Tensor(np.load(f'{model_name.split(\"/\")[-1]}/eigvs_{rpattern}_{l}-{h}.npz')['d'])\n",
    "# rpattern = 'ekqovovove'\n",
    "# if not hasattr(eigvs, rpattern): setattr(eigvs, rpattern, {})\n",
    "# l1, h1 = 12, 10\n",
    "# for (l0, h0) in [(3, 11), (6, 10)]:\n",
    "#     key = ((l0, h0), (l1, h1))\n",
    "#     if key not in getattr(eigvs, rpattern):\n",
    "#         getattr(eigvs, rpattern)[key] = torch.Tensor(np.load(f'{model_name.split(\"/\")[-1]}/eigvs_{rpattern}_{l0}-{h0}_{l1}-{h1}.npz')['d'])"
   ]
  },
  {
   "cell_type": "code",
   "execution_count": null,
   "metadata": {},
   "outputs": [],
   "source": [
    "u = q @ v.T[0]\n",
    "show_topk(*u.topk(40, largest=True), indices_fn=tokenizer.convert_ids_to_tokens)"
   ]
  },
  {
   "cell_type": "code",
   "execution_count": null,
   "metadata": {},
   "outputs": [],
   "source": [
    "def get_pos_head_idx(l0, h0):\n",
    "    i= None\n",
    "    for i, (l, h, _) in  enumerate(positional_heads):\n",
    "        if (l, h) == (l0, h0): return i"
   ]
  },
  {
   "cell_type": "code",
   "execution_count": null,
   "metadata": {},
   "outputs": [],
   "source": [
    "np.savez_compressed(f'k_compositions_noln_{model_name.split(\"/\")[-1]}.npz', k_compositions=np.array(k_compositions), positional_heads=positional_heads)"
   ]
  },
  {
   "cell_type": "code",
   "execution_count": null,
   "metadata": {},
   "outputs": [],
   "source": [
    "# d = np.load(f\"k_compositions_{model_name.split('/')[-1]}.npz\")\n",
    "# k_compositions, positional_heads = torch.Tensor(d['k_compositions']), d['positional_heads']\n",
    "# k_compositions[k_compositions == -1] = 0\n",
    "# k_comp_max = k_compositions.max(-1)[0]\n",
    "# positional_heads = [[int(l), int(h), v] for l, h, v in positional_heads]\n",
    "# pos_heads2val = OrderedDict(((l, h), v) for l, h, v in positional_heads)\n",
    "k_comp_wmean = torch.einsum('lnk,k->ln', k_compositions, torch.Tensor(list(pos_heads2val.values()))) / \\\n",
    "    ((k_compositions != 0).sum(-1) + 1e-9)"
   ]
  },
  {
   "cell_type": "code",
   "execution_count": null,
   "metadata": {},
   "outputs": [],
   "source": [
    "# eigv_positivity_noln = compute_eigv_positivity(model, L, H, use_ln=False)\n",
    "# np.savez(f'eigv_positivity_noln_{model_name.split(\"/\")[-1]}.npz', a=eigv_positivity_noln.numpy())\n",
    "data = np.load(f\"eigv_positivity_{model_name.split('/')[-1]}.npz\")\n",
    "eigv_positivity_ov, eigv_positivity_qk = torch.Tensor(data['ov']), torch.Tensor(data['qk'])\n",
    "eigv_positivity = rearrange([torch.Tensor(data['qk']), torch.Tensor(data['ov'])], 'k l n -> l n k') # k=2"
   ]
  },
  {
   "cell_type": "markdown",
   "metadata": {},
   "source": [
    "## Interpret QK/OV circuits"
   ]
  },
  {
   "cell_type": "code",
   "execution_count": null,
   "metadata": {},
   "outputs": [],
   "source": [
    "p = wp.size(1) #// 2  # 1024\n",
    "_wp = wp[:, :p]\n",
    "_p = mlp(_wp.T) + _wp.T"
   ]
  },
  {
   "cell_type": "code",
   "execution_count": null,
   "metadata": {},
   "outputs": [],
   "source": [
    "layer, head = 13, 10\n",
    "wq, wk, wv, wo = get_head_weights(model, layer, head, transpose=True)\n",
    "with torch.no_grad():\n",
    "    eq = ek = e = blocks[layer].ln_1(_p)\n",
    "    q, k = eq @ wq, ek @ wk\n",
    "    m = q @ k.T\n",
    "m.diagonal(offset=-1).mean()"
   ]
  },
  {
   "cell_type": "code",
   "execution_count": null,
   "metadata": {},
   "outputs": [],
   "source": [
    "l0, h0 = 16, 2; wv0, wo0 = get_head_weights(model, l0, h0, transpose=False)[2:]\n",
    "l1, h1 = 19, 11; wv1, wo1 = get_head_weights(model, l1, h1, transpose=False)[2:]\n",
    "l2, h2 = 27, 17; wq2, wk2 = get_head_weights(model, l2, h2, transpose=False)[:2]"
   ]
  },
  {
   "cell_type": "code",
   "execution_count": null,
   "metadata": {},
   "outputs": [],
   "source": [
    "ln0 = blocks[l0].ln_1; ln1 = blocks[l1].ln_1; ln2 = blocks[l2].ln_1"
   ]
  },
  {
   "cell_type": "code",
   "execution_count": null,
   "metadata": {},
   "outputs": [],
   "source": [
    "ln0 = ln1 = ln2 = lambda x: x"
   ]
  },
  {
   "cell_type": "code",
   "execution_count": null,
   "metadata": {},
   "outputs": [],
   "source": [
    "with torch.no_grad():\n",
    "    q = wq2 @ T(ln2)(wo1 @ wv1 @ T(ln1)(wo0 @ wv0 @ T(ln0)(_e.T)))\n",
    "    k = wk2 @ T(ln2)(_e.T)\n",
    "    _m = q.T @ k"
   ]
  },
  {
   "cell_type": "code",
   "execution_count": null,
   "metadata": {},
   "outputs": [],
   "source": [
    "# 看head+mlp[0]的ov circuit所作的变换, 2-gram ov 15-3, NE (esp. places) qk 4-4, x->num qk 6-15\n",
    "# prev ov: 13-9, next num ov: 14-13, next word ov: 13-4, prepend space ov: 18-3/17-10, isa ov: 14-7, antonym ov: 16-14, copy ov 13-2\n",
    "# NE qk 6-9 who also has copy-like ov\n",
    "# subword num->whole word num qk and suffix token copy ov 3-6\n",
    "# 4-3: lower-layer 8-1 12-10 like head\n",
    "# 10-4: x->adv ov, e.g. including, resulting, subsequently, therefore\n",
    "# 8-13: place NE qk\n",
    "# **8-7: coref resolution qk, also very interesting ov\n",
    "# 6-2: same qk\n",
    "# 10-7: copy and next fused ov\n",
    "# 4-1: num, name and place qk\n",
    "# 24-11: copy ov, esp. num, prepend space\n",
    "# 22-14: suffix token copy ov\n",
    "# 21-8: copy ov, 1st letter to upper\n",
    "# 22-5: copy ov, prepend space, 1st letter to lower, to original form\n",
    "# 23-2: prefix token copy ov, prepend space, 1st letter to lower\n",
    "# 3-9: subword->whole word qk for word completion\n",
    "# 8-2: same qk; 7-9 year and place qk; 7-2 type->instance qk, dual to isa ov 14-7, can be used for coref resolution\n",
    "# 7-14: x->NE qk; 6-1: x->adv/adj qk; 6-0: x->noun qk; special token and symbol qk 1-7\n",
    "# next num qk 3-12 (work with prev ov), + 2-11 = same qk!; x->suffix qk 7-6 + 2-11\n",
    "# prev word+num qk 3-3 (work with next ov), general qk 3-11\n",
    "layer, head = 3, 12\n",
    "wq, wk, wv, wo = get_head_weights(model, layer, head, transpose=True)\n",
    "# layer0, head0 = 8, 7; wv0, wo0 = get_head_weights(model, layer0, head0, transpose=True)[2:]\n",
    "# if layer0 is not None: ek = blocks[layer].ln_1(blocks[layer0].ln_1(_e) @ wv0 @ wo0)\n",
    "\n",
    "with torch.no_grad():\n",
    "    ln = lambda x: x #blocks[layer].ln_1\n",
    "    e = ln(_e[0])\n",
    "    eq = ek = ln(_e[0])\n",
    "    # A, B = _wu, ln_f(e @ wv @ wo)\n",
    "    A, B = _wu @ wo.T, e @ wv\n",
    "    q, k = eq @ wq, ek @ wk"
   ]
  },
  {
   "cell_type": "code",
   "execution_count": null,
   "metadata": {},
   "outputs": [],
   "source": [
    "qk = True\n",
    "with torch.no_grad():  # ve,ed,de,ev->vv\n",
    "    # _m = ln(mlp(_we.T)) @ (wq.T @ wk) @ T(ln)(T(mlp)(_we)) if qk else _wu @ T(ln_f)(wo @ (wv @ T(ln)(T(mlp)(_we))))\n",
    "    _m = q @ k.T if qk else _wu @ ln_f(B @ wo).T"
   ]
  },
  {
   "cell_type": "code",
   "execution_count": null,
   "metadata": {},
   "outputs": [],
   "source": [
    "plot_eigv((k.T @ q).eig()[0] if qk else (B.T @ A).eig()[0], start_i=0)"
   ]
  },
  {
   "cell_type": "code",
   "execution_count": null,
   "metadata": {},
   "outputs": [],
   "source": [
    "m = _m  # q->k, output->input\n",
    "# m = _m.T  # k->q, input->output\n",
    "values, indices = m.topk(25, largest=True)"
   ]
  },
  {
   "cell_type": "code",
   "execution_count": null,
   "metadata": {
    "scrolled": true
   },
   "outputs": [],
   "source": [
    "indices_fn = tokenizer.convert_ids_to_tokens\n",
    "# indices_fn = partial(convert_ids_to_tokens, tokenizer=tokenizer)\n",
    "# show_topk.indices_fn = tokenizer.convert_ids_to_tokens\n",
    "# show_topk.indices_fn = partial(convert_ids_to_tokens, tokenizer=tokenizer)\n",
    "for i in values.abs().mean(1).topk(500).indices.tolist():\n",
    "    print(indices_fn(i), show_topk(values[i][:6], indices[i][:6], indices_fn=indices_fn))"
   ]
  },
  {
   "cell_type": "code",
   "execution_count": null,
   "metadata": {},
   "outputs": [],
   "source": [
    "i = tokenizer.encode(' nobody')[0]; print(tokenizer.convert_ids_to_tokens(i))\n",
    "show_topk(*m[i].topk(10))"
   ]
  },
  {
   "cell_type": "markdown",
   "metadata": {},
   "source": [
    "## Attribution"
   ]
  },
  {
   "cell_type": "code",
   "execution_count": 2868,
   "metadata": {
    "collapsed": true
   },
   "outputs": [
    {
     "name": "stdout",
     "output_type": "stream",
     "text": [
      "\n",
      "y G H -> G\n",
      "n C L -> C\n",
      "g d G -> d\n",
      "P x E -> x\n",
      "A u z -> u\n",
      "v L K -> L\n",
      "X i r -> i\n",
      "M V J -> V\n",
      "\n",
      "* u 0.556 {' u': 0.556, ' z': 0.215, ' A': 0.089} \t A u z -> u\n",
      "  L 0.211 {' v': 0.487, ' L': 0.211, ' K': 0.078} \t v L K -> L\n",
      "* i 0.398 {' i': 0.398, ' r': 0.215, ' X': 0.151} \t X i r -> i\n",
      "* V 0.447 {' V': 0.447, ' J': 0.295, ' M': 0.073} \t M V J -> V\n",
      "tensor(0.9679)\n",
      "\n",
      "D X I -> X\n",
      "C m U -> m\n",
      "e O c -> O\n",
      "y J Y -> J\n",
      "p v Q -> v\n",
      "l a t -> a\n",
      "M f A -> f\n",
      "q P f -> P\n",
      "\n",
      "  v 0.326 {' Q': 0.432, ' v': 0.326, ' p': 0.066} \t p v Q -> v\n",
      "* a 0.658 {' a': 0.658, ' l': 0.155, ' t': 0.101} \t l a t -> a\n",
      "* f 0.666 {' f': 0.666, ' A': 0.176, ' M': 0.082} \t M f A -> f\n",
      "  P 0.211 {' f': 0.705, ' P': 0.211, ' q': 0.026} \t q P f -> P\n",
      "tensor(0.8746)\n",
      "\n",
      "P f l -> f\n",
      "c a J -> a\n",
      "P y A -> y\n",
      "a O q -> O\n",
      "M u P -> u\n",
      "c I a -> I\n",
      "I t h -> t\n",
      "I p c -> p\n",
      "\n",
      "* u 0.404 {' u': 0.404, ' M': 0.226, ' P': 0.163} \t M u P -> u\n",
      "* I 0.487 {' I': 0.487, ' a': 0.203, ' c': 0.077} \t c I a -> I\n",
      "* t 0.719 {' t': 0.719, ' h': 0.153, ' I': 0.058} \t I t h -> t\n",
      "* p 0.736 {' p': 0.736, ' c': 0.142, ' I': 0.037} \t I p c -> p\n",
      "tensor(0.5652)\n"
     ]
    }
   ],
   "source": [
    "for data_tuple in data_tuples:\n",
    "    text, examples, inputs, tokens, bos_indices, eos_indices, answers, labels = data_tuple[:8]\n",
    "    print(text)\n",
    "    with torch.no_grad():\n",
    "        o = forward(model, inputs, labels=labels, by_head=True)\n",
    "        # so = sum_forward(model, o, reduce_fn=torch.cat, reshape=True)\n",
    "    loss, _ = show_predictions(text, examples, tokenizer, o.logits, bos_indices, eos_indices, answers, labels, \n",
    "                    topk=3, loss_reduction='mean', show_range=range(k_shot, len(examples)), sep='\\t')\n",
    "    print(loss)\n",
    "    attn_attr = {}\n",
    "    del data_tuple[8:]\n",
    "    data_tuple += [o, attn_attr]"
   ]
  },
  {
   "cell_type": "code",
   "execution_count": null,
   "metadata": {},
   "outputs": [],
   "source": [
    "plot_attn(get_argmax_attn_labels(o, 8, 7), tokens)"
   ]
  },
  {
   "cell_type": "code",
   "execution_count": 2922,
   "metadata": {},
   "outputs": [
    {
     "data": {
      "image/png": "[encoded data removed]",
      "text/plain": [
       "<Figure size 1080x1080 with 1 Axes>"
      ]
     },
     "metadata": {
      "needs_background": "light"
     },
     "output_type": "display_data"
    }
   ],
   "source": [
    "plot_attn(o.attentions[2][0, 15], tokens)"
   ]
  },
  {
   "cell_type": "code",
   "execution_count": null,
   "metadata": {},
   "outputs": [],
   "source": [
    "i = -1\n",
    "root = Node('[-1] root')\n",
    "root.data = AttrData(step=i)\n",
    "nodes = {}\n",
    "nodes[i] = root\n",
    "print_tree(root)"
   ]
  },
  {
   "cell_type": "code",
   "execution_count": null,
   "metadata": {},
   "outputs": [],
   "source": [
    "# 查看当前父节点的信息\n",
    "i = -1\n",
    "parent = nodes[i]#.parent.children[0]\n",
    "print(parent.name)\n",
    "attr = parent.data.attr\n",
    "if attr is not None:\n",
    "    list(zip(*topk_md(attr.head, 10)))\n",
    "    list(zip(*topk_md(attr.mlp, 5)))"
   ]
  },
  {
   "cell_type": "code",
   "execution_count": null,
   "metadata": {},
   "outputs": [],
   "source": [
    "# 选择下一步要归因的head/mlp，创建节点数据\n",
    "topk = 0\n",
    "layer, head = 1, 7 #list(zip(*topk_md(attr.head, 10)[:2]))[topk]\n",
    "# layer, head = np.array(list(zip(*topk_md(attr.head, 10)[:2])))[topk].T\n",
    "# layer, head = list(zip(*topk_md(attr.mlp, 10)))[topk][0], None\n",
    "label_type = [None, 'labels', 'argmax_labels', 'argmax_attn_labels', 'attn_labels'][-2]\n",
    "attribute_k = True\n",
    "if i == -1: assert label_type is not None # in ['labels', 'argmax_labels', 'argmax_attn_labels', 'attn_labels']\n",
    "else: label_type = None\n",
    "data = AttrData(step=i + 1, topk=topk, layer=layer, head=head, label_type=label_type, \n",
    "    attribute_k=label_type in ['argmax_attn_labels', 'attn_labels'] and attribute_k)\n",
    "print(data2str(data))"
   ]
  },
  {
   "cell_type": "code",
   "execution_count": null,
   "metadata": {},
   "outputs": [],
   "source": [
    "# 创建节点添加到树，并作为当前父节点\n",
    "i += 1\n",
    "node = Node(data2str(data), parent)\n",
    "node.data = data\n",
    "nodes[i] = node\n",
    "print([dt[0] for dt in data_tuples], k_shot)\n",
    "nodes[i].name = '*' + nodes[i].name\n",
    "print_tree(root)\n",
    "nodes[i].name = nodes[i].name[1:]  # strip prepending '*'"
   ]
  },
  {
   "cell_type": "code",
   "execution_count": null,
   "metadata": {},
   "outputs": [],
   "source": [
    "# 创建节点添加到树，并作为当前父节点\n",
    "i += 1\n",
    "node = Node(data2str(data), parent)\n",
    "node.data = data\n",
    "nodes[i] = node\n",
    "print([dt[0] for dt in data_tuples], k_shot)\n",
    "nodes[i].name = '*' + nodes[i].name\n",
    "print_tree(root)\n",
    "nodes[i].name = nodes[i].name[1:]  # strip prepending '*'"
   ]
  },
  {
   "cell_type": "code",
   "execution_count": null,
   "metadata": {},
   "outputs": [],
   "source": [
    "attrs, attrs2 = [], []\n",
    "for text, examples, inputs, tokens, bos_indices, eos_indices, answers, labels, o, attn_attr in data_tuples[:]:\n",
    "    fns = []; node = nodes[i]\n",
    "    while node!=root: fns.append(node2fn(model,node,o,labels,attn_attr)); node=node.parent if not node.data.label_type else root\n",
    "\n",
    "    (output_layer, _labels) = (nodes[i].data.layer, None) if len(fns) > 0 else (L, labels)\n",
    "    to_layer = max(output_layer) if isinstance(output_layer, Iterable) else output_layer\n",
    "    keys = ['attn_weights', 'mlp_mask', 'embed_mask'] # 'attn_weights' or 'neuron_mask'\n",
    "    x = OrderedDict((key, get_x(key, o, to_layer=to_layer)) for key in keys)\n",
    "    fwd_fn = partial(sum_forward, outputs=o, labels=_labels, output_layer=output_layer)\n",
    "    with Timer('attribute'): attr, ys, logits = attribute(fwd_fn, model, x, fns, num_points=4 if attribute_k else 8)\n",
    "\n",
    "    fwd_fn = partial(sum_forward, outputs=o, labels=_labels, reduce_fn=torch.cat, scaled=False)\n",
    "    with Timer('attribute2'): attr2 = attribute2(fwd_fn, model, x, fns)\n",
    "\n",
    "    plot_attr(attr, attr2)\n",
    "    # pd.concat([to_df(*topk_md(a[: to_layer], 10)) for a in [attr.head, attr2.head, attr.mlp, attr2.mlp]], axis=1)\n",
    "    attrs.append(attr); attrs2.append(attr2)\n",
    "    attn_attr[nodes[i].name] = attr.attn # associate non-averageable attn attr to current node in this tricky way\n",
    "        \n",
    "print(f'attribution step {i} results')\n",
    "attr, attr2 = reduce_objects(attrs, ['head', 'neuron', 'mlp']), reduce_objects(attrs2, ['head', 'mlp'])\n",
    "plot_attr(attr, attr2)\n",
    "pd.concat([to_df(*topk_md(a[: to_layer], min(to_layer, 10))) for a in [attr.head, attr2.head, attr.mlp, attr2.mlp]], axis=1)\n",
    "nodes[i].data.attr = attr"
   ]
  },
  {
   "cell_type": "code",
   "execution_count": null,
   "metadata": {},
   "outputs": [],
   "source": [
    "for l, h, v in zip(*topk_md(attr.head, 5)):\n",
    "    print('%d-%d %.3f K-composition = %.3f eigenvalue_positivity =' % \n",
    "        (l, h, get_conductivity(eigv_positivity012, l, h, plot=True, figsize=(2, 1)),\n",
    "        k_comp_max[l, h].item()), eigv_positivity[l, h])"
   ]
  },
  {
   "cell_type": "code",
   "execution_count": null,
   "metadata": {},
   "outputs": [],
   "source": [
    "# attr = nodes[i].data.attr\n",
    "for l, h, v in zip(*topk_md(attr.head, 2)):\n",
    "# for l, h in [(16, 6), (14, 6), (13, 2)]:\n",
    "    print(l, h, v, get_head_rank(attr2.head, l, h), eigv_positivity[l, h], pos_score[l, h], k_comp_wmean[l, h])\n",
    "    for text, examples, inputs, tokens, bos_indices, eos_indices, answers, labels, o, attn_attr in data_tuples[:]:\n",
    "        fns = []; node = nodes[i]\n",
    "        while node != root:\n",
    "            fns.append(node2fn(model, node, o, labels, attn_attr))\n",
    "            node = node.parent if not node.data.label_type else root\n",
    "        \n",
    "        x = OrderedDict((key, get_x(key, o, to_layer=l)) for key in keys)\n",
    "        fwd_fn = partial(sum_forward, outputs=o)\n",
    "        fn = partial(head_forward, layer=l, head=h, attn_weights=o.attentions[l],\n",
    "                            labels=labels if len(fns) == 0 else None)\n",
    "        # fn = partial(mlp_forward, layer=l, labels=labels)\n",
    "        post_fwd_fn = compose_forward_fns([fn] + fns, scaled=True)\n",
    "        _, ys, logits = attribute(fwd_fn, model, x, post_fwd_fn, num_points=3); print(ys)\n",
    "        if isinstance(logits, torch.Tensor) and logits.size(-1) == model.lm_head.out_features:\n",
    "            _ = show_predictions(text, examples, tokenizer, logits[-1:], bos_indices, eos_indices, answers, labels, \n",
    "                topk=4, show_range=range(k_shot, len(examples)), sep='\\t')\n",
    "\n",
    "        fig, axs = plt.subplots(1, 2, sharex=False, sharey=False, figsize=(20, 10))\n",
    "        aa = attn_attr[nodes[i].name][l, h]\n",
    "        # attn_labels = aa / (aa.sum(-1, keepdim=True) + 1e-9)  # ij->i1\n",
    "        for ax, a in zip(axs, [o.attentions[l][0, h], aa, ]): plot_attn(a, tokens, ax=ax)\n",
    "        plt.show()"
   ]
  },
  {
   "cell_type": "code",
   "execution_count": null,
   "metadata": {},
   "outputs": [],
   "source": [
    "group0 = [(1, 7), (6, 2), (8, 7)]; group1 = [(3, 6), (3, 11), (4, 8), (6, 10)]\n",
    "neuron = attr.neuron\n",
    "for (l0, h0), (l1, h1) in product(group0, group1):\n",
    "    print(f'{l0}-{h0}, {l1}-{h1}', nn.CosineSimilarity(0)(neuron[l0, h0].mean(0), neuron[l1, h1].mean(0)))\n",
    "print()\n",
    "for (l0, h0), (l1, h1) in combinations(group0, 2):\n",
    "    print(f'{l0}-{h0}, {l1}-{h1}', nn.CosineSimilarity(0)(neuron[l0, h0].mean(0), neuron[l1, h1].mean(0)))\n",
    "print()\n",
    "for (l0, h0), (l1, h1) in combinations(group1, 2):\n",
    "    print(f'{l0}-{h0}, {l1}-{h1}', nn.CosineSimilarity(0)(neuron[l0, h0].mean(0), neuron[l1, h1].mean(0)))"
   ]
  },
  {
   "cell_type": "code",
   "execution_count": null,
   "metadata": {},
   "outputs": [],
   "source": [
    "attr = nodes[i].data.attr\n",
    "for l, h, v in zip(*topk_md(attr.head, 1)):\n",
    "    # if l != 14: continue\n",
    "    print(l, h, v, get_head_rank(attr2.head, l, h))\n",
    "    for text, examples, inputs, tokens, bos_indices, eos_indices, answers, labels, o, attn_attr in data_tuples[1:2]:\n",
    "        x = OrderedDict((key, get_x(key, o, to_layer=l)) for key in keys)\n",
    "        fwd_fn = partial(sum_forward, outputs=o)\n",
    "        fn = partial(head_forward, layer=l, head=h, attn_weights=o.attentions[l],\n",
    "                            labels=labels if len(fns) == 0 else None)\n",
    "        post_fwd_fn = compose_forward_fns([fn] + fns, scaled=True)\n",
    "        _, ys, logits = attribute(fwd_fn, model, x, post_fwd_fn, num_points=3, batch_size=3); print(ys)\n",
    "        if logits.size(-1) == model.lm_head.out_features:\n",
    "            show_predictions(text, examples, tokenizer, logits[-1:], bos_indices, eos_indices, answers, labels, \n",
    "                topk=4, show_range=range(k_shot, len(examples)), sep='\\t')\n",
    "\n",
    "        fig, axs = plt.subplots(1, 2, sharex=False, sharey=False, figsize=(20, 10))\n",
    "        aa = attn_attr[nodes[i].name][l, h]\n",
    "        # attn_labels = aa / (aa.sum(-1, keepdim=True) + 1e-9)  # ij->i1\n",
    "        for ax, a in zip(axs, [o.attentions[l][0, h], aa, ]):\n",
    "            plot_attn(a, tokens, ax=ax)\n",
    "        plt.show()"
   ]
  },
  {
   "cell_type": "code",
   "execution_count": null,
   "metadata": {},
   "outputs": [],
   "source": [
    "# 对某层的attn_weights单独梯度归因\n",
    "attrs = []\n",
    "for attribute_layer in range(27):\n",
    "    forward_fn = partial(forward, inputs=inputs, labels=labels, loss_reduction='per_example_mean', attribute_layer=attribute_layer)\n",
    "    x = {'head_mask': torch.ones(1, H, o.hidden_states[0].size(1))}\n",
    "    def get_y(outputs): return -outputs.loss\n",
    "    attr, ys = attribute(forward_fn, x, get_y, num_points=8)\n",
    "    ys\n",
    "    attrs.append(attr)\n",
    "    \n",
    "head_attr2 = rearrange([attr['head_mask'] for attr in attrs], 'l n i -> l n i')\n",
    "head_attr2 = torch.einsum('lni->ln', head_attr2)\n",
    "list(zip(*topk_md(head_attr2, 10)))\n",
    "\n",
    "# 对某层的attn_weights单独梯度归因\n",
    "for attribute_layer, attribute_head, __ in list(zip(*topk_md(head_attr, 10)))[:3]: # heads 27-17, 17-4, 22-13\n",
    "    forward_fn = partial(forward, inputs=inputs, labels=labels, loss_reduction='per_example_mean', attribute_layer=attribute_layer)\n",
    "    x = {'attn_weights': o.attentions[attribute_layer]}\n",
    "    def get_y(outputs): return -outputs.loss\n",
    "    attr, ys = attribute(forward_fn, x, get_y)\n",
    "    # ys\n",
    "    print(attribute_layer, attribute_head)\n",
    "    plot_attn(attr['attn_weights'][attribute_head], tokens, figsize=(5, 5))\n",
    "    plt.show()"
   ]
  },
  {
   "cell_type": "markdown",
   "metadata": {},
   "source": [
    "以上用归因找到对最终预测结果起重要作用的上层heads（induction heads），  \n",
    "以下用归因找到对上层induction heads的attn_weights起重要作用的下层heads（Q-compostion or K-composition with induction heads）"
   ]
  },
  {
   "cell_type": "code",
   "execution_count": null,
   "metadata": {},
   "outputs": [],
   "source": [
    "# 找第2重要的induction head（17-4）的K-composition heads\n",
    "layer, head, _ = list(zip(*topk_md(head_attr, 10)))[1]\n",
    "layer, head\n",
    "aw_label = binarize(attn_attr[layer, head])\n",
    "wq, wk = get_head_weights(layer, head)[:2]"
   ]
  },
  {
   "cell_type": "code",
   "execution_count": null,
   "metadata": {},
   "outputs": [],
   "source": [
    "# 对head_output归因\n",
    "query = torch.einsum('bie,de->bid', o.hidden_states[layer], wq)\n",
    "head_outputs = rearrange(list(o.head_outputs), 'l 1 n i e -> 1 l n i e')[:, :layer]\n",
    "key = torch.einsum('blnje,de->blnjd', head_outputs, wk)\n",
    "attn_logits = torch.einsum('bid,blnjd->lnij', query, key) # b==1\n",
    "# i j l n -> n_label l n -> ln\n",
    "attn_head_attr = rearrange(attn_logits, 'l n i j -> i j l n')[aw_label == 1].mean(0)"
   ]
  },
  {
   "cell_type": "code",
   "execution_count": null,
   "metadata": {},
   "outputs": [],
   "source": [
    "_ = sns.heatmap(attn_head_attr)\n",
    "list(zip(*topk_md(attn_head_attr, 10)))"
   ]
  },
  {
   "cell_type": "code",
   "execution_count": null,
   "metadata": {},
   "outputs": [],
   "source": [
    "# 对attn_weights归因\n",
    "# h2: a higher-layer (induction) head (layer, head)\n",
    "# h1: lower-layer heads forming K-composition with h2\n",
    "# i: h2 query position, j: h2 key position, k: h1 query position\n",
    "head_inputs_ = rearrange(list(o.head_inputs), 'l 1 n j e -> l n j e')[:layer]\n",
    "attentions_ = attentions[:layer]\n",
    "if True: # faster version\n",
    "    key = head_inputs_ @ wk.T  # lnje,de->lnjd\n",
    "    lnkj_attn_logits = torch.einsum('bkd,lnjd->lnkj', query, key) # b==1\n",
    "    lnkij_attn_logits = torch.einsum('lnij,lnkj->lnkij', attentions_, j_attn_logits)\n",
    "else: # slower version, but easier to understand (similar to unseal)\n",
    "    lnije = torch.einsum('lnij,lnje->lnije', attentions_[:layer], head_inputs_)\n",
    "    key = lnije @ wk.T  # lnije,de->lnijd    \n",
    "    lnkij_attn_logits = torch.einsum('bkd,lnijd->lnkij', query, key)  # b==1\n",
    "# kij means k attends i in higher layer, i attends j in lower layer\n",
    "attn_attn_attr = torch.einsum('lnkij,ki->lnij', lnkij_attn_logits, aw_label)"
   ]
  },
  {
   "cell_type": "code",
   "execution_count": null,
   "metadata": {},
   "outputs": [],
   "source": [
    "for l, h, v in zip(*topk_md(attn_head_attr, 10)):\n",
    "    print(l, h, v)\n",
    "    fig, axs = plt.subplots(1, 3, sharex=False, sharey=False, figsize=(15, 5))\n",
    "    for ax, a in zip(axs, [attentions[l, h], attn_attn_attr[l, h], binarize(attn_attn_attr[l, h])]):\n",
    "        plot_attn(a, tokens, ax=ax)\n",
    "    plt.show()"
   ]
  },
  {
   "cell_type": "markdown",
   "metadata": {},
   "source": [
    "## Tune intermediary heads"
   ]
  },
  {
   "cell_type": "code",
   "execution_count": null,
   "metadata": {},
   "outputs": [],
   "source": [
    "d = defaultdict(int)\n",
    "pairs = []\n",
    "for l0, h0, l2, h2 in zip(*np.unravel_index(affinities.view(-1).topk(500).indices, affinities.size())):\n",
    "    if d[(l0, h0)] < 10:\n",
    "        d[(l0, h0)] += 1\n",
    "        pairs.append(((l0, h0), (l2, h2)))\n",
    "        if len(pairs) == 100: break\n",
    "Counter([(l0, h0) for (l0, h0), (l2, h2) in pairs]).most_common()\n",
    "random.shuffle(pairs)\n",
    "train_set, val_set = pairs[:-20], pairs[-20:]"
   ]
  },
  {
   "cell_type": "code",
   "execution_count": null,
   "metadata": {},
   "outputs": [],
   "source": [
    "def w_forward(head_pairs, wv1, wo1, alpha=0.1, compute_eigv=False):\n",
    "    wvs0, wos0, wqs2, wks2 = zip(*[get_head_weights(model, l0, h0, transpose=True)[2:] +\n",
    "                                get_head_weights(model, l2, h2, transpose=True)[:2] \n",
    "                                for (l0, h0), (l2, h2) in head_pairs])\n",
    "    wvs0, wos0 = rearrange(list(wvs0), 'b e d -> b e d'), rearrange(list(wos0), 'b d e -> b d e')\n",
    "    wqs2, wks2 = rearrange(list(wqs2), 'b e d -> b e d'), rearrange(list(wks2), 'b e d -> b e d')\n",
    "    wvs0, wos0, wqs2, wks2 = wvs0.to(device), wos0.to(device), wqs2.to(device), wks2.to(device)\n",
    "    wvo1 = wv1 @ wo1\n",
    "    q, kT = wvs0 @ wos0 @ wvo1 @ wqs2, wks2.transpose(-2, -1)\n",
    "    comp_norm = (q @ kT).norm(dim=(-2, -1)).mean()\n",
    "    # loss = -comp_norm / wvo1.norm()\n",
    "    loss = -(comp_norm - alpha * wvo1.norm())\n",
    "    eigvs = [plot_eigv(m.eig()[0], plot=False) for m in kT @ q] if compute_eigv else None\n",
    "    return loss, comp_norm, eigvs\n",
    "    \n",
    "def eval(dataset, wv1, wo1, bsz=8, compute_eigv=False, e=None, wu=None):\n",
    "    losses, eigvs, comp_norms = [], [], []\n",
    "    for i in range(len(dataset) // bsz):\n",
    "        loss, comp_norm, _eigvs = w_forward(dataset[i * bsz: (i + 1) * bsz], wv1, wo1, compute_eigv=compute_eigv)\n",
    "        losses.append(loss.item())\n",
    "        comp_norms.append(comp_norm.item())\n",
    "        if compute_eigv: eigvs += _eigvs\n",
    "    if compute_eigv:\n",
    "        print(torch.Tensor(eigvs))\n",
    "        # e = model.transformer.h[l1].ln_1(_e)\n",
    "        A, B = wu @ wo1.T.to('cpu'), e @ wv1.to('cpu')\n",
    "        print('wvo1 eigv_pos =', plot_eigv((B.T @ A).eig()[0], plot=False))\n",
    "    return round(sum(losses) / len(losses), 4), round(sum(comp_norms) / len(comp_norms), 4), round((wv1 @ wo1).norm().item(), 4)"
   ]
  },
  {
   "cell_type": "code",
   "execution_count": null,
   "metadata": {},
   "outputs": [],
   "source": [
    "device = 'cuda'\n",
    "wv1, wo1 = get_head_weights(model, l1, h1, transpose=True)[2:]\n",
    "wv1, wo1 = wv1.detach().clone(), wo1.detach().clone()\n",
    "wv1, wo1 = wv1.to(device), wo1.to(device)\n",
    "_ = wv1.requires_grad_(True); _ = wo1.requires_grad_(True)\n",
    "optimizer = optim.AdamW([wv1, wo1], lr=1e-4)\n",
    "bsz, eval_bsz = 8, 4\n",
    "# test(model, data_tuples)\n",
    "# test(model, data_tuples, replaced_head=(l1, h1), wv=wv1.to('cpu'), wo=wo1.to('cpu'))\n",
    "# test(model, data_tuples, replaced_head=(l1, h1), wv=wv1.to('cpu'), wo=2*wo1.to('cpu'))\n",
    "with torch.no_grad(): print('Epoch', -1, 'train', eval(train_set, wv1, wo1), \n",
    "                        'val', eval(val_set, wv1, wo1, bsz=eval_bsz, compute_eigv=True, e=e, wu=wu))\n",
    "for epoch in range(2):\n",
    "    random.shuffle(train_set)\n",
    "    for i in tqdm(range(len(train_set) // bsz)):\n",
    "        optimizer.zero_grad()\n",
    "        loss = w_forward(train_set[i * bsz: (i + 1) * bsz], wv1, wo1)[0]\n",
    "        loss.backward()\n",
    "        optimizer.step()\n",
    "    with torch.no_grad(): print('Epoch', epoch, 'train', eval(train_set, wv1, wo1), \n",
    "                            'val', eval(val_set, wv1, wo1, bsz=eval_bsz, compute_eigv=True, e=e, wu=wu),)\n",
    "                            # test(model, data_tuples, replaced_head=(l1, h1), wv=wv1.to('cpu'), wo=wo1.to('cpu')))"
   ]
  },
  {
   "cell_type": "code",
   "execution_count": null,
   "metadata": {},
   "outputs": [],
   "source": []
  },
  {
   "cell_type": "code",
   "execution_count": null,
   "metadata": {},
   "outputs": [],
   "source": []
  },
  {
   "cell_type": "code",
   "execution_count": null,
   "metadata": {},
   "outputs": [],
   "source": []
  },
  {
   "cell_type": "code",
   "execution_count": null,
   "metadata": {},
   "outputs": [],
   "source": []
  },
  {
   "cell_type": "code",
   "execution_count": null,
   "metadata": {},
   "outputs": [],
   "source": [
    "all_attrs, all_yss = {}, {}"
   ]
  },
  {
   "cell_type": "code",
   "execution_count": null,
   "metadata": {},
   "outputs": [],
   "source": [
    "def qk_forward(model, outputs, layer, head, aw_label, attr_x, **mask_kwarges):\n",
    "    ln = blocks[layer].ln_1\n",
    "    kwargs = {x: ln(outputs.hidden_states[layer]) for x in ['hq', 'hk', 'hv']}\n",
    "    kwargs[attr_x] = scaled_ln(ln, sum_forward(model, outputs, **mask_kwarges).hidden_states[0], scale=0.01) # attr_x in ['hq', 'hk']\n",
    "    aw = attn_forward(blocks[layer], **kwargs)[1][:, head]\n",
    "    aw_label_sum = torch.einsum('ij->', aw_label)\n",
    "    # print('aw_label_sum =', aw_label_sum)\n",
    "    mean_prob = torch.einsum('bij,ij->b', aw, aw_label) / aw_label_sum\n",
    "    mean_logprob = torch.einsum('bij,ij->b', (aw + 1e-8).log(), aw_label) / aw_label_sum\n",
    "    print('mean_prob =', mean_prob)\n",
    "    print('mean_logprob =', mean_logprob)\n",
    "    return mean_prob, mean_logprob"
   ]
  },
  {
   "cell_type": "code",
   "execution_count": null,
   "metadata": {},
   "outputs": [],
   "source": []
  },
  {
   "cell_type": "code",
   "execution_count": null,
   "metadata": {},
   "outputs": [],
   "source": [
    "# ig attribution\n",
    "pred_attn = False\n",
    "keys = ['aw'] #  'attn_out', 'head_out', 'attn_output', 'ffn_output'\n",
    "keys2 = [] #['head_output', 'attn_output']\n",
    "layer_range = (0, layer1) if pred_attn else (0, layer_out)\n",
    "attrs, grads = defaultdict(list), defaultdict(list)\n",
    "num_points, batch_size = 5, 5\n",
    "    \n",
    "for i in tqdm(range(*layer_range)):\n",
    "    am = get_attn_module(blocks[i])\n",
    "    scaled_emb, step, grad = {}, {}, {}\n",
    "    embs = [getattr(o, keys[0])[i]]\n",
    "    if len(embs) == 1 and keys[0] != 'aw': all_embs[task_name][keys[0]] = embs[0][0]\n",
    "        \n",
    "    for key, emb in zip(keys, embs):\n",
    "        scaled_emb[key], step[key] = scaled_input(emb, num_points)\n",
    "        _ = scaled_emb[key].requires_grad_(True)\n",
    "        grad[key] = None\n",
    "    if i == layer0: ys = []\n",
    "    for j in range(0, num_points, batch_size):\n",
    "        sliced_scaled_emb = [scaled_emb[key][j: j + batch_size] for key in keys]\n",
    "#         for key in keys2: setattr(am if key in ['head_output'] else blocks[i], key, None)\n",
    "        outputs = forward(am, keys, values=sliced_scaled_emb, exit_module=blocks[layer1+1] if pred_attn else None)\n",
    "        y = globalize(outputs.attentions[layer2])[:, head2, src, tgt] if pred_attn else outputs.logits.softmax(-1)[:, src, pred_label]\n",
    "#         h1 = ln1(outputs.hidden_states[12])\n",
    "#         y = tgt_attn_loss(h1, _attn1, key0, residual=None, temperature=20)\n",
    "        if i == layer0: ys.append(y)\n",
    "#         if keys2:\n",
    "#             sliced_scaled_emb2 = [getdelattr(am if key in ['head_output'] else blocks[i], key) for key in keys2]\n",
    "#             sliced_scaled_emb += sliced_scaled_emb2\n",
    "#             if j == num_points - batch_size: step.update({key: emb[-1:]/num_points for key, emb in zip(keys2, sliced_scaled_emb2)})\n",
    "        sliced_grads = torch.autograd.grad(y.flatten().unbind(), sliced_scaled_emb)\n",
    "        for gi, key in enumerate(keys + keys2):\n",
    "            sliced_grad = sliced_grads[gi].sum(dim=0, keepdim=True)\n",
    "            grad[key] = sliced_grad if key not in grad or grad[key] is None else grad[key] + sliced_grad\n",
    "    for key in keys + keys2:\n",
    "        attr = grad[key] * step[key]\n",
    "        attrs[key].append(attr.data)\n",
    "        grads[key].append(grad[key].data)\n",
    "\n",
    "if len(keys) == 1:\n",
    "    key = keys[0]\n",
    "    all_attrs[task_name][key + str(int(pred_attn))] = torch.cat([globalize(a) for a in attrs[key]]) \\\n",
    "        if key == 'aw' else attrs[key][0][0]\n",
    "#     for key in keys2: attrs[key] = torch.cat(attrs[key])"
   ]
  },
  {
   "cell_type": "code",
   "execution_count": null,
   "metadata": {},
   "outputs": [],
   "source": [
    "attrs, yss = all_attrs[key], all_yss[key]"
   ]
  },
  {
   "cell_type": "code",
   "execution_count": null,
   "metadata": {},
   "outputs": [],
   "source": [
    "dlosses = [(ys[0] - ys[-1]).item() for ys in yss]\n",
    "np.array(dlosses)\n",
    "_ = plt.bar(range(len(dlosses)), dlosses, 0.3)"
   ]
  },
  {
   "cell_type": "code",
   "execution_count": null,
   "metadata": {},
   "outputs": [],
   "source": [
    "# nattrs = [attr / abs(dloss) for attr, dloss in zip(attrs, dlosses)]\n",
    "nattrs = [attr / attr.abs().mean() for attr in attrs]"
   ]
  },
  {
   "cell_type": "code",
   "execution_count": null,
   "metadata": {},
   "outputs": [],
   "source": [
    "mean_nattrs = torch.cat([nattr.mean(dim=-1) for nattr in nattrs])"
   ]
  },
  {
   "cell_type": "code",
   "execution_count": null,
   "metadata": {},
   "outputs": [],
   "source": [
    "_ = sns.heatmap(mean_nattrs, cbar=True)"
   ]
  },
  {
   "cell_type": "code",
   "execution_count": null,
   "metadata": {},
   "outputs": [],
   "source": [
    "l, h = 6, 6\n",
    "# attn = o.attentions[l][0, h]\n",
    "attn = attrs[l][0, h]\n",
    "plot_attn(attn, tokens)"
   ]
  },
  {
   "cell_type": "markdown",
   "metadata": {},
   "source": [
    "QK circuit: $W_E^T W_Q^T W_K W_E$  \n",
    "OV circuit: $W_U W_O W_V W_E$"
   ]
  },
  {
   "cell_type": "code",
   "execution_count": null,
   "metadata": {},
   "outputs": [],
   "source": [
    "def plot_eigenvalues(evs, ncols=4):\n",
    "    fig, axs = plt.subplots(H // ncols, ncols, sharex=True, sharey=True, figsize=(20, 5))\n",
    "    for i, (e, v) in enumerate(evs):\n",
    "        e = e.detach().numpy()\n",
    "        _ = axs[i // ncols][i % ncols].plot(e[:,0], e[:,1], '.')"
   ]
  },
  {
   "cell_type": "code",
   "execution_count": null,
   "metadata": {},
   "outputs": [],
   "source": [
    "WQK, WOV = [], []\n",
    "for l in tqdm(range(L)):\n",
    "    WQK.append([combine_weights(get_head_weights(l, h), qk=True) for h in range(H)])\n",
    "    WOV.append([combine_weights(get_head_weights(l, h), qk=False) for h in range(H)])"
   ]
  },
  {
   "cell_type": "code",
   "execution_count": null,
   "metadata": {},
   "outputs": [],
   "source": [
    "WQK = [[combine_weights(get_head_weights(l, h), qk=True) for h in range(H)] for l in tqdm(range(L))]\n",
    "WOV = [[combine_weights(get_head_weights(l, h), qk=False) for h in range(H)] for l in tqdm(range(L))]"
   ]
  },
  {
   "cell_type": "code",
   "execution_count": null,
   "metadata": {},
   "outputs": [],
   "source": [
    "# rwqk2, rwov1 = torch.rand(hidden_size, hidden_size) * 10, torch.rand(hidden_size, hidden_size) * 100\n",
    "\n",
    "# rwq, rwk = torch.rand(hidden_size // H, hidden_size)*10, torch.rand(hidden_size // H, hidden_size)\n",
    "# rwo, rwv = torch.rand(hidden_size, hidden_size // H), torch.rand(hidden_size // H, hidden_size)*100\n",
    "# rwqk2, rwov1 = rwq.t().mm(rwk), rwo.mm(rwv)\n",
    "\n",
    "# rwqk2.mm(rwov1).norm() / (rwqk2.norm() * rwov1.norm())"
   ]
  },
  {
   "cell_type": "markdown",
   "metadata": {},
   "source": [
    "K-composition: $\\text{Id} \\otimes A^{h_{-1}} \\otimes (W_E^T W_{QK}^h W_{OV}^{h_{-1}} W_E)$, measured by Frobenius norm ratio: $||W_{QK}^{h_2}W_{OV}^{h_1}||_F \\mathbin{/} (||W_{QK}^{h_2}||_F ||W_{OV}^{h_1}||_F)$"
   ]
  },
  {
   "cell_type": "code",
   "execution_count": null,
   "metadata": {},
   "outputs": [],
   "source": [
    "dl = 3\n",
    "kcomp3 = np.array([[[(WQK[l][h2].mm(WOV[l-dl][h1]).norm() / (WQK[l][h2].norm() * WOV[l-dl][h1].norm())).item() \n",
    "          for h1 in range(H)] for h2 in range(H)] for l in tqdm(range(dl, L))])"
   ]
  },
  {
   "cell_type": "code",
   "execution_count": null,
   "metadata": {},
   "outputs": [],
   "source": [
    "def scatter_plot(a): a = a.detach().numpy(); plt.plot(a[:,0], a[:,1], '.')"
   ]
  },
  {
   "cell_type": "code",
   "execution_count": null,
   "metadata": {},
   "outputs": [],
   "source": [
    "chains = [\n",
    "    [(4, 14), (3, 3)],  # 0.24024388\n",
    "    [(5, 4), (2, 2)],  # 0.21996385\n",
    "    [(5, 4), (3, 7)],  # 0.31488344\n",
    "    [(6, 6), (3, 3)],  # 0.27304175\n",
    "    [(6, 6), (5, 3)],  # 0.12567882\n",
    "]"
   ]
  },
  {
   "cell_type": "code",
   "execution_count": null,
   "metadata": {},
   "outputs": [],
   "source": [
    "(l2, h2), (l1, h1) = chains[4]"
   ]
  },
  {
   "cell_type": "code",
   "execution_count": null,
   "metadata": {},
   "outputs": [],
   "source": [
    "e = WQK[l2][h2].mm(WOV[l1][h1]).eig()[0]"
   ]
  },
  {
   "cell_type": "code",
   "execution_count": null,
   "metadata": {},
   "outputs": [],
   "source": [
    "e[:10] = 0"
   ]
  },
  {
   "cell_type": "code",
   "execution_count": null,
   "metadata": {},
   "outputs": [],
   "source": [
    "scatter_plot(e)"
   ]
  },
  {
   "cell_type": "code",
   "execution_count": null,
   "metadata": {},
   "outputs": [],
   "source": [
    "e = WOV[l2][h2].eig()[0]"
   ]
  },
  {
   "cell_type": "code",
   "execution_count": null,
   "metadata": {},
   "outputs": [],
   "source": [
    "scatter_plot(e)"
   ]
  },
  {
   "cell_type": "code",
   "execution_count": null,
   "metadata": {},
   "outputs": [],
   "source": [
    "a = kcomp3[2]; ind = np.unravel_index(a.argmax(), a.shape); ind, a[ind]"
   ]
  },
  {
   "cell_type": "code",
   "execution_count": null,
   "metadata": {},
   "outputs": [],
   "source": [
    "kcomp = np.array(kcomp)\n",
    "sns.heatmap(kcomp, cbar=True)"
   ]
  },
  {
   "cell_type": "code",
   "execution_count": null,
   "metadata": {},
   "outputs": [],
   "source": [
    "wov_evs = [torch.eig(combine_weights(get_head_weights(3, h), qk=False, with_embedding=True, BA=True)) for h in tqdm(range(H))]"
   ]
  },
  {
   "cell_type": "code",
   "execution_count": null,
   "metadata": {},
   "outputs": [],
   "source": [
    "plot_eigenvalues(wov_evs)"
   ]
  },
  {
   "cell_type": "code",
   "execution_count": null,
   "metadata": {},
   "outputs": [],
   "source": [
    "w_eu = w_e.matmul(w_u)"
   ]
  },
  {
   "cell_type": "code",
   "execution_count": null,
   "metadata": {},
   "outputs": [],
   "source": [
    "def mlp(layer): return lambda x: blocks[layer].mlp(blocks[layer].ln_2(x))\n",
    "def mlp0(layer): return lambda x: blocks[layer].mlp(x)"
   ]
  },
  {
   "cell_type": "code",
   "execution_count": null,
   "metadata": {},
   "outputs": [],
   "source": [
    "def attn(layer): return lambda x: blocks[layer].attn(blocks[layer].ln_1(x))"
   ]
  },
  {
   "cell_type": "code",
   "execution_count": null,
   "metadata": {},
   "outputs": [],
   "source": [
    "w_e2 = w_e * 50\n",
    "w_eu2 = (w_e2 + mlp0(L-1)(w_e2)).matmul(w_u)"
   ]
  },
  {
   "cell_type": "code",
   "execution_count": null,
   "metadata": {},
   "outputs": [],
   "source": [
    "# grad attribution\n",
    "pred_attn = False\n",
    "keys = ['aw'] #  'attn_out', 'head_out', 'attn_output', 'ffn_output'\n",
    "keys2 = [] #['head_output', 'attn_output']\n",
    "layer_range = (0, layer1) if pred_attn else (0, layer_out)\n",
    "attrs, grads = defaultdict(list), defaultdict(list)\n",
    "num_points, batch_size = 5, 5\n",
    "    \n",
    "for i in tqdm(range(*layer_range)):\n",
    "    am = get_attn_module(blocks[i])\n",
    "    scaled_emb, step, grad = {}, {}, {}\n",
    "    embs = [getattr(o, keys[0])[i]]\n",
    "    if len(embs) == 1 and keys[0] != 'aw': all_embs[task_name][keys[0]] = embs[0][0]\n",
    "        \n",
    "    for key, emb in zip(keys, embs):\n",
    "        scaled_emb[key], step[key] = scaled_input(emb, num_points)\n",
    "        _ = scaled_emb[key].requires_grad_(True)\n",
    "        grad[key] = None\n",
    "    if i == layer0: ys = []\n",
    "    for j in range(0, num_points, batch_size):\n",
    "        sliced_scaled_emb = [scaled_emb[key][j: j + batch_size] for key in keys]\n",
    "#         for key in keys2: setattr(am if key in ['head_output'] else blocks[i], key, None)\n",
    "        outputs = forward(am, keys, values=sliced_scaled_emb, exit_module=blocks[layer1+1] if pred_attn else None)\n",
    "        y = globalize(outputs.attentions[layer2])[:, head2, src, tgt] if pred_attn else outputs.logits.softmax(-1)[:, src, pred_label]\n",
    "#         h1 = ln1(outputs.hidden_states[12])\n",
    "#         y = tgt_attn_loss(h1, _attn1, key0, residual=None, temperature=20)\n",
    "        if i == layer0: ys.append(y);\n",
    "#         if keys2:\n",
    "#             sliced_scaled_emb2 = [getdelattr(am if key in ['head_output'] else blocks[i], key) for key in keys2]\n",
    "#             sliced_scaled_emb += sliced_scaled_emb2\n",
    "#             if j == num_points - batch_size: step.update({key: emb[-1:]/num_points for key, emb in zip(keys2, sliced_scaled_emb2)})\n",
    "        sliced_grads = torch.autograd.grad(y.flatten().unbind(), sliced_scaled_emb)\n",
    "        for gi, key in enumerate(keys + keys2):\n",
    "            sliced_grad = sliced_grads[gi].sum(dim=0, keepdim=True)\n",
    "            grad[key] = sliced_grad if key not in grad or grad[key] is None else grad[key] + sliced_grad\n",
    "    for key in keys + keys2:\n",
    "        attr = grad[key] * step[key]\n",
    "        attrs[key].append(attr.data)\n",
    "        grads[key].append(grad[key].data)\n",
    "\n",
    "if len(keys) == 1:\n",
    "    key = keys[0]\n",
    "    all_attrs[task_name][key + str(int(pred_attn))] = torch.cat([globalize(a) for a in attrs[key]]) \\\n",
    "        if key == 'aw' else attrs[key][0][0]\n",
    "#     for key in keys2: attrs[key] = torch.cat(attrs[key])"
   ]
  },
  {
   "cell_type": "code",
   "execution_count": null,
   "metadata": {},
   "outputs": [],
   "source": [
    "plot_attn(globalize(attentions[8])[0, 2], figsize=(20, 20))"
   ]
  },
  {
   "cell_type": "code",
   "execution_count": null,
   "metadata": {},
   "outputs": [],
   "source": [
    "for i, token in enumerate(tokens):\n",
    "    if token in ['Ċ', '^']: print()\n",
    "    else: print('%2d %s' %(i, token), end='  ')\n",
    "tgt_positions"
   ]
  },
  {
   "cell_type": "code",
   "execution_count": null,
   "metadata": {},
   "outputs": [],
   "source": [
    "a = all_attrs[task_name]['aw' + str(int(pred_attn))]\n",
    "a = a / a.view(a.size(0), -1).norm(dim=1)[:, None, None, None] #.view(a.size(0), 1, 1, 1)\n",
    "if not pred_attn:\n",
    "    src_indices, tgt_indices = [src], [tgt]\n",
    "    _a = a[:, :, src_indices, tgt_indices]\n",
    "    values, indices = _a.view(_a.size(0), H, -1).topk(1, dim=-1)\n",
    "    show_top_heads(values, indices, src_indices=src_indices, tgt_indices=tgt_indices)\n",
    "    print()\n",
    "# src_indices = numpy(ans_positions[:])\n",
    "# src_indices = numpy(tgt_positions + 1)\n",
    "# tgt_indices = tgt_positions\n",
    "_a = a[:, :, src_indices, :]\n",
    "values, indices = _a.view(_a.size(0), H, -1).topk(nrows // 2, dim=-1)\n",
    "show_top_heads(values, indices, src_indices=src_indices)#, tgt_indices=tgt_indices)"
   ]
  },
  {
   "cell_type": "code",
   "execution_count": null,
   "metadata": {},
   "outputs": [],
   "source": [
    "def show_top_heads(values, indices, src_indices=None, tgt_indices=None, topk=15):\n",
    "    val, ind = values.sum(dim=-1).view(-1).topk(topk)\n",
    "    val, ind = numpy(val), unravel_index(ind, values.size()[:-1])\n",
    "    for (l, h), v in zip(ind, val):\n",
    "        _l = l + layer_range[0]\n",
    "        if _l <= 3: continue\n",
    "        top_links = list(zip(unravel_index(indices[l, h], (seq_len, seq_len)), numpy(values[l, h], decimals=3)))\n",
    "        if src_indices is not None: top_links = [([src_indices[_s], _t], _v) for [_s, _t], _v in top_links]\n",
    "        if tgt_indices is not None: top_links = [([_s, tgt_indices[_t]], _v) for [_s, _t], _v in top_links]\n",
    "        top_links = [([_s, _t], _v, numpy(globalize(attentions[_l]) * 100, decimals=1)[0, h, _s, _t]) for [_s, _t], _v in top_links]\n",
    "        _top_links = [([_s, _t], _v, _a) if len(src_indices) > 1 else (_t, _v, _a) for [_s, _t], _v, _a in top_links]\n",
    "        print('%d-%d\\t%.3f' % (_l, h, v), _top_links, end='\\t') \n",
    "        if len(top_links) == 1:\n",
    "            probs = numpy(globalize(attentions[_l])[0, h, src])\n",
    "            for i in cand_range:\n",
    "                if i == tgt: print('*', end='')\n",
    "                print(probs[i], end=' ')\n",
    "        print()"
   ]
  },
  {
   "cell_type": "code",
   "execution_count": null,
   "metadata": {},
   "outputs": [],
   "source": [
    "a = globalize(attentions[layer2])[:, head2]\n",
    "# a = a.softmax(-1)\n",
    "a = torch.cat([a[:, i - 1: i, i - ncols - 2: i + 1] for i in ans_positions], dim=1)\n",
    "# a = a.softmax(-1)\n",
    "loss = a.view(a.size(0), -1)[:, tgt_positions[1:]].mean(dim=1)\n",
    "print(loss)\n",
    "plot_tgt_attn(a[0])"
   ]
  },
  {
   "cell_type": "code",
   "execution_count": null,
   "metadata": {},
   "outputs": [],
   "source": [
    "wvos = [torch.matmul(*get_head_weights(l, h)[2:]) for l, h in [(11, 8), (12, 18)]]\n",
    "wqk = torch.matmul(*get_head_weights(13, 2)[:2])\n",
    "ww = wvos[0].matmul(wvos[1]).matmul(wqk)"
   ]
  },
  {
   "cell_type": "code",
   "execution_count": null,
   "metadata": {},
   "outputs": [],
   "source": [
    "ww.norm(dim=0).topk(40).indices"
   ]
  },
  {
   "cell_type": "code",
   "execution_count": null,
   "metadata": {},
   "outputs": [],
   "source": [
    "show_topk(*aw.view(-1).topk(20, largest=False), indices_fn=indices_fn)"
   ]
  },
  {
   "cell_type": "code",
   "execution_count": null,
   "metadata": {},
   "outputs": [],
   "source": [
    "wvos2 = [torch.matmul(*get_head_weights(l, h)[2:]) for l, h in [(9, 9), (10, 1), (12, 18)]]\n",
    "ww2 = reduce(torch.matmul, wvos2 + [wqk])"
   ]
  },
  {
   "cell_type": "code",
   "execution_count": null,
   "metadata": {},
   "outputs": [],
   "source": [
    "attn_output1, out = None, None\n",
    "out_proj_w = self1.out_proj.weight.view(hidden_size, H, -1).permute(1, 2, 0).unsqueeze(0)\n",
    "head_mask = torch.zeros(H, seq_len, seq_len)\n",
    "head_mask[[18,]] = 1\n",
    "# head_mask[:] = 1\n",
    "attn1 = attentions[layer1]\n",
    "_attn1, __attn1 = torch.zeros_like(attn1), torch.zeros_like(attn1)\n",
    "for i in range(0, nrows):\n",
    "    _attn1[:, :, arrow_positions[i], ans_positions[i]] = 1\n",
    "    __attn1[:, :, arrow_positions[i], ans_positions[:i]] = 1 / i if i > 0 else 0\n",
    "    \n",
    "def ffn(layer, x): return blocks[layer].mlp(blocks[layer].ln_2(x))\n",
    "\n",
    "def tgt_attn_loss(h1, attn1, key0, residual=None, attn_output_w=1, apply_softmax=True, temperature=10, \n",
    "                  positions=tgt_positions, plot=False, ax=None):\n",
    "    def get_attn(attn_output):\n",
    "        out = (residual if residual is not None else 0) + attn_output * attn_output_w\n",
    "        if residual is not None: out = out + ffn(layer1, out)\n",
    "        if residual is not None: out = ln2(out)\n",
    "        query = out.matmul(wq2.t()).unsqueeze(2) # (bsz, nrows, d_head) -> (bsz, nrows, 1, d_head), ln2 is omissible\n",
    "        key = key0.matmul(wk2.t()).view(bsz, nrows, ncols + 3, hidden_size // H)\n",
    "        a = (query * key).sum(-1) # (bsz, nrows, ncols + 3)\n",
    "        a[:, :, [-1]] = -1e9\n",
    "        if apply_softmax: a = (a / temperature).softmax(-1)\n",
    "        return a\n",
    "\n",
    "    self1.w = attn1 * head_mask; attn_output1 = self1(h1)[0] - self1.out_proj.bias\n",
    "    a = get_attn(attn_output1[:, arrow_positions])\n",
    "    loss = a.view(a.size(0), -1)[:, positions]\n",
    "    if plot:\n",
    "#         a = a - a.min(dim=2, keepdim=True).values\n",
    "        plot_tgt_attn(a[0], ax=ax)#; print(loss)\n",
    "    return loss.mean()\n",
    "\n",
    "residual = None or hidden_states[layer1][:, arrow_positions]"
   ]
  },
  {
   "cell_type": "code",
   "execution_count": null,
   "metadata": {},
   "outputs": [],
   "source": [
    "def get_ln(layer): return blocks[layer].ln_1\n",
    "# 10-ffn, 9-11 for find special, 9-11 for AbCD->B/b, 9-11 for ABCD->C\n",
    "# 10-19+ffn+8!, 9-11 for after bracket 5-5/7, 9-11, 10-1+13+ffn+8+19 for in brackets\n",
    "mask = torch.zeros(H, seq_len, 1); mask[11] = 1#; mask[:] = 0 # 11-8, 10-1, 9-11,   9-11/6?->8-17 for 2nd\n",
    "# for i in range(0, nrows): mask[1, ans_positions[i], tgt_positions[i]+1] = 1\n",
    "layer0 = 9\n",
    "self0, ln0 = get_attn_module(blocks[layer0]), blocks[layer0].ln_1\n",
    "\n",
    "h0 = hidden_states[9]*0 + head_outputs[8][:, [17]].sum(1)*1\n",
    "self0.w = attentions[layer0] * mask; attn_output0 = self0((h0), attention_masks[layer0])[0] - self0.out_proj.bias\n",
    "# h1 = hidden_states[9]*0 + head_outputs[11][:, [8]].sum(1)*1 #+ ffn_outputs[10]#+ head_outputs[11][:, [8,]].sum(1)*1\n",
    "# h1 = ln1(h1)\n",
    "h1 = attn_output0\n",
    "key0 = get_ln(10)(hidden_states[10])#; key0.reqires_grad = True; key0.retain_grad()\n",
    "fig, axes = plt.subplots(1, 3, sharey=False, figsize=(2.5 * (ncols + 3) / 9 * 3, 5 * nrows / 24))\n",
    "# loss = tgt_attn_loss(h1, __attn1, key0, residual=None, plot=True, apply_softmax=True, temperature=1, ax=axes[0]); loss\n",
    "# print('after', key0[:, :, 0])\n",
    "[tgt_attn_loss(h1, attn, key0, residual=None,plot=True,temperature=1, positions=tgt_positions[(i>0)*2:],ax=ax).item() \n",
    "    for i, (attn, ax) in enumerate(zip([_attn1, attn1, __attn1], axes))]\n",
    "# if losses[0] > 0.8 and losses[-1] > 0.8: print(layer, head, losses)"
   ]
  },
  {
   "cell_type": "code",
   "execution_count": null,
   "metadata": {},
   "outputs": [],
   "source": [
    "def get_weight_norm(w):\n",
    "    return w.abs().mean().item()"
   ]
  },
  {
   "cell_type": "code",
   "execution_count": null,
   "metadata": {},
   "outputs": [],
   "source": [
    "wvo1 = get_combined_w(9, 11) * get_combined_w(12, 18)\n",
    "for layer in [8, ]:\n",
    "    for head in range(H):\n",
    "        wvo = get_combined_w(layer, head)\n",
    "        print('%d-%d %.4f %.4f' % (layer, head, get_weight_norm(wvo.matmul(wvo1)) / get_weight_norm(wvo), get_weight_norm(wvo.matmul(wvo1))))"
   ]
  },
  {
   "cell_type": "code",
   "execution_count": null,
   "metadata": {},
   "outputs": [],
   "source": [
    "front_chains = [\n",
    "    [[(11, 8), create_mask(ans_positions, tgt_positions)]],\n",
    "    [[(9, 9), create_mask(tgt_positions + 1, tgt_positions)], [(10, 1), create_mask(ans_positions, tgt_positions + 1)]],\n",
    "]\n",
    "rear_chains = [\n",
    "    [[(12, 18), create_mask(arrow_positions, ans_positions)], [(13, 2), None]],\n",
    "    [[(12, 18), create_mask(arrow_positions, ans_positions, accum=True)], [(13, 2), None]],\n",
    "]\n",
    "\n",
    "sum_a = {i: 0 for i in range(len(rear_chains))}\n",
    "fig, axes = plt.subplots(2, 3, sharey=False, figsize=(2.5 * (ncols + 3) / 9 * 3, 5 * nrows / 24 * 2))\n",
    "for j, front_chain in enumerate(front_chains):\n",
    "    l0 = front_chain[0][0][0]\n",
    "    h = h0 = get_ln(l0)(hidden_states[l0])\n",
    "    for (layer, head), mask in front_chain:\n",
    "#         attn = globalize(attentions[layer])[:, head] #if layer in [9] else mask\n",
    "        attn = mask\n",
    "        wvo = get_combined_w(layer, head)\n",
    "        h = attn.matmul(h.matmul(wvo))\n",
    "    for i, rear_chain in enumerate(rear_chains):\n",
    "        (layer, head), mask = rear_chain[0]\n",
    "        attn = mask\n",
    "        wvo = get_combined_w(layer, head)\n",
    "        q = attn.matmul(h.matmul(wvo))\n",
    "        wqk = get_combined_w(*rear_chain[-1][0], qk=True)\n",
    "        q = q.matmul(wqk)[:, arrow_positions].unsqueeze(2)\n",
    "        k = h0.view(h0.size(0), nrows, ncols + 3, hidden_size)\n",
    "        a = q.matmul(k.transpose(-1, -2)).squeeze(2) / 1\n",
    "        a[:, :, [-1]] = -1e9\n",
    "        sum_a[i] = sum_a[i] + a\n",
    "        a = a.softmax(-1)\n",
    "        loss = a.view(a.size(0), -1)[:, tgt_positions[i*2:]].mean()#; print('%.3f' % loss.item(), end=' ')\n",
    "        plot_tgt_attn(a[0], ax=axes[i, j], title='%f' % loss.item())\n",
    "\n",
    "for i in range(len(rear_chains)):\n",
    "    a = sum_a[i]\n",
    "    a = a.softmax(-1)\n",
    "    loss = a.view(a.size(0), -1)[:, tgt_positions[i*2:]].mean()#; print('%.3f' % loss.item(), end=' ')\n",
    "    plot_tgt_attn(a[0], ax=axes[i, 2], title='%f' % loss.item())"
   ]
  },
  {
   "cell_type": "code",
   "execution_count": null,
   "metadata": {},
   "outputs": [],
   "source": [
    "_sattn, __sattn = torch.zeros(1, seq_len, seq_len), torch.zeros(1, seq_len, seq_len)\n",
    "for i in range(0, nrows):\n",
    "    _sattn[:, arrow_positions[i], tgt_positions[i]] = 1\n",
    "    __sattn[:, arrow_positions[i], tgt_positions[:i]] = 1 / i if i > 0 else 0"
   ]
  },
  {
   "cell_type": "code",
   "execution_count": null,
   "metadata": {},
   "outputs": [],
   "source": [
    "ww0 = torch.eye(hidden_size)\n",
    "# layer = 9; ln = blocks[layer].ln_1\n",
    "# h0 = key0 = ln(hidden_states[layer])\n",
    "fig, axes = plt.subplots(2, 3, sharey=False, figsize=(2.5 * (ncols + 3) / 9 * 3, 5 * nrows / 24 * 2))\n",
    "for i, attn in enumerate([_sattn, __sattn]):\n",
    "    sum_a = 0\n",
    "    for j, (w, layer) in enumerate([(ww, 11), (ww2, 9)]):\n",
    "        ln = blocks[layer].ln_1\n",
    "        h0 = key0 = ln(hidden_states[layer])\n",
    "        query = attn.matmul(h0)[:, arrow_positions].matmul(w).unsqueeze(2)\n",
    "        key = key0.view(key0.size(0), nrows, ncols + 3, hidden_size)\n",
    "        a = (query * key).sum(-1) / 1\n",
    "        a[:, :, [-1]] = -1e9\n",
    "        sum_a = sum_a + a\n",
    "        a = a.softmax(-1)\n",
    "        loss = a.view(a.size(0), -1)[:, tgt_positions[i*2:]].mean(); print('%.3f' % loss.item(), end=' ')\n",
    "        plot_tgt_attn(a[0], ax=axes[i, j])\n",
    "    a = sum_a.softmax(-1)\n",
    "    loss = a.view(a.size(0), -1)[:, tgt_positions[i*2:]].mean(); print('%.3f' % loss.item(), end=' ')\n",
    "    plot_tgt_attn(a[0], ax=axes[i, 2])\n",
    "    print()"
   ]
  },
  {
   "cell_type": "code",
   "execution_count": null,
   "metadata": {},
   "outputs": [],
   "source": [
    "aw = ww * ww.grad"
   ]
  },
  {
   "cell_type": "code",
   "execution_count": null,
   "metadata": {},
   "outputs": [],
   "source": [
    "aw.norm(dim=0).topk(10)"
   ]
  },
  {
   "cell_type": "code",
   "execution_count": null,
   "metadata": {},
   "outputs": [],
   "source": []
  },
  {
   "cell_type": "code",
   "execution_count": null,
   "metadata": {},
   "outputs": [],
   "source": [
    "head_outputs[9][0, :, ans_positions].norm(dim=-1).mean(-1).topk(10)"
   ]
  },
  {
   "cell_type": "code",
   "execution_count": null,
   "metadata": {},
   "outputs": [],
   "source": [
    "plot_attn(globalize(attentions[9])[0, 6], figsize=(20, 20))"
   ]
  },
  {
   "cell_type": "code",
   "execution_count": null,
   "metadata": {},
   "outputs": [],
   "source": [
    "a0 = head_outputs[9][0, 11, ans_positions]\n",
    "a1 = head_outputs[11][0, 8, ans_positions]"
   ]
  },
  {
   "cell_type": "code",
   "execution_count": null,
   "metadata": {},
   "outputs": [],
   "source": [
    "a0 = attrs['head_output'][9, 11, ans_positions]\n",
    "a1 = attrs['head_output'][11, 8, ans_positions]"
   ]
  },
  {
   "cell_type": "code",
   "execution_count": null,
   "metadata": {},
   "outputs": [],
   "source": [
    "cos = nn.CosineSimilarity(dim=1)\n",
    "cos(a0, a1)"
   ]
  },
  {
   "cell_type": "code",
   "execution_count": null,
   "metadata": {},
   "outputs": [],
   "source": [
    "attr = attrs['attn_output'].sum(-1)\n",
    "attr = attr / attr.view(attr.size(0), -1).norm(dim=1)[:, None]"
   ]
  },
  {
   "cell_type": "code",
   "execution_count": null,
   "metadata": {},
   "outputs": [],
   "source": [
    "sns.heatmap(numpy(attr[:, ans_positions]), cbar=False)"
   ]
  },
  {
   "cell_type": "code",
   "execution_count": null,
   "metadata": {},
   "outputs": [],
   "source": [
    "_ = plt.figure(figsize=(20, 3))\n",
    "ax = sns.heatmap(numpy(attrs['head_output'].sum(-1)[10]), cbar=False, xticklabels=tokens)\n",
    "_ = ax.set_xticklabels(ax.get_xmajorticklabels(), fontsize=9, rotation=0)\n",
    "ax.tick_params(top=True, right=True, labeltop=True, labelright=True)"
   ]
  },
  {
   "cell_type": "code",
   "execution_count": null,
   "metadata": {},
   "outputs": [],
   "source": [
    "_ = plt.figure(figsize=(20, 3))\n",
    "ax = sns.heatmap(numpy(attr), cbar=False, xticklabels=tokens)\n",
    "_ = ax.set_xticklabels(ax.get_xmajorticklabels(), fontsize=9, rotation=0)\n",
    "ax.tick_params(top=True, right=True, labeltop=True, labelright=True)"
   ]
  },
  {
   "cell_type": "code",
   "execution_count": null,
   "metadata": {},
   "outputs": [],
   "source": [
    "ffn_w = 0\n",
    "results = []\n",
    "for i in range(0, layer1 + 1):\n",
    "    h1 = hidden_states[i] - hidden_states[0]*1\n",
    "    residual = None #or hidden_states[layer1][:, arrow_positions]\n",
    "    losses = [tgt_attn_loss(h1, attn, residual=residual, ffn_w=ffn_w) for attn in [_attn1, attn1]]\n",
    "    results.append(('%d-inp' % i, losses[0], losses[1]))\n",
    "    if i < layer1:\n",
    "        losses = [tgt_attn_loss(h1 + attn_outputs[i], attn, residual=residual, ffn_w=ffn_w) \n",
    "                  for attn in [_attn1, attn1]]\n",
    "        results.append(('%d-attn' % i, losses[0], losses[1]))\n",
    "plot_tgt_attn_losses(*zip(*results))"
   ]
  },
  {
   "cell_type": "code",
   "execution_count": null,
   "metadata": {},
   "outputs": [],
   "source": [
    "a = []\n",
    "tgt_h = hidden_states[layer0][0, tgt_positions]\n",
    "h0 = hidden_states[layer0].view(nrows, ncols + 3, hidden_size)\n",
    "for i in range(nrows):\n",
    "    q = tgt_h[0:i].mean(dim=0)\n",
    "    q = ln2(q).matmul(wq2.t())\n",
    "    k = ln2(h0[i]).matmul(wq2.t())\n",
    "#     attn1 = globalize(attentions[layer1]) * head_mask\n",
    "#     attn_output1 = torch.matmul(attn1, _head_output1).sum(1)\n",
    "#     q = ln2(attn_output1[:, arrow_positions[i]]).matmul(wq2.t())\n",
    "#     q = ln2(_attn_output1[:, ans_positions][:, i:i+1].mean(1)).matmul(wq2.t())\n",
    "#     k = key[i]\n",
    "    a.append((q * k).sum(-1).unsqueeze(0))  # == torch.matmul(q, k.t())\n",
    "\n",
    "a = torch.cat(a)\n",
    "a[:, -2:] = -1000000\n",
    "a = a.softmax(-1)\n",
    "plot_tgt_attn(a)"
   ]
  },
  {
   "cell_type": "code",
   "execution_count": null,
   "metadata": {},
   "outputs": [],
   "source": [
    "layer1, head1 = 12, 18\n",
    "layer0, head0 = 11, 8\n",
    "layer2, head2 = 13, 2  #17-4 for A[B]C->B,A*BC->B, 13-5 for reverse set diff\n",
    "self0, self1, self2 = get_attn_module(blocks[layer0]), get_attn_module(blocks[layer1]), get_attn_module(blocks[layer2])\n",
    "\n",
    "h_mask = torch.ones(hidden_size)\n",
    "h_mask[top_i[0]] = 0\n",
    "\n",
    "ln0, ln1, ln2 = blocks[layer0].ln_1, blocks[layer1].ln_1, blocks[layer2].ln_1\n",
    "# mean, var = forward(blocks[layer2], 'ln1_mean_var')\n",
    "\n",
    "wq0, wk0, wv0, wo0 = get_head_weights(layer0, head0)\n",
    "wq1, wk1, wv1, wo1 = get_head_weights(layer1, head1)\n",
    "wq2, wk2, wv2, wo2 = get_head_weights(layer2, head2)"
   ]
  },
  {
   "cell_type": "code",
   "execution_count": null,
   "metadata": {},
   "outputs": [],
   "source": [
    "attn_output0, ffn_output0 = forward(blocks[layer0], ['attn_output', 'ffn_output'], exit_module=blocks[layer0],\n",
    "                                    extra_tuples=[(get_attn_module(blocks[layer0]), 'hidden_states_mask', h_mask)])\n",
    "head_output0 = forward(get_attn_module(blocks[layer0]), 'head_output', exit_module=blocks[layer0],\n",
    "                        extra_tuples=[(get_attn_module(blocks[layer0]), 'hidden_states_mask', h_mask)])"
   ]
  },
  {
   "cell_type": "code",
   "execution_count": null,
   "metadata": {},
   "outputs": [],
   "source": [
    "## h1 = ln1(hidden_states[10]*0 + attn_output0 * 1 + ffn_output0 * 1)\n",
    "h1 = ln1(hidden_states[layer0]*1 + attn_outputs[10]*1 + ffn_outputs[10] * 1 + attn_outputs[11] * 1 + ffn_outputs[11] * 1)\n",
    "\n",
    "self1.head_output, self1.attn_output = None, None\n",
    "self1.w = attentions[layer1]\n",
    "try: _ = self1(h1, attention_mask=attention_masks[layer1])\n",
    "finally:\n",
    "    head_output1, attn_output1 = getdelattr(self1, 'head_output'), getdelattr(self1, 'attn_output')\n",
    "    try_delattr(self1, 'w')\n",
    "\n",
    "query = get_query(self2, ln2(hidden_states[layer1]*0 + attn_output1*1 + attn_outputs[13]*0))\n",
    "# query = get_query(self2, ln2(head_output1[:, [16, 18]].sum(1)))\n",
    "# query = get_query((self2, head_outputs[layer1][:, head1]))\n",
    "# query = get_query(self2, attn_hidden_states[layer2])\n",
    "for layer in [layer0]:#range(layer2 + 1):\n",
    "    key2 = get_key(self2, ln2(hidden_states[layer]))\n",
    "#     key2 = get_key(self2, ln2(attn_outputs[9]))\n",
    "    logits = (query * key2).sum(dim=-1)\n",
    "    print(layer)\n",
    "    _ = test(None, None, logits=logits, always_show=True)"
   ]
  },
  {
   "cell_type": "code",
   "execution_count": null,
   "metadata": {},
   "outputs": [],
   "source": [
    "emb = all_embs[task_name][key]\n",
    "emb_attr = all_attrs[task_name][key + str(int(pred_attn))]"
   ]
  },
  {
   "cell_type": "code",
   "execution_count": null,
   "metadata": {},
   "outputs": [],
   "source": [
    "layer0 = 10\n",
    "# layer, head = 10, 8  # ABC->B, ABC->A(pred_attn<12-18), ABC->C(only pred_attn), find lowercase, set diff2(only pred_attn)\n",
    "layer, head = 12, 18 # 12-16, 12-18, 12-1 ABC->A, ABC,AXC->X, set diff2, set diff\n",
    "layer2, head2 = 13, 2  # ABC->B, ABC->A, ABC->C, ABC,AXC->X, set diff, set diff2(<13-12), find lowercase(<15-8)\n",
    "# layer2, head2 = 15, 8  # 15-8, find lowercase\n",
    "# layer2, head2 = 13, 12  # set diff2, ABC,AXC->X(<13-2)"
   ]
  },
  {
   "cell_type": "code",
   "execution_count": null,
   "metadata": {},
   "outputs": [],
   "source": [
    "positions = tgt_positions[1:]\n",
    "offsets = [torch.zeros_like(positions) - 1, torch.zeros_like(positions), torch.zeros_like(positions) + 1]\n",
    "labels = numpy(torch.cat(offsets))\n",
    "for layer in range(layer2):\n",
    "    for head in range(H):\n",
    "        emb = numpy(torch.cat([attn_outs[layer][0, head, positions + offset] for offset in offsets]))\n",
    "#         emb = numpy(torch.cat([head_outputs[layer][0, head, positions + offset] for offset in offsets]))\n",
    "        head_output = head_outputs[layer][:, head]\n",
    "        if cluster(emb, labels)[0]:# and test(head_output, always_show=False) is not None:\n",
    "#         if test(head_output, always_show=False) is not None:\n",
    "            visualize_by_pca(emb, labels)\n",
    "#             attn = globalize(attentions[layer])[0, head]\n",
    "#             plot_attn(attn)\n",
    "            print(layer, head)"
   ]
  },
  {
   "cell_type": "code",
   "execution_count": null,
   "metadata": {},
   "outputs": [],
   "source": [
    "layer0, head0 = 10, 1 #11-14  10-1\n",
    "h_mask2 = torch.ones(hidden_size)\n",
    "h_mask2[top_i[:]] = 0\n",
    "\n",
    "attn_mask = torch.ones(H, seq_len, hidden_size // H)\n",
    "# attn_mask[:, :] = 0\n",
    "# attn_mask[8, :] = .1\n",
    "m = get_attn_module(blocks[layer2])\n",
    "outputs = forward(get_attn_module(blocks[layer0]), 'attn_mask', attn_mask, exit_module=blocks[layer2],\n",
    "                 extra_tuples=[(m, 'return_attn_logits', True), #(m, 'hidden_states_mask', h_mask2),\n",
    "#                                (get_attn_module(blocks[10]), 'hidden_states_mask', h_mask2),\n",
    "                               (get_attn_module(blocks[layer1]), 'w', attentions[layer1])\n",
    "                              ])\n",
    "\n",
    "probs0 = outputs.attentions[layer1][0, head1, src, ans_positions[:-1]]\n",
    "probs0, probs0.sum()\n",
    "logits = globalize(outputs.attentions[layer2])[0, head2, src, : src + 1]\n",
    "probs = logits[cand_positions].view(-1, n_candidates).softmax(-1)[:, task_name2idx[task_name]]\n",
    "probs, probs.mean()\n",
    "probs = logits.softmax(-1)[tgt_positions]\n",
    "probs, probs.mean()\n",
    "test(None, None, logits=logits)"
   ]
  },
  {
   "cell_type": "code",
   "execution_count": null,
   "metadata": {
    "scrolled": true
   },
   "outputs": [],
   "source": [
    "m = blocks[layer].attn.attention\n",
    "mask = torch.ones(H, seq_len, seq_len)\n",
    "# mask[:, src] = 0\n",
    "mask[:] = 0\n",
    "mask[head, src] = 0.1\n",
    "_ = mask.requires_grad_(True)\n",
    "# m.attn_mask = mask\n",
    "\n",
    "# scaled_attn = attentions[layer] * mask.to(model.device)\n",
    "# _ = scaled_attn.requires_grad_(True)\n",
    "# m.w = scaled_attn\n",
    "try:\n",
    "    with torch.no_grad(): outputs = model(**inputs, output_attentions=True)\n",
    "    attn = outputs.attentions[layer]\n",
    "    _ = plt.figure(figsize=(15, 1))\n",
    "    _ = sns.heatmap(numpy(attn[:, head, src, :]), cbar=False)\n",
    "    print(attn[:, head, src, ans_positions[:-1]])\n",
    "    \n",
    "    attn[:] = 0\n",
    "#     attn[0, head, src] = 0\n",
    "    attn[0, head, src, ans_positions[:-1]] = 0.1 / len(ans_positions[:-1])\n",
    "#     i = random.randint(0, attn.size(3) - 1); i\n",
    "#     attn[0, head, src] = 0.1 / attn.size(3)\n",
    "    print(attn[0, head, src, ans_positions[:-1]])\n",
    "    m.w = attn\n",
    "    with torch.no_grad(): outputs = model(**inputs, output_attentions=True)\n",
    "#     outputs = model(**inputs, output_attentions=True)\n",
    "finally:\n",
    "#     m.attn_mask = None\n",
    "    m.w = None\n",
    "# y = outputs.logits.softmax(-1)[:, src, pred_label]\n",
    "# mask_grad = torch.autograd.grad(torch.unbind(y), mask)[0]\n",
    "# attn_grad = torch.autograd.grad(torch.unbind(y), scaled_attn)[0]\n",
    "    \n",
    "attn = globalize(outputs.attentions[layer2])[0, head2, src]\n",
    "print(show_topk(*attn.topk(5), indices_fn=append_tokens_to_positions))\n",
    "probs = outputs.logits[0, src].softmax(-1)\n",
    "show_topk(*probs.topk(5), indices_fn=tokenizer.convert_ids_to_tokens)"
   ]
  },
  {
   "cell_type": "code",
   "execution_count": null,
   "metadata": {},
   "outputs": [],
   "source": [
    "attn_grad[0, head - 2].mean()"
   ]
  },
  {
   "cell_type": "code",
   "execution_count": null,
   "metadata": {},
   "outputs": [],
   "source": [
    "attn_grad.size()\n",
    "attn_grad2.size()\n",
    "(attn_grad2[4:5] - attn_grad).abs().max()\n",
    "attn_grad[0, head, src, ki]\n",
    "attn_grad2[4, head, src, ki]"
   ]
  },
  {
   "cell_type": "code",
   "execution_count": null,
   "metadata": {},
   "outputs": [],
   "source": [
    "qh = ln2(hidden_states[layer1]*0 + attn_output1*1 + attn_outputs[13]*1)[:, src:src+1]\n",
    "kh = attn_hidden_states[layer2]\n",
    "# kh = ln2(attn_outputs[9])\n",
    "logits = (qh * kh).sum(dim=-1).squeeze(0)\n",
    "_ = test(None, None, logits=logits, always_show=True)"
   ]
  },
  {
   "cell_type": "code",
   "execution_count": null,
   "metadata": {},
   "outputs": [],
   "source": [
    "texts = {\n",
    "    'find lowercase': '''\n",
    "X C e -> e\n",
    "S f Z -> f\n",
    "K y N -> y\n",
    "q M N -> q\n",
    "u S N -> u\n",
    "S v Y -> v\n",
    "v I J -> v\n",
    "Y a N -> a''',\n",
    "    'AbC->B': '''\n",
    "X C e -> E\n",
    "S f Z -> F\n",
    "K y N -> Y\n",
    "q M N -> Q\n",
    "u S N -> U\n",
    "S v Y -> V\n",
    "g I J -> G\n",
    "Y a N -> A\n",
    "L n J -> N\n",
    "d H I -> D\n",
    "Z r C -> R\n",
    "U S t -> T\n",
    "K r A -> R\n",
    "I G m -> M\n",
    "t O X -> T''',  # failed, but GPT-3 can with low prob\n",
    "    'set diff': '''\n",
    "G L C, G L -> C\n",
    "Y P J, Y P -> J\n",
    "E S A, S A -> E\n",
    "U P W, U P -> W\n",
    "W Z A, W A -> Z\n",
    "Z Q J, Z J -> Q\n",
    "C Y L, Y L -> C\n",
    "C K Z, C Z -> K\n",
    "K O Q, O Q -> K\n",
    "K O N, K N -> O\n",
    "R U P, R P -> U\n",
    "X C J, X C -> J\n",
    "B G V, G V -> B\n",
    "H V L, H V -> L\n",
    "J K M, J M -> K\n",
    "N W K, W K -> N\n",
    "F B D, F B -> D''',\n",
    "    'find majority': '''\n",
    "n d d -> d\n",
    "f f d -> f\n",
    "e b e -> e\n",
    "s q s -> s\n",
    "d d o -> d\n",
    "c e e -> e\n",
    "g t g -> g\n",
    "i i w -> i''', # basically failed\n",
    "    'find special': '''\n",
    "n d d -> n\n",
    "f f d -> d\n",
    "e b e -> b\n",
    "s q s -> q\n",
    "d d o -> o\n",
    "c e e -> c\n",
    "g g t -> t\n",
    "w i i -> w''',  # failed, GPT-3 failed, too\n",
    "    'find special2': '''\n",
    "n d d d -> n\n",
    "f f f d -> d\n",
    "e b e e -> b\n",
    "s s q s -> q\n",
    "d d d o -> o\n",
    "e c e e -> c\n",
    "g g g t -> t\n",
    "w i i i -> w''',  # failed, but GPT-3 can\n",
    "    'ABC,AXC->X': '''\n",
    "D O Q, K O Q -> K\n",
    "K H N, K O N -> O\n",
    "R X P, R U P -> U\n",
    "X C G, X C J -> J\n",
    "Z G V, B G V -> B\n",
    "H V T, H V L -> L\n",
    "J E M, J K M -> K\n",
    "A W K, U W K -> U\n",
    "F B Y, F B D -> D''',\n",
    "    'reverse set diff': '''\n",
    "O Q, K O Q -> K\n",
    "K N, K O N -> O\n",
    "R P, R U P -> U\n",
    "X C, X C J -> J\n",
    "G V, B G V -> B\n",
    "H V, H V L -> L\n",
    "J M, J K M -> K\n",
    "W K, N W K -> N\n",
    "F B, F B D -> D''',\n",
    "    'set diff2': '''\n",
    "Z Y, y -> z\n",
    "K B, b -> k\n",
    "N E, e -> n\n",
    "J S, j -> s\n",
    "O W, o -> w\n",
    "F R, f -> r\n",
    "J S, s -> j\n",
    "N O, o -> n\n",
    "P R, p -> r''',\n",
    "    'find next': '''\n",
    "W S D L, S -> D\n",
    "F M W Q, F -> M\n",
    "T W A V, A -> V\n",
    "U V N M, N -> M\n",
    "S D N O, S -> D\n",
    "A S B T, S -> B\n",
    "H W L Z, H -> W\n",
    "C L J O, J -> O\n",
    "T B A E, B -> A\n",
    "L G C K, L -> G\n",
    "G B S O, G -> B\n",
    "K Y F O, F -> O\n",
    "V Q U S, V -> Q\n",
    "S E Y P, Y -> P\n",
    "X D A U, A -> U\n",
    "T L M N, L -> M\n",
    "U O Y I, O -> Y''',  # failed, GPT-3 failed too\n",
    "    'antonym': '''\n",
    "big -> small\n",
    "low -> high\n",
    "fast -> slow\n",
    "dark -> light\n",
    "long -> short''',\n",
    "}"
   ]
  },
  {
   "cell_type": "code",
   "execution_count": null,
   "metadata": {},
   "outputs": [],
   "source": []
  },
  {
   "cell_type": "code",
   "execution_count": null,
   "metadata": {},
   "outputs": [],
   "source": []
  },
  {
   "cell_type": "code",
   "execution_count": null,
   "metadata": {},
   "outputs": [],
   "source": [
    "try:\n",
    "#     with torch.no_grad(): outputs = model(**inputs, output_attentions=True)\n",
    "#     attn = outputs.attentions[layer]\n",
    "#     print(attn[0, head, src, ans_positions[:-1]])\n",
    "#     attn[0, head, src] = 0\n",
    "#     attn[0, head, src, ans_positions[-8]] = 1\n",
    "#     print(attn[0, head, src, ans_positions[:-1]])\n",
    "#     m.w = attn\n",
    "    with torch.no_grad(): outputs = model(**inputs, output_attentions=True)\n",
    "finally:\n",
    "    m.attn_mask = None\n",
    "#     m.w = None"
   ]
  },
  {
   "cell_type": "code",
   "execution_count": null,
   "metadata": {},
   "outputs": [],
   "source": [
    "def norm(tensor): return round(tensor.abs().mean().item(), 4)\n",
    "hidden_states.mean(), hidden_states.std()\n",
    "for l in range(layer, layer2):\n",
    "    print(norm(hidden_states), end=' ')\n",
    "    hidden_states = hidden_states + h[l].attn_output\n",
    "    print(norm(h[l].attn_output), norm(hidden_states), hidden_states.mean(), hidden_states.std())\n",
    "    print(norm(hidden_states), end=' ')\n",
    "    hidden_states = hidden_states + h[l].ffn_output\n",
    "    print(norm(h[l].ffn_output), norm(hidden_states), hidden_states.mean(), hidden_states.std())"
   ]
  },
  {
   "cell_type": "code",
   "execution_count": null,
   "metadata": {},
   "outputs": [],
   "source": [
    "_hidden_states = h[layer2].ln_1(hidden_states)\n",
    "try:\n",
    "    with torch.no_grad(): _, attn = am2(am2_hidden_states, am2_attention_mask, output_attentions=True, q_hidden_states=_hidden_states)\n",
    "finally: am2.q_hidden_states = None\n",
    "attn = globalize(attn)\n",
    "attn[0, head2, -1].topk(5)"
   ]
  },
  {
   "cell_type": "code",
   "execution_count": null,
   "metadata": {},
   "outputs": [],
   "source": [
    "with torch.no_grad(): outputs = model(**inputs, output_attentions=True)\n",
    "attn = globalize(outputs.attentions[layer2])[0, head2, -1]\n",
    "show_topk(*attn.topk(5), indices_fn=append_tokens_to_positions)\n",
    "probs = outputs.logits[0, -1].softmax(-1)\n",
    "show_topk(*probs.topk(5), indices_fn=tokenizer.convert_ids_to_tokens)\n",
    "\n",
    "for l in range(layer, layer + 1):\n",
    "    mask_tgt_indices = [41, 35, 29, 23, 17, 11, 5]\n",
    "    excluded_src_indices = [seq_len - 1] #if l == layer else []\n",
    "    attn = outputs.attentions[l]\n",
    "    if attn.dim() == 5:\n",
    "        attn = attn[:, 0, :, :, -seq_len:] # (bsz, num_blokcs, H, seq_len, window_size + seq_len) -> (bsz, H, seq_len, seq_len)\n",
    "#     for hd in range(H):\n",
    "#         for src_idx in range(seq_len):\n",
    "#             if hd != head and src_idx in excluded_src_indices:\n",
    "#                 attn[:, hd, src_idx] = 0\n",
    "    for hd in range(H):\n",
    "        for src_idx in range(seq_len):\n",
    "            for tgt_idx in range(seq_len):\n",
    "                if hd == head and src_idx not in excluded_src_indices and tgt_idx in mask_tgt_indices:\n",
    "                    attn[:, hd, src_idx, tgt_idx] = 0\n",
    "    h[l].attn.attention.w = outputs.attentions[l]\n",
    "try:\n",
    "    with torch.no_grad(): outputs = model(**inputs, output_attentions=True)\n",
    "finally:\n",
    "    for l in range(layer, layer2):\n",
    "        h[l].attn.attention.w = None\n",
    "attn = globalize(outputs.attentions[layer2])[0, head2, -1]\n",
    "show_topk(*attn.topk(5), indices_fn=append_tokens_to_positions)\n",
    "probs = outputs.logits[0, -1].softmax(-1)\n",
    "show_topk(*probs.topk(5), indices_fn=tokenizer.convert_ids_to_tokens)"
   ]
  },
  {
   "cell_type": "code",
   "execution_count": null,
   "metadata": {},
   "outputs": [],
   "source": [
    "head_attrs = all_attrs['A B C D -> a'].sum(dim=(2, 3))\n",
    "# head_attrs = attrs.sum(dim=(2, 3))\n",
    "\n",
    "values, indices = head_attrs[:, :].view(-1).topk(10)\n",
    "indices = unravel_index(indices, head_attrs.size())\n",
    "top_heads = [(l, h, round(v, 8)) for l, h, v in zip(\n",
    "    indices[0].tolist(), indices[1].tolist(), values.tolist())]\n",
    "top_heads"
   ]
  },
  {
   "cell_type": "code",
   "execution_count": null,
   "metadata": {},
   "outputs": [],
   "source": [
    "inputs = tokenizer.encode_plus(_text, return_tensors='pt')\n",
    "outputs = model(**inputs, output_attentions=True)\n",
    "\n",
    "logits = outputs.logits if hasattr(outputs, 'logits') else outputs[0]\n",
    "y = logits[0, -1].max()\n",
    "attentions = outputs.attentions if hasattr(outputs, 'attentions') else outputs[-1]\n",
    "for a in attentions: a.retain_grad()\n",
    "model.zero_grad()\n",
    "y.backward()\n",
    "\n",
    "# attns = torch.cat(attentions)\n",
    "grads = torch.cat([a.grad for a in attentions])\n",
    "attrs2 = attns * grads"
   ]
  },
  {
   "cell_type": "code",
   "execution_count": null,
   "metadata": {},
   "outputs": [],
   "source": [
    "for i in range(len(top_heads)):\n",
    "    layer, head, v, _ = top_heads[i]\n",
    "    if layer in [0, 1, ]: continue\n",
    "#     layer, head, v = 30, 10, 1.\n",
    "    fig, axs = plt.subplots(1,2,sharey=False, figsize=(10 * 2, 10))\n",
    "    for i, (a, _ax) in enumerate(zip([attns, attrs], axs)):\n",
    "        a = a[layer][head].detach().cpu()\n",
    "        a, annot = ((a * 100).long(), True) if i == -1 else (a, False)\n",
    "        res = sns.heatmap(a, square=True, cbar=False, annot=annot, fmt='d', linewidths=0.1, linecolor='grey', \n",
    "                          xticklabels=tokens, yticklabels=tokens, ax=_ax)\n",
    "        _ = res.set_xticklabels(res.get_xmajorticklabels(), fontsize=9+3-2, rotation=0)\n",
    "        _ = res.set_yticklabels(res.get_ymajorticklabels(), fontsize=9+3-2, rotation=0)\n",
    "        _ = plt.xlabel('%d-%d    %.4f' % (layer, head, v), fontsize=14)"
   ]
  },
  {
   "cell_type": "code",
   "execution_count": null,
   "metadata": {},
   "outputs": [],
   "source": [
    "n_rows, n_cols = 1, 3\n",
    "fig, axs = plt.subplots(n_rows, n_cols, sharey=False, figsize=(5 * n_cols, 2 * 4 * n_rows))\n",
    "A = [attns, grads, attrs]\n",
    "\n",
    "for row in range(n_rows):\n",
    "    for col in range(n_cols):\n",
    "        ax = axs[row][col] if row > 1 else axs[col]\n",
    "        a = A[col][:, :, src,tgt].detach()\n",
    "        if col == 0: a[-1, 0] = 1.\n",
    "#         fig = plt.subplots(1,1,sharey=False, figsize=(5 , 8))\n",
    "        ax = sns.heatmap(a, ax=ax)\n",
    "        ax.tick_params(top=True, labeltop=True)"
   ]
  },
  {
   "cell_type": "code",
   "execution_count": null,
   "metadata": {},
   "outputs": [],
   "source": [
    "logits = outputs.logits if hasattr(outputs, 'logits') else outputs[0]\n",
    "values, indices = logits[0, -1].softmax(dim=-1).topk(5)\n",
    "list(zip(tokenizer.convert_ids_to_tokens(indices), values.tolist()))"
   ]
  },
  {
   "cell_type": "code",
   "execution_count": null,
   "metadata": {},
   "outputs": [],
   "source": [
    "input_ids = tokenizer.encode_plus(_text)['input_ids']\n",
    "print(tokenizer.convert_ids_to_tokens(input_ids))\n",
    "outputs = model.generate(torch.LongTensor([input_ids]).to(model.device))\n",
    "print(_text, tokenizer.decode(outputs[0]))\n",
    "\n",
    "input_ids = input_ids[: -3] + input_ids[-2:]\n",
    "print(tokenizer.convert_ids_to_tokens(input_ids))\n",
    "outputs = model.generate(torch.LongTensor([input_ids]).to(model.device))\n",
    "print(_text, tokenizer.decode(outputs[0]))"
   ]
  },
  {
   "cell_type": "code",
   "execution_count": null,
   "metadata": {},
   "outputs": [],
   "source": [
    "texts = [\n",
    "    'Big is to small as fast is to _',\n",
    "    'Bread is to eat as gun is to _',\n",
    "    'big: small, fast: _',\n",
    "    'bread: eat, gun: _ .',\n",
    "    'flower: fragrant, fire: hot, bread: delicious, gun: _ ',\n",
    "    'Big and small are _ .',\n",
    "    'What is twice 3? _.',\n",
    "    'What is the half 6? _.',\n",
    "    'There is a sequence: 3, 5, 2, 7. The number immediately precedes 5 is _.',  # :)\n",
    "    'There is a sequence: 3, 5, 2, 7. The number immediately follows 5 is _.',  # :(\n",
    "    'There is a sequence: 3, 5, 2, 7. The number between 5 and 7 is _.',\n",
    "    'There is a sequence of numbers: 3, 5, 2, 4. _ is the first number.',\n",
    "    'There is a sequence of numbers: 3, 5, 2. The reversed sequence is _.',\n",
    "    '''There is a sequence of numbers: 5, 1, 6, 3. The second number is 1.\n",
    "There is a sequence of numbers: 3, 7, 2, 4. The second number is _.''',\n",
    "    '''There is a sequence of letters: e, c, b, a. The last letter is a.\n",
    "There is a sequence of letters: f, d, b, g. The last letter is _.''',\n",
    "    '''The uppercase of c is C. The uppercase of f is _.''',\n",
    "    '''The successor of 3 is 4. The successor of 8 is _.''',\n",
    "    '''The successor of 3 is 4. The successor of _ is 6.''',\n",
    "#     '''The predecessor of 3 is 2. The predecessor of 5 is 4. The predecessor of 6 is _''',\n",
    "#     '''The previous integer of 4 is 3. The previous integer of 3 is _.''',\n",
    "#     '''3 minus 1 equals 2. 5 minus 1 equals _.''',\n",
    "    '''If 2 changes to 3, 5 changes to 6, then _ changes to 9''',\n",
    "    '''If 2 changes to 20, 3 changes to 30, then 5 changes to _''',\n",
    "    '''2 -> 3, 4 -> 5, 5 -> 6, 9 -> _.''',\n",
    "    '''3 -> 2, 5 -> 4, 6 -> 5, 9 -> _''',\n",
    "    '''9 -> 8, 7 -> 6, 6 -> 5, 2 -> _.''',\n",
    "    '''3 is to _ as 4 is to 8 and 5 is to 10.''',\n",
    "#     '''6 : _ :: 5 : 10 :: 7 : 14 :: 8 : 16.''',\n",
    "#     '''a is to _ as f is to g, h to i, i to j, s to t.''',\n",
    "#     '''c is to _ as f is to e, h to g, j to i.''',\n",
    "    '''c is to _ as j is to i, h to g, f to e.''',\n",
    "#     '''Twice 3 is 6, twice 4 is _.''',\n",
    "#     '''Half of 4 is 2, half of 6 is _.''',\n",
    "\n",
    "# '''Shall I compare thee to a summer's day?\n",
    "# Thou''',\n",
    "# '''Do not go gentle into that good night,\n",
    "# Old age should burn and rave at close of day;\n",
    "# Rage'''\n",
    "]"
   ]
  }
 ],
 "metadata": {
  "kernelspec": {
   "display_name": "Python 3",
   "language": "python",
   "name": "python3"
  },
  "name": "child_analysis.ipynb",
  "vscode": {
   "interpreter": {
    "hash": "31f2aee4e71d21fbe5cf8b01ff0e069b9275f58929596ceb00d14d90e3e16cd6"
   }
  }
 },
 "nbformat": 4,
 "nbformat_minor": 2
}
