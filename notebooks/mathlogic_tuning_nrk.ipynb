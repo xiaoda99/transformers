{
 "cells": [
  {
   "cell_type": "code",
   "execution_count": 1,
   "id": "6794e2ab",
   "metadata": {},
   "outputs": [
    {
     "name": "stdout",
     "output_type": "stream",
     "text": [
      "In utils/hub.py: default_cache_path: /home/nrk/.cache/huggingface/hub->/nas/xd/.cache/torch/transformers/\n"
     ]
    }
   ],
   "source": [
    "from IPython import get_ipython\n",
    "%load_ext autoreload\n",
    "%autoreload 2\n",
    "import sys\n",
    "import random\n",
    "import string\n",
    "import math\n",
    "import numpy as np\n",
    "import fn\n",
    "import types\n",
    "import itertools\n",
    "import json\n",
    "import copy\n",
    "import re\n",
    "import pandas as pd\n",
    "import torch\n",
    "import torch.nn as nn\n",
    "from fn import _\n",
    "from dataclasses import dataclass\n",
    "from collections import Counter\n",
    "from random import sample,choices,choice\n",
    "from torch.utils.data import Dataset\n",
    "from itertools import product, chain\n",
    "from functional import seq\n",
    "from functional.pipeline import Sequence\n",
    "from collections import namedtuple \n",
    "from collections import defaultdict, OrderedDict\n",
    "from transformers import AutoModelForCausalLM, LlamaTokenizer\n",
    "from transformers import Trainer, TrainingArguments, default_data_collator, set_seed, HfArgumentParser"
   ]
  },
  {
   "cell_type": "code",
   "execution_count": 2,
   "id": "db4f1914",
   "metadata": {},
   "outputs": [
    {
     "data": {
      "text/html": [
       "<style>.container { width:80% !important; }</style>"
      ],
      "text/plain": [
       "<IPython.core.display.HTML object>"
      ]
     },
     "metadata": {},
     "output_type": "display_data"
    }
   ],
   "source": [
    "from IPython.display import display, HTML\n",
    "display(HTML(\"<style>.container { width:80% !important; }</style>\"))"
   ]
  },
  {
   "cell_type": "code",
   "execution_count": 3,
   "id": "c941d0eb",
   "metadata": {},
   "outputs": [
    {
     "name": "stderr",
     "output_type": "stream",
     "text": [
      "Special tokens have been added in the vocabulary, make sure the associated word embeddings are fine-tuned or trained.\n"
     ]
    },
    {
     "name": "stdout",
     "output_type": "stream",
     "text": [
      "common_utils ... done 0:00:00.000016\n",
      "child_utils_nrk_2 ... In const.py: Loading tokenizer ... done 0:00:00.090484\n",
      "done 0:00:00.128446\n",
      "tasks ... done 0:00:00.002491\n",
      "model_utils_nrk_2 ... done 0:00:00.015541\n"
     ]
    }
   ],
   "source": [
    "from common_utils import Timer\n",
    "with Timer('common_utils'): from common_utils import *\n",
    "# with Timer('utils'): from utils import *\n",
    "with Timer('child_utils_nrk_2'): from child_utils_nrk_2 import *\n",
    "from child_utils_nrk_2 import _str, _cxt2str, _item2str, _s, _be\n",
    "# from child_frames import *\n",
    "with Timer('tasks'): from tasks import *\n",
    "with Timer('model_utils_nrk_2'): from model_utils_nrk_2 import *\n",
    "# with Timer('weight_analysis'): from weight_analysis import *"
   ]
  },
  {
   "cell_type": "markdown",
   "id": "8834ae9c",
   "metadata": {},
   "source": [
    "## 数据部分"
   ]
  },
  {
   "cell_type": "code",
   "execution_count": 4,
   "id": "11adae9d",
   "metadata": {},
   "outputs": [],
   "source": [
    "# def types_of_things(): return {\n",
    "#     'animal': ['duck', 'goose', 'dog', 'lion', 'cow', 'donkey', 'horse', 'sheep', 'goat', 'tiger', 'cat', 'pig',\n",
    "#             'monkey', 'rabbit', 'elephant', 'wolf', 'deer', 'fox', 'gorilla', 'squirrel', 'mouse'], # 'chicken', 'bear', 'zebra', 'giraffe', 'kangaroo', 21-5, 15-8\n",
    "#     'fruit': ['apple', 'banana', 'pear', 'grapes', 'cherries', 'orange', 'peach', 'plum', 'lemon', 'mango', 'blackberries',\n",
    "#             'blueberries', 'strawberries', 'durian', 'papaya', 'watermelon', 'pineapple', 'kiwi', 'apricot', 'lime'], # may be food too?\n",
    "#     # 'vegetable': ['spinach', 'broccoli', 'lettuce', 'cabbage', 'tomato'],\n",
    "#     'drink': ['tea', 'coffee', 'beer', 'wine', 'whiskey', 'vodka', 'soda', 'juice', 'cocktail'],  # some as alcohol, 21-5, 15-8\n",
    "#     # 'drink': ['tea', 'coffee', 'beer', 'wine', 'whiskey', 'soda', 'juice',    'vodka', 'cocktail'],  # bad order\n",
    "#     'food': ['hamburger', 'burger', 'bread', 'meat', 'pizza', 'cake', 'steak', 'spaghetti',\n",
    "#             # 'biscuits', 'spaghetti', 'chips', 'peanuts', 'nuts', 'pork', 'beef', 'mutton'\n",
    "#             ],  # last three as meat?~L 21-5?~L 15-8\n",
    "#     'weapons': ['gun', 'handgun', 'shotgun', 'rifle',  'pistol', 'revolver', 'grenade', 'cannon'], #'bomb', 'dagger', 'sword',], # 21-5, 15-8, though latter prefers firearm\n",
    "#     # 'color': ['white', 'black', 'red', 'yellow', 'blue', 'green', 'purple', 'pink', 'gray'],  # 15-8\n",
    "#     'insect': ['mosquito', 'beetle', 'bee'], #'spider', 'ant', 'wasp', 'butterfly'],  # , 'fly'\n",
    "#     # 'flower': ['rose', 'tulip', 'lily', 'daisy', 'sunflower'],\n",
    "#     'vehicle': ['car', 'jeep', 'bus', 'taxi', 'motorcycle'],# 'tractor', 'airplane', 'ship', 'bicycle', 'truck', 'train', 'motorbike', 'helicopter', 'carriage',\n",
    "#                 # 'subway', 'van', 'boat'],  # transportation\n",
    "#     # 'furniture': ['sofa', 'couch'], #'desk', 'chair', 'table', 'bed', 'bookshelf'],# 'closet', 'wardrobe'],\n",
    "#     # 'tool': ['hammer', 'spanner', 'awl', 'scissors', 'saw', 'shovel', 'screwdriver', 'wrench', 'drill', 'pliers'], #, 'axe' should be weapon?\n",
    "#     'clothing': ['shirt', 'T-shirt', 'jeans', 'jacket', 'pants', 'trousers', 'shoes', 'sweater', 'jersey', 'underwear', 'costume', 'uniform'],#'dress', 'coat', 'socks', 'hat', 'tie', 'skirt', ],\n",
    "#     # 'clothing': ['shirt', 'T-shirt', 'jeans', 'jacket', 'pants', 'trousers', 'shoes', 'sweater', 'underwear', 'costume', 'uniform',   'jersey'],  # bad order\n",
    "#     # 'appliance': ['microwave', 'fridge', 'washer', 'dryer', 'washing machine'],  #, 'oven'\n",
    "#     # 'fish': [],\n",
    "#     # 'plant': ['tree', 'grass', 'bush', 'weed', 'vine'],\n",
    "#     # 'electronic device': ['laptop', 'iPad', 'phone', 'smartphone'], #'computer', 'television', 'camera', 'printer'],\n",
    "#     # 'electronic device': ['iPad', 'phone', 'smartphone',    'laptop'],  # bad order\n",
    "#     'sport': ['football', 'basketball', 'baseball'],# 'volleyball'],  # 'sport or ball?\n",
    "#     'musical instrument': ['piano', 'violin', 'guitar'],\n",
    "#     # 'utensil': ['spoon', 'fork', 'knife', 'plate', 'cup', 'bowl', 'pot'],\n",
    "#     # 'stationery': ['pen', 'pencil', 'paper', 'eraser', 'notebook', 'book', 'ruler', 'ink', 'stapler', 'rubber'],\n",
    "# }\n",
    "\n",
    "# names_vocab =  [i for i in string.ascii_uppercase]\n",
    "# labels = []\n",
    "# things = []\n",
    "# for i,j in types_of_things().items():\n",
    "#     labels.extend([i for _ in range(len(j))])\n",
    "#     things.extend(j)\n",
    "# sl_vocab = dict(zip(things,labels))\n",
    "\n",
    "# boys = [\n",
    "#     'James', 'David',  'Christopher',  'George',  'Ronald',\n",
    "#     'John', 'Richard',  'Daniel',  'Kenneth',  'Anthony',\n",
    "#     'Robert', 'Charles',  'Paul',  'Steven',  'Kevin',\n",
    "#     'Michael', 'Joseph',  'Mark',  'Edward',  'Jason',\n",
    "#     'William',  'Thomas',  'Donald',  'Brian',  'Jeff',]\n",
    "# girls = [\n",
    "#     'Mary','Jennifer', 'Lisa', 'Sandra', 'Michelle',\n",
    "#     'Patricia','Maria', 'Nancy', 'Donna', 'Laura',\n",
    "#     'Linda','Susan', 'Karen', 'Carol', 'Sarah',\n",
    "#     'Barbara','Margaret', 'Betty', 'Ruth', 'Kimberly',\n",
    "#     'Elizabeth', 'Dorothy', 'Helen', 'Sharon', 'Deborah',]\n",
    "\n",
    "# bg = [\"boys\"]*len(boys)+[\"girls\"]*len(girls)\n",
    "# name_vocab = dict(zip(boys+girls,bg))\n",
    "\n",
    "# # all = solid_vocab+toys\n",
    "# # ft = [\"fruits\"]*len(solid_vocab)+[\"toys\"]*len(toys)\n",
    "# # ft_vocab = dict(zip(all,ft))"
   ]
  },
  {
   "cell_type": "code",
   "execution_count": 5,
   "id": "087b11cd",
   "metadata": {},
   "outputs": [
    {
     "data": {
      "text/plain": [
       "<function model_utils_nrk_2.get_device_map(model_name='transformer', emb_name='wte', layer_name='h', n_layers=60, ln_f_name='ln_f', head_name='lm_head', devices=[0, 1])>"
      ]
     },
     "execution_count": 5,
     "metadata": {},
     "output_type": "execute_result"
    }
   ],
   "source": [
    "get_device_map"
   ]
  },
  {
   "cell_type": "markdown",
   "id": "4b5ff098",
   "metadata": {},
   "source": [
    "## 载入模型"
   ]
  },
  {
   "cell_type": "code",
   "execution_count": 4,
   "id": "2ed31f3f",
   "metadata": {
    "scrolled": true
   },
   "outputs": [
    {
     "name": "stdout",
     "output_type": "stream",
     "text": [
      "lmsys/vicuna-33b-v1.3 ... "
     ]
    },
    {
     "data": {
      "application/vnd.jupyter.widget-view+json": {
       "model_id": "1d3135167f0e4e2f86b0483907623a96",
       "version_major": 2,
       "version_minor": 0
      },
      "text/plain": [
       "Downloading shards:   0%|          | 0/7 [00:00<?, ?it/s]"
      ]
     },
     "metadata": {},
     "output_type": "display_data"
    },
    {
     "name": "stdout",
     "output_type": "stream",
     "text": [
      "In huggingface_hub.file_download.cached_download: url = https://huggingface.co/lmsys/vicuna-33b-v1.3/resolve/main/pytorch_model-00001-of-00007.bin\n",
      "In huggingface_hub.file_download.cached_download: url = https://huggingface.co/lmsys/vicuna-33b-v1.3/resolve/main/pytorch_model-00002-of-00007.bin\n",
      "In huggingface_hub.file_download.cached_download: url = https://huggingface.co/lmsys/vicuna-33b-v1.3/resolve/main/pytorch_model-00003-of-00007.bin\n",
      "In huggingface_hub.file_download.cached_download: url = https://huggingface.co/lmsys/vicuna-33b-v1.3/resolve/main/pytorch_model-00004-of-00007.bin\n",
      "In huggingface_hub.file_download.cached_download: url = https://huggingface.co/lmsys/vicuna-33b-v1.3/resolve/main/pytorch_model-00005-of-00007.bin\n",
      "In huggingface_hub.file_download.cached_download: url = https://huggingface.co/lmsys/vicuna-33b-v1.3/resolve/main/pytorch_model-00006-of-00007.bin\n",
      "In huggingface_hub.file_download.cached_download: url = https://huggingface.co/lmsys/vicuna-33b-v1.3/resolve/main/pytorch_model-00007-of-00007.bin\n"
     ]
    },
    {
     "data": {
      "application/vnd.jupyter.widget-view+json": {
       "model_id": "54580d29145142779213f1b28b3b69eb",
       "version_major": 2,
       "version_minor": 0
      },
      "text/plain": [
       "Loading checkpoint shards:   0%|          | 0/7 [00:00<?, ?it/s]"
      ]
     },
     "metadata": {},
     "output_type": "display_data"
    },
    {
     "name": "stderr",
     "output_type": "stream",
     "text": [
      "You are using the default legacy behaviour of the <class 'transformers.models.llama.tokenization_llama.LlamaTokenizer'>. This is expected, and simply means that the `legacy` (previous) behavior will be used so nothing changes for you. If you want to use the new behaviour, set `legacy=False`. This should only be set if you understand what it means, and thouroughly read the reason why this was added as explained in https://github.com/huggingface/transformers/pull/24565\n"
     ]
    },
    {
     "name": "stdout",
     "output_type": "stream",
     "text": [
      "done 0:00:47.547940\n"
     ]
    }
   ],
   "source": [
    "models = {}\n",
    "cache_dir = '/home/xd/.cache/torch/transformers/'  # for models besides t5-3b/11b\n",
    "# cache_dir = '/mnt/nvme1/xd/.cache/torch/transformers/'  # for gpt-neox-20b on elderberry\n",
    "proxies = {'http': '192.168.50.1:1081'} \n",
    "# curl -x http://192.168.50.1:1081 -L -O [-C -] https://huggingface.co/google/ul2/resolve/main/pytorch_model.bin  # -C for 断点续传\n",
    "s2s_model_names = ['google/t5-xl-lm-adapt', 'google/t5-xxl-lm-adapt', 'bigscience/T0p', 'bigscience/T0_3B', \n",
    "    'allenai/tk-instruct-3b-pos', 'allenai/tk-instruct-3b-def-pos', 'google/ul2']\n",
    "gpt_model_names = ['EleutherAI/gpt-j-6B/cpu', 'EleutherAI/gpt-j-6B/int8', 'EleutherAI/gpt-j-6B',\n",
    "                  ]#, 'EleutherAI/gpt-neox-20b/cpu', #'EleutherAI/gpt-neox-20b', 'gpt2-xl', 'gpt2']\n",
    "llama_model_names = ['lmsys/vicuna-33b-v1.3', \n",
    "                    ]\n",
    "# name2device = {'gpt-j-6B': 1, #'models/vicuna/vicuna-7b': 8, 'models/vicuna/vicuna-13b': 8,  \n",
    "#                'vicuna': 1, 'vicuna-7b-v1.3': 1, 'vicuna-13b-v1.3': 1, 'vicuna-33b-v1.3': 1}\n",
    "name2device = {'gpt-j-6B': 0, #'models/vicuna/vicuna-7b': 8, 'models/vicuna/vicuna-13b': 8,  \n",
    "               'vicuna': 0, 'vicuna-7b-v1.3': 0, 'vicuna-13b-v1.3': 0, 'vicuna-33b-v1.3': 0}\n",
    "for model_name in llama_model_names[-1:]+ gpt_model_names[:0]:\n",
    "    if model_name in models: continue\n",
    "    with Timer(model_name):\n",
    "        model_cls = AutoModelForCausalLM #if any(s in model_name for s in ['gpt', 'fairseq-dense']) else T5ForConditionalGeneration\n",
    "        _cache_dir = cache_dir# .replace('/nas/', '/nas2/') if 'gpt' not in model_name else cache_dir\n",
    "        dst = model_name.split('@')[-1] if '@' in model_name else 'cuda'\n",
    "        model_name = model_name.replace('/cpu', '').replace('/int8', '')\n",
    "        _model_name = model_name.split('/')[-1]\n",
    "        if _model_name.startswith('vicuna'): _model_name = 'vicuna'\n",
    "        kwargs = dict(cache_dir=_cache_dir, proxies=proxies, low_cpu_mem_usage=True)\n",
    "        if dst == 'cpu':\n",
    "            model = model_cls.from_pretrained(model_name, **kwargs)\n",
    "        else:  # fp16 or int8 on GPU\n",
    "            device = name2device[_model_name]\n",
    "            device_map = get_device_map(devices=device, **name2mapping[_model_name]) if isinstance(device, Iterable) else None\n",
    "            dtype_kwargs = dict(load_in_8bit=True) if dst == 'int8' else dict(torch_dtype=torch.float16)\n",
    "            revision_kwargs = dict(revision='float16') if _model_name == 'gpt-j-6B' else {}\n",
    "            model = model_cls.from_pretrained(model_name, device_map=device_map, **dtype_kwargs, **revision_kwargs, **kwargs)\n",
    "            if device_map is None: model = model.to(device)\n",
    "        if hasattr(model.config, 'use_cache'): model.config.use_cache = False  # save GPU mem\n",
    "        # to avoid slow loading of AutoTokenizer->TokenizerFast\n",
    "        tokenizer_cls = LlamaTokenizer \n",
    "        tokenizer = tokenizer_cls.from_pretrained(model_name, cache_dir=_cache_dir)\n",
    "        unify(model); unify_tokenizer(tokenizer)\n",
    "        models[model_name] = model, tokenizer"
   ]
  },
  {
   "cell_type": "code",
   "execution_count": 5,
   "id": "ba5d6c59",
   "metadata": {},
   "outputs": [
    {
     "data": {
      "text/plain": [
       "LlamaTokenizer(name_or_path='lmsys/vicuna-33b-v1.3', vocab_size=32000, model_max_length=2048, is_fast=False, padding_side='right', truncation_side='right', special_tokens={'bos_token': '<s>', 'eos_token': '</s>', 'unk_token': '<unk>', 'pad_token': '<unk>'}, clean_up_tokenization_spaces=False),  added_tokens_decoder={\n",
       "\t0: AddedToken(\"<unk>\", rstrip=False, lstrip=False, single_word=False, normalized=True, special=True),\n",
       "\t1: AddedToken(\"<s>\", rstrip=False, lstrip=False, single_word=False, normalized=True, special=True),\n",
       "\t2: AddedToken(\"</s>\", rstrip=False, lstrip=False, single_word=False, normalized=True, special=True),\n",
       "}"
      ]
     },
     "execution_count": 5,
     "metadata": {},
     "output_type": "execute_result"
    }
   ],
   "source": [
    "tokenizer"
   ]
  },
  {
   "cell_type": "code",
   "execution_count": 6,
   "id": "ab344542",
   "metadata": {},
   "outputs": [],
   "source": [
    "model_name = llama_model_names[-1]  # gpt_model_names/llama_model_names/engines\n",
    "assert not model_name.endswith('/int8'), model_name\n",
    "model, tokenizer = models[model_name]\n",
    "model_name_gpu = model_name.replace('/cpu', '/int8') if model_name.endswith('/cpu') else model_name# + '/int8'\n",
    "model_gpu = models[model_name_gpu][0] if model_name_gpu in models else model  # for prediction rather than attribution\n",
    "\n",
    "blocks = model.transformer.h\n",
    "for i, b in enumerate(blocks): b.layer = i\n",
    "ln_f = model.transformer.ln_f\n",
    "L, H, embed_dim = len(blocks), blocks[0].attn.num_heads, blocks[0].attn.embed_dim"
   ]
  },
  {
   "cell_type": "markdown",
   "id": "2970de31",
   "metadata": {},
   "source": [
    "## 判断逻辑部分"
   ]
  },
  {
   "cell_type": "code",
   "execution_count": 8,
   "id": "e00c4c4e",
   "metadata": {},
   "outputs": [],
   "source": [
    "nums=[\"Zero\",\"One\",\"Two\",\"Three\",\"Four\",\"Five\",\"Six\"]\n",
    "def Compare_the_quantity_of_mask1_and_mask2(cxt, query, g2c=False):\n",
    "    s = cxt\n",
    "    q = query\n",
    "    if(seq(s).filter(lambda x: sl_vocab[x] == q[0]).len() > len(s)/2):\n",
    "        return \">\"\n",
    "    elif(seq(s).filter(lambda x: sl_vocab[x] == q[0]).len() < len(s)/2):\n",
    "        return \"<\"\n",
    "    else:\n",
    "        return \"=\"\n",
    "    \n",
    "def How_many_mask1_are_there(cxt, query, g2c=False):\n",
    "    s = cxt\n",
    "    q = query\n",
    "    return nums[seq(s).filter(lambda x: sl_vocab[x] == q[0]).len()]\n",
    "\n",
    "def Are_there_more_mask1_than_mask2(cxt, query, g2c=False):\n",
    "    s = cxt\n",
    "    q = query\n",
    "    return (seq(s).filter(lambda x: sl_vocab[x] == q[0]).len() >= len(s)/2)\n",
    "\n",
    "def Do_mask1_and_mask2_have_the_same_thing(cxt, query, g2c=False):\n",
    "    SC= cxt\n",
    "    s,d = query\n",
    "    return (seq(SC).filter(_[0] == s).map(_[1])\n",
    "                 .intersection(\n",
    "                     seq(SC).filter(_[0] == d).map(_[1]))\n",
    "                 .non_empty())#,SC,(s,d)\n",
    "\n",
    "def Does_mask2_have_all_the_things_that_mask1_has(cxt, query, g2c=False):\n",
    "    SC= cxt\n",
    "    s,d = query\n",
    "    return (seq(SC).filter(_[0] == d).map(_[1])\n",
    "                 .union(\n",
    "                     seq(SC).filter(_[0] == s).map(_[1]))\n",
    "                 ).distinct().len()== seq(SC).filter(_[0] == d).map(_[1]).distinct().len()\n",
    "\n",
    "\n",
    "def Do_all_mask1_have_mask2(cxt, query, g2c=False):\n",
    "    SC, CD, NS, key, bg = cxt  # SC paris: studeng-course relation, CD pairs: course-department function\n",
    "    d, ss = query  # ss: 种类，d: 男/女\n",
    "#     print(\"SC:\",SC,\"\\nCD:\",CD,\"\\nNS:\",NS,\"\\nbg\",bg,\"\\nkey\",key)\n",
    "#     return seq(ss).map(lambda s: seq(SC).filter(_[0] == s).map(_[1]).intersection(CD.filter(_.[1] == d).map(_.[0])).non_empty()).all()\n",
    "    name = [i[0] for i in NS if i[1] == d]\n",
    "    \n",
    "    return (seq(name)\n",
    "            .map(lambda s: seq(SC).filter(_[0] == s).map(_[1])  # 找到所有该性别的人\n",
    "                 .difference(\n",
    "                     seq(ss)) #  那一类的物品\n",
    "                 .empty())  # s选了d系的课程\n",
    "            .all())  # 学生子集ss都选了d系的课程\n",
    "\n",
    "# CD  #所选物品，物品种类  S\n",
    "# SC  #人，物品  \n",
    "# NS  #人，性别    \n",
    "\n",
    "def Is_mask1_a_mask2(cxt, query, g2c=False): #新建联系，把vocab和属性连起来形成新集合\n",
    "    NA = cxt\n",
    "    s,d = query\n",
    "    d=d+'s'\n",
    "    return (seq(NA).filter(_[0] == s).map(_[1]).select(lambda x: name_vocab[x] == d).all())\n",
    "\n",
    "def Is_the_gender_of_mask1_the_same_as_mask2(cxt, query, g2c=False):\n",
    "    NA = cxt\n",
    "    \n",
    "    s,d = query\n",
    "    d = seq(NA).filter(_[0] == d).map(_[1])\n",
    "    return (seq(NA).filter(_[0] == s).map(_[1]).select(lambda x: name_vocab[x] == name_vocab[d[0]]).all())"
   ]
  },
  {
   "cell_type": "code",
   "execution_count": 9,
   "id": "865674b4",
   "metadata": {},
   "outputs": [],
   "source": [
    "bg = [\"boy\",\"girl\"]"
   ]
  },
  {
   "cell_type": "markdown",
   "id": "1751d64c",
   "metadata": {},
   "source": [
    "## 生成逻辑部分"
   ]
  },
  {
   "cell_type": "code",
   "execution_count": 10,
   "id": "822c3a65",
   "metadata": {},
   "outputs": [],
   "source": [
    "def Compare_sample(vocab, k):\n",
    "    all_vocab,s_vocab,l_vocab = vocab\n",
    "    k_cxt,k_query = k  # k_cxt = 5 ,k_query =2\n",
    "    Vocab = s_vocab+l_vocab\n",
    "    while seq(s:=sample(Vocab, k_cxt)).map(lambda x: sl_vocab[x]).distinct().len() <= 1:continue\n",
    "    return s\n",
    "\n",
    "def compare_sample(vocab, k):\n",
    "    all_vocab,s_vocab,l_vocab = vocab\n",
    "    k_cxt,k_query = k  # k_cxt = 5 ,k_query =2\n",
    "    N = list(all_vocab.keys())\n",
    "    s = sample(N, k_cxt) \n",
    "    return s\n",
    "\n",
    "def Compare_query(cxt,vocab,k): \n",
    "    NA = cxt\n",
    "    all_vocab,s_vocab,l_vocab = vocab\n",
    "    k_cxt,k_query = k\n",
    "    q = [all_vocab[s_vocab[0]]]+[all_vocab[l_vocab[0]]]\n",
    "    return q\n",
    "\n",
    "def count_sample(vocab, k):\n",
    "    all_vocab = vocab\n",
    "    k_cxt,k_query = k  # k_cxt = 4 ,k_query =1\n",
    "    N = list(all_vocab.keys())\n",
    "    s = sample(N, k_cxt) \n",
    "    return s\n",
    "\n",
    "def count_query(cxt,vocab,k): \n",
    "    NA = cxt\n",
    "    k_cxt,k_query = k\n",
    "    N = list(vocab.values())\n",
    "    q = sample(N,k_query)\n",
    "    return q\n",
    "\n",
    "\n",
    "def compare_query(cxt,vocab,k): \n",
    "    NA = cxt\n",
    "    all_vocab,s_vocab,l_vocab = vocab\n",
    "    k_cxt,k_query = k\n",
    "    q = sample(s_vocab,1)+sample(l_vocab,1)\n",
    "    random.shuffle(q)\n",
    "    return q\n",
    "\n",
    "def intersection_sample(vocab, k):\n",
    "    S_vocab, C_vocab = vocab  \n",
    "    k_S, k_C, k_SC = k  # k_S = 3, k_C = 6, , k_SC = 3\n",
    "    S, C= sample(sorted(S_vocab), k_S), sample(C_vocab, k_C)\n",
    "    while(torch.tensor([C[i] == C[0] for i in range(k_C)]).sum() == k_C):\n",
    "        C = sample(C_vocab, k_C)\n",
    "    all_SC = list(itertools.product(S, C)) \n",
    "#     print(type(seq(SC := sample(all_SC, k_SC))))\n",
    "    while seq(SC := sample(all_SC, k_SC)).map(_[0]).distinct().len() < k_S: continue \n",
    "    return SC\n",
    "\n",
    "def intersection_query(cxt,vocab,k):\n",
    "    SC= cxt\n",
    "    k_S, k_C, k_SC = k #k_s = 3, k_C = 5 , k_sc = 6\n",
    "    S = select_distinct(SC, 0)\n",
    "    s,d = sample(S,2)\n",
    "    return s, d\n",
    "\n",
    "\n",
    "def complement_query(cxt,vocab,k):\n",
    "    SC= cxt\n",
    "    k_S, k_C, k_SC = k #k_s = 3, k_C = 5 , k_sc = 6\n",
    "    S = select_distinct(SC, 0)\n",
    "    s,d = sample(S,2)\n",
    "    return s, d\n",
    "\n",
    "def complement_sample(vocab, k):\n",
    "    S_vocab, C_vocab = vocab  \n",
    "    k_S, k_C, k_SC = k  # k_S = 3, k_C = 4, k_SC = 5\n",
    "    S, C= sample(sorted(S_vocab), k_S), sample(C_vocab, k_C)\n",
    "\n",
    "    all_SC = list(itertools.product(S, C))  \n",
    "    while seq(SC := sample(all_SC, k_SC)).map(_[0]).distinct().len() < k_S: continue \n",
    "    return SC\n",
    "\n",
    "def all_a_sample(vocab, k):\n",
    "    all_vocab, name_vocab, value, bg = vocab  # 物品，所选物品，所选种类，男女\n",
    "    k_N, k_S = k\n",
    "    name, S,  bg = sample(sorted(name_vocab),k_N), choices(value, k=k_S),  sample(bg, 1)[0]\n",
    "    key = sample(S, 1)[0]\n",
    "#     CD = list(zip(S,[all_vocab[i] for i in S]))  #所选物品，物品种类\n",
    "    SC = list(zip(sample(name,k_N),S))           #人，物品\n",
    "    NS = [(i[0],name_vocab[i[0]]) for i in SC]         #人，性别\n",
    "    return SC, S, NS, key, bg\n",
    "\n",
    "def all_a_query(cxt,vocab,k):\n",
    "    SC, S, NS, key, bg = cxt\n",
    "    return bg, key\n",
    "\n",
    "def all_a_query2str(query):\n",
    "    d, ss = query\n",
    "#     query_str = '%s,%s?' % (', '.join(ss[:-1]) + ' and ' + ss[-1], d)\n",
    "    return '. ' + query_str\n",
    "\n",
    "def find_sample(vocab, k): \n",
    "    name_vocab, all_vocab = vocab\n",
    "    k_name, k_all = k  \n",
    "#     vocab = sample(list(types_of_things().keys()),2)\n",
    "#     S = types_of_things()[vocab[0]]+types_of_things()[vocab[1]]\n",
    "#     N, A = sample(name_vocab, k_name), sample(S, k_all)\n",
    "    while(1):\n",
    "        N, A = sample(name_vocab, k_name), sample(sorted(all_vocab), k_all)\n",
    "        D = [all_vocab[i] for i in A]\n",
    "        NA = list(map(lambda x, y: (x,y),N, A))\n",
    "        if(seq(N).intersection(seq(A).map(_[0])).len() == 0):\n",
    "            break\n",
    "    return NA\n",
    "\n",
    "def find_sample0(vocab, k): \n",
    "    name_vocab, all_vocab = vocab\n",
    "    k_name, k_all = k  \n",
    "#     vocab = sample(list(types_of_things().keys()),2)\n",
    "#     S = types_of_things()[vocab[0]]+types_of_things()[vocab[1]]\n",
    "#     N, A = sample(name_vocab, k_name), sample(S, k_all)\n",
    "    N, A = sample(name_vocab, k_name), sample(sorted(all_vocab), k_all)\n",
    "    D = [all_vocab[i] for i in A]\n",
    "    NA = list(map(lambda x, y: (x,y),N, A))\n",
    "    return NA\n",
    "\n",
    "def find_query(cxt,vocab,k): \n",
    "    NA = cxt\n",
    "    k_name, k_all = k\n",
    "    S = select_distinct(NA, 0)\n",
    "    s = sample(S,1)\n",
    "    d = sample([\"boy\",\"girl\"],1)\n",
    "    return s[0],d[0]\n",
    "\n",
    "def find_query0(cxt,vocab,k): \n",
    "    NA = cxt\n",
    "    k_name, k_all = k\n",
    "    S = select_distinct(NA, 0)\n",
    "    s = sample(S,2)\n",
    "    return s[0],s[1]\n",
    "\n",
    "def query2str(query,flag=0,g2c=False):\n",
    "    if(flag != 0 and g2c==False):\n",
    "        return query+\"?\"\n",
    "    else:\n",
    "        return query+\".\"\n",
    "\n",
    "\n",
    "def make_input_str(task, nrows=4, ncols=4, flag = 0, full_vocab=None, g2c=False, ans_vocab=[True, False]):\n",
    "    if full_vocab is None: full_vocab = string.ascii_uppercase + string.digits\n",
    "    transform_fn, vocab_fn, sample_fn, query_fn, query2str = task\n",
    "    instruction = transform_fn.__name__.replace('_', ' ')\n",
    "    if vocab_fn is None: vocab_fn = lambda: full_vocab\n",
    "    if query_fn is None: query_fn = lambda *_: None\n",
    "    examples = []\n",
    "    query = None\n",
    "    Ans = []\n",
    "\n",
    "    while(1):\n",
    "        vocab = vocab_fn()\n",
    "        l = sample_fn(vocab, k=ncols)\n",
    "        query = query_fn(l, vocab, ncols)\n",
    "        ans = transform_fn(l, query=query,g2c=g2c)\n",
    "        if len(Ans)==0:\n",
    "            Ans.append(ans)\n",
    "            \n",
    "        else:\n",
    "            if ans==Ans[-1]:\n",
    "                continue\n",
    "            else:\n",
    "                Ans.append(ans)\n",
    "\n",
    "        examples.append([instruction, l, query, ans])\n",
    "        if len(Ans)==nrows:\n",
    "            break      \n",
    "    random.shuffle(examples)\n",
    "    \n",
    "#     examples = balance(examples,ans_vocab)\n",
    "#     desc = promptize(instruction) if True else ''\n",
    "    text = '\\n'.join([make_example_str(e, query2str, flag, g2c) for e in examples])\n",
    "#     text = desc + '\\n' + text + '\\n'\n",
    "    return text,examples\n",
    "\n",
    "def make_example_str(example, query2str, flag=0, g2c=False):\n",
    "    instruction, cxt, query, ans = example\n",
    "    if type(ans) not in [Sequence, list]: ans = [ans]\n",
    "    ans = [verbalize(a) for a in ans]\n",
    "    query_text = instruction\n",
    "    if g2c==True: \n",
    "        instruction = 'mask1 is a mask2'\n",
    "#         if ans=='No':\n",
    "#             query[1] = ''\n",
    "    try:\n",
    "        query_text = instruction.replace('mask1',query[0])\n",
    "        query_text = query_text.replace('mask2',query[1]) if ans==['Yes'] else query_text.replace('mask2',bg[abs(1-bg.index(query[1]))])\n",
    "    except:\n",
    "        pass\n",
    "    \n",
    "#     return '%s -> %s' % (''.join(l[0]) + make_query_str(instruction if with_instruction else None, query), ' '.join(ans))  # by nrk\n",
    "#     return '%s -> %s' % (' '.join(l) + make_query_str(instruction if with_instruction else None, query), ' '.join(ans))  # by XD\n",
    "#     return '%s -> %s' % (make_context_str(cxt) + make_query_str(instruction if with_instruction else None, query[0]), ' '.join(ans))  \n",
    "#     return '%s Answer: %s' % (make_context_str(cxt, flag)+\". \" + query2str(query_text,flag), ' '.join(ans)+'.')\n",
    "    if g2c==True:\n",
    "        return '%s' % (make_context_str(cxt, flag)+\". \" + query2str(query_text,flag,g2c=g2c))\n",
    "    else:\n",
    "        return '%s %s' % (make_context_str(cxt, flag)+\". \" + query2str(query_text,flag,g2c=g2c), ' '.join(ans)+'.')\n",
    "\n",
    "def promptize(s):\n",
    "#     return prompt_token * len(s.split())\n",
    "    return s\n",
    "\n",
    "def verbalize(obj):\n",
    "    if type(obj) == bool: return 'Yes' if obj else 'No'\n",
    "    return str(obj)\n",
    "\n",
    "def make_context_str(cxt, flag=0):\n",
    "    if type(cxt) == list:\n",
    "        if flag == 1:\n",
    "            return is2str(cxt) if type(cxt[0]) == tuple and len(cxt[0]) == 2 else list2str(cxt)\n",
    "            \n",
    "        else:\n",
    "            return has2str(cxt) if type(cxt[0]) == tuple and len(cxt[0]) == 2 else list2str(cxt)\n",
    "    if type(cxt) == tuple:\n",
    "        return make_context_str(cxt[0],flag)  # 用分号分隔context的不同部分\n",
    "    \n",
    "def list2str(l): return 'There are '+','.join(str(i) for i in l)\n",
    "def has2str(pairs): return ', '.join(str(k) + ' has ' + str(v) for k, v in pairs)\n",
    "def is2str(pairs): return ', '.join(str(k) + '\\'s name is ' + str(v) for k, v in pairs)\n",
    "def select_distinct(tuples, col): return seq(tuples).map(_[col]).distinct().list()"
   ]
  },
  {
   "cell_type": "code",
   "execution_count": 11,
   "id": "98abb5f8",
   "metadata": {},
   "outputs": [],
   "source": [
    "tasks = [\n",
    "    (Compare_the_quantity_of_mask1_and_mask2,  lambda: [sl_vocab,(choose:=random.sample(list(types_of_things().values()),2))[0],choose[1]],  Compare_sample,  Compare_query, query2str),\n",
    "    (How_many_mask1_are_there,   lambda: sl_vocab,                            count_sample,       count_query, query2str),\n",
    "    (Are_there_more_mask1_than_mask2,              lambda: [sl_vocab,(choose:=random.sample(list(types_of_things().values()),2))[0],choose[1]],          Compare_sample,  Compare_query, query2str),\n",
    "    \n",
    "    (Do_mask1_and_mask2_have_the_same_thing,           lambda: [name_vocab,types_of_things()['food']],     intersection_sample,    intersection_query, query2str),\n",
    "    (Does_mask2_have_all_the_things_that_mask1_has,           lambda: [name_vocab,types_of_things()['vehicle']],     complement_sample,    complement_query, query2str),\n",
    "    \n",
    "    (Do_all_mask1_have_mask2,    lambda: [sl_vocab,name_vocab,values:=sample(types_of_things()[[list(types_of_things().keys())[random.randint(0,9)]][0]],2),[\"boys\",\"girls\"]],     all_a_sample,    all_a_query, query2str),\n",
    "    (Is_the_gender_of_mask1_the_same_as_mask2, lambda: [string.ascii_uppercase,name_vocab],  find_sample0,    find_query0, query2str),\n",
    "    (Is_mask1_a_mask2,            lambda: [[i for i in string.ascii_uppercase if i not in['A','S','N','I']],name_vocab],      find_sample,    find_query, query2str),\n",
    "    \n",
    "]\n",
    "key = ['Compare_the_quantity_of_mask1_and_mask2','How_many_mask1_are_there','Are_there_more_mask1_than_mask2',\n",
    "       'Do_mask1_and_mask2_have_the_same_thing','Is_mask1_a_subset_of_mask2','Do_all_mask1_have_mask2',\n",
    "       'Is_the_gender_of_mask1_the_same_as_mask2','Is_mask1_a_mask2']"
   ]
  },
  {
   "cell_type": "code",
   "execution_count": 12,
   "id": "ec461326",
   "metadata": {
    "scrolled": true
   },
   "outputs": [
    {
     "name": "stdout",
     "output_type": "stream",
     "text": [
      "[\"J's name is Sharon, T's name is Maria, Y's name is Linda. Y is a girl.\\n Z's name is Michael, T's name is David, H's name is Steven. Z is a boy.\\n Q's name is Richard, V's name is Sandra, X's name is Ronald. Q is a boy.\\n T's name is Ronald, P's name is Deborah, Z's name is Maria. Z is a girl.\\n X's name is Donald, F's name is Donna, J's name is Kimberly. J is a girl.\\n K's name is Nancy, D's name is Sharon, H's name is Jennifer. K is a girl.\\n Y's name is Susan, E's name is James, B's name is George. E is a boy.\\n Q's name is Sarah, J's name is Mary, G's name is Lisa. G is a girl.\\n\", \"F's name is Christopher, D's name is Mark, L's name is William. L is a boy.\\n K's name is Charles, E's name is Donna, F's name is Laura. F is a girl.\\n F's name is Mark, H's name is Kevin, X's name is Betty. X is a girl.\\n Z's name is Kevin, O's name is Susan, D's name is Betty. D is a girl.\\n T's name is Lisa, F's name is James, U's name is Dorothy. U is a girl.\\n M's name is Nancy, Q's name is Elizabeth, C's name is Susan. Q is a girl.\\n Z's name is Jennifer, P's name is Sarah, U's name is Kimberly. Z is a girl.\\n W's name is Joseph, E's name is Lisa, O's name is Richard. E is a girl.\\n\", \"Y's name is Jeff, Z's name is Sarah, D's name is Laura. D is a girl.\\n M's name is Lisa, D's name is Anthony, V's name is Karen. V is a girl.\\n V's name is Lisa, J's name is Christopher, E's name is David. V is a girl.\\n O's name is Donald, Z's name is Brian, Y's name is Kevin. O is a boy.\\n K's name is Michael, V's name is Thomas, O's name is Betty. O is a girl.\\n V's name is Sharon, B's name is Joseph, P's name is Margaret. V is a girl.\\n P's name is Maria, W's name is Deborah, V's name is Brian. V is a boy.\\n B's name is Anthony, U's name is John, T's name is Richard. B is a boy.\\n\", \"Q's name is Jeff, X's name is Sarah, U's name is Michelle. X is a girl.\\n F's name is Paul, C's name is Brian, M's name is William. F is a boy.\\n D's name is Laura, F's name is Robert, X's name is Kevin. X is a boy.\\n G's name is Betty, H's name is Laura, F's name is Charles. G is a girl.\\n B's name is David, Z's name is Ronald, T's name is Donna. T is a girl.\\n Y's name is Linda, D's name is Edward, H's name is Kimberly. H is a girl.\\n X's name is Ruth, E's name is Steven, Q's name is George. Q is a boy.\\n E's name is David, C's name is Ruth, B's name is Ronald. E is a boy.\\n\", \"W's name is Susan, O's name is David, P's name is Ruth. P is a girl.\\n V's name is Carol, B's name is Edward, Y's name is Ruth. Y is a girl.\\n H's name is Linda, M's name is John, T's name is Richard. M is a boy.\\n G's name is Deborah, W's name is Susan, Z's name is Steven. W is a girl.\\n G's name is Mark, F's name is Betty, Y's name is Nancy. G is a boy.\\n R's name is Michael, V's name is Sarah, L's name is Maria. R is a boy.\\n Z's name is Thomas, O's name is Steven, F's name is Charles. F is a boy.\\n T's name is Elizabeth, G's name is David, V's name is Susan. V is a girl.\\n\", \"D's name is Carol, Q's name is Jason, V's name is Margaret. Q is a boy.\\n Y's name is Ruth, B's name is Deborah, F's name is Linda. F is a girl.\\n Q's name is Ruth, P's name is Linda, J's name is Steven. Q is a girl.\\n Z's name is George, J's name is Nancy, Q's name is Deborah. Z is a boy.\\n K's name is Donna, O's name is Sarah, P's name is Ruth. K is a girl.\\n X's name is Karen, T's name is Donna, Y's name is Kenneth. T is a girl.\\n Q's name is Joseph, H's name is Jason, F's name is George. Q is a boy.\\n G's name is Dorothy, E's name is Anthony, F's name is Richard. F is a boy.\\n\", \"G's name is Thomas, E's name is Donald, X's name is Michael. X is a boy.\\n T's name is Laura, K's name is Jason, O's name is Helen. K is a boy.\\n H's name is Michael, B's name is Linda, D's name is Sandra. H is a boy.\\n E's name is Maria, U's name is Thomas, F's name is Karen. E is a girl.\\n G's name is Sarah, K's name is Deborah, E's name is Maria. K is a girl.\\n J's name is Anthony, R's name is Kevin, P's name is Helen. P is a girl.\\n W's name is Mary, U's name is Ruth, E's name is Patricia. U is a girl.\\n B's name is Nancy, M's name is Kenneth, P's name is Jennifer. M is a boy.\\n\", \"Z's name is Michael, E's name is Barbara, Q's name is Anthony. Z is a boy.\\n M's name is Charles, F's name is Lisa, B's name is Sharon. M is a boy.\\n O's name is Patricia, B's name is Ruth, U's name is Sandra. B is a girl.\\n W's name is Helen, G's name is Michelle, O's name is Charles. W is a girl.\\n T's name is Daniel, U's name is James, P's name is Brian. P is a boy.\\n R's name is Sharon, E's name is Laura, F's name is Kimberly. R is a girl.\\n O's name is Dorothy, C's name is Jason, B's name is Donna. B is a girl.\\n M's name is Paul, H's name is John, R's name is Barbara. M is a boy.\\n\", \"B's name is Lisa, P's name is Elizabeth, H's name is Carol. H is a girl.\\n B's name is Charles, P's name is Thomas, Q's name is Jeff. Q is a boy.\\n Z's name is Maria, D's name is Kimberly, H's name is Thomas. D is a girl.\\n F's name is Ronald, P's name is Betty, H's name is George. F is a boy.\\n G's name is Dorothy, O's name is Maria, F's name is Donna. O is a girl.\\n O's name is Barbara, Y's name is Sarah, Z's name is Ruth. Y is a girl.\\n R's name is Edward, O's name is Sharon, G's name is Betty. R is a boy.\\n B's name is Joseph, T's name is John, Z's name is Elizabeth. T is a boy.\\n\", \"X's name is Brian, Y's name is Nancy, P's name is Laura. X is a boy.\\n H's name is Christopher, V's name is David, P's name is Jennifer. H is a boy.\\n M's name is Charles, D's name is Carol, Y's name is Steven. M is a boy.\\n E's name is Donald, L's name is Nancy, P's name is Kevin. E is a boy.\\n L's name is Anthony, K's name is Susan, H's name is Robert. K is a girl.\\n F's name is Daniel, B's name is Mary, X's name is James. B is a girl.\\n O's name is Paul, W's name is Karen, U's name is George. O is a boy.\\n E's name is Steven, G's name is Jeff, U's name is Patricia. U is a girl.\\n\", \"F's name is Anthony, P's name is Lisa, Z's name is Thomas. F is a boy.\\n K's name is Elizabeth, T's name is Robert, F's name is Donna. F is a girl.\\n V's name is Margaret, E's name is Helen, W's name is Ronald. V is a girl.\\n W's name is Sharon, M's name is David, R's name is James. M is a boy.\\n X's name is Jason, E's name is Helen, F's name is Donna. F is a girl.\\n H's name is Barbara, D's name is Robert, W's name is Ruth. W is a girl.\\n W's name is Edward, L's name is Steven, G's name is Maria. G is a girl.\\n L's name is Robert, B's name is William, J's name is Sarah. J is a girl.\\n\", \"L's name is George, U's name is Michelle, E's name is Kevin. U is a girl.\\n C's name is Deborah, W's name is Michael, P's name is Nancy. P is a girl.\\n O's name is Christopher, T's name is Ronald, W's name is Jeff. W is a boy.\\n R's name is Sandra, D's name is Steven, O's name is Christopher. D is a boy.\\n K's name is Mark, L's name is Michael, X's name is George. L is a boy.\\n G's name is Jeff, Y's name is James, B's name is Michelle. G is a boy.\\n Z's name is Margaret, P's name is Ruth, H's name is Kenneth. H is a boy.\\n K's name is Nancy, Y's name is Barbara, C's name is Sharon. C is a girl.\\n\"]\n"
     ]
    }
   ],
   "source": [
    "n_total = 12;  nrows = 8\n",
    "batch_size = 12;  k_shot = 2; g2c=True\n",
    "seed(42)\n",
    "######input_strs = [make_input_str(tasks[num:=0], nrows=9, ncols=(4,2)) for __ in range(n_total)];   #Compare the values of two sets.\n",
    "# input_strs = [make_input_str(tasks[num:=1], nrows=nrows, ncols=(3,1), ans_vocab=[0,1,2,3], flag = 2) for __ in range(n_total)];    #How_many_elements_are_similar_to_the_example\n",
    "# input_strs = [make_input_str(tasks[num:=2], nrows=nrows, ncols=(3,2), flag = 2) for __ in range(n_total)] ;#Is_the_number_of_first_elements_greater_than_the_second_one\n",
    "\n",
    "# input_strs = [make_input_str(tasks[num:=3], nrows=nrows, ncols=(3,6,3), flag = 2) for __ in range(n_total)];     #Is the intersection of two sets empty.\n",
    "# input_strs = [make_input_str(tasks[num:=4], nrows=nrows, ncols=(2,5,3), flag = 2) for __ in range(n_total)];    #Is the first set a subset of the second one\n",
    "# input_strs = [make_input_str(tasks[num:=5], nrows=nrows, ncols=(5, 5), flag = 2) for __ in range(n_total)];    #Do_all_students_choose_courses_in_a_department\n",
    "# input_strs = [make_input_str(tasks[num:=6], nrows=nrows, ncols=(3,3), flag = 1) for __ in range(n_total)];    #Are_there_elements_belonging_to_the_same_class\n",
    "\n",
    "input_strs = [make_input_str(tasks[num:=7], nrows=nrows, ncols=(3,3), flag = 1, g2c=g2c) for __ in range(n_total)]; \n",
    "\n",
    "text= copy.deepcopy(input_strs)\n",
    "for i in range(len(input_strs)):\n",
    "    text[i] = \"\\n \".join([line[:1].upper() + line[1:] for line in input_strs[i][0].split(\"\\n\")])+\"\\n\"\n",
    "\n",
    "print(text)\n",
    "# # # 保存成 JSON \n",
    "# with open(f\"nrk/data/data_{num}.txt\", \"wb\") as f:\n",
    "#     pickle.dump(input_strs, f)\n",
    "    \n",
    "# print(input_strs)\n",
    "# eval_dataset = CHILDDataset(text, tokenizer)"
   ]
  },
  {
   "cell_type": "code",
   "execution_count": 13,
   "id": "72006c36",
   "metadata": {},
   "outputs": [],
   "source": [
    "# n_total = 12;  nrows = 8\n",
    "# batch_size = 12;  k_shot = 6\n",
    "# num = 7\n",
    "# with open(f'nrk/data/data_{num}.txt',\"rb\") as f:\n",
    "#     input_strs = pickle.load(f)\n",
    "\n",
    "# text= copy.deepcopy(input_strs)\n",
    "# for i in range(len(input_strs)):\n",
    "#     text[i] = \"\\n \".join([line[:1].upper() + line[1:] for line in input_strs[i][0].split(\"\\n\")])+\"\\n\""
   ]
  },
  {
   "cell_type": "code",
   "execution_count": 13,
   "id": "07b5bcbe",
   "metadata": {
    "scrolled": true
   },
   "outputs": [],
   "source": [
    "def find_ans0(query,cxt):\n",
    "    if isinstance(query, tuple):\n",
    "        ans0 = tuple([i[1] for i in cxt if i[0] in query])\n",
    "    else:\n",
    "        ans0 = [i[1] for i in cxt if i[1] in types_of_things()[query[0]]]\n",
    "        ans0 = tuple(ans0) if len(ans0) != 0 else ()\n",
    "        \n",
    "    return ans0\n",
    "\n",
    "def find_ans(text):\n",
    "    a = text.split(\"\\n\")\n",
    "    return a\n",
    "    \n",
    "def make_example_ml(input_str,nrows,g2c=False):\n",
    "    Example = []\n",
    "    \n",
    "    for i in range(len(input_str)):\n",
    "        example = []\n",
    "        for j in range(nrows):\n",
    "            cxt = input_str[i][1][j][1]\n",
    "            query = input_str[i][1][j][2]\n",
    "            candidates,ans_chain =  [[]],[]\n",
    "            if input_str[i][1][j][3] in [True,False] and g2c==False:\n",
    "                ans = 'Yes' if input_str[i][1][j][3]==True else 'No'\n",
    "            elif g2c == True:\n",
    "                ans = input_str[i][1][j][2][1] if input_str[i][1][j][3]==True else bg[1-abs(bg.index(input_str[i][1][j][2][1]))]\n",
    "            else:\n",
    "                ans = input_str[i][1][j][3]\n",
    "                \n",
    "            if not isinstance(cxt[0], tuple):\n",
    "                cxt = [(None,cxt[i]) for i in range(len(cxt))]\n",
    "            \n",
    "            \n",
    "            candidates.append([cxt[i][0] for i in range(len(cxt))])\n",
    "            candidates.append([cxt[i][1] for i in range(len(cxt))])\n",
    "            candidates.append([cxt[i][1] for i in range(len(cxt))])\n",
    "            candidates.append(['boy','girl'])\n",
    "            \n",
    "            \n",
    "            ans0 = find_ans0(query,cxt)\n",
    "            ans_chain.append([cxt[i][0] for i in range(len(cxt)) if cxt[i][1] in ans0])\n",
    "            ans_chain.append(ans0)\n",
    "            ans_chain.append(query[1])\n",
    "            \n",
    "#             print(\"cxt:\",cxt)\n",
    "#             print(\"query:\",query)\n",
    "#             print(\"candidates:\",candidates)\n",
    "#             print(\"ans_chain:\",ans_chain)\n",
    "            example.append([cxt,query[0],tuple(candidates),tuple(ans_chain),ans])\n",
    "        Example.append(example)    \n",
    "    return Example"
   ]
  },
  {
   "cell_type": "code",
   "execution_count": 15,
   "id": "c840c29c",
   "metadata": {
    "scrolled": true
   },
   "outputs": [
    {
     "name": "stdout",
     "output_type": "stream",
     "text": [
      "J's name is Sharon, T's name is Maria, Y's name is Linda. Y is a girl.\n",
      " Z's name is Michael, T's name is David, H's name is Steven. Z is a boy.\n",
      " Q's name is Richard, V's name is Sandra, X's name is Ronald. Q is a boy.\n",
      "0.19180133550738296 0.9305555555555556 0.888861111111111\n"
     ]
    },
    {
     "data": {
      "image/png": "[encoded data removed]",
      "text/plain": [
       "<Figure size 640x480 with 1 Axes>"
      ]
     },
     "metadata": {},
     "output_type": "display_data"
    },
    {
     "name": "stdout",
     "output_type": "stream",
     "text": [
      "attribute_tree ... In attribute_tree: attribute_step  ... done 0:00:03.072061\n",
      "In _add_node: add @7 38-m 45\n",
      "In _add_node: add @8 57-m 38\n",
      "In _add_node: add @9 31-m 38\n",
      "In _add_node: add @10 51-m 35\n",
      "In _add_node: add @12 55-m 32\n",
      "In _add_node: add @14 49-m 26\n",
      "In _add_node: add @0 34-7 100 B->A]^ 26/10 attn\n",
      "In _add_node: add @1 31-50 93 B->A]^ 64/52 attn\n",
      "In _add_node: add @2 37-47 76 B->A]^ 60/42 attn\n",
      "In _add_node: add @3 45-36 61 B->A]^ 43/34 attn\n",
      "In _add_node: add @4 40-21 60 B->A]^ 47/21 attn\n",
      "In _add_node: add @5 43-36 58 B->A]^ 63/22 attn\n",
      "In _add_node: add @6 28-34 45 B->A]^ 50/42 attn\n",
      "In _add_node: add @11 58-13 35 B->A]^ 49/21 attn\n",
      "In _add_node: add @13 32-12 27 B->A]^ 52/23 attn\n",
      "In _add_node: add @[7,8,9,10,12,14] 38-m,57-m,31-m,51-m,55-m,49-m 26 B->B 41\n",
      "In _add_node: add @[0,1,2,3,4,5,6,11,13] 34-7,31-50,37-47,45-36,40-21,43-36,28-34,58-13,32-12 27 B->A]^ 30\n",
      "In _add_node: add 34-7 B->A]^ attn\n",
      "In attribute_tree: attribute_step 34-7 B->A]^ attn ... done 0:00:02.120450\n",
      "In _add_node: add @0 26-51 100 B->A]^ 36/23 attn\n",
      "In _add_node: add @2 26-13 77 B->A]^ 61/51 attn\n",
      "In _add_node: add @3 23-27 68 B->A]^ 54/30 attn\n",
      "In _add_node: add @4 10-13 59 B->A]^ 22/18 attn\n",
      "In _add_node: add @6 11-1 49 B->A]^ 71/39 attn\n",
      "In _add_node: add @7 26-27 45 B->A]^ 56/44 attn\n",
      "In _add_node: add @9 24-34 40 B->A]^ 53/35 attn\n",
      "In _add_node: add @10 13-29 40 B->A]^ 46/36 attn\n",
      "In _add_node: add @11 16-17 32 B->A]^ 42/25 attn\n",
      "In _add_node: add @12 15-4 27 B->A]^ 54/40 attn\n",
      "In _add_node: add @13 20-45 26 B->A]^ 30/10 attn\n",
      "In _add_node: add @5 24-51 49 B->Q+ 50/24/-19\n",
      "In _add_node: add @8 32-47 42 B->Q+ 81/42/58 attn\n",
      "In _add_node: add @8 32-47 42 B->Q+ 81/42/58\n",
      "In _add_node: add @14 18-13 26 B->Q+ 21/10/94 attn\n",
      "In _add_node: add @14 18-13 26 B->Q+ 21/10/94\n",
      "In _add_node: add @1 27-m 81\n",
      "In _add_node: add @[0,2,3,4,6,7,9,10,11,12,13] 26-51,26-13,23-27,10-13,11-1,26-27,24-34,13-29,16-17,15-4 27,20-45 26 B->A]^ 35\n",
      "In _add_node: add @[5,8,14] 24-51,32-47,18-13 26 B->Q+ 10\n",
      "In _add_node: add @[1] 27-m B->B 10\n",
      "In _add_node: add 26-51 B->A]^ attn\n",
      "In _add_node: add 27-m B->B\n",
      "In _add_node: add 24-51 B->Q+\n",
      "In attribute_tree: attribute_step 26-51 B->A]^ attn ... done 0:00:01.412567\n",
      "In _add_node: add @0 23-27 100 B->A]^ 54/30 attn\n",
      "In _add_node: add @1 11-1 72 B->A]^ 72/39 attn\n",
      "In _add_node: add @2 10-13 67 B->A]^ 23/18 attn\n",
      "In _add_node: add @4 16-17 45 B->A]^ 40/25 attn\n",
      "In _add_node: add @5 16-3 44 B->A]^ 46/25 attn\n",
      "In _add_node: add @6 11-10 42 B->A]^ 26/21 attn\n",
      "In _add_node: add @7 22-6 40 B->A]^ 28/12 attn\n",
      "In _add_node: add @8 17-43 38 B->A]^ 25/13 attn\n",
      "In _add_node: add @9 25-25 38 B->A]^ 30/18 attn\n",
      "In _add_node: add @10 15-4 35 B->A]^ 56/40 attn\n",
      "In _add_node: add @11 16-10 33 B->A]^ 54/39 attn\n",
      "In _add_node: add @12 18-12 32 B->A]^ 42/21 attn\n",
      "In _add_node: add @13 18-20 31 B->Q+ 40/29/-39\n",
      "In _add_node: add @14 24-51 31 B->Q+ 57/24/-19\n",
      "In _add_node: add @3 24-35 55 B->Q] 50/21/-26\n",
      "In _add_node: add @[0,1,2,4,5,6,7,8,9,10,11,12] 23-27,11-1,10-13,16-17,16-3,11-10,22-6,17-43,25-25,15-4,16-10,18-12 B->A]^ 33\n",
      "In _add_node: add @[13,14] 18-20,24-51 B->Q+ 8\n",
      "In _add_node: add @[3] 24-35 B->Q] 5\n",
      "In _add_node: add 24-35 B->Q]\n",
      "In attribute_tree: attribute_step 24-35 B->Q] ... done 0:00:01.332153\n",
      "In _add_node: add @0 23-27 100 Q]->A]^ 26/25/100 attn\n",
      "In _add_node: add @0 23-27 100 Q]->A]^ 26/25/100\n",
      "In _add_node: add @1 16-17 55 Q]->A]^ 26/27/100 attn\n",
      "In _add_node: add @1 16-17 55 Q]->A]^ 26/27/100\n",
      "In _add_node: add @2 16-3 52 Q]->A]^ 23/35/100 attn\n",
      "In _add_node: add @2 16-3 52 Q]->A]^ 23/35/100\n",
      "In _add_node: add @3 18-12 42 Q]->A]^ 26/23/100 attn\n",
      "In _add_node: add @3 18-12 42 Q]->A]^ 26/23/100\n",
      "In _add_node: add @4 17-43 37 Q]->A]^ 12/14/100 attn\n",
      "In _add_node: add @4 17-43 37 Q]->A]^ 12/14/100\n",
      "In _add_node: add @7 19-33 28 Q]->A]^ 15/9/100 attn\n",
      "In _add_node: add @7 19-33 28 Q]->A]^ 15/9/100\n",
      "In _add_node: add @8 12-18 28 Q]->A]^ 16/13/100 attn\n",
      "In _add_node: add @8 12-18 28 Q]->A]^ 16/13/100\n",
      "In _add_node: add @9 11-1 28 Q]->A]^ 6/4/100 attn\n",
      "In _add_node: add @9 11-1 28 Q]->A]^ 6/4/100\n",
      "In _add_node: add @11 15-7 27 Q]->A]^ 11/7/100 attn\n",
      "In _add_node: add @11 15-7 27 Q]->A]^ 11/7/100\n",
      "In _add_node: add @12 11-10 25 Q]->A]^ 6/7/100 attn\n",
      "In _add_node: add @12 11-10 25 Q]->A]^ 6/7/100\n",
      "In _add_node: add @14 23-16 23 Q]->A]^ 4/2/100 attn\n",
      "In _add_node: add @14 23-16 23 Q]->A]^ 4/2/100\n",
      "In _add_node: add @6 23-12 32 Q]->Q] 6/7/82\n",
      "In _add_node: add @6 23-12 32 Q]->Q] 6/7/82 attn:Q->~<s>\n",
      "In _add_node: add @10 17-18 27 Q]->Q] 4/4/-91\n",
      "In _add_node: add @13 3-m 24\n",
      "In _add_node: add @5 13-29 32 Q]->T0] 7/18/50 attn\n",
      "In _add_node: add @5 13-29 32 Q]->T0] 7/18/50\n",
      "In _add_node: add @[0,1,2,3,4,7,8,9,11,12,14] 23-27,16-17,16-3,18-12,17-43,19-33 28,12-18 28,11-1 28,15-7 27,11-10 25,23-16 23 Q]->A]^ 12\n",
      "In _add_node: add @[6,10,13] 23-12,17-18 27,3-m 24 Q]->Q] 8\n",
      "In _add_node: add @[5] 13-29 unk 0\n",
      "In _add_node: add 17-18 Q]->Q]\n",
      "In attribute_tree: attribute_step 17-18 Q]->Q] ... done 0:00:00.947392\n",
      "In _add_node: add @0 12-m 100\n",
      "In _add_node: add @5 16-51 71 Q]->Q] 0/3/36\n",
      "In _add_node: add @5 16-51 71 Q]->Q] 0/3/36 attn:Q->~<s>\n",
      "In _add_node: add @7 15-22 66 Q]->Q] 0/4/-33\n",
      "In _add_node: add @12 15-40 45 Q]->Q] 1/6/-27\n",
      "In _add_node: add @1 13-29 90 Q]->T0] 1/18/50 attn\n",
      "In _add_node: add @1 13-29 90 Q]->T0] 1/18/50\n",
      "In _add_node: add @2 15-7 82 Q]->A]^ 1/7/100 attn\n",
      "In _add_node: add @2 15-7 82 Q]->A]^ 1/7/100\n",
      "In _add_node: add @3 12-13 77 Q]->T0] 1/16/37 attn\n",
      "In _add_node: add @3 12-13 77 Q]->T0] 1/16/37\n",
      "In _add_node: add @4 16-17 74 Q]->A]^ 5/27/100 attn\n",
      "In _add_node: add @4 16-17 74 Q]->A]^ 5/27/100\n",
      "In _add_node: add @6 14-2 66 Q]->A]^ 0/1/100 attn\n",
      "In _add_node: add @6 14-2 66 Q]->A]^ 0/1/100\n",
      "In _add_node: add @8 15-2 63 Q]->A0] 1/16/47 attn\n",
      "In _add_node: add @8 15-2 63 Q]->A0] 1/16/47\n",
      "In _add_node: add @9 14-16 59 Q]->A]^ 1/4/100 attn\n",
      "In _add_node: add @9 14-16 59 Q]->A]^ 1/4/100\n",
      "In _add_node: add @10 12-18 56 Q]->A]^ 2/13/100 attn\n",
      "In _add_node: add @10 12-18 56 Q]->A]^ 2/13/100\n",
      "In _add_node: add @11 13-42 54 Q]->T0] 1/6/76 attn\n",
      "In _add_node: add @11 13-42 54 Q]->T0] 1/6/76\n",
      "In _add_node: add @13 9-11 44 Q]->A0] 0/5/50 attn\n",
      "In _add_node: add @13 9-11 44 Q]->A0] 0/5/50\n",
      "In _add_node: add @14 11-31 43 Q]->T0] 0/3/13\n",
      "In _add_node: add @[0,5,7,12] 12-m,16-51,15-22,15-40 Q]->Q] 7\n",
      "In _add_node: add @[1,2,3,4,6,8,9,10,11,13,14] 13-29,15-7,12-13,16-17,14-2,15-2,14-16,12-18,13-42,9-11,11-31 unk 0\n",
      "In attribute_tree: attribute_step 27-m B->B ... done 0:00:01.598156\n",
      "In _add_node: add @2 22-m 89\n",
      "In _add_node: add @5 13-m 53\n",
      "In _add_node: add @6 16-m 49\n",
      "In _add_node: add @8 24-m 44\n",
      "In _add_node: add @10 15-m 32\n",
      "In _add_node: add @11 7-m 32\n",
      "In _add_node: add @12 18-m 32\n",
      "In _add_node: add @13 10-m 31\n",
      "In _add_node: add @0 26-51 100 B->A]^ 37/23\n",
      "In _add_node: add @1 26-13 98 B->A]^ 60/51\n",
      "In _add_node: add @3 24-34 64 B->A]^ 49/35\n",
      "In _add_node: add @4 24-20 57 B->A]^ 44/31\n",
      "In _add_node: add @7 26-27 45 B->A]^ 48/44\n",
      "In _add_node: add @9 18-12 34 B->A]^ 52/21\n",
      "In _add_node: add @14 25-8 29 B->A]^ 52/30\n",
      "In _add_node: add @[2,5,6,8,10,11,12,13] 22-m,13-m,16-m,24-m,15-m,7-m,18-m,10-m B->B 54\n",
      "In _add_node: add @[0,1,3,4,7,9,14] 26-51,26-13,24-34,24-20,26-27,18-12,25-8 29 B->A]^ 23\n",
      "In _add_node: add 22-m B->B\n",
      "In attribute_tree: attribute_step 22-m B->B ... done 0:00:01.372528\n",
      "In _add_node: add @1 18-m 73\n",
      "In _add_node: add @5 8-37 41 B->B 1/1/10\n",
      "In _add_node: add @14 9-44 29 B->B 30/22/64\n",
      "In _add_node: add @14 9-44 29 B->B 30/22/64 attn:B->~<s>\n",
      "In _add_node: add @0 16-5 100 B->A]^ 31/29\n",
      "In _add_node: add @2 16-17 44 B->A]^ 32/25\n",
      "In _add_node: add @3 15-40 43 B->A]^ 14/11\n",
      "In _add_node: add @4 16-51 42 B->A]^ 19/8\n",
      "In _add_node: add @6 16-10 41 B->A]^ 43/39\n",
      "In _add_node: add @9 14-27 38 B->A]^ 3/5\n",
      "In _add_node: add @12 11-10 34 B->A]^ 24/21\n",
      "In _add_node: add @7 18-29 40 B->Q+ 42/25/26\n",
      "In _add_node: add @11 15-7 34 B->Q+ 28/8/34 attn\n",
      "In _add_node: add @11 15-7 34 B->Q+ 28/8/34\n",
      "In _add_node: add @13 14-16 32 B->Q+ 25/15/43 attn\n",
      "In _add_node: add @13 14-16 32 B->Q+ 25/15/43\n",
      "In _add_node: add @10 17-18 37 B->Q] 11/15/64 attn\n",
      "In _add_node: add @10 17-18 37 B->Q] 11/15/64\n",
      "In _add_node: add @8 15-49 39 B->A0] 5/3/57 attn\n",
      "In _add_node: add @8 15-49 39 B->A0] 5/3/57\n",
      "In _add_node: add @[1,5,14] 18-m,8-37,9-44 29 B->B 13\n",
      "In _add_node: add @[0,2,3,4,6,9,12] 16-5,16-17,15-40,16-51,16-10,14-27,11-10 B->A]^ 12\n",
      "In _add_node: add @[7,11,13] 18-29,15-7,14-16 B->Q+ 9\n",
      "In _add_node: add @[10] 17-18 B->Q] 3\n",
      "In _add_node: add @[8] 15-49 B->A0] 1\n",
      "In _add_node: add 17-18 B->Q]\n",
      "In _add_node: add 17-18 B->Q] attn\n"
     ]
    },
    {
     "name": "stdout",
     "output_type": "stream",
     "text": [
      "In attribute_tree: attribute_step 17-18 B->Q] ... done 0:00:01.161544\n",
      "In _add_node: add @1 15-40 86 Q]->Q] 2/6/-27\n",
      "In _add_node: add @2 15-22 58 Q]->Q] 2/4/-33\n",
      "In _add_node: add @9 12-m 33\n",
      "In _add_node: add @13 8-1 29 Q]->Q] 1/3/-281\n",
      "In _add_node: add @0 16-17 100 Q]->A]^ 15/27/100 attn\n",
      "In _add_node: add @0 16-17 100 Q]->A]^ 15/27/100\n",
      "In _add_node: add @3 15-7 55 Q]->A]^ 5/7/100 attn\n",
      "In _add_node: add @3 15-7 55 Q]->A]^ 5/7/100\n",
      "In _add_node: add @4 11-1 47 Q]->A]^ 4/4/100 attn\n",
      "In _add_node: add @4 11-1 47 Q]->A]^ 4/4/100\n",
      "In _add_node: add @5 13-46 43 Q]->A]^ 1/2/100 attn\n",
      "In _add_node: add @5 13-46 43 Q]->A]^ 1/2/100\n",
      "In _add_node: add @7 12-18 39 Q]->A]^ 7/13/100 attn\n",
      "In _add_node: add @7 12-18 39 Q]->A]^ 7/13/100\n",
      "In _add_node: add @8 8-34 34 Q]->A]^ 2/2/100 attn\n",
      "In _add_node: add @8 8-34 34 Q]->A]^ 2/2/100\n",
      "In _add_node: add @10 14-16 33 Q]->A]^ 3/4/100 attn\n",
      "In _add_node: add @10 14-16 33 Q]->A]^ 3/4/100\n",
      "In _add_node: add @11 14-27 33 Q]->A]^ 1/1/100 attn\n",
      "In _add_node: add @11 14-27 33 Q]->A]^ 1/1/100\n",
      "In _add_node: add @6 13-29 42 Q]->T0] 4/18/50 attn\n",
      "In _add_node: add @6 13-29 42 Q]->T0] 4/18/50\n",
      "In _add_node: add @12 12-13 29 Q]->T0] 4/16/37 attn\n",
      "In _add_node: add @12 12-13 29 Q]->T0] 4/16/37\n",
      "In _add_node: add @14 13-32 29 Q]->T0] 1/2/-14\n",
      "In _add_node: add @[1,2,9,13] 15-40,15-22,12-m,8-1 29 Q]->Q] 7\n",
      "In _add_node: add @[0,3,4,5,7,8,10,11] 16-17,15-7,11-1,13-46,12-18,8-34,14-16,14-27 Q]->A]^ 3\n",
      "In _add_node: add @[6,12,14] 13-29,12-13 29,13-32 29 Q]->T0] 1\n",
      "In attribute_tree: attribute_step 17-18 B->Q] attn ... done 0:00:00.876896\n",
      "In _add_node: add @0 12-m 100\n",
      "In _add_node: add @1 13-m 98\n",
      "In _add_node: add @4 11-m 62\n",
      "In _add_node: add @6 10-m 55\n",
      "In _add_node: add @12 14-m 48\n",
      "In _add_node: add @14 8-37 43 B->B 1/1/10\n",
      "In _add_node: add @2 15-40 66 B->A]^ 14/11\n",
      "In _add_node: add @5 11-1 60 B->A]^ 62/39\n",
      "In _add_node: add @7 16-10 54 B->A]^ 48/39\n",
      "In _add_node: add @9 10-13 53 B->A]^ 21/18\n",
      "In _add_node: add @11 13-29 49 B->A]^ 43/36\n",
      "In _add_node: add @13 16-17 46 B->A]^ 34/25\n",
      "In _add_node: add @3 14-30 65 B->Q] 68/37/90 attn\n",
      "In _add_node: add @3 14-30 65 B->Q] 68/37/90\n",
      "In _add_node: add @10 15-0 50 B->Q] 44/20/48 attn\n",
      "In _add_node: add @10 15-0 50 B->Q] 44/20/48\n",
      "In _add_node: add @8 15-7 54 B->Q+ 29/8/34 attn\n",
      "In _add_node: add @8 15-7 54 B->Q+ 29/8/34\n",
      "In _add_node: add @[0,1,4,6,12,14] 12-m,13-m,11-m,10-m,14-m,8-37 B->B 35\n",
      "In _add_node: add @[2,5,7,9,11,13] 15-40,11-1,16-10,10-13,13-29,16-17 B->A]^ 15\n",
      "In _add_node: add @[3,10] 14-30,15-0 B->Q] 8\n",
      "In _add_node: add @[8] 15-7 unk 0\n",
      "In attribute_tree: attribute_step 24-51 B->Q+ ... done 0:00:01.384535\n",
      "In _add_node: add @1 11-1 94 Q+->A]^ 22/30/100 attn\n",
      "In _add_node: add @1 11-1 94 Q+->A]^ 22/30/100\n",
      "In _add_node: add @2 23-27 83 Q+->A]^ 21/24/100 attn\n",
      "In _add_node: add @2 23-27 83 Q+->A]^ 21/24/100\n",
      "In _add_node: add @4 16-17 68 Q+->A]^ 14/24/100 attn\n",
      "In _add_node: add @4 16-17 68 Q+->A]^ 14/24/100\n",
      "In _add_node: add @5 18-12 59 Q+->A]^ 27/32/100 attn\n",
      "In _add_node: add @5 18-12 59 Q+->A]^ 27/32/100\n",
      "In _add_node: add @6 20-45 58 Q+->A]^ 12/8/100 attn\n",
      "In _add_node: add @6 20-45 58 Q+->A]^ 12/8/100\n",
      "In _add_node: add @7 19-33 57 Q+->A]^ 9/8/100 attn\n",
      "In _add_node: add @7 19-33 57 Q+->A]^ 9/8/100\n",
      "In _add_node: add @8 15-47 53 Q+->A]^ 11/9/100 attn\n",
      "In _add_node: add @8 15-47 53 Q+->A]^ 11/9/100\n",
      "In _add_node: add @10 10-13 44 Q+->A]^ 12/11/100 attn\n",
      "In _add_node: add @10 10-13 44 Q+->A]^ 12/11/100\n",
      "In _add_node: add @12 16-3 41 Q+->A]^ 16/32/100 attn\n",
      "In _add_node: add @12 16-3 41 Q+->A]^ 16/32/100\n",
      "In _add_node: add @3 18-13 69 Q+->Q+ 19/17/96\n",
      "In _add_node: add @3 18-13 69 Q+->Q+ 19/17/96 attn:Q->~<s>\n",
      "In _add_node: add @0 13-29 100 Q+->Q+^ 12/21/100 attn\n",
      "In _add_node: add @0 13-29 100 Q+->Q+^ 12/21/100\n",
      "In _add_node: add @11 11-48 42 Q+->Q+^ 6/9/100 attn\n",
      "In _add_node: add @11 11-48 42 Q+->Q+^ 6/9/100\n",
      "In _add_node: add @14 12-50 38 Q+->Q+^ 5/6/100 attn\n",
      "In _add_node: add @14 12-50 38 Q+->Q+^ 5/6/100\n",
      "In _add_node: add @9 15-0 48 Q+->Q] 11/10/78 attn\n",
      "In _add_node: add @9 15-0 48 Q+->Q] 11/10/78\n",
      "In _add_node: add @13 15-24 41 Q+->Q] 12/22/48 attn\n",
      "In _add_node: add @13 15-24 41 Q+->Q] 12/22/48\n",
      "In _add_node: add @[1,2,4,5,6,7,8,10,12] 11-1,23-27,16-17,18-12,20-45,19-33,15-47,10-13,16-3 Q+->A]^ 10\n",
      "In _add_node: add @[3] 18-13 Q+->Q+ 3\n",
      "In _add_node: add @[0,11,14] 13-29,11-48,12-50 Q+->Q+^ 2\n",
      "In _add_node: add @[9,13] 15-0,15-24 Q+->Q] 2\n",
      "In _add_node: add 15-0 Q+->Q]\n",
      "In _add_node: add 15-0 Q+->Q] attn\n",
      "In attribute_tree: attribute_step 15-0 Q+->Q] ... done 0:00:00.846816\n",
      "In _add_node: add @6 12-m 43\n",
      "In _add_node: add @7 12-39 39 Q]->Q] 1/3/-56\n",
      "In _add_node: add @12 11-3 29 Q]->Q] 0/5/-13\n",
      "In _add_node: add @13 14-30 29 Q]->Q] 4/11/80\n",
      "In _add_node: add @13 14-30 29 Q]->Q] 4/11/80 attn:Q->~<s>\n",
      "In _add_node: add @14 10-50 26 Q]->Q] 0/4/-17\n",
      "In _add_node: add @1 11-48 71 Q]->T0] 2/12/44 attn\n",
      "In _add_node: add @1 11-48 71 Q]->T0] 2/12/44\n",
      "In _add_node: add @2 11-31 70 Q]->T0] 0/3/13\n",
      "In _add_node: add @4 12-50 52 Q]->T0] 18/44/39 attn\n",
      "In _add_node: add @4 12-50 52 Q]->T0] 18/44/39\n",
      "In _add_node: add @5 13-50 48 Q]->T0] 1/11/68 attn\n",
      "In _add_node: add @5 13-50 48 Q]->T0] 1/11/68\n",
      "In _add_node: add @8 14-18 39 Q]->T0] 1/8/15\n",
      "In _add_node: add @9 11-50 36 Q]->T0] 6/28/83 attn\n",
      "In _add_node: add @9 11-50 36 Q]->T0] 6/28/83\n",
      "In _add_node: add @11 8-37 29 Q]->T0] 20/76/36 attn\n",
      "In _add_node: add @11 8-37 29 Q]->T0] 20/76/36\n",
      "In _add_node: add @0 12-8 100 Q]->A0] 14/54/-36\n",
      "In _add_node: add @10 10-23 32 Q]->A0] 1/9/-26\n",
      "In _add_node: add @3 14-2 54 Q]->A]^ 0/1/100 attn\n",
      "In _add_node: add @3 14-2 54 Q]->A]^ 0/1/100\n",
      "In _add_node: add @[6,7,12,13,14] 12-m,12-39,11-3 29,14-30 29,10-50 26 Q]->Q] 7\n",
      "In _add_node: add @[1,2,4,5,8,9,11] 11-48,11-31,12-50,13-50,14-18,11-50,8-37 29 Q]->T0] 3\n",
      "In _add_node: add @[0,10] 12-8,10-23 Q]->A0] 1\n",
      "In _add_node: add @[3] 14-2 unk 0\n",
      "In _add_node: add 12-8 Q]->A0]\n",
      "In attribute_tree: attribute_step 12-8 Q]->A0] ... done 0:00:00.740941\n",
      "In _add_node: add @0 11-31 100 A0]->A0] 0/1/-93\n",
      "In _add_node: add @1 11-48 62 A0]->A0] 3/5/-72\n",
      "In _add_node: add @2 5-m 32\n",
      "In _add_node: add @3 11-3 31 A0]->A0] 0/1/-129\n",
      "In _add_node: add @4 6-7 31 A0]->A0] 1/3/-92\n",
      "In _add_node: add @5 6-4 27 A0]->A0] 1/3/-238\n",
      "In _add_node: add @7 10-13 26 A0]->A0] 0/1/-242\n",
      "In _add_node: add @8 7-m 25\n",
      "In _add_node: add @9 10-50 23 A0]->A0] 0/1/-521\n",
      "In _add_node: add @11 7-22 22 A0]->A0] 0/0/-288\n",
      "In _add_node: add @12 10-23 21 A0]->A0] 4/6/55\n",
      "In _add_node: add @12 10-23 21 A0]->A0] 4/6/55 attn:A0->~<s>\n",
      "In _add_node: add @13 7-10 20 A0]->A0] 0/1/-251\n",
      "In _add_node: add @6 9-29 26 A0]->T0] 7/11/19\n",
      "In _add_node: add @10 11-12 23 A0]->T0] 3/5/79 attn\n",
      "In _add_node: add @10 11-12 23 A0]->T0] 3/5/79\n",
      "In _add_node: add @14 8-34 20 A0]->T0] 1/2/7\n",
      "In _add_node: add @[0,1,2,3,4,5,7,8,9,11,12,13] 11-31,11-48,5-m,11-3,6-7,6-4 27,10-13 26,7-m 25,10-50 23,7-22 22,10-23 21,7-10 20 A0]->A0] 14\n",
      "In _add_node: add @[6,10,14] 9-29 26,11-12 23,8-34 20 unk 0\n",
      "In attribute_tree: attribute_step 15-0 Q+->Q] attn ... done 0:00:00.764225\n",
      "In _add_node: add @5 11-m 74\n",
      "In _add_node: add @9 14-18 59 Q+->Q+ 1/6/76\n",
      "In _add_node: add @9 14-18 59 Q+->Q+ 1/6/76 attn:Q->~<s>\n",
      "In _add_node: add @11 8-m 56\n",
      "In _add_node: add @0 14-7 100 Q+->Q] 7/6/34 attn\n",
      "In _add_node: add @2 13-42 89 Q+->Q] 5/10/43 attn\n",
      "In _add_node: add @7 12-39 68 Q+->Q] 50/38/75 attn\n",
      "In _add_node: add @1 10-13 96 Q+->A]^ 7/11/100 attn\n",
      "In _add_node: add @1 10-13 96 Q+->A]^ 7/11/100\n",
      "In _add_node: add @3 13-50 88 Q+->A]^ 1/1/100 attn\n",
      "In _add_node: add @3 13-50 88 Q+->A]^ 1/1/100\n",
      "In _add_node: add @4 7-9 84 Q+->A]^ 8/19/100 attn\n",
      "In _add_node: add @4 7-9 84 Q+->A]^ 8/19/100\n",
      "In _add_node: add @6 12-18 73 Q+->A]^ 23/37/100 attn\n",
      "In _add_node: add @6 12-18 73 Q+->A]^ 23/37/100\n",
      "In _add_node: add @13 11-2 55 Q+->A]^ 0/0/100 attn\n",
      "In _add_node: add @13 11-2 55 Q+->A]^ 0/0/100\n",
      "In _add_node: add @8 11-31 61 Q+->Q+^ 1/4/100 attn\n",
      "In _add_node: add @8 11-31 61 Q+->Q+^ 1/4/100\n",
      "In _add_node: add @10 11-36 58 Q+->Q+^ 2/3/100 attn\n",
      "In _add_node: add @10 11-36 58 Q+->Q+^ 2/3/100\n",
      "In _add_node: add @12 13-29 55 Q+->Q+^ 6/21/100 attn\n",
      "In _add_node: add @12 13-29 55 Q+->Q+^ 6/21/100\n",
      "In _add_node: add @14 7-10 55 Q+->Q+^ 5/8/100 attn\n",
      "In _add_node: add @14 7-10 55 Q+->Q+^ 5/8/100\n",
      "In _add_node: add @[5,9,11] 11-m,14-18,8-m Q+->Q+ 14\n",
      "In _add_node: add @[0,2,7] 14-7,13-42,12-39 Q+->Q] 4\n",
      "In _add_node: add @[1,3,4,6,13] 10-13,13-50,7-9,12-18,11-2 Q+->A]^ 3\n",
      "In _add_node: add @[8,10,12,14] 11-31,11-36,13-29,7-10 Q+->Q+^ 1\n",
      "done 0:00:47.936237\n"
     ]
    }
   ],
   "source": [
    "# result = {}\n",
    "# save_results = False \n",
    "# rel1_kwargs = {'x_f': None} \n",
    "# for i in range(0,n_total,batch_size):\n",
    "#     mathlogic_dataset = []\n",
    "#     all_examples = make_example_ml(input_strs[i:i+batch_size],nrows,g2c)\n",
    "#     mathlogic_dataset.append(tuple(all_examples))\n",
    "#     mathlogic_dataset.append(tuple(text[i:i+batch_size]))\n",
    "#     mathlogic_dataset.append(tuple([tuple(['a' for _ in range(nrows)]) for _ in range(batch_size)]))\n",
    "# #     print(mathlogic_dataset)\n",
    "#     r = None\n",
    "#     r = generate_and_predict_batch(model, tokenizer, task= None, nrows = nrows, k_shot = k_shot, batch_size = batch_size,\n",
    "#                                    mathlogic_dataset = mathlogic_dataset, result=r, verbose=False)\n",
    "#     if True or r.root is None:\n",
    "#         r.root = node = add_node(None, layer=L, label_type='labels')\n",
    "# #         ap = 'query1->query0+' \n",
    "# #         node = add_node(r.root, layer=9, head=36, attn_pattern=ap,label_type= None,H=H,step=2,force=True)\n",
    "# #         node.data.top_score = node.data.ap_score = 0.\n",
    "#     _ = attribute_tree_on(r.data_tuples, model, node, 8, filter_fn_nrk, topk=15, threshold_score=0, k_shot=k_shot, mix=True, device=None, verbose=True )"
   ]
  },
  {
   "cell_type": "code",
   "execution_count": 16,
   "id": "88619a06",
   "metadata": {
    "scrolled": true
   },
   "outputs": [
    {
     "name": "stdout",
     "output_type": "stream",
     "text": [
      " ┌@[7,8,9,10,12,14] 38-m,57-m,31-m,51-m,55-m,49-m 26 B->B 41\n",
      " ├@[0,1,2,3,4,5,6,11,13] 34-7,31-50,37-47,45-36,40-21,43-36,28-34,58-13,32-12 27 B->A]^ 30\n",
      " ├@7 38-m 45\n",
      " ├@8 57-m 38\n",
      " ├@9 31-m 38\n",
      " ├@10 51-m 35\n",
      " ├@12 55-m 32\n",
      " ├@14 49-m 26\n",
      " ├@0 34-7 100 B->A]^ 26/10 attn\n",
      " ├@1 31-50 93 B->A]^ 64/52 attn\n",
      " ├@2 37-47 76 B->A]^ 60/42 attn\n",
      " ├@3 45-36 61 B->A]^ 43/34 attn\n",
      " ├@4 40-21 60 B->A]^ 47/21 attn\n",
      " ├@5 43-36 58 B->A]^ 63/22 attn\n",
      " ├@6 28-34 45 B->A]^ 50/42 attn\n",
      " ├@11 58-13 35 B->A]^ 49/21 attn\n",
      " ├@13 32-12 27 B->A]^ 52/23 attn\n",
      " ┤\n",
      " │                ┌@[0,2,3,4,6,7,9,10,11,12,13] 26-51,26-13,23-27,10-13,11-1,26-27,24-34,13-29,16-17,15-4 27,20-45 26 B->A]^ 35\n",
      " │                ├@[5,8,14] 24-51,32-47,18-13 26 B->Q+ 10\n",
      " │                ├@[1] 27-m B->B 10\n",
      " │                ├@0 26-51 100 B->A]^ 36/23 attn\n",
      " │                ├@2 26-13 77 B->A]^ 61/51 attn\n",
      " │                ├@3 23-27 68 B->A]^ 54/30 attn\n",
      " │                ├@4 10-13 59 B->A]^ 22/18 attn\n",
      " │                ├@6 11-1 49 B->A]^ 71/39 attn\n",
      " │                ├@7 26-27 45 B->A]^ 56/44 attn\n",
      " │                ├@9 24-34 40 B->A]^ 53/35 attn\n",
      " │                ├@10 13-29 40 B->A]^ 46/36 attn\n",
      " │                ├@11 16-17 32 B->A]^ 42/25 attn\n",
      " │                ├@12 15-4 27 B->A]^ 54/40 attn\n",
      " │                ├@13 20-45 26 B->A]^ 30/10 attn\n",
      " │                ├@5 24-51 49 B->Q+ 50/24/-19\n",
      " │                ├@8 32-47 42 B->Q+ 81/42/58 attn\n",
      " │                ├@8 32-47 42 B->Q+ 81/42/58\n",
      " │                ├@14 18-13 26 B->Q+ 21/10/94 attn\n",
      " │                ├@14 18-13 26 B->Q+ 21/10/94\n",
      " │                ├@1 27-m 81\n",
      " │                │                 ┌@[0,1,2,4,5,6,7,8,9,10,11,12] 23-27,11-1,10-13,16-17,16-3,11-10,22-6,17-43,25-25,15-4,16-10,18-12 B->A]^ 33\n",
      " │                │                 ├@[13,14] 18-20,24-51 B->Q+ 8\n",
      " │                │                 ├@[3] 24-35 B->Q] 5\n",
      " │                │                 ├@0 23-27 100 B->A]^ 54/30 attn\n",
      " │                │                 ├@1 11-1 72 B->A]^ 72/39 attn\n",
      " │                │                 ├@2 10-13 67 B->A]^ 23/18 attn\n",
      " │                │                 ├@4 16-17 45 B->A]^ 40/25 attn\n",
      " │                │                 ├@5 16-3 44 B->A]^ 46/25 attn\n",
      " │                │                 ├@6 11-10 42 B->A]^ 26/21 attn\n",
      " │                │                 ├@7 22-6 40 B->A]^ 28/12 attn\n",
      " │                │                 ├@8 17-43 38 B->A]^ 25/13 attn\n",
      " │                │                 ├@9 25-25 38 B->A]^ 30/18 attn\n",
      " │                │                 ├@10 15-4 35 B->A]^ 56/40 attn\n",
      " │                │                 ├@11 16-10 33 B->A]^ 54/39 attn\n",
      " │                │                 ├@12 18-12 32 B->A]^ 42/21 attn\n",
      " │                │                 ├@13 18-20 31 B->Q+ 40/29/-39\n",
      " │                │                 ├@14 24-51 31 B->Q+ 57/24/-19\n",
      " │                │                 ├@3 24-35 55 B->Q] 50/21/-26\n",
      " │                ├26-51 B->A]^ attn┤\n",
      " │                │                 │           ┌@[0,1,2,3,4,7,8,9,11,12,14] 23-27,16-17,16-3,18-12,17-43,19-33 28,12-18 28,11-1 28,15-7 27,11-10 25,23-16 23 Q]->A]^ 12\n",
      " │                │                 │           ├@[6,10,13] 23-12,17-18 27,3-m 24 Q]->Q] 8\n",
      " │                │                 │           ├@[5] 13-29 unk 0\n",
      " │                │                 │           ├@0 23-27 100 Q]->A]^ 26/25/100 attn\n",
      " │                │                 │           ├@0 23-27 100 Q]->A]^ 26/25/100\n",
      " │                │                 │           ├@1 16-17 55 Q]->A]^ 26/27/100 attn\n",
      " │                │                 │           ├@1 16-17 55 Q]->A]^ 26/27/100\n",
      " │                │                 │           ├@2 16-3 52 Q]->A]^ 23/35/100 attn\n",
      " │                │                 │           ├@2 16-3 52 Q]->A]^ 23/35/100\n",
      " │                │                 │           ├@3 18-12 42 Q]->A]^ 26/23/100 attn\n",
      " │                │                 │           ├@3 18-12 42 Q]->A]^ 26/23/100\n",
      " │                │                 │           ├@4 17-43 37 Q]->A]^ 12/14/100 attn\n",
      " │                │                 │           ├@4 17-43 37 Q]->A]^ 12/14/100\n",
      " │                │                 │           ├@7 19-33 28 Q]->A]^ 15/9/100 attn\n",
      " │                │                 │           ├@7 19-33 28 Q]->A]^ 15/9/100\n",
      " │                │                 │           ├@8 12-18 28 Q]->A]^ 16/13/100 attn\n",
      " │                │                 │           ├@8 12-18 28 Q]->A]^ 16/13/100\n",
      " │                │                 │           ├@9 11-1 28 Q]->A]^ 6/4/100 attn\n",
      " │                │                 │           ├@9 11-1 28 Q]->A]^ 6/4/100\n",
      " │                │                 │           ├@11 15-7 27 Q]->A]^ 11/7/100 attn\n",
      " │                │                 │           ├@11 15-7 27 Q]->A]^ 11/7/100\n",
      " │                │                 │           ├@12 11-10 25 Q]->A]^ 6/7/100 attn\n",
      " │                │                 │           ├@12 11-10 25 Q]->A]^ 6/7/100\n",
      " │                │                 │           ├@14 23-16 23 Q]->A]^ 4/2/100 attn\n",
      " │                │                 │           ├@14 23-16 23 Q]->A]^ 4/2/100\n",
      " │                │                 │           ├@6 23-12 32 Q]->Q] 6/7/82\n",
      " │                │                 │           ├@6 23-12 32 Q]->Q] 6/7/82 attn:Q->~<s>\n",
      " │                │                 │           ├@10 17-18 27 Q]->Q] 4/4/-91\n",
      " │                │                 │           ├@13 3-m 24\n",
      " │                │                 │           ├@5 13-29 32 Q]->T0] 7/18/50 attn\n",
      " │                │                 └24-35 B->Q]┤\n",
      " │                │                             ├@5 13-29 32 Q]->T0] 7/18/50\n",
      " │                │                             │            ┌@[0,5,7,12] 12-m,16-51,15-22,15-40 Q]->Q] 7\n",
      " │                │                             │            ├@[1,2,3,4,6,8,9,10,11,13,14] 13-29,15-7,12-13,16-17,14-2,15-2,14-16,12-18,13-42,9-11,11-31 unk 0\n",
      " │                │                             │            ├@0 12-m 100\n",
      " │                │                             │            ├@5 16-51 71 Q]->Q] 0/3/36\n",
      " │                │                             │            ├@5 16-51 71 Q]->Q] 0/3/36 attn:Q->~<s>\n",
      " │                │                             │            ├@7 15-22 66 Q]->Q] 0/4/-33\n",
      " │                │                             │            ├@12 15-40 45 Q]->Q] 1/6/-27\n",
      " │                │                             │            ├@1 13-29 90 Q]->T0] 1/18/50 attn\n",
      " │                │                             │            ├@1 13-29 90 Q]->T0] 1/18/50\n",
      " │                │                             │            ├@2 15-7 82 Q]->A]^ 1/7/100 attn\n",
      " │                │                             │            ├@2 15-7 82 Q]->A]^ 1/7/100\n",
      " │                │                             │            ├@3 12-13 77 Q]->T0] 1/16/37 attn\n",
      " │                │                             │            ├@3 12-13 77 Q]->T0] 1/16/37\n",
      " │                │                             │            ├@4 16-17 74 Q]->A]^ 5/27/100 attn\n",
      " │                │                             └17-18 Q]->Q]┤\n",
      " │                │                                          ├@4 16-17 74 Q]->A]^ 5/27/100\n",
      " │                │                                          ├@6 14-2 66 Q]->A]^ 0/1/100 attn\n",
      " │                │                                          ├@6 14-2 66 Q]->A]^ 0/1/100\n",
      " │                │                                          ├@8 15-2 63 Q]->A0] 1/16/47 attn\n",
      " │                │                                          ├@8 15-2 63 Q]->A0] 1/16/47\n",
      " │                │                                          ├@9 14-16 59 Q]->A]^ 1/4/100 attn\n",
      " │                │                                          ├@9 14-16 59 Q]->A]^ 1/4/100\n",
      " │                │                                          ├@10 12-18 56 Q]->A]^ 2/13/100 attn\n",
      " │                │                                          ├@10 12-18 56 Q]->A]^ 2/13/100\n",
      " │                │                                          ├@11 13-42 54 Q]->T0] 1/6/76 attn\n",
      " │                │                                          ├@11 13-42 54 Q]->T0] 1/6/76\n",
      " │                │                                          ├@13 9-11 44 Q]->A0] 0/5/50 attn\n",
      " │                │                                          ├@13 9-11 44 Q]->A0] 0/5/50\n",
      " │                │                                          └@14 11-31 43 Q]->T0] 0/3/13\n",
      " └34-7 B->A]^ attn┤\n",
      "                  │         ┌@[2,5,6,8,10,11,12,13] 22-m,13-m,16-m,24-m,15-m,7-m,18-m,10-m B->B 54\n",
      "                  │         ├@[0,1,3,4,7,9,14] 26-51,26-13,24-34,24-20,26-27,18-12,25-8 29 B->A]^ 23\n",
      "                  │         ├@2 22-m 89\n",
      "                  │         ├@5 13-m 53\n",
      "                  │         ├@6 16-m 49\n",
      "                  │         ├@8 24-m 44\n",
      "                  │         ├@10 15-m 32\n",
      "                  │         ├@11 7-m 32\n",
      "                  │         ├@12 18-m 32\n",
      "                  │         ├@13 10-m 31\n",
      "                  │         ├@0 26-51 100 B->A]^ 37/23\n",
      "                  │         ├@1 26-13 98 B->A]^ 60/51\n",
      "                  │         ├@3 24-34 64 B->A]^ 49/35\n",
      "                  │         ├@4 24-20 57 B->A]^ 44/31\n",
      "                  │         ├@7 26-27 45 B->A]^ 48/44\n",
      "                  │         ├@9 18-12 34 B->A]^ 52/21\n",
      "                  │         ├@14 25-8 29 B->A]^ 52/30\n",
      "                  ├27-m B->B┤\n",
      "                  │         │         ┌@[1,5,14] 18-m,8-37,9-44 29 B->B 13\n",
      "                  │         │         ├@[0,2,3,4,6,9,12] 16-5,16-17,15-40,16-51,16-10,14-27,11-10 B->A]^ 12\n",
      "                  │         │         ├@[7,11,13] 18-29,15-7,14-16 B->Q+ 9\n",
      "                  │         │         ├@[10] 17-18 B->Q] 3\n",
      "                  │         │         ├@[8] 15-49 B->A0] 1\n",
      "                  │         │         ├@1 18-m 73\n",
      "                  │         │         ├@5 8-37 41 B->B 1/1/10\n",
      "                  │         │         ├@14 9-44 29 B->B 30/22/64\n",
      "                  │         │         ├@14 9-44 29 B->B 30/22/64 attn:B->~<s>\n",
      "                  │         │         ├@0 16-5 100 B->A]^ 31/29\n",
      "                  │         │         ├@2 16-17 44 B->A]^ 32/25\n",
      "                  │         │         ├@3 15-40 43 B->A]^ 14/11\n",
      "                  │         │         ├@4 16-51 42 B->A]^ 19/8\n",
      "                  │         │         ├@6 16-10 41 B->A]^ 43/39\n",
      "                  │         │         ├@9 14-27 38 B->A]^ 3/5\n",
      "                  │         │         ├@12 11-10 34 B->A]^ 24/21\n",
      "                  │         │         ├@7 18-29 40 B->Q+ 42/25/26\n",
      "                  │         │         ├@11 15-7 34 B->Q+ 28/8/34 attn\n",
      "                  │         │         ├@11 15-7 34 B->Q+ 28/8/34\n",
      "                  │         │         ├@13 14-16 32 B->Q+ 25/15/43 attn\n",
      "                  │         │         ├@13 14-16 32 B->Q+ 25/15/43\n",
      "                  │         │         ├@10 17-18 37 B->Q] 11/15/64 attn\n",
      "                  │         │         ├@10 17-18 37 B->Q] 11/15/64\n",
      "                  │         │         ├@8 15-49 39 B->A0] 5/3/57 attn\n",
      "                  │         │         ├@8 15-49 39 B->A0] 5/3/57\n",
      "                  │         └22-m B->B┤\n",
      "                  │                   │           ┌@[1,2,9,13] 15-40,15-22,12-m,8-1 29 Q]->Q] 7\n",
      "                  │                   │           ├@[0,3,4,5,7,8,10,11] 16-17,15-7,11-1,13-46,12-18,8-34,14-16,14-27 Q]->A]^ 3\n",
      "                  │                   │           ├@[6,12,14] 13-29,12-13 29,13-32 29 Q]->T0] 1\n",
      "                  │                   │           ├@1 15-40 86 Q]->Q] 2/6/-27\n",
      "                  │                   │           ├@2 15-22 58 Q]->Q] 2/4/-33\n",
      "                  │                   │           ├@9 12-m 33\n",
      "                  │                   │           ├@13 8-1 29 Q]->Q] 1/3/-281\n",
      "                  │                   │           ├@0 16-17 100 Q]->A]^ 15/27/100 attn\n",
      "                  │                   │           ├@0 16-17 100 Q]->A]^ 15/27/100\n",
      "                  │                   │           ├@3 15-7 55 Q]->A]^ 5/7/100 attn\n",
      "                  │                   │           ├@3 15-7 55 Q]->A]^ 5/7/100\n",
      "                  │                   │           ├@4 11-1 47 Q]->A]^ 4/4/100 attn\n",
      "                  │                   │           ├@4 11-1 47 Q]->A]^ 4/4/100\n",
      "                  │                   │           ├@5 13-46 43 Q]->A]^ 1/2/100 attn\n",
      "                  │                   ├17-18 B->Q]┤\n",
      "                  │                   │           ├@5 13-46 43 Q]->A]^ 1/2/100\n",
      "                  │                   │           ├@7 12-18 39 Q]->A]^ 7/13/100 attn\n",
      "                  │                   │           ├@7 12-18 39 Q]->A]^ 7/13/100\n",
      "                  │                   │           ├@8 8-34 34 Q]->A]^ 2/2/100 attn\n",
      "                  │                   │           ├@8 8-34 34 Q]->A]^ 2/2/100\n",
      "                  │                   │           ├@10 14-16 33 Q]->A]^ 3/4/100 attn\n",
      "                  │                   │           ├@10 14-16 33 Q]->A]^ 3/4/100\n",
      "                  │                   │           ├@11 14-27 33 Q]->A]^ 1/1/100 attn\n",
      "                  │                   │           ├@11 14-27 33 Q]->A]^ 1/1/100\n",
      "                  │                   │           ├@6 13-29 42 Q]->T0] 4/18/50 attn\n",
      "                  │                   │           ├@6 13-29 42 Q]->T0] 4/18/50\n",
      "                  │                   │           ├@12 12-13 29 Q]->T0] 4/16/37 attn\n",
      "                  │                   │           ├@12 12-13 29 Q]->T0] 4/16/37\n",
      "                  │                   │           └@14 13-32 29 Q]->T0] 1/2/-14\n",
      "                  │                   │                ┌@[0,1,4,6,12,14] 12-m,13-m,11-m,10-m,14-m,8-37 B->B 35\n",
      "                  │                   │                ├@[2,5,7,9,11,13] 15-40,11-1,16-10,10-13,13-29,16-17 B->A]^ 15\n",
      "                  │                   │                ├@[3,10] 14-30,15-0 B->Q] 8\n",
      "                  │                   │                ├@[8] 15-7 unk 0\n",
      "                  │                   │                ├@0 12-m 100\n",
      "                  │                   │                ├@1 13-m 98\n",
      "                  │                   │                ├@4 11-m 62\n",
      "                  │                   │                ├@6 10-m 55\n",
      "                  │                   │                ├@12 14-m 48\n",
      "                  │                   │                ├@14 8-37 43 B->B 1/1/10\n",
      "                  │                   │                ├@2 15-40 66 B->A]^ 14/11\n",
      "                  │                   └17-18 B->Q] attn┤\n",
      "                  │                                    ├@5 11-1 60 B->A]^ 62/39\n",
      "                  │                                    ├@7 16-10 54 B->A]^ 48/39\n",
      "                  │                                    ├@9 10-13 53 B->A]^ 21/18\n",
      "                  │                                    ├@11 13-29 49 B->A]^ 43/36\n",
      "                  │                                    ├@13 16-17 46 B->A]^ 34/25\n",
      "                  │                                    ├@3 14-30 65 B->Q] 68/37/90 attn\n",
      "                  │                                    ├@3 14-30 65 B->Q] 68/37/90\n",
      "                  │                                    ├@10 15-0 50 B->Q] 44/20/48 attn\n",
      "                  │                                    ├@10 15-0 50 B->Q] 44/20/48\n",
      "                  │                                    ├@8 15-7 54 B->Q+ 29/8/34 attn\n",
      "                  │                                    └@8 15-7 54 B->Q+ 29/8/34\n",
      "                  │           ┌@[1,2,4,5,6,7,8,10,12] 11-1,23-27,16-17,18-12,20-45,19-33,15-47,10-13,16-3 Q+->A]^ 10\n",
      "                  │           ├@[3] 18-13 Q+->Q+ 3\n",
      "                  │           ├@[0,11,14] 13-29,11-48,12-50 Q+->Q+^ 2\n",
      "                  │           ├@[9,13] 15-0,15-24 Q+->Q] 2\n",
      "                  │           ├@1 11-1 94 Q+->A]^ 22/30/100 attn\n",
      "                  │           ├@1 11-1 94 Q+->A]^ 22/30/100\n",
      "                  │           ├@2 23-27 83 Q+->A]^ 21/24/100 attn\n",
      "                  │           ├@2 23-27 83 Q+->A]^ 21/24/100\n",
      "                  │           ├@4 16-17 68 Q+->A]^ 14/24/100 attn\n",
      "                  │           ├@4 16-17 68 Q+->A]^ 14/24/100\n",
      "                  │           ├@5 18-12 59 Q+->A]^ 27/32/100 attn\n",
      "                  │           ├@5 18-12 59 Q+->A]^ 27/32/100\n",
      "                  │           ├@6 20-45 58 Q+->A]^ 12/8/100 attn\n",
      "                  │           ├@6 20-45 58 Q+->A]^ 12/8/100\n",
      "                  │           ├@7 19-33 57 Q+->A]^ 9/8/100 attn\n",
      "                  │           ├@7 19-33 57 Q+->A]^ 9/8/100\n",
      "                  │           ├@8 15-47 53 Q+->A]^ 11/9/100 attn\n",
      "                  │           ├@8 15-47 53 Q+->A]^ 11/9/100\n",
      "                  │           ├@10 10-13 44 Q+->A]^ 12/11/100 attn\n",
      "                  │           ├@10 10-13 44 Q+->A]^ 12/11/100\n",
      "                  │           ├@12 16-3 41 Q+->A]^ 16/32/100 attn\n",
      "                  │           ├@12 16-3 41 Q+->A]^ 16/32/100\n",
      "                  │           ├@3 18-13 69 Q+->Q+ 19/17/96\n",
      "                  │           ├@3 18-13 69 Q+->Q+ 19/17/96 attn:Q->~<s>\n",
      "                  │           ├@0 13-29 100 Q+->Q+^ 12/21/100 attn\n",
      "                  │           ├@0 13-29 100 Q+->Q+^ 12/21/100\n",
      "                  │           ├@11 11-48 42 Q+->Q+^ 6/9/100 attn\n",
      "                  │           ├@11 11-48 42 Q+->Q+^ 6/9/100\n",
      "                  │           ├@14 12-50 38 Q+->Q+^ 5/6/100 attn\n",
      "                  │           ├@14 12-50 38 Q+->Q+^ 5/6/100\n",
      "                  │           ├@9 15-0 48 Q+->Q] 11/10/78 attn\n",
      "                  │           ├@9 15-0 48 Q+->Q] 11/10/78\n",
      "                  │           ├@13 15-24 41 Q+->Q] 12/22/48 attn\n",
      "                  │           ├@13 15-24 41 Q+->Q] 12/22/48\n",
      "                  └24-51 B->Q+┤\n",
      "                              │           ┌@[6,7,12,13,14] 12-m,12-39,11-3 29,14-30 29,10-50 26 Q]->Q] 7\n",
      "                              │           ├@[1,2,4,5,8,9,11] 11-48,11-31,12-50,13-50,14-18,11-50,8-37 29 Q]->T0] 3\n",
      "                              │           ├@[0,10] 12-8,10-23 Q]->A0] 1\n",
      "                              │           ├@[3] 14-2 unk 0\n",
      "                              │           ├@6 12-m 43\n",
      "                              │           ├@7 12-39 39 Q]->Q] 1/3/-56\n",
      "                              │           ├@12 11-3 29 Q]->Q] 0/5/-13\n",
      "                              │           ├@13 14-30 29 Q]->Q] 4/11/80\n",
      "                              │           ├@13 14-30 29 Q]->Q] 4/11/80 attn:Q->~<s>\n",
      "                              │           ├@14 10-50 26 Q]->Q] 0/4/-17\n",
      "                              │           ├@1 11-48 71 Q]->T0] 2/12/44 attn\n",
      "                              │           ├@1 11-48 71 Q]->T0] 2/12/44\n",
      "                              │           ├@2 11-31 70 Q]->T0] 0/3/13\n",
      "                              │           ├@4 12-50 52 Q]->T0] 18/44/39 attn\n",
      "                              │           ├@4 12-50 52 Q]->T0] 18/44/39\n",
      "                              │           ├@5 13-50 48 Q]->T0] 1/11/68 attn\n",
      "                              │           ├@5 13-50 48 Q]->T0] 1/11/68\n",
      "                              │           ├@8 14-18 39 Q]->T0] 1/8/15\n",
      "                              │           ├@9 11-50 36 Q]->T0] 6/28/83 attn\n",
      "                              │           ├@9 11-50 36 Q]->T0] 6/28/83\n",
      "                              │           ├@11 8-37 29 Q]->T0] 20/76/36 attn\n",
      "                              │           ├@11 8-37 29 Q]->T0] 20/76/36\n",
      "                              │           ├@0 12-8 100 Q]->A0] 14/54/-36\n",
      "                              ├15-0 Q+->Q]┤\n",
      "                              │           ├@10 10-23 32 Q]->A0] 1/9/-26\n",
      "                              │           ├@3 14-2 54 Q]->A]^ 0/1/100 attn\n",
      "                              │           ├@3 14-2 54 Q]->A]^ 0/1/100\n",
      "                              │           │            ┌@[0,1,2,3,4,5,7,8,9,11,12,13] 11-31,11-48,5-m,11-3,6-7,6-4 27,10-13 26,7-m 25,10-50 23,7-22 22,10-23 21,7-10 20 A0]->A0] 14\n",
      "                              │           │            ├@[6,10,14] 9-29 26,11-12 23,8-34 20 unk 0\n",
      "                              │           │            ├@0 11-31 100 A0]->A0] 0/1/-93\n",
      "                              │           │            ├@1 11-48 62 A0]->A0] 3/5/-72\n",
      "                              │           │            ├@2 5-m 32\n",
      "                              │           │            ├@3 11-3 31 A0]->A0] 0/1/-129\n",
      "                              │           │            ├@4 6-7 31 A0]->A0] 1/3/-92\n",
      "                              │           │            ├@5 6-4 27 A0]->A0] 1/3/-238\n",
      "                              │           │            ├@7 10-13 26 A0]->A0] 0/1/-242\n",
      "                              │           └12-8 Q]->A0]┤\n",
      "                              │                        ├@8 7-m 25\n",
      "                              │                        ├@9 10-50 23 A0]->A0] 0/1/-521\n",
      "                              │                        ├@11 7-22 22 A0]->A0] 0/0/-288\n",
      "                              │                        ├@12 10-23 21 A0]->A0] 4/6/55\n",
      "                              │                        ├@12 10-23 21 A0]->A0] 4/6/55 attn:A0->~<s>\n",
      "                              │                        ├@13 7-10 20 A0]->A0] 0/1/-251\n",
      "                              │                        ├@6 9-29 26 A0]->T0] 7/11/19\n",
      "                              │                        ├@10 11-12 23 A0]->T0] 3/5/79 attn\n",
      "                              │                        ├@10 11-12 23 A0]->T0] 3/5/79\n",
      "                              │                        └@14 8-34 20 A0]->T0] 1/2/7\n",
      "                              │                ┌@[5,9,11] 11-m,14-18,8-m Q+->Q+ 14\n",
      "                              │                ├@[0,2,7] 14-7,13-42,12-39 Q+->Q] 4\n",
      "                              │                ├@[1,3,4,6,13] 10-13,13-50,7-9,12-18,11-2 Q+->A]^ 3\n",
      "                              │                ├@[8,10,12,14] 11-31,11-36,13-29,7-10 Q+->Q+^ 1\n",
      "                              │                ├@5 11-m 74\n",
      "                              │                ├@9 14-18 59 Q+->Q+ 1/6/76\n",
      "                              │                ├@9 14-18 59 Q+->Q+ 1/6/76 attn:Q->~<s>\n",
      "                              │                ├@11 8-m 56\n",
      "                              │                ├@0 14-7 100 Q+->Q] 7/6/34 attn\n",
      "                              │                ├@2 13-42 89 Q+->Q] 5/10/43 attn\n",
      "                              │                ├@7 12-39 68 Q+->Q] 50/38/75 attn\n",
      "                              │                ├@1 10-13 96 Q+->A]^ 7/11/100 attn\n",
      "                              │                ├@1 10-13 96 Q+->A]^ 7/11/100\n",
      "                              │                ├@3 13-50 88 Q+->A]^ 1/1/100 attn\n",
      "                              └15-0 Q+->Q] attn┤\n",
      "                                               ├@3 13-50 88 Q+->A]^ 1/1/100\n",
      "                                               ├@4 7-9 84 Q+->A]^ 8/19/100 attn\n",
      "                                               ├@4 7-9 84 Q+->A]^ 8/19/100\n",
      "                                               ├@6 12-18 73 Q+->A]^ 23/37/100 attn\n",
      "                                               ├@6 12-18 73 Q+->A]^ 23/37/100\n",
      "                                               ├@13 11-2 55 Q+->A]^ 0/0/100 attn\n",
      "                                               ├@13 11-2 55 Q+->A]^ 0/0/100\n",
      "                                               ├@8 11-31 61 Q+->Q+^ 1/4/100 attn\n",
      "                                               ├@8 11-31 61 Q+->Q+^ 1/4/100\n",
      "                                               ├@10 11-36 58 Q+->Q+^ 2/3/100 attn\n",
      "                                               ├@10 11-36 58 Q+->Q+^ 2/3/100\n",
      "                                               ├@12 13-29 55 Q+->Q+^ 6/21/100 attn\n",
      "                                               ├@12 13-29 55 Q+->Q+^ 6/21/100\n",
      "                                               ├@14 7-10 55 Q+->Q+^ 5/8/100 attn\n",
      "                                               └@14 7-10 55 Q+->Q+^ 5/8/100\n"
     ]
    }
   ],
   "source": [
    "print_tree(r.root) "
   ]
  },
  {
   "cell_type": "code",
   "execution_count": 31,
   "id": "987be8b3",
   "metadata": {},
   "outputs": [],
   "source": [
    "#修改filter_fn, 满足条件才可以往后归\n",
    "# def filter_fn_nrk(p, c):\n",
    "#     if c.layer == 0: return False\n",
    "# #     if p.label_type and 'attn_labels' in p.label_type and '->~<s>' in p.label_type: return False\n",
    "#     pap, ap = abbreviate_attn_pattern(p.attn_pattern or ''), abbreviate_attn_pattern(c.attn_pattern)\n",
    "#     return (p.step == -1  and c.top_score > 0.4 and c.head != c.H or\n",
    "#             p.step == 0 and c.top_score > 0.5 and c.head != c.H or# and c.top_score > 0.3 and c.ap_score > 0.4 and ap == 'B->A]^' and c.head != c.H or\n",
    "#             p.step == 1 and c.top_score > 0.4 and c.head != c.H and ap == 'B->Q1' or\n",
    "#             p.step == 2 and c.top_score > 0.5 and c.ap_score > 0.1 and c.head != c.H and p.label_type != 'attn_labels' and c.label_type != 'attn_labels' and ap not in ['Q1->A]^','Q1->Q1]^'] or\n",
    "#             p.step == 3 and c.top_score > 0.5 and c.ap_score > 0.3 and c.head != c.H and c.label_type != 'attn_labels' or ap == 'B->Q1' or\n",
    "#             p.step == 4 and c.top_score > 0.4 and c.ap_score > 0.1 and c.head != c.H and c.label_type != 'attn_labels'or (ap in ['Q1+->Q1'] and c.top_score > 0.4 and c.ap_score > 0)\n",
    "            \n",
    "# #             p.step == 3 and ap in ['Q1->Q1-','Q1->Q0-'] \n",
    "# #             p.step == 4 and ap in ['Q1-->Q0-'] or \n",
    "# #             p.step == 5 and ap == 'Q0-->Q1+^'\n",
    "\n",
    "#     )\n",
    "def filter_fn_nrk(p, c):\n",
    "    if c.layer == 0: return False\n",
    "\n",
    "#     if p.label_type and 'attn_labels' in p.label_type and '->~<s>' in p.label_type: return False\n",
    "    pap, ap = abbreviate_attn_pattern(p.attn_pattern or ''), abbreviate_attn_pattern(c.attn_pattern)\n",
    "    return (\n",
    "#             p.step == -1 #and (c.layer, c.head) in [(59,4),(37,52)] #or\n",
    "#             p.step == 0 and (c.layer, c.head) in [(18,18),(19,24)] and c.label_type != None and c.label_type.startswith('attn_labels:') or\n",
    "#             p.step == 1 and ap == 'B->A]^'\n",
    "        \n",
    "#             p.step == -1 and (c.layer, c.head) in [(36,52)] or\n",
    "#             p.step == 0 and (c.layer, c.head) in [(24,52)] or #(24,52),(26,49)\n",
    "#             p.step == 1 and (c.layer, c.head) in [(18,52)] or\n",
    "#             p.step == 2 and ap in ['B->Q]','B->A]'] and c.label_type != None and c.label_type.startswith('attn_labels:') and c.ap_score>0.1 or\n",
    "#             p.step == 3 and (c.layer, c.head) in [(14,42),(16,5)]\n",
    "        \n",
    "#             p.step == -1 and (c.layer, c.head) in [(26,23)] and c.label_type != 'attn_labels' or\n",
    "#             p.step == 0 and (c.layer, c.head) in [(19,28),(15,0),(18,13),(16,5),(16,10),(11,1)] and c.label_type == None\n",
    "        \n",
    "#             p.step == -1 and (c.layer,c.head) in [(36,52)] or #(44,52),(45,52),(36,52)\n",
    "#             p.step == 0 and (c.layer,c.head) in [(24,52)] or\n",
    "#             p.step == 1 and (c.layer,c.head) == (16,24) or\n",
    "#             p.step == 2 and c.ap_score > 0.1 and ap in ['A]->A0]','A]->Q]']\n",
    "         \n",
    "            \n",
    "#             p.step == -1 and c.top_score>0.5 and (c.layer,c.head) in [(59,4),(37,52)] or  #< Ruth has a Violin. Carol has a Beetle. Ronald has Blueberries. >. Ruth has a kind of musical instrument\n",
    "#             p.step == 0 and (c.layer,c.head) in [(28,8),(18,18),(19,24)] and c.label_type != 'attn_labels' or\n",
    "#             p.step == 1 and (c.layer,c.head) in [(15,0),(17,32),(16,16)] #or\n",
    "#             p.step == 2 and c.top_score>0.5\n",
    "        \n",
    "            p.step == -1 and c.top_score>0.5 and (c.layer,c.head)  in [(36,c.H)] or# Is elephant a kind of Animals?Yes\n",
    "            p.step == 0 and (c.layer,c.head) in [(24,c.H)] or\n",
    "            p.step == 1 and (c.layer,c.head) in [(18,22),(15,50)] and c.label_type == None or\n",
    "            p.step == 2 and (c.layer,c.head) in [(14,52)] or\n",
    "            p.step == 3 and c.top_score>0.7\n",
    "        \n",
    "        \n",
    "#             p.step == -1 and (c.layer,c.head) == (34,7) or   \n",
    "#             p.step == 0 and (c.layer,c.head) in [(27,52),(26,51),(24,51)] or\n",
    "#             p.step == 1 and (c.layer,c.head) in [(24,35),(22,52),(15,0)] or\n",
    "#             p.step == 2 and (c.layer,c.head) in [(12,8),(17,18)]\n",
    "        \n",
    "#             p.step == -1 and (c.layer,c.head) in [(43,52),(36,52)] or\n",
    "#             p.step == 0 and (c.layer,c.head) in [(28,52),(38,52),(34,52),(24,52)] or\n",
    "#             p.step == 1 and (c.layer,c.head) in [(22,52),(33,52)] or\n",
    "#             p.step == 2 and (c.layer,c.head) in [(18,22),(17,10)] and c.label_type == None\n",
    "        \n",
    "        \n",
    "#             p.step == -1 and c.top_score>0.5 or\n",
    "#             p.step == 0 and c.top_score>0.5 or\n",
    "#             p.step == 1 and ap in ['B->Q+','B->R]']\n",
    "        \n",
    "         \n",
    "#             p.step == -1  and (c.layer,c.head) in [(45,52),(36,52)] or # attribute q of (31-50，26-13)\n",
    "#             p.step == 0  and ((c.layer,c.head) in [(31,50),(26,13)] and c.label_type != None) or\n",
    "#             p.step == 1 and (c.layer,c.head) == (22,52) and c.label_type == None or\n",
    "#             p.step == 2 and c.top_score>0.4 and c.ap_score>0.3 and c.head != c.H or\n",
    "#             p.step == 3 and (c.layer,c.head) == (14,7)\n",
    "        \n",
    "        \n",
    "#             p.step == -1  and (c.layer,c.head) in [(45,52),(36,52)] or # attribute v of g2c\n",
    "#             p.step == 0  and ((c.layer,c.head) in [(20,52),(27,52)] or ((c.layer,c.head) in [(30,46),(26,49)] and c.label_type != None)) or\n",
    "#             p.step == 1 and (c.layer,c.head) in [(11,17),(18,22),(26,51),(24,34)] and c.label_type == None or\n",
    "#             p.step == 2 and c.top_score>0.5 and c.ap_score > 0.2 and c.label_type == None\n",
    "#             \n",
    "           )"
   ]
  },
  {
   "cell_type": "code",
   "execution_count": 9,
   "id": "c18c87c1",
   "metadata": {},
   "outputs": [],
   "source": [
    "# # #老师的样例\n",
    "tasks0 = [\n",
    "#     (lambda: [TreeSet(types_of_things).use(['equal', 'child', 'sibling']), TreeSet(types_of_things).use(['equal', 'child', 'sibling'])], MlM_gen, None, None,\n",
    "#     ),\n",
    "#     (lambda: [TreeSet(types_of_things).use(['equal']), TreeSet(types_of_things).use(['child'])], MlM_gen,\n",
    "#      lambda *args, **kwargs: '', lambda q, _: f\"{q} is\",\n",
    "#     ),\n",
    "#     (lambda: [TreeSet(genders_of_persons).use(['equal']), TreeSet(genders_of_persons).use(['child'])], MlM_gen,\n",
    "#      lambda *args, **kwargs: '', lambda q, _: f\"Is {q} a\",\n",
    "#     ),\n",
    "    (lambda: [TreeSet(countries_of_cities).use(['equal']), TreeSet(countries_of_cities).use(['child'])], MlM_gen,\n",
    "     lambda *args, **kwargs: '',lambda q, _: f\"{q} is\",# lambda q, _: f\"{q} is\",\n",
    "    ),\n",
    "    (lambda: [TreeSet(country2capital).use(['equal']), TreeSet(country2capital).use(['child'])], MlM_gen,\n",
    "     lambda *args, **kwargs: '',lambda q, _: f\"{q} is\",# lambda q, _: f\"{q} is\",\n",
    "    ),\n",
    "    (lambda: [TreeSet(types_of_things).use(['equal']), TreeSet(types_of_things).use(['child'])], MlM_gen,\n",
    "     lambda *args, **kwargs: '', lambda q, _: f\"Is {q} \",\n",
    "    ),\n",
    "]\n",
    "\n",
    "tasks = [\n",
    "    (lambda: [TreeSet(genders_of_persons).use(['equal', 'child', 'sibling']), SymSet(person_adjs).use(['opposite'])], MlM_gen,\n",
    "     partial(_cxt2str,item2str=lambda i, _: [f\"{i[0]} is {i[1]}.\", f\"{capitalize(i[1])} {i[0]}.\"]), lambda q, _: f\"{the_(q)} is\",\n",
    "    ),\n",
    "    (lambda: [TreeSet(genders_of_persons).use(['equal', 'child', 'sibling']), TreeSet(capabilities_of_things).use(['child'])], MlM_gen,\n",
    "     partial(_cxt2str, item2str=lambda i, _: [f\"{i[0]} has {a_(i[1])}.\", f\"{_be(the_(i[1]))} {i[0]}'s.\"]), lambda q, _: f\"{the_(q)} has\",\n",
    "    ),\n",
    "    (lambda: [TreeSet(genders_of_persons).use(['equal', 'child', 'sibling']), TreeSet(types_of_things).use(['child', 'equal', 'sibling'])], MlM_gen,\n",
    "     partial(_cxt2str, item2str=lambda i, _: [f\"{i[0]} has {a_(i[1])}.\", f\"{_be(the_(i[1]))} {i[0]}'s.\"]), lambda q, _: f\"Does {the_(q)} have\",\n",
    "    ), #Does {the_(q)} have  /  {the_(q)} has\n",
    "    (lambda: [TreeSet(genders_of_persons).use(['equal', 'child', 'sibling']), TreeSet(countries_of_cities).use(['child', 'equal', 'sibling'])], MlM_gen,\n",
    "     partial(_cxt2str, item2str=lambda i, _: [f\"{i[0]} likes {i[1]}.\", f\"{i[1]} attracts {the_(i[0], uppercase=False)}.\"]), lambda q, _: f'Would {the_(q)} like to visit',\n",
    "    ), # Would {the_(q)} like to visit / {the_(q)} want to go to\n",
    "    (lambda: [TreeSet(genders_of_persons).use(['equal', 'child', 'sibling']), TreeSet(country2capital).use(['child', 'equal', 'sibling'])], MlM_gen,\n",
    "     partial(_cxt2str, item2str=lambda i, _: [f\"{i[0]} likes {i[1]}.\", f\"{i[1]} attracts {the_(i[0], uppercase=False)}.\"]), lambda q, _: f'Would {the_(q)} like to visit',\n",
    "    ),\n",
    "    (lambda: [TreeSet(genders_of_persons).use(['equal', 'child', 'sibling']), PoSet(temporal_poset).use(['prev'])], MlM_gen,\n",
    "     partial(_cxt2str, item2str=lambda i, _: [f'{i[0]} arrived {prep_(i[1])}.', f'{capitalize(prep_(i[1]))} arrived {i[0]}.']), lambda q, _: f'{the_(q)} arrived'\n",
    "    ),\n",
    "    \n",
    "]\n",
    "\n",
    "#find the key of value\n",
    "def get_key(dict_data,value):\n",
    "    loc = [1 if value in i else 0 for i in list(dict_data.values())]\n",
    "    key=list(dict_data.keys())[loc.index(1)]\n",
    "    return key"
   ]
  },
  {
   "cell_type": "code",
   "execution_count": 42,
   "id": "43fc7221",
   "metadata": {},
   "outputs": [],
   "source": [
    "results = {}; key = None"
   ]
  },
  {
   "cell_type": "code",
   "execution_count": 43,
   "id": "a716a974",
   "metadata": {
    "scrolled": false
   },
   "outputs": [
    {
     "name": "stdout",
     "output_type": "stream",
     "text": [
      "\n",
      "== g2c[MlM_gen][genders_of_persons.TreeSet.equal,types_of_things.TreeSet.child][cxt_len=3] == do_g2c\n",
      "< David has a rabbit. Sharon has a jacket. Barbara has bread. >. Does Barbara possess a kind of food? Yes\n",
      " < Kevin has underwear. Paul has a duck. Susan has a papaya. >. Does Kevin possess a kind of clothing? Yes\n",
      " < Richard has shoes. Sharon has a beetle. John has strawberries. >. Does Sharon possess a kind of fruit? No\n",
      "0.47004513144493104 0.8 0.7813500000000001\n"
     ]
    },
    {
     "data": {
      "image/png": "[encoded data removed]",
      "text/plain": [
       "<Figure size 640x480 with 1 Axes>"
      ]
     },
     "metadata": {},
     "output_type": "display_data"
    }
   ],
   "source": [
    "nrows, k_shot = 8, 2; cxt_len = 3; save_results = True # key is not None\n",
    "batch_size = 10; verbose=False #not save_results or batch_size <= 8\n",
    "rel1_kwargs = {'x_f': None}  # {'x_f': _s, 'y_f': a_, 'skip_inv_f':False}\n",
    "for task,        rel0_i, rel1_i, do_swap_qa, do_negate, do_rm_query, rev_item2str, do_g2c in product(\n",
    "    tasks[2:3],[0,],[0],[False,],[False,],[False],[False],[True]):\n",
    "    seed(42)\n",
    "    args = dict(cxt_len=cxt_len, rev_item2str=rev_item2str, abstract=False)\n",
    "    trans_args = dict(rel0_i=rel0_i, rel1_i=rel1_i, rel1_kwargs=rel1_kwargs, do_swap_qa=do_swap_qa, do_negate=do_negate,\n",
    "                      do_rm_query=do_rm_query, do_g2c=do_g2c)\n",
    "    task = transform_and_validate_task(task, **trans_args, **args)\n",
    "#     if task[0]()[1].relations[0].name == 'equal': continue\n",
    "    if task is None: continue\n",
    "    res_key = f'{task2str(task)}[{args2str(args)}]'  # {composed_heads2str(model)}\n",
    "#     if key and res_key != key: continue\n",
    "    print(f'\\n== {res_key} == {args2str(trans_args)}')\n",
    "    r = results[res_key] if save_results and res_key in results else None\n",
    "#     if r is not None: print('duplicate task!'); continue \n",
    "    r = generate_and_predict_batch(model if save_results else model_gpu, tokenizer, task, nrows, k_shot, batch_size,\n",
    "            logits_bias=None, custom_forward=True or save_results, result=r, verbose=verbose, **args)\n",
    "    if save_results: results[res_key] = r\n",
    "#     elif True or r.mean_acc < 0.6: continue\n",
    "        \n",
    "#     if True or r.root is None:\n",
    "#         r.root = node = add_node(None, layer=L, label_type='labels')\n",
    "#     _ = attribute_tree_on(r.data_tuples, model, node, 1, filter_fn_nrk, topk=15, k_shot=k_shot, mix=True, device=None, verbose=True)"
   ]
  },
  {
   "cell_type": "code",
   "execution_count": 41,
   "id": "bebba612",
   "metadata": {},
   "outputs": [
    {
     "name": "stdout",
     "output_type": "stream",
     "text": [
      " ┌@[0,2,3,5,6,8,10] 59-m,25-m,44-m,36-m,45-m,51-m,34-m B->B 58\n",
      " ├@[1,4,7,9,12] 36-26,38-22,31-50,29-34,39-40 B->C^ 15\n",
      " ├@[11] 32-21 unk 0\n",
      " ├@0 59-m 100\n",
      " ├@2 25-m 73\n",
      " ├@3 44-m 73\n",
      " ├@5 36-m 62\n",
      " ├@6 45-m 54\n",
      " ├@8 51-m 36\n",
      " ├@10 34-m 31\n",
      " ├@1 36-26 92 B->C^ 41/21/100 attn\n",
      " ├@1 36-26 92 B->C^ 41/21/100\n",
      " ├@4 38-22 64 B->C^ 40/36/100 attn\n",
      " ├@4 38-22 64 B->C^ 40/36/100\n",
      " ├@7 31-50 53 B->C^ 51/41/100 attn\n",
      " ├@7 31-50 53 B->C^ 51/41/100\n",
      " ├@9 29-34 32 B->C^ 52/25/100 attn\n",
      " ├@9 29-34 32 B->C^ 52/25/100\n",
      " ├@12 39-40 30 B->C^ 41/17/100 attn\n",
      " ├@12 39-40 30 B->C^ 41/17/100\n",
      " ├@11 32-21 30 B->A] 65/25 attn\n",
      " ├@11 32-21 30 B->A] 65/25\n",
      " ┤\n",
      " │         ┌@[1,2,3,4,5] 24-m,20-m,27-m,23-m,29-m B->B 54\n",
      " │         ├@[0] 36-26 B->C^ 18\n",
      " │         ├@1 24-m 61\n",
      " │         ├@2 20-m 58\n",
      " │         ├@3 27-m 39\n",
      " │         ├@4 23-m 34\n",
      " │         ├@5 29-m 34\n",
      " │         ├@0 36-26 100 B->C^ 42/21/100 attn\n",
      " │         ├@0 36-26 100 B->C^ 42/21/100\n",
      " └36-m B->B┤\n",
      "           │         ┌@[0,1,2,5] 19-m,21-m,22-m,15-m B->B 39\n",
      "           │         ├@[4] 16-24 B->A] 8\n",
      "           │         ├@[3] 24-47 B->A+ 6\n",
      "           │         ├@0 19-m 100\n",
      "           │         ├@1 21-m 86\n",
      "           └24-m B->B┤\n",
      "                     ├@2 22-m 64\n",
      "                     ├@5 15-m 34\n",
      "                     ├@4 16-24 37 B->A] 43/33 attn\n",
      "                     ├@4 16-24 37 B->A] 43/33\n",
      "                     ├@3 24-47 47 B->A+ 55/26 attn\n",
      "                     └@3 24-47 47 B->A+ 55/26\n"
     ]
    }
   ],
   "source": [
    "print_tree(r.root)"
   ]
  },
  {
   "cell_type": "code",
   "execution_count": 52,
   "id": "e328ebdb",
   "metadata": {},
   "outputs": [],
   "source": [
    "node = r.root.children[-1].children[-1]#.children[-1].children[-1]#.children[-1]#.children[-1].children[-1]\n",
    "node.name"
   ]
  },
  {
   "cell_type": "code",
   "execution_count": 45,
   "id": "ace1d013",
   "metadata": {
    "scrolled": true
   },
   "outputs": [
    {
     "name": "stdout",
     "output_type": "stream",
     "text": [
      "44-52\n",
      "scaled_logprobs = tensor([-0.6934, -0.6099, -0.5347, -0.4680, -0.4092, -0.3574], device='cuda:0',\n",
      "       dtype=torch.float16)\n",
      " ▁Yes 0.411 {'▁No': 0.588, '▁Yes': 0.412, '<unk>': 0.0, '<s>': 0.0} \t < David has a rabbit. Sharon has a jacket. Barbara has bread. >. Does Barbara possess a kind of food? Yes ▁No:0.161 *▁Yes:-0.197\n",
      " ▁Yes 0.211 {'▁No': 0.788, '▁Yes': 0.211, '<unk>': 0.0, '<s>': 0.0} \t  < Kevin has underwear. Paul has a duck. Susan has a papaya. >. Does Kevin possess a kind of clothing? Yes ▁No:1.144 *▁Yes:-0.172\n",
      "*▁No 0.781 {'▁No': 0.781, '▁Yes': 0.219, '<unk>': 0.0, '<s>': 0.0} \t  < Richard has shoes. Sharon has a beetle. John has strawberries. >. Does Sharon possess a kind of fruit? No *▁No:1.155 ▁Yes:-0.115\n",
      "*▁Yes 0.733 {'▁Yes': 0.734, '▁No': 0.266, '<unk>': 0.0, '<s>': 0.0} \t  < Barbara has spaghetti. Margaret has a cocktail. John has a banana. >. Does John possess a kind of fruit? Yes ▁No:-0.627 *▁Yes:0.385\n",
      "*▁Yes 0.563 {'▁Yes': 0.564, '▁No': 0.436, '<unk>': 0.0, '<s>': 0.0} \t  < Brian has a piano. Robert has a uniform. Barbara has a handgun. >. Does Barbara possess a kind of weapon? Yes ▁No:-0.106 *▁Yes:0.150\n",
      "*▁Yes 0.716 {'▁Yes': 0.716, '▁No': 0.284, '<unk>': 0.0, '<s>': 0.0} \t  < Barbara has a cat. Kimberly has a taxi. William has cake. >. Does Barbara possess a kind of animal? Yes ▁No:-0.554 *▁Yes:0.370\n",
      "*▁Yes 0.722 {'▁Yes': 0.722, '▁No': 0.278, '<unk>': 0.0, '<s>': 0.0} \t  < Maria has wine. Betty has shoes. Michelle has a jacket. >. Does Maria possess a kind of drink? Yes ▁No:-0.578 *▁Yes:0.377\n",
      "*▁No 0.702 {'▁No': 0.702, '▁Yes': 0.298, '<unk>': 0.0, '<s>': 0.0} \t  < Kenneth has beer. Deborah has a uniform. John has a revolver. >. Does Kenneth possess a kind of clothing? No *▁No:0.729 ▁Yes:-0.128\n",
      "tensor([0.2474, 0.3101, 0.5732, 0.3342, 0.3254, 0.3538], device='cuda:0',\n",
      "       dtype=torch.float16) 1.0\n"
     ]
    },
    {
     "data": {
      "image/png": "[encoded data removed]",
      "text/plain": [
       "<Figure size 1000x240 with 2 Axes>"
      ]
     },
     "metadata": {},
     "output_type": "display_data"
    },
    {
     "name": "stdout",
     "output_type": "stream",
     "text": [
      "scaled_logprobs = tensor([-0.6934, -0.6724, -0.6558, -0.6421, -0.6328, -0.6265], device='cuda:0',\n",
      "       dtype=torch.float16)\n",
      "*▁No 0.732 {'▁No': 0.732, '▁Yes': 0.268, '<unk>': 0.0, '<s>': 0.0} \t < Charles has a rabbit. Sandra has a taxi. Daniel has a shotgun. >. Does Daniel have a kind of animal? No *▁No:0.810 ▁Yes:-0.195\n",
      "*▁No 0.784 {'▁No': 0.784, '▁Yes': 0.216, '<unk>': 0.0, '<s>': 0.0} \t  < Carol has a rifle. Maria has sheep. David has a mango. >. Does Carol have a kind of animal? No *▁No:1.223 ▁Yes:-0.067\n",
      "*▁Yes 0.567 {'▁Yes': 0.567, '▁No': 0.433, '<unk>': 0.0, '<s>': 0.0} \t  < Kenneth has meat. Susan has an apricot. Charles has a handgun. >. Does Kenneth have a kind of food? Yes ▁No:-0.022 *▁Yes:0.247\n",
      "*▁No 0.6 {'▁No': 0.6, '▁Yes': 0.4, '<unk>': 0.0, '<s>': 0.0} \t  < David has a hamburger. Kevin has a dog. Donald has a plum. >. Does Kevin have a kind of fruit? No *▁No:0.484 ▁Yes:0.081\n",
      "*▁Yes 0.718 {'▁Yes': 0.718, '▁No': 0.282, '<unk>': 0.0, '<s>': 0.0} \t  < Betty has spaghetti. Steven has a shotgun. Laura has grapes. >. Does Betty have a kind of food? Yes ▁No:-0.532 *▁Yes:0.402\n",
      " ▁Yes 0.279 {'▁No': 0.72, '▁Yes': 0.279, '<unk>': 0.0, '<s>': 0.0} \t  < Jennifer has a bus. Helen has a rabbit. George has blackberries. >. Does Jennifer have a kind of vehicle? Yes ▁No:0.915 *▁Yes:-0.034\n",
      "*▁Yes 0.541 {'▁Yes': 0.541, '▁No': 0.459, '<unk>': 0.0, '<s>': 0.0} \t  < Patricia has a horse. Joseph has underwear. Charles has a football. >. Does Charles have a kind of sport? Yes ▁No:0.117 *▁Yes:0.281\n",
      "*▁Yes 0.632 {'▁Yes': 0.632, '▁No': 0.368, '<unk>': 0.0, '<s>': 0.0} \t  < Patricia has a monkey. Mary has pizza. George has trousers. >. Does Patricia have a kind of animal? Yes ▁No:-0.297 *▁Yes:0.245\n",
      "tensor([0.5679, 0.5117, 0.3315, 1.2764, 0.6143, 0.4585], device='cuda:0',\n",
      "       dtype=torch.float16) 0.8333333333333334\n"
     ]
    },
    {
     "data": {
      "image/png": "[encoded data removed]",
      "text/plain": [
       "<Figure size 1000x240 with 2 Axes>"
      ]
     },
     "metadata": {},
     "output_type": "display_data"
    },
    {
     "name": "stdout",
     "output_type": "stream",
     "text": [
      "scaled_logprobs = tensor([-0.6934, -0.6611, -0.6372, -0.6221, -0.6138, -0.6128], device='cuda:0',\n",
      "       dtype=torch.float16)\n",
      "*▁No 0.825 {'▁No': 0.825, '▁Yes': 0.175, '<unk>': 0.0, '<s>': 0.0} \t < Maria has a goat. George has a football. Carol has a pear. >. Does George own a kind of animal? No *▁No:1.212 ▁Yes:-0.339\n",
      " ▁Yes 0.457 {'▁No': 0.543, '▁Yes': 0.457, '<unk>': 0.0, '<s>': 0.0} \t  < John has a mango. Barbara has a lime. Karen has a rifle. >. Does Karen own a kind of weapon? Yes ▁No:0.317 *▁Yes:0.146\n",
      " ▁Yes 0.319 {'▁No': 0.68, '▁Yes': 0.319, '<unk>': 0.0, '<s>': 0.0} \t  < James has a grenade. Michelle has strawberries. Sharon has a football. >. Does Sharon own a kind of sport? Yes ▁No:0.746 *▁Yes:-0.012\n",
      "*▁No 0.831 {'▁No': 0.831, '▁Yes': 0.169, '<unk>': 0.0, '<s>': 0.0} \t  < Linda has a costume. Dorothy has a rabbit. Robert has a basketball. >. Does Robert own a kind of clothing? No *▁No:1.302 ▁Yes:-0.291\n",
      " ▁Yes 0.331 {'▁No': 0.67, '▁Yes': 0.331, '<unk>': 0.0, '<s>': 0.0} \t  < Steven has a horse. Mark has a cannon. Sarah has blueberries. >. Does Mark own a kind of weapon? Yes ▁No:0.688 *▁Yes:-0.017\n",
      "*▁No 0.72 {'▁No': 0.72, '▁Yes': 0.28, '<unk>': 0.0, '<s>': 0.0} \t  < Barbara has pizza. Joseph has a bus. Deborah has a baseball. >. Does Deborah own a kind of vehicle? No *▁No:0.876 ▁Yes:-0.068\n",
      "*▁No 0.657 {'▁No': 0.657, '▁Yes': 0.343, '<unk>': 0.0, '<s>': 0.0} \t  < Karen has a mosquito. Kenneth has an orange. Lisa has whiskey. >. Does Karen own a kind of fruit? No *▁No:0.637 ▁Yes:-0.013\n",
      "*▁Yes 0.611 {'▁Yes': 0.611, '▁No': 0.389, '<unk>': 0.0, '<s>': 0.0} \t  < Charles has a baseball. Michael has a beetle. Lisa has blackberries. >. Does Michael own a kind of insect? Yes ▁No:-0.154 *▁Yes:0.297\n",
      "tensor([1.1426, 0.1852, 1.1064, 0.3286, 0.4202, 0.4929], device='cuda:0',\n",
      "       dtype=torch.float16) 0.6666666666666666\n"
     ]
    },
    {
     "data": {
      "image/png": "[encoded data removed]",
      "text/plain": [
       "<Figure size 1000x240 with 2 Axes>"
      ]
     },
     "metadata": {},
     "output_type": "display_data"
    },
    {
     "name": "stdout",
     "output_type": "stream",
     "text": [
      "scaled_logprobs = tensor([-0.6934, -0.6680, -0.6494, -0.6362, -0.6279, -0.6250], device='cuda:0',\n",
      "       dtype=torch.float16)\n",
      "*▁No 0.524 {'▁No': 0.524, '▁Yes': 0.476, '<unk>': 0.0, '<s>': 0.0} \t < Jason has a beetle. Kevin has a goat. David has a papaya. >. Does Jason possess a kind of animal? No *▁No:0.143 ▁Yes:0.045\n",
      " ▁Yes 0.428 {'▁No': 0.572, '▁Yes': 0.428, '<unk>': 0.0, '<s>': 0.0} \t  < Mark has a lime. Joseph has a violin. Carol has wine. >. Does Joseph possess a kind of musical instrument? Yes ▁No:0.494 *▁Yes:0.204\n",
      "*▁No 0.771 {'▁No': 0.771, '▁Yes': 0.229, '<unk>': 0.0, '<s>': 0.0} \t  < Elizabeth has a car. James has a violin. Donna has coffee. >. Does Elizabeth possess a kind of drink? No *▁No:1.046 ▁Yes:-0.167\n",
      " ▁Yes 0.486 {'▁No': 0.514, '▁Yes': 0.486, '<unk>': 0.0, '<s>': 0.0} \t  < Elizabeth has a guitar. William has a taxi. Edward has a banana. >. Does William possess a kind of vehicle? Yes ▁No:0.275 *▁Yes:0.219\n",
      "*▁Yes 0.611 {'▁Yes': 0.612, '▁No': 0.389, '<unk>': 0.0, '<s>': 0.0} \t  < Carol has a peach. Steven has a sweater. Sarah has a cannon. >. Does Steven possess a kind of clothing? Yes ▁No:-0.162 *▁Yes:0.290\n",
      " ▁Yes 0.421 {'▁No': 0.579, '▁Yes': 0.421, '<unk>': 0.0, '<s>': 0.0} \t  < Deborah has a lion. Betty has meat. John has a gorilla. >. Does Betty possess a kind of food? Yes ▁No:0.372 *▁Yes:0.054\n",
      " ▁Yes 0.324 {'▁No': 0.676, '▁Yes': 0.324, '<unk>': 0.0, '<s>': 0.0} \t  < Elizabeth has a baseball. Barbara has a jeep. Dorothy has a gorilla. >. Does Barbara possess a kind of vehicle? Yes ▁No:0.704 *▁Yes:-0.033\n",
      "*▁No 0.753 {'▁No': 0.754, '▁Yes': 0.247, '<unk>': 0.0, '<s>': 0.0} \t  < Kimberly has jeans. George has a handgun. Linda has a beetle. >. Does Kimberly possess a kind of insect? No *▁No:0.874 ▁Yes:-0.242\n",
      "tensor([0.2603, 0.7217, 0.4924, 0.8647, 1.1279, 0.2834], device='cuda:0',\n",
      "       dtype=torch.float16) 0.5\n"
     ]
    },
    {
     "data": {
      "image/png": "[encoded data removed]",
      "text/plain": [
       "<Figure size 1000x240 with 2 Axes>"
      ]
     },
     "metadata": {},
     "output_type": "display_data"
    },
    {
     "name": "stdout",
     "output_type": "stream",
     "text": [
      "scaled_logprobs = tensor([-0.6934, -0.6372, -0.5874, -0.5444, -0.5078, -0.4766], device='cuda:0',\n",
      "       dtype=torch.float16)\n",
      " ▁Yes 0.469 {'▁No': 0.531, '▁Yes': 0.469, '<unk>': 0.0, '<s>': 0.0} \t < Maria has a mango. Barbara has T-shirt. Donna has a watermelon. >. Does Barbara possess a kind of clothing? Yes ▁No:0.005 *▁Yes:-0.119\n",
      "*▁No 0.891 {'▁No': 0.89, '▁Yes': 0.109, '<unk>': 0.0, '<s>': 0.0} \t  < Elizabeth has coffee. Anthony has a shirt. Kevin has a taxi. >. Does Kevin possess a kind of clothing? No *▁No:1.546 ▁Yes:-0.551\n",
      " ▁Yes 0.425 {'▁No': 0.575, '▁Yes': 0.425, '<unk>': 0.0, '<s>': 0.0} \t  < Susan has a jeep. Deborah has a pig. Sharon has a handgun. >. Does Deborah possess a kind of animal? Yes ▁No:0.394 *▁Yes:0.091\n",
      "*▁Yes 0.606 {'▁Yes': 0.606, '▁No': 0.394, '<unk>': 0.0, '<s>': 0.0} \t  < Jeff has a guitar. Maria has jeans. Thomas has a bee. >. Does Maria possess a kind of clothing? Yes ▁No:-0.189 *▁Yes:0.242\n",
      "*▁No 0.54 {'▁No': 0.54, '▁Yes': 0.46, '<unk>': 0.0, '<s>': 0.0} \t  < Lisa has a bus. Charles has a gun. Patricia has a peach. >. Does Lisa possess a kind of fruit? No *▁No:0.252 ▁Yes:0.092\n",
      "*▁No 0.814 {'▁No': 0.814, '▁Yes': 0.186, '<unk>': 0.0, '<s>': 0.0} \t  < Maria has a guitar. David has a donkey. Joseph has a burger. >. Does Joseph possess a kind of musical instrument? No *▁No:1.126 ▁Yes:-0.349\n",
      "*▁No 0.686 {'▁No': 0.686, '▁Yes': 0.314, '<unk>': 0.0, '<s>': 0.0} \t  < Daniel has a uniform. Kenneth has a revolver. Ruth has an apple. >. Does Kenneth possess a kind of fruit? No *▁No:0.692 ▁Yes:-0.088\n",
      "*▁No 0.739 {'▁No': 0.739, '▁Yes': 0.262, '<unk>': 0.0, '<s>': 0.0} \t  < Mary has shoes. Susan has a guitar. Dorothy has blackberries. >. Does Susan possess a kind of clothing? No *▁No:0.915 ▁Yes:-0.124\n",
      "tensor([0.8564, 0.5005, 0.6162, 0.2061, 0.3772, 0.3030], device='cuda:0',\n",
      "       dtype=torch.float16) 0.8333333333333334\n"
     ]
    },
    {
     "data": {
      "image/png": "[encoded data removed]",
      "text/plain": [
       "<Figure size 1000x240 with 2 Axes>"
      ]
     },
     "metadata": {},
     "output_type": "display_data"
    },
    {
     "name": "stdout",
     "output_type": "stream",
     "text": [
      "scaled_logprobs = tensor([-0.6934, -0.6987, -0.7085, -0.7227, -0.7407, -0.7637], device='cuda:0',\n",
      "       dtype=torch.float16)\n",
      "*▁No 0.738 {'▁No': 0.738, '▁Yes': 0.262, '<unk>': 0.0, '<s>': 0.0} \t < Jennifer has a gun. James has a football. Margaret has a bus. >. Does Margaret own a kind of sport? No *▁No:0.816 ▁Yes:-0.217\n",
      "*▁Yes 0.611 {'▁Yes': 0.612, '▁No': 0.388, '<unk>': 0.0, '<s>': 0.0} \t  < Michelle has a burger. Helen has a papaya. Carol has a cannon. >. Does Michelle own a kind of food? Yes ▁No:-0.113 *▁Yes:0.341\n",
      "*▁Yes 0.506 {'▁Yes': 0.506, '▁No': 0.494, '<unk>': 0.0, '<s>': 0.0} \t  < Charles has a papaya. Maria has a revolver. Nancy has a costume. >. Does Maria own a kind of weapon? Yes ▁No:0.114 *▁Yes:0.140\n",
      "*▁Yes 0.583 {'▁Yes': 0.584, '▁No': 0.416, '<unk>': 0.0, '<s>': 0.0} \t  < Linda has a pig. Dorothy has a sweater. Maria has a dog. >. Does Dorothy own a kind of clothing? Yes ▁No:-0.125 *▁Yes:0.213\n",
      " ▁Yes 0.275 {'▁No': 0.724, '▁Yes': 0.276, '<unk>': 0.0, '<s>': 0.0} \t  < Linda has a gun. Karen has a basketball. Patricia has whiskey. >. Does Karen own a kind of sport? Yes ▁No:0.875 *▁Yes:-0.092\n",
      " ▁Yes 0.466 {'▁No': 0.534, '▁Yes': 0.466, '<unk>': 0.0, '<s>': 0.0} \t  < Sharon has underwear. Daniel has a papaya. Paul has spaghetti. >. Does Paul own a kind of food? Yes ▁No:0.258 *▁Yes:0.120\n",
      "*▁No 0.761 {'▁No': 0.761, '▁Yes': 0.239, '<unk>': 0.0, '<s>': 0.0} \t  < James has a guitar. Dorothy has a gun. Charles has a goose. >. Does Charles own a kind of weapon? No *▁No:1.010 ▁Yes:-0.150\n",
      " ▁Yes 0.355 {'▁No': 0.645, '▁Yes': 0.355, '<unk>': 0.0, '<s>': 0.0} \t  < Thomas has a goat. Patricia has T-shirt. Charles has a burger. >. Does Patricia own a kind of clothing? Yes ▁No:0.618 *▁Yes:0.022\n",
      "tensor([0.6802, 0.5386, 1.2891, 0.7646, 0.2727, 1.0352], device='cuda:0',\n",
      "       dtype=torch.float16) 0.5\n"
     ]
    },
    {
     "data": {
      "image/png": "[encoded data removed]",
      "text/plain": [
       "<Figure size 1000x240 with 2 Axes>"
      ]
     },
     "metadata": {},
     "output_type": "display_data"
    },
    {
     "name": "stdout",
     "output_type": "stream",
     "text": [
      "scaled_logprobs = tensor([-0.6934, -0.6323, -0.5757, -0.5234, -0.4746, -0.4299], device='cuda:0',\n",
      "       dtype=torch.float16)\n",
      "*▁No 0.794 {'▁No': 0.794, '▁Yes': 0.206, '<unk>': 0.0, '<s>': 0.0} \t < Carol has a kiwi. Sharon has a sweater. Sarah has a basketball. >. Does Sharon own a kind of fruit? No *▁No:0.957 ▁Yes:-0.392\n",
      " ▁Yes 0.46 {'▁No': 0.54, '▁Yes': 0.46, '<unk>': 0.0, '<s>': 0.0} \t  < Steven has trousers. Barbara has a banana. Sharon has wine. >. Does Sharon own a kind of drink? Yes ▁No:0.339 *▁Yes:0.178\n",
      "*▁No 0.655 {'▁No': 0.656, '▁Yes': 0.345, '<unk>': 0.0, '<s>': 0.0} \t  < Christopher has a lemon. Carol has a cannon. Edward has a tiger. >. Does Carol own a kind of fruit? No *▁No:0.607 ▁Yes:-0.036\n",
      "*▁No 0.727 {'▁No': 0.727, '▁Yes': 0.273, '<unk>': 0.0, '<s>': 0.0} \t  < Mark has a guitar. George has a watermelon. Ronald has a taxi. >. Does Mark own a kind of vehicle? No *▁No:0.852 ▁Yes:-0.128\n",
      "*▁No 0.652 {'▁No': 0.652, '▁Yes': 0.348, '<unk>': 0.0, '<s>': 0.0} \t  < Sandra has blueberries. Nancy has a bee. John has a lion. >. Does Nancy own a kind of animal? No *▁No:0.607 ▁Yes:-0.019\n",
      "*▁Yes 0.637 {'▁Yes': 0.637, '▁No': 0.362, '<unk>': 0.0, '<s>': 0.0} \t  < Susan has a shotgun. Charles has cake. Deborah has a jersey. >. Does Susan own a kind of weapon? Yes ▁No:-0.263 *▁Yes:0.301\n",
      "*▁Yes 0.615 {'▁Yes': 0.614, '▁No': 0.385, '<unk>': 0.0, '<s>': 0.0} \t  < William has a grenade. Donald has a cow. Robert has pants. >. Does William own a kind of weapon? Yes ▁No:-0.263 *▁Yes:0.204\n",
      "*▁Yes 0.622 {'▁Yes': 0.622, '▁No': 0.378, '<unk>': 0.0, '<s>': 0.0} \t  < Nancy has a basketball. James has a beetle. Deborah has a horse. >. Does Deborah own a kind of animal? Yes ▁No:-0.263 *▁Yes:0.234\n",
      "tensor([0.4226, 0.3186, 0.4280, 0.4502, 0.4866, 0.4749], device='cuda:0',\n",
      "       dtype=torch.float16) 1.0\n"
     ]
    },
    {
     "data": {
      "image/png": "[encoded data removed]",
      "text/plain": [
       "<Figure size 1000x240 with 2 Axes>"
      ]
     },
     "metadata": {},
     "output_type": "display_data"
    },
    {
     "name": "stdout",
     "output_type": "stream",
     "text": [
      "scaled_logprobs = tensor([-0.6934, -0.6421, -0.5952, -0.5513, -0.5112, -0.4744], device='cuda:0',\n",
      "       dtype=torch.float16)\n",
      " ▁Yes 0.425 {'▁No': 0.574, '▁Yes': 0.425, '<unk>': 0.0, '<s>': 0.0} \t < Dorothy has a pig. Robert has a plum. Barbara has a basketball. >. Does Barbara possess a kind of sport? Yes ▁No:0.155 *▁Yes:-0.146\n",
      "*▁No 0.93 {'▁No': 0.93, '▁Yes': 0.07, '<unk>': 0.0, '<s>': 0.0} \t  < Nancy has blackberries. Dorothy has a gun. Elizabeth has a sweater. >. Does Elizabeth possess a kind of weapon? No *▁No:2.033 ▁Yes:-0.554\n",
      "*▁Yes 0.763 {'▁Yes': 0.763, '▁No': 0.237, '<unk>': 0.0, '<s>': 0.0} \t  < Deborah has a pistol. Nancy has a jersey. Thomas has underwear. >. Does Deborah possess a kind of weapon? Yes ▁No:-0.795 *▁Yes:0.375\n",
      "*▁No 0.557 {'▁No': 0.557, '▁Yes': 0.443, '<unk>': 0.0, '<s>': 0.0} \t  < Linda has a violin. Michelle has a lemon. William has bread. >. Does Linda possess a kind of food? No *▁No:0.356 ▁Yes:0.127\n",
      "*▁Yes 0.619 {'▁Yes': 0.619, '▁No': 0.38, '<unk>': 0.0, '<s>': 0.0} \t  < Nancy has a monkey. Jeff has a papaya. Christopher has a basketball. >. Does Jeff possess a kind of fruit? Yes ▁No:-0.122 *▁Yes:0.364\n",
      "*▁No 0.588 {'▁No': 0.588, '▁Yes': 0.412, '<unk>': 0.0, '<s>': 0.0} \t  < Margaret has a guitar. Ronald has a hamburger. Patricia has underwear. >. Does Margaret possess a kind of clothing? No *▁No:0.437 ▁Yes:0.080\n",
      "*▁No 0.615 {'▁No': 0.615, '▁Yes': 0.385, '<unk>': 0.0, '<s>': 0.0} \t  < Ronald has a monkey. Barbara has a revolver. Laura has a burger. >. Does Laura possess a kind of animal? No *▁No:0.470 ▁Yes:0.002\n",
      "*▁No 0.61 {'▁No': 0.61, '▁Yes': 0.39, '<unk>': 0.0, '<s>': 0.0} \t  < Edward has jeans. Brian has a rifle. William has wine. >. Does William possess a kind of weapon? No *▁No:0.438 ▁Yes:-0.011\n",
      "tensor([0.2705, 0.5850, 0.4792, 0.5308, 0.4858, 0.4937], device='cuda:0',\n",
      "       dtype=torch.float16) 1.0\n"
     ]
    },
    {
     "data": {
      "image/png": "[encoded data removed]",
      "text/plain": [
       "<Figure size 1000x240 with 2 Axes>"
      ]
     },
     "metadata": {},
     "output_type": "display_data"
    },
    {
     "name": "stdout",
     "output_type": "stream",
     "text": [
      "scaled_logprobs = tensor([-0.6934, -0.6606, -0.6313, -0.6040, -0.5806, -0.5591], device='cuda:0',\n",
      "       dtype=torch.float16)\n",
      "*▁No 0.623 {'▁No': 0.622, '▁Yes': 0.377, '<unk>': 0.0, '<s>': 0.0} \t < Kevin has an elephant. Mark has a violin. Margaret has spaghetti. >. Does Kevin have a kind of food? No *▁No:0.378 ▁Yes:-0.123\n",
      "*▁No 0.619 {'▁No': 0.618, '▁Yes': 0.381, '<unk>': 0.0, '<s>': 0.0} \t  < Barbara has a steak. Elizabeth has a car. Joseph has a rabbit. >. Does Barbara have a kind of animal? No *▁No:0.554 ▁Yes:0.070\n",
      "*▁No 0.714 {'▁No': 0.714, '▁Yes': 0.286, '<unk>': 0.0, '<s>': 0.0} \t  < David has a rifle. Edward has a uniform. James has whiskey. >. Does David have a kind of clothing? No *▁No:0.947 ▁Yes:0.030\n",
      "*▁No 0.576 {'▁No': 0.576, '▁Yes': 0.424, '<unk>': 0.0, '<s>': 0.0} \t  < Barbara has a shirt. Betty has vodka. Margaret has a football. >. Does Barbara have a kind of drink? No *▁No:0.520 ▁Yes:0.214\n",
      "*▁No 0.621 {'▁No': 0.62, '▁Yes': 0.38, '<unk>': 0.0, '<s>': 0.0} \t  < Linda has a pineapple. Jeff has beer. Paul has a cannon. >. Does Paul have a kind of fruit? No *▁No:0.541 ▁Yes:0.049\n",
      "*▁No 0.65 {'▁No': 0.65, '▁Yes': 0.35, '<unk>': 0.0, '<s>': 0.0} \t  < Ruth has a goat. Linda has a piano. Brian has a watermelon. >. Does Ruth have a kind of fruit? No *▁No:0.645 ▁Yes:0.024\n",
      " ▁Yes 0.397 {'▁No': 0.604, '▁Yes': 0.397, '<unk>': 0.0, '<s>': 0.0} \t  < Maria has a gun. David has a taxi. Richard has a papaya. >. Does Richard have a kind of fruit? Yes ▁No:0.644 *▁Yes:0.224\n",
      "*▁No 0.53 {'▁No': 0.53, '▁Yes': 0.47, '<unk>': 0.0, '<s>': 0.0} \t  < Richard has a car. Maria has trousers. Michael has meat. >. Does Maria have a kind of food? No *▁No:0.266 ▁Yes:0.145\n",
      "tensor([0.3364, 0.5518, 0.4771, 0.4304, 0.9248, 0.6343], device='cuda:0',\n",
      "       dtype=torch.float16) 0.8333333333333334\n"
     ]
    },
    {
     "data": {
      "image/png": "[encoded data removed]",
      "text/plain": [
       "<Figure size 1000x240 with 2 Axes>"
      ]
     },
     "metadata": {},
     "output_type": "display_data"
    },
    {
     "name": "stdout",
     "output_type": "stream",
     "text": [
      "scaled_logprobs = tensor([-0.6934, -0.6782, -0.6665, -0.6582, -0.6533, -0.6509], device='cuda:0',\n",
      "       dtype=torch.float16)\n",
      "*▁No 0.734 {'▁No': 0.734, '▁Yes': 0.266, '<unk>': 0.0, '<s>': 0.0} \t < Richard has a steak. Kimberly has whiskey. Michael has a monkey. >. Does Michael own a kind of food? No *▁No:0.746 ▁Yes:-0.271\n",
      " ▁Yes 0.371 {'▁No': 0.629, '▁Yes': 0.371, '<unk>': 0.0, '<s>': 0.0} \t  < Joseph has T-shirt. Anthony has a peach. George has a football. >. Does George own a kind of sport? Yes ▁No:0.652 *▁Yes:0.125\n",
      " ▁Yes 0.436 {'▁No': 0.564, '▁Yes': 0.436, '<unk>': 0.0, '<s>': 0.0} \t  < Linda has a banana. Mark has a mosquito. Anthony has a cow. >. Does Anthony own a kind of animal? Yes ▁No:0.355 *▁Yes:0.097\n",
      "*▁No 0.79 {'▁No': 0.79, '▁Yes': 0.21, '<unk>': 0.0, '<s>': 0.0} \t  < Laura has a cannon. Kenneth has trousers. Daniel has a basketball. >. Does Kenneth own a kind of weapon? No *▁No:1.188 ▁Yes:-0.135\n",
      " ▁Yes 0.441 {'▁No': 0.558, '▁Yes': 0.442, '<unk>': 0.0, '<s>': 0.0} \t  < Michelle has pizza. Margaret has a rabbit. Dorothy has shoes. >. Does Dorothy own a kind of clothing? Yes ▁No:0.437 *▁Yes:0.201\n",
      " ▁No 0.491 {'▁Yes': 0.509, '▁No': 0.491, '<unk>': 0.0, '<s>': 0.0} \t  < Kenneth has a pineapple. Anthony has a guitar. Edward has a gun. >. Does Anthony own a kind of fruit? No *▁No:0.161 ▁Yes:0.199\n",
      "*▁Yes 0.615 {'▁Yes': 0.615, '▁No': 0.385, '<unk>': 0.0, '<s>': 0.0} \t  < Lisa has a taxi. Kevin has a monkey. Jennifer has a lime. >. Does Lisa own a kind of vehicle? Yes ▁No:-0.221 *▁Yes:0.248\n",
      " ▁Yes 0.438 {'▁No': 0.562, '▁Yes': 0.438, '<unk>': 0.0, '<s>': 0.0} \t  < Ronald has soda. Anthony has a car. John has a deer. >. Does Anthony own a kind of vehicle? Yes ▁No:0.408 *▁Yes:0.160\n",
      "tensor([0.8306, 0.2363, 0.8179, 0.7119, 0.4858, 0.8242], device='cuda:0',\n",
      "       dtype=torch.float16) 0.3333333333333333\n"
     ]
    },
    {
     "data": {
      "image/png": "[encoded data removed]",
      "text/plain": [
       "<Figure size 1000x240 with 2 Axes>"
      ]
     },
     "metadata": {},
     "output_type": "display_data"
    },
    {
     "name": "stdout",
     "output_type": "stream",
     "text": [
      "scaled_logprobs = tensor([-0.6934, -0.6406, -0.5928, -0.5503, -0.5117, -0.4778], device='cuda:0',\n",
      "       dtype=torch.float16)\n",
      "*▁No 0.612 {'▁No': 0.612, '▁Yes': 0.388, '<unk>': 0.0, '<s>': 0.0} \t < Donna has wine. Donald has a jacket. Karen has a rabbit. >. Does Donald have a kind of drink? No *▁No:0.447 ▁Yes:-0.008\n",
      "*▁No 0.659 {'▁No': 0.658, '▁Yes': 0.342, '<unk>': 0.0, '<s>': 0.0} \t  < David has a duck. Charles has a pear. Carol has a beetle. >. Does Carol have a kind of animal? No *▁No:0.680 ▁Yes:0.023\n",
      "*▁No 0.59 {'▁No': 0.59, '▁Yes': 0.41, '<unk>': 0.0, '<s>': 0.0} \t  < Mary has an apricot. Lisa has a hamburger. John has vodka. >. Does John have a kind of fruit? No *▁No:0.580 ▁Yes:0.214\n",
      " ▁Yes 0.416 {'▁No': 0.584, '▁Yes': 0.416, '<unk>': 0.0, '<s>': 0.0} \t  < Ruth has a violin. Sandra has a durian. Mark has meat. >. Does Ruth have a kind of musical instrument? Yes ▁No:0.568 *▁Yes:0.228\n",
      "*▁No 0.68 {'▁No': 0.68, '▁Yes': 0.32, '<unk>': 0.0, '<s>': 0.0} \t  < Betty has sheep. Ruth has a steak. Donna has a costume. >. Does Ruth have a kind of clothing? No *▁No:0.738 ▁Yes:-0.016\n",
      "*▁No 0.671 {'▁No': 0.671, '▁Yes': 0.329, '<unk>': 0.0, '<s>': 0.0} \t  < James has a jacket. Daniel has spaghetti. Edward has beer. >. Does Edward have a kind of clothing? No *▁No:0.662 ▁Yes:-0.051\n",
      "*▁No 0.711 {'▁No': 0.711, '▁Yes': 0.289, '<unk>': 0.0, '<s>': 0.0} \t  < Ronald has meat. Lisa has a violin. Patricia has a sweater. >. Does Lisa have a kind of food? No *▁No:0.839 ▁Yes:-0.062\n",
      "*▁Yes 0.714 {'▁Yes': 0.714, '▁No': 0.286, '<unk>': 0.0, '<s>': 0.0} \t  < Sarah has a plum. Brian has a bus. Elizabeth has T-shirt. >. Does Sarah have a kind of fruit? Yes ▁No:-0.525 *▁Yes:0.390\n",
      "tensor([0.5273, 0.8774, 0.3855, 0.3989, 0.3411, 0.3369], device='cuda:0',\n",
      "       dtype=torch.float16) 0.8333333333333334\n"
     ]
    },
    {
     "data": {
      "image/png": "[encoded data removed]",
      "text/plain": [
       "<Figure size 1000x240 with 2 Axes>"
      ]
     },
     "metadata": {},
     "output_type": "display_data"
    },
    {
     "name": "stdout",
     "output_type": "stream",
     "text": [
      "scaled_logprobs = tensor([-0.6934, -0.6147, -0.5474, -0.4895, -0.4402, -0.3984], device='cuda:0',\n",
      "       dtype=torch.float16)\n",
      " ▁Yes 0.417 {'▁No': 0.583, '▁Yes': 0.417, '<unk>': 0.0, '<s>': 0.0} \t < Dorothy has bread. Michael has a uniform. Richard has a squirrel. >. Does Dorothy have a kind of food? Yes ▁No:0.264 *▁Yes:-0.071\n",
      " ▁Yes 0.307 {'▁No': 0.694, '▁Yes': 0.307, '<unk>': 0.0, '<s>': 0.0} \t  < Karen has a car. Susan has juice. Kimberly has a goat. >. Does Susan have a kind of drink? Yes ▁No:0.778 *▁Yes:-0.037\n",
      " ▁Yes 0.492 {'▁No': 0.508, '▁Yes': 0.492, '<unk>': 0.0, '<s>': 0.0} \t  < Michelle has a uniform. Ronald has a beetle. Patricia has a tiger. >. Does Ronald have a kind of insect? Yes ▁No:0.284 *▁Yes:0.252\n",
      "*▁No 0.881 {'▁No': 0.881, '▁Yes': 0.119, '<unk>': 0.0, '<s>': 0.0} \t  < William has a durian. Sarah has a grenade. Susan has an elephant. >. Does Susan have a kind of weapon? No *▁No:1.570 ▁Yes:-0.432\n",
      "*▁No 0.61 {'▁No': 0.61, '▁Yes': 0.39, '<unk>': 0.0, '<s>': 0.0} \t  < Edward has a horse. Donna has a bee. Brian has trousers. >. Does Donna have a kind of clothing? No *▁No:0.599 ▁Yes:0.152\n",
      "*▁Yes 0.724 {'▁Yes': 0.724, '▁No': 0.276, '<unk>': 0.0, '<s>': 0.0} \t  < Helen has a gorilla. Ruth has a grenade. Edward has an apricot. >. Does Edward have a kind of fruit? Yes ▁No:-0.552 *▁Yes:0.412\n",
      "*▁No 0.649 {'▁No': 0.649, '▁Yes': 0.351, '<unk>': 0.0, '<s>': 0.0} \t  < Ruth has vodka. Kenneth has a dog. Jeff has a basketball. >. Does Jeff have a kind of animal? No *▁No:0.717 ▁Yes:0.102\n",
      "*▁No 0.737 {'▁No': 0.738, '▁Yes': 0.263, '<unk>': 0.0, '<s>': 0.0} \t  < Kenneth has a piano. Paul has a pineapple. Anthony has a basketball. >. Does Paul have a kind of musical instrument? No *▁No:0.984 ▁Yes:-0.047\n",
      "tensor([0.7095, 0.1267, 0.4946, 0.3230, 0.4324, 0.3052], device='cuda:0',\n",
      "       dtype=torch.float16) 0.8333333333333334\n"
     ]
    },
    {
     "data": {
      "image/png": "[encoded data removed]",
      "text/plain": [
       "<Figure size 1000x240 with 2 Axes>"
      ]
     },
     "metadata": {},
     "output_type": "display_data"
    },
    {
     "name": "stdout",
     "output_type": "stream",
     "text": [
      "scaled_logprobs = tensor([-0.6934, -0.6973, -0.7070, -0.7212, -0.7402, -0.7632], device='cuda:0',\n",
      "       dtype=torch.float16)\n",
      " ▁Yes 0.405 {'▁No': 0.594, '▁Yes': 0.405, '<unk>': 0.0, '<s>': 0.0} \t < Brian has meat. Michelle has an apricot. Barbara has a bee. >. Does Brian possess a kind of food? Yes ▁No:0.440 *▁Yes:0.056\n",
      "*▁No 0.908 {'▁No': 0.908, '▁Yes': 0.092, '<unk>': 0.0, '<s>': 0.0} \t  < Donna has blueberries. Edward has bread. Laura has a horse. >. Does Edward possess a kind of fruit? No *▁No:1.841 ▁Yes:-0.448\n",
      " ▁Yes 0.318 {'▁No': 0.682, '▁Yes': 0.318, '<unk>': 0.0, '<s>': 0.0} \t  < Robert has a pig. Edward has a football. Deborah has cake. >. Does Edward possess a kind of sport? Yes ▁No:0.719 *▁Yes:-0.042\n",
      " ▁Yes 0.41 {'▁No': 0.59, '▁Yes': 0.41, '<unk>': 0.0, '<s>': 0.0} \t  < Michael has a lime. Jeff has a monkey. Mary has a hamburger. >. Does Mary possess a kind of food? Yes ▁No:0.403 *▁Yes:0.041\n",
      " ▁Yes 0.427 {'▁No': 0.574, '▁Yes': 0.426, '<unk>': 0.0, '<s>': 0.0} \t  < Dorothy has a dog. Deborah has a cat. Patricia has a piano. >. Does Patricia possess a kind of musical instrument? Yes ▁No:0.357 *▁Yes:0.060\n",
      "*▁No 0.801 {'▁No': 0.801, '▁Yes': 0.199, '<unk>': 0.0, '<s>': 0.0} \t  < William has a gun. Edward has a motorcycle. Daniel has a goat. >. Does Edward possess a kind of weapon? No *▁No:1.149 ▁Yes:-0.242\n",
      " ▁Yes 0.392 {'▁No': 0.608, '▁Yes': 0.392, '<unk>': 0.0, '<s>': 0.0} \t  < Edward has a pear. Elizabeth has a steak. Lisa has a cat. >. Does Elizabeth possess a kind of food? Yes ▁No:0.511 *▁Yes:0.071\n",
      "*▁Yes 0.587 {'▁Yes': 0.588, '▁No': 0.412, '<unk>': 0.0, '<s>': 0.0} \t  < Patricia has a pig. Margaret has a lemon. Jeff has a cannon. >. Does Patricia possess a kind of animal? Yes ▁No:-0.099 *▁Yes:0.255\n",
      "tensor([1.1445, 0.8906, 0.8525, 0.2222, 0.9375, 0.5317], device='cuda:0',\n",
      "       dtype=torch.float16) 0.3333333333333333\n"
     ]
    },
    {
     "data": {
      "image/png": "[encoded data removed]",
      "text/plain": [
       "<Figure size 1000x240 with 2 Axes>"
      ]
     },
     "metadata": {},
     "output_type": "display_data"
    },
    {
     "name": "stdout",
     "output_type": "stream",
     "text": [
      "scaled_logprobs = tensor([-0.6934, -0.6890, -0.6875, -0.6890, -0.6919, -0.6987], device='cuda:0',\n",
      "       dtype=torch.float16)\n",
      "*▁No 0.775 {'▁No': 0.775, '▁Yes': 0.225, '<unk>': 0.0, '<s>': 0.0} \t < Charles has cherries. Barbara has a pineapple. Kimberly has a shirt. >. Does Kimberly possess a kind of fruit? No *▁No:0.753 ▁Yes:-0.483\n",
      "*▁No 0.831 {'▁No': 0.831, '▁Yes': 0.169, '<unk>': 0.0, '<s>': 0.0} \t  < Laura has a mosquito. Christopher has coffee. Joseph has a football. >. Does Laura possess a kind of sport? No *▁No:1.454 ▁Yes:-0.139\n",
      "*▁No 0.549 {'▁No': 0.55, '▁Yes': 0.451, '<unk>': 0.0, '<s>': 0.0} \t  < Charles has a cat. Jeff has a basketball. Nancy has pizza. >. Does Jeff possess a kind of food? No *▁No:0.429 ▁Yes:0.231\n",
      "*▁No 0.616 {'▁No': 0.616, '▁Yes': 0.384, '<unk>': 0.0, '<s>': 0.0} \t  < Ruth has an apple. Richard has underwear. Thomas has pizza. >. Does Richard possess a kind of food? No *▁No:0.655 ▁Yes:0.182\n",
      " ▁Yes 0.302 {'▁No': 0.698, '▁Yes': 0.302, '<unk>': 0.0, '<s>': 0.0} \t  < Margaret has a guitar. Mark has a cannon. Sarah has a bus. >. Does Sarah possess a kind of vehicle? Yes ▁No:0.790 *▁Yes:-0.048\n",
      " ▁No 0.396 {'▁Yes': 0.604, '▁No': 0.396, '<unk>': 0.0, '<s>': 0.0} \t  < Ronald has a piano. Jeff has a squirrel. Betty has a jacket. >. Does Ronald possess a kind of animal? No *▁No:-0.137 ▁Yes:0.287\n",
      "*▁No 0.627 {'▁No': 0.627, '▁Yes': 0.373, '<unk>': 0.0, '<s>': 0.0} \t  < Donna has an apple. William has underwear. Mary has beer. >. Does Donna possess a kind of clothing? No *▁No:0.601 ▁Yes:0.081\n",
      "*▁No 0.598 {'▁No': 0.598, '▁Yes': 0.402, '<unk>': 0.0, '<s>': 0.0} \t  < Sarah has coffee. Elizabeth has a mosquito. Maria has a banana. >. Does Sarah possess a kind of insect? No *▁No:0.435 ▁Yes:0.040\n",
      "tensor([0.5991, 0.4844, 1.1973, 0.9277, 0.4666, 0.5146], device='cuda:0',\n",
      "       dtype=torch.float16) 0.6666666666666666\n"
     ]
    },
    {
     "data": {
      "image/png": "[encoded data removed]",
      "text/plain": [
       "<Figure size 1000x240 with 2 Axes>"
      ]
     },
     "metadata": {},
     "output_type": "display_data"
    },
    {
     "name": "stdout",
     "output_type": "stream",
     "text": [
      "scaled_logprobs = tensor([-0.6934, -0.7114, -0.7319, -0.7534, -0.7769, -0.8013], device='cuda:0',\n",
      "       dtype=torch.float16)\n",
      " ▁Yes 0.435 {'▁No': 0.564, '▁Yes': 0.435, '<unk>': 0.0, '<s>': 0.0} \t < Elizabeth has bread. Brian has a mango. Nancy has a bus. >. Does Elizabeth have a kind of food? Yes ▁No:0.179 *▁Yes:-0.081\n",
      "*▁No 0.897 {'▁No': 0.898, '▁Yes': 0.103, '<unk>': 0.0, '<s>': 0.0} \t  < John has bread. Barbara has a beetle. Linda has a taxi. >. Does Linda have a kind of insect? No *▁No:1.703 ▁Yes:-0.466\n",
      "*▁Yes 0.621 {'▁Yes': 0.621, '▁No': 0.379, '<unk>': 0.0, '<s>': 0.0} \t  < Kenneth has sheep. Susan has a wolf. Michelle has a motorcycle. >. Does Michelle have a kind of vehicle? Yes ▁No:-0.296 *▁Yes:0.198\n",
      " ▁No 0.487 {'▁Yes': 0.512, '▁No': 0.487, '<unk>': 0.0, '<s>': 0.0} \t  < Elizabeth has a rifle. Donald has a piano. Donna has pants. >. Does Elizabeth have a kind of musical instrument? No *▁No:0.084 ▁Yes:0.136\n",
      " ▁No 0.446 {'▁Yes': 0.554, '▁No': 0.446, '<unk>': 0.0, '<s>': 0.0} \t  < Carol has a lion. Nancy has a piano. Anthony has a cat. >. Does Nancy have a kind of animal? No *▁No:-0.006 ▁Yes:0.209\n",
      " ▁Yes 0.447 {'▁No': 0.552, '▁Yes': 0.447, '<unk>': 0.0, '<s>': 0.0} \t  < Maria has a burger. Sarah has a jacket. Margaret has a kiwi. >. Does Sarah have a kind of clothing? Yes ▁No:0.411 *▁Yes:0.199\n",
      " ▁Yes 0.427 {'▁No': 0.573, '▁Yes': 0.427, '<unk>': 0.0, '<s>': 0.0} \t  < Steven has wine. Jennifer has a bee. Patricia has a lime. >. Does Jennifer have a kind of insect? Yes ▁No:0.431 *▁Yes:0.137\n",
      " ▁No 0.316 {'▁Yes': 0.684, '▁No': 0.316, '<unk>': 0.0, '<s>': 0.0} \t  < Sandra has a car. Mark has spaghetti. Michelle has a banana. >. Does Michelle have a kind of food? No *▁No:-0.422 ▁Yes:0.351\n",
      "tensor([0.4763, 0.7192, 0.8066, 0.8047, 0.8506, 1.1523], device='cuda:0',\n",
      "       dtype=torch.float16) 0.16666666666666666\n"
     ]
    },
    {
     "data": {
      "image/png": "[encoded data removed]",
      "text/plain": [
       "<Figure size 1000x240 with 2 Axes>"
      ]
     },
     "metadata": {},
     "output_type": "display_data"
    },
    {
     "data": {
      "image/png": "[encoded data removed]",
      "text/plain": [
       "<Figure size 640x480 with 1 Axes>"
      ]
     },
     "metadata": {},
     "output_type": "display_data"
    },
    {
     "name": "stdout",
     "output_type": "stream",
     "text": [
      "ratio = 0.766839\n",
      "reduced_ap_scores = tensor([0.6050, 0.5039, 0.6899, 0.5718, 0.5698, 0.5464], device='cuda:0',\n",
      "       dtype=torch.float16) tensor(0.5811, device='cuda:0', dtype=torch.float16)\n"
     ]
    }
   ],
   "source": [
    "plot_attn_attrs(r.data_tuples[:], model, tokenizer, node, topi=[3], attn_patterns=['B->B'], is_relating_head=False, k_shot=k_shot, mix=True)"
   ]
  },
  {
   "cell_type": "code",
   "execution_count": 51,
   "id": "d8fcd41d",
   "metadata": {},
   "outputs": [],
   "source": [
    "plot_attn_attrs(r.data_tuples[:], model, tokenizer, node, topi=[0], attn_patterns=['B->B'], is_relating_head=False, k_shot=k_shot, mix=False)"
   ]
  },
  {
   "cell_type": "code",
   "execution_count": 41,
   "id": "e21f8978",
   "metadata": {},
   "outputs": [
    {
     "data": {
      "application/vnd.plotly.v1+json": {
       "config": {
        "plotlyServerURL": "https://plot.ly"
       },
       "data": [
        {
         "hovertemplate": "<b>%{hovertext}</b><br><br>PC1=%{x}<br>PC2=%{y}<br>label=%{marker.color}<extra></extra>",
         "hovertext": [
          "< Dorothy has a motorcycle. Laura has tea. Sarah has a durian. >. Does Dorothy possess a kind of vehicle? Yes",
          "< Jennifer has soda. Steven has a gun. Maria has a duck. >. Does Jennifer have a kind of animal? No",
          "< Donald has a jacket. Mary has cake. Deborah has a durian. >. Does Donald have a kind of fruit? No",
          "< Sandra has a papaya. Kimberly has soda. Kevin has bread. >. Does Kimberly own a kind of drink? Yes",
          "< Sarah has a jeep. Jason has a taxi. Anthony has pizza. >. Does Anthony own a kind of vehicle? No",
          "< Michael has a guitar. Kevin has a hamburger. Sandra has a gorilla. >. Does Sandra own a kind of animal? Yes",
          "< Jeff has a goat. John has a donkey. Michelle has a piano. >. Does Michelle own a kind of animal? No",
          "< Susan has a burger. Karen has a rifle. Anthony has trousers. >. Does Susan own a kind of food? Yes",
          "< David has a guitar. Sharon has a donkey. John has a burger. >. Does John own a kind of musical instrument? No",
          "< Sharon has a lion. Donald has beer. Barbara has a rifle. >. Does Donald have a kind of drink? Yes",
          "< Kimberly has a mouse. Steven has a baseball. Elizabeth has blackberries. >. Does Steven have a kind of animal? No",
          "< John has a violin. Michael has a shotgun. Jennifer has a jeep. >. Does John own a kind of musical instrument? Yes",
          "< Sarah has a lion. Joseph has a handgun. Robert has a jersey. >. Does Joseph possess a kind of weapon? Yes",
          "< Paul has a papaya. Michael has a pear. Thomas has soda. >. Does Thomas possess a kind of fruit? No",
          "< Michelle has a rifle. Helen has a squirrel. Joseph has soda. >. Does Michelle own a kind of weapon? Yes",
          "< Paul has a horse. William has a revolver. Brian has a taxi. >. Does Paul possess a kind of vehicle? No",
          "< Steven has a beetle. Kenneth has a mouse. Brian has a steak. >. Does Steven own a kind of animal? No",
          "< Sharon has a grenade. Helen has a violin. William has a beetle. >. Does Helen have a kind of weapon? No",
          "< Michelle has an elephant. Elizabeth has a rifle. Kimberly has pizza. >. Does Elizabeth own a kind of weapon? Yes",
          "< Jason has a steak. James has a uniform. Susan has a jersey. >. Does Jason have a kind of clothing? No",
          "< Susan has a football. Helen has a costume. John has a deer. >. Does Susan own a kind of clothing? No",
          "< Nancy has trousers. Steven has a papaya. William has a beetle. >. Does William have a kind of fruit? No",
          "< Susan has a cow. James has a steak. Sandra has a cocktail. >. Does Sandra own a kind of drink? Yes",
          "< Maria has shoes. Kenneth has a monkey. Linda has grapes. >. Does Maria have a kind of clothing? Yes",
          "< Deborah has a lion. Barbara has meat. John has a gorilla. >. Does Barbara possess a kind of food? Yes",
          "< Daniel has underwear. William has a papaya. Dorothy has spaghetti. >. Does Dorothy own a kind of food? Yes",
          "< John has a mango. Barbara has a lime. Michael has a rifle. >. Does Michael have a kind of weapon? Yes",
          "< Kimberly has T-shirt. Elizabeth has a baseball. Mary has a donkey. >. Does Kimberly possess a kind of clothing? Yes",
          "< Betty has a banana. Michael has a jeep. Elizabeth has a mosquito. >. Does Michael have a kind of fruit? No",
          "< Ruth has a mosquito. Christopher has a uniform. Susan has a grenade. >. Does Ruth possess a kind of insect? Yes",
          "< Dorothy has pants. Sandra has a papaya. Linda has blackberries. >. Does Dorothy have a kind of clothing? Yes",
          "< Steven has jeans. Kevin has strawberries. Betty has a fox. >. Does Steven have a kind of animal? No",
          "< Christopher has shoes. Charles has a beetle. Richard has a cannon. >. Does Charles own a kind of insect? Yes",
          "< Anthony has a sweater. George has a gorilla. Elizabeth has spaghetti. >. Does George have a kind of food? No",
          "< Kevin has trousers. Margaret has a banana. Richard has wine. >. Does Richard own a kind of drink? Yes",
          "< David has a jeep. Karen has a pear. Carol has a handgun. >. Does David own a kind of vehicle? Yes",
          "< Margaret has a sweater. Daniel has a taxi. Charles has a handgun. >. Does Daniel own a kind of weapon? No",
          "< Ronald has a basketball. Barbara has a uniform. Thomas has bread. >. Does Ronald possess a kind of clothing? No",
          "< Michael has a shotgun. John has a burger. Robert has a rifle. >. Does John own a kind of food? Yes",
          "< David has a rabbit. Sharon has a jacket. Barbara has bread. >. Does Barbara possess a kind of food? Yes"
         ],
         "legendgroup": "",
         "marker": {
          "color": [
           0,
           1,
           1,
           0,
           1,
           0,
           1,
           0,
           1,
           0,
           1,
           0,
           0,
           1,
           0,
           1,
           1,
           1,
           0,
           1,
           1,
           1,
           0,
           0,
           0,
           0,
           0,
           0,
           1,
           0,
           0,
           1,
           0,
           1,
           0,
           0,
           1,
           1,
           0,
           0
          ],
          "coloraxis": "coloraxis",
          "symbol": "circle"
         },
         "mode": "markers",
         "name": "",
         "orientation": "v",
         "showlegend": false,
         "type": "scatter",
         "x": [
          -9.800628662109375,
          -0.8335708379745483,
          -4.492220878601074,
          1.5837703943252563,
          5.375916481018066,
          5.848065376281738,
          6.653692245483398,
          -7.532166481018066,
          4.708613395690918,
          1.7831106185913086,
          0.8573093414306641,
          -0.647055983543396,
          1.579026699066162,
          7.490815162658691,
          -1.3764617443084717,
          -5.210809707641602,
          0.8487952947616577,
          4.468318462371826,
          4.237331390380859,
          -6.504232406616211,
          -5.032649993896484,
          7.066913604736328,
          4.840847969055176,
          -4.535879135131836,
          0.971244215965271,
          5.3821563720703125,
          4.432784080505371,
          -12.111862182617188,
          2.6725544929504395,
          -12.759708404541016,
          -9.492796897888184,
          -0.7528553605079651,
          -2.9775471687316895,
          4.863081932067871,
          2.5408663749694824,
          -4.145636558532715,
          5.451530456542969,
          -2.4405224323272705,
          2.0744452476501465,
          4.915417671203613
         ],
         "xaxis": "x",
         "y": [
          -3.420036792755127,
          4.855090141296387,
          4.253729820251465,
          -0.15157058835029602,
          1.690277338027954,
          -3.0266754627227783,
          1.7027233839035034,
          -0.2180783748626709,
          2.0949699878692627,
          0.9425169229507446,
          6.894527435302734,
          -0.7985886931419373,
          -5.097026824951172,
          0.3880963623523712,
          -0.5847569704055786,
          -1.3301491737365723,
          1.1023352146148682,
          0.38665980100631714,
          -3.1908156871795654,
          2.584843158721924,
          2.2796311378479004,
          2.9277331829071045,
          -3.553389310836792,
          2.768127918243408,
          -2.5000967979431152,
          -4.067743301391602,
          -3.9887795448303223,
          -2.0972495079040527,
          4.405223846435547,
          -2.4612956047058105,
          0.09857550263404846,
          6.519841194152832,
          -1.9560256004333496,
          3.4764468669891357,
          -3.286649703979492,
          -2.4076294898986816,
          -0.37427157163619995,
          1.9206480979919434,
          -2.8606386184692383,
          -3.9205284118652344
         ],
         "yaxis": "y"
        }
       ],
       "layout": {
        "coloraxis": {
         "colorbar": {
          "title": {
           "text": "label"
          }
         },
         "colorscale": [
          [
           0,
           "rgb(255,0,0)"
          ],
          [
           1,
           "rgb(0,0,255)"
          ]
         ],
         "showscale": false
        },
        "legend": {
         "tracegroupgap": 0
        },
        "margin": {
         "t": 60
        },
        "template": {
         "data": {
          "bar": [
           {
            "error_x": {
             "color": "#2a3f5f"
            },
            "error_y": {
             "color": "#2a3f5f"
            },
            "marker": {
             "line": {
              "color": "#E5ECF6",
              "width": 0.5
             },
             "pattern": {
              "fillmode": "overlay",
              "size": 10,
              "solidity": 0.2
             }
            },
            "type": "bar"
           }
          ],
          "barpolar": [
           {
            "marker": {
             "line": {
              "color": "#E5ECF6",
              "width": 0.5
             },
             "pattern": {
              "fillmode": "overlay",
              "size": 10,
              "solidity": 0.2
             }
            },
            "type": "barpolar"
           }
          ],
          "carpet": [
           {
            "aaxis": {
             "endlinecolor": "#2a3f5f",
             "gridcolor": "white",
             "linecolor": "white",
             "minorgridcolor": "white",
             "startlinecolor": "#2a3f5f"
            },
            "baxis": {
             "endlinecolor": "#2a3f5f",
             "gridcolor": "white",
             "linecolor": "white",
             "minorgridcolor": "white",
             "startlinecolor": "#2a3f5f"
            },
            "type": "carpet"
           }
          ],
          "choropleth": [
           {
            "colorbar": {
             "outlinewidth": 0,
             "ticks": ""
            },
            "type": "choropleth"
           }
          ],
          "contour": [
           {
            "colorbar": {
             "outlinewidth": 0,
             "ticks": ""
            },
            "colorscale": [
             [
              0,
              "#0d0887"
             ],
             [
              0.1111111111111111,
              "#46039f"
             ],
             [
              0.2222222222222222,
              "#7201a8"
             ],
             [
              0.3333333333333333,
              "#9c179e"
             ],
             [
              0.4444444444444444,
              "#bd3786"
             ],
             [
              0.5555555555555556,
              "#d8576b"
             ],
             [
              0.6666666666666666,
              "#ed7953"
             ],
             [
              0.7777777777777778,
              "#fb9f3a"
             ],
             [
              0.8888888888888888,
              "#fdca26"
             ],
             [
              1,
              "#f0f921"
             ]
            ],
            "type": "contour"
           }
          ],
          "contourcarpet": [
           {
            "colorbar": {
             "outlinewidth": 0,
             "ticks": ""
            },
            "type": "contourcarpet"
           }
          ],
          "heatmap": [
           {
            "colorbar": {
             "outlinewidth": 0,
             "ticks": ""
            },
            "colorscale": [
             [
              0,
              "#0d0887"
             ],
             [
              0.1111111111111111,
              "#46039f"
             ],
             [
              0.2222222222222222,
              "#7201a8"
             ],
             [
              0.3333333333333333,
              "#9c179e"
             ],
             [
              0.4444444444444444,
              "#bd3786"
             ],
             [
              0.5555555555555556,
              "#d8576b"
             ],
             [
              0.6666666666666666,
              "#ed7953"
             ],
             [
              0.7777777777777778,
              "#fb9f3a"
             ],
             [
              0.8888888888888888,
              "#fdca26"
             ],
             [
              1,
              "#f0f921"
             ]
            ],
            "type": "heatmap"
           }
          ],
          "heatmapgl": [
           {
            "colorbar": {
             "outlinewidth": 0,
             "ticks": ""
            },
            "colorscale": [
             [
              0,
              "#0d0887"
             ],
             [
              0.1111111111111111,
              "#46039f"
             ],
             [
              0.2222222222222222,
              "#7201a8"
             ],
             [
              0.3333333333333333,
              "#9c179e"
             ],
             [
              0.4444444444444444,
              "#bd3786"
             ],
             [
              0.5555555555555556,
              "#d8576b"
             ],
             [
              0.6666666666666666,
              "#ed7953"
             ],
             [
              0.7777777777777778,
              "#fb9f3a"
             ],
             [
              0.8888888888888888,
              "#fdca26"
             ],
             [
              1,
              "#f0f921"
             ]
            ],
            "type": "heatmapgl"
           }
          ],
          "histogram": [
           {
            "marker": {
             "pattern": {
              "fillmode": "overlay",
              "size": 10,
              "solidity": 0.2
             }
            },
            "type": "histogram"
           }
          ],
          "histogram2d": [
           {
            "colorbar": {
             "outlinewidth": 0,
             "ticks": ""
            },
            "colorscale": [
             [
              0,
              "#0d0887"
             ],
             [
              0.1111111111111111,
              "#46039f"
             ],
             [
              0.2222222222222222,
              "#7201a8"
             ],
             [
              0.3333333333333333,
              "#9c179e"
             ],
             [
              0.4444444444444444,
              "#bd3786"
             ],
             [
              0.5555555555555556,
              "#d8576b"
             ],
             [
              0.6666666666666666,
              "#ed7953"
             ],
             [
              0.7777777777777778,
              "#fb9f3a"
             ],
             [
              0.8888888888888888,
              "#fdca26"
             ],
             [
              1,
              "#f0f921"
             ]
            ],
            "type": "histogram2d"
           }
          ],
          "histogram2dcontour": [
           {
            "colorbar": {
             "outlinewidth": 0,
             "ticks": ""
            },
            "colorscale": [
             [
              0,
              "#0d0887"
             ],
             [
              0.1111111111111111,
              "#46039f"
             ],
             [
              0.2222222222222222,
              "#7201a8"
             ],
             [
              0.3333333333333333,
              "#9c179e"
             ],
             [
              0.4444444444444444,
              "#bd3786"
             ],
             [
              0.5555555555555556,
              "#d8576b"
             ],
             [
              0.6666666666666666,
              "#ed7953"
             ],
             [
              0.7777777777777778,
              "#fb9f3a"
             ],
             [
              0.8888888888888888,
              "#fdca26"
             ],
             [
              1,
              "#f0f921"
             ]
            ],
            "type": "histogram2dcontour"
           }
          ],
          "mesh3d": [
           {
            "colorbar": {
             "outlinewidth": 0,
             "ticks": ""
            },
            "type": "mesh3d"
           }
          ],
          "parcoords": [
           {
            "line": {
             "colorbar": {
              "outlinewidth": 0,
              "ticks": ""
             }
            },
            "type": "parcoords"
           }
          ],
          "pie": [
           {
            "automargin": true,
            "type": "pie"
           }
          ],
          "scatter": [
           {
            "fillpattern": {
             "fillmode": "overlay",
             "size": 10,
             "solidity": 0.2
            },
            "type": "scatter"
           }
          ],
          "scatter3d": [
           {
            "line": {
             "colorbar": {
              "outlinewidth": 0,
              "ticks": ""
             }
            },
            "marker": {
             "colorbar": {
              "outlinewidth": 0,
              "ticks": ""
             }
            },
            "type": "scatter3d"
           }
          ],
          "scattercarpet": [
           {
            "marker": {
             "colorbar": {
              "outlinewidth": 0,
              "ticks": ""
             }
            },
            "type": "scattercarpet"
           }
          ],
          "scattergeo": [
           {
            "marker": {
             "colorbar": {
              "outlinewidth": 0,
              "ticks": ""
             }
            },
            "type": "scattergeo"
           }
          ],
          "scattergl": [
           {
            "marker": {
             "colorbar": {
              "outlinewidth": 0,
              "ticks": ""
             }
            },
            "type": "scattergl"
           }
          ],
          "scattermapbox": [
           {
            "marker": {
             "colorbar": {
              "outlinewidth": 0,
              "ticks": ""
             }
            },
            "type": "scattermapbox"
           }
          ],
          "scatterpolar": [
           {
            "marker": {
             "colorbar": {
              "outlinewidth": 0,
              "ticks": ""
             }
            },
            "type": "scatterpolar"
           }
          ],
          "scatterpolargl": [
           {
            "marker": {
             "colorbar": {
              "outlinewidth": 0,
              "ticks": ""
             }
            },
            "type": "scatterpolargl"
           }
          ],
          "scatterternary": [
           {
            "marker": {
             "colorbar": {
              "outlinewidth": 0,
              "ticks": ""
             }
            },
            "type": "scatterternary"
           }
          ],
          "surface": [
           {
            "colorbar": {
             "outlinewidth": 0,
             "ticks": ""
            },
            "colorscale": [
             [
              0,
              "#0d0887"
             ],
             [
              0.1111111111111111,
              "#46039f"
             ],
             [
              0.2222222222222222,
              "#7201a8"
             ],
             [
              0.3333333333333333,
              "#9c179e"
             ],
             [
              0.4444444444444444,
              "#bd3786"
             ],
             [
              0.5555555555555556,
              "#d8576b"
             ],
             [
              0.6666666666666666,
              "#ed7953"
             ],
             [
              0.7777777777777778,
              "#fb9f3a"
             ],
             [
              0.8888888888888888,
              "#fdca26"
             ],
             [
              1,
              "#f0f921"
             ]
            ],
            "type": "surface"
           }
          ],
          "table": [
           {
            "cells": {
             "fill": {
              "color": "#EBF0F8"
             },
             "line": {
              "color": "white"
             }
            },
            "header": {
             "fill": {
              "color": "#C8D4E3"
             },
             "line": {
              "color": "white"
             }
            },
            "type": "table"
           }
          ]
         },
         "layout": {
          "annotationdefaults": {
           "arrowcolor": "#2a3f5f",
           "arrowhead": 0,
           "arrowwidth": 1
          },
          "autotypenumbers": "strict",
          "coloraxis": {
           "colorbar": {
            "outlinewidth": 0,
            "ticks": ""
           }
          },
          "colorscale": {
           "diverging": [
            [
             0,
             "#8e0152"
            ],
            [
             0.1,
             "#c51b7d"
            ],
            [
             0.2,
             "#de77ae"
            ],
            [
             0.3,
             "#f1b6da"
            ],
            [
             0.4,
             "#fde0ef"
            ],
            [
             0.5,
             "#f7f7f7"
            ],
            [
             0.6,
             "#e6f5d0"
            ],
            [
             0.7,
             "#b8e186"
            ],
            [
             0.8,
             "#7fbc41"
            ],
            [
             0.9,
             "#4d9221"
            ],
            [
             1,
             "#276419"
            ]
           ],
           "sequential": [
            [
             0,
             "#0d0887"
            ],
            [
             0.1111111111111111,
             "#46039f"
            ],
            [
             0.2222222222222222,
             "#7201a8"
            ],
            [
             0.3333333333333333,
             "#9c179e"
            ],
            [
             0.4444444444444444,
             "#bd3786"
            ],
            [
             0.5555555555555556,
             "#d8576b"
            ],
            [
             0.6666666666666666,
             "#ed7953"
            ],
            [
             0.7777777777777778,
             "#fb9f3a"
            ],
            [
             0.8888888888888888,
             "#fdca26"
            ],
            [
             1,
             "#f0f921"
            ]
           ],
           "sequentialminus": [
            [
             0,
             "#0d0887"
            ],
            [
             0.1111111111111111,
             "#46039f"
            ],
            [
             0.2222222222222222,
             "#7201a8"
            ],
            [
             0.3333333333333333,
             "#9c179e"
            ],
            [
             0.4444444444444444,
             "#bd3786"
            ],
            [
             0.5555555555555556,
             "#d8576b"
            ],
            [
             0.6666666666666666,
             "#ed7953"
            ],
            [
             0.7777777777777778,
             "#fb9f3a"
            ],
            [
             0.8888888888888888,
             "#fdca26"
            ],
            [
             1,
             "#f0f921"
            ]
           ]
          },
          "colorway": [
           "#636efa",
           "#EF553B",
           "#00cc96",
           "#ab63fa",
           "#FFA15A",
           "#19d3f3",
           "#FF6692",
           "#B6E880",
           "#FF97FF",
           "#FECB52"
          ],
          "font": {
           "color": "#2a3f5f"
          },
          "geo": {
           "bgcolor": "white",
           "lakecolor": "white",
           "landcolor": "#E5ECF6",
           "showlakes": true,
           "showland": true,
           "subunitcolor": "white"
          },
          "hoverlabel": {
           "align": "left"
          },
          "hovermode": "closest",
          "mapbox": {
           "style": "light"
          },
          "paper_bgcolor": "white",
          "plot_bgcolor": "#E5ECF6",
          "polar": {
           "angularaxis": {
            "gridcolor": "white",
            "linecolor": "white",
            "ticks": ""
           },
           "bgcolor": "#E5ECF6",
           "radialaxis": {
            "gridcolor": "white",
            "linecolor": "white",
            "ticks": ""
           }
          },
          "scene": {
           "xaxis": {
            "backgroundcolor": "#E5ECF6",
            "gridcolor": "white",
            "gridwidth": 2,
            "linecolor": "white",
            "showbackground": true,
            "ticks": "",
            "zerolinecolor": "white"
           },
           "yaxis": {
            "backgroundcolor": "#E5ECF6",
            "gridcolor": "white",
            "gridwidth": 2,
            "linecolor": "white",
            "showbackground": true,
            "ticks": "",
            "zerolinecolor": "white"
           },
           "zaxis": {
            "backgroundcolor": "#E5ECF6",
            "gridcolor": "white",
            "gridwidth": 2,
            "linecolor": "white",
            "showbackground": true,
            "ticks": "",
            "zerolinecolor": "white"
           }
          },
          "shapedefaults": {
           "line": {
            "color": "#2a3f5f"
           }
          },
          "ternary": {
           "aaxis": {
            "gridcolor": "white",
            "linecolor": "white",
            "ticks": ""
           },
           "baxis": {
            "gridcolor": "white",
            "linecolor": "white",
            "ticks": ""
           },
           "bgcolor": "#E5ECF6",
           "caxis": {
            "gridcolor": "white",
            "linecolor": "white",
            "ticks": ""
           }
          },
          "title": {
           "x": 0.05
          },
          "xaxis": {
           "automargin": true,
           "gridcolor": "white",
           "linecolor": "white",
           "ticks": "",
           "title": {
            "standoff": 15
           },
           "zerolinecolor": "white",
           "zerolinewidth": 2
          },
          "yaxis": {
           "automargin": true,
           "gridcolor": "white",
           "linecolor": "white",
           "ticks": "",
           "title": {
            "standoff": 15
           },
           "zerolinecolor": "white",
           "zerolinewidth": 2
          }
         }
        },
        "title": {
         "font": {
          "size": 20
         },
         "text": "Dataset visualizations across layers lmsys/vicuna-33b-v1.3"
        },
        "xaxis": {
         "anchor": "y",
         "domain": [
          0,
          1
         ],
         "title": {
          "text": "PC1"
         }
        },
        "yaxis": {
         "anchor": "x",
         "domain": [
          0,
          1
         ],
         "scaleanchor": "x",
         "scaleratio": 1,
         "title": {
          "text": "PC2"
         }
        }
       }
      },
      "text/html": [
       "<div>                            <div id=\"b8d5193a-4363-4346-9589-a550b84af172\" class=\"plotly-graph-div\" style=\"height:525px; width:100%;\"></div>            <script type=\"text/javascript\">                require([\"plotly\"], function(Plotly) {                    window.PLOTLYENV=window.PLOTLYENV || {};                                    if (document.getElementById(\"b8d5193a-4363-4346-9589-a550b84af172\")) {                    Plotly.newPlot(                        \"b8d5193a-4363-4346-9589-a550b84af172\",                        [{\"hovertemplate\":\"\\u003cb\\u003e%{hovertext}\\u003c\\u002fb\\u003e\\u003cbr\\u003e\\u003cbr\\u003ePC1=%{x}\\u003cbr\\u003ePC2=%{y}\\u003cbr\\u003elabel=%{marker.color}\\u003cextra\\u003e\\u003c\\u002fextra\\u003e\",\"hovertext\":[\"\\u003c Dorothy has a motorcycle. Laura has tea. Sarah has a durian. \\u003e. Does Dorothy possess a kind of vehicle? Yes\",\"\\u003c Jennifer has soda. Steven has a gun. Maria has a duck. \\u003e. Does Jennifer have a kind of animal? No\",\"\\u003c Donald has a jacket. Mary has cake. Deborah has a durian. \\u003e. Does Donald have a kind of fruit? No\",\"\\u003c Sandra has a papaya. Kimberly has soda. Kevin has bread. \\u003e. Does Kimberly own a kind of drink? Yes\",\"\\u003c Sarah has a jeep. Jason has a taxi. Anthony has pizza. \\u003e. Does Anthony own a kind of vehicle? No\",\"\\u003c Michael has a guitar. Kevin has a hamburger. Sandra has a gorilla. \\u003e. Does Sandra own a kind of animal? Yes\",\"\\u003c Jeff has a goat. John has a donkey. Michelle has a piano. \\u003e. Does Michelle own a kind of animal? No\",\"\\u003c Susan has a burger. Karen has a rifle. Anthony has trousers. \\u003e. Does Susan own a kind of food? Yes\",\"\\u003c David has a guitar. Sharon has a donkey. John has a burger. \\u003e. Does John own a kind of musical instrument? No\",\"\\u003c Sharon has a lion. Donald has beer. Barbara has a rifle. \\u003e. Does Donald have a kind of drink? Yes\",\"\\u003c Kimberly has a mouse. Steven has a baseball. Elizabeth has blackberries. \\u003e. Does Steven have a kind of animal? No\",\"\\u003c John has a violin. Michael has a shotgun. Jennifer has a jeep. \\u003e. Does John own a kind of musical instrument? Yes\",\"\\u003c Sarah has a lion. Joseph has a handgun. Robert has a jersey. \\u003e. Does Joseph possess a kind of weapon? Yes\",\"\\u003c Paul has a papaya. Michael has a pear. Thomas has soda. \\u003e. Does Thomas possess a kind of fruit? No\",\"\\u003c Michelle has a rifle. Helen has a squirrel. Joseph has soda. \\u003e. Does Michelle own a kind of weapon? Yes\",\"\\u003c Paul has a horse. William has a revolver. Brian has a taxi. \\u003e. Does Paul possess a kind of vehicle? No\",\"\\u003c Steven has a beetle. Kenneth has a mouse. Brian has a steak. \\u003e. Does Steven own a kind of animal? No\",\"\\u003c Sharon has a grenade. Helen has a violin. William has a beetle. \\u003e. Does Helen have a kind of weapon? No\",\"\\u003c Michelle has an elephant. Elizabeth has a rifle. Kimberly has pizza. \\u003e. Does Elizabeth own a kind of weapon? Yes\",\"\\u003c Jason has a steak. James has a uniform. Susan has a jersey. \\u003e. Does Jason have a kind of clothing? No\",\"\\u003c Susan has a football. Helen has a costume. John has a deer. \\u003e. Does Susan own a kind of clothing? No\",\"\\u003c Nancy has trousers. Steven has a papaya. William has a beetle. \\u003e. Does William have a kind of fruit? No\",\"\\u003c Susan has a cow. James has a steak. Sandra has a cocktail. \\u003e. Does Sandra own a kind of drink? Yes\",\"\\u003c Maria has shoes. Kenneth has a monkey. Linda has grapes. \\u003e. Does Maria have a kind of clothing? Yes\",\"\\u003c Deborah has a lion. Barbara has meat. John has a gorilla. \\u003e. Does Barbara possess a kind of food? Yes\",\"\\u003c Daniel has underwear. William has a papaya. Dorothy has spaghetti. \\u003e. Does Dorothy own a kind of food? Yes\",\"\\u003c John has a mango. Barbara has a lime. Michael has a rifle. \\u003e. Does Michael have a kind of weapon? Yes\",\"\\u003c Kimberly has T-shirt. Elizabeth has a baseball. Mary has a donkey. \\u003e. Does Kimberly possess a kind of clothing? Yes\",\"\\u003c Betty has a banana. Michael has a jeep. Elizabeth has a mosquito. \\u003e. Does Michael have a kind of fruit? No\",\"\\u003c Ruth has a mosquito. Christopher has a uniform. Susan has a grenade. \\u003e. Does Ruth possess a kind of insect? Yes\",\"\\u003c Dorothy has pants. Sandra has a papaya. Linda has blackberries. \\u003e. Does Dorothy have a kind of clothing? Yes\",\"\\u003c Steven has jeans. Kevin has strawberries. Betty has a fox. \\u003e. Does Steven have a kind of animal? No\",\"\\u003c Christopher has shoes. Charles has a beetle. Richard has a cannon. \\u003e. Does Charles own a kind of insect? Yes\",\"\\u003c Anthony has a sweater. George has a gorilla. Elizabeth has spaghetti. \\u003e. Does George have a kind of food? No\",\"\\u003c Kevin has trousers. Margaret has a banana. Richard has wine. \\u003e. Does Richard own a kind of drink? Yes\",\"\\u003c David has a jeep. Karen has a pear. Carol has a handgun. \\u003e. Does David own a kind of vehicle? Yes\",\"\\u003c Margaret has a sweater. Daniel has a taxi. Charles has a handgun. \\u003e. Does Daniel own a kind of weapon? No\",\"\\u003c Ronald has a basketball. Barbara has a uniform. Thomas has bread. \\u003e. Does Ronald possess a kind of clothing? No\",\"\\u003c Michael has a shotgun. John has a burger. Robert has a rifle. \\u003e. Does John own a kind of food? Yes\",\"\\u003c David has a rabbit. Sharon has a jacket. Barbara has bread. \\u003e. Does Barbara possess a kind of food? Yes\"],\"legendgroup\":\"\",\"marker\":{\"color\":[0,1,1,0,1,0,1,0,1,0,1,0,0,1,0,1,1,1,0,1,1,1,0,0,0,0,0,0,1,0,0,1,0,1,0,0,1,1,0,0],\"coloraxis\":\"coloraxis\",\"symbol\":\"circle\"},\"mode\":\"markers\",\"name\":\"\",\"orientation\":\"v\",\"showlegend\":false,\"x\":[-9.800628662109375,-0.8335708379745483,-4.492220878601074,1.5837703943252563,5.375916481018066,5.848065376281738,6.653692245483398,-7.532166481018066,4.708613395690918,1.7831106185913086,0.8573093414306641,-0.647055983543396,1.579026699066162,7.490815162658691,-1.3764617443084717,-5.210809707641602,0.8487952947616577,4.468318462371826,4.237331390380859,-6.504232406616211,-5.032649993896484,7.066913604736328,4.840847969055176,-4.535879135131836,0.971244215965271,5.3821563720703125,4.432784080505371,-12.111862182617188,2.6725544929504395,-12.759708404541016,-9.492796897888184,-0.7528553605079651,-2.9775471687316895,4.863081932067871,2.5408663749694824,-4.145636558532715,5.451530456542969,-2.4405224323272705,2.0744452476501465,4.915417671203613],\"xaxis\":\"x\",\"y\":[-3.420036792755127,4.855090141296387,4.253729820251465,-0.15157058835029602,1.690277338027954,-3.0266754627227783,1.7027233839035034,-0.2180783748626709,2.0949699878692627,0.9425169229507446,6.894527435302734,-0.7985886931419373,-5.097026824951172,0.3880963623523712,-0.5847569704055786,-1.3301491737365723,1.1023352146148682,0.38665980100631714,-3.1908156871795654,2.584843158721924,2.2796311378479004,2.9277331829071045,-3.553389310836792,2.768127918243408,-2.5000967979431152,-4.067743301391602,-3.9887795448303223,-2.0972495079040527,4.405223846435547,-2.4612956047058105,0.09857550263404846,6.519841194152832,-1.9560256004333496,3.4764468669891357,-3.286649703979492,-2.4076294898986816,-0.37427157163619995,1.9206480979919434,-2.8606386184692383,-3.9205284118652344],\"yaxis\":\"y\",\"type\":\"scatter\"}],                        {\"template\":{\"data\":{\"histogram2dcontour\":[{\"type\":\"histogram2dcontour\",\"colorbar\":{\"outlinewidth\":0,\"ticks\":\"\"},\"colorscale\":[[0.0,\"#0d0887\"],[0.1111111111111111,\"#46039f\"],[0.2222222222222222,\"#7201a8\"],[0.3333333333333333,\"#9c179e\"],[0.4444444444444444,\"#bd3786\"],[0.5555555555555556,\"#d8576b\"],[0.6666666666666666,\"#ed7953\"],[0.7777777777777778,\"#fb9f3a\"],[0.8888888888888888,\"#fdca26\"],[1.0,\"#f0f921\"]]}],\"choropleth\":[{\"type\":\"choropleth\",\"colorbar\":{\"outlinewidth\":0,\"ticks\":\"\"}}],\"histogram2d\":[{\"type\":\"histogram2d\",\"colorbar\":{\"outlinewidth\":0,\"ticks\":\"\"},\"colorscale\":[[0.0,\"#0d0887\"],[0.1111111111111111,\"#46039f\"],[0.2222222222222222,\"#7201a8\"],[0.3333333333333333,\"#9c179e\"],[0.4444444444444444,\"#bd3786\"],[0.5555555555555556,\"#d8576b\"],[0.6666666666666666,\"#ed7953\"],[0.7777777777777778,\"#fb9f3a\"],[0.8888888888888888,\"#fdca26\"],[1.0,\"#f0f921\"]]}],\"heatmap\":[{\"type\":\"heatmap\",\"colorbar\":{\"outlinewidth\":0,\"ticks\":\"\"},\"colorscale\":[[0.0,\"#0d0887\"],[0.1111111111111111,\"#46039f\"],[0.2222222222222222,\"#7201a8\"],[0.3333333333333333,\"#9c179e\"],[0.4444444444444444,\"#bd3786\"],[0.5555555555555556,\"#d8576b\"],[0.6666666666666666,\"#ed7953\"],[0.7777777777777778,\"#fb9f3a\"],[0.8888888888888888,\"#fdca26\"],[1.0,\"#f0f921\"]]}],\"heatmapgl\":[{\"type\":\"heatmapgl\",\"colorbar\":{\"outlinewidth\":0,\"ticks\":\"\"},\"colorscale\":[[0.0,\"#0d0887\"],[0.1111111111111111,\"#46039f\"],[0.2222222222222222,\"#7201a8\"],[0.3333333333333333,\"#9c179e\"],[0.4444444444444444,\"#bd3786\"],[0.5555555555555556,\"#d8576b\"],[0.6666666666666666,\"#ed7953\"],[0.7777777777777778,\"#fb9f3a\"],[0.8888888888888888,\"#fdca26\"],[1.0,\"#f0f921\"]]}],\"contourcarpet\":[{\"type\":\"contourcarpet\",\"colorbar\":{\"outlinewidth\":0,\"ticks\":\"\"}}],\"contour\":[{\"type\":\"contour\",\"colorbar\":{\"outlinewidth\":0,\"ticks\":\"\"},\"colorscale\":[[0.0,\"#0d0887\"],[0.1111111111111111,\"#46039f\"],[0.2222222222222222,\"#7201a8\"],[0.3333333333333333,\"#9c179e\"],[0.4444444444444444,\"#bd3786\"],[0.5555555555555556,\"#d8576b\"],[0.6666666666666666,\"#ed7953\"],[0.7777777777777778,\"#fb9f3a\"],[0.8888888888888888,\"#fdca26\"],[1.0,\"#f0f921\"]]}],\"surface\":[{\"type\":\"surface\",\"colorbar\":{\"outlinewidth\":0,\"ticks\":\"\"},\"colorscale\":[[0.0,\"#0d0887\"],[0.1111111111111111,\"#46039f\"],[0.2222222222222222,\"#7201a8\"],[0.3333333333333333,\"#9c179e\"],[0.4444444444444444,\"#bd3786\"],[0.5555555555555556,\"#d8576b\"],[0.6666666666666666,\"#ed7953\"],[0.7777777777777778,\"#fb9f3a\"],[0.8888888888888888,\"#fdca26\"],[1.0,\"#f0f921\"]]}],\"mesh3d\":[{\"type\":\"mesh3d\",\"colorbar\":{\"outlinewidth\":0,\"ticks\":\"\"}}],\"scatter\":[{\"fillpattern\":{\"fillmode\":\"overlay\",\"size\":10,\"solidity\":0.2},\"type\":\"scatter\"}],\"parcoords\":[{\"type\":\"parcoords\",\"line\":{\"colorbar\":{\"outlinewidth\":0,\"ticks\":\"\"}}}],\"scatterpolargl\":[{\"type\":\"scatterpolargl\",\"marker\":{\"colorbar\":{\"outlinewidth\":0,\"ticks\":\"\"}}}],\"bar\":[{\"error_x\":{\"color\":\"#2a3f5f\"},\"error_y\":{\"color\":\"#2a3f5f\"},\"marker\":{\"line\":{\"color\":\"#E5ECF6\",\"width\":0.5},\"pattern\":{\"fillmode\":\"overlay\",\"size\":10,\"solidity\":0.2}},\"type\":\"bar\"}],\"scattergeo\":[{\"type\":\"scattergeo\",\"marker\":{\"colorbar\":{\"outlinewidth\":0,\"ticks\":\"\"}}}],\"scatterpolar\":[{\"type\":\"scatterpolar\",\"marker\":{\"colorbar\":{\"outlinewidth\":0,\"ticks\":\"\"}}}],\"histogram\":[{\"marker\":{\"pattern\":{\"fillmode\":\"overlay\",\"size\":10,\"solidity\":0.2}},\"type\":\"histogram\"}],\"scattergl\":[{\"type\":\"scattergl\",\"marker\":{\"colorbar\":{\"outlinewidth\":0,\"ticks\":\"\"}}}],\"scatter3d\":[{\"type\":\"scatter3d\",\"line\":{\"colorbar\":{\"outlinewidth\":0,\"ticks\":\"\"}},\"marker\":{\"colorbar\":{\"outlinewidth\":0,\"ticks\":\"\"}}}],\"scattermapbox\":[{\"type\":\"scattermapbox\",\"marker\":{\"colorbar\":{\"outlinewidth\":0,\"ticks\":\"\"}}}],\"scatterternary\":[{\"type\":\"scatterternary\",\"marker\":{\"colorbar\":{\"outlinewidth\":0,\"ticks\":\"\"}}}],\"scattercarpet\":[{\"type\":\"scattercarpet\",\"marker\":{\"colorbar\":{\"outlinewidth\":0,\"ticks\":\"\"}}}],\"carpet\":[{\"aaxis\":{\"endlinecolor\":\"#2a3f5f\",\"gridcolor\":\"white\",\"linecolor\":\"white\",\"minorgridcolor\":\"white\",\"startlinecolor\":\"#2a3f5f\"},\"baxis\":{\"endlinecolor\":\"#2a3f5f\",\"gridcolor\":\"white\",\"linecolor\":\"white\",\"minorgridcolor\":\"white\",\"startlinecolor\":\"#2a3f5f\"},\"type\":\"carpet\"}],\"table\":[{\"cells\":{\"fill\":{\"color\":\"#EBF0F8\"},\"line\":{\"color\":\"white\"}},\"header\":{\"fill\":{\"color\":\"#C8D4E3\"},\"line\":{\"color\":\"white\"}},\"type\":\"table\"}],\"barpolar\":[{\"marker\":{\"line\":{\"color\":\"#E5ECF6\",\"width\":0.5},\"pattern\":{\"fillmode\":\"overlay\",\"size\":10,\"solidity\":0.2}},\"type\":\"barpolar\"}],\"pie\":[{\"automargin\":true,\"type\":\"pie\"}]},\"layout\":{\"autotypenumbers\":\"strict\",\"colorway\":[\"#636efa\",\"#EF553B\",\"#00cc96\",\"#ab63fa\",\"#FFA15A\",\"#19d3f3\",\"#FF6692\",\"#B6E880\",\"#FF97FF\",\"#FECB52\"],\"font\":{\"color\":\"#2a3f5f\"},\"hovermode\":\"closest\",\"hoverlabel\":{\"align\":\"left\"},\"paper_bgcolor\":\"white\",\"plot_bgcolor\":\"#E5ECF6\",\"polar\":{\"bgcolor\":\"#E5ECF6\",\"angularaxis\":{\"gridcolor\":\"white\",\"linecolor\":\"white\",\"ticks\":\"\"},\"radialaxis\":{\"gridcolor\":\"white\",\"linecolor\":\"white\",\"ticks\":\"\"}},\"ternary\":{\"bgcolor\":\"#E5ECF6\",\"aaxis\":{\"gridcolor\":\"white\",\"linecolor\":\"white\",\"ticks\":\"\"},\"baxis\":{\"gridcolor\":\"white\",\"linecolor\":\"white\",\"ticks\":\"\"},\"caxis\":{\"gridcolor\":\"white\",\"linecolor\":\"white\",\"ticks\":\"\"}},\"coloraxis\":{\"colorbar\":{\"outlinewidth\":0,\"ticks\":\"\"}},\"colorscale\":{\"sequential\":[[0.0,\"#0d0887\"],[0.1111111111111111,\"#46039f\"],[0.2222222222222222,\"#7201a8\"],[0.3333333333333333,\"#9c179e\"],[0.4444444444444444,\"#bd3786\"],[0.5555555555555556,\"#d8576b\"],[0.6666666666666666,\"#ed7953\"],[0.7777777777777778,\"#fb9f3a\"],[0.8888888888888888,\"#fdca26\"],[1.0,\"#f0f921\"]],\"sequentialminus\":[[0.0,\"#0d0887\"],[0.1111111111111111,\"#46039f\"],[0.2222222222222222,\"#7201a8\"],[0.3333333333333333,\"#9c179e\"],[0.4444444444444444,\"#bd3786\"],[0.5555555555555556,\"#d8576b\"],[0.6666666666666666,\"#ed7953\"],[0.7777777777777778,\"#fb9f3a\"],[0.8888888888888888,\"#fdca26\"],[1.0,\"#f0f921\"]],\"diverging\":[[0,\"#8e0152\"],[0.1,\"#c51b7d\"],[0.2,\"#de77ae\"],[0.3,\"#f1b6da\"],[0.4,\"#fde0ef\"],[0.5,\"#f7f7f7\"],[0.6,\"#e6f5d0\"],[0.7,\"#b8e186\"],[0.8,\"#7fbc41\"],[0.9,\"#4d9221\"],[1,\"#276419\"]]},\"xaxis\":{\"gridcolor\":\"white\",\"linecolor\":\"white\",\"ticks\":\"\",\"title\":{\"standoff\":15},\"zerolinecolor\":\"white\",\"automargin\":true,\"zerolinewidth\":2},\"yaxis\":{\"gridcolor\":\"white\",\"linecolor\":\"white\",\"ticks\":\"\",\"title\":{\"standoff\":15},\"zerolinecolor\":\"white\",\"automargin\":true,\"zerolinewidth\":2},\"scene\":{\"xaxis\":{\"backgroundcolor\":\"#E5ECF6\",\"gridcolor\":\"white\",\"linecolor\":\"white\",\"showbackground\":true,\"ticks\":\"\",\"zerolinecolor\":\"white\",\"gridwidth\":2},\"yaxis\":{\"backgroundcolor\":\"#E5ECF6\",\"gridcolor\":\"white\",\"linecolor\":\"white\",\"showbackground\":true,\"ticks\":\"\",\"zerolinecolor\":\"white\",\"gridwidth\":2},\"zaxis\":{\"backgroundcolor\":\"#E5ECF6\",\"gridcolor\":\"white\",\"linecolor\":\"white\",\"showbackground\":true,\"ticks\":\"\",\"zerolinecolor\":\"white\",\"gridwidth\":2}},\"shapedefaults\":{\"line\":{\"color\":\"#2a3f5f\"}},\"annotationdefaults\":{\"arrowcolor\":\"#2a3f5f\",\"arrowhead\":0,\"arrowwidth\":1},\"geo\":{\"bgcolor\":\"white\",\"landcolor\":\"#E5ECF6\",\"subunitcolor\":\"white\",\"showland\":true,\"showlakes\":true,\"lakecolor\":\"white\"},\"title\":{\"x\":0.05},\"mapbox\":{\"style\":\"light\"}}},\"xaxis\":{\"anchor\":\"y\",\"domain\":[0.0,1.0],\"title\":{\"text\":\"PC1\"}},\"yaxis\":{\"anchor\":\"x\",\"domain\":[0.0,1.0],\"title\":{\"text\":\"PC2\"},\"scaleanchor\":\"x\",\"scaleratio\":1},\"coloraxis\":{\"colorbar\":{\"title\":{\"text\":\"label\"}},\"colorscale\":[[0.0,\"rgb(255,0,0)\"],[1.0,\"rgb(0,0,255)\"]],\"showscale\":false},\"legend\":{\"tracegroupgap\":0},\"margin\":{\"t\":60},\"title\":{\"font\":{\"size\":20},\"text\":\"Dataset visualizations across layers lmsys\\u002fvicuna-33b-v1.3\"}},                        {\"responsive\": true}                    ).then(function(){\n",
       "                            \n",
       "var gd = document.getElementById('b8d5193a-4363-4346-9589-a550b84af172');\n",
       "var x = new MutationObserver(function (mutations, observer) {{\n",
       "        var display = window.getComputedStyle(gd).display;\n",
       "        if (!display || display === 'none') {{\n",
       "            console.log([gd, 'removed!']);\n",
       "            Plotly.purge(gd);\n",
       "            observer.disconnect();\n",
       "        }}\n",
       "}});\n",
       "\n",
       "// Listen for the removal of the full notebook cells\n",
       "var notebookContainer = gd.closest('#notebook-container');\n",
       "if (notebookContainer) {{\n",
       "    x.observe(notebookContainer, {childList: true});\n",
       "}}\n",
       "\n",
       "// Listen for the clearing of the current output cell\n",
       "var outputEl = gd.closest('.output');\n",
       "if (outputEl) {{\n",
       "    x.observe(outputEl, {childList: true});\n",
       "}}\n",
       "\n",
       "                        })                };                });            </script>        </div>"
      ]
     },
     "metadata": {},
     "output_type": "display_data"
    }
   ],
   "source": [
    "from nrk.geometry.visualization_utils_modify import *\n",
    "from plotly.subplots import make_subplots\n",
    "from nrk.geometry.generate_acts import get_acts\n",
    "#*************************\n",
    "\n",
    "#注意查询attn和mlp的区别\n",
    "#(layer = 10,pattern = 'attn')表示查询第10层输入，即第9层输出。(layer = 10,pattern = 'mlp')表示查询第10层mlp的输出\n",
    "#pattern = 'attn'： layer 0~61\n",
    "#pattern = 'mlp'： layer 0~59\n",
    "\n",
    "#************************\n",
    "layer = 36\n",
    "\n",
    "fig = TruthData.from_datasets(\n",
    "    [\"typeofthing\"],\n",
    "    r,\n",
    "    cxt_len,\n",
    "    batch_size = batch_size,\n",
    "    model_size = model_name,\n",
    "    layer=layer,\n",
    "    start=k_shot, \n",
    "    end=nrows,\n",
    "    pattern = 'mlp',\n",
    "    device=device\n",
    ").plot(\n",
    "    dimensions=2, # 3 dimensions also supported\n",
    "    dim_offset=0, # increase if you want to ignore the first few PCs\n",
    "    color='label',\n",
    "    # if you don't want to plot and do PCA on all datasets:\n",
    "    # plot_datasets = [ list of datasets to plot here ],\n",
    "    # pca_datasets = [ list of datasets to use for PCA here]\n",
    ")\n",
    "\n",
    "fig.update_layout(\n",
    "    title = {\n",
    "        'text' : f\"Dataset visualizations across layers {model_name}\",\n",
    "        'font' : {'size' : 20},\n",
    "    }\n",
    ")\n",
    "\n",
    "fig.show()"
   ]
  },
  {
   "cell_type": "code",
   "execution_count": 44,
   "id": "629ae02c",
   "metadata": {},
   "outputs": [
    {
     "data": {
      "application/vnd.plotly.v1+json": {
       "config": {
        "plotlyServerURL": "https://plot.ly"
       },
       "data": [
        {
         "hovertemplate": "<b>%{hovertext}</b><br><br>PC1=%{x}<br>PC2=%{y}<br>label=%{marker.color}<extra></extra>",
         "hovertext": [
          "< Jennifer has a bus. Helen has a rabbit. George has blackberries. >. Does Jennifer have a kind of vehicle? Yes",
          "< Mark has a guitar. George has a watermelon. Ronald has a taxi. >. Does Mark own a kind of vehicle? No",
          "< Kenneth has beer. Deborah has a uniform. John has a revolver. >. Does Kenneth possess a kind of clothing? No",
          "< Elizabeth has a guitar. William has a taxi. Edward has a banana. >. Does William possess a kind of vehicle? Yes",
          "< Mary has shoes. Susan has a guitar. Dorothy has blackberries. >. Does Susan possess a kind of clothing? No",
          "< Linda has a pineapple. Jeff has beer. Paul has a cannon. >. Does Paul have a kind of fruit? No",
          "< Sandra has blueberries. Nancy has a bee. John has a lion. >. Does Nancy own a kind of animal? No",
          "< Sharon has underwear. Daniel has a papaya. Paul has spaghetti. >. Does Paul own a kind of food? Yes",
          "< William has a grenade. Donald has a cow. Robert has pants. >. Does William own a kind of weapon? Yes",
          "< Barbara has a shirt. Betty has vodka. Margaret has a football. >. Does Barbara have a kind of drink? No",
          "< Thomas has a goat. Patricia has T-shirt. Charles has a burger. >. Does Patricia own a kind of clothing? Yes",
          "< Elizabeth has a baseball. Barbara has a jeep. Dorothy has a gorilla. >. Does Barbara possess a kind of vehicle? Yes",
          "< Maria has a guitar. David has a donkey. Joseph has a burger. >. Does Joseph possess a kind of musical instrument? No",
          "< Linda has a costume. Dorothy has a rabbit. Robert has a basketball. >. Does Robert own a kind of clothing? No",
          "< Elizabeth has a car. James has a violin. Donna has coffee. >. Does Elizabeth possess a kind of drink? No",
          "< Ronald has a monkey. Barbara has a revolver. Laura has a burger. >. Does Laura possess a kind of animal? No",
          "< Charles has a baseball. Michael has a beetle. Lisa has blackberries. >. Does Michael own a kind of insect? Yes",
          "< Charles has a papaya. Maria has a revolver. Nancy has a costume. >. Does Maria own a kind of weapon? Yes",
          "< Edward has jeans. Brian has a rifle. William has wine. >. Does William possess a kind of weapon? No",
          "< Linda has a pig. Dorothy has a sweater. Maria has a dog. >. Does Dorothy own a kind of clothing? Yes",
          "< Linda has a gun. Karen has a basketball. Patricia has whiskey. >. Does Karen own a kind of sport? Yes",
          "< Patricia has a horse. Joseph has underwear. Charles has a football. >. Does Charles have a kind of sport? Yes",
          "< Ronald has soda. Anthony has a car. John has a deer. >. Does Anthony own a kind of vehicle? Yes",
          "< Michelle has pizza. Margaret has a rabbit. Dorothy has shoes. >. Does Dorothy own a kind of clothing? Yes",
          "< Nancy has a monkey. Jeff has a papaya. Christopher has a basketball. >. Does Jeff possess a kind of fruit? Yes",
          "< Brian has a piano. Robert has a uniform. Barbara has a handgun. >. Does Barbara possess a kind of weapon? Yes",
          "< Deborah has a lion. Betty has meat. John has a gorilla. >. Does Betty possess a kind of food? Yes",
          "< Daniel has a uniform. Kenneth has a revolver. Ruth has an apple. >. Does Kenneth possess a kind of fruit? No",
          "< James has a guitar. Dorothy has a gun. Charles has a goose. >. Does Charles own a kind of weapon? No",
          "< David has a rifle. Edward has a uniform. James has whiskey. >. Does David have a kind of clothing? No",
          "< Christopher has a lemon. Carol has a cannon. Edward has a tiger. >. Does Carol own a kind of fruit? No",
          "< Linda has a banana. Mark has a mosquito. Anthony has a cow. >. Does Anthony own a kind of animal? Yes",
          "< Jeff has a guitar. Maria has jeans. Thomas has a bee. >. Does Maria possess a kind of clothing? Yes",
          "< Susan has a shotgun. Charles has cake. Deborah has a jersey. >. Does Susan own a kind of weapon? Yes",
          "< Deborah has a pistol. Nancy has a jersey. Thomas has underwear. >. Does Deborah possess a kind of weapon? Yes",
          "< Patricia has a monkey. Mary has pizza. George has trousers. >. Does Patricia have a kind of animal? Yes",
          "< Kimberly has jeans. George has a handgun. Linda has a beetle. >. Does Kimberly possess a kind of insect? No",
          "< Ruth has a goat. Linda has a piano. Brian has a watermelon. >. Does Ruth have a kind of fruit? No",
          "< Susan has a jeep. Deborah has a pig. Sharon has a handgun. >. Does Deborah possess a kind of animal? Yes",
          "< Laura has a cannon. Kenneth has trousers. Daniel has a basketball. >. Does Kenneth own a kind of weapon? No",
          "< Betty has spaghetti. Steven has a shotgun. Laura has grapes. >. Does Betty have a kind of food? Yes",
          "< Nancy has a basketball. James has a beetle. Deborah has a horse. >. Does Deborah own a kind of animal? Yes",
          "< Kenneth has meat. Susan has an apricot. Charles has a handgun. >. Does Kenneth have a kind of food? Yes",
          "< Carol has a peach. Steven has a sweater. Sarah has a cannon. >. Does Steven possess a kind of clothing? Yes",
          "< Lisa has a taxi. Kevin has a monkey. Jennifer has a lime. >. Does Lisa own a kind of vehicle? Yes",
          "< Maria has wine. Betty has shoes. Michelle has a jacket. >. Does Maria possess a kind of drink? Yes",
          "< Barbara has spaghetti. Margaret has a cocktail. John has a banana. >. Does John possess a kind of fruit? Yes",
          "< Barbara has a cat. Kimberly has a taxi. William has cake. >. Does Barbara possess a kind of animal? Yes"
         ],
         "legendgroup": "",
         "marker": {
          "color": [
           0,
           1,
           1,
           0,
           1,
           1,
           1,
           0,
           0,
           1,
           0,
           0,
           1,
           1,
           1,
           1,
           0,
           0,
           1,
           0,
           0,
           0,
           0,
           0,
           0,
           0,
           0,
           1,
           1,
           1,
           1,
           0,
           0,
           0,
           0,
           0,
           1,
           1,
           0,
           1,
           0,
           0,
           0,
           0,
           0,
           0,
           0,
           0
          ],
          "coloraxis": "coloraxis",
          "symbol": "circle"
         },
         "mode": "markers",
         "name": "",
         "orientation": "v",
         "showlegend": false,
         "type": "scatter",
         "x": [
          2.35642147064209,
          -6.912318706512451,
          -9.629408836364746,
          2.770937442779541,
          -7.2459397315979,
          -5.598742961883545,
          -6.443534851074219,
          3.829603672027588,
          5.788331985473633,
          -3.1187126636505127,
          2.1278772354125977,
          -2.412677526473999,
          -8.411214828491211,
          -8.865023612976074,
          -7.853984355926514,
          -4.6462626457214355,
          5.998257637023926,
          2.810427665710449,
          -6.058842658996582,
          5.651799201965332,
          -0.7526305913925171,
          4.1347551345825195,
          -0.65837562084198,
          2.39996075630188,
          3.755192995071411,
          2.6998178958892822,
          1.758515477180481,
          -5.0730881690979,
          -5.248661518096924,
          -6.119836807250977,
          -3.138667106628418,
          0.9794353246688843,
          4.619158744812012,
          5.74382209777832,
          5.343342304229736,
          5.633951663970947,
          -7.0555524826049805,
          -2.4958724975585938,
          2.159006357192993,
          -10.199930191040039,
          6.427706718444824,
          6.195702075958252,
          0.5698388814926147,
          4.728209972381592,
          7.264518737792969,
          6.581384658813477,
          5.9984636306762695,
          6.428813934326172
         ],
         "xaxis": "x",
         "y": [
          -0.8090876936912537,
          0.20243708789348602,
          5.227084159851074,
          0.1944933831691742,
          4.045239448547363,
          -9.445638656616211,
          -0.40219053626060486,
          2.2243268489837646,
          2.1141631603240967,
          -10.322239875793457,
          4.115245819091797,
          3.0877246856689453,
          3.6638784408569336,
          2.0410289764404297,
          -0.4954216182231903,
          2.2199206352233887,
          2.0021274089813232,
          0.17809061706066132,
          2.7527384757995605,
          1.9115759134292603,
          1.0844757556915283,
          0.27050521969795227,
          1.9717202186584473,
          2.6339383125305176,
          -0.7835633754730225,
          0.056949689984321594,
          0.06636087596416473,
          2.2546966075897217,
          2.5897343158721924,
          -8.514101028442383,
          0.08048656582832336,
          -1.364323377609253,
          1.2411463260650635,
          -0.8843649625778198,
          -0.7384128570556641,
          0.9729853868484497,
          3.7995059490203857,
          -7.985590934753418,
          -2.5005154609680176,
          1.8251135349273682,
          -0.5221657752990723,
          1.0513710975646973,
          -9.140623092651367,
          1.9320036172866821,
          1.2423484325408936,
          -0.33894670009613037,
          -0.4824301600456238,
          1.643275499343872
         ],
         "yaxis": "y"
        }
       ],
       "layout": {
        "coloraxis": {
         "colorbar": {
          "title": {
           "text": "label"
          }
         },
         "colorscale": [
          [
           0,
           "rgb(255,0,0)"
          ],
          [
           1,
           "rgb(0,0,255)"
          ]
         ],
         "showscale": false
        },
        "legend": {
         "tracegroupgap": 0
        },
        "margin": {
         "t": 60
        },
        "template": {
         "data": {
          "bar": [
           {
            "error_x": {
             "color": "#2a3f5f"
            },
            "error_y": {
             "color": "#2a3f5f"
            },
            "marker": {
             "line": {
              "color": "#E5ECF6",
              "width": 0.5
             },
             "pattern": {
              "fillmode": "overlay",
              "size": 10,
              "solidity": 0.2
             }
            },
            "type": "bar"
           }
          ],
          "barpolar": [
           {
            "marker": {
             "line": {
              "color": "#E5ECF6",
              "width": 0.5
             },
             "pattern": {
              "fillmode": "overlay",
              "size": 10,
              "solidity": 0.2
             }
            },
            "type": "barpolar"
           }
          ],
          "carpet": [
           {
            "aaxis": {
             "endlinecolor": "#2a3f5f",
             "gridcolor": "white",
             "linecolor": "white",
             "minorgridcolor": "white",
             "startlinecolor": "#2a3f5f"
            },
            "baxis": {
             "endlinecolor": "#2a3f5f",
             "gridcolor": "white",
             "linecolor": "white",
             "minorgridcolor": "white",
             "startlinecolor": "#2a3f5f"
            },
            "type": "carpet"
           }
          ],
          "choropleth": [
           {
            "colorbar": {
             "outlinewidth": 0,
             "ticks": ""
            },
            "type": "choropleth"
           }
          ],
          "contour": [
           {
            "colorbar": {
             "outlinewidth": 0,
             "ticks": ""
            },
            "colorscale": [
             [
              0,
              "#0d0887"
             ],
             [
              0.1111111111111111,
              "#46039f"
             ],
             [
              0.2222222222222222,
              "#7201a8"
             ],
             [
              0.3333333333333333,
              "#9c179e"
             ],
             [
              0.4444444444444444,
              "#bd3786"
             ],
             [
              0.5555555555555556,
              "#d8576b"
             ],
             [
              0.6666666666666666,
              "#ed7953"
             ],
             [
              0.7777777777777778,
              "#fb9f3a"
             ],
             [
              0.8888888888888888,
              "#fdca26"
             ],
             [
              1,
              "#f0f921"
             ]
            ],
            "type": "contour"
           }
          ],
          "contourcarpet": [
           {
            "colorbar": {
             "outlinewidth": 0,
             "ticks": ""
            },
            "type": "contourcarpet"
           }
          ],
          "heatmap": [
           {
            "colorbar": {
             "outlinewidth": 0,
             "ticks": ""
            },
            "colorscale": [
             [
              0,
              "#0d0887"
             ],
             [
              0.1111111111111111,
              "#46039f"
             ],
             [
              0.2222222222222222,
              "#7201a8"
             ],
             [
              0.3333333333333333,
              "#9c179e"
             ],
             [
              0.4444444444444444,
              "#bd3786"
             ],
             [
              0.5555555555555556,
              "#d8576b"
             ],
             [
              0.6666666666666666,
              "#ed7953"
             ],
             [
              0.7777777777777778,
              "#fb9f3a"
             ],
             [
              0.8888888888888888,
              "#fdca26"
             ],
             [
              1,
              "#f0f921"
             ]
            ],
            "type": "heatmap"
           }
          ],
          "heatmapgl": [
           {
            "colorbar": {
             "outlinewidth": 0,
             "ticks": ""
            },
            "colorscale": [
             [
              0,
              "#0d0887"
             ],
             [
              0.1111111111111111,
              "#46039f"
             ],
             [
              0.2222222222222222,
              "#7201a8"
             ],
             [
              0.3333333333333333,
              "#9c179e"
             ],
             [
              0.4444444444444444,
              "#bd3786"
             ],
             [
              0.5555555555555556,
              "#d8576b"
             ],
             [
              0.6666666666666666,
              "#ed7953"
             ],
             [
              0.7777777777777778,
              "#fb9f3a"
             ],
             [
              0.8888888888888888,
              "#fdca26"
             ],
             [
              1,
              "#f0f921"
             ]
            ],
            "type": "heatmapgl"
           }
          ],
          "histogram": [
           {
            "marker": {
             "pattern": {
              "fillmode": "overlay",
              "size": 10,
              "solidity": 0.2
             }
            },
            "type": "histogram"
           }
          ],
          "histogram2d": [
           {
            "colorbar": {
             "outlinewidth": 0,
             "ticks": ""
            },
            "colorscale": [
             [
              0,
              "#0d0887"
             ],
             [
              0.1111111111111111,
              "#46039f"
             ],
             [
              0.2222222222222222,
              "#7201a8"
             ],
             [
              0.3333333333333333,
              "#9c179e"
             ],
             [
              0.4444444444444444,
              "#bd3786"
             ],
             [
              0.5555555555555556,
              "#d8576b"
             ],
             [
              0.6666666666666666,
              "#ed7953"
             ],
             [
              0.7777777777777778,
              "#fb9f3a"
             ],
             [
              0.8888888888888888,
              "#fdca26"
             ],
             [
              1,
              "#f0f921"
             ]
            ],
            "type": "histogram2d"
           }
          ],
          "histogram2dcontour": [
           {
            "colorbar": {
             "outlinewidth": 0,
             "ticks": ""
            },
            "colorscale": [
             [
              0,
              "#0d0887"
             ],
             [
              0.1111111111111111,
              "#46039f"
             ],
             [
              0.2222222222222222,
              "#7201a8"
             ],
             [
              0.3333333333333333,
              "#9c179e"
             ],
             [
              0.4444444444444444,
              "#bd3786"
             ],
             [
              0.5555555555555556,
              "#d8576b"
             ],
             [
              0.6666666666666666,
              "#ed7953"
             ],
             [
              0.7777777777777778,
              "#fb9f3a"
             ],
             [
              0.8888888888888888,
              "#fdca26"
             ],
             [
              1,
              "#f0f921"
             ]
            ],
            "type": "histogram2dcontour"
           }
          ],
          "mesh3d": [
           {
            "colorbar": {
             "outlinewidth": 0,
             "ticks": ""
            },
            "type": "mesh3d"
           }
          ],
          "parcoords": [
           {
            "line": {
             "colorbar": {
              "outlinewidth": 0,
              "ticks": ""
             }
            },
            "type": "parcoords"
           }
          ],
          "pie": [
           {
            "automargin": true,
            "type": "pie"
           }
          ],
          "scatter": [
           {
            "fillpattern": {
             "fillmode": "overlay",
             "size": 10,
             "solidity": 0.2
            },
            "type": "scatter"
           }
          ],
          "scatter3d": [
           {
            "line": {
             "colorbar": {
              "outlinewidth": 0,
              "ticks": ""
             }
            },
            "marker": {
             "colorbar": {
              "outlinewidth": 0,
              "ticks": ""
             }
            },
            "type": "scatter3d"
           }
          ],
          "scattercarpet": [
           {
            "marker": {
             "colorbar": {
              "outlinewidth": 0,
              "ticks": ""
             }
            },
            "type": "scattercarpet"
           }
          ],
          "scattergeo": [
           {
            "marker": {
             "colorbar": {
              "outlinewidth": 0,
              "ticks": ""
             }
            },
            "type": "scattergeo"
           }
          ],
          "scattergl": [
           {
            "marker": {
             "colorbar": {
              "outlinewidth": 0,
              "ticks": ""
             }
            },
            "type": "scattergl"
           }
          ],
          "scattermapbox": [
           {
            "marker": {
             "colorbar": {
              "outlinewidth": 0,
              "ticks": ""
             }
            },
            "type": "scattermapbox"
           }
          ],
          "scatterpolar": [
           {
            "marker": {
             "colorbar": {
              "outlinewidth": 0,
              "ticks": ""
             }
            },
            "type": "scatterpolar"
           }
          ],
          "scatterpolargl": [
           {
            "marker": {
             "colorbar": {
              "outlinewidth": 0,
              "ticks": ""
             }
            },
            "type": "scatterpolargl"
           }
          ],
          "scatterternary": [
           {
            "marker": {
             "colorbar": {
              "outlinewidth": 0,
              "ticks": ""
             }
            },
            "type": "scatterternary"
           }
          ],
          "surface": [
           {
            "colorbar": {
             "outlinewidth": 0,
             "ticks": ""
            },
            "colorscale": [
             [
              0,
              "#0d0887"
             ],
             [
              0.1111111111111111,
              "#46039f"
             ],
             [
              0.2222222222222222,
              "#7201a8"
             ],
             [
              0.3333333333333333,
              "#9c179e"
             ],
             [
              0.4444444444444444,
              "#bd3786"
             ],
             [
              0.5555555555555556,
              "#d8576b"
             ],
             [
              0.6666666666666666,
              "#ed7953"
             ],
             [
              0.7777777777777778,
              "#fb9f3a"
             ],
             [
              0.8888888888888888,
              "#fdca26"
             ],
             [
              1,
              "#f0f921"
             ]
            ],
            "type": "surface"
           }
          ],
          "table": [
           {
            "cells": {
             "fill": {
              "color": "#EBF0F8"
             },
             "line": {
              "color": "white"
             }
            },
            "header": {
             "fill": {
              "color": "#C8D4E3"
             },
             "line": {
              "color": "white"
             }
            },
            "type": "table"
           }
          ]
         },
         "layout": {
          "annotationdefaults": {
           "arrowcolor": "#2a3f5f",
           "arrowhead": 0,
           "arrowwidth": 1
          },
          "autotypenumbers": "strict",
          "coloraxis": {
           "colorbar": {
            "outlinewidth": 0,
            "ticks": ""
           }
          },
          "colorscale": {
           "diverging": [
            [
             0,
             "#8e0152"
            ],
            [
             0.1,
             "#c51b7d"
            ],
            [
             0.2,
             "#de77ae"
            ],
            [
             0.3,
             "#f1b6da"
            ],
            [
             0.4,
             "#fde0ef"
            ],
            [
             0.5,
             "#f7f7f7"
            ],
            [
             0.6,
             "#e6f5d0"
            ],
            [
             0.7,
             "#b8e186"
            ],
            [
             0.8,
             "#7fbc41"
            ],
            [
             0.9,
             "#4d9221"
            ],
            [
             1,
             "#276419"
            ]
           ],
           "sequential": [
            [
             0,
             "#0d0887"
            ],
            [
             0.1111111111111111,
             "#46039f"
            ],
            [
             0.2222222222222222,
             "#7201a8"
            ],
            [
             0.3333333333333333,
             "#9c179e"
            ],
            [
             0.4444444444444444,
             "#bd3786"
            ],
            [
             0.5555555555555556,
             "#d8576b"
            ],
            [
             0.6666666666666666,
             "#ed7953"
            ],
            [
             0.7777777777777778,
             "#fb9f3a"
            ],
            [
             0.8888888888888888,
             "#fdca26"
            ],
            [
             1,
             "#f0f921"
            ]
           ],
           "sequentialminus": [
            [
             0,
             "#0d0887"
            ],
            [
             0.1111111111111111,
             "#46039f"
            ],
            [
             0.2222222222222222,
             "#7201a8"
            ],
            [
             0.3333333333333333,
             "#9c179e"
            ],
            [
             0.4444444444444444,
             "#bd3786"
            ],
            [
             0.5555555555555556,
             "#d8576b"
            ],
            [
             0.6666666666666666,
             "#ed7953"
            ],
            [
             0.7777777777777778,
             "#fb9f3a"
            ],
            [
             0.8888888888888888,
             "#fdca26"
            ],
            [
             1,
             "#f0f921"
            ]
           ]
          },
          "colorway": [
           "#636efa",
           "#EF553B",
           "#00cc96",
           "#ab63fa",
           "#FFA15A",
           "#19d3f3",
           "#FF6692",
           "#B6E880",
           "#FF97FF",
           "#FECB52"
          ],
          "font": {
           "color": "#2a3f5f"
          },
          "geo": {
           "bgcolor": "white",
           "lakecolor": "white",
           "landcolor": "#E5ECF6",
           "showlakes": true,
           "showland": true,
           "subunitcolor": "white"
          },
          "hoverlabel": {
           "align": "left"
          },
          "hovermode": "closest",
          "mapbox": {
           "style": "light"
          },
          "paper_bgcolor": "white",
          "plot_bgcolor": "#E5ECF6",
          "polar": {
           "angularaxis": {
            "gridcolor": "white",
            "linecolor": "white",
            "ticks": ""
           },
           "bgcolor": "#E5ECF6",
           "radialaxis": {
            "gridcolor": "white",
            "linecolor": "white",
            "ticks": ""
           }
          },
          "scene": {
           "xaxis": {
            "backgroundcolor": "#E5ECF6",
            "gridcolor": "white",
            "gridwidth": 2,
            "linecolor": "white",
            "showbackground": true,
            "ticks": "",
            "zerolinecolor": "white"
           },
           "yaxis": {
            "backgroundcolor": "#E5ECF6",
            "gridcolor": "white",
            "gridwidth": 2,
            "linecolor": "white",
            "showbackground": true,
            "ticks": "",
            "zerolinecolor": "white"
           },
           "zaxis": {
            "backgroundcolor": "#E5ECF6",
            "gridcolor": "white",
            "gridwidth": 2,
            "linecolor": "white",
            "showbackground": true,
            "ticks": "",
            "zerolinecolor": "white"
           }
          },
          "shapedefaults": {
           "line": {
            "color": "#2a3f5f"
           }
          },
          "ternary": {
           "aaxis": {
            "gridcolor": "white",
            "linecolor": "white",
            "ticks": ""
           },
           "baxis": {
            "gridcolor": "white",
            "linecolor": "white",
            "ticks": ""
           },
           "bgcolor": "#E5ECF6",
           "caxis": {
            "gridcolor": "white",
            "linecolor": "white",
            "ticks": ""
           }
          },
          "title": {
           "x": 0.05
          },
          "xaxis": {
           "automargin": true,
           "gridcolor": "white",
           "linecolor": "white",
           "ticks": "",
           "title": {
            "standoff": 15
           },
           "zerolinecolor": "white",
           "zerolinewidth": 2
          },
          "yaxis": {
           "automargin": true,
           "gridcolor": "white",
           "linecolor": "white",
           "ticks": "",
           "title": {
            "standoff": 15
           },
           "zerolinecolor": "white",
           "zerolinewidth": 2
          }
         }
        },
        "title": {
         "font": {
          "size": 20
         },
         "text": "Dataset visualizations across layers lmsys/vicuna-33b-v1.3"
        },
        "xaxis": {
         "anchor": "y",
         "domain": [
          0,
          1
         ],
         "title": {
          "text": "PC1"
         }
        },
        "yaxis": {
         "anchor": "x",
         "domain": [
          0,
          1
         ],
         "scaleanchor": "x",
         "scaleratio": 1,
         "title": {
          "text": "PC2"
         }
        }
       }
      },
      "text/html": [
       "<div>                            <div id=\"0f752a04-1ce3-4944-8181-2944e35cdfd3\" class=\"plotly-graph-div\" style=\"height:525px; width:100%;\"></div>            <script type=\"text/javascript\">                require([\"plotly\"], function(Plotly) {                    window.PLOTLYENV=window.PLOTLYENV || {};                                    if (document.getElementById(\"0f752a04-1ce3-4944-8181-2944e35cdfd3\")) {                    Plotly.newPlot(                        \"0f752a04-1ce3-4944-8181-2944e35cdfd3\",                        [{\"hovertemplate\":\"\\u003cb\\u003e%{hovertext}\\u003c\\u002fb\\u003e\\u003cbr\\u003e\\u003cbr\\u003ePC1=%{x}\\u003cbr\\u003ePC2=%{y}\\u003cbr\\u003elabel=%{marker.color}\\u003cextra\\u003e\\u003c\\u002fextra\\u003e\",\"hovertext\":[\"\\u003c Jennifer has a bus. Helen has a rabbit. George has blackberries. \\u003e. Does Jennifer have a kind of vehicle? Yes\",\"\\u003c Mark has a guitar. George has a watermelon. Ronald has a taxi. \\u003e. Does Mark own a kind of vehicle? No\",\"\\u003c Kenneth has beer. Deborah has a uniform. John has a revolver. \\u003e. Does Kenneth possess a kind of clothing? No\",\"\\u003c Elizabeth has a guitar. William has a taxi. Edward has a banana. \\u003e. Does William possess a kind of vehicle? Yes\",\"\\u003c Mary has shoes. Susan has a guitar. Dorothy has blackberries. \\u003e. Does Susan possess a kind of clothing? No\",\"\\u003c Linda has a pineapple. Jeff has beer. Paul has a cannon. \\u003e. Does Paul have a kind of fruit? No\",\"\\u003c Sandra has blueberries. Nancy has a bee. John has a lion. \\u003e. Does Nancy own a kind of animal? No\",\"\\u003c Sharon has underwear. Daniel has a papaya. Paul has spaghetti. \\u003e. Does Paul own a kind of food? Yes\",\"\\u003c William has a grenade. Donald has a cow. Robert has pants. \\u003e. Does William own a kind of weapon? Yes\",\"\\u003c Barbara has a shirt. Betty has vodka. Margaret has a football. \\u003e. Does Barbara have a kind of drink? No\",\"\\u003c Thomas has a goat. Patricia has T-shirt. Charles has a burger. \\u003e. Does Patricia own a kind of clothing? Yes\",\"\\u003c Elizabeth has a baseball. Barbara has a jeep. Dorothy has a gorilla. \\u003e. Does Barbara possess a kind of vehicle? Yes\",\"\\u003c Maria has a guitar. David has a donkey. Joseph has a burger. \\u003e. Does Joseph possess a kind of musical instrument? No\",\"\\u003c Linda has a costume. Dorothy has a rabbit. Robert has a basketball. \\u003e. Does Robert own a kind of clothing? No\",\"\\u003c Elizabeth has a car. James has a violin. Donna has coffee. \\u003e. Does Elizabeth possess a kind of drink? No\",\"\\u003c Ronald has a monkey. Barbara has a revolver. Laura has a burger. \\u003e. Does Laura possess a kind of animal? No\",\"\\u003c Charles has a baseball. Michael has a beetle. Lisa has blackberries. \\u003e. Does Michael own a kind of insect? Yes\",\"\\u003c Charles has a papaya. Maria has a revolver. Nancy has a costume. \\u003e. Does Maria own a kind of weapon? Yes\",\"\\u003c Edward has jeans. Brian has a rifle. William has wine. \\u003e. Does William possess a kind of weapon? No\",\"\\u003c Linda has a pig. Dorothy has a sweater. Maria has a dog. \\u003e. Does Dorothy own a kind of clothing? Yes\",\"\\u003c Linda has a gun. Karen has a basketball. Patricia has whiskey. \\u003e. Does Karen own a kind of sport? Yes\",\"\\u003c Patricia has a horse. Joseph has underwear. Charles has a football. \\u003e. Does Charles have a kind of sport? Yes\",\"\\u003c Ronald has soda. Anthony has a car. John has a deer. \\u003e. Does Anthony own a kind of vehicle? Yes\",\"\\u003c Michelle has pizza. Margaret has a rabbit. Dorothy has shoes. \\u003e. Does Dorothy own a kind of clothing? Yes\",\"\\u003c Nancy has a monkey. Jeff has a papaya. Christopher has a basketball. \\u003e. Does Jeff possess a kind of fruit? Yes\",\"\\u003c Brian has a piano. Robert has a uniform. Barbara has a handgun. \\u003e. Does Barbara possess a kind of weapon? Yes\",\"\\u003c Deborah has a lion. Betty has meat. John has a gorilla. \\u003e. Does Betty possess a kind of food? Yes\",\"\\u003c Daniel has a uniform. Kenneth has a revolver. Ruth has an apple. \\u003e. Does Kenneth possess a kind of fruit? No\",\"\\u003c James has a guitar. Dorothy has a gun. Charles has a goose. \\u003e. Does Charles own a kind of weapon? No\",\"\\u003c David has a rifle. Edward has a uniform. James has whiskey. \\u003e. Does David have a kind of clothing? No\",\"\\u003c Christopher has a lemon. Carol has a cannon. Edward has a tiger. \\u003e. Does Carol own a kind of fruit? No\",\"\\u003c Linda has a banana. Mark has a mosquito. Anthony has a cow. \\u003e. Does Anthony own a kind of animal? Yes\",\"\\u003c Jeff has a guitar. Maria has jeans. Thomas has a bee. \\u003e. Does Maria possess a kind of clothing? Yes\",\"\\u003c Susan has a shotgun. Charles has cake. Deborah has a jersey. \\u003e. Does Susan own a kind of weapon? Yes\",\"\\u003c Deborah has a pistol. Nancy has a jersey. Thomas has underwear. \\u003e. Does Deborah possess a kind of weapon? Yes\",\"\\u003c Patricia has a monkey. Mary has pizza. George has trousers. \\u003e. Does Patricia have a kind of animal? Yes\",\"\\u003c Kimberly has jeans. George has a handgun. Linda has a beetle. \\u003e. Does Kimberly possess a kind of insect? No\",\"\\u003c Ruth has a goat. Linda has a piano. Brian has a watermelon. \\u003e. Does Ruth have a kind of fruit? No\",\"\\u003c Susan has a jeep. Deborah has a pig. Sharon has a handgun. \\u003e. Does Deborah possess a kind of animal? Yes\",\"\\u003c Laura has a cannon. Kenneth has trousers. Daniel has a basketball. \\u003e. Does Kenneth own a kind of weapon? No\",\"\\u003c Betty has spaghetti. Steven has a shotgun. Laura has grapes. \\u003e. Does Betty have a kind of food? Yes\",\"\\u003c Nancy has a basketball. James has a beetle. Deborah has a horse. \\u003e. Does Deborah own a kind of animal? Yes\",\"\\u003c Kenneth has meat. Susan has an apricot. Charles has a handgun. \\u003e. Does Kenneth have a kind of food? Yes\",\"\\u003c Carol has a peach. Steven has a sweater. Sarah has a cannon. \\u003e. Does Steven possess a kind of clothing? Yes\",\"\\u003c Lisa has a taxi. Kevin has a monkey. Jennifer has a lime. \\u003e. Does Lisa own a kind of vehicle? Yes\",\"\\u003c Maria has wine. Betty has shoes. Michelle has a jacket. \\u003e. Does Maria possess a kind of drink? Yes\",\"\\u003c Barbara has spaghetti. Margaret has a cocktail. John has a banana. \\u003e. Does John possess a kind of fruit? Yes\",\"\\u003c Barbara has a cat. Kimberly has a taxi. William has cake. \\u003e. Does Barbara possess a kind of animal? Yes\"],\"legendgroup\":\"\",\"marker\":{\"color\":[0,1,1,0,1,1,1,0,0,1,0,0,1,1,1,1,0,0,1,0,0,0,0,0,0,0,0,1,1,1,1,0,0,0,0,0,1,1,0,1,0,0,0,0,0,0,0,0],\"coloraxis\":\"coloraxis\",\"symbol\":\"circle\"},\"mode\":\"markers\",\"name\":\"\",\"orientation\":\"v\",\"showlegend\":false,\"x\":[2.35642147064209,-6.912318706512451,-9.629408836364746,2.770937442779541,-7.2459397315979,-5.598742961883545,-6.443534851074219,3.829603672027588,5.788331985473633,-3.1187126636505127,2.1278772354125977,-2.412677526473999,-8.411214828491211,-8.865023612976074,-7.853984355926514,-4.6462626457214355,5.998257637023926,2.810427665710449,-6.058842658996582,5.651799201965332,-0.7526305913925171,4.1347551345825195,-0.65837562084198,2.39996075630188,3.755192995071411,2.6998178958892822,1.758515477180481,-5.0730881690979,-5.248661518096924,-6.119836807250977,-3.138667106628418,0.9794353246688843,4.619158744812012,5.74382209777832,5.343342304229736,5.633951663970947,-7.0555524826049805,-2.4958724975585938,2.159006357192993,-10.199930191040039,6.427706718444824,6.195702075958252,0.5698388814926147,4.728209972381592,7.264518737792969,6.581384658813477,5.9984636306762695,6.428813934326172],\"xaxis\":\"x\",\"y\":[-0.8090876936912537,0.20243708789348602,5.227084159851074,0.1944933831691742,4.045239448547363,-9.445638656616211,-0.40219053626060486,2.2243268489837646,2.1141631603240967,-10.322239875793457,4.115245819091797,3.0877246856689453,3.6638784408569336,2.0410289764404297,-0.4954216182231903,2.2199206352233887,2.0021274089813232,0.17809061706066132,2.7527384757995605,1.9115759134292603,1.0844757556915283,0.27050521969795227,1.9717202186584473,2.6339383125305176,-0.7835633754730225,0.056949689984321594,0.06636087596416473,2.2546966075897217,2.5897343158721924,-8.514101028442383,0.08048656582832336,-1.364323377609253,1.2411463260650635,-0.8843649625778198,-0.7384128570556641,0.9729853868484497,3.7995059490203857,-7.985590934753418,-2.5005154609680176,1.8251135349273682,-0.5221657752990723,1.0513710975646973,-9.140623092651367,1.9320036172866821,1.2423484325408936,-0.33894670009613037,-0.4824301600456238,1.643275499343872],\"yaxis\":\"y\",\"type\":\"scatter\"}],                        {\"template\":{\"data\":{\"histogram2dcontour\":[{\"type\":\"histogram2dcontour\",\"colorbar\":{\"outlinewidth\":0,\"ticks\":\"\"},\"colorscale\":[[0.0,\"#0d0887\"],[0.1111111111111111,\"#46039f\"],[0.2222222222222222,\"#7201a8\"],[0.3333333333333333,\"#9c179e\"],[0.4444444444444444,\"#bd3786\"],[0.5555555555555556,\"#d8576b\"],[0.6666666666666666,\"#ed7953\"],[0.7777777777777778,\"#fb9f3a\"],[0.8888888888888888,\"#fdca26\"],[1.0,\"#f0f921\"]]}],\"choropleth\":[{\"type\":\"choropleth\",\"colorbar\":{\"outlinewidth\":0,\"ticks\":\"\"}}],\"histogram2d\":[{\"type\":\"histogram2d\",\"colorbar\":{\"outlinewidth\":0,\"ticks\":\"\"},\"colorscale\":[[0.0,\"#0d0887\"],[0.1111111111111111,\"#46039f\"],[0.2222222222222222,\"#7201a8\"],[0.3333333333333333,\"#9c179e\"],[0.4444444444444444,\"#bd3786\"],[0.5555555555555556,\"#d8576b\"],[0.6666666666666666,\"#ed7953\"],[0.7777777777777778,\"#fb9f3a\"],[0.8888888888888888,\"#fdca26\"],[1.0,\"#f0f921\"]]}],\"heatmap\":[{\"type\":\"heatmap\",\"colorbar\":{\"outlinewidth\":0,\"ticks\":\"\"},\"colorscale\":[[0.0,\"#0d0887\"],[0.1111111111111111,\"#46039f\"],[0.2222222222222222,\"#7201a8\"],[0.3333333333333333,\"#9c179e\"],[0.4444444444444444,\"#bd3786\"],[0.5555555555555556,\"#d8576b\"],[0.6666666666666666,\"#ed7953\"],[0.7777777777777778,\"#fb9f3a\"],[0.8888888888888888,\"#fdca26\"],[1.0,\"#f0f921\"]]}],\"heatmapgl\":[{\"type\":\"heatmapgl\",\"colorbar\":{\"outlinewidth\":0,\"ticks\":\"\"},\"colorscale\":[[0.0,\"#0d0887\"],[0.1111111111111111,\"#46039f\"],[0.2222222222222222,\"#7201a8\"],[0.3333333333333333,\"#9c179e\"],[0.4444444444444444,\"#bd3786\"],[0.5555555555555556,\"#d8576b\"],[0.6666666666666666,\"#ed7953\"],[0.7777777777777778,\"#fb9f3a\"],[0.8888888888888888,\"#fdca26\"],[1.0,\"#f0f921\"]]}],\"contourcarpet\":[{\"type\":\"contourcarpet\",\"colorbar\":{\"outlinewidth\":0,\"ticks\":\"\"}}],\"contour\":[{\"type\":\"contour\",\"colorbar\":{\"outlinewidth\":0,\"ticks\":\"\"},\"colorscale\":[[0.0,\"#0d0887\"],[0.1111111111111111,\"#46039f\"],[0.2222222222222222,\"#7201a8\"],[0.3333333333333333,\"#9c179e\"],[0.4444444444444444,\"#bd3786\"],[0.5555555555555556,\"#d8576b\"],[0.6666666666666666,\"#ed7953\"],[0.7777777777777778,\"#fb9f3a\"],[0.8888888888888888,\"#fdca26\"],[1.0,\"#f0f921\"]]}],\"surface\":[{\"type\":\"surface\",\"colorbar\":{\"outlinewidth\":0,\"ticks\":\"\"},\"colorscale\":[[0.0,\"#0d0887\"],[0.1111111111111111,\"#46039f\"],[0.2222222222222222,\"#7201a8\"],[0.3333333333333333,\"#9c179e\"],[0.4444444444444444,\"#bd3786\"],[0.5555555555555556,\"#d8576b\"],[0.6666666666666666,\"#ed7953\"],[0.7777777777777778,\"#fb9f3a\"],[0.8888888888888888,\"#fdca26\"],[1.0,\"#f0f921\"]]}],\"mesh3d\":[{\"type\":\"mesh3d\",\"colorbar\":{\"outlinewidth\":0,\"ticks\":\"\"}}],\"scatter\":[{\"fillpattern\":{\"fillmode\":\"overlay\",\"size\":10,\"solidity\":0.2},\"type\":\"scatter\"}],\"parcoords\":[{\"type\":\"parcoords\",\"line\":{\"colorbar\":{\"outlinewidth\":0,\"ticks\":\"\"}}}],\"scatterpolargl\":[{\"type\":\"scatterpolargl\",\"marker\":{\"colorbar\":{\"outlinewidth\":0,\"ticks\":\"\"}}}],\"bar\":[{\"error_x\":{\"color\":\"#2a3f5f\"},\"error_y\":{\"color\":\"#2a3f5f\"},\"marker\":{\"line\":{\"color\":\"#E5ECF6\",\"width\":0.5},\"pattern\":{\"fillmode\":\"overlay\",\"size\":10,\"solidity\":0.2}},\"type\":\"bar\"}],\"scattergeo\":[{\"type\":\"scattergeo\",\"marker\":{\"colorbar\":{\"outlinewidth\":0,\"ticks\":\"\"}}}],\"scatterpolar\":[{\"type\":\"scatterpolar\",\"marker\":{\"colorbar\":{\"outlinewidth\":0,\"ticks\":\"\"}}}],\"histogram\":[{\"marker\":{\"pattern\":{\"fillmode\":\"overlay\",\"size\":10,\"solidity\":0.2}},\"type\":\"histogram\"}],\"scattergl\":[{\"type\":\"scattergl\",\"marker\":{\"colorbar\":{\"outlinewidth\":0,\"ticks\":\"\"}}}],\"scatter3d\":[{\"type\":\"scatter3d\",\"line\":{\"colorbar\":{\"outlinewidth\":0,\"ticks\":\"\"}},\"marker\":{\"colorbar\":{\"outlinewidth\":0,\"ticks\":\"\"}}}],\"scattermapbox\":[{\"type\":\"scattermapbox\",\"marker\":{\"colorbar\":{\"outlinewidth\":0,\"ticks\":\"\"}}}],\"scatterternary\":[{\"type\":\"scatterternary\",\"marker\":{\"colorbar\":{\"outlinewidth\":0,\"ticks\":\"\"}}}],\"scattercarpet\":[{\"type\":\"scattercarpet\",\"marker\":{\"colorbar\":{\"outlinewidth\":0,\"ticks\":\"\"}}}],\"carpet\":[{\"aaxis\":{\"endlinecolor\":\"#2a3f5f\",\"gridcolor\":\"white\",\"linecolor\":\"white\",\"minorgridcolor\":\"white\",\"startlinecolor\":\"#2a3f5f\"},\"baxis\":{\"endlinecolor\":\"#2a3f5f\",\"gridcolor\":\"white\",\"linecolor\":\"white\",\"minorgridcolor\":\"white\",\"startlinecolor\":\"#2a3f5f\"},\"type\":\"carpet\"}],\"table\":[{\"cells\":{\"fill\":{\"color\":\"#EBF0F8\"},\"line\":{\"color\":\"white\"}},\"header\":{\"fill\":{\"color\":\"#C8D4E3\"},\"line\":{\"color\":\"white\"}},\"type\":\"table\"}],\"barpolar\":[{\"marker\":{\"line\":{\"color\":\"#E5ECF6\",\"width\":0.5},\"pattern\":{\"fillmode\":\"overlay\",\"size\":10,\"solidity\":0.2}},\"type\":\"barpolar\"}],\"pie\":[{\"automargin\":true,\"type\":\"pie\"}]},\"layout\":{\"autotypenumbers\":\"strict\",\"colorway\":[\"#636efa\",\"#EF553B\",\"#00cc96\",\"#ab63fa\",\"#FFA15A\",\"#19d3f3\",\"#FF6692\",\"#B6E880\",\"#FF97FF\",\"#FECB52\"],\"font\":{\"color\":\"#2a3f5f\"},\"hovermode\":\"closest\",\"hoverlabel\":{\"align\":\"left\"},\"paper_bgcolor\":\"white\",\"plot_bgcolor\":\"#E5ECF6\",\"polar\":{\"bgcolor\":\"#E5ECF6\",\"angularaxis\":{\"gridcolor\":\"white\",\"linecolor\":\"white\",\"ticks\":\"\"},\"radialaxis\":{\"gridcolor\":\"white\",\"linecolor\":\"white\",\"ticks\":\"\"}},\"ternary\":{\"bgcolor\":\"#E5ECF6\",\"aaxis\":{\"gridcolor\":\"white\",\"linecolor\":\"white\",\"ticks\":\"\"},\"baxis\":{\"gridcolor\":\"white\",\"linecolor\":\"white\",\"ticks\":\"\"},\"caxis\":{\"gridcolor\":\"white\",\"linecolor\":\"white\",\"ticks\":\"\"}},\"coloraxis\":{\"colorbar\":{\"outlinewidth\":0,\"ticks\":\"\"}},\"colorscale\":{\"sequential\":[[0.0,\"#0d0887\"],[0.1111111111111111,\"#46039f\"],[0.2222222222222222,\"#7201a8\"],[0.3333333333333333,\"#9c179e\"],[0.4444444444444444,\"#bd3786\"],[0.5555555555555556,\"#d8576b\"],[0.6666666666666666,\"#ed7953\"],[0.7777777777777778,\"#fb9f3a\"],[0.8888888888888888,\"#fdca26\"],[1.0,\"#f0f921\"]],\"sequentialminus\":[[0.0,\"#0d0887\"],[0.1111111111111111,\"#46039f\"],[0.2222222222222222,\"#7201a8\"],[0.3333333333333333,\"#9c179e\"],[0.4444444444444444,\"#bd3786\"],[0.5555555555555556,\"#d8576b\"],[0.6666666666666666,\"#ed7953\"],[0.7777777777777778,\"#fb9f3a\"],[0.8888888888888888,\"#fdca26\"],[1.0,\"#f0f921\"]],\"diverging\":[[0,\"#8e0152\"],[0.1,\"#c51b7d\"],[0.2,\"#de77ae\"],[0.3,\"#f1b6da\"],[0.4,\"#fde0ef\"],[0.5,\"#f7f7f7\"],[0.6,\"#e6f5d0\"],[0.7,\"#b8e186\"],[0.8,\"#7fbc41\"],[0.9,\"#4d9221\"],[1,\"#276419\"]]},\"xaxis\":{\"gridcolor\":\"white\",\"linecolor\":\"white\",\"ticks\":\"\",\"title\":{\"standoff\":15},\"zerolinecolor\":\"white\",\"automargin\":true,\"zerolinewidth\":2},\"yaxis\":{\"gridcolor\":\"white\",\"linecolor\":\"white\",\"ticks\":\"\",\"title\":{\"standoff\":15},\"zerolinecolor\":\"white\",\"automargin\":true,\"zerolinewidth\":2},\"scene\":{\"xaxis\":{\"backgroundcolor\":\"#E5ECF6\",\"gridcolor\":\"white\",\"linecolor\":\"white\",\"showbackground\":true,\"ticks\":\"\",\"zerolinecolor\":\"white\",\"gridwidth\":2},\"yaxis\":{\"backgroundcolor\":\"#E5ECF6\",\"gridcolor\":\"white\",\"linecolor\":\"white\",\"showbackground\":true,\"ticks\":\"\",\"zerolinecolor\":\"white\",\"gridwidth\":2},\"zaxis\":{\"backgroundcolor\":\"#E5ECF6\",\"gridcolor\":\"white\",\"linecolor\":\"white\",\"showbackground\":true,\"ticks\":\"\",\"zerolinecolor\":\"white\",\"gridwidth\":2}},\"shapedefaults\":{\"line\":{\"color\":\"#2a3f5f\"}},\"annotationdefaults\":{\"arrowcolor\":\"#2a3f5f\",\"arrowhead\":0,\"arrowwidth\":1},\"geo\":{\"bgcolor\":\"white\",\"landcolor\":\"#E5ECF6\",\"subunitcolor\":\"white\",\"showland\":true,\"showlakes\":true,\"lakecolor\":\"white\"},\"title\":{\"x\":0.05},\"mapbox\":{\"style\":\"light\"}}},\"xaxis\":{\"anchor\":\"y\",\"domain\":[0.0,1.0],\"title\":{\"text\":\"PC1\"}},\"yaxis\":{\"anchor\":\"x\",\"domain\":[0.0,1.0],\"title\":{\"text\":\"PC2\"},\"scaleanchor\":\"x\",\"scaleratio\":1},\"coloraxis\":{\"colorbar\":{\"title\":{\"text\":\"label\"}},\"colorscale\":[[0.0,\"rgb(255,0,0)\"],[1.0,\"rgb(0,0,255)\"]],\"showscale\":false},\"legend\":{\"tracegroupgap\":0},\"margin\":{\"t\":60},\"title\":{\"font\":{\"size\":20},\"text\":\"Dataset visualizations across layers lmsys\\u002fvicuna-33b-v1.3\"}},                        {\"responsive\": true}                    ).then(function(){\n",
       "                            \n",
       "var gd = document.getElementById('0f752a04-1ce3-4944-8181-2944e35cdfd3');\n",
       "var x = new MutationObserver(function (mutations, observer) {{\n",
       "        var display = window.getComputedStyle(gd).display;\n",
       "        if (!display || display === 'none') {{\n",
       "            console.log([gd, 'removed!']);\n",
       "            Plotly.purge(gd);\n",
       "            observer.disconnect();\n",
       "        }}\n",
       "}});\n",
       "\n",
       "// Listen for the removal of the full notebook cells\n",
       "var notebookContainer = gd.closest('#notebook-container');\n",
       "if (notebookContainer) {{\n",
       "    x.observe(notebookContainer, {childList: true});\n",
       "}}\n",
       "\n",
       "// Listen for the clearing of the current output cell\n",
       "var outputEl = gd.closest('.output');\n",
       "if (outputEl) {{\n",
       "    x.observe(outputEl, {childList: true});\n",
       "}}\n",
       "\n",
       "                        })                };                });            </script>        </div>"
      ]
     },
     "metadata": {},
     "output_type": "display_data"
    }
   ],
   "source": [
    "from nrk.geometry.visualization_utils_modify import *\n",
    "from plotly.subplots import make_subplots\n",
    "from nrk.geometry.generate_acts import get_acts\n",
    "#*************************\n",
    "\n",
    "#注意查询attn和mlp的区别\n",
    "#(layer = 10,pattern = 'attn')表示查询第10层输入，即第9层输出。(layer = 10,pattern = 'mlp')表示查询第10层mlp的输出\n",
    "#pattern = 'attn'： layer 0~61\n",
    "#pattern = 'mlp'： layer 0~59\n",
    "\n",
    "#************************\n",
    "layer = 36\n",
    "\n",
    "fig = TruthData.from_datasets(\n",
    "    [\"typeofthing\"],\n",
    "    r,\n",
    "    cxt_len,\n",
    "    batch_size = batch_size,\n",
    "    model_size = model_name,\n",
    "    layer=layer,\n",
    "    start=k_shot, \n",
    "    end=nrows,\n",
    "    pattern = 'mlp',\n",
    "    device=device\n",
    ").plot(\n",
    "    dimensions=2, # 3 dimensions also supported\n",
    "    dim_offset=0, # increase if you want to ignore the first few PCs\n",
    "    color='label',\n",
    "    # if you don't want to plot and do PCA on all datasets:\n",
    "    # plot_datasets = [ list of datasets to plot here ],\n",
    "    # pca_datasets = [ list of datasets to use for PCA here]\n",
    ")\n",
    "\n",
    "fig.update_layout(\n",
    "    title = {\n",
    "        'text' : f\"Dataset visualizations across layers {model_name}\",\n",
    "        'font' : {'size' : 20},\n",
    "    }\n",
    ")\n",
    "\n",
    "fig.show()"
   ]
  },
  {
   "cell_type": "code",
   "execution_count": 47,
   "id": "54de459f",
   "metadata": {},
   "outputs": [
    {
     "data": {
      "text/plain": [
       "('< David has a rabbit. Sharon has a jacket. Barbara has bread. >. Does Barbara possess a kind of food? Yes\\n < Kevin has underwear. Paul has a duck. Susan has a papaya. >. Does Kevin possess a kind of clothing? Yes\\n < Richard has shoes. Sharon has a beetle. John has strawberries. >. Does Sharon possess a kind of fruit? No\\n < Barbara has spaghetti. Margaret has a cocktail. John has a banana. >. Does John possess a kind of fruit? Yes\\n < Brian has a piano. Robert has a uniform. Barbara has a handgun. >. Does Barbara possess a kind of weapon? Yes\\n < Barbara has a cat. Kimberly has a taxi. William has cake. >. Does Barbara possess a kind of animal? Yes\\n < Maria has wine. Betty has shoes. Michelle has a jacket. >. Does Maria possess a kind of drink? Yes\\n < Kenneth has beer. Deborah has a uniform. John has a revolver. >. Does Kenneth possess a kind of clothing? No\\n',\n",
       " '< Charles has a rabbit. Sandra has a taxi. Daniel has a shotgun. >. Does Daniel have a kind of animal? No\\n < Carol has a rifle. Maria has sheep. David has a mango. >. Does Carol have a kind of animal? No\\n < Kenneth has meat. Susan has an apricot. Charles has a handgun. >. Does Kenneth have a kind of food? Yes\\n < David has a hamburger. Kevin has a dog. Donald has a plum. >. Does Kevin have a kind of fruit? No\\n < Betty has spaghetti. Steven has a shotgun. Laura has grapes. >. Does Betty have a kind of food? Yes\\n < Jennifer has a bus. Helen has a rabbit. George has blackberries. >. Does Jennifer have a kind of vehicle? Yes\\n < Patricia has a horse. Joseph has underwear. Charles has a football. >. Does Charles have a kind of sport? Yes\\n < Patricia has a monkey. Mary has pizza. George has trousers. >. Does Patricia have a kind of animal? Yes\\n',\n",
       " '< Maria has a goat. George has a football. Carol has a pear. >. Does George own a kind of animal? No\\n < John has a mango. Barbara has a lime. Karen has a rifle. >. Does Karen own a kind of weapon? Yes\\n < James has a grenade. Michelle has strawberries. Sharon has a football. >. Does Sharon own a kind of sport? Yes\\n < Linda has a costume. Dorothy has a rabbit. Robert has a basketball. >. Does Robert own a kind of clothing? No\\n < Steven has a horse. Mark has a cannon. Sarah has blueberries. >. Does Mark own a kind of weapon? Yes\\n < Barbara has pizza. Joseph has a bus. Deborah has a baseball. >. Does Deborah own a kind of vehicle? No\\n < Karen has a mosquito. Kenneth has an orange. Lisa has whiskey. >. Does Karen own a kind of fruit? No\\n < Charles has a baseball. Michael has a beetle. Lisa has blackberries. >. Does Michael own a kind of insect? Yes\\n',\n",
       " '< Jason has a beetle. Kevin has a goat. David has a papaya. >. Does Jason possess a kind of animal? No\\n < Mark has a lime. Joseph has a violin. Carol has wine. >. Does Joseph possess a kind of musical instrument? Yes\\n < Elizabeth has a car. James has a violin. Donna has coffee. >. Does Elizabeth possess a kind of drink? No\\n < Elizabeth has a guitar. William has a taxi. Edward has a banana. >. Does William possess a kind of vehicle? Yes\\n < Carol has a peach. Steven has a sweater. Sarah has a cannon. >. Does Steven possess a kind of clothing? Yes\\n < Deborah has a lion. Betty has meat. John has a gorilla. >. Does Betty possess a kind of food? Yes\\n < Elizabeth has a baseball. Barbara has a jeep. Dorothy has a gorilla. >. Does Barbara possess a kind of vehicle? Yes\\n < Kimberly has jeans. George has a handgun. Linda has a beetle. >. Does Kimberly possess a kind of insect? No\\n',\n",
       " '< Maria has a mango. Barbara has T-shirt. Donna has a watermelon. >. Does Barbara possess a kind of clothing? Yes\\n < Elizabeth has coffee. Anthony has a shirt. Kevin has a taxi. >. Does Kevin possess a kind of clothing? No\\n < Susan has a jeep. Deborah has a pig. Sharon has a handgun. >. Does Deborah possess a kind of animal? Yes\\n < Jeff has a guitar. Maria has jeans. Thomas has a bee. >. Does Maria possess a kind of clothing? Yes\\n < Lisa has a bus. Charles has a gun. Patricia has a peach. >. Does Lisa possess a kind of fruit? No\\n < Maria has a guitar. David has a donkey. Joseph has a burger. >. Does Joseph possess a kind of musical instrument? No\\n < Daniel has a uniform. Kenneth has a revolver. Ruth has an apple. >. Does Kenneth possess a kind of fruit? No\\n < Mary has shoes. Susan has a guitar. Dorothy has blackberries. >. Does Susan possess a kind of clothing? No\\n',\n",
       " '< Jennifer has a gun. James has a football. Margaret has a bus. >. Does Margaret own a kind of sport? No\\n < Michelle has a burger. Helen has a papaya. Carol has a cannon. >. Does Michelle own a kind of food? Yes\\n < Charles has a papaya. Maria has a revolver. Nancy has a costume. >. Does Maria own a kind of weapon? Yes\\n < Linda has a pig. Dorothy has a sweater. Maria has a dog. >. Does Dorothy own a kind of clothing? Yes\\n < Linda has a gun. Karen has a basketball. Patricia has whiskey. >. Does Karen own a kind of sport? Yes\\n < Sharon has underwear. Daniel has a papaya. Paul has spaghetti. >. Does Paul own a kind of food? Yes\\n < James has a guitar. Dorothy has a gun. Charles has a goose. >. Does Charles own a kind of weapon? No\\n < Thomas has a goat. Patricia has T-shirt. Charles has a burger. >. Does Patricia own a kind of clothing? Yes\\n',\n",
       " '< Carol has a kiwi. Sharon has a sweater. Sarah has a basketball. >. Does Sharon own a kind of fruit? No\\n < Steven has trousers. Barbara has a banana. Sharon has wine. >. Does Sharon own a kind of drink? Yes\\n < Christopher has a lemon. Carol has a cannon. Edward has a tiger. >. Does Carol own a kind of fruit? No\\n < Mark has a guitar. George has a watermelon. Ronald has a taxi. >. Does Mark own a kind of vehicle? No\\n < Sandra has blueberries. Nancy has a bee. John has a lion. >. Does Nancy own a kind of animal? No\\n < Susan has a shotgun. Charles has cake. Deborah has a jersey. >. Does Susan own a kind of weapon? Yes\\n < William has a grenade. Donald has a cow. Robert has pants. >. Does William own a kind of weapon? Yes\\n < Nancy has a basketball. James has a beetle. Deborah has a horse. >. Does Deborah own a kind of animal? Yes\\n',\n",
       " '< Dorothy has a pig. Robert has a plum. Barbara has a basketball. >. Does Barbara possess a kind of sport? Yes\\n < Nancy has blackberries. Dorothy has a gun. Elizabeth has a sweater. >. Does Elizabeth possess a kind of weapon? No\\n < Deborah has a pistol. Nancy has a jersey. Thomas has underwear. >. Does Deborah possess a kind of weapon? Yes\\n < Linda has a violin. Michelle has a lemon. William has bread. >. Does Linda possess a kind of food? No\\n < Nancy has a monkey. Jeff has a papaya. Christopher has a basketball. >. Does Jeff possess a kind of fruit? Yes\\n < Margaret has a guitar. Ronald has a hamburger. Patricia has underwear. >. Does Margaret possess a kind of clothing? No\\n < Ronald has a monkey. Barbara has a revolver. Laura has a burger. >. Does Laura possess a kind of animal? No\\n < Edward has jeans. Brian has a rifle. William has wine. >. Does William possess a kind of weapon? No\\n',\n",
       " '< Kevin has an elephant. Mark has a violin. Margaret has spaghetti. >. Does Kevin have a kind of food? No\\n < Barbara has a steak. Elizabeth has a car. Joseph has a rabbit. >. Does Barbara have a kind of animal? No\\n < David has a rifle. Edward has a uniform. James has whiskey. >. Does David have a kind of clothing? No\\n < Barbara has a shirt. Betty has vodka. Margaret has a football. >. Does Barbara have a kind of drink? No\\n < Linda has a pineapple. Jeff has beer. Paul has a cannon. >. Does Paul have a kind of fruit? No\\n < Ruth has a goat. Linda has a piano. Brian has a watermelon. >. Does Ruth have a kind of fruit? No\\n < Maria has a gun. David has a taxi. Richard has a papaya. >. Does Richard have a kind of fruit? Yes\\n < Richard has a car. Maria has trousers. Michael has meat. >. Does Maria have a kind of food? No\\n',\n",
       " '< Richard has a steak. Kimberly has whiskey. Michael has a monkey. >. Does Michael own a kind of food? No\\n < Joseph has T-shirt. Anthony has a peach. George has a football. >. Does George own a kind of sport? Yes\\n < Linda has a banana. Mark has a mosquito. Anthony has a cow. >. Does Anthony own a kind of animal? Yes\\n < Laura has a cannon. Kenneth has trousers. Daniel has a basketball. >. Does Kenneth own a kind of weapon? No\\n < Michelle has pizza. Margaret has a rabbit. Dorothy has shoes. >. Does Dorothy own a kind of clothing? Yes\\n < Kenneth has a pineapple. Anthony has a guitar. Edward has a gun. >. Does Anthony own a kind of fruit? No\\n < Lisa has a taxi. Kevin has a monkey. Jennifer has a lime. >. Does Lisa own a kind of vehicle? Yes\\n < Ronald has soda. Anthony has a car. John has a deer. >. Does Anthony own a kind of vehicle? Yes\\n')"
      ]
     },
     "execution_count": 47,
     "metadata": {},
     "output_type": "execute_result"
    }
   ],
   "source": [
    "r.texts"
   ]
  },
  {
   "cell_type": "code",
   "execution_count": 46,
   "id": "d213a4a0",
   "metadata": {},
   "outputs": [
    {
     "data": {
      "application/vnd.plotly.v1+json": {
       "config": {
        "plotlyServerURL": "https://plot.ly"
       },
       "data": [
        {
         "hovertemplate": "<b>%{hovertext}</b><br><br>PC1=%{x}<br>PC2=%{y}<br>label=%{marker.color}<extra></extra>",
         "hovertext": [
          "< Kimberly has jeans. George has a handgun. Linda has a beetle. >. Does Kimberly possess a kind of insect? No",
          "< Ronald has soda. Anthony has a car. John has a deer. >. Does Anthony own a kind of vehicle? Yes",
          "< Mark has a guitar. George has a watermelon. Ronald has a taxi. >. Does Mark own a kind of vehicle? No",
          "< Elizabeth has a guitar. William has a taxi. Edward has a banana. >. Does William possess a kind of vehicle? Yes",
          "< Christopher has a lemon. Carol has a cannon. Edward has a tiger. >. Does Carol own a kind of fruit? No",
          "< Nancy has a basketball. James has a beetle. Deborah has a horse. >. Does Deborah own a kind of animal? Yes",
          "< Charles has a papaya. Maria has a revolver. Nancy has a costume. >. Does Maria own a kind of weapon? Yes",
          "< Elizabeth has a baseball. Barbara has a jeep. Dorothy has a gorilla. >. Does Barbara possess a kind of vehicle? Yes",
          "< Deborah has a lion. Betty has meat. John has a gorilla. >. Does Betty possess a kind of food? Yes",
          "< Ronald has a monkey. Barbara has a revolver. Laura has a burger. >. Does Laura possess a kind of animal? No",
          "< Thomas has a goat. Patricia has T-shirt. Charles has a burger. >. Does Patricia own a kind of clothing? Yes",
          "< Lisa has a taxi. Kevin has a monkey. Jennifer has a lime. >. Does Lisa own a kind of vehicle? Yes",
          "< Maria has a guitar. David has a donkey. Joseph has a burger. >. Does Joseph possess a kind of musical instrument? No",
          "< Susan has a shotgun. Charles has cake. Deborah has a jersey. >. Does Susan own a kind of weapon? Yes",
          "< Patricia has a monkey. Mary has pizza. George has trousers. >. Does Patricia have a kind of animal? Yes",
          "< Elizabeth has a car. James has a violin. Donna has coffee. >. Does Elizabeth possess a kind of drink? No",
          "< Barbara has a shirt. Betty has vodka. Margaret has a football. >. Does Barbara have a kind of drink? No",
          "< Ruth has a goat. Linda has a piano. Brian has a watermelon. >. Does Ruth have a kind of fruit? No",
          "< William has a grenade. Donald has a cow. Robert has pants. >. Does William own a kind of weapon? Yes",
          "< Carol has a peach. Steven has a sweater. Sarah has a cannon. >. Does Steven possess a kind of clothing? Yes",
          "< Susan has a jeep. Deborah has a pig. Sharon has a handgun. >. Does Deborah possess a kind of animal? Yes",
          "< Edward has jeans. Brian has a rifle. William has wine. >. Does William possess a kind of weapon? No",
          "< Barbara has a cat. Kimberly has a taxi. William has cake. >. Does Barbara possess a kind of animal? Yes",
          "< Linda has a gun. Karen has a basketball. Patricia has whiskey. >. Does Karen own a kind of sport? Yes",
          "< Nancy has a monkey. Jeff has a papaya. Christopher has a basketball. >. Does Jeff possess a kind of fruit? Yes",
          "< Laura has a cannon. Kenneth has trousers. Daniel has a basketball. >. Does Kenneth own a kind of weapon? No",
          "< Daniel has a uniform. Kenneth has a revolver. Ruth has an apple. >. Does Kenneth possess a kind of fruit? No",
          "< David has a rifle. Edward has a uniform. James has whiskey. >. Does David have a kind of clothing? No",
          "< Deborah has a pistol. Nancy has a jersey. Thomas has underwear. >. Does Deborah possess a kind of weapon? Yes",
          "< Michelle has pizza. Margaret has a rabbit. Dorothy has shoes. >. Does Dorothy own a kind of clothing? Yes",
          "< Barbara has spaghetti. Margaret has a cocktail. John has a banana. >. Does John possess a kind of fruit? Yes",
          "< Brian has a piano. Robert has a uniform. Barbara has a handgun. >. Does Barbara possess a kind of weapon? Yes",
          "< Linda has a banana. Mark has a mosquito. Anthony has a cow. >. Does Anthony own a kind of animal? Yes",
          "< Kenneth has beer. Deborah has a uniform. John has a revolver. >. Does Kenneth possess a kind of clothing? No",
          "< Linda has a costume. Dorothy has a rabbit. Robert has a basketball. >. Does Robert own a kind of clothing? No",
          "< Mary has shoes. Susan has a guitar. Dorothy has blackberries. >. Does Susan possess a kind of clothing? No",
          "< Betty has spaghetti. Steven has a shotgun. Laura has grapes. >. Does Betty have a kind of food? Yes",
          "< Kenneth has meat. Susan has an apricot. Charles has a handgun. >. Does Kenneth have a kind of food? Yes",
          "< Sharon has underwear. Daniel has a papaya. Paul has spaghetti. >. Does Paul own a kind of food? Yes",
          "< Maria has wine. Betty has shoes. Michelle has a jacket. >. Does Maria possess a kind of drink? Yes",
          "< Jeff has a guitar. Maria has jeans. Thomas has a bee. >. Does Maria possess a kind of clothing? Yes",
          "< Sandra has blueberries. Nancy has a bee. John has a lion. >. Does Nancy own a kind of animal? No",
          "< Linda has a pineapple. Jeff has beer. Paul has a cannon. >. Does Paul have a kind of fruit? No",
          "< Jennifer has a bus. Helen has a rabbit. George has blackberries. >. Does Jennifer have a kind of vehicle? Yes",
          "< Charles has a baseball. Michael has a beetle. Lisa has blackberries. >. Does Michael own a kind of insect? Yes",
          "< Patricia has a horse. Joseph has underwear. Charles has a football. >. Does Charles have a kind of sport? Yes",
          "< James has a guitar. Dorothy has a gun. Charles has a goose. >. Does Charles own a kind of weapon? No",
          "< Linda has a pig. Dorothy has a sweater. Maria has a dog. >. Does Dorothy own a kind of clothing? Yes"
         ],
         "legendgroup": "",
         "marker": {
          "color": [
           1,
           0,
           1,
           0,
           1,
           0,
           0,
           0,
           0,
           1,
           0,
           0,
           1,
           0,
           0,
           1,
           1,
           1,
           0,
           0,
           0,
           1,
           0,
           0,
           0,
           1,
           1,
           1,
           0,
           0,
           0,
           0,
           0,
           1,
           1,
           1,
           0,
           0,
           0,
           0,
           0,
           1,
           1,
           0,
           0,
           0,
           1,
           0
          ],
          "coloraxis": "coloraxis",
          "symbol": "circle"
         },
         "mode": "markers",
         "name": "",
         "orientation": "v",
         "showlegend": false,
         "type": "scatter",
         "x": [
          -5.17979621887207,
          0.6112669110298157,
          -4.77532434463501,
          2.252105712890625,
          -1.423664927482605,
          3.8669769763946533,
          1.3369255065917969,
          -1.1658594608306885,
          1.5305061340332031,
          -4.69672966003418,
          1.9635977745056152,
          7.137174606323242,
          -7.107303142547607,
          4.146039962768555,
          5.01418399810791,
          -6.452095031738281,
          -3.8456783294677734,
          -1.7693414688110352,
          4.6186017990112305,
          4.867260932922363,
          1.282386064529419,
          -3.6836094856262207,
          5.458193302154541,
          -1.271983027458191,
          3.0070629119873047,
          -6.658358573913574,
          -2.4279098510742188,
          -5.849299907684326,
          3.0669069290161133,
          2.340208053588867,
          4.940771102905273,
          0.47008389234542847,
          0.6628509759902954,
          -8.916946411132812,
          -6.876933574676514,
          -4.889567852020264,
          5.317364692687988,
          -0.5435035228729248,
          2.3711812496185303,
          5.042233467102051,
          3.473033905029297,
          -4.347851753234863,
          -5.439652442932129,
          2.552034854888916,
          5.468358993530273,
          3.0483460426330566,
          -4.023983001708984,
          4.512887477874756
         ],
         "xaxis": "x",
         "y": [
          5.203546524047852,
          3.012850046157837,
          -1.2084667682647705,
          -0.16559326648712158,
          0.6585537195205688,
          1.287570595741272,
          -1.019817590713501,
          4.160991668701172,
          0.1458350121974945,
          3.171719789505005,
          3.5364303588867188,
          0.7036445736885071,
          1.5145624876022339,
          0.09208085387945175,
          1.3852694034576416,
          -2.8441689014434814,
          -7.4393310546875,
          -4.5000481605529785,
          3.5072054862976074,
          0.09946665167808533,
          -4.762051582336426,
          5.111360549926758,
          0.12095291912555695,
          1.1272473335266113,
          -0.9992694854736328,
          -0.6982489824295044,
          2.488834857940674,
          -7.571682453155518,
          -0.27803221344947815,
          0.8364968299865723,
          -0.953904926776886,
          0.41810569167137146,
          -2.033895969390869,
          5.682309150695801,
          0.7377119064331055,
          5.767569541931152,
          -0.3176475763320923,
          -7.877641201019287,
          2.1638541221618652,
          -0.3439514636993408,
          0.2620882987976074,
          -1.3482964038848877,
          -6.055774211883545,
          -0.4543410539627075,
          2.9052228927612305,
          -1.459815263748169,
          4.665302276611328,
          -1.4191184043884277
         ],
         "yaxis": "y"
        },
        {
         "hovertemplate": "<b>%{hovertext}</b><br><br>PC1=%{x}<br>PC2=%{y}<br>label=%{marker.color}<extra></extra>",
         "hovertext": [
          "< William has a grenade. Donald has a cow. Robert has pants. >. Does William own a kind of weapon? Yes",
          "< Edward has jeans. Brian has a rifle. William has wine. >. Does William possess a kind of weapon? No",
          "< Brian has a piano. Robert has a uniform. Barbara has a handgun. >. Does Barbara possess a kind of weapon? Yes",
          "< Susan has a jeep. Deborah has a pig. Sharon has a handgun. >. Does Deborah possess a kind of animal? Yes",
          "< Linda has a pig. Dorothy has a sweater. Maria has a dog. >. Does Dorothy own a kind of clothing? Yes",
          "< Linda has a pineapple. Jeff has beer. Paul has a cannon. >. Does Paul have a kind of fruit? No",
          "< Ruth has a goat. Linda has a piano. Brian has a watermelon. >. Does Ruth have a kind of fruit? No",
          "< Laura has a cannon. Kenneth has trousers. Daniel has a basketball. >. Does Kenneth own a kind of weapon? No",
          "< Linda has a costume. Dorothy has a rabbit. Robert has a basketball. >. Does Robert own a kind of clothing? No",
          "< Carol has a peach. Steven has a sweater. Sarah has a cannon. >. Does Steven possess a kind of clothing? Yes",
          "< James has a guitar. Dorothy has a gun. Charles has a goose. >. Does Charles own a kind of weapon? No",
          "< Sandra has blueberries. Nancy has a bee. John has a lion. >. Does Nancy own a kind of animal? No",
          "< Elizabeth has a guitar. William has a taxi. Edward has a banana. >. Does William possess a kind of vehicle? Yes",
          "< Christopher has a lemon. Carol has a cannon. Edward has a tiger. >. Does Carol own a kind of fruit? No",
          "< Deborah has a pistol. Nancy has a jersey. Thomas has underwear. >. Does Deborah possess a kind of weapon? Yes",
          "< Ronald has soda. Anthony has a car. John has a deer. >. Does Anthony own a kind of vehicle? Yes",
          "< Mary has shoes. Susan has a guitar. Dorothy has blackberries. >. Does Susan possess a kind of clothing? No",
          "< Lisa has a taxi. Kevin has a monkey. Jennifer has a lime. >. Does Lisa own a kind of vehicle? Yes",
          "< Barbara has spaghetti. Margaret has a cocktail. John has a banana. >. Does John possess a kind of fruit? Yes",
          "< Susan has a shotgun. Charles has cake. Deborah has a jersey. >. Does Susan own a kind of weapon? Yes",
          "< Patricia has a horse. Joseph has underwear. Charles has a football. >. Does Charles have a kind of sport? Yes",
          "< Jeff has a guitar. Maria has jeans. Thomas has a bee. >. Does Maria possess a kind of clothing? Yes",
          "< Deborah has a lion. Betty has meat. John has a gorilla. >. Does Betty possess a kind of food? Yes",
          "< Betty has spaghetti. Steven has a shotgun. Laura has grapes. >. Does Betty have a kind of food? Yes",
          "< Kimberly has jeans. George has a handgun. Linda has a beetle. >. Does Kimberly possess a kind of insect? No",
          "< Kenneth has meat. Susan has an apricot. Charles has a handgun. >. Does Kenneth have a kind of food? Yes",
          "< Maria has wine. Betty has shoes. Michelle has a jacket. >. Does Maria possess a kind of drink? Yes",
          "< Linda has a gun. Karen has a basketball. Patricia has whiskey. >. Does Karen own a kind of sport? Yes",
          "< Maria has a guitar. David has a donkey. Joseph has a burger. >. Does Joseph possess a kind of musical instrument? No",
          "< Charles has a papaya. Maria has a revolver. Nancy has a costume. >. Does Maria own a kind of weapon? Yes",
          "< Elizabeth has a car. James has a violin. Donna has coffee. >. Does Elizabeth possess a kind of drink? No",
          "< Jennifer has a bus. Helen has a rabbit. George has blackberries. >. Does Jennifer have a kind of vehicle? Yes",
          "< Linda has a banana. Mark has a mosquito. Anthony has a cow. >. Does Anthony own a kind of animal? Yes",
          "< Ronald has a monkey. Barbara has a revolver. Laura has a burger. >. Does Laura possess a kind of animal? No",
          "< Patricia has a monkey. Mary has pizza. George has trousers. >. Does Patricia have a kind of animal? Yes",
          "< Barbara has a shirt. Betty has vodka. Margaret has a football. >. Does Barbara have a kind of drink? No",
          "< Nancy has a basketball. James has a beetle. Deborah has a horse. >. Does Deborah own a kind of animal? Yes",
          "< Michelle has pizza. Margaret has a rabbit. Dorothy has shoes. >. Does Dorothy own a kind of clothing? Yes",
          "< Kenneth has beer. Deborah has a uniform. John has a revolver. >. Does Kenneth possess a kind of clothing? No",
          "< Elizabeth has a baseball. Barbara has a jeep. Dorothy has a gorilla. >. Does Barbara possess a kind of vehicle? Yes",
          "< Charles has a baseball. Michael has a beetle. Lisa has blackberries. >. Does Michael own a kind of insect? Yes",
          "< Daniel has a uniform. Kenneth has a revolver. Ruth has an apple. >. Does Kenneth possess a kind of fruit? No",
          "< Nancy has a monkey. Jeff has a papaya. Christopher has a basketball. >. Does Jeff possess a kind of fruit? Yes",
          "< Mark has a guitar. George has a watermelon. Ronald has a taxi. >. Does Mark own a kind of vehicle? No",
          "< David has a rifle. Edward has a uniform. James has whiskey. >. Does David have a kind of clothing? No",
          "< Barbara has a cat. Kimberly has a taxi. William has cake. >. Does Barbara possess a kind of animal? Yes",
          "< Thomas has a goat. Patricia has T-shirt. Charles has a burger. >. Does Patricia own a kind of clothing? Yes",
          "< Sharon has underwear. Daniel has a papaya. Paul has spaghetti. >. Does Paul own a kind of food? Yes"
         ],
         "legendgroup": "",
         "marker": {
          "color": [
           0,
           1,
           0,
           0,
           0,
           1,
           1,
           1,
           1,
           0,
           1,
           1,
           0,
           1,
           0,
           0,
           1,
           0,
           0,
           0,
           0,
           0,
           0,
           0,
           1,
           0,
           0,
           0,
           1,
           0,
           1,
           0,
           0,
           1,
           0,
           1,
           0,
           0,
           1,
           0,
           0,
           1,
           0,
           1,
           1,
           0,
           0,
           0
          ],
          "coloraxis": "coloraxis",
          "symbol": "circle"
         },
         "mode": "markers",
         "name": "",
         "orientation": "v",
         "showlegend": false,
         "type": "scatter",
         "x": [
          5.788331031799316,
          -6.058841705322266,
          2.6998167037963867,
          2.159006118774414,
          5.65179967880249,
          -5.598742485046387,
          -2.4958722591400146,
          -10.199931144714355,
          -8.86502456665039,
          4.728209495544434,
          -5.248661994934082,
          -6.443533897399902,
          2.770937204360962,
          -3.138667345046997,
          5.34334135055542,
          -0.6583754420280457,
          -7.245940208435059,
          7.2645182609558105,
          5.9984636306762695,
          5.743821144104004,
          4.1347551345825195,
          4.619158744812012,
          1.7585163116455078,
          6.427707195281982,
          -7.055552959442139,
          0.5698401927947998,
          6.581384181976318,
          -0.7526305317878723,
          -8.411214828491211,
          2.81042742729187,
          -7.8539838790893555,
          2.3564209938049316,
          0.9794356226921082,
          -4.646262168884277,
          5.633951187133789,
          -3.1187119483947754,
          6.195702075958252,
          2.399960994720459,
          -9.629409790039062,
          -2.412677764892578,
          5.998256683349609,
          -5.073087692260742,
          3.755192995071411,
          -6.912318706512451,
          -6.11983585357666,
          6.4288129806518555,
          2.1278772354125977,
          3.829603672027588
         ],
         "xaxis": "x2",
         "y": [
          2.1141629219055176,
          2.7527379989624023,
          0.056949518620967865,
          -2.5005154609680176,
          1.911576271057129,
          -9.445640563964844,
          -7.985591888427734,
          1.8251104354858398,
          2.0410265922546387,
          1.9320049285888672,
          2.5897340774536133,
          -0.40219178795814514,
          0.1944946050643921,
          0.08048690855503082,
          -0.738413393497467,
          1.9717212915420532,
          4.045238971710205,
          1.2423487901687622,
          -0.4824300706386566,
          -0.8843661546707153,
          0.2705060541629791,
          1.2411470413208008,
          0.06636221706867218,
          -0.5221641659736633,
          3.799504280090332,
          -9.140623092651367,
          -0.3389471173286438,
          1.0844762325286865,
          3.6638760566711426,
          0.17809098958969116,
          -0.4954224228858948,
          -0.8090879917144775,
          -1.3643227815628052,
          2.2199203968048096,
          0.9729854464530945,
          -10.322240829467773,
          1.0513720512390137,
          2.6339402198791504,
          5.227081298828125,
          3.0877254009246826,
          2.0021274089813232,
          2.2546963691711426,
          -0.7835627794265747,
          0.20243588089942932,
          -8.514102935791016,
          1.643275260925293,
          4.1152472496032715,
          2.2243285179138184
         ],
         "yaxis": "y2"
        },
        {
         "hovertemplate": "<b>%{hovertext}</b><br><br>PC1=%{x}<br>PC2=%{y}<br>label=%{marker.color}<extra></extra>",
         "hovertext": [
          "< Daniel has a uniform. Kenneth has a revolver. Ruth has an apple. >. Does Kenneth possess a kind of fruit? No",
          "< Linda has a pineapple. Jeff has beer. Paul has a cannon. >. Does Paul have a kind of fruit? No",
          "< Elizabeth has a baseball. Barbara has a jeep. Dorothy has a gorilla. >. Does Barbara possess a kind of vehicle? Yes",
          "< Barbara has a shirt. Betty has vodka. Margaret has a football. >. Does Barbara have a kind of drink? No",
          "< Elizabeth has a guitar. William has a taxi. Edward has a banana. >. Does William possess a kind of vehicle? Yes",
          "< Barbara has spaghetti. Margaret has a cocktail. John has a banana. >. Does John possess a kind of fruit? Yes",
          "< Kenneth has beer. Deborah has a uniform. John has a revolver. >. Does Kenneth possess a kind of clothing? No",
          "< Edward has jeans. Brian has a rifle. William has wine. >. Does William possess a kind of weapon? No",
          "< Brian has a piano. Robert has a uniform. Barbara has a handgun. >. Does Barbara possess a kind of weapon? Yes",
          "< Deborah has a lion. Betty has meat. John has a gorilla. >. Does Betty possess a kind of food? Yes",
          "< Betty has spaghetti. Steven has a shotgun. Laura has grapes. >. Does Betty have a kind of food? Yes",
          "< Linda has a banana. Mark has a mosquito. Anthony has a cow. >. Does Anthony own a kind of animal? Yes",
          "< Lisa has a taxi. Kevin has a monkey. Jennifer has a lime. >. Does Lisa own a kind of vehicle? Yes",
          "< Thomas has a goat. Patricia has T-shirt. Charles has a burger. >. Does Patricia own a kind of clothing? Yes",
          "< Maria has a guitar. David has a donkey. Joseph has a burger. >. Does Joseph possess a kind of musical instrument? No",
          "< Linda has a pig. Dorothy has a sweater. Maria has a dog. >. Does Dorothy own a kind of clothing? Yes",
          "< Nancy has a monkey. Jeff has a papaya. Christopher has a basketball. >. Does Jeff possess a kind of fruit? Yes",
          "< Charles has a papaya. Maria has a revolver. Nancy has a costume. >. Does Maria own a kind of weapon? Yes",
          "< Deborah has a pistol. Nancy has a jersey. Thomas has underwear. >. Does Deborah possess a kind of weapon? Yes",
          "< Jennifer has a bus. Helen has a rabbit. George has blackberries. >. Does Jennifer have a kind of vehicle? Yes",
          "< Sandra has blueberries. Nancy has a bee. John has a lion. >. Does Nancy own a kind of animal? No",
          "< Barbara has a cat. Kimberly has a taxi. William has cake. >. Does Barbara possess a kind of animal? Yes",
          "< Jeff has a guitar. Maria has jeans. Thomas has a bee. >. Does Maria possess a kind of clothing? Yes",
          "< Patricia has a monkey. Mary has pizza. George has trousers. >. Does Patricia have a kind of animal? Yes",
          "< Carol has a peach. Steven has a sweater. Sarah has a cannon. >. Does Steven possess a kind of clothing? Yes",
          "< Kenneth has meat. Susan has an apricot. Charles has a handgun. >. Does Kenneth have a kind of food? Yes",
          "< Ronald has a monkey. Barbara has a revolver. Laura has a burger. >. Does Laura possess a kind of animal? No",
          "< Michelle has pizza. Margaret has a rabbit. Dorothy has shoes. >. Does Dorothy own a kind of clothing? Yes",
          "< Susan has a shotgun. Charles has cake. Deborah has a jersey. >. Does Susan own a kind of weapon? Yes",
          "< James has a guitar. Dorothy has a gun. Charles has a goose. >. Does Charles own a kind of weapon? No",
          "< Patricia has a horse. Joseph has underwear. Charles has a football. >. Does Charles have a kind of sport? Yes",
          "< Christopher has a lemon. Carol has a cannon. Edward has a tiger. >. Does Carol own a kind of fruit? No",
          "< Charles has a baseball. Michael has a beetle. Lisa has blackberries. >. Does Michael own a kind of insect? Yes",
          "< Mark has a guitar. George has a watermelon. Ronald has a taxi. >. Does Mark own a kind of vehicle? No",
          "< Linda has a costume. Dorothy has a rabbit. Robert has a basketball. >. Does Robert own a kind of clothing? No",
          "< David has a rifle. Edward has a uniform. James has whiskey. >. Does David have a kind of clothing? No",
          "< Nancy has a basketball. James has a beetle. Deborah has a horse. >. Does Deborah own a kind of animal? Yes",
          "< Maria has wine. Betty has shoes. Michelle has a jacket. >. Does Maria possess a kind of drink? Yes",
          "< Laura has a cannon. Kenneth has trousers. Daniel has a basketball. >. Does Kenneth own a kind of weapon? No",
          "< Susan has a jeep. Deborah has a pig. Sharon has a handgun. >. Does Deborah possess a kind of animal? Yes",
          "< William has a grenade. Donald has a cow. Robert has pants. >. Does William own a kind of weapon? Yes",
          "< Mary has shoes. Susan has a guitar. Dorothy has blackberries. >. Does Susan possess a kind of clothing? No",
          "< Linda has a gun. Karen has a basketball. Patricia has whiskey. >. Does Karen own a kind of sport? Yes",
          "< Ronald has soda. Anthony has a car. John has a deer. >. Does Anthony own a kind of vehicle? Yes",
          "< Sharon has underwear. Daniel has a papaya. Paul has spaghetti. >. Does Paul own a kind of food? Yes",
          "< Elizabeth has a car. James has a violin. Donna has coffee. >. Does Elizabeth possess a kind of drink? No",
          "< Ruth has a goat. Linda has a piano. Brian has a watermelon. >. Does Ruth have a kind of fruit? No",
          "< Kimberly has jeans. George has a handgun. Linda has a beetle. >. Does Kimberly possess a kind of insect? No"
         ],
         "legendgroup": "",
         "marker": {
          "color": [
           1,
           1,
           0,
           1,
           0,
           0,
           1,
           1,
           0,
           0,
           0,
           0,
           0,
           0,
           1,
           0,
           0,
           0,
           0,
           0,
           1,
           0,
           0,
           0,
           0,
           0,
           1,
           0,
           0,
           1,
           0,
           1,
           0,
           1,
           1,
           1,
           0,
           0,
           1,
           0,
           0,
           1,
           0,
           0,
           0,
           1,
           1,
           1
          ],
          "coloraxis": "coloraxis",
          "symbol": "circle"
         },
         "mode": "markers",
         "name": "",
         "orientation": "v",
         "showlegend": false,
         "type": "scatter",
         "x": [
          4.217144966125488,
          5.970824241638184,
          2.9458975791931152,
          3.774564743041992,
          -2.200007438659668,
          -7.083033084869385,
          9.098475456237793,
          5.673784255981445,
          -4.2482781410217285,
          -0.25663459300994873,
          -8.118462562561035,
          -0.33714398741722107,
          -7.10441255569458,
          -1.994484543800354,
          7.680030822753906,
          -6.447525978088379,
          -2.7770004272460938,
          -3.746527910232544,
          -7.4694132804870605,
          -2.0794785022735596,
          6.325522422790527,
          -8.33997917175293,
          -5.125139236450195,
          -6.4055891036987305,
          -4.223097801208496,
          -1.9425108432769775,
          5.082206726074219,
          -1.0015501976013184,
          -6.992336750030518,
          5.66973876953125,
          -4.5220842361450195,
          2.5231077671051025,
          -5.987627029418945,
          7.133422374725342,
          9.616361618041992,
          6.975866317749023,
          -5.282877445220947,
          -7.33566951751709,
          9.949447631835938,
          -2.269987106323242,
          -6.526422500610352,
          6.445830821990967,
          1.6995627880096436,
          1.0549938678741455,
          -3.1585347652435303,
          7.901216983795166,
          2.2353973388671875,
          6.697998046875
         ],
         "xaxis": "x3",
         "y": [
          1.5843632221221924,
          -11.839466094970703,
          5.826649188995361,
          -11.116600036621094,
          1.9597944021224976,
          -2.5532257556915283,
          1.9110369682312012,
          4.014418601989746,
          -0.9636503458023071,
          2.3208699226379395,
          -2.7317934036254883,
          1.9555690288543701,
          0.12256906926631927,
          3.7779669761657715,
          0.25395315885543823,
          0.6613969206809998,
          0.5277278423309326,
          0.22829653322696686,
          -3.326659679412842,
          0.5405583381652832,
          0.9521278142929077,
          -0.3555808365345001,
          0.27898910641670227,
          0.05218513309955597,
          1.4645490646362305,
          -10.28358268737793,
          4.205681800842285,
          3.2513980865478516,
          -2.121509313583374,
          4.37983512878418,
          -0.31245186924934387,
          1.1975123882293701,
          1.3458778858184814,
          1.4660292863845825,
          0.4952015280723572,
          -10.963217735290527,
          1.1893843412399292,
          -1.6637482643127441,
          -3.0738704204559326,
          -1.558563470840454,
          0.9066425561904907,
          2.7176194190979004,
          3.686006546020508,
          3.3815364837646484,
          2.7962138652801514,
          -0.15593944489955902,
          -8.37587833404541,
          2.180544376373291
         ],
         "yaxis": "y3"
        }
       ],
       "layout": {
        "annotations": [
         {
          "font": {
           "size": 16
          },
          "showarrow": false,
          "text": "layer 24",
          "x": 0.14444444444444446,
          "xanchor": "center",
          "xref": "paper",
          "y": 1,
          "yanchor": "bottom",
          "yref": "paper"
         },
         {
          "font": {
           "size": 16
          },
          "showarrow": false,
          "text": "layer 36",
          "x": 0.5,
          "xanchor": "center",
          "xref": "paper",
          "y": 1,
          "yanchor": "bottom",
          "yref": "paper"
         },
         {
          "font": {
           "size": 16
          },
          "showarrow": false,
          "text": "layer 50",
          "x": 0.8555555555555556,
          "xanchor": "center",
          "xref": "paper",
          "y": 1,
          "yanchor": "bottom",
          "yref": "paper"
         }
        ],
        "coloraxis": {
         "colorscale": [
          [
           0,
           "rgb(255,0,0)"
          ],
          [
           1,
           "rgb(0,0,255)"
          ]
         ],
         "showscale": false
        },
        "height": 800,
        "template": {
         "data": {
          "bar": [
           {
            "error_x": {
             "color": "#2a3f5f"
            },
            "error_y": {
             "color": "#2a3f5f"
            },
            "marker": {
             "line": {
              "color": "#E5ECF6",
              "width": 0.5
             },
             "pattern": {
              "fillmode": "overlay",
              "size": 10,
              "solidity": 0.2
             }
            },
            "type": "bar"
           }
          ],
          "barpolar": [
           {
            "marker": {
             "line": {
              "color": "#E5ECF6",
              "width": 0.5
             },
             "pattern": {
              "fillmode": "overlay",
              "size": 10,
              "solidity": 0.2
             }
            },
            "type": "barpolar"
           }
          ],
          "carpet": [
           {
            "aaxis": {
             "endlinecolor": "#2a3f5f",
             "gridcolor": "white",
             "linecolor": "white",
             "minorgridcolor": "white",
             "startlinecolor": "#2a3f5f"
            },
            "baxis": {
             "endlinecolor": "#2a3f5f",
             "gridcolor": "white",
             "linecolor": "white",
             "minorgridcolor": "white",
             "startlinecolor": "#2a3f5f"
            },
            "type": "carpet"
           }
          ],
          "choropleth": [
           {
            "colorbar": {
             "outlinewidth": 0,
             "ticks": ""
            },
            "type": "choropleth"
           }
          ],
          "contour": [
           {
            "colorbar": {
             "outlinewidth": 0,
             "ticks": ""
            },
            "colorscale": [
             [
              0,
              "#0d0887"
             ],
             [
              0.1111111111111111,
              "#46039f"
             ],
             [
              0.2222222222222222,
              "#7201a8"
             ],
             [
              0.3333333333333333,
              "#9c179e"
             ],
             [
              0.4444444444444444,
              "#bd3786"
             ],
             [
              0.5555555555555556,
              "#d8576b"
             ],
             [
              0.6666666666666666,
              "#ed7953"
             ],
             [
              0.7777777777777778,
              "#fb9f3a"
             ],
             [
              0.8888888888888888,
              "#fdca26"
             ],
             [
              1,
              "#f0f921"
             ]
            ],
            "type": "contour"
           }
          ],
          "contourcarpet": [
           {
            "colorbar": {
             "outlinewidth": 0,
             "ticks": ""
            },
            "type": "contourcarpet"
           }
          ],
          "heatmap": [
           {
            "colorbar": {
             "outlinewidth": 0,
             "ticks": ""
            },
            "colorscale": [
             [
              0,
              "#0d0887"
             ],
             [
              0.1111111111111111,
              "#46039f"
             ],
             [
              0.2222222222222222,
              "#7201a8"
             ],
             [
              0.3333333333333333,
              "#9c179e"
             ],
             [
              0.4444444444444444,
              "#bd3786"
             ],
             [
              0.5555555555555556,
              "#d8576b"
             ],
             [
              0.6666666666666666,
              "#ed7953"
             ],
             [
              0.7777777777777778,
              "#fb9f3a"
             ],
             [
              0.8888888888888888,
              "#fdca26"
             ],
             [
              1,
              "#f0f921"
             ]
            ],
            "type": "heatmap"
           }
          ],
          "heatmapgl": [
           {
            "colorbar": {
             "outlinewidth": 0,
             "ticks": ""
            },
            "colorscale": [
             [
              0,
              "#0d0887"
             ],
             [
              0.1111111111111111,
              "#46039f"
             ],
             [
              0.2222222222222222,
              "#7201a8"
             ],
             [
              0.3333333333333333,
              "#9c179e"
             ],
             [
              0.4444444444444444,
              "#bd3786"
             ],
             [
              0.5555555555555556,
              "#d8576b"
             ],
             [
              0.6666666666666666,
              "#ed7953"
             ],
             [
              0.7777777777777778,
              "#fb9f3a"
             ],
             [
              0.8888888888888888,
              "#fdca26"
             ],
             [
              1,
              "#f0f921"
             ]
            ],
            "type": "heatmapgl"
           }
          ],
          "histogram": [
           {
            "marker": {
             "pattern": {
              "fillmode": "overlay",
              "size": 10,
              "solidity": 0.2
             }
            },
            "type": "histogram"
           }
          ],
          "histogram2d": [
           {
            "colorbar": {
             "outlinewidth": 0,
             "ticks": ""
            },
            "colorscale": [
             [
              0,
              "#0d0887"
             ],
             [
              0.1111111111111111,
              "#46039f"
             ],
             [
              0.2222222222222222,
              "#7201a8"
             ],
             [
              0.3333333333333333,
              "#9c179e"
             ],
             [
              0.4444444444444444,
              "#bd3786"
             ],
             [
              0.5555555555555556,
              "#d8576b"
             ],
             [
              0.6666666666666666,
              "#ed7953"
             ],
             [
              0.7777777777777778,
              "#fb9f3a"
             ],
             [
              0.8888888888888888,
              "#fdca26"
             ],
             [
              1,
              "#f0f921"
             ]
            ],
            "type": "histogram2d"
           }
          ],
          "histogram2dcontour": [
           {
            "colorbar": {
             "outlinewidth": 0,
             "ticks": ""
            },
            "colorscale": [
             [
              0,
              "#0d0887"
             ],
             [
              0.1111111111111111,
              "#46039f"
             ],
             [
              0.2222222222222222,
              "#7201a8"
             ],
             [
              0.3333333333333333,
              "#9c179e"
             ],
             [
              0.4444444444444444,
              "#bd3786"
             ],
             [
              0.5555555555555556,
              "#d8576b"
             ],
             [
              0.6666666666666666,
              "#ed7953"
             ],
             [
              0.7777777777777778,
              "#fb9f3a"
             ],
             [
              0.8888888888888888,
              "#fdca26"
             ],
             [
              1,
              "#f0f921"
             ]
            ],
            "type": "histogram2dcontour"
           }
          ],
          "mesh3d": [
           {
            "colorbar": {
             "outlinewidth": 0,
             "ticks": ""
            },
            "type": "mesh3d"
           }
          ],
          "parcoords": [
           {
            "line": {
             "colorbar": {
              "outlinewidth": 0,
              "ticks": ""
             }
            },
            "type": "parcoords"
           }
          ],
          "pie": [
           {
            "automargin": true,
            "type": "pie"
           }
          ],
          "scatter": [
           {
            "fillpattern": {
             "fillmode": "overlay",
             "size": 10,
             "solidity": 0.2
            },
            "type": "scatter"
           }
          ],
          "scatter3d": [
           {
            "line": {
             "colorbar": {
              "outlinewidth": 0,
              "ticks": ""
             }
            },
            "marker": {
             "colorbar": {
              "outlinewidth": 0,
              "ticks": ""
             }
            },
            "type": "scatter3d"
           }
          ],
          "scattercarpet": [
           {
            "marker": {
             "colorbar": {
              "outlinewidth": 0,
              "ticks": ""
             }
            },
            "type": "scattercarpet"
           }
          ],
          "scattergeo": [
           {
            "marker": {
             "colorbar": {
              "outlinewidth": 0,
              "ticks": ""
             }
            },
            "type": "scattergeo"
           }
          ],
          "scattergl": [
           {
            "marker": {
             "colorbar": {
              "outlinewidth": 0,
              "ticks": ""
             }
            },
            "type": "scattergl"
           }
          ],
          "scattermapbox": [
           {
            "marker": {
             "colorbar": {
              "outlinewidth": 0,
              "ticks": ""
             }
            },
            "type": "scattermapbox"
           }
          ],
          "scatterpolar": [
           {
            "marker": {
             "colorbar": {
              "outlinewidth": 0,
              "ticks": ""
             }
            },
            "type": "scatterpolar"
           }
          ],
          "scatterpolargl": [
           {
            "marker": {
             "colorbar": {
              "outlinewidth": 0,
              "ticks": ""
             }
            },
            "type": "scatterpolargl"
           }
          ],
          "scatterternary": [
           {
            "marker": {
             "colorbar": {
              "outlinewidth": 0,
              "ticks": ""
             }
            },
            "type": "scatterternary"
           }
          ],
          "surface": [
           {
            "colorbar": {
             "outlinewidth": 0,
             "ticks": ""
            },
            "colorscale": [
             [
              0,
              "#0d0887"
             ],
             [
              0.1111111111111111,
              "#46039f"
             ],
             [
              0.2222222222222222,
              "#7201a8"
             ],
             [
              0.3333333333333333,
              "#9c179e"
             ],
             [
              0.4444444444444444,
              "#bd3786"
             ],
             [
              0.5555555555555556,
              "#d8576b"
             ],
             [
              0.6666666666666666,
              "#ed7953"
             ],
             [
              0.7777777777777778,
              "#fb9f3a"
             ],
             [
              0.8888888888888888,
              "#fdca26"
             ],
             [
              1,
              "#f0f921"
             ]
            ],
            "type": "surface"
           }
          ],
          "table": [
           {
            "cells": {
             "fill": {
              "color": "#EBF0F8"
             },
             "line": {
              "color": "white"
             }
            },
            "header": {
             "fill": {
              "color": "#C8D4E3"
             },
             "line": {
              "color": "white"
             }
            },
            "type": "table"
           }
          ]
         },
         "layout": {
          "annotationdefaults": {
           "arrowcolor": "#2a3f5f",
           "arrowhead": 0,
           "arrowwidth": 1
          },
          "autotypenumbers": "strict",
          "coloraxis": {
           "colorbar": {
            "outlinewidth": 0,
            "ticks": ""
           }
          },
          "colorscale": {
           "diverging": [
            [
             0,
             "#8e0152"
            ],
            [
             0.1,
             "#c51b7d"
            ],
            [
             0.2,
             "#de77ae"
            ],
            [
             0.3,
             "#f1b6da"
            ],
            [
             0.4,
             "#fde0ef"
            ],
            [
             0.5,
             "#f7f7f7"
            ],
            [
             0.6,
             "#e6f5d0"
            ],
            [
             0.7,
             "#b8e186"
            ],
            [
             0.8,
             "#7fbc41"
            ],
            [
             0.9,
             "#4d9221"
            ],
            [
             1,
             "#276419"
            ]
           ],
           "sequential": [
            [
             0,
             "#0d0887"
            ],
            [
             0.1111111111111111,
             "#46039f"
            ],
            [
             0.2222222222222222,
             "#7201a8"
            ],
            [
             0.3333333333333333,
             "#9c179e"
            ],
            [
             0.4444444444444444,
             "#bd3786"
            ],
            [
             0.5555555555555556,
             "#d8576b"
            ],
            [
             0.6666666666666666,
             "#ed7953"
            ],
            [
             0.7777777777777778,
             "#fb9f3a"
            ],
            [
             0.8888888888888888,
             "#fdca26"
            ],
            [
             1,
             "#f0f921"
            ]
           ],
           "sequentialminus": [
            [
             0,
             "#0d0887"
            ],
            [
             0.1111111111111111,
             "#46039f"
            ],
            [
             0.2222222222222222,
             "#7201a8"
            ],
            [
             0.3333333333333333,
             "#9c179e"
            ],
            [
             0.4444444444444444,
             "#bd3786"
            ],
            [
             0.5555555555555556,
             "#d8576b"
            ],
            [
             0.6666666666666666,
             "#ed7953"
            ],
            [
             0.7777777777777778,
             "#fb9f3a"
            ],
            [
             0.8888888888888888,
             "#fdca26"
            ],
            [
             1,
             "#f0f921"
            ]
           ]
          },
          "colorway": [
           "#636efa",
           "#EF553B",
           "#00cc96",
           "#ab63fa",
           "#FFA15A",
           "#19d3f3",
           "#FF6692",
           "#B6E880",
           "#FF97FF",
           "#FECB52"
          ],
          "font": {
           "color": "#2a3f5f"
          },
          "geo": {
           "bgcolor": "white",
           "lakecolor": "white",
           "landcolor": "#E5ECF6",
           "showlakes": true,
           "showland": true,
           "subunitcolor": "white"
          },
          "hoverlabel": {
           "align": "left"
          },
          "hovermode": "closest",
          "mapbox": {
           "style": "light"
          },
          "paper_bgcolor": "white",
          "plot_bgcolor": "#E5ECF6",
          "polar": {
           "angularaxis": {
            "gridcolor": "white",
            "linecolor": "white",
            "ticks": ""
           },
           "bgcolor": "#E5ECF6",
           "radialaxis": {
            "gridcolor": "white",
            "linecolor": "white",
            "ticks": ""
           }
          },
          "scene": {
           "xaxis": {
            "backgroundcolor": "#E5ECF6",
            "gridcolor": "white",
            "gridwidth": 2,
            "linecolor": "white",
            "showbackground": true,
            "ticks": "",
            "zerolinecolor": "white"
           },
           "yaxis": {
            "backgroundcolor": "#E5ECF6",
            "gridcolor": "white",
            "gridwidth": 2,
            "linecolor": "white",
            "showbackground": true,
            "ticks": "",
            "zerolinecolor": "white"
           },
           "zaxis": {
            "backgroundcolor": "#E5ECF6",
            "gridcolor": "white",
            "gridwidth": 2,
            "linecolor": "white",
            "showbackground": true,
            "ticks": "",
            "zerolinecolor": "white"
           }
          },
          "shapedefaults": {
           "line": {
            "color": "#2a3f5f"
           }
          },
          "ternary": {
           "aaxis": {
            "gridcolor": "white",
            "linecolor": "white",
            "ticks": ""
           },
           "baxis": {
            "gridcolor": "white",
            "linecolor": "white",
            "ticks": ""
           },
           "bgcolor": "#E5ECF6",
           "caxis": {
            "gridcolor": "white",
            "linecolor": "white",
            "ticks": ""
           }
          },
          "title": {
           "x": 0.05
          },
          "xaxis": {
           "automargin": true,
           "gridcolor": "white",
           "linecolor": "white",
           "ticks": "",
           "title": {
            "standoff": 15
           },
           "zerolinecolor": "white",
           "zerolinewidth": 2
          },
          "yaxis": {
           "automargin": true,
           "gridcolor": "white",
           "linecolor": "white",
           "ticks": "",
           "title": {
            "standoff": 15
           },
           "zerolinecolor": "white",
           "zerolinewidth": 2
          }
         }
        },
        "title": {
         "font": {
          "size": 20
         },
         "text": "Dataset visualizations across layers lmsys/vicuna-33b-v1.3"
        },
        "width": 1200,
        "xaxis": {
         "anchor": "y",
         "domain": [
          0,
          0.2888888888888889
         ]
        },
        "xaxis2": {
         "anchor": "y2",
         "domain": [
          0.35555555555555557,
          0.6444444444444445
         ]
        },
        "xaxis3": {
         "anchor": "y3",
         "domain": [
          0.7111111111111111,
          1
         ]
        },
        "yaxis": {
         "anchor": "x",
         "domain": [
          0,
          1
         ],
         "title": {
          "text": "g2c[MlM_gen][genders_of_persons.TreeSet.equal,types_of_things.TreeSet.child][cxt_len=3]"
         }
        },
        "yaxis2": {
         "anchor": "x2",
         "domain": [
          0,
          1
         ]
        },
        "yaxis3": {
         "anchor": "x3",
         "domain": [
          0,
          1
         ]
        }
       }
      },
      "text/html": [
       "<div>                            <div id=\"e2ce45e2-25b6-4fb3-a0e7-f38b4fa7f9cd\" class=\"plotly-graph-div\" style=\"height:800px; width:1200px;\"></div>            <script type=\"text/javascript\">                require([\"plotly\"], function(Plotly) {                    window.PLOTLYENV=window.PLOTLYENV || {};                                    if (document.getElementById(\"e2ce45e2-25b6-4fb3-a0e7-f38b4fa7f9cd\")) {                    Plotly.newPlot(                        \"e2ce45e2-25b6-4fb3-a0e7-f38b4fa7f9cd\",                        [{\"hovertemplate\":\"\\u003cb\\u003e%{hovertext}\\u003c\\u002fb\\u003e\\u003cbr\\u003e\\u003cbr\\u003ePC1=%{x}\\u003cbr\\u003ePC2=%{y}\\u003cbr\\u003elabel=%{marker.color}\\u003cextra\\u003e\\u003c\\u002fextra\\u003e\",\"hovertext\":[\"\\u003c Kimberly has jeans. George has a handgun. Linda has a beetle. \\u003e. Does Kimberly possess a kind of insect? No\",\"\\u003c Ronald has soda. Anthony has a car. John has a deer. \\u003e. Does Anthony own a kind of vehicle? Yes\",\"\\u003c Mark has a guitar. George has a watermelon. Ronald has a taxi. \\u003e. Does Mark own a kind of vehicle? No\",\"\\u003c Elizabeth has a guitar. William has a taxi. Edward has a banana. \\u003e. Does William possess a kind of vehicle? Yes\",\"\\u003c Christopher has a lemon. Carol has a cannon. Edward has a tiger. \\u003e. Does Carol own a kind of fruit? No\",\"\\u003c Nancy has a basketball. James has a beetle. Deborah has a horse. \\u003e. Does Deborah own a kind of animal? Yes\",\"\\u003c Charles has a papaya. Maria has a revolver. Nancy has a costume. \\u003e. Does Maria own a kind of weapon? Yes\",\"\\u003c Elizabeth has a baseball. Barbara has a jeep. Dorothy has a gorilla. \\u003e. Does Barbara possess a kind of vehicle? Yes\",\"\\u003c Deborah has a lion. Betty has meat. John has a gorilla. \\u003e. Does Betty possess a kind of food? Yes\",\"\\u003c Ronald has a monkey. Barbara has a revolver. Laura has a burger. \\u003e. Does Laura possess a kind of animal? No\",\"\\u003c Thomas has a goat. Patricia has T-shirt. Charles has a burger. \\u003e. Does Patricia own a kind of clothing? Yes\",\"\\u003c Lisa has a taxi. Kevin has a monkey. Jennifer has a lime. \\u003e. Does Lisa own a kind of vehicle? Yes\",\"\\u003c Maria has a guitar. David has a donkey. Joseph has a burger. \\u003e. Does Joseph possess a kind of musical instrument? No\",\"\\u003c Susan has a shotgun. Charles has cake. Deborah has a jersey. \\u003e. Does Susan own a kind of weapon? Yes\",\"\\u003c Patricia has a monkey. Mary has pizza. George has trousers. \\u003e. Does Patricia have a kind of animal? Yes\",\"\\u003c Elizabeth has a car. James has a violin. Donna has coffee. \\u003e. Does Elizabeth possess a kind of drink? No\",\"\\u003c Barbara has a shirt. Betty has vodka. Margaret has a football. \\u003e. Does Barbara have a kind of drink? No\",\"\\u003c Ruth has a goat. Linda has a piano. Brian has a watermelon. \\u003e. Does Ruth have a kind of fruit? No\",\"\\u003c William has a grenade. Donald has a cow. Robert has pants. \\u003e. Does William own a kind of weapon? Yes\",\"\\u003c Carol has a peach. Steven has a sweater. Sarah has a cannon. \\u003e. Does Steven possess a kind of clothing? Yes\",\"\\u003c Susan has a jeep. Deborah has a pig. Sharon has a handgun. \\u003e. Does Deborah possess a kind of animal? Yes\",\"\\u003c Edward has jeans. Brian has a rifle. William has wine. \\u003e. Does William possess a kind of weapon? No\",\"\\u003c Barbara has a cat. Kimberly has a taxi. William has cake. \\u003e. Does Barbara possess a kind of animal? Yes\",\"\\u003c Linda has a gun. Karen has a basketball. Patricia has whiskey. \\u003e. Does Karen own a kind of sport? Yes\",\"\\u003c Nancy has a monkey. Jeff has a papaya. Christopher has a basketball. \\u003e. Does Jeff possess a kind of fruit? Yes\",\"\\u003c Laura has a cannon. Kenneth has trousers. Daniel has a basketball. \\u003e. Does Kenneth own a kind of weapon? No\",\"\\u003c Daniel has a uniform. Kenneth has a revolver. Ruth has an apple. \\u003e. Does Kenneth possess a kind of fruit? No\",\"\\u003c David has a rifle. Edward has a uniform. James has whiskey. \\u003e. Does David have a kind of clothing? No\",\"\\u003c Deborah has a pistol. Nancy has a jersey. Thomas has underwear. \\u003e. Does Deborah possess a kind of weapon? Yes\",\"\\u003c Michelle has pizza. Margaret has a rabbit. Dorothy has shoes. \\u003e. Does Dorothy own a kind of clothing? Yes\",\"\\u003c Barbara has spaghetti. Margaret has a cocktail. John has a banana. \\u003e. Does John possess a kind of fruit? Yes\",\"\\u003c Brian has a piano. Robert has a uniform. Barbara has a handgun. \\u003e. Does Barbara possess a kind of weapon? Yes\",\"\\u003c Linda has a banana. Mark has a mosquito. Anthony has a cow. \\u003e. Does Anthony own a kind of animal? Yes\",\"\\u003c Kenneth has beer. Deborah has a uniform. John has a revolver. \\u003e. Does Kenneth possess a kind of clothing? No\",\"\\u003c Linda has a costume. Dorothy has a rabbit. Robert has a basketball. \\u003e. Does Robert own a kind of clothing? No\",\"\\u003c Mary has shoes. Susan has a guitar. Dorothy has blackberries. \\u003e. Does Susan possess a kind of clothing? No\",\"\\u003c Betty has spaghetti. Steven has a shotgun. Laura has grapes. \\u003e. Does Betty have a kind of food? Yes\",\"\\u003c Kenneth has meat. Susan has an apricot. Charles has a handgun. \\u003e. Does Kenneth have a kind of food? Yes\",\"\\u003c Sharon has underwear. Daniel has a papaya. Paul has spaghetti. \\u003e. Does Paul own a kind of food? Yes\",\"\\u003c Maria has wine. Betty has shoes. Michelle has a jacket. \\u003e. Does Maria possess a kind of drink? Yes\",\"\\u003c Jeff has a guitar. Maria has jeans. Thomas has a bee. \\u003e. Does Maria possess a kind of clothing? Yes\",\"\\u003c Sandra has blueberries. Nancy has a bee. John has a lion. \\u003e. Does Nancy own a kind of animal? No\",\"\\u003c Linda has a pineapple. Jeff has beer. Paul has a cannon. \\u003e. Does Paul have a kind of fruit? No\",\"\\u003c Jennifer has a bus. Helen has a rabbit. George has blackberries. \\u003e. Does Jennifer have a kind of vehicle? Yes\",\"\\u003c Charles has a baseball. Michael has a beetle. Lisa has blackberries. \\u003e. Does Michael own a kind of insect? Yes\",\"\\u003c Patricia has a horse. Joseph has underwear. Charles has a football. \\u003e. Does Charles have a kind of sport? Yes\",\"\\u003c James has a guitar. Dorothy has a gun. Charles has a goose. \\u003e. Does Charles own a kind of weapon? No\",\"\\u003c Linda has a pig. Dorothy has a sweater. Maria has a dog. \\u003e. Does Dorothy own a kind of clothing? Yes\"],\"legendgroup\":\"\",\"marker\":{\"color\":[1,0,1,0,1,0,0,0,0,1,0,0,1,0,0,1,1,1,0,0,0,1,0,0,0,1,1,1,0,0,0,0,0,1,1,1,0,0,0,0,0,1,1,0,0,0,1,0],\"coloraxis\":\"coloraxis\",\"symbol\":\"circle\"},\"mode\":\"markers\",\"name\":\"\",\"orientation\":\"v\",\"showlegend\":false,\"x\":[-5.17979621887207,0.6112669110298157,-4.77532434463501,2.252105712890625,-1.423664927482605,3.8669769763946533,1.3369255065917969,-1.1658594608306885,1.5305061340332031,-4.69672966003418,1.9635977745056152,7.137174606323242,-7.107303142547607,4.146039962768555,5.01418399810791,-6.452095031738281,-3.8456783294677734,-1.7693414688110352,4.6186017990112305,4.867260932922363,1.282386064529419,-3.6836094856262207,5.458193302154541,-1.271983027458191,3.0070629119873047,-6.658358573913574,-2.4279098510742188,-5.849299907684326,3.0669069290161133,2.340208053588867,4.940771102905273,0.47008389234542847,0.6628509759902954,-8.916946411132812,-6.876933574676514,-4.889567852020264,5.317364692687988,-0.5435035228729248,2.3711812496185303,5.042233467102051,3.473033905029297,-4.347851753234863,-5.439652442932129,2.552034854888916,5.468358993530273,3.0483460426330566,-4.023983001708984,4.512887477874756],\"xaxis\":\"x\",\"y\":[5.203546524047852,3.012850046157837,-1.2084667682647705,-0.16559326648712158,0.6585537195205688,1.287570595741272,-1.019817590713501,4.160991668701172,0.1458350121974945,3.171719789505005,3.5364303588867188,0.7036445736885071,1.5145624876022339,0.09208085387945175,1.3852694034576416,-2.8441689014434814,-7.4393310546875,-4.5000481605529785,3.5072054862976074,0.09946665167808533,-4.762051582336426,5.111360549926758,0.12095291912555695,1.1272473335266113,-0.9992694854736328,-0.6982489824295044,2.488834857940674,-7.571682453155518,-0.27803221344947815,0.8364968299865723,-0.953904926776886,0.41810569167137146,-2.033895969390869,5.682309150695801,0.7377119064331055,5.767569541931152,-0.3176475763320923,-7.877641201019287,2.1638541221618652,-0.3439514636993408,0.2620882987976074,-1.3482964038848877,-6.055774211883545,-0.4543410539627075,2.9052228927612305,-1.459815263748169,4.665302276611328,-1.4191184043884277],\"yaxis\":\"y\",\"type\":\"scatter\"},{\"hovertemplate\":\"\\u003cb\\u003e%{hovertext}\\u003c\\u002fb\\u003e\\u003cbr\\u003e\\u003cbr\\u003ePC1=%{x}\\u003cbr\\u003ePC2=%{y}\\u003cbr\\u003elabel=%{marker.color}\\u003cextra\\u003e\\u003c\\u002fextra\\u003e\",\"hovertext\":[\"\\u003c William has a grenade. Donald has a cow. Robert has pants. \\u003e. Does William own a kind of weapon? Yes\",\"\\u003c Edward has jeans. Brian has a rifle. William has wine. \\u003e. Does William possess a kind of weapon? No\",\"\\u003c Brian has a piano. Robert has a uniform. Barbara has a handgun. \\u003e. Does Barbara possess a kind of weapon? Yes\",\"\\u003c Susan has a jeep. Deborah has a pig. Sharon has a handgun. \\u003e. Does Deborah possess a kind of animal? Yes\",\"\\u003c Linda has a pig. Dorothy has a sweater. Maria has a dog. \\u003e. Does Dorothy own a kind of clothing? Yes\",\"\\u003c Linda has a pineapple. Jeff has beer. Paul has a cannon. \\u003e. Does Paul have a kind of fruit? No\",\"\\u003c Ruth has a goat. Linda has a piano. Brian has a watermelon. \\u003e. Does Ruth have a kind of fruit? No\",\"\\u003c Laura has a cannon. Kenneth has trousers. Daniel has a basketball. \\u003e. Does Kenneth own a kind of weapon? No\",\"\\u003c Linda has a costume. Dorothy has a rabbit. Robert has a basketball. \\u003e. Does Robert own a kind of clothing? No\",\"\\u003c Carol has a peach. Steven has a sweater. Sarah has a cannon. \\u003e. Does Steven possess a kind of clothing? Yes\",\"\\u003c James has a guitar. Dorothy has a gun. Charles has a goose. \\u003e. Does Charles own a kind of weapon? No\",\"\\u003c Sandra has blueberries. Nancy has a bee. John has a lion. \\u003e. Does Nancy own a kind of animal? No\",\"\\u003c Elizabeth has a guitar. William has a taxi. Edward has a banana. \\u003e. Does William possess a kind of vehicle? Yes\",\"\\u003c Christopher has a lemon. Carol has a cannon. Edward has a tiger. \\u003e. Does Carol own a kind of fruit? No\",\"\\u003c Deborah has a pistol. Nancy has a jersey. Thomas has underwear. \\u003e. Does Deborah possess a kind of weapon? Yes\",\"\\u003c Ronald has soda. Anthony has a car. John has a deer. \\u003e. Does Anthony own a kind of vehicle? Yes\",\"\\u003c Mary has shoes. Susan has a guitar. Dorothy has blackberries. \\u003e. Does Susan possess a kind of clothing? No\",\"\\u003c Lisa has a taxi. Kevin has a monkey. Jennifer has a lime. \\u003e. Does Lisa own a kind of vehicle? Yes\",\"\\u003c Barbara has spaghetti. Margaret has a cocktail. John has a banana. \\u003e. Does John possess a kind of fruit? Yes\",\"\\u003c Susan has a shotgun. Charles has cake. Deborah has a jersey. \\u003e. Does Susan own a kind of weapon? Yes\",\"\\u003c Patricia has a horse. Joseph has underwear. Charles has a football. \\u003e. Does Charles have a kind of sport? Yes\",\"\\u003c Jeff has a guitar. Maria has jeans. Thomas has a bee. \\u003e. Does Maria possess a kind of clothing? Yes\",\"\\u003c Deborah has a lion. Betty has meat. John has a gorilla. \\u003e. Does Betty possess a kind of food? Yes\",\"\\u003c Betty has spaghetti. Steven has a shotgun. Laura has grapes. \\u003e. Does Betty have a kind of food? Yes\",\"\\u003c Kimberly has jeans. George has a handgun. Linda has a beetle. \\u003e. Does Kimberly possess a kind of insect? No\",\"\\u003c Kenneth has meat. Susan has an apricot. Charles has a handgun. \\u003e. Does Kenneth have a kind of food? Yes\",\"\\u003c Maria has wine. Betty has shoes. Michelle has a jacket. \\u003e. Does Maria possess a kind of drink? Yes\",\"\\u003c Linda has a gun. Karen has a basketball. Patricia has whiskey. \\u003e. Does Karen own a kind of sport? Yes\",\"\\u003c Maria has a guitar. David has a donkey. Joseph has a burger. \\u003e. Does Joseph possess a kind of musical instrument? No\",\"\\u003c Charles has a papaya. Maria has a revolver. Nancy has a costume. \\u003e. Does Maria own a kind of weapon? Yes\",\"\\u003c Elizabeth has a car. James has a violin. Donna has coffee. \\u003e. Does Elizabeth possess a kind of drink? No\",\"\\u003c Jennifer has a bus. Helen has a rabbit. George has blackberries. \\u003e. Does Jennifer have a kind of vehicle? Yes\",\"\\u003c Linda has a banana. Mark has a mosquito. Anthony has a cow. \\u003e. Does Anthony own a kind of animal? Yes\",\"\\u003c Ronald has a monkey. Barbara has a revolver. Laura has a burger. \\u003e. Does Laura possess a kind of animal? No\",\"\\u003c Patricia has a monkey. Mary has pizza. George has trousers. \\u003e. Does Patricia have a kind of animal? Yes\",\"\\u003c Barbara has a shirt. Betty has vodka. Margaret has a football. \\u003e. Does Barbara have a kind of drink? No\",\"\\u003c Nancy has a basketball. James has a beetle. Deborah has a horse. \\u003e. Does Deborah own a kind of animal? Yes\",\"\\u003c Michelle has pizza. Margaret has a rabbit. Dorothy has shoes. \\u003e. Does Dorothy own a kind of clothing? Yes\",\"\\u003c Kenneth has beer. Deborah has a uniform. John has a revolver. \\u003e. Does Kenneth possess a kind of clothing? No\",\"\\u003c Elizabeth has a baseball. Barbara has a jeep. Dorothy has a gorilla. \\u003e. Does Barbara possess a kind of vehicle? Yes\",\"\\u003c Charles has a baseball. Michael has a beetle. Lisa has blackberries. \\u003e. Does Michael own a kind of insect? Yes\",\"\\u003c Daniel has a uniform. Kenneth has a revolver. Ruth has an apple. \\u003e. Does Kenneth possess a kind of fruit? No\",\"\\u003c Nancy has a monkey. Jeff has a papaya. Christopher has a basketball. \\u003e. Does Jeff possess a kind of fruit? Yes\",\"\\u003c Mark has a guitar. George has a watermelon. Ronald has a taxi. \\u003e. Does Mark own a kind of vehicle? No\",\"\\u003c David has a rifle. Edward has a uniform. James has whiskey. \\u003e. Does David have a kind of clothing? No\",\"\\u003c Barbara has a cat. Kimberly has a taxi. William has cake. \\u003e. Does Barbara possess a kind of animal? Yes\",\"\\u003c Thomas has a goat. Patricia has T-shirt. Charles has a burger. \\u003e. Does Patricia own a kind of clothing? Yes\",\"\\u003c Sharon has underwear. Daniel has a papaya. Paul has spaghetti. \\u003e. Does Paul own a kind of food? Yes\"],\"legendgroup\":\"\",\"marker\":{\"color\":[0,1,0,0,0,1,1,1,1,0,1,1,0,1,0,0,1,0,0,0,0,0,0,0,1,0,0,0,1,0,1,0,0,1,0,1,0,0,1,0,0,1,0,1,1,0,0,0],\"coloraxis\":\"coloraxis\",\"symbol\":\"circle\"},\"mode\":\"markers\",\"name\":\"\",\"orientation\":\"v\",\"showlegend\":false,\"x\":[5.788331031799316,-6.058841705322266,2.6998167037963867,2.159006118774414,5.65179967880249,-5.598742485046387,-2.4958722591400146,-10.199931144714355,-8.86502456665039,4.728209495544434,-5.248661994934082,-6.443533897399902,2.770937204360962,-3.138667345046997,5.34334135055542,-0.6583754420280457,-7.245940208435059,7.2645182609558105,5.9984636306762695,5.743821144104004,4.1347551345825195,4.619158744812012,1.7585163116455078,6.427707195281982,-7.055552959442139,0.5698401927947998,6.581384181976318,-0.7526305317878723,-8.411214828491211,2.81042742729187,-7.8539838790893555,2.3564209938049316,0.9794356226921082,-4.646262168884277,5.633951187133789,-3.1187119483947754,6.195702075958252,2.399960994720459,-9.629409790039062,-2.412677764892578,5.998256683349609,-5.073087692260742,3.755192995071411,-6.912318706512451,-6.11983585357666,6.4288129806518555,2.1278772354125977,3.829603672027588],\"xaxis\":\"x2\",\"y\":[2.1141629219055176,2.7527379989624023,0.056949518620967865,-2.5005154609680176,1.911576271057129,-9.445640563964844,-7.985591888427734,1.8251104354858398,2.0410265922546387,1.9320049285888672,2.5897340774536133,-0.40219178795814514,0.1944946050643921,0.08048690855503082,-0.738413393497467,1.9717212915420532,4.045238971710205,1.2423487901687622,-0.4824300706386566,-0.8843661546707153,0.2705060541629791,1.2411470413208008,0.06636221706867218,-0.5221641659736633,3.799504280090332,-9.140623092651367,-0.3389471173286438,1.0844762325286865,3.6638760566711426,0.17809098958969116,-0.4954224228858948,-0.8090879917144775,-1.3643227815628052,2.2199203968048096,0.9729854464530945,-10.322240829467773,1.0513720512390137,2.6339402198791504,5.227081298828125,3.0877254009246826,2.0021274089813232,2.2546963691711426,-0.7835627794265747,0.20243588089942932,-8.514102935791016,1.643275260925293,4.1152472496032715,2.2243285179138184],\"yaxis\":\"y2\",\"type\":\"scatter\"},{\"hovertemplate\":\"\\u003cb\\u003e%{hovertext}\\u003c\\u002fb\\u003e\\u003cbr\\u003e\\u003cbr\\u003ePC1=%{x}\\u003cbr\\u003ePC2=%{y}\\u003cbr\\u003elabel=%{marker.color}\\u003cextra\\u003e\\u003c\\u002fextra\\u003e\",\"hovertext\":[\"\\u003c Daniel has a uniform. Kenneth has a revolver. Ruth has an apple. \\u003e. Does Kenneth possess a kind of fruit? No\",\"\\u003c Linda has a pineapple. Jeff has beer. Paul has a cannon. \\u003e. Does Paul have a kind of fruit? No\",\"\\u003c Elizabeth has a baseball. Barbara has a jeep. Dorothy has a gorilla. \\u003e. Does Barbara possess a kind of vehicle? Yes\",\"\\u003c Barbara has a shirt. Betty has vodka. Margaret has a football. \\u003e. Does Barbara have a kind of drink? No\",\"\\u003c Elizabeth has a guitar. William has a taxi. Edward has a banana. \\u003e. Does William possess a kind of vehicle? Yes\",\"\\u003c Barbara has spaghetti. Margaret has a cocktail. John has a banana. \\u003e. Does John possess a kind of fruit? Yes\",\"\\u003c Kenneth has beer. Deborah has a uniform. John has a revolver. \\u003e. Does Kenneth possess a kind of clothing? No\",\"\\u003c Edward has jeans. Brian has a rifle. William has wine. \\u003e. Does William possess a kind of weapon? No\",\"\\u003c Brian has a piano. Robert has a uniform. Barbara has a handgun. \\u003e. Does Barbara possess a kind of weapon? Yes\",\"\\u003c Deborah has a lion. Betty has meat. John has a gorilla. \\u003e. Does Betty possess a kind of food? Yes\",\"\\u003c Betty has spaghetti. Steven has a shotgun. Laura has grapes. \\u003e. Does Betty have a kind of food? Yes\",\"\\u003c Linda has a banana. Mark has a mosquito. Anthony has a cow. \\u003e. Does Anthony own a kind of animal? Yes\",\"\\u003c Lisa has a taxi. Kevin has a monkey. Jennifer has a lime. \\u003e. Does Lisa own a kind of vehicle? Yes\",\"\\u003c Thomas has a goat. Patricia has T-shirt. Charles has a burger. \\u003e. Does Patricia own a kind of clothing? Yes\",\"\\u003c Maria has a guitar. David has a donkey. Joseph has a burger. \\u003e. Does Joseph possess a kind of musical instrument? No\",\"\\u003c Linda has a pig. Dorothy has a sweater. Maria has a dog. \\u003e. Does Dorothy own a kind of clothing? Yes\",\"\\u003c Nancy has a monkey. Jeff has a papaya. Christopher has a basketball. \\u003e. Does Jeff possess a kind of fruit? Yes\",\"\\u003c Charles has a papaya. Maria has a revolver. Nancy has a costume. \\u003e. Does Maria own a kind of weapon? Yes\",\"\\u003c Deborah has a pistol. Nancy has a jersey. Thomas has underwear. \\u003e. Does Deborah possess a kind of weapon? Yes\",\"\\u003c Jennifer has a bus. Helen has a rabbit. George has blackberries. \\u003e. Does Jennifer have a kind of vehicle? Yes\",\"\\u003c Sandra has blueberries. Nancy has a bee. John has a lion. \\u003e. Does Nancy own a kind of animal? No\",\"\\u003c Barbara has a cat. Kimberly has a taxi. William has cake. \\u003e. Does Barbara possess a kind of animal? Yes\",\"\\u003c Jeff has a guitar. Maria has jeans. Thomas has a bee. \\u003e. Does Maria possess a kind of clothing? Yes\",\"\\u003c Patricia has a monkey. Mary has pizza. George has trousers. \\u003e. Does Patricia have a kind of animal? Yes\",\"\\u003c Carol has a peach. Steven has a sweater. Sarah has a cannon. \\u003e. Does Steven possess a kind of clothing? Yes\",\"\\u003c Kenneth has meat. Susan has an apricot. Charles has a handgun. \\u003e. Does Kenneth have a kind of food? Yes\",\"\\u003c Ronald has a monkey. Barbara has a revolver. Laura has a burger. \\u003e. Does Laura possess a kind of animal? No\",\"\\u003c Michelle has pizza. Margaret has a rabbit. Dorothy has shoes. \\u003e. Does Dorothy own a kind of clothing? Yes\",\"\\u003c Susan has a shotgun. Charles has cake. Deborah has a jersey. \\u003e. Does Susan own a kind of weapon? Yes\",\"\\u003c James has a guitar. Dorothy has a gun. Charles has a goose. \\u003e. Does Charles own a kind of weapon? No\",\"\\u003c Patricia has a horse. Joseph has underwear. Charles has a football. \\u003e. Does Charles have a kind of sport? Yes\",\"\\u003c Christopher has a lemon. Carol has a cannon. Edward has a tiger. \\u003e. Does Carol own a kind of fruit? No\",\"\\u003c Charles has a baseball. Michael has a beetle. Lisa has blackberries. \\u003e. Does Michael own a kind of insect? Yes\",\"\\u003c Mark has a guitar. George has a watermelon. Ronald has a taxi. \\u003e. Does Mark own a kind of vehicle? No\",\"\\u003c Linda has a costume. Dorothy has a rabbit. Robert has a basketball. \\u003e. Does Robert own a kind of clothing? No\",\"\\u003c David has a rifle. Edward has a uniform. James has whiskey. \\u003e. Does David have a kind of clothing? No\",\"\\u003c Nancy has a basketball. James has a beetle. Deborah has a horse. \\u003e. Does Deborah own a kind of animal? Yes\",\"\\u003c Maria has wine. Betty has shoes. Michelle has a jacket. \\u003e. Does Maria possess a kind of drink? Yes\",\"\\u003c Laura has a cannon. Kenneth has trousers. Daniel has a basketball. \\u003e. Does Kenneth own a kind of weapon? No\",\"\\u003c Susan has a jeep. Deborah has a pig. Sharon has a handgun. \\u003e. Does Deborah possess a kind of animal? Yes\",\"\\u003c William has a grenade. Donald has a cow. Robert has pants. \\u003e. Does William own a kind of weapon? Yes\",\"\\u003c Mary has shoes. Susan has a guitar. Dorothy has blackberries. \\u003e. Does Susan possess a kind of clothing? No\",\"\\u003c Linda has a gun. Karen has a basketball. Patricia has whiskey. \\u003e. Does Karen own a kind of sport? Yes\",\"\\u003c Ronald has soda. Anthony has a car. John has a deer. \\u003e. Does Anthony own a kind of vehicle? Yes\",\"\\u003c Sharon has underwear. Daniel has a papaya. Paul has spaghetti. \\u003e. Does Paul own a kind of food? Yes\",\"\\u003c Elizabeth has a car. James has a violin. Donna has coffee. \\u003e. Does Elizabeth possess a kind of drink? No\",\"\\u003c Ruth has a goat. Linda has a piano. Brian has a watermelon. \\u003e. Does Ruth have a kind of fruit? No\",\"\\u003c Kimberly has jeans. George has a handgun. Linda has a beetle. \\u003e. Does Kimberly possess a kind of insect? No\"],\"legendgroup\":\"\",\"marker\":{\"color\":[1,1,0,1,0,0,1,1,0,0,0,0,0,0,1,0,0,0,0,0,1,0,0,0,0,0,1,0,0,1,0,1,0,1,1,1,0,0,1,0,0,1,0,0,0,1,1,1],\"coloraxis\":\"coloraxis\",\"symbol\":\"circle\"},\"mode\":\"markers\",\"name\":\"\",\"orientation\":\"v\",\"showlegend\":false,\"x\":[4.217144966125488,5.970824241638184,2.9458975791931152,3.774564743041992,-2.200007438659668,-7.083033084869385,9.098475456237793,5.673784255981445,-4.2482781410217285,-0.25663459300994873,-8.118462562561035,-0.33714398741722107,-7.10441255569458,-1.994484543800354,7.680030822753906,-6.447525978088379,-2.7770004272460938,-3.746527910232544,-7.4694132804870605,-2.0794785022735596,6.325522422790527,-8.33997917175293,-5.125139236450195,-6.4055891036987305,-4.223097801208496,-1.9425108432769775,5.082206726074219,-1.0015501976013184,-6.992336750030518,5.66973876953125,-4.5220842361450195,2.5231077671051025,-5.987627029418945,7.133422374725342,9.616361618041992,6.975866317749023,-5.282877445220947,-7.33566951751709,9.949447631835938,-2.269987106323242,-6.526422500610352,6.445830821990967,1.6995627880096436,1.0549938678741455,-3.1585347652435303,7.901216983795166,2.2353973388671875,6.697998046875],\"xaxis\":\"x3\",\"y\":[1.5843632221221924,-11.839466094970703,5.826649188995361,-11.116600036621094,1.9597944021224976,-2.5532257556915283,1.9110369682312012,4.014418601989746,-0.9636503458023071,2.3208699226379395,-2.7317934036254883,1.9555690288543701,0.12256906926631927,3.7779669761657715,0.25395315885543823,0.6613969206809998,0.5277278423309326,0.22829653322696686,-3.326659679412842,0.5405583381652832,0.9521278142929077,-0.3555808365345001,0.27898910641670227,0.05218513309955597,1.4645490646362305,-10.28358268737793,4.205681800842285,3.2513980865478516,-2.121509313583374,4.37983512878418,-0.31245186924934387,1.1975123882293701,1.3458778858184814,1.4660292863845825,0.4952015280723572,-10.963217735290527,1.1893843412399292,-1.6637482643127441,-3.0738704204559326,-1.558563470840454,0.9066425561904907,2.7176194190979004,3.686006546020508,3.3815364837646484,2.7962138652801514,-0.15593944489955902,-8.37587833404541,2.180544376373291],\"yaxis\":\"y3\",\"type\":\"scatter\"}],                        {\"template\":{\"data\":{\"histogram2dcontour\":[{\"type\":\"histogram2dcontour\",\"colorbar\":{\"outlinewidth\":0,\"ticks\":\"\"},\"colorscale\":[[0.0,\"#0d0887\"],[0.1111111111111111,\"#46039f\"],[0.2222222222222222,\"#7201a8\"],[0.3333333333333333,\"#9c179e\"],[0.4444444444444444,\"#bd3786\"],[0.5555555555555556,\"#d8576b\"],[0.6666666666666666,\"#ed7953\"],[0.7777777777777778,\"#fb9f3a\"],[0.8888888888888888,\"#fdca26\"],[1.0,\"#f0f921\"]]}],\"choropleth\":[{\"type\":\"choropleth\",\"colorbar\":{\"outlinewidth\":0,\"ticks\":\"\"}}],\"histogram2d\":[{\"type\":\"histogram2d\",\"colorbar\":{\"outlinewidth\":0,\"ticks\":\"\"},\"colorscale\":[[0.0,\"#0d0887\"],[0.1111111111111111,\"#46039f\"],[0.2222222222222222,\"#7201a8\"],[0.3333333333333333,\"#9c179e\"],[0.4444444444444444,\"#bd3786\"],[0.5555555555555556,\"#d8576b\"],[0.6666666666666666,\"#ed7953\"],[0.7777777777777778,\"#fb9f3a\"],[0.8888888888888888,\"#fdca26\"],[1.0,\"#f0f921\"]]}],\"heatmap\":[{\"type\":\"heatmap\",\"colorbar\":{\"outlinewidth\":0,\"ticks\":\"\"},\"colorscale\":[[0.0,\"#0d0887\"],[0.1111111111111111,\"#46039f\"],[0.2222222222222222,\"#7201a8\"],[0.3333333333333333,\"#9c179e\"],[0.4444444444444444,\"#bd3786\"],[0.5555555555555556,\"#d8576b\"],[0.6666666666666666,\"#ed7953\"],[0.7777777777777778,\"#fb9f3a\"],[0.8888888888888888,\"#fdca26\"],[1.0,\"#f0f921\"]]}],\"heatmapgl\":[{\"type\":\"heatmapgl\",\"colorbar\":{\"outlinewidth\":0,\"ticks\":\"\"},\"colorscale\":[[0.0,\"#0d0887\"],[0.1111111111111111,\"#46039f\"],[0.2222222222222222,\"#7201a8\"],[0.3333333333333333,\"#9c179e\"],[0.4444444444444444,\"#bd3786\"],[0.5555555555555556,\"#d8576b\"],[0.6666666666666666,\"#ed7953\"],[0.7777777777777778,\"#fb9f3a\"],[0.8888888888888888,\"#fdca26\"],[1.0,\"#f0f921\"]]}],\"contourcarpet\":[{\"type\":\"contourcarpet\",\"colorbar\":{\"outlinewidth\":0,\"ticks\":\"\"}}],\"contour\":[{\"type\":\"contour\",\"colorbar\":{\"outlinewidth\":0,\"ticks\":\"\"},\"colorscale\":[[0.0,\"#0d0887\"],[0.1111111111111111,\"#46039f\"],[0.2222222222222222,\"#7201a8\"],[0.3333333333333333,\"#9c179e\"],[0.4444444444444444,\"#bd3786\"],[0.5555555555555556,\"#d8576b\"],[0.6666666666666666,\"#ed7953\"],[0.7777777777777778,\"#fb9f3a\"],[0.8888888888888888,\"#fdca26\"],[1.0,\"#f0f921\"]]}],\"surface\":[{\"type\":\"surface\",\"colorbar\":{\"outlinewidth\":0,\"ticks\":\"\"},\"colorscale\":[[0.0,\"#0d0887\"],[0.1111111111111111,\"#46039f\"],[0.2222222222222222,\"#7201a8\"],[0.3333333333333333,\"#9c179e\"],[0.4444444444444444,\"#bd3786\"],[0.5555555555555556,\"#d8576b\"],[0.6666666666666666,\"#ed7953\"],[0.7777777777777778,\"#fb9f3a\"],[0.8888888888888888,\"#fdca26\"],[1.0,\"#f0f921\"]]}],\"mesh3d\":[{\"type\":\"mesh3d\",\"colorbar\":{\"outlinewidth\":0,\"ticks\":\"\"}}],\"scatter\":[{\"fillpattern\":{\"fillmode\":\"overlay\",\"size\":10,\"solidity\":0.2},\"type\":\"scatter\"}],\"parcoords\":[{\"type\":\"parcoords\",\"line\":{\"colorbar\":{\"outlinewidth\":0,\"ticks\":\"\"}}}],\"scatterpolargl\":[{\"type\":\"scatterpolargl\",\"marker\":{\"colorbar\":{\"outlinewidth\":0,\"ticks\":\"\"}}}],\"bar\":[{\"error_x\":{\"color\":\"#2a3f5f\"},\"error_y\":{\"color\":\"#2a3f5f\"},\"marker\":{\"line\":{\"color\":\"#E5ECF6\",\"width\":0.5},\"pattern\":{\"fillmode\":\"overlay\",\"size\":10,\"solidity\":0.2}},\"type\":\"bar\"}],\"scattergeo\":[{\"type\":\"scattergeo\",\"marker\":{\"colorbar\":{\"outlinewidth\":0,\"ticks\":\"\"}}}],\"scatterpolar\":[{\"type\":\"scatterpolar\",\"marker\":{\"colorbar\":{\"outlinewidth\":0,\"ticks\":\"\"}}}],\"histogram\":[{\"marker\":{\"pattern\":{\"fillmode\":\"overlay\",\"size\":10,\"solidity\":0.2}},\"type\":\"histogram\"}],\"scattergl\":[{\"type\":\"scattergl\",\"marker\":{\"colorbar\":{\"outlinewidth\":0,\"ticks\":\"\"}}}],\"scatter3d\":[{\"type\":\"scatter3d\",\"line\":{\"colorbar\":{\"outlinewidth\":0,\"ticks\":\"\"}},\"marker\":{\"colorbar\":{\"outlinewidth\":0,\"ticks\":\"\"}}}],\"scattermapbox\":[{\"type\":\"scattermapbox\",\"marker\":{\"colorbar\":{\"outlinewidth\":0,\"ticks\":\"\"}}}],\"scatterternary\":[{\"type\":\"scatterternary\",\"marker\":{\"colorbar\":{\"outlinewidth\":0,\"ticks\":\"\"}}}],\"scattercarpet\":[{\"type\":\"scattercarpet\",\"marker\":{\"colorbar\":{\"outlinewidth\":0,\"ticks\":\"\"}}}],\"carpet\":[{\"aaxis\":{\"endlinecolor\":\"#2a3f5f\",\"gridcolor\":\"white\",\"linecolor\":\"white\",\"minorgridcolor\":\"white\",\"startlinecolor\":\"#2a3f5f\"},\"baxis\":{\"endlinecolor\":\"#2a3f5f\",\"gridcolor\":\"white\",\"linecolor\":\"white\",\"minorgridcolor\":\"white\",\"startlinecolor\":\"#2a3f5f\"},\"type\":\"carpet\"}],\"table\":[{\"cells\":{\"fill\":{\"color\":\"#EBF0F8\"},\"line\":{\"color\":\"white\"}},\"header\":{\"fill\":{\"color\":\"#C8D4E3\"},\"line\":{\"color\":\"white\"}},\"type\":\"table\"}],\"barpolar\":[{\"marker\":{\"line\":{\"color\":\"#E5ECF6\",\"width\":0.5},\"pattern\":{\"fillmode\":\"overlay\",\"size\":10,\"solidity\":0.2}},\"type\":\"barpolar\"}],\"pie\":[{\"automargin\":true,\"type\":\"pie\"}]},\"layout\":{\"autotypenumbers\":\"strict\",\"colorway\":[\"#636efa\",\"#EF553B\",\"#00cc96\",\"#ab63fa\",\"#FFA15A\",\"#19d3f3\",\"#FF6692\",\"#B6E880\",\"#FF97FF\",\"#FECB52\"],\"font\":{\"color\":\"#2a3f5f\"},\"hovermode\":\"closest\",\"hoverlabel\":{\"align\":\"left\"},\"paper_bgcolor\":\"white\",\"plot_bgcolor\":\"#E5ECF6\",\"polar\":{\"bgcolor\":\"#E5ECF6\",\"angularaxis\":{\"gridcolor\":\"white\",\"linecolor\":\"white\",\"ticks\":\"\"},\"radialaxis\":{\"gridcolor\":\"white\",\"linecolor\":\"white\",\"ticks\":\"\"}},\"ternary\":{\"bgcolor\":\"#E5ECF6\",\"aaxis\":{\"gridcolor\":\"white\",\"linecolor\":\"white\",\"ticks\":\"\"},\"baxis\":{\"gridcolor\":\"white\",\"linecolor\":\"white\",\"ticks\":\"\"},\"caxis\":{\"gridcolor\":\"white\",\"linecolor\":\"white\",\"ticks\":\"\"}},\"coloraxis\":{\"colorbar\":{\"outlinewidth\":0,\"ticks\":\"\"}},\"colorscale\":{\"sequential\":[[0.0,\"#0d0887\"],[0.1111111111111111,\"#46039f\"],[0.2222222222222222,\"#7201a8\"],[0.3333333333333333,\"#9c179e\"],[0.4444444444444444,\"#bd3786\"],[0.5555555555555556,\"#d8576b\"],[0.6666666666666666,\"#ed7953\"],[0.7777777777777778,\"#fb9f3a\"],[0.8888888888888888,\"#fdca26\"],[1.0,\"#f0f921\"]],\"sequentialminus\":[[0.0,\"#0d0887\"],[0.1111111111111111,\"#46039f\"],[0.2222222222222222,\"#7201a8\"],[0.3333333333333333,\"#9c179e\"],[0.4444444444444444,\"#bd3786\"],[0.5555555555555556,\"#d8576b\"],[0.6666666666666666,\"#ed7953\"],[0.7777777777777778,\"#fb9f3a\"],[0.8888888888888888,\"#fdca26\"],[1.0,\"#f0f921\"]],\"diverging\":[[0,\"#8e0152\"],[0.1,\"#c51b7d\"],[0.2,\"#de77ae\"],[0.3,\"#f1b6da\"],[0.4,\"#fde0ef\"],[0.5,\"#f7f7f7\"],[0.6,\"#e6f5d0\"],[0.7,\"#b8e186\"],[0.8,\"#7fbc41\"],[0.9,\"#4d9221\"],[1,\"#276419\"]]},\"xaxis\":{\"gridcolor\":\"white\",\"linecolor\":\"white\",\"ticks\":\"\",\"title\":{\"standoff\":15},\"zerolinecolor\":\"white\",\"automargin\":true,\"zerolinewidth\":2},\"yaxis\":{\"gridcolor\":\"white\",\"linecolor\":\"white\",\"ticks\":\"\",\"title\":{\"standoff\":15},\"zerolinecolor\":\"white\",\"automargin\":true,\"zerolinewidth\":2},\"scene\":{\"xaxis\":{\"backgroundcolor\":\"#E5ECF6\",\"gridcolor\":\"white\",\"linecolor\":\"white\",\"showbackground\":true,\"ticks\":\"\",\"zerolinecolor\":\"white\",\"gridwidth\":2},\"yaxis\":{\"backgroundcolor\":\"#E5ECF6\",\"gridcolor\":\"white\",\"linecolor\":\"white\",\"showbackground\":true,\"ticks\":\"\",\"zerolinecolor\":\"white\",\"gridwidth\":2},\"zaxis\":{\"backgroundcolor\":\"#E5ECF6\",\"gridcolor\":\"white\",\"linecolor\":\"white\",\"showbackground\":true,\"ticks\":\"\",\"zerolinecolor\":\"white\",\"gridwidth\":2}},\"shapedefaults\":{\"line\":{\"color\":\"#2a3f5f\"}},\"annotationdefaults\":{\"arrowcolor\":\"#2a3f5f\",\"arrowhead\":0,\"arrowwidth\":1},\"geo\":{\"bgcolor\":\"white\",\"landcolor\":\"#E5ECF6\",\"subunitcolor\":\"white\",\"showland\":true,\"showlakes\":true,\"lakecolor\":\"white\"},\"title\":{\"x\":0.05},\"mapbox\":{\"style\":\"light\"}}},\"xaxis\":{\"anchor\":\"y\",\"domain\":[0.0,0.2888888888888889]},\"yaxis\":{\"anchor\":\"x\",\"domain\":[0.0,1.0],\"title\":{\"text\":\"g2c[MlM_gen][genders_of_persons.TreeSet.equal,types_of_things.TreeSet.child][cxt_len=3]\"}},\"xaxis2\":{\"anchor\":\"y2\",\"domain\":[0.35555555555555557,0.6444444444444445]},\"yaxis2\":{\"anchor\":\"x2\",\"domain\":[0.0,1.0]},\"xaxis3\":{\"anchor\":\"y3\",\"domain\":[0.7111111111111111,1.0]},\"yaxis3\":{\"anchor\":\"x3\",\"domain\":[0.0,1.0]},\"annotations\":[{\"font\":{\"size\":16},\"showarrow\":false,\"text\":\"layer 24\",\"x\":0.14444444444444446,\"xanchor\":\"center\",\"xref\":\"paper\",\"y\":1.0,\"yanchor\":\"bottom\",\"yref\":\"paper\"},{\"font\":{\"size\":16},\"showarrow\":false,\"text\":\"layer 36\",\"x\":0.5,\"xanchor\":\"center\",\"xref\":\"paper\",\"y\":1.0,\"yanchor\":\"bottom\",\"yref\":\"paper\"},{\"font\":{\"size\":16},\"showarrow\":false,\"text\":\"layer 50\",\"x\":0.8555555555555556,\"xanchor\":\"center\",\"xref\":\"paper\",\"y\":1.0,\"yanchor\":\"bottom\",\"yref\":\"paper\"}],\"coloraxis\":{\"colorscale\":[[0.0,\"rgb(255,0,0)\"],[1.0,\"rgb(0,0,255)\"]],\"showscale\":false},\"height\":800,\"width\":1200,\"title\":{\"font\":{\"size\":20},\"text\":\"Dataset visualizations across layers lmsys\\u002fvicuna-33b-v1.3\"}},                        {\"responsive\": true}                    ).then(function(){\n",
       "                            \n",
       "var gd = document.getElementById('e2ce45e2-25b6-4fb3-a0e7-f38b4fa7f9cd');\n",
       "var x = new MutationObserver(function (mutations, observer) {{\n",
       "        var display = window.getComputedStyle(gd).display;\n",
       "        if (!display || display === 'none') {{\n",
       "            console.log([gd, 'removed!']);\n",
       "            Plotly.purge(gd);\n",
       "            observer.disconnect();\n",
       "        }}\n",
       "}});\n",
       "\n",
       "// Listen for the removal of the full notebook cells\n",
       "var notebookContainer = gd.closest('#notebook-container');\n",
       "if (notebookContainer) {{\n",
       "    x.observe(notebookContainer, {childList: true});\n",
       "}}\n",
       "\n",
       "// Listen for the clearing of the current output cell\n",
       "var outputEl = gd.closest('.output');\n",
       "if (outputEl) {{\n",
       "    x.observe(outputEl, {childList: true});\n",
       "}}\n",
       "\n",
       "                        })                };                });            </script>        </div>"
      ]
     },
     "metadata": {},
     "output_type": "display_data"
    }
   ],
   "source": [
    "from nrk.geometry.visualization_utils_modify import *\n",
    "from plotly.subplots import make_subplots\n",
    "from nrk.geometry.generate_acts import get_acts\n",
    "\n",
    "layers = [24, 36, 50]\n",
    "figs = []\n",
    "for layer in layers:\n",
    "    fig = TruthData.from_datasets(\n",
    "        [\"typeofthing\"],\n",
    "        r,\n",
    "        cxt_len,\n",
    "        batch_size = batch_size,\n",
    "        model_size = model_name,\n",
    "        layer=layer,\n",
    "        start=k_shot, \n",
    "        end=nrows,\n",
    "        pattern = 'mlp',\n",
    "        device=device\n",
    "        ).plot(\n",
    "            dimensions=2,\n",
    "            color='label',\n",
    "        )\n",
    "    figs.append(fig)\n",
    "\n",
    "fig = make_subplots(rows = 1, cols = len(layers),\n",
    "                    subplot_titles=[f\"layer {layer}\" for layer in layers],\n",
    "                    vertical_spacing=0.05)\n",
    "        \n",
    "for j, layer in enumerate(layers):\n",
    "    for data in figs[j].data:\n",
    "        data['showlegend'] = False\n",
    "        fig.add_trace(data, row=1, col=j+1)\n",
    "        \n",
    "\n",
    "fig.update_yaxes(title_text=res_key, row=1, col=1)\n",
    "\n",
    "fig.update_coloraxes(\n",
    "    colorscale='Bluered_r'\n",
    ")\n",
    "\n",
    "fig.update_layout(height=800, width=1200, coloraxis_showscale=False)\n",
    "\n",
    "fig.update_layout(\n",
    "    title = {\n",
    "        'text' : f\"Dataset visualizations across layers {model_name}\",\n",
    "        'font' : {'size' : 20},\n",
    "    }\n",
    ")\n",
    "\n",
    "fig.show()"
   ]
  },
  {
   "cell_type": "code",
   "execution_count": 41,
   "id": "1ebd284d",
   "metadata": {},
   "outputs": [
    {
     "name": "stdout",
     "output_type": "stream",
     "text": [
      "31-52 -> 54-4 B->B\n",
      "scaled_logprobs = tensor([-0.5493, -0.5469, -0.5444, -0.5420, -0.5396, -0.5371], device='cuda:1',\n",
      "       dtype=torch.float16)\n",
      "*▁ 1.0 {'▁': 1.0, '</s>': 0.0, '<unk>': 0.0, '<s>': 0.0} \t < John arrived in 2013. David arrived in 2016. Christopher arrived in 2014. >. John appeared the year just before 2014 *▁:-0.002\n",
      "*▁ 1.0 {'▁': 1.0, '</s>': 0.0, '<unk>': 0.0, '<s>': 0.0} \t  < Lisa arrived at 2 o'clock. Kimberly arrived at 7 o'clock. Sharon arrived at 3 o'clock. >. Sharon appeared the time just before 4 o'clock *▁:-0.004\n",
      "*▁August 0.343 {'▁August': 0.342, '▁November': 0.335, '▁June': 0.322, '<unk>': 0.0} \t  < Christopher arrived in October. Carol arrived in July. Helen arrived in May. >. Carol appeared the month just before August ▁June:-0.019 ▁November:0.020 *▁August:0.042\n",
      "*▁ 1.0 {'▁': 1.0, '</s>': 0.0, '<unk>': 0.0, '<s>': 0.0} \t  < John arrived at 6 o'clock. Betty arrived at 7 o'clock. Edward arrived at 9 o'clock. >. Betty appeared the time just before 8 o'clock *▁:-0.004\n",
      "*▁April 0.348 {'▁April': 0.348, '▁July': 0.332, '▁September': 0.32, '<unk>': 0.0} \t  < Carol arrived in August. Barbara arrived in June. Kimberly arrived in March. >. Kimberly appeared the month just before April *▁April:0.068 ▁July:0.021 ▁September:-0.017\n",
      "*▁ 1.0 {'▁': 1.0, '</s>': 0.0, '<unk>': 0.0, '<s>': 0.0} \t  < Mark arrived at 8 o'clock. Ronald arrived at 9 o'clock. William arrived at 4 o'clock. >. William appeared the time just before 5 o'clock *▁:-0.003\n",
      "*▁ 1.0 {'▁': 1.0, '</s>': 0.0, '<unk>': 0.0, '<s>': 0.0} \t  < Sharon arrived in 2012. Carol arrived in 2014. Laura arrived in 2015. >. Laura appeared the year just before 2016 *▁:-0.004\n",
      " ▁Friday 0.334 {'▁Th': 0.334, '▁Friday': 0.334, '▁Saturday': 0.332, '<unk>': 0.0} \t  < Barbara arrived on Thursday. Kimberly arrived on Wednesday. Lisa arrived on Friday. >. Barbara appeared the day just before Friday *▁Friday:0.002 ▁Th:0.002 ▁Saturday:-0.001\n",
      "tensor([1.0713, -0.0000, 1.0547, -0.0000, -0.0000, 1.0977], device='cuda:1',\n",
      "       dtype=torch.float16) 0.75\n"
     ]
    },
    {
     "data": {
      "image/png": "[encoded data removed]",
      "text/plain": [
       "<Figure size 1000x240 with 2 Axes>"
      ]
     },
     "metadata": {},
     "output_type": "display_data"
    },
    {
     "name": "stdout",
     "output_type": "stream",
     "text": [
      "scaled_logprobs = tensor([-0.5493, -0.5493, -0.5488, -0.5488, -0.5488, -0.5483], device='cuda:1',\n",
      "       dtype=torch.float16)\n",
      "*▁ 1.0 {'▁': 1.0, '</s>': 0.0, '<unk>': 0.0, '<s>': 0.0} \t < Nancy arrived at 9 o'clock. Deborah arrived at 4 o'clock. Dorothy arrived at 11 o'clock. >. Dorothy appeared the time just before 12 o'clock *▁:-0.001\n",
      "*▁ 1.0 {'▁': 1.0, '</s>': 0.0, '<unk>': 0.0, '<s>': 0.0} \t  < William arrived in 2013. David arrived in 2014. Daniel arrived in 2015. >. William appeared the year just before 2014 *▁:-0.003\n",
      "*▁ 1.0 {'▁': 1.0, '</s>': 0.0, '<unk>': 0.0, '<s>': 0.0} \t  < Sharon arrived at 5 o'clock. Betty arrived at 10 o'clock. Kenneth arrived at 4 o'clock. >. Sharon appeared the time just before 6 o'clock *▁:-0.002\n",
      " ▁aut 0.334 {'▁summer': 0.336, '▁aut': 0.334, '▁winter': 0.33, '<unk>': 0.0} \t  < Daniel arrived in spring. Donna arrived in summer. Michael arrived in autumn. >. Donna appeared the season just before autumn *▁aut:-0.010 ▁summer:-0.008 ▁winter:-0.024\n",
      " ▁Friday 0.333 {'▁Th': 0.334, '▁Friday': 0.334, '▁Wed': 0.332, '<unk>': 0.0} \t  < Ronald arrived on Thursday. John arrived on Wednesday. Donald arrived on Tuesday. >. Ronald appeared the day just before Friday *▁Friday:0.000 ▁Wed:-0.004 ▁Th:0.002\n",
      " ▁Friday 0.333 {'▁Th': 0.334, '▁Friday': 0.334, '▁T': 0.333, '<unk>': 0.0} \t  < Richard arrived on Thursday. Sandra arrived on Wednesday. Ruth arrived on Monday. >. Richard appeared the day just before Friday *▁Friday:0.000 ▁Th:0.001 ▁T:-0.001\n",
      "*▁ 1.0 {'▁': 1.0, '</s>': 0.0, '<unk>': 0.0, '<s>': 0.0} \t  < Linda arrived at 9 o'clock. Michael arrived at 7 o'clock. Paul arrived at 5 o'clock. >. Michael appeared the time just before 8 o'clock *▁:-0.001\n",
      "*▁ 1.0 {'▁': 1.0, '</s>': 0.0, '<unk>': 0.0, '<s>': 0.0} \t  < Deborah arrived at 4 o'clock. John arrived at 9 o'clock. Margaret arrived at 7 o'clock. >. Margaret appeared the time just before 8 o'clock *▁:-0.001\n",
      "tensor([-0.0000, 1.0947, 1.0977, 1.0986, -0.0000, -0.0000], device='cuda:1',\n",
      "       dtype=torch.float16) 0.5\n"
     ]
    },
    {
     "data": {
      "image/png": "[encoded data removed]",
      "text/plain": [
       "<Figure size 1000x240 with 2 Axes>"
      ]
     },
     "metadata": {},
     "output_type": "display_data"
    },
    {
     "name": "stdout",
     "output_type": "stream",
     "text": [
      "scaled_logprobs = tensor([-0.7324, -0.7300, -0.7280, -0.7261, -0.7246, -0.7241], device='cuda:1',\n",
      "       dtype=torch.float16)\n",
      " ▁winter 0.332 {'▁summer': 0.338, '▁winter': 0.332, '▁aut': 0.33, '<unk>': 0.0} \t < Jason arrived in spring. Kevin arrived in summer. Anthony arrived in autumn. >. Anthony showed up the season just before winter ▁aut:-0.015 ▁summer:0.008 *▁winter:-0.008\n",
      " ▁Saturday 0.333 {'▁Th': 0.334, '▁Saturday': 0.333, '▁T': 0.333, '<unk>': 0.0} \t  < Ronald arrived on Friday. Kimberly arrived on Monday. Joseph arrived on Wednesday. >. Ronald showed up the day just before Saturday ▁Th:-0.002 ▁T:-0.005 *▁Saturday:-0.005\n",
      " ▁December 0.317 {'▁July': 0.346, '▁September': 0.337, '▁December': 0.318, '<unk>': 0.0} \t  < Mark arrived in June. Steven arrived in November. Joseph arrived in August. >. Steven showed up the month just before December ▁July:0.058 *▁December:-0.028 ▁September:0.032\n",
      "*▁ 1.0 {'▁': 1.0, '</s>': 0.0, '<unk>': 0.0, '<s>': 0.0} \t  < Laura arrived at 2 o'clock. Nancy arrived at 7 o'clock. Joseph arrived at 6 o'clock. >. Laura showed up the time just before 3 o'clock *▁:-0.002\n",
      "*▁ 1.0 {'▁': 1.0, '</s>': 0.0, '<unk>': 0.0, '<s>': 0.0} \t  < Linda arrived in 2010. Margaret arrived in 2012. Ruth arrived in 2011. >. Margaret showed up the year just before 2013 *▁:-0.002\n",
      " ▁March 0.362 {'▁February': 0.419, '▁March': 0.362, '▁July': 0.22, '<unk>': 0.0} \t  < Nancy arrived in January. Donna arrived in June. Steven arrived in February. >. Steven showed up the month just before March ▁February:0.584 ▁July:-0.062 *▁March:0.438\n",
      " ▁T 0.333 {'▁Friday': 0.334, '▁Th': 0.334, '▁T': 0.333, '<unk>': 0.0} \t  < Linda arrived on Wednesday. Helen arrived on Monday. Elizabeth arrived on Thursday. >. Helen showed up the day just before Tuesday ▁Friday:0.001 ▁Th:0.001 *▁T:-0.001\n",
      "*▁summer 0.339 {'▁summer': 0.339, '▁winter': 0.332, '▁aut': 0.329, '<unk>': 0.0} \t  < William arrived in summer. Jeff arrived in autumn. Kenneth arrived in spring. >. Kenneth showed up the season just before summer ▁aut:-0.022 *▁summer:0.009 ▁winter:-0.014\n",
      "tensor([1.1475, -0.0000, -0.0000, 1.0166, 1.0996, 1.0811], device='cuda:1',\n",
      "       dtype=torch.float16) 0.5\n"
     ]
    },
    {
     "data": {
      "image/png": "[encoded data removed]",
      "text/plain": [
       "<Figure size 1000x240 with 2 Axes>"
      ]
     },
     "metadata": {},
     "output_type": "display_data"
    },
    {
     "name": "stdout",
     "output_type": "stream",
     "text": [
      "scaled_logprobs = tensor([-0.9155, -0.9121, -0.9082, -0.9048, -0.9023, -0.8989], device='cuda:1',\n",
      "       dtype=torch.float16)\n",
      "*▁Friday 0.334 {'▁Friday': 0.334, '▁Saturday': 0.334, '▁Wed': 0.333, '<unk>': 0.0} \t < Elizabeth arrived on Tuesday. Richard arrived on Friday. Mark arrived on Thursday. >. Mark showed up the day just before Friday *▁Friday:0.004 ▁Wed:0.000 ▁Saturday:0.003\n",
      "*▁ 1.0 {'▁': 1.0, '</s>': 0.0, '<unk>': 0.0, '<s>': 0.0} \t  < Thomas arrived at 8 o'clock. Mary arrived at 10 o'clock. Betty arrived at 5 o'clock. >. Betty showed up the time just before 6 o'clock *▁:-0.003\n",
      "*▁Th 0.334 {'▁Th': 0.334, '▁Wed': 0.334, '▁T': 0.332, '<unk>': 0.0} \t  < Richard arrived on Tuesday. Christopher arrived on Monday. Karen arrived on Wednesday. >. Karen showed up the day just before Thursday *▁Th:0.001 ▁Wed:0.000 ▁T:-0.004\n",
      "*▁ 1.0 {'▁': 1.0, '</s>': 0.0, '<unk>': 0.0, '<s>': 0.0} \t  < Donna arrived at 10 o'clock. Lisa arrived at 5 o'clock. Brian arrived at 2 o'clock. >. Donna showed up the time just before 11 o'clock *▁:-0.003\n",
      "*▁November 0.373 {'▁November': 0.373, '▁October': 0.354, '▁August': 0.273, '<unk>': 0.0} \t  < Jennifer arrived in September. Linda arrived in October. Paul arrived in July. >. Linda showed up the month just before November *▁November:0.155 ▁October:0.103 ▁August:-0.156\n",
      " ▁winter 0.335 {'▁summer': 0.338, '▁winter': 0.335, '▁aut': 0.328, '<unk>': 0.0} \t  < Michelle arrived in spring. Sandra arrived in summer. Karen arrived in autumn. >. Karen showed up the season just before winter ▁aut:-0.036 ▁summer:-0.006 *▁winter:-0.015\n",
      " ▁September 0.328 {'▁October': 0.338, '▁August': 0.334, '▁September': 0.328, '<unk>': 0.0} \t  < Kevin arrived in August. David arrived in July. Anthony arrived in September. >. Kevin showed up the month just before September ▁August:-0.022 ▁October:-0.011 *▁September:-0.041\n",
      " ▁Wed 0.333 {'▁Friday': 0.334, '▁Wed': 0.333, '▁T': 0.333, '<unk>': 0.0} \t  < Richard arrived on Thursday. Anthony arrived on Tuesday. Deborah arrived on Monday. >. Anthony showed up the day just before Wednesday ▁Friday:0.002 *▁Wed:-0.001 ▁T:-0.001\n",
      "tensor([1.0967, -0.0000, 0.9868, 1.0947, 1.1152, 1.0996], device='cuda:1',\n",
      "       dtype=torch.float16) 0.25\n"
     ]
    },
    {
     "data": {
      "image/png": "[encoded data removed]",
      "text/plain": [
       "<Figure size 1000x240 with 2 Axes>"
      ]
     },
     "metadata": {},
     "output_type": "display_data"
    },
    {
     "name": "stdout",
     "output_type": "stream",
     "text": [
      "scaled_logprobs = tensor([-0.9155, -0.9023, -0.8892, -0.8770, -0.8657, -0.8550], device='cuda:1',\n",
      "       dtype=torch.float16)\n",
      "*▁ 1.0 {'▁': 1.0, '</s>': 0.0, '<unk>': 0.0, '<s>': 0.0} \t < Kimberly arrived in 2010. Richard arrived in 2017. Elizabeth arrived in 2016. >. Kimberly arrived the year just before 2011 *▁:-0.002\n",
      "*▁ 1.0 {'▁': 1.0, '</s>': 0.0, '<unk>': 0.0, '<s>': 0.0} \t  < Jennifer arrived at 3 o'clock. Sandra arrived at 10 o'clock. Richard arrived at 4 o'clock. >. Jennifer arrived the time just before 4 o'clock *▁:-0.003\n",
      "*▁ 1.0 {'▁': 1.0, '</s>': 0.0, '<unk>': 0.0, '<s>': 0.0} \t  < John arrived in 2012. Mark arrived in 2013. Michael arrived in 2017. >. Mark arrived the year just before 2014 *▁:-0.003\n",
      " ▁winter 0.333 {'▁summer': 0.338, '▁winter': 0.332, '▁aut': 0.33, '<unk>': 0.0} \t  < Donald arrived in summer. Steven arrived in autumn. Mark arrived in spring. >. Steven arrived the season just before winter ▁aut:-0.035 ▁summer:-0.010 *▁winter:-0.026\n",
      " ▁summer 0.332 {'▁winter': 0.334, '▁aut': 0.334, '▁summer': 0.332, '<unk>': 0.0} \t  < Margaret arrived in spring. Sandra arrived in summer. David arrived in autumn. >. Margaret arrived the season just before summer ▁aut:-0.005 *▁summer:-0.011 ▁winter:-0.003\n",
      " ▁aut 0.333 {'▁summer': 0.336, '▁aut': 0.333, '▁winter': 0.331, '<unk>': 0.0} \t  < Donald arrived in spring. Kimberly arrived in autumn. Helen arrived in summer. >. Helen arrived the season just before autumn *▁aut:-0.014 ▁summer:-0.005 ▁winter:-0.021\n",
      " ▁Wed 0.333 {'▁Saturday': 0.334, '▁Th': 0.334, '▁Wed': 0.333, '<unk>': 0.0} \t  < Edward arrived on Wednesday. Helen arrived on Friday. Steven arrived on Tuesday. >. Steven arrived the day just before Wednesday *▁Wed:-0.002 ▁Th:0.000 ▁Saturday:0.001\n",
      "*▁March 0.485 {'▁March': 0.485, '▁December': 0.259, '▁July': 0.256, '<unk>': 0.0} \t  < Christopher arrived in February. Jason arrived in June. Susan arrived in November. >. Christopher arrived the month just before March *▁March:0.576 ▁July:-0.064 ▁December:-0.050\n",
      "tensor([-0.0000, 1.1016, 1.1035, 1.0996, 1.1006, 0.7236], device='cuda:1',\n",
      "       dtype=torch.float16) 0.25\n"
     ]
    },
    {
     "data": {
      "image/png": "[encoded data removed]",
      "text/plain": [
       "<Figure size 1000x240 with 2 Axes>"
      ]
     },
     "metadata": {},
     "output_type": "display_data"
    },
    {
     "name": "stdout",
     "output_type": "stream",
     "text": [
      "scaled_logprobs = tensor([-0.7324, -0.7305, -0.7285, -0.7266, -0.7251, -0.7231], device='cuda:1',\n",
      "       dtype=torch.float16)\n",
      " ▁June 0.337 {'▁July': 0.348, '▁June': 0.338, '▁October': 0.315, '<unk>': 0.0} \t < Margaret arrived in June. Sandra arrived in September. Sarah arrived in May. >. Sarah showed up the month just before June *▁June:-0.002 ▁July:0.027 ▁October:-0.071\n",
      " ▁T 0.332 {'▁Friday': 0.335, '▁Wed': 0.333, '▁T': 0.332, '<unk>': 0.0} \t  < Jason arrived on Monday. Susan arrived on Tuesday. Lisa arrived on Thursday. >. Jason showed up the day just before Tuesday ▁Friday:0.001 ▁Wed:-0.004 *▁T:-0.006\n",
      "*▁ 1.0 {'▁': 1.0, '</s>': 0.0, '<unk>': 0.0, '<s>': 0.0} \t  < Elizabeth arrived in 2017. Patricia arrived in 2011. Jennifer arrived in 2016. >. Elizabeth showed up the year just before 2018 *▁:-0.002\n",
      "*▁April 0.353 {'▁April': 0.353, '▁October': 0.325, '▁November': 0.322, '<unk>': 0.0} \t  < Nancy arrived in March. James arrived in October. Edward arrived in September. >. Nancy showed up the month just before April *▁April:0.133 ▁November:0.041 ▁October:0.050\n",
      " ▁aut 0.332 {'▁summer': 0.336, '▁aut': 0.332, '▁winter': 0.332, '<unk>': 0.0} \t  < Elizabeth arrived in autumn. William arrived in summer. Michael arrived in spring. >. William showed up the season just before autumn *▁aut:-0.015 ▁summer:-0.001 ▁winter:-0.016\n",
      "*▁aut 0.334 {'▁aut': 0.334, '▁winter': 0.334, '▁summer': 0.332, '<unk>': 0.0} \t  < Donna arrived in autumn. Christopher arrived in summer. Carol arrived in spring. >. Christopher showed up the season just before autumn *▁aut:-0.007 ▁summer:-0.011 ▁winter:-0.009\n",
      "*▁ 1.0 {'▁': 1.0, '</s>': 0.0, '<unk>': 0.0, '<s>': 0.0} \t  < Barbara arrived at 9 o'clock. Thomas arrived at 7 o'clock. Patricia arrived at 6 o'clock. >. Patricia showed up the time just before 7 o'clock *▁:-0.003\n",
      " ▁Wed 0.333 {'▁Saturday': 0.334, '▁Wed': 0.333, '▁T': 0.333, '<unk>': 0.0} \t  < Helen arrived on Tuesday. Richard arrived on Friday. Lisa arrived on Monday. >. Helen showed up the day just before Wednesday ▁T:-0.002 *▁Wed:-0.001 ▁Saturday:0.001\n",
      "tensor([-0.0000, 1.0410, 1.1025, 1.0967, -0.0000, 1.0986], device='cuda:1',\n",
      "       dtype=torch.float16) 0.5\n"
     ]
    },
    {
     "data": {
      "image/png": "[encoded data removed]",
      "text/plain": [
       "<Figure size 1000x240 with 2 Axes>"
      ]
     },
     "metadata": {},
     "output_type": "display_data"
    },
    {
     "name": "stdout",
     "output_type": "stream",
     "text": [
      "scaled_logprobs = tensor([-0.3662, -0.3660, -0.3660, -0.3660, -0.3660, -0.3660], device='cuda:1',\n",
      "       dtype=torch.float16)\n",
      "*▁Friday 0.334 {'▁Friday': 0.334, '▁Saturday': 0.334, '▁Wed': 0.333, '<unk>': 0.0} \t < Barbara arrived on Friday. Robert arrived on Thursday. John arrived on Tuesday. >. Robert appeared the day just before Friday *▁Friday:0.002 ▁Wed:-0.001 ▁Saturday:0.001\n",
      " ▁winter 0.329 {'▁summer': 0.341, '▁aut': 0.33, '▁winter': 0.329, '<unk>': 0.0} \t  < Edward arrived in autumn. Michelle arrived in spring. Ronald arrived in summer. >. Edward appeared the season just before winter ▁aut:-0.029 ▁summer:0.006 *▁winter:-0.031\n",
      "*▁ 1.0 {'▁': 1.0, '</s>': 0.0, '<unk>': 0.0, '<s>': 0.0} \t  < Brian arrived at 2 o'clock. Michael arrived at 1 o'clock. Karen arrived at 6 o'clock. >. Michael appeared the time just before 2 o'clock *▁:-0.003\n",
      "*▁ 1.0 {'▁': 1.0, '</s>': 0.0, '<unk>': 0.0, '<s>': 0.0} \t  < Donald arrived in 2011. Margaret arrived in 2015. Paul arrived in 2017. >. Donald appeared the year just before 2012 *▁:-0.001\n",
      " ▁Wed 0.333 {'▁Friday': 0.334, '▁Saturday': 0.333, '▁Wed': 0.333, '<unk>': 0.0} \t  < John arrived on Tuesday. Sharon arrived on Friday. Thomas arrived on Thursday. >. John appeared the day just before Wednesday ▁Friday:0.002 *▁Wed:-0.000 ▁Saturday:-0.001\n",
      "*▁May 0.334 {'▁May': 0.334, '▁November': 0.334, '▁August': 0.331, '<unk>': 0.0} \t  < Michelle arrived in July. Daniel arrived in October. Helen arrived in April. >. Helen appeared the month just before May *▁May:0.032 ▁November:0.032 ▁August:0.021\n",
      "*▁ 1.0 {'▁': 1.0, '</s>': 0.0, '<unk>': 0.0, '<s>': 0.0} \t  < Jeff arrived in 2013. Daniel arrived in 2015. Kimberly arrived in 2018. >. Daniel appeared the year just before 2016 *▁:-0.001\n",
      "*▁ 1.0 {'▁': 1.0, '</s>': 0.0, '<unk>': 0.0, '<s>': 0.0} \t  < Elizabeth arrived at 1 o'clock. Jason arrived at 6 o'clock. Barbara arrived at 3 o'clock. >. Barbara appeared the time just before 4 o'clock *▁:-0.001\n",
      "tensor([-0.0000, -0.0000, 1.0996, 1.0947, -0.0000, -0.0000], device='cuda:1',\n",
      "       dtype=torch.float16) 0.75\n"
     ]
    },
    {
     "data": {
      "image/png": "[encoded data removed]",
      "text/plain": [
       "<Figure size 1000x240 with 2 Axes>"
      ]
     },
     "metadata": {},
     "output_type": "display_data"
    },
    {
     "name": "stdout",
     "output_type": "stream",
     "text": [
      "scaled_logprobs = tensor([-0.7324, -0.7271, -0.7227, -0.7173, -0.7129, -0.7085], device='cuda:1',\n",
      "       dtype=torch.float16)\n",
      " ▁aut 0.331 {'▁summer': 0.338, '▁aut': 0.331, '▁winter': 0.331, '<unk>': 0.0} \t < David arrived in spring. Helen arrived in summer. Lisa arrived in autumn. >. Helen appeared the season just before autumn *▁aut:-0.013 ▁summer:0.006 ▁winter:-0.015\n",
      "*▁March 0.46 {'▁March': 0.46, '▁December': 0.308, '▁September': 0.232, '<unk>': 0.0} \t  < Robert arrived in February. Jeff arrived in November. Elizabeth arrived in August. >. Robert appeared the month just before March *▁March:0.370 ▁December:-0.031 ▁September:-0.317\n",
      "*▁Th 0.334 {'▁Th': 0.334, '▁Wed': 0.333, '▁T': 0.333, '<unk>': 0.0} \t  < Donna arrived on Monday. Thomas arrived on Wednesday. Ronald arrived on Tuesday. >. Thomas appeared the day just before Thursday ▁Wed:-0.002 *▁Th:0.001 ▁T:-0.003\n",
      "*▁Friday 0.334 {'▁Friday': 0.334, '▁Th': 0.333, '▁Saturday': 0.333, '<unk>': 0.0} \t  < Betty arrived on Wednesday. Deborah arrived on Friday. Carol arrived on Thursday. >. Carol appeared the day just before Friday *▁Friday:0.002 ▁Th:0.000 ▁Saturday:-0.001\n",
      "*▁ 1.0 {'▁': 1.0, '</s>': 0.0, '<unk>': 0.0, '<s>': 0.0} \t  < Jason arrived at 9 o'clock. Margaret arrived at 5 o'clock. Patricia arrived at 6 o'clock. >. Patricia appeared the time just before 7 o'clock *▁:-0.001\n",
      "*▁November 0.381 {'▁November': 0.381, '▁May': 0.342, '▁September': 0.277, '<unk>': 0.0} \t  < Barbara arrived in August. Ronald arrived in October. Sarah arrived in April. >. Ronald appeared the month just before November ▁May:0.053 *▁November:0.162 ▁September:-0.157\n",
      "*▁ 1.0 {'▁': 1.0, '</s>': 0.0, '<unk>': 0.0, '<s>': 0.0} \t  < Sandra arrived at 1 o'clock. Dorothy arrived at 11 o'clock. Thomas arrived at 9 o'clock. >. Sandra appeared the time just before 2 o'clock *▁:-0.003\n",
      "*▁summer 0.335 {'▁summer': 0.335, '▁aut': 0.333, '▁winter': 0.332, '<unk>': 0.0} \t  < Kimberly arrived in summer. Jennifer arrived in spring. Sarah arrived in autumn. >. Jennifer appeared the season just before summer ▁aut:-0.009 *▁summer:-0.003 ▁winter:-0.013\n",
      "tensor([1.0957, 1.0967, -0.0000, 0.9644, -0.0000, 1.0928], device='cuda:1',\n",
      "       dtype=torch.float16) 1.0\n"
     ]
    },
    {
     "data": {
      "image/png": "[encoded data removed]",
      "text/plain": [
       "<Figure size 1000x240 with 2 Axes>"
      ]
     },
     "metadata": {},
     "output_type": "display_data"
    },
    {
     "name": "stdout",
     "output_type": "stream",
     "text": [
      "reduced_ap_scores = tensor([0.5518, 0.5415, 0.8057, 0.9336, 0.4146, 0.7744], device='cuda:1',\n",
      "       dtype=torch.float16) tensor(0.6704, device='cuda:1', dtype=torch.float16)\n"
     ]
    }
   ],
   "source": [
    "plot_attn_attrs(r.data_tuples[:], model, tokenizer, node, topi=[3], attn_patterns=['A]->Q]'], is_relating_head=False, k_shot=k_shot+2, mix=True)"
   ]
  },
  {
   "cell_type": "code",
   "execution_count": 46,
   "id": "541ed064",
   "metadata": {},
   "outputs": [
    {
     "name": "stdout",
     "output_type": "stream",
     "text": [
      "<pptree.pptree.Node object at 0x7f4b5ffe59d0>\n"
     ]
    }
   ],
   "source": []
  },
  {
   "cell_type": "code",
   "execution_count": 81,
   "id": "af41d937",
   "metadata": {},
   "outputs": [
    {
     "data": {
      "text/plain": [
       "2"
      ]
     },
     "execution_count": 81,
     "metadata": {},
     "output_type": "execute_result"
    }
   ],
   "source": [
    "len(r.root.children[-1].children)"
   ]
  },
  {
   "cell_type": "code",
   "execution_count": 238,
   "id": "f5374360",
   "metadata": {},
   "outputs": [],
   "source": [
    "# import plotly.offline as pyo\n",
    "# pyo.init_notebook_mode()\n",
    "\n",
    "# from logits_dynamics import batch_logits_lens\n",
    "# topk= model.transformer.wte.weight.data.shape[0]\n",
    "# tgt = ['▁Yes', '▁No']\n",
    "# fig1, fig2 = batch_logits_lens(r.data_tuples[0:1], model, tokenizer, heatmap=True,tgt=tgt, metric='target', case_sensitive=True, task_name='', topk=topk, verbose=False, orders=[1,2], scan_layer=[])\n",
    "# fig1.show(), fig2.show()"
   ]
  },
  {
   "cell_type": "code",
   "execution_count": null,
   "id": "ed8ba36a",
   "metadata": {},
   "outputs": [],
   "source": []
  },
  {
   "cell_type": "code",
   "execution_count": 29,
   "id": "94d048a8",
   "metadata": {},
   "outputs": [
    {
     "data": {
      "text/plain": [
       "'38-22,31-50,36-26 B->A^ attn'"
      ]
     },
     "execution_count": 29,
     "metadata": {},
     "output_type": "execute_result"
    }
   ],
   "source": [
    "#node是当前想查询节点的父节点，这里我们想查询'17-10,16-17,19-33 B->Q1'后面的@0 15-40 100 Q1->Q1 1/1/-1749,这个要定位到父节点，node.name=父节点\n",
    "node = r.root.children[-1]; node.name\n",
    "node.name\n",
    "# node = r.root.children[-1].children[-1].children[-2]; node.name"
   ]
  },
  {
   "cell_type": "code",
   "execution_count": 17,
   "id": "292fddb9",
   "metadata": {
    "collapsed": true
   },
   "outputs": [
    {
     "name": "stdout",
     "output_type": "stream",
     "text": [
      " ┌@[3,4,5,7,9,10,11,12,13,14] 20-m,25-m,33-m,53-m,57-m,46-m,43-m,29-m 29,49-m 28,56-m 28 B->B 67\n",
      " ├@:3 36-26,38-22,31-50 B->A]^ 19\n",
      " ├@[6,8] 37-9,32-21 unk 0\n",
      " ├@3 20-m 75\n",
      " ├@4 25-m 50\n",
      " ├@5 33-m 47\n",
      " ├@7 53-m 38\n",
      " ├@9 57-m 34\n",
      " ├@10 46-m 32\n",
      " ├@11 43-m 31\n",
      " ├@12 29-m 29\n",
      " ├@13 49-m 28\n",
      " ├@14 56-m 28\n",
      " ├@0 36-26 100 B->A]^ 92/36 attn\n",
      " ├@1 38-22 95 B->A]^ 93/98 attn\n",
      " ├@2 31-50 77 B->A]^ 100/80 attn\n",
      " ├@6 37-9 43 B->B^ 90/52 attn\n",
      " ├@8 32-21 38 B->Q1 79/17/69 attn\n",
      " ├@8 32-21 38 B->Q1 79/17/69\n",
      " │                             ┌@[3,4,5,9,10,11,12] 27-m,25-m,28-m,29-m 26,24-m 25,31-m 22,23-m 21 B->B 48\n",
      " │                             ├@[0,1,2,6,7,13,14] 26-51,23-27,24-34,26-13 30,26-27 29,23-3 21,14-42 21 B->A]^ 42\n",
      " │                             ├@[8] 37-9 26 B->B^ 7\n",
      " │                             ├@3 27-m 38\n",
      " │                             ├@4 25-m 36\n",
      " │                             ├@5 28-m 31\n",
      " │                             ├@9 29-m 26\n",
      " │                             ├@10 24-m 25\n",
      " │                             ├@11 31-m 22\n",
      " │                             ├@12 23-m 21\n",
      " │                             ├@0 26-51 100 B->A]^ 93/71 attn\n",
      " │                             ├@1 23-27 47 B->A]^ 81/66 attn\n",
      " │                             ├@2 24-34 41 B->A]^ 98/77 attn\n",
      " │                             ├@6 26-13 30 B->A]^ 97/69 attn\n",
      " │                             ├@7 26-27 29 B->A]^ 86/77 attn\n",
      " │                             ├@13 23-3 21 B->A]^ 77/38 attn\n",
      " │                             ├@14 14-42 21 B->A]^ 91/64 attn\n",
      " │                             ├@8 37-9 26 B->B^ 91/52\n",
      " ├36-26,38-22,31-50 B->A]^ attn┤\n",
      " │                             │                               ┌@[0,2,6,7,8,11,12,13] 23-27,11-1,10-13,11-10,7-11,14-42,6-18,23-3 B->A]^ 43\n",
      " │                             │                               ├@[1,3,5,9,10] 22-m,23-m,20-m,19-m,22-40 B->B 29\n",
      " │                             │                               ├@[14] 16-17 B->Q1 6\n",
      " │                             │                               ├@[4] 17-10 unk 0\n",
      " │                             │                               ├@0 23-27 100 B->A]^ 80/66 attn\n",
      " │                             │                               ├@2 11-1 72 B->A]^ 76/53 attn\n",
      " │                             │                               ├@6 10-13 65 B->A]^ 49/24 attn\n",
      " │                             │                               ├@7 11-10 64 B->A]^ 62/51 attn\n",
      " │                             │                               ├@8 7-11 61 B->A]^ 99/94 attn\n",
      " │                             │                               ├@11 14-42 47 B->A]^ 92/64 attn\n",
      " │                             │                               ├@12 6-18 44 B->A]^ 96/81 attn\n",
      " │                             │                               ├@13 23-3 39 B->A]^ 74/38 attn\n",
      " │                             │                               ├@1 22-m 87\n",
      " │                             │                               ├@3 23-m 69\n",
      " │                             │                               ├@5 20-m 67\n",
      " │                             │                               ├@9 19-m 54\n",
      " │                             │                               ├@10 22-40 51 B->B 33/12/57\n",
      " │                             │                               ├@10 22-40 51 B->B 33/12/57 attn:B->~<s>\n",
      " │                             │                               ├@14 16-17 39 B->Q1 25/22/56 attn\n",
      " │                             │                               ├@14 16-17 39 B->Q1 25/22/56\n",
      " │                             │                               ├@4 17-10 68 B->Q0 47/37/82 attn\n",
      " │                             │                               ├@4 17-10 68 B->Q0 47/37/82\n",
      " │                             │                               │                                  ┌@[0,2,3,7,9,12,13] 7-11,6-18,10-13,6-51,4-40,8-25,11-1 B->A]^ 36\n",
      " │                             │                               │                                  ├@[1,4,5] 5-m,20-m,6-m B->B 21\n",
      " │                             │                               │                                  ├@[6,8,11] 10-23,8-45,5-34 B->Q1 13\n",
      " │                             │                               │                                  ├@[10,14] 4-28,5-42 B->B^ 12\n",
      " │                             │                               │                                  ├@0 7-11 100 B->A]^ 99/94 attn\n",
      " │                             │                               │                                  ├@2 6-18 71 B->A]^ 95/81 attn\n",
      " │                             │                               │                                  ├@3 10-13 67 B->A]^ 45/24 attn\n",
      " │                             │                               │                                  ├@7 6-51 50 B->A]^ 60/26 attn\n",
      " │                             │                               │                                  ├@9 4-40 45 B->A]^ 93/67 attn\n",
      " │                             │                               │                                  ├@12 8-25 41 B->A]^ 78/75 attn\n",
      " │                             │                               ├@[0,2,6,7,8,11,12,13]  B->A]^ attn┤\n",
      " │                             │                               │                                  ├@13 11-1 40 B->A]^ 73/53 attn\n",
      " │                             │                               │                                  ├@1 5-m 99\n",
      " │                             │                               │                                  ├@4 20-m 54\n",
      " │                             │                               │                                  ├@5 6-m 51\n",
      " │                             │                               │                                  ├@6 10-23 51 B->Q1 82/51/-14\n",
      " │                             │                               │                                  ├@8 8-45 47 B->Q1 60/24/21\n",
      " │                             │                               │                                  ├@11 5-34 42 B->Q1 47/11/39 attn\n",
      " │                             │                               │                                  ├@11 5-34 42 B->Q1 47/11/39\n",
      " │                             │                               │                                  ├@10 4-28 44 B->B^ 99/75\n",
      " │                             │                               │                                  └@14 5-42 40 B->B^ 2/5\n",
      " │                             │                               │          ┌@[6,7] 9-m,11-m B->B 14\n",
      " │                             │                               │          ├@[0,2,3,8,12] 15-4,11-1,15-40,7-11,17-43 B->A]^ 6\n",
      " │                             │                               │          ├@[9,13,14] 16-51,17-29,19-2 B->Q1 4\n",
      " │                             │                               │          ├@[1,4,5,10,11] 21-9,21-16,16-17,13-50,15-17 unk 0\n",
      " │                             │                               │          ├@6 9-m 55\n",
      " │                             │                               │          ├@7 11-m 51\n",
      " │                             │                               │          ├@0 15-4 100 B->A]^ 7/62\n",
      " │                             │                               │          ├@2 11-1 86 B->A]^ 19/53\n",
      " │                             │                               │          ├@3 15-40 85 B->A]^ 12/41\n",
      " │                             │                               │          ├@8 7-11 46 B->A]^ 30/94\n",
      " │                             │                               ├22-40 B->B┤\n",
      " │                             │                               │          ├@12 17-43 41 B->A]^ 14/33\n",
      " │                             │                               │          ├@9 16-51 44 B->Q1 9/26/66 attn\n",
      " │                             │                               │          ├@9 16-51 44 B->Q1 9/26/66\n",
      " │                             │                               │          ├@13 17-29 41 B->Q1 20/50/79 attn\n",
      " │                             │                               │          ├@13 17-29 41 B->Q1 20/50/79\n",
      " │                             │                               │          ├@14 19-2 41 B->Q1 18/47/-21\n",
      " │                             │                               │          ├@1 21-9 87 B->Q0- 4/5/-315\n",
      " │                             │                               │          ├@4 21-16 68 B->A0+ 2/3/-119\n",
      " │                             │                               │          ├@5 16-17 57 B->B^ 6/14\n",
      " │                             │                               │          ├@10 13-50 43 B->B^ 2/6\n",
      " │                             │                               │          └@11 15-17 42 B->B^ 4/12\n",
      " │                             ├@[0,1,2,6,7,13,14]  B->A]^ attn┤\n",
      " │                             │                               │                       ┌@[11,13] 21-25,8-25 B->A]^ 3\n",
      " │                             │                               │                       ├@[1,3,8,12] 21-47,21-16,18-43,21-36 B->B 3\n",
      " │                             │                               │                       ├@[0] 19-2 B->Q1 2\n",
      " │                             │                               │                       ├@[4,5] 14-6,3-12 B->B^ 2\n",
      " │                             │                               │                       ├@[6,7] 10-2,6-19 B->A0+ 1\n",
      " │                             │                               │                       ├@[9] 8-10 B->Q0- 1\n",
      " │                             │                               │                       ├@[2,10,14] 4-21,20-33,12-14 unk 0\n",
      " │                             │                               │                       ├@11 21-25 51 B->A]^ 10/18\n",
      " │                             │                               │                       ├@13 8-25 48 B->A]^ 31/75\n",
      " │                             │                               │                       ├@1 21-47 88 B->B 11/12/-88\n",
      " │                             │                               │                       ├@3 21-16 67 B->B 2/7/16\n",
      " │                             │                               │                       ├@8 18-43 54 B->B 4/5/62\n",
      " │                             │                               │                       ├@8 18-43 54 B->B 4/5/62 attn:B->~<s>\n",
      " │                             │                               ├22-40 B->B attn:B->~<s>┤\n",
      " │                             │                               │                       ├@12 21-36 51 B->B 17/20/84\n",
      " │                             │                               │                       ├@12 21-36 51 B->B 17/20/84 attn:B->~<s>\n",
      " │                             │                               │                       ├@0 19-2 100 B->Q1 22/47/-21\n",
      " │                             │                               │                       ├@4 14-6 67 B->B^ 3/6\n",
      " │                             │                               │                       ├@5 3-12 61 B->B^ 27/38\n",
      " │                             │                               │                       ├@6 10-2 60 B->A0+ 4/5/16\n",
      " │                             │                               │                       ├@7 6-19 56 B->A0+ 8/12/61 attn\n",
      " │                             │                               │                       ├@7 6-19 56 B->A0+ 8/12/61\n",
      " │                             │                               │                       ├@9 8-10 54 B->Q0- 0/0/-78\n",
      " │                             │                               │                       ├@2 4-21 84 B->T0 0/0/39 attn\n",
      " │                             │                               │                       ├@2 4-21 84 B->T0 0/0/39\n",
      " │                             │                               │                       ├@10 20-33 51 B->A0 1/0/-84\n",
      " │                             │                               │                       ├@14 12-14 46 B->T0 1/2/55 attn\n",
      " │                             │                               │                       └@14 12-14 46 B->T0 1/2/55\n",
      " │                             │                               │           ┌@:15 15-40,16-17,13-m,14-42,15-4,13-29,15-17,15-31,11-1,15-47,16-51,11-2,16-21,9-51,11-48 Q0->Q0 7\n",
      " │                             │                               │           ├@0 15-40 100 Q0->Q0 3/4/23\n",
      " │                             │                               │           ├@1 16-17 86 Q0->Q0 1/2/2\n",
      " │                             │                               │           ├@2 13-m 85\n",
      " │                             │                               │           ├@3 14-42 69 Q0->Q0 0/1/-37\n",
      " │                             │                               │           ├@4 15-4 55 Q0->Q0 1/1/54\n",
      " │                             │                               │           ├@4 15-4 55 Q0->Q0 1/1/54 attn:Q0->~<s>\n",
      " │                             │                               │           ├@5 13-29 54 Q0->Q0 0/1/-43\n",
      " │                             │                               │           ├@6 15-17 50 Q0->Q0 0/1/-942\n",
      " │                             │                               ├17-10 B->Q0┤\n",
      " │                             │                               │           ├@7 15-31 46 Q0->Q0 -3/3/-52\n",
      " │                             │                               │           ├@8 11-1 44 Q0->Q0 1/2/31\n",
      " │                             │                               │           ├@8 11-1 44 Q0->Q0 1/2/31 attn:Q0->~<s>\n",
      " │                             │                               │           ├@9 15-47 43 Q0->Q0 0/1/72\n",
      " │                             │                               │           ├@9 15-47 43 Q0->Q0 0/1/72 attn:Q0->~<s>\n",
      " │                             │                               │           ├@10 16-51 39 Q0->Q0 1/3/21\n",
      " │                             │                               │           ├@11 11-2 39 Q0->Q0 0/0/-5\n",
      " │                             │                               │           ├@12 16-21 37 Q0->Q0 0/1/-270\n",
      " │                             │                               │           ├@13 9-51 36 Q0->Q0 0/0/-325\n",
      " │                             │                               │           └@14 11-48 36 Q0->Q0 0/1/-587\n",
      " │                             │                               │                ┌@[1,2,3,4,6] 9-m,5-m,11-m,13-m,3-m B->B 35\n",
      " │                             │                               │                ├@[0,7,9,11,12,14] 15-4,10-13,11-1 29,16-3 26,13-29 25,14-42 24 B->A]^ 26\n",
      " │                             │                               │                ├@[10] 8-1 26 B->B^ 9\n",
      " │                             │                               │                ├@[13] 10-35 25 B->Q1 6\n",
      " │                             │                               │                ├@[8] 16-14 B->Q0 4\n",
      " │                             │                               │                ├@[5] 15-0 unk 0\n",
      " │                             │                               │                ├@1 9-m 49\n",
      " │                             │                               │                ├@2 5-m 44\n",
      " │                             │                               │                ├@3 11-m 44\n",
      " │                             │                               │                ├@4 13-m 43\n",
      " │                             │                               │                ├@6 3-m 34\n",
      " │                             │                               ├17-10 B->Q0 attn┤\n",
      " │                             │                               │                ├@0 15-4 100 B->A]^ 71/62\n",
      " │                             │                               │                ├@7 10-13 33 B->A]^ 47/24\n",
      " │                             │                               │                ├@9 11-1 29 B->A]^ 74/53\n",
      " │                             │                               │                ├@11 16-3 26 B->A]^ 70/36\n",
      " │                             │                               │                ├@12 13-29 25 B->A]^ 32/19\n",
      " │                             │                               │                ├@14 14-42 24 B->A]^ 89/64\n",
      " │                             │                               │                ├@10 8-1 26 B->B^ 85/63\n",
      " │                             │                               │                ├@13 10-35 25 B->Q1 63/51/3\n",
      " │                             │                               │                ├@8 16-14 33 B->Q0 37/19/87 attn\n",
      " │                             │                               │                ├@5 15-0 36 B->A0 21/11/70 attn\n",
      " │                             │                               │                └@5 15-0 36 B->A0 21/11/70\n",
      " │                             │                               │           ┌@:15 11-m,10-m,12-0,13-29,9-m,11-11,14-30,10-50,11-2,15-40,13-m,9-21,11-1,14-16,10-7 Q1->Q1 29\n",
      " │                             │                               │           ├@0 11-m 100\n",
      " │                             │                               │           ├@1 10-m 68\n",
      " │                             │                               │           ├@2 12-0 66 Q1->Q1 0/1/8\n",
      " │                             │                               │           ├@3 13-29 64 Q1->Q1 0/1/5\n",
      " │                             │                               │           ├@4 9-m 58\n",
      " │                             │                               │           ├@5 11-11 55 Q1->Q1 7/28/32\n",
      " │                             │                               │           ├@5 11-11 55 Q1->Q1 7/28/32 attn:Q1->~<s>\n",
      " │                             │                               ├16-17 B->Q1┤\n",
      " │                             │                               │           ├@6 14-30 54 Q1->Q1 5/6/-108\n",
      " │                             │                               │           ├@7 10-50 52 Q1->Q1 0/1/-588\n",
      " │                             │                               │           ├@8 11-2 47 Q1->Q1 0/0/-1430\n",
      " │                             │                               │           ├@9 15-40 43 Q1->Q1 0/1/-576\n",
      " │                             │                               │           ├@10 13-m 40\n",
      " │                             │                               │           ├@11 9-21 40 Q1->Q1 16/23/24\n",
      " │                             │                               │           ├@12 11-1 37 Q1->Q1 0/1/3\n",
      " │                             │                               │           ├@13 14-16 35 Q1->Q1 1/3/-91\n",
      " │                             │                               │           └@14 10-7 33 Q1->Q1 1/2/5\n",
      " │                             │                               │                ┌@[0,1,2,4,10,12] 11-1,15-4,11-10,10-13,14-42,7-11 B->A]^ 29\n",
      " │                             │                               │                ├@[5,9,11,14] 10-23,15-7,8-34,15-2 B->Q1 17\n",
      " │                             │                               │                ├@[6,7] 10-m,13-m B->B 15\n",
      " │                             │                               │                ├@[8] 14-30 B->Q0 5\n",
      " │                             │                               │                ├@[13] 9-41 B->A0+ 5\n",
      " │                             │                               │                ├@[3] 15-0 unk 0\n",
      " │                             │                               │                ├@0 11-1 100 B->A]^ 66/53\n",
      " │                             │                               │                ├@1 15-4 86 B->A]^ 65/62\n",
      " │                             │                               │                ├@2 11-10 85 B->A]^ 52/51\n",
      " │                             │                               │                ├@4 10-13 68 B->A]^ 43/24\n",
      " │                             │                               │                ├@10 14-42 48 B->A]^ 86/64\n",
      " │                             │                               └16-17 B->Q1 attn┤\n",
      " │                             │                                                ├@12 7-11 40 B->A]^ 99/94\n",
      " │                             │                                                ├@5 10-23 61 B->Q1 82/51/-14 attn\n",
      " │                             │                                                ├@9 15-7 48 B->Q1 24/16/80 attn\n",
      " │                             │                                                ├@11 8-34 40 B->Q1 21/6/-178 attn\n",
      " │                             │                                                ├@14 15-2 38 B->Q1 81/79/62 attn\n",
      " │                             │                                                ├@6 10-m 51\n",
      " │                             │                                                ├@7 13-m 50\n",
      " │                             │                                                ├@8 14-30 50 B->Q0 49/25/28\n",
      " │                             │                                                ├@13 9-41 39 B->A0+ 53/21/60 attn\n",
      " │                             │                                                ├@13 9-41 39 B->A0+ 53/21/60\n",
      " │                             │                                                ├@3 15-0 78 B->A0 28/11/70 attn\n",
      " │                             │                                                └@3 15-0 78 B->A0 28/11/70\n",
      " │                             │          ┌@[5,6,7,8,10,11] 20-m,26-m,28-m,27-m,21-m,18-m B->B 40\n",
      " │                             │          ├@[0,1,2,3,4,9,12,13,14] 24-34,26-13,26-51,23-27,26-27,28-34,11-1 30,7-11 29,16-10 28 B->A]^ 6\n",
      " │                             │          ├@5 20-m 62\n",
      " │                             │          ├@6 26-m 46\n",
      " │                             │          ├@7 28-m 43\n",
      " │                             │          ├@8 27-m 38\n",
      " │                             │          ├@10 21-m 34\n",
      " │                             │          ├@11 18-m 32\n",
      " │                             │          ├@0 24-34 100 B->A]^ 10/77\n",
      " │                             │          ├@1 26-13 99 B->A]^ 9/69\n",
      " │                             │          ├@2 26-51 87 B->A]^ 13/71\n",
      " │                             │          ├@3 23-27 70 B->A]^ 10/66\n",
      " │                             │          ├@4 26-27 65 B->A]^ 9/77\n",
      " │                             │          ├@9 28-34 37 B->A]^ 9/68\n",
      " │                             │          ├@12 11-1 30 B->A]^ 6/53\n",
      " │                             │          ├@13 7-11 29 B->A]^ 14/94\n",
      " │                             │          ├@14 16-10 28 B->A]^ 11/62\n",
      " │                             └37-9 B->B^┤\n",
      " │                                        │                               ┌@:15 3-m,18-m,20-m,22-m,8-m,15-m,5-m,22-40,10-23,13-m,15-40,9-m,4-m,24-m,19-m 30 A]->A] 82\n",
      " │                                        │                               ├@0 3-m 100\n",
      " │                                        │                               ├@1 18-m 79\n",
      " │                                        │                               ├@2 20-m 66\n",
      " │                                        │                               ├@3 22-m 63\n",
      " │                                        │                               ├@4 8-m 60\n",
      " │                                        │                               ├@5 15-m 54\n",
      " │                                        │                               ├@6 5-m 48\n",
      " │                                        └@[0,1,2,3,4,9,12,13,14]  B->A]^┤\n",
      " │                                                                        ├@7 22-40 44 A]->A] 8/7/0\n",
      " │                                                                        ├@8 10-23 39 A]->A] 5/4/0\n",
      " │                                                                        ├@9 13-m 39\n",
      " │                                                                        ├@10 15-40 38 A]->A] 16/15/0\n",
      " │                                                                        ├@11 9-m 36\n",
      " │                                                                        ├@12 4-m 36\n",
      " │                                                                        ├@13 24-m 33\n",
      " │                                                                        └@14 19-m 30\n",
      " ┤\n",
      " │               ┌@[0,2,3,4,6,7,10,11,13] 33-m,27-m,32-m,29-m,35-34,19-m,24-51,22-40,34-m 29 B->B 50\n",
      " │               ├@[1,5,12] 26-51,24-34,14-42 30 B->A]^ 19\n",
      " │               ├@[8,9,14] 19-2,25-31,23-33 28 B->Q1 13\n",
      " │               ├@0 33-m 100\n",
      " │               ├@2 27-m 75\n",
      " │               ├@3 32-m 59\n",
      " │               ├@4 29-m 58\n",
      " │               ├@6 35-34 48 B->B 55/16/25\n",
      " │               ├@7 19-m 46\n",
      " │               ├@10 24-51 32 B->B 26/9/58\n",
      " │               ├@10 24-51 32 B->B 26/9/58 attn:B->~<s>\n",
      " │               ├@11 22-40 31 B->B 29/12/57\n",
      " │               ├@11 22-40 31 B->B 29/12/57 attn:B->~<s>\n",
      " │               ├@13 34-m 29\n",
      " │               ├@1 26-51 87 B->A]^ 93/71\n",
      " │               ├@5 24-34 57 B->A]^ 95/77\n",
      " │               ├@12 14-42 30 B->A]^ 93/64\n",
      " │               ├@8 19-2 40 B->Q1 60/47/-21\n",
      " │               ├@9 25-31 33 B->Q1 60/35/55 attn\n",
      " │               ├@9 25-31 33 B->Q1 60/35/55\n",
      " │               ├@14 23-33 28 B->Q1 28/16/67 attn\n",
      " │               ├@14 23-33 28 B->Q1 28/16/67\n",
      " │               │                        ┌@:15 20-m,22-40,5-m,10-2,13-m,8-m,10-23,11-m,21-47,19-2,25-18,9-m,4-m,25-31,15-m 29 A]->A] 54\n",
      " │               │                        ├@0 20-m 100\n",
      " │               │                        ├@1 22-40 72 A]->A] 0/7/0\n",
      " │               │                        ├@2 5-m 69\n",
      " │               │                        ├@3 10-2 61 A]->A] 1/3/0\n",
      " │               │                        ├@4 13-m 60\n",
      " │               │                        ├@5 8-m 59\n",
      " │               │                        ├@6 10-23 52 A]->A] 1/4/0\n",
      " │               │                        ├@7 11-m 39\n",
      " │               │                        ├@8 21-47 36 A]->A] 3/9/0\n",
      " │               │                        ├@9 19-2 35 A]->A] 1/10/0\n",
      " │               │                        ├@10 25-18 35 A]->A] 0/2/0\n",
      " │               │                        ├@11 9-m 34\n",
      " │               │                        ├@12 4-m 34\n",
      " │               │                        ├@13 25-31 31 A]->A] 1/2/0\n",
      " │               │                        ├@14 15-m 29\n",
      " │               ├26-51,24-34,14-42 B->A]^┤\n",
      " │               │                        │                          ┌@:15 13-m,20-m,12-m,15-m,14-m,9-51,11-m,5-42,24-34,17-10,6-8,16-17,7-11,5-m,11-10 A]->A] 47\n",
      " │               │                        │                          ├@0 13-m 100\n",
      " │               │                        │                          ├@1 20-m 68\n",
      " │               │                        │                          ├@2 12-m 63\n",
      " │               │                        │                          ├@3 15-m 54\n",
      " │               │                        │                          ├@4 14-m 42\n",
      " │               │                        │                          ├@5 9-51 39 A]->A] 0/3/0\n",
      " │               │                        │                          ├@6 11-m 38\n",
      " │               │                        └@[1,3,6,8,9,10,13]  A]->A]┤\n",
      " │               │                                                   ├@7 5-42 38 A]->A] 0/5/0\n",
      " │               │                                                   ├@8 24-34 37 A]->A] 0/6/0\n",
      " │               │                                                   ├@9 17-10 33 A]->A] 0/3/0\n",
      " │               │                                                   ├@10 6-8 33 A]->A] 0/3/0\n",
      " │               │                                                   ├@11 16-17 33 A]->A] 0/3/0\n",
      " │               │                                                   ├@12 7-11 32 A]->A] 0/3/0\n",
      " │               │                                                   ├@13 5-m 32\n",
      " │               │                                                   └@14 11-10 31 A]->A] 0/2/0\n",
      " │               │                      ┌@[1,2,3,6] 3-m,21-m,10-m,11-m B->B 27\n",
      " │               │                      ├@[0,5,8,10,12] 14-42,23-27,16-3,5-42,16-5 B->A]^ 6\n",
      " │               │                      ├@[4,7,9,11,13,14] 17-19,21-9,13-43,11-10,18-15,5-40 unk 0\n",
      " │               │                      ├@1 3-m 73\n",
      " │               │                      ├@2 21-m 66\n",
      " │               │                      ├@3 10-m 65\n",
      " │               │                      ├@6 11-m 57\n",
      " │               │                      ├@0 14-42 100 B->A]^ 29/64\n",
      " │               │                      ├@5 23-27 61 B->A]^ 25/66\n",
      " │               │                      ├@8 16-3 41 B->A]^ 4/36\n",
      " │               │                      ├@10 5-42 37 B->A]^ 5/11\n",
      " │               │                      ├@12 16-5 34 B->A]^ 30/92\n",
      " │               │                      ├@4 17-19 62 B->Q1 3/5/-162\n",
      " │               │                      ├@7 21-9 52 B->Q0- 3/5/-315\n",
      " │               │                      ├@9 13-43 37 B->A0+ 3/6/71 attn\n",
      " │               │                      ├@9 13-43 37 B->A0+ 3/6/71\n",
      " │               │                      ├@11 11-10 36 B->B^ 1/11\n",
      " │               │                      ├@13 18-15 34 B->B^ 11/17\n",
      " │               │                      ├@14 5-40 32 B->B^ 14/18\n",
      " │               │                      │            ┌@:15 11-10,9-26,8-10,10-23,6-48,12-26,9-46,10-38,5-42,9-24,11-50,8-39 28,12-14 27,10-39 27,11-41 26 A0+->A0+ 0\n",
      " │               │                      │            ├@0 11-10 100 A0+->A0+ 0/0/-27\n",
      " │               │                      │            ├@1 9-26 89 A0+->A0+ 0/2/74\n",
      " │               │                      │            ├@1 9-26 89 A0+->A0+ 0/2/74 attn:A0->~<s>\n",
      " │               │                      │            ├@2 8-10 84 A0+->A0+ 0/0/-61\n",
      " │               │                      │            ├@3 10-23 46 A0+->A0+ 0/1/45\n",
      " │               │                      │            ├@3 10-23 46 A0+->A0+ 0/1/45 attn:A0->~<s>\n",
      " │               │                      │            ├@4 6-48 45 A0+->A0+ 0/0/-107\n",
      " │               │                      │            ├@5 12-26 37 A0+->A0+ 1/3/-211\n",
      " │               │                      │            ├@6 9-46 36 A0+->A0+ 0/1/-148\n",
      " │               │                      ├13-43 B->A0+┤\n",
      " │               │                      │            ├@7 10-38 35 A0+->A0+ 0/0/-538\n",
      " │               │                      │            ├@8 5-42 35 A0+->A0+ 0/0/-469\n",
      " │               │                      │            ├@9 9-24 32 A0+->A0+ 0/2/47\n",
      " │               │                      │            ├@9 9-24 32 A0+->A0+ 0/2/47 attn:A0->~<s>\n",
      " │               │                      │            ├@10 11-50 30 A0+->A0+ 0/1/-120\n",
      " │               │                      │            ├@11 8-39 28 A0+->A0+ 0/0/-169\n",
      " │               │                      │            ├@12 12-14 27 A0+->A0+ 0/0/-2671\n",
      " │               │                      │            ├@13 10-39 27 A0+->A0+ 1/5/95\n",
      " │               │                      │            ├@13 10-39 27 A0+->A0+ 1/5/95 attn:A0->~<s>\n",
      " │               │                      │            └@14 11-41 26 A0+->A0+ 0/1/-89\n",
      " │               │                      │                 ┌@[0,1,2,3,4,5,6,10,14] 4-m,7-m,6-m,1-m,0-m,8-m,5-m,3-m,10-2 B->B 54\n",
      " │               │                      │                 ├@[7,8,9,11,12,13] 10-13,10-23,4-40,11-1,10-41,11-31 unk 0\n",
      " │               │                      │                 ├@0 4-m 100\n",
      " │               │                      │                 ├@1 7-m 97\n",
      " │               │                      │                 ├@2 6-m 87\n",
      " │               │                      │                 ├@3 1-m 66\n",
      " │               │                      │                 ├@4 0-m 64\n",
      " │               │                      │                 ├@5 8-m 59\n",
      " │               │                      │                 ├@6 5-m 58\n",
      " │               │                      ├13-43 B->A0+ attn┤\n",
      " │               │                      │                 ├@10 3-m 55\n",
      " │               │                      │                 ├@14 10-2 49 B->B 3/10/53\n",
      " │               │                      │                 ├@14 10-2 49 B->B 3/10/53 attn:B->~<s>\n",
      " │               │                      │                 ├@7 10-13 58 B->A]^ 9/24\n",
      " │               │                      │                 ├@8 10-23 55 B->Q1 24/51/-14\n",
      " │               │                      │                 ├@9 4-40 55 B->A]^ 19/67\n",
      " │               │                      │                 ├@11 11-1 52 B->A]^ 19/53\n",
      " │               │                      │                 ├@12 10-41 50 B->A0+ 2/4/68 attn\n",
      " │               │                      │                 └@13 11-31 50 B->A]^ 5/12\n",
      " │               ├35-34,24-51,22-40 B->B┤\n",
      " │               │                      │                      ┌@:15 3-m,13-m,5-m,12-m 26,12-0 23,4-40 22,11-37 18,16-m 16,14-40 15,15-40 15,12-37 15,7-0 13,10-23 13,8-m 13,17-34 12 A]->A] 40\n",
      " │               │                      │                      ├@0 3-m 100\n",
      " │               │                      │                      ├@1 13-m 37\n",
      " │               │                      │                      ├@2 5-m 37\n",
      " │               │                      │                      ├@3 12-m 26\n",
      " │               │                      │                      ├@4 12-0 23 A]->A] -1/3/0\n",
      " │               │                      │                      ├@5 4-40 22 A]->A] 0/0/0\n",
      " │               │                      │                      ├@6 11-37 18 A]->A] 0/1/0\n",
      " │               │                      ├@[0,5,8,10,12]  B->A]^┤\n",
      " │               │                      │                      ├@7 16-m 16\n",
      " │               │                      │                      ├@8 14-40 15 A]->A] 0/2/0\n",
      " │               │                      │                      ├@9 15-40 15 A]->A] 3/15/0\n",
      " │               │                      │                      ├@10 12-37 15 A]->A] -1/5/0\n",
      " │               │                      │                      ├@11 7-0 13 A]->A] 0/0/0\n",
      " │               │                      │                      ├@12 10-23 13 A]->A] 1/4/0\n",
      " │               │                      │                      ├@13 8-m 13\n",
      " │               │                      │                      └@14 17-34 12 A]->A] 2/16/0\n",
      " │               │                      │                      ┌@[0,1,2,5,14] 2-m,4-m,8-m,5-m,10-2 27 B->B 27\n",
      " │               │                      │                      ├@[3,4,6,7,8,9,10,11,12,13] 17-43,10-7,9-10,3-2,15-4,15-17,10-51,9-0,10-41,4-40 29 unk 0\n",
      " │               │                      │                      ├@0 2-m 100\n",
      " │               │                      │                      ├@1 4-m 61\n",
      " │               │                      │                      ├@2 8-m 60\n",
      " │               │                      │                      ├@5 5-m 47\n",
      " │               │                      │                      ├@14 10-2 27 B->B 1/10/53\n",
      " │               │                      │                      ├@14 10-2 27 B->B 1/10/53 attn:B->~<s>\n",
      " │               │                      │                      ├@3 17-43 59 B->A]^ 1/33\n",
      " │               │                      │                      ├@4 10-7 57 B->Q0- 1/12/73 attn\n",
      " │               │                      ├11-10,18-15,5-40 B->B^┤\n",
      " │               │                      │                      ├@4 10-7 57 B->Q0- 1/12/73\n",
      " │               │                      │                      ├@6 9-10 46 B->Q1 2/26/-43\n",
      " │               │                      │                      ├@7 3-2 40 B->A]^ 0/1\n",
      " │               │                      │                      ├@8 15-4 36 B->A]^ 0/62\n",
      " │               │                      │                      ├@9 15-17 35 B->B^ 0/12\n",
      " │               │                      │                      ├@10 10-51 35 B->A0+ 0/3/-159\n",
      " │               │                      │                      ├@11 9-0 34 B->A]^ 4/85\n",
      " │               │                      │                      ├@12 10-41 33 B->A0+ 0/4/68 attn\n",
      " │               │                      │                      ├@12 10-41 33 B->A0+ 0/4/68\n",
      " │               │                      │                      └@13 4-40 29 B->A]^ 1/67\n",
      " │               │                      │           ┌@:15 11-10,18-46,18-m,14-m,15-4,4-40,19-28,7-11,14-6,15-40,17-43,6-m,12-37,19-44,10-39 Q0-->Q0- 20\n",
      " │               │                      │           ├@0 11-10 100 Q0-->Q0- 0/1/-34\n",
      " │               │                      │           ├@1 18-46 66 Q0-->Q0- 0/1/-256\n",
      " │               │                      │           ├@2 18-m 62\n",
      " │               │                      │           ├@3 14-m 54\n",
      " │               │                      │           ├@4 15-4 51 Q0-->Q0- 0/0/-233\n",
      " │               │                      │           ├@5 4-40 44 Q0-->Q0- 0/0/-376\n",
      " │               │                      │           ├@6 19-28 42 Q0-->Q0- 1/4/45\n",
      " │               │                      │           ├@6 19-28 42 Q0-->Q0- 1/4/45 attn:Q0->~<s>\n",
      " │               │                      ├21-9 B->Q0-┤\n",
      " │               │                      │           ├@7 7-11 39 Q0-->Q0- 0/0/-344\n",
      " │               │                      │           ├@8 14-6 36 Q0-->Q0- 0/1/-114\n",
      " │               │                      │           ├@9 15-40 35 Q0-->Q0- 0/2/-103\n",
      " │               │                      │           ├@10 17-43 35 Q0-->Q0- 0/0/-159\n",
      " │               │                      │           ├@11 6-m 34\n",
      " │               │                      │           ├@12 12-37 31 Q0-->Q0- -3/14/82\n",
      " │               │                      │           ├@12 12-37 31 Q0-->Q0- -3/14/82 attn:Q0->~<s>\n",
      " │               │                      │           ├@13 19-44 31 Q0-->Q0- 1/1/-98\n",
      " │               │                      │           ├@14 10-39 30 Q0-->Q0- 1/2/76\n",
      " │               │                      │           └@14 10-39 30 Q0-->Q0- 1/2/76 attn:Q0->~<s>\n",
      " │               │                      │           ┌@:15 5-1,13-29,9-44,15-51,15-45,11-m,16-8,14-m,14-24,13-49,12-m,9-m,13-46,15-20,15-25 Q1->Q1 27\n",
      " │               │                      │           ├@0 5-1 100 Q1->Q1 0/0/-43\n",
      " │               │                      │           ├@1 13-29 98 Q1->Q1 0/1/5\n",
      " │               │                      │           ├@2 9-44 74 Q1->Q1 2/23/86\n",
      " │               │                      │           ├@2 9-44 74 Q1->Q1 2/23/86 attn:Q1->~<s>\n",
      " │               │                      │           ├@3 15-51 73 Q1->Q1 0/0/4\n",
      " │               │                      │           ├@4 15-45 56 Q1->Q1 1/34/43\n",
      " │               │                      │           ├@4 15-45 56 Q1->Q1 1/34/43 attn:Q1->~<s>\n",
      " │               │                      │           ├@5 11-m 50\n",
      " │               │                      │           ├@6 16-8 49 Q1->Q1 0/1/-202\n",
      " │               │                      └17-19 B->Q1┤\n",
      " │               │                                  ├@7 14-m 46\n",
      " │               │                                  ├@8 14-24 45 Q1->Q1 0/1/-60\n",
      " │               │                                  ├@9 13-49 45 Q1->Q1 0/0/-700\n",
      " │               │                                  ├@10 12-m 45\n",
      " │               │                                  ├@11 9-m 43\n",
      " │               │                                  ├@12 13-46 40 Q1->Q1 0/2/41\n",
      " │               │                                  ├@12 13-46 40 Q1->Q1 0/2/41 attn:Q1->~<s>\n",
      " │               │                                  ├@13 15-20 40 Q1->Q1 2/8/80\n",
      " │               │                                  ├@13 15-20 40 Q1->Q1 2/8/80 attn:Q1->~<s>\n",
      " │               │                                  └@14 15-25 32 Q1->Q1 0/2/-8\n",
      " ├37-9 B->B^ attn┤\n",
      " │               │                             ┌@[0,6,11] 23-27,15-4,21-25 B->A]^ 6\n",
      " │               │                             ├@[4,5,9,14] 21-36,18-20,21-16,18-10 B->B 5\n",
      " │               │                             ├@[2,7,10] 5-42,3-12,23-9 B->B^ 3\n",
      " │               │                             ├@[1,3] 19-2,21-11 B->Q1 3\n",
      " │               │                             ├@[12] 18-13 B->Q0 2\n",
      " │               │                             ├@[13] 10-2 B->Q0- 1\n",
      " │               │                             ├@[8] 4-21 unk 0\n",
      " │               │                             ├@0 23-27 100 B->A]^ 37/66\n",
      " │               │                             ├@6 15-4 55 B->A]^ 34/62\n",
      " │               │                             ├@11 21-25 43 B->A]^ 13/18\n",
      " │               │                             ├@4 21-36 57 B->B 26/20/84\n",
      " │               │                             ├@4 21-36 57 B->B 26/20/84 attn:B->~<s>\n",
      " │               │                             ├@5 18-20 55 B->B 19/27/15\n",
      " │               │                             ├@9 21-16 44 B->B 6/7/16\n",
      " │               │                             ├@14 18-10 41 B->B 12/21/76\n",
      " │               │                             ├@14 18-10 41 B->B 12/21/76 attn:B->~<s>\n",
      " │               │                             ├@2 5-42 58 B->B^ 3/5\n",
      " │               │                             ├@7 3-12 49 B->B^ 29/38\n",
      " │               │                             ├@10 23-9 44 B->B^ 11/8\n",
      " │               │                             ├@1 19-2 82 B->Q1 23/47/-21\n",
      " │               │                             ├@3 21-11 57 B->Q1 0/1/47 attn\n",
      " │               │                             ├@3 21-11 57 B->Q1 0/1/47\n",
      " │               │                             ├@12 18-13 42 B->Q0 11/17/80 attn\n",
      " │               │                             ├@12 18-13 42 B->Q0 11/17/80\n",
      " │               │                             ├@13 10-2 42 B->Q0- 6/7/-76\n",
      " │               │                             ├@8 4-21 45 B->T0 0/0/39 attn\n",
      " │               │                             ├@8 4-21 45 B->T0 0/0/39\n",
      " │               │                             │                       ┌@:15 8-m,13-m,9-m,11-m,20-m,16-m,9-26,17-m,14-m,7-m,22-40,15-m,12-11,12-48 24,12-18 22 A]->A] 67\n",
      " │               │                             │                       ├@0 8-m 100\n",
      " │               │                             │                       ├@1 13-m 82\n",
      " │               │                             │                       ├@2 9-m 75\n",
      " │               │                             │                       ├@3 11-m 73\n",
      " │               │                             │                       ├@4 20-m 58\n",
      " │               │                             │                       ├@5 16-m 58\n",
      " │               │                             │                       ├@6 9-26 45 A]->A] 2/2/0\n",
      " │               │                             ├23-27,15-4,21-25 B->A]^┤\n",
      " │               │                             │                       ├@7 17-m 40\n",
      " │               │                             │                       ├@8 14-m 34\n",
      " │               │                             │                       ├@9 7-m 33\n",
      " │               │                             │                       ├@10 22-40 32 A]->A] 3/7/0\n",
      " │               │                             │                       ├@11 15-m 31\n",
      " │               │                             │                       ├@12 12-11 30 A]->A] 1/3/0\n",
      " │               │                             │                       ├@13 12-48 24 A]->A] 1/1/0\n",
      " │               │                             │                       └@14 12-18 22 A]->A] 0/6/0\n",
      " │               │                             │                            ┌@[0,7] 3-m,17-m B->B 14\n",
      " │               │                             │                            ├@[1,4,5,6,8,12] 15-4,16-3,17-43,13-29,11-1,16-5 B->A]^ 6\n",
      " │               │                             │                            ├@[2,9] 17-10,17-18 B->Q0 2\n",
      " │               │                             │                            ├@[3,10] 16-17,15-22 B->Q1 1\n",
      " │               │                             │                            ├@[11,13,14] 5-42,17-34,15-47 unk 0\n",
      " │               │                             │                            ├@0 3-m 100\n",
      " │               │                             │                            ├@7 17-m 54\n",
      " │               │                             │                            ├@1 15-4 91 B->A]^ 6/62\n",
      " │               │                             │                            ├@4 16-3 77 B->A]^ 10/36\n",
      " │               │                             │                            ├@5 17-43 61 B->A]^ 8/33\n",
      " │               │                             │                            ├@6 13-29 57 B->A]^ 10/19\n",
      " │               │                             │                            ├@8 11-1 53 B->A]^ 11/53\n",
      " │               │                             ├21-36,18-20,21-16,18-10 B->B┤\n",
      " │               │                             │                            ├@12 16-5 38 B->A]^ 33/92\n",
      " │               │                             │                            ├@2 17-10 90 B->Q0 13/37/82 attn\n",
      " │               │                             │                            ├@2 17-10 90 B->Q0 13/37/82\n",
      " │               │                             │                            ├@9 17-18 53 B->Q0 7/16/72 attn\n",
      " │               │                             │                            ├@9 17-18 53 B->Q0 7/16/72\n",
      " │               │                             │                            ├@3 16-17 84 B->Q1 6/22/56 attn\n",
      " │               │                             │                            ├@3 16-17 84 B->Q1 6/22/56\n",
      " │               │                             │                            ├@10 15-22 46 B->Q1 6/21/-32\n",
      " │               │                             │                            ├@11 5-42 45 B->B^ 2/5\n",
      " │               │                             │                            ├@13 17-34 38 B->Q0- 1/4/-425\n",
      " │               │                             │                            ├@14 15-47 37 B->A0 5/20/95 attn\n",
      " │               │                             │                            └@14 15-47 37 B->A0 5/20/95\n",
      " │               │                             │                             ┌@[3,8] 18-35,14-m B->B 9\n",
      " │               │                             │                             ├@[0,1,5,11] 4-28,8-1,3-12,5-42 B->B^ 7\n",
      " │               │                             │                             ├@[6] 8-25 B->A]^ 2\n",
      " │               │                             │                             ├@[2,12] 19-2,18-10 B->Q1 2\n",
      " │               │                             │                             ├@[4,7,9,10,13,14] 13-38,15-8,13-31,11-4,12-27,7-30 unk 0\n",
      " │               │                             │                             ├@3 18-35 89 B->B 33/34/-11\n",
      " │               │                             │                             ├@8 14-m 73\n",
      " │               │                             │                             ├@0 4-28 100 B->B^ 46/75\n",
      " │               │                             │                             ├@1 8-1 96 B->B^ 31/63\n",
      " │               │                             │                             ├@5 3-12 85 B->B^ 25/38\n",
      " │               │                             │                             ├@11 5-42 62 B->B^ 3/5\n",
      " │               │                             ├21-36,18-10 B->B attn:B->~<s>┤\n",
      " │               │                             │                             ├@6 8-25 83 B->A]^ 34/75\n",
      " │               │                             │                             ├@2 19-2 95 B->Q1 14/47/-21\n",
      " │               │                             │                             ├@12 18-10 62 B->Q1 11/28/55 attn\n",
      " │               │                             │                             ├@12 18-10 62 B->Q1 11/28/55\n",
      " │               │                             │                             ├@4 13-38 87 B->A0+ 0/0/-447\n",
      " │               │                             │                             ├@7 15-8 75 B->T0+ 0/0/61 attn\n",
      " │               │                             │                             ├@7 15-8 75 B->T0+ 0/0/61\n",
      " │               │                             │                             ├@9 13-31 71 B->T0+ 0/0/-142\n",
      " │               │                             │                             ├@10 11-4 71 B->T0+ 0/0/-233\n",
      " │               │                             │                             ├@13 12-27 58 B->T0+ 0/0/28\n",
      " │               │                             │                             └@14 7-30 58 B->Q1- 0/0/-359\n",
      " │               │                             │                    ┌@[0,1,3,4,5,6,10,14] 10-m,2-m,3-m,4-m,0-m,1-m,16-m 29,9-m 22 B->B 53\n",
      " │               │                             │                    ├@[2,7,8,9,11,12,13] 18-13,3-35,4-29,13-29,4-5 29,19-28 25,15-47 23 unk 0\n",
      " │               │                             │                    ├@0 10-m 100\n",
      " │               │                             │                    ├@1 2-m 88\n",
      " │               │                             │                    ├@3 3-m 45\n",
      " │               │                             │                    ├@4 4-m 39\n",
      " │               │                             │                    ├@5 0-m 37\n",
      " │               │                             │                    ├@6 1-m 35\n",
      " │               │                             │                    ├@10 16-m 29\n",
      " │               │                             │                    ├@14 9-m 22\n",
      " │               │                             ├5-42,3-12,23-9 B->B^┤\n",
      " │               │                             │                    ├@2 18-13 50 B->A0 0/25/96 attn\n",
      " │               │                             │                    ├@2 18-13 50 B->A0 0/25/96\n",
      " │               │                             │                    ├@7 3-35 33 B->Q1 0/33/-27\n",
      " │               │                             │                    ├@8 4-29 31 B->B^ 1/87\n",
      " │               │                             │                    ├@9 13-29 30 B->A]^ 0/19\n",
      " │               │                             │                    ├@11 4-5 29 B->Q1 0/28/-100\n",
      " │               │                             │                    ├@12 19-28 25 B->Q0- 1/13/79 attn\n",
      " │               │                             │                    ├@12 19-28 25 B->Q0- 1/13/79\n",
      " │               │                             │                    ├@13 15-47 23 B->A0 0/20/95 attn\n",
      " │               │                             │                    └@13 15-47 23 B->A0 0/20/95\n",
      " │               │                             │           ┌@:15 17-32,11-48,13-29,14-7,12-8,11-2,12-39,14-18,9-m,7-20,11-30,15-24,13-42,12-50,17-34 Q0->Q0 7\n",
      " │               │                             │           ├@0 17-32 100 Q0->Q0 1/5/-74\n",
      " │               │                             │           ├@1 11-48 76 Q0->Q0 0/1/-587\n",
      " │               │                             │           ├@2 13-29 61 Q0->Q0 0/1/-43\n",
      " │               │                             │           ├@3 14-7 57 Q0->Q0 0/2/-93\n",
      " │               │                             │           ├@4 12-8 51 Q0->Q0 0/1/45\n",
      " │               │                             │           ├@4 12-8 51 Q0->Q0 0/1/45 attn:Q0->~<s>\n",
      " │               │                             │           ├@5 11-2 46 Q0->Q0 0/0/-5\n",
      " │               │                             ├18-13 B->Q0┤\n",
      " │               │                             │           ├@6 12-39 42 Q0->Q0 0/2/-13\n",
      " │               │                             │           ├@7 14-18 39 Q0->Q0 0/2/-48\n",
      " │               │                             │           ├@8 9-m 37\n",
      " │               │                             │           ├@9 7-20 37 Q0->Q0 0/1/-134\n",
      " │               │                             │           ├@10 11-30 35 Q0->Q0 0/1/23\n",
      " │               │                             │           ├@11 15-24 35 Q0->Q0 0/1/-377\n",
      " │               │                             │           ├@12 13-42 34 Q0->Q0 0/3/-83\n",
      " │               │                             │           ├@13 12-50 32 Q0->Q0 0/1/-141\n",
      " │               │                             │           └@14 17-34 32 Q0->Q0 0/5/-268\n",
      " │               ├24-51,22-40 B->B attn:B->~<s>┤\n",
      " │               │                             │                ┌@[11,13] 8-m 23,13-m 21 B->B 14\n",
      " │               │                             │                ├@[1,2,3,5,6,7,10] 17-32,12-39,17-10,14-30,17-18,17-26 29,12-8 23 B->Q0 10\n",
      " │               │                             │                ├@[8,12] 16-17 27,17-46 23 B->Q1 6\n",
      " │               │                             │                ├@[0] 15-0 B->Q0- 5\n",
      " │               │                             │                ├@[4] 16-33 B->A0 4\n",
      " │               │                             │                ├@[9] 13-42 23 B->A0+ 2\n",
      " │               │                             │                ├@[14] 13-29 21 unk 0\n",
      " │               │                             │                ├@11 8-m 23\n",
      " │               │                             │                ├@13 13-m 21\n",
      " │               │                             │                ├@1 17-32 67 B->Q0 15/14/-103 attn\n",
      " │               │                             │                ├@2 12-39 53 B->Q0 22/33/18 attn\n",
      " │               │                             │                ├@3 17-10 51 B->Q0 20/37/82 attn\n",
      " │               │                             │                ├@5 14-30 40 B->Q0 25/25/28 attn\n",
      " │               │                             ├18-13 B->Q0 attn┤\n",
      " │               │                             │                ├@6 17-18 39 B->Q0 15/16/72 attn\n",
      " │               │                             │                ├@7 17-26 29 B->Q0 8/5/-7 attn\n",
      " │               │                             │                ├@10 12-8 23 B->Q0 22/20/41 attn\n",
      " │               │                             │                ├@8 16-17 27 B->Q1 26/22/56 attn\n",
      " │               │                             │                ├@8 16-17 27 B->Q1 26/22/56\n",
      " │               │                             │                ├@12 17-46 23 B->Q1 14/27/43 attn\n",
      " │               │                             │                ├@12 17-46 23 B->Q1 14/27/43\n",
      " │               │                             │                ├@0 15-0 100 B->Q0- 7/9/27\n",
      " │               │                             │                ├@4 16-33 44 B->A0 23/25/73 attn\n",
      " │               │                             │                ├@4 16-33 44 B->A0 23/25/73\n",
      " │               │                             │                ├@9 13-42 23 B->A0+ 20/17/34 attn\n",
      " │               │                             │                ├@9 13-42 23 B->A0+ 20/17/34\n",
      " │               │                             │                └@14 13-29 21 B->A]^ 5/19\n",
      " │               │                             │           ┌@:15 3-m,8-10,8-51,6-m,7-9,5-42,7-m,9-24,6-19,9-29,8-34,8-1,7-30 30,9-2 28,9-38 24 Q0-->Q0- 20\n",
      " │               │                             │           ├@0 3-m 100\n",
      " │               │                             │           ├@1 8-10 74 Q0-->Q0- 0/1/47\n",
      " │               │                             │           ├@1 8-10 74 Q0-->Q0- 0/1/47 attn:Q0->~<s>\n",
      " │               │                             │           ├@2 8-51 73 Q0-->Q0- 0/0/-304\n",
      " │               │                             │           ├@3 6-m 60\n",
      " │               │                             │           ├@4 7-9 57 Q0-->Q0- 0/0/-475\n",
      " │               │                             │           ├@5 5-42 49 Q0-->Q0- 0/0/-816\n",
      " │               │                             │           ├@6 7-m 45\n",
      " │               │                             │           ├@7 9-24 43 Q0-->Q0- 0/2/69\n",
      " │               │                             │           ├@7 9-24 43 Q0-->Q0- 0/2/69 attn:Q0->~<s>\n",
      " │               │                             ├10-2 B->Q0-┤\n",
      " │               │                             │           ├@8 6-19 36 Q0-->Q0- 1/5/74\n",
      " │               │                             │           ├@8 6-19 36 Q0-->Q0- 1/5/74 attn:Q0->~<s>\n",
      " │               │                             │           ├@9 9-29 34 Q0-->Q0- 0/1/-54\n",
      " │               │                             │           ├@10 8-34 32 Q0-->Q0- 0/1/-76\n",
      " │               │                             │           ├@11 8-1 30 Q0-->Q0- 0/4/48\n",
      " │               │                             │           ├@11 8-1 30 Q0-->Q0- 0/4/48 attn:Q0->~<s>\n",
      " │               │                             │           ├@12 7-30 30 Q0-->Q0- 0/0/7\n",
      " │               │                             │           ├@13 9-2 28 Q0-->Q0- 3/9/61\n",
      " │               │                             │           ├@13 9-2 28 Q0-->Q0- 3/9/61 attn:Q0->~<s>\n",
      " │               │                             │           ├@14 9-38 24 Q0-->Q0- 1/2/33\n",
      " │               │                             │           └@14 9-38 24 Q0-->Q0- 1/2/33 attn:Q0->~<s>\n",
      " │               │                             │                ┌@:15 3-m,17-34,17-10 24,18-42 21,17-43 20,17-18 20,18-20 18,16-10 16,18-13 16,16-3 16,10-2 16,15-22 15,11-10 15,18-48 14,16-17 13 Q1->Q1 8\n",
      " │               │                             │                ├@0 3-m 100\n",
      " │               │                             │                ├@1 17-34 32 Q1->Q1 1/6/7\n",
      " │               │                             │                ├@2 17-10 24 Q1->Q1 1/4/64\n",
      " │               │                             │                ├@2 17-10 24 Q1->Q1 1/4/64 attn:Q1->~<s>\n",
      " │               │                             │                ├@3 18-42 21 Q1->Q1 1/1/-81\n",
      " │               │                             │                ├@4 17-43 20 Q1->Q1 0/1/-273\n",
      " │               │                             │                ├@5 17-18 20 Q1->Q1 1/6/43\n",
      " │               │                             │                ├@5 17-18 20 Q1->Q1 1/6/43 attn:Q1->~<s>\n",
      " │               │                             │                ├@6 18-20 18 Q1->Q1 1/2/-319\n",
      " │               │                             ├19-2,21-11 B->Q1┤\n",
      " │               │                             │                ├@7 16-10 16 Q1->Q1 0/3/-101\n",
      " │               │                             │                ├@8 18-13 16 Q1->Q1 2/10/36\n",
      " │               │                             │                ├@8 18-13 16 Q1->Q1 2/10/36 attn:Q1->~<s>\n",
      " │               │                             │                ├@9 16-3 16 Q1->Q1 1/3/-81\n",
      " │               │                             │                ├@10 10-2 16 Q1->Q1 1/2/-102\n",
      " │               │                             │                ├@11 15-22 15 Q1->Q1 8/27/-87\n",
      " │               │                             │                ├@12 11-10 15 Q1->Q1 0/0/-508\n",
      " │               │                             │                ├@13 18-48 14 Q1->Q1 0/2/86\n",
      " │               │                             │                ├@13 18-48 14 Q1->Q1 0/2/86 attn:Q1->~<s>\n",
      " │               │                             │                ├@14 16-17 13 Q1->Q1 1/6/79\n",
      " │               │                             │                └@14 16-17 13 Q1->Q1 1/6/79 attn:Q1->~<s>\n",
      " │               │                             │                ┌@[0,1,2,3,4,5,6,8,9,10,11,12] 15-m,12-m,18-m,17-m,10-m,13-m,9-m,11-m,7-m,3-m,4-m,5-m B->B 80\n",
      " │               │                             │                ├@[7,13,14] 17-10,18-23,10-35 unk 0\n",
      " │               │                             │                ├@0 15-m 100\n",
      " │               │                             │                ├@1 12-m 100\n",
      " │               │                             │                ├@2 18-m 92\n",
      " │               │                             │                ├@3 17-m 83\n",
      " │               │                             │                ├@4 10-m 76\n",
      " │               │                             │                ├@5 13-m 65\n",
      " │               │                             │                ├@6 9-m 64\n",
      " │               │                             ├21-11 B->Q1 attn┤\n",
      " │               │                             │                ├@8 11-m 54\n",
      " │               │                             │                ├@9 7-m 53\n",
      " │               │                             │                ├@10 3-m 46\n",
      " │               │                             │                ├@11 4-m 37\n",
      " │               │                             │                ├@12 5-m 36\n",
      " │               │                             │                ├@7 17-10 57 B->Q0 22/37/82 attn\n",
      " │               │                             │                ├@7 17-10 57 B->Q0 22/37/82\n",
      " │               │                             │                ├@13 18-23 33 B->A0 26/40/96 attn\n",
      " │               │                             │                ├@13 18-23 33 B->A0 26/40/96\n",
      " │               │                             │                └@14 10-35 31 B->Q1 30/51/3 attn\n",
      " │               │                             │          ┌@:15 1-m,0-m,0-29,0-22,3-26,3-20 29,0-21 26,0-13 24,0-28 17,2-7 16,1-39 16,1-35 16,1-31 13,3-35 13,3-51 13 T0->T0 13\n",
      " │               │                             │          ├@0 1-m 100\n",
      " │               │                             │          ├@1 0-m 88\n",
      " │               │                             │          ├@2 0-29 43 T0->T0 0/1/-2548\n",
      " │               │                             │          ├@3 0-22 39 T0->T0 0/1/-3335\n",
      " │               │                             │          ├@4 3-26 39 T0->T0 0/4/-394\n",
      " │               │                             │          ├@5 3-20 29 T0->T0 0/3/-93\n",
      " │               │                             │          ├@6 0-21 26 T0->T0 0/1/-1985\n",
      " │               │                             │          ├@7 0-13 24 T0->T0 0/8/-128\n",
      " │               │                             ├4-21 B->T0┤\n",
      " │               │                             │          ├@8 0-28 17 T0->T0 0/11/-159\n",
      " │               │                             │          ├@9 2-7 16 T0->T0 0/14/55\n",
      " │               │                             │          ├@9 2-7 16 T0->T0 0/14/55 attn:T0->~<s>\n",
      " │               │                             │          ├@10 1-39 16 T0->T0 0/6/-126\n",
      " │               │                             │          ├@11 1-35 16 T0->T0 0/11/-81\n",
      " │               │                             │          ├@12 1-31 13 T0->T0 0/1/-1002\n",
      " │               │                             │          ├@13 3-35 13 T0->T0 0/8/32\n",
      " │               │                             │          ├@13 3-35 13 T0->T0 0/8/32 attn:T0->~<s>\n",
      " │               │                             │          └@14 3-51 13 T0->T0 0/1/-17\n",
      " │               │                             │               ┌@[3,5,7,14] 1-m,0-m 21,2-49 18,3-14 11 B->B 14\n",
      " │               │                             │               ├@[11] 1-13 14 B->Q0- 2\n",
      " │               │                             │               ├@[0,1,2,4,6,8,9,10,12,13] 3-20,2-36,3-23,1-23 23,3-46 19,1-5 17,1-3 16,1-43 14,2-43 13,0-33 11 unk 0\n",
      " │               │                             │               ├@3 1-m 34\n",
      " │               │                             │               ├@5 0-m 21\n",
      " │               │                             │               ├@7 2-49 18 B->B 8/6/17\n",
      " │               │                             │               ├@14 3-14 11 B->B 10/26/-64\n",
      " │               │                             │               ├@11 1-13 14 B->Q0- 13/21/-29\n",
      " │               │                             │               ├@0 3-20 100 B->A0+ 3/7/-145\n",
      " │               │                             └4-21 B->T0 attn┤\n",
      " │               │                                             ├@1 2-36 63 B->A0 3/2/44 attn\n",
      " │               │                                             ├@1 2-36 63 B->A0 3/2/44\n",
      " │               │                                             ├@2 3-23 36 B->T0 1/2/-91 attn\n",
      " │               │                                             ├@4 1-23 23 B->T0 2/2/-63 attn\n",
      " │               │                                             ├@6 3-46 19 B->A0+ 1/2/-670\n",
      " │               │                                             ├@8 1-5 17 B->Q1- 3/6/4\n",
      " │               │                                             ├@9 1-3 16 B->A]^ 2/2\n",
      " │               │                                             ├@10 1-43 14 B->A]^ 0/1\n",
      " │               │                                             ├@12 2-43 13 B->Q1- 6/5/-55\n",
      " │               │                                             └@13 0-33 11 B->Q1- 0/1/-415\n",
      " │               │                      ┌@:15 14-42,17-34,22-43,21-36,13-m,11-10,20-m,21-9,22-m,11-1,24-34,18-15,15-17,18-42,17-10 Q1->Q1 21\n",
      " │               │                      ├@0 14-42 100 Q1->Q1 1/2/-2\n",
      " │               │                      ├@1 17-34 98 Q1->Q1 3/6/7\n",
      " │               │                      ├@2 22-43 70 Q1->Q1 1/4/8\n",
      " │               │                      ├@3 21-36 63 Q1->Q1 1/5/-20\n",
      " │               │                      ├@4 13-m 57\n",
      " │               │                      ├@5 11-10 52 Q1->Q1 0/0/-508\n",
      " │               │                      ├@6 20-m 50\n",
      " │               │                      ├@7 21-9 50 Q1->Q1 0/1/0\n",
      " │               │                      ├@8 22-m 48\n",
      " │               │                      ├@9 11-1 47 Q1->Q1 1/1/3\n",
      " │               │                      ├@10 24-34 46 Q1->Q1 0/0/-101\n",
      " │               │                      ├@11 18-15 42 Q1->Q1 0/0/-492\n",
      " │               │                      ├@12 15-17 40 Q1->Q1 0/0/-836\n",
      " │               │                      ├@13 18-42 39 Q1->Q1 1/1/-81\n",
      " │               │                      ├@14 17-10 35 Q1->Q1 3/4/64\n",
      " │               │                      ├@14 17-10 35 Q1->Q1 3/4/64 attn:Q1->~<s>\n",
      " │               ├19-2,25-31,23-33 B->Q1┤\n",
      " │               │                      │                                       ┌@:15 15-4,11-10,16-3,20-m,13-m,14-42,15-17,11-1,17-43,16-17,14-6,10-23,14-16,7-m,8-12 Q1->Q1 20\n",
      " │               │                      │                                       ├@0 15-4 100 Q1->Q1 0/1/26\n",
      " │               │                      │                                       ├@1 11-10 89 Q1->Q1 0/0/-508\n",
      " │               │                      │                                       ├@2 16-3 70 Q1->Q1 0/3/-81\n",
      " │               │                      │                                       ├@3 20-m 61\n",
      " │               │                      │                                       ├@4 13-m 60\n",
      " │               │                      │                                       ├@5 14-42 57 Q1->Q1 0/2/-2\n",
      " │               │                      │                                       ├@6 15-17 51 Q1->Q1 0/0/-836\n",
      " │               │                      │                                       ├@7 11-1 49 Q1->Q1 0/1/3\n",
      " │               │                      ├@[0,1,2,3,5,7,9,10,11,12,13,14]  Q1->Q1┤\n",
      " │               │                      │                                       ├@8 17-43 48 Q1->Q1 0/1/-273\n",
      " │               │                      │                                       ├@9 16-17 46 Q1->Q1 0/6/79\n",
      " │               │                      │                                       ├@9 16-17 46 Q1->Q1 0/6/79 attn:Q1->~<s>\n",
      " │               │                      │                                       ├@10 14-6 43 Q1->Q1 0/0/-213\n",
      " │               │                      │                                       ├@11 10-23 41 Q1->Q1 1/19/66\n",
      " │               │                      │                                       ├@11 10-23 41 Q1->Q1 1/19/66 attn:Q1->~<s>\n",
      " │               │                      │                                       ├@12 14-16 39 Q1->Q1 0/3/-91\n",
      " │               │                      │                                       ├@13 7-m 39\n",
      " │               │                      │                                       └@14 8-12 34 Q1->Q1 0/1/-195\n",
      " │               │                      │                          ┌@:15 15-4,16-17,10-8,13-15 26,10-2 25,11-10 25,14-42 23,14-16 23,16-3 23,15-7 22,15-22 22,10-27 21,14-18 21,13-24 19,16-35 19 Q1->Q1 6\n",
      " │               │                      │                          ├@0 15-4 100 Q1->Q1 1/1/26\n",
      " │               │                      │                          ├@1 16-17 37 Q1->Q1 4/6/79\n",
      " │               │                      │                          ├@1 16-17 37 Q1->Q1 4/6/79 attn:Q1->~<s>\n",
      " │               │                      │                          ├@2 10-8 36 Q1->Q1 31/49/3\n",
      " │               │                      │                          ├@3 13-15 26 Q1->Q1 1/1/-376\n",
      " │               │                      │                          ├@4 10-2 25 Q1->Q1 3/2/-102\n",
      " │               │                      │                          ├@5 11-10 25 Q1->Q1 0/0/-508\n",
      " │               │                      │                          ├@6 14-42 23 Q1->Q1 1/2/-2\n",
      " │               │                      │                          ├@7 14-16 23 Q1->Q1 1/3/-91\n",
      " │               │                      └17-10 Q1->Q1 attn:Q1->~<s>┤\n",
      " │               │                                                 ├@8 16-3 23 Q1->Q1 2/3/-81\n",
      " │               │                                                 ├@9 15-7 22 Q1->Q1 7/9/38\n",
      " │               │                                                 ├@9 15-7 22 Q1->Q1 7/9/38 attn:Q1->~<s>\n",
      " │               │                                                 ├@10 15-22 22 Q1->Q1 3/27/-87\n",
      " │               │                                                 ├@11 10-27 21 Q1->Q1 0/0/-733\n",
      " │               │                                                 ├@12 14-18 21 Q1->Q1 0/1/52\n",
      " │               │                                                 ├@12 14-18 21 Q1->Q1 0/1/52 attn:Q1->~<s>\n",
      " │               │                                                 ├@13 13-24 19 Q1->Q1 33/41/44\n",
      " │               │                                                 ├@13 13-24 19 Q1->Q1 33/41/44 attn:Q1->~<s>\n",
      " │               │                                                 └@14 16-35 19 Q1->Q1 0/1/-66\n",
      " │               │                      ┌@[0,1,2,4,5,6,7,9,10,11,13,14] 11-m,20-m,19-m,22-m,16-m,5-m,4-m,12-m,21-36,15-m,21-m 29,3-m 28 B->B 79\n",
      " │               │                      ├@[3,8,12] 15-4,6-8,8-1 29 unk 0\n",
      " │               │                      ├@0 11-m 100\n",
      " │               │                      ├@1 20-m 94\n",
      " │               │                      ├@2 19-m 70\n",
      " │               │                      ├@4 22-m 56\n",
      " │               │                      ├@5 16-m 54\n",
      " │               │                      ├@6 5-m 50\n",
      " │               │                      ├@7 4-m 41\n",
      " │               │                      ├@9 12-m 37\n",
      " │               │                      ├@10 21-36 37 B->B 77/20/84\n",
      " │               │                      ├@10 21-36 37 B->B 77/20/84 attn:B->~<s>\n",
      " │               │                      ├@11 15-m 36\n",
      " │               │                      ├@13 21-m 29\n",
      " │               │                      ├@14 3-m 28\n",
      " │               │                      ├@3 15-4 56 B->A]^ 60/62\n",
      " │               │                      ├@8 6-8 38 B->Q1 94/66/23 attn\n",
      " │               │                      ├@12 8-1 29 B->B^ 84/63\n",
      " │               │                      │           ┌@:15 11-31,12-23,14-18,13-29,10-23,9-15,14-16,6-m,11-50,12-18,9-24,11-25,9-0,8-m,9-29 A]->A] 14\n",
      " │               │                      │           ├@0 11-31 100 A]->A] 0/2/0\n",
      " │               │                      │           ├@1 12-23 95 A]->A] 0/3/0\n",
      " │               │                      │           ├@2 14-18 93 A]->A] 2/7/0\n",
      " │               │                      │           ├@3 13-29 76 A]->A] 1/5/0\n",
      " │               │                      │           ├@4 10-23 72 A]->A] 1/4/0\n",
      " │               │                      │           ├@5 9-15 65 A]->A] 2/3/0\n",
      " │               │                      │           ├@6 14-16 62 A]->A] 3/7/0\n",
      " │               │                      ├15-4 B->A]^┤\n",
      " │               │                      │           ├@7 6-m 57\n",
      " │               │                      │           ├@8 11-50 52 A]->A] 0/2/0\n",
      " │               │                      │           ├@9 12-18 45 A]->A] 0/6/0\n",
      " │               │                      │           ├@10 9-24 45 A]->A] 0/2/0\n",
      " │               │                      │           ├@11 11-25 43 A]->A] 1/2/0\n",
      " │               │                      │           ├@12 9-0 41 A]->A] 1/3/0\n",
      " │               │                      │           ├@13 8-m 40\n",
      " │               │                      │           └@14 9-29 39 A]->A] 0/1/0\n",
      " │               │                      │          ┌@[4,7,10,13] 17-43,16-3,16-5,14-42 B->A]^ 14\n",
      " │               │                      │          ├@[2,14] 3-m,14-m B->B 14\n",
      " │               │                      │          ├@[9,12] 15-2,15-22 B->Q1 11\n",
      " │               │                      │          ├@[0,3,6,11] 17-10,17-18,19-28,17-26 B->Q0 8\n",
      " │               │                      │          ├@[5,8] 18-23,19-33 B->A0 7\n",
      " │               │                      │          ├@[1] 16-17 unk 0\n",
      " │               │                      │          ├@4 17-43 55 B->A]^ 34/33\n",
      " │               │                      │          ├@7 16-3 44 B->A]^ 24/36\n",
      " │               │                      │          ├@10 16-5 40 B->A]^ 82/92\n",
      " │               │                      │          ├@13 14-42 37 B->A]^ 57/64\n",
      " │               │                      │          ├@2 3-m 72\n",
      " │               │                      │          ├@14 14-m 35\n",
      " │               │                      │          ├@9 15-2 43 B->Q1 62/79/62 attn\n",
      " │               │                      ├21-36 B->B┤\n",
      " │               │                      │          ├@9 15-2 43 B->Q1 62/79/62\n",
      " │               │                      │          ├@12 15-22 38 B->Q1 28/21/-32\n",
      " │               │                      │          ├@0 17-10 100 B->Q0 49/37/82 attn\n",
      " │               │                      │          ├@0 17-10 100 B->Q0 49/37/82\n",
      " │               │                      │          ├@3 17-18 58 B->Q0 21/16/72 attn\n",
      " │               │                      │          ├@3 17-18 58 B->Q0 21/16/72\n",
      " │               │                      │          ├@6 19-28 47 B->Q0 14/11/53 attn\n",
      " │               │                      │          ├@6 19-28 47 B->Q0 14/11/53\n",
      " │               │                      │          ├@11 17-26 38 B->Q0 14/5/-7\n",
      " │               │                      │          ├@5 18-23 53 B->A0 41/40/96 attn\n",
      " │               │                      │          ├@5 18-23 53 B->A0 41/40/96\n",
      " │               │                      │          ├@8 19-33 43 B->A0 25/23/97 attn\n",
      " │               │                      │          ├@8 19-33 43 B->A0 25/23/97\n",
      " │               │                      │          └@1 16-17 74 B->B^ 12/14\n",
      " │               └25-31,23-33 B->Q1 attn┤\n",
      " │                                      │                       ┌@[0,3,8] 8-1,4-28,7-30 B->B^ 5\n",
      " │                                      │                       ├@[1,4,11] 19-2,18-10,20-22 B->Q1 3\n",
      " │                                      │                       ├@[13] 18-13 B->Q0 2\n",
      " │                                      │                       ├@[2] 18-35 B->B 2\n",
      " │                                      │                       ├@[14] 10-2 B->Q0- 2\n",
      " │                                      │                       ├@[5] 20-33 B->A0 1\n",
      " │                                      │                       ├@[6,7,9,10,12] 15-8,19-6,12-27,13-31,11-4 unk 0\n",
      " │                                      │                       ├@0 8-1 100 B->B^ 35/63\n",
      " │                                      │                       ├@3 4-28 62 B->B^ 44/75\n",
      " │                                      │                       ├@8 7-30 41 B->B^ 0/3\n",
      " │                                      │                       ├@1 19-2 90 B->Q1 14/47/-21\n",
      " │                                      │                       ├@4 18-10 59 B->Q1 11/28/55 attn\n",
      " │                                      │                       ├@4 18-10 59 B->Q1 11/28/55\n",
      " │                                      ├21-36 B->B attn:B->~<s>┤\n",
      " │                                      │                       ├@11 20-22 40 B->Q1 13/17/-123\n",
      " │                                      │                       ├@13 18-13 39 B->Q0 17/17/80 attn\n",
      " │                                      │                       ├@13 18-13 39 B->Q0 17/17/80\n",
      " │                                      │                       ├@2 18-35 85 B->B 33/34/-11\n",
      " │                                      │                       ├@14 10-2 38 B->Q0- 7/7/-76\n",
      " │                                      │                       ├@5 20-33 51 B->A0 1/0/-84\n",
      " │                                      │                       ├@6 15-8 43 B->T0+ 1/0/61 attn\n",
      " │                                      │                       ├@6 15-8 43 B->T0+ 1/0/61\n",
      " │                                      │                       ├@7 19-6 41 B->T0+ 1/1/93 attn\n",
      " │                                      │                       ├@7 19-6 41 B->T0+ 1/1/93\n",
      " │                                      │                       ├@9 12-27 41 B->T0+ 0/0/28\n",
      " │                                      │                       ├@10 13-31 40 B->T0+ 0/0/-142\n",
      " │                                      │                       └@12 11-4 39 B->A]^ 0/1\n",
      " │                                      │         ┌@[8,9,13] 2-m,3-m,1-m B->B 20\n",
      " │                                      │         ├@[0,1,2,3,4,5,11,14] 7-9,4-42,6-39,5-42,4-29,7-10,5-20,4-28 30 B->B^ 4\n",
      " │                                      │         ├@[6,7,10,12] 6-42,6-19,4-21,7-6 unk 0\n",
      " │                                      │         ├@8 2-m 49\n",
      " │                                      │         ├@9 3-m 47\n",
      " │                                      │         ├@13 1-m 32\n",
      " │                                      │         ├@0 7-9 100 B->B^ 4/7\n",
      " │                                      │         ├@1 4-42 95 B->B^ 2/6\n",
      " │                                      │         ├@2 6-39 93 B->B^ 2/12\n",
      " │                                      │         ├@3 5-42 78 B->B^ 3/5\n",
      " │                                      ├8-1 B->B^┤\n",
      " │                                      │         ├@4 4-29 78 B->B^ 29/87\n",
      " │                                      │         ├@5 7-10 64 B->B^ 8/46\n",
      " │                                      │         ├@11 5-20 42 B->B^ 3/5\n",
      " │                                      │         ├@14 4-28 30 B->B^ 17/75\n",
      " │                                      │         ├@6 6-42 60 B->A0+ 10/9/-40\n",
      " │                                      │         ├@7 6-19 58 B->A0+ 17/12/61 attn\n",
      " │                                      │         ├@7 6-19 58 B->A0+ 17/12/61\n",
      " │                                      │         ├@10 4-21 46 B->Q1 0/0/34 attn\n",
      " │                                      │         ├@10 4-21 46 B->Q1 0/0/34\n",
      " │                                      │         ├@12 7-6 39 B->Q1 4/4/38 attn\n",
      " │                                      │         └@12 7-6 39 B->Q1 4/4/38\n",
      " │                                      │              ┌@[0,3,4,6] 3-m,1-m,2-m,0-m 28 B->B 28\n",
      " │                                      │              ├@[8,9,11,12,14] 3-46 26,3-12 22,4-28 16,4-19 15,1-3 15 B->B^ 16\n",
      " │                                      │              ├@[1,10] 3-0,3-35 17 B->Q1 12\n",
      " │                                      │              ├@[2,5] 5-42,4-40 B->A]^ 7\n",
      " │                                      │              ├@[7] 0-28 27 B->Q1- 3\n",
      " │                                      │              ├@[13] 5-34 15 unk 0\n",
      " │                                      │              ├@0 3-m 100\n",
      " │                                      │              ├@3 1-m 36\n",
      " │                                      │              ├@4 2-m 31\n",
      " │                                      │              ├@6 0-m 28\n",
      " │                                      │              ├@8 3-46 26 B->B^ 3/2\n",
      " │                                      └6-8 B->Q1 attn┤\n",
      " │                                                     ├@9 3-12 22 B->B^ 74/38\n",
      " │                                                     ├@11 4-28 16 B->B^ 98/75\n",
      " │                                                     ├@12 4-19 15 B->B^ 57/29\n",
      " │                                                     ├@14 1-3 15 B->B^ 2/2\n",
      " │                                                     ├@1 3-0 79 B->Q1 100/96/-1 attn\n",
      " │                                                     ├@10 3-35 17 B->Q1 70/33/-27 attn\n",
      " │                                                     ├@2 5-42 50 B->A]^ 5/11\n",
      " │                                                     ├@5 4-40 30 B->A]^ 91/67\n",
      " │                                                     ├@7 0-28 27 B->Q1- 9/8/-29\n",
      " │                                                     ├@13 5-34 15 B->Q0 24/12/32 attn\n",
      " │                                                     └@13 5-34 15 B->Q0 24/12/32\n",
      " │                ┌@[2,5,6,8,9,11] 20-m,24-m,29-m,19-m,25-m,26-m 29 B->B 40\n",
      " │                ├@[0,1,3,7,10,12,13] 15-4,24-34,20-51,23-27,5-42 30,7-11 28,8-51 24 B->A]^ 31\n",
      " │                ├@[4,14] 23-33,17-40 23 B->Q1 9\n",
      " │                ├@2 20-m 42\n",
      " │                ├@5 24-m 38\n",
      " │                ├@6 29-m 36\n",
      " │                ├@8 19-m 33\n",
      " │                ├@9 25-m 33\n",
      " │                ├@11 26-m 29\n",
      " │                ├@0 15-4 100 B->A]^ 83/62\n",
      " │                ├@1 24-34 49 B->A]^ 99/77\n",
      " │                ├@3 20-51 40 B->A]^ 78/25\n",
      " │                ├@7 23-27 36 B->A]^ 85/66\n",
      " │                ├@10 5-42 30 B->A]^ 8/11\n",
      " │                ├@12 7-11 28 B->A]^ 99/94\n",
      " │                ├@13 8-51 24 B->A]^ 15/11\n",
      " │                ├@4 23-33 39 B->Q1 39/16/67 attn\n",
      " │                ├@14 17-40 23 B->Q1 88/59/51 attn\n",
      " │                │                           ┌@:15 8-m,3-m,9-m,14-m,2-m,13-m,4-m,10-2,5-m,5-41,6-m,19-m,11-31,10-23,9-15 A]->A] 67\n",
      " │                │                           ├@0 8-m 100\n",
      " │                │                           ├@1 3-m 91\n",
      " │                │                           ├@2 9-m 85\n",
      " │                │                           ├@3 14-m 75\n",
      " │                │                           ├@4 2-m 71\n",
      " │                │                           ├@5 13-m 61\n",
      " │                │                           ├@6 4-m 50\n",
      " │                │                           ├@7 10-2 49 A]->A] 1/3/0\n",
      " │                │                           ├@8 5-m 47\n",
      " │                │                           ├@9 5-41 46 A]->A] -1/6/0\n",
      " │                │                           ├@10 6-m 45\n",
      " │                │                           ├@11 19-m 40\n",
      " │                │                           ├@12 11-31 37 A]->A] 1/2/0\n",
      " │                │                           ├@13 10-23 37 A]->A] 2/4/0\n",
      " │                │                           ├@14 9-15 36 A]->A] 1/3/0\n",
      " │                ├@[0,1,3,7,10,12,13]  B->A]^┤\n",
      " │                │                           │                       ┌@:15 8-m,4-m,7-9,5-42,9-15 29,2-m 28,7-11 27,8-34 24,6-19 20,6-7 19,4-40 17,8-1 17,6-8 16,8-6 15,5-m 15 A]->A] 27\n",
      " │                │                           │                       ├@0 8-m 100\n",
      " │                │                           │                       ├@1 4-m 48\n",
      " │                │                           │                       ├@2 7-9 34 A]->A] 1/3/0\n",
      " │                │                           │                       ├@3 5-42 33 A]->A] 0/5/0\n",
      " │                │                           │                       ├@4 9-15 29 A]->A] 0/3/0\n",
      " │                │                           │                       ├@5 2-m 28\n",
      " │                │                           │                       ├@6 7-11 27 A]->A] 0/3/0\n",
      " │                │                           └@[7,9,12,13,14]  A]->A]┤\n",
      " │                │                                                   ├@7 8-34 24 A]->A] 0/2/0\n",
      " │                │                                                   ├@8 6-19 20 A]->A] 0/2/0\n",
      " │                │                                                   ├@9 6-7 19 A]->A] 0/4/0\n",
      " │                │                                                   ├@10 4-40 17 A]->A] 0/0/0\n",
      " │                │                                                   ├@11 8-1 17 A]->A] 1/13/0\n",
      " │                │                                                   ├@12 6-8 16 A]->A] 0/3/0\n",
      " │                │                                                   ├@13 8-6 15 A]->A] 0/3/0\n",
      " │                │                                                   └@14 5-m 15\n",
      " ├32-21 B->Q1 attn┤\n",
      " │                │                      ┌@[0,2,3,4,5,6,7,8,10] 16-m,15-m,11-m,20-m,12-m,13-m,19-m,5-m,3-m B->B 60\n",
      " │                │                      ├@[1,12,13,14] 15-4,16-3,20-51,16-5 B->A]^ 19\n",
      " │                │                      ├@[9] 8-1 B->B^ 8\n",
      " │                │                      ├@[11] 16-17 unk 0\n",
      " │                │                      ├@0 16-m 100\n",
      " │                │                      ├@2 15-m 86\n",
      " │                │                      ├@3 11-m 84\n",
      " │                │                      ├@4 20-m 77\n",
      " │                │                      ├@5 12-m 73\n",
      " │                │                      ├@6 13-m 67\n",
      " │                │                      ├@7 19-m 62\n",
      " │                │                      ├@8 5-m 61\n",
      " │                │                      ├@10 3-m 47\n",
      " │                │                      ├@1 15-4 100 B->A]^ 64/62\n",
      " │                │                      ├@12 16-3 44 B->A]^ 40/36\n",
      " │                │                      ├@13 20-51 36 B->A]^ 79/25\n",
      " │                │                      ├@14 16-5 34 B->A]^ 97/92\n",
      " │                │                      ├@9 8-1 55 B->B^ 90/63\n",
      " │                │                      ├@11 16-17 44 B->Q1 24/22/56 attn\n",
      " │                └23-33,17-40 B->Q1 attn┤\n",
      " │                                       │                           ┌@:15 14-m,12-m,10-23,11-31,14-18,12-23,8-m,9-15,11-50,13-m,12-18,15-m 29,6-m 28,13-29 28,5-m 25 A]->A] 47\n",
      " │                                       │                           ├@0 14-m 100\n",
      " │                                       │                           ├@1 12-m 66\n",
      " │                                       │                           ├@2 10-23 56 A]->A] 1/4/0\n",
      " │                                       │                           ├@3 11-31 52 A]->A] 0/2/0\n",
      " │                                       │                           ├@4 14-18 51 A]->A] 2/7/0\n",
      " │                                       │                           ├@5 12-23 43 A]->A] 0/3/0\n",
      " │                                       │                           ├@6 8-m 39\n",
      " │                                       ├15-4,16-3,20-51,16-5 B->A]^┤\n",
      " │                                       │                           ├@7 9-15 38 A]->A] 2/3/0\n",
      " │                                       │                           ├@8 11-50 33 A]->A] 0/2/0\n",
      " │                                       │                           ├@9 13-m 31\n",
      " │                                       │                           ├@10 12-18 31 A]->A] 0/6/0\n",
      " │                                       │                           ├@11 15-m 29\n",
      " │                                       │                           ├@12 6-m 28\n",
      " │                                       │                           ├@13 13-29 28 A]->A] 1/5/0\n",
      " │                                       │                           └@14 5-m 25\n",
      " │                                       │         ┌@[1,4,10] 3-m,2-m,1-m B->B 20\n",
      " │                                       │         ├@[7,8] 6-14,6-8 B->Q1 3\n",
      " │                                       │         ├@[3,5,11] 6-42,7-28,6-19 B->A0+ 3\n",
      " │                                       │         ├@[0,2,9,12] 5-42,4-42,5-20,4-28 B->B^ 3\n",
      " │                                       │         ├@[6,13,14] 6-30,4-21,7-6 unk 0\n",
      " │                                       │         ├@1 3-m 72\n",
      " │                                       │         ├@4 2-m 52\n",
      " │                                       │         ├@10 1-m 36\n",
      " │                                       │         ├@7 6-14 45 B->Q1 4/2/30\n",
      " │                                       │         ├@8 6-8 44 B->Q1 30/66/23\n",
      " │                                       │         ├@3 6-42 58 B->A0+ 8/9/-40\n",
      " │                                       ├8-1 B->B^┤\n",
      " │                                       │         ├@5 7-28 46 B->A0+ 5/7/-33\n",
      " │                                       │         ├@11 6-19 36 B->A0+ 20/12/61 attn\n",
      " │                                       │         ├@11 6-19 36 B->A0+ 20/12/61\n",
      " │                                       │         ├@0 5-42 100 B->B^ 2/5\n",
      " │                                       │         ├@2 4-42 65 B->B^ 4/6\n",
      " │                                       │         ├@9 5-20 41 B->B^ 3/5\n",
      " │                                       │         ├@12 4-28 35 B->B^ 30/75\n",
      " │                                       │         ├@6 6-30 46 B->A]^ 1/1\n",
      " │                                       │         ├@13 4-21 34 B->Q1- 0/0/51 attn\n",
      " │                                       │         ├@13 4-21 34 B->Q1- 0/0/51\n",
      " │                                       │         ├@14 7-6 32 B->A0 5/2/82 attn\n",
      " │                                       │         └@14 7-6 32 B->A0 5/2/82\n",
      " │                                       └16-17 B->Q1 attn\n",
      " │           ┌@:15 10-m,15-m,21-m,15-51,23-m,14-m,23-33,14-40 28,22-43 28,17-40 27,17-6 23,11-37 21,26-m 21,9-m 20,10-23 19 Q1->Q1 42\n",
      " │           ├@0 10-m 100\n",
      " │           ├@1 15-m 50\n",
      " │           ├@2 21-m 47\n",
      " │           ├@3 15-51 39 Q1->Q1 0/0/4\n",
      " │           ├@4 23-m 38\n",
      " │           ├@5 14-m 37\n",
      " │           ├@6 23-33 35 Q1->Q1 22/3/53\n",
      " │           ├@6 23-33 35 Q1->Q1 22/3/53 attn:Q1->~<s>\n",
      " │           ├@7 14-40 28 Q1->Q1 1/0/-37\n",
      " │           ├@8 22-43 28 Q1->Q1 6/4/8\n",
      " │           ├@9 17-40 27 Q1->Q1 30/23/-9\n",
      " │           ├@10 17-6 23 Q1->Q1 3/2/75\n",
      " │           ├@10 17-6 23 Q1->Q1 3/2/75 attn:Q1->~<s>\n",
      " │           ├@11 11-37 21 Q1->Q1 2/0/42\n",
      " │           ├@11 11-37 21 Q1->Q1 2/0/42 attn:Q1->~<s>\n",
      " │           ├@12 26-m 21\n",
      " │           ├@13 9-m 20\n",
      " │           ├@14 10-23 19 Q1->Q1 -137/19/66\n",
      " │           ├@14 10-23 19 Q1->Q1 -137/19/66 attn:Q1->~<s>\n",
      " └32-21 B->Q1┤\n",
      "             │                             ┌@:15 3-m,11-m,12-m 29,10-28 28,14-m 27,12-0 27,10-50 24,12-37 23,9-30 20,12-27 18,11-36 17,11-40 16,13-36 16,16-3 15,8-30 15 Q1->Q1 28\n",
      "             │                             ├@0 3-m 100\n",
      "             │                             ├@1 11-m 59\n",
      "             │                             ├@2 12-m 29\n",
      "             │                             ├@3 10-28 28 Q1->Q1 1/21/-31\n",
      "             │                             ├@4 14-m 27\n",
      "             │                             ├@5 12-0 27 Q1->Q1 0/1/8\n",
      "             │                             ├@6 10-50 24 Q1->Q1 0/1/-588\n",
      "             │                             ├@7 12-37 23 Q1->Q1 2/11/70\n",
      "             │                             ├@7 12-37 23 Q1->Q1 2/11/70 attn:Q1->~<s>\n",
      "             │                             ├@8 9-30 20 Q1->Q1 5/10/-30\n",
      "             │                             ├@9 12-27 18 Q1->Q1 3/7/1\n",
      "             │                             ├@10 11-36 17 Q1->Q1 0/0/-187\n",
      "             │                             ├@11 11-40 16 Q1->Q1 1/1/-70\n",
      "             │                             ├@12 13-36 16 Q1->Q1 0/24/-53\n",
      "             │                             ├@13 16-3 15 Q1->Q1 0/3/-81\n",
      "             │                             ├@14 8-30 15 Q1->Q1 2/4/-68\n",
      "             ├@[3,6,7,8,9,10,11,14]  Q1->Q1┤\n",
      "             │                             │                                     ┌@:15 3-m,10-50 12,8-30 9,7-0 8,0-m 8,8-1 8,1-m 7,8-15 6,11-37 5,11-36 4,10-23 4,9-30 4,6-40 3,11-11 3,5-30 3 Q1->Q1 20\n",
      "             │                             │                                     ├@0 3-m 100\n",
      "             │                             │                                     ├@1 10-50 12 Q1->Q1 0/1/-588\n",
      "             │                             │                                     ├@2 8-30 9 Q1->Q1 0/4/-68\n",
      "             │                             │                                     ├@3 7-0 8 Q1->Q1 0/0/-53\n",
      "             │                             │                                     ├@4 0-m 8\n",
      "             │                             │                                     ├@5 8-1 8 Q1->Q1 0/4/47\n",
      "             │                             │                                     ├@5 8-1 8 Q1->Q1 0/4/47 attn:Q1->~<s>\n",
      "             │                             │                                     ├@6 1-m 7\n",
      "             │                             │                                     ├@7 8-15 6 Q1->Q1 0/0/22\n",
      "             │                             ├@[3,5,6,7,8,9,10,11,12,13,14]  Q1->Q1┤\n",
      "             │                             │                                     ├@8 11-37 5 Q1->Q1 0/0/42\n",
      "             │                             │                                     ├@8 11-37 5 Q1->Q1 0/0/42 attn:Q1->~<s>\n",
      "             │                             │                                     ├@9 11-36 4 Q1->Q1 0/0/-187\n",
      "             │                             │                                     ├@10 10-23 4 Q1->Q1 1/19/66\n",
      "             │                             │                                     ├@10 10-23 4 Q1->Q1 1/19/66 attn:Q1->~<s>\n",
      "             │                             │                                     ├@11 9-30 4 Q1->Q1 0/10/-30\n",
      "             │                             │                                     ├@12 6-40 3 Q1->Q1 0/0/-3321\n",
      "             │                             │                                     ├@13 11-11 3 Q1->Q1 0/28/32\n",
      "             │                             │                                     ├@13 11-11 3 Q1->Q1 0/28/32 attn:Q1->~<s>\n",
      "             │                             │                                     └@14 5-30 3 Q1->Q1 0/0/-159\n",
      "             │                             │                          ┌@:15 11-48,11-1,6-4,11-10,8-34,4-6,8-29,10-13,9-37,10-8,10-2,8-1 29,7-22 28,5-17 26,8-16 26 Q1->Q1 3\n",
      "             │                             │                          ├@0 11-48 100 Q1->Q1 0/1/-25\n",
      "             │                             │                          ├@1 11-1 68 Q1->Q1 0/1/3\n",
      "             │                             │                          ├@2 6-4 59 Q1->Q1 0/0/-1745\n",
      "             │                             │                          ├@3 11-10 51 Q1->Q1 0/0/-508\n",
      "             │                             │                          ├@4 8-34 51 Q1->Q1 1/2/-308\n",
      "             │                             │                          ├@5 4-6 44 Q1->Q1 0/0/-1178\n",
      "             │                             │                          ├@6 8-29 38 Q1->Q1 2/2/-76\n",
      "             │                             └12-37 Q1->Q1 attn:Q1->~<s>┤\n",
      "             │                                                        ├@7 10-13 38 Q1->Q1 0/0/-1409\n",
      "             │                                                        ├@8 9-37 35 Q1->Q1 0/0/-464\n",
      "             │                                                        ├@9 10-8 32 Q1->Q1 38/49/3\n",
      "             │                                                        ├@10 10-2 32 Q1->Q1 2/2/-102\n",
      "             │                                                        ├@11 8-1 29 Q1->Q1 3/4/47\n",
      "             │                                                        ├@11 8-1 29 Q1->Q1 3/4/47 attn:Q1->~<s>\n",
      "             │                                                        ├@12 7-22 28 Q1->Q1 0/0/-11584\n",
      "             │                                                        ├@13 5-17 26 Q1->Q1 0/0/-4052\n",
      "             │                                                        └@14 8-16 26 Q1->Q1 0/0/-350\n",
      "             │                                           ┌@:15 9-37,8-29,8-1,15-0,16-17,10-2,6-36,10-8,10-18,6-4,14-7,13-42,16-33,5-40,8-16 Q1->Q1 3\n",
      "             │                                           ├@0 9-37 100 Q1->Q1 0/0/-464\n",
      "             │                                           ├@1 8-29 94 Q1->Q1 2/2/-76\n",
      "             │                                           ├@2 8-1 87 Q1->Q1 2/4/47\n",
      "             │                                           ├@2 8-1 87 Q1->Q1 2/4/47 attn:Q1->~<s>\n",
      "             │                                           ├@3 15-0 82 Q1->Q1 2/3/57\n",
      "             │                                           ├@3 15-0 82 Q1->Q1 2/3/57 attn:Q1->~<s>\n",
      "             │                                           ├@4 16-17 70 Q1->Q1 4/6/79\n",
      "             │                                           ├@4 16-17 70 Q1->Q1 4/6/79 attn:Q1->~<s>\n",
      "             │                                           ├@5 10-2 68 Q1->Q1 2/2/-102\n",
      "             │                                           ├@6 6-36 68 Q1->Q1 0/0/-153\n",
      "             │                                           ├@7 10-8 63 Q1->Q1 32/49/3\n",
      "             │                                           ├@8 10-18 63 Q1->Q1 0/0/-427\n",
      "             │                                           ├@9 6-4 60 Q1->Q1 0/0/-1745\n",
      "             │                                           ├@10 14-7 56 Q1->Q1 1/1/-65\n",
      "             │                                           ├@11 13-42 56 Q1->Q1 0/0/-448\n",
      "             │                                           ├@12 16-33 52 Q1->Q1 3/6/73\n",
      "             │                                           ├@12 16-33 52 Q1->Q1 3/6/73 attn:Q1->~<s>\n",
      "             │                                           ├@13 5-40 52 Q1->Q1 0/0/-2053\n",
      "             │                                           ├@14 8-16 51 Q1->Q1 0/0/-350\n",
      "             └23-33,17-6,11-37,10-23 Q1->Q1 attn:Q1->~<s>┤\n",
      "                                                         │            ┌@:15 3-m,10-m,11-48 26,13-29 23,6-m 19,12-8 19,5-40 17,13-46 14,9-29 12,9-39 11,12-18 11,12-50 11,11-1 10,10-35 10,7-9 10 Q1->Q1 20\n",
      "                                                         │            ├@0 3-m 100\n",
      "                                                         │            ├@1 10-m 36\n",
      "                                                         │            ├@2 11-48 26 Q1->Q1 0/1/-25\n",
      "                                                         │            ├@3 13-29 23 Q1->Q1 0/1/5\n",
      "                                                         │            ├@4 6-m 19\n",
      "                                                         │            ├@5 12-8 19 Q1->Q1 0/1/-121\n",
      "                                                         │            ├@6 5-40 17 Q1->Q1 0/0/-2053\n",
      "                                                         ├@:15  Q1->Q1┤\n",
      "                                                         │            ├@7 13-46 14 Q1->Q1 0/2/41\n",
      "                                                         │            ├@7 13-46 14 Q1->Q1 0/2/41 attn:Q1->~<s>\n",
      "                                                         │            ├@8 9-29 12 Q1->Q1 0/0/-461\n",
      "                                                         │            ├@9 9-39 11 Q1->Q1 0/1/-48\n",
      "                                                         │            ├@10 12-18 11 Q1->Q1 0/1/-142\n",
      "                                                         │            ├@11 12-50 11 Q1->Q1 0/1/-244\n",
      "                                                         │            ├@12 11-1 10 Q1->Q1 0/1/3\n",
      "                                                         │            ├@13 10-35 10 Q1->Q1 0/7/4\n",
      "                                                         │            └@14 7-9 10 Q1->Q1 0/0/-353\n",
      "                                                         │                                         ┌@:15 15-0,14-7,15-22,13-46,10-13,14-30,12-18,4-6,14-27,10-2,11-10,14-16,8-29,12-33,15-51 Q1->Q1 2\n",
      "                                                         │                                         ├@0 15-0 100 Q1->Q1 2/3/57\n",
      "                                                         │                                         ├@0 15-0 100 Q1->Q1 2/3/57 attn:Q1->~<s>\n",
      "                                                         │                                         ├@1 14-7 91 Q1->Q1 1/1/-65\n",
      "                                                         │                                         ├@2 15-22 78 Q1->Q1 13/27/-87\n",
      "                                                         │                                         ├@3 13-46 57 Q1->Q1 1/2/41\n",
      "                                                         │                                         ├@3 13-46 57 Q1->Q1 1/2/41 attn:Q1->~<s>\n",
      "                                                         │                                         ├@4 10-13 50 Q1->Q1 0/0/-1409\n",
      "                                                         │                                         ├@5 14-30 49 Q1->Q1 5/6/-108\n",
      "                                                         └8-1,15-0,16-17,16-33 Q1->Q1 attn:Q1->~<s>┤\n",
      "                                                                                                   ├@6 12-18 49 Q1->Q1 0/1/-142\n",
      "                                                                                                   ├@7 4-6 48 Q1->Q1 0/0/-1178\n",
      "                                                                                                   ├@8 14-27 46 Q1->Q1 0/1/-338\n",
      "                                                                                                   ├@9 10-2 45 Q1->Q1 2/2/-102\n",
      "                                                                                                   ├@10 11-10 44 Q1->Q1 0/0/-508\n",
      "                                                                                                   ├@11 14-16 44 Q1->Q1 1/3/-91\n",
      "                                                                                                   ├@12 8-29 43 Q1->Q1 2/2/-76\n",
      "                                                                                                   ├@13 12-33 40 Q1->Q1 -1/3/-66\n",
      "                                                                                                   └@14 15-51 40 Q1->Q1 0/0/4\n"
     ]
    }
   ],
   "source": [
    "print_tree(r.root)"
   ]
  },
  {
   "cell_type": "code",
   "execution_count": 85,
   "id": "d469e09d",
   "metadata": {},
   "outputs": [
    {
     "ename": "NameError",
     "evalue": "name 'get_head_mlp_att' is not defined",
     "output_type": "error",
     "traceback": [
      "\u001b[0;31m---------------------------------------------------------------------------\u001b[0m",
      "\u001b[0;31mNameError\u001b[0m                                 Traceback (most recent call last)",
      "Cell \u001b[0;32mIn[85], line 1\u001b[0m\n\u001b[0;32m----> 1\u001b[0m heads \u001b[38;5;241m=\u001b[39m np\u001b[38;5;241m.\u001b[39marray(topk_md(get_head_mlp_att(node\u001b[38;5;241m.\u001b[39mdata\u001b[38;5;241m.\u001b[39mattr), \u001b[38;5;241m20\u001b[39m)[:\u001b[38;5;241m2\u001b[39m])[:, \u001b[38;5;241m3\u001b[39m]\n",
      "\u001b[0;31mNameError\u001b[0m: name 'get_head_mlp_att' is not defined"
     ]
    }
   ],
   "source": [
    "heads = np.array(topk_md(head_attr_fn(node.data.attr), 20)[:2])[:, 3] if layer is None else [wrap(layer), wrap(head)]"
   ]
  },
  {
   "cell_type": "code",
   "execution_count": null,
   "id": "49d947c1",
   "metadata": {},
   "outputs": [],
   "source": [
    "all_examples, texts, all_bos_tokens = mathlogic_dataset\n",
    "print('all_examples', all_examples, '\\ntexts',texts,'\\nall_bos_tokens',all_bos_tokens)"
   ]
  },
  {
   "cell_type": "markdown",
   "id": "9cf1ba6b",
   "metadata": {},
   "source": [
    "1.There are jersey<font color=\"#dd0000\">(ans0)</font>,uniform<font color=\"#dd0000\">(ans0)</font>,jeep.(sep) How many clothing(query) are there? Answer:(bos) Two(ans).\\n   无tgt，ntgt，当 ans == len(cxt)时无 nans0\n",
    "\n",
    "2.There are spaghetti<font color=\"blue\">(ans1)</font>,hamburger<font color=\"blue\">(ans1)</font>,burger<font color=\"blue\">(ans1)</font>,soda<font color=\"#dd0000\">(ans0)</font>,steak<font color=\"blue\">(ans1)</font>.(sep) Are there more drink(query) than food(query)? Answer:(bos) No(ans).\\n   无tgt\n",
    "\n",
    "3.Lisa(tgt) has pizza<font color=\"#dd0000\">(ans0)</font>, Anthony has spaghetti, Steven(tgt1) has spaghetti(ans1).(sep) Do Steven(query) and Lisa(query) have the same thing? Answer: (bos) No(ans).\n",
    "\n",
    "4.A(tgt)'s name is Austin<font color=\"#dd0000\">(ans0)</font>, S's name is Harrison, Q's name is Ashley, D's name is Katherine, W(tgt)'s name is Dylan(ans0). Is the gender of A(query) the same as W(query)? Answer:(bos) Yes(ans). \n",
    "\n",
    "5.V's name is Mark, D(tgt)'s name is Christopher<font color=\"#dd0000\">(ans0)</font>, K's name is William, N's name is Deborah, X's name is Barbara. Is D(query) a boy? Answer:(bos) Yes(ans).\n",
    "\n",
    "data_tuples中有用的数据text, input_ids, labels, ranges, *_, o = data_tuple"
   ]
  },
  {
   "cell_type": "code",
   "execution_count": 30,
   "id": "2525e080",
   "metadata": {},
   "outputs": [
    {
     "data": {
      "text/plain": [
       "2"
      ]
     },
     "execution_count": 30,
     "metadata": {},
     "output_type": "execute_result"
    }
   ],
   "source": [
    "len(r.data_tuples)"
   ]
  },
  {
   "cell_type": "code",
   "execution_count": null,
   "id": "3f647696",
   "metadata": {},
   "outputs": [],
   "source": []
  },
  {
   "cell_type": "code",
   "execution_count": 19,
   "id": "dd1a60fa",
   "metadata": {},
   "outputs": [
    {
     "data": {
      "text/plain": [
       "tensor([[0, 1, 0, 1],\n",
       "        [2, 3, 2, 3]])"
      ]
     },
     "execution_count": 19,
     "metadata": {},
     "output_type": "execute_result"
    }
   ],
   "source": [
    "a = [[0,1],[2,3]]\n",
    "a = torch.tensor(a)\n",
    "a.repeat(1,2)"
   ]
  },
  {
   "cell_type": "code",
   "execution_count": null,
   "id": "6e31dcee",
   "metadata": {},
   "outputs": [],
   "source": []
  },
  {
   "cell_type": "code",
   "execution_count": 629,
   "id": "9e74670b",
   "metadata": {},
   "outputs": [],
   "source": [
    "def locate_example(ids, token):\n",
    "    ids = ids == tokenizer.encode(token)[-1]\n",
    "    Example = []\n",
    "    for i in range(len(ids.nonzero())):\n",
    "        if(i-1<0):\n",
    "            example = (1,int(ids.nonzero()[i][0]))\n",
    "        else:\n",
    "            example = (int(ids.nonzero()[i-1][0]+1),int(ids.nonzero()[i][0]))\n",
    "        Example.append(example)\n",
    "    return Example\n",
    "\n",
    "def locate(ids, token):\n",
    "    if token == '.':\n",
    "        ids_bool = ids == 29889\n",
    "    else:\n",
    "        ids_bool = ids == tokenizer.encode(token)[1]\n",
    "    \n",
    "    Example = []\n",
    "    loc = ids_bool.nonzero()\n",
    "#     print(\"token:\",token,tokenizer.encode(token),\"loc:\",loc)\n",
    "#     if(len(loc)<2):\n",
    "    for i in range(len(loc)):\n",
    "        if len(tokenizer.encode(token)[1:])>1 and ids[loc[i][0]+1] == tokenizer.encode(token)[2]:\n",
    "            example = (int(loc[i][0]),int(loc[i][0])+len(tokenizer.encode(token)[1:]))\n",
    "        elif len(tokenizer.encode(token)[1:]) <= 1:\n",
    "            example = (int(loc[i][0]),int(loc[i][0])+len(tokenizer.encode(token)[1:]))\n",
    "        else:\n",
    "            continue\n",
    "        Example.append(example)\n",
    "    return Example\n",
    "\n",
    "def find_thing(x,y,flag=False): #tuple类型\n",
    "    Y = []\n",
    "    Y.append(y[0])\n",
    "    Y.append(y[1])\n",
    "    if(flag == False):\n",
    "        if x[0] not in Y: \n",
    "            return x[0],x[1]\n",
    "        else: return None\n",
    "    else:\n",
    "        if x[0] in Y: \n",
    "            return x[0],x[1]\n",
    "        else: return None\n",
    "\n",
    "\n",
    "def locate_query_tgt(ids,tokens,example):\n",
    "\n",
    "    Loc = [] #所有query和tgt的位置\n",
    "    sorted_loc = []\n",
    "    for i in range(len(tokens[2])):\n",
    "        for q in tokens[2][i]:\n",
    "            loc = locate(ids,q)\n",
    "#             print(\"q:\",q)\n",
    "#             print(\"token:\",q,\"loc:\",loc)\n",
    "            Loc.extend(loc)  #所有tgt和query的位置\n",
    "    \n",
    "    for i in example:\n",
    "        sort_loc = []\n",
    "        for j in Loc:\n",
    "            if i[0]<=j[1] and j[1]<=i[1]:\n",
    "                sort_loc.append(j)\n",
    "        sorted_loc.append(sort_loc)   #每个问题排序后的tgt,query位置,使用下面的内容排列\n",
    "        \n",
    "    \n",
    "    tgt0 = [];query0=[];tgt1=[];query1=[]\n",
    "    for i in sorted_loc:\n",
    "        tgt0.append(i[0])\n",
    "        query0.append(i[1])\n",
    "        tgt1.append(i[2])\n",
    "        query1.append(i[3])\n",
    "        \n",
    "    return tgt0,query0,tgt1,query1;\n",
    "\n",
    "def tuple2list(tuplelist):\n",
    "    if len(tuplelist)>1:\n",
    "        for i in tuplelist:\n",
    "            list_0.append(i[0])\n",
    "            list_1.append(i[1])\n",
    "    return (np.array(list_0),np.array(list_1))\n",
    "    \n",
    "    \n",
    "def locate_other(ids,tokens,example):\n",
    "    print(tokens[1])\n",
    "    Nans0 = [];Ntgt = [];Ans0 = [];Tgt = []\n",
    "    Nans0_loc = [];Ntgt_loc = [[] for _ in range(len(example))];Ans0_loc = [];Tgt_loc = []\n",
    "    for i in range(len(tokens[2])):\n",
    "        ntgt = [];nans0=[];tgt=[];ans0=[]\n",
    "        for n in tokens[1][i]:\n",
    "            if find_thing(n,tokens[2][i],False) is not None:\n",
    "                ntgt.append(find_thing(n,tokens[2][i],False)[0])\n",
    "                nans0.append(find_thing(n,tokens[2][i],False)[1])\n",
    "            if find_thing(n,tokens[2][i],True) is not None:\n",
    "                tgt.append(find_thing(n,tokens[2][i],True)[0])\n",
    "                ans0.append(find_thing(n,tokens[2][i],True)[1])\n",
    "        #得到tgt,ntgt,ans0和nans0的token\n",
    "        Ntgt.append(ntgt)\n",
    "        Nans0.append(nans0)\n",
    "        Tgt.append(tgt)\n",
    "        Ans0.append(ans0)\n",
    "                \n",
    "    print(\"Ntgt\",Ntgt,\"tgt\",Tgt)\n",
    "    for nt,na,t,a in zip(Ntgt,Nans0,Tgt,Ans0):\n",
    "        for i,j in zip(nt,na):\n",
    "            loc = locate(ids,i) \n",
    "            for d in loc: #判断当前loc是否在范围内\n",
    "                for t,num in enumerate(example):\n",
    "                    \n",
    "                    if num[0]<=d[1] and d[1]<=num[1]:\n",
    "                        Ntgt_loc[i].append(d) \n",
    "    print(\"Ntgt_loc\",Ntgt_loc)"
   ]
  },
  {
   "cell_type": "code",
   "execution_count": 674,
   "id": "5f2a48e6",
   "metadata": {},
   "outputs": [
    {
     "name": "stdout",
     "output_type": "stream",
     "text": [
      "[['Ruth has pizza, Laura has pizza, Dorothy has steak. Do Ruth and Laura have the same thing? Answer: Yes.\\n Karen has burger, Sandra has spaghetti, Kevin has burger. Do Karen and Kevin have the same thing? Answer: Yes.\\n Nancy has steak, Steven has burger, Dorothy has steak. Do Steven and Nancy have the same thing? Answer: No.\\n Ronald has pizza, Christopher has burger, Edward has steak. Do Edward and Ronald have the same thing? Answer: No.\\n', tensor([    1, 23130,   756,   282, 24990, 29892, 21671,   756,   282, 24990,\n",
      "        29892,  9579, 20336,   756,  1886,   557, 29889,  1938, 23130,   322,\n",
      "        21671,   505,   278,  1021,  2655, 29973,   673, 29901,  3869, 29889,\n",
      "           13,  3467,   264,   756,  6866,   914, 29892,  8564,   336,   756,\n",
      "          805, 21705,  9890, 29892, 19323,   756,  6866,   914, 29889,  1938,\n",
      "         3467,   264,   322, 19323,   505,   278,  1021,  2655, 29973,   673,\n",
      "        29901,  3869, 29889,    13, 24190,   756,  1886,   557, 29892, 24703,\n",
      "          756,  6866,   914, 29892,  9579, 20336,   756,  1886,   557, 29889,\n",
      "         1938, 24703,   322, 24190,   505,   278,  1021,  2655, 29973,   673,\n",
      "        29901,  1939, 29889,    13, 11546,  2741,   756,   282, 24990, 29892,\n",
      "        18888,   756,  6866,   914, 29892,  9300,   756,  1886,   557, 29889,\n",
      "         1938,  9300,   322, 11546,  2741,   505,   278,  1021,  2655, 29973,\n",
      "          673, 29901,  1939, 29889,    13]), tensor([-100, -100, -100, -100, -100, -100, -100, -100, -100, -100, -100, -100,\n",
      "        -100, -100, -100, -100, -100, -100, -100, -100, -100, -100, -100, -100,\n",
      "        -100, -100, -100, 3869, -100, -100, -100, -100, -100, -100, -100, -100,\n",
      "        -100, -100, -100, -100, -100, -100, -100, -100, -100, -100, -100, -100,\n",
      "        -100, -100, -100, -100, -100, -100, -100, -100, -100, -100, -100, -100,\n",
      "        3869, -100, -100, -100, -100, -100, -100, -100, -100, -100, -100, -100,\n",
      "        -100, -100, -100, -100, -100, -100, -100, -100, -100, -100, -100, -100,\n",
      "        -100, -100, -100, -100, -100, -100, 1939, -100, -100, -100, -100, -100,\n",
      "        -100, -100, -100, -100, -100, -100, -100, -100, -100, -100, -100, -100,\n",
      "        -100, -100, -100, -100, -100, -100, -100, -100, -100, -100, -100, -100,\n",
      "        -100, 1939, -100, -100, -100]), [Ranges(bos=(26, 28), ans=(29, 30), query0=(18, 19), query1=(20, 21), tgt0=(1, 2), tgt1=(6, 7), sep=(16, 17), example=(1, 30)), Ranges(bos=(59, 61), ans=(62, 63), query0=(50, 52), query1=(53, 54), tgt0=(31, 33), tgt1=(44, 45), sep=(48, 49), example=(31, 63)), Ranges(bos=(89, 91), ans=(92, 93), query0=(81, 82), query1=(83, 84), tgt0=(69, 70), tgt1=(64, 65), sep=(79, 80), example=(64, 93)), Ranges(bos=(120, 122), ans=(123, 124), query0=(111, 112), query1=(113, 115), tgt0=(105, 106), tgt1=(94, 96), sep=(109, 110), example=(94, 124))]], ['Edward has cake, Nancy has meat, Mary has meat. Do Edward and Mary have the same thing? Answer: No.\\n Thomas has pizza, Jeff has pizza, Charles has pizza. Do Thomas and Charles have the same thing? Answer: Yes.\\n Maria has bread, William has bread, Jennifer has hamburger. Do Jennifer and William have the same thing? Answer: No.\\n Barbara has pizza, Nancy has spaghetti, Laura has pizza. Do Laura and Barbara have the same thing? Answer: Yes.\\n', tensor([    1,  9300,   756,   274,  1296, 29892, 24190,   756, 27654, 29892,\n",
      "         6182,   756, 27654, 29889,  1938,  9300,   322,  6182,   505,   278,\n",
      "         1021,  2655, 29973,   673, 29901,  1939, 29889,    13,  5569,   756,\n",
      "          282, 24990, 29892, 12208,   756,   282, 24990, 29892,  5322,   756,\n",
      "          282, 24990, 29889,  1938,  5569,   322,  5322,   505,   278,  1021,\n",
      "         2655, 29973,   673, 29901,  3869, 29889,    13,  6217,   756, 18423,\n",
      "        29892,  4667,   756, 18423, 29892, 23774,  9633,   756,   298,  1117,\n",
      "        26120, 29889,  1938, 23774,  9633,   322,  4667,   505,   278,  1021,\n",
      "         2655, 29973,   673, 29901,  1939, 29889,    13, 18506,   756,   282,\n",
      "        24990, 29892, 24190,   756,   805, 21705,  9890, 29892, 21671,   756,\n",
      "          282, 24990, 29889,  1938, 21671,   322, 18506,   505,   278,  1021,\n",
      "         2655, 29973,   673, 29901,  3869, 29889,    13,     0,     0,     0,\n",
      "            0,     0,     0,     0,     0]), tensor([-100, -100, -100, -100, -100, -100, -100, -100, -100, -100, -100, -100,\n",
      "        -100, -100, -100, -100, -100, -100, -100, -100, -100, -100, -100, -100,\n",
      "        1939, -100, -100, -100, -100, -100, -100, -100, -100, -100, -100, -100,\n",
      "        -100, -100, -100, -100, -100, -100, -100, -100, -100, -100, -100, -100,\n",
      "        -100, -100, -100, -100, -100, 3869, -100, -100, -100, -100, -100, -100,\n",
      "        -100, -100, -100, -100, -100, -100, -100, -100, -100, -100, -100, -100,\n",
      "        -100, -100, -100, -100, -100, -100, -100, -100, -100, -100, -100, 1939,\n",
      "        -100, -100, -100, -100, -100, -100, -100, -100, -100, -100, -100, -100,\n",
      "        -100, -100, -100, -100, -100, -100, -100, -100, -100, -100, -100, -100,\n",
      "        -100, -100, -100, -100, -100, 3869, -100, -100, -100, -100, -100, -100,\n",
      "        -100, -100, -100, -100, -100]), [Ranges(bos=(23, 25), ans=(26, 27), query0=(15, 16), query1=(17, 18), tgt0=(1, 2), tgt1=(10, 11), sep=(13, 14), example=(1, 27)), Ranges(bos=(52, 54), ans=(55, 56), query0=(44, 45), query1=(46, 47), tgt0=(28, 29), tgt1=(38, 39), sep=(42, 43), example=(28, 56)), Ranges(bos=(82, 84), ans=(85, 86), query0=(73, 75), query1=(76, 77), tgt0=(65, 67), tgt1=(61, 62), sep=(71, 72), example=(57, 86)), Ranges(bos=(112, 114), ans=(115, 116), query0=(104, 105), query1=(106, 107), tgt0=(98, 99), tgt1=(87, 88), sep=(102, 103), example=(87, 116))]]]\n"
     ]
    }
   ],
   "source": [
    "def make_data_list(text,input_strs,eval_dataset):\n",
    "    data_tuples = []\n",
    "    for i in range(len(input_strs)):\n",
    "#         print(\"*********************************\")\n",
    "#         print(\"名词\",input_strs[i][1:])\n",
    "        label = eval_dataset[i]['labels'].tolist()\n",
    "        label.append(-100)\n",
    "        example = locate_example(eval_dataset[i]['input_ids'],\"\\n\")\n",
    "        bos = locate(eval_dataset[i]['input_ids'],\"Answer:\")\n",
    "        ans = [(b[1]+1,b[1]+2) for b in bos]\n",
    "        sep1 = locate(eval_dataset[i]['input_ids'],\".\")\n",
    "        sep = [sep1[i] for i in range(0,len(sep1),2)]\n",
    "        tgt0,query0,tgt1,query1 = locate_query_tgt(eval_dataset[i]['input_ids'],input_strs[i],example)\n",
    "\n",
    "#         print(\"bos:\",bos,\"ans\",ans,\"query0\",query0,\"query1\",query1,\"tgt0\",tgt0,\"tgt1\",tgt1,\"sep\",sep,\"example\",example)\n",
    "        ranges = [Ranges(bos[i],ans[i],query0[i],query1[i],tgt0[i],tgt1[i],sep[i],example[i]) for i in range(len(bos))]\n",
    "        data_tuples.append([text[i],eval_dataset[i]['input_ids'],torch.tensor(label)[1:],ranges])\n",
    "    return data_tuples\n",
    "\n",
    "eval_dataset = CHILDDataset(text, tokenizer)\n",
    "print(make_data_list(text,input_strs,eval_dataset))"
   ]
  },
  {
   "cell_type": "code",
   "execution_count": 721,
   "id": "2fc01caf",
   "metadata": {},
   "outputs": [
    {
     "data": {
      "text/plain": [
       "['▁Madrid', '▁V', '▁In']"
      ]
     },
     "execution_count": 721,
     "metadata": {},
     "output_type": "execute_result"
    }
   ],
   "source": [
    "< Busan attracts Brian. Novosibirsk attracts Kenneth. Birmingham attracts Mary. >.\n",
    "The boys do not want to visit Birmingham  2\n",
    "< Madrid attracts Joseph. Vancouver attracts Daniel. Incheon attracts Maria. >. \n",
    "The boys do not want to visit Incheon   2\n",
    "< Florence attracts Maria. Manchester attracts Michelle. Kyoto attracts Kenneth. >. \n",
    "The girls do not want to visit Kyoto   2\n",
    "< Osaka attracts Mark. Rio de Janeiro attracts Karen. Moscow attracts Christopher. >. \n",
    "The boys do not want to visit Rio de Janeiro  1\n",
    "< Florence attracts Paul. New York attracts Sandra. Vancouver attracts Kenneth. >. \n",
    "The boys do not want to visit New York   1\n",
    "< Seoul attracts Patricia. Vancouver attracts Paul. Tokyo attracts Kevin. >. \n",
    "The boys do not want to visit Seoul   0"
   ]
  },
  {
   "cell_type": "code",
   "execution_count": 86,
   "id": "b38cebb4",
   "metadata": {
    "scrolled": true
   },
   "outputs": [
    {
     "name": "stdout",
     "output_type": "stream",
     "text": [
      "['Michael has pizza, Donna has steak, Elizabeth has meat. Do Donna and Elizabeth have the same thing? Answer: No.\\nKimberly has burger, Paul has pizza, Deborah has hamburger. Do Paul and Deborah have the same thing? Answer: No.\\nBetty has spaghetti, Charles has meat, Kenneth has pizza. Do Charles and Kenneth have the same thing? Answer: No.\\nBrian has meat, Richard has meat, Margaret has cake. Do Brian and Richard have the same thing? Answer: Yes.\\n', 'Steven has bread, Richard has cake, Linda has cake. Do Steven and Richard have the same thing? Answer: No.\\nMark has steak, Kevin has steak, Laura has burger. Do Kevin and Laura have the same thing? Answer: No.\\nDorothy has meat, Sarah has spaghetti, Christopher has spaghetti. Do Sarah and Christopher have the same thing? Answer: Yes.\\nLisa has pizza, Anthony has spaghetti, Steven has spaghetti. Do Steven and Lisa have the same thing? Answer: No.\\n']\n"
     ]
    }
   ],
   "source": [
    "# print(str(name))\n",
    "print(input_strs)"
   ]
  },
  {
   "cell_type": "code",
   "execution_count": 12,
   "id": "dfdb4a78",
   "metadata": {},
   "outputs": [],
   "source": [
    "attribute_format = {'key':{'text':(),'bos':[],'input_ids':[]}}"
   ]
  },
  {
   "cell_type": "code",
   "execution_count": 8,
   "id": "82c6efd6",
   "metadata": {},
   "outputs": [],
   "source": [
    "bos_id = tokenizer.encode(\"Answer:\")[-1] #->\n",
    "eos_id = tokenizer.encode(\"\\n\")[-1]   #\\n\n",
    "\n",
    "class CHILDDataset(Dataset):\n",
    "    def __init__(self, input_strs, tokenizer):\n",
    "\n",
    "        self.inputs = tokenizer.batch_encode_plus(input_strs, padding=True, return_tensors='pt')\n",
    "        input_ids = self.inputs.input_ids\n",
    "        self.labels = torch.ones_like(input_ids) * (-100)\n",
    "        for bi in range(input_ids.size(0)):\n",
    "            bos_indices = (input_ids[bi] == bos_id).nonzero().squeeze(1)\n",
    "            eos_indices = (input_ids[bi] == eos_id).nonzero()[-len(bos_indices):].squeeze(1) #每一位 eos都比bos大2\n",
    "            for i, (bos_i, eos_i) in enumerate(zip(bos_indices.tolist(), eos_indices.tolist())):\n",
    "                assert eos_i > bos_i + 1\n",
    "                self.labels[bi, eos_i-2] = input_ids[bi, eos_i-2] \n",
    "        \n",
    "        \n",
    "    def re_input(self):\n",
    "        return self.inputs['input_ids']\n",
    "        \n",
    "    def __len__(self):\n",
    "        return len(self.inputs['input_ids'])\n",
    "\n",
    "    def __getitem__(self, i):\n",
    "        return {'input_ids': self.inputs['input_ids'][i],  #输入\n",
    "                'attention_mask': self.inputs['attention_mask'][i],\n",
    "                'labels': self.labels[i]}   #结果"
   ]
  },
  {
   "cell_type": "code",
   "execution_count": 103,
   "id": "b22258c7",
   "metadata": {
    "scrolled": true
   },
   "outputs": [],
   "source": [
    "\n",
    "# # num+=1\n",
    "# with open(f'data/data_1_{num}.json') as f:\n",
    "#     input_strs = json.load(f)\n",
    "# print(\"num:\",num)\n",
    "# print(input_strs[-1])\n"
   ]
  },
  {
   "cell_type": "code",
   "execution_count": 11,
   "id": "c713f95f",
   "metadata": {
    "scrolled": true
   },
   "outputs": [
    {
     "data": {
      "text/plain": [
       "{'input_ids': tensor([    1,   399, 29915, 29879,  1024,   338,  4755, 29892,  1060, 29915,\n",
       "         29879,  1024,   338, 21776, 29892,   379, 29915, 29879,  1024,   338,\n",
       "         25914, 29892,   319, 29915, 29879,  1024,   338,  6217, 29892,   317,\n",
       "         29915, 29879,  1024,   338, 18935, 29889,  1317,   379,   263,  8023,\n",
       "         29973,   673, 29901,  1939, 29889,    13, 29911, 29915, 29879,  1024,\n",
       "           338,  6182, 29892,   350, 29915, 29879,  1024,   338, 21671, 29892,\n",
       "           660, 29915, 29879,  1024,   338, 18935, 29892,   349, 29915, 29879,\n",
       "          1024,   338,  5765, 29892,   405, 29915, 29879,  1024,   338,  9579,\n",
       "         20336, 29889,  1317,   349,   263,  7826, 29973,   673, 29901,  1939,\n",
       "         29889,    13, 29950, 29915, 29879,  1024,   338, 12208, 29892,   660,\n",
       "         29915, 29879,  1024,   338,  3739, 29892,   317, 29915, 29879,  1024,\n",
       "           338, 21776, 29892,   501, 29915, 29879,  1024,   338,  6123, 29892,\n",
       "           382, 29915, 29879,  1024,   338,  6217, 29889,  1317,   660,   263,\n",
       "          8023, 29973,   673, 29901,  3869, 29889,    13, 29954, 29915, 29879,\n",
       "          1024,   338, 23130, 29892,   350, 29915, 29879,  1024,   338, 19323,\n",
       "         29892,   365, 29915, 29879,  1024,   338,  5011, 29892,   383, 29915,\n",
       "         29879,  1024,   338,  6217, 29892,   796, 29915, 29879,  1024,   338,\n",
       "         18888, 29889,  1317,   383,   263,  7826, 29973,   673, 29901,  3869,\n",
       "         29889,    13, 29990, 29915, 29879,  1024,   338, 19235, 29892,   405,\n",
       "         29915, 29879,  1024,   338, 21776, 29892,   796, 29915, 29879,  1024,\n",
       "           338,  4755, 29892,   476, 29915, 29879,  1024,   338, 12931,   495,\n",
       "           368, 29892,   360, 29915, 29879,  1024,   338,  4121,  2200,   423,\n",
       "         29889,  1317,   360,   263,  7826, 29973,   673, 29901,  3869, 29889,\n",
       "            13, 29963, 29915, 29879,  1024,   338,  3872,  1056, 29892,   476,\n",
       "         29915, 29879,  1024,   338,  4485, 29892,   438, 29915, 29879,  1024,\n",
       "           338,  6123, 29892,   360, 29915, 29879,  1024,   338,  6182, 29892,\n",
       "           399, 29915, 29879,  1024,   338, 18364, 29889,  1317,   478,   263,\n",
       "          7826, 29973,   673, 29901,  3869, 29889,    13, 29954, 29915, 29879,\n",
       "          1024,   338,  6217, 29892,   365, 29915, 29879,  1024,   338, 29782,\n",
       "         29892,   323, 29915, 29879,  1024,   338, 12931,   495,   368, 29892,\n",
       "           438, 29915, 29879,  1024,   338, 16477, 29892,   390, 29915, 29879,\n",
       "          1024,   338,  3375,  1808, 29889,  1317,   365,   263,  8023, 29973,\n",
       "           673, 29901,  1939, 29889,    13, 29940, 29915, 29879,  1024,   338,\n",
       "          8562, 29892,   317, 29915, 29879,  1024,   338, 21776, 29892,   315,\n",
       "         29915, 29879,  1024,   338, 12208, 29892,   660, 29915, 29879,  1024,\n",
       "           338, 24190, 29892,   402, 29915, 29879,  1024,   338,  4485, 29889,\n",
       "          1317,   315,   263,  7826, 29973,   673, 29901,  1939, 29889,    13,\n",
       "         29907, 29915, 29879,  1024,   338, 21758, 29892,   612, 29915, 29879,\n",
       "          1024,   338,  3872,  1056, 29892,   349, 29915, 29879,  1024,   338,\n",
       "          3739, 29892,   478, 29915, 29879,  1024,   338,  4755, 29892,   405,\n",
       "         29915, 29879,  1024,   338, 19323, 29889,  1317,   612,   263,  8023,\n",
       "         29973,   673, 29901,  1939, 29889,    13,     0,     0,     0,     0,\n",
       "             0,     0,     0]),\n",
       " 'attention_mask': tensor([1, 1, 1, 1, 1, 1, 1, 1, 1, 1, 1, 1, 1, 1, 1, 1, 1, 1, 1, 1, 1, 1, 1, 1,\n",
       "         1, 1, 1, 1, 1, 1, 1, 1, 1, 1, 1, 1, 1, 1, 1, 1, 1, 1, 1, 1, 1, 1, 1, 1,\n",
       "         1, 1, 1, 1, 1, 1, 1, 1, 1, 1, 1, 1, 1, 1, 1, 1, 1, 1, 1, 1, 1, 1, 1, 1,\n",
       "         1, 1, 1, 1, 1, 1, 1, 1, 1, 1, 1, 1, 1, 1, 1, 1, 1, 1, 1, 1, 1, 1, 1, 1,\n",
       "         1, 1, 1, 1, 1, 1, 1, 1, 1, 1, 1, 1, 1, 1, 1, 1, 1, 1, 1, 1, 1, 1, 1, 1,\n",
       "         1, 1, 1, 1, 1, 1, 1, 1, 1, 1, 1, 1, 1, 1, 1, 1, 1, 1, 1, 1, 1, 1, 1, 1,\n",
       "         1, 1, 1, 1, 1, 1, 1, 1, 1, 1, 1, 1, 1, 1, 1, 1, 1, 1, 1, 1, 1, 1, 1, 1,\n",
       "         1, 1, 1, 1, 1, 1, 1, 1, 1, 1, 1, 1, 1, 1, 1, 1, 1, 1, 1, 1, 1, 1, 1, 1,\n",
       "         1, 1, 1, 1, 1, 1, 1, 1, 1, 1, 1, 1, 1, 1, 1, 1, 1, 1, 1, 1, 1, 1, 1, 1,\n",
       "         1, 1, 1, 1, 1, 1, 1, 1, 1, 1, 1, 1, 1, 1, 1, 1, 1, 1, 1, 1, 1, 1, 1, 1,\n",
       "         1, 1, 1, 1, 1, 1, 1, 1, 1, 1, 1, 1, 1, 1, 1, 1, 1, 1, 1, 1, 1, 1, 1, 1,\n",
       "         1, 1, 1, 1, 1, 1, 1, 1, 1, 1, 1, 1, 1, 1, 1, 1, 1, 1, 1, 1, 1, 1, 1, 1,\n",
       "         1, 1, 1, 1, 1, 1, 1, 1, 1, 1, 1, 1, 1, 1, 1, 1, 1, 1, 1, 1, 1, 1, 1, 1,\n",
       "         1, 1, 1, 1, 1, 1, 1, 1, 1, 1, 1, 1, 1, 1, 1, 1, 1, 1, 1, 1, 1, 1, 1, 1,\n",
       "         1, 1, 1, 1, 1, 1, 1, 1, 1, 1, 1, 1, 1, 1, 1, 1, 1, 1, 1, 1, 1, 1, 1, 1,\n",
       "         1, 1, 1, 1, 1, 1, 1, 1, 1, 1, 1, 1, 1, 1, 1, 1, 1, 1, 1, 1, 1, 1, 1, 1,\n",
       "         1, 1, 1, 1, 1, 1, 1, 1, 1, 1, 1, 1, 1, 1, 1, 1, 1, 1, 1, 1, 1, 1, 1, 1,\n",
       "         1, 1, 1, 1, 1, 1, 1, 1, 0, 0, 0, 0, 0, 0, 0]),\n",
       " 'labels': tensor([-100, -100, -100, -100, -100, -100, -100, -100, -100, -100, -100, -100,\n",
       "         -100, -100, -100, -100, -100, -100, -100, -100, -100, -100, -100, -100,\n",
       "         -100, -100, -100, -100, -100, -100, -100, -100, -100, -100, -100, -100,\n",
       "         -100, -100, -100, -100, -100, -100, -100, 1939, -100, -100, -100, -100,\n",
       "         -100, -100, -100, -100, -100, -100, -100, -100, -100, -100, -100, -100,\n",
       "         -100, -100, -100, -100, -100, -100, -100, -100, -100, -100, -100, -100,\n",
       "         -100, -100, -100, -100, -100, -100, -100, -100, -100, -100, -100, -100,\n",
       "         -100, -100, -100, -100, -100, 1939, -100, -100, -100, -100, -100, -100,\n",
       "         -100, -100, -100, -100, -100, -100, -100, -100, -100, -100, -100, -100,\n",
       "         -100, -100, -100, -100, -100, -100, -100, -100, -100, -100, -100, -100,\n",
       "         -100, -100, -100, -100, -100, -100, -100, -100, -100, -100, -100, -100,\n",
       "         -100, -100, 3869, -100, -100, -100, -100, -100, -100, -100, -100, -100,\n",
       "         -100, -100, -100, -100, -100, -100, -100, -100, -100, -100, -100, -100,\n",
       "         -100, -100, -100, -100, -100, -100, -100, -100, -100, -100, -100, -100,\n",
       "         -100, -100, -100, -100, -100, -100, -100, -100, -100, -100, -100, 3869,\n",
       "         -100, -100, -100, -100, -100, -100, -100, -100, -100, -100, -100, -100,\n",
       "         -100, -100, -100, -100, -100, -100, -100, -100, -100, -100, -100, -100,\n",
       "         -100, -100, -100, -100, -100, -100, -100, -100, -100, -100, -100, -100,\n",
       "         -100, -100, -100, -100, -100, -100, -100, -100, -100, -100, -100, -100,\n",
       "         3869, -100, -100, -100, -100, -100, -100, -100, -100, -100, -100, -100,\n",
       "         -100, -100, -100, -100, -100, -100, -100, -100, -100, -100, -100, -100,\n",
       "         -100, -100, -100, -100, -100, -100, -100, -100, -100, -100, -100, -100,\n",
       "         -100, -100, -100, -100, -100, -100, -100, -100, -100, -100, 3869, -100,\n",
       "         -100, -100, -100, -100, -100, -100, -100, -100, -100, -100, -100, -100,\n",
       "         -100, -100, -100, -100, -100, -100, -100, -100, -100, -100, -100, -100,\n",
       "         -100, -100, -100, -100, -100, -100, -100, -100, -100, -100, -100, -100,\n",
       "         -100, -100, -100, -100, -100, -100, -100, -100, -100, -100, 1939, -100,\n",
       "         -100, -100, -100, -100, -100, -100, -100, -100, -100, -100, -100, -100,\n",
       "         -100, -100, -100, -100, -100, -100, -100, -100, -100, -100, -100, -100,\n",
       "         -100, -100, -100, -100, -100, -100, -100, -100, -100, -100, -100, -100,\n",
       "         -100, -100, -100, -100, -100, -100, -100, 1939, -100, -100, -100, -100,\n",
       "         -100, -100, -100, -100, -100, -100, -100, -100, -100, -100, -100, -100,\n",
       "         -100, -100, -100, -100, -100, -100, -100, -100, -100, -100, -100, -100,\n",
       "         -100, -100, -100, -100, -100, -100, -100, -100, -100, -100, -100, -100,\n",
       "         -100, -100, -100, -100, -100, 1939, -100, -100, -100, -100, -100, -100,\n",
       "         -100, -100, -100])}"
      ]
     },
     "execution_count": 11,
     "metadata": {},
     "output_type": "execute_result"
    }
   ],
   "source": [
    "eval_dataset[0]"
   ]
  },
  {
   "cell_type": "markdown",
   "id": "518f18a5",
   "metadata": {},
   "source": [
    "## 测试部分"
   ]
  },
  {
   "cell_type": "code",
   "execution_count": 141,
   "id": "ba20ba26",
   "metadata": {},
   "outputs": [],
   "source": [
    "def make_table(data,length):\n",
    "    # 创建DataFrame\n",
    "    df = pd.DataFrame(data,index = [i for i in range(length)])\n",
    "    return df\n",
    "\n",
    "def split_shot(label_mask):  #返回每个label_mask的非-100位置 tensor\n",
    "    LOC = []\n",
    "    for ids in label_mask:\n",
    "        LOC.append((ids == True).nonzero()[0].tolist())\n",
    "    return torch.tensor(LOC)\n",
    "\n",
    "def count_acc(LOC,pred_ids,labels_ids,ANS_id):\n",
    "    predict_ids = pred_ids.argmax(-1) \n",
    "    sum_acc = torch.zeros(len(LOC[0]))  #每个位置的正确个数\n",
    "    for i in range(len(LOC)):\n",
    "        for j in range(len(LOC[0])): \n",
    "            ansloc_prob = pred_ids[i][LOC[i][j]]   #答案位置所有词的概率\n",
    "            ans = labels_ids[i][LOC[i][j]]         #答案id\n",
    "            \n",
    "            if(ans in ANS_id):\n",
    "                sum_acc[j] += 1 if ansloc_prob[ans] > ansloc_prob[ANS_id[abs(ANS_id.index(ans)-1)]] else 0\n",
    "                                  #答案概率                 #另一个答案的概率\n",
    "            else:\n",
    "                sum_acc[j] += 1 if predict_ids[i][LOC[i][j]] == ans else 0\n",
    "                \n",
    "    for i in range(len(sum_acc)):\n",
    "        sum_acc[i] = np.around((sum_acc[i] / len(LOC)),4)\n",
    "    return sum_acc\n",
    "\n",
    "# def compute_metrics(eval_preds):\n",
    "#     pred_ids = eval_preds.predictions[:, :-1]\n",
    "#     labels_ids = eval_preds.label_ids[:, 1:]    #偏移\n",
    "    \n",
    "#     # 保持维度一致。\n",
    "#     assert labels_ids.shape == pred_ids.shape, f'{labels_ids.shape} != {pred_ids.shape}'\n",
    "#     # 将label是-100的地方mask掉，不计算准确率。\n",
    "#     label_mask = (labels_ids != -100)    #tensor([False, False,  True, False, False,  True])\n",
    "#     LOC = split_shot(label_mask)\n",
    "\n",
    "#     # 计算总的准确率。\n",
    "#     accuracy = ((pred_ids == labels_ids ) * label_mask).sum(-1) / label_mask.sum(-1)   #这里将每个位置的准确率求平均了\n",
    "#     shot_acc = count_acc(LOC,pred_ids,labels_ids)\n",
    "#     return { f'ACC_{i}': shot_acc[i] for i in range(len(shot_acc))}\n",
    "    \n",
    "def preprocess_logits_for_metrics(logits, labels):   #logits转换为各位置概率最高的值\n",
    "    if isinstance(logits, tuple):\n",
    "        logits = logits[0]\n",
    "    return logits.argmax(dim=-1) "
   ]
  },
  {
   "cell_type": "code",
   "execution_count": 144,
   "id": "38dcb177",
   "metadata": {},
   "outputs": [],
   "source": [
    "ANS = ['▁Yes','▁No','▁Zero','▁One','▁Two','▁Three','▁<','▁>','▁=','▁yes','▁no']\n",
    "ANS_id = []\n",
    "\n",
    "for i in ANS:\n",
    "    ANS_id.append(tokenizer.encode(i)[-1])\n",
    "    \n",
    "excel = {\n",
    "        'ans': [],\n",
    "        'predict': [],\n",
    "}\n",
    "\n",
    "def compute_metrics(eval_preds):\n",
    "    pred_ids = eval_preds.predictions[:, :-1]    #每个位置logits\n",
    "    labels_ids = eval_preds.label_ids[:, 1:]    #每个句子的label\n",
    "#     print(\"pred_ids:\",len(pred_ids[0]))   #logits\n",
    "    label_mask = (labels_ids != -100) \n",
    "    LOC = split_shot(label_mask)                #LOC: labels_ids非-100的位置\n",
    "    \n",
    "#     accuracy = ((predict_ids == labels_ids ) * label_mask).sum(-1) / label_mask.sum(-1)   #这里将每个位置的准确率求平均了\n",
    "    shot_acc = count_acc(LOC,pred_ids,labels_ids, ANS_id[:2])\n",
    "    \n",
    "    labels = []\n",
    "    preds = []\n",
    "    Softmax = nn.Softmax(dim = -1)\n",
    "    \n",
    "    for sentence in range(len(LOC)):       \n",
    "        ids = torch.from_numpy(pred_ids[sentence]).float()  #size:(句子长，词表长)\n",
    "        prob = Softmax(ids)   #label位置的所有词的概率\n",
    "        for ans_loc in LOC[sentence]:\n",
    "            label = labels_ids[sentence][ans_loc] #当前位置正确答案\n",
    "            \n",
    "            ansloc_prob = prob[ans_loc]  #答案位置所有词的概率 \n",
    "            highest_token_id =  ansloc_prob.argmax(-1)   #答案位置概率最高的词的id（位置）\n",
    "            \n",
    "            data = []\n",
    "            data_dict = {}\n",
    "            \n",
    "            for ans in range(len(ANS_id)):\n",
    "                if(ansloc_prob[ANS_id[ans]].item()>0.01):\n",
    "                    data_dict[ANS[ans]]=np.around(ansloc_prob[ANS_id[ans]].item(), decimals=2)\n",
    "            \n",
    "            data_dict=sorted(data_dict.items(),key = lambda x:x[1],reverse = True)  \n",
    "            for i,j in data_dict:\n",
    "                data.append(i+\":\"+str(j))\n",
    "\n",
    "            if(len(data_dict)>0 and tokenizer.convert_ids_to_tokens(label.item()) == data_dict[0][0]):\n",
    "                excel['ans'].append(\"*\"+tokenizer.convert_ids_to_tokens(label.item()))  #构造表格(ans)\n",
    "            else:    \n",
    "                excel['ans'].append(tokenizer.convert_ids_to_tokens(label.item()))  #构造表格(ans)\n",
    "            excel['predict'].append(data)  #构造表格(predict)\n",
    "    Excel = make_table(excel,len(excel['ans']))\n",
    "    print(Excel)\n",
    "    \n",
    "    return { f'ACC_{i}': shot_acc[i] for i in range(len(shot_acc))}"
   ]
  },
  {
   "cell_type": "code",
   "execution_count": 145,
   "id": "40fe913c",
   "metadata": {},
   "outputs": [],
   "source": [
    "training_args = TrainingArguments(\n",
    "    output_dir=\"/home/nrk/vicuna-33b\",                                                           \n",
    "    overwrite_output_dir=True, \n",
    "    do_train=False, \n",
    "    do_eval=True, \n",
    "    per_device_train_batch_size=4, \n",
    "    per_device_eval_batch_size=1,                                                  \n",
    "    save_steps=100,\n",
    "    save_strategy='no',                                                                                       \n",
    ")"
   ]
  },
  {
   "cell_type": "code",
   "execution_count": 146,
   "id": "4cd31e64",
   "metadata": {},
   "outputs": [],
   "source": [
    "trainer = Trainer(model=model,\n",
    "                  args=training_args,  \n",
    "                  eval_dataset=eval_dataset,\n",
    "                  compute_metrics=compute_metrics,\n",
    "                 )"
   ]
  },
  {
   "cell_type": "code",
   "execution_count": 138,
   "id": "8228a68c",
   "metadata": {},
   "outputs": [
    {
     "data": {
      "text/html": [
       "\n",
       "    <div>\n",
       "      \n",
       "      <progress value='250' max='250' style='width:300px; height:20px; vertical-align: middle;'></progress>\n",
       "      [250/250 01:43]\n",
       "    </div>\n",
       "    "
      ],
      "text/plain": [
       "<IPython.core.display.HTML object>"
      ]
     },
     "metadata": {},
     "output_type": "display_data"
    },
    {
     "data": {
      "text/plain": [
       "{'eval_loss': 0.373291015625,\n",
       " 'eval_ACC_0': 0.777999997138977,\n",
       " 'eval_ACC_1': 0.8180000185966492,\n",
       " 'eval_ACC_2': 0.9039999842643738,\n",
       " 'eval_ACC_3': 0.8460000157356262,\n",
       " 'eval_ACC_4': 0.8659999966621399,\n",
       " 'eval_ACC_5': 0.8679999709129333,\n",
       " 'eval_ACC_6': 0.8659999966621399,\n",
       " 'eval_ACC_7': 0.8840000033378601,\n",
       " 'eval_ACC_8': 0.8880000114440918,\n",
       " 'eval_runtime': 142.2362,\n",
       " 'eval_samples_per_second': 3.515,\n",
       " 'eval_steps_per_second': 1.758}"
      ]
     },
     "execution_count": 138,
     "metadata": {},
     "output_type": "execute_result"
    }
   ],
   "source": [
    "trainer.evaluate()"
   ]
  },
  {
   "cell_type": "code",
   "execution_count": 129,
   "id": "f17a39e1",
   "metadata": {},
   "outputs": [
    {
     "data": {
      "text/html": [
       "\n",
       "    <div>\n",
       "      \n",
       "      <progress value='5' max='5' style='width:300px; height:20px; vertical-align: middle;'></progress>\n",
       "      [5/5 00:02]\n",
       "    </div>\n",
       "    "
      ],
      "text/plain": [
       "<IPython.core.display.HTML object>"
      ]
     },
     "metadata": {},
     "output_type": "display_data"
    },
    {
     "name": "stdout",
     "output_type": "stream",
     "text": [
      "      ans                predict\n",
      "0     ▁No  [▁Yes:0.38, ▁No:0.36]\n",
      "1    ▁Yes  [▁No:0.56, ▁Yes:0.44]\n",
      "2    ▁Yes  [▁No:0.59, ▁Yes:0.41]\n",
      "3     ▁No  [▁Yes:0.72, ▁No:0.28]\n",
      "4     ▁No    [▁Yes:0.7, ▁No:0.3]\n",
      "5     ▁No  [▁Yes:0.71, ▁No:0.29]\n",
      "6   *▁Yes  [▁Yes:0.65, ▁No:0.35]\n",
      "7    ▁Yes  [▁No:0.56, ▁Yes:0.44]\n",
      "8     ▁No  [▁Yes:0.63, ▁No:0.37]\n",
      "9   *▁Yes  [▁Yes:0.44, ▁No:0.41]\n",
      "10  *▁Yes  [▁Yes:0.59, ▁No:0.41]\n",
      "11    ▁No  [▁Yes:0.92, ▁No:0.08]\n",
      "12  *▁Yes  [▁Yes:0.71, ▁No:0.29]\n",
      "13  *▁Yes  [▁Yes:0.52, ▁No:0.48]\n",
      "14    ▁No  [▁Yes:0.79, ▁No:0.21]\n",
      "15    ▁No  [▁Yes:0.85, ▁No:0.15]\n",
      "16  *▁Yes  [▁Yes:0.64, ▁No:0.36]\n",
      "17    ▁No  [▁Yes:0.71, ▁No:0.29]\n",
      "18   ▁Yes  [▁No:0.42, ▁Yes:0.33]\n",
      "19   ▁Yes  [▁No:0.52, ▁Yes:0.48]\n",
      "20    ▁No  [▁Yes:0.83, ▁No:0.17]\n",
      "21  *▁Yes    [▁Yes:0.8, ▁No:0.2]\n",
      "22    ▁No  [▁Yes:0.67, ▁No:0.33]\n",
      "23  *▁Yes    [▁Yes:0.5, ▁No:0.5]\n",
      "24  *▁Yes  [▁Yes:0.79, ▁No:0.21]\n",
      "25    ▁No  [▁Yes:0.79, ▁No:0.21]\n",
      "26    ▁No  [▁Yes:0.89, ▁No:0.11]\n",
      "27    ▁No  [▁Yes:0.53, ▁No:0.29]\n",
      "28  *▁Yes  [▁Yes:0.53, ▁No:0.47]\n",
      "29  *▁Yes  [▁Yes:0.82, ▁No:0.18]\n",
      "30  *▁Yes  [▁Yes:0.53, ▁No:0.47]\n",
      "31  *▁Yes  [▁Yes:0.66, ▁No:0.34]\n",
      "32    ▁No  [▁Yes:0.65, ▁No:0.35]\n",
      "33    ▁No    [▁Yes:0.8, ▁No:0.2]\n",
      "34    ▁No  [▁Yes:0.89, ▁No:0.11]\n",
      "35  *▁Yes  [▁Yes:0.57, ▁No:0.43]\n",
      "36    ▁No  [▁Yes:0.38, ▁No:0.37]\n",
      "37   *▁No  [▁No:0.66, ▁Yes:0.34]\n",
      "38   ▁Yes  [▁No:0.77, ▁Yes:0.23]\n",
      "39   *▁No    [▁No:0.7, ▁Yes:0.3]\n",
      "40   *▁No  [▁No:0.63, ▁Yes:0.37]\n",
      "41   ▁Yes  [▁No:0.87, ▁Yes:0.13]\n",
      "42    ▁No  [▁Yes:0.55, ▁No:0.45]\n",
      "43   ▁Yes  [▁No:0.63, ▁Yes:0.37]\n",
      "44  *▁Yes  [▁Yes:0.58, ▁No:0.42]\n",
      "45  *▁Yes   [▁Yes:0.42, ▁No:0.4]\n",
      "46  *▁Yes  [▁Yes:0.62, ▁No:0.38]\n",
      "47    ▁No  [▁Yes:0.95, ▁No:0.05]\n",
      "48    ▁No  [▁Yes:0.61, ▁No:0.38]\n",
      "49    ▁No  [▁Yes:0.71, ▁No:0.29]\n",
      "50   ▁Yes  [▁No:0.89, ▁Yes:0.11]\n",
      "51    ▁No  [▁Yes:0.62, ▁No:0.38]\n",
      "52  *▁Yes  [▁Yes:0.51, ▁No:0.49]\n",
      "53    ▁No  [▁Yes:0.64, ▁No:0.36]\n",
      "54  *▁Yes  [▁Yes:0.42, ▁No:0.36]\n",
      "55  *▁Yes  [▁Yes:0.62, ▁No:0.38]\n",
      "56    ▁No  [▁Yes:0.87, ▁No:0.13]\n",
      "57    ▁No  [▁Yes:0.57, ▁No:0.43]\n",
      "58   ▁Yes    [▁No:0.6, ▁Yes:0.4]\n",
      "59  *▁Yes    [▁Yes:0.6, ▁No:0.4]\n",
      "60    ▁No  [▁Yes:0.68, ▁No:0.32]\n",
      "61  *▁Yes  [▁Yes:0.91, ▁No:0.09]\n",
      "62   *▁No  [▁No:0.57, ▁Yes:0.43]\n",
      "63   *▁No   [▁No:0.43, ▁Yes:0.4]\n",
      "64   ▁Yes  [▁No:0.56, ▁Yes:0.44]\n",
      "65   ▁Yes    [▁No:0.6, ▁Yes:0.4]\n",
      "66   *▁No  [▁No:0.51, ▁Yes:0.49]\n",
      "67    ▁No  [▁Yes:0.94, ▁No:0.06]\n",
      "68    ▁No  [▁Yes:0.84, ▁No:0.16]\n",
      "69   ▁Yes  [▁No:0.57, ▁Yes:0.43]\n",
      "70   ▁Yes  [▁No:0.58, ▁Yes:0.42]\n",
      "71    ▁No  [▁Yes:0.74, ▁No:0.26]\n",
      "72   *▁No   [▁No:0.5, ▁Yes:0.31]\n",
      "73   ▁Yes   [▁No:0.7, ▁Yes:0.29]\n",
      "74  *▁Yes  [▁Yes:0.67, ▁No:0.33]\n",
      "75   *▁No  [▁No:0.84, ▁Yes:0.16]\n",
      "76    ▁No  [▁Yes:0.55, ▁No:0.45]\n",
      "77    ▁No  [▁Yes:0.72, ▁No:0.28]\n",
      "78  *▁Yes  [▁Yes:0.86, ▁No:0.14]\n",
      "79   *▁No  [▁No:0.75, ▁Yes:0.24]\n",
      "80   ▁Yes  [▁No:0.78, ▁Yes:0.22]\n",
      "81    ▁No  [▁Yes:0.41, ▁No:0.33]\n",
      "82  *▁Yes  [▁Yes:0.55, ▁No:0.45]\n",
      "83  *▁Yes  [▁Yes:0.67, ▁No:0.33]\n",
      "84   ▁Yes  [▁No:0.64, ▁Yes:0.36]\n",
      "85  *▁Yes    [▁Yes:0.7, ▁No:0.3]\n",
      "86    ▁No  [▁Yes:0.57, ▁No:0.43]\n",
      "87   *▁No  [▁No:0.55, ▁Yes:0.45]\n",
      "88   *▁No  [▁No:0.73, ▁Yes:0.27]\n",
      "89  *▁Yes  [▁Yes:0.81, ▁No:0.18]\n"
     ]
    },
    {
     "data": {
      "text/plain": [
       "{'eval_loss': 0.96484375,\n",
       " 'eval_ACC_0': 0.5,\n",
       " 'eval_ACC_1': 0.6000000238418579,\n",
       " 'eval_ACC_2': 0.30000001192092896,\n",
       " 'eval_ACC_3': 0.6000000238418579,\n",
       " 'eval_ACC_4': 0.4000000059604645,\n",
       " 'eval_ACC_5': 0.10000000149011612,\n",
       " 'eval_ACC_6': 0.4000000059604645,\n",
       " 'eval_ACC_7': 0.5,\n",
       " 'eval_ACC_8': 0.4000000059604645,\n",
       " 'eval_runtime': 4.4124,\n",
       " 'eval_samples_per_second': 2.266,\n",
       " 'eval_steps_per_second': 1.133}"
      ]
     },
     "execution_count": 129,
     "metadata": {},
     "output_type": "execute_result"
    }
   ],
   "source": [
    "trainer.evaluate()   #原问法 , context = 5"
   ]
  },
  {
   "cell_type": "code",
   "execution_count": 41,
   "id": "43cd5b69",
   "metadata": {},
   "outputs": [],
   "source": [
    "pd.set_option('display.max_rows', None)  # 设置显示最大"
   ]
  },
  {
   "cell_type": "code",
   "execution_count": 147,
   "id": "6a561662",
   "metadata": {
    "collapsed": true
   },
   "outputs": [
    {
     "data": {
      "text/html": [
       "\n",
       "    <div>\n",
       "      \n",
       "      <progress value='5' max='5' style='width:300px; height:20px; vertical-align: middle;'></progress>\n",
       "      [5/5 00:02]\n",
       "    </div>\n",
       "    "
      ],
      "text/plain": [
       "<IPython.core.display.HTML object>"
      ]
     },
     "metadata": {},
     "output_type": "display_data"
    },
    {
     "name": "stdout",
     "output_type": "stream",
     "text": [
      "      ans                predict\n",
      "0    ▁Yes  [▁No:0.51, ▁Yes:0.31]\n",
      "1    *▁No  [▁No:0.98, ▁Yes:0.01]\n",
      "2     ▁No  [▁Yes:0.76, ▁No:0.24]\n",
      "3   *▁Yes  [▁Yes:0.98, ▁No:0.01]\n",
      "4    ▁Yes  [▁No:0.75, ▁Yes:0.25]\n",
      "5   *▁Yes  [▁Yes:0.96, ▁No:0.04]\n",
      "6    *▁No             [▁No:0.99]\n",
      "7    *▁No  [▁No:0.89, ▁Yes:0.11]\n",
      "8   *▁Yes  [▁Yes:0.66, ▁No:0.34]\n",
      "9    ▁Yes  [▁No:0.47, ▁Yes:0.26]\n",
      "10   *▁No  [▁No:0.67, ▁Yes:0.31]\n",
      "11   *▁No  [▁No:0.91, ▁Yes:0.09]\n",
      "12   ▁Yes  [▁No:0.69, ▁Yes:0.31]\n",
      "13  *▁Yes  [▁Yes:0.71, ▁No:0.28]\n",
      "14   *▁No  [▁No:0.72, ▁Yes:0.28]\n",
      "15   ▁Yes  [▁No:0.67, ▁Yes:0.33]\n",
      "16   ▁Yes  [▁No:0.98, ▁Yes:0.02]\n",
      "17   *▁No  [▁No:0.91, ▁Yes:0.08]\n",
      "18  *▁Yes  [▁Yes:0.52, ▁No:0.35]\n",
      "19  *▁Yes  [▁Yes:0.74, ▁No:0.25]\n",
      "20   *▁No  [▁No:0.93, ▁Yes:0.07]\n",
      "21   *▁No  [▁No:0.54, ▁Yes:0.46]\n",
      "22  *▁Yes  [▁Yes:0.95, ▁No:0.05]\n",
      "23  *▁Yes  [▁Yes:0.68, ▁No:0.32]\n",
      "24   *▁No  [▁No:0.98, ▁Yes:0.02]\n",
      "25    ▁No  [▁Yes:0.54, ▁No:0.46]\n",
      "26  *▁Yes  [▁Yes:0.88, ▁No:0.12]\n",
      "27   *▁No  [▁No:0.64, ▁Yes:0.12]\n",
      "28   ▁Yes  [▁No:0.53, ▁Yes:0.47]\n",
      "29   *▁No  [▁No:0.99, ▁Yes:0.01]\n",
      "30   *▁No  [▁No:0.96, ▁Yes:0.04]\n",
      "31   *▁No    [▁No:0.9, ▁Yes:0.1]\n",
      "32  *▁Yes  [▁Yes:0.71, ▁No:0.28]\n",
      "33  *▁Yes  [▁Yes:0.51, ▁No:0.49]\n",
      "34   *▁No  [▁No:0.99, ▁Yes:0.01]\n",
      "35  *▁Yes  [▁Yes:0.74, ▁No:0.26]\n",
      "36   *▁No  [▁No:0.44, ▁Yes:0.28]\n",
      "37   ▁Yes  [▁No:0.74, ▁Yes:0.25]\n",
      "38   *▁No  [▁No:0.78, ▁Yes:0.22]\n",
      "39   ▁Yes  [▁No:0.56, ▁Yes:0.43]\n",
      "40   *▁No    [▁No:0.6, ▁Yes:0.4]\n",
      "41  *▁Yes  [▁Yes:0.56, ▁No:0.44]\n",
      "42   *▁No  [▁No:0.78, ▁Yes:0.22]\n",
      "43  *▁Yes  [▁Yes:0.97, ▁No:0.03]\n",
      "44   *▁No  [▁No:0.55, ▁Yes:0.45]\n",
      "45  *▁Yes  [▁Yes:0.44, ▁No:0.33]\n",
      "46   ▁Yes  [▁No:0.65, ▁Yes:0.33]\n",
      "47   ▁Yes  [▁No:0.62, ▁Yes:0.37]\n",
      "48   *▁No   [▁No:0.8, ▁Yes:0.19]\n",
      "49   *▁No             [▁No:0.99]\n",
      "50  *▁Yes  [▁Yes:0.74, ▁No:0.26]\n",
      "51   *▁No  [▁No:0.87, ▁Yes:0.12]\n",
      "52  *▁Yes  [▁Yes:0.86, ▁No:0.13]\n",
      "53   *▁No             [▁No:0.99]\n",
      "54    ▁No  [▁Yes:0.37, ▁No:0.34]\n",
      "55   *▁No  [▁No:0.91, ▁Yes:0.09]\n",
      "56   ▁Yes  [▁No:0.55, ▁Yes:0.44]\n",
      "57   *▁No  [▁No:0.79, ▁Yes:0.21]\n",
      "58   ▁Yes    [▁No:0.9, ▁Yes:0.1]\n",
      "59   *▁No  [▁No:0.84, ▁Yes:0.16]\n",
      "60  *▁Yes  [▁Yes:0.88, ▁No:0.12]\n",
      "61  *▁Yes  [▁Yes:0.92, ▁No:0.08]\n",
      "62   *▁No             [▁No:0.99]\n",
      "63   *▁No  [▁No:0.63, ▁Yes:0.22]\n",
      "64  *▁Yes  [▁Yes:0.55, ▁No:0.45]\n",
      "65   *▁No  [▁No:0.78, ▁Yes:0.21]\n",
      "66   *▁No  [▁No:0.56, ▁Yes:0.43]\n",
      "67    ▁No  [▁Yes:0.55, ▁No:0.44]\n",
      "68   *▁No  [▁No:0.87, ▁Yes:0.13]\n",
      "69  *▁Yes    [▁Yes:0.7, ▁No:0.3]\n",
      "70   ▁Yes  [▁No:0.57, ▁Yes:0.43]\n",
      "71   ▁Yes  [▁No:0.71, ▁Yes:0.29]\n",
      "72  *▁Yes   [▁Yes:0.53, ▁No:0.3]\n",
      "73    ▁No  [▁Yes:0.54, ▁No:0.46]\n",
      "74  *▁Yes    [▁Yes:0.8, ▁No:0.2]\n",
      "75   *▁No             [▁No:0.99]\n",
      "76  *▁Yes  [▁Yes:0.64, ▁No:0.36]\n",
      "77   *▁No  [▁No:0.92, ▁Yes:0.08]\n",
      "78   *▁No  [▁No:0.92, ▁Yes:0.08]\n",
      "79   *▁No              [▁No:1.0]\n",
      "80   ▁Yes  [▁No:0.57, ▁Yes:0.43]\n",
      "81   *▁No  [▁No:0.68, ▁Yes:0.17]\n",
      "82   ▁Yes  [▁No:0.67, ▁Yes:0.32]\n",
      "83   *▁No  [▁No:0.97, ▁Yes:0.03]\n",
      "84  *▁Yes  [▁Yes:0.97, ▁No:0.03]\n",
      "85   *▁No  [▁No:0.86, ▁Yes:0.14]\n",
      "86   *▁No  [▁No:0.95, ▁Yes:0.05]\n",
      "87  *▁Yes  [▁Yes:0.98, ▁No:0.02]\n",
      "88   *▁No  [▁No:0.91, ▁Yes:0.09]\n",
      "89  *▁Yes            [▁Yes:0.99]\n"
     ]
    },
    {
     "data": {
      "text/plain": [
       "{'eval_loss': 0.483642578125,\n",
       " 'eval_ACC_0': 0.699999988079071,\n",
       " 'eval_ACC_1': 0.5,\n",
       " 'eval_ACC_2': 0.699999988079071,\n",
       " 'eval_ACC_3': 0.800000011920929,\n",
       " 'eval_ACC_4': 0.699999988079071,\n",
       " 'eval_ACC_5': 1.0,\n",
       " 'eval_ACC_6': 0.8999999761581421,\n",
       " 'eval_ACC_7': 0.699999988079071,\n",
       " 'eval_ACC_8': 0.800000011920929,\n",
       " 'eval_runtime': 4.2553,\n",
       " 'eval_samples_per_second': 2.35,\n",
       " 'eval_steps_per_second': 1.175}"
      ]
     },
     "execution_count": 147,
     "metadata": {},
     "output_type": "execute_result"
    }
   ],
   "source": [
    "trainer.evaluate() #新问法 ，context = 5"
   ]
  },
  {
   "cell_type": "code",
   "execution_count": 69,
   "id": "485a0f44",
   "metadata": {},
   "outputs": [],
   "source": [
    "# with open(f\"data/data_1_{num}.json\", \"a\", encoding=\"utf-8\") as f:\n",
    "#     json.dump(result:=trainer.evaluate(), f) \n",
    "# result"
   ]
  },
  {
   "cell_type": "code",
   "execution_count": null,
   "id": "4099d8b6",
   "metadata": {},
   "outputs": [],
   "source": []
  }
 ],
 "metadata": {
  "kernelspec": {
   "display_name": "Python 3 (ipykernel)",
   "language": "python",
   "name": "python3"
  },
  "language_info": {
   "codemirror_mode": {
    "name": "ipython",
    "version": 3
   },
   "file_extension": ".py",
   "mimetype": "text/x-python",
   "name": "python",
   "nbconvert_exporter": "python",
   "pygments_lexer": "ipython3",
   "version": "3.11.4"
  }
 },
 "nbformat": 4,
 "nbformat_minor": 5
}
