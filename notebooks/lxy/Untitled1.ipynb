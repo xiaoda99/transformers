{
 "cells": [
  {
   "cell_type": "code",
   "execution_count": 1,
   "id": "e0c1ec77",
   "metadata": {
    "scrolled": true
   },
   "outputs": [
    {
     "name": "stdout",
     "output_type": "stream",
     "text": [
      "Archive:  SST-2.zip\n",
      "   creating: SST-2/\n",
      "  inflating: SST-2/dev.tsv           \n",
      "   creating: SST-2/original/\n",
      "  inflating: SST-2/original/README.txt  \n",
      "  inflating: SST-2/original/SOStr.txt  \n",
      "  inflating: SST-2/original/STree.txt  \n",
      "  inflating: SST-2/original/datasetSentences.txt  \n",
      "  inflating: SST-2/original/datasetSplit.txt  \n",
      "  inflating: SST-2/original/dictionary.txt  \n",
      "  inflating: SST-2/original/original_rt_snippets.txt  \n",
      "  inflating: SST-2/original/sentiment_labels.txt  \n",
      "  inflating: SST-2/test.tsv          \n",
      "  inflating: SST-2/train.tsv         \n"
     ]
    }
   ],
   "source": [
    "!unzip SST-2.zip"
   ]
  },
  {
   "cell_type": "code",
   "execution_count": 104,
   "id": "726c192f",
   "metadata": {},
   "outputs": [],
   "source": [
    "ans = []"
   ]
  },
  {
   "cell_type": "code",
   "execution_count": 105,
   "id": "e49d022e",
   "metadata": {},
   "outputs": [],
   "source": [
    "with open ('./SST-2/train.tsv','r') as f:\n",
    "    for i, line in enumerate(f.readlines()[1:]):\n",
    "        templist = line.strip().split('\\t')\n",
    "        if 20 <= len(templist[0]) <= 30:\n",
    "            ans.append([templist[0],templist[1]])"
   ]
  },
  {
   "cell_type": "code",
   "execution_count": 106,
   "id": "8cfcfbe1",
   "metadata": {},
   "outputs": [],
   "source": [
    "# len(ans)\n",
    "import random\n",
    "from collections import defaultdict"
   ]
  },
  {
   "cell_type": "code",
   "execution_count": 107,
   "id": "2544077e",
   "metadata": {},
   "outputs": [],
   "source": [
    "dictss =defaultdict(list)\n",
    "for text,label in ans:\n",
    "    if label =='1':\n",
    "        dictss['1'].append(text)\n",
    "    else:\n",
    "        dictss['0'].append(text)"
   ]
  },
  {
   "cell_type": "code",
   "execution_count": 108,
   "id": "bfe03f3d",
   "metadata": {},
   "outputs": [
    {
     "data": {
      "text/plain": [
       "12069"
      ]
     },
     "execution_count": 108,
     "metadata": {},
     "output_type": "execute_result"
    }
   ],
   "source": [
    "len(ans)"
   ]
  },
  {
   "cell_type": "code",
   "execution_count": 118,
   "id": "91494d2b",
   "metadata": {},
   "outputs": [],
   "source": [
    "def get_samples(k):\n",
    "    ans111 = []\n",
    "    for i in range(k):\n",
    "        merge =[]\n",
    "        positives = random.sample(dictss['1'],2)\n",
    "        negtives = random.sample(dictss['0'],2)\n",
    "        for pos in positives:\n",
    "            merge.append(' ' + pos +'-> '+ 'True\\n')\n",
    "        for neg in negtives:\n",
    "            merge.append(' ' + neg +'-> '+ 'False\\n')\n",
    "        merge = random.sample(merge,len(merge))\n",
    "        finalsample = random.sample(ans,1)\n",
    "        merge.append(' ' + finalsample[0][0] + '-> ' + ('True\\n' if finalsample[0][1] == '1' else 'False\\n'))\n",
    "        if len(set(merge)) == len(merge):\n",
    "            ans111.append(''.join(merge))\n",
    "    return ans111"
   ]
  },
  {
   "cell_type": "code",
   "execution_count": 131,
   "id": "673e29ed",
   "metadata": {},
   "outputs": [],
   "source": [
    "def get_samples11(k):\n",
    "    ans111 = []\n",
    "    for i in range(k):\n",
    "        merge =[]\n",
    "        positives = random.sample(dictss['1'],4)\n",
    "        negtives = random.sample(dictss['0'],4)\n",
    "        for pos in positives[:2]:\n",
    "            merge.append(' ' + pos +'-> '+ 'True\\n')\n",
    "        for neg in negtives[:2]:\n",
    "            merge.append(' ' + neg +'-> '+ 'False\\n')\n",
    "        merge = random.sample(merge,len(merge))\n",
    "        merge11 = []\n",
    "        for pos in positives[2:]:\n",
    "            merge11.append(' ' + pos +'-> '+ 'True\\n')\n",
    "        for neg in negtives[2:]:\n",
    "            merge11.append(' ' + neg +'-> '+ 'False\\n')\n",
    "        merge11 = random.sample(merge11,len(merge11))\n",
    "        merge.extend(merge11)\n",
    "        if len(set(merge)) == len(merge):\n",
    "            ans111.append(''.join(merge))\n",
    "    return ans111"
   ]
  },
  {
   "cell_type": "code",
   "execution_count": 132,
   "id": "95caae6a",
   "metadata": {},
   "outputs": [],
   "source": [
    " samples = get_samples11(12)"
   ]
  },
  {
   "cell_type": "code",
   "execution_count": 133,
   "id": "bb5134fa",
   "metadata": {},
   "outputs": [
    {
     "data": {
      "text/plain": [
       "[\" christmas perennial -> True\\n the dialogue is cumbersome , -> False\\n depressed fifteen-year-old 's -> False\\n lead actress andie macdowell -> True\\n better characters , -> True\\n is still good fun . -> True\\n , overused cocktail -> False\\n almost unimaginable horror -> False\\n\",\n",
       " ' the power of shanghai ghetto -> True\\n its awkward structure and -> False\\n succeeds in making neither -> False\\n doing its namesake proud -> True\\n timely , tongue-in-cheek -> True\\n squanders its beautiful women -> False\\n thoughtful , reverent -> True\\n against governmental odds -> False\\n',\n",
       " \" as an exceptional thriller -> True\\n few ` cool ' actors -> False\\n and con , for adults -> False\\n charming , quirky , original -> True\\n derivative horror film -> False\\n gives hollywood sequels -> True\\n might not have noticed -> False\\n attractive about this movie -> True\\n\",\n",
       " ' exceptionally well-acted -> True\\n impersonal and abstract -> False\\n art-house gay porn film -> False\\n slapstick sequences -> True\\n the delight of discovery -> True\\n want to check it out -> True\\n dullest irish pub scenes -> False\\n works against itself -> False\\n',\n",
       " \" that falls far short -> False\\n that resonate with profundity -> True\\n a good line in charm -> True\\n i do n't think so . -> False\\n as a pale successor -> False\\n an intriguing story -> True\\n recommend snow dogs -> True\\n bored by as your abc 's -> False\\n\",\n",
       " \" too burdened by the actor -> False\\n clichéd and shallow -> False\\n into such fresh territory -> True\\n the best of godard 's movies -> True\\n comedy to start a reaction -> True\\n that already-shallow -> False\\n of psychopathic pulp -> False\\n a really special walk -> True\\n\",\n",
       " \" 's pauly shore awful -> False\\n pointed personalities -> True\\n last-place basketball -> False\\n getting a more mature body -> True\\n pleasing at its best moments -> True\\n the characters are so generic -> False\\n is generally quite funny . -> True\\n horribly depressing and not -> False\\n\",\n",
       " \" scotland looks wonderful , -> True\\n personable , amusing -> True\\n i do n't see the point -> False\\n stultifyingly obvious -> False\\n the writing is indifferent -> False\\n an impressive style -> True\\n exciting documentary . -> True\\n is not handled well -> False\\n\",\n",
       " \" surprisingly engrossing -> True\\n the achingly unfunny phonce -> False\\n ebullient affection -> True\\n contrived and secondhand -> False\\n the film is well under way -- -> True\\n does n't make sense -> False\\n a portrait of alienation -> True\\n so incredibly inane -> False\\n\",\n",
       " \" a predictably efficient piece -> True\\n the more influential works -> True\\n going through the motions -> False\\n feels all too familiar -> False\\n the writing is indifferent -> False\\n it 's sort of in-between -> True\\n the film grows on you . -> True\\n going to be really awful -> False\\n\",\n",
       " \" tediously exasperating -> False\\n minority report '' astounds . -> True\\n lyrical and celebratory -> True\\n spirals downward , and -> False\\n the rut dug by the last one -> False\\n old-fashioned adventure -> True\\n franchise possibilities -> True\\n that perverse element -> False\\n\",\n",
       " \" 's actually sort of amazing -> True\\n brash , intelligent and -> True\\n film school undergrad -> False\\n cinematic deception -> False\\n a riveting story well told . -> True\\n , there is n't much to it . -> False\\n screenwriting award -> True\\n is where ararat went astray . -> False\\n\"]"
      ]
     },
     "execution_count": 133,
     "metadata": {},
     "output_type": "execute_result"
    }
   ],
   "source": [
    "samples"
   ]
  },
  {
   "cell_type": "code",
   "execution_count": 136,
   "id": "d29282d6",
   "metadata": {},
   "outputs": [],
   "source": [
    "from collections import defaultdict\n",
    "import random\n",
    "def readfileSST2(filepath, k):\n",
    "    ans = []\n",
    "    with open(filepath, 'r') as f:\n",
    "        for i, line in enumerate(f.readlines()[1:]):\n",
    "            templist = line.strip().split('\\t')\n",
    "            ans.append([templist[0],templist[1]])\n",
    "    dictss =defaultdict(list)\n",
    "    for text,label in ans:\n",
    "        if label =='1':\n",
    "            dictss['1'].append(text)\n",
    "        else:\n",
    "            dictss['0'].append(text)\n",
    "    ans111 = []\n",
    "    for i in range(k):\n",
    "        merge =[]\n",
    "        positives = random.sample(dictss['1'],4)\n",
    "        negtives = random.sample(dictss['0'],4)\n",
    "        for pos in positives[:2]:\n",
    "            merge.append(' ' + pos +'-> '+ 'True\\n')\n",
    "        for neg in negtives[:2]:\n",
    "            merge.append(' ' + neg +'-> '+ 'False\\n')\n",
    "        merge = random.sample(merge,len(merge))\n",
    "        merge11 = []\n",
    "        for pos in positives[2:]:\n",
    "            merge11.append(' ' + pos +'-> '+ 'True\\n')\n",
    "        for neg in negtives[2:]:\n",
    "            merge11.append(' ' + neg +'-> '+ 'False\\n')\n",
    "        merge11 = random.sample(merge11,len(merge11))\n",
    "        merge.extend(merge11)\n",
    "        if len(set(merge)) == len(merge):\n",
    "            ans111.append(''.join(merge))\n",
    "    return ans111"
   ]
  },
  {
   "cell_type": "code",
   "execution_count": 138,
   "id": "eca49a04",
   "metadata": {},
   "outputs": [],
   "source": [
    "samples = readfileSST2('/nas/xd/projects/transformers/notebooks/data/SST-2/train.tsv',30)"
   ]
  },
  {
   "cell_type": "code",
   "execution_count": 139,
   "id": "de4b9b3d",
   "metadata": {},
   "outputs": [
    {
     "name": "stdout",
     "output_type": "stream",
     "text": [
      " an ungainly movie , ill-fitting -> False\n",
      " twenty the worst of the brosnan bunch -> False\n",
      " 's yet another cool crime movie that actually manages to bring something new into the mix -> True\n",
      " , you 're in luck . -> True\n",
      " depressing , ruthlessly pained and depraved -> False\n",
      " with a sour taste in one 's mouth , and little else -> False\n",
      " gradually sneaks up on the audience -> True\n",
      " an unabashed sense of good old-fashioned escapism -> True\n",
      "\n"
     ]
    }
   ],
   "source": [
    "print(samples[0])"
   ]
  },
  {
   "cell_type": "code",
   "execution_count": 175,
   "id": "e813d4dc",
   "metadata": {},
   "outputs": [
    {
     "name": "stdout",
     "output_type": "stream",
     "text": [
      "1.0014265335235377\n",
      "1.0462686567164179\n",
      "0.9571409093591587\n"
     ]
    }
   ],
   "source": [
    "\n",
    "x = 0.702/0.701\n",
    "y = 0.701/0.67\n",
    "print(x)\n",
    "print(y)\n",
    "print(x/y)"
   ]
  },
  {
   "cell_type": "code",
   "execution_count": null,
   "id": "b68c97a1",
   "metadata": {},
   "outputs": [],
   "source": []
  }
 ],
 "metadata": {
  "kernelspec": {
   "display_name": "Python 3",
   "language": "python",
   "name": "python3"
  },
  "language_info": {
   "codemirror_mode": {
    "name": "ipython",
    "version": 3
   },
   "file_extension": ".py",
   "mimetype": "text/x-python",
   "name": "python",
   "nbconvert_exporter": "python",
   "pygments_lexer": "ipython3",
   "version": "3.8.12"
  }
 },
 "nbformat": 4,
 "nbformat_minor": 5
}
