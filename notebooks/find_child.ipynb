{
 "cells": [
  {
   "cell_type": "code",
   "execution_count": 186,
   "source": [
    "from IPython import get_ipython\n",
    "%load_ext autoreload\n",
    "%autoreload 2\n",
    "from IPython.core.interactiveshell import InteractiveShell\n",
    "InteractiveShell.ast_node_interactivity = 'all'"
   ],
   "outputs": [
    {
     "output_type": "stream",
     "name": "stdout",
     "text": [
      "The autoreload extension is already loaded. To reload it, use:\n",
      "  %reload_ext autoreload\n"
     ]
    }
   ],
   "metadata": {}
  },
  {
   "cell_type": "code",
   "execution_count": 5,
   "source": [
    "torch"
   ],
   "outputs": [
    {
     "output_type": "execute_result",
     "data": {
      "text/plain": [
       "<module 'torch' from '/home/kf/miniconda3/envs/pytorch1.7.1/lib/python3.8/site-packages/torch/__init__.py'>"
      ]
     },
     "metadata": {},
     "execution_count": 5
    }
   ],
   "metadata": {}
  },
  {
   "cell_type": "code",
   "execution_count": 187,
   "source": [
    "import sys\n",
    "# sys.path.insert(0, '/nas/xd/projects/transformers/src/transformers')\n",
    "import os\n",
    "device_mappings = {0: 1, 1: 5, 2: 6, 3: 7, 4: 2, 5: 3, 6: 0, 1: 4}\n",
    "os.environ[\"CUDA_VISIBLE_DEVICES\"] = str(device_mappings[2])\n",
    "\n",
    "import random\n",
    "import string\n",
    "from collections import defaultdict, OrderedDict\n",
    "from itertools import product, chain\n",
    "import math\n",
    "import numpy as np\n",
    "import logging\n",
    "import types\n",
    "\n",
    "from pattern.en import comparative\n",
    "import matplotlib.pyplot as plt\n",
    "import seaborn as sns\n",
    "\n",
    "# from captum.attr import IntegratedGradients, LayerConductance, LayerIntegratedGradients\n",
    "# from captum.attr import configure_interpretable_embedding_layer, remove_interpretable_embedding_layer"
   ],
   "outputs": [],
   "metadata": {}
  },
  {
   "cell_type": "code",
   "execution_count": 100,
   "source": [
    "import transformers\n",
    "transformers.__version__"
   ],
   "outputs": [
    {
     "output_type": "execute_result",
     "data": {
      "text/plain": [
       "'4.18.0.dev0'"
      ]
     },
     "metadata": {},
     "execution_count": 100
    }
   ],
   "metadata": {}
  },
  {
   "cell_type": "code",
   "execution_count": 188,
   "source": [
    "import torch\n",
    "from torch import nn\n",
    "import torch.nn.functional as F\n",
    "from torch.nn import CrossEntropyLoss, MSELoss\n",
    "from torch.utils.data.dataset import Dataset, IterableDataset\n",
    "from torch.utils.data.dataloader import DataLoader\n",
    "from torch.utils.data.sampler import RandomSampler, Sampler, SequentialSampler\n",
    "from enum import Enum\n",
    "from typing import List, Optional, Union\n",
    "# from transformers import RobertaForMaskedLM\n",
    "\n",
    "\n",
    "from transformers import HfArgumentParser, Trainer, TrainingArguments, set_seed\n",
    "from transformers import AutoConfig, PreTrainedModel, RobertaForMaskedLM, RobertaTokenizer\n",
    "# from transformers.modeling_roberta import RobertaForProbing, RobertaDoubleHeadsModel, \\\n",
    "#     RobertaDoubleHeadsModel2, RobertaDoubleHeadsModel3, RobertaForSequenceClassification  # XD\n",
    "# from transformers.trainer import get_mean_pred_prob  # XD\n",
    "from transformers.data.data_collator import DataCollator, default_data_collator\n",
    "from transformers import GPT2LMHeadModel, GPT2Tokenizer, GPTNeoForCausalLM, GPTJForCausalLM, XGLMForCausalLM\n",
    "from transformers import T5Tokenizer, T5ForConditionalGeneration\n",
    "from transformers import AutoTokenizer, AutoModelForCausalLM\n",
    "\n",
    "logging.basicConfig(level=logging.ERROR)"
   ],
   "outputs": [],
   "metadata": {}
  },
  {
   "cell_type": "code",
   "execution_count": 189,
   "source": [
    "from common_utils import *\n",
    "from utils import *\n",
    "models = {}\n",
    "cache_dir = '/nas/xd/.cache/torch/transformers/'  # for models besides t5-3b/11b\n",
    "proxies = {'http': '192.168.50.1:1081'} "
   ],
   "outputs": [],
   "metadata": {}
  },
  {
   "cell_type": "code",
   "execution_count": 190,
   "source": [
    "model_name = \"gpt2-large\"\n",
    "tokenizer = GPT2Tokenizer.from_pretrained('gpt2', cache_dir=cache_dir)\n",
    "model = GPT2LMHeadModel.from_pretrained(model_name, proxies=proxies, cache_dir=cache_dir)\n",
    "models[model_name] = model, tokenizer"
   ],
   "outputs": [
    {
     "output_type": "stream",
     "name": "stdout",
     "text": [
      "In cached_path: url_or_filename = https://huggingface.co/gpt2/resolve/main/vocab.json\n",
      "In cached_path: output_path = /nas/xd/.cache/torch/transformers/684fe667923972fb57f6b4dcb61a3c92763ad89882f3da5da9866baf14f2d60f.c7ed1f96aac49e745788faa77ba0a26a392643a50bb388b9c04ff469e555241f\n",
      "In cached_path: url_or_filename = https://huggingface.co/gpt2/resolve/main/merges.txt\n",
      "In cached_path: output_path = /nas/xd/.cache/torch/transformers/c0c761a63004025aeadd530c4c27b860ec4ecbe8a00531233de21d865a402598.5d12962c5ee615a4c803841266e9c3be9a691a924f72d395d3a6c6c81157788b\n",
      "In cached_path: url_or_filename = https://huggingface.co/gpt2/resolve/main/added_tokens.json\n",
      "In cached_path: url_or_filename = https://huggingface.co/gpt2/resolve/main/special_tokens_map.json\n",
      "In cached_path: url_or_filename = https://huggingface.co/gpt2/resolve/main/tokenizer_config.json\n",
      "In cached_path: url_or_filename = https://huggingface.co/gpt2/resolve/main/config.json\n",
      "In cached_path: output_path = /nas/xd/.cache/torch/transformers/fc674cd6907b4c9e933cb42d67662436b89fa9540a1f40d7c919d0109289ad01.7d2e0efa5ca20cef4fb199382111e9d3ad96fd77b849e1d4bed13a66e1336f51\n",
      "In cached_path: url_or_filename = https://huggingface.co/gpt2-large/resolve/main/config.json\n",
      "In cached_path: output_path = /nas/xd/.cache/torch/transformers/gpt2-large-config.json\n",
      "In cached_path: url_or_filename = https://huggingface.co/gpt2-large/resolve/main/pytorch_model.bin\n",
      "In cached_path: output_path = /nas/xd/.cache/torch/transformers/234578a5793e64713ba846b4c5e181e043f48b33140622e2c1dd623b665de3f9.4780ef91b17260f8dac8a3c2183aa338b27365326fb706e74db40b03749f8aba\n"
     ]
    }
   ],
   "metadata": {}
  },
  {
   "cell_type": "code",
   "execution_count": 191,
   "source": [
    "_=model.eval()"
   ],
   "outputs": [],
   "metadata": {}
  },
  {
   "cell_type": "code",
   "execution_count": 192,
   "source": [
    " import random\n",
    " input_ids = random.sample(range(200,20000),25)\n",
    " input_ids = torch.tensor(input_ids).view(1,25)\n",
    " input_ids.shape\n",
    " input_ids"
   ],
   "outputs": [
    {
     "output_type": "execute_result",
     "data": {
      "text/plain": [
       "torch.Size([1, 25])"
      ]
     },
     "metadata": {},
     "execution_count": 192
    },
    {
     "output_type": "execute_result",
     "data": {
      "text/plain": [
       "tensor([[11190,  9984, 16055,  5056,  1795, 15867, 10264, 14359,  6907,  1528,\n",
       "         10771, 16636, 12946,  7679,  5954, 15470, 10200,  1774, 19988,  8646,\n",
       "         18261,  4248,  8685, 11936, 10485]])"
      ]
     },
     "metadata": {},
     "execution_count": 192
    }
   ],
   "metadata": {}
  },
  {
   "cell_type": "code",
   "execution_count": 193,
   "source": [
    "from dataclasses import dataclass\n",
    "\n",
    "@dataclass\n",
    "class Outputs:\n",
    "    inputs_embeds: torch.FloatTensor = None\n",
    "    position_embeds: torch.FloatTensor = None\n",
    "    attn_outputs: tuple = ()\n",
    "    intermediates: tuple = ()\n",
    "    mlp_outputs: tuple = ()\n",
    "    hidden_states: tuple = ()\n",
    "    attentions: tuple = ()\n",
    "    logits: torch.FloatTensor = None\n",
    "    all_attn_withoutO: tuple = ()\n",
    "    all_W_O: tuple = ()"
   ],
   "outputs": [],
   "metadata": {}
  },
  {
   "cell_type": "code",
   "execution_count": 194,
   "source": [
    "# forward function for gpt-xl\n",
    "def forwardxl(model, input_ids):\n",
    "    input_shape = input_ids.size()\n",
    "    device = input_ids.device\n",
    "    position_ids = torch.arange(0, input_shape[-1], dtype=torch.long, device=device)\n",
    "    position_ids = position_ids.unsqueeze(0).view(-1, input_shape[-1])\n",
    "    self = model.transformer\n",
    "    inputs_embeds = self.wte(input_ids)\n",
    "    position_embeds = self.wpe(position_ids)\n",
    "    hidden_states = inputs_embeds + position_embeds\n",
    "    hidden_states = self.drop(hidden_states)\n",
    "    attn_outputs, intermediates, mlp_outputs = (), (), ()\n",
    "    all_hidden_states, all_attentions = (), ()\n",
    "    all_attn_withoutO = ()\n",
    "    all_W_O = ()\n",
    "    for i, b in enumerate(self.h):\n",
    "        all_hidden_states += (hidden_states,)\n",
    "        attn_output, _, attention, attn_withoutO = b.attn(b.ln_1(hidden_states),output_attentions=True)\n",
    "        W_O = b.attn.c_proj.weight.view(20, 64, 1280)\n",
    "        # print((W_O.view(1280,1280)-b.attn.c_proj.weight).abs().mean())\n",
    "        all_W_O += (W_O,)\n",
    "        all_attn_withoutO += (attn_withoutO,)\n",
    "        attn_outputs += (attn_output,)\n",
    "        all_attentions += (attention,)\n",
    "        hidden_states = hidden_states + attn_output\n",
    "        mlp_output = b.mlp(b.ln_2(hidden_states))\n",
    "        # intermediates += (intermediate,)\n",
    "        mlp_outputs += (mlp_output,)\n",
    "        hidden_states = hidden_states + mlp_output\n",
    "    all_hidden_states += (hidden_states,) # both before and after ln_f\n",
    "    hidden_states = self.ln_f(hidden_states)\n",
    "    all_hidden_states += (hidden_states,)\n",
    "    logits = model.lm_head(hidden_states)\n",
    "    return Outputs(\n",
    "        inputs_embeds=inputs_embeds, position_embeds=position_embeds,\n",
    "        attn_outputs=attn_outputs, intermediates=intermediates, mlp_outputs=mlp_outputs,\n",
    "        hidden_states=all_hidden_states, attentions=all_attentions, logits=logits, all_attn_withoutO = all_attn_withoutO, all_W_O = all_W_O,\n",
    "    )"
   ],
   "outputs": [],
   "metadata": {}
  },
  {
   "cell_type": "code",
   "execution_count": 195,
   "source": [
    "with torch.no_grad(): o = forwardxl(model, input_ids)"
   ],
   "outputs": [],
   "metadata": {}
  },
  {
   "cell_type": "code",
   "execution_count": 197,
   "source": [
    "(o.all_W_O[0].shape)"
   ],
   "outputs": [
    {
     "output_type": "execute_result",
     "data": {
      "text/plain": [
       "torch.Size([20, 64, 1280])"
      ]
     },
     "metadata": {},
     "execution_count": 197
    }
   ],
   "metadata": {}
  },
  {
   "cell_type": "code",
   "execution_count": 138,
   "source": [
    "expand_input_ids = input_ids.repeat(1,20,1)\n",
    "expand_input_ids.shape"
   ],
   "outputs": [
    {
     "output_type": "execute_result",
     "data": {
      "text/plain": [
       "torch.Size([1, 20, 25])"
      ]
     },
     "metadata": {},
     "execution_count": 138
    }
   ],
   "metadata": {}
  },
  {
   "cell_type": "code",
   "execution_count": 169,
   "source": [
    "aaa = torch.rand(2,4)\n",
    "aaa\n",
    "index = torch.ones(2).long()\n",
    "# index[0]\n",
    "aaa[:,index]"
   ],
   "outputs": [
    {
     "output_type": "execute_result",
     "data": {
      "text/plain": [
       "tensor([[0.6354, 0.9089, 0.0625, 0.5538],\n",
       "        [0.2815, 0.0303, 0.6752, 0.9601]])"
      ]
     },
     "metadata": {},
     "execution_count": 169
    },
    {
     "output_type": "execute_result",
     "data": {
      "text/plain": [
       "tensor([[0.9089, 0.9089],\n",
       "        [0.0303, 0.0303]])"
      ]
     },
     "metadata": {},
     "execution_count": 169
    }
   ],
   "metadata": {}
  },
  {
   "cell_type": "code",
   "execution_count": 203,
   "source": [
    "#位置编码矩阵？W_0的bias\n",
    "# hidden states要改变。\n",
    "#位置编码也要加\n",
    "copyhead=[]\n",
    "for i in range(36):\n",
    "    # copyheadOnelayer=[]\n",
    "    attn_withoutO = o.all_attn_withoutO[i]# torch.Size([1, 20, 25, 64])\n",
    "    W_O = o.all_W_O[i] # torch.Size([20, 64, 1280])\n",
    "    # W_O_bias= o.attn.c_proj.bias #最终要不要加bias\n",
    "    attention_output = torch.einsum('mijk,ikl->mijl',[attn_withoutO, W_O]) #[1,20,25,1280]\n",
    "    logits = model.lm_head(attention_output)#不加残差流，这里有问题\n",
    "    bias = torch.zeros((25, 50257), dtype=torch.uint8)#设置mask机制\n",
    "    for k in range(25):\n",
    "        bias[k:,input_ids[0][k]] = 1 \n",
    "    causal_mask = bias.bool().unsqueeze(0).repeat(1,20,1,1)#[1,20,25,50257]\n",
    "    logits=torch.where(causal_mask, logits, torch.tensor(-1e9))\n",
    "    loggailv=nn.functional.softmax(logits, dim=-1)#算出加上mask logits [1,20,25,50257]\n",
    "    attention_max=torch.max(o.attentions[i],dim=-1) #[1,20,25,25]\n",
    "    # print(attention_max.indices.view(1*20*25))#torch.Size([1, 20, 25])\n",
    "    attention_indices = input_ids[0,attention_max.indices.view(1*20*25)]\n",
    "    # print(attention_indices)\n",
    "    # attention_indices = attention_indices.view(1,20,25,1)\n",
    "    # sss=loggailv.gather(3,attention_indices) #(1,20,25,1)\n",
    "    sss =loggailv.view(-1,50257).gather(1,attention_indices.view(-1,1))\n",
    "    copyhead.extend(sss.view(20,25).mean(-1).detach().numpy().tolist())\n",
    "    # copyhead.append(sss.squeeze(-1).squeeze(0).mean(-1).detach().numpy().tolist())\n",
    "    # break\n",
    "    # jieguo= torch.zeros(25,1)\n",
    "    # for k in range(25):\n",
    "    #     jieguo[k][0]=loggailv[0,k,tmp[k]]\n",
    "    # # print(jieguo.mean())\n",
    "    # copyheadOnelayer.append(jieguo.mean().detach().numpy().tolist())\n",
    "    # copyhead.append(copyheadOnelayer[:])\n",
    "        \n",
    "        \n",
    "        \n",
    "\n",
    "    \n"
   ],
   "outputs": [],
   "metadata": {}
  },
  {
   "cell_type": "code",
   "execution_count": 212,
   "source": [
    "input_ids_mul4=input_ids.repeat(1,4)\n",
    "with torch.no_grad(): o = forwardxl(model, input_ids_mul4)"
   ],
   "outputs": [],
   "metadata": {}
  },
  {
   "cell_type": "code",
   "execution_count": 218,
   "source": [
    "\n",
    "prefix_head=[]#cumcum\n",
    "for i in range(36):\n",
    "    prefix_headOnelayer=[]\n",
    "    attention = o.attentions[i]# torch.Size([1, 20, 100, 100]) \n",
    "    attention = attention[:,:,25:,:]\n",
    "    # print(attention.shape)\n",
    "    bias = torch.zeros((100, 100), dtype=torch.uint8)#设置mask机制\n",
    "    for k in range(25,100):#第24个忽略不计 ABCD ABCD 前4个都不算吧\n",
    "        tmp = k\n",
    "        while tmp >=0:\n",
    "            tmp -= 25\n",
    "            bias[k,tmp+1] = 1 \n",
    "    bias = bias[25:,:]\n",
    "    causal_mask = bias.bool().unsqueeze(0).repeat(1,20,1,1)#([1, 20, 75, 100]) \n",
    "    # causal_mask.shape\n",
    "    logits=torch.where(causal_mask, attention, torch.tensor(0).float())\n",
    "    logits=logits.sum(-1).mean(-1)\n",
    "    # print(logits)\n",
    "    prefix_head.extend(logits.detach().numpy().tolist())\n",
    "    # print(prefix_head)\n",
    "        # print(logits)\n",
    "        # break\n",
    "    # break\n",
    "        # loggailv=nn.functional.softmax(logits, dim=-1)#算出加上mask logits\n",
    "        # ssss=torch.max(attention[0,j,:,:],dim=-1)\n",
    "        # tmp=input_ids[0,ssss.indices]\n",
    "        # jieguo= torch.zeros(25,1)\n",
    "        # for k in range(25):\n",
    "        #     jieguo[k][0]=loggailv[0,k,tmp[k]]\n",
    "        # print(jieguo.mean())\n",
    "        # prefix_headOnelayer.append(logits.detach().numpy().tolist())\n",
    "    # prefix_head.append(prefix_headOnelayer[:])"
   ],
   "outputs": [],
   "metadata": {}
  },
  {
   "cell_type": "code",
   "execution_count": 97,
   "source": [
    "# position_ids = torch.arange(0, input_shape[-1], dtype=torch.long, device=device)\n",
    "# position_ids = position_ids.unsqueeze(0).view(-1, input_shape[-1])\n",
    "self = model.transformer\n",
    "inputs_embeds = self.wte(input_ids) #位置编码要不要加？\n",
    "# position_embeds = self.wpe(position_ids)\n",
    "# hidden_states = inputs_embeds + position_embeds\n",
    "# hidden_states = self.drop(hidden_states)\n",
    "hidden_states =inputs_embeds\n",
    "attn_output, _, attention ,aaa = self.h[0].attn(self.h[0].ln_1(hidden_states),output_attentions=True) #1, 25, 1280]\n",
    "W_O = self.h[0].attn.c_proj.weight.split(64,0)\n",
    "bias= self.h[0].attn.c_proj.bias #最终要不要加bias\n",
    "aaa.shape\n",
    "attention.shape"
   ],
   "outputs": [
    {
     "output_type": "execute_result",
     "data": {
      "text/plain": [
       "torch.Size([1, 20, 25, 64])"
      ]
     },
     "metadata": {},
     "execution_count": 97
    },
    {
     "output_type": "execute_result",
     "data": {
      "text/plain": [
       "torch.Size([1, 20, 25, 25])"
      ]
     },
     "metadata": {},
     "execution_count": 97
    }
   ],
   "metadata": {}
  },
  {
   "cell_type": "code",
   "execution_count": null,
   "source": [],
   "outputs": [],
   "metadata": {}
  },
  {
   "cell_type": "code",
   "execution_count": null,
   "source": [
    "ans= torch.zeros(1,25,1280)\n",
    "for i in range(20):\n",
    "    ans+=aaa[:,i,:,:].matmul(W_O[i])\n",
    "ans += bias\n",
    "(ans-attn_output).abs().mean()#验证计算是否正确。"
   ],
   "outputs": [],
   "metadata": {}
  },
  {
   "cell_type": "code",
   "execution_count": null,
   "source": [
    "ans= torch.zeros(1,25,1280)\n",
    "ans+=aaa[:,0,:,:].matmul(W_O[0]) #要不要加bias 【1，25，64】*【64，1280】\n",
    "# ans.shape\n",
    "logits = model.lm_head(ans) #1,25,50527\n"
   ],
   "outputs": [],
   "metadata": {}
  },
  {
   "cell_type": "code",
   "execution_count": null,
   "source": [
    "input_ids\n",
    "logits.shape"
   ],
   "outputs": [],
   "metadata": {}
  },
  {
   "cell_type": "code",
   "execution_count": null,
   "source": [
    "bias = torch.zeros((25, 50257), dtype=torch.uint8)#设置mask机制\n",
    "\n",
    "for i in range(25):\n",
    "    bias[i:,input_ids[0][i]] = 1 "
   ],
   "outputs": [],
   "metadata": {}
  },
  {
   "cell_type": "code",
   "execution_count": null,
   "source": [
    "causal_mask = bias.bool().unsqueeze(0)\n",
    "# causal_mask.shape\n",
    "# logits.shape\n",
    "logits=torch.where(causal_mask, logits, torch.tensor(-1e9))\n",
    "loggailv=nn.functional.softmax(logits, dim=-1)\n"
   ],
   "outputs": [],
   "metadata": {}
  },
  {
   "cell_type": "code",
   "execution_count": null,
   "source": [
    "attention[0,0,:,:].shape"
   ],
   "outputs": [],
   "metadata": {}
  },
  {
   "cell_type": "code",
   "execution_count": null,
   "source": [
    "ssss=torch.max(attention[0,0,:,:],dim=-1)\n",
    "ssss ##自身关注自身算不算copy head ，需要把这种情况去掉吗"
   ],
   "outputs": [],
   "metadata": {}
  },
  {
   "cell_type": "code",
   "execution_count": null,
   "source": [
    "input_ids.shape\n",
    "tmp=input_ids[0,ssss.indices]\n",
    "tmp\n",
    "# loggailv[0,:,input_ids[0,ssss.indices]]\n",
    "# # loggailv.sum(dim=-1).shape\n",
    "\n",
    "# loggailv[0,0,tmp[i]]\n",
    "\n",
    "jieguo= torch.zeros(25,1)\n",
    "for i in range(25):\n",
    "    jieguo[i][0]=loggailv[0,i,tmp[i]]\n",
    "\n",
    "\n",
    "jieguo\n"
   ],
   "outputs": [],
   "metadata": {}
  },
  {
   "cell_type": "code",
   "execution_count": 141,
   "source": [
    "#位置编码矩阵？W_0的bias\n",
    "# hidden states要改变。\n",
    "#位置编码也要加\n",
    "copyhead=[]\n",
    "for i, b in enumerate(self.h):\n",
    "    copyheadOnelayer=[]\n",
    "    attn_output, _, attention, attn_withoutO = b.attn(b.ln_1(hidden_states),output_attentions=True)  #torch.Size([1, 25, 1280]) torch.Size([1, 20, 25, 25]) torch.Size([1, 20, 25, 64])\n",
    "    W_O = b.attn.c_proj.weight.split(64,0)\n",
    "    W_O_bias= b.attn.c_proj.bias #最终要不要加bias\n",
    "    \n",
    "    for j in range(attention.size()[1]):\n",
    "        ans= torch.zeros(1,25,1280)\n",
    "        ans+=attn_withoutO[:,j,:,:].matmul(W_O[j]) #要不要加bias 【1，25，64】*【64，1280】\n",
    "    # ans.shape\n",
    "        logits = model.lm_head(ans)#不加残差流，这里有问题\n",
    "        bias = torch.zeros((25, 50257), dtype=torch.uint8)#设置mask机制\n",
    "        for k in range(25):\n",
    "            bias[k:,input_ids[0][k]] = 1 \n",
    "        causal_mask = bias.bool().unsqueeze(0)\n",
    "        logits=torch.where(causal_mask, logits, torch.tensor(-1e9))\n",
    "        loggailv=nn.functional.softmax(logits, dim=-1)#算出加上mask logits\n",
    "        ssss=torch.max(attention[0,j,:,:],dim=-1)\n",
    "        print(ssss.indices.shape)\n",
    "        break\n",
    "    break\n",
    "        # tmp=input_ids[0,ssss.indices]\n",
    "        # jieguo= torch.zeros(25,1)\n",
    "        # for k in range(25):\n",
    "        #     jieguo[k][0]=loggailv[0,k,tmp[k]]\n",
    "        # # print(jieguo.mean())\n",
    "        # copyheadOnelayer.append(jieguo.mean().detach().numpy().tolist())\n",
    "    copyhead.append(copyheadOnelayer[:])\n",
    "        \n",
    "        \n",
    "        \n",
    "\n",
    "    \n"
   ],
   "outputs": [
    {
     "output_type": "stream",
     "name": "stdout",
     "text": [
      "torch.Size([25])\n"
     ]
    }
   ],
   "metadata": {}
  },
  {
   "cell_type": "code",
   "execution_count": null,
   "source": [
    "copyhead[20]"
   ],
   "outputs": [],
   "metadata": {}
  },
  {
   "cell_type": "code",
   "execution_count": null,
   "source": [
    "copyhead[20]"
   ],
   "outputs": [],
   "metadata": {}
  },
  {
   "cell_type": "code",
   "execution_count": null,
   "source": [
    "input_ids_mul4=input_ids.repeat(1,4)"
   ],
   "outputs": [],
   "metadata": {}
  },
  {
   "cell_type": "code",
   "execution_count": null,
   "source": [
    "input_ids_mul4\n"
   ],
   "outputs": [],
   "metadata": {}
  },
  {
   "cell_type": "code",
   "execution_count": null,
   "source": [
    "prefix_head=[]#cumcum\n",
    "hidden_states_mul4 = self.wte(input_ids_mul4)\n",
    "for i, b in enumerate(self.h):\n",
    "    prefix_headOnelayer=[]\n",
    "    attn_output, _, attention, attn_withoutO = b.attn(b.ln_1(hidden_states_mul4),output_attentions=True)  #torch.Size([1, 100, 1280]) torch.Size([1, 20, 100, 100]) torch.Size([1, 20, 100, 64])\n",
    "    for j in range(attention.size()[1]):\n",
    "\n",
    "        bias = torch.zeros((100, 100), dtype=torch.uint8)#设置mask机制\n",
    "        for k in range(25,100):#第24个忽略不计 ABCD ABCD 前4个都不算吧\n",
    "             tmp = k\n",
    "             while tmp >=0:\n",
    "                tmp -= 25\n",
    "                bias[k,tmp+1] = 1 \n",
    "        causal_mask = bias.bool().unsqueeze(0)\n",
    "        logits=torch.where(causal_mask, attention[0,j,:,:], torch.tensor(0).float())\n",
    "\n",
    "        logits=logits.sum(-1).mean()\n",
    "        # print(logits)\n",
    "        # break\n",
    "    # break\n",
    "        # loggailv=nn.functional.softmax(logits, dim=-1)#算出加上mask logits\n",
    "        # ssss=torch.max(attention[0,j,:,:],dim=-1)\n",
    "        # tmp=input_ids[0,ssss.indices]\n",
    "        # jieguo= torch.zeros(25,1)\n",
    "        # for k in range(25):\n",
    "        #     jieguo[k][0]=loggailv[0,k,tmp[k]]\n",
    "        # print(jieguo.mean())\n",
    "        prefix_headOnelayer.append(logits.detach().numpy().tolist())\n",
    "    prefix_head.append(prefix_headOnelayer[:])"
   ],
   "outputs": [],
   "metadata": {}
  },
  {
   "cell_type": "code",
   "execution_count": 71,
   "source": [
    "prefix_head[35]"
   ],
   "outputs": [
    {
     "output_type": "execute_result",
     "data": {
      "text/plain": [
       "[0.01204527635127306,\n",
       " 0.0381932407617569,\n",
       " 0.029538216069340706,\n",
       " 0.001129591022618115,\n",
       " 0.04770129173994064,\n",
       " 0.010484611615538597,\n",
       " 0.017978686839342117,\n",
       " 0.02985200099647045,\n",
       " 0.024105070158839226,\n",
       " 0.030567592009902,\n",
       " 0.05426609143614769,\n",
       " 0.028371388092637062,\n",
       " 0.01278347335755825,\n",
       " 0.018284093588590622,\n",
       " 0.010165493935346603,\n",
       " 0.0025588818825781345,\n",
       " 0.02210092730820179,\n",
       " 0.027966342866420746,\n",
       " 0.01568540185689926,\n",
       " 0.05994144454598427]"
      ]
     },
     "metadata": {},
     "execution_count": 71
    }
   ],
   "metadata": {}
  },
  {
   "cell_type": "code",
   "execution_count": 76,
   "source": [
    "import matplotlib.pyplot as plt\n",
    "import numpy as np\n",
    "copyhead11= np.array(copyhead).reshape(36*20)\n",
    "prefix_head11 = np.array(prefix_head).reshape(36*20)\n",
    "copyhead.shape\n",
    "# prefix_head.shape\n"
   ],
   "outputs": [
    {
     "output_type": "execute_result",
     "data": {
      "text/plain": [
       "(36, 20)"
      ]
     },
     "metadata": {},
     "execution_count": 76
    }
   ],
   "metadata": {}
  },
  {
   "cell_type": "code",
   "execution_count": 219,
   "source": [
    "color=0\n",
    "tmp=np.zeros(36*20)\n",
    "for i in range(36*20):\n",
    "    tmp[i]=color\n",
    "    if i%36==0:\n",
    "        color+=3\n",
    "plt.scatter(range(36*20),prefix_head,c=tmp,cmap='viridis')\n",
    "plt.colorbar()\n",
    "plt.show()"
   ],
   "outputs": [
    {
     "output_type": "execute_result",
     "data": {
      "text/plain": [
       "<matplotlib.collections.PathCollection at 0x7fd74bac78e0>"
      ]
     },
     "metadata": {},
     "execution_count": 219
    },
    {
     "output_type": "execute_result",
     "data": {
      "text/plain": [
       "<matplotlib.colorbar.Colorbar at 0x7fd74bb42e20>"
      ]
     },
     "metadata": {},
     "execution_count": 219
    },
    {
     "output_type": "display_data",
     "data": {
      "text/plain": [
       "<Figure size 432x288 with 2 Axes>"
      ],
      "image/png": "[encoded data removed]"
     },
     "metadata": {
      "needs_background": "light"
     }
    }
   ],
   "metadata": {}
  },
  {
   "cell_type": "code",
   "execution_count": 205,
   "source": [
    "plt.scatter(range(36*20),copyhead,c=tmp,cmap='viridis')\n",
    "plt.colorbar()\n",
    "plt.show()"
   ],
   "outputs": [
    {
     "output_type": "execute_result",
     "data": {
      "text/plain": [
       "<matplotlib.collections.PathCollection at 0x7fd7678a26a0>"
      ]
     },
     "metadata": {},
     "execution_count": 205
    },
    {
     "output_type": "execute_result",
     "data": {
      "text/plain": [
       "<matplotlib.colorbar.Colorbar at 0x7fd767afd790>"
      ]
     },
     "metadata": {},
     "execution_count": 205
    },
    {
     "output_type": "display_data",
     "data": {
      "text/plain": [
       "<Figure size 432x288 with 2 Axes>"
      ],
      "image/png": "[encoded data removed]"
     },
     "metadata": {
      "needs_background": "light"
     }
    }
   ],
   "metadata": {}
  },
  {
   "cell_type": "code",
   "execution_count": null,
   "source": [],
   "outputs": [],
   "metadata": {}
  }
 ],
 "metadata": {
  "orig_nbformat": 4,
  "kernelspec": {
   "name": "python3",
   "display_name": "Python 3",
   "language": "python"
  },
  "language_info": {
   "name": "python",
   "version": "3.8.12",
   "mimetype": "text/x-python",
   "codemirror_mode": {
    "name": "ipython",
    "version": 3
   },
   "pygments_lexer": "ipython3",
   "nbconvert_exporter": "python",
   "file_extension": ".py"
  }
 },
 "nbformat": 4,
 "nbformat_minor": 2
}