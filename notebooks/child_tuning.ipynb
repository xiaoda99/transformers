{
 "cells": [
  {
   "cell_type": "code",
   "execution_count": 1,
   "id": "7292808a",
   "metadata": {},
   "outputs": [],
   "source": [
    "from IPython import get_ipython\n",
    "%load_ext autoreload\n",
    "%autoreload 2\n",
    "\n",
    "# from IPython.core.interactiveshell import InteractiveShell\n",
    "# InteractiveShell.ast_node_interactivity = 'all'  #'last', 'last_expr'"
   ]
  },
  {
   "cell_type": "code",
   "execution_count": 2,
   "id": "0d03e56e",
   "metadata": {},
   "outputs": [
    {
     "name": "stderr",
     "output_type": "stream",
     "text": [
      "/nas/shawn_guo/miniconda3/envs/torch1.7/lib/python3.7/site-packages/tqdm/auto.py:22: TqdmWarning: IProgress not found. Please update jupyter and ipywidgets. See https://ipywidgets.readthedocs.io/en/stable/user_install.html\n",
      "  from .autonotebook import tqdm as notebook_tqdm\n"
     ]
    }
   ],
   "source": [
    "import sys\n",
    "sys.path.insert(0, '/nas/xd/projects/transformers/src')\n",
    "import os\n",
    "os.environ['HF_HOME'] = '/raid3/xd/.cache/torch'  # deliberately set this wrong path to avoid migrating cache\n",
    "os.environ[\"CUDA_DEVICE_ORDER\"]=\"PCI_BUS_ID\"\n",
    "os.environ[\"CUDA_VISIBLE_DEVICES\"]=\"8,7\"\n",
    "\n",
    "from types import MethodType\n",
    "from tqdm import tqdm\n",
    "from collections import defaultdict, OrderedDict, Counter\n",
    "from datetime import datetime\n",
    "from io import StringIO\n",
    "from itertools import chain\n",
    "import math\n",
    "from functools import reduce, partial\n",
    "from collections.abc import Iterable\n",
    "from collections import namedtuple \n",
    "import traceback\n",
    "\n",
    "%matplotlib inline\n",
    "import matplotlib.pyplot as plt\n",
    "import seaborn as sns\n",
    "\n",
    "import torch\n",
    "import torch.nn as nn\n",
    "import torch.nn.functional as F \n",
    "from torch.utils.data.sampler import RandomSampler, Sampler, SequentialSampler\n",
    "from torch.utils.data.dataloader import DataLoader"
   ]
  },
  {
   "cell_type": "code",
   "execution_count": 3,
   "id": "54a886cb",
   "metadata": {},
   "outputs": [
    {
     "name": "stdout",
     "output_type": "stream",
     "text": [
      "In file_utils.py: default_cache_path = /raid3/xd/.cache/torch/hub\n"
     ]
    }
   ],
   "source": [
    "# from transformers.data.data_collator import DataCollator, default_data_collator\n",
    "from transformers import AutoConfig, AutoModelForCausalLM, AutoTokenizer, GPT2Tokenizer#, pipeline\n",
    "# from transformers import RobertaForMaskedLM, RobertaTokenizer, GPT2LMHeadModel, GPT2Tokenizer, GPTNeoForCausalLM\n",
    "# from transformers import T5Tokenizer, T5TokenizerFast, T5ForConditionalGeneration\n",
    "# from transformers import HfArgumentParser, Trainer, TrainingArguments, set_seed, AdamW"
   ]
  },
  {
   "cell_type": "code",
   "execution_count": 4,
   "id": "49c8f3d0",
   "metadata": {},
   "outputs": [],
   "source": [
    "sys.path.insert(0, '/nas/xd/projects/PyFunctional')\n",
    "from functional import seq\n",
    "from functional.pipeline import Sequence    \n",
    "from fn import _ as __"
   ]
  },
  {
   "cell_type": "code",
   "execution_count": 5,
   "id": "58cba5e2",
   "metadata": {},
   "outputs": [],
   "source": [
    "from utils import *\n",
    "from child_utils import *\n",
    "from common_utils import *\n",
    "from child_frames import *\n",
    "from model_utils import *"
   ]
  },
  {
   "cell_type": "code",
   "execution_count": 6,
   "id": "90f62ac5",
   "metadata": {},
   "outputs": [],
   "source": [
    "models = {}\n",
    "cache_dir = '/nas/xd/.cache/torch/transformers/'  # for models besides t5-3b/11b\n",
    "# cache_dir = '/mnt/nvme1/xd/.cache/torch/transformers/'  # for gpt-j-6B on elderberry\n",
    "proxies = {'http': '192.168.50.1:1081'} "
   ]
  },
  {
   "cell_type": "code",
   "execution_count": 7,
   "id": "a4ab655d",
   "metadata": {},
   "outputs": [
    {
     "name": "stdout",
     "output_type": "stream",
     "text": [
      "EleutherAI/gpt-j-6B ... done 0:00:33.423937\n",
      "EleutherAI/gpt-neox-20b ... In huggingface_hub.file_download.cached_download: url = https://huggingface.co/EleutherAI/gpt-neox-20b/resolve/main/config.json\n",
      "done 0:01:41.764136\n"
     ]
    }
   ],
   "source": [
    "# curl -x http://192.168.50.1:1081 -L -O [-C -] https://huggingface.co/google/ul2/resolve/main/pytorch_model.bin  # -C for 断点续传\n",
    "s2s_model_names = ['google/t5-xl-lm-adapt', 'google/t5-xxl-lm-adapt', 'bigscience/T0p', 'bigscience/T0_3B', \n",
    "    'allenai/tk-instruct-3b-pos', 'allenai/tk-instruct-3b-def-pos', 'google/ul2']\n",
    "gpt_model_names = ['EleutherAI/gpt-j-6B', 'EleutherAI/gpt-neox-20b', ]#'EleutherAI/gpt-j-6B/cpu', 'EleutherAI/gpt-neox-20b/cpu',]\n",
    "#                    'KoboldAI/fairseq-dense-6.7B', 'KoboldAI/fairseq-dense-13B']\n",
    "for model_name in s2s_model_names[:0] + gpt_model_names[:]:#, 'gpt2-xl', 'EleutherAI/gpt-neo-1.3B', 'KoboldAI/fairseq-dense-6.7B']:\n",
    "    if model_name in models: continue\n",
    "    with Timer(model_name):\n",
    "        model_cls = AutoModelForCausalLM if any(s in model_name for s in ['gpt', 'fairseq-dense']) else T5ForConditionalGeneration\n",
    "        # _cache_dir = cache_dir.replace('/nas/', '/nas2/') if 'gpt' not in model_name else cache_dir\n",
    "        kwargs = dict(cache_dir=cache_dir, proxies=proxies, low_cpu_mem_usage=True)\n",
    "        if 'cpu' in model_name:\n",
    "            device = 'cpu'\n",
    "            model = model_cls.from_pretrained(model_name.replace('/cpu', ''), cache_dir=cache_dir, proxies=proxies)\n",
    "        elif 'gpt-j' in model_name:\n",
    "            device = 1\n",
    "            model = model_cls.from_pretrained(model_name, revision=\"float16\", torch_dtype=torch.float16, **kwargs).to(device)\n",
    "        elif 'gpt-neox' in model_name:\n",
    "            device = 0; device_map = {'gpt_neox': device, 'embed_out': device}\n",
    "            model = model_cls.from_pretrained(model_name, device_map=device_map, load_in_8bit=True, **kwargs)\n",
    "        if hasattr(model.config, 'use_cache'): model.config.use_cache = False  # save GPU mem\n",
    "        # if model_name in ['EleutherAI/gpt-neox-20b']: model = model.half()\n",
    "        tokenizer = AutoTokenizer.from_pretrained(model_name.replace('/cpu', ''), cache_dir=cache_dir)\n",
    "        models[model_name] = model, tokenizer#, device"
   ]
  },
  {
   "cell_type": "code",
   "execution_count": 8,
   "id": "c64283f4",
   "metadata": {},
   "outputs": [
    {
     "name": "stdout",
     "output_type": "stream",
     "text": [
      "Once upon a time in a magical forest beyond the rainbow's end, one very curly-haired little boy found himself\n",
      "\n"
     ]
    }
   ],
   "source": [
    "import openai\n",
    "openai.api_key = open('/nas/xd/projects/openai_api_keys.txt').readlines()[1].split()[0]\n",
    "response = openai.Completion.create(engine='text-davinci-002', prompt='Once upon a time',\n",
    "    max_tokens=20, echo=True, logprobs=5)\n",
    "print(response.choices[0].text)"
   ]
  },
  {
   "cell_type": "code",
   "execution_count": 21,
   "id": "e42d23e7",
   "metadata": {},
   "outputs": [],
   "source": [
    "def get_openai_model(engine):\n",
    "    def forward(input_ids):#, attention_mask=None):\n",
    "        text = tokenizer.decode(input_ids[0])\n",
    "        response = openai.Completion.create(engine=engine, prompt=text, max_tokens=0, echo=True, logprobs=5)\n",
    "        return Outputs(logits=response.choices[0].logprobs)\n",
    "    return forward\n",
    "    \n",
    "tokenizer0 = GPT2Tokenizer.from_pretrained('gpt2', cache_dir=cache_dir)\n",
    "engines = ['text-babbage-001', 'text-curie-001', 'text-davinci-002']\n",
    "for engine in engines: models[engine] = get_openai_model(engine), tokenizer0"
   ]
  },
  {
   "cell_type": "code",
   "execution_count": 8,
   "id": "ae3bb45f",
   "metadata": {},
   "outputs": [],
   "source": [
    "def verbalize(obj):\n",
    "    if type(obj) == bool: return 'Yes' if obj else 'No'\n",
    "    return str(obj)\n",
    "    \n",
    "def make_query_str(instruction, query):\n",
    "    if instruction is None and query is None: return ''\n",
    "    s = '.'\n",
    "    if instruction is not None: s = s + ' ' + instruction\n",
    "    if query is not None:\n",
    "        if type(query) in [int, bool, str]: query = [query]\n",
    "        if type(query) == dict:\n",
    "    #         return '. ' + '{' + ','.join([' %s: %s' % (str(k), str(v)) for k, v in query.items()]) + ' }'\n",
    "            s = s + ' ' + '{' + ','.join([' replace %s with %s' % (str(k), str(v)) for k, v in query.items()]) + ' }'\n",
    "        elif type(query) in [list,]:\n",
    "            s = s + ' ' + ' '.join([str(i) for i in query])\n",
    "    return s\n",
    "\n",
    "def make_example_str(example, with_instruction=False):\n",
    "    instruction, l, query, ans = example\n",
    "    if type(ans) not in [Sequence, list]: ans = [ans]\n",
    "    ans = [verbalize(a) for a in ans]\n",
    "    return '%s -> %s' % (' '.join(l) + make_query_str(instruction if with_instruction else None, query), ' '.join(ans))\n",
    "\n",
    "def sample_rand_len(vocab, k): return sample(vocab, k=randint(1, k))"
   ]
  },
  {
   "cell_type": "code",
   "execution_count": null,
   "id": "28fd5077",
   "metadata": {},
   "outputs": [],
   "source": [
    "def p2r(p): p = seq(p); return p.zip(p.inits().zip(p.tails()))#.slice(1, p.len() - 1)\n",
    "def neighbour(direction, k=1): return lambda x: x[direction][k]\n",
    "def prev(k=1): return neighbour(0, k)\n",
    "def next(k=1): return neighbour(1, k)\n",
    "prevs, nexts = __[0][1:], __[1][1:]\n",
    "beside = lambda x: (x[0][1], x[1][1])"
   ]
  },
  {
   "cell_type": "code",
   "execution_count": null,
   "id": "7a87572c",
   "metadata": {},
   "outputs": [],
   "source": [
    "def ith_element(cxt, query): return seq(cxt).slice(1, 2)[0]\n",
    "def besides(cxt, query): return seq(cxt).difference(query)[0]\n",
    "# def besides_query(cxt, vocab): return cxt.a(sample, 2), cxt.list()\n",
    "def get_poset(e): return tuple([p for p in posets if e in p][0])\n",
    "def special(cxt, query): return seq(cxt).group_by(get_poset).map(__[1]).find(lambda x: len(x) == 1)[0]\n",
    "# def special_cxt(vocab, k=3): sample(vocab[0], k - 1) + sample(vocab[1], 1)\n",
    "\n",
    "def after_query(r, p):\n",
    "    # e = r.dom().init().a(choice)\n",
    "    e = choice(r.dom().init().tail().list())\n",
    "    options = r.image(e).map(beside)[0].a(sample, 2)\n",
    "    return e, options\n",
    "\n",
    "def before_query(r, p):\n",
    "    # e = r.dom().tail().a(choice)\n",
    "    e = choice(r.dom().init().tail().list())\n",
    "    options = r.image(e).map(beside)[0].a(sample, 2)\n",
    "    return e, options\n",
    "\n",
    "def after(r, q): return r.image(q).map(next())[0]\n",
    "def before(r, q): return r.image(q).map(prev())[0]\n",
    "def between(r, q): \n",
    "    return r.image(q[0]).map(nexts)[0].intersection(r.image(q[1]).map(prevs)[0]).union(\n",
    "        r.image(q[0]).map(prevs)[0].intersection(r.image(q[1]).map(nexts)[0]))\n",
    "    \n",
    "def monotone_map_cxt(vocab):\n",
    "    P, p = vocab\n",
    "    R = p2r(P)\n",
    "    E1 = R.dom().init().tail().a(choice)\n",
    "    E2 = R.image(E1).map(beside)[0].a(choice)\n",
    "    return R, E1, E2\n",
    "\n",
    "def monotone_map_query(cxt, vocab):\n",
    "    P, p = vocab\n",
    "    r = p2r(p)\n",
    "    e1 = r.dom().init().tail().a(choice)\n",
    "    options = r.image(e1).map(beside)[0]\n",
    "    return (r, e1), options\n",
    "\n",
    "def monotone_map(cxt, query, reverse=False):\n",
    "    R, E1, E2 = cxt\n",
    "    r, e1 = query\n",
    "    return r.image(e1).map(\n",
    "        seq([prev(), next()]).find(lambda f: (E2 in R.image(E1).map(f)[0]) != reverse)  # reverse = not in. too tricky\n",
    "    )[0]\n",
    "    \n",
    "tasks = [\n",
    "    (ith_element, None, partial(sample, k=3), None),\n",
    "    (besides, None, partial(sample, k=3), lambda cxt, vocab: (sample(cxt, 2), cxt)),\n",
    "    (special, lambda: sample(posets[1:3], 2), lambda vocab: sample(sample(vocab[0], 2) + sample(vocab[1], 1), 2 + 1), None),\n",
    "    \n",
    "    (after, lambda: choice(closed_posets[:]), p2r, after_query, lambda r: ''),\n",
    "    (before, lambda: choice(closed_posets[:]), p2r, before_query, lambda r: ''),\n",
    "    (between, lambda: choice(posets), p2r, lambda r, p: r.image(r.dom().init().tail().a(choice)).map(beside)[0].a(sample, 2), lambda r: ''),\n",
    "    (partial(monotone_map, reverse=False), lambda: sample(posets, 2), monotone_map_cxt, monotone_map_query),\n",
    "    (partial(monotone_map, reverse=True), lambda: sample(closed_posets, 2), monotone_map_cxt, monotone_map_query),\n",
    "    (lookup, )\n",
    "]"
   ]
  },
  {
   "cell_type": "code",
   "execution_count": null,
   "id": "d819ede5",
   "metadata": {},
   "outputs": [],
   "source": [
    "# I = Identity; M = Mophism; A = Aggregation; C = CMP; G = GroupBy; l = local\n",
    "patterns = ['M', 'A?', 'IA', 'MA',\n",
    "    'IlI', 'MlI', 'IlM', 'MlM', 'IlMlI',\n",
    "    'IlA', 'MlA', 'IlC', 'MlC', 'AlI', 'GIlI']"
   ]
  },
  {
   "cell_type": "code",
   "execution_count": 10,
   "id": "1cbf4a6c",
   "metadata": {},
   "outputs": [],
   "source": [
    "def _str(l, vocab=None, sep=' '):\n",
    "    if l is None: return ''\n",
    "    if isinstance(l, str) or not isinstance(l, Iterable): l = [l]\n",
    "    l = [e for e in l if not my_isinstance(e, Sequence)] #type(e).__name__ != 'Sequence']\n",
    "    if isinstance(l, (dict, OrderedDict)): l = [f'{k}: {v}' for k, v in l.items()]\n",
    "    return sep.join(str(i) for i in l)\n",
    "\n",
    "def options2str(options): return '[' + ' | '.join(options) + ']'\n",
    "# def options2str(options): return ' or '.join(options) + '?'"
   ]
  },
  {
   "cell_type": "code",
   "execution_count": 98,
   "id": "df63ee7d",
   "metadata": {},
   "outputs": [],
   "source": [
    "def promptize(s): return bop_str + s + eop_str\n",
    "    \n",
    "def make_examples(task, nrows=4, vocab_for_each_row=True, options_position=None):\n",
    "    # if full_vocab is None: full_vocab = string.ascii_uppercase + string.ascii_lowercase #+ string.digits\n",
    "    # transform_fn, vocab_fn, sample_fn, query_fn = task[:4]\n",
    "    # if query_fn is None: query_fn = lambda *_: (None, None)\n",
    "    # if vocab_fn is None: vocab_fn = lambda: full_vocab\n",
    "    vocab_fn, example_gen_fn = task[:2]\n",
    "\n",
    "    vocabs, examples = [], []\n",
    "    qa_set = set() # for dedup\n",
    "    if not vocab_for_each_row: vocab = vocab_fn()\n",
    "    for i in range(nrows * 2):\n",
    "        if vocab_for_each_row: vocab = vocab_fn()\n",
    "        # cxt = sample_fn(vocab)\n",
    "        # query, options = query_fn(cxt, vocab)\n",
    "        # ans = transform_fn(cxt, query)\n",
    "        cxt, query, candidates, ans = example_gen_fn(vocab)\n",
    "        if isinstance(query, list): query = tuple(query)\n",
    "        if (query, ans) not in qa_set:\n",
    "            qa_set.add((query, ans))\n",
    "            vocabs.append(vocab)\n",
    "            examples.append([cxt, query, candidates, ans])\n",
    "        if len(examples) == nrows: break\n",
    "    return vocabs, examples\n",
    "\n",
    "def make_input_str(task, vocabs, examples, options_position=None, bos_token='->', eos_token='Ċ'):\n",
    "    task += (_str,) * (2 + 3 - len(task))\n",
    "    cxt2str, query2str, ans2str = task[2:]\n",
    "    def example2str(vocab, example, with_instruction=False):\n",
    "        cxt, query, options, ans = example\n",
    "        strs = [cxt2str(cxt, vocab), query2str(query, vocab)]\n",
    "        if options_position is not None: strs.insert(options_position, options2str(options))\n",
    "        return '. '.join(s for s in strs if s != '') + bos_token.replace('Ġ', ' ') + ' ' + ans2str(ans)\n",
    "\n",
    "    text = '\\n'.join(example2str(v, e) for v, e in zip(vocabs, examples)) + '\\n'\n",
    "    return text"
   ]
  },
  {
   "cell_type": "code",
   "execution_count": 106,
   "id": "410a844d",
   "metadata": {},
   "outputs": [],
   "source": [
    "def MlM_gen(rels, cxt_len=None):\n",
    "    hop = 0\n",
    "    query = choice(list(rels[hop][0].dom()))\n",
    "    candidates0 = [choice(r.f(query)) for r in rels[hop][:1]]\n",
    "    # candidates0 = [choice(r.f(query)) for i, r in enumerate(rels[hop]) if i == 0 or random() > 0.5] # w/ distractors\n",
    "    candidates0 += sample(list(rels[hop][0].codom() - set(join_lists([r.f(query) for r in rels[hop]]))), \n",
    "        cxt_len - len(candidates0))\n",
    "\n",
    "    hop = 1\n",
    "    candidates1 = sample(list(rels[hop][0].dom()), cxt_len)\n",
    "    cxt = sample(list(zip(candidates0, candidates1)), cxt_len)\n",
    "\n",
    "    def transform_fn(cxt, query):\n",
    "        hop = 0; ans = seq(cxt).find(lambda x: rels[hop][0].b(query, x[0]))[1]\n",
    "        hop = 1; ans = choice(rels[hop][0].f(ans))\n",
    "        return ans\n",
    "    ans = transform_fn(cxt, query)\n",
    "    return cxt, query, [x[1] for x in cxt], ans\n",
    "\n",
    "def IlMlI_gen(rels, cxt_len=None):\n",
    "    hop = 0\n",
    "    query = choice(list(rels[hop][0].dom()))\n",
    "    candidates0 = [choice(r.f(query)) for r in rels[hop][:1]]\n",
    "    candidates0 += sample(list(rels[hop][0].codom() - set(join_lists([r.f(query) for r in rels[hop]]))), \n",
    "        cxt_len - len(candidates0))\n",
    "    candidates0 = candidates0[:1] + sample(candidates0[1:], cxt_len - 1)\n",
    "\n",
    "    hop = 1\n",
    "    query1 = choice(list(rels[hop][0].dom()))\n",
    "    candidates1 = [query1] + [choice(r.f(query1)) for r in rels[hop][:1]]\n",
    "    candidates1 += sample(list(rels[hop][0].codom() - {query1} - set(join_lists([r.f(query1) for r in rels[hop]]))), \n",
    "        cxt_len - len(candidates1))\n",
    "    # assert len(candidates1) == len(set(candidates1)), str(candidates1)\n",
    "    cxt = sample(list(zip(candidates0, candidates1)), cxt_len)\n",
    "    \n",
    "    def transform_fn(cxt, query):\n",
    "        hop = 0; ans = seq(cxt).find(lambda x: rels[hop][0].b(query, x[0]))[1]\n",
    "        hop = 1; ans = seq(cxt).find(lambda x: x[0] != query and rels[hop][0].b(ans, x[1]))[0]\n",
    "        hop = 2; ans = choice(rels[hop][0].f(ans))\n",
    "        return ans\n",
    "    ans = transform_fn(cxt, query)\n",
    "    return cxt, query, [x[0] for x in cxt], ans\n",
    "\n",
    "# def g2bc(g_fn, rels, cxt_len=None, labels=['T', 'F']):\n",
    "#     cxt, query, candidates, ans = g_fn(rels, cxt_len=cxt_len)\n",
    "#     return (cxt, choice(list(set(candidates) - {query})), labels, labels[1]) \\\n",
    "#         if random() > 0.5 else (cxt, query, labels, labels[0])\n",
    "\n",
    "def g2bc(g_fn, labels=['T', 'F']):\n",
    "    def wrapped(*args,**kwargs):\n",
    "        cxt, query, candidates, ans = g_fn(*args,**kwargs)\n",
    "        return (cxt, (query, choice(list(set(candidates) - {query, ans}))), labels, labels[1]) \\\n",
    "            if random() > 0.5 else (cxt, (query, ans), labels, labels[0])\n",
    "    return wrapped\n",
    "\n",
    "def _item2str(item, vocab=None): return f'{item[0]}: {item[1]}'\n",
    "def lookup_item2str(item, vocab=None):\n",
    "    if vocab[0] in [clock_of_day, days_of_week, months]:\n",
    "        if vocab[0] == clock_of_day: prep = 'at'\n",
    "        elif vocab[0] == days_of_week: prep = 'on'\n",
    "        elif vocab[0] == months: prep = 'in'\n",
    "        return f'{item[1]} came {prep} {item[0]}'\n",
    "    elif vocab[0] == digits:\n",
    "        return f'{item[1]} is {item[0]}'\n",
    "def _cxt2str(cxt, vocab=None, item2str=_item2str): return 'There are ' + ', '.join([item2str(item, vocab=vocab) for item in cxt])\n",
    "def _query2str(query, vocab=None): return f'{query} same as'\n",
    "def lookup_query2str(query, vocab=None, rel_name=None):\n",
    "    return f'just after {query}'\n",
    "    if vocab[0] in [clock_of_day, days_of_week, months]:\n",
    "        if vocab[0] == clock_of_day: prep = 'at'\n",
    "        elif vocab[0] == days_of_week: prep = 'on'\n",
    "        elif vocab[0] == months: prep = 'in'\n",
    "        prep = {'prev': 'just before', 'next': 'just after', 'same': prep}[rel_name]\n",
    "        return f'Who came {prep} {query}?'\n",
    "    elif vocab[0] == digits:\n",
    "        prep = {'prev': 'a year younger than', 'next': 'a year younger than', 'same': ''}[rel_name]\n",
    "        return f'Who is {prep} {query}'\n",
    "tasks = [\n",
    "    # (lambda: (Poset(choice([days_of_week, months, digits, years, uppercase[:7]])), EqSet(persons)),\n",
    "    (lambda: [[EqSet(persons).equal], [SymSet(person_adjs).equal]],\n",
    "        partial(MlM_gen, cxt_len=3),\n",
    "        partial(_cxt2str, item2str=lambda item, vocab: f'{item[1]} {item[0]}'),\n",
    "#         lambda query, vocab: f'So {query} is',\n",
    "        lambda query, vocab: f'So how is {query}',\n",
    "    ), \n",
    "    (lambda: [[EqSet(persons).equal], [PoSet(digits).equal], [EqSet(persons).equal]],\n",
    "        partial(g2bc(IlMlI_gen), cxt_len=3),\n",
    "        partial(_cxt2str, item2str=lambda item, vocab: f'{item[0]} {item[1]}'),\n",
    "        lambda query, vocab: f'{query[0]} and {query[1]} are same?'\n",
    "    ),\n",
    "]"
   ]
  },
  {
   "cell_type": "code",
   "execution_count": 105,
   "id": "4b924c30",
   "metadata": {},
   "outputs": [],
   "source": [
    "bos_token = '?'; eos_token = None #'Ċ'"
   ]
  },
  {
   "cell_type": "code",
   "execution_count": null,
   "id": "403baf5a",
   "metadata": {},
   "outputs": [],
   "source": [
    "task = tasks[0]; nrows=96; k_shot=5\n",
    "vocabs, _examples = make_examples(task, nrows=nrows)\n",
    "\n",
    "answer_indices = [cands.index(ans) for _, _, cands, ans in _examples]\n",
    "Counter(answer_indices).most_common()\n",
    "label_probs = F.one_hot(torch.LongTensor(answer_indices))\n",
    "_ = plt.figure(figsize=(10, 0.7));\n",
    "_ = sns.heatmap(label_probs.T, cbar=False); plt.show()\n",
    "\n",
    "text = make_input_str(task, vocabs, _examples, bos_token=bos_token)\n",
    "print(len(tokenizer.tokenize(text))); print(text[:300])"
   ]
  },
  {
   "cell_type": "code",
   "execution_count": 107,
   "id": "9e68100c",
   "metadata": {},
   "outputs": [
    {
     "name": "stderr",
     "output_type": "stream",
     "text": [
      "\r",
      "  0%|          | 0/16 [00:00<?, ?it/s]"
     ]
    },
    {
     "name": "stdout",
     "output_type": "stream",
     "text": [
      "There are irresponsible Myra, diligent Isabella, unhealthy Anders. So how is Isabella? diligent\n",
      "There are indecisive Bruno, harmless Cason, light Presley. So how is Presley? light\n",
      "There are lazy Casey, aggressive Baylor, rational Lydia. So how is Casey? lazy\n",
      "There are careless Brittany, inactive Dor\n"
     ]
    },
    {
     "name": "stderr",
     "output_type": "stream",
     "text": [
      "100%|██████████| 16/16 [01:21<00:00,  5.11s/it]\n"
     ]
    }
   ],
   "source": [
    "torch.cuda.empty_cache()\n",
    "model_names = ['EleutherAI/gpt-j-6B', 'EleutherAI/gpt-neox-20b', 'text-curie-001', 'text-davinci-002'][:-1]\n",
    "seed(1234)\n",
    "batch_size = 16\n",
    "metrics = dict(losses=defaultdict(list), accuracies=defaultdict(list))\n",
    "for i in tqdm(range(batch_size)):\n",
    "    task = tasks[0]; nrows=64; k_shot=5\n",
    "    vocabs, _examples = make_examples(task, nrows=nrows)\n",
    "    answer_indices = [cands.index(ans) for _, _, cands, ans in _examples]\n",
    "    if batch_size == 1:\n",
    "        print(Counter(answer_indices).most_common())\n",
    "        label_probs = F.one_hot(torch.LongTensor(answer_indices))\n",
    "        _ = plt.figure(figsize=(10, 0.7));\n",
    "        _ = sns.heatmap(label_probs.T, cbar=False); plt.show()\n",
    "    text = make_input_str(task, vocabs, _examples, bos_token=bos_token)\n",
    "    if i == 0: print(text[:300])\n",
    "\n",
    "    for model_name in model_names: #gpt_model_names + engines[:]:\n",
    "        model, tokenizer = models[model_name]\n",
    "        examples, input_ids, tokens, bos_indices, eos_indices, answers, labels = make_data_tuple(\n",
    "            text, tokenizer, k_shot=k_shot, bos_token=bos_token, eos_token=eos_token)\n",
    "        candidates = [[tokenizer.encode(' ' + token)[0] for token in e[2]] for e in _examples]\n",
    "        if True: #with Timer():\n",
    "            with torch.no_grad():\n",
    "                logits = model(input_ids.to(getattr(model, 'device', 'cpu'))).logits\n",
    "                if isinstance(logits, torch.Tensor): logits = logits.to('cpu').float()  # softmax on cpu needs float32\n",
    "\n",
    "        loss, top1_corrects, answer_probs, candidate_probs = show_predictions(\n",
    "            examples, tokenizer, logits, bos_indices, eos_indices, answers, labels, loss_reduction='none',\n",
    "            candidates=candidates, k_shot=k_shot, topk=3, verbose=len(model_names) == 1 and batch_size == 1)\n",
    "\n",
    "        if batch_size == 1:\n",
    "            f, (ax0, ax1) = plt.subplots(2, 1, figsize=(10, 2.4), sharex=True)\n",
    "            x = [i + 0.5 for i in range(nrows)] # to align with sns.heatmap\n",
    "            _ = ax0.bar(x, top1_corrects, width=0.9, alpha=0.5);\n",
    "            _ = ax0.plot(x, answer_probs, color='r');\n",
    "            label_probs = F.one_hot(torch.LongTensor(answer_indices))\n",
    "            _ = sns.heatmap(torch.cat([label_probs, torch.Tensor(candidate_probs)], dim=1).T, cbar=False, ax=ax1);\n",
    "            plt.show()\n",
    "        acc = top1_corrects[k_shot:] # np.array(top1_corrects[k_shot:]).mean()\n",
    "        metrics['losses'][model_name].append(loss); metrics['accuracies'][model_name].append(acc)\n",
    "        if batch_size == 1: print(model_name, len(tokens), loss, acc)"
   ]
  },
  {
   "cell_type": "code",
   "execution_count": 104,
   "id": "0957d452",
   "metadata": {},
   "outputs": [],
   "source": [
    "metrics0 = metrics"
   ]
  },
  {
   "cell_type": "code",
   "execution_count": 92,
   "id": "b9a6f41b",
   "metadata": {},
   "outputs": [
    {
     "name": "stdout",
     "output_type": "stream",
     "text": [
      "accuracies EleutherAI/gpt-j-6B 0.5021186440677966 0.5402542372881356\n",
      "accuracies EleutherAI/gpt-neox-20b 0.5646186440677966 0.6408898305084746\n",
      "accuracies text-curie-001 0.3697033898305085 0.4332627118644068\n",
      "losses EleutherAI/gpt-j-6B 2.046502287771037 1.865953627761559\n",
      "losses EleutherAI/gpt-neox-20b 1.4587687213169052 1.1324089434672684\n",
      "losses text-curie-001 6.0605180645426895 4.327251620339627\n"
     ]
    }
   ],
   "source": [
    "for metric in ['accuracies', 'losses']:\n",
    "    for model_name in model_names[:]:\n",
    "        print(metric, model_name, np.array(metrics0[metric][model_name]).mean(), np.array(metrics[metric][model_name]).mean())"
   ]
  },
  {
   "cell_type": "code",
   "execution_count": 113,
   "id": "c91e8c02",
   "metadata": {},
   "outputs": [
    {
     "name": "stdout",
     "output_type": "stream",
     "text": [
      "accuracies EleutherAI/gpt-j-6B 0.5879237288135594 0.5879237288135594\n",
      "accuracies EleutherAI/gpt-neox-20b 0.7192796610169492 0.7192796610169492\n",
      "accuracies text-curie-001 0.4989406779661017 0.4989406779661017\n",
      "losses EleutherAI/gpt-j-6B 1.8588400742968418 1.8588400742968418\n",
      "losses EleutherAI/gpt-neox-20b 0.951633255659344 0.951633255659344\n",
      "losses text-curie-001 4.075456932536057 4.075456932536057\n"
     ]
    }
   ],
   "source": [
    "for metric in ['accuracies', 'losses']:\n",
    "    for model_name in model_names[:]:\n",
    "        print(metric, model_name, np.array(metrics[metric][model_name]).mean(), np.array(metrics[metric][model_name]).mean())"
   ]
  },
  {
   "cell_type": "code",
   "execution_count": 109,
   "id": "2da27384",
   "metadata": {},
   "outputs": [
    {
     "name": "stdout",
     "output_type": "stream",
     "text": [
      "accuracies EleutherAI/gpt-j-6B 0.5625\n",
      "accuracies EleutherAI/gpt-neox-20b 0.6898148148148148\n",
      "accuracies text-curie-001 0.5185185185185185\n",
      "losses EleutherAI/gpt-j-6B 1.8970836930073145\n",
      "losses EleutherAI/gpt-neox-20b 0.9942647184402126\n",
      "losses text-curie-001 3.6806554747039075\n"
     ]
    }
   ],
   "source": [
    "for metric in ['accuracies', 'losses']:\n",
    "    for model_name in model_names[:]:\n",
    "        print(metric, model_name, np.array(metrics[metric][model_name])[:,:27].mean())"
   ]
  },
  {
   "cell_type": "code",
   "execution_count": 110,
   "id": "6d0dcecc",
   "metadata": {},
   "outputs": [
    {
     "name": "stdout",
     "output_type": "stream",
     "text": [
      "accuracies EleutherAI/gpt-j-6B 0.609375\n",
      "accuracies EleutherAI/gpt-neox-20b 0.744140625\n",
      "accuracies text-curie-001 0.482421875\n",
      "losses EleutherAI/gpt-j-6B 1.8265720210098806\n",
      "losses EleutherAI/gpt-neox-20b 0.9156629589379861\n",
      "losses text-curie-001 4.408570662581933\n"
     ]
    }
   ],
   "source": [
    "for metric in ['accuracies', 'losses']:\n",
    "    for model_name in model_names[:]:\n",
    "        print(metric, model_name, np.array(metrics[metric][model_name])[:,27:].mean())"
   ]
  },
  {
   "cell_type": "code",
   "execution_count": 111,
   "id": "0cba876d",
   "metadata": {},
   "outputs": [
    {
     "data": {
      "image/png": "[encoded data removed]",
      "text/plain": [
       "<Figure size 1000x300 with 1 Axes>"
      ]
     },
     "metadata": {},
     "output_type": "display_data"
    },
    {
     "data": {
      "image/png": "[encoded data removed]",
      "text/plain": [
       "<Figure size 1000x300 with 1 Axes>"
      ]
     },
     "metadata": {},
     "output_type": "display_data"
    }
   ],
   "source": [
    "for metric in ['accuracies', 'losses']:\n",
    "    _ = plt.figure(figsize=(10, 3));\n",
    "    for model_name in model_names[:2]:\n",
    "        plt.plot(np.array(metrics[metric][model_name])[:].mean(0), label=f'{model_name}');\n",
    "    _ = plt.legend();  _ = plt.title(metric); _ = plt.show();"
   ]
  },
  {
   "cell_type": "code",
   "execution_count": 155,
   "id": "2e5780be",
   "metadata": {},
   "outputs": [
    {
     "data": {
      "text/plain": [
       "[('▁The', 37),\n",
       " ('▁capital', 1784),\n",
       " ('▁of', 13),\n",
       " ('▁Canada', 1894),\n",
       " ('▁is', 19),\n",
       " ('</s>', 1)]"
      ]
     },
     "execution_count": 155,
     "metadata": {},
     "output_type": "execute_result"
    },
    {
     "data": {
      "text/plain": [
       "'Ottawa. It is the largest city in Canada'"
      ]
     },
     "execution_count": 155,
     "metadata": {},
     "output_type": "execute_result"
    }
   ],
   "source": [
    "text = 'The capital of Canada is'\n",
    "input_ids = tokenizer(text, return_tensors='pt').input_ids\n",
    "list(zip(tokenizer.convert_ids_to_tokens(input_ids[0]), input_ids[0].numpy()))\n",
    "outputs = model.generate(input_ids, max_length=10)\n",
    "tokenizer.decode(outputs[0], skip_special_tokens=True)"
   ]
  },
  {
   "cell_type": "code",
   "execution_count": 478,
   "id": "8c9c689c",
   "metadata": {},
   "outputs": [],
   "source": [
    "# nrows = 5; k_shot = nrows // 2 + 1\n",
    "# for pairs in [drop_first_and_last, ]:\n",
    "nrows = 6;  k_shot = 3\n",
    "for pairs in reversible_transformations + irreversible_transformations:\n",
    "    seps = [' -> ', '->'] if random.random() < 0.5 else ['->', ' -> ']\n",
    "    # seps = [' -> ', ' -> ']\n",
    "    samples = ['\\n' + '\\n'.join(a + seps[0] + b for a, b in sample(pairs, nrows)) + '\\n']\n",
    "    for s in samples: data_tuples.append(list(make_data_tuple(s, tokenizer, k_shot=k_shot, bos_token=tokenizer.tokenize(seps[0])[0])))\n",
    "    samples = ['\\n' + '\\n'.join(b + seps[1] + a for a, b in sample(pairs, nrows)) + '\\n' if pairs in reversible_transformations else \n",
    "                '\\n' + '\\n'.join(a + seps[1] + b for a, b in sample(pairs, nrows)) + '\\n']\n",
    "    for s in samples: data_tuples.append(list(make_data_tuple(s, tokenizer, k_shot=k_shot, bos_token=tokenizer.tokenize(seps[1])[0])))"
   ]
  },
  {
   "cell_type": "code",
   "execution_count": null,
   "id": "da2f807e",
   "metadata": {},
   "outputs": [],
   "source": [
    "# # sys.path.insert(0, '/nas/xd/projects/ec')\n",
    "# from child_utils import loadPBETasks, retrieveJSONTasks\n",
    "# challenge, challengeCheating = loadPBETasks('/nas/xd/projects/ec/PBE_Strings_Track')\n",
    "# challenge2, challengeCheating2 = loadPBETasks('/nas/xd/projects/ec/data/sygus')\n",
    "# tasks = retrieveJSONTasks(\"/nas/xd/projects/ec/data/list_tasks.json\")\n",
    "# tasks2 = retrieveJSONTasks(\"/nas/xd/projects/ec/data/list_tasks2.json\")"
   ]
  },
  {
   "cell_type": "code",
   "execution_count": null,
   "id": "e1ff8618",
   "metadata": {},
   "outputs": [],
   "source": [
    "from lxy_utils import get_examples_behind, get_examples_before, get_examples_query_before, \\\n",
    "    get_examples_query_behid, get_examples_query_repeat"
   ]
  },
  {
   "cell_type": "code",
   "execution_count": null,
   "id": "432fcd8a",
   "metadata": {},
   "outputs": [],
   "source": [
    "reversible_transformations = [list(digit2cardinal.items()), noun2adj, lxy, verb_form, country2capital, en2fr, antonyms]\n",
    "irreversible_transformations = [capabilities]"
   ]
  },
  {
   "cell_type": "code",
   "execution_count": null,
   "id": "d59cbab6",
   "metadata": {},
   "outputs": [],
   "source": []
  },
  {
   "cell_type": "code",
   "execution_count": 197,
   "id": "fbc67151",
   "metadata": {},
   "outputs": [
    {
     "name": "stdout",
     "output_type": "stream",
     "text": [
      "EleutherAI/gpt-j-6B ... done 0:00:01\n",
      "* C 0.842 {' C': 0.842, ' A': 0.041, ' B': 0.04} \t D -> C\n",
      "* Thursday 0.778 {' Thursday': 0.778, ' Wednesday': 0.064, ' Friday': 0.063} \t Friday -> Thursday\n",
      "* a 0.742 {' a': 0.742, ' c': 0.051, ' A': 0.036} \t b -> a\n",
      "* four 0.472 {' four': 0.472, ' three': 0.246, ' one': 0.105} \t five -> four\n",
      "tensor(0.3677, grad_fn=<NllLossBackward>) True \n",
      "\n",
      "0.3677041530609131\n"
     ]
    }
   ],
   "source": [
    "losses = []\n",
    "for model_name, (model, tokenizer) in models.items():\n",
    "    if any(model_name.startswith(s) for s in ['gpt2-', 'KoboldAI/fairseq-dense', 'text-davinci-001', ]): continue\n",
    "    if not model_name == 'EleutherAI/gpt-j-6B': continue\n",
    "    if not isinstance(model, types.FunctionType): _ = model.eval()\n",
    "    with Timer(model_name): outputs = model(**inputs)\n",
    "    options_ids_list = [[tokenizer.encode(' ' + option)[0] for option in options] for cxt, query, options, ans in _examples]\n",
    "    mask_logits_fn = partial(mask_logits, indices=bos_indices, kept_ids=options_ids_list)\n",
    "    loss, all_top1_correct = show_predictions(text, examples, tokenizer, outputs.logits, bos_indices, eos_indices, answers, labels,\n",
    "                    mask_logits_fn=None, topk=3, loss_reduction='mean', show_range=range(k_shot, len(examples)), sep='\\t')\n",
    "    print(loss, all_top1_correct, '\\n')\n",
    "    losses.append(loss.item() if hasattr(loss, 'item') else loss)\n",
    "    if model_name == 'EleutherAI/gpt-j-6B': break\n",
    "print(sum(losses) / len(losses))"
   ]
  },
  {
   "cell_type": "code",
   "execution_count": 24,
   "id": "bc90b0db",
   "metadata": {},
   "outputs": [],
   "source": [
    "relational_functions = [prev(), next()]\n",
    "rel_fns = [prevs, nexts]"
   ]
  },
  {
   "cell_type": "markdown",
   "id": "92834550",
   "metadata": {},
   "source": [
    "**TODO: read children books for more posets**  \n",
    "**TODO: Prompt gpt3 to elicit the posets it knows**  \n",
    "$x \\to f(x)$ where $f \\in \\{\\text{prev/next in posets of numbers/letters/months/days, antonym, hypernym, hyponym, ...}\\}$  \n",
    "$x \\to f^2(x)$  \n",
    "one poset or mixed posets  \n",
    "$x, f(x).~y \\to Ff^{[-1]}(y)$ one poset or mixed posets  \n",
    "$x, f^k(x).~y \\to Ff^{[-1]}(y)~/Ff^{[-]k}(y)$  \n",
    "$x, f(f(x))~/f(f(x)), x \\to f(x)$ in between, the simplest form of sequence completion  \n",
    "$x, f(x) \\to Gf$ where $Gf \\in \\{<, >\\}$  \n",
    "$x, f(x); y, g(y) \\to Ff \\stackrel{?}{=} g^{[-1]}$ where $\\text{output} \\in \\{\\text{True}, \\text{False}\\}$  \n",
    "sort\n",
    "\n",
    "There is a *natural* monotone map/functor $F$ between posets/sets $A$ and $B$.  Compose the computation (set operations, sorting etc.) between $A$ and $B$ with $F$ to make harder tasks.  \n",
    "$P(A) ,P(B) \\to F(P(A)) \\setminus ~/ \\cap ~/ \\triangle P(B)$. Harder form of set difference/intersection.  \n",
    "$P(A) \\to F(\\text{sorted}(P(A)))$. Harder form of sorting.\n"
   ]
  },
  {
   "cell_type": "code",
   "execution_count": null,
   "id": "4504ae9b",
   "metadata": {},
   "outputs": [],
   "source": []
  },
  {
   "cell_type": "code",
   "execution_count": 385,
   "id": "17373019",
   "metadata": {},
   "outputs": [
    {
     "name": "stdout",
     "output_type": "stream",
     "text": [
      "Instruction: replace with the other. For example:\n",
      "G H G G G -> H G H H H\n",
      "I I I I M -> M M M M I\n",
      "A A F A A -> F F A F F\n",
      "9 9 9 I I -> I I I 9 9\n",
      "\n",
      "Instruction: replace with the other. For example:\n",
      "V Q Q V V -> Q V V Q Q\n",
      "G L L G L -> L G G L G\n",
      "G 2 2 2 G -> 2 G G G 2\n",
      "I I Z Z Z -> Z Z I I I\n",
      "\n",
      "Instruction: replace with the other. For example:\n",
      "R H H H R -> H R R R H\n",
      "B 9 9 B B -> 9 B B 9 9\n",
      "D 2 2 2 D -> 2 D D D 2\n",
      "A A A A W -> W W W W A\n",
      "\n"
     ]
    }
   ],
   "source": [
    "n_total, n_valid = 192, 64\n",
    "n_train = n_total - n_valid\n",
    "\n",
    "input_strs = [make_input_str(tasks[4], nrows=4, ncols=5) for __ in range(n_total)]\n",
    "for s in sample(input_strs, 3): print(s)"
   ]
  },
  {
   "cell_type": "code",
   "execution_count": 368,
   "id": "f7d6edbc",
   "metadata": {},
   "outputs": [
    {
     "data": {
      "text/plain": [
       "370"
      ]
     },
     "execution_count": 368,
     "metadata": {},
     "output_type": "execute_result"
    }
   ],
   "source": [
    "sum(s.count('Yes') for s in input_strs)"
   ]
  },
  {
   "cell_type": "code",
   "execution_count": 322,
   "id": "e2f80b74",
   "metadata": {},
   "outputs": [],
   "source": [
    "train_dataset = CHILDDataset(input_strs[:-n_valid], tokenizer)\n",
    "eval_dataset = CHILDDataset(input_strs[-n_valid:], tokenizer)"
   ]
  },
  {
   "cell_type": "code",
   "execution_count": 121,
   "id": "3185653b",
   "metadata": {},
   "outputs": [],
   "source": [
    "if n_total == 1:\n",
    "    inputs = tokenizer.encode_plus(text, return_tensors='pt')\n",
    "    inputs = prepare_inputs(inputs, model.device)\n",
    "    outputs = model(**inputs, output_attentions=False)\n",
    "\n",
    "    # assert inputs.input_ids.size(0) == 1\n",
    "    input_ids = inputs.input_ids\n",
    "    logits = outputs.logits\n",
    "\n",
    "    bsz = input_ids.size(0); assert bsz == 1\n",
    "    labels = torch.ones_like(input_ids) * (-100)\n",
    "    for bi in range(bsz):\n",
    "        bos_indices = (input_ids[bi] == bos_id).nonzero().squeeze(1)\n",
    "        eos_indices = (input_ids[bi] == eos_id).nonzero()[-nrows:].squeeze(1)\n",
    "        for i, (example, bos_i, eos_i) in enumerate(zip(examples, bos_indices.tolist(), eos_indices.tolist())):\n",
    "            print(' ' + make_example_str(example))\n",
    "            ans_ids = input_ids[bi, bos_i + 1: eos_i]\n",
    "            if i >= 2: labels[bi, bos_i: eos_i - 1] = ans_ids\n",
    "            ans_prob_dist = logits[bi, bos_i: eos_i - 1].softmax(-1)\n",
    "            ans_probs = ans_prob_dist[torch.arange(ans_prob_dist.size(0)), ans_ids]\n",
    "            ans_tokens = tokenizer.convert_ids_to_tokens(ans_ids)\n",
    "            for ans_id, ans_token, ans_prob, dist in zip(ans_ids, ans_tokens, numpy(ans_probs, decimals=3), ans_prob_dist):\n",
    "                top1_correct = (dist.argmax() == ans_id).item()\n",
    "                print(('*' if top1_correct else ' ') + ans_token, ans_prob, \n",
    "                      show_topk(*dist.topk(5), indices_fn=tokenizer.convert_ids_to_tokens)) \n",
    "    loss = nn.CrossEntropyLoss()(logits.view(-1, logits.size(-1)), labels.view(-1))\n",
    "    loss"
   ]
  },
  {
   "cell_type": "code",
   "execution_count": 329,
   "id": "6ebf074a",
   "metadata": {},
   "outputs": [],
   "source": [
    "training_args = TrainingArguments(output_dir=\"./models/model_name\", \n",
    "    overwrite_output_dir=True, do_train=True, do_eval=True,\n",
    "    per_device_train_batch_size=16, per_device_eval_batch_size=16,\n",
    "    weight_decay=0.01, adam_beta2=0.98, adam_epsilon=1e-6,\n",
    "    lr_scheduler_type='constant', learning_rate=5e-3, num_train_epochs=4,\n",
    "    logging_strategy ='epoch', evaluation_strategy ='epoch', save_steps=0,\n",
    "    no_cuda=True, report_to='none',  # to avoid report to wandb\n",
    ")"
   ]
  },
  {
   "cell_type": "code",
   "execution_count": 330,
   "id": "d89c7d7b",
   "metadata": {},
   "outputs": [],
   "source": [
    "trainer = Trainer(model, training_args, train_dataset=train_dataset, eval_dataset=eval_dataset,\n",
    "                  optimizers=(create_optimizer(model, training_args), None))"
   ]
  },
  {
   "cell_type": "code",
   "execution_count": 333,
   "id": "b37a9874",
   "metadata": {},
   "outputs": [
    {
     "data": {
      "text/plain": [
       "True"
      ]
     },
     "execution_count": 333,
     "metadata": {},
     "output_type": "execute_result"
    }
   ],
   "source": [
    "trainer.place_model_on_device"
   ]
  },
  {
   "cell_type": "code",
   "execution_count": null,
   "id": "9b4b3eca",
   "metadata": {},
   "outputs": [],
   "source": [
    "def get_prev(elem):\n",
    "    i, v = elem\n",
    "    return _l[i - 1] if i > 0 else None\n",
    "\n",
    "false = lambda *_: False\n",
    "true  = lambda *_: True"
   ]
  },
  {
   "cell_type": "code",
   "execution_count": null,
   "id": "721cb66f",
   "metadata": {},
   "outputs": [],
   "source": [
    "Element = namedtuple('Element', 'index value')\n",
    "_l = 'A B C B'.split()\n",
    "n = len(_l)\n",
    "# l = [Element._make(e) for e in enumerate(l)]\n",
    "l = seq(_l)\n",
    "l = l.enumerate().map(Element._make)"
   ]
  },
  {
   "cell_type": "code",
   "execution_count": 6,
   "id": "9f22f664",
   "metadata": {},
   "outputs": [],
   "source": [
    "l.map(lambda x: {'B': 'D'}.get(x, x))\n",
    "\n",
    "l.filter(lambda x: get_prev(x) == 'B').select(_.value)\n",
    "\n",
    "find_fn = _.index == 1\n",
    "l.filter(find_fn).select(_.value).map(lower)\n",
    "\n",
    "find_fn = _.value == 'C'\n",
    "l.filter(find_fn).select(_.index)\n",
    "\n",
    "# move x to first\n",
    "update_filter = _.value == 'C'\n",
    "get_new = lambda x: -1\n",
    "l.map(lambda x: Element(update_fn(x, 'index'), x.value)).order_by(_.index).select(_.value)\n",
    "\n",
    "# swap first and last\n",
    "update_filter = true\n",
    "get_new = lambda x: {0: n - 1, n - 1: 0}.get(x.index, x.index)\n",
    "l.map(lambda x: Element(update_fn(x, 'index'), x.value)).order_by(_.index).select(_.value)\n",
    "\n",
    "# get inbetween == drop_while + take_while?\n",
    "\n",
    "# update by index to its prev\n",
    "update_filter = _.index == 1\n",
    "get_new = lambda x: get_prev(x)\n",
    "def update_fn(x, update_field): return get_new(x) if update_filter(x) else getattr(x, update_field)\n",
    "l.map(lambda x: Element(x.index, update_fn(x, 'value')))\n",
    "\n",
    "# if two adjacent elements by indices are equal\n",
    "l.filter(lambda x: x.index in [0, 1]).select(_.value).distinct().len() == 1\n",
    "\n",
    "seq('A B C B C'.split()).group_by(_).select(_[1]).flatten()\n",
    "\n",
    "# count occurance till current\n",
    "seq('A B A C B A'.split()).inits().reverse().tail().map(lambda x: x.filter(_ == x.last()).len())\n",
    "\n",
    "# find special\n",
    "seq('A B A A'.split()).count_by_value().filter(_[1] == 1).select(_[0])\n",
    "\n",
    "# generalized find special\n",
    "seq('A A B C C D D'.split()).group_by(_).map(lambda x: (x[0], len(x[1]))).filter(_[1] == 1).select(_[0])"
   ]
  }
 ],
 "metadata": {
  "kernelspec": {
   "display_name": "Python 3",
   "language": "python",
   "name": "python3"
  },
  "language_info": {
   "codemirror_mode": {
    "name": "ipython",
    "version": 3
   },
   "file_extension": ".py",
   "mimetype": "text/x-python",
   "name": "python",
   "nbconvert_exporter": "python",
   "pygments_lexer": "ipython3",
   "version": "3.7.11"
  },
  "vscode": {
   "interpreter": {
    "hash": "31f2aee4e71d21fbe5cf8b01ff0e069b9275f58929596ceb00d14d90e3e16cd6"
   }
  }
 },
 "nbformat": 4,
 "nbformat_minor": 5
}
