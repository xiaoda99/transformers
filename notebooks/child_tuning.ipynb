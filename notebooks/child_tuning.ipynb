{
 "cells": [
  {
   "cell_type": "code",
   "execution_count": 2,
   "id": "2797a127",
   "metadata": {
    "ExecuteTime": {
     "end_time": "2024-03-19T03:39:55.382864Z",
     "start_time": "2024-03-19T03:39:55.338395Z"
    }
   },
   "outputs": [
    {
     "data": {
      "application/javascript": "IPython.notebook.set_autosave_interval(120000)"
     },
     "metadata": {},
     "output_type": "display_data"
    },
    {
     "name": "stdout",
     "output_type": "stream",
     "text": [
      "Autosaving every 120 seconds\n"
     ]
    }
   ],
   "source": [
    "from IPython import get_ipython\n",
    "%load_ext autoreload\n",
    "%autoreload 2\n",
    "\n",
    "from IPython.core.interactiveshell import InteractiveShell\n",
    "InteractiveShell.ast_node_interactivity = 'all'  #'last', 'last_expr'\n",
    "\n",
    "%autosave 120"
   ]
  },
  {
   "cell_type": "code",
   "execution_count": 4,
   "id": "0d03e56e",
   "metadata": {},
   "outputs": [
    {
     "name": "stderr",
     "output_type": "stream",
     "text": [
      "There was a problem when trying to write in your cache folder (/raid3/xd/.cache/torch/hub). You should set the environment variable TRANSFORMERS_CACHE to a writable directory.\n"
     ]
    }
   ],
   "source": [
    "import sys\n",
    "# sys.path.insert(0, '/nas/xd/projects/transformers/src')\n",
    "import os\n",
    "os.environ['HF_HOME'] = '/raid3/xd/.cache/torch'  # deliberately set this wrong path to avoid migrating cache\n",
    "os.environ[\"CUDA_DEVICE_ORDER\"]=\"PCI_BUS_ID\"\n",
    "# os.environ[\"CUDA_VISIBLE_DEVICES\"]=\"8,7\"\n",
    "\n",
    "from types import MethodType\n",
    "from tqdm import tqdm\n",
    "from collections import defaultdict, OrderedDict, Counter\n",
    "from datetime import datetime\n",
    "from io import StringIO\n",
    "from dataclasses import dataclass, fields, asdict\n",
    "import itertools\n",
    "from itertools import chain, product\n",
    "import math\n",
    "from functools import reduce, partial\n",
    "from collections.abc import Iterable\n",
    "from collections import namedtuple \n",
    "import traceback\n",
    "import pickle, gzip\n",
    "import pandas as pd\n",
    "\n",
    "# from multiprocessing import Pool\n",
    "# from torch.multiprocessing import Pool\n",
    "# torch.multiprocessing.set_start_method('spawn', force=True)\n",
    "from multiprocessing.dummy import Pool\n",
    "\n",
    "%matplotlib inline\n",
    "import matplotlib.pyplot as plt\n",
    "# import seaborn as sns\n",
    "\n",
    "import torch\n",
    "import torch.nn as nn\n",
    "import torch.nn.functional as F \n",
    "from torch.utils.data.sampler import RandomSampler, Sampler, SequentialSampler\n",
    "from torch.utils.data.dataloader import DataLoader\n",
    "\n",
    "from transformers import AutoConfig, AutoModelForCausalLM, AutoTokenizer, GPT2Tokenizer, LlamaTokenizer\n",
    "# from transformers import T5Tokenizer, T5TokenizerFast, T5ForConditionalGeneration\n",
    "torch.set_grad_enabled(False);"
   ]
  },
  {
   "cell_type": "code",
   "execution_count": 13,
   "id": "89477da6",
   "metadata": {},
   "outputs": [
    {
     "data": {
      "text/html": [
       "<style>.container { width:100% !important; }</style>"
      ],
      "text/plain": [
       "<IPython.core.display.HTML object>"
      ]
     },
     "metadata": {},
     "output_type": "display_data"
    }
   ],
   "source": [
    "from IPython.display import display, HTML\n",
    "display(HTML(\"<style>.container { width:100% !important; }</style>\"))"
   ]
  },
  {
   "cell_type": "code",
   "execution_count": null,
   "id": "6d9c63a3",
   "metadata": {},
   "outputs": [],
   "source": [
    "# HD = 64; M = 16; I = 2; D = 2048\n",
    "HD = 128; M = 32; I = 2; D = 2560 # 4096\n",
    "# HD = 96; M = 24; I = 2; D = 1536\n",
    "math.sqrt(1 / HD) * 2 / (M + I) * 0.01\n",
    "math.sqrt(2 / (D + M)) * 0.005"
   ]
  },
  {
   "cell_type": "code",
   "execution_count": 5,
   "id": "58cba5e2",
   "metadata": {},
   "outputs": [
    {
     "name": "stdout",
     "output_type": "stream",
     "text": [
      "common_utils ... done 0:00:00.000046\n",
      "utils ... done 0:00:00.001843\n",
      "child_utils ... import finish\n",
      "done 0:00:00.848961\n",
      "tasks ... done 0:00:00.000496\n",
      "model_utils ... done 0:00:00.243297\n",
      "weight_analysis ... done 0:00:00.000020\n"
     ]
    }
   ],
   "source": [
    "from common_utils import Timer\n",
    "with Timer('common_utils'): from common_utils import *\n",
    "with Timer('utils'): from utils import *\n",
    "with Timer('child_utils'): from child_utils import *\n",
    "from child_utils import _str, _rel_cands2str, _cxt2str, _item2str, _s, _be\n",
    "from child_frames import *\n",
    "with Timer('tasks'): from tasks import *\n",
    "with Timer('model_utils'): from model_utils import *\n",
    "from model_utils import _plot_attn\n",
    "with Timer('weight_analysis'): from weight_analysis import *"
   ]
  },
  {
   "cell_type": "code",
   "execution_count": 6,
   "id": "f047a2c6",
   "metadata": {},
   "outputs": [],
   "source": [
    "models = {}\n",
    "# cache_dir = '/nas/xd/.cache/torch/transformers/'  # for models besides t5-3b/11b\n",
    "cache_dir = '/home/xd/.cache/torch/transformers/'\n",
    "# cache_dir = '/mnt/nvme1/xd/.cache/torch/transformers/'  # for gpt-neox-20b on elderberry\n",
    "proxies = {'http': '192.168.50.1:1081'} "
   ]
  },
  {
   "cell_type": "code",
   "execution_count": null,
   "id": "4cfca3be",
   "metadata": {},
   "outputs": [],
   "source": [
    "from modelscope import snapshot_download\n",
    "# model_name = 'AI-ModelScope/CodeLlama-7b-Python-hf'\n",
    "model_name = 'AI-ModelScope/gpt2-medium'\n",
    "snapshot_download(model_name, cache_dir='/home/xd/modelscope', ignore_file_pattern=[r\".*\\.safetensors$\", r\".*\\.msgpack$\", r\".*\\.h5$\", r\".*\\.ot$\"])"
   ]
  },
  {
   "cell_type": "code",
   "execution_count": null,
   "id": "1c4ec897",
   "metadata": {},
   "outputs": [],
   "source": [
    "from transformers import AutoModelForCausalLM, LlamaTokenizer\n",
    "\n",
    "cache_dir = '/home/xd/.cache/torch/transformers/'\n",
    "model_name = 'lmsys/vicuna-33b-v1.3'\n",
    "# model_name = '/nas2/xd/data/models/llama_hf/13B'\n",
    "# _model_name = 'vicuna'  # model_name.split('/')[-1]\n",
    "device = [0]\n",
    "device_map = {'model': device[0], 'lm_head': device[0]}\n",
    "model = AutoModelForCausalLM.from_pretrained(model_name,\n",
    "    device_map=device_map, load_in_4bit=True, bnb_4bit_quant_type='nf4',\n",
    "    local_files_only=True, low_cpu_mem_usage=True, use_safetensors=False)\n",
    "# tokenizer = LlamaTokenizer.from_pretrained(model_name, cache_dir=cache_dir)"
   ]
  },
  {
   "cell_type": "code",
   "execution_count": 9,
   "id": "a2540bb3-55e8-47ef-a84d-729ed0ec0fc3",
   "metadata": {},
   "outputs": [
    {
     "name": "stderr",
     "output_type": "stream",
     "text": [
      "You are using the default legacy behaviour of the <class 'transformers.models.llama.tokenization_llama.LlamaTokenizer'>. This is expected, and simply means that the `legacy` (previous) behavior will be used so nothing changes for you. If you want to use the new behaviour, set `legacy=False`. This should only be set if you understand what it means, and thoroughly read the reason why this was added as explained in https://github.com/huggingface/transformers/pull/24565\n"
     ]
    }
   ],
   "source": [
    "model_name = 'lmsys/vicuna-33b-v1.3'\n",
    "tokenizer_cls = LlamaTokenizer if 'vicuna' in model_name else GPT2Tokenizer\n",
    "tokenizer = tokenizer_cls.from_pretrained(model_name, cache_dir=cache_dir, local_files_only=True)\n",
    "unify_tokenizer(tokenizer)"
   ]
  },
  {
   "cell_type": "code",
   "execution_count": 7,
   "id": "a4ab655d",
   "metadata": {},
   "outputs": [
    {
     "name": "stdout",
     "output_type": "stream",
     "text": [
      "lmsys/vicuna-33b-v1.3 ... _model_name, device = vicuna 0\n",
      "In PreTrainedModel.from_pretrained: resolved_archive_file, filename = /home/xd/.cache/torch/transformers/132115a70169b8c5fbf5bf7aef5f9d6823f3853d163474fba15145c3d7460bcc.7f36ca25942bd037786a5dcc90e9a9659aa140a20766b90f2cbe4d623e54e261 pytorch_model.bin\n"
     ]
    },
    {
     "data": {
      "application/vnd.jupyter.widget-view+json": {
       "model_id": "c5c4cf81bf984825b17acb64d7f2a5f8",
       "version_major": 2,
       "version_minor": 0
      },
      "text/plain": [
       "Downloading shards:   0%|          | 0/7 [00:00<?, ?it/s]"
      ]
     },
     "metadata": {},
     "output_type": "display_data"
    },
    {
     "data": {
      "application/vnd.jupyter.widget-view+json": {
       "model_id": "5497c6723a0749e893095d388f0fc639",
       "version_major": 2,
       "version_minor": 0
      },
      "text/plain": [
       "Loading checkpoint shards:   0%|          | 0/7 [00:00<?, ?it/s]"
      ]
     },
     "metadata": {},
     "output_type": "display_data"
    },
    {
     "name": "stderr",
     "output_type": "stream",
     "text": [
      "/home/xd/miniconda3/envs/tune/lib/python3.11/site-packages/torch/_utils.py:776: UserWarning: TypedStorage is deprecated. It will be removed in the future and UntypedStorage will be the only storage class. This should only matter to you if you are using storages directly.  To access UntypedStorage directly, use tensor.untyped_storage() instead of tensor.storage()\n",
      "  return self.fget.__get__(instance, owner)()\n",
      "You are using the default legacy behaviour of the <class 'transformers.models.llama.tokenization_llama.LlamaTokenizer'>. This is expected, and simply means that the `legacy` (previous) behavior will be used so nothing changes for you. If you want to use the new behaviour, set `legacy=False`. This should only be set if you understand what it means, and thoroughly read the reason why this was added as explained in https://github.com/huggingface/transformers/pull/24565\n"
     ]
    },
    {
     "name": "stdout",
     "output_type": "stream",
     "text": [
      "done 0:00:56.812370\n"
     ]
    }
   ],
   "source": [
    "# curl -x http://192.168.50.1:1081 -L -O [-C -] https://huggingface.co/google/ul2/resolve/main/pytorch_model.bin  # -C for 断点续传\n",
    "s2s_model_names = ['google/t5-xl-lm-adapt', 'google/t5-xxl-lm-adapt', 'bigscience/T0p', 'bigscience/T0_3B', \n",
    "    'allenai/tk-instruct-3b-pos', 'allenai/tk-instruct-3b-def-pos', 'google/ul2']\n",
    "gpt_model_names = ['/data0/modelscope/' + name for name in ['AI-ModelScope/gpt2-medium', 'EleutherAI/gpt-j-6B/cpu', 'EleutherAI/gpt-j-6B/int8', 'EleutherAI/gpt-j-6B',\n",
    "                  ]]#, 'EleutherAI/gpt-neox-20b/cpu', #'EleutherAI/gpt-neox-20b', 'gpt2-xl', 'gpt2']\n",
    "llama_model_names = ['lmsys/vicuna-33b-v1.3@cpu', 'lmsys/vicuna-33b-v1.3@int8', 'lmsys/vicuna-33b-v1.3', #'lmsys/vicuna-33b-v1.3@nf4',\n",
    "                    ] + ['/data0/modelscope/' + name for name in [#'01ai/Yi-34B-Chat-4bits', 'qwen/Qwen1___5-32B-Chat-AWQ', 'qwen/Qwen1___5-72B-Chat-AWQ',\n",
    "                    ]]\n",
    "name2device = {'gpt-j-6B': 0, 'vicuna': 0, 'vicuna-7b-v1.3': 0, 'vicuna-13b-v1.3': 0, 'vicuna-33b-v1.3': 0}\n",
    "quant_types = ['int8', 'fp4', 'nf4', 'auto']\n",
    "for model_name in llama_model_names[-1:] + gpt_model_names[:0]:\n",
    "    if model_name in models: continue\n",
    "    with Timer(model_name):\n",
    "        model_cls = AutoModelForCausalLM #if any(s in model_name for s in ['gpt', 'fairseq-dense']) else T5ForConditionalGeneration\n",
    "        model_name, dst = model_name.split('@') if '@' in model_name else (model_name, '')\n",
    "        # for s in ['cpu'] + quant_types: model_name = model_name.replace('@' + s, '')\n",
    "        _model_name = model_name.split('/')[-1]\n",
    "        if _model_name.startswith('vicuna'): _model_name = 'vicuna'\n",
    "        kwargs = dict(cache_dir=cache_dir, proxies=proxies, local_files_only=True, low_cpu_mem_usage=True, use_safetensors=_model_name != 'vicuna')\n",
    "        if dst == 'cpu':\n",
    "            model = model_cls.from_pretrained(model_name, **kwargs)\n",
    "        else:  # fp16 or int8 on GPU\n",
    "            device = name2device.get(_model_name, 0)\n",
    "            print('_model_name, device =', _model_name, device)\n",
    "            device_map = get_device_map(devices=device, **name2mapping.get(_model_name)) if dst in quant_types else None\n",
    "            dtype_kwargs = {'': {'torch_dtype': torch.float16}, 'auto': {'torch_dtype': 'auto'}, 'int8': {'load_in_8bit': True},\n",
    "                            'fp4': {'load_in_4bit': True}, 'nf4': {'load_in_4bit': True, 'bnb_4bit_quant_type': 'nf4'}}[dst]\n",
    "            model = model_cls.from_pretrained(model_name, device_map=device_map, **dtype_kwargs, **kwargs) # revision='float16' for gpt-j-6B\n",
    "            if device_map is None: model = model.to(device)\n",
    "        if hasattr(model.config, 'use_cache'): model.config.use_cache = False  # save GPU mem\n",
    "        tokenizer = AutoTokenizer.from_pretrained(model_name, cache_dir=cache_dir, use_fast=False, local_files_only=True)\n",
    "        unify(model); unify_tokenizer(tokenizer)\n",
    "        models[model_name+'@'+dst if dst else model_name] = model, tokenizer"
   ]
  },
  {
   "cell_type": "code",
   "execution_count": 57,
   "id": "21c8cd0c",
   "metadata": {},
   "outputs": [
    {
     "name": "stdout",
     "output_type": "stream",
     "text": [
      "Once upon a time there was a little girl named Alice. She lived in a small village with her parents and siblings.\n"
     ]
    }
   ],
   "source": [
    "import openai\n",
    "openai.api_key = open('xxx').read()\n",
    "proxy_key = \"brd-customer-hl_c1b0ccff-zone-openai2-ip-178.171.126.110:sf23ma3ozhu3@zproxy.lum-superproxy.io:22225\"\n",
    "openai.proxy = {\"http\": 'http://'+proxy_key, \"https\": 'https://' + proxy_key}\n",
    "#open('/nas/xd/projects/openai_api_keys.txt').readlines()[4].split()[0]\n",
    "response = openai.Completion.create(engine='text-davinci-003', prompt='Once upon a time',\n",
    "    max_tokens=20, temperature=0, echo=True, logprobs=5)\n",
    "print(response.choices[0].text)"
   ]
  },
  {
   "cell_type": "code",
   "execution_count": 58,
   "id": "c64283f4",
   "metadata": {},
   "outputs": [],
   "source": [
    "def get_openai_model(engine):\n",
    "    def forward(input_ids):#, attention_mask=None):\n",
    "        text = tokenizer.decode(input_ids[0])\n",
    "        response = openai.Completion.create(engine=engine, prompt=text, max_tokens=0, echo=True, logprobs=5)\n",
    "        return Outputs(logits=response.choices[0].logprobs)\n",
    "    return forward\n",
    "    \n",
    "tokenizer0 = GPT2Tokenizer.from_pretrained('gpt2', cache_dir=cache_dir)\n",
    "engines = ['text-curie-001', 'davinci', 'text-davinci-001', 'text-davinci-002', 'text-davinci-003', 'code-davinci-002'] #+ \\\n",
    "#     ['curie', 'curie:2020-05-03', 'curie-instruct-beta', 'text-curie-001'] + \\\n",
    "#     ['davinci', 'davinci:2020-05-03', 'davinci-instruct-beta', 'davinci-instruct-beta:2.0.0', 'text-davinci-001', 'text-davinci-002']\n",
    "for engine in engines:\n",
    "    if engine not in models: models[engine] = get_openai_model(engine), tokenizer0"
   ]
  },
  {
   "cell_type": "code",
   "execution_count": 47,
   "id": "0bc28755",
   "metadata": {},
   "outputs": [],
   "source": [
    "model_name = llama_model_names[-1]  # gpt_model_names/llama_model_names/engines\n",
    "model, tokenizer = models[model_name]\n",
    "# model_name_gpu = model_name.replace('/cpu', '/int8') if model_name.endswith('/cpu') else model_name# + '/int8'\n",
    "# model_gpu = models[model_name_gpu][0] if model_name_gpu in models else model  # for prediction rather than attribution"
   ]
  },
  {
   "cell_type": "code",
   "execution_count": 8,
   "id": "5b77b328",
   "metadata": {},
   "outputs": [
    {
     "data": {
      "text/plain": [
       "(60, 52)"
      ]
     },
     "execution_count": 8,
     "metadata": {},
     "output_type": "execute_result"
    }
   ],
   "source": [
    "blocks = model.transformer.h\n",
    "for i, b in enumerate(blocks): b.layer = i\n",
    "ln_f = model.transformer.ln_f\n",
    "L, H, embed_dim = len(blocks), blocks[0].attn.num_heads, blocks[0].attn.embed_dim\n",
    "L, H\n",
    "# we = model.transformer.wte.weight.data\n",
    "# wu = model.lm_head.weight.data\n",
    "\n",
    "# es = [we]\n",
    "# for b in blocks[:1]: es.append(es[-1] + mlp_forward(b, es[-1]))\n",
    "# model.es = es\n",
    "# weBTAs = [es[i].T @ es[i] for i in range(2)]\n",
    "# model.weBTAs = weBTAs"
   ]
  },
  {
   "cell_type": "code",
   "execution_count": null,
   "id": "d6f9e457",
   "metadata": {
    "jupyter": {
     "source_hidden": true
    }
   },
   "outputs": [],
   "source": [
    "intermediary_heads = [(8, 1), (12, 10), (13, 13)]\n",
    "circuit_ends = {\n",
    "    'thing->type': ([(15, 8), (21, 5)], [(5, 12), (7, 2)]),\n",
    "    'thing->capability': ([(13, 15)], [(6, 5), (3, 7), (5, 12)]),\n",
    "    'capital->country': ([(19, 12)], [(5, 12)]), # inverse 3-7 by nrk \n",
    "    'opposite': ([(16, 14)], [(7, 9)]),\n",
    "    'fr->en': ([(16, 15), (21, 14)], [(5, 12)]),\n",
    "    'copy': ([(16, 7)], [(8, 7), (6, 2)]), # (1, 7), (3, 12), (6, 10)\n",
    "    # did->does 6-2\n",
    "}"
   ]
  },
  {
   "cell_type": "code",
   "execution_count": null,
   "id": "8a6eb024",
   "metadata": {},
   "outputs": [],
   "source": [
    "predicting_heads, relating_heads = defaultdict(list), defaultdict(list)\n",
    "for taskname, (pred_heads, rel_heads) in circuit_ends.items():\n",
    "    for pred_head in pred_heads: predicting_heads[pred_head].append(taskname)\n",
    "    for rel_head in rel_heads: relating_heads[rel_head].append(taskname)"
   ]
  },
  {
   "cell_type": "code",
   "execution_count": 297,
   "id": "07ed2095",
   "metadata": {},
   "outputs": [],
   "source": [
    "for block in blocks: remove_composed_heads(block.attn)"
   ]
  },
  {
   "cell_type": "code",
   "execution_count": 289,
   "id": "0df73ac8",
   "metadata": {
    "jupyter": {
     "source_hidden": true
    }
   },
   "outputs": [],
   "source": [
    "# blocks[4].attn.composed_heads = [((4, 8), (4, 6))]; blocks[4].attn.ranges_i = ['ans]->*']  # opposite\n",
    "# blocks[6].attn.composed_heads = [('ans]->ans0]', (6, 2))]; blocks[6].attn.ranges_i = ['ans]->*']  # opposite\n",
    "# blocks[1].attn.composed_heads = [('ans]->ans0]', (1, 7))]; blocks[1].attn.ranges_i = ['ans]->*']  # opposite\n",
    "# blocks[8].attn.composed_heads = [('ans]->ans0]', (8, 7))]; blocks[8].attn.ranges_i = ['ans]->*']  # opposite\n",
    "# blocks[6].attn.composed_heads = [((4, 8), (6, 10))]; blocks[6].attn.ranges_i = ['ans]->*']  # opposite\n",
    "# blocks[8].attn.composed_heads = [((7, 2), (8, 7))]\n",
    "# blocks[6].attn.composed_heads = [((7, 2), (6, 2))]\n",
    "# blocks[4].attn.composed_heads = [((3, 12), (4, 8))]\n",
    "# blocks[3].attn.composed_heads = [((3, 12), (3, 6))]\n",
    "self = blocks[11].attn; self.composed_heads = [('bos->query]', (11, 12))]; self.ranges_i = ['bos->*']\n",
    "qk_head = (13, 7)\n",
    "for ov_head in [(21, 5), (20, 5), (19, 14), (15, 8)]:\n",
    "    self = blocks[ov_head[0]].attn; self.composed_heads = [(qk_head, ov_head)]; self.ranges_i = ['bos->*']\n",
    "# compose_all_heads(model)"
   ]
  },
  {
   "cell_type": "code",
   "execution_count": null,
   "id": "b5fb0fe5",
   "metadata": {},
   "outputs": [],
   "source": [
    "relating_heads = [(6, 2), (8, 7), (7, 2), (5, 12)]#(7, 9)]\n",
    "intermediary_heads = [(8, 1), (12, 10), (13, 13)]\n",
    "predicting_heads = [(13, 7), (16, 7), (15, 8), (21, 5)]#, (16, 14)]\n",
    "for circuit in product(relating_heads, intermediary_heads, predicting_heads):\n",
    "    eigv_pos = plot_eigv(weightprod(model, list(circuit), 'e vo vo qk e', weBTA=model.weBTAs[0]), plot=False)[0]\n",
    "    print(circuit, eigv_pos)"
   ]
  },
  {
   "cell_type": "code",
   "execution_count": 11,
   "id": "1fb34c9f",
   "metadata": {},
   "outputs": [],
   "source": [
    "# with gzip.open(f'results/results-genders_of_persons-types_of_things.pkl.gz', 'wb') as f:\n",
    "#     pickle.dump({k: result2dict(r) for k, r in results.items()}, f)\n",
    "# with gzip.open(f'results.pkl.gz', 'rb') as f: results = pickle.load(f)"
   ]
  },
  {
   "cell_type": "code",
   "execution_count": null,
   "id": "f1fa6edc",
   "metadata": {},
   "outputs": [],
   "source": [
    "res_key = keys[0]; res_key\n",
    "fpath = f'results/{res_key}_attn_attrs.npz'\n",
    "np.savez_compressed(fpath, *dump_attn_attrs_to_arrays(root, result.data_tuples))"
   ]
  },
  {
   "cell_type": "code",
   "execution_count": null,
   "id": "d04901ad",
   "metadata": {},
   "outputs": [],
   "source": [
    "_root = deepcopy(root)\n",
    "def fn(node): node.data = asdict(node.data)\n",
    "traverse_tree(_root, fn, include_dummy=True)\n",
    "pickle.dump(_root, gzip.open(f'results/{res_key}_tree.pkl.gz', 'wb'))"
   ]
  },
  {
   "cell_type": "code",
   "execution_count": 135,
   "id": "8df500ac",
   "metadata": {},
   "outputs": [],
   "source": [
    "def get_dlogprob(input_ids, logits):\n",
    "    logprobs = logits.log_softmax(-1)[0, :-1]\n",
    "    shifted_ids = input_ids[0, 1:]\n",
    "    logprob = logprobs[torch.arange(len(logprobs)), shifted_ids]\n",
    "    top_logprob = logprobs.max(1).values\n",
    "    dlogprob = torch.ones(input_ids.size()).to(logprob.device) * 10.\n",
    "    dlogprob[0, 1:] = top_logprob - logprob\n",
    "    return dlogprob\n",
    "\n",
    "def anchor(a):\n",
    "    a = a.clone()\n",
    "    a[0, 0] = 1. if a.size(1) > 1 else 10.  # dlogprob\n",
    "    return a"
   ]
  },
  {
   "cell_type": "code",
   "execution_count": null,
   "id": "6470230a",
   "metadata": {},
   "outputs": [],
   "source": [
    "# text = 'There are B, G, E. The second letter is G'\n",
    "# text = 'Which is greater than two? One'\n",
    "# text = f'< Tom has a dog. Mary has a car. >. {ins} So does Tom own a dog'\n",
    "# text = f'< John comes. Tom has a dog. Mary is ill. >. {ins} So does Tom own an animal'\n",
    "# text = \"< The apple is John's. The gun is Tom's. >. So John has a kind of fruit.\"\n",
    "# text = \"< The apple is John's. The gun is Tom's. >. So the kind of fruit is owned by John.\"\n",
    "# text = \"The apple is John's. So who has a kind of weapon? John.\"\n",
    "# text = \"The apple is John's. So the fruit is owned by John.\"\n",
    "# text = \"< Barbara has plane. David has pen. Sharon has calculator. >. Answer with Yes or No. Barbara has the thing used for flying?\"\n",
    "# text = \"< Barbara has plane. >. Answer with Yes or No. So Barbara has the thing used for writing?\"\n",
    "# text = 'Paris is the capital of China'#? Are apples blue? Is an apple a kind of weapon?'\n",
    "# snli\n",
    "# text = 'A boy is playing a guitar. So a boy is playing piano.' # ************ from snli 7195\n",
    "# text = 'A man is dancing in front of a band. So the man is buying groceries.'\n",
    "# text = 'A boy lays down. So a girl lays down'"
   ]
  },
  {
   "cell_type": "code",
   "execution_count": 94,
   "id": "316048df",
   "metadata": {},
   "outputs": [],
   "source": [
    "texts = [  # cxt=0\n",
    "    ('Paris is the capital of France', 'Paris is the capital of Germany', 'Paris is far away from Germany'), # 15-51, 14-18?\n",
    "    ('Basketball or footall? LeBron James plays the sport of basketball', 'Basketball or footall? LeBron James plays the sport of football'), # xx\n",
    "    ('An apple is a kind of fruit', 'An apple is a kind of animal'),  # 15-51?\n",
    "    ('Animal or fruit? An apple is a kind of fruit', 'Animal or fruit? An apple is a kind of animal'),  # 15-51!, 14-18!\n",
    "    ('John is rich. So, John wealthy', 'John is rich. So, John is poor', 'John is rich. So, Tom is poor', 'John is rich. No, John is poor',\n",
    "     'John is rich. So, John is not poor', 'John is rich. So, John is not wealthy'), # 15-51!,14-18?\n",
    "    ('John is seven years old. So, John is seven', 'John is seven years old. So, John is five',\n",
    "     'John is seven years old. So, Tom is seven'),\n",
    "    ('John is a boy Yes', 'John is a girl No')\n",
    "][-1]"
   ]
  },
  {
   "cell_type": "code",
   "execution_count": 219,
   "id": "67ff8fdd",
   "metadata": {},
   "outputs": [],
   "source": [
    "texts = [  # cxt=1\n",
    "    ('John is in Paris. So John is in the capital of France Yes', 'John is in Paris. So John is in the capital of Germany No',\n",
    "#      'John is in Paris. No, John is in the capital of Germany', 'John is in Paris. John is the capital of Germany', 'John is in Paris. So Tom is in Germany',\n",
    "     'John is in Paris. So Tom is in the capital of France Maybe Yes', 'John is in Paris. So Tom is in the capital of Germany Maybe No',\n",
    "    #  'John is in Paris. There are wine estates in France Maybe',\n",
    "    ), # 15-51!\n",
    "    ('John has an apple. So John has a kind of fruit Yes', 'John has an apple. So John has a kind of vehicle No',\n",
    "     'John has an apple. So Tom has a kind of fruit Maybe Yes', 'John has an apple. So Tom has a kind of vehicle Maybe No',\n",
    "     'John has an apple. So John has a car', 'John has an apple. No, John has a car',\n",
    "     'John has an apple. So Tom has a car'), # 15-51\n",
    "    ('If John has an apple, can it be inferred that John has a kind of fruit Yes', 'If John has an apple, can it be inferred that John has a kind of vehicle No',\n",
    "     'If John has an apple, can it be inferred that Tom has a kind of fruit No', 'If John has an apple, can it be inferred that Tom has a kind of vehicle No',\n",
    "     'John has an apple. So John has a car', 'John has an apple. No, John has a car',\n",
    "     'John has an apple. So Tom has a car'),\n",
    "    # ('Tom Brown has come. So the one that has arrived is Tom Brown Yes', 'Tom Brown has come. So the one that has arrived is Tom Smith No'),\n",
    "    ('John is weathy. So John is rich Yes', 'John is weathy. So John is poor No',\n",
    "     'John is weathy. So Tom is rich Maybe Yes', 'John is weathy. So Tom is poor Maybe No'),\n",
    "    ('John is fast. So John is quick Yes', 'John is fast. So John is slow No',\n",
    "     'John is fast. So Tom is quick Maybe Yes', 'John is fast. So Tom is slow Maybe No'),\n",
    "][0]"
   ]
  },
  {
   "cell_type": "code",
   "execution_count": 29,
   "id": "211254ff",
   "metadata": {},
   "outputs": [],
   "source": [
    "texts = [  # cxt>1\n",
    "    ('< Tom has a car. John has an apple. Mary has a dog. > So John has a kind of fruit Yes',\n",
    "     '< Tom has a car. John has an apple. Mary has a dog. > So John has a kind of animal No'),\n",
    "    ('Tom has a car. John has an apple. Mary has a dog.\\n\\nSo John has a kind of fruit Yes',\n",
    "     'Tom has a car. John has an apple. Mary has a dog.\\n\\nSo John has a kind of animal No'),\n",
    "][-2]"
   ]
  },
  {
   "cell_type": "code",
   "execution_count": 231,
   "id": "e3c7f6c5",
   "metadata": {},
   "outputs": [],
   "source": [
    "texts = [\n",
    "    ('There are letters C and D. The second letter of these letters is D Yes', 'There are letters C and D. The second letter of these letters is C No'),\n",
    "    ('Three is greater than two', 'Three is smaller than two'), # xx\n",
    "    ('Which is greater, seven or five? Answer: seven', 'Which is greater, seven or five? Answer: five'),\n",
    "    ('Which is bigger, one or three?\\nAnswer: Three', 'Which is bigger, one or three?\\nAnswer: One'),\n",
    "    ('Which is greater, two or three? Answer: Three', 'Which is greater, two or three? Answer: two'),\n",
    "    ('Milan is in the same country as Rome', 'Milan is in the same country as London'), # 15-51, 14-18x\n",
    "    ('John is in Rome. Tom is in Paris. Anna is in Rome. So John is in the same city as Anna',\n",
    "     'John is in Rome. Tom is in Paris. Anna is in Rome. So John is in the same city as Tom'), # 15-51x, 14-18!\n",
    "    ('John is in Rome. Tom is in Paris. Anna is in Milan. So John is in the same country as Anna',\n",
    "     'John is in Rome. Tom is in Paris. Anna is in Milan. So John is in the same country as Tom'), # 15-51x, 14-18\n",
    "][0]"
   ]
  },
  {
   "cell_type": "code",
   "execution_count": 89,
   "id": "361b9805",
   "metadata": {},
   "outputs": [],
   "source": [
    "texts = [\n",
    "    ('John is seven. Tom is five. So John is older', 'John is seven. Tom is five. So John is younger',\n",
    "     'John is seven. Tom is five. So Tom is younger', 'John is seven. Tom is five. So Tom is older'), # 15-51, 14-18\n",
    "    ('John is seven. Tom is five. Who is older?\\nJohn', 'John is seven. Tom is five. Who is older?\\nTom'),\n",
    "][-1]"
   ]
  },
  {
   "cell_type": "code",
   "execution_count": 237,
   "id": "de91f240",
   "metadata": {},
   "outputs": [],
   "source": [
    "texts = [  # WSC\n",
    "    ('The car overtook the truck. So the car was faster', 'The car overtook the truck. So the car was slower'),  # 15-51x, 14-18\n",
    "    ('John defeated Tom. So John was stronger Yes', 'John defeated Tom. So John was weaker No',\n",
    "     'John defeated Tom. So Tom was weaker Yes', 'John defeated Tom. So Tom was stronger No'), # 15-51\n",
    "    ('John is taller than Tom. So John is taller', 'John is taller than Tom. So John is shorter',\n",
    "     'John is taller than Tom. So Tom is shorter', 'John is taller than Tom. So Tom is taller'),  # 15-51\n",
    "][1]"
   ]
  },
  {
   "cell_type": "code",
   "execution_count": 178,
   "id": "0ea9696c",
   "metadata": {},
   "outputs": [],
   "source": [
    "def expand_and_encode(text, prefix, suffix, answers):\n",
    "    answer = None\n",
    "    if suffix is not None:\n",
    "        for ans in answers[::-1]:  # longest match, e.g. Maybe Yes > Yes\n",
    "            if text.endswith(ans):\n",
    "                text = text.replace(ans, suffix + ans.replace(' Maybe Yes', ' Maybe').replace(' Maybe No', ' Maybe'))\n",
    "                answer = ans\n",
    "                continue\n",
    "    if prefix is not None: text = prefix + text\n",
    "    return text, tokenizer.encode(text, return_tensors='pt'), answer"
   ]
  },
  {
   "cell_type": "code",
   "execution_count": 233,
   "id": "f987efe6",
   "metadata": {},
   "outputs": [],
   "source": [
    "from model_utils import _plot_attn\n",
    "prefix, suffix = 'Answer with Yes or No. ', '? Answer:'\n",
    "answers = [' Yes', ' No', ' Maybe Yes', ' Maybe No']\n",
    "start = 1 + len(tokenizer.tokenize(prefix.strip()))  # <s>\n",
    "stop = - (len(tokenizer.tokenize('Hello' + suffix + ' No')) - 1)\n",
    "device = model.device"
   ]
  },
  {
   "cell_type": "code",
   "execution_count": null,
   "id": "20826028",
   "metadata": {},
   "outputs": [],
   "source": [
    "all_hidden_states, all_attentions, all_logits = [], [], []\n",
    "for i, text in enumerate(texts[:4]):\n",
    "    text, input_ids, ans = expand_and_encode(text, prefix, suffix, answers); print(text)\n",
    "    tokens = tokenizer.convert_ids_to_tokens(input_ids[0]); itokens = [str(i) for i in range(len(tokens))]\n",
    "    with TruncLayers(model, 360):\n",
    "        o = model(input_ids.to(model.device), output_attentions=True, output_hidden_states=True)\n",
    "    all_attentions.append(torch.cat(o.attentions, dim=0))\n",
    "    all_hidden_states.append(o.hidden_states); all_logits.append(o.logits)\n",
    "    no_heads = [(15, 22), (13, 21), (16, 28), (16, 2), (14,0),(14,1),(15, 51),(11,37),(12,33)][-5:-2] #+ [(15,10)]\n",
    "    yes_heads = [(13,42),(14,16),  (13,50),(13,29),(7, 39), (14, 18),(14, 46)][:1] #+ [(15,18),(13,9)]\n",
    "    attns = [(layer, head, o.attentions[layer][0, head]) for layer, head in no_heads + yes_heads]\n",
    "    dlogprob = get_dlogprob(input_ids, o.logits)\n",
    "    width = (len(tokens) - start + stop) * 0.2\n",
    "    _, axs = plt.subplots(1, len(attns) + 1, figsize=(0.5 + (width + 0.8) * len(attns), width), width_ratios=[0.5]+[width + 0.8]*len(attns))\n",
    "    _plot_attn(anchor(dlogprob.T[start: stop]), tokens=False, ytokens=itokens[start: stop], fontsize=9, ax=axs[0])\n",
    "    for (l, h, a), ax in zip(attns, axs[1:]):\n",
    "        _plot_attn(anchor(a[start: stop, start: stop]), tokens=tokens[start: stop], fontsize=9, ax=ax)\n",
    "        _ = ax.set_title(f'{l}-{h}')\n",
    "    print(show_topk(*o.logits[0, -2].softmax(-1).topk(5), indices_fn=tokenizer.convert_ids_to_tokens), end='')\n",
    "    if ans is not None:\n",
    "        heads = {' Yes': yes_heads, ' Maybe Yes': yes_heads, ' No': no_heads, ' Maybe No': no_heads}[ans]\n",
    "        try:\n",
    "            for layer, head in heads:\n",
    "                self = model.transformer.h[layer].attn\n",
    "                mask = torch.ones((H, input_ids.size(1))).to(device) if not hasattr(self, 'mask') else self.mask\n",
    "                mask[head, stop-1] = 0.\n",
    "                self.mask = mask\n",
    "            blocks = model.model.layers; model.model.layers = model.model.layers[:360]\n",
    "            o2 = model(input_ids.to(device))\n",
    "        finally:\n",
    "            for layer, head in heads: try_delattr(model.transformer.h[layer].attn, 'mask')\n",
    "            model.model.layers = blocks\n",
    "        print(' knockout', heads, ' ->', show_topk(*o2.logits[0, -2].softmax(-1).topk(5), indices_fn=tokenizer.convert_ids_to_tokens))\n",
    "    else: print()"
   ]
  },
  {
   "cell_type": "code",
   "execution_count": 208,
   "id": "e1baff9b",
   "metadata": {},
   "outputs": [
    {
     "data": {
      "text/plain": [
       "(array([13, 15, 12, 13, 19, 13, 12, 14, 39, 16]),\n",
       " array([42, 24, 34, 50, 22, 44, 28, 45,  7, 31]),\n",
       " array([0.2632 , 0.1029 , 0.09406, 0.0896 , 0.0859 , 0.0761 , 0.0755 ,\n",
       "        0.0727 , 0.06146, 0.06097], dtype=float16))"
      ]
     },
     "execution_count": 208,
     "metadata": {},
     "output_type": "execute_result"
    }
   ],
   "source": [
    "topk_md(operator.sub(*[a[:, :, stop-1, 12] for a in (all_attentions[0],all_attentions[2])]), 10)"
   ]
  },
  {
   "cell_type": "code",
   "execution_count": 181,
   "id": "b417b8fe",
   "metadata": {},
   "outputs": [
    {
     "data": {
      "text/plain": [
       "[tensor(0.3408, device='cuda:0', dtype=torch.float16),\n",
       " tensor(0.1423, device='cuda:0', dtype=torch.float16)]"
      ]
     },
     "execution_count": 181,
     "metadata": {},
     "output_type": "execute_result"
    }
   ],
   "source": [
    "[a[43, 20, stop-1, 14] for a in all_attentions]"
   ]
  },
  {
   "cell_type": "code",
   "execution_count": 126,
   "id": "c361f42d",
   "metadata": {},
   "outputs": [],
   "source": [
    "dlogits = {}\n",
    "for i in range(4): dlogits[i] = OrderedDict()"
   ]
  },
  {
   "cell_type": "code",
   "execution_count": 134,
   "id": "8e82273a",
   "metadata": {},
   "outputs": [
    {
     "name": "stderr",
     "output_type": "stream",
     "text": [
      "  0%|                                                                                                                                                         | 0/25 [00:00<?, ?it/s]100%|████████████████████████████████████████████████████████████████████████████████████████████████████████████████████████████████████████████████| 25/25 [03:54<00:00,  9.38s/it]\n"
     ]
    }
   ],
   "source": [
    "patched_cls_i = 0\n",
    "cls_ids = tokenizer.encode(':' + ''.join([' Yes', ' No', ' Maybe']))[1:]\n",
    "for patched_layer in tqdm(range(20)):\n",
    "    for i, text in enumerate(texts[:4]):\n",
    "        if i not in [patched_cls_i, patched_cls_i + 2]: continue\n",
    "        input_ids, _ = expand_and_encode(text, prefix, suffix, answers)\n",
    "        try:\n",
    "            blocks[patched_layer].self_attn.attn_output = stop - 1\n",
    "            o = model(input_ids.to(model.device))\n",
    "        finally: delattr(blocks[patched_layer].self_attn, 'attn_output')\n",
    "        # for bi in range(o.logits.size(0)): print(bi, show_topk(*o.logits[bi, -2].softmax(-1).topk(5), indices_fn=tokenizer.convert_ids_to_tokens))\n",
    "        dlogits[i][patched_layer] = [operator.sub(*o.logits[bi, -2, [cls_ids[patched_cls_i], cls_ids[-1]]].tolist()) for bi in range(H)]"
   ]
  },
  {
   "cell_type": "code",
   "execution_count": null,
   "id": "bdf55fa0",
   "metadata": {},
   "outputs": [],
   "source": [
    "def dict2tensor(a): return torch.Tensor(list(a.values()))\n",
    "a = dict2tensor(dlogits[patched_cls_i]) - dict2tensor(dlogits[patched_cls_i + 2]); topk_md(a, 16, largest=False); _ = sns.heatmap(-a, square=True, cbar=False)"
   ]
  },
  {
   "cell_type": "code",
   "execution_count": 238,
   "id": "9e789d12",
   "metadata": {},
   "outputs": [],
   "source": [
    "df = pd.read_parquet('/home/xd/projects/transformers/notebooks/nrk/snli_test.parquet')\n",
    "pd.set_option('display.max_colwidth', 150+100)\n",
    "def lower(s): return s[0].lower() + s[1:]\n",
    "contra_indices = df.index[df['label'] == 2].tolist()\n",
    "def sample():\n",
    "    while True:\n",
    "        i = choice(contra_indices)\n",
    "        contra = df.iloc[i]\n",
    "        for j in [i - 2, i - 1, i + 1, i + 2]:\n",
    "            entail = df.iloc[j]\n",
    "            if entail['label'] == 0 and entail['premise'] == contra['premise']:\n",
    "                return entail, contra\n",
    "entail, contra = sample()\n",
    "entail, contra"
   ]
  },
  {
   "cell_type": "code",
   "execution_count": null,
   "id": "2637dc32",
   "metadata": {
    "collapsed": true
   },
   "outputs": [],
   "source": [
    "# 2: [7567,2238,788,4108,774,1288,5234,4290]; 0: [5240,7817,6519,2418,6287,1093]\n",
    "# badcase: 2 false positive: [4461*,369,5934,1348,2296,5887,9724,5830,1115,4606]\n",
    "# paired badcases: [(4509, 4511), (9282,9280), (2346, 2347)]\n",
    "# i = 7140; premise, hypo, _ = df.iloc[i]\n",
    "for premise, hypo, _ in [entail, contra]:\n",
    "    # premise, hypo = 'A shirtless man with red paint on his torso holding a stick.', 'A man holds a stick.'\n",
    "    print(premise, hypo)\n",
    "    text = f'{premise} So {lower(hypo)}'\n",
    "#     text = f'{premise} {(hypo)}'\n",
    "    input_ids = tokenizer.encode(text, return_tensors='pt')\n",
    "    tokens = tokenizer.convert_ids_to_tokens(input_ids[0])\n",
    "    o = model(input_ids.to(model.device), output_attentions=True)\n",
    "    attns = [o.attentions[layer][0, head] for layer, head in [(15, 51), (14, 18), (14, 46)]]\n",
    "    _, axs = plt.subplots(1, len(attns), figsize=(7 * len(attns), 7))\n",
    "    for ax, a in zip(axs, attns): _plot_attn(a, tokens, ax=ax)\n",
    "    hypo_len = len(tokenizer.tokenize(hypo))\n",
    "#     a = attns[0]; _a = a[-hypo_len:]; i = _a[:, 0].argmin().item()\n",
    "    a = attns[0]; _a = a[-hypo_len:]; i = _a[:, 1:].max(dim=1).values.argmax().item()\n",
    "    print(i - hypo_len, 1 - _a[i, 0].item(), _a[i, 1:].max().item())"
   ]
  },
  {
   "cell_type": "code",
   "execution_count": 16,
   "id": "ebb50627",
   "metadata": {},
   "outputs": [],
   "source": [
    "# cachier.cache_dir = '~/.cachier/.openai_utils.query_openai'\n",
    "tasks_r = [\n",
    "    (lambda: [TreeSet(countries_of_landmarks).use(['equal']), TreeSet(countries_of_landmarks).use(['child'])], rlr_gen,\n",
    "     ('', None), lambda *args, **kwargs: '', lambda q, _: f\"Is {q}\",\n",
    "    ),\n",
    "    (lambda: [TreeSet(kinds_of_things).use(['equal']), TreeSet(kinds_of_things).use(['child'])], rlr_gen,\n",
    "     ('', None), lambda *args, **kwargs: '', lambda q, _: f\"Is {q}\",\n",
    "    ),\n",
    "    (lambda: [TreeSet(genders_of_persons).use(['equal']), TreeSet(genders_of_persons).use(['child'])], MlM_gen,\n",
    "#      lambda *args, **kwargs: '', lambda q, _: f\"{q} is a\",\n",
    "     lambda *args, **kwargs: '', lambda q, _: f\"Is {q} a name of a\",\n",
    "    ),\n",
    "#     (lambda: [TreeSet(country2capital).use(['equal']), TreeSet(country2capital).use(['child'])], MlM_gen,\n",
    "#      lambda *args, **kwargs: '', lambda q, _: f\"{q} is\",\n",
    "#     ), \n",
    "#     (lambda: [TreeSet(do2did).use(['equal']), TreeSet(do2did).use(['child'])], MlM_gen,\n",
    "#      lambda *args, **kwargs: '', lambda q, _: f\"{q} is\",\n",
    "#     ), \n",
    "# #     (lambda: [TreeSet(pasttenses_of_verbs).use(['equal']), TreeSet(pasttenses_of_verbs).use(['child'])], MlM_gen,\n",
    "# #      lambda *args, **kwargs: '', lambda q, _: f\"Today I {q}. Yesterday I\",\n",
    "# #     ), \n",
    "#     (lambda: [TreeSet(word2capitalized).use(['equal']), TreeSet(word2capitalized).use(['child'])], MlM_gen,\n",
    "#      lambda *args, **kwargs: '', lambda q, _: f\"{q} is\",\n",
    "#     ), \n",
    "#     (lambda: [TreeSet(letter2uppercase).use(['equal']), TreeSet(letter2uppercase).use(['child'])], MlM_gen,\n",
    "#      lambda *args, **kwargs: '', lambda q, _: f\"{q} is\",\n",
    "#     ), \n",
    "#     (lambda: [TreeSet(genders_of_persons).use(['equal', 'child', 'sibling']), TreeSet(genders_of_persons).use(['equal', 'child', 'sibling'])], MlM_gen, None, None,\n",
    "#     ), \n",
    "    (lambda: [TreeSet(kinds_of_things).use(['equal', 'child', 'sibling']), TreeSet(kinds_of_things).use(['equal', 'child', 'sibling'])], rlr_gen, None, None,\n",
    "    ), \n",
    "    (lambda: [TreeSet(countries_of_cities).use(['equal', 'child', 'sibling']), TreeSet(countries_of_cities).use(['equal', 'child', 'sibling'])], MlM_gen, None, None,\n",
    "    ),\n",
    "    (lambda: fork_vocab(TreeSet(capabilities_of_things), [['equal', 'child', 'sibling']] * 2), MlM_gen, None, None,\n",
    "    ), \n",
    "    (lambda: fork_vocab(SymSet(person_adjs), [['equal'], ['opposite']]), MlM_gen, None, None,\n",
    "    ), \n",
    "    (lambda: fork_vocab(PoSet(temporal_poset), [['equal'], ['prev']]), MlM_gen, None, None,\n",
    "    ), \n",
    "    (lambda: fork_vocab(PoSet(temporal_poset), [['equal'], ['next']]), MlM_gen, None, None,\n",
    "    ), \n",
    "#     (lambda: [TreeSet(types_of_things).use(['equal']), TreeSet(types_of_things).use(['equal', 'child'])], partial(MlM_gen, cxt_sample_fn=enumerate_sample, query=1),\n",
    "#      partial(_cxt2str, item2str=lambda i, _: [f\"{i[0]} has {i[1]}\", f\"{the_(i[1])} is {i[0]}'s\"]), lambda q, _: f\"{q}\", \" likes\"\n",
    "#     ),\n",
    "]\n",
    "ins = 'So '\n",
    "# ins = 'Answer with Yes or No. So '\n",
    "# ins = 'Infer genders from names and answer with Yes or No. '\n",
    "# ins = 'Answer with Yes or No. Can it be inferred from the premise that '\n",
    "# ins = 'Infer genders from names and answer with Yes or No. Can it be inferred from the premise that '\n",
    "# ins = 'It can be inferred from the premise that '\n",
    "cxt2str = partial(_cxt2str, prefix='Answer with No or Maybe. ')\n",
    "tasks = [\n",
    "#     (lambda: [EqSet(uppercase_letters).use(['equal']), TreeSet(genders_of_persons).use(['child'])], MlM_gen,\n",
    "#      partial(_cxt2str, item2str=lambda i, _: [f\"{i[0]}'s name is {i[1]}.\", f\"{i[1]} is {i[0]}'s name.\"]), lambda q, _: f\"{q} is a\",\n",
    "#     ), \n",
    "    (lambda: [TreeSet(genders_of_persons).use(['equal', 'child', 'sibling']), TreeSet(kinds_of_things).use(['equal', 'child', 'sibling'])], partial(rlr_gen, dict_candidates=True),\n",
    "     ('', None), partial(_cxt2str, item2str=lambda i, _: [f\"{i[0]} has {(i[1])}.\", f\"{(the_(i[1], uppercase=True))} is {i[0]}'s.\"]), lambda q, _: f\"{ins}{(q)} owns\",\n",
    "#      partial(cxt2str, item2str=lambda i, _: [f\"{i[0]} has {a_(i[1])}.\", f\"{_be(the_(i[1]))} {i[0]}'s.\"]), lambda q, _: f\"Does {the_(q)} have\", # lambda q, _: f\"{the_(q)} has\",\n",
    "    ), # t: 21-5, 15-8, 19. p: 16-7, 18-5, [3-12, 13-7]. p+: 16-7, 16-0. 13-7:induction head qk, thing->type ov(lambda: [TreeSet(genders_of_persons).use(['equal', 'child', 'sibling']), TreeSet(kinds_of_things).use(['equal', 'child', 'sibling'])], partial(rlr_gen, dict_candidates=True),\n",
    "    (lambda: [TreeSet(genders_of_persons).use(['equal', 'child', 'sibling']), TreeSet(kinds_of_things).use(['equal', 'child', 'sibling'])], partial(rlr_gen, dict_candidates=True),\n",
    "     ('', None), partial(_cxt2str, item2str=lambda i, _: [f\"{i[0]} has {(i[1])}.\", f\"{(the_(i[1], uppercase=True))} is owned by {i[0]}.\"]),\n",
    "     (lambda q, _: f\"{ins}{(q)} owns\", lambda q, _: f\"{ins}{(q)} belongs to\"),\n",
    "    ),\n",
    "    (lambda: [TreeSet(genders_of_persons).use(['equal', 'child', 'sibling']), TreeSet(kinds_of_things).use(['equal', 'child', 'neg_child'])], partial(rlr_gen, dict_candidates=True),\n",
    "     ('', None), partial(_cxt2str, item2str=lambda i, _: [f\"{i[0]} has {(i[1])}.\", f\"{(the_(i[1], uppercase=True))} is {i[0]}'s.\"]), lambda q, _: f\"{(q)} owns\",\n",
    "    ),\n",
    "    (lambda: [TreeSet(genders_of_persons).use(['equal', 'child', 'sibling']), TreeSet(countries_of_cities).use(['equal', 'child', 'sibling'])], rlr_gen,\n",
    "     ('', None), partial(_cxt2str, item2str=lambda i, _: [f\"{i[0]} likes {i[1]}.\", f\"{i[1]} attracts {the_(i[0], uppercase=False)}.\"]), lambda q, _: f'{the_(q)} wants to go to',\n",
    "    ), # t: 19-12 >> 16-10 = 12-7\n",
    "    (lambda: [TreeSet(genders_of_persons).use(['equal', 'child', 'sibling']), TreeSet(countries_of_landmarks).use(['equal', 'child', 'sibling'])], rlr_gen,\n",
    "     ('', None), partial(_cxt2str, item2str=lambda i, _: [f\"{i[0]} yearns for {i[1]}.\", f\"{i[1]} attracts {the_(i[0], uppercase=False)}.\"]), lambda q, _: f'{the_(q)} wants to go to',\n",
    "    ),\n",
    "    (lambda: [TreeSet(genders_of_persons).use(['equal', 'child', 'sibling']), TreeSet(capabilities_of_things).use(['child'])], MlM_gen,\n",
    "     partial(_cxt2str, item2str=lambda i, _: [f\"{i[0]} has {a_(i[1])}.\", f\"{_be(the_(i[1]))} {i[0]}'s.\"]), lambda q, _: f\"{the_(q)} has\"\n",
    "    ),\n",
    "#     (lambda: [TreeSet(genders_of_persons).use('equal'), SymSet(person_adjs).use('equal')], MlM_gen,\n",
    "#      partial(_cxt2str, item2str=lambda i, _: [f\"{i[0]} is {i[1]}\", f\"{i[1].capitalize()} is {i[0]}\"]), lambda q, _: f\"Yes, {q} looks\", \" like\"\n",
    "#     ),\n",
    "    (lambda: [TreeSet(genders_of_persons).use(['equal', 'child']), SymSet(person_adjs).use(['similar'])], rlr_gen,\n",
    "     '', partial(_cxt2str,item2str=lambda i, _: [f\"{i[0]} is {i[1]}.\", f\"{capitalize(i[1])} {i[0]}.\"]), lambda q, _: f\"{ins}{the_(q)} is\",\n",
    "    ), # t: 16-14, somewhat 14-7 # verbose acc: gpj-j > curie-001 > davinci-001 > gpt-neox!? abstract acc: gpt-neox > gpt-j. all poor (inc. davinci-002!)\n",
    "    (lambda: [TreeSet(genders_of_persons).use(['equal', 'child']), SymSet(person_adjs).use(['opposite'])], rlr_gen,\n",
    "     '', partial(_cxt2str,item2str=lambda i, _: [f\"{i[0]} is {i[1]}.\", f\"{capitalize(i[1])} {i[0]}.\"]), lambda q, _: f\"But {the_(q)} is\",\n",
    "    ), \n",
    "#     (lambda: [TreeSet(genders_of_persons).use('equal'), PoSet(temporal_posets).use('equal')], MlM_gen,\n",
    "#      partial(_cxt2str, item2str=lambda i, _: [f'{i[0]} arrived {wrap_noun2(i[1])}', f'{wrap_noun2(i[1]).capitalize()} arrived {i[0]}']), lambda q, _: f\"So {q}'s arrival time\", ' is'\n",
    "#     ),\n",
    "    (lambda: [TreeSet(genders_of_persons).use(['equal', 'child', 'sibling']), PoSet(temporal_poset).use(['prev'])], MlM_gen,\n",
    "     partial(_cxt2str, item2str=lambda i, _: [f'{i[0]} arrived {prep_(i[1])}.', f'{capitalize(prep_(i[1]))} arrived {i[0]}.']), lambda q, _: f'{the_(q)} arrived'\n",
    "    ),\n",
    "    (lambda: [TreeSet(genders_of_persons).use(['equal', 'child', 'sibling']), PoSet(temporal_poset).use(['next'])], MlM_gen,\n",
    "     partial(_cxt2str, item2str=lambda i, _: [f'{i[0]} arrived {prep_(i[1])}.', f'{capitalize(prep_(i[1]))} arrived {i[0]}.']), lambda q, _: f'{the_(q)} arrived'\n",
    "    ),\n",
    "    \n",
    "    (lambda: [TreeSet(sports_played_by_persons).use(['equal', 'child']), TreeSet(kinds_of_things).use(['equal', 'child'])], rlr_gen,\n",
    "     '', partial(_cxt2str, item2str=lambda i, _: [f\"{i[0]} bought a {i[1]}.\", f\"{i[1]} was bought by {the_(i[0])}.\"]),\n",
    "     lambda q, _: f\"So {q} wants to buy\",\n",
    "    ),\n",
    "    (lambda: [TreeSet(countries_of_cities).use(['equal', 'child']), TreeSet(kinds_of_things).use(['equal', 'child'])], rlr_gen,\n",
    "     '', partial(_cxt2str, item2str=lambda i, _: [f\"In {i[0]} there are {i[1]}.\", f\"The {i[1]} is from {the_(i[0])}.\"]),\n",
    "     lambda q, _: f\"So {q} is famous for\",\n",
    "    ),\n",
    "]\n",
    "\n",
    "tasks_rlrlr = [\n",
    "    (lambda: [TreeSet(genders_of_persons).use(['equal', 'child', 'sibling']), TreeSet(kinds_of_things).use(['sibling', 'equal'])], rlrlr_gen,\n",
    "     '', partial(cxt2str, item2str=lambda i, _: [f\"{i[0]} has {(i[1])}.\", f\"{the_(i[1])} is {i[0]}'s.\"]), lambda q, _: f\"{ins}{q} has\",\n",
    "    ),\n",
    "    (lambda: [TreeSet(genders_of_persons).use(['child', 'sibling']), TreeSet(types_of_things).use(['sibling', 'equal'])], partial(rlrlr_gen, circled=True),\n",
    "     (rlrlr_gen),\n",
    "     partial(cxt2str, item2str=lambda i, _: [f\"{i[0]} has {a_(i[1])}.\", f\"{_be(the_(i[1]))} {i[0]}'s.\"]), lambda q, _: f\"{q} has\",\n",
    "    ),\n",
    "]"
   ]
  },
  {
   "cell_type": "code",
   "execution_count": 39,
   "id": "4b113734",
   "metadata": {},
   "outputs": [],
   "source": [
    "results = {}; key = None  # for dt in r.data_tuples: dt[-1].attn_attr.clear()"
   ]
  },
  {
   "cell_type": "code",
   "execution_count": null,
   "id": "3a697e9c",
   "metadata": {
    "collapsed": true,
    "jupyter": {
     "outputs_hidden": true
    },
    "tags": []
   },
   "outputs": [],
   "source": [
    "prefix = ' ' if isinstance(tokenizer, GPT2Tokenizer) else ''  # LlamaTokenizer\n",
    "ids = [tokenizer.encode(prefix + word, add_special_tokens=False)[0] for word in types_of_things().keys()]\n",
    "print(tokenizer.convert_ids_to_tokens(ids))\n",
    "logits_bias = torch.zeros(model.lm_head.weight.size(0))\n",
    "logits_bias[ids] = 1. if isinstance(tokenizer, GPT2Tokenizer) else 3.  # LlamaTokenizer"
   ]
  },
  {
   "cell_type": "code",
   "execution_count": 502,
   "id": "7bad5ac5",
   "metadata": {
    "jupyter": {
     "source_hidden": true
    },
    "tags": []
   },
   "outputs": [],
   "source": [
    "def filter_fn(p, c):\n",
    "    if c.layer == 0 or c.head > c.H: return False\n",
    "    pap, ap = abbreviate_attn_pattern(p.attn_pattern or ''), abbreviate_attn_pattern(c.attn_pattern)\n",
    "    return (\n",
    "        p.step == -1 and (c.layer, c.head) in [(36, c.H), ] or\n",
    "        p.step == 0 and (c.layer, c.head) in [(32, 21)] or\n",
    "        p.step == 1 and (c.layer, c.head) in [(15, c.H),] or \n",
    "        p.step == 2 and (c.layer, c.head) in [(11, c.H)] or\n",
    "        p.step == 3 and (c.layer, c.head) in [(13, c.H)]\n",
    "    )"
   ]
  },
  {
   "cell_type": "code",
   "execution_count": 20,
   "id": "c36334d6",
   "metadata": {},
   "outputs": [],
   "source": [
    "model, tokenizer = models['lmsys/vicuna-33b-v1.3@']"
   ]
  },
  {
   "cell_type": "code",
   "execution_count": 10,
   "id": "c8ff64bf",
   "metadata": {},
   "outputs": [],
   "source": [
    "# model0 = model; model = None\n",
    "model = model0"
   ]
  },
  {
   "cell_type": "code",
   "execution_count": 51,
   "id": "32c712ff",
   "metadata": {},
   "outputs": [
    {
     "name": "stdout",
     "output_type": "stream",
     "text": [
      "\n",
      "== g2c[rlr_gen][genders_of_persons.TreeSet.equal,person_adjs.SymSet.opposite][cxt_len=3] == do_g2c=counter_paired\n",
      "\n",
      "Premise: < David is irrational. Sharon is reliable. Barbara is rational. >. Answer with Yes or No. Is it possible that Barbara is irrational? Answer: No\n",
      "0.9766649736557156 0.625 0.52990625\n"
     ]
    },
    {
     "data": {
      "image/png": "[encoded data removed]",
      "text/plain": [
       "<Figure size 640x480 with 1 Axes>"
      ]
     },
     "metadata": {},
     "output_type": "display_data"
    },
    {
     "data": {
      "image/png": "[encoded data removed]",
      "text/plain": [
       "<Figure size 640x480 with 1 Axes>"
      ]
     },
     "metadata": {},
     "output_type": "display_data"
    }
   ],
   "source": [
    "# logger = TeeLogger('predict2.out', 'a')  # logger.__del__()\n",
    "nrows, k_shot = 1, 0; cxt_len = 3; save_results = False # key is not None\n",
    "batch_size = 16; verbose = False #not save_results or batch_size <= 8\n",
    "rel1_kwargs = {'x_f': None}  # {'x_f': _s, 'y_f': a_, 'skip_inv_f':False}\n",
    "for task,        rel0_i, rel1_i, do_swap_qa, do_negate, do_rm_query, rev_item2str, do_g2c in product(\n",
    "    # tasks_r[0:1], [0],[0],[False,],  [False, ],[False, ],[False,],['counter_paired']):  # for tasks0 (remove_local_hop)\n",
    "    # tasks[:1],[0,1],[1,0],[False,True],[False,],[False],[False,True],[False]):  # for tasks (with_local_hop)\n",
    "    tasks[7:8],[0],[0],[False,],[False,],[False],[False],['counter_paired']):\n",
    "    # tasks[1:2],[0],[[1, 2]],[False,],[False,],[False],[False,],['counter_paired']):\n",
    "#     tasks_rlrlr[0:1],[0,],[0],[False,],[False,],[False],[False],[True]):\n",
    "    seed(42); np.random.seed(42)\n",
    "    args = dict(cxt_len=cxt_len, rev_item2str=rev_item2str, abstract=False)\n",
    "    trans_args = dict(rel0_i=rel0_i, rel1_i=rel1_i, rel1_kwargs=rel1_kwargs, do_swap_qa=do_swap_qa, do_negate=do_negate,\n",
    "                      do_rm_query=do_rm_query, do_g2c=do_g2c)\n",
    "    task = transform_and_validate_task(task, **trans_args, **args)\n",
    "#     if task[0]()[1].relations[0].name == 'equal': continue\n",
    "    if task is None: continue\n",
    "    res_key = f'{task2str(task)}[{args2str(args)}]'  # {composed_heads2str(model)}\n",
    "#     if key and res_key != key: continue\n",
    "    print(f'\\n== {res_key} == {args2str(trans_args)}')\n",
    "    r = results[res_key] if save_results and res_key in results else None\n",
    "#     if r is not None: print('duplicate task!'); continue\n",
    "    r, _ = generate_and_predict_batch(model, tokenizer, task, nrows, k_shot, batch_size,\n",
    "            logits_bias=None, custom_forward=True, result=r,\n",
    "            counter_paired=do_g2c == 'counter_paired', verbose=verbose, **args)\n",
    "    if save_results: results[res_key] = r\n",
    "    elif True or r.mean_acc < 0.6: continue\n",
    "\n",
    "    if True or r.root is None:\n",
    "        r.root = node = add_node(None, layer=L, label_type='labels')\n",
    "    _ = attribute_tree_on(r.data_tuples, model, r.root, 2, filter_fn, topk=15, k_shot=k_shot, threshold_score=0.2,\n",
    "                          attributed_top_mlps=5, mix=True, device=None, verbose=True)"
   ]
  },
  {
   "cell_type": "code",
   "execution_count": 54,
   "id": "d63e912a",
   "metadata": {},
   "outputs": [
    {
     "data": {
      "text/plain": [
       "('Premise: < David is irrational. Sharon is reliable. Barbara is rational. >. Answer with Yes or No. Is it possible that Barbara is irrational? Answer: No\\n',\n",
       " 'Premise: < David is irrational. Sharon is reliable. Barbara is rational. >. Answer with Yes or No. Is it possible that Barbara is rational? Answer: Yes\\n',\n",
       " 'Premise: < Betty is interesting. David is quick. Dorothy is introverted. >. Answer with Yes or No. Is it possible that David is sluggish? Answer: No\\n',\n",
       " 'Premise: < Betty is interesting. David is quick. Dorothy is introverted. >. Answer with Yes or No. Is it possible that David is uninteresting? Answer: Yes\\n',\n",
       " 'Premise: < Richard is indecisive. Brian is full. Sarah is powerful. >. Answer with Yes or No. Is it possible that Richard is resolute? Answer: No\\n',\n",
       " 'Premise: < Richard is indecisive. Brian is full. Sarah is powerful. >. Answer with Yes or No. Is it possible that Richard is weak? Answer: Yes\\n',\n",
       " 'Premise: < Christopher is hardworking. Richard is unhealthy. Jason is optimistic. >. Answer with Yes or No. Is it possible that Christopher is indolent? Answer: No\\n',\n",
       " 'Premise: < Christopher is hardworking. Richard is unhealthy. Jason is optimistic. >. Answer with Yes or No. Is it possible that Christopher is healthy? Answer: Yes\\n',\n",
       " 'Premise: < Carol is incorrect. Barbara is tolerant. Margaret is attractive. >. Answer with Yes or No. Is it possible that Margaret is ugly? Answer: No\\n',\n",
       " 'Premise: < Carol is incorrect. Barbara is tolerant. Margaret is attractive. >. Answer with Yes or No. Is it possible that Margaret is correct? Answer: Yes\\n',\n",
       " 'Premise: < Steven is conventional. Kevin is unfriendly. Betty is careless. >. Answer with Yes or No. Is it possible that Steven is innovative? Answer: No\\n',\n",
       " 'Premise: < Steven is conventional. Kevin is unfriendly. Betty is careless. >. Answer with Yes or No. Is it possible that Steven is careful? Answer: Yes\\n',\n",
       " 'Premise: < Kenneth is ugly. Deborah is loyal. John is listless. >. Answer with Yes or No. Is it possible that Kenneth is attractive? Answer: No\\n',\n",
       " 'Premise: < Kenneth is ugly. Deborah is loyal. John is listless. >. Answer with Yes or No. Is it possible that Kenneth is lively? Answer: Yes\\n',\n",
       " 'Premise: < Ruth is fine. Kimberly is blunt. Laura is boring. >. Answer with Yes or No. Is it possible that Ruth is sick? Answer: No\\n',\n",
       " 'Premise: < Ruth is fine. Kimberly is blunt. Laura is boring. >. Answer with Yes or No. Is it possible that Ruth is keen? Answer: Yes\\n',\n",
       " 'Premise: < Brian is unhappy. Barbara is outgoing. Anthony is tall. >. Answer with Yes or No. Is it possible that Barbara is introverted? Answer: No\\n',\n",
       " 'Premise: < Brian is unhappy. Barbara is outgoing. Anthony is tall. >. Answer with Yes or No. Is it possible that Barbara is glad? Answer: Yes\\n',\n",
       " 'Premise: < Ronald is reserved. Deborah is gentle. Dorothy is late. >. Answer with Yes or No. Is it possible that Dorothy is timely? Answer: No\\n',\n",
       " 'Premise: < Ronald is reserved. Deborah is gentle. Dorothy is late. >. Answer with Yes or No. Is it possible that Dorothy is severe? Answer: Yes\\n',\n",
       " 'Premise: < Daniel is thoughtless. Michael is cowardly. Sandra is stingy. >. Answer with Yes or No. Is it possible that Sandra is generous? Answer: No\\n',\n",
       " 'Premise: < Daniel is thoughtless. Michael is cowardly. Sandra is stingy. >. Answer with Yes or No. Is it possible that Sandra is thoughtful? Answer: Yes\\n',\n",
       " 'Premise: < Ronald is ambitious. Ruth is loud. Edward is hostile. >. Answer with Yes or No. Is it possible that Ronald is unmotivated? Answer: No\\n',\n",
       " 'Premise: < Ronald is ambitious. Ruth is loud. Edward is hostile. >. Answer with Yes or No. Is it possible that Ronald is quiet? Answer: Yes\\n',\n",
       " 'Premise: < Lisa is sluggish. Patricia is hardworking. Donald is splotless. >. Answer with Yes or No. Is it possible that Donald is filthy? Answer: No\\n',\n",
       " 'Premise: < Lisa is sluggish. Patricia is hardworking. Donald is splotless. >. Answer with Yes or No. Is it possible that Donald is lazy? Answer: Yes\\n',\n",
       " 'Premise: < Michelle is creative. Sandra is benevolent. Ronald is impatient. >. Answer with Yes or No. Is it possible that Michelle is conventional? Answer: No\\n',\n",
       " 'Premise: < Michelle is creative. Sandra is benevolent. Ronald is impatient. >. Answer with Yes or No. Is it possible that Michelle is miserly? Answer: Yes\\n',\n",
       " 'Premise: < Patricia is inactive. Mark is dirty. James is funny. >. Answer with Yes or No. Is it possible that James is serious? Answer: No\\n',\n",
       " 'Premise: < Patricia is inactive. Mark is dirty. James is funny. >. Answer with Yes or No. Is it possible that James is active? Answer: Yes\\n',\n",
       " 'Premise: < Carol is foolish. Ronald is strong. George is clean. >. Answer with Yes or No. Is it possible that George is dirty? Answer: No\\n',\n",
       " 'Premise: < Carol is foolish. Ronald is strong. George is clean. >. Answer with Yes or No. Is it possible that George is intelligent? Answer: Yes\\n')"
      ]
     },
     "execution_count": 54,
     "metadata": {},
     "output_type": "execute_result"
    }
   ],
   "source": [
    "r.texts"
   ]
  },
  {
   "cell_type": "code",
   "execution_count": 333,
   "id": "fc31714c",
   "metadata": {},
   "outputs": [
    {
     "data": {
      "text/plain": [
       "('Premise: < David is rude. Sharon is kind. Barbara is rational. >. Answer with Yes or No. Can it be inferred from the premise that Barbara is not irrational? Answer: Yes\\n',\n",
       " 'Premise: < David is rude. Sharon is kind. Barbara is rational. >. Answer with Yes or No. Can it be inferred from the premise that Barbara is not courteous? Answer: No\\n')"
      ]
     },
     "execution_count": 333,
     "metadata": {},
     "output_type": "execute_result"
    }
   ],
   "source": [
    "0.7499721088097431 0.78125 0.67453125  7-shot\n",
    "1.1725516363221686 0.625 0.593  3-shot\n",
    "1.647858073192765 0.5625 0.55275  1-shot\n",
    "1.0376770469592884 0.65625 0.58134375 0-shot\n",
    "\n",
    "# Is it possible that\n",
    "0.9510731063783169 0.625 0.5572500000000001 7-shot\n",
    "1.3694345251715276 0.46875 0.5061249999999999 3-shot\n",
    "1.1332418613892514 0.5 0.52634375 1-shot\n",
    "0.6309064640663564 0.6875 0.6236875 0-shot"
   ]
  },
  {
   "cell_type": "code",
   "execution_count": null,
   "id": "4d64925c",
   "metadata": {},
   "outputs": [],
   "source": [
    "receiver_heads = [(15, 51)]; cls_label = 'No'; attn_pattern = 'A->Q'\n",
    "data_tuples = split_data_tuples_by_cls(r.data_tuples)[cls_label]\n",
    "attrs = {}\n",
    "for dst_rlabel in ['A', 'Q', 'dA0'][:2]:\n",
    "    attrs[dst_rlabel] = mr(patch_attribute)(data_tuples, model, dst_rlabel, receiver_heads=receiver_heads, attn_pattern=attn_pattern, k_shot=k_shot)"
   ]
  },
  {
   "cell_type": "code",
   "execution_count": 227,
   "id": "005e29bd",
   "metadata": {},
   "outputs": [
    {
     "name": "stdout",
     "output_type": "stream",
     "text": [
      "A\n"
     ]
    },
    {
     "data": {
      "image/png": "[encoded data removed]",
      "text/plain": [
       "<Figure size 640x480 with 1 Axes>"
      ]
     },
     "metadata": {},
     "output_type": "display_data"
    },
    {
     "name": "stdout",
     "output_type": "stream",
     "text": [
      "14-40 0.1147 ('A->Q', 0.07736289501190186)\n",
      "14-45 0.10693 ('A->Q', 0.4112567901611328)\n",
      "13-29 0.1052 ('A->dA0', 0.5741353034973145)\n",
      "13-40 0.0743 ('A->Q', 0.4441795349121094)\n",
      "11-36 0.0681 ('A->dA0', 0.05734333395957947)\n",
      "11-48 0.06616 ('A->dA0', 0.4166834354400635)\n",
      "12-50 0.05948 ('A->dA0', 0.6759732365608215)\n",
      "14-46 0.04794 ('A->Q', 0.09261202812194824)\n",
      "14-18 0.04276 ('A->dA0', 0.1162884533405304)\n",
      "14-5 0.04245 ('A->Q', 0.10947513580322266)\n",
      "Q\n"
     ]
    },
    {
     "data": {
      "image/png": "[encoded data removed]",
      "text/plain": [
       "<Figure size 640x480 with 1 Axes>"
      ]
     },
     "metadata": {},
     "output_type": "display_data"
    },
    {
     "name": "stdout",
     "output_type": "stream",
     "text": [
      "11-36 0.102 ('Q->nA0s+', 0.15489783883094788)\n",
      "12-37 0.08765 ('Q->Q', 0.4118614196777344)\n",
      "12-8 0.06384 ('Q->A0', 0.5516560077667236)\n",
      "13-29 0.05945 ('Q->Q', 0.2233257293701172)\n",
      "8-17 0.0396 ('Q->T+', 0.5555763244628906)\n",
      "14-18 0.0361 ('Q->T+', 0.20529937744140625)\n",
      "14-45 0.0346 ('Q->nA0s+', 0.10840463638305664)\n",
      "14-30 0.03433 ('Q->Q', 0.13706016540527344)\n",
      "13-33 0.02786 ('Q->Q', 0.09235477447509766)\n",
      "12-50 0.02704 ('Q->T', 0.3692188262939453)\n"
     ]
    }
   ],
   "source": [
    "for dst_rlabel, a in attrs.items():\n",
    "    print(dst_rlabel)\n",
    "    _ = sns.heatmap(a.cpu(), square=True, cbar=False); plt.show()\n",
    "    for l, h, score in topk_md(a, 10, transpose=True):\n",
    "        print(f'{l}-{h}', score, match_attn_pattern(data_tuples, l, h, dst_rlabel, k_shot=k_shot))"
   ]
  },
  {
   "cell_type": "code",
   "execution_count": 240,
   "id": "760fd564",
   "metadata": {},
   "outputs": [
    {
     "name": "stdout",
     "output_type": "stream",
     "text": [
      "A\n"
     ]
    },
    {
     "data": {
      "image/png": "[encoded data removed]",
      "text/plain": [
       "<Figure size 640x480 with 1 Axes>"
      ]
     },
     "metadata": {},
     "output_type": "display_data"
    },
    {
     "name": "stdout",
     "output_type": "stream",
     "text": [
      "14-45 0.1409 ('A->Q', 0.3939618468284607)\n",
      "13-29 0.1059 ('A->dA0', 0.13284754753112793)\n",
      "11-48 0.0834 ('A->dA0', 0.12427830696105957)\n",
      "14-5 0.05957 ('A->Q', 0.19652676582336426)\n",
      "14-46 0.04578 ('A->Q', 0.127914160490036)\n",
      "11-31 0.04266 ('A->dA0', 0.03852201998233795)\n",
      "14-40 0.04227 ('A->Q', 0.033447861671447754)\n",
      "8-17 0.03818 ('A->dA0', 0.04234278202056885)\n",
      "11-36 0.03763 ('A->dA0', 0.023933619260787964)\n",
      "10-5 0.03287 ('A->dA0', 0.058332040905952454)\n",
      "Q\n"
     ]
    },
    {
     "data": {
      "image/png": "[encoded data removed]",
      "text/plain": [
       "<Figure size 640x480 with 1 Axes>"
      ]
     },
     "metadata": {},
     "output_type": "display_data"
    },
    {
     "name": "stdout",
     "output_type": "stream",
     "text": [
      "11-36 0.1511 ('Q->nTs', 0.09979648143053055)\n",
      "12-8 0.10657 ('Q->A0+', 0.12244901061058044)\n",
      "11-31 0.1001 ('Q->nTs', 0.18264040350914001)\n",
      "12-18 0.0753 ('Q->A0+', 0.09045293927192688)\n",
      "12-37 0.07294 ('Q->Q', 0.3472728729248047)\n",
      "9-16 0.0651 ('Q->T', 0.5226724147796631)\n",
      "14-18 0.06058 ('Q->T+', 0.15865248441696167)\n",
      "8-37 0.04443 ('Q->T', 0.6170473098754883)\n",
      "8-17 0.03928 ('Q->T+', 0.382904052734375)\n",
      "13-43 0.0373 ('Q->Q-', 0.39485931396484375)\n"
     ]
    }
   ],
   "source": [
    "for dst_rlabel, a in attrs.items(): # sweater is owned by Kenneth? \n",
    "    print(dst_rlabel)\n",
    "    _ = sns.heatmap(a.cpu(), square=True, cbar=False); plt.show()\n",
    "    for l, h, score in topk_md(a, 10, transpose=True):\n",
    "        print(f'{l}-{h}', score, match_attn_pattern(data_tuples, l, h, dst_rlabel, k_shot=k_shot))"
   ]
  },
  {
   "cell_type": "code",
   "execution_count": 244,
   "id": "4f9b4908",
   "metadata": {},
   "outputs": [
    {
     "name": "stdout",
     "output_type": "stream",
     "text": [
      "A\n"
     ]
    },
    {
     "data": {
      "image/png": "[encoded data removed]",
      "text/plain": [
       "<Figure size 640x480 with 1 Axes>"
      ]
     },
     "metadata": {},
     "output_type": "display_data"
    },
    {
     "name": "stdout",
     "output_type": "stream",
     "text": [
      "14-45 0.177 ('A->Q', 0.3789348602294922)\n",
      "13-29 0.10034 ('A->dA0', 0.1971120834350586)\n",
      "14-5 0.07874 ('A->Q', 0.18953609466552734)\n",
      "11-48 0.07764 ('A->dA0', 0.1802436113357544)\n",
      "14-18 0.06433 ('A->Q', 0.026223182678222656)\n",
      "10-5 0.06335 ('A->dA0', 0.058476321399211884)\n",
      "11-2 0.0473 ('A->dA0', 0.16040253639221191)\n",
      "8-17 0.04715 ('A->dA0', 0.03358694911003113)\n",
      "12-4 0.04547 ('A->Q', 0.42875003814697266)\n",
      "13-42 0.04434 ('A->Q', 0.34177303314208984)\n",
      "Q\n"
     ]
    },
    {
     "data": {
      "image/png": "[encoded data removed]",
      "text/plain": [
       "<Figure size 640x480 with 1 Axes>"
      ]
     },
     "metadata": {},
     "output_type": "display_data"
    },
    {
     "name": "stdout",
     "output_type": "stream",
     "text": [
      "11-36 0.1721 ('Q->nTs', 0.09360373765230179)\n",
      "11-31 0.095 ('Q->nTs', 0.14209292829036713)\n",
      "13-29 0.09344 ('Q->T', 0.2937906086444855)\n",
      "12-37 0.0883 ('Q->Q', 0.3262519836425781)\n",
      "12-8 0.08496 ('Q->A0+', 0.1343902349472046)\n",
      "14-18 0.0818 ('Q->T+', 0.13504940271377563)\n",
      "13-43 0.07263 ('Q->Q', 0.13724589347839355)\n",
      "9-16 0.06995 ('Q->T', 0.4475225806236267)\n",
      "14-40 0.0697 ('Q->A0+', 0.10077857971191406)\n",
      "14-30 0.0684 ('Q->Q', 0.17804360389709473)\n"
     ]
    }
   ],
   "source": [
    "for dst_rlabel, a in attrs.items(): # the one who owns sweater is Kenneth?\n",
    "    print(dst_rlabel)\n",
    "    _ = sns.heatmap(a.cpu(), square=True, cbar=False); plt.show()\n",
    "    for l, h, score in topk_md(a, 10, transpose=True):\n",
    "        print(f'{l}-{h}', score, match_attn_pattern(data_tuples, l, h, dst_rlabel, k_shot=k_shot))"
   ]
  },
  {
   "cell_type": "code",
   "execution_count": 186,
   "id": "052cc373",
   "metadata": {},
   "outputs": [],
   "source": [
    "all_attrs = {}"
   ]
  },
  {
   "cell_type": "code",
   "execution_count": null,
   "id": "fff5c545",
   "metadata": {},
   "outputs": [],
   "source": [
    "dst_rlabel = 'A'\n",
    "all_outputs = None #[dt[-1] for dt in r.data_tuples]\n",
    "attrs = defaultdict(dict)\n",
    "for cls_label, data_tuples in split_data_tuples_by_cls(r.data_tuples).items():\n",
    "    attrs[dst_rlabel][cls_label] = mr(patch_attribute)(data_tuples, model, dst_rlabel, all_outputs=all_outputs, to_layer=20)\n",
    "all_attrs[res_key] = attrs"
   ]
  },
  {
   "cell_type": "code",
   "execution_count": 344,
   "id": "ee583d9f",
   "metadata": {},
   "outputs": [
    {
     "name": "stdout",
     "output_type": "stream",
     "text": [
      "g2c[rlr_gen][kinds_of_things.TreeSet.equal,kinds_of_things.TreeSet.child][cxt_len=1]\n",
      "('Answer with Yes or No. Is sweater a kind of clothing? Answer: Yes\\n',\n",
      " 'Answer with Yes or No. Is sweater a kind of weapon? Answer: No\\n')\n"
     ]
    },
    {
     "data": {
      "image/png": "[encoded data removed]",
      "text/plain": [
       "<Figure size 1000x500 with 1 Axes>"
      ]
     },
     "metadata": {},
     "output_type": "display_data"
    },
    {
     "data": {
      "text/html": [
       "<div>\n",
       "<style scoped>\n",
       "    .dataframe tbody tr th:only-of-type {\n",
       "        vertical-align: middle;\n",
       "    }\n",
       "\n",
       "    .dataframe tbody tr th {\n",
       "        vertical-align: top;\n",
       "    }\n",
       "\n",
       "    .dataframe thead th {\n",
       "        text-align: right;\n",
       "    }\n",
       "</style>\n",
       "<table border=\"1\" class=\"dataframe\">\n",
       "  <thead>\n",
       "    <tr style=\"text-align: right;\">\n",
       "      <th></th>\n",
       "      <th>head_label</th>\n",
       "      <th>sum_attr</th>\n",
       "      <th>yes_attr</th>\n",
       "      <th>no_attr</th>\n",
       "      <th>yes_ap</th>\n",
       "      <th>yes_ap_score</th>\n",
       "      <th>no_ap</th>\n",
       "      <th>no_ap_score</th>\n",
       "      <th>head_type</th>\n",
       "      <th>daw</th>\n",
       "    </tr>\n",
       "  </thead>\n",
       "  <tbody>\n",
       "    <tr>\n",
       "      <th>0</th>\n",
       "      <td>14-0 Q5</td>\n",
       "      <td>0.134766</td>\n",
       "      <td>0.000000</td>\n",
       "      <td>0.134766</td>\n",
       "      <td>A-&gt;Q</td>\n",
       "      <td>0.031480</td>\n",
       "      <td>A-&gt;Q</td>\n",
       "      <td>0.052944</td>\n",
       "      <td>No</td>\n",
       "      <td>-0.211973</td>\n",
       "    </tr>\n",
       "    <tr>\n",
       "      <th>1</th>\n",
       "      <td>13-13 Q14</td>\n",
       "      <td>0.119629</td>\n",
       "      <td>-0.020996</td>\n",
       "      <td>0.140625</td>\n",
       "      <td>A-&gt;Q</td>\n",
       "      <td>0.107545</td>\n",
       "      <td>A-&gt;Q</td>\n",
       "      <td>0.140815</td>\n",
       "      <td>No</td>\n",
       "      <td>-0.024493</td>\n",
       "    </tr>\n",
       "    <tr>\n",
       "      <th>2</th>\n",
       "      <td>15-51 Q21</td>\n",
       "      <td>0.119141</td>\n",
       "      <td>-0.020996</td>\n",
       "      <td>0.140137</td>\n",
       "      <td>A-&gt;Q</td>\n",
       "      <td>0.122168</td>\n",
       "      <td>A-&gt;Q</td>\n",
       "      <td>0.214214</td>\n",
       "      <td>No</td>\n",
       "      <td>-0.058037</td>\n",
       "    </tr>\n",
       "    <tr>\n",
       "      <th>3</th>\n",
       "      <td>6-47 Q16</td>\n",
       "      <td>0.118164</td>\n",
       "      <td>0.001465</td>\n",
       "      <td>0.116699</td>\n",
       "      <td>A-&gt;Q</td>\n",
       "      <td>0.097907</td>\n",
       "      <td>A-&gt;Q</td>\n",
       "      <td>0.162262</td>\n",
       "      <td>No</td>\n",
       "      <td>-0.059550</td>\n",
       "    </tr>\n",
       "    <tr>\n",
       "      <th>4</th>\n",
       "      <td>12-26 Q14</td>\n",
       "      <td>0.082031</td>\n",
       "      <td>0.030273</td>\n",
       "      <td>0.051758</td>\n",
       "      <td>A-&gt;Q</td>\n",
       "      <td>0.139490</td>\n",
       "      <td>A-&gt;Q</td>\n",
       "      <td>0.082416</td>\n",
       "      <td>Yes</td>\n",
       "      <td>0.048981</td>\n",
       "    </tr>\n",
       "    <tr>\n",
       "      <th>5</th>\n",
       "      <td>15-17 Q6</td>\n",
       "      <td>0.081055</td>\n",
       "      <td>0.038574</td>\n",
       "      <td>0.042480</td>\n",
       "      <td>A-&gt;Q</td>\n",
       "      <td>0.042068</td>\n",
       "      <td>A-&gt;Q</td>\n",
       "      <td>0.058837</td>\n",
       "      <td>No</td>\n",
       "      <td>-0.046196</td>\n",
       "    </tr>\n",
       "    <tr>\n",
       "      <th>6</th>\n",
       "      <td>13-3 Q1</td>\n",
       "      <td>0.071777</td>\n",
       "      <td>0.071777</td>\n",
       "      <td>0.000000</td>\n",
       "      <td>A-&gt;Q</td>\n",
       "      <td>0.013795</td>\n",
       "      <td>A-&gt;Q</td>\n",
       "      <td>0.011459</td>\n",
       "      <td>Yes</td>\n",
       "      <td>0.060322</td>\n",
       "    </tr>\n",
       "    <tr>\n",
       "      <th>7</th>\n",
       "      <td>5-43 Q23</td>\n",
       "      <td>0.065918</td>\n",
       "      <td>0.000488</td>\n",
       "      <td>0.065430</td>\n",
       "      <td>A-&gt;Q</td>\n",
       "      <td>0.055832</td>\n",
       "      <td>A-&gt;Q</td>\n",
       "      <td>0.229521</td>\n",
       "      <td>No</td>\n",
       "      <td>-0.163209</td>\n",
       "    </tr>\n",
       "    <tr>\n",
       "      <th>8</th>\n",
       "      <td>14-4 Q4</td>\n",
       "      <td>0.061035</td>\n",
       "      <td>0.000488</td>\n",
       "      <td>0.060547</td>\n",
       "      <td>A-&gt;Q</td>\n",
       "      <td>0.044431</td>\n",
       "      <td>A-&gt;Q</td>\n",
       "      <td>0.040014</td>\n",
       "      <td>No</td>\n",
       "      <td>-0.065163</td>\n",
       "    </tr>\n",
       "    <tr>\n",
       "      <th>9</th>\n",
       "      <td>14-11 Q3</td>\n",
       "      <td>0.058105</td>\n",
       "      <td>0.008789</td>\n",
       "      <td>0.049316</td>\n",
       "      <td>A-&gt;Q</td>\n",
       "      <td>0.034277</td>\n",
       "      <td>A-&gt;Q</td>\n",
       "      <td>0.024807</td>\n",
       "      <td>Yes</td>\n",
       "      <td>0.034716</td>\n",
       "    </tr>\n",
       "    <tr>\n",
       "      <th>10</th>\n",
       "      <td>9-32 Q7</td>\n",
       "      <td>0.052734</td>\n",
       "      <td>0.013184</td>\n",
       "      <td>0.039551</td>\n",
       "      <td>A-&gt;Q</td>\n",
       "      <td>0.073262</td>\n",
       "      <td>A-&gt;Q</td>\n",
       "      <td>0.040889</td>\n",
       "      <td>Yes</td>\n",
       "      <td>0.045465</td>\n",
       "    </tr>\n",
       "    <tr>\n",
       "      <th>11</th>\n",
       "      <td>11-5 Q4</td>\n",
       "      <td>0.052246</td>\n",
       "      <td>-0.001953</td>\n",
       "      <td>0.054199</td>\n",
       "      <td>A-&gt;Q</td>\n",
       "      <td>0.042420</td>\n",
       "      <td>A-&gt;Q</td>\n",
       "      <td>0.025570</td>\n",
       "      <td>Yes</td>\n",
       "      <td>0.017600</td>\n",
       "    </tr>\n",
       "    <tr>\n",
       "      <th>12</th>\n",
       "      <td>12-0 Q10</td>\n",
       "      <td>0.050293</td>\n",
       "      <td>0.005859</td>\n",
       "      <td>0.044434</td>\n",
       "      <td>A-&gt;Q</td>\n",
       "      <td>0.097456</td>\n",
       "      <td>A-&gt;Q</td>\n",
       "      <td>0.069957</td>\n",
       "      <td>Yes</td>\n",
       "      <td>0.029297</td>\n",
       "    </tr>\n",
       "    <tr>\n",
       "      <th>13</th>\n",
       "      <td>16-24 Q14</td>\n",
       "      <td>0.049316</td>\n",
       "      <td>-0.005859</td>\n",
       "      <td>0.055176</td>\n",
       "      <td>A-&gt;Q</td>\n",
       "      <td>0.137389</td>\n",
       "      <td>A-&gt;Q</td>\n",
       "      <td>0.042364</td>\n",
       "      <td>Yes</td>\n",
       "      <td>0.133326</td>\n",
       "    </tr>\n",
       "    <tr>\n",
       "      <th>14</th>\n",
       "      <td>8-15 Q12</td>\n",
       "      <td>0.047363</td>\n",
       "      <td>0.005371</td>\n",
       "      <td>0.041992</td>\n",
       "      <td>A-&gt;Q</td>\n",
       "      <td>0.073446</td>\n",
       "      <td>A-&gt;Q</td>\n",
       "      <td>0.123071</td>\n",
       "      <td>No</td>\n",
       "      <td>-0.036018</td>\n",
       "    </tr>\n",
       "    <tr>\n",
       "      <th>15</th>\n",
       "      <td>13-32 Q21</td>\n",
       "      <td>0.038086</td>\n",
       "      <td>-0.003906</td>\n",
       "      <td>0.041992</td>\n",
       "      <td>A-&gt;Q</td>\n",
       "      <td>0.045818</td>\n",
       "      <td>A-&gt;Q</td>\n",
       "      <td>0.213051</td>\n",
       "      <td>No</td>\n",
       "      <td>-0.151258</td>\n",
       "    </tr>\n",
       "    <tr>\n",
       "      <th>16</th>\n",
       "      <td>11-37 Q24</td>\n",
       "      <td>0.038086</td>\n",
       "      <td>-0.006348</td>\n",
       "      <td>0.044434</td>\n",
       "      <td>A-&gt;Q</td>\n",
       "      <td>0.054846</td>\n",
       "      <td>A-&gt;Q</td>\n",
       "      <td>0.240273</td>\n",
       "      <td>No</td>\n",
       "      <td>-0.171893</td>\n",
       "    </tr>\n",
       "    <tr>\n",
       "      <th>17</th>\n",
       "      <td>7-18 Q4</td>\n",
       "      <td>0.036621</td>\n",
       "      <td>0.018555</td>\n",
       "      <td>0.018066</td>\n",
       "      <td>A-&gt;Q</td>\n",
       "      <td>0.041501</td>\n",
       "      <td>A-&gt;Q</td>\n",
       "      <td>0.042444</td>\n",
       "      <td>Yes</td>\n",
       "      <td>0.012335</td>\n",
       "    </tr>\n",
       "    <tr>\n",
       "      <th>18</th>\n",
       "      <td>14-45 Q25</td>\n",
       "      <td>0.036621</td>\n",
       "      <td>0.025391</td>\n",
       "      <td>0.011230</td>\n",
       "      <td>A-&gt;Q</td>\n",
       "      <td>0.254802</td>\n",
       "      <td>A-&gt;Q</td>\n",
       "      <td>0.137768</td>\n",
       "      <td>Yes</td>\n",
       "      <td>0.136404</td>\n",
       "    </tr>\n",
       "    <tr>\n",
       "      <th>19</th>\n",
       "      <td>9-2 Q2</td>\n",
       "      <td>0.036133</td>\n",
       "      <td>0.030273</td>\n",
       "      <td>0.005859</td>\n",
       "      <td>A-&gt;Q</td>\n",
       "      <td>0.020100</td>\n",
       "      <td>A-&gt;Q</td>\n",
       "      <td>0.019236</td>\n",
       "      <td>Yes</td>\n",
       "      <td>0.009636</td>\n",
       "    </tr>\n",
       "  </tbody>\n",
       "</table>\n",
       "</div>"
      ],
      "text/plain": [
       "   head_label  sum_attr  yes_attr   no_attr yes_ap  yes_ap_score no_ap  \\\n",
       "0     14-0 Q5  0.134766  0.000000  0.134766   A->Q      0.031480  A->Q   \n",
       "1   13-13 Q14  0.119629 -0.020996  0.140625   A->Q      0.107545  A->Q   \n",
       "2   15-51 Q21  0.119141 -0.020996  0.140137   A->Q      0.122168  A->Q   \n",
       "3    6-47 Q16  0.118164  0.001465  0.116699   A->Q      0.097907  A->Q   \n",
       "4   12-26 Q14  0.082031  0.030273  0.051758   A->Q      0.139490  A->Q   \n",
       "5    15-17 Q6  0.081055  0.038574  0.042480   A->Q      0.042068  A->Q   \n",
       "6     13-3 Q1  0.071777  0.071777  0.000000   A->Q      0.013795  A->Q   \n",
       "7    5-43 Q23  0.065918  0.000488  0.065430   A->Q      0.055832  A->Q   \n",
       "8     14-4 Q4  0.061035  0.000488  0.060547   A->Q      0.044431  A->Q   \n",
       "9    14-11 Q3  0.058105  0.008789  0.049316   A->Q      0.034277  A->Q   \n",
       "10    9-32 Q7  0.052734  0.013184  0.039551   A->Q      0.073262  A->Q   \n",
       "11    11-5 Q4  0.052246 -0.001953  0.054199   A->Q      0.042420  A->Q   \n",
       "12   12-0 Q10  0.050293  0.005859  0.044434   A->Q      0.097456  A->Q   \n",
       "13  16-24 Q14  0.049316 -0.005859  0.055176   A->Q      0.137389  A->Q   \n",
       "14   8-15 Q12  0.047363  0.005371  0.041992   A->Q      0.073446  A->Q   \n",
       "15  13-32 Q21  0.038086 -0.003906  0.041992   A->Q      0.045818  A->Q   \n",
       "16  11-37 Q24  0.038086 -0.006348  0.044434   A->Q      0.054846  A->Q   \n",
       "17    7-18 Q4  0.036621  0.018555  0.018066   A->Q      0.041501  A->Q   \n",
       "18  14-45 Q25  0.036621  0.025391  0.011230   A->Q      0.254802  A->Q   \n",
       "19     9-2 Q2  0.036133  0.030273  0.005859   A->Q      0.020100  A->Q   \n",
       "\n",
       "    no_ap_score head_type       daw  \n",
       "0      0.052944        No -0.211973  \n",
       "1      0.140815        No -0.024493  \n",
       "2      0.214214        No -0.058037  \n",
       "3      0.162262        No -0.059550  \n",
       "4      0.082416       Yes  0.048981  \n",
       "5      0.058837        No -0.046196  \n",
       "6      0.011459       Yes  0.060322  \n",
       "7      0.229521        No -0.163209  \n",
       "8      0.040014        No -0.065163  \n",
       "9      0.024807       Yes  0.034716  \n",
       "10     0.040889       Yes  0.045465  \n",
       "11     0.025570       Yes  0.017600  \n",
       "12     0.069957       Yes  0.029297  \n",
       "13     0.042364       Yes  0.133326  \n",
       "14     0.123071        No -0.036018  \n",
       "15     0.213051        No -0.151258  \n",
       "16     0.240273        No -0.171893  \n",
       "17     0.042444       Yes  0.012335  \n",
       "18     0.137768       Yes  0.136404  \n",
       "19     0.019236       Yes  0.009636  "
      ]
     },
     "execution_count": 344,
     "metadata": {},
     "output_type": "execute_result"
    }
   ],
   "source": [
    "print(res_key); pprint(r.texts[:2])\n",
    "daws = get_attn_weight_diffs(r.data_tuples, dst_rlabel)\n",
    "pd.DataFrame(plot_yes_no_heads(r.data_tuples, attrs[dst_rlabel]['Yes'], attrs[dst_rlabel]['No'], daws, dst_range_label))"
   ]
  },
  {
   "cell_type": "code",
   "execution_count": null,
   "id": "5febc4b9",
   "metadata": {},
   "outputs": [],
   "source": [
    "print(res_key); pprint(r.texts[:2])\n",
    "daws = get_attn_weight_diffs(r.data_tuples, dst_rlabel)\n",
    "plot_yes_no_heads(attrs[dst_rlabel]['Yes'], attrs[dst_rlabel]['No'], daws)"
   ]
  },
  {
   "cell_type": "code",
   "execution_count": 350,
   "id": "d87bdf23",
   "metadata": {},
   "outputs": [
    {
     "name": "stdout",
     "output_type": "stream",
     "text": [
      "g2c[rlr_gen[dict_candidates=True]][genders_of_persons.TreeSet.equal,kinds_of_things.TreeSet.child][cxt_len=3]\n",
      "('Premise: < David has rabbit. Sharon has jacket. Barbara has bread. >. Answer '\n",
      " 'with Yes or No. Can it be inferred from the premise that Barbara owns a kind '\n",
      " 'of food? Answer: Yes\\n',\n",
      " 'Premise: < David has rabbit. Sharon has jacket. Barbara has bread. >. Answer '\n",
      " 'with Yes or No. Can it be inferred from the premise that Barbara owns a kind '\n",
      " 'of animal? Answer: No\\n')\n"
     ]
    },
    {
     "data": {
      "image/png": "[encoded data removed]",
      "text/plain": [
       "<Figure size 1000x500 with 1 Axes>"
      ]
     },
     "metadata": {},
     "output_type": "display_data"
    },
    {
     "data": {
      "text/html": [
       "<div>\n",
       "<style scoped>\n",
       "    .dataframe tbody tr th:only-of-type {\n",
       "        vertical-align: middle;\n",
       "    }\n",
       "\n",
       "    .dataframe tbody tr th {\n",
       "        vertical-align: top;\n",
       "    }\n",
       "\n",
       "    .dataframe thead th {\n",
       "        text-align: right;\n",
       "    }\n",
       "</style>\n",
       "<table border=\"1\" class=\"dataframe\">\n",
       "  <thead>\n",
       "    <tr style=\"text-align: right;\">\n",
       "      <th></th>\n",
       "      <th>head_label</th>\n",
       "      <th>sum_attr</th>\n",
       "      <th>yes_attr</th>\n",
       "      <th>no_attr</th>\n",
       "      <th>yes_ap</th>\n",
       "      <th>yes_ap_score</th>\n",
       "      <th>no_ap</th>\n",
       "      <th>no_ap_score</th>\n",
       "      <th>head_type</th>\n",
       "      <th>daw</th>\n",
       "    </tr>\n",
       "  </thead>\n",
       "  <tbody>\n",
       "    <tr>\n",
       "      <th>0</th>\n",
       "      <td>13-29 dA061</td>\n",
       "      <td>0.762695</td>\n",
       "      <td>0.825195</td>\n",
       "      <td>-0.062500</td>\n",
       "      <td>A-&gt;dA0</td>\n",
       "      <td>0.651475</td>\n",
       "      <td>A-&gt;dA0</td>\n",
       "      <td>0.605988</td>\n",
       "      <td>No</td>\n",
       "      <td>-0.172722</td>\n",
       "    </tr>\n",
       "    <tr>\n",
       "      <th>1</th>\n",
       "      <td>11-37 Q5</td>\n",
       "      <td>0.395508</td>\n",
       "      <td>-0.000977</td>\n",
       "      <td>0.396484</td>\n",
       "      <td>A-&gt;Q</td>\n",
       "      <td>0.048710</td>\n",
       "      <td>A-&gt;Q</td>\n",
       "      <td>0.046728</td>\n",
       "      <td>No</td>\n",
       "      <td>-0.049321</td>\n",
       "    </tr>\n",
       "    <tr>\n",
       "      <th>2</th>\n",
       "      <td>11-48 dA040</td>\n",
       "      <td>0.380859</td>\n",
       "      <td>0.359375</td>\n",
       "      <td>0.021484</td>\n",
       "      <td>A-&gt;dA0</td>\n",
       "      <td>0.403171</td>\n",
       "      <td>A-&gt;dA0</td>\n",
       "      <td>0.197863</td>\n",
       "      <td>Yes</td>\n",
       "      <td>0.098010</td>\n",
       "    </tr>\n",
       "    <tr>\n",
       "      <th>3</th>\n",
       "      <td>13-50 dA047</td>\n",
       "      <td>0.361328</td>\n",
       "      <td>0.500977</td>\n",
       "      <td>-0.139648</td>\n",
       "      <td>A-&gt;dA0</td>\n",
       "      <td>0.469882</td>\n",
       "      <td>A-&gt;dA0</td>\n",
       "      <td>0.308492</td>\n",
       "      <td>Yes</td>\n",
       "      <td>0.126634</td>\n",
       "    </tr>\n",
       "    <tr>\n",
       "      <th>4</th>\n",
       "      <td>14-46 Q31</td>\n",
       "      <td>0.335938</td>\n",
       "      <td>0.421875</td>\n",
       "      <td>-0.085938</td>\n",
       "      <td>A-&gt;Q</td>\n",
       "      <td>0.308350</td>\n",
       "      <td>A-&gt;Q</td>\n",
       "      <td>0.049307</td>\n",
       "      <td>Yes</td>\n",
       "      <td>0.281317</td>\n",
       "    </tr>\n",
       "    <tr>\n",
       "      <th>5</th>\n",
       "      <td>14-18 Q42</td>\n",
       "      <td>0.291992</td>\n",
       "      <td>0.342773</td>\n",
       "      <td>-0.050781</td>\n",
       "      <td>A-&gt;Q</td>\n",
       "      <td>0.418739</td>\n",
       "      <td>A-&gt;dA0</td>\n",
       "      <td>0.122834</td>\n",
       "      <td>Yes</td>\n",
       "      <td>0.349995</td>\n",
       "    </tr>\n",
       "    <tr>\n",
       "      <th>6</th>\n",
       "      <td>15-51 Q44</td>\n",
       "      <td>0.256836</td>\n",
       "      <td>-0.112305</td>\n",
       "      <td>0.369141</td>\n",
       "      <td>A-&gt;Q</td>\n",
       "      <td>0.083595</td>\n",
       "      <td>A-&gt;Q</td>\n",
       "      <td>0.437317</td>\n",
       "      <td>No</td>\n",
       "      <td>-0.373779</td>\n",
       "    </tr>\n",
       "    <tr>\n",
       "      <th>7</th>\n",
       "      <td>6-47 Q3</td>\n",
       "      <td>0.236328</td>\n",
       "      <td>0.067383</td>\n",
       "      <td>0.168945</td>\n",
       "      <td>A-&gt;dA0</td>\n",
       "      <td>0.030208</td>\n",
       "      <td>A-&gt;Q</td>\n",
       "      <td>0.030997</td>\n",
       "      <td>No</td>\n",
       "      <td>-0.017442</td>\n",
       "    </tr>\n",
       "    <tr>\n",
       "      <th>8</th>\n",
       "      <td>11-31 dA020</td>\n",
       "      <td>0.232422</td>\n",
       "      <td>0.178711</td>\n",
       "      <td>0.053711</td>\n",
       "      <td>A-&gt;dA0</td>\n",
       "      <td>0.205976</td>\n",
       "      <td>A-&gt;dA0</td>\n",
       "      <td>0.197696</td>\n",
       "      <td>No</td>\n",
       "      <td>-0.104355</td>\n",
       "    </tr>\n",
       "    <tr>\n",
       "      <th>9</th>\n",
       "      <td>13-40 Q54</td>\n",
       "      <td>0.191406</td>\n",
       "      <td>0.279297</td>\n",
       "      <td>-0.087891</td>\n",
       "      <td>A-&gt;Q</td>\n",
       "      <td>0.395035</td>\n",
       "      <td>A-&gt;Q</td>\n",
       "      <td>0.536530</td>\n",
       "      <td>No</td>\n",
       "      <td>-0.127619</td>\n",
       "    </tr>\n",
       "    <tr>\n",
       "      <th>10</th>\n",
       "      <td>11-36 dA03</td>\n",
       "      <td>0.178711</td>\n",
       "      <td>0.091797</td>\n",
       "      <td>0.086914</td>\n",
       "      <td>A-&gt;dA0</td>\n",
       "      <td>0.034544</td>\n",
       "      <td>A-&gt;dA0</td>\n",
       "      <td>0.057345</td>\n",
       "      <td>Yes</td>\n",
       "      <td>0.016480</td>\n",
       "    </tr>\n",
       "    <tr>\n",
       "      <th>11</th>\n",
       "      <td>14-0 Q20</td>\n",
       "      <td>0.141113</td>\n",
       "      <td>-0.099121</td>\n",
       "      <td>0.240234</td>\n",
       "      <td>A-&gt;Q</td>\n",
       "      <td>0.096710</td>\n",
       "      <td>A-&gt;Q</td>\n",
       "      <td>0.196281</td>\n",
       "      <td>No</td>\n",
       "      <td>-0.091944</td>\n",
       "    </tr>\n",
       "    <tr>\n",
       "      <th>12</th>\n",
       "      <td>12-32 dA029</td>\n",
       "      <td>0.138672</td>\n",
       "      <td>0.230469</td>\n",
       "      <td>-0.091797</td>\n",
       "      <td>A-&gt;dA0</td>\n",
       "      <td>0.265981</td>\n",
       "      <td>A-&gt;dA0</td>\n",
       "      <td>0.287388</td>\n",
       "      <td>No</td>\n",
       "      <td>-0.180046</td>\n",
       "    </tr>\n",
       "    <tr>\n",
       "      <th>13</th>\n",
       "      <td>12-39 Q12</td>\n",
       "      <td>0.129883</td>\n",
       "      <td>0.107422</td>\n",
       "      <td>0.022461</td>\n",
       "      <td>A-&gt;Q</td>\n",
       "      <td>0.061724</td>\n",
       "      <td>A-&gt;Q</td>\n",
       "      <td>0.123775</td>\n",
       "      <td>No</td>\n",
       "      <td>-0.063168</td>\n",
       "    </tr>\n",
       "    <tr>\n",
       "      <th>14</th>\n",
       "      <td>8-44 Q0</td>\n",
       "      <td>0.125000</td>\n",
       "      <td>0.015625</td>\n",
       "      <td>0.109375</td>\n",
       "      <td>A-&gt;Q</td>\n",
       "      <td>0.002269</td>\n",
       "      <td>A-&gt;Q</td>\n",
       "      <td>0.002640</td>\n",
       "      <td>No</td>\n",
       "      <td>-0.033283</td>\n",
       "    </tr>\n",
       "    <tr>\n",
       "      <th>15</th>\n",
       "      <td>12-13 dA019</td>\n",
       "      <td>0.122070</td>\n",
       "      <td>0.087891</td>\n",
       "      <td>0.034180</td>\n",
       "      <td>A-&gt;dA0</td>\n",
       "      <td>0.193756</td>\n",
       "      <td>A-&gt;dA0</td>\n",
       "      <td>0.082071</td>\n",
       "      <td>Yes</td>\n",
       "      <td>0.093587</td>\n",
       "    </tr>\n",
       "    <tr>\n",
       "      <th>16</th>\n",
       "      <td>9-32 dA03</td>\n",
       "      <td>0.110352</td>\n",
       "      <td>0.019531</td>\n",
       "      <td>0.090820</td>\n",
       "      <td>A-&gt;dA0</td>\n",
       "      <td>0.056336</td>\n",
       "      <td>A-&gt;dA0</td>\n",
       "      <td>0.034481</td>\n",
       "      <td>No</td>\n",
       "      <td>-0.006941</td>\n",
       "    </tr>\n",
       "    <tr>\n",
       "      <th>17</th>\n",
       "      <td>14-7 Q32</td>\n",
       "      <td>0.105957</td>\n",
       "      <td>-0.247559</td>\n",
       "      <td>0.353516</td>\n",
       "      <td>A-&gt;Q</td>\n",
       "      <td>0.098221</td>\n",
       "      <td>A-&gt;Q</td>\n",
       "      <td>0.324326</td>\n",
       "      <td>No</td>\n",
       "      <td>-0.167854</td>\n",
       "    </tr>\n",
       "    <tr>\n",
       "      <th>18</th>\n",
       "      <td>14-30 dA03</td>\n",
       "      <td>0.103516</td>\n",
       "      <td>0.125000</td>\n",
       "      <td>-0.021484</td>\n",
       "      <td>A-&gt;dA0</td>\n",
       "      <td>0.030595</td>\n",
       "      <td>A-&gt;Q</td>\n",
       "      <td>0.024336</td>\n",
       "      <td>Yes</td>\n",
       "      <td>0.005766</td>\n",
       "    </tr>\n",
       "    <tr>\n",
       "      <th>19</th>\n",
       "      <td>10-36 Q3</td>\n",
       "      <td>0.101562</td>\n",
       "      <td>0.088867</td>\n",
       "      <td>0.012695</td>\n",
       "      <td>A-&gt;Q</td>\n",
       "      <td>0.025501</td>\n",
       "      <td>A-&gt;Q</td>\n",
       "      <td>0.028214</td>\n",
       "      <td>No</td>\n",
       "      <td>-0.106018</td>\n",
       "    </tr>\n",
       "  </tbody>\n",
       "</table>\n",
       "</div>"
      ],
      "text/plain": [
       "     head_label  sum_attr  yes_attr   no_attr  yes_ap  yes_ap_score   no_ap  \\\n",
       "0   13-29 dA061  0.762695  0.825195 -0.062500  A->dA0      0.651475  A->dA0   \n",
       "1      11-37 Q5  0.395508 -0.000977  0.396484    A->Q      0.048710    A->Q   \n",
       "2   11-48 dA040  0.380859  0.359375  0.021484  A->dA0      0.403171  A->dA0   \n",
       "3   13-50 dA047  0.361328  0.500977 -0.139648  A->dA0      0.469882  A->dA0   \n",
       "4     14-46 Q31  0.335938  0.421875 -0.085938    A->Q      0.308350    A->Q   \n",
       "5     14-18 Q42  0.291992  0.342773 -0.050781    A->Q      0.418739  A->dA0   \n",
       "6     15-51 Q44  0.256836 -0.112305  0.369141    A->Q      0.083595    A->Q   \n",
       "7       6-47 Q3  0.236328  0.067383  0.168945  A->dA0      0.030208    A->Q   \n",
       "8   11-31 dA020  0.232422  0.178711  0.053711  A->dA0      0.205976  A->dA0   \n",
       "9     13-40 Q54  0.191406  0.279297 -0.087891    A->Q      0.395035    A->Q   \n",
       "10   11-36 dA03  0.178711  0.091797  0.086914  A->dA0      0.034544  A->dA0   \n",
       "11     14-0 Q20  0.141113 -0.099121  0.240234    A->Q      0.096710    A->Q   \n",
       "12  12-32 dA029  0.138672  0.230469 -0.091797  A->dA0      0.265981  A->dA0   \n",
       "13    12-39 Q12  0.129883  0.107422  0.022461    A->Q      0.061724    A->Q   \n",
       "14      8-44 Q0  0.125000  0.015625  0.109375    A->Q      0.002269    A->Q   \n",
       "15  12-13 dA019  0.122070  0.087891  0.034180  A->dA0      0.193756  A->dA0   \n",
       "16    9-32 dA03  0.110352  0.019531  0.090820  A->dA0      0.056336  A->dA0   \n",
       "17     14-7 Q32  0.105957 -0.247559  0.353516    A->Q      0.098221    A->Q   \n",
       "18   14-30 dA03  0.103516  0.125000 -0.021484  A->dA0      0.030595    A->Q   \n",
       "19     10-36 Q3  0.101562  0.088867  0.012695    A->Q      0.025501    A->Q   \n",
       "\n",
       "    no_ap_score head_type       daw  \n",
       "0      0.605988        No -0.172722  \n",
       "1      0.046728        No -0.049321  \n",
       "2      0.197863       Yes  0.098010  \n",
       "3      0.308492       Yes  0.126634  \n",
       "4      0.049307       Yes  0.281317  \n",
       "5      0.122834       Yes  0.349995  \n",
       "6      0.437317        No -0.373779  \n",
       "7      0.030997        No -0.017442  \n",
       "8      0.197696        No -0.104355  \n",
       "9      0.536530        No -0.127619  \n",
       "10     0.057345       Yes  0.016480  \n",
       "11     0.196281        No -0.091944  \n",
       "12     0.287388        No -0.180046  \n",
       "13     0.123775        No -0.063168  \n",
       "14     0.002640        No -0.033283  \n",
       "15     0.082071       Yes  0.093587  \n",
       "16     0.034481        No -0.006941  \n",
       "17     0.324326        No -0.167854  \n",
       "18     0.024336       Yes  0.005766  \n",
       "19     0.028214        No -0.106018  "
      ]
     },
     "execution_count": 350,
     "metadata": {},
     "output_type": "execute_result"
    }
   ],
   "source": [
    "print(res_key); pprint(r.texts[:2])\n",
    "daws = get_attn_weight_diffs(r.data_tuples, dst_rlabel)\n",
    "pd.DataFrame(plot_yes_no_heads(r.data_tuples, attrs[dst_rlabel]['Yes'], attrs[dst_rlabel]['No'], daws, dst_rlabel))"
   ]
  },
  {
   "cell_type": "code",
   "execution_count": null,
   "id": "0da190d3",
   "metadata": {
    "scrolled": false
   },
   "outputs": [],
   "source": [
    "layer, head = 14, 18\n",
    "width = 5 * 2; rows = len(r.data_tuples) // 2 // 2\n",
    "_, axs = plt.subplots(rows, 2, figsize=(width * 2, width * rows))\n",
    "for (text, input_ids, labels, ranges, *_, o), ax in zip(r.data_tuples, axs.flatten()):\n",
    "    tokens = tokenizer.convert_ids_to_tokens(input_ids[0])\n",
    "    a = o.attentions[layer][0, head]\n",
    "    y_pos = list(range(*get_range(ranges[-1], restore_attn_pattern('A'))))\n",
    "    x_pos = list(range(*get_range(ranges[-1], restore_attn_pattern('Q'))))\n",
    "    _ = _plot_attn(a, tokens=tokens, y_pos=y_pos, x_pos=x_pos, figsize=(5, 5), fontsize=9, ax=ax)"
   ]
  },
  {
   "cell_type": "code",
   "execution_count": 504,
   "id": "b54394d2",
   "metadata": {},
   "outputs": [
    {
     "name": "stdout",
     "output_type": "stream",
     "text": [
      " ┌@[0,1,3,4,7,8] 44-m,45-m,25-m,59-m,29-22 21,36-m 21 B->B 57\n",
      " ├@[5] 35-35 B->A+ 6\n",
      " ├@[2,6] 32-21,39-40 28 unk 0\n",
      " ├@0 44-m 100\n",
      " ├@1 45-m 66\n",
      " ├@3 25-m 44\n",
      " ├@4 59-m 39\n",
      " ├@7 29-22 21 B->B 40/30\n",
      " ├@8 36-m 21\n",
      " ├@5 35-35 33 B->A+ 63/33\n",
      " ├@2 32-21 48 B->A] 55/45\n",
      " ├@6 39-40 28 B->A0 0/3\n",
      " ┤\n",
      " │         ┌@[1,3,4,5,6,7,8] 34-m,24-m,22-m,29-22,28-m,36-26 29,20-m 27 B->B 42\n",
      " │         ├@[2,9] 18-22,24-47 25 B->A+ 22\n",
      " │         ├@[0] 32-21 B->A] 5\n",
      " │         ├@1 34-m 59\n",
      " │         ├@3 24-m 42\n",
      " │         ├@4 22-m 37\n",
      " │         ├@5 29-22 36 B->B 36/30\n",
      " │         ├@6 28-m 32\n",
      " │         ├@7 36-26 29 B->B 7/4\n",
      " │         ├@8 20-m 27\n",
      " │         ├@2 18-22 48 B->A+ 85/83\n",
      " │         ├@9 24-47 25 B->A+ 84/70\n",
      " │         ├@0 32-21 100 B->A] 60/45\n",
      " └36-m B->B┤\n",
      "           │           ┌@:15 14-m,15-m,17-m,12-m,20-m,17-40,26-m,28-m 29,21-9 25,27-m 25,8-m 25,24-m 24,25-m 24,11-m 23,10-m 22 A]->A] 88\n",
      "           │           ├@0 14-m 100\n",
      "           │           ├@1 15-m 94\n",
      "           │           ├@2 17-m 52\n",
      "           │           ├@3 12-m 46\n",
      "           │           ├@4 20-m 43\n",
      "           │           ├@5 17-40 37 A]->A] 23/12\n",
      "           │           ├@6 26-m 31\n",
      "           │           ├@7 28-m 29\n",
      "           │           ├@8 21-9 25 A]->A] 0/0\n",
      "           │           ├@9 27-m 25\n",
      "           │           ├@10 8-m 25\n",
      "           └32-21 B->A]┤\n",
      "                       ├@11 24-m 24\n",
      "                       ├@12 25-m 24\n",
      "                       ├@13 11-m 23\n",
      "                       ├@14 10-m 22\n",
      "                       │           ┌@:6 14-m,11-m,6-m 25,7-m 22,10-4 21,13-m 20 A]->A] 64\n",
      "                       │           ├@0 14-m 100\n",
      "                       │           ├@1 11-m 94\n",
      "                       └15-m A]->A]┤\n",
      "                                   ├@2 6-m 25\n",
      "                                   ├@3 7-m 22\n",
      "                                   ├@4 10-4 21 A]->A] 58/19\n",
      "                                   └@5 13-m 20\n"
     ]
    }
   ],
   "source": [
    "print_tree(r.root)"
   ]
  },
  {
   "cell_type": "code",
   "execution_count": null,
   "id": "97663407",
   "metadata": {
    "collapsed": true
   },
   "outputs": [],
   "source": [
    "layer = 20\n",
    "YNs, hiddens = [], []\n",
    "for text, input_ids, labels, ranges, *_, o in r.data_tuples:\n",
    "    YN = 'g' if text.strip().endswith('Yes') else 'r'\n",
    "    gate = o.mlp_gates[layer][0, ranges[1].ans[1] + 1 - 1]\n",
    "    pre_act = o.mlp_pre_acts[layer][0, ranges[1].ans[1] + 1 - 1]\n",
    "    YNs.append(YN)\n",
    "    hiddens.append((pre_act).numpy())\n",
    "hiddens = np.array(hiddens)\n",
    "fisher_discriminant_ratio(YNs, hiddens, labels=['g', 'r'], plot=False)\n",
    "visualize_by_pca(hiddens, YNs)"
   ]
  },
  {
   "cell_type": "code",
   "execution_count": 481,
   "id": "84b2b723",
   "metadata": {},
   "outputs": [],
   "source": [
    "mask_neurons={44: 3504, 36: 14120, 25: 5507, 20: 5080, 21: 8322, 12: 9483, 19: [6387, 5351], 15: 5657}\n",
    "layer, range_label = [(44, 'B'), (36, 'B'), (25, 'B'), (21, 'A+'), (20, 'B'), (15, 'A')][-1]\n",
    "average_activations(r.data_tuples, layer, range_label, neuron_idx=mask_neurons[layer])"
   ]
  },
  {
   "cell_type": "code",
   "execution_count": 480,
   "id": "b70415e2",
   "metadata": {},
   "outputs": [],
   "source": [
    "remove_avg_activations(r.data_tuples, 15)"
   ]
  },
  {
   "cell_type": "code",
   "execution_count": 495,
   "id": "dd3c5581",
   "metadata": {},
   "outputs": [
    {
     "data": {
      "text/plain": [
       "'11-m A]->A]'"
      ]
     },
     "execution_count": 495,
     "metadata": {},
     "output_type": "execute_result"
    }
   ],
   "source": [
    "node = r.root.children[-1].children[-1].children[-1].children[-1]#.children[-1]#.children[-1]#.children[-1]\n",
    "node.name"
   ]
  },
  {
   "cell_type": "code",
   "execution_count": 497,
   "id": "88a4353c",
   "metadata": {
    "collapsed": true
   },
   "outputs": [
    {
     "name": "stdout",
     "output_type": "stream",
     "text": [
      "36-m B->B ag -> 32-21 B->A] -> 14-m,15-m A]->A] -> 11-m A]->A] -> 5-43 + 7-39\n",
      "gx [-1.3242188  -1.3818359   1.421875   -1.3447266  -1.1806641  -1.3242188\n",
      " -1.3525391  -1.2919922  -1.3164062  -0.9472656  -1.2539062  -1.3857422\n",
      " -1.421875   -1.2939453  -1.4589844  -1.1806641  -1.2841797  -1.2949219\n",
      " -1.3867188  -0.44262695]\n",
      "rx [-1.3447266 -1.4287109 -1.5898438 -0.6977539 -1.4833984 -1.2949219\n",
      " -1.6025391 -1.3369141 -1.4023438 -1.5527344  1.5507812 -1.453125 ]\n"
     ]
    },
    {
     "data": {
      "image/png": "[encoded data removed]",
      "text/plain": [
       "<Figure size 640x480 with 1 Axes>"
      ]
     },
     "metadata": {},
     "output_type": "display_data"
    },
    {
     "name": "stdout",
     "output_type": "stream",
     "text": [
      "reduced_ap_scores = tensor([1.0244], device='cuda:0', dtype=torch.float16) tensor(1.0244, device='cuda:0', dtype=torch.float16)\n"
     ]
    }
   ],
   "source": [
    "# for cls_label, data_tuples in split_data_tuples_by_cls(r.data_tuples[:16]).items():\n",
    "for data_tuples in [r.data_tuples[:]]:\n",
    "    plot_attn_attrs(data_tuples, model, tokenizer, node, topi=[0,4], attn_patterns=['B->A+'], k_shot=k_shot, mix=True)"
   ]
  },
  {
   "cell_type": "code",
   "execution_count": 423,
   "id": "eb70c1f5",
   "metadata": {
    "collapsed": true
   },
   "outputs": [
    {
     "data": {
      "text/plain": [
       "(array([15, 15, 14, 11, 14, 15,  9, 16,  7, 16]),\n",
       " array([52, 51,  1, 52, 46, 49, 52, 24, 52, 13]),\n",
       " array([7.35415146e-04, 2.74766237e-04, 1.14372000e-04, 1.06185675e-04,\n",
       "        1.02911144e-04, 1.02246180e-04, 9.59876925e-05, 9.10721719e-05,\n",
       "        8.95019621e-05, 7.28592277e-05], dtype=float32))"
      ]
     },
     "execution_count": 423,
     "metadata": {},
     "output_type": "execute_result"
    }
   ],
   "source": [
    "topk_md(get_head_mlp_attr(node.data.attr), 10)"
   ]
  },
  {
   "cell_type": "code",
   "execution_count": 177,
   "id": "46ef4a25",
   "metadata": {
    "collapsed": true
   },
   "outputs": [
    {
     "data": {
      "text/plain": [
       "'29-3 > 19-24,18-18 attn > 17-32,17-28 attn'"
      ]
     },
     "execution_count": 177,
     "metadata": {},
     "output_type": "execute_result"
    },
    {
     "data": {
      "text/plain": [
       "{(16, 51): tensor(0.),\n",
       " (16, 10): tensor(0.),\n",
       " (15, 4): tensor(0.),\n",
       " (15, 51): tensor(0.),\n",
       " (12, 18): tensor(0.),\n",
       " (11, 1): tensor(0.)}"
      ]
     },
     "execution_count": 177,
     "metadata": {},
     "output_type": "execute_result"
    }
   ],
   "source": [
    "node_key = node2key(node); node_key\n",
    "mr(get_head_matching_scores)(r.data_tuples, ap, node_key=node_key, k_shot=k_shot)"
   ]
  },
  {
   "cell_type": "code",
   "execution_count": 202,
   "id": "d8c9603b",
   "metadata": {},
   "outputs": [],
   "source": [
    "text, input_ids, labels, ranges, *args, o = r.data_tuples[-8]\n",
    "attn_labels, ranges_q = attn_pattern2labels(ranges, ap, o.attentions[0].size()[-2:], k_shot=k_shot)"
   ]
  },
  {
   "cell_type": "code",
   "execution_count": 196,
   "id": "34fe02e8",
   "metadata": {
    "collapsed": true
   },
   "outputs": [
    {
     "data": {
      "text/plain": [
       "{'ans]->ans0]': 0.0,\n",
       " 'ans]->ans0+': 0.0,\n",
       " 'ans]->ans-': 0.0,\n",
       " 'ans]->query': 0.0,\n",
       " 'ans]->ans+^': 0.0,\n",
       " 'ans]->query+': 0.0,\n",
       " 'ans]->query|query+': 0.0,\n",
       " 'ans]->bos^': 0.0,\n",
       " 'ans]->ntgts+': 0.0,\n",
       " 'ans]->nans0s': 0.0,\n",
       " 'ans]->ans]': 0.0}"
      ]
     },
     "execution_count": 196,
     "metadata": {},
     "output_type": "execute_result"
    }
   ],
   "source": [
    "layer, head = 14, 18\n",
    "pd = node.data\n",
    "{ap: v[layer, head].item() for ap, v in pd.attr_ap_scores.items()}"
   ]
  },
  {
   "cell_type": "code",
   "execution_count": 318,
   "id": "9a113934",
   "metadata": {},
   "outputs": [],
   "source": [
    "# node.data.base_layer, node.data.base_head = tuple(map(list, (zip(*[(16,14),(16, 39), (14, 18), (14, 46)]))))\n",
    "node.data.base_layer, node.data.base_head = tuple(map(list, (zip(*[(16,14),(16, 39), (13, 50)]))))\n",
    "# nodes.append(node)"
   ]
  },
  {
   "cell_type": "code",
   "execution_count": 404,
   "id": "f95e2fb9",
   "metadata": {},
   "outputs": [],
   "source": [
    "node.data.mask_patterns = {(18,22): 'A+->A]|A+', (19,2): 'A+->A]|A+',}  # 19-m"
   ]
  },
  {
   "cell_type": "code",
   "execution_count": 108,
   "id": "eb61547c",
   "metadata": {},
   "outputs": [],
   "source": [
    "# we = to(model.transformer.wte.weight.data, 'cpu')\n",
    "# wu = to(model.lm_head.weight.data, 'cpu')\n",
    "we = model.transformer.wte.weight.data\n",
    "wu = model.lm_head.weight.data\n",
    "\n",
    "es = [we]\n",
    "for b in blocks[:1]: es.append(es[-1] + mlp_forward(b, es[-1])[0])"
   ]
  },
  {
   "cell_type": "code",
   "execution_count": 111,
   "id": "c92efed8",
   "metadata": {
    "collapsed": true,
    "jupyter": {
     "outputs_hidden": true
    }
   },
   "outputs": [
    {
     "ename": "RuntimeError",
     "evalue": "This function was deprecated since version 1.9 and is now removed. Please use the `torch.linalg.eig` function instead.",
     "output_type": "error",
     "traceback": [
      "\u001b[0;31m---------------------------------------------------------------------------\u001b[0m",
      "\u001b[0;31mRuntimeError\u001b[0m                              Traceback (most recent call last)",
      "Cell \u001b[0;32mIn[111], line 14\u001b[0m\n\u001b[1;32m     12\u001b[0m     A, B \u001b[38;5;241m=\u001b[39m wu \u001b[38;5;241m@\u001b[39m wo\u001b[38;5;241m.\u001b[39mT, e \u001b[38;5;241m@\u001b[39m wv  \u001b[38;5;66;03m#  wu, ln_f(e @ wv @ wo)  # slow for eig\u001b[39;00m\n\u001b[1;32m     13\u001b[0m     m \u001b[38;5;241m=\u001b[39m wu \u001b[38;5;241m@\u001b[39m ln_f(B \u001b[38;5;241m@\u001b[39m wo)\u001b[38;5;241m.\u001b[39mT  \u001b[38;5;66;03m# a little better than A @ B.T\u001b[39;00m\n\u001b[0;32m---> 14\u001b[0m plot_eigv((B\u001b[38;5;241m.\u001b[39mT \u001b[38;5;241m@\u001b[39m A)\u001b[38;5;241m.\u001b[39meig()[\u001b[38;5;241m0\u001b[39m])\n",
      "File \u001b[0;32m~/miniconda3/envs/tune/lib/python3.11/site-packages/torch/_tensor.py:662\u001b[0m, in \u001b[0;36mTensor.eig\u001b[0;34m(self, eigenvectors)\u001b[0m\n\u001b[1;32m    659\u001b[0m \u001b[38;5;28;01mdef\u001b[39;00m \u001b[38;5;21meig\u001b[39m(\u001b[38;5;28mself\u001b[39m, eigenvectors\u001b[38;5;241m=\u001b[39m\u001b[38;5;28;01mFalse\u001b[39;00m):\n\u001b[1;32m    660\u001b[0m     \u001b[38;5;28;01mfrom\u001b[39;00m \u001b[38;5;21;01m.\u001b[39;00m\u001b[38;5;21;01m_linalg_utils\u001b[39;00m \u001b[38;5;28;01mimport\u001b[39;00m eig\n\u001b[0;32m--> 662\u001b[0m     \u001b[38;5;28;01mreturn\u001b[39;00m eig(\u001b[38;5;28mself\u001b[39m, eigenvectors\u001b[38;5;241m=\u001b[39meigenvectors)\n",
      "File \u001b[0;32m~/miniconda3/envs/tune/lib/python3.11/site-packages/torch/_linalg_utils.py:127\u001b[0m, in \u001b[0;36meig\u001b[0;34m(self, eigenvectors, e, v)\u001b[0m\n\u001b[1;32m    124\u001b[0m \u001b[38;5;28;01mdef\u001b[39;00m \u001b[38;5;21meig\u001b[39m(\n\u001b[1;32m    125\u001b[0m     \u001b[38;5;28mself\u001b[39m: Tensor, eigenvectors: \u001b[38;5;28mbool\u001b[39m \u001b[38;5;241m=\u001b[39m \u001b[38;5;28;01mFalse\u001b[39;00m, \u001b[38;5;241m*\u001b[39m, e\u001b[38;5;241m=\u001b[39m\u001b[38;5;28;01mNone\u001b[39;00m, v\u001b[38;5;241m=\u001b[39m\u001b[38;5;28;01mNone\u001b[39;00m\n\u001b[1;32m    126\u001b[0m ) \u001b[38;5;241m-\u001b[39m\u001b[38;5;241m>\u001b[39m Tuple[Tensor, Tensor]:\n\u001b[0;32m--> 127\u001b[0m     \u001b[38;5;28;01mraise\u001b[39;00m \u001b[38;5;167;01mRuntimeError\u001b[39;00m(\n\u001b[1;32m    128\u001b[0m         \u001b[38;5;124m\"\u001b[39m\u001b[38;5;124mThis function was deprecated since version 1.9 and is now removed. Please use the `torch.linalg.eig` function instead.\u001b[39m\u001b[38;5;124m\"\u001b[39m,\n\u001b[1;32m    129\u001b[0m     )\n",
      "\u001b[0;31mRuntimeError\u001b[0m: This function was deprecated since version 1.9 and is now removed. Please use the `torch.linalg.eig` function instead."
     ]
    }
   ],
   "source": [
    "layer, head = 36, 26\n",
    "wq, wk, wv, wo = get_head_weights(model, layer, head, transpose=True)\n",
    "e = blocks[layer].ln_1(es[1])\n",
    "\n",
    "qk = False\n",
    "if qk:\n",
    "    # e @ wq @ wk @ e\n",
    "    A, B = e @ wq, e @ wk\n",
    "    m = A @ B.T\n",
    "else:\n",
    "    # @ wv @ wo @ wu.T\n",
    "    A, B = wu @ wo.T, e @ wv  #  wu, ln_f(e @ wv @ wo)  # slow for eig\n",
    "    m = wu @ ln_f(B @ wo).T  # a little better than A @ B.T\n",
    "plot_eigv(torch.linalg.eig(to(B.T @ A, 'cpu'))[0])"
   ]
  },
  {
   "cell_type": "code",
   "execution_count": null,
   "id": "aac7ce0e",
   "metadata": {
    "collapsed": true,
    "jupyter": {
     "outputs_hidden": true
    }
   },
   "outputs": [],
   "source": [
    "plot_eigv(torch.linalg.eig(to(B.T @ A, 'cpu'))[0])"
   ]
  },
  {
   "cell_type": "code",
   "execution_count": 139,
   "id": "3863a12e",
   "metadata": {},
   "outputs": [
    {
     "data": {
      "text/plain": [
       "{'▁yes': 54,\n",
       " '▁Yes': 53,\n",
       " '▁no': 53,\n",
       " 'Yes': 52,\n",
       " '▁No': 52,\n",
       " 'No': 52,\n",
       " '▁YES': 51,\n",
       " '▁NO': 49,\n",
       " 'no': 48,\n",
       " 'YES': 46,\n",
       " 'yes': 46,\n",
       " 'NO': 45,\n",
       " '▁ano': 34,\n",
       " '▁Kno': 32,\n",
       " '▁yeah': 31,\n",
       " 'nof': 31,\n",
       " 'nos': 31,\n",
       " '▁Ye': 31,\n",
       " '▁não': 31,\n",
       " '▁nos': 29}"
      ]
     },
     "execution_count": 139,
     "metadata": {},
     "output_type": "execute_result"
    }
   ],
   "source": [
    "lookup_top_entries(tokenizer, m, 'yes')"
   ]
  },
  {
   "cell_type": "code",
   "execution_count": 88,
   "id": "3eb1a35c",
   "metadata": {},
   "outputs": [
    {
     "data": {
      "text/plain": [
       "'11-12,9-5 B->Q attn:B->~<s>'"
      ]
     },
     "execution_count": 88,
     "metadata": {},
     "output_type": "execute_result"
    }
   ],
   "source": [
    "node = r.root.children[-4].children[-1]; node.name"
   ]
  },
  {
   "cell_type": "code",
   "execution_count": null,
   "id": "75e7f37f",
   "metadata": {},
   "outputs": [],
   "source": [
    "plot_attn_attrs(r.data_tuples[:1], model, tokenizer, node, topi=[1], attn_patterns=['B->B'], k_shot=k_shot+4, mix=False)"
   ]
  },
  {
   "cell_type": "code",
   "execution_count": null,
   "id": "435f910b",
   "metadata": {},
   "outputs": [],
   "source": [
    "for data_tuple in data_tuples[:3]:\n",
    "    plot_attn_attr(data_tuple, model, tokenizer, node, 13, 7, attn_patterns=['bos->ans0]'], k_shot=0, plot_attr=False)"
   ]
  },
  {
   "cell_type": "code",
   "execution_count": null,
   "id": "835266e7",
   "metadata": {},
   "outputs": [],
   "source": [
    "node = node.parent"
   ]
  },
  {
   "cell_type": "code",
   "execution_count": null,
   "id": "5ce14dd7",
   "metadata": {},
   "outputs": [],
   "source": [
    "print(key); print('\\n'.join(result.texts[-1].split('\\n')[:1]))\n",
    "node = result.node = add_node(node, topi=[0,1,2,3,4])#layer=11, head=12, attn_pattern='bos->query]', label_type='argmax_attn_labels')"
   ]
  },
  {
   "cell_type": "code",
   "execution_count": null,
   "id": "e6f4dd81",
   "metadata": {},
   "outputs": [],
   "source": [
    "key = 'MlM_gen(genders_of_persons.TreeSet.equal, types_of_things.TreeSet.child) (cxt_len=3)'; result = results[key]\n",
    "node, data_tuples = show_result(result)"
   ]
  },
  {
   "cell_type": "code",
   "execution_count": null,
   "id": "75aebe41",
   "metadata": {},
   "outputs": [],
   "source": [
    "for data_tuple in data_tuples[:3]:\n",
    "    plot_attn_attr(data_tuple, model, tokenizer, node, 13, 7, attn_patterns=['bos->ans0]'], k_shot=0, plot_attr=False)"
   ]
  },
  {
   "cell_type": "code",
   "execution_count": null,
   "id": "d0701ae6",
   "metadata": {},
   "outputs": [],
   "source": [
    "plot_attn_attrs(data_tuples[:3], model, tokenizer, node, topi=[0,1,2], k_shot=k_shot, mix=False)"
   ]
  },
  {
   "cell_type": "code",
   "execution_count": null,
   "id": "409bc0b1",
   "metadata": {},
   "outputs": [],
   "source": [
    "node = result.root"
   ]
  },
  {
   "cell_type": "code",
   "execution_count": null,
   "id": "f9d23ade",
   "metadata": {},
   "outputs": [],
   "source": [
    "print(key); print('\\n'.join(result.texts[-1].split('\\n')[:1]))\n",
    "node = result.node = add_node(node, topi=[0,1,2])#, attn_pattern='bos->query]', label_type='argmax_attn_labels')"
   ]
  },
  {
   "cell_type": "code",
   "execution_count": null,
   "id": "d9e179ef",
   "metadata": {},
   "outputs": [],
   "source": [
    "print(key); node = result.node = add_node(node, topi=[0,1,2,3,4,5])#attn_pattern='bos->ans0]', label_type='argmax_attn_labels')"
   ]
  },
  {
   "cell_type": "code",
   "execution_count": null,
   "id": "badcf5b1",
   "metadata": {},
   "outputs": [],
   "source": [
    "key = 'MlM_gen(genders_of_persons.TreeSet.equal, types_of_things.TreeSet.equal) (cxt_len=3)'; result = results[key]\n",
    "node, data_tuples = show_result(result)"
   ]
  },
  {
   "cell_type": "code",
   "execution_count": null,
   "id": "363fbf25",
   "metadata": {},
   "outputs": [],
   "source": [
    "for data_tuple in data_tuples[:]:\n",
    "    plot_attn_attr(data_tuple, model, tokenizer, node, 11, 12, attn_patterns=['bos->query]'], k_shot=0, plot_attr=False)"
   ]
  },
  {
   "cell_type": "code",
   "execution_count": null,
   "id": "91db824e",
   "metadata": {},
   "outputs": [],
   "source": [
    "plot_attn_attrs(data_tuples[:3], model, tokenizer, node, topi=[0,1], k_shot=k_shot)"
   ]
  },
  {
   "cell_type": "code",
   "execution_count": null,
   "id": "2f897ca2",
   "metadata": {},
   "outputs": [],
   "source": [
    "node = result.root"
   ]
  },
  {
   "cell_type": "code",
   "execution_count": null,
   "id": "07867280",
   "metadata": {},
   "outputs": [],
   "source": [
    "print(key); print('\\n'.join(result.texts[-1].split('\\n')[:1]))\n",
    "node = result.node = add_node(node, topi=[0,1,2,3,4,5])#, label_type='argmax_attn_labels')"
   ]
  },
  {
   "cell_type": "code",
   "execution_count": null,
   "id": "20113f68",
   "metadata": {},
   "outputs": [],
   "source": [
    "print(key); node = result.node = add_node(node, topi=[0])#, attn_pattern='bos->query]', label_type='argmax_attn_labels')"
   ]
  },
  {
   "cell_type": "code",
   "execution_count": null,
   "id": "568fca95",
   "metadata": {},
   "outputs": [],
   "source": [
    "for head_chain in product([(8, 7), (6, 2)], [(13, 13), (9, 14), (12, 10)], [(16, 7)]):\n",
    "    print(head_chain, plot_eigv(weightprod(model, list(head_chain), 'e vo vo qk e', weBTA=model.weBTAs[0]), plot=False))"
   ]
  },
  {
   "cell_type": "markdown",
   "id": "19e0b598",
   "metadata": {},
   "source": [
    "### person_adjs.opposite"
   ]
  },
  {
   "cell_type": "code",
   "execution_count": null,
   "id": "89b7d463",
   "metadata": {},
   "outputs": [],
   "source": [
    "for key, result in results.items(): print(f\"{key}: {result.mean_loss:.3f}, {result.mean_acc}\")"
   ]
  },
  {
   "cell_type": "code",
   "execution_count": null,
   "id": "f5cbe1f9",
   "metadata": {},
   "outputs": [],
   "source": [
    "key = 'MlM_gen(persons.EqSet.equal, person_adjs.SymSet.opposite) (cxt_len=3, abstract=0)_4-6/6-10->4-8_1-7/6-2/8-7->7-9'; result = results[key]\n",
    "node, data_tuples = show_result(result)"
   ]
  },
  {
   "cell_type": "code",
   "execution_count": null,
   "id": "fdd48aa2",
   "metadata": {},
   "outputs": [],
   "source": [
    "plot_attn_attrs(data_tuples[:3], model, tokenizer, node, topi=[0,1,2], k_shot=k_shot, mix=False)"
   ]
  },
  {
   "cell_type": "code",
   "execution_count": null,
   "id": "1d8a9671",
   "metadata": {},
   "outputs": [],
   "source": [
    "node = result.root"
   ]
  },
  {
   "cell_type": "code",
   "execution_count": null,
   "id": "c41bbb00",
   "metadata": {},
   "outputs": [],
   "source": [
    "print(key); node = result.node = add_node(node, topi=[0,1])#, label_type='argmax_attn_labels')"
   ]
  },
  {
   "cell_type": "code",
   "execution_count": null,
   "id": "485bccad",
   "metadata": {},
   "outputs": [],
   "source": [
    "key = 'MlM_gen(persons.EqSet.equal, person_adjs.SymSet.opposite) (cxt_len=3, abstract=0)_4-6qk->4-8_6-2qk->7-9'; result = results[key]\n",
    "node, data_tuples = show_result(result)"
   ]
  },
  {
   "cell_type": "code",
   "execution_count": null,
   "id": "6f5d093a",
   "metadata": {},
   "outputs": [],
   "source": [
    "node = node.parent"
   ]
  },
  {
   "cell_type": "code",
   "execution_count": null,
   "id": "0e64a876",
   "metadata": {},
   "outputs": [],
   "source": [
    "plot_attn_attrs(data_tuples[:4], model, tokenizer, node, topi=[0,1,2,3], head_attr_fn=get_head_mlp_attr, k_shot=k_shot)"
   ]
  },
  {
   "cell_type": "code",
   "execution_count": null,
   "id": "9a4ed844",
   "metadata": {},
   "outputs": [],
   "source": [
    "print(key); node = result.node = add_node(node, topi=[0,1,2,3]) #label_type='argmax_attn_labels', attn_pattern='bos->query]') # "
   ]
  },
  {
   "cell_type": "code",
   "execution_count": null,
   "id": "1aa60022",
   "metadata": {},
   "outputs": [],
   "source": [
    "key = 'MlM_gen(persons.EqSet.equal, person_adjs.SymSet.opposite) (cxt_len=3, abstract=0)'; result = results[key]\n",
    "node, data_tuples = show_result(result)"
   ]
  },
  {
   "cell_type": "code",
   "execution_count": null,
   "id": "f8f031a4",
   "metadata": {},
   "outputs": [],
   "source": [
    "node = node.parent"
   ]
  },
  {
   "cell_type": "code",
   "execution_count": null,
   "id": "f50dc477",
   "metadata": {},
   "outputs": [],
   "source": [
    "plot_attn_attrs(data_tuples[:4], model, tokenizer, node, topi=[0], head_attr_fn=get_head_mlp_attr, k_shot=k_shot)  # "
   ]
  },
  {
   "cell_type": "code",
   "execution_count": null,
   "id": "7f131da8",
   "metadata": {},
   "outputs": [],
   "source": [
    "print(key); node = result.node = add_node(node, topi=[0,1], head_attr_fn=get_head_mlp_attr)#label_type='argmax_attn_labels', attn_pattern='bos->query]') # "
   ]
  },
  {
   "cell_type": "code",
   "execution_count": null,
   "id": "b64dce0d",
   "metadata": {},
   "outputs": [],
   "source": [
    "key = 'MlM_gen(persons.EqSet.equal, person_adjs.SymSet.equal) (cxt_len=3, abstract=0)'; result = results[key]\n",
    "node, data_tuples = show_result(result)"
   ]
  },
  {
   "cell_type": "code",
   "execution_count": null,
   "id": "ee9ba16b",
   "metadata": {},
   "outputs": [],
   "source": [
    "plot_attn_attrs(data_tuples[:4], model, tokenizer, node, topi=[0,1,4,5], k_shot=k_shot)  # "
   ]
  },
  {
   "cell_type": "code",
   "execution_count": null,
   "id": "807a0cfd",
   "metadata": {},
   "outputs": [],
   "source": [
    "forked_node_k.k_node = q_node; forked_node_k.model = model\n",
    "del forked_node_k.k_node; del forked_node_k.model"
   ]
  },
  {
   "cell_type": "code",
   "execution_count": null,
   "id": "dd81ed2e",
   "metadata": {},
   "outputs": [],
   "source": [
    "forked_node.k_node = k_node; forked_node.model = model\n",
    "del forked_node.k_node; del forked_node.model"
   ]
  },
  {
   "cell_type": "code",
   "execution_count": null,
   "id": "75612c6b",
   "metadata": {},
   "outputs": [],
   "source": [
    "node = node.parent.parent"
   ]
  },
  {
   "cell_type": "code",
   "execution_count": null,
   "id": "30875b28",
   "metadata": {},
   "outputs": [],
   "source": [
    "print(key); node = result.node = add_node(node, topi=[0,1,2,3]) #label_type='attn_labels', attn_pattern='bos->query]', step=0, attribute_k=True) # "
   ]
  },
  {
   "cell_type": "code",
   "execution_count": null,
   "id": "cf0a6332",
   "metadata": {},
   "outputs": [],
   "source": [
    "key = 'MlM_gen(persons.EqSet.equal, person_adjs.SymSet.equal) (cxt_len=2, abstract=0)'; result = results[key]\n",
    "node, data_tuples = show_result(result)"
   ]
  },
  {
   "cell_type": "code",
   "execution_count": null,
   "id": "74cd8143",
   "metadata": {},
   "outputs": [],
   "source": [
    "plot_attn_attrs(data_tuples[:4], model, tokenizer, node, topi=[0,1,2], head_attr_fn=get_head_mlp_attr, k_shot=k_shot)  # "
   ]
  },
  {
   "cell_type": "code",
   "execution_count": null,
   "id": "c19ed26b",
   "metadata": {},
   "outputs": [],
   "source": [
    "key = 'MlM_gen(persons.EqSet.equal, person_adjs.SymSet.opposite) (cxt_len=2, abstract=0)'; result = results[key]\n",
    "node, data_tuples = show_result(result)"
   ]
  },
  {
   "cell_type": "code",
   "execution_count": null,
   "id": "8cdf2869",
   "metadata": {},
   "outputs": [],
   "source": [
    "plot_attn_attrs(data_tuples[:4], model, tokenizer, node, topi=[0], k_shot=k_shot)  # head_attr_fn=get_head_mlp_attr, "
   ]
  },
  {
   "cell_type": "code",
   "execution_count": null,
   "id": "47e03775",
   "metadata": {},
   "outputs": [],
   "source": [
    "plot_attn_attrs(data_tuples[:4], model, tokenizer, node, topi=[0,2], head_attr_fn=get_head_mlp_attr, k_shot=k_shot, mix=True)"
   ]
  },
  {
   "cell_type": "code",
   "execution_count": null,
   "id": "a86219f3",
   "metadata": {},
   "outputs": [],
   "source": [
    "plot_attn_attrs(data_tuples[:4], model, tokenizer, node, topi=[0,1,2,3], head_attr_fn=get_head_mlp_attr, k_shot=k_shot, mix=True)  # "
   ]
  },
  {
   "cell_type": "code",
   "execution_count": null,
   "id": "65baa7c5",
   "metadata": {},
   "outputs": [],
   "source": [
    "for data_tuple in data_tuples[:4]: plot_attn_attr(data_tuple, model, tokenizer, node, 7, 9, attn_patterns=['bos->ans0]'], k_shot=k_shot, plot_attr=False)"
   ]
  },
  {
   "cell_type": "code",
   "execution_count": null,
   "id": "3713a89f",
   "metadata": {},
   "outputs": [],
   "source": [
    "node = node.children[1]"
   ]
  },
  {
   "cell_type": "code",
   "execution_count": null,
   "id": "17929199",
   "metadata": {},
   "outputs": [],
   "source": [
    "print(key); node = result.node = add_node(node, topi=[0,1,2], head_attr_fn=get_head_mlp_attr)# label_type='attn_labels')  # "
   ]
  },
  {
   "cell_type": "markdown",
   "id": "079866a0",
   "metadata": {},
   "source": [
    "### thing->type"
   ]
  },
  {
   "cell_type": "code",
   "execution_count": null,
   "id": "342b97df",
   "metadata": {},
   "outputs": [],
   "source": [
    "for key, result in results.items(): print(f\"{key}: {result.mean_loss:.3f}, {result.mean_acc}\")"
   ]
  },
  {
   "cell_type": "code",
   "execution_count": null,
   "id": "691139e6",
   "metadata": {},
   "outputs": [],
   "source": [
    "key = 'MlM_gen(persons.EqSet.equal, types_of_things.TreeSet.equal) (cxt_len=2, abstract=0)'; result = results[key]\n",
    "node, data_tuples = show_result(result)"
   ]
  },
  {
   "cell_type": "code",
   "execution_count": null,
   "id": "155c3d7d",
   "metadata": {},
   "outputs": [],
   "source": [
    "plot_attn_attrs(data_tuples[:4], model, tokenizer, node, topi=[0,1], head_attr_fn=get_head_mlp_attr, k_shot=k_shot)"
   ]
  },
  {
   "cell_type": "code",
   "execution_count": null,
   "id": "77e1fc52",
   "metadata": {},
   "outputs": [],
   "source": [
    "node.name"
   ]
  },
  {
   "cell_type": "code",
   "execution_count": null,
   "id": "7f94d610",
   "metadata": {},
   "outputs": [],
   "source": [
    "print(key); node = result.node = add_node(node, topi=[0,2,4], head_attr_fn=get_head_mlp_attr)#, label_type='argmax_attn_labels')  # "
   ]
  },
  {
   "cell_type": "code",
   "execution_count": null,
   "id": "a03ffba0",
   "metadata": {},
   "outputs": [],
   "source": [
    "key = 'MlM_gen(persons.EqSet.equal, types_of_things.TreeSet.parent) (cxt_len=2, abstract=0)'; result = results[key]\n",
    "node, data_tuples = show_result(result)"
   ]
  },
  {
   "cell_type": "code",
   "execution_count": null,
   "id": "95222719",
   "metadata": {},
   "outputs": [],
   "source": [
    "for data_tuple in data_tuples[:4]: plot_attn_attr(data_tuple, model, tokenizer, node, 16, 7, attn_patterns=['bos->ans0]'], k_shot=k_shot, plot_attr=False)"
   ]
  },
  {
   "cell_type": "code",
   "execution_count": null,
   "id": "014caa38",
   "metadata": {},
   "outputs": [],
   "source": [
    "plot_attn_attrs(data_tuples[:4], model, tokenizer, node, topi=[0,1,2,3], head_attr_fn=get_head_mlp_attr, k_shot=k_shot)"
   ]
  },
  {
   "cell_type": "code",
   "execution_count": null,
   "id": "9ae8689e",
   "metadata": {},
   "outputs": [],
   "source": [
    "node = node.parent.parent"
   ]
  },
  {
   "cell_type": "code",
   "execution_count": null,
   "id": "f9476640",
   "metadata": {},
   "outputs": [],
   "source": [
    "print(key); node = result.node = add_node(node, layer=16, head=7, topi=[0], head_attr_fn=get_head_mlp_attr)#, label_type=f'argmax_attn_labels')  # "
   ]
  },
  {
   "cell_type": "code",
   "execution_count": null,
   "id": "22f07fab",
   "metadata": {},
   "outputs": [],
   "source": [
    "print(key); node = result.node = add_node(node, topi=[0], head_attr_fn=get_head_mlp_attr)#, label_type=f'argmax_attn_labels')"
   ]
  },
  {
   "cell_type": "markdown",
   "id": "cdb4e419",
   "metadata": {},
   "source": [
    "### fr->en"
   ]
  },
  {
   "cell_type": "code",
   "execution_count": null,
   "id": "7f0101f9",
   "metadata": {},
   "outputs": [],
   "source": [
    "for key, result in results.items(): print(f\"{key}: {result.mean_loss:.3f}, {result.mean_acc}\")"
   ]
  },
  {
   "cell_type": "code",
   "execution_count": null,
   "id": "d156659e",
   "metadata": {},
   "outputs": [],
   "source": [
    "key = 'MlM_gen(persons.EqSet.equal, en2fr.TreeSet.parent) (cxt_len=1, abstract=0)'; result = results[key]\n",
    "node, data_tuples = show_result(result, topk=15)"
   ]
  },
  {
   "cell_type": "code",
   "execution_count": null,
   "id": "e8c870a3",
   "metadata": {},
   "outputs": [],
   "source": [
    "print(key); node = result.node = add_node(node, topi=[0,1,2,3,4,5])"
   ]
  },
  {
   "cell_type": "code",
   "execution_count": null,
   "id": "c07ef9bf",
   "metadata": {},
   "outputs": [],
   "source": [
    "analyze_head_chains(model, get_head2scores(node));"
   ]
  },
  {
   "cell_type": "code",
   "execution_count": null,
   "id": "b752617c",
   "metadata": {},
   "outputs": [],
   "source": [
    "key = 'MlM_gen(persons.EqSet.equal, en2fr.TreeSet.parent) (cxt_len=2, abstract=0)'; result = results[key]\n",
    "node, data_tuples = show_result(result, topk=15)"
   ]
  },
  {
   "cell_type": "code",
   "execution_count": null,
   "id": "46e9bc7a",
   "metadata": {},
   "outputs": [],
   "source": [
    "plot_attn_attrs(data_tuples, model, tokenizer, node, topi=[0,1,2], k_shot=k_shot)"
   ]
  },
  {
   "cell_type": "code",
   "execution_count": null,
   "id": "697be2f3",
   "metadata": {},
   "outputs": [],
   "source": [
    "print(key); node = add_node_to_result(result, topi=[0,1,2], label_type='argmax_attn_labels')  # head_attr_fn=get_head_mlp_attr"
   ]
  },
  {
   "cell_type": "code",
   "execution_count": null,
   "id": "b0b8bb95",
   "metadata": {},
   "outputs": [],
   "source": [
    "analyze_head_chains(model, get_head2scores(result.root.children[1].children[0].children[0]))"
   ]
  },
  {
   "cell_type": "markdown",
   "id": "68713987",
   "metadata": {},
   "source": [
    "### did->does"
   ]
  },
  {
   "cell_type": "code",
   "execution_count": null,
   "id": "a83926d2",
   "metadata": {},
   "outputs": [],
   "source": [
    "for key, result in results.items(): print(f\"{key}: {result.mean_loss:.3f}, {result.mean_acc}\")"
   ]
  },
  {
   "cell_type": "code",
   "execution_count": null,
   "id": "d38f701b",
   "metadata": {},
   "outputs": [],
   "source": [
    "key = 'MlM_gen(persons.EqSet.equal, does2did.TreeSet.parent) (cxt_len=1, abstract=0)'; result = results[key]\n",
    "node, data_tuples = show_result(result, topk=15)"
   ]
  },
  {
   "cell_type": "code",
   "execution_count": null,
   "id": "0b511c94",
   "metadata": {},
   "outputs": [],
   "source": [
    "plot_attn_attrs(data_tuples[:4], model, tokenizer, node.parent.parent.parent, topi=[0,1], head_attr_fn=get_head_mlp_attr, mix=True)"
   ]
  },
  {
   "cell_type": "code",
   "execution_count": null,
   "id": "5fb9f0c1",
   "metadata": {},
   "outputs": [],
   "source": [
    "for text, input_ids, labels, ranges, *args, o in data_tuples:\n",
    "    show_predictions(tokenizer, *args, logits=o.logits, labels=labels, k_shot=k_shot, topk=3)[0]"
   ]
  },
  {
   "cell_type": "code",
   "execution_count": null,
   "id": "9790bcc9",
   "metadata": {},
   "outputs": [],
   "source": [
    "result.node = result.node.parent.parent.parent\n",
    "result.node = result.root"
   ]
  },
  {
   "cell_type": "code",
   "execution_count": null,
   "id": "657592c8",
   "metadata": {},
   "outputs": [],
   "source": [
    "print(key); node = add_node_to_result(result, topi=[1,0,2,7], head_attr_fn=get_head_mlp_attr, label_type='attn_labels')  # head_attr_fn=get_head_mlp_attr"
   ]
  },
  {
   "cell_type": "code",
   "execution_count": null,
   "id": "bb091b94",
   "metadata": {},
   "outputs": [],
   "source": [
    "for data_tuple in data_tuples:\n",
    "    plot_attn_attr(data_tuple, model, tokenizer, node, 17, 16, attn_patterns=None, k_shot=0, plot_attr=False)"
   ]
  },
  {
   "cell_type": "code",
   "execution_count": null,
   "id": "6a0c3bcd",
   "metadata": {},
   "outputs": [],
   "source": [
    "interpret_circuit(model, tokenizer, result.task, node.parent, topi=[0,1,6,7,10])"
   ]
  },
  {
   "cell_type": "code",
   "execution_count": null,
   "id": "27296b00",
   "metadata": {},
   "outputs": [],
   "source": [
    "plot_attn_attrs(data_tuples[:4], model, tokenizer, node, topi=[0, 1, 2], k_shot=k_shot)  # head_attr_fn=get_head_mlp_attr"
   ]
  },
  {
   "cell_type": "code",
   "execution_count": null,
   "id": "c0185b90",
   "metadata": {},
   "outputs": [],
   "source": [
    "key = 'MlM_gen(persons.EqSet.equal, does2did.TreeSet.equal) (cxt_len=2, abstract=0)'; result = results[key]\n",
    "node, data_tuples = show_result(result, topk=10)"
   ]
  },
  {
   "cell_type": "code",
   "execution_count": null,
   "id": "24e7c66e",
   "metadata": {},
   "outputs": [],
   "source": [
    "plot_attn_attrs(data_tuples[:4], model, tokenizer, node, topi=[0, 7], head_attr_fn=get_head_mlp_attr)"
   ]
  },
  {
   "cell_type": "code",
   "execution_count": null,
   "id": "6460cf49",
   "metadata": {},
   "outputs": [],
   "source": [
    "print(key); node = add_node_to_result(result, topi=[0,1,2,3])"
   ]
  },
  {
   "cell_type": "code",
   "execution_count": null,
   "id": "b3de5818",
   "metadata": {},
   "outputs": [],
   "source": [
    "analyze_head_chains(model, get_head2scores(node));"
   ]
  },
  {
   "cell_type": "code",
   "execution_count": null,
   "id": "a01df267",
   "metadata": {},
   "outputs": [],
   "source": [
    "key = 'MlM_gen(persons.EqSet.equal, does2did.TreeSet.parent) (cxt_len=2, abstract=0)'; result = results[key]\n",
    "node, data_tuples = show_result(result, topk=15)"
   ]
  },
  {
   "cell_type": "code",
   "execution_count": null,
   "id": "b619a4dd",
   "metadata": {},
   "outputs": [],
   "source": [
    "print(key); node = add_node_to_result(result, topi=[0,1,2,3], label_type='attn_labels')  # head_attr_fn=get_head_mlp_attr, "
   ]
  },
  {
   "cell_type": "markdown",
   "id": "5a102409",
   "metadata": {},
   "source": [
    "### thing->capability"
   ]
  },
  {
   "cell_type": "code",
   "execution_count": null,
   "id": "2eb25f94",
   "metadata": {},
   "outputs": [],
   "source": [
    "for key, result in results.items(): print(f\"{key}: {result.mean_loss:.3f}, {result.mean_acc}\")"
   ]
  },
  {
   "cell_type": "code",
   "execution_count": null,
   "id": "d4d207a4",
   "metadata": {},
   "outputs": [],
   "source": [
    "key = 'MlM_gen(persons.EqSet.equal, capabilities_of_things.TreeSet.parent) (cxt_len=1, abstract=0)'; result = results[key]\n",
    "node, data_tuples = show_result(result)"
   ]
  },
  {
   "cell_type": "code",
   "execution_count": null,
   "id": "689b07c3",
   "metadata": {},
   "outputs": [],
   "source": [
    "interpret_circuit(model, tokenizer, result.task, node, topi=[0, 1, 2])"
   ]
  },
  {
   "cell_type": "code",
   "execution_count": null,
   "id": "3e8d310a",
   "metadata": {},
   "outputs": [],
   "source": [
    "interpret_circuit(model, tokenizer, result.task, node, topi=[0, 1])"
   ]
  },
  {
   "cell_type": "code",
   "execution_count": null,
   "id": "f0541f9e",
   "metadata": {},
   "outputs": [],
   "source": [
    "print(key); node = add_node_to_result(result, topi=[0,1])"
   ]
  },
  {
   "cell_type": "code",
   "execution_count": null,
   "id": "759696a5",
   "metadata": {},
   "outputs": [],
   "source": [
    "key = 'MlM_gen(persons.EqSet.equal, capabilities_of_things.TreeSet.equal) (cxt_len=2, abstract=0)'; result = results[key]\n",
    "node, data_tuples = show_result(result)"
   ]
  },
  {
   "cell_type": "code",
   "execution_count": null,
   "id": "6fc85adc",
   "metadata": {},
   "outputs": [],
   "source": [
    "print(key); node = add_node_to_result(result, topi=[2,1,3,0])"
   ]
  },
  {
   "cell_type": "code",
   "execution_count": null,
   "id": "bd405a88",
   "metadata": {},
   "outputs": [],
   "source": [
    "analyze_head_chains(model, get_head2scores(node));"
   ]
  },
  {
   "cell_type": "code",
   "execution_count": null,
   "id": "8615ea4e",
   "metadata": {},
   "outputs": [],
   "source": [
    "key = 'MlM_gen(persons.EqSet.equal, capabilities_of_things.TreeSet.parent) (cxt_len=2, abstract=0)'; result = results[key]\n",
    "node, data_tuples = show_result(result)"
   ]
  },
  {
   "cell_type": "code",
   "execution_count": null,
   "id": "b4f2e785",
   "metadata": {},
   "outputs": [],
   "source": [
    "for text, input_ids, labels, ranges, *args, o in data_tuples:\n",
    "    loss, top1_corrects, answer_probs, candidate_probs = show_predictions(\n",
    "        tokenizer, *args, logits=o.logits, labels=labels, loss_reduction='mean',\n",
    "        candidates=None, k_shot=k_shot, topk=3, verbose=True)\n",
    "    print(loss)"
   ]
  },
  {
   "cell_type": "code",
   "execution_count": null,
   "id": "854622df",
   "metadata": {},
   "outputs": [],
   "source": [
    "plot_attn_attrs(data_tuples[:4], model, tokenizer, node.parent.parent.parent, topi=[0], k_shot=k_shot)"
   ]
  },
  {
   "cell_type": "code",
   "execution_count": null,
   "id": "4126b548",
   "metadata": {},
   "outputs": [],
   "source": [
    "plot_attn_attrs(data_tuples[:4], model, tokenizer, node, topi=[0, 1, 2, 3], k_shot=k_shot, plot_attr=False)"
   ]
  },
  {
   "cell_type": "code",
   "execution_count": null,
   "id": "99d60291",
   "metadata": {},
   "outputs": [],
   "source": [
    "print(key); node = add_node_to_result(result, topi=[1,2,0], label_type='argmax_attn_labels')"
   ]
  },
  {
   "cell_type": "markdown",
   "id": "a04c9c89",
   "metadata": {},
   "source": [
    "### capital->country"
   ]
  },
  {
   "cell_type": "code",
   "execution_count": null,
   "id": "87f5c5e1",
   "metadata": {},
   "outputs": [],
   "source": [
    "for key, result in results.items(): print(f\"{key}: {result.mean_loss:.3f}, {result.mean_acc}\")"
   ]
  },
  {
   "cell_type": "code",
   "execution_count": null,
   "id": "5bb37da5",
   "metadata": {},
   "outputs": [],
   "source": [
    "key = 'MlM_gen(persons.EqSet.equal, country2capital.TreeSet.parent) (cxt_len=1, abstract=0)'; result = results[key]\n",
    "node, data_tuples = show_result(result)"
   ]
  },
  {
   "cell_type": "code",
   "execution_count": null,
   "id": "55ffef5f",
   "metadata": {},
   "outputs": [],
   "source": [
    "interpret_circuit(model, tokenizer, result.task, node, topi=[0, 1, 2])"
   ]
  },
  {
   "cell_type": "code",
   "execution_count": null,
   "id": "3dd05881",
   "metadata": {},
   "outputs": [],
   "source": [
    "print(key); node = add_node_to_result(result, topi=[0])"
   ]
  },
  {
   "cell_type": "code",
   "execution_count": null,
   "id": "28882636",
   "metadata": {},
   "outputs": [],
   "source": [
    "key = 'MlM_gen(persons.EqSet.equal, country2capital.TreeSet.equal) (cxt_len=2, abstract=0)'; result = results[key]\n",
    "node, data_tuples = show_result(result)"
   ]
  },
  {
   "cell_type": "code",
   "execution_count": null,
   "id": "63db07d4",
   "metadata": {},
   "outputs": [],
   "source": [
    "print(key); node = add_node_to_result(result, topi=[0,1])"
   ]
  },
  {
   "cell_type": "code",
   "execution_count": null,
   "id": "060f0c84",
   "metadata": {},
   "outputs": [],
   "source": [
    "key = 'MlM_gen(persons.EqSet.equal, country2capital.TreeSet.parent) (cxt_len=2, abstract=0)'; result = results[key]\n",
    "node, data_tuples = show_result(result)"
   ]
  },
  {
   "cell_type": "code",
   "execution_count": null,
   "id": "7a0cebe8",
   "metadata": {},
   "outputs": [],
   "source": [
    "print(key); node = add_node_to_result(result, topi=[0,1,2])#, label_type='argmax_attn_labels')"
   ]
  },
  {
   "cell_type": "markdown",
   "id": "8261a178",
   "metadata": {},
   "source": [
    "### person_adjs.opposite"
   ]
  },
  {
   "cell_type": "code",
   "execution_count": null,
   "id": "d291a627",
   "metadata": {},
   "outputs": [],
   "source": [
    "for key, result in results.items(): print(f\"{key}: {result.mean_loss:.3f}, {result.mean_acc}\")"
   ]
  },
  {
   "cell_type": "code",
   "execution_count": null,
   "id": "423b3633",
   "metadata": {
    "scrolled": true
   },
   "outputs": [],
   "source": [
    "key = 'MlM_gen(persons.EqSet.equal, person_adjs.SymSet.opposite) (cxt_len=1, abstract=0)'; result = results[key]\n",
    "node, data_tuples = show_result(result)"
   ]
  },
  {
   "cell_type": "code",
   "execution_count": null,
   "id": "c8ebe210",
   "metadata": {},
   "outputs": [],
   "source": [
    "print(key); node = add_node_to_result(result, topi=[0])"
   ]
  },
  {
   "cell_type": "code",
   "execution_count": null,
   "id": "542c29d5",
   "metadata": {},
   "outputs": [],
   "source": [
    "key = 'MlM_gen(persons.EqSet.equal, person_adjs.SymSet.equal) (cxt_len=2, abstract=0)'; result = results[key]\n",
    "node, data_tuples = show_result(result)"
   ]
  },
  {
   "cell_type": "code",
   "execution_count": null,
   "id": "34a0c127",
   "metadata": {},
   "outputs": [],
   "source": [
    "print(key); node = add_node_to_result(result, topi=[0,1,2,3,4])"
   ]
  },
  {
   "cell_type": "code",
   "execution_count": null,
   "id": "66abd13c",
   "metadata": {},
   "outputs": [],
   "source": [
    "key = 'MlM_gen(persons.EqSet.equal, person_adjs.SymSet.opposite) (cxt_len=2, abstract=0)'; result = results[key]\n",
    "node, data_tuples = show_result(result)"
   ]
  },
  {
   "cell_type": "code",
   "execution_count": null,
   "id": "b9a226df",
   "metadata": {},
   "outputs": [],
   "source": [
    "print(key); node = add_node_to_result(result, topi=[0,])#, label_type='attn_labels')"
   ]
  },
  {
   "cell_type": "markdown",
   "id": "51d8dd04",
   "metadata": {},
   "source": [
    "### thing->type"
   ]
  },
  {
   "cell_type": "code",
   "execution_count": null,
   "id": "22d50e84",
   "metadata": {},
   "outputs": [],
   "source": [
    "for key, result in results.items(): print(f\"{key}: {result.mean_loss:.3f}, {result.mean_acc}\")  # old full"
   ]
  },
  {
   "cell_type": "code",
   "execution_count": null,
   "id": "d45e7be3",
   "metadata": {},
   "outputs": [],
   "source": [
    "key = 'MlM_gen(persons.EqSet.equal, types_of_things.TreeSet.parent) (cxt_len=1, abstract=0)'; result = results[key]\n",
    "node, data_tuples = show_result(result)"
   ]
  },
  {
   "cell_type": "code",
   "execution_count": null,
   "id": "fe516f4a",
   "metadata": {},
   "outputs": [],
   "source": [
    "print(key); node = add_node_to_result(result, topi=[1, 2])"
   ]
  },
  {
   "cell_type": "code",
   "execution_count": null,
   "id": "94799e16",
   "metadata": {},
   "outputs": [],
   "source": [
    "key = 'MlM_gen(persons.EqSet.equal, types_of_things.TreeSet.equal) (cxt_len=2, abstract=0)'; result = results[key]\n",
    "node, data_tuples = show_result(result)"
   ]
  },
  {
   "cell_type": "code",
   "execution_count": null,
   "id": "f4b745c2",
   "metadata": {},
   "outputs": [],
   "source": [
    "print(key); node = add_node_to_result(result, topi=[0, 1, 2, 3, 4])"
   ]
  },
  {
   "cell_type": "code",
   "execution_count": null,
   "id": "414c7caa",
   "metadata": {},
   "outputs": [],
   "source": [
    "key = 'MlM_gen(persons.EqSet.equal, types_of_things.TreeSet.parent) (cxt_len=2, abstract=0)'; result = results[key]\n",
    "node, data_tuples = show_result(result)"
   ]
  },
  {
   "cell_type": "code",
   "execution_count": null,
   "id": "819f6256",
   "metadata": {},
   "outputs": [],
   "source": [
    "print(key); node = add_node_to_result(result, topi=[0,1,2])#, label_type='attn_labels')"
   ]
  },
  {
   "cell_type": "code",
   "execution_count": null,
   "id": "9e68100c",
   "metadata": {},
   "outputs": [],
   "source": [
    "# seed(1234); torch.cuda.empty_cache()\n",
    "model_names = ['EleutherAI/gpt-j-6B/cpu', 'EleutherAI/gpt-neox-20b', #'EleutherAI/gpt-neox-20b/cpu', \n",
    "               'text-curie-001', 'text-davinci-001', 'text-davinci-002'][:1]\n",
    "metrics = dict(losses=defaultdict(list), accuracies=defaultdict(list))\n",
    "\n",
    "def batch_predict(model, tokenizer):\n",
    "    return [predict(model, tokenizer, text, examples, k_shot=k_shot, custom_forward=False, # avoid computing head_inputs\n",
    "                    bos_token=bos_token, eos_token=eos_token, verbose=len(model_names) == 1)[1]\n",
    "            for text, examples in zip(texts, all_examples)]\n",
    "    \n",
    "with Timer('pmapped batch_predict'):\n",
    "    parallel = len(model_names) > 1\n",
    "    pool = Pool(len(model_names)) if parallel else itertools  # with Pool(len(model_names)) as pool:\n",
    "    results = pool.starmap(batch_predict, [models[model_name] for model_name in model_names])\n",
    "    if parallel: pool.close(); pool.join()\n",
    "            \n",
    "# query2acc, query2loss = defaultdict(list), defaultdict(list)\n",
    "for model_name, r in zip(model_names, results):\n",
    "    _, tokenizer = models[model_name]\n",
    "    for i, (loss, top1_corrects, answer_indices, answer_probs, candidate_probs) in enumerate(r):#.get()\n",
    "        acc = top1_corrects[k_shot:] # np.array(top1_corrects[k_shot:]).mean()\n",
    "        metrics['losses'][model_name].append(loss); metrics['accuracies'][model_name].append(acc)\n",
    "        if batch_size == 1: print(model_name, loss, acc)\n",
    "#         queries = [e[1] for e in _examples_list[i]][k_shot:]\n",
    "#         for q, a, l in zip(queries, acc, loss): query2acc[q].append(float(a)); query2loss[q].append(l)\n",
    "# print(sorted([(q, np.array(v).mean()) for q, v in query2acc.items()], key=lambda x: x[1]))"
   ]
  },
  {
   "cell_type": "code",
   "execution_count": null,
   "id": "89581697",
   "metadata": {},
   "outputs": [],
   "source": [
    "for metric in ['accuracies', 'losses']:\n",
    "    for model_name in model_names[:]:\n",
    "        print(metric, model_name, np.array(metrics[metric][model_name]).mean())"
   ]
  },
  {
   "cell_type": "code",
   "execution_count": null,
   "id": "4cf1f659",
   "metadata": {},
   "outputs": [],
   "source": [
    "def cmp(a, b):\n",
    "    print(a.dtype, a.size(), b.dtype, b.size())\n",
    "    print('allclose:', torch.allclose(a, b), 'equal:', torch.equal(a, b))\n",
    "    print((a == b).float().mean())\n",
    "    print((a - b).float().abs().mean(), a.float().abs().mean(), b.float().abs().mean())\n",
    "#     print((a - b).max(), (a - b).min())\n",
    "#     print(a[a - b == (a - b).max()])\n",
    "#     print(a[a - b == (a - b).min()])"
   ]
  },
  {
   "cell_type": "code",
   "execution_count": null,
   "id": "e9cc4497",
   "metadata": {
    "collapsed": true,
    "jupyter": {
     "outputs_hidden": true
    }
   },
   "outputs": [],
   "source": [
    "# text, _examples = texts[0], _examples_list[0]\n",
    "torch.cuda.empty_cache()\n",
    "if True: #def predict2(model, tokenizer, text, _examples):\n",
    "    examples, input_ids, tokens, bos_indices, eos_indices, answers, labels = make_data_tuple(\n",
    "        text, tokenizer, k_shot=k_shot, bos_token=bos_token, eos_token=eos_token)\n",
    "    candidates = [[tokenizer.encode(' ' + token)[0] for token in cands[0]] for _, _, cands, _ in _examples]\n",
    "    with torch.no_grad():\n",
    "        with Timer(): o0 = model(input_ids.to(model.device), output_attentions=True, output_hidden_states=True)\n",
    "        with Timer(): o1 = forward0(model, input_ids.to(model.device), labels=labels.to(model.device),\n",
    "                by_head=['head_input0', 'head_output0'], attn_weights=None, output_hidden_states=True)\n",
    "        for o in [o0, o1]:\n",
    "            logits = o.logits\n",
    "            if isinstance(logits, torch.Tensor): logits = logits.to('cpu').float()# softmax on cpu needs float32\n",
    "            loss, top1_corrects, answer_probs, candidate_probs = show_predictions(\n",
    "                examples, tokenizer, logits, bos_indices, eos_indices, answers, labels, loss_reduction='none',\n",
    "                candidates=candidates, k_shot=k_shot, topk=3, verbose=True)\n",
    "            print('\\n')\n",
    "#     return loss, top1_corrects, answer_probs, candidate_probs"
   ]
  },
  {
   "cell_type": "code",
   "execution_count": null,
   "id": "9a74c135",
   "metadata": {},
   "outputs": [],
   "source": []
  },
  {
   "cell_type": "code",
   "execution_count": null,
   "id": "20a661b0",
   "metadata": {},
   "outputs": [],
   "source": [
    "for metric in ['accuracies', 'losses']:\n",
    "    for model_name in model_names[:]:\n",
    "        print(metric, model_name, np.array(metrics[metric][model_name]).mean())"
   ]
  },
  {
   "cell_type": "code",
   "execution_count": null,
   "id": "26aaa1d4",
   "metadata": {},
   "outputs": [],
   "source": [
    "for metric in ['accuracies', 'losses']:\n",
    "    for model_name in model_names[:]:\n",
    "        print(metric, model_name, np.array(metrics[metric][model_name])[:,:27].mean())"
   ]
  },
  {
   "cell_type": "code",
   "execution_count": null,
   "id": "0cba876d",
   "metadata": {},
   "outputs": [],
   "source": [
    "for metric in ['accuracies', 'losses']:\n",
    "    _ = plt.figure(figsize=(10, 3));\n",
    "    for model_name in model_names[:2]:\n",
    "        plt.plot(np.array(metrics[metric][model_name])[:].mean(0), label=f'{model_name}');\n",
    "    _ = plt.legend();  _ = plt.title(metric); _ = plt.show();"
   ]
  },
  {
   "cell_type": "code",
   "execution_count": null,
   "id": "60515185",
   "metadata": {},
   "outputs": [],
   "source": [
    "time2prep = {tuple(clock_of_day): 'at', tuple(days_of_week): 'on', tuple(months): 'in'}\n",
    "def lookup_item2str(item, vocab=None):\n",
    "    if vocab[0] in [clock_of_day, days_of_week, months]:\n",
    "        prep = time2prep[tuple(vocab[0])]\n",
    "        return f'{item[1]} came {prep} {item[0]}'\n",
    "    elif vocab[0] == digits:\n",
    "        return f'{item[1]} is {item[0]}'\n",
    "def lookup_query2str(query, vocab=None, rel_name=None):\n",
    "    if vocab[0] in [clock_of_day, days_of_week, months]:\n",
    "        prep = time2prep[tuple(vocab[0])]\n",
    "        prep = {'prev': 'just before', 'next': 'just after', 'same': prep}[rel_name]\n",
    "        return f'Who came {prep} {query}?'\n",
    "    elif vocab[0] == digits:\n",
    "        prep = {'prev': 'a year younger than', 'next': 'a year younger than', 'same': ''}[rel_name]\n",
    "        return f'Who is {prep} {query}'"
   ]
  },
  {
   "cell_type": "code",
   "execution_count": null,
   "id": "1ed9c29d",
   "metadata": {},
   "outputs": [],
   "source": [
    "text = '''Aaren is a boy. Harlow is a girl.\n",
    "Harlow called Aaren.\n",
    "Harlow: \"Are you a girl?\"\n",
    "Aaren: \"'''\n",
    "model_name = 'EleutherAI/gpt-j-6B'\n",
    "model, tokenizer = models[model_name]\n",
    "input_ids = tokenizer.encode(text, return_tensors='pt')\n",
    "logits = model(input_ids.to(getattr(model, 'device', 'cpu'))).logits"
   ]
  },
  {
   "cell_type": "code",
   "execution_count": null,
   "id": "6e43fb02",
   "metadata": {},
   "outputs": [],
   "source": [
    "show_topk(*logits[0][-1].softmax(-1).topk(5), indices_fn=tokenizer.convert_ids_to_tokens)"
   ]
  },
  {
   "cell_type": "code",
   "execution_count": null,
   "id": "6c3d4809",
   "metadata": {},
   "outputs": [],
   "source": [
    "get_prob_dist(logits.top_logprobs[-1], 5)"
   ]
  },
  {
   "cell_type": "code",
   "execution_count": null,
   "id": "2e5780be",
   "metadata": {},
   "outputs": [],
   "source": [
    "text = 'The capital of Canada is'\n",
    "input_ids = tokenizer(text, return_tensors='pt').input_ids\n",
    "list(zip(tokenizer.convert_ids_to_tokens(input_ids[0]), input_ids[0].numpy()))\n",
    "outputs = model.generate(input_ids, max_length=10)\n",
    "tokenizer.decode(outputs[0], skip_special_tokens=True)"
   ]
  },
  {
   "cell_type": "code",
   "execution_count": null,
   "id": "8c9c689c",
   "metadata": {},
   "outputs": [],
   "source": [
    "# nrows = 5; k_shot = nrows // 2 + 1\n",
    "# for pairs in [drop_first_and_last, ]:\n",
    "nrows = 6;  k_shot = 3\n",
    "for pairs in reversible_transformations + irreversible_transformations:\n",
    "    seps = [' -> ', '->'] if random.random() < 0.5 else ['->', ' -> ']\n",
    "    # seps = [' -> ', ' -> ']\n",
    "    samples = ['\\n' + '\\n'.join(a + seps[0] + b for a, b in sample(pairs, nrows)) + '\\n']\n",
    "    for s in samples: data_tuples.append(list(make_data_tuple(s, tokenizer, k_shot=k_shot, bos_token=tokenizer.tokenize(seps[0])[0])))\n",
    "    samples = ['\\n' + '\\n'.join(b + seps[1] + a for a, b in sample(pairs, nrows)) + '\\n' if pairs in reversible_transformations else \n",
    "                '\\n' + '\\n'.join(a + seps[1] + b for a, b in sample(pairs, nrows)) + '\\n']\n",
    "    for s in samples: data_tuples.append(list(make_data_tuple(s, tokenizer, k_shot=k_shot, bos_token=tokenizer.tokenize(seps[1])[0])))"
   ]
  },
  {
   "cell_type": "code",
   "execution_count": null,
   "id": "da2f807e",
   "metadata": {},
   "outputs": [],
   "source": [
    "# # sys.path.insert(0, '/nas/xd/projects/ec')\n",
    "# from child_utils import loadPBETasks, retrieveJSONTasks\n",
    "# challenge, challengeCheating = loadPBETasks('/nas/xd/projects/ec/PBE_Strings_Track')\n",
    "# challenge2, challengeCheating2 = loadPBETasks('/nas/xd/projects/ec/data/sygus')\n",
    "# tasks = retrieveJSONTasks(\"/nas/xd/projects/ec/data/list_tasks.json\")\n",
    "# tasks2 = retrieveJSONTasks(\"/nas/xd/projects/ec/data/list_tasks2.json\")"
   ]
  },
  {
   "cell_type": "code",
   "execution_count": null,
   "id": "e1ff8618",
   "metadata": {},
   "outputs": [],
   "source": [
    "from lxy_utils import get_examples_behind, get_examples_before, get_examples_query_before, \\\n",
    "    get_examples_query_behid, get_examples_query_repeat"
   ]
  },
  {
   "cell_type": "code",
   "execution_count": null,
   "id": "432fcd8a",
   "metadata": {},
   "outputs": [],
   "source": [
    "reversible_transformations = [list(digit2cardinal.items()), noun2adj, lxy, verb_form, country2capital, en2fr, antonyms]\n",
    "irreversible_transformations = [capabilities]"
   ]
  },
  {
   "cell_type": "code",
   "execution_count": null,
   "id": "d59cbab6",
   "metadata": {},
   "outputs": [],
   "source": []
  },
  {
   "cell_type": "code",
   "execution_count": null,
   "id": "fbc67151",
   "metadata": {},
   "outputs": [],
   "source": [
    "losses = []\n",
    "for model_name, (model, tokenizer) in models.items():\n",
    "    if any(model_name.startswith(s) for s in ['gpt2-', 'KoboldAI/fairseq-dense', 'text-davinci-001', ]): continue\n",
    "    if not model_name == 'EleutherAI/gpt-j-6B': continue\n",
    "    if not isinstance(model, types.FunctionType): _ = model.eval()\n",
    "    with Timer(model_name): outputs = model(**inputs)\n",
    "    options_ids_list = [[tokenizer.encode(' ' + option)[0] for option in options] for cxt, query, options, ans in _examples]\n",
    "    mask_logits_fn = partial(mask_logits, indices=bos_indices, kept_ids=options_ids_list)\n",
    "    loss, all_top1_correct = show_predictions(text, examples, tokenizer, outputs.logits, bos_indices, eos_indices, answers, labels,\n",
    "                    mask_logits_fn=None, topk=3, loss_reduction='mean', show_range=range(k_shot, len(examples)), sep='\\t')\n",
    "    print(loss, all_top1_correct, '\\n')\n",
    "    losses.append(loss.item() if hasattr(loss, 'item') else loss)\n",
    "    if model_name == 'EleutherAI/gpt-j-6B': break\n",
    "print(sum(losses) / len(losses))"
   ]
  },
  {
   "cell_type": "code",
   "execution_count": null,
   "id": "bc90b0db",
   "metadata": {},
   "outputs": [],
   "source": [
    "relational_functions = [prev(), next()]\n",
    "rel_fns = [prevs, nexts]"
   ]
  },
  {
   "cell_type": "markdown",
   "id": "92834550",
   "metadata": {},
   "source": [
    "**TODO: read children books for more posets**  \n",
    "**TODO: Prompt gpt3 to elicit the posets it knows**  \n",
    "$x \\to f(x)$ where $f \\in \\{\\text{prev/next in posets of numbers/letters/months/days, antonym, hypernym, hyponym, ...}\\}$  \n",
    "$x \\to f^2(x)$  \n",
    "one poset or mixed posets  \n",
    "$x, f(x).~y \\to Ff^{[-1]}(y)$ one poset or mixed posets  \n",
    "$x, f^k(x).~y \\to Ff^{[-1]}(y)~/Ff^{[-]k}(y)$  \n",
    "$x, f(f(x))~/f(f(x)), x \\to f(x)$ in between, the simplest form of sequence completion  \n",
    "$x, f(x) \\to Gf$ where $Gf \\in \\{<, >\\}$  \n",
    "$x, f(x); y, g(y) \\to Ff \\stackrel{?}{=} g^{[-1]}$ where $\\text{output} \\in \\{\\text{True}, \\text{False}\\}$  \n",
    "sort\n",
    "\n",
    "There is a *natural* monotone map/functor $F$ between posets/sets $A$ and $B$.  Compose the computation (set operations, sorting etc.) between $A$ and $B$ with $F$ to make harder tasks.  \n",
    "$P(A) ,P(B) \\to F(P(A)) \\setminus ~/ \\cap ~/ \\triangle P(B)$. Harder form of set difference/intersection.  \n",
    "$P(A) \\to F(\\text{sorted}(P(A)))$. Harder form of sorting.\n"
   ]
  },
  {
   "cell_type": "code",
   "execution_count": null,
   "id": "4504ae9b",
   "metadata": {},
   "outputs": [],
   "source": []
  },
  {
   "cell_type": "code",
   "execution_count": null,
   "id": "17373019",
   "metadata": {},
   "outputs": [],
   "source": [
    "n_total, n_valid = 192, 64\n",
    "n_train = n_total - n_valid\n",
    "\n",
    "input_strs = [make_input_str(tasks[4], nrows=4, ncols=5) for __ in range(n_total)]\n",
    "for s in sample(input_strs, 3): print(s)"
   ]
  },
  {
   "cell_type": "code",
   "execution_count": null,
   "id": "f7d6edbc",
   "metadata": {},
   "outputs": [],
   "source": [
    "sum(s.count('Yes') for s in input_strs)"
   ]
  },
  {
   "cell_type": "code",
   "execution_count": null,
   "id": "e2f80b74",
   "metadata": {},
   "outputs": [],
   "source": [
    "train_dataset = CHILDDataset(input_strs[:-n_valid], tokenizer)\n",
    "eval_dataset = CHILDDataset(input_strs[-n_valid:], tokenizer)"
   ]
  },
  {
   "cell_type": "code",
   "execution_count": null,
   "id": "3185653b",
   "metadata": {},
   "outputs": [],
   "source": [
    "if n_total == 1:\n",
    "    inputs = tokenizer.encode_plus(text, return_tensors='pt')\n",
    "    inputs = prepare_inputs(inputs, model.device)\n",
    "    outputs = model(**inputs, output_attentions=False)\n",
    "\n",
    "    # assert inputs.input_ids.size(0) == 1\n",
    "    input_ids = inputs.input_ids\n",
    "    logits = outputs.logits\n",
    "\n",
    "    bsz = input_ids.size(0); assert bsz == 1\n",
    "    labels = torch.ones_like(input_ids) * (-100)\n",
    "    for bi in range(bsz):\n",
    "        bos_indices = (input_ids[bi] == bos_id).nonzero().squeeze(1)\n",
    "        eos_indices = (input_ids[bi] == eos_id).nonzero()[-nrows:].squeeze(1)\n",
    "        for i, (example, bos_i, eos_i) in enumerate(zip(examples, bos_indices.tolist(), eos_indices.tolist())):\n",
    "            print(' ' + make_example_str(example))\n",
    "            ans_ids = input_ids[bi, bos_i + 1: eos_i]\n",
    "            if i >= 2: labels[bi, bos_i: eos_i - 1] = ans_ids\n",
    "            ans_prob_dist = logits[bi, bos_i: eos_i - 1].softmax(-1)\n",
    "            ans_probs = ans_prob_dist[torch.arange(ans_prob_dist.size(0)), ans_ids]\n",
    "            ans_tokens = tokenizer.convert_ids_to_tokens(ans_ids)\n",
    "            for ans_id, ans_token, ans_prob, dist in zip(ans_ids, ans_tokens, numpy(ans_probs, decimals=3), ans_prob_dist):\n",
    "                top1_correct = (dist.argmax() == ans_id).item()\n",
    "                print(('*' if top1_correct else ' ') + ans_token, ans_prob, \n",
    "                      show_topk(*dist.topk(5), indices_fn=tokenizer.convert_ids_to_tokens)) \n",
    "    loss = nn.CrossEntropyLoss()(logits.view(-1, logits.size(-1)), labels.view(-1))\n",
    "    loss"
   ]
  },
  {
   "cell_type": "code",
   "execution_count": null,
   "id": "6ebf074a",
   "metadata": {},
   "outputs": [],
   "source": [
    "training_args = TrainingArguments(output_dir=\"./models/model_name\", \n",
    "    overwrite_output_dir=True, do_train=True, do_eval=True,\n",
    "    per_device_train_batch_size=16, per_device_eval_batch_size=16,\n",
    "    weight_decay=0.01, adam_beta2=0.98, adam_epsilon=1e-6,\n",
    "    lr_scheduler_type='constant', learning_rate=5e-3, num_train_epochs=4,\n",
    "    logging_strategy ='epoch', evaluation_strategy ='epoch', save_steps=0,\n",
    "    no_cuda=True, report_to='none',  # to avoid report to wandb\n",
    ")"
   ]
  },
  {
   "cell_type": "code",
   "execution_count": null,
   "id": "d89c7d7b",
   "metadata": {},
   "outputs": [],
   "source": [
    "trainer = Trainer(model, training_args, train_dataset=train_dataset, eval_dataset=eval_dataset,\n",
    "                  optimizers=(create_optimizer(model, training_args), None))"
   ]
  },
  {
   "cell_type": "code",
   "execution_count": null,
   "id": "b37a9874",
   "metadata": {},
   "outputs": [],
   "source": [
    "trainer.place_model_on_device"
   ]
  },
  {
   "cell_type": "code",
   "execution_count": null,
   "id": "9b4b3eca",
   "metadata": {},
   "outputs": [],
   "source": [
    "def get_prev(elem):\n",
    "    i, v = elem\n",
    "    return _l[i - 1] if i > 0 else None\n",
    "\n",
    "false = lambda *_: False\n",
    "true  = lambda *_: True"
   ]
  },
  {
   "cell_type": "code",
   "execution_count": null,
   "id": "721cb66f",
   "metadata": {},
   "outputs": [],
   "source": [
    "Element = namedtuple('Element', 'index value')\n",
    "_l = 'A B C B'.split()\n",
    "n = len(_l)\n",
    "# l = [Element._make(e) for e in enumerate(l)]\n",
    "l = seq(_l)\n",
    "l = l.enumerate().map(Element._make)"
   ]
  },
  {
   "cell_type": "code",
   "execution_count": null,
   "id": "9f22f664",
   "metadata": {},
   "outputs": [],
   "source": [
    "l.map(lambda x: {'B': 'D'}.get(x, x))\n",
    "\n",
    "l.filter(lambda x: get_prev(x) == 'B').select(_.value)\n",
    "\n",
    "find_fn = _.index == 1\n",
    "l.filter(find_fn).select(_.value).map(lower)\n",
    "\n",
    "find_fn = _.value == 'C'\n",
    "l.filter(find_fn).select(_.index)\n",
    "\n",
    "# move x to first\n",
    "update_filter = _.value == 'C'\n",
    "get_new = lambda x: -1\n",
    "l.map(lambda x: Element(update_fn(x, 'index'), x.value)).order_by(_.index).select(_.value)\n",
    "\n",
    "# swap first and last\n",
    "update_filter = true\n",
    "get_new = lambda x: {0: n - 1, n - 1: 0}.get(x.index, x.index)\n",
    "l.map(lambda x: Element(update_fn(x, 'index'), x.value)).order_by(_.index).select(_.value)\n",
    "\n",
    "# get inbetween == drop_while + take_while?\n",
    "\n",
    "# update by index to its prev\n",
    "update_filter = _.index == 1\n",
    "get_new = lambda x: get_prev(x)\n",
    "def update_fn(x, update_field): return get_new(x) if update_filter(x) else getattr(x, update_field)\n",
    "l.map(lambda x: Element(x.index, update_fn(x, 'value')))\n",
    "\n",
    "# if two adjacent elements by indices are equal\n",
    "l.filter(lambda x: x.index in [0, 1]).select(_.value).distinct().len() == 1\n",
    "\n",
    "seq('A B C B C'.split()).group_by(_).select(_[1]).flatten()\n",
    "\n",
    "# count occurance till current\n",
    "seq('A B A C B A'.split()).inits().reverse().tail().map(lambda x: x.filter(_ == x.last()).len())\n",
    "\n",
    "# find special\n",
    "seq('A B A A'.split()).count_by_value().filter(_[1] == 1).select(_[0])\n",
    "\n",
    "# generalized find special\n",
    "seq('A A B C C D D'.split()).group_by(_).map(lambda x: (x[0], len(x[1]))).filter(_[1] == 1).select(_[0])"
   ]
  }
 ],
 "metadata": {
  "kernelspec": {
   "display_name": "Python 3 (ipykernel)",
   "language": "python",
   "name": "python3"
  },
  "language_info": {
   "codemirror_mode": {
    "name": "ipython",
    "version": 3
   },
   "file_extension": ".py",
   "mimetype": "text/x-python",
   "name": "python",
   "nbconvert_exporter": "python",
   "pygments_lexer": "ipython3",
   "version": "3.11.4"
  },
  "vscode": {
   "interpreter": {
    "hash": "31f2aee4e71d21fbe5cf8b01ff0e069b9275f58929596ceb00d14d90e3e16cd6"
   }
  }
 },
 "nbformat": 4,
 "nbformat_minor": 5
}
