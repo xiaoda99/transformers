{
 "cells": [
  {
   "cell_type": "code",
   "execution_count": 1,
   "id": "7292808a",
   "metadata": {},
   "outputs": [],
   "source": [
    "from IPython import get_ipython\n",
    "%load_ext autoreload\n",
    "%autoreload 2\n",
    "\n",
    "from IPython.core.interactiveshell import InteractiveShell\n",
    "InteractiveShell.ast_node_interactivity = 'all'  #'last', 'last_expr'"
   ]
  },
  {
   "cell_type": "code",
   "execution_count": 2,
   "id": "0d03e56e",
   "metadata": {},
   "outputs": [
    {
     "name": "stdout",
     "output_type": "stream",
     "text": [
      "In file_utils.py: default_cache_path = /raid3/xd/.cache/torch/hub\n"
     ]
    }
   ],
   "source": [
    "import sys\n",
    "sys.path.insert(0, '/nas/xd/projects/transformers/src')\n",
    "import os\n",
    "os.environ['HF_HOME'] = '/raid3/xd/.cache/torch'  # deliberately set this wrong path to avoid migrating cache\n",
    "os.environ[\"CUDA_DEVICE_ORDER\"]=\"PCI_BUS_ID\"\n",
    "# os.environ[\"CUDA_VISIBLE_DEVICES\"]=\"8,7\"\n",
    "\n",
    "from types import MethodType\n",
    "from tqdm import tqdm\n",
    "from collections import defaultdict, OrderedDict, Counter\n",
    "from datetime import datetime\n",
    "from io import StringIO\n",
    "from dataclasses import dataclass, fields, asdict\n",
    "import itertools\n",
    "from itertools import chain, product\n",
    "import math\n",
    "from functools import reduce, partial\n",
    "from collections.abc import Iterable\n",
    "from collections import namedtuple \n",
    "import traceback\n",
    "import pickle, gzip\n",
    "\n",
    "# from multiprocessing import Pool\n",
    "# from torch.multiprocessing import Pool\n",
    "# torch.multiprocessing.set_start_method('spawn', force=True)\n",
    "from multiprocessing.dummy import Pool\n",
    "\n",
    "%matplotlib inline\n",
    "import matplotlib.pyplot as plt\n",
    "import seaborn as sns\n",
    "\n",
    "import torch\n",
    "import torch.nn as nn\n",
    "import torch.nn.functional as F \n",
    "from torch.utils.data.sampler import RandomSampler, Sampler, SequentialSampler\n",
    "from torch.utils.data.dataloader import DataLoader\n",
    "\n",
    "# from transformers.data.data_collator import DataCollator, default_data_collator\n",
    "from transformers import AutoConfig, AutoModelForCausalLM, AutoTokenizer, GPT2Tokenizer#, pipeline\n",
    "# from transformers import RobertaForMaskedLM, RobertaTokenizer, GPT2LMHeadModel, GPT2Tokenizer, GPTNeoForCausalLM\n",
    "# from transformers import T5Tokenizer, T5TokenizerFast, T5ForConditionalGeneration\n",
    "# from transformers import HfArgumentParser, Trainer, TrainingArguments, set_seed, AdamW"
   ]
  },
  {
   "cell_type": "code",
   "execution_count": 3,
   "id": "49c8f3d0",
   "metadata": {},
   "outputs": [],
   "source": [
    "sys.path.insert(0, '/nas/xd/projects/PyFunctional')\n",
    "from functional import seq\n",
    "from functional.pipeline import Sequence\n",
    "from fn import _ as __"
   ]
  },
  {
   "cell_type": "code",
   "execution_count": 4,
   "id": "58cba5e2",
   "metadata": {},
   "outputs": [
    {
     "name": "stdout",
     "output_type": "stream",
     "text": [
      "common_utils ... done 0:00:00.000076\n",
      "utils ... done 0:00:00.122799\n",
      "child_utils ... Loading tokenizer ... done 0:00:09.708236\n",
      "done 0:00:41.837122\n",
      "tasks ... done 0:00:00.018930\n",
      "model_utils ... done 0:01:06.416629\n",
      "weight_analysis ... done 0:00:00.000045\n"
     ]
    }
   ],
   "source": [
    "from common_utils import Timer\n",
    "with Timer('common_utils'): from common_utils import *\n",
    "with Timer('utils'): from utils import *\n",
    "with Timer('child_utils'): from child_utils import *\n",
    "from child_utils import _cxt2str, _item2str, _s\n",
    "from child_frames import *\n",
    "with Timer('tasks'): from tasks import *\n",
    "with Timer('model_utils'): from model_utils import *\n",
    "with Timer('weight_analysis'): from weight_analysis import *"
   ]
  },
  {
   "cell_type": "code",
   "execution_count": 5,
   "id": "29bd23f7",
   "metadata": {},
   "outputs": [],
   "source": [
    "torch.set_grad_enabled(False);"
   ]
  },
  {
   "cell_type": "code",
   "execution_count": 6,
   "id": "90f62ac5",
   "metadata": {},
   "outputs": [],
   "source": [
    "models = {}\n",
    "cache_dir = '/nas/xd/.cache/torch/transformers/'  # for models besides t5-3b/11b\n",
    "# cache_dir = '/mnt/nvme1/xd/.cache/torch/transformers/'  # for gpt-j-6B on elderberry\n",
    "proxies = {'http': '192.168.50.1:1081'} "
   ]
  },
  {
   "cell_type": "code",
   "execution_count": 7,
   "id": "a4ab655d",
   "metadata": {},
   "outputs": [
    {
     "name": "stdout",
     "output_type": "stream",
     "text": [
      "EleutherAI/gpt-neox-20b/cpu ... In huggingface_hub.file_download.cached_download: url = https://huggingface.co/EleutherAI/gpt-neox-20b/resolve/main/config.json\n",
      "done 0:26:20.492653\n"
     ]
    }
   ],
   "source": [
    "# curl -x http://192.168.50.1:1081 -L -O [-C -] https://huggingface.co/google/ul2/resolve/main/pytorch_model.bin  # -C for 断点续传\n",
    "s2s_model_names = ['google/t5-xl-lm-adapt', 'google/t5-xxl-lm-adapt', 'bigscience/T0p', 'bigscience/T0_3B', \n",
    "    'allenai/tk-instruct-3b-pos', 'allenai/tk-instruct-3b-def-pos', 'google/ul2']\n",
    "gpt_model_names = ['EleutherAI/gpt-j-6B/cpu', #'EleutherAI/gpt-j-6B',\n",
    "                   'EleutherAI/gpt-neox-20b/cpu', #'EleutherAI/gpt-neox-20b'\n",
    "                  ]#, 'gpt2-xl', 'gpt2']\n",
    "#                    'KoboldAI/fairseq-dense-6.7B', 'KoboldAI/fairseq-dense-13B']\n",
    "for model_name in s2s_model_names[:0] + gpt_model_names[1:]:#, 'gpt2-xl', 'EleutherAI/gpt-neo-1.3B', 'KoboldAI/fairseq-dense-6.7B']:\n",
    "    if model_name in models: continue\n",
    "    with Timer(model_name):\n",
    "        model_cls = AutoModelForCausalLM if any(s in model_name for s in ['gpt', 'fairseq-dense']) else T5ForConditionalGeneration\n",
    "        # _cache_dir = cache_dir.replace('/nas/', '/nas2/') if 'gpt' not in model_name else cache_dir\n",
    "        kwargs = dict(cache_dir=cache_dir, proxies=proxies, low_cpu_mem_usage=True)\n",
    "        if '/cpu' in model_name or 'gpt-j' not in model_name and 'gpt-neox' not in model_name:\n",
    "            model = model_cls.from_pretrained(model_name.replace('/cpu', ''), cache_dir=cache_dir, proxies=proxies)\n",
    "        elif 'gpt-j' in model_name:\n",
    "            device = 0\n",
    "            model = model_cls.from_pretrained(model_name, revision=\"float16\", torch_dtype=torch.float16, **kwargs).to(device)\n",
    "        elif 'gpt-neox' in model_name:\n",
    "            device = 7; device_map = {'gpt_neox': device, 'embed_out': device}\n",
    "            model = model_cls.from_pretrained(model_name, device_map=device_map, load_in_8bit=True, **kwargs)\n",
    "        if hasattr(model.config, 'use_cache'): model.config.use_cache = False  # save GPU mem\n",
    "        # if model_name in ['EleutherAI/gpt-neox-20b']: model = model.half()\n",
    "        tokenizer = AutoTokenizer.from_pretrained(model_name.replace('/cpu', ''), cache_dir=cache_dir)\n",
    "        unify(model)\n",
    "        models[model_name] = model, tokenizer#, device"
   ]
  },
  {
   "cell_type": "code",
   "execution_count": 9,
   "id": "c64283f4",
   "metadata": {},
   "outputs": [
    {
     "name": "stdout",
     "output_type": "stream",
     "text": [
      "Once upon a time, there was a little girl who loved to read.\n",
      "\n",
      "She loved to read so much that\n"
     ]
    }
   ],
   "source": [
    "import openai\n",
    "openai.api_key = open('/nas/xd/projects/openai_api_keys.txt').readlines()[4].split()[0]\n",
    "response = openai.Completion.create(engine='text-davinci-002', prompt='Once upon a time',\n",
    "    max_tokens=20, echo=True, logprobs=5)\n",
    "print(response.choices[0].text)\n",
    "\n",
    "def get_openai_model(engine):\n",
    "    def forward(input_ids):#, attention_mask=None):\n",
    "        text = tokenizer.decode(input_ids[0])\n",
    "        response = openai.Completion.create(engine=engine, prompt=text, max_tokens=0, echo=True, logprobs=5)\n",
    "        return Outputs(logits=response.choices[0].logprobs)\n",
    "    return forward\n",
    "    \n",
    "tokenizer0 = GPT2Tokenizer.from_pretrained('gpt2', cache_dir=cache_dir)\n",
    "engines = ['text-curie-001', 'text-davinci-001', 'text-davinci-002', 'text-davinci-003', 'code-davinci-002'] #+ \\\n",
    "#     ['curie', 'curie:2020-05-03', 'curie-instruct-beta', 'text-curie-001'] + \\\n",
    "#     ['davinci', 'davinci:2020-05-03', 'davinci-instruct-beta', 'davinci-instruct-beta:2.0.0', 'text-davinci-001', 'text-davinci-002']\n",
    "for engine in engines:\n",
    "    if engine not in models: models[engine] = get_openai_model(engine), tokenizer0"
   ]
  },
  {
   "cell_type": "code",
   "execution_count": 8,
   "id": "0bc28755",
   "metadata": {},
   "outputs": [],
   "source": [
    "model_name = gpt_model_names[1]\n",
    "# model_name = engines[-1]\n",
    "model, tokenizer = models[model_name]"
   ]
  },
  {
   "cell_type": "code",
   "execution_count": 9,
   "id": "5b77b328",
   "metadata": {},
   "outputs": [],
   "source": [
    "blocks = model.transformer.h\n",
    "for i, b in enumerate(blocks): b.layer = i\n",
    "ln_f = model.transformer.ln_f\n",
    "L, H, embed_dim = len(blocks), blocks[0].attn.num_heads, blocks[0].attn.embed_dim\n",
    "\n",
    "# we = model.transformer.wte.weight.data\n",
    "# wu = model.lm_head.weight.data\n",
    "\n",
    "# es = [we]\n",
    "# for b in blocks[:1]: es.append(es[-1] + mlp_forward(b, es[-1]))\n",
    "# model.es = es\n",
    "# weBTAs = [es[i].T @ es[i] for i in range(2)]\n",
    "# model.weBTAs = weBTAs"
   ]
  },
  {
   "cell_type": "code",
   "execution_count": null,
   "id": "d6f9e457",
   "metadata": {},
   "outputs": [],
   "source": [
    "device = torch.device('cuda:7')\n",
    "_ = clone_model_to(model, device)"
   ]
  },
  {
   "cell_type": "code",
   "execution_count": 225,
   "id": "801a667d",
   "metadata": {},
   "outputs": [],
   "source": [
    "intermediary_heads = [(8, 1), (12, 10), (13, 13)]\n",
    "circuit_ends = {\n",
    "    'thing->type': ([(15, 8), (21, 5)], [(5, 12), (7, 2)]),\n",
    "    'thing->capability': ([(13, 15)], [(6, 5), (3, 7), (5, 12)]),\n",
    "    'capital->country': ([(19, 12)], [(5, 12)]), # inverse 3-7 by nrk \n",
    "    'opposite': ([(16, 14)], [(7, 9)]),\n",
    "    'fr->en': ([(16, 15), (21, 14)], [(5, 12)]),\n",
    "    'copy': ([(16, 7)], [(8, 7), (6, 2)]), # (1, 7), (3, 12), (6, 10)\n",
    "    # did->does 6-2\n",
    "}"
   ]
  },
  {
   "cell_type": "code",
   "execution_count": 223,
   "id": "8a6eb024",
   "metadata": {},
   "outputs": [],
   "source": [
    "predicting_heads, relating_heads = defaultdict(list), defaultdict(list)\n",
    "for taskname, (pred_heads, rel_heads) in circuit_ends.items():\n",
    "    for pred_head in pred_heads: predicting_heads[pred_head].append(taskname)\n",
    "    for rel_head in rel_heads: relating_heads[rel_head].append(taskname)"
   ]
  },
  {
   "cell_type": "code",
   "execution_count": 399,
   "id": "0df73ac8",
   "metadata": {},
   "outputs": [],
   "source": [
    "for block in blocks: remove_composed_heads(block.attn)\n",
    "# blocks[4].attn.composed_heads = [((4, 8), (4, 6))]; blocks[4].attn.ranges_i = ['ans]->*']  # opposite\n",
    "blocks[6].attn.composed_heads = [('ans]->ans0]', (6, 2))]; blocks[6].attn.ranges_i = ['ans]->*']  # opposite\n",
    "blocks[1].attn.composed_heads = [('ans]->ans0]', (1, 7))]; blocks[1].attn.ranges_i = ['ans]->*']  # opposite\n",
    "blocks[8].attn.composed_heads = [('ans]->ans0]', (8, 7))]; blocks[8].attn.ranges_i = ['ans]->*']  # opposite\n",
    "# blocks[6].attn.composed_heads = [((4, 8), (6, 10))]; blocks[6].attn.ranges_i = ['ans]->*']  # opposite\n",
    "# blocks[8].attn.composed_heads = [((7, 2), (8, 7))]\n",
    "# blocks[6].attn.composed_heads = [((7, 2), (6, 2))]\n",
    "# blocks[4].attn.composed_heads = [((3, 12), (4, 8))]\n",
    "# blocks[3].attn.composed_heads = [((3, 12), (3, 6))]\n",
    "blocks[11].attn.composed_heads = [('bos->query]', (11, 12))]; blocks[11].attn.ranges_i = ['bos->*']\n",
    "for block in blocks:\n",
    "    if getattr(block.attn, 'composed_heads', None) is not None:\n",
    "        compose_heads(model, block.attn, block.attn.composed_heads)"
   ]
  },
  {
   "cell_type": "code",
   "execution_count": null,
   "id": "b5fb0fe5",
   "metadata": {},
   "outputs": [],
   "source": [
    "relating_heads = [(6, 2), (8, 7), (7, 2), (5, 12)]#(7, 9)]\n",
    "intermediary_heads = [(8, 1), (12, 10), (13, 13)]\n",
    "predicting_heads = [(13, 7), (16, 7), (15, 8), (21, 5)]#, (16, 14)]\n",
    "for circuit in product(relating_heads, intermediary_heads, predicting_heads):\n",
    "    eigv_pos = plot_eigv(weightprod(model, list(circuit), 'e vo vo qk e', weBTA=model.weBTAs[0]), plot=False)[0]\n",
    "    print(circuit, eigv_pos)"
   ]
  },
  {
   "cell_type": "code",
   "execution_count": null,
   "id": "1fb34c9f",
   "metadata": {},
   "outputs": [],
   "source": [
    "def result2dict(result): return {k: v for k, v in result.__dict__.items() if k not in ['task', 'data_tuples']}  # \n",
    "with gzip.open(f'results/results-genders_of_persons-types_of_things.pkl.gz', 'wb') as f:\n",
    "    pickle.dump({k: result2dict(r) for k, r in results.items()}, f)\n",
    "# with gzip.open(f'results.pkl.gz', 'rb') as f: results = pickle.load(f)"
   ]
  },
  {
   "cell_type": "code",
   "execution_count": 346,
   "id": "f1fa6edc",
   "metadata": {},
   "outputs": [
    {
     "data": {
      "text/plain": [
       "'MlM_gen[genders_of_persons.TreeSet.equal,types_of_things.TreeSet.equal][cxt_len=3]'"
      ]
     },
     "execution_count": 346,
     "metadata": {},
     "output_type": "execute_result"
    }
   ],
   "source": [
    "res_key = keys[0]; res_key\n",
    "fpath = f'results/{res_key}_attn_attrs.npz'\n",
    "np.savez_compressed(fpath, *dump_attn_attrs_to_arrays(root, result.data_tuples))"
   ]
  },
  {
   "cell_type": "code",
   "execution_count": 344,
   "id": "d04901ad",
   "metadata": {},
   "outputs": [],
   "source": [
    "_root = deepcopy(root)\n",
    "def fn(node): node.data = asdict(node.data)\n",
    "traverse_tree(_root, fn, include_dummy=True)\n",
    "pickle.dump(_root, gzip.open(f'results/{res_key}_tree.pkl.gz', 'wb'))"
   ]
  },
  {
   "cell_type": "code",
   "execution_count": 11,
   "id": "706055f1",
   "metadata": {},
   "outputs": [],
   "source": [
    "tasks = [\n",
    "    (lambda: [TreeSet(genders_of_persons).use('equal'), TreeSet(types_of_things).use('equal')], MlM_gen,\n",
    "     partial(_cxt2str, item2str=lambda i, _: [f\"{i[0]} has {wrap_noun(i[1])}\", f\"The {i[1]} is {i[0]}'s\"]), lambda q, _: f'{q}', \" likes\"\n",
    "    ),\n",
    "#     (lambda: [TreeSet(types_of_characters).use('child'), TreeSet(types_of_things).use('child')], partial(MlM_gen, cxt_sample_fn=enumerate_sample, query=1),\n",
    "#      partial(_cxt2str, item2str=lambda i, _: [f\"{i[0]} has {i[1]}\", f\"{the_(i[1])} is {i[0]}'s\"]), lambda q, _: f\"{q}\", \" likes\"\n",
    "#     ),\n",
    "    (lambda: [TreeSet(genders_of_persons).use('child'), TreeSet(types_of_things).use('child')], MlM_gen,\n",
    "     partial(_cxt2str, item2str=lambda i, _: [f\"{i[0]} has {i[1]}\", f\"{the_(i[1])} is {i[0]}'s\"]), lambda q, _: f\"{q}\", \" likes\"\n",
    "    ), # t: 21-5, 15-8, 19. p: 16-7, 18-5, [3-12, 13-7]. p+: 16-7, 16-0. 13-7:induction head qk, thing->type ov\n",
    "    (lambda: [TreeSet(genders_of_persons).use('equal'), TreeSet(countries_of_cities).use('equal')], MlM_gen,\n",
    "     partial(_cxt2str, item2str=lambda i, _: [f'{i[0]} likes {i[1]}', f'{i[1]} attracts {i[0]}']), lambda q, _: f'{q} wants to go', ' to'\n",
    "    ), # t: 19-12 >> 16-10 = 12-7\n",
    "    (lambda: [TreeSet(genders_of_persons).use('equal'), TreeSet(countries_of_cities).use('child')], MlM_gen,\n",
    "     partial(_cxt2str, item2str=lambda i, _: [f'{i[0]} likes {i[1]}', f'{i[1]} attracts {i[0]}']), lambda q, _: f'{q} wants to go', ' to'\n",
    "    ), # t: 19-12 >> 16-10 = 12-7\n",
    "#     (lambda: [TreeSet(genders_of_persons).use('equal'), TreeSet(capabilities_of_things).use('equal')], MlM_gen,\n",
    "#      partial(_cxt2str, item2str=lambda i, _: [f\"{i[0]} has {wrap_noun(i[1])}\", f\"The {i[1]} is {i[0]}'s\"]), lambda q, _: f'{q} likes', ' the'\n",
    "#     ),\n",
    "#     (lambda: [TreeSet(genders_of_persons).use('equal'), TreeSet(capabilities_of_things).use('child')], MlM_gen,\n",
    "#      partial(_cxt2str, item2str=lambda i, _: [f\"{i[0]} has {wrap_noun(i[1])}\", f\"The {i[1]} is {i[0]}'s\"]), lambda q, _: f'{q}', ' can'\n",
    "#     ),\n",
    "#     (lambda: [TreeSet(genders_of_persons).use('equal'), SymSet(person_adjs).use('equal')], MlM_gen,\n",
    "#      partial(_cxt2str, item2str=lambda i, _: [f\"{i[0]} is {i[1]}\", f\"{i[1].capitalize()} is {i[0]}\"]), lambda q, _: f\"Yes, {q} looks\", \" like\"\n",
    "#     ),\n",
    "#     (lambda: [TreeSet(genders_of_persons).use('equal'), SymSet(person_adjs).use('opposite')], MlM_gen,\n",
    "#      partial(_cxt2str, item2str=lambda i, _: [f\"{i[0]} is {i[1]}\", f\"{i[1].capitalize()} is {i[0]}\"]), lambda q, _: f\"Um, {q} looks\", \" like\"\n",
    "#     ), # t: 16-14, somewhat 14-7 # verbose acc: gpj-j > curie-001 > davinci-001 > gpt-neox!? abstract acc: gpt-neox > gpt-j. all poor (inc. davinci-002!)\n",
    "#     (lambda: [TreeSet(genders_of_persons).use('equal'), PoSet(temporal_posets).use('equal')], MlM_gen,\n",
    "#      partial(_cxt2str, item2str=lambda i, _: [f'{i[0]} arrived {wrap_noun2(i[1])}', f'{wrap_noun2(i[1]).capitalize()} arrived {i[0]}']), lambda q, _: f\"So {q}'s arrival time\", ' is'\n",
    "#     ),\n",
    "#     (lambda: [TreeSet(genders_of_persons).use('equal'), PoSet(temporal_posets).use('prev')], MlM_gen,\n",
    "#      partial(_cxt2str, item2str=lambda i, _: [f'{i[0]} arrived {wrap_noun2(i[1])}', f'{wrap_noun2(i[1]).capitalize()} arrived {i[0]}']), lambda q, _: f'So {q} arrived just', ' after'\n",
    "#     ),\n",
    "#     (lambda: [TreeSet(genders_of_persons).use('equal'), PoSet(temporal_posets).use('next')], MlM_gen,\n",
    "#      partial(_cxt2str, item2str=lambda i, _: [f'{i[0]} arrived {wrap_noun2(i[1])}', f'{wrap_noun2(i[1]).capitalize()} arrived {i[0]}']), lambda q, _: f'So {q} arrived just', ' before'\n",
    "#     ),\n",
    "]"
   ]
  },
  {
   "cell_type": "code",
   "execution_count": 62,
   "id": "435a097d",
   "metadata": {
    "collapsed": true
   },
   "outputs": [
    {
     "name": "stdout",
     "output_type": "stream",
     "text": [
      " ┌@[0,2,6,7,9] 9-m,28-m,15-m,39-m,35-62 B->B 44\n",
      " ├@[1,3,4,5,8] 30-34,29-39,25-43,22-40,33-63 B->A0 42\n",
      " ├@0 9-m 100\n",
      " ├@2 28-m 73\n",
      " ├@6 15-m 66\n",
      " ├@7 39-m 66\n",
      " ├@9 35-62 57 B->B 39/61\n",
      " ├@1 30-34 84 B->A0 95/45 attn\n",
      " ├@3 29-39 70 B->A0 82/32 attn\n",
      " ├@4 25-43 70 B->A0 57/8 attn\n",
      " │                            ┌@[0,1,2,5,7,9] 18-23,17-m,21-60,19-m,14-m,19-29 50 B->B 48\n",
      " │                            ├@[3,4,6] 12-4,9-42,9-5 B->A 17\n",
      " │                            ├@[8] 11-49 B->A0 10\n",
      " │                            │                       ┌@[0,1,7] 0-m 100,11-m 56,14-m B->B 30\n",
      " │                            │                       ├@[2,5,8] 12-52 52,16-21,11-49 B->A0 18\n",
      " │                            ├@0 18-23 100 B->B 60/89┤\n",
      " │                            │                       ├@[4,9] 14-39,15-38 B->Q 9\n",
      " │                            │                       └@[3,6] 9-23,9-42 unk 0\n",
      " │                            │          ┌@[0,1,2,3,4,6,8] 11-m 100,12-m 68,9-m 52,8-m,10-m,7-m,14-m B->B 71\n",
      " │                            ├@1 17-m 80┤\n",
      " │                            │          └@[5,7,9] 9-0,9-34,11-27 unk 0\n",
      " │                            │                      ┌@[1,3,4] 19-29 99,18-m 83,13-m 81 B->B 26\n",
      " │                            │                      ├@[0,2,5] 11-49 100,12-52 87,16-20 75 B->A0 20\n",
      " │                            ├@2 21-60 78 B->B 66/90┤\n",
      " │                            │                      ├@[6,7] 17-19 73,9-5 71 B->A 9\n",
      " │                            │                      └@[8,9] 14-39 65,18-11 63 B->Q 7\n",
      " │                            │          ┌@[2,4,6,7,8] 16-46,13-28,15-57,7-m,12-42 B->B 26\n",
      " │                            ├@5 19-m 69┤\n",
      " │                            │          └@[0,1,3,5,9] 9-0 100,17-49 51,10-36,11-39,8-52 unk 0\n",
      " ├@5 22-40 69 B->A0 99/78 attn┤\n",
      " │                            │          ┌@[5,7,8] 11-27,10-9,10-54 B->Q 16\n",
      " │                            │          ├@[1,9] 1-m 53,13-28 B->B 12\n",
      " │                            ├@7 14-m 64┤\n",
      " │                            │          ├@[4,6] 11-24,8-52 B->A 2\n",
      " │                            │          ├@[3] 10-36 B->A0+ 2\n",
      " │                            │          └@[0,2] 9-0 100,11-39 unk 0\n",
      " │                            │                      ┌@[1,2,3,4,5] 15-m 82,14-m 79,11-m 78,16-m 75,9-m 73 B->B 50\n",
      " │                            │                      ├@[0,8] 11-49 100,12-52 54 B->A0 15\n",
      " │                            ├@9 19-29 50 B->B 59/63┤\n",
      " │                            │                      ├@[6,9] 9-5 73,8-55 53 B->A 8\n",
      " │                            │                      └@[7] 14-39 66 unk 0\n",
      " │                            │                     ┌@[3,4,5,7] 5-m 53,6-m 52,6-38,10-54 A->A 30\n",
      " │                            ├@3 12-4 75 B->A 62/99┤\n",
      " │                            │                     ├@[2,6,8] 9-39 80,4-53,3-36 A->A0 19\n",
      " │                            │                     └@[0,1,9] 8-46 100,8-21 95,9-5 A->A0+ 16\n",
      " │                            │                     ┌@[0,2,6,9] 8-55 100,8-21 75,6-45,4-26 A->A0+ 15\n",
      " │                            ├@4 9-42 70 B->A 55/81┤\n",
      " │                            │                     ├@[4,5,7,8] 6-13,4-53,3-31,4-61 A->A0 15\n",
      " │                            │                     └@[1,3] 0-m 77,8-47 55 A->A 10\n",
      " │                            │                    ┌@[0,2,4,5,6,7,8] 8-61 100,7-4 66,5-60,2-19,6-42,8-55,8-45 A->A0+ 5\n",
      " │                            ├@6 9-5 68 B->A 54/86┤\n",
      " │                            │                    └@[1,3,9] 8-59 70,6-39 63,6-32 unk 0\n",
      " │                            │                       ┌@[0,1,2,3,4,5,6,8] 0-m 100,5-m,4-m,7-m,8-m,6-m,2-m,5-13 A0->A0 70\n",
      " │                            └@8 11-49 60 B->A0 81/47┤\n",
      " │                                                    └@[7,9] 9-17,10-19 unk 0\n",
      " ├@8 33-63 59 B->A0 66/18 attn\n",
      " ┤\n",
      " │                          ┌@[0,1,3,5,7] 9-5,12-4,9-42,8-47,15-42 B->A 48\n",
      " │                          ├@[4,8,9] 15-0,10-40 45,16-54 44 B->Q 19\n",
      " │                          ├@[2,6] 11-49,16-20 B->A0 10\n",
      " │                          │                     ┌@[0,3,4,5,8] 8-15 100,7-26,8-45,8-35,6-37 A->A 3\n",
      " │                          ├@0 9-5 100 B->A 88/86┤\n",
      " │                          │                     ├@[1,2,6,7] 7-51 73,8-61 54,6-2,8-19 A->A0+ 2\n",
      " │                          │                     └@[9] 5-10 A->A0 1\n",
      " │                          │                      ┌@[0,2,5,7,8,9] 8-46 100,8-55 60,8-21 51,8-47,9-1,9-5 A->A0+ 19\n",
      " │                          ├@1 12-4 86 B->A 100/99┤\n",
      " │                          │                      └@[1,3,4,6] 9-39 90,11-50 52,10-6 52,3-36 A->A0 16\n",
      " │                          │                     ┌@[0,1,6,7,8] 8-55 100,8-21 53,6-37,6-45,5-34 A->A0+ 16\n",
      " │                          ├@3 9-42 70 B->A 97/81┤\n",
      " │                          │                     ├@[9] 0-m A->A 11\n",
      " │                          │                     └@[2,3,4,5] 6-13,8-47,8-14,4-61 A->A0 10\n",
      " │                          │                     ┌@[0,1,2,3,4,6,7,9] 3-36 100,6-13 100,4-21 88,2-62 67,4-55 62,5-60,7-51,6-54 A->A0 31\n",
      " │                          ├@5 8-47 63 B->A 96/93┤\n",
      " │                          │                     └@[5,8] 6-38 51,6-19 A->A 5\n",
      " ├@95 17-28 16 B->A0/78 attn┤\n",
      " │                          │                      ┌@[0,1,2,3,4,6,8] 9-m 100,10-m 94,12-m 61,11-m,6-m,8-m,5-m A->A 70\n",
      " │                          ├@7 15-42 53 B->A 99/88┤\n",
      " │                          │                      └@[5,7,9] 8-46,9-17,11-7 unk 0\n",
      " │                          │                     ┌@[0,1,3,5,6] 9-m 100,11-m 77,8-m,8-15,9-15 Q->Q 30\n",
      " │                          ├@4 15-0 64 B->Q 61/49┤\n",
      " │                          │                     ├@[7,9] 10-61,12-52 Q->A0 7\n",
      " │                          │                     └@[2,4,8] 9-12 72,9-42,7-35 unk 0\n",
      " │                          │                      ┌@[1,2,4,5,7,8] 6-m 95,5-m 78,9-15 65,4-m 58,3-m,2-m Q->Q 50\n",
      " │                          ├@8 10-40 45 B->Q 46/45┤\n",
      " │                          │                      ├@[3] 9-33 75 Q->A0 5\n",
      " │                          │                      └@[0,6,9] 9-17 100,8-21 52,9-1 unk 0\n",
      " │                          │                      ┌@[0,1,2,3,4,6] 12-m 100,13-m 73,0-m 65,9-m 59,11-m,5-m Q->Q 60\n",
      " │                          ├@9 16-54 44 B->Q 86/84┤\n",
      " │                          │                      ├@[5,7,9] 12-52,9-33,11-7 Q->A0 12\n",
      " │                          │                      └@[8] 14-54 unk 0\n",
      " │                          │                       ┌@[0,1,2,8,9] 0-m 100,6-m,5-m,9-39,8-21 A0->A0 30\n",
      " │                          ├@2 11-49 85 B->A0 72/47┤\n",
      " │                          │                       └@[3,4,5,6,7] 10-51,9-17,10-19,8-43,8-42 unk 0\n",
      " │                          │                       ┌@[0,1,2,6,9] 12-m 100,7-m 81,8-m 74,14-23,12-42 A0->A0 30\n",
      " │                          └@6 16-20 62 B->A0 20/10┤\n",
      " │                                                  └@[3,4,5,7,8] 13-31,15-57,10-9,8-42,8-43 unk 0\n",
      " │                          ┌@[1,4,5,8] 9-42,9-28 47,12-4 43,8-47 40 B->A 39\n",
      " │                          ├@[3,6,9] 15-0,18-11 42,16-54 40 B->Q 23\n",
      " │                          ├@[0] 18-23 B->B 15\n",
      " │                          ├@[2] 11-49 B->A0 9\n",
      " │                          ├@[7] 10-40 41 B->Q- 9\n",
      " │                          │                     ┌@[0,1,7,8] 8-46 100,8-55 98,6-45,8-21 A->A0+ 15\n",
      " │                          ├@1 9-42 89 B->A 97/81┤\n",
      " │                          │                     ├@[3,4,5,6,9] 8-47 61,4-53 60,6-13 54,3-31,8-14 A->A0 15\n",
      " │                          │                     └@[2] 0-m 70 A->A 11\n",
      " │                          │                     ┌@[1,2,5,7,8] 4-53 66,3-36 59,6-13,3-31,3-63 A->A0 35\n",
      " │                          ├@4 9-28 47 B->A 99/96┤\n",
      " │                          │                     ├@[0,3,9] 8-46 100,8-21,8-55 A->A0+ 17\n",
      " │                          │                     └@[4,6] 5-m,8-47 A->A 10\n",
      " │                          │                     ┌@[1,3,4,6,7,9] 9-39 69,3-36,11-50,10-0,4-61,10-6 A->A0 22\n",
      " │                          ├@5 12-4 43 B->A 97/99┤\n",
      " │                          │                     ├@[5,8] 6-m,5-m A->A 21\n",
      " │                          │                     └@[0,2] 8-46 100,8-55 65 A->A0+ 10\n",
      " ├@135 19-1 12 B->A0/79 attn┤\n",
      " │                          │                     ┌@[0,1,5,7,8] 8-m 100,9-m 95,10-m,7-m,9-15 Q->Q 40\n",
      " │                          ├@3 15-0 52 B->Q 63/49┤\n",
      " │                          │                     ├@[3,6] 9-42 51,10-61 Q->A0 5\n",
      " │                          │                     └@[2,4,9] 13-31 56,9-12 50,7-35 unk 0\n",
      " │                          │                      ┌@[0,1,2,5,7,9] 0-m 100,14-m 57,7-m,6-m,11-m,9-42 Q->Q 50\n",
      " │                          ├@6 18-11 42 B->Q 35/27┤\n",
      " │                          │                      └@[3,4,6,8] 9-17,3-31,13-31,9-29 unk 0\n",
      " │                          │                       ┌@[1,2,3,4] 12-52 75,11-49,16-21,14-39 B->A0 23\n",
      " │                          │                       ├@[6,7,9] 8-47,4-26,9-28 B->A 23\n",
      " │                          ├@0 18-23 100 B->B 94/89┤\n",
      " │                          │                       ├@[0,8] 0-m 100,11-m B->B 20\n",
      " │                          │                       └@[5] 15-38 B->Q 7\n",
      " │                          │                       ┌@[0,2,5,6,7] 0-m 100,9-39 87,8-47 72,10-53 64,8-34 54 A0->A0 10\n",
      " │                          ├@2 11-49 65 B->A0 83/47┤\n",
      " │                          │                       ├@[1,3,8,9] 10-40 91,10-51 80,7-40 50,5-4 A0->T+ 3\n",
      " │                          │                       └@[4] 8-55 79 unk 0\n",
      " │                          └@7 10-40 41 B->Q- 45/46┐\n",
      " │                                                  └@:10 5-m 100,9-15 81,9-33 77,9-17 62,0-m 55,8-21 52,6-m 51,4-m 50,3-m,9-20 Q-->Q- 50\n",
      " │                             ┌@[0,1,2,3,4,6,7,8,9] 23-m,22-m,17-m,19-m,18-m,14-m 43,19-29 41,20-m 41,21-m 36 B->B 88\n",
      " │                             ├@[5] 11-49 B->A0 10\n",
      " │                             ├@0 23-m 100\n",
      " │                             ├@1 22-m 83\n",
      " │                             ├@2 17-m 81\n",
      " ├@2806 26-57 -19 B->A0/81 attn┤\n",
      " │                             ├@3 19-m 67\n",
      " │                             ├@4 18-m 64\n",
      " │                             ├@6 14-m 43\n",
      " │                             ├@7 19-29 41 B->B 75/63\n",
      " │                             ├@8 20-m 41\n",
      " │                             └@5 11-49 53 B->A0 81/47\n",
      " │                             ┌@[1,2,3,6,7,8,9] 18-m,20-m,17-m,19-29,12-m,10-m,11-m B->B 69\n",
      " │                             ├@[0,4,5] 11-49,12-44,22-40 B->A0 26\n",
      " │                             ├@1 18-m 99\n",
      " │                             ├@2 20-m 89\n",
      " │                             ├@3 17-m 88\n",
      " │                             ├@6 19-29 68 B->B 88/63\n",
      " └@2854 23-54 -57 B->A0/80 attn┤\n",
      "                               ├@7 12-m 65\n",
      "                               ├@8 10-m 64\n",
      "                               ├@9 11-m 51\n",
      "                               ├@0 11-49 100 B->A0 77/47\n",
      "                               ├@4 12-44 78 B->A0 80/48\n",
      "                               └@5 22-40 72 B->A0 90/78\n"
     ]
    }
   ],
   "source": [
    "print_tree(r.root)"
   ]
  },
  {
   "cell_type": "code",
   "execution_count": 48,
   "id": "d140cd24",
   "metadata": {},
   "outputs": [
    {
     "data": {
      "text/plain": [
       "odict_keys(['', '22-40 attn/candidates', '17-28 attn/candidates', '19-1 attn/candidates', '26-57 attn/candidates', '23-54 attn/candidates', '22-40 attn/candidates > 15-38', '22-40 attn/candidates > 14-39', '22-40 attn/candidates > 10-52', '17-28 attn/candidates > 15-38', '17-28 attn/candidates > 14-39', '17-28 attn/candidates > 11-50', '17-28 attn/candidates > 11-35', '17-28 attn/candidates > 14-30', '17-28 attn/candidates > 15-0', '19-1 attn/candidates > 14-39', '19-1 attn/candidates > 15-0', '22-40 attn/candidates > 19-29', '22-40 attn/candidates > 11-m', '22-40 attn/candidates > 21-60'])"
      ]
     },
     "execution_count": 48,
     "metadata": {},
     "output_type": "execute_result"
    }
   ],
   "source": [
    "r.data_tuples[0][-1].attn_attr.keys()"
   ]
  },
  {
   "cell_type": "code",
   "execution_count": 58,
   "id": "d9380fe6",
   "metadata": {
    "collapsed": true
   },
   "outputs": [
    {
     "name": "stdout",
     "output_type": "stream",
     "text": [
      " ┌@[0,2,6,7,9] 9-m,28-m,15-m,39-m,35-62 B->B 44\n",
      " ├@[1,3,4,5,8] 30-34,29-39,25-43,22-40,33-63 B->A0 42\n",
      " ├@0 9-m 100\n",
      " ├@2 28-m 73\n",
      " ├@6 15-m 66\n",
      " ├@7 39-m 66\n",
      " ├@9 35-62 57 B->B 39/61\n",
      " ├@1 30-34 84 B->A0 95/45 attn/candidates\n",
      " ├@3 29-39 70 B->A0 82/32 attn/candidates\n",
      " ├@4 25-43 70 B->A0 57/8 attn/candidates\n",
      " │                                       ┌@[2,4,5,8] 19-29,11-m,21-60,0-m B->B 31\n",
      " │                                       ├@[3,7] 11-49,16-21 B->A0 22\n",
      " │                                       ├@[0,1,9] 15-38,14-39,10-52 B->Q 15\n",
      " │                                       ├@[6] 12-17 unk 0\n",
      " │                                       │                      ┌@[1,8,9] 11-49 100,12-52 46,17-61 43 B->A0 19\n",
      " │                                       │                      ├@[5] 13-m 52 B->B 10\n",
      " │                                       ├@2 19-29 84 B->B 59/63┤\n",
      " │                                       │                      ├@[0,2,4] 15-38 100,14-39 85,11-50 60 B->Q 9\n",
      " │                                       │                      └@[3,6,7] 12-17 79,9-17 49,8-43 47 unk 0\n",
      " │                                       │          ┌@[0,1,2,3,4,6,8] 8-m 100,6-m 55,7-m 53,10-53,4-m,10-0,6-39 B->B 41\n",
      " │                                       ├@4 11-m 64┤\n",
      " │                                       │          ├@[7] 10-51 B->Q 5\n",
      " │                                       │          └@[5,9] 8-19,9-5 unk 0\n",
      " │                                       │                      ┌@[0,1,7,8,9] 15-38 100,14-39 93,11-50,11-35,14-30 B->Q 27\n",
      " │                                       │                      ├@[3,4,5] 16-21 48,12-52 47,11-49 40 B->A0 25\n",
      " │                                       ├@5 21-60 55 B->B 44/90┤\n",
      " │                                       │                      ├@[6] 19-29 B->B 6\n",
      " │                                       │                      └@[2] 12-17 50 unk 0\n",
      " │                                       ├@8 0-m 46\n",
      " │                                       ├@3 11-49 74 B->A0 85/47\n",
      " │                                       ├@7 16-21 47 B->A0 57/38\n",
      " ├@5 22-40 69 B->A0 99/78 attn/candidates┤\n",
      " │                                       │                       ┌@[6,7] 5-m,9-29 Q->Q 10\n",
      " │                                       ├@0 15-38 100 B->Q 52/43┤\n",
      " │                                       │                       ├@[0,1,3,5,8] 9-12 100,10-6 59,11-50 46,9-17 43,8-29 Q->T 5\n",
      " │                                       │                       └@[2,4,9] 9-1 50,8-43 44,10-19 unk 0\n",
      " │                                       │                            ┌@[0,6] 0-m 100,5-m 64 B->B 25\n",
      " │                                       │                            ├@[2,3,8] 11-35 82,13-9 79,10-40 59 B->Q 19\n",
      " │                                       ├@0 15-38 100 B->Q 52/43 attn┤\n",
      " │                                       │                            ├@[1,7] 9-10 95,10-6 60 B->A 12\n",
      " │                                       │                            └@[4,5,9] 9-1 72,11-53 65,14-54 58 B->A0 8\n",
      " │                                       │                      ┌@[1,2] 11-50 81,12-63 73 Q->T 8\n",
      " │                                       │                      ├@[6,8] 12-52 47,9-33 Q->A0 5\n",
      " │                                       ├@1 14-39 94 B->Q 56/34┤\n",
      " │                                       │                      ├@[3,5,7,9] 10-19 69,9-17 48,12-17,9-29 Q->T+ 1\n",
      " │                                       │                      └@[0,4] 9-12 100,8-43 52 unk 0\n",
      " │                                       │                           ┌@[0,1,3,6] 0-m 100,11-m,8-m,5-m B->B 40\n",
      " │                                       ├@1 14-39 94 B->Q 56/34 attn┤\n",
      " │                                       │                           ├@[2,4,8] 9-10,12-4,10-0 B->A 18\n",
      " │                                       │                           └@[5,7,9] 9-0,9-1,12-55 B->A0 4\n",
      " │                                       │                      ┌@[6] 9-33 Q->A0 3\n",
      " │                                       ├@9 10-52 44 B->Q 40/23┤\n",
      " │                                       │                      ├@[0,1,2,3,8,9] 9-17 100,8-43 96,9-12 94,9-29 42,8-29,3-63 Q->T 1\n",
      " │                                       │                      └@[4,5,7] 9-1,8-15,8-42 unk 0\n",
      " │                                       │                           ┌@[1,3,4,5,6,7,8,9] 9-10 86,8-19 48,9-21,8-30,8-47,9-23,7-3,9-3 B->A 38\n",
      " │                                       ├@9 10-52 44 B->Q 40/23 attn┤\n",
      " │                                       │                           ├@[0] 0-m 100 B->B 10\n",
      " │                                       │                           └@[2] 9-1 61 unk 0\n",
      " │                                       └@6 12-17 48 B->A 9/12\n",
      " ├@8 33-63 59 B->A0 66/18 attn/candidates\n",
      " ┤\n",
      " │                                     ┌@[0,1,2,5,6,7,8] 15-38,14-39,11-50,11-35,14-30,15-0,10-52 36 B->Q 17\n",
      " │                                     ├@[4] 11-49 B->A0 11\n",
      " │                                     ├@[9] 12-63 35 B->B 2\n",
      " │                                     ├@[3] 9-5 B->A 2\n",
      " │                                     │                       ┌@[8,9] 5-m,9-m Q->Q 20\n",
      " │                                     │                       ├@[4,5,7] 9-33,10-61,12-52 Q->A0 7\n",
      " │                                     ├@0 15-38 100 B->Q 18/43┤\n",
      " │                                     │                       ├@[0,2,3] 9-12 100,10-6 57,11-50 51 Q->T 3\n",
      " │                                     │                       └@[1,6] 9-1 70,8-43 unk 0\n",
      " │                                     │                            ┌@[0] 0-m 100 B->B 15\n",
      " │                                     │                            ├@[1,2,6] 11-35 98,13-9 78,10-40 57 B->Q 12\n",
      " │                                     ├@0 15-38 100 B->Q 18/43 attn┤\n",
      " │                                     │                            ├@[3,7] 9-10 78,10-6 56 B->A 9\n",
      " │                                     │                            ├@[8] 11-7 50 B->Q- 6\n",
      " │                                     │                            └@[4,5,9] 9-1 67,11-53 66,13-40 45 B->A0 5\n",
      " │                                     │                      ┌@[0,2,7,8] 9-12 100,0-m 50,8-43,8-m Q->Q 20\n",
      " │                                     │                      ├@[3,9] 9-33 50,10-61 Q->A0 4\n",
      " │                                     ├@1 14-39 66 B->Q 26/34┤\n",
      " │                                     │                      ├@[1,5,6] 11-50 90,12-61,12-63 Q->T 4\n",
      " │                                     │                      └@[4] 9-17 48 unk 0\n",
      " │                                     │                           ┌@[0,2,3,4,7] 0-m 100,8-m,5-m,11-m,13-9 B->B 43\n",
      " │                                     ├@1 14-39 66 B->Q 26/34 attn┤\n",
      " │                                     │                           ├@[1,5,9] 9-10,12-4,10-0 B->A 13\n",
      " │                                     │                           └@[6,8] 9-1,9-0 unk 0\n",
      " │                                     │                    ┌@[0,1,5,7] 0-m 100,5-m 74,8-m 60,4-m Q->Q 40\n",
      " │                                     ├@2 11-50 61 B->Q 4/7┤\n",
      " │                                     │                    └@[2,3,4,6,8,9] 9-39 72,6-59 71,10-0 65,10-19 45,8-55,9-5 unk 0\n",
      " ├@95 17-28 16 B->A0/78 attn/candidates┤\n",
      " │                                     │                         ┌@[0,1,2,3,6,8,9] 7-10 100,10-55 98,10-35 59,8-60 57,5-41 43,7-7 42,6-1 41 B->Q 32\n",
      " │                                     ├@2 11-50 61 B->Q 4/7 attn┤\n",
      " │                                     │                         ├@[7] 9-42 43 B->A 6\n",
      " │                                     │                         └@[4,5] 9-14 56,10-40 51 B->Q- 6\n",
      " │                                     │                      ┌@[4,5,6,7] 0-m 43,6-59,10-55,5-m Q->Q 26\n",
      " │                                     │                      ├@[0,1,8] 9-39 100,10-0 81,10-20 Q->T 8\n",
      " │                                     ├@5 11-35 43 B->Q 41/63┤\n",
      " │                                     │                      ├@[2,3] 8-55 81,9-5 60 Q->T+ 7\n",
      " │                                     │                      └@[9] 9-55 unk 0\n",
      " │                                     │                           ┌@[0,1,7] 0-m 100,5-m,3-m B->B 31\n",
      " │                                     │                           ├@[4,5,6,9] 8-30,9-42,7-3,9-28 B->A 18\n",
      " │                                     ├@5 11-35 43 B->Q 41/63 attn┤\n",
      " │                                     │                           ├@[8] 9-26 B->Q 8\n",
      " │                                     │                           ├@[2] 10-40 B->Q- 3\n",
      " │                                     │                           └@[3] 9-0 unk 0\n",
      " │                                     │                      ┌@[4,5,6,7] 10-55,11-35,0-m,13-63 Q->Q 17\n",
      " │                                     ├@6 14-30 42 B->Q 43/63┤\n",
      " │                                     │                      ├@[0,1,2,3,8] 11-50 100,12-61 63,12-63 54,9-39 43,10-0 Q->T 13\n",
      " │                                     │                      └@[9] 8-55 Q->T+ 4\n",
      " │                                     │                           ┌@[0,1,4,7,8] 0-m 100,9-39,5-m,3-63,13-12 B->B 25\n",
      " │                                     ├@6 14-30 42 B->Q 43/63 attn┤\n",
      " │                                     │                           ├@[2,3,6] 13-9,9-26,10-40 B->Q 16\n",
      " │                                     │                           └@[5,9] 9-42,9-23 B->A 6\n",
      " │                                     │                     ┌@[0,1,2,6,7,8,9] 7-m 100,8-m 99,9-m 97,10-m 53,9-12 53,12-17 47,6-m 47 Q->Q 50\n",
      " │                                     ├@7 15-0 41 B->Q 20/49┤\n",
      " │                                     │                     └@[3,4,5] 9-17 70,13-31 68,8-43 66 unk 0\n",
      " │                                     │                          ┌@:5 0-m 100,12-m 68,5-m,11-m,4-53 B->B 42\n",
      " │                                     │                          ├@[5,9] 9-21,9-10 B->A 10\n",
      " │                                     ├@7 15-0 41 B->Q 20/49 attn┤\n",
      " │                                     │                          ├@[7,8] 9-26,13-9 B->Q 7\n",
      " │                                     │                          └@[6] 11-53 unk 0\n",
      " │                                     ├@4 11-49 48 B->A0 53/47\n",
      " │                                     └@3 9-5 55 B->A 19/86\n",
      " │                                     ┌@[3,4,5,7] 9-m,11-m,10-m,18-23 B->B 36\n",
      " │                                     ├@[0,2,6,9] 15-38,16-21,10-52,17-61 B->A0 15\n",
      " │                                     ├@[1,8] 14-39,15-0 B->Q 10\n",
      " │                                     ├@3 9-m 52\n",
      " │                                     ├@4 11-m 46\n",
      " │                                     ├@5 10-m 46\n",
      " │                                     ├@7 18-23 43 B->B 46/89\n",
      " │                                     ├@0 15-38 100 B->A0 20/15\n",
      " │                                     ├@2 16-21 65 B->A0 44/38\n",
      " │                                     ├@6 10-52 44 B->A0 22/13\n",
      " │                                     ├@9 17-61 43 B->A0 31/16\n",
      " ├@135 19-1 12 B->A0/79 attn/candidates┤\n",
      " │                                     │                      ┌@[3,7,8] 9-12 85,12-17 54,0-m 46 Q->Q 10\n",
      " │                                     │                      ├@[0,2] 10-61 100,9-33 92 Q->A0 5\n",
      " │                                     ├@1 14-39 89 B->Q 25/34┤\n",
      " │                                     │                      ├@[4,6,9] 8-43 83,13-31 77,11-50 42 Q->T 1\n",
      " │                                     │                      └@[1,5] 10-19 93,9-17 78 unk 0\n",
      " │                                     │                           ┌@[0,1,4,6] 0-m 100,11-m,5-m,8-m B->B 43\n",
      " │                                     ├@1 14-39 89 B->Q 25/34 attn┤\n",
      " │                                     │                           ├@[2,7,8] 9-10,12-4,10-0 B->A 14\n",
      " │                                     │                           └@[3,5,9] 13-9,9-14,9-1 unk 0\n",
      " │                                     │                     ┌@[0,1,2,3,7,9] 8-m 100,10-m 84,7-m 74,9-m 73,12-m 44,12-17 Q->Q 50\n",
      " │                                     ├@8 15-0 43 B->Q 23/49┤\n",
      " │                                     │                     └@[4,5,6,8] 9-17 60,8-43 52,13-31 51,10-19 unk 0\n",
      " │                                     │                          ┌@:5 0-m 100,12-m 72,11-m,5-m,4-53 B->B 41\n",
      " │                                     │                          ├@[5,8] 9-21,9-10 B->A 10\n",
      " │                                     └@8 15-0 43 B->Q 23/49 attn┤\n",
      " │                                                                ├@[7,9] 9-26,10-40 B->Q 8\n",
      " │                                                                └@[6] 11-53 unk 0\n",
      " │                                        ┌@:8 8-m,10-m,19-29,14-m,13-m,21-60,21-m,9-m B->B 70\n",
      " │                                        ├@[8,9] 11-49,17-61 B->A0 10\n",
      " │                                        ├@0 8-m 100\n",
      " │                                        ├@1 10-m 96\n",
      " │                                        ├@2 19-29 94 B->B 42/63\n",
      " │                                        ├@3 14-m 84\n",
      " ├@2806 26-57 -19 B->A0/81 attn/candidates┤\n",
      " │                                        ├@4 13-m 82\n",
      " │                                        ├@5 21-60 81 B->B 53/90\n",
      " │                                        ├@6 21-m 80\n",
      " │                                        ├@7 9-m 77\n",
      " │                                        ├@8 11-49 73 B->A0 52/47\n",
      " │                                        └@9 17-61 69 B->A0 33/16\n",
      " │                                        ┌@[0,1,3,4,5,7,9] 15-m,0-m,19-m,14-m,19-29,13-m,12-m 37 B->B 63\n",
      " │                                        ├@[2,8] 17-61,15-38 B->A0 7\n",
      " │                                        ├@[6] 9-5 unk 0\n",
      " │                                        ├@0 15-m 100\n",
      " │                                        ├@1 0-m 96\n",
      " │                                        ├@3 19-m 51\n",
      " └@2854 23-54 -57 B->A0/80 attn/candidates┤\n",
      "                                          ├@4 14-m 49\n",
      "                                          ├@5 19-29 47 B->B 28/63\n",
      "                                          ├@7 13-m 43\n",
      "                                          ├@2 17-61 78 B->A0 29/16\n",
      "                                          ├@8 15-38 41 B->A0 23/15\n",
      "                                          └@6 9-5 47 B->A 11/86\n"
     ]
    }
   ],
   "source": [
    "print_tree(r.root)"
   ]
  },
  {
   "cell_type": "code",
   "execution_count": 17,
   "id": "96bb3aa6",
   "metadata": {
    "scrolled": false
   },
   "outputs": [
    {
     "name": "stdout",
     "output_type": "stream",
     "text": [
      " ┌@[0,2,6,7,9] 9-m,28-m,15-m,39-m,35-62 B->B 44\n",
      " ├@[1,3,4,5,8] 30-34,29-39,25-43,22-40,33-63 B->A0 42\n",
      " ├@0 9-m 100\n",
      " ├@2 28-m 73\n",
      " ├@6 15-m 66\n",
      " ├@7 39-m 66\n",
      " ├@9 35-62 57 B->B 39/61\n",
      " ├@1 30-34 84 B->A0 95/45 attn/ans0s\n",
      " ├@3 29-39 70 B->A0 82/32 attn/ans0s\n",
      " ├@4 25-43 70 B->A0 57/8 attn/ans0s\n",
      " │                                  ┌@[2,4,5,8] 19-29,11-m,21-60,0-m B->B 31\n",
      " │                                  ├@[3,7] 11-49,16-21 B->A0 22\n",
      " │                                  ├@[0,1,9] 15-38,14-39,10-52 B->Q 15\n",
      " │                                  ├@[6] 12-17 unk 0\n",
      " │                                  │                      ┌@[1,8,9] 11-49 100,12-52 46,17-61 43 B->A0 19\n",
      " │                                  │                      ├@[5] 13-m 52 B->B 10\n",
      " │                                  ├@2 19-29 84 B->B 59/63┤\n",
      " │                                  │                      ├@[0,2,4] 15-38 100,14-39 85,11-50 60 B->Q 9\n",
      " │                                  │                      └@[3,6,7] 12-17 79,9-17 49,8-43 47 unk 0\n",
      " │                                  ├@4 11-m 64\n",
      " │                                  │                      ┌@[0,1,7,8,9] 15-38 100,14-39 93,11-50,11-35,14-30 B->Q 27\n",
      " │                                  │                      ├@[3,4,5] 16-21 48,12-52 47,11-49 40 B->A0 25\n",
      " │                                  ├@5 21-60 55 B->B 44/90┤\n",
      " │                                  │                      ├@[6] 19-29 B->B 6\n",
      " │                                  │                      └@[2] 12-17 50 unk 0\n",
      " │                                  ├@8 0-m 46\n",
      " │                                  ├@3 11-49 74 B->A0 85/47\n",
      " │                                  ├@7 16-21 47 B->A0 57/38\n",
      " │                                  │                       ┌@[6,7] 5-m,9-29 Q->Q 10\n",
      " │                                  ├@0 15-38 100 B->Q 52/43┤\n",
      " │                                  │                       ├@[0,1,3,5,8] 9-12 100,10-6 59,11-50 46,9-17 43,8-29 Q->T 5\n",
      " │                                  │                       └@[2,4,9] 9-1 50,8-43 44,10-19 unk 0\n",
      " ├@5 22-40 69 B->A0 99/78 attn/ans0s┤\n",
      " │                                  │                            ┌@[0,6] 0-m 100,5-m 64 B->B 25\n",
      " │                                  │                            ├@[2,3,8] 11-35 82,13-9 79,10-40 59 B->Q 19\n",
      " │                                  │                            ├@[1,7] 9-10 95,10-6 60 B->A 12\n",
      " │                                  │                            ├@[4,5,9] 9-1 72,11-53 65,14-54 58 B->A0 8\n",
      " │                                  │                            ├@0 0-m 100\n",
      " │                                  │                            ├@6 5-m 64\n",
      " │                                  │                            ├@2 11-35 82 B->Q 85/63\n",
      " │                                  │                            ├@3 13-9 79 B->Q 50/59\n",
      " │                                  │                            ├@8 10-40 59 B->Q 51/45\n",
      " │                                  ├@0 15-38 100 B->Q 52/43 attn┤\n",
      " │                                  │                            │                     ┌@[0,1,2,4,6,7,8] 6-m 100,5-7 54,7-62 47,8-55,6-31,8-29,8-42 A->A 11\n",
      " │                                  │                            ├@1 9-10 95 B->A 89/92┤\n",
      " │                                  │                            │                     └@[3,5,9] 6-45,7-40,8-33 unk 0\n",
      " │                                  │                            │                     ┌@[0,6,8] 7-37 100,5-15 51,3-3 45 A->A0 1\n",
      " │                                  │                            ├@7 10-6 60 B->A 34/51┤\n",
      " │                                  │                            │                     ├@[3,7,9] 9-29 57,5-4 47,9-8 43 A->A 1\n",
      " │                                  │                            │                     └@[1,2,4,5] 8-17 72,7-4 64,8-34 56,9-26 52 A->A0+ 0\n",
      " │                                  │                            ├@4 9-1 72 B->A0 1/2\n",
      " │                                  │                            ├@5 11-53 65 B->A0 15/14\n",
      " │                                  │                            └@9 14-54 58 B->A0 54/46\n",
      " │                                  │                      ┌@[1,2] 11-50 81,12-63 73 Q->T 8\n",
      " │                                  │                      ├@[6,8] 12-52 47,9-33 Q->A0 5\n",
      " │                                  ├@1 14-39 94 B->Q 56/34┤\n",
      " │                                  │                      ├@[3,5,7,9] 10-19 69,9-17 48,12-17,9-29 Q->T+ 1\n",
      " │                                  │                      └@[0,4] 9-12 100,8-43 52 unk 0\n",
      " │                                  │                           ┌@[0,1,3,6] 0-m 100,11-m,8-m,5-m B->B 40\n",
      " │                                  │                           ├@[2,4,8] 9-10,12-4,10-0 B->A 18\n",
      " │                                  ├@1 14-39 94 B->Q 56/34 attn┤\n",
      " │                                  │                           ├@[5,7,9] 9-0,9-1,12-55 B->A0 4\n",
      " │                                  │                           └@0 0-m 100\n",
      " │                                  │                      ┌@[6] 9-33 Q->A0 3\n",
      " │                                  ├@9 10-52 44 B->Q 40/23┤\n",
      " │                                  │                      ├@[0,1,2,3,8,9] 9-17 100,8-43 96,9-12 94,9-29 42,8-29,3-63 Q->T 1\n",
      " │                                  │                      └@[4,5,7] 9-1,8-15,8-42 unk 0\n",
      " │                                  │                           ┌@[1,3,4,5,6,7,8,9] 9-10 86,8-19 48,9-21,8-30,8-47,9-23,7-3,9-3 B->A 38\n",
      " │                                  │                           ├@[0] 0-m 100 B->B 10\n",
      " │                                  │                           ├@[2] 9-1 61 unk 0\n",
      " │                                  ├@9 10-52 44 B->Q 40/23 attn┤\n",
      " │                                  │                           │                     ┌@[1,4,6,7,9] 8-43 90,5-m 81,6-45 57,3-m 54,2-m 44 A->A 29\n",
      " │                                  │                           ├@1 9-10 86 B->A 67/92┤\n",
      " │                                  │                           │                     └@[0,2,3,5,8] 8-18 100,8-47 84,8-30 84,8-46 60,5-7 49 unk 0\n",
      " │                                  │                           │                     ┌@[1,2] 0-m 43,6-45 A->A 10\n",
      " │                                  │                           ├@3 8-19 48 B->A 64/81┤\n",
      " │                                  │                           │                     └@[0,3,4,5,6,7,8,9] 5-7 100,6-13,3-63,4-26,6-46,4-53,5-20,3-36 unk 0\n",
      " │                                  │                           ├@0 0-m 100\n",
      " │                                  │                           └@2 9-1 61 B->Q- 0/0\n",
      " │                                  └@6 12-17 48 B->A 9/12\n",
      " ├@8 33-63 59 B->A0 66/18 attn/ans0s\n",
      " ┤\n",
      " │                                ┌@[0,1,2,5,6,7,8] 15-38,14-39,11-50,11-35,14-30,15-0,10-52 36 B->Q 17\n",
      " │                                ├@[4] 11-49 B->A0 11\n",
      " │                                ├@[9] 12-63 35 B->B 2\n",
      " │                                ├@[3] 9-5 B->A 2\n",
      " │                                │                       ┌@[8,9] 5-m,9-m Q->Q 20\n",
      " │                                │                       ├@[4,5,7] 9-33,10-61,12-52 Q->A0 7\n",
      " │                                ├@0 15-38 100 B->Q 18/43┤\n",
      " │                                │                       ├@[0,2,3] 9-12 100,10-6 57,11-50 51 Q->T 3\n",
      " │                                │                       └@[1,6] 9-1 70,8-43 unk 0\n",
      " │                                │                            ┌@[0] 0-m 100 B->B 15\n",
      " │                                │                            ├@[1,2,6] 11-35 98,13-9 78,10-40 57 B->Q 12\n",
      " │                                │                            ├@[3,7] 9-10 78,10-6 56 B->A 9\n",
      " │                                │                            ├@[8] 11-7 50 B->Q- 6\n",
      " │                                │                            ├@[4,5,9] 9-1 67,11-53 66,13-40 45 B->A0 5\n",
      " │                                │                            ├@0 0-m 100\n",
      " │                                │                            ├@1 11-35 98 B->Q 48/63\n",
      " │                                │                            ├@2 13-9 78 B->Q 37/59\n",
      " │                                │                            ├@6 10-40 57 B->Q 33/45\n",
      " │                                ├@0 15-38 100 B->Q 18/43 attn┤\n",
      " │                                │                            │                     ┌@[0,1,2,6,8] 6-m 100,7-62 62,0-m 52,5-7 42,6-31 A->A 21\n",
      " │                                │                            ├@3 9-10 78 B->A 62/92┤\n",
      " │                                │                            │                     ├@[3,4,5] 6-45 49,8-55 46,6-37 46 A->A0+ 3\n",
      " │                                │                            │                     └@[7,9] 7-21 41,8-21 unk 0\n",
      " │                                │                            │                     ┌@[0,7,8] 7-37 100,5-15 47,3-3 43 A->A0 2\n",
      " │                                │                            ├@7 10-6 56 B->A 30/51┤\n",
      " │                                │                            │                     ├@[5,6,9] 9-29 49,5-4 48,9-4 42 A->A 1\n",
      " │                                │                            │                     └@[1,2,3,4] 8-34 79,8-17 74,7-4 61,9-26 58 A->A0+ 1\n",
      " │                                │                            ├@8 11-7 50 B->Q- 32/25\n",
      " │                                │                            ├@4 9-1 67 B->A0 1/2\n",
      " │                                │                            ├@5 11-53 66 B->A0 10/14\n",
      " │                                │                            └@9 13-40 45 B->A0 30/57\n",
      " │                                │                      ┌@[0,2,7,8] 9-12 100,0-m 50,8-43,8-m Q->Q 20\n",
      " │                                │                      ├@[3,9] 9-33 50,10-61 Q->A0 4\n",
      " │                                ├@1 14-39 66 B->Q 26/34┤\n",
      " │                                │                      ├@[1,5,6] 11-50 90,12-61,12-63 Q->T 4\n",
      " │                                │                      └@[4] 9-17 48 unk 0\n",
      " │                                │                           ┌@[0,2,3,4,7] 0-m 100,8-m,5-m,11-m,13-9 B->B 43\n",
      " │                                │                           ├@[1,5,9] 9-10,12-4,10-0 B->A 13\n",
      " │                                ├@1 14-39 66 B->Q 26/34 attn┤\n",
      " │                                │                           ├@[6,8] 9-1,9-0 unk 0\n",
      " │                                │                           └@0 0-m 100\n",
      " │                                │                    ┌@[0,1,5,7] 0-m 100,5-m 74,8-m 60,4-m Q->Q 40\n",
      " │                                ├@2 11-50 61 B->Q 4/7┤\n",
      " │                                │                    └@[2,3,4,6,8,9] 9-39 72,6-59 71,10-0 65,10-19 45,8-55,9-5 unk 0\n",
      " ├@95 17-28 16 B->A0/78 attn/ans0s┤\n",
      " │                                │                         ┌@[0,1,2,3,6,8,9] 7-10 100,10-55 98,10-35 59,8-60 57,5-41 43,7-7 42,6-1 41 B->Q 32\n",
      " │                                │                         ├@[7] 9-42 43 B->A 6\n",
      " │                                │                         ├@[4,5] 9-14 56,10-40 51 B->Q- 6\n",
      " │                                │                         ├@0 7-10 100 B->Q 44/92\n",
      " │                                │                         ├@1 10-55 98 B->Q 39/85\n",
      " │                                │                         ├@2 10-35 59 B->Q 41/33\n",
      " │                                │                         ├@3 8-60 57 B->Q 35/48\n",
      " │                                │                         ├@6 5-41 43 B->Q 48/63\n",
      " │                                ├@2 11-50 61 B->Q 4/7 attn┤\n",
      " │                                │                         ├@8 7-7 42 B->Q 48/94\n",
      " │                                │                         ├@9 6-1 41 B->Q 44/51\n",
      " │                                │                         │                     ┌@[0,1,5,6,7] 6-m 100,5-m 96,4-m,7-38,6-38 A->A 35\n",
      " │                                │                         ├@7 9-42 43 B->A 65/81┤\n",
      " │                                │                         │                     ├@[2,4,9] 3-36 77,2-62,8-29 A->A0 12\n",
      " │                                │                         │                     └@[3,8] 8-47 62,8-59 unk 0\n",
      " │                                │                         ├@4 9-14 56 B->Q- 28/33\n",
      " │                                │                         └@5 10-40 51 B->Q- 29/46\n",
      " │                                │                      ┌@[4,5,6,7] 0-m 43,6-59,10-55,5-m Q->Q 26\n",
      " │                                │                      ├@[0,1,8] 9-39 100,10-0 81,10-20 Q->T 8\n",
      " │                                ├@5 11-35 43 B->Q 41/63┤\n",
      " │                                │                      ├@[2,3] 8-55 81,9-5 60 Q->T+ 7\n",
      " │                                │                      └@[9] 9-55 unk 0\n",
      " │                                │                           ┌@[0,1,7] 0-m 100,5-m,3-m B->B 31\n",
      " │                                │                           ├@[4,5,6,9] 8-30,9-42,7-3,9-28 B->A 18\n",
      " │                                │                           ├@[8] 9-26 B->Q 8\n",
      " │                                ├@5 11-35 43 B->Q 41/63 attn┤\n",
      " │                                │                           ├@[2] 10-40 B->Q- 3\n",
      " │                                │                           ├@[3] 9-0 unk 0\n",
      " │                                │                           └@0 0-m 100\n",
      " │                                │                      ┌@[4,5,6,7] 10-55,11-35,0-m,13-63 Q->Q 17\n",
      " │                                ├@6 14-30 42 B->Q 43/63┤\n",
      " │                                │                      ├@[0,1,2,3,8] 11-50 100,12-61 63,12-63 54,9-39 43,10-0 Q->T 13\n",
      " │                                │                      └@[9] 8-55 Q->T+ 4\n",
      " │                                │                           ┌@[0,1,4,7,8] 0-m 100,9-39,5-m,3-63,13-12 B->B 25\n",
      " │                                │                           ├@[2,3,6] 13-9,9-26,10-40 B->Q 16\n",
      " │                                ├@6 14-30 42 B->Q 43/63 attn┤\n",
      " │                                │                           ├@[5,9] 9-42,9-23 B->A 6\n",
      " │                                │                           └@0 0-m 100\n",
      " │                                │                     ┌@[0,1,2,6,7,8,9] 7-m 100,8-m 99,9-m 97,10-m 53,9-12 53,12-17 47,6-m 47 Q->Q 50\n",
      " │                                ├@7 15-0 41 B->Q 20/49┤\n",
      " │                                │                     └@[3,4,5] 9-17 70,13-31 68,8-43 66 unk 0\n",
      " │                                │                          ┌@:5 0-m 100,12-m 68,5-m,11-m,4-53 B->B 42\n",
      " │                                │                          ├@[5,9] 9-21,9-10 B->A 10\n",
      " │                                │                          ├@[7,8] 9-26,13-9 B->Q 7\n",
      " │                                ├@7 15-0 41 B->Q 20/49 attn┤\n",
      " │                                │                          ├@[6] 11-53 unk 0\n",
      " │                                │                          ├@0 0-m 100\n",
      " │                                │                          └@1 12-m 68\n",
      " │                                ├@4 11-49 48 B->A0 53/47\n",
      " │                                └@3 9-5 55 B->A 19/86\n",
      " │                                ┌@[3,4,5,7] 9-m,11-m,10-m,18-23 B->B 36\n",
      " │                                ├@[0,2,6,9] 15-38,16-21,10-52,17-61 B->A0 15\n",
      " │                                ├@[1,8] 14-39,15-0 B->Q 10\n",
      " │                                ├@3 9-m 52\n",
      " │                                ├@4 11-m 46\n",
      " │                                ├@5 10-m 46\n",
      " │                                │                      ┌@:7 9-m 100,15-m 78,10-m 74,11-m 73,12-m 67,14-m 63,8-m 56 B->B 70\n",
      " │                                ├@7 18-23 43 B->B 46/89┤\n",
      " │                                │                      └@[7,8,9] 14-39 50,15-38 44,16-21 42 unk 0\n",
      " │                                ├@0 15-38 100 B->A0 20/15\n",
      " │                                ├@2 16-21 65 B->A0 44/38\n",
      " │                                ├@6 10-52 44 B->A0 22/13\n",
      " │                                ├@9 17-61 43 B->A0 31/16\n",
      " ├@135 19-1 12 B->A0/79 attn/ans0s┤\n",
      " │                                │                      ┌@[3,7,8] 9-12 85,12-17 54,0-m 46 Q->Q 10\n",
      " │                                │                      ├@[0,2] 10-61 100,9-33 92 Q->A0 5\n",
      " │                                ├@1 14-39 89 B->Q 25/34┤\n",
      " │                                │                      ├@[4,6,9] 8-43 83,13-31 77,11-50 42 Q->T 1\n",
      " │                                │                      └@[1,5] 10-19 93,9-17 78 unk 0\n",
      " │                                │                           ┌@[0,1,4,6] 0-m 100,11-m,5-m,8-m B->B 43\n",
      " │                                │                           ├@[2,7,8] 9-10,12-4,10-0 B->A 14\n",
      " │                                ├@1 14-39 89 B->Q 25/34 attn┤\n",
      " │                                │                           ├@[3,5,9] 13-9,9-14,9-1 unk 0\n",
      " │                                │                           └@0 0-m 100\n",
      " │                                │                     ┌@[0,1,2,3,7,9] 8-m 100,10-m 84,7-m 74,9-m 73,12-m 44,12-17 Q->Q 50\n",
      " │                                ├@8 15-0 43 B->Q 23/49┤\n",
      " │                                │                     └@[4,5,6,8] 9-17 60,8-43 52,13-31 51,10-19 unk 0\n",
      " │                                │                          ┌@:5 0-m 100,12-m 72,11-m,5-m,4-53 B->B 41\n",
      " │                                │                          ├@[5,8] 9-21,9-10 B->A 10\n",
      " │                                │                          ├@[7,9] 9-26,10-40 B->Q 8\n",
      " │                                └@8 15-0 43 B->Q 23/49 attn┤\n",
      " │                                                           ├@[6] 11-53 unk 0\n",
      " │                                                           ├@0 0-m 100\n",
      " │                                                           └@1 12-m 72\n",
      " ├@2806 26-57 -19 B->A0/81 attn/ans0s\n",
      " └@2854 23-54 -57 B->A0/80 attn/ans0s\n"
     ]
    }
   ],
   "source": [
    "print_tree(r.root)"
   ]
  },
  {
   "cell_type": "code",
   "execution_count": 22,
   "id": "7b9233a9",
   "metadata": {
    "collapsed": true
   },
   "outputs": [
    {
     "name": "stdout",
     "output_type": "stream",
     "text": [
      " ┌@[0,2,6,7,9] 9-m,28-m,15-m,39-m,35-62 B->B 44\n",
      " ├@[1,3,4,5,8] 30-34,29-39,25-43,22-40,33-63 B->A0 42\n",
      " ├@0 9-m 100\n",
      " ├@2 28-m 73\n",
      " ├@6 15-m 66\n",
      " ├@7 39-m 66\n",
      " ├@9 35-62 57 B->B 39/61\n",
      " ├@1 30-34 84 B->A0 95/45 attn/~<s>\n",
      " ├@3 29-39 70 B->A0 82/32 attn/~<s>\n",
      " ├@4 25-43 70 B->A0 57/8 attn/~<s>\n",
      " │                                 ┌@[0,3,4,5,6] 18-23,17-m,21-60,14-m,19-m B->B 42\n",
      " │                                 ├@[1,2,7,9] 12-4,9-42,9-5,15-42 B->A 24\n",
      " │                                 ├@[8] 11-49 B->A0 8\n",
      " │                                 ├@0 18-23 100 B->B 58/89\n",
      " │                                 ├@3 17-m 74\n",
      " │                                 ├@4 21-60 73 B->B 61/90\n",
      " ├@5 22-40 69 B->A0 99/78 attn/~<s>┤\n",
      " │                                 ├@5 14-m 72\n",
      " │                                 ├@6 19-m 68\n",
      " │                                 ├@1 12-4 81 B->A 65/99\n",
      " │                                 ├@2 9-42 74 B->A 60/81\n",
      " │                                 ├@7 9-5 68 B->A 51/86\n",
      " │                                 ├@9 15-42 48 B->A 60/88\n",
      " │                                 └@8 11-49 49 B->A0 78/47\n",
      " ├@8 33-63 59 B->A0 66/18 attn/~<s>\n",
      " │                               ┌@[0,1,4,6,7] 9-5,12-4,8-47,9-42,15-42 B->A 31\n",
      " │                               ├@[5,8] 15-0,16-54 B->Q 9\n",
      " │                               ├@[2,3] 11-49,16-20 B->A0 6\n",
      " │                               ├@[9] 9-23 unk 0\n",
      " │                               ├@0 9-5 100 B->A 56/86\n",
      " │                               ├@1 12-4 96 B->A 58/99\n",
      " │                               ├@4 8-47 67 B->A 58/93\n",
      " ├@95 17-28 16 B->A0/78 attn/~<s>┤\n",
      " │                               ├@6 9-42 63 B->A 69/81\n",
      " │                               ├@7 15-42 50 B->A 68/88\n",
      " │                               ├@5 15-0 66 B->Q 38/49\n",
      " │                               ├@8 16-54 42 B->Q 56/84\n",
      " │                               ├@2 11-49 85 B->A0 43/47\n",
      " │                               ├@3 16-20 70 B->A0 10/10\n",
      " │                               └@9 9-23 42 B->Q- 0/0\n",
      " ┤\n",
      " │                               ┌@[1,2,6,9] 9-42,12-4,9-23,9-5 B->A 18\n",
      " │                               ├@[3,4] 15-0,18-11 B->Q 9\n",
      " │                               ├@[0] 18-23 B->B 9\n",
      " │                               ├@[5,8] 11-49,16-20 B->A0 7\n",
      " │                               ├@[7] 10-40 B->Q- 6\n",
      " │                               ├@1 9-42 87 B->A 69/81\n",
      " │                               ├@2 12-4 71 B->A 57/99\n",
      " ├@135 19-1 12 B->A0/79 attn/~<s>┤\n",
      " │                               ├@6 9-23 50 B->A 0/0\n",
      " │                               ├@9 9-5 45 B->A 53/86\n",
      " │                               ├@3 15-0 57 B->Q 40/49\n",
      " │                               ├@4 18-11 55 B->Q 18/27\n",
      " │                               ├@0 18-23 100 B->B 61/89\n",
      " │                               ├@5 11-49 52 B->A0 50/47\n",
      " │                               ├@8 16-20 45 B->A0 12/10\n",
      " │                               └@7 10-40 47 B->Q- 33/46\n",
      " │                                  ┌@[0,1,2,3,4,6,7,8,9] 23-m,22-m,17-m,18-m,19-m,20-m,14-m,19-29 35,21-m 32 B->B 85\n",
      " │                                  ├@[5] 11-49 unk 0\n",
      " │                                  ├@0 23-m 100\n",
      " │                                  ├@1 22-m 83\n",
      " │                                  ├@2 17-m 82\n",
      " ├@2806 26-57 -19 B->A0/81 attn/~<s>┤\n",
      " │                                  ├@3 18-m 72\n",
      " │                                  ├@4 19-m 69\n",
      " │                                  ├@6 20-m 43\n",
      " │                                  ├@7 14-m 42\n",
      " │                                  └@5 11-49 51 B->A0 48/47\n",
      " │                                  ┌@[0,1,4,6,7,8,9] 17-m,18-m,20-m,12-m,19-29,10-m,8-m B->B 66\n",
      " │                                  ├@[2,3,5] 11-49,12-44,22-40 B->A0 15\n",
      " │                                  ├@0 17-m 100\n",
      " │                                  ├@1 18-m 98\n",
      " │                                  ├@4 20-m 73\n",
      " │                                  ├@6 12-m 68\n",
      " └@2854 23-54 -57 B->A0/80 attn/~<s>┤\n",
      "                                    ├@7 19-29 64 B->B 61/63\n",
      "                                    ├@8 10-m 59\n",
      "                                    ├@9 8-m 52\n",
      "                                    ├@2 11-49 98 B->A0 47/47\n",
      "                                    ├@3 12-44 87 B->A0 47/48\n",
      "                                    └@5 22-40 70 B->A0 55/78\n"
     ]
    }
   ],
   "source": [
    "print_tree(r.root)  # bos->~<s> as attn_mask"
   ]
  },
  {
   "cell_type": "code",
   "execution_count": 60,
   "id": "ca2c3726",
   "metadata": {
    "scrolled": false
   },
   "outputs": [
    {
     "name": "stdout",
     "output_type": "stream",
     "text": [
      " ┌@[0,2,6,7,9] 9-m,28-m,15-m,39-m,35-62 B->B 44\n",
      " ├@[1,3,4,5,8] 30-34,29-39,25-43,22-40,33-63 B->A0 42\n",
      " ├@0 9-m 100\n",
      " ├@2 28-m 73\n",
      " ├@6 15-m 66\n",
      " ├@7 39-m 66\n",
      " ├@9 35-62 57 B->B 39/61\n",
      " ├@1 30-34 84 B->A0 95/45 attn:B->~<s>\n",
      " ├@3 29-39 70 B->A0 82/32 attn:B->~<s>\n",
      " ├@4 25-43 70 B->A0 57/8 attn:B->~<s>\n",
      " │                                    ┌@[0,2,3,6,7,9] 18-23,19-m,14-m,21-60,17-m,13-m B->B 59\n",
      " │                                    ├@[1,4,5,8] 12-4,9-42,9-5,15-42 B->A 39\n",
      " │                                    │                       ┌@[0,1,2,4,5,9] 12-4 100,9-42 79,15-42 77,9-23 52,9-5 50,8-47 44 B->A 45\n",
      " │                                    │                       ├@[7,8] 0-m 48,13-m 47 B->B 21\n",
      " │                                    ├@0 18-23 100 B->B 94/89┤\n",
      " │                                    │                       ├@[6] 10-40 48 B->Q- 5\n",
      " │                                    │                       └@[3] 16-20 73 unk 0\n",
      " │                                    ├@2 19-m 76\n",
      " │                                    ├@3 14-m 76\n",
      " │                                    │                      ┌@[0,5,6,8,9] 12-4 100,9-42 69,15-42 65,9-5 60,8-47 55 B->A 45\n",
      " │                                    ├@6 21-60 66 B->B 92/90┤\n",
      " │                                    │                      ├@[1,4,7] 13-m 95,19-29 70,18-23 61 B->B 26\n",
      " │                                    │                      └@[2,3] 16-20 81,11-49 72 B->A0 8\n",
      " │                                    ├@7 17-m 56\n",
      " │                                    ├@9 13-m 45\n",
      " ├@5 22-40 69 B->A0 99/78 attn:B->~<s>┤\n",
      " │                                    │                      ┌@[2,4,9] 9-39 64,10-6 50,4-53 A->A0 14\n",
      " │                                    ├@1 12-4 77 B->A 100/99┤\n",
      " │                                    │                      ├@:2 8-21 100,9-5 73 A->A0+ 11\n",
      " │                                    │                      └@[3,5,6,7,8] 10-54 61,10-9 48,5-7,10-36,8-47 A->A 6\n",
      " │                                    │                     ┌@[3,5,6,8,9] 5-7 54,6-m 47,5-m 41,4-m,6-38 A->A 34\n",
      " │                                    ├@4 9-42 75 B->A 97/81┤\n",
      " │                                    │                     ├@[0,2,7] 8-21 100,8-46 64,8-47 A->A0+ 11\n",
      " │                                    │                     └@[1,4] 4-53 65,3-31 51 A->A0 11\n",
      " │                                    │                    ┌@[2,4,5,9] 0-m 81,1-m 72,8-37 68,6-m 56 A->A 31\n",
      " │                                    ├@5 9-5 70 B->A 90/86┤\n",
      " │                                    │                    ├@[0,1,3,6,8] 8-55 100,8-20 92,8-46 73,7-4 66,7-42 61 A->A0+ 15\n",
      " │                                    │                    └@[7] 4-21 62 A->A0 8\n",
      " │                                    │                      ┌@[4,6,8,9] 8-21 41,9-1,9-5,8-46 A->A0+ 17\n",
      " │                                    └@8 15-42 46 B->A 99/88┤\n",
      " │                                                           ├@[7] 13-49 A->A 6\n",
      " │                                                           └@[0,1,2,3,5] 10-6 100,9-12 59,8-29 43,9-43 42,13-63 A->A0 4\n",
      " ├@8 33-63 59 B->A0 66/18 attn:B->~<s>\n",
      " ┤\n",
      " │                                  ┌@[0,1,3,4,7] 9-5,12-4,9-42,8-47,15-42 B->A 48\n",
      " │                                  ├@[5,9] 15-0,16-54 B->Q 20\n",
      " │                                  ├@[2,6] 11-49,16-20 B->A0 9\n",
      " │                                  ├@[8] 10-40 B->Q- 6\n",
      " │                                  │                     ┌@[0,1,3,4,5,8] 8-55 100,8-20 84,8-47 62,7-4 62,8-21 58,7-42 47 A->A0+ 16\n",
      " │                                  ├@0 9-5 100 B->A 88/86┤\n",
      " │                                  │                     ├@[2,6,9] 1-m 67,8-37 51,5-7 45 A->A 12\n",
      " │                                  │                     └@[7] 7-21 51 A->A0 3\n",
      " │                                  │                      ┌@[1,2,6,8] 8-21 72,9-5 62,8-55,8-46 A->A0+ 23\n",
      " │                                  ├@1 12-4 98 B->A 100/99┤\n",
      " │                                  │                      ├@[0,3,5,9] 9-39 100,10-6 57,4-53,3-63 A->A0 21\n",
      " │                                  │                      └@[4,7] 10-54,6-38 A->A 9\n",
      " ├@95 17-28 16 B->A0/78 attn:B->~<s>┤\n",
      " │                                  │                     ┌@[2,4,9] 4-53 67,3-31,6-13 A->A0 16\n",
      " │                                  ├@3 9-42 78 B->A 97/81┤\n",
      " │                                  │                     ├@[0,1,3,5] 8-46 100,8-21 68,8-47 43,8-55 A->A0+ 16\n",
      " │                                  │                     └@[6,7,8] 5-7,6-38,6-m A->A 15\n",
      " │                                  │                     ┌@[1,2,3,5,6,7,8] 4-53,6-13,3-36,3-31,3-63,5-20,4-21 A->A0 41\n",
      " │                                  ├@4 8-47 68 B->A 96/93┤\n",
      " │                                  │                     └@[0,4,9] 0-m 100,6-38,3-49 A->A 17\n",
      " │                                  │                      ┌@[4,6,8] 8-21,9-1,9-5 A->A0+ 11\n",
      " │                                  ├@7 15-42 58 B->A 99/88┤\n",
      " │                                  │                      ├@[0,1,2,3,5,7] 10-6 100,9-12 54,8-29 45,9-43 41,13-63,9-39 A->A0 9\n",
      " │                                  │                      └@[9] 13-49 A->A 7\n",
      " │                                  ├@5 15-0 64 B->Q 64/49\n",
      " │                                  ├@9 16-54 47 B->Q 88/84\n",
      " │                                  ├@2 11-49 83 B->A0 65/47\n",
      " │                                  ├@6 16-20 62 B->A0 16/10\n",
      " │                                  └@8 10-40 47 B->Q- 45/46\n",
      " │                                  ┌@[0,2,5,7,8,9] 9-42,12-4,9-23,15-42,9-5,8-30 B->A 48\n",
      " │                                  ├@[1,3] 18-23,14-m B->B 22\n",
      " │                                  ├@[6] 15-0 B->Q 12\n",
      " │                                  ├@[4] 10-40 B->Q- 5\n",
      " │                                  │                      ┌@[1,3,8,9] 4-53 67,3-31,3-36,6-13 A->A0 22\n",
      " │                                  ├@0 9-42 100 B->A 97/81┤\n",
      " │                                  │                      ├@[4,5,6,7] 5-m,5-7,6-38,8-47 A->A 15\n",
      " │                                  │                      └@[0,2] 8-46 100,8-21 60 A->A0+ 11\n",
      " │                                  │                      ┌@[2,3,8,9] 4-53 93,9-39 92,10-6 46,3-63 41 A->A0 19\n",
      " │                                  ├@2 12-4 82 B->A 100/99┤\n",
      " │                                  │                      ├@[0,1,4] 8-46 100,8-21 98,9-5 75 A->A0+ 17\n",
      " │                                  │                      └@[5,6,7] 10-54 68,6-38 66,8-47 62 A->A 9\n",
      " │                                  │                   ┌@:9 7-7 100,7-2 78,6-38 70,6-62 69,7-36 56,6-31 56,5-41 46,8-47 43,5-m 43 A->A 10\n",
      " │                                  ├@5 9-23 55 B->A 0/0┤\n",
      " │                                  │                   └@[9] 6-18 unk 0\n",
      " ├@135 19-1 12 B->A0/79 attn:B->~<s>┤\n",
      " │                                  │                      ┌@[4,6,7,8] 8-21 47,8-46 43,9-1,8-47 A->A0+ 12\n",
      " │                                  ├@7 15-42 49 B->A 99/88┤\n",
      " │                                  │                      ├@[5] 13-49 46 A->A 6\n",
      " │                                  │                      └@[0,1,2,3,9] 10-6 100,9-12 72,8-29 52,9-43 51,13-63 A->A0 4\n",
      " │                                  │                    ┌@[0,4,5,8,9] 0-m 100,6-m,5-m,8-45,8-37 A->A 34\n",
      " │                                  ├@8 9-5 43 B->A 87/86┤\n",
      " │                                  │                    ├@[1,2,3,7] 8-55 51,8-47,8-20,8-33 A->A0+ 10\n",
      " │                                  │                    └@[6] 7-21 unk 0\n",
      " │                                  │                     ┌@[4,6,7,9] 5-m,6-38,7-9,4-m A->A 25\n",
      " │                                  ├@9 8-30 41 B->A 92/65┤\n",
      " │                                  │                     ├@[0,1,2,3,5] 4-53 100,3-36 46,6-13 45,3-31 42,3-63 A->A0 24\n",
      " │                                  │                     └@[8] 5-50 A->A0+ 3\n",
      " │                                  │                      ┌@[0,1,2,4,6,7,9] 12-4 100,9-42 92,15-42 79,9-23 70,9-5 54,8-47 53,17-19 50 B->A 52\n",
      " │                                  ├@1 18-23 96 B->B 93/89┤\n",
      " │                                  │                      ├@[8] 0-m 50 B->B 11\n",
      " │                                  │                      └@[3,5] 16-20 76,10-40 60 unk 0\n",
      " │                                  ├@3 14-m 68\n",
      " │                                  ├@6 15-0 54 B->Q 68/49\n",
      " │                                  └@4 10-40 56 B->Q- 51/46\n",
      " ├@2806 26-57 -19 B->A0/81 attn:B->~<s>\n",
      " └@2854 23-54 -57 B->A0/80 attn:B->~<s>\n"
     ]
    }
   ],
   "source": [
    "print_tree(r.root)"
   ]
  },
  {
   "cell_type": "code",
   "execution_count": 51,
   "id": "c01978f4",
   "metadata": {},
   "outputs": [],
   "source": [
    "for dt in r.data_tuples: dt[-1].attn_attr.clear()"
   ]
  },
  {
   "cell_type": "code",
   "execution_count": 45,
   "id": "fe39a194",
   "metadata": {},
   "outputs": [
    {
     "data": {
      "text/plain": [
       "'@5 22-40 69 B->A0 99/78 attn'"
      ]
     },
     "execution_count": 45,
     "metadata": {},
     "output_type": "execute_result"
    }
   ],
   "source": [
    "node = r.root.children[10]#.children[1]\n",
    "node.name"
   ]
  },
  {
   "cell_type": "code",
   "execution_count": null,
   "id": "911c2df7",
   "metadata": {
    "scrolled": false
   },
   "outputs": [],
   "source": [
    "plot_attn_attrs(r.data_tuples[:], model, tokenizer, node, topi=[3,4,6], attn_patterns=['B->B'], k_shot=k_shot, mix=True)"
   ]
  },
  {
   "cell_type": "code",
   "execution_count": 199,
   "id": "7dc50c55",
   "metadata": {},
   "outputs": [
    {
     "name": "stdout",
     "output_type": "stream",
     "text": [
      "35 (0.5464575067162514, 0.8194444444444444)\n",
      "36 (0.45821835473179817, 0.8333333333333334)\n",
      "37 (0.3822524305433035, 0.8888888888888888)\n",
      "38 (0.3553805500268936, 0.8888888888888888)\n",
      "39 (0.3521486185491085, 0.9027777777777778)\n",
      "40 (0.3169629741460085, 0.875)\n",
      "41 (0.327828467823565, 0.8472222222222222)\n",
      "42 (0.33170338813215494, 0.875)\n",
      "43 (0.34491169452667236, 0.8888888888888888)\n"
     ]
    }
   ],
   "source": [
    "for l in range(35, L): print(l, show_predictions_by_data_tuples(model, tokenizer, r.data_tuples, k_shot, to_layer=l, verbose=False))"
   ]
  },
  {
   "cell_type": "code",
   "execution_count": 12,
   "id": "4b113734",
   "metadata": {},
   "outputs": [],
   "source": [
    "results = {}"
   ]
  },
  {
   "cell_type": "code",
   "execution_count": 13,
   "id": "064e94d9",
   "metadata": {},
   "outputs": [],
   "source": [
    "# key = 'MlM_gen[genders_of_persons.TreeSet.equal,types_of_things.TreeSet.equal][cxt_len=3,rev_item2str]' # 18-5  11-4,13-11 B->A0+ 10-11?\n",
    "key = 'MlM_gen[genders_of_persons.TreeSet.equal,types_of_things.TreeSet.equal][cxt_len=3]'\n",
    "# key = 'MlM_gen[cxt_sample_fn=enumerate_sample,query=1][types_of_characters.TreeSet.equal,types_of_characters.TreeSet.equal][cxt_len=3,abstract]'"
   ]
  },
  {
   "cell_type": "code",
   "execution_count": 111,
   "id": "5c1c58a6",
   "metadata": {
    "collapsed": true
   },
   "outputs": [
    {
     "name": "stdout",
     "output_type": "stream",
     "text": [
      "rotary_emb\n",
      "query_key_value\n",
      "dense\n",
      "attn_dropout\n",
      "resid_dropout\n",
      "q_proj\n",
      "k_proj\n",
      "v_proj\n",
      "out_proj_cuda7\n"
     ]
    }
   ],
   "source": [
    "for name, param in model.transformer.h[30].attn.named_children(): print(name)"
   ]
  },
  {
   "cell_type": "code",
   "execution_count": 61,
   "id": "c71b5fc2",
   "metadata": {},
   "outputs": [],
   "source": [
    "del results[key]"
   ]
  },
  {
   "cell_type": "code",
   "execution_count": 59,
   "id": "501165b9",
   "metadata": {
    "scrolled": false
   },
   "outputs": [
    {
     "name": "stdout",
     "output_type": "stream",
     "text": [
      "\n",
      "== MlM_gen[genders_of_persons.TreeSet.equal,types_of_things.TreeSet.equal][cxt_len=3] == rel0_kwargs=(skip_inv_f),rel1_kwargs=(skip_inv_f)\n",
      "Sharon has fox. Donna has piano. James has meat. James likes meat\n",
      "James has purple. Christopher has jeans. Jennifer has meat. Jennifer likes meat\n",
      "Nancy has gun. Edward has phone. Kevin has mouse. Nancy likes gun\n",
      "attribute_tree ... In attribute_tree: attribute_step  ... done 0:00:11.694551\n",
      "In attribute_tree: attribute_step stage2  ... done 0:00:05.529612\n",
      "get ap_scores ... done 0:00:02.500766\n",
      "get attr_ap_scores ... done 0:00:00.439238\n",
      "In _add_node: add @0 9-m 100\n",
      "In _add_node: add @2 28-m 73\n",
      "In _add_node: add @6 15-m 66\n",
      "In _add_node: add @7 39-m 66\n",
      "In _add_node: add @9 35-62 57 B->B 39/61\n",
      "In _add_node: add @1 30-34 84 B->A0 95/45 attn:B->~<s>\n",
      "In _add_node: add @3 29-39 70 B->A0 82/32 attn:B->~<s>\n",
      "In _add_node: add @4 25-43 70 B->A0 57/8 attn:B->~<s>\n",
      "In _add_node: add @5 22-40 69 B->A0 99/78 attn:B->~<s>\n",
      "In _add_node: add @8 33-63 59 B->A0 66/18 attn:B->~<s>\n",
      "In _add_node: add @2806 26-57 -19 B->A0/81 attn:B->~<s>\n",
      "In _add_node: add @2854 23-54 -57 B->A0/80 attn:B->~<s>\n",
      "In _add_node: add @135 19-1 12 B->A0/79 attn:B->~<s>\n",
      "In _add_node: add @95 17-28 16 B->A0/78 attn:B->~<s>\n",
      "In _add_node: add @[0,2,6,7,9] 9-m,28-m,15-m,39-m,35-62 B->B 44\n",
      "In _add_node: add @[1,3,4,5,8] 30-34,29-39,25-43,22-40,33-63 B->A0 42\n",
      "In attribute_tree: attribute_step @5 22-40 69 B->A0 99/78 attn:B->~<s> ... done 0:00:05.859749\n",
      "In attribute_tree: attribute_step stage2 @5 22-40 69 B->A0 99/78 attn:B->~<s> ... done 0:00:03.695288\n",
      "get ap_scores ... done 0:00:02.167912\n",
      "get attr_ap_scores ... done 0:00:00.477285\n",
      "In _add_node: add @0 18-23 100 B->B 94/89\n",
      "In _add_node: add @2 19-m 76\n",
      "In _add_node: add @3 14-m 76\n",
      "In _add_node: add @6 21-60 66 B->B 92/90\n",
      "In _add_node: add @7 17-m 56\n",
      "In _add_node: add @9 13-m 45\n",
      "In _add_node: add @1 12-4 77 B->A 100/99\n",
      "In _add_node: add @4 9-42 75 B->A 97/81\n",
      "In _add_node: add @5 9-5 70 B->A 90/86\n",
      "In _add_node: add @8 15-42 46 B->A 99/88\n",
      "In _add_node: add @[0,2,3,6,7,9] 18-23,19-m,14-m,21-60,17-m,13-m B->B 59\n",
      "In _add_node: add @[1,4,5,8] 12-4,9-42,9-5,15-42 B->A 39\n",
      "In attribute_tree: attribute_step @0 18-23 100 B->B 94/89 ... done 0:00:04.565010\n",
      "In attribute_tree: attribute_step stage2 @0 18-23 100 B->B 94/89 ... done 0:00:04.479785\n",
      "get ap_scores ... done 0:00:02.254064\n",
      "get attr_ap_scores ... done 0:00:00.526242\n",
      "In _add_node: add @[0,1,2,4,5,9] 12-4 100,9-42 79,15-42 77,9-23 52,9-5 50,8-47 44 B->A 45\n",
      "In _add_node: add @[7,8] 0-m 48,13-m 47 B->B 21\n",
      "In _add_node: add @[6] 10-40 48 B->Q- 5\n",
      "In _add_node: add @[3] 16-20 73 unk 0\n",
      "In attribute_tree: attribute_step @6 21-60 66 B->B 92/90 ... done 0:00:05.088222\n",
      "In attribute_tree: attribute_step stage2 @6 21-60 66 B->B 92/90 ... done 0:00:04.769171\n",
      "get ap_scores ... done 0:00:02.226642\n",
      "get attr_ap_scores ... done 0:00:00.417965\n",
      "In _add_node: add @[0,5,6,8,9] 12-4 100,9-42 69,15-42 65,9-5 60,8-47 55 B->A 45\n",
      "In _add_node: add @[1,4,7] 13-m 95,19-29 70,18-23 61 B->B 26\n",
      "In _add_node: add @[2,3] 16-20 81,11-49 72 B->A0 8\n",
      "In attribute_tree: attribute_step @1 12-4 77 B->A 100/99 ... done 0:00:02.308282\n",
      "In attribute_tree: attribute_step stage2 @1 12-4 77 B->A 100/99 ... done 0:00:04.122455\n",
      "get ap_scores ... done 0:00:02.420821\n",
      "get attr_ap_scores ... done 0:00:00.166504\n",
      "In _add_node: add @[2,4,9] 9-39 64,10-6 50,4-53 A->A0 14\n",
      "In _add_node: add @:2 8-21 100,9-5 73 A->A0+ 11\n",
      "In _add_node: add @[3,5,6,7,8] 10-54 61,10-9 48,5-7,10-36,8-47 A->A 6\n",
      "In attribute_tree: attribute_step @4 9-42 75 B->A 97/81 ... done 0:00:01.820947\n",
      "In attribute_tree: attribute_step stage2 @4 9-42 75 B->A 97/81 ... done 0:00:03.969633\n",
      "get ap_scores ... done 0:00:02.145350\n",
      "get attr_ap_scores ... done 0:00:00.164422\n",
      "In _add_node: add @[3,5,6,8,9] 5-7 54,6-m 47,5-m 41,4-m,6-38 A->A 34\n",
      "In _add_node: add @[0,2,7] 8-21 100,8-46 64,8-47 A->A0+ 11\n",
      "In _add_node: add @[1,4] 4-53 65,3-31 51 A->A0 11\n",
      "In attribute_tree: attribute_step @5 9-5 70 B->A 90/86 ... done 0:00:01.791639\n",
      "In attribute_tree: attribute_step stage2 @5 9-5 70 B->A 90/86 ... done 0:00:04.552337\n",
      "get ap_scores ... done 0:00:02.084190\n",
      "get attr_ap_scores ... done 0:00:00.160681\n",
      "In _add_node: add @[2,4,5,9] 0-m 81,1-m 72,8-37 68,6-m 56 A->A 31\n",
      "In _add_node: add @[0,1,3,6,8] 8-55 100,8-20 92,8-46 73,7-4 66,7-42 61 A->A0+ 15\n",
      "In _add_node: add @[7] 4-21 62 A->A0 8\n",
      "In attribute_tree: attribute_step @8 15-42 46 B->A 99/88 ... done 0:00:02.855331\n",
      "In attribute_tree: attribute_step stage2 @8 15-42 46 B->A 99/88 ... done 0:00:04.118327\n",
      "get ap_scores ... done 0:00:02.312475\n",
      "get attr_ap_scores ... done 0:00:00.161831\n",
      "In _add_node: add @[4,6,8,9] 8-21 41,9-1,9-5,8-46 A->A0+ 17\n",
      "In _add_node: add @[7] 13-49 A->A 6\n",
      "In _add_node: add @[0,1,2,3,5] 10-6 100,9-12 59,8-29 43,9-43 42,13-63 A->A0 4\n",
      "In attribute_tree: attribute_step @95 17-28 16 B->A0/78 attn:B->~<s> ... done 0:00:04.315276\n",
      "In attribute_tree: attribute_step stage2 @95 17-28 16 B->A0/78 attn:B->~<s> ... done 0:00:03.119071\n",
      "get ap_scores ... done 0:00:02.071790\n",
      "get attr_ap_scores ... done 0:00:00.442401\n",
      "In _add_node: add @0 9-5 100 B->A 88/86\n",
      "In _add_node: add @1 12-4 98 B->A 100/99\n",
      "In _add_node: add @3 9-42 78 B->A 97/81\n",
      "In _add_node: add @4 8-47 68 B->A 96/93\n",
      "In _add_node: add @7 15-42 58 B->A 99/88\n",
      "In _add_node: add @5 15-0 64 B->Q 64/49\n",
      "In _add_node: add @9 16-54 47 B->Q 88/84\n",
      "In _add_node: add @2 11-49 83 B->A0 65/47\n",
      "In _add_node: add @6 16-20 62 B->A0 16/10\n",
      "In _add_node: add @8 10-40 47 B->Q- 45/46\n",
      "In _add_node: add @[0,1,3,4,7] 9-5,12-4,9-42,8-47,15-42 B->A 48\n",
      "In _add_node: add @[5,9] 15-0,16-54 B->Q 20\n",
      "In _add_node: add @[2,6] 11-49,16-20 B->A0 9\n",
      "In _add_node: add @[8] 10-40 B->Q- 6\n",
      "In attribute_tree: attribute_step @0 9-5 100 B->A 88/86 ... done 0:00:01.797780\n",
      "In attribute_tree: attribute_step stage2 @0 9-5 100 B->A 88/86 ... done 0:00:04.150763\n",
      "get ap_scores ... done 0:00:02.021602\n",
      "get attr_ap_scores ... done 0:00:00.136741\n",
      "In _add_node: add @[0,1,3,4,5,8] 8-55 100,8-20 84,8-47 62,7-4 62,8-21 58,7-42 47 A->A0+ 16\n",
      "In _add_node: add @[2,6,9] 1-m 67,8-37 51,5-7 45 A->A 12\n",
      "In _add_node: add @[7] 7-21 51 A->A0 3\n",
      "In attribute_tree: attribute_step @1 12-4 98 B->A 100/99 ... done 0:00:02.301455\n",
      "In attribute_tree: attribute_step stage2 @1 12-4 98 B->A 100/99 ... done 0:00:03.830358\n",
      "get ap_scores ... done 0:00:02.033962\n",
      "get attr_ap_scores ... done 0:00:00.136092\n",
      "In _add_node: add @[1,2,6,8] 8-21 72,9-5 62,8-55,8-46 A->A0+ 23\n",
      "In _add_node: add @[0,3,5,9] 9-39 100,10-6 57,4-53,3-63 A->A0 21\n",
      "In _add_node: add @[4,7] 10-54,6-38 A->A 9\n",
      "In attribute_tree: attribute_step @3 9-42 78 B->A 97/81 ... done 0:00:01.776847\n",
      "In attribute_tree: attribute_step stage2 @3 9-42 78 B->A 97/81 ... done 0:00:04.158895\n",
      "get ap_scores ... done 0:00:02.098975\n",
      "get attr_ap_scores ... done 0:00:00.140438\n",
      "In _add_node: add @[2,4,9] 4-53 67,3-31,6-13 A->A0 16\n",
      "In _add_node: add @[0,1,3,5] 8-46 100,8-21 68,8-47 43,8-55 A->A0+ 16\n",
      "In _add_node: add @[6,7,8] 5-7,6-38,6-m A->A 15\n",
      "In attribute_tree: attribute_step @4 8-47 68 B->A 96/93 ... done 0:00:01.614373\n",
      "In attribute_tree: attribute_step stage2 @4 8-47 68 B->A 96/93 ... done 0:00:04.485276\n",
      "get ap_scores ... done 0:00:02.396588\n",
      "get attr_ap_scores ... done 0:00:00.143029\n",
      "In _add_node: add @[1,2,3,5,6,7,8] 4-53,6-13,3-36,3-31,3-63,5-20,4-21 A->A0 41\n",
      "In _add_node: add @[0,4,9] 0-m 100,6-38,3-49 A->A 17\n",
      "In attribute_tree: attribute_step @7 15-42 58 B->A 99/88 ... done 0:00:02.828140\n",
      "In attribute_tree: attribute_step stage2 @7 15-42 58 B->A 99/88 ... done 0:00:04.385443\n",
      "get ap_scores ... done 0:00:02.196372\n",
      "get attr_ap_scores ... done 0:00:00.164521\n",
      "In _add_node: add @[4,6,8] 8-21,9-1,9-5 A->A0+ 11\n",
      "In _add_node: add @[0,1,2,3,5,7] 10-6 100,9-12 54,8-29 45,9-43 41,13-63,9-39 A->A0 9\n",
      "In _add_node: add @[9] 13-49 A->A 7\n",
      "In attribute_tree: attribute_step @135 19-1 12 B->A0/79 attn:B->~<s> ... done 0:00:04.648179\n",
      "In attribute_tree: attribute_step stage2 @135 19-1 12 B->A0/79 attn:B->~<s> ... done 0:00:03.148721\n",
      "get ap_scores ... done 0:00:02.115464\n",
      "get attr_ap_scores ... done 0:00:00.403679\n",
      "In _add_node: add @0 9-42 100 B->A 97/81\n",
      "In _add_node: add @2 12-4 82 B->A 100/99\n",
      "In _add_node: add @5 9-23 55 B->A 0/0\n",
      "In _add_node: add @7 15-42 49 B->A 99/88\n",
      "In _add_node: add @8 9-5 43 B->A 87/86\n",
      "In _add_node: add @9 8-30 41 B->A 92/65\n",
      "In _add_node: add @1 18-23 96 B->B 93/89\n",
      "In _add_node: add @3 14-m 68\n",
      "In _add_node: add @6 15-0 54 B->Q 68/49\n",
      "In _add_node: add @4 10-40 56 B->Q- 51/46\n",
      "In _add_node: add @[0,2,5,7,8,9] 9-42,12-4,9-23,15-42,9-5,8-30 B->A 48\n",
      "In _add_node: add @[1,3] 18-23,14-m B->B 22\n",
      "In _add_node: add @[6] 15-0 B->Q 12\n",
      "In _add_node: add @[4] 10-40 B->Q- 5\n"
     ]
    },
    {
     "name": "stdout",
     "output_type": "stream",
     "text": [
      "In attribute_tree: attribute_step @0 9-42 100 B->A 97/81 ... done 0:00:01.805843\n",
      "In attribute_tree: attribute_step stage2 @0 9-42 100 B->A 97/81 ... done 0:00:04.277287\n",
      "get ap_scores ... done 0:00:02.267850\n",
      "get attr_ap_scores ... done 0:00:00.176750\n",
      "In _add_node: add @[1,3,8,9] 4-53 67,3-31,3-36,6-13 A->A0 22\n",
      "In _add_node: add @[4,5,6,7] 5-m,5-7,6-38,8-47 A->A 15\n",
      "In _add_node: add @[0,2] 8-46 100,8-21 60 A->A0+ 11\n",
      "In attribute_tree: attribute_step @2 12-4 82 B->A 100/99 ... done 0:00:02.267427\n",
      "In attribute_tree: attribute_step stage2 @2 12-4 82 B->A 100/99 ... done 0:00:04.060522\n",
      "get ap_scores ... done 0:00:02.116073\n",
      "get attr_ap_scores ... done 0:00:00.151664\n",
      "In _add_node: add @[2,3,8,9] 4-53 93,9-39 92,10-6 46,3-63 41 A->A0 19\n",
      "In _add_node: add @[0,1,4] 8-46 100,8-21 98,9-5 75 A->A0+ 17\n",
      "In _add_node: add @[5,6,7] 10-54 68,6-38 66,8-47 62 A->A 9\n",
      "In attribute_tree: attribute_step @5 9-23 55 B->A 0/0 ... done 0:00:01.908831\n",
      "In attribute_tree: attribute_step stage2 @5 9-23 55 B->A 0/0 ... done 0:00:04.175985\n",
      "get ap_scores ... done 0:00:02.366087\n",
      "get attr_ap_scores ... done 0:00:00.158427\n",
      "In _add_node: add @:9 7-7 100,7-2 78,6-38 70,6-62 69,7-36 56,6-31 56,5-41 46,8-47 43,5-m 43 A->A 10\n",
      "In _add_node: add @[9] 6-18 unk 0\n",
      "In attribute_tree: attribute_step @7 15-42 49 B->A 99/88 ... done 0:00:02.870500\n",
      "In attribute_tree: attribute_step stage2 @7 15-42 49 B->A 99/88 ... done 0:00:04.358408\n",
      "get ap_scores ... done 0:00:02.230115\n",
      "get attr_ap_scores ... done 0:00:00.152105\n",
      "In _add_node: add @[4,6,7,8] 8-21 47,8-46 43,9-1,8-47 A->A0+ 12\n",
      "In _add_node: add @[5] 13-49 46 A->A 6\n",
      "In _add_node: add @[0,1,2,3,9] 10-6 100,9-12 72,8-29 52,9-43 51,13-63 A->A0 4\n",
      "In attribute_tree: attribute_step @8 9-5 43 B->A 87/86 ... done 0:00:01.806401\n",
      "In attribute_tree: attribute_step stage2 @8 9-5 43 B->A 87/86 ... done 0:00:04.247397\n",
      "get ap_scores ... done 0:00:02.335030\n",
      "get attr_ap_scores ... done 0:00:00.205267\n",
      "In _add_node: add @[0,4,5,8,9] 0-m 100,6-m,5-m,8-45,8-37 A->A 34\n",
      "In _add_node: add @[1,2,3,7] 8-55 51,8-47,8-20,8-33 A->A0+ 10\n",
      "In _add_node: add @[6] 7-21 unk 0\n",
      "In attribute_tree: attribute_step @9 8-30 41 B->A 92/65 ... done 0:00:01.664992\n",
      "In attribute_tree: attribute_step stage2 @9 8-30 41 B->A 92/65 ... done 0:00:04.219344\n",
      "get ap_scores ... done 0:00:02.442274\n",
      "get attr_ap_scores ... done 0:00:00.188603\n",
      "In _add_node: add @[4,6,7,9] 5-m,6-38,7-9,4-m A->A 25\n",
      "In _add_node: add @[0,1,2,3,5] 4-53 100,3-36 46,6-13 45,3-31 42,3-63 A->A0 24\n",
      "In _add_node: add @[8] 5-50 A->A0+ 3\n",
      "In attribute_tree: attribute_step @1 18-23 96 B->B 93/89 ... done 0:00:04.613101\n",
      "In attribute_tree: attribute_step stage2 @1 18-23 96 B->B 93/89 ... done 0:00:04.447632\n",
      "get ap_scores ... done 0:00:02.419456\n",
      "get attr_ap_scores ... done 0:00:00.468146\n",
      "In _add_node: add @[0,1,2,4,6,7,9] 12-4 100,9-42 92,15-42 79,9-23 70,9-5 54,8-47 53,17-19 50 B->A 52\n",
      "In _add_node: add @[8] 0-m 50 B->B 11\n",
      "In _add_node: add @[3,5] 16-20 76,10-40 60 unk 0\n",
      "done 0:03:39.767415\n"
     ]
    }
   ],
   "source": [
    "nrows, k_shot = 16, 7; cxt_len = 3; save_results = True\n",
    "batch_size = 8; verbose = False #not save_results or batch_size <= 8\n",
    "rel0_kwargs_list = [{'skip_inv_f': True},{'skip_inv_f': False}]#[:1]\n",
    "rel1_kwargs_list = [{'x_f': None, 'y_f': None, 'skip_inv_f': True}, {'x_f': _s, 'y_f': a_, 'skip_inv_f': True},\n",
    "                    {'x_f': _s, 'y_f': a_, 'skip_inv_f':False}]#[:1]\n",
    "for task,        rel0_kwargs,     rel1_kwargs, do_swap_qa, do_negate, do_rm_local_hop, do_rm_query, rev_item2str in product(\n",
    "#     tasks[1:2],rel0_kwargs_list,rel1_kwargs_list,[False,], [False,],  [True,],        [False,],    [False,]):\n",
    "    tasks[1:2],rel0_kwargs_list,rel1_kwargs_list,[False,True],[False,], [False,],     [False,],   [False,True]):\n",
    "    seed(42)\n",
    "    args = dict(cxt_len=cxt_len, rev_item2str=rev_item2str, abstract=False)\n",
    "    trans_args = dict(rel0_kwargs=rel0_kwargs, rel1_kwargs=rel1_kwargs, do_swap_qa=do_swap_qa, do_negate=do_negate,\n",
    "                      do_rm_local_hop=do_rm_local_hop, do_rm_query=do_rm_query)\n",
    "    task = transform_task(task, **trans_args)\n",
    "    if task is None: print('task is None! skip.'); continue\n",
    "    res_key = f'{task2str(task)}[{args2str(args)}]'# + composed_heads2str(model)\n",
    "    if key is not None and res_key != key: continue\n",
    "    if not validate_args(task, args, trans_args): print('invalid args! skip.'); continue\n",
    "#     if has_attribution_results(res_key): continue\n",
    "    print(f'\\n== {res_key} == {args2str(trans_args)}')\n",
    "    r = results[res_key] if save_results and res_key in results else None\n",
    "    r = generate_and_predict_batch(model, tokenizer, task, nrows, k_shot, batch_size,\n",
    "                                        trim=False, result=r, verbose=verbose, **args)\n",
    "    if save_results: results[res_key] = r\n",
    "    if not save_results or getattr(r, 'mean_acc', 0) < 0.45: continue\n",
    "        \n",
    "# #     load_attribution_results(r, res_key)\n",
    "    if True or r.root is None: r.root = add_node(None, layer=L, label_type='labels')\n",
    "    r.root = attribute_tree_on(r.data_tuples, model, r.root, 1, topk=10, k_shot=k_shot, device=device, verbose=True)\n",
    "#     with Timer('save_attribution_results'): save_attribution_results(r, res_key)\n",
    "#     r.data_tuples = [dt[:-1] + [trim_outputs(dt[-1])] for dt in r.data_tuples] # to save mem. data_tuple is list!"
   ]
  },
  {
   "cell_type": "code",
   "execution_count": null,
   "id": "4e835a1b",
   "metadata": {},
   "outputs": [],
   "source": [
    "key = 'MlM_gen(genders_of_persons.TreeSet.child(skip_inv_f), types_of_things.TreeSet.child(skip_inv_f)) (cxt_len=3)'\n",
    "result = results[key]; print_tree(result.root)"
   ]
  },
  {
   "cell_type": "code",
   "execution_count": 29,
   "id": "ed64bbfd",
   "metadata": {},
   "outputs": [
    {
     "name": "stdout",
     "output_type": "stream",
     "text": [
      "MlM_gen[genders_of_persons.TreeSet.equal,types_of_things.TreeSet.equal][cxt_len=3]: 0.296, 0.917\n",
      "MlM_gen[genders_of_persons.TreeSet.equal,types_of_things.TreeSet.equal][cxt_len=3,rev_item2str]: 1.237, 0.569\n",
      "MlM_gen[types_of_things.TreeSet.equal,genders_of_persons.TreeSet.equal][cxt_len=3]: 1.466, 0.458\n",
      "MlM_gen[types_of_things.TreeSet.equal,genders_of_persons.TreeSet.equal][cxt_len=3,rev_item2str]: 0.671, 0.722\n",
      "MlM_gen[genders_of_persons.TreeSet.equal,types_of_things.TreeSet.equal[x_f=_s,y_f=a_]][cxt_len=3]: 0.650, 0.833\n",
      "MlM_gen[genders_of_persons.TreeSet.equal,types_of_things.TreeSet.equal[x_f=_s,y_f=a_]][cxt_len=3,rev_item2str]: 1.830, 0.486\n",
      "MlM_gen[types_of_things.TreeSet.equal[x_f=_s,y_f=a_],genders_of_persons.TreeSet.equal][cxt_len=3]: 1.263, 0.569\n",
      "MlM_gen[types_of_things.TreeSet.equal[x_f=_s,y_f=a_],genders_of_persons.TreeSet.equal][cxt_len=3,rev_item2str]: 0.731, 0.708\n",
      "MlM_gen[genders_of_persons.TreeSet.equal,types_of_things.TreeSet.child[x_f=_s,y_f=a_]][cxt_len=3]: 2.357, 0.458\n",
      "MlM_gen[genders_of_persons.TreeSet.equal,types_of_things.TreeSet.child[x_f=_s,y_f=a_]][cxt_len=3,rev_item2str]: 3.075, 0.333\n",
      "MlM_gen[types_of_things.TreeSet.child[x_f=_s,y_f=a_],genders_of_persons.TreeSet.equal][cxt_len=3]: 1.715, 0.333\n",
      "MlM_gen[types_of_things.TreeSet.child[x_f=_s,y_f=a_],genders_of_persons.TreeSet.equal][cxt_len=3,rev_item2str]: 1.379, 0.458\n",
      "MlM_gen[genders_of_persons.TreeSet.child,types_of_things.TreeSet.equal][cxt_len=3]: 1.541, 0.486\n",
      "MlM_gen[genders_of_persons.TreeSet.child,types_of_things.TreeSet.equal][cxt_len=3,rev_item2str]: 1.845, 0.333\n",
      "MlM_gen[types_of_things.TreeSet.equal,genders_of_persons.TreeSet.child][cxt_len=3]: 0.007, 1.000\n",
      "MlM_gen[types_of_things.TreeSet.equal,genders_of_persons.TreeSet.child][cxt_len=3,rev_item2str]: 0.007, 1.000\n",
      "MlM_gen[genders_of_persons.TreeSet.child,types_of_things.TreeSet.equal[x_f=_s,y_f=a_]][cxt_len=3]: 2.263, 0.472\n",
      "MlM_gen[genders_of_persons.TreeSet.child,types_of_things.TreeSet.equal[x_f=_s,y_f=a_]][cxt_len=3,rev_item2str]: 2.919, 0.347\n",
      "MlM_gen[types_of_things.TreeSet.equal[x_f=_s,y_f=a_],genders_of_persons.TreeSet.child][cxt_len=3]: 0.011, 1.000\n",
      "MlM_gen[types_of_things.TreeSet.equal[x_f=_s,y_f=a_],genders_of_persons.TreeSet.child][cxt_len=3,rev_item2str]: 0.009, 1.000\n",
      "MlM_gen[genders_of_persons.TreeSet.child,types_of_things.TreeSet.child[x_f=_s,y_f=a_]][cxt_len=3]: 3.361, 0.264\n",
      "MlM_gen[genders_of_persons.TreeSet.child,types_of_things.TreeSet.child[x_f=_s,y_f=a_]][cxt_len=3,rev_item2str]: 3.834, 0.153\n",
      "MlM_gen[types_of_things.TreeSet.child[x_f=_s,y_f=a_],genders_of_persons.TreeSet.child][cxt_len=3]: 0.011, 1.000\n",
      "MlM_gen[types_of_things.TreeSet.child[x_f=_s,y_f=a_],genders_of_persons.TreeSet.child][cxt_len=3,rev_item2str]: 0.008, 1.000\n"
     ]
    }
   ],
   "source": [
    "for key, result in results.items(): print(f\"{key}: {result.mean_loss:.3f}, {result.mean_acc:.3f}\")"
   ]
  },
  {
   "cell_type": "code",
   "execution_count": null,
   "id": "36787b39",
   "metadata": {},
   "outputs": [],
   "source": [
    "key = 'MlM_gen(types_of_things.TreeSet.child, genders_of_persons.TreeSet.child) (cxt_len=3)'\n",
    "result = results[key]; show_predictions_by_result(tokenizer, result, k_shot)"
   ]
  },
  {
   "cell_type": "code",
   "execution_count": null,
   "id": "557c1baf",
   "metadata": {
    "scrolled": true
   },
   "outputs": [],
   "source": [
    "nrows, k_shot = 16, 7; cxt_len=3; save_results = True\n",
    "batch_size = 8; verbose = not save_results or batch_size <= 8\n",
    "for task, replace_rel0, replace_rel1, do_swap_qa, do_negate, do_rm_local_hop, do_rm_query, rev_item2str in product(\n",
    "    tasks[2:3], [0,  ], [0,     ],   [False,],[False,],[False,],[False,],[False,]):\n",
    "    seed(42)\n",
    "    args = dict(cxt_len=cxt_len, rev_item2str=rev_item2str, abstract=False)\n",
    "    trans_args = dict(replace_rel0=replace_rel0, replace_rel1=replace_rel1, do_swap_qa=do_swap_qa, do_negate=do_negate,\n",
    "                      do_rm_local_hop=do_rm_local_hop, do_rm_query=do_rm_query)\n",
    "    task = transform_task(task, **trans_args)\n",
    "    if task is None: continue\n",
    "    res_key = f\"{task2str(task)} ({args2str(args)})\" + composed_heads2str(model)\n",
    "#     if not validate_args(task, args, trans_args): print('invalid args! skip.'); continue\n",
    "#     if save_results and key is not None and res_key != key: continue\n",
    "    if verbose: print(f'\\n== {res_key} == {args2str(trans_args)}')\n",
    "    if save_results and res_key in results:\n",
    "        assert results[res_key].trans_args == trans_args, f'{res_key} {args2str(results[res_key].trans_args)} != {args2str(trans_args)}'\n",
    "        result = results[res_key]; data_tuples = result.data_tuples\n",
    "    else:\n",
    "        all_examples, texts, all_bos_tokens = zip(*[generate(task, verbose=False, plot=False, nrows=nrows, **args)\n",
    "                                                for i in range(batch_size)])\n",
    "        result = Result(task, trans_args, args, all_examples, texts)\n",
    "        for text in texts: print('\\n'.join(text.split('\\n')[:3]))\n",
    "\n",
    "        data_tuples, eval_results = zip(*[predict(model, tokenizer, text, examples,\n",
    "            k_shot=k_shot, bos_token=bos_tokens, verbose=verbose)\n",
    "            for text, examples, bos_tokens in zip(texts, all_examples, all_bos_tokens)\n",
    "            if True or any(s in text[24:] for s in ['dangerous'])])\n",
    "        result.data_tuples = data_tuples\n",
    "        loss, acc, *_ = zip(*eval_results)\n",
    "        result.mean_loss, result.mean_acc = np.array(loss).mean(), np.array(join_lists(acc)).mean()\n",
    "        if verbose: print(result.mean_loss, result.mean_acc)\n",
    "        if save_results: results[res_key] = result\n",
    "    if not save_results: continue\n",
    "\n",
    "#     for node_name in ['node']:\n",
    "#         node = getattr(result, node_name, None)\n",
    "#         if node is None: node = result.node = result.root = add_node(node, label_type=node_name.replace('node', 'labels'))\n",
    "#         node.data.attr = mr(attribute_step)(data_tuples[:], model, node)\n",
    "#     node.data.scores = {ap: mr(get_head_matching_scores)(data_tuples, ap, k_shot=k_shot)\n",
    "#         for ap in attn_patterns_by_step.get(node.data.step, [])} if 'g2c' not in res_key else None"
   ]
  },
  {
   "cell_type": "code",
   "execution_count": 146,
   "id": "1418741f",
   "metadata": {},
   "outputs": [
    {
     "name": "stdout",
     "output_type": "stream",
     "text": [
      "MlM_gen(genders_of_persons.TreeSet.child, types_of_things.TreeSet.equal) (cxt_len=3): 1.395, 0.5277777777777778\n",
      "MlM_gen(genders_of_persons.TreeSet.child, nouns.things.wrap_noun.TreeSet.child) (cxt_len=3): 2.519, 0.4027777777777778\n",
      "MlM_gen(genders_of_persons.TreeSet.child, things.TreeSet.equal) (cxt_len=3): 1.395, 0.5277777777777778\n",
      "MlM_gen(genders_of_persons.TreeSet.child, things.TreeSet.child) (cxt_len=3): 1.395, 0.5277777777777778\n"
     ]
    }
   ],
   "source": [
    "for key, result in results.items(): print(f\"{key}: {result.mean_loss:.3f}, {result.mean_acc}\") # codex"
   ]
  },
  {
   "cell_type": "code",
   "execution_count": 18,
   "id": "ac9b2e12",
   "metadata": {},
   "outputs": [],
   "source": [
    "device = torch.device('cuda:0')\n",
    "_ = clone_model_to(model, device)\n",
    "data_tuples_gpu = data_tuples_to(data_tuples, device)"
   ]
  },
  {
   "cell_type": "code",
   "execution_count": 31,
   "id": "3ba71533",
   "metadata": {},
   "outputs": [
    {
     "name": "stdout",
     "output_type": "stream",
     "text": [
      "          ┌[0] @:6 24-10,21-13,22-5,19-15,21-14,19-m\n",
      "          ├[0] 11-12 B->Q] argmax_attn┐\n",
      "          │                           └[1] 8-1 B->A]\n",
      "          │                           ┌[1] 11-12 B->Q]\n",
      "          ├[0] 13-7 B->A0] argmax_attn┤\n",
      "          │                           └[1] 12-10 B->A]\n",
      " [-1] root┤\n",
      "          │                                  ┌[1] 11-12 B->Q]\n",
      "          ├[0] @7 16-7 32% B->A0] argmax_attn┤\n",
      "          │                                  ├[1] 12-10 B->A]\n",
      "          │                                  └[1] 13-13 B->A]\n",
      "          ├[0] @0 24-10 100% B->B argmax_attn\n",
      "          └[0] @1 21-13 68% B->A0] argmax_attn\n"
     ]
    }
   ],
   "source": [
    "print_tree(root)  # cpu"
   ]
  },
  {
   "cell_type": "code",
   "execution_count": null,
   "id": "4dbb0675",
   "metadata": {},
   "outputs": [],
   "source": [
    "key = 'MlM_gen(genders_of_persons.TreeSet.child, types_of_things.TreeSet.equal) (cxt_len=3)'; result = results[key]\n",
    "node, data_tuples = show_result(result)"
   ]
  },
  {
   "cell_type": "code",
   "execution_count": null,
   "id": "75e7f37f",
   "metadata": {
    "scrolled": false
   },
   "outputs": [],
   "source": [
    "plot_attn_attrs(data_tuples[:3], model, tokenizer, node, topi=[0,1,2], k_shot=k_shot, mix=True)"
   ]
  },
  {
   "cell_type": "code",
   "execution_count": null,
   "id": "435f910b",
   "metadata": {
    "scrolled": false
   },
   "outputs": [],
   "source": [
    "for data_tuple in data_tuples[:3]:\n",
    "    plot_attn_attr(data_tuple, model, tokenizer, node, 13, 7, attn_patterns=['bos->ans0]'], k_shot=0, plot_attr=False)"
   ]
  },
  {
   "cell_type": "code",
   "execution_count": 160,
   "id": "835266e7",
   "metadata": {},
   "outputs": [],
   "source": [
    "node = node.parent"
   ]
  },
  {
   "cell_type": "code",
   "execution_count": 164,
   "id": "5ce14dd7",
   "metadata": {},
   "outputs": [
    {
     "name": "stdout",
     "output_type": "stream",
     "text": [
      "MlM_gen(genders_of_persons.TreeSet.child, types_of_things.TreeSet.equal) (cxt_len=3)\n",
      "Maria has gray. Dorothy has a cat. Christopher has a revolver. The boy likes revolver\n",
      "                 ┌[0] 13-2 argmax_attn_labels┐\n",
      "                 │                           └[1] top[0, 1] 12-10,8-1┐\n",
      "                 │                                                   └[2] top[0] 1-7\n",
      " [-1] root labels┤\n",
      "                 │                           ┌[1] top[0, 1, 2, 3] 11-12,12-10,9-14,9-5\n",
      "                 ├[0] 13-7 argmax_attn_labels┤\n",
      "                 │                           ├[1] top[2] 9-14┐\n",
      "                 │                           │               └[2] top[0, 1] 8-7,6-2\n",
      "                 │                           └[1] top[1] 12-10┐\n",
      "                 │                                            └[2] top[0, 1] 8-7,0-mlp\n",
      "                 │                            ┌[1] top[0, 1, 2] 0-mlp,9-14,8-1\n",
      "                 └[0] 11-12 argmax_attn_labels┤\n",
      "                                              └[1] top[1, 2] 9-14,8-1┐\n",
      "                                                                     └*[2] top[0, 1, 2, 3, 4] 0-mlp,4-1,7-10,8-7,7-mlp...\n"
     ]
    }
   ],
   "source": [
    "print(key); print('\\n'.join(result.texts[-1].split('\\n')[:1]))\n",
    "node = result.node = add_node(node, topi=[0,1,2,3,4])#layer=11, head=12, attn_pattern='bos->query]', label_type='argmax_attn_labels')"
   ]
  },
  {
   "cell_type": "code",
   "execution_count": null,
   "id": "e6f4dd81",
   "metadata": {},
   "outputs": [],
   "source": [
    "key = 'MlM_gen(genders_of_persons.TreeSet.equal, types_of_things.TreeSet.child) (cxt_len=3)'; result = results[key]\n",
    "node, data_tuples = show_result(result)"
   ]
  },
  {
   "cell_type": "code",
   "execution_count": null,
   "id": "75aebe41",
   "metadata": {
    "scrolled": false
   },
   "outputs": [],
   "source": [
    "for data_tuple in data_tuples[:3]:\n",
    "    plot_attn_attr(data_tuple, model, tokenizer, node, 13, 7, attn_patterns=['bos->ans0]'], k_shot=0, plot_attr=False)"
   ]
  },
  {
   "cell_type": "code",
   "execution_count": null,
   "id": "d0701ae6",
   "metadata": {
    "scrolled": false
   },
   "outputs": [],
   "source": [
    "plot_attn_attrs(data_tuples[:3], model, tokenizer, node, topi=[0,1,2], k_shot=k_shot, mix=False)"
   ]
  },
  {
   "cell_type": "code",
   "execution_count": 112,
   "id": "409bc0b1",
   "metadata": {},
   "outputs": [],
   "source": [
    "node = result.root"
   ]
  },
  {
   "cell_type": "code",
   "execution_count": 117,
   "id": "f9d23ade",
   "metadata": {},
   "outputs": [
    {
     "name": "stdout",
     "output_type": "stream",
     "text": [
      "MlM_gen(genders_of_persons.TreeSet.equal, types_of_things.TreeSet.child) (cxt_len=3)\n",
      "Nancy has blueberries. Mary has a wolf. Jennifer has wine. Mary likes animal\n",
      "                 ┌[0] 11-12 argmax_attn_labels┐\n",
      "                 │                            └*[1] top[0, 1, 2] 0-mlp,9-5,10-8...\n",
      "                 │                                  ┌[1] top[0, 1, 2, 3, 4, 5, 6] 19-mlp,14-9,16-mlp,8-1,13-13,17-mlp,12-10\n",
      "                 ├[0] top[2] 21-5 argmax_attn_labels┤\n",
      "                 │                                  └[1] top[3, 4, 6] 8-1,13-13,12-10┐\n",
      "                 │                                                                   └[2] top[0, 1] 3-12,5-12\n",
      " [-1] root labels┤\n",
      "                 │                                  ┌[1] top[0, 1, 2, 3, 4, 5] 14-9,0-mlp,8-1,13-13,12-10,9-14\n",
      "                 ├[0] top[3] 15-8 argmax_attn_labels┤\n",
      "                 │                                  ├[1] top[2, 3, 4, 5] 8-1,13-13,12-10,9-14┐\n",
      "                 │                                  │                                        └[2] top[0, 1, 2, 3, 4] 5-12,3-12,8-3,4-mlp,0-mlp\n",
      "                 │                                  └[1] top[0] 14-9┐\n",
      "                 │                                                  └[2] top[0, 1, 2, 3] 13-mlp,11-4,13-13,9-14\n",
      "                 │                                  ┌[1] top[0, 1, 2, 3, 4, 5] 19-mlp,16-mlp,14-9,18-9,17-mlp,8-1\n",
      "                 └[0] top[6] 20-5 argmax_attn_labels┤\n",
      "                                                    └[1] top[5, 7] 8-1,12-10┐\n",
      "                                                                            └[2] top[0, 1, 2] 3-12,7-2,5-12\n"
     ]
    }
   ],
   "source": [
    "print(key); print('\\n'.join(result.texts[-1].split('\\n')[:1]))\n",
    "node = result.node = add_node(node, topi=[0,1,2])#, attn_pattern='bos->query]', label_type='argmax_attn_labels')"
   ]
  },
  {
   "cell_type": "code",
   "execution_count": 367,
   "id": "d9e179ef",
   "metadata": {},
   "outputs": [
    {
     "name": "stdout",
     "output_type": "stream",
     "text": [
      "MlM_gen(genders_of_persons.TreeSet.equal, types_of_things.TreeSet.child) (cxt_len=3)\n",
      "                 ┌[0] 11-12 argmax_attn_labels\n",
      " [-1] root labels┤\n",
      "                 ├[0] 16-7 argmax_attn_labels┐\n",
      "                 │                           └[1] top[0, 1] 13-13,12-10┐\n",
      "                 │                                                     └*[2] top[0, 1, 2, 3, 4, 5] 0-mlp,10-4,12-mlp,6-2,7-9,10-mlp...\n",
      "                 └[0] top[5] 13-7 argmax_attn_labels┐\n",
      "                                                    └[1] top[1, 3] 12-10,8-1┐\n",
      "                                                                            └[2] top[0] 3-12\n"
     ]
    }
   ],
   "source": [
    "print(key); node = result.node = add_node(node, topi=[0,1,2,3,4,5])#attn_pattern='bos->ans0]', label_type='argmax_attn_labels')"
   ]
  },
  {
   "cell_type": "code",
   "execution_count": null,
   "id": "badcf5b1",
   "metadata": {
    "scrolled": false
   },
   "outputs": [],
   "source": [
    "key = 'MlM_gen(genders_of_persons.TreeSet.equal, types_of_things.TreeSet.equal) (cxt_len=3)'; result = results[key]\n",
    "node, data_tuples = show_result(result)"
   ]
  },
  {
   "cell_type": "code",
   "execution_count": null,
   "id": "363fbf25",
   "metadata": {
    "scrolled": false
   },
   "outputs": [],
   "source": [
    "for data_tuple in data_tuples[:]:\n",
    "    plot_attn_attr(data_tuple, model, tokenizer, node, 11, 12, attn_patterns=['bos->query]'], k_shot=0, plot_attr=False)"
   ]
  },
  {
   "cell_type": "code",
   "execution_count": null,
   "id": "91db824e",
   "metadata": {
    "scrolled": false
   },
   "outputs": [],
   "source": [
    "plot_attn_attrs(data_tuples[:3], model, tokenizer, node, topi=[0,1], k_shot=k_shot)"
   ]
  },
  {
   "cell_type": "code",
   "execution_count": 106,
   "id": "2f897ca2",
   "metadata": {},
   "outputs": [],
   "source": [
    "node = result.root"
   ]
  },
  {
   "cell_type": "code",
   "execution_count": 110,
   "id": "07867280",
   "metadata": {},
   "outputs": [
    {
     "name": "stdout",
     "output_type": "stream",
     "text": [
      "MlM_gen(genders_of_persons.TreeSet.equal, types_of_things.TreeSet.equal) (cxt_len=3)\n",
      "Kimberly has a rabbit. Charles has white. Jason has a taxi. Kimberly likes rabbit\n",
      "                 ┌[0] 11-12 argmax_attn_labels attr_k┐\n",
      "                 │                                   └[1] top[0] 0-mlp\n",
      "                 ├[0] 9-5 argmax_attn_labels┐\n",
      "                 │                          └[1] top[0] 0-mlp\n",
      "                 ├[0] 13-7 argmax_attn_labels┐\n",
      "                 │                           └*[1] top[0, 1, 2, 3, 4, 5] 11-12,9-5,12-14,9-14,11-4,12-10...\n",
      " [-1] root labels┤\n",
      "                 │                            ┌[1] top[0, 1, 2, 3] 8-1,0-mlp,9-14,9-5\n",
      "                 ├[0] 11-12 argmax_attn_labels┤\n",
      "                 │                            │              ┌[2] top[0, 1, 2, 3] 6-mlp,4-6,4-12,7-mlp\n",
      "                 │                            └[1] top[0] 8-1┤\n",
      "                 │                                           └[2] top[1] 4-6┐\n",
      "                 │                                                          └[3] top[0] 0-mlp\n",
      "                 │                                  ┌[1] top[0, 1, 2, 3, 4, 5] 11-12,14-9,13-13,9-14,15-5,12-10\n",
      "                 └[0] top[1] 16-7 argmax_attn_labels┤\n",
      "                                                    └[1] top[2, 3, 5] 13-13,9-14,12-10\n"
     ]
    }
   ],
   "source": [
    "print(key); print('\\n'.join(result.texts[-1].split('\\n')[:1]))\n",
    "node = result.node = add_node(node, topi=[0,1,2,3,4,5])#, label_type='argmax_attn_labels')"
   ]
  },
  {
   "cell_type": "code",
   "execution_count": 345,
   "id": "20113f68",
   "metadata": {},
   "outputs": [
    {
     "name": "stdout",
     "output_type": "stream",
     "text": [
      "MlM_gen(genders_of_persons.TreeSet.equal, types_of_things.TreeSet.equal) (cxt_len=3)\n",
      "                 ┌[0] top[3] 16-7 argmax_attn_labels┐\n",
      "                 │                                  └[1] top[0, 3, 4] 13-13,9-14,12-10┐\n",
      "                 │                                                                    └[2] top[0, 1, 2] 8-7,6-2,1-7\n",
      "                 ├[0] top[2] 16-0 argmax_attn_labels┐\n",
      "                 │                                  └[1] top[0, 1, 2] 13-13,12-10,8-1┐\n",
      "                 │                                                                   └[2] top[0, 1, 2, 3] 1-7,0-mlp,8-7,6-2\n",
      " [-1] root labels┤\n",
      "                 ├[0] 11-12 argmax_attn_labels┐\n",
      "                 │                            └[1] top[0, 2] 8-1,9-14┐\n",
      "                 │                                                   └*[2] top[0] 4-6...\n",
      "                 └[0] top[9] 13-7 argmax_attn_labels┐\n",
      "                                                    └[1] top[1, 2] 12-10,9-14┐\n",
      "                                                                             └[2] top[0] 8-7\n"
     ]
    }
   ],
   "source": [
    "print(key); node = result.node = add_node(node, topi=[0])#, attn_pattern='bos->query]', label_type='argmax_attn_labels')"
   ]
  },
  {
   "cell_type": "code",
   "execution_count": 364,
   "id": "568fca95",
   "metadata": {},
   "outputs": [
    {
     "name": "stdout",
     "output_type": "stream",
     "text": [
      "((8, 7), (13, 13), (16, 7)) (0.9622409343719482, 0.9821789860725403)\n",
      "((8, 7), (9, 14), (16, 7)) (0.9469795227050781, 0.9725989699363708)\n",
      "((8, 7), (12, 10), (16, 7)) (0.9750146865844727, 0.9863405823707581)\n",
      "((6, 2), (13, 13), (16, 7)) (0.9623928070068359, 0.9801956415176392)\n",
      "((6, 2), (9, 14), (16, 7)) (0.9362690448760986, 0.9594190120697021)\n",
      "((6, 2), (12, 10), (16, 7)) (0.954227864742279, 0.9754131436347961)\n"
     ]
    }
   ],
   "source": [
    "for head_chain in product([(8, 7), (6, 2)], [(13, 13), (9, 14), (12, 10)], [(16, 7)]):\n",
    "    print(head_chain, plot_eigv(weightprod(model, list(head_chain), 'e vo vo qk e', weBTA=model.weBTAs[0]), plot=False))"
   ]
  },
  {
   "cell_type": "markdown",
   "id": "19e0b598",
   "metadata": {},
   "source": [
    "### person_adjs.opposite"
   ]
  },
  {
   "cell_type": "code",
   "execution_count": 1077,
   "id": "89b7d463",
   "metadata": {},
   "outputs": [
    {
     "name": "stdout",
     "output_type": "stream",
     "text": [
      "MlM_gen(persons.EqSet.equal, person_adjs.SymSet.equal) (cxt_len=3, abstract=0): 0.892, 0.7142857142857143\n",
      "MlM_gen(persons.EqSet.equal, person_adjs.SymSet.opposite) (cxt_len=3, abstract=0): 3.309, 0.2857142857142857\n",
      "MlM_gen(persons.EqSet.equal, person_adjs.SymSet.opposite) (cxt_len=3, abstract=0)_4-6qk->4-8: 3.436, 0.21428571428571427\n",
      "MlM_gen(persons.EqSet.equal, person_adjs.SymSet.opposite) (cxt_len=3, abstract=0)_4-6qk->4-8_6-2qk->7-9: 3.461, 0.23809523809523808\n"
     ]
    }
   ],
   "source": [
    "for key, result in results.items(): print(f\"{key}: {result.mean_loss:.3f}, {result.mean_acc}\")"
   ]
  },
  {
   "cell_type": "code",
   "execution_count": null,
   "id": "f5cbe1f9",
   "metadata": {},
   "outputs": [],
   "source": [
    "key = 'MlM_gen(persons.EqSet.equal, person_adjs.SymSet.opposite) (cxt_len=3, abstract=0)_4-6/6-10->4-8_1-7/6-2/8-7->7-9'; result = results[key]\n",
    "node, data_tuples = show_result(result)"
   ]
  },
  {
   "cell_type": "code",
   "execution_count": null,
   "id": "fdd48aa2",
   "metadata": {},
   "outputs": [],
   "source": [
    "plot_attn_attrs(data_tuples[:3], model, tokenizer, node, topi=[0,1,2], k_shot=k_shot, mix=False)"
   ]
  },
  {
   "cell_type": "code",
   "execution_count": 1155,
   "id": "1d8a9671",
   "metadata": {},
   "outputs": [],
   "source": [
    "node = result.root"
   ]
  },
  {
   "cell_type": "code",
   "execution_count": 1156,
   "id": "c41bbb00",
   "metadata": {},
   "outputs": [
    {
     "name": "stdout",
     "output_type": "stream",
     "text": [
      "MlM_gen(persons.EqSet.equal, person_adjs.SymSet.opposite) (cxt_len=3, abstract=0)_4-6/6-10->4-8_1-7/6-2/8-7->7-9\n",
      "                 ┌*[0] top[1] 16-14 argmax_attn_labels...\n",
      " [-1] root labels┤\n",
      "                 │                           ┌[1] top[4, 7] 9-14,12-10┐\n",
      "                 │                           │                        └[2] top[0] 7-9\n",
      "                 └[0] 16-7 argmax_attn_labels┤\n",
      "                                             ├[1] top[7] 12-10┐\n",
      "                                             │                └[2] top[0, 1] 1-7,11-mlp\n",
      "                                             └[1] top[4] 9-14┐\n",
      "                                                             └[2] top[0, 1] 6-2,7-9\n"
     ]
    }
   ],
   "source": [
    "print(key); node = result.node = add_node(node, topi=[0,1])#, label_type='argmax_attn_labels')"
   ]
  },
  {
   "cell_type": "code",
   "execution_count": null,
   "id": "485bccad",
   "metadata": {},
   "outputs": [],
   "source": [
    "key = 'MlM_gen(persons.EqSet.equal, person_adjs.SymSet.opposite) (cxt_len=3, abstract=0)_4-6qk->4-8_6-2qk->7-9'; result = results[key]\n",
    "node, data_tuples = show_result(result)"
   ]
  },
  {
   "cell_type": "code",
   "execution_count": 1069,
   "id": "6f5d093a",
   "metadata": {},
   "outputs": [],
   "source": [
    "node = node.parent"
   ]
  },
  {
   "cell_type": "code",
   "execution_count": null,
   "id": "0e64a876",
   "metadata": {},
   "outputs": [],
   "source": [
    "plot_attn_attrs(data_tuples[:4], model, tokenizer, node, topi=[0,1,2,3], head_attr_fn=get_head_mlp_attr, k_shot=k_shot)"
   ]
  },
  {
   "cell_type": "code",
   "execution_count": 1076,
   "id": "9a4ed844",
   "metadata": {},
   "outputs": [
    {
     "name": "stdout",
     "output_type": "stream",
     "text": [
      "MlM_gen(persons.EqSet.equal, person_adjs.SymSet.opposite) (cxt_len=3, abstract=0)_4-6qk->4-8_6-2qk->7-9\n",
      "                 ┌[0] top[0] 16-14 argmax_attn_labels\n",
      " [-1] root labels┤\n",
      "                 └[0] 11-12 argmax_attn_labels┐\n",
      "                                              └[1] top[3] 8-1┐\n",
      "                                                             └*[2] top[0, 1, 2, 3] 6-2,4-6,6-mlp,7-9...\n"
     ]
    }
   ],
   "source": [
    "print(key); node = result.node = add_node(node, topi=[0,1,2,3]) #label_type='argmax_attn_labels', attn_pattern='bos->query]') # "
   ]
  },
  {
   "cell_type": "code",
   "execution_count": null,
   "id": "1aa60022",
   "metadata": {},
   "outputs": [],
   "source": [
    "key = 'MlM_gen(persons.EqSet.equal, person_adjs.SymSet.opposite) (cxt_len=3, abstract=0)'; result = results[key]\n",
    "node, data_tuples = show_result(result)"
   ]
  },
  {
   "cell_type": "code",
   "execution_count": 1042,
   "id": "f8f031a4",
   "metadata": {},
   "outputs": [],
   "source": [
    "node = node.parent"
   ]
  },
  {
   "cell_type": "code",
   "execution_count": null,
   "id": "f50dc477",
   "metadata": {},
   "outputs": [],
   "source": [
    "plot_attn_attrs(data_tuples[:4], model, tokenizer, node, topi=[0], head_attr_fn=get_head_mlp_attr, k_shot=k_shot)  # "
   ]
  },
  {
   "cell_type": "code",
   "execution_count": 1041,
   "id": "7f131da8",
   "metadata": {},
   "outputs": [
    {
     "name": "stdout",
     "output_type": "stream",
     "text": [
      "MlM_gen(persons.EqSet.equal, person_adjs.SymSet.opposite) (cxt_len=3, abstract=0)\n",
      "                 ┌[0] top[0] 16-14 argmax_attn_labels┐\n",
      "                 │                                   └[1] top[0] 8-1┐\n",
      "                 │                                                  └[2] top[0] 7-9\n",
      " [-1] root labels┤\n",
      "                 │                            ┌[1] top[0, 1, 2, 3, 4] 9-5,0-mlp,10-8,8-1,9-14\n",
      "                 └[0] 11-12 argmax_attn_labels┤\n",
      "                                              └[1] top[3] 8-1┐\n",
      "                                                             └*[2] top[0, 1] 4-6,6-mlp...\n"
     ]
    }
   ],
   "source": [
    "print(key); node = result.node = add_node(node, topi=[0,1], head_attr_fn=get_head_mlp_attr)#label_type='argmax_attn_labels', attn_pattern='bos->query]') # "
   ]
  },
  {
   "cell_type": "code",
   "execution_count": null,
   "id": "b64dce0d",
   "metadata": {},
   "outputs": [],
   "source": [
    "key = 'MlM_gen(persons.EqSet.equal, person_adjs.SymSet.equal) (cxt_len=3, abstract=0)'; result = results[key]\n",
    "node, data_tuples = show_result(result)"
   ]
  },
  {
   "cell_type": "code",
   "execution_count": null,
   "id": "ee9ba16b",
   "metadata": {},
   "outputs": [],
   "source": [
    "plot_attn_attrs(data_tuples[:4], model, tokenizer, node, topi=[0,1,4,5], k_shot=k_shot)  # "
   ]
  },
  {
   "cell_type": "code",
   "execution_count": 983,
   "id": "807a0cfd",
   "metadata": {},
   "outputs": [],
   "source": [
    "forked_node_k.k_node = q_node; forked_node_k.model = model\n",
    "del forked_node_k.k_node; del forked_node_k.model"
   ]
  },
  {
   "cell_type": "code",
   "execution_count": 928,
   "id": "dd81ed2e",
   "metadata": {},
   "outputs": [],
   "source": [
    "forked_node.k_node = k_node; forked_node.model = model\n",
    "del forked_node.k_node; del forked_node.model"
   ]
  },
  {
   "cell_type": "code",
   "execution_count": 1097,
   "id": "75612c6b",
   "metadata": {},
   "outputs": [],
   "source": [
    "node = node.parent.parent"
   ]
  },
  {
   "cell_type": "code",
   "execution_count": 1101,
   "id": "30875b28",
   "metadata": {},
   "outputs": [
    {
     "name": "stdout",
     "output_type": "stream",
     "text": [
      "MlM_gen(persons.EqSet.equal, person_adjs.SymSet.equal) (cxt_len=3, abstract=0)\n",
      " [-1] root labels┐\n",
      "                 │                           ┌[0] top[0] 11-12 attn_labels attr_k┐\n",
      "                 │                           │                                   └[1] top[0] 0-mlp\n",
      "                 │                           ├[1] top[0] 9-14┐\n",
      "                 │                           │               └[2] top[0, 1, 2] 1-7,8-7,6-10\n",
      "                 │                           ├[1] top[5] 12-10┐\n",
      "                 │                           │                └[2] top[0, 1] 1-7,10-7\n",
      "                 └[0] top[1] 16-7 attn_labels┤\n",
      "                                             │                            ┌[1] top[1] 9-14┐\n",
      "                                             │                            │               └[2] top[0, 1, 2, 3] 7-6,4-6,8-7,6-2\n",
      "                                             ├[0] top[0] 11-12 attn_labels┤\n",
      "                                             │                            │              ┌[2] top[0, 1] 4-6,6-2\n",
      "                                             │                            └[1] top[0] 8-1┤\n",
      "                                             │                                           └[2] top[0] 4-6┐\n",
      "                                             │                                                          └[3] top[0] 0-mlp\n",
      "                                             └[1] top[0, 5] 9-14,12-10┐\n",
      "                                                                      └*[2] top[0, 1, 2, 3] 1-7,8-7,4-6,6-10...\n"
     ]
    }
   ],
   "source": [
    "print(key); node = result.node = add_node(node, topi=[0,1,2,3]) #label_type='attn_labels', attn_pattern='bos->query]', step=0, attribute_k=True) # "
   ]
  },
  {
   "cell_type": "code",
   "execution_count": null,
   "id": "cf0a6332",
   "metadata": {},
   "outputs": [],
   "source": [
    "key = 'MlM_gen(persons.EqSet.equal, person_adjs.SymSet.equal) (cxt_len=2, abstract=0)'; result = results[key]\n",
    "node, data_tuples = show_result(result)"
   ]
  },
  {
   "cell_type": "code",
   "execution_count": null,
   "id": "74cd8143",
   "metadata": {},
   "outputs": [],
   "source": [
    "plot_attn_attrs(data_tuples[:4], model, tokenizer, node, topi=[0,1,2], head_attr_fn=get_head_mlp_attr, k_shot=k_shot)  # "
   ]
  },
  {
   "cell_type": "code",
   "execution_count": null,
   "id": "c19ed26b",
   "metadata": {},
   "outputs": [],
   "source": [
    "key = 'MlM_gen(persons.EqSet.equal, person_adjs.SymSet.opposite) (cxt_len=2, abstract=0)'; result = results[key]\n",
    "node, data_tuples = show_result(result)"
   ]
  },
  {
   "cell_type": "code",
   "execution_count": null,
   "id": "8cdf2869",
   "metadata": {},
   "outputs": [],
   "source": [
    "plot_attn_attrs(data_tuples[:4], model, tokenizer, node, topi=[0], k_shot=k_shot)  # head_attr_fn=get_head_mlp_attr, "
   ]
  },
  {
   "cell_type": "code",
   "execution_count": null,
   "id": "47e03775",
   "metadata": {},
   "outputs": [],
   "source": [
    "plot_attn_attrs(data_tuples[:4], model, tokenizer, node, topi=[0,2], head_attr_fn=get_head_mlp_attr, k_shot=k_shot, mix=True)"
   ]
  },
  {
   "cell_type": "code",
   "execution_count": null,
   "id": "a86219f3",
   "metadata": {},
   "outputs": [],
   "source": [
    "plot_attn_attrs(data_tuples[:4], model, tokenizer, node, topi=[0,1,2,3], head_attr_fn=get_head_mlp_attr, k_shot=k_shot, mix=True)  # "
   ]
  },
  {
   "cell_type": "code",
   "execution_count": null,
   "id": "65baa7c5",
   "metadata": {},
   "outputs": [],
   "source": [
    "for data_tuple in data_tuples[:4]: plot_attn_attr(data_tuple, model, tokenizer, node, 7, 9, attn_patterns=['bos->ans0]'], k_shot=k_shot, plot_attr=False)"
   ]
  },
  {
   "cell_type": "code",
   "execution_count": 661,
   "id": "3713a89f",
   "metadata": {},
   "outputs": [],
   "source": [
    "node = node.children[1]"
   ]
  },
  {
   "cell_type": "code",
   "execution_count": 649,
   "id": "17929199",
   "metadata": {},
   "outputs": [
    {
     "name": "stdout",
     "output_type": "stream",
     "text": [
      "MlM_gen(persons.EqSet.equal, person_adjs.SymSet.opposite) (cxt_len=2, abstract=0)\n",
      "                 ┌[0] top[1] 14-7 attn_labels┐\n",
      "                 │                           └*[1] top[0, 1, 2] 13-12,12-10,8-1...\n",
      "                 │                            ┌[1] top[0] 13-12\n",
      "                 ├[0] top[0] 16-14 attn_labels┤\n",
      "                 │                            └[1] top[2] 14-9\n",
      " [-1] root labels┤\n",
      "                 │                                    ┌[1] top[1, 2] 8-1,12-10┐\n",
      "                 │                                    │                       └[2] top[0, 1] 7-9,0-mlp\n",
      "                 └[0] top[0, 1] 16-14,14-7 attn_labels┤\n",
      "                                                      │                ┌[2] top[0] 12-16┐\n",
      "                                                      │                │                └[3] top[0, 1, 2, 3, 4, 5] 8-16,6-16,10-16,9-16,0-16,5-16\n",
      "                                                      └[1] top[0] 13-12┤\n",
      "                                                                       └[2] top[1] 8-1┐\n",
      "                                                                                      └[3] top[0] 7-9\n"
     ]
    }
   ],
   "source": [
    "print(key); node = result.node = add_node(node, topi=[0,1,2], head_attr_fn=get_head_mlp_attr)# label_type='attn_labels')  # "
   ]
  },
  {
   "cell_type": "markdown",
   "id": "079866a0",
   "metadata": {},
   "source": [
    "### thing->type"
   ]
  },
  {
   "cell_type": "code",
   "execution_count": 574,
   "id": "342b97df",
   "metadata": {},
   "outputs": [
    {
     "name": "stdout",
     "output_type": "stream",
     "text": [
      "MlM_gen(persons.EqSet.equal, person_adjs.SymSet.equal) (cxt_len=2, abstract=0): 0.376, 0.8333333333333334\n",
      "MlM_gen(persons.EqSet.equal, person_adjs.SymSet.opposite) (cxt_len=2, abstract=0): 3.889, 0.21428571428571427\n"
     ]
    }
   ],
   "source": [
    "for key, result in results.items(): print(f\"{key}: {result.mean_loss:.3f}, {result.mean_acc}\")"
   ]
  },
  {
   "cell_type": "code",
   "execution_count": null,
   "id": "691139e6",
   "metadata": {
    "collapsed": true
   },
   "outputs": [],
   "source": [
    "key = 'MlM_gen(persons.EqSet.equal, types_of_things.TreeSet.equal) (cxt_len=2, abstract=0)'; result = results[key]\n",
    "node, data_tuples = show_result(result)"
   ]
  },
  {
   "cell_type": "code",
   "execution_count": null,
   "id": "155c3d7d",
   "metadata": {},
   "outputs": [],
   "source": [
    "plot_attn_attrs(data_tuples[:4], model, tokenizer, node, topi=[0,1], head_attr_fn=get_head_mlp_attr, k_shot=k_shot)"
   ]
  },
  {
   "cell_type": "code",
   "execution_count": 990,
   "id": "77e1fc52",
   "metadata": {},
   "outputs": [
    {
     "data": {
      "text/plain": [
       "'[0] top[0] 11-12 attn_labels attr_k'"
      ]
     },
     "execution_count": 990,
     "metadata": {},
     "output_type": "execute_result"
    }
   ],
   "source": [
    "node.name"
   ]
  },
  {
   "cell_type": "code",
   "execution_count": 552,
   "id": "7f94d610",
   "metadata": {},
   "outputs": [
    {
     "name": "stdout",
     "output_type": "stream",
     "text": [
      "MlM_gen(persons.EqSet.equal, types_of_things.TreeSet.equal) (cxt_len=2, abstract=0)\n",
      "                 ┌[0] top[0] 16-0 attn_labels┐\n",
      "                 │                           └[1] top[0, 1, 2, 3, 4] 13-2,12-10,11-12,13-13,8-1\n",
      "                 ├[0] top[2] 13-2 attn_labels:┐\n",
      "                 │                            └[1] top[0, 1] 8-1,12-10\n",
      " [-1] root labels┤\n",
      "                 │                                  ┌[1] top[0] 9-14\n",
      "                 ├[0] top[1] 16-7 argmax_attn_labels┤\n",
      "                 │                                  └*[1] top[0, 2, 4] 9-14,12-10,13-13...\n",
      "                 └[0] top[1] 16-7 attn_labels┐\n",
      "                                             └[1] top[2] 12-10\n"
     ]
    }
   ],
   "source": [
    "print(key); node = result.node = add_node(node, topi=[0,2,4], head_attr_fn=get_head_mlp_attr)#, label_type='argmax_attn_labels')  # "
   ]
  },
  {
   "cell_type": "code",
   "execution_count": null,
   "id": "a03ffba0",
   "metadata": {},
   "outputs": [],
   "source": [
    "key = 'MlM_gen(persons.EqSet.equal, types_of_things.TreeSet.parent) (cxt_len=2, abstract=0)'; result = results[key]\n",
    "node, data_tuples = show_result(result)"
   ]
  },
  {
   "cell_type": "code",
   "execution_count": null,
   "id": "95222719",
   "metadata": {},
   "outputs": [],
   "source": [
    "for data_tuple in data_tuples[:4]: plot_attn_attr(data_tuple, model, tokenizer, node, 16, 7, attn_patterns=['bos->ans0]'], k_shot=k_shot, plot_attr=False)"
   ]
  },
  {
   "cell_type": "code",
   "execution_count": null,
   "id": "014caa38",
   "metadata": {},
   "outputs": [],
   "source": [
    "plot_attn_attrs(data_tuples[:4], model, tokenizer, node, topi=[0,1,2,3], head_attr_fn=get_head_mlp_attr, k_shot=k_shot)"
   ]
  },
  {
   "cell_type": "code",
   "execution_count": 566,
   "id": "9ae8689e",
   "metadata": {},
   "outputs": [],
   "source": [
    "node = node.parent.parent"
   ]
  },
  {
   "cell_type": "code",
   "execution_count": 559,
   "id": "f9476640",
   "metadata": {},
   "outputs": [
    {
     "name": "stdout",
     "output_type": "stream",
     "text": [
      "MlM_gen(persons.EqSet.equal, types_of_things.TreeSet.parent) (cxt_len=2, abstract=0)\n",
      " [-1] root labels┐\n",
      "                 └[0] 16-7 argmax_attn_labels┐\n",
      "                                             └*[1] top[0] 12-10...\n"
     ]
    }
   ],
   "source": [
    "print(key); node = result.node = add_node(node, layer=16, head=7, topi=[0], head_attr_fn=get_head_mlp_attr)#, label_type=f'argmax_attn_labels')  # "
   ]
  },
  {
   "cell_type": "code",
   "execution_count": 460,
   "id": "22f07fab",
   "metadata": {},
   "outputs": [
    {
     "name": "stdout",
     "output_type": "stream",
     "text": [
      "MlM_gen(persons.EqSet.equal, types_of_things.TreeSet.parent) (cxt_len=2, abstract=0)\n",
      "                 ┌[0] 16-7 attn_labels:\n",
      " [-1] root labels┤\n",
      "                 └[0] 16-7 argmax_attn_labels┐\n",
      "                                             └[1] top[0] 12-10┐\n",
      "                                                              └*[2] top[0] 0-16...\n"
     ]
    }
   ],
   "source": [
    "print(key); node = result.node = add_node(node, topi=[0], head_attr_fn=get_head_mlp_attr)#, label_type=f'argmax_attn_labels')"
   ]
  },
  {
   "cell_type": "markdown",
   "id": "cdb4e419",
   "metadata": {},
   "source": [
    "### fr->en"
   ]
  },
  {
   "cell_type": "code",
   "execution_count": 155,
   "id": "7f0101f9",
   "metadata": {},
   "outputs": [
    {
     "name": "stdout",
     "output_type": "stream",
     "text": [
      "MlM_gen(persons.EqSet.equal, en2fr.TreeSet.parent) (cxt_len=1, abstract=0): 0.091, 0.84375\n",
      "MlM_gen(persons.EqSet.equal, en2fr.TreeSet.parent) (cxt_len=1, abstract=1): 0.109, 0.875\n",
      "MlM_gen(persons.EqSet.equal, en2fr.TreeSet.parent) (cxt_len=2, abstract=0): 2.069, 0.53125\n",
      "MlM_gen(persons.EqSet.equal, en2fr.TreeSet.parent) (cxt_len=2, abstract=1): 1.034, 0.59375\n"
     ]
    }
   ],
   "source": [
    "for key, result in results.items(): print(f\"{key}: {result.mean_loss:.3f}, {result.mean_acc}\")"
   ]
  },
  {
   "cell_type": "code",
   "execution_count": null,
   "id": "d156659e",
   "metadata": {},
   "outputs": [],
   "source": [
    "key = 'MlM_gen(persons.EqSet.equal, en2fr.TreeSet.parent) (cxt_len=1, abstract=0)'; result = results[key]\n",
    "node, data_tuples = show_result(result, topk=15)"
   ]
  },
  {
   "cell_type": "code",
   "execution_count": 173,
   "id": "e8c870a3",
   "metadata": {},
   "outputs": [
    {
     "name": "stdout",
     "output_type": "stream",
     "text": [
      "MlM_gen(persons.EqSet.equal, en2fr.TreeSet.parent) (cxt_len=1, abstract=0)\n",
      " [-1] root labels┐\n",
      "                 └[0] top[0, 1] 16-15,21-14 attn_labels┐\n",
      "                                                       └[1] top[0, 1, 2] 12-10,8-1,9-14┐\n",
      "                                                                                       └*[2] top[0, 1, 2, 3, 4, 5] 6-10,5-12,8-7,8-3,7-2,8-9...\n"
     ]
    }
   ],
   "source": [
    "print(key); node = result.node = add_node(node, topi=[0,1,2,3,4,5])"
   ]
  },
  {
   "cell_type": "code",
   "execution_count": 174,
   "id": "c07ef9bf",
   "metadata": {},
   "outputs": [
    {
     "name": "stdout",
     "output_type": "stream",
     "text": [
      "[[(5, 12, -1.016), (8, 7, -0.743), (7, 2, -1.071)], [(12, 10, -2.065), (8, 1, -2.009), (9, 14, -2.1)], [(16, 15, -0.416), (21, 14, -0.719)]]\n"
     ]
    },
    {
     "data": {
      "image/png": "[encoded data removed]",
      "text/plain": [
       "<Figure size 640x480 with 1 Axes>"
      ]
     },
     "metadata": {},
     "output_type": "display_data"
    }
   ],
   "source": [
    "analyze_head_chains(model, get_head2scores(node));"
   ]
  },
  {
   "cell_type": "code",
   "execution_count": null,
   "id": "b752617c",
   "metadata": {},
   "outputs": [],
   "source": [
    "key = 'MlM_gen(persons.EqSet.equal, en2fr.TreeSet.parent) (cxt_len=2, abstract=0)'; result = results[key]\n",
    "node, data_tuples = show_result(result, topk=15)"
   ]
  },
  {
   "cell_type": "code",
   "execution_count": null,
   "id": "46e9bc7a",
   "metadata": {},
   "outputs": [],
   "source": [
    "plot_attn_attrs(data_tuples, model, tokenizer, node, topi=[0,1,2], k_shot=k_shot)"
   ]
  },
  {
   "cell_type": "code",
   "execution_count": 202,
   "id": "697be2f3",
   "metadata": {},
   "outputs": [
    {
     "name": "stdout",
     "output_type": "stream",
     "text": [
      "MlM_gen(persons.EqSet.equal, en2fr.TreeSet.parent) (cxt_len=2, abstract=0)\n",
      "parent has not been attributed yet, replace it instead of adding to it.\n",
      "                 ┌[0] top[1, 2] 16-15,21-14 argmax_attn_labels┐\n",
      "                 │                                            └[1] top[0, 1] 8-1,12-10┐\n",
      "                 │                                                                    └*[2] top[0, 1, 2] 6-10,5-12,8-7...\n",
      " [-1] root labels┤\n",
      "                 └[0] top[0] 20-5 argmax_attn_labels┐\n",
      "                                                    └[1] top[0, 1] 12-10,8-1┐\n",
      "                                                                            └[2] top[0, 1, 2] 6-10,5-12,8-7\n"
     ]
    }
   ],
   "source": [
    "print(key); node = add_node_to_result(result, topi=[0,1,2], label_type='argmax_attn_labels')  # head_attr_fn=get_head_mlp_attr"
   ]
  },
  {
   "cell_type": "code",
   "execution_count": 207,
   "id": "b0b8bb95",
   "metadata": {},
   "outputs": [
    {
     "name": "stdout",
     "output_type": "stream",
     "text": [
      "[[(5, 12, -1.402), (8, 7, -0.846)], [(12, 10, -2.067), (8, 1, -1.974)], [(20, 5, -1.164)]]\n"
     ]
    },
    {
     "data": {
      "image/png": "[encoded data removed]",
      "text/plain": [
       "<Figure size 640x480 with 1 Axes>"
      ]
     },
     "metadata": {},
     "output_type": "display_data"
    },
    {
     "data": {
      "text/plain": [
       "[(((5, 12), (12, 10), (20, 5)), -0.42940863966941833, 0.23799992),\n",
       " (((5, 12), (8, 1), (20, 5)), -0.4207330048084259, 0.23799992),\n",
       " (((8, 7), (12, 10), (20, 5)), 0.9564396142959595, -0.31800002)]"
      ]
     },
     "execution_count": 207,
     "metadata": {},
     "output_type": "execute_result"
    }
   ],
   "source": [
    "analyze_head_chains(model, get_head2scores(result.root.children[1].children[0].children[0]))"
   ]
  },
  {
   "cell_type": "markdown",
   "id": "68713987",
   "metadata": {},
   "source": [
    "### did->does"
   ]
  },
  {
   "cell_type": "code",
   "execution_count": 20,
   "id": "a83926d2",
   "metadata": {},
   "outputs": [
    {
     "name": "stdout",
     "output_type": "stream",
     "text": [
      "MlM_gen(persons.EqSet.equal, does2did.TreeSet.equal) (cxt_len=2, abstract=0): 0.613, 0.65625\n",
      "MlM_gen(persons.EqSet.equal, does2did.TreeSet.equal) (cxt_len=2, abstract=1): 0.650, 0.53125\n",
      "MlM_gen(persons.EqSet.equal, does2did.TreeSet.parent) (cxt_len=1, abstract=0): 0.056, 0.8125\n",
      "MlM_gen(persons.EqSet.equal, does2did.TreeSet.parent) (cxt_len=1, abstract=1): 0.596, 0.5625\n",
      "MlM_gen(persons.EqSet.equal, does2did.TreeSet.parent) (cxt_len=2, abstract=0): 1.258, 0.53125\n",
      "MlM_gen(persons.EqSet.equal, does2did.TreeSet.parent) (cxt_len=2, abstract=1): 1.894, 0.5\n"
     ]
    }
   ],
   "source": [
    "for key, result in results.items(): print(f\"{key}: {result.mean_loss:.3f}, {result.mean_acc}\")"
   ]
  },
  {
   "cell_type": "code",
   "execution_count": null,
   "id": "d38f701b",
   "metadata": {},
   "outputs": [],
   "source": [
    "key = 'MlM_gen(persons.EqSet.equal, does2did.TreeSet.parent) (cxt_len=1, abstract=0)'; result = results[key]\n",
    "node, data_tuples = show_result(result, topk=15)"
   ]
  },
  {
   "cell_type": "code",
   "execution_count": null,
   "id": "0b511c94",
   "metadata": {},
   "outputs": [],
   "source": [
    "plot_attn_attrs(data_tuples[:4], model, tokenizer, node.parent.parent.parent, topi=[0,1], head_attr_fn=get_head_mlp_attr, mix=True)"
   ]
  },
  {
   "cell_type": "code",
   "execution_count": null,
   "id": "5fb9f0c1",
   "metadata": {},
   "outputs": [],
   "source": [
    "for text, input_ids, labels, ranges, *args, o in data_tuples:\n",
    "    show_predictions(tokenizer, *args, logits=o.logits, labels=labels, k_shot=k_shot, topk=3)[0]"
   ]
  },
  {
   "cell_type": "code",
   "execution_count": null,
   "id": "9790bcc9",
   "metadata": {},
   "outputs": [],
   "source": [
    "result.node = result.node.parent.parent.parent\n",
    "result.node = result.root"
   ]
  },
  {
   "cell_type": "code",
   "execution_count": 80,
   "id": "657592c8",
   "metadata": {},
   "outputs": [
    {
     "name": "stdout",
     "output_type": "stream",
     "text": [
      "MlM_gen(persons.EqSet.equal, does2did.TreeSet.parent) (cxt_len=1, abstract=0)\n",
      "                 ┌[0] top3 21-16 labels┐\n",
      "                 │                     └[1] top[0, 1, 2, 3, 4, 5] 19-16,8-16,13-13,17-16,7-16,6-16\n",
      "                 ├[0] top[0] 17-9 attn_labels┐\n",
      "                 │                           └[1] top[0, 1, 2] 12-10,8-1,13-13┐\n",
      "                 │                                                            └[2] top[0] 6-10\n",
      " [-1] root labels┤\n",
      "                 │                     ┌[1] top[0, 1, 2, 3, 4, 5] 18-16,13-13,14-7,16-16,12-10,17-16\n",
      "                 ├[0] top0 19-16 labels┤\n",
      "                 │                     └[1] top0 18-16┐\n",
      "                 │                                    └[2] top0 17-16┐\n",
      "                 │                                                   └[3] top[0, 1] 16-16,15-16\n",
      "                 └[0] top[1] 14-7 attn_labels┐\n",
      "                                             └[1] top[0, 1] 8-1,12-10┐\n",
      "                                                                     └*[2] top[1, 0, 2, 7] 6-10,0-16,3-11,3-12...\n"
     ]
    }
   ],
   "source": [
    "print(key); node = add_node_to_result(result, topi=[1,0,2,7], head_attr_fn=get_head_mlp_attr, label_type='attn_labels')  # head_attr_fn=get_head_mlp_attr"
   ]
  },
  {
   "cell_type": "code",
   "execution_count": null,
   "id": "bb091b94",
   "metadata": {
    "collapsed": true
   },
   "outputs": [],
   "source": [
    "for data_tuple in data_tuples:\n",
    "    plot_attn_attr(data_tuple, model, tokenizer, node, 17, 16, attn_patterns=None, k_shot=0, plot_attr=False)"
   ]
  },
  {
   "cell_type": "code",
   "execution_count": null,
   "id": "6a0c3bcd",
   "metadata": {
    "collapsed": true
   },
   "outputs": [],
   "source": [
    "interpret_circuit(model, tokenizer, result.task, node.parent, topi=[0,1,6,7,10])"
   ]
  },
  {
   "cell_type": "code",
   "execution_count": null,
   "id": "27296b00",
   "metadata": {
    "collapsed": true
   },
   "outputs": [],
   "source": [
    "plot_attn_attrs(data_tuples[:4], model, tokenizer, node, topi=[0, 1, 2], k_shot=k_shot)  # head_attr_fn=get_head_mlp_attr"
   ]
  },
  {
   "cell_type": "code",
   "execution_count": null,
   "id": "c0185b90",
   "metadata": {},
   "outputs": [],
   "source": [
    "key = 'MlM_gen(persons.EqSet.equal, does2did.TreeSet.equal) (cxt_len=2, abstract=0)'; result = results[key]\n",
    "node, data_tuples = show_result(result, topk=10)"
   ]
  },
  {
   "cell_type": "code",
   "execution_count": null,
   "id": "24e7c66e",
   "metadata": {
    "collapsed": true
   },
   "outputs": [],
   "source": [
    "plot_attn_attrs(data_tuples[:4], model, tokenizer, node, topi=[0, 7], head_attr_fn=get_head_mlp_attr)"
   ]
  },
  {
   "cell_type": "code",
   "execution_count": 89,
   "id": "6460cf49",
   "metadata": {},
   "outputs": [
    {
     "name": "stdout",
     "output_type": "stream",
     "text": [
      "MlM_gen(persons.EqSet.equal, does2did.TreeSet.equal) (cxt_len=2, abstract=0)\n",
      " [-1] root labels┐\n",
      "                 └[0] top[0] 16-7 attn_labels┐\n",
      "                                             └[1] top[0, 1, 2, 3, 4] 9-14,13-13,15-5,8-1,12-10┐\n",
      "                                                                                              └*[2] top[0, 1, 2, 3] 6-10,1-7,3-12,6-2...\n"
     ]
    }
   ],
   "source": [
    "print(key); node = add_node_to_result(result, topi=[0,1,2,3])"
   ]
  },
  {
   "cell_type": "code",
   "execution_count": 93,
   "id": "b3de5818",
   "metadata": {},
   "outputs": [
    {
     "name": "stdout",
     "output_type": "stream",
     "text": [
      "[[(6, 2, -0.6)], [(9, 14, -2.579), (13, 13, -2.123), (15, 5, -2.675), (8, 1, -1.939), (12, 10, -2.034)], [(16, 7, -1.086)]]\n"
     ]
    },
    {
     "data": {
      "image/png": "[encoded data removed]",
      "text/plain": [
       "<Figure size 640x480 with 1 Axes>"
      ]
     },
     "metadata": {},
     "output_type": "display_data"
    }
   ],
   "source": [
    "analyze_head_chains(model, get_head2scores(node));"
   ]
  },
  {
   "cell_type": "code",
   "execution_count": null,
   "id": "a01df267",
   "metadata": {
    "scrolled": false
   },
   "outputs": [],
   "source": [
    "key = 'MlM_gen(persons.EqSet.equal, does2did.TreeSet.parent) (cxt_len=2, abstract=0)'; result = results[key]\n",
    "node, data_tuples = show_result(result, topk=15)"
   ]
  },
  {
   "cell_type": "code",
   "execution_count": 107,
   "id": "b619a4dd",
   "metadata": {},
   "outputs": [
    {
     "name": "stdout",
     "output_type": "stream",
     "text": [
      "MlM_gen(persons.EqSet.equal, does2did.TreeSet.parent) (cxt_len=2, abstract=0)\n",
      "                 ┌[0] top2 19-16 labels┐\n",
      "                 │                     └[1] top[0, 1, 2, 3, 4, 5, 6] 13-13,18-16,0-16,17-16,16-16,13-7,12-10\n",
      " [-1] root labels┤\n",
      "                 └[0] top[0] 16-7 attn_labels┐\n",
      "                                             └[1] top[0, 1, 2, 3, 4] 9-14,8-1,13-13,15-5,12-10┐\n",
      "                                                                                              └*[2] top[0, 1, 2, 3] 6-10,1-7,3-12,6-2...\n"
     ]
    }
   ],
   "source": [
    "print(key); node = add_node_to_result(result, topi=[0,1,2,3], label_type='attn_labels')  # head_attr_fn=get_head_mlp_attr, "
   ]
  },
  {
   "cell_type": "markdown",
   "id": "5a102409",
   "metadata": {},
   "source": [
    "### thing->capability"
   ]
  },
  {
   "cell_type": "code",
   "execution_count": 1067,
   "id": "2eb25f94",
   "metadata": {},
   "outputs": [
    {
     "name": "stdout",
     "output_type": "stream",
     "text": [
      "MlM_gen(persons.EqSet.equal, capabilities_of_things.TreeSet.equal) (cxt_len=2, abstract=0): 0.536, 0.71875\n",
      "MlM_gen(persons.EqSet.equal, capabilities_of_things.TreeSet.equal) (cxt_len=2, abstract=1): 1.068, 0.375\n",
      "MlM_gen(persons.EqSet.equal, capabilities_of_things.TreeSet.parent) (cxt_len=1, abstract=0): 0.434, 0.9375\n",
      "MlM_gen(persons.EqSet.equal, capabilities_of_things.TreeSet.parent) (cxt_len=1, abstract=1): 0.939, 0.59375\n",
      "MlM_gen(persons.EqSet.equal, capabilities_of_things.TreeSet.parent) (cxt_len=2, abstract=0): 2.783, 0.375\n",
      "MlM_gen(persons.EqSet.equal, capabilities_of_things.TreeSet.parent) (cxt_len=2, abstract=1): 2.983, 0.3125\n"
     ]
    }
   ],
   "source": [
    "for key, result in results.items(): print(f\"{key}: {result.mean_loss:.3f}, {result.mean_acc}\")"
   ]
  },
  {
   "cell_type": "code",
   "execution_count": null,
   "id": "d4d207a4",
   "metadata": {},
   "outputs": [],
   "source": [
    "key = 'MlM_gen(persons.EqSet.equal, capabilities_of_things.TreeSet.parent) (cxt_len=1, abstract=0)'; result = results[key]\n",
    "node, data_tuples = show_result(result)"
   ]
  },
  {
   "cell_type": "code",
   "execution_count": null,
   "id": "689b07c3",
   "metadata": {},
   "outputs": [],
   "source": [
    "interpret_circuit(model, tokenizer, result.task, node, topi=[0, 1, 2])"
   ]
  },
  {
   "cell_type": "code",
   "execution_count": null,
   "id": "3e8d310a",
   "metadata": {},
   "outputs": [],
   "source": [
    "interpret_circuit(model, tokenizer, result.task, node, topi=[0, 1])"
   ]
  },
  {
   "cell_type": "code",
   "execution_count": 964,
   "id": "f0541f9e",
   "metadata": {},
   "outputs": [
    {
     "name": "stdout",
     "output_type": "stream",
     "text": [
      "MlM_gen(persons.EqSet.equal, capabilities_of_things.TreeSet.parent) (cxt_len=1, abstract=0)\n",
      "                 ┌[0] top[0] 13-15 attn_labels┐\n",
      "                 │                            └[1] top[0, 1] 8-1,12-10┐\n",
      "                 │                                                    └[2] top[0, 1] 5-12,6-5\n",
      " [-1] root labels┤\n",
      "                 └[0] top[3] 21-14 attn_labels┐\n",
      "                                              └[1] top[0, 1] 8-1,12-10┐\n",
      "                                                                      └*[2] top[0, 1] 3-12,5-12...\n"
     ]
    }
   ],
   "source": [
    "print(key); node = add_node_to_result(result, topi=[0,1])"
   ]
  },
  {
   "cell_type": "code",
   "execution_count": null,
   "id": "759696a5",
   "metadata": {},
   "outputs": [],
   "source": [
    "key = 'MlM_gen(persons.EqSet.equal, capabilities_of_things.TreeSet.equal) (cxt_len=2, abstract=0)'; result = results[key]\n",
    "node, data_tuples = show_result(result)"
   ]
  },
  {
   "cell_type": "code",
   "execution_count": 1062,
   "id": "6fc85adc",
   "metadata": {},
   "outputs": [
    {
     "name": "stdout",
     "output_type": "stream",
     "text": [
      "MlM_gen(persons.EqSet.equal, capabilities_of_things.TreeSet.equal) (cxt_len=2, abstract=0)\n",
      " [-1] root labels┐\n",
      "                 └[0] top[0] 16-7 attn_labels┐\n",
      "                                             └[1] top[0, 1] 9-14,12-10┐\n",
      "                                                                      └*[2] top[2, 1, 3, 0] 8-7,1-7,6-10,3-12...\n"
     ]
    }
   ],
   "source": [
    "print(key); node = add_node_to_result(result, topi=[2,1,3,0])"
   ]
  },
  {
   "cell_type": "code",
   "execution_count": 1063,
   "id": "bd405a88",
   "metadata": {},
   "outputs": [
    {
     "name": "stdout",
     "output_type": "stream",
     "text": [
      "[[(8, 7, -0.282)], [(9, 14, -2.228), (12, 10, -2.236)], [(16, 7, -1.271)]]\n"
     ]
    },
    {
     "data": {
      "image/png": "[encoded data removed]",
      "text/plain": [
       "<Figure size 640x480 with 1 Axes>"
      ]
     },
     "metadata": {},
     "output_type": "display_data"
    }
   ],
   "source": [
    "analyze_head_chains(model, get_head2scores(node));"
   ]
  },
  {
   "cell_type": "code",
   "execution_count": null,
   "id": "8615ea4e",
   "metadata": {},
   "outputs": [],
   "source": [
    "key = 'MlM_gen(persons.EqSet.equal, capabilities_of_things.TreeSet.parent) (cxt_len=2, abstract=0)'; result = results[key]\n",
    "node, data_tuples = show_result(result)"
   ]
  },
  {
   "cell_type": "code",
   "execution_count": 988,
   "id": "b4f2e785",
   "metadata": {
    "collapsed": true
   },
   "outputs": [
    {
     "name": "stdout",
     "output_type": "stream",
     "text": [
      "*Ġplay 0.133 {'Ġplay': 0.133, 'Ġshoot': 0.058, 'âĢ': 0.057} \t Justice has a piano. Chance has a gun. Justice can play\n",
      "*Ġbake 0.241 {'Ġbake': 0.241, 'Ġfly': 0.136, 'Ġcook': 0.128} \t Tyler has an oven. London has a plane. Tyler can bake\n",
      " Ġfly 0.04 {'Ġprint': 0.727, 'Ġtype': 0.046, 'Ġfly': 0.04} \t India has a printer. Eva has a glider. Eva can fly\n",
      "*Ġwash 0.606 {'Ġwash': 0.606, 'Ġdry': 0.074, 'Ġclean': 0.062} \t Jamie has a phone. Dream has washing machine. Dream can wash\n",
      " Ġstab 0.219 {'Ġopen': 0.324, 'Ġstab': 0.219, 'Ġcut': 0.21} \t Angel has an opener. Laura has a dagger. Laura can stab\n",
      " Ġwatch 0.0 {'Ġstab': 0.975, 'Ġkill': 0.005, 'Ġcut': 0.002} \t Anna has a TV. Michael has a dagger. Anna can watch\n",
      " Ġcut 0.077 {'Ġcook': 0.286, 'Ġsaw': 0.119, 'Ġchop': 0.082} \t King has a saw. Amy has a pot. King can cut\n",
      " Ġcook 0.075 {'Ġdrive': 0.37, 'Ġcook': 0.075, 'Ġfix': 0.045} \t Georgia has a pot. Thomas has a car. Georgia can cook\n",
      "3.0769495964050293\n",
      " Ġchop 0.063 {\"'t\": 0.073, 'âĢ': 0.069, 'Ġchop': 0.063} \t Cash has an oven. Alexander has an axe. Alexander can chop\n",
      " Ġstab 0.007 {'Ġdig': 0.667, 'Ġchop': 0.045, 'Ġshovel': 0.039} \t Sky has a dagger. Jordan has a shovel. Sky can stab\n",
      "*Ġdig 0.331 {'Ġdig': 0.331, 'Ġstab': 0.294, 'Ġshovel': 0.076} \t Christopher has a lamp. Larry has a shovel. Larry can dig\n",
      " Ġadd 0.002 {'Ġshoot': 0.719, 'Ġkill': 0.031, 'Ġfire': 0.029} \t Eva has a calculator. Michael has a gun. Eva can add\n",
      "*Ġcall 0.45 {'Ġcall': 0.45, 'Ġdial': 0.244, 'Ġmake': 0.066} \t Ruby has a calculator. Paul has a phone. Paul can call\n",
      "*Ġdig 0.864 {'Ġdig': 0.864, 'Ġshovel': 0.022, 'Ġchop': 0.02} \t Anna has a pot. Hunter has a shovel. Hunter can dig\n",
      " Ġopen 0.003 {'Ġchop': 0.885, 'Ġcut': 0.036, 'Ġhack': 0.011} \t Bruce has an opener. Jessica has an axe. Bruce can open\n",
      "*Ġbake 0.818 {'Ġbake': 0.818, 'Ġcook': 0.13, 'Ġopen': 0.01} \t Jake has a saw. Sarah has an oven. Sarah can bake\n",
      "2.675234317779541\n",
      " Ġride 0.116 {\"'t\": 0.127, 'Ġride': 0.116, 'âĢ': 0.061} \t Lewis has a lamp. Elsa has a bicycle. Elsa can ride\n",
      "*Ġwash 0.533 {'Ġwash': 0.533, 'Ċ': 0.07, 'Ġuse': 0.068} \t Roger has a plane. Anne has washing machine. Anne can wash\n",
      "*Ġcook 0.456 {'Ġcook': 0.456, 'Ġboil': 0.165, 'Ġmake': 0.094} \t Rachel has washing machine. Dallas has a pot. Dallas can cook\n",
      " Ġadd 0.0 {'Ġfly': 0.821, 'Ġride': 0.051, 'Ġtake': 0.009} \t Angel has a calculator. Kate has a plane. Angel can add\n",
      " Ġwatch 0.027 {'Ġcook': 0.333, 'Ġboil': 0.112, 'Ġadd': 0.076} \t Amy has a TV. Anne has a pot. Amy can watch\n",
      " Ġstab 0.171 {'Ġcut': 0.216, 'Ġstab': 0.171, 'Ġkill': 0.11} \t Tony has washing machine. Gary has a dagger. Gary can stab\n",
      "*Ġdig 0.926 {'Ġdig': 0.926, 'Ġshovel': 0.031, 'Ġbury': 0.007} \t Ruby has a knife. Hunter has a shovel. Hunter can dig\n",
      "*Ġopen 0.488 {'Ġopen': 0.488, 'Ġwash': 0.182, 'Ġuse': 0.077} \t Sky has an opener. Victoria has washing machine. Sky can open\n",
      "3.071582078933716\n",
      " Ġfly 0.079 {\"'t\": 0.15, 'Ġfly': 0.079, 'âĢ': 0.046} \t Bo has a glider. Carl has an axe. Bo can fly\n",
      " Ġwrite 0.026 {'Ġfly': 0.588, \"'t\": 0.058, 'Ġdraw': 0.035} \t Christopher has a piano. Morgan has a pencil. Morgan can write\n",
      " Ġwatch 0.002 {'Ġwrite': 0.669, 'Ġdraw': 0.119, \"'t\": 0.039} \t August has a TV. Ruby has a pencil. August can watch\n",
      " Ġopen 0.009 {'Ġplay': 0.662, 'Ġlisten': 0.061, 'Ġhear': 0.047} \t Ryan has an opener. Robin has a violin. Ryan can open\n",
      " Ġprint 0.223 {'Ġopen': 0.437, 'Ġprint': 0.223, 'Ġwatch': 0.117} \t Collins has a printer. Winter has an opener. Collins can print\n",
      " Ġshoot 0.022 {'Ġopen': 0.696, 'Ġprint': 0.164, 'Ġwatch': 0.048} \t Maria has a gun. Ray has a printer. Maria can shoot\n",
      " Ġdrive 0.318 {'Ġwatch': 0.447, 'Ġdrive': 0.318, 'Ġopen': 0.023} \t Joy has a TV. Mary has a car. Mary can drive\n",
      "*Ġshoot 0.696 {'Ġshoot': 0.696, 'Ġopen': 0.072, 'Ġkill': 0.032} \t Warren has a gun. Alexander has an axe. Warren can shoot\n",
      "2.308245897293091\n"
     ]
    }
   ],
   "source": [
    "for text, input_ids, labels, ranges, *args, o in data_tuples:\n",
    "    loss, top1_corrects, answer_probs, candidate_probs = show_predictions(\n",
    "        tokenizer, *args, logits=o.logits, labels=labels, loss_reduction='mean',\n",
    "        candidates=None, k_shot=k_shot, topk=3, verbose=True)\n",
    "    print(loss)"
   ]
  },
  {
   "cell_type": "code",
   "execution_count": null,
   "id": "854622df",
   "metadata": {},
   "outputs": [],
   "source": [
    "plot_attn_attrs(data_tuples[:4], model, tokenizer, node.parent.parent.parent, topi=[0], k_shot=k_shot)"
   ]
  },
  {
   "cell_type": "code",
   "execution_count": null,
   "id": "4126b548",
   "metadata": {
    "collapsed": true
   },
   "outputs": [],
   "source": [
    "plot_attn_attrs(data_tuples[:4], model, tokenizer, node, topi=[0, 1, 2, 3], k_shot=k_shot, plot_attr=False)"
   ]
  },
  {
   "cell_type": "code",
   "execution_count": 1047,
   "id": "99d60291",
   "metadata": {},
   "outputs": [
    {
     "name": "stdout",
     "output_type": "stream",
     "text": [
      "MlM_gen(persons.EqSet.equal, capabilities_of_things.TreeSet.parent) (cxt_len=2, abstract=0)\n",
      "parent has not been attributed yet, replace it instead of adding to it.\n",
      "                 ┌[0] top[1] 21-14 argmax_attn_labels┐\n",
      "                 │                                   └[1] top[0, 1] 8-1,12-10┐\n",
      "                 │                                                           └*[2] top[1, 2, 0] 5-12,1-7,3-12...\n",
      " [-1] root labels┤\n",
      "                 └[0] top[0] 13-15 argmax_attn_labels┐\n",
      "                                                     └[1] top[0, 1] 8-1,12-10┐\n",
      "                                                                             └[2] top[2, 3, 1, 0] 6-5,3-7,5-12,3-12\n"
     ]
    }
   ],
   "source": [
    "print(key); node = add_node_to_result(result, topi=[1,2,0], label_type='argmax_attn_labels')"
   ]
  },
  {
   "cell_type": "markdown",
   "id": "a04c9c89",
   "metadata": {},
   "source": [
    "### capital->country"
   ]
  },
  {
   "cell_type": "code",
   "execution_count": 470,
   "id": "87f5c5e1",
   "metadata": {},
   "outputs": [
    {
     "name": "stdout",
     "output_type": "stream",
     "text": [
      "MlM_gen(persons.EqSet.equal, country2capital.TreeSet.equal) (cxt_len=1, abstract=0): 0.068, 0.8125\n",
      "MlM_gen(persons.EqSet.equal, country2capital.TreeSet.equal) (cxt_len=1, abstract=1): 0.111, 0.84375\n",
      "MlM_gen(persons.EqSet.equal, country2capital.TreeSet.equal) (cxt_len=2, abstract=0): 0.866, 0.65625\n",
      "MlM_gen(persons.EqSet.equal, country2capital.TreeSet.equal) (cxt_len=2, abstract=1): 1.251, 0.5\n",
      "MlM_gen(persons.EqSet.equal, country2capital.TreeSet.parent) (cxt_len=1, abstract=0): 0.093, 0.84375\n",
      "MlM_gen(persons.EqSet.equal, country2capital.TreeSet.parent) (cxt_len=1, abstract=1): 0.119, 0.8125\n",
      "MlM_gen(persons.EqSet.equal, country2capital.TreeSet.parent) (cxt_len=2, abstract=0): 1.386, 0.4375\n",
      "MlM_gen(persons.EqSet.equal, country2capital.TreeSet.parent) (cxt_len=2, abstract=1): 2.561, 0.4375\n"
     ]
    }
   ],
   "source": [
    "for key, result in results.items(): print(f\"{key}: {result.mean_loss:.3f}, {result.mean_acc}\")"
   ]
  },
  {
   "cell_type": "code",
   "execution_count": null,
   "id": "5bb37da5",
   "metadata": {},
   "outputs": [],
   "source": [
    "key = 'MlM_gen(persons.EqSet.equal, country2capital.TreeSet.parent) (cxt_len=1, abstract=0)'; result = results[key]\n",
    "node, data_tuples = show_result(result)"
   ]
  },
  {
   "cell_type": "code",
   "execution_count": 843,
   "id": "55ffef5f",
   "metadata": {
    "collapsed": true
   },
   "outputs": [
    {
     "name": "stdout",
     "output_type": "stream",
     "text": [
      "16 0\n",
      "(0.9464224576950073, 0.9693313837051392)\n",
      "Berlin->['Germany'] {'ĠBerlin': 34, 'ĠFriedrich': 22, 'ĠGermany': 19, 'ĠReich': 19, 'ĠGerman': 19}\n",
      "Cairo->['Egypt'] {'ĠCairo': 40, 'Egypt': 39, 'ĠEgypt': 39, 'ĠEgyptian': 38, 'ĠEgyptians': 37}\n",
      "Ankara->['Turkey'] {'ĠAnkara': 42, 'ĠTurkish': 38, 'ĠErdogan': 37, 'ĠTurkey': 36, 'Turkish': 35}\n",
      "Athens->['Greece'] {'ĠAthens': 42, 'ĠAthen': 33, 'ĠAthena': 30, 'ĠGreece': 30, 'ĠGreek': 29}\n",
      "London->['England'] {'ĠLondon': 26, 'London': 26, 'ĠNotting': 25, 'ĠThames': 24, 'ĠBarcl': 19}\n",
      "Manila->['the Philippines'] {'ĠManila': 34, 'ĠFilipino': 31, 'ĠPhilippines': 31, 'ĠPhilippine': 29, 'ĠFilip': 27}\n",
      "Ottawa->['Canada'] {'ĠOttawa': 36, 'Ott': 26, 'ĠCanadians': 24, 'ĠCanadian': 24, 'ĠQuebec': 22}\n",
      "Bern->['Switzerland'] {'Bern': 30, 'ĠBernstein': 30, 'ĠBern': 25, 'bern': 24, 'ĠBernard': 21}\n",
      "Seoul->['South Korea'] {'ĠSeoul': 39, 'ĠKoreans': 36, 'ĠKorean': 36, 'ĠKorea': 33, 'ĠYong': 29}\n",
      "Lisbon->['Portugal'] {'ĠLisbon': 40, 'ĠPortuguese': 38, 'ĠPortugal': 37, 'ĠPortug': 32, 'ĠLis': 20}\n",
      "Rome->['Italy'] {'ĠRome': 34, 'ĠRoma': 29, 'ĠRomans': 26, 'ĠItaly': 25, 'ĠItalian': 24}\n",
      "Canberra->['Australia'] {'ĠCanberra': 33, 'ĠACT': 22, 'ĠAustralian': 22, 'ĠAustralia': 22, 'ĠAustralians': 19}\n",
      "Bangkok->['Thailand'] {'ĠBangkok': 39, 'ĠThailand': 33, 'ĠThai': 30, 'Bang': 24, 'ĠBuddha': 21}\n",
      "Beijing->['China'] {'ĠBeijing': 35, 'ĠChinese': 29, 'ĠTian': 28, 'China': 28, 'ĠChina': 28}\n",
      "Tokyo->['Japan'] {'ĠTokyo': 35, 'Tok': 31, 'ĠJapanese': 30, 'ĠJapan': 30, 'Japan': 28}\n",
      "Paris->['France'] {'ĠParis': 33, 'Paris': 31, 'ĠFrance': 29, 'ĠFrench': 28, 'France': 26}\n",
      "Madrid->['Spain'] {'ĠMadrid': 38, 'ĠSpain': 31, 'ĠSpani': 30, 'ĠSpanish': 30, 'Spanish': 28}\n",
      "Moscow->['Russia'] {'ĠMoscow': 42, 'ĠRussians': 37, 'Moscow': 37, 'ĠKremlin': 37, 'ĠRussian': 36}\n",
      "12 7\n",
      "(0.9013831615447998, 0.9577867388725281)\n",
      "Berlin->['Germany'] {'ĠBerlin': 29, 'Germany': 22, 'German': 20, 'ĠGermany': 20, 'ĠGermans': 19}\n",
      "Cairo->['Egypt'] {'ĠEgypt': 35, 'ĠCairo': 34, 'ĠEgyptian': 34, 'Egypt': 33, 'ĠEgyptians': 31}\n",
      "Ankara->['Turkey'] {'ĠTurkish': 29, 'ĠAnkara': 29, 'Turkish': 27, 'ĠErdogan': 27, 'ĠIstanbul': 27}\n",
      "Athens->['Greece'] {'ĠAthens': 32, 'ĠAthen': 29, 'ĠGreece': 28, 'ĠGreeks': 27, 'ĠGreek': 26}\n",
      "London->['England'] {'London': 30, 'ĠLondon': 29, 'ĠBritain': 25, 'UK': 25, 'ĠÂ£': 25}\n",
      "Manila->['the Philippines'] {'ĠManila': 33, 'ĠFilipino': 32, 'ĠPhilippine': 31, 'ĠPhilippines': 30, 'ĠFilip': 28}\n",
      "Ottawa->['Canada'] {'ĠOttawa': 39, 'ĠCanadians': 36, 'ĠCanadian': 34, 'Canada': 34, 'ĠCanada': 34}\n",
      "Bern->['Switzerland'] {'ĠSwiss': 15, 'ĠSwitzerland': 15, 'Ġsignalling': 14, 'Ġlabou': 13, 'Ġneighbouring': 13}\n",
      "Seoul->['South Korea'] {'ĠKorea': 37, 'ĠKorean': 36, 'ĠSeoul': 36, 'ĠKoreans': 35, 'ĠYong': 28}\n",
      "Lisbon->['Portugal'] {'ĠLisbon': 35, 'ĠPortugal': 35, 'ĠPortuguese': 34, 'ĠPortug': 32, 'Brazil': 22}\n",
      "Rome->['Italy'] {'ĠRome': 27, 'ĠItaly': 24, 'ĠItalians': 23, 'Italy': 22, 'ĠItalian': 21}\n",
      "Canberra->['Australia'] {'ĠCanberra': 37, 'ĠAustralia': 35, 'ĠAustralian': 33, 'Australian': 32, 'ĠAustralians': 31}\n",
      "Bangkok->['Thailand'] {'ĠBangkok': 38, 'ĠThailand': 35, 'ĠThai': 33, 'Asia': 24, 'ĠCambodia': 23}\n",
      "Beijing->['China'] {'ĠBeijing': 34, 'ĠChinese': 30, 'China': 30, 'Chinese': 30, 'ĠChina': 29}\n",
      "Tokyo->['Japan'] {'Japan': 39, 'ĠJapan': 39, 'ĠJapanese': 37, 'Japanese': 37, 'ĠTokyo': 36}\n",
      "Paris->['France'] {'Paris': 31, 'ĠParis': 31, 'ĠFrance': 30, 'France': 29, 'ĠFranÃ§': 28}\n",
      "Madrid->['Spain'] {'ĠSpain': 35, 'ĠMadrid': 33, 'Spain': 32, 'Spanish': 31, 'ĠSpanish': 31}\n",
      "Moscow->['Russia'] {'ĠMoscow': 32, 'Moscow': 31, 'Russian': 29, 'ĠRussian': 29, 'ĠRussia': 29}\n",
      "19 12\n",
      "(0.935795247554779, 0.9572104811668396)\n",
      "Berlin->['Germany'] {'ĠGerman': 45, 'ĠBerlin': 45, 'ĠGermans': 44, 'German': 44, 'ĠGermany': 41}\n",
      "Cairo->['Egypt'] {'ĠCairo': 41, 'ĠEgyptian': 38, 'ĠEgypt': 38, 'Egypt': 37, 'ĠEgyptians': 34}\n",
      "Ankara->['Turkey'] {'ĠTurkish': 42, 'Turkish': 41, 'ĠTurkey': 40, 'Turkey': 39, 'ĠAnkara': 39}\n",
      "Athens->['Greece'] {'ĠAthens': 48, 'ĠGreek': 46, 'ĠGreece': 46, 'Greek': 45, 'ĠGreeks': 44}\n",
      "London->['England'] {'ĠLondon': 45, 'London': 42, 'ĠBritish': 40, 'ĠEngland': 38, 'ĠBritain': 37}\n",
      "Manila->['the Philippines'] {'ĠPhilippines': 38, 'ĠPhilippine': 36, 'ĠFilipino': 35, 'ĠManila': 35, 'ĠFilip': 33}\n",
      "Ottawa->['Canada'] {'ĠOttawa': 39, 'Ott': 34, 'ĠCanada': 33, 'Canada': 32, 'ĠCanadians': 32}\n",
      "Bern->['Switzerland'] {'ĠBern': 31, 'Bern': 31, 'ĠSwitzerland': 29, 'ĠBernard': 26, 'ĠSwiss': 26}\n",
      "Seoul->['South Korea'] {'ĠKorean': 45, 'ĠKoreans': 43, 'ĠKorea': 43, 'ĠSeoul': 43, 'South': 29}\n",
      "Lisbon->['Portugal'] {'ĠPortugal': 46, 'ĠPortuguese': 45, 'ĠLisbon': 43, 'ĠPortug': 37, 'ĠLis': 30}\n",
      "Rome->['Italy'] {'ĠRoman': 45, 'ĠRome': 44, 'Roman': 39, 'ĠRomans': 39, 'ĠRoma': 37}\n",
      "Canberra->['Australia'] {'ĠAustralia': 32, 'Australia': 30, 'ĠCanberra': 30, 'ĠAustralian': 29, 'ĠAustralians': 28}\n",
      "Bangkok->['Thailand'] {'ĠThailand': 44, 'ĠThai': 44, 'ĠBangkok': 42, 'ĠAsian': 27, 'ĠBuddhist': 25}\n",
      "Beijing->['China'] {'ĠChinese': 47, 'ĠBeijing': 44, 'ĠChina': 44, 'Chinese': 43, 'China': 42}\n",
      "Tokyo->['Japan'] {'ĠJapanese': 57, 'ĠJapan': 54, 'Japanese': 53, 'Japan': 52, 'ĠTokyo': 51}\n",
      "Paris->['France'] {'ĠFrench': 48, 'ĠFrance': 47, 'ĠParis': 47, 'Paris': 45, 'French': 45}\n",
      "Madrid->['Spain'] {'ĠSpain': 48, 'ĠMadrid': 47, 'Spain': 47, 'ĠSpanish': 46, 'Spanish': 44}\n",
      "Moscow->['Russia'] {'ĠRussian': 53, 'ĠRussians': 51, 'ĠMoscow': 50, 'Russian': 48, 'ĠRussia': 47}\n"
     ]
    }
   ],
   "source": [
    "interpret_circuit(model, tokenizer, result.task, node, topi=[0, 1, 2])"
   ]
  },
  {
   "cell_type": "code",
   "execution_count": 875,
   "id": "3dd05881",
   "metadata": {},
   "outputs": [
    {
     "name": "stdout",
     "output_type": "stream",
     "text": [
      "MlM_gen(persons.EqSet.equal, country2capital.TreeSet.parent) (cxt_len=1, abstract=0)\n",
      " [-1] root labels┐\n",
      "                 └[0] top[2] 19-12 attn_labels┐\n",
      "                                              └[1] top[0, 1, 2, 3] 13-13,8-1,12-10,11-0┐\n",
      "                                                                                       └*[2] top[0] 5-12...\n"
     ]
    }
   ],
   "source": [
    "print(key); node = add_node_to_result(result, topi=[0])"
   ]
  },
  {
   "cell_type": "code",
   "execution_count": null,
   "id": "28882636",
   "metadata": {},
   "outputs": [],
   "source": [
    "key = 'MlM_gen(persons.EqSet.equal, country2capital.TreeSet.equal) (cxt_len=2, abstract=0)'; result = results[key]\n",
    "node, data_tuples = show_result(result)"
   ]
  },
  {
   "cell_type": "code",
   "execution_count": 880,
   "id": "63db07d4",
   "metadata": {},
   "outputs": [
    {
     "name": "stdout",
     "output_type": "stream",
     "text": [
      "MlM_gen(persons.EqSet.equal, country2capital.TreeSet.equal) (cxt_len=2, abstract=0)\n",
      " [-1] root labels┐\n",
      "                 └[0] top[0, 1] 16-0,16-7 attn_labels┐\n",
      "                                                     └[1] top[0, 1, 2] 8-1,13-13,12-10┐\n",
      "                                                                                      └*[2] top[0, 1] 6-2,1-7...\n"
     ]
    }
   ],
   "source": [
    "print(key); node = add_node_to_result(result, topi=[0,1])"
   ]
  },
  {
   "cell_type": "code",
   "execution_count": null,
   "id": "060f0c84",
   "metadata": {},
   "outputs": [],
   "source": [
    "key = 'MlM_gen(persons.EqSet.equal, country2capital.TreeSet.parent) (cxt_len=2, abstract=0)'; result = results[key]\n",
    "node, data_tuples = show_result(result)"
   ]
  },
  {
   "cell_type": "code",
   "execution_count": 677,
   "id": "7a0cebe8",
   "metadata": {},
   "outputs": [
    {
     "name": "stdout",
     "output_type": "stream",
     "text": [
      "MlM_gen(persons.EqSet.equal, country2capital.TreeSet.parent) (cxt_len=2, abstract=0)\n",
      "                 ┌[0] top[0, 1, 3] 16-0,12-7,19-12 attn_labels┐\n",
      "                 │                                            └[1] top[0, 1, 2, 3, 4] 8-1,11-0,13-13,9-14,12-10┐\n",
      "                 │                                                                                             └[2] top[0, 1, 3] 5-12,3-12,1-7\n",
      " [-1] root labels┤\n",
      "                 └[0] top[0, 1, 3] 16-0,12-7,19-12 argmax_attn_labels┐\n",
      "                                                                     └[1] top[0, 1, 2, 3, 4] 8-1,11-0,13-13,9-14,12-10┐\n",
      "                                                                                                                      └*[2] top[0, 1, 2] 5-12,1-7,3-12...\n"
     ]
    }
   ],
   "source": [
    "print(key); node = add_node_to_result(result, topi=[0,1,2])#, label_type='argmax_attn_labels')"
   ]
  },
  {
   "cell_type": "markdown",
   "id": "8261a178",
   "metadata": {},
   "source": [
    "### person_adjs.opposite"
   ]
  },
  {
   "cell_type": "code",
   "execution_count": 343,
   "id": "d291a627",
   "metadata": {},
   "outputs": [
    {
     "name": "stdout",
     "output_type": "stream",
     "text": [
      "MlM_gen(persons.EqSet.equal, person_adjs.SymSet.equal) (cxt_len=1, abstract=0): 0.027, 0.9375\n",
      "MlM_gen(persons.EqSet.equal, person_adjs.SymSet.equal) (cxt_len=1, abstract=1): 0.102, 0.90625\n",
      "MlM_gen(persons.EqSet.equal, person_adjs.SymSet.equal) (cxt_len=2, abstract=0): 1.261, 0.5625\n",
      "MlM_gen(persons.EqSet.equal, person_adjs.SymSet.equal) (cxt_len=2, abstract=1): 1.538, 0.46875\n",
      "MlM_gen(persons.EqSet.equal, person_adjs.SymSet.opposite) (cxt_len=1, abstract=0): 0.451, 0.625\n",
      "MlM_gen(persons.EqSet.equal, person_adjs.SymSet.opposite) (cxt_len=1, abstract=1): 0.349, 0.75\n",
      "MlM_gen(persons.EqSet.equal, person_adjs.SymSet.opposite) (cxt_len=2, abstract=0): 3.566, 0.3125\n",
      "MlM_gen(persons.EqSet.equal, person_adjs.SymSet.opposite) (cxt_len=2, abstract=1): 3.773, 0.25\n"
     ]
    }
   ],
   "source": [
    "for key, result in results.items(): print(f\"{key}: {result.mean_loss:.3f}, {result.mean_acc}\")"
   ]
  },
  {
   "cell_type": "code",
   "execution_count": null,
   "id": "423b3633",
   "metadata": {
    "scrolled": true
   },
   "outputs": [],
   "source": [
    "key = 'MlM_gen(persons.EqSet.equal, person_adjs.SymSet.opposite) (cxt_len=1, abstract=0)'; result = results[key]\n",
    "node, data_tuples = show_result(result)"
   ]
  },
  {
   "cell_type": "code",
   "execution_count": 370,
   "id": "c8ebe210",
   "metadata": {},
   "outputs": [
    {
     "name": "stdout",
     "output_type": "stream",
     "text": [
      "MlM_gen(persons.EqSet.equal, person_adjs.SymSet.opposite) (cxt_len=1, abstract=0)\n",
      " [-1] root labels┐\n",
      "                 └[0] top[0] 16-14 attn_labels┐\n",
      "                                              └[1] top[0, 1] 8-1,12-10┐\n",
      "                                                                      └*[2] top[0] 7-9...\n"
     ]
    }
   ],
   "source": [
    "print(key); node = add_node_to_result(result, topi=[0])"
   ]
  },
  {
   "cell_type": "code",
   "execution_count": null,
   "id": "542c29d5",
   "metadata": {},
   "outputs": [],
   "source": [
    "key = 'MlM_gen(persons.EqSet.equal, person_adjs.SymSet.equal) (cxt_len=2, abstract=0)'; result = results[key]\n",
    "node, data_tuples = show_result(result)"
   ]
  },
  {
   "cell_type": "code",
   "execution_count": 385,
   "id": "34a0c127",
   "metadata": {},
   "outputs": [
    {
     "name": "stdout",
     "output_type": "stream",
     "text": [
      "MlM_gen(persons.EqSet.equal, person_adjs.SymSet.equal) (cxt_len=2, abstract=0)\n",
      " [-1] root labels┐\n",
      "                 └[0] top[0] 16-7 attn_labels┐\n",
      "                                             └[1] top[0, 1] 12-10,8-1┐\n",
      "                                                                     └*[2] top[0, 1, 2, 3, 4] 6-2,8-7,3-12,1-7,6-10...\n"
     ]
    }
   ],
   "source": [
    "print(key); node = add_node_to_result(result, topi=[0,1,2,3,4])"
   ]
  },
  {
   "cell_type": "code",
   "execution_count": null,
   "id": "66abd13c",
   "metadata": {},
   "outputs": [],
   "source": [
    "key = 'MlM_gen(persons.EqSet.equal, person_adjs.SymSet.opposite) (cxt_len=2, abstract=0)'; result = results[key]\n",
    "node, data_tuples = show_result(result)"
   ]
  },
  {
   "cell_type": "code",
   "execution_count": 412,
   "id": "b9a226df",
   "metadata": {},
   "outputs": [
    {
     "name": "stdout",
     "output_type": "stream",
     "text": [
      "MlM_gen(persons.EqSet.equal, person_adjs.SymSet.opposite) (cxt_len=2, abstract=0)\n",
      "                 ┌[0] top[0] 16-14 argmax_attn_labels┐\n",
      "                 │                                   └[1] top[0, 1] 8-1,12-10┐\n",
      "                 │                                                           └[2] top[0] 7-9\n",
      " [-1] root labels┤\n",
      "                 └[0] top[0] 16-14 attn_labels┐\n",
      "                                              └[1] top[0, 1] 8-1,12-10┐\n",
      "                                                                      └*[2] top[0] 7-9...\n"
     ]
    }
   ],
   "source": [
    "print(key); node = add_node_to_result(result, topi=[0,])#, label_type='attn_labels')"
   ]
  },
  {
   "cell_type": "markdown",
   "id": "51d8dd04",
   "metadata": {},
   "source": [
    "### thing->type"
   ]
  },
  {
   "cell_type": "code",
   "execution_count": 315,
   "id": "22d50e84",
   "metadata": {},
   "outputs": [
    {
     "name": "stdout",
     "output_type": "stream",
     "text": [
      "MlM_gen(persons.EqSet.equal, types_of_things.TreeSet.equal) (cxt_len=1, abstract=0): 0.032, 1.0\n",
      "MlM_gen(persons.EqSet.equal, types_of_things.TreeSet.equal) (cxt_len=1, abstract=1): 0.117, 0.90625\n",
      "MlM_gen(persons.EqSet.equal, types_of_things.TreeSet.equal) (cxt_len=2, abstract=0): 0.594, 0.65625\n",
      "MlM_gen(persons.EqSet.equal, types_of_things.TreeSet.equal) (cxt_len=2, abstract=1): 1.354, 0.53125\n",
      "MlM_gen(persons.EqSet.equal, types_of_things.TreeSet.parent) (cxt_len=1, abstract=0): 0.793, 0.625\n",
      "MlM_gen(persons.EqSet.equal, types_of_things.TreeSet.parent) (cxt_len=1, abstract=1): 0.286, 0.8125\n",
      "MlM_gen(persons.EqSet.equal, types_of_things.TreeSet.parent) (cxt_len=2, abstract=0): 2.174, 0.46875\n",
      "MlM_gen(persons.EqSet.equal, types_of_things.TreeSet.parent) (cxt_len=2, abstract=1): 1.824, 0.46875\n",
      "MlM_gen(persons.EqSet.equal, person_adjs.SymSet.equal) (cxt_len=1, abstract=0): 0.048, 0.875\n",
      "MlM_gen(persons.EqSet.equal, person_adjs.SymSet.equal) (cxt_len=1, abstract=1): 0.191, 0.90625\n",
      "MlM_gen(persons.EqSet.equal, person_adjs.SymSet.equal) (cxt_len=2, abstract=0): 1.170, 0.5\n",
      "MlM_gen(persons.EqSet.equal, person_adjs.SymSet.equal) (cxt_len=2, abstract=1): 1.368, 0.59375\n",
      "MlM_gen(persons.EqSet.equal, person_adjs.SymSet.opposite) (cxt_len=1, abstract=0): 0.434, 0.71875\n",
      "MlM_gen(persons.EqSet.equal, person_adjs.SymSet.opposite) (cxt_len=1, abstract=1): 0.816, 0.65625\n",
      "MlM_gen(persons.EqSet.equal, person_adjs.SymSet.opposite) (cxt_len=2, abstract=0): 2.772, 0.3125\n",
      "MlM_gen(persons.EqSet.equal, person_adjs.SymSet.opposite) (cxt_len=2, abstract=1): 2.973, 0.28125\n"
     ]
    }
   ],
   "source": [
    "for key, result in results.items(): print(f\"{key}: {result.mean_loss:.3f}, {result.mean_acc}\")  # old full"
   ]
  },
  {
   "cell_type": "code",
   "execution_count": null,
   "id": "d45e7be3",
   "metadata": {},
   "outputs": [],
   "source": [
    "key = 'MlM_gen(persons.EqSet.equal, types_of_things.TreeSet.parent) (cxt_len=1, abstract=0)'; result = results[key]\n",
    "node, data_tuples = show_result(result)"
   ]
  },
  {
   "cell_type": "code",
   "execution_count": null,
   "id": "fe516f4a",
   "metadata": {},
   "outputs": [],
   "source": [
    "print(key); node = add_node_to_result(result, topi=[1, 2])"
   ]
  },
  {
   "cell_type": "code",
   "execution_count": null,
   "id": "94799e16",
   "metadata": {},
   "outputs": [],
   "source": [
    "key = 'MlM_gen(persons.EqSet.equal, types_of_things.TreeSet.equal) (cxt_len=2, abstract=0)'; result = results[key]\n",
    "node, data_tuples = show_result(result)"
   ]
  },
  {
   "cell_type": "code",
   "execution_count": 151,
   "id": "f4b745c2",
   "metadata": {},
   "outputs": [
    {
     "name": "stdout",
     "output_type": "stream",
     "text": [
      "MlM_gen(persons.EqSet.equal, types_of_things.TreeSet.equal) (cxt_len=2, abstract=0)\n",
      " [-1] root labels┐\n",
      "                 └[0] top[0] 16-7 attn_labels┐\n",
      "                                             └[1] top[0] 12-10┐\n",
      "                                                              └*[2] top[0, 1, 2, 3, 4] 8-7,6-2,6-10,3-12,1-7...\n"
     ]
    }
   ],
   "source": [
    "print(key); node = add_node_to_result(result, topi=[0, 1, 2, 3, 4])"
   ]
  },
  {
   "cell_type": "code",
   "execution_count": null,
   "id": "414c7caa",
   "metadata": {},
   "outputs": [],
   "source": [
    "key = 'MlM_gen(persons.EqSet.equal, types_of_things.TreeSet.parent) (cxt_len=2, abstract=0)'; result = results[key]\n",
    "node, data_tuples = show_result(result)"
   ]
  },
  {
   "cell_type": "code",
   "execution_count": 206,
   "id": "819f6256",
   "metadata": {},
   "outputs": [
    {
     "name": "stdout",
     "output_type": "stream",
     "text": [
      "MlM_gen(persons.EqSet.equal, types_of_things.TreeSet.parent) (cxt_len=2, abstract=0)\n",
      "                 ┌[0] top[0, 1, 3] 20-5,21-5,15-8 argmax_attn_labels┐\n",
      "                 │                                                  └[1] top[0, 1] 8-1,12-10┐\n",
      "                 │                                                                          └[2] top[0, 1, 3] 5-12,3-12,7-2\n",
      " [-1] root labels┤\n",
      "                 ├[0] top[0, 1, 3] 20-5,21-5,15-8 attn_labels┐\n",
      "                 │                                           └[1] top[0, 1] 8-1,12-10┐\n",
      "                 │                                                                   └*[2] top[0, 1, 2] 5-12,3-12,7-2...\n",
      "                 └[0] 11-9 attn_labels┐\n",
      "                                      └[1] top[0] 8-1┐\n",
      "                                                     └[2] top[0, 1] 3-12,7-2\n"
     ]
    }
   ],
   "source": [
    "print(key); node = add_node_to_result(result, topi=[0,1,2])#, label_type='attn_labels')"
   ]
  },
  {
   "cell_type": "code",
   "execution_count": null,
   "id": "9e68100c",
   "metadata": {},
   "outputs": [],
   "source": [
    "# seed(1234); torch.cuda.empty_cache()\n",
    "model_names = ['EleutherAI/gpt-j-6B/cpu', 'EleutherAI/gpt-neox-20b', #'EleutherAI/gpt-neox-20b/cpu', \n",
    "               'text-curie-001', 'text-davinci-001', 'text-davinci-002'][:1]\n",
    "metrics = dict(losses=defaultdict(list), accuracies=defaultdict(list))\n",
    "\n",
    "def batch_predict(model, tokenizer):\n",
    "    return [predict(model, tokenizer, text, examples, k_shot=k_shot, custom_forward=False, # avoid computing head_inputs\n",
    "                    bos_token=bos_token, eos_token=eos_token, verbose=len(model_names) == 1)[1]\n",
    "            for text, examples in zip(texts, all_examples)]\n",
    "    \n",
    "with Timer('pmapped batch_predict'):\n",
    "    parallel = len(model_names) > 1\n",
    "    pool = Pool(len(model_names)) if parallel else itertools  # with Pool(len(model_names)) as pool:\n",
    "    results = pool.starmap(batch_predict, [models[model_name] for model_name in model_names])\n",
    "    if parallel: pool.close(); pool.join()\n",
    "            \n",
    "# query2acc, query2loss = defaultdict(list), defaultdict(list)\n",
    "for model_name, r in zip(model_names, results):\n",
    "    _, tokenizer = models[model_name]\n",
    "    for i, (loss, top1_corrects, answer_indices, answer_probs, candidate_probs) in enumerate(r):#.get()\n",
    "        acc = top1_corrects[k_shot:] # np.array(top1_corrects[k_shot:]).mean()\n",
    "        metrics['losses'][model_name].append(loss); metrics['accuracies'][model_name].append(acc)\n",
    "        if batch_size == 1: print(model_name, loss, acc)\n",
    "#         queries = [e[1] for e in _examples_list[i]][k_shot:]\n",
    "#         for q, a, l in zip(queries, acc, loss): query2acc[q].append(float(a)); query2loss[q].append(l)\n",
    "# print(sorted([(q, np.array(v).mean()) for q, v in query2acc.items()], key=lambda x: x[1]))"
   ]
  },
  {
   "cell_type": "code",
   "execution_count": 156,
   "id": "89581697",
   "metadata": {},
   "outputs": [
    {
     "name": "stdout",
     "output_type": "stream",
     "text": [
      "accuracies EleutherAI/gpt-j-6B/cpu 0.4444444444444444\n",
      "accuracies EleutherAI/gpt-neox-20b 0.5555555555555556\n",
      "accuracies text-curie-001 0.3333333333333333\n",
      "losses EleutherAI/gpt-j-6B/cpu 3.0475401878356934\n",
      "losses EleutherAI/gpt-neox-20b 2.3752387364705405\n",
      "losses text-curie-001 5.4890399882962955\n"
     ]
    }
   ],
   "source": [
    "for metric in ['accuracies', 'losses']:\n",
    "    for model_name in model_names[:]:\n",
    "        print(metric, model_name, np.array(metrics[metric][model_name]).mean())"
   ]
  },
  {
   "cell_type": "code",
   "execution_count": 129,
   "id": "4cf1f659",
   "metadata": {},
   "outputs": [],
   "source": [
    "def cmp(a, b):\n",
    "    print(a.dtype, a.size(), b.dtype, b.size())\n",
    "    print('allclose:', torch.allclose(a, b), 'equal:', torch.equal(a, b))\n",
    "    print((a == b).float().mean())\n",
    "    print((a - b).float().abs().mean(), a.float().abs().mean(), b.float().abs().mean())\n",
    "#     print((a - b).max(), (a - b).min())\n",
    "#     print(a[a - b == (a - b).max()])\n",
    "#     print(a[a - b == (a - b).min()])"
   ]
  },
  {
   "cell_type": "code",
   "execution_count": 47,
   "id": "e9cc4497",
   "metadata": {
    "collapsed": true,
    "jupyter": {
     "outputs_hidden": true
    }
   },
   "outputs": [
    {
     "name": "stdout",
     "output_type": "stream",
     "text": [
      " ... done 0:00:02.348918\n",
      " ... done 0:00:01.659792\n",
      " ĠJ 0.032 {'Ċ': 0.074, 'ĠS': 0.038, 'Ġ': 0.036} \t S J Y -> J\n",
      "*ĠN 0.429 {'ĠN': 0.429, 'ĠR': 0.223, 'ĠA': 0.074} \t A N R -> N\n",
      " ĠC 0.247 {'ĠV': 0.649, 'ĠC': 0.247, 'ĠB': 0.018} \t B C V -> C\n",
      "*ĠT 0.443 {'ĠT': 0.443, 'ĠK': 0.393, 'ĠS': 0.085} \t S T K -> T\n",
      "*ĠR 0.839 {'ĠR': 0.839, 'ĠT': 0.099, 'ĠA': 0.021} \t A R T -> R\n",
      "*ĠH 0.562 {'ĠH': 0.562, 'ĠQ': 0.278, 'ĠE': 0.112} \t E H Q -> H\n",
      "*ĠO 0.792 {'ĠO': 0.792, 'ĠF': 0.161, 'ĠN': 0.013} \t N O F -> O\n",
      "*ĠA 0.626 {'ĠA': 0.626, 'ĠI': 0.225, 'ĠY': 0.11} \t Y A I -> A\n",
      "\n",
      "\n",
      " ĠJ 0.032 {'Ċ': 0.074, 'ĠS': 0.038, 'Ġ': 0.036} \t S J Y -> J\n",
      "*ĠN 0.429 {'ĠN': 0.429, 'ĠR': 0.223, 'ĠA': 0.074} \t A N R -> N\n",
      " ĠC 0.247 {'ĠV': 0.649, 'ĠC': 0.247, 'ĠB': 0.018} \t B C V -> C\n",
      "*ĠT 0.443 {'ĠT': 0.443, 'ĠK': 0.393, 'ĠS': 0.085} \t S T K -> T\n",
      "*ĠR 0.839 {'ĠR': 0.839, 'ĠT': 0.099, 'ĠA': 0.021} \t A R T -> R\n",
      "*ĠH 0.562 {'ĠH': 0.562, 'ĠQ': 0.278, 'ĠE': 0.112} \t E H Q -> H\n",
      "*ĠO 0.792 {'ĠO': 0.792, 'ĠF': 0.161, 'ĠN': 0.013} \t N O F -> O\n",
      "*ĠA 0.626 {'ĠA': 0.626, 'ĠI': 0.225, 'ĠY': 0.11} \t Y A I -> A\n",
      "\n",
      "\n"
     ]
    }
   ],
   "source": [
    "# text, _examples = texts[0], _examples_list[0]\n",
    "torch.cuda.empty_cache()\n",
    "if True: #def predict2(model, tokenizer, text, _examples):\n",
    "    examples, input_ids, tokens, bos_indices, eos_indices, answers, labels = make_data_tuple(\n",
    "        text, tokenizer, k_shot=k_shot, bos_token=bos_token, eos_token=eos_token)\n",
    "    candidates = [[tokenizer.encode(' ' + token)[0] for token in cands[0]] for _, _, cands, _ in _examples]\n",
    "    with torch.no_grad():\n",
    "        with Timer(): o0 = model(input_ids.to(model.device), output_attentions=True, output_hidden_states=True)\n",
    "        with Timer(): o1 = forward0(model, input_ids.to(model.device), labels=labels.to(model.device),\n",
    "                by_head=['head_input0', 'head_output0'], attn_weights=None, output_hidden_states=True)\n",
    "        for o in [o0, o1]:\n",
    "            logits = o.logits\n",
    "            if isinstance(logits, torch.Tensor): logits = logits.to('cpu').float()# softmax on cpu needs float32\n",
    "            loss, top1_corrects, answer_probs, candidate_probs = show_predictions(\n",
    "                examples, tokenizer, logits, bos_indices, eos_indices, answers, labels, loss_reduction='none',\n",
    "                candidates=candidates, k_shot=k_shot, topk=3, verbose=True)\n",
    "            print('\\n')\n",
    "#     return loss, top1_corrects, answer_probs, candidate_probs"
   ]
  },
  {
   "cell_type": "code",
   "execution_count": 69,
   "id": "9a74c135",
   "metadata": {},
   "outputs": [],
   "source": []
  },
  {
   "cell_type": "code",
   "execution_count": 176,
   "id": "20a661b0",
   "metadata": {},
   "outputs": [
    {
     "name": "stdout",
     "output_type": "stream",
     "text": [
      "accuracies EleutherAI/gpt-j-6B 0.4976851851851852\n",
      "accuracies EleutherAI/gpt-neox-20b 0.5023148148148148\n",
      "accuracies text-davinci-001 0.48148148148148145\n",
      "accuracies text-davinci-002 0.9675925925925926\n",
      "losses EleutherAI/gpt-j-6B 1.3536101162543572\n",
      "losses EleutherAI/gpt-neox-20b 1.1634638377252957\n",
      "losses text-davinci-001 1.687816629922939\n",
      "losses text-davinci-002 0.1085046497381794\n"
     ]
    }
   ],
   "source": [
    "for metric in ['accuracies', 'losses']:\n",
    "    for model_name in model_names[:]:\n",
    "        print(metric, model_name, np.array(metrics[metric][model_name]).mean())"
   ]
  },
  {
   "cell_type": "code",
   "execution_count": 136,
   "id": "26aaa1d4",
   "metadata": {},
   "outputs": [
    {
     "name": "stdout",
     "output_type": "stream",
     "text": [
      "accuracies EleutherAI/gpt-j-6B 0.6203703703703703\n",
      "accuracies EleutherAI/gpt-neox-20b 0.7083333333333334\n",
      "accuracies text-curie-001 0.5879629629629629\n",
      "losses EleutherAI/gpt-j-6B 1.5619440356433054\n",
      "losses EleutherAI/gpt-neox-20b 1.0779137232247094\n",
      "losses text-curie-001 3.1073556870623844\n"
     ]
    }
   ],
   "source": [
    "for metric in ['accuracies', 'losses']:\n",
    "    for model_name in model_names[:]:\n",
    "        print(metric, model_name, np.array(metrics[metric][model_name])[:,:27].mean())"
   ]
  },
  {
   "cell_type": "code",
   "execution_count": null,
   "id": "0cba876d",
   "metadata": {},
   "outputs": [],
   "source": [
    "for metric in ['accuracies', 'losses']:\n",
    "    _ = plt.figure(figsize=(10, 3));\n",
    "    for model_name in model_names[:2]:\n",
    "        plt.plot(np.array(metrics[metric][model_name])[:].mean(0), label=f'{model_name}');\n",
    "    _ = plt.legend();  _ = plt.title(metric); _ = plt.show();"
   ]
  },
  {
   "cell_type": "code",
   "execution_count": 11,
   "id": "60515185",
   "metadata": {},
   "outputs": [],
   "source": [
    "time2prep = {tuple(clock_of_day): 'at', tuple(days_of_week): 'on', tuple(months): 'in'}\n",
    "def lookup_item2str(item, vocab=None):\n",
    "    if vocab[0] in [clock_of_day, days_of_week, months]:\n",
    "        prep = time2prep[tuple(vocab[0])]\n",
    "        return f'{item[1]} came {prep} {item[0]}'\n",
    "    elif vocab[0] == digits:\n",
    "        return f'{item[1]} is {item[0]}'\n",
    "def lookup_query2str(query, vocab=None, rel_name=None):\n",
    "    if vocab[0] in [clock_of_day, days_of_week, months]:\n",
    "        prep = time2prep[tuple(vocab[0])]\n",
    "        prep = {'prev': 'just before', 'next': 'just after', 'same': prep}[rel_name]\n",
    "        return f'Who came {prep} {query}?'\n",
    "    elif vocab[0] == digits:\n",
    "        prep = {'prev': 'a year younger than', 'next': 'a year younger than', 'same': ''}[rel_name]\n",
    "        return f'Who is {prep} {query}'"
   ]
  },
  {
   "cell_type": "code",
   "execution_count": 81,
   "id": "1ed9c29d",
   "metadata": {},
   "outputs": [],
   "source": [
    "text = '''Aaren is a boy. Harlow is a girl.\n",
    "Harlow called Aaren.\n",
    "Harlow: \"Are you a girl?\"\n",
    "Aaren: \"'''\n",
    "model_name = 'EleutherAI/gpt-j-6B'\n",
    "model, tokenizer = models[model_name]\n",
    "input_ids = tokenizer.encode(text, return_tensors='pt')\n",
    "logits = model(input_ids.to(getattr(model, 'device', 'cpu'))).logits"
   ]
  },
  {
   "cell_type": "code",
   "execution_count": 80,
   "id": "6e43fb02",
   "metadata": {},
   "outputs": [
    {
     "data": {
      "text/plain": [
       "{'Yes': 0.35, 'No': 0.226, 'Yeah': 0.078, 'I': 0.078, 'Y': 0.021}"
      ]
     },
     "execution_count": 80,
     "metadata": {},
     "output_type": "execute_result"
    }
   ],
   "source": [
    "show_topk(*logits[0][-1].softmax(-1).topk(5), indices_fn=tokenizer.convert_ids_to_tokens)"
   ]
  },
  {
   "cell_type": "code",
   "execution_count": 75,
   "id": "6c3d4809",
   "metadata": {},
   "outputs": [
    {
     "data": {
      "text/plain": [
       "{'No': 0.824, 'Yes': 0.115, 'I': 0.04, 'What': 0.006, ' No': 0.003}"
      ]
     },
     "execution_count": 75,
     "metadata": {},
     "output_type": "execute_result"
    }
   ],
   "source": [
    "get_prob_dist(logits.top_logprobs[-1], 5)"
   ]
  },
  {
   "cell_type": "code",
   "execution_count": 155,
   "id": "2e5780be",
   "metadata": {},
   "outputs": [
    {
     "data": {
      "text/plain": [
       "[('▁The', 37),\n",
       " ('▁capital', 1784),\n",
       " ('▁of', 13),\n",
       " ('▁Canada', 1894),\n",
       " ('▁is', 19),\n",
       " ('</s>', 1)]"
      ]
     },
     "execution_count": 155,
     "metadata": {},
     "output_type": "execute_result"
    },
    {
     "data": {
      "text/plain": [
       "'Ottawa. It is the largest city in Canada'"
      ]
     },
     "execution_count": 155,
     "metadata": {},
     "output_type": "execute_result"
    }
   ],
   "source": [
    "text = 'The capital of Canada is'\n",
    "input_ids = tokenizer(text, return_tensors='pt').input_ids\n",
    "list(zip(tokenizer.convert_ids_to_tokens(input_ids[0]), input_ids[0].numpy()))\n",
    "outputs = model.generate(input_ids, max_length=10)\n",
    "tokenizer.decode(outputs[0], skip_special_tokens=True)"
   ]
  },
  {
   "cell_type": "code",
   "execution_count": 478,
   "id": "8c9c689c",
   "metadata": {},
   "outputs": [],
   "source": [
    "# nrows = 5; k_shot = nrows // 2 + 1\n",
    "# for pairs in [drop_first_and_last, ]:\n",
    "nrows = 6;  k_shot = 3\n",
    "for pairs in reversible_transformations + irreversible_transformations:\n",
    "    seps = [' -> ', '->'] if random.random() < 0.5 else ['->', ' -> ']\n",
    "    # seps = [' -> ', ' -> ']\n",
    "    samples = ['\\n' + '\\n'.join(a + seps[0] + b for a, b in sample(pairs, nrows)) + '\\n']\n",
    "    for s in samples: data_tuples.append(list(make_data_tuple(s, tokenizer, k_shot=k_shot, bos_token=tokenizer.tokenize(seps[0])[0])))\n",
    "    samples = ['\\n' + '\\n'.join(b + seps[1] + a for a, b in sample(pairs, nrows)) + '\\n' if pairs in reversible_transformations else \n",
    "                '\\n' + '\\n'.join(a + seps[1] + b for a, b in sample(pairs, nrows)) + '\\n']\n",
    "    for s in samples: data_tuples.append(list(make_data_tuple(s, tokenizer, k_shot=k_shot, bos_token=tokenizer.tokenize(seps[1])[0])))"
   ]
  },
  {
   "cell_type": "code",
   "execution_count": null,
   "id": "da2f807e",
   "metadata": {},
   "outputs": [],
   "source": [
    "# # sys.path.insert(0, '/nas/xd/projects/ec')\n",
    "# from child_utils import loadPBETasks, retrieveJSONTasks\n",
    "# challenge, challengeCheating = loadPBETasks('/nas/xd/projects/ec/PBE_Strings_Track')\n",
    "# challenge2, challengeCheating2 = loadPBETasks('/nas/xd/projects/ec/data/sygus')\n",
    "# tasks = retrieveJSONTasks(\"/nas/xd/projects/ec/data/list_tasks.json\")\n",
    "# tasks2 = retrieveJSONTasks(\"/nas/xd/projects/ec/data/list_tasks2.json\")"
   ]
  },
  {
   "cell_type": "code",
   "execution_count": null,
   "id": "e1ff8618",
   "metadata": {},
   "outputs": [],
   "source": [
    "from lxy_utils import get_examples_behind, get_examples_before, get_examples_query_before, \\\n",
    "    get_examples_query_behid, get_examples_query_repeat"
   ]
  },
  {
   "cell_type": "code",
   "execution_count": null,
   "id": "432fcd8a",
   "metadata": {},
   "outputs": [],
   "source": [
    "reversible_transformations = [list(digit2cardinal.items()), noun2adj, lxy, verb_form, country2capital, en2fr, antonyms]\n",
    "irreversible_transformations = [capabilities]"
   ]
  },
  {
   "cell_type": "code",
   "execution_count": null,
   "id": "d59cbab6",
   "metadata": {},
   "outputs": [],
   "source": []
  },
  {
   "cell_type": "code",
   "execution_count": 197,
   "id": "fbc67151",
   "metadata": {},
   "outputs": [
    {
     "name": "stdout",
     "output_type": "stream",
     "text": [
      "EleutherAI/gpt-j-6B ... done 0:00:01\n",
      "* C 0.842 {' C': 0.842, ' A': 0.041, ' B': 0.04} \t D -> C\n",
      "* Thursday 0.778 {' Thursday': 0.778, ' Wednesday': 0.064, ' Friday': 0.063} \t Friday -> Thursday\n",
      "* a 0.742 {' a': 0.742, ' c': 0.051, ' A': 0.036} \t b -> a\n",
      "* four 0.472 {' four': 0.472, ' three': 0.246, ' one': 0.105} \t five -> four\n",
      "tensor(0.3677, grad_fn=<NllLossBackward>) True \n",
      "\n",
      "0.3677041530609131\n"
     ]
    }
   ],
   "source": [
    "losses = []\n",
    "for model_name, (model, tokenizer) in models.items():\n",
    "    if any(model_name.startswith(s) for s in ['gpt2-', 'KoboldAI/fairseq-dense', 'text-davinci-001', ]): continue\n",
    "    if not model_name == 'EleutherAI/gpt-j-6B': continue\n",
    "    if not isinstance(model, types.FunctionType): _ = model.eval()\n",
    "    with Timer(model_name): outputs = model(**inputs)\n",
    "    options_ids_list = [[tokenizer.encode(' ' + option)[0] for option in options] for cxt, query, options, ans in _examples]\n",
    "    mask_logits_fn = partial(mask_logits, indices=bos_indices, kept_ids=options_ids_list)\n",
    "    loss, all_top1_correct = show_predictions(text, examples, tokenizer, outputs.logits, bos_indices, eos_indices, answers, labels,\n",
    "                    mask_logits_fn=None, topk=3, loss_reduction='mean', show_range=range(k_shot, len(examples)), sep='\\t')\n",
    "    print(loss, all_top1_correct, '\\n')\n",
    "    losses.append(loss.item() if hasattr(loss, 'item') else loss)\n",
    "    if model_name == 'EleutherAI/gpt-j-6B': break\n",
    "print(sum(losses) / len(losses))"
   ]
  },
  {
   "cell_type": "code",
   "execution_count": 24,
   "id": "bc90b0db",
   "metadata": {},
   "outputs": [],
   "source": [
    "relational_functions = [prev(), next()]\n",
    "rel_fns = [prevs, nexts]"
   ]
  },
  {
   "cell_type": "markdown",
   "id": "92834550",
   "metadata": {},
   "source": [
    "**TODO: read children books for more posets**  \n",
    "**TODO: Prompt gpt3 to elicit the posets it knows**  \n",
    "$x \\to f(x)$ where $f \\in \\{\\text{prev/next in posets of numbers/letters/months/days, antonym, hypernym, hyponym, ...}\\}$  \n",
    "$x \\to f^2(x)$  \n",
    "one poset or mixed posets  \n",
    "$x, f(x).~y \\to Ff^{[-1]}(y)$ one poset or mixed posets  \n",
    "$x, f^k(x).~y \\to Ff^{[-1]}(y)~/Ff^{[-]k}(y)$  \n",
    "$x, f(f(x))~/f(f(x)), x \\to f(x)$ in between, the simplest form of sequence completion  \n",
    "$x, f(x) \\to Gf$ where $Gf \\in \\{<, >\\}$  \n",
    "$x, f(x); y, g(y) \\to Ff \\stackrel{?}{=} g^{[-1]}$ where $\\text{output} \\in \\{\\text{True}, \\text{False}\\}$  \n",
    "sort\n",
    "\n",
    "There is a *natural* monotone map/functor $F$ between posets/sets $A$ and $B$.  Compose the computation (set operations, sorting etc.) between $A$ and $B$ with $F$ to make harder tasks.  \n",
    "$P(A) ,P(B) \\to F(P(A)) \\setminus ~/ \\cap ~/ \\triangle P(B)$. Harder form of set difference/intersection.  \n",
    "$P(A) \\to F(\\text{sorted}(P(A)))$. Harder form of sorting.\n"
   ]
  },
  {
   "cell_type": "code",
   "execution_count": null,
   "id": "4504ae9b",
   "metadata": {},
   "outputs": [],
   "source": []
  },
  {
   "cell_type": "code",
   "execution_count": 385,
   "id": "17373019",
   "metadata": {},
   "outputs": [
    {
     "name": "stdout",
     "output_type": "stream",
     "text": [
      "Instruction: replace with the other. For example:\n",
      "G H G G G -> H G H H H\n",
      "I I I I M -> M M M M I\n",
      "A A F A A -> F F A F F\n",
      "9 9 9 I I -> I I I 9 9\n",
      "\n",
      "Instruction: replace with the other. For example:\n",
      "V Q Q V V -> Q V V Q Q\n",
      "G L L G L -> L G G L G\n",
      "G 2 2 2 G -> 2 G G G 2\n",
      "I I Z Z Z -> Z Z I I I\n",
      "\n",
      "Instruction: replace with the other. For example:\n",
      "R H H H R -> H R R R H\n",
      "B 9 9 B B -> 9 B B 9 9\n",
      "D 2 2 2 D -> 2 D D D 2\n",
      "A A A A W -> W W W W A\n",
      "\n"
     ]
    }
   ],
   "source": [
    "n_total, n_valid = 192, 64\n",
    "n_train = n_total - n_valid\n",
    "\n",
    "input_strs = [make_input_str(tasks[4], nrows=4, ncols=5) for __ in range(n_total)]\n",
    "for s in sample(input_strs, 3): print(s)"
   ]
  },
  {
   "cell_type": "code",
   "execution_count": 368,
   "id": "f7d6edbc",
   "metadata": {},
   "outputs": [
    {
     "data": {
      "text/plain": [
       "370"
      ]
     },
     "execution_count": 368,
     "metadata": {},
     "output_type": "execute_result"
    }
   ],
   "source": [
    "sum(s.count('Yes') for s in input_strs)"
   ]
  },
  {
   "cell_type": "code",
   "execution_count": 322,
   "id": "e2f80b74",
   "metadata": {},
   "outputs": [],
   "source": [
    "train_dataset = CHILDDataset(input_strs[:-n_valid], tokenizer)\n",
    "eval_dataset = CHILDDataset(input_strs[-n_valid:], tokenizer)"
   ]
  },
  {
   "cell_type": "code",
   "execution_count": 121,
   "id": "3185653b",
   "metadata": {},
   "outputs": [],
   "source": [
    "if n_total == 1:\n",
    "    inputs = tokenizer.encode_plus(text, return_tensors='pt')\n",
    "    inputs = prepare_inputs(inputs, model.device)\n",
    "    outputs = model(**inputs, output_attentions=False)\n",
    "\n",
    "    # assert inputs.input_ids.size(0) == 1\n",
    "    input_ids = inputs.input_ids\n",
    "    logits = outputs.logits\n",
    "\n",
    "    bsz = input_ids.size(0); assert bsz == 1\n",
    "    labels = torch.ones_like(input_ids) * (-100)\n",
    "    for bi in range(bsz):\n",
    "        bos_indices = (input_ids[bi] == bos_id).nonzero().squeeze(1)\n",
    "        eos_indices = (input_ids[bi] == eos_id).nonzero()[-nrows:].squeeze(1)\n",
    "        for i, (example, bos_i, eos_i) in enumerate(zip(examples, bos_indices.tolist(), eos_indices.tolist())):\n",
    "            print(' ' + make_example_str(example))\n",
    "            ans_ids = input_ids[bi, bos_i + 1: eos_i]\n",
    "            if i >= 2: labels[bi, bos_i: eos_i - 1] = ans_ids\n",
    "            ans_prob_dist = logits[bi, bos_i: eos_i - 1].softmax(-1)\n",
    "            ans_probs = ans_prob_dist[torch.arange(ans_prob_dist.size(0)), ans_ids]\n",
    "            ans_tokens = tokenizer.convert_ids_to_tokens(ans_ids)\n",
    "            for ans_id, ans_token, ans_prob, dist in zip(ans_ids, ans_tokens, numpy(ans_probs, decimals=3), ans_prob_dist):\n",
    "                top1_correct = (dist.argmax() == ans_id).item()\n",
    "                print(('*' if top1_correct else ' ') + ans_token, ans_prob, \n",
    "                      show_topk(*dist.topk(5), indices_fn=tokenizer.convert_ids_to_tokens)) \n",
    "    loss = nn.CrossEntropyLoss()(logits.view(-1, logits.size(-1)), labels.view(-1))\n",
    "    loss"
   ]
  },
  {
   "cell_type": "code",
   "execution_count": 329,
   "id": "6ebf074a",
   "metadata": {},
   "outputs": [],
   "source": [
    "training_args = TrainingArguments(output_dir=\"./models/model_name\", \n",
    "    overwrite_output_dir=True, do_train=True, do_eval=True,\n",
    "    per_device_train_batch_size=16, per_device_eval_batch_size=16,\n",
    "    weight_decay=0.01, adam_beta2=0.98, adam_epsilon=1e-6,\n",
    "    lr_scheduler_type='constant', learning_rate=5e-3, num_train_epochs=4,\n",
    "    logging_strategy ='epoch', evaluation_strategy ='epoch', save_steps=0,\n",
    "    no_cuda=True, report_to='none',  # to avoid report to wandb\n",
    ")"
   ]
  },
  {
   "cell_type": "code",
   "execution_count": 330,
   "id": "d89c7d7b",
   "metadata": {},
   "outputs": [],
   "source": [
    "trainer = Trainer(model, training_args, train_dataset=train_dataset, eval_dataset=eval_dataset,\n",
    "                  optimizers=(create_optimizer(model, training_args), None))"
   ]
  },
  {
   "cell_type": "code",
   "execution_count": 333,
   "id": "b37a9874",
   "metadata": {},
   "outputs": [
    {
     "data": {
      "text/plain": [
       "True"
      ]
     },
     "execution_count": 333,
     "metadata": {},
     "output_type": "execute_result"
    }
   ],
   "source": [
    "trainer.place_model_on_device"
   ]
  },
  {
   "cell_type": "code",
   "execution_count": null,
   "id": "9b4b3eca",
   "metadata": {},
   "outputs": [],
   "source": [
    "def get_prev(elem):\n",
    "    i, v = elem\n",
    "    return _l[i - 1] if i > 0 else None\n",
    "\n",
    "false = lambda *_: False\n",
    "true  = lambda *_: True"
   ]
  },
  {
   "cell_type": "code",
   "execution_count": null,
   "id": "721cb66f",
   "metadata": {},
   "outputs": [],
   "source": [
    "Element = namedtuple('Element', 'index value')\n",
    "_l = 'A B C B'.split()\n",
    "n = len(_l)\n",
    "# l = [Element._make(e) for e in enumerate(l)]\n",
    "l = seq(_l)\n",
    "l = l.enumerate().map(Element._make)"
   ]
  },
  {
   "cell_type": "code",
   "execution_count": 6,
   "id": "9f22f664",
   "metadata": {},
   "outputs": [],
   "source": [
    "l.map(lambda x: {'B': 'D'}.get(x, x))\n",
    "\n",
    "l.filter(lambda x: get_prev(x) == 'B').select(_.value)\n",
    "\n",
    "find_fn = _.index == 1\n",
    "l.filter(find_fn).select(_.value).map(lower)\n",
    "\n",
    "find_fn = _.value == 'C'\n",
    "l.filter(find_fn).select(_.index)\n",
    "\n",
    "# move x to first\n",
    "update_filter = _.value == 'C'\n",
    "get_new = lambda x: -1\n",
    "l.map(lambda x: Element(update_fn(x, 'index'), x.value)).order_by(_.index).select(_.value)\n",
    "\n",
    "# swap first and last\n",
    "update_filter = true\n",
    "get_new = lambda x: {0: n - 1, n - 1: 0}.get(x.index, x.index)\n",
    "l.map(lambda x: Element(update_fn(x, 'index'), x.value)).order_by(_.index).select(_.value)\n",
    "\n",
    "# get inbetween == drop_while + take_while?\n",
    "\n",
    "# update by index to its prev\n",
    "update_filter = _.index == 1\n",
    "get_new = lambda x: get_prev(x)\n",
    "def update_fn(x, update_field): return get_new(x) if update_filter(x) else getattr(x, update_field)\n",
    "l.map(lambda x: Element(x.index, update_fn(x, 'value')))\n",
    "\n",
    "# if two adjacent elements by indices are equal\n",
    "l.filter(lambda x: x.index in [0, 1]).select(_.value).distinct().len() == 1\n",
    "\n",
    "seq('A B C B C'.split()).group_by(_).select(_[1]).flatten()\n",
    "\n",
    "# count occurance till current\n",
    "seq('A B A C B A'.split()).inits().reverse().tail().map(lambda x: x.filter(_ == x.last()).len())\n",
    "\n",
    "# find special\n",
    "seq('A B A A'.split()).count_by_value().filter(_[1] == 1).select(_[0])\n",
    "\n",
    "# generalized find special\n",
    "seq('A A B C C D D'.split()).group_by(_).map(lambda x: (x[0], len(x[1]))).filter(_[1] == 1).select(_[0])"
   ]
  }
 ],
 "metadata": {
  "kernelspec": {
   "display_name": "Python 3",
   "language": "python",
   "name": "python3"
  },
  "language_info": {
   "codemirror_mode": {
    "name": "ipython",
    "version": 3
   },
   "file_extension": ".py",
   "mimetype": "text/x-python",
   "name": "python",
   "nbconvert_exporter": "python",
   "pygments_lexer": "ipython3",
   "version": "3.7.11"
  },
  "vscode": {
   "interpreter": {
    "hash": "31f2aee4e71d21fbe5cf8b01ff0e069b9275f58929596ceb00d14d90e3e16cd6"
   }
  }
 },
 "nbformat": 4,
 "nbformat_minor": 5
}
