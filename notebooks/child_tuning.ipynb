{
 "cells": [
  {
   "cell_type": "code",
   "execution_count": 1,
   "id": "7292808a",
   "metadata": {},
   "outputs": [],
   "source": [
    "from IPython import get_ipython\n",
    "%load_ext autoreload\n",
    "%autoreload 2\n",
    "\n",
    "from IPython.core.interactiveshell import InteractiveShell\n",
    "InteractiveShell.ast_node_interactivity = 'all'  #'last', 'last_expr'"
   ]
  },
  {
   "cell_type": "code",
   "execution_count": 2,
   "id": "0d03e56e",
   "metadata": {},
   "outputs": [],
   "source": [
    "import sys\n",
    "sys.path.insert(0, '/nas/xd/projects/transformers/src')\n",
    "import os\n",
    "os.environ['HF_HOME'] = '/raid3/xd/.cache/torch'  # deliberately set this wrong path to avoid migrating cache\n",
    "os.environ[\"CUDA_DEVICE_ORDER\"]=\"PCI_BUS_ID\"\n",
    "os.environ[\"CUDA_VISIBLE_DEVICES\"]=\"8,7\"\n",
    "\n",
    "from types import MethodType\n",
    "from tqdm import tqdm\n",
    "from collections import defaultdict, OrderedDict, Counter\n",
    "from datetime import datetime\n",
    "from io import StringIO\n",
    "import itertools\n",
    "from itertools import chain\n",
    "import math\n",
    "from functools import reduce, partial\n",
    "from collections.abc import Iterable\n",
    "from collections import namedtuple \n",
    "import traceback\n",
    "\n",
    "# from multiprocessing import Pool\n",
    "# from torch.multiprocessing import Pool\n",
    "# torch.multiprocessing.set_start_method('spawn', force=True)\n",
    "from multiprocessing.dummy import Pool\n",
    "\n",
    "%matplotlib inline\n",
    "import matplotlib.pyplot as plt\n",
    "import seaborn as sns\n",
    "\n",
    "import torch\n",
    "import torch.nn as nn\n",
    "import torch.nn.functional as F \n",
    "from torch.utils.data.sampler import RandomSampler, Sampler, SequentialSampler\n",
    "from torch.utils.data.dataloader import DataLoader"
   ]
  },
  {
   "cell_type": "code",
   "execution_count": 3,
   "id": "54a886cb",
   "metadata": {},
   "outputs": [
    {
     "name": "stdout",
     "output_type": "stream",
     "text": [
      "In file_utils.py: default_cache_path = /raid3/xd/.cache/torch/hub\n"
     ]
    }
   ],
   "source": [
    "# from transformers.data.data_collator import DataCollator, default_data_collator\n",
    "from transformers import AutoConfig, AutoModelForCausalLM, AutoTokenizer, GPT2Tokenizer#, pipeline\n",
    "# from transformers import RobertaForMaskedLM, RobertaTokenizer, GPT2LMHeadModel, GPT2Tokenizer, GPTNeoForCausalLM\n",
    "# from transformers import T5Tokenizer, T5TokenizerFast, T5ForConditionalGeneration\n",
    "# from transformers import HfArgumentParser, Trainer, TrainingArguments, set_seed, AdamW"
   ]
  },
  {
   "cell_type": "code",
   "execution_count": 4,
   "id": "49c8f3d0",
   "metadata": {},
   "outputs": [],
   "source": [
    "sys.path.insert(0, '/nas/xd/projects/PyFunctional')\n",
    "from functional import seq\n",
    "from functional.pipeline import Sequence    \n",
    "from fn import _ as __"
   ]
  },
  {
   "cell_type": "code",
   "execution_count": 5,
   "id": "58cba5e2",
   "metadata": {},
   "outputs": [],
   "source": [
    "from utils import *\n",
    "from child_utils import *\n",
    "from common_utils import *\n",
    "from child_frames import *\n",
    "from model_utils import *"
   ]
  },
  {
   "cell_type": "code",
   "execution_count": 245,
   "id": "29bd23f7",
   "metadata": {},
   "outputs": [],
   "source": [
    "torch.set_grad_enabled(False);"
   ]
  },
  {
   "cell_type": "code",
   "execution_count": 6,
   "id": "90f62ac5",
   "metadata": {},
   "outputs": [],
   "source": [
    "models = {}\n",
    "cache_dir = '/nas/xd/.cache/torch/transformers/'  # for models besides t5-3b/11b\n",
    "# cache_dir = '/mnt/nvme1/xd/.cache/torch/transformers/'  # for gpt-j-6B on elderberry\n",
    "proxies = {'http': '192.168.50.1:1081'} "
   ]
  },
  {
   "cell_type": "code",
   "execution_count": 496,
   "id": "a4ab655d",
   "metadata": {},
   "outputs": [
    {
     "name": "stdout",
     "output_type": "stream",
     "text": [
      "gpt2 ... In huggingface_hub.file_download.cached_download: url = https://huggingface.co/gpt2/resolve/main/pytorch_model.bin\n"
     ]
    },
    {
     "data": {
      "application/json": {
       "ascii": false,
       "bar_format": null,
       "colour": null,
       "elapsed": 0.030651569366455078,
       "initial": 0,
       "n": 0,
       "ncols": null,
       "nrows": null,
       "postfix": null,
       "prefix": "Downloading",
       "rate": null,
       "total": 548118077,
       "unit": "B",
       "unit_divisor": 1000,
       "unit_scale": true
      },
      "application/vnd.jupyter.widget-view+json": {
       "model_id": "9a21d04d1d724d4ab147a84be3753cf5",
       "version_major": 2,
       "version_minor": 0
      },
      "text/plain": [
       "Downloading:   0%|          | 0.00/548M [00:00<?, ?B/s]"
      ]
     },
     "metadata": {},
     "output_type": "display_data"
    },
    {
     "name": "stdout",
     "output_type": "stream",
     "text": [
      "done 0:01:25.745694\n"
     ]
    }
   ],
   "source": [
    "# curl -x http://192.168.50.1:1081 -L -O [-C -] https://huggingface.co/google/ul2/resolve/main/pytorch_model.bin  # -C for 断点续传\n",
    "s2s_model_names = ['google/t5-xl-lm-adapt', 'google/t5-xxl-lm-adapt', 'bigscience/T0p', 'bigscience/T0_3B', \n",
    "    'allenai/tk-instruct-3b-pos', 'allenai/tk-instruct-3b-def-pos', 'google/ul2']\n",
    "gpt_model_names = ['EleutherAI/gpt-j-6B/cpu', 'EleutherAI/gpt-neox-20b', 'EleutherAI/gpt-neox-20b/cpu', 'gpt2-xl', 'gpt2']\n",
    "#                    'KoboldAI/fairseq-dense-6.7B', 'KoboldAI/fairseq-dense-13B']\n",
    "for model_name in s2s_model_names[:0] + gpt_model_names[-1:]:#, 'gpt2-xl', 'EleutherAI/gpt-neo-1.3B', 'KoboldAI/fairseq-dense-6.7B']:\n",
    "    if model_name in models: continue\n",
    "    with Timer(model_name):\n",
    "        model_cls = AutoModelForCausalLM if any(s in model_name for s in ['gpt', 'fairseq-dense']) else T5ForConditionalGeneration\n",
    "        # _cache_dir = cache_dir.replace('/nas/', '/nas2/') if 'gpt' not in model_name else cache_dir\n",
    "        kwargs = dict(cache_dir=cache_dir, proxies=proxies, low_cpu_mem_usage=True)\n",
    "        if '/cpu' in model_name or 'gpt-j' not in model_name and 'gpt-neox' not in model_name:\n",
    "            model = model_cls.from_pretrained(model_name.replace('/cpu', ''), cache_dir=cache_dir, proxies=proxies)\n",
    "        elif 'gpt-j' in model_name:\n",
    "            device = 1\n",
    "            model = model_cls.from_pretrained(model_name, revision=\"float16\", torch_dtype=torch.float16, **kwargs).to(device)\n",
    "        elif 'gpt-neox' in model_name:\n",
    "            device = 0; device_map = {'gpt_neox': device, 'embed_out': device}\n",
    "            model = model_cls.from_pretrained(model_name, device_map=device_map, load_in_8bit=True, **kwargs)\n",
    "        if hasattr(model.config, 'use_cache'): model.config.use_cache = False  # save GPU mem\n",
    "        # if model_name in ['EleutherAI/gpt-neox-20b']: model = model.half()\n",
    "        tokenizer = AutoTokenizer.from_pretrained(model_name.replace('/cpu', ''), cache_dir=cache_dir)\n",
    "        unify(model)\n",
    "        models[model_name] = model, tokenizer#, device"
   ]
  },
  {
   "cell_type": "code",
   "execution_count": 692,
   "id": "c64283f4",
   "metadata": {},
   "outputs": [
    {
     "name": "stdout",
     "output_type": "stream",
     "text": [
      "Once upon a time, there was a robot named D. D was a proud robot who followed all of Asimov's\n"
     ]
    }
   ],
   "source": [
    "import openai\n",
    "openai.api_key = open('/nas/xd/projects/openai_api_keys.txt').readlines()[1].split()[0]\n",
    "response = openai.Completion.create(engine='text-davinci-002', prompt='Once upon a time',\n",
    "    max_tokens=20, echo=True, logprobs=5)\n",
    "print(response.choices[0].text)"
   ]
  },
  {
   "cell_type": "code",
   "execution_count": 665,
   "id": "e42d23e7",
   "metadata": {},
   "outputs": [],
   "source": [
    "def get_openai_model(engine):\n",
    "    def forward(input_ids):#, attention_mask=None):\n",
    "        text = tokenizer.decode(input_ids[0])\n",
    "        response = openai.Completion.create(engine=engine, prompt=text, max_tokens=0, echo=True, logprobs=5)\n",
    "        return Outputs(logits=response.choices[0].logprobs)\n",
    "    return forward\n",
    "    \n",
    "tokenizer0 = GPT2Tokenizer.from_pretrained('gpt2', cache_dir=cache_dir)\n",
    "engines = ['text-babbage-001', 'text-curie-001', 'text-davinci-001', 'text-davinci-002'][1:] #+ \\\n",
    "#     ['curie', 'curie:2020-05-03', 'curie-instruct-beta', 'text-curie-001'] + \\\n",
    "#     ['davinci', 'davinci:2020-05-03', 'davinci-instruct-beta', 'davinci-instruct-beta:2.0.0', 'text-davinci-001', 'text-davinci-002']\n",
    "for engine in engines: models[engine] = get_openai_model(engine), tokenizer0"
   ]
  },
  {
   "cell_type": "code",
   "execution_count": 607,
   "id": "0bc28755",
   "metadata": {},
   "outputs": [],
   "source": [
    "model_name = gpt_model_names[0]\n",
    "model, tokenizer = models[model_name]\n",
    "# unify(model)\n",
    "# if model_name == 'EleutherAI/gpt-neox-20b/': and model_name + '/cpu' in models:\n",
    "#     unify(models[model_name + '/cpu'][0])\n",
    "\n",
    "blocks = model.transformer.h\n",
    "attn0 = blocks[0].attn\n",
    "ln_f = model.transformer.ln_f\n",
    "L, H, embed_dim = len(blocks), attn0.num_heads, attn0.embed_dim"
   ]
  },
  {
   "cell_type": "code",
   "execution_count": null,
   "id": "d819ede5",
   "metadata": {},
   "outputs": [],
   "source": [
    "# I = Identity; M = Mophism; A = Aggregation; C = CMP; G = GroupBy; l = local\n",
    "patterns = ['M', 'A?', 'IA', 'MA',\n",
    "    'IlI', 'MlI', 'IlM', 'MlM', 'IlMlI',\n",
    "    'IlA', 'MlA', 'IlC', 'MlC', 'AlI', 'GIlI']"
   ]
  },
  {
   "cell_type": "code",
   "execution_count": 24,
   "id": "1cbf4a6c",
   "metadata": {},
   "outputs": [],
   "source": [
    "def _str(l, vocab=None, sep=' '):\n",
    "    if l is None: return ''\n",
    "    if isinstance(l, str) or not isinstance(l, Iterable): l = [l]\n",
    "    l = [e for e in l if not my_isinstance(e, Sequence)] #type(e).__name__ != 'Sequence']\n",
    "    if isinstance(l, (dict, OrderedDict)): l = [f'{k}: {v}' for k, v in l.items()]\n",
    "    return sep.join(str(i) for i in l)\n",
    "\n",
    "def options2str(options): return '[' + ' | '.join(options) + ']'  # ' or '.join(options) + '?'"
   ]
  },
  {
   "cell_type": "code",
   "execution_count": 830,
   "id": "df63ee7d",
   "metadata": {},
   "outputs": [],
   "source": [
    "def make_examples(task, nrows=4, vocab_for_each_row=True, options_position=None):\n",
    "    vocab_fn, example_gen_fn = task[:2]\n",
    "    vocabs, examples = [], []\n",
    "    qa_set = set() # for dedup\n",
    "    if not vocab_for_each_row: vocab = vocab_fn()\n",
    "    for i in range(nrows * 2):\n",
    "        if vocab_for_each_row: vocab = vocab_fn()\n",
    "        try:\n",
    "            cxt, query, candidates, ans = example_gen_fn(vocab)\n",
    "        except:\n",
    "            traceback.print_exc()  # print(traceback.format_exc())\n",
    "            continue\n",
    "        if isinstance(query, list): query = tuple(query)\n",
    "        if (tuple(cxt), query, ans) not in qa_set:\n",
    "            qa_set.add((tuple(cxt), query, ans))\n",
    "            vocabs.append(vocab)\n",
    "            examples.append([cxt, query, candidates, ans])\n",
    "        if len(examples) == nrows: break\n",
    "    return vocabs, examples\n",
    "\n",
    "def make_input_str(task, vocabs, examples, abstract=0, options_position=None):#, bos_token='->', eos_token='Ċ'):\n",
    "#     task += (_str,) * min(0, 2 + 3 - len(task))\n",
    "#     cxt2str, query2str, ans2str = task[2: 5]\n",
    "#     bos_token = task[5] if len(task) > 5 else 'Ġ?'#; eos_token = task[6] if len(task) > 6 else None\n",
    "    cxt2str, query2str, bos_token, ans2str = [lget(task, i, '?' if i == 4 else _str) for i in range(2, 6)] \\\n",
    "        if abstract == 0 else [partial(_cxt2str, item2str=partial(_item2str, reverse=abstract == 2)), _str, 'Ġ->', _str]\n",
    "    def example2str(vocab, example, with_instruction=False):\n",
    "        cxt, query, options, ans = example\n",
    "        strs = [cxt2str(cxt, vocab), query2str(query, vocab)]\n",
    "        if options_position is not None: strs.insert(options_position, options2str(options))\n",
    "        return '. '.join(s for s in strs if s != '') + bos_token.replace('Ġ', ' ') + ' ' + ans2str(ans)\n",
    "\n",
    "    text = '\\n'.join(example2str(v, e) for v, e in zip(vocabs, examples)) + '\\n'\n",
    "    return text"
   ]
  },
  {
   "cell_type": "code",
   "execution_count": 106,
   "id": "5e4d3c2f",
   "metadata": {},
   "outputs": [],
   "source": [
    "# NE types: boy girl planet letter number month day"
   ]
  },
  {
   "cell_type": "code",
   "execution_count": 33,
   "id": "6ec163a8",
   "metadata": {},
   "outputs": [],
   "source": [
    "def ith_gen(rels, cxt_len=3):\n",
    "    hop = 0; cxt = sample(rels[hop][0].codom(), cxt_len)\n",
    "    query, candidates, ans = None, (cxt, cxt), cxt[1]\n",
    "    return cxt, query, candidates, ans"
   ]
  },
  {
   "cell_type": "code",
   "execution_count": 992,
   "id": "410a844d",
   "metadata": {},
   "outputs": [],
   "source": [
    "def _item2str(item, vocab=None, reverse=False):\n",
    "    return (f'{item[1]} {item[0]}' if reverse else f'{item[0]} {item[1]}') if isinstance(item, tuple) else f'{item}'\n",
    "def _cxt2str(cxt, vocab=None, prefix='', sep=', ', item2str=_item2str):\n",
    "    return prefix + sep.join([item2str(item, vocab) for item in cxt])\n",
    "\n",
    "tasks = [\n",
    "    (lambda: [[EqSet(uppercase).equal], ], partial(ith_gen, cxt_len=3),\n",
    "     partial(_cxt2str, sep=' '), lambda q, _: '', 'Ġ->'\n",
    "    Ti), \n",
    "    (lambda: [[TreeSet(types_of_things).subclass], [EqSet(persons).equal]],\n",
    "        partial(g2c(MlM_gen, labels=['Yes', 'No']), cxt_len=3),\n",
    "        partial(_cxt2str, sep='. ', item2str=lambda item, vocab: f\"The {item[0]} is {item[1]}'s\"),\n",
    "#         lambda query, vocab: f'So does the {query[0]} belong to {query[1]}',\n",
    "        lambda query, vocab: f'{query[0]} {query[1]}'#f\"So is the {query[0]} {query[1]}'s\",\n",
    "    ), \n",
    "#     (lambda: [[TreeSet(types_of_things).subclass], [EqSet(persons).equal]],  # worse than next\n",
    "#         partial(MlM_gen, cxt_len=3),\n",
    "#         partial(_cxt2str, prefix='There are ', item2str=lambda item, vocab: f\"{item[1]}'s {item[0]}\"),\n",
    "#         lambda query, vocab: f\"So whose {query}\",\n",
    "#     ), \n",
    "    (lambda: [[TreeSet(types_of_things).subclass], [EqSet(persons).equal]], partial(MlM_gen, cxt_len=3),\n",
    "     partial(_cxt2str, sep='. ', item2str=lambda i, _: f\"The {i[0]} is {i[1]}'s\"), lambda q, _: f'So the {q} belongs', 'Ġto'\n",
    "    ), \n",
    "    (lambda: [[EqSet(persons).equal], [SymSet(person_adjs).opposite]], partial(g2c(MlM_gen), cxt_len=3),\n",
    "     partial(_cxt2str, sep='. ', item2str=lambda i, _: f'{i[0]} is {i[1]}'), lambda q, _: f'So is {q[0]} {q[1]}', '?'\n",
    "    ), # c << g. cxt_len=3->2, gpt-j/neox better, davinci-001/002 worse!?\n",
    "    (lambda: [[EqSet(persons).equal], [SymSet(person_adjs).opposite]], partial(MlM_gen, cxt_len=3),\n",
    "     partial(_cxt2str, sep='. ', item2str=lambda i, _: f'{i[0]} is {i[1]}'), lambda q, _: f'So {q} is', 'Ġnot'\n",
    "    ), # verbose acc: gpj-j > curie-001 > davinci-001 > gpt-neox!? abstract acc: gpt-neox > gpt-j\n",
    "    (lambda: [[SymSet(person_adjs).equal], [EqSet(persons).equal]], partial(MlM_gen, cxt_len=3),\n",
    "     partial(_cxt2str, item2str=lambda i, _: f'{i[1]} is {i[0]}'), lambda q, _: f'So who is {}', '?'\n",
    "    ),  # gpt-neox good\n",
    "    (lambda: [[EqSet(persons).equal], [SymSet(person_adjs).equal]], partial(MlM_gen, cxt_len=3),\n",
    "     partial(_cxt2str, prefix='There are ', item2str=lambda i, _: f'{i[1]} {i[0]}'), lambda q, _: f'So {q}', 'Ġis'\n",
    "    ),\n",
    "#     (lambda: [[EqSet(persons).equal], [PoSet(digits).equal], [EqSet(persons).equal]],\n",
    "#         partial(g2c(IlMlI_gen), cxt_len=3),\n",
    "#         partial(_cxt2str, item2str=lambda item, vocab: f'{item[0]} {item[1]}'),\n",
    "#         lambda query, vocab: f'{query[0]} and {query[1]} are same?'\n",
    "#     ),\n",
    "#     (lambda: [[EqSet(persons).equal], [PoSet(digits).equal], [EqSet(persons).equal]],\n",
    "#         partial(IlMlI_gen, cxt_len=3),\n",
    "#         partial(_cxt2str, item2str=lambda item, vocab: f'{item[0]} is {item[1]}'),\n",
    "#         lambda query, vocab: f'{query} is the same as', # bare query is better for gpt-neox!?\n",
    "#     ),\n",
    "    (lambda: [[EqSet(persons).equal], [BijectSet(capabilities).proj]], partial(MlM_gen, cxt_len=2),\n",
    "     partial(_cxt2str, sep='. ', item2str=lambda i, _: f'{i[0]} has {add_a_or_an(i[1])}'), lambda q, _: f'So {q}', 'Ġcan'\n",
    "    ),  # even davinci-001 is not very good\n",
    "    (lambda: [[EqSet(persons).equal], [BijectSet([(vt.did, vt.does) for vt in verb_tenses]).proj]], partial(MlM_gen, cxt_len=3),\n",
    "     partial(_cxt2str, sep='. '), lambda q, _: f'{q}', 'Ġusually'\n",
    "    ),\n",
    "    (lambda: [[EqSet(persons).equal], [BijectSet(country2capital).inv_proj]], partial(MlM_gen, cxt_len=3),\n",
    "     partial(_cxt2str, sep='. ', item2str=lambda i, _: f'{i[0]} lives in {i[1]}'), lambda q, _: f'{q} is', 'Ġfrom'\n",
    "    ), # best performance among all tasks by all models\n",
    "    (lambda: [[EqSet(persons).equal], [BijectSet(city2resident).proj]], partial(MlM_gen, cxt_len=3),\n",
    "     partial(_cxt2str, sep='. ', item2str=lambda i, _: f'{i[0]} lives in {i[1]}'), lambda q, _: f'{q}', 'Ġis'\n",
    "    ), # a little worse than capital -> country\n",
    "]\n",
    "# bos_token = 'Ġ->'; eos_token = None #'Ċ'"
   ]
  },
  {
   "cell_type": "code",
   "execution_count": null,
   "id": "3f11917f",
   "metadata": {},
   "outputs": [],
   "source": [
    "# item[0]\n",
    "TreeSet(types_of_things), TreeSet(name_genders), TreeSet(name_prons), # resolve iu in speech\n",
    "# item[1]\n",
    "SymSet(person_adjs).opposite, PoSet(), BijectSet(capabilities), BijectSet(verb_tenses)\n",
    "BijectSet(country_capitals), BijectSet(place_landmarks), BijectSet(sport_players) # count"
   ]
  },
  {
   "cell_type": "code",
   "execution_count": 998,
   "id": "c2478b59",
   "metadata": {},
   "outputs": [],
   "source": [
    "# del country2capital\n",
    "del city2resident; from child_utils import city2resident"
   ]
  },
  {
   "cell_type": "code",
   "execution_count": 1000,
   "id": "403baf5a",
   "metadata": {},
   "outputs": [
    {
     "name": "stdout",
     "output_type": "stream",
     "text": [
      "[(0, 6), (2, 4), (1, 2)]\n"
     ]
    },
    {
     "data": {
      "image/png": "[encoded data removed]",
      "text/plain": [
       "<Figure size 1000x70 with 1 Axes>"
      ]
     },
     "metadata": {},
     "output_type": "display_data"
    },
    {
     "name": "stdout",
     "output_type": "stream",
     "text": [
      "[(2, 5), (0, 5), (1, 2)]\n"
     ]
    },
    {
     "data": {
      "image/png": "[encoded data removed]",
      "text/plain": [
       "<Figure size 1000x70 with 1 Axes>"
      ]
     },
     "metadata": {},
     "output_type": "display_data"
    },
    {
     "name": "stdout",
     "output_type": "stream",
     "text": [
      "[(2, 5), (1, 4), (0, 3)]\n"
     ]
    },
    {
     "data": {
      "image/png": "[encoded data removed]",
      "text/plain": [
       "<Figure size 1000x70 with 1 Axes>"
      ]
     },
     "metadata": {},
     "output_type": "display_data"
    },
    {
     "name": "stdout",
     "output_type": "stream",
     "text": [
      "Colten lives in Mexico City. Mazikeen lives in Canberra. Wrenley lives in Lisbon. Colten is Mexican\n",
      "Presley lives in Ottawa. Everleigh lives in Washington, D.C. Anthony lives in Berlin. Everleigh is American\n",
      "Kyleigh lives in Manila. Marleigh lives in Bern. Maryam lives in Ankara. Maryam is Turkish\n",
      "Haven lives in Cairo. Frances lives in Mexico City. Laurel lives in Bangkok. Laurel is Thai\n",
      "Amiyah lives in Brasília. Ariella lives in Madrid. Rebekah lives in Bern. Amiyah is Brazilian\n",
      "Isla lives in Cairo. Cal lives in Manila. Khaleesi lives in Madrid. Cal is Filipino\n",
      "Daleyza lives in Beijing. Rachel lives in Mexico City. Gordon lives in Seoul. Daleyza is Chinese\n",
      "Jane lives in Mexico City. Leilany lives in Paris. Charleigh lives in Tokyo. Leilany is French\n",
      "Kiera lives in Madrid. Lauryn lives in Brasília. Boston lives in Mexico City. Lauryn is Brazilian\n",
      "Marley lives in Mexico City. Karson lives in Rome. Jakai lives in Bangkok. Jakai is Thai\n",
      "Nala lives in New Delhi. Haisley lives in Cairo. Henry lives in Paris. Henry is French\n",
      "Veronica lives in New Delhi. Banks lives in Paris. Ellis lives in Washington, D.C. Ellis is American\n",
      "\n"
     ]
    }
   ],
   "source": [
    "seed(1234+1)\n",
    "batch_size = 3; texts = []; _examples_list = []\n",
    "for i in range(batch_size * 3):\n",
    "    task = tasks[-1]; cxt_len = task[1].keywords['cxt_len']; nrows = 12; k_shot = 3; abstract = 0\n",
    "    vocabs, _examples = make_examples(task, nrows=nrows)\n",
    "    answer_indices = [cands[0].index(ans) for _, _, cands, ans in _examples]\n",
    "    counts = [v for k, v in Counter(answer_indices).most_common()]\n",
    "    if len(counts) < cxt_len or counts[-1] == 1 or counts[0] > counts[-1] * 3: continue\n",
    "    if batch_size < 10:\n",
    "        print(Counter(answer_indices).most_common())\n",
    "        label_probs = F.one_hot(torch.LongTensor(answer_indices))\n",
    "        _ = plt.figure(figsize=(10, 0.7));\n",
    "        _ = sns.heatmap(label_probs.T, cbar=False); plt.show()\n",
    "    text = make_input_str(task, vocabs, _examples, abstract=abstract)\n",
    "    bos_token, eos_token = (lget(task, 4, '?'), lget(task, 6, None)) if abstract == 0 else ('Ġ->', None)\n",
    "    texts.append(text); _examples_list.append(_examples)\n",
    "    if len(texts) == batch_size: print(text[:3000]); break"
   ]
  },
  {
   "cell_type": "code",
   "execution_count": null,
   "id": "3cfd0880",
   "metadata": {},
   "outputs": [],
   "source": [
    "data_tuples = [predict(model, tokenizer, text, _examples, k_shot=k_shot, bos_token=bos_token, eos_token=eos_token)\n",
    "    for text, _examples in zip(texts, _examples_list)]"
   ]
  },
  {
   "cell_type": "code",
   "execution_count": 1007,
   "id": "07593073",
   "metadata": {},
   "outputs": [],
   "source": [
    "demonyms = defaultdict(list)\n",
    "for resident, country in csv.reader(open('demonyms.csv')):\n",
    "    demonyms[country].append(resident)"
   ]
  },
  {
   "cell_type": "code",
   "execution_count": 1006,
   "id": "9e68100c",
   "metadata": {
    "scrolled": false
   },
   "outputs": [
    {
     "name": "stdout",
     "output_type": "stream",
     "text": [
      "pmapped batch_predict ... done 0:00:00.000030\n",
      " ĠSpani 0.0 {'Ġa': 0.222, 'Ġthe': 0.112, 'Ġmarried': 0.072} \t Russell lives in Madrid. Kody lives in Moscow. Julius lives in Tokyo. Russell is Spaniard\n",
      " ĠEgyptian 0.111 {'Ġa': 0.183, 'ĠEgyptian': 0.111, 'ĠSouth': 0.076} \t Thomas lives in Paris. Mercy lives in Pretoria. Kyrie lives in Cairo. Kyrie is Egyptian\n",
      " ĠPortuguese 0.006 {'ĠIndian': 0.355, 'ĠBritish': 0.115, 'ĠEnglish': 0.102} \t Arjun lives in Lisbon. Collins lives in Canberra. Kailani lives in London. Arjun is Portuguese\n",
      " ĠJapanese 0.196 {'ĠItalian': 0.251, 'ĠJapanese': 0.196, 'ĠAmerican': 0.143} \t Braylee lives in Tokyo. Beau lives in Rome. Diana lives in Washington, D.C. Braylee is Japanese\n",
      " ĠJapanese 0.211 {'ĠItalian': 0.289, 'ĠJapanese': 0.211, 'ĠPortuguese': 0.128} \t Nayeli lives in Berlin. Antonio lives in Lisbon. Giovanna lives in Tokyo. Giovanna is Japanese\n",
      "*ĠSouth 0.871 {'ĠSouth': 0.871, 'ĠPortuguese': 0.026, 'Ġa': 0.015} \t Preston lives in Madrid. Nataly lives in Rome. Allen lives in Pretoria. Allen is South African\n",
      "*ĠSouth 0.842 {'ĠSouth': 0.842, 'Ġfrom': 0.021, 'ĠAfrican': 0.014} \t Annabella lives in Ankara. Tucker lives in Pretoria. Winston lives in Rome. Tucker is South African\n",
      " ĠKorean 0.06 {'ĠThai': 0.474, 'ĠSouth': 0.224, 'ĠFilip': 0.073} \t Judson lives in Manila. Ares lives in Seoul. Cali lives in Bangkok. Ares is Korean\n",
      "*ĠJapanese 0.438 {'ĠJapanese': 0.438, 'ĠPortuguese': 0.056, 'ĠFilip': 0.036} \t Michaela lives in Tokyo. Hassan lives in Lisbon. Wylder lives in London. Michaela is Japanese\n",
      "*ĠEgyptian 0.857 {'ĠEgyptian': 0.857, 'ĠBrazilian': 0.024, 'ĠAfrican': 0.016} \t Presley lives in Berlin. Milani lives in Brasília. Kayson lives in Cairo. Kayson is Egyptian\n",
      " ĠBritish 0.006 {'ĠKorean': 0.423, 'ĠFilip': 0.188, 'ĠJapanese': 0.156} \t Isabella lives in London. Elyse lives in Seoul. Kara lives in Manila. Isabella is British\n",
      " ĠAmerican 0.122 {'ĠKen': 0.426, 'ĠBritish': 0.167, 'ĠAmerican': 0.122} \t Kyle lives in Washington, D.C. Delaney lives in Lisbon. Alia lives in Nairobi. Kyle is American\n",
      "1.6038970947265625\n",
      " ĠKorean 0.0 {'Ġa': 0.25, 'Ġthe': 0.151, 'Ġan': 0.043} \t Emerald lives in Madrid. Valeria lives in Lisbon. Matilda lives in Seoul. Matilda is Korean\n",
      " ĠTurkish 0.08 {'ĠCanadian': 0.123, 'Ġfrom': 0.09, 'ĠTurkish': 0.08} \t Nico lives in Ankara. Ridge lives in Pretoria. Abigail lives in Ottawa. Nico is Turkish\n",
      " ĠFrench 0.016 {'ĠRussian': 0.521, 'Ċ': 0.149, 'ĠUkrainian': 0.038} \t Katalina lives in Paris. Scarlett lives in Berlin. Alondra lives in Moscow. Katalina is French\n",
      " ĠEgyptian 0.137 {'Ċ': 0.212, 'ĠEgyptian': 0.137, 'ĠSpanish': 0.069} \t Enzo lives in London. Guillermo lives in Cairo. Taytum lives in Washington, D.C. Guillermo is Egyptian\n",
      " ĠEgyptian 0.004 {'ĠKen': 0.624, 'ĠAmerican': 0.108, 'ĠAfrican': 0.042} \t Aubree lives in Cairo. Lian lives in Washington, D.C. Anders lives in Nairobi. Aubree is Egyptian\n",
      " ĠTurkish 0.228 {'ĠMexican': 0.426, 'ĠTurkish': 0.228, 'ĠIranian': 0.037} \t Cannon lives in Beijing. Jonas lives in Ankara. Amirah lives in Mexico City. Jonas is Turkish\n",
      "*ĠGerman 0.719 {'ĠGerman': 0.719, 'ĠAmerican': 0.133, 'ĠCanadian': 0.026} \t Zoya lives in Seoul. Cason lives in Ottawa. Caden lives in Berlin. Caden is German\n",
      "*ĠFilip 0.835 {'ĠFilip': 0.835, 'ĠAmerican': 0.078, 'ĠCanadian': 0.013} \t Zayla lives in Madrid. Owen lives in Rome. Blaine lives in Manila. Blaine is Filipino\n",
      "*ĠGerman 0.621 {'ĠGerman': 0.621, 'ĠAmerican': 0.13, 'ĠFilip': 0.07} \t Cade lives in Berlin. Sloane lives in Cairo. Valentina lives in New Delhi. Cade is German\n",
      "*ĠPortuguese 0.766 {'ĠPortuguese': 0.766, 'ĠBrazilian': 0.052, 'ĠIsraeli': 0.036} \t Madisyn lives in Cairo. Yehuda lives in Moscow. Archer lives in Lisbon. Archer is Portuguese\n",
      "*ĠRussian 0.844 {'ĠRussian': 0.844, 'ĠFrench': 0.018, 'ĠAmerican': 0.014} \t Briella lives in Tokyo. Conor lives in Washington, D.C. Dax lives in Moscow. Dax is Russian\n",
      " ĠFilip 0.049 {'ĠGerman': 0.183, 'ĠSwiss': 0.142, 'ĠItalian': 0.126} \t Catherine lives in Manila. Oscar lives in Rome. Lucia lives in Bern. Catherine is Filipino\n",
      "1.4858381748199463\n",
      " ĠMexican 0.0 {'Ġa': 0.257, 'Ġthe': 0.114, 'Ġan': 0.054} \t Colten lives in Mexico City. Mazikeen lives in Canberra. Wrenley lives in Lisbon. Colten is Mexican\n",
      "*ĠAmerican 0.088 {'ĠAmerican': 0.088, 'ĠGerman': 0.083, 'ĠCanadian': 0.069} \t Presley lives in Ottawa. Everleigh lives in Washington, D.C. Anthony lives in Berlin. Everleigh is American\n",
      "*ĠTurkish 0.436 {'ĠTurkish': 0.436, 'ĠIranian': 0.097, 'Ġfrom': 0.036} \t Kyleigh lives in Manila. Marleigh lives in Bern. Maryam lives in Ankara. Maryam is Turkish\n",
      "*ĠThai 0.881 {'ĠThai': 0.881, 'ĠAmerican': 0.032, 'ĠAustralian': 0.007} \t Haven lives in Cairo. Frances lives in Mexico City. Laurel lives in Bangkok. Laurel is Thai\n",
      " ĠBrazilian 0.091 {'ĠAmerican': 0.205, 'ĠBrazilian': 0.091, 'ĠThai': 0.063} \t Amiyah lives in Brasília. Ariella lives in Madrid. Rebekah lives in Bern. Amiyah is Brazilian\n",
      "*ĠFilip 0.309 {'ĠFilip': 0.309, 'ĠSpanish': 0.213, 'ĠMexican': 0.166} \t Isla lives in Cairo. Cal lives in Manila. Khaleesi lives in Madrid. Cal is Filipino\n",
      " ĠChinese 0.017 {'ĠFilip': 0.245, 'ĠMexican': 0.158, 'ĠAmerican': 0.051} \t Daleyza lives in Beijing. Rachel lives in Mexico City. Gordon lives in Seoul. Daleyza is Chinese\n",
      " ĠFrench 0.213 {'ĠJapanese': 0.424, 'ĠFrench': 0.213, 'ĠFilip': 0.084} \t Jane lives in Mexico City. Leilany lives in Paris. Charleigh lives in Tokyo. Leilany is French\n",
      "*ĠBrazilian 0.697 {'ĠBrazilian': 0.697, 'ĠAmerican': 0.165, 'ĠCanadian': 0.015} \t Kiera lives in Madrid. Lauryn lives in Brasília. Boston lives in Mexico City. Lauryn is Brazilian\n",
      "*ĠThai 0.866 {'ĠThai': 0.866, 'ĠIndonesian': 0.018, 'ĠJapanese': 0.017} \t Marley lives in Mexico City. Karson lives in Rome. Jakai lives in Bangkok. Jakai is Thai\n",
      "*ĠFrench 0.875 {'ĠFrench': 0.875, 'ĠAmerican': 0.032, 'ĠCanadian': 0.009} \t Nala lives in New Delhi. Haisley lives in Cairo. Henry lives in Paris. Henry is French\n",
      "*ĠAmerican 0.936 {'ĠAmerican': 0.936, 'Ċ': 0.008, 'ĠEnglish': 0.006} \t Veronica lives in New Delhi. Banks lives in Paris. Ellis lives in Washington, D.C. Ellis is American\n",
      "1.1155048608779907\n"
     ]
    },
    {
     "data": {
      "image/png": "[encoded data removed]",
      "text/plain": [
       "<Figure size 1000x240 with 2 Axes>"
      ]
     },
     "metadata": {},
     "output_type": "display_data"
    },
    {
     "data": {
      "image/png": "[encoded data removed]",
      "text/plain": [
       "<Figure size 1000x240 with 2 Axes>"
      ]
     },
     "metadata": {},
     "output_type": "display_data"
    },
    {
     "data": {
      "image/png": "[encoded data removed]",
      "text/plain": [
       "<Figure size 1000x240 with 2 Axes>"
      ]
     },
     "metadata": {},
     "output_type": "display_data"
    }
   ],
   "source": [
    "seed(1234)#; torch.cuda.empty_cache()\n",
    "model_names = ['EleutherAI/gpt-j-6B/cpu', 'EleutherAI/gpt-neox-20b', #'EleutherAI/gpt-neox-20b/cpu', \n",
    "               'text-curie-001', 'text-davinci-001', 'text-davinci-002'][1:2]\n",
    "metrics = dict(losses=defaultdict(list), accuracies=defaultdict(list))\n",
    "\n",
    "def batch_predict(model, tokenizer):\n",
    "    return [predict(model, tokenizer, text, _examples, k_shot=k_shot,\n",
    "                    bos_token=bos_token, eos_token=eos_token, verbose=len(model_names) == 1)[1]\n",
    "            for text, _examples in zip(texts, _examples_list)]\n",
    "    \n",
    "with Timer('pmapped batch_predict'):\n",
    "    parallel = len(model_names) > 1\n",
    "    pool = Pool(len(model_names)) if parallel else itertools  # with Pool(len(model_names)) as pool:\n",
    "    results = pool.starmap(batch_predict, [models[model_name] for model_name in model_names])\n",
    "    if parallel: pool.close(); pool.join()\n",
    "            \n",
    "# query2acc, query2loss = defaultdict(list), defaultdict(list)\n",
    "for model_name, r in zip(model_names, results):\n",
    "    _, tokenizer = models[model_name]\n",
    "    for i, (loss, top1_corrects, answer_indices, answer_probs, candidate_probs) in enumerate(r):#.get()\n",
    "        if len(model_names) == 1: #batch_size == 1:\n",
    "            f, (ax0, ax1) = plt.subplots(2, 1, figsize=(10, 2.4), sharex=True)\n",
    "            x = [i + 0.5 for i in range(nrows)] # to align with sns.heatmap\n",
    "            _ = ax0.bar(x, top1_corrects, width=0.9, alpha=0.5);\n",
    "            _ = ax0.plot(x, answer_probs, color='r');\n",
    "            label_probs = F.one_hot(torch.LongTensor(answer_indices))\n",
    "            _ = sns.heatmap(torch.cat([label_probs, torch.Tensor(candidate_probs)], dim=1).T, cbar=False, ax=ax1);\n",
    "            plt.show()\n",
    "        acc = top1_corrects[k_shot:] # np.array(top1_corrects[k_shot:]).mean()\n",
    "        metrics['losses'][model_name].append(loss); metrics['accuracies'][model_name].append(acc)\n",
    "        if batch_size == 1: print(model_name, loss, acc)\n",
    "#         queries = [e[1] for e in _examples_list[i]][k_shot:]\n",
    "#         for q, a, l in zip(queries, acc, loss): query2acc[q].append(float(a)); query2loss[q].append(l)\n",
    "# print(sorted([(q, np.array(v).mean()) for q, v in query2acc.items()], key=lambda x: x[1]))"
   ]
  },
  {
   "cell_type": "code",
   "execution_count": 1003,
   "id": "89581697",
   "metadata": {},
   "outputs": [
    {
     "name": "stdout",
     "output_type": "stream",
     "text": [
      "accuracies EleutherAI/gpt-j-6B/cpu 0.5555555555555556\n",
      "accuracies EleutherAI/gpt-neox-20b 0.5555555555555556\n",
      "accuracies text-curie-001 0.6296296296296297\n",
      "losses EleutherAI/gpt-j-6B/cpu 1.6929744482040405\n",
      "losses EleutherAI/gpt-neox-20b 1.4017467101414998\n",
      "losses text-curie-001 2.1084763496344445\n"
     ]
    }
   ],
   "source": [
    "for metric in ['accuracies', 'losses']:\n",
    "    for model_name in model_names[:]:\n",
    "        print(metric, model_name, np.array(metrics[metric][model_name]).mean())"
   ]
  },
  {
   "cell_type": "code",
   "execution_count": 1005,
   "id": "ea9cc6e0",
   "metadata": {},
   "outputs": [
    {
     "name": "stdout",
     "output_type": "stream",
     "text": [
      "accuracies text-davinci-001 0.6666666666666666\n",
      "losses text-davinci-001 0.9994141624059258\n"
     ]
    }
   ],
   "source": [
    "for metric in ['accuracies', 'losses']:\n",
    "    for model_name in model_names[:]:\n",
    "        print(metric, model_name, np.array(metrics[metric][model_name]).mean())"
   ]
  },
  {
   "cell_type": "code",
   "execution_count": 129,
   "id": "4cf1f659",
   "metadata": {},
   "outputs": [],
   "source": [
    "def cmp(a, b):\n",
    "    print(a.dtype, a.size(), b.dtype, b.size())\n",
    "    print('allclose:', torch.allclose(a, b), 'equal:', torch.equal(a, b))\n",
    "    print((a == b).float().mean())\n",
    "    print((a - b).float().abs().mean(), a.float().abs().mean(), b.float().abs().mean())\n",
    "#     print((a - b).max(), (a - b).min())\n",
    "#     print(a[a - b == (a - b).max()])\n",
    "#     print(a[a - b == (a - b).min()])"
   ]
  },
  {
   "cell_type": "code",
   "execution_count": 47,
   "id": "e9cc4497",
   "metadata": {
    "collapsed": true
   },
   "outputs": [
    {
     "name": "stdout",
     "output_type": "stream",
     "text": [
      " ... done 0:00:02.348918\n",
      " ... done 0:00:01.659792\n",
      " ĠJ 0.032 {'Ċ': 0.074, 'ĠS': 0.038, 'Ġ': 0.036} \t S J Y -> J\n",
      "*ĠN 0.429 {'ĠN': 0.429, 'ĠR': 0.223, 'ĠA': 0.074} \t A N R -> N\n",
      " ĠC 0.247 {'ĠV': 0.649, 'ĠC': 0.247, 'ĠB': 0.018} \t B C V -> C\n",
      "*ĠT 0.443 {'ĠT': 0.443, 'ĠK': 0.393, 'ĠS': 0.085} \t S T K -> T\n",
      "*ĠR 0.839 {'ĠR': 0.839, 'ĠT': 0.099, 'ĠA': 0.021} \t A R T -> R\n",
      "*ĠH 0.562 {'ĠH': 0.562, 'ĠQ': 0.278, 'ĠE': 0.112} \t E H Q -> H\n",
      "*ĠO 0.792 {'ĠO': 0.792, 'ĠF': 0.161, 'ĠN': 0.013} \t N O F -> O\n",
      "*ĠA 0.626 {'ĠA': 0.626, 'ĠI': 0.225, 'ĠY': 0.11} \t Y A I -> A\n",
      "\n",
      "\n",
      " ĠJ 0.032 {'Ċ': 0.074, 'ĠS': 0.038, 'Ġ': 0.036} \t S J Y -> J\n",
      "*ĠN 0.429 {'ĠN': 0.429, 'ĠR': 0.223, 'ĠA': 0.074} \t A N R -> N\n",
      " ĠC 0.247 {'ĠV': 0.649, 'ĠC': 0.247, 'ĠB': 0.018} \t B C V -> C\n",
      "*ĠT 0.443 {'ĠT': 0.443, 'ĠK': 0.393, 'ĠS': 0.085} \t S T K -> T\n",
      "*ĠR 0.839 {'ĠR': 0.839, 'ĠT': 0.099, 'ĠA': 0.021} \t A R T -> R\n",
      "*ĠH 0.562 {'ĠH': 0.562, 'ĠQ': 0.278, 'ĠE': 0.112} \t E H Q -> H\n",
      "*ĠO 0.792 {'ĠO': 0.792, 'ĠF': 0.161, 'ĠN': 0.013} \t N O F -> O\n",
      "*ĠA 0.626 {'ĠA': 0.626, 'ĠI': 0.225, 'ĠY': 0.11} \t Y A I -> A\n",
      "\n",
      "\n"
     ]
    }
   ],
   "source": [
    "# text, _examples = texts[0], _examples_list[0]\n",
    "torch.cuda.empty_cache()\n",
    "if True: #def predict2(model, tokenizer, text, _examples):\n",
    "    examples, input_ids, tokens, bos_indices, eos_indices, answers, labels = make_data_tuple(\n",
    "        text, tokenizer, k_shot=k_shot, bos_token=bos_token, eos_token=eos_token)\n",
    "    candidates = [[tokenizer.encode(' ' + token)[0] for token in cands[0]] for _, _, cands, _ in _examples]\n",
    "    with torch.no_grad():\n",
    "        with Timer(): o0 = model(input_ids.to(model.device), output_attentions=True, output_hidden_states=True)\n",
    "        with Timer(): o1 = forward0(model, input_ids.to(model.device), labels=labels.to(model.device),\n",
    "                by_head=['head_input0', 'head_output0'], attn_weights=None, output_hidden_states=True)\n",
    "        for o in [o0, o1]:\n",
    "            logits = o.logits\n",
    "            if isinstance(logits, torch.Tensor): logits = logits.to('cpu').float()# softmax on cpu needs float32\n",
    "            loss, top1_corrects, answer_probs, candidate_probs = show_predictions(\n",
    "                examples, tokenizer, logits, bos_indices, eos_indices, answers, labels, loss_reduction='none',\n",
    "                candidates=candidates, k_shot=k_shot, topk=3, verbose=True)\n",
    "            print('\\n')\n",
    "#     return loss, top1_corrects, answer_probs, candidate_probs"
   ]
  },
  {
   "cell_type": "code",
   "execution_count": 69,
   "id": "9a74c135",
   "metadata": {},
   "outputs": [],
   "source": []
  },
  {
   "cell_type": "code",
   "execution_count": 176,
   "id": "20a661b0",
   "metadata": {},
   "outputs": [
    {
     "name": "stdout",
     "output_type": "stream",
     "text": [
      "accuracies EleutherAI/gpt-j-6B 0.4976851851851852\n",
      "accuracies EleutherAI/gpt-neox-20b 0.5023148148148148\n",
      "accuracies text-davinci-001 0.48148148148148145\n",
      "accuracies text-davinci-002 0.9675925925925926\n",
      "losses EleutherAI/gpt-j-6B 1.3536101162543572\n",
      "losses EleutherAI/gpt-neox-20b 1.1634638377252957\n",
      "losses text-davinci-001 1.687816629922939\n",
      "losses text-davinci-002 0.1085046497381794\n"
     ]
    }
   ],
   "source": [
    "for metric in ['accuracies', 'losses']:\n",
    "    for model_name in model_names[:]:\n",
    "        print(metric, model_name, np.array(metrics[metric][model_name]).mean())"
   ]
  },
  {
   "cell_type": "code",
   "execution_count": 136,
   "id": "26aaa1d4",
   "metadata": {},
   "outputs": [
    {
     "name": "stdout",
     "output_type": "stream",
     "text": [
      "accuracies EleutherAI/gpt-j-6B 0.6203703703703703\n",
      "accuracies EleutherAI/gpt-neox-20b 0.7083333333333334\n",
      "accuracies text-curie-001 0.5879629629629629\n",
      "losses EleutherAI/gpt-j-6B 1.5619440356433054\n",
      "losses EleutherAI/gpt-neox-20b 1.0779137232247094\n",
      "losses text-curie-001 3.1073556870623844\n"
     ]
    }
   ],
   "source": [
    "for metric in ['accuracies', 'losses']:\n",
    "    for model_name in model_names[:]:\n",
    "        print(metric, model_name, np.array(metrics[metric][model_name])[:,:27].mean())"
   ]
  },
  {
   "cell_type": "code",
   "execution_count": 191,
   "id": "0cba876d",
   "metadata": {},
   "outputs": [
    {
     "data": {
      "image/png": "[encoded data removed]",
      "text/plain": [
       "<Figure size 1000x300 with 1 Axes>"
      ]
     },
     "metadata": {},
     "output_type": "display_data"
    },
    {
     "data": {
      "image/png": "[encoded data removed]",
      "text/plain": [
       "<Figure size 1000x300 with 1 Axes>"
      ]
     },
     "metadata": {},
     "output_type": "display_data"
    }
   ],
   "source": [
    "for metric in ['accuracies', 'losses']:\n",
    "    _ = plt.figure(figsize=(10, 3));\n",
    "    for model_name in model_names[:2]:\n",
    "        plt.plot(np.array(metrics[metric][model_name])[:].mean(0), label=f'{model_name}');\n",
    "    _ = plt.legend();  _ = plt.title(metric); _ = plt.show();"
   ]
  },
  {
   "cell_type": "code",
   "execution_count": 11,
   "id": "60515185",
   "metadata": {},
   "outputs": [],
   "source": [
    "time2prep = {tuple(clock_of_day): 'at', tuple(days_of_week): 'on', tuple(months): 'in'}\n",
    "def lookup_item2str(item, vocab=None):\n",
    "    if vocab[0] in [clock_of_day, days_of_week, months]:\n",
    "        prep = time2prep[tuple(vocab[0])]\n",
    "        return f'{item[1]} came {prep} {item[0]}'\n",
    "    elif vocab[0] == digits:\n",
    "        return f'{item[1]} is {item[0]}'\n",
    "def lookup_query2str(query, vocab=None, rel_name=None):\n",
    "    if vocab[0] in [clock_of_day, days_of_week, months]:\n",
    "        prep = time2prep[tuple(vocab[0])]\n",
    "        prep = {'prev': 'just before', 'next': 'just after', 'same': prep}[rel_name]\n",
    "        return f'Who came {prep} {query}?'\n",
    "    elif vocab[0] == digits:\n",
    "        prep = {'prev': 'a year younger than', 'next': 'a year younger than', 'same': ''}[rel_name]\n",
    "        return f'Who is {prep} {query}'"
   ]
  },
  {
   "cell_type": "code",
   "execution_count": 81,
   "id": "1ed9c29d",
   "metadata": {},
   "outputs": [],
   "source": [
    "text = '''Aaren is a boy. Harlow is a girl.\n",
    "Harlow called Aaren.\n",
    "Harlow: \"Are you a girl?\"\n",
    "Aaren: \"'''\n",
    "model_name = 'EleutherAI/gpt-j-6B'\n",
    "model, tokenizer = models[model_name]\n",
    "input_ids = tokenizer.encode(text, return_tensors='pt')\n",
    "logits = model(input_ids.to(getattr(model, 'device', 'cpu'))).logits"
   ]
  },
  {
   "cell_type": "code",
   "execution_count": 80,
   "id": "6e43fb02",
   "metadata": {},
   "outputs": [
    {
     "data": {
      "text/plain": [
       "{'Yes': 0.35, 'No': 0.226, 'Yeah': 0.078, 'I': 0.078, 'Y': 0.021}"
      ]
     },
     "execution_count": 80,
     "metadata": {},
     "output_type": "execute_result"
    }
   ],
   "source": [
    "show_topk(*logits[0][-1].softmax(-1).topk(5), indices_fn=tokenizer.convert_ids_to_tokens)"
   ]
  },
  {
   "cell_type": "code",
   "execution_count": 75,
   "id": "6c3d4809",
   "metadata": {},
   "outputs": [
    {
     "data": {
      "text/plain": [
       "{'No': 0.824, 'Yes': 0.115, 'I': 0.04, 'What': 0.006, ' No': 0.003}"
      ]
     },
     "execution_count": 75,
     "metadata": {},
     "output_type": "execute_result"
    }
   ],
   "source": [
    "get_prob_dist(logits.top_logprobs[-1], 5)"
   ]
  },
  {
   "cell_type": "code",
   "execution_count": 155,
   "id": "2e5780be",
   "metadata": {},
   "outputs": [
    {
     "data": {
      "text/plain": [
       "[('▁The', 37),\n",
       " ('▁capital', 1784),\n",
       " ('▁of', 13),\n",
       " ('▁Canada', 1894),\n",
       " ('▁is', 19),\n",
       " ('</s>', 1)]"
      ]
     },
     "execution_count": 155,
     "metadata": {},
     "output_type": "execute_result"
    },
    {
     "data": {
      "text/plain": [
       "'Ottawa. It is the largest city in Canada'"
      ]
     },
     "execution_count": 155,
     "metadata": {},
     "output_type": "execute_result"
    }
   ],
   "source": [
    "text = 'The capital of Canada is'\n",
    "input_ids = tokenizer(text, return_tensors='pt').input_ids\n",
    "list(zip(tokenizer.convert_ids_to_tokens(input_ids[0]), input_ids[0].numpy()))\n",
    "outputs = model.generate(input_ids, max_length=10)\n",
    "tokenizer.decode(outputs[0], skip_special_tokens=True)"
   ]
  },
  {
   "cell_type": "code",
   "execution_count": 478,
   "id": "8c9c689c",
   "metadata": {},
   "outputs": [],
   "source": [
    "# nrows = 5; k_shot = nrows // 2 + 1\n",
    "# for pairs in [drop_first_and_last, ]:\n",
    "nrows = 6;  k_shot = 3\n",
    "for pairs in reversible_transformations + irreversible_transformations:\n",
    "    seps = [' -> ', '->'] if random.random() < 0.5 else ['->', ' -> ']\n",
    "    # seps = [' -> ', ' -> ']\n",
    "    samples = ['\\n' + '\\n'.join(a + seps[0] + b for a, b in sample(pairs, nrows)) + '\\n']\n",
    "    for s in samples: data_tuples.append(list(make_data_tuple(s, tokenizer, k_shot=k_shot, bos_token=tokenizer.tokenize(seps[0])[0])))\n",
    "    samples = ['\\n' + '\\n'.join(b + seps[1] + a for a, b in sample(pairs, nrows)) + '\\n' if pairs in reversible_transformations else \n",
    "                '\\n' + '\\n'.join(a + seps[1] + b for a, b in sample(pairs, nrows)) + '\\n']\n",
    "    for s in samples: data_tuples.append(list(make_data_tuple(s, tokenizer, k_shot=k_shot, bos_token=tokenizer.tokenize(seps[1])[0])))"
   ]
  },
  {
   "cell_type": "code",
   "execution_count": null,
   "id": "da2f807e",
   "metadata": {},
   "outputs": [],
   "source": [
    "# # sys.path.insert(0, '/nas/xd/projects/ec')\n",
    "# from child_utils import loadPBETasks, retrieveJSONTasks\n",
    "# challenge, challengeCheating = loadPBETasks('/nas/xd/projects/ec/PBE_Strings_Track')\n",
    "# challenge2, challengeCheating2 = loadPBETasks('/nas/xd/projects/ec/data/sygus')\n",
    "# tasks = retrieveJSONTasks(\"/nas/xd/projects/ec/data/list_tasks.json\")\n",
    "# tasks2 = retrieveJSONTasks(\"/nas/xd/projects/ec/data/list_tasks2.json\")"
   ]
  },
  {
   "cell_type": "code",
   "execution_count": null,
   "id": "e1ff8618",
   "metadata": {},
   "outputs": [],
   "source": [
    "from lxy_utils import get_examples_behind, get_examples_before, get_examples_query_before, \\\n",
    "    get_examples_query_behid, get_examples_query_repeat"
   ]
  },
  {
   "cell_type": "code",
   "execution_count": null,
   "id": "432fcd8a",
   "metadata": {},
   "outputs": [],
   "source": [
    "reversible_transformations = [list(digit2cardinal.items()), noun2adj, lxy, verb_form, country2capital, en2fr, antonyms]\n",
    "irreversible_transformations = [capabilities]"
   ]
  },
  {
   "cell_type": "code",
   "execution_count": null,
   "id": "d59cbab6",
   "metadata": {},
   "outputs": [],
   "source": []
  },
  {
   "cell_type": "code",
   "execution_count": 197,
   "id": "fbc67151",
   "metadata": {},
   "outputs": [
    {
     "name": "stdout",
     "output_type": "stream",
     "text": [
      "EleutherAI/gpt-j-6B ... done 0:00:01\n",
      "* C 0.842 {' C': 0.842, ' A': 0.041, ' B': 0.04} \t D -> C\n",
      "* Thursday 0.778 {' Thursday': 0.778, ' Wednesday': 0.064, ' Friday': 0.063} \t Friday -> Thursday\n",
      "* a 0.742 {' a': 0.742, ' c': 0.051, ' A': 0.036} \t b -> a\n",
      "* four 0.472 {' four': 0.472, ' three': 0.246, ' one': 0.105} \t five -> four\n",
      "tensor(0.3677, grad_fn=<NllLossBackward>) True \n",
      "\n",
      "0.3677041530609131\n"
     ]
    }
   ],
   "source": [
    "losses = []\n",
    "for model_name, (model, tokenizer) in models.items():\n",
    "    if any(model_name.startswith(s) for s in ['gpt2-', 'KoboldAI/fairseq-dense', 'text-davinci-001', ]): continue\n",
    "    if not model_name == 'EleutherAI/gpt-j-6B': continue\n",
    "    if not isinstance(model, types.FunctionType): _ = model.eval()\n",
    "    with Timer(model_name): outputs = model(**inputs)\n",
    "    options_ids_list = [[tokenizer.encode(' ' + option)[0] for option in options] for cxt, query, options, ans in _examples]\n",
    "    mask_logits_fn = partial(mask_logits, indices=bos_indices, kept_ids=options_ids_list)\n",
    "    loss, all_top1_correct = show_predictions(text, examples, tokenizer, outputs.logits, bos_indices, eos_indices, answers, labels,\n",
    "                    mask_logits_fn=None, topk=3, loss_reduction='mean', show_range=range(k_shot, len(examples)), sep='\\t')\n",
    "    print(loss, all_top1_correct, '\\n')\n",
    "    losses.append(loss.item() if hasattr(loss, 'item') else loss)\n",
    "    if model_name == 'EleutherAI/gpt-j-6B': break\n",
    "print(sum(losses) / len(losses))"
   ]
  },
  {
   "cell_type": "code",
   "execution_count": 24,
   "id": "bc90b0db",
   "metadata": {},
   "outputs": [],
   "source": [
    "relational_functions = [prev(), next()]\n",
    "rel_fns = [prevs, nexts]"
   ]
  },
  {
   "cell_type": "markdown",
   "id": "92834550",
   "metadata": {},
   "source": [
    "**TODO: read children books for more posets**  \n",
    "**TODO: Prompt gpt3 to elicit the posets it knows**  \n",
    "$x \\to f(x)$ where $f \\in \\{\\text{prev/next in posets of numbers/letters/months/days, antonym, hypernym, hyponym, ...}\\}$  \n",
    "$x \\to f^2(x)$  \n",
    "one poset or mixed posets  \n",
    "$x, f(x).~y \\to Ff^{[-1]}(y)$ one poset or mixed posets  \n",
    "$x, f^k(x).~y \\to Ff^{[-1]}(y)~/Ff^{[-]k}(y)$  \n",
    "$x, f(f(x))~/f(f(x)), x \\to f(x)$ in between, the simplest form of sequence completion  \n",
    "$x, f(x) \\to Gf$ where $Gf \\in \\{<, >\\}$  \n",
    "$x, f(x); y, g(y) \\to Ff \\stackrel{?}{=} g^{[-1]}$ where $\\text{output} \\in \\{\\text{True}, \\text{False}\\}$  \n",
    "sort\n",
    "\n",
    "There is a *natural* monotone map/functor $F$ between posets/sets $A$ and $B$.  Compose the computation (set operations, sorting etc.) between $A$ and $B$ with $F$ to make harder tasks.  \n",
    "$P(A) ,P(B) \\to F(P(A)) \\setminus ~/ \\cap ~/ \\triangle P(B)$. Harder form of set difference/intersection.  \n",
    "$P(A) \\to F(\\text{sorted}(P(A)))$. Harder form of sorting.\n"
   ]
  },
  {
   "cell_type": "code",
   "execution_count": null,
   "id": "4504ae9b",
   "metadata": {},
   "outputs": [],
   "source": []
  },
  {
   "cell_type": "code",
   "execution_count": 385,
   "id": "17373019",
   "metadata": {},
   "outputs": [
    {
     "name": "stdout",
     "output_type": "stream",
     "text": [
      "Instruction: replace with the other. For example:\n",
      "G H G G G -> H G H H H\n",
      "I I I I M -> M M M M I\n",
      "A A F A A -> F F A F F\n",
      "9 9 9 I I -> I I I 9 9\n",
      "\n",
      "Instruction: replace with the other. For example:\n",
      "V Q Q V V -> Q V V Q Q\n",
      "G L L G L -> L G G L G\n",
      "G 2 2 2 G -> 2 G G G 2\n",
      "I I Z Z Z -> Z Z I I I\n",
      "\n",
      "Instruction: replace with the other. For example:\n",
      "R H H H R -> H R R R H\n",
      "B 9 9 B B -> 9 B B 9 9\n",
      "D 2 2 2 D -> 2 D D D 2\n",
      "A A A A W -> W W W W A\n",
      "\n"
     ]
    }
   ],
   "source": [
    "n_total, n_valid = 192, 64\n",
    "n_train = n_total - n_valid\n",
    "\n",
    "input_strs = [make_input_str(tasks[4], nrows=4, ncols=5) for __ in range(n_total)]\n",
    "for s in sample(input_strs, 3): print(s)"
   ]
  },
  {
   "cell_type": "code",
   "execution_count": 368,
   "id": "f7d6edbc",
   "metadata": {},
   "outputs": [
    {
     "data": {
      "text/plain": [
       "370"
      ]
     },
     "execution_count": 368,
     "metadata": {},
     "output_type": "execute_result"
    }
   ],
   "source": [
    "sum(s.count('Yes') for s in input_strs)"
   ]
  },
  {
   "cell_type": "code",
   "execution_count": 322,
   "id": "e2f80b74",
   "metadata": {},
   "outputs": [],
   "source": [
    "train_dataset = CHILDDataset(input_strs[:-n_valid], tokenizer)\n",
    "eval_dataset = CHILDDataset(input_strs[-n_valid:], tokenizer)"
   ]
  },
  {
   "cell_type": "code",
   "execution_count": 121,
   "id": "3185653b",
   "metadata": {},
   "outputs": [],
   "source": [
    "if n_total == 1:\n",
    "    inputs = tokenizer.encode_plus(text, return_tensors='pt')\n",
    "    inputs = prepare_inputs(inputs, model.device)\n",
    "    outputs = model(**inputs, output_attentions=False)\n",
    "\n",
    "    # assert inputs.input_ids.size(0) == 1\n",
    "    input_ids = inputs.input_ids\n",
    "    logits = outputs.logits\n",
    "\n",
    "    bsz = input_ids.size(0); assert bsz == 1\n",
    "    labels = torch.ones_like(input_ids) * (-100)\n",
    "    for bi in range(bsz):\n",
    "        bos_indices = (input_ids[bi] == bos_id).nonzero().squeeze(1)\n",
    "        eos_indices = (input_ids[bi] == eos_id).nonzero()[-nrows:].squeeze(1)\n",
    "        for i, (example, bos_i, eos_i) in enumerate(zip(examples, bos_indices.tolist(), eos_indices.tolist())):\n",
    "            print(' ' + make_example_str(example))\n",
    "            ans_ids = input_ids[bi, bos_i + 1: eos_i]\n",
    "            if i >= 2: labels[bi, bos_i: eos_i - 1] = ans_ids\n",
    "            ans_prob_dist = logits[bi, bos_i: eos_i - 1].softmax(-1)\n",
    "            ans_probs = ans_prob_dist[torch.arange(ans_prob_dist.size(0)), ans_ids]\n",
    "            ans_tokens = tokenizer.convert_ids_to_tokens(ans_ids)\n",
    "            for ans_id, ans_token, ans_prob, dist in zip(ans_ids, ans_tokens, numpy(ans_probs, decimals=3), ans_prob_dist):\n",
    "                top1_correct = (dist.argmax() == ans_id).item()\n",
    "                print(('*' if top1_correct else ' ') + ans_token, ans_prob, \n",
    "                      show_topk(*dist.topk(5), indices_fn=tokenizer.convert_ids_to_tokens)) \n",
    "    loss = nn.CrossEntropyLoss()(logits.view(-1, logits.size(-1)), labels.view(-1))\n",
    "    loss"
   ]
  },
  {
   "cell_type": "code",
   "execution_count": 329,
   "id": "6ebf074a",
   "metadata": {},
   "outputs": [],
   "source": [
    "training_args = TrainingArguments(output_dir=\"./models/model_name\", \n",
    "    overwrite_output_dir=True, do_train=True, do_eval=True,\n",
    "    per_device_train_batch_size=16, per_device_eval_batch_size=16,\n",
    "    weight_decay=0.01, adam_beta2=0.98, adam_epsilon=1e-6,\n",
    "    lr_scheduler_type='constant', learning_rate=5e-3, num_train_epochs=4,\n",
    "    logging_strategy ='epoch', evaluation_strategy ='epoch', save_steps=0,\n",
    "    no_cuda=True, report_to='none',  # to avoid report to wandb\n",
    ")"
   ]
  },
  {
   "cell_type": "code",
   "execution_count": 330,
   "id": "d89c7d7b",
   "metadata": {},
   "outputs": [],
   "source": [
    "trainer = Trainer(model, training_args, train_dataset=train_dataset, eval_dataset=eval_dataset,\n",
    "                  optimizers=(create_optimizer(model, training_args), None))"
   ]
  },
  {
   "cell_type": "code",
   "execution_count": 333,
   "id": "b37a9874",
   "metadata": {},
   "outputs": [
    {
     "data": {
      "text/plain": [
       "True"
      ]
     },
     "execution_count": 333,
     "metadata": {},
     "output_type": "execute_result"
    }
   ],
   "source": [
    "trainer.place_model_on_device"
   ]
  },
  {
   "cell_type": "code",
   "execution_count": null,
   "id": "9b4b3eca",
   "metadata": {},
   "outputs": [],
   "source": [
    "def get_prev(elem):\n",
    "    i, v = elem\n",
    "    return _l[i - 1] if i > 0 else None\n",
    "\n",
    "false = lambda *_: False\n",
    "true  = lambda *_: True"
   ]
  },
  {
   "cell_type": "code",
   "execution_count": null,
   "id": "721cb66f",
   "metadata": {},
   "outputs": [],
   "source": [
    "Element = namedtuple('Element', 'index value')\n",
    "_l = 'A B C B'.split()\n",
    "n = len(_l)\n",
    "# l = [Element._make(e) for e in enumerate(l)]\n",
    "l = seq(_l)\n",
    "l = l.enumerate().map(Element._make)"
   ]
  },
  {
   "cell_type": "code",
   "execution_count": 6,
   "id": "9f22f664",
   "metadata": {},
   "outputs": [],
   "source": [
    "l.map(lambda x: {'B': 'D'}.get(x, x))\n",
    "\n",
    "l.filter(lambda x: get_prev(x) == 'B').select(_.value)\n",
    "\n",
    "find_fn = _.index == 1\n",
    "l.filter(find_fn).select(_.value).map(lower)\n",
    "\n",
    "find_fn = _.value == 'C'\n",
    "l.filter(find_fn).select(_.index)\n",
    "\n",
    "# move x to first\n",
    "update_filter = _.value == 'C'\n",
    "get_new = lambda x: -1\n",
    "l.map(lambda x: Element(update_fn(x, 'index'), x.value)).order_by(_.index).select(_.value)\n",
    "\n",
    "# swap first and last\n",
    "update_filter = true\n",
    "get_new = lambda x: {0: n - 1, n - 1: 0}.get(x.index, x.index)\n",
    "l.map(lambda x: Element(update_fn(x, 'index'), x.value)).order_by(_.index).select(_.value)\n",
    "\n",
    "# get inbetween == drop_while + take_while?\n",
    "\n",
    "# update by index to its prev\n",
    "update_filter = _.index == 1\n",
    "get_new = lambda x: get_prev(x)\n",
    "def update_fn(x, update_field): return get_new(x) if update_filter(x) else getattr(x, update_field)\n",
    "l.map(lambda x: Element(x.index, update_fn(x, 'value')))\n",
    "\n",
    "# if two adjacent elements by indices are equal\n",
    "l.filter(lambda x: x.index in [0, 1]).select(_.value).distinct().len() == 1\n",
    "\n",
    "seq('A B C B C'.split()).group_by(_).select(_[1]).flatten()\n",
    "\n",
    "# count occurance till current\n",
    "seq('A B A C B A'.split()).inits().reverse().tail().map(lambda x: x.filter(_ == x.last()).len())\n",
    "\n",
    "# find special\n",
    "seq('A B A A'.split()).count_by_value().filter(_[1] == 1).select(_[0])\n",
    "\n",
    "# generalized find special\n",
    "seq('A A B C C D D'.split()).group_by(_).map(lambda x: (x[0], len(x[1]))).filter(_[1] == 1).select(_[0])"
   ]
  }
 ],
 "metadata": {
  "kernelspec": {
   "display_name": "Python 3",
   "language": "python",
   "name": "python3"
  },
  "language_info": {
   "codemirror_mode": {
    "name": "ipython",
    "version": 3
   },
   "file_extension": ".py",
   "mimetype": "text/x-python",
   "name": "python",
   "nbconvert_exporter": "python",
   "pygments_lexer": "ipython3",
   "version": "3.7.11"
  },
  "vscode": {
   "interpreter": {
    "hash": "31f2aee4e71d21fbe5cf8b01ff0e069b9275f58929596ceb00d14d90e3e16cd6"
   }
  }
 },
 "nbformat": 4,
 "nbformat_minor": 5
}
