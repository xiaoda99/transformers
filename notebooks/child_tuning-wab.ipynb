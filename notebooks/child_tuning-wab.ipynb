{
 "cells": [
  {
   "cell_type": "code",
   "execution_count": 1,
   "id": "7292808a",
   "metadata": {},
   "outputs": [],
   "source": [
    "from IPython import get_ipython\n",
    "%load_ext autoreload\n",
    "%autoreload 2\n",
    "\n",
    "from IPython.core.interactiveshell import InteractiveShell\n",
    "InteractiveShell.ast_node_interactivity = 'all'  #'last', 'last_expr'"
   ]
  },
  {
   "cell_type": "code",
   "execution_count": 2,
   "id": "0d03e56e",
   "metadata": {},
   "outputs": [
    {
     "name": "stdout",
     "output_type": "stream",
     "text": [
      "In file_utils.py: default_cache_path = /raid3/xd/.cache/torch/hub\n"
     ]
    }
   ],
   "source": [
    "import sys\n",
    "sys.path.insert(0, '/nas/xd/projects/transformers/src')\n",
    "import os\n",
    "os.environ['HF_HOME'] = '/raid3/xd/.cache/torch'  # deliberately set this wrong path to avoid migrating cache\n",
    "os.environ[\"CUDA_DEVICE_ORDER\"]=\"PCI_BUS_ID\"\n",
    "# os.environ[\"CUDA_VISIBLE_DEVICES\"]=\"8,7\"\n",
    "\n",
    "from types import MethodType\n",
    "from tqdm import tqdm\n",
    "from collections import defaultdict, OrderedDict, Counter\n",
    "from datetime import datetime\n",
    "from io import StringIO\n",
    "from dataclasses import dataclass, fields, asdict\n",
    "import itertools\n",
    "from itertools import chain, product\n",
    "import math\n",
    "from functools import reduce, partial\n",
    "from collections.abc import Iterable\n",
    "from collections import namedtuple \n",
    "import traceback\n",
    "import pickle, gzip\n",
    "\n",
    "# from multiprocessing import Pool\n",
    "# from torch.multiprocessing import Pool\n",
    "# torch.multiprocessing.set_start_method('spawn', force=True)\n",
    "from multiprocessing.dummy import Pool\n",
    "\n",
    "%matplotlib inline\n",
    "import matplotlib.pyplot as plt\n",
    "import seaborn as sns\n",
    "\n",
    "import torch\n",
    "import torch.nn as nn\n",
    "import torch.nn.functional as F \n",
    "from torch.utils.data.sampler import RandomSampler, Sampler, SequentialSampler\n",
    "from torch.utils.data.dataloader import DataLoader\n",
    "\n",
    "# from transformers.data.data_collator import DataCollator, default_data_collator\n",
    "from transformers import AutoConfig, AutoModelForCausalLM, AutoTokenizer, GPT2Tokenizer#, pipeline\n",
    "# from transformers import RobertaForMaskedLM, RobertaTokenizer, GPT2LMHeadModel, GPT2Tokenizer, GPTNeoForCausalLM\n",
    "# from transformers import T5Tokenizer, T5TokenizerFast, T5ForConditionalGeneration\n",
    "# from transformers import HfArgumentParser, Trainer, TrainingArguments, set_seed, AdamW"
   ]
  },
  {
   "cell_type": "code",
   "execution_count": 3,
   "id": "49c8f3d0",
   "metadata": {},
   "outputs": [],
   "source": [
    "sys.path.insert(0, '/nas/xd/projects/PyFunctional')\n",
    "from functional import seq\n",
    "from functional.pipeline import Sequence\n",
    "from fn import _ as __"
   ]
  },
  {
   "cell_type": "code",
   "execution_count": 4,
   "id": "58cba5e2",
   "metadata": {},
   "outputs": [
    {
     "name": "stdout",
     "output_type": "stream",
     "text": [
      "common_utils ... done 0:00:00.000038\n",
      "utils ... done 0:00:00.003085\n",
      "child_utils ... Loading tokenizer ... done 0:00:08.868318\n",
      "done 0:00:12.266886\n",
      "tasks ... done 0:00:00.002156\n",
      "model_utils_wab ... done 0:00:08.097105\n",
      "weight_analysis ... done 0:00:00.000031\n"
     ]
    }
   ],
   "source": [
    "from common_utils import Timer\n",
    "with Timer('common_utils'): from common_utils import *\n",
    "with Timer('utils'): from utils import *\n",
    "with Timer('child_utils'): from child_utils import *\n",
    "from child_utils import _cxt2str, _item2str, _s\n",
    "from child_frames import *\n",
    "with Timer('tasks'): from tasks import *\n",
    "with Timer('model_utils_wab'): from model_utils_wab import *\n",
    "with Timer('weight_analysis'): from weight_analysis import *"
   ]
  },
  {
   "cell_type": "code",
   "execution_count": 5,
   "id": "29bd23f7",
   "metadata": {},
   "outputs": [],
   "source": [
    "torch.set_grad_enabled(False);"
   ]
  },
  {
   "cell_type": "code",
   "execution_count": 6,
   "id": "90f62ac5",
   "metadata": {},
   "outputs": [],
   "source": [
    "models = {}\n",
    "cache_dir = '/nas/xd/.cache/torch/transformers/'  # for models besides t5-3b/11b\n",
    "# cache_dir = '/mnt/nvme1/xd/.cache/torch/transformers/'  # for gpt-j-6B on elderberry\n",
    "proxies = {'http': '192.168.50.1:1081'} "
   ]
  },
  {
   "cell_type": "code",
   "execution_count": 7,
   "id": "a4ab655d",
   "metadata": {},
   "outputs": [
    {
     "name": "stdout",
     "output_type": "stream",
     "text": [
      "EleutherAI/gpt-j-6B/cpu ... done 0:05:01.500409\n"
     ]
    }
   ],
   "source": [
    "# curl -x http://192.168.50.1:1081 -L -O [-C -] https://huggingface.co/google/ul2/resolve/main/pytorch_model.bin  # -C for 断点续传\n",
    "s2s_model_names = ['google/t5-xl-lm-adapt', 'google/t5-xxl-lm-adapt', 'bigscience/T0p', 'bigscience/T0_3B', \n",
    "    'allenai/tk-instruct-3b-pos', 'allenai/tk-instruct-3b-def-pos', 'google/ul2']\n",
    "gpt_model_names = ['EleutherAI/gpt-j-6B/cpu', #'EleutherAI/gpt-j-6B',\n",
    "                   'EleutherAI/gpt-neox-20b/cpu', #'EleutherAI/gpt-neox-20b'\n",
    "                  ]#, 'gpt2-xl', 'gpt2']\n",
    "#                    'KoboldAI/fairseq-dense-6.7B', 'KoboldAI/fairseq-dense-13B']\n",
    "for model_name in s2s_model_names[:0] + gpt_model_names[:1]:#, 'gpt2-xl', 'EleutherAI/gpt-neo-1.3B', 'KoboldAI/fairseq-dense-6.7B']:\n",
    "    if model_name in models: continue\n",
    "    with Timer(model_name):\n",
    "        model_cls = AutoModelForCausalLM if any(s in model_name for s in ['gpt', 'fairseq-dense']) else T5ForConditionalGeneration\n",
    "        # _cache_dir = cache_dir.replace('/nas/', '/nas2/') if 'gpt' not in model_name else cache_dir\n",
    "        kwargs = dict(cache_dir=cache_dir, proxies=proxies, low_cpu_mem_usage=True)\n",
    "        if '/cpu' in model_name or 'gpt-j' not in model_name and 'gpt-neox' not in model_name:\n",
    "            model = model_cls.from_pretrained(model_name.replace('/cpu', ''), cache_dir=cache_dir, proxies=proxies)\n",
    "        elif 'gpt-j' in model_name:\n",
    "            device = 0\n",
    "            model = model_cls.from_pretrained(model_name, revision=\"float16\", torch_dtype=torch.float16, **kwargs).to(device)\n",
    "        elif 'gpt-neox' in model_name:\n",
    "            device = 7; device_map = {'gpt_neox': device, 'embed_out': device}\n",
    "            model = model_cls.from_pretrained(model_name, device_map=device_map, load_in_8bit=True, **kwargs)\n",
    "        if hasattr(model.config, 'use_cache'): model.config.use_cache = False  # save GPU mem\n",
    "        # if model_name in ['EleutherAI/gpt-neox-20b']: model = model.half()\n",
    "        tokenizer = AutoTokenizer.from_pretrained(model_name.replace('/cpu', ''), cache_dir=cache_dir)\n",
    "        unify(model)\n",
    "        models[model_name] = model, tokenizer#, device"
   ]
  },
  {
   "cell_type": "code",
   "execution_count": 8,
   "id": "0bc28755",
   "metadata": {},
   "outputs": [],
   "source": [
    "model_name = gpt_model_names[0]\n",
    "# model_name = engines[-1]\n",
    "model, tokenizer = models[model_name]"
   ]
  },
  {
   "cell_type": "code",
   "execution_count": 45,
   "id": "3d4a6acf",
   "metadata": {},
   "outputs": [
    {
     "data": {
      "text/plain": [
       "1"
      ]
     },
     "execution_count": 45,
     "metadata": {},
     "output_type": "execute_result"
    }
   ],
   "source": [
    "1"
   ]
  },
  {
   "cell_type": "code",
   "execution_count": 9,
   "id": "5b77b328",
   "metadata": {},
   "outputs": [],
   "source": [
    "blocks = model.transformer.h\n",
    "for i, b in enumerate(blocks): b.layer = i\n",
    "ln_f = model.transformer.ln_f\n",
    "L, H, embed_dim = len(blocks), blocks[0].attn.num_heads, blocks[0].attn.embed_dim\n",
    "\n",
    "# we = model.transformer.wte.weight.data\n",
    "# wu = model.lm_head.weight.data\n",
    "\n",
    "# es = [we]\n",
    "# for b in blocks[:1]: es.append(es[-1] + mlp_forward(b, es[-1]))\n",
    "# model.es = es\n",
    "# weBTAs = [es[i].T @ es[i] for i in range(2)]\n",
    "# model.weBTAs = weBTAs"
   ]
  },
  {
   "cell_type": "code",
   "execution_count": null,
   "id": "d6f9e457",
   "metadata": {},
   "outputs": [],
   "source": [
    "# device = torch.device('cuda:7')#wab\n",
    "# _ = clone_model_to(model, device)"
   ]
  },
  {
   "cell_type": "code",
   "execution_count": 24,
   "id": "1fb34c9f",
   "metadata": {},
   "outputs": [
    {
     "ename": "NameError",
     "evalue": "name 'results' is not defined",
     "output_type": "error",
     "traceback": [
      "\u001b[0;31m---------------------------------------------------------------------------\u001b[0m",
      "\u001b[0;31mNameError\u001b[0m                                 Traceback (most recent call last)",
      "\u001b[0;32m<ipython-input-24-33d489d4416a>\u001b[0m in \u001b[0;36m<module>\u001b[0;34m\u001b[0m\n\u001b[1;32m      1\u001b[0m \u001b[0;32mdef\u001b[0m \u001b[0mresult2dict\u001b[0m\u001b[0;34m(\u001b[0m\u001b[0mresult\u001b[0m\u001b[0;34m)\u001b[0m\u001b[0;34m:\u001b[0m \u001b[0;32mreturn\u001b[0m \u001b[0;34m{\u001b[0m\u001b[0mk\u001b[0m\u001b[0;34m:\u001b[0m \u001b[0mv\u001b[0m \u001b[0;32mfor\u001b[0m \u001b[0mk\u001b[0m\u001b[0;34m,\u001b[0m \u001b[0mv\u001b[0m \u001b[0;32min\u001b[0m \u001b[0mresult\u001b[0m\u001b[0;34m.\u001b[0m\u001b[0m__dict__\u001b[0m\u001b[0;34m.\u001b[0m\u001b[0mitems\u001b[0m\u001b[0;34m(\u001b[0m\u001b[0;34m)\u001b[0m \u001b[0;32mif\u001b[0m \u001b[0mk\u001b[0m \u001b[0;32mnot\u001b[0m \u001b[0;32min\u001b[0m \u001b[0;34m[\u001b[0m\u001b[0;34m'task'\u001b[0m\u001b[0;34m,\u001b[0m \u001b[0;34m'data_tuples'\u001b[0m\u001b[0;34m]\u001b[0m\u001b[0;34m}\u001b[0m  \u001b[0;31m#\u001b[0m\u001b[0;34m\u001b[0m\u001b[0;34m\u001b[0m\u001b[0m\n\u001b[1;32m      2\u001b[0m \u001b[0;32mwith\u001b[0m \u001b[0mgzip\u001b[0m\u001b[0;34m.\u001b[0m\u001b[0mopen\u001b[0m\u001b[0;34m(\u001b[0m\u001b[0;34mf'results/results-genders_of_persons-types_of_things.pkl.gz'\u001b[0m\u001b[0;34m,\u001b[0m \u001b[0;34m'wb'\u001b[0m\u001b[0;34m)\u001b[0m \u001b[0;32mas\u001b[0m \u001b[0mf\u001b[0m\u001b[0;34m:\u001b[0m\u001b[0;34m\u001b[0m\u001b[0;34m\u001b[0m\u001b[0m\n\u001b[0;32m----> 3\u001b[0;31m     \u001b[0mpickle\u001b[0m\u001b[0;34m.\u001b[0m\u001b[0mdump\u001b[0m\u001b[0;34m(\u001b[0m\u001b[0;34m{\u001b[0m\u001b[0mk\u001b[0m\u001b[0;34m:\u001b[0m \u001b[0mresult2dict\u001b[0m\u001b[0;34m(\u001b[0m\u001b[0mr\u001b[0m\u001b[0;34m)\u001b[0m \u001b[0;32mfor\u001b[0m \u001b[0mk\u001b[0m\u001b[0;34m,\u001b[0m \u001b[0mr\u001b[0m \u001b[0;32min\u001b[0m \u001b[0mresults\u001b[0m\u001b[0;34m.\u001b[0m\u001b[0mitems\u001b[0m\u001b[0;34m(\u001b[0m\u001b[0;34m)\u001b[0m\u001b[0;34m}\u001b[0m\u001b[0;34m,\u001b[0m \u001b[0mf\u001b[0m\u001b[0;34m)\u001b[0m\u001b[0;34m\u001b[0m\u001b[0;34m\u001b[0m\u001b[0m\n\u001b[0m\u001b[1;32m      4\u001b[0m \u001b[0;31m# with gzip.open(f'results.pkl.gz', 'rb') as f: results = pickle.load(f)\u001b[0m\u001b[0;34m\u001b[0m\u001b[0;34m\u001b[0m\u001b[0;34m\u001b[0m\u001b[0m\n",
      "\u001b[0;31mNameError\u001b[0m: name 'results' is not defined"
     ]
    }
   ],
   "source": [
    "# def result2dict(result): return {k: v for k, v in result.__dict__.items() if k not in ['task', 'data_tuples']}  # \n",
    "# with gzip.open(f'results/results-genders_of_persons-types_of_things.pkl.gz', 'wb') as f:\n",
    "#     pickle.dump({k: result2dict(r) for k, r in results.items()}, f)\n",
    "# with gzip.open(f'results.pkl.gz', 'rb') as f: results = pickle.load(f)"
   ]
  },
  {
   "cell_type": "code",
   "execution_count": 48,
   "id": "f1fa6edc",
   "metadata": {},
   "outputs": [
    {
     "ename": "NameError",
     "evalue": "name 'keys' is not defined",
     "output_type": "error",
     "traceback": [
      "\u001b[0;31m---------------------------------------------------------------------------\u001b[0m",
      "\u001b[0;31mNameError\u001b[0m                                 Traceback (most recent call last)",
      "\u001b[0;32m<ipython-input-48-1596f5d0f668>\u001b[0m in \u001b[0;36m<module>\u001b[0;34m\u001b[0m\n\u001b[0;32m----> 1\u001b[0;31m \u001b[0mres_key\u001b[0m \u001b[0;34m=\u001b[0m \u001b[0mkeys\u001b[0m\u001b[0;34m[\u001b[0m\u001b[0;36m0\u001b[0m\u001b[0;34m]\u001b[0m\u001b[0;34m;\u001b[0m \u001b[0mres_key\u001b[0m\u001b[0;34m\u001b[0m\u001b[0;34m\u001b[0m\u001b[0m\n\u001b[0m\u001b[1;32m      2\u001b[0m \u001b[0mfpath\u001b[0m \u001b[0;34m=\u001b[0m \u001b[0;34mf'results/{res_key}_attn_attrs.npz'\u001b[0m\u001b[0;34m\u001b[0m\u001b[0;34m\u001b[0m\u001b[0m\n\u001b[1;32m      3\u001b[0m \u001b[0mnp\u001b[0m\u001b[0;34m.\u001b[0m\u001b[0msavez_compressed\u001b[0m\u001b[0;34m(\u001b[0m\u001b[0mfpath\u001b[0m\u001b[0;34m,\u001b[0m \u001b[0;34m*\u001b[0m\u001b[0mdump_attn_attrs_to_arrays\u001b[0m\u001b[0;34m(\u001b[0m\u001b[0mroot\u001b[0m\u001b[0;34m,\u001b[0m \u001b[0mresult\u001b[0m\u001b[0;34m.\u001b[0m\u001b[0mdata_tuples\u001b[0m\u001b[0;34m)\u001b[0m\u001b[0;34m)\u001b[0m\u001b[0;34m\u001b[0m\u001b[0;34m\u001b[0m\u001b[0m\n",
      "\u001b[0;31mNameError\u001b[0m: name 'keys' is not defined"
     ]
    }
   ],
   "source": [
    "# res_key = keys[0]; res_key\n",
    "# fpath = f'results/{res_key}_attn_attrs.npz'\n",
    "# np.savez_compressed(fpath, *dump_attn_attrs_to_arrays(root, result.data_tuples))"
   ]
  },
  {
   "cell_type": "code",
   "execution_count": 344,
   "id": "d04901ad",
   "metadata": {},
   "outputs": [],
   "source": [
    "# _root = deepcopy(root)\n",
    "# def fn(node): node.data = asdict(node.data)\n",
    "# traverse_tree(_root, fn, include_dummy=True)\n",
    "# pickle.dump(_root, gzip.open(f'results/{res_key}_tree.pkl.gz', 'wb'))"
   ]
  },
  {
   "cell_type": "code",
   "execution_count": null,
   "id": "b5110d95",
   "metadata": {},
   "outputs": [],
   "source": []
  },
  {
   "cell_type": "code",
   "execution_count": 10,
   "id": "706055f1",
   "metadata": {},
   "outputs": [],
   "source": [
    "tasks = [\n",
    "    (lambda: [TreeSet(genders_of_persons).use('equal'), TreeSet(types_of_things).use('equal')], MlM_gen,\n",
    "     partial(_cxt2str, item2str=lambda i, _: [f\"{i[0]} has {wrap_noun(i[1])}\", f\"The {i[1]} is {i[0]}'s\"]), lambda q, _: f'{q}', \" likes\"\n",
    "    ),\n",
    "#     (lambda: [TreeSet(types_of_characters).use('child'), TreeSet(types_of_things).use('child')], partial(MlM_gen, cxt_sample_fn=enumerate_sample, query=1),\n",
    "#      partial(_cxt2str, item2str=lambda i, _: [f\"{i[0]} has {i[1]}\", f\"{the_(i[1])} is {i[0]}'s\"]), lambda q, _: f\"{q}\", \" likes\"\n",
    "#     ),\n",
    "    (lambda: [TreeSet(genders_of_persons).use('child'), TreeSet(types_of_things).use('child')], MlM_gen,\n",
    "     partial(_cxt2str, item2str=lambda i, _: [f\"{i[0]} has {i[1]}\", f\"{the_(i[1])} is {i[0]}'s\"]), lambda q, _: f\"{q}\", \" likes\"\n",
    "    ), # t: 21-5, 15-8, 19. p: 16-7, 18-5, [3-12, 13-7]. p+: 16-7, 16-0. 13-7:induction head qk, thing->type ov\n",
    "    (lambda: [TreeSet(genders_of_persons).use('equal'), TreeSet(countries_of_cities).use('equal')], MlM_gen,\n",
    "     partial(_cxt2str, item2str=lambda i, _: [f'{i[0]} likes {i[1]}', f'{i[1]} attracts {i[0]}']), lambda q, _: f'{q} wants to go', ' to'\n",
    "    ), # t: 19-12 >> 16-10 = 12-7\n",
    "    (lambda: [TreeSet(genders_of_persons).use('equal'), TreeSet(countries_of_cities).use('child')], MlM_gen,\n",
    "     partial(_cxt2str, item2str=lambda i, _: [f'{i[0]} likes {i[1]}', f'{i[1]} attracts {i[0]}']), lambda q, _: f'{q} wants to go', ' to'\n",
    "    ), # t: 19-12 >> 16-10 = 12-7\n",
    "#     (lambda: [TreeSet(genders_of_persons).use('equal'), TreeSet(capabilities_of_things).use('equal')], MlM_gen,\n",
    "#      partial(_cxt2str, item2str=lambda i, _: [f\"{i[0]} has {wrap_noun(i[1])}\", f\"The {i[1]} is {i[0]}'s\"]), lambda q, _: f'{q} likes', ' the'\n",
    "#     ),\n",
    "#     (lambda: [TreeSet(genders_of_persons).use('equal'), TreeSet(capabilities_of_things).use('child')], MlM_gen,\n",
    "#      partial(_cxt2str, item2str=lambda i, _: [f\"{i[0]} has {wrap_noun(i[1])}\", f\"The {i[1]} is {i[0]}'s\"]), lambda q, _: f'{q}', ' can'\n",
    "#     ),\n",
    "#     (lambda: [TreeSet(genders_of_persons).use('equal'), SymSet(person_adjs).use('equal')], MlM_gen,\n",
    "#      partial(_cxt2str, item2str=lambda i, _: [f\"{i[0]} is {i[1]}\", f\"{i[1].capitalize()} is {i[0]}\"]), lambda q, _: f\"Yes, {q} looks\", \" like\"\n",
    "#     ),\n",
    "#     (lambda: [TreeSet(genders_of_persons).use('equal'), SymSet(person_adjs).use('opposite')], MlM_gen,\n",
    "#      partial(_cxt2str, item2str=lambda i, _: [f\"{i[0]} is {i[1]}\", f\"{i[1].capitalize()} is {i[0]}\"]), lambda q, _: f\"Um, {q} looks\", \" like\"\n",
    "#     ), # t: 16-14, somewhat 14-7 # verbose acc: gpj-j > curie-001 > davinci-001 > gpt-neox!? abstract acc: gpt-neox > gpt-j. all poor (inc. davinci-002!)\n",
    "#     (lambda: [TreeSet(genders_of_persons).use('equal'), PoSet(temporal_posets).use('equal')], MlM_gen,\n",
    "#      partial(_cxt2str, item2str=lambda i, _: [f'{i[0]} arrived {wrap_noun2(i[1])}', f'{wrap_noun2(i[1]).capitalize()} arrived {i[0]}']), lambda q, _: f\"So {q}'s arrival time\", ' is'\n",
    "#     ),\n",
    "#     (lambda: [TreeSet(genders_of_persons).use('equal'), PoSet(temporal_posets).use('prev')], MlM_gen,\n",
    "#      partial(_cxt2str, item2str=lambda i, _: [f'{i[0]} arrived {wrap_noun2(i[1])}', f'{wrap_noun2(i[1]).capitalize()} arrived {i[0]}']), lambda q, _: f'So {q} arrived just', ' after'\n",
    "#     ),\n",
    "#     (lambda: [TreeSet(genders_of_persons).use('equal'), PoSet(temporal_posets).use('next')], MlM_gen,\n",
    "#      partial(_cxt2str, item2str=lambda i, _: [f'{i[0]} arrived {wrap_noun2(i[1])}', f'{wrap_noun2(i[1]).capitalize()} arrived {i[0]}']), lambda q, _: f'So {q} arrived just', ' before'\n",
    "#     ),\n",
    "]"
   ]
  },
  {
   "cell_type": "code",
   "execution_count": 48,
   "id": "d140cd24",
   "metadata": {
    "scrolled": true
   },
   "outputs": [
    {
     "data": {
      "text/plain": [
       "odict_keys(['', '22-40 attn/candidates', '17-28 attn/candidates', '19-1 attn/candidates', '26-57 attn/candidates', '23-54 attn/candidates', '22-40 attn/candidates > 15-38', '22-40 attn/candidates > 14-39', '22-40 attn/candidates > 10-52', '17-28 attn/candidates > 15-38', '17-28 attn/candidates > 14-39', '17-28 attn/candidates > 11-50', '17-28 attn/candidates > 11-35', '17-28 attn/candidates > 14-30', '17-28 attn/candidates > 15-0', '19-1 attn/candidates > 14-39', '19-1 attn/candidates > 15-0', '22-40 attn/candidates > 19-29', '22-40 attn/candidates > 11-m', '22-40 attn/candidates > 21-60'])"
      ]
     },
     "execution_count": 48,
     "metadata": {},
     "output_type": "execute_result"
    }
   ],
   "source": [
    "r.data_tuples[0][-1].attn_attr.keys()"
   ]
  },
  {
   "cell_type": "code",
   "execution_count": 45,
   "id": "fe39a194",
   "metadata": {},
   "outputs": [
    {
     "data": {
      "text/plain": [
       "'@5 22-40 69 B->A0 99/78 attn'"
      ]
     },
     "execution_count": 45,
     "metadata": {},
     "output_type": "execute_result"
    }
   ],
   "source": [
    "node = r.root.children[10]#.children[1]\n",
    "node.name"
   ]
  },
  {
   "cell_type": "code",
   "execution_count": null,
   "id": "911c2df7",
   "metadata": {
    "scrolled": false
   },
   "outputs": [],
   "source": [
    "plot_attn_attrs(r.data_tuples[:], model, tokenizer, node, topi=[3,4,6], attn_patterns=['B->B'], k_shot=k_shot, mix=True)"
   ]
  },
  {
   "cell_type": "code",
   "execution_count": 199,
   "id": "7dc50c55",
   "metadata": {},
   "outputs": [
    {
     "name": "stdout",
     "output_type": "stream",
     "text": [
      "35 (0.5464575067162514, 0.8194444444444444)\n",
      "36 (0.45821835473179817, 0.8333333333333334)\n",
      "37 (0.3822524305433035, 0.8888888888888888)\n",
      "38 (0.3553805500268936, 0.8888888888888888)\n",
      "39 (0.3521486185491085, 0.9027777777777778)\n",
      "40 (0.3169629741460085, 0.875)\n",
      "41 (0.327828467823565, 0.8472222222222222)\n",
      "42 (0.33170338813215494, 0.875)\n",
      "43 (0.34491169452667236, 0.8888888888888888)\n"
     ]
    }
   ],
   "source": [
    "for l in range(35, L): print(l, show_predictions_by_data_tuples(model, tokenizer, r.data_tuples, k_shot, to_layer=l, verbose=False))"
   ]
  },
  {
   "cell_type": "code",
   "execution_count": 11,
   "id": "4b113734",
   "metadata": {},
   "outputs": [],
   "source": [
    "results = {}"
   ]
  },
  {
   "cell_type": "code",
   "execution_count": 12,
   "id": "064e94d9",
   "metadata": {},
   "outputs": [],
   "source": [
    "# key = 'MlM_gen[genders_of_persons.TreeSet.equal,types_of_things.TreeSet.equal][cxt_len=3,rev_item2str]' # 18-5  11-4,13-11 B->A0+ 10-11?\n",
    "key = 'MlM_gen[genders_of_persons.TreeSet.equal,types_of_things.TreeSet.equal][cxt_len=3]'\n",
    "# key = 'MlM_gen[cxt_sample_fn=enumerate_sample,query=1][types_of_characters.TreeSet.equal,types_of_characters.TreeSet.equal][cxt_len=3,abstract]'"
   ]
  },
  {
   "cell_type": "code",
   "execution_count": 61,
   "id": "c71b5fc2",
   "metadata": {},
   "outputs": [],
   "source": [
    "del results[key]"
   ]
  },
  {
   "cell_type": "code",
   "execution_count": 73,
   "id": "4cf345da",
   "metadata": {
    "scrolled": false
   },
   "outputs": [
    {
     "name": "stdout",
     "output_type": "stream",
     "text": [
      "\n",
      "\n",
      "\n",
      "\n",
      "\n",
      "\n",
      "\n",
      "\n"
     ]
    }
   ],
   "source": [
    "all_examples, texts, all_bos_tokens = zip(*[generate(task, verbose=False, plot=False, nrows=nrows, **args)\n",
    "                                        for i in range(batch_size)])"
   ]
  },
  {
   "cell_type": "code",
   "execution_count": 79,
   "id": "fe8a66e7",
   "metadata": {},
   "outputs": [
    {
     "data": {
      "text/plain": [
       "[[('Jason', 'Bangkok'), ('Dorothy', 'Madrid'), ('Sarah', 'Saint Petersburg')],\n",
       " 'Jason',\n",
       " (['Jason', 'Dorothy', 'Sarah'],\n",
       "  ['Jason', 'Dorothy', 'Sarah'],\n",
       "  ['Bangkok', 'Madrid', 'Saint Petersburg'],\n",
       "  ['Bangkok', 'Madrid', 'Saint Petersburg']),\n",
       " ('Jason', 'Bangkok', 'Bangkok')]"
      ]
     },
     "execution_count": 79,
     "metadata": {},
     "output_type": "execute_result"
    }
   ],
   "source": [
    "all_examples[0][1]"
   ]
  },
  {
   "cell_type": "code",
   "execution_count": 82,
   "id": "48f87da9",
   "metadata": {},
   "outputs": [
    {
     "data": {
      "text/plain": [
       "False"
      ]
     },
     "execution_count": 82,
     "metadata": {},
     "output_type": "execute_result"
    }
   ],
   "source": [
    "any(s in texts[0][24:] for s in ['dangerous'])"
   ]
  },
  {
   "cell_type": "code",
   "execution_count": 83,
   "id": "010ba3e5",
   "metadata": {},
   "outputs": [
    {
     "ename": "TypeError",
     "evalue": "expected Tensor as element 0 in argument 0, but got tuple",
     "output_type": "error",
     "traceback": [
      "\u001b[0;31m---------------------------------------------------------------------------\u001b[0m",
      "\u001b[0;31mTypeError\u001b[0m                                 Traceback (most recent call last)",
      "\u001b[0;32m<ipython-input-83-f9718d77b047>\u001b[0m in \u001b[0;36m<module>\u001b[0;34m\u001b[0m\n\u001b[1;32m      1\u001b[0m predict(model, tokenizer, texts[0], all_examples[0],\n\u001b[0;32m----> 2\u001b[0;31m                 k_shot=k_shot, bos_token=all_bos_tokens[0], trim=False, verbose=verbose)\n\u001b[0m",
      "\u001b[0;32m/nas/xd/projects/transformers/notebooks/model_utils_wab.py\u001b[0m in \u001b[0;36mpredict\u001b[0;34m(model, tokenizer, text, examples, k_shot, bos_token, eos_token, custom_forward, trim, verbose)\u001b[0m\n\u001b[1;32m   1153\u001b[0m     \u001b[0;32mwith\u001b[0m \u001b[0mtorch\u001b[0m\u001b[0;34m.\u001b[0m\u001b[0mno_grad\u001b[0m\u001b[0;34m(\u001b[0m\u001b[0;34m)\u001b[0m\u001b[0;34m:\u001b[0m\u001b[0;34m\u001b[0m\u001b[0;34m\u001b[0m\u001b[0m\n\u001b[1;32m   1154\u001b[0m         \u001b[0mo\u001b[0m \u001b[0;34m=\u001b[0m \u001b[0mforward0\u001b[0m\u001b[0;34m(\u001b[0m\u001b[0mmodel\u001b[0m\u001b[0;34m,\u001b[0m \u001b[0minput_ids\u001b[0m\u001b[0;34m.\u001b[0m\u001b[0mto\u001b[0m\u001b[0;34m(\u001b[0m\u001b[0mmodel\u001b[0m\u001b[0;34m.\u001b[0m\u001b[0mdevice\u001b[0m\u001b[0;34m)\u001b[0m\u001b[0;34m,\u001b[0m \u001b[0mby_head\u001b[0m\u001b[0;34m=\u001b[0m\u001b[0;34m[\u001b[0m\u001b[0;34m'value'\u001b[0m\u001b[0;34m,\u001b[0m \u001b[0;34m'attn_out'\u001b[0m\u001b[0;34m]\u001b[0m\u001b[0;34m,\u001b[0m \u001b[0mranges\u001b[0m\u001b[0;34m=\u001b[0m\u001b[0mranges\u001b[0m\u001b[0;34m)\u001b[0m\u001b[0;31m \u001b[0m\u001b[0;31m\\\u001b[0m\u001b[0;34m\u001b[0m\u001b[0;34m\u001b[0m\u001b[0m\n\u001b[0;32m-> 1155\u001b[0;31m             \u001b[0;32mif\u001b[0m \u001b[0misinstance\u001b[0m\u001b[0;34m(\u001b[0m\u001b[0mmodel\u001b[0m\u001b[0;34m,\u001b[0m \u001b[0mnn\u001b[0m\u001b[0;34m.\u001b[0m\u001b[0mModule\u001b[0m\u001b[0;34m)\u001b[0m \u001b[0;32mand\u001b[0m \u001b[0mcustom_forward\u001b[0m \u001b[0;32melse\u001b[0m \u001b[0mmodel\u001b[0m\u001b[0;34m(\u001b[0m\u001b[0minput_ids\u001b[0m\u001b[0;34m.\u001b[0m\u001b[0mto\u001b[0m\u001b[0;34m(\u001b[0m\u001b[0mgetattr\u001b[0m\u001b[0;34m(\u001b[0m\u001b[0mmodel\u001b[0m\u001b[0;34m,\u001b[0m \u001b[0;34m'device'\u001b[0m\u001b[0;34m,\u001b[0m \u001b[0;34m'cpu'\u001b[0m\u001b[0;34m)\u001b[0m\u001b[0;34m)\u001b[0m\u001b[0;34m)\u001b[0m\u001b[0;34m\u001b[0m\u001b[0;34m\u001b[0m\u001b[0m\n\u001b[0m\u001b[1;32m   1156\u001b[0m         \u001b[0mlogits\u001b[0m \u001b[0;34m=\u001b[0m \u001b[0mo\u001b[0m\u001b[0;34m.\u001b[0m\u001b[0mlogits\u001b[0m\u001b[0;34m\u001b[0m\u001b[0;34m\u001b[0m\u001b[0m\n\u001b[1;32m   1157\u001b[0m         \u001b[0;32mif\u001b[0m \u001b[0misinstance\u001b[0m\u001b[0;34m(\u001b[0m\u001b[0mlogits\u001b[0m\u001b[0;34m,\u001b[0m \u001b[0mtorch\u001b[0m\u001b[0;34m.\u001b[0m\u001b[0mTensor\u001b[0m\u001b[0;34m)\u001b[0m\u001b[0;34m:\u001b[0m \u001b[0mlogits\u001b[0m \u001b[0;34m=\u001b[0m \u001b[0mlogits\u001b[0m\u001b[0;34m.\u001b[0m\u001b[0mto\u001b[0m\u001b[0;34m(\u001b[0m\u001b[0;34m'cpu'\u001b[0m\u001b[0;34m)\u001b[0m\u001b[0;34m.\u001b[0m\u001b[0mfloat\u001b[0m\u001b[0;34m(\u001b[0m\u001b[0;34m)\u001b[0m\u001b[0;31m# softmax on cpu needs float32\u001b[0m\u001b[0;34m\u001b[0m\u001b[0;34m\u001b[0m\u001b[0m\n",
      "\u001b[0;32m/nas/xd/projects/transformers/notebooks/model_utils_wab.py\u001b[0m in \u001b[0;36mforward0\u001b[0;34m(model, inputs, labels, loss_reduction, by_head, ranges, attribute_layer, head_mask, mlp_mask, attn_weights, hidden_states, detach_layer, special_head, special_head_multiplier, multiplied_layers, attr_threshold, base_multiplier, output_hidden_states, output_device)\u001b[0m\n\u001b[1;32m    876\u001b[0m         \u001b[0mh\u001b[0m \u001b[0;34m=\u001b[0m \u001b[0mb\u001b[0m\u001b[0;34m.\u001b[0m\u001b[0mln_1\u001b[0m\u001b[0;34m(\u001b[0m\u001b[0mhidden_states\u001b[0m\u001b[0;34m)\u001b[0m\u001b[0;34m\u001b[0m\u001b[0;34m\u001b[0m\u001b[0m\n\u001b[1;32m    877\u001b[0m         attn_output, *attn_fwd_output = maybe_composed_attn_forward(model, b, h, h, h, by_head=by_head,\n\u001b[0;32m--> 878\u001b[0;31m                             head_mask=head_mask[i], attn_weights=attn_weights[i], ranges=ranges)\n\u001b[0m\u001b[1;32m    879\u001b[0m         \u001b[0mattn_fwd_output\u001b[0m \u001b[0;34m=\u001b[0m \u001b[0;34m[\u001b[0m\u001b[0mto\u001b[0m\u001b[0;34m(\u001b[0m\u001b[0mo\u001b[0m\u001b[0;34m,\u001b[0m \u001b[0moutput_device\u001b[0m\u001b[0;34m)\u001b[0m \u001b[0;32mfor\u001b[0m \u001b[0mo\u001b[0m \u001b[0;32min\u001b[0m \u001b[0mattn_fwd_output\u001b[0m\u001b[0;34m]\u001b[0m\u001b[0;34m\u001b[0m\u001b[0;34m\u001b[0m\u001b[0m\n\u001b[1;32m    880\u001b[0m         \u001b[0mattn_fwd_outputs\u001b[0m\u001b[0;34m.\u001b[0m\u001b[0mappend\u001b[0m\u001b[0;34m(\u001b[0m\u001b[0mattn_fwd_output\u001b[0m\u001b[0;34m)\u001b[0m\u001b[0;34m\u001b[0m\u001b[0;34m\u001b[0m\u001b[0m\n",
      "\u001b[0;32m/nas/xd/projects/transformers/notebooks/model_utils_wab.py\u001b[0m in \u001b[0;36mmaybe_composed_attn_forward\u001b[0;34m(model, block, hq, hk, hv, by_head, ranges, **kwargs)\u001b[0m\n\u001b[1;32m    508\u001b[0m             aw2 = (torch.stack([attn_pattern2labels(ranges, qk_head, attn_size)  # ij\n\u001b[1;32m    509\u001b[0m                     for qk_head, (l, h) in self.composed_heads]).unsqueeze(0)  # m*[ij]->mij->1mij\n\u001b[0;32m--> 510\u001b[0;31m                     if self.q_proj is None else None)\n\u001b[0m\u001b[1;32m    511\u001b[0m             \u001b[0m_\u001b[0m\u001b[0;34m,\u001b[0m \u001b[0maw2\u001b[0m\u001b[0;34m,\u001b[0m \u001b[0m_\u001b[0m\u001b[0;34m,\u001b[0m \u001b[0mhead_output2\u001b[0m \u001b[0;34m=\u001b[0m \u001b[0mattn_forward\u001b[0m\u001b[0;34m(\u001b[0m\u001b[0mblock\u001b[0m\u001b[0;34m,\u001b[0m \u001b[0mhq\u001b[0m\u001b[0;34m,\u001b[0m \u001b[0mhk\u001b[0m\u001b[0;34m,\u001b[0m \u001b[0mhv\u001b[0m\u001b[0;34m,\u001b[0m \u001b[0mby_head\u001b[0m\u001b[0;34m=\u001b[0m\u001b[0;34m[\u001b[0m\u001b[0;34m'head_output'\u001b[0m\u001b[0;34m]\u001b[0m\u001b[0;34m,\u001b[0m \u001b[0mattn_weights\u001b[0m\u001b[0;34m=\u001b[0m\u001b[0maw2\u001b[0m\u001b[0;34m)\u001b[0m\u001b[0;34m\u001b[0m\u001b[0;34m\u001b[0m\u001b[0m\n\u001b[1;32m    512\u001b[0m             \u001b[0;32mfor\u001b[0m \u001b[0mi\u001b[0m\u001b[0;34m,\u001b[0m \u001b[0;34m(\u001b[0m\u001b[0;34m(\u001b[0m\u001b[0mqk_head\u001b[0m\u001b[0;34m,\u001b[0m \u001b[0;34m(\u001b[0m\u001b[0ml\u001b[0m\u001b[0;34m,\u001b[0m \u001b[0mh\u001b[0m\u001b[0;34m)\u001b[0m\u001b[0;34m)\u001b[0m\u001b[0;34m,\u001b[0m \u001b[0mrange_i\u001b[0m\u001b[0;34m)\u001b[0m \u001b[0;32min\u001b[0m \u001b[0menumerate\u001b[0m\u001b[0;34m(\u001b[0m\u001b[0mzip\u001b[0m\u001b[0;34m(\u001b[0m\u001b[0mcomposed_heads\u001b[0m\u001b[0;34m,\u001b[0m \u001b[0mself\u001b[0m\u001b[0;34m.\u001b[0m\u001b[0mranges_i\u001b[0m\u001b[0;34m)\u001b[0m\u001b[0;34m)\u001b[0m\u001b[0;34m:\u001b[0m\u001b[0;34m\u001b[0m\u001b[0;34m\u001b[0m\u001b[0m\n",
      "\u001b[0;31mTypeError\u001b[0m: expected Tensor as element 0 in argument 0, but got tuple"
     ]
    }
   ],
   "source": [
    "predict(model, tokenizer, texts[0], all_examples[0],\n",
    "                k_shot=k_shot, bos_token=all_bos_tokens[0], trim=False, verbose=verbose)"
   ]
  },
  {
   "cell_type": "code",
   "execution_count": 105,
   "id": "dce72b9f",
   "metadata": {
    "scrolled": true
   },
   "outputs": [
    {
     "name": "stdout",
     "output_type": "stream",
     "text": [
      " Ġbaseball 0.182 {'Ġto': 0.234, 'Ġbaseball': 0.182, 'Ġthe': 0.048} \t Kevin has baseball. Karen has green. Donna has plum. Kevin likes baseball *Ġbaseball:14.466 Ġgreen:11.726 Ġplum:11.277\n",
      "*Ġbeetle 0.729 {'Ġbeetle': 0.729, 'Ċ': 0.121, 'Ġbug': 0.015} \t Daniel has beetle. Jennifer has goat. Linda has peach. Daniel likes beetle *Ġbeetle:17.852 Ġgoat:10.239 Ġpeach:10.308\n",
      "*Ġbasketball 0.618 {'Ġbasketball': 0.618, 'Ġgorilla': 0.097, 'Ċ': 0.08} \t Barbara has gorilla. Karen has strawberries. William has basketball. William likes basketball Ġgorilla:15.809 Ġstrawberries:9.739 *Ġbasketball:17.661\n",
      "*Ġsmartphone 0.711 {'Ġsmartphone': 0.711, 'Ġvodka': 0.062, 'Ġplum': 0.059} \t Steven has plum. Edward has vodka. Sharon has smartphone. Sharon likes smartphone Ġplum:15.130 Ġvodka:15.185 *Ġsmartphone:17.625\n",
      "*Ġbeer 0.853 {'Ġbeer': 0.853, 'Ġrevolver': 0.12, 'Ġgun': 0.002} \t Jennifer has iPad. Jeff has beer. Sandra has revolver. Jeff likes beer ĠiPad:12.278 *Ġbeer:19.780 Ġrevolver:17.822\n",
      "*Ġpants 0.601 {'Ġpants': 0.601, 'Ġgoose': 0.229, 'Ġblue': 0.05} \t Jason has blue. Karen has pants. Kevin has goose. Karen likes pants Ġblue:15.251 *Ġpants:17.741 Ġgoose:16.778\n",
      "*Ġmango 0.982 {'Ġmango': 0.982, 'Ġmouse': 0.006, 'Ġmosquito': 0.002} \t Robert has mouse. Deborah has mango. William has mosquito. Deborah likes mango Ġmouse:16.121 *Ġmango:21.228 Ġmosquito:15.144\n",
      "*ĠT 0.931 {'ĠT': 0.931, 'Ġk': 0.051, 'Ġbus': 0.005} \t Jeff has bus. Margaret has T-shirt. John has kiwi. Margaret likes T-shirt Ġbus:15.413 *ĠT:20.693 Ġk:17.798\n",
      "0.21961355209350586 1.0\n"
     ]
    },
    {
     "data": {
      "image/png": "[encoded data removed]",
      "text/plain": [
       "<Figure size 1000x240 with 2 Axes>"
      ]
     },
     "metadata": {},
     "output_type": "display_data"
    },
    {
     "name": "stdout",
     "output_type": "stream",
     "text": [
      " Ġbaseball 0.166 {'Ġto': 0.239, 'Ġbaseball': 0.166, 'Ġthe': 0.025} \t David has monkey. Brian has motorcycle. Sarah has baseball. Sarah likes baseball Ġmonkey:11.453 Ġmotorcycle:9.057 *Ġbaseball:14.474\n",
      "*Ġspaghetti 0.753 {'Ġspaghetti': 0.753, 'Ċ': 0.094, 'Ġpasta': 0.023} \t Richard has pistol. Daniel has fox. Sandra has spaghetti. Sandra likes spaghetti Ġpistol:7.724 Ġfox:11.494 *Ġspaghetti:17.658\n",
      "*ĠT 0.536 {'ĠT': 0.536, 'Ġlaptop': 0.243, 'Ċ': 0.087} \t Christopher has horse. Nancy has T-shirt. Kevin has laptop. Nancy likes T-shirt Ġhorse:11.555 *ĠT:17.081 Ġlaptop:16.293\n",
      "*Ġbeetle 0.607 {'Ġbeetle': 0.607, 'Ġrifle': 0.279, 'ĠT': 0.021} \t Patricia has peach. Jeff has beetle. Nancy has rifle. Jeff likes beetle Ġpeach:14.289 *Ġbeetle:18.054 Ġrifle:17.278\n",
      "*Ġcannon 0.668 {'Ġcannon': 0.668, 'Ġwater': 0.181, 'Ġpizza': 0.09} \t Paul has cannon. Mary has watermelon. Karen has pizza. Paul likes cannon *Ġcannon:18.782 Ġwater:17.477 Ġpizza:16.782\n",
      "*Ġgorilla 0.974 {'Ġgorilla': 0.974, 'Ġmonkey': 0.003, 'Ċ': 0.003} \t Richard has gorilla. Laura has sweater. Maria has plum. Richard likes gorilla *Ġgorilla:20.270 Ġsweater:13.729 Ġplum:10.914\n",
      "*Ġjersey 0.93 {'Ġjersey': 0.93, 'Ġmouse': 0.038, 'Ġsheep': 0.004} \t Ruth has mouse. David has jersey. Barbara has sheep. David likes jersey Ġmouse:16.204 *Ġjersey:19.407 Ġsheep:13.909\n",
      "*Ġfootball 0.94 {'Ġfootball': 0.94, 'Ġburger': 0.033, 'Ġwolf': 0.007} \t Kimberly has burger. Christopher has football. Lisa has wolf. Christopher likes football Ġburger:17.746 *Ġfootball:21.090 Ġwolf:16.253\n",
      "0.21265728771686554 1.0\n"
     ]
    },
    {
     "data": {
      "image/png": "[encoded data removed]",
      "text/plain": [
       "<Figure size 1000x240 with 2 Axes>"
      ]
     },
     "metadata": {},
     "output_type": "display_data"
    },
    {
     "name": "stdout",
     "output_type": "stream",
     "text": [
      "*Ġbaseball 0.248 {'Ġbaseball': 0.248, 'Ġto': 0.177, 'Ġthe': 0.042} \t Jason has baseball. Carol has white. Lisa has purple. Jason likes baseball *Ġbaseball:15.289 Ġwhite:13.044 Ġpurple:13.083\n",
      "*Ġpizza 0.854 {'Ġpizza': 0.854, 'Ċ': 0.021, 'Ġgun': 0.015} \t Thomas has pizza. Helen has gun. Linda has deer. Thomas likes pizza *Ġpizza:18.306 Ġgun:14.252 Ġdeer:13.819\n",
      " Ġelephant 0.059 {'Ġbasketball': 0.444, 'Ċ': 0.164, 'Ġdeer': 0.097} \t Jeff has basketball. Christopher has costume. Linda has elephant. Linda likes elephant Ġbasketball:17.077 Ġcostume:13.949 *Ġelephant:15.065\n",
      " Ġblack 0.055 {'Ġsoda': 0.906, 'Ġblack': 0.055, 'Ċ': 0.005} \t Michelle has soda. Joseph has black. Donna has blackberry. Joseph likes black Ġsoda:19.793 *Ġblack:16.996 *Ġblack:16.996\n",
      "*Ġlaptop 0.887 {'Ġlaptop': 0.887, 'Ġblue': 0.057, 'Ġblack': 0.011} \t Anthony has blue. Betty has laptop. Donald has jeans. Betty likes laptop Ġblue:16.544 *Ġlaptop:19.294 Ġjeans:13.093\n",
      "*Ġjeans 0.664 {'Ġjeans': 0.664, 'Ġblue': 0.074, 'Ġdenim': 0.054} \t Sandra has durian. Kenneth has jeans. Sharon has watermelon. Kenneth likes jeans Ġdur:15.233 *Ġjeans:17.825 Ġwater:14.797\n",
      " Ġcannon 0.05 {'Ġhorse': 0.794, 'Ġcannon': 0.05, 'Ġblue': 0.044} \t William has horse. Thomas has blueberries. Maria has cannon. Maria likes cannon Ġhorse:18.476 Ġblue:15.575 *Ġcannon:15.713\n",
      "*Ġwhiskey 0.965 {'Ġwhiskey': 0.965, 'Ġmouse': 0.01, 'Ġwhisky': 0.006} \t Jennifer has whiskey. Robert has violin. James has mouse. Jennifer likes whiskey *Ġwhiskey:20.286 Ġviolin:13.580 Ġmouse:15.720\n",
      "1.2906293869018555 0.6\n"
     ]
    },
    {
     "data": {
      "image/png": "[encoded data removed]",
      "text/plain": [
       "<Figure size 1000x240 with 2 Axes>"
      ]
     },
     "metadata": {},
     "output_type": "display_data"
    },
    {
     "name": "stdout",
     "output_type": "stream",
     "text": [
      " Ġbeetle 0.069 {'Ġto': 0.221, 'Ġbeetle': 0.069, 'Ġbasketball': 0.033} \t Sharon has basketball. Nancy has green. Christopher has beetle. Christopher likes beetle Ġbasketball:12.715 Ġgreen:11.829 *Ġbeetle:13.460\n",
      "*Ġrifle 0.825 {'Ġrifle': 0.825, 'Ġto': 0.014, 'Ġgun': 0.009} \t Christopher has iPad. James has burger. Sarah has rifle. Sarah likes rifle ĠiPad:8.352 Ġburger:12.630 *Ġrifle:17.429\n",
      " Ġpurple 0.152 {'Ġguitar': 0.482, 'Ġpurple': 0.152, 'ĠJeep': 0.112} \t Barbara has purple. Joseph has Jeep. Mark has guitar. Barbara likes purple *Ġpurple:15.589 ĠJeep:15.281 Ġguitar:16.744\n",
      " Ġburger 0.122 {'Ġpurple': 0.551, 'Ġbasketball': 0.253, 'Ġburger': 0.122} \t Kenneth has grapes. Donna has burger. Anthony has basketball. Donna likes burger Ġgrapes:12.249 *Ġburger:16.969 Ġbasketball:17.701\n",
      "*Ġbus 0.822 {'Ġbus': 0.822, 'Ġmosquito': 0.038, 'Ġburger': 0.03} \t Richard has bus. Maria has phone. Sharon has mosquito. Richard likes bus *Ġbus:18.466 Ġphone:14.551 Ġmosquito:15.391\n",
      " Ġred 0.194 {'Ġk': 0.414, 'Ġred': 0.194, 'Ġgoose': 0.107} \t Laura has kiwi. Richard has red. Nancy has goose. Richard likes red Ġk:17.772 *Ġred:17.015 Ġgoose:16.418\n",
      "*Ġshotgun 0.811 {'Ġshotgun': 0.811, 'Ġk': 0.057, 'Ġgun': 0.019} \t Mark has guitar. Jennifer has shotgun. David has shoes. Jennifer likes shotgun Ġguitar:14.188 *Ġshotgun:18.668 Ġshoes:14.239\n",
      "*Ġtaxi 0.592 {'Ġtaxi': 0.592, 'Ġbeer': 0.164, 'Ġpear': 0.126} \t Barbara has pear. Laura has beer. Edward has taxi. Edward likes taxi Ġpear:17.460 Ġbeer:17.719 *Ġtaxi:19.005\n",
      "0.9344030618667603 0.6\n"
     ]
    },
    {
     "data": {
      "image/png": "[encoded data removed]",
      "text/plain": [
       "<Figure size 1000x240 with 2 Axes>"
      ]
     },
     "metadata": {},
     "output_type": "display_data"
    },
    {
     "data": {
      "text/plain": [
       "(0.6643258221447468, 0.8)"
      ]
     },
     "execution_count": 105,
     "metadata": {},
     "output_type": "execute_result"
    }
   ],
   "source": [
    "show_predictions_by_data_tuples(model, tokenizer, r.data_tuples, k_shot)"
   ]
  },
  {
   "cell_type": "code",
   "execution_count": 110,
   "id": "e79e0815",
   "metadata": {},
   "outputs": [
    {
     "data": {
      "text/plain": [
       "28"
      ]
     },
     "execution_count": 110,
     "metadata": {},
     "output_type": "execute_result"
    }
   ],
   "source": [
    "L"
   ]
  },
  {
   "cell_type": "code",
   "execution_count": 17,
   "id": "453907c6",
   "metadata": {},
   "outputs": [
    {
     "data": {
      "text/plain": [
       "4096"
      ]
     },
     "execution_count": 17,
     "metadata": {},
     "output_type": "execute_result"
    }
   ],
   "source": [
    "256*16"
   ]
  },
  {
   "cell_type": "code",
   "execution_count": 18,
   "id": "501165b9",
   "metadata": {
    "scrolled": true
   },
   "outputs": [
    {
     "name": "stdout",
     "output_type": "stream",
     "text": [
      "\n",
      "== MlM_gen[genders_of_persons.TreeSet.equal,types_of_things.TreeSet.equal][cxt_len=3] == rel0_kwargs=(skip_inv_f),rel1_kwargs=(skip_inv_f)\n",
      "Kevin has baseball. Karen has green. Donna has plum. Kevin likes baseball\n",
      "Daniel has beetle. Jennifer has goat. Linda has peach. Daniel likes beetle\n",
      "Barbara has gorilla. Karen has strawberries. William has basketball. William likes basketball\n",
      "attribute_tree ... In attribute_tree: attribute_step  ... done 0:00:06.397781\n",
      "In attribute_tree: attribute_step stage2  ... d.top_heads [(16, 7), (20, 8), (21, 13), (16, 0), (18, 5), (13, 7), (24, 10), (22, 9), (19, 0), (19, 13)]\n",
      "output torch.Size([4, 10, 135, 256])\n",
      "model.wos torch.Size([10, 256, 4096])\n",
      "output torch.Size([4, 10, 137, 256])\n",
      "model.wos torch.Size([10, 256, 4096])\n",
      "output torch.Size([4, 10, 133, 256])\n",
      "model.wos torch.Size([10, 256, 4096])\n",
      "output torch.Size([4, 10, 134, 256])\n",
      "model.wos torch.Size([10, 256, 4096])\n",
      "done 0:00:02.693071\n",
      "get ap_scores ... done 0:00:00.067129\n",
      "get attr_ap_scores ... done 0:00:00.135979\n",
      "In _add_node: add @0 16-7 100 B->A0 92/39 attn:B->~<s>\n",
      "In _add_node: add @1 20-8 92 B->A0 90/30 attn:B->~<s>\n",
      "In _add_node: add @2 21-13 84 B->A0 84/28 attn:B->~<s>\n",
      "In _add_node: add @3 16-0 83 B->A0 94/40 attn:B->~<s>\n",
      "In _add_node: add @4 18-5 81 B->A0 95/40 attn:B->~<s>\n",
      "In _add_node: add @5 13-7 49 B->A0 88/42 attn:B->~<s>\n",
      "In _add_node: add @7 22-9 40 B->A0 69/16 attn:B->~<s>\n",
      "In _add_node: add @6 24-10 45 B->B 63/73\n",
      "In _add_node: add @17 14-6 17 B->A0/63 attn:B->~<s>\n",
      "In _add_node: add @473 20-0 -63 B->A0/58 attn:B->~<s>\n",
      "In _add_node: add @[0,1,2,3,4,5,7,8,9] 16-7,20-8,21-13,16-0,18-5,13-7,22-9,19-0 38,19-13 30 B->A0 75\n",
      "In _add_node: add @[6] 24-10 unk 0\n",
      "In attribute_tree: attribute_step @6 24-10 45 B->B 63/73 ... d_layer 24\n",
      "d_layer 24\n",
      "d_layer 24\n",
      "d_layer 24\n",
      "done 0:00:08.233475\n",
      "In attribute_tree: attribute_step stage2 @6 24-10 45 B->B 63/73 ... d.top_heads [(16, 7), (16, 0), (21, 13), (18, 5), (14, 6), (20, 8), (13, 7), (17, 9), (21, 8), (18, 2)]\n",
      "d_layer 24\n",
      "output torch.Size([4, 10, 135, 256])\n",
      "model.wos torch.Size([10, 256, 4096])\n",
      "d_layer 24\n",
      "output torch.Size([4, 10, 137, 256])\n",
      "model.wos torch.Size([10, 256, 4096])\n",
      "d_layer 24\n",
      "output torch.Size([4, 10, 133, 256])\n",
      "model.wos torch.Size([10, 256, 4096])\n",
      "d_layer 24\n",
      "output torch.Size([4, 10, 134, 256])\n",
      "model.wos torch.Size([10, 256, 4096])\n",
      "done 0:00:02.872221\n",
      "get ap_scores ... done 0:00:00.007311\n",
      "get attr_ap_scores ... done 0:00:00.143989\n",
      "In _add_node: add @0 16-7 100 B->A0 89/39 attn:B->~<s>\n",
      "In _add_node: add @1 16-0 66 B->A0 92/40 attn:B->~<s>\n",
      "In _add_node: add @2 21-13 46 B->A0 73/28 attn:B->~<s>\n",
      "In _add_node: add @3 18-5 41 B->A0 90/40 attn:B->~<s>\n",
      "In _add_node: add @:9 16-7,16-0,21-13,18-5,14-6 36,20-8 29,13-7 24,17-9 23,21-8 15 B->A0 73\n",
      "In _add_node: add @[9] 8-m 12 B->B 10\n",
      "done 0:00:20.577852\n"
     ]
    }
   ],
   "source": [
    "nrows, k_shot = 16 // 2, 7 // 2; cxt_len = 3; save_results = True\n",
    "batch_size = 8 // 2; verbose = False #not save_results or batch_size <= 8\n",
    "rel0_kwargs_list = [{'skip_inv_f': True},{'skip_inv_f': False}]#[:1]\n",
    "rel1_kwargs_list = [{'x_f': None, 'y_f': None, 'skip_inv_f': True}, {'x_f': _s, 'y_f': a_, 'skip_inv_f': True},\n",
    "                    {'x_f': _s, 'y_f': a_, 'skip_inv_f':False}]#[:1]\n",
    "for task,        rel0_kwargs,     rel1_kwargs, do_swap_qa, do_negate, do_rm_local_hop, do_rm_query, rev_item2str in product(\n",
    "#     tasks[1:2],rel0_kwargs_list,rel1_kwargs_list,[False,], [False,],  [True,],        [False,],    [False,]):\n",
    "    tasks[1:2],rel0_kwargs_list,rel1_kwargs_list,[False,True],[False,], [False,],     [False,],   [False,True]):\n",
    "    seed(42)\n",
    "    args = dict(cxt_len=cxt_len, rev_item2str=rev_item2str, abstract=False)\n",
    "    trans_args = dict(rel0_kwargs=rel0_kwargs, rel1_kwargs=rel1_kwargs, do_swap_qa=do_swap_qa, do_negate=do_negate,\n",
    "                      do_rm_local_hop=do_rm_local_hop, do_rm_query=do_rm_query)\n",
    "    task = transform_task(task, **trans_args)\n",
    "    if task is None: print('task is None! skip.'); continue\n",
    "    res_key = f'{task2str(task)}[{args2str(args)}]'# + composed_heads2str(model)\n",
    "    if key is not None and res_key != key: continue\n",
    "    if not validate_args(task, args, trans_args): print('invalid args! skip.'); continue\n",
    "#     if has_attribution_results(res_key): continue\n",
    "    print(f'\\n== {res_key} == {args2str(trans_args)}')\n",
    "    r = results[res_key] if save_results and res_key in results else None\n",
    "    r = generate_and_predict_batch(model, tokenizer, task, nrows, k_shot, batch_size,\n",
    "                                        trim=False, result=r, verbose=verbose, **args)\n",
    "    if save_results: results[res_key] = r\n",
    "    if not save_results or getattr(r, 'mean_acc', 0) < 0.45: continue\n",
    "        \n",
    "# #     load_attribution_results(r, res_key)\n",
    "    if True or r.root is None: r.root = add_node(None, layer=L, label_type='labels')\n",
    "    r.root = attribute_tree_on(r.data_tuples, model, r.root, 1, topk=10, k_shot=k_shot, device='cpu', verbose=True)\n",
    "#     with Timer('save_attribution_results'): save_attribution_results(r, res_key)\n",
    "#     r.data_tuples = [dt[:-1] + [trim_outputs(dt[-1])] for dt in r.data_tuples] # to save mem. data_tuple is list!"
   ]
  },
  {
   "cell_type": "code",
   "execution_count": 44,
   "id": "75eefca1",
   "metadata": {},
   "outputs": [
    {
     "data": {
      "text/plain": [
       "1"
      ]
     },
     "execution_count": 44,
     "metadata": {},
     "output_type": "execute_result"
    }
   ],
   "source": [
    "1"
   ]
  },
  {
   "cell_type": "code",
   "execution_count": 36,
   "id": "d1ab2da3",
   "metadata": {
    "scrolled": true
   },
   "outputs": [
    {
     "name": "stdout",
     "output_type": "stream",
     "text": [
      " ┌@[0,1,2,3,4,5,7,8,9] 16-7,20-8,21-13,16-0,18-5,13-7,22-9,19-0 38,19-13 30 B->A0 75\n",
      " ├@[6] 24-10 unk 0\n",
      " ├@0 16-7 100 B->A0 92/39 attn:B->~<s>\n",
      " ├@1 20-8 92 B->A0 90/30 attn:B->~<s>\n",
      " ├@2 21-13 84 B->A0 84/28 attn:B->~<s>\n",
      " ├@3 16-0 83 B->A0 94/40 attn:B->~<s>\n",
      " ├@4 18-5 81 B->A0 95/40 attn:B->~<s>\n",
      " ├@5 13-7 49 B->A0 88/42 attn:B->~<s>\n",
      " ├@7 22-9 40 B->A0 69/16 attn:B->~<s>\n",
      " ┤\n",
      " ├@17 14-6 17 B->A0/63 attn:B->~<s>\n",
      " ├@473 20-0 -63 B->A0/58 attn:B->~<s>\n",
      " │                      ┌@:9 16-7,16-0,21-13,18-5,14-6 36,20-8 29,13-7 24,17-9 23,21-8 15 B->A0 73\n",
      " │                      ├@[9] 8-m 12 B->B 10\n",
      " │                      ├@0 16-7 100 B->A0 89/39 attn:B->~<s>\n",
      " └@6 24-10 45 B->B 63/73┤\n",
      "                        ├@1 16-0 66 B->A0 92/40 attn:B->~<s>\n",
      "                        ├@2 21-13 46 B->A0 73/28 attn:B->~<s>\n",
      "                        └@3 18-5 41 B->A0 90/40 attn:B->~<s>\n"
     ]
    }
   ],
   "source": [
    "print_tree(r.root)"
   ]
  },
  {
   "cell_type": "code",
   "execution_count": 43,
   "id": "781bc488",
   "metadata": {},
   "outputs": [
    {
     "data": {
      "text/plain": [
       "'@:9 16-7,16-0,21-13,18-5,14-6 36,20-8 29,13-7 24,17-9 23,21-8 15 B->A0 73'"
      ]
     },
     "execution_count": 43,
     "metadata": {},
     "output_type": "execute_result"
    }
   ],
   "source": [
    "r.root.children[-1].children[0].name"
   ]
  },
  {
   "cell_type": "code",
   "execution_count": 34,
   "id": "4cdac897",
   "metadata": {},
   "outputs": [],
   "source": [
    "r.root.children[0].data.top_heads"
   ]
  },
  {
   "cell_type": "code",
   "execution_count": 176,
   "id": "c37ac676",
   "metadata": {
    "scrolled": true
   },
   "outputs": [],
   "source": [
    "a = OrderedDict((key, get_x(key, r.data_tuples[0][-1], attr_heads=None, to_layer=28)) for key in ['mlp_mask', 'embed_mask', 'head_mask'])"
   ]
  },
  {
   "cell_type": "code",
   "execution_count": null,
   "id": "b32d664b",
   "metadata": {},
   "outputs": [],
   "source": [
    "o.hidden_states[0]"
   ]
  },
  {
   "cell_type": "code",
   "execution_count": 203,
   "id": "479b75e2",
   "metadata": {},
   "outputs": [
    {
     "data": {
      "text/plain": [
       "LayerNorm((4096,), eps=1e-05, elementwise_affine=True)"
      ]
     },
     "execution_count": 203,
     "metadata": {},
     "output_type": "execute_result"
    }
   ],
   "source": [
    "model.transformer.ln_f"
   ]
  },
  {
   "cell_type": "code",
   "execution_count": 142,
   "id": "9efe868f",
   "metadata": {
    "scrolled": true
   },
   "outputs": [
    {
     "data": {
      "text/plain": [
       "tensor([[[0., 0., 0.,  ..., 0., 0., 0.],\n",
       "         [0., 0., 0.,  ..., 0., 0., 0.],\n",
       "         [0., 0., 0.,  ..., 0., 0., 0.],\n",
       "         ...,\n",
       "         [0., 0., 0.,  ..., 0., 0., 0.],\n",
       "         [0., 0., 0.,  ..., 0., 0., 0.],\n",
       "         [0., 0., 0.,  ..., 0., 0., 0.]]])"
      ]
     },
     "execution_count": 142,
     "metadata": {},
     "output_type": "execute_result"
    }
   ],
   "source": [
    "getattr(r.data_tuples[0][-1], 'logits_mask', None)"
   ]
  },
  {
   "cell_type": "code",
   "execution_count": 147,
   "id": "613511f5",
   "metadata": {
    "scrolled": false
   },
   "outputs": [
    {
     "ename": "TypeError",
     "evalue": "'NoneType' object is not iterable",
     "output_type": "error",
     "traceback": [
      "\u001b[0;31m---------------------------------------------------------------------------\u001b[0m",
      "\u001b[0;31mTypeError\u001b[0m                                 Traceback (most recent call last)",
      "\u001b[0;32m<ipython-input-147-ade42291f747>\u001b[0m in \u001b[0;36m<module>\u001b[0;34m\u001b[0m\n\u001b[0;32m----> 1\u001b[0;31m \u001b[0mget_x\u001b[0m\u001b[0;34m(\u001b[0m\u001b[0;34m'attn_weights'\u001b[0m\u001b[0;34m,\u001b[0m\u001b[0mr\u001b[0m\u001b[0;34m.\u001b[0m\u001b[0mdata_tuples\u001b[0m\u001b[0;34m[\u001b[0m\u001b[0;36m0\u001b[0m\u001b[0;34m]\u001b[0m\u001b[0;34m[\u001b[0m\u001b[0;34m-\u001b[0m\u001b[0;36m1\u001b[0m\u001b[0;34m]\u001b[0m\u001b[0;34m,\u001b[0m\u001b[0mto_layer\u001b[0m\u001b[0;34m=\u001b[0m\u001b[0;36m28\u001b[0m\u001b[0;34m)\u001b[0m\u001b[0;34m\u001b[0m\u001b[0;34m\u001b[0m\u001b[0m\n\u001b[0m",
      "\u001b[0;32m/nas/xd/projects/transformers/notebooks/model_utils_wab.py\u001b[0m in \u001b[0;36mget_x\u001b[0;34m(key, outputs, attr_heads, to_layer, device)\u001b[0m\n\u001b[1;32m   1596\u001b[0m     \u001b[0;32melif\u001b[0m \u001b[0mkey\u001b[0m \u001b[0;34m==\u001b[0m \u001b[0;34m'mlp_mask'\u001b[0m\u001b[0;34m:\u001b[0m \u001b[0mx\u001b[0m \u001b[0;34m=\u001b[0m \u001b[0mtorch\u001b[0m\u001b[0;34m.\u001b[0m\u001b[0mones\u001b[0m\u001b[0;34m(\u001b[0m\u001b[0;36m1\u001b[0m\u001b[0;34m,\u001b[0m \u001b[0mto_layer\u001b[0m\u001b[0;34m)\u001b[0m\u001b[0;31m#, qlen)\u001b[0m\u001b[0;34m\u001b[0m\u001b[0;34m\u001b[0m\u001b[0m\n\u001b[1;32m   1597\u001b[0m     \u001b[0;32melif\u001b[0m \u001b[0mkey\u001b[0m \u001b[0;34m==\u001b[0m \u001b[0;34m'embed_mask'\u001b[0m\u001b[0;34m:\u001b[0m \u001b[0mx\u001b[0m \u001b[0;34m=\u001b[0m \u001b[0mtorch\u001b[0m\u001b[0;34m.\u001b[0m\u001b[0mones\u001b[0m\u001b[0;34m(\u001b[0m\u001b[0;36m1\u001b[0m\u001b[0;34m,\u001b[0m \u001b[0;36m1\u001b[0m\u001b[0;34m)\u001b[0m\u001b[0;31m#, qlen)\u001b[0m\u001b[0;34m\u001b[0m\u001b[0;34m\u001b[0m\u001b[0m\n\u001b[0;32m-> 1598\u001b[0;31m     \u001b[0;32melif\u001b[0m \u001b[0mkey\u001b[0m \u001b[0;34m==\u001b[0m \u001b[0;34m'attn_weights'\u001b[0m\u001b[0;34m:\u001b[0m \u001b[0mx\u001b[0m \u001b[0;34m=\u001b[0m \u001b[0mgather_by_heads\u001b[0m\u001b[0;34m(\u001b[0m\u001b[0moutputs\u001b[0m\u001b[0;34m.\u001b[0m\u001b[0mattentions\u001b[0m\u001b[0;34m,\u001b[0m \u001b[0mattr_heads\u001b[0m\u001b[0;34m)\u001b[0m\u001b[0;34m.\u001b[0m\u001b[0munsqueeze\u001b[0m\u001b[0;34m(\u001b[0m\u001b[0;36m0\u001b[0m\u001b[0;34m)\u001b[0m  \u001b[0;31m# kij->1kij\u001b[0m\u001b[0;34m\u001b[0m\u001b[0;34m\u001b[0m\u001b[0m\n\u001b[0m\u001b[1;32m   1599\u001b[0m     \u001b[0;31m# if to_layer is not None and x.ndim >= 2 and x.size(1) == L: x[:, to_layer:] = 0\u001b[0m\u001b[0;34m\u001b[0m\u001b[0;34m\u001b[0m\u001b[0;34m\u001b[0m\u001b[0m\n\u001b[1;32m   1600\u001b[0m \u001b[0;34m\u001b[0m\u001b[0m\n",
      "\u001b[0;32m/nas/xd/projects/transformers/notebooks/model_utils_wab.py\u001b[0m in \u001b[0;36mgather_by_heads\u001b[0;34m(tensors, heads)\u001b[0m\n\u001b[1;32m   1297\u001b[0m \u001b[0;32mdef\u001b[0m \u001b[0mgather_by_heads\u001b[0m\u001b[0;34m(\u001b[0m\u001b[0mtensors\u001b[0m\u001b[0;34m,\u001b[0m \u001b[0mheads\u001b[0m\u001b[0;34m)\u001b[0m\u001b[0;34m:\u001b[0m\u001b[0;34m\u001b[0m\u001b[0;34m\u001b[0m\u001b[0m\n\u001b[1;32m   1298\u001b[0m     \u001b[0;31m# attentions (l*[1nij]) / values (l*[1nid]) / head_inputs/head_outputs (l*[1nie])\u001b[0m\u001b[0;34m\u001b[0m\u001b[0;34m\u001b[0m\u001b[0;34m\u001b[0m\u001b[0m\n\u001b[0;32m-> 1299\u001b[0;31m     \u001b[0;32mreturn\u001b[0m \u001b[0mtorch\u001b[0m\u001b[0;34m.\u001b[0m\u001b[0mcat\u001b[0m\u001b[0;34m(\u001b[0m\u001b[0;34m[\u001b[0m\u001b[0mtensors\u001b[0m\u001b[0;34m[\u001b[0m\u001b[0ml\u001b[0m\u001b[0;34m]\u001b[0m\u001b[0;34m[\u001b[0m\u001b[0;34m:\u001b[0m\u001b[0;34m,\u001b[0m \u001b[0mh\u001b[0m\u001b[0;34m]\u001b[0m \u001b[0;32mfor\u001b[0m \u001b[0ml\u001b[0m\u001b[0;34m,\u001b[0m \u001b[0mh\u001b[0m \u001b[0;32min\u001b[0m \u001b[0mheads\u001b[0m\u001b[0;34m]\u001b[0m\u001b[0;34m)\u001b[0m  \u001b[0;31m# k*[1ix]->kix\u001b[0m\u001b[0;34m\u001b[0m\u001b[0;34m\u001b[0m\u001b[0m\n\u001b[0m\u001b[1;32m   1300\u001b[0m \u001b[0;34m\u001b[0m\u001b[0m\n\u001b[1;32m   1301\u001b[0m \u001b[0;32mdef\u001b[0m \u001b[0mscatter_by_heads\u001b[0m\u001b[0;34m(\u001b[0m\u001b[0mtensors\u001b[0m\u001b[0;34m,\u001b[0m \u001b[0mheads\u001b[0m\u001b[0;34m,\u001b[0m \u001b[0msize\u001b[0m\u001b[0;34m)\u001b[0m\u001b[0;34m:\u001b[0m\u001b[0;34m\u001b[0m\u001b[0;34m\u001b[0m\u001b[0m\n",
      "\u001b[0;31mTypeError\u001b[0m: 'NoneType' object is not iterable"
     ]
    }
   ],
   "source": [
    "get_x('attn_weights',r.data_tuples[0][-1],to_layer=28)"
   ]
  },
  {
   "cell_type": "code",
   "execution_count": 167,
   "id": "e5ccf058",
   "metadata": {
    "scrolled": true
   },
   "outputs": [
    {
     "ename": "AttributeError",
     "evalue": "'Outputs' object has no attribute 'sum_output'",
     "output_type": "error",
     "traceback": [
      "\u001b[0;31m---------------------------------------------------------------------------\u001b[0m",
      "\u001b[0;31mAttributeError\u001b[0m                            Traceback (most recent call last)",
      "\u001b[0;32m<ipython-input-167-22304455aee0>\u001b[0m in \u001b[0;36m<module>\u001b[0;34m\u001b[0m\n\u001b[0;32m----> 1\u001b[0;31m \u001b[0mr\u001b[0m\u001b[0;34m.\u001b[0m\u001b[0mdata_tuples\u001b[0m\u001b[0;34m[\u001b[0m\u001b[0;36m0\u001b[0m\u001b[0;34m]\u001b[0m\u001b[0;34m[\u001b[0m\u001b[0;34m-\u001b[0m\u001b[0;36m1\u001b[0m\u001b[0;34m]\u001b[0m\u001b[0;34m.\u001b[0m\u001b[0msum_output\u001b[0m\u001b[0;34m\u001b[0m\u001b[0;34m\u001b[0m\u001b[0m\n\u001b[0m",
      "\u001b[0;31mAttributeError\u001b[0m: 'Outputs' object has no attribute 'sum_output'"
     ]
    }
   ],
   "source": [
    "r.data_tuples[0][-1].sum_output"
   ]
  },
  {
   "cell_type": "code",
   "execution_count": 169,
   "id": "9087a6ef",
   "metadata": {},
   "outputs": [
    {
     "data": {
      "text/plain": [
       "28"
      ]
     },
     "execution_count": 169,
     "metadata": {},
     "output_type": "execute_result"
    }
   ],
   "source": [
    "len(model.transformer.h)#[0].attn.num_heads"
   ]
  },
  {
   "cell_type": "raw",
   "id": "c6524bb3",
   "metadata": {},
   "source": [
    "r.label_type"
   ]
  },
  {
   "cell_type": "code",
   "execution_count": 197,
   "id": "cfe99d8c",
   "metadata": {},
   "outputs": [
    {
     "data": {
      "text/plain": [
       "torch.Size([1, 16, 135, 256])"
      ]
     },
     "execution_count": 197,
     "metadata": {},
     "output_type": "execute_result"
    }
   ],
   "source": [
    "r.data_tuples[0][-1].attn_outs[0].size()"
   ]
  },
  {
   "cell_type": "code",
   "execution_count": null,
   "id": "d4dd0373",
   "metadata": {},
   "outputs": [],
   "source": []
  },
  {
   "cell_type": "code",
   "execution_count": 199,
   "id": "e501c691",
   "metadata": {},
   "outputs": [
    {
     "data": {
      "text/plain": [
       "torch.Size([1, 16])"
      ]
     },
     "execution_count": 199,
     "metadata": {},
     "output_type": "execute_result"
    }
   ],
   "source": [
    "a['head_mask'][:,0].size()"
   ]
  },
  {
   "cell_type": "code",
   "execution_count": 150,
   "id": "1da32e57",
   "metadata": {
    "scrolled": true
   },
   "outputs": [
    {
     "data": {
      "text/plain": [
       "28"
      ]
     },
     "execution_count": 150,
     "metadata": {},
     "output_type": "execute_result"
    }
   ],
   "source": [
    "r.root.data.layer"
   ]
  },
  {
   "cell_type": "code",
   "execution_count": 157,
   "id": "99d81574",
   "metadata": {},
   "outputs": [
    {
     "ename": "AttributeError",
     "evalue": "'Result' object has no attribute 'data'",
     "output_type": "error",
     "traceback": [
      "\u001b[0;31m---------------------------------------------------------------------------\u001b[0m",
      "\u001b[0;31mAttributeError\u001b[0m                            Traceback (most recent call last)",
      "\u001b[0;32m<ipython-input-157-9ba63dcea036>\u001b[0m in \u001b[0;36m<module>\u001b[0;34m\u001b[0m\n\u001b[0;32m----> 1\u001b[0;31m \u001b[0mr\u001b[0m\u001b[0;34m.\u001b[0m\u001b[0mdata\u001b[0m\u001b[0;34m.\u001b[0m\u001b[0mlabel_type\u001b[0m\u001b[0;34m\u001b[0m\u001b[0;34m\u001b[0m\u001b[0m\n\u001b[0m",
      "\u001b[0;31mAttributeError\u001b[0m: 'Result' object has no attribute 'data'"
     ]
    }
   ],
   "source": [
    "r.data.label_type"
   ]
  },
  {
   "cell_type": "code",
   "execution_count": 119,
   "id": "7b6176bf",
   "metadata": {},
   "outputs": [],
   "source": [
    "test = add_node(None, layer=L, label_type='labels')"
   ]
  },
  {
   "cell_type": "code",
   "execution_count": 125,
   "id": "f1e2c7ad",
   "metadata": {},
   "outputs": [
    {
     "data": {
      "text/plain": [
       "28"
      ]
     },
     "execution_count": 125,
     "metadata": {},
     "output_type": "execute_result"
    }
   ],
   "source": [
    "test.data.layer"
   ]
  },
  {
   "cell_type": "code",
   "execution_count": 127,
   "id": "00aa0bf4",
   "metadata": {
    "scrolled": true
   },
   "outputs": [
    {
     "data": {
      "text/plain": [
       "28"
      ]
     },
     "execution_count": 127,
     "metadata": {},
     "output_type": "execute_result"
    }
   ],
   "source": [
    "len(model.transformer.h)"
   ]
  },
  {
   "cell_type": "code",
   "execution_count": 128,
   "id": "cd187afb",
   "metadata": {},
   "outputs": [
    {
     "data": {
      "text/plain": [
       "28"
      ]
     },
     "execution_count": 128,
     "metadata": {},
     "output_type": "execute_result"
    }
   ],
   "source": [
    "max(test.data.layer) if isinstance(test.data.layer, Iterable) else test.data.layer"
   ]
  },
  {
   "cell_type": "code",
   "execution_count": 129,
   "id": "8d1773c4",
   "metadata": {},
   "outputs": [
    {
     "data": {
      "text/plain": [
       "False"
      ]
     },
     "execution_count": 129,
     "metadata": {},
     "output_type": "execute_result"
    }
   ],
   "source": [
    "isinstance(test.data.layer, Iterable)"
   ]
  },
  {
   "cell_type": "code",
   "execution_count": 111,
   "id": "1da69bdd",
   "metadata": {},
   "outputs": [
    {
     "data": {
      "text/plain": [
       "False"
      ]
     },
     "execution_count": 111,
     "metadata": {},
     "output_type": "execute_result"
    }
   ],
   "source": [
    "add_node(None, layer=L, label_type='labels') is None"
   ]
  },
  {
   "cell_type": "code",
   "execution_count": 116,
   "id": "73c60fe4",
   "metadata": {
    "scrolled": true
   },
   "outputs": [
    {
     "data": {
      "text/plain": [
       "''"
      ]
     },
     "execution_count": 116,
     "metadata": {},
     "output_type": "execute_result"
    }
   ],
   "source": [
    "node2key(r.root)"
   ]
  },
  {
   "cell_type": "code",
   "execution_count": 53,
   "id": "cbc4db99",
   "metadata": {},
   "outputs": [
    {
     "data": {
      "text/plain": [
       "'cxt_len=3,rev_item2str'"
      ]
     },
     "execution_count": 53,
     "metadata": {},
     "output_type": "execute_result"
    }
   ],
   "source": [
    "args2str(args)"
   ]
  },
  {
   "cell_type": "code",
   "execution_count": 51,
   "id": "ea74f202",
   "metadata": {},
   "outputs": [
    {
     "data": {
      "text/plain": [
       "'MlM_gen[countries_of_cities.TreeSet.child[x_f=_s,y_f=a_],genders_of_persons.TreeSet.equal]'"
      ]
     },
     "execution_count": 51,
     "metadata": {},
     "output_type": "execute_result"
    }
   ],
   "source": [
    "task2str(task)"
   ]
  },
  {
   "cell_type": "code",
   "execution_count": 54,
   "id": "0090a2c4",
   "metadata": {},
   "outputs": [
    {
     "data": {
      "text/plain": [
       "'MlM_gen[countries_of_cities.TreeSet.child[x_f=_s,y_f=a_],genders_of_persons.TreeSet.equal][cxt_len=3,rev_item2str]'"
      ]
     },
     "execution_count": 54,
     "metadata": {},
     "output_type": "execute_result"
    }
   ],
   "source": [
    "res_key"
   ]
  },
  {
   "cell_type": "code",
   "execution_count": 36,
   "id": "4e835a1b",
   "metadata": {},
   "outputs": [
    {
     "ename": "NameError",
     "evalue": "name 'results' is not defined",
     "output_type": "error",
     "traceback": [
      "\u001b[0;31m---------------------------------------------------------------------------\u001b[0m",
      "\u001b[0;31mNameError\u001b[0m                                 Traceback (most recent call last)",
      "\u001b[0;32m<ipython-input-36-fba3159a35a6>\u001b[0m in \u001b[0;36m<module>\u001b[0;34m\u001b[0m\n\u001b[1;32m      1\u001b[0m \u001b[0mkey\u001b[0m \u001b[0;34m=\u001b[0m \u001b[0;34m'MlM_gen(genders_of_persons.TreeSet.child(skip_inv_f), types_of_things.TreeSet.child(skip_inv_f)) (cxt_len=3)'\u001b[0m\u001b[0;34m\u001b[0m\u001b[0;34m\u001b[0m\u001b[0m\n\u001b[0;32m----> 2\u001b[0;31m \u001b[0mresult\u001b[0m \u001b[0;34m=\u001b[0m \u001b[0mresults\u001b[0m\u001b[0;34m[\u001b[0m\u001b[0mkey\u001b[0m\u001b[0;34m]\u001b[0m\u001b[0;34m;\u001b[0m \u001b[0mprint_tree\u001b[0m\u001b[0;34m(\u001b[0m\u001b[0mresult\u001b[0m\u001b[0;34m.\u001b[0m\u001b[0mroot\u001b[0m\u001b[0;34m)\u001b[0m\u001b[0;34m\u001b[0m\u001b[0;34m\u001b[0m\u001b[0m\n\u001b[0m",
      "\u001b[0;31mNameError\u001b[0m: name 'results' is not defined"
     ]
    }
   ],
   "source": [
    "key = 'MlM_gen(genders_of_persons.TreeSet.child(skip_inv_f), types_of_things.TreeSet.child(skip_inv_f)) (cxt_len=3)'\n",
    "result = results[key]; print_tree(result.root)"
   ]
  },
  {
   "cell_type": "code",
   "execution_count": 29,
   "id": "ed64bbfd",
   "metadata": {},
   "outputs": [
    {
     "name": "stdout",
     "output_type": "stream",
     "text": [
      "MlM_gen[genders_of_persons.TreeSet.equal,types_of_things.TreeSet.equal][cxt_len=3]: 0.296, 0.917\n",
      "MlM_gen[genders_of_persons.TreeSet.equal,types_of_things.TreeSet.equal][cxt_len=3,rev_item2str]: 1.237, 0.569\n",
      "MlM_gen[types_of_things.TreeSet.equal,genders_of_persons.TreeSet.equal][cxt_len=3]: 1.466, 0.458\n",
      "MlM_gen[types_of_things.TreeSet.equal,genders_of_persons.TreeSet.equal][cxt_len=3,rev_item2str]: 0.671, 0.722\n",
      "MlM_gen[genders_of_persons.TreeSet.equal,types_of_things.TreeSet.equal[x_f=_s,y_f=a_]][cxt_len=3]: 0.650, 0.833\n",
      "MlM_gen[genders_of_persons.TreeSet.equal,types_of_things.TreeSet.equal[x_f=_s,y_f=a_]][cxt_len=3,rev_item2str]: 1.830, 0.486\n",
      "MlM_gen[types_of_things.TreeSet.equal[x_f=_s,y_f=a_],genders_of_persons.TreeSet.equal][cxt_len=3]: 1.263, 0.569\n",
      "MlM_gen[types_of_things.TreeSet.equal[x_f=_s,y_f=a_],genders_of_persons.TreeSet.equal][cxt_len=3,rev_item2str]: 0.731, 0.708\n",
      "MlM_gen[genders_of_persons.TreeSet.equal,types_of_things.TreeSet.child[x_f=_s,y_f=a_]][cxt_len=3]: 2.357, 0.458\n",
      "MlM_gen[genders_of_persons.TreeSet.equal,types_of_things.TreeSet.child[x_f=_s,y_f=a_]][cxt_len=3,rev_item2str]: 3.075, 0.333\n",
      "MlM_gen[types_of_things.TreeSet.child[x_f=_s,y_f=a_],genders_of_persons.TreeSet.equal][cxt_len=3]: 1.715, 0.333\n",
      "MlM_gen[types_of_things.TreeSet.child[x_f=_s,y_f=a_],genders_of_persons.TreeSet.equal][cxt_len=3,rev_item2str]: 1.379, 0.458\n",
      "MlM_gen[genders_of_persons.TreeSet.child,types_of_things.TreeSet.equal][cxt_len=3]: 1.541, 0.486\n",
      "MlM_gen[genders_of_persons.TreeSet.child,types_of_things.TreeSet.equal][cxt_len=3,rev_item2str]: 1.845, 0.333\n",
      "MlM_gen[types_of_things.TreeSet.equal,genders_of_persons.TreeSet.child][cxt_len=3]: 0.007, 1.000\n",
      "MlM_gen[types_of_things.TreeSet.equal,genders_of_persons.TreeSet.child][cxt_len=3,rev_item2str]: 0.007, 1.000\n",
      "MlM_gen[genders_of_persons.TreeSet.child,types_of_things.TreeSet.equal[x_f=_s,y_f=a_]][cxt_len=3]: 2.263, 0.472\n",
      "MlM_gen[genders_of_persons.TreeSet.child,types_of_things.TreeSet.equal[x_f=_s,y_f=a_]][cxt_len=3,rev_item2str]: 2.919, 0.347\n",
      "MlM_gen[types_of_things.TreeSet.equal[x_f=_s,y_f=a_],genders_of_persons.TreeSet.child][cxt_len=3]: 0.011, 1.000\n",
      "MlM_gen[types_of_things.TreeSet.equal[x_f=_s,y_f=a_],genders_of_persons.TreeSet.child][cxt_len=3,rev_item2str]: 0.009, 1.000\n",
      "MlM_gen[genders_of_persons.TreeSet.child,types_of_things.TreeSet.child[x_f=_s,y_f=a_]][cxt_len=3]: 3.361, 0.264\n",
      "MlM_gen[genders_of_persons.TreeSet.child,types_of_things.TreeSet.child[x_f=_s,y_f=a_]][cxt_len=3,rev_item2str]: 3.834, 0.153\n",
      "MlM_gen[types_of_things.TreeSet.child[x_f=_s,y_f=a_],genders_of_persons.TreeSet.child][cxt_len=3]: 0.011, 1.000\n",
      "MlM_gen[types_of_things.TreeSet.child[x_f=_s,y_f=a_],genders_of_persons.TreeSet.child][cxt_len=3,rev_item2str]: 0.008, 1.000\n"
     ]
    }
   ],
   "source": [
    "for key, result in results.items(): print(f\"{key}: {result.mean_loss:.3f}, {result.mean_acc:.3f}\")"
   ]
  },
  {
   "cell_type": "code",
   "execution_count": null,
   "id": "36787b39",
   "metadata": {},
   "outputs": [],
   "source": [
    "key = 'MlM_gen(types_of_things.TreeSet.child, genders_of_persons.TreeSet.child) (cxt_len=3)'\n",
    "result = results[key]; show_predictions_by_result(tokenizer, result, k_shot)"
   ]
  },
  {
   "cell_type": "code",
   "execution_count": null,
   "id": "557c1baf",
   "metadata": {
    "scrolled": true
   },
   "outputs": [],
   "source": [
    "nrows, k_shot = 16, 7; cxt_len=3; save_results = True\n",
    "batch_size = 8; verbose = not save_results or batch_size <= 8\n",
    "for task, replace_rel0, replace_rel1, do_swap_qa, do_negate, do_rm_local_hop, do_rm_query, rev_item2str in product(\n",
    "    tasks[2:3], [0,  ], [0,     ],   [False,],[False,],[False,],[False,],[False,]):\n",
    "    seed(42)\n",
    "    args = dict(cxt_len=cxt_len, rev_item2str=rev_item2str, abstract=False)\n",
    "    trans_args = dict(replace_rel0=replace_rel0, replace_rel1=replace_rel1, do_swap_qa=do_swap_qa, do_negate=do_negate,\n",
    "                      do_rm_local_hop=do_rm_local_hop, do_rm_query=do_rm_query)\n",
    "    task = transform_task(task, **trans_args)\n",
    "    if task is None: continue\n",
    "    res_key = f\"{task2str(task)} ({args2str(args)})\" + composed_heads2str(model)\n",
    "#     if not validate_args(task, args, trans_args): print('invalid args! skip.'); continue\n",
    "#     if save_results and key is not None and res_key != key: continue\n",
    "    if verbose: print(f'\\n== {res_key} == {args2str(trans_args)}')\n",
    "    if save_results and res_key in results:\n",
    "        assert results[res_key].trans_args == trans_args, f'{res_key} {args2str(results[res_key].trans_args)} != {args2str(trans_args)}'\n",
    "        result = results[res_key]; data_tuples = result.data_tuples\n",
    "    else:\n",
    "        all_examples, texts, all_bos_tokens = zip(*[generate(task, verbose=False, plot=False, nrows=nrows, **args)\n",
    "                                                for i in range(batch_size)])\n",
    "        result = Result(task, trans_args, args, all_examples, texts)\n",
    "        for text in texts: print('\\n'.join(text.split('\\n')[:3]))\n",
    "\n",
    "        data_tuples, eval_results = zip(*[predict(model, tokenizer, text, examples,\n",
    "            k_shot=k_shot, bos_token=bos_tokens, verbose=verbose)\n",
    "            for text, examples, bos_tokens in zip(texts, all_examples, all_bos_tokens)\n",
    "            if True or any(s in text[24:] for s in ['dangerous'])])\n",
    "        result.data_tuples = data_tuples\n",
    "        loss, acc, *_ = zip(*eval_results)\n",
    "        result.mean_loss, result.mean_acc = np.array(loss).mean(), np.array(join_lists(acc)).mean()\n",
    "        if verbose: print(result.mean_loss, result.mean_acc)\n",
    "        if save_results: results[res_key] = result\n",
    "    if not save_results: continue\n",
    "\n",
    "#     for node_name in ['node']:\n",
    "#         node = getattr(result, node_name, None)\n",
    "#         if node is None: node = result.node = result.root = add_node(node, label_type=node_name.replace('node', 'labels'))\n",
    "#         node.data.attr = mr(attribute_step)(data_tuples[:], model, node)\n",
    "#     node.data.scores = {ap: mr(get_head_matching_scores)(data_tuples, ap, k_shot=k_shot)\n",
    "#         for ap in attn_patterns_by_step.get(node.data.step, [])} if 'g2c' not in res_key else None"
   ]
  },
  {
   "cell_type": "code",
   "execution_count": 146,
   "id": "1418741f",
   "metadata": {},
   "outputs": [
    {
     "name": "stdout",
     "output_type": "stream",
     "text": [
      "MlM_gen(genders_of_persons.TreeSet.child, types_of_things.TreeSet.equal) (cxt_len=3): 1.395, 0.5277777777777778\n",
      "MlM_gen(genders_of_persons.TreeSet.child, nouns.things.wrap_noun.TreeSet.child) (cxt_len=3): 2.519, 0.4027777777777778\n",
      "MlM_gen(genders_of_persons.TreeSet.child, things.TreeSet.equal) (cxt_len=3): 1.395, 0.5277777777777778\n",
      "MlM_gen(genders_of_persons.TreeSet.child, things.TreeSet.child) (cxt_len=3): 1.395, 0.5277777777777778\n"
     ]
    }
   ],
   "source": [
    "for key, result in results.items(): print(f\"{key}: {result.mean_loss:.3f}, {result.mean_acc}\") # codex"
   ]
  },
  {
   "cell_type": "code",
   "execution_count": 18,
   "id": "ac9b2e12",
   "metadata": {},
   "outputs": [],
   "source": [
    "device = torch.device('cuda:0')\n",
    "_ = clone_model_to(model, device)\n",
    "data_tuples_gpu = data_tuples_to(data_tuples, device)"
   ]
  },
  {
   "cell_type": "code",
   "execution_count": 31,
   "id": "3ba71533",
   "metadata": {},
   "outputs": [
    {
     "name": "stdout",
     "output_type": "stream",
     "text": [
      "          ┌[0] @:6 24-10,21-13,22-5,19-15,21-14,19-m\n",
      "          ├[0] 11-12 B->Q] argmax_attn┐\n",
      "          │                           └[1] 8-1 B->A]\n",
      "          │                           ┌[1] 11-12 B->Q]\n",
      "          ├[0] 13-7 B->A0] argmax_attn┤\n",
      "          │                           └[1] 12-10 B->A]\n",
      " [-1] root┤\n",
      "          │                                  ┌[1] 11-12 B->Q]\n",
      "          ├[0] @7 16-7 32% B->A0] argmax_attn┤\n",
      "          │                                  ├[1] 12-10 B->A]\n",
      "          │                                  └[1] 13-13 B->A]\n",
      "          ├[0] @0 24-10 100% B->B argmax_attn\n",
      "          └[0] @1 21-13 68% B->A0] argmax_attn\n"
     ]
    }
   ],
   "source": [
    "print_tree(root)  # cpu"
   ]
  },
  {
   "cell_type": "code",
   "execution_count": null,
   "id": "4dbb0675",
   "metadata": {},
   "outputs": [],
   "source": [
    "key = 'MlM_gen(genders_of_persons.TreeSet.child, types_of_things.TreeSet.equal) (cxt_len=3)'; result = results[key]\n",
    "node, data_tuples = show_result(result)"
   ]
  },
  {
   "cell_type": "code",
   "execution_count": null,
   "id": "75e7f37f",
   "metadata": {
    "scrolled": false
   },
   "outputs": [],
   "source": [
    "plot_attn_attrs(data_tuples[:3], model, tokenizer, node, topi=[0,1,2], k_shot=k_shot, mix=True)"
   ]
  },
  {
   "cell_type": "code",
   "execution_count": null,
   "id": "435f910b",
   "metadata": {
    "scrolled": false
   },
   "outputs": [],
   "source": [
    "for data_tuple in data_tuples[:3]:\n",
    "    plot_attn_attr(data_tuple, model, tokenizer, node, 13, 7, attn_patterns=['bos->ans0]'], k_shot=0, plot_attr=False)"
   ]
  },
  {
   "cell_type": "code",
   "execution_count": 160,
   "id": "835266e7",
   "metadata": {},
   "outputs": [],
   "source": [
    "node = node.parent"
   ]
  },
  {
   "cell_type": "code",
   "execution_count": 164,
   "id": "5ce14dd7",
   "metadata": {},
   "outputs": [
    {
     "name": "stdout",
     "output_type": "stream",
     "text": [
      "MlM_gen(genders_of_persons.TreeSet.child, types_of_things.TreeSet.equal) (cxt_len=3)\n",
      "Maria has gray. Dorothy has a cat. Christopher has a revolver. The boy likes revolver\n",
      "                 ┌[0] 13-2 argmax_attn_labels┐\n",
      "                 │                           └[1] top[0, 1] 12-10,8-1┐\n",
      "                 │                                                   └[2] top[0] 1-7\n",
      " [-1] root labels┤\n",
      "                 │                           ┌[1] top[0, 1, 2, 3] 11-12,12-10,9-14,9-5\n",
      "                 ├[0] 13-7 argmax_attn_labels┤\n",
      "                 │                           ├[1] top[2] 9-14┐\n",
      "                 │                           │               └[2] top[0, 1] 8-7,6-2\n",
      "                 │                           └[1] top[1] 12-10┐\n",
      "                 │                                            └[2] top[0, 1] 8-7,0-mlp\n",
      "                 │                            ┌[1] top[0, 1, 2] 0-mlp,9-14,8-1\n",
      "                 └[0] 11-12 argmax_attn_labels┤\n",
      "                                              └[1] top[1, 2] 9-14,8-1┐\n",
      "                                                                     └*[2] top[0, 1, 2, 3, 4] 0-mlp,4-1,7-10,8-7,7-mlp...\n"
     ]
    }
   ],
   "source": [
    "print(key); print('\\n'.join(result.texts[-1].split('\\n')[:1]))\n",
    "node = result.node = add_node(node, topi=[0,1,2,3,4])#layer=11, head=12, attn_pattern='bos->query]', label_type='argmax_attn_labels')"
   ]
  },
  {
   "cell_type": "code",
   "execution_count": null,
   "id": "e6f4dd81",
   "metadata": {},
   "outputs": [],
   "source": [
    "key = 'MlM_gen(genders_of_persons.TreeSet.equal, types_of_things.TreeSet.child) (cxt_len=3)'; result = results[key]\n",
    "node, data_tuples = show_result(result)"
   ]
  },
  {
   "cell_type": "code",
   "execution_count": null,
   "id": "75aebe41",
   "metadata": {
    "scrolled": false
   },
   "outputs": [],
   "source": [
    "for data_tuple in data_tuples[:3]:\n",
    "    plot_attn_attr(data_tuple, model, tokenizer, node, 13, 7, attn_patterns=['bos->ans0]'], k_shot=0, plot_attr=False)"
   ]
  },
  {
   "cell_type": "code",
   "execution_count": null,
   "id": "d0701ae6",
   "metadata": {
    "scrolled": false
   },
   "outputs": [],
   "source": [
    "plot_attn_attrs(data_tuples[:3], model, tokenizer, node, topi=[0,1,2], k_shot=k_shot, mix=False)"
   ]
  },
  {
   "cell_type": "code",
   "execution_count": 112,
   "id": "409bc0b1",
   "metadata": {},
   "outputs": [],
   "source": [
    "node = result.root"
   ]
  },
  {
   "cell_type": "code",
   "execution_count": 117,
   "id": "f9d23ade",
   "metadata": {},
   "outputs": [
    {
     "name": "stdout",
     "output_type": "stream",
     "text": [
      "MlM_gen(genders_of_persons.TreeSet.equal, types_of_things.TreeSet.child) (cxt_len=3)\n",
      "Nancy has blueberries. Mary has a wolf. Jennifer has wine. Mary likes animal\n",
      "                 ┌[0] 11-12 argmax_attn_labels┐\n",
      "                 │                            └*[1] top[0, 1, 2] 0-mlp,9-5,10-8...\n",
      "                 │                                  ┌[1] top[0, 1, 2, 3, 4, 5, 6] 19-mlp,14-9,16-mlp,8-1,13-13,17-mlp,12-10\n",
      "                 ├[0] top[2] 21-5 argmax_attn_labels┤\n",
      "                 │                                  └[1] top[3, 4, 6] 8-1,13-13,12-10┐\n",
      "                 │                                                                   └[2] top[0, 1] 3-12,5-12\n",
      " [-1] root labels┤\n",
      "                 │                                  ┌[1] top[0, 1, 2, 3, 4, 5] 14-9,0-mlp,8-1,13-13,12-10,9-14\n",
      "                 ├[0] top[3] 15-8 argmax_attn_labels┤\n",
      "                 │                                  ├[1] top[2, 3, 4, 5] 8-1,13-13,12-10,9-14┐\n",
      "                 │                                  │                                        └[2] top[0, 1, 2, 3, 4] 5-12,3-12,8-3,4-mlp,0-mlp\n",
      "                 │                                  └[1] top[0] 14-9┐\n",
      "                 │                                                  └[2] top[0, 1, 2, 3] 13-mlp,11-4,13-13,9-14\n",
      "                 │                                  ┌[1] top[0, 1, 2, 3, 4, 5] 19-mlp,16-mlp,14-9,18-9,17-mlp,8-1\n",
      "                 └[0] top[6] 20-5 argmax_attn_labels┤\n",
      "                                                    └[1] top[5, 7] 8-1,12-10┐\n",
      "                                                                            └[2] top[0, 1, 2] 3-12,7-2,5-12\n"
     ]
    }
   ],
   "source": [
    "print(key); print('\\n'.join(result.texts[-1].split('\\n')[:1]))\n",
    "node = result.node = add_node(node, topi=[0,1,2])#, attn_pattern='bos->query]', label_type='argmax_attn_labels')"
   ]
  },
  {
   "cell_type": "code",
   "execution_count": 367,
   "id": "d9e179ef",
   "metadata": {},
   "outputs": [
    {
     "name": "stdout",
     "output_type": "stream",
     "text": [
      "MlM_gen(genders_of_persons.TreeSet.equal, types_of_things.TreeSet.child) (cxt_len=3)\n",
      "                 ┌[0] 11-12 argmax_attn_labels\n",
      " [-1] root labels┤\n",
      "                 ├[0] 16-7 argmax_attn_labels┐\n",
      "                 │                           └[1] top[0, 1] 13-13,12-10┐\n",
      "                 │                                                     └*[2] top[0, 1, 2, 3, 4, 5] 0-mlp,10-4,12-mlp,6-2,7-9,10-mlp...\n",
      "                 └[0] top[5] 13-7 argmax_attn_labels┐\n",
      "                                                    └[1] top[1, 3] 12-10,8-1┐\n",
      "                                                                            └[2] top[0] 3-12\n"
     ]
    }
   ],
   "source": [
    "print(key); node = result.node = add_node(node, topi=[0,1,2,3,4,5])#attn_pattern='bos->ans0]', label_type='argmax_attn_labels')"
   ]
  },
  {
   "cell_type": "code",
   "execution_count": null,
   "id": "badcf5b1",
   "metadata": {
    "scrolled": false
   },
   "outputs": [],
   "source": [
    "key = 'MlM_gen(genders_of_persons.TreeSet.equal, types_of_things.TreeSet.equal) (cxt_len=3)'; result = results[key]\n",
    "node, data_tuples = show_result(result)"
   ]
  },
  {
   "cell_type": "code",
   "execution_count": null,
   "id": "363fbf25",
   "metadata": {
    "scrolled": false
   },
   "outputs": [],
   "source": [
    "for data_tuple in data_tuples[:]:\n",
    "    plot_attn_attr(data_tuple, model, tokenizer, node, 11, 12, attn_patterns=['bos->query]'], k_shot=0, plot_attr=False)"
   ]
  },
  {
   "cell_type": "code",
   "execution_count": null,
   "id": "91db824e",
   "metadata": {
    "scrolled": false
   },
   "outputs": [],
   "source": [
    "plot_attn_attrs(data_tuples[:3], model, tokenizer, node, topi=[0,1], k_shot=k_shot)"
   ]
  },
  {
   "cell_type": "code",
   "execution_count": 106,
   "id": "2f897ca2",
   "metadata": {},
   "outputs": [],
   "source": [
    "node = result.root"
   ]
  },
  {
   "cell_type": "code",
   "execution_count": 110,
   "id": "07867280",
   "metadata": {},
   "outputs": [
    {
     "name": "stdout",
     "output_type": "stream",
     "text": [
      "MlM_gen(genders_of_persons.TreeSet.equal, types_of_things.TreeSet.equal) (cxt_len=3)\n",
      "Kimberly has a rabbit. Charles has white. Jason has a taxi. Kimberly likes rabbit\n",
      "                 ┌[0] 11-12 argmax_attn_labels attr_k┐\n",
      "                 │                                   └[1] top[0] 0-mlp\n",
      "                 ├[0] 9-5 argmax_attn_labels┐\n",
      "                 │                          └[1] top[0] 0-mlp\n",
      "                 ├[0] 13-7 argmax_attn_labels┐\n",
      "                 │                           └*[1] top[0, 1, 2, 3, 4, 5] 11-12,9-5,12-14,9-14,11-4,12-10...\n",
      " [-1] root labels┤\n",
      "                 │                            ┌[1] top[0, 1, 2, 3] 8-1,0-mlp,9-14,9-5\n",
      "                 ├[0] 11-12 argmax_attn_labels┤\n",
      "                 │                            │              ┌[2] top[0, 1, 2, 3] 6-mlp,4-6,4-12,7-mlp\n",
      "                 │                            └[1] top[0] 8-1┤\n",
      "                 │                                           └[2] top[1] 4-6┐\n",
      "                 │                                                          └[3] top[0] 0-mlp\n",
      "                 │                                  ┌[1] top[0, 1, 2, 3, 4, 5] 11-12,14-9,13-13,9-14,15-5,12-10\n",
      "                 └[0] top[1] 16-7 argmax_attn_labels┤\n",
      "                                                    └[1] top[2, 3, 5] 13-13,9-14,12-10\n"
     ]
    }
   ],
   "source": [
    "print(key); print('\\n'.join(result.texts[-1].split('\\n')[:1]))\n",
    "node = result.node = add_node(node, topi=[0,1,2,3,4,5])#, label_type='argmax_attn_labels')"
   ]
  },
  {
   "cell_type": "code",
   "execution_count": 345,
   "id": "20113f68",
   "metadata": {},
   "outputs": [
    {
     "name": "stdout",
     "output_type": "stream",
     "text": [
      "MlM_gen(genders_of_persons.TreeSet.equal, types_of_things.TreeSet.equal) (cxt_len=3)\n",
      "                 ┌[0] top[3] 16-7 argmax_attn_labels┐\n",
      "                 │                                  └[1] top[0, 3, 4] 13-13,9-14,12-10┐\n",
      "                 │                                                                    └[2] top[0, 1, 2] 8-7,6-2,1-7\n",
      "                 ├[0] top[2] 16-0 argmax_attn_labels┐\n",
      "                 │                                  └[1] top[0, 1, 2] 13-13,12-10,8-1┐\n",
      "                 │                                                                   └[2] top[0, 1, 2, 3] 1-7,0-mlp,8-7,6-2\n",
      " [-1] root labels┤\n",
      "                 ├[0] 11-12 argmax_attn_labels┐\n",
      "                 │                            └[1] top[0, 2] 8-1,9-14┐\n",
      "                 │                                                   └*[2] top[0] 4-6...\n",
      "                 └[0] top[9] 13-7 argmax_attn_labels┐\n",
      "                                                    └[1] top[1, 2] 12-10,9-14┐\n",
      "                                                                             └[2] top[0] 8-7\n"
     ]
    }
   ],
   "source": [
    "print(key); node = result.node = add_node(node, topi=[0])#, attn_pattern='bos->query]', label_type='argmax_attn_labels')"
   ]
  },
  {
   "cell_type": "code",
   "execution_count": 364,
   "id": "568fca95",
   "metadata": {},
   "outputs": [
    {
     "name": "stdout",
     "output_type": "stream",
     "text": [
      "((8, 7), (13, 13), (16, 7)) (0.9622409343719482, 0.9821789860725403)\n",
      "((8, 7), (9, 14), (16, 7)) (0.9469795227050781, 0.9725989699363708)\n",
      "((8, 7), (12, 10), (16, 7)) (0.9750146865844727, 0.9863405823707581)\n",
      "((6, 2), (13, 13), (16, 7)) (0.9623928070068359, 0.9801956415176392)\n",
      "((6, 2), (9, 14), (16, 7)) (0.9362690448760986, 0.9594190120697021)\n",
      "((6, 2), (12, 10), (16, 7)) (0.954227864742279, 0.9754131436347961)\n"
     ]
    }
   ],
   "source": [
    "for head_chain in product([(8, 7), (6, 2)], [(13, 13), (9, 14), (12, 10)], [(16, 7)]):\n",
    "    print(head_chain, plot_eigv(weightprod(model, list(head_chain), 'e vo vo qk e', weBTA=model.weBTAs[0]), plot=False))"
   ]
  },
  {
   "cell_type": "markdown",
   "id": "19e0b598",
   "metadata": {},
   "source": [
    "### person_adjs.opposite"
   ]
  },
  {
   "cell_type": "code",
   "execution_count": 1077,
   "id": "89b7d463",
   "metadata": {},
   "outputs": [
    {
     "name": "stdout",
     "output_type": "stream",
     "text": [
      "MlM_gen(persons.EqSet.equal, person_adjs.SymSet.equal) (cxt_len=3, abstract=0): 0.892, 0.7142857142857143\n",
      "MlM_gen(persons.EqSet.equal, person_adjs.SymSet.opposite) (cxt_len=3, abstract=0): 3.309, 0.2857142857142857\n",
      "MlM_gen(persons.EqSet.equal, person_adjs.SymSet.opposite) (cxt_len=3, abstract=0)_4-6qk->4-8: 3.436, 0.21428571428571427\n",
      "MlM_gen(persons.EqSet.equal, person_adjs.SymSet.opposite) (cxt_len=3, abstract=0)_4-6qk->4-8_6-2qk->7-9: 3.461, 0.23809523809523808\n"
     ]
    }
   ],
   "source": [
    "for key, result in results.items(): print(f\"{key}: {result.mean_loss:.3f}, {result.mean_acc}\")"
   ]
  },
  {
   "cell_type": "code",
   "execution_count": null,
   "id": "f5cbe1f9",
   "metadata": {},
   "outputs": [],
   "source": [
    "key = 'MlM_gen(persons.EqSet.equal, person_adjs.SymSet.opposite) (cxt_len=3, abstract=0)_4-6/6-10->4-8_1-7/6-2/8-7->7-9'; result = results[key]\n",
    "node, data_tuples = show_result(result)"
   ]
  },
  {
   "cell_type": "code",
   "execution_count": null,
   "id": "fdd48aa2",
   "metadata": {},
   "outputs": [],
   "source": [
    "plot_attn_attrs(data_tuples[:3], model, tokenizer, node, topi=[0,1,2], k_shot=k_shot, mix=False)"
   ]
  },
  {
   "cell_type": "code",
   "execution_count": 1155,
   "id": "1d8a9671",
   "metadata": {},
   "outputs": [],
   "source": [
    "node = result.root"
   ]
  },
  {
   "cell_type": "code",
   "execution_count": 1156,
   "id": "c41bbb00",
   "metadata": {},
   "outputs": [
    {
     "name": "stdout",
     "output_type": "stream",
     "text": [
      "MlM_gen(persons.EqSet.equal, person_adjs.SymSet.opposite) (cxt_len=3, abstract=0)_4-6/6-10->4-8_1-7/6-2/8-7->7-9\n",
      "                 ┌*[0] top[1] 16-14 argmax_attn_labels...\n",
      " [-1] root labels┤\n",
      "                 │                           ┌[1] top[4, 7] 9-14,12-10┐\n",
      "                 │                           │                        └[2] top[0] 7-9\n",
      "                 └[0] 16-7 argmax_attn_labels┤\n",
      "                                             ├[1] top[7] 12-10┐\n",
      "                                             │                └[2] top[0, 1] 1-7,11-mlp\n",
      "                                             └[1] top[4] 9-14┐\n",
      "                                                             └[2] top[0, 1] 6-2,7-9\n"
     ]
    }
   ],
   "source": [
    "print(key); node = result.node = add_node(node, topi=[0,1])#, label_type='argmax_attn_labels')"
   ]
  },
  {
   "cell_type": "code",
   "execution_count": null,
   "id": "485bccad",
   "metadata": {},
   "outputs": [],
   "source": [
    "key = 'MlM_gen(persons.EqSet.equal, person_adjs.SymSet.opposite) (cxt_len=3, abstract=0)_4-6qk->4-8_6-2qk->7-9'; result = results[key]\n",
    "node, data_tuples = show_result(result)"
   ]
  },
  {
   "cell_type": "code",
   "execution_count": 1069,
   "id": "6f5d093a",
   "metadata": {},
   "outputs": [],
   "source": [
    "node = node.parent"
   ]
  },
  {
   "cell_type": "code",
   "execution_count": null,
   "id": "0e64a876",
   "metadata": {},
   "outputs": [],
   "source": [
    "plot_attn_attrs(data_tuples[:4], model, tokenizer, node, topi=[0,1,2,3], head_attr_fn=get_head_mlp_attr, k_shot=k_shot)"
   ]
  },
  {
   "cell_type": "code",
   "execution_count": 1076,
   "id": "9a4ed844",
   "metadata": {},
   "outputs": [
    {
     "name": "stdout",
     "output_type": "stream",
     "text": [
      "MlM_gen(persons.EqSet.equal, person_adjs.SymSet.opposite) (cxt_len=3, abstract=0)_4-6qk->4-8_6-2qk->7-9\n",
      "                 ┌[0] top[0] 16-14 argmax_attn_labels\n",
      " [-1] root labels┤\n",
      "                 └[0] 11-12 argmax_attn_labels┐\n",
      "                                              └[1] top[3] 8-1┐\n",
      "                                                             └*[2] top[0, 1, 2, 3] 6-2,4-6,6-mlp,7-9...\n"
     ]
    }
   ],
   "source": [
    "print(key); node = result.node = add_node(node, topi=[0,1,2,3]) #label_type='argmax_attn_labels', attn_pattern='bos->query]') # "
   ]
  },
  {
   "cell_type": "code",
   "execution_count": null,
   "id": "1aa60022",
   "metadata": {},
   "outputs": [],
   "source": [
    "key = 'MlM_gen(persons.EqSet.equal, person_adjs.SymSet.opposite) (cxt_len=3, abstract=0)'; result = results[key]\n",
    "node, data_tuples = show_result(result)"
   ]
  },
  {
   "cell_type": "code",
   "execution_count": 1042,
   "id": "f8f031a4",
   "metadata": {},
   "outputs": [],
   "source": [
    "node = node.parent"
   ]
  },
  {
   "cell_type": "code",
   "execution_count": null,
   "id": "f50dc477",
   "metadata": {},
   "outputs": [],
   "source": [
    "plot_attn_attrs(data_tuples[:4], model, tokenizer, node, topi=[0], head_attr_fn=get_head_mlp_attr, k_shot=k_shot)  # "
   ]
  },
  {
   "cell_type": "code",
   "execution_count": 1041,
   "id": "7f131da8",
   "metadata": {},
   "outputs": [
    {
     "name": "stdout",
     "output_type": "stream",
     "text": [
      "MlM_gen(persons.EqSet.equal, person_adjs.SymSet.opposite) (cxt_len=3, abstract=0)\n",
      "                 ┌[0] top[0] 16-14 argmax_attn_labels┐\n",
      "                 │                                   └[1] top[0] 8-1┐\n",
      "                 │                                                  └[2] top[0] 7-9\n",
      " [-1] root labels┤\n",
      "                 │                            ┌[1] top[0, 1, 2, 3, 4] 9-5,0-mlp,10-8,8-1,9-14\n",
      "                 └[0] 11-12 argmax_attn_labels┤\n",
      "                                              └[1] top[3] 8-1┐\n",
      "                                                             └*[2] top[0, 1] 4-6,6-mlp...\n"
     ]
    }
   ],
   "source": [
    "print(key); node = result.node = add_node(node, topi=[0,1], head_attr_fn=get_head_mlp_attr)#label_type='argmax_attn_labels', attn_pattern='bos->query]') # "
   ]
  },
  {
   "cell_type": "code",
   "execution_count": null,
   "id": "b64dce0d",
   "metadata": {},
   "outputs": [],
   "source": [
    "key = 'MlM_gen(persons.EqSet.equal, person_adjs.SymSet.equal) (cxt_len=3, abstract=0)'; result = results[key]\n",
    "node, data_tuples = show_result(result)"
   ]
  },
  {
   "cell_type": "code",
   "execution_count": null,
   "id": "ee9ba16b",
   "metadata": {},
   "outputs": [],
   "source": [
    "plot_attn_attrs(data_tuples[:4], model, tokenizer, node, topi=[0,1,4,5], k_shot=k_shot)  # "
   ]
  },
  {
   "cell_type": "code",
   "execution_count": 983,
   "id": "807a0cfd",
   "metadata": {},
   "outputs": [],
   "source": [
    "forked_node_k.k_node = q_node; forked_node_k.model = model\n",
    "del forked_node_k.k_node; del forked_node_k.model"
   ]
  },
  {
   "cell_type": "code",
   "execution_count": 928,
   "id": "dd81ed2e",
   "metadata": {},
   "outputs": [],
   "source": [
    "forked_node.k_node = k_node; forked_node.model = model\n",
    "del forked_node.k_node; del forked_node.model"
   ]
  },
  {
   "cell_type": "code",
   "execution_count": 1097,
   "id": "75612c6b",
   "metadata": {},
   "outputs": [],
   "source": [
    "node = node.parent.parent"
   ]
  },
  {
   "cell_type": "code",
   "execution_count": 1101,
   "id": "30875b28",
   "metadata": {},
   "outputs": [
    {
     "name": "stdout",
     "output_type": "stream",
     "text": [
      "MlM_gen(persons.EqSet.equal, person_adjs.SymSet.equal) (cxt_len=3, abstract=0)\n",
      " [-1] root labels┐\n",
      "                 │                           ┌[0] top[0] 11-12 attn_labels attr_k┐\n",
      "                 │                           │                                   └[1] top[0] 0-mlp\n",
      "                 │                           ├[1] top[0] 9-14┐\n",
      "                 │                           │               └[2] top[0, 1, 2] 1-7,8-7,6-10\n",
      "                 │                           ├[1] top[5] 12-10┐\n",
      "                 │                           │                └[2] top[0, 1] 1-7,10-7\n",
      "                 └[0] top[1] 16-7 attn_labels┤\n",
      "                                             │                            ┌[1] top[1] 9-14┐\n",
      "                                             │                            │               └[2] top[0, 1, 2, 3] 7-6,4-6,8-7,6-2\n",
      "                                             ├[0] top[0] 11-12 attn_labels┤\n",
      "                                             │                            │              ┌[2] top[0, 1] 4-6,6-2\n",
      "                                             │                            └[1] top[0] 8-1┤\n",
      "                                             │                                           └[2] top[0] 4-6┐\n",
      "                                             │                                                          └[3] top[0] 0-mlp\n",
      "                                             └[1] top[0, 5] 9-14,12-10┐\n",
      "                                                                      └*[2] top[0, 1, 2, 3] 1-7,8-7,4-6,6-10...\n"
     ]
    }
   ],
   "source": [
    "print(key); node = result.node = add_node(node, topi=[0,1,2,3]) #label_type='attn_labels', attn_pattern='bos->query]', step=0, attribute_k=True) # "
   ]
  },
  {
   "cell_type": "code",
   "execution_count": null,
   "id": "cf0a6332",
   "metadata": {},
   "outputs": [],
   "source": [
    "key = 'MlM_gen(persons.EqSet.equal, person_adjs.SymSet.equal) (cxt_len=2, abstract=0)'; result = results[key]\n",
    "node, data_tuples = show_result(result)"
   ]
  },
  {
   "cell_type": "code",
   "execution_count": null,
   "id": "74cd8143",
   "metadata": {},
   "outputs": [],
   "source": [
    "plot_attn_attrs(data_tuples[:4], model, tokenizer, node, topi=[0,1,2], head_attr_fn=get_head_mlp_attr, k_shot=k_shot)  # "
   ]
  },
  {
   "cell_type": "code",
   "execution_count": null,
   "id": "c19ed26b",
   "metadata": {},
   "outputs": [],
   "source": [
    "key = 'MlM_gen(persons.EqSet.equal, person_adjs.SymSet.opposite) (cxt_len=2, abstract=0)'; result = results[key]\n",
    "node, data_tuples = show_result(result)"
   ]
  },
  {
   "cell_type": "code",
   "execution_count": null,
   "id": "8cdf2869",
   "metadata": {},
   "outputs": [],
   "source": [
    "plot_attn_attrs(data_tuples[:4], model, tokenizer, node, topi=[0], k_shot=k_shot)  # head_attr_fn=get_head_mlp_attr, "
   ]
  },
  {
   "cell_type": "code",
   "execution_count": null,
   "id": "47e03775",
   "metadata": {},
   "outputs": [],
   "source": [
    "plot_attn_attrs(data_tuples[:4], model, tokenizer, node, topi=[0,2], head_attr_fn=get_head_mlp_attr, k_shot=k_shot, mix=True)"
   ]
  },
  {
   "cell_type": "code",
   "execution_count": null,
   "id": "a86219f3",
   "metadata": {},
   "outputs": [],
   "source": [
    "plot_attn_attrs(data_tuples[:4], model, tokenizer, node, topi=[0,1,2,3], head_attr_fn=get_head_mlp_attr, k_shot=k_shot, mix=True)  # "
   ]
  },
  {
   "cell_type": "code",
   "execution_count": null,
   "id": "65baa7c5",
   "metadata": {},
   "outputs": [],
   "source": [
    "for data_tuple in data_tuples[:4]: plot_attn_attr(data_tuple, model, tokenizer, node, 7, 9, attn_patterns=['bos->ans0]'], k_shot=k_shot, plot_attr=False)"
   ]
  },
  {
   "cell_type": "code",
   "execution_count": 661,
   "id": "3713a89f",
   "metadata": {},
   "outputs": [],
   "source": [
    "node = node.children[1]"
   ]
  },
  {
   "cell_type": "code",
   "execution_count": 649,
   "id": "17929199",
   "metadata": {},
   "outputs": [
    {
     "name": "stdout",
     "output_type": "stream",
     "text": [
      "MlM_gen(persons.EqSet.equal, person_adjs.SymSet.opposite) (cxt_len=2, abstract=0)\n",
      "                 ┌[0] top[1] 14-7 attn_labels┐\n",
      "                 │                           └*[1] top[0, 1, 2] 13-12,12-10,8-1...\n",
      "                 │                            ┌[1] top[0] 13-12\n",
      "                 ├[0] top[0] 16-14 attn_labels┤\n",
      "                 │                            └[1] top[2] 14-9\n",
      " [-1] root labels┤\n",
      "                 │                                    ┌[1] top[1, 2] 8-1,12-10┐\n",
      "                 │                                    │                       └[2] top[0, 1] 7-9,0-mlp\n",
      "                 └[0] top[0, 1] 16-14,14-7 attn_labels┤\n",
      "                                                      │                ┌[2] top[0] 12-16┐\n",
      "                                                      │                │                └[3] top[0, 1, 2, 3, 4, 5] 8-16,6-16,10-16,9-16,0-16,5-16\n",
      "                                                      └[1] top[0] 13-12┤\n",
      "                                                                       └[2] top[1] 8-1┐\n",
      "                                                                                      └[3] top[0] 7-9\n"
     ]
    }
   ],
   "source": [
    "print(key); node = result.node = add_node(node, topi=[0,1,2], head_attr_fn=get_head_mlp_attr)# label_type='attn_labels')  # "
   ]
  },
  {
   "cell_type": "markdown",
   "id": "079866a0",
   "metadata": {},
   "source": [
    "### thing->type"
   ]
  },
  {
   "cell_type": "code",
   "execution_count": 574,
   "id": "342b97df",
   "metadata": {},
   "outputs": [
    {
     "name": "stdout",
     "output_type": "stream",
     "text": [
      "MlM_gen(persons.EqSet.equal, person_adjs.SymSet.equal) (cxt_len=2, abstract=0): 0.376, 0.8333333333333334\n",
      "MlM_gen(persons.EqSet.equal, person_adjs.SymSet.opposite) (cxt_len=2, abstract=0): 3.889, 0.21428571428571427\n"
     ]
    }
   ],
   "source": [
    "for key, result in results.items(): print(f\"{key}: {result.mean_loss:.3f}, {result.mean_acc}\")"
   ]
  },
  {
   "cell_type": "code",
   "execution_count": null,
   "id": "691139e6",
   "metadata": {
    "collapsed": true
   },
   "outputs": [],
   "source": [
    "key = 'MlM_gen(persons.EqSet.equal, types_of_things.TreeSet.equal) (cxt_len=2, abstract=0)'; result = results[key]\n",
    "node, data_tuples = show_result(result)"
   ]
  },
  {
   "cell_type": "code",
   "execution_count": null,
   "id": "155c3d7d",
   "metadata": {},
   "outputs": [],
   "source": [
    "plot_attn_attrs(data_tuples[:4], model, tokenizer, node, topi=[0,1], head_attr_fn=get_head_mlp_attr, k_shot=k_shot)"
   ]
  },
  {
   "cell_type": "code",
   "execution_count": 990,
   "id": "77e1fc52",
   "metadata": {},
   "outputs": [
    {
     "data": {
      "text/plain": [
       "'[0] top[0] 11-12 attn_labels attr_k'"
      ]
     },
     "execution_count": 990,
     "metadata": {},
     "output_type": "execute_result"
    }
   ],
   "source": [
    "node.name"
   ]
  },
  {
   "cell_type": "code",
   "execution_count": 552,
   "id": "7f94d610",
   "metadata": {},
   "outputs": [
    {
     "name": "stdout",
     "output_type": "stream",
     "text": [
      "MlM_gen(persons.EqSet.equal, types_of_things.TreeSet.equal) (cxt_len=2, abstract=0)\n",
      "                 ┌[0] top[0] 16-0 attn_labels┐\n",
      "                 │                           └[1] top[0, 1, 2, 3, 4] 13-2,12-10,11-12,13-13,8-1\n",
      "                 ├[0] top[2] 13-2 attn_labels:┐\n",
      "                 │                            └[1] top[0, 1] 8-1,12-10\n",
      " [-1] root labels┤\n",
      "                 │                                  ┌[1] top[0] 9-14\n",
      "                 ├[0] top[1] 16-7 argmax_attn_labels┤\n",
      "                 │                                  └*[1] top[0, 2, 4] 9-14,12-10,13-13...\n",
      "                 └[0] top[1] 16-7 attn_labels┐\n",
      "                                             └[1] top[2] 12-10\n"
     ]
    }
   ],
   "source": [
    "print(key); node = result.node = add_node(node, topi=[0,2,4], head_attr_fn=get_head_mlp_attr)#, label_type='argmax_attn_labels')  # "
   ]
  },
  {
   "cell_type": "code",
   "execution_count": null,
   "id": "a03ffba0",
   "metadata": {},
   "outputs": [],
   "source": [
    "key = 'MlM_gen(persons.EqSet.equal, types_of_things.TreeSet.parent) (cxt_len=2, abstract=0)'; result = results[key]\n",
    "node, data_tuples = show_result(result)"
   ]
  },
  {
   "cell_type": "code",
   "execution_count": null,
   "id": "95222719",
   "metadata": {},
   "outputs": [],
   "source": [
    "for data_tuple in data_tuples[:4]: plot_attn_attr(data_tuple, model, tokenizer, node, 16, 7, attn_patterns=['bos->ans0]'], k_shot=k_shot, plot_attr=False)"
   ]
  },
  {
   "cell_type": "code",
   "execution_count": null,
   "id": "014caa38",
   "metadata": {},
   "outputs": [],
   "source": [
    "plot_attn_attrs(data_tuples[:4], model, tokenizer, node, topi=[0,1,2,3], head_attr_fn=get_head_mlp_attr, k_shot=k_shot)"
   ]
  },
  {
   "cell_type": "code",
   "execution_count": 566,
   "id": "9ae8689e",
   "metadata": {},
   "outputs": [],
   "source": [
    "node = node.parent.parent"
   ]
  },
  {
   "cell_type": "code",
   "execution_count": 559,
   "id": "f9476640",
   "metadata": {},
   "outputs": [
    {
     "name": "stdout",
     "output_type": "stream",
     "text": [
      "MlM_gen(persons.EqSet.equal, types_of_things.TreeSet.parent) (cxt_len=2, abstract=0)\n",
      " [-1] root labels┐\n",
      "                 └[0] 16-7 argmax_attn_labels┐\n",
      "                                             └*[1] top[0] 12-10...\n"
     ]
    }
   ],
   "source": [
    "print(key); node = result.node = add_node(node, layer=16, head=7, topi=[0], head_attr_fn=get_head_mlp_attr)#, label_type=f'argmax_attn_labels')  # "
   ]
  },
  {
   "cell_type": "code",
   "execution_count": 460,
   "id": "22f07fab",
   "metadata": {},
   "outputs": [
    {
     "name": "stdout",
     "output_type": "stream",
     "text": [
      "MlM_gen(persons.EqSet.equal, types_of_things.TreeSet.parent) (cxt_len=2, abstract=0)\n",
      "                 ┌[0] 16-7 attn_labels:\n",
      " [-1] root labels┤\n",
      "                 └[0] 16-7 argmax_attn_labels┐\n",
      "                                             └[1] top[0] 12-10┐\n",
      "                                                              └*[2] top[0] 0-16...\n"
     ]
    }
   ],
   "source": [
    "print(key); node = result.node = add_node(node, topi=[0], head_attr_fn=get_head_mlp_attr)#, label_type=f'argmax_attn_labels')"
   ]
  },
  {
   "cell_type": "markdown",
   "id": "cdb4e419",
   "metadata": {},
   "source": [
    "### fr->en"
   ]
  },
  {
   "cell_type": "code",
   "execution_count": 155,
   "id": "7f0101f9",
   "metadata": {},
   "outputs": [
    {
     "name": "stdout",
     "output_type": "stream",
     "text": [
      "MlM_gen(persons.EqSet.equal, en2fr.TreeSet.parent) (cxt_len=1, abstract=0): 0.091, 0.84375\n",
      "MlM_gen(persons.EqSet.equal, en2fr.TreeSet.parent) (cxt_len=1, abstract=1): 0.109, 0.875\n",
      "MlM_gen(persons.EqSet.equal, en2fr.TreeSet.parent) (cxt_len=2, abstract=0): 2.069, 0.53125\n",
      "MlM_gen(persons.EqSet.equal, en2fr.TreeSet.parent) (cxt_len=2, abstract=1): 1.034, 0.59375\n"
     ]
    }
   ],
   "source": [
    "for key, result in results.items(): print(f\"{key}: {result.mean_loss:.3f}, {result.mean_acc}\")"
   ]
  },
  {
   "cell_type": "code",
   "execution_count": null,
   "id": "d156659e",
   "metadata": {},
   "outputs": [],
   "source": [
    "key = 'MlM_gen(persons.EqSet.equal, en2fr.TreeSet.parent) (cxt_len=1, abstract=0)'; result = results[key]\n",
    "node, data_tuples = show_result(result, topk=15)"
   ]
  },
  {
   "cell_type": "code",
   "execution_count": 173,
   "id": "e8c870a3",
   "metadata": {},
   "outputs": [
    {
     "name": "stdout",
     "output_type": "stream",
     "text": [
      "MlM_gen(persons.EqSet.equal, en2fr.TreeSet.parent) (cxt_len=1, abstract=0)\n",
      " [-1] root labels┐\n",
      "                 └[0] top[0, 1] 16-15,21-14 attn_labels┐\n",
      "                                                       └[1] top[0, 1, 2] 12-10,8-1,9-14┐\n",
      "                                                                                       └*[2] top[0, 1, 2, 3, 4, 5] 6-10,5-12,8-7,8-3,7-2,8-9...\n"
     ]
    }
   ],
   "source": [
    "print(key); node = result.node = add_node(node, topi=[0,1,2,3,4,5])"
   ]
  },
  {
   "cell_type": "code",
   "execution_count": 174,
   "id": "c07ef9bf",
   "metadata": {},
   "outputs": [
    {
     "name": "stdout",
     "output_type": "stream",
     "text": [
      "[[(5, 12, -1.016), (8, 7, -0.743), (7, 2, -1.071)], [(12, 10, -2.065), (8, 1, -2.009), (9, 14, -2.1)], [(16, 15, -0.416), (21, 14, -0.719)]]\n"
     ]
    },
    {
     "data": {
      "image/png": "[encoded data removed]",
      "text/plain": [
       "<Figure size 640x480 with 1 Axes>"
      ]
     },
     "metadata": {},
     "output_type": "display_data"
    }
   ],
   "source": [
    "analyze_head_chains(model, get_head2scores(node));"
   ]
  },
  {
   "cell_type": "code",
   "execution_count": null,
   "id": "b752617c",
   "metadata": {},
   "outputs": [],
   "source": [
    "key = 'MlM_gen(persons.EqSet.equal, en2fr.TreeSet.parent) (cxt_len=2, abstract=0)'; result = results[key]\n",
    "node, data_tuples = show_result(result, topk=15)"
   ]
  },
  {
   "cell_type": "code",
   "execution_count": null,
   "id": "46e9bc7a",
   "metadata": {},
   "outputs": [],
   "source": [
    "plot_attn_attrs(data_tuples, model, tokenizer, node, topi=[0,1,2], k_shot=k_shot)"
   ]
  },
  {
   "cell_type": "code",
   "execution_count": 202,
   "id": "697be2f3",
   "metadata": {},
   "outputs": [
    {
     "name": "stdout",
     "output_type": "stream",
     "text": [
      "MlM_gen(persons.EqSet.equal, en2fr.TreeSet.parent) (cxt_len=2, abstract=0)\n",
      "parent has not been attributed yet, replace it instead of adding to it.\n",
      "                 ┌[0] top[1, 2] 16-15,21-14 argmax_attn_labels┐\n",
      "                 │                                            └[1] top[0, 1] 8-1,12-10┐\n",
      "                 │                                                                    └*[2] top[0, 1, 2] 6-10,5-12,8-7...\n",
      " [-1] root labels┤\n",
      "                 └[0] top[0] 20-5 argmax_attn_labels┐\n",
      "                                                    └[1] top[0, 1] 12-10,8-1┐\n",
      "                                                                            └[2] top[0, 1, 2] 6-10,5-12,8-7\n"
     ]
    }
   ],
   "source": [
    "print(key); node = add_node_to_result(result, topi=[0,1,2], label_type='argmax_attn_labels')  # head_attr_fn=get_head_mlp_attr"
   ]
  },
  {
   "cell_type": "code",
   "execution_count": 207,
   "id": "b0b8bb95",
   "metadata": {},
   "outputs": [
    {
     "name": "stdout",
     "output_type": "stream",
     "text": [
      "[[(5, 12, -1.402), (8, 7, -0.846)], [(12, 10, -2.067), (8, 1, -1.974)], [(20, 5, -1.164)]]\n"
     ]
    },
    {
     "data": {
      "image/png": "[encoded data removed]",
      "text/plain": [
       "<Figure size 640x480 with 1 Axes>"
      ]
     },
     "metadata": {},
     "output_type": "display_data"
    },
    {
     "data": {
      "text/plain": [
       "[(((5, 12), (12, 10), (20, 5)), -0.42940863966941833, 0.23799992),\n",
       " (((5, 12), (8, 1), (20, 5)), -0.4207330048084259, 0.23799992),\n",
       " (((8, 7), (12, 10), (20, 5)), 0.9564396142959595, -0.31800002)]"
      ]
     },
     "execution_count": 207,
     "metadata": {},
     "output_type": "execute_result"
    }
   ],
   "source": [
    "analyze_head_chains(model, get_head2scores(result.root.children[1].children[0].children[0]))"
   ]
  },
  {
   "cell_type": "markdown",
   "id": "68713987",
   "metadata": {},
   "source": [
    "### did->does"
   ]
  },
  {
   "cell_type": "code",
   "execution_count": 20,
   "id": "a83926d2",
   "metadata": {},
   "outputs": [
    {
     "name": "stdout",
     "output_type": "stream",
     "text": [
      "MlM_gen(persons.EqSet.equal, does2did.TreeSet.equal) (cxt_len=2, abstract=0): 0.613, 0.65625\n",
      "MlM_gen(persons.EqSet.equal, does2did.TreeSet.equal) (cxt_len=2, abstract=1): 0.650, 0.53125\n",
      "MlM_gen(persons.EqSet.equal, does2did.TreeSet.parent) (cxt_len=1, abstract=0): 0.056, 0.8125\n",
      "MlM_gen(persons.EqSet.equal, does2did.TreeSet.parent) (cxt_len=1, abstract=1): 0.596, 0.5625\n",
      "MlM_gen(persons.EqSet.equal, does2did.TreeSet.parent) (cxt_len=2, abstract=0): 1.258, 0.53125\n",
      "MlM_gen(persons.EqSet.equal, does2did.TreeSet.parent) (cxt_len=2, abstract=1): 1.894, 0.5\n"
     ]
    }
   ],
   "source": [
    "for key, result in results.items(): print(f\"{key}: {result.mean_loss:.3f}, {result.mean_acc}\")"
   ]
  },
  {
   "cell_type": "code",
   "execution_count": null,
   "id": "d38f701b",
   "metadata": {},
   "outputs": [],
   "source": [
    "key = 'MlM_gen(persons.EqSet.equal, does2did.TreeSet.parent) (cxt_len=1, abstract=0)'; result = results[key]\n",
    "node, data_tuples = show_result(result, topk=15)"
   ]
  },
  {
   "cell_type": "code",
   "execution_count": null,
   "id": "0b511c94",
   "metadata": {},
   "outputs": [],
   "source": [
    "plot_attn_attrs(data_tuples[:4], model, tokenizer, node.parent.parent.parent, topi=[0,1], head_attr_fn=get_head_mlp_attr, mix=True)"
   ]
  },
  {
   "cell_type": "code",
   "execution_count": null,
   "id": "5fb9f0c1",
   "metadata": {},
   "outputs": [],
   "source": [
    "for text, input_ids, labels, ranges, *args, o in data_tuples:\n",
    "    show_predictions(tokenizer, *args, logits=o.logits, labels=labels, k_shot=k_shot, topk=3)[0]"
   ]
  },
  {
   "cell_type": "code",
   "execution_count": null,
   "id": "9790bcc9",
   "metadata": {},
   "outputs": [],
   "source": [
    "result.node = result.node.parent.parent.parent\n",
    "result.node = result.root"
   ]
  },
  {
   "cell_type": "code",
   "execution_count": 80,
   "id": "657592c8",
   "metadata": {},
   "outputs": [
    {
     "name": "stdout",
     "output_type": "stream",
     "text": [
      "MlM_gen(persons.EqSet.equal, does2did.TreeSet.parent) (cxt_len=1, abstract=0)\n",
      "                 ┌[0] top3 21-16 labels┐\n",
      "                 │                     └[1] top[0, 1, 2, 3, 4, 5] 19-16,8-16,13-13,17-16,7-16,6-16\n",
      "                 ├[0] top[0] 17-9 attn_labels┐\n",
      "                 │                           └[1] top[0, 1, 2] 12-10,8-1,13-13┐\n",
      "                 │                                                            └[2] top[0] 6-10\n",
      " [-1] root labels┤\n",
      "                 │                     ┌[1] top[0, 1, 2, 3, 4, 5] 18-16,13-13,14-7,16-16,12-10,17-16\n",
      "                 ├[0] top0 19-16 labels┤\n",
      "                 │                     └[1] top0 18-16┐\n",
      "                 │                                    └[2] top0 17-16┐\n",
      "                 │                                                   └[3] top[0, 1] 16-16,15-16\n",
      "                 └[0] top[1] 14-7 attn_labels┐\n",
      "                                             └[1] top[0, 1] 8-1,12-10┐\n",
      "                                                                     └*[2] top[1, 0, 2, 7] 6-10,0-16,3-11,3-12...\n"
     ]
    }
   ],
   "source": [
    "print(key); node = add_node_to_result(result, topi=[1,0,2,7], head_attr_fn=get_head_mlp_attr, label_type='attn_labels')  # head_attr_fn=get_head_mlp_attr"
   ]
  },
  {
   "cell_type": "code",
   "execution_count": null,
   "id": "bb091b94",
   "metadata": {
    "collapsed": true
   },
   "outputs": [],
   "source": [
    "for data_tuple in data_tuples:\n",
    "    plot_attn_attr(data_tuple, model, tokenizer, node, 17, 16, attn_patterns=None, k_shot=0, plot_attr=False)"
   ]
  },
  {
   "cell_type": "code",
   "execution_count": null,
   "id": "6a0c3bcd",
   "metadata": {
    "collapsed": true
   },
   "outputs": [],
   "source": [
    "interpret_circuit(model, tokenizer, result.task, node.parent, topi=[0,1,6,7,10])"
   ]
  },
  {
   "cell_type": "code",
   "execution_count": null,
   "id": "27296b00",
   "metadata": {
    "collapsed": true
   },
   "outputs": [],
   "source": [
    "plot_attn_attrs(data_tuples[:4], model, tokenizer, node, topi=[0, 1, 2], k_shot=k_shot)  # head_attr_fn=get_head_mlp_attr"
   ]
  },
  {
   "cell_type": "code",
   "execution_count": null,
   "id": "c0185b90",
   "metadata": {},
   "outputs": [],
   "source": [
    "key = 'MlM_gen(persons.EqSet.equal, does2did.TreeSet.equal) (cxt_len=2, abstract=0)'; result = results[key]\n",
    "node, data_tuples = show_result(result, topk=10)"
   ]
  },
  {
   "cell_type": "code",
   "execution_count": null,
   "id": "24e7c66e",
   "metadata": {
    "collapsed": true
   },
   "outputs": [],
   "source": [
    "plot_attn_attrs(data_tuples[:4], model, tokenizer, node, topi=[0, 7], head_attr_fn=get_head_mlp_attr)"
   ]
  },
  {
   "cell_type": "code",
   "execution_count": 89,
   "id": "6460cf49",
   "metadata": {},
   "outputs": [
    {
     "name": "stdout",
     "output_type": "stream",
     "text": [
      "MlM_gen(persons.EqSet.equal, does2did.TreeSet.equal) (cxt_len=2, abstract=0)\n",
      " [-1] root labels┐\n",
      "                 └[0] top[0] 16-7 attn_labels┐\n",
      "                                             └[1] top[0, 1, 2, 3, 4] 9-14,13-13,15-5,8-1,12-10┐\n",
      "                                                                                              └*[2] top[0, 1, 2, 3] 6-10,1-7,3-12,6-2...\n"
     ]
    }
   ],
   "source": [
    "print(key); node = add_node_to_result(result, topi=[0,1,2,3])"
   ]
  },
  {
   "cell_type": "code",
   "execution_count": 93,
   "id": "b3de5818",
   "metadata": {},
   "outputs": [
    {
     "name": "stdout",
     "output_type": "stream",
     "text": [
      "[[(6, 2, -0.6)], [(9, 14, -2.579), (13, 13, -2.123), (15, 5, -2.675), (8, 1, -1.939), (12, 10, -2.034)], [(16, 7, -1.086)]]\n"
     ]
    },
    {
     "data": {
      "image/png": "[encoded data removed]",
      "text/plain": [
       "<Figure size 640x480 with 1 Axes>"
      ]
     },
     "metadata": {},
     "output_type": "display_data"
    }
   ],
   "source": [
    "analyze_head_chains(model, get_head2scores(node));"
   ]
  },
  {
   "cell_type": "code",
   "execution_count": null,
   "id": "a01df267",
   "metadata": {
    "scrolled": false
   },
   "outputs": [],
   "source": [
    "key = 'MlM_gen(persons.EqSet.equal, does2did.TreeSet.parent) (cxt_len=2, abstract=0)'; result = results[key]\n",
    "node, data_tuples = show_result(result, topk=15)"
   ]
  },
  {
   "cell_type": "code",
   "execution_count": 107,
   "id": "b619a4dd",
   "metadata": {},
   "outputs": [
    {
     "name": "stdout",
     "output_type": "stream",
     "text": [
      "MlM_gen(persons.EqSet.equal, does2did.TreeSet.parent) (cxt_len=2, abstract=0)\n",
      "                 ┌[0] top2 19-16 labels┐\n",
      "                 │                     └[1] top[0, 1, 2, 3, 4, 5, 6] 13-13,18-16,0-16,17-16,16-16,13-7,12-10\n",
      " [-1] root labels┤\n",
      "                 └[0] top[0] 16-7 attn_labels┐\n",
      "                                             └[1] top[0, 1, 2, 3, 4] 9-14,8-1,13-13,15-5,12-10┐\n",
      "                                                                                              └*[2] top[0, 1, 2, 3] 6-10,1-7,3-12,6-2...\n"
     ]
    }
   ],
   "source": [
    "print(key); node = add_node_to_result(result, topi=[0,1,2,3], label_type='attn_labels')  # head_attr_fn=get_head_mlp_attr, "
   ]
  },
  {
   "cell_type": "markdown",
   "id": "5a102409",
   "metadata": {},
   "source": [
    "### thing->capability"
   ]
  },
  {
   "cell_type": "code",
   "execution_count": 1067,
   "id": "2eb25f94",
   "metadata": {},
   "outputs": [
    {
     "name": "stdout",
     "output_type": "stream",
     "text": [
      "MlM_gen(persons.EqSet.equal, capabilities_of_things.TreeSet.equal) (cxt_len=2, abstract=0): 0.536, 0.71875\n",
      "MlM_gen(persons.EqSet.equal, capabilities_of_things.TreeSet.equal) (cxt_len=2, abstract=1): 1.068, 0.375\n",
      "MlM_gen(persons.EqSet.equal, capabilities_of_things.TreeSet.parent) (cxt_len=1, abstract=0): 0.434, 0.9375\n",
      "MlM_gen(persons.EqSet.equal, capabilities_of_things.TreeSet.parent) (cxt_len=1, abstract=1): 0.939, 0.59375\n",
      "MlM_gen(persons.EqSet.equal, capabilities_of_things.TreeSet.parent) (cxt_len=2, abstract=0): 2.783, 0.375\n",
      "MlM_gen(persons.EqSet.equal, capabilities_of_things.TreeSet.parent) (cxt_len=2, abstract=1): 2.983, 0.3125\n"
     ]
    }
   ],
   "source": [
    "for key, result in results.items(): print(f\"{key}: {result.mean_loss:.3f}, {result.mean_acc}\")"
   ]
  },
  {
   "cell_type": "code",
   "execution_count": null,
   "id": "d4d207a4",
   "metadata": {},
   "outputs": [],
   "source": [
    "key = 'MlM_gen(persons.EqSet.equal, capabilities_of_things.TreeSet.parent) (cxt_len=1, abstract=0)'; result = results[key]\n",
    "node, data_tuples = show_result(result)"
   ]
  },
  {
   "cell_type": "code",
   "execution_count": null,
   "id": "689b07c3",
   "metadata": {},
   "outputs": [],
   "source": [
    "interpret_circuit(model, tokenizer, result.task, node, topi=[0, 1, 2])"
   ]
  },
  {
   "cell_type": "code",
   "execution_count": null,
   "id": "3e8d310a",
   "metadata": {},
   "outputs": [],
   "source": [
    "interpret_circuit(model, tokenizer, result.task, node, topi=[0, 1])"
   ]
  },
  {
   "cell_type": "code",
   "execution_count": 964,
   "id": "f0541f9e",
   "metadata": {},
   "outputs": [
    {
     "name": "stdout",
     "output_type": "stream",
     "text": [
      "MlM_gen(persons.EqSet.equal, capabilities_of_things.TreeSet.parent) (cxt_len=1, abstract=0)\n",
      "                 ┌[0] top[0] 13-15 attn_labels┐\n",
      "                 │                            └[1] top[0, 1] 8-1,12-10┐\n",
      "                 │                                                    └[2] top[0, 1] 5-12,6-5\n",
      " [-1] root labels┤\n",
      "                 └[0] top[3] 21-14 attn_labels┐\n",
      "                                              └[1] top[0, 1] 8-1,12-10┐\n",
      "                                                                      └*[2] top[0, 1] 3-12,5-12...\n"
     ]
    }
   ],
   "source": [
    "print(key); node = add_node_to_result(result, topi=[0,1])"
   ]
  },
  {
   "cell_type": "code",
   "execution_count": null,
   "id": "759696a5",
   "metadata": {},
   "outputs": [],
   "source": [
    "key = 'MlM_gen(persons.EqSet.equal, capabilities_of_things.TreeSet.equal) (cxt_len=2, abstract=0)'; result = results[key]\n",
    "node, data_tuples = show_result(result)"
   ]
  },
  {
   "cell_type": "code",
   "execution_count": 1062,
   "id": "6fc85adc",
   "metadata": {},
   "outputs": [
    {
     "name": "stdout",
     "output_type": "stream",
     "text": [
      "MlM_gen(persons.EqSet.equal, capabilities_of_things.TreeSet.equal) (cxt_len=2, abstract=0)\n",
      " [-1] root labels┐\n",
      "                 └[0] top[0] 16-7 attn_labels┐\n",
      "                                             └[1] top[0, 1] 9-14,12-10┐\n",
      "                                                                      └*[2] top[2, 1, 3, 0] 8-7,1-7,6-10,3-12...\n"
     ]
    }
   ],
   "source": [
    "print(key); node = add_node_to_result(result, topi=[2,1,3,0])"
   ]
  },
  {
   "cell_type": "code",
   "execution_count": 1063,
   "id": "bd405a88",
   "metadata": {},
   "outputs": [
    {
     "name": "stdout",
     "output_type": "stream",
     "text": [
      "[[(8, 7, -0.282)], [(9, 14, -2.228), (12, 10, -2.236)], [(16, 7, -1.271)]]\n"
     ]
    },
    {
     "data": {
      "image/png": "[encoded data removed]",
      "text/plain": [
       "<Figure size 640x480 with 1 Axes>"
      ]
     },
     "metadata": {},
     "output_type": "display_data"
    }
   ],
   "source": [
    "analyze_head_chains(model, get_head2scores(node));"
   ]
  },
  {
   "cell_type": "code",
   "execution_count": null,
   "id": "8615ea4e",
   "metadata": {},
   "outputs": [],
   "source": [
    "key = 'MlM_gen(persons.EqSet.equal, capabilities_of_things.TreeSet.parent) (cxt_len=2, abstract=0)'; result = results[key]\n",
    "node, data_tuples = show_result(result)"
   ]
  },
  {
   "cell_type": "code",
   "execution_count": 988,
   "id": "b4f2e785",
   "metadata": {
    "collapsed": true
   },
   "outputs": [
    {
     "name": "stdout",
     "output_type": "stream",
     "text": [
      "*Ġplay 0.133 {'Ġplay': 0.133, 'Ġshoot': 0.058, 'âĢ': 0.057} \t Justice has a piano. Chance has a gun. Justice can play\n",
      "*Ġbake 0.241 {'Ġbake': 0.241, 'Ġfly': 0.136, 'Ġcook': 0.128} \t Tyler has an oven. London has a plane. Tyler can bake\n",
      " Ġfly 0.04 {'Ġprint': 0.727, 'Ġtype': 0.046, 'Ġfly': 0.04} \t India has a printer. Eva has a glider. Eva can fly\n",
      "*Ġwash 0.606 {'Ġwash': 0.606, 'Ġdry': 0.074, 'Ġclean': 0.062} \t Jamie has a phone. Dream has washing machine. Dream can wash\n",
      " Ġstab 0.219 {'Ġopen': 0.324, 'Ġstab': 0.219, 'Ġcut': 0.21} \t Angel has an opener. Laura has a dagger. Laura can stab\n",
      " Ġwatch 0.0 {'Ġstab': 0.975, 'Ġkill': 0.005, 'Ġcut': 0.002} \t Anna has a TV. Michael has a dagger. Anna can watch\n",
      " Ġcut 0.077 {'Ġcook': 0.286, 'Ġsaw': 0.119, 'Ġchop': 0.082} \t King has a saw. Amy has a pot. King can cut\n",
      " Ġcook 0.075 {'Ġdrive': 0.37, 'Ġcook': 0.075, 'Ġfix': 0.045} \t Georgia has a pot. Thomas has a car. Georgia can cook\n",
      "3.0769495964050293\n",
      " Ġchop 0.063 {\"'t\": 0.073, 'âĢ': 0.069, 'Ġchop': 0.063} \t Cash has an oven. Alexander has an axe. Alexander can chop\n",
      " Ġstab 0.007 {'Ġdig': 0.667, 'Ġchop': 0.045, 'Ġshovel': 0.039} \t Sky has a dagger. Jordan has a shovel. Sky can stab\n",
      "*Ġdig 0.331 {'Ġdig': 0.331, 'Ġstab': 0.294, 'Ġshovel': 0.076} \t Christopher has a lamp. Larry has a shovel. Larry can dig\n",
      " Ġadd 0.002 {'Ġshoot': 0.719, 'Ġkill': 0.031, 'Ġfire': 0.029} \t Eva has a calculator. Michael has a gun. Eva can add\n",
      "*Ġcall 0.45 {'Ġcall': 0.45, 'Ġdial': 0.244, 'Ġmake': 0.066} \t Ruby has a calculator. Paul has a phone. Paul can call\n",
      "*Ġdig 0.864 {'Ġdig': 0.864, 'Ġshovel': 0.022, 'Ġchop': 0.02} \t Anna has a pot. Hunter has a shovel. Hunter can dig\n",
      " Ġopen 0.003 {'Ġchop': 0.885, 'Ġcut': 0.036, 'Ġhack': 0.011} \t Bruce has an opener. Jessica has an axe. Bruce can open\n",
      "*Ġbake 0.818 {'Ġbake': 0.818, 'Ġcook': 0.13, 'Ġopen': 0.01} \t Jake has a saw. Sarah has an oven. Sarah can bake\n",
      "2.675234317779541\n",
      " Ġride 0.116 {\"'t\": 0.127, 'Ġride': 0.116, 'âĢ': 0.061} \t Lewis has a lamp. Elsa has a bicycle. Elsa can ride\n",
      "*Ġwash 0.533 {'Ġwash': 0.533, 'Ċ': 0.07, 'Ġuse': 0.068} \t Roger has a plane. Anne has washing machine. Anne can wash\n",
      "*Ġcook 0.456 {'Ġcook': 0.456, 'Ġboil': 0.165, 'Ġmake': 0.094} \t Rachel has washing machine. Dallas has a pot. Dallas can cook\n",
      " Ġadd 0.0 {'Ġfly': 0.821, 'Ġride': 0.051, 'Ġtake': 0.009} \t Angel has a calculator. Kate has a plane. Angel can add\n",
      " Ġwatch 0.027 {'Ġcook': 0.333, 'Ġboil': 0.112, 'Ġadd': 0.076} \t Amy has a TV. Anne has a pot. Amy can watch\n",
      " Ġstab 0.171 {'Ġcut': 0.216, 'Ġstab': 0.171, 'Ġkill': 0.11} \t Tony has washing machine. Gary has a dagger. Gary can stab\n",
      "*Ġdig 0.926 {'Ġdig': 0.926, 'Ġshovel': 0.031, 'Ġbury': 0.007} \t Ruby has a knife. Hunter has a shovel. Hunter can dig\n",
      "*Ġopen 0.488 {'Ġopen': 0.488, 'Ġwash': 0.182, 'Ġuse': 0.077} \t Sky has an opener. Victoria has washing machine. Sky can open\n",
      "3.071582078933716\n",
      " Ġfly 0.079 {\"'t\": 0.15, 'Ġfly': 0.079, 'âĢ': 0.046} \t Bo has a glider. Carl has an axe. Bo can fly\n",
      " Ġwrite 0.026 {'Ġfly': 0.588, \"'t\": 0.058, 'Ġdraw': 0.035} \t Christopher has a piano. Morgan has a pencil. Morgan can write\n",
      " Ġwatch 0.002 {'Ġwrite': 0.669, 'Ġdraw': 0.119, \"'t\": 0.039} \t August has a TV. Ruby has a pencil. August can watch\n",
      " Ġopen 0.009 {'Ġplay': 0.662, 'Ġlisten': 0.061, 'Ġhear': 0.047} \t Ryan has an opener. Robin has a violin. Ryan can open\n",
      " Ġprint 0.223 {'Ġopen': 0.437, 'Ġprint': 0.223, 'Ġwatch': 0.117} \t Collins has a printer. Winter has an opener. Collins can print\n",
      " Ġshoot 0.022 {'Ġopen': 0.696, 'Ġprint': 0.164, 'Ġwatch': 0.048} \t Maria has a gun. Ray has a printer. Maria can shoot\n",
      " Ġdrive 0.318 {'Ġwatch': 0.447, 'Ġdrive': 0.318, 'Ġopen': 0.023} \t Joy has a TV. Mary has a car. Mary can drive\n",
      "*Ġshoot 0.696 {'Ġshoot': 0.696, 'Ġopen': 0.072, 'Ġkill': 0.032} \t Warren has a gun. Alexander has an axe. Warren can shoot\n",
      "2.308245897293091\n"
     ]
    }
   ],
   "source": [
    "for text, input_ids, labels, ranges, *args, o in data_tuples:\n",
    "    loss, top1_corrects, answer_probs, candidate_probs = show_predictions(\n",
    "        tokenizer, *args, logits=o.logits, labels=labels, loss_reduction='mean',\n",
    "        candidates=None, k_shot=k_shot, topk=3, verbose=True)\n",
    "    print(loss)"
   ]
  },
  {
   "cell_type": "code",
   "execution_count": null,
   "id": "854622df",
   "metadata": {},
   "outputs": [],
   "source": [
    "plot_attn_attrs(data_tuples[:4], model, tokenizer, node.parent.parent.parent, topi=[0], k_shot=k_shot)"
   ]
  },
  {
   "cell_type": "code",
   "execution_count": null,
   "id": "4126b548",
   "metadata": {
    "collapsed": true
   },
   "outputs": [],
   "source": [
    "plot_attn_attrs(data_tuples[:4], model, tokenizer, node, topi=[0, 1, 2, 3], k_shot=k_shot, plot_attr=False)"
   ]
  },
  {
   "cell_type": "code",
   "execution_count": 1047,
   "id": "99d60291",
   "metadata": {},
   "outputs": [
    {
     "name": "stdout",
     "output_type": "stream",
     "text": [
      "MlM_gen(persons.EqSet.equal, capabilities_of_things.TreeSet.parent) (cxt_len=2, abstract=0)\n",
      "parent has not been attributed yet, replace it instead of adding to it.\n",
      "                 ┌[0] top[1] 21-14 argmax_attn_labels┐\n",
      "                 │                                   └[1] top[0, 1] 8-1,12-10┐\n",
      "                 │                                                           └*[2] top[1, 2, 0] 5-12,1-7,3-12...\n",
      " [-1] root labels┤\n",
      "                 └[0] top[0] 13-15 argmax_attn_labels┐\n",
      "                                                     └[1] top[0, 1] 8-1,12-10┐\n",
      "                                                                             └[2] top[2, 3, 1, 0] 6-5,3-7,5-12,3-12\n"
     ]
    }
   ],
   "source": [
    "print(key); node = add_node_to_result(result, topi=[1,2,0], label_type='argmax_attn_labels')"
   ]
  },
  {
   "cell_type": "markdown",
   "id": "a04c9c89",
   "metadata": {},
   "source": [
    "### capital->country"
   ]
  },
  {
   "cell_type": "code",
   "execution_count": 470,
   "id": "87f5c5e1",
   "metadata": {},
   "outputs": [
    {
     "name": "stdout",
     "output_type": "stream",
     "text": [
      "MlM_gen(persons.EqSet.equal, country2capital.TreeSet.equal) (cxt_len=1, abstract=0): 0.068, 0.8125\n",
      "MlM_gen(persons.EqSet.equal, country2capital.TreeSet.equal) (cxt_len=1, abstract=1): 0.111, 0.84375\n",
      "MlM_gen(persons.EqSet.equal, country2capital.TreeSet.equal) (cxt_len=2, abstract=0): 0.866, 0.65625\n",
      "MlM_gen(persons.EqSet.equal, country2capital.TreeSet.equal) (cxt_len=2, abstract=1): 1.251, 0.5\n",
      "MlM_gen(persons.EqSet.equal, country2capital.TreeSet.parent) (cxt_len=1, abstract=0): 0.093, 0.84375\n",
      "MlM_gen(persons.EqSet.equal, country2capital.TreeSet.parent) (cxt_len=1, abstract=1): 0.119, 0.8125\n",
      "MlM_gen(persons.EqSet.equal, country2capital.TreeSet.parent) (cxt_len=2, abstract=0): 1.386, 0.4375\n",
      "MlM_gen(persons.EqSet.equal, country2capital.TreeSet.parent) (cxt_len=2, abstract=1): 2.561, 0.4375\n"
     ]
    }
   ],
   "source": [
    "for key, result in results.items(): print(f\"{key}: {result.mean_loss:.3f}, {result.mean_acc}\")"
   ]
  },
  {
   "cell_type": "code",
   "execution_count": null,
   "id": "5bb37da5",
   "metadata": {},
   "outputs": [],
   "source": [
    "key = 'MlM_gen(persons.EqSet.equal, country2capital.TreeSet.parent) (cxt_len=1, abstract=0)'; result = results[key]\n",
    "node, data_tuples = show_result(result)"
   ]
  },
  {
   "cell_type": "code",
   "execution_count": 843,
   "id": "55ffef5f",
   "metadata": {
    "collapsed": true
   },
   "outputs": [
    {
     "name": "stdout",
     "output_type": "stream",
     "text": [
      "16 0\n",
      "(0.9464224576950073, 0.9693313837051392)\n",
      "Berlin->['Germany'] {'ĠBerlin': 34, 'ĠFriedrich': 22, 'ĠGermany': 19, 'ĠReich': 19, 'ĠGerman': 19}\n",
      "Cairo->['Egypt'] {'ĠCairo': 40, 'Egypt': 39, 'ĠEgypt': 39, 'ĠEgyptian': 38, 'ĠEgyptians': 37}\n",
      "Ankara->['Turkey'] {'ĠAnkara': 42, 'ĠTurkish': 38, 'ĠErdogan': 37, 'ĠTurkey': 36, 'Turkish': 35}\n",
      "Athens->['Greece'] {'ĠAthens': 42, 'ĠAthen': 33, 'ĠAthena': 30, 'ĠGreece': 30, 'ĠGreek': 29}\n",
      "London->['England'] {'ĠLondon': 26, 'London': 26, 'ĠNotting': 25, 'ĠThames': 24, 'ĠBarcl': 19}\n",
      "Manila->['the Philippines'] {'ĠManila': 34, 'ĠFilipino': 31, 'ĠPhilippines': 31, 'ĠPhilippine': 29, 'ĠFilip': 27}\n",
      "Ottawa->['Canada'] {'ĠOttawa': 36, 'Ott': 26, 'ĠCanadians': 24, 'ĠCanadian': 24, 'ĠQuebec': 22}\n",
      "Bern->['Switzerland'] {'Bern': 30, 'ĠBernstein': 30, 'ĠBern': 25, 'bern': 24, 'ĠBernard': 21}\n",
      "Seoul->['South Korea'] {'ĠSeoul': 39, 'ĠKoreans': 36, 'ĠKorean': 36, 'ĠKorea': 33, 'ĠYong': 29}\n",
      "Lisbon->['Portugal'] {'ĠLisbon': 40, 'ĠPortuguese': 38, 'ĠPortugal': 37, 'ĠPortug': 32, 'ĠLis': 20}\n",
      "Rome->['Italy'] {'ĠRome': 34, 'ĠRoma': 29, 'ĠRomans': 26, 'ĠItaly': 25, 'ĠItalian': 24}\n",
      "Canberra->['Australia'] {'ĠCanberra': 33, 'ĠACT': 22, 'ĠAustralian': 22, 'ĠAustralia': 22, 'ĠAustralians': 19}\n",
      "Bangkok->['Thailand'] {'ĠBangkok': 39, 'ĠThailand': 33, 'ĠThai': 30, 'Bang': 24, 'ĠBuddha': 21}\n",
      "Beijing->['China'] {'ĠBeijing': 35, 'ĠChinese': 29, 'ĠTian': 28, 'China': 28, 'ĠChina': 28}\n",
      "Tokyo->['Japan'] {'ĠTokyo': 35, 'Tok': 31, 'ĠJapanese': 30, 'ĠJapan': 30, 'Japan': 28}\n",
      "Paris->['France'] {'ĠParis': 33, 'Paris': 31, 'ĠFrance': 29, 'ĠFrench': 28, 'France': 26}\n",
      "Madrid->['Spain'] {'ĠMadrid': 38, 'ĠSpain': 31, 'ĠSpani': 30, 'ĠSpanish': 30, 'Spanish': 28}\n",
      "Moscow->['Russia'] {'ĠMoscow': 42, 'ĠRussians': 37, 'Moscow': 37, 'ĠKremlin': 37, 'ĠRussian': 36}\n",
      "12 7\n",
      "(0.9013831615447998, 0.9577867388725281)\n",
      "Berlin->['Germany'] {'ĠBerlin': 29, 'Germany': 22, 'German': 20, 'ĠGermany': 20, 'ĠGermans': 19}\n",
      "Cairo->['Egypt'] {'ĠEgypt': 35, 'ĠCairo': 34, 'ĠEgyptian': 34, 'Egypt': 33, 'ĠEgyptians': 31}\n",
      "Ankara->['Turkey'] {'ĠTurkish': 29, 'ĠAnkara': 29, 'Turkish': 27, 'ĠErdogan': 27, 'ĠIstanbul': 27}\n",
      "Athens->['Greece'] {'ĠAthens': 32, 'ĠAthen': 29, 'ĠGreece': 28, 'ĠGreeks': 27, 'ĠGreek': 26}\n",
      "London->['England'] {'London': 30, 'ĠLondon': 29, 'ĠBritain': 25, 'UK': 25, 'ĠÂ£': 25}\n",
      "Manila->['the Philippines'] {'ĠManila': 33, 'ĠFilipino': 32, 'ĠPhilippine': 31, 'ĠPhilippines': 30, 'ĠFilip': 28}\n",
      "Ottawa->['Canada'] {'ĠOttawa': 39, 'ĠCanadians': 36, 'ĠCanadian': 34, 'Canada': 34, 'ĠCanada': 34}\n",
      "Bern->['Switzerland'] {'ĠSwiss': 15, 'ĠSwitzerland': 15, 'Ġsignalling': 14, 'Ġlabou': 13, 'Ġneighbouring': 13}\n",
      "Seoul->['South Korea'] {'ĠKorea': 37, 'ĠKorean': 36, 'ĠSeoul': 36, 'ĠKoreans': 35, 'ĠYong': 28}\n",
      "Lisbon->['Portugal'] {'ĠLisbon': 35, 'ĠPortugal': 35, 'ĠPortuguese': 34, 'ĠPortug': 32, 'Brazil': 22}\n",
      "Rome->['Italy'] {'ĠRome': 27, 'ĠItaly': 24, 'ĠItalians': 23, 'Italy': 22, 'ĠItalian': 21}\n",
      "Canberra->['Australia'] {'ĠCanberra': 37, 'ĠAustralia': 35, 'ĠAustralian': 33, 'Australian': 32, 'ĠAustralians': 31}\n",
      "Bangkok->['Thailand'] {'ĠBangkok': 38, 'ĠThailand': 35, 'ĠThai': 33, 'Asia': 24, 'ĠCambodia': 23}\n",
      "Beijing->['China'] {'ĠBeijing': 34, 'ĠChinese': 30, 'China': 30, 'Chinese': 30, 'ĠChina': 29}\n",
      "Tokyo->['Japan'] {'Japan': 39, 'ĠJapan': 39, 'ĠJapanese': 37, 'Japanese': 37, 'ĠTokyo': 36}\n",
      "Paris->['France'] {'Paris': 31, 'ĠParis': 31, 'ĠFrance': 30, 'France': 29, 'ĠFranÃ§': 28}\n",
      "Madrid->['Spain'] {'ĠSpain': 35, 'ĠMadrid': 33, 'Spain': 32, 'Spanish': 31, 'ĠSpanish': 31}\n",
      "Moscow->['Russia'] {'ĠMoscow': 32, 'Moscow': 31, 'Russian': 29, 'ĠRussian': 29, 'ĠRussia': 29}\n",
      "19 12\n",
      "(0.935795247554779, 0.9572104811668396)\n",
      "Berlin->['Germany'] {'ĠGerman': 45, 'ĠBerlin': 45, 'ĠGermans': 44, 'German': 44, 'ĠGermany': 41}\n",
      "Cairo->['Egypt'] {'ĠCairo': 41, 'ĠEgyptian': 38, 'ĠEgypt': 38, 'Egypt': 37, 'ĠEgyptians': 34}\n",
      "Ankara->['Turkey'] {'ĠTurkish': 42, 'Turkish': 41, 'ĠTurkey': 40, 'Turkey': 39, 'ĠAnkara': 39}\n",
      "Athens->['Greece'] {'ĠAthens': 48, 'ĠGreek': 46, 'ĠGreece': 46, 'Greek': 45, 'ĠGreeks': 44}\n",
      "London->['England'] {'ĠLondon': 45, 'London': 42, 'ĠBritish': 40, 'ĠEngland': 38, 'ĠBritain': 37}\n",
      "Manila->['the Philippines'] {'ĠPhilippines': 38, 'ĠPhilippine': 36, 'ĠFilipino': 35, 'ĠManila': 35, 'ĠFilip': 33}\n",
      "Ottawa->['Canada'] {'ĠOttawa': 39, 'Ott': 34, 'ĠCanada': 33, 'Canada': 32, 'ĠCanadians': 32}\n",
      "Bern->['Switzerland'] {'ĠBern': 31, 'Bern': 31, 'ĠSwitzerland': 29, 'ĠBernard': 26, 'ĠSwiss': 26}\n",
      "Seoul->['South Korea'] {'ĠKorean': 45, 'ĠKoreans': 43, 'ĠKorea': 43, 'ĠSeoul': 43, 'South': 29}\n",
      "Lisbon->['Portugal'] {'ĠPortugal': 46, 'ĠPortuguese': 45, 'ĠLisbon': 43, 'ĠPortug': 37, 'ĠLis': 30}\n",
      "Rome->['Italy'] {'ĠRoman': 45, 'ĠRome': 44, 'Roman': 39, 'ĠRomans': 39, 'ĠRoma': 37}\n",
      "Canberra->['Australia'] {'ĠAustralia': 32, 'Australia': 30, 'ĠCanberra': 30, 'ĠAustralian': 29, 'ĠAustralians': 28}\n",
      "Bangkok->['Thailand'] {'ĠThailand': 44, 'ĠThai': 44, 'ĠBangkok': 42, 'ĠAsian': 27, 'ĠBuddhist': 25}\n",
      "Beijing->['China'] {'ĠChinese': 47, 'ĠBeijing': 44, 'ĠChina': 44, 'Chinese': 43, 'China': 42}\n",
      "Tokyo->['Japan'] {'ĠJapanese': 57, 'ĠJapan': 54, 'Japanese': 53, 'Japan': 52, 'ĠTokyo': 51}\n",
      "Paris->['France'] {'ĠFrench': 48, 'ĠFrance': 47, 'ĠParis': 47, 'Paris': 45, 'French': 45}\n",
      "Madrid->['Spain'] {'ĠSpain': 48, 'ĠMadrid': 47, 'Spain': 47, 'ĠSpanish': 46, 'Spanish': 44}\n",
      "Moscow->['Russia'] {'ĠRussian': 53, 'ĠRussians': 51, 'ĠMoscow': 50, 'Russian': 48, 'ĠRussia': 47}\n"
     ]
    }
   ],
   "source": [
    "interpret_circuit(model, tokenizer, result.task, node, topi=[0, 1, 2])"
   ]
  },
  {
   "cell_type": "code",
   "execution_count": 875,
   "id": "3dd05881",
   "metadata": {},
   "outputs": [
    {
     "name": "stdout",
     "output_type": "stream",
     "text": [
      "MlM_gen(persons.EqSet.equal, country2capital.TreeSet.parent) (cxt_len=1, abstract=0)\n",
      " [-1] root labels┐\n",
      "                 └[0] top[2] 19-12 attn_labels┐\n",
      "                                              └[1] top[0, 1, 2, 3] 13-13,8-1,12-10,11-0┐\n",
      "                                                                                       └*[2] top[0] 5-12...\n"
     ]
    }
   ],
   "source": [
    "print(key); node = add_node_to_result(result, topi=[0])"
   ]
  },
  {
   "cell_type": "code",
   "execution_count": null,
   "id": "28882636",
   "metadata": {},
   "outputs": [],
   "source": [
    "key = 'MlM_gen(persons.EqSet.equal, country2capital.TreeSet.equal) (cxt_len=2, abstract=0)'; result = results[key]\n",
    "node, data_tuples = show_result(result)"
   ]
  },
  {
   "cell_type": "code",
   "execution_count": 880,
   "id": "63db07d4",
   "metadata": {},
   "outputs": [
    {
     "name": "stdout",
     "output_type": "stream",
     "text": [
      "MlM_gen(persons.EqSet.equal, country2capital.TreeSet.equal) (cxt_len=2, abstract=0)\n",
      " [-1] root labels┐\n",
      "                 └[0] top[0, 1] 16-0,16-7 attn_labels┐\n",
      "                                                     └[1] top[0, 1, 2] 8-1,13-13,12-10┐\n",
      "                                                                                      └*[2] top[0, 1] 6-2,1-7...\n"
     ]
    }
   ],
   "source": [
    "print(key); node = add_node_to_result(result, topi=[0,1])"
   ]
  },
  {
   "cell_type": "code",
   "execution_count": null,
   "id": "060f0c84",
   "metadata": {},
   "outputs": [],
   "source": [
    "key = 'MlM_gen(persons.EqSet.equal, country2capital.TreeSet.parent) (cxt_len=2, abstract=0)'; result = results[key]\n",
    "node, data_tuples = show_result(result)"
   ]
  },
  {
   "cell_type": "code",
   "execution_count": 677,
   "id": "7a0cebe8",
   "metadata": {},
   "outputs": [
    {
     "name": "stdout",
     "output_type": "stream",
     "text": [
      "MlM_gen(persons.EqSet.equal, country2capital.TreeSet.parent) (cxt_len=2, abstract=0)\n",
      "                 ┌[0] top[0, 1, 3] 16-0,12-7,19-12 attn_labels┐\n",
      "                 │                                            └[1] top[0, 1, 2, 3, 4] 8-1,11-0,13-13,9-14,12-10┐\n",
      "                 │                                                                                             └[2] top[0, 1, 3] 5-12,3-12,1-7\n",
      " [-1] root labels┤\n",
      "                 └[0] top[0, 1, 3] 16-0,12-7,19-12 argmax_attn_labels┐\n",
      "                                                                     └[1] top[0, 1, 2, 3, 4] 8-1,11-0,13-13,9-14,12-10┐\n",
      "                                                                                                                      └*[2] top[0, 1, 2] 5-12,1-7,3-12...\n"
     ]
    }
   ],
   "source": [
    "print(key); node = add_node_to_result(result, topi=[0,1,2])#, label_type='argmax_attn_labels')"
   ]
  },
  {
   "cell_type": "markdown",
   "id": "8261a178",
   "metadata": {},
   "source": [
    "### person_adjs.opposite"
   ]
  },
  {
   "cell_type": "code",
   "execution_count": 343,
   "id": "d291a627",
   "metadata": {},
   "outputs": [
    {
     "name": "stdout",
     "output_type": "stream",
     "text": [
      "MlM_gen(persons.EqSet.equal, person_adjs.SymSet.equal) (cxt_len=1, abstract=0): 0.027, 0.9375\n",
      "MlM_gen(persons.EqSet.equal, person_adjs.SymSet.equal) (cxt_len=1, abstract=1): 0.102, 0.90625\n",
      "MlM_gen(persons.EqSet.equal, person_adjs.SymSet.equal) (cxt_len=2, abstract=0): 1.261, 0.5625\n",
      "MlM_gen(persons.EqSet.equal, person_adjs.SymSet.equal) (cxt_len=2, abstract=1): 1.538, 0.46875\n",
      "MlM_gen(persons.EqSet.equal, person_adjs.SymSet.opposite) (cxt_len=1, abstract=0): 0.451, 0.625\n",
      "MlM_gen(persons.EqSet.equal, person_adjs.SymSet.opposite) (cxt_len=1, abstract=1): 0.349, 0.75\n",
      "MlM_gen(persons.EqSet.equal, person_adjs.SymSet.opposite) (cxt_len=2, abstract=0): 3.566, 0.3125\n",
      "MlM_gen(persons.EqSet.equal, person_adjs.SymSet.opposite) (cxt_len=2, abstract=1): 3.773, 0.25\n"
     ]
    }
   ],
   "source": [
    "for key, result in results.items(): print(f\"{key}: {result.mean_loss:.3f}, {result.mean_acc}\")"
   ]
  },
  {
   "cell_type": "code",
   "execution_count": null,
   "id": "423b3633",
   "metadata": {
    "scrolled": true
   },
   "outputs": [],
   "source": [
    "key = 'MlM_gen(persons.EqSet.equal, person_adjs.SymSet.opposite) (cxt_len=1, abstract=0)'; result = results[key]\n",
    "node, data_tuples = show_result(result)"
   ]
  },
  {
   "cell_type": "code",
   "execution_count": 370,
   "id": "c8ebe210",
   "metadata": {},
   "outputs": [
    {
     "name": "stdout",
     "output_type": "stream",
     "text": [
      "MlM_gen(persons.EqSet.equal, person_adjs.SymSet.opposite) (cxt_len=1, abstract=0)\n",
      " [-1] root labels┐\n",
      "                 └[0] top[0] 16-14 attn_labels┐\n",
      "                                              └[1] top[0, 1] 8-1,12-10┐\n",
      "                                                                      └*[2] top[0] 7-9...\n"
     ]
    }
   ],
   "source": [
    "print(key); node = add_node_to_result(result, topi=[0])"
   ]
  },
  {
   "cell_type": "code",
   "execution_count": null,
   "id": "542c29d5",
   "metadata": {},
   "outputs": [],
   "source": [
    "key = 'MlM_gen(persons.EqSet.equal, person_adjs.SymSet.equal) (cxt_len=2, abstract=0)'; result = results[key]\n",
    "node, data_tuples = show_result(result)"
   ]
  },
  {
   "cell_type": "code",
   "execution_count": 385,
   "id": "34a0c127",
   "metadata": {},
   "outputs": [
    {
     "name": "stdout",
     "output_type": "stream",
     "text": [
      "MlM_gen(persons.EqSet.equal, person_adjs.SymSet.equal) (cxt_len=2, abstract=0)\n",
      " [-1] root labels┐\n",
      "                 └[0] top[0] 16-7 attn_labels┐\n",
      "                                             └[1] top[0, 1] 12-10,8-1┐\n",
      "                                                                     └*[2] top[0, 1, 2, 3, 4] 6-2,8-7,3-12,1-7,6-10...\n"
     ]
    }
   ],
   "source": [
    "print(key); node = add_node_to_result(result, topi=[0,1,2,3,4])"
   ]
  },
  {
   "cell_type": "code",
   "execution_count": null,
   "id": "66abd13c",
   "metadata": {},
   "outputs": [],
   "source": [
    "key = 'MlM_gen(persons.EqSet.equal, person_adjs.SymSet.opposite) (cxt_len=2, abstract=0)'; result = results[key]\n",
    "node, data_tuples = show_result(result)"
   ]
  },
  {
   "cell_type": "code",
   "execution_count": 412,
   "id": "b9a226df",
   "metadata": {},
   "outputs": [
    {
     "name": "stdout",
     "output_type": "stream",
     "text": [
      "MlM_gen(persons.EqSet.equal, person_adjs.SymSet.opposite) (cxt_len=2, abstract=0)\n",
      "                 ┌[0] top[0] 16-14 argmax_attn_labels┐\n",
      "                 │                                   └[1] top[0, 1] 8-1,12-10┐\n",
      "                 │                                                           └[2] top[0] 7-9\n",
      " [-1] root labels┤\n",
      "                 └[0] top[0] 16-14 attn_labels┐\n",
      "                                              └[1] top[0, 1] 8-1,12-10┐\n",
      "                                                                      └*[2] top[0] 7-9...\n"
     ]
    }
   ],
   "source": [
    "print(key); node = add_node_to_result(result, topi=[0,])#, label_type='attn_labels')"
   ]
  },
  {
   "cell_type": "markdown",
   "id": "51d8dd04",
   "metadata": {},
   "source": [
    "### thing->type"
   ]
  },
  {
   "cell_type": "code",
   "execution_count": 315,
   "id": "22d50e84",
   "metadata": {},
   "outputs": [
    {
     "name": "stdout",
     "output_type": "stream",
     "text": [
      "MlM_gen(persons.EqSet.equal, types_of_things.TreeSet.equal) (cxt_len=1, abstract=0): 0.032, 1.0\n",
      "MlM_gen(persons.EqSet.equal, types_of_things.TreeSet.equal) (cxt_len=1, abstract=1): 0.117, 0.90625\n",
      "MlM_gen(persons.EqSet.equal, types_of_things.TreeSet.equal) (cxt_len=2, abstract=0): 0.594, 0.65625\n",
      "MlM_gen(persons.EqSet.equal, types_of_things.TreeSet.equal) (cxt_len=2, abstract=1): 1.354, 0.53125\n",
      "MlM_gen(persons.EqSet.equal, types_of_things.TreeSet.parent) (cxt_len=1, abstract=0): 0.793, 0.625\n",
      "MlM_gen(persons.EqSet.equal, types_of_things.TreeSet.parent) (cxt_len=1, abstract=1): 0.286, 0.8125\n",
      "MlM_gen(persons.EqSet.equal, types_of_things.TreeSet.parent) (cxt_len=2, abstract=0): 2.174, 0.46875\n",
      "MlM_gen(persons.EqSet.equal, types_of_things.TreeSet.parent) (cxt_len=2, abstract=1): 1.824, 0.46875\n",
      "MlM_gen(persons.EqSet.equal, person_adjs.SymSet.equal) (cxt_len=1, abstract=0): 0.048, 0.875\n",
      "MlM_gen(persons.EqSet.equal, person_adjs.SymSet.equal) (cxt_len=1, abstract=1): 0.191, 0.90625\n",
      "MlM_gen(persons.EqSet.equal, person_adjs.SymSet.equal) (cxt_len=2, abstract=0): 1.170, 0.5\n",
      "MlM_gen(persons.EqSet.equal, person_adjs.SymSet.equal) (cxt_len=2, abstract=1): 1.368, 0.59375\n",
      "MlM_gen(persons.EqSet.equal, person_adjs.SymSet.opposite) (cxt_len=1, abstract=0): 0.434, 0.71875\n",
      "MlM_gen(persons.EqSet.equal, person_adjs.SymSet.opposite) (cxt_len=1, abstract=1): 0.816, 0.65625\n",
      "MlM_gen(persons.EqSet.equal, person_adjs.SymSet.opposite) (cxt_len=2, abstract=0): 2.772, 0.3125\n",
      "MlM_gen(persons.EqSet.equal, person_adjs.SymSet.opposite) (cxt_len=2, abstract=1): 2.973, 0.28125\n"
     ]
    }
   ],
   "source": [
    "for key, result in results.items(): print(f\"{key}: {result.mean_loss:.3f}, {result.mean_acc}\")  # old full"
   ]
  },
  {
   "cell_type": "code",
   "execution_count": null,
   "id": "d45e7be3",
   "metadata": {},
   "outputs": [],
   "source": [
    "key = 'MlM_gen(persons.EqSet.equal, types_of_things.TreeSet.parent) (cxt_len=1, abstract=0)'; result = results[key]\n",
    "node, data_tuples = show_result(result)"
   ]
  },
  {
   "cell_type": "code",
   "execution_count": null,
   "id": "fe516f4a",
   "metadata": {},
   "outputs": [],
   "source": [
    "print(key); node = add_node_to_result(result, topi=[1, 2])"
   ]
  },
  {
   "cell_type": "code",
   "execution_count": null,
   "id": "94799e16",
   "metadata": {},
   "outputs": [],
   "source": [
    "key = 'MlM_gen(persons.EqSet.equal, types_of_things.TreeSet.equal) (cxt_len=2, abstract=0)'; result = results[key]\n",
    "node, data_tuples = show_result(result)"
   ]
  },
  {
   "cell_type": "code",
   "execution_count": 151,
   "id": "f4b745c2",
   "metadata": {},
   "outputs": [
    {
     "name": "stdout",
     "output_type": "stream",
     "text": [
      "MlM_gen(persons.EqSet.equal, types_of_things.TreeSet.equal) (cxt_len=2, abstract=0)\n",
      " [-1] root labels┐\n",
      "                 └[0] top[0] 16-7 attn_labels┐\n",
      "                                             └[1] top[0] 12-10┐\n",
      "                                                              └*[2] top[0, 1, 2, 3, 4] 8-7,6-2,6-10,3-12,1-7...\n"
     ]
    }
   ],
   "source": [
    "print(key); node = add_node_to_result(result, topi=[0, 1, 2, 3, 4])"
   ]
  },
  {
   "cell_type": "code",
   "execution_count": null,
   "id": "414c7caa",
   "metadata": {},
   "outputs": [],
   "source": [
    "key = 'MlM_gen(persons.EqSet.equal, types_of_things.TreeSet.parent) (cxt_len=2, abstract=0)'; result = results[key]\n",
    "node, data_tuples = show_result(result)"
   ]
  },
  {
   "cell_type": "code",
   "execution_count": 206,
   "id": "819f6256",
   "metadata": {},
   "outputs": [
    {
     "name": "stdout",
     "output_type": "stream",
     "text": [
      "MlM_gen(persons.EqSet.equal, types_of_things.TreeSet.parent) (cxt_len=2, abstract=0)\n",
      "                 ┌[0] top[0, 1, 3] 20-5,21-5,15-8 argmax_attn_labels┐\n",
      "                 │                                                  └[1] top[0, 1] 8-1,12-10┐\n",
      "                 │                                                                          └[2] top[0, 1, 3] 5-12,3-12,7-2\n",
      " [-1] root labels┤\n",
      "                 ├[0] top[0, 1, 3] 20-5,21-5,15-8 attn_labels┐\n",
      "                 │                                           └[1] top[0, 1] 8-1,12-10┐\n",
      "                 │                                                                   └*[2] top[0, 1, 2] 5-12,3-12,7-2...\n",
      "                 └[0] 11-9 attn_labels┐\n",
      "                                      └[1] top[0] 8-1┐\n",
      "                                                     └[2] top[0, 1] 3-12,7-2\n"
     ]
    }
   ],
   "source": [
    "print(key); node = add_node_to_result(result, topi=[0,1,2])#, label_type='attn_labels')"
   ]
  },
  {
   "cell_type": "code",
   "execution_count": null,
   "id": "9e68100c",
   "metadata": {},
   "outputs": [],
   "source": [
    "# seed(1234); torch.cuda.empty_cache()\n",
    "model_names = ['EleutherAI/gpt-j-6B/cpu', 'EleutherAI/gpt-neox-20b', #'EleutherAI/gpt-neox-20b/cpu', \n",
    "               'text-curie-001', 'text-davinci-001', 'text-davinci-002'][:1]\n",
    "metrics = dict(losses=defaultdict(list), accuracies=defaultdict(list))\n",
    "\n",
    "def batch_predict(model, tokenizer):\n",
    "    return [predict(model, tokenizer, text, examples, k_shot=k_shot, custom_forward=False, # avoid computing head_inputs\n",
    "                    bos_token=bos_token, eos_token=eos_token, verbose=len(model_names) == 1)[1]\n",
    "            for text, examples in zip(texts, all_examples)]\n",
    "    \n",
    "with Timer('pmapped batch_predict'):\n",
    "    parallel = len(model_names) > 1\n",
    "    pool = Pool(len(model_names)) if parallel else itertools  # with Pool(len(model_names)) as pool:\n",
    "    results = pool.starmap(batch_predict, [models[model_name] for model_name in model_names])\n",
    "    if parallel: pool.close(); pool.join()\n",
    "            \n",
    "# query2acc, query2loss = defaultdict(list), defaultdict(list)\n",
    "for model_name, r in zip(model_names, results):\n",
    "    _, tokenizer = models[model_name]\n",
    "    for i, (loss, top1_corrects, answer_indices, answer_probs, candidate_probs) in enumerate(r):#.get()\n",
    "        acc = top1_corrects[k_shot:] # np.array(top1_corrects[k_shot:]).mean()\n",
    "        metrics['losses'][model_name].append(loss); metrics['accuracies'][model_name].append(acc)\n",
    "        if batch_size == 1: print(model_name, loss, acc)\n",
    "#         queries = [e[1] for e in _examples_list[i]][k_shot:]\n",
    "#         for q, a, l in zip(queries, acc, loss): query2acc[q].append(float(a)); query2loss[q].append(l)\n",
    "# print(sorted([(q, np.array(v).mean()) for q, v in query2acc.items()], key=lambda x: x[1]))"
   ]
  },
  {
   "cell_type": "code",
   "execution_count": 156,
   "id": "89581697",
   "metadata": {},
   "outputs": [
    {
     "name": "stdout",
     "output_type": "stream",
     "text": [
      "accuracies EleutherAI/gpt-j-6B/cpu 0.4444444444444444\n",
      "accuracies EleutherAI/gpt-neox-20b 0.5555555555555556\n",
      "accuracies text-curie-001 0.3333333333333333\n",
      "losses EleutherAI/gpt-j-6B/cpu 3.0475401878356934\n",
      "losses EleutherAI/gpt-neox-20b 2.3752387364705405\n",
      "losses text-curie-001 5.4890399882962955\n"
     ]
    }
   ],
   "source": [
    "for metric in ['accuracies', 'losses']:\n",
    "    for model_name in model_names[:]:\n",
    "        print(metric, model_name, np.array(metrics[metric][model_name]).mean())"
   ]
  },
  {
   "cell_type": "code",
   "execution_count": 129,
   "id": "4cf1f659",
   "metadata": {},
   "outputs": [],
   "source": [
    "def cmp(a, b):\n",
    "    print(a.dtype, a.size(), b.dtype, b.size())\n",
    "    print('allclose:', torch.allclose(a, b), 'equal:', torch.equal(a, b))\n",
    "    print((a == b).float().mean())\n",
    "    print((a - b).float().abs().mean(), a.float().abs().mean(), b.float().abs().mean())\n",
    "#     print((a - b).max(), (a - b).min())\n",
    "#     print(a[a - b == (a - b).max()])\n",
    "#     print(a[a - b == (a - b).min()])"
   ]
  },
  {
   "cell_type": "code",
   "execution_count": 47,
   "id": "e9cc4497",
   "metadata": {
    "collapsed": true,
    "jupyter": {
     "outputs_hidden": true
    }
   },
   "outputs": [
    {
     "name": "stdout",
     "output_type": "stream",
     "text": [
      " ... done 0:00:02.348918\n",
      " ... done 0:00:01.659792\n",
      " ĠJ 0.032 {'Ċ': 0.074, 'ĠS': 0.038, 'Ġ': 0.036} \t S J Y -> J\n",
      "*ĠN 0.429 {'ĠN': 0.429, 'ĠR': 0.223, 'ĠA': 0.074} \t A N R -> N\n",
      " ĠC 0.247 {'ĠV': 0.649, 'ĠC': 0.247, 'ĠB': 0.018} \t B C V -> C\n",
      "*ĠT 0.443 {'ĠT': 0.443, 'ĠK': 0.393, 'ĠS': 0.085} \t S T K -> T\n",
      "*ĠR 0.839 {'ĠR': 0.839, 'ĠT': 0.099, 'ĠA': 0.021} \t A R T -> R\n",
      "*ĠH 0.562 {'ĠH': 0.562, 'ĠQ': 0.278, 'ĠE': 0.112} \t E H Q -> H\n",
      "*ĠO 0.792 {'ĠO': 0.792, 'ĠF': 0.161, 'ĠN': 0.013} \t N O F -> O\n",
      "*ĠA 0.626 {'ĠA': 0.626, 'ĠI': 0.225, 'ĠY': 0.11} \t Y A I -> A\n",
      "\n",
      "\n",
      " ĠJ 0.032 {'Ċ': 0.074, 'ĠS': 0.038, 'Ġ': 0.036} \t S J Y -> J\n",
      "*ĠN 0.429 {'ĠN': 0.429, 'ĠR': 0.223, 'ĠA': 0.074} \t A N R -> N\n",
      " ĠC 0.247 {'ĠV': 0.649, 'ĠC': 0.247, 'ĠB': 0.018} \t B C V -> C\n",
      "*ĠT 0.443 {'ĠT': 0.443, 'ĠK': 0.393, 'ĠS': 0.085} \t S T K -> T\n",
      "*ĠR 0.839 {'ĠR': 0.839, 'ĠT': 0.099, 'ĠA': 0.021} \t A R T -> R\n",
      "*ĠH 0.562 {'ĠH': 0.562, 'ĠQ': 0.278, 'ĠE': 0.112} \t E H Q -> H\n",
      "*ĠO 0.792 {'ĠO': 0.792, 'ĠF': 0.161, 'ĠN': 0.013} \t N O F -> O\n",
      "*ĠA 0.626 {'ĠA': 0.626, 'ĠI': 0.225, 'ĠY': 0.11} \t Y A I -> A\n",
      "\n",
      "\n"
     ]
    }
   ],
   "source": [
    "# text, _examples = texts[0], _examples_list[0]\n",
    "torch.cuda.empty_cache()\n",
    "if True: #def predict2(model, tokenizer, text, _examples):\n",
    "    examples, input_ids, tokens, bos_indices, eos_indices, answers, labels = make_data_tuple(\n",
    "        text, tokenizer, k_shot=k_shot, bos_token=bos_token, eos_token=eos_token)\n",
    "    candidates = [[tokenizer.encode(' ' + token)[0] for token in cands[0]] for _, _, cands, _ in _examples]\n",
    "    with torch.no_grad():\n",
    "        with Timer(): o0 = model(input_ids.to(model.device), output_attentions=True, output_hidden_states=True)\n",
    "        with Timer(): o1 = forward0(model, input_ids.to(model.device), labels=labels.to(model.device),\n",
    "                by_head=['head_input0', 'head_output0'], attn_weights=None, output_hidden_states=True)\n",
    "        for o in [o0, o1]:\n",
    "            logits = o.logits\n",
    "            if isinstance(logits, torch.Tensor): logits = logits.to('cpu').float()# softmax on cpu needs float32\n",
    "            loss, top1_corrects, answer_probs, candidate_probs = show_predictions(\n",
    "                examples, tokenizer, logits, bos_indices, eos_indices, answers, labels, loss_reduction='none',\n",
    "                candidates=candidates, k_shot=k_shot, topk=3, verbose=True)\n",
    "            print('\\n')\n",
    "#     return loss, top1_corrects, answer_probs, candidate_probs"
   ]
  },
  {
   "cell_type": "code",
   "execution_count": 69,
   "id": "9a74c135",
   "metadata": {},
   "outputs": [],
   "source": []
  },
  {
   "cell_type": "code",
   "execution_count": 176,
   "id": "20a661b0",
   "metadata": {},
   "outputs": [
    {
     "name": "stdout",
     "output_type": "stream",
     "text": [
      "accuracies EleutherAI/gpt-j-6B 0.4976851851851852\n",
      "accuracies EleutherAI/gpt-neox-20b 0.5023148148148148\n",
      "accuracies text-davinci-001 0.48148148148148145\n",
      "accuracies text-davinci-002 0.9675925925925926\n",
      "losses EleutherAI/gpt-j-6B 1.3536101162543572\n",
      "losses EleutherAI/gpt-neox-20b 1.1634638377252957\n",
      "losses text-davinci-001 1.687816629922939\n",
      "losses text-davinci-002 0.1085046497381794\n"
     ]
    }
   ],
   "source": [
    "for metric in ['accuracies', 'losses']:\n",
    "    for model_name in model_names[:]:\n",
    "        print(metric, model_name, np.array(metrics[metric][model_name]).mean())"
   ]
  },
  {
   "cell_type": "code",
   "execution_count": 136,
   "id": "26aaa1d4",
   "metadata": {},
   "outputs": [
    {
     "name": "stdout",
     "output_type": "stream",
     "text": [
      "accuracies EleutherAI/gpt-j-6B 0.6203703703703703\n",
      "accuracies EleutherAI/gpt-neox-20b 0.7083333333333334\n",
      "accuracies text-curie-001 0.5879629629629629\n",
      "losses EleutherAI/gpt-j-6B 1.5619440356433054\n",
      "losses EleutherAI/gpt-neox-20b 1.0779137232247094\n",
      "losses text-curie-001 3.1073556870623844\n"
     ]
    }
   ],
   "source": [
    "for metric in ['accuracies', 'losses']:\n",
    "    for model_name in model_names[:]:\n",
    "        print(metric, model_name, np.array(metrics[metric][model_name])[:,:27].mean())"
   ]
  },
  {
   "cell_type": "code",
   "execution_count": null,
   "id": "0cba876d",
   "metadata": {},
   "outputs": [],
   "source": [
    "for metric in ['accuracies', 'losses']:\n",
    "    _ = plt.figure(figsize=(10, 3));\n",
    "    for model_name in model_names[:2]:\n",
    "        plt.plot(np.array(metrics[metric][model_name])[:].mean(0), label=f'{model_name}');\n",
    "    _ = plt.legend();  _ = plt.title(metric); _ = plt.show();"
   ]
  },
  {
   "cell_type": "code",
   "execution_count": 11,
   "id": "60515185",
   "metadata": {},
   "outputs": [],
   "source": [
    "time2prep = {tuple(clock_of_day): 'at', tuple(days_of_week): 'on', tuple(months): 'in'}\n",
    "def lookup_item2str(item, vocab=None):\n",
    "    if vocab[0] in [clock_of_day, days_of_week, months]:\n",
    "        prep = time2prep[tuple(vocab[0])]\n",
    "        return f'{item[1]} came {prep} {item[0]}'\n",
    "    elif vocab[0] == digits:\n",
    "        return f'{item[1]} is {item[0]}'\n",
    "def lookup_query2str(query, vocab=None, rel_name=None):\n",
    "    if vocab[0] in [clock_of_day, days_of_week, months]:\n",
    "        prep = time2prep[tuple(vocab[0])]\n",
    "        prep = {'prev': 'just before', 'next': 'just after', 'same': prep}[rel_name]\n",
    "        return f'Who came {prep} {query}?'\n",
    "    elif vocab[0] == digits:\n",
    "        prep = {'prev': 'a year younger than', 'next': 'a year younger than', 'same': ''}[rel_name]\n",
    "        return f'Who is {prep} {query}'"
   ]
  },
  {
   "cell_type": "code",
   "execution_count": 81,
   "id": "1ed9c29d",
   "metadata": {},
   "outputs": [],
   "source": [
    "text = '''Aaren is a boy. Harlow is a girl.\n",
    "Harlow called Aaren.\n",
    "Harlow: \"Are you a girl?\"\n",
    "Aaren: \"'''\n",
    "model_name = 'EleutherAI/gpt-j-6B'\n",
    "model, tokenizer = models[model_name]\n",
    "input_ids = tokenizer.encode(text, return_tensors='pt')\n",
    "logits = model(input_ids.to(getattr(model, 'device', 'cpu'))).logits"
   ]
  },
  {
   "cell_type": "code",
   "execution_count": 80,
   "id": "6e43fb02",
   "metadata": {},
   "outputs": [
    {
     "data": {
      "text/plain": [
       "{'Yes': 0.35, 'No': 0.226, 'Yeah': 0.078, 'I': 0.078, 'Y': 0.021}"
      ]
     },
     "execution_count": 80,
     "metadata": {},
     "output_type": "execute_result"
    }
   ],
   "source": [
    "show_topk(*logits[0][-1].softmax(-1).topk(5), indices_fn=tokenizer.convert_ids_to_tokens)"
   ]
  },
  {
   "cell_type": "code",
   "execution_count": 75,
   "id": "6c3d4809",
   "metadata": {},
   "outputs": [
    {
     "data": {
      "text/plain": [
       "{'No': 0.824, 'Yes': 0.115, 'I': 0.04, 'What': 0.006, ' No': 0.003}"
      ]
     },
     "execution_count": 75,
     "metadata": {},
     "output_type": "execute_result"
    }
   ],
   "source": [
    "get_prob_dist(logits.top_logprobs[-1], 5)"
   ]
  },
  {
   "cell_type": "code",
   "execution_count": 155,
   "id": "2e5780be",
   "metadata": {},
   "outputs": [
    {
     "data": {
      "text/plain": [
       "[('▁The', 37),\n",
       " ('▁capital', 1784),\n",
       " ('▁of', 13),\n",
       " ('▁Canada', 1894),\n",
       " ('▁is', 19),\n",
       " ('</s>', 1)]"
      ]
     },
     "execution_count": 155,
     "metadata": {},
     "output_type": "execute_result"
    },
    {
     "data": {
      "text/plain": [
       "'Ottawa. It is the largest city in Canada'"
      ]
     },
     "execution_count": 155,
     "metadata": {},
     "output_type": "execute_result"
    }
   ],
   "source": [
    "text = 'The capital of Canada is'\n",
    "input_ids = tokenizer(text, return_tensors='pt').input_ids\n",
    "list(zip(tokenizer.convert_ids_to_tokens(input_ids[0]), input_ids[0].numpy()))\n",
    "outputs = model.generate(input_ids, max_length=10)\n",
    "tokenizer.decode(outputs[0], skip_special_tokens=True)"
   ]
  },
  {
   "cell_type": "code",
   "execution_count": 478,
   "id": "8c9c689c",
   "metadata": {},
   "outputs": [],
   "source": [
    "# nrows = 5; k_shot = nrows // 2 + 1\n",
    "# for pairs in [drop_first_and_last, ]:\n",
    "nrows = 6;  k_shot = 3\n",
    "for pairs in reversible_transformations + irreversible_transformations:\n",
    "    seps = [' -> ', '->'] if random.random() < 0.5 else ['->', ' -> ']\n",
    "    # seps = [' -> ', ' -> ']\n",
    "    samples = ['\\n' + '\\n'.join(a + seps[0] + b for a, b in sample(pairs, nrows)) + '\\n']\n",
    "    for s in samples: data_tuples.append(list(make_data_tuple(s, tokenizer, k_shot=k_shot, bos_token=tokenizer.tokenize(seps[0])[0])))\n",
    "    samples = ['\\n' + '\\n'.join(b + seps[1] + a for a, b in sample(pairs, nrows)) + '\\n' if pairs in reversible_transformations else \n",
    "                '\\n' + '\\n'.join(a + seps[1] + b for a, b in sample(pairs, nrows)) + '\\n']\n",
    "    for s in samples: data_tuples.append(list(make_data_tuple(s, tokenizer, k_shot=k_shot, bos_token=tokenizer.tokenize(seps[1])[0])))"
   ]
  },
  {
   "cell_type": "code",
   "execution_count": null,
   "id": "da2f807e",
   "metadata": {},
   "outputs": [],
   "source": [
    "# # sys.path.insert(0, '/nas/xd/projects/ec')\n",
    "# from child_utils import loadPBETasks, retrieveJSONTasks\n",
    "# challenge, challengeCheating = loadPBETasks('/nas/xd/projects/ec/PBE_Strings_Track')\n",
    "# challenge2, challengeCheating2 = loadPBETasks('/nas/xd/projects/ec/data/sygus')\n",
    "# tasks = retrieveJSONTasks(\"/nas/xd/projects/ec/data/list_tasks.json\")\n",
    "# tasks2 = retrieveJSONTasks(\"/nas/xd/projects/ec/data/list_tasks2.json\")"
   ]
  },
  {
   "cell_type": "code",
   "execution_count": null,
   "id": "e1ff8618",
   "metadata": {},
   "outputs": [],
   "source": [
    "from lxy_utils import get_examples_behind, get_examples_before, get_examples_query_before, \\\n",
    "    get_examples_query_behid, get_examples_query_repeat"
   ]
  },
  {
   "cell_type": "code",
   "execution_count": null,
   "id": "432fcd8a",
   "metadata": {},
   "outputs": [],
   "source": [
    "reversible_transformations = [list(digit2cardinal.items()), noun2adj, lxy, verb_form, country2capital, en2fr, antonyms]\n",
    "irreversible_transformations = [capabilities]"
   ]
  },
  {
   "cell_type": "code",
   "execution_count": null,
   "id": "d59cbab6",
   "metadata": {},
   "outputs": [],
   "source": []
  },
  {
   "cell_type": "code",
   "execution_count": 197,
   "id": "fbc67151",
   "metadata": {},
   "outputs": [
    {
     "name": "stdout",
     "output_type": "stream",
     "text": [
      "EleutherAI/gpt-j-6B ... done 0:00:01\n",
      "* C 0.842 {' C': 0.842, ' A': 0.041, ' B': 0.04} \t D -> C\n",
      "* Thursday 0.778 {' Thursday': 0.778, ' Wednesday': 0.064, ' Friday': 0.063} \t Friday -> Thursday\n",
      "* a 0.742 {' a': 0.742, ' c': 0.051, ' A': 0.036} \t b -> a\n",
      "* four 0.472 {' four': 0.472, ' three': 0.246, ' one': 0.105} \t five -> four\n",
      "tensor(0.3677, grad_fn=<NllLossBackward>) True \n",
      "\n",
      "0.3677041530609131\n"
     ]
    }
   ],
   "source": [
    "losses = []\n",
    "for model_name, (model, tokenizer) in models.items():\n",
    "    if any(model_name.startswith(s) for s in ['gpt2-', 'KoboldAI/fairseq-dense', 'text-davinci-001', ]): continue\n",
    "    if not model_name == 'EleutherAI/gpt-j-6B': continue\n",
    "    if not isinstance(model, types.FunctionType): _ = model.eval()\n",
    "    with Timer(model_name): outputs = model(**inputs)\n",
    "    options_ids_list = [[tokenizer.encode(' ' + option)[0] for option in options] for cxt, query, options, ans in _examples]\n",
    "    mask_logits_fn = partial(mask_logits, indices=bos_indices, kept_ids=options_ids_list)\n",
    "    loss, all_top1_correct = show_predictions(text, examples, tokenizer, outputs.logits, bos_indices, eos_indices, answers, labels,\n",
    "                    mask_logits_fn=None, topk=3, loss_reduction='mean', show_range=range(k_shot, len(examples)), sep='\\t')\n",
    "    print(loss, all_top1_correct, '\\n')\n",
    "    losses.append(loss.item() if hasattr(loss, 'item') else loss)\n",
    "    if model_name == 'EleutherAI/gpt-j-6B': break\n",
    "print(sum(losses) / len(losses))"
   ]
  },
  {
   "cell_type": "code",
   "execution_count": 24,
   "id": "bc90b0db",
   "metadata": {},
   "outputs": [],
   "source": [
    "relational_functions = [prev(), next()]\n",
    "rel_fns = [prevs, nexts]"
   ]
  },
  {
   "cell_type": "markdown",
   "id": "92834550",
   "metadata": {},
   "source": [
    "**TODO: read children books for more posets**  \n",
    "**TODO: Prompt gpt3 to elicit the posets it knows**  \n",
    "$x \\to f(x)$ where $f \\in \\{\\text{prev/next in posets of numbers/letters/months/days, antonym, hypernym, hyponym, ...}\\}$  \n",
    "$x \\to f^2(x)$  \n",
    "one poset or mixed posets  \n",
    "$x, f(x).~y \\to Ff^{[-1]}(y)$ one poset or mixed posets  \n",
    "$x, f^k(x).~y \\to Ff^{[-1]}(y)~/Ff^{[-]k}(y)$  \n",
    "$x, f(f(x))~/f(f(x)), x \\to f(x)$ in between, the simplest form of sequence completion  \n",
    "$x, f(x) \\to Gf$ where $Gf \\in \\{<, >\\}$  \n",
    "$x, f(x); y, g(y) \\to Ff \\stackrel{?}{=} g^{[-1]}$ where $\\text{output} \\in \\{\\text{True}, \\text{False}\\}$  \n",
    "sort\n",
    "\n",
    "There is a *natural* monotone map/functor $F$ between posets/sets $A$ and $B$.  Compose the computation (set operations, sorting etc.) between $A$ and $B$ with $F$ to make harder tasks.  \n",
    "$P(A) ,P(B) \\to F(P(A)) \\setminus ~/ \\cap ~/ \\triangle P(B)$. Harder form of set difference/intersection.  \n",
    "$P(A) \\to F(\\text{sorted}(P(A)))$. Harder form of sorting.\n"
   ]
  },
  {
   "cell_type": "code",
   "execution_count": null,
   "id": "4504ae9b",
   "metadata": {},
   "outputs": [],
   "source": []
  },
  {
   "cell_type": "code",
   "execution_count": 385,
   "id": "17373019",
   "metadata": {},
   "outputs": [
    {
     "name": "stdout",
     "output_type": "stream",
     "text": [
      "Instruction: replace with the other. For example:\n",
      "G H G G G -> H G H H H\n",
      "I I I I M -> M M M M I\n",
      "A A F A A -> F F A F F\n",
      "9 9 9 I I -> I I I 9 9\n",
      "\n",
      "Instruction: replace with the other. For example:\n",
      "V Q Q V V -> Q V V Q Q\n",
      "G L L G L -> L G G L G\n",
      "G 2 2 2 G -> 2 G G G 2\n",
      "I I Z Z Z -> Z Z I I I\n",
      "\n",
      "Instruction: replace with the other. For example:\n",
      "R H H H R -> H R R R H\n",
      "B 9 9 B B -> 9 B B 9 9\n",
      "D 2 2 2 D -> 2 D D D 2\n",
      "A A A A W -> W W W W A\n",
      "\n"
     ]
    }
   ],
   "source": [
    "n_total, n_valid = 192, 64\n",
    "n_train = n_total - n_valid\n",
    "\n",
    "input_strs = [make_input_str(tasks[4], nrows=4, ncols=5) for __ in range(n_total)]\n",
    "for s in sample(input_strs, 3): print(s)"
   ]
  },
  {
   "cell_type": "code",
   "execution_count": 368,
   "id": "f7d6edbc",
   "metadata": {},
   "outputs": [
    {
     "data": {
      "text/plain": [
       "370"
      ]
     },
     "execution_count": 368,
     "metadata": {},
     "output_type": "execute_result"
    }
   ],
   "source": [
    "sum(s.count('Yes') for s in input_strs)"
   ]
  },
  {
   "cell_type": "code",
   "execution_count": 322,
   "id": "e2f80b74",
   "metadata": {},
   "outputs": [],
   "source": [
    "train_dataset = CHILDDataset(input_strs[:-n_valid], tokenizer)\n",
    "eval_dataset = CHILDDataset(input_strs[-n_valid:], tokenizer)"
   ]
  },
  {
   "cell_type": "code",
   "execution_count": 121,
   "id": "3185653b",
   "metadata": {},
   "outputs": [],
   "source": [
    "if n_total == 1:\n",
    "    inputs = tokenizer.encode_plus(text, return_tensors='pt')\n",
    "    inputs = prepare_inputs(inputs, model.device)\n",
    "    outputs = model(**inputs, output_attentions=False)\n",
    "\n",
    "    # assert inputs.input_ids.size(0) == 1\n",
    "    input_ids = inputs.input_ids\n",
    "    logits = outputs.logits\n",
    "\n",
    "    bsz = input_ids.size(0); assert bsz == 1\n",
    "    labels = torch.ones_like(input_ids) * (-100)\n",
    "    for bi in range(bsz):\n",
    "        bos_indices = (input_ids[bi] == bos_id).nonzero().squeeze(1)\n",
    "        eos_indices = (input_ids[bi] == eos_id).nonzero()[-nrows:].squeeze(1)\n",
    "        for i, (example, bos_i, eos_i) in enumerate(zip(examples, bos_indices.tolist(), eos_indices.tolist())):\n",
    "            print(' ' + make_example_str(example))\n",
    "            ans_ids = input_ids[bi, bos_i + 1: eos_i]\n",
    "            if i >= 2: labels[bi, bos_i: eos_i - 1] = ans_ids\n",
    "            ans_prob_dist = logits[bi, bos_i: eos_i - 1].softmax(-1)\n",
    "            ans_probs = ans_prob_dist[torch.arange(ans_prob_dist.size(0)), ans_ids]\n",
    "            ans_tokens = tokenizer.convert_ids_to_tokens(ans_ids)\n",
    "            for ans_id, ans_token, ans_prob, dist in zip(ans_ids, ans_tokens, numpy(ans_probs, decimals=3), ans_prob_dist):\n",
    "                top1_correct = (dist.argmax() == ans_id).item()\n",
    "                print(('*' if top1_correct else ' ') + ans_token, ans_prob, \n",
    "                      show_topk(*dist.topk(5), indices_fn=tokenizer.convert_ids_to_tokens)) \n",
    "    loss = nn.CrossEntropyLoss()(logits.view(-1, logits.size(-1)), labels.view(-1))\n",
    "    loss"
   ]
  },
  {
   "cell_type": "code",
   "execution_count": 329,
   "id": "6ebf074a",
   "metadata": {},
   "outputs": [],
   "source": [
    "training_args = TrainingArguments(output_dir=\"./models/model_name\", \n",
    "    overwrite_output_dir=True, do_train=True, do_eval=True,\n",
    "    per_device_train_batch_size=16, per_device_eval_batch_size=16,\n",
    "    weight_decay=0.01, adam_beta2=0.98, adam_epsilon=1e-6,\n",
    "    lr_scheduler_type='constant', learning_rate=5e-3, num_train_epochs=4,\n",
    "    logging_strategy ='epoch', evaluation_strategy ='epoch', save_steps=0,\n",
    "    no_cuda=True, report_to='none',  # to avoid report to wandb\n",
    ")"
   ]
  },
  {
   "cell_type": "code",
   "execution_count": 330,
   "id": "d89c7d7b",
   "metadata": {},
   "outputs": [],
   "source": [
    "trainer = Trainer(model, training_args, train_dataset=train_dataset, eval_dataset=eval_dataset,\n",
    "                  optimizers=(create_optimizer(model, training_args), None))"
   ]
  },
  {
   "cell_type": "code",
   "execution_count": 333,
   "id": "b37a9874",
   "metadata": {},
   "outputs": [
    {
     "data": {
      "text/plain": [
       "True"
      ]
     },
     "execution_count": 333,
     "metadata": {},
     "output_type": "execute_result"
    }
   ],
   "source": [
    "trainer.place_model_on_device"
   ]
  },
  {
   "cell_type": "code",
   "execution_count": null,
   "id": "9b4b3eca",
   "metadata": {},
   "outputs": [],
   "source": [
    "def get_prev(elem):\n",
    "    i, v = elem\n",
    "    return _l[i - 1] if i > 0 else None\n",
    "\n",
    "false = lambda *_: False\n",
    "true  = lambda *_: True"
   ]
  },
  {
   "cell_type": "code",
   "execution_count": null,
   "id": "721cb66f",
   "metadata": {},
   "outputs": [],
   "source": [
    "Element = namedtuple('Element', 'index value')\n",
    "_l = 'A B C B'.split()\n",
    "n = len(_l)\n",
    "# l = [Element._make(e) for e in enumerate(l)]\n",
    "l = seq(_l)\n",
    "l = l.enumerate().map(Element._make)"
   ]
  },
  {
   "cell_type": "code",
   "execution_count": 6,
   "id": "9f22f664",
   "metadata": {},
   "outputs": [],
   "source": [
    "l.map(lambda x: {'B': 'D'}.get(x, x))\n",
    "\n",
    "l.filter(lambda x: get_prev(x) == 'B').select(_.value)\n",
    "\n",
    "find_fn = _.index == 1\n",
    "l.filter(find_fn).select(_.value).map(lower)\n",
    "\n",
    "find_fn = _.value == 'C'\n",
    "l.filter(find_fn).select(_.index)\n",
    "\n",
    "# move x to first\n",
    "update_filter = _.value == 'C'\n",
    "get_new = lambda x: -1\n",
    "l.map(lambda x: Element(update_fn(x, 'index'), x.value)).order_by(_.index).select(_.value)\n",
    "\n",
    "# swap first and last\n",
    "update_filter = true\n",
    "get_new = lambda x: {0: n - 1, n - 1: 0}.get(x.index, x.index)\n",
    "l.map(lambda x: Element(update_fn(x, 'index'), x.value)).order_by(_.index).select(_.value)\n",
    "\n",
    "# get inbetween == drop_while + take_while?\n",
    "\n",
    "# update by index to its prev\n",
    "update_filter = _.index == 1\n",
    "get_new = lambda x: get_prev(x)\n",
    "def update_fn(x, update_field): return get_new(x) if update_filter(x) else getattr(x, update_field)\n",
    "l.map(lambda x: Element(x.index, update_fn(x, 'value')))\n",
    "\n",
    "# if two adjacent elements by indices are equal\n",
    "l.filter(lambda x: x.index in [0, 1]).select(_.value).distinct().len() == 1\n",
    "\n",
    "seq('A B C B C'.split()).group_by(_).select(_[1]).flatten()\n",
    "\n",
    "# count occurance till current\n",
    "seq('A B A C B A'.split()).inits().reverse().tail().map(lambda x: x.filter(_ == x.last()).len())\n",
    "\n",
    "# find special\n",
    "seq('A B A A'.split()).count_by_value().filter(_[1] == 1).select(_[0])\n",
    "\n",
    "# generalized find special\n",
    "seq('A A B C C D D'.split()).group_by(_).map(lambda x: (x[0], len(x[1]))).filter(_[1] == 1).select(_[0])"
   ]
  }
 ],
 "metadata": {
  "kernelspec": {
   "display_name": "Python 3",
   "language": "python",
   "name": "python3"
  },
  "language_info": {
   "codemirror_mode": {
    "name": "ipython",
    "version": 3
   },
   "file_extension": ".py",
   "mimetype": "text/x-python",
   "name": "python",
   "nbconvert_exporter": "python",
   "pygments_lexer": "ipython3",
   "version": "3.7.11"
  },
  "vscode": {
   "interpreter": {
    "hash": "31f2aee4e71d21fbe5cf8b01ff0e069b9275f58929596ceb00d14d90e3e16cd6"
   }
  }
 },
 "nbformat": 4,
 "nbformat_minor": 5
}
