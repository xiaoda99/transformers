{
 "cells": [
  {
   "cell_type": "code",
   "execution_count": 1,
   "id": "7292808a",
   "metadata": {},
   "outputs": [],
   "source": [
    "from IPython import get_ipython\n",
    "%load_ext autoreload\n",
    "%autoreload 2\n",
    "\n",
    "from IPython.core.interactiveshell import InteractiveShell\n",
    "InteractiveShell.ast_node_interactivity = 'all'  #'last', 'last_expr'"
   ]
  },
  {
   "cell_type": "code",
   "execution_count": 22,
   "id": "0d03e56e",
   "metadata": {},
   "outputs": [],
   "source": [
    "import sys\n",
    "sys.path.insert(0, '/nas/xd/projects/transformers/src')\n",
    "import os\n",
    "os.environ['HF_HOME'] = '/raid3/xd/.cache/torch'  # deliberately set this wrong path to avoid migrating cache\n",
    "os.environ[\"CUDA_DEVICE_ORDER\"]=\"PCI_BUS_ID\"\n",
    "# os.environ[\"CUDA_VISIBLE_DEVICES\"]=\"8,7\"\n",
    "\n",
    "from types import MethodType\n",
    "from tqdm import tqdm\n",
    "from collections import defaultdict, OrderedDict, Counter\n",
    "from datetime import datetime\n",
    "from io import StringIO\n",
    "from dataclasses import dataclass, fields, asdict\n",
    "import itertools\n",
    "from itertools import chain, product\n",
    "import math\n",
    "from functools import reduce, partial\n",
    "from collections.abc import Iterable\n",
    "from collections import namedtuple \n",
    "import traceback\n",
    "import pickle, gzip\n",
    "\n",
    "# from multiprocessing import Pool\n",
    "# from torch.multiprocessing import Pool\n",
    "# torch.multiprocessing.set_start_method('spawn', force=True)\n",
    "from multiprocessing.dummy import Pool\n",
    "\n",
    "%matplotlib inline\n",
    "import matplotlib.pyplot as plt\n",
    "import seaborn as sns\n",
    "\n",
    "import torch\n",
    "import torch.nn as nn\n",
    "import torch.nn.functional as F \n",
    "from torch.utils.data.sampler import RandomSampler, Sampler, SequentialSampler\n",
    "from torch.utils.data.dataloader import DataLoader\n",
    "\n",
    "# from transformers.data.data_collator import DataCollator, default_data_collator\n",
    "from transformers import AutoConfig, AutoModelForCausalLM, AutoTokenizer, GPT2Tokenizer#, pipeline\n",
    "# from transformers import RobertaForMaskedLM, RobertaTokenizer, GPT2LMHeadModel, GPT2Tokenizer, GPTNeoForCausalLM\n",
    "# from transformers import T5Tokenizer, T5TokenizerFast, T5ForConditionalGeneration\n",
    "# from transformers import HfArgumentParser, Trainer, TrainingArguments, set_seed, AdamW"
   ]
  },
  {
   "cell_type": "code",
   "execution_count": 3,
   "id": "49c8f3d0",
   "metadata": {},
   "outputs": [],
   "source": [
    "sys.path.insert(0, '/nas/xd/projects/PyFunctional')\n",
    "from functional import seq\n",
    "from functional.pipeline import Sequence\n",
    "from fn import _ as __"
   ]
  },
  {
   "cell_type": "code",
   "execution_count": 187,
   "id": "58cba5e2",
   "metadata": {},
   "outputs": [
    {
     "name": "stdout",
     "output_type": "stream",
     "text": [
      "common_utils ... done 0:00:00.000057\n",
      "utils ... done 0:00:00.000036\n",
      "child_utils ... done 0:00:00.000109\n",
      "tasks ... done 0:00:00.000047\n",
      "model_utils_wab ... done 0:00:00.000122\n",
      "weight_analysis ... done 0:00:00.000038\n"
     ]
    }
   ],
   "source": [
    "from common_utils import Timer\n",
    "with Timer('common_utils'): from common_utils import *\n",
    "with Timer('utils'): from utils import *\n",
    "with Timer('child_utils'): from child_utils import *\n",
    "from child_utils import _cxt2str, _item2str, _s\n",
    "from child_frames import *\n",
    "with Timer('tasks'): from tasks import *\n",
    "with Timer('model_utils_wab'): from model_utils_wab import *\n",
    "with Timer('weight_analysis'): from weight_analysis import *"
   ]
  },
  {
   "cell_type": "code",
   "execution_count": 10,
   "id": "29bd23f7",
   "metadata": {},
   "outputs": [],
   "source": [
    "torch.set_grad_enabled(False);"
   ]
  },
  {
   "cell_type": "code",
   "execution_count": 11,
   "id": "90f62ac5",
   "metadata": {},
   "outputs": [],
   "source": [
    "models = {}\n",
    "cache_dir = '/nas/xd/.cache/torch/transformers/'  # for models besides t5-3b/11b\n",
    "# cache_dir = '/mnt/nvme1/xd/.cache/torch/transformers/'  # for gpt-j-6B on elderberry\n",
    "proxies = {'http': '192.168.50.1:1081'} "
   ]
  },
  {
   "cell_type": "code",
   "execution_count": 25,
   "id": "a4ab655d",
   "metadata": {},
   "outputs": [
    {
     "name": "stdout",
     "output_type": "stream",
     "text": [
      "gpt2/cpu ... done 0:00:23.558877\n"
     ]
    }
   ],
   "source": [
    "# curl -x http://192.168.50.1:1081 -L -O [-C -] https://huggingface.co/google/ul2/resolve/main/pytorch_model.bin  # -C for 断点续传\n",
    "s2s_model_names = ['','google/t5-xl-lm-adapt', 'google/t5-xxl-lm-adapt', 'bigscience/T0p', 'bigscience/T0_3B', \n",
    "    'allenai/tk-instruct-3b-pos', 'allenai/tk-instruct-3b-def-pos', 'google/ul2']#wab\n",
    "gpt_model_names = ['gpt2/cpu','EleutherAI/gpt-j-6B/cpu', #'EleutherAI/gpt-j-6B',\n",
    "                   'EleutherAI/gpt-neox-20b/cpu', #'EleutherAI/gpt-neox-20b'\n",
    "                  ]#, 'gpt2-xl', 'gpt2']\n",
    "#                    'KoboldAI/fairseq-dense-6.7B', 'KoboldAI/fairseq-dense-13B']\n",
    "for model_name in s2s_model_names[:0] + gpt_model_names[:1]:#, 'gpt2-xl', 'EleutherAI/gpt-neo-1.3B', 'KoboldAI/fairseq-dense-6.7B']:\n",
    "    if model_name in models: continue\n",
    "    with Timer(model_name):\n",
    "        model_cls = AutoModelForCausalLM if any(s in model_name for s in ['gpt', 'fairseq-dense']) else T5ForConditionalGeneration\n",
    "        # _cache_dir = cache_dir.replace('/nas/', '/nas2/') if 'gpt' not in model_name else cache_dir\n",
    "        kwargs = dict(cache_dir=cache_dir, proxies=proxies, low_cpu_mem_usage=True)\n",
    "        if '/cpu' in model_name or 'gpt-j' not in model_name and 'gpt-neox' not in model_name:\n",
    "            model = model_cls.from_pretrained(model_name.replace('/cpu', ''), cache_dir=cache_dir, proxies=proxies)\n",
    "        elif 'gpt-j' in model_name:\n",
    "            device = 0\n",
    "            model = model_cls.from_pretrained(model_name, revision=\"float16\", torch_dtype=torch.float16, **kwargs).to(device)\n",
    "        elif 'gpt-neox' in model_name:\n",
    "            device = 7; device_map = {'gpt_neox': device, 'embed_out': device}\n",
    "            model = model_cls.from_pretrained(model_name, device_map=device_map, load_in_8bit=True, **kwargs)\n",
    "        if hasattr(model.config, 'use_cache'): model.config.use_cache = False  # save GPU mem\n",
    "        # if model_name in ['EleutherAI/gpt-neox-20b']: model = model.half()\n",
    "        tokenizer = AutoTokenizer.from_pretrained(model_name.replace('/cpu', ''), cache_dir=cache_dir)\n",
    "        unify(model)\n",
    "        models[model_name] = model, tokenizer#, device"
   ]
  },
  {
   "cell_type": "code",
   "execution_count": 26,
   "id": "0bc28755",
   "metadata": {},
   "outputs": [],
   "source": [
    "model_name = gpt_model_names[0]\n",
    "# model_name = engines[-1]\n",
    "model, tokenizer = models[model_name]"
   ]
  },
  {
   "cell_type": "code",
   "execution_count": 27,
   "id": "5b77b328",
   "metadata": {},
   "outputs": [],
   "source": [
    "blocks = model.transformer.h\n",
    "for i, b in enumerate(blocks): b.layer = i\n",
    "ln_f = model.transformer.ln_f\n",
    "L, H, embed_dim = len(blocks), blocks[0].attn.num_heads, blocks[0].attn.embed_dim\n",
    "\n",
    "# we = model.transformer.wte.weight.data\n",
    "# wu = model.lm_head.weight.data\n",
    "\n",
    "# es = [we]\n",
    "# for b in blocks[:1]: es.append(es[-1] + mlp_forward(b, es[-1]))\n",
    "# model.es = es\n",
    "# weBTAs = [es[i].T @ es[i] for i in range(2)]\n",
    "# model.weBTAs = weBTAs"
   ]
  },
  {
   "cell_type": "code",
   "execution_count": 29,
   "id": "24fa0786",
   "metadata": {},
   "outputs": [
    {
     "data": {
      "text/plain": [
       "12"
      ]
     },
     "execution_count": 29,
     "metadata": {},
     "output_type": "execute_result"
    }
   ],
   "source": [
    "H"
   ]
  },
  {
   "cell_type": "code",
   "execution_count": null,
   "id": "d6f9e457",
   "metadata": {},
   "outputs": [],
   "source": [
    "# device = torch.device('cuda:7')#wab\n",
    "# _ = clone_model_to(model, device)"
   ]
  },
  {
   "cell_type": "code",
   "execution_count": 24,
   "id": "1fb34c9f",
   "metadata": {},
   "outputs": [
    {
     "ename": "NameError",
     "evalue": "name 'results' is not defined",
     "output_type": "error",
     "traceback": [
      "\u001b[0;31m---------------------------------------------------------------------------\u001b[0m",
      "\u001b[0;31mNameError\u001b[0m                                 Traceback (most recent call last)",
      "\u001b[0;32m<ipython-input-24-33d489d4416a>\u001b[0m in \u001b[0;36m<module>\u001b[0;34m\u001b[0m\n\u001b[1;32m      1\u001b[0m \u001b[0;32mdef\u001b[0m \u001b[0mresult2dict\u001b[0m\u001b[0;34m(\u001b[0m\u001b[0mresult\u001b[0m\u001b[0;34m)\u001b[0m\u001b[0;34m:\u001b[0m \u001b[0;32mreturn\u001b[0m \u001b[0;34m{\u001b[0m\u001b[0mk\u001b[0m\u001b[0;34m:\u001b[0m \u001b[0mv\u001b[0m \u001b[0;32mfor\u001b[0m \u001b[0mk\u001b[0m\u001b[0;34m,\u001b[0m \u001b[0mv\u001b[0m \u001b[0;32min\u001b[0m \u001b[0mresult\u001b[0m\u001b[0;34m.\u001b[0m\u001b[0m__dict__\u001b[0m\u001b[0;34m.\u001b[0m\u001b[0mitems\u001b[0m\u001b[0;34m(\u001b[0m\u001b[0;34m)\u001b[0m \u001b[0;32mif\u001b[0m \u001b[0mk\u001b[0m \u001b[0;32mnot\u001b[0m \u001b[0;32min\u001b[0m \u001b[0;34m[\u001b[0m\u001b[0;34m'task'\u001b[0m\u001b[0;34m,\u001b[0m \u001b[0;34m'data_tuples'\u001b[0m\u001b[0;34m]\u001b[0m\u001b[0;34m}\u001b[0m  \u001b[0;31m#\u001b[0m\u001b[0;34m\u001b[0m\u001b[0;34m\u001b[0m\u001b[0m\n\u001b[1;32m      2\u001b[0m \u001b[0;32mwith\u001b[0m \u001b[0mgzip\u001b[0m\u001b[0;34m.\u001b[0m\u001b[0mopen\u001b[0m\u001b[0;34m(\u001b[0m\u001b[0;34mf'results/results-genders_of_persons-types_of_things.pkl.gz'\u001b[0m\u001b[0;34m,\u001b[0m \u001b[0;34m'wb'\u001b[0m\u001b[0;34m)\u001b[0m \u001b[0;32mas\u001b[0m \u001b[0mf\u001b[0m\u001b[0;34m:\u001b[0m\u001b[0;34m\u001b[0m\u001b[0;34m\u001b[0m\u001b[0m\n\u001b[0;32m----> 3\u001b[0;31m     \u001b[0mpickle\u001b[0m\u001b[0;34m.\u001b[0m\u001b[0mdump\u001b[0m\u001b[0;34m(\u001b[0m\u001b[0;34m{\u001b[0m\u001b[0mk\u001b[0m\u001b[0;34m:\u001b[0m \u001b[0mresult2dict\u001b[0m\u001b[0;34m(\u001b[0m\u001b[0mr\u001b[0m\u001b[0;34m)\u001b[0m \u001b[0;32mfor\u001b[0m \u001b[0mk\u001b[0m\u001b[0;34m,\u001b[0m \u001b[0mr\u001b[0m \u001b[0;32min\u001b[0m \u001b[0mresults\u001b[0m\u001b[0;34m.\u001b[0m\u001b[0mitems\u001b[0m\u001b[0;34m(\u001b[0m\u001b[0;34m)\u001b[0m\u001b[0;34m}\u001b[0m\u001b[0;34m,\u001b[0m \u001b[0mf\u001b[0m\u001b[0;34m)\u001b[0m\u001b[0;34m\u001b[0m\u001b[0;34m\u001b[0m\u001b[0m\n\u001b[0m\u001b[1;32m      4\u001b[0m \u001b[0;31m# with gzip.open(f'results.pkl.gz', 'rb') as f: results = pickle.load(f)\u001b[0m\u001b[0;34m\u001b[0m\u001b[0;34m\u001b[0m\u001b[0;34m\u001b[0m\u001b[0m\n",
      "\u001b[0;31mNameError\u001b[0m: name 'results' is not defined"
     ]
    }
   ],
   "source": [
    "# def result2dict(result): return {k: v for k, v in result.__dict__.items() if k not in ['task', 'data_tuples']}  # \n",
    "# with gzip.open(f'results/results-genders_of_persons-types_of_things.pkl.gz', 'wb') as f:\n",
    "#     pickle.dump({k: result2dict(r) for k, r in results.items()}, f)\n",
    "# with gzip.open(f'results.pkl.gz', 'rb') as f: results = pickle.load(f)"
   ]
  },
  {
   "cell_type": "code",
   "execution_count": 48,
   "id": "f1fa6edc",
   "metadata": {},
   "outputs": [
    {
     "ename": "NameError",
     "evalue": "name 'keys' is not defined",
     "output_type": "error",
     "traceback": [
      "\u001b[0;31m---------------------------------------------------------------------------\u001b[0m",
      "\u001b[0;31mNameError\u001b[0m                                 Traceback (most recent call last)",
      "\u001b[0;32m<ipython-input-48-1596f5d0f668>\u001b[0m in \u001b[0;36m<module>\u001b[0;34m\u001b[0m\n\u001b[0;32m----> 1\u001b[0;31m \u001b[0mres_key\u001b[0m \u001b[0;34m=\u001b[0m \u001b[0mkeys\u001b[0m\u001b[0;34m[\u001b[0m\u001b[0;36m0\u001b[0m\u001b[0;34m]\u001b[0m\u001b[0;34m;\u001b[0m \u001b[0mres_key\u001b[0m\u001b[0;34m\u001b[0m\u001b[0;34m\u001b[0m\u001b[0m\n\u001b[0m\u001b[1;32m      2\u001b[0m \u001b[0mfpath\u001b[0m \u001b[0;34m=\u001b[0m \u001b[0;34mf'results/{res_key}_attn_attrs.npz'\u001b[0m\u001b[0;34m\u001b[0m\u001b[0;34m\u001b[0m\u001b[0m\n\u001b[1;32m      3\u001b[0m \u001b[0mnp\u001b[0m\u001b[0;34m.\u001b[0m\u001b[0msavez_compressed\u001b[0m\u001b[0;34m(\u001b[0m\u001b[0mfpath\u001b[0m\u001b[0;34m,\u001b[0m \u001b[0;34m*\u001b[0m\u001b[0mdump_attn_attrs_to_arrays\u001b[0m\u001b[0;34m(\u001b[0m\u001b[0mroot\u001b[0m\u001b[0;34m,\u001b[0m \u001b[0mresult\u001b[0m\u001b[0;34m.\u001b[0m\u001b[0mdata_tuples\u001b[0m\u001b[0;34m)\u001b[0m\u001b[0;34m)\u001b[0m\u001b[0;34m\u001b[0m\u001b[0;34m\u001b[0m\u001b[0m\n",
      "\u001b[0;31mNameError\u001b[0m: name 'keys' is not defined"
     ]
    }
   ],
   "source": [
    "# res_key = keys[0]; res_key\n",
    "# fpath = f'results/{res_key}_attn_attrs.npz'\n",
    "# np.savez_compressed(fpath, *dump_attn_attrs_to_arrays(root, result.data_tuples))"
   ]
  },
  {
   "cell_type": "code",
   "execution_count": 344,
   "id": "d04901ad",
   "metadata": {},
   "outputs": [],
   "source": [
    "# _root = deepcopy(root)\n",
    "# def fn(node): node.data = asdict(node.data)\n",
    "# traverse_tree(_root, fn, include_dummy=True)\n",
    "# pickle.dump(_root, gzip.open(f'results/{res_key}_tree.pkl.gz', 'wb'))"
   ]
  },
  {
   "cell_type": "code",
   "execution_count": 34,
   "id": "b5110d95",
   "metadata": {},
   "outputs": [
    {
     "name": "stderr",
     "output_type": "stream",
     "text": [
      "/nas/xd/projects/transformers/notebooks/wab/Easy-Transformer/easy_transformer/ioi_dataset.py:770: UserWarning: Some groups have less than 5 prompts, they have lengths [4, 2, 3, 2, 4, 1, 3, 4, 2, 3]\n",
      "  f\"Some groups have less than 5 prompts, they have lengths {small_groups}\"\n"
     ]
    }
   ],
   "source": [
    "sys.path.insert(0, '/nas/xd/projects/transformers/notebooks/wab/Easy-Transformer/easy_transformer')\n",
    "from ioi_dataset import (\n",
    "    IOIDataset,\n",
    ")\n",
    "N = 50\n",
    "tokenizer.pad_token = tokenizer.eos_token\n",
    "ioi_dataset = IOIDataset(\n",
    "    prompt_type=\"mixed\",\n",
    "    N=N,\n",
    "    tokenizer=tokenizer,\n",
    "    prepend_bos=False,\n",
    ") \n"
   ]
  },
  {
   "cell_type": "code",
   "execution_count": 48,
   "id": "c9b93184",
   "metadata": {
    "scrolled": true
   },
   "outputs": [
    {
     "data": {
      "text/plain": [
       "{'prompt_type': 'mixed',\n",
       " 'templates': ['Then, [A] and [B] had a long argument, and afterwards [B] said to [A]',\n",
       "  'Then, [B] and [A] had a long argument, and afterwards [B] said to [A]',\n",
       "  'After [B] and [A] went to the [PLACE], [B] gave a [OBJECT] to [A]',\n",
       "  'Then, [A] and [B] were working at the [PLACE]. [B] decided to give a [OBJECT] to [A]',\n",
       "  'Then, [B] and [A] were thinking about going to the [PLACE]. [B] wanted to give a [OBJECT] to [A]',\n",
       "  'Then, [A] and [B] had a lot of fun at the [PLACE]. [B] gave a [OBJECT] to [A]',\n",
       "  'Then, [B] and [A] were working at the [PLACE]. [B] decided to give a [OBJECT] to [A]',\n",
       "  'Then, [B] and [A] went to the [PLACE]. [B] gave a [OBJECT] to [A]',\n",
       "  'Then, [B] and [A] had a lot of fun at the [PLACE]. [B] gave a [OBJECT] to [A]',\n",
       "  'Then, [A] and [B] went to the [PLACE]. [B] gave a [OBJECT] to [A]',\n",
       "  'When [A] and [B] got a [OBJECT] at the [PLACE], [B] decided to give it to [A]',\n",
       "  'Then, [A] and [B] were thinking about going to the [PLACE]. [B] wanted to give a [OBJECT] to [A]',\n",
       "  'After [A] and [B] went to the [PLACE], [B] gave a [OBJECT] to [A]',\n",
       "  'When [B] and [A] got a [OBJECT] at the [PLACE], [B] decided to give it to [A]'],\n",
       " 'tokenizer': PreTrainedTokenizerFast(name_or_path='gpt2', vocab_size=50257, model_max_len=1024, is_fast=True, padding_side='right', truncation_side='right', special_tokens={'bos_token': '<|endoftext|>', 'eos_token': '<|endoftext|>', 'unk_token': '<|endoftext|>', 'pad_token': '<|endoftext|>'}),\n",
       " 'prefixes': None,\n",
       " 'ioi_prompts': [{'[PLACE]': 'store',\n",
       "   '[OBJECT]': 'necklace',\n",
       "   'text': 'Then, Aaron and Lindsey went to the store. Aaron gave a necklace to Lindsey',\n",
       "   'IO': 'Lindsey',\n",
       "   'S': 'Aaron',\n",
       "   'TEMPLATE_IDX': 7},\n",
       "  {'[PLACE]': 'store',\n",
       "   '[OBJECT]': 'computer',\n",
       "   'text': 'Then, Jason and Robert had a lot of fun at the store. Jason gave a computer to Robert',\n",
       "   'IO': 'Robert',\n",
       "   'S': 'Jason',\n",
       "   'TEMPLATE_IDX': 8},\n",
       "  {'[PLACE]': 'office',\n",
       "   '[OBJECT]': 'necklace',\n",
       "   'text': 'Then, William and Stephanie had a long argument, and afterwards William said to Stephanie',\n",
       "   'IO': 'Stephanie',\n",
       "   'S': 'William',\n",
       "   'TEMPLATE_IDX': 1},\n",
       "  {'[PLACE]': 'garden',\n",
       "   '[OBJECT]': 'bone',\n",
       "   'text': 'When Christopher and Christina got a bone at the garden, Christopher decided to give it to Christina',\n",
       "   'IO': 'Christina',\n",
       "   'S': 'Christopher',\n",
       "   'TEMPLATE_IDX': 13},\n",
       "  {'[PLACE]': 'hospital',\n",
       "   '[OBJECT]': 'snack',\n",
       "   'text': 'Then, Lindsey and Tyler had a long argument, and afterwards Tyler said to Lindsey',\n",
       "   'IO': 'Lindsey',\n",
       "   'S': 'Tyler',\n",
       "   'TEMPLATE_IDX': 0},\n",
       "  {'[PLACE]': 'hospital',\n",
       "   '[OBJECT]': 'computer',\n",
       "   'text': 'Then, Daniel and Gregory went to the hospital. Daniel gave a computer to Gregory',\n",
       "   'IO': 'Gregory',\n",
       "   'S': 'Daniel',\n",
       "   'TEMPLATE_IDX': 7},\n",
       "  {'[PLACE]': 'station',\n",
       "   '[OBJECT]': 'computer',\n",
       "   'text': 'Then, Benjamin and Kevin went to the station. Benjamin gave a computer to Kevin',\n",
       "   'IO': 'Kevin',\n",
       "   'S': 'Benjamin',\n",
       "   'TEMPLATE_IDX': 7},\n",
       "  {'[PLACE]': 'house',\n",
       "   '[OBJECT]': 'kiss',\n",
       "   'text': 'Then, Tiffany and Robert were working at the house. Tiffany decided to give a kiss to Robert',\n",
       "   'IO': 'Robert',\n",
       "   'S': 'Tiffany',\n",
       "   'TEMPLATE_IDX': 6},\n",
       "  {'[PLACE]': 'store',\n",
       "   '[OBJECT]': 'bone',\n",
       "   'text': 'After Erin and Bryan went to the store, Erin gave a bone to Bryan',\n",
       "   'IO': 'Bryan',\n",
       "   'S': 'Erin',\n",
       "   'TEMPLATE_IDX': 2},\n",
       "  {'[PLACE]': 'school',\n",
       "   '[OBJECT]': 'drink',\n",
       "   'text': 'After Andrea and Steven went to the school, Andrea gave a drink to Steven',\n",
       "   'IO': 'Steven',\n",
       "   'S': 'Andrea',\n",
       "   'TEMPLATE_IDX': 2},\n",
       "  {'[PLACE]': 'school',\n",
       "   '[OBJECT]': 'drink',\n",
       "   'text': 'Then, Timothy and Brian went to the school. Timothy gave a drink to Brian',\n",
       "   'IO': 'Brian',\n",
       "   'S': 'Timothy',\n",
       "   'TEMPLATE_IDX': 7},\n",
       "  {'[PLACE]': 'station',\n",
       "   '[OBJECT]': 'drink',\n",
       "   'text': 'Then, Sean and Bryan were working at the station. Bryan decided to give a drink to Sean',\n",
       "   'IO': 'Sean',\n",
       "   'S': 'Bryan',\n",
       "   'TEMPLATE_IDX': 3},\n",
       "  {'[PLACE]': 'store',\n",
       "   '[OBJECT]': 'snack',\n",
       "   'text': 'Then, Richard and Mark went to the store. Mark gave a snack to Richard',\n",
       "   'IO': 'Richard',\n",
       "   'S': 'Mark',\n",
       "   'TEMPLATE_IDX': 9},\n",
       "  {'[PLACE]': 'restaurant',\n",
       "   '[OBJECT]': 'snack',\n",
       "   'text': 'When Tiffany and Lindsay got a snack at the restaurant, Tiffany decided to give it to Lindsay',\n",
       "   'IO': 'Lindsay',\n",
       "   'S': 'Tiffany',\n",
       "   'TEMPLATE_IDX': 13},\n",
       "  {'[PLACE]': 'garden',\n",
       "   '[OBJECT]': 'kiss',\n",
       "   'text': 'When Jamie and Adam got a kiss at the garden, Jamie decided to give it to Adam',\n",
       "   'IO': 'Adam',\n",
       "   'S': 'Jamie',\n",
       "   'TEMPLATE_IDX': 13},\n",
       "  {'[PLACE]': 'house',\n",
       "   '[OBJECT]': 'snack',\n",
       "   'text': 'Then, Daniel and Lindsey had a long argument, and afterwards Lindsey said to Daniel',\n",
       "   'IO': 'Daniel',\n",
       "   'S': 'Lindsey',\n",
       "   'TEMPLATE_IDX': 0},\n",
       "  {'[PLACE]': 'school',\n",
       "   '[OBJECT]': 'drink',\n",
       "   'text': 'Then, Sarah and Nicholas had a lot of fun at the school. Nicholas gave a drink to Sarah',\n",
       "   'IO': 'Sarah',\n",
       "   'S': 'Nicholas',\n",
       "   'TEMPLATE_IDX': 5},\n",
       "  {'[PLACE]': 'school',\n",
       "   '[OBJECT]': 'ring',\n",
       "   'text': 'After Katie and Cody went to the school, Katie gave a ring to Cody',\n",
       "   'IO': 'Cody',\n",
       "   'S': 'Katie',\n",
       "   'TEMPLATE_IDX': 2},\n",
       "  {'[PLACE]': 'garden',\n",
       "   '[OBJECT]': 'snack',\n",
       "   'text': 'Then, Joshua and Brittany were working at the garden. Brittany decided to give a snack to Joshua',\n",
       "   'IO': 'Joshua',\n",
       "   'S': 'Brittany',\n",
       "   'TEMPLATE_IDX': 3},\n",
       "  {'[PLACE]': 'station',\n",
       "   '[OBJECT]': 'bone',\n",
       "   'text': 'Then, Kelly and Bradley had a long argument, and afterwards Bradley said to Kelly',\n",
       "   'IO': 'Kelly',\n",
       "   'S': 'Bradley',\n",
       "   'TEMPLATE_IDX': 0},\n",
       "  {'[PLACE]': 'garden',\n",
       "   '[OBJECT]': 'necklace',\n",
       "   'text': 'When Justin and Brandon got a necklace at the garden, Brandon decided to give it to Justin',\n",
       "   'IO': 'Justin',\n",
       "   'S': 'Brandon',\n",
       "   'TEMPLATE_IDX': 10},\n",
       "  {'[PLACE]': 'garden',\n",
       "   '[OBJECT]': 'kiss',\n",
       "   'text': 'After Stephanie and Jesse went to the garden, Stephanie gave a kiss to Jesse',\n",
       "   'IO': 'Jesse',\n",
       "   'S': 'Stephanie',\n",
       "   'TEMPLATE_IDX': 2},\n",
       "  {'[PLACE]': 'garden',\n",
       "   '[OBJECT]': 'basketball',\n",
       "   'text': 'Then, Eric and Andrew were thinking about going to the garden. Eric wanted to give a basketball to Andrew',\n",
       "   'IO': 'Andrew',\n",
       "   'S': 'Eric',\n",
       "   'TEMPLATE_IDX': 4},\n",
       "  {'[PLACE]': 'garden',\n",
       "   '[OBJECT]': 'basketball',\n",
       "   'text': 'Then, Jennifer and Crystal went to the garden. Crystal gave a basketball to Jennifer',\n",
       "   'IO': 'Jennifer',\n",
       "   'S': 'Crystal',\n",
       "   'TEMPLATE_IDX': 9},\n",
       "  {'[PLACE]': 'office',\n",
       "   '[OBJECT]': 'bone',\n",
       "   'text': 'Then, Kyle and Samantha were working at the office. Samantha decided to give a bone to Kyle',\n",
       "   'IO': 'Kyle',\n",
       "   'S': 'Samantha',\n",
       "   'TEMPLATE_IDX': 3},\n",
       "  {'[PLACE]': 'school',\n",
       "   '[OBJECT]': 'basketball',\n",
       "   'text': 'Then, Ryan and Christine had a long argument, and afterwards Ryan said to Christine',\n",
       "   'IO': 'Christine',\n",
       "   'S': 'Ryan',\n",
       "   'TEMPLATE_IDX': 1},\n",
       "  {'[PLACE]': 'garden',\n",
       "   '[OBJECT]': 'ring',\n",
       "   'text': 'When Kristen and James got a ring at the garden, Kristen decided to give it to James',\n",
       "   'IO': 'James',\n",
       "   'S': 'Kristen',\n",
       "   'TEMPLATE_IDX': 13},\n",
       "  {'[PLACE]': 'school',\n",
       "   '[OBJECT]': 'necklace',\n",
       "   'text': 'Then, Mary and Kimberly were thinking about going to the school. Mary wanted to give a necklace to Kimberly',\n",
       "   'IO': 'Kimberly',\n",
       "   'S': 'Mary',\n",
       "   'TEMPLATE_IDX': 4},\n",
       "  {'[PLACE]': 'office',\n",
       "   '[OBJECT]': 'bone',\n",
       "   'text': 'Then, Benjamin and Amy were thinking about going to the office. Benjamin wanted to give a bone to Amy',\n",
       "   'IO': 'Amy',\n",
       "   'S': 'Benjamin',\n",
       "   'TEMPLATE_IDX': 4},\n",
       "  {'[PLACE]': 'hospital',\n",
       "   '[OBJECT]': 'drink',\n",
       "   'text': 'When Nicole and Elizabeth got a drink at the hospital, Nicole decided to give it to Elizabeth',\n",
       "   'IO': 'Elizabeth',\n",
       "   'S': 'Nicole',\n",
       "   'TEMPLATE_IDX': 13},\n",
       "  {'[PLACE]': 'hospital',\n",
       "   '[OBJECT]': 'basketball',\n",
       "   'text': 'Then, Charles and Megan had a lot of fun at the hospital. Megan gave a basketball to Charles',\n",
       "   'IO': 'Charles',\n",
       "   'S': 'Megan',\n",
       "   'TEMPLATE_IDX': 5},\n",
       "  {'[PLACE]': 'hospital',\n",
       "   '[OBJECT]': 'necklace',\n",
       "   'text': 'When Steven and Tiffany got a necklace at the hospital, Tiffany decided to give it to Steven',\n",
       "   'IO': 'Steven',\n",
       "   'S': 'Tiffany',\n",
       "   'TEMPLATE_IDX': 10},\n",
       "  {'[PLACE]': 'garden',\n",
       "   '[OBJECT]': 'bone',\n",
       "   'text': 'When Brittany and Aaron got a bone at the garden, Aaron decided to give it to Brittany',\n",
       "   'IO': 'Brittany',\n",
       "   'S': 'Aaron',\n",
       "   'TEMPLATE_IDX': 10},\n",
       "  {'[PLACE]': 'store',\n",
       "   '[OBJECT]': 'basketball',\n",
       "   'text': 'After Allison and Michael went to the store, Michael gave a basketball to Allison',\n",
       "   'IO': 'Allison',\n",
       "   'S': 'Michael',\n",
       "   'TEMPLATE_IDX': 12},\n",
       "  {'[PLACE]': 'garden',\n",
       "   '[OBJECT]': 'drink',\n",
       "   'text': 'Then, Mark and Paul had a lot of fun at the garden. Paul gave a drink to Mark',\n",
       "   'IO': 'Mark',\n",
       "   'S': 'Paul',\n",
       "   'TEMPLATE_IDX': 5},\n",
       "  {'[PLACE]': 'office',\n",
       "   '[OBJECT]': 'computer',\n",
       "   'text': 'When Allison and Jason got a computer at the office, Allison decided to give it to Jason',\n",
       "   'IO': 'Jason',\n",
       "   'S': 'Allison',\n",
       "   'TEMPLATE_IDX': 13},\n",
       "  {'[PLACE]': 'store',\n",
       "   '[OBJECT]': 'drink',\n",
       "   'text': 'Then, James and Allison had a lot of fun at the store. Allison gave a drink to James',\n",
       "   'IO': 'James',\n",
       "   'S': 'Allison',\n",
       "   'TEMPLATE_IDX': 5},\n",
       "  {'[PLACE]': 'hospital',\n",
       "   '[OBJECT]': 'kiss',\n",
       "   'text': 'When Anthony and Lindsay got a kiss at the hospital, Lindsay decided to give it to Anthony',\n",
       "   'IO': 'Anthony',\n",
       "   'S': 'Lindsay',\n",
       "   'TEMPLATE_IDX': 10},\n",
       "  {'[PLACE]': 'store',\n",
       "   '[OBJECT]': 'computer',\n",
       "   'text': 'Then, Amanda and Jeremy were thinking about going to the store. Jeremy wanted to give a computer to Amanda',\n",
       "   'IO': 'Amanda',\n",
       "   'S': 'Jeremy',\n",
       "   'TEMPLATE_IDX': 11},\n",
       "  {'[PLACE]': 'hospital',\n",
       "   '[OBJECT]': 'computer',\n",
       "   'text': 'Then, Michael and Megan had a long argument, and afterwards Megan said to Michael',\n",
       "   'IO': 'Michael',\n",
       "   'S': 'Megan',\n",
       "   'TEMPLATE_IDX': 0},\n",
       "  {'[PLACE]': 'garden',\n",
       "   '[OBJECT]': 'necklace',\n",
       "   'text': 'Then, Nicholas and Jason were working at the garden. Nicholas decided to give a necklace to Jason',\n",
       "   'IO': 'Jason',\n",
       "   'S': 'Nicholas',\n",
       "   'TEMPLATE_IDX': 6},\n",
       "  {'[PLACE]': 'garden',\n",
       "   '[OBJECT]': 'necklace',\n",
       "   'text': 'After Timothy and Kristen went to the garden, Timothy gave a necklace to Kristen',\n",
       "   'IO': 'Kristen',\n",
       "   'S': 'Timothy',\n",
       "   'TEMPLATE_IDX': 2},\n",
       "  {'[PLACE]': 'garden',\n",
       "   '[OBJECT]': 'ring',\n",
       "   'text': 'Then, Anthony and Jonathan had a lot of fun at the garden. Jonathan gave a ring to Anthony',\n",
       "   'IO': 'Anthony',\n",
       "   'S': 'Jonathan',\n",
       "   'TEMPLATE_IDX': 5},\n",
       "  {'[PLACE]': 'hospital',\n",
       "   '[OBJECT]': 'basketball',\n",
       "   'text': 'After Adam and Erin went to the hospital, Erin gave a basketball to Adam',\n",
       "   'IO': 'Adam',\n",
       "   'S': 'Erin',\n",
       "   'TEMPLATE_IDX': 12},\n",
       "  {'[PLACE]': 'store',\n",
       "   '[OBJECT]': 'kiss',\n",
       "   'text': 'Then, David and Brandon were working at the store. Brandon decided to give a kiss to David',\n",
       "   'IO': 'David',\n",
       "   'S': 'Brandon',\n",
       "   'TEMPLATE_IDX': 3},\n",
       "  {'[PLACE]': 'office',\n",
       "   '[OBJECT]': 'ring',\n",
       "   'text': 'After Laura and Jamie went to the office, Laura gave a ring to Jamie',\n",
       "   'IO': 'Jamie',\n",
       "   'S': 'Laura',\n",
       "   'TEMPLATE_IDX': 2},\n",
       "  {'[PLACE]': 'garden',\n",
       "   '[OBJECT]': 'kiss',\n",
       "   'text': 'Then, Jose and Andrew went to the garden. Andrew gave a kiss to Jose',\n",
       "   'IO': 'Jose',\n",
       "   'S': 'Andrew',\n",
       "   'TEMPLATE_IDX': 9},\n",
       "  {'[PLACE]': 'house',\n",
       "   '[OBJECT]': 'necklace',\n",
       "   'text': 'Then, Jamie and Alicia were thinking about going to the house. Alicia wanted to give a necklace to Jamie',\n",
       "   'IO': 'Jamie',\n",
       "   'S': 'Alicia',\n",
       "   'TEMPLATE_IDX': 11},\n",
       "  {'[PLACE]': 'store',\n",
       "   '[OBJECT]': 'kiss',\n",
       "   'text': 'After Jose and Sara went to the store, Sara gave a kiss to Jose',\n",
       "   'IO': 'Jose',\n",
       "   'S': 'Sara',\n",
       "   'TEMPLATE_IDX': 12},\n",
       "  {'[PLACE]': 'garden',\n",
       "   '[OBJECT]': 'necklace',\n",
       "   'text': 'Then, Adam and Erin were working at the garden. Erin decided to give a necklace to Adam',\n",
       "   'IO': 'Adam',\n",
       "   'S': 'Erin',\n",
       "   'TEMPLATE_IDX': 3}],\n",
       " 'groups': [array([ 4, 15, 19, 39]),\n",
       "  array([ 2, 25]),\n",
       "  array([ 8,  9, 17, 21, 41, 45]),\n",
       "  array([11, 18, 24, 44, 49]),\n",
       "  array([22, 27, 28]),\n",
       "  array([16, 30, 34, 36, 42]),\n",
       "  array([ 7, 40]),\n",
       "  array([ 0,  5,  6, 10]),\n",
       "  array([1]),\n",
       "  array([12, 23, 46]),\n",
       "  array([20, 31, 32, 37]),\n",
       "  array([38, 47]),\n",
       "  array([33, 43, 48]),\n",
       "  array([ 3, 13, 14, 26, 29, 35])],\n",
       " 'sentences': ['Then, Aaron and Lindsey went to the store. Aaron gave a necklace to Lindsey',\n",
       "  'Then, Jason and Robert had a lot of fun at the store. Jason gave a computer to Robert',\n",
       "  'Then, William and Stephanie had a long argument, and afterwards William said to Stephanie',\n",
       "  'When Christopher and Christina got a bone at the garden, Christopher decided to give it to Christina',\n",
       "  'Then, Lindsey and Tyler had a long argument, and afterwards Tyler said to Lindsey',\n",
       "  'Then, Daniel and Gregory went to the hospital. Daniel gave a computer to Gregory',\n",
       "  'Then, Benjamin and Kevin went to the station. Benjamin gave a computer to Kevin',\n",
       "  'Then, Tiffany and Robert were working at the house. Tiffany decided to give a kiss to Robert',\n",
       "  'After Erin and Bryan went to the store, Erin gave a bone to Bryan',\n",
       "  'After Andrea and Steven went to the school, Andrea gave a drink to Steven',\n",
       "  'Then, Timothy and Brian went to the school. Timothy gave a drink to Brian',\n",
       "  'Then, Sean and Bryan were working at the station. Bryan decided to give a drink to Sean',\n",
       "  'Then, Richard and Mark went to the store. Mark gave a snack to Richard',\n",
       "  'When Tiffany and Lindsay got a snack at the restaurant, Tiffany decided to give it to Lindsay',\n",
       "  'When Jamie and Adam got a kiss at the garden, Jamie decided to give it to Adam',\n",
       "  'Then, Daniel and Lindsey had a long argument, and afterwards Lindsey said to Daniel',\n",
       "  'Then, Sarah and Nicholas had a lot of fun at the school. Nicholas gave a drink to Sarah',\n",
       "  'After Katie and Cody went to the school, Katie gave a ring to Cody',\n",
       "  'Then, Joshua and Brittany were working at the garden. Brittany decided to give a snack to Joshua',\n",
       "  'Then, Kelly and Bradley had a long argument, and afterwards Bradley said to Kelly',\n",
       "  'When Justin and Brandon got a necklace at the garden, Brandon decided to give it to Justin',\n",
       "  'After Stephanie and Jesse went to the garden, Stephanie gave a kiss to Jesse',\n",
       "  'Then, Eric and Andrew were thinking about going to the garden. Eric wanted to give a basketball to Andrew',\n",
       "  'Then, Jennifer and Crystal went to the garden. Crystal gave a basketball to Jennifer',\n",
       "  'Then, Kyle and Samantha were working at the office. Samantha decided to give a bone to Kyle',\n",
       "  'Then, Ryan and Christine had a long argument, and afterwards Ryan said to Christine',\n",
       "  'When Kristen and James got a ring at the garden, Kristen decided to give it to James',\n",
       "  'Then, Mary and Kimberly were thinking about going to the school. Mary wanted to give a necklace to Kimberly',\n",
       "  'Then, Benjamin and Amy were thinking about going to the office. Benjamin wanted to give a bone to Amy',\n",
       "  'When Nicole and Elizabeth got a drink at the hospital, Nicole decided to give it to Elizabeth',\n",
       "  'Then, Charles and Megan had a lot of fun at the hospital. Megan gave a basketball to Charles',\n",
       "  'When Steven and Tiffany got a necklace at the hospital, Tiffany decided to give it to Steven',\n",
       "  'When Brittany and Aaron got a bone at the garden, Aaron decided to give it to Brittany',\n",
       "  'After Allison and Michael went to the store, Michael gave a basketball to Allison',\n",
       "  'Then, Mark and Paul had a lot of fun at the garden. Paul gave a drink to Mark',\n",
       "  'When Allison and Jason got a computer at the office, Allison decided to give it to Jason',\n",
       "  'Then, James and Allison had a lot of fun at the store. Allison gave a drink to James',\n",
       "  'When Anthony and Lindsay got a kiss at the hospital, Lindsay decided to give it to Anthony',\n",
       "  'Then, Amanda and Jeremy were thinking about going to the store. Jeremy wanted to give a computer to Amanda',\n",
       "  'Then, Michael and Megan had a long argument, and afterwards Megan said to Michael',\n",
       "  'Then, Nicholas and Jason were working at the garden. Nicholas decided to give a necklace to Jason',\n",
       "  'After Timothy and Kristen went to the garden, Timothy gave a necklace to Kristen',\n",
       "  'Then, Anthony and Jonathan had a lot of fun at the garden. Jonathan gave a ring to Anthony',\n",
       "  'After Adam and Erin went to the hospital, Erin gave a basketball to Adam',\n",
       "  'Then, David and Brandon were working at the store. Brandon decided to give a kiss to David',\n",
       "  'After Laura and Jamie went to the office, Laura gave a ring to Jamie',\n",
       "  'Then, Jose and Andrew went to the garden. Andrew gave a kiss to Jose',\n",
       "  'Then, Jamie and Alicia were thinking about going to the house. Alicia wanted to give a necklace to Jamie',\n",
       "  'After Jose and Sara went to the store, Sara gave a kiss to Jose',\n",
       "  'Then, Adam and Erin were working at the garden. Erin decided to give a necklace to Adam'],\n",
       " 'templates_by_prompt': ['BABA',\n",
       "  'BABA',\n",
       "  'BABA',\n",
       "  'BABA',\n",
       "  'ABBA',\n",
       "  'BABA',\n",
       "  'BABA',\n",
       "  'BABA',\n",
       "  'BABA',\n",
       "  'BABA',\n",
       "  'BABA',\n",
       "  'ABBA',\n",
       "  'ABBA',\n",
       "  'BABA',\n",
       "  'BABA',\n",
       "  'ABBA',\n",
       "  'ABBA',\n",
       "  'BABA',\n",
       "  'ABBA',\n",
       "  'ABBA',\n",
       "  'ABBA',\n",
       "  'BABA',\n",
       "  'BABA',\n",
       "  'ABBA',\n",
       "  'ABBA',\n",
       "  'BABA',\n",
       "  'BABA',\n",
       "  'BABA',\n",
       "  'BABA',\n",
       "  'BABA',\n",
       "  'ABBA',\n",
       "  'ABBA',\n",
       "  'ABBA',\n",
       "  'ABBA',\n",
       "  'ABBA',\n",
       "  'BABA',\n",
       "  'ABBA',\n",
       "  'ABBA',\n",
       "  'ABBA',\n",
       "  'ABBA',\n",
       "  'BABA',\n",
       "  'BABA',\n",
       "  'ABBA',\n",
       "  'ABBA',\n",
       "  'ABBA',\n",
       "  'BABA',\n",
       "  'ABBA',\n",
       "  'ABBA',\n",
       "  'ABBA',\n",
       "  'ABBA'],\n",
       " 'toks': tensor([[ 6423,    11, 12139,  ..., 50256, 50256, 50256],\n",
       "         [ 6423,    11,  8982,  ...,   284,  5199, 50256],\n",
       "         [ 6423,    11,  3977,  ..., 50256, 50256, 50256],\n",
       "         ...,\n",
       "         [ 6423,    11, 17826,  ..., 38987,   284, 17826],\n",
       "         [ 3260,  5264,   290,  ..., 50256, 50256, 50256],\n",
       "         [ 6423,    11,  7244,  ...,  7244, 50256, 50256]], dtype=torch.int32),\n",
       " 'word_idx': {'IO': tensor([4, 4, 4, 3, 2, 4, 4, 4, 3, 3, 4, 2, 2, 3, 3, 2, 2, 3, 2, 2, 1, 3, 4, 2,\n",
       "          2, 4, 3, 4, 4, 3, 2, 1, 1, 1, 2, 3, 2, 1, 2, 2, 4, 3, 2, 1, 2, 3, 2, 2,\n",
       "          1, 2]),\n",
       "  'IO-1': tensor([3, 3, 3, 2, 1, 3, 3, 3, 2, 2, 3, 1, 1, 2, 2, 1, 1, 2, 1, 1, 0, 2, 3, 1,\n",
       "          1, 3, 2, 3, 3, 2, 1, 0, 0, 0, 1, 2, 1, 0, 1, 1, 3, 2, 1, 0, 1, 2, 1, 1,\n",
       "          0, 1]),\n",
       "  'IO+1': tensor([5, 5, 5, 4, 3, 5, 5, 5, 4, 4, 5, 3, 3, 4, 4, 3, 3, 4, 3, 3, 2, 4, 5, 3,\n",
       "          3, 5, 4, 5, 5, 4, 3, 2, 2, 2, 3, 4, 3, 2, 3, 3, 5, 4, 3, 2, 3, 4, 3, 3,\n",
       "          2, 3]),\n",
       "  'S': tensor([2, 2, 2, 1, 4, 2, 2, 2, 1, 1, 2, 4, 4, 1, 1, 4, 4, 1, 4, 4, 3, 1, 2, 4,\n",
       "          4, 2, 1, 2, 2, 1, 4, 3, 3, 3, 4, 1, 4, 3, 4, 4, 2, 1, 4, 3, 4, 1, 4, 4,\n",
       "          3, 4]),\n",
       "  'S-1': tensor([1, 1, 1, 0, 3, 1, 1, 1, 0, 0, 1, 3, 3, 0, 0, 3, 3, 0, 3, 3, 2, 0, 1, 3,\n",
       "          3, 1, 0, 1, 1, 0, 3, 2, 2, 2, 3, 0, 3, 2, 3, 3, 1, 0, 3, 2, 3, 0, 3, 3,\n",
       "          2, 3]),\n",
       "  'S+1': tensor([3, 3, 3, 2, 5, 3, 3, 3, 2, 2, 3, 5, 5, 2, 2, 5, 5, 2, 5, 5, 4, 2, 3, 5,\n",
       "          5, 3, 2, 3, 3, 2, 5, 4, 4, 4, 5, 2, 5, 4, 5, 5, 3, 2, 5, 4, 5, 2, 5, 5,\n",
       "          4, 5]),\n",
       "  'S2': tensor([10, 14, 12, 11, 12, 10, 10, 11,  9,  9, 10, 11, 10, 11, 11, 12, 14,  9,\n",
       "          11, 12, 11,  9, 13, 10, 11, 12, 11, 13, 13, 11, 14, 11, 11,  9, 14, 11,\n",
       "          14, 11, 13, 12, 11,  9, 14,  9, 11,  9, 10, 13,  9, 11]),\n",
       "  'end': tensor([14, 18, 14, 16, 14, 14, 14, 17, 13, 13, 14, 17, 14, 16, 16, 14, 18, 13,\n",
       "          17, 14, 16, 13, 19, 14, 17, 14, 16, 19, 19, 16, 18, 16, 16, 13, 18, 16,\n",
       "          18, 16, 19, 14, 17, 13, 18, 13, 17, 13, 14, 19, 13, 17]),\n",
       "  'starts': tensor([0, 0, 0, 0, 0, 0, 0, 0, 0, 0, 0, 0, 0, 0, 0, 0, 0, 0, 0, 0, 0, 0, 0, 0,\n",
       "          0, 0, 0, 0, 0, 0, 0, 0, 0, 0, 0, 0, 0, 0, 0, 0, 0, 0, 0, 0, 0, 0, 0, 0,\n",
       "          0, 0]),\n",
       "  'punct': tensor([ 9, 13,  9, 10,  9,  9,  9, 10,  8,  8,  9, 10,  9, 10, 10,  9, 13,  8,\n",
       "          10,  9, 10,  8, 12,  9, 10,  9, 10, 12, 12, 10, 13, 10, 10,  8, 13, 10,\n",
       "          13, 10, 12,  9, 10,  8, 13,  8, 10,  8,  9, 12,  8, 10])},\n",
       " 'prepend_bos': False,\n",
       " 'sem_tok_idx': {'IO': tensor([4, 4, 4, 3, 2, 4, 4, 4, 3, 3, 4, 2, 2, 3, 3, 2, 2, 3, 2, 2, 1, 3, 4, 2,\n",
       "          2, 4, 3, 4, 4, 3, 2, 1, 1, 1, 2, 3, 2, 1, 2, 2, 4, 3, 2, 1, 2, 3, 2, 2,\n",
       "          1, 2]),\n",
       "  'S': tensor([2, 2, 2, 1, 4, 2, 2, 2, 1, 1, 2, 4, 4, 1, 1, 4, 4, 1, 4, 4, 3, 1, 2, 4,\n",
       "          4, 2, 1, 2, 2, 1, 4, 3, 3, 3, 4, 1, 4, 3, 4, 4, 2, 1, 4, 3, 4, 1, 4, 4,\n",
       "          3, 4]),\n",
       "  'S+1': tensor([3, 3, 3, 2, 5, 3, 3, 3, 2, 2, 3, 5, 5, 2, 2, 5, 5, 2, 5, 5, 4, 2, 3, 5,\n",
       "          5, 3, 2, 3, 3, 2, 5, 4, 4, 4, 5, 2, 5, 4, 5, 5, 3, 2, 5, 4, 5, 2, 5, 5,\n",
       "          4, 5]),\n",
       "  'S2': tensor([10, 14, 12, 11, 12, 10, 10, 11,  9,  9, 10, 11, 10, 11, 11, 12, 14,  9,\n",
       "          11, 12, 11,  9, 13, 10, 11, 12, 11, 13, 13, 11, 14, 11, 11,  9, 14, 11,\n",
       "          14, 11, 13, 12, 11,  9, 14,  9, 11,  9, 10, 13,  9, 11]),\n",
       "  'end': tensor([14, 18, 14, 16, 14, 14, 14, 17, 13, 13, 14, 17, 14, 16, 16, 14, 18, 13,\n",
       "          17, 14, 16, 13, 19, 14, 17, 14, 16, 19, 19, 16, 18, 16, 16, 13, 18, 16,\n",
       "          18, 16, 19, 14, 17, 13, 18, 13, 17, 13, 14, 19, 13, 17])},\n",
       " 'N': 50,\n",
       " 'max_len': 21,\n",
       " 'io_tokenIDs': [30334,\n",
       "  5199,\n",
       "  26085,\n",
       "  33673,\n",
       "  30334,\n",
       "  20653,\n",
       "  7939,\n",
       "  5199,\n",
       "  17857,\n",
       "  8239,\n",
       "  8403,\n",
       "  11465,\n",
       "  6219,\n",
       "  33127,\n",
       "  7244,\n",
       "  7806,\n",
       "  10490,\n",
       "  27035,\n",
       "  20700,\n",
       "  9077,\n",
       "  10799,\n",
       "  18033,\n",
       "  6858,\n",
       "  16348,\n",
       "  14316,\n",
       "  26088,\n",
       "  3700,\n",
       "  48685,\n",
       "  14235,\n",
       "  10674,\n",
       "  7516,\n",
       "  8239,\n",
       "  48773,\n",
       "  33461,\n",
       "  2940,\n",
       "  8982,\n",
       "  3700,\n",
       "  9953,\n",
       "  23040,\n",
       "  3899,\n",
       "  8982,\n",
       "  44467,\n",
       "  9953,\n",
       "  7244,\n",
       "  3271,\n",
       "  17826,\n",
       "  5264,\n",
       "  17826,\n",
       "  5264,\n",
       "  7244],\n",
       " 's_tokenIDs': [12139,\n",
       "  8982,\n",
       "  3977,\n",
       "  12803,\n",
       "  14886,\n",
       "  7806,\n",
       "  14533,\n",
       "  40928,\n",
       "  28894,\n",
       "  23174,\n",
       "  22283,\n",
       "  17857,\n",
       "  2940,\n",
       "  40928,\n",
       "  17826,\n",
       "  30334,\n",
       "  20320,\n",
       "  24721,\n",
       "  48773,\n",
       "  16182,\n",
       "  14328,\n",
       "  26085,\n",
       "  7651,\n",
       "  12969,\n",
       "  34778,\n",
       "  6047,\n",
       "  44467,\n",
       "  5335,\n",
       "  14533,\n",
       "  25176,\n",
       "  27616,\n",
       "  40928,\n",
       "  12139,\n",
       "  3899,\n",
       "  3362,\n",
       "  33461,\n",
       "  33461,\n",
       "  33127,\n",
       "  11753,\n",
       "  27616,\n",
       "  20320,\n",
       "  22283,\n",
       "  11232,\n",
       "  28894,\n",
       "  14328,\n",
       "  16753,\n",
       "  6858,\n",
       "  39607,\n",
       "  24799,\n",
       "  28894],\n",
       " 'tokenized_prompts': ['Then|,| Aaron| and| Lindsey| went| to| the| store|.| Aaron| gave| a| necklace| to| Lindsey|<|endoftext|>|<|endoftext|>|<|endoftext|>|<|endoftext|>|<|endoftext|>',\n",
       "  'Then|,| Jason| and| Robert| had| a| lot| of| fun| at| the| store|.| Jason| gave| a| computer| to| Robert|<|endoftext|>',\n",
       "  'Then|,| William| and| Stephanie| had| a| long| argument|,| and| afterwards| William| said| to| Stephanie|<|endoftext|>|<|endoftext|>|<|endoftext|>|<|endoftext|>|<|endoftext|>',\n",
       "  'When| Christopher| and| Christina| got| a| bone| at| the| garden|,| Christopher| decided| to| give| it| to| Christina|<|endoftext|>|<|endoftext|>|<|endoftext|>',\n",
       "  'Then|,| Lindsey| and| Tyler| had| a| long| argument|,| and| afterwards| Tyler| said| to| Lindsey|<|endoftext|>|<|endoftext|>|<|endoftext|>|<|endoftext|>|<|endoftext|>',\n",
       "  'Then|,| Daniel| and| Gregory| went| to| the| hospital|.| Daniel| gave| a| computer| to| Gregory|<|endoftext|>|<|endoftext|>|<|endoftext|>|<|endoftext|>|<|endoftext|>',\n",
       "  'Then|,| Benjamin| and| Kevin| went| to| the| station|.| Benjamin| gave| a| computer| to| Kevin|<|endoftext|>|<|endoftext|>|<|endoftext|>|<|endoftext|>|<|endoftext|>',\n",
       "  'Then|,| Tiffany| and| Robert| were| working| at| the| house|.| Tiffany| decided| to| give| a| kiss| to| Robert|<|endoftext|>|<|endoftext|>',\n",
       "  'After| Erin| and| Bryan| went| to| the| store|,| Erin| gave| a| bone| to| Bryan|<|endoftext|>|<|endoftext|>|<|endoftext|>|<|endoftext|>|<|endoftext|>|<|endoftext|>',\n",
       "  'After| Andrea| and| Steven| went| to| the| school|,| Andrea| gave| a| drink| to| Steven|<|endoftext|>|<|endoftext|>|<|endoftext|>|<|endoftext|>|<|endoftext|>|<|endoftext|>',\n",
       "  'Then|,| Timothy| and| Brian| went| to| the| school|.| Timothy| gave| a| drink| to| Brian|<|endoftext|>|<|endoftext|>|<|endoftext|>|<|endoftext|>|<|endoftext|>',\n",
       "  'Then|,| Sean| and| Bryan| were| working| at| the| station|.| Bryan| decided| to| give| a| drink| to| Sean|<|endoftext|>|<|endoftext|>',\n",
       "  'Then|,| Richard| and| Mark| went| to| the| store|.| Mark| gave| a| snack| to| Richard|<|endoftext|>|<|endoftext|>|<|endoftext|>|<|endoftext|>|<|endoftext|>',\n",
       "  'When| Tiffany| and| Lindsay| got| a| snack| at| the| restaurant|,| Tiffany| decided| to| give| it| to| Lindsay|<|endoftext|>|<|endoftext|>|<|endoftext|>',\n",
       "  'When| Jamie| and| Adam| got| a| kiss| at| the| garden|,| Jamie| decided| to| give| it| to| Adam|<|endoftext|>|<|endoftext|>|<|endoftext|>',\n",
       "  'Then|,| Daniel| and| Lindsey| had| a| long| argument|,| and| afterwards| Lindsey| said| to| Daniel|<|endoftext|>|<|endoftext|>|<|endoftext|>|<|endoftext|>|<|endoftext|>',\n",
       "  'Then|,| Sarah| and| Nicholas| had| a| lot| of| fun| at| the| school|.| Nicholas| gave| a| drink| to| Sarah|<|endoftext|>',\n",
       "  'After| Katie| and| Cody| went| to| the| school|,| Katie| gave| a| ring| to| Cody|<|endoftext|>|<|endoftext|>|<|endoftext|>|<|endoftext|>|<|endoftext|>|<|endoftext|>',\n",
       "  'Then|,| Joshua| and| Brittany| were| working| at| the| garden|.| Brittany| decided| to| give| a| snack| to| Joshua|<|endoftext|>|<|endoftext|>',\n",
       "  'Then|,| Kelly| and| Bradley| had| a| long| argument|,| and| afterwards| Bradley| said| to| Kelly|<|endoftext|>|<|endoftext|>|<|endoftext|>|<|endoftext|>|<|endoftext|>',\n",
       "  'When| Justin| and| Brandon| got| a| necklace| at| the| garden|,| Brandon| decided| to| give| it| to| Justin|<|endoftext|>|<|endoftext|>|<|endoftext|>',\n",
       "  'After| Stephanie| and| Jesse| went| to| the| garden|,| Stephanie| gave| a| kiss| to| Jesse|<|endoftext|>|<|endoftext|>|<|endoftext|>|<|endoftext|>|<|endoftext|>|<|endoftext|>',\n",
       "  'Then|,| Eric| and| Andrew| were| thinking| about| going| to| the| garden|.| Eric| wanted| to| give| a| basketball| to| Andrew',\n",
       "  'Then|,| Jennifer| and| Crystal| went| to| the| garden|.| Crystal| gave| a| basketball| to| Jennifer|<|endoftext|>|<|endoftext|>|<|endoftext|>|<|endoftext|>|<|endoftext|>',\n",
       "  'Then|,| Kyle| and| Samantha| were| working| at| the| office|.| Samantha| decided| to| give| a| bone| to| Kyle|<|endoftext|>|<|endoftext|>',\n",
       "  'Then|,| Ryan| and| Christine| had| a| long| argument|,| and| afterwards| Ryan| said| to| Christine|<|endoftext|>|<|endoftext|>|<|endoftext|>|<|endoftext|>|<|endoftext|>',\n",
       "  'When| Kristen| and| James| got| a| ring| at| the| garden|,| Kristen| decided| to| give| it| to| James|<|endoftext|>|<|endoftext|>|<|endoftext|>',\n",
       "  'Then|,| Mary| and| Kimberly| were| thinking| about| going| to| the| school|.| Mary| wanted| to| give| a| necklace| to| Kimberly',\n",
       "  'Then|,| Benjamin| and| Amy| were| thinking| about| going| to| the| office|.| Benjamin| wanted| to| give| a| bone| to| Amy',\n",
       "  'When| Nicole| and| Elizabeth| got| a| drink| at| the| hospital|,| Nicole| decided| to| give| it| to| Elizabeth|<|endoftext|>|<|endoftext|>|<|endoftext|>',\n",
       "  'Then|,| Charles| and| Megan| had| a| lot| of| fun| at| the| hospital|.| Megan| gave| a| basketball| to| Charles|<|endoftext|>',\n",
       "  'When| Steven| and| Tiffany| got| a| necklace| at| the| hospital|,| Tiffany| decided| to| give| it| to| Steven|<|endoftext|>|<|endoftext|>|<|endoftext|>',\n",
       "  'When| Brittany| and| Aaron| got| a| bone| at| the| garden|,| Aaron| decided| to| give| it| to| Brittany|<|endoftext|>|<|endoftext|>|<|endoftext|>',\n",
       "  'After| Allison| and| Michael| went| to| the| store|,| Michael| gave| a| basketball| to| Allison|<|endoftext|>|<|endoftext|>|<|endoftext|>|<|endoftext|>|<|endoftext|>|<|endoftext|>',\n",
       "  'Then|,| Mark| and| Paul| had| a| lot| of| fun| at| the| garden|.| Paul| gave| a| drink| to| Mark|<|endoftext|>',\n",
       "  'When| Allison| and| Jason| got| a| computer| at| the| office|,| Allison| decided| to| give| it| to| Jason|<|endoftext|>|<|endoftext|>|<|endoftext|>',\n",
       "  'Then|,| James| and| Allison| had| a| lot| of| fun| at| the| store|.| Allison| gave| a| drink| to| James|<|endoftext|>',\n",
       "  'When| Anthony| and| Lindsay| got| a| kiss| at| the| hospital|,| Lindsay| decided| to| give| it| to| Anthony|<|endoftext|>|<|endoftext|>|<|endoftext|>',\n",
       "  'Then|,| Amanda| and| Jeremy| were| thinking| about| going| to| the| store|.| Jeremy| wanted| to| give| a| computer| to| Amanda',\n",
       "  'Then|,| Michael| and| Megan| had| a| long| argument|,| and| afterwards| Megan| said| to| Michael|<|endoftext|>|<|endoftext|>|<|endoftext|>|<|endoftext|>|<|endoftext|>',\n",
       "  'Then|,| Nicholas| and| Jason| were| working| at| the| garden|.| Nicholas| decided| to| give| a| necklace| to| Jason|<|endoftext|>|<|endoftext|>',\n",
       "  'After| Timothy| and| Kristen| went| to| the| garden|,| Timothy| gave| a| necklace| to| Kristen|<|endoftext|>|<|endoftext|>|<|endoftext|>|<|endoftext|>|<|endoftext|>|<|endoftext|>',\n",
       "  'Then|,| Anthony| and| Jonathan| had| a| lot| of| fun| at| the| garden|.| Jonathan| gave| a| ring| to| Anthony|<|endoftext|>',\n",
       "  'After| Adam| and| Erin| went| to| the| hospital|,| Erin| gave| a| basketball| to| Adam|<|endoftext|>|<|endoftext|>|<|endoftext|>|<|endoftext|>|<|endoftext|>|<|endoftext|>',\n",
       "  'Then|,| David| and| Brandon| were| working| at| the| store|.| Brandon| decided| to| give| a| kiss| to| David|<|endoftext|>|<|endoftext|>',\n",
       "  'After| Laura| and| Jamie| went| to| the| office|,| Laura| gave| a| ring| to| Jamie|<|endoftext|>|<|endoftext|>|<|endoftext|>|<|endoftext|>|<|endoftext|>|<|endoftext|>',\n",
       "  'Then|,| Jose| and| Andrew| went| to| the| garden|.| Andrew| gave| a| kiss| to| Jose|<|endoftext|>|<|endoftext|>|<|endoftext|>|<|endoftext|>|<|endoftext|>',\n",
       "  'Then|,| Jamie| and| Alicia| were| thinking| about| going| to| the| house|.| Alicia| wanted| to| give| a| necklace| to| Jamie',\n",
       "  'After| Jose| and| Sara| went| to| the| store|,| Sara| gave| a| kiss| to| Jose|<|endoftext|>|<|endoftext|>|<|endoftext|>|<|endoftext|>|<|endoftext|>|<|endoftext|>',\n",
       "  'Then|,| Adam| and| Erin| were| working| at| the| garden|.| Erin| decided| to| give| a| necklace| to| Adam|<|endoftext|>|<|endoftext|>']}"
      ]
     },
     "execution_count": 48,
     "metadata": {},
     "output_type": "execute_result"
    }
   ],
   "source": [
    "vars(ioi_dataset)"
   ]
  },
  {
   "cell_type": "code",
   "execution_count": 259,
   "id": "809d62f4",
   "metadata": {},
   "outputs": [
    {
     "data": {
      "text/plain": [
       "{'IO': tensor([4, 4, 4, 3, 2, 4, 4, 4, 3, 3, 4, 2, 2, 3, 3, 2, 2, 3, 2, 2, 1, 3, 4, 2,\n",
       "         2, 4, 3, 4, 4, 3, 2, 1, 1, 1, 2, 3, 2, 1, 2, 2, 4, 3, 2, 1, 2, 3, 2, 2,\n",
       "         1, 2]),\n",
       " 'IO-1': tensor([3, 3, 3, 2, 1, 3, 3, 3, 2, 2, 3, 1, 1, 2, 2, 1, 1, 2, 1, 1, 0, 2, 3, 1,\n",
       "         1, 3, 2, 3, 3, 2, 1, 0, 0, 0, 1, 2, 1, 0, 1, 1, 3, 2, 1, 0, 1, 2, 1, 1,\n",
       "         0, 1]),\n",
       " 'IO+1': tensor([5, 5, 5, 4, 3, 5, 5, 5, 4, 4, 5, 3, 3, 4, 4, 3, 3, 4, 3, 3, 2, 4, 5, 3,\n",
       "         3, 5, 4, 5, 5, 4, 3, 2, 2, 2, 3, 4, 3, 2, 3, 3, 5, 4, 3, 2, 3, 4, 3, 3,\n",
       "         2, 3]),\n",
       " 'S': tensor([2, 2, 2, 1, 4, 2, 2, 2, 1, 1, 2, 4, 4, 1, 1, 4, 4, 1, 4, 4, 3, 1, 2, 4,\n",
       "         4, 2, 1, 2, 2, 1, 4, 3, 3, 3, 4, 1, 4, 3, 4, 4, 2, 1, 4, 3, 4, 1, 4, 4,\n",
       "         3, 4]),\n",
       " 'S-1': tensor([1, 1, 1, 0, 3, 1, 1, 1, 0, 0, 1, 3, 3, 0, 0, 3, 3, 0, 3, 3, 2, 0, 1, 3,\n",
       "         3, 1, 0, 1, 1, 0, 3, 2, 2, 2, 3, 0, 3, 2, 3, 3, 1, 0, 3, 2, 3, 0, 3, 3,\n",
       "         2, 3]),\n",
       " 'S+1': tensor([3, 3, 3, 2, 5, 3, 3, 3, 2, 2, 3, 5, 5, 2, 2, 5, 5, 2, 5, 5, 4, 2, 3, 5,\n",
       "         5, 3, 2, 3, 3, 2, 5, 4, 4, 4, 5, 2, 5, 4, 5, 5, 3, 2, 5, 4, 5, 2, 5, 5,\n",
       "         4, 5]),\n",
       " 'S2': tensor([10, 14, 12, 11, 12, 10, 10, 11,  9,  9, 10, 11, 10, 11, 11, 12, 14,  9,\n",
       "         11, 12, 11,  9, 13, 10, 11, 12, 11, 13, 13, 11, 14, 11, 11,  9, 14, 11,\n",
       "         14, 11, 13, 12, 11,  9, 14,  9, 11,  9, 10, 13,  9, 11]),\n",
       " 'end': tensor([14, 18, 14, 16, 14, 14, 14, 17, 13, 13, 14, 17, 14, 16, 16, 14, 18, 13,\n",
       "         17, 14, 16, 13, 19, 14, 17, 14, 16, 19, 19, 16, 18, 16, 16, 13, 18, 16,\n",
       "         18, 16, 19, 14, 17, 13, 18, 13, 17, 13, 14, 19, 13, 17]),\n",
       " 'starts': tensor([0, 0, 0, 0, 0, 0, 0, 0, 0, 0, 0, 0, 0, 0, 0, 0, 0, 0, 0, 0, 0, 0, 0, 0,\n",
       "         0, 0, 0, 0, 0, 0, 0, 0, 0, 0, 0, 0, 0, 0, 0, 0, 0, 0, 0, 0, 0, 0, 0, 0,\n",
       "         0, 0]),\n",
       " 'punct': tensor([ 9, 13,  9, 10,  9,  9,  9, 10,  8,  8,  9, 10,  9, 10, 10,  9, 13,  8,\n",
       "         10,  9, 10,  8, 12,  9, 10,  9, 10, 12, 12, 10, 13, 10, 10,  8, 13, 10,\n",
       "         13, 10, 12,  9, 10,  8, 13,  8, 10,  8,  9, 12,  8, 10])}"
      ]
     },
     "execution_count": 259,
     "metadata": {},
     "output_type": "execute_result"
    }
   ],
   "source": [
    "ioi_dataset.word_idx"
   ]
  },
  {
   "cell_type": "code",
   "execution_count": 177,
   "id": "ea015eb5",
   "metadata": {
    "scrolled": true
   },
   "outputs": [
    {
     "data": {
      "text/plain": [
       "'Then, Aaron and Lindsey went to the store. Aaron gave a necklace to Lindsey\\nThen, Jason and Robert had a lot of fun at the store. Jason gave a computer to Robert\\nThen, William and Stephanie had a long argument, and afterwards William said to Stephanie\\nWhen Christopher and Christina got a bone at the garden, Christopher decided to give it to Christina\\nThen, Lindsey and Tyler had a long argument, and afterwards Tyler said to Lindsey\\nThen, Daniel and Gregory went to the hospital. Daniel gave a computer to Gregory\\nThen, Benjamin and Kevin went to the station. Benjamin gave a computer to Kevin\\nThen, Tiffany and Robert were working at the house. Tiffany decided to give a kiss to Robert\\nAfter Erin and Bryan went to the store, Erin gave a bone to Bryan\\nAfter Andrea and Steven went to the school, Andrea gave a drink to Steven'"
      ]
     },
     "execution_count": 177,
     "metadata": {},
     "output_type": "execute_result"
    }
   ],
   "source": [
    "'\\n'.join(ioi_dataset.sentences[0:10])"
   ]
  },
  {
   "cell_type": "code",
   "execution_count": 152,
   "id": "147f40bd",
   "metadata": {},
   "outputs": [
    {
     "data": {
      "text/plain": [
       "'Then, Aaron and Lindsey went to the store. Aaron gave a necklace to Lindsey'"
      ]
     },
     "execution_count": 152,
     "metadata": {},
     "output_type": "execute_result"
    }
   ],
   "source": [
    "ioi_dataset.sentences[0]"
   ]
  },
  {
   "cell_type": "code",
   "execution_count": null,
   "id": "ce16417c",
   "metadata": {},
   "outputs": [],
   "source": [
    "ioi_dataset.end"
   ]
  },
  {
   "cell_type": "code",
   "execution_count": 160,
   "id": "77563002",
   "metadata": {},
   "outputs": [
    {
     "data": {
      "text/plain": [
       "50"
      ]
     },
     "execution_count": 160,
     "metadata": {},
     "output_type": "execute_result"
    }
   ],
   "source": [
    "i = ioi_dataset.toks"
   ]
  },
  {
   "cell_type": "code",
   "execution_count": 162,
   "id": "fa5f0087",
   "metadata": {},
   "outputs": [],
   "source": [
    "ans = []\n",
    "for i in range(5):\n",
    "    ans.append(ioi_dataset.toks[i*10:(i+1)*10])"
   ]
  },
  {
   "cell_type": "code",
   "execution_count": 173,
   "id": "5fa061dd",
   "metadata": {},
   "outputs": [
    {
     "data": {
      "text/plain": [
       "tensor([ 6423,    11, 12139,   290, 30334,  1816,   284,   262,  3650,    13,\n",
       "        12139,  2921,   257, 38987,   284, 30334, 50256, 50256, 50256, 50256,\n",
       "        50256], dtype=torch.int32)"
      ]
     },
     "execution_count": 173,
     "metadata": {},
     "output_type": "execute_result"
    }
   ],
   "source": [
    "ioi_dataset.toks[0]"
   ]
  },
  {
   "cell_type": "code",
   "execution_count": 201,
   "id": "f2ac5754",
   "metadata": {},
   "outputs": [
    {
     "data": {
      "text/plain": [
       "30334"
      ]
     },
     "execution_count": 201,
     "metadata": {},
     "output_type": "execute_result"
    }
   ],
   "source": [
    "tokenizer.encode(ioi_dataset.sentences[0]+'\\n')[-2]"
   ]
  },
  {
   "cell_type": "code",
   "execution_count": 135,
   "id": "b0f1aac0",
   "metadata": {},
   "outputs": [
    {
     "data": {
      "text/plain": [
       "tensor([14, 18, 14, 16, 14, 14, 14, 17, 13, 13, 14, 17, 14, 16, 16, 14, 18, 13,\n",
       "        17, 14, 16, 13, 19, 14, 17, 14, 16, 19, 19, 16, 18, 16, 16, 13, 18, 16,\n",
       "        18, 16, 19, 14, 17, 13, 18, 13, 17, 13, 14, 19, 13, 17])"
      ]
     },
     "execution_count": 135,
     "metadata": {},
     "output_type": "execute_result"
    }
   ],
   "source": [
    "ioi_dataset.word_idx['end']"
   ]
  },
  {
   "cell_type": "code",
   "execution_count": 52,
   "id": "706055f1",
   "metadata": {},
   "outputs": [],
   "source": [
    "tasks = [\n",
    "    (lambda: [TreeSet(genders_of_persons).use('equal'), TreeSet(types_of_things).use('equal')], MlM_gen,\n",
    "     partial(_cxt2str, item2str=lambda i, _: [f\"{i[0]} has {wrap_noun(i[1])}\", f\"The {i[1]} is {i[0]}'s\"]), lambda q, _: f'{q}', \" likes\"\n",
    "    ),\n",
    "#     (lambda: [TreeSet(types_of_characters).use('child'), TreeSet(types_of_things).use('child')], partial(MlM_gen, cxt_sample_fn=enumerate_sample, query=1),\n",
    "#      partial(_cxt2str, item2str=lambda i, _: [f\"{i[0]} has {i[1]}\", f\"{the_(i[1])} is {i[0]}'s\"]), lambda q, _: f\"{q}\", \" likes\"\n",
    "#     ),\n",
    "    (lambda: [TreeSet(genders_of_persons).use('child'), TreeSet(types_of_things).use('child')], MlM_gen,\n",
    "     partial(_cxt2str, item2str=lambda i, _: [f\"{i[0]} has {i[1]}\", f\"{the_(i[1])} is {i[0]}'s\"]), lambda q, _: f\"{q}\", \" likes\"\n",
    "    ), # t: 21-5, 15-8, 19. p: 16-7, 18-5, [3-12, 13-7]. p+: 16-7, 16-0. 13-7:induction head qk, thing->type ov\n",
    "    (lambda: [TreeSet(genders_of_persons).use('equal'), TreeSet(countries_of_cities).use('equal')], MlM_gen,\n",
    "     partial(_cxt2str, item2str=lambda i, _: [f'{i[0]} likes {i[1]}', f'{i[1]} attracts {i[0]}']), lambda q, _: f'{q} wants to go', ' to'\n",
    "    ), # t: 19-12 >> 16-10 = 12-7\n",
    "    (lambda: [TreeSet(genders_of_persons).use('equal'), TreeSet(countries_of_cities).use('child')], MlM_gen,\n",
    "     partial(_cxt2str, item2str=lambda i, _: [f'{i[0]} likes {i[1]}', f'{i[1]} attracts {i[0]}']), lambda q, _: f'{q} wants to go', ' to'\n",
    "    ), # t: 19-12 >> 16-10 = 12-7\n",
    "#     (lambda: [TreeSet(genders_of_persons).use('equal'), TreeSet(capabilities_of_things).use('equal')], MlM_gen,\n",
    "#      partial(_cxt2str, item2str=lambda i, _: [f\"{i[0]} has {wrap_noun(i[1])}\", f\"The {i[1]} is {i[0]}'s\"]), lambda q, _: f'{q} likes', ' the'\n",
    "#     ),\n",
    "#     (lambda: [TreeSet(genders_of_persons).use('equal'), TreeSet(capabilities_of_things).use('child')], MlM_gen,\n",
    "#      partial(_cxt2str, item2str=lambda i, _: [f\"{i[0]} has {wrap_noun(i[1])}\", f\"The {i[1]} is {i[0]}'s\"]), lambda q, _: f'{q}', ' can'\n",
    "#     ),\n",
    "#     (lambda: [TreeSet(genders_of_persons).use('equal'), SymSet(person_adjs).use('equal')], MlM_gen,\n",
    "#      partial(_cxt2str, item2str=lambda i, _: [f\"{i[0]} is {i[1]}\", f\"{i[1].capitalize()} is {i[0]}\"]), lambda q, _: f\"Yes, {q} looks\", \" like\"\n",
    "#     ),\n",
    "#     (lambda: [TreeSet(genders_of_persons).use('equal'), SymSet(person_adjs).use('opposite')], MlM_gen,\n",
    "#      partial(_cxt2str, item2str=lambda i, _: [f\"{i[0]} is {i[1]}\", f\"{i[1].capitalize()} is {i[0]}\"]), lambda q, _: f\"Um, {q} looks\", \" like\"\n",
    "#     ), # t: 16-14, somewhat 14-7 # verbose acc: gpj-j > curie-001 > davinci-001 > gpt-neox!? abstract acc: gpt-neox > gpt-j. all poor (inc. davinci-002!)\n",
    "#     (lambda: [TreeSet(genders_of_persons).use('equal'), PoSet(temporal_posets).use('equal')], MlM_gen,\n",
    "#      partial(_cxt2str, item2str=lambda i, _: [f'{i[0]} arrived {wrap_noun2(i[1])}', f'{wrap_noun2(i[1]).capitalize()} arrived {i[0]}']), lambda q, _: f\"So {q}'s arrival time\", ' is'\n",
    "#     ),\n",
    "#     (lambda: [TreeSet(genders_of_persons).use('equal'), PoSet(temporal_posets).use('prev')], MlM_gen,\n",
    "#      partial(_cxt2str, item2str=lambda i, _: [f'{i[0]} arrived {wrap_noun2(i[1])}', f'{wrap_noun2(i[1]).capitalize()} arrived {i[0]}']), lambda q, _: f'So {q} arrived just', ' after'\n",
    "#     ),\n",
    "#     (lambda: [TreeSet(genders_of_persons).use('equal'), PoSet(temporal_posets).use('next')], MlM_gen,\n",
    "#      partial(_cxt2str, item2str=lambda i, _: [f'{i[0]} arrived {wrap_noun2(i[1])}', f'{wrap_noun2(i[1]).capitalize()} arrived {i[0]}']), lambda q, _: f'So {q} arrived just', ' before'\n",
    "#     ),\n",
    "]"
   ]
  },
  {
   "cell_type": "code",
   "execution_count": 54,
   "id": "5fa410df",
   "metadata": {},
   "outputs": [
    {
     "data": {
      "text/plain": [
       "[(<function __main__.<lambda>()>,\n",
       "  <function child_utils.MlM_gen(vocabs, cxt_len=3, cxt_sample_fn=None, query=None)>,\n",
       "  functools.partial(<function _cxt2str at 0x7f5f6aa3cdd0>, item2str=<function <lambda> at 0x7f6015d9c170>),\n",
       "  <function __main__.<lambda>(q, _)>,\n",
       "  ' likes')]"
      ]
     },
     "execution_count": 54,
     "metadata": {},
     "output_type": "execute_result"
    }
   ],
   "source": [
    "tasks[1:2][:2]"
   ]
  },
  {
   "cell_type": "code",
   "execution_count": 48,
   "id": "d140cd24",
   "metadata": {
    "scrolled": true
   },
   "outputs": [
    {
     "data": {
      "text/plain": [
       "odict_keys(['', '22-40 attn/candidates', '17-28 attn/candidates', '19-1 attn/candidates', '26-57 attn/candidates', '23-54 attn/candidates', '22-40 attn/candidates > 15-38', '22-40 attn/candidates > 14-39', '22-40 attn/candidates > 10-52', '17-28 attn/candidates > 15-38', '17-28 attn/candidates > 14-39', '17-28 attn/candidates > 11-50', '17-28 attn/candidates > 11-35', '17-28 attn/candidates > 14-30', '17-28 attn/candidates > 15-0', '19-1 attn/candidates > 14-39', '19-1 attn/candidates > 15-0', '22-40 attn/candidates > 19-29', '22-40 attn/candidates > 11-m', '22-40 attn/candidates > 21-60'])"
      ]
     },
     "execution_count": 48,
     "metadata": {},
     "output_type": "execute_result"
    }
   ],
   "source": [
    "r.data_tuples[0][-1].attn_attr.keys()"
   ]
  },
  {
   "cell_type": "code",
   "execution_count": 45,
   "id": "fe39a194",
   "metadata": {},
   "outputs": [
    {
     "data": {
      "text/plain": [
       "'@5 22-40 69 B->A0 99/78 attn'"
      ]
     },
     "execution_count": 45,
     "metadata": {},
     "output_type": "execute_result"
    }
   ],
   "source": [
    "node = r.root.children[10]#.children[1]\n",
    "node.name"
   ]
  },
  {
   "cell_type": "code",
   "execution_count": null,
   "id": "911c2df7",
   "metadata": {
    "scrolled": false
   },
   "outputs": [],
   "source": [
    "plot_attn_attrs(r.data_tuples[:], model, tokenizer, node, topi=[3,4,6], attn_patterns=['B->B'], k_shot=k_shot, mix=True)"
   ]
  },
  {
   "cell_type": "code",
   "execution_count": 199,
   "id": "7dc50c55",
   "metadata": {},
   "outputs": [
    {
     "name": "stdout",
     "output_type": "stream",
     "text": [
      "35 (0.5464575067162514, 0.8194444444444444)\n",
      "36 (0.45821835473179817, 0.8333333333333334)\n",
      "37 (0.3822524305433035, 0.8888888888888888)\n",
      "38 (0.3553805500268936, 0.8888888888888888)\n",
      "39 (0.3521486185491085, 0.9027777777777778)\n",
      "40 (0.3169629741460085, 0.875)\n",
      "41 (0.327828467823565, 0.8472222222222222)\n",
      "42 (0.33170338813215494, 0.875)\n",
      "43 (0.34491169452667236, 0.8888888888888888)\n"
     ]
    }
   ],
   "source": [
    "for l in range(35, L): print(l, show_predictions_by_data_tuples(model, tokenizer, r.data_tuples, k_shot, to_layer=l, verbose=False))"
   ]
  },
  {
   "cell_type": "code",
   "execution_count": 182,
   "id": "4b113734",
   "metadata": {},
   "outputs": [],
   "source": [
    "results = {}"
   ]
  },
  {
   "cell_type": "code",
   "execution_count": 56,
   "id": "064e94d9",
   "metadata": {},
   "outputs": [],
   "source": [
    "# key = 'MlM_gen[genders_of_persons.TreeSet.equal,types_of_things.TreeSet.equal][cxt_len=3,rev_item2str]' # 18-5  11-4,13-11 B->A0+ 10-11?\n",
    "key = 'MlM_gen[genders_of_persons.TreeSet.equal,types_of_things.TreeSet.equal][cxt_len=3]'\n",
    "# key = 'MlM_gen[cxt_sample_fn=enumerate_sample,query=1][types_of_characters.TreeSet.equal,types_of_characters.TreeSet.equal][cxt_len=3,abstract]'"
   ]
  },
  {
   "cell_type": "code",
   "execution_count": 61,
   "id": "c71b5fc2",
   "metadata": {},
   "outputs": [],
   "source": [
    "del results[key]"
   ]
  },
  {
   "cell_type": "code",
   "execution_count": 73,
   "id": "4cf345da",
   "metadata": {
    "scrolled": false
   },
   "outputs": [
    {
     "name": "stdout",
     "output_type": "stream",
     "text": [
      "\n",
      "\n",
      "\n",
      "\n",
      "\n",
      "\n",
      "\n",
      "\n"
     ]
    }
   ],
   "source": [
    "all_examples, texts, all_bos_tokens = zip(*[generate(task, verbose=False, plot=False, nrows=nrows, **args)\n",
    "                                        for i in range(batch_size)])"
   ]
  },
  {
   "cell_type": "code",
   "execution_count": 174,
   "id": "94cd2248",
   "metadata": {},
   "outputs": [
    {
     "data": {
      "text/plain": [
       "'Ċ'"
      ]
     },
     "execution_count": 174,
     "metadata": {},
     "output_type": "execute_result"
    }
   ],
   "source": [
    "tokenizer.convert_ids_to_tokens(198)"
   ]
  },
  {
   "cell_type": "code",
   "execution_count": 79,
   "id": "fe8a66e7",
   "metadata": {},
   "outputs": [
    {
     "data": {
      "text/plain": [
       "[[('Jason', 'Bangkok'), ('Dorothy', 'Madrid'), ('Sarah', 'Saint Petersburg')],\n",
       " 'Jason',\n",
       " (['Jason', 'Dorothy', 'Sarah'],\n",
       "  ['Jason', 'Dorothy', 'Sarah'],\n",
       "  ['Bangkok', 'Madrid', 'Saint Petersburg'],\n",
       "  ['Bangkok', 'Madrid', 'Saint Petersburg']),\n",
       " ('Jason', 'Bangkok', 'Bangkok')]"
      ]
     },
     "execution_count": 79,
     "metadata": {},
     "output_type": "execute_result"
    }
   ],
   "source": [
    "all_examples[0][1]"
   ]
  },
  {
   "cell_type": "code",
   "execution_count": 82,
   "id": "48f87da9",
   "metadata": {},
   "outputs": [
    {
     "data": {
      "text/plain": [
       "False"
      ]
     },
     "execution_count": 82,
     "metadata": {},
     "output_type": "execute_result"
    }
   ],
   "source": [
    "any(s in texts[0][24:] for s in ['dangerous'])"
   ]
  },
  {
   "cell_type": "code",
   "execution_count": 83,
   "id": "010ba3e5",
   "metadata": {},
   "outputs": [
    {
     "ename": "TypeError",
     "evalue": "expected Tensor as element 0 in argument 0, but got tuple",
     "output_type": "error",
     "traceback": [
      "\u001b[0;31m---------------------------------------------------------------------------\u001b[0m",
      "\u001b[0;31mTypeError\u001b[0m                                 Traceback (most recent call last)",
      "\u001b[0;32m<ipython-input-83-f9718d77b047>\u001b[0m in \u001b[0;36m<module>\u001b[0;34m\u001b[0m\n\u001b[1;32m      1\u001b[0m predict(model, tokenizer, texts[0], all_examples[0],\n\u001b[0;32m----> 2\u001b[0;31m                 k_shot=k_shot, bos_token=all_bos_tokens[0], trim=False, verbose=verbose)\n\u001b[0m",
      "\u001b[0;32m/nas/xd/projects/transformers/notebooks/model_utils_wab.py\u001b[0m in \u001b[0;36mpredict\u001b[0;34m(model, tokenizer, text, examples, k_shot, bos_token, eos_token, custom_forward, trim, verbose)\u001b[0m\n\u001b[1;32m   1153\u001b[0m     \u001b[0;32mwith\u001b[0m \u001b[0mtorch\u001b[0m\u001b[0;34m.\u001b[0m\u001b[0mno_grad\u001b[0m\u001b[0;34m(\u001b[0m\u001b[0;34m)\u001b[0m\u001b[0;34m:\u001b[0m\u001b[0;34m\u001b[0m\u001b[0;34m\u001b[0m\u001b[0m\n\u001b[1;32m   1154\u001b[0m         \u001b[0mo\u001b[0m \u001b[0;34m=\u001b[0m \u001b[0mforward0\u001b[0m\u001b[0;34m(\u001b[0m\u001b[0mmodel\u001b[0m\u001b[0;34m,\u001b[0m \u001b[0minput_ids\u001b[0m\u001b[0;34m.\u001b[0m\u001b[0mto\u001b[0m\u001b[0;34m(\u001b[0m\u001b[0mmodel\u001b[0m\u001b[0;34m.\u001b[0m\u001b[0mdevice\u001b[0m\u001b[0;34m)\u001b[0m\u001b[0;34m,\u001b[0m \u001b[0mby_head\u001b[0m\u001b[0;34m=\u001b[0m\u001b[0;34m[\u001b[0m\u001b[0;34m'value'\u001b[0m\u001b[0;34m,\u001b[0m \u001b[0;34m'attn_out'\u001b[0m\u001b[0;34m]\u001b[0m\u001b[0;34m,\u001b[0m \u001b[0mranges\u001b[0m\u001b[0;34m=\u001b[0m\u001b[0mranges\u001b[0m\u001b[0;34m)\u001b[0m\u001b[0;31m \u001b[0m\u001b[0;31m\\\u001b[0m\u001b[0;34m\u001b[0m\u001b[0;34m\u001b[0m\u001b[0m\n\u001b[0;32m-> 1155\u001b[0;31m             \u001b[0;32mif\u001b[0m \u001b[0misinstance\u001b[0m\u001b[0;34m(\u001b[0m\u001b[0mmodel\u001b[0m\u001b[0;34m,\u001b[0m \u001b[0mnn\u001b[0m\u001b[0;34m.\u001b[0m\u001b[0mModule\u001b[0m\u001b[0;34m)\u001b[0m \u001b[0;32mand\u001b[0m \u001b[0mcustom_forward\u001b[0m \u001b[0;32melse\u001b[0m \u001b[0mmodel\u001b[0m\u001b[0;34m(\u001b[0m\u001b[0minput_ids\u001b[0m\u001b[0;34m.\u001b[0m\u001b[0mto\u001b[0m\u001b[0;34m(\u001b[0m\u001b[0mgetattr\u001b[0m\u001b[0;34m(\u001b[0m\u001b[0mmodel\u001b[0m\u001b[0;34m,\u001b[0m \u001b[0;34m'device'\u001b[0m\u001b[0;34m,\u001b[0m \u001b[0;34m'cpu'\u001b[0m\u001b[0;34m)\u001b[0m\u001b[0;34m)\u001b[0m\u001b[0;34m)\u001b[0m\u001b[0;34m\u001b[0m\u001b[0;34m\u001b[0m\u001b[0m\n\u001b[0m\u001b[1;32m   1156\u001b[0m         \u001b[0mlogits\u001b[0m \u001b[0;34m=\u001b[0m \u001b[0mo\u001b[0m\u001b[0;34m.\u001b[0m\u001b[0mlogits\u001b[0m\u001b[0;34m\u001b[0m\u001b[0;34m\u001b[0m\u001b[0m\n\u001b[1;32m   1157\u001b[0m         \u001b[0;32mif\u001b[0m \u001b[0misinstance\u001b[0m\u001b[0;34m(\u001b[0m\u001b[0mlogits\u001b[0m\u001b[0;34m,\u001b[0m \u001b[0mtorch\u001b[0m\u001b[0;34m.\u001b[0m\u001b[0mTensor\u001b[0m\u001b[0;34m)\u001b[0m\u001b[0;34m:\u001b[0m \u001b[0mlogits\u001b[0m \u001b[0;34m=\u001b[0m \u001b[0mlogits\u001b[0m\u001b[0;34m.\u001b[0m\u001b[0mto\u001b[0m\u001b[0;34m(\u001b[0m\u001b[0;34m'cpu'\u001b[0m\u001b[0;34m)\u001b[0m\u001b[0;34m.\u001b[0m\u001b[0mfloat\u001b[0m\u001b[0;34m(\u001b[0m\u001b[0;34m)\u001b[0m\u001b[0;31m# softmax on cpu needs float32\u001b[0m\u001b[0;34m\u001b[0m\u001b[0;34m\u001b[0m\u001b[0m\n",
      "\u001b[0;32m/nas/xd/projects/transformers/notebooks/model_utils_wab.py\u001b[0m in \u001b[0;36mforward0\u001b[0;34m(model, inputs, labels, loss_reduction, by_head, ranges, attribute_layer, head_mask, mlp_mask, attn_weights, hidden_states, detach_layer, special_head, special_head_multiplier, multiplied_layers, attr_threshold, base_multiplier, output_hidden_states, output_device)\u001b[0m\n\u001b[1;32m    876\u001b[0m         \u001b[0mh\u001b[0m \u001b[0;34m=\u001b[0m \u001b[0mb\u001b[0m\u001b[0;34m.\u001b[0m\u001b[0mln_1\u001b[0m\u001b[0;34m(\u001b[0m\u001b[0mhidden_states\u001b[0m\u001b[0;34m)\u001b[0m\u001b[0;34m\u001b[0m\u001b[0;34m\u001b[0m\u001b[0m\n\u001b[1;32m    877\u001b[0m         attn_output, *attn_fwd_output = maybe_composed_attn_forward(model, b, h, h, h, by_head=by_head,\n\u001b[0;32m--> 878\u001b[0;31m                             head_mask=head_mask[i], attn_weights=attn_weights[i], ranges=ranges)\n\u001b[0m\u001b[1;32m    879\u001b[0m         \u001b[0mattn_fwd_output\u001b[0m \u001b[0;34m=\u001b[0m \u001b[0;34m[\u001b[0m\u001b[0mto\u001b[0m\u001b[0;34m(\u001b[0m\u001b[0mo\u001b[0m\u001b[0;34m,\u001b[0m \u001b[0moutput_device\u001b[0m\u001b[0;34m)\u001b[0m \u001b[0;32mfor\u001b[0m \u001b[0mo\u001b[0m \u001b[0;32min\u001b[0m \u001b[0mattn_fwd_output\u001b[0m\u001b[0;34m]\u001b[0m\u001b[0;34m\u001b[0m\u001b[0;34m\u001b[0m\u001b[0m\n\u001b[1;32m    880\u001b[0m         \u001b[0mattn_fwd_outputs\u001b[0m\u001b[0;34m.\u001b[0m\u001b[0mappend\u001b[0m\u001b[0;34m(\u001b[0m\u001b[0mattn_fwd_output\u001b[0m\u001b[0;34m)\u001b[0m\u001b[0;34m\u001b[0m\u001b[0;34m\u001b[0m\u001b[0m\n",
      "\u001b[0;32m/nas/xd/projects/transformers/notebooks/model_utils_wab.py\u001b[0m in \u001b[0;36mmaybe_composed_attn_forward\u001b[0;34m(model, block, hq, hk, hv, by_head, ranges, **kwargs)\u001b[0m\n\u001b[1;32m    508\u001b[0m             aw2 = (torch.stack([attn_pattern2labels(ranges, qk_head, attn_size)  # ij\n\u001b[1;32m    509\u001b[0m                     for qk_head, (l, h) in self.composed_heads]).unsqueeze(0)  # m*[ij]->mij->1mij\n\u001b[0;32m--> 510\u001b[0;31m                     if self.q_proj is None else None)\n\u001b[0m\u001b[1;32m    511\u001b[0m             \u001b[0m_\u001b[0m\u001b[0;34m,\u001b[0m \u001b[0maw2\u001b[0m\u001b[0;34m,\u001b[0m \u001b[0m_\u001b[0m\u001b[0;34m,\u001b[0m \u001b[0mhead_output2\u001b[0m \u001b[0;34m=\u001b[0m \u001b[0mattn_forward\u001b[0m\u001b[0;34m(\u001b[0m\u001b[0mblock\u001b[0m\u001b[0;34m,\u001b[0m \u001b[0mhq\u001b[0m\u001b[0;34m,\u001b[0m \u001b[0mhk\u001b[0m\u001b[0;34m,\u001b[0m \u001b[0mhv\u001b[0m\u001b[0;34m,\u001b[0m \u001b[0mby_head\u001b[0m\u001b[0;34m=\u001b[0m\u001b[0;34m[\u001b[0m\u001b[0;34m'head_output'\u001b[0m\u001b[0;34m]\u001b[0m\u001b[0;34m,\u001b[0m \u001b[0mattn_weights\u001b[0m\u001b[0;34m=\u001b[0m\u001b[0maw2\u001b[0m\u001b[0;34m)\u001b[0m\u001b[0;34m\u001b[0m\u001b[0;34m\u001b[0m\u001b[0m\n\u001b[1;32m    512\u001b[0m             \u001b[0;32mfor\u001b[0m \u001b[0mi\u001b[0m\u001b[0;34m,\u001b[0m \u001b[0;34m(\u001b[0m\u001b[0;34m(\u001b[0m\u001b[0mqk_head\u001b[0m\u001b[0;34m,\u001b[0m \u001b[0;34m(\u001b[0m\u001b[0ml\u001b[0m\u001b[0;34m,\u001b[0m \u001b[0mh\u001b[0m\u001b[0;34m)\u001b[0m\u001b[0;34m)\u001b[0m\u001b[0;34m,\u001b[0m \u001b[0mrange_i\u001b[0m\u001b[0;34m)\u001b[0m \u001b[0;32min\u001b[0m \u001b[0menumerate\u001b[0m\u001b[0;34m(\u001b[0m\u001b[0mzip\u001b[0m\u001b[0;34m(\u001b[0m\u001b[0mcomposed_heads\u001b[0m\u001b[0;34m,\u001b[0m \u001b[0mself\u001b[0m\u001b[0;34m.\u001b[0m\u001b[0mranges_i\u001b[0m\u001b[0;34m)\u001b[0m\u001b[0;34m)\u001b[0m\u001b[0;34m:\u001b[0m\u001b[0;34m\u001b[0m\u001b[0;34m\u001b[0m\u001b[0m\n",
      "\u001b[0;31mTypeError\u001b[0m: expected Tensor as element 0 in argument 0, but got tuple"
     ]
    }
   ],
   "source": [
    "predict(model, tokenizer, texts[0], all_examples[0],\n",
    "                k_shot=k_shot, bos_token=all_bos_tokens[0], trim=False, verbose=verbose)"
   ]
  },
  {
   "cell_type": "code",
   "execution_count": 105,
   "id": "dce72b9f",
   "metadata": {
    "scrolled": true
   },
   "outputs": [
    {
     "name": "stdout",
     "output_type": "stream",
     "text": [
      " Ġbaseball 0.182 {'Ġto': 0.234, 'Ġbaseball': 0.182, 'Ġthe': 0.048} \t Kevin has baseball. Karen has green. Donna has plum. Kevin likes baseball *Ġbaseball:14.466 Ġgreen:11.726 Ġplum:11.277\n",
      "*Ġbeetle 0.729 {'Ġbeetle': 0.729, 'Ċ': 0.121, 'Ġbug': 0.015} \t Daniel has beetle. Jennifer has goat. Linda has peach. Daniel likes beetle *Ġbeetle:17.852 Ġgoat:10.239 Ġpeach:10.308\n",
      "*Ġbasketball 0.618 {'Ġbasketball': 0.618, 'Ġgorilla': 0.097, 'Ċ': 0.08} \t Barbara has gorilla. Karen has strawberries. William has basketball. William likes basketball Ġgorilla:15.809 Ġstrawberries:9.739 *Ġbasketball:17.661\n",
      "*Ġsmartphone 0.711 {'Ġsmartphone': 0.711, 'Ġvodka': 0.062, 'Ġplum': 0.059} \t Steven has plum. Edward has vodka. Sharon has smartphone. Sharon likes smartphone Ġplum:15.130 Ġvodka:15.185 *Ġsmartphone:17.625\n",
      "*Ġbeer 0.853 {'Ġbeer': 0.853, 'Ġrevolver': 0.12, 'Ġgun': 0.002} \t Jennifer has iPad. Jeff has beer. Sandra has revolver. Jeff likes beer ĠiPad:12.278 *Ġbeer:19.780 Ġrevolver:17.822\n",
      "*Ġpants 0.601 {'Ġpants': 0.601, 'Ġgoose': 0.229, 'Ġblue': 0.05} \t Jason has blue. Karen has pants. Kevin has goose. Karen likes pants Ġblue:15.251 *Ġpants:17.741 Ġgoose:16.778\n",
      "*Ġmango 0.982 {'Ġmango': 0.982, 'Ġmouse': 0.006, 'Ġmosquito': 0.002} \t Robert has mouse. Deborah has mango. William has mosquito. Deborah likes mango Ġmouse:16.121 *Ġmango:21.228 Ġmosquito:15.144\n",
      "*ĠT 0.931 {'ĠT': 0.931, 'Ġk': 0.051, 'Ġbus': 0.005} \t Jeff has bus. Margaret has T-shirt. John has kiwi. Margaret likes T-shirt Ġbus:15.413 *ĠT:20.693 Ġk:17.798\n",
      "0.21961355209350586 1.0\n"
     ]
    },
    {
     "data": {
      "image/png": "[encoded data removed]",
      "text/plain": [
       "<Figure size 1000x240 with 2 Axes>"
      ]
     },
     "metadata": {},
     "output_type": "display_data"
    },
    {
     "name": "stdout",
     "output_type": "stream",
     "text": [
      " Ġbaseball 0.166 {'Ġto': 0.239, 'Ġbaseball': 0.166, 'Ġthe': 0.025} \t David has monkey. Brian has motorcycle. Sarah has baseball. Sarah likes baseball Ġmonkey:11.453 Ġmotorcycle:9.057 *Ġbaseball:14.474\n",
      "*Ġspaghetti 0.753 {'Ġspaghetti': 0.753, 'Ċ': 0.094, 'Ġpasta': 0.023} \t Richard has pistol. Daniel has fox. Sandra has spaghetti. Sandra likes spaghetti Ġpistol:7.724 Ġfox:11.494 *Ġspaghetti:17.658\n",
      "*ĠT 0.536 {'ĠT': 0.536, 'Ġlaptop': 0.243, 'Ċ': 0.087} \t Christopher has horse. Nancy has T-shirt. Kevin has laptop. Nancy likes T-shirt Ġhorse:11.555 *ĠT:17.081 Ġlaptop:16.293\n",
      "*Ġbeetle 0.607 {'Ġbeetle': 0.607, 'Ġrifle': 0.279, 'ĠT': 0.021} \t Patricia has peach. Jeff has beetle. Nancy has rifle. Jeff likes beetle Ġpeach:14.289 *Ġbeetle:18.054 Ġrifle:17.278\n",
      "*Ġcannon 0.668 {'Ġcannon': 0.668, 'Ġwater': 0.181, 'Ġpizza': 0.09} \t Paul has cannon. Mary has watermelon. Karen has pizza. Paul likes cannon *Ġcannon:18.782 Ġwater:17.477 Ġpizza:16.782\n",
      "*Ġgorilla 0.974 {'Ġgorilla': 0.974, 'Ġmonkey': 0.003, 'Ċ': 0.003} \t Richard has gorilla. Laura has sweater. Maria has plum. Richard likes gorilla *Ġgorilla:20.270 Ġsweater:13.729 Ġplum:10.914\n",
      "*Ġjersey 0.93 {'Ġjersey': 0.93, 'Ġmouse': 0.038, 'Ġsheep': 0.004} \t Ruth has mouse. David has jersey. Barbara has sheep. David likes jersey Ġmouse:16.204 *Ġjersey:19.407 Ġsheep:13.909\n",
      "*Ġfootball 0.94 {'Ġfootball': 0.94, 'Ġburger': 0.033, 'Ġwolf': 0.007} \t Kimberly has burger. Christopher has football. Lisa has wolf. Christopher likes football Ġburger:17.746 *Ġfootball:21.090 Ġwolf:16.253\n",
      "0.21265728771686554 1.0\n"
     ]
    },
    {
     "data": {
      "image/png": "[encoded data removed]",
      "text/plain": [
       "<Figure size 1000x240 with 2 Axes>"
      ]
     },
     "metadata": {},
     "output_type": "display_data"
    },
    {
     "name": "stdout",
     "output_type": "stream",
     "text": [
      "*Ġbaseball 0.248 {'Ġbaseball': 0.248, 'Ġto': 0.177, 'Ġthe': 0.042} \t Jason has baseball. Carol has white. Lisa has purple. Jason likes baseball *Ġbaseball:15.289 Ġwhite:13.044 Ġpurple:13.083\n",
      "*Ġpizza 0.854 {'Ġpizza': 0.854, 'Ċ': 0.021, 'Ġgun': 0.015} \t Thomas has pizza. Helen has gun. Linda has deer. Thomas likes pizza *Ġpizza:18.306 Ġgun:14.252 Ġdeer:13.819\n",
      " Ġelephant 0.059 {'Ġbasketball': 0.444, 'Ċ': 0.164, 'Ġdeer': 0.097} \t Jeff has basketball. Christopher has costume. Linda has elephant. Linda likes elephant Ġbasketball:17.077 Ġcostume:13.949 *Ġelephant:15.065\n",
      " Ġblack 0.055 {'Ġsoda': 0.906, 'Ġblack': 0.055, 'Ċ': 0.005} \t Michelle has soda. Joseph has black. Donna has blackberry. Joseph likes black Ġsoda:19.793 *Ġblack:16.996 *Ġblack:16.996\n",
      "*Ġlaptop 0.887 {'Ġlaptop': 0.887, 'Ġblue': 0.057, 'Ġblack': 0.011} \t Anthony has blue. Betty has laptop. Donald has jeans. Betty likes laptop Ġblue:16.544 *Ġlaptop:19.294 Ġjeans:13.093\n",
      "*Ġjeans 0.664 {'Ġjeans': 0.664, 'Ġblue': 0.074, 'Ġdenim': 0.054} \t Sandra has durian. Kenneth has jeans. Sharon has watermelon. Kenneth likes jeans Ġdur:15.233 *Ġjeans:17.825 Ġwater:14.797\n",
      " Ġcannon 0.05 {'Ġhorse': 0.794, 'Ġcannon': 0.05, 'Ġblue': 0.044} \t William has horse. Thomas has blueberries. Maria has cannon. Maria likes cannon Ġhorse:18.476 Ġblue:15.575 *Ġcannon:15.713\n",
      "*Ġwhiskey 0.965 {'Ġwhiskey': 0.965, 'Ġmouse': 0.01, 'Ġwhisky': 0.006} \t Jennifer has whiskey. Robert has violin. James has mouse. Jennifer likes whiskey *Ġwhiskey:20.286 Ġviolin:13.580 Ġmouse:15.720\n",
      "1.2906293869018555 0.6\n"
     ]
    },
    {
     "data": {
      "image/png": "[encoded data removed]",
      "text/plain": [
       "<Figure size 1000x240 with 2 Axes>"
      ]
     },
     "metadata": {},
     "output_type": "display_data"
    },
    {
     "name": "stdout",
     "output_type": "stream",
     "text": [
      " Ġbeetle 0.069 {'Ġto': 0.221, 'Ġbeetle': 0.069, 'Ġbasketball': 0.033} \t Sharon has basketball. Nancy has green. Christopher has beetle. Christopher likes beetle Ġbasketball:12.715 Ġgreen:11.829 *Ġbeetle:13.460\n",
      "*Ġrifle 0.825 {'Ġrifle': 0.825, 'Ġto': 0.014, 'Ġgun': 0.009} \t Christopher has iPad. James has burger. Sarah has rifle. Sarah likes rifle ĠiPad:8.352 Ġburger:12.630 *Ġrifle:17.429\n",
      " Ġpurple 0.152 {'Ġguitar': 0.482, 'Ġpurple': 0.152, 'ĠJeep': 0.112} \t Barbara has purple. Joseph has Jeep. Mark has guitar. Barbara likes purple *Ġpurple:15.589 ĠJeep:15.281 Ġguitar:16.744\n",
      " Ġburger 0.122 {'Ġpurple': 0.551, 'Ġbasketball': 0.253, 'Ġburger': 0.122} \t Kenneth has grapes. Donna has burger. Anthony has basketball. Donna likes burger Ġgrapes:12.249 *Ġburger:16.969 Ġbasketball:17.701\n",
      "*Ġbus 0.822 {'Ġbus': 0.822, 'Ġmosquito': 0.038, 'Ġburger': 0.03} \t Richard has bus. Maria has phone. Sharon has mosquito. Richard likes bus *Ġbus:18.466 Ġphone:14.551 Ġmosquito:15.391\n",
      " Ġred 0.194 {'Ġk': 0.414, 'Ġred': 0.194, 'Ġgoose': 0.107} \t Laura has kiwi. Richard has red. Nancy has goose. Richard likes red Ġk:17.772 *Ġred:17.015 Ġgoose:16.418\n",
      "*Ġshotgun 0.811 {'Ġshotgun': 0.811, 'Ġk': 0.057, 'Ġgun': 0.019} \t Mark has guitar. Jennifer has shotgun. David has shoes. Jennifer likes shotgun Ġguitar:14.188 *Ġshotgun:18.668 Ġshoes:14.239\n",
      "*Ġtaxi 0.592 {'Ġtaxi': 0.592, 'Ġbeer': 0.164, 'Ġpear': 0.126} \t Barbara has pear. Laura has beer. Edward has taxi. Edward likes taxi Ġpear:17.460 Ġbeer:17.719 *Ġtaxi:19.005\n",
      "0.9344030618667603 0.6\n"
     ]
    },
    {
     "data": {
      "image/png": "[encoded data removed]",
      "text/plain": [
       "<Figure size 1000x240 with 2 Axes>"
      ]
     },
     "metadata": {},
     "output_type": "display_data"
    },
    {
     "data": {
      "text/plain": [
       "(0.6643258221447468, 0.8)"
      ]
     },
     "execution_count": 105,
     "metadata": {},
     "output_type": "execute_result"
    }
   ],
   "source": [
    "show_predictions_by_data_tuples(model, tokenizer, r.data_tuples, k_shot)"
   ]
  },
  {
   "cell_type": "code",
   "execution_count": 110,
   "id": "e79e0815",
   "metadata": {},
   "outputs": [
    {
     "data": {
      "text/plain": [
       "28"
      ]
     },
     "execution_count": 110,
     "metadata": {},
     "output_type": "execute_result"
    }
   ],
   "source": [
    "L"
   ]
  },
  {
   "cell_type": "code",
   "execution_count": 17,
   "id": "453907c6",
   "metadata": {},
   "outputs": [
    {
     "data": {
      "text/plain": [
       "4096"
      ]
     },
     "execution_count": 17,
     "metadata": {},
     "output_type": "execute_result"
    }
   ],
   "source": [
    "256*16"
   ]
  },
  {
   "cell_type": "code",
   "execution_count": 77,
   "id": "0a53bdf8",
   "metadata": {},
   "outputs": [
    {
     "data": {
      "text/plain": [
       "3"
      ]
     },
     "execution_count": 77,
     "metadata": {},
     "output_type": "execute_result"
    }
   ],
   "source": [
    "7//2"
   ]
  },
  {
   "cell_type": "code",
   "execution_count": 183,
   "id": "501165b9",
   "metadata": {
    "scrolled": true
   },
   "outputs": [
    {
     "name": "stdout",
     "output_type": "stream",
     "text": [
      "\n",
      "== MlM_gen[genders_of_persons.TreeSet.equal,types_of_things.TreeSet.equal][cxt_len=3] == rel0_kwargs=(skip_inv_f),rel1_kwargs=(skip_inv_f)\n",
      "r None\n",
      "Kevin has baseball. Karen has green. Donna has plum. Kevin likes baseball\n",
      "Daniel has beetle. Jennifer has goat. Linda has peach. Daniel likes beetle\n",
      "Barbara has gorilla. Karen has strawberries. William has basketball. William likes basketball\n",
      "In generate_and_predict_batch: predict ... done 0:00:01.001514\n",
      "2.394382357597351 0.4\n",
      "attribute_tree ... In attribute_tree: attribute_step  ... done 0:00:00.992161\n",
      "In attribute_tree: attribute_step stage2  ... d.top_heads [(9, 9), (10, 11), (10, 6), (7, 10), (11, 9), (7, 6), (10, 0), (10, 3), (11, 0), (9, 2)]\n",
      "done 0:00:00.905861\n",
      "get ap_scores ... done 0:00:00.029709\n",
      "get attr_ap_scores ... done 0:00:00.107707\n",
      "In _add_node: add @0 9-9 100 B->A0 90/32 attn:B->~<s>\n",
      "In _add_node: add @1 10-11 67 B->A0 73/20 attn:B->~<s>\n",
      "In _add_node: add @2 10-6 66 B->A0 76/16 attn:B->~<s>\n",
      "In _add_node: add @3 7-10 63 B->A0 82/22 attn:B->~<s>\n",
      "In _add_node: add @150 8-11 -39 B->A0/28 attn:B->~<s>\n",
      "In _add_node: add @7 10-0 16 B->A0 88/20 attn:B->~<s>\n",
      "In _add_node: add @[0,1,2,3,4,7,8] 9-9,10-11,10-6,7-10,11-9 33,10-0 16,10-3 12 B->A0 49\n",
      "In _add_node: add @[6] 7-m 18 B->B 10\n",
      "In _add_node: add @[5,9] 7-6 19,11-0 9 unk 0\n",
      "done 0:00:02.042614\n"
     ]
    }
   ],
   "source": [
    "nrows, k_shot = 16//2, 7//2; cxt_len = 3; save_results = True\n",
    "batch_size = 8 // 2; verbose = False #not save_results or batch_size <= 8\n",
    "rel0_kwargs_list = [{'skip_inv_f': True},{'skip_inv_f': False}]#[:1]\n",
    "rel1_kwargs_list = [{'x_f': None, 'y_f': None, 'skip_inv_f': True}, {'x_f': _s, 'y_f': a_, 'skip_inv_f': True},\n",
    "                    {'x_f': _s, 'y_f': a_, 'skip_inv_f':False}]#[:1]\n",
    "for task,        rel0_kwargs,     rel1_kwargs, do_swap_qa, do_negate, do_rm_local_hop, do_rm_query, rev_item2str in product(\n",
    "#     tasks[1:2],rel0_kwargs_list,rel1_kwargs_list,[False,], [False,],  [True,],        [False,],    [False,]):\n",
    "    tasks[1:2],rel0_kwargs_list,rel1_kwargs_list,[False,True],[False,], [False,],     [False,],   [False,True]):\n",
    "    seed(42)\n",
    "    args = dict(cxt_len=cxt_len, rev_item2str=rev_item2str, abstract=False)\n",
    "    trans_args = dict(rel0_kwargs=rel0_kwargs, rel1_kwargs=rel1_kwargs, do_swap_qa=do_swap_qa, do_negate=do_negate,\n",
    "                      do_rm_local_hop=do_rm_local_hop, do_rm_query=do_rm_query)\n",
    "    task = transform_task(task, **trans_args)\n",
    "    if task is None: print('task is None! skip.'); continue\n",
    "    res_key = f'{task2str(task)}[{args2str(args)}]'# + composed_heads2str(model)\n",
    "    if key is not None and res_key != key: continue\n",
    "    if not validate_args(task, args, trans_args): print('invalid args! skip.'); continue\n",
    "#     if has_attribution_results(res_key): continue\n",
    "    print(f'\\n== {res_key} == {args2str(trans_args)}')\n",
    "    r = results[res_key] if save_results and res_key in results else None\n",
    "    print('r',r)\n",
    "    r = generate_and_predict_batch(model, tokenizer, task, nrows, k_shot, batch_size,\n",
    "                                        trim=False, result=r, verbose=verbose, **args)\n",
    "    if save_results: results[res_key] = r\n",
    "    #if not save_results or getattr(r, 'mean_acc', 0) < 0.45: continue\n",
    "        \n",
    "# #     load_attribution_results(r, res_key)\n",
    "    if True or r.root is None: r.root = add_node(None, layer=L, label_type='labels')\n",
    "    r.root = attribute_tree_on(r.data_tuples, model, r.root, 1, topk=10, k_shot=k_shot, device='cpu', verbose=True)\n",
    "#     with Timer('save_attribution_results'): save_attribution_results(r, res_key)\n",
    "#     r.data_tuples = [dt[:-1] + [trim_outputs(dt[-1])] for dt in r.data_tuples] # to save mem. data_tuple is list!"
   ]
  },
  {
   "cell_type": "code",
   "execution_count": 180,
   "id": "3c6bf874",
   "metadata": {},
   "outputs": [
    {
     "ename": "KeyError",
     "evalue": "'ioi'",
     "output_type": "error",
     "traceback": [
      "\u001b[0;31m---------------------------------------------------------------------------\u001b[0m",
      "\u001b[0;31mKeyError\u001b[0m                                  Traceback (most recent call last)",
      "\u001b[0;32m<ipython-input-180-9347bd59d3d8>\u001b[0m in \u001b[0;36m<module>\u001b[0;34m\u001b[0m\n\u001b[0;32m----> 1\u001b[0;31m \u001b[0mr\u001b[0m \u001b[0;34m=\u001b[0m\u001b[0mresults\u001b[0m\u001b[0;34m[\u001b[0m\u001b[0;34m'ioi'\u001b[0m\u001b[0;34m]\u001b[0m\u001b[0;34m\u001b[0m\u001b[0;34m\u001b[0m\u001b[0m\n\u001b[0m",
      "\u001b[0;31mKeyError\u001b[0m: 'ioi'"
     ]
    }
   ],
   "source": [
    "r =results['ioi']\n"
   ]
  },
  {
   "cell_type": "code",
   "execution_count": 251,
   "id": "f1965c4d",
   "metadata": {},
   "outputs": [],
   "source": [
    "r = None"
   ]
  },
  {
   "cell_type": "code",
   "execution_count": 253,
   "id": "b2e21a4c",
   "metadata": {},
   "outputs": [
    {
     "data": {
      "text/plain": [
       "12"
      ]
     },
     "execution_count": 253,
     "metadata": {},
     "output_type": "execute_result"
    }
   ],
   "source": [
    "L"
   ]
  },
  {
   "cell_type": "code",
   "execution_count": 258,
   "id": "4982249e",
   "metadata": {
    "scrolled": true
   },
   "outputs": [
    {
     "name": "stdout",
     "output_type": "stream",
     "text": [
      "torch.Size([1, 177])\n",
      "torch.Size([1, 183])\n",
      "torch.Size([1, 193])\n",
      "torch.Size([1, 194])\n",
      "torch.Size([1, 184])\n",
      "attribute_tree ... In attribute_tree: attribute_step  ... done 0:00:01.642319\n",
      "In attribute_tree: attribute_step stage2  ... d.top_heads [(9, 9), (10, 0), (10, 2), (9, 6), (10, 10), (11, 1), (8, 11), (11, 3), (10, 6), (9, 11), (7, 11), (9, 8), (8, 6), (11, 6), (11, 2), (9, 2), (8, 3), (11, 8), (10, 1), (6, 9), (9, 0), (11, 11), (11, 7), (10, 9), (5, 1), (11, 0), (9, 3), (5, 0), (5, 5), (7, 7), (10, 3), (7, 1), (8, 2), (10, 8), (7, 2), (6, 10), (6, 4), (10, 11), (5, 11), (10, 4), (11, 5), (9, 4), (8, 8), (7, 3), (9, 1), (6, 1), (8, 0), (8, 1), (4, 9), (9, 7), (4, 1), (7, 10), (6, 11), (6, 7), (4, 8), (8, 7), (4, 11), (7, 0), (5, 8), (8, 5), (4, 0), (7, 8), (5, 6), (6, 8), (4, 7), (2, 6), (0, 7), (0, 9), (0, 8), (2, 7), (2, 8), (2, 9), (2, 10), (2, 11), (3, 0), (3, 1), (3, 2), (3, 3), (3, 4), (2, 5), (2, 4), (2, 3), (2, 2), (2, 1), (0, 10), (2, 0), (1, 11), (1, 10), (1, 9), (1, 8), (1, 7), (1, 6), (1, 5), (3, 6), (1, 0), (1, 1), (0, 0), (0, 11), (0, 1), (1, 2), (0, 2), (0, 3), (0, 4), (0, 5), (1, 3), (3, 11), (3, 10), (3, 9), (3, 5), (3, 8), (3, 7), (1, 4), (0, 6), (6, 5), (4, 6), (4, 2), (4, 5), (5, 4), (9, 10), (10, 5), (7, 4), (8, 4), (5, 2), (11, 4), (5, 10), (6, 0), (4, 3), (7, 5), (5, 3), (5, 7), (8, 9), (7, 9), (6, 3), (4, 10), (4, 4), (11, 9), (6, 2), (5, 9), (6, 6), (9, 5), (8, 10), (7, 6), (11, 10), (10, 7)]\n",
      "done 0:00:02.263273\n",
      "done 0:00:03.912315\n"
     ]
    },
    {
     "ename": "AttributeError",
     "evalue": "'NoneType' object has no attribute 'split'",
     "output_type": "error",
     "traceback": [
      "\u001b[0;31m---------------------------------------------------------------------------\u001b[0m",
      "\u001b[0;31mAttributeError\u001b[0m                            Traceback (most recent call last)",
      "\u001b[0;32m<ipython-input-258-d40a06c04498>\u001b[0m in \u001b[0;36m<module>\u001b[0;34m\u001b[0m\n\u001b[1;32m      2\u001b[0m \u001b[0;32mif\u001b[0m \u001b[0msave_results\u001b[0m\u001b[0;34m:\u001b[0m \u001b[0mresults\u001b[0m\u001b[0;34m[\u001b[0m\u001b[0;34m'ioi'\u001b[0m\u001b[0;34m]\u001b[0m \u001b[0;34m=\u001b[0m \u001b[0mr\u001b[0m\u001b[0;34m\u001b[0m\u001b[0;34m\u001b[0m\u001b[0m\n\u001b[1;32m      3\u001b[0m \u001b[0;32mif\u001b[0m \u001b[0;32mTrue\u001b[0m \u001b[0;32mor\u001b[0m \u001b[0mr\u001b[0m\u001b[0;34m.\u001b[0m\u001b[0mroot\u001b[0m \u001b[0;32mis\u001b[0m \u001b[0;32mNone\u001b[0m\u001b[0;34m:\u001b[0m \u001b[0mr\u001b[0m\u001b[0;34m.\u001b[0m\u001b[0mroot\u001b[0m \u001b[0;34m=\u001b[0m \u001b[0madd_node\u001b[0m\u001b[0;34m(\u001b[0m\u001b[0;32mNone\u001b[0m\u001b[0;34m,\u001b[0m \u001b[0mlayer\u001b[0m\u001b[0;34m=\u001b[0m\u001b[0mL\u001b[0m\u001b[0;34m,\u001b[0m \u001b[0mlabel_type\u001b[0m\u001b[0;34m=\u001b[0m\u001b[0;34m'labels'\u001b[0m\u001b[0;34m)\u001b[0m\u001b[0;34m\u001b[0m\u001b[0;34m\u001b[0m\u001b[0m\n\u001b[0;32m----> 4\u001b[0;31m \u001b[0mr\u001b[0m\u001b[0;34m.\u001b[0m\u001b[0mroot\u001b[0m \u001b[0;34m=\u001b[0m \u001b[0mattribute_tree_on\u001b[0m\u001b[0;34m(\u001b[0m\u001b[0mr\u001b[0m\u001b[0;34m.\u001b[0m\u001b[0mdata_tuples\u001b[0m\u001b[0;34m,\u001b[0m \u001b[0mmodel\u001b[0m\u001b[0;34m,\u001b[0m \u001b[0mr\u001b[0m\u001b[0;34m.\u001b[0m\u001b[0mroot\u001b[0m\u001b[0;34m,\u001b[0m \u001b[0;36m1\u001b[0m\u001b[0;34m,\u001b[0m \u001b[0mtopk\u001b[0m\u001b[0;34m=\u001b[0m\u001b[0;36m144\u001b[0m\u001b[0;34m,\u001b[0m \u001b[0mk_shot\u001b[0m\u001b[0;34m=\u001b[0m\u001b[0mk_shot\u001b[0m\u001b[0;34m,\u001b[0m \u001b[0mdevice\u001b[0m\u001b[0;34m=\u001b[0m\u001b[0;34m'cpu'\u001b[0m\u001b[0;34m,\u001b[0m \u001b[0mverbose\u001b[0m\u001b[0;34m=\u001b[0m\u001b[0;32mTrue\u001b[0m\u001b[0;34m)\u001b[0m\u001b[0;34m\u001b[0m\u001b[0;34m\u001b[0m\u001b[0m\n\u001b[0m",
      "\u001b[0;32m/nas/xd/projects/transformers/notebooks/model_utils_wab.py\u001b[0m in \u001b[0;36mattribute_tree_on\u001b[0;34m(data_tuples, model, node, max_step, device, **kwargs)\u001b[0m\n\u001b[1;32m   1951\u001b[0m         \u001b[0;32mif\u001b[0m \u001b[0mdevice\u001b[0m \u001b[0;34m!=\u001b[0m \u001b[0;34m'cpu'\u001b[0m\u001b[0;34m:\u001b[0m \u001b[0mswitch_model_to\u001b[0m\u001b[0;34m(\u001b[0m\u001b[0mmodel\u001b[0m\u001b[0;34m,\u001b[0m \u001b[0mdevice\u001b[0m\u001b[0;34m)\u001b[0m\u001b[0;34m\u001b[0m\u001b[0;34m\u001b[0m\u001b[0m\n\u001b[1;32m   1952\u001b[0m         \u001b[0;32mwith\u001b[0m \u001b[0mTimer\u001b[0m\u001b[0;34m(\u001b[0m\u001b[0;34m'attribute_tree'\u001b[0m\u001b[0;34m)\u001b[0m\u001b[0;34m:\u001b[0m\u001b[0;34m\u001b[0m\u001b[0;34m\u001b[0m\u001b[0m\n\u001b[0;32m-> 1953\u001b[0;31m             \u001b[0mattribute_tree\u001b[0m\u001b[0;34m(\u001b[0m\u001b[0mdata_tuples\u001b[0m\u001b[0;34m,\u001b[0m \u001b[0mmodel\u001b[0m\u001b[0;34m,\u001b[0m \u001b[0mnode\u001b[0m\u001b[0;34m,\u001b[0m \u001b[0mmax_step\u001b[0m\u001b[0;34m,\u001b[0m \u001b[0;34m**\u001b[0m\u001b[0mkwargs\u001b[0m\u001b[0;34m)\u001b[0m\u001b[0;34m\u001b[0m\u001b[0;34m\u001b[0m\u001b[0m\n\u001b[0m\u001b[1;32m   1954\u001b[0m     \u001b[0;32mfinally\u001b[0m\u001b[0;34m:\u001b[0m\u001b[0;34m\u001b[0m\u001b[0;34m\u001b[0m\u001b[0m\n\u001b[1;32m   1955\u001b[0m         \u001b[0;32mif\u001b[0m \u001b[0mdevice\u001b[0m \u001b[0;34m!=\u001b[0m \u001b[0;34m'cpu'\u001b[0m\u001b[0;34m:\u001b[0m \u001b[0mswitch_model_to\u001b[0m\u001b[0;34m(\u001b[0m\u001b[0mmodel\u001b[0m\u001b[0;34m,\u001b[0m \u001b[0;34m'cpu'\u001b[0m\u001b[0;34m)\u001b[0m\u001b[0;34m\u001b[0m\u001b[0;34m\u001b[0m\u001b[0m\n",
      "\u001b[0;32m/nas/xd/projects/transformers/notebooks/model_utils_wab.py\u001b[0m in \u001b[0;36mattribute_tree\u001b[0;34m(data_tuples, model, node, max_step, topk, threshold_score, k_shot, attribute_k, device, verbose)\u001b[0m\n\u001b[1;32m   1939\u001b[0m \u001b[0;34m\u001b[0m\u001b[0m\n\u001b[1;32m   1940\u001b[0m     expand_node(node, topk=topk, threshold_score=threshold_score,\n\u001b[0;32m-> 1941\u001b[0;31m         k_shot=k_shot, attribute_k=attribute_k, add_dummy_node=True, verbose=verbose)\n\u001b[0m\u001b[1;32m   1942\u001b[0m \u001b[0;34m\u001b[0m\u001b[0m\n\u001b[1;32m   1943\u001b[0m     \u001b[0;32mfor\u001b[0m \u001b[0mchild\u001b[0m \u001b[0;32min\u001b[0m \u001b[0mnode\u001b[0m\u001b[0;34m.\u001b[0m\u001b[0mchildren\u001b[0m\u001b[0;34m:\u001b[0m\u001b[0;34m\u001b[0m\u001b[0;34m\u001b[0m\u001b[0m\n",
      "\u001b[0;32m/nas/xd/projects/transformers/notebooks/model_utils_wab.py\u001b[0m in \u001b[0;36mexpand_node\u001b[0;34m(parent, head_attr_fn, topk, threshold_score, k_shot, attribute_k, add_dummy_node, verbose)\u001b[0m\n\u001b[1;32m   1852\u001b[0m         \u001b[0;32mfor\u001b[0m \u001b[0md\u001b[0m \u001b[0;32min\u001b[0m \u001b[0mtop_data\u001b[0m\u001b[0;34m:\u001b[0m\u001b[0;34m\u001b[0m\u001b[0;34m\u001b[0m\u001b[0m\n\u001b[1;32m   1853\u001b[0m             \u001b[0;32mif\u001b[0m \u001b[0md\u001b[0m\u001b[0;34m.\u001b[0m\u001b[0mtop_score\u001b[0m \u001b[0;34m<\u001b[0m \u001b[0mthreshold_score\u001b[0m\u001b[0;34m:\u001b[0m \u001b[0;32mcontinue\u001b[0m\u001b[0;34m\u001b[0m\u001b[0;34m\u001b[0m\u001b[0m\n\u001b[0;32m-> 1854\u001b[0;31m             \u001b[0;32mfor\u001b[0m \u001b[0mlabel_type\u001b[0m \u001b[0;32min\u001b[0m \u001b[0mget_label_types\u001b[0m\u001b[0;34m(\u001b[0m\u001b[0mparent\u001b[0m\u001b[0;34m,\u001b[0m \u001b[0md\u001b[0m\u001b[0;34m.\u001b[0m\u001b[0mattn_pattern\u001b[0m\u001b[0;34m)\u001b[0m\u001b[0;34m:\u001b[0m\u001b[0;34m\u001b[0m\u001b[0;34m\u001b[0m\u001b[0m\n\u001b[0m\u001b[1;32m   1855\u001b[0m                 \u001b[0;32mif\u001b[0m \u001b[0mlabel_type\u001b[0m \u001b[0;32mand\u001b[0m \u001b[0;34m'attn_labels'\u001b[0m \u001b[0;32min\u001b[0m \u001b[0mlabel_type\u001b[0m \u001b[0;32mand\u001b[0m \u001b[0md\u001b[0m\u001b[0;34m.\u001b[0m\u001b[0mattn_pattern\u001b[0m\u001b[0;34m.\u001b[0m\u001b[0mstartswith\u001b[0m\u001b[0;34m(\u001b[0m\u001b[0;34m'bos->ans0'\u001b[0m\u001b[0;34m)\u001b[0m\u001b[0;34m:\u001b[0m\u001b[0;34m\u001b[0m\u001b[0;34m\u001b[0m\u001b[0m\n\u001b[1;32m   1856\u001b[0m                     \u001b[0;31m# label_type += '/ans0s'\u001b[0m\u001b[0;34m\u001b[0m\u001b[0;34m\u001b[0m\u001b[0;34m\u001b[0m\u001b[0m\n",
      "\u001b[0;32m/nas/xd/projects/transformers/notebooks/model_utils_wab.py\u001b[0m in \u001b[0;36mget_label_types\u001b[0;34m(parent, attn_pattern)\u001b[0m\n\u001b[1;32m   1813\u001b[0m     \u001b[0;31m# if attn_pattern == 'bos->query' and parent.data.attn_pattern == 'bos->ans0': return [None, 'attn_labels']\u001b[0m\u001b[0;34m\u001b[0m\u001b[0;34m\u001b[0m\u001b[0;34m\u001b[0m\u001b[0m\n\u001b[1;32m   1814\u001b[0m     \u001b[0;32mif\u001b[0m \u001b[0many\u001b[0m\u001b[0;34m(\u001b[0m\u001b[0;32mnot\u001b[0m \u001b[0mpoint_wise\u001b[0m\u001b[0;34m(\u001b[0m\u001b[0mn\u001b[0m\u001b[0;34m.\u001b[0m\u001b[0mdata\u001b[0m\u001b[0;34m.\u001b[0m\u001b[0mattn_pattern\u001b[0m\u001b[0;34m,\u001b[0m \u001b[0mn\u001b[0m\u001b[0;34m.\u001b[0m\u001b[0mdata\u001b[0m\u001b[0;34m.\u001b[0m\u001b[0mlabel_type\u001b[0m\u001b[0;34m)\u001b[0m \u001b[0;32mfor\u001b[0m \u001b[0mn\u001b[0m \u001b[0;32min\u001b[0m \u001b[0mnode2path\u001b[0m\u001b[0;34m(\u001b[0m\u001b[0mparent\u001b[0m\u001b[0;34m)\u001b[0m\u001b[0;34m)\u001b[0m\u001b[0;34m:\u001b[0m \u001b[0;32mreturn\u001b[0m \u001b[0;34m[\u001b[0m\u001b[0;32mNone\u001b[0m\u001b[0;34m]\u001b[0m\u001b[0;34m\u001b[0m\u001b[0;34m\u001b[0m\u001b[0m\n\u001b[0;32m-> 1815\u001b[0;31m     \u001b[0;32mif\u001b[0m \u001b[0;32mnot\u001b[0m \u001b[0mpoint_wise\u001b[0m\u001b[0;34m(\u001b[0m\u001b[0mattn_pattern\u001b[0m\u001b[0;34m)\u001b[0m\u001b[0;34m:\u001b[0m \u001b[0;32mreturn\u001b[0m \u001b[0;34m[\u001b[0m\u001b[0;34m'attn_labels'\u001b[0m\u001b[0;34m]\u001b[0m\u001b[0;34m\u001b[0m\u001b[0;34m\u001b[0m\u001b[0m\n\u001b[0m\u001b[1;32m   1816\u001b[0m     \u001b[0;32mif\u001b[0m \u001b[0mparent\u001b[0m\u001b[0;34m.\u001b[0m\u001b[0mparent\u001b[0m \u001b[0;32mis\u001b[0m \u001b[0;32mNone\u001b[0m\u001b[0;34m:\u001b[0m  \u001b[0;32mreturn\u001b[0m \u001b[0;34m[\u001b[0m\u001b[0;34m'labels'\u001b[0m\u001b[0;34m]\u001b[0m\u001b[0;34m\u001b[0m\u001b[0;34m\u001b[0m\u001b[0m\n\u001b[1;32m   1817\u001b[0m     \u001b[0;32mreturn\u001b[0m \u001b[0;34m[\u001b[0m\u001b[0;32mNone\u001b[0m\u001b[0;34m]\u001b[0m\u001b[0;34m\u001b[0m\u001b[0;34m\u001b[0m\u001b[0m\n",
      "\u001b[0;32m/nas/xd/projects/transformers/notebooks/model_utils_wab.py\u001b[0m in \u001b[0;36mpoint_wise\u001b[0;34m(attn_pattern, label_type)\u001b[0m\n\u001b[1;32m   1807\u001b[0m \u001b[0;32mdef\u001b[0m \u001b[0mpoint_wise\u001b[0m\u001b[0;34m(\u001b[0m\u001b[0mattn_pattern\u001b[0m\u001b[0;34m,\u001b[0m \u001b[0mlabel_type\u001b[0m\u001b[0;34m=\u001b[0m\u001b[0;32mNone\u001b[0m\u001b[0;34m)\u001b[0m\u001b[0;34m:\u001b[0m\u001b[0;34m\u001b[0m\u001b[0;34m\u001b[0m\u001b[0m\n\u001b[1;32m   1808\u001b[0m     \u001b[0;32mif\u001b[0m \u001b[0mlabel_type\u001b[0m \u001b[0;32mis\u001b[0m \u001b[0;32mnot\u001b[0m \u001b[0;32mNone\u001b[0m \u001b[0;32mand\u001b[0m \u001b[0;34m'attn_labels'\u001b[0m \u001b[0;32min\u001b[0m \u001b[0mlabel_type\u001b[0m\u001b[0;34m:\u001b[0m \u001b[0;32mreturn\u001b[0m \u001b[0;32mFalse\u001b[0m\u001b[0;34m\u001b[0m\u001b[0;34m\u001b[0m\u001b[0m\n\u001b[0;32m-> 1809\u001b[0;31m     \u001b[0msrc\u001b[0m\u001b[0;34m,\u001b[0m \u001b[0mdst\u001b[0m \u001b[0;34m=\u001b[0m \u001b[0mattn_pattern\u001b[0m\u001b[0;34m.\u001b[0m\u001b[0msplit\u001b[0m\u001b[0;34m(\u001b[0m\u001b[0;34m'->'\u001b[0m\u001b[0;34m)\u001b[0m\u001b[0;34m\u001b[0m\u001b[0;34m\u001b[0m\u001b[0m\n\u001b[0m\u001b[1;32m   1810\u001b[0m     \u001b[0;32mreturn\u001b[0m \u001b[0msrc\u001b[0m \u001b[0;34m==\u001b[0m \u001b[0mdst\u001b[0m\u001b[0;34m\u001b[0m\u001b[0;34m\u001b[0m\u001b[0m\n\u001b[1;32m   1811\u001b[0m \u001b[0;34m\u001b[0m\u001b[0m\n",
      "\u001b[0;31mAttributeError\u001b[0m: 'NoneType' object has no attribute 'split'"
     ]
    }
   ],
   "source": [
    "r,input_en= predict_wab(model,tokenizer,ioi_dataset,result=r)\n",
    "if save_results: results['ioi'] = r\n",
    "if True or r.root is None: r.root = add_node(None, layer=L, label_type='labels')\n",
    "r.root = attribute_tree_on(r.data_tuples, model, r.root, 1, topk=144, k_shot=k_shot, device='cpu', verbose=True)"
   ]
  },
  {
   "cell_type": "code",
   "execution_count": null,
   "id": "28469521",
   "metadata": {},
   "outputs": [],
   "source": []
  },
  {
   "cell_type": "code",
   "execution_count": 250,
   "id": "27b83d44",
   "metadata": {},
   "outputs": [
    {
     "data": {
      "text/plain": [
       "torch.Size([1, 177])"
      ]
     },
     "execution_count": 250,
     "metadata": {},
     "output_type": "execute_result"
    }
   ],
   "source": [
    "input_en[0].size()"
   ]
  },
  {
   "cell_type": "code",
   "execution_count": 197,
   "id": "ba21357d",
   "metadata": {},
   "outputs": [
    {
     "data": {
      "text/plain": [
       "12"
      ]
     },
     "execution_count": 197,
     "metadata": {},
     "output_type": "execute_result"
    }
   ],
   "source": [
    "L"
   ]
  },
  {
   "cell_type": "code",
   "execution_count": null,
   "id": "b714b87f",
   "metadata": {},
   "outputs": [],
   "source": []
  },
  {
   "cell_type": "code",
   "execution_count": 217,
   "id": "29089a30",
   "metadata": {},
   "outputs": [
    {
     "data": {
      "text/plain": [
       "10"
      ]
     },
     "execution_count": 217,
     "metadata": {},
     "output_type": "execute_result"
    }
   ],
   "source": [
    "len(input_en[0])"
   ]
  },
  {
   "cell_type": "code",
   "execution_count": 238,
   "id": "762faabe",
   "metadata": {},
   "outputs": [
    {
     "data": {
      "text/plain": [
       "[]"
      ]
     },
     "execution_count": 238,
     "metadata": {},
     "output_type": "execute_result"
    }
   ],
   "source": [
    "r.data_tuples"
   ]
  },
  {
   "cell_type": "code",
   "execution_count": 221,
   "id": "8c44659d",
   "metadata": {},
   "outputs": [
    {
     "data": {
      "text/plain": [
       "[1, 2, 3, 3, 4, 5]"
      ]
     },
     "execution_count": 221,
     "metadata": {},
     "output_type": "execute_result"
    }
   ],
   "source": [
    "[1,2,3]+[3,4,5]"
   ]
  },
  {
   "cell_type": "code",
   "execution_count": 225,
   "id": "ff3c97b9",
   "metadata": {},
   "outputs": [
    {
     "data": {
      "text/plain": [
       "torch.Size([1, 17])"
      ]
     },
     "execution_count": 225,
     "metadata": {},
     "output_type": "execute_result"
    }
   ],
   "source": [
    "tokenizer.encode('Then, Aaron and Lindsey went to the store. Aaron gave a necklace to Lindsey'+'\\n', return_tensors='pt').size()"
   ]
  },
  {
   "cell_type": "code",
   "execution_count": 117,
   "id": "fcd9c3f0",
   "metadata": {
    "scrolled": true
   },
   "outputs": [
    {
     "data": {
      "text/plain": [
       "[[('Kevin', 'baseball'), ('Karen', 'green'), ('Donna', 'plum')],\n",
       " 'Kevin',\n",
       " (['Kevin', 'Karen', 'Donna'],\n",
       "  ['Kevin', 'Karen', 'Donna'],\n",
       "  ['baseball', 'green', 'plum'],\n",
       "  ['baseball', 'green', 'plum']),\n",
       " ('Kevin', 'baseball', 'baseball')]"
      ]
     },
     "execution_count": 117,
     "metadata": {},
     "output_type": "execute_result"
    }
   ],
   "source": [
    "all_[0][0][0]"
   ]
  },
  {
   "cell_type": "code",
   "execution_count": 114,
   "id": "b010f0c6",
   "metadata": {},
   "outputs": [
    {
     "data": {
      "text/plain": [
       "['Kevin has baseball. Karen has green. Donna has plum. Kevin likes baseball',\n",
       " 'Daniel has beetle. Jennifer has goat. Linda has peach. Daniel likes beetle',\n",
       " 'Barbara has gorilla. Karen has strawberries. William has basketball. William likes basketball',\n",
       " 'Steven has plum. Edward has vodka. Sharon has smartphone. Sharon likes smartphone',\n",
       " 'Jennifer has iPad. Jeff has beer. Sandra has revolver. Jeff likes beer',\n",
       " 'Jason has blue. Karen has pants. Kevin has goose. Karen likes pants',\n",
       " 'Robert has mouse. Deborah has mango. William has mosquito. Deborah likes mango',\n",
       " 'Jeff has bus. Margaret has T-shirt. John has kiwi. Margaret likes T-shirt',\n",
       " '']"
      ]
     },
     "execution_count": 114,
     "metadata": {},
     "output_type": "execute_result"
    }
   ],
   "source": [
    "all_[1][0]"
   ]
  },
  {
   "cell_type": "code",
   "execution_count": 115,
   "id": "f4a025fc",
   "metadata": {},
   "outputs": [
    {
     "data": {
      "text/plain": [
       "(' likes',\n",
       " ' likes',\n",
       " ' likes',\n",
       " ' likes',\n",
       " ' likes',\n",
       " ' likes',\n",
       " ' likes',\n",
       " ' likes')"
      ]
     },
     "execution_count": 115,
     "metadata": {},
     "output_type": "execute_result"
    }
   ],
   "source": [
    "all_[2][0]"
   ]
  },
  {
   "cell_type": "code",
   "execution_count": 81,
   "id": "18b3bad7",
   "metadata": {},
   "outputs": [
    {
     "data": {
      "text/plain": [
       "'gpt2/cpu'"
      ]
     },
     "execution_count": 81,
     "metadata": {},
     "output_type": "execute_result"
    }
   ],
   "source": [
    "model_name"
   ]
  },
  {
   "cell_type": "code",
   "execution_count": 86,
   "id": "b39b8f95",
   "metadata": {
    "scrolled": true
   },
   "outputs": [
    {
     "ename": "AttributeError",
     "evalue": "'NoneType' object has no attribute 'data'",
     "output_type": "error",
     "traceback": [
      "\u001b[0;31m---------------------------------------------------------------------------\u001b[0m",
      "\u001b[0;31mAttributeError\u001b[0m                            Traceback (most recent call last)",
      "\u001b[0;32m<ipython-input-86-c6b6a17a3c77>\u001b[0m in \u001b[0;36m<module>\u001b[0;34m\u001b[0m\n\u001b[0;32m----> 1\u001b[0;31m \u001b[0mr\u001b[0m\u001b[0;34m.\u001b[0m\u001b[0mroot\u001b[0m\u001b[0;34m.\u001b[0m\u001b[0mdata\u001b[0m\u001b[0;34m\u001b[0m\u001b[0;34m\u001b[0m\u001b[0m\n\u001b[0m",
      "\u001b[0;31mAttributeError\u001b[0m: 'NoneType' object has no attribute 'data'"
     ]
    }
   ],
   "source": [
    "r.root.data"
   ]
  },
  {
   "cell_type": "code",
   "execution_count": 260,
   "id": "bf273519",
   "metadata": {},
   "outputs": [
    {
     "data": {
      "text/plain": [
       "['Sh',\n",
       " 'aron',\n",
       " 'Ġhas',\n",
       " 'Ġbasketball',\n",
       " '.',\n",
       " 'ĠNancy',\n",
       " 'Ġhas',\n",
       " 'Ġgreen',\n",
       " '.',\n",
       " 'ĠChristopher',\n",
       " 'Ġhas',\n",
       " 'Ġbeetle',\n",
       " '.',\n",
       " 'ĠChristopher',\n",
       " 'Ġlikes',\n",
       " 'Ġbeetle',\n",
       " 'Ċ']"
      ]
     },
     "execution_count": 260,
     "metadata": {},
     "output_type": "execute_result"
    }
   ],
   "source": [
    "tokenizer.convert_ids_to_tokens([ 2484,  8045,   468,  9669,    13, 18496,   468,  4077,    13, 12803,\n",
    "            468, 45489,    13, 12803,  7832, 45489,   198])"
   ]
  },
  {
   "cell_type": "code",
   "execution_count": 130,
   "id": "8d7ba9d9",
   "metadata": {},
   "outputs": [
    {
     "data": {
      "text/plain": [
       "['Sharon has basketball. Nancy has green. Christopher has beetle. Christopher likes beetle\\nChristopher has iPad. James has burger. Sarah has rifle. Sarah likes rifle\\nBarbara has purple. Joseph has Jeep. Mark has guitar. Barbara likes purple\\nKenneth has grapes. Donna has burger. Anthony has basketball. Donna likes burger\\nRichard has bus. Maria has phone. Sharon has mosquito. Richard likes bus\\nLaura has kiwi. Richard has red. Nancy has goose. Richard likes red\\nMark has guitar. Jennifer has shotgun. David has shoes. Jennifer likes shotgun\\nBarbara has pear. Laura has beer. Edward has taxi. Edward likes taxi\\n',\n",
       " tensor([[ 2484,  8045,   468,  9669,    13, 18496,   468,  4077,    13, 12803,\n",
       "            468, 45489,    13, 12803,  7832, 45489,   198, 38025,   468, 13133,\n",
       "             13,  3700,   468, 26593,    13, 10490,   468, 11575,    13, 10490,\n",
       "           7832, 11575,   198, 10374, 39389,   468, 14032,    13,  7212,   468,\n",
       "          35801,    13,  2940,   468, 10047,    13, 16685,  7832, 14032,   198,\n",
       "          39324,  2788,   468, 36656,    13, 29216,   468, 26593,    13,  9953,\n",
       "            468,  9669,    13, 29216,  7832, 26593,   198, 22245,   468,  1323,\n",
       "             13, 14200,   468,  3072,    13, 26918,   468, 35446,    13,  6219,\n",
       "           7832,  1323,   198, 43687,   468,   479, 14246,    72,    13,  6219,\n",
       "            468,  2266,    13, 18496,   468, 37246,    13,  6219,  7832,  2266,\n",
       "            198,  9704,   468, 10047,    13, 16348,   468, 18607,    13,  3271,\n",
       "            468, 10012,    13, 16348,  7832, 18607,   198, 10374, 39389,   468,\n",
       "          25286,    13, 16753,   468,  6099,    13, 10443,   468, 17536,    13,\n",
       "          10443,  7832, 17536,   198]]),\n",
       " tensor([[ -100,  -100,  -100,  -100,  -100,  -100,  -100,  -100,  -100,  -100,\n",
       "           -100,  -100,  -100,  -100,  -100,  -100,  -100,  -100,  -100,  -100,\n",
       "           -100,  -100,  -100,  -100,  -100,  -100,  -100,  -100,  -100,  -100,\n",
       "           -100,  -100,  -100,  -100,  -100,  -100,  -100,  -100,  -100,  -100,\n",
       "           -100,  -100,  -100,  -100,  -100,  -100,  -100,  -100,  -100,  -100,\n",
       "           -100,  -100,  -100,  -100,  -100,  -100,  -100,  -100,  -100,  -100,\n",
       "           -100,  -100,  -100,  -100, 26593,  -100,  -100,  -100,  -100,  -100,\n",
       "           -100,  -100,  -100,  -100,  -100,  -100,  -100,  -100,  -100,  -100,\n",
       "           1323,  -100,  -100,  -100,  -100,  -100,  -100,  -100,  -100,  -100,\n",
       "           -100,  -100,  -100,  -100,  -100,  -100,  -100,  -100,  2266,  -100,\n",
       "           -100,  -100,  -100,  -100,  -100,  -100,  -100,  -100,  -100,  -100,\n",
       "           -100,  -100,  -100,  -100, 18607,  -100,  -100,  -100,  -100,  -100,\n",
       "           -100,  -100,  -100,  -100,  -100,  -100,  -100,  -100,  -100,  -100,\n",
       "           -100, 17536,  -100,  -100]]),\n",
       " [Ranges(bos=(14, 15), ans=(15, 16), ans0=(11, 12), query=(13, 14), tgt=(9, 10), sep=(12, 13), ans0s=(array([ 3,  7, 11]), array([ 4,  8, 12])), example=(0, 16)),\n",
       "  Ranges(bos=(30, 31), ans=(31, 32), ans0=(27, 28), query=(29, 30), tgt=(25, 26), sep=(28, 29), ans0s=(array([19, 23, 27]), array([20, 24, 28])), example=(17, 32)),\n",
       "  Ranges(bos=(47, 48), ans=(48, 49), ans0=(36, 37), query=(46, 47), tgt=(33, 35), sep=(37, 38), ans0s=(array([36, 40, 44]), array([37, 41, 45])), example=(33, 49)),\n",
       "  Ranges(bos=(64, 65), ans=(65, 66), ans0=(57, 58), query=(63, 64), tgt=(55, 56), sep=(58, 59), ans0s=(array([53, 57, 61]), array([54, 58, 62])), example=(50, 66)),\n",
       "  Ranges(bos=(80, 81), ans=(81, 82), ans0=(69, 70), query=(79, 80), tgt=(67, 68), sep=(70, 71), ans0s=(array([69, 73, 77]), array([70, 74, 78])), example=(67, 82)),\n",
       "  Ranges(bos=(98, 99), ans=(99, 100), ans0=(91, 92), query=(97, 98), tgt=(89, 90), sep=(92, 93), ans0s=(array([85, 91, 95]), array([88, 92, 96])), example=(83, 100)),\n",
       "  Ranges(bos=(114, 115), ans=(115, 116), ans0=(107, 108), query=(113, 114), tgt=(105, 106), sep=(108, 109), ans0s=(array([103, 107, 111]), array([104, 108, 112])), example=(101, 116)),\n",
       "  Ranges(bos=(131, 132), ans=(132, 133), ans0=(128, 129), query=(130, 131), tgt=(126, 127), sep=(129, 130), ans0s=(array([120, 124, 128]), array([121, 125, 129])), example=(117, 133))],\n",
       " ['Sharon has basketball. Nancy has green. Christopher has beetle. Christopher likes beetle',\n",
       "  'Christopher has iPad. James has burger. Sarah has rifle. Sarah likes rifle',\n",
       "  'Barbara has purple. Joseph has Jeep. Mark has guitar. Barbara likes purple',\n",
       "  'Kenneth has grapes. Donna has burger. Anthony has basketball. Donna likes burger',\n",
       "  'Richard has bus. Maria has phone. Sharon has mosquito. Richard likes bus',\n",
       "  'Laura has kiwi. Richard has red. Nancy has goose. Richard likes red',\n",
       "  'Mark has guitar. Jennifer has shotgun. David has shoes. Jennifer likes shotgun',\n",
       "  'Barbara has pear. Laura has beer. Edward has taxi. Edward likes taxi'],\n",
       " [14, 30, 47, 64, 80, 98, 114, 131],\n",
       " [16, 32, 49, 66, 82, 100, 116, 133],\n",
       " [array([45489]),\n",
       "  array([11575]),\n",
       "  array([14032]),\n",
       "  array([26593]),\n",
       "  array([1323]),\n",
       "  array([2266]),\n",
       "  array([18607]),\n",
       "  array([17536])],\n",
       " [[9669, 4077, 45489],\n",
       "  [13133, 26593, 11575],\n",
       "  [14032, 35801, 10047],\n",
       "  [36656, 26593, 9669],\n",
       "  [1323, 3072, 35446],\n",
       "  [479, 2266, 37246],\n",
       "  [10047, 18607, 10012],\n",
       "  [25286, 6099, 17536]],\n",
       " [2, 2, 0, 1, 0, 1, 1, 2],\n",
       " Outputs(inputs_embeds=tensor([[[ 0.2333,  0.0211,  0.2262,  ...,  0.0769, -0.0381, -0.1017],\n",
       "          [-0.0211,  0.2510,  0.0246,  ..., -0.0269,  0.0800,  0.3505],\n",
       "          [ 0.0200,  0.0334,  0.1343,  ...,  0.0861, -0.0962, -0.0718],\n",
       "          ...,\n",
       "          [-0.2397, -0.1179,  0.0311,  ..., -0.0036, -0.1827,  0.0676],\n",
       "          [ 0.1692, -0.0670,  0.0725,  ...,  0.0297,  0.0087, -0.0728],\n",
       "          [-0.0013,  0.0179,  0.0533,  ..., -0.0087, -0.0529, -0.0347]]]), position_embeds=tensor([[[-1.8821e-02, -1.9742e-01,  4.0267e-03,  ..., -4.3044e-02,\n",
       "            2.8267e-02,  5.4490e-02],\n",
       "          [ 2.3959e-02, -5.3792e-02, -9.4879e-02,  ...,  3.4170e-02,\n",
       "            1.0172e-02, -1.5573e-04],\n",
       "          [ 4.2161e-03, -8.4764e-02,  5.4515e-02,  ...,  1.9745e-02,\n",
       "            1.9325e-02, -2.1424e-02],\n",
       "          ...,\n",
       "          [-1.7390e-03, -1.0737e-02,  7.2557e-03,  ..., -1.5174e-03,\n",
       "           -9.7258e-04,  3.4220e-03],\n",
       "          [-4.9697e-03, -4.6667e-03,  9.7126e-05,  ...,  6.6976e-03,\n",
       "           -4.6278e-03, -3.7799e-04],\n",
       "          [-2.2039e-03, -5.2676e-03,  3.2501e-03,  ...,  2.3674e-03,\n",
       "            2.7468e-04,  3.1303e-03]]]), attn_outputs=(tensor([[[ 1.1299, -0.3603,  0.0678,  ...,  0.0041,  0.0233, -0.0792],\n",
       "          [ 0.2456,  0.0246, -0.6915,  ..., -0.0293,  0.0383, -0.0509],\n",
       "          [ 0.6003, -0.9713, -0.0702,  ..., -0.0061,  0.0587, -0.0364],\n",
       "          ...,\n",
       "          [-0.5694, -0.0841,  0.9560,  ..., -0.0329, -0.0730,  0.0115],\n",
       "          [ 0.6428,  0.6697, -0.4212,  ..., -0.0290, -0.0689,  0.0022],\n",
       "          [-0.2484, -0.3417,  0.0992,  ..., -0.0751, -0.0037, -0.0433]]]), tensor([[[-1.7801e-01, -2.6479e-01,  3.3834e-01,  ..., -1.7558e-01,\n",
       "            1.8202e-02, -1.5941e-01],\n",
       "          [-3.4746e-02, -3.6946e-02,  8.3222e-02,  ...,  1.2494e-01,\n",
       "           -1.2620e-01, -2.9505e-01],\n",
       "          [-1.7111e-01,  1.0235e-01, -1.9252e-01,  ..., -3.5515e-01,\n",
       "            1.8567e-05, -2.6409e-01],\n",
       "          ...,\n",
       "          [-3.7970e-01, -3.5525e-01, -2.0320e-01,  ..., -2.0969e-01,\n",
       "            6.9749e-03, -8.0374e-02],\n",
       "          [-1.6948e-01, -1.3298e-02, -6.2778e-01,  ...,  1.6583e-02,\n",
       "           -5.3946e-01,  6.3072e-02],\n",
       "          [-6.7421e-01, -6.4050e-02, -4.7202e-01,  ...,  2.3618e-01,\n",
       "           -1.3570e-01, -1.6647e-02]]]), tensor([[[ 0.0232, -0.1879, -0.0563,  ..., -0.0054,  0.0791, -0.0434],\n",
       "          [ 0.0170, -0.1667, -0.0285,  ..., -0.0279,  0.1032,  0.0055],\n",
       "          [-0.1780, -0.1806, -0.0036,  ...,  0.2076,  0.0652, -0.0466],\n",
       "          ...,\n",
       "          [-0.2215,  0.3369,  0.5238,  ..., -0.0247,  0.1782,  0.0396],\n",
       "          [ 0.0946,  0.4766,  0.0431,  ..., -0.2041,  0.0538, -0.0400],\n",
       "          [ 0.1246,  0.1782,  0.2082,  ..., -0.2855,  0.2409, -0.0551]]]), tensor([[[ 5.6027e-02,  2.1300e-02,  1.1987e-01,  ...,  4.5229e-02,\n",
       "           -1.1977e-02, -9.7446e-02],\n",
       "          [ 4.1704e-02, -1.3281e-02,  9.8881e-02,  ...,  6.8413e-04,\n",
       "            5.5770e-03, -6.4054e-02],\n",
       "          [ 7.7619e-02, -2.0922e-01,  1.1497e-01,  ...,  3.4636e-01,\n",
       "           -1.6789e-01, -1.8535e-01],\n",
       "          ...,\n",
       "          [ 8.9822e-02, -3.9782e-01,  8.3412e-01,  ..., -1.1605e+00,\n",
       "            5.1425e-01, -9.9973e-02],\n",
       "          [ 1.7577e-01,  2.5655e-01, -1.0699e-01,  ...,  1.2353e-01,\n",
       "           -7.0439e-02, -2.9716e-01],\n",
       "          [ 1.6938e-01, -6.0603e-01, -7.3943e-02,  ..., -3.4114e-01,\n",
       "            3.0639e-01, -3.5514e-01]]]), tensor([[[-1.3209e-01, -1.6887e-01,  1.9022e-02,  ..., -9.8624e-02,\n",
       "           -1.1422e-01,  8.5553e-03],\n",
       "          [-9.0442e-02, -1.2202e-01, -2.7128e-02,  ..., -4.2524e-02,\n",
       "           -1.2972e-01, -9.2323e-02],\n",
       "          [-2.8250e-01, -1.4175e-01, -2.7508e-02,  ...,  4.9862e-01,\n",
       "           -3.2075e-01, -3.8763e-01],\n",
       "          ...,\n",
       "          [ 3.4381e-01, -1.1893e-01,  1.0375e+00,  ..., -1.5115e-01,\n",
       "           -6.0553e-02, -3.0382e-01],\n",
       "          [-1.0602e-01,  4.8783e-01,  1.1798e-01,  ..., -7.9388e-01,\n",
       "           -4.4920e-01,  1.8489e-01],\n",
       "          [ 6.1263e-01, -2.2041e-01,  5.7683e-01,  ..., -9.3718e-01,\n",
       "            6.5321e-04, -3.3994e-01]]]), tensor([[[-0.0319, -0.1290,  0.1016,  ..., -0.0415, -0.0621, -0.0059],\n",
       "          [-0.0519, -0.1274,  0.1018,  ..., -0.0176, -0.0491,  0.0196],\n",
       "          [ 0.0572, -0.1297,  0.1366,  ...,  0.2914, -0.3023,  0.0354],\n",
       "          ...,\n",
       "          [ 0.0093,  1.2711,  0.3809,  ..., -1.1326,  1.0941,  0.3862],\n",
       "          [ 0.4717, -0.2641, -0.5786,  ...,  0.0913,  0.6369,  0.2593],\n",
       "          [ 0.6054,  0.2407, -0.8528,  ..., -0.3612,  0.1321, -0.4665]]]), tensor([[[-0.0279, -0.0163,  0.0956,  ..., -0.0764, -0.0860, -0.0459],\n",
       "          [-0.1228,  0.0239,  0.0523,  ..., -0.0265, -0.0077, -0.0644],\n",
       "          [-0.2126, -0.0680,  0.1235,  ...,  0.2438, -0.0813, -0.0621],\n",
       "          ...,\n",
       "          [ 0.2453,  0.2796,  1.2752,  ..., -0.1392, -0.1406,  0.6913],\n",
       "          [-0.0390,  0.1501,  1.0465,  ..., -1.3382,  0.2034,  1.4287],\n",
       "          [ 0.1944, -0.2896, -0.1558,  ..., -1.2890, -0.3077, -0.5334]]]), tensor([[[-0.0518,  0.0107,  0.0342,  ..., -0.0073, -0.1949, -0.1594],\n",
       "          [-0.0379, -0.0450, -0.0097,  ..., -0.0417, -0.1779, -0.1450],\n",
       "          [-0.0405, -0.0806, -0.1030,  ..., -0.0096, -0.1477, -0.3261],\n",
       "          ...,\n",
       "          [-1.1815,  2.3640, -0.2921,  ..., -1.9151,  0.1204,  0.5830],\n",
       "          [ 0.1302,  1.9551, -1.6285,  ..., -0.3102, -1.2327, -1.5946],\n",
       "          [ 1.5817,  0.5234,  0.0435,  ..., -0.7296, -0.3222, -0.6570]]]), tensor([[[-0.0169,  0.0382,  0.0267,  ...,  0.0229, -0.0278, -0.1141],\n",
       "          [ 0.0931,  0.0823, -0.0380,  ..., -0.0613,  0.0835, -0.1106],\n",
       "          [-0.0664,  0.0356,  0.0304,  ..., -0.0141,  0.1775, -0.2455],\n",
       "          ...,\n",
       "          [ 2.1702, -0.2169,  0.4039,  ...,  0.7693,  0.0197, -1.2945],\n",
       "          [-0.1758,  1.2031, -1.6944,  ..., -0.5016, -0.1604, -0.1912],\n",
       "          [ 0.0847,  1.0542,  0.1064,  ..., -0.6515, -0.3788, -0.7394]]]), tensor([[[-5.4771e-02,  7.9978e-02, -8.9678e-04,  ...,  1.1016e-01,\n",
       "            1.2481e-02, -1.7707e-01],\n",
       "          [-7.2442e-02,  2.2819e-02,  2.9282e-02,  ...,  1.9388e-01,\n",
       "            5.9811e-02, -2.6661e-01],\n",
       "          [-4.1929e-02,  1.0715e-01, -6.5274e-03,  ..., -1.2802e-02,\n",
       "            1.2494e-01, -2.2747e-01],\n",
       "          ...,\n",
       "          [ 9.9717e-01,  1.7439e+00,  6.4819e-01,  ...,  1.4645e+00,\n",
       "           -1.1679e+00,  2.0137e-01],\n",
       "          [ 7.6531e-01,  3.4918e-01,  2.3357e-02,  ..., -2.5864e+00,\n",
       "           -1.2567e+00, -5.7157e-02],\n",
       "          [ 5.9379e-01,  1.8630e+00, -6.3002e-02,  ...,  9.2622e-01,\n",
       "            2.4032e-02, -2.9143e+00]]]), tensor([[[ 0.1044,  0.0666, -0.1124,  ...,  0.1014,  0.0422, -0.1574],\n",
       "          [ 0.1097,  0.0063, -0.0385,  ...,  0.1935,  0.1049, -0.2215],\n",
       "          [ 0.1097,  0.0620, -0.1889,  ...,  0.0501,  0.2348, -0.2953],\n",
       "          ...,\n",
       "          [ 1.2281,  1.2913,  1.1438,  ..., -0.7992, -1.2941, -0.1441],\n",
       "          [ 1.5462,  0.8213, -0.1056,  ...,  0.3383, -0.5939, -0.4526],\n",
       "          [ 0.8209,  0.5505,  0.8591,  ..., -0.3712, -0.4526, -0.8463]]]), tensor([[[ 0.0742, -0.0633, -0.2776,  ...,  0.0831,  0.1752, -0.0638],\n",
       "          [ 0.2851, -0.8119, -0.4342,  ...,  0.3640, -1.0343, -0.3055],\n",
       "          [-0.5981, -0.1498, -0.0889,  ...,  0.0766,  0.0704,  0.4318],\n",
       "          ...,\n",
       "          [ 1.9939, -0.5221,  0.8995,  ...,  1.4060, -1.1474,  1.7378],\n",
       "          [ 1.0823,  2.6074,  0.3244,  ...,  2.3051,  1.0784,  2.6361],\n",
       "          [ 0.2627,  1.1161, -0.0402,  ...,  1.0524, -0.0143,  0.1202]]])), values=(tensor([[[[-1.1847e-04,  3.3291e-02, -1.4984e-02,  ..., -7.2944e-02,\n",
       "            -2.0783e-02, -6.1449e-02],\n",
       "           [ 3.1109e-01, -1.6035e-01,  1.7214e-01,  ...,  3.2303e-01,\n",
       "             1.2723e-01, -3.3519e-01],\n",
       "           [ 3.0878e-01, -2.2705e-01,  2.4675e-01,  ...,  9.0356e-02,\n",
       "             2.4613e-03, -1.3335e-01],\n",
       "           ...,\n",
       "           [ 5.6409e-02,  1.6597e-01,  7.0898e-02,  ...,  2.9795e-02,\n",
       "             1.5478e-02, -9.1647e-02],\n",
       "           [ 3.1207e-01,  5.4660e-02, -6.1814e-02,  ..., -4.6358e-01,\n",
       "            -2.9317e-01,  7.7388e-02],\n",
       "           [ 1.4012e-01,  7.1293e-02, -8.6185e-02,  ..., -3.0293e-01,\n",
       "             1.8044e-01, -3.9680e-02]],\n",
       " \n",
       "          [[ 4.3274e-01,  2.0474e-01, -2.2168e-01,  ..., -5.4821e-01,\n",
       "            -3.0565e-01,  1.9585e-01],\n",
       "           [ 6.5513e-02, -1.6872e-01,  8.2121e-02,  ...,  1.4646e-01,\n",
       "             4.1621e-01, -3.2950e-01],\n",
       "           [ 5.1202e-01,  2.0270e-01,  1.7442e-02,  ..., -9.0140e-02,\n",
       "             1.3011e-01,  6.8756e-02],\n",
       "           ...,\n",
       "           [ 1.8679e-01,  2.7935e-01,  3.0940e-02,  ..., -1.0337e-01,\n",
       "            -1.1485e-01,  1.4223e-02],\n",
       "           [ 4.7797e-02,  1.6825e-01,  2.2121e-01,  ..., -2.5495e-01,\n",
       "            -5.0404e-02, -2.7282e-01],\n",
       "           [ 7.7979e-01, -2.0376e-02,  9.8024e-02,  ...,  2.2000e-01,\n",
       "             7.1310e-01,  9.4457e-02]],\n",
       " \n",
       "          [[ 9.9316e-02, -1.2398e-01, -6.2201e-02,  ..., -4.9502e-02,\n",
       "             1.6201e-02, -3.2871e-02],\n",
       "           [ 2.2618e-01, -1.3610e-01,  7.3306e-02,  ...,  4.9109e-02,\n",
       "            -3.6152e-03,  3.9737e-01],\n",
       "           [ 2.7140e-01,  1.1757e-01,  1.1647e-01,  ..., -1.0229e-01,\n",
       "             1.2801e-01,  6.3958e-02],\n",
       "           ...,\n",
       "           [ 4.1977e-01,  2.3833e-01,  3.8813e-01,  ..., -2.9876e-02,\n",
       "             7.5458e-03, -3.8222e-02],\n",
       "           [ 2.3959e-01,  1.3700e-01, -3.0759e-01,  ...,  1.6901e-01,\n",
       "             4.9032e-01, -7.2970e-02],\n",
       "           [-2.1554e-01,  7.0420e-02,  3.0099e-01,  ..., -9.5814e-02,\n",
       "             1.8790e-01,  1.8973e-01]],\n",
       " \n",
       "          ...,\n",
       " \n",
       "          [[-6.8696e-02, -5.0395e-02, -4.3419e-02,  ..., -4.1643e-02,\n",
       "             1.2400e-01,  1.3517e-01],\n",
       "           [-1.7690e-01,  4.3164e-01,  7.1420e-02,  ...,  2.5657e-01,\n",
       "             1.2379e-01,  2.2040e-01],\n",
       "           [-2.6857e-01,  3.7379e-01,  1.3696e-01,  ...,  1.5704e-01,\n",
       "            -1.8988e-01,  2.7872e-03],\n",
       "           ...,\n",
       "           [ 3.3855e-01,  2.7492e-01,  1.8129e-01,  ...,  4.2749e-02,\n",
       "             1.5098e-01, -2.0698e-01],\n",
       "           [ 3.9354e-01,  4.0284e-01,  2.9563e-01,  ...,  6.6839e-01,\n",
       "            -2.2188e-01, -2.5308e-01],\n",
       "           [ 5.2064e-02, -4.1293e-01, -6.8267e-02,  ..., -6.9292e-02,\n",
       "            -3.8814e-02,  4.3377e-02]],\n",
       " \n",
       "          [[ 1.5045e-01, -1.8184e-01, -9.4746e-02,  ...,  1.0344e-01,\n",
       "             7.2512e-02, -1.5019e-01],\n",
       "           [-2.0127e-01,  2.8161e-02,  3.2311e-01,  ..., -2.7793e-01,\n",
       "             4.5275e-03,  2.0916e-01],\n",
       "           [-1.3243e-01, -7.9309e-02,  9.9101e-02,  ..., -4.8035e-01,\n",
       "            -2.5451e-01, -4.2745e-02],\n",
       "           ...,\n",
       "           [-1.9478e-01,  4.4727e-02, -9.1035e-02,  ..., -2.4118e-01,\n",
       "            -1.7228e-01, -1.6972e-01],\n",
       "           [ 4.1290e-03, -1.2723e-02,  3.8987e-01,  ...,  3.1300e-01,\n",
       "            -2.1831e-02, -9.5543e-03],\n",
       "           [ 6.4490e-02, -2.2580e-01,  2.2483e-01,  ...,  1.6509e-01,\n",
       "             2.5401e-01,  2.5464e-01]],\n",
       " \n",
       "          [[-4.0724e-03, -3.5744e-01,  2.4308e-01,  ...,  1.5436e-01,\n",
       "            -3.6726e-01, -3.8139e-02],\n",
       "           [ 1.6614e-01,  2.2337e-01, -1.4156e-01,  ...,  9.8523e-02,\n",
       "             2.5323e-01,  2.6665e-01],\n",
       "           [-9.4936e-02,  1.4217e-02, -8.8128e-02,  ...,  1.1109e-01,\n",
       "             4.1126e-01,  6.2432e-02],\n",
       "           ...,\n",
       "           [-8.7986e-02,  5.5240e-02, -7.4409e-02,  ..., -2.2804e-01,\n",
       "            -2.4451e-01,  2.4517e-01],\n",
       "           [ 7.8528e-02,  2.5896e-01,  1.1766e-02,  ..., -3.7167e-01,\n",
       "            -3.4213e-01,  6.2217e-01],\n",
       "           [-1.3271e-01, -8.8295e-02,  5.9600e-02,  ...,  6.2701e-02,\n",
       "            -1.9552e-01,  5.7903e-02]]]]), tensor([[[[ 3.8704e-01, -2.3697e-01, -1.0878e-01,  ..., -3.7238e-01,\n",
       "            -4.7708e-01, -1.3522e-01],\n",
       "           [-4.3031e-02, -1.2137e-01,  1.0377e-01,  ...,  1.0073e-01,\n",
       "             1.9708e-01,  1.7288e-01],\n",
       "           [-1.2176e-01,  4.3727e-01, -8.6392e-02,  ..., -2.3422e-01,\n",
       "             9.7477e-02, -1.8547e-01],\n",
       "           ...,\n",
       "           [-4.5998e-01,  1.6883e-01, -1.1103e-01,  ..., -5.8777e-01,\n",
       "             7.8742e-02,  6.0715e-01],\n",
       "           [-4.2458e-01,  4.4472e-02, -2.1588e-02,  ...,  6.6634e-01,\n",
       "            -3.5377e-01, -4.3254e-01],\n",
       "           [ 1.3393e-01,  4.8025e-02,  3.6016e-01,  ...,  1.1610e-01,\n",
       "            -2.9121e-01, -2.7297e-01]],\n",
       " \n",
       "          [[ 5.3845e-02, -1.6357e-02,  1.9031e-01,  ...,  3.1311e-01,\n",
       "            -4.6882e-01, -2.8125e-02],\n",
       "           [-3.3055e-02, -1.7284e-01, -4.1248e-01,  ..., -3.1336e-03,\n",
       "             1.3256e-01,  5.8538e-01],\n",
       "           [ 3.2166e-01, -1.9859e-01,  3.6632e-01,  ..., -1.3194e-01,\n",
       "             1.8156e-01,  9.0483e-02],\n",
       "           ...,\n",
       "           [ 3.3486e-03, -2.6283e-01,  7.4814e-01,  ..., -3.4038e-01,\n",
       "             2.3892e-02,  1.7708e-01],\n",
       "           [-1.2661e-02,  3.8019e-01,  1.0227e-01,  ...,  2.0809e-01,\n",
       "             9.2211e-03, -1.8516e-02],\n",
       "           [ 3.1095e-01, -5.2889e-02,  2.0860e-01,  ..., -1.6595e-02,\n",
       "            -3.2480e-01, -1.5719e-01]],\n",
       " \n",
       "          [[ 4.7731e-02, -2.6618e-01, -1.4728e-02,  ..., -5.1581e-01,\n",
       "            -1.3153e-01, -8.1607e-02],\n",
       "           [ 7.4790e-01,  7.4319e-02, -1.1102e-02,  ..., -6.7828e-01,\n",
       "             2.5700e-02,  1.6247e-01],\n",
       "           [ 6.7586e-01,  7.7915e-02,  3.4640e-01,  ..., -7.6259e-01,\n",
       "            -2.7322e-02, -4.0111e-02],\n",
       "           ...,\n",
       "           [-1.1198e+00,  1.3286e-01,  3.7970e-01,  ..., -8.0849e-01,\n",
       "            -2.0560e-01,  7.5791e-01],\n",
       "           [-9.2836e-01,  2.1068e-01, -2.4085e-01,  ..., -6.9315e-01,\n",
       "             1.4384e-01,  4.0767e-01],\n",
       "           [-1.4090e+00,  1.4828e-02,  2.9334e-01,  ..., -7.4662e-01,\n",
       "             2.1933e-02, -1.1534e-01]],\n",
       " \n",
       "          ...,\n",
       " \n",
       "          [[ 3.7003e-01,  6.6668e-01, -2.3362e-01,  ...,  1.4801e-01,\n",
       "            -1.0121e+00, -3.2230e-02],\n",
       "           [-2.3776e-01,  4.9950e-01,  4.9272e-02,  ...,  1.7612e-02,\n",
       "            -6.3871e-01, -2.0061e-01],\n",
       "           [ 1.3340e-01, -1.1898e-03, -3.0873e-01,  ...,  1.2122e-01,\n",
       "            -2.9925e-01, -3.1634e-01],\n",
       "           ...,\n",
       "           [-1.4702e-01, -5.4100e-02,  2.9147e-01,  ...,  1.7729e-01,\n",
       "             1.2772e-01,  3.0403e-01],\n",
       "           [-5.0955e-01, -6.7940e-01, -1.4953e-01,  ...,  6.3999e-01,\n",
       "            -4.7517e-03, -6.8283e-01],\n",
       "           [ 2.6942e-01, -1.4433e+00,  1.9540e-01,  ..., -1.5209e-01,\n",
       "            -1.9719e-01, -2.5790e-01]],\n",
       " \n",
       "          [[ 1.3526e-01, -1.0313e-01, -1.3085e-01,  ...,  3.4294e-01,\n",
       "            -3.5615e+00, -1.1931e-01],\n",
       "           [-1.2682e-01, -8.1942e-02,  2.3223e-02,  ...,  2.3706e-01,\n",
       "             2.0128e-01, -4.5870e-01],\n",
       "           [-1.0492e-02, -1.3714e-01, -3.1075e-01,  ...,  2.1908e-01,\n",
       "             5.7841e-02,  3.2373e-01],\n",
       "           ...,\n",
       "           [-6.5126e-01, -3.5930e-01,  1.6448e-01,  ..., -2.4738e-01,\n",
       "             2.2072e-02,  3.4391e-01],\n",
       "           [-2.2037e-01, -9.2188e-02,  2.1505e-01,  ..., -7.2382e-01,\n",
       "             2.8276e-01,  2.0328e-01],\n",
       "           [-1.5014e-01, -3.8102e-01,  1.8896e-01,  ..., -3.7896e-01,\n",
       "             1.0833e-01, -8.7908e-02]],\n",
       " \n",
       "          [[ 1.2069e-02, -1.6127e-01,  4.4710e-02,  ..., -2.5060e-01,\n",
       "             1.1916e-01, -1.2552e-01],\n",
       "           [ 1.3270e-01,  1.2181e-01,  1.8885e-01,  ..., -2.1614e-01,\n",
       "             3.2265e-01,  9.3508e-02],\n",
       "           [-8.6736e-02, -2.6578e-01,  8.9788e-02,  ..., -1.4048e-01,\n",
       "             9.6908e-02,  1.4780e-01],\n",
       "           ...,\n",
       "           [-3.2825e-02,  1.2342e-01,  1.0639e-01,  ..., -2.3321e-01,\n",
       "             7.2479e-02,  1.2357e-01],\n",
       "           [ 1.1325e-01,  1.9757e-01,  1.9158e-01,  ..., -1.8283e-01,\n",
       "            -1.7428e-01,  2.4443e-01],\n",
       "           [ 4.1625e-01,  2.3664e-01,  2.0181e-01,  ..., -7.9781e-02,\n",
       "             1.2040e-01, -3.4165e-01]]]]), tensor([[[[-0.0532, -0.0270, -0.1448,  ..., -0.0127,  0.0076, -0.5393],\n",
       "           [-0.2269, -0.6662,  0.0879,  ...,  0.5880, -0.0409,  1.1131],\n",
       "           [ 0.9395, -0.3810,  0.2416,  ..., -0.0578,  0.2698,  0.9606],\n",
       "           ...,\n",
       "           [ 0.2108, -0.8979,  0.2050,  ..., -0.1154,  0.1150,  0.4562],\n",
       "           [ 0.3290, -1.2957,  0.6867,  ...,  0.3534,  0.8555, -0.2355],\n",
       "           [ 0.3951,  0.6082, -0.4954,  ..., -0.3049, -0.2494, -0.8827]],\n",
       " \n",
       "          [[ 0.0626, -0.0437,  0.0341,  ...,  0.0097, -0.0063,  0.0516],\n",
       "           [ 0.3515,  0.5786, -0.3801,  ..., -0.0102, -0.2610,  0.2937],\n",
       "           [-0.1350,  0.0663,  0.2732,  ..., -0.0196, -0.1742,  0.0640],\n",
       "           ...,\n",
       "           [ 0.2741,  0.3282,  0.5920,  ...,  0.8052, -0.6920, -0.8157],\n",
       "           [ 0.5454,  0.7723,  0.4249,  ...,  1.6105, -0.0271, -0.3621],\n",
       "           [ 0.0890,  0.2927,  0.1869,  ...,  0.0291, -0.2232,  0.0476]],\n",
       " \n",
       "          [[ 0.0282, -0.7207, -0.0122,  ...,  0.0753, -0.0096, -0.0424],\n",
       "           [ 0.4169, -1.2305, -0.0295,  ..., -0.5422,  0.4193,  0.1087],\n",
       "           [ 0.2280, -0.6546,  0.0506,  ..., -0.6756,  0.0792, -0.0091],\n",
       "           ...,\n",
       "           [-0.1573, -1.0217, -0.3896,  ..., -0.4154, -0.5504,  0.2763],\n",
       "           [ 0.0035, -1.8992, -0.4031,  ...,  0.2171,  0.2280, -0.2613],\n",
       "           [ 0.1742, -1.1714, -0.0515,  ..., -0.1645,  0.0471,  0.0505]],\n",
       " \n",
       "          ...,\n",
       " \n",
       "          [[ 0.0278, -0.0721,  1.3063,  ..., -0.0069,  0.1797, -0.0107],\n",
       "           [-0.1589,  0.3534,  1.4693,  ..., -0.2497, -0.0590,  0.5595],\n",
       "           [-0.3945, -0.4151,  2.1733,  ...,  0.4168, -0.0335,  0.0213],\n",
       "           ...,\n",
       "           [ 0.2165, -0.6244,  2.0341,  ...,  0.3852,  0.0838, -0.4693],\n",
       "           [ 0.1451,  0.1134,  1.0263,  ...,  0.1873,  0.1549, -0.0484],\n",
       "           [ 0.1383, -0.1903,  2.1745,  ...,  0.0613,  0.1164,  0.1022]],\n",
       " \n",
       "          [[ 0.0301, -0.0745, -0.1560,  ...,  0.1271,  0.1116,  0.2204],\n",
       "           [ 0.9760,  0.1463, -0.0278,  ...,  0.7899, -0.7113, -0.6216],\n",
       "           [-0.1328,  0.2934, -0.2788,  ...,  0.5801, -0.8089, -0.6676],\n",
       "           ...,\n",
       "           [-0.2505, -0.3901, -0.1379,  ..., -0.3756, -0.2008,  0.1691],\n",
       "           [-0.4467, -0.1397, -0.4693,  ..., -0.1538,  0.0791, -0.1365],\n",
       "           [-1.3271,  1.2136,  0.7119,  ...,  0.1407,  0.9004,  1.3027]],\n",
       " \n",
       "          [[ 0.0349,  0.0229,  0.0046,  ..., -0.0116,  0.2300,  0.0042],\n",
       "           [ 0.6761,  0.5146,  0.3821,  ..., -0.1508, -2.1791,  0.2968],\n",
       "           [ 0.0511, -0.4347, -0.0337,  ...,  0.2329, -1.7151,  0.5288],\n",
       "           ...,\n",
       "           [-0.1830,  0.0133, -0.1230,  ...,  0.2400,  0.1484, -0.2080],\n",
       "           [-0.1524, -0.1123, -0.1807,  ...,  0.1871,  0.8313, -0.2498],\n",
       "           [-0.7281,  0.0092, -0.2634,  ..., -0.1641,  0.8360,  0.0472]]]]), tensor([[[[ 4.4777e-02,  6.1736e-02,  4.5288e-03,  ...,  1.4945e-02,\n",
       "             9.5080e-02,  3.7487e-02],\n",
       "           [ 6.5602e-01, -1.9701e+00,  1.2711e+00,  ...,  4.0591e-01,\n",
       "            -6.2192e-01, -1.3342e+00],\n",
       "           [ 6.6731e-01, -7.7514e-01,  1.2418e-01,  ...,  8.7666e-01,\n",
       "            -8.9471e-01, -5.6075e-01],\n",
       "           ...,\n",
       "           [-7.1003e-02, -3.4950e-02, -4.4706e-01,  ...,  1.0802e+00,\n",
       "             5.3552e-01, -2.7706e-01],\n",
       "           [ 1.1683e-01, -2.0329e-01,  7.6676e-02,  ...,  7.4703e-01,\n",
       "            -4.3689e-01, -4.6170e-01],\n",
       "           [ 2.1454e-01, -6.5126e-01, -1.3340e-01,  ...,  1.9814e-01,\n",
       "             2.5903e-01,  2.6582e-01]],\n",
       " \n",
       "          [[-4.4544e-02,  1.8459e-02,  7.8195e-02,  ..., -4.6270e-02,\n",
       "            -4.6382e-02, -4.3679e-02],\n",
       "           [ 1.3128e-02, -3.2412e-01,  1.9814e-01,  ..., -1.5123e-01,\n",
       "            -2.7947e-01,  4.5490e-01],\n",
       "           [ 7.2659e-01,  3.2218e-01,  1.6224e-01,  ...,  8.1789e-02,\n",
       "            -1.9295e-01,  1.4080e-01],\n",
       "           ...,\n",
       "           [ 3.0299e-01, -1.7232e-01, -2.3253e-01,  ...,  1.8314e-01,\n",
       "            -3.0414e-01,  4.1025e-01],\n",
       "           [-7.4442e-01, -1.4711e+00, -1.2569e-03,  ...,  9.4574e-01,\n",
       "            -5.7533e-03, -5.2512e-02],\n",
       "           [ 3.5598e-01, -6.1428e-02, -3.7711e-01,  ..., -5.5408e-01,\n",
       "             1.4255e-01,  8.1155e-02]],\n",
       " \n",
       "          [[ 3.5131e-02, -1.1294e-01, -5.8433e-02,  ..., -2.1699e-02,\n",
       "             7.9027e-02, -1.5214e-01],\n",
       "           [-4.0685e-01,  3.5267e-01,  4.4867e-02,  ...,  4.6987e-01,\n",
       "            -9.4435e-02,  7.3698e-02],\n",
       "           [-4.5201e-01, -8.1751e-02, -4.8971e-01,  ...,  2.4530e-01,\n",
       "             4.5467e-02, -4.2068e-02],\n",
       "           ...,\n",
       "           [-3.0625e-01,  1.9653e-01, -6.4281e-01,  ..., -4.0645e-03,\n",
       "            -1.9581e-01, -1.0527e-01],\n",
       "           [ 7.6802e-01,  2.1392e-01,  1.7733e-01,  ...,  1.9340e-01,\n",
       "            -5.9342e-01, -1.0645e-01],\n",
       "           [ 5.2460e-01, -9.2949e-02, -4.1877e-01,  ..., -2.0780e-01,\n",
       "             1.3590e-01, -2.2614e-01]],\n",
       " \n",
       "          ...,\n",
       " \n",
       "          [[-1.3175e-02,  1.2224e-01, -4.5414e-04,  ..., -2.2372e-02,\n",
       "             6.9072e-02, -4.5019e-02],\n",
       "           [-4.1225e-01, -1.0221e+00, -3.7388e-01,  ...,  2.7127e-01,\n",
       "            -2.1710e-01,  5.9602e-01],\n",
       "           [-2.3256e-01, -1.8267e-01,  1.1032e-02,  ..., -5.2206e-01,\n",
       "            -2.8154e-01,  2.1857e-01],\n",
       "           ...,\n",
       "           [ 3.8345e-01,  7.0990e-02, -1.2414e-01,  ..., -7.8689e-02,\n",
       "             5.3496e-02, -4.5400e-02],\n",
       "           [-1.5138e-01,  2.9712e-01, -3.0970e-01,  ...,  1.0515e-01,\n",
       "             1.1514e-01,  1.4064e-01],\n",
       "           [ 1.7653e-02, -4.5453e-01,  6.3744e-01,  ...,  3.1494e-01,\n",
       "             2.3591e-01,  3.5138e-01]],\n",
       " \n",
       "          [[-1.7241e-01, -1.2401e-01, -7.3385e-02,  ..., -2.3747e-01,\n",
       "            -2.2798e-02, -4.5728e-02],\n",
       "           [-8.6524e-01,  1.4728e-01, -6.1232e-01,  ...,  1.0301e+00,\n",
       "            -1.6543e-01, -1.3924e-01],\n",
       "           [ 4.0474e-01,  4.8294e-01, -5.9091e-01,  ...,  7.0325e-01,\n",
       "             3.0997e-01,  1.6931e+00],\n",
       "           ...,\n",
       "           [ 5.4689e-01,  2.7121e-01, -4.6984e-01,  ..., -9.7977e-01,\n",
       "             1.3782e+00,  8.1517e-01],\n",
       "           [ 4.8717e-01,  4.1237e-01,  9.6369e-02,  ..., -6.0370e-01,\n",
       "             5.0771e-01, -1.9860e-01],\n",
       "           [ 3.6854e-01,  1.6971e-01, -1.1481e+00,  ...,  3.9766e-01,\n",
       "            -4.4928e-01,  5.7860e-01]],\n",
       " \n",
       "          [[ 1.2600e-01, -6.7216e-02, -2.9149e-02,  ..., -9.5827e-03,\n",
       "            -9.1333e-02, -1.0246e-01],\n",
       "           [-4.7400e-02,  1.6245e-03,  1.9191e-01,  ...,  8.6812e-02,\n",
       "             3.3001e-01, -4.7683e-01],\n",
       "           [ 9.7243e-02, -1.7377e-01,  2.4355e-02,  ..., -7.8987e-01,\n",
       "            -6.1666e-01,  4.6234e-01],\n",
       "           ...,\n",
       "           [-3.6777e-01, -1.7953e-01,  6.0180e-02,  ..., -3.9586e-01,\n",
       "             2.2350e-01, -1.8099e-01],\n",
       "           [ 3.1726e-03,  1.7589e-01,  3.0582e-01,  ...,  1.0289e-01,\n",
       "            -8.9347e-02, -5.0710e-01],\n",
       "           [ 2.9033e-02, -7.4004e-02, -7.9342e-02,  ...,  9.9773e-03,\n",
       "            -3.0874e-01, -2.4764e-02]]]]), tensor([[[[-0.0067, -0.0390,  0.0190,  ...,  0.0640,  0.0278,  0.0629],\n",
       "           [ 0.2232, -0.4438,  0.2691,  ...,  0.0857,  0.0747, -0.3373],\n",
       "           [-0.0041, -0.2289,  0.0811,  ..., -0.0750,  0.0075, -0.1490],\n",
       "           ...,\n",
       "           [ 0.2675,  0.6789, -0.1922,  ...,  0.0119, -0.2388, -0.5563],\n",
       "           [-0.2650, -0.6304, -0.1314,  ...,  0.2814,  0.0088, -0.0563],\n",
       "           [ 0.2318, -0.2329,  0.0443,  ..., -0.0678, -0.0077,  0.3265]],\n",
       " \n",
       "          [[-0.0576, -0.0099, -0.1370,  ..., -0.0346,  0.0512, -0.0128],\n",
       "           [ 0.2036,  0.0983, -0.4076,  ...,  0.6100, -0.2818,  0.3949],\n",
       "           [ 0.5966, -0.1121, -0.1569,  ..., -0.3657,  0.0473, -0.3349],\n",
       "           ...,\n",
       "           [-0.2142, -0.4362,  0.0831,  ...,  0.0663,  0.6093,  0.3186],\n",
       "           [ 0.1931, -0.2255,  0.3684,  ...,  0.7579,  0.7408,  0.6098],\n",
       "           [ 0.3150, -0.5680,  0.1089,  ...,  0.1769, -0.1476, -0.3339]],\n",
       " \n",
       "          [[ 0.0604,  0.0878,  0.0924,  ...,  0.0208, -0.0688, -0.0054],\n",
       "           [-0.0889,  0.7905, -0.4480,  ...,  1.0529,  0.8308, -0.1598],\n",
       "           [-0.1727,  0.3757, -0.1961,  ...,  0.6630, -0.7226, -0.2170],\n",
       "           ...,\n",
       "           [ 1.1409, -0.4402,  0.0886,  ..., -0.1517, -0.8935, -0.6257],\n",
       "           [ 0.3342,  0.6347,  1.0474,  ...,  0.2669,  0.3308,  0.5898],\n",
       "           [ 0.0255, -0.3946, -0.9663,  ...,  0.1683, -0.5719, -0.0779]],\n",
       " \n",
       "          ...,\n",
       " \n",
       "          [[-0.0070,  0.0802, -0.0752,  ...,  0.0503,  0.0462, -0.1375],\n",
       "           [ 0.2410,  0.5508,  0.1609,  ...,  0.0420, -0.6127,  0.1005],\n",
       "           [ 0.3244, -0.1353, -0.4779,  ..., -0.7220,  0.0553,  0.7125],\n",
       "           ...,\n",
       "           [ 0.0302, -0.2155, -0.3244,  ..., -0.0858, -0.4369,  1.5632],\n",
       "           [-0.2252, -0.8511, -0.3846,  ..., -0.2519, -0.3323, -0.2053],\n",
       "           [ 1.0382,  0.4634,  0.0713,  ...,  0.6568,  0.2132, -0.2891]],\n",
       " \n",
       "          [[-0.1263, -0.0504,  0.1054,  ..., -0.0691,  0.0588, -0.0133],\n",
       "           [-0.2156,  0.9218, -0.3842,  ...,  0.7430,  1.1564, -0.9066],\n",
       "           [ 0.2146, -0.5628,  0.2962,  ..., -0.1091, -0.6646,  0.2378],\n",
       "           ...,\n",
       "           [ 0.1728,  0.6300,  0.5403,  ...,  0.2799, -0.5743,  0.9371],\n",
       "           [ 0.2209,  0.2259, -0.2657,  ...,  1.3807,  1.6591, -0.3116],\n",
       "           [-0.4305, -0.2158, -0.3578,  ..., -0.2576, -0.2435,  0.1979]],\n",
       " \n",
       "          [[-0.0113, -0.0104, -0.0172,  ..., -0.0266,  0.0108, -0.0183],\n",
       "           [ 0.7741, -0.7137,  0.0497,  ..., -0.2541,  0.0425, -1.1306],\n",
       "           [-0.0885, -0.6038, -0.5103,  ...,  0.2572, -0.4774,  0.2335],\n",
       "           ...,\n",
       "           [-0.9557, -0.4104, -0.3715,  ..., -0.1039, -0.5645, -0.1564],\n",
       "           [-0.3941, -0.5204, -0.0747,  ...,  0.2552, -0.2824, -0.2775],\n",
       "           [ 0.0455,  0.3218,  0.3544,  ...,  0.0683,  0.2959,  0.2878]]]]), tensor([[[[-2.0445e-02, -2.5204e-02,  4.1555e-03,  ..., -1.1104e-02,\n",
       "            -2.9513e-02,  3.5464e-01],\n",
       "           [ 6.4002e-01, -4.4898e-01,  6.2631e-01,  ..., -3.8798e-01,\n",
       "             1.8501e-03, -1.0592e+00],\n",
       "           [ 8.7313e-01, -5.7607e-01,  5.8196e-01,  ...,  6.8425e-01,\n",
       "             2.4205e-01, -1.1223e+00],\n",
       "           ...,\n",
       "           [-3.2877e-01, -5.5213e-01,  7.1876e-01,  ...,  2.1680e+00,\n",
       "             4.6004e-01, -3.7113e-01],\n",
       "           [ 4.2829e-01,  1.0493e-01,  4.8433e-01,  ..., -3.6462e-01,\n",
       "            -4.0384e-01, -8.2741e-01],\n",
       "           [-1.5912e-01, -4.8191e-01,  2.0537e+00,  ...,  1.3381e+00,\n",
       "            -2.1709e-01, -1.1497e-01]],\n",
       " \n",
       "          [[ 9.4346e-03, -1.1697e-02,  2.7112e-02,  ..., -3.1396e-02,\n",
       "             2.7949e-03,  6.9063e-03],\n",
       "           [ 6.2019e-02, -1.3719e-01,  3.6948e-01,  ..., -4.2774e-01,\n",
       "             9.8501e-01, -9.5167e-01],\n",
       "           [ 9.9047e-01, -1.8646e+00,  6.4875e-01,  ..., -4.1976e-02,\n",
       "             8.2244e-01, -1.3316e+00],\n",
       "           ...,\n",
       "           [-3.4244e-01, -8.3117e-01,  9.1754e-01,  ...,  1.1873e+00,\n",
       "            -8.3223e-01, -9.5436e-01],\n",
       "           [-5.4991e-01, -1.2068e-01, -8.0722e-01,  ..., -3.9083e-01,\n",
       "            -1.3789e-01,  1.6959e-01],\n",
       "           [ 3.6219e-01,  4.7434e-01, -3.1144e-01,  ...,  1.1382e+00,\n",
       "             2.2966e+00,  2.1508e-01]],\n",
       " \n",
       "          [[-5.9270e-02,  1.1082e-02, -4.5038e-02,  ..., -4.3137e-02,\n",
       "             8.6572e-03, -8.0082e-02],\n",
       "           [-5.0120e-02, -2.5371e-01,  2.1228e-01,  ...,  4.1333e-01,\n",
       "            -9.2983e-01, -8.7329e-01],\n",
       "           [ 5.5967e-01, -6.0565e-01,  2.0633e-01,  ...,  2.7491e-01,\n",
       "            -1.4475e-01, -5.7369e-01],\n",
       "           ...,\n",
       "           [ 8.0501e-01,  6.4711e-01, -5.1793e-01,  ...,  1.5925e-01,\n",
       "             2.2070e-01, -5.7659e-01],\n",
       "           [-1.8018e-01,  1.6450e-01, -1.9435e-01,  ..., -3.7424e-01,\n",
       "             6.0354e-01, -7.6333e-01],\n",
       "           [ 3.8329e-01,  1.3061e+00,  2.6920e-01,  ...,  6.3705e-01,\n",
       "            -7.4690e-01, -2.2519e-02]],\n",
       " \n",
       "          ...,\n",
       " \n",
       "          [[-3.2385e-01, -1.9132e-01, -5.7135e-02,  ..., -4.8442e-01,\n",
       "             2.1551e-01,  8.8049e-02],\n",
       "           [ 1.9136e+00, -1.4647e+00,  4.5783e-01,  ...,  4.9290e-01,\n",
       "            -4.1713e-01, -1.4121e+00],\n",
       "           [ 2.2199e+00, -2.2135e+00, -9.5737e-01,  ...,  4.8885e-01,\n",
       "             4.0167e-03, -8.4550e-01],\n",
       "           ...,\n",
       "           [ 6.4128e-01,  8.9076e-02,  6.8221e-02,  ...,  5.1550e-01,\n",
       "            -9.4286e-01,  1.0758e+00],\n",
       "           [-8.8744e-01,  3.0850e+00,  3.8890e-01,  ...,  1.1523e+00,\n",
       "            -2.6809e+00,  4.5121e-01],\n",
       "           [ 2.6346e-01,  1.6640e+00,  1.8553e+00,  ...,  1.0389e+00,\n",
       "             1.8233e+00, -5.3189e-02]],\n",
       " \n",
       "          [[-7.7262e-02, -1.3132e-01, -4.0290e-02,  ..., -1.8987e-01,\n",
       "            -1.2986e-01,  1.2525e-01],\n",
       "           [-6.1481e-02,  9.8635e-03, -7.9442e-01,  ...,  4.2585e-01,\n",
       "             6.5110e-01,  2.2641e-01],\n",
       "           [-5.4464e-01,  3.7570e-01, -8.4924e-01,  ..., -5.9027e-01,\n",
       "             1.6401e-01,  1.5014e+00],\n",
       "           ...,\n",
       "           [-1.7433e-01,  2.2966e-02, -7.9088e-01,  ..., -3.2754e-01,\n",
       "             7.3353e-01,  5.7040e-01],\n",
       "           [ 1.1267e+00, -1.0404e+00, -2.2297e-01,  ...,  6.3617e-02,\n",
       "             3.4765e-01, -4.7285e-01],\n",
       "           [ 4.5128e-01, -4.3488e-01, -6.2227e-02,  ..., -2.2056e-01,\n",
       "            -6.7174e-01, -6.3004e-01]],\n",
       " \n",
       "          [[-3.9177e-02, -3.8475e-02,  1.0400e-01,  ...,  8.6847e-02,\n",
       "            -4.5562e-02,  1.1511e-02],\n",
       "           [ 1.8215e+00, -8.6168e-01, -5.9709e-01,  ..., -7.7073e-01,\n",
       "            -7.5197e-01,  3.8574e-01],\n",
       "           [-1.5239e-01, -1.4191e-01, -3.7500e-01,  ..., -2.8615e-01,\n",
       "            -2.9675e-01, -3.8839e-01],\n",
       "           ...,\n",
       "           [ 7.1898e-01,  5.8526e-01, -3.8548e-01,  ..., -6.2768e-01,\n",
       "             3.9223e-01,  1.1165e-01],\n",
       "           [ 1.1993e-02,  2.2377e-01, -2.1993e+00,  ..., -9.7410e-01,\n",
       "             8.1989e-01,  2.8852e+00],\n",
       "           [ 5.3863e-01, -4.0302e-01, -6.0946e-01,  ...,  4.5494e-01,\n",
       "            -1.2475e-01,  9.4689e-02]]]]), tensor([[[[ 4.4156e-02, -4.5503e-02,  2.1367e-02,  ..., -7.7268e-02,\n",
       "             4.5902e-03, -9.8988e-02],\n",
       "           [-1.5776e-01, -2.9233e-02, -1.7420e-01,  ..., -1.4546e+00,\n",
       "            -4.6999e-01, -1.5843e-01],\n",
       "           [-1.3375e-01, -2.0516e-01,  9.5288e-01,  ..., -4.0781e-01,\n",
       "            -2.4918e-01, -5.6039e-01],\n",
       "           ...,\n",
       "           [ 8.8918e-02, -3.1108e-02,  5.8736e-01,  ..., -3.6046e-01,\n",
       "             3.4986e-01, -1.1309e+00],\n",
       "           [ 9.9595e-02, -4.3244e-01,  4.9669e-01,  ...,  4.4794e-01,\n",
       "            -1.1428e+00, -8.1944e-01],\n",
       "           [-1.3217e-01, -3.1907e-01, -5.5855e-01,  ...,  2.3128e-01,\n",
       "             4.8223e-01, -7.7941e-01]],\n",
       " \n",
       "          [[ 7.8960e-02,  1.0643e-02, -2.6823e-02,  ..., -3.3341e-02,\n",
       "             1.8051e-02,  4.9981e-04],\n",
       "           [ 2.0226e-01, -2.3624e-01,  1.1157e-01,  ..., -3.4284e-02,\n",
       "            -2.5580e-01, -1.7671e-01],\n",
       "           [ 1.1668e-01, -2.9725e-01, -9.9878e-01,  ..., -3.5434e-01,\n",
       "            -1.1173e+00,  7.4485e-01],\n",
       "           ...,\n",
       "           [-2.7773e-01, -1.1262e+00,  1.6859e-01,  ...,  8.8096e-01,\n",
       "            -6.1297e-02, -4.4209e-02],\n",
       "           [-6.2796e-01, -5.5892e-02, -2.7376e-02,  ...,  2.1514e-01,\n",
       "             3.1666e-01,  1.4051e-01],\n",
       "           [-7.0729e-01,  3.4210e-01,  1.6177e-01,  ..., -1.2243e+00,\n",
       "             1.1326e+00, -5.9810e-01]],\n",
       " \n",
       "          [[ 6.1935e-02,  3.2546e-02, -1.2402e-02,  ...,  2.0295e-02,\n",
       "            -7.0058e-02, -4.7498e-02],\n",
       "           [ 1.3048e-01,  1.3727e-01, -3.4251e-01,  ..., -2.3883e-01,\n",
       "            -1.2941e+00,  1.4270e-01],\n",
       "           [-1.3253e-01,  2.7500e-01,  1.1535e-01,  ...,  3.8480e-01,\n",
       "             3.5262e-01, -1.2529e-01],\n",
       "           ...,\n",
       "           [-1.1610e+00, -5.9785e-01,  8.2252e-01,  ...,  1.3487e+00,\n",
       "            -4.3839e-01, -1.0766e+00],\n",
       "           [ 1.8572e+00, -3.9061e-03,  4.4290e-01,  ..., -6.4275e-01,\n",
       "             7.9816e-01, -6.8726e-02],\n",
       "           [-6.1722e-01, -7.4213e-01, -6.8115e-01,  ...,  4.5590e-01,\n",
       "             1.0584e+00, -2.1329e-01]],\n",
       " \n",
       "          ...,\n",
       " \n",
       "          [[ 5.5079e-03,  2.9018e-02,  3.0611e-02,  ..., -6.8362e-02,\n",
       "            -3.0764e-02,  2.3743e-02],\n",
       "           [-1.3192e+00, -4.0014e-01,  5.1323e-01,  ...,  9.8030e-01,\n",
       "             3.1622e-01, -6.2234e-01],\n",
       "           [-1.3474e+00, -1.7216e+00, -6.2899e-01,  ...,  3.0498e-01,\n",
       "            -2.3275e-01,  1.3327e+00],\n",
       "           ...,\n",
       "           [ 7.6620e-01, -5.0122e-01, -1.1233e+00,  ..., -1.2628e+00,\n",
       "            -2.5158e-01,  1.5926e+00],\n",
       "           [ 7.6249e-01,  1.0117e-01,  1.0977e+00,  ...,  1.3484e+00,\n",
       "            -8.8168e-01, -5.2473e-01],\n",
       "           [-9.6893e-01,  9.1165e-01, -1.3099e+00,  ..., -1.6994e+00,\n",
       "             1.5009e+00,  8.9341e-01]],\n",
       " \n",
       "          [[ 4.7859e-02, -1.7359e-02,  2.1210e-02,  ...,  3.9692e-02,\n",
       "             3.3995e-05,  1.8736e-02],\n",
       "           [ 6.7516e-01, -4.0470e-01, -1.2541e+00,  ...,  1.8072e-01,\n",
       "             3.5679e-01,  6.3110e-02],\n",
       "           [ 5.0895e-01, -1.4076e-01, -5.0787e-01,  ..., -1.1716e+00,\n",
       "            -5.1450e-02, -1.3209e-01],\n",
       "           ...,\n",
       "           [-8.3965e-01, -7.5680e-01,  1.2121e+00,  ..., -6.7894e-01,\n",
       "             2.8975e-01, -4.8763e-01],\n",
       "           [ 7.9196e-01,  4.0361e-01, -4.8399e-01,  ..., -5.1382e-02,\n",
       "             1.8847e+00,  3.8266e-01],\n",
       "           [-6.8513e-01,  8.6651e-01, -6.2565e-01,  ...,  1.4620e+00,\n",
       "             6.9836e-01,  3.8744e-01]],\n",
       " \n",
       "          [[ 7.4020e-02, -1.8924e-01, -7.5778e-02,  ..., -2.3032e-02,\n",
       "             1.9702e-01, -4.2292e-02],\n",
       "           [-3.2351e-01, -5.0242e-01, -8.3108e-02,  ..., -2.9049e-02,\n",
       "            -1.7386e-02, -1.8638e-01],\n",
       "           [ 4.0149e-01,  3.6347e-02, -9.0511e-02,  ...,  1.4645e-02,\n",
       "            -1.4216e-01,  1.1229e+00],\n",
       "           ...,\n",
       "           [ 1.2289e+00, -5.2400e-01, -1.3228e-01,  ...,  9.9543e-01,\n",
       "            -1.1800e+00,  5.9057e-01],\n",
       "           [-4.0206e-02, -3.8990e-01, -6.8820e-01,  ..., -4.5396e-01,\n",
       "             5.4657e-01, -5.3417e-01],\n",
       "           [-7.1388e-01, -1.2579e+00,  2.8019e-01,  ..., -4.8827e-01,\n",
       "            -3.0928e-02, -8.6018e-02]]]]), tensor([[[[-3.3840e-02,  5.1356e-02, -5.2536e-02,  ..., -1.7040e-02,\n",
       "             8.9538e-03,  1.8172e-02],\n",
       "           [-1.5377e-01,  6.2079e-01,  5.1121e-01,  ..., -2.2561e-01,\n",
       "            -6.9674e-02,  5.5609e-01],\n",
       "           [-1.2288e-01,  1.1092e-01, -5.5677e-01,  ...,  2.7595e-01,\n",
       "             3.8227e-02, -3.0602e-01],\n",
       "           ...,\n",
       "           [ 3.8219e-02, -1.2892e-01,  5.7434e-01,  ...,  4.3594e-01,\n",
       "            -6.1135e-02,  4.8110e-01],\n",
       "           [ 2.0778e-01, -5.1339e-01, -6.7875e-01,  ..., -5.2158e-01,\n",
       "             2.5068e-01,  6.8835e-01],\n",
       "           [ 3.4297e-02,  6.8959e-01, -1.4566e-01,  ..., -6.8321e-02,\n",
       "             1.6765e-01, -7.7561e-01]],\n",
       " \n",
       "          [[ 1.7151e-03, -2.2496e-02,  1.8256e-02,  ...,  2.3674e-02,\n",
       "            -3.9419e-02,  1.3368e-02],\n",
       "           [ 7.0154e-01, -2.2562e-01, -1.3612e-01,  ...,  2.1369e-01,\n",
       "             7.0855e-01,  7.1346e-01],\n",
       "           [ 4.1894e-01, -1.2744e+00, -7.2512e-01,  ..., -1.3947e-01,\n",
       "             1.3341e+00,  4.7503e-01],\n",
       "           ...,\n",
       "           [ 6.0765e-01, -1.2388e+00,  5.9596e-01,  ...,  2.0321e-01,\n",
       "             8.8584e-01, -9.7238e-02],\n",
       "           [-7.6219e-01, -5.8828e-01, -2.2020e-01,  ...,  7.3605e-01,\n",
       "            -9.0058e-01,  1.0844e+00],\n",
       "           [ 7.8724e-01,  1.3074e-01,  3.1359e-01,  ...,  1.5902e-01,\n",
       "             1.0019e-01,  2.5414e-01]],\n",
       " \n",
       "          [[ 5.1423e-02, -2.8501e-02,  4.2883e-02,  ...,  4.4337e-02,\n",
       "            -9.0665e-03,  2.0622e-02],\n",
       "           [ 3.1808e-01,  1.0468e+00, -8.5764e-01,  ..., -3.9454e-01,\n",
       "            -6.7457e-01, -4.9016e-01],\n",
       "           [ 1.3073e+00,  2.7990e-01,  5.1110e-01,  ..., -5.9542e-01,\n",
       "            -8.5002e-02,  1.7209e-01],\n",
       "           ...,\n",
       "           [-9.3576e-01, -1.1514e+00,  8.9799e-01,  ...,  4.4884e-01,\n",
       "            -1.7152e-01,  4.4816e-01],\n",
       "           [ 9.3903e-01,  8.4590e-01,  8.5442e-01,  ..., -1.0632e+00,\n",
       "            -8.8122e-01,  5.1037e-01],\n",
       "           [-4.6757e-01, -1.8731e+00,  1.2496e+00,  ..., -4.4910e-01,\n",
       "            -1.0953e+00, -1.9556e+00]],\n",
       " \n",
       "          ...,\n",
       " \n",
       "          [[-1.7296e-01,  8.5940e-02,  4.7100e-02,  ...,  4.9778e-02,\n",
       "             4.9896e-02, -1.2460e-01],\n",
       "           [-5.1615e-01,  8.7687e-01, -7.4894e-01,  ...,  9.8432e-01,\n",
       "             6.4311e-01, -3.6226e-01],\n",
       "           [-3.8161e-01,  1.2441e+00,  2.0984e-01,  ..., -1.4001e-01,\n",
       "             1.3672e+00, -3.5840e-01],\n",
       "           ...,\n",
       "           [ 5.2295e-01,  2.1251e-01,  5.5325e-01,  ..., -4.9065e-01,\n",
       "            -6.7958e-01, -6.3645e-01],\n",
       "           [ 1.8579e-01, -3.6131e-01, -1.3930e+00,  ...,  7.3717e-02,\n",
       "            -2.4088e-01,  8.0710e-02],\n",
       "           [ 3.7323e-01,  1.5972e-01,  1.1639e+00,  ...,  2.0193e-01,\n",
       "             2.2220e-01, -5.8343e-01]],\n",
       " \n",
       "          [[-5.8035e-01, -6.5812e-03,  4.1985e-02,  ..., -1.0883e-02,\n",
       "             2.2616e-02, -5.1118e-03],\n",
       "           [-2.5185e+00, -7.2266e-01, -1.2531e+00,  ...,  5.8837e-01,\n",
       "             1.2207e+00, -1.3435e+00],\n",
       "           [-2.8279e+00,  6.8306e-01,  6.8504e-01,  ...,  1.6254e+00,\n",
       "            -6.9924e-01,  1.4552e-01],\n",
       "           ...,\n",
       "           [-1.0728e+00,  4.3267e-01, -3.3489e-02,  ..., -5.3395e-01,\n",
       "             7.2051e-02,  4.1605e-01],\n",
       "           [-8.3843e-01, -1.0206e-01, -4.1881e-01,  ..., -2.0354e+00,\n",
       "             6.4801e-01, -8.2055e-02],\n",
       "           [-2.2751e+00,  1.6970e-01,  9.8876e-01,  ..., -4.8423e-01,\n",
       "             3.5986e-01, -4.9003e-01]],\n",
       " \n",
       "          [[ 1.7636e-02,  8.7660e-02, -2.9929e-02,  ...,  6.1231e-02,\n",
       "             3.0408e-02, -4.9728e-02],\n",
       "           [ 3.4210e-01, -2.7641e-01, -1.9104e-01,  ..., -7.9686e-02,\n",
       "            -7.5141e-01,  3.6935e-01],\n",
       "           [ 6.1975e-01, -9.5014e-02, -4.9323e-02,  ..., -1.7576e-02,\n",
       "            -1.2239e+00,  8.2496e-01],\n",
       "           ...,\n",
       "           [-1.9157e+00,  1.8720e+00,  1.7660e+00,  ..., -1.7809e-01,\n",
       "            -9.6723e-01,  1.1196e+00],\n",
       "           [-1.0575e+00, -2.8583e+00, -1.7561e-01,  ...,  2.2581e-01,\n",
       "            -1.0537e+00, -3.6596e-01],\n",
       "           [ 1.5740e+00, -1.2051e+00,  2.5954e-01,  ..., -6.2064e-01,\n",
       "             5.6137e-01,  8.9147e-01]]]]), tensor([[[[ 5.6290e-02, -8.3898e-03, -3.2728e-02,  ...,  1.2299e-01,\n",
       "            -5.8425e-02, -3.5874e-02],\n",
       "           [ 5.1519e-01, -2.2014e-01,  1.0669e+00,  ...,  5.5186e-01,\n",
       "             1.2219e+00, -2.4788e-01],\n",
       "           [ 2.8256e-01, -3.4678e-02,  8.1684e-01,  ...,  3.5487e-01,\n",
       "             3.4333e-01, -6.8066e-02],\n",
       "           ...,\n",
       "           [ 9.4561e-01,  2.1587e-01,  1.6041e+00,  ...,  9.0810e-01,\n",
       "             8.3847e-01, -5.6279e-01],\n",
       "           [ 5.8542e-01, -9.8680e-01,  7.5963e-01,  ..., -8.7153e-01,\n",
       "             1.3693e+00, -2.1711e+00],\n",
       "           [ 6.5542e-01,  1.6278e+00, -1.6256e-02,  ..., -5.6420e-01,\n",
       "            -1.6953e-01,  1.7296e-01]],\n",
       " \n",
       "          [[ 3.1383e-03,  4.1016e-02,  3.8460e-02,  ..., -1.7263e-02,\n",
       "            -1.1139e-02,  1.8143e-02],\n",
       "           [ 4.5291e-01,  6.9974e-01,  1.3721e-01,  ...,  1.2037e-02,\n",
       "            -4.1841e-01,  1.3894e+00],\n",
       "           [ 9.7663e-01, -1.2786e+00, -6.8214e-01,  ..., -5.2106e-03,\n",
       "            -2.4581e-01,  8.8734e-01],\n",
       "           ...,\n",
       "           [-2.6502e-01, -1.4291e+00, -4.4351e-01,  ..., -8.9532e-01,\n",
       "             1.5341e+00,  1.4868e-03],\n",
       "           [-7.9717e-01,  1.2351e+00,  1.2105e+00,  ...,  2.4438e-01,\n",
       "             2.9427e-01, -4.1723e-01],\n",
       "           [ 2.1025e+00,  8.6811e-01,  1.8815e+00,  ...,  4.1283e-01,\n",
       "            -2.3038e-01, -4.1425e-01]],\n",
       " \n",
       "          [[ 5.3165e-02, -4.5788e-02,  5.7326e-02,  ...,  4.5067e-02,\n",
       "            -6.8973e-02, -5.1504e-02],\n",
       "           [-8.7227e-01,  8.3412e-02,  4.4391e-01,  ...,  1.8569e-01,\n",
       "             3.0114e-01,  6.0094e-01],\n",
       "           [-3.5379e-01,  1.0876e+00,  2.9487e-01,  ..., -2.7696e-01,\n",
       "            -4.6594e-02,  2.8111e-01],\n",
       "           ...,\n",
       "           [ 7.1292e-01,  1.8301e-01,  5.1397e-01,  ..., -6.5072e-02,\n",
       "            -5.0647e-01, -8.8427e-01],\n",
       "           [-7.2460e-01, -1.2089e+00,  7.2847e-01,  ...,  6.3702e-01,\n",
       "             1.5031e-01, -9.5292e-01],\n",
       "           [ 2.0612e-01, -2.3745e-01, -7.9779e-01,  ...,  7.6705e-01,\n",
       "             7.8979e-02,  1.2382e+00]],\n",
       " \n",
       "          ...,\n",
       " \n",
       "          [[-8.0268e-02, -3.9691e-02,  4.4904e-02,  ..., -9.1071e-02,\n",
       "             3.0109e-02,  1.0002e-02],\n",
       "           [ 2.3746e-01,  6.8677e-01,  4.9534e-01,  ..., -3.1533e-01,\n",
       "             5.4827e-01, -8.1516e-01],\n",
       "           [ 1.0792e+00,  9.8267e-02, -1.9131e-02,  ...,  1.0979e-01,\n",
       "             4.0667e-01, -1.5352e-01],\n",
       "           ...,\n",
       "           [ 1.1926e+00, -2.2084e+00,  7.6338e-01,  ...,  8.9697e-01,\n",
       "            -9.9548e-01,  5.8466e-01],\n",
       "           [ 1.8156e-01,  1.6584e-01, -8.2937e-01,  ...,  7.2710e-02,\n",
       "            -2.6613e+00,  5.5696e-01],\n",
       "           [ 1.2635e-02,  9.0719e-02,  1.3117e+00,  ..., -6.3312e-02,\n",
       "            -3.0454e-01, -4.1950e-01]],\n",
       " \n",
       "          [[ 1.4398e-01, -8.5340e-02,  1.2646e-01,  ...,  7.1252e-02,\n",
       "             1.1498e-02, -1.3013e-01],\n",
       "           [-6.5528e-01,  1.6330e-01,  4.3847e-01,  ...,  1.2918e-01,\n",
       "             1.2981e+00, -5.0478e-01],\n",
       "           [-4.9135e-02, -1.3110e-02,  1.3537e-01,  ...,  1.1808e+00,\n",
       "             1.0833e+00, -4.4214e-01],\n",
       "           ...,\n",
       "           [ 2.1682e-01, -1.2389e+00,  3.7940e-01,  ...,  7.3669e-01,\n",
       "             1.0308e+00,  1.5278e+00],\n",
       "           [-4.9147e-01, -1.5151e-01, -7.7855e-02,  ..., -2.6632e-02,\n",
       "            -1.1249e+00, -4.8650e-01],\n",
       "           [ 2.0159e+00,  1.9305e-01,  5.3207e-01,  ..., -8.2585e-01,\n",
       "            -5.4621e-01, -8.3866e-01]],\n",
       " \n",
       "          [[ 1.9912e-01, -4.9858e-02, -7.0490e-02,  ...,  4.4311e-02,\n",
       "             3.8241e-02,  1.4098e-02],\n",
       "           [-6.4695e-01, -6.2660e-01,  2.1537e-02,  ..., -4.8120e-01,\n",
       "             1.1896e+00, -5.5415e-01],\n",
       "           [-8.0956e-02,  5.9587e-01,  9.0981e-01,  ..., -1.0431e+00,\n",
       "             3.5856e-01, -1.9334e-01],\n",
       "           ...,\n",
       "           [-4.7112e-01,  1.8280e-01,  1.4631e+00,  ..., -3.4707e-01,\n",
       "             6.1161e-02, -2.0401e-01],\n",
       "           [ 3.7435e-01,  8.2079e-01, -1.3998e+00,  ...,  3.6410e-01,\n",
       "            -3.8125e-01,  2.0004e-01],\n",
       "           [-2.2002e-01,  6.7127e-01,  3.5992e-01,  ...,  7.2089e-01,\n",
       "            -1.4256e+00,  5.4934e-01]]]]), tensor([[[[-5.0952e-02, -8.5158e-02,  1.5329e-02,  ...,  1.0666e-01,\n",
       "            -2.3960e-02,  2.2550e-02],\n",
       "           [-3.3426e-01,  9.6555e-01,  3.5463e-01,  ..., -4.2341e-02,\n",
       "            -5.3063e-01,  3.2918e-01],\n",
       "           [-4.6511e-01, -7.2441e-01, -3.4943e-01,  ...,  5.3792e-02,\n",
       "            -1.1879e+00,  2.2454e-01],\n",
       "           ...,\n",
       "           [-8.3924e-01,  1.2994e-02, -1.4398e-01,  ...,  8.7693e-01,\n",
       "             4.5283e-01,  7.9206e-01],\n",
       "           [ 7.3985e-01,  1.0806e-01,  5.0307e-01,  ..., -1.9511e-01,\n",
       "             4.5154e-01,  6.4275e-01],\n",
       "           [ 1.0602e-01,  4.7755e-01, -1.5431e-01,  ...,  3.0496e-01,\n",
       "            -5.7936e-01,  9.4240e-01]],\n",
       " \n",
       "          [[ 1.8550e-02,  1.3068e-02, -3.4706e-02,  ...,  3.4283e-02,\n",
       "             3.0399e-02,  3.5034e-02],\n",
       "           [-3.8709e-01, -2.0911e+00, -6.3260e-01,  ..., -1.8322e+00,\n",
       "             4.3385e-01,  3.4374e-02],\n",
       "           [-7.2147e-01, -5.1656e-01, -8.0474e-01,  ...,  2.9570e-01,\n",
       "             5.8728e-01, -8.9914e-01],\n",
       "           ...,\n",
       "           [ 2.8785e-01,  7.2778e-01, -5.2321e-03,  ..., -3.3581e-01,\n",
       "             6.0440e-02, -2.2012e+00],\n",
       "           [-4.8330e-01,  7.0282e-01,  6.7592e-01,  ...,  6.3934e-01,\n",
       "            -3.5183e-01, -9.1179e-01],\n",
       "           [-4.9486e-01,  7.0464e-01, -1.0075e+00,  ...,  4.5648e-01,\n",
       "             2.1188e-01,  5.8568e-01]],\n",
       " \n",
       "          [[ 4.1980e-02,  3.6665e-02, -8.6284e-02,  ...,  5.5334e-03,\n",
       "            -8.6415e-03,  1.1783e-02],\n",
       "           [-2.5822e-01,  6.3940e-01, -5.3133e-02,  ..., -6.1321e-01,\n",
       "            -1.1270e+00,  3.2688e-01],\n",
       "           [-6.0566e-02,  1.7070e-01, -1.6191e-02,  ...,  3.9369e-01,\n",
       "            -3.4811e-01, -4.0827e-01],\n",
       "           ...,\n",
       "           [-2.5345e-01, -9.4341e-01, -5.3815e-02,  ...,  5.6582e-02,\n",
       "             1.7634e-01, -7.9143e-01],\n",
       "           [ 1.4576e+00,  4.5251e-02, -1.5671e-02,  ...,  1.8901e-01,\n",
       "             2.8943e-01, -1.1517e+00],\n",
       "           [ 2.2223e-01,  2.1317e-01,  8.0243e-01,  ..., -6.3736e-01,\n",
       "            -1.0186e-01,  3.6642e-01]],\n",
       " \n",
       "          ...,\n",
       " \n",
       "          [[-2.3204e-02,  1.8427e-02,  2.4614e-03,  ..., -1.2041e-02,\n",
       "            -1.7677e-02,  3.8418e-02],\n",
       "           [ 1.5894e+00,  1.6218e-03,  1.1030e+00,  ...,  6.2249e-01,\n",
       "            -6.2350e-01,  7.7264e-01],\n",
       "           [-5.6360e-01,  4.0139e-01, -3.2803e-01,  ...,  5.9548e-01,\n",
       "            -2.9810e-01,  4.3432e-01],\n",
       "           ...,\n",
       "           [-1.6376e+00, -1.2479e+00, -2.2759e-01,  ..., -9.1376e-01,\n",
       "             1.4659e-01, -6.1651e-01],\n",
       "           [-1.6815e-01,  5.9723e-01, -2.7719e-01,  ...,  3.9244e-01,\n",
       "            -1.0518e+00, -1.4018e+00],\n",
       "           [-7.0196e-01, -3.6698e-01,  1.2684e+00,  ...,  1.0996e-02,\n",
       "             1.6783e-01, -4.1766e-01]],\n",
       " \n",
       "          [[-7.0099e-02, -3.3619e-02,  3.3106e-02,  ...,  1.6559e-02,\n",
       "            -5.4840e-02, -1.1412e-01],\n",
       "           [ 2.6994e-01, -7.5775e-01, -5.0546e-01,  ...,  7.9096e-02,\n",
       "            -1.0604e+00,  1.5167e-01],\n",
       "           [-4.0553e-01,  6.5765e-01, -1.6424e-01,  ...,  1.2803e-01,\n",
       "            -1.8297e-01, -3.8252e-01],\n",
       "           ...,\n",
       "           [-2.5867e-01,  1.9523e-01, -1.3472e-01,  ...,  4.5210e-01,\n",
       "            -5.2302e-01, -9.5651e-01],\n",
       "           [-1.5699e-01,  1.5308e+00,  4.5440e-02,  ..., -1.1604e+00,\n",
       "             4.5318e-01, -1.2605e+00],\n",
       "           [-5.9607e-01, -1.9380e-01,  7.6497e-01,  ...,  2.3910e-01,\n",
       "            -8.5488e-01,  4.0060e-01]],\n",
       " \n",
       "          [[-9.0857e-03,  2.9856e-02, -5.1908e-02,  ..., -2.9492e-02,\n",
       "             1.4509e-02, -6.4225e-03],\n",
       "           [-6.4829e-01, -1.0709e+00,  5.9179e-01,  ..., -5.8267e-01,\n",
       "            -7.1934e-01, -2.5258e-01],\n",
       "           [ 1.1043e+00,  3.6229e-01, -1.7105e-01,  ...,  1.4024e+00,\n",
       "            -7.4383e-01, -5.8835e-01],\n",
       "           ...,\n",
       "           [ 1.0454e+00,  1.5005e+00, -1.0975e+00,  ...,  3.6721e-01,\n",
       "             2.4066e-01,  1.5281e-02],\n",
       "           [-3.5373e-01,  1.3058e+00, -3.1219e-01,  ...,  9.3325e-01,\n",
       "             6.9273e-01,  4.2621e-01],\n",
       "           [ 1.0685e+00,  2.5393e-01, -2.0389e-01,  ..., -1.4295e+00,\n",
       "            -2.8731e-01,  3.3940e-01]]]]), tensor([[[[ 0.0054,  0.0298, -0.0908,  ...,  0.0625, -0.0517, -0.0855],\n",
       "           [-0.3096,  0.2164,  0.4502,  ...,  0.0880,  0.1275, -0.6496],\n",
       "           [ 0.2463,  0.6148, -0.3311,  ...,  1.4023,  0.1217,  0.0566],\n",
       "           ...,\n",
       "           [ 0.2678,  0.4788,  1.5545,  ..., -1.0269, -0.3395,  0.5043],\n",
       "           [ 2.3424, -0.0390, -0.2958,  ..., -0.1418, -0.6058,  2.3250],\n",
       "           [ 1.3389, -1.4787, -0.5348,  ..., -0.3756, -1.2021,  1.2211]],\n",
       " \n",
       "          [[ 0.0334, -0.0066,  0.0153,  ..., -0.0427, -0.0054, -0.0207],\n",
       "           [-0.0340, -0.4174, -0.0601,  ...,  0.3531,  0.4838,  0.6166],\n",
       "           [-1.1045,  0.2145,  0.0666,  ...,  0.1805, -0.8184, -0.4036],\n",
       "           ...,\n",
       "           [ 0.0277,  0.4391, -0.4209,  ..., -1.3488, -1.0578, -1.1832],\n",
       "           [ 0.6454, -1.4736,  1.6129,  ...,  1.4594,  0.0458,  0.0721],\n",
       "           [-0.4631,  1.1277,  0.0733,  ...,  1.0506,  0.5402, -0.3163]],\n",
       " \n",
       "          [[-0.0380,  0.0087, -0.0500,  ..., -0.0138,  0.0317,  0.0918],\n",
       "           [ 0.8683,  0.8461,  0.1089,  ..., -0.6150, -0.3369, -1.4561],\n",
       "           [ 0.4102,  2.3263, -0.8263,  ...,  0.2549,  0.0042, -0.6467],\n",
       "           ...,\n",
       "           [ 0.8131,  1.4881,  0.8952,  ...,  0.8484, -0.8345, -0.8956],\n",
       "           [ 0.2841, -1.6898, -0.8048,  ..., -1.2258, -0.2485, -0.0534],\n",
       "           [-0.6519, -0.1462, -0.0987,  ...,  0.6133, -0.2340, -0.0602]],\n",
       " \n",
       "          ...,\n",
       " \n",
       "          [[-0.0753,  0.0376, -0.0126,  ..., -0.0454, -0.0174,  0.0116],\n",
       "           [-1.0011,  0.2075, -0.6421,  ...,  0.6030, -1.8797,  0.6556],\n",
       "           [-0.5571,  0.1531, -0.1717,  ...,  0.6044, -1.3307,  0.8336],\n",
       "           ...,\n",
       "           [ 0.3168, -1.3289, -0.6148,  ...,  0.2197, -0.6006, -1.2757],\n",
       "           [ 0.1043, -0.7574, -0.9726,  ...,  0.0357, -1.2316,  0.4111],\n",
       "           [-0.4427, -0.4155, -0.4892,  ..., -1.0506, -2.2383, -0.0684]],\n",
       " \n",
       "          [[ 0.0789,  0.0222,  0.0901,  ...,  0.0166,  0.0631,  0.0493],\n",
       "           [ 0.6890, -0.4844, -1.1578,  ..., -0.2016,  0.2436,  1.2107],\n",
       "           [-1.6390, -0.1636,  1.6700,  ..., -0.9545,  0.7214, -0.2985],\n",
       "           ...,\n",
       "           [-0.5340,  1.2076,  0.0341,  ..., -0.2577,  1.5119,  1.8684],\n",
       "           [ 0.9936, -0.7784, -1.0812,  ..., -0.4571, -0.2883,  0.2940],\n",
       "           [ 1.3560,  0.0982,  1.7309,  ...,  1.7100,  0.9292,  0.1723]],\n",
       " \n",
       "          [[-0.1258,  0.0379, -0.0436,  ..., -0.0836,  0.0719, -0.0148],\n",
       "           [-0.4727,  0.2613,  0.5248,  ..., -0.6321,  0.4281, -0.9852],\n",
       "           [ 0.3276,  0.4161, -0.4393,  ..., -0.1596,  0.5603, -0.1742],\n",
       "           ...,\n",
       "           [ 0.9690,  0.1978, -0.8775,  ..., -1.6247,  0.6584,  0.4269],\n",
       "           [ 0.0726,  0.1731, -1.0721,  ..., -0.7579,  0.6930,  0.7375],\n",
       "           [-0.7604,  0.1416, -0.6414,  ..., -0.7911, -0.8105,  1.0047]]]]), tensor([[[[ 5.1285e-02, -1.0692e-01, -1.8664e-01,  ..., -3.0463e-01,\n",
       "             2.9266e-01, -1.5144e-01],\n",
       "           [-3.9197e-01, -8.8906e-02,  6.9135e-01,  ...,  2.0195e+00,\n",
       "            -1.0093e+00,  9.0177e-01],\n",
       "           [ 1.2985e+00, -3.4780e-01, -3.3656e-01,  ...,  2.3601e+00,\n",
       "            -2.2584e+00, -8.7266e-02],\n",
       "           ...,\n",
       "           [ 3.9393e-01, -7.8466e-01,  6.8581e-01,  ...,  3.0678e-01,\n",
       "            -2.7963e+00,  9.6866e-01],\n",
       "           [-1.6368e+00, -8.5663e-02,  7.7115e-01,  ...,  1.8667e+00,\n",
       "            -1.7037e-01, -1.0615e+00],\n",
       "           [-2.7033e-01, -2.6039e+00, -2.2128e-01,  ...,  1.7203e+00,\n",
       "            -1.6048e+00,  4.5052e+00]],\n",
       " \n",
       "          [[ 9.3750e-02, -3.3567e-02,  2.0447e-02,  ..., -4.1862e-02,\n",
       "            -1.0319e-01,  1.8401e-01],\n",
       "           [ 5.3293e-02, -4.5286e-01, -3.3319e-01,  ..., -1.6205e+00,\n",
       "            -2.4451e-01, -9.3824e-01],\n",
       "           [-1.3479e+00, -1.4627e-01, -2.3562e-02,  ..., -3.9980e-01,\n",
       "            -3.5357e-01, -1.3133e+00],\n",
       "           ...,\n",
       "           [-1.5319e+00,  3.6617e-01,  4.3187e-01,  ..., -1.7155e+00,\n",
       "            -8.4075e-01, -1.3749e-01],\n",
       "           [ 4.0250e-01,  1.6783e+00,  5.5075e-01,  ...,  1.7508e-01,\n",
       "             7.1361e-01,  1.5704e+00],\n",
       "           [-3.2964e-01, -7.8490e-02,  4.8625e-01,  ..., -2.0066e-02,\n",
       "             6.5105e-01, -1.2723e+00]],\n",
       " \n",
       "          [[ 8.7679e-04,  6.6656e-03, -2.5627e-02,  ...,  5.3610e-02,\n",
       "             2.4905e-03,  4.7396e-02],\n",
       "           [-1.1664e+00, -4.6785e-01, -1.6363e+00,  ..., -1.8066e+00,\n",
       "             1.0407e+00, -5.6421e-01],\n",
       "           [ 4.5995e-01, -3.3465e-01, -1.9374e-01,  ..., -7.1541e-01,\n",
       "             7.5998e-01,  7.1434e-01],\n",
       "           ...,\n",
       "           [-7.0350e-01, -4.7820e-01,  7.8653e-01,  ..., -7.4129e-01,\n",
       "            -3.9590e-01,  1.0510e+00],\n",
       "           [ 4.5873e-01,  1.1043e+00, -6.3995e-01,  ...,  1.4053e+00,\n",
       "            -1.4675e+00, -1.2120e+00],\n",
       "           [ 3.0240e-01,  1.3475e+00, -7.3967e-01,  ...,  7.5754e-01,\n",
       "             1.2328e-02, -5.2467e-01]],\n",
       " \n",
       "          ...,\n",
       " \n",
       "          [[-8.9453e-03,  7.8683e-03,  7.0487e-02,  ...,  7.6591e-02,\n",
       "            -2.3031e-02,  8.7745e-03],\n",
       "           [ 1.1716e+00,  1.7829e+00, -1.1266e+00,  ...,  3.8941e-01,\n",
       "            -3.1295e-01, -4.2394e-01],\n",
       "           [-4.2740e-01,  1.2280e+00, -7.7718e-01,  ...,  1.2139e+00,\n",
       "             1.8186e-01,  1.4432e-02],\n",
       "           ...,\n",
       "           [ 1.7425e-01, -2.6770e-01,  5.2710e-01,  ..., -8.8395e-01,\n",
       "             2.5575e-01, -8.6620e-01],\n",
       "           [-1.3808e+00, -1.7336e-01,  8.4834e-01,  ...,  5.2626e-01,\n",
       "             6.7223e-01, -1.5456e+00],\n",
       "           [-1.2475e-01,  3.7829e-01,  1.0023e+00,  ..., -3.4911e-01,\n",
       "             2.9495e-01,  6.6312e-01]],\n",
       " \n",
       "          [[-1.4920e-01, -1.0117e-01,  3.3611e-02,  ..., -6.9400e-02,\n",
       "             2.8889e-02, -7.9927e-02],\n",
       "           [ 9.9413e-01,  1.1399e+00,  6.0668e-02,  ...,  6.8169e-01,\n",
       "            -7.2669e-02, -1.7289e+00],\n",
       "           [ 4.5935e-02,  1.6418e-01,  3.9152e-01,  ..., -1.0951e+00,\n",
       "             6.2573e-01, -1.3437e-01],\n",
       "           ...,\n",
       "           [-1.9621e+00, -2.8441e-01,  2.9017e-01,  ..., -2.9568e-01,\n",
       "            -6.3233e-01,  6.6360e-01],\n",
       "           [ 1.2116e+00,  6.5910e-02,  1.0091e+00,  ...,  2.5436e+00,\n",
       "            -1.4767e+00,  2.2731e-01],\n",
       "           [-1.5959e+00, -9.5806e-01,  1.1780e+00,  ...,  2.8621e-01,\n",
       "            -6.8590e-01, -2.3804e-01]],\n",
       " \n",
       "          [[ 1.0013e-01, -1.2323e-01,  1.0051e-01,  ..., -1.0841e-01,\n",
       "             1.3373e-02, -1.6009e-01],\n",
       "           [-5.4831e-02, -8.5489e-01, -7.9531e-01,  ..., -4.9375e-01,\n",
       "             8.6077e-01, -7.9943e-01],\n",
       "           [ 3.9262e-01, -3.3392e-01, -6.8587e-02,  ..., -2.5096e-01,\n",
       "            -8.4581e-02, -2.5607e-02],\n",
       "           ...,\n",
       "           [-5.6391e-01, -1.7516e+00, -6.6709e-01,  ..., -2.1063e+00,\n",
       "            -4.1585e-01,  1.6534e+00],\n",
       "           [ 1.0977e-01, -2.0832e+00,  6.2568e-01,  ..., -5.4251e-01,\n",
       "            -3.2966e-01,  1.0841e+00],\n",
       "           [ 1.3125e+00,  5.2605e-01, -3.4250e+00,  ...,  4.9557e+00,\n",
       "             2.9776e+00, -1.8849e-01]]]])), attn_outs=(tensor([[[[-1.1847e-04,  3.3291e-02, -1.4984e-02,  ..., -7.2944e-02,\n",
       "            -2.0783e-02, -6.1449e-02],\n",
       "           [ 3.0734e-02,  1.4094e-02,  3.5667e-03,  ..., -3.3688e-02,\n",
       "            -6.1092e-03, -8.8586e-02],\n",
       "           [ 1.2724e-01, -5.6667e-02,  7.3544e-02,  ...,  5.2981e-02,\n",
       "             2.0344e-02, -1.4205e-01],\n",
       "           ...,\n",
       "           [ 7.5241e-02, -6.4598e-02,  3.4080e-02,  ...,  1.4091e-02,\n",
       "             9.9985e-03, -7.4319e-02],\n",
       "           [ 8.3431e-02,  2.4585e-02, -4.8819e-02,  ..., -4.3275e-02,\n",
       "            -2.2688e-03, -6.8184e-02],\n",
       "           [ 1.1051e-01, -4.6470e-02,  5.4970e-02,  ...,  2.3812e-02,\n",
       "            -5.8991e-04, -4.1165e-02]],\n",
       " \n",
       "          [[ 4.3274e-01,  2.0474e-01, -2.2168e-01,  ..., -5.4821e-01,\n",
       "            -3.0565e-01,  1.9585e-01],\n",
       "           [ 6.5663e-02, -1.6857e-01,  8.1996e-02,  ...,  1.4618e-01,\n",
       "             4.1591e-01, -3.2929e-01],\n",
       "           [ 5.1173e-01,  2.0259e-01,  1.6982e-02,  ..., -9.0988e-02,\n",
       "             1.2932e-01,  6.8889e-02],\n",
       "           ...,\n",
       "           [-1.6056e-01,  2.8296e-01,  2.8922e-02,  ..., -8.9772e-02,\n",
       "            -1.5976e-01,  2.7629e-02],\n",
       "           [ 1.7278e-02,  1.6754e-01,  2.2067e-01,  ..., -2.5411e-01,\n",
       "            -5.2508e-02, -2.7142e-01],\n",
       "           [ 4.4096e-01, -1.6942e-02,  9.6899e-02,  ...,  2.1837e-01,\n",
       "             6.7346e-01,  9.1796e-02]],\n",
       " \n",
       "          [[ 9.9316e-02, -1.2398e-01, -6.2201e-02,  ..., -4.9502e-02,\n",
       "             1.6201e-02, -3.2871e-02],\n",
       "           [ 1.1770e-01, -1.2574e-01, -4.2569e-02,  ..., -3.5215e-02,\n",
       "             1.3330e-02,  2.9462e-02],\n",
       "           [ 1.4695e-01, -7.2182e-02, -1.2440e-02,  ..., -5.3219e-02,\n",
       "             3.9051e-02,  2.2367e-02],\n",
       "           ...,\n",
       "           [ 2.0632e-02, -5.0560e-02,  1.1260e-01,  ...,  1.2893e-03,\n",
       "             4.6871e-02, -3.1393e-02],\n",
       "           [ 9.3728e-02, -9.1955e-04,  5.3836e-02,  ...,  4.5109e-02,\n",
       "             9.8181e-02,  3.6914e-03],\n",
       "           [ 2.4095e-01,  8.2436e-02,  1.2749e-01,  ..., -2.8507e-02,\n",
       "             5.8045e-02,  5.0374e-02]],\n",
       " \n",
       "          ...,\n",
       " \n",
       "          [[-6.8696e-02, -5.0395e-02, -4.3419e-02,  ..., -4.1643e-02,\n",
       "             1.2400e-01,  1.3517e-01],\n",
       "           [-7.3957e-02, -2.6958e-02, -3.7835e-02,  ..., -2.7143e-02,\n",
       "             1.2399e-01,  1.3931e-01],\n",
       "           [-1.3440e-01,  1.2613e-01,  1.8403e-02,  ...,  5.1679e-02,\n",
       "             4.5750e-02,  1.1470e-01],\n",
       "           ...,\n",
       "           [-8.2859e-02,  1.4246e-02, -3.6085e-02,  ...,  1.3127e-01,\n",
       "             1.4784e-02, -1.1098e-01],\n",
       "           [-1.2915e-01,  5.9457e-02, -4.7036e-02,  ...,  5.0434e-02,\n",
       "             2.8021e-02, -1.2700e-01],\n",
       "           [-6.3408e-02, -3.7585e-02, -2.8617e-02,  ...,  1.2044e-01,\n",
       "             1.3593e-02, -6.8265e-02]],\n",
       " \n",
       "          [[ 1.5045e-01, -1.8184e-01, -9.4746e-02,  ...,  1.0344e-01,\n",
       "             7.2512e-02, -1.5019e-01],\n",
       "           [ 1.5650e-02, -1.0135e-01,  6.5400e-02,  ..., -4.2719e-02,\n",
       "             4.6457e-02, -1.2470e-02],\n",
       "           [ 2.6235e-02, -1.3214e-01,  3.8641e-04,  ..., -1.3339e-01,\n",
       "            -5.1910e-02, -9.0229e-02],\n",
       "           ...,\n",
       "           [-6.5522e-02, -7.4430e-02,  5.9706e-03,  ..., -1.4530e-01,\n",
       "            -2.4769e-02, -3.4676e-02],\n",
       "           [-4.5327e-03, -9.2442e-02,  1.4853e-01,  ...,  3.2801e-02,\n",
       "             2.4075e-02,  2.2413e-02],\n",
       "           [-1.5075e-02, -1.2845e-01,  5.8557e-02,  ..., -7.0858e-02,\n",
       "             5.7199e-02,  5.8629e-02]],\n",
       " \n",
       "          [[-4.0724e-03, -3.5744e-01,  2.4308e-01,  ...,  1.5436e-01,\n",
       "            -3.6726e-01, -3.8139e-02],\n",
       "           [ 3.9945e-02, -2.0724e-01,  1.4361e-01,  ...,  1.3992e-01,\n",
       "            -2.0680e-01,  4.0682e-02],\n",
       "           [-1.2955e-02, -1.6285e-01,  8.6142e-02,  ...,  1.3317e-01,\n",
       "            -3.3524e-02,  3.2813e-02],\n",
       "           ...,\n",
       "           [ 2.3751e-02, -5.7514e-03, -3.0720e-02,  ...,  1.0353e-02,\n",
       "             4.9371e-02,  2.7326e-02],\n",
       "           [ 6.2090e-03,  3.1318e-02, -3.3570e-02,  ..., -3.9183e-03,\n",
       "             3.1679e-02,  4.6342e-02],\n",
       "           [ 2.4957e-02,  5.2066e-02, -2.2212e-02,  ...,  7.2029e-03,\n",
       "             3.2290e-03,  4.9107e-02]]]]), tensor([[[[ 3.8704e-01, -2.3697e-01, -1.0878e-01,  ..., -3.7238e-01,\n",
       "            -4.7708e-01, -1.3522e-01],\n",
       "           [ 3.8558e-01, -2.3658e-01, -1.0806e-01,  ..., -3.7078e-01,\n",
       "            -4.7480e-01, -1.3418e-01],\n",
       "           [ 2.9420e-01, -1.5139e-01, -8.8735e-02,  ..., -3.1780e-01,\n",
       "            -3.5670e-01, -1.1549e-01],\n",
       "           ...,\n",
       "           [ 2.3898e-02,  2.1609e-01,  3.6946e-02,  ..., -1.6584e-01,\n",
       "            -1.6631e-01,  5.6271e-02],\n",
       "           [-1.4775e-02,  1.8761e-01,  1.1475e-01,  ...,  1.0557e-01,\n",
       "            -1.2140e-01, -7.9704e-02],\n",
       "           [ 2.2847e-02,  1.8531e-01,  1.5682e-01,  ..., -7.1075e-03,\n",
       "            -1.1146e-01, -5.8464e-03]],\n",
       " \n",
       "          [[ 5.3845e-02, -1.6357e-02,  1.9031e-01,  ...,  3.1311e-01,\n",
       "            -4.6882e-01, -2.8125e-02],\n",
       "           [ 4.5847e-02, -3.0759e-02,  1.3483e-01,  ...,  2.8400e-01,\n",
       "            -4.1348e-01,  2.8337e-02],\n",
       "           [ 8.0211e-02, -5.8806e-02,  1.4561e-01,  ...,  2.1693e-01,\n",
       "            -3.1245e-01,  5.7660e-02],\n",
       "           ...,\n",
       "           [ 3.3894e-01, -8.4933e-02,  4.2669e-01,  ...,  1.6044e-01,\n",
       "            -4.1560e-01,  1.2629e-01],\n",
       "           [ 2.4293e-01, -7.5312e-02,  4.2734e-01,  ...,  5.9703e-02,\n",
       "            -2.5230e-01,  1.1755e-01],\n",
       "           [ 2.7420e-01, -4.2368e-02,  3.2776e-01,  ...,  8.3515e-02,\n",
       "            -2.6412e-01,  4.2751e-02]],\n",
       " \n",
       "          [[ 4.7731e-02, -2.6618e-01, -1.4728e-02,  ..., -5.1581e-01,\n",
       "            -1.3153e-01, -8.1607e-02],\n",
       "           [ 5.0264e-02, -2.6495e-01, -1.4715e-02,  ..., -5.1639e-01,\n",
       "            -1.3097e-01, -8.0724e-02],\n",
       "           [ 2.2380e-01, -1.7030e-01,  8.1203e-02,  ..., -5.8349e-01,\n",
       "            -1.0178e-01, -6.7348e-02],\n",
       "           ...,\n",
       "           [-1.3755e+00,  1.2235e-02, -1.2786e-02,  ...,  4.4532e-02,\n",
       "            -3.5732e-02,  5.9083e-02],\n",
       "           [-1.3419e+00,  2.2235e-02, -9.1179e-03,  ...,  7.9568e-02,\n",
       "            -2.7444e-02,  5.7348e-02],\n",
       "           [-1.3417e+00,  1.7214e-02, -1.1716e-02,  ...,  1.0557e-01,\n",
       "            -2.7939e-02,  7.9595e-02]],\n",
       " \n",
       "          ...,\n",
       " \n",
       "          [[ 3.7003e-01,  6.6668e-01, -2.3362e-01,  ...,  1.4801e-01,\n",
       "            -1.0121e+00, -3.2230e-02],\n",
       "           [ 3.5737e-01,  6.6320e-01, -2.2772e-01,  ...,  1.4529e-01,\n",
       "            -1.0043e+00, -3.5738e-02],\n",
       "           [ 3.2219e-01,  5.8926e-01, -2.3110e-01,  ...,  1.4030e-01,\n",
       "            -9.2217e-01, -6.8783e-02],\n",
       "           ...,\n",
       "           [-4.7150e-02,  2.7815e-01, -2.4205e-01,  ...,  1.9946e-01,\n",
       "             6.4147e-02, -1.6720e-01],\n",
       "           [-3.1538e-02,  1.8730e-01, -2.2213e-01,  ...,  2.4388e-01,\n",
       "             3.9456e-02, -2.2159e-01],\n",
       "           [-4.1855e-02,  3.2469e-01, -2.7244e-01,  ...,  2.0826e-01,\n",
       "             1.0812e-01, -1.5185e-01]],\n",
       " \n",
       "          [[ 1.3526e-01, -1.0313e-01, -1.3085e-01,  ...,  3.4294e-01,\n",
       "            -3.5615e+00, -1.1931e-01],\n",
       "           [-1.2679e-01, -8.1944e-02,  2.3204e-02,  ...,  2.3707e-01,\n",
       "             2.0083e-01, -4.5866e-01],\n",
       "           [-6.2790e-02, -1.1226e-01, -1.6024e-01,  ...,  2.2725e-01,\n",
       "             1.2024e-01, -2.8901e-02],\n",
       "           ...,\n",
       "           [-1.0267e-01, -4.2384e-03,  3.5793e-02,  ..., -8.2050e-02,\n",
       "             5.5000e-03, -1.1877e-02],\n",
       "           [-9.8054e-02,  1.6341e-03,  3.7441e-02,  ..., -8.5458e-02,\n",
       "             9.4961e-03, -8.2612e-03],\n",
       "           [-1.0785e-01, -8.5280e-03,  4.3353e-02,  ..., -1.0269e-01,\n",
       "             2.5023e-02, -1.1164e-02]],\n",
       " \n",
       "          [[ 1.2069e-02, -1.6127e-01,  4.4710e-02,  ..., -2.5060e-01,\n",
       "             1.1916e-01, -1.2552e-01],\n",
       "           [ 5.2154e-02, -6.7207e-02,  9.2605e-02,  ..., -2.3915e-01,\n",
       "             1.8678e-01, -5.2742e-02],\n",
       "           [-7.7657e-02, -2.5580e-01,  8.6138e-02,  ..., -1.5018e-01,\n",
       "             9.9389e-02,  1.2405e-01],\n",
       "           ...,\n",
       "           [ 1.3194e-02,  1.4625e-01,  2.6894e-01,  ..., -9.9225e-02,\n",
       "             1.4967e-02,  2.4579e-01],\n",
       "           [ 8.2122e-02,  2.2671e-01,  2.1150e-01,  ..., -2.2087e-01,\n",
       "            -1.0499e-01,  2.6186e-01],\n",
       "           [ 2.5722e-01,  1.5792e-01,  2.9628e-01,  ..., -1.8265e-02,\n",
       "             4.8170e-02,  3.0451e-02]]]]), tensor([[[[-5.3158e-02, -2.7011e-02, -1.4479e-01,  ..., -1.2655e-02,\n",
       "             7.6431e-03, -5.3931e-01],\n",
       "           [-5.6189e-02, -3.8159e-02, -1.4073e-01,  ..., -2.1786e-03,\n",
       "             6.7966e-03, -5.1049e-01],\n",
       "           [ 1.7028e-03, -1.1609e-01, -9.3657e-02,  ...,  4.3625e-02,\n",
       "             2.1869e-02, -2.6653e-01],\n",
       "           ...,\n",
       "           [ 1.5716e-01, -3.4619e-01,  8.9676e-02,  ...,  8.3261e-02,\n",
       "             6.7632e-02, -1.9567e-01],\n",
       "           [ 1.6288e-01, -3.8601e-01,  9.8828e-03,  ...,  4.9923e-02,\n",
       "             1.3446e-01, -1.2605e-01],\n",
       "           [ 1.7782e-01, -4.5254e-01,  1.5811e-01,  ...,  2.5542e-02,\n",
       "             7.6622e-02, -9.5876e-02]],\n",
       " \n",
       "          [[ 6.2554e-02, -4.3722e-02,  3.4147e-02,  ...,  9.6905e-03,\n",
       "            -6.3391e-03,  5.1561e-02],\n",
       "           [ 6.5401e-02, -3.7588e-02,  3.0064e-02,  ...,  9.4944e-03,\n",
       "            -8.8492e-03,  5.3948e-02],\n",
       "           [ 1.0070e-01,  5.8548e-02, -2.2197e-02,  ...,  5.4529e-03,\n",
       "            -5.2809e-02,  9.0219e-02],\n",
       "           ...,\n",
       "           [ 6.3342e-03,  1.3089e-01,  8.6459e-02,  ..., -5.6296e-02,\n",
       "            -3.6019e-02, -1.0469e-02],\n",
       "           [ 3.4196e-02,  1.3480e-01,  4.8888e-02,  ..., -4.6157e-02,\n",
       "            -2.3078e-02,  3.2950e-02],\n",
       "           [ 3.6556e-02,  1.7365e-01,  1.3920e-01,  ..., -1.4959e-03,\n",
       "            -6.2511e-02, -7.4174e-02]],\n",
       " \n",
       "          [[ 2.8199e-02, -7.2071e-01, -1.2155e-02,  ...,  7.5254e-02,\n",
       "            -9.6059e-03, -4.2387e-02],\n",
       "           [ 2.8414e-02, -7.2100e-01, -1.2165e-02,  ...,  7.4913e-02,\n",
       "            -9.3690e-03, -4.2304e-02],\n",
       "           [ 1.6272e-01, -8.8509e-01, -1.5517e-02,  ..., -1.5435e-01,\n",
       "             1.3398e-01,  8.2688e-03],\n",
       "           ...,\n",
       "           [-3.8529e-01, -1.1170e+00,  9.7836e-02,  ...,  3.9024e-02,\n",
       "             2.4572e-01,  3.7423e-02],\n",
       "           [-1.8453e-01, -1.2271e+00, -2.2377e-01,  ..., -1.3024e-01,\n",
       "            -1.2290e-01,  8.0652e-02],\n",
       "           [ 7.0265e-04, -1.3408e+00, -1.9765e-01,  ..., -5.0983e-02,\n",
       "             2.2517e-02, -1.6857e-02]],\n",
       " \n",
       "          ...,\n",
       " \n",
       "          [[ 2.7786e-02, -7.2100e-02,  1.3063e+00,  ..., -6.9435e-03,\n",
       "             1.7972e-01, -1.0729e-02],\n",
       "           [ 1.5847e-02, -4.4885e-02,  1.3167e+00,  ..., -2.2470e-02,\n",
       "             1.6445e-01,  2.5747e-02],\n",
       "           [-8.5642e-02,  1.6470e-01,  1.4137e+00,  ..., -1.3824e-01,\n",
       "             4.0078e-02,  3.1484e-01],\n",
       "           ...,\n",
       "           [ 1.9237e-01,  9.7075e-02,  1.4016e+00,  ..., -3.0641e-02,\n",
       "             1.6403e-01,  5.6246e-02],\n",
       "           [ 1.8993e-01, -5.0887e-02,  1.4604e+00,  ...,  1.0635e-01,\n",
       "             1.5752e-01, -7.6512e-02],\n",
       "           [ 1.6677e-01, -3.5191e-02,  1.4787e+00,  ...,  8.6492e-02,\n",
       "             1.5519e-01, -3.4993e-02]],\n",
       " \n",
       "          [[ 3.0094e-02, -7.4529e-02, -1.5599e-01,  ...,  1.2713e-01,\n",
       "             1.1163e-01,  2.2045e-01],\n",
       "           [ 1.1280e-01, -5.5218e-02, -1.4478e-01,  ...,  1.8508e-01,\n",
       "             3.9677e-02,  1.4682e-01],\n",
       "           [ 1.0330e-01, -6.2525e-03, -1.5876e-01,  ...,  2.4992e-01,\n",
       "            -8.5972e-02,  2.5035e-02],\n",
       "           ...,\n",
       "           [ 1.3840e-01,  4.2983e-02, -3.0356e-01,  ..., -7.7984e-02,\n",
       "             9.2843e-02,  1.2541e-01],\n",
       "           [ 3.3350e-02,  3.2936e-02, -3.2450e-01,  ..., -1.0143e-01,\n",
       "             6.4833e-02,  9.1847e-02],\n",
       "           [-7.2377e-02,  1.2389e-01, -2.0523e-01,  ..., -5.7335e-02,\n",
       "             1.6078e-01,  2.0228e-01]],\n",
       " \n",
       "          [[ 3.4855e-02,  2.2866e-02,  4.6071e-03,  ..., -1.1598e-02,\n",
       "             2.2996e-01,  4.1825e-03],\n",
       "           [ 5.8476e-02,  4.0981e-02,  1.8514e-02,  ..., -1.6728e-02,\n",
       "             1.4121e-01,  1.4962e-02],\n",
       "           [ 6.2860e-02,  6.5033e-03,  1.7245e-02,  ...,  2.2875e-03,\n",
       "            -2.6954e-02,  5.8605e-02],\n",
       "           ...,\n",
       "           [-2.1566e-04,  1.4069e-03, -4.2829e-02,  ...,  6.3490e-02,\n",
       "             3.9176e-01, -3.7043e-02],\n",
       "           [-8.8046e-03, -9.1457e-03, -4.5457e-02,  ...,  6.5340e-02,\n",
       "             4.2249e-01, -5.5954e-02],\n",
       "           [-5.7589e-02,  6.4077e-03, -6.6338e-02,  ...,  3.6266e-02,\n",
       "             3.8306e-01, -3.1767e-02]]]]), tensor([[[[ 4.4777e-02,  6.1736e-02,  4.5288e-03,  ...,  1.4945e-02,\n",
       "             9.5080e-02,  3.7487e-02],\n",
       "           [ 4.5078e-02,  6.0735e-02,  5.1526e-03,  ...,  1.5137e-02,\n",
       "             9.4727e-02,  3.6811e-02],\n",
       "           [ 7.0422e-02,  2.6852e-02,  9.8467e-03,  ...,  5.0288e-02,\n",
       "             5.4393e-02,  1.2578e-02],\n",
       "           ...,\n",
       "           [-1.2936e-01, -6.7601e-02, -2.2232e-01,  ...,  8.5935e-01,\n",
       "             6.8810e-02, -3.6144e-02],\n",
       "           [-1.7980e-01, -3.9951e-01,  1.5569e-01,  ...,  5.1045e-01,\n",
       "            -8.1912e-02, -5.9866e-02],\n",
       "           [ 8.9105e-02, -5.1616e-01, -1.2265e-01,  ...,  9.9157e-02,\n",
       "             5.4231e-02,  3.8888e-01]],\n",
       " \n",
       "          [[-4.4544e-02,  1.8459e-02,  7.8195e-02,  ..., -4.6270e-02,\n",
       "            -4.6382e-02, -4.3679e-02],\n",
       "           [-3.9853e-02, -9.4058e-03,  8.7951e-02,  ..., -5.4808e-02,\n",
       "            -6.5341e-02, -3.1244e-03],\n",
       "           [ 3.5758e-03,  3.0357e-02,  8.5635e-02,  ..., -4.0491e-02,\n",
       "            -5.9818e-02, -2.2804e-02],\n",
       "           ...,\n",
       "           [-8.2486e-02, -2.0845e-01, -2.1779e-02,  ...,  1.2634e-01,\n",
       "            -1.4596e-01,  1.0928e-01],\n",
       "           [-1.4220e-01, -2.5820e-01, -6.0459e-03,  ...,  1.4691e-01,\n",
       "            -1.3984e-01,  8.6788e-02],\n",
       "           [-8.6550e-03, -9.4181e-02, -5.7684e-02,  ..., -7.7390e-02,\n",
       "            -6.1456e-02,  3.3404e-02]],\n",
       " \n",
       "          [[ 3.5131e-02, -1.1294e-01, -5.8433e-02,  ..., -2.1699e-02,\n",
       "             7.9027e-02, -1.5214e-01],\n",
       "           [ 2.8319e-02, -1.0577e-01, -5.6841e-02,  ..., -1.4123e-02,\n",
       "             7.6353e-02, -1.4865e-01],\n",
       "           [-1.6813e-01,  5.6286e-02, -6.1713e-02,  ...,  1.7877e-01,\n",
       "             1.3937e-02, -6.1210e-02],\n",
       "           ...,\n",
       "           [-1.7756e-02,  9.1136e-02,  1.2312e-01,  ...,  7.0973e-02,\n",
       "             5.1364e-02, -1.5152e-01],\n",
       "           [ 2.5832e-02,  1.6114e-01, -3.2476e-01,  ...,  5.2163e-02,\n",
       "            -2.5394e-01, -1.0962e-01],\n",
       "           [ 9.7857e-02,  9.9047e-02, -2.2236e-01,  ...,  2.2523e-02,\n",
       "            -1.4279e-01, -1.3514e-01]],\n",
       " \n",
       "          ...,\n",
       " \n",
       "          [[-1.3175e-02,  1.2224e-01, -4.5414e-04,  ..., -2.2372e-02,\n",
       "             6.9072e-02, -4.5019e-02],\n",
       "           [-2.2938e-02,  9.4245e-02, -9.5896e-03,  ..., -1.5188e-02,\n",
       "             6.2071e-02, -2.9337e-02],\n",
       "           [-2.8149e-02,  8.9357e-02, -7.7425e-03,  ..., -3.1859e-02,\n",
       "             5.2339e-02, -2.3721e-02],\n",
       "           ...,\n",
       "           [ 6.1300e-02,  9.7265e-02, -3.4894e-03,  ...,  3.2037e-02,\n",
       "             7.5365e-02, -1.3946e-02],\n",
       "           [ 5.5360e-02,  9.9155e-02, -1.0918e-02,  ...,  4.5112e-02,\n",
       "             7.5409e-02, -1.2311e-03],\n",
       "           [ 8.8840e-03,  8.1619e-02,  2.3077e-02,  ...,  6.2030e-02,\n",
       "             7.3067e-02,  1.3901e-02]],\n",
       " \n",
       "          [[-1.7241e-01, -1.2401e-01, -7.3385e-02,  ..., -2.3747e-01,\n",
       "            -2.2798e-02, -4.5728e-02],\n",
       "           [-1.7415e-01, -1.2333e-01, -7.4738e-02,  ..., -2.3429e-01,\n",
       "            -2.3156e-02, -4.5962e-02],\n",
       "           [-1.4687e-01, -9.4386e-02, -9.9493e-02,  ..., -1.8922e-01,\n",
       "            -7.3642e-03,  3.6723e-02],\n",
       "           ...,\n",
       "           [ 1.7458e-01,  1.7426e-01, -2.9990e-01,  ..., -3.9152e-01,\n",
       "             2.9047e-01,  4.9500e-01],\n",
       "           [ 1.3441e-01,  1.5319e-01, -1.2344e-01,  ..., -3.9555e-01,\n",
       "             2.5344e-01,  2.5046e-01],\n",
       "           [ 1.1500e-01,  1.0642e-01, -2.6259e-01,  ..., -2.6815e-01,\n",
       "             1.1262e-01,  2.3583e-01]],\n",
       " \n",
       "          [[ 1.2600e-01, -6.7216e-02, -2.9149e-02,  ..., -9.5827e-03,\n",
       "            -9.1333e-02, -1.0246e-01],\n",
       "           [ 1.1489e-01, -6.2807e-02, -1.4992e-02,  ..., -3.4096e-03,\n",
       "            -6.4351e-02, -1.2643e-01],\n",
       "           [ 1.1608e-01, -7.7220e-02, -1.4519e-02,  ..., -9.8163e-02,\n",
       "            -1.3757e-01, -4.9789e-02],\n",
       "           ...,\n",
       "           [ 5.5695e-02, -1.2351e-01, -2.0247e-03,  ..., -6.7740e-03,\n",
       "            -2.3992e-02, -2.0678e-01],\n",
       "           [-1.1565e-01, -1.2387e-01,  3.9090e-02,  ..., -1.6284e-01,\n",
       "             6.7461e-02, -2.0478e-01],\n",
       "           [ 1.1795e-02, -6.6267e-02, -1.5495e-02,  ..., -2.2531e-02,\n",
       "            -1.9620e-01, -1.0832e-01]]]]), tensor([[[[-0.0067, -0.0390,  0.0190,  ...,  0.0640,  0.0278,  0.0629],\n",
       "           [-0.0026, -0.0462,  0.0234,  ...,  0.0644,  0.0286,  0.0558],\n",
       "           [-0.0054, -0.0426,  0.0208,  ...,  0.0631,  0.0279,  0.0592],\n",
       "           ...,\n",
       "           [-0.0062, -0.0121,  0.0144,  ...,  0.0461,  0.0124,  0.0431],\n",
       "           [ 0.1835,  0.4880, -0.1421,  ...,  0.0155, -0.1823, -0.4051],\n",
       "           [ 0.1447,  0.0680, -0.0328,  ..., -0.0070, -0.0681, -0.0082]],\n",
       " \n",
       "          [[-0.0576, -0.0099, -0.1370,  ..., -0.0346,  0.0512, -0.0128],\n",
       "           [-0.0562, -0.0094, -0.1385,  ..., -0.0311,  0.0494, -0.0106],\n",
       "           [-0.0480, -0.0097, -0.1405,  ..., -0.0302,  0.0472, -0.0112],\n",
       "           ...,\n",
       "           [-0.1665, -0.2625, -0.1870,  ...,  0.0466,  0.1385, -0.0030],\n",
       "           [-0.1304, -0.2727, -0.0355,  ...,  0.0443,  0.3243,  0.1406],\n",
       "           [-0.0837, -0.1804, -0.0412,  ...,  0.0302,  0.2437,  0.1012]],\n",
       " \n",
       "          [[ 0.0604,  0.0878,  0.0924,  ...,  0.0208, -0.0688, -0.0054],\n",
       "           [ 0.0572,  0.1028,  0.0809,  ...,  0.0428, -0.0496, -0.0087],\n",
       "           [ 0.0407,  0.1436,  0.0465,  ...,  0.1127, -0.0441, -0.0244],\n",
       "           ...,\n",
       "           [ 0.1410,  0.0467,  0.0498,  ..., -0.1145, -0.2543, -0.1764],\n",
       "           [ 0.1750,  0.0437,  0.0833,  ..., -0.1043, -0.2477, -0.1799],\n",
       "           [ 0.1837, -0.0043,  0.0129,  ..., -0.1009, -0.2973, -0.1830]],\n",
       " \n",
       "          ...,\n",
       " \n",
       "          [[-0.0070,  0.0802, -0.0752,  ...,  0.0503,  0.0462, -0.1375],\n",
       "           [-0.0049,  0.0842, -0.0732,  ...,  0.0503,  0.0406, -0.1355],\n",
       "           [ 0.0026,  0.0853, -0.0772,  ...,  0.0382,  0.0345, -0.1200],\n",
       "           ...,\n",
       "           [ 0.0259,  0.0120, -0.0569,  ...,  0.0265, -0.1290, -0.2125],\n",
       "           [ 0.0427, -0.1199, -0.1898,  ..., -0.0508, -0.2825,  0.7062],\n",
       "           [ 0.0708, -0.0686, -0.1562,  ..., -0.0160, -0.2869,  0.4551]],\n",
       " \n",
       "          [[-0.1263, -0.0504,  0.1054,  ..., -0.0691,  0.0588, -0.0133],\n",
       "           [-0.1264, -0.0490,  0.1047,  ..., -0.0679,  0.0604, -0.0146],\n",
       "           [-0.1167, -0.0609,  0.1087,  ..., -0.0666,  0.0427, -0.0100],\n",
       "           ...,\n",
       "           [-0.0689, -0.0160,  0.1607,  ...,  0.0484,  0.1417,  0.0140],\n",
       "           [-0.0856, -0.0424,  0.0916,  ...,  0.0653,  0.2348, -0.0582],\n",
       "           [-0.1395, -0.0551,  0.1045,  ...,  0.0230,  0.1368, -0.0028]],\n",
       " \n",
       "          [[-0.0113, -0.0104, -0.0172,  ..., -0.0266,  0.0108, -0.0183],\n",
       "           [-0.0113, -0.0104, -0.0172,  ..., -0.0266,  0.0108, -0.0183],\n",
       "           [ 0.7741, -0.7137,  0.0497,  ..., -0.2541,  0.0425, -1.1306],\n",
       "           ...,\n",
       "           [ 0.3940,  0.0665,  0.1925,  ..., -0.0817, -0.1081, -0.6165],\n",
       "           [-0.9556, -0.4104, -0.3715,  ..., -0.1039, -0.5645, -0.1564],\n",
       "           [-0.3943, -0.5204, -0.0747,  ...,  0.2551, -0.2825, -0.2775]]]]), tensor([[[[-2.0445e-02, -2.5204e-02,  4.1555e-03,  ..., -1.1104e-02,\n",
       "            -2.9513e-02,  3.5464e-01],\n",
       "           [-1.7085e-02, -2.7360e-02,  7.3207e-03,  ..., -1.3022e-02,\n",
       "            -2.9353e-02,  3.4744e-01],\n",
       "           [ 5.4750e-04, -3.8171e-02,  1.8033e-02,  ...,  3.8441e-03,\n",
       "            -2.3397e-02,  3.1944e-01],\n",
       "           ...,\n",
       "           [ 6.2355e-01,  1.6640e-02,  3.6297e-01,  ..., -3.9496e-01,\n",
       "             2.2554e-01, -5.6615e-01],\n",
       "           [-3.2096e-01, -4.6620e-01,  1.6616e+00,  ...,  1.0971e+00,\n",
       "             5.3861e-02, -4.6522e-01],\n",
       "           [ 1.9909e-01,  1.2374e+00,  5.3901e-01,  ..., -1.2238e+00,\n",
       "             6.0576e-01, -6.8629e-01]],\n",
       " \n",
       "          [[ 9.4346e-03, -1.1697e-02,  2.7112e-02,  ..., -3.1396e-02,\n",
       "             2.7949e-03,  6.9063e-03],\n",
       "           [ 9.4350e-03, -1.1698e-02,  2.7115e-02,  ..., -3.1400e-02,\n",
       "             2.8027e-03,  6.8986e-03],\n",
       "           [ 9.7303e-03, -1.2256e-02,  2.7310e-02,  ..., -3.1413e-02,\n",
       "             3.0725e-03,  6.4740e-03],\n",
       "           ...,\n",
       "           [ 2.0902e-02, -1.8776e-01,  1.3093e-01,  ...,  1.1146e-01,\n",
       "            -1.1906e-02,  5.3453e-02],\n",
       "           [-5.9124e-02, -5.9498e-03, -1.9237e-01,  ...,  2.0890e-01,\n",
       "             5.9705e-01,  3.8585e-02],\n",
       "           [-8.5321e-02, -6.6627e-02, -4.2183e-01,  ..., -2.0656e-01,\n",
       "             2.0793e-01,  1.0909e-01]],\n",
       " \n",
       "          [[-5.9270e-02,  1.1082e-02, -4.5038e-02,  ..., -4.3137e-02,\n",
       "             8.6572e-03, -8.0082e-02],\n",
       "           [-5.9212e-02,  9.3929e-03, -4.3397e-02,  ..., -4.0226e-02,\n",
       "             2.6718e-03, -8.5140e-02],\n",
       "           [-4.4662e-02, -1.9237e-02, -2.3470e-02,  ..., -7.7794e-03,\n",
       "            -5.2681e-02, -1.4018e-01],\n",
       "           ...,\n",
       "           [-2.4006e-02,  3.0067e-01,  7.9694e-03,  ..., -3.1628e-03,\n",
       "            -2.6171e-01,  6.3252e-02],\n",
       "           [ 7.1499e-02,  2.2414e-01, -1.1970e-01,  ..., -7.2477e-03,\n",
       "            -8.2446e-03, -1.0974e-01],\n",
       "           [ 2.6795e-02,  2.7037e-01, -1.8685e-01,  ..., -6.9145e-02,\n",
       "             8.6142e-02, -1.8175e-01]],\n",
       " \n",
       "          ...,\n",
       " \n",
       "          [[-3.2385e-01, -1.9132e-01, -5.7135e-02,  ..., -4.8442e-01,\n",
       "             2.1551e-01,  8.8049e-02],\n",
       "           [-2.9147e-01, -2.0975e-01, -4.9684e-02,  ..., -4.7028e-01,\n",
       "             2.0635e-01,  6.6343e-02],\n",
       "           [-7.2468e-02, -3.7429e-01, -1.0247e-01,  ..., -3.8419e-01,\n",
       "             1.7970e-01, -2.6876e-02],\n",
       "           ...,\n",
       "           [ 9.8019e-02,  9.3726e-01,  1.9041e-01,  ...,  1.6862e-01,\n",
       "            -6.0732e-01, -2.9523e-01],\n",
       "           [ 6.3504e-02,  9.9006e-01,  1.6415e-01,  ...,  1.8194e-01,\n",
       "            -6.5133e-01, -3.7482e-01],\n",
       "           [-2.8151e-02,  5.1904e-01,  1.4706e-01,  ..., -6.2389e-02,\n",
       "             5.0577e-02, -1.9916e-01]],\n",
       " \n",
       "          [[-7.7262e-02, -1.3132e-01, -4.0290e-02,  ..., -1.8987e-01,\n",
       "            -1.2986e-01,  1.2525e-01],\n",
       "           [-7.6624e-02, -1.2561e-01, -7.0783e-02,  ..., -1.6498e-01,\n",
       "            -9.8284e-02,  1.2934e-01],\n",
       "           [-1.2671e-01, -1.6728e-02, -4.2676e-01,  ..., -3.5890e-04,\n",
       "             2.0575e-01,  3.2768e-01],\n",
       "           ...,\n",
       "           [ 7.6950e-03, -1.4202e-01, -8.7383e-02,  ..., -1.6602e-01,\n",
       "            -8.6516e-02,  1.7419e-01],\n",
       "           [ 1.6020e-01, -3.4497e-01, -1.7438e-01,  ..., -2.2203e-01,\n",
       "            -1.4242e-01,  3.4522e-03],\n",
       "           [-1.7092e-03, -2.2170e-01, -7.6809e-02,  ..., -1.8517e-01,\n",
       "            -1.7118e-01,  7.3831e-02]],\n",
       " \n",
       "          [[-3.9177e-02, -3.8475e-02,  1.0400e-01,  ...,  8.6847e-02,\n",
       "            -4.5562e-02,  1.1511e-02],\n",
       "           [-1.7790e-02, -4.7937e-02,  9.5940e-02,  ...,  7.6990e-02,\n",
       "            -5.3681e-02,  1.5812e-02],\n",
       "           [-8.9802e-03, -9.3533e-02, -4.9066e-02,  ..., -4.2552e-02,\n",
       "            -1.3693e-01, -8.4847e-02],\n",
       "           ...,\n",
       "           [ 8.0566e-02, -1.0018e-01, -5.9922e-02,  ..., -9.0981e-02,\n",
       "             2.7844e-02, -1.8901e-01],\n",
       "           [ 1.2667e-01, -2.6255e-02, -1.8866e-01,  ..., -1.3868e-01,\n",
       "             8.8472e-02, -2.7878e-02],\n",
       "           [ 1.9218e-01, -1.4645e-01, -2.2912e-01,  ..., -1.0184e-01,\n",
       "             8.7948e-02, -2.3474e-01]]]]), tensor([[[[ 4.4156e-02, -4.5503e-02,  2.1367e-02,  ..., -7.7268e-02,\n",
       "             4.5902e-03, -9.8988e-02],\n",
       "           [ 2.4406e-02, -4.3911e-02,  2.2386e-03,  ..., -2.1199e-01,\n",
       "            -4.1830e-02, -1.0480e-01],\n",
       "           [-1.6461e-02, -4.6758e-02,  1.6070e-03,  ..., -4.5960e-01,\n",
       "            -1.3208e-01, -1.3127e-01],\n",
       "           ...,\n",
       "           [-8.7394e-02, -5.6401e-02,  4.3222e-01,  ...,  1.3273e-01,\n",
       "            -3.9633e-01, -4.3635e-01],\n",
       "           [ 7.4497e-03,  5.4884e-03,  3.2941e-01,  ..., -1.0238e-01,\n",
       "            -3.0819e-02, -7.6907e-01],\n",
       "           [ 3.7320e-02, -6.9162e-02,  1.2985e-01,  ...,  1.1705e-02,\n",
       "            -1.8229e-01, -2.6937e-01]],\n",
       " \n",
       "          [[ 7.8960e-02,  1.0643e-02, -2.6823e-02,  ..., -3.3341e-02,\n",
       "             1.8051e-02,  4.9981e-04],\n",
       "           [ 8.3757e-02,  1.0387e-03, -2.1439e-02,  ..., -3.3378e-02,\n",
       "             7.3969e-03, -6.3941e-03],\n",
       "           [ 8.2043e-02,  1.8827e-03, -3.4651e-02,  ..., -3.6934e-02,\n",
       "            -5.0265e-04,  4.9565e-03],\n",
       "           ...,\n",
       "           [ 7.9009e-03,  8.5567e-03, -2.9822e-02,  ..., -4.4469e-02,\n",
       "             5.4660e-02, -9.5167e-03],\n",
       "           [-5.1306e-02,  6.8396e-02, -3.4889e-02,  ..., -6.1527e-02,\n",
       "             1.0174e-01,  5.4656e-02],\n",
       "           [-1.4036e-01,  9.9023e-02, -1.1802e-01,  ..., -1.4702e-01,\n",
       "             6.3141e-02,  1.8773e-01]],\n",
       " \n",
       "          [[ 6.1935e-02,  3.2546e-02, -1.2402e-02,  ...,  2.0295e-02,\n",
       "            -7.0058e-02, -4.7498e-02],\n",
       "           [ 6.2291e-02,  3.3089e-02, -1.4115e-02,  ...,  1.8950e-02,\n",
       "            -7.6412e-02, -4.6511e-02],\n",
       "           [ 5.8196e-02,  4.0529e-02, -1.4924e-02,  ...,  2.5022e-02,\n",
       "            -8.0704e-02, -4.6151e-02],\n",
       "           ...,\n",
       "           [ 7.6906e-03,  1.1838e-02,  2.0757e-02,  ..., -3.7814e-02,\n",
       "            -1.4301e-01, -3.0126e-02],\n",
       "           [-8.0949e-02, -5.4451e-02,  3.6390e-02,  ...,  4.2741e-04,\n",
       "            -2.4950e-01, -7.5433e-02],\n",
       "           [ 1.4372e-02, -1.5123e-02,  1.3397e-02,  ..., -7.1440e-02,\n",
       "            -1.9249e-01, -4.1693e-02]],\n",
       " \n",
       "          ...,\n",
       " \n",
       "          [[ 5.5079e-03,  2.9018e-02,  3.0611e-02,  ..., -6.8362e-02,\n",
       "            -3.0764e-02,  2.3743e-02],\n",
       "           [ 5.4606e-03,  2.9003e-02,  3.0628e-02,  ..., -6.8325e-02,\n",
       "            -3.0752e-02,  2.3720e-02],\n",
       "           [-1.7942e-03,  2.3136e-02,  3.0182e-02,  ..., -6.4451e-02,\n",
       "            -3.0343e-02,  2.5459e-02],\n",
       "           ...,\n",
       "           [ 2.0412e-01,  5.8140e-02,  2.0861e-01,  ...,  3.7878e-01,\n",
       "             4.0726e-03, -1.8420e-01],\n",
       "           [-6.5949e-02,  1.6865e-01, -1.2577e-02,  ..., -3.8186e-01,\n",
       "             3.8270e-01,  3.0944e-01],\n",
       "           [-1.7518e-02,  8.4806e-02,  1.9258e-01,  ..., -2.6925e-01,\n",
       "             3.5569e-02, -1.0957e-02]],\n",
       " \n",
       "          [[ 4.7859e-02, -1.7359e-02,  2.1210e-02,  ...,  3.9692e-02,\n",
       "             3.3995e-05,  1.8736e-02],\n",
       "           [ 5.3846e-02, -2.1057e-02,  9.0372e-03,  ...,  4.1038e-02,\n",
       "             3.4393e-03,  1.9160e-02],\n",
       "           [ 5.8773e-02, -2.1386e-02,  5.8891e-03,  ...,  2.0031e-02,\n",
       "             9.6486e-04,  1.6423e-02],\n",
       "           ...,\n",
       "           [ 9.0992e-02, -1.5691e-01,  1.7419e-01,  ...,  1.4527e-01,\n",
       "             1.5612e+00, -1.4993e-01],\n",
       "           [-1.3415e-01,  1.2056e-01, -1.1841e-01,  ...,  3.1933e-01,\n",
       "             1.0691e+00,  7.3484e-02],\n",
       "           [-1.9593e-01,  3.1087e-02,  1.5740e-01,  ...,  1.1333e-01,\n",
       "             2.0099e-01, -1.2907e-01]],\n",
       " \n",
       "          [[ 7.4020e-02, -1.8924e-01, -7.5778e-02,  ..., -2.3032e-02,\n",
       "             1.9702e-01, -4.2292e-02],\n",
       "           [ 6.8235e-02, -1.9380e-01, -7.5885e-02,  ..., -2.3120e-02,\n",
       "             1.9390e-01, -4.4389e-02],\n",
       "           [ 8.9105e-02, -1.7961e-01, -7.6946e-02,  ..., -2.0525e-02,\n",
       "             1.6924e-01,  3.6052e-02],\n",
       "           ...,\n",
       "           [ 2.7242e-01, -3.2295e-01, -1.4108e-01,  ...,  7.7479e-02,\n",
       "             6.8028e-03,  1.3323e-01],\n",
       "           [ 8.0519e-01, -4.4442e-01, -1.4052e-01,  ...,  5.7740e-01,\n",
       "            -6.9142e-01,  4.1646e-01],\n",
       "           [ 9.5387e-02, -2.2560e-01, -1.1303e-01,  ..., -1.1127e-02,\n",
       "             2.0929e-01, -4.1898e-02]]]]), tensor([[[[-3.3840e-02,  5.1356e-02, -5.2536e-02,  ..., -1.7040e-02,\n",
       "             8.9538e-03,  1.8172e-02],\n",
       "           [-3.9548e-02,  7.8460e-02, -2.5702e-02,  ..., -2.6968e-02,\n",
       "             5.2112e-03,  4.3777e-02],\n",
       "           [-5.3194e-02,  1.1980e-01, -2.1149e-02,  ..., -2.1779e-02,\n",
       "             1.9250e-03,  5.8256e-02],\n",
       "           ...,\n",
       "           [-2.2813e-02,  3.0603e-02, -6.9339e-02,  ...,  4.0195e-03,\n",
       "             3.0562e-02,  6.1215e-02],\n",
       "           [ 8.3460e-03, -3.2548e-02,  2.0467e-01,  ...,  1.7913e-01,\n",
       "            -2.1231e-02,  2.4920e-01],\n",
       "           [-2.0256e-02,  2.7758e-02, -8.1479e-02,  ..., -3.6142e-02,\n",
       "             2.2070e-02,  4.9136e-02]],\n",
       " \n",
       "          [[ 1.7151e-03, -2.2496e-02,  1.8256e-02,  ...,  2.3674e-02,\n",
       "            -3.9419e-02,  1.3368e-02],\n",
       "           [ 9.6316e-03, -2.4794e-02,  1.6509e-02,  ...,  2.5824e-02,\n",
       "            -3.0958e-02,  2.1287e-02],\n",
       "           [ 1.6700e-02, -3.0848e-02,  1.2645e-02,  ...,  2.6764e-02,\n",
       "            -2.0119e-02,  2.8515e-02],\n",
       "           ...,\n",
       "           [ 1.9808e-01, -1.9397e-01, -4.1260e-01,  ...,  1.7398e-01,\n",
       "             1.2352e-01, -4.5186e-03],\n",
       "           [ 2.1126e-01, -8.4371e-02, -1.7295e-01,  ...,  1.6328e-01,\n",
       "             8.8274e-02,  7.8346e-02],\n",
       "           [ 2.1415e-01, -8.1591e-02, -9.5385e-01,  ...,  4.4533e-01,\n",
       "             1.6737e-01,  2.7095e-01]],\n",
       " \n",
       "          [[ 5.1423e-02, -2.8501e-02,  4.2883e-02,  ...,  4.4337e-02,\n",
       "            -9.0665e-03,  2.0622e-02],\n",
       "           [ 5.1478e-02, -2.8282e-02,  4.2700e-02,  ...,  4.4248e-02,\n",
       "            -9.2017e-03,  2.0518e-02],\n",
       "           [ 5.2573e-02, -2.7578e-02,  4.2677e-02,  ...,  4.3559e-02,\n",
       "            -9.5479e-03,  2.0416e-02],\n",
       "           ...,\n",
       "           [-1.4205e-01,  7.6112e-02,  3.7550e-01,  ...,  4.1218e-01,\n",
       "            -1.3568e-02,  2.3428e-01],\n",
       "           [-4.8872e-01, -1.5222e+00,  7.3466e-01,  ..., -5.2264e-01,\n",
       "            -7.1827e-01, -1.6738e+00],\n",
       "           [-4.1803e-03, -1.1867e-01, -1.2025e-01,  ..., -3.4004e-01,\n",
       "            -4.0069e-01, -1.0277e-01]],\n",
       " \n",
       "          ...,\n",
       " \n",
       "          [[-1.7296e-01,  8.5940e-02,  4.7100e-02,  ...,  4.9778e-02,\n",
       "             4.9896e-02, -1.2460e-01],\n",
       "           [-1.7637e-01,  9.3790e-02,  3.9199e-02,  ...,  5.9053e-02,\n",
       "             5.5784e-02, -1.2696e-01],\n",
       "           [-1.8498e-01,  1.3531e-01,  3.9910e-02,  ...,  5.8260e-02,\n",
       "             1.0128e-01, -1.3578e-01],\n",
       "           ...,\n",
       "           [-1.3335e-01,  1.5734e-01,  2.3351e-02,  ..., -1.0688e-01,\n",
       "             3.6465e-04, -7.0939e-02],\n",
       "           [ 1.7071e-01,  1.0932e-01,  8.2333e-02,  ..., -3.6281e-01,\n",
       "            -1.5585e-01, -1.0289e-01],\n",
       "           [-1.7079e-01,  8.9904e-02,  5.0147e-02,  ...,  4.5223e-02,\n",
       "             4.9430e-02, -1.2806e-01]],\n",
       " \n",
       "          [[-5.8035e-01, -6.5812e-03,  4.1985e-02,  ..., -1.0883e-02,\n",
       "             2.2616e-02, -5.1118e-03],\n",
       "           [-5.8155e-01, -7.0264e-03,  4.1180e-02,  ..., -1.0511e-02,\n",
       "             2.3361e-02, -5.9439e-03],\n",
       "           [-5.9535e-01, -9.8606e-03,  3.5155e-02,  ..., -4.8433e-03,\n",
       "             2.8746e-02, -1.2936e-02],\n",
       "           ...,\n",
       "           [-5.1076e-01,  3.3604e-01, -2.5454e-01,  ..., -9.6996e-02,\n",
       "            -3.8836e-02, -1.6018e-01],\n",
       "           [-1.4505e+00, -1.2403e-01,  5.1228e-01,  ..., -1.9706e-01,\n",
       "             3.7773e-01,  1.9596e-01],\n",
       "           [-6.8049e-01, -2.8047e-02,  5.4698e-02,  ..., -3.2690e-03,\n",
       "             8.0034e-02, -2.1590e-02]],\n",
       " \n",
       "          [[ 1.7636e-02,  8.7660e-02, -2.9929e-02,  ...,  6.1231e-02,\n",
       "             3.0408e-02, -4.9728e-02],\n",
       "           [ 1.8585e-02,  8.6595e-02, -3.0400e-02,  ...,  6.0819e-02,\n",
       "             2.8122e-02, -4.8503e-02],\n",
       "           [ 2.6955e-02,  8.1603e-02, -3.2060e-02,  ...,  5.8815e-02,\n",
       "             9.7074e-03, -3.6825e-02],\n",
       "           ...,\n",
       "           [-8.7232e-01, -1.3215e+00, -2.3365e-01,  ..., -1.4674e-01,\n",
       "            -1.2263e+00,  1.0602e-01],\n",
       "           [ 1.6452e+00, -1.5782e+00,  2.3454e-01,  ..., -6.8060e-01,\n",
       "             7.6078e-01,  8.5634e-01],\n",
       "           [ 1.4512e+00, -8.8602e-02, -5.4888e-01,  ..., -2.3431e-01,\n",
       "             1.0992e+00,  1.6560e+00]]]]), tensor([[[[ 5.6290e-02, -8.3898e-03, -3.2728e-02,  ...,  1.2299e-01,\n",
       "            -5.8425e-02, -3.5874e-02],\n",
       "           [ 6.5998e-02, -1.2869e-02, -9.4648e-03,  ...,  1.3207e-01,\n",
       "            -3.1339e-02, -4.0359e-02],\n",
       "           [ 9.3605e-02, -1.5336e-02,  9.7104e-02,  ...,  1.6055e-01,\n",
       "             1.5502e-02, -4.3601e-02],\n",
       "           ...,\n",
       "           [ 1.8981e-01,  9.4050e-03,  3.1291e-01,  ...,  1.1292e-01,\n",
       "             1.8040e-01, -1.7776e-01],\n",
       "           [ 7.6868e-01,  1.3748e+00, -1.2349e-01,  ..., -3.7503e-01,\n",
       "             5.9694e-03,  2.2477e-01],\n",
       "           [ 3.3977e-01,  4.9014e-01,  5.7010e-02,  ..., -7.0226e-02,\n",
       "             8.5724e-02,  2.0565e-02]],\n",
       " \n",
       "          [[ 3.1383e-03,  4.1016e-02,  3.8460e-02,  ..., -1.7263e-02,\n",
       "            -1.1139e-02,  1.8143e-02],\n",
       "           [ 5.0529e-03,  4.3820e-02,  3.8880e-02,  ..., -1.7138e-02,\n",
       "            -1.2873e-02,  2.3981e-02],\n",
       "           [ 7.5786e-03,  3.9624e-02,  3.6748e-02,  ..., -1.7121e-02,\n",
       "            -1.3300e-02,  2.5645e-02],\n",
       "           ...,\n",
       "           [-4.5675e-01,  5.4185e-01,  3.6853e-01,  ...,  4.8595e-01,\n",
       "             4.2385e-01, -6.9035e-01],\n",
       "           [ 7.7619e-01,  4.1086e-01,  9.4636e-01,  ...,  9.3783e-02,\n",
       "             1.4017e-02, -2.6828e-01],\n",
       "           [ 2.3534e-01,  1.5189e-01,  1.8557e-01,  ...,  1.1512e-01,\n",
       "             7.2833e-02,  2.6103e-01]],\n",
       " \n",
       "          [[ 5.3165e-02, -4.5788e-02,  5.7326e-02,  ...,  4.5067e-02,\n",
       "            -6.8973e-02, -5.1504e-02],\n",
       "           [ 2.3890e-02, -4.1701e-02,  6.9555e-02,  ...,  4.9515e-02,\n",
       "            -5.7265e-02, -3.0865e-02],\n",
       "           [-5.1758e-02,  1.0948e-02,  1.0380e-01,  ...,  4.6003e-02,\n",
       "            -3.2498e-02,  2.4254e-02],\n",
       "           ...,\n",
       "           [ 5.7535e-02, -1.9561e-01,  3.2727e-02,  ...,  6.9427e-02,\n",
       "            -8.6181e-02, -5.4425e-02],\n",
       "           [ 1.0213e-01, -4.2315e-01, -5.4346e-01,  ...,  4.0520e-01,\n",
       "             3.3328e-02,  7.6128e-01],\n",
       "           [ 2.8778e-02, -2.3204e-01, -6.1353e-03,  ...,  2.9147e-01,\n",
       "            -4.8145e-02,  1.0931e-01]],\n",
       " \n",
       "          ...,\n",
       " \n",
       "          [[-8.0268e-02, -3.9691e-02,  4.4904e-02,  ..., -9.1071e-02,\n",
       "             3.0109e-02,  1.0002e-02],\n",
       "           [-6.8463e-02, -1.2700e-02,  6.1640e-02,  ..., -9.9404e-02,\n",
       "             4.9362e-02, -2.0657e-02],\n",
       "           [-3.4342e-02, -2.2467e-02,  5.0360e-02,  ..., -8.7885e-02,\n",
       "             5.2111e-02, -9.8007e-03],\n",
       "           ...,\n",
       "           [ 1.5913e-01, -2.1626e-01,  8.7628e-02,  ..., -2.3484e-02,\n",
       "            -4.2626e-01, -2.7560e-01],\n",
       "           [ 3.1176e-01, -2.1225e-01,  3.0759e-01,  ...,  1.0078e-01,\n",
       "            -7.6680e-01, -2.1244e-01],\n",
       "           [ 2.4981e-01, -4.0895e-02,  4.0807e-01,  ...,  4.0221e-03,\n",
       "            -3.4595e-01, -2.7296e-01]],\n",
       " \n",
       "          [[ 1.4398e-01, -8.5340e-02,  1.2646e-01,  ...,  7.1252e-02,\n",
       "             1.1498e-02, -1.3013e-01],\n",
       "           [ 9.2552e-02, -6.9341e-02,  1.4654e-01,  ...,  7.4980e-02,\n",
       "             9.4286e-02, -1.5424e-01],\n",
       "           [ 1.2198e-01, -7.8019e-02,  1.3244e-01,  ...,  1.1586e-01,\n",
       "             7.6785e-02, -1.4914e-01],\n",
       "           ...,\n",
       "           [ 2.4561e-01, -3.5021e-02,  2.1073e-01,  ..., -1.0979e-04,\n",
       "            -2.8558e-01, -1.4937e-01],\n",
       "           [ 4.9975e-01,  8.2080e-02,  2.1782e-01,  ...,  1.9888e-02,\n",
       "            -1.4450e-01, -1.8950e-01],\n",
       "           [ 4.1342e-01, -1.2274e-02,  1.7417e-01,  ..., -1.7125e-02,\n",
       "            -5.4055e-02, -1.6802e-01]],\n",
       " \n",
       "          [[ 1.9912e-01, -4.9858e-02, -7.0490e-02,  ...,  4.4311e-02,\n",
       "             3.8241e-02,  1.4098e-02],\n",
       "           [ 1.6561e-01, -7.2702e-02, -6.6845e-02,  ...,  2.3496e-02,\n",
       "             8.3843e-02, -8.4095e-03],\n",
       "           [ 1.8399e-01, -4.7293e-02, -5.4218e-02,  ...,  2.0844e-02,\n",
       "             5.7902e-02,  3.6344e-03],\n",
       "           ...,\n",
       "           [ 6.8831e-01,  1.5678e+00, -5.0586e-01,  ..., -7.4727e-01,\n",
       "             6.2908e-01, -4.5721e-01],\n",
       "           [ 1.8139e-01,  1.4360e-01, -1.2093e-01,  ..., -3.4298e-02,\n",
       "            -2.7092e-01, -4.3963e-02],\n",
       "           [ 7.8394e-02,  1.9056e-01, -3.6911e-01,  ..., -7.3148e-02,\n",
       "            -5.0134e-01, -7.2051e-01]]]]), tensor([[[[-5.0952e-02, -8.5158e-02,  1.5329e-02,  ...,  1.0666e-01,\n",
       "            -2.3960e-02,  2.2550e-02],\n",
       "           [-8.9490e-02,  5.7767e-02,  6.1483e-02,  ...,  8.6391e-02,\n",
       "            -9.2881e-02,  6.4261e-02],\n",
       "           [-7.8945e-02, -9.2755e-02,  4.7666e-03,  ...,  1.0039e-01,\n",
       "            -9.5701e-02,  4.0234e-02],\n",
       "           ...,\n",
       "           [ 2.3634e-01, -1.6682e-01,  3.2622e-01,  ..., -4.1448e-03,\n",
       "            -1.1281e-01,  2.5362e-01],\n",
       "           [ 4.1340e-02, -1.0767e-01,  4.6863e-02,  ..., -2.9768e-02,\n",
       "            -4.2552e-02,  1.3915e-01],\n",
       "           [ 5.1440e-02, -8.0437e-02,  6.3537e-03,  ..., -1.1668e-01,\n",
       "            -7.0985e-02,  1.5608e-01]],\n",
       " \n",
       "          [[ 1.8550e-02,  1.3068e-02, -3.4706e-02,  ...,  3.4283e-02,\n",
       "             3.0399e-02,  3.5034e-02],\n",
       "           [ 1.6894e-02,  4.4759e-03, -3.7147e-02,  ...,  2.6662e-02,\n",
       "             3.2047e-02,  3.5031e-02],\n",
       "           [ 4.3220e-03, -8.6753e-03, -5.0631e-02,  ...,  2.6501e-02,\n",
       "             4.1732e-02,  2.0333e-02],\n",
       "           ...,\n",
       "           [-5.7634e-02,  4.9092e-02, -1.6594e-02,  ..., -7.1818e-02,\n",
       "            -2.4645e-02, -2.2153e-01],\n",
       "           [-1.8704e-01,  1.2445e-01, -4.3170e-01,  ...,  5.0354e-02,\n",
       "            -9.8994e-02, -1.4612e-01],\n",
       "           [-2.7084e-01, -4.6877e-01, -3.3956e-01,  ..., -2.1320e-02,\n",
       "            -1.1113e-01, -3.1914e-01]],\n",
       " \n",
       "          [[ 4.1980e-02,  3.6665e-02, -8.6284e-02,  ...,  5.5334e-03,\n",
       "            -8.6415e-03,  1.1783e-02],\n",
       "           [ 3.5236e-02,  5.0206e-02, -8.5539e-02,  ..., -8.3668e-03,\n",
       "            -3.3765e-02,  1.8862e-02],\n",
       "           [ 3.7461e-02,  4.5267e-02, -8.5400e-02,  ...,  1.4969e-04,\n",
       "            -2.5197e-02,  1.3067e-02],\n",
       "           ...,\n",
       "           [ 2.2452e-01, -2.7980e-02, -3.2815e-02,  ..., -4.8940e-02,\n",
       "            -2.7862e-01, -1.9060e-01],\n",
       "           [-2.3169e-02, -2.0929e-01,  5.8996e-02,  ..., -1.4305e-01,\n",
       "            -9.7163e-02, -1.1670e-01],\n",
       "           [-1.1414e-01, -1.4866e-01,  4.8513e-01,  ..., -5.9028e-01,\n",
       "            -2.9744e-01,  3.5193e-01]],\n",
       " \n",
       "          ...,\n",
       " \n",
       "          [[-2.3204e-02,  1.8427e-02,  2.4614e-03,  ..., -1.2041e-02,\n",
       "            -1.7677e-02,  3.8418e-02],\n",
       "           [-1.6454e-02,  1.8356e-02,  7.0680e-03,  ..., -9.3847e-03,\n",
       "            -2.0213e-02,  4.1491e-02],\n",
       "           [-2.0637e-02,  2.0272e-02,  4.4034e-03,  ..., -6.9612e-03,\n",
       "            -2.1040e-02,  4.2772e-02],\n",
       "           ...,\n",
       "           [ 4.9332e-01,  9.9355e-01, -3.4039e-01,  ...,  3.7200e-01,\n",
       "             8.9470e-02, -4.6547e-01],\n",
       "           [-1.3515e-01,  9.7456e-02,  1.0927e-01,  ..., -3.6819e-01,\n",
       "            -8.6944e-02, -6.1935e-02],\n",
       "           [-3.1791e-04,  1.4303e-01,  9.6930e-04,  ..., -2.5110e-01,\n",
       "            -1.7932e-01, -2.6968e-01]],\n",
       " \n",
       "          [[-7.0099e-02, -3.3619e-02,  3.3106e-02,  ...,  1.6559e-02,\n",
       "            -5.4840e-02, -1.1412e-01],\n",
       "           [-6.3375e-02, -4.7938e-02,  2.2457e-02,  ...,  1.7795e-02,\n",
       "            -7.4724e-02, -1.0887e-01],\n",
       "           [-7.4712e-02, -2.4556e-02,  1.6352e-02,  ...,  2.1428e-02,\n",
       "            -7.8187e-02, -1.1793e-01],\n",
       "           ...,\n",
       "           [-7.5133e-02, -2.6773e-02,  2.6146e-02,  ...,  1.7660e-02,\n",
       "            -6.7446e-02, -1.2633e-01],\n",
       "           [-1.8381e-01,  1.1266e-01, -6.5401e-02,  ...,  1.8371e-01,\n",
       "            -3.1543e-01, -5.3841e-01],\n",
       "           [-7.5724e-02, -3.0354e-02,  3.2425e-02,  ...,  1.7675e-02,\n",
       "            -6.4796e-02, -1.1936e-01]],\n",
       " \n",
       "          [[-9.0857e-03,  2.9856e-02, -5.1908e-02,  ..., -2.9492e-02,\n",
       "             1.4509e-02, -6.4225e-03],\n",
       "           [-1.0975e-02,  2.6603e-02, -5.0006e-02,  ..., -3.1127e-02,\n",
       "             1.2340e-02, -7.1502e-03],\n",
       "           [-6.9986e-03,  2.8621e-02, -5.0957e-02,  ..., -2.6258e-02,\n",
       "             1.0700e-02, -8.6985e-03],\n",
       "           ...,\n",
       "           [-4.3088e-01,  1.6700e-01, -5.9449e-01,  ...,  2.4344e-01,\n",
       "            -2.0163e-01,  2.3535e-02],\n",
       "           [ 6.8137e-01,  2.3717e-01, -1.7637e-01,  ..., -1.2476e+00,\n",
       "            -2.1042e-01,  4.5904e-01],\n",
       "           [ 6.1485e-02, -4.8087e-01, -9.1775e-02,  ..., -1.0942e-02,\n",
       "            -5.9504e-01, -4.8388e-02]]]]), tensor([[[[ 5.4015e-03,  2.9766e-02, -9.0847e-02,  ...,  6.2464e-02,\n",
       "            -5.1739e-02, -8.5500e-02],\n",
       "           [-5.2702e-03,  3.6088e-02, -7.2518e-02,  ...,  6.3328e-02,\n",
       "            -4.5666e-02, -1.0461e-01],\n",
       "           [ 7.3477e-03,  4.4251e-02, -9.0462e-02,  ...,  9.1518e-02,\n",
       "            -4.6174e-02, -8.8229e-02],\n",
       "           ...,\n",
       "           [ 2.2272e-01, -3.9027e-01,  8.5533e-01,  ...,  4.4294e-01,\n",
       "            -1.7209e-02, -4.1791e-01],\n",
       "           [-1.5453e-01, -1.4339e-01, -1.4724e-01,  ...,  1.7413e-01,\n",
       "            -2.0234e-01,  1.9062e-01],\n",
       "           [-4.1935e-01, -3.1707e-01, -2.5109e-01,  ...,  2.7293e-01,\n",
       "            -2.7224e-01,  1.9172e-01]],\n",
       " \n",
       "          [[ 3.3422e-02, -6.5674e-03,  1.5283e-02,  ..., -4.2698e-02,\n",
       "            -5.3873e-03, -2.0702e-02],\n",
       "           [ 3.2481e-02, -1.2307e-02,  1.4230e-02,  ..., -3.7169e-02,\n",
       "             1.4462e-03, -1.1800e-02],\n",
       "           [ 1.6581e-02, -4.8961e-03,  1.5747e-02,  ..., -3.7950e-02,\n",
       "            -1.5392e-02, -2.3878e-02],\n",
       "           ...,\n",
       "           [ 8.9526e-02, -5.3688e-01, -1.7747e-02,  ...,  2.6446e-01,\n",
       "             7.0525e-01, -3.2178e-01],\n",
       "           [ 1.9333e-01, -5.5481e-02, -8.9787e-02,  ..., -3.4121e-01,\n",
       "            -3.2474e-02, -2.2586e-01],\n",
       "           [ 3.4107e-01, -2.2033e-01, -9.0098e-02,  ..., -2.8994e-01,\n",
       "             4.7387e-01,  2.9856e-01]],\n",
       " \n",
       "          [[-3.8039e-02,  8.7215e-03, -5.0044e-02,  ..., -1.3773e-02,\n",
       "             3.1722e-02,  9.1816e-02],\n",
       "           [-2.4631e-02,  2.1110e-02, -4.7693e-02,  ..., -2.2667e-02,\n",
       "             2.6268e-02,  6.8915e-02],\n",
       "           [-1.6869e-02,  8.4304e-02, -7.1493e-02,  ..., -1.1158e-02,\n",
       "             2.7667e-02,  5.6455e-02],\n",
       "           ...,\n",
       "           [-5.6155e-01, -6.8561e-01, -4.5142e-01,  ..., -7.5376e-01,\n",
       "             4.0576e-01,  1.3351e-01],\n",
       "           [ 4.8164e-01, -5.3994e-02,  4.6522e-02,  ...,  7.0364e-02,\n",
       "            -2.7411e-01, -5.5801e-01],\n",
       "           [ 5.8790e-01,  4.9576e-02, -1.9269e-01,  ...,  5.3629e-02,\n",
       "             1.6276e-01, -3.4204e-01]],\n",
       " \n",
       "          ...,\n",
       " \n",
       "          [[-7.5321e-02,  3.7616e-02, -1.2597e-02,  ..., -4.5429e-02,\n",
       "            -1.7383e-02,  1.1623e-02],\n",
       "           [-8.8049e-02,  3.9951e-02, -2.1251e-02,  ..., -3.6515e-02,\n",
       "            -4.2986e-02,  2.0476e-02],\n",
       "           [-1.4025e-01,  5.0243e-02, -5.2296e-02,  ...,  8.2844e-03,\n",
       "            -1.5707e-01,  6.9635e-02],\n",
       "           ...,\n",
       "           [-1.0761e-01, -1.7296e-01, -7.0776e-02,  ..., -8.8690e-02,\n",
       "            -2.2647e-01, -7.1749e-02],\n",
       "           [-6.6339e-02, -2.3951e-01, -1.5891e-01,  ..., -4.8519e-02,\n",
       "            -3.2660e-01, -6.6486e-02],\n",
       "           [-1.1478e-01, -4.0624e-02, -6.9951e-02,  ..., -1.3958e-01,\n",
       "            -2.6120e-01,  2.8905e-03]],\n",
       " \n",
       "          [[ 7.8910e-02,  2.2230e-02,  9.0136e-02,  ...,  1.6573e-02,\n",
       "             6.3131e-02,  4.9278e-02],\n",
       "           [ 8.3998e-02,  1.8004e-02,  7.9727e-02,  ...,  1.4754e-02,\n",
       "             6.4636e-02,  5.8966e-02],\n",
       "           [ 6.9335e-02,  1.7709e-02,  9.4760e-02,  ...,  7.7346e-03,\n",
       "             6.9321e-02,  5.3658e-02],\n",
       "           ...,\n",
       "           [ 5.6011e-01, -1.2388e-01, -1.1480e-01,  ...,  2.6766e-02,\n",
       "            -4.3562e-01, -3.4190e-01],\n",
       "           [ 2.8199e-01, -5.5032e-02, -1.8336e-01,  ...,  9.9057e-02,\n",
       "            -2.0336e-01,  1.8637e-01],\n",
       "           [ 2.1880e-01, -2.3838e-02, -1.3717e-01,  ..., -6.9654e-03,\n",
       "            -1.2095e-01,  1.7545e-01]],\n",
       " \n",
       "          [[-1.2577e-01,  3.7886e-02, -4.3560e-02,  ..., -8.3581e-02,\n",
       "             7.1893e-02, -1.4786e-02],\n",
       "           [-1.3996e-01,  4.7024e-02, -2.0308e-02,  ..., -1.0602e-01,\n",
       "             8.6467e-02, -5.4484e-02],\n",
       "           [-1.1467e-01,  4.9404e-02, -5.2074e-02,  ..., -8.8118e-02,\n",
       "             8.7067e-02, -2.3503e-02],\n",
       "           ...,\n",
       "           [ 6.3811e-01,  6.6253e-01, -5.0632e-01,  ..., -4.6041e-01,\n",
       "             1.3942e+00,  5.9690e-01],\n",
       "           [ 4.2894e-01,  3.7701e-01, -3.0221e-01,  ..., -5.1590e-01,\n",
       "             1.3002e+00,  1.7064e-01],\n",
       "           [ 2.9874e-01,  5.2119e-01, -1.7787e-02,  ..., -2.1824e-01,\n",
       "             1.4669e+00, -3.8926e-01]]]]), tensor([[[[ 5.1285e-02, -1.0692e-01, -1.8664e-01,  ..., -3.0463e-01,\n",
       "             2.9266e-01, -1.5144e-01],\n",
       "           [-8.3141e-02, -1.0146e-01,  7.9626e-02,  ...,  4.0021e-01,\n",
       "            -1.0218e-01,  1.6797e-01],\n",
       "           [ 5.7841e-01, -2.1964e-01, -1.1692e-01,  ...,  1.3495e+00,\n",
       "            -1.1419e+00,  4.9327e-02],\n",
       "           ...,\n",
       "           [-2.7329e-02, -6.0030e-01,  3.4094e-01,  ...,  1.2601e+00,\n",
       "            -1.9879e+00,  1.4058e+00],\n",
       "           [-1.2423e-01, -6.1724e-01,  3.3766e-01,  ...,  1.0312e+00,\n",
       "            -1.5745e+00,  1.6321e+00],\n",
       "           [-8.7976e-02, -7.0308e-01,  2.8239e-01,  ...,  1.4222e+00,\n",
       "            -1.6818e+00,  1.8119e+00]],\n",
       " \n",
       "          [[ 9.3750e-02, -3.3567e-02,  2.0447e-02,  ..., -4.1862e-02,\n",
       "            -1.0319e-01,  1.8401e-01],\n",
       "           [ 9.2138e-02, -5.0274e-02,  6.3560e-03,  ..., -1.0477e-01,\n",
       "            -1.0882e-01,  1.3930e-01],\n",
       "           [ 2.8850e-02, -5.8880e-02,  1.3265e-03,  ..., -1.3427e-01,\n",
       "            -1.2099e-01,  6.4069e-02],\n",
       "           ...,\n",
       "           [-3.3852e-01, -1.4067e-01,  5.6782e-01,  ...,  2.8380e-01,\n",
       "             1.7858e-01,  2.4567e-01],\n",
       "           [-2.0261e-02, -3.9763e-01, -5.0281e-01,  ...,  3.9086e-01,\n",
       "             6.8442e-01, -6.1731e-01],\n",
       "           [ 6.5888e-02, -4.3193e-01, -2.9793e-01,  ...,  4.0846e-02,\n",
       "             3.0916e-01, -8.7782e-01]],\n",
       " \n",
       "          [[ 8.7679e-04,  6.6656e-03, -2.5627e-02,  ...,  5.3610e-02,\n",
       "             2.4905e-03,  4.7396e-02],\n",
       "           [-4.9533e-02, -1.3826e-02, -9.5186e-02,  ..., -2.6722e-02,\n",
       "             4.7325e-02,  2.0983e-02],\n",
       "           [-1.7544e-02, -7.5948e-03, -6.1328e-02,  ...,  5.0064e-03,\n",
       "             3.3829e-02,  4.3214e-02],\n",
       "           ...,\n",
       "           [-3.1615e-01, -2.2573e-01,  7.7361e-02,  ...,  1.9665e-01,\n",
       "             4.3675e-01, -3.0270e-02],\n",
       "           [-2.0459e-01, -2.8376e-01, -4.9425e-04,  ...,  1.0431e-01,\n",
       "             1.0554e-01,  5.1496e-03],\n",
       "           [-1.7488e-01, -1.5074e-01, -2.7102e-01,  ...,  5.7852e-02,\n",
       "             1.0661e-01,  1.8287e-01]],\n",
       " \n",
       "          ...,\n",
       " \n",
       "          [[-8.9453e-03,  7.8683e-03,  7.0487e-02,  ...,  7.6591e-02,\n",
       "            -2.3031e-02,  8.7745e-03],\n",
       "           [ 2.5424e-02,  5.9545e-02,  3.5634e-02,  ...,  8.5698e-02,\n",
       "            -3.1472e-02, -3.8236e-03],\n",
       "           [-1.2087e-02,  5.5485e-02,  3.7672e-02,  ...,  1.1108e-01,\n",
       "            -1.9369e-02,  5.7450e-03],\n",
       "           ...,\n",
       "           [-4.9887e-01,  6.2769e-02,  2.2182e-01,  ...,  2.8748e-01,\n",
       "             3.6328e-01, -1.7685e-01],\n",
       "           [-3.0119e-01,  6.4187e-01, -1.8170e-02,  ..., -2.4917e-02,\n",
       "             1.2435e-01, -9.6019e-02],\n",
       "           [-2.4615e-01,  1.1280e+00, -5.5883e-01,  ..., -2.7181e-01,\n",
       "             3.4642e-02,  1.2077e-01]],\n",
       " \n",
       "          [[-1.4920e-01, -1.0117e-01,  3.3611e-02,  ..., -6.9400e-02,\n",
       "             2.8889e-02, -7.9927e-02],\n",
       "           [-4.9599e-02,  6.9505e-03,  3.5968e-02,  ..., -3.9694e-03,\n",
       "             2.0042e-02, -2.2357e-01],\n",
       "           [-1.1683e-01, -5.9634e-02,  7.6623e-02,  ..., -1.8612e-01,\n",
       "             9.9458e-02, -9.9460e-02],\n",
       "           ...,\n",
       "           [-5.6964e-02, -1.0301e-01,  3.2252e-01,  ...,  9.7589e-02,\n",
       "            -7.2286e-02,  2.2266e-01],\n",
       "           [-8.1501e-01, -5.2393e-01,  4.3763e-01,  ..., -1.8839e-01,\n",
       "            -8.9641e-02, -2.9242e-03],\n",
       "           [-1.4108e-01, -1.9946e-01,  1.0132e-01,  ..., -3.3404e-01,\n",
       "             2.6773e-01, -3.1091e-01]],\n",
       " \n",
       "          [[ 1.0013e-01, -1.2323e-01,  1.0051e-01,  ..., -1.0841e-01,\n",
       "             1.3373e-02, -1.6009e-01],\n",
       "           [ 8.5884e-02, -1.9048e-01,  1.8175e-02,  ..., -1.4383e-01,\n",
       "             9.1254e-02, -2.1885e-01],\n",
       "           [ 1.1566e-01, -1.5763e-01,  6.4412e-02,  ..., -1.2866e-01,\n",
       "             3.0063e-02, -1.6858e-01],\n",
       "           ...,\n",
       "           [-2.5845e-02, -2.9412e-01, -1.4478e-02,  ..., -5.3534e-02,\n",
       "            -1.4041e-01,  2.2562e-01],\n",
       "           [ 9.6145e-01,  9.6431e-01, -3.5666e+00,  ...,  4.7666e+00,\n",
       "             3.0303e+00, -2.2869e-01],\n",
       "           [ 1.3073e-01, -3.7182e-01, -1.7007e-01,  ...,  2.1671e-01,\n",
       "             2.3142e-02, -9.9712e-02]]]])), head_inputs=None, head_outputs=None, intermediates=(), mlp_outputs=(tensor([[[ 0.7305, -1.0146,  0.7441,  ..., -1.3902, -0.1518,  0.0085],\n",
       "          [-1.6808,  0.0857, -0.9228,  ..., -0.1539,  0.3343, -0.3445],\n",
       "          [ 0.0353, -0.1746, -1.1654,  ..., -1.2151, -0.0143,  0.5647],\n",
       "          ...,\n",
       "          [ 0.5175, -0.0440, -0.4948,  ..., -1.2685, -0.1046,  0.5003],\n",
       "          [ 0.5262,  0.9571, -1.8742,  ...,  1.3990, -0.2779, -0.9091],\n",
       "          [ 0.7186,  0.2125,  0.1029,  ..., -0.1808, -0.3357,  0.0291]]]), tensor([[[-0.5642, -0.4130, -0.3724,  ...,  0.1924,  0.0159, -0.1234],\n",
       "          [-0.5225,  0.5108, -0.0082,  ...,  0.2744, -0.4012, -0.2900],\n",
       "          [ 0.1567,  0.0082, -0.3324,  ...,  0.1692,  0.4434,  0.4150],\n",
       "          ...,\n",
       "          [-0.1526, -0.3434, -0.8646,  ...,  0.1250,  0.5606, -0.1334],\n",
       "          [ 0.0493,  0.0855, -0.7761,  ...,  0.4025, -0.1590, -0.3741],\n",
       "          [ 0.2035,  0.5174,  0.1281,  ...,  0.2444,  0.0666, -0.1752]]]), tensor([[[-0.0333,  0.0377, -0.0105,  ...,  0.1526,  0.1726,  0.0621],\n",
       "          [-1.1440, -0.1648, -0.3861,  ...,  0.1851,  0.4575, -0.0649],\n",
       "          [-0.5278, -0.2431, -0.3073,  ...,  0.1185,  0.1927, -0.0093],\n",
       "          ...,\n",
       "          [ 0.5362,  0.2312, -0.3052,  ..., -0.3094, -0.2963,  0.3251],\n",
       "          [ 0.2915,  0.6653,  0.1709,  ...,  0.1050,  0.2192, -0.4469],\n",
       "          [ 0.2323,  0.1949, -0.3222,  ..., -0.1429, -0.0127, -0.0495]]]), tensor([[[-0.0186,  0.0046, -0.0584,  ..., -0.0196,  0.0099, -0.0282],\n",
       "          [-0.7401,  0.7175, -0.2571,  ..., -0.6778, -0.5208, -0.3039],\n",
       "          [-0.2590,  0.5509,  0.2996,  ...,  0.0187,  0.2535, -0.2853],\n",
       "          ...,\n",
       "          [ 0.0333, -0.0922, -0.8495,  ...,  0.3558,  0.7260, -0.1949],\n",
       "          [-0.7302,  0.1995,  0.1541,  ..., -0.4879, -0.6148, -0.4893],\n",
       "          [ 0.4928,  0.1223, -0.0296,  ..., -0.1553,  0.2171,  0.1060]]]), tensor([[[-0.0659,  0.0717, -0.0906,  ..., -0.0428, -0.0544, -0.0462],\n",
       "          [ 0.0387,  0.6028, -0.4804,  ..., -0.7510, -0.6120,  0.1269],\n",
       "          [ 0.5556,  0.5551, -0.1329,  ..., -0.5273,  0.3025,  0.2369],\n",
       "          ...,\n",
       "          [ 0.0864,  0.2438, -0.5311,  ...,  0.3188, -1.1316, -0.6357],\n",
       "          [-0.0180,  0.1653, -0.1463,  ..., -0.5209,  0.4137, -0.2413],\n",
       "          [ 0.9294,  0.1341,  0.0072,  ...,  0.4744,  0.0264,  0.3362]]]), tensor([[[-0.0070,  0.0230, -0.0663,  ..., -0.1084, -0.0399,  0.0516],\n",
       "          [-0.3199,  0.8464, -0.6897,  ...,  0.5766, -1.1005, -0.1098],\n",
       "          [-0.1847,  0.1964, -0.0111,  ..., -0.6438,  0.0115, -0.2807],\n",
       "          ...,\n",
       "          [ 0.1583, -0.5773, -0.2937,  ...,  0.2178, -0.1452,  0.7683],\n",
       "          [ 0.4778, -0.0411, -0.7862,  ...,  0.7429,  0.8616, -0.3579],\n",
       "          [-0.1242, -0.3310,  0.0525,  ...,  0.5580, -0.4744,  0.9552]]]), tensor([[[-0.0593,  0.0384, -0.1009,  ..., -0.0298,  0.0463,  0.0770],\n",
       "          [ 0.5597,  0.6815,  0.0393,  ...,  0.4158,  0.9452, -0.9162],\n",
       "          [-0.1247,  0.7476, -0.4758,  ..., -0.3684,  1.2428,  0.6994],\n",
       "          ...,\n",
       "          [-0.5805,  0.4765, -0.9742,  ...,  0.4298, -0.5285, -0.2426],\n",
       "          [-0.7275,  1.0130, -0.0799,  ...,  0.2895, -0.3901, -1.0965],\n",
       "          [-0.5142,  0.2199, -0.2523,  ..., -0.0869, -0.4221,  0.0162]]]), tensor([[[-0.0288,  0.1174, -0.1466,  ...,  0.0808,  0.1404,  0.0431],\n",
       "          [ 0.6631,  0.6579,  0.3227,  ..., -0.0725,  0.5307, -0.4329],\n",
       "          [ 0.7790, -0.3095,  0.1406,  ..., -0.4004,  0.5949,  0.8803],\n",
       "          ...,\n",
       "          [ 1.0598,  0.4809, -1.2774,  ..., -0.3188,  0.1641, -0.4939],\n",
       "          [-0.3106, -0.3354, -1.4314,  ...,  0.0315,  0.1982, -0.6206],\n",
       "          [-1.1799,  0.1286, -0.5305,  ...,  0.4811,  0.7840, -1.5860]]]), tensor([[[ 0.0785,  0.0235, -0.0980,  ...,  0.0672,  0.0168, -0.0336],\n",
       "          [ 0.2502,  1.3969,  0.1958,  ...,  0.8525, -1.1025, -0.3393],\n",
       "          [-0.0433, -0.4212,  0.7790,  ..., -0.3447,  1.2556,  0.0278],\n",
       "          ...,\n",
       "          [ 0.7597, -0.0627,  0.8533,  ...,  1.7035,  1.3751,  0.0318],\n",
       "          [ 0.8045, -1.1671,  0.5579,  ...,  0.8023,  0.2112, -1.2767],\n",
       "          [-0.7202, -0.1564,  0.2974,  ..., -0.0298,  0.1861,  1.2983]]]), tensor([[[-0.0259,  0.0458, -0.2089,  ..., -0.0188,  0.0670, -0.0253],\n",
       "          [ 0.7617, -0.0674, -0.1407,  ..., -0.1509,  1.1393, -0.5595],\n",
       "          [ 0.1406, -1.5027, -1.6624,  ...,  0.6003,  0.7480,  0.4677],\n",
       "          ...,\n",
       "          [ 0.7101, -1.9561, -0.8957,  ..., -0.3892,  1.4386, -0.3688],\n",
       "          [ 0.9998, -0.8841, -1.1169,  ...,  0.9842,  2.0931,  0.5107],\n",
       "          [ 0.3744, -0.6224,  2.0523,  ..., -0.3700,  0.1673,  1.0702]]]), tensor([[[-0.1098,  0.0636, -0.1848,  ..., -0.0720,  0.2377, -0.0060],\n",
       "          [ 1.0159, -0.8389, -0.5128,  ...,  0.5423,  0.6498, -0.3067],\n",
       "          [-0.0072,  1.4165, -2.7539,  ...,  1.4343,  2.3306,  1.0262],\n",
       "          ...,\n",
       "          [-0.3705, -1.1490,  0.5222,  ...,  1.4949, -1.6375,  0.7718],\n",
       "          [ 1.1426,  0.4772,  0.5333,  ...,  1.0255,  0.9988,  0.7378],\n",
       "          [-0.6189,  0.4757,  0.1175,  ...,  1.4642,  1.6542, -0.6734]]]), tensor([[[-0.9019,  0.9606, -0.2887,  ..., -0.5552,  0.3079,  0.1066],\n",
       "          [ 2.2154, -0.6957,  0.1081,  ..., -0.3300, -1.2706,  0.3094],\n",
       "          [-0.7399,  1.7045, -0.1955,  ..., -0.3815, -1.5867,  1.1145],\n",
       "          ...,\n",
       "          [-0.4642, -1.0643, -0.3514,  ...,  1.4856,  0.7330,  1.0476],\n",
       "          [-0.1094,  0.0230, -0.1629,  ..., -1.0438, -0.8637, -1.3465],\n",
       "          [ 1.0407,  1.2236,  0.3383,  ..., -1.3687, -0.4854,  1.8893]]])), hidden_states=(tensor([[[ 0.2145, -0.1763,  0.2302,  ...,  0.0339, -0.0098, -0.0472],\n",
       "          [ 0.0028,  0.1972, -0.0703,  ...,  0.0073,  0.0901,  0.3503],\n",
       "          [ 0.0242, -0.0514,  0.1888,  ...,  0.1058, -0.0769, -0.0932],\n",
       "          ...,\n",
       "          [-0.2414, -0.1287,  0.0384,  ..., -0.0052, -0.1837,  0.0710],\n",
       "          [ 0.1642, -0.0717,  0.0726,  ...,  0.0364,  0.0041, -0.0731],\n",
       "          [-0.0035,  0.0127,  0.0565,  ..., -0.0063, -0.0526, -0.0316]]]), tensor([[[ 2.0748, -1.5512,  1.0421,  ..., -1.3521, -0.1383, -0.1179],\n",
       "          [-1.4324,  0.3074, -1.6846,  ..., -0.1759,  0.4628, -0.0450],\n",
       "          [ 0.6597, -1.1974, -1.0468,  ..., -1.1154, -0.0326,  0.4351],\n",
       "          ...,\n",
       "          [-0.2933, -0.2567,  0.4996,  ..., -1.3065, -0.3613,  0.5828],\n",
       "          [ 1.3332,  1.5551, -2.2228,  ...,  1.4064, -0.3427, -0.9801],\n",
       "          [ 0.4667, -0.1165,  0.2586,  ..., -0.2622, -0.3920, -0.0458]]]), tensor([[[ 1.3326, -2.2290,  1.0080,  ..., -1.3353, -0.1043, -0.4007],\n",
       "          [-1.9897,  0.7813, -1.6096,  ...,  0.2234, -0.0646, -0.6301],\n",
       "          [ 0.6453, -1.0868, -1.5717,  ..., -1.3013,  0.4109,  0.5860],\n",
       "          ...,\n",
       "          [-0.8256, -0.9554, -0.5683,  ..., -1.3913,  0.2063,  0.3690],\n",
       "          [ 1.2131,  1.6273, -3.6267,  ...,  1.8255, -1.0411, -1.2911],\n",
       "          [-0.0039,  0.3368, -0.0853,  ...,  0.2184, -0.4611, -0.2377]]]), tensor([[[ 1.3225, -2.3792,  0.9412,  ..., -1.1882,  0.1474, -0.3819],\n",
       "          [-3.1167,  0.4498, -2.0242,  ...,  0.3806,  0.4961, -0.6895],\n",
       "          [-0.0606, -1.5106, -1.8826,  ..., -0.9753,  0.6688,  0.5301],\n",
       "          ...,\n",
       "          [-0.5110, -0.3873, -0.3496,  ..., -1.7254,  0.0882,  0.7337],\n",
       "          [ 1.5992,  2.7692, -3.4127,  ...,  1.7264, -0.7681, -1.7780],\n",
       "          [ 0.3530,  0.7099, -0.1993,  ..., -0.2100, -0.2329, -0.3423]]]), tensor([[[ 1.3599, -2.3534,  1.0027,  ..., -1.1626,  0.1453, -0.5076],\n",
       "          [-3.8152,  1.1540, -2.1825,  ..., -0.2965, -0.0191, -1.0575],\n",
       "          [-0.2419, -1.1689, -1.4681,  ..., -0.6102,  0.7544,  0.0594],\n",
       "          ...,\n",
       "          [-0.3878, -0.8773, -0.3650,  ..., -2.5300,  1.3284,  0.4389],\n",
       "          [ 1.0448,  3.2253, -3.3656,  ...,  1.3620, -1.4533, -2.5645],\n",
       "          [ 1.0152,  0.2262, -0.3029,  ..., -0.7064,  0.2906, -0.5914]]]), tensor([[[ 1.1619, -2.4506,  0.9311,  ..., -1.3040, -0.0233, -0.5452],\n",
       "          [-3.8669,  1.6348, -2.6900,  ..., -1.0901, -0.7608, -1.0229],\n",
       "          [ 0.0311, -0.7556, -1.6285,  ..., -0.6389,  0.7362, -0.0912],\n",
       "          ...,\n",
       "          [ 0.0424, -0.7525,  0.1414,  ..., -2.3624,  0.1363, -0.5006],\n",
       "          [ 0.9208,  3.8784, -3.3939,  ...,  0.0473, -1.4888, -2.6209],\n",
       "          [ 2.5572,  0.1399,  0.2811,  ..., -1.1692,  0.3177, -0.5952]]]), tensor([[[ 1.1229, -2.5566,  0.9664,  ..., -1.4540, -0.1253, -0.4995],\n",
       "          [-4.2387,  2.3537, -3.2780,  ..., -0.5311, -1.9105, -1.1131],\n",
       "          [-0.0963, -0.6888, -1.5030,  ..., -0.9914,  0.4455, -0.3365],\n",
       "          ...,\n",
       "          [ 0.2100, -0.0586,  0.2286,  ..., -3.2772,  1.0853,  0.6539],\n",
       "          [ 1.8703,  3.5732, -4.7586,  ...,  0.8815,  0.0097, -2.7195],\n",
       "          [ 3.0384,  0.0496, -0.5192,  ..., -0.9723, -0.0247, -0.1065]]]), tensor([[[ 1.0357, -2.5344,  0.9611,  ..., -1.5602, -0.1650, -0.4684],\n",
       "          [-3.8018,  3.0592, -3.1864,  ..., -0.1418, -0.9730, -2.0937],\n",
       "          [-0.4336, -0.0093, -1.8554,  ..., -1.1161,  1.6070,  0.3008],\n",
       "          ...,\n",
       "          [-0.1252,  0.6975,  0.5296,  ..., -2.9867,  0.4162,  1.1026],\n",
       "          [ 1.1038,  4.7364, -3.7920,  ..., -0.1671, -0.1770, -2.3873],\n",
       "          [ 2.7186, -0.0201, -0.9273,  ..., -2.3483, -0.7544, -0.6236]]]), tensor([[[ 0.9552, -2.4064,  0.8488,  ..., -1.4867, -0.2195, -0.5847],\n",
       "          [-3.1766,  3.6720, -2.8734,  ..., -0.2560, -0.6201, -2.6717],\n",
       "          [ 0.3050, -0.3994, -1.8178,  ..., -1.5261,  2.0541,  0.8550],\n",
       "          ...,\n",
       "          [-0.2469,  3.5424, -1.0400,  ..., -5.2206,  0.7007,  1.1916],\n",
       "          [ 0.9234,  6.3561, -6.8518,  ..., -0.4458, -1.2114, -4.6025],\n",
       "          [ 3.1203,  0.6320, -1.4144,  ..., -2.5967, -0.2927, -2.8666]]]), tensor([[[ 1.0168, -2.3447,  0.7774,  ..., -1.3966, -0.2306, -0.7325],\n",
       "          [-2.8333,  5.1512, -2.7156,  ...,  0.5351, -1.6391, -3.1216],\n",
       "          [ 0.1953, -0.7849, -1.0084,  ..., -1.8849,  3.4872,  0.6373],\n",
       "          ...,\n",
       "          [ 2.6830,  3.2628,  0.2172,  ..., -2.7478,  2.0956, -0.0711],\n",
       "          [ 1.5521,  6.3920, -7.9883,  ..., -0.1451, -1.1606, -6.0704],\n",
       "          [ 2.4849,  1.5297, -1.0106,  ..., -3.2780, -0.4854, -2.3078]]]), tensor([[[ 0.9362, -2.2189,  0.5676,  ..., -1.3052, -0.1511, -0.9349],\n",
       "          [-2.1441,  5.1067, -2.8270,  ...,  0.5781, -0.4400, -3.9477],\n",
       "          [ 0.2940, -2.1805, -2.6773,  ..., -1.2974,  4.3602,  0.8775],\n",
       "          ...,\n",
       "          [ 4.3902,  3.0507, -0.0303,  ..., -1.6725,  2.3664, -0.2385],\n",
       "          [ 3.3173,  5.8571, -9.0819,  ..., -1.7473, -0.3243, -5.6169],\n",
       "          [ 3.4531,  2.7703,  0.9787,  ..., -2.7218, -0.2941, -4.1518]]]), tensor([[[ 0.9308, -2.0887,  0.2704,  ..., -1.2758,  0.1288, -1.0983],\n",
       "          [-1.0186,  4.2741, -3.3783,  ...,  1.3139,  0.3146, -4.4760],\n",
       "          [ 0.3965, -0.7020, -5.6202,  ...,  0.1870,  6.9255,  1.6084],\n",
       "          ...,\n",
       "          [ 5.2479,  3.1930,  1.6357,  ..., -0.9768, -0.5653,  0.3892],\n",
       "          [ 6.0060,  7.1556, -8.6542,  ..., -0.3835,  0.0806, -5.3317],\n",
       "          [ 3.6551,  3.7965,  1.9553,  ..., -1.6288,  0.9075, -5.6715]]]), tensor([[[ 0.1031, -1.1914, -0.2959,  ..., -1.7479,  0.6119, -1.0555],\n",
       "          [ 1.4819,  2.7665, -3.7044,  ...,  1.3479, -1.9903, -4.4720],\n",
       "          [-0.9415,  0.8527, -5.9046,  ..., -0.1178,  5.4093,  3.1547],\n",
       "          ...,\n",
       "          [ 6.7776,  1.6065,  2.1839,  ...,  1.9149, -0.9797,  3.1746],\n",
       "          [ 6.9789,  9.7860, -8.4927,  ...,  0.8779,  0.2953, -4.0422],\n",
       "          [ 4.9586,  6.1363,  2.2534,  ..., -1.9451,  0.4078, -3.6619]]]), tensor([[[-0.0354, -0.1358, -0.1743,  ..., -0.1954, -0.0114, -0.1043],\n",
       "          [ 0.1901,  0.3803, -0.6864,  ...,  0.1259, -0.2176, -0.4444],\n",
       "          [-0.0707,  0.1050, -0.6924,  ..., -0.0155,  0.3113,  0.2513],\n",
       "          ...,\n",
       "          [ 0.5705,  0.1877,  0.2029,  ...,  0.1308, -0.0682,  0.2761],\n",
       "          [ 0.6597,  0.9119, -0.8957,  ...,  0.1139,  0.0602, -0.1794],\n",
       "          [ 0.3961,  0.5141,  0.1863,  ..., -0.1158,  0.0109, -0.1948]]])), attentions=(tensor([[[[1.0000e+00, 0.0000e+00, 0.0000e+00,  ..., 0.0000e+00,\n",
       "            0.0000e+00, 0.0000e+00],\n",
       "           [9.0086e-01, 9.9136e-02, 0.0000e+00,  ..., 0.0000e+00,\n",
       "            0.0000e+00, 0.0000e+00],\n",
       "           [5.8960e-01, 2.5316e-01, 1.5724e-01,  ..., 0.0000e+00,\n",
       "            0.0000e+00, 0.0000e+00],\n",
       "           ...,\n",
       "           [7.0977e-03, 2.8893e-03, 3.9274e-03,  ..., 7.5850e-03,\n",
       "            0.0000e+00, 0.0000e+00],\n",
       "           [1.2543e-02, 3.0542e-03, 6.4614e-03,  ..., 7.0960e-03,\n",
       "            2.7751e-02, 0.0000e+00],\n",
       "           [1.5162e-02, 4.2631e-03, 2.1261e-03,  ..., 6.8672e-02,\n",
       "            1.3820e-02, 1.1416e-02]],\n",
       " \n",
       "          [[1.0000e+00, 0.0000e+00, 0.0000e+00,  ..., 0.0000e+00,\n",
       "            0.0000e+00, 0.0000e+00],\n",
       "           [4.0874e-04, 9.9959e-01, 0.0000e+00,  ..., 0.0000e+00,\n",
       "            0.0000e+00, 0.0000e+00],\n",
       "           [2.0085e-03, 3.0608e-04, 9.9769e-01,  ..., 0.0000e+00,\n",
       "            0.0000e+00, 0.0000e+00],\n",
       "           ...,\n",
       "           [3.2402e-05, 8.3183e-06, 2.7045e-05,  ..., 3.2836e-01,\n",
       "            0.0000e+00, 0.0000e+00],\n",
       "           [3.0262e-06, 4.2628e-06, 6.1061e-07,  ..., 2.4702e-07,\n",
       "            5.2247e-01, 0.0000e+00],\n",
       "           [5.4597e-04, 2.0820e-05, 1.1370e-05,  ..., 3.0550e-05,\n",
       "            1.0321e-05, 3.9564e-01]],\n",
       " \n",
       "          [[1.0000e+00, 0.0000e+00, 0.0000e+00,  ..., 0.0000e+00,\n",
       "            0.0000e+00, 0.0000e+00],\n",
       "           [8.5512e-01, 1.4488e-01, 0.0000e+00,  ..., 0.0000e+00,\n",
       "            0.0000e+00, 0.0000e+00],\n",
       "           [7.0235e-01, 7.9232e-02, 2.1842e-01,  ..., 0.0000e+00,\n",
       "            0.0000e+00, 0.0000e+00],\n",
       "           ...,\n",
       "           [7.3767e-03, 3.4872e-03, 3.5033e-03,  ..., 1.1227e-02,\n",
       "            0.0000e+00, 0.0000e+00],\n",
       "           [1.6365e-02, 1.6857e-02, 4.9575e-03,  ..., 5.2384e-03,\n",
       "            6.5657e-02, 0.0000e+00],\n",
       "           [3.4318e-03, 4.5090e-04, 5.4735e-03,  ..., 4.6057e-02,\n",
       "            5.5143e-03, 4.3141e-03]],\n",
       " \n",
       "          ...,\n",
       " \n",
       "          [[1.0000e+00, 0.0000e+00, 0.0000e+00,  ..., 0.0000e+00,\n",
       "            0.0000e+00, 0.0000e+00],\n",
       "           [9.5138e-01, 4.8622e-02, 0.0000e+00,  ..., 0.0000e+00,\n",
       "            0.0000e+00, 0.0000e+00],\n",
       "           [6.0389e-01, 1.4691e-01, 2.4920e-01,  ..., 0.0000e+00,\n",
       "            0.0000e+00, 0.0000e+00],\n",
       "           ...,\n",
       "           [4.3607e-03, 2.8932e-03, 2.1410e-03,  ..., 1.5816e-02,\n",
       "            0.0000e+00, 0.0000e+00],\n",
       "           [7.5881e-03, 4.1326e-03, 2.3006e-03,  ..., 2.2672e-02,\n",
       "            3.6488e-03, 0.0000e+00],\n",
       "           [7.7182e-03, 3.4937e-03, 3.8113e-03,  ..., 2.3319e-02,\n",
       "            1.9582e-02, 4.9230e-02]],\n",
       " \n",
       "          [[1.0000e+00, 0.0000e+00, 0.0000e+00,  ..., 0.0000e+00,\n",
       "            0.0000e+00, 0.0000e+00],\n",
       "           [6.1674e-01, 3.8326e-01, 0.0000e+00,  ..., 0.0000e+00,\n",
       "            0.0000e+00, 0.0000e+00],\n",
       "           [5.7468e-01, 5.6626e-02, 3.6870e-01,  ..., 0.0000e+00,\n",
       "            0.0000e+00, 0.0000e+00],\n",
       "           ...,\n",
       "           [2.2355e-03, 1.0747e-03, 1.6834e-03,  ..., 1.2931e-01,\n",
       "            0.0000e+00, 0.0000e+00],\n",
       "           [7.0285e-03, 2.9501e-03, 4.3900e-03,  ..., 1.4047e-02,\n",
       "            1.6263e-01, 0.0000e+00],\n",
       "           [2.5247e-03, 1.6271e-03, 1.9772e-03,  ..., 2.8027e-02,\n",
       "            2.1674e-02, 5.4480e-02]],\n",
       " \n",
       "          [[1.0000e+00, 0.0000e+00, 0.0000e+00,  ..., 0.0000e+00,\n",
       "            0.0000e+00, 0.0000e+00],\n",
       "           [7.4140e-01, 2.5860e-01, 0.0000e+00,  ..., 0.0000e+00,\n",
       "            0.0000e+00, 0.0000e+00],\n",
       "           [5.4617e-01, 1.2393e-01, 3.2991e-01,  ..., 0.0000e+00,\n",
       "            0.0000e+00, 0.0000e+00],\n",
       "           ...,\n",
       "           [1.6637e-02, 7.7278e-03, 4.8796e-03,  ..., 5.5284e-03,\n",
       "            0.0000e+00, 0.0000e+00],\n",
       "           [7.2636e-03, 4.9146e-03, 5.8052e-03,  ..., 6.5567e-03,\n",
       "            5.8099e-03, 0.0000e+00],\n",
       "           [3.1529e-02, 1.0231e-02, 8.4736e-03,  ..., 7.1807e-03,\n",
       "            4.1383e-03, 4.9097e-03]]]]), tensor([[[[1.0000e+00, 0.0000e+00, 0.0000e+00,  ..., 0.0000e+00,\n",
       "            0.0000e+00, 0.0000e+00],\n",
       "           [9.9662e-01, 3.3791e-03, 0.0000e+00,  ..., 0.0000e+00,\n",
       "            0.0000e+00, 0.0000e+00],\n",
       "           [8.0477e-01, 8.2427e-02, 1.1280e-01,  ..., 0.0000e+00,\n",
       "            0.0000e+00, 0.0000e+00],\n",
       "           ...,\n",
       "           [3.1706e-03, 4.6780e-04, 9.9169e-04,  ..., 1.8927e-01,\n",
       "            0.0000e+00, 0.0000e+00],\n",
       "           [9.5690e-03, 3.4724e-03, 4.0081e-03,  ..., 9.6933e-02,\n",
       "            1.9710e-01, 0.0000e+00],\n",
       "           [2.3596e-02, 7.4907e-03, 7.4465e-03,  ..., 1.6787e-01,\n",
       "            1.0018e-01, 2.0472e-01]],\n",
       " \n",
       "          [[1.0000e+00, 0.0000e+00, 0.0000e+00,  ..., 0.0000e+00,\n",
       "            0.0000e+00, 0.0000e+00],\n",
       "           [9.0797e-01, 9.2032e-02, 0.0000e+00,  ..., 0.0000e+00,\n",
       "            0.0000e+00, 0.0000e+00],\n",
       "           [7.5101e-01, 1.1366e-01, 1.3533e-01,  ..., 0.0000e+00,\n",
       "            0.0000e+00, 0.0000e+00],\n",
       "           ...,\n",
       "           [1.8423e-03, 9.7039e-05, 9.8141e-05,  ..., 3.4058e-02,\n",
       "            0.0000e+00, 0.0000e+00],\n",
       "           [2.3772e-03, 1.3714e-04, 2.1341e-04,  ..., 1.8483e-01,\n",
       "            5.8586e-02, 0.0000e+00],\n",
       "           [1.7074e-02, 1.2356e-03, 1.4237e-03,  ..., 5.8311e-02,\n",
       "            4.2514e-02, 2.1070e-01]],\n",
       " \n",
       "          [[1.0000e+00, 0.0000e+00, 0.0000e+00,  ..., 0.0000e+00,\n",
       "            0.0000e+00, 0.0000e+00],\n",
       "           [9.9638e-01, 3.6165e-03, 0.0000e+00,  ..., 0.0000e+00,\n",
       "            0.0000e+00, 0.0000e+00],\n",
       "           [7.2121e-01, 1.3277e-02, 2.6551e-01,  ..., 0.0000e+00,\n",
       "            0.0000e+00, 0.0000e+00],\n",
       "           ...,\n",
       "           [3.2315e-04, 2.8367e-04, 4.7267e-04,  ..., 3.7942e-02,\n",
       "            0.0000e+00, 0.0000e+00],\n",
       "           [5.7055e-04, 3.9098e-04, 7.4723e-04,  ..., 3.1116e-02,\n",
       "            4.7425e-02, 0.0000e+00],\n",
       "           [6.9110e-04, 4.5538e-04, 8.0006e-04,  ..., 3.1284e-02,\n",
       "            4.2217e-02, 3.7966e-02]],\n",
       " \n",
       "          ...,\n",
       " \n",
       "          [[1.0000e+00, 0.0000e+00, 0.0000e+00,  ..., 0.0000e+00,\n",
       "            0.0000e+00, 0.0000e+00],\n",
       "           [9.7917e-01, 2.0833e-02, 0.0000e+00,  ..., 0.0000e+00,\n",
       "            0.0000e+00, 0.0000e+00],\n",
       "           [8.5619e-01, 3.7192e-02, 1.0662e-01,  ..., 0.0000e+00,\n",
       "            0.0000e+00, 0.0000e+00],\n",
       "           ...,\n",
       "           [8.0208e-02, 7.1899e-03, 1.7525e-02,  ..., 6.7622e-03,\n",
       "            0.0000e+00, 0.0000e+00],\n",
       "           [8.9086e-02, 4.7536e-03, 2.8665e-02,  ..., 5.6476e-03,\n",
       "            4.5872e-03, 0.0000e+00],\n",
       "           [7.3008e-02, 5.1735e-03, 1.7919e-02,  ..., 8.6481e-03,\n",
       "            2.6930e-03, 4.4264e-03]],\n",
       " \n",
       "          [[1.0000e+00, 0.0000e+00, 0.0000e+00,  ..., 0.0000e+00,\n",
       "            0.0000e+00, 0.0000e+00],\n",
       "           [1.1965e-04, 9.9988e-01, 0.0000e+00,  ..., 0.0000e+00,\n",
       "            0.0000e+00, 0.0000e+00],\n",
       "           [6.0790e-04, 4.5034e-01, 5.4905e-01,  ..., 0.0000e+00,\n",
       "            0.0000e+00, 0.0000e+00],\n",
       "           ...,\n",
       "           [6.8227e-03, 2.6290e-02, 3.3223e-02,  ..., 1.4057e-02,\n",
       "            0.0000e+00, 0.0000e+00],\n",
       "           [5.9759e-03, 2.7421e-02, 3.3764e-02,  ..., 1.2220e-02,\n",
       "            1.8938e-02, 0.0000e+00],\n",
       "           [2.9615e-03, 2.8660e-02, 3.2686e-02,  ..., 1.2372e-02,\n",
       "            1.8584e-02, 1.9855e-02]],\n",
       " \n",
       "          [[1.0000e+00, 0.0000e+00, 0.0000e+00,  ..., 0.0000e+00,\n",
       "            0.0000e+00, 0.0000e+00],\n",
       "           [6.6771e-01, 3.3229e-01, 0.0000e+00,  ..., 0.0000e+00,\n",
       "            0.0000e+00, 0.0000e+00],\n",
       "           [8.6403e-02, 2.4703e-03, 9.1113e-01,  ..., 0.0000e+00,\n",
       "            0.0000e+00, 0.0000e+00],\n",
       "           ...,\n",
       "           [2.1165e-04, 3.5705e-05, 1.3254e-04,  ..., 3.1994e-01,\n",
       "            0.0000e+00, 0.0000e+00],\n",
       "           [8.6288e-04, 5.5726e-05, 2.7275e-05,  ..., 8.2330e-06,\n",
       "            1.9747e-01, 0.0000e+00],\n",
       "           [6.0838e-03, 1.5026e-03, 1.9736e-03,  ..., 1.2480e-03,\n",
       "            1.9196e-03, 1.9374e-01]]]]), tensor([[[[1.0000e+00, 0.0000e+00, 0.0000e+00,  ..., 0.0000e+00,\n",
       "            0.0000e+00, 0.0000e+00],\n",
       "           [9.8256e-01, 1.7442e-02, 0.0000e+00,  ..., 0.0000e+00,\n",
       "            0.0000e+00, 0.0000e+00],\n",
       "           [8.2822e-01, 9.9160e-02, 7.2621e-02,  ..., 0.0000e+00,\n",
       "            0.0000e+00, 0.0000e+00],\n",
       "           ...,\n",
       "           [1.9571e-01, 1.0986e-03, 5.2553e-03,  ..., 1.1433e-01,\n",
       "            0.0000e+00, 0.0000e+00],\n",
       "           [1.9918e-01, 9.8588e-04, 4.6040e-03,  ..., 3.0228e-01,\n",
       "            3.8489e-02, 0.0000e+00],\n",
       "           [1.7321e-01, 3.3055e-03, 1.0238e-02,  ..., 2.2423e-01,\n",
       "            7.2439e-02, 6.5399e-02]],\n",
       " \n",
       "          [[1.0000e+00, 0.0000e+00, 0.0000e+00,  ..., 0.0000e+00,\n",
       "            0.0000e+00, 0.0000e+00],\n",
       "           [9.9014e-01, 9.8554e-03, 0.0000e+00,  ..., 0.0000e+00,\n",
       "            0.0000e+00, 0.0000e+00],\n",
       "           [8.0475e-01, 1.5769e-01, 3.7560e-02,  ..., 0.0000e+00,\n",
       "            0.0000e+00, 0.0000e+00],\n",
       "           ...,\n",
       "           [3.2719e-01, 1.3552e-03, 1.0280e-02,  ..., 5.6272e-03,\n",
       "            0.0000e+00, 0.0000e+00],\n",
       "           [4.1713e-01, 1.2851e-03, 7.0257e-03,  ..., 2.5141e-03,\n",
       "            5.2385e-03, 0.0000e+00],\n",
       "           [2.5271e-01, 1.4702e-03, 2.3230e-02,  ..., 1.1521e-02,\n",
       "            2.2894e-03, 6.4749e-03]],\n",
       " \n",
       "          [[1.0000e+00, 0.0000e+00, 0.0000e+00,  ..., 0.0000e+00,\n",
       "            0.0000e+00, 0.0000e+00],\n",
       "           [9.9945e-01, 5.5223e-04, 0.0000e+00,  ..., 0.0000e+00,\n",
       "            0.0000e+00, 0.0000e+00],\n",
       "           [6.3608e-01, 3.2721e-01, 3.6707e-02,  ..., 0.0000e+00,\n",
       "            0.0000e+00, 0.0000e+00],\n",
       "           ...,\n",
       "           [2.0463e-01, 2.9831e-06, 3.4266e-05,  ..., 9.3142e-02,\n",
       "            0.0000e+00, 0.0000e+00],\n",
       "           [8.4687e-02, 7.3871e-07, 4.5627e-05,  ..., 4.4381e-01,\n",
       "            2.1681e-01, 0.0000e+00],\n",
       "           [8.4590e-02, 3.1031e-06, 4.1284e-05,  ..., 1.6413e-01,\n",
       "            3.1293e-01, 3.5076e-01]],\n",
       " \n",
       "          ...,\n",
       " \n",
       "          [[1.0000e+00, 0.0000e+00, 0.0000e+00,  ..., 0.0000e+00,\n",
       "            0.0000e+00, 0.0000e+00],\n",
       "           [9.3603e-01, 6.3966e-02, 0.0000e+00,  ..., 0.0000e+00,\n",
       "            0.0000e+00, 0.0000e+00],\n",
       "           [4.1334e-01, 5.7000e-01, 1.6665e-02,  ..., 0.0000e+00,\n",
       "            0.0000e+00, 0.0000e+00],\n",
       "           ...,\n",
       "           [4.9265e-02, 7.4296e-04, 2.8942e-04,  ..., 9.2819e-02,\n",
       "            0.0000e+00, 0.0000e+00],\n",
       "           [3.1958e-02, 2.5449e-04, 1.9801e-04,  ..., 2.4024e-01,\n",
       "            3.3609e-01, 0.0000e+00],\n",
       "           [8.8761e-02, 1.0184e-03, 1.2781e-03,  ..., 1.6135e-01,\n",
       "            2.9378e-01, 1.1793e-01]],\n",
       " \n",
       "          [[1.0000e+00, 0.0000e+00, 0.0000e+00,  ..., 0.0000e+00,\n",
       "            0.0000e+00, 0.0000e+00],\n",
       "           [9.1256e-01, 8.7437e-02, 0.0000e+00,  ..., 0.0000e+00,\n",
       "            0.0000e+00, 0.0000e+00],\n",
       "           [7.7482e-01, 9.9107e-02, 1.2607e-01,  ..., 0.0000e+00,\n",
       "            0.0000e+00, 0.0000e+00],\n",
       "           ...,\n",
       "           [8.3503e-04, 1.1049e-03, 8.5112e-04,  ..., 1.2165e-01,\n",
       "            0.0000e+00, 0.0000e+00],\n",
       "           [3.4591e-04, 5.3801e-04, 4.3023e-04,  ..., 1.2885e-01,\n",
       "            1.4856e-01, 0.0000e+00],\n",
       "           [2.8551e-03, 2.5394e-03, 1.8051e-03,  ..., 1.0623e-01,\n",
       "            1.1689e-01, 9.7858e-02]],\n",
       " \n",
       "          [[1.0000e+00, 0.0000e+00, 0.0000e+00,  ..., 0.0000e+00,\n",
       "            0.0000e+00, 0.0000e+00],\n",
       "           [9.6316e-01, 3.6838e-02, 0.0000e+00,  ..., 0.0000e+00,\n",
       "            0.0000e+00, 0.0000e+00],\n",
       "           [8.7785e-01, 4.1638e-02, 8.0512e-02,  ..., 0.0000e+00,\n",
       "            0.0000e+00, 0.0000e+00],\n",
       "           ...,\n",
       "           [5.2995e-01, 1.8595e-03, 1.0675e-03,  ..., 8.5729e-02,\n",
       "            0.0000e+00, 0.0000e+00],\n",
       "           [5.0514e-01, 1.7370e-03, 1.0094e-03,  ..., 7.3125e-02,\n",
       "            8.1510e-02, 0.0000e+00],\n",
       "           [5.7182e-01, 3.8154e-03, 1.5070e-03,  ..., 4.7225e-02,\n",
       "            5.8993e-02, 7.9175e-02]]]]), tensor([[[[1.0000e+00, 0.0000e+00, 0.0000e+00,  ..., 0.0000e+00,\n",
       "            0.0000e+00, 0.0000e+00],\n",
       "           [9.9951e-01, 4.9252e-04, 0.0000e+00,  ..., 0.0000e+00,\n",
       "            0.0000e+00, 0.0000e+00],\n",
       "           [9.5880e-01, 3.3846e-04, 4.0862e-02,  ..., 0.0000e+00,\n",
       "            0.0000e+00, 0.0000e+00],\n",
       "           ...,\n",
       "           [4.9144e-02, 3.8817e-05, 1.7776e-04,  ..., 8.3878e-02,\n",
       "            0.0000e+00, 0.0000e+00],\n",
       "           [3.8130e-01, 1.3905e-03, 3.6255e-04,  ..., 1.2980e-04,\n",
       "            2.9977e-02, 0.0000e+00],\n",
       "           [1.3029e-01, 1.3565e-04, 2.3814e-03,  ..., 4.6584e-04,\n",
       "            7.9922e-05, 5.4554e-02]],\n",
       " \n",
       "          [[1.0000e+00, 0.0000e+00, 0.0000e+00,  ..., 0.0000e+00,\n",
       "            0.0000e+00, 0.0000e+00],\n",
       "           [9.1866e-01, 8.1339e-02, 0.0000e+00,  ..., 0.0000e+00,\n",
       "            0.0000e+00, 0.0000e+00],\n",
       "           [9.1973e-01, 1.9314e-02, 6.0957e-02,  ..., 0.0000e+00,\n",
       "            0.0000e+00, 0.0000e+00],\n",
       "           ...,\n",
       "           [2.5342e-01, 1.7891e-07, 2.7265e-07,  ..., 2.7282e-01,\n",
       "            0.0000e+00, 0.0000e+00],\n",
       "           [2.6459e-01, 1.4020e-07, 2.3739e-07,  ..., 2.3281e-01,\n",
       "            6.2201e-02, 0.0000e+00],\n",
       "           [4.5703e-01, 6.8306e-07, 1.7983e-06,  ..., 1.1363e-01,\n",
       "            1.6175e-02, 1.9749e-01]],\n",
       " \n",
       "          [[1.0000e+00, 0.0000e+00, 0.0000e+00,  ..., 0.0000e+00,\n",
       "            0.0000e+00, 0.0000e+00],\n",
       "           [9.8459e-01, 1.5413e-02, 0.0000e+00,  ..., 0.0000e+00,\n",
       "            0.0000e+00, 0.0000e+00],\n",
       "           [5.4962e-01, 3.5721e-01, 9.3166e-02,  ..., 0.0000e+00,\n",
       "            0.0000e+00, 0.0000e+00],\n",
       "           ...,\n",
       "           [1.6630e-01, 9.6222e-12, 2.1521e-12,  ..., 1.9045e-01,\n",
       "            0.0000e+00, 0.0000e+00],\n",
       "           [8.1995e-02, 1.5557e-12, 9.4182e-12,  ..., 5.8196e-01,\n",
       "            2.5164e-01, 0.0000e+00],\n",
       "           [1.6342e-01, 2.4960e-10, 3.9657e-10,  ..., 3.8415e-01,\n",
       "            1.8763e-01, 1.2197e-01]],\n",
       " \n",
       "          ...,\n",
       " \n",
       "          [[1.0000e+00, 0.0000e+00, 0.0000e+00,  ..., 0.0000e+00,\n",
       "            0.0000e+00, 0.0000e+00],\n",
       "           [9.7554e-01, 2.4464e-02, 0.0000e+00,  ..., 0.0000e+00,\n",
       "            0.0000e+00, 0.0000e+00],\n",
       "           [9.4851e-01, 2.0472e-02, 3.1016e-02,  ..., 0.0000e+00,\n",
       "            0.0000e+00, 0.0000e+00],\n",
       "           ...,\n",
       "           [6.5251e-01, 1.7972e-07, 1.6755e-07,  ..., 1.5786e-01,\n",
       "            0.0000e+00, 0.0000e+00],\n",
       "           [5.6459e-01, 1.3846e-07, 3.9997e-07,  ..., 1.5359e-01,\n",
       "            4.1196e-02, 0.0000e+00],\n",
       "           [6.8722e-01, 6.6594e-06, 1.1553e-06,  ..., 4.2091e-02,\n",
       "            1.9783e-02, 4.4087e-02]],\n",
       " \n",
       "          [[1.0000e+00, 0.0000e+00, 0.0000e+00,  ..., 0.0000e+00,\n",
       "            0.0000e+00, 0.0000e+00],\n",
       "           [9.9749e-01, 2.5093e-03, 0.0000e+00,  ..., 0.0000e+00,\n",
       "            0.0000e+00, 0.0000e+00],\n",
       "           [9.4967e-01, 2.7670e-03, 4.7566e-02,  ..., 0.0000e+00,\n",
       "            0.0000e+00, 0.0000e+00],\n",
       "           ...,\n",
       "           [3.6347e-01, 4.3788e-05, 7.7668e-05,  ..., 9.6400e-02,\n",
       "            0.0000e+00, 0.0000e+00],\n",
       "           [4.6255e-01, 2.9502e-05, 2.1200e-05,  ..., 8.0007e-02,\n",
       "            1.3617e-01, 0.0000e+00],\n",
       "           [4.8511e-01, 1.0341e-04, 5.9537e-05,  ..., 3.7448e-02,\n",
       "            1.0389e-01, 1.1158e-01]],\n",
       " \n",
       "          [[1.0000e+00, 0.0000e+00, 0.0000e+00,  ..., 0.0000e+00,\n",
       "            0.0000e+00, 0.0000e+00],\n",
       "           [9.3596e-01, 6.4040e-02, 0.0000e+00,  ..., 0.0000e+00,\n",
       "            0.0000e+00, 0.0000e+00],\n",
       "           [8.4425e-01, 3.7582e-02, 1.1817e-01,  ..., 0.0000e+00,\n",
       "            0.0000e+00, 0.0000e+00],\n",
       "           ...,\n",
       "           [3.9589e-01, 7.2099e-08, 4.0767e-08,  ..., 2.6809e-01,\n",
       "            0.0000e+00, 0.0000e+00],\n",
       "           [2.3647e-01, 3.3980e-08, 2.9968e-08,  ..., 5.3849e-01,\n",
       "            5.8542e-02, 0.0000e+00],\n",
       "           [1.7062e-01, 1.9897e-07, 3.0004e-07,  ..., 1.0626e-01,\n",
       "            7.5948e-02, 5.8302e-01]]]]), tensor([[[[1.0000e+00, 0.0000e+00, 0.0000e+00,  ..., 0.0000e+00,\n",
       "            0.0000e+00, 0.0000e+00],\n",
       "           [9.8232e-01, 1.7679e-02, 0.0000e+00,  ..., 0.0000e+00,\n",
       "            0.0000e+00, 0.0000e+00],\n",
       "           [9.8741e-01, 5.3779e-03, 7.2117e-03,  ..., 0.0000e+00,\n",
       "            0.0000e+00, 0.0000e+00],\n",
       "           ...,\n",
       "           [8.9189e-01, 2.7992e-10, 1.0516e-09,  ..., 3.7281e-02,\n",
       "            0.0000e+00, 0.0000e+00],\n",
       "           [1.5069e-01, 2.1733e-11, 5.8958e-10,  ..., 7.5589e-01,\n",
       "            2.3864e-02, 0.0000e+00],\n",
       "           [2.5400e-01, 7.6131e-10, 8.3157e-09,  ..., 2.7457e-01,\n",
       "            2.7181e-02, 3.8203e-01]],\n",
       " \n",
       "          [[1.0000e+00, 0.0000e+00, 0.0000e+00,  ..., 0.0000e+00,\n",
       "            0.0000e+00, 0.0000e+00],\n",
       "           [9.9460e-01, 5.3982e-03, 0.0000e+00,  ..., 0.0000e+00,\n",
       "            0.0000e+00, 0.0000e+00],\n",
       "           [9.7816e-01, 1.1918e-02, 9.9264e-03,  ..., 0.0000e+00,\n",
       "            0.0000e+00, 0.0000e+00],\n",
       "           ...,\n",
       "           [4.1656e-01, 3.8604e-09, 3.1378e-09,  ..., 3.8911e-02,\n",
       "            0.0000e+00, 0.0000e+00],\n",
       "           [3.7135e-01, 1.1373e-09, 1.3495e-08,  ..., 3.9956e-01,\n",
       "            3.4771e-02, 0.0000e+00],\n",
       "           [5.6970e-01, 4.1262e-08, 5.9110e-08,  ..., 2.8556e-01,\n",
       "            2.5411e-02, 3.0033e-02]],\n",
       " \n",
       "          [[1.0000e+00, 0.0000e+00, 0.0000e+00,  ..., 0.0000e+00,\n",
       "            0.0000e+00, 0.0000e+00],\n",
       "           [9.7871e-01, 2.1287e-02, 0.0000e+00,  ..., 0.0000e+00,\n",
       "            0.0000e+00, 0.0000e+00],\n",
       "           [8.9364e-01, 6.0623e-02, 4.5732e-02,  ..., 0.0000e+00,\n",
       "            0.0000e+00, 0.0000e+00],\n",
       "           ...,\n",
       "           [6.1237e-01, 1.0194e-04, 2.3395e-04,  ..., 1.5548e-02,\n",
       "            0.0000e+00, 0.0000e+00],\n",
       "           [5.9879e-01, 7.1165e-05, 2.7558e-04,  ..., 3.9265e-02,\n",
       "            3.8718e-03, 0.0000e+00],\n",
       "           [5.9784e-01, 1.5892e-04, 6.4375e-04,  ..., 3.4142e-02,\n",
       "            1.3577e-03, 5.8999e-02]],\n",
       " \n",
       "          ...,\n",
       " \n",
       "          [[1.0000e+00, 0.0000e+00, 0.0000e+00,  ..., 0.0000e+00,\n",
       "            0.0000e+00, 0.0000e+00],\n",
       "           [9.9147e-01, 8.5295e-03, 0.0000e+00,  ..., 0.0000e+00,\n",
       "            0.0000e+00, 0.0000e+00],\n",
       "           [9.6636e-01, 1.8066e-02, 1.5576e-02,  ..., 0.0000e+00,\n",
       "            0.0000e+00, 0.0000e+00],\n",
       "           ...,\n",
       "           [5.6946e-01, 5.9606e-07, 7.3368e-07,  ..., 4.1352e-02,\n",
       "            0.0000e+00, 0.0000e+00],\n",
       "           [3.1279e-01, 1.3941e-06, 1.6418e-06,  ..., 4.9856e-01,\n",
       "            1.4466e-02, 0.0000e+00],\n",
       "           [2.2142e-01, 2.0347e-06, 5.5670e-06,  ..., 3.9807e-01,\n",
       "            2.0603e-02, 3.4834e-02]],\n",
       " \n",
       "          [[1.0000e+00, 0.0000e+00, 0.0000e+00,  ..., 0.0000e+00,\n",
       "            0.0000e+00, 0.0000e+00],\n",
       "           [9.9857e-01, 1.4321e-03, 0.0000e+00,  ..., 0.0000e+00,\n",
       "            0.0000e+00, 0.0000e+00],\n",
       "           [9.6631e-01, 4.5538e-03, 2.9141e-02,  ..., 0.0000e+00,\n",
       "            0.0000e+00, 0.0000e+00],\n",
       "           ...,\n",
       "           [5.5383e-01, 9.6321e-04, 2.5665e-03,  ..., 1.3614e-02,\n",
       "            0.0000e+00, 0.0000e+00],\n",
       "           [6.8610e-01, 2.1849e-03, 5.5073e-04,  ..., 2.7203e-03,\n",
       "            1.2161e-02, 0.0000e+00],\n",
       "           [4.9779e-01, 2.1047e-03, 2.1569e-03,  ..., 2.1720e-03,\n",
       "            3.1787e-03, 3.7657e-02]],\n",
       " \n",
       "          [[1.0000e+00, 0.0000e+00, 0.0000e+00,  ..., 0.0000e+00,\n",
       "            0.0000e+00, 0.0000e+00],\n",
       "           [1.0000e+00, 1.1182e-09, 0.0000e+00,  ..., 0.0000e+00,\n",
       "            0.0000e+00, 0.0000e+00],\n",
       "           [9.9944e-07, 9.9999e-01, 4.6263e-06,  ..., 0.0000e+00,\n",
       "            0.0000e+00, 0.0000e+00],\n",
       "           ...,\n",
       "           [4.8761e-12, 3.0607e-38, 2.1538e-42,  ..., 7.3968e-07,\n",
       "            0.0000e+00, 0.0000e+00],\n",
       "           [1.2256e-08, 5.4875e-42, 3.8324e-39,  ..., 9.9998e-01,\n",
       "            2.2823e-05, 0.0000e+00],\n",
       "           [1.8761e-10, 1.0746e-37, 3.2499e-39,  ..., 2.4354e-04,\n",
       "            9.9972e-01, 4.8391e-08]]]]), tensor([[[[1.0000e+00, 0.0000e+00, 0.0000e+00,  ..., 0.0000e+00,\n",
       "            0.0000e+00, 0.0000e+00],\n",
       "           [9.9491e-01, 5.0875e-03, 0.0000e+00,  ..., 0.0000e+00,\n",
       "            0.0000e+00, 0.0000e+00],\n",
       "           [9.7610e-01, 1.5572e-03, 2.2342e-02,  ..., 0.0000e+00,\n",
       "            0.0000e+00, 0.0000e+00],\n",
       "           ...,\n",
       "           [2.5322e-02, 4.2054e-07, 1.1664e-06,  ..., 6.3707e-05,\n",
       "            0.0000e+00, 0.0000e+00],\n",
       "           [1.4515e-02, 2.2018e-07, 2.6227e-05,  ..., 5.1932e-05,\n",
       "            1.2278e-03, 0.0000e+00],\n",
       "           [6.9623e-02, 1.0284e-05, 9.2213e-06,  ..., 2.1031e-05,\n",
       "            4.4910e-05, 3.7440e-04]],\n",
       " \n",
       "          [[1.0000e+00, 0.0000e+00, 0.0000e+00,  ..., 0.0000e+00,\n",
       "            0.0000e+00, 0.0000e+00],\n",
       "           [9.9999e-01, 8.0349e-06, 0.0000e+00,  ..., 0.0000e+00,\n",
       "            0.0000e+00, 0.0000e+00],\n",
       "           [9.9967e-01, 3.2543e-05, 2.9970e-04,  ..., 0.0000e+00,\n",
       "            0.0000e+00, 0.0000e+00],\n",
       "           ...,\n",
       "           [4.4218e-01, 7.8007e-08, 3.1909e-09,  ..., 1.8860e-05,\n",
       "            0.0000e+00, 0.0000e+00],\n",
       "           [5.4158e-01, 6.9569e-08, 5.6485e-05,  ..., 4.8529e-06,\n",
       "            7.5635e-05, 0.0000e+00],\n",
       "           [6.1495e-01, 6.5683e-07, 5.1403e-07,  ..., 3.1337e-06,\n",
       "            1.6114e-06, 5.2667e-04]],\n",
       " \n",
       "          [[1.0000e+00, 0.0000e+00, 0.0000e+00,  ..., 0.0000e+00,\n",
       "            0.0000e+00, 0.0000e+00],\n",
       "           [9.9362e-01, 6.3777e-03, 0.0000e+00,  ..., 0.0000e+00,\n",
       "            0.0000e+00, 0.0000e+00],\n",
       "           [9.1566e-01, 6.1650e-02, 2.2691e-02,  ..., 0.0000e+00,\n",
       "            0.0000e+00, 0.0000e+00],\n",
       "           ...,\n",
       "           [5.9792e-01, 1.2070e-07, 9.0435e-08,  ..., 1.4926e-02,\n",
       "            0.0000e+00, 0.0000e+00],\n",
       "           [6.9517e-01, 7.0701e-08, 6.3177e-07,  ..., 1.3667e-01,\n",
       "            1.0453e-02, 0.0000e+00],\n",
       "           [4.7516e-01, 2.2746e-06, 4.7819e-06,  ..., 8.1338e-02,\n",
       "            1.4600e-01, 3.8092e-03]],\n",
       " \n",
       "          ...,\n",
       " \n",
       "          [[1.0000e+00, 0.0000e+00, 0.0000e+00,  ..., 0.0000e+00,\n",
       "            0.0000e+00, 0.0000e+00],\n",
       "           [9.8553e-01, 1.4469e-02, 0.0000e+00,  ..., 0.0000e+00,\n",
       "            0.0000e+00, 0.0000e+00],\n",
       "           [8.9716e-01, 3.3383e-02, 6.9460e-02,  ..., 0.0000e+00,\n",
       "            0.0000e+00, 0.0000e+00],\n",
       "           ...,\n",
       "           [2.1795e-01, 3.1852e-04, 8.3806e-04,  ..., 4.6660e-03,\n",
       "            0.0000e+00, 0.0000e+00],\n",
       "           [2.0702e-01, 1.7443e-03, 4.4789e-04,  ..., 8.8077e-03,\n",
       "            3.6531e-03, 0.0000e+00],\n",
       "           [5.3506e-01, 6.5038e-04, 1.1206e-03,  ..., 6.9716e-03,\n",
       "            5.0640e-03, 1.5062e-02]],\n",
       " \n",
       "          [[1.0000e+00, 0.0000e+00, 0.0000e+00,  ..., 0.0000e+00,\n",
       "            0.0000e+00, 0.0000e+00],\n",
       "           [9.5956e-01, 4.0435e-02, 0.0000e+00,  ..., 0.0000e+00,\n",
       "            0.0000e+00, 0.0000e+00],\n",
       "           [4.9616e-01, 3.8504e-01, 1.1880e-01,  ..., 0.0000e+00,\n",
       "            0.0000e+00, 0.0000e+00],\n",
       "           ...,\n",
       "           [4.5085e-01, 5.5316e-04, 1.0023e-03,  ..., 4.9332e-02,\n",
       "            0.0000e+00, 0.0000e+00],\n",
       "           [5.5800e-01, 3.0106e-04, 4.2957e-04,  ..., 1.6731e-03,\n",
       "            5.8252e-02, 0.0000e+00],\n",
       "           [7.0786e-01, 3.4767e-04, 3.2212e-04,  ..., 5.7451e-03,\n",
       "            6.2619e-03, 1.8878e-02]],\n",
       " \n",
       "          [[1.0000e+00, 0.0000e+00, 0.0000e+00,  ..., 0.0000e+00,\n",
       "            0.0000e+00, 0.0000e+00],\n",
       "           [9.8851e-01, 1.1494e-02, 0.0000e+00,  ..., 0.0000e+00,\n",
       "            0.0000e+00, 0.0000e+00],\n",
       "           [6.9564e-01, 3.2754e-02, 2.7161e-01,  ..., 0.0000e+00,\n",
       "            0.0000e+00, 0.0000e+00],\n",
       "           ...,\n",
       "           [6.7706e-01, 2.2857e-04, 1.5767e-03,  ..., 2.1186e-02,\n",
       "            0.0000e+00, 0.0000e+00],\n",
       "           [6.0606e-01, 5.5526e-04, 5.5932e-04,  ..., 2.3038e-02,\n",
       "            4.0681e-02, 0.0000e+00],\n",
       "           [4.0592e-01, 4.9071e-05, 5.9155e-04,  ..., 2.8816e-02,\n",
       "            9.3732e-03, 5.8208e-02]]]]), tensor([[[[1.0000e+00, 0.0000e+00, 0.0000e+00,  ..., 0.0000e+00,\n",
       "            0.0000e+00, 0.0000e+00],\n",
       "           [9.0219e-01, 9.7813e-02, 0.0000e+00,  ..., 0.0000e+00,\n",
       "            0.0000e+00, 0.0000e+00],\n",
       "           [6.9560e-01, 2.6911e-01, 3.5285e-02,  ..., 0.0000e+00,\n",
       "            0.0000e+00, 0.0000e+00],\n",
       "           ...,\n",
       "           [1.2203e-01, 1.0021e-05, 7.2438e-07,  ..., 2.4881e-02,\n",
       "            0.0000e+00, 0.0000e+00],\n",
       "           [1.7668e-01, 4.3072e-07, 5.2259e-07,  ..., 4.4767e-01,\n",
       "            7.3740e-02, 0.0000e+00],\n",
       "           [7.0174e-01, 1.9956e-05, 3.7022e-06,  ..., 4.1488e-02,\n",
       "            9.6413e-02, 1.7799e-03]],\n",
       " \n",
       "          [[1.0000e+00, 0.0000e+00, 0.0000e+00,  ..., 0.0000e+00,\n",
       "            0.0000e+00, 0.0000e+00],\n",
       "           [9.6110e-01, 3.8903e-02, 0.0000e+00,  ..., 0.0000e+00,\n",
       "            0.0000e+00, 0.0000e+00],\n",
       "           [9.6727e-01, 2.1603e-02, 1.1130e-02,  ..., 0.0000e+00,\n",
       "            0.0000e+00, 0.0000e+00],\n",
       "           ...,\n",
       "           [9.2090e-01, 1.4210e-06, 1.2293e-06,  ..., 9.4028e-03,\n",
       "            0.0000e+00, 0.0000e+00],\n",
       "           [8.0836e-01, 4.8972e-07, 3.9928e-07,  ..., 4.3818e-03,\n",
       "            5.2190e-02, 0.0000e+00],\n",
       "           [7.1153e-01, 6.0733e-05, 1.9370e-05,  ..., 9.1483e-03,\n",
       "            8.5699e-03, 8.1062e-03]],\n",
       " \n",
       "          [[1.0000e+00, 0.0000e+00, 0.0000e+00,  ..., 0.0000e+00,\n",
       "            0.0000e+00, 0.0000e+00],\n",
       "           [9.9481e-01, 5.1908e-03, 0.0000e+00,  ..., 0.0000e+00,\n",
       "            0.0000e+00, 0.0000e+00],\n",
       "           [9.5715e-01, 1.7463e-02, 2.5383e-02,  ..., 0.0000e+00,\n",
       "            0.0000e+00, 0.0000e+00],\n",
       "           ...,\n",
       "           [6.0731e-01, 2.1821e-03, 4.7622e-03,  ..., 8.7162e-03,\n",
       "            0.0000e+00, 0.0000e+00],\n",
       "           [5.0142e-01, 1.7992e-03, 9.0292e-03,  ..., 2.1962e-02,\n",
       "            1.3616e-02, 0.0000e+00],\n",
       "           [5.4215e-01, 2.8405e-03, 5.4147e-03,  ..., 3.9433e-03,\n",
       "            1.7887e-02, 7.1632e-03]],\n",
       " \n",
       "          ...,\n",
       " \n",
       "          [[1.0000e+00, 0.0000e+00, 0.0000e+00,  ..., 0.0000e+00,\n",
       "            0.0000e+00, 0.0000e+00],\n",
       "           [9.9996e-01, 3.5719e-05, 0.0000e+00,  ..., 0.0000e+00,\n",
       "            0.0000e+00, 0.0000e+00],\n",
       "           [9.9454e-01, 2.7751e-03, 2.6802e-03,  ..., 0.0000e+00,\n",
       "            0.0000e+00, 0.0000e+00],\n",
       "           ...,\n",
       "           [3.3045e-01, 2.1032e-06, 3.1356e-07,  ..., 1.4767e-04,\n",
       "            0.0000e+00, 0.0000e+00],\n",
       "           [5.3540e-01, 1.2510e-05, 8.0313e-05,  ..., 1.7006e-04,\n",
       "            4.7422e-06, 0.0000e+00],\n",
       "           [7.8266e-01, 4.3290e-05, 2.2998e-05,  ..., 3.4544e-04,\n",
       "            2.5387e-06, 2.4870e-03]],\n",
       " \n",
       "          [[1.0000e+00, 0.0000e+00, 0.0000e+00,  ..., 0.0000e+00,\n",
       "            0.0000e+00, 0.0000e+00],\n",
       "           [9.9045e-01, 9.5452e-03, 0.0000e+00,  ..., 0.0000e+00,\n",
       "            0.0000e+00, 0.0000e+00],\n",
       "           [9.7815e-01, 5.0364e-03, 1.6818e-02,  ..., 0.0000e+00,\n",
       "            0.0000e+00, 0.0000e+00],\n",
       "           ...,\n",
       "           [1.9819e-02, 2.0096e-05, 1.2115e-04,  ..., 2.4728e-03,\n",
       "            0.0000e+00, 0.0000e+00],\n",
       "           [1.3305e-01, 8.5398e-04, 1.6219e-03,  ..., 3.8468e-03,\n",
       "            8.3930e-02, 0.0000e+00],\n",
       "           [1.2875e-01, 2.7494e-03, 1.1976e-02,  ..., 2.4613e-04,\n",
       "            7.2338e-04, 3.3745e-03]],\n",
       " \n",
       "          [[1.0000e+00, 0.0000e+00, 0.0000e+00,  ..., 0.0000e+00,\n",
       "            0.0000e+00, 0.0000e+00],\n",
       "           [9.8545e-01, 1.4553e-02, 0.0000e+00,  ..., 0.0000e+00,\n",
       "            0.0000e+00, 0.0000e+00],\n",
       "           [9.1094e-01, 1.9418e-02, 6.9638e-02,  ..., 0.0000e+00,\n",
       "            0.0000e+00, 0.0000e+00],\n",
       "           ...,\n",
       "           [6.1522e-01, 2.9682e-07, 3.4129e-07,  ..., 1.1577e-01,\n",
       "            0.0000e+00, 0.0000e+00],\n",
       "           [2.0229e-01, 1.6515e-07, 3.4979e-07,  ..., 6.2167e-01,\n",
       "            1.0798e-02, 0.0000e+00],\n",
       "           [8.3882e-01, 3.9026e-06, 9.4288e-07,  ..., 5.2733e-03,\n",
       "            3.1166e-02, 1.1500e-02]]]]), tensor([[[[1.0000e+00, 0.0000e+00, 0.0000e+00,  ..., 0.0000e+00,\n",
       "            0.0000e+00, 0.0000e+00],\n",
       "           [9.5240e-01, 4.7599e-02, 0.0000e+00,  ..., 0.0000e+00,\n",
       "            0.0000e+00, 0.0000e+00],\n",
       "           [8.2199e-01, 1.1344e-01, 6.4577e-02,  ..., 0.0000e+00,\n",
       "            0.0000e+00, 0.0000e+00],\n",
       "           ...,\n",
       "           [9.2671e-01, 1.0583e-07, 4.0198e-08,  ..., 3.1180e-03,\n",
       "            0.0000e+00, 0.0000e+00],\n",
       "           [4.7872e-01, 2.3490e-09, 4.0844e-08,  ..., 4.4448e-01,\n",
       "            3.0691e-02, 0.0000e+00],\n",
       "           [9.3264e-01, 1.6120e-07, 1.5040e-07,  ..., 5.4641e-03,\n",
       "            4.7030e-02, 9.4273e-03]],\n",
       " \n",
       "          [[1.0000e+00, 0.0000e+00, 0.0000e+00,  ..., 0.0000e+00,\n",
       "            0.0000e+00, 0.0000e+00],\n",
       "           [9.8869e-01, 1.1312e-02, 0.0000e+00,  ..., 0.0000e+00,\n",
       "            0.0000e+00, 0.0000e+00],\n",
       "           [9.7716e-01, 1.9303e-02, 3.5396e-03,  ..., 0.0000e+00,\n",
       "            0.0000e+00, 0.0000e+00],\n",
       "           ...,\n",
       "           [6.0716e-01, 1.9451e-04, 1.2551e-04,  ..., 1.4022e-02,\n",
       "            0.0000e+00, 0.0000e+00],\n",
       "           [5.9941e-01, 6.5768e-05, 3.6160e-05,  ..., 1.6567e-02,\n",
       "            8.5472e-03, 0.0000e+00],\n",
       "           [8.8827e-02, 5.1881e-03, 1.1552e-03,  ..., 4.0193e-04,\n",
       "            1.5947e-04, 5.6291e-04]],\n",
       " \n",
       "          [[1.0000e+00, 0.0000e+00, 0.0000e+00,  ..., 0.0000e+00,\n",
       "            0.0000e+00, 0.0000e+00],\n",
       "           [9.9980e-01, 2.0314e-04, 0.0000e+00,  ..., 0.0000e+00,\n",
       "            0.0000e+00, 0.0000e+00],\n",
       "           [9.9858e-01, 6.3430e-04, 7.8097e-04,  ..., 0.0000e+00,\n",
       "            0.0000e+00, 0.0000e+00],\n",
       "           ...,\n",
       "           [4.4607e-01, 1.0831e-03, 1.4319e-05,  ..., 1.6654e-04,\n",
       "            0.0000e+00, 0.0000e+00],\n",
       "           [1.3194e-01, 4.6472e-05, 7.1401e-04,  ..., 7.0820e-04,\n",
       "            9.9066e-05, 0.0000e+00],\n",
       "           [5.2958e-01, 1.5545e-03, 6.3692e-04,  ..., 1.7372e-04,\n",
       "            3.4937e-06, 6.8843e-04]],\n",
       " \n",
       "          ...,\n",
       " \n",
       "          [[1.0000e+00, 0.0000e+00, 0.0000e+00,  ..., 0.0000e+00,\n",
       "            0.0000e+00, 0.0000e+00],\n",
       "           [9.9008e-01, 9.9248e-03, 0.0000e+00,  ..., 0.0000e+00,\n",
       "            0.0000e+00, 0.0000e+00],\n",
       "           [9.5244e-01, 1.5572e-02, 3.1990e-02,  ..., 0.0000e+00,\n",
       "            0.0000e+00, 0.0000e+00],\n",
       "           ...,\n",
       "           [7.7453e-01, 1.6124e-06, 5.0046e-07,  ..., 2.4969e-02,\n",
       "            0.0000e+00, 0.0000e+00],\n",
       "           [4.4099e-01, 1.1570e-06, 1.7721e-06,  ..., 1.8059e-01,\n",
       "            5.1223e-02, 0.0000e+00],\n",
       "           [9.8416e-01, 1.5114e-06, 1.4282e-06,  ..., 1.0885e-03,\n",
       "            6.5091e-04, 4.1784e-03]],\n",
       " \n",
       "          [[1.0000e+00, 0.0000e+00, 0.0000e+00,  ..., 0.0000e+00,\n",
       "            0.0000e+00, 0.0000e+00],\n",
       "           [9.9938e-01, 6.2173e-04, 0.0000e+00,  ..., 0.0000e+00,\n",
       "            0.0000e+00, 0.0000e+00],\n",
       "           [9.9250e-01, 6.0137e-03, 1.4889e-03,  ..., 0.0000e+00,\n",
       "            0.0000e+00, 0.0000e+00],\n",
       "           ...,\n",
       "           [3.0102e-01, 3.1542e-05, 3.7954e-05,  ..., 9.3747e-04,\n",
       "            0.0000e+00, 0.0000e+00],\n",
       "           [4.1392e-01, 1.4373e-04, 6.6675e-04,  ..., 8.0184e-03,\n",
       "            3.5914e-05, 0.0000e+00],\n",
       "           [9.0907e-01, 2.1680e-04, 1.9963e-04,  ..., 1.5410e-04,\n",
       "            2.4424e-05, 1.8218e-03]],\n",
       " \n",
       "          [[1.0000e+00, 0.0000e+00, 0.0000e+00,  ..., 0.0000e+00,\n",
       "            0.0000e+00, 0.0000e+00],\n",
       "           [9.9708e-01, 2.9238e-03, 0.0000e+00,  ..., 0.0000e+00,\n",
       "            0.0000e+00, 0.0000e+00],\n",
       "           [9.7892e-01, 1.2156e-02, 8.9270e-03,  ..., 0.0000e+00,\n",
       "            0.0000e+00, 0.0000e+00],\n",
       "           ...,\n",
       "           [8.3210e-03, 9.2677e-05, 2.2086e-06,  ..., 2.1220e-05,\n",
       "            0.0000e+00, 0.0000e+00],\n",
       "           [2.7099e-02, 5.2440e-04, 1.2099e-04,  ..., 5.2367e-03,\n",
       "            6.9025e-04, 0.0000e+00],\n",
       "           [1.4551e-02, 3.3480e-03, 1.4029e-04,  ..., 6.7173e-07,\n",
       "            3.1124e-06, 1.0168e-04]]]]), tensor([[[[1.0000e+00, 0.0000e+00, 0.0000e+00,  ..., 0.0000e+00,\n",
       "            0.0000e+00, 0.0000e+00],\n",
       "           [9.7885e-01, 2.1155e-02, 0.0000e+00,  ..., 0.0000e+00,\n",
       "            0.0000e+00, 0.0000e+00],\n",
       "           [8.5203e-01, 1.6479e-02, 1.3149e-01,  ..., 0.0000e+00,\n",
       "            0.0000e+00, 0.0000e+00],\n",
       "           ...,\n",
       "           [7.2118e-01, 8.3043e-04, 5.0261e-04,  ..., 2.8545e-02,\n",
       "            0.0000e+00, 0.0000e+00],\n",
       "           [1.7434e-01, 6.3256e-04, 2.3200e-04,  ..., 8.2385e-04,\n",
       "            6.3306e-03, 0.0000e+00],\n",
       "           [5.7639e-01, 2.8940e-03, 1.1135e-03,  ..., 3.9663e-04,\n",
       "            1.9031e-03, 7.6682e-02]],\n",
       " \n",
       "          [[1.0000e+00, 0.0000e+00, 0.0000e+00,  ..., 0.0000e+00,\n",
       "            0.0000e+00, 0.0000e+00],\n",
       "           [9.9574e-01, 4.2568e-03, 0.0000e+00,  ..., 0.0000e+00,\n",
       "            0.0000e+00, 0.0000e+00],\n",
       "           [9.9348e-01, 3.6479e-03, 2.8758e-03,  ..., 0.0000e+00,\n",
       "            0.0000e+00, 0.0000e+00],\n",
       "           ...,\n",
       "           [4.4710e-02, 5.0549e-04, 7.5774e-04,  ..., 1.1073e-03,\n",
       "            0.0000e+00, 0.0000e+00],\n",
       "           [3.3058e-01, 1.3508e-03, 2.6328e-03,  ..., 3.5188e-02,\n",
       "            1.7375e-03, 0.0000e+00],\n",
       "           [6.2775e-01, 4.6655e-03, 5.9824e-03,  ..., 3.4456e-04,\n",
       "            1.0831e-04, 6.7058e-03]],\n",
       " \n",
       "          [[1.0000e+00, 0.0000e+00, 0.0000e+00,  ..., 0.0000e+00,\n",
       "            0.0000e+00, 0.0000e+00],\n",
       "           [9.6837e-01, 3.1633e-02, 0.0000e+00,  ..., 0.0000e+00,\n",
       "            0.0000e+00, 0.0000e+00],\n",
       "           [8.6472e-01, 9.6185e-02, 3.9094e-02,  ..., 0.0000e+00,\n",
       "            0.0000e+00, 0.0000e+00],\n",
       "           ...,\n",
       "           [6.1083e-01, 2.9644e-03, 7.3978e-03,  ..., 1.4116e-02,\n",
       "            0.0000e+00, 0.0000e+00],\n",
       "           [5.4387e-02, 7.0459e-04, 6.0005e-03,  ..., 1.2374e-02,\n",
       "            7.1763e-04, 0.0000e+00],\n",
       "           [2.8050e-01, 9.5778e-03, 1.0362e-02,  ..., 2.6469e-03,\n",
       "            9.4243e-04, 3.9907e-02]],\n",
       " \n",
       "          ...,\n",
       " \n",
       "          [[1.0000e+00, 0.0000e+00, 0.0000e+00,  ..., 0.0000e+00,\n",
       "            0.0000e+00, 0.0000e+00],\n",
       "           [9.6285e-01, 3.7155e-02, 0.0000e+00,  ..., 0.0000e+00,\n",
       "            0.0000e+00, 0.0000e+00],\n",
       "           [9.4799e-01, 1.7077e-02, 3.4929e-02,  ..., 0.0000e+00,\n",
       "            0.0000e+00, 0.0000e+00],\n",
       "           ...,\n",
       "           [6.6264e-01, 8.5934e-05, 5.0669e-05,  ..., 4.1930e-03,\n",
       "            0.0000e+00, 0.0000e+00],\n",
       "           [2.6748e-01, 1.6133e-04, 5.0668e-04,  ..., 1.5965e-02,\n",
       "            1.0914e-01, 0.0000e+00],\n",
       "           [3.8545e-01, 1.3456e-03, 2.8896e-03,  ..., 5.0006e-03,\n",
       "            7.2819e-03, 9.6715e-02]],\n",
       " \n",
       "          [[1.0000e+00, 0.0000e+00, 0.0000e+00,  ..., 0.0000e+00,\n",
       "            0.0000e+00, 0.0000e+00],\n",
       "           [9.3566e-01, 6.4345e-02, 0.0000e+00,  ..., 0.0000e+00,\n",
       "            0.0000e+00, 0.0000e+00],\n",
       "           [9.4270e-01, 1.8037e-02, 3.9262e-02,  ..., 0.0000e+00,\n",
       "            0.0000e+00, 0.0000e+00],\n",
       "           ...,\n",
       "           [6.8056e-01, 2.2663e-05, 3.2627e-05,  ..., 2.8804e-02,\n",
       "            0.0000e+00, 0.0000e+00],\n",
       "           [4.8351e-01, 7.4317e-05, 2.7015e-04,  ..., 6.7693e-02,\n",
       "            6.1629e-02, 0.0000e+00],\n",
       "           [7.7779e-01, 1.9387e-03, 4.4654e-04,  ..., 1.2239e-03,\n",
       "            1.1394e-03, 5.6618e-02]],\n",
       " \n",
       "          [[1.0000e+00, 0.0000e+00, 0.0000e+00,  ..., 0.0000e+00,\n",
       "            0.0000e+00, 0.0000e+00],\n",
       "           [9.6039e-01, 3.9608e-02, 0.0000e+00,  ..., 0.0000e+00,\n",
       "            0.0000e+00, 0.0000e+00],\n",
       "           [9.7181e-01, 1.2793e-02, 1.5398e-02,  ..., 0.0000e+00,\n",
       "            0.0000e+00, 0.0000e+00],\n",
       "           ...,\n",
       "           [1.7723e-02, 6.6610e-07, 1.4994e-06,  ..., 7.0544e-03,\n",
       "            0.0000e+00, 0.0000e+00],\n",
       "           [6.5427e-01, 1.2323e-04, 4.8502e-04,  ..., 3.1486e-03,\n",
       "            1.3777e-02, 0.0000e+00],\n",
       "           [4.5699e-01, 2.2067e-03, 6.6666e-04,  ..., 7.4620e-05,\n",
       "            7.3348e-04, 1.4363e-02]]]]), tensor([[[[1.0000e+00, 0.0000e+00, 0.0000e+00,  ..., 0.0000e+00,\n",
       "            0.0000e+00, 0.0000e+00],\n",
       "           [8.6397e-01, 1.3603e-01, 0.0000e+00,  ..., 0.0000e+00,\n",
       "            0.0000e+00, 0.0000e+00],\n",
       "           [9.2485e-01, 2.3932e-02, 5.1219e-02,  ..., 0.0000e+00,\n",
       "            0.0000e+00, 0.0000e+00],\n",
       "           ...,\n",
       "           [6.2286e-01, 1.3531e-06, 6.8572e-07,  ..., 4.9517e-03,\n",
       "            0.0000e+00, 0.0000e+00],\n",
       "           [7.4614e-01, 6.3692e-04, 1.3341e-04,  ..., 8.1615e-03,\n",
       "            2.2874e-02, 0.0000e+00],\n",
       "           [5.9051e-01, 1.5417e-02, 7.8584e-04,  ..., 4.9165e-04,\n",
       "            1.3318e-03, 2.5478e-03]],\n",
       " \n",
       "          [[1.0000e+00, 0.0000e+00, 0.0000e+00,  ..., 0.0000e+00,\n",
       "            0.0000e+00, 0.0000e+00],\n",
       "           [9.9592e-01, 4.0834e-03, 0.0000e+00,  ..., 0.0000e+00,\n",
       "            0.0000e+00, 0.0000e+00],\n",
       "           [9.7789e-01, 6.3734e-03, 1.5733e-02,  ..., 0.0000e+00,\n",
       "            0.0000e+00, 0.0000e+00],\n",
       "           ...,\n",
       "           [7.1520e-01, 4.1583e-05, 2.0209e-04,  ..., 3.5867e-02,\n",
       "            0.0000e+00, 0.0000e+00],\n",
       "           [4.5765e-01, 1.3284e-03, 3.9919e-03,  ..., 3.4129e-02,\n",
       "            1.2567e-03, 0.0000e+00],\n",
       "           [3.6653e-01, 4.6284e-03, 1.8423e-02,  ..., 3.5472e-03,\n",
       "            7.5658e-05, 1.1468e-02]],\n",
       " \n",
       "          [[1.0000e+00, 0.0000e+00, 0.0000e+00,  ..., 0.0000e+00,\n",
       "            0.0000e+00, 0.0000e+00],\n",
       "           [9.7753e-01, 2.2465e-02, 0.0000e+00,  ..., 0.0000e+00,\n",
       "            0.0000e+00, 0.0000e+00],\n",
       "           [9.8063e-01, 1.2814e-02, 6.5560e-03,  ..., 0.0000e+00,\n",
       "            0.0000e+00, 0.0000e+00],\n",
       "           ...,\n",
       "           [7.5477e-01, 1.0416e-05, 5.6672e-06,  ..., 1.5542e-02,\n",
       "            0.0000e+00, 0.0000e+00],\n",
       "           [6.1491e-01, 4.4281e-03, 4.1180e-03,  ..., 8.1988e-02,\n",
       "            5.0098e-03, 0.0000e+00],\n",
       "           [3.2718e-01, 1.1698e-02, 1.1090e-03,  ..., 2.0717e-04,\n",
       "            7.1420e-04, 1.2923e-03]],\n",
       " \n",
       "          ...,\n",
       " \n",
       "          [[1.0000e+00, 0.0000e+00, 0.0000e+00,  ..., 0.0000e+00,\n",
       "            0.0000e+00, 0.0000e+00],\n",
       "           [9.9581e-01, 4.1856e-03, 0.0000e+00,  ..., 0.0000e+00,\n",
       "            0.0000e+00, 0.0000e+00],\n",
       "           [9.9178e-01, 3.2544e-03, 4.9617e-03,  ..., 0.0000e+00,\n",
       "            0.0000e+00, 0.0000e+00],\n",
       "           ...,\n",
       "           [2.5560e-02, 6.7263e-06, 2.0882e-06,  ..., 3.7836e-04,\n",
       "            0.0000e+00, 0.0000e+00],\n",
       "           [4.8227e-01, 1.1266e-02, 1.0339e-03,  ..., 3.5809e-03,\n",
       "            2.1161e-03, 0.0000e+00],\n",
       "           [4.0878e-01, 1.9941e-02, 9.6945e-04,  ..., 3.0016e-04,\n",
       "            9.1123e-05, 1.7674e-03]],\n",
       " \n",
       "          [[1.0000e+00, 0.0000e+00, 0.0000e+00,  ..., 0.0000e+00,\n",
       "            0.0000e+00, 0.0000e+00],\n",
       "           [9.8023e-01, 1.9774e-02, 0.0000e+00,  ..., 0.0000e+00,\n",
       "            0.0000e+00, 0.0000e+00],\n",
       "           [9.4797e-01, 1.9009e-02, 3.3023e-02,  ..., 0.0000e+00,\n",
       "            0.0000e+00, 0.0000e+00],\n",
       "           ...,\n",
       "           [9.7909e-01, 3.8526e-07, 4.6452e-07,  ..., 9.4047e-03,\n",
       "            0.0000e+00, 0.0000e+00],\n",
       "           [4.6726e-01, 1.1415e-07, 6.3048e-07,  ..., 4.5097e-01,\n",
       "            1.0295e-02, 0.0000e+00],\n",
       "           [9.8530e-01, 1.5704e-06, 3.9399e-06,  ..., 4.7438e-03,\n",
       "            2.9308e-04, 3.4922e-03]],\n",
       " \n",
       "          [[1.0000e+00, 0.0000e+00, 0.0000e+00,  ..., 0.0000e+00,\n",
       "            0.0000e+00, 0.0000e+00],\n",
       "           [9.9704e-01, 2.9561e-03, 0.0000e+00,  ..., 0.0000e+00,\n",
       "            0.0000e+00, 0.0000e+00],\n",
       "           [9.9491e-01, 2.0422e-03, 3.0471e-03,  ..., 0.0000e+00,\n",
       "            0.0000e+00, 0.0000e+00],\n",
       "           ...,\n",
       "           [3.7625e-01, 9.1912e-04, 4.1095e-04,  ..., 1.4489e-03,\n",
       "            0.0000e+00, 0.0000e+00],\n",
       "           [6.5427e-02, 1.7998e-03, 6.1594e-04,  ..., 2.1089e-03,\n",
       "            2.4682e-03, 0.0000e+00],\n",
       "           [4.5270e-01, 3.6617e-02, 4.7807e-03,  ..., 7.8367e-04,\n",
       "            1.1448e-04, 1.1574e-02]]]]), tensor([[[[1.0000e+00, 0.0000e+00, 0.0000e+00,  ..., 0.0000e+00,\n",
       "            0.0000e+00, 0.0000e+00],\n",
       "           [9.6613e-01, 3.3873e-02, 0.0000e+00,  ..., 0.0000e+00,\n",
       "            0.0000e+00, 0.0000e+00],\n",
       "           [9.6826e-01, 1.0252e-02, 2.1490e-02,  ..., 0.0000e+00,\n",
       "            0.0000e+00, 0.0000e+00],\n",
       "           ...,\n",
       "           [1.3741e-01, 5.0675e-06, 4.4974e-06,  ..., 3.9289e-03,\n",
       "            0.0000e+00, 0.0000e+00],\n",
       "           [4.4191e-01, 3.4521e-03, 1.7596e-04,  ..., 4.9225e-03,\n",
       "            2.1107e-02, 0.0000e+00],\n",
       "           [3.4171e-01, 1.7168e-02, 5.0825e-04,  ..., 2.0745e-04,\n",
       "            4.3585e-04, 3.4678e-04]],\n",
       " \n",
       "          [[1.0000e+00, 0.0000e+00, 0.0000e+00,  ..., 0.0000e+00,\n",
       "            0.0000e+00, 0.0000e+00],\n",
       "           [9.8603e-01, 1.3969e-02, 0.0000e+00,  ..., 0.0000e+00,\n",
       "            0.0000e+00, 0.0000e+00],\n",
       "           [9.8165e-01, 3.7739e-03, 1.4576e-02,  ..., 0.0000e+00,\n",
       "            0.0000e+00, 0.0000e+00],\n",
       "           ...,\n",
       "           [1.3860e-01, 3.2606e-05, 8.1345e-06,  ..., 1.4493e-02,\n",
       "            0.0000e+00, 0.0000e+00],\n",
       "           [2.6650e-01, 5.5701e-03, 1.4110e-03,  ..., 1.1891e-01,\n",
       "            1.0361e-03, 0.0000e+00],\n",
       "           [3.4972e-01, 1.9561e-02, 2.2609e-03,  ..., 7.5093e-04,\n",
       "            1.8640e-05, 3.0823e-04]],\n",
       " \n",
       "          [[1.0000e+00, 0.0000e+00, 0.0000e+00,  ..., 0.0000e+00,\n",
       "            0.0000e+00, 0.0000e+00],\n",
       "           [9.8521e-01, 1.4794e-02, 0.0000e+00,  ..., 0.0000e+00,\n",
       "            0.0000e+00, 0.0000e+00],\n",
       "           [9.6177e-01, 8.8031e-03, 2.9431e-02,  ..., 0.0000e+00,\n",
       "            0.0000e+00, 0.0000e+00],\n",
       "           ...,\n",
       "           [2.2410e-01, 7.2267e-05, 5.0339e-05,  ..., 1.1788e-02,\n",
       "            0.0000e+00, 0.0000e+00],\n",
       "           [2.7222e-01, 5.6605e-03, 9.8987e-04,  ..., 6.4801e-03,\n",
       "            1.0900e-02, 0.0000e+00],\n",
       "           [2.9267e-01, 3.1549e-02, 5.7133e-03,  ..., 2.1472e-04,\n",
       "            1.3864e-04, 7.8557e-03]],\n",
       " \n",
       "          ...,\n",
       " \n",
       "          [[1.0000e+00, 0.0000e+00, 0.0000e+00,  ..., 0.0000e+00,\n",
       "            0.0000e+00, 0.0000e+00],\n",
       "           [9.8625e-01, 1.3748e-02, 0.0000e+00,  ..., 0.0000e+00,\n",
       "            0.0000e+00, 0.0000e+00],\n",
       "           [9.1722e-01, 5.6393e-02, 2.6392e-02,  ..., 0.0000e+00,\n",
       "            0.0000e+00, 0.0000e+00],\n",
       "           ...,\n",
       "           [8.3542e-01, 2.6793e-06, 5.4950e-07,  ..., 4.3020e-02,\n",
       "            0.0000e+00, 0.0000e+00],\n",
       "           [7.4592e-01, 6.4558e-08, 1.1345e-06,  ..., 8.7679e-02,\n",
       "            7.2003e-02, 0.0000e+00],\n",
       "           [8.7776e-01, 9.9221e-07, 8.9298e-06,  ..., 3.4837e-03,\n",
       "            8.1166e-03, 8.1428e-02]],\n",
       " \n",
       "          [[1.0000e+00, 0.0000e+00, 0.0000e+00,  ..., 0.0000e+00,\n",
       "            0.0000e+00, 0.0000e+00],\n",
       "           [9.9166e-01, 8.3411e-03, 0.0000e+00,  ..., 0.0000e+00,\n",
       "            0.0000e+00, 0.0000e+00],\n",
       "           [9.8618e-01, 6.0868e-03, 7.7350e-03,  ..., 0.0000e+00,\n",
       "            0.0000e+00, 0.0000e+00],\n",
       "           ...,\n",
       "           [1.4614e-01, 1.2837e-05, 5.2061e-06,  ..., 1.3344e-03,\n",
       "            0.0000e+00, 0.0000e+00],\n",
       "           [3.6679e-01, 6.0636e-03, 5.4053e-04,  ..., 6.5854e-03,\n",
       "            9.0345e-03, 0.0000e+00],\n",
       "           [5.2860e-01, 2.4854e-02, 4.5162e-04,  ..., 1.2167e-04,\n",
       "            4.2899e-04, 9.9282e-04]],\n",
       " \n",
       "          [[1.0000e+00, 0.0000e+00, 0.0000e+00,  ..., 0.0000e+00,\n",
       "            0.0000e+00, 0.0000e+00],\n",
       "           [9.5909e-01, 4.0909e-02, 0.0000e+00,  ..., 0.0000e+00,\n",
       "            0.0000e+00, 0.0000e+00],\n",
       "           [9.6774e-01, 4.4096e-03, 2.7850e-02,  ..., 0.0000e+00,\n",
       "            0.0000e+00, 0.0000e+00],\n",
       "           ...,\n",
       "           [2.2861e-02, 8.1097e-06, 5.8015e-06,  ..., 2.2314e-03,\n",
       "            0.0000e+00, 0.0000e+00],\n",
       "           [1.6340e-01, 2.2792e-03, 1.4243e-03,  ..., 2.3889e-02,\n",
       "            2.1452e-02, 0.0000e+00],\n",
       "           [4.9847e-02, 3.7062e-02, 1.2109e-04,  ..., 1.3574e-04,\n",
       "            1.9163e-04, 3.8317e-04]]]]), tensor([[[[1.0000e+00, 0.0000e+00, 0.0000e+00,  ..., 0.0000e+00,\n",
       "            0.0000e+00, 0.0000e+00],\n",
       "           [6.9673e-01, 3.0327e-01, 0.0000e+00,  ..., 0.0000e+00,\n",
       "            0.0000e+00, 0.0000e+00],\n",
       "           [3.5863e-01, 1.6138e-01, 4.7999e-01,  ..., 0.0000e+00,\n",
       "            0.0000e+00, 0.0000e+00],\n",
       "           ...,\n",
       "           [4.6500e-02, 3.5945e-03, 1.3645e-02,  ..., 4.3993e-02,\n",
       "            0.0000e+00, 0.0000e+00],\n",
       "           [1.3215e-01, 3.1455e-03, 1.0885e-02,  ..., 3.1694e-02,\n",
       "            6.4497e-03, 0.0000e+00],\n",
       "           [8.6108e-02, 2.1932e-02, 1.6518e-02,  ..., 7.1626e-03,\n",
       "            2.3861e-03, 4.1568e-02]],\n",
       " \n",
       "          [[1.0000e+00, 0.0000e+00, 0.0000e+00,  ..., 0.0000e+00,\n",
       "            0.0000e+00, 0.0000e+00],\n",
       "           [9.6015e-01, 3.9847e-02, 0.0000e+00,  ..., 0.0000e+00,\n",
       "            0.0000e+00, 0.0000e+00],\n",
       "           [9.0771e-01, 4.8637e-02, 4.3652e-02,  ..., 0.0000e+00,\n",
       "            0.0000e+00, 0.0000e+00],\n",
       "           ...,\n",
       "           [2.8156e-01, 1.8016e-03, 5.5139e-04,  ..., 1.4521e-02,\n",
       "            0.0000e+00, 0.0000e+00],\n",
       "           [1.0786e-01, 1.6915e-02, 1.4094e-03,  ..., 7.9787e-03,\n",
       "            1.4680e-03, 0.0000e+00],\n",
       "           [6.6557e-02, 5.2352e-02, 3.9500e-03,  ..., 6.2088e-04,\n",
       "            2.9914e-05, 1.2191e-02]],\n",
       " \n",
       "          [[1.0000e+00, 0.0000e+00, 0.0000e+00,  ..., 0.0000e+00,\n",
       "            0.0000e+00, 0.0000e+00],\n",
       "           [9.5681e-01, 4.3185e-02, 0.0000e+00,  ..., 0.0000e+00,\n",
       "            0.0000e+00, 0.0000e+00],\n",
       "           [9.6635e-01, 2.0825e-02, 1.2828e-02,  ..., 0.0000e+00,\n",
       "            0.0000e+00, 0.0000e+00],\n",
       "           ...,\n",
       "           [3.5215e-01, 3.4439e-04, 8.9609e-05,  ..., 7.3259e-03,\n",
       "            0.0000e+00, 0.0000e+00],\n",
       "           [4.5071e-01, 2.0391e-02, 1.2332e-03,  ..., 8.6892e-03,\n",
       "            1.5741e-02, 0.0000e+00],\n",
       "           [5.7433e-01, 3.2654e-02, 1.0976e-03,  ..., 5.7473e-05,\n",
       "            9.0169e-05, 3.8282e-03]],\n",
       " \n",
       "          ...,\n",
       " \n",
       "          [[1.0000e+00, 0.0000e+00, 0.0000e+00,  ..., 0.0000e+00,\n",
       "            0.0000e+00, 0.0000e+00],\n",
       "           [9.7089e-01, 2.9114e-02, 0.0000e+00,  ..., 0.0000e+00,\n",
       "            0.0000e+00, 0.0000e+00],\n",
       "           [9.6433e-01, 7.3711e-03, 2.8302e-02,  ..., 0.0000e+00,\n",
       "            0.0000e+00, 0.0000e+00],\n",
       "           ...,\n",
       "           [1.9508e-01, 5.1796e-04, 4.9129e-05,  ..., 2.1731e-02,\n",
       "            0.0000e+00, 0.0000e+00],\n",
       "           [2.0307e-01, 1.0801e-02, 6.7716e-04,  ..., 8.1282e-02,\n",
       "            7.8886e-03, 0.0000e+00],\n",
       "           [2.9060e-01, 5.6347e-02, 7.8661e-04,  ..., 1.4369e-03,\n",
       "            1.2313e-04, 2.2908e-03]],\n",
       " \n",
       "          [[1.0000e+00, 0.0000e+00, 0.0000e+00,  ..., 0.0000e+00,\n",
       "            0.0000e+00, 0.0000e+00],\n",
       "           [9.1289e-01, 8.7114e-02, 0.0000e+00,  ..., 0.0000e+00,\n",
       "            0.0000e+00, 0.0000e+00],\n",
       "           [8.7252e-01, 7.8976e-03, 1.1958e-01,  ..., 0.0000e+00,\n",
       "            0.0000e+00, 0.0000e+00],\n",
       "           ...,\n",
       "           [6.8493e-01, 7.6869e-06, 4.8094e-04,  ..., 9.1704e-03,\n",
       "            0.0000e+00, 0.0000e+00],\n",
       "           [3.4267e-01, 1.4537e-03, 3.8350e-03,  ..., 1.8385e-02,\n",
       "            1.9099e-03, 0.0000e+00],\n",
       "           [3.5928e-01, 4.0037e-02, 6.9066e-03,  ..., 4.0431e-04,\n",
       "            3.0431e-05, 1.2040e-02]],\n",
       " \n",
       "          [[1.0000e+00, 0.0000e+00, 0.0000e+00,  ..., 0.0000e+00,\n",
       "            0.0000e+00, 0.0000e+00],\n",
       "           [9.0809e-01, 9.1907e-02, 0.0000e+00,  ..., 0.0000e+00,\n",
       "            0.0000e+00, 0.0000e+00],\n",
       "           [9.0481e-01, 2.7519e-02, 6.7675e-02,  ..., 0.0000e+00,\n",
       "            0.0000e+00, 0.0000e+00],\n",
       "           ...,\n",
       "           [4.7498e-01, 1.0897e-03, 2.1817e-04,  ..., 5.0815e-03,\n",
       "            0.0000e+00, 0.0000e+00],\n",
       "           [2.4633e-03, 2.2297e-04, 1.2374e-04,  ..., 2.7308e-04,\n",
       "            1.5633e-03, 0.0000e+00],\n",
       "           [5.0916e-01, 8.9177e-03, 1.9543e-03,  ..., 2.4187e-03,\n",
       "            1.4703e-03, 5.2669e-05]]]])), logits=tensor([[[ -33.1164,  -32.4951,  -34.4426,  ...,  -41.5760,  -39.8089,\n",
       "            -33.3396],\n",
       "          [ -74.6636,  -72.7456,  -77.9815,  ...,  -83.8213,  -79.3714,\n",
       "            -74.1172],\n",
       "          [-114.5377, -114.2488, -119.8348,  ..., -118.4972, -115.6504,\n",
       "           -115.8486],\n",
       "          ...,\n",
       "          [ -69.2770,  -68.2463,  -71.7823,  ...,  -76.3024,  -72.7929,\n",
       "            -66.5981],\n",
       "          [ 127.9909,  128.4794,  128.1077,  ...,  119.4782,  120.0621,\n",
       "            136.1470],\n",
       "          [ -97.3469,  -90.4227,  -93.2591,  ..., -109.0024, -111.0878,\n",
       "            -95.4327]]]), labels=None, loss=None, attn_attr=OrderedDict([('', OrderedDict([((9, 9), tensor([[ 0.0000e+00,  0.0000e+00,  0.0000e+00,  ...,  0.0000e+00,\n",
       "           0.0000e+00,  0.0000e+00],\n",
       "         [ 0.0000e+00,  0.0000e+00,  0.0000e+00,  ...,  0.0000e+00,\n",
       "           0.0000e+00,  0.0000e+00],\n",
       "         [ 0.0000e+00,  0.0000e+00,  0.0000e+00,  ...,  0.0000e+00,\n",
       "           0.0000e+00,  0.0000e+00],\n",
       "         ...,\n",
       "         [-2.4438e-06,  1.7881e-07,  1.1921e-07,  ..., -1.3709e-05,\n",
       "           0.0000e+00, -0.0000e+00],\n",
       "         [ 0.0000e+00,  0.0000e+00,  0.0000e+00,  ...,  0.0000e+00,\n",
       "           0.0000e+00,  0.0000e+00],\n",
       "         [ 0.0000e+00,  0.0000e+00,  0.0000e+00,  ...,  0.0000e+00,\n",
       "           0.0000e+00,  0.0000e+00]], dtype=torch.float16)), ((10, 11), tensor([[ 0.0000e+00,  0.0000e+00,  0.0000e+00,  ...,  0.0000e+00,\n",
       "           0.0000e+00,  0.0000e+00],\n",
       "         [ 0.0000e+00,  0.0000e+00,  0.0000e+00,  ...,  0.0000e+00,\n",
       "           0.0000e+00,  0.0000e+00],\n",
       "         [ 0.0000e+00,  0.0000e+00,  0.0000e+00,  ...,  0.0000e+00,\n",
       "           0.0000e+00,  0.0000e+00],\n",
       "         ...,\n",
       "         [-1.6212e-05, -1.7881e-07, -2.9802e-07,  ..., -5.6326e-05,\n",
       "           0.0000e+00, -0.0000e+00],\n",
       "         [ 0.0000e+00,  0.0000e+00,  0.0000e+00,  ...,  0.0000e+00,\n",
       "           0.0000e+00,  0.0000e+00],\n",
       "         [ 0.0000e+00,  0.0000e+00,  0.0000e+00,  ...,  0.0000e+00,\n",
       "           0.0000e+00,  0.0000e+00]], dtype=torch.float16)), ((10, 6), tensor([[ 0.0000e+00,  0.0000e+00,  0.0000e+00,  ...,  0.0000e+00,\n",
       "           0.0000e+00,  0.0000e+00],\n",
       "         [ 0.0000e+00,  0.0000e+00,  0.0000e+00,  ...,  0.0000e+00,\n",
       "           0.0000e+00,  0.0000e+00],\n",
       "         [ 0.0000e+00,  0.0000e+00,  0.0000e+00,  ...,  0.0000e+00,\n",
       "           0.0000e+00,  0.0000e+00],\n",
       "         ...,\n",
       "         [-4.5509e-03,  2.0862e-06,  5.9605e-08,  ..., -2.2340e-04,\n",
       "           0.0000e+00,  0.0000e+00],\n",
       "         [ 0.0000e+00,  0.0000e+00,  0.0000e+00,  ...,  0.0000e+00,\n",
       "           0.0000e+00,  0.0000e+00],\n",
       "         [ 0.0000e+00,  0.0000e+00,  0.0000e+00,  ...,  0.0000e+00,\n",
       "           0.0000e+00,  0.0000e+00]], dtype=torch.float16)), ((7, 10), tensor([[ 0.0000e+00,  0.0000e+00,  0.0000e+00,  ...,  0.0000e+00,\n",
       "           0.0000e+00,  0.0000e+00],\n",
       "         [ 0.0000e+00,  0.0000e+00,  0.0000e+00,  ...,  0.0000e+00,\n",
       "           0.0000e+00,  0.0000e+00],\n",
       "         [ 0.0000e+00,  0.0000e+00,  0.0000e+00,  ...,  0.0000e+00,\n",
       "           0.0000e+00,  0.0000e+00],\n",
       "         ...,\n",
       "         [-1.1530e-03, -2.3842e-07, -2.0266e-06,  ..., -3.2842e-05,\n",
       "           0.0000e+00, -0.0000e+00],\n",
       "         [ 0.0000e+00,  0.0000e+00,  0.0000e+00,  ...,  0.0000e+00,\n",
       "           0.0000e+00,  0.0000e+00],\n",
       "         [ 0.0000e+00,  0.0000e+00,  0.0000e+00,  ...,  0.0000e+00,\n",
       "           0.0000e+00,  0.0000e+00]], dtype=torch.float16)), ((11, 9), tensor([[ 0.0000e+00,  0.0000e+00,  0.0000e+00,  ...,  0.0000e+00,\n",
       "           0.0000e+00,  0.0000e+00],\n",
       "         [ 0.0000e+00,  0.0000e+00,  0.0000e+00,  ...,  0.0000e+00,\n",
       "           0.0000e+00,  0.0000e+00],\n",
       "         [ 0.0000e+00,  0.0000e+00,  0.0000e+00,  ...,  0.0000e+00,\n",
       "           0.0000e+00,  0.0000e+00],\n",
       "         ...,\n",
       "         [-1.4076e-03, -2.7359e-05,  8.3447e-07,  ..., -1.4248e-03,\n",
       "           0.0000e+00, -0.0000e+00],\n",
       "         [ 0.0000e+00,  0.0000e+00,  0.0000e+00,  ...,  0.0000e+00,\n",
       "           0.0000e+00,  0.0000e+00],\n",
       "         [ 0.0000e+00,  0.0000e+00,  0.0000e+00,  ...,  0.0000e+00,\n",
       "           0.0000e+00,  0.0000e+00]], dtype=torch.float16)), ((7, 6), tensor([[ 0.0000e+00,  0.0000e+00,  0.0000e+00,  ...,  0.0000e+00,\n",
       "           0.0000e+00,  0.0000e+00],\n",
       "         [ 0.0000e+00,  0.0000e+00,  0.0000e+00,  ...,  0.0000e+00,\n",
       "           0.0000e+00,  0.0000e+00],\n",
       "         [ 0.0000e+00,  0.0000e+00,  0.0000e+00,  ...,  0.0000e+00,\n",
       "           0.0000e+00,  0.0000e+00],\n",
       "         ...,\n",
       "         [ 2.7256e-03, -2.3842e-06,  5.0247e-05,  ...,  1.5488e-03,\n",
       "          -0.0000e+00,  0.0000e+00],\n",
       "         [ 0.0000e+00,  0.0000e+00,  0.0000e+00,  ...,  0.0000e+00,\n",
       "           0.0000e+00,  0.0000e+00],\n",
       "         [ 0.0000e+00,  0.0000e+00,  0.0000e+00,  ...,  0.0000e+00,\n",
       "           0.0000e+00,  0.0000e+00]], dtype=torch.float16)), ((10, 0), tensor([[ 0.0000e+00,  0.0000e+00,  0.0000e+00,  ...,  0.0000e+00,\n",
       "           0.0000e+00,  0.0000e+00],\n",
       "         [ 0.0000e+00,  0.0000e+00,  0.0000e+00,  ...,  0.0000e+00,\n",
       "           0.0000e+00,  0.0000e+00],\n",
       "         [ 0.0000e+00,  0.0000e+00,  0.0000e+00,  ...,  0.0000e+00,\n",
       "           0.0000e+00,  0.0000e+00],\n",
       "         ...,\n",
       "         [ 3.6979e-04,  3.5763e-07,  2.3842e-07,  ..., -5.8651e-04,\n",
       "           0.0000e+00,  0.0000e+00],\n",
       "         [ 0.0000e+00,  0.0000e+00,  0.0000e+00,  ...,  0.0000e+00,\n",
       "           0.0000e+00,  0.0000e+00],\n",
       "         [ 0.0000e+00,  0.0000e+00,  0.0000e+00,  ...,  0.0000e+00,\n",
       "           0.0000e+00,  0.0000e+00]], dtype=torch.float16)), ((10, 3), tensor([[ 0.0000e+00,  0.0000e+00,  0.0000e+00,  ...,  0.0000e+00,\n",
       "           0.0000e+00,  0.0000e+00],\n",
       "         [ 0.0000e+00,  0.0000e+00,  0.0000e+00,  ...,  0.0000e+00,\n",
       "           0.0000e+00,  0.0000e+00],\n",
       "         [ 0.0000e+00,  0.0000e+00,  0.0000e+00,  ...,  0.0000e+00,\n",
       "           0.0000e+00,  0.0000e+00],\n",
       "         ...,\n",
       "         [-2.5673e-03,  6.5565e-07, -5.8413e-06,  ..., -9.3937e-04,\n",
       "           0.0000e+00, -0.0000e+00],\n",
       "         [ 0.0000e+00,  0.0000e+00,  0.0000e+00,  ...,  0.0000e+00,\n",
       "           0.0000e+00,  0.0000e+00],\n",
       "         [ 0.0000e+00,  0.0000e+00,  0.0000e+00,  ...,  0.0000e+00,\n",
       "           0.0000e+00,  0.0000e+00]], dtype=torch.float16)), ((11, 0), tensor([[ 0.0000e+00,  0.0000e+00,  0.0000e+00,  ...,  0.0000e+00,\n",
       "           0.0000e+00,  0.0000e+00],\n",
       "         [ 0.0000e+00,  0.0000e+00,  0.0000e+00,  ...,  0.0000e+00,\n",
       "           0.0000e+00,  0.0000e+00],\n",
       "         [ 0.0000e+00,  0.0000e+00,  0.0000e+00,  ...,  0.0000e+00,\n",
       "           0.0000e+00,  0.0000e+00],\n",
       "         ...,\n",
       "         [-5.1975e-05, -1.1563e-05, -8.2397e-04,  ..., -5.3482e-03,\n",
       "          -0.0000e+00, -0.0000e+00],\n",
       "         [ 0.0000e+00,  0.0000e+00,  0.0000e+00,  ...,  0.0000e+00,\n",
       "           0.0000e+00,  0.0000e+00],\n",
       "         [ 0.0000e+00,  0.0000e+00,  0.0000e+00,  ...,  0.0000e+00,\n",
       "           0.0000e+00,  0.0000e+00]], dtype=torch.float16)), ((9, 2), tensor([[ 0.0000e+00,  0.0000e+00,  0.0000e+00,  ...,  0.0000e+00,\n",
       "           0.0000e+00,  0.0000e+00],\n",
       "         [ 0.0000e+00,  0.0000e+00,  0.0000e+00,  ...,  0.0000e+00,\n",
       "           0.0000e+00,  0.0000e+00],\n",
       "         [ 0.0000e+00,  0.0000e+00,  0.0000e+00,  ...,  0.0000e+00,\n",
       "           0.0000e+00,  0.0000e+00],\n",
       "         ...,\n",
       "         [-5.2147e-03, -5.9605e-08, -1.1921e-07,  ..., -1.7667e-04,\n",
       "           0.0000e+00, -0.0000e+00],\n",
       "         [ 0.0000e+00,  0.0000e+00,  0.0000e+00,  ...,  0.0000e+00,\n",
       "           0.0000e+00,  0.0000e+00],\n",
       "         [ 0.0000e+00,  0.0000e+00,  0.0000e+00,  ...,  0.0000e+00,\n",
       "           0.0000e+00,  0.0000e+00]], dtype=torch.float16))]))]))]"
      ]
     },
     "execution_count": 130,
     "metadata": {},
     "output_type": "execute_result"
    }
   ],
   "source": [
    "r.data_tuples[3]"
   ]
  },
  {
   "cell_type": "code",
   "execution_count": 94,
   "id": "d1ab2da3",
   "metadata": {
    "scrolled": true
   },
   "outputs": [
    {
     "name": "stdout",
     "output_type": "stream",
     "text": [
      " ┌@[0,1,2,3,4,7,8] 9-9,10-11,10-6,7-10,11-9 33,10-0 16,10-3 12 B->A0 49\n",
      " ├@[6] 7-m 18 B->B 10\n",
      " ├@[5,9] 7-6 19,11-0 9 unk 0\n",
      " ├@0 9-9 100 B->A0 90/32 attn:B->~<s>\n",
      " ┤\n",
      " ├@1 10-11 67 B->A0 73/20 attn:B->~<s>\n",
      " ├@2 10-6 66 B->A0 76/16 attn:B->~<s>\n",
      " ├@3 7-10 63 B->A0 82/22 attn:B->~<s>\n",
      " ├@7 10-0 16 B->A0 88/20 attn:B->~<s>\n",
      " └@150 8-11 -39 B->A0/28 attn:B->~<s>\n"
     ]
    }
   ],
   "source": [
    "print_tree(r.root)"
   ]
  },
  {
   "cell_type": "code",
   "execution_count": 43,
   "id": "781bc488",
   "metadata": {},
   "outputs": [
    {
     "data": {
      "text/plain": [
       "'@:9 16-7,16-0,21-13,18-5,14-6 36,20-8 29,13-7 24,17-9 23,21-8 15 B->A0 73'"
      ]
     },
     "execution_count": 43,
     "metadata": {},
     "output_type": "execute_result"
    }
   ],
   "source": [
    "r.root.children[-1].children[0].name"
   ]
  },
  {
   "cell_type": "code",
   "execution_count": 34,
   "id": "4cdac897",
   "metadata": {},
   "outputs": [],
   "source": [
    "r.root.children[0].data.top_heads"
   ]
  },
  {
   "cell_type": "code",
   "execution_count": 176,
   "id": "c37ac676",
   "metadata": {
    "scrolled": true
   },
   "outputs": [],
   "source": [
    "a = OrderedDict((key, get_x(key, r.data_tuples[0][-1], attr_heads=None, to_layer=28)) for key in ['mlp_mask', 'embed_mask', 'head_mask'])"
   ]
  },
  {
   "cell_type": "code",
   "execution_count": null,
   "id": "b32d664b",
   "metadata": {},
   "outputs": [],
   "source": [
    "o.hidden_states[0]"
   ]
  },
  {
   "cell_type": "code",
   "execution_count": 203,
   "id": "479b75e2",
   "metadata": {},
   "outputs": [
    {
     "data": {
      "text/plain": [
       "LayerNorm((4096,), eps=1e-05, elementwise_affine=True)"
      ]
     },
     "execution_count": 203,
     "metadata": {},
     "output_type": "execute_result"
    }
   ],
   "source": [
    "model.transformer.ln_f"
   ]
  },
  {
   "cell_type": "code",
   "execution_count": 142,
   "id": "9efe868f",
   "metadata": {
    "scrolled": true
   },
   "outputs": [
    {
     "data": {
      "text/plain": [
       "tensor([[[0., 0., 0.,  ..., 0., 0., 0.],\n",
       "         [0., 0., 0.,  ..., 0., 0., 0.],\n",
       "         [0., 0., 0.,  ..., 0., 0., 0.],\n",
       "         ...,\n",
       "         [0., 0., 0.,  ..., 0., 0., 0.],\n",
       "         [0., 0., 0.,  ..., 0., 0., 0.],\n",
       "         [0., 0., 0.,  ..., 0., 0., 0.]]])"
      ]
     },
     "execution_count": 142,
     "metadata": {},
     "output_type": "execute_result"
    }
   ],
   "source": [
    "getattr(r.data_tuples[0][-1], 'logits_mask', None)"
   ]
  },
  {
   "cell_type": "code",
   "execution_count": 147,
   "id": "613511f5",
   "metadata": {
    "scrolled": false
   },
   "outputs": [
    {
     "ename": "TypeError",
     "evalue": "'NoneType' object is not iterable",
     "output_type": "error",
     "traceback": [
      "\u001b[0;31m---------------------------------------------------------------------------\u001b[0m",
      "\u001b[0;31mTypeError\u001b[0m                                 Traceback (most recent call last)",
      "\u001b[0;32m<ipython-input-147-ade42291f747>\u001b[0m in \u001b[0;36m<module>\u001b[0;34m\u001b[0m\n\u001b[0;32m----> 1\u001b[0;31m \u001b[0mget_x\u001b[0m\u001b[0;34m(\u001b[0m\u001b[0;34m'attn_weights'\u001b[0m\u001b[0;34m,\u001b[0m\u001b[0mr\u001b[0m\u001b[0;34m.\u001b[0m\u001b[0mdata_tuples\u001b[0m\u001b[0;34m[\u001b[0m\u001b[0;36m0\u001b[0m\u001b[0;34m]\u001b[0m\u001b[0;34m[\u001b[0m\u001b[0;34m-\u001b[0m\u001b[0;36m1\u001b[0m\u001b[0;34m]\u001b[0m\u001b[0;34m,\u001b[0m\u001b[0mto_layer\u001b[0m\u001b[0;34m=\u001b[0m\u001b[0;36m28\u001b[0m\u001b[0;34m)\u001b[0m\u001b[0;34m\u001b[0m\u001b[0;34m\u001b[0m\u001b[0m\n\u001b[0m",
      "\u001b[0;32m/nas/xd/projects/transformers/notebooks/model_utils_wab.py\u001b[0m in \u001b[0;36mget_x\u001b[0;34m(key, outputs, attr_heads, to_layer, device)\u001b[0m\n\u001b[1;32m   1596\u001b[0m     \u001b[0;32melif\u001b[0m \u001b[0mkey\u001b[0m \u001b[0;34m==\u001b[0m \u001b[0;34m'mlp_mask'\u001b[0m\u001b[0;34m:\u001b[0m \u001b[0mx\u001b[0m \u001b[0;34m=\u001b[0m \u001b[0mtorch\u001b[0m\u001b[0;34m.\u001b[0m\u001b[0mones\u001b[0m\u001b[0;34m(\u001b[0m\u001b[0;36m1\u001b[0m\u001b[0;34m,\u001b[0m \u001b[0mto_layer\u001b[0m\u001b[0;34m)\u001b[0m\u001b[0;31m#, qlen)\u001b[0m\u001b[0;34m\u001b[0m\u001b[0;34m\u001b[0m\u001b[0m\n\u001b[1;32m   1597\u001b[0m     \u001b[0;32melif\u001b[0m \u001b[0mkey\u001b[0m \u001b[0;34m==\u001b[0m \u001b[0;34m'embed_mask'\u001b[0m\u001b[0;34m:\u001b[0m \u001b[0mx\u001b[0m \u001b[0;34m=\u001b[0m \u001b[0mtorch\u001b[0m\u001b[0;34m.\u001b[0m\u001b[0mones\u001b[0m\u001b[0;34m(\u001b[0m\u001b[0;36m1\u001b[0m\u001b[0;34m,\u001b[0m \u001b[0;36m1\u001b[0m\u001b[0;34m)\u001b[0m\u001b[0;31m#, qlen)\u001b[0m\u001b[0;34m\u001b[0m\u001b[0;34m\u001b[0m\u001b[0m\n\u001b[0;32m-> 1598\u001b[0;31m     \u001b[0;32melif\u001b[0m \u001b[0mkey\u001b[0m \u001b[0;34m==\u001b[0m \u001b[0;34m'attn_weights'\u001b[0m\u001b[0;34m:\u001b[0m \u001b[0mx\u001b[0m \u001b[0;34m=\u001b[0m \u001b[0mgather_by_heads\u001b[0m\u001b[0;34m(\u001b[0m\u001b[0moutputs\u001b[0m\u001b[0;34m.\u001b[0m\u001b[0mattentions\u001b[0m\u001b[0;34m,\u001b[0m \u001b[0mattr_heads\u001b[0m\u001b[0;34m)\u001b[0m\u001b[0;34m.\u001b[0m\u001b[0munsqueeze\u001b[0m\u001b[0;34m(\u001b[0m\u001b[0;36m0\u001b[0m\u001b[0;34m)\u001b[0m  \u001b[0;31m# kij->1kij\u001b[0m\u001b[0;34m\u001b[0m\u001b[0;34m\u001b[0m\u001b[0m\n\u001b[0m\u001b[1;32m   1599\u001b[0m     \u001b[0;31m# if to_layer is not None and x.ndim >= 2 and x.size(1) == L: x[:, to_layer:] = 0\u001b[0m\u001b[0;34m\u001b[0m\u001b[0;34m\u001b[0m\u001b[0;34m\u001b[0m\u001b[0m\n\u001b[1;32m   1600\u001b[0m \u001b[0;34m\u001b[0m\u001b[0m\n",
      "\u001b[0;32m/nas/xd/projects/transformers/notebooks/model_utils_wab.py\u001b[0m in \u001b[0;36mgather_by_heads\u001b[0;34m(tensors, heads)\u001b[0m\n\u001b[1;32m   1297\u001b[0m \u001b[0;32mdef\u001b[0m \u001b[0mgather_by_heads\u001b[0m\u001b[0;34m(\u001b[0m\u001b[0mtensors\u001b[0m\u001b[0;34m,\u001b[0m \u001b[0mheads\u001b[0m\u001b[0;34m)\u001b[0m\u001b[0;34m:\u001b[0m\u001b[0;34m\u001b[0m\u001b[0;34m\u001b[0m\u001b[0m\n\u001b[1;32m   1298\u001b[0m     \u001b[0;31m# attentions (l*[1nij]) / values (l*[1nid]) / head_inputs/head_outputs (l*[1nie])\u001b[0m\u001b[0;34m\u001b[0m\u001b[0;34m\u001b[0m\u001b[0;34m\u001b[0m\u001b[0m\n\u001b[0;32m-> 1299\u001b[0;31m     \u001b[0;32mreturn\u001b[0m \u001b[0mtorch\u001b[0m\u001b[0;34m.\u001b[0m\u001b[0mcat\u001b[0m\u001b[0;34m(\u001b[0m\u001b[0;34m[\u001b[0m\u001b[0mtensors\u001b[0m\u001b[0;34m[\u001b[0m\u001b[0ml\u001b[0m\u001b[0;34m]\u001b[0m\u001b[0;34m[\u001b[0m\u001b[0;34m:\u001b[0m\u001b[0;34m,\u001b[0m \u001b[0mh\u001b[0m\u001b[0;34m]\u001b[0m \u001b[0;32mfor\u001b[0m \u001b[0ml\u001b[0m\u001b[0;34m,\u001b[0m \u001b[0mh\u001b[0m \u001b[0;32min\u001b[0m \u001b[0mheads\u001b[0m\u001b[0;34m]\u001b[0m\u001b[0;34m)\u001b[0m  \u001b[0;31m# k*[1ix]->kix\u001b[0m\u001b[0;34m\u001b[0m\u001b[0;34m\u001b[0m\u001b[0m\n\u001b[0m\u001b[1;32m   1300\u001b[0m \u001b[0;34m\u001b[0m\u001b[0m\n\u001b[1;32m   1301\u001b[0m \u001b[0;32mdef\u001b[0m \u001b[0mscatter_by_heads\u001b[0m\u001b[0;34m(\u001b[0m\u001b[0mtensors\u001b[0m\u001b[0;34m,\u001b[0m \u001b[0mheads\u001b[0m\u001b[0;34m,\u001b[0m \u001b[0msize\u001b[0m\u001b[0;34m)\u001b[0m\u001b[0;34m:\u001b[0m\u001b[0;34m\u001b[0m\u001b[0;34m\u001b[0m\u001b[0m\n",
      "\u001b[0;31mTypeError\u001b[0m: 'NoneType' object is not iterable"
     ]
    }
   ],
   "source": [
    "get_x('attn_weights',r.data_tuples[0][-1],to_layer=28)"
   ]
  },
  {
   "cell_type": "code",
   "execution_count": 167,
   "id": "e5ccf058",
   "metadata": {
    "scrolled": true
   },
   "outputs": [
    {
     "ename": "AttributeError",
     "evalue": "'Outputs' object has no attribute 'sum_output'",
     "output_type": "error",
     "traceback": [
      "\u001b[0;31m---------------------------------------------------------------------------\u001b[0m",
      "\u001b[0;31mAttributeError\u001b[0m                            Traceback (most recent call last)",
      "\u001b[0;32m<ipython-input-167-22304455aee0>\u001b[0m in \u001b[0;36m<module>\u001b[0;34m\u001b[0m\n\u001b[0;32m----> 1\u001b[0;31m \u001b[0mr\u001b[0m\u001b[0;34m.\u001b[0m\u001b[0mdata_tuples\u001b[0m\u001b[0;34m[\u001b[0m\u001b[0;36m0\u001b[0m\u001b[0;34m]\u001b[0m\u001b[0;34m[\u001b[0m\u001b[0;34m-\u001b[0m\u001b[0;36m1\u001b[0m\u001b[0;34m]\u001b[0m\u001b[0;34m.\u001b[0m\u001b[0msum_output\u001b[0m\u001b[0;34m\u001b[0m\u001b[0;34m\u001b[0m\u001b[0m\n\u001b[0m",
      "\u001b[0;31mAttributeError\u001b[0m: 'Outputs' object has no attribute 'sum_output'"
     ]
    }
   ],
   "source": [
    "r.data_tuples[0][-1].sum_output"
   ]
  },
  {
   "cell_type": "code",
   "execution_count": 169,
   "id": "9087a6ef",
   "metadata": {},
   "outputs": [
    {
     "data": {
      "text/plain": [
       "28"
      ]
     },
     "execution_count": 169,
     "metadata": {},
     "output_type": "execute_result"
    }
   ],
   "source": [
    "len(model.transformer.h)#[0].attn.num_heads"
   ]
  },
  {
   "cell_type": "raw",
   "id": "c6524bb3",
   "metadata": {},
   "source": [
    "r.label_type"
   ]
  },
  {
   "cell_type": "code",
   "execution_count": 197,
   "id": "cfe99d8c",
   "metadata": {},
   "outputs": [
    {
     "data": {
      "text/plain": [
       "torch.Size([1, 16, 135, 256])"
      ]
     },
     "execution_count": 197,
     "metadata": {},
     "output_type": "execute_result"
    }
   ],
   "source": [
    "r.data_tuples[0][-1].attn_outs[0].size()"
   ]
  },
  {
   "cell_type": "code",
   "execution_count": null,
   "id": "d4dd0373",
   "metadata": {},
   "outputs": [],
   "source": []
  },
  {
   "cell_type": "code",
   "execution_count": 199,
   "id": "e501c691",
   "metadata": {},
   "outputs": [
    {
     "data": {
      "text/plain": [
       "torch.Size([1, 16])"
      ]
     },
     "execution_count": 199,
     "metadata": {},
     "output_type": "execute_result"
    }
   ],
   "source": [
    "a['head_mask'][:,0].size()"
   ]
  },
  {
   "cell_type": "code",
   "execution_count": 150,
   "id": "1da32e57",
   "metadata": {
    "scrolled": true
   },
   "outputs": [
    {
     "data": {
      "text/plain": [
       "28"
      ]
     },
     "execution_count": 150,
     "metadata": {},
     "output_type": "execute_result"
    }
   ],
   "source": [
    "r.root.data.layer"
   ]
  },
  {
   "cell_type": "code",
   "execution_count": 157,
   "id": "99d81574",
   "metadata": {},
   "outputs": [
    {
     "ename": "AttributeError",
     "evalue": "'Result' object has no attribute 'data'",
     "output_type": "error",
     "traceback": [
      "\u001b[0;31m---------------------------------------------------------------------------\u001b[0m",
      "\u001b[0;31mAttributeError\u001b[0m                            Traceback (most recent call last)",
      "\u001b[0;32m<ipython-input-157-9ba63dcea036>\u001b[0m in \u001b[0;36m<module>\u001b[0;34m\u001b[0m\n\u001b[0;32m----> 1\u001b[0;31m \u001b[0mr\u001b[0m\u001b[0;34m.\u001b[0m\u001b[0mdata\u001b[0m\u001b[0;34m.\u001b[0m\u001b[0mlabel_type\u001b[0m\u001b[0;34m\u001b[0m\u001b[0;34m\u001b[0m\u001b[0m\n\u001b[0m",
      "\u001b[0;31mAttributeError\u001b[0m: 'Result' object has no attribute 'data'"
     ]
    }
   ],
   "source": [
    "r.data.label_type"
   ]
  },
  {
   "cell_type": "code",
   "execution_count": 119,
   "id": "7b6176bf",
   "metadata": {},
   "outputs": [],
   "source": [
    "test = add_node(None, layer=L, label_type='labels')"
   ]
  },
  {
   "cell_type": "code",
   "execution_count": 125,
   "id": "f1e2c7ad",
   "metadata": {},
   "outputs": [
    {
     "data": {
      "text/plain": [
       "28"
      ]
     },
     "execution_count": 125,
     "metadata": {},
     "output_type": "execute_result"
    }
   ],
   "source": [
    "test.data.layer"
   ]
  },
  {
   "cell_type": "code",
   "execution_count": 127,
   "id": "00aa0bf4",
   "metadata": {
    "scrolled": true
   },
   "outputs": [
    {
     "data": {
      "text/plain": [
       "28"
      ]
     },
     "execution_count": 127,
     "metadata": {},
     "output_type": "execute_result"
    }
   ],
   "source": [
    "len(model.transformer.h)"
   ]
  },
  {
   "cell_type": "code",
   "execution_count": 128,
   "id": "cd187afb",
   "metadata": {},
   "outputs": [
    {
     "data": {
      "text/plain": [
       "28"
      ]
     },
     "execution_count": 128,
     "metadata": {},
     "output_type": "execute_result"
    }
   ],
   "source": [
    "max(test.data.layer) if isinstance(test.data.layer, Iterable) else test.data.layer"
   ]
  },
  {
   "cell_type": "code",
   "execution_count": 129,
   "id": "8d1773c4",
   "metadata": {},
   "outputs": [
    {
     "data": {
      "text/plain": [
       "False"
      ]
     },
     "execution_count": 129,
     "metadata": {},
     "output_type": "execute_result"
    }
   ],
   "source": [
    "isinstance(test.data.layer, Iterable)"
   ]
  },
  {
   "cell_type": "code",
   "execution_count": 111,
   "id": "1da69bdd",
   "metadata": {},
   "outputs": [
    {
     "data": {
      "text/plain": [
       "False"
      ]
     },
     "execution_count": 111,
     "metadata": {},
     "output_type": "execute_result"
    }
   ],
   "source": [
    "add_node(None, layer=L, label_type='labels') is None"
   ]
  },
  {
   "cell_type": "code",
   "execution_count": 116,
   "id": "73c60fe4",
   "metadata": {
    "scrolled": true
   },
   "outputs": [
    {
     "data": {
      "text/plain": [
       "''"
      ]
     },
     "execution_count": 116,
     "metadata": {},
     "output_type": "execute_result"
    }
   ],
   "source": [
    "node2key(r.root)"
   ]
  },
  {
   "cell_type": "code",
   "execution_count": 53,
   "id": "cbc4db99",
   "metadata": {},
   "outputs": [
    {
     "data": {
      "text/plain": [
       "'cxt_len=3,rev_item2str'"
      ]
     },
     "execution_count": 53,
     "metadata": {},
     "output_type": "execute_result"
    }
   ],
   "source": [
    "args2str(args)"
   ]
  },
  {
   "cell_type": "code",
   "execution_count": 51,
   "id": "ea74f202",
   "metadata": {},
   "outputs": [
    {
     "data": {
      "text/plain": [
       "'MlM_gen[countries_of_cities.TreeSet.child[x_f=_s,y_f=a_],genders_of_persons.TreeSet.equal]'"
      ]
     },
     "execution_count": 51,
     "metadata": {},
     "output_type": "execute_result"
    }
   ],
   "source": [
    "task2str(task)"
   ]
  },
  {
   "cell_type": "code",
   "execution_count": 54,
   "id": "0090a2c4",
   "metadata": {},
   "outputs": [
    {
     "data": {
      "text/plain": [
       "'MlM_gen[countries_of_cities.TreeSet.child[x_f=_s,y_f=a_],genders_of_persons.TreeSet.equal][cxt_len=3,rev_item2str]'"
      ]
     },
     "execution_count": 54,
     "metadata": {},
     "output_type": "execute_result"
    }
   ],
   "source": [
    "res_key"
   ]
  },
  {
   "cell_type": "code",
   "execution_count": 36,
   "id": "4e835a1b",
   "metadata": {},
   "outputs": [
    {
     "ename": "NameError",
     "evalue": "name 'results' is not defined",
     "output_type": "error",
     "traceback": [
      "\u001b[0;31m---------------------------------------------------------------------------\u001b[0m",
      "\u001b[0;31mNameError\u001b[0m                                 Traceback (most recent call last)",
      "\u001b[0;32m<ipython-input-36-fba3159a35a6>\u001b[0m in \u001b[0;36m<module>\u001b[0;34m\u001b[0m\n\u001b[1;32m      1\u001b[0m \u001b[0mkey\u001b[0m \u001b[0;34m=\u001b[0m \u001b[0;34m'MlM_gen(genders_of_persons.TreeSet.child(skip_inv_f), types_of_things.TreeSet.child(skip_inv_f)) (cxt_len=3)'\u001b[0m\u001b[0;34m\u001b[0m\u001b[0;34m\u001b[0m\u001b[0m\n\u001b[0;32m----> 2\u001b[0;31m \u001b[0mresult\u001b[0m \u001b[0;34m=\u001b[0m \u001b[0mresults\u001b[0m\u001b[0;34m[\u001b[0m\u001b[0mkey\u001b[0m\u001b[0;34m]\u001b[0m\u001b[0;34m;\u001b[0m \u001b[0mprint_tree\u001b[0m\u001b[0;34m(\u001b[0m\u001b[0mresult\u001b[0m\u001b[0;34m.\u001b[0m\u001b[0mroot\u001b[0m\u001b[0;34m)\u001b[0m\u001b[0;34m\u001b[0m\u001b[0;34m\u001b[0m\u001b[0m\n\u001b[0m",
      "\u001b[0;31mNameError\u001b[0m: name 'results' is not defined"
     ]
    }
   ],
   "source": [
    "key = 'MlM_gen(genders_of_persons.TreeSet.child(skip_inv_f), types_of_things.TreeSet.child(skip_inv_f)) (cxt_len=3)'\n",
    "result = results[key]; print_tree(result.root)"
   ]
  },
  {
   "cell_type": "code",
   "execution_count": 29,
   "id": "ed64bbfd",
   "metadata": {},
   "outputs": [
    {
     "name": "stdout",
     "output_type": "stream",
     "text": [
      "MlM_gen[genders_of_persons.TreeSet.equal,types_of_things.TreeSet.equal][cxt_len=3]: 0.296, 0.917\n",
      "MlM_gen[genders_of_persons.TreeSet.equal,types_of_things.TreeSet.equal][cxt_len=3,rev_item2str]: 1.237, 0.569\n",
      "MlM_gen[types_of_things.TreeSet.equal,genders_of_persons.TreeSet.equal][cxt_len=3]: 1.466, 0.458\n",
      "MlM_gen[types_of_things.TreeSet.equal,genders_of_persons.TreeSet.equal][cxt_len=3,rev_item2str]: 0.671, 0.722\n",
      "MlM_gen[genders_of_persons.TreeSet.equal,types_of_things.TreeSet.equal[x_f=_s,y_f=a_]][cxt_len=3]: 0.650, 0.833\n",
      "MlM_gen[genders_of_persons.TreeSet.equal,types_of_things.TreeSet.equal[x_f=_s,y_f=a_]][cxt_len=3,rev_item2str]: 1.830, 0.486\n",
      "MlM_gen[types_of_things.TreeSet.equal[x_f=_s,y_f=a_],genders_of_persons.TreeSet.equal][cxt_len=3]: 1.263, 0.569\n",
      "MlM_gen[types_of_things.TreeSet.equal[x_f=_s,y_f=a_],genders_of_persons.TreeSet.equal][cxt_len=3,rev_item2str]: 0.731, 0.708\n",
      "MlM_gen[genders_of_persons.TreeSet.equal,types_of_things.TreeSet.child[x_f=_s,y_f=a_]][cxt_len=3]: 2.357, 0.458\n",
      "MlM_gen[genders_of_persons.TreeSet.equal,types_of_things.TreeSet.child[x_f=_s,y_f=a_]][cxt_len=3,rev_item2str]: 3.075, 0.333\n",
      "MlM_gen[types_of_things.TreeSet.child[x_f=_s,y_f=a_],genders_of_persons.TreeSet.equal][cxt_len=3]: 1.715, 0.333\n",
      "MlM_gen[types_of_things.TreeSet.child[x_f=_s,y_f=a_],genders_of_persons.TreeSet.equal][cxt_len=3,rev_item2str]: 1.379, 0.458\n",
      "MlM_gen[genders_of_persons.TreeSet.child,types_of_things.TreeSet.equal][cxt_len=3]: 1.541, 0.486\n",
      "MlM_gen[genders_of_persons.TreeSet.child,types_of_things.TreeSet.equal][cxt_len=3,rev_item2str]: 1.845, 0.333\n",
      "MlM_gen[types_of_things.TreeSet.equal,genders_of_persons.TreeSet.child][cxt_len=3]: 0.007, 1.000\n",
      "MlM_gen[types_of_things.TreeSet.equal,genders_of_persons.TreeSet.child][cxt_len=3,rev_item2str]: 0.007, 1.000\n",
      "MlM_gen[genders_of_persons.TreeSet.child,types_of_things.TreeSet.equal[x_f=_s,y_f=a_]][cxt_len=3]: 2.263, 0.472\n",
      "MlM_gen[genders_of_persons.TreeSet.child,types_of_things.TreeSet.equal[x_f=_s,y_f=a_]][cxt_len=3,rev_item2str]: 2.919, 0.347\n",
      "MlM_gen[types_of_things.TreeSet.equal[x_f=_s,y_f=a_],genders_of_persons.TreeSet.child][cxt_len=3]: 0.011, 1.000\n",
      "MlM_gen[types_of_things.TreeSet.equal[x_f=_s,y_f=a_],genders_of_persons.TreeSet.child][cxt_len=3,rev_item2str]: 0.009, 1.000\n",
      "MlM_gen[genders_of_persons.TreeSet.child,types_of_things.TreeSet.child[x_f=_s,y_f=a_]][cxt_len=3]: 3.361, 0.264\n",
      "MlM_gen[genders_of_persons.TreeSet.child,types_of_things.TreeSet.child[x_f=_s,y_f=a_]][cxt_len=3,rev_item2str]: 3.834, 0.153\n",
      "MlM_gen[types_of_things.TreeSet.child[x_f=_s,y_f=a_],genders_of_persons.TreeSet.child][cxt_len=3]: 0.011, 1.000\n",
      "MlM_gen[types_of_things.TreeSet.child[x_f=_s,y_f=a_],genders_of_persons.TreeSet.child][cxt_len=3,rev_item2str]: 0.008, 1.000\n"
     ]
    }
   ],
   "source": [
    "for key, result in results.items(): print(f\"{key}: {result.mean_loss:.3f}, {result.mean_acc:.3f}\")"
   ]
  },
  {
   "cell_type": "code",
   "execution_count": null,
   "id": "36787b39",
   "metadata": {},
   "outputs": [],
   "source": [
    "key = 'MlM_gen(types_of_things.TreeSet.child, genders_of_persons.TreeSet.child) (cxt_len=3)'\n",
    "result = results[key]; show_predictions_by_result(tokenizer, result, k_shot)"
   ]
  },
  {
   "cell_type": "code",
   "execution_count": null,
   "id": "557c1baf",
   "metadata": {
    "scrolled": true
   },
   "outputs": [],
   "source": [
    "nrows, k_shot = 16, 7; cxt_len=3; save_results = True\n",
    "batch_size = 8; verbose = not save_results or batch_size <= 8\n",
    "for task, replace_rel0, replace_rel1, do_swap_qa, do_negate, do_rm_local_hop, do_rm_query, rev_item2str in product(\n",
    "    tasks[2:3], [0,  ], [0,     ],   [False,],[False,],[False,],[False,],[False,]):\n",
    "    seed(42)\n",
    "    args = dict(cxt_len=cxt_len, rev_item2str=rev_item2str, abstract=False)\n",
    "    trans_args = dict(replace_rel0=replace_rel0, replace_rel1=replace_rel1, do_swap_qa=do_swap_qa, do_negate=do_negate,\n",
    "                      do_rm_local_hop=do_rm_local_hop, do_rm_query=do_rm_query)\n",
    "    task = transform_task(task, **trans_args)\n",
    "    if task is None: continue\n",
    "    res_key = f\"{task2str(task)} ({args2str(args)})\" + composed_heads2str(model)\n",
    "#     if not validate_args(task, args, trans_args): print('invalid args! skip.'); continue\n",
    "#     if save_results and key is not None and res_key != key: continue\n",
    "    if verbose: print(f'\\n== {res_key} == {args2str(trans_args)}')\n",
    "    if save_results and res_key in results:\n",
    "        assert results[res_key].trans_args == trans_args, f'{res_key} {args2str(results[res_key].trans_args)} != {args2str(trans_args)}'\n",
    "        result = results[res_key]; data_tuples = result.data_tuples\n",
    "    else:\n",
    "        all_examples, texts, all_bos_tokens = zip(*[generate(task, verbose=False, plot=False, nrows=nrows, **args)\n",
    "                                                for i in range(batch_size)])\n",
    "        result = Result(task, trans_args, args, all_examples, texts)\n",
    "        for text in texts: print('\\n'.join(text.split('\\n')[:3]))\n",
    "\n",
    "        data_tuples, eval_results = zip(*[predict(model, tokenizer, text, examples,\n",
    "            k_shot=k_shot, bos_token=bos_tokens, verbose=verbose)\n",
    "            for text, examples, bos_tokens in zip(texts, all_examples, all_bos_tokens)\n",
    "            if True or any(s in text[24:] for s in ['dangerous'])])\n",
    "        result.data_tuples = data_tuples\n",
    "        loss, acc, *_ = zip(*eval_results)\n",
    "        result.mean_loss, result.mean_acc = np.array(loss).mean(), np.array(join_lists(acc)).mean()\n",
    "        if verbose: print(result.mean_loss, result.mean_acc)\n",
    "        if save_results: results[res_key] = result\n",
    "    if not save_results: continue\n",
    "\n",
    "#     for node_name in ['node']:\n",
    "#         node = getattr(result, node_name, None)\n",
    "#         if node is None: node = result.node = result.root = add_node(node, label_type=node_name.replace('node', 'labels'))\n",
    "#         node.data.attr = mr(attribute_step)(data_tuples[:], model, node)\n",
    "#     node.data.scores = {ap: mr(get_head_matching_scores)(data_tuples, ap, k_shot=k_shot)\n",
    "#         for ap in attn_patterns_by_step.get(node.data.step, [])} if 'g2c' not in res_key else None"
   ]
  },
  {
   "cell_type": "code",
   "execution_count": null,
   "id": "dd5a8ff6",
   "metadata": {},
   "outputs": [],
   "source": []
  },
  {
   "cell_type": "code",
   "execution_count": 146,
   "id": "1418741f",
   "metadata": {},
   "outputs": [
    {
     "name": "stdout",
     "output_type": "stream",
     "text": [
      "MlM_gen(genders_of_persons.TreeSet.child, types_of_things.TreeSet.equal) (cxt_len=3): 1.395, 0.5277777777777778\n",
      "MlM_gen(genders_of_persons.TreeSet.child, nouns.things.wrap_noun.TreeSet.child) (cxt_len=3): 2.519, 0.4027777777777778\n",
      "MlM_gen(genders_of_persons.TreeSet.child, things.TreeSet.equal) (cxt_len=3): 1.395, 0.5277777777777778\n",
      "MlM_gen(genders_of_persons.TreeSet.child, things.TreeSet.child) (cxt_len=3): 1.395, 0.5277777777777778\n"
     ]
    }
   ],
   "source": [
    "for key, result in results.items(): print(f\"{key}: {result.mean_loss:.3f}, {result.mean_acc}\") # codex"
   ]
  },
  {
   "cell_type": "code",
   "execution_count": 18,
   "id": "ac9b2e12",
   "metadata": {},
   "outputs": [],
   "source": [
    "device = torch.device('cuda:0')\n",
    "_ = clone_model_to(model, device)\n",
    "data_tuples_gpu = data_tuples_to(data_tuples, device)"
   ]
  },
  {
   "cell_type": "code",
   "execution_count": 31,
   "id": "3ba71533",
   "metadata": {},
   "outputs": [
    {
     "name": "stdout",
     "output_type": "stream",
     "text": [
      "          ┌[0] @:6 24-10,21-13,22-5,19-15,21-14,19-m\n",
      "          ├[0] 11-12 B->Q] argmax_attn┐\n",
      "          │                           └[1] 8-1 B->A]\n",
      "          │                           ┌[1] 11-12 B->Q]\n",
      "          ├[0] 13-7 B->A0] argmax_attn┤\n",
      "          │                           └[1] 12-10 B->A]\n",
      " [-1] root┤\n",
      "          │                                  ┌[1] 11-12 B->Q]\n",
      "          ├[0] @7 16-7 32% B->A0] argmax_attn┤\n",
      "          │                                  ├[1] 12-10 B->A]\n",
      "          │                                  └[1] 13-13 B->A]\n",
      "          ├[0] @0 24-10 100% B->B argmax_attn\n",
      "          └[0] @1 21-13 68% B->A0] argmax_attn\n"
     ]
    }
   ],
   "source": [
    "print_tree(root)  # cpu"
   ]
  },
  {
   "cell_type": "code",
   "execution_count": null,
   "id": "4dbb0675",
   "metadata": {},
   "outputs": [],
   "source": [
    "key = 'MlM_gen(genders_of_persons.TreeSet.child, types_of_things.TreeSet.equal) (cxt_len=3)'; result = results[key]\n",
    "node, data_tuples = show_result(result)"
   ]
  },
  {
   "cell_type": "code",
   "execution_count": null,
   "id": "75e7f37f",
   "metadata": {
    "scrolled": false
   },
   "outputs": [],
   "source": [
    "plot_attn_attrs(data_tuples[:3], model, tokenizer, node, topi=[0,1,2], k_shot=k_shot, mix=True)"
   ]
  },
  {
   "cell_type": "code",
   "execution_count": null,
   "id": "435f910b",
   "metadata": {
    "scrolled": false
   },
   "outputs": [],
   "source": [
    "for data_tuple in data_tuples[:3]:\n",
    "    plot_attn_attr(data_tuple, model, tokenizer, node, 13, 7, attn_patterns=['bos->ans0]'], k_shot=0, plot_attr=False)"
   ]
  },
  {
   "cell_type": "code",
   "execution_count": 160,
   "id": "835266e7",
   "metadata": {},
   "outputs": [],
   "source": [
    "node = node.parent"
   ]
  },
  {
   "cell_type": "code",
   "execution_count": 164,
   "id": "5ce14dd7",
   "metadata": {},
   "outputs": [
    {
     "name": "stdout",
     "output_type": "stream",
     "text": [
      "MlM_gen(genders_of_persons.TreeSet.child, types_of_things.TreeSet.equal) (cxt_len=3)\n",
      "Maria has gray. Dorothy has a cat. Christopher has a revolver. The boy likes revolver\n",
      "                 ┌[0] 13-2 argmax_attn_labels┐\n",
      "                 │                           └[1] top[0, 1] 12-10,8-1┐\n",
      "                 │                                                   └[2] top[0] 1-7\n",
      " [-1] root labels┤\n",
      "                 │                           ┌[1] top[0, 1, 2, 3] 11-12,12-10,9-14,9-5\n",
      "                 ├[0] 13-7 argmax_attn_labels┤\n",
      "                 │                           ├[1] top[2] 9-14┐\n",
      "                 │                           │               └[2] top[0, 1] 8-7,6-2\n",
      "                 │                           └[1] top[1] 12-10┐\n",
      "                 │                                            └[2] top[0, 1] 8-7,0-mlp\n",
      "                 │                            ┌[1] top[0, 1, 2] 0-mlp,9-14,8-1\n",
      "                 └[0] 11-12 argmax_attn_labels┤\n",
      "                                              └[1] top[1, 2] 9-14,8-1┐\n",
      "                                                                     └*[2] top[0, 1, 2, 3, 4] 0-mlp,4-1,7-10,8-7,7-mlp...\n"
     ]
    }
   ],
   "source": [
    "print(key); print('\\n'.join(result.texts[-1].split('\\n')[:1]))\n",
    "node = result.node = add_node(node, topi=[0,1,2,3,4])#layer=11, head=12, attn_pattern='bos->query]', label_type='argmax_attn_labels')"
   ]
  },
  {
   "cell_type": "code",
   "execution_count": null,
   "id": "e6f4dd81",
   "metadata": {},
   "outputs": [],
   "source": [
    "key = 'MlM_gen(genders_of_persons.TreeSet.equal, types_of_things.TreeSet.child) (cxt_len=3)'; result = results[key]\n",
    "node, data_tuples = show_result(result)"
   ]
  },
  {
   "cell_type": "code",
   "execution_count": null,
   "id": "75aebe41",
   "metadata": {
    "scrolled": false
   },
   "outputs": [],
   "source": [
    "for data_tuple in data_tuples[:3]:\n",
    "    plot_attn_attr(data_tuple, model, tokenizer, node, 13, 7, attn_patterns=['bos->ans0]'], k_shot=0, plot_attr=False)"
   ]
  },
  {
   "cell_type": "code",
   "execution_count": null,
   "id": "d0701ae6",
   "metadata": {
    "scrolled": false
   },
   "outputs": [],
   "source": [
    "plot_attn_attrs(data_tuples[:3], model, tokenizer, node, topi=[0,1,2], k_shot=k_shot, mix=False)"
   ]
  },
  {
   "cell_type": "code",
   "execution_count": 112,
   "id": "409bc0b1",
   "metadata": {},
   "outputs": [],
   "source": [
    "node = result.root"
   ]
  },
  {
   "cell_type": "code",
   "execution_count": 117,
   "id": "f9d23ade",
   "metadata": {},
   "outputs": [
    {
     "name": "stdout",
     "output_type": "stream",
     "text": [
      "MlM_gen(genders_of_persons.TreeSet.equal, types_of_things.TreeSet.child) (cxt_len=3)\n",
      "Nancy has blueberries. Mary has a wolf. Jennifer has wine. Mary likes animal\n",
      "                 ┌[0] 11-12 argmax_attn_labels┐\n",
      "                 │                            └*[1] top[0, 1, 2] 0-mlp,9-5,10-8...\n",
      "                 │                                  ┌[1] top[0, 1, 2, 3, 4, 5, 6] 19-mlp,14-9,16-mlp,8-1,13-13,17-mlp,12-10\n",
      "                 ├[0] top[2] 21-5 argmax_attn_labels┤\n",
      "                 │                                  └[1] top[3, 4, 6] 8-1,13-13,12-10┐\n",
      "                 │                                                                   └[2] top[0, 1] 3-12,5-12\n",
      " [-1] root labels┤\n",
      "                 │                                  ┌[1] top[0, 1, 2, 3, 4, 5] 14-9,0-mlp,8-1,13-13,12-10,9-14\n",
      "                 ├[0] top[3] 15-8 argmax_attn_labels┤\n",
      "                 │                                  ├[1] top[2, 3, 4, 5] 8-1,13-13,12-10,9-14┐\n",
      "                 │                                  │                                        └[2] top[0, 1, 2, 3, 4] 5-12,3-12,8-3,4-mlp,0-mlp\n",
      "                 │                                  └[1] top[0] 14-9┐\n",
      "                 │                                                  └[2] top[0, 1, 2, 3] 13-mlp,11-4,13-13,9-14\n",
      "                 │                                  ┌[1] top[0, 1, 2, 3, 4, 5] 19-mlp,16-mlp,14-9,18-9,17-mlp,8-1\n",
      "                 └[0] top[6] 20-5 argmax_attn_labels┤\n",
      "                                                    └[1] top[5, 7] 8-1,12-10┐\n",
      "                                                                            └[2] top[0, 1, 2] 3-12,7-2,5-12\n"
     ]
    }
   ],
   "source": [
    "print(key); print('\\n'.join(result.texts[-1].split('\\n')[:1]))\n",
    "node = result.node = add_node(node, topi=[0,1,2])#, attn_pattern='bos->query]', label_type='argmax_attn_labels')"
   ]
  },
  {
   "cell_type": "code",
   "execution_count": 367,
   "id": "d9e179ef",
   "metadata": {},
   "outputs": [
    {
     "name": "stdout",
     "output_type": "stream",
     "text": [
      "MlM_gen(genders_of_persons.TreeSet.equal, types_of_things.TreeSet.child) (cxt_len=3)\n",
      "                 ┌[0] 11-12 argmax_attn_labels\n",
      " [-1] root labels┤\n",
      "                 ├[0] 16-7 argmax_attn_labels┐\n",
      "                 │                           └[1] top[0, 1] 13-13,12-10┐\n",
      "                 │                                                     └*[2] top[0, 1, 2, 3, 4, 5] 0-mlp,10-4,12-mlp,6-2,7-9,10-mlp...\n",
      "                 └[0] top[5] 13-7 argmax_attn_labels┐\n",
      "                                                    └[1] top[1, 3] 12-10,8-1┐\n",
      "                                                                            └[2] top[0] 3-12\n"
     ]
    }
   ],
   "source": [
    "print(key); node = result.node = add_node(node, topi=[0,1,2,3,4,5])#attn_pattern='bos->ans0]', label_type='argmax_attn_labels')"
   ]
  },
  {
   "cell_type": "code",
   "execution_count": null,
   "id": "badcf5b1",
   "metadata": {
    "scrolled": false
   },
   "outputs": [],
   "source": [
    "key = 'MlM_gen(genders_of_persons.TreeSet.equal, types_of_things.TreeSet.equal) (cxt_len=3)'; result = results[key]\n",
    "node, data_tuples = show_result(result)"
   ]
  },
  {
   "cell_type": "code",
   "execution_count": null,
   "id": "363fbf25",
   "metadata": {
    "scrolled": false
   },
   "outputs": [],
   "source": [
    "for data_tuple in data_tuples[:]:\n",
    "    plot_attn_attr(data_tuple, model, tokenizer, node, 11, 12, attn_patterns=['bos->query]'], k_shot=0, plot_attr=False)"
   ]
  },
  {
   "cell_type": "code",
   "execution_count": null,
   "id": "91db824e",
   "metadata": {
    "scrolled": false
   },
   "outputs": [],
   "source": [
    "plot_attn_attrs(data_tuples[:3], model, tokenizer, node, topi=[0,1], k_shot=k_shot)"
   ]
  },
  {
   "cell_type": "code",
   "execution_count": 106,
   "id": "2f897ca2",
   "metadata": {},
   "outputs": [],
   "source": [
    "node = result.root"
   ]
  },
  {
   "cell_type": "code",
   "execution_count": 110,
   "id": "07867280",
   "metadata": {},
   "outputs": [
    {
     "name": "stdout",
     "output_type": "stream",
     "text": [
      "MlM_gen(genders_of_persons.TreeSet.equal, types_of_things.TreeSet.equal) (cxt_len=3)\n",
      "Kimberly has a rabbit. Charles has white. Jason has a taxi. Kimberly likes rabbit\n",
      "                 ┌[0] 11-12 argmax_attn_labels attr_k┐\n",
      "                 │                                   └[1] top[0] 0-mlp\n",
      "                 ├[0] 9-5 argmax_attn_labels┐\n",
      "                 │                          └[1] top[0] 0-mlp\n",
      "                 ├[0] 13-7 argmax_attn_labels┐\n",
      "                 │                           └*[1] top[0, 1, 2, 3, 4, 5] 11-12,9-5,12-14,9-14,11-4,12-10...\n",
      " [-1] root labels┤\n",
      "                 │                            ┌[1] top[0, 1, 2, 3] 8-1,0-mlp,9-14,9-5\n",
      "                 ├[0] 11-12 argmax_attn_labels┤\n",
      "                 │                            │              ┌[2] top[0, 1, 2, 3] 6-mlp,4-6,4-12,7-mlp\n",
      "                 │                            └[1] top[0] 8-1┤\n",
      "                 │                                           └[2] top[1] 4-6┐\n",
      "                 │                                                          └[3] top[0] 0-mlp\n",
      "                 │                                  ┌[1] top[0, 1, 2, 3, 4, 5] 11-12,14-9,13-13,9-14,15-5,12-10\n",
      "                 └[0] top[1] 16-7 argmax_attn_labels┤\n",
      "                                                    └[1] top[2, 3, 5] 13-13,9-14,12-10\n"
     ]
    }
   ],
   "source": [
    "print(key); print('\\n'.join(result.texts[-1].split('\\n')[:1]))\n",
    "node = result.node = add_node(node, topi=[0,1,2,3,4,5])#, label_type='argmax_attn_labels')"
   ]
  },
  {
   "cell_type": "code",
   "execution_count": 345,
   "id": "20113f68",
   "metadata": {},
   "outputs": [
    {
     "name": "stdout",
     "output_type": "stream",
     "text": [
      "MlM_gen(genders_of_persons.TreeSet.equal, types_of_things.TreeSet.equal) (cxt_len=3)\n",
      "                 ┌[0] top[3] 16-7 argmax_attn_labels┐\n",
      "                 │                                  └[1] top[0, 3, 4] 13-13,9-14,12-10┐\n",
      "                 │                                                                    └[2] top[0, 1, 2] 8-7,6-2,1-7\n",
      "                 ├[0] top[2] 16-0 argmax_attn_labels┐\n",
      "                 │                                  └[1] top[0, 1, 2] 13-13,12-10,8-1┐\n",
      "                 │                                                                   └[2] top[0, 1, 2, 3] 1-7,0-mlp,8-7,6-2\n",
      " [-1] root labels┤\n",
      "                 ├[0] 11-12 argmax_attn_labels┐\n",
      "                 │                            └[1] top[0, 2] 8-1,9-14┐\n",
      "                 │                                                   └*[2] top[0] 4-6...\n",
      "                 └[0] top[9] 13-7 argmax_attn_labels┐\n",
      "                                                    └[1] top[1, 2] 12-10,9-14┐\n",
      "                                                                             └[2] top[0] 8-7\n"
     ]
    }
   ],
   "source": [
    "print(key); node = result.node = add_node(node, topi=[0])#, attn_pattern='bos->query]', label_type='argmax_attn_labels')"
   ]
  },
  {
   "cell_type": "code",
   "execution_count": 364,
   "id": "568fca95",
   "metadata": {},
   "outputs": [
    {
     "name": "stdout",
     "output_type": "stream",
     "text": [
      "((8, 7), (13, 13), (16, 7)) (0.9622409343719482, 0.9821789860725403)\n",
      "((8, 7), (9, 14), (16, 7)) (0.9469795227050781, 0.9725989699363708)\n",
      "((8, 7), (12, 10), (16, 7)) (0.9750146865844727, 0.9863405823707581)\n",
      "((6, 2), (13, 13), (16, 7)) (0.9623928070068359, 0.9801956415176392)\n",
      "((6, 2), (9, 14), (16, 7)) (0.9362690448760986, 0.9594190120697021)\n",
      "((6, 2), (12, 10), (16, 7)) (0.954227864742279, 0.9754131436347961)\n"
     ]
    }
   ],
   "source": [
    "for head_chain in product([(8, 7), (6, 2)], [(13, 13), (9, 14), (12, 10)], [(16, 7)]):\n",
    "    print(head_chain, plot_eigv(weightprod(model, list(head_chain), 'e vo vo qk e', weBTA=model.weBTAs[0]), plot=False))"
   ]
  },
  {
   "cell_type": "markdown",
   "id": "19e0b598",
   "metadata": {},
   "source": [
    "### person_adjs.opposite"
   ]
  },
  {
   "cell_type": "code",
   "execution_count": 1077,
   "id": "89b7d463",
   "metadata": {},
   "outputs": [
    {
     "name": "stdout",
     "output_type": "stream",
     "text": [
      "MlM_gen(persons.EqSet.equal, person_adjs.SymSet.equal) (cxt_len=3, abstract=0): 0.892, 0.7142857142857143\n",
      "MlM_gen(persons.EqSet.equal, person_adjs.SymSet.opposite) (cxt_len=3, abstract=0): 3.309, 0.2857142857142857\n",
      "MlM_gen(persons.EqSet.equal, person_adjs.SymSet.opposite) (cxt_len=3, abstract=0)_4-6qk->4-8: 3.436, 0.21428571428571427\n",
      "MlM_gen(persons.EqSet.equal, person_adjs.SymSet.opposite) (cxt_len=3, abstract=0)_4-6qk->4-8_6-2qk->7-9: 3.461, 0.23809523809523808\n"
     ]
    }
   ],
   "source": [
    "for key, result in results.items(): print(f\"{key}: {result.mean_loss:.3f}, {result.mean_acc}\")"
   ]
  },
  {
   "cell_type": "code",
   "execution_count": null,
   "id": "f5cbe1f9",
   "metadata": {},
   "outputs": [],
   "source": [
    "key = 'MlM_gen(persons.EqSet.equal, person_adjs.SymSet.opposite) (cxt_len=3, abstract=0)_4-6/6-10->4-8_1-7/6-2/8-7->7-9'; result = results[key]\n",
    "node, data_tuples = show_result(result)"
   ]
  },
  {
   "cell_type": "code",
   "execution_count": null,
   "id": "fdd48aa2",
   "metadata": {},
   "outputs": [],
   "source": [
    "plot_attn_attrs(data_tuples[:3], model, tokenizer, node, topi=[0,1,2], k_shot=k_shot, mix=False)"
   ]
  },
  {
   "cell_type": "code",
   "execution_count": 1155,
   "id": "1d8a9671",
   "metadata": {},
   "outputs": [],
   "source": [
    "node = result.root"
   ]
  },
  {
   "cell_type": "code",
   "execution_count": 1156,
   "id": "c41bbb00",
   "metadata": {},
   "outputs": [
    {
     "name": "stdout",
     "output_type": "stream",
     "text": [
      "MlM_gen(persons.EqSet.equal, person_adjs.SymSet.opposite) (cxt_len=3, abstract=0)_4-6/6-10->4-8_1-7/6-2/8-7->7-9\n",
      "                 ┌*[0] top[1] 16-14 argmax_attn_labels...\n",
      " [-1] root labels┤\n",
      "                 │                           ┌[1] top[4, 7] 9-14,12-10┐\n",
      "                 │                           │                        └[2] top[0] 7-9\n",
      "                 └[0] 16-7 argmax_attn_labels┤\n",
      "                                             ├[1] top[7] 12-10┐\n",
      "                                             │                └[2] top[0, 1] 1-7,11-mlp\n",
      "                                             └[1] top[4] 9-14┐\n",
      "                                                             └[2] top[0, 1] 6-2,7-9\n"
     ]
    }
   ],
   "source": [
    "print(key); node = result.node = add_node(node, topi=[0,1])#, label_type='argmax_attn_labels')"
   ]
  },
  {
   "cell_type": "code",
   "execution_count": null,
   "id": "485bccad",
   "metadata": {},
   "outputs": [],
   "source": [
    "key = 'MlM_gen(persons.EqSet.equal, person_adjs.SymSet.opposite) (cxt_len=3, abstract=0)_4-6qk->4-8_6-2qk->7-9'; result = results[key]\n",
    "node, data_tuples = show_result(result)"
   ]
  },
  {
   "cell_type": "code",
   "execution_count": 1069,
   "id": "6f5d093a",
   "metadata": {},
   "outputs": [],
   "source": [
    "node = node.parent"
   ]
  },
  {
   "cell_type": "code",
   "execution_count": null,
   "id": "0e64a876",
   "metadata": {},
   "outputs": [],
   "source": [
    "plot_attn_attrs(data_tuples[:4], model, tokenizer, node, topi=[0,1,2,3], head_attr_fn=get_head_mlp_attr, k_shot=k_shot)"
   ]
  },
  {
   "cell_type": "code",
   "execution_count": 1076,
   "id": "9a4ed844",
   "metadata": {},
   "outputs": [
    {
     "name": "stdout",
     "output_type": "stream",
     "text": [
      "MlM_gen(persons.EqSet.equal, person_adjs.SymSet.opposite) (cxt_len=3, abstract=0)_4-6qk->4-8_6-2qk->7-9\n",
      "                 ┌[0] top[0] 16-14 argmax_attn_labels\n",
      " [-1] root labels┤\n",
      "                 └[0] 11-12 argmax_attn_labels┐\n",
      "                                              └[1] top[3] 8-1┐\n",
      "                                                             └*[2] top[0, 1, 2, 3] 6-2,4-6,6-mlp,7-9...\n"
     ]
    }
   ],
   "source": [
    "print(key); node = result.node = add_node(node, topi=[0,1,2,3]) #label_type='argmax_attn_labels', attn_pattern='bos->query]') # "
   ]
  },
  {
   "cell_type": "code",
   "execution_count": null,
   "id": "1aa60022",
   "metadata": {},
   "outputs": [],
   "source": [
    "key = 'MlM_gen(persons.EqSet.equal, person_adjs.SymSet.opposite) (cxt_len=3, abstract=0)'; result = results[key]\n",
    "node, data_tuples = show_result(result)"
   ]
  },
  {
   "cell_type": "code",
   "execution_count": 1042,
   "id": "f8f031a4",
   "metadata": {},
   "outputs": [],
   "source": [
    "node = node.parent"
   ]
  },
  {
   "cell_type": "code",
   "execution_count": null,
   "id": "f50dc477",
   "metadata": {},
   "outputs": [],
   "source": [
    "plot_attn_attrs(data_tuples[:4], model, tokenizer, node, topi=[0], head_attr_fn=get_head_mlp_attr, k_shot=k_shot)  # "
   ]
  },
  {
   "cell_type": "code",
   "execution_count": 1041,
   "id": "7f131da8",
   "metadata": {},
   "outputs": [
    {
     "name": "stdout",
     "output_type": "stream",
     "text": [
      "MlM_gen(persons.EqSet.equal, person_adjs.SymSet.opposite) (cxt_len=3, abstract=0)\n",
      "                 ┌[0] top[0] 16-14 argmax_attn_labels┐\n",
      "                 │                                   └[1] top[0] 8-1┐\n",
      "                 │                                                  └[2] top[0] 7-9\n",
      " [-1] root labels┤\n",
      "                 │                            ┌[1] top[0, 1, 2, 3, 4] 9-5,0-mlp,10-8,8-1,9-14\n",
      "                 └[0] 11-12 argmax_attn_labels┤\n",
      "                                              └[1] top[3] 8-1┐\n",
      "                                                             └*[2] top[0, 1] 4-6,6-mlp...\n"
     ]
    }
   ],
   "source": [
    "print(key); node = result.node = add_node(node, topi=[0,1], head_attr_fn=get_head_mlp_attr)#label_type='argmax_attn_labels', attn_pattern='bos->query]') # "
   ]
  },
  {
   "cell_type": "code",
   "execution_count": null,
   "id": "b64dce0d",
   "metadata": {},
   "outputs": [],
   "source": [
    "key = 'MlM_gen(persons.EqSet.equal, person_adjs.SymSet.equal) (cxt_len=3, abstract=0)'; result = results[key]\n",
    "node, data_tuples = show_result(result)"
   ]
  },
  {
   "cell_type": "code",
   "execution_count": null,
   "id": "ee9ba16b",
   "metadata": {},
   "outputs": [],
   "source": [
    "plot_attn_attrs(data_tuples[:4], model, tokenizer, node, topi=[0,1,4,5], k_shot=k_shot)  # "
   ]
  },
  {
   "cell_type": "code",
   "execution_count": 983,
   "id": "807a0cfd",
   "metadata": {},
   "outputs": [],
   "source": [
    "forked_node_k.k_node = q_node; forked_node_k.model = model\n",
    "del forked_node_k.k_node; del forked_node_k.model"
   ]
  },
  {
   "cell_type": "code",
   "execution_count": 928,
   "id": "dd81ed2e",
   "metadata": {},
   "outputs": [],
   "source": [
    "forked_node.k_node = k_node; forked_node.model = model\n",
    "del forked_node.k_node; del forked_node.model"
   ]
  },
  {
   "cell_type": "code",
   "execution_count": 1097,
   "id": "75612c6b",
   "metadata": {},
   "outputs": [],
   "source": [
    "node = node.parent.parent"
   ]
  },
  {
   "cell_type": "code",
   "execution_count": 1101,
   "id": "30875b28",
   "metadata": {},
   "outputs": [
    {
     "name": "stdout",
     "output_type": "stream",
     "text": [
      "MlM_gen(persons.EqSet.equal, person_adjs.SymSet.equal) (cxt_len=3, abstract=0)\n",
      " [-1] root labels┐\n",
      "                 │                           ┌[0] top[0] 11-12 attn_labels attr_k┐\n",
      "                 │                           │                                   └[1] top[0] 0-mlp\n",
      "                 │                           ├[1] top[0] 9-14┐\n",
      "                 │                           │               └[2] top[0, 1, 2] 1-7,8-7,6-10\n",
      "                 │                           ├[1] top[5] 12-10┐\n",
      "                 │                           │                └[2] top[0, 1] 1-7,10-7\n",
      "                 └[0] top[1] 16-7 attn_labels┤\n",
      "                                             │                            ┌[1] top[1] 9-14┐\n",
      "                                             │                            │               └[2] top[0, 1, 2, 3] 7-6,4-6,8-7,6-2\n",
      "                                             ├[0] top[0] 11-12 attn_labels┤\n",
      "                                             │                            │              ┌[2] top[0, 1] 4-6,6-2\n",
      "                                             │                            └[1] top[0] 8-1┤\n",
      "                                             │                                           └[2] top[0] 4-6┐\n",
      "                                             │                                                          └[3] top[0] 0-mlp\n",
      "                                             └[1] top[0, 5] 9-14,12-10┐\n",
      "                                                                      └*[2] top[0, 1, 2, 3] 1-7,8-7,4-6,6-10...\n"
     ]
    }
   ],
   "source": [
    "print(key); node = result.node = add_node(node, topi=[0,1,2,3]) #label_type='attn_labels', attn_pattern='bos->query]', step=0, attribute_k=True) # "
   ]
  },
  {
   "cell_type": "code",
   "execution_count": null,
   "id": "cf0a6332",
   "metadata": {},
   "outputs": [],
   "source": [
    "key = 'MlM_gen(persons.EqSet.equal, person_adjs.SymSet.equal) (cxt_len=2, abstract=0)'; result = results[key]\n",
    "node, data_tuples = show_result(result)"
   ]
  },
  {
   "cell_type": "code",
   "execution_count": null,
   "id": "74cd8143",
   "metadata": {},
   "outputs": [],
   "source": [
    "plot_attn_attrs(data_tuples[:4], model, tokenizer, node, topi=[0,1,2], head_attr_fn=get_head_mlp_attr, k_shot=k_shot)  # "
   ]
  },
  {
   "cell_type": "code",
   "execution_count": null,
   "id": "c19ed26b",
   "metadata": {},
   "outputs": [],
   "source": [
    "key = 'MlM_gen(persons.EqSet.equal, person_adjs.SymSet.opposite) (cxt_len=2, abstract=0)'; result = results[key]\n",
    "node, data_tuples = show_result(result)"
   ]
  },
  {
   "cell_type": "code",
   "execution_count": null,
   "id": "8cdf2869",
   "metadata": {},
   "outputs": [],
   "source": [
    "plot_attn_attrs(data_tuples[:4], model, tokenizer, node, topi=[0], k_shot=k_shot)  # head_attr_fn=get_head_mlp_attr, "
   ]
  },
  {
   "cell_type": "code",
   "execution_count": null,
   "id": "47e03775",
   "metadata": {},
   "outputs": [],
   "source": [
    "plot_attn_attrs(data_tuples[:4], model, tokenizer, node, topi=[0,2], head_attr_fn=get_head_mlp_attr, k_shot=k_shot, mix=True)"
   ]
  },
  {
   "cell_type": "code",
   "execution_count": null,
   "id": "a86219f3",
   "metadata": {},
   "outputs": [],
   "source": [
    "plot_attn_attrs(data_tuples[:4], model, tokenizer, node, topi=[0,1,2,3], head_attr_fn=get_head_mlp_attr, k_shot=k_shot, mix=True)  # "
   ]
  },
  {
   "cell_type": "code",
   "execution_count": null,
   "id": "65baa7c5",
   "metadata": {},
   "outputs": [],
   "source": [
    "for data_tuple in data_tuples[:4]: plot_attn_attr(data_tuple, model, tokenizer, node, 7, 9, attn_patterns=['bos->ans0]'], k_shot=k_shot, plot_attr=False)"
   ]
  },
  {
   "cell_type": "code",
   "execution_count": 661,
   "id": "3713a89f",
   "metadata": {},
   "outputs": [],
   "source": [
    "node = node.children[1]"
   ]
  },
  {
   "cell_type": "code",
   "execution_count": 649,
   "id": "17929199",
   "metadata": {},
   "outputs": [
    {
     "name": "stdout",
     "output_type": "stream",
     "text": [
      "MlM_gen(persons.EqSet.equal, person_adjs.SymSet.opposite) (cxt_len=2, abstract=0)\n",
      "                 ┌[0] top[1] 14-7 attn_labels┐\n",
      "                 │                           └*[1] top[0, 1, 2] 13-12,12-10,8-1...\n",
      "                 │                            ┌[1] top[0] 13-12\n",
      "                 ├[0] top[0] 16-14 attn_labels┤\n",
      "                 │                            └[1] top[2] 14-9\n",
      " [-1] root labels┤\n",
      "                 │                                    ┌[1] top[1, 2] 8-1,12-10┐\n",
      "                 │                                    │                       └[2] top[0, 1] 7-9,0-mlp\n",
      "                 └[0] top[0, 1] 16-14,14-7 attn_labels┤\n",
      "                                                      │                ┌[2] top[0] 12-16┐\n",
      "                                                      │                │                └[3] top[0, 1, 2, 3, 4, 5] 8-16,6-16,10-16,9-16,0-16,5-16\n",
      "                                                      └[1] top[0] 13-12┤\n",
      "                                                                       └[2] top[1] 8-1┐\n",
      "                                                                                      └[3] top[0] 7-9\n"
     ]
    }
   ],
   "source": [
    "print(key); node = result.node = add_node(node, topi=[0,1,2], head_attr_fn=get_head_mlp_attr)# label_type='attn_labels')  # "
   ]
  },
  {
   "cell_type": "markdown",
   "id": "079866a0",
   "metadata": {},
   "source": [
    "### thing->type"
   ]
  },
  {
   "cell_type": "code",
   "execution_count": 574,
   "id": "342b97df",
   "metadata": {},
   "outputs": [
    {
     "name": "stdout",
     "output_type": "stream",
     "text": [
      "MlM_gen(persons.EqSet.equal, person_adjs.SymSet.equal) (cxt_len=2, abstract=0): 0.376, 0.8333333333333334\n",
      "MlM_gen(persons.EqSet.equal, person_adjs.SymSet.opposite) (cxt_len=2, abstract=0): 3.889, 0.21428571428571427\n"
     ]
    }
   ],
   "source": [
    "for key, result in results.items(): print(f\"{key}: {result.mean_loss:.3f}, {result.mean_acc}\")"
   ]
  },
  {
   "cell_type": "code",
   "execution_count": null,
   "id": "691139e6",
   "metadata": {
    "collapsed": true
   },
   "outputs": [],
   "source": [
    "key = 'MlM_gen(persons.EqSet.equal, types_of_things.TreeSet.equal) (cxt_len=2, abstract=0)'; result = results[key]\n",
    "node, data_tuples = show_result(result)"
   ]
  },
  {
   "cell_type": "code",
   "execution_count": null,
   "id": "155c3d7d",
   "metadata": {},
   "outputs": [],
   "source": [
    "plot_attn_attrs(data_tuples[:4], model, tokenizer, node, topi=[0,1], head_attr_fn=get_head_mlp_attr, k_shot=k_shot)"
   ]
  },
  {
   "cell_type": "code",
   "execution_count": 990,
   "id": "77e1fc52",
   "metadata": {},
   "outputs": [
    {
     "data": {
      "text/plain": [
       "'[0] top[0] 11-12 attn_labels attr_k'"
      ]
     },
     "execution_count": 990,
     "metadata": {},
     "output_type": "execute_result"
    }
   ],
   "source": [
    "node.name"
   ]
  },
  {
   "cell_type": "code",
   "execution_count": 552,
   "id": "7f94d610",
   "metadata": {},
   "outputs": [
    {
     "name": "stdout",
     "output_type": "stream",
     "text": [
      "MlM_gen(persons.EqSet.equal, types_of_things.TreeSet.equal) (cxt_len=2, abstract=0)\n",
      "                 ┌[0] top[0] 16-0 attn_labels┐\n",
      "                 │                           └[1] top[0, 1, 2, 3, 4] 13-2,12-10,11-12,13-13,8-1\n",
      "                 ├[0] top[2] 13-2 attn_labels:┐\n",
      "                 │                            └[1] top[0, 1] 8-1,12-10\n",
      " [-1] root labels┤\n",
      "                 │                                  ┌[1] top[0] 9-14\n",
      "                 ├[0] top[1] 16-7 argmax_attn_labels┤\n",
      "                 │                                  └*[1] top[0, 2, 4] 9-14,12-10,13-13...\n",
      "                 └[0] top[1] 16-7 attn_labels┐\n",
      "                                             └[1] top[2] 12-10\n"
     ]
    }
   ],
   "source": [
    "print(key); node = result.node = add_node(node, topi=[0,2,4], head_attr_fn=get_head_mlp_attr)#, label_type='argmax_attn_labels')  # "
   ]
  },
  {
   "cell_type": "code",
   "execution_count": null,
   "id": "a03ffba0",
   "metadata": {},
   "outputs": [],
   "source": [
    "key = 'MlM_gen(persons.EqSet.equal, types_of_things.TreeSet.parent) (cxt_len=2, abstract=0)'; result = results[key]\n",
    "node, data_tuples = show_result(result)"
   ]
  },
  {
   "cell_type": "code",
   "execution_count": null,
   "id": "95222719",
   "metadata": {},
   "outputs": [],
   "source": [
    "for data_tuple in data_tuples[:4]: plot_attn_attr(data_tuple, model, tokenizer, node, 16, 7, attn_patterns=['bos->ans0]'], k_shot=k_shot, plot_attr=False)"
   ]
  },
  {
   "cell_type": "code",
   "execution_count": null,
   "id": "014caa38",
   "metadata": {},
   "outputs": [],
   "source": [
    "plot_attn_attrs(data_tuples[:4], model, tokenizer, node, topi=[0,1,2,3], head_attr_fn=get_head_mlp_attr, k_shot=k_shot)"
   ]
  },
  {
   "cell_type": "code",
   "execution_count": 566,
   "id": "9ae8689e",
   "metadata": {},
   "outputs": [],
   "source": [
    "node = node.parent.parent"
   ]
  },
  {
   "cell_type": "code",
   "execution_count": 559,
   "id": "f9476640",
   "metadata": {},
   "outputs": [
    {
     "name": "stdout",
     "output_type": "stream",
     "text": [
      "MlM_gen(persons.EqSet.equal, types_of_things.TreeSet.parent) (cxt_len=2, abstract=0)\n",
      " [-1] root labels┐\n",
      "                 └[0] 16-7 argmax_attn_labels┐\n",
      "                                             └*[1] top[0] 12-10...\n"
     ]
    }
   ],
   "source": [
    "print(key); node = result.node = add_node(node, layer=16, head=7, topi=[0], head_attr_fn=get_head_mlp_attr)#, label_type=f'argmax_attn_labels')  # "
   ]
  },
  {
   "cell_type": "code",
   "execution_count": 460,
   "id": "22f07fab",
   "metadata": {},
   "outputs": [
    {
     "name": "stdout",
     "output_type": "stream",
     "text": [
      "MlM_gen(persons.EqSet.equal, types_of_things.TreeSet.parent) (cxt_len=2, abstract=0)\n",
      "                 ┌[0] 16-7 attn_labels:\n",
      " [-1] root labels┤\n",
      "                 └[0] 16-7 argmax_attn_labels┐\n",
      "                                             └[1] top[0] 12-10┐\n",
      "                                                              └*[2] top[0] 0-16...\n"
     ]
    }
   ],
   "source": [
    "print(key); node = result.node = add_node(node, topi=[0], head_attr_fn=get_head_mlp_attr)#, label_type=f'argmax_attn_labels')"
   ]
  },
  {
   "cell_type": "markdown",
   "id": "cdb4e419",
   "metadata": {},
   "source": [
    "### fr->en"
   ]
  },
  {
   "cell_type": "code",
   "execution_count": 155,
   "id": "7f0101f9",
   "metadata": {},
   "outputs": [
    {
     "name": "stdout",
     "output_type": "stream",
     "text": [
      "MlM_gen(persons.EqSet.equal, en2fr.TreeSet.parent) (cxt_len=1, abstract=0): 0.091, 0.84375\n",
      "MlM_gen(persons.EqSet.equal, en2fr.TreeSet.parent) (cxt_len=1, abstract=1): 0.109, 0.875\n",
      "MlM_gen(persons.EqSet.equal, en2fr.TreeSet.parent) (cxt_len=2, abstract=0): 2.069, 0.53125\n",
      "MlM_gen(persons.EqSet.equal, en2fr.TreeSet.parent) (cxt_len=2, abstract=1): 1.034, 0.59375\n"
     ]
    }
   ],
   "source": [
    "for key, result in results.items(): print(f\"{key}: {result.mean_loss:.3f}, {result.mean_acc}\")"
   ]
  },
  {
   "cell_type": "code",
   "execution_count": null,
   "id": "d156659e",
   "metadata": {},
   "outputs": [],
   "source": [
    "key = 'MlM_gen(persons.EqSet.equal, en2fr.TreeSet.parent) (cxt_len=1, abstract=0)'; result = results[key]\n",
    "node, data_tuples = show_result(result, topk=15)"
   ]
  },
  {
   "cell_type": "code",
   "execution_count": 173,
   "id": "e8c870a3",
   "metadata": {},
   "outputs": [
    {
     "name": "stdout",
     "output_type": "stream",
     "text": [
      "MlM_gen(persons.EqSet.equal, en2fr.TreeSet.parent) (cxt_len=1, abstract=0)\n",
      " [-1] root labels┐\n",
      "                 └[0] top[0, 1] 16-15,21-14 attn_labels┐\n",
      "                                                       └[1] top[0, 1, 2] 12-10,8-1,9-14┐\n",
      "                                                                                       └*[2] top[0, 1, 2, 3, 4, 5] 6-10,5-12,8-7,8-3,7-2,8-9...\n"
     ]
    }
   ],
   "source": [
    "print(key); node = result.node = add_node(node, topi=[0,1,2,3,4,5])"
   ]
  },
  {
   "cell_type": "code",
   "execution_count": 174,
   "id": "c07ef9bf",
   "metadata": {},
   "outputs": [
    {
     "name": "stdout",
     "output_type": "stream",
     "text": [
      "[[(5, 12, -1.016), (8, 7, -0.743), (7, 2, -1.071)], [(12, 10, -2.065), (8, 1, -2.009), (9, 14, -2.1)], [(16, 15, -0.416), (21, 14, -0.719)]]\n"
     ]
    },
    {
     "data": {
      "image/png": "[encoded data removed]",
      "text/plain": [
       "<Figure size 640x480 with 1 Axes>"
      ]
     },
     "metadata": {},
     "output_type": "display_data"
    }
   ],
   "source": [
    "analyze_head_chains(model, get_head2scores(node));"
   ]
  },
  {
   "cell_type": "code",
   "execution_count": null,
   "id": "b752617c",
   "metadata": {},
   "outputs": [],
   "source": [
    "key = 'MlM_gen(persons.EqSet.equal, en2fr.TreeSet.parent) (cxt_len=2, abstract=0)'; result = results[key]\n",
    "node, data_tuples = show_result(result, topk=15)"
   ]
  },
  {
   "cell_type": "code",
   "execution_count": null,
   "id": "46e9bc7a",
   "metadata": {},
   "outputs": [],
   "source": [
    "plot_attn_attrs(data_tuples, model, tokenizer, node, topi=[0,1,2], k_shot=k_shot)"
   ]
  },
  {
   "cell_type": "code",
   "execution_count": 202,
   "id": "697be2f3",
   "metadata": {},
   "outputs": [
    {
     "name": "stdout",
     "output_type": "stream",
     "text": [
      "MlM_gen(persons.EqSet.equal, en2fr.TreeSet.parent) (cxt_len=2, abstract=0)\n",
      "parent has not been attributed yet, replace it instead of adding to it.\n",
      "                 ┌[0] top[1, 2] 16-15,21-14 argmax_attn_labels┐\n",
      "                 │                                            └[1] top[0, 1] 8-1,12-10┐\n",
      "                 │                                                                    └*[2] top[0, 1, 2] 6-10,5-12,8-7...\n",
      " [-1] root labels┤\n",
      "                 └[0] top[0] 20-5 argmax_attn_labels┐\n",
      "                                                    └[1] top[0, 1] 12-10,8-1┐\n",
      "                                                                            └[2] top[0, 1, 2] 6-10,5-12,8-7\n"
     ]
    }
   ],
   "source": [
    "print(key); node = add_node_to_result(result, topi=[0,1,2], label_type='argmax_attn_labels')  # head_attr_fn=get_head_mlp_attr"
   ]
  },
  {
   "cell_type": "code",
   "execution_count": 207,
   "id": "b0b8bb95",
   "metadata": {},
   "outputs": [
    {
     "name": "stdout",
     "output_type": "stream",
     "text": [
      "[[(5, 12, -1.402), (8, 7, -0.846)], [(12, 10, -2.067), (8, 1, -1.974)], [(20, 5, -1.164)]]\n"
     ]
    },
    {
     "data": {
      "image/png": "[encoded data removed]",
      "text/plain": [
       "<Figure size 640x480 with 1 Axes>"
      ]
     },
     "metadata": {},
     "output_type": "display_data"
    },
    {
     "data": {
      "text/plain": [
       "[(((5, 12), (12, 10), (20, 5)), -0.42940863966941833, 0.23799992),\n",
       " (((5, 12), (8, 1), (20, 5)), -0.4207330048084259, 0.23799992),\n",
       " (((8, 7), (12, 10), (20, 5)), 0.9564396142959595, -0.31800002)]"
      ]
     },
     "execution_count": 207,
     "metadata": {},
     "output_type": "execute_result"
    }
   ],
   "source": [
    "analyze_head_chains(model, get_head2scores(result.root.children[1].children[0].children[0]))"
   ]
  },
  {
   "cell_type": "markdown",
   "id": "68713987",
   "metadata": {},
   "source": [
    "### did->does"
   ]
  },
  {
   "cell_type": "code",
   "execution_count": 20,
   "id": "a83926d2",
   "metadata": {},
   "outputs": [
    {
     "name": "stdout",
     "output_type": "stream",
     "text": [
      "MlM_gen(persons.EqSet.equal, does2did.TreeSet.equal) (cxt_len=2, abstract=0): 0.613, 0.65625\n",
      "MlM_gen(persons.EqSet.equal, does2did.TreeSet.equal) (cxt_len=2, abstract=1): 0.650, 0.53125\n",
      "MlM_gen(persons.EqSet.equal, does2did.TreeSet.parent) (cxt_len=1, abstract=0): 0.056, 0.8125\n",
      "MlM_gen(persons.EqSet.equal, does2did.TreeSet.parent) (cxt_len=1, abstract=1): 0.596, 0.5625\n",
      "MlM_gen(persons.EqSet.equal, does2did.TreeSet.parent) (cxt_len=2, abstract=0): 1.258, 0.53125\n",
      "MlM_gen(persons.EqSet.equal, does2did.TreeSet.parent) (cxt_len=2, abstract=1): 1.894, 0.5\n"
     ]
    }
   ],
   "source": [
    "for key, result in results.items(): print(f\"{key}: {result.mean_loss:.3f}, {result.mean_acc}\")"
   ]
  },
  {
   "cell_type": "code",
   "execution_count": null,
   "id": "d38f701b",
   "metadata": {},
   "outputs": [],
   "source": [
    "key = 'MlM_gen(persons.EqSet.equal, does2did.TreeSet.parent) (cxt_len=1, abstract=0)'; result = results[key]\n",
    "node, data_tuples = show_result(result, topk=15)"
   ]
  },
  {
   "cell_type": "code",
   "execution_count": null,
   "id": "0b511c94",
   "metadata": {},
   "outputs": [],
   "source": [
    "plot_attn_attrs(data_tuples[:4], model, tokenizer, node.parent.parent.parent, topi=[0,1], head_attr_fn=get_head_mlp_attr, mix=True)"
   ]
  },
  {
   "cell_type": "code",
   "execution_count": null,
   "id": "5fb9f0c1",
   "metadata": {},
   "outputs": [],
   "source": [
    "for text, input_ids, labels, ranges, *args, o in data_tuples:\n",
    "    show_predictions(tokenizer, *args, logits=o.logits, labels=labels, k_shot=k_shot, topk=3)[0]"
   ]
  },
  {
   "cell_type": "code",
   "execution_count": null,
   "id": "9790bcc9",
   "metadata": {},
   "outputs": [],
   "source": [
    "result.node = result.node.parent.parent.parent\n",
    "result.node = result.root"
   ]
  },
  {
   "cell_type": "code",
   "execution_count": 80,
   "id": "657592c8",
   "metadata": {},
   "outputs": [
    {
     "name": "stdout",
     "output_type": "stream",
     "text": [
      "MlM_gen(persons.EqSet.equal, does2did.TreeSet.parent) (cxt_len=1, abstract=0)\n",
      "                 ┌[0] top3 21-16 labels┐\n",
      "                 │                     └[1] top[0, 1, 2, 3, 4, 5] 19-16,8-16,13-13,17-16,7-16,6-16\n",
      "                 ├[0] top[0] 17-9 attn_labels┐\n",
      "                 │                           └[1] top[0, 1, 2] 12-10,8-1,13-13┐\n",
      "                 │                                                            └[2] top[0] 6-10\n",
      " [-1] root labels┤\n",
      "                 │                     ┌[1] top[0, 1, 2, 3, 4, 5] 18-16,13-13,14-7,16-16,12-10,17-16\n",
      "                 ├[0] top0 19-16 labels┤\n",
      "                 │                     └[1] top0 18-16┐\n",
      "                 │                                    └[2] top0 17-16┐\n",
      "                 │                                                   └[3] top[0, 1] 16-16,15-16\n",
      "                 └[0] top[1] 14-7 attn_labels┐\n",
      "                                             └[1] top[0, 1] 8-1,12-10┐\n",
      "                                                                     └*[2] top[1, 0, 2, 7] 6-10,0-16,3-11,3-12...\n"
     ]
    }
   ],
   "source": [
    "print(key); node = add_node_to_result(result, topi=[1,0,2,7], head_attr_fn=get_head_mlp_attr, label_type='attn_labels')  # head_attr_fn=get_head_mlp_attr"
   ]
  },
  {
   "cell_type": "code",
   "execution_count": null,
   "id": "bb091b94",
   "metadata": {
    "collapsed": true
   },
   "outputs": [],
   "source": [
    "for data_tuple in data_tuples:\n",
    "    plot_attn_attr(data_tuple, model, tokenizer, node, 17, 16, attn_patterns=None, k_shot=0, plot_attr=False)"
   ]
  },
  {
   "cell_type": "code",
   "execution_count": null,
   "id": "6a0c3bcd",
   "metadata": {
    "collapsed": true
   },
   "outputs": [],
   "source": [
    "interpret_circuit(model, tokenizer, result.task, node.parent, topi=[0,1,6,7,10])"
   ]
  },
  {
   "cell_type": "code",
   "execution_count": null,
   "id": "27296b00",
   "metadata": {
    "collapsed": true
   },
   "outputs": [],
   "source": [
    "plot_attn_attrs(data_tuples[:4], model, tokenizer, node, topi=[0, 1, 2], k_shot=k_shot)  # head_attr_fn=get_head_mlp_attr"
   ]
  },
  {
   "cell_type": "code",
   "execution_count": null,
   "id": "c0185b90",
   "metadata": {},
   "outputs": [],
   "source": [
    "key = 'MlM_gen(persons.EqSet.equal, does2did.TreeSet.equal) (cxt_len=2, abstract=0)'; result = results[key]\n",
    "node, data_tuples = show_result(result, topk=10)"
   ]
  },
  {
   "cell_type": "code",
   "execution_count": null,
   "id": "24e7c66e",
   "metadata": {
    "collapsed": true
   },
   "outputs": [],
   "source": [
    "plot_attn_attrs(data_tuples[:4], model, tokenizer, node, topi=[0, 7], head_attr_fn=get_head_mlp_attr)"
   ]
  },
  {
   "cell_type": "code",
   "execution_count": 89,
   "id": "6460cf49",
   "metadata": {},
   "outputs": [
    {
     "name": "stdout",
     "output_type": "stream",
     "text": [
      "MlM_gen(persons.EqSet.equal, does2did.TreeSet.equal) (cxt_len=2, abstract=0)\n",
      " [-1] root labels┐\n",
      "                 └[0] top[0] 16-7 attn_labels┐\n",
      "                                             └[1] top[0, 1, 2, 3, 4] 9-14,13-13,15-5,8-1,12-10┐\n",
      "                                                                                              └*[2] top[0, 1, 2, 3] 6-10,1-7,3-12,6-2...\n"
     ]
    }
   ],
   "source": [
    "print(key); node = add_node_to_result(result, topi=[0,1,2,3])"
   ]
  },
  {
   "cell_type": "code",
   "execution_count": 93,
   "id": "b3de5818",
   "metadata": {},
   "outputs": [
    {
     "name": "stdout",
     "output_type": "stream",
     "text": [
      "[[(6, 2, -0.6)], [(9, 14, -2.579), (13, 13, -2.123), (15, 5, -2.675), (8, 1, -1.939), (12, 10, -2.034)], [(16, 7, -1.086)]]\n"
     ]
    },
    {
     "data": {
      "image/png": "[encoded data removed]",
      "text/plain": [
       "<Figure size 640x480 with 1 Axes>"
      ]
     },
     "metadata": {},
     "output_type": "display_data"
    }
   ],
   "source": [
    "analyze_head_chains(model, get_head2scores(node));"
   ]
  },
  {
   "cell_type": "code",
   "execution_count": null,
   "id": "a01df267",
   "metadata": {
    "scrolled": false
   },
   "outputs": [],
   "source": [
    "key = 'MlM_gen(persons.EqSet.equal, does2did.TreeSet.parent) (cxt_len=2, abstract=0)'; result = results[key]\n",
    "node, data_tuples = show_result(result, topk=15)"
   ]
  },
  {
   "cell_type": "code",
   "execution_count": 107,
   "id": "b619a4dd",
   "metadata": {},
   "outputs": [
    {
     "name": "stdout",
     "output_type": "stream",
     "text": [
      "MlM_gen(persons.EqSet.equal, does2did.TreeSet.parent) (cxt_len=2, abstract=0)\n",
      "                 ┌[0] top2 19-16 labels┐\n",
      "                 │                     └[1] top[0, 1, 2, 3, 4, 5, 6] 13-13,18-16,0-16,17-16,16-16,13-7,12-10\n",
      " [-1] root labels┤\n",
      "                 └[0] top[0] 16-7 attn_labels┐\n",
      "                                             └[1] top[0, 1, 2, 3, 4] 9-14,8-1,13-13,15-5,12-10┐\n",
      "                                                                                              └*[2] top[0, 1, 2, 3] 6-10,1-7,3-12,6-2...\n"
     ]
    }
   ],
   "source": [
    "print(key); node = add_node_to_result(result, topi=[0,1,2,3], label_type='attn_labels')  # head_attr_fn=get_head_mlp_attr, "
   ]
  },
  {
   "cell_type": "markdown",
   "id": "5a102409",
   "metadata": {},
   "source": [
    "### thing->capability"
   ]
  },
  {
   "cell_type": "code",
   "execution_count": 1067,
   "id": "2eb25f94",
   "metadata": {},
   "outputs": [
    {
     "name": "stdout",
     "output_type": "stream",
     "text": [
      "MlM_gen(persons.EqSet.equal, capabilities_of_things.TreeSet.equal) (cxt_len=2, abstract=0): 0.536, 0.71875\n",
      "MlM_gen(persons.EqSet.equal, capabilities_of_things.TreeSet.equal) (cxt_len=2, abstract=1): 1.068, 0.375\n",
      "MlM_gen(persons.EqSet.equal, capabilities_of_things.TreeSet.parent) (cxt_len=1, abstract=0): 0.434, 0.9375\n",
      "MlM_gen(persons.EqSet.equal, capabilities_of_things.TreeSet.parent) (cxt_len=1, abstract=1): 0.939, 0.59375\n",
      "MlM_gen(persons.EqSet.equal, capabilities_of_things.TreeSet.parent) (cxt_len=2, abstract=0): 2.783, 0.375\n",
      "MlM_gen(persons.EqSet.equal, capabilities_of_things.TreeSet.parent) (cxt_len=2, abstract=1): 2.983, 0.3125\n"
     ]
    }
   ],
   "source": [
    "for key, result in results.items(): print(f\"{key}: {result.mean_loss:.3f}, {result.mean_acc}\")"
   ]
  },
  {
   "cell_type": "code",
   "execution_count": null,
   "id": "d4d207a4",
   "metadata": {},
   "outputs": [],
   "source": [
    "key = 'MlM_gen(persons.EqSet.equal, capabilities_of_things.TreeSet.parent) (cxt_len=1, abstract=0)'; result = results[key]\n",
    "node, data_tuples = show_result(result)"
   ]
  },
  {
   "cell_type": "code",
   "execution_count": null,
   "id": "689b07c3",
   "metadata": {},
   "outputs": [],
   "source": [
    "interpret_circuit(model, tokenizer, result.task, node, topi=[0, 1, 2])"
   ]
  },
  {
   "cell_type": "code",
   "execution_count": null,
   "id": "3e8d310a",
   "metadata": {},
   "outputs": [],
   "source": [
    "interpret_circuit(model, tokenizer, result.task, node, topi=[0, 1])"
   ]
  },
  {
   "cell_type": "code",
   "execution_count": 964,
   "id": "f0541f9e",
   "metadata": {},
   "outputs": [
    {
     "name": "stdout",
     "output_type": "stream",
     "text": [
      "MlM_gen(persons.EqSet.equal, capabilities_of_things.TreeSet.parent) (cxt_len=1, abstract=0)\n",
      "                 ┌[0] top[0] 13-15 attn_labels┐\n",
      "                 │                            └[1] top[0, 1] 8-1,12-10┐\n",
      "                 │                                                    └[2] top[0, 1] 5-12,6-5\n",
      " [-1] root labels┤\n",
      "                 └[0] top[3] 21-14 attn_labels┐\n",
      "                                              └[1] top[0, 1] 8-1,12-10┐\n",
      "                                                                      └*[2] top[0, 1] 3-12,5-12...\n"
     ]
    }
   ],
   "source": [
    "print(key); node = add_node_to_result(result, topi=[0,1])"
   ]
  },
  {
   "cell_type": "code",
   "execution_count": null,
   "id": "759696a5",
   "metadata": {},
   "outputs": [],
   "source": [
    "key = 'MlM_gen(persons.EqSet.equal, capabilities_of_things.TreeSet.equal) (cxt_len=2, abstract=0)'; result = results[key]\n",
    "node, data_tuples = show_result(result)"
   ]
  },
  {
   "cell_type": "code",
   "execution_count": 1062,
   "id": "6fc85adc",
   "metadata": {},
   "outputs": [
    {
     "name": "stdout",
     "output_type": "stream",
     "text": [
      "MlM_gen(persons.EqSet.equal, capabilities_of_things.TreeSet.equal) (cxt_len=2, abstract=0)\n",
      " [-1] root labels┐\n",
      "                 └[0] top[0] 16-7 attn_labels┐\n",
      "                                             └[1] top[0, 1] 9-14,12-10┐\n",
      "                                                                      └*[2] top[2, 1, 3, 0] 8-7,1-7,6-10,3-12...\n"
     ]
    }
   ],
   "source": [
    "print(key); node = add_node_to_result(result, topi=[2,1,3,0])"
   ]
  },
  {
   "cell_type": "code",
   "execution_count": 1063,
   "id": "bd405a88",
   "metadata": {},
   "outputs": [
    {
     "name": "stdout",
     "output_type": "stream",
     "text": [
      "[[(8, 7, -0.282)], [(9, 14, -2.228), (12, 10, -2.236)], [(16, 7, -1.271)]]\n"
     ]
    },
    {
     "data": {
      "image/png": "[encoded data removed]",
      "text/plain": [
       "<Figure size 640x480 with 1 Axes>"
      ]
     },
     "metadata": {},
     "output_type": "display_data"
    }
   ],
   "source": [
    "analyze_head_chains(model, get_head2scores(node));"
   ]
  },
  {
   "cell_type": "code",
   "execution_count": null,
   "id": "8615ea4e",
   "metadata": {},
   "outputs": [],
   "source": [
    "key = 'MlM_gen(persons.EqSet.equal, capabilities_of_things.TreeSet.parent) (cxt_len=2, abstract=0)'; result = results[key]\n",
    "node, data_tuples = show_result(result)"
   ]
  },
  {
   "cell_type": "code",
   "execution_count": 988,
   "id": "b4f2e785",
   "metadata": {
    "collapsed": true
   },
   "outputs": [
    {
     "name": "stdout",
     "output_type": "stream",
     "text": [
      "*Ġplay 0.133 {'Ġplay': 0.133, 'Ġshoot': 0.058, 'âĢ': 0.057} \t Justice has a piano. Chance has a gun. Justice can play\n",
      "*Ġbake 0.241 {'Ġbake': 0.241, 'Ġfly': 0.136, 'Ġcook': 0.128} \t Tyler has an oven. London has a plane. Tyler can bake\n",
      " Ġfly 0.04 {'Ġprint': 0.727, 'Ġtype': 0.046, 'Ġfly': 0.04} \t India has a printer. Eva has a glider. Eva can fly\n",
      "*Ġwash 0.606 {'Ġwash': 0.606, 'Ġdry': 0.074, 'Ġclean': 0.062} \t Jamie has a phone. Dream has washing machine. Dream can wash\n",
      " Ġstab 0.219 {'Ġopen': 0.324, 'Ġstab': 0.219, 'Ġcut': 0.21} \t Angel has an opener. Laura has a dagger. Laura can stab\n",
      " Ġwatch 0.0 {'Ġstab': 0.975, 'Ġkill': 0.005, 'Ġcut': 0.002} \t Anna has a TV. Michael has a dagger. Anna can watch\n",
      " Ġcut 0.077 {'Ġcook': 0.286, 'Ġsaw': 0.119, 'Ġchop': 0.082} \t King has a saw. Amy has a pot. King can cut\n",
      " Ġcook 0.075 {'Ġdrive': 0.37, 'Ġcook': 0.075, 'Ġfix': 0.045} \t Georgia has a pot. Thomas has a car. Georgia can cook\n",
      "3.0769495964050293\n",
      " Ġchop 0.063 {\"'t\": 0.073, 'âĢ': 0.069, 'Ġchop': 0.063} \t Cash has an oven. Alexander has an axe. Alexander can chop\n",
      " Ġstab 0.007 {'Ġdig': 0.667, 'Ġchop': 0.045, 'Ġshovel': 0.039} \t Sky has a dagger. Jordan has a shovel. Sky can stab\n",
      "*Ġdig 0.331 {'Ġdig': 0.331, 'Ġstab': 0.294, 'Ġshovel': 0.076} \t Christopher has a lamp. Larry has a shovel. Larry can dig\n",
      " Ġadd 0.002 {'Ġshoot': 0.719, 'Ġkill': 0.031, 'Ġfire': 0.029} \t Eva has a calculator. Michael has a gun. Eva can add\n",
      "*Ġcall 0.45 {'Ġcall': 0.45, 'Ġdial': 0.244, 'Ġmake': 0.066} \t Ruby has a calculator. Paul has a phone. Paul can call\n",
      "*Ġdig 0.864 {'Ġdig': 0.864, 'Ġshovel': 0.022, 'Ġchop': 0.02} \t Anna has a pot. Hunter has a shovel. Hunter can dig\n",
      " Ġopen 0.003 {'Ġchop': 0.885, 'Ġcut': 0.036, 'Ġhack': 0.011} \t Bruce has an opener. Jessica has an axe. Bruce can open\n",
      "*Ġbake 0.818 {'Ġbake': 0.818, 'Ġcook': 0.13, 'Ġopen': 0.01} \t Jake has a saw. Sarah has an oven. Sarah can bake\n",
      "2.675234317779541\n",
      " Ġride 0.116 {\"'t\": 0.127, 'Ġride': 0.116, 'âĢ': 0.061} \t Lewis has a lamp. Elsa has a bicycle. Elsa can ride\n",
      "*Ġwash 0.533 {'Ġwash': 0.533, 'Ċ': 0.07, 'Ġuse': 0.068} \t Roger has a plane. Anne has washing machine. Anne can wash\n",
      "*Ġcook 0.456 {'Ġcook': 0.456, 'Ġboil': 0.165, 'Ġmake': 0.094} \t Rachel has washing machine. Dallas has a pot. Dallas can cook\n",
      " Ġadd 0.0 {'Ġfly': 0.821, 'Ġride': 0.051, 'Ġtake': 0.009} \t Angel has a calculator. Kate has a plane. Angel can add\n",
      " Ġwatch 0.027 {'Ġcook': 0.333, 'Ġboil': 0.112, 'Ġadd': 0.076} \t Amy has a TV. Anne has a pot. Amy can watch\n",
      " Ġstab 0.171 {'Ġcut': 0.216, 'Ġstab': 0.171, 'Ġkill': 0.11} \t Tony has washing machine. Gary has a dagger. Gary can stab\n",
      "*Ġdig 0.926 {'Ġdig': 0.926, 'Ġshovel': 0.031, 'Ġbury': 0.007} \t Ruby has a knife. Hunter has a shovel. Hunter can dig\n",
      "*Ġopen 0.488 {'Ġopen': 0.488, 'Ġwash': 0.182, 'Ġuse': 0.077} \t Sky has an opener. Victoria has washing machine. Sky can open\n",
      "3.071582078933716\n",
      " Ġfly 0.079 {\"'t\": 0.15, 'Ġfly': 0.079, 'âĢ': 0.046} \t Bo has a glider. Carl has an axe. Bo can fly\n",
      " Ġwrite 0.026 {'Ġfly': 0.588, \"'t\": 0.058, 'Ġdraw': 0.035} \t Christopher has a piano. Morgan has a pencil. Morgan can write\n",
      " Ġwatch 0.002 {'Ġwrite': 0.669, 'Ġdraw': 0.119, \"'t\": 0.039} \t August has a TV. Ruby has a pencil. August can watch\n",
      " Ġopen 0.009 {'Ġplay': 0.662, 'Ġlisten': 0.061, 'Ġhear': 0.047} \t Ryan has an opener. Robin has a violin. Ryan can open\n",
      " Ġprint 0.223 {'Ġopen': 0.437, 'Ġprint': 0.223, 'Ġwatch': 0.117} \t Collins has a printer. Winter has an opener. Collins can print\n",
      " Ġshoot 0.022 {'Ġopen': 0.696, 'Ġprint': 0.164, 'Ġwatch': 0.048} \t Maria has a gun. Ray has a printer. Maria can shoot\n",
      " Ġdrive 0.318 {'Ġwatch': 0.447, 'Ġdrive': 0.318, 'Ġopen': 0.023} \t Joy has a TV. Mary has a car. Mary can drive\n",
      "*Ġshoot 0.696 {'Ġshoot': 0.696, 'Ġopen': 0.072, 'Ġkill': 0.032} \t Warren has a gun. Alexander has an axe. Warren can shoot\n",
      "2.308245897293091\n"
     ]
    }
   ],
   "source": [
    "for text, input_ids, labels, ranges, *args, o in data_tuples:\n",
    "    loss, top1_corrects, answer_probs, candidate_probs = show_predictions(\n",
    "        tokenizer, *args, logits=o.logits, labels=labels, loss_reduction='mean',\n",
    "        candidates=None, k_shot=k_shot, topk=3, verbose=True)\n",
    "    print(loss)"
   ]
  },
  {
   "cell_type": "code",
   "execution_count": null,
   "id": "854622df",
   "metadata": {},
   "outputs": [],
   "source": [
    "plot_attn_attrs(data_tuples[:4], model, tokenizer, node.parent.parent.parent, topi=[0], k_shot=k_shot)"
   ]
  },
  {
   "cell_type": "code",
   "execution_count": null,
   "id": "4126b548",
   "metadata": {
    "collapsed": true
   },
   "outputs": [],
   "source": [
    "plot_attn_attrs(data_tuples[:4], model, tokenizer, node, topi=[0, 1, 2, 3], k_shot=k_shot, plot_attr=False)"
   ]
  },
  {
   "cell_type": "code",
   "execution_count": 1047,
   "id": "99d60291",
   "metadata": {},
   "outputs": [
    {
     "name": "stdout",
     "output_type": "stream",
     "text": [
      "MlM_gen(persons.EqSet.equal, capabilities_of_things.TreeSet.parent) (cxt_len=2, abstract=0)\n",
      "parent has not been attributed yet, replace it instead of adding to it.\n",
      "                 ┌[0] top[1] 21-14 argmax_attn_labels┐\n",
      "                 │                                   └[1] top[0, 1] 8-1,12-10┐\n",
      "                 │                                                           └*[2] top[1, 2, 0] 5-12,1-7,3-12...\n",
      " [-1] root labels┤\n",
      "                 └[0] top[0] 13-15 argmax_attn_labels┐\n",
      "                                                     └[1] top[0, 1] 8-1,12-10┐\n",
      "                                                                             └[2] top[2, 3, 1, 0] 6-5,3-7,5-12,3-12\n"
     ]
    }
   ],
   "source": [
    "print(key); node = add_node_to_result(result, topi=[1,2,0], label_type='argmax_attn_labels')"
   ]
  },
  {
   "cell_type": "markdown",
   "id": "a04c9c89",
   "metadata": {},
   "source": [
    "### capital->country"
   ]
  },
  {
   "cell_type": "code",
   "execution_count": 470,
   "id": "87f5c5e1",
   "metadata": {},
   "outputs": [
    {
     "name": "stdout",
     "output_type": "stream",
     "text": [
      "MlM_gen(persons.EqSet.equal, country2capital.TreeSet.equal) (cxt_len=1, abstract=0): 0.068, 0.8125\n",
      "MlM_gen(persons.EqSet.equal, country2capital.TreeSet.equal) (cxt_len=1, abstract=1): 0.111, 0.84375\n",
      "MlM_gen(persons.EqSet.equal, country2capital.TreeSet.equal) (cxt_len=2, abstract=0): 0.866, 0.65625\n",
      "MlM_gen(persons.EqSet.equal, country2capital.TreeSet.equal) (cxt_len=2, abstract=1): 1.251, 0.5\n",
      "MlM_gen(persons.EqSet.equal, country2capital.TreeSet.parent) (cxt_len=1, abstract=0): 0.093, 0.84375\n",
      "MlM_gen(persons.EqSet.equal, country2capital.TreeSet.parent) (cxt_len=1, abstract=1): 0.119, 0.8125\n",
      "MlM_gen(persons.EqSet.equal, country2capital.TreeSet.parent) (cxt_len=2, abstract=0): 1.386, 0.4375\n",
      "MlM_gen(persons.EqSet.equal, country2capital.TreeSet.parent) (cxt_len=2, abstract=1): 2.561, 0.4375\n"
     ]
    }
   ],
   "source": [
    "for key, result in results.items(): print(f\"{key}: {result.mean_loss:.3f}, {result.mean_acc}\")"
   ]
  },
  {
   "cell_type": "code",
   "execution_count": null,
   "id": "5bb37da5",
   "metadata": {},
   "outputs": [],
   "source": [
    "key = 'MlM_gen(persons.EqSet.equal, country2capital.TreeSet.parent) (cxt_len=1, abstract=0)'; result = results[key]\n",
    "node, data_tuples = show_result(result)"
   ]
  },
  {
   "cell_type": "code",
   "execution_count": 843,
   "id": "55ffef5f",
   "metadata": {
    "collapsed": true
   },
   "outputs": [
    {
     "name": "stdout",
     "output_type": "stream",
     "text": [
      "16 0\n",
      "(0.9464224576950073, 0.9693313837051392)\n",
      "Berlin->['Germany'] {'ĠBerlin': 34, 'ĠFriedrich': 22, 'ĠGermany': 19, 'ĠReich': 19, 'ĠGerman': 19}\n",
      "Cairo->['Egypt'] {'ĠCairo': 40, 'Egypt': 39, 'ĠEgypt': 39, 'ĠEgyptian': 38, 'ĠEgyptians': 37}\n",
      "Ankara->['Turkey'] {'ĠAnkara': 42, 'ĠTurkish': 38, 'ĠErdogan': 37, 'ĠTurkey': 36, 'Turkish': 35}\n",
      "Athens->['Greece'] {'ĠAthens': 42, 'ĠAthen': 33, 'ĠAthena': 30, 'ĠGreece': 30, 'ĠGreek': 29}\n",
      "London->['England'] {'ĠLondon': 26, 'London': 26, 'ĠNotting': 25, 'ĠThames': 24, 'ĠBarcl': 19}\n",
      "Manila->['the Philippines'] {'ĠManila': 34, 'ĠFilipino': 31, 'ĠPhilippines': 31, 'ĠPhilippine': 29, 'ĠFilip': 27}\n",
      "Ottawa->['Canada'] {'ĠOttawa': 36, 'Ott': 26, 'ĠCanadians': 24, 'ĠCanadian': 24, 'ĠQuebec': 22}\n",
      "Bern->['Switzerland'] {'Bern': 30, 'ĠBernstein': 30, 'ĠBern': 25, 'bern': 24, 'ĠBernard': 21}\n",
      "Seoul->['South Korea'] {'ĠSeoul': 39, 'ĠKoreans': 36, 'ĠKorean': 36, 'ĠKorea': 33, 'ĠYong': 29}\n",
      "Lisbon->['Portugal'] {'ĠLisbon': 40, 'ĠPortuguese': 38, 'ĠPortugal': 37, 'ĠPortug': 32, 'ĠLis': 20}\n",
      "Rome->['Italy'] {'ĠRome': 34, 'ĠRoma': 29, 'ĠRomans': 26, 'ĠItaly': 25, 'ĠItalian': 24}\n",
      "Canberra->['Australia'] {'ĠCanberra': 33, 'ĠACT': 22, 'ĠAustralian': 22, 'ĠAustralia': 22, 'ĠAustralians': 19}\n",
      "Bangkok->['Thailand'] {'ĠBangkok': 39, 'ĠThailand': 33, 'ĠThai': 30, 'Bang': 24, 'ĠBuddha': 21}\n",
      "Beijing->['China'] {'ĠBeijing': 35, 'ĠChinese': 29, 'ĠTian': 28, 'China': 28, 'ĠChina': 28}\n",
      "Tokyo->['Japan'] {'ĠTokyo': 35, 'Tok': 31, 'ĠJapanese': 30, 'ĠJapan': 30, 'Japan': 28}\n",
      "Paris->['France'] {'ĠParis': 33, 'Paris': 31, 'ĠFrance': 29, 'ĠFrench': 28, 'France': 26}\n",
      "Madrid->['Spain'] {'ĠMadrid': 38, 'ĠSpain': 31, 'ĠSpani': 30, 'ĠSpanish': 30, 'Spanish': 28}\n",
      "Moscow->['Russia'] {'ĠMoscow': 42, 'ĠRussians': 37, 'Moscow': 37, 'ĠKremlin': 37, 'ĠRussian': 36}\n",
      "12 7\n",
      "(0.9013831615447998, 0.9577867388725281)\n",
      "Berlin->['Germany'] {'ĠBerlin': 29, 'Germany': 22, 'German': 20, 'ĠGermany': 20, 'ĠGermans': 19}\n",
      "Cairo->['Egypt'] {'ĠEgypt': 35, 'ĠCairo': 34, 'ĠEgyptian': 34, 'Egypt': 33, 'ĠEgyptians': 31}\n",
      "Ankara->['Turkey'] {'ĠTurkish': 29, 'ĠAnkara': 29, 'Turkish': 27, 'ĠErdogan': 27, 'ĠIstanbul': 27}\n",
      "Athens->['Greece'] {'ĠAthens': 32, 'ĠAthen': 29, 'ĠGreece': 28, 'ĠGreeks': 27, 'ĠGreek': 26}\n",
      "London->['England'] {'London': 30, 'ĠLondon': 29, 'ĠBritain': 25, 'UK': 25, 'ĠÂ£': 25}\n",
      "Manila->['the Philippines'] {'ĠManila': 33, 'ĠFilipino': 32, 'ĠPhilippine': 31, 'ĠPhilippines': 30, 'ĠFilip': 28}\n",
      "Ottawa->['Canada'] {'ĠOttawa': 39, 'ĠCanadians': 36, 'ĠCanadian': 34, 'Canada': 34, 'ĠCanada': 34}\n",
      "Bern->['Switzerland'] {'ĠSwiss': 15, 'ĠSwitzerland': 15, 'Ġsignalling': 14, 'Ġlabou': 13, 'Ġneighbouring': 13}\n",
      "Seoul->['South Korea'] {'ĠKorea': 37, 'ĠKorean': 36, 'ĠSeoul': 36, 'ĠKoreans': 35, 'ĠYong': 28}\n",
      "Lisbon->['Portugal'] {'ĠLisbon': 35, 'ĠPortugal': 35, 'ĠPortuguese': 34, 'ĠPortug': 32, 'Brazil': 22}\n",
      "Rome->['Italy'] {'ĠRome': 27, 'ĠItaly': 24, 'ĠItalians': 23, 'Italy': 22, 'ĠItalian': 21}\n",
      "Canberra->['Australia'] {'ĠCanberra': 37, 'ĠAustralia': 35, 'ĠAustralian': 33, 'Australian': 32, 'ĠAustralians': 31}\n",
      "Bangkok->['Thailand'] {'ĠBangkok': 38, 'ĠThailand': 35, 'ĠThai': 33, 'Asia': 24, 'ĠCambodia': 23}\n",
      "Beijing->['China'] {'ĠBeijing': 34, 'ĠChinese': 30, 'China': 30, 'Chinese': 30, 'ĠChina': 29}\n",
      "Tokyo->['Japan'] {'Japan': 39, 'ĠJapan': 39, 'ĠJapanese': 37, 'Japanese': 37, 'ĠTokyo': 36}\n",
      "Paris->['France'] {'Paris': 31, 'ĠParis': 31, 'ĠFrance': 30, 'France': 29, 'ĠFranÃ§': 28}\n",
      "Madrid->['Spain'] {'ĠSpain': 35, 'ĠMadrid': 33, 'Spain': 32, 'Spanish': 31, 'ĠSpanish': 31}\n",
      "Moscow->['Russia'] {'ĠMoscow': 32, 'Moscow': 31, 'Russian': 29, 'ĠRussian': 29, 'ĠRussia': 29}\n",
      "19 12\n",
      "(0.935795247554779, 0.9572104811668396)\n",
      "Berlin->['Germany'] {'ĠGerman': 45, 'ĠBerlin': 45, 'ĠGermans': 44, 'German': 44, 'ĠGermany': 41}\n",
      "Cairo->['Egypt'] {'ĠCairo': 41, 'ĠEgyptian': 38, 'ĠEgypt': 38, 'Egypt': 37, 'ĠEgyptians': 34}\n",
      "Ankara->['Turkey'] {'ĠTurkish': 42, 'Turkish': 41, 'ĠTurkey': 40, 'Turkey': 39, 'ĠAnkara': 39}\n",
      "Athens->['Greece'] {'ĠAthens': 48, 'ĠGreek': 46, 'ĠGreece': 46, 'Greek': 45, 'ĠGreeks': 44}\n",
      "London->['England'] {'ĠLondon': 45, 'London': 42, 'ĠBritish': 40, 'ĠEngland': 38, 'ĠBritain': 37}\n",
      "Manila->['the Philippines'] {'ĠPhilippines': 38, 'ĠPhilippine': 36, 'ĠFilipino': 35, 'ĠManila': 35, 'ĠFilip': 33}\n",
      "Ottawa->['Canada'] {'ĠOttawa': 39, 'Ott': 34, 'ĠCanada': 33, 'Canada': 32, 'ĠCanadians': 32}\n",
      "Bern->['Switzerland'] {'ĠBern': 31, 'Bern': 31, 'ĠSwitzerland': 29, 'ĠBernard': 26, 'ĠSwiss': 26}\n",
      "Seoul->['South Korea'] {'ĠKorean': 45, 'ĠKoreans': 43, 'ĠKorea': 43, 'ĠSeoul': 43, 'South': 29}\n",
      "Lisbon->['Portugal'] {'ĠPortugal': 46, 'ĠPortuguese': 45, 'ĠLisbon': 43, 'ĠPortug': 37, 'ĠLis': 30}\n",
      "Rome->['Italy'] {'ĠRoman': 45, 'ĠRome': 44, 'Roman': 39, 'ĠRomans': 39, 'ĠRoma': 37}\n",
      "Canberra->['Australia'] {'ĠAustralia': 32, 'Australia': 30, 'ĠCanberra': 30, 'ĠAustralian': 29, 'ĠAustralians': 28}\n",
      "Bangkok->['Thailand'] {'ĠThailand': 44, 'ĠThai': 44, 'ĠBangkok': 42, 'ĠAsian': 27, 'ĠBuddhist': 25}\n",
      "Beijing->['China'] {'ĠChinese': 47, 'ĠBeijing': 44, 'ĠChina': 44, 'Chinese': 43, 'China': 42}\n",
      "Tokyo->['Japan'] {'ĠJapanese': 57, 'ĠJapan': 54, 'Japanese': 53, 'Japan': 52, 'ĠTokyo': 51}\n",
      "Paris->['France'] {'ĠFrench': 48, 'ĠFrance': 47, 'ĠParis': 47, 'Paris': 45, 'French': 45}\n",
      "Madrid->['Spain'] {'ĠSpain': 48, 'ĠMadrid': 47, 'Spain': 47, 'ĠSpanish': 46, 'Spanish': 44}\n",
      "Moscow->['Russia'] {'ĠRussian': 53, 'ĠRussians': 51, 'ĠMoscow': 50, 'Russian': 48, 'ĠRussia': 47}\n"
     ]
    }
   ],
   "source": [
    "interpret_circuit(model, tokenizer, result.task, node, topi=[0, 1, 2])"
   ]
  },
  {
   "cell_type": "code",
   "execution_count": 875,
   "id": "3dd05881",
   "metadata": {},
   "outputs": [
    {
     "name": "stdout",
     "output_type": "stream",
     "text": [
      "MlM_gen(persons.EqSet.equal, country2capital.TreeSet.parent) (cxt_len=1, abstract=0)\n",
      " [-1] root labels┐\n",
      "                 └[0] top[2] 19-12 attn_labels┐\n",
      "                                              └[1] top[0, 1, 2, 3] 13-13,8-1,12-10,11-0┐\n",
      "                                                                                       └*[2] top[0] 5-12...\n"
     ]
    }
   ],
   "source": [
    "print(key); node = add_node_to_result(result, topi=[0])"
   ]
  },
  {
   "cell_type": "code",
   "execution_count": null,
   "id": "28882636",
   "metadata": {},
   "outputs": [],
   "source": [
    "key = 'MlM_gen(persons.EqSet.equal, country2capital.TreeSet.equal) (cxt_len=2, abstract=0)'; result = results[key]\n",
    "node, data_tuples = show_result(result)"
   ]
  },
  {
   "cell_type": "code",
   "execution_count": 880,
   "id": "63db07d4",
   "metadata": {},
   "outputs": [
    {
     "name": "stdout",
     "output_type": "stream",
     "text": [
      "MlM_gen(persons.EqSet.equal, country2capital.TreeSet.equal) (cxt_len=2, abstract=0)\n",
      " [-1] root labels┐\n",
      "                 └[0] top[0, 1] 16-0,16-7 attn_labels┐\n",
      "                                                     └[1] top[0, 1, 2] 8-1,13-13,12-10┐\n",
      "                                                                                      └*[2] top[0, 1] 6-2,1-7...\n"
     ]
    }
   ],
   "source": [
    "print(key); node = add_node_to_result(result, topi=[0,1])"
   ]
  },
  {
   "cell_type": "code",
   "execution_count": null,
   "id": "060f0c84",
   "metadata": {},
   "outputs": [],
   "source": [
    "key = 'MlM_gen(persons.EqSet.equal, country2capital.TreeSet.parent) (cxt_len=2, abstract=0)'; result = results[key]\n",
    "node, data_tuples = show_result(result)"
   ]
  },
  {
   "cell_type": "code",
   "execution_count": 677,
   "id": "7a0cebe8",
   "metadata": {},
   "outputs": [
    {
     "name": "stdout",
     "output_type": "stream",
     "text": [
      "MlM_gen(persons.EqSet.equal, country2capital.TreeSet.parent) (cxt_len=2, abstract=0)\n",
      "                 ┌[0] top[0, 1, 3] 16-0,12-7,19-12 attn_labels┐\n",
      "                 │                                            └[1] top[0, 1, 2, 3, 4] 8-1,11-0,13-13,9-14,12-10┐\n",
      "                 │                                                                                             └[2] top[0, 1, 3] 5-12,3-12,1-7\n",
      " [-1] root labels┤\n",
      "                 └[0] top[0, 1, 3] 16-0,12-7,19-12 argmax_attn_labels┐\n",
      "                                                                     └[1] top[0, 1, 2, 3, 4] 8-1,11-0,13-13,9-14,12-10┐\n",
      "                                                                                                                      └*[2] top[0, 1, 2] 5-12,1-7,3-12...\n"
     ]
    }
   ],
   "source": [
    "print(key); node = add_node_to_result(result, topi=[0,1,2])#, label_type='argmax_attn_labels')"
   ]
  },
  {
   "cell_type": "markdown",
   "id": "8261a178",
   "metadata": {},
   "source": [
    "### person_adjs.opposite"
   ]
  },
  {
   "cell_type": "code",
   "execution_count": 343,
   "id": "d291a627",
   "metadata": {},
   "outputs": [
    {
     "name": "stdout",
     "output_type": "stream",
     "text": [
      "MlM_gen(persons.EqSet.equal, person_adjs.SymSet.equal) (cxt_len=1, abstract=0): 0.027, 0.9375\n",
      "MlM_gen(persons.EqSet.equal, person_adjs.SymSet.equal) (cxt_len=1, abstract=1): 0.102, 0.90625\n",
      "MlM_gen(persons.EqSet.equal, person_adjs.SymSet.equal) (cxt_len=2, abstract=0): 1.261, 0.5625\n",
      "MlM_gen(persons.EqSet.equal, person_adjs.SymSet.equal) (cxt_len=2, abstract=1): 1.538, 0.46875\n",
      "MlM_gen(persons.EqSet.equal, person_adjs.SymSet.opposite) (cxt_len=1, abstract=0): 0.451, 0.625\n",
      "MlM_gen(persons.EqSet.equal, person_adjs.SymSet.opposite) (cxt_len=1, abstract=1): 0.349, 0.75\n",
      "MlM_gen(persons.EqSet.equal, person_adjs.SymSet.opposite) (cxt_len=2, abstract=0): 3.566, 0.3125\n",
      "MlM_gen(persons.EqSet.equal, person_adjs.SymSet.opposite) (cxt_len=2, abstract=1): 3.773, 0.25\n"
     ]
    }
   ],
   "source": [
    "for key, result in results.items(): print(f\"{key}: {result.mean_loss:.3f}, {result.mean_acc}\")"
   ]
  },
  {
   "cell_type": "code",
   "execution_count": null,
   "id": "423b3633",
   "metadata": {
    "scrolled": true
   },
   "outputs": [],
   "source": [
    "key = 'MlM_gen(persons.EqSet.equal, person_adjs.SymSet.opposite) (cxt_len=1, abstract=0)'; result = results[key]\n",
    "node, data_tuples = show_result(result)"
   ]
  },
  {
   "cell_type": "code",
   "execution_count": 370,
   "id": "c8ebe210",
   "metadata": {},
   "outputs": [
    {
     "name": "stdout",
     "output_type": "stream",
     "text": [
      "MlM_gen(persons.EqSet.equal, person_adjs.SymSet.opposite) (cxt_len=1, abstract=0)\n",
      " [-1] root labels┐\n",
      "                 └[0] top[0] 16-14 attn_labels┐\n",
      "                                              └[1] top[0, 1] 8-1,12-10┐\n",
      "                                                                      └*[2] top[0] 7-9...\n"
     ]
    }
   ],
   "source": [
    "print(key); node = add_node_to_result(result, topi=[0])"
   ]
  },
  {
   "cell_type": "code",
   "execution_count": null,
   "id": "542c29d5",
   "metadata": {},
   "outputs": [],
   "source": [
    "key = 'MlM_gen(persons.EqSet.equal, person_adjs.SymSet.equal) (cxt_len=2, abstract=0)'; result = results[key]\n",
    "node, data_tuples = show_result(result)"
   ]
  },
  {
   "cell_type": "code",
   "execution_count": 385,
   "id": "34a0c127",
   "metadata": {},
   "outputs": [
    {
     "name": "stdout",
     "output_type": "stream",
     "text": [
      "MlM_gen(persons.EqSet.equal, person_adjs.SymSet.equal) (cxt_len=2, abstract=0)\n",
      " [-1] root labels┐\n",
      "                 └[0] top[0] 16-7 attn_labels┐\n",
      "                                             └[1] top[0, 1] 12-10,8-1┐\n",
      "                                                                     └*[2] top[0, 1, 2, 3, 4] 6-2,8-7,3-12,1-7,6-10...\n"
     ]
    }
   ],
   "source": [
    "print(key); node = add_node_to_result(result, topi=[0,1,2,3,4])"
   ]
  },
  {
   "cell_type": "code",
   "execution_count": null,
   "id": "66abd13c",
   "metadata": {},
   "outputs": [],
   "source": [
    "key = 'MlM_gen(persons.EqSet.equal, person_adjs.SymSet.opposite) (cxt_len=2, abstract=0)'; result = results[key]\n",
    "node, data_tuples = show_result(result)"
   ]
  },
  {
   "cell_type": "code",
   "execution_count": 412,
   "id": "b9a226df",
   "metadata": {},
   "outputs": [
    {
     "name": "stdout",
     "output_type": "stream",
     "text": [
      "MlM_gen(persons.EqSet.equal, person_adjs.SymSet.opposite) (cxt_len=2, abstract=0)\n",
      "                 ┌[0] top[0] 16-14 argmax_attn_labels┐\n",
      "                 │                                   └[1] top[0, 1] 8-1,12-10┐\n",
      "                 │                                                           └[2] top[0] 7-9\n",
      " [-1] root labels┤\n",
      "                 └[0] top[0] 16-14 attn_labels┐\n",
      "                                              └[1] top[0, 1] 8-1,12-10┐\n",
      "                                                                      └*[2] top[0] 7-9...\n"
     ]
    }
   ],
   "source": [
    "print(key); node = add_node_to_result(result, topi=[0,])#, label_type='attn_labels')"
   ]
  },
  {
   "cell_type": "markdown",
   "id": "51d8dd04",
   "metadata": {},
   "source": [
    "### thing->type"
   ]
  },
  {
   "cell_type": "code",
   "execution_count": 315,
   "id": "22d50e84",
   "metadata": {},
   "outputs": [
    {
     "name": "stdout",
     "output_type": "stream",
     "text": [
      "MlM_gen(persons.EqSet.equal, types_of_things.TreeSet.equal) (cxt_len=1, abstract=0): 0.032, 1.0\n",
      "MlM_gen(persons.EqSet.equal, types_of_things.TreeSet.equal) (cxt_len=1, abstract=1): 0.117, 0.90625\n",
      "MlM_gen(persons.EqSet.equal, types_of_things.TreeSet.equal) (cxt_len=2, abstract=0): 0.594, 0.65625\n",
      "MlM_gen(persons.EqSet.equal, types_of_things.TreeSet.equal) (cxt_len=2, abstract=1): 1.354, 0.53125\n",
      "MlM_gen(persons.EqSet.equal, types_of_things.TreeSet.parent) (cxt_len=1, abstract=0): 0.793, 0.625\n",
      "MlM_gen(persons.EqSet.equal, types_of_things.TreeSet.parent) (cxt_len=1, abstract=1): 0.286, 0.8125\n",
      "MlM_gen(persons.EqSet.equal, types_of_things.TreeSet.parent) (cxt_len=2, abstract=0): 2.174, 0.46875\n",
      "MlM_gen(persons.EqSet.equal, types_of_things.TreeSet.parent) (cxt_len=2, abstract=1): 1.824, 0.46875\n",
      "MlM_gen(persons.EqSet.equal, person_adjs.SymSet.equal) (cxt_len=1, abstract=0): 0.048, 0.875\n",
      "MlM_gen(persons.EqSet.equal, person_adjs.SymSet.equal) (cxt_len=1, abstract=1): 0.191, 0.90625\n",
      "MlM_gen(persons.EqSet.equal, person_adjs.SymSet.equal) (cxt_len=2, abstract=0): 1.170, 0.5\n",
      "MlM_gen(persons.EqSet.equal, person_adjs.SymSet.equal) (cxt_len=2, abstract=1): 1.368, 0.59375\n",
      "MlM_gen(persons.EqSet.equal, person_adjs.SymSet.opposite) (cxt_len=1, abstract=0): 0.434, 0.71875\n",
      "MlM_gen(persons.EqSet.equal, person_adjs.SymSet.opposite) (cxt_len=1, abstract=1): 0.816, 0.65625\n",
      "MlM_gen(persons.EqSet.equal, person_adjs.SymSet.opposite) (cxt_len=2, abstract=0): 2.772, 0.3125\n",
      "MlM_gen(persons.EqSet.equal, person_adjs.SymSet.opposite) (cxt_len=2, abstract=1): 2.973, 0.28125\n"
     ]
    }
   ],
   "source": [
    "for key, result in results.items(): print(f\"{key}: {result.mean_loss:.3f}, {result.mean_acc}\")  # old full"
   ]
  },
  {
   "cell_type": "code",
   "execution_count": null,
   "id": "d45e7be3",
   "metadata": {},
   "outputs": [],
   "source": [
    "key = 'MlM_gen(persons.EqSet.equal, types_of_things.TreeSet.parent) (cxt_len=1, abstract=0)'; result = results[key]\n",
    "node, data_tuples = show_result(result)"
   ]
  },
  {
   "cell_type": "code",
   "execution_count": null,
   "id": "fe516f4a",
   "metadata": {},
   "outputs": [],
   "source": [
    "print(key); node = add_node_to_result(result, topi=[1, 2])"
   ]
  },
  {
   "cell_type": "code",
   "execution_count": null,
   "id": "94799e16",
   "metadata": {},
   "outputs": [],
   "source": [
    "key = 'MlM_gen(persons.EqSet.equal, types_of_things.TreeSet.equal) (cxt_len=2, abstract=0)'; result = results[key]\n",
    "node, data_tuples = show_result(result)"
   ]
  },
  {
   "cell_type": "code",
   "execution_count": 151,
   "id": "f4b745c2",
   "metadata": {},
   "outputs": [
    {
     "name": "stdout",
     "output_type": "stream",
     "text": [
      "MlM_gen(persons.EqSet.equal, types_of_things.TreeSet.equal) (cxt_len=2, abstract=0)\n",
      " [-1] root labels┐\n",
      "                 └[0] top[0] 16-7 attn_labels┐\n",
      "                                             └[1] top[0] 12-10┐\n",
      "                                                              └*[2] top[0, 1, 2, 3, 4] 8-7,6-2,6-10,3-12,1-7...\n"
     ]
    }
   ],
   "source": [
    "print(key); node = add_node_to_result(result, topi=[0, 1, 2, 3, 4])"
   ]
  },
  {
   "cell_type": "code",
   "execution_count": null,
   "id": "414c7caa",
   "metadata": {},
   "outputs": [],
   "source": [
    "key = 'MlM_gen(persons.EqSet.equal, types_of_things.TreeSet.parent) (cxt_len=2, abstract=0)'; result = results[key]\n",
    "node, data_tuples = show_result(result)"
   ]
  },
  {
   "cell_type": "code",
   "execution_count": 206,
   "id": "819f6256",
   "metadata": {},
   "outputs": [
    {
     "name": "stdout",
     "output_type": "stream",
     "text": [
      "MlM_gen(persons.EqSet.equal, types_of_things.TreeSet.parent) (cxt_len=2, abstract=0)\n",
      "                 ┌[0] top[0, 1, 3] 20-5,21-5,15-8 argmax_attn_labels┐\n",
      "                 │                                                  └[1] top[0, 1] 8-1,12-10┐\n",
      "                 │                                                                          └[2] top[0, 1, 3] 5-12,3-12,7-2\n",
      " [-1] root labels┤\n",
      "                 ├[0] top[0, 1, 3] 20-5,21-5,15-8 attn_labels┐\n",
      "                 │                                           └[1] top[0, 1] 8-1,12-10┐\n",
      "                 │                                                                   └*[2] top[0, 1, 2] 5-12,3-12,7-2...\n",
      "                 └[0] 11-9 attn_labels┐\n",
      "                                      └[1] top[0] 8-1┐\n",
      "                                                     └[2] top[0, 1] 3-12,7-2\n"
     ]
    }
   ],
   "source": [
    "print(key); node = add_node_to_result(result, topi=[0,1,2])#, label_type='attn_labels')"
   ]
  },
  {
   "cell_type": "code",
   "execution_count": null,
   "id": "9e68100c",
   "metadata": {},
   "outputs": [],
   "source": [
    "# seed(1234); torch.cuda.empty_cache()\n",
    "model_names = ['EleutherAI/gpt-j-6B/cpu', 'EleutherAI/gpt-neox-20b', #'EleutherAI/gpt-neox-20b/cpu', \n",
    "               'text-curie-001', 'text-davinci-001', 'text-davinci-002'][:1]\n",
    "metrics = dict(losses=defaultdict(list), accuracies=defaultdict(list))\n",
    "\n",
    "def batch_predict(model, tokenizer):\n",
    "    return [predict(model, tokenizer, text, examples, k_shot=k_shot, custom_forward=False, # avoid computing head_inputs\n",
    "                    bos_token=bos_token, eos_token=eos_token, verbose=len(model_names) == 1)[1]\n",
    "            for text, examples in zip(texts, all_examples)]\n",
    "    \n",
    "with Timer('pmapped batch_predict'):\n",
    "    parallel = len(model_names) > 1\n",
    "    pool = Pool(len(model_names)) if parallel else itertools  # with Pool(len(model_names)) as pool:\n",
    "    results = pool.starmap(batch_predict, [models[model_name] for model_name in model_names])\n",
    "    if parallel: pool.close(); pool.join()\n",
    "            \n",
    "# query2acc, query2loss = defaultdict(list), defaultdict(list)\n",
    "for model_name, r in zip(model_names, results):\n",
    "    _, tokenizer = models[model_name]\n",
    "    for i, (loss, top1_corrects, answer_indices, answer_probs, candidate_probs) in enumerate(r):#.get()\n",
    "        acc = top1_corrects[k_shot:] # np.array(top1_corrects[k_shot:]).mean()\n",
    "        metrics['losses'][model_name].append(loss); metrics['accuracies'][model_name].append(acc)\n",
    "        if batch_size == 1: print(model_name, loss, acc)\n",
    "#         queries = [e[1] for e in _examples_list[i]][k_shot:]\n",
    "#         for q, a, l in zip(queries, acc, loss): query2acc[q].append(float(a)); query2loss[q].append(l)\n",
    "# print(sorted([(q, np.array(v).mean()) for q, v in query2acc.items()], key=lambda x: x[1]))"
   ]
  },
  {
   "cell_type": "code",
   "execution_count": 156,
   "id": "89581697",
   "metadata": {},
   "outputs": [
    {
     "name": "stdout",
     "output_type": "stream",
     "text": [
      "accuracies EleutherAI/gpt-j-6B/cpu 0.4444444444444444\n",
      "accuracies EleutherAI/gpt-neox-20b 0.5555555555555556\n",
      "accuracies text-curie-001 0.3333333333333333\n",
      "losses EleutherAI/gpt-j-6B/cpu 3.0475401878356934\n",
      "losses EleutherAI/gpt-neox-20b 2.3752387364705405\n",
      "losses text-curie-001 5.4890399882962955\n"
     ]
    }
   ],
   "source": [
    "for metric in ['accuracies', 'losses']:\n",
    "    for model_name in model_names[:]:\n",
    "        print(metric, model_name, np.array(metrics[metric][model_name]).mean())"
   ]
  },
  {
   "cell_type": "code",
   "execution_count": 129,
   "id": "4cf1f659",
   "metadata": {},
   "outputs": [],
   "source": [
    "def cmp(a, b):\n",
    "    print(a.dtype, a.size(), b.dtype, b.size())\n",
    "    print('allclose:', torch.allclose(a, b), 'equal:', torch.equal(a, b))\n",
    "    print((a == b).float().mean())\n",
    "    print((a - b).float().abs().mean(), a.float().abs().mean(), b.float().abs().mean())\n",
    "#     print((a - b).max(), (a - b).min())\n",
    "#     print(a[a - b == (a - b).max()])\n",
    "#     print(a[a - b == (a - b).min()])"
   ]
  },
  {
   "cell_type": "code",
   "execution_count": 47,
   "id": "e9cc4497",
   "metadata": {
    "collapsed": true,
    "jupyter": {
     "outputs_hidden": true
    }
   },
   "outputs": [
    {
     "name": "stdout",
     "output_type": "stream",
     "text": [
      " ... done 0:00:02.348918\n",
      " ... done 0:00:01.659792\n",
      " ĠJ 0.032 {'Ċ': 0.074, 'ĠS': 0.038, 'Ġ': 0.036} \t S J Y -> J\n",
      "*ĠN 0.429 {'ĠN': 0.429, 'ĠR': 0.223, 'ĠA': 0.074} \t A N R -> N\n",
      " ĠC 0.247 {'ĠV': 0.649, 'ĠC': 0.247, 'ĠB': 0.018} \t B C V -> C\n",
      "*ĠT 0.443 {'ĠT': 0.443, 'ĠK': 0.393, 'ĠS': 0.085} \t S T K -> T\n",
      "*ĠR 0.839 {'ĠR': 0.839, 'ĠT': 0.099, 'ĠA': 0.021} \t A R T -> R\n",
      "*ĠH 0.562 {'ĠH': 0.562, 'ĠQ': 0.278, 'ĠE': 0.112} \t E H Q -> H\n",
      "*ĠO 0.792 {'ĠO': 0.792, 'ĠF': 0.161, 'ĠN': 0.013} \t N O F -> O\n",
      "*ĠA 0.626 {'ĠA': 0.626, 'ĠI': 0.225, 'ĠY': 0.11} \t Y A I -> A\n",
      "\n",
      "\n",
      " ĠJ 0.032 {'Ċ': 0.074, 'ĠS': 0.038, 'Ġ': 0.036} \t S J Y -> J\n",
      "*ĠN 0.429 {'ĠN': 0.429, 'ĠR': 0.223, 'ĠA': 0.074} \t A N R -> N\n",
      " ĠC 0.247 {'ĠV': 0.649, 'ĠC': 0.247, 'ĠB': 0.018} \t B C V -> C\n",
      "*ĠT 0.443 {'ĠT': 0.443, 'ĠK': 0.393, 'ĠS': 0.085} \t S T K -> T\n",
      "*ĠR 0.839 {'ĠR': 0.839, 'ĠT': 0.099, 'ĠA': 0.021} \t A R T -> R\n",
      "*ĠH 0.562 {'ĠH': 0.562, 'ĠQ': 0.278, 'ĠE': 0.112} \t E H Q -> H\n",
      "*ĠO 0.792 {'ĠO': 0.792, 'ĠF': 0.161, 'ĠN': 0.013} \t N O F -> O\n",
      "*ĠA 0.626 {'ĠA': 0.626, 'ĠI': 0.225, 'ĠY': 0.11} \t Y A I -> A\n",
      "\n",
      "\n"
     ]
    }
   ],
   "source": [
    "# text, _examples = texts[0], _examples_list[0]\n",
    "torch.cuda.empty_cache()\n",
    "if True: #def predict2(model, tokenizer, text, _examples):\n",
    "    examples, input_ids, tokens, bos_indices, eos_indices, answers, labels = make_data_tuple(\n",
    "        text, tokenizer, k_shot=k_shot, bos_token=bos_token, eos_token=eos_token)\n",
    "    candidates = [[tokenizer.encode(' ' + token)[0] for token in cands[0]] for _, _, cands, _ in _examples]\n",
    "    with torch.no_grad():\n",
    "        with Timer(): o0 = model(input_ids.to(model.device), output_attentions=True, output_hidden_states=True)\n",
    "        with Timer(): o1 = forward0(model, input_ids.to(model.device), labels=labels.to(model.device),\n",
    "                by_head=['head_input0', 'head_output0'], attn_weights=None, output_hidden_states=True)\n",
    "        for o in [o0, o1]:\n",
    "            logits = o.logits\n",
    "            if isinstance(logits, torch.Tensor): logits = logits.to('cpu').float()# softmax on cpu needs float32\n",
    "            loss, top1_corrects, answer_probs, candidate_probs = show_predictions(\n",
    "                examples, tokenizer, logits, bos_indices, eos_indices, answers, labels, loss_reduction='none',\n",
    "                candidates=candidates, k_shot=k_shot, topk=3, verbose=True)\n",
    "            print('\\n')\n",
    "#     return loss, top1_corrects, answer_probs, candidate_probs"
   ]
  },
  {
   "cell_type": "code",
   "execution_count": 69,
   "id": "9a74c135",
   "metadata": {},
   "outputs": [],
   "source": []
  },
  {
   "cell_type": "code",
   "execution_count": 176,
   "id": "20a661b0",
   "metadata": {},
   "outputs": [
    {
     "name": "stdout",
     "output_type": "stream",
     "text": [
      "accuracies EleutherAI/gpt-j-6B 0.4976851851851852\n",
      "accuracies EleutherAI/gpt-neox-20b 0.5023148148148148\n",
      "accuracies text-davinci-001 0.48148148148148145\n",
      "accuracies text-davinci-002 0.9675925925925926\n",
      "losses EleutherAI/gpt-j-6B 1.3536101162543572\n",
      "losses EleutherAI/gpt-neox-20b 1.1634638377252957\n",
      "losses text-davinci-001 1.687816629922939\n",
      "losses text-davinci-002 0.1085046497381794\n"
     ]
    }
   ],
   "source": [
    "for metric in ['accuracies', 'losses']:\n",
    "    for model_name in model_names[:]:\n",
    "        print(metric, model_name, np.array(metrics[metric][model_name]).mean())"
   ]
  },
  {
   "cell_type": "code",
   "execution_count": 136,
   "id": "26aaa1d4",
   "metadata": {},
   "outputs": [
    {
     "name": "stdout",
     "output_type": "stream",
     "text": [
      "accuracies EleutherAI/gpt-j-6B 0.6203703703703703\n",
      "accuracies EleutherAI/gpt-neox-20b 0.7083333333333334\n",
      "accuracies text-curie-001 0.5879629629629629\n",
      "losses EleutherAI/gpt-j-6B 1.5619440356433054\n",
      "losses EleutherAI/gpt-neox-20b 1.0779137232247094\n",
      "losses text-curie-001 3.1073556870623844\n"
     ]
    }
   ],
   "source": [
    "for metric in ['accuracies', 'losses']:\n",
    "    for model_name in model_names[:]:\n",
    "        print(metric, model_name, np.array(metrics[metric][model_name])[:,:27].mean())"
   ]
  },
  {
   "cell_type": "code",
   "execution_count": null,
   "id": "0cba876d",
   "metadata": {},
   "outputs": [],
   "source": [
    "for metric in ['accuracies', 'losses']:\n",
    "    _ = plt.figure(figsize=(10, 3));\n",
    "    for model_name in model_names[:2]:\n",
    "        plt.plot(np.array(metrics[metric][model_name])[:].mean(0), label=f'{model_name}');\n",
    "    _ = plt.legend();  _ = plt.title(metric); _ = plt.show();"
   ]
  },
  {
   "cell_type": "code",
   "execution_count": 11,
   "id": "60515185",
   "metadata": {},
   "outputs": [],
   "source": [
    "time2prep = {tuple(clock_of_day): 'at', tuple(days_of_week): 'on', tuple(months): 'in'}\n",
    "def lookup_item2str(item, vocab=None):\n",
    "    if vocab[0] in [clock_of_day, days_of_week, months]:\n",
    "        prep = time2prep[tuple(vocab[0])]\n",
    "        return f'{item[1]} came {prep} {item[0]}'\n",
    "    elif vocab[0] == digits:\n",
    "        return f'{item[1]} is {item[0]}'\n",
    "def lookup_query2str(query, vocab=None, rel_name=None):\n",
    "    if vocab[0] in [clock_of_day, days_of_week, months]:\n",
    "        prep = time2prep[tuple(vocab[0])]\n",
    "        prep = {'prev': 'just before', 'next': 'just after', 'same': prep}[rel_name]\n",
    "        return f'Who came {prep} {query}?'\n",
    "    elif vocab[0] == digits:\n",
    "        prep = {'prev': 'a year younger than', 'next': 'a year younger than', 'same': ''}[rel_name]\n",
    "        return f'Who is {prep} {query}'"
   ]
  },
  {
   "cell_type": "code",
   "execution_count": 81,
   "id": "1ed9c29d",
   "metadata": {},
   "outputs": [],
   "source": [
    "text = '''Aaren is a boy. Harlow is a girl.\n",
    "Harlow called Aaren.\n",
    "Harlow: \"Are you a girl?\"\n",
    "Aaren: \"'''\n",
    "model_name = 'EleutherAI/gpt-j-6B'\n",
    "model, tokenizer = models[model_name]\n",
    "input_ids = tokenizer.encode(text, return_tensors='pt')\n",
    "logits = model(input_ids.to(getattr(model, 'device', 'cpu'))).logits"
   ]
  },
  {
   "cell_type": "code",
   "execution_count": 80,
   "id": "6e43fb02",
   "metadata": {},
   "outputs": [
    {
     "data": {
      "text/plain": [
       "{'Yes': 0.35, 'No': 0.226, 'Yeah': 0.078, 'I': 0.078, 'Y': 0.021}"
      ]
     },
     "execution_count": 80,
     "metadata": {},
     "output_type": "execute_result"
    }
   ],
   "source": [
    "show_topk(*logits[0][-1].softmax(-1).topk(5), indices_fn=tokenizer.convert_ids_to_tokens)"
   ]
  },
  {
   "cell_type": "code",
   "execution_count": 75,
   "id": "6c3d4809",
   "metadata": {},
   "outputs": [
    {
     "data": {
      "text/plain": [
       "{'No': 0.824, 'Yes': 0.115, 'I': 0.04, 'What': 0.006, ' No': 0.003}"
      ]
     },
     "execution_count": 75,
     "metadata": {},
     "output_type": "execute_result"
    }
   ],
   "source": [
    "get_prob_dist(logits.top_logprobs[-1], 5)"
   ]
  },
  {
   "cell_type": "code",
   "execution_count": 155,
   "id": "2e5780be",
   "metadata": {},
   "outputs": [
    {
     "data": {
      "text/plain": [
       "[('▁The', 37),\n",
       " ('▁capital', 1784),\n",
       " ('▁of', 13),\n",
       " ('▁Canada', 1894),\n",
       " ('▁is', 19),\n",
       " ('</s>', 1)]"
      ]
     },
     "execution_count": 155,
     "metadata": {},
     "output_type": "execute_result"
    },
    {
     "data": {
      "text/plain": [
       "'Ottawa. It is the largest city in Canada'"
      ]
     },
     "execution_count": 155,
     "metadata": {},
     "output_type": "execute_result"
    }
   ],
   "source": [
    "text = 'The capital of Canada is'\n",
    "input_ids = tokenizer(text, return_tensors='pt').input_ids\n",
    "list(zip(tokenizer.convert_ids_to_tokens(input_ids[0]), input_ids[0].numpy()))\n",
    "outputs = model.generate(input_ids, max_length=10)\n",
    "tokenizer.decode(outputs[0], skip_special_tokens=True)"
   ]
  },
  {
   "cell_type": "code",
   "execution_count": 478,
   "id": "8c9c689c",
   "metadata": {},
   "outputs": [],
   "source": [
    "# nrows = 5; k_shot = nrows // 2 + 1\n",
    "# for pairs in [drop_first_and_last, ]:\n",
    "nrows = 6;  k_shot = 3\n",
    "for pairs in reversible_transformations + irreversible_transformations:\n",
    "    seps = [' -> ', '->'] if random.random() < 0.5 else ['->', ' -> ']\n",
    "    # seps = [' -> ', ' -> ']\n",
    "    samples = ['\\n' + '\\n'.join(a + seps[0] + b for a, b in sample(pairs, nrows)) + '\\n']\n",
    "    for s in samples: data_tuples.append(list(make_data_tuple(s, tokenizer, k_shot=k_shot, bos_token=tokenizer.tokenize(seps[0])[0])))\n",
    "    samples = ['\\n' + '\\n'.join(b + seps[1] + a for a, b in sample(pairs, nrows)) + '\\n' if pairs in reversible_transformations else \n",
    "                '\\n' + '\\n'.join(a + seps[1] + b for a, b in sample(pairs, nrows)) + '\\n']\n",
    "    for s in samples: data_tuples.append(list(make_data_tuple(s, tokenizer, k_shot=k_shot, bos_token=tokenizer.tokenize(seps[1])[0])))"
   ]
  },
  {
   "cell_type": "code",
   "execution_count": null,
   "id": "da2f807e",
   "metadata": {},
   "outputs": [],
   "source": [
    "# # sys.path.insert(0, '/nas/xd/projects/ec')\n",
    "# from child_utils import loadPBETasks, retrieveJSONTasks\n",
    "# challenge, challengeCheating = loadPBETasks('/nas/xd/projects/ec/PBE_Strings_Track')\n",
    "# challenge2, challengeCheating2 = loadPBETasks('/nas/xd/projects/ec/data/sygus')\n",
    "# tasks = retrieveJSONTasks(\"/nas/xd/projects/ec/data/list_tasks.json\")\n",
    "# tasks2 = retrieveJSONTasks(\"/nas/xd/projects/ec/data/list_tasks2.json\")"
   ]
  },
  {
   "cell_type": "code",
   "execution_count": null,
   "id": "e1ff8618",
   "metadata": {},
   "outputs": [],
   "source": [
    "from lxy_utils import get_examples_behind, get_examples_before, get_examples_query_before, \\\n",
    "    get_examples_query_behid, get_examples_query_repeat"
   ]
  },
  {
   "cell_type": "code",
   "execution_count": null,
   "id": "432fcd8a",
   "metadata": {},
   "outputs": [],
   "source": [
    "reversible_transformations = [list(digit2cardinal.items()), noun2adj, lxy, verb_form, country2capital, en2fr, antonyms]\n",
    "irreversible_transformations = [capabilities]"
   ]
  },
  {
   "cell_type": "code",
   "execution_count": null,
   "id": "d59cbab6",
   "metadata": {},
   "outputs": [],
   "source": []
  },
  {
   "cell_type": "code",
   "execution_count": 197,
   "id": "fbc67151",
   "metadata": {},
   "outputs": [
    {
     "name": "stdout",
     "output_type": "stream",
     "text": [
      "EleutherAI/gpt-j-6B ... done 0:00:01\n",
      "* C 0.842 {' C': 0.842, ' A': 0.041, ' B': 0.04} \t D -> C\n",
      "* Thursday 0.778 {' Thursday': 0.778, ' Wednesday': 0.064, ' Friday': 0.063} \t Friday -> Thursday\n",
      "* a 0.742 {' a': 0.742, ' c': 0.051, ' A': 0.036} \t b -> a\n",
      "* four 0.472 {' four': 0.472, ' three': 0.246, ' one': 0.105} \t five -> four\n",
      "tensor(0.3677, grad_fn=<NllLossBackward>) True \n",
      "\n",
      "0.3677041530609131\n"
     ]
    }
   ],
   "source": [
    "losses = []\n",
    "for model_name, (model, tokenizer) in models.items():\n",
    "    if any(model_name.startswith(s) for s in ['gpt2-', 'KoboldAI/fairseq-dense', 'text-davinci-001', ]): continue\n",
    "    if not model_name == 'EleutherAI/gpt-j-6B': continue\n",
    "    if not isinstance(model, types.FunctionType): _ = model.eval()\n",
    "    with Timer(model_name): outputs = model(**inputs)\n",
    "    options_ids_list = [[tokenizer.encode(' ' + option)[0] for option in options] for cxt, query, options, ans in _examples]\n",
    "    mask_logits_fn = partial(mask_logits, indices=bos_indices, kept_ids=options_ids_list)\n",
    "    loss, all_top1_correct = show_predictions(text, examples, tokenizer, outputs.logits, bos_indices, eos_indices, answers, labels,\n",
    "                    mask_logits_fn=None, topk=3, loss_reduction='mean', show_range=range(k_shot, len(examples)), sep='\\t')\n",
    "    print(loss, all_top1_correct, '\\n')\n",
    "    losses.append(loss.item() if hasattr(loss, 'item') else loss)\n",
    "    if model_name == 'EleutherAI/gpt-j-6B': break\n",
    "print(sum(losses) / len(losses))"
   ]
  },
  {
   "cell_type": "code",
   "execution_count": 24,
   "id": "bc90b0db",
   "metadata": {},
   "outputs": [],
   "source": [
    "relational_functions = [prev(), next()]\n",
    "rel_fns = [prevs, nexts]"
   ]
  },
  {
   "cell_type": "markdown",
   "id": "92834550",
   "metadata": {},
   "source": [
    "**TODO: read children books for more posets**  \n",
    "**TODO: Prompt gpt3 to elicit the posets it knows**  \n",
    "$x \\to f(x)$ where $f \\in \\{\\text{prev/next in posets of numbers/letters/months/days, antonym, hypernym, hyponym, ...}\\}$  \n",
    "$x \\to f^2(x)$  \n",
    "one poset or mixed posets  \n",
    "$x, f(x).~y \\to Ff^{[-1]}(y)$ one poset or mixed posets  \n",
    "$x, f^k(x).~y \\to Ff^{[-1]}(y)~/Ff^{[-]k}(y)$  \n",
    "$x, f(f(x))~/f(f(x)), x \\to f(x)$ in between, the simplest form of sequence completion  \n",
    "$x, f(x) \\to Gf$ where $Gf \\in \\{<, >\\}$  \n",
    "$x, f(x); y, g(y) \\to Ff \\stackrel{?}{=} g^{[-1]}$ where $\\text{output} \\in \\{\\text{True}, \\text{False}\\}$  \n",
    "sort\n",
    "\n",
    "There is a *natural* monotone map/functor $F$ between posets/sets $A$ and $B$.  Compose the computation (set operations, sorting etc.) between $A$ and $B$ with $F$ to make harder tasks.  \n",
    "$P(A) ,P(B) \\to F(P(A)) \\setminus ~/ \\cap ~/ \\triangle P(B)$. Harder form of set difference/intersection.  \n",
    "$P(A) \\to F(\\text{sorted}(P(A)))$. Harder form of sorting.\n"
   ]
  },
  {
   "cell_type": "code",
   "execution_count": null,
   "id": "4504ae9b",
   "metadata": {},
   "outputs": [],
   "source": []
  },
  {
   "cell_type": "code",
   "execution_count": 385,
   "id": "17373019",
   "metadata": {},
   "outputs": [
    {
     "name": "stdout",
     "output_type": "stream",
     "text": [
      "Instruction: replace with the other. For example:\n",
      "G H G G G -> H G H H H\n",
      "I I I I M -> M M M M I\n",
      "A A F A A -> F F A F F\n",
      "9 9 9 I I -> I I I 9 9\n",
      "\n",
      "Instruction: replace with the other. For example:\n",
      "V Q Q V V -> Q V V Q Q\n",
      "G L L G L -> L G G L G\n",
      "G 2 2 2 G -> 2 G G G 2\n",
      "I I Z Z Z -> Z Z I I I\n",
      "\n",
      "Instruction: replace with the other. For example:\n",
      "R H H H R -> H R R R H\n",
      "B 9 9 B B -> 9 B B 9 9\n",
      "D 2 2 2 D -> 2 D D D 2\n",
      "A A A A W -> W W W W A\n",
      "\n"
     ]
    }
   ],
   "source": [
    "n_total, n_valid = 192, 64\n",
    "n_train = n_total - n_valid\n",
    "\n",
    "input_strs = [make_input_str(tasks[4], nrows=4, ncols=5) for __ in range(n_total)]\n",
    "for s in sample(input_strs, 3): print(s)"
   ]
  },
  {
   "cell_type": "code",
   "execution_count": 368,
   "id": "f7d6edbc",
   "metadata": {},
   "outputs": [
    {
     "data": {
      "text/plain": [
       "370"
      ]
     },
     "execution_count": 368,
     "metadata": {},
     "output_type": "execute_result"
    }
   ],
   "source": [
    "sum(s.count('Yes') for s in input_strs)"
   ]
  },
  {
   "cell_type": "code",
   "execution_count": 322,
   "id": "e2f80b74",
   "metadata": {},
   "outputs": [],
   "source": [
    "train_dataset = CHILDDataset(input_strs[:-n_valid], tokenizer)\n",
    "eval_dataset = CHILDDataset(input_strs[-n_valid:], tokenizer)"
   ]
  },
  {
   "cell_type": "code",
   "execution_count": 121,
   "id": "3185653b",
   "metadata": {},
   "outputs": [],
   "source": [
    "if n_total == 1:\n",
    "    inputs = tokenizer.encode_plus(text, return_tensors='pt')\n",
    "    inputs = prepare_inputs(inputs, model.device)\n",
    "    outputs = model(**inputs, output_attentions=False)\n",
    "\n",
    "    # assert inputs.input_ids.size(0) == 1\n",
    "    input_ids = inputs.input_ids\n",
    "    logits = outputs.logits\n",
    "\n",
    "    bsz = input_ids.size(0); assert bsz == 1\n",
    "    labels = torch.ones_like(input_ids) * (-100)\n",
    "    for bi in range(bsz):\n",
    "        bos_indices = (input_ids[bi] == bos_id).nonzero().squeeze(1)\n",
    "        eos_indices = (input_ids[bi] == eos_id).nonzero()[-nrows:].squeeze(1)\n",
    "        for i, (example, bos_i, eos_i) in enumerate(zip(examples, bos_indices.tolist(), eos_indices.tolist())):\n",
    "            print(' ' + make_example_str(example))\n",
    "            ans_ids = input_ids[bi, bos_i + 1: eos_i]\n",
    "            if i >= 2: labels[bi, bos_i: eos_i - 1] = ans_ids\n",
    "            ans_prob_dist = logits[bi, bos_i: eos_i - 1].softmax(-1)\n",
    "            ans_probs = ans_prob_dist[torch.arange(ans_prob_dist.size(0)), ans_ids]\n",
    "            ans_tokens = tokenizer.convert_ids_to_tokens(ans_ids)\n",
    "            for ans_id, ans_token, ans_prob, dist in zip(ans_ids, ans_tokens, numpy(ans_probs, decimals=3), ans_prob_dist):\n",
    "                top1_correct = (dist.argmax() == ans_id).item()\n",
    "                print(('*' if top1_correct else ' ') + ans_token, ans_prob, \n",
    "                      show_topk(*dist.topk(5), indices_fn=tokenizer.convert_ids_to_tokens)) \n",
    "    loss = nn.CrossEntropyLoss()(logits.view(-1, logits.size(-1)), labels.view(-1))\n",
    "    loss"
   ]
  },
  {
   "cell_type": "code",
   "execution_count": 329,
   "id": "6ebf074a",
   "metadata": {},
   "outputs": [],
   "source": [
    "training_args = TrainingArguments(output_dir=\"./models/model_name\", \n",
    "    overwrite_output_dir=True, do_train=True, do_eval=True,\n",
    "    per_device_train_batch_size=16, per_device_eval_batch_size=16,\n",
    "    weight_decay=0.01, adam_beta2=0.98, adam_epsilon=1e-6,\n",
    "    lr_scheduler_type='constant', learning_rate=5e-3, num_train_epochs=4,\n",
    "    logging_strategy ='epoch', evaluation_strategy ='epoch', save_steps=0,\n",
    "    no_cuda=True, report_to='none',  # to avoid report to wandb\n",
    ")"
   ]
  },
  {
   "cell_type": "code",
   "execution_count": 330,
   "id": "d89c7d7b",
   "metadata": {},
   "outputs": [],
   "source": [
    "trainer = Trainer(model, training_args, train_dataset=train_dataset, eval_dataset=eval_dataset,\n",
    "                  optimizers=(create_optimizer(model, training_args), None))"
   ]
  },
  {
   "cell_type": "code",
   "execution_count": 333,
   "id": "b37a9874",
   "metadata": {},
   "outputs": [
    {
     "data": {
      "text/plain": [
       "True"
      ]
     },
     "execution_count": 333,
     "metadata": {},
     "output_type": "execute_result"
    }
   ],
   "source": [
    "trainer.place_model_on_device"
   ]
  },
  {
   "cell_type": "code",
   "execution_count": null,
   "id": "9b4b3eca",
   "metadata": {},
   "outputs": [],
   "source": [
    "def get_prev(elem):\n",
    "    i, v = elem\n",
    "    return _l[i - 1] if i > 0 else None\n",
    "\n",
    "false = lambda *_: False\n",
    "true  = lambda *_: True"
   ]
  },
  {
   "cell_type": "code",
   "execution_count": null,
   "id": "721cb66f",
   "metadata": {},
   "outputs": [],
   "source": [
    "Element = namedtuple('Element', 'index value')\n",
    "_l = 'A B C B'.split()\n",
    "n = len(_l)\n",
    "# l = [Element._make(e) for e in enumerate(l)]\n",
    "l = seq(_l)\n",
    "l = l.enumerate().map(Element._make)"
   ]
  },
  {
   "cell_type": "code",
   "execution_count": 6,
   "id": "9f22f664",
   "metadata": {},
   "outputs": [],
   "source": [
    "l.map(lambda x: {'B': 'D'}.get(x, x))\n",
    "\n",
    "l.filter(lambda x: get_prev(x) == 'B').select(_.value)\n",
    "\n",
    "find_fn = _.index == 1\n",
    "l.filter(find_fn).select(_.value).map(lower)\n",
    "\n",
    "find_fn = _.value == 'C'\n",
    "l.filter(find_fn).select(_.index)\n",
    "\n",
    "# move x to first\n",
    "update_filter = _.value == 'C'\n",
    "get_new = lambda x: -1\n",
    "l.map(lambda x: Element(update_fn(x, 'index'), x.value)).order_by(_.index).select(_.value)\n",
    "\n",
    "# swap first and last\n",
    "update_filter = true\n",
    "get_new = lambda x: {0: n - 1, n - 1: 0}.get(x.index, x.index)\n",
    "l.map(lambda x: Element(update_fn(x, 'index'), x.value)).order_by(_.index).select(_.value)\n",
    "\n",
    "# get inbetween == drop_while + take_while?\n",
    "\n",
    "# update by index to its prev\n",
    "update_filter = _.index == 1\n",
    "get_new = lambda x: get_prev(x)\n",
    "def update_fn(x, update_field): return get_new(x) if update_filter(x) else getattr(x, update_field)\n",
    "l.map(lambda x: Element(x.index, update_fn(x, 'value')))\n",
    "\n",
    "# if two adjacent elements by indices are equal\n",
    "l.filter(lambda x: x.index in [0, 1]).select(_.value).distinct().len() == 1\n",
    "\n",
    "seq('A B C B C'.split()).group_by(_).select(_[1]).flatten()\n",
    "\n",
    "# count occurance till current\n",
    "seq('A B A C B A'.split()).inits().reverse().tail().map(lambda x: x.filter(_ == x.last()).len())\n",
    "\n",
    "# find special\n",
    "seq('A B A A'.split()).count_by_value().filter(_[1] == 1).select(_[0])\n",
    "\n",
    "# generalized find special\n",
    "seq('A A B C C D D'.split()).group_by(_).map(lambda x: (x[0], len(x[1]))).filter(_[1] == 1).select(_[0])"
   ]
  }
 ],
 "metadata": {
  "kernelspec": {
   "display_name": "Python 3",
   "language": "python",
   "name": "python3"
  },
  "language_info": {
   "codemirror_mode": {
    "name": "ipython",
    "version": 3
   },
   "file_extension": ".py",
   "mimetype": "text/x-python",
   "name": "python",
   "nbconvert_exporter": "python",
   "pygments_lexer": "ipython3",
   "version": "3.7.11"
  },
  "vscode": {
   "interpreter": {
    "hash": "31f2aee4e71d21fbe5cf8b01ff0e069b9275f58929596ceb00d14d90e3e16cd6"
   }
  }
 },
 "nbformat": 4,
 "nbformat_minor": 5
}
