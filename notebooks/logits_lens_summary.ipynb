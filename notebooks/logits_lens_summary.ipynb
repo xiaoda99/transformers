{
 "cells": [
  {
   "cell_type": "code",
   "execution_count": 1,
   "id": "1abea12f",
   "metadata": {},
   "outputs": [],
   "source": [
    "from IPython import get_ipython\n",
    "import IPython\n",
    "%load_ext autoreload\n",
    "%autoreload 2\n",
    "\n",
    "from IPython.core.interactiveshell import InteractiveShell\n",
    "InteractiveShell.ast_node_interactivity = 'all'\n",
    "from IPython.display import HTML\n",
    "import os"
   ]
  },
  {
   "cell_type": "code",
   "execution_count": 2,
   "id": "7128663e",
   "metadata": {},
   "outputs": [],
   "source": [
    "paths = os.listdir('./results_logits_lens/')\n",
    "# task_names1 = ['capital2country','country2capital']\n",
    "# task_names2 = ['did2do-tense','do2did-tense']\n",
    "# task_names3 = ['do2did-day','did2do-day']\n",
    "# task_names4 = ['up2low-word','low2up-word']\n",
    "# task_names5 = ['up2low-letter','low2up-letter']\n",
    "# tasks = task_names1+task_names2+task_names3+task_names4+task_names5"
   ]
  },
  {
   "cell_type": "code",
   "execution_count": 3,
   "id": "38ba610d",
   "metadata": {},
   "outputs": [],
   "source": [
    "def display_html(path):\n",
    "    heatmap=True if 'heatmap' in path else False\n",
    "    url = f\"http://192.168.53.12:8889/view/results_logits_lens/{path}\".replace(' ', '%20')\n",
    "    print(url)\n",
    "    if heatmap:\n",
    "        if 'GPT2' in path:\n",
    "            print('GPT2')\n",
    "            iframe = '<iframe src=' + url + ' width=1000 height=1000></iframe>'\n",
    "        else:\n",
    "            print('GPTJ')\n",
    "            iframe = '<iframe src=' + url + ' width=1200 height=1000></iframe>'\n",
    "    else:\n",
    "        iframe = '<iframe src=' + url + ' width=1000 height=600></iframe>'\n",
    "    return IPython.display.HTML(iframe)\n",
    "def show(task_names):\n",
    "    for task_name in task_names:\n",
    "        task_paths = sorted([p for p in paths if task_name in p])\n",
    "        for p in task_paths:\n",
    "            display_html(p)"
   ]
  },
  {
   "cell_type": "code",
   "execution_count": 4,
   "id": "a53077dc",
   "metadata": {
    "scrolled": false
   },
   "outputs": [
    {
     "name": "stdout",
     "output_type": "stream",
     "text": [
      "http://192.168.53.12:8889/view/results_logits_lens/batch_logits_lens_model-GPT2LMHeadModel_task-capital2country.html\n"
     ]
    },
    {
     "name": "stderr",
     "output_type": "stream",
     "text": [
      "/nas/shawn_guo/miniconda3/envs/torch1.7/lib/python3.7/site-packages/IPython/core/display.py:724: UserWarning: Consider using IPython.display.IFrame instead\n",
      "  warnings.warn(\"Consider using IPython.display.IFrame instead\")\n"
     ]
    },
    {
     "data": {
      "text/html": [
       "<iframe src=http://192.168.53.12:8889/view/results_logits_lens/batch_logits_lens_model-GPT2LMHeadModel_task-capital2country.html width=1000 height=600></iframe>"
      ],
      "text/plain": [
       "<IPython.core.display.HTML object>"
      ]
     },
     "execution_count": 4,
     "metadata": {},
     "output_type": "execute_result"
    },
    {
     "name": "stdout",
     "output_type": "stream",
     "text": [
      "http://192.168.53.12:8889/view/results_logits_lens/batch_logits_lens_model-GPTJForCausalLM_task-capital2country.html\n"
     ]
    },
    {
     "data": {
      "text/html": [
       "<iframe src=http://192.168.53.12:8889/view/results_logits_lens/batch_logits_lens_model-GPTJForCausalLM_task-capital2country.html width=1000 height=600></iframe>"
      ],
      "text/plain": [
       "<IPython.core.display.HTML object>"
      ]
     },
     "execution_count": 4,
     "metadata": {},
     "output_type": "execute_result"
    },
    {
     "name": "stdout",
     "output_type": "stream",
     "text": [
      "http://192.168.53.12:8889/view/results_logits_lens/logits_diff_heatmap_model-GPT2LMHeadModel_task-capital2country_sample-%20Greece-%20Athens.html\n",
      "GPT2\n"
     ]
    },
    {
     "data": {
      "text/html": [
       "<iframe src=http://192.168.53.12:8889/view/results_logits_lens/logits_diff_heatmap_model-GPT2LMHeadModel_task-capital2country_sample-%20Greece-%20Athens.html width=1000 height=1000></iframe>"
      ],
      "text/plain": [
       "<IPython.core.display.HTML object>"
      ]
     },
     "execution_count": 4,
     "metadata": {},
     "output_type": "execute_result"
    },
    {
     "name": "stdout",
     "output_type": "stream",
     "text": [
      "http://192.168.53.12:8889/view/results_logits_lens/logits_diff_heatmap_model-GPTJForCausalLM_task-capital2country_sample-%20Greece-%20Athens.html\n",
      "GPTJ\n"
     ]
    },
    {
     "data": {
      "text/html": [
       "<iframe src=http://192.168.53.12:8889/view/results_logits_lens/logits_diff_heatmap_model-GPTJForCausalLM_task-capital2country_sample-%20Greece-%20Athens.html width=1200 height=1000></iframe>"
      ],
      "text/plain": [
       "<IPython.core.display.HTML object>"
      ]
     },
     "execution_count": 4,
     "metadata": {},
     "output_type": "execute_result"
    },
    {
     "name": "stdout",
     "output_type": "stream",
     "text": [
      "http://192.168.53.12:8889/view/results_logits_lens/batch_logits_lens_model-GPT2LMHeadModel_task-country2capital.html\n"
     ]
    },
    {
     "data": {
      "text/html": [
       "<iframe src=http://192.168.53.12:8889/view/results_logits_lens/batch_logits_lens_model-GPT2LMHeadModel_task-country2capital.html width=1000 height=600></iframe>"
      ],
      "text/plain": [
       "<IPython.core.display.HTML object>"
      ]
     },
     "execution_count": 4,
     "metadata": {},
     "output_type": "execute_result"
    },
    {
     "name": "stdout",
     "output_type": "stream",
     "text": [
      "http://192.168.53.12:8889/view/results_logits_lens/batch_logits_lens_model-GPTJForCausalLM_task-country2capital.html\n"
     ]
    },
    {
     "data": {
      "text/html": [
       "<iframe src=http://192.168.53.12:8889/view/results_logits_lens/batch_logits_lens_model-GPTJForCausalLM_task-country2capital.html width=1000 height=600></iframe>"
      ],
      "text/plain": [
       "<IPython.core.display.HTML object>"
      ]
     },
     "execution_count": 4,
     "metadata": {},
     "output_type": "execute_result"
    },
    {
     "name": "stdout",
     "output_type": "stream",
     "text": [
      "http://192.168.53.12:8889/view/results_logits_lens/logits_diff_heatmap_model-GPT2LMHeadModel_task-country2capital_sample-%20Athens-%20Greece.html\n",
      "GPT2\n"
     ]
    },
    {
     "data": {
      "text/html": [
       "<iframe src=http://192.168.53.12:8889/view/results_logits_lens/logits_diff_heatmap_model-GPT2LMHeadModel_task-country2capital_sample-%20Athens-%20Greece.html width=1000 height=1000></iframe>"
      ],
      "text/plain": [
       "<IPython.core.display.HTML object>"
      ]
     },
     "execution_count": 4,
     "metadata": {},
     "output_type": "execute_result"
    },
    {
     "name": "stdout",
     "output_type": "stream",
     "text": [
      "http://192.168.53.12:8889/view/results_logits_lens/logits_diff_heatmap_model-GPTJForCausalLM_task-country2capital_sample-%20Athens-%20Greece.html\n",
      "GPTJ\n"
     ]
    },
    {
     "data": {
      "text/html": [
       "<iframe src=http://192.168.53.12:8889/view/results_logits_lens/logits_diff_heatmap_model-GPTJForCausalLM_task-country2capital_sample-%20Athens-%20Greece.html width=1200 height=1000></iframe>"
      ],
      "text/plain": [
       "<IPython.core.display.HTML object>"
      ]
     },
     "execution_count": 4,
     "metadata": {},
     "output_type": "execute_result"
    }
   ],
   "source": [
    "task_names1 = ['capital2country','country2capital']\n",
    "for task_name in task_names1:\n",
    "    task_paths = sorted([p for p in paths if task_name in p])\n",
    "    for p in task_paths:\n",
    "        display_html(p)"
   ]
  },
  {
   "cell_type": "code",
   "execution_count": 22,
   "id": "8cf2a891",
   "metadata": {
    "collapsed": true
   },
   "outputs": [
    {
     "name": "stdout",
     "output_type": "stream",
     "text": [
      "http://192.168.53.12:9001/view/results_logits_lens/batch_logits_lens_model-GPT2LMHeadModel_task-did2do-tense.html\n"
     ]
    },
    {
     "data": {
      "text/html": [
       "<iframe src=http://192.168.53.12:9001/view/results_logits_lens/batch_logits_lens_model-GPT2LMHeadModel_task-did2do-tense.html width=1000 height=600></iframe>"
      ],
      "text/plain": [
       "<IPython.core.display.HTML object>"
      ]
     },
     "execution_count": 22,
     "metadata": {},
     "output_type": "execute_result"
    },
    {
     "name": "stdout",
     "output_type": "stream",
     "text": [
      "http://192.168.53.12:9001/view/results_logits_lens/batch_logits_lens_model-GPTJForCausalLM_task-did2do-tense.html\n"
     ]
    },
    {
     "data": {
      "text/html": [
       "<iframe src=http://192.168.53.12:9001/view/results_logits_lens/batch_logits_lens_model-GPTJForCausalLM_task-did2do-tense.html width=1000 height=600></iframe>"
      ],
      "text/plain": [
       "<IPython.core.display.HTML object>"
      ]
     },
     "execution_count": 22,
     "metadata": {},
     "output_type": "execute_result"
    },
    {
     "name": "stdout",
     "output_type": "stream",
     "text": [
      "http://192.168.53.12:9001/view/results_logits_lens/logits_diff_heatmap_model-GPT2LMHeadModel_task-did2do-tense_sample-%20run-%20ran.html\n",
      "GPT2\n"
     ]
    },
    {
     "data": {
      "text/html": [
       "<iframe src=http://192.168.53.12:9001/view/results_logits_lens/logits_diff_heatmap_model-GPT2LMHeadModel_task-did2do-tense_sample-%20run-%20ran.html width=1000 height=1000></iframe>"
      ],
      "text/plain": [
       "<IPython.core.display.HTML object>"
      ]
     },
     "execution_count": 22,
     "metadata": {},
     "output_type": "execute_result"
    },
    {
     "name": "stdout",
     "output_type": "stream",
     "text": [
      "http://192.168.53.12:9001/view/results_logits_lens/logits_diff_heatmap_model-GPTJForCausalLM_task-did2do-tense_sample-%20run-%20ran.html\n",
      "GPTJ\n"
     ]
    },
    {
     "data": {
      "text/html": [
       "<iframe src=http://192.168.53.12:9001/view/results_logits_lens/logits_diff_heatmap_model-GPTJForCausalLM_task-did2do-tense_sample-%20run-%20ran.html width=1000 height=1000></iframe>"
      ],
      "text/plain": [
       "<IPython.core.display.HTML object>"
      ]
     },
     "execution_count": 22,
     "metadata": {},
     "output_type": "execute_result"
    },
    {
     "name": "stdout",
     "output_type": "stream",
     "text": [
      "http://192.168.53.12:9001/view/results_logits_lens/batch_logits_lens_model-GPT2LMHeadModel_task-do2did-tense.html\n"
     ]
    },
    {
     "data": {
      "text/html": [
       "<iframe src=http://192.168.53.12:9001/view/results_logits_lens/batch_logits_lens_model-GPT2LMHeadModel_task-do2did-tense.html width=1000 height=600></iframe>"
      ],
      "text/plain": [
       "<IPython.core.display.HTML object>"
      ]
     },
     "execution_count": 22,
     "metadata": {},
     "output_type": "execute_result"
    },
    {
     "name": "stdout",
     "output_type": "stream",
     "text": [
      "http://192.168.53.12:9001/view/results_logits_lens/batch_logits_lens_model-GPTJForCausalLM_task-do2did-tense.html\n"
     ]
    },
    {
     "data": {
      "text/html": [
       "<iframe src=http://192.168.53.12:9001/view/results_logits_lens/batch_logits_lens_model-GPTJForCausalLM_task-do2did-tense.html width=1000 height=600></iframe>"
      ],
      "text/plain": [
       "<IPython.core.display.HTML object>"
      ]
     },
     "execution_count": 22,
     "metadata": {},
     "output_type": "execute_result"
    },
    {
     "name": "stdout",
     "output_type": "stream",
     "text": [
      "http://192.168.53.12:9001/view/results_logits_lens/logits_diff_heatmap_model-GPT2LMHeadModel_task-do2did-tense_sample-%20ran-%20run.html\n",
      "GPT2\n"
     ]
    },
    {
     "data": {
      "text/html": [
       "<iframe src=http://192.168.53.12:9001/view/results_logits_lens/logits_diff_heatmap_model-GPT2LMHeadModel_task-do2did-tense_sample-%20ran-%20run.html width=1000 height=1000></iframe>"
      ],
      "text/plain": [
       "<IPython.core.display.HTML object>"
      ]
     },
     "execution_count": 22,
     "metadata": {},
     "output_type": "execute_result"
    },
    {
     "name": "stdout",
     "output_type": "stream",
     "text": [
      "http://192.168.53.12:9001/view/results_logits_lens/logits_diff_heatmap_model-GPTJForCausalLM_task-do2did-tense_sample-%20ran-%20run.html\n",
      "GPTJ\n"
     ]
    },
    {
     "data": {
      "text/html": [
       "<iframe src=http://192.168.53.12:9001/view/results_logits_lens/logits_diff_heatmap_model-GPTJForCausalLM_task-do2did-tense_sample-%20ran-%20run.html width=1000 height=1000></iframe>"
      ],
      "text/plain": [
       "<IPython.core.display.HTML object>"
      ]
     },
     "execution_count": 22,
     "metadata": {},
     "output_type": "execute_result"
    }
   ],
   "source": [
    "task_names2 = ['did2do-tense','do2did-tense']\n",
    "for task_name in task_names2:\n",
    "    task_paths = sorted([p for p in paths if task_name in p])\n",
    "    for p in task_paths:\n",
    "        display_html(p)"
   ]
  },
  {
   "cell_type": "code",
   "execution_count": 19,
   "id": "94a030b5",
   "metadata": {
    "collapsed": true
   },
   "outputs": [
    {
     "name": "stdout",
     "output_type": "stream",
     "text": [
      "http://192.168.53.12:9001/view/results_logits_lens/batch_logits_lens_model-GPT2LMHeadModel_task-do2did-day.html\n"
     ]
    },
    {
     "data": {
      "text/html": [
       "<iframe src=http://192.168.53.12:9001/view/results_logits_lens/batch_logits_lens_model-GPT2LMHeadModel_task-do2did-day.html width=1000 height=600></iframe>"
      ],
      "text/plain": [
       "<IPython.core.display.HTML object>"
      ]
     },
     "execution_count": 19,
     "metadata": {},
     "output_type": "execute_result"
    },
    {
     "name": "stdout",
     "output_type": "stream",
     "text": [
      "http://192.168.53.12:9001/view/results_logits_lens/batch_logits_lens_model-GPTJForCausalLM_task-do2did-day.html\n"
     ]
    },
    {
     "data": {
      "text/html": [
       "<iframe src=http://192.168.53.12:9001/view/results_logits_lens/batch_logits_lens_model-GPTJForCausalLM_task-do2did-day.html width=1000 height=600></iframe>"
      ],
      "text/plain": [
       "<IPython.core.display.HTML object>"
      ]
     },
     "execution_count": 19,
     "metadata": {},
     "output_type": "execute_result"
    },
    {
     "name": "stdout",
     "output_type": "stream",
     "text": [
      "http://192.168.53.12:9001/view/results_logits_lens/logits_diff_heatmap_model-GPT2LMHeadModel_task-do2did-day_sample-%20ran-%20run.html\n",
      "GPT2\n"
     ]
    },
    {
     "data": {
      "text/html": [
       "<iframe src=http://192.168.53.12:9001/view/results_logits_lens/logits_diff_heatmap_model-GPT2LMHeadModel_task-do2did-day_sample-%20ran-%20run.html width=1000 height=1000></iframe>"
      ],
      "text/plain": [
       "<IPython.core.display.HTML object>"
      ]
     },
     "execution_count": 19,
     "metadata": {},
     "output_type": "execute_result"
    },
    {
     "name": "stdout",
     "output_type": "stream",
     "text": [
      "http://192.168.53.12:9001/view/results_logits_lens/logits_diff_heatmap_model-GPTJForCausalLM_task-do2did-day_sample-%20ran-%20run.html\n",
      "GPTJ\n"
     ]
    },
    {
     "data": {
      "text/html": [
       "<iframe src=http://192.168.53.12:9001/view/results_logits_lens/logits_diff_heatmap_model-GPTJForCausalLM_task-do2did-day_sample-%20ran-%20run.html width=1000 height=1000></iframe>"
      ],
      "text/plain": [
       "<IPython.core.display.HTML object>"
      ]
     },
     "execution_count": 19,
     "metadata": {},
     "output_type": "execute_result"
    },
    {
     "name": "stdout",
     "output_type": "stream",
     "text": [
      "http://192.168.53.12:9001/view/results_logits_lens/batch_logits_lens_model-GPT2LMHeadModel_task-did2do-day.html\n"
     ]
    },
    {
     "data": {
      "text/html": [
       "<iframe src=http://192.168.53.12:9001/view/results_logits_lens/batch_logits_lens_model-GPT2LMHeadModel_task-did2do-day.html width=1000 height=600></iframe>"
      ],
      "text/plain": [
       "<IPython.core.display.HTML object>"
      ]
     },
     "execution_count": 19,
     "metadata": {},
     "output_type": "execute_result"
    },
    {
     "name": "stdout",
     "output_type": "stream",
     "text": [
      "http://192.168.53.12:9001/view/results_logits_lens/batch_logits_lens_model-GPTJForCausalLM_task-did2do-day.html\n"
     ]
    },
    {
     "data": {
      "text/html": [
       "<iframe src=http://192.168.53.12:9001/view/results_logits_lens/batch_logits_lens_model-GPTJForCausalLM_task-did2do-day.html width=1000 height=600></iframe>"
      ],
      "text/plain": [
       "<IPython.core.display.HTML object>"
      ]
     },
     "execution_count": 19,
     "metadata": {},
     "output_type": "execute_result"
    },
    {
     "name": "stdout",
     "output_type": "stream",
     "text": [
      "http://192.168.53.12:9001/view/results_logits_lens/logits_diff_heatmap_model-GPT2LMHeadModel_task-did2do-day_sample-%20run-%20ran.html\n",
      "GPT2\n"
     ]
    },
    {
     "data": {
      "text/html": [
       "<iframe src=http://192.168.53.12:9001/view/results_logits_lens/logits_diff_heatmap_model-GPT2LMHeadModel_task-did2do-day_sample-%20run-%20ran.html width=1000 height=1000></iframe>"
      ],
      "text/plain": [
       "<IPython.core.display.HTML object>"
      ]
     },
     "execution_count": 19,
     "metadata": {},
     "output_type": "execute_result"
    },
    {
     "name": "stdout",
     "output_type": "stream",
     "text": [
      "http://192.168.53.12:9001/view/results_logits_lens/logits_diff_heatmap_model-GPTJForCausalLM_task-did2do-day_sample-%20run-%20ran.html\n",
      "GPTJ\n"
     ]
    },
    {
     "data": {
      "text/html": [
       "<iframe src=http://192.168.53.12:9001/view/results_logits_lens/logits_diff_heatmap_model-GPTJForCausalLM_task-did2do-day_sample-%20run-%20ran.html width=1000 height=1000></iframe>"
      ],
      "text/plain": [
       "<IPython.core.display.HTML object>"
      ]
     },
     "execution_count": 19,
     "metadata": {},
     "output_type": "execute_result"
    }
   ],
   "source": [
    "task_names3 = ['do2did-day','did2do-day']\n",
    "for task_name in task_names3:\n",
    "    task_paths = sorted([p for p in paths if task_name in p])\n",
    "    for p in task_paths:\n",
    "        display_html(p)"
   ]
  },
  {
   "cell_type": "code",
   "execution_count": 17,
   "id": "3556b13c",
   "metadata": {
    "collapsed": true
   },
   "outputs": [
    {
     "name": "stdout",
     "output_type": "stream",
     "text": [
      "http://192.168.53.12:9001/view/results_logits_lens/batch_logits_lens_model-GPT2LMHeadModel_task-up2low-word.html\n"
     ]
    },
    {
     "data": {
      "text/html": [
       "<iframe src=http://192.168.53.12:9001/view/results_logits_lens/batch_logits_lens_model-GPT2LMHeadModel_task-up2low-word.html width=1000 height=600></iframe>"
      ],
      "text/plain": [
       "<IPython.core.display.HTML object>"
      ]
     },
     "execution_count": 17,
     "metadata": {},
     "output_type": "execute_result"
    },
    {
     "name": "stdout",
     "output_type": "stream",
     "text": [
      "http://192.168.53.12:9001/view/results_logits_lens/batch_logits_lens_model-GPTJForCausalLM_task-up2low-word.html\n"
     ]
    },
    {
     "data": {
      "text/html": [
       "<iframe src=http://192.168.53.12:9001/view/results_logits_lens/batch_logits_lens_model-GPTJForCausalLM_task-up2low-word.html width=1000 height=600></iframe>"
      ],
      "text/plain": [
       "<IPython.core.display.HTML object>"
      ]
     },
     "execution_count": 17,
     "metadata": {},
     "output_type": "execute_result"
    },
    {
     "name": "stdout",
     "output_type": "stream",
     "text": [
      "http://192.168.53.12:9001/view/results_logits_lens/logits_diff_heatmap_model-GPT2LMHeadModel_task-up2low-word_sample-%20laptop-%20L.html\n",
      "GPT2\n"
     ]
    },
    {
     "data": {
      "text/html": [
       "<iframe src=http://192.168.53.12:9001/view/results_logits_lens/logits_diff_heatmap_model-GPT2LMHeadModel_task-up2low-word_sample-%20laptop-%20L.html width=1000 height=1000></iframe>"
      ],
      "text/plain": [
       "<IPython.core.display.HTML object>"
      ]
     },
     "execution_count": 17,
     "metadata": {},
     "output_type": "execute_result"
    },
    {
     "name": "stdout",
     "output_type": "stream",
     "text": [
      "http://192.168.53.12:9001/view/results_logits_lens/logits_diff_heatmap_model-GPTJForCausalLM_task-up2low-word_sample-%20laptop-%20L.html\n",
      "GPTJ\n"
     ]
    },
    {
     "data": {
      "text/html": [
       "<iframe src=http://192.168.53.12:9001/view/results_logits_lens/logits_diff_heatmap_model-GPTJForCausalLM_task-up2low-word_sample-%20laptop-%20L.html width=1000 height=1000></iframe>"
      ],
      "text/plain": [
       "<IPython.core.display.HTML object>"
      ]
     },
     "execution_count": 17,
     "metadata": {},
     "output_type": "execute_result"
    },
    {
     "name": "stdout",
     "output_type": "stream",
     "text": [
      "http://192.168.53.12:9001/view/results_logits_lens/batch_logits_lens_model-GPT2LMHeadModel_task-low2up-word.html\n"
     ]
    },
    {
     "data": {
      "text/html": [
       "<iframe src=http://192.168.53.12:9001/view/results_logits_lens/batch_logits_lens_model-GPT2LMHeadModel_task-low2up-word.html width=1000 height=600></iframe>"
      ],
      "text/plain": [
       "<IPython.core.display.HTML object>"
      ]
     },
     "execution_count": 17,
     "metadata": {},
     "output_type": "execute_result"
    },
    {
     "name": "stdout",
     "output_type": "stream",
     "text": [
      "http://192.168.53.12:9001/view/results_logits_lens/batch_logits_lens_model-GPTJForCausalLM_task-low2up-word.html\n"
     ]
    },
    {
     "data": {
      "text/html": [
       "<iframe src=http://192.168.53.12:9001/view/results_logits_lens/batch_logits_lens_model-GPTJForCausalLM_task-low2up-word.html width=1000 height=600></iframe>"
      ],
      "text/plain": [
       "<IPython.core.display.HTML object>"
      ]
     },
     "execution_count": 17,
     "metadata": {},
     "output_type": "execute_result"
    },
    {
     "name": "stdout",
     "output_type": "stream",
     "text": [
      "http://192.168.53.12:9001/view/results_logits_lens/logits_diff_heatmap_model-GPT2LMHeadModel_task-low2up-word_sample-%20L-%20laptop.html\n",
      "GPT2\n"
     ]
    },
    {
     "data": {
      "text/html": [
       "<iframe src=http://192.168.53.12:9001/view/results_logits_lens/logits_diff_heatmap_model-GPT2LMHeadModel_task-low2up-word_sample-%20L-%20laptop.html width=1000 height=1000></iframe>"
      ],
      "text/plain": [
       "<IPython.core.display.HTML object>"
      ]
     },
     "execution_count": 17,
     "metadata": {},
     "output_type": "execute_result"
    },
    {
     "name": "stdout",
     "output_type": "stream",
     "text": [
      "http://192.168.53.12:9001/view/results_logits_lens/logits_diff_heatmap_model-GPTJForCausalLM_task-low2up-word_sample-%20L-%20laptop.html\n",
      "GPTJ\n"
     ]
    },
    {
     "data": {
      "text/html": [
       "<iframe src=http://192.168.53.12:9001/view/results_logits_lens/logits_diff_heatmap_model-GPTJForCausalLM_task-low2up-word_sample-%20L-%20laptop.html width=1000 height=1000></iframe>"
      ],
      "text/plain": [
       "<IPython.core.display.HTML object>"
      ]
     },
     "execution_count": 17,
     "metadata": {},
     "output_type": "execute_result"
    }
   ],
   "source": [
    "task_names4 = ['up2low-word','low2up-word']\n",
    "for task_name in task_names4:\n",
    "    task_paths = sorted([p for p in paths if task_name in p])\n",
    "    for p in task_paths:\n",
    "        display_html(p)"
   ]
  },
  {
   "cell_type": "code",
   "execution_count": 15,
   "id": "8f173945",
   "metadata": {
    "collapsed": true
   },
   "outputs": [
    {
     "name": "stdout",
     "output_type": "stream",
     "text": [
      "http://192.168.53.12:9001/view/results_logits_lens/batch_logits_lens_model-GPT2LMHeadModel_task-up2low-letter.html\n"
     ]
    },
    {
     "data": {
      "text/html": [
       "<iframe src=http://192.168.53.12:9001/view/results_logits_lens/batch_logits_lens_model-GPT2LMHeadModel_task-up2low-letter.html width=1000 height=600></iframe>"
      ],
      "text/plain": [
       "<IPython.core.display.HTML object>"
      ]
     },
     "execution_count": 15,
     "metadata": {},
     "output_type": "execute_result"
    },
    {
     "name": "stdout",
     "output_type": "stream",
     "text": [
      "http://192.168.53.12:9001/view/results_logits_lens/batch_logits_lens_model-GPTJForCausalLM_task-up2low-letter.html\n"
     ]
    },
    {
     "data": {
      "text/html": [
       "<iframe src=http://192.168.53.12:9001/view/results_logits_lens/batch_logits_lens_model-GPTJForCausalLM_task-up2low-letter.html width=1000 height=600></iframe>"
      ],
      "text/plain": [
       "<IPython.core.display.HTML object>"
      ]
     },
     "execution_count": 15,
     "metadata": {},
     "output_type": "execute_result"
    },
    {
     "name": "stdout",
     "output_type": "stream",
     "text": [
      "http://192.168.53.12:9001/view/results_logits_lens/logits_diff_heatmap_model-GPT2LMHeadModel_task-up2low-letter_sample-%20x-%20X.html\n",
      "GPT2\n"
     ]
    },
    {
     "data": {
      "text/html": [
       "<iframe src=http://192.168.53.12:9001/view/results_logits_lens/logits_diff_heatmap_model-GPT2LMHeadModel_task-up2low-letter_sample-%20x-%20X.html width=1000 height=1000></iframe>"
      ],
      "text/plain": [
       "<IPython.core.display.HTML object>"
      ]
     },
     "execution_count": 15,
     "metadata": {},
     "output_type": "execute_result"
    },
    {
     "name": "stdout",
     "output_type": "stream",
     "text": [
      "http://192.168.53.12:9001/view/results_logits_lens/logits_diff_heatmap_model-GPTJForCausalLM_task-up2low-letter_sample-%20x-%20X.html\n",
      "GPTJ\n"
     ]
    },
    {
     "data": {
      "text/html": [
       "<iframe src=http://192.168.53.12:9001/view/results_logits_lens/logits_diff_heatmap_model-GPTJForCausalLM_task-up2low-letter_sample-%20x-%20X.html width=1000 height=1000></iframe>"
      ],
      "text/plain": [
       "<IPython.core.display.HTML object>"
      ]
     },
     "execution_count": 15,
     "metadata": {},
     "output_type": "execute_result"
    },
    {
     "name": "stdout",
     "output_type": "stream",
     "text": [
      "http://192.168.53.12:9001/view/results_logits_lens/batch_logits_lens_model-GPT2LMHeadModel_task-low2up-letter.html\n"
     ]
    },
    {
     "data": {
      "text/html": [
       "<iframe src=http://192.168.53.12:9001/view/results_logits_lens/batch_logits_lens_model-GPT2LMHeadModel_task-low2up-letter.html width=1000 height=600></iframe>"
      ],
      "text/plain": [
       "<IPython.core.display.HTML object>"
      ]
     },
     "execution_count": 15,
     "metadata": {},
     "output_type": "execute_result"
    },
    {
     "name": "stdout",
     "output_type": "stream",
     "text": [
      "http://192.168.53.12:9001/view/results_logits_lens/batch_logits_lens_model-GPTJForCausalLM_task-low2up-letter.html\n"
     ]
    },
    {
     "data": {
      "text/html": [
       "<iframe src=http://192.168.53.12:9001/view/results_logits_lens/batch_logits_lens_model-GPTJForCausalLM_task-low2up-letter.html width=1000 height=600></iframe>"
      ],
      "text/plain": [
       "<IPython.core.display.HTML object>"
      ]
     },
     "execution_count": 15,
     "metadata": {},
     "output_type": "execute_result"
    },
    {
     "name": "stdout",
     "output_type": "stream",
     "text": [
      "http://192.168.53.12:9001/view/results_logits_lens/logits_diff_heatmap_model-GPT2LMHeadModel_task-low2up-letter_sample-%20X-%20x.html\n",
      "GPT2\n"
     ]
    },
    {
     "data": {
      "text/html": [
       "<iframe src=http://192.168.53.12:9001/view/results_logits_lens/logits_diff_heatmap_model-GPT2LMHeadModel_task-low2up-letter_sample-%20X-%20x.html width=1000 height=1000></iframe>"
      ],
      "text/plain": [
       "<IPython.core.display.HTML object>"
      ]
     },
     "execution_count": 15,
     "metadata": {},
     "output_type": "execute_result"
    },
    {
     "name": "stdout",
     "output_type": "stream",
     "text": [
      "http://192.168.53.12:9001/view/results_logits_lens/logits_diff_heatmap_model-GPTJForCausalLM_task-low2up-letter_sample-%20X-%20x.html\n",
      "GPTJ\n"
     ]
    },
    {
     "data": {
      "text/html": [
       "<iframe src=http://192.168.53.12:9001/view/results_logits_lens/logits_diff_heatmap_model-GPTJForCausalLM_task-low2up-letter_sample-%20X-%20x.html width=1000 height=1000></iframe>"
      ],
      "text/plain": [
       "<IPython.core.display.HTML object>"
      ]
     },
     "execution_count": 15,
     "metadata": {},
     "output_type": "execute_result"
    }
   ],
   "source": [
    "task_names5 = ['up2low-letter','low2up-letter']\n",
    "for task_name in task_names5:\n",
    "    task_paths = sorted([p for p in paths if task_name in p])\n",
    "    for p in task_paths:\n",
    "        display_html(p)"
   ]
  },
  {
   "cell_type": "code",
   "execution_count": null,
   "id": "105d8d11",
   "metadata": {},
   "outputs": [],
   "source": []
  }
 ],
 "metadata": {
  "kernelspec": {
   "display_name": "Python 3",
   "language": "python",
   "name": "python3"
  },
  "language_info": {
   "codemirror_mode": {
    "name": "ipython",
    "version": 3
   },
   "file_extension": ".py",
   "mimetype": "text/x-python",
   "name": "python",
   "nbconvert_exporter": "python",
   "pygments_lexer": "ipython3",
   "version": "3.7.11"
  }
 },
 "nbformat": 4,
 "nbformat_minor": 5
}
